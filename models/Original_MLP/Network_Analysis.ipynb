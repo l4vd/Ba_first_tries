{
 "cells": [
  {
   "cell_type": "code",
   "execution_count": 60,
   "id": "initial_id",
   "metadata": {
    "collapsed": true,
    "ExecuteTime": {
     "end_time": "2024-06-10T14:08:25.680329400Z",
     "start_time": "2024-06-10T14:08:23.019485100Z"
    }
   },
   "outputs": [],
   "source": [
    "import pandas as pd\n",
    "import numpy as np\n",
    "\n",
    "data = pd.read_csv(\"data_superstar_v1_0.csv\", delimiter=\",\")\n",
    "data['date'] = pd.to_datetime(data['release_date'])\n",
    "data.sort_values(by=\"date\", inplace=True)\n",
    "\n",
    "split_day = data[\"date\"].iloc[-1] - pd.DateOffset(years=1)\n",
    "data_train = data[(data[\"date\"] < split_day)].copy()"
   ]
  },
  {
   "cell_type": "code",
   "execution_count": null,
   "outputs": [],
   "source": [
    "import matplotlib.pyplot as plt\n",
    "\n",
    "# Number of columns in the DataFrame\n",
    "num_columns = len(data.columns)\n",
    "\n",
    "# Create subplots\n",
    "fig, axes = plt.subplots(nrows=num_columns, ncols=1, figsize=(8, 4*num_columns))\n",
    "\n",
    "# Plot bar plots for each column in subplots\n",
    "for i, column in enumerate(data.columns):\n",
    "    ax = axes[i] if num_columns > 1 else axes\n",
    "    value_counts = data[column].value_counts().sort_index()\n",
    "    value_counts.plot(kind='bar', ax=ax)\n",
    "    ax.set_title(f'Distribution of column {column}')\n",
    "    ax.set_xlabel('Value')\n",
    "    ax.set_ylabel('Number of Occurrences')\n",
    "    ax.grid(True)\n",
    "\n",
    "# Adjust layout\n",
    "plt.tight_layout()\n",
    "plt.show()          #this and boxplot to check which sup var is best"
   ],
   "metadata": {
    "collapsed": false,
    "is_executing": true,
    "ExecuteTime": {
     "start_time": "2024-06-10T14:08:25.699328Z"
    }
   },
   "id": "b24f054b25a34fef"
  },
  {
   "cell_type": "code",
   "execution_count": null,
   "outputs": [],
   "source": [
    "import matplotlib.pyplot as plt\n",
    "\n",
    "superstar_hits = data[(data['superstar_x'] == 1)]['hit'].sum()\n",
    "non_superstar_hits = data[data['superstar_x'] == 0]['hit'].sum()\n",
    "\n",
    "# Prepare data for the bar chart\n",
    "to_plot = [superstar_hits, non_superstar_hits]\n",
    "categories = ['Superstar', 'Non-Superstar']\n",
    "\n",
    "# Create the bar chart\n",
    "plt.figure(figsize=(8, 6))  # Adjust figure size as desired\n",
    "plt.bar(categories, to_plot, color=['gold', 'lightskyblue'])\n",
    "plt.xlabel('Superstar Status')\n",
    "plt.ylabel('Number of Hits')\n",
    "plt.title('Hits by Superstar Status')\n",
    "plt.xticks(rotation=0)  # Rotate x-axis labels for better readability\n",
    "plt.grid(axis='y', linestyle='--', alpha=0.7)  # Add grid lines\n",
    "\n",
    "# Display the chart\n",
    "plt.tight_layout()\n",
    "plt.show()"
   ],
   "metadata": {
    "collapsed": false,
    "is_executing": true
   },
   "id": "8cf78fbe5f5dc9b6"
  },
  {
   "cell_type": "code",
   "execution_count": null,
   "outputs": [],
   "source": [
    "import matplotlib.pyplot as plt\n",
    "\n",
    "# Filter data for superstars and non-superstars\n",
    "superstars = data[data['superstar_x'] == 1]\n",
    "non_superstars = data[data['superstar_x'] == 0]\n",
    "\n",
    "# Count hits and non-hits\n",
    "superstar_hits = superstars['hit'].sum()\n",
    "superstar_non_hits = len(superstars) - superstar_hits  # Assuming all rows have a value in 'hit'\n",
    "\n",
    "non_superstar_hits = non_superstars['hit'].sum()\n",
    "non_superstar_non_hits = len(non_superstars) - non_superstar_hits\n",
    "\n",
    "# Prepare data for the bar chart\n",
    "data = [superstar_hits, superstar_non_hits, non_superstar_hits, non_superstar_non_hits]\n",
    "categories = ['Superstar Hits', 'Superstar Non-Hits', 'Non-Superstar Hits', 'Non-Superstar Non-Hits']\n",
    "\n",
    "# Create the bar chart with adjusted width for better visibility\n",
    "plt.figure(figsize=(10, 6))  # Adjust figure size as desired\n",
    "plt.bar(categories, data, color=['gold', 'lightcoral', 'lightskyblue', 'lightblue'], width=0.4)\n",
    "plt.xlabel('Superstar Status & Hits')\n",
    "plt.ylabel('Number of Songs')\n",
    "plt.title('Hits and Non-Hits by Superstar Status')\n",
    "plt.xticks(rotation=15)  # Rotate x-axis labels slightly for better readability\n",
    "plt.grid(axis='y', linestyle='--', alpha=0.7)  # Add grid lines\n",
    "\n",
    "# Display the chart\n",
    "plt.tight_layout()\n",
    "plt.show()\n"
   ],
   "metadata": {
    "collapsed": false,
    "is_executing": true
   },
   "id": "f028c8a2a864f010"
  },
  {
   "cell_type": "code",
   "execution_count": null,
   "outputs": [],
   "source": [
    "# Filter data for superstars and non-superstars\n",
    "#superstars = data[data['superstar_x'] == 1]\n",
    "#non_superstars = data[data['superstar_x'] == 0]\n",
    "\n",
    "#print(superstars)\n",
    "\n",
    "# Count hits and non-hits\n",
    "superstar_hits = superstars['hit'].sum()\n",
    "superstar_non_hits = len(superstars) - superstar_hits  # Assuming all rows have a value in 'hit'\n",
    "\n",
    "non_superstar_hits = non_superstars['hit'].sum()\n",
    "non_superstar_non_hits = len(non_superstars) - non_superstar_hits\n",
    "\n",
    "print(superstar_hits)\n",
    "\n",
    "# Calculate total songs for each category\n",
    "total_superstar_songs = len(superstars)\n",
    "total_non_star_songs = len(non_superstars)\n",
    "\n",
    "# Prepare data for the pie chart (percentages)\n",
    "superstar_hit_pct = (superstar_hits / total_superstar_songs) * 100\n",
    "superstar_non_hit_pct = (superstar_non_hits / total_superstar_songs) * 100\n",
    "non_star_hit_pct = (non_superstar_hits / total_non_star_songs) * 100\n",
    "non_star_non_hit_pct = (non_superstar_non_hits / total_non_star_songs) * 100\n",
    "\n",
    "print(superstar_hit_pct)\n",
    "\n",
    "# Combine data into lists for the pie chart\n",
    "labels = ['Superstar Hits', 'Superstar Non-Hits', 'Non-Superstar Hits', 'Non-Superstar Non-Hits']\n",
    "sizes = [superstar_hit_pct, superstar_non_hit_pct, non_star_hit_pct, non_star_non_hit_pct]\n",
    "\n",
    "# Create the pie chart\n",
    "plt.figure(figsize=(8, 8))  # Adjust figure size as desired\n",
    "plt.pie(sizes, labels=labels, autopct=\"%1.1f%%\", startangle=90)  # Customize options\n",
    "plt.title('Distribution of Hits and Non-Hits by Superstar Status (Percentages)')\n",
    "plt.axis('equal')  # Equal aspect ratio for a circular pie chart\n",
    "\n",
    "# Display the chart\n",
    "plt.tight_layout()\n",
    "plt.show()"
   ],
   "metadata": {
    "collapsed": false,
    "is_executing": true
   },
   "id": "f4be8f80ad3d6169"
  },
  {
   "cell_type": "code",
   "execution_count": null,
   "outputs": [],
   "source": [
    "# Count hits and non-hits\n",
    "superstar_hits = superstars['hit'].sum()\n",
    "superstar_non_hits = len(superstars) - superstar_hits  # Assuming all rows have a value in 'hit'\n",
    "\n",
    "non_superstar_hits = non_superstars['hit'].sum()\n",
    "non_superstar_non_hits = len(non_superstars) - non_superstar_hits\n",
    "\n",
    "# Prepare data for superstar pie chart\n",
    "superstar_labels = ['Superstar Hits', 'Superstar Non-Hits']\n",
    "superstar_sizes = [superstar_hits, superstar_non_hits]\n",
    "\n",
    "# Prepare data for non-superstar pie chart\n",
    "non_star_labels = ['Non-Superstar Hits', 'Non-Superstar Non-Hits']\n",
    "non_star_sizes = [non_superstar_hits, non_superstar_non_hits]\n",
    "\n",
    "startangle = 140\n",
    "\n",
    "fig, (ax1, ax2) = plt.subplots(1, 2, figsize=(12, 6))  # Adjust figure size as desired\n",
    "\n",
    "# Create the pie chart for superstars\n",
    "ax1.pie(superstar_sizes, labels=superstar_labels, autopct=\"%1.1f%%\", startangle=140)\n",
    "ax1.set_title('Superstar Hits Distribution (Percentages)')\n",
    "ax1.axis('equal')  # Equal aspect ratio for a circular pie chart\n",
    "\n",
    "# Create the pie chart for non-superstars\n",
    "ax2.pie(non_star_sizes, labels=non_star_labels, autopct=\"%1.1f%%\", startangle=140)\n",
    "ax2.set_title('Non-Superstar Hits Distribution (Percentages)')\n",
    "ax2.axis('equal')  # Equal aspect ratio for a circular pie chart\n",
    "\n",
    "\n",
    "\n",
    "# Display the chart\n",
    "plt.tight_layout()\n",
    "plt.show()"
   ],
   "metadata": {
    "collapsed": false,
    "is_executing": true
   },
   "id": "3288f28442b5cf1"
  },
  {
   "cell_type": "code",
   "execution_count": null,
   "outputs": [],
   "source": [
    "columns = [\"hit\", 'explicit', 'num_available_markets',\n",
    "            'instrumentalness', 'loudness', 'years_on_charts', \"superstar_x\"] \n",
    "            #\"hits_in_past_x\", \"success_rate_x\", \"superstar_x\", \"superstar_v5_x\",\"superstar_v4_x\",\"superstar_v3_x\",\"superstar_v2_x\",\"superstar_v1_x\"] \n",
    "             #\"hits_in_past_y\", \"success_rate_y\", \"superstar_y\", \"superstar_v5_y\",\"superstar_v4_y\",\"superstar_v3_y\",\"superstar_v2_y\",\"superstar_v1_y\"]#\"pagerank_x\", \"pagerank_y\", \"success_rate_x\", \"success_rate_y\", \"hits_in_past_x\", \"hits_in_past_y\"]#, \"superstar_v5_x\",\"superstar_v4_x\",\"superstar_v3_x\",\"superstar_v2_x\",\"superstar_v1_x\", \"superstar_v5_y\"]\n",
    "#columns = [\"hit\", \"pagerank_x\", \"pagerank_y\"]#\"degree_x\", \"weighted degree_x\", \"eccentricity_x\", \"closnesscentrality_x\", \"clustering_x\", \"betweenesscentrality_x\", \"eigencentrality_x\",\"degree_y\", \"weighted degree_y\", \"eccentricity_y\", \"closnesscentrality_y\", \"clustering_y\", \"betweenesscentrality_y\", \"eigencentrality_y\"]"
   ],
   "metadata": {
    "collapsed": false,
    "is_executing": true
   },
   "id": "4d715f9c2d918e1e"
  },
  {
   "cell_type": "code",
   "execution_count": null,
   "outputs": [],
   "source": [
    "import numpy as np\n",
    "import seaborn as sns\n",
    "import matplotlib.pyplot as plt\n",
    "\n",
    "# Assume `data` is your DataFrame and `columns` is the list of columns you want to consider\n",
    "correlation_matrix = data_train[columns].corr()\n",
    "\n",
    "# Print the correlation matrix\n",
    "print(\"Correlation Matrix:\")\n",
    "print(correlation_matrix)\n",
    "\n",
    "# Create a mask for the upper triangle\n",
    "mask = np.triu(np.ones_like(correlation_matrix, dtype=bool))\n",
    "identity_matrix = np.identity(mask.shape[0])\n",
    "real_mask = mask-identity_matrix\n",
    "real_mask = real_mask.astype(dtype=bool)\n",
    "\n",
    "# Plot the correlation matrix with the mask\n",
    "plt.figure(figsize=(10, 8))\n",
    "sns.heatmap(correlation_matrix, mask=real_mask, annot=True, cmap='coolwarm', vmin=-1, vmax=1)\n",
    "plt.title('Pearson Correlation Matrix (Lower Left Half)')\n",
    "plt.show()"
   ],
   "metadata": {
    "collapsed": false,
    "is_executing": true
   },
   "id": "ec301edef8d00eba"
  },
  {
   "cell_type": "code",
   "execution_count": null,
   "outputs": [],
   "source": [
    "correlation_matrix = data_train[columns].corr(method=\"spearman\")\n",
    "\n",
    "# Print the correlation matrix\n",
    "print(\"Correlation Matrix:\")\n",
    "print(correlation_matrix)\n",
    "\n",
    "# Create a mask for the upper triangle\n",
    "mask = np.triu(np.ones_like(correlation_matrix, dtype=bool))\n",
    "identity_matrix = np.identity(mask.shape[0])\n",
    "real_mask = mask-identity_matrix\n",
    "real_mask = real_mask.astype(dtype=bool)\n",
    "\n",
    "# Plot the correlation matrix with the mask\n",
    "plt.figure(figsize=(10, 8))\n",
    "sns.heatmap(correlation_matrix, mask=real_mask, annot=True, cmap='coolwarm', vmin=-1, vmax=1)\n",
    "plt.title('Spearman Correlation Matrix (Lower Left Half)')\n",
    "plt.show()"
   ],
   "metadata": {
    "collapsed": false,
    "is_executing": true
   },
   "id": "6ec69ba693e92a12"
  },
  {
   "cell_type": "markdown",
   "source": [
    "why is pagerank_x negatively correlated???\n",
    "maybe because less successfullartists with hit artist coop?"
   ],
   "metadata": {
    "collapsed": false
   },
   "id": "301e1b4b77f578a1"
  },
  {
   "cell_type": "code",
   "execution_count": null,
   "outputs": [],
   "source": [
    "df_one_hot = pd.get_dummies(data_train, columns=['Cluster_x', \"Cluster_y\"], drop_first=True)\n",
    "df_one_hot"
   ],
   "metadata": {
    "collapsed": false,
    "is_executing": true
   },
   "id": "b45e0c9e79abe74e"
  },
  {
   "cell_type": "code",
   "execution_count": null,
   "outputs": [],
   "source": [
    "one_hot_columns = [col for col in df_one_hot.columns if col not in data_train.columns]"
   ],
   "metadata": {
    "collapsed": false,
    "is_executing": true
   },
   "id": "ef38e0399a5d2f03"
  },
  {
   "cell_type": "code",
   "execution_count": null,
   "outputs": [],
   "source": [
    "#columns.extend(one_hot_columns)\n",
    "columns = [\"hit\"]\n",
    "columns.extend(one_hot_columns)"
   ],
   "metadata": {
    "collapsed": false,
    "is_executing": true
   },
   "id": "a74a5c91af7d7696"
  },
  {
   "cell_type": "code",
   "execution_count": null,
   "outputs": [],
   "source": [
    "# Assume `data` is your DataFrame and `columns` is the list of columns you want to consider\n",
    "correlation_matrix = df_one_hot[columns].corr()\n",
    "\n",
    "# Print the correlation matrix\n",
    "print(\"Correlation Matrix:\")\n",
    "print(correlation_matrix)\n",
    "\n",
    "# Create a mask for the upper triangle\n",
    "mask = np.triu(np.ones_like(correlation_matrix, dtype=bool))\n",
    "identity_matrix = np.identity(mask.shape[0])\n",
    "real_mask = mask-identity_matrix\n",
    "real_mask = real_mask.astype(dtype=bool)\n",
    "\n",
    "# Plot the correlation matrix with the mask\n",
    "plt.figure(figsize=(20, 16))\n",
    "sns.heatmap(correlation_matrix, mask=real_mask, annot=True, cmap='coolwarm', vmin=-1, vmax=1)\n",
    "plt.title('Pearson Correlation Matrix (Lower Left Half)')\n",
    "plt.show()"
   ],
   "metadata": {
    "collapsed": false,
    "is_executing": true
   },
   "id": "1be83924a4684475"
  },
  {
   "cell_type": "code",
   "execution_count": null,
   "outputs": [],
   "source": [
    "correlation_matrix = df_one_hot[columns].corr(method=\"spearman\")\n",
    "\n",
    "# Print the correlation matrix\n",
    "print(\"Correlation Matrix:\")\n",
    "print(correlation_matrix)\n",
    "\n",
    "# Create a mask for the upper triangle\n",
    "mask = np.triu(np.ones_like(correlation_matrix, dtype=bool))\n",
    "identity_matrix = np.identity(mask.shape[0])\n",
    "real_mask = mask-identity_matrix\n",
    "real_mask = real_mask.astype(dtype=bool)\n",
    "\n",
    "# Plot the correlation matrix with the mask\n",
    "plt.figure(figsize=(10, 8))\n",
    "sns.heatmap(correlation_matrix, mask=real_mask, annot=True, cmap='coolwarm', vmin=-1, vmax=1)\n",
    "plt.title('Spearman Correlation Matrix (Lower Left Half)')\n",
    "plt.show()"
   ],
   "metadata": {
    "collapsed": false,
    "is_executing": true
   },
   "id": "ce890aae98445b0f"
  },
  {
   "cell_type": "markdown",
   "source": [
    "plot amount hit songs and successrate of artist by clusters and pagerank as well as superstar var."
   ],
   "metadata": {
    "collapsed": false
   },
   "id": "415cc760f23acbea"
  },
  {
   "cell_type": "markdown",
   "source": [
    "## explain on Example of Taylor swift"
   ],
   "metadata": {
    "collapsed": false
   },
   "id": "1f008b39cf7e1541"
  },
  {
   "cell_type": "code",
   "execution_count": null,
   "outputs": [],
   "source": [
    "swift_id = '06HL4z0CvFAxyc27GXpf02'"
   ],
   "metadata": {
    "collapsed": false,
    "is_executing": true
   },
   "id": "fa96768f12a6f0c9"
  },
  {
   "cell_type": "code",
   "execution_count": null,
   "outputs": [],
   "source": [
    "swift_songs = data_train[(data_train[\"artist1_id\"] == swift_id) | (data_train[\"artist2_id\"] == swift_id)]\n",
    "swift_songs"
   ],
   "metadata": {
    "collapsed": false,
    "is_executing": true
   },
   "id": "d8b307ee7baaf0ed"
  },
  {
   "cell_type": "markdown",
   "source": [
    "Taylor Swift's is part of Cluster 1 "
   ],
   "metadata": {
    "collapsed": false
   },
   "id": "d85cfe09b7e6a829"
  },
  {
   "cell_type": "code",
   "execution_count": null,
   "outputs": [],
   "source": [
    "swift_songs[\"num_artists\"].value_counts()"
   ],
   "metadata": {
    "collapsed": false,
    "is_executing": true
   },
   "id": "d85855dfb18ab5dd"
  },
  {
   "cell_type": "code",
   "execution_count": null,
   "outputs": [],
   "source": [
    "swift_songs[\"hit\"].value_counts()"
   ],
   "metadata": {
    "collapsed": false,
    "is_executing": true
   },
   "id": "20d0d52375ba339c"
  },
  {
   "cell_type": "markdown",
   "source": [
    "alan walker"
   ],
   "metadata": {
    "collapsed": false
   },
   "id": "63886906b0538a63"
  },
  {
   "cell_type": "code",
   "execution_count": null,
   "outputs": [],
   "source": [
    "walker_id = '7vk5e3vY1uw9plTHJAMwjN'\n",
    "walker_songs = data_train[(data_train[\"artist1_id\"] == walker_id) | (data_train[\"artist2_id\"] == walker_id)]\n",
    "walker_songs"
   ],
   "metadata": {
    "collapsed": false,
    "is_executing": true
   },
   "id": "5ff4ad32f828ac13"
  },
  {
   "cell_type": "code",
   "execution_count": null,
   "outputs": [],
   "source": [
    "walker_songs[\"num_artists\"].value_counts()"
   ],
   "metadata": {
    "collapsed": false,
    "is_executing": true
   },
   "id": "975412508cb7dd3b"
  },
  {
   "cell_type": "code",
   "execution_count": null,
   "outputs": [],
   "source": [
    "walker_songs[\"hit\"].value_counts()"
   ],
   "metadata": {
    "collapsed": false,
    "is_executing": true
   },
   "id": "97454521946384"
  },
  {
   "cell_type": "markdown",
   "source": [
    "get one of the most successfull artists:\n"
   ],
   "metadata": {
    "collapsed": false
   },
   "id": "207abdb0223d5e3d"
  },
  {
   "cell_type": "code",
   "execution_count": null,
   "outputs": [],
   "source": [
    "data_train.sort_values(by=\"hits_in_past_x\", ascending=False)"
   ],
   "metadata": {
    "collapsed": false,
    "is_executing": true
   },
   "id": "29d2ea820efe643d"
  },
  {
   "cell_type": "markdown",
   "source": [
    "since gleecast is not really one artist we chose to use drake instead:"
   ],
   "metadata": {
    "collapsed": false
   },
   "id": "3ff40c4786d1f0cd"
  },
  {
   "cell_type": "code",
   "execution_count": null,
   "outputs": [],
   "source": [
    "drake_id = '3TVXtAsR1Inumwj472S9r4'\n",
    "drake_songs = data_train[(data_train[\"artist1_id\"] == drake_id) | (data_train[\"artist2_id\"] == drake_id)]\n",
    "drake_songs"
   ],
   "metadata": {
    "collapsed": false,
    "is_executing": true
   },
   "id": "5b568cbcf0942e67"
  },
  {
   "cell_type": "code",
   "execution_count": null,
   "outputs": [],
   "source": [
    "drake_songs[\"num_artists\"].value_counts()"
   ],
   "metadata": {
    "collapsed": false,
    "is_executing": true
   },
   "id": "9277cb7ea4be1533"
  },
  {
   "cell_type": "markdown",
   "source": [
    "almost half of the songs were collaborations"
   ],
   "metadata": {
    "collapsed": false
   },
   "id": "d2cd51c5f8af0163"
  },
  {
   "cell_type": "code",
   "execution_count": null,
   "outputs": [],
   "source": [
    "drake_songs[\"hit\"].value_counts()"
   ],
   "metadata": {
    "collapsed": false,
    "is_executing": true
   },
   "id": "c10d745366ae8939"
  },
  {
   "cell_type": "code",
   "execution_count": null,
   "outputs": [],
   "source": [
    "drake_hits = drake_songs[drake_songs[\"hit\"] == 1.0]\n",
    "drake_hits"
   ],
   "metadata": {
    "collapsed": false,
    "is_executing": true
   },
   "id": "65e33266b3e47cf9"
  },
  {
   "cell_type": "code",
   "execution_count": null,
   "outputs": [],
   "source": [
    "drake_hits[\"num_artists\"].value_counts()"
   ],
   "metadata": {
    "collapsed": false,
    "is_executing": true
   },
   "id": "72b48d318feabc91"
  },
  {
   "cell_type": "markdown",
   "source": [
    "of these x songs y are collabs"
   ],
   "metadata": {
    "collapsed": false
   },
   "id": "72fe146160757509"
  },
  {
   "cell_type": "code",
   "execution_count": null,
   "outputs": [],
   "source": [
    "drake_collab = drake_songs[drake_songs[\"num_artists\"] >= 2.0]\n",
    "drake_collab"
   ],
   "metadata": {
    "collapsed": false,
    "is_executing": true
   },
   "id": "ae0d7ca2a7c13bf0"
  },
  {
   "cell_type": "code",
   "execution_count": null,
   "outputs": [],
   "source": [
    "drake_collab[\"hit\"].value_counts()"
   ],
   "metadata": {
    "collapsed": false,
    "is_executing": true
   },
   "id": "ae3f5c007df5c473"
  },
  {
   "cell_type": "markdown",
   "source": [
    "% of hit songs are collab.."
   ],
   "metadata": {
    "collapsed": false
   },
   "id": "b74aecb5df8a75fd"
  },
  {
   "cell_type": "markdown",
   "source": [
    "get better Artist find those with biggest pagerank"
   ],
   "metadata": {
    "collapsed": false
   },
   "id": "afe483085f7f1671"
  }
 ],
 "metadata": {
  "kernelspec": {
   "display_name": "Python 3",
   "language": "python",
   "name": "python3"
  },
  "language_info": {
   "codemirror_mode": {
    "name": "ipython",
    "version": 2
   },
   "file_extension": ".py",
   "mimetype": "text/x-python",
   "name": "python",
   "nbconvert_exporter": "python",
   "pygments_lexer": "ipython2",
   "version": "2.7.6"
  }
 },
 "nbformat": 4,
 "nbformat_minor": 5
}
