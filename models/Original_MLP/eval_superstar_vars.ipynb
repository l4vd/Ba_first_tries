{
 "cells": [
  {
   "cell_type": "code",
   "execution_count": 1,
   "outputs": [
    {
     "data": {
      "text/plain": "   Filename                                           Features  Accuracy  \\\n0         0  ['explicit', 'track_number', 'num_artists', 'n...  0.973548   \n0         1  ['explicit', 'track_number', 'num_artists', 'n...  0.977198   \n0         2  ['explicit', 'track_number', 'num_artists', 'n...  0.989770   \n0         3  ['explicit', 'track_number', 'num_artists', 'n...  0.978968   \n0         4  ['explicit', 'track_number', 'num_artists', 'n...  0.982728   \n..      ...                                                ...       ...   \n0        59  ['explicit', 'track_number', 'num_artists', 'n...  0.984995   \n0        60  ['explicit', 'track_number', 'num_artists', 'n...  0.973512   \n0        61  ['explicit', 'track_number', 'num_artists', 'n...  0.960424   \n0        62  ['explicit', 'track_number', 'num_artists', 'n...  0.970710   \n0        63  ['explicit', 'track_number', 'num_artists', 'n...  0.988737   \n\n    Precision    Recall  F1-Score   ROC AUC  Weighted Accuracy  \\\n0    0.257527  0.898687  0.400334  0.973684           0.964243   \n0    0.290725  0.917448  0.441535  0.981128           0.967821   \n0    0.488911  0.909944  0.636066  0.982975           0.980146   \n0    0.308081  0.915572  0.461030  0.980275           0.969556   \n0    0.353411  0.913696  0.509681  0.978375           0.973243   \n..        ...       ...       ...       ...                ...   \n0    0.386602  0.898687  0.540632  0.975779           0.975465   \n0    0.258805  0.909944  0.402991  0.976954           0.964207   \n0    0.187209  0.906191  0.310312  0.974459           0.951377   \n0    0.241176  0.923077  0.382433  0.977503           0.961460   \n0    0.462209  0.894934  0.609585  0.972271           0.979134   \n\n    Macro F1 Score     TN    FP  FN   TP  \n0         0.693405  52336  1381  54  479  \n0         0.714948  52524  1193  44  489  \n0         0.815439  53210   507  48  485  \n0         0.725152  52621  1096  45  488  \n0         0.750445  52826   891  46  487  \n..             ...    ...   ...  ..  ...  \n0         0.766503  52957   760  54  479  \n0         0.694723  52328  1389  48  485  \n0         0.644970  51620  2097  50  483  \n0         0.683716  52169  1548  41  492  \n0         0.801935  53162   555  56  477  \n\n[64 rows x 13 columns]",
      "text/html": "<div>\n<style scoped>\n    .dataframe tbody tr th:only-of-type {\n        vertical-align: middle;\n    }\n\n    .dataframe tbody tr th {\n        vertical-align: top;\n    }\n\n    .dataframe thead th {\n        text-align: right;\n    }\n</style>\n<table border=\"1\" class=\"dataframe\">\n  <thead>\n    <tr style=\"text-align: right;\">\n      <th></th>\n      <th>Filename</th>\n      <th>Features</th>\n      <th>Accuracy</th>\n      <th>Precision</th>\n      <th>Recall</th>\n      <th>F1-Score</th>\n      <th>ROC AUC</th>\n      <th>Weighted Accuracy</th>\n      <th>Macro F1 Score</th>\n      <th>TN</th>\n      <th>FP</th>\n      <th>FN</th>\n      <th>TP</th>\n    </tr>\n  </thead>\n  <tbody>\n    <tr>\n      <th>0</th>\n      <td>0</td>\n      <td>['explicit', 'track_number', 'num_artists', 'n...</td>\n      <td>0.973548</td>\n      <td>0.257527</td>\n      <td>0.898687</td>\n      <td>0.400334</td>\n      <td>0.973684</td>\n      <td>0.964243</td>\n      <td>0.693405</td>\n      <td>52336</td>\n      <td>1381</td>\n      <td>54</td>\n      <td>479</td>\n    </tr>\n    <tr>\n      <th>0</th>\n      <td>1</td>\n      <td>['explicit', 'track_number', 'num_artists', 'n...</td>\n      <td>0.977198</td>\n      <td>0.290725</td>\n      <td>0.917448</td>\n      <td>0.441535</td>\n      <td>0.981128</td>\n      <td>0.967821</td>\n      <td>0.714948</td>\n      <td>52524</td>\n      <td>1193</td>\n      <td>44</td>\n      <td>489</td>\n    </tr>\n    <tr>\n      <th>0</th>\n      <td>2</td>\n      <td>['explicit', 'track_number', 'num_artists', 'n...</td>\n      <td>0.989770</td>\n      <td>0.488911</td>\n      <td>0.909944</td>\n      <td>0.636066</td>\n      <td>0.982975</td>\n      <td>0.980146</td>\n      <td>0.815439</td>\n      <td>53210</td>\n      <td>507</td>\n      <td>48</td>\n      <td>485</td>\n    </tr>\n    <tr>\n      <th>0</th>\n      <td>3</td>\n      <td>['explicit', 'track_number', 'num_artists', 'n...</td>\n      <td>0.978968</td>\n      <td>0.308081</td>\n      <td>0.915572</td>\n      <td>0.461030</td>\n      <td>0.980275</td>\n      <td>0.969556</td>\n      <td>0.725152</td>\n      <td>52621</td>\n      <td>1096</td>\n      <td>45</td>\n      <td>488</td>\n    </tr>\n    <tr>\n      <th>0</th>\n      <td>4</td>\n      <td>['explicit', 'track_number', 'num_artists', 'n...</td>\n      <td>0.982728</td>\n      <td>0.353411</td>\n      <td>0.913696</td>\n      <td>0.509681</td>\n      <td>0.978375</td>\n      <td>0.973243</td>\n      <td>0.750445</td>\n      <td>52826</td>\n      <td>891</td>\n      <td>46</td>\n      <td>487</td>\n    </tr>\n    <tr>\n      <th>...</th>\n      <td>...</td>\n      <td>...</td>\n      <td>...</td>\n      <td>...</td>\n      <td>...</td>\n      <td>...</td>\n      <td>...</td>\n      <td>...</td>\n      <td>...</td>\n      <td>...</td>\n      <td>...</td>\n      <td>...</td>\n      <td>...</td>\n    </tr>\n    <tr>\n      <th>0</th>\n      <td>59</td>\n      <td>['explicit', 'track_number', 'num_artists', 'n...</td>\n      <td>0.984995</td>\n      <td>0.386602</td>\n      <td>0.898687</td>\n      <td>0.540632</td>\n      <td>0.975779</td>\n      <td>0.975465</td>\n      <td>0.766503</td>\n      <td>52957</td>\n      <td>760</td>\n      <td>54</td>\n      <td>479</td>\n    </tr>\n    <tr>\n      <th>0</th>\n      <td>60</td>\n      <td>['explicit', 'track_number', 'num_artists', 'n...</td>\n      <td>0.973512</td>\n      <td>0.258805</td>\n      <td>0.909944</td>\n      <td>0.402991</td>\n      <td>0.976954</td>\n      <td>0.964207</td>\n      <td>0.694723</td>\n      <td>52328</td>\n      <td>1389</td>\n      <td>48</td>\n      <td>485</td>\n    </tr>\n    <tr>\n      <th>0</th>\n      <td>61</td>\n      <td>['explicit', 'track_number', 'num_artists', 'n...</td>\n      <td>0.960424</td>\n      <td>0.187209</td>\n      <td>0.906191</td>\n      <td>0.310312</td>\n      <td>0.974459</td>\n      <td>0.951377</td>\n      <td>0.644970</td>\n      <td>51620</td>\n      <td>2097</td>\n      <td>50</td>\n      <td>483</td>\n    </tr>\n    <tr>\n      <th>0</th>\n      <td>62</td>\n      <td>['explicit', 'track_number', 'num_artists', 'n...</td>\n      <td>0.970710</td>\n      <td>0.241176</td>\n      <td>0.923077</td>\n      <td>0.382433</td>\n      <td>0.977503</td>\n      <td>0.961460</td>\n      <td>0.683716</td>\n      <td>52169</td>\n      <td>1548</td>\n      <td>41</td>\n      <td>492</td>\n    </tr>\n    <tr>\n      <th>0</th>\n      <td>63</td>\n      <td>['explicit', 'track_number', 'num_artists', 'n...</td>\n      <td>0.988737</td>\n      <td>0.462209</td>\n      <td>0.894934</td>\n      <td>0.609585</td>\n      <td>0.972271</td>\n      <td>0.979134</td>\n      <td>0.801935</td>\n      <td>53162</td>\n      <td>555</td>\n      <td>56</td>\n      <td>477</td>\n    </tr>\n  </tbody>\n</table>\n<p>64 rows × 13 columns</p>\n</div>"
     },
     "execution_count": 1,
     "metadata": {},
     "output_type": "execute_result"
    }
   ],
   "source": [
    "import re\n",
    "import pandas as pd\n",
    "\n",
    "superstar_var_df = pd.DataFrame(columns=['Filename', 'Features', 'Accuracy', 'Precision', 'Recall', 'F1-Score', 'ROC AUC', 'Weighted Accuracy', 'Macro F1 Score'])\n",
    "\n",
    "for filename in range(64):\n",
    "    important_values = {}\n",
    "    \n",
    "    important_values[\"Filename\"] = filename\n",
    "    ##the following excerpt was generated by chat gpt\n",
    "    with open(f\"{filename}.txt\", \"r\") as file:\n",
    "        lines = file.readlines()\n",
    "        for index, line in enumerate(lines):\n",
    "            # Extracting feature names\n",
    "            if line.startswith(\"Index\"):\n",
    "                #not gen start\n",
    "                features = line\n",
    "                count = 1\n",
    "                while True:\n",
    "                    features = features + lines[index+count]\n",
    "                    if \"]\" in lines[index+count]: \n",
    "                        break\n",
    "                    count += 1\n",
    "                features = features.replace(\"Index(\", \"\")\n",
    "                features = features[:-2]\n",
    "                important_values[\"Features\"] = features\n",
    "                #not gen end\n",
    "    \n",
    "            # Extracting accuracy\n",
    "            if line.startswith(\"Accuracy\"):\n",
    "                accuracy = float(line.split(\":\")[1])\n",
    "                important_values[\"Accuracy\"] = accuracy\n",
    "    \n",
    "            # Extracting confusion matrix values\n",
    "            if \"True Negatives\" in line:\n",
    "                #not gen start\n",
    "                important_values[\"TN\"] = lines[index].replace(\"True Negatives (TN):\", \"\").replace(\"\\n\", \"\")\n",
    "                important_values[\"FP\"] = lines[index+1].replace(\"False Positives (FP):\", \"\").replace(\"\\n\", \"\")\n",
    "                important_values[\"FN\"] = lines[index+2].replace(\"False Negatives (FN):\", \"\").replace(\"\\n\", \"\")\n",
    "                important_values[\"TP\"] = lines[index+3].replace(\"True Positives (TP):\", \"\").replace(\"\\n\", \"\")\n",
    "                #not gen end\n",
    "    \n",
    "            # Extracting precision, recall, and F1-score\n",
    "            if \"Precision\" in line:\n",
    "                precision = float(re.search(r\"\\d+\\.\\d+\", line).group())\n",
    "                recall = float(re.search(r\"\\d+\\.\\d+\", lines[lines.index(line) + 1]).group())\n",
    "                f1_score = float(re.search(r\"\\d+\\.\\d+\", lines[lines.index(line) + 2]).group())\n",
    "                important_values[\"Precision\"] = precision\n",
    "                important_values[\"Recall\"] = recall\n",
    "                important_values[\"F1-Score\"] = f1_score\n",
    "    \n",
    "            # Extracting ROC AUC\n",
    "            if \"ROC AUC\" in line:\n",
    "                roc_auc = float(re.search(r\"\\d+\\.\\d+\", line).group())\n",
    "                important_values[\"ROC AUC\"] = roc_auc\n",
    "    \n",
    "            # Extracting weighted accuracy\n",
    "            if \"Weighted Accuracy\" in line:\n",
    "                weighted_accuracy = float(re.search(r\"\\d+\\.\\d+\", line).group())\n",
    "                important_values[\"Weighted Accuracy\"] = weighted_accuracy\n",
    "    \n",
    "            # Extracting macro F1 score\n",
    "            if \"Macro F1 Score\" in line:\n",
    "                macro_f1_score = float(re.search(r\"\\d+\\.\\d+\", line).group())\n",
    "                important_values[\"Macro F1 Score\"] = macro_f1_score\n",
    "    ##end of the generated\n",
    "    \n",
    "    # Convert dictionary to DataFrame\n",
    "    df = pd.DataFrame([important_values])\n",
    "    superstar_var_df = pd.concat([superstar_var_df, df], axis=0)\n",
    "\n",
    "superstar_var_df"
   ],
   "metadata": {
    "collapsed": false,
    "ExecuteTime": {
     "end_time": "2024-05-22T12:15:02.075226800Z",
     "start_time": "2024-05-22T12:15:01.582234900Z"
    }
   },
   "id": "30cc0730e62d50bf"
  },
  {
   "cell_type": "code",
   "execution_count": 2,
   "outputs": [
    {
     "data": {
      "text/plain": "  Filename                                           Features  Accuracy  \\\n0       23  ['explicit', 'track_number', 'num_artists', 'n...  0.990783   \n0       13  ['explicit', 'track_number', 'num_artists', 'n...  0.990636   \n0       55  ['explicit', 'track_number', 'num_artists', 'n...  0.990433   \n0       28  ['explicit', 'track_number', 'num_artists', 'n...  0.990359   \n0       52  ['explicit', 'track_number', 'num_artists', 'n...  0.990304   \n0        2  ['explicit', 'track_number', 'num_artists', 'n...  0.989770   \n0       11  ['explicit', 'track_number', 'num_artists', 'n...  0.989290   \n0       63  ['explicit', 'track_number', 'num_artists', 'n...  0.988737   \n0       56  ['explicit', 'track_number', 'num_artists', 'n...  0.988369   \n0       15  ['explicit', 'track_number', 'num_artists', 'n...  0.988074   \n\n   Precision    Recall  F1-Score   ROC AUC  Weighted Accuracy  Macro F1 Score  \\\n0   0.517799  0.900563  0.657534  0.977347           0.981140        0.826432   \n0   0.513369  0.900563  0.653951  0.974599           0.980995        0.824602   \n0   0.507338  0.908068  0.650975  0.976195           0.980796        0.823063   \n0   0.505308  0.893058  0.645424  0.975879           0.980724        0.820269   \n0   0.503696  0.894934  0.644595  0.973868           0.980670        0.819840   \n0   0.488911  0.909944  0.636066  0.982975           0.980146        0.815439   \n0   0.476331  0.906191  0.624434  0.978925           0.979676        0.809501   \n0   0.462209  0.894934  0.609585  0.972271           0.979134        0.801935   \n0   0.453510  0.896811  0.602394  0.974085           0.978772        0.798246   \n0   0.447514  0.911820  0.600371  0.976447           0.978483        0.797159   \n\n      TN   FP  FN   TP  \n0  53270  447  53  480  \n0  53262  455  53  480  \n0  53247  470  49  484  \n0  53251  466  57  476  \n0  53247  470  56  477  \n0  53210  507  48  485  \n0  53186  531  50  483  \n0  53162  555  56  477  \n0  53141  576  55  478  \n0  53117  600  47  486  ",
      "text/html": "<div>\n<style scoped>\n    .dataframe tbody tr th:only-of-type {\n        vertical-align: middle;\n    }\n\n    .dataframe tbody tr th {\n        vertical-align: top;\n    }\n\n    .dataframe thead th {\n        text-align: right;\n    }\n</style>\n<table border=\"1\" class=\"dataframe\">\n  <thead>\n    <tr style=\"text-align: right;\">\n      <th></th>\n      <th>Filename</th>\n      <th>Features</th>\n      <th>Accuracy</th>\n      <th>Precision</th>\n      <th>Recall</th>\n      <th>F1-Score</th>\n      <th>ROC AUC</th>\n      <th>Weighted Accuracy</th>\n      <th>Macro F1 Score</th>\n      <th>TN</th>\n      <th>FP</th>\n      <th>FN</th>\n      <th>TP</th>\n    </tr>\n  </thead>\n  <tbody>\n    <tr>\n      <th>0</th>\n      <td>23</td>\n      <td>['explicit', 'track_number', 'num_artists', 'n...</td>\n      <td>0.990783</td>\n      <td>0.517799</td>\n      <td>0.900563</td>\n      <td>0.657534</td>\n      <td>0.977347</td>\n      <td>0.981140</td>\n      <td>0.826432</td>\n      <td>53270</td>\n      <td>447</td>\n      <td>53</td>\n      <td>480</td>\n    </tr>\n    <tr>\n      <th>0</th>\n      <td>13</td>\n      <td>['explicit', 'track_number', 'num_artists', 'n...</td>\n      <td>0.990636</td>\n      <td>0.513369</td>\n      <td>0.900563</td>\n      <td>0.653951</td>\n      <td>0.974599</td>\n      <td>0.980995</td>\n      <td>0.824602</td>\n      <td>53262</td>\n      <td>455</td>\n      <td>53</td>\n      <td>480</td>\n    </tr>\n    <tr>\n      <th>0</th>\n      <td>55</td>\n      <td>['explicit', 'track_number', 'num_artists', 'n...</td>\n      <td>0.990433</td>\n      <td>0.507338</td>\n      <td>0.908068</td>\n      <td>0.650975</td>\n      <td>0.976195</td>\n      <td>0.980796</td>\n      <td>0.823063</td>\n      <td>53247</td>\n      <td>470</td>\n      <td>49</td>\n      <td>484</td>\n    </tr>\n    <tr>\n      <th>0</th>\n      <td>28</td>\n      <td>['explicit', 'track_number', 'num_artists', 'n...</td>\n      <td>0.990359</td>\n      <td>0.505308</td>\n      <td>0.893058</td>\n      <td>0.645424</td>\n      <td>0.975879</td>\n      <td>0.980724</td>\n      <td>0.820269</td>\n      <td>53251</td>\n      <td>466</td>\n      <td>57</td>\n      <td>476</td>\n    </tr>\n    <tr>\n      <th>0</th>\n      <td>52</td>\n      <td>['explicit', 'track_number', 'num_artists', 'n...</td>\n      <td>0.990304</td>\n      <td>0.503696</td>\n      <td>0.894934</td>\n      <td>0.644595</td>\n      <td>0.973868</td>\n      <td>0.980670</td>\n      <td>0.819840</td>\n      <td>53247</td>\n      <td>470</td>\n      <td>56</td>\n      <td>477</td>\n    </tr>\n    <tr>\n      <th>0</th>\n      <td>2</td>\n      <td>['explicit', 'track_number', 'num_artists', 'n...</td>\n      <td>0.989770</td>\n      <td>0.488911</td>\n      <td>0.909944</td>\n      <td>0.636066</td>\n      <td>0.982975</td>\n      <td>0.980146</td>\n      <td>0.815439</td>\n      <td>53210</td>\n      <td>507</td>\n      <td>48</td>\n      <td>485</td>\n    </tr>\n    <tr>\n      <th>0</th>\n      <td>11</td>\n      <td>['explicit', 'track_number', 'num_artists', 'n...</td>\n      <td>0.989290</td>\n      <td>0.476331</td>\n      <td>0.906191</td>\n      <td>0.624434</td>\n      <td>0.978925</td>\n      <td>0.979676</td>\n      <td>0.809501</td>\n      <td>53186</td>\n      <td>531</td>\n      <td>50</td>\n      <td>483</td>\n    </tr>\n    <tr>\n      <th>0</th>\n      <td>63</td>\n      <td>['explicit', 'track_number', 'num_artists', 'n...</td>\n      <td>0.988737</td>\n      <td>0.462209</td>\n      <td>0.894934</td>\n      <td>0.609585</td>\n      <td>0.972271</td>\n      <td>0.979134</td>\n      <td>0.801935</td>\n      <td>53162</td>\n      <td>555</td>\n      <td>56</td>\n      <td>477</td>\n    </tr>\n    <tr>\n      <th>0</th>\n      <td>56</td>\n      <td>['explicit', 'track_number', 'num_artists', 'n...</td>\n      <td>0.988369</td>\n      <td>0.453510</td>\n      <td>0.896811</td>\n      <td>0.602394</td>\n      <td>0.974085</td>\n      <td>0.978772</td>\n      <td>0.798246</td>\n      <td>53141</td>\n      <td>576</td>\n      <td>55</td>\n      <td>478</td>\n    </tr>\n    <tr>\n      <th>0</th>\n      <td>15</td>\n      <td>['explicit', 'track_number', 'num_artists', 'n...</td>\n      <td>0.988074</td>\n      <td>0.447514</td>\n      <td>0.911820</td>\n      <td>0.600371</td>\n      <td>0.976447</td>\n      <td>0.978483</td>\n      <td>0.797159</td>\n      <td>53117</td>\n      <td>600</td>\n      <td>47</td>\n      <td>486</td>\n    </tr>\n  </tbody>\n</table>\n</div>"
     },
     "execution_count": 2,
     "metadata": {},
     "output_type": "execute_result"
    }
   ],
   "source": [
    "superstar_var_df.sort_values(by=[\"Precision\"], ascending=[False], inplace=True)\n",
    "superstar_var_df.head(10)"
   ],
   "metadata": {
    "collapsed": false,
    "ExecuteTime": {
     "end_time": "2024-05-22T12:15:02.090216700Z",
     "start_time": "2024-05-22T12:15:02.078217Z"
    }
   },
   "id": "42142099070dff2"
  },
  {
   "cell_type": "code",
   "execution_count": 3,
   "outputs": [
    {
     "name": "stdout",
     "output_type": "stream",
     "text": [
      "['explicit', 'track_number', 'num_artists', 'num_available_markets',\n",
      "       'duration_ms', 'key', 'mode', 'time_signature', 'acousticness',\n",
      "       'danceability', 'energy', 'instrumentalness', 'liveness', 'loudness',\n",
      "       'speechiness', 'valence', 'tempo', 'years_on_charts', 'superstar_v3_x',\n",
      "       'superstar_v5_x', 'success_rate_x', 'hits_in_past_x']\n",
      "['explicit', 'track_number', 'num_artists', 'num_available_markets',\n",
      "       'duration_ms', 'key', 'mode', 'time_signature', 'acousticness',\n",
      "       'danceability', 'energy', 'instrumentalness', 'liveness', 'loudness',\n",
      "       'speechiness', 'valence', 'tempo', 'years_on_charts', 'superstar_v4_x',\n",
      "       'superstar_v5_x', 'hits_in_past_x']\n",
      "['explicit', 'track_number', 'num_artists', 'num_available_markets',\n",
      "       'duration_ms', 'key', 'mode', 'time_signature', 'acousticness',\n",
      "       'danceability', 'energy', 'instrumentalness', 'liveness', 'loudness',\n",
      "       'speechiness', 'valence', 'tempo', 'years_on_charts', 'superstar_v2_x',\n",
      "       'superstar_v3_x', 'superstar_v5_x', 'success_rate_x', 'hits_in_past_x']\n",
      "['explicit', 'track_number', 'num_artists', 'num_available_markets',\n",
      "       'duration_ms', 'key', 'mode', 'time_signature', 'acousticness',\n",
      "       'danceability', 'energy', 'instrumentalness', 'liveness', 'loudness',\n",
      "       'speechiness', 'valence', 'tempo', 'years_on_charts', 'superstar_v3_x',\n",
      "       'superstar_v4_x', 'superstar_v5_x']\n",
      "['explicit', 'track_number', 'num_artists', 'num_available_markets',\n",
      "       'duration_ms', 'key', 'mode', 'time_signature', 'acousticness',\n",
      "       'danceability', 'energy', 'instrumentalness', 'liveness', 'loudness',\n",
      "       'speechiness', 'valence', 'tempo', 'years_on_charts', 'superstar_v2_x',\n",
      "       'superstar_v3_x', 'superstar_v5_x']\n",
      "['explicit', 'track_number', 'num_artists', 'num_available_markets',\n",
      "       'duration_ms', 'key', 'mode', 'time_signature', 'acousticness',\n",
      "       'danceability', 'energy', 'instrumentalness', 'liveness', 'loudness',\n",
      "       'speechiness', 'valence', 'tempo', 'years_on_charts', 'success_rate_x']\n",
      "['explicit', 'track_number', 'num_artists', 'num_available_markets',\n",
      "       'duration_ms', 'key', 'mode', 'time_signature', 'acousticness',\n",
      "       'danceability', 'energy', 'instrumentalness', 'liveness', 'loudness',\n",
      "       'speechiness', 'valence', 'tempo', 'years_on_charts', 'superstar_v4_x',\n",
      "       'success_rate_x', 'hits_in_past_x']\n",
      "['explicit', 'track_number', 'num_artists', 'num_available_markets',\n",
      "       'duration_ms', 'key', 'mode', 'time_signature', 'acousticness',\n",
      "       'danceability', 'energy', 'instrumentalness', 'liveness', 'loudness',\n",
      "       'speechiness', 'valence', 'tempo', 'years_on_charts', 'superstar_v2_x',\n",
      "       'superstar_v3_x', 'superstar_v4_x', 'superstar_v5_x', 'success_rate_x',\n",
      "       'hits_in_past_x']\n",
      "['explicit', 'track_number', 'num_artists', 'num_available_markets',\n",
      "       'duration_ms', 'key', 'mode', 'time_signature', 'acousticness',\n",
      "       'danceability', 'energy', 'instrumentalness', 'liveness', 'loudness',\n",
      "       'speechiness', 'valence', 'tempo', 'years_on_charts', 'superstar_v2_x',\n",
      "       'superstar_v3_x', 'superstar_v4_x']\n",
      "['explicit', 'track_number', 'num_artists', 'num_available_markets',\n",
      "       'duration_ms', 'key', 'mode', 'time_signature', 'acousticness',\n",
      "       'danceability', 'energy', 'instrumentalness', 'liveness', 'loudness',\n",
      "       'speechiness', 'valence', 'tempo', 'years_on_charts', 'superstar_v4_x',\n",
      "       'superstar_v5_x', 'success_rate_x', 'hits_in_past_x']\n"
     ]
    },
    {
     "data": {
      "text/plain": "0    None\n0    None\n0    None\n0    None\n0    None\n0    None\n0    None\n0    None\n0    None\n0    None\nName: Features, dtype: object"
     },
     "execution_count": 3,
     "metadata": {},
     "output_type": "execute_result"
    }
   ],
   "source": [
    "superstar_var_df[\"Features\"].head(10).apply(lambda x: print(x))"
   ],
   "metadata": {
    "collapsed": false,
    "ExecuteTime": {
     "end_time": "2024-05-22T12:15:02.125216200Z",
     "start_time": "2024-05-22T12:15:02.092215700Z"
    }
   },
   "id": "efeaa24e17d7f175"
  },
  {
   "cell_type": "code",
   "execution_count": 5,
   "outputs": [
    {
     "data": {
      "text/plain": "     Recall  Precision   ROC AUC  Macro F1 Score\n0  0.900563   0.517799  0.977347        0.826432\n0  0.900563   0.513369  0.974599        0.824602\n0  0.908068   0.507338  0.976195        0.823063\n0  0.893058   0.505308  0.975879        0.820269\n0  0.894934   0.503696  0.973868        0.819840\n0  0.909944   0.488911  0.982975        0.815439\n0  0.906191   0.476331  0.978925        0.809501\n0  0.894934   0.462209  0.972271        0.801935\n0  0.896811   0.453510  0.974085        0.798246\n0  0.911820   0.447514  0.976447        0.797159",
      "text/html": "<div>\n<style scoped>\n    .dataframe tbody tr th:only-of-type {\n        vertical-align: middle;\n    }\n\n    .dataframe tbody tr th {\n        vertical-align: top;\n    }\n\n    .dataframe thead th {\n        text-align: right;\n    }\n</style>\n<table border=\"1\" class=\"dataframe\">\n  <thead>\n    <tr style=\"text-align: right;\">\n      <th></th>\n      <th>Recall</th>\n      <th>Precision</th>\n      <th>ROC AUC</th>\n      <th>Macro F1 Score</th>\n    </tr>\n  </thead>\n  <tbody>\n    <tr>\n      <th>0</th>\n      <td>0.900563</td>\n      <td>0.517799</td>\n      <td>0.977347</td>\n      <td>0.826432</td>\n    </tr>\n    <tr>\n      <th>0</th>\n      <td>0.900563</td>\n      <td>0.513369</td>\n      <td>0.974599</td>\n      <td>0.824602</td>\n    </tr>\n    <tr>\n      <th>0</th>\n      <td>0.908068</td>\n      <td>0.507338</td>\n      <td>0.976195</td>\n      <td>0.823063</td>\n    </tr>\n    <tr>\n      <th>0</th>\n      <td>0.893058</td>\n      <td>0.505308</td>\n      <td>0.975879</td>\n      <td>0.820269</td>\n    </tr>\n    <tr>\n      <th>0</th>\n      <td>0.894934</td>\n      <td>0.503696</td>\n      <td>0.973868</td>\n      <td>0.819840</td>\n    </tr>\n    <tr>\n      <th>0</th>\n      <td>0.909944</td>\n      <td>0.488911</td>\n      <td>0.982975</td>\n      <td>0.815439</td>\n    </tr>\n    <tr>\n      <th>0</th>\n      <td>0.906191</td>\n      <td>0.476331</td>\n      <td>0.978925</td>\n      <td>0.809501</td>\n    </tr>\n    <tr>\n      <th>0</th>\n      <td>0.894934</td>\n      <td>0.462209</td>\n      <td>0.972271</td>\n      <td>0.801935</td>\n    </tr>\n    <tr>\n      <th>0</th>\n      <td>0.896811</td>\n      <td>0.453510</td>\n      <td>0.974085</td>\n      <td>0.798246</td>\n    </tr>\n    <tr>\n      <th>0</th>\n      <td>0.911820</td>\n      <td>0.447514</td>\n      <td>0.976447</td>\n      <td>0.797159</td>\n    </tr>\n  </tbody>\n</table>\n</div>"
     },
     "execution_count": 5,
     "metadata": {},
     "output_type": "execute_result"
    }
   ],
   "source": [
    "superstar_var_df[[\"Recall\", \"Precision\", \"ROC AUC\", \"Macro F1 Score\"]].head(10)"
   ],
   "metadata": {
    "collapsed": false,
    "ExecuteTime": {
     "end_time": "2024-05-22T12:18:13.192963Z",
     "start_time": "2024-05-22T12:18:13.172964800Z"
    }
   },
   "id": "2f16729a47892272"
  }
 ],
 "metadata": {
  "kernelspec": {
   "display_name": "Python 3",
   "language": "python",
   "name": "python3"
  },
  "language_info": {
   "codemirror_mode": {
    "name": "ipython",
    "version": 2
   },
   "file_extension": ".py",
   "mimetype": "text/x-python",
   "name": "python",
   "nbconvert_exporter": "python",
   "pygments_lexer": "ipython2",
   "version": "2.7.6"
  }
 },
 "nbformat": 4,
 "nbformat_minor": 5
}
