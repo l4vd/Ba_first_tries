{
 "cells": [
  {
   "cell_type": "code",
   "execution_count": 1,
   "outputs": [
    {
     "data": {
      "text/plain": "   Filename                                           Features  Accuracy  \\\n0         0  ['explicit', 'track_number', 'num_artists', 'n...  0.973548   \n0         1  ['explicit', 'track_number', 'num_artists', 'n...  0.979908   \n0         2  ['explicit', 'track_number', 'num_artists', 'n...  0.986802   \n0         3  ['explicit', 'track_number', 'num_artists', 'n...  0.980498   \n0         4  ['explicit', 'track_number', 'num_artists', 'n...  0.983724   \n..      ...                                                ...       ...   \n0        59  ['explicit', 'track_number', 'num_artists', 'n...  0.992959   \n0        60  ['explicit', 'track_number', 'num_artists', 'n...  0.978452   \n0        61  ['explicit', 'track_number', 'num_artists', 'n...  0.990931   \n0        62  ['explicit', 'track_number', 'num_artists', 'n...  0.988092   \n0        63  ['explicit', 'track_number', 'num_artists', 'n...  0.995373   \n\n    Precision    Recall  F1-Score   ROC AUC  Weighted Accuracy  \\\n0    0.257527  0.898687  0.400334  0.973684           0.964243   \n0    0.318093  0.913696  0.471899  0.974893           0.970478   \n0    0.419807  0.898687  0.572282  0.977883           0.977236   \n0    0.324883  0.913696  0.479331  0.979310           0.971056   \n0    0.368421  0.919325  0.526033  0.981162           0.974218   \n..        ...       ...       ...       ...                ...   \n0    0.592866  0.904315  0.716196  0.980610           0.983272   \n0    0.303218  0.919325  0.456026  0.977589           0.969050   \n0    0.521925  0.915572  0.664850  0.988286           0.981284   \n0    0.447926  0.911820  0.600742  0.976788           0.978501   \n0    0.707965  0.900563  0.792733  0.984940           0.985639   \n\n    Macro F1 Score     TN    FP  FN   TP  \n0         0.693405  52336  1381  54  479  \n0         0.730829  52673  1044  46  487  \n0         0.782790  53055   662  54  479  \n0         0.734697  52705  1012  46  487  \n0         0.758876  52877   840  43  490  \n..             ...    ...   ...  ..  ...  \n0         0.856316  53386   331  51  482  \n0         0.722517  52591  1126  43  490  \n0         0.830127  53270   447  45  488  \n0         0.797349  53118   599  47  486  \n0         0.895197  53519   198  53  480  \n\n[64 rows x 13 columns]",
      "text/html": "<div>\n<style scoped>\n    .dataframe tbody tr th:only-of-type {\n        vertical-align: middle;\n    }\n\n    .dataframe tbody tr th {\n        vertical-align: top;\n    }\n\n    .dataframe thead th {\n        text-align: right;\n    }\n</style>\n<table border=\"1\" class=\"dataframe\">\n  <thead>\n    <tr style=\"text-align: right;\">\n      <th></th>\n      <th>Filename</th>\n      <th>Features</th>\n      <th>Accuracy</th>\n      <th>Precision</th>\n      <th>Recall</th>\n      <th>F1-Score</th>\n      <th>ROC AUC</th>\n      <th>Weighted Accuracy</th>\n      <th>Macro F1 Score</th>\n      <th>TN</th>\n      <th>FP</th>\n      <th>FN</th>\n      <th>TP</th>\n    </tr>\n  </thead>\n  <tbody>\n    <tr>\n      <th>0</th>\n      <td>0</td>\n      <td>['explicit', 'track_number', 'num_artists', 'n...</td>\n      <td>0.973548</td>\n      <td>0.257527</td>\n      <td>0.898687</td>\n      <td>0.400334</td>\n      <td>0.973684</td>\n      <td>0.964243</td>\n      <td>0.693405</td>\n      <td>52336</td>\n      <td>1381</td>\n      <td>54</td>\n      <td>479</td>\n    </tr>\n    <tr>\n      <th>0</th>\n      <td>1</td>\n      <td>['explicit', 'track_number', 'num_artists', 'n...</td>\n      <td>0.979908</td>\n      <td>0.318093</td>\n      <td>0.913696</td>\n      <td>0.471899</td>\n      <td>0.974893</td>\n      <td>0.970478</td>\n      <td>0.730829</td>\n      <td>52673</td>\n      <td>1044</td>\n      <td>46</td>\n      <td>487</td>\n    </tr>\n    <tr>\n      <th>0</th>\n      <td>2</td>\n      <td>['explicit', 'track_number', 'num_artists', 'n...</td>\n      <td>0.986802</td>\n      <td>0.419807</td>\n      <td>0.898687</td>\n      <td>0.572282</td>\n      <td>0.977883</td>\n      <td>0.977236</td>\n      <td>0.782790</td>\n      <td>53055</td>\n      <td>662</td>\n      <td>54</td>\n      <td>479</td>\n    </tr>\n    <tr>\n      <th>0</th>\n      <td>3</td>\n      <td>['explicit', 'track_number', 'num_artists', 'n...</td>\n      <td>0.980498</td>\n      <td>0.324883</td>\n      <td>0.913696</td>\n      <td>0.479331</td>\n      <td>0.979310</td>\n      <td>0.971056</td>\n      <td>0.734697</td>\n      <td>52705</td>\n      <td>1012</td>\n      <td>46</td>\n      <td>487</td>\n    </tr>\n    <tr>\n      <th>0</th>\n      <td>4</td>\n      <td>['explicit', 'track_number', 'num_artists', 'n...</td>\n      <td>0.983724</td>\n      <td>0.368421</td>\n      <td>0.919325</td>\n      <td>0.526033</td>\n      <td>0.981162</td>\n      <td>0.974218</td>\n      <td>0.758876</td>\n      <td>52877</td>\n      <td>840</td>\n      <td>43</td>\n      <td>490</td>\n    </tr>\n    <tr>\n      <th>...</th>\n      <td>...</td>\n      <td>...</td>\n      <td>...</td>\n      <td>...</td>\n      <td>...</td>\n      <td>...</td>\n      <td>...</td>\n      <td>...</td>\n      <td>...</td>\n      <td>...</td>\n      <td>...</td>\n      <td>...</td>\n      <td>...</td>\n    </tr>\n    <tr>\n      <th>0</th>\n      <td>59</td>\n      <td>['explicit', 'track_number', 'num_artists', 'n...</td>\n      <td>0.992959</td>\n      <td>0.592866</td>\n      <td>0.904315</td>\n      <td>0.716196</td>\n      <td>0.980610</td>\n      <td>0.983272</td>\n      <td>0.856316</td>\n      <td>53386</td>\n      <td>331</td>\n      <td>51</td>\n      <td>482</td>\n    </tr>\n    <tr>\n      <th>0</th>\n      <td>60</td>\n      <td>['explicit', 'track_number', 'num_artists', 'n...</td>\n      <td>0.978452</td>\n      <td>0.303218</td>\n      <td>0.919325</td>\n      <td>0.456026</td>\n      <td>0.977589</td>\n      <td>0.969050</td>\n      <td>0.722517</td>\n      <td>52591</td>\n      <td>1126</td>\n      <td>43</td>\n      <td>490</td>\n    </tr>\n    <tr>\n      <th>0</th>\n      <td>61</td>\n      <td>['explicit', 'track_number', 'num_artists', 'n...</td>\n      <td>0.990931</td>\n      <td>0.521925</td>\n      <td>0.915572</td>\n      <td>0.664850</td>\n      <td>0.988286</td>\n      <td>0.981284</td>\n      <td>0.830127</td>\n      <td>53270</td>\n      <td>447</td>\n      <td>45</td>\n      <td>488</td>\n    </tr>\n    <tr>\n      <th>0</th>\n      <td>62</td>\n      <td>['explicit', 'track_number', 'num_artists', 'n...</td>\n      <td>0.988092</td>\n      <td>0.447926</td>\n      <td>0.911820</td>\n      <td>0.600742</td>\n      <td>0.976788</td>\n      <td>0.978501</td>\n      <td>0.797349</td>\n      <td>53118</td>\n      <td>599</td>\n      <td>47</td>\n      <td>486</td>\n    </tr>\n    <tr>\n      <th>0</th>\n      <td>63</td>\n      <td>['explicit', 'track_number', 'num_artists', 'n...</td>\n      <td>0.995373</td>\n      <td>0.707965</td>\n      <td>0.900563</td>\n      <td>0.792733</td>\n      <td>0.984940</td>\n      <td>0.985639</td>\n      <td>0.895197</td>\n      <td>53519</td>\n      <td>198</td>\n      <td>53</td>\n      <td>480</td>\n    </tr>\n  </tbody>\n</table>\n<p>64 rows × 13 columns</p>\n</div>"
     },
     "execution_count": 1,
     "metadata": {},
     "output_type": "execute_result"
    }
   ],
   "source": [
    "import re\n",
    "import pandas as pd\n",
    "\n",
    "superstar_var_df = pd.DataFrame(columns=['Filename', 'Features', 'Accuracy', 'Precision', 'Recall', 'F1-Score', 'ROC AUC', 'Weighted Accuracy', 'Macro F1 Score'])\n",
    "\n",
    "for filename in range(64):\n",
    "    important_values = {}\n",
    "    \n",
    "    important_values[\"Filename\"] = filename\n",
    "    ##the following excerpt was generated by chat gpt\n",
    "    with open(f\"{filename}.txt\", \"r\") as file:\n",
    "        lines = file.readlines()\n",
    "        for index, line in enumerate(lines):\n",
    "            # Extracting feature names\n",
    "            if line.startswith(\"Index\"):\n",
    "                #not gen start\n",
    "                features = line\n",
    "                count = 1\n",
    "                while True:\n",
    "                    features = features + lines[index+count]\n",
    "                    if \"]\" in lines[index+count]: \n",
    "                        break\n",
    "                    count += 1\n",
    "                features = features.replace(\"Index(\", \"\")\n",
    "                features = features[:-2]\n",
    "                important_values[\"Features\"] = features\n",
    "                #not gen end\n",
    "    \n",
    "            # Extracting accuracy\n",
    "            if line.startswith(\"Accuracy\"):\n",
    "                accuracy = float(line.split(\":\")[1])\n",
    "                important_values[\"Accuracy\"] = accuracy\n",
    "    \n",
    "            # Extracting confusion matrix values\n",
    "            if \"True Negatives\" in line:\n",
    "                #not gen start\n",
    "                important_values[\"TN\"] = lines[index].replace(\"True Negatives (TN):\", \"\").replace(\"\\n\", \"\")\n",
    "                important_values[\"FP\"] = lines[index+1].replace(\"False Positives (FP):\", \"\").replace(\"\\n\", \"\")\n",
    "                important_values[\"FN\"] = lines[index+2].replace(\"False Negatives (FN):\", \"\").replace(\"\\n\", \"\")\n",
    "                important_values[\"TP\"] = lines[index+3].replace(\"True Positives (TP):\", \"\").replace(\"\\n\", \"\")\n",
    "                #not gen end\n",
    "    \n",
    "            # Extracting precision, recall, and F1-score\n",
    "            if \"Precision\" in line:\n",
    "                precision = float(re.search(r\"\\d+\\.\\d+\", line).group())\n",
    "                recall = float(re.search(r\"\\d+\\.\\d+\", lines[lines.index(line) + 1]).group())\n",
    "                f1_score = float(re.search(r\"\\d+\\.\\d+\", lines[lines.index(line) + 2]).group())\n",
    "                important_values[\"Precision\"] = precision\n",
    "                important_values[\"Recall\"] = recall\n",
    "                important_values[\"F1-Score\"] = f1_score\n",
    "    \n",
    "            # Extracting ROC AUC\n",
    "            if \"ROC AUC\" in line:\n",
    "                roc_auc = float(re.search(r\"\\d+\\.\\d+\", line).group())\n",
    "                important_values[\"ROC AUC\"] = roc_auc\n",
    "    \n",
    "            # Extracting weighted accuracy\n",
    "            if \"Weighted Accuracy\" in line:\n",
    "                weighted_accuracy = float(re.search(r\"\\d+\\.\\d+\", line).group())\n",
    "                important_values[\"Weighted Accuracy\"] = weighted_accuracy\n",
    "    \n",
    "            # Extracting macro F1 score\n",
    "            if \"Macro F1 Score\" in line:\n",
    "                macro_f1_score = float(re.search(r\"\\d+\\.\\d+\", line).group())\n",
    "                important_values[\"Macro F1 Score\"] = macro_f1_score\n",
    "    ##end of the generated\n",
    "    \n",
    "    # Convert dictionary to DataFrame\n",
    "    df = pd.DataFrame([important_values])\n",
    "    superstar_var_df = pd.concat([superstar_var_df, df], axis=0)\n",
    "\n",
    "superstar_var_df"
   ],
   "metadata": {
    "collapsed": false,
    "ExecuteTime": {
     "end_time": "2024-05-13T12:03:46.421231Z",
     "start_time": "2024-05-13T12:03:46.334229200Z"
    }
   },
   "id": "30cc0730e62d50bf"
  },
  {
   "cell_type": "code",
   "execution_count": 2,
   "outputs": [
    {
     "data": {
      "text/plain": "  Filename                                           Features  Accuracy  \\\n0       63  ['explicit', 'track_number', 'num_artists', 'n...  0.995373   \n0       49  ['explicit', 'track_number', 'num_artists', 'n...  0.995060   \n0       43  ['explicit', 'track_number', 'num_artists', 'n...  0.994728   \n0       53  ['explicit', 'track_number', 'num_artists', 'n...  0.994138   \n0       57  ['explicit', 'track_number', 'num_artists', 'n...  0.993954   \n0       51  ['explicit', 'track_number', 'num_artists', 'n...  0.993696   \n0       47  ['explicit', 'track_number', 'num_artists', 'n...  0.993622   \n0       35  ['explicit', 'track_number', 'num_artists', 'n...  0.993051   \n0       33  ['explicit', 'track_number', 'num_artists', 'n...  0.993032   \n0       59  ['explicit', 'track_number', 'num_artists', 'n...  0.992959   \n\n   Precision    Recall  F1-Score   ROC AUC  Weighted Accuracy  Macro F1 Score  \\\n0   0.707965  0.900563  0.792733  0.984940           0.985639        0.895197   \n0   0.693431  0.891182  0.779967  0.982460           0.985332        0.888735   \n0   0.670345  0.911820  0.772655  0.984310           0.985007        0.884994   \n0   0.643142  0.906191  0.752336  0.984969           0.984429        0.874685   \n0   0.634691  0.906191  0.746522  0.983983           0.984248        0.871731   \n0   0.624511  0.898687  0.736923  0.983836           0.983995        0.866866   \n0   0.620026  0.906191  0.736280  0.982127           0.983923        0.866526   \n0   0.596296  0.906191  0.719285  0.981826           0.983362        0.857883   \n0   0.595797  0.904315  0.718331  0.982048           0.983344        0.857402   \n0   0.592866  0.904315  0.716196  0.980610           0.983272        0.856316   \n\n      TN   FP  FN   TP  \n0  53519  198  53  480  \n0  53507  210  58  475  \n0  53478  239  47  486  \n0  53449  268  50  483  \n0  53439  278  50  483  \n0  53429  288  54  479  \n0  53421  296  50  483  \n0  53390  327  50  483  \n0  53390  327  51  482  \n0  53386  331  51  482  ",
      "text/html": "<div>\n<style scoped>\n    .dataframe tbody tr th:only-of-type {\n        vertical-align: middle;\n    }\n\n    .dataframe tbody tr th {\n        vertical-align: top;\n    }\n\n    .dataframe thead th {\n        text-align: right;\n    }\n</style>\n<table border=\"1\" class=\"dataframe\">\n  <thead>\n    <tr style=\"text-align: right;\">\n      <th></th>\n      <th>Filename</th>\n      <th>Features</th>\n      <th>Accuracy</th>\n      <th>Precision</th>\n      <th>Recall</th>\n      <th>F1-Score</th>\n      <th>ROC AUC</th>\n      <th>Weighted Accuracy</th>\n      <th>Macro F1 Score</th>\n      <th>TN</th>\n      <th>FP</th>\n      <th>FN</th>\n      <th>TP</th>\n    </tr>\n  </thead>\n  <tbody>\n    <tr>\n      <th>0</th>\n      <td>63</td>\n      <td>['explicit', 'track_number', 'num_artists', 'n...</td>\n      <td>0.995373</td>\n      <td>0.707965</td>\n      <td>0.900563</td>\n      <td>0.792733</td>\n      <td>0.984940</td>\n      <td>0.985639</td>\n      <td>0.895197</td>\n      <td>53519</td>\n      <td>198</td>\n      <td>53</td>\n      <td>480</td>\n    </tr>\n    <tr>\n      <th>0</th>\n      <td>49</td>\n      <td>['explicit', 'track_number', 'num_artists', 'n...</td>\n      <td>0.995060</td>\n      <td>0.693431</td>\n      <td>0.891182</td>\n      <td>0.779967</td>\n      <td>0.982460</td>\n      <td>0.985332</td>\n      <td>0.888735</td>\n      <td>53507</td>\n      <td>210</td>\n      <td>58</td>\n      <td>475</td>\n    </tr>\n    <tr>\n      <th>0</th>\n      <td>43</td>\n      <td>['explicit', 'track_number', 'num_artists', 'n...</td>\n      <td>0.994728</td>\n      <td>0.670345</td>\n      <td>0.911820</td>\n      <td>0.772655</td>\n      <td>0.984310</td>\n      <td>0.985007</td>\n      <td>0.884994</td>\n      <td>53478</td>\n      <td>239</td>\n      <td>47</td>\n      <td>486</td>\n    </tr>\n    <tr>\n      <th>0</th>\n      <td>53</td>\n      <td>['explicit', 'track_number', 'num_artists', 'n...</td>\n      <td>0.994138</td>\n      <td>0.643142</td>\n      <td>0.906191</td>\n      <td>0.752336</td>\n      <td>0.984969</td>\n      <td>0.984429</td>\n      <td>0.874685</td>\n      <td>53449</td>\n      <td>268</td>\n      <td>50</td>\n      <td>483</td>\n    </tr>\n    <tr>\n      <th>0</th>\n      <td>57</td>\n      <td>['explicit', 'track_number', 'num_artists', 'n...</td>\n      <td>0.993954</td>\n      <td>0.634691</td>\n      <td>0.906191</td>\n      <td>0.746522</td>\n      <td>0.983983</td>\n      <td>0.984248</td>\n      <td>0.871731</td>\n      <td>53439</td>\n      <td>278</td>\n      <td>50</td>\n      <td>483</td>\n    </tr>\n    <tr>\n      <th>0</th>\n      <td>51</td>\n      <td>['explicit', 'track_number', 'num_artists', 'n...</td>\n      <td>0.993696</td>\n      <td>0.624511</td>\n      <td>0.898687</td>\n      <td>0.736923</td>\n      <td>0.983836</td>\n      <td>0.983995</td>\n      <td>0.866866</td>\n      <td>53429</td>\n      <td>288</td>\n      <td>54</td>\n      <td>479</td>\n    </tr>\n    <tr>\n      <th>0</th>\n      <td>47</td>\n      <td>['explicit', 'track_number', 'num_artists', 'n...</td>\n      <td>0.993622</td>\n      <td>0.620026</td>\n      <td>0.906191</td>\n      <td>0.736280</td>\n      <td>0.982127</td>\n      <td>0.983923</td>\n      <td>0.866526</td>\n      <td>53421</td>\n      <td>296</td>\n      <td>50</td>\n      <td>483</td>\n    </tr>\n    <tr>\n      <th>0</th>\n      <td>35</td>\n      <td>['explicit', 'track_number', 'num_artists', 'n...</td>\n      <td>0.993051</td>\n      <td>0.596296</td>\n      <td>0.906191</td>\n      <td>0.719285</td>\n      <td>0.981826</td>\n      <td>0.983362</td>\n      <td>0.857883</td>\n      <td>53390</td>\n      <td>327</td>\n      <td>50</td>\n      <td>483</td>\n    </tr>\n    <tr>\n      <th>0</th>\n      <td>33</td>\n      <td>['explicit', 'track_number', 'num_artists', 'n...</td>\n      <td>0.993032</td>\n      <td>0.595797</td>\n      <td>0.904315</td>\n      <td>0.718331</td>\n      <td>0.982048</td>\n      <td>0.983344</td>\n      <td>0.857402</td>\n      <td>53390</td>\n      <td>327</td>\n      <td>51</td>\n      <td>482</td>\n    </tr>\n    <tr>\n      <th>0</th>\n      <td>59</td>\n      <td>['explicit', 'track_number', 'num_artists', 'n...</td>\n      <td>0.992959</td>\n      <td>0.592866</td>\n      <td>0.904315</td>\n      <td>0.716196</td>\n      <td>0.980610</td>\n      <td>0.983272</td>\n      <td>0.856316</td>\n      <td>53386</td>\n      <td>331</td>\n      <td>51</td>\n      <td>482</td>\n    </tr>\n  </tbody>\n</table>\n</div>"
     },
     "execution_count": 2,
     "metadata": {},
     "output_type": "execute_result"
    }
   ],
   "source": [
    "superstar_var_df.sort_values(by=[\"Precision\"], ascending=[False], inplace=True)\n",
    "superstar_var_df.head(10)"
   ],
   "metadata": {
    "collapsed": false,
    "ExecuteTime": {
     "end_time": "2024-05-13T12:03:46.437228300Z",
     "start_time": "2024-05-13T12:03:46.422227Z"
    }
   },
   "id": "42142099070dff2"
  },
  {
   "cell_type": "code",
   "execution_count": 3,
   "outputs": [
    {
     "name": "stdout",
     "output_type": "stream",
     "text": [
      "['explicit', 'track_number', 'num_artists', 'num_available_markets',\n",
      "       'duration_ms', 'key', 'mode', 'time_signature', 'acousticness',\n",
      "       'danceability', 'energy', 'instrumentalness', 'liveness', 'loudness',\n",
      "       'speechiness', 'valence', 'tempo', 'years_on_charts', 'superstar_x',\n",
      "       'superstar_v1_x', 'superstar_v2_x', 'superstar_v3_x', 'superstar_v4_x',\n",
      "       'hits_in_past_x']\n",
      "['explicit', 'track_number', 'num_artists', 'num_available_markets',\n",
      "       'duration_ms', 'key', 'mode', 'time_signature', 'acousticness',\n",
      "       'danceability', 'energy', 'instrumentalness', 'liveness', 'loudness',\n",
      "       'speechiness', 'valence', 'tempo', 'years_on_charts', 'superstar_x',\n",
      "       'superstar_v1_x', 'hits_in_past_x']\n",
      "['explicit', 'track_number', 'num_artists', 'num_available_markets',\n",
      "       'duration_ms', 'key', 'mode', 'time_signature', 'acousticness',\n",
      "       'danceability', 'energy', 'instrumentalness', 'liveness', 'loudness',\n",
      "       'speechiness', 'valence', 'tempo', 'years_on_charts', 'superstar_x',\n",
      "       'superstar_v2_x', 'superstar_v4_x', 'hits_in_past_x']\n",
      "['explicit', 'track_number', 'num_artists', 'num_available_markets',\n",
      "       'duration_ms', 'key', 'mode', 'time_signature', 'acousticness',\n",
      "       'danceability', 'energy', 'instrumentalness', 'liveness', 'loudness',\n",
      "       'speechiness', 'valence', 'tempo', 'years_on_charts', 'superstar_x',\n",
      "       'superstar_v1_x', 'superstar_v3_x', 'hits_in_past_x']\n",
      "['explicit', 'track_number', 'num_artists', 'num_available_markets',\n",
      "       'duration_ms', 'key', 'mode', 'time_signature', 'acousticness',\n",
      "       'danceability', 'energy', 'instrumentalness', 'liveness', 'loudness',\n",
      "       'speechiness', 'valence', 'tempo', 'years_on_charts', 'superstar_x',\n",
      "       'superstar_v1_x', 'superstar_v2_x', 'hits_in_past_x']\n",
      "['explicit', 'track_number', 'num_artists', 'num_available_markets',\n",
      "       'duration_ms', 'key', 'mode', 'time_signature', 'acousticness',\n",
      "       'danceability', 'energy', 'instrumentalness', 'liveness', 'loudness',\n",
      "       'speechiness', 'valence', 'tempo', 'years_on_charts', 'superstar_x',\n",
      "       'superstar_v1_x', 'superstar_v4_x', 'hits_in_past_x']\n",
      "['explicit', 'track_number', 'num_artists', 'num_available_markets',\n",
      "       'duration_ms', 'key', 'mode', 'time_signature', 'acousticness',\n",
      "       'danceability', 'energy', 'instrumentalness', 'liveness', 'loudness',\n",
      "       'speechiness', 'valence', 'tempo', 'years_on_charts', 'superstar_x',\n",
      "       'superstar_v2_x', 'superstar_v3_x', 'superstar_v4_x', 'hits_in_past_x']\n",
      "['explicit', 'track_number', 'num_artists', 'num_available_markets',\n",
      "       'duration_ms', 'key', 'mode', 'time_signature', 'acousticness',\n",
      "       'danceability', 'energy', 'instrumentalness', 'liveness', 'loudness',\n",
      "       'speechiness', 'valence', 'tempo', 'years_on_charts', 'superstar_x',\n",
      "       'superstar_v4_x', 'hits_in_past_x']\n",
      "['explicit', 'track_number', 'num_artists', 'num_available_markets',\n",
      "       'duration_ms', 'key', 'mode', 'time_signature', 'acousticness',\n",
      "       'danceability', 'energy', 'instrumentalness', 'liveness', 'loudness',\n",
      "       'speechiness', 'valence', 'tempo', 'years_on_charts', 'superstar_x',\n",
      "       'hits_in_past_x']\n",
      "['explicit', 'track_number', 'num_artists', 'num_available_markets',\n",
      "       'duration_ms', 'key', 'mode', 'time_signature', 'acousticness',\n",
      "       'danceability', 'energy', 'instrumentalness', 'liveness', 'loudness',\n",
      "       'speechiness', 'valence', 'tempo', 'years_on_charts', 'superstar_x',\n",
      "       'superstar_v1_x', 'superstar_v2_x', 'superstar_v4_x', 'hits_in_past_x']\n"
     ]
    },
    {
     "data": {
      "text/plain": "0    None\n0    None\n0    None\n0    None\n0    None\n0    None\n0    None\n0    None\n0    None\n0    None\nName: Features, dtype: object"
     },
     "execution_count": 3,
     "metadata": {},
     "output_type": "execute_result"
    }
   ],
   "source": [
    "superstar_var_df[\"Features\"].head(10).apply(lambda x: print(x))"
   ],
   "metadata": {
    "collapsed": false,
    "ExecuteTime": {
     "end_time": "2024-05-13T12:03:46.467229300Z",
     "start_time": "2024-05-13T12:03:46.438230300Z"
    }
   },
   "id": "efeaa24e17d7f175"
  },
  {
   "cell_type": "code",
   "execution_count": 4,
   "outputs": [
    {
     "data": {
      "text/plain": "  Filename                                           Features  Accuracy  \\\n0       63  ['explicit', 'track_number', 'num_artists', 'n...  0.995373   \n0       49  ['explicit', 'track_number', 'num_artists', 'n...  0.995060   \n0       43  ['explicit', 'track_number', 'num_artists', 'n...  0.994728   \n0       53  ['explicit', 'track_number', 'num_artists', 'n...  0.994138   \n0       57  ['explicit', 'track_number', 'num_artists', 'n...  0.993954   \n0       51  ['explicit', 'track_number', 'num_artists', 'n...  0.993696   \n0       47  ['explicit', 'track_number', 'num_artists', 'n...  0.993622   \n0       35  ['explicit', 'track_number', 'num_artists', 'n...  0.993051   \n0       33  ['explicit', 'track_number', 'num_artists', 'n...  0.993032   \n0       59  ['explicit', 'track_number', 'num_artists', 'n...  0.992959   \n\n   Precision    Recall  F1-Score   ROC AUC  Weighted Accuracy  Macro F1 Score  \\\n0   0.707965  0.900563  0.792733  0.984940           0.985639        0.895197   \n0   0.693431  0.891182  0.779967  0.982460           0.985332        0.888735   \n0   0.670345  0.911820  0.772655  0.984310           0.985007        0.884994   \n0   0.643142  0.906191  0.752336  0.984969           0.984429        0.874685   \n0   0.634691  0.906191  0.746522  0.983983           0.984248        0.871731   \n0   0.624511  0.898687  0.736923  0.983836           0.983995        0.866866   \n0   0.620026  0.906191  0.736280  0.982127           0.983923        0.866526   \n0   0.596296  0.906191  0.719285  0.981826           0.983362        0.857883   \n0   0.595797  0.904315  0.718331  0.982048           0.983344        0.857402   \n0   0.592866  0.904315  0.716196  0.980610           0.983272        0.856316   \n\n      TN   FP  FN   TP  \n0  53519  198  53  480  \n0  53507  210  58  475  \n0  53478  239  47  486  \n0  53449  268  50  483  \n0  53439  278  50  483  \n0  53429  288  54  479  \n0  53421  296  50  483  \n0  53390  327  50  483  \n0  53390  327  51  482  \n0  53386  331  51  482  ",
      "text/html": "<div>\n<style scoped>\n    .dataframe tbody tr th:only-of-type {\n        vertical-align: middle;\n    }\n\n    .dataframe tbody tr th {\n        vertical-align: top;\n    }\n\n    .dataframe thead th {\n        text-align: right;\n    }\n</style>\n<table border=\"1\" class=\"dataframe\">\n  <thead>\n    <tr style=\"text-align: right;\">\n      <th></th>\n      <th>Filename</th>\n      <th>Features</th>\n      <th>Accuracy</th>\n      <th>Precision</th>\n      <th>Recall</th>\n      <th>F1-Score</th>\n      <th>ROC AUC</th>\n      <th>Weighted Accuracy</th>\n      <th>Macro F1 Score</th>\n      <th>TN</th>\n      <th>FP</th>\n      <th>FN</th>\n      <th>TP</th>\n    </tr>\n  </thead>\n  <tbody>\n    <tr>\n      <th>0</th>\n      <td>63</td>\n      <td>['explicit', 'track_number', 'num_artists', 'n...</td>\n      <td>0.995373</td>\n      <td>0.707965</td>\n      <td>0.900563</td>\n      <td>0.792733</td>\n      <td>0.984940</td>\n      <td>0.985639</td>\n      <td>0.895197</td>\n      <td>53519</td>\n      <td>198</td>\n      <td>53</td>\n      <td>480</td>\n    </tr>\n    <tr>\n      <th>0</th>\n      <td>49</td>\n      <td>['explicit', 'track_number', 'num_artists', 'n...</td>\n      <td>0.995060</td>\n      <td>0.693431</td>\n      <td>0.891182</td>\n      <td>0.779967</td>\n      <td>0.982460</td>\n      <td>0.985332</td>\n      <td>0.888735</td>\n      <td>53507</td>\n      <td>210</td>\n      <td>58</td>\n      <td>475</td>\n    </tr>\n    <tr>\n      <th>0</th>\n      <td>43</td>\n      <td>['explicit', 'track_number', 'num_artists', 'n...</td>\n      <td>0.994728</td>\n      <td>0.670345</td>\n      <td>0.911820</td>\n      <td>0.772655</td>\n      <td>0.984310</td>\n      <td>0.985007</td>\n      <td>0.884994</td>\n      <td>53478</td>\n      <td>239</td>\n      <td>47</td>\n      <td>486</td>\n    </tr>\n    <tr>\n      <th>0</th>\n      <td>53</td>\n      <td>['explicit', 'track_number', 'num_artists', 'n...</td>\n      <td>0.994138</td>\n      <td>0.643142</td>\n      <td>0.906191</td>\n      <td>0.752336</td>\n      <td>0.984969</td>\n      <td>0.984429</td>\n      <td>0.874685</td>\n      <td>53449</td>\n      <td>268</td>\n      <td>50</td>\n      <td>483</td>\n    </tr>\n    <tr>\n      <th>0</th>\n      <td>57</td>\n      <td>['explicit', 'track_number', 'num_artists', 'n...</td>\n      <td>0.993954</td>\n      <td>0.634691</td>\n      <td>0.906191</td>\n      <td>0.746522</td>\n      <td>0.983983</td>\n      <td>0.984248</td>\n      <td>0.871731</td>\n      <td>53439</td>\n      <td>278</td>\n      <td>50</td>\n      <td>483</td>\n    </tr>\n    <tr>\n      <th>0</th>\n      <td>51</td>\n      <td>['explicit', 'track_number', 'num_artists', 'n...</td>\n      <td>0.993696</td>\n      <td>0.624511</td>\n      <td>0.898687</td>\n      <td>0.736923</td>\n      <td>0.983836</td>\n      <td>0.983995</td>\n      <td>0.866866</td>\n      <td>53429</td>\n      <td>288</td>\n      <td>54</td>\n      <td>479</td>\n    </tr>\n    <tr>\n      <th>0</th>\n      <td>47</td>\n      <td>['explicit', 'track_number', 'num_artists', 'n...</td>\n      <td>0.993622</td>\n      <td>0.620026</td>\n      <td>0.906191</td>\n      <td>0.736280</td>\n      <td>0.982127</td>\n      <td>0.983923</td>\n      <td>0.866526</td>\n      <td>53421</td>\n      <td>296</td>\n      <td>50</td>\n      <td>483</td>\n    </tr>\n    <tr>\n      <th>0</th>\n      <td>35</td>\n      <td>['explicit', 'track_number', 'num_artists', 'n...</td>\n      <td>0.993051</td>\n      <td>0.596296</td>\n      <td>0.906191</td>\n      <td>0.719285</td>\n      <td>0.981826</td>\n      <td>0.983362</td>\n      <td>0.857883</td>\n      <td>53390</td>\n      <td>327</td>\n      <td>50</td>\n      <td>483</td>\n    </tr>\n    <tr>\n      <th>0</th>\n      <td>33</td>\n      <td>['explicit', 'track_number', 'num_artists', 'n...</td>\n      <td>0.993032</td>\n      <td>0.595797</td>\n      <td>0.904315</td>\n      <td>0.718331</td>\n      <td>0.982048</td>\n      <td>0.983344</td>\n      <td>0.857402</td>\n      <td>53390</td>\n      <td>327</td>\n      <td>51</td>\n      <td>482</td>\n    </tr>\n    <tr>\n      <th>0</th>\n      <td>59</td>\n      <td>['explicit', 'track_number', 'num_artists', 'n...</td>\n      <td>0.992959</td>\n      <td>0.592866</td>\n      <td>0.904315</td>\n      <td>0.716196</td>\n      <td>0.980610</td>\n      <td>0.983272</td>\n      <td>0.856316</td>\n      <td>53386</td>\n      <td>331</td>\n      <td>51</td>\n      <td>482</td>\n    </tr>\n  </tbody>\n</table>\n</div>"
     },
     "execution_count": 4,
     "metadata": {},
     "output_type": "execute_result"
    }
   ],
   "source": [
    "superstar_var_df.head(10)"
   ],
   "metadata": {
    "collapsed": false,
    "ExecuteTime": {
     "end_time": "2024-05-13T12:03:46.544226400Z",
     "start_time": "2024-05-13T12:03:46.463228200Z"
    }
   },
   "id": "2f16729a47892272"
  }
 ],
 "metadata": {
  "kernelspec": {
   "display_name": "Python 3",
   "language": "python",
   "name": "python3"
  },
  "language_info": {
   "codemirror_mode": {
    "name": "ipython",
    "version": 2
   },
   "file_extension": ".py",
   "mimetype": "text/x-python",
   "name": "python",
   "nbconvert_exporter": "python",
   "pygments_lexer": "ipython2",
   "version": "2.7.6"
  }
 },
 "nbformat": 4,
 "nbformat_minor": 5
}
