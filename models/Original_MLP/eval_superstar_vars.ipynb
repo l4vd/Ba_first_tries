{
 "cells": [
  {
   "cell_type": "code",
   "execution_count": 1,
   "outputs": [
    {
     "data": {
      "text/plain": "   Filename                                           Features  Accuracy  \\\n0         0  ['explicit', 'track_number', 'num_artists', 'n...  0.973548   \n0         1  ['explicit', 'track_number', 'num_artists', 'n...  0.981290   \n0         2  ['explicit', 'track_number', 'num_artists', 'n...  0.982009   \n0         3  ['explicit', 'track_number', 'num_artists', 'n...  0.984866   \n0         4  ['explicit', 'track_number', 'num_artists', 'n...  0.984184   \n..      ...                                                ...       ...   \n0       251  ['explicit', 'track_number', 'num_artists', 'n...  0.984700   \n0       252  ['explicit', 'track_number', 'num_artists', 'n...  0.989309   \n0       253  ['explicit', 'track_number', 'num_artists', 'n...  0.975005   \n0       254  ['explicit', 'track_number', 'num_artists', 'n...  0.985843   \n0       255  ['explicit', 'track_number', 'num_artists', 'n...  0.988848   \n\n    Precision    Recall  F1-Score   ROC AUC  Weighted Accuracy  \\\n0    0.257527  0.898687  0.400334  0.973684           0.964243   \n0    0.335383  0.921201  0.491738  0.981185           0.971833   \n0    0.343463  0.911820  0.498973  0.977056           0.972538   \n0    0.386256  0.917448  0.543635  0.976669           0.975339   \n0    0.374904  0.913696  0.531659  0.973663           0.974670   \n..        ...       ...       ...       ...                ...   \n0    0.383163  0.913696  0.539911  0.968642           0.975176   \n0    0.476756  0.904315  0.624352  0.974881           0.979694   \n0    0.271516  0.917448  0.419023  0.972801           0.965671   \n0    0.402812  0.913696  0.559127  0.971187           0.976297   \n0    0.465649  0.915572  0.617331  0.971141           0.979242   \n\n    Macro F1 Score     TN    FP  FN   TP  \n0         0.693405  52336  1381  54  479  \n0         0.741104  52744   973  42  491  \n0         0.744907  52788   929  47  486  \n0         0.767970  52940   777  44  489  \n0         0.761808  52905   812  46  487  \n..             ...    ...   ...  ..  ...  \n0         0.766066  52933   784  46  487  \n0         0.809465  53188   529  51  482  \n0         0.703125  52405  1312  44  489  \n0         0.775967  52995   722  46  487  \n0         0.805836  53157   560  45  488  \n\n[256 rows x 13 columns]",
      "text/html": "<div>\n<style scoped>\n    .dataframe tbody tr th:only-of-type {\n        vertical-align: middle;\n    }\n\n    .dataframe tbody tr th {\n        vertical-align: top;\n    }\n\n    .dataframe thead th {\n        text-align: right;\n    }\n</style>\n<table border=\"1\" class=\"dataframe\">\n  <thead>\n    <tr style=\"text-align: right;\">\n      <th></th>\n      <th>Filename</th>\n      <th>Features</th>\n      <th>Accuracy</th>\n      <th>Precision</th>\n      <th>Recall</th>\n      <th>F1-Score</th>\n      <th>ROC AUC</th>\n      <th>Weighted Accuracy</th>\n      <th>Macro F1 Score</th>\n      <th>TN</th>\n      <th>FP</th>\n      <th>FN</th>\n      <th>TP</th>\n    </tr>\n  </thead>\n  <tbody>\n    <tr>\n      <th>0</th>\n      <td>0</td>\n      <td>['explicit', 'track_number', 'num_artists', 'n...</td>\n      <td>0.973548</td>\n      <td>0.257527</td>\n      <td>0.898687</td>\n      <td>0.400334</td>\n      <td>0.973684</td>\n      <td>0.964243</td>\n      <td>0.693405</td>\n      <td>52336</td>\n      <td>1381</td>\n      <td>54</td>\n      <td>479</td>\n    </tr>\n    <tr>\n      <th>0</th>\n      <td>1</td>\n      <td>['explicit', 'track_number', 'num_artists', 'n...</td>\n      <td>0.981290</td>\n      <td>0.335383</td>\n      <td>0.921201</td>\n      <td>0.491738</td>\n      <td>0.981185</td>\n      <td>0.971833</td>\n      <td>0.741104</td>\n      <td>52744</td>\n      <td>973</td>\n      <td>42</td>\n      <td>491</td>\n    </tr>\n    <tr>\n      <th>0</th>\n      <td>2</td>\n      <td>['explicit', 'track_number', 'num_artists', 'n...</td>\n      <td>0.982009</td>\n      <td>0.343463</td>\n      <td>0.911820</td>\n      <td>0.498973</td>\n      <td>0.977056</td>\n      <td>0.972538</td>\n      <td>0.744907</td>\n      <td>52788</td>\n      <td>929</td>\n      <td>47</td>\n      <td>486</td>\n    </tr>\n    <tr>\n      <th>0</th>\n      <td>3</td>\n      <td>['explicit', 'track_number', 'num_artists', 'n...</td>\n      <td>0.984866</td>\n      <td>0.386256</td>\n      <td>0.917448</td>\n      <td>0.543635</td>\n      <td>0.976669</td>\n      <td>0.975339</td>\n      <td>0.767970</td>\n      <td>52940</td>\n      <td>777</td>\n      <td>44</td>\n      <td>489</td>\n    </tr>\n    <tr>\n      <th>0</th>\n      <td>4</td>\n      <td>['explicit', 'track_number', 'num_artists', 'n...</td>\n      <td>0.984184</td>\n      <td>0.374904</td>\n      <td>0.913696</td>\n      <td>0.531659</td>\n      <td>0.973663</td>\n      <td>0.974670</td>\n      <td>0.761808</td>\n      <td>52905</td>\n      <td>812</td>\n      <td>46</td>\n      <td>487</td>\n    </tr>\n    <tr>\n      <th>...</th>\n      <td>...</td>\n      <td>...</td>\n      <td>...</td>\n      <td>...</td>\n      <td>...</td>\n      <td>...</td>\n      <td>...</td>\n      <td>...</td>\n      <td>...</td>\n      <td>...</td>\n      <td>...</td>\n      <td>...</td>\n      <td>...</td>\n    </tr>\n    <tr>\n      <th>0</th>\n      <td>251</td>\n      <td>['explicit', 'track_number', 'num_artists', 'n...</td>\n      <td>0.984700</td>\n      <td>0.383163</td>\n      <td>0.913696</td>\n      <td>0.539911</td>\n      <td>0.968642</td>\n      <td>0.975176</td>\n      <td>0.766066</td>\n      <td>52933</td>\n      <td>784</td>\n      <td>46</td>\n      <td>487</td>\n    </tr>\n    <tr>\n      <th>0</th>\n      <td>252</td>\n      <td>['explicit', 'track_number', 'num_artists', 'n...</td>\n      <td>0.989309</td>\n      <td>0.476756</td>\n      <td>0.904315</td>\n      <td>0.624352</td>\n      <td>0.974881</td>\n      <td>0.979694</td>\n      <td>0.809465</td>\n      <td>53188</td>\n      <td>529</td>\n      <td>51</td>\n      <td>482</td>\n    </tr>\n    <tr>\n      <th>0</th>\n      <td>253</td>\n      <td>['explicit', 'track_number', 'num_artists', 'n...</td>\n      <td>0.975005</td>\n      <td>0.271516</td>\n      <td>0.917448</td>\n      <td>0.419023</td>\n      <td>0.972801</td>\n      <td>0.965671</td>\n      <td>0.703125</td>\n      <td>52405</td>\n      <td>1312</td>\n      <td>44</td>\n      <td>489</td>\n    </tr>\n    <tr>\n      <th>0</th>\n      <td>254</td>\n      <td>['explicit', 'track_number', 'num_artists', 'n...</td>\n      <td>0.985843</td>\n      <td>0.402812</td>\n      <td>0.913696</td>\n      <td>0.559127</td>\n      <td>0.971187</td>\n      <td>0.976297</td>\n      <td>0.775967</td>\n      <td>52995</td>\n      <td>722</td>\n      <td>46</td>\n      <td>487</td>\n    </tr>\n    <tr>\n      <th>0</th>\n      <td>255</td>\n      <td>['explicit', 'track_number', 'num_artists', 'n...</td>\n      <td>0.988848</td>\n      <td>0.465649</td>\n      <td>0.915572</td>\n      <td>0.617331</td>\n      <td>0.971141</td>\n      <td>0.979242</td>\n      <td>0.805836</td>\n      <td>53157</td>\n      <td>560</td>\n      <td>45</td>\n      <td>488</td>\n    </tr>\n  </tbody>\n</table>\n<p>256 rows × 13 columns</p>\n</div>"
     },
     "execution_count": 1,
     "metadata": {},
     "output_type": "execute_result"
    }
   ],
   "source": [
    "import re\n",
    "import pandas as pd\n",
    "\n",
    "superstar_var_df = pd.DataFrame(columns=['Filename', 'Features', 'Accuracy', 'Precision', 'Recall', 'F1-Score', 'ROC AUC', 'Weighted Accuracy', 'Macro F1 Score'])\n",
    "\n",
    "for filename in range(256):\n",
    "    important_values = {}\n",
    "    \n",
    "    important_values[\"Filename\"] = filename\n",
    "    ##the following excerpt was generated by chat gpt\n",
    "    with open(f\"sup_comb/{filename}.txt\", \"r\") as file:\n",
    "        lines = file.readlines()\n",
    "        for index, line in enumerate(lines):\n",
    "            # Extracting feature names\n",
    "            if line.startswith(\"Index\"):\n",
    "                #not gen start\n",
    "                features = line\n",
    "                count = 1\n",
    "                while True:\n",
    "                    features = features + lines[index+count]\n",
    "                    if \"]\" in lines[index+count]: \n",
    "                        break\n",
    "                    count += 1\n",
    "                features = features.replace(\"Index(\", \"\")\n",
    "                features = features[:-2]\n",
    "                important_values[\"Features\"] = features\n",
    "                #not gen end\n",
    "    \n",
    "            # Extracting accuracy\n",
    "            if line.startswith(\"Accuracy\"):\n",
    "                accuracy = float(line.split(\":\")[1])\n",
    "                important_values[\"Accuracy\"] = accuracy\n",
    "    \n",
    "            # Extracting confusion matrix values\n",
    "            if \"True Negatives\" in line:\n",
    "                #not gen start\n",
    "                important_values[\"TN\"] = lines[index].replace(\"True Negatives (TN):\", \"\").replace(\"\\n\", \"\")\n",
    "                important_values[\"FP\"] = lines[index+1].replace(\"False Positives (FP):\", \"\").replace(\"\\n\", \"\")\n",
    "                important_values[\"FN\"] = lines[index+2].replace(\"False Negatives (FN):\", \"\").replace(\"\\n\", \"\")\n",
    "                important_values[\"TP\"] = lines[index+3].replace(\"True Positives (TP):\", \"\").replace(\"\\n\", \"\")\n",
    "                #not gen end\n",
    "    \n",
    "            # Extracting precision, recall, and F1-score\n",
    "            if \"Precision\" in line:\n",
    "                precision = float(re.search(r\"\\d+\\.\\d+\", line).group())\n",
    "                recall = float(re.search(r\"\\d+\\.\\d+\", lines[lines.index(line) + 1]).group())\n",
    "                f1_score = float(re.search(r\"\\d+\\.\\d+\", lines[lines.index(line) + 2]).group())\n",
    "                important_values[\"Precision\"] = precision\n",
    "                important_values[\"Recall\"] = recall\n",
    "                important_values[\"F1-Score\"] = f1_score\n",
    "    \n",
    "            # Extracting ROC AUC\n",
    "            if \"ROC AUC\" in line:\n",
    "                roc_auc = float(re.search(r\"\\d+\\.\\d+\", line).group())\n",
    "                important_values[\"ROC AUC\"] = roc_auc\n",
    "    \n",
    "            # Extracting weighted accuracy\n",
    "            if \"Weighted Accuracy\" in line:\n",
    "                weighted_accuracy = float(re.search(r\"\\d+\\.\\d+\", line).group())\n",
    "                important_values[\"Weighted Accuracy\"] = weighted_accuracy\n",
    "    \n",
    "            # Extracting macro F1 score\n",
    "            if \"Macro F1 Score\" in line:\n",
    "                macro_f1_score = float(re.search(r\"\\d+\\.\\d+\", line).group())\n",
    "                important_values[\"Macro F1 Score\"] = macro_f1_score\n",
    "    ##end of the generated\n",
    "    \n",
    "    # Convert dictionary to DataFrame\n",
    "    df = pd.DataFrame([important_values])\n",
    "    superstar_var_df = pd.concat([superstar_var_df, df], axis=0)\n",
    "\n",
    "superstar_var_df"
   ],
   "metadata": {
    "collapsed": false,
    "ExecuteTime": {
     "end_time": "2024-06-07T10:56:26.619202300Z",
     "start_time": "2024-06-07T10:56:24.050062800Z"
    }
   },
   "id": "30cc0730e62d50bf"
  },
  {
   "cell_type": "code",
   "execution_count": 2,
   "outputs": [
    {
     "data": {
      "text/plain": "  Filename                                           Features  Accuracy  \\\n0      231  ['explicit', 'track_number', 'num_artists', 'n...  0.994783   \n0      179  ['explicit', 'track_number', 'num_artists', 'n...  0.994083   \n0      114  ['explicit', 'track_number', 'num_artists', 'n...  0.993641   \n0       56  ['explicit', 'track_number', 'num_artists', 'n...  0.992866   \n0       28  ['explicit', 'track_number', 'num_artists', 'n...  0.992424   \n0      200  ['explicit', 'track_number', 'num_artists', 'n...  0.992240   \n0      189  ['explicit', 'track_number', 'num_artists', 'n...  0.992055   \n0       82  ['explicit', 'track_number', 'num_artists', 'n...  0.991926   \n0      190  ['explicit', 'track_number', 'num_artists', 'n...  0.991853   \n0       93  ['explicit', 'track_number', 'num_artists', 'n...  0.991816   \n\n   Precision    Recall  F1-Score   ROC AUC  Weighted Accuracy  Macro F1 Score  \\\n0   0.671233  0.919325  0.775930  0.975762           0.985061        0.886646   \n0   0.641711  0.900563  0.749415  0.973883           0.984374        0.873210   \n0   0.622715  0.894934  0.734411  0.976031           0.983941        0.865596   \n0   0.589024  0.906191  0.713969  0.973555           0.983182        0.855179   \n0   0.572792  0.900563  0.700219  0.971299           0.982748        0.848191   \n0   0.566038  0.900563  0.695148  0.973259           0.982567        0.845609   \n0   0.559579  0.898687  0.689705  0.972156           0.982387        0.842840   \n0   0.554661  0.904315  0.687589  0.972705           0.982260        0.841750   \n0   0.551646  0.911820  0.687412  0.972913           0.982188        0.841642   \n0   0.550511  0.909944  0.685997  0.971870           0.982152        0.840925   \n\n      TN   FP  FN   TP  \n0  53477  240  43  490  \n0  53449  268  53  480  \n0  53428  289  56  477  \n0  53380  337  50  483  \n0  53359  358  53  480  \n0  53349  368  53  480  \n0  53340  377  54  479  \n0  53330  387  51  482  \n0  53322  395  47  486  \n0  53321  396  48  485  ",
      "text/html": "<div>\n<style scoped>\n    .dataframe tbody tr th:only-of-type {\n        vertical-align: middle;\n    }\n\n    .dataframe tbody tr th {\n        vertical-align: top;\n    }\n\n    .dataframe thead th {\n        text-align: right;\n    }\n</style>\n<table border=\"1\" class=\"dataframe\">\n  <thead>\n    <tr style=\"text-align: right;\">\n      <th></th>\n      <th>Filename</th>\n      <th>Features</th>\n      <th>Accuracy</th>\n      <th>Precision</th>\n      <th>Recall</th>\n      <th>F1-Score</th>\n      <th>ROC AUC</th>\n      <th>Weighted Accuracy</th>\n      <th>Macro F1 Score</th>\n      <th>TN</th>\n      <th>FP</th>\n      <th>FN</th>\n      <th>TP</th>\n    </tr>\n  </thead>\n  <tbody>\n    <tr>\n      <th>0</th>\n      <td>231</td>\n      <td>['explicit', 'track_number', 'num_artists', 'n...</td>\n      <td>0.994783</td>\n      <td>0.671233</td>\n      <td>0.919325</td>\n      <td>0.775930</td>\n      <td>0.975762</td>\n      <td>0.985061</td>\n      <td>0.886646</td>\n      <td>53477</td>\n      <td>240</td>\n      <td>43</td>\n      <td>490</td>\n    </tr>\n    <tr>\n      <th>0</th>\n      <td>179</td>\n      <td>['explicit', 'track_number', 'num_artists', 'n...</td>\n      <td>0.994083</td>\n      <td>0.641711</td>\n      <td>0.900563</td>\n      <td>0.749415</td>\n      <td>0.973883</td>\n      <td>0.984374</td>\n      <td>0.873210</td>\n      <td>53449</td>\n      <td>268</td>\n      <td>53</td>\n      <td>480</td>\n    </tr>\n    <tr>\n      <th>0</th>\n      <td>114</td>\n      <td>['explicit', 'track_number', 'num_artists', 'n...</td>\n      <td>0.993641</td>\n      <td>0.622715</td>\n      <td>0.894934</td>\n      <td>0.734411</td>\n      <td>0.976031</td>\n      <td>0.983941</td>\n      <td>0.865596</td>\n      <td>53428</td>\n      <td>289</td>\n      <td>56</td>\n      <td>477</td>\n    </tr>\n    <tr>\n      <th>0</th>\n      <td>56</td>\n      <td>['explicit', 'track_number', 'num_artists', 'n...</td>\n      <td>0.992866</td>\n      <td>0.589024</td>\n      <td>0.906191</td>\n      <td>0.713969</td>\n      <td>0.973555</td>\n      <td>0.983182</td>\n      <td>0.855179</td>\n      <td>53380</td>\n      <td>337</td>\n      <td>50</td>\n      <td>483</td>\n    </tr>\n    <tr>\n      <th>0</th>\n      <td>28</td>\n      <td>['explicit', 'track_number', 'num_artists', 'n...</td>\n      <td>0.992424</td>\n      <td>0.572792</td>\n      <td>0.900563</td>\n      <td>0.700219</td>\n      <td>0.971299</td>\n      <td>0.982748</td>\n      <td>0.848191</td>\n      <td>53359</td>\n      <td>358</td>\n      <td>53</td>\n      <td>480</td>\n    </tr>\n    <tr>\n      <th>0</th>\n      <td>200</td>\n      <td>['explicit', 'track_number', 'num_artists', 'n...</td>\n      <td>0.992240</td>\n      <td>0.566038</td>\n      <td>0.900563</td>\n      <td>0.695148</td>\n      <td>0.973259</td>\n      <td>0.982567</td>\n      <td>0.845609</td>\n      <td>53349</td>\n      <td>368</td>\n      <td>53</td>\n      <td>480</td>\n    </tr>\n    <tr>\n      <th>0</th>\n      <td>189</td>\n      <td>['explicit', 'track_number', 'num_artists', 'n...</td>\n      <td>0.992055</td>\n      <td>0.559579</td>\n      <td>0.898687</td>\n      <td>0.689705</td>\n      <td>0.972156</td>\n      <td>0.982387</td>\n      <td>0.842840</td>\n      <td>53340</td>\n      <td>377</td>\n      <td>54</td>\n      <td>479</td>\n    </tr>\n    <tr>\n      <th>0</th>\n      <td>82</td>\n      <td>['explicit', 'track_number', 'num_artists', 'n...</td>\n      <td>0.991926</td>\n      <td>0.554661</td>\n      <td>0.904315</td>\n      <td>0.687589</td>\n      <td>0.972705</td>\n      <td>0.982260</td>\n      <td>0.841750</td>\n      <td>53330</td>\n      <td>387</td>\n      <td>51</td>\n      <td>482</td>\n    </tr>\n    <tr>\n      <th>0</th>\n      <td>190</td>\n      <td>['explicit', 'track_number', 'num_artists', 'n...</td>\n      <td>0.991853</td>\n      <td>0.551646</td>\n      <td>0.911820</td>\n      <td>0.687412</td>\n      <td>0.972913</td>\n      <td>0.982188</td>\n      <td>0.841642</td>\n      <td>53322</td>\n      <td>395</td>\n      <td>47</td>\n      <td>486</td>\n    </tr>\n    <tr>\n      <th>0</th>\n      <td>93</td>\n      <td>['explicit', 'track_number', 'num_artists', 'n...</td>\n      <td>0.991816</td>\n      <td>0.550511</td>\n      <td>0.909944</td>\n      <td>0.685997</td>\n      <td>0.971870</td>\n      <td>0.982152</td>\n      <td>0.840925</td>\n      <td>53321</td>\n      <td>396</td>\n      <td>48</td>\n      <td>485</td>\n    </tr>\n  </tbody>\n</table>\n</div>"
     },
     "execution_count": 2,
     "metadata": {},
     "output_type": "execute_result"
    }
   ],
   "source": [
    "superstar_var_df.sort_values(by=[\"Precision\"], ascending=[False], inplace=True)\n",
    "superstar_var_df.head(10)"
   ],
   "metadata": {
    "collapsed": false,
    "ExecuteTime": {
     "end_time": "2024-06-07T10:56:26.694199600Z",
     "start_time": "2024-06-07T10:56:26.622203100Z"
    }
   },
   "id": "42142099070dff2"
  },
  {
   "cell_type": "code",
   "execution_count": 3,
   "outputs": [
    {
     "name": "stdout",
     "output_type": "stream",
     "text": [
      "['explicit', 'track_number', 'num_artists', 'num_available_markets',\n",
      "       'duration_ms', 'key', 'mode', 'time_signature', 'acousticness',\n",
      "       'danceability', 'energy', 'instrumentalness', 'liveness', 'loudness',\n",
      "       'speechiness', 'valence', 'tempo', 'years_on_charts', 'superstar_x',\n",
      "       'superstar_v1_x', 'superstar_v2_x', 'superstar_v5_x', 'success_rate_x',\n",
      "       'hits_in_past_x']\n",
      "['explicit', 'track_number', 'num_artists', 'num_available_markets',\n",
      "       'duration_ms', 'key', 'mode', 'time_signature', 'acousticness',\n",
      "       'danceability', 'energy', 'instrumentalness', 'liveness', 'loudness',\n",
      "       'speechiness', 'valence', 'tempo', 'years_on_charts', 'superstar_x',\n",
      "       'superstar_v2_x', 'superstar_v3_x', 'success_rate_x', 'hits_in_past_x']\n",
      "['explicit', 'track_number', 'num_artists', 'num_available_markets',\n",
      "       'duration_ms', 'key', 'mode', 'time_signature', 'acousticness',\n",
      "       'danceability', 'energy', 'instrumentalness', 'liveness', 'loudness',\n",
      "       'speechiness', 'valence', 'tempo', 'years_on_charts', 'superstar_v1_x',\n",
      "       'superstar_v2_x', 'superstar_v3_x', 'success_rate_x']\n",
      "['explicit', 'track_number', 'num_artists', 'num_available_markets',\n",
      "       'duration_ms', 'key', 'mode', 'time_signature', 'acousticness',\n",
      "       'danceability', 'energy', 'instrumentalness', 'liveness', 'loudness',\n",
      "       'speechiness', 'valence', 'tempo', 'years_on_charts', 'superstar_v2_x',\n",
      "       'superstar_v3_x', 'superstar_v4_x']\n",
      "['explicit', 'track_number', 'num_artists', 'num_available_markets',\n",
      "       'duration_ms', 'key', 'mode', 'time_signature', 'acousticness',\n",
      "       'danceability', 'energy', 'instrumentalness', 'liveness', 'loudness',\n",
      "       'speechiness', 'valence', 'tempo', 'years_on_charts', 'superstar_v3_x',\n",
      "       'superstar_v4_x', 'superstar_v5_x']\n",
      "['explicit', 'track_number', 'num_artists', 'num_available_markets',\n",
      "       'duration_ms', 'key', 'mode', 'time_signature', 'acousticness',\n",
      "       'danceability', 'energy', 'instrumentalness', 'liveness', 'loudness',\n",
      "       'speechiness', 'valence', 'tempo', 'years_on_charts', 'superstar_x',\n",
      "       'superstar_v1_x', 'superstar_v4_x']\n",
      "['explicit', 'track_number', 'num_artists', 'num_available_markets',\n",
      "       'duration_ms', 'key', 'mode', 'time_signature', 'acousticness',\n",
      "       'danceability', 'energy', 'instrumentalness', 'liveness', 'loudness',\n",
      "       'speechiness', 'valence', 'tempo', 'years_on_charts', 'superstar_x',\n",
      "       'superstar_v2_x', 'superstar_v3_x', 'superstar_v4_x', 'superstar_v5_x',\n",
      "       'hits_in_past_x']\n",
      "['explicit', 'track_number', 'num_artists', 'num_available_markets',\n",
      "       'duration_ms', 'key', 'mode', 'time_signature', 'acousticness',\n",
      "       'danceability', 'energy', 'instrumentalness', 'liveness', 'loudness',\n",
      "       'speechiness', 'valence', 'tempo', 'years_on_charts', 'superstar_v1_x',\n",
      "       'superstar_v3_x', 'success_rate_x']\n",
      "['explicit', 'track_number', 'num_artists', 'num_available_markets',\n",
      "       'duration_ms', 'key', 'mode', 'time_signature', 'acousticness',\n",
      "       'danceability', 'energy', 'instrumentalness', 'liveness', 'loudness',\n",
      "       'speechiness', 'valence', 'tempo', 'years_on_charts', 'superstar_x',\n",
      "       'superstar_v2_x', 'superstar_v3_x', 'superstar_v4_x', 'superstar_v5_x',\n",
      "       'success_rate_x']\n",
      "['explicit', 'track_number', 'num_artists', 'num_available_markets',\n",
      "       'duration_ms', 'key', 'mode', 'time_signature', 'acousticness',\n",
      "       'danceability', 'energy', 'instrumentalness', 'liveness', 'loudness',\n",
      "       'speechiness', 'valence', 'tempo', 'years_on_charts', 'superstar_v1_x',\n",
      "       'superstar_v3_x', 'superstar_v4_x', 'superstar_v5_x', 'hits_in_past_x']\n"
     ]
    },
    {
     "data": {
      "text/plain": "0    None\n0    None\n0    None\n0    None\n0    None\n0    None\n0    None\n0    None\n0    None\n0    None\nName: Features, dtype: object"
     },
     "execution_count": 3,
     "metadata": {},
     "output_type": "execute_result"
    }
   ],
   "source": [
    "superstar_var_df[\"Features\"].head(10).apply(lambda x: print(x))"
   ],
   "metadata": {
    "collapsed": false,
    "ExecuteTime": {
     "end_time": "2024-06-07T10:56:26.785201300Z",
     "start_time": "2024-06-07T10:56:26.653201Z"
    }
   },
   "id": "efeaa24e17d7f175"
  },
  {
   "cell_type": "code",
   "execution_count": 4,
   "outputs": [
    {
     "data": {
      "text/plain": "     Recall  Precision   ROC AUC  Macro F1 Score\n0  0.919325   0.671233  0.975762        0.886646\n0  0.900563   0.641711  0.973883        0.873210\n0  0.894934   0.622715  0.976031        0.865596\n0  0.906191   0.589024  0.973555        0.855179\n0  0.900563   0.572792  0.971299        0.848191\n0  0.900563   0.566038  0.973259        0.845609\n0  0.898687   0.559579  0.972156        0.842840\n0  0.904315   0.554661  0.972705        0.841750\n0  0.911820   0.551646  0.972913        0.841642\n0  0.909944   0.550511  0.971870        0.840925",
      "text/html": "<div>\n<style scoped>\n    .dataframe tbody tr th:only-of-type {\n        vertical-align: middle;\n    }\n\n    .dataframe tbody tr th {\n        vertical-align: top;\n    }\n\n    .dataframe thead th {\n        text-align: right;\n    }\n</style>\n<table border=\"1\" class=\"dataframe\">\n  <thead>\n    <tr style=\"text-align: right;\">\n      <th></th>\n      <th>Recall</th>\n      <th>Precision</th>\n      <th>ROC AUC</th>\n      <th>Macro F1 Score</th>\n    </tr>\n  </thead>\n  <tbody>\n    <tr>\n      <th>0</th>\n      <td>0.919325</td>\n      <td>0.671233</td>\n      <td>0.975762</td>\n      <td>0.886646</td>\n    </tr>\n    <tr>\n      <th>0</th>\n      <td>0.900563</td>\n      <td>0.641711</td>\n      <td>0.973883</td>\n      <td>0.873210</td>\n    </tr>\n    <tr>\n      <th>0</th>\n      <td>0.894934</td>\n      <td>0.622715</td>\n      <td>0.976031</td>\n      <td>0.865596</td>\n    </tr>\n    <tr>\n      <th>0</th>\n      <td>0.906191</td>\n      <td>0.589024</td>\n      <td>0.973555</td>\n      <td>0.855179</td>\n    </tr>\n    <tr>\n      <th>0</th>\n      <td>0.900563</td>\n      <td>0.572792</td>\n      <td>0.971299</td>\n      <td>0.848191</td>\n    </tr>\n    <tr>\n      <th>0</th>\n      <td>0.900563</td>\n      <td>0.566038</td>\n      <td>0.973259</td>\n      <td>0.845609</td>\n    </tr>\n    <tr>\n      <th>0</th>\n      <td>0.898687</td>\n      <td>0.559579</td>\n      <td>0.972156</td>\n      <td>0.842840</td>\n    </tr>\n    <tr>\n      <th>0</th>\n      <td>0.904315</td>\n      <td>0.554661</td>\n      <td>0.972705</td>\n      <td>0.841750</td>\n    </tr>\n    <tr>\n      <th>0</th>\n      <td>0.911820</td>\n      <td>0.551646</td>\n      <td>0.972913</td>\n      <td>0.841642</td>\n    </tr>\n    <tr>\n      <th>0</th>\n      <td>0.909944</td>\n      <td>0.550511</td>\n      <td>0.971870</td>\n      <td>0.840925</td>\n    </tr>\n  </tbody>\n</table>\n</div>"
     },
     "execution_count": 4,
     "metadata": {},
     "output_type": "execute_result"
    }
   ],
   "source": [
    "superstar_var_df[[\"Recall\", \"Precision\", \"ROC AUC\", \"Macro F1 Score\"]].head(10)"
   ],
   "metadata": {
    "collapsed": false,
    "ExecuteTime": {
     "end_time": "2024-06-07T10:56:26.819201400Z",
     "start_time": "2024-06-07T10:56:26.670203200Z"
    }
   },
   "id": "2f16729a47892272"
  },
  {
   "cell_type": "code",
   "execution_count": 5,
   "outputs": [],
   "source": [
    "superstar_var_df[\"Features\"] = superstar_var_df[\"Features\"].apply(lambda x: eval(x))"
   ],
   "metadata": {
    "collapsed": false,
    "ExecuteTime": {
     "end_time": "2024-06-07T10:56:26.821200700Z",
     "start_time": "2024-06-07T10:56:26.684200900Z"
    }
   },
   "id": "305eb267d5cfa1d9"
  },
  {
   "cell_type": "code",
   "execution_count": 6,
   "outputs": [],
   "source": [
    "default_columns = set(superstar_var_df[superstar_var_df[\"Filename\"] == 0][\"Features\"].iloc[0])\n",
    "\n",
    "superstar_var_df[\"newcol\"] = superstar_var_df[\"Features\"].apply(lambda x: list(set(x) - default_columns))"
   ],
   "metadata": {
    "collapsed": false,
    "ExecuteTime": {
     "end_time": "2024-06-07T10:56:26.821200700Z",
     "start_time": "2024-06-07T10:56:26.699203900Z"
    }
   },
   "id": "4d1c1faf900f6588"
  },
  {
   "cell_type": "code",
   "execution_count": 7,
   "outputs": [
    {
     "data": {
      "text/plain": "                                              newcol    Recall  Precision  \\\n0  [superstar_v1_x, superstar_v5_x, superstar_v2_...  0.919325   0.671233   \n0  [superstar_v2_x, success_rate_x, superstar_x, ...  0.900563   0.641711   \n0  [success_rate_x, superstar_v1_x, superstar_v3_...  0.894934   0.622715   \n0   [superstar_v4_x, superstar_v3_x, superstar_v2_x]  0.906191   0.589024   \n0   [superstar_v4_x, superstar_v3_x, superstar_v5_x]  0.900563   0.572792   \n0      [superstar_v4_x, superstar_v1_x, superstar_x]  0.900563   0.566038   \n0  [superstar_v5_x, superstar_v2_x, superstar_x, ...  0.898687   0.559579   \n0   [success_rate_x, superstar_v1_x, superstar_v3_x]  0.904315   0.554661   \n0  [superstar_v5_x, superstar_v2_x, success_rate_...  0.911820   0.551646   \n0  [superstar_v1_x, superstar_v5_x, superstar_v4_...  0.909944   0.550511   \n\n    ROC AUC  Macro F1 Score  \n0  0.975762        0.886646  \n0  0.973883        0.873210  \n0  0.976031        0.865596  \n0  0.973555        0.855179  \n0  0.971299        0.848191  \n0  0.973259        0.845609  \n0  0.972156        0.842840  \n0  0.972705        0.841750  \n0  0.972913        0.841642  \n0  0.971870        0.840925  ",
      "text/html": "<div>\n<style scoped>\n    .dataframe tbody tr th:only-of-type {\n        vertical-align: middle;\n    }\n\n    .dataframe tbody tr th {\n        vertical-align: top;\n    }\n\n    .dataframe thead th {\n        text-align: right;\n    }\n</style>\n<table border=\"1\" class=\"dataframe\">\n  <thead>\n    <tr style=\"text-align: right;\">\n      <th></th>\n      <th>newcol</th>\n      <th>Recall</th>\n      <th>Precision</th>\n      <th>ROC AUC</th>\n      <th>Macro F1 Score</th>\n    </tr>\n  </thead>\n  <tbody>\n    <tr>\n      <th>0</th>\n      <td>[superstar_v1_x, superstar_v5_x, superstar_v2_...</td>\n      <td>0.919325</td>\n      <td>0.671233</td>\n      <td>0.975762</td>\n      <td>0.886646</td>\n    </tr>\n    <tr>\n      <th>0</th>\n      <td>[superstar_v2_x, success_rate_x, superstar_x, ...</td>\n      <td>0.900563</td>\n      <td>0.641711</td>\n      <td>0.973883</td>\n      <td>0.873210</td>\n    </tr>\n    <tr>\n      <th>0</th>\n      <td>[success_rate_x, superstar_v1_x, superstar_v3_...</td>\n      <td>0.894934</td>\n      <td>0.622715</td>\n      <td>0.976031</td>\n      <td>0.865596</td>\n    </tr>\n    <tr>\n      <th>0</th>\n      <td>[superstar_v4_x, superstar_v3_x, superstar_v2_x]</td>\n      <td>0.906191</td>\n      <td>0.589024</td>\n      <td>0.973555</td>\n      <td>0.855179</td>\n    </tr>\n    <tr>\n      <th>0</th>\n      <td>[superstar_v4_x, superstar_v3_x, superstar_v5_x]</td>\n      <td>0.900563</td>\n      <td>0.572792</td>\n      <td>0.971299</td>\n      <td>0.848191</td>\n    </tr>\n    <tr>\n      <th>0</th>\n      <td>[superstar_v4_x, superstar_v1_x, superstar_x]</td>\n      <td>0.900563</td>\n      <td>0.566038</td>\n      <td>0.973259</td>\n      <td>0.845609</td>\n    </tr>\n    <tr>\n      <th>0</th>\n      <td>[superstar_v5_x, superstar_v2_x, superstar_x, ...</td>\n      <td>0.898687</td>\n      <td>0.559579</td>\n      <td>0.972156</td>\n      <td>0.842840</td>\n    </tr>\n    <tr>\n      <th>0</th>\n      <td>[success_rate_x, superstar_v1_x, superstar_v3_x]</td>\n      <td>0.904315</td>\n      <td>0.554661</td>\n      <td>0.972705</td>\n      <td>0.841750</td>\n    </tr>\n    <tr>\n      <th>0</th>\n      <td>[superstar_v5_x, superstar_v2_x, success_rate_...</td>\n      <td>0.911820</td>\n      <td>0.551646</td>\n      <td>0.972913</td>\n      <td>0.841642</td>\n    </tr>\n    <tr>\n      <th>0</th>\n      <td>[superstar_v1_x, superstar_v5_x, superstar_v4_...</td>\n      <td>0.909944</td>\n      <td>0.550511</td>\n      <td>0.971870</td>\n      <td>0.840925</td>\n    </tr>\n  </tbody>\n</table>\n</div>"
     },
     "execution_count": 7,
     "metadata": {},
     "output_type": "execute_result"
    }
   ],
   "source": [
    "superstar_var_df[[\"newcol\", \"Recall\", \"Precision\", \"ROC AUC\", \"Macro F1 Score\"]].head(10)"
   ],
   "metadata": {
    "collapsed": false,
    "ExecuteTime": {
     "end_time": "2024-06-07T10:56:26.862199800Z",
     "start_time": "2024-06-07T10:56:26.715204900Z"
    }
   },
   "id": "6730420fd39238d2"
  },
  {
   "cell_type": "code",
   "execution_count": 8,
   "outputs": [
    {
     "name": "stdout",
     "output_type": "stream",
     "text": [
      "newcol            [superstar_v1_x]\n",
      "Recall                    0.908068\n",
      "Precision                 0.497431\n",
      "ROC AUC                    0.97446\n",
      "Macro F1 Score            0.818867\n",
      "Name: 0, dtype: object\n",
      "newcol            [superstar_v3_x]\n",
      "Recall                    0.906191\n",
      "Precision                 0.444342\n",
      "ROC AUC                   0.976455\n",
      "Macro F1 Score            0.795089\n",
      "Name: 0, dtype: object\n",
      "newcol            [superstar_v5_x]\n",
      "Recall                    0.913696\n",
      "Precision                 0.374904\n",
      "ROC AUC                   0.973663\n",
      "Macro F1 Score            0.761808\n",
      "Name: 0, dtype: object\n",
      "newcol            [superstar_v2_x]\n",
      "Recall                    0.904315\n",
      "Precision                 0.358364\n",
      "ROC AUC                   0.974357\n",
      "Macro F1 Score             0.75237\n",
      "Name: 0, dtype: object\n",
      "newcol            [superstar_v4_x]\n",
      "Recall                    0.904315\n",
      "Precision                 0.354412\n",
      "ROC AUC                   0.972217\n",
      "Macro F1 Score            0.750265\n",
      "Name: 0, dtype: object\n",
      "newcol            [success_rate_x]\n",
      "Recall                     0.91182\n",
      "Precision                 0.343463\n",
      "ROC AUC                   0.977056\n",
      "Macro F1 Score            0.744907\n",
      "Name: 0, dtype: object\n",
      "newcol            [hits_in_past_x]\n",
      "Recall                    0.921201\n",
      "Precision                 0.335383\n",
      "ROC AUC                   0.981185\n",
      "Macro F1 Score            0.741104\n",
      "Name: 0, dtype: object\n",
      "newcol            [superstar_x]\n",
      "Recall                 0.921201\n",
      "Precision              0.237888\n",
      "ROC AUC                0.974913\n",
      "Macro F1 Score         0.681439\n",
      "Name: 0, dtype: object\n"
     ]
    },
    {
     "data": {
      "text/plain": "    Filename                                           Features  Accuracy  \\\n0        231  [explicit, track_number, num_artists, num_avai...  0.994783   \n0        179  [explicit, track_number, num_artists, num_avai...  0.994083   \n0        114  [explicit, track_number, num_artists, num_avai...  0.993641   \n0         56  [explicit, track_number, num_artists, num_avai...  0.992866   \n0         28  [explicit, track_number, num_artists, num_avai...  0.992424   \n..       ...                                                ...       ...   \n0          5  [explicit, track_number, num_artists, num_avai...  0.970175   \n0        239  [explicit, track_number, num_artists, num_avai...  0.967576   \n0         42  [explicit, track_number, num_artists, num_avai...  0.965862   \n0        166  [explicit, track_number, num_artists, num_avai...  0.965806   \n0        132  [explicit, track_number, num_artists, num_avai...  0.963963   \n\n    Precision    Recall  F1-Score   ROC AUC  Weighted Accuracy  \\\n0    0.671233  0.919325  0.775930  0.975762           0.985061   \n0    0.641711  0.900563  0.749415  0.973883           0.984374   \n0    0.622715  0.894934  0.734411  0.976031           0.983941   \n0    0.589024  0.906191  0.713969  0.973555           0.983182   \n0    0.572792  0.900563  0.700219  0.971299           0.982748   \n..        ...       ...       ...       ...                ...   \n0    0.237542  0.921201  0.377692  0.977772           0.960936   \n0    0.222121  0.919325  0.357795  0.971990           0.958388   \n0    0.213136  0.919325  0.346045  0.971768           0.956708   \n0    0.213108  0.921201  0.346140  0.973743           0.956653   \n0    0.203997  0.919325  0.333901  0.976639           0.954846   \n\n    Macro F1 Score     TN    FP  FN   TP  \\\n0         0.886646  53477   240  43  490   \n0         0.873210  53449   268  53  480   \n0         0.865596  53428   289  56  477   \n0         0.855179  53380   337  50  483   \n0         0.848191  53359   358  53  480   \n..             ...    ...   ...  ..  ...   \n0         0.681207  52141  1576  42  491   \n0         0.670581  52001  1716  43  490   \n0         0.664259  51908  1809  43  490   \n0         0.664292  51904  1813  42  491   \n0         0.657691  51805  1912  43  490   \n\n                                               newcol  \n0   [superstar_v1_x, superstar_v5_x, superstar_v2_...  \n0   [superstar_v2_x, success_rate_x, superstar_x, ...  \n0   [success_rate_x, superstar_v1_x, superstar_v3_...  \n0    [superstar_v4_x, superstar_v3_x, superstar_v2_x]  \n0    [superstar_v4_x, superstar_v3_x, superstar_v5_x]  \n..                                                ...  \n0                    [hits_in_past_x, superstar_v5_x]  \n0   [superstar_v1_x, superstar_v5_x, superstar_v2_...  \n0    [success_rate_x, superstar_v4_x, superstar_v2_x]  \n0   [success_rate_x, superstar_x, superstar_v5_x, ...  \n0                       [superstar_v5_x, superstar_x]  \n\n[256 rows x 14 columns]",
      "text/html": "<div>\n<style scoped>\n    .dataframe tbody tr th:only-of-type {\n        vertical-align: middle;\n    }\n\n    .dataframe tbody tr th {\n        vertical-align: top;\n    }\n\n    .dataframe thead th {\n        text-align: right;\n    }\n</style>\n<table border=\"1\" class=\"dataframe\">\n  <thead>\n    <tr style=\"text-align: right;\">\n      <th></th>\n      <th>Filename</th>\n      <th>Features</th>\n      <th>Accuracy</th>\n      <th>Precision</th>\n      <th>Recall</th>\n      <th>F1-Score</th>\n      <th>ROC AUC</th>\n      <th>Weighted Accuracy</th>\n      <th>Macro F1 Score</th>\n      <th>TN</th>\n      <th>FP</th>\n      <th>FN</th>\n      <th>TP</th>\n      <th>newcol</th>\n    </tr>\n  </thead>\n  <tbody>\n    <tr>\n      <th>0</th>\n      <td>231</td>\n      <td>[explicit, track_number, num_artists, num_avai...</td>\n      <td>0.994783</td>\n      <td>0.671233</td>\n      <td>0.919325</td>\n      <td>0.775930</td>\n      <td>0.975762</td>\n      <td>0.985061</td>\n      <td>0.886646</td>\n      <td>53477</td>\n      <td>240</td>\n      <td>43</td>\n      <td>490</td>\n      <td>[superstar_v1_x, superstar_v5_x, superstar_v2_...</td>\n    </tr>\n    <tr>\n      <th>0</th>\n      <td>179</td>\n      <td>[explicit, track_number, num_artists, num_avai...</td>\n      <td>0.994083</td>\n      <td>0.641711</td>\n      <td>0.900563</td>\n      <td>0.749415</td>\n      <td>0.973883</td>\n      <td>0.984374</td>\n      <td>0.873210</td>\n      <td>53449</td>\n      <td>268</td>\n      <td>53</td>\n      <td>480</td>\n      <td>[superstar_v2_x, success_rate_x, superstar_x, ...</td>\n    </tr>\n    <tr>\n      <th>0</th>\n      <td>114</td>\n      <td>[explicit, track_number, num_artists, num_avai...</td>\n      <td>0.993641</td>\n      <td>0.622715</td>\n      <td>0.894934</td>\n      <td>0.734411</td>\n      <td>0.976031</td>\n      <td>0.983941</td>\n      <td>0.865596</td>\n      <td>53428</td>\n      <td>289</td>\n      <td>56</td>\n      <td>477</td>\n      <td>[success_rate_x, superstar_v1_x, superstar_v3_...</td>\n    </tr>\n    <tr>\n      <th>0</th>\n      <td>56</td>\n      <td>[explicit, track_number, num_artists, num_avai...</td>\n      <td>0.992866</td>\n      <td>0.589024</td>\n      <td>0.906191</td>\n      <td>0.713969</td>\n      <td>0.973555</td>\n      <td>0.983182</td>\n      <td>0.855179</td>\n      <td>53380</td>\n      <td>337</td>\n      <td>50</td>\n      <td>483</td>\n      <td>[superstar_v4_x, superstar_v3_x, superstar_v2_x]</td>\n    </tr>\n    <tr>\n      <th>0</th>\n      <td>28</td>\n      <td>[explicit, track_number, num_artists, num_avai...</td>\n      <td>0.992424</td>\n      <td>0.572792</td>\n      <td>0.900563</td>\n      <td>0.700219</td>\n      <td>0.971299</td>\n      <td>0.982748</td>\n      <td>0.848191</td>\n      <td>53359</td>\n      <td>358</td>\n      <td>53</td>\n      <td>480</td>\n      <td>[superstar_v4_x, superstar_v3_x, superstar_v5_x]</td>\n    </tr>\n    <tr>\n      <th>...</th>\n      <td>...</td>\n      <td>...</td>\n      <td>...</td>\n      <td>...</td>\n      <td>...</td>\n      <td>...</td>\n      <td>...</td>\n      <td>...</td>\n      <td>...</td>\n      <td>...</td>\n      <td>...</td>\n      <td>...</td>\n      <td>...</td>\n      <td>...</td>\n    </tr>\n    <tr>\n      <th>0</th>\n      <td>5</td>\n      <td>[explicit, track_number, num_artists, num_avai...</td>\n      <td>0.970175</td>\n      <td>0.237542</td>\n      <td>0.921201</td>\n      <td>0.377692</td>\n      <td>0.977772</td>\n      <td>0.960936</td>\n      <td>0.681207</td>\n      <td>52141</td>\n      <td>1576</td>\n      <td>42</td>\n      <td>491</td>\n      <td>[hits_in_past_x, superstar_v5_x]</td>\n    </tr>\n    <tr>\n      <th>0</th>\n      <td>239</td>\n      <td>[explicit, track_number, num_artists, num_avai...</td>\n      <td>0.967576</td>\n      <td>0.222121</td>\n      <td>0.919325</td>\n      <td>0.357795</td>\n      <td>0.971990</td>\n      <td>0.958388</td>\n      <td>0.670581</td>\n      <td>52001</td>\n      <td>1716</td>\n      <td>43</td>\n      <td>490</td>\n      <td>[superstar_v1_x, superstar_v5_x, superstar_v2_...</td>\n    </tr>\n    <tr>\n      <th>0</th>\n      <td>42</td>\n      <td>[explicit, track_number, num_artists, num_avai...</td>\n      <td>0.965862</td>\n      <td>0.213136</td>\n      <td>0.919325</td>\n      <td>0.346045</td>\n      <td>0.971768</td>\n      <td>0.956708</td>\n      <td>0.664259</td>\n      <td>51908</td>\n      <td>1809</td>\n      <td>43</td>\n      <td>490</td>\n      <td>[success_rate_x, superstar_v4_x, superstar_v2_x]</td>\n    </tr>\n    <tr>\n      <th>0</th>\n      <td>166</td>\n      <td>[explicit, track_number, num_artists, num_avai...</td>\n      <td>0.965806</td>\n      <td>0.213108</td>\n      <td>0.921201</td>\n      <td>0.346140</td>\n      <td>0.973743</td>\n      <td>0.956653</td>\n      <td>0.664292</td>\n      <td>51904</td>\n      <td>1813</td>\n      <td>42</td>\n      <td>491</td>\n      <td>[success_rate_x, superstar_x, superstar_v5_x, ...</td>\n    </tr>\n    <tr>\n      <th>0</th>\n      <td>132</td>\n      <td>[explicit, track_number, num_artists, num_avai...</td>\n      <td>0.963963</td>\n      <td>0.203997</td>\n      <td>0.919325</td>\n      <td>0.333901</td>\n      <td>0.976639</td>\n      <td>0.954846</td>\n      <td>0.657691</td>\n      <td>51805</td>\n      <td>1912</td>\n      <td>43</td>\n      <td>490</td>\n      <td>[superstar_v5_x, superstar_x]</td>\n    </tr>\n  </tbody>\n</table>\n<p>256 rows × 14 columns</p>\n</div>"
     },
     "execution_count": 8,
     "metadata": {},
     "output_type": "execute_result"
    }
   ],
   "source": [
    "def check_length(row):\n",
    "    if len(row[\"newcol\"]) == 1:\n",
    "        print(row[[\"newcol\", \"Recall\", \"Precision\", \"ROC AUC\", \"Macro F1 Score\"]])\n",
    "    return row  # You need to return the row to maintain the DataFrame structure\n",
    "\n",
    "superstar_var_df.apply(check_length, axis=1)"
   ],
   "metadata": {
    "collapsed": false,
    "ExecuteTime": {
     "end_time": "2024-06-07T10:56:26.901201100Z",
     "start_time": "2024-06-07T10:56:26.746200400Z"
    }
   },
   "id": "2c2f05be3ce1f5c0"
  }
 ],
 "metadata": {
  "kernelspec": {
   "display_name": "Python 3",
   "language": "python",
   "name": "python3"
  },
  "language_info": {
   "codemirror_mode": {
    "name": "ipython",
    "version": 2
   },
   "file_extension": ".py",
   "mimetype": "text/x-python",
   "name": "python",
   "nbconvert_exporter": "python",
   "pygments_lexer": "ipython2",
   "version": "2.7.6"
  }
 },
 "nbformat": 4,
 "nbformat_minor": 5
}
