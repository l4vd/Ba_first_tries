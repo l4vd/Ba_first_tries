{
 "cells": [
  {
   "cell_type": "code",
   "execution_count": 1,
   "id": "initial_id",
   "metadata": {
    "collapsed": true,
    "ExecuteTime": {
     "end_time": "2024-06-28T10:26:17.278482400Z",
     "start_time": "2024-06-28T10:26:05.776482200Z"
    }
   },
   "outputs": [],
   "source": [
    "import matplotlib\n",
    "import pandas as pd\n",
    "import torch\n",
    "from sklearn.impute import SimpleImputer\n",
    "from sklearn.preprocessing import OneHotEncoder\n",
    "from torch import nn\n",
    "\n",
    "import matplotlib.pyplot as plt\n",
    "import numpy as np\n",
    "from torch.utils.data import DataLoader, TensorDataset\n",
    "from sklearn import metrics\n",
    "import random\n",
    "from sklearn.metrics import classification_report\n",
    "from sklearn.model_selection import train_test_split\n",
    "\n",
    "\n",
    "dtype_dict = {\n",
    "    'song_id': str,\n",
    "    'song_name': str,\n",
    "    'song_popularity': float,\n",
    "    'explicit': bool,\n",
    "    'song_type': str,\n",
    "    'track_number': float,\n",
    "    'num_artists': float,\n",
    "    'num_available_markets': float,\n",
    "    'release_date': str,  # Assuming it's a date, change to appropriate type if needed\n",
    "    'duration_ms': float,\n",
    "    'key': float,\n",
    "    'mode': float,\n",
    "    'time_signature': float,\n",
    "    'acousticness': float,\n",
    "    'danceability': float,\n",
    "    'energy': float,\n",
    "    'instrumentalness': float,\n",
    "    'liveness': float,\n",
    "    'loudness': float,\n",
    "    'speechiness': float,\n",
    "    'valence': float,\n",
    "    'tempo': float,\n",
    "    'hit': float,\n",
    "    'nr_artists': float,\n",
    "    'artist1_id': str,  # evtl ersätzen mit eintweder haswert oder count\n",
    "    'artist2_id': str,\n",
    "    'eigencentrality_x': float,\n",
    "    'name_x': str,\n",
    "    'eccentricity_x': float,\n",
    "    'degree_x': float,\n",
    "    'clustering_x': float,\n",
    "    'closnesscentrality_x': float,\n",
    "    'weighted degree_x': float,\n",
    "    'betweenesscentrality_x': float,\n",
    "    'Cluster_x': float,\n",
    "    'eigencentrality_y': float,\n",
    "    'name_y': str,\n",
    "    'eccentricity_y': float,\n",
    "    'degree_y': float,\n",
    "    'clustering_y': float,\n",
    "    'closnesscentrality_y': float,\n",
    "    'weighted degree_y': float,\n",
    "    'betweenesscentrality_y': float,\n",
    "    'Cluster_y': float\n",
    "}\n",
    "\n",
    "data = pd.read_csv(\"data_superstar_v1_0.csv\", delimiter=\",\", dtype=dtype_dict, na_values=[''])\n",
    "data['date'] = pd.to_datetime(data['release_date'])\n",
    "data.sort_values(by=\"date\", inplace=True)"
   ]
  },
  {
   "cell_type": "code",
   "execution_count": 2,
   "outputs": [
    {
     "data": {
      "text/plain": "                       song_id  \\\n0       7kXUEJmfvRXbzxOC0pHQgb   \n3659    1qWiKzVrG0GQd1qbgKCsSF   \n3658    1oNYa5jcL10TbXQSPRgbsk   \n3657    7A131DrpfbWAfNJLrxikwf   \n3656    4SRjOJm5AjO3fxXpZSTEBb   \n...                        ...   \n911001  1EeuFwQ7RhTNlPg69LGUxM   \n911000  2O9CikWfjkYAgGCBws5Pl4   \n911025  2CZ46u5NGXQFXke3PMCuAK   \n911012  6zhg8TnVKi90ITDzFKwPr0   \n911026  6Fh2QgjCxL96dA3Gtpfr4Q   \n\n                                                song_name  song_popularity  \\\n0                          I Can't Believe I'm Losing You              5.0   \n3659                    I've Grown Accustomed To Her Face             14.0   \n3658                                      Come Back To Me             16.0   \n3657                                    Top Of The Stairs             26.0   \n3656                                Never Crossed My Mind             20.0   \n...                                                   ...              ...   \n911001                         All the Kids on the Street              5.0   \n911000                           Baby I'll Give It to You              1.0   \n911025                   Today I Started Loving You Again              3.0   \n911012                      Swingtown - Alternate Version             26.0   \n911026  One Sweet Day (16-Bit Mariah Carey & Boyz II M...              0.0   \n\n        explicit song_type  track_number  num_artists  num_available_markets  \\\n0          False      Solo          12.0          1.0                   79.0   \n3659       False      Solo           2.0          1.0                   79.0   \n3658       False      Solo           5.0          1.0                    2.0   \n3657       False      Solo           4.0          1.0                    2.0   \n3656       False      Solo           3.0          1.0                    2.0   \n...          ...       ...           ...          ...                    ...   \n911001     False      Solo           6.0          1.0                   79.0   \n911000     False      Solo          25.0          1.0                   76.0   \n911025     False      Solo          15.0          1.0                   78.0   \n911012     False      Solo           5.0          1.0                   79.0   \n911026     False      Solo          27.0          1.0                   79.0   \n\n       release_date  duration_ms  ...  superstar_v4_y  superstar_v5_x  \\\n0        1995-01-01     162667.0  ...             1.0             1.0   \n3659     1995-01-01     349120.0  ...             1.0             1.0   \n3658     1995-01-01     206093.0  ...             1.0             1.0   \n3657     1995-01-01     271307.0  ...             1.0             1.0   \n3656     1995-01-01     242027.0  ...             1.0             1.0   \n...             ...          ...  ...             ...             ...   \n911001   2019-08-23     192401.0  ...             1.0             1.0   \n911000   2019-08-23     194907.0  ...             1.0             1.0   \n911025   2019-08-23     172147.0  ...             1.0             1.0   \n911012   2019-08-23     205707.0  ...             1.0             1.0   \n911026   2019-08-26     260910.0  ...             1.0             1.0   \n\n        superstar_v5_y  success_rate_x  success_rate_y  hits_in_past_x  \\\n0                  1.0             0.0             0.0               0   \n3659               1.0             0.0             0.0               0   \n3658               1.0             0.0             0.0               0   \n3657               1.0             0.0             0.0               0   \n3656               1.0             0.0             0.0               0   \n...                ...             ...             ...             ...   \n911001             1.0             0.0             0.0               0   \n911000             1.0             0.0             0.0               0   \n911025             1.0             0.0             0.0               0   \n911012             1.0             0.0             0.0               0   \n911026             1.0             0.0             0.0               0   \n\n        hits_in_past_y  superstar_x  superstar_y       date  \n0                    0            0            0 1995-01-01  \n3659                 0            0            0 1995-01-01  \n3658                 0            0            0 1995-01-01  \n3657                 0            0            0 1995-01-01  \n3656                 0            0            0 1995-01-01  \n...                ...          ...          ...        ...  \n911001               0            0            0 2019-08-23  \n911000               0            0            0 2019-08-23  \n911025               0            0            0 2019-08-23  \n911012               0            0            0 2019-08-23  \n911026               0            0            0 2019-08-26  \n\n[911027 rows x 67 columns]",
      "text/html": "<div>\n<style scoped>\n    .dataframe tbody tr th:only-of-type {\n        vertical-align: middle;\n    }\n\n    .dataframe tbody tr th {\n        vertical-align: top;\n    }\n\n    .dataframe thead th {\n        text-align: right;\n    }\n</style>\n<table border=\"1\" class=\"dataframe\">\n  <thead>\n    <tr style=\"text-align: right;\">\n      <th></th>\n      <th>song_id</th>\n      <th>song_name</th>\n      <th>song_popularity</th>\n      <th>explicit</th>\n      <th>song_type</th>\n      <th>track_number</th>\n      <th>num_artists</th>\n      <th>num_available_markets</th>\n      <th>release_date</th>\n      <th>duration_ms</th>\n      <th>...</th>\n      <th>superstar_v4_y</th>\n      <th>superstar_v5_x</th>\n      <th>superstar_v5_y</th>\n      <th>success_rate_x</th>\n      <th>success_rate_y</th>\n      <th>hits_in_past_x</th>\n      <th>hits_in_past_y</th>\n      <th>superstar_x</th>\n      <th>superstar_y</th>\n      <th>date</th>\n    </tr>\n  </thead>\n  <tbody>\n    <tr>\n      <th>0</th>\n      <td>7kXUEJmfvRXbzxOC0pHQgb</td>\n      <td>I Can't Believe I'm Losing You</td>\n      <td>5.0</td>\n      <td>False</td>\n      <td>Solo</td>\n      <td>12.0</td>\n      <td>1.0</td>\n      <td>79.0</td>\n      <td>1995-01-01</td>\n      <td>162667.0</td>\n      <td>...</td>\n      <td>1.0</td>\n      <td>1.0</td>\n      <td>1.0</td>\n      <td>0.0</td>\n      <td>0.0</td>\n      <td>0</td>\n      <td>0</td>\n      <td>0</td>\n      <td>0</td>\n      <td>1995-01-01</td>\n    </tr>\n    <tr>\n      <th>3659</th>\n      <td>1qWiKzVrG0GQd1qbgKCsSF</td>\n      <td>I've Grown Accustomed To Her Face</td>\n      <td>14.0</td>\n      <td>False</td>\n      <td>Solo</td>\n      <td>2.0</td>\n      <td>1.0</td>\n      <td>79.0</td>\n      <td>1995-01-01</td>\n      <td>349120.0</td>\n      <td>...</td>\n      <td>1.0</td>\n      <td>1.0</td>\n      <td>1.0</td>\n      <td>0.0</td>\n      <td>0.0</td>\n      <td>0</td>\n      <td>0</td>\n      <td>0</td>\n      <td>0</td>\n      <td>1995-01-01</td>\n    </tr>\n    <tr>\n      <th>3658</th>\n      <td>1oNYa5jcL10TbXQSPRgbsk</td>\n      <td>Come Back To Me</td>\n      <td>16.0</td>\n      <td>False</td>\n      <td>Solo</td>\n      <td>5.0</td>\n      <td>1.0</td>\n      <td>2.0</td>\n      <td>1995-01-01</td>\n      <td>206093.0</td>\n      <td>...</td>\n      <td>1.0</td>\n      <td>1.0</td>\n      <td>1.0</td>\n      <td>0.0</td>\n      <td>0.0</td>\n      <td>0</td>\n      <td>0</td>\n      <td>0</td>\n      <td>0</td>\n      <td>1995-01-01</td>\n    </tr>\n    <tr>\n      <th>3657</th>\n      <td>7A131DrpfbWAfNJLrxikwf</td>\n      <td>Top Of The Stairs</td>\n      <td>26.0</td>\n      <td>False</td>\n      <td>Solo</td>\n      <td>4.0</td>\n      <td>1.0</td>\n      <td>2.0</td>\n      <td>1995-01-01</td>\n      <td>271307.0</td>\n      <td>...</td>\n      <td>1.0</td>\n      <td>1.0</td>\n      <td>1.0</td>\n      <td>0.0</td>\n      <td>0.0</td>\n      <td>0</td>\n      <td>0</td>\n      <td>0</td>\n      <td>0</td>\n      <td>1995-01-01</td>\n    </tr>\n    <tr>\n      <th>3656</th>\n      <td>4SRjOJm5AjO3fxXpZSTEBb</td>\n      <td>Never Crossed My Mind</td>\n      <td>20.0</td>\n      <td>False</td>\n      <td>Solo</td>\n      <td>3.0</td>\n      <td>1.0</td>\n      <td>2.0</td>\n      <td>1995-01-01</td>\n      <td>242027.0</td>\n      <td>...</td>\n      <td>1.0</td>\n      <td>1.0</td>\n      <td>1.0</td>\n      <td>0.0</td>\n      <td>0.0</td>\n      <td>0</td>\n      <td>0</td>\n      <td>0</td>\n      <td>0</td>\n      <td>1995-01-01</td>\n    </tr>\n    <tr>\n      <th>...</th>\n      <td>...</td>\n      <td>...</td>\n      <td>...</td>\n      <td>...</td>\n      <td>...</td>\n      <td>...</td>\n      <td>...</td>\n      <td>...</td>\n      <td>...</td>\n      <td>...</td>\n      <td>...</td>\n      <td>...</td>\n      <td>...</td>\n      <td>...</td>\n      <td>...</td>\n      <td>...</td>\n      <td>...</td>\n      <td>...</td>\n      <td>...</td>\n      <td>...</td>\n      <td>...</td>\n    </tr>\n    <tr>\n      <th>911001</th>\n      <td>1EeuFwQ7RhTNlPg69LGUxM</td>\n      <td>All the Kids on the Street</td>\n      <td>5.0</td>\n      <td>False</td>\n      <td>Solo</td>\n      <td>6.0</td>\n      <td>1.0</td>\n      <td>79.0</td>\n      <td>2019-08-23</td>\n      <td>192401.0</td>\n      <td>...</td>\n      <td>1.0</td>\n      <td>1.0</td>\n      <td>1.0</td>\n      <td>0.0</td>\n      <td>0.0</td>\n      <td>0</td>\n      <td>0</td>\n      <td>0</td>\n      <td>0</td>\n      <td>2019-08-23</td>\n    </tr>\n    <tr>\n      <th>911000</th>\n      <td>2O9CikWfjkYAgGCBws5Pl4</td>\n      <td>Baby I'll Give It to You</td>\n      <td>1.0</td>\n      <td>False</td>\n      <td>Solo</td>\n      <td>25.0</td>\n      <td>1.0</td>\n      <td>76.0</td>\n      <td>2019-08-23</td>\n      <td>194907.0</td>\n      <td>...</td>\n      <td>1.0</td>\n      <td>1.0</td>\n      <td>1.0</td>\n      <td>0.0</td>\n      <td>0.0</td>\n      <td>0</td>\n      <td>0</td>\n      <td>0</td>\n      <td>0</td>\n      <td>2019-08-23</td>\n    </tr>\n    <tr>\n      <th>911025</th>\n      <td>2CZ46u5NGXQFXke3PMCuAK</td>\n      <td>Today I Started Loving You Again</td>\n      <td>3.0</td>\n      <td>False</td>\n      <td>Solo</td>\n      <td>15.0</td>\n      <td>1.0</td>\n      <td>78.0</td>\n      <td>2019-08-23</td>\n      <td>172147.0</td>\n      <td>...</td>\n      <td>1.0</td>\n      <td>1.0</td>\n      <td>1.0</td>\n      <td>0.0</td>\n      <td>0.0</td>\n      <td>0</td>\n      <td>0</td>\n      <td>0</td>\n      <td>0</td>\n      <td>2019-08-23</td>\n    </tr>\n    <tr>\n      <th>911012</th>\n      <td>6zhg8TnVKi90ITDzFKwPr0</td>\n      <td>Swingtown - Alternate Version</td>\n      <td>26.0</td>\n      <td>False</td>\n      <td>Solo</td>\n      <td>5.0</td>\n      <td>1.0</td>\n      <td>79.0</td>\n      <td>2019-08-23</td>\n      <td>205707.0</td>\n      <td>...</td>\n      <td>1.0</td>\n      <td>1.0</td>\n      <td>1.0</td>\n      <td>0.0</td>\n      <td>0.0</td>\n      <td>0</td>\n      <td>0</td>\n      <td>0</td>\n      <td>0</td>\n      <td>2019-08-23</td>\n    </tr>\n    <tr>\n      <th>911026</th>\n      <td>6Fh2QgjCxL96dA3Gtpfr4Q</td>\n      <td>One Sweet Day (16-Bit Mariah Carey &amp; Boyz II M...</td>\n      <td>0.0</td>\n      <td>False</td>\n      <td>Solo</td>\n      <td>27.0</td>\n      <td>1.0</td>\n      <td>79.0</td>\n      <td>2019-08-26</td>\n      <td>260910.0</td>\n      <td>...</td>\n      <td>1.0</td>\n      <td>1.0</td>\n      <td>1.0</td>\n      <td>0.0</td>\n      <td>0.0</td>\n      <td>0</td>\n      <td>0</td>\n      <td>0</td>\n      <td>0</td>\n      <td>2019-08-26</td>\n    </tr>\n  </tbody>\n</table>\n<p>911027 rows × 67 columns</p>\n</div>"
     },
     "execution_count": 2,
     "metadata": {},
     "output_type": "execute_result"
    }
   ],
   "source": [
    "data"
   ],
   "metadata": {
    "collapsed": false,
    "ExecuteTime": {
     "end_time": "2024-06-28T10:26:17.888623200Z",
     "start_time": "2024-06-28T10:26:17.372484Z"
    }
   },
   "id": "8842ff9b4e2d11b"
  },
  {
   "cell_type": "code",
   "execution_count": 3,
   "outputs": [
    {
     "data": {
      "text/plain": "Index(['song_id', 'song_name', 'song_popularity', 'explicit', 'song_type',\n       'track_number', 'num_artists', 'num_available_markets', 'release_date',\n       'duration_ms', 'key', 'mode', 'time_signature', 'acousticness',\n       'danceability', 'energy', 'instrumentalness', 'liveness', 'loudness',\n       'speechiness', 'valence', 'tempo', 'hit', 'artist1_id', 'artist2_id',\n       'name_x', 'betweenesscentrality_x', 'closnesscentrality_x',\n       'clustering_x', 'degree_x', 'eccentricity_x', 'eigencentrality_x',\n       'weighted degree_x', 'pagerank_x', 'Cluster_x', 'profile_x', 'name_y',\n       'betweenesscentrality_y', 'closnesscentrality_y', 'clustering_y',\n       'degree_y', 'eccentricity_y', 'eigencentrality_y', 'weighted degree_y',\n       'pagerank_y', 'Cluster_y', 'profile_y', 'artist1_num', 'artist2_num',\n       'years_on_charts', 'superstar_v1_x', 'superstar_v1_y', 'superstar_v2_x',\n       'superstar_v2_y', 'superstar_v3_x', 'superstar_v3_y', 'superstar_v4_x',\n       'superstar_v4_y', 'superstar_v5_x', 'superstar_v5_y', 'success_rate_x',\n       'success_rate_y', 'hits_in_past_x', 'hits_in_past_y', 'superstar_x',\n       'superstar_y', 'date'],\n      dtype='object')"
     },
     "execution_count": 3,
     "metadata": {},
     "output_type": "execute_result"
    }
   ],
   "source": [
    "data.columns"
   ],
   "metadata": {
    "collapsed": false,
    "ExecuteTime": {
     "end_time": "2024-06-28T10:26:17.963463700Z",
     "start_time": "2024-06-28T10:26:17.888623200Z"
    }
   },
   "id": "a283aa4eba851a35"
  },
  {
   "cell_type": "code",
   "execution_count": 4,
   "outputs": [
    {
     "data": {
      "text/plain": "        explicit  track_number  num_artists  num_available_markets  \\\n0          False          12.0          1.0                   79.0   \n3659       False           2.0          1.0                   79.0   \n3658       False           5.0          1.0                    2.0   \n3657       False           4.0          1.0                    2.0   \n3656       False           3.0          1.0                    2.0   \n...          ...           ...          ...                    ...   \n911001     False           6.0          1.0                   79.0   \n911000     False          25.0          1.0                   76.0   \n911025     False          15.0          1.0                   78.0   \n911012     False           5.0          1.0                   79.0   \n911026     False          27.0          1.0                   79.0   \n\n       release_date  duration_ms   key  mode  time_signature  acousticness  \\\n0        1995-01-01     162667.0  10.0   1.0             4.0      0.690000   \n3659     1995-01-01     349120.0   1.0   0.0             4.0      0.297000   \n3658     1995-01-01     206093.0   2.0   1.0             4.0      0.105000   \n3657     1995-01-01     271307.0   7.0   1.0             4.0      0.027200   \n3656     1995-01-01     242027.0   7.0   1.0             4.0      0.025800   \n...             ...          ...   ...   ...             ...           ...   \n911001   2019-08-23     192401.0   2.0   1.0             4.0      0.000465   \n911000   2019-08-23     194907.0   8.0   1.0             4.0      0.038800   \n911025   2019-08-23     172147.0   1.0   1.0             4.0      0.727000   \n911012   2019-08-23     205707.0   9.0   1.0             4.0      0.224000   \n911026   2019-08-26     260910.0   7.0   0.0             3.0      0.607000   \n\n        ...  artist1_num  artist2_num  betweenesscentrality_y  \\\n0       ...      16718.0          0.0                     0.0   \n3659    ...      12974.0          0.0                     0.0   \n3658    ...       1409.0          0.0                     0.0   \n3657    ...       1409.0          0.0                     0.0   \n3656    ...       1409.0          0.0                     0.0   \n...     ...          ...          ...                     ...   \n911001  ...      15672.0          0.0                     0.0   \n911000  ...      20835.0          0.0                     0.0   \n911025  ...      10227.0          0.0                     0.0   \n911012  ...       3970.0          0.0                     0.0   \n911026  ...       6625.0          0.0                     0.0   \n\n        closnesscentrality_y  clustering_y  Cluster_y  eccentricity_y  \\\n0                        0.0           0.0       -1.0             0.0   \n3659                     0.0           0.0       -1.0             0.0   \n3658                     0.0           0.0       -1.0             0.0   \n3657                     0.0           0.0       -1.0             0.0   \n3656                     0.0           0.0       -1.0             0.0   \n...                      ...           ...        ...             ...   \n911001                   0.0           0.0       -1.0             0.0   \n911000                   0.0           0.0       -1.0             0.0   \n911025                   0.0           0.0       -1.0             0.0   \n911012                   0.0           0.0       -1.0             0.0   \n911026                   0.0           0.0       -1.0             0.0   \n\n        eigencentrality_y weighted degree_y  profile_y  \n0                     0.0               0.0   No Match  \n3659                  0.0               0.0   No Match  \n3658                  0.0               0.0   No Match  \n3657                  0.0               0.0   No Match  \n3656                  0.0               0.0   No Match  \n...                   ...               ...        ...  \n911001                0.0               0.0   No Match  \n911000                0.0               0.0   No Match  \n911025                0.0               0.0   No Match  \n911012                0.0               0.0   No Match  \n911026                0.0               0.0   No Match  \n\n[911027 rows x 31 columns]",
      "text/html": "<div>\n<style scoped>\n    .dataframe tbody tr th:only-of-type {\n        vertical-align: middle;\n    }\n\n    .dataframe tbody tr th {\n        vertical-align: top;\n    }\n\n    .dataframe thead th {\n        text-align: right;\n    }\n</style>\n<table border=\"1\" class=\"dataframe\">\n  <thead>\n    <tr style=\"text-align: right;\">\n      <th></th>\n      <th>explicit</th>\n      <th>track_number</th>\n      <th>num_artists</th>\n      <th>num_available_markets</th>\n      <th>release_date</th>\n      <th>duration_ms</th>\n      <th>key</th>\n      <th>mode</th>\n      <th>time_signature</th>\n      <th>acousticness</th>\n      <th>...</th>\n      <th>artist1_num</th>\n      <th>artist2_num</th>\n      <th>betweenesscentrality_y</th>\n      <th>closnesscentrality_y</th>\n      <th>clustering_y</th>\n      <th>Cluster_y</th>\n      <th>eccentricity_y</th>\n      <th>eigencentrality_y</th>\n      <th>weighted degree_y</th>\n      <th>profile_y</th>\n    </tr>\n  </thead>\n  <tbody>\n    <tr>\n      <th>0</th>\n      <td>False</td>\n      <td>12.0</td>\n      <td>1.0</td>\n      <td>79.0</td>\n      <td>1995-01-01</td>\n      <td>162667.0</td>\n      <td>10.0</td>\n      <td>1.0</td>\n      <td>4.0</td>\n      <td>0.690000</td>\n      <td>...</td>\n      <td>16718.0</td>\n      <td>0.0</td>\n      <td>0.0</td>\n      <td>0.0</td>\n      <td>0.0</td>\n      <td>-1.0</td>\n      <td>0.0</td>\n      <td>0.0</td>\n      <td>0.0</td>\n      <td>No Match</td>\n    </tr>\n    <tr>\n      <th>3659</th>\n      <td>False</td>\n      <td>2.0</td>\n      <td>1.0</td>\n      <td>79.0</td>\n      <td>1995-01-01</td>\n      <td>349120.0</td>\n      <td>1.0</td>\n      <td>0.0</td>\n      <td>4.0</td>\n      <td>0.297000</td>\n      <td>...</td>\n      <td>12974.0</td>\n      <td>0.0</td>\n      <td>0.0</td>\n      <td>0.0</td>\n      <td>0.0</td>\n      <td>-1.0</td>\n      <td>0.0</td>\n      <td>0.0</td>\n      <td>0.0</td>\n      <td>No Match</td>\n    </tr>\n    <tr>\n      <th>3658</th>\n      <td>False</td>\n      <td>5.0</td>\n      <td>1.0</td>\n      <td>2.0</td>\n      <td>1995-01-01</td>\n      <td>206093.0</td>\n      <td>2.0</td>\n      <td>1.0</td>\n      <td>4.0</td>\n      <td>0.105000</td>\n      <td>...</td>\n      <td>1409.0</td>\n      <td>0.0</td>\n      <td>0.0</td>\n      <td>0.0</td>\n      <td>0.0</td>\n      <td>-1.0</td>\n      <td>0.0</td>\n      <td>0.0</td>\n      <td>0.0</td>\n      <td>No Match</td>\n    </tr>\n    <tr>\n      <th>3657</th>\n      <td>False</td>\n      <td>4.0</td>\n      <td>1.0</td>\n      <td>2.0</td>\n      <td>1995-01-01</td>\n      <td>271307.0</td>\n      <td>7.0</td>\n      <td>1.0</td>\n      <td>4.0</td>\n      <td>0.027200</td>\n      <td>...</td>\n      <td>1409.0</td>\n      <td>0.0</td>\n      <td>0.0</td>\n      <td>0.0</td>\n      <td>0.0</td>\n      <td>-1.0</td>\n      <td>0.0</td>\n      <td>0.0</td>\n      <td>0.0</td>\n      <td>No Match</td>\n    </tr>\n    <tr>\n      <th>3656</th>\n      <td>False</td>\n      <td>3.0</td>\n      <td>1.0</td>\n      <td>2.0</td>\n      <td>1995-01-01</td>\n      <td>242027.0</td>\n      <td>7.0</td>\n      <td>1.0</td>\n      <td>4.0</td>\n      <td>0.025800</td>\n      <td>...</td>\n      <td>1409.0</td>\n      <td>0.0</td>\n      <td>0.0</td>\n      <td>0.0</td>\n      <td>0.0</td>\n      <td>-1.0</td>\n      <td>0.0</td>\n      <td>0.0</td>\n      <td>0.0</td>\n      <td>No Match</td>\n    </tr>\n    <tr>\n      <th>...</th>\n      <td>...</td>\n      <td>...</td>\n      <td>...</td>\n      <td>...</td>\n      <td>...</td>\n      <td>...</td>\n      <td>...</td>\n      <td>...</td>\n      <td>...</td>\n      <td>...</td>\n      <td>...</td>\n      <td>...</td>\n      <td>...</td>\n      <td>...</td>\n      <td>...</td>\n      <td>...</td>\n      <td>...</td>\n      <td>...</td>\n      <td>...</td>\n      <td>...</td>\n      <td>...</td>\n    </tr>\n    <tr>\n      <th>911001</th>\n      <td>False</td>\n      <td>6.0</td>\n      <td>1.0</td>\n      <td>79.0</td>\n      <td>2019-08-23</td>\n      <td>192401.0</td>\n      <td>2.0</td>\n      <td>1.0</td>\n      <td>4.0</td>\n      <td>0.000465</td>\n      <td>...</td>\n      <td>15672.0</td>\n      <td>0.0</td>\n      <td>0.0</td>\n      <td>0.0</td>\n      <td>0.0</td>\n      <td>-1.0</td>\n      <td>0.0</td>\n      <td>0.0</td>\n      <td>0.0</td>\n      <td>No Match</td>\n    </tr>\n    <tr>\n      <th>911000</th>\n      <td>False</td>\n      <td>25.0</td>\n      <td>1.0</td>\n      <td>76.0</td>\n      <td>2019-08-23</td>\n      <td>194907.0</td>\n      <td>8.0</td>\n      <td>1.0</td>\n      <td>4.0</td>\n      <td>0.038800</td>\n      <td>...</td>\n      <td>20835.0</td>\n      <td>0.0</td>\n      <td>0.0</td>\n      <td>0.0</td>\n      <td>0.0</td>\n      <td>-1.0</td>\n      <td>0.0</td>\n      <td>0.0</td>\n      <td>0.0</td>\n      <td>No Match</td>\n    </tr>\n    <tr>\n      <th>911025</th>\n      <td>False</td>\n      <td>15.0</td>\n      <td>1.0</td>\n      <td>78.0</td>\n      <td>2019-08-23</td>\n      <td>172147.0</td>\n      <td>1.0</td>\n      <td>1.0</td>\n      <td>4.0</td>\n      <td>0.727000</td>\n      <td>...</td>\n      <td>10227.0</td>\n      <td>0.0</td>\n      <td>0.0</td>\n      <td>0.0</td>\n      <td>0.0</td>\n      <td>-1.0</td>\n      <td>0.0</td>\n      <td>0.0</td>\n      <td>0.0</td>\n      <td>No Match</td>\n    </tr>\n    <tr>\n      <th>911012</th>\n      <td>False</td>\n      <td>5.0</td>\n      <td>1.0</td>\n      <td>79.0</td>\n      <td>2019-08-23</td>\n      <td>205707.0</td>\n      <td>9.0</td>\n      <td>1.0</td>\n      <td>4.0</td>\n      <td>0.224000</td>\n      <td>...</td>\n      <td>3970.0</td>\n      <td>0.0</td>\n      <td>0.0</td>\n      <td>0.0</td>\n      <td>0.0</td>\n      <td>-1.0</td>\n      <td>0.0</td>\n      <td>0.0</td>\n      <td>0.0</td>\n      <td>No Match</td>\n    </tr>\n    <tr>\n      <th>911026</th>\n      <td>False</td>\n      <td>27.0</td>\n      <td>1.0</td>\n      <td>79.0</td>\n      <td>2019-08-26</td>\n      <td>260910.0</td>\n      <td>7.0</td>\n      <td>0.0</td>\n      <td>3.0</td>\n      <td>0.607000</td>\n      <td>...</td>\n      <td>6625.0</td>\n      <td>0.0</td>\n      <td>0.0</td>\n      <td>0.0</td>\n      <td>0.0</td>\n      <td>-1.0</td>\n      <td>0.0</td>\n      <td>0.0</td>\n      <td>0.0</td>\n      <td>No Match</td>\n    </tr>\n  </tbody>\n</table>\n<p>911027 rows × 31 columns</p>\n</div>"
     },
     "execution_count": 4,
     "metadata": {},
     "output_type": "execute_result"
    }
   ],
   "source": [
    "\n",
    "# List of columns to keep\n",
    "columns_to_keep = ['explicit', 'track_number', 'num_artists', 'num_available_markets', 'release_date',\n",
    "                   'duration_ms', 'key', 'mode', 'time_signature', 'acousticness',\n",
    "                   'danceability', 'energy', 'instrumentalness', 'liveness', 'loudness',\n",
    "                   'speechiness', 'valence', 'tempo', \"date\", \"years_on_charts\",               #removeyoc\n",
    "                   'hit', \"artist1_num\", \"artist2_num\", 'betweenesscentrality_y', 'closnesscentrality_y', 'clustering_y', 'Cluster_y',\n",
    "                   'eccentricity_y', 'eigencentrality_y', 'weighted degree_y', \"profile_y\"]  # , \"superstar_v1_x\", \"superstar_x\"]                              #Collaboration Profile == CLuster????\n",
    "#  'release_date', 'betweenesscentrality_x', 'closnesscentrality_x', 'clustering_x', 'Cluster_x',\n",
    "# 'eccentricity_x', 'eigencentrality_x', 'weighted degree_x', \"profile_x\",\n",
    "# 'betweenesscentrality_y', 'closnesscentrality_y', 'clustering_y', 'Cluster_y',\n",
    "# 'eccentricity_y', 'eigencentrality_y', 'weighted degree_y', \"profile_y\", \"hit\"]                              #Collaboration Profile == CLuster????\n",
    "\n",
    "# Drop columns not in the list\n",
    "data = data[columns_to_keep]\n",
    "data"
   ],
   "metadata": {
    "collapsed": false,
    "ExecuteTime": {
     "end_time": "2024-06-28T10:26:18.285463400Z",
     "start_time": "2024-06-28T10:26:17.985461600Z"
    }
   },
   "id": "830d36f0f9f8805a"
  },
  {
   "cell_type": "code",
   "execution_count": 5,
   "outputs": [
    {
     "name": "stdout",
     "output_type": "stream",
     "text": [
      "<class 'pandas.core.frame.DataFrame'>\n",
      "Index: 911027 entries, 0 to 911026\n",
      "Data columns (total 31 columns):\n",
      " #   Column                  Non-Null Count   Dtype         \n",
      "---  ------                  --------------   -----         \n",
      " 0   explicit                911027 non-null  bool          \n",
      " 1   track_number            911027 non-null  float64       \n",
      " 2   num_artists             911027 non-null  float64       \n",
      " 3   num_available_markets   911027 non-null  float64       \n",
      " 4   release_date            911027 non-null  object        \n",
      " 5   duration_ms             911027 non-null  float64       \n",
      " 6   key                     911027 non-null  float64       \n",
      " 7   mode                    911027 non-null  float64       \n",
      " 8   time_signature          911027 non-null  float64       \n",
      " 9   acousticness            911027 non-null  float64       \n",
      " 10  danceability            911027 non-null  float64       \n",
      " 11  energy                  911027 non-null  float64       \n",
      " 12  instrumentalness        911027 non-null  float64       \n",
      " 13  liveness                911027 non-null  float64       \n",
      " 14  loudness                911027 non-null  float64       \n",
      " 15  speechiness             911027 non-null  float64       \n",
      " 16  valence                 911027 non-null  float64       \n",
      " 17  tempo                   911027 non-null  float64       \n",
      " 18  date                    911027 non-null  datetime64[ns]\n",
      " 19  years_on_charts         911027 non-null  float64       \n",
      " 20  hit                     911027 non-null  float64       \n",
      " 21  artist1_num             911027 non-null  float64       \n",
      " 22  artist2_num             911027 non-null  float64       \n",
      " 23  betweenesscentrality_y  911027 non-null  float64       \n",
      " 24  closnesscentrality_y    911027 non-null  float64       \n",
      " 25  clustering_y            911027 non-null  float64       \n",
      " 26  Cluster_y               911027 non-null  float64       \n",
      " 27  eccentricity_y          911027 non-null  float64       \n",
      " 28  eigencentrality_y       911027 non-null  float64       \n",
      " 29  weighted degree_y       911027 non-null  float64       \n",
      " 30  profile_y               911027 non-null  object        \n",
      "dtypes: bool(1), datetime64[ns](1), float64(27), object(2)\n",
      "memory usage: 216.3+ MB\n"
     ]
    }
   ],
   "source": [
    "data.info()"
   ],
   "metadata": {
    "collapsed": false,
    "ExecuteTime": {
     "end_time": "2024-06-28T10:26:18.464462500Z",
     "start_time": "2024-06-28T10:26:18.268462200Z"
    }
   },
   "id": "859ec829627b9110"
  },
  {
   "cell_type": "code",
   "execution_count": 6,
   "outputs": [
    {
     "data": {
      "text/plain": "        track_number    num_artists  num_available_markets   duration_ms  \\\ncount  911027.000000  911027.000000          911027.000000  9.110270e+05   \nmean        8.686955       1.082063              70.515338  2.294922e+05   \nmin         1.000000       1.000000               0.000000  1.672000e+03   \n25%         3.000000       1.000000              78.000000  1.835000e+05   \n50%         7.000000       1.000000              79.000000  2.202400e+05   \n75%        12.000000       1.000000              79.000000  2.591070e+05   \nmax       125.000000       2.000000              79.000000  6.032273e+06   \nstd         6.891276       0.274461              22.634266  9.584608e+04   \n\n                 key           mode  time_signature   acousticness  \\\ncount  911027.000000  911027.000000   911027.000000  911027.000000   \nmean        5.210870       0.705957        3.906517       0.327322   \nmin         0.000000       0.000000        0.000000       0.000000   \n25%         2.000000       0.000000        4.000000       0.026100   \n50%         5.000000       1.000000        4.000000       0.200000   \n75%         8.000000       1.000000        4.000000       0.608000   \nmax        11.000000       1.000000        5.000000       0.996000   \nstd         3.534452       0.454440        0.404534       0.329362   \n\n        danceability         energy  ...            hit    artist1_num  \\\ncount  911027.000000  911027.000000  ...  911027.000000  911027.000000   \nmean        0.584527       0.559540  ...       0.013127   13395.535816   \nmin         0.000000       0.000000  ...       0.000000       1.000000   \n25%         0.485000       0.381000  ...       0.000000    7040.000000   \n50%         0.599000       0.564000  ...       0.000000   13278.000000   \n75%         0.701000       0.751000  ...       0.000000   19732.000000   \nmax         0.992000       1.000000  ...       1.000000   26698.000000   \nstd         0.164942       0.237606  ...       0.113818    7701.751995   \n\n         artist2_num  betweenesscentrality_y  closnesscentrality_y  \\\ncount  911027.000000           911027.000000         911027.000000   \nmean     1084.664435                0.003873              0.025505   \nmin         0.000000                0.000000              0.000000   \n25%         0.000000                0.000000              0.000000   \n50%         0.000000                0.000000              0.000000   \n75%         0.000000                0.000000              0.000000   \nmax     26700.000000                1.000000              1.000000   \nstd      4252.894432                0.056594              0.113227   \n\n        clustering_y      Cluster_y  eccentricity_y  eigencentrality_y  \\\ncount  911027.000000  911027.000000   911027.000000      911027.000000   \nmean        0.002779      -0.847665        0.809033           0.010028   \nmin         0.000000      -1.000000        0.000000           0.000000   \n25%         0.000000      -1.000000        0.000000           0.000000   \n50%         0.000000      -1.000000        0.000000           0.000000   \n75%         0.000000      -1.000000        0.000000           0.000000   \nmax         1.000000       5.000000       21.000000           0.850651   \nstd         0.035996       0.628339        2.998431           0.073218   \n\n       weighted degree_y  \ncount      911027.000000  \nmean           57.630872  \nmin             0.000000  \n25%             0.000000  \n50%             0.000000  \n75%             0.000000  \nmax         37432.000000  \nstd           981.946546  \n\n[8 rows x 28 columns]",
      "text/html": "<div>\n<style scoped>\n    .dataframe tbody tr th:only-of-type {\n        vertical-align: middle;\n    }\n\n    .dataframe tbody tr th {\n        vertical-align: top;\n    }\n\n    .dataframe thead th {\n        text-align: right;\n    }\n</style>\n<table border=\"1\" class=\"dataframe\">\n  <thead>\n    <tr style=\"text-align: right;\">\n      <th></th>\n      <th>track_number</th>\n      <th>num_artists</th>\n      <th>num_available_markets</th>\n      <th>duration_ms</th>\n      <th>key</th>\n      <th>mode</th>\n      <th>time_signature</th>\n      <th>acousticness</th>\n      <th>danceability</th>\n      <th>energy</th>\n      <th>...</th>\n      <th>hit</th>\n      <th>artist1_num</th>\n      <th>artist2_num</th>\n      <th>betweenesscentrality_y</th>\n      <th>closnesscentrality_y</th>\n      <th>clustering_y</th>\n      <th>Cluster_y</th>\n      <th>eccentricity_y</th>\n      <th>eigencentrality_y</th>\n      <th>weighted degree_y</th>\n    </tr>\n  </thead>\n  <tbody>\n    <tr>\n      <th>count</th>\n      <td>911027.000000</td>\n      <td>911027.000000</td>\n      <td>911027.000000</td>\n      <td>9.110270e+05</td>\n      <td>911027.000000</td>\n      <td>911027.000000</td>\n      <td>911027.000000</td>\n      <td>911027.000000</td>\n      <td>911027.000000</td>\n      <td>911027.000000</td>\n      <td>...</td>\n      <td>911027.000000</td>\n      <td>911027.000000</td>\n      <td>911027.000000</td>\n      <td>911027.000000</td>\n      <td>911027.000000</td>\n      <td>911027.000000</td>\n      <td>911027.000000</td>\n      <td>911027.000000</td>\n      <td>911027.000000</td>\n      <td>911027.000000</td>\n    </tr>\n    <tr>\n      <th>mean</th>\n      <td>8.686955</td>\n      <td>1.082063</td>\n      <td>70.515338</td>\n      <td>2.294922e+05</td>\n      <td>5.210870</td>\n      <td>0.705957</td>\n      <td>3.906517</td>\n      <td>0.327322</td>\n      <td>0.584527</td>\n      <td>0.559540</td>\n      <td>...</td>\n      <td>0.013127</td>\n      <td>13395.535816</td>\n      <td>1084.664435</td>\n      <td>0.003873</td>\n      <td>0.025505</td>\n      <td>0.002779</td>\n      <td>-0.847665</td>\n      <td>0.809033</td>\n      <td>0.010028</td>\n      <td>57.630872</td>\n    </tr>\n    <tr>\n      <th>min</th>\n      <td>1.000000</td>\n      <td>1.000000</td>\n      <td>0.000000</td>\n      <td>1.672000e+03</td>\n      <td>0.000000</td>\n      <td>0.000000</td>\n      <td>0.000000</td>\n      <td>0.000000</td>\n      <td>0.000000</td>\n      <td>0.000000</td>\n      <td>...</td>\n      <td>0.000000</td>\n      <td>1.000000</td>\n      <td>0.000000</td>\n      <td>0.000000</td>\n      <td>0.000000</td>\n      <td>0.000000</td>\n      <td>-1.000000</td>\n      <td>0.000000</td>\n      <td>0.000000</td>\n      <td>0.000000</td>\n    </tr>\n    <tr>\n      <th>25%</th>\n      <td>3.000000</td>\n      <td>1.000000</td>\n      <td>78.000000</td>\n      <td>1.835000e+05</td>\n      <td>2.000000</td>\n      <td>0.000000</td>\n      <td>4.000000</td>\n      <td>0.026100</td>\n      <td>0.485000</td>\n      <td>0.381000</td>\n      <td>...</td>\n      <td>0.000000</td>\n      <td>7040.000000</td>\n      <td>0.000000</td>\n      <td>0.000000</td>\n      <td>0.000000</td>\n      <td>0.000000</td>\n      <td>-1.000000</td>\n      <td>0.000000</td>\n      <td>0.000000</td>\n      <td>0.000000</td>\n    </tr>\n    <tr>\n      <th>50%</th>\n      <td>7.000000</td>\n      <td>1.000000</td>\n      <td>79.000000</td>\n      <td>2.202400e+05</td>\n      <td>5.000000</td>\n      <td>1.000000</td>\n      <td>4.000000</td>\n      <td>0.200000</td>\n      <td>0.599000</td>\n      <td>0.564000</td>\n      <td>...</td>\n      <td>0.000000</td>\n      <td>13278.000000</td>\n      <td>0.000000</td>\n      <td>0.000000</td>\n      <td>0.000000</td>\n      <td>0.000000</td>\n      <td>-1.000000</td>\n      <td>0.000000</td>\n      <td>0.000000</td>\n      <td>0.000000</td>\n    </tr>\n    <tr>\n      <th>75%</th>\n      <td>12.000000</td>\n      <td>1.000000</td>\n      <td>79.000000</td>\n      <td>2.591070e+05</td>\n      <td>8.000000</td>\n      <td>1.000000</td>\n      <td>4.000000</td>\n      <td>0.608000</td>\n      <td>0.701000</td>\n      <td>0.751000</td>\n      <td>...</td>\n      <td>0.000000</td>\n      <td>19732.000000</td>\n      <td>0.000000</td>\n      <td>0.000000</td>\n      <td>0.000000</td>\n      <td>0.000000</td>\n      <td>-1.000000</td>\n      <td>0.000000</td>\n      <td>0.000000</td>\n      <td>0.000000</td>\n    </tr>\n    <tr>\n      <th>max</th>\n      <td>125.000000</td>\n      <td>2.000000</td>\n      <td>79.000000</td>\n      <td>6.032273e+06</td>\n      <td>11.000000</td>\n      <td>1.000000</td>\n      <td>5.000000</td>\n      <td>0.996000</td>\n      <td>0.992000</td>\n      <td>1.000000</td>\n      <td>...</td>\n      <td>1.000000</td>\n      <td>26698.000000</td>\n      <td>26700.000000</td>\n      <td>1.000000</td>\n      <td>1.000000</td>\n      <td>1.000000</td>\n      <td>5.000000</td>\n      <td>21.000000</td>\n      <td>0.850651</td>\n      <td>37432.000000</td>\n    </tr>\n    <tr>\n      <th>std</th>\n      <td>6.891276</td>\n      <td>0.274461</td>\n      <td>22.634266</td>\n      <td>9.584608e+04</td>\n      <td>3.534452</td>\n      <td>0.454440</td>\n      <td>0.404534</td>\n      <td>0.329362</td>\n      <td>0.164942</td>\n      <td>0.237606</td>\n      <td>...</td>\n      <td>0.113818</td>\n      <td>7701.751995</td>\n      <td>4252.894432</td>\n      <td>0.056594</td>\n      <td>0.113227</td>\n      <td>0.035996</td>\n      <td>0.628339</td>\n      <td>2.998431</td>\n      <td>0.073218</td>\n      <td>981.946546</td>\n    </tr>\n  </tbody>\n</table>\n<p>8 rows × 28 columns</p>\n</div>"
     },
     "execution_count": 6,
     "metadata": {},
     "output_type": "execute_result"
    }
   ],
   "source": [
    "data.describe()"
   ],
   "metadata": {
    "collapsed": false,
    "ExecuteTime": {
     "end_time": "2024-06-28T10:26:19.335077800Z",
     "start_time": "2024-06-28T10:26:18.405463200Z"
    }
   },
   "id": "aafb25c02aab9291"
  },
  {
   "cell_type": "code",
   "execution_count": 7,
   "outputs": [
    {
     "data": {
      "text/plain": "(        explicit  track_number  num_artists  num_available_markets  \\\n 0          False          12.0          1.0                   79.0   \n 3659       False           2.0          1.0                   79.0   \n 3658       False           5.0          1.0                    2.0   \n 3657       False           4.0          1.0                    2.0   \n 3656       False           3.0          1.0                    2.0   \n ...          ...           ...          ...                    ...   \n 911001     False           6.0          1.0                   79.0   \n 911000     False          25.0          1.0                   76.0   \n 911025     False          15.0          1.0                   78.0   \n 911012     False           5.0          1.0                   79.0   \n 911026     False          27.0          1.0                   79.0   \n \n        release_date  duration_ms   key  mode  time_signature  acousticness  \\\n 0        1995-01-01     162667.0  10.0   1.0             4.0      0.690000   \n 3659     1995-01-01     349120.0   1.0   0.0             4.0      0.297000   \n 3658     1995-01-01     206093.0   2.0   1.0             4.0      0.105000   \n 3657     1995-01-01     271307.0   7.0   1.0             4.0      0.027200   \n 3656     1995-01-01     242027.0   7.0   1.0             4.0      0.025800   \n ...             ...          ...   ...   ...             ...           ...   \n 911001   2019-08-23     192401.0   2.0   1.0             4.0      0.000465   \n 911000   2019-08-23     194907.0   8.0   1.0             4.0      0.038800   \n 911025   2019-08-23     172147.0   1.0   1.0             4.0      0.727000   \n 911012   2019-08-23     205707.0   9.0   1.0             4.0      0.224000   \n 911026   2019-08-26     260910.0   7.0   0.0             3.0      0.607000   \n \n         ...  artist1_num  artist2_num  betweenesscentrality_y  \\\n 0       ...      16718.0          0.0                     0.0   \n 3659    ...      12974.0          0.0                     0.0   \n 3658    ...       1409.0          0.0                     0.0   \n 3657    ...       1409.0          0.0                     0.0   \n 3656    ...       1409.0          0.0                     0.0   \n ...     ...          ...          ...                     ...   \n 911001  ...      15672.0          0.0                     0.0   \n 911000  ...      20835.0          0.0                     0.0   \n 911025  ...      10227.0          0.0                     0.0   \n 911012  ...       3970.0          0.0                     0.0   \n 911026  ...       6625.0          0.0                     0.0   \n \n         closnesscentrality_y  clustering_y  Cluster_y  eccentricity_y  \\\n 0                        0.0           0.0       -1.0             0.0   \n 3659                     0.0           0.0       -1.0             0.0   \n 3658                     0.0           0.0       -1.0             0.0   \n 3657                     0.0           0.0       -1.0             0.0   \n 3656                     0.0           0.0       -1.0             0.0   \n ...                      ...           ...        ...             ...   \n 911001                   0.0           0.0       -1.0             0.0   \n 911000                   0.0           0.0       -1.0             0.0   \n 911025                   0.0           0.0       -1.0             0.0   \n 911012                   0.0           0.0       -1.0             0.0   \n 911026                   0.0           0.0       -1.0             0.0   \n \n         eigencentrality_y weighted degree_y  profile_y  \n 0                     0.0               0.0   No Match  \n 3659                  0.0               0.0   No Match  \n 3658                  0.0               0.0   No Match  \n 3657                  0.0               0.0   No Match  \n 3656                  0.0               0.0   No Match  \n ...                   ...               ...        ...  \n 911001                0.0               0.0   No Match  \n 911000                0.0               0.0   No Match  \n 911025                0.0               0.0   No Match  \n 911012                0.0               0.0   No Match  \n 911026                0.0               0.0   No Match  \n \n [911027 rows x 30 columns],\n 0         0.0\n 3659      0.0\n 3658      0.0\n 3657      0.0\n 3656      0.0\n          ... \n 911001    1.0\n 911000    1.0\n 911025    1.0\n 911012    1.0\n 911026    1.0\n Name: hit, Length: 911027, dtype: float64,\n {'track_number': {'min': 1.0, 'max': 125.0},\n  'num_artists': {'min': 1.0, 'max': 2.0},\n  'num_available_markets': {'min': 0.0, 'max': 79.0},\n  'duration_ms': {'min': 1672.0, 'max': 6032273.0},\n  'key': {'min': 0.0, 'max': 11.0},\n  'mode': {'min': 0.0, 'max': 1.0},\n  'time_signature': {'min': 0.0, 'max': 5.0},\n  'acousticness': {'min': 0.0, 'max': 0.996},\n  'danceability': {'min': 0.0, 'max': 0.992},\n  'energy': {'min': 0.0, 'max': 1.0},\n  'instrumentalness': {'min': 0.0, 'max': 1.0},\n  'liveness': {'min': 0.0, 'max': 1.0},\n  'loudness': {'min': -60.0, 'max': 2.816},\n  'speechiness': {'min': 0.0, 'max': 0.968},\n  'valence': {'min': 0.0, 'max': 1.0},\n  'tempo': {'min': 0.0, 'max': 248.942},\n  'years_on_charts': {'min': 0.0, 'max': 1.6684931506849314},\n  'hit': {'min': 0.0, 'max': 1.0},\n  'artist1_num': {'min': 1.0, 'max': 26698.0},\n  'artist2_num': {'min': 0.0, 'max': 26700.0},\n  'betweenesscentrality_y': {'min': 0.0, 'max': 1.0},\n  'closnesscentrality_y': {'min': 0.0, 'max': 1.0},\n  'clustering_y': {'min': 0.0, 'max': 1.0},\n  'Cluster_y': {'min': -1.0, 'max': 5.0},\n  'eccentricity_y': {'min': 0.0, 'max': 21.0},\n  'eigencentrality_y': {'min': 0.0, 'max': 0.850650782872224},\n  'weighted degree_y': {'min': 0.0, 'max': 37432.0}})"
     },
     "execution_count": 7,
     "metadata": {},
     "output_type": "execute_result"
    }
   ],
   "source": [
    "\n",
    "def find_min_max(df):\n",
    "    # Select only numeric columns\n",
    "    numeric_cols = df.select_dtypes(include=['number'])\n",
    "\n",
    "    # Find max and min values for each numeric column\n",
    "    min_max_values = {}\n",
    "    for col in numeric_cols.columns:\n",
    "        min_value = df[col].min()\n",
    "        max_value = df[col].max()\n",
    "        min_max_values[col] = {'min': min_value, 'max': max_value}\n",
    "\n",
    "    return min_max_values\n",
    "\n",
    "\n",
    "min_max_val = find_min_max(data)\n",
    "\n",
    "y = data[\"hit\"]\n",
    "X = data.drop(columns=[\"hit\"])\n",
    "X, y, min_max_val"
   ],
   "metadata": {
    "collapsed": false,
    "ExecuteTime": {
     "end_time": "2024-06-28T10:26:19.695707200Z",
     "start_time": "2024-06-28T10:26:19.320080100Z"
    }
   },
   "id": "655a254962d87f19"
  },
  {
   "cell_type": "code",
   "execution_count": 8,
   "outputs": [
    {
     "name": "stdout",
     "output_type": "stream",
     "text": [
      "######TRAIN TEST SPLIT DONE######\n"
     ]
    }
   ],
   "source": [
    "\n",
    "def preprocess(df, min_max_values, exclude_cols=None):\n",
    "    missing_numerical = df.select_dtypes(include=['number']).isnull().sum()\n",
    "    # Fill missing values with mean for each numeric attribute\n",
    "    imputer = SimpleImputer(strategy='mean')\n",
    "    df_filled = df.copy()\n",
    "    for col in missing_numerical.index:\n",
    "        if missing_numerical[col] > 0:\n",
    "            df_filled[col] = imputer.fit_transform(df[[col]])\n",
    "\n",
    "    # Normalize numerical features into [0, 1] range with MinMaxScaler\n",
    "    if exclude_cols:\n",
    "        numerical_cols = df_filled.select_dtypes(include=['number']).columns.difference(exclude_cols)\n",
    "    else:\n",
    "        numerical_cols = df_filled.select_dtypes(include=['number']).columns\n",
    "\n",
    "    # print(\"numerical columns:\", numerical_cols)\n",
    "\n",
    "    for column_name in numerical_cols:\n",
    "        df_filled[column_name] = (df_filled[column_name] - min_max_values[column_name][\"min\"]) / (\n",
    "                min_max_values[column_name][\"max\"] - min_max_values[column_name][\"min\"])\n",
    "\n",
    "    df_normalized = pd.DataFrame(df_filled, columns=numerical_cols)\n",
    "\n",
    "    # One-hot encode categorical features\n",
    "    encoder = OneHotEncoder(handle_unknown='ignore')\n",
    "    if exclude_cols:\n",
    "        categorical_cols = df.select_dtypes(include=['object']).columns.difference(exclude_cols)\n",
    "    else:\n",
    "        categorical_cols = df.select_dtypes(include=['object']).columns\n",
    "    df_encoded = encoder.fit_transform(df[categorical_cols])\n",
    "\n",
    "    # print(categorical_cols)\n",
    "\n",
    "    # Convert the sparse matrix to dense array\n",
    "    df_encoded_dense = df_encoded.toarray()\n",
    "\n",
    "    # Concatenate numerical and encoded categorical features\n",
    "    df_processed = np.hstack([df_normalized.values, df_encoded_dense])\n",
    "\n",
    "    return df_processed\n",
    "\n",
    "\n",
    "# Assuming X is your feature dataset and y is your target variable\n",
    "X_train, X_test, y_train, y_test = train_test_split(X, y, test_size=0.25, shuffle=False)#random_state=42), stratify=y_scaled, shuffle=True) # try to do with ordered by date results are terrible:(, ..collab prof is missing\n",
    "#split_day = X[\"date\"].iloc[-1] - pd.DateOffset(years=1)\n",
    "#X_train = X[(X[\"date\"] < split_day)].copy()\n",
    "\n",
    "#X_test = X[(X[\"date\"] >= split_day)].copy()\n",
    "#sep_index = X_train.shape[0]\n",
    "#y_train = y.iloc[:sep_index].copy()\n",
    "#y_test = y.iloc[sep_index:].copy()\n",
    "\n",
    "print(\"######TRAIN TEST SPLIT DONE######\")"
   ],
   "metadata": {
    "collapsed": false,
    "ExecuteTime": {
     "end_time": "2024-06-28T10:26:19.841708700Z",
     "start_time": "2024-06-28T10:26:19.682705300Z"
    }
   },
   "id": "a6ffb1493f450ebe"
  },
  {
   "cell_type": "code",
   "execution_count": 9,
   "outputs": [],
   "source": [
    "X_train.reset_index(drop=True, inplace=True)\n",
    "y_train.reset_index(drop=True, inplace=True)"
   ],
   "metadata": {
    "collapsed": false,
    "ExecuteTime": {
     "end_time": "2024-06-28T10:26:19.887707200Z",
     "start_time": "2024-06-28T10:26:19.830707300Z"
    }
   },
   "id": "3351f831c2c95951"
  },
  {
   "cell_type": "code",
   "execution_count": 10,
   "outputs": [
    {
     "data": {
      "text/plain": "        explicit  track_number  num_artists  num_available_markets  \\\n0          False          12.0          1.0                   79.0   \n1          False           2.0          1.0                   79.0   \n2          False           5.0          1.0                    2.0   \n3          False           4.0          1.0                    2.0   \n4          False           3.0          1.0                    2.0   \n...          ...           ...          ...                    ...   \n683265     False          20.0          1.0                   79.0   \n683266      True           2.0          1.0                   79.0   \n683267      True           1.0          1.0                   79.0   \n683268     False           3.0          1.0                   79.0   \n683269     False           4.0          1.0                   79.0   \n\n       release_date  duration_ms   key  mode  time_signature  acousticness  \\\n0        1995-01-01     162667.0  10.0   1.0             4.0      0.690000   \n1        1995-01-01     349120.0   1.0   0.0             4.0      0.297000   \n2        1995-01-01     206093.0   2.0   1.0             4.0      0.105000   \n3        1995-01-01     271307.0   7.0   1.0             4.0      0.027200   \n4        1995-01-01     242027.0   7.0   1.0             4.0      0.025800   \n...             ...          ...   ...   ...             ...           ...   \n683265   2015-08-19     149844.0   7.0   1.0             4.0      0.691000   \n683266   2015-08-19     171102.0   8.0   0.0             4.0      0.008460   \n683267   2015-08-19     171102.0   1.0   0.0             4.0      0.091900   \n683268   2015-08-19     319671.0   9.0   0.0             4.0      0.019900   \n683269   2015-08-19     179711.0  11.0   0.0             4.0      0.000028   \n\n        ...  artist1_num  artist2_num  betweenesscentrality_y  \\\n0       ...      16718.0          0.0                     0.0   \n1       ...      12974.0          0.0                     0.0   \n2       ...       1409.0          0.0                     0.0   \n3       ...       1409.0          0.0                     0.0   \n4       ...       1409.0          0.0                     0.0   \n...     ...          ...          ...                     ...   \n683265  ...       8626.0          0.0                     0.0   \n683266  ...      11095.0          0.0                     0.0   \n683267  ...      11095.0          0.0                     0.0   \n683268  ...       6092.0          0.0                     0.0   \n683269  ...       6092.0          0.0                     0.0   \n\n        closnesscentrality_y  clustering_y  Cluster_y  eccentricity_y  \\\n0                        0.0           0.0       -1.0             0.0   \n1                        0.0           0.0       -1.0             0.0   \n2                        0.0           0.0       -1.0             0.0   \n3                        0.0           0.0       -1.0             0.0   \n4                        0.0           0.0       -1.0             0.0   \n...                      ...           ...        ...             ...   \n683265                   0.0           0.0       -1.0             0.0   \n683266                   0.0           0.0       -1.0             0.0   \n683267                   0.0           0.0       -1.0             0.0   \n683268                   0.0           0.0       -1.0             0.0   \n683269                   0.0           0.0       -1.0             0.0   \n\n        eigencentrality_y weighted degree_y  profile_y  \n0                     0.0               0.0   No Match  \n1                     0.0               0.0   No Match  \n2                     0.0               0.0   No Match  \n3                     0.0               0.0   No Match  \n4                     0.0               0.0   No Match  \n...                   ...               ...        ...  \n683265                0.0               0.0   No Match  \n683266                0.0               0.0   No Match  \n683267                0.0               0.0   No Match  \n683268                0.0               0.0   No Match  \n683269                0.0               0.0   No Match  \n\n[683270 rows x 30 columns]",
      "text/html": "<div>\n<style scoped>\n    .dataframe tbody tr th:only-of-type {\n        vertical-align: middle;\n    }\n\n    .dataframe tbody tr th {\n        vertical-align: top;\n    }\n\n    .dataframe thead th {\n        text-align: right;\n    }\n</style>\n<table border=\"1\" class=\"dataframe\">\n  <thead>\n    <tr style=\"text-align: right;\">\n      <th></th>\n      <th>explicit</th>\n      <th>track_number</th>\n      <th>num_artists</th>\n      <th>num_available_markets</th>\n      <th>release_date</th>\n      <th>duration_ms</th>\n      <th>key</th>\n      <th>mode</th>\n      <th>time_signature</th>\n      <th>acousticness</th>\n      <th>...</th>\n      <th>artist1_num</th>\n      <th>artist2_num</th>\n      <th>betweenesscentrality_y</th>\n      <th>closnesscentrality_y</th>\n      <th>clustering_y</th>\n      <th>Cluster_y</th>\n      <th>eccentricity_y</th>\n      <th>eigencentrality_y</th>\n      <th>weighted degree_y</th>\n      <th>profile_y</th>\n    </tr>\n  </thead>\n  <tbody>\n    <tr>\n      <th>0</th>\n      <td>False</td>\n      <td>12.0</td>\n      <td>1.0</td>\n      <td>79.0</td>\n      <td>1995-01-01</td>\n      <td>162667.0</td>\n      <td>10.0</td>\n      <td>1.0</td>\n      <td>4.0</td>\n      <td>0.690000</td>\n      <td>...</td>\n      <td>16718.0</td>\n      <td>0.0</td>\n      <td>0.0</td>\n      <td>0.0</td>\n      <td>0.0</td>\n      <td>-1.0</td>\n      <td>0.0</td>\n      <td>0.0</td>\n      <td>0.0</td>\n      <td>No Match</td>\n    </tr>\n    <tr>\n      <th>1</th>\n      <td>False</td>\n      <td>2.0</td>\n      <td>1.0</td>\n      <td>79.0</td>\n      <td>1995-01-01</td>\n      <td>349120.0</td>\n      <td>1.0</td>\n      <td>0.0</td>\n      <td>4.0</td>\n      <td>0.297000</td>\n      <td>...</td>\n      <td>12974.0</td>\n      <td>0.0</td>\n      <td>0.0</td>\n      <td>0.0</td>\n      <td>0.0</td>\n      <td>-1.0</td>\n      <td>0.0</td>\n      <td>0.0</td>\n      <td>0.0</td>\n      <td>No Match</td>\n    </tr>\n    <tr>\n      <th>2</th>\n      <td>False</td>\n      <td>5.0</td>\n      <td>1.0</td>\n      <td>2.0</td>\n      <td>1995-01-01</td>\n      <td>206093.0</td>\n      <td>2.0</td>\n      <td>1.0</td>\n      <td>4.0</td>\n      <td>0.105000</td>\n      <td>...</td>\n      <td>1409.0</td>\n      <td>0.0</td>\n      <td>0.0</td>\n      <td>0.0</td>\n      <td>0.0</td>\n      <td>-1.0</td>\n      <td>0.0</td>\n      <td>0.0</td>\n      <td>0.0</td>\n      <td>No Match</td>\n    </tr>\n    <tr>\n      <th>3</th>\n      <td>False</td>\n      <td>4.0</td>\n      <td>1.0</td>\n      <td>2.0</td>\n      <td>1995-01-01</td>\n      <td>271307.0</td>\n      <td>7.0</td>\n      <td>1.0</td>\n      <td>4.0</td>\n      <td>0.027200</td>\n      <td>...</td>\n      <td>1409.0</td>\n      <td>0.0</td>\n      <td>0.0</td>\n      <td>0.0</td>\n      <td>0.0</td>\n      <td>-1.0</td>\n      <td>0.0</td>\n      <td>0.0</td>\n      <td>0.0</td>\n      <td>No Match</td>\n    </tr>\n    <tr>\n      <th>4</th>\n      <td>False</td>\n      <td>3.0</td>\n      <td>1.0</td>\n      <td>2.0</td>\n      <td>1995-01-01</td>\n      <td>242027.0</td>\n      <td>7.0</td>\n      <td>1.0</td>\n      <td>4.0</td>\n      <td>0.025800</td>\n      <td>...</td>\n      <td>1409.0</td>\n      <td>0.0</td>\n      <td>0.0</td>\n      <td>0.0</td>\n      <td>0.0</td>\n      <td>-1.0</td>\n      <td>0.0</td>\n      <td>0.0</td>\n      <td>0.0</td>\n      <td>No Match</td>\n    </tr>\n    <tr>\n      <th>...</th>\n      <td>...</td>\n      <td>...</td>\n      <td>...</td>\n      <td>...</td>\n      <td>...</td>\n      <td>...</td>\n      <td>...</td>\n      <td>...</td>\n      <td>...</td>\n      <td>...</td>\n      <td>...</td>\n      <td>...</td>\n      <td>...</td>\n      <td>...</td>\n      <td>...</td>\n      <td>...</td>\n      <td>...</td>\n      <td>...</td>\n      <td>...</td>\n      <td>...</td>\n      <td>...</td>\n    </tr>\n    <tr>\n      <th>683265</th>\n      <td>False</td>\n      <td>20.0</td>\n      <td>1.0</td>\n      <td>79.0</td>\n      <td>2015-08-19</td>\n      <td>149844.0</td>\n      <td>7.0</td>\n      <td>1.0</td>\n      <td>4.0</td>\n      <td>0.691000</td>\n      <td>...</td>\n      <td>8626.0</td>\n      <td>0.0</td>\n      <td>0.0</td>\n      <td>0.0</td>\n      <td>0.0</td>\n      <td>-1.0</td>\n      <td>0.0</td>\n      <td>0.0</td>\n      <td>0.0</td>\n      <td>No Match</td>\n    </tr>\n    <tr>\n      <th>683266</th>\n      <td>True</td>\n      <td>2.0</td>\n      <td>1.0</td>\n      <td>79.0</td>\n      <td>2015-08-19</td>\n      <td>171102.0</td>\n      <td>8.0</td>\n      <td>0.0</td>\n      <td>4.0</td>\n      <td>0.008460</td>\n      <td>...</td>\n      <td>11095.0</td>\n      <td>0.0</td>\n      <td>0.0</td>\n      <td>0.0</td>\n      <td>0.0</td>\n      <td>-1.0</td>\n      <td>0.0</td>\n      <td>0.0</td>\n      <td>0.0</td>\n      <td>No Match</td>\n    </tr>\n    <tr>\n      <th>683267</th>\n      <td>True</td>\n      <td>1.0</td>\n      <td>1.0</td>\n      <td>79.0</td>\n      <td>2015-08-19</td>\n      <td>171102.0</td>\n      <td>1.0</td>\n      <td>0.0</td>\n      <td>4.0</td>\n      <td>0.091900</td>\n      <td>...</td>\n      <td>11095.0</td>\n      <td>0.0</td>\n      <td>0.0</td>\n      <td>0.0</td>\n      <td>0.0</td>\n      <td>-1.0</td>\n      <td>0.0</td>\n      <td>0.0</td>\n      <td>0.0</td>\n      <td>No Match</td>\n    </tr>\n    <tr>\n      <th>683268</th>\n      <td>False</td>\n      <td>3.0</td>\n      <td>1.0</td>\n      <td>79.0</td>\n      <td>2015-08-19</td>\n      <td>319671.0</td>\n      <td>9.0</td>\n      <td>0.0</td>\n      <td>4.0</td>\n      <td>0.019900</td>\n      <td>...</td>\n      <td>6092.0</td>\n      <td>0.0</td>\n      <td>0.0</td>\n      <td>0.0</td>\n      <td>0.0</td>\n      <td>-1.0</td>\n      <td>0.0</td>\n      <td>0.0</td>\n      <td>0.0</td>\n      <td>No Match</td>\n    </tr>\n    <tr>\n      <th>683269</th>\n      <td>False</td>\n      <td>4.0</td>\n      <td>1.0</td>\n      <td>79.0</td>\n      <td>2015-08-19</td>\n      <td>179711.0</td>\n      <td>11.0</td>\n      <td>0.0</td>\n      <td>4.0</td>\n      <td>0.000028</td>\n      <td>...</td>\n      <td>6092.0</td>\n      <td>0.0</td>\n      <td>0.0</td>\n      <td>0.0</td>\n      <td>0.0</td>\n      <td>-1.0</td>\n      <td>0.0</td>\n      <td>0.0</td>\n      <td>0.0</td>\n      <td>No Match</td>\n    </tr>\n  </tbody>\n</table>\n<p>683270 rows × 30 columns</p>\n</div>"
     },
     "execution_count": 10,
     "metadata": {},
     "output_type": "execute_result"
    }
   ],
   "source": [
    "X_train"
   ],
   "metadata": {
    "collapsed": false,
    "ExecuteTime": {
     "end_time": "2024-06-28T10:26:20.077700100Z",
     "start_time": "2024-06-28T10:26:19.887707200Z"
    }
   },
   "id": "834e60172e4f701a"
  },
  {
   "cell_type": "code",
   "execution_count": 11,
   "outputs": [
    {
     "data": {
      "text/plain": "700       1.0\n706       1.0\n730       1.0\n737       1.0\n753       1.0\n         ... \n681096    1.0\n681305    1.0\n681621    1.0\n681984    1.0\n683156    1.0\nName: hit, Length: 9833, dtype: float64"
     },
     "execution_count": 11,
     "metadata": {},
     "output_type": "execute_result"
    }
   ],
   "source": [
    "y_train[(y_train == 1)]"
   ],
   "metadata": {
    "collapsed": false,
    "ExecuteTime": {
     "end_time": "2024-06-28T10:26:20.109425100Z",
     "start_time": "2024-06-28T10:26:20.079702400Z"
    }
   },
   "id": "85a037f472f25ab3"
  },
  {
   "cell_type": "code",
   "execution_count": 12,
   "outputs": [
    {
     "data": {
      "text/plain": "     explicit  track_number  num_artists  num_available_markets release_date  \\\n700     False           8.0          1.0                   76.0   1995-01-01   \n701     False          10.0          1.0                   79.0   1995-01-01   \n702     False           5.0          2.0                    0.0   1995-01-01   \n703     False           2.0          1.0                   79.0   1995-01-01   \n704     False           6.0          1.0                   79.0   1995-01-01   \n705     False          34.0          1.0                   78.0   1995-01-01   \n706     False          19.0          1.0                   59.0   1995-01-01   \n707     False          10.0          1.0                   79.0   1995-01-01   \n708     False           5.0          1.0                   79.0   1995-01-01   \n709     False           6.0          2.0                   79.0   1995-01-01   \n\n     duration_ms   key  mode  time_signature  acousticness  ...  artist1_num  \\\n700     130067.0   4.0   1.0             4.0       0.51400  ...      11790.0   \n701     309973.0   7.0   1.0             4.0       0.00391  ...         54.0   \n702     552733.0   4.0   1.0             4.0       0.09600  ...      11522.0   \n703     176000.0   0.0   1.0             4.0       0.17400  ...      17210.0   \n704     503973.0   5.0   0.0             4.0       0.00214  ...      17210.0   \n705     250067.0   0.0   1.0             4.0       0.04330  ...       9759.0   \n706     196173.0   9.0   1.0             4.0       0.38400  ...      16641.0   \n707     290627.0   5.0   1.0             4.0       0.02450  ...      17210.0   \n708     137933.0  10.0   1.0             4.0       0.49900  ...      10232.0   \n709     145293.0   8.0   1.0             4.0       0.65600  ...      10232.0   \n\n     artist2_num  betweenesscentrality_y  closnesscentrality_y  clustering_y  \\\n700          0.0                0.000000              0.000000      0.000000   \n701          0.0                0.000000              0.000000      0.000000   \n702      24396.0                0.000188              0.190583      0.000000   \n703          0.0                0.000000              0.000000      0.000000   \n704          0.0                0.000000              0.000000      0.000000   \n705          0.0                0.000000              0.000000      0.000000   \n706          0.0                0.000000              0.000000      0.000000   \n707          0.0                0.000000              0.000000      0.000000   \n708          0.0                0.000000              0.000000      0.000000   \n709        394.0                0.000693              0.162914      0.066667   \n\n     Cluster_y  eccentricity_y  eigencentrality_y weighted degree_y  \\\n700       -1.0             0.0           0.000000               0.0   \n701       -1.0             0.0           0.000000               0.0   \n702        0.0            11.0           0.000467               4.0   \n703       -1.0             0.0           0.000000               0.0   \n704       -1.0             0.0           0.000000               0.0   \n705       -1.0             0.0           0.000000               0.0   \n706       -1.0             0.0           0.000000               0.0   \n707       -1.0             0.0           0.000000               0.0   \n708       -1.0             0.0           0.000000               0.0   \n709        0.0            12.0           0.000013             128.0   \n\n       profile_y  \n700     No Match  \n701     No Match  \n702  1A 2A 3A 4A  \n703     No Match  \n704     No Match  \n705     No Match  \n706     No Match  \n707     No Match  \n708     No Match  \n709  1A 2A 3A 4A  \n\n[10 rows x 30 columns]",
      "text/html": "<div>\n<style scoped>\n    .dataframe tbody tr th:only-of-type {\n        vertical-align: middle;\n    }\n\n    .dataframe tbody tr th {\n        vertical-align: top;\n    }\n\n    .dataframe thead th {\n        text-align: right;\n    }\n</style>\n<table border=\"1\" class=\"dataframe\">\n  <thead>\n    <tr style=\"text-align: right;\">\n      <th></th>\n      <th>explicit</th>\n      <th>track_number</th>\n      <th>num_artists</th>\n      <th>num_available_markets</th>\n      <th>release_date</th>\n      <th>duration_ms</th>\n      <th>key</th>\n      <th>mode</th>\n      <th>time_signature</th>\n      <th>acousticness</th>\n      <th>...</th>\n      <th>artist1_num</th>\n      <th>artist2_num</th>\n      <th>betweenesscentrality_y</th>\n      <th>closnesscentrality_y</th>\n      <th>clustering_y</th>\n      <th>Cluster_y</th>\n      <th>eccentricity_y</th>\n      <th>eigencentrality_y</th>\n      <th>weighted degree_y</th>\n      <th>profile_y</th>\n    </tr>\n  </thead>\n  <tbody>\n    <tr>\n      <th>700</th>\n      <td>False</td>\n      <td>8.0</td>\n      <td>1.0</td>\n      <td>76.0</td>\n      <td>1995-01-01</td>\n      <td>130067.0</td>\n      <td>4.0</td>\n      <td>1.0</td>\n      <td>4.0</td>\n      <td>0.51400</td>\n      <td>...</td>\n      <td>11790.0</td>\n      <td>0.0</td>\n      <td>0.000000</td>\n      <td>0.000000</td>\n      <td>0.000000</td>\n      <td>-1.0</td>\n      <td>0.0</td>\n      <td>0.000000</td>\n      <td>0.0</td>\n      <td>No Match</td>\n    </tr>\n    <tr>\n      <th>701</th>\n      <td>False</td>\n      <td>10.0</td>\n      <td>1.0</td>\n      <td>79.0</td>\n      <td>1995-01-01</td>\n      <td>309973.0</td>\n      <td>7.0</td>\n      <td>1.0</td>\n      <td>4.0</td>\n      <td>0.00391</td>\n      <td>...</td>\n      <td>54.0</td>\n      <td>0.0</td>\n      <td>0.000000</td>\n      <td>0.000000</td>\n      <td>0.000000</td>\n      <td>-1.0</td>\n      <td>0.0</td>\n      <td>0.000000</td>\n      <td>0.0</td>\n      <td>No Match</td>\n    </tr>\n    <tr>\n      <th>702</th>\n      <td>False</td>\n      <td>5.0</td>\n      <td>2.0</td>\n      <td>0.0</td>\n      <td>1995-01-01</td>\n      <td>552733.0</td>\n      <td>4.0</td>\n      <td>1.0</td>\n      <td>4.0</td>\n      <td>0.09600</td>\n      <td>...</td>\n      <td>11522.0</td>\n      <td>24396.0</td>\n      <td>0.000188</td>\n      <td>0.190583</td>\n      <td>0.000000</td>\n      <td>0.0</td>\n      <td>11.0</td>\n      <td>0.000467</td>\n      <td>4.0</td>\n      <td>1A 2A 3A 4A</td>\n    </tr>\n    <tr>\n      <th>703</th>\n      <td>False</td>\n      <td>2.0</td>\n      <td>1.0</td>\n      <td>79.0</td>\n      <td>1995-01-01</td>\n      <td>176000.0</td>\n      <td>0.0</td>\n      <td>1.0</td>\n      <td>4.0</td>\n      <td>0.17400</td>\n      <td>...</td>\n      <td>17210.0</td>\n      <td>0.0</td>\n      <td>0.000000</td>\n      <td>0.000000</td>\n      <td>0.000000</td>\n      <td>-1.0</td>\n      <td>0.0</td>\n      <td>0.000000</td>\n      <td>0.0</td>\n      <td>No Match</td>\n    </tr>\n    <tr>\n      <th>704</th>\n      <td>False</td>\n      <td>6.0</td>\n      <td>1.0</td>\n      <td>79.0</td>\n      <td>1995-01-01</td>\n      <td>503973.0</td>\n      <td>5.0</td>\n      <td>0.0</td>\n      <td>4.0</td>\n      <td>0.00214</td>\n      <td>...</td>\n      <td>17210.0</td>\n      <td>0.0</td>\n      <td>0.000000</td>\n      <td>0.000000</td>\n      <td>0.000000</td>\n      <td>-1.0</td>\n      <td>0.0</td>\n      <td>0.000000</td>\n      <td>0.0</td>\n      <td>No Match</td>\n    </tr>\n    <tr>\n      <th>705</th>\n      <td>False</td>\n      <td>34.0</td>\n      <td>1.0</td>\n      <td>78.0</td>\n      <td>1995-01-01</td>\n      <td>250067.0</td>\n      <td>0.0</td>\n      <td>1.0</td>\n      <td>4.0</td>\n      <td>0.04330</td>\n      <td>...</td>\n      <td>9759.0</td>\n      <td>0.0</td>\n      <td>0.000000</td>\n      <td>0.000000</td>\n      <td>0.000000</td>\n      <td>-1.0</td>\n      <td>0.0</td>\n      <td>0.000000</td>\n      <td>0.0</td>\n      <td>No Match</td>\n    </tr>\n    <tr>\n      <th>706</th>\n      <td>False</td>\n      <td>19.0</td>\n      <td>1.0</td>\n      <td>59.0</td>\n      <td>1995-01-01</td>\n      <td>196173.0</td>\n      <td>9.0</td>\n      <td>1.0</td>\n      <td>4.0</td>\n      <td>0.38400</td>\n      <td>...</td>\n      <td>16641.0</td>\n      <td>0.0</td>\n      <td>0.000000</td>\n      <td>0.000000</td>\n      <td>0.000000</td>\n      <td>-1.0</td>\n      <td>0.0</td>\n      <td>0.000000</td>\n      <td>0.0</td>\n      <td>No Match</td>\n    </tr>\n    <tr>\n      <th>707</th>\n      <td>False</td>\n      <td>10.0</td>\n      <td>1.0</td>\n      <td>79.0</td>\n      <td>1995-01-01</td>\n      <td>290627.0</td>\n      <td>5.0</td>\n      <td>1.0</td>\n      <td>4.0</td>\n      <td>0.02450</td>\n      <td>...</td>\n      <td>17210.0</td>\n      <td>0.0</td>\n      <td>0.000000</td>\n      <td>0.000000</td>\n      <td>0.000000</td>\n      <td>-1.0</td>\n      <td>0.0</td>\n      <td>0.000000</td>\n      <td>0.0</td>\n      <td>No Match</td>\n    </tr>\n    <tr>\n      <th>708</th>\n      <td>False</td>\n      <td>5.0</td>\n      <td>1.0</td>\n      <td>79.0</td>\n      <td>1995-01-01</td>\n      <td>137933.0</td>\n      <td>10.0</td>\n      <td>1.0</td>\n      <td>4.0</td>\n      <td>0.49900</td>\n      <td>...</td>\n      <td>10232.0</td>\n      <td>0.0</td>\n      <td>0.000000</td>\n      <td>0.000000</td>\n      <td>0.000000</td>\n      <td>-1.0</td>\n      <td>0.0</td>\n      <td>0.000000</td>\n      <td>0.0</td>\n      <td>No Match</td>\n    </tr>\n    <tr>\n      <th>709</th>\n      <td>False</td>\n      <td>6.0</td>\n      <td>2.0</td>\n      <td>79.0</td>\n      <td>1995-01-01</td>\n      <td>145293.0</td>\n      <td>8.0</td>\n      <td>1.0</td>\n      <td>4.0</td>\n      <td>0.65600</td>\n      <td>...</td>\n      <td>10232.0</td>\n      <td>394.0</td>\n      <td>0.000693</td>\n      <td>0.162914</td>\n      <td>0.066667</td>\n      <td>0.0</td>\n      <td>12.0</td>\n      <td>0.000013</td>\n      <td>128.0</td>\n      <td>1A 2A 3A 4A</td>\n    </tr>\n  </tbody>\n</table>\n<p>10 rows × 30 columns</p>\n</div>"
     },
     "execution_count": 12,
     "metadata": {},
     "output_type": "execute_result"
    }
   ],
   "source": [
    "X_train = X_train.iloc[700: 700+10]\n",
    "X_train"
   ],
   "metadata": {
    "collapsed": false,
    "ExecuteTime": {
     "end_time": "2024-06-28T10:26:20.247883300Z",
     "start_time": "2024-06-28T10:26:20.095710800Z"
    }
   },
   "id": "1f6360f617dda9d7"
  },
  {
   "cell_type": "code",
   "execution_count": 13,
   "outputs": [
    {
     "data": {
      "text/plain": "700    1.0\n701    0.0\n702    0.0\n703    0.0\n704    0.0\n705    0.0\n706    1.0\n707    0.0\n708    0.0\n709    0.0\nName: hit, dtype: float64"
     },
     "execution_count": 13,
     "metadata": {},
     "output_type": "execute_result"
    }
   ],
   "source": [
    "y_train = y_train.iloc[700: 700+10]\n",
    "y_train"
   ],
   "metadata": {
    "collapsed": false,
    "ExecuteTime": {
     "end_time": "2024-06-28T10:26:20.248884900Z",
     "start_time": "2024-06-28T10:26:20.146624600Z"
    }
   },
   "id": "f0fa806293c5e270"
  },
  {
   "cell_type": "code",
   "execution_count": 14,
   "outputs": [
    {
     "name": "stdout",
     "output_type": "stream",
     "text": [
      "nr of samples in each class:  [8 2]\n",
      "positive indices:  [0 6]\n",
      "######UPSAMPLING DONE######\n"
     ]
    },
    {
     "data": {
      "text/plain": "array([[False, 8.0, 1.0, 76.0, '1995-01-01', 130067.0, 4.0, 1.0, 4.0,\n        0.514, 0.332, 0.812, 0.0, 0.715, -7.845, 0.297, 0.799, 200.438,\n        Timestamp('1995-01-01 00:00:00'), 0.1150684931506849, 11790.0,\n        0.0, 0.0, 0.0, 0.0, -1.0, 0.0, 0.0, 0.0, 'No Match'],\n       [False, 10.0, 1.0, 79.0, '1995-01-01', 309973.0, 7.0, 1.0, 4.0,\n        0.00391, 0.479, 0.919, 0.00237, 0.238, -6.64, 0.0465, 0.563,\n        139.857, Timestamp('1995-01-01 00:00:00'), 0.0, 54.0, 0.0, 0.0,\n        0.0, 0.0, -1.0, 0.0, 0.0, 0.0, 'No Match'],\n       [False, 5.0, 2.0, 0.0, '1995-01-01', 552733.0, 4.0, 1.0, 4.0,\n        0.096, 0.376, 0.922, 0.0851, 0.248, -8.135, 0.0628, 0.779,\n        133.115, Timestamp('1995-01-01 00:00:00'), 0.0, 11522.0, 24396.0,\n        0.0001876524676299, 0.1905834808576078, 0.0, 0.0, 11.0,\n        0.0004671345866935, 4.0, '1A 2A 3A 4A'],\n       [False, 2.0, 1.0, 79.0, '1995-01-01', 176000.0, 0.0, 1.0, 4.0,\n        0.174, 0.722, 0.751, 0.0, 0.0857, -6.089, 0.0258, 0.685, 104.089,\n        Timestamp('1995-01-01 00:00:00'), 0.0, 17210.0, 0.0, 0.0, 0.0,\n        0.0, -1.0, 0.0, 0.0, 0.0, 'No Match'],\n       [False, 6.0, 1.0, 79.0, '1995-01-01', 503973.0, 5.0, 0.0, 4.0,\n        0.00214, 0.754, 0.766, 0.0199, 0.0493, -10.892, 0.0576, 0.96,\n        135.055, Timestamp('1995-01-01 00:00:00'), 0.0, 17210.0, 0.0,\n        0.0, 0.0, 0.0, -1.0, 0.0, 0.0, 0.0, 'No Match'],\n       [False, 34.0, 1.0, 78.0, '1995-01-01', 250067.0, 0.0, 1.0, 4.0,\n        0.0433, 0.764, 0.61, 0.0303, 0.0548, -12.159, 0.0566, 0.975,\n        98.466, Timestamp('1995-01-01 00:00:00'), 0.0, 9759.0, 0.0, 0.0,\n        0.0, 0.0, -1.0, 0.0, 0.0, 0.0, 'No Match'],\n       [False, 19.0, 1.0, 59.0, '1995-01-01', 196173.0, 9.0, 1.0, 4.0,\n        0.384, 0.77, 0.689, 0.0, 0.231, -14.337, 0.312, 0.805, 110.866,\n        Timestamp('1995-01-01 00:00:00'), 0.1726027397260273, 16641.0,\n        0.0, 0.0, 0.0, 0.0, -1.0, 0.0, 0.0, 0.0, 'No Match'],\n       [False, 10.0, 1.0, 79.0, '1995-01-01', 290627.0, 5.0, 1.0, 4.0,\n        0.0245, 0.807, 0.569, 0.00535, 0.262, -10.757, 0.0495, 0.937,\n        104.087, Timestamp('1995-01-01 00:00:00'), 0.0, 17210.0, 0.0,\n        0.0, 0.0, 0.0, -1.0, 0.0, 0.0, 0.0, 'No Match'],\n       [False, 5.0, 1.0, 79.0, '1995-01-01', 137933.0, 10.0, 1.0, 4.0,\n        0.499, 0.585, 0.261, 0.0, 0.161, -13.601, 0.0424, 0.618, 67.611,\n        Timestamp('1995-01-01 00:00:00'), 0.0, 10232.0, 0.0, 0.0, 0.0,\n        0.0, -1.0, 0.0, 0.0, 0.0, 'No Match'],\n       [False, 6.0, 2.0, 79.0, '1995-01-01', 145293.0, 8.0, 1.0, 4.0,\n        0.656, 0.617, 0.255, 0.0, 0.0888, -12.813, 0.0441, 0.481, 90.797,\n        Timestamp('1995-01-01 00:00:00'), 0.0, 10232.0, 394.0,\n        0.0006929993051118, 0.1629140490056709, 0.0666666666666666, 0.0,\n        12.0, 1.3057201136432236e-05, 128.0, '1A 2A 3A 4A'],\n       [False, 19.0, 1.0, 59.0, '1995-01-01', 196173.0, 9.0, 1.0, 4.0,\n        0.384, 0.77, 0.689, 0.0, 0.231, -14.337, 0.312, 0.805, 110.866,\n        Timestamp('1995-01-01 00:00:00'), 0.1726027397260273, 16641.0,\n        0.0, 0.0, 0.0, 0.0, -1.0, 0.0, 0.0, 0.0, 'No Match'],\n       [False, 8.0, 1.0, 76.0, '1995-01-01', 130067.0, 4.0, 1.0, 4.0,\n        0.514, 0.332, 0.812, 0.0, 0.715, -7.845, 0.297, 0.799, 200.438,\n        Timestamp('1995-01-01 00:00:00'), 0.1150684931506849, 11790.0,\n        0.0, 0.0, 0.0, 0.0, -1.0, 0.0, 0.0, 0.0, 'No Match'],\n       [False, 8.0, 1.0, 76.0, '1995-01-01', 130067.0, 4.0, 1.0, 4.0,\n        0.514, 0.332, 0.812, 0.0, 0.715, -7.845, 0.297, 0.799, 200.438,\n        Timestamp('1995-01-01 00:00:00'), 0.1150684931506849, 11790.0,\n        0.0, 0.0, 0.0, 0.0, -1.0, 0.0, 0.0, 0.0, 'No Match'],\n       [False, 8.0, 1.0, 76.0, '1995-01-01', 130067.0, 4.0, 1.0, 4.0,\n        0.514, 0.332, 0.812, 0.0, 0.715, -7.845, 0.297, 0.799, 200.438,\n        Timestamp('1995-01-01 00:00:00'), 0.1150684931506849, 11790.0,\n        0.0, 0.0, 0.0, 0.0, -1.0, 0.0, 0.0, 0.0, 'No Match'],\n       [False, 8.0, 1.0, 76.0, '1995-01-01', 130067.0, 4.0, 1.0, 4.0,\n        0.514, 0.332, 0.812, 0.0, 0.715, -7.845, 0.297, 0.799, 200.438,\n        Timestamp('1995-01-01 00:00:00'), 0.1150684931506849, 11790.0,\n        0.0, 0.0, 0.0, 0.0, -1.0, 0.0, 0.0, 0.0, 'No Match'],\n       [False, 8.0, 1.0, 76.0, '1995-01-01', 130067.0, 4.0, 1.0, 4.0,\n        0.514, 0.332, 0.812, 0.0, 0.715, -7.845, 0.297, 0.799, 200.438,\n        Timestamp('1995-01-01 00:00:00'), 0.1150684931506849, 11790.0,\n        0.0, 0.0, 0.0, 0.0, -1.0, 0.0, 0.0, 0.0, 'No Match']],\n      dtype=object)"
     },
     "execution_count": 14,
     "metadata": {},
     "output_type": "execute_result"
    }
   ],
   "source": [
    "\n",
    "def upsampling(X_train, y_train):\n",
    "    # Convert y_train to a numpy array\n",
    "    # y_train = y_train.to_numpy()\n",
    "    X_train = X_train.to_numpy()\n",
    "\n",
    "    # Count the number of samples in each class\n",
    "    class_counts = np.bincount(y_train.flatten().astype(int))\n",
    "    print(\"nr of samples in each class: \", class_counts)\n",
    "    max_count = class_counts.max()\n",
    "\n",
    "    # Find indices of positive instances\n",
    "    positive_indices = np.where(y_train.flatten() == 1)[0]\n",
    "    print(\"positive indices: \", positive_indices)\n",
    "    \n",
    "    # Calculate how many times to duplicate positive samples\n",
    "    difference = max_count - class_counts[1]\n",
    "\n",
    "    # Randomly select indices from positive instances\n",
    "    random_indices = np.random.choice(positive_indices, size=difference, replace=True)\n",
    "    \n",
    "    # Get rows corresponding to positive instances and concat them\n",
    "    rows_to_duplicate = np.vstack([X_train[idx] for idx in random_indices])\n",
    "\n",
    "    # Stack duplicated rows with the original matrix\n",
    "    X_train_upsampled = np.vstack([X_train, rows_to_duplicate])\n",
    "\n",
    "    # Create an array of shape (x, 1) with all elements as 1\n",
    "    rows_of_ones = np.ones((difference, 1))\n",
    "\n",
    "    # Append rows_of_ones to original_array\n",
    "    y_train_upsampled = np.concatenate((y_train, rows_of_ones), axis=0)\n",
    "\n",
    "    print(\"######UPSAMPLING DONE######\")\n",
    "    return X_train_upsampled, y_train_upsampled\n",
    "\n",
    "\n",
    "y_reshaped = y_train.values.reshape(-1, 1)\n",
    "# print(X_train.shape)\n",
    "# print(y_reshaped.shape)\n",
    "X_train_upsampled, y_train_upsampled = upsampling(X_train=X_train, y_train=y_reshaped)\n",
    "# Assuming X_train, X_test, y_train, y_test are your training and testing data\n",
    "# print(\"X_train_up type:\", type(X_train_upsampled))\n",
    "# print(\"y_train_up type:\", type(y_train_upsampled))\n",
    "# print(\"X_train_up shape:\", X_train_upsampled.shape)\n",
    "# print(\"y_train_up shape:\", y_train_upsampled.shape)\n",
    "# print(type(X_test))\n",
    "# print(type(y_test))\n",
    "X_train_upsampled"
   ],
   "metadata": {
    "collapsed": false,
    "ExecuteTime": {
     "end_time": "2024-06-28T10:26:20.290881700Z",
     "start_time": "2024-06-28T10:26:20.161412600Z"
    }
   },
   "id": "fa25f7fbea00ed3c"
  },
  {
   "cell_type": "code",
   "execution_count": 15,
   "outputs": [
    {
     "data": {
      "text/plain": "(16, 30)"
     },
     "execution_count": 15,
     "metadata": {},
     "output_type": "execute_result"
    }
   ],
   "source": [
    "X_train_upsampled.shape"
   ],
   "metadata": {
    "collapsed": false,
    "ExecuteTime": {
     "end_time": "2024-06-28T10:26:20.302884500Z",
     "start_time": "2024-06-28T10:26:20.188800Z"
    }
   },
   "id": "62921711958c6414"
  },
  {
   "cell_type": "code",
   "execution_count": 16,
   "outputs": [
    {
     "data": {
      "text/plain": "array([False, 8.0, 1.0, 76.0, '1995-01-01', 130067.0, 4.0, 1.0, 4.0,\n       0.514, 0.332, 0.812, 0.0, 0.715, -7.845, 0.297, 0.799, 200.438,\n       Timestamp('1995-01-01 00:00:00'), 0.1150684931506849, 11790.0, 0.0,\n       0.0, 0.0, 0.0, -1.0, 0.0, 0.0, 0.0, 'No Match'], dtype=object)"
     },
     "execution_count": 16,
     "metadata": {},
     "output_type": "execute_result"
    }
   ],
   "source": [
    "X_train.loc[700].to_numpy()"
   ],
   "metadata": {
    "collapsed": false,
    "ExecuteTime": {
     "end_time": "2024-06-28T10:26:20.328882500Z",
     "start_time": "2024-06-28T10:26:20.202885500Z"
    }
   },
   "id": "19fd1acaadee7472"
  },
  {
   "cell_type": "markdown",
   "source": [
    "was found in upper string 4 times"
   ],
   "metadata": {
    "collapsed": false
   },
   "id": "fb12bff84a4b8665"
  },
  {
   "cell_type": "code",
   "execution_count": 17,
   "outputs": [
    {
     "data": {
      "text/plain": "array([False, 19.0, 1.0, 59.0, '1995-01-01', 196173.0, 9.0, 1.0, 4.0,\n       0.384, 0.77, 0.689, 0.0, 0.231, -14.337, 0.312, 0.805, 110.866,\n       Timestamp('1995-01-01 00:00:00'), 0.1726027397260273, 16641.0, 0.0,\n       0.0, 0.0, 0.0, -1.0, 0.0, 0.0, 0.0, 'No Match'], dtype=object)"
     },
     "execution_count": 17,
     "metadata": {},
     "output_type": "execute_result"
    }
   ],
   "source": [
    "X_train.loc[706].to_numpy()"
   ],
   "metadata": {
    "collapsed": false,
    "ExecuteTime": {
     "end_time": "2024-06-28T10:26:20.328882500Z",
     "start_time": "2024-06-28T10:26:20.219882900Z"
    }
   },
   "id": "b0aa6695732ddf43"
  },
  {
   "cell_type": "markdown",
   "source": [
    "was found in upper string 4 times"
   ],
   "metadata": {
    "collapsed": false
   },
   "id": "9bef5c713147d3a1"
  },
  {
   "cell_type": "markdown",
   "source": [
    "checked order and it is correct"
   ],
   "metadata": {
    "collapsed": false
   },
   "id": "5c4b5cacce45e497"
  },
  {
   "cell_type": "code",
   "execution_count": 18,
   "outputs": [
    {
     "data": {
      "text/plain": "(16, 1)"
     },
     "execution_count": 18,
     "metadata": {},
     "output_type": "execute_result"
    }
   ],
   "source": [
    "y_train_upsampled.shape"
   ],
   "metadata": {
    "collapsed": false,
    "ExecuteTime": {
     "end_time": "2024-06-28T10:26:20.411882400Z",
     "start_time": "2024-06-28T10:26:20.233885300Z"
    }
   },
   "id": "5b5748bcab4acc90"
  },
  {
   "cell_type": "code",
   "execution_count": 19,
   "outputs": [
    {
     "data": {
      "text/plain": "array([[1.],\n       [0.],\n       [0.],\n       [0.],\n       [0.],\n       [0.],\n       [1.],\n       [0.],\n       [0.],\n       [0.],\n       [1.],\n       [1.],\n       [1.],\n       [1.],\n       [1.],\n       [1.]])"
     },
     "execution_count": 19,
     "metadata": {},
     "output_type": "execute_result"
    }
   ],
   "source": [
    "y_train_upsampled"
   ],
   "metadata": {
    "collapsed": false,
    "ExecuteTime": {
     "end_time": "2024-06-28T10:26:20.477883200Z",
     "start_time": "2024-06-28T10:26:20.251882400Z"
    }
   },
   "id": "7186c70b0f35ec59"
  },
  {
   "cell_type": "code",
   "execution_count": 26,
   "outputs": [
    {
     "name": "stdout",
     "output_type": "stream",
     "text": [
      "Value counts: {0.0: 8, 1.0: 8}\n"
     ]
    }
   ],
   "source": [
    "\n",
    "# Count occurrences of each unique value\n",
    "unique_values, counts = np.unique(y_train_upsampled, return_counts=True)\n",
    "\n",
    "# Create a dictionary to store the counts of each value\n",
    "value_counts = dict(zip(unique_values, counts))\n",
    "\n",
    "print(\"Value counts:\", value_counts)\n",
    "\n",
    "# Convert arrays to DataFrames\n",
    "X_train_upsampled_df = pd.DataFrame(X_train_upsampled, columns=X_train.columns)\n",
    "y_train_upsampled_df = pd.DataFrame(y_train_upsampled, columns=['hit'])\n",
    "\n",
    "# Concatenate y_train_upsampled as an extra column to X_train_upsampled_df\n",
    "X_train_upsampled_with_y = pd.concat([X_train_upsampled_df, y_train_upsampled_df], axis=1)\n",
    "X_train_upsampled_with_y['date'] = pd.to_datetime(X_train_upsampled_with_y['release_date'])\n",
    "X_train_upsampled_with_y.sort_values(by=\"date\", inplace=True)"
   ],
   "metadata": {
    "collapsed": false,
    "ExecuteTime": {
     "end_time": "2024-06-28T10:29:23.483506700Z",
     "start_time": "2024-06-28T10:29:23.403508400Z"
    }
   },
   "id": "4beddd1889f5c51f"
  },
  {
   "cell_type": "code",
   "execution_count": 27,
   "outputs": [
    {
     "data": {
      "text/plain": "   explicit track_number num_artists num_available_markets release_date  \\\n0     False          8.0         1.0                  76.0   1995-01-01   \n1     False         10.0         1.0                  79.0   1995-01-01   \n2     False          5.0         2.0                   0.0   1995-01-01   \n3     False          2.0         1.0                  79.0   1995-01-01   \n4     False          6.0         1.0                  79.0   1995-01-01   \n5     False         34.0         1.0                  78.0   1995-01-01   \n6     False         19.0         1.0                  59.0   1995-01-01   \n7     False         10.0         1.0                  79.0   1995-01-01   \n8     False          5.0         1.0                  79.0   1995-01-01   \n9     False          6.0         2.0                  79.0   1995-01-01   \n10    False         19.0         1.0                  59.0   1995-01-01   \n11    False          8.0         1.0                  76.0   1995-01-01   \n12    False          8.0         1.0                  76.0   1995-01-01   \n13    False          8.0         1.0                  76.0   1995-01-01   \n14    False          8.0         1.0                  76.0   1995-01-01   \n15    False          8.0         1.0                  76.0   1995-01-01   \n\n   duration_ms   key mode time_signature acousticness  ... artist2_num  \\\n0     130067.0   4.0  1.0            4.0        0.514  ...         0.0   \n1     309973.0   7.0  1.0            4.0      0.00391  ...         0.0   \n2     552733.0   4.0  1.0            4.0        0.096  ...     24396.0   \n3     176000.0   0.0  1.0            4.0        0.174  ...         0.0   \n4     503973.0   5.0  0.0            4.0      0.00214  ...         0.0   \n5     250067.0   0.0  1.0            4.0       0.0433  ...         0.0   \n6     196173.0   9.0  1.0            4.0        0.384  ...         0.0   \n7     290627.0   5.0  1.0            4.0       0.0245  ...         0.0   \n8     137933.0  10.0  1.0            4.0        0.499  ...         0.0   \n9     145293.0   8.0  1.0            4.0        0.656  ...       394.0   \n10    196173.0   9.0  1.0            4.0        0.384  ...         0.0   \n11    130067.0   4.0  1.0            4.0        0.514  ...         0.0   \n12    130067.0   4.0  1.0            4.0        0.514  ...         0.0   \n13    130067.0   4.0  1.0            4.0        0.514  ...         0.0   \n14    130067.0   4.0  1.0            4.0        0.514  ...         0.0   \n15    130067.0   4.0  1.0            4.0        0.514  ...         0.0   \n\n   betweenesscentrality_y closnesscentrality_y clustering_y Cluster_y  \\\n0                     0.0                  0.0          0.0      -1.0   \n1                     0.0                  0.0          0.0      -1.0   \n2                0.000188             0.190583          0.0       0.0   \n3                     0.0                  0.0          0.0      -1.0   \n4                     0.0                  0.0          0.0      -1.0   \n5                     0.0                  0.0          0.0      -1.0   \n6                     0.0                  0.0          0.0      -1.0   \n7                     0.0                  0.0          0.0      -1.0   \n8                     0.0                  0.0          0.0      -1.0   \n9                0.000693             0.162914     0.066667       0.0   \n10                    0.0                  0.0          0.0      -1.0   \n11                    0.0                  0.0          0.0      -1.0   \n12                    0.0                  0.0          0.0      -1.0   \n13                    0.0                  0.0          0.0      -1.0   \n14                    0.0                  0.0          0.0      -1.0   \n15                    0.0                  0.0          0.0      -1.0   \n\n   eccentricity_y eigencentrality_y weighted degree_y    profile_y  hit  \n0             0.0               0.0               0.0     No Match  1.0  \n1             0.0               0.0               0.0     No Match  0.0  \n2            11.0          0.000467               4.0  1A 2A 3A 4A  0.0  \n3             0.0               0.0               0.0     No Match  0.0  \n4             0.0               0.0               0.0     No Match  0.0  \n5             0.0               0.0               0.0     No Match  0.0  \n6             0.0               0.0               0.0     No Match  1.0  \n7             0.0               0.0               0.0     No Match  0.0  \n8             0.0               0.0               0.0     No Match  0.0  \n9            12.0          0.000013             128.0  1A 2A 3A 4A  0.0  \n10            0.0               0.0               0.0     No Match  1.0  \n11            0.0               0.0               0.0     No Match  1.0  \n12            0.0               0.0               0.0     No Match  1.0  \n13            0.0               0.0               0.0     No Match  1.0  \n14            0.0               0.0               0.0     No Match  1.0  \n15            0.0               0.0               0.0     No Match  1.0  \n\n[16 rows x 31 columns]",
      "text/html": "<div>\n<style scoped>\n    .dataframe tbody tr th:only-of-type {\n        vertical-align: middle;\n    }\n\n    .dataframe tbody tr th {\n        vertical-align: top;\n    }\n\n    .dataframe thead th {\n        text-align: right;\n    }\n</style>\n<table border=\"1\" class=\"dataframe\">\n  <thead>\n    <tr style=\"text-align: right;\">\n      <th></th>\n      <th>explicit</th>\n      <th>track_number</th>\n      <th>num_artists</th>\n      <th>num_available_markets</th>\n      <th>release_date</th>\n      <th>duration_ms</th>\n      <th>key</th>\n      <th>mode</th>\n      <th>time_signature</th>\n      <th>acousticness</th>\n      <th>...</th>\n      <th>artist2_num</th>\n      <th>betweenesscentrality_y</th>\n      <th>closnesscentrality_y</th>\n      <th>clustering_y</th>\n      <th>Cluster_y</th>\n      <th>eccentricity_y</th>\n      <th>eigencentrality_y</th>\n      <th>weighted degree_y</th>\n      <th>profile_y</th>\n      <th>hit</th>\n    </tr>\n  </thead>\n  <tbody>\n    <tr>\n      <th>0</th>\n      <td>False</td>\n      <td>8.0</td>\n      <td>1.0</td>\n      <td>76.0</td>\n      <td>1995-01-01</td>\n      <td>130067.0</td>\n      <td>4.0</td>\n      <td>1.0</td>\n      <td>4.0</td>\n      <td>0.514</td>\n      <td>...</td>\n      <td>0.0</td>\n      <td>0.0</td>\n      <td>0.0</td>\n      <td>0.0</td>\n      <td>-1.0</td>\n      <td>0.0</td>\n      <td>0.0</td>\n      <td>0.0</td>\n      <td>No Match</td>\n      <td>1.0</td>\n    </tr>\n    <tr>\n      <th>1</th>\n      <td>False</td>\n      <td>10.0</td>\n      <td>1.0</td>\n      <td>79.0</td>\n      <td>1995-01-01</td>\n      <td>309973.0</td>\n      <td>7.0</td>\n      <td>1.0</td>\n      <td>4.0</td>\n      <td>0.00391</td>\n      <td>...</td>\n      <td>0.0</td>\n      <td>0.0</td>\n      <td>0.0</td>\n      <td>0.0</td>\n      <td>-1.0</td>\n      <td>0.0</td>\n      <td>0.0</td>\n      <td>0.0</td>\n      <td>No Match</td>\n      <td>0.0</td>\n    </tr>\n    <tr>\n      <th>2</th>\n      <td>False</td>\n      <td>5.0</td>\n      <td>2.0</td>\n      <td>0.0</td>\n      <td>1995-01-01</td>\n      <td>552733.0</td>\n      <td>4.0</td>\n      <td>1.0</td>\n      <td>4.0</td>\n      <td>0.096</td>\n      <td>...</td>\n      <td>24396.0</td>\n      <td>0.000188</td>\n      <td>0.190583</td>\n      <td>0.0</td>\n      <td>0.0</td>\n      <td>11.0</td>\n      <td>0.000467</td>\n      <td>4.0</td>\n      <td>1A 2A 3A 4A</td>\n      <td>0.0</td>\n    </tr>\n    <tr>\n      <th>3</th>\n      <td>False</td>\n      <td>2.0</td>\n      <td>1.0</td>\n      <td>79.0</td>\n      <td>1995-01-01</td>\n      <td>176000.0</td>\n      <td>0.0</td>\n      <td>1.0</td>\n      <td>4.0</td>\n      <td>0.174</td>\n      <td>...</td>\n      <td>0.0</td>\n      <td>0.0</td>\n      <td>0.0</td>\n      <td>0.0</td>\n      <td>-1.0</td>\n      <td>0.0</td>\n      <td>0.0</td>\n      <td>0.0</td>\n      <td>No Match</td>\n      <td>0.0</td>\n    </tr>\n    <tr>\n      <th>4</th>\n      <td>False</td>\n      <td>6.0</td>\n      <td>1.0</td>\n      <td>79.0</td>\n      <td>1995-01-01</td>\n      <td>503973.0</td>\n      <td>5.0</td>\n      <td>0.0</td>\n      <td>4.0</td>\n      <td>0.00214</td>\n      <td>...</td>\n      <td>0.0</td>\n      <td>0.0</td>\n      <td>0.0</td>\n      <td>0.0</td>\n      <td>-1.0</td>\n      <td>0.0</td>\n      <td>0.0</td>\n      <td>0.0</td>\n      <td>No Match</td>\n      <td>0.0</td>\n    </tr>\n    <tr>\n      <th>5</th>\n      <td>False</td>\n      <td>34.0</td>\n      <td>1.0</td>\n      <td>78.0</td>\n      <td>1995-01-01</td>\n      <td>250067.0</td>\n      <td>0.0</td>\n      <td>1.0</td>\n      <td>4.0</td>\n      <td>0.0433</td>\n      <td>...</td>\n      <td>0.0</td>\n      <td>0.0</td>\n      <td>0.0</td>\n      <td>0.0</td>\n      <td>-1.0</td>\n      <td>0.0</td>\n      <td>0.0</td>\n      <td>0.0</td>\n      <td>No Match</td>\n      <td>0.0</td>\n    </tr>\n    <tr>\n      <th>6</th>\n      <td>False</td>\n      <td>19.0</td>\n      <td>1.0</td>\n      <td>59.0</td>\n      <td>1995-01-01</td>\n      <td>196173.0</td>\n      <td>9.0</td>\n      <td>1.0</td>\n      <td>4.0</td>\n      <td>0.384</td>\n      <td>...</td>\n      <td>0.0</td>\n      <td>0.0</td>\n      <td>0.0</td>\n      <td>0.0</td>\n      <td>-1.0</td>\n      <td>0.0</td>\n      <td>0.0</td>\n      <td>0.0</td>\n      <td>No Match</td>\n      <td>1.0</td>\n    </tr>\n    <tr>\n      <th>7</th>\n      <td>False</td>\n      <td>10.0</td>\n      <td>1.0</td>\n      <td>79.0</td>\n      <td>1995-01-01</td>\n      <td>290627.0</td>\n      <td>5.0</td>\n      <td>1.0</td>\n      <td>4.0</td>\n      <td>0.0245</td>\n      <td>...</td>\n      <td>0.0</td>\n      <td>0.0</td>\n      <td>0.0</td>\n      <td>0.0</td>\n      <td>-1.0</td>\n      <td>0.0</td>\n      <td>0.0</td>\n      <td>0.0</td>\n      <td>No Match</td>\n      <td>0.0</td>\n    </tr>\n    <tr>\n      <th>8</th>\n      <td>False</td>\n      <td>5.0</td>\n      <td>1.0</td>\n      <td>79.0</td>\n      <td>1995-01-01</td>\n      <td>137933.0</td>\n      <td>10.0</td>\n      <td>1.0</td>\n      <td>4.0</td>\n      <td>0.499</td>\n      <td>...</td>\n      <td>0.0</td>\n      <td>0.0</td>\n      <td>0.0</td>\n      <td>0.0</td>\n      <td>-1.0</td>\n      <td>0.0</td>\n      <td>0.0</td>\n      <td>0.0</td>\n      <td>No Match</td>\n      <td>0.0</td>\n    </tr>\n    <tr>\n      <th>9</th>\n      <td>False</td>\n      <td>6.0</td>\n      <td>2.0</td>\n      <td>79.0</td>\n      <td>1995-01-01</td>\n      <td>145293.0</td>\n      <td>8.0</td>\n      <td>1.0</td>\n      <td>4.0</td>\n      <td>0.656</td>\n      <td>...</td>\n      <td>394.0</td>\n      <td>0.000693</td>\n      <td>0.162914</td>\n      <td>0.066667</td>\n      <td>0.0</td>\n      <td>12.0</td>\n      <td>0.000013</td>\n      <td>128.0</td>\n      <td>1A 2A 3A 4A</td>\n      <td>0.0</td>\n    </tr>\n    <tr>\n      <th>10</th>\n      <td>False</td>\n      <td>19.0</td>\n      <td>1.0</td>\n      <td>59.0</td>\n      <td>1995-01-01</td>\n      <td>196173.0</td>\n      <td>9.0</td>\n      <td>1.0</td>\n      <td>4.0</td>\n      <td>0.384</td>\n      <td>...</td>\n      <td>0.0</td>\n      <td>0.0</td>\n      <td>0.0</td>\n      <td>0.0</td>\n      <td>-1.0</td>\n      <td>0.0</td>\n      <td>0.0</td>\n      <td>0.0</td>\n      <td>No Match</td>\n      <td>1.0</td>\n    </tr>\n    <tr>\n      <th>11</th>\n      <td>False</td>\n      <td>8.0</td>\n      <td>1.0</td>\n      <td>76.0</td>\n      <td>1995-01-01</td>\n      <td>130067.0</td>\n      <td>4.0</td>\n      <td>1.0</td>\n      <td>4.0</td>\n      <td>0.514</td>\n      <td>...</td>\n      <td>0.0</td>\n      <td>0.0</td>\n      <td>0.0</td>\n      <td>0.0</td>\n      <td>-1.0</td>\n      <td>0.0</td>\n      <td>0.0</td>\n      <td>0.0</td>\n      <td>No Match</td>\n      <td>1.0</td>\n    </tr>\n    <tr>\n      <th>12</th>\n      <td>False</td>\n      <td>8.0</td>\n      <td>1.0</td>\n      <td>76.0</td>\n      <td>1995-01-01</td>\n      <td>130067.0</td>\n      <td>4.0</td>\n      <td>1.0</td>\n      <td>4.0</td>\n      <td>0.514</td>\n      <td>...</td>\n      <td>0.0</td>\n      <td>0.0</td>\n      <td>0.0</td>\n      <td>0.0</td>\n      <td>-1.0</td>\n      <td>0.0</td>\n      <td>0.0</td>\n      <td>0.0</td>\n      <td>No Match</td>\n      <td>1.0</td>\n    </tr>\n    <tr>\n      <th>13</th>\n      <td>False</td>\n      <td>8.0</td>\n      <td>1.0</td>\n      <td>76.0</td>\n      <td>1995-01-01</td>\n      <td>130067.0</td>\n      <td>4.0</td>\n      <td>1.0</td>\n      <td>4.0</td>\n      <td>0.514</td>\n      <td>...</td>\n      <td>0.0</td>\n      <td>0.0</td>\n      <td>0.0</td>\n      <td>0.0</td>\n      <td>-1.0</td>\n      <td>0.0</td>\n      <td>0.0</td>\n      <td>0.0</td>\n      <td>No Match</td>\n      <td>1.0</td>\n    </tr>\n    <tr>\n      <th>14</th>\n      <td>False</td>\n      <td>8.0</td>\n      <td>1.0</td>\n      <td>76.0</td>\n      <td>1995-01-01</td>\n      <td>130067.0</td>\n      <td>4.0</td>\n      <td>1.0</td>\n      <td>4.0</td>\n      <td>0.514</td>\n      <td>...</td>\n      <td>0.0</td>\n      <td>0.0</td>\n      <td>0.0</td>\n      <td>0.0</td>\n      <td>-1.0</td>\n      <td>0.0</td>\n      <td>0.0</td>\n      <td>0.0</td>\n      <td>No Match</td>\n      <td>1.0</td>\n    </tr>\n    <tr>\n      <th>15</th>\n      <td>False</td>\n      <td>8.0</td>\n      <td>1.0</td>\n      <td>76.0</td>\n      <td>1995-01-01</td>\n      <td>130067.0</td>\n      <td>4.0</td>\n      <td>1.0</td>\n      <td>4.0</td>\n      <td>0.514</td>\n      <td>...</td>\n      <td>0.0</td>\n      <td>0.0</td>\n      <td>0.0</td>\n      <td>0.0</td>\n      <td>-1.0</td>\n      <td>0.0</td>\n      <td>0.0</td>\n      <td>0.0</td>\n      <td>No Match</td>\n      <td>1.0</td>\n    </tr>\n  </tbody>\n</table>\n<p>16 rows × 31 columns</p>\n</div>"
     },
     "execution_count": 27,
     "metadata": {},
     "output_type": "execute_result"
    }
   ],
   "source": [
    "X_train_upsampled_with_y"
   ],
   "metadata": {
    "collapsed": false,
    "ExecuteTime": {
     "end_time": "2024-06-28T10:29:26.908034600Z",
     "start_time": "2024-06-28T10:29:26.844031800Z"
    }
   },
   "id": "9fa85ad04cdcaed4"
  },
  {
   "cell_type": "code",
   "execution_count": 28,
   "outputs": [
    {
     "data": {
      "text/plain": "   explicit track_number num_artists num_available_markets release_date  \\\n0     False          6.0         2.0                  79.0   1995-01-01   \n1     False          5.0         1.0                  79.0   1995-01-01   \n2     False          5.0         2.0                   0.0   1995-01-01   \n3     False         10.0         1.0                  79.0   1995-01-01   \n4     False         10.0         1.0                  79.0   1995-01-01   \n5     False          8.0         1.0                  76.0   1995-01-01   \n6     False          8.0         1.0                  76.0   1995-01-01   \n7     False          2.0         1.0                  79.0   1995-01-01   \n8     False          8.0         1.0                  76.0   1995-01-01   \n9     False         19.0         1.0                  59.0   1995-01-01   \n10    False          6.0         1.0                  79.0   1995-01-01   \n11    False         34.0         1.0                  78.0   1995-01-01   \n12    False          8.0         1.0                  76.0   1995-01-01   \n13    False         19.0         1.0                  59.0   1995-01-01   \n14    False          8.0         1.0                  76.0   1995-01-01   \n15    False          8.0         1.0                  76.0   1995-01-01   \n\n   duration_ms   key mode time_signature acousticness  ... artist2_num  \\\n0     145293.0   8.0  1.0            4.0        0.656  ...       394.0   \n1     137933.0  10.0  1.0            4.0        0.499  ...         0.0   \n2     552733.0   4.0  1.0            4.0        0.096  ...     24396.0   \n3     290627.0   5.0  1.0            4.0       0.0245  ...         0.0   \n4     309973.0   7.0  1.0            4.0      0.00391  ...         0.0   \n5     130067.0   4.0  1.0            4.0        0.514  ...         0.0   \n6     130067.0   4.0  1.0            4.0        0.514  ...         0.0   \n7     176000.0   0.0  1.0            4.0        0.174  ...         0.0   \n8     130067.0   4.0  1.0            4.0        0.514  ...         0.0   \n9     196173.0   9.0  1.0            4.0        0.384  ...         0.0   \n10    503973.0   5.0  0.0            4.0      0.00214  ...         0.0   \n11    250067.0   0.0  1.0            4.0       0.0433  ...         0.0   \n12    130067.0   4.0  1.0            4.0        0.514  ...         0.0   \n13    196173.0   9.0  1.0            4.0        0.384  ...         0.0   \n14    130067.0   4.0  1.0            4.0        0.514  ...         0.0   \n15    130067.0   4.0  1.0            4.0        0.514  ...         0.0   \n\n   betweenesscentrality_y closnesscentrality_y clustering_y Cluster_y  \\\n0                0.000693             0.162914     0.066667       0.0   \n1                     0.0                  0.0          0.0      -1.0   \n2                0.000188             0.190583          0.0       0.0   \n3                     0.0                  0.0          0.0      -1.0   \n4                     0.0                  0.0          0.0      -1.0   \n5                     0.0                  0.0          0.0      -1.0   \n6                     0.0                  0.0          0.0      -1.0   \n7                     0.0                  0.0          0.0      -1.0   \n8                     0.0                  0.0          0.0      -1.0   \n9                     0.0                  0.0          0.0      -1.0   \n10                    0.0                  0.0          0.0      -1.0   \n11                    0.0                  0.0          0.0      -1.0   \n12                    0.0                  0.0          0.0      -1.0   \n13                    0.0                  0.0          0.0      -1.0   \n14                    0.0                  0.0          0.0      -1.0   \n15                    0.0                  0.0          0.0      -1.0   \n\n   eccentricity_y eigencentrality_y weighted degree_y    profile_y  hit  \n0            12.0          0.000013             128.0  1A 2A 3A 4A  0.0  \n1             0.0               0.0               0.0     No Match  0.0  \n2            11.0          0.000467               4.0  1A 2A 3A 4A  0.0  \n3             0.0               0.0               0.0     No Match  0.0  \n4             0.0               0.0               0.0     No Match  0.0  \n5             0.0               0.0               0.0     No Match  1.0  \n6             0.0               0.0               0.0     No Match  1.0  \n7             0.0               0.0               0.0     No Match  0.0  \n8             0.0               0.0               0.0     No Match  1.0  \n9             0.0               0.0               0.0     No Match  1.0  \n10            0.0               0.0               0.0     No Match  0.0  \n11            0.0               0.0               0.0     No Match  0.0  \n12            0.0               0.0               0.0     No Match  1.0  \n13            0.0               0.0               0.0     No Match  1.0  \n14            0.0               0.0               0.0     No Match  1.0  \n15            0.0               0.0               0.0     No Match  1.0  \n\n[16 rows x 31 columns]",
      "text/html": "<div>\n<style scoped>\n    .dataframe tbody tr th:only-of-type {\n        vertical-align: middle;\n    }\n\n    .dataframe tbody tr th {\n        vertical-align: top;\n    }\n\n    .dataframe thead th {\n        text-align: right;\n    }\n</style>\n<table border=\"1\" class=\"dataframe\">\n  <thead>\n    <tr style=\"text-align: right;\">\n      <th></th>\n      <th>explicit</th>\n      <th>track_number</th>\n      <th>num_artists</th>\n      <th>num_available_markets</th>\n      <th>release_date</th>\n      <th>duration_ms</th>\n      <th>key</th>\n      <th>mode</th>\n      <th>time_signature</th>\n      <th>acousticness</th>\n      <th>...</th>\n      <th>artist2_num</th>\n      <th>betweenesscentrality_y</th>\n      <th>closnesscentrality_y</th>\n      <th>clustering_y</th>\n      <th>Cluster_y</th>\n      <th>eccentricity_y</th>\n      <th>eigencentrality_y</th>\n      <th>weighted degree_y</th>\n      <th>profile_y</th>\n      <th>hit</th>\n    </tr>\n  </thead>\n  <tbody>\n    <tr>\n      <th>0</th>\n      <td>False</td>\n      <td>6.0</td>\n      <td>2.0</td>\n      <td>79.0</td>\n      <td>1995-01-01</td>\n      <td>145293.0</td>\n      <td>8.0</td>\n      <td>1.0</td>\n      <td>4.0</td>\n      <td>0.656</td>\n      <td>...</td>\n      <td>394.0</td>\n      <td>0.000693</td>\n      <td>0.162914</td>\n      <td>0.066667</td>\n      <td>0.0</td>\n      <td>12.0</td>\n      <td>0.000013</td>\n      <td>128.0</td>\n      <td>1A 2A 3A 4A</td>\n      <td>0.0</td>\n    </tr>\n    <tr>\n      <th>1</th>\n      <td>False</td>\n      <td>5.0</td>\n      <td>1.0</td>\n      <td>79.0</td>\n      <td>1995-01-01</td>\n      <td>137933.0</td>\n      <td>10.0</td>\n      <td>1.0</td>\n      <td>4.0</td>\n      <td>0.499</td>\n      <td>...</td>\n      <td>0.0</td>\n      <td>0.0</td>\n      <td>0.0</td>\n      <td>0.0</td>\n      <td>-1.0</td>\n      <td>0.0</td>\n      <td>0.0</td>\n      <td>0.0</td>\n      <td>No Match</td>\n      <td>0.0</td>\n    </tr>\n    <tr>\n      <th>2</th>\n      <td>False</td>\n      <td>5.0</td>\n      <td>2.0</td>\n      <td>0.0</td>\n      <td>1995-01-01</td>\n      <td>552733.0</td>\n      <td>4.0</td>\n      <td>1.0</td>\n      <td>4.0</td>\n      <td>0.096</td>\n      <td>...</td>\n      <td>24396.0</td>\n      <td>0.000188</td>\n      <td>0.190583</td>\n      <td>0.0</td>\n      <td>0.0</td>\n      <td>11.0</td>\n      <td>0.000467</td>\n      <td>4.0</td>\n      <td>1A 2A 3A 4A</td>\n      <td>0.0</td>\n    </tr>\n    <tr>\n      <th>3</th>\n      <td>False</td>\n      <td>10.0</td>\n      <td>1.0</td>\n      <td>79.0</td>\n      <td>1995-01-01</td>\n      <td>290627.0</td>\n      <td>5.0</td>\n      <td>1.0</td>\n      <td>4.0</td>\n      <td>0.0245</td>\n      <td>...</td>\n      <td>0.0</td>\n      <td>0.0</td>\n      <td>0.0</td>\n      <td>0.0</td>\n      <td>-1.0</td>\n      <td>0.0</td>\n      <td>0.0</td>\n      <td>0.0</td>\n      <td>No Match</td>\n      <td>0.0</td>\n    </tr>\n    <tr>\n      <th>4</th>\n      <td>False</td>\n      <td>10.0</td>\n      <td>1.0</td>\n      <td>79.0</td>\n      <td>1995-01-01</td>\n      <td>309973.0</td>\n      <td>7.0</td>\n      <td>1.0</td>\n      <td>4.0</td>\n      <td>0.00391</td>\n      <td>...</td>\n      <td>0.0</td>\n      <td>0.0</td>\n      <td>0.0</td>\n      <td>0.0</td>\n      <td>-1.0</td>\n      <td>0.0</td>\n      <td>0.0</td>\n      <td>0.0</td>\n      <td>No Match</td>\n      <td>0.0</td>\n    </tr>\n    <tr>\n      <th>5</th>\n      <td>False</td>\n      <td>8.0</td>\n      <td>1.0</td>\n      <td>76.0</td>\n      <td>1995-01-01</td>\n      <td>130067.0</td>\n      <td>4.0</td>\n      <td>1.0</td>\n      <td>4.0</td>\n      <td>0.514</td>\n      <td>...</td>\n      <td>0.0</td>\n      <td>0.0</td>\n      <td>0.0</td>\n      <td>0.0</td>\n      <td>-1.0</td>\n      <td>0.0</td>\n      <td>0.0</td>\n      <td>0.0</td>\n      <td>No Match</td>\n      <td>1.0</td>\n    </tr>\n    <tr>\n      <th>6</th>\n      <td>False</td>\n      <td>8.0</td>\n      <td>1.0</td>\n      <td>76.0</td>\n      <td>1995-01-01</td>\n      <td>130067.0</td>\n      <td>4.0</td>\n      <td>1.0</td>\n      <td>4.0</td>\n      <td>0.514</td>\n      <td>...</td>\n      <td>0.0</td>\n      <td>0.0</td>\n      <td>0.0</td>\n      <td>0.0</td>\n      <td>-1.0</td>\n      <td>0.0</td>\n      <td>0.0</td>\n      <td>0.0</td>\n      <td>No Match</td>\n      <td>1.0</td>\n    </tr>\n    <tr>\n      <th>7</th>\n      <td>False</td>\n      <td>2.0</td>\n      <td>1.0</td>\n      <td>79.0</td>\n      <td>1995-01-01</td>\n      <td>176000.0</td>\n      <td>0.0</td>\n      <td>1.0</td>\n      <td>4.0</td>\n      <td>0.174</td>\n      <td>...</td>\n      <td>0.0</td>\n      <td>0.0</td>\n      <td>0.0</td>\n      <td>0.0</td>\n      <td>-1.0</td>\n      <td>0.0</td>\n      <td>0.0</td>\n      <td>0.0</td>\n      <td>No Match</td>\n      <td>0.0</td>\n    </tr>\n    <tr>\n      <th>8</th>\n      <td>False</td>\n      <td>8.0</td>\n      <td>1.0</td>\n      <td>76.0</td>\n      <td>1995-01-01</td>\n      <td>130067.0</td>\n      <td>4.0</td>\n      <td>1.0</td>\n      <td>4.0</td>\n      <td>0.514</td>\n      <td>...</td>\n      <td>0.0</td>\n      <td>0.0</td>\n      <td>0.0</td>\n      <td>0.0</td>\n      <td>-1.0</td>\n      <td>0.0</td>\n      <td>0.0</td>\n      <td>0.0</td>\n      <td>No Match</td>\n      <td>1.0</td>\n    </tr>\n    <tr>\n      <th>9</th>\n      <td>False</td>\n      <td>19.0</td>\n      <td>1.0</td>\n      <td>59.0</td>\n      <td>1995-01-01</td>\n      <td>196173.0</td>\n      <td>9.0</td>\n      <td>1.0</td>\n      <td>4.0</td>\n      <td>0.384</td>\n      <td>...</td>\n      <td>0.0</td>\n      <td>0.0</td>\n      <td>0.0</td>\n      <td>0.0</td>\n      <td>-1.0</td>\n      <td>0.0</td>\n      <td>0.0</td>\n      <td>0.0</td>\n      <td>No Match</td>\n      <td>1.0</td>\n    </tr>\n    <tr>\n      <th>10</th>\n      <td>False</td>\n      <td>6.0</td>\n      <td>1.0</td>\n      <td>79.0</td>\n      <td>1995-01-01</td>\n      <td>503973.0</td>\n      <td>5.0</td>\n      <td>0.0</td>\n      <td>4.0</td>\n      <td>0.00214</td>\n      <td>...</td>\n      <td>0.0</td>\n      <td>0.0</td>\n      <td>0.0</td>\n      <td>0.0</td>\n      <td>-1.0</td>\n      <td>0.0</td>\n      <td>0.0</td>\n      <td>0.0</td>\n      <td>No Match</td>\n      <td>0.0</td>\n    </tr>\n    <tr>\n      <th>11</th>\n      <td>False</td>\n      <td>34.0</td>\n      <td>1.0</td>\n      <td>78.0</td>\n      <td>1995-01-01</td>\n      <td>250067.0</td>\n      <td>0.0</td>\n      <td>1.0</td>\n      <td>4.0</td>\n      <td>0.0433</td>\n      <td>...</td>\n      <td>0.0</td>\n      <td>0.0</td>\n      <td>0.0</td>\n      <td>0.0</td>\n      <td>-1.0</td>\n      <td>0.0</td>\n      <td>0.0</td>\n      <td>0.0</td>\n      <td>No Match</td>\n      <td>0.0</td>\n    </tr>\n    <tr>\n      <th>12</th>\n      <td>False</td>\n      <td>8.0</td>\n      <td>1.0</td>\n      <td>76.0</td>\n      <td>1995-01-01</td>\n      <td>130067.0</td>\n      <td>4.0</td>\n      <td>1.0</td>\n      <td>4.0</td>\n      <td>0.514</td>\n      <td>...</td>\n      <td>0.0</td>\n      <td>0.0</td>\n      <td>0.0</td>\n      <td>0.0</td>\n      <td>-1.0</td>\n      <td>0.0</td>\n      <td>0.0</td>\n      <td>0.0</td>\n      <td>No Match</td>\n      <td>1.0</td>\n    </tr>\n    <tr>\n      <th>13</th>\n      <td>False</td>\n      <td>19.0</td>\n      <td>1.0</td>\n      <td>59.0</td>\n      <td>1995-01-01</td>\n      <td>196173.0</td>\n      <td>9.0</td>\n      <td>1.0</td>\n      <td>4.0</td>\n      <td>0.384</td>\n      <td>...</td>\n      <td>0.0</td>\n      <td>0.0</td>\n      <td>0.0</td>\n      <td>0.0</td>\n      <td>-1.0</td>\n      <td>0.0</td>\n      <td>0.0</td>\n      <td>0.0</td>\n      <td>No Match</td>\n      <td>1.0</td>\n    </tr>\n    <tr>\n      <th>14</th>\n      <td>False</td>\n      <td>8.0</td>\n      <td>1.0</td>\n      <td>76.0</td>\n      <td>1995-01-01</td>\n      <td>130067.0</td>\n      <td>4.0</td>\n      <td>1.0</td>\n      <td>4.0</td>\n      <td>0.514</td>\n      <td>...</td>\n      <td>0.0</td>\n      <td>0.0</td>\n      <td>0.0</td>\n      <td>0.0</td>\n      <td>-1.0</td>\n      <td>0.0</td>\n      <td>0.0</td>\n      <td>0.0</td>\n      <td>No Match</td>\n      <td>1.0</td>\n    </tr>\n    <tr>\n      <th>15</th>\n      <td>False</td>\n      <td>8.0</td>\n      <td>1.0</td>\n      <td>76.0</td>\n      <td>1995-01-01</td>\n      <td>130067.0</td>\n      <td>4.0</td>\n      <td>1.0</td>\n      <td>4.0</td>\n      <td>0.514</td>\n      <td>...</td>\n      <td>0.0</td>\n      <td>0.0</td>\n      <td>0.0</td>\n      <td>0.0</td>\n      <td>-1.0</td>\n      <td>0.0</td>\n      <td>0.0</td>\n      <td>0.0</td>\n      <td>No Match</td>\n      <td>1.0</td>\n    </tr>\n  </tbody>\n</table>\n<p>16 rows × 31 columns</p>\n</div>"
     },
     "execution_count": 28,
     "metadata": {},
     "output_type": "execute_result"
    }
   ],
   "source": [
    "shuffled_df = X_train_upsampled_with_y.sample(frac=1, random_state=42).reset_index(drop=True)\n",
    "shuffled_df"
   ],
   "metadata": {
    "collapsed": false,
    "ExecuteTime": {
     "end_time": "2024-06-28T10:29:43.410080200Z",
     "start_time": "2024-06-28T10:29:42.907080200Z"
    }
   },
   "id": "4096640008a59bd7"
  },
  {
   "cell_type": "markdown",
   "source": [
    "to test if shuffeling leads to better results"
   ],
   "metadata": {
    "collapsed": false
   },
   "id": "2fbfc3049a4b5983"
  },
  {
   "cell_type": "code",
   "execution_count": 29,
   "outputs": [],
   "source": [
    "X_train_upsampled_with_y = shuffled_df\n",
    "X_train_upsampled_with_y.sort_values(by=\"date\", inplace=True)"
   ],
   "metadata": {
    "collapsed": false,
    "ExecuteTime": {
     "end_time": "2024-06-28T10:29:43.413081400Z",
     "start_time": "2024-06-28T10:29:42.933080400Z"
    }
   },
   "id": "9cbaabebaab4c41"
  },
  {
   "cell_type": "code",
   "execution_count": 30,
   "outputs": [
    {
     "data": {
      "text/plain": "   explicit track_number num_artists num_available_markets release_date  \\\n0     False          6.0         2.0                  79.0   1995-01-01   \n1     False          5.0         1.0                  79.0   1995-01-01   \n2     False          5.0         2.0                   0.0   1995-01-01   \n3     False         10.0         1.0                  79.0   1995-01-01   \n4     False         10.0         1.0                  79.0   1995-01-01   \n5     False          8.0         1.0                  76.0   1995-01-01   \n6     False          8.0         1.0                  76.0   1995-01-01   \n7     False          2.0         1.0                  79.0   1995-01-01   \n8     False          8.0         1.0                  76.0   1995-01-01   \n9     False         19.0         1.0                  59.0   1995-01-01   \n10    False          6.0         1.0                  79.0   1995-01-01   \n11    False         34.0         1.0                  78.0   1995-01-01   \n12    False          8.0         1.0                  76.0   1995-01-01   \n13    False         19.0         1.0                  59.0   1995-01-01   \n14    False          8.0         1.0                  76.0   1995-01-01   \n15    False          8.0         1.0                  76.0   1995-01-01   \n\n   duration_ms   key mode time_signature acousticness  ... artist2_num  \\\n0     145293.0   8.0  1.0            4.0        0.656  ...       394.0   \n1     137933.0  10.0  1.0            4.0        0.499  ...         0.0   \n2     552733.0   4.0  1.0            4.0        0.096  ...     24396.0   \n3     290627.0   5.0  1.0            4.0       0.0245  ...         0.0   \n4     309973.0   7.0  1.0            4.0      0.00391  ...         0.0   \n5     130067.0   4.0  1.0            4.0        0.514  ...         0.0   \n6     130067.0   4.0  1.0            4.0        0.514  ...         0.0   \n7     176000.0   0.0  1.0            4.0        0.174  ...         0.0   \n8     130067.0   4.0  1.0            4.0        0.514  ...         0.0   \n9     196173.0   9.0  1.0            4.0        0.384  ...         0.0   \n10    503973.0   5.0  0.0            4.0      0.00214  ...         0.0   \n11    250067.0   0.0  1.0            4.0       0.0433  ...         0.0   \n12    130067.0   4.0  1.0            4.0        0.514  ...         0.0   \n13    196173.0   9.0  1.0            4.0        0.384  ...         0.0   \n14    130067.0   4.0  1.0            4.0        0.514  ...         0.0   \n15    130067.0   4.0  1.0            4.0        0.514  ...         0.0   \n\n   betweenesscentrality_y closnesscentrality_y clustering_y Cluster_y  \\\n0                0.000693             0.162914     0.066667       0.0   \n1                     0.0                  0.0          0.0      -1.0   \n2                0.000188             0.190583          0.0       0.0   \n3                     0.0                  0.0          0.0      -1.0   \n4                     0.0                  0.0          0.0      -1.0   \n5                     0.0                  0.0          0.0      -1.0   \n6                     0.0                  0.0          0.0      -1.0   \n7                     0.0                  0.0          0.0      -1.0   \n8                     0.0                  0.0          0.0      -1.0   \n9                     0.0                  0.0          0.0      -1.0   \n10                    0.0                  0.0          0.0      -1.0   \n11                    0.0                  0.0          0.0      -1.0   \n12                    0.0                  0.0          0.0      -1.0   \n13                    0.0                  0.0          0.0      -1.0   \n14                    0.0                  0.0          0.0      -1.0   \n15                    0.0                  0.0          0.0      -1.0   \n\n   eccentricity_y eigencentrality_y weighted degree_y    profile_y  hit  \n0            12.0          0.000013             128.0  1A 2A 3A 4A  0.0  \n1             0.0               0.0               0.0     No Match  0.0  \n2            11.0          0.000467               4.0  1A 2A 3A 4A  0.0  \n3             0.0               0.0               0.0     No Match  0.0  \n4             0.0               0.0               0.0     No Match  0.0  \n5             0.0               0.0               0.0     No Match  1.0  \n6             0.0               0.0               0.0     No Match  1.0  \n7             0.0               0.0               0.0     No Match  0.0  \n8             0.0               0.0               0.0     No Match  1.0  \n9             0.0               0.0               0.0     No Match  1.0  \n10            0.0               0.0               0.0     No Match  0.0  \n11            0.0               0.0               0.0     No Match  0.0  \n12            0.0               0.0               0.0     No Match  1.0  \n13            0.0               0.0               0.0     No Match  1.0  \n14            0.0               0.0               0.0     No Match  1.0  \n15            0.0               0.0               0.0     No Match  1.0  \n\n[16 rows x 31 columns]",
      "text/html": "<div>\n<style scoped>\n    .dataframe tbody tr th:only-of-type {\n        vertical-align: middle;\n    }\n\n    .dataframe tbody tr th {\n        vertical-align: top;\n    }\n\n    .dataframe thead th {\n        text-align: right;\n    }\n</style>\n<table border=\"1\" class=\"dataframe\">\n  <thead>\n    <tr style=\"text-align: right;\">\n      <th></th>\n      <th>explicit</th>\n      <th>track_number</th>\n      <th>num_artists</th>\n      <th>num_available_markets</th>\n      <th>release_date</th>\n      <th>duration_ms</th>\n      <th>key</th>\n      <th>mode</th>\n      <th>time_signature</th>\n      <th>acousticness</th>\n      <th>...</th>\n      <th>artist2_num</th>\n      <th>betweenesscentrality_y</th>\n      <th>closnesscentrality_y</th>\n      <th>clustering_y</th>\n      <th>Cluster_y</th>\n      <th>eccentricity_y</th>\n      <th>eigencentrality_y</th>\n      <th>weighted degree_y</th>\n      <th>profile_y</th>\n      <th>hit</th>\n    </tr>\n  </thead>\n  <tbody>\n    <tr>\n      <th>0</th>\n      <td>False</td>\n      <td>6.0</td>\n      <td>2.0</td>\n      <td>79.0</td>\n      <td>1995-01-01</td>\n      <td>145293.0</td>\n      <td>8.0</td>\n      <td>1.0</td>\n      <td>4.0</td>\n      <td>0.656</td>\n      <td>...</td>\n      <td>394.0</td>\n      <td>0.000693</td>\n      <td>0.162914</td>\n      <td>0.066667</td>\n      <td>0.0</td>\n      <td>12.0</td>\n      <td>0.000013</td>\n      <td>128.0</td>\n      <td>1A 2A 3A 4A</td>\n      <td>0.0</td>\n    </tr>\n    <tr>\n      <th>1</th>\n      <td>False</td>\n      <td>5.0</td>\n      <td>1.0</td>\n      <td>79.0</td>\n      <td>1995-01-01</td>\n      <td>137933.0</td>\n      <td>10.0</td>\n      <td>1.0</td>\n      <td>4.0</td>\n      <td>0.499</td>\n      <td>...</td>\n      <td>0.0</td>\n      <td>0.0</td>\n      <td>0.0</td>\n      <td>0.0</td>\n      <td>-1.0</td>\n      <td>0.0</td>\n      <td>0.0</td>\n      <td>0.0</td>\n      <td>No Match</td>\n      <td>0.0</td>\n    </tr>\n    <tr>\n      <th>2</th>\n      <td>False</td>\n      <td>5.0</td>\n      <td>2.0</td>\n      <td>0.0</td>\n      <td>1995-01-01</td>\n      <td>552733.0</td>\n      <td>4.0</td>\n      <td>1.0</td>\n      <td>4.0</td>\n      <td>0.096</td>\n      <td>...</td>\n      <td>24396.0</td>\n      <td>0.000188</td>\n      <td>0.190583</td>\n      <td>0.0</td>\n      <td>0.0</td>\n      <td>11.0</td>\n      <td>0.000467</td>\n      <td>4.0</td>\n      <td>1A 2A 3A 4A</td>\n      <td>0.0</td>\n    </tr>\n    <tr>\n      <th>3</th>\n      <td>False</td>\n      <td>10.0</td>\n      <td>1.0</td>\n      <td>79.0</td>\n      <td>1995-01-01</td>\n      <td>290627.0</td>\n      <td>5.0</td>\n      <td>1.0</td>\n      <td>4.0</td>\n      <td>0.0245</td>\n      <td>...</td>\n      <td>0.0</td>\n      <td>0.0</td>\n      <td>0.0</td>\n      <td>0.0</td>\n      <td>-1.0</td>\n      <td>0.0</td>\n      <td>0.0</td>\n      <td>0.0</td>\n      <td>No Match</td>\n      <td>0.0</td>\n    </tr>\n    <tr>\n      <th>4</th>\n      <td>False</td>\n      <td>10.0</td>\n      <td>1.0</td>\n      <td>79.0</td>\n      <td>1995-01-01</td>\n      <td>309973.0</td>\n      <td>7.0</td>\n      <td>1.0</td>\n      <td>4.0</td>\n      <td>0.00391</td>\n      <td>...</td>\n      <td>0.0</td>\n      <td>0.0</td>\n      <td>0.0</td>\n      <td>0.0</td>\n      <td>-1.0</td>\n      <td>0.0</td>\n      <td>0.0</td>\n      <td>0.0</td>\n      <td>No Match</td>\n      <td>0.0</td>\n    </tr>\n    <tr>\n      <th>5</th>\n      <td>False</td>\n      <td>8.0</td>\n      <td>1.0</td>\n      <td>76.0</td>\n      <td>1995-01-01</td>\n      <td>130067.0</td>\n      <td>4.0</td>\n      <td>1.0</td>\n      <td>4.0</td>\n      <td>0.514</td>\n      <td>...</td>\n      <td>0.0</td>\n      <td>0.0</td>\n      <td>0.0</td>\n      <td>0.0</td>\n      <td>-1.0</td>\n      <td>0.0</td>\n      <td>0.0</td>\n      <td>0.0</td>\n      <td>No Match</td>\n      <td>1.0</td>\n    </tr>\n    <tr>\n      <th>6</th>\n      <td>False</td>\n      <td>8.0</td>\n      <td>1.0</td>\n      <td>76.0</td>\n      <td>1995-01-01</td>\n      <td>130067.0</td>\n      <td>4.0</td>\n      <td>1.0</td>\n      <td>4.0</td>\n      <td>0.514</td>\n      <td>...</td>\n      <td>0.0</td>\n      <td>0.0</td>\n      <td>0.0</td>\n      <td>0.0</td>\n      <td>-1.0</td>\n      <td>0.0</td>\n      <td>0.0</td>\n      <td>0.0</td>\n      <td>No Match</td>\n      <td>1.0</td>\n    </tr>\n    <tr>\n      <th>7</th>\n      <td>False</td>\n      <td>2.0</td>\n      <td>1.0</td>\n      <td>79.0</td>\n      <td>1995-01-01</td>\n      <td>176000.0</td>\n      <td>0.0</td>\n      <td>1.0</td>\n      <td>4.0</td>\n      <td>0.174</td>\n      <td>...</td>\n      <td>0.0</td>\n      <td>0.0</td>\n      <td>0.0</td>\n      <td>0.0</td>\n      <td>-1.0</td>\n      <td>0.0</td>\n      <td>0.0</td>\n      <td>0.0</td>\n      <td>No Match</td>\n      <td>0.0</td>\n    </tr>\n    <tr>\n      <th>8</th>\n      <td>False</td>\n      <td>8.0</td>\n      <td>1.0</td>\n      <td>76.0</td>\n      <td>1995-01-01</td>\n      <td>130067.0</td>\n      <td>4.0</td>\n      <td>1.0</td>\n      <td>4.0</td>\n      <td>0.514</td>\n      <td>...</td>\n      <td>0.0</td>\n      <td>0.0</td>\n      <td>0.0</td>\n      <td>0.0</td>\n      <td>-1.0</td>\n      <td>0.0</td>\n      <td>0.0</td>\n      <td>0.0</td>\n      <td>No Match</td>\n      <td>1.0</td>\n    </tr>\n    <tr>\n      <th>9</th>\n      <td>False</td>\n      <td>19.0</td>\n      <td>1.0</td>\n      <td>59.0</td>\n      <td>1995-01-01</td>\n      <td>196173.0</td>\n      <td>9.0</td>\n      <td>1.0</td>\n      <td>4.0</td>\n      <td>0.384</td>\n      <td>...</td>\n      <td>0.0</td>\n      <td>0.0</td>\n      <td>0.0</td>\n      <td>0.0</td>\n      <td>-1.0</td>\n      <td>0.0</td>\n      <td>0.0</td>\n      <td>0.0</td>\n      <td>No Match</td>\n      <td>1.0</td>\n    </tr>\n    <tr>\n      <th>10</th>\n      <td>False</td>\n      <td>6.0</td>\n      <td>1.0</td>\n      <td>79.0</td>\n      <td>1995-01-01</td>\n      <td>503973.0</td>\n      <td>5.0</td>\n      <td>0.0</td>\n      <td>4.0</td>\n      <td>0.00214</td>\n      <td>...</td>\n      <td>0.0</td>\n      <td>0.0</td>\n      <td>0.0</td>\n      <td>0.0</td>\n      <td>-1.0</td>\n      <td>0.0</td>\n      <td>0.0</td>\n      <td>0.0</td>\n      <td>No Match</td>\n      <td>0.0</td>\n    </tr>\n    <tr>\n      <th>11</th>\n      <td>False</td>\n      <td>34.0</td>\n      <td>1.0</td>\n      <td>78.0</td>\n      <td>1995-01-01</td>\n      <td>250067.0</td>\n      <td>0.0</td>\n      <td>1.0</td>\n      <td>4.0</td>\n      <td>0.0433</td>\n      <td>...</td>\n      <td>0.0</td>\n      <td>0.0</td>\n      <td>0.0</td>\n      <td>0.0</td>\n      <td>-1.0</td>\n      <td>0.0</td>\n      <td>0.0</td>\n      <td>0.0</td>\n      <td>No Match</td>\n      <td>0.0</td>\n    </tr>\n    <tr>\n      <th>12</th>\n      <td>False</td>\n      <td>8.0</td>\n      <td>1.0</td>\n      <td>76.0</td>\n      <td>1995-01-01</td>\n      <td>130067.0</td>\n      <td>4.0</td>\n      <td>1.0</td>\n      <td>4.0</td>\n      <td>0.514</td>\n      <td>...</td>\n      <td>0.0</td>\n      <td>0.0</td>\n      <td>0.0</td>\n      <td>0.0</td>\n      <td>-1.0</td>\n      <td>0.0</td>\n      <td>0.0</td>\n      <td>0.0</td>\n      <td>No Match</td>\n      <td>1.0</td>\n    </tr>\n    <tr>\n      <th>13</th>\n      <td>False</td>\n      <td>19.0</td>\n      <td>1.0</td>\n      <td>59.0</td>\n      <td>1995-01-01</td>\n      <td>196173.0</td>\n      <td>9.0</td>\n      <td>1.0</td>\n      <td>4.0</td>\n      <td>0.384</td>\n      <td>...</td>\n      <td>0.0</td>\n      <td>0.0</td>\n      <td>0.0</td>\n      <td>0.0</td>\n      <td>-1.0</td>\n      <td>0.0</td>\n      <td>0.0</td>\n      <td>0.0</td>\n      <td>No Match</td>\n      <td>1.0</td>\n    </tr>\n    <tr>\n      <th>14</th>\n      <td>False</td>\n      <td>8.0</td>\n      <td>1.0</td>\n      <td>76.0</td>\n      <td>1995-01-01</td>\n      <td>130067.0</td>\n      <td>4.0</td>\n      <td>1.0</td>\n      <td>4.0</td>\n      <td>0.514</td>\n      <td>...</td>\n      <td>0.0</td>\n      <td>0.0</td>\n      <td>0.0</td>\n      <td>0.0</td>\n      <td>-1.0</td>\n      <td>0.0</td>\n      <td>0.0</td>\n      <td>0.0</td>\n      <td>No Match</td>\n      <td>1.0</td>\n    </tr>\n    <tr>\n      <th>15</th>\n      <td>False</td>\n      <td>8.0</td>\n      <td>1.0</td>\n      <td>76.0</td>\n      <td>1995-01-01</td>\n      <td>130067.0</td>\n      <td>4.0</td>\n      <td>1.0</td>\n      <td>4.0</td>\n      <td>0.514</td>\n      <td>...</td>\n      <td>0.0</td>\n      <td>0.0</td>\n      <td>0.0</td>\n      <td>0.0</td>\n      <td>-1.0</td>\n      <td>0.0</td>\n      <td>0.0</td>\n      <td>0.0</td>\n      <td>No Match</td>\n      <td>1.0</td>\n    </tr>\n  </tbody>\n</table>\n<p>16 rows × 31 columns</p>\n</div>"
     },
     "execution_count": 30,
     "metadata": {},
     "output_type": "execute_result"
    }
   ],
   "source": [
    "X_train_upsampled_with_y"
   ],
   "metadata": {
    "collapsed": false,
    "ExecuteTime": {
     "end_time": "2024-06-28T10:29:43.520080100Z",
     "start_time": "2024-06-28T10:29:42.938079300Z"
    }
   },
   "id": "7ceebf5ec3888c2c"
  },
  {
   "cell_type": "code",
   "execution_count": 32,
   "outputs": [],
   "source": [
    "X_train_upsampled_with_y.drop(columns=[\"release_date\", \"date\"], inplace=True)\n",
    "\n",
    "# print(X_train_upsampled_with_y.head())\n",
    "# prepro:\n",
    "y_train_upsampled_ordered = X_train_upsampled_with_y[\"hit\"]\n",
    "X_train_upsampled_ordered = X_train_upsampled_with_y.drop(columns=\"hit\")"
   ],
   "metadata": {
    "collapsed": false,
    "ExecuteTime": {
     "end_time": "2024-06-28T10:30:42.067447600Z",
     "start_time": "2024-06-28T10:30:42.033449200Z"
    }
   },
   "id": "7c9b9341dd11e216"
  },
  {
   "cell_type": "code",
   "execution_count": 33,
   "outputs": [
    {
     "name": "stdout",
     "output_type": "stream",
     "text": [
      "Index(['explicit', 'track_number', 'num_artists', 'num_available_markets',\n",
      "       'duration_ms', 'key', 'mode', 'time_signature', 'acousticness',\n",
      "       'danceability', 'energy', 'instrumentalness', 'liveness', 'loudness',\n",
      "       'speechiness', 'valence', 'tempo', 'years_on_charts', 'artist1_num',\n",
      "       'artist2_num', 'betweenesscentrality_y', 'closnesscentrality_y',\n",
      "       'clustering_y', 'Cluster_y', 'eccentricity_y', 'eigencentrality_y',\n",
      "       'weighted degree_y', 'profile_y'],\n",
      "      dtype='object')\n",
      "######PREPROCESSING DONE######\n"
     ]
    }
   ],
   "source": [
    "# Define data types for each column\n",
    "dtype_dict = {\n",
    "    'explicit': bool,\n",
    "    'track_number': float,\n",
    "    'num_artists': float,\n",
    "    'num_available_markets': float,\n",
    "    'duration_ms': float,\n",
    "    'key': float,\n",
    "    'mode': float,\n",
    "    'time_signature': float,\n",
    "    'acousticness': float,\n",
    "    'danceability': float,\n",
    "    'energy': float,\n",
    "    'instrumentalness': float,\n",
    "    'liveness': float,\n",
    "    'loudness': float,\n",
    "    'speechiness': float,\n",
    "    'valence': float,\n",
    "    'tempo': float,\n",
    "    'years_on_charts': float,\n",
    "    \"artist1_num\": float,\n",
    "    \"artist2_num\": float,\n",
    "    'betweenesscentrality_y': float,\n",
    "    'closnesscentrality_y': float,\n",
    "    'clustering_y': float,\n",
    "    'Cluster_y': str,\n",
    "    'eccentricity_y': float,\n",
    "    'eigencentrality_y': float,\n",
    "    'weighted degree_y': float,\n",
    "    'profile_y': str,\n",
    "}\n",
    "\n",
    "\n",
    "# Use astype method to cast columns to the specified data types\n",
    "X_train_upsampled_ordered = X_train_upsampled_ordered.astype(dtype_dict)\n",
    "X_test.drop(columns=[\"release_date\", \"date\"], inplace=True)\n",
    "X_test = X_test.astype(dtype_dict)\n",
    "\n",
    "y_train_upsampled_ordered_reshaped = y_train_upsampled_ordered.values.reshape(-1, 1)\n",
    "y_test_reshaped = y_test.values.reshape(-1, 1)\n",
    "\n",
    "sep_index = X_train_upsampled_ordered.shape[0]\n",
    "concatenated_df = pd.concat([X_train_upsampled_ordered, X_test])\n",
    "print(concatenated_df.columns)\n",
    "data_prepro = preprocess(concatenated_df, min_max_val)\n",
    "X_train_upsampled_prepro = data_prepro[:sep_index]\n",
    "X_test_prepro = data_prepro[sep_index:]\n",
    "\n",
    "print(\"######PREPROCESSING DONE######\")"
   ],
   "metadata": {
    "collapsed": false,
    "ExecuteTime": {
     "end_time": "2024-06-28T10:31:21.084401800Z",
     "start_time": "2024-06-28T10:31:20.578193800Z"
    }
   },
   "id": "5d1d56eaca895ff2"
  },
  {
   "cell_type": "code",
   "execution_count": 35,
   "outputs": [
    {
     "data": {
      "text/plain": "(16, 1)"
     },
     "execution_count": 35,
     "metadata": {},
     "output_type": "execute_result"
    }
   ],
   "source": [
    "y_train_upsampled_ordered_reshaped.shape"
   ],
   "metadata": {
    "collapsed": false,
    "ExecuteTime": {
     "end_time": "2024-06-28T10:32:20.342909100Z",
     "start_time": "2024-06-28T10:32:20.304660800Z"
    }
   },
   "id": "9949fbbe8beecd66"
  },
  {
   "cell_type": "code",
   "execution_count": 36,
   "outputs": [
    {
     "data": {
      "text/plain": "(16, 38)"
     },
     "execution_count": 36,
     "metadata": {},
     "output_type": "execute_result"
    }
   ],
   "source": [
    "X_train_upsampled_prepro.shape"
   ],
   "metadata": {
    "collapsed": false,
    "ExecuteTime": {
     "end_time": "2024-06-28T10:32:35.774523300Z",
     "start_time": "2024-06-28T10:32:35.737527100Z"
    }
   },
   "id": "72ed36f0da9172de"
  },
  {
   "cell_type": "markdown",
   "source": [
    "seems ok, only question: does shuffeling improve the training results?"
   ],
   "metadata": {
    "collapsed": false
   },
   "id": "5de33c08ce4373ee"
  }
 ],
 "metadata": {
  "kernelspec": {
   "display_name": "Python 3",
   "language": "python",
   "name": "python3"
  },
  "language_info": {
   "codemirror_mode": {
    "name": "ipython",
    "version": 2
   },
   "file_extension": ".py",
   "mimetype": "text/x-python",
   "name": "python",
   "nbconvert_exporter": "python",
   "pygments_lexer": "ipython2",
   "version": "2.7.6"
  }
 },
 "nbformat": 4,
 "nbformat_minor": 5
}
