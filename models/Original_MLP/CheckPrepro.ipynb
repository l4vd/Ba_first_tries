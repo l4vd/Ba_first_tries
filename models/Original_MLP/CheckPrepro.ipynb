{
 "cells": [
  {
   "cell_type": "code",
   "execution_count": 1,
   "id": "initial_id",
   "metadata": {
    "collapsed": true,
    "ExecuteTime": {
     "end_time": "2024-06-28T09:14:12.799383400Z",
     "start_time": "2024-06-28T09:14:03.259543900Z"
    }
   },
   "outputs": [
    {
     "data": {
      "text/plain": "                       song_id  \\\n0       7kXUEJmfvRXbzxOC0pHQgb   \n3659    1qWiKzVrG0GQd1qbgKCsSF   \n3658    1oNYa5jcL10TbXQSPRgbsk   \n3657    7A131DrpfbWAfNJLrxikwf   \n3656    4SRjOJm5AjO3fxXpZSTEBb   \n...                        ...   \n911001  1EeuFwQ7RhTNlPg69LGUxM   \n911000  2O9CikWfjkYAgGCBws5Pl4   \n911025  2CZ46u5NGXQFXke3PMCuAK   \n911012  6zhg8TnVKi90ITDzFKwPr0   \n911026  6Fh2QgjCxL96dA3Gtpfr4Q   \n\n                                                song_name  song_popularity  \\\n0                          I Can't Believe I'm Losing You              5.0   \n3659                    I've Grown Accustomed To Her Face             14.0   \n3658                                      Come Back To Me             16.0   \n3657                                    Top Of The Stairs             26.0   \n3656                                Never Crossed My Mind             20.0   \n...                                                   ...              ...   \n911001                         All the Kids on the Street              5.0   \n911000                           Baby I'll Give It to You              1.0   \n911025                   Today I Started Loving You Again              3.0   \n911012                      Swingtown - Alternate Version             26.0   \n911026  One Sweet Day (16-Bit Mariah Carey & Boyz II M...              0.0   \n\n        explicit song_type  track_number  num_artists  num_available_markets  \\\n0          False      Solo          12.0          1.0                   79.0   \n3659       False      Solo           2.0          1.0                   79.0   \n3658       False      Solo           5.0          1.0                    2.0   \n3657       False      Solo           4.0          1.0                    2.0   \n3656       False      Solo           3.0          1.0                    2.0   \n...          ...       ...           ...          ...                    ...   \n911001     False      Solo           6.0          1.0                   79.0   \n911000     False      Solo          25.0          1.0                   76.0   \n911025     False      Solo          15.0          1.0                   78.0   \n911012     False      Solo           5.0          1.0                   79.0   \n911026     False      Solo          27.0          1.0                   79.0   \n\n       release_date  duration_ms  ...  superstar_v4_y  superstar_v5_x  \\\n0        1995-01-01     162667.0  ...             1.0             1.0   \n3659     1995-01-01     349120.0  ...             1.0             1.0   \n3658     1995-01-01     206093.0  ...             1.0             1.0   \n3657     1995-01-01     271307.0  ...             1.0             1.0   \n3656     1995-01-01     242027.0  ...             1.0             1.0   \n...             ...          ...  ...             ...             ...   \n911001   2019-08-23     192401.0  ...             1.0             1.0   \n911000   2019-08-23     194907.0  ...             1.0             1.0   \n911025   2019-08-23     172147.0  ...             1.0             1.0   \n911012   2019-08-23     205707.0  ...             1.0             1.0   \n911026   2019-08-26     260910.0  ...             1.0             1.0   \n\n        superstar_v5_y  success_rate_x  success_rate_y  hits_in_past_x  \\\n0                  1.0             0.0             0.0               0   \n3659               1.0             0.0             0.0               0   \n3658               1.0             0.0             0.0               0   \n3657               1.0             0.0             0.0               0   \n3656               1.0             0.0             0.0               0   \n...                ...             ...             ...             ...   \n911001             1.0             0.0             0.0               0   \n911000             1.0             0.0             0.0               0   \n911025             1.0             0.0             0.0               0   \n911012             1.0             0.0             0.0               0   \n911026             1.0             0.0             0.0               0   \n\n        hits_in_past_y  superstar_x  superstar_y       date  \n0                    0            0            0 1995-01-01  \n3659                 0            0            0 1995-01-01  \n3658                 0            0            0 1995-01-01  \n3657                 0            0            0 1995-01-01  \n3656                 0            0            0 1995-01-01  \n...                ...          ...          ...        ...  \n911001               0            0            0 2019-08-23  \n911000               0            0            0 2019-08-23  \n911025               0            0            0 2019-08-23  \n911012               0            0            0 2019-08-23  \n911026               0            0            0 2019-08-26  \n\n[911027 rows x 67 columns]",
      "text/html": "<div>\n<style scoped>\n    .dataframe tbody tr th:only-of-type {\n        vertical-align: middle;\n    }\n\n    .dataframe tbody tr th {\n        vertical-align: top;\n    }\n\n    .dataframe thead th {\n        text-align: right;\n    }\n</style>\n<table border=\"1\" class=\"dataframe\">\n  <thead>\n    <tr style=\"text-align: right;\">\n      <th></th>\n      <th>song_id</th>\n      <th>song_name</th>\n      <th>song_popularity</th>\n      <th>explicit</th>\n      <th>song_type</th>\n      <th>track_number</th>\n      <th>num_artists</th>\n      <th>num_available_markets</th>\n      <th>release_date</th>\n      <th>duration_ms</th>\n      <th>...</th>\n      <th>superstar_v4_y</th>\n      <th>superstar_v5_x</th>\n      <th>superstar_v5_y</th>\n      <th>success_rate_x</th>\n      <th>success_rate_y</th>\n      <th>hits_in_past_x</th>\n      <th>hits_in_past_y</th>\n      <th>superstar_x</th>\n      <th>superstar_y</th>\n      <th>date</th>\n    </tr>\n  </thead>\n  <tbody>\n    <tr>\n      <th>0</th>\n      <td>7kXUEJmfvRXbzxOC0pHQgb</td>\n      <td>I Can't Believe I'm Losing You</td>\n      <td>5.0</td>\n      <td>False</td>\n      <td>Solo</td>\n      <td>12.0</td>\n      <td>1.0</td>\n      <td>79.0</td>\n      <td>1995-01-01</td>\n      <td>162667.0</td>\n      <td>...</td>\n      <td>1.0</td>\n      <td>1.0</td>\n      <td>1.0</td>\n      <td>0.0</td>\n      <td>0.0</td>\n      <td>0</td>\n      <td>0</td>\n      <td>0</td>\n      <td>0</td>\n      <td>1995-01-01</td>\n    </tr>\n    <tr>\n      <th>3659</th>\n      <td>1qWiKzVrG0GQd1qbgKCsSF</td>\n      <td>I've Grown Accustomed To Her Face</td>\n      <td>14.0</td>\n      <td>False</td>\n      <td>Solo</td>\n      <td>2.0</td>\n      <td>1.0</td>\n      <td>79.0</td>\n      <td>1995-01-01</td>\n      <td>349120.0</td>\n      <td>...</td>\n      <td>1.0</td>\n      <td>1.0</td>\n      <td>1.0</td>\n      <td>0.0</td>\n      <td>0.0</td>\n      <td>0</td>\n      <td>0</td>\n      <td>0</td>\n      <td>0</td>\n      <td>1995-01-01</td>\n    </tr>\n    <tr>\n      <th>3658</th>\n      <td>1oNYa5jcL10TbXQSPRgbsk</td>\n      <td>Come Back To Me</td>\n      <td>16.0</td>\n      <td>False</td>\n      <td>Solo</td>\n      <td>5.0</td>\n      <td>1.0</td>\n      <td>2.0</td>\n      <td>1995-01-01</td>\n      <td>206093.0</td>\n      <td>...</td>\n      <td>1.0</td>\n      <td>1.0</td>\n      <td>1.0</td>\n      <td>0.0</td>\n      <td>0.0</td>\n      <td>0</td>\n      <td>0</td>\n      <td>0</td>\n      <td>0</td>\n      <td>1995-01-01</td>\n    </tr>\n    <tr>\n      <th>3657</th>\n      <td>7A131DrpfbWAfNJLrxikwf</td>\n      <td>Top Of The Stairs</td>\n      <td>26.0</td>\n      <td>False</td>\n      <td>Solo</td>\n      <td>4.0</td>\n      <td>1.0</td>\n      <td>2.0</td>\n      <td>1995-01-01</td>\n      <td>271307.0</td>\n      <td>...</td>\n      <td>1.0</td>\n      <td>1.0</td>\n      <td>1.0</td>\n      <td>0.0</td>\n      <td>0.0</td>\n      <td>0</td>\n      <td>0</td>\n      <td>0</td>\n      <td>0</td>\n      <td>1995-01-01</td>\n    </tr>\n    <tr>\n      <th>3656</th>\n      <td>4SRjOJm5AjO3fxXpZSTEBb</td>\n      <td>Never Crossed My Mind</td>\n      <td>20.0</td>\n      <td>False</td>\n      <td>Solo</td>\n      <td>3.0</td>\n      <td>1.0</td>\n      <td>2.0</td>\n      <td>1995-01-01</td>\n      <td>242027.0</td>\n      <td>...</td>\n      <td>1.0</td>\n      <td>1.0</td>\n      <td>1.0</td>\n      <td>0.0</td>\n      <td>0.0</td>\n      <td>0</td>\n      <td>0</td>\n      <td>0</td>\n      <td>0</td>\n      <td>1995-01-01</td>\n    </tr>\n    <tr>\n      <th>...</th>\n      <td>...</td>\n      <td>...</td>\n      <td>...</td>\n      <td>...</td>\n      <td>...</td>\n      <td>...</td>\n      <td>...</td>\n      <td>...</td>\n      <td>...</td>\n      <td>...</td>\n      <td>...</td>\n      <td>...</td>\n      <td>...</td>\n      <td>...</td>\n      <td>...</td>\n      <td>...</td>\n      <td>...</td>\n      <td>...</td>\n      <td>...</td>\n      <td>...</td>\n      <td>...</td>\n    </tr>\n    <tr>\n      <th>911001</th>\n      <td>1EeuFwQ7RhTNlPg69LGUxM</td>\n      <td>All the Kids on the Street</td>\n      <td>5.0</td>\n      <td>False</td>\n      <td>Solo</td>\n      <td>6.0</td>\n      <td>1.0</td>\n      <td>79.0</td>\n      <td>2019-08-23</td>\n      <td>192401.0</td>\n      <td>...</td>\n      <td>1.0</td>\n      <td>1.0</td>\n      <td>1.0</td>\n      <td>0.0</td>\n      <td>0.0</td>\n      <td>0</td>\n      <td>0</td>\n      <td>0</td>\n      <td>0</td>\n      <td>2019-08-23</td>\n    </tr>\n    <tr>\n      <th>911000</th>\n      <td>2O9CikWfjkYAgGCBws5Pl4</td>\n      <td>Baby I'll Give It to You</td>\n      <td>1.0</td>\n      <td>False</td>\n      <td>Solo</td>\n      <td>25.0</td>\n      <td>1.0</td>\n      <td>76.0</td>\n      <td>2019-08-23</td>\n      <td>194907.0</td>\n      <td>...</td>\n      <td>1.0</td>\n      <td>1.0</td>\n      <td>1.0</td>\n      <td>0.0</td>\n      <td>0.0</td>\n      <td>0</td>\n      <td>0</td>\n      <td>0</td>\n      <td>0</td>\n      <td>2019-08-23</td>\n    </tr>\n    <tr>\n      <th>911025</th>\n      <td>2CZ46u5NGXQFXke3PMCuAK</td>\n      <td>Today I Started Loving You Again</td>\n      <td>3.0</td>\n      <td>False</td>\n      <td>Solo</td>\n      <td>15.0</td>\n      <td>1.0</td>\n      <td>78.0</td>\n      <td>2019-08-23</td>\n      <td>172147.0</td>\n      <td>...</td>\n      <td>1.0</td>\n      <td>1.0</td>\n      <td>1.0</td>\n      <td>0.0</td>\n      <td>0.0</td>\n      <td>0</td>\n      <td>0</td>\n      <td>0</td>\n      <td>0</td>\n      <td>2019-08-23</td>\n    </tr>\n    <tr>\n      <th>911012</th>\n      <td>6zhg8TnVKi90ITDzFKwPr0</td>\n      <td>Swingtown - Alternate Version</td>\n      <td>26.0</td>\n      <td>False</td>\n      <td>Solo</td>\n      <td>5.0</td>\n      <td>1.0</td>\n      <td>79.0</td>\n      <td>2019-08-23</td>\n      <td>205707.0</td>\n      <td>...</td>\n      <td>1.0</td>\n      <td>1.0</td>\n      <td>1.0</td>\n      <td>0.0</td>\n      <td>0.0</td>\n      <td>0</td>\n      <td>0</td>\n      <td>0</td>\n      <td>0</td>\n      <td>2019-08-23</td>\n    </tr>\n    <tr>\n      <th>911026</th>\n      <td>6Fh2QgjCxL96dA3Gtpfr4Q</td>\n      <td>One Sweet Day (16-Bit Mariah Carey &amp; Boyz II M...</td>\n      <td>0.0</td>\n      <td>False</td>\n      <td>Solo</td>\n      <td>27.0</td>\n      <td>1.0</td>\n      <td>79.0</td>\n      <td>2019-08-26</td>\n      <td>260910.0</td>\n      <td>...</td>\n      <td>1.0</td>\n      <td>1.0</td>\n      <td>1.0</td>\n      <td>0.0</td>\n      <td>0.0</td>\n      <td>0</td>\n      <td>0</td>\n      <td>0</td>\n      <td>0</td>\n      <td>2019-08-26</td>\n    </tr>\n  </tbody>\n</table>\n<p>911027 rows × 67 columns</p>\n</div>"
     },
     "execution_count": 1,
     "metadata": {},
     "output_type": "execute_result"
    }
   ],
   "source": [
    "import matplotlib\n",
    "import pandas as pd\n",
    "import torch\n",
    "from sklearn.impute import SimpleImputer\n",
    "from sklearn.preprocessing import OneHotEncoder\n",
    "from torch import nn\n",
    "\n",
    "matplotlib.use('Agg')\n",
    "import matplotlib.pyplot as plt\n",
    "import numpy as np\n",
    "from torch.utils.data import DataLoader, TensorDataset\n",
    "from sklearn import metrics\n",
    "import random\n",
    "from sklearn.metrics import classification_report\n",
    "from sklearn.model_selection import train_test_split\n",
    "\n",
    "\n",
    "dtype_dict = {\n",
    "    'song_id': str,\n",
    "    'song_name': str,\n",
    "    'song_popularity': float,\n",
    "    'explicit': bool,\n",
    "    'song_type': str,\n",
    "    'track_number': float,\n",
    "    'num_artists': float,\n",
    "    'num_available_markets': float,\n",
    "    'release_date': str,  # Assuming it's a date, change to appropriate type if needed\n",
    "    'duration_ms': float,\n",
    "    'key': float,\n",
    "    'mode': float,\n",
    "    'time_signature': float,\n",
    "    'acousticness': float,\n",
    "    'danceability': float,\n",
    "    'energy': float,\n",
    "    'instrumentalness': float,\n",
    "    'liveness': float,\n",
    "    'loudness': float,\n",
    "    'speechiness': float,\n",
    "    'valence': float,\n",
    "    'tempo': float,\n",
    "    'hit': float,\n",
    "    'nr_artists': float,\n",
    "    'artist1_id': str,  # evtl ersätzen mit eintweder haswert oder count\n",
    "    'artist2_id': str,\n",
    "    'eigencentrality_x': float,\n",
    "    'name_x': str,\n",
    "    'eccentricity_x': float,\n",
    "    'degree_x': float,\n",
    "    'clustering_x': float,\n",
    "    'closnesscentrality_x': float,\n",
    "    'weighted degree_x': float,\n",
    "    'betweenesscentrality_x': float,\n",
    "    'Cluster_x': float,\n",
    "    'eigencentrality_y': float,\n",
    "    'name_y': str,\n",
    "    'eccentricity_y': float,\n",
    "    'degree_y': float,\n",
    "    'clustering_y': float,\n",
    "    'closnesscentrality_y': float,\n",
    "    'weighted degree_y': float,\n",
    "    'betweenesscentrality_y': float,\n",
    "    'Cluster_y': float\n",
    "}\n",
    "\n",
    "data = pd.read_csv(\"data_superstar_v1_0.csv\", delimiter=\",\", dtype=dtype_dict, na_values=[''])\n",
    "data['date'] = pd.to_datetime(data['release_date'])\n",
    "data.sort_values(by=\"date\", inplace=True)\n",
    "data"
   ]
  },
  {
   "cell_type": "code",
   "execution_count": 2,
   "outputs": [
    {
     "data": {
      "text/plain": "        explicit  track_number  num_artists  num_available_markets  \\\n0          False          12.0          1.0                   79.0   \n3659       False           2.0          1.0                   79.0   \n3658       False           5.0          1.0                    2.0   \n3657       False           4.0          1.0                    2.0   \n3656       False           3.0          1.0                    2.0   \n...          ...           ...          ...                    ...   \n911001     False           6.0          1.0                   79.0   \n911000     False          25.0          1.0                   76.0   \n911025     False          15.0          1.0                   78.0   \n911012     False           5.0          1.0                   79.0   \n911026     False          27.0          1.0                   79.0   \n\n       release_date  duration_ms   key  mode  time_signature  acousticness  \\\n0        1995-01-01     162667.0  10.0   1.0             4.0      0.690000   \n3659     1995-01-01     349120.0   1.0   0.0             4.0      0.297000   \n3658     1995-01-01     206093.0   2.0   1.0             4.0      0.105000   \n3657     1995-01-01     271307.0   7.0   1.0             4.0      0.027200   \n3656     1995-01-01     242027.0   7.0   1.0             4.0      0.025800   \n...             ...          ...   ...   ...             ...           ...   \n911001   2019-08-23     192401.0   2.0   1.0             4.0      0.000465   \n911000   2019-08-23     194907.0   8.0   1.0             4.0      0.038800   \n911025   2019-08-23     172147.0   1.0   1.0             4.0      0.727000   \n911012   2019-08-23     205707.0   9.0   1.0             4.0      0.224000   \n911026   2019-08-26     260910.0   7.0   0.0             3.0      0.607000   \n\n        ...  artist1_num  artist2_num  betweenesscentrality_y  \\\n0       ...      16718.0          0.0                     0.0   \n3659    ...      12974.0          0.0                     0.0   \n3658    ...       1409.0          0.0                     0.0   \n3657    ...       1409.0          0.0                     0.0   \n3656    ...       1409.0          0.0                     0.0   \n...     ...          ...          ...                     ...   \n911001  ...      15672.0          0.0                     0.0   \n911000  ...      20835.0          0.0                     0.0   \n911025  ...      10227.0          0.0                     0.0   \n911012  ...       3970.0          0.0                     0.0   \n911026  ...       6625.0          0.0                     0.0   \n\n        closnesscentrality_y  clustering_y  Cluster_y  eccentricity_y  \\\n0                        0.0           0.0       -1.0             0.0   \n3659                     0.0           0.0       -1.0             0.0   \n3658                     0.0           0.0       -1.0             0.0   \n3657                     0.0           0.0       -1.0             0.0   \n3656                     0.0           0.0       -1.0             0.0   \n...                      ...           ...        ...             ...   \n911001                   0.0           0.0       -1.0             0.0   \n911000                   0.0           0.0       -1.0             0.0   \n911025                   0.0           0.0       -1.0             0.0   \n911012                   0.0           0.0       -1.0             0.0   \n911026                   0.0           0.0       -1.0             0.0   \n\n        eigencentrality_y weighted degree_y  profile_y  \n0                     0.0               0.0   No Match  \n3659                  0.0               0.0   No Match  \n3658                  0.0               0.0   No Match  \n3657                  0.0               0.0   No Match  \n3656                  0.0               0.0   No Match  \n...                   ...               ...        ...  \n911001                0.0               0.0   No Match  \n911000                0.0               0.0   No Match  \n911025                0.0               0.0   No Match  \n911012                0.0               0.0   No Match  \n911026                0.0               0.0   No Match  \n\n[911027 rows x 31 columns]",
      "text/html": "<div>\n<style scoped>\n    .dataframe tbody tr th:only-of-type {\n        vertical-align: middle;\n    }\n\n    .dataframe tbody tr th {\n        vertical-align: top;\n    }\n\n    .dataframe thead th {\n        text-align: right;\n    }\n</style>\n<table border=\"1\" class=\"dataframe\">\n  <thead>\n    <tr style=\"text-align: right;\">\n      <th></th>\n      <th>explicit</th>\n      <th>track_number</th>\n      <th>num_artists</th>\n      <th>num_available_markets</th>\n      <th>release_date</th>\n      <th>duration_ms</th>\n      <th>key</th>\n      <th>mode</th>\n      <th>time_signature</th>\n      <th>acousticness</th>\n      <th>...</th>\n      <th>artist1_num</th>\n      <th>artist2_num</th>\n      <th>betweenesscentrality_y</th>\n      <th>closnesscentrality_y</th>\n      <th>clustering_y</th>\n      <th>Cluster_y</th>\n      <th>eccentricity_y</th>\n      <th>eigencentrality_y</th>\n      <th>weighted degree_y</th>\n      <th>profile_y</th>\n    </tr>\n  </thead>\n  <tbody>\n    <tr>\n      <th>0</th>\n      <td>False</td>\n      <td>12.0</td>\n      <td>1.0</td>\n      <td>79.0</td>\n      <td>1995-01-01</td>\n      <td>162667.0</td>\n      <td>10.0</td>\n      <td>1.0</td>\n      <td>4.0</td>\n      <td>0.690000</td>\n      <td>...</td>\n      <td>16718.0</td>\n      <td>0.0</td>\n      <td>0.0</td>\n      <td>0.0</td>\n      <td>0.0</td>\n      <td>-1.0</td>\n      <td>0.0</td>\n      <td>0.0</td>\n      <td>0.0</td>\n      <td>No Match</td>\n    </tr>\n    <tr>\n      <th>3659</th>\n      <td>False</td>\n      <td>2.0</td>\n      <td>1.0</td>\n      <td>79.0</td>\n      <td>1995-01-01</td>\n      <td>349120.0</td>\n      <td>1.0</td>\n      <td>0.0</td>\n      <td>4.0</td>\n      <td>0.297000</td>\n      <td>...</td>\n      <td>12974.0</td>\n      <td>0.0</td>\n      <td>0.0</td>\n      <td>0.0</td>\n      <td>0.0</td>\n      <td>-1.0</td>\n      <td>0.0</td>\n      <td>0.0</td>\n      <td>0.0</td>\n      <td>No Match</td>\n    </tr>\n    <tr>\n      <th>3658</th>\n      <td>False</td>\n      <td>5.0</td>\n      <td>1.0</td>\n      <td>2.0</td>\n      <td>1995-01-01</td>\n      <td>206093.0</td>\n      <td>2.0</td>\n      <td>1.0</td>\n      <td>4.0</td>\n      <td>0.105000</td>\n      <td>...</td>\n      <td>1409.0</td>\n      <td>0.0</td>\n      <td>0.0</td>\n      <td>0.0</td>\n      <td>0.0</td>\n      <td>-1.0</td>\n      <td>0.0</td>\n      <td>0.0</td>\n      <td>0.0</td>\n      <td>No Match</td>\n    </tr>\n    <tr>\n      <th>3657</th>\n      <td>False</td>\n      <td>4.0</td>\n      <td>1.0</td>\n      <td>2.0</td>\n      <td>1995-01-01</td>\n      <td>271307.0</td>\n      <td>7.0</td>\n      <td>1.0</td>\n      <td>4.0</td>\n      <td>0.027200</td>\n      <td>...</td>\n      <td>1409.0</td>\n      <td>0.0</td>\n      <td>0.0</td>\n      <td>0.0</td>\n      <td>0.0</td>\n      <td>-1.0</td>\n      <td>0.0</td>\n      <td>0.0</td>\n      <td>0.0</td>\n      <td>No Match</td>\n    </tr>\n    <tr>\n      <th>3656</th>\n      <td>False</td>\n      <td>3.0</td>\n      <td>1.0</td>\n      <td>2.0</td>\n      <td>1995-01-01</td>\n      <td>242027.0</td>\n      <td>7.0</td>\n      <td>1.0</td>\n      <td>4.0</td>\n      <td>0.025800</td>\n      <td>...</td>\n      <td>1409.0</td>\n      <td>0.0</td>\n      <td>0.0</td>\n      <td>0.0</td>\n      <td>0.0</td>\n      <td>-1.0</td>\n      <td>0.0</td>\n      <td>0.0</td>\n      <td>0.0</td>\n      <td>No Match</td>\n    </tr>\n    <tr>\n      <th>...</th>\n      <td>...</td>\n      <td>...</td>\n      <td>...</td>\n      <td>...</td>\n      <td>...</td>\n      <td>...</td>\n      <td>...</td>\n      <td>...</td>\n      <td>...</td>\n      <td>...</td>\n      <td>...</td>\n      <td>...</td>\n      <td>...</td>\n      <td>...</td>\n      <td>...</td>\n      <td>...</td>\n      <td>...</td>\n      <td>...</td>\n      <td>...</td>\n      <td>...</td>\n      <td>...</td>\n    </tr>\n    <tr>\n      <th>911001</th>\n      <td>False</td>\n      <td>6.0</td>\n      <td>1.0</td>\n      <td>79.0</td>\n      <td>2019-08-23</td>\n      <td>192401.0</td>\n      <td>2.0</td>\n      <td>1.0</td>\n      <td>4.0</td>\n      <td>0.000465</td>\n      <td>...</td>\n      <td>15672.0</td>\n      <td>0.0</td>\n      <td>0.0</td>\n      <td>0.0</td>\n      <td>0.0</td>\n      <td>-1.0</td>\n      <td>0.0</td>\n      <td>0.0</td>\n      <td>0.0</td>\n      <td>No Match</td>\n    </tr>\n    <tr>\n      <th>911000</th>\n      <td>False</td>\n      <td>25.0</td>\n      <td>1.0</td>\n      <td>76.0</td>\n      <td>2019-08-23</td>\n      <td>194907.0</td>\n      <td>8.0</td>\n      <td>1.0</td>\n      <td>4.0</td>\n      <td>0.038800</td>\n      <td>...</td>\n      <td>20835.0</td>\n      <td>0.0</td>\n      <td>0.0</td>\n      <td>0.0</td>\n      <td>0.0</td>\n      <td>-1.0</td>\n      <td>0.0</td>\n      <td>0.0</td>\n      <td>0.0</td>\n      <td>No Match</td>\n    </tr>\n    <tr>\n      <th>911025</th>\n      <td>False</td>\n      <td>15.0</td>\n      <td>1.0</td>\n      <td>78.0</td>\n      <td>2019-08-23</td>\n      <td>172147.0</td>\n      <td>1.0</td>\n      <td>1.0</td>\n      <td>4.0</td>\n      <td>0.727000</td>\n      <td>...</td>\n      <td>10227.0</td>\n      <td>0.0</td>\n      <td>0.0</td>\n      <td>0.0</td>\n      <td>0.0</td>\n      <td>-1.0</td>\n      <td>0.0</td>\n      <td>0.0</td>\n      <td>0.0</td>\n      <td>No Match</td>\n    </tr>\n    <tr>\n      <th>911012</th>\n      <td>False</td>\n      <td>5.0</td>\n      <td>1.0</td>\n      <td>79.0</td>\n      <td>2019-08-23</td>\n      <td>205707.0</td>\n      <td>9.0</td>\n      <td>1.0</td>\n      <td>4.0</td>\n      <td>0.224000</td>\n      <td>...</td>\n      <td>3970.0</td>\n      <td>0.0</td>\n      <td>0.0</td>\n      <td>0.0</td>\n      <td>0.0</td>\n      <td>-1.0</td>\n      <td>0.0</td>\n      <td>0.0</td>\n      <td>0.0</td>\n      <td>No Match</td>\n    </tr>\n    <tr>\n      <th>911026</th>\n      <td>False</td>\n      <td>27.0</td>\n      <td>1.0</td>\n      <td>79.0</td>\n      <td>2019-08-26</td>\n      <td>260910.0</td>\n      <td>7.0</td>\n      <td>0.0</td>\n      <td>3.0</td>\n      <td>0.607000</td>\n      <td>...</td>\n      <td>6625.0</td>\n      <td>0.0</td>\n      <td>0.0</td>\n      <td>0.0</td>\n      <td>0.0</td>\n      <td>-1.0</td>\n      <td>0.0</td>\n      <td>0.0</td>\n      <td>0.0</td>\n      <td>No Match</td>\n    </tr>\n  </tbody>\n</table>\n<p>911027 rows × 31 columns</p>\n</div>"
     },
     "execution_count": 2,
     "metadata": {},
     "output_type": "execute_result"
    }
   ],
   "source": [
    "\n",
    "# List of columns to keep\n",
    "columns_to_keep = ['explicit', 'track_number', 'num_artists', 'num_available_markets', 'release_date',\n",
    "                   'duration_ms', 'key', 'mode', 'time_signature', 'acousticness',\n",
    "                   'danceability', 'energy', 'instrumentalness', 'liveness', 'loudness',\n",
    "                   'speechiness', 'valence', 'tempo', \"date\", \"years_on_charts\",               #removeyoc\n",
    "                   'hit', \"artist1_num\", \"artist2_num\", 'betweenesscentrality_y', 'closnesscentrality_y', 'clustering_y', 'Cluster_y',\n",
    "                   'eccentricity_y', 'eigencentrality_y', 'weighted degree_y', \"profile_y\"]  # , \"superstar_v1_x\", \"superstar_x\"]                              #Collaboration Profile == CLuster????\n",
    "#  'release_date', 'betweenesscentrality_x', 'closnesscentrality_x', 'clustering_x', 'Cluster_x',\n",
    "# 'eccentricity_x', 'eigencentrality_x', 'weighted degree_x', \"profile_x\",\n",
    "# 'betweenesscentrality_y', 'closnesscentrality_y', 'clustering_y', 'Cluster_y',\n",
    "# 'eccentricity_y', 'eigencentrality_y', 'weighted degree_y', \"profile_y\", \"hit\"]                              #Collaboration Profile == CLuster????\n",
    "\n",
    "# Drop columns not in the list\n",
    "data = data[columns_to_keep]\n",
    "data"
   ],
   "metadata": {
    "collapsed": false,
    "ExecuteTime": {
     "end_time": "2024-06-28T09:14:13.115521700Z",
     "start_time": "2024-06-28T09:14:12.856387800Z"
    }
   },
   "id": "830d36f0f9f8805a"
  },
  {
   "cell_type": "code",
   "execution_count": 3,
   "outputs": [
    {
     "data": {
      "text/plain": "(        explicit  track_number  num_artists  num_available_markets  \\\n 0          False          12.0          1.0                   79.0   \n 3659       False           2.0          1.0                   79.0   \n 3658       False           5.0          1.0                    2.0   \n 3657       False           4.0          1.0                    2.0   \n 3656       False           3.0          1.0                    2.0   \n ...          ...           ...          ...                    ...   \n 911001     False           6.0          1.0                   79.0   \n 911000     False          25.0          1.0                   76.0   \n 911025     False          15.0          1.0                   78.0   \n 911012     False           5.0          1.0                   79.0   \n 911026     False          27.0          1.0                   79.0   \n \n        release_date  duration_ms   key  mode  time_signature  acousticness  \\\n 0        1995-01-01     162667.0  10.0   1.0             4.0      0.690000   \n 3659     1995-01-01     349120.0   1.0   0.0             4.0      0.297000   \n 3658     1995-01-01     206093.0   2.0   1.0             4.0      0.105000   \n 3657     1995-01-01     271307.0   7.0   1.0             4.0      0.027200   \n 3656     1995-01-01     242027.0   7.0   1.0             4.0      0.025800   \n ...             ...          ...   ...   ...             ...           ...   \n 911001   2019-08-23     192401.0   2.0   1.0             4.0      0.000465   \n 911000   2019-08-23     194907.0   8.0   1.0             4.0      0.038800   \n 911025   2019-08-23     172147.0   1.0   1.0             4.0      0.727000   \n 911012   2019-08-23     205707.0   9.0   1.0             4.0      0.224000   \n 911026   2019-08-26     260910.0   7.0   0.0             3.0      0.607000   \n \n         ...  artist1_num  artist2_num  betweenesscentrality_y  \\\n 0       ...      16718.0          0.0                     0.0   \n 3659    ...      12974.0          0.0                     0.0   \n 3658    ...       1409.0          0.0                     0.0   \n 3657    ...       1409.0          0.0                     0.0   \n 3656    ...       1409.0          0.0                     0.0   \n ...     ...          ...          ...                     ...   \n 911001  ...      15672.0          0.0                     0.0   \n 911000  ...      20835.0          0.0                     0.0   \n 911025  ...      10227.0          0.0                     0.0   \n 911012  ...       3970.0          0.0                     0.0   \n 911026  ...       6625.0          0.0                     0.0   \n \n         closnesscentrality_y  clustering_y  Cluster_y  eccentricity_y  \\\n 0                        0.0           0.0       -1.0             0.0   \n 3659                     0.0           0.0       -1.0             0.0   \n 3658                     0.0           0.0       -1.0             0.0   \n 3657                     0.0           0.0       -1.0             0.0   \n 3656                     0.0           0.0       -1.0             0.0   \n ...                      ...           ...        ...             ...   \n 911001                   0.0           0.0       -1.0             0.0   \n 911000                   0.0           0.0       -1.0             0.0   \n 911025                   0.0           0.0       -1.0             0.0   \n 911012                   0.0           0.0       -1.0             0.0   \n 911026                   0.0           0.0       -1.0             0.0   \n \n         eigencentrality_y weighted degree_y  profile_y  \n 0                     0.0               0.0   No Match  \n 3659                  0.0               0.0   No Match  \n 3658                  0.0               0.0   No Match  \n 3657                  0.0               0.0   No Match  \n 3656                  0.0               0.0   No Match  \n ...                   ...               ...        ...  \n 911001                0.0               0.0   No Match  \n 911000                0.0               0.0   No Match  \n 911025                0.0               0.0   No Match  \n 911012                0.0               0.0   No Match  \n 911026                0.0               0.0   No Match  \n \n [911027 rows x 30 columns],\n 0         0.0\n 3659      0.0\n 3658      0.0\n 3657      0.0\n 3656      0.0\n          ... \n 911001    1.0\n 911000    1.0\n 911025    1.0\n 911012    1.0\n 911026    1.0\n Name: hit, Length: 911027, dtype: float64,\n {'track_number': {'min': 1.0, 'max': 125.0},\n  'num_artists': {'min': 1.0, 'max': 2.0},\n  'num_available_markets': {'min': 0.0, 'max': 79.0},\n  'duration_ms': {'min': 1672.0, 'max': 6032273.0},\n  'key': {'min': 0.0, 'max': 11.0},\n  'mode': {'min': 0.0, 'max': 1.0},\n  'time_signature': {'min': 0.0, 'max': 5.0},\n  'acousticness': {'min': 0.0, 'max': 0.996},\n  'danceability': {'min': 0.0, 'max': 0.992},\n  'energy': {'min': 0.0, 'max': 1.0},\n  'instrumentalness': {'min': 0.0, 'max': 1.0},\n  'liveness': {'min': 0.0, 'max': 1.0},\n  'loudness': {'min': -60.0, 'max': 2.816},\n  'speechiness': {'min': 0.0, 'max': 0.968},\n  'valence': {'min': 0.0, 'max': 1.0},\n  'tempo': {'min': 0.0, 'max': 248.942},\n  'years_on_charts': {'min': 0.0, 'max': 1.6684931506849314},\n  'hit': {'min': 0.0, 'max': 1.0},\n  'artist1_num': {'min': 1.0, 'max': 26698.0},\n  'artist2_num': {'min': 0.0, 'max': 26700.0},\n  'betweenesscentrality_y': {'min': 0.0, 'max': 1.0},\n  'closnesscentrality_y': {'min': 0.0, 'max': 1.0},\n  'clustering_y': {'min': 0.0, 'max': 1.0},\n  'Cluster_y': {'min': -1.0, 'max': 5.0},\n  'eccentricity_y': {'min': 0.0, 'max': 21.0},\n  'eigencentrality_y': {'min': 0.0, 'max': 0.850650782872224},\n  'weighted degree_y': {'min': 0.0, 'max': 37432.0}})"
     },
     "execution_count": 3,
     "metadata": {},
     "output_type": "execute_result"
    }
   ],
   "source": [
    "\n",
    "def find_min_max(df):\n",
    "    # Select only numeric columns\n",
    "    numeric_cols = df.select_dtypes(include=['number'])\n",
    "\n",
    "    # Find max and min values for each numeric column\n",
    "    min_max_values = {}\n",
    "    for col in numeric_cols.columns:\n",
    "        min_value = df[col].min()\n",
    "        max_value = df[col].max()\n",
    "        min_max_values[col] = {'min': min_value, 'max': max_value}\n",
    "\n",
    "    return min_max_values\n",
    "\n",
    "\n",
    "min_max_val = find_min_max(data)\n",
    "\n",
    "y = data[\"hit\"]\n",
    "X = data.drop(columns=[\"hit\"])\n",
    "X, y, min_max_val"
   ],
   "metadata": {
    "collapsed": false,
    "ExecuteTime": {
     "end_time": "2024-06-28T09:14:13.470356200Z",
     "start_time": "2024-06-28T09:14:13.113520300Z"
    }
   },
   "id": "655a254962d87f19"
  },
  {
   "cell_type": "code",
   "execution_count": 4,
   "outputs": [
    {
     "name": "stdout",
     "output_type": "stream",
     "text": [
      "######TRAIN TEST SPLIT DONE######\n"
     ]
    }
   ],
   "source": [
    "\n",
    "def preprocess(df, min_max_values, exclude_cols=None):\n",
    "    missing_numerical = df.select_dtypes(include=['number']).isnull().sum()\n",
    "    # Fill missing values with mean for each numeric attribute\n",
    "    imputer = SimpleImputer(strategy='mean')\n",
    "    df_filled = df.copy()\n",
    "    for col in missing_numerical.index:\n",
    "        if missing_numerical[col] > 0:\n",
    "            df_filled[col] = imputer.fit_transform(df[[col]])\n",
    "\n",
    "    # Normalize numerical features into [0, 1] range with MinMaxScaler\n",
    "    if exclude_cols:\n",
    "        numerical_cols = df_filled.select_dtypes(include=['number']).columns.difference(exclude_cols)\n",
    "    else:\n",
    "        numerical_cols = df_filled.select_dtypes(include=['number']).columns\n",
    "\n",
    "    # print(\"numerical columns:\", numerical_cols)\n",
    "\n",
    "    for column_name in numerical_cols:\n",
    "        df_filled[column_name] = (df_filled[column_name] - min_max_values[column_name][\"min\"]) / (\n",
    "                min_max_values[column_name][\"max\"] - min_max_values[column_name][\"min\"])\n",
    "\n",
    "    df_normalized = pd.DataFrame(df_filled, columns=numerical_cols)\n",
    "\n",
    "    # One-hot encode categorical features\n",
    "    encoder = OneHotEncoder(handle_unknown='ignore')\n",
    "    if exclude_cols:\n",
    "        categorical_cols = df.select_dtypes(include=['object']).columns.difference(exclude_cols)\n",
    "    else:\n",
    "        categorical_cols = df.select_dtypes(include=['object']).columns\n",
    "    df_encoded = encoder.fit_transform(df[categorical_cols])\n",
    "\n",
    "    # print(categorical_cols)\n",
    "\n",
    "    # Convert the sparse matrix to dense array\n",
    "    df_encoded_dense = df_encoded.toarray()\n",
    "\n",
    "    # Concatenate numerical and encoded categorical features\n",
    "    df_processed = np.hstack([df_normalized.values, df_encoded_dense])\n",
    "\n",
    "    return df_processed\n",
    "\n",
    "\n",
    "# Assuming X is your feature dataset and y is your target variable\n",
    "X_train, X_test, y_train, y_test = train_test_split(X, y, test_size=0.25, shuffle=False)#random_state=42), stratify=y_scaled, shuffle=True) # try to do with ordered by date results are terrible:(, ..collab prof is missing\n",
    "#split_day = X[\"date\"].iloc[-1] - pd.DateOffset(years=1)\n",
    "#X_train = X[(X[\"date\"] < split_day)].copy()\n",
    "\n",
    "#X_test = X[(X[\"date\"] >= split_day)].copy()\n",
    "#sep_index = X_train.shape[0]\n",
    "#y_train = y.iloc[:sep_index].copy()\n",
    "#y_test = y.iloc[sep_index:].copy()\n",
    "\n",
    "print(\"######TRAIN TEST SPLIT DONE######\")"
   ],
   "metadata": {
    "collapsed": false,
    "ExecuteTime": {
     "end_time": "2024-06-28T09:14:13.616353Z",
     "start_time": "2024-06-28T09:14:13.474354700Z"
    }
   },
   "id": "a6ffb1493f450ebe"
  },
  {
   "cell_type": "code",
   "execution_count": 5,
   "outputs": [
    {
     "data": {
      "text/plain": "        explicit  track_number  num_artists  num_available_markets  \\\n0          False          12.0          1.0                   79.0   \n3659       False           2.0          1.0                   79.0   \n3658       False           5.0          1.0                    2.0   \n3657       False           4.0          1.0                    2.0   \n3656       False           3.0          1.0                    2.0   \n...          ...           ...          ...                    ...   \n683396     False          20.0          1.0                   79.0   \n683430      True           2.0          1.0                   79.0   \n683431      True           1.0          1.0                   79.0   \n683432     False           3.0          1.0                   79.0   \n683433     False           4.0          1.0                   79.0   \n\n       release_date  duration_ms   key  mode  time_signature  acousticness  \\\n0        1995-01-01     162667.0  10.0   1.0             4.0      0.690000   \n3659     1995-01-01     349120.0   1.0   0.0             4.0      0.297000   \n3658     1995-01-01     206093.0   2.0   1.0             4.0      0.105000   \n3657     1995-01-01     271307.0   7.0   1.0             4.0      0.027200   \n3656     1995-01-01     242027.0   7.0   1.0             4.0      0.025800   \n...             ...          ...   ...   ...             ...           ...   \n683396   2015-08-19     149844.0   7.0   1.0             4.0      0.691000   \n683430   2015-08-19     171102.0   8.0   0.0             4.0      0.008460   \n683431   2015-08-19     171102.0   1.0   0.0             4.0      0.091900   \n683432   2015-08-19     319671.0   9.0   0.0             4.0      0.019900   \n683433   2015-08-19     179711.0  11.0   0.0             4.0      0.000028   \n\n        ...  artist1_num  artist2_num  betweenesscentrality_y  \\\n0       ...      16718.0          0.0                     0.0   \n3659    ...      12974.0          0.0                     0.0   \n3658    ...       1409.0          0.0                     0.0   \n3657    ...       1409.0          0.0                     0.0   \n3656    ...       1409.0          0.0                     0.0   \n...     ...          ...          ...                     ...   \n683396  ...       8626.0          0.0                     0.0   \n683430  ...      11095.0          0.0                     0.0   \n683431  ...      11095.0          0.0                     0.0   \n683432  ...       6092.0          0.0                     0.0   \n683433  ...       6092.0          0.0                     0.0   \n\n        closnesscentrality_y  clustering_y  Cluster_y  eccentricity_y  \\\n0                        0.0           0.0       -1.0             0.0   \n3659                     0.0           0.0       -1.0             0.0   \n3658                     0.0           0.0       -1.0             0.0   \n3657                     0.0           0.0       -1.0             0.0   \n3656                     0.0           0.0       -1.0             0.0   \n...                      ...           ...        ...             ...   \n683396                   0.0           0.0       -1.0             0.0   \n683430                   0.0           0.0       -1.0             0.0   \n683431                   0.0           0.0       -1.0             0.0   \n683432                   0.0           0.0       -1.0             0.0   \n683433                   0.0           0.0       -1.0             0.0   \n\n        eigencentrality_y weighted degree_y  profile_y  \n0                     0.0               0.0   No Match  \n3659                  0.0               0.0   No Match  \n3658                  0.0               0.0   No Match  \n3657                  0.0               0.0   No Match  \n3656                  0.0               0.0   No Match  \n...                   ...               ...        ...  \n683396                0.0               0.0   No Match  \n683430                0.0               0.0   No Match  \n683431                0.0               0.0   No Match  \n683432                0.0               0.0   No Match  \n683433                0.0               0.0   No Match  \n\n[683270 rows x 30 columns]",
      "text/html": "<div>\n<style scoped>\n    .dataframe tbody tr th:only-of-type {\n        vertical-align: middle;\n    }\n\n    .dataframe tbody tr th {\n        vertical-align: top;\n    }\n\n    .dataframe thead th {\n        text-align: right;\n    }\n</style>\n<table border=\"1\" class=\"dataframe\">\n  <thead>\n    <tr style=\"text-align: right;\">\n      <th></th>\n      <th>explicit</th>\n      <th>track_number</th>\n      <th>num_artists</th>\n      <th>num_available_markets</th>\n      <th>release_date</th>\n      <th>duration_ms</th>\n      <th>key</th>\n      <th>mode</th>\n      <th>time_signature</th>\n      <th>acousticness</th>\n      <th>...</th>\n      <th>artist1_num</th>\n      <th>artist2_num</th>\n      <th>betweenesscentrality_y</th>\n      <th>closnesscentrality_y</th>\n      <th>clustering_y</th>\n      <th>Cluster_y</th>\n      <th>eccentricity_y</th>\n      <th>eigencentrality_y</th>\n      <th>weighted degree_y</th>\n      <th>profile_y</th>\n    </tr>\n  </thead>\n  <tbody>\n    <tr>\n      <th>0</th>\n      <td>False</td>\n      <td>12.0</td>\n      <td>1.0</td>\n      <td>79.0</td>\n      <td>1995-01-01</td>\n      <td>162667.0</td>\n      <td>10.0</td>\n      <td>1.0</td>\n      <td>4.0</td>\n      <td>0.690000</td>\n      <td>...</td>\n      <td>16718.0</td>\n      <td>0.0</td>\n      <td>0.0</td>\n      <td>0.0</td>\n      <td>0.0</td>\n      <td>-1.0</td>\n      <td>0.0</td>\n      <td>0.0</td>\n      <td>0.0</td>\n      <td>No Match</td>\n    </tr>\n    <tr>\n      <th>3659</th>\n      <td>False</td>\n      <td>2.0</td>\n      <td>1.0</td>\n      <td>79.0</td>\n      <td>1995-01-01</td>\n      <td>349120.0</td>\n      <td>1.0</td>\n      <td>0.0</td>\n      <td>4.0</td>\n      <td>0.297000</td>\n      <td>...</td>\n      <td>12974.0</td>\n      <td>0.0</td>\n      <td>0.0</td>\n      <td>0.0</td>\n      <td>0.0</td>\n      <td>-1.0</td>\n      <td>0.0</td>\n      <td>0.0</td>\n      <td>0.0</td>\n      <td>No Match</td>\n    </tr>\n    <tr>\n      <th>3658</th>\n      <td>False</td>\n      <td>5.0</td>\n      <td>1.0</td>\n      <td>2.0</td>\n      <td>1995-01-01</td>\n      <td>206093.0</td>\n      <td>2.0</td>\n      <td>1.0</td>\n      <td>4.0</td>\n      <td>0.105000</td>\n      <td>...</td>\n      <td>1409.0</td>\n      <td>0.0</td>\n      <td>0.0</td>\n      <td>0.0</td>\n      <td>0.0</td>\n      <td>-1.0</td>\n      <td>0.0</td>\n      <td>0.0</td>\n      <td>0.0</td>\n      <td>No Match</td>\n    </tr>\n    <tr>\n      <th>3657</th>\n      <td>False</td>\n      <td>4.0</td>\n      <td>1.0</td>\n      <td>2.0</td>\n      <td>1995-01-01</td>\n      <td>271307.0</td>\n      <td>7.0</td>\n      <td>1.0</td>\n      <td>4.0</td>\n      <td>0.027200</td>\n      <td>...</td>\n      <td>1409.0</td>\n      <td>0.0</td>\n      <td>0.0</td>\n      <td>0.0</td>\n      <td>0.0</td>\n      <td>-1.0</td>\n      <td>0.0</td>\n      <td>0.0</td>\n      <td>0.0</td>\n      <td>No Match</td>\n    </tr>\n    <tr>\n      <th>3656</th>\n      <td>False</td>\n      <td>3.0</td>\n      <td>1.0</td>\n      <td>2.0</td>\n      <td>1995-01-01</td>\n      <td>242027.0</td>\n      <td>7.0</td>\n      <td>1.0</td>\n      <td>4.0</td>\n      <td>0.025800</td>\n      <td>...</td>\n      <td>1409.0</td>\n      <td>0.0</td>\n      <td>0.0</td>\n      <td>0.0</td>\n      <td>0.0</td>\n      <td>-1.0</td>\n      <td>0.0</td>\n      <td>0.0</td>\n      <td>0.0</td>\n      <td>No Match</td>\n    </tr>\n    <tr>\n      <th>...</th>\n      <td>...</td>\n      <td>...</td>\n      <td>...</td>\n      <td>...</td>\n      <td>...</td>\n      <td>...</td>\n      <td>...</td>\n      <td>...</td>\n      <td>...</td>\n      <td>...</td>\n      <td>...</td>\n      <td>...</td>\n      <td>...</td>\n      <td>...</td>\n      <td>...</td>\n      <td>...</td>\n      <td>...</td>\n      <td>...</td>\n      <td>...</td>\n      <td>...</td>\n      <td>...</td>\n    </tr>\n    <tr>\n      <th>683396</th>\n      <td>False</td>\n      <td>20.0</td>\n      <td>1.0</td>\n      <td>79.0</td>\n      <td>2015-08-19</td>\n      <td>149844.0</td>\n      <td>7.0</td>\n      <td>1.0</td>\n      <td>4.0</td>\n      <td>0.691000</td>\n      <td>...</td>\n      <td>8626.0</td>\n      <td>0.0</td>\n      <td>0.0</td>\n      <td>0.0</td>\n      <td>0.0</td>\n      <td>-1.0</td>\n      <td>0.0</td>\n      <td>0.0</td>\n      <td>0.0</td>\n      <td>No Match</td>\n    </tr>\n    <tr>\n      <th>683430</th>\n      <td>True</td>\n      <td>2.0</td>\n      <td>1.0</td>\n      <td>79.0</td>\n      <td>2015-08-19</td>\n      <td>171102.0</td>\n      <td>8.0</td>\n      <td>0.0</td>\n      <td>4.0</td>\n      <td>0.008460</td>\n      <td>...</td>\n      <td>11095.0</td>\n      <td>0.0</td>\n      <td>0.0</td>\n      <td>0.0</td>\n      <td>0.0</td>\n      <td>-1.0</td>\n      <td>0.0</td>\n      <td>0.0</td>\n      <td>0.0</td>\n      <td>No Match</td>\n    </tr>\n    <tr>\n      <th>683431</th>\n      <td>True</td>\n      <td>1.0</td>\n      <td>1.0</td>\n      <td>79.0</td>\n      <td>2015-08-19</td>\n      <td>171102.0</td>\n      <td>1.0</td>\n      <td>0.0</td>\n      <td>4.0</td>\n      <td>0.091900</td>\n      <td>...</td>\n      <td>11095.0</td>\n      <td>0.0</td>\n      <td>0.0</td>\n      <td>0.0</td>\n      <td>0.0</td>\n      <td>-1.0</td>\n      <td>0.0</td>\n      <td>0.0</td>\n      <td>0.0</td>\n      <td>No Match</td>\n    </tr>\n    <tr>\n      <th>683432</th>\n      <td>False</td>\n      <td>3.0</td>\n      <td>1.0</td>\n      <td>79.0</td>\n      <td>2015-08-19</td>\n      <td>319671.0</td>\n      <td>9.0</td>\n      <td>0.0</td>\n      <td>4.0</td>\n      <td>0.019900</td>\n      <td>...</td>\n      <td>6092.0</td>\n      <td>0.0</td>\n      <td>0.0</td>\n      <td>0.0</td>\n      <td>0.0</td>\n      <td>-1.0</td>\n      <td>0.0</td>\n      <td>0.0</td>\n      <td>0.0</td>\n      <td>No Match</td>\n    </tr>\n    <tr>\n      <th>683433</th>\n      <td>False</td>\n      <td>4.0</td>\n      <td>1.0</td>\n      <td>79.0</td>\n      <td>2015-08-19</td>\n      <td>179711.0</td>\n      <td>11.0</td>\n      <td>0.0</td>\n      <td>4.0</td>\n      <td>0.000028</td>\n      <td>...</td>\n      <td>6092.0</td>\n      <td>0.0</td>\n      <td>0.0</td>\n      <td>0.0</td>\n      <td>0.0</td>\n      <td>-1.0</td>\n      <td>0.0</td>\n      <td>0.0</td>\n      <td>0.0</td>\n      <td>No Match</td>\n    </tr>\n  </tbody>\n</table>\n<p>683270 rows × 30 columns</p>\n</div>"
     },
     "execution_count": 5,
     "metadata": {},
     "output_type": "execute_result"
    }
   ],
   "source": [
    "X_train"
   ],
   "metadata": {
    "collapsed": false,
    "ExecuteTime": {
     "end_time": "2024-06-28T09:14:13.802354100Z",
     "start_time": "2024-06-28T09:14:13.609354300Z"
    }
   },
   "id": "3351f831c2c95951"
  },
  {
   "cell_type": "code",
   "execution_count": 6,
   "outputs": [
    {
     "name": "stdout",
     "output_type": "stream",
     "text": [
      "######UPSAMPLING DONE######\n"
     ]
    },
    {
     "data": {
      "text/plain": "array([[False, 12.0, 1.0, ..., 0.0, 0.0, 'No Match'],\n       [False, 2.0, 1.0, ..., 0.0, 0.0, 'No Match'],\n       [False, 5.0, 1.0, ..., 0.0, 0.0, 'No Match'],\n       ...,\n       [False, 2.0, 1.0, ..., 0.0, 0.0, 'No Match'],\n       [False, 1.0, 1.0, ..., 0.0, 0.0, 'No Match'],\n       [False, 9.0, 1.0, ..., 0.0, 0.0, 'No Match']], dtype=object)"
     },
     "execution_count": 6,
     "metadata": {},
     "output_type": "execute_result"
    }
   ],
   "source": [
    "\n",
    "def upsampling(X_train, y_train):\n",
    "    # Convert y_train to a numpy array\n",
    "    # y_train = y_train.to_numpy()\n",
    "    X_train = X_train.to_numpy()\n",
    "\n",
    "    # Count the number of samples in each class\n",
    "    class_counts = np.bincount(y_train.flatten().astype(int))\n",
    "    max_count = class_counts.max()\n",
    "\n",
    "    # Find indices of positive instances\n",
    "    positive_indices = np.where(y_train.flatten() == 1)[0]\n",
    "\n",
    "    # Calculate how many times to duplicate positive samples\n",
    "    difference = max_count - class_counts[1]\n",
    "\n",
    "    # Randomly select indices from positive instances\n",
    "    random_indices = np.random.choice(positive_indices, size=difference, replace=True)\n",
    "\n",
    "    # Get rows corresponding to positive instances\n",
    "    rows_to_duplicate = np.vstack([X_train[idx] for idx in random_indices])\n",
    "\n",
    "    # Stack duplicated rows with the original matrix\n",
    "    X_train_upsampled = np.vstack([X_train, rows_to_duplicate])\n",
    "\n",
    "    # Create an array of shape (x, 1) with all elements as 1\n",
    "    rows_of_ones = np.ones((difference, 1))\n",
    "\n",
    "    # Append rows_of_ones to original_array\n",
    "    y_train_upsampled = np.concatenate((y_train, rows_of_ones), axis=0)\n",
    "\n",
    "    print(\"######UPSAMPLING DONE######\")\n",
    "    return X_train_upsampled, y_train_upsampled\n",
    "\n",
    "\n",
    "y_reshaped = y_train.values.reshape(-1, 1)\n",
    "# print(X_train.shape)\n",
    "# print(y_reshaped.shape)\n",
    "X_train_upsampled, y_train_upsampled = upsampling(X_train=X_train, y_train=y_reshaped)\n",
    "# Assuming X_train, X_test, y_train, y_test are your training and testing data\n",
    "# print(\"X_train_up type:\", type(X_train_upsampled))\n",
    "# print(\"y_train_up type:\", type(y_train_upsampled))\n",
    "# print(\"X_train_up shape:\", X_train_upsampled.shape)\n",
    "# print(\"y_train_up shape:\", y_train_upsampled.shape)\n",
    "# print(type(X_test))\n",
    "# print(type(y_test))\n",
    "X_train_upsampled"
   ],
   "metadata": {
    "collapsed": false,
    "ExecuteTime": {
     "end_time": "2024-06-28T09:14:17.964110900Z",
     "start_time": "2024-06-28T09:14:13.822355100Z"
    }
   },
   "id": "fa25f7fbea00ed3c"
  },
  {
   "cell_type": "code",
   "execution_count": 7,
   "outputs": [
    {
     "name": "stdout",
     "output_type": "stream",
     "text": [
      "Value counts: {0.0: 673437, 1.0: 673437}\n"
     ]
    }
   ],
   "source": [
    "\n",
    "# Count occurrences of each unique value\n",
    "unique_values, counts = np.unique(y_train_upsampled, return_counts=True)\n",
    "\n",
    "# Create a dictionary to store the counts of each value\n",
    "value_counts = dict(zip(unique_values, counts))\n",
    "\n",
    "print(\"Value counts:\", value_counts)\n",
    "\n",
    "# Convert arrays to DataFrames\n",
    "X_train_upsampled_df = pd.DataFrame(X_train_upsampled, columns=X_train.columns)\n",
    "y_train_upsampled_df = pd.DataFrame(y_train_upsampled, columns=['hit'])\n",
    "\n",
    "# Concatenate y_train_upsampled as an extra column to X_train_upsampled_df\n",
    "X_train_upsampled_with_y = pd.concat([X_train_upsampled_df, y_train_upsampled_df], axis=1)\n",
    "X_train_upsampled_with_y['date'] = pd.to_datetime(X_train_upsampled_with_y['release_date'])\n",
    "X_train_upsampled_with_y.sort_values(by=\"date\", inplace=True)\n",
    "X_train_upsampled_with_y.drop(columns=[\"release_date\", \"date\"], inplace=True)\n",
    "\n",
    "# print(X_train_upsampled_with_y.head())\n",
    "# prepro:\n",
    "y_train_upsampled_ordered = X_train_upsampled_with_y[\"hit\"]\n",
    "X_train_upsampled_ordered = X_train_upsampled_with_y.drop(columns=\"hit\")"
   ],
   "metadata": {
    "collapsed": false,
    "ExecuteTime": {
     "end_time": "2024-06-28T09:14:23.002107200Z",
     "start_time": "2024-06-28T09:14:17.965109900Z"
    }
   },
   "id": "4beddd1889f5c51f"
  },
  {
   "cell_type": "code",
   "execution_count": 8,
   "outputs": [
    {
     "name": "stdout",
     "output_type": "stream",
     "text": [
      "Index(['explicit', 'track_number', 'num_artists', 'num_available_markets',\n",
      "       'duration_ms', 'key', 'mode', 'time_signature', 'acousticness',\n",
      "       'danceability', 'energy', 'instrumentalness', 'liveness', 'loudness',\n",
      "       'speechiness', 'valence', 'tempo', 'years_on_charts', 'artist1_num',\n",
      "       'artist2_num', 'betweenesscentrality_y', 'closnesscentrality_y',\n",
      "       'clustering_y', 'Cluster_y', 'eccentricity_y', 'eigencentrality_y',\n",
      "       'weighted degree_y', 'profile_y'],\n",
      "      dtype='object')\n",
      "######PREPROCESSING DONE######\n"
     ]
    }
   ],
   "source": [
    "# Define data types for each column\n",
    "dtype_dict = {\n",
    "    'explicit': bool,\n",
    "    'track_number': float,\n",
    "    'num_artists': float,\n",
    "    'num_available_markets': float,\n",
    "    'duration_ms': float,\n",
    "    'key': float,\n",
    "    'mode': float,\n",
    "    'time_signature': float,\n",
    "    'acousticness': float,\n",
    "    'danceability': float,\n",
    "    'energy': float,\n",
    "    'instrumentalness': float,\n",
    "    'liveness': float,\n",
    "    'loudness': float,\n",
    "    'speechiness': float,\n",
    "    'valence': float,\n",
    "    'tempo': float,\n",
    "    'years_on_charts': float,\n",
    "    \"artist1_num\": float,\n",
    "    \"artist2_num\": float,\n",
    "    'betweenesscentrality_y': float,\n",
    "    'closnesscentrality_y': float,\n",
    "    'clustering_y': float,\n",
    "    'Cluster_y': str,\n",
    "    'eccentricity_y': float,\n",
    "    'eigencentrality_y': float,\n",
    "    'weighted degree_y': float,\n",
    "    'profile_y': str,\n",
    "}\n",
    "\n",
    "\n",
    "# Use astype method to cast columns to the specified data types\n",
    "X_train_upsampled_ordered = X_train_upsampled_ordered.astype(dtype_dict)\n",
    "X_test.drop(columns=[\"release_date\", \"date\"], inplace=True)\n",
    "X_test = X_test.astype(dtype_dict)\n",
    "\n",
    "y_train_upsampled_ordered_reshaped = y_train_upsampled_ordered.values.reshape(-1, 1)\n",
    "y_test_reshaped = y_test.values.reshape(-1, 1)\n",
    "\n",
    "sep_index = X_train_upsampled_ordered.shape[0]\n",
    "concatenated_df = pd.concat([X_train_upsampled_ordered, X_test])\n",
    "print(concatenated_df.columns)\n",
    "data_prepro = preprocess(concatenated_df, min_max_val)\n",
    "X_train_upsampled_prepro = data_prepro[:sep_index]\n",
    "X_test_prepro = data_prepro[sep_index:]\n",
    "\n",
    "print(\"######PREPROCESSING DONE######\")"
   ],
   "metadata": {
    "collapsed": false,
    "ExecuteTime": {
     "end_time": "2024-06-28T09:14:28.040650700Z",
     "start_time": "2024-06-28T09:14:23.093107300Z"
    }
   },
   "id": "5d1d56eaca895ff2"
  }
 ],
 "metadata": {
  "kernelspec": {
   "display_name": "Python 3",
   "language": "python",
   "name": "python3"
  },
  "language_info": {
   "codemirror_mode": {
    "name": "ipython",
    "version": 2
   },
   "file_extension": ".py",
   "mimetype": "text/x-python",
   "name": "python",
   "nbconvert_exporter": "python",
   "pygments_lexer": "ipython2",
   "version": "2.7.6"
  }
 },
 "nbformat": 4,
 "nbformat_minor": 5
}
