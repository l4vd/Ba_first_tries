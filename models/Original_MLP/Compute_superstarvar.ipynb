{
 "cells": [
  {
   "cell_type": "code",
   "execution_count": 1,
   "id": "initial_id",
   "metadata": {
    "collapsed": true,
    "ExecuteTime": {
     "end_time": "2024-05-06T15:35:37.147902800Z",
     "start_time": "2024-05-06T15:35:35.696901900Z"
    }
   },
   "outputs": [
    {
     "data": {
      "text/plain": "                       song_id  \\\n0       2F2KnlkMvRIQM2phyz1NYh   \n1       2P1HvXKbTX6oR4pPg3yvh8   \n2       1tJQJbGBZew4782EYw9lnS   \n3       1YF8Nw7yjdTq36RLQqxExY   \n4       5k4iLtspS2VUrYXoFfKCx6   \n...                        ...   \n283459  5ke0edZBlwRYu01wdej6xq   \n283460  12kc7hUJKpArFQurhlNeNW   \n283461  0lej8CemYKkWVHg77Xe1ky   \n283462  7goArBQdsalqclSyaTywAS   \n283463  6Fh2QgjCxL96dA3Gtpfr4Q   \n\n                                                song_name  song_popularity  \\\n0                                     Oh How I Love Jesus              0.0   \n1                         When It Hurts (Karaoke Version)              0.0   \n2               Love Never Felt So Good (Karaoke Version)              0.0   \n3                             Too Close (Karaoke Version)              0.0   \n4                        Marilyn Monroe (Karaoke Version)              0.0   \n...                                                   ...              ...   \n283459                                         Let Her In              4.0   \n283460                             Stop and Think It Over              1.0   \n283461           A Man Holdin' on (To a Woman Lettin’ Go)             14.0   \n283462                                   Shimmy Shimmy Ya              7.0   \n283463  One Sweet Day (16-Bit Mariah Carey & Boyz II M...              0.0   \n\n        explicit      song_type  track_number  num_artists  \\\n0          False           Solo           2.0          1.0   \n1          False           Solo          18.0          1.0   \n2          False           Solo           1.0          1.0   \n3          False           Solo          19.0          1.0   \n4          False           Solo           9.0          1.0   \n...          ...            ...           ...          ...   \n283459     False           Solo           7.0          1.0   \n283460     False           Solo           9.0          1.0   \n283461     False  Collaboration           7.0          2.0   \n283462     False           Solo           8.0          1.0   \n283463     False           Solo          27.0          1.0   \n\n        num_available_markets release_date  duration_ms  ...  \\\n0                        78.0   2014-08-26     127760.0  ...   \n1                        79.0   2014-08-26     191375.0  ...   \n2                        79.0   2014-08-26     242858.0  ...   \n3                        79.0   2014-08-26     249377.0  ...   \n4                        79.0   2014-08-26     266691.0  ...   \n...                       ...          ...          ...  ...   \n283459                   79.0   2019-08-23     183600.0  ...   \n283460                   79.0   2019-08-23     154413.0  ...   \n283461                   79.0   2019-08-23     231898.0  ...   \n283462                   78.0   2019-08-23     161200.0  ...   \n283463                   79.0   2019-08-26     260910.0  ...   \n\n        betweenesscentrality_y  closnesscentrality_y  clustering_y  degree_y  \\\n0                          0.0              0.000000           0.0       0.0   \n1                          0.0              0.000000           0.0       0.0   \n2                          0.0              0.000000           0.0       0.0   \n3                          0.0              0.000000           0.0       0.0   \n4                          0.0              0.000000           0.0       0.0   \n...                        ...                   ...           ...       ...   \n283459                     0.0              0.000000           0.0       0.0   \n283460                     0.0              0.000000           0.0       0.0   \n283461                     0.0              0.666667           0.0       1.0   \n283462                     0.0              0.000000           0.0       0.0   \n283463                     0.0              0.000000           0.0       0.0   \n\n        eccentricity_y  eigencentrality_y  weighted degree_y  Cluster_y  \\\n0                  0.0                0.0                0.0       -1.0   \n1                  0.0                0.0                0.0       -1.0   \n2                  0.0                0.0                0.0       -1.0   \n3                  0.0                0.0                0.0       -1.0   \n4                  0.0                0.0                0.0       -1.0   \n...                ...                ...                ...        ...   \n283459             0.0                0.0                0.0       -1.0   \n283460             0.0                0.0                0.0       -1.0   \n283461             2.0                0.5                2.0        2.0   \n283462             0.0                0.0                0.0       -1.0   \n283463             0.0                0.0                0.0       -1.0   \n\n          profile_y  years_on_charts  \n0          No Match         0.000000  \n1          No Match         0.000000  \n2          No Match         0.000000  \n3          No Match         0.000000  \n4          No Match         0.000000  \n...             ...              ...  \n283459     No Match         0.383562  \n283460     No Match         0.172603  \n283461  1A 2A 3A 4A         0.191781  \n283462     No Match         0.287671  \n283463     No Match         0.517808  \n\n[283464 rows x 47 columns]",
      "text/html": "<div>\n<style scoped>\n    .dataframe tbody tr th:only-of-type {\n        vertical-align: middle;\n    }\n\n    .dataframe tbody tr th {\n        vertical-align: top;\n    }\n\n    .dataframe thead th {\n        text-align: right;\n    }\n</style>\n<table border=\"1\" class=\"dataframe\">\n  <thead>\n    <tr style=\"text-align: right;\">\n      <th></th>\n      <th>song_id</th>\n      <th>song_name</th>\n      <th>song_popularity</th>\n      <th>explicit</th>\n      <th>song_type</th>\n      <th>track_number</th>\n      <th>num_artists</th>\n      <th>num_available_markets</th>\n      <th>release_date</th>\n      <th>duration_ms</th>\n      <th>...</th>\n      <th>betweenesscentrality_y</th>\n      <th>closnesscentrality_y</th>\n      <th>clustering_y</th>\n      <th>degree_y</th>\n      <th>eccentricity_y</th>\n      <th>eigencentrality_y</th>\n      <th>weighted degree_y</th>\n      <th>Cluster_y</th>\n      <th>profile_y</th>\n      <th>years_on_charts</th>\n    </tr>\n  </thead>\n  <tbody>\n    <tr>\n      <th>0</th>\n      <td>2F2KnlkMvRIQM2phyz1NYh</td>\n      <td>Oh How I Love Jesus</td>\n      <td>0.0</td>\n      <td>False</td>\n      <td>Solo</td>\n      <td>2.0</td>\n      <td>1.0</td>\n      <td>78.0</td>\n      <td>2014-08-26</td>\n      <td>127760.0</td>\n      <td>...</td>\n      <td>0.0</td>\n      <td>0.000000</td>\n      <td>0.0</td>\n      <td>0.0</td>\n      <td>0.0</td>\n      <td>0.0</td>\n      <td>0.0</td>\n      <td>-1.0</td>\n      <td>No Match</td>\n      <td>0.000000</td>\n    </tr>\n    <tr>\n      <th>1</th>\n      <td>2P1HvXKbTX6oR4pPg3yvh8</td>\n      <td>When It Hurts (Karaoke Version)</td>\n      <td>0.0</td>\n      <td>False</td>\n      <td>Solo</td>\n      <td>18.0</td>\n      <td>1.0</td>\n      <td>79.0</td>\n      <td>2014-08-26</td>\n      <td>191375.0</td>\n      <td>...</td>\n      <td>0.0</td>\n      <td>0.000000</td>\n      <td>0.0</td>\n      <td>0.0</td>\n      <td>0.0</td>\n      <td>0.0</td>\n      <td>0.0</td>\n      <td>-1.0</td>\n      <td>No Match</td>\n      <td>0.000000</td>\n    </tr>\n    <tr>\n      <th>2</th>\n      <td>1tJQJbGBZew4782EYw9lnS</td>\n      <td>Love Never Felt So Good (Karaoke Version)</td>\n      <td>0.0</td>\n      <td>False</td>\n      <td>Solo</td>\n      <td>1.0</td>\n      <td>1.0</td>\n      <td>79.0</td>\n      <td>2014-08-26</td>\n      <td>242858.0</td>\n      <td>...</td>\n      <td>0.0</td>\n      <td>0.000000</td>\n      <td>0.0</td>\n      <td>0.0</td>\n      <td>0.0</td>\n      <td>0.0</td>\n      <td>0.0</td>\n      <td>-1.0</td>\n      <td>No Match</td>\n      <td>0.000000</td>\n    </tr>\n    <tr>\n      <th>3</th>\n      <td>1YF8Nw7yjdTq36RLQqxExY</td>\n      <td>Too Close (Karaoke Version)</td>\n      <td>0.0</td>\n      <td>False</td>\n      <td>Solo</td>\n      <td>19.0</td>\n      <td>1.0</td>\n      <td>79.0</td>\n      <td>2014-08-26</td>\n      <td>249377.0</td>\n      <td>...</td>\n      <td>0.0</td>\n      <td>0.000000</td>\n      <td>0.0</td>\n      <td>0.0</td>\n      <td>0.0</td>\n      <td>0.0</td>\n      <td>0.0</td>\n      <td>-1.0</td>\n      <td>No Match</td>\n      <td>0.000000</td>\n    </tr>\n    <tr>\n      <th>4</th>\n      <td>5k4iLtspS2VUrYXoFfKCx6</td>\n      <td>Marilyn Monroe (Karaoke Version)</td>\n      <td>0.0</td>\n      <td>False</td>\n      <td>Solo</td>\n      <td>9.0</td>\n      <td>1.0</td>\n      <td>79.0</td>\n      <td>2014-08-26</td>\n      <td>266691.0</td>\n      <td>...</td>\n      <td>0.0</td>\n      <td>0.000000</td>\n      <td>0.0</td>\n      <td>0.0</td>\n      <td>0.0</td>\n      <td>0.0</td>\n      <td>0.0</td>\n      <td>-1.0</td>\n      <td>No Match</td>\n      <td>0.000000</td>\n    </tr>\n    <tr>\n      <th>...</th>\n      <td>...</td>\n      <td>...</td>\n      <td>...</td>\n      <td>...</td>\n      <td>...</td>\n      <td>...</td>\n      <td>...</td>\n      <td>...</td>\n      <td>...</td>\n      <td>...</td>\n      <td>...</td>\n      <td>...</td>\n      <td>...</td>\n      <td>...</td>\n      <td>...</td>\n      <td>...</td>\n      <td>...</td>\n      <td>...</td>\n      <td>...</td>\n      <td>...</td>\n      <td>...</td>\n    </tr>\n    <tr>\n      <th>283459</th>\n      <td>5ke0edZBlwRYu01wdej6xq</td>\n      <td>Let Her In</td>\n      <td>4.0</td>\n      <td>False</td>\n      <td>Solo</td>\n      <td>7.0</td>\n      <td>1.0</td>\n      <td>79.0</td>\n      <td>2019-08-23</td>\n      <td>183600.0</td>\n      <td>...</td>\n      <td>0.0</td>\n      <td>0.000000</td>\n      <td>0.0</td>\n      <td>0.0</td>\n      <td>0.0</td>\n      <td>0.0</td>\n      <td>0.0</td>\n      <td>-1.0</td>\n      <td>No Match</td>\n      <td>0.383562</td>\n    </tr>\n    <tr>\n      <th>283460</th>\n      <td>12kc7hUJKpArFQurhlNeNW</td>\n      <td>Stop and Think It Over</td>\n      <td>1.0</td>\n      <td>False</td>\n      <td>Solo</td>\n      <td>9.0</td>\n      <td>1.0</td>\n      <td>79.0</td>\n      <td>2019-08-23</td>\n      <td>154413.0</td>\n      <td>...</td>\n      <td>0.0</td>\n      <td>0.000000</td>\n      <td>0.0</td>\n      <td>0.0</td>\n      <td>0.0</td>\n      <td>0.0</td>\n      <td>0.0</td>\n      <td>-1.0</td>\n      <td>No Match</td>\n      <td>0.172603</td>\n    </tr>\n    <tr>\n      <th>283461</th>\n      <td>0lej8CemYKkWVHg77Xe1ky</td>\n      <td>A Man Holdin' on (To a Woman Lettin’ Go)</td>\n      <td>14.0</td>\n      <td>False</td>\n      <td>Collaboration</td>\n      <td>7.0</td>\n      <td>2.0</td>\n      <td>79.0</td>\n      <td>2019-08-23</td>\n      <td>231898.0</td>\n      <td>...</td>\n      <td>0.0</td>\n      <td>0.666667</td>\n      <td>0.0</td>\n      <td>1.0</td>\n      <td>2.0</td>\n      <td>0.5</td>\n      <td>2.0</td>\n      <td>2.0</td>\n      <td>1A 2A 3A 4A</td>\n      <td>0.191781</td>\n    </tr>\n    <tr>\n      <th>283462</th>\n      <td>7goArBQdsalqclSyaTywAS</td>\n      <td>Shimmy Shimmy Ya</td>\n      <td>7.0</td>\n      <td>False</td>\n      <td>Solo</td>\n      <td>8.0</td>\n      <td>1.0</td>\n      <td>78.0</td>\n      <td>2019-08-23</td>\n      <td>161200.0</td>\n      <td>...</td>\n      <td>0.0</td>\n      <td>0.000000</td>\n      <td>0.0</td>\n      <td>0.0</td>\n      <td>0.0</td>\n      <td>0.0</td>\n      <td>0.0</td>\n      <td>-1.0</td>\n      <td>No Match</td>\n      <td>0.287671</td>\n    </tr>\n    <tr>\n      <th>283463</th>\n      <td>6Fh2QgjCxL96dA3Gtpfr4Q</td>\n      <td>One Sweet Day (16-Bit Mariah Carey &amp; Boyz II M...</td>\n      <td>0.0</td>\n      <td>False</td>\n      <td>Solo</td>\n      <td>27.0</td>\n      <td>1.0</td>\n      <td>79.0</td>\n      <td>2019-08-26</td>\n      <td>260910.0</td>\n      <td>...</td>\n      <td>0.0</td>\n      <td>0.000000</td>\n      <td>0.0</td>\n      <td>0.0</td>\n      <td>0.0</td>\n      <td>0.0</td>\n      <td>0.0</td>\n      <td>-1.0</td>\n      <td>No Match</td>\n      <td>0.517808</td>\n    </tr>\n  </tbody>\n</table>\n<p>283464 rows × 47 columns</p>\n</div>"
     },
     "execution_count": 1,
     "metadata": {},
     "output_type": "execute_result"
    }
   ],
   "source": [
    "import pandas as pd\n",
    "\n",
    "df_hsp_song_collab = pd.read_csv(\"HSP_song_collab.csv\", sep=\",\")\n",
    "df_hsp_song_collab"
   ]
  },
  {
   "cell_type": "markdown",
   "source": [
    "## Setup for Superstar:\n",
    "\n",
    "within 3 years"
   ],
   "metadata": {
    "collapsed": false
   },
   "id": "4430fec788235cae"
  },
  {
   "cell_type": "code",
   "execution_count": 2,
   "outputs": [],
   "source": [
    "max_amount_days = 3*365\n",
    "max_amount_days\n",
    "\n",
    "past_years = 3"
   ],
   "metadata": {
    "collapsed": false,
    "ExecuteTime": {
     "end_time": "2024-05-06T15:35:37.166901100Z",
     "start_time": "2024-05-06T15:35:37.146901800Z"
    }
   },
   "id": "ef79cc8b6e995c3e"
  },
  {
   "cell_type": "code",
   "execution_count": 3,
   "outputs": [
    {
     "data": {
      "text/plain": "(Timestamp('2018-08-25 23:59:59'), Timestamp('2015-08-25 23:59:59'))"
     },
     "execution_count": 3,
     "metadata": {},
     "output_type": "execute_result"
    }
   ],
   "source": [
    "from sklearn.model_selection import train_test_split\n",
    "df_hsp_song_collab['date'] = pd.to_datetime(df_hsp_song_collab['release_date'])\n",
    "df_hsp_song_collab.sort_values(by=\"date\", inplace=True)\n",
    "\n",
    "split_day = df_hsp_song_collab[\"date\"].iloc[-1]  - pd.DateOffset(years=1)\n",
    "train_df = df_hsp_song_collab[(df_hsp_song_collab[\"date\"]  < split_day)].copy()\n",
    "test_df = df_hsp_song_collab[(df_hsp_song_collab[\"date\"]  >= split_day)].copy()\n",
    "#train_df, test_df = train_test_split(df_hsp_song_collab, test_size=0.25, shuffle=False)\n",
    "#train_df.drop(columns=\"date\", inplace=True)\n",
    "#test_df.drop(columns=\"date\", inplace=True)\n",
    "\n",
    "present = (train_df[\"date\"].iloc[-1]).replace(hour=23, minute=59, second=59)\n",
    "present_id = train_df[\"song_id\"].iloc[-1]\n",
    "border_day = present - pd.DateOffset(years=past_years) #border day doesn't belong to the timeframe\n",
    "\n",
    "present, border_day"
   ],
   "metadata": {
    "collapsed": false,
    "ExecuteTime": {
     "end_time": "2024-05-06T15:35:37.566902900Z",
     "start_time": "2024-05-06T15:35:37.163903300Z"
    }
   },
   "id": "f680972aaae5ee6a"
  },
  {
   "cell_type": "code",
   "execution_count": 4,
   "outputs": [
    {
     "data": {
      "text/plain": "                       song_id  \\\n229256  4Gsqw7pb3z4OPDUeES6Daz   \n229255  6tv2ZtGQcEiszwNpBx7wK2   \n229253  2Yg7VknojyXmbAKnmrSAMU   \n229245  7g9Vsa7alv8WuR9COxDu9k   \n229252  4H1sr1GwbRuVIHZWcfkR8R   \n...                        ...   \n283438  6WrGNqos7nZLxV7QWTgyNO   \n283437  13MADoRclDrvJXcH0l7CFA   \n283462  7goArBQdsalqclSyaTywAS   \n283449  2CZ46u5NGXQFXke3PMCuAK   \n283463  6Fh2QgjCxL96dA3Gtpfr4Q   \n\n                                                song_name  song_popularity  \\\n229256             Don't Speak (8-Bit No Doubt Emulation)              1.0   \n229255            Livin' It Up (8-Bit MONSTA X Emulation)              0.0   \n229253  Bitter Sweet Symphony (8-Bit The Verve Emulation)              2.0   \n229245   Sex and Candy (8-Bit Marcy Playground Emulation)              0.0   \n229252                                         Day Spring              0.0   \n...                                                   ...              ...   \n283438                            I'll Keep You Satisfied              1.0   \n283437                                You Were on My Mind              1.0   \n283462                                   Shimmy Shimmy Ya              7.0   \n283449                   Today I Started Loving You Again              3.0   \n283463  One Sweet Day (16-Bit Mariah Carey & Boyz II M...              0.0   \n\n        explicit      song_type  track_number  num_artists  \\\n229256     False           Solo          24.0          1.0   \n229255     False           Solo          23.0          1.0   \n229253     False           Solo          27.0          1.0   \n229245     False           Solo          21.0          1.0   \n229252     False           Solo           3.0          1.0   \n...          ...            ...           ...          ...   \n283438     False  Collaboration          23.0          2.0   \n283437     False           Solo           8.0          1.0   \n283462     False           Solo           8.0          1.0   \n283449     False           Solo          15.0          1.0   \n283463     False           Solo          27.0          1.0   \n\n        num_available_markets release_date  duration_ms  ...  \\\n229256                   79.0   2018-08-26     266069.0  ...   \n229255                   79.0   2018-08-26     222211.0  ...   \n229253                   79.0   2018-08-26     255423.0  ...   \n229245                   79.0   2018-08-26     167013.0  ...   \n229252                   79.0   2018-08-26     278400.0  ...   \n...                       ...          ...          ...  ...   \n283438                   78.0   2019-08-23     126360.0  ...   \n283437                   79.0   2019-08-23     163533.0  ...   \n283462                   78.0   2019-08-23     161200.0  ...   \n283449                   78.0   2019-08-23     172147.0  ...   \n283463                   79.0   2019-08-26     260910.0  ...   \n\n        closnesscentrality_y  clustering_y  degree_y  eccentricity_y  \\\n229256              0.000000      0.000000       0.0             0.0   \n229255              0.000000      0.000000       0.0             0.0   \n229253              0.000000      0.000000       0.0             0.0   \n229245              0.000000      0.000000       0.0             0.0   \n229252              0.000000      0.000000       0.0             0.0   \n...                      ...           ...       ...             ...   \n283438              1.000000      0.000000       1.0             1.0   \n283437              0.172504      0.333333       4.0            14.0   \n283462              0.000000      0.000000       0.0             0.0   \n283449              0.000000      0.000000       0.0             0.0   \n283463              0.000000      0.000000       0.0             0.0   \n\n        eigencentrality_y  weighted degree_y  Cluster_y    profile_y  \\\n229256           0.000000                0.0       -1.0     No Match   \n229255           0.000000                0.0       -1.0     No Match   \n229253           0.000000                0.0       -1.0     No Match   \n229245           0.000000                0.0       -1.0     No Match   \n229252           0.000000                0.0       -1.0     No Match   \n...                   ...                ...        ...          ...   \n283438           0.707107               62.0        4.0  1A 2B 3A 4A   \n283437           0.056054               16.0        0.0  1A 2A 3A 4A   \n283462           0.000000                0.0       -1.0     No Match   \n283449           0.000000                0.0       -1.0     No Match   \n283463           0.000000                0.0       -1.0     No Match   \n\n        years_on_charts       date  \n229256         0.000000 2018-08-26  \n229255         0.000000 2018-08-26  \n229253         0.000000 2018-08-26  \n229245         0.000000 2018-08-26  \n229252         0.000000 2018-08-26  \n...                 ...        ...  \n283438         0.134247 2019-08-23  \n283437         0.115068 2019-08-23  \n283462         0.287671 2019-08-23  \n283449         0.134247 2019-08-23  \n283463         0.517808 2019-08-26  \n\n[54250 rows x 48 columns]",
      "text/html": "<div>\n<style scoped>\n    .dataframe tbody tr th:only-of-type {\n        vertical-align: middle;\n    }\n\n    .dataframe tbody tr th {\n        vertical-align: top;\n    }\n\n    .dataframe thead th {\n        text-align: right;\n    }\n</style>\n<table border=\"1\" class=\"dataframe\">\n  <thead>\n    <tr style=\"text-align: right;\">\n      <th></th>\n      <th>song_id</th>\n      <th>song_name</th>\n      <th>song_popularity</th>\n      <th>explicit</th>\n      <th>song_type</th>\n      <th>track_number</th>\n      <th>num_artists</th>\n      <th>num_available_markets</th>\n      <th>release_date</th>\n      <th>duration_ms</th>\n      <th>...</th>\n      <th>closnesscentrality_y</th>\n      <th>clustering_y</th>\n      <th>degree_y</th>\n      <th>eccentricity_y</th>\n      <th>eigencentrality_y</th>\n      <th>weighted degree_y</th>\n      <th>Cluster_y</th>\n      <th>profile_y</th>\n      <th>years_on_charts</th>\n      <th>date</th>\n    </tr>\n  </thead>\n  <tbody>\n    <tr>\n      <th>229256</th>\n      <td>4Gsqw7pb3z4OPDUeES6Daz</td>\n      <td>Don't Speak (8-Bit No Doubt Emulation)</td>\n      <td>1.0</td>\n      <td>False</td>\n      <td>Solo</td>\n      <td>24.0</td>\n      <td>1.0</td>\n      <td>79.0</td>\n      <td>2018-08-26</td>\n      <td>266069.0</td>\n      <td>...</td>\n      <td>0.000000</td>\n      <td>0.000000</td>\n      <td>0.0</td>\n      <td>0.0</td>\n      <td>0.000000</td>\n      <td>0.0</td>\n      <td>-1.0</td>\n      <td>No Match</td>\n      <td>0.000000</td>\n      <td>2018-08-26</td>\n    </tr>\n    <tr>\n      <th>229255</th>\n      <td>6tv2ZtGQcEiszwNpBx7wK2</td>\n      <td>Livin' It Up (8-Bit MONSTA X Emulation)</td>\n      <td>0.0</td>\n      <td>False</td>\n      <td>Solo</td>\n      <td>23.0</td>\n      <td>1.0</td>\n      <td>79.0</td>\n      <td>2018-08-26</td>\n      <td>222211.0</td>\n      <td>...</td>\n      <td>0.000000</td>\n      <td>0.000000</td>\n      <td>0.0</td>\n      <td>0.0</td>\n      <td>0.000000</td>\n      <td>0.0</td>\n      <td>-1.0</td>\n      <td>No Match</td>\n      <td>0.000000</td>\n      <td>2018-08-26</td>\n    </tr>\n    <tr>\n      <th>229253</th>\n      <td>2Yg7VknojyXmbAKnmrSAMU</td>\n      <td>Bitter Sweet Symphony (8-Bit The Verve Emulation)</td>\n      <td>2.0</td>\n      <td>False</td>\n      <td>Solo</td>\n      <td>27.0</td>\n      <td>1.0</td>\n      <td>79.0</td>\n      <td>2018-08-26</td>\n      <td>255423.0</td>\n      <td>...</td>\n      <td>0.000000</td>\n      <td>0.000000</td>\n      <td>0.0</td>\n      <td>0.0</td>\n      <td>0.000000</td>\n      <td>0.0</td>\n      <td>-1.0</td>\n      <td>No Match</td>\n      <td>0.000000</td>\n      <td>2018-08-26</td>\n    </tr>\n    <tr>\n      <th>229245</th>\n      <td>7g9Vsa7alv8WuR9COxDu9k</td>\n      <td>Sex and Candy (8-Bit Marcy Playground Emulation)</td>\n      <td>0.0</td>\n      <td>False</td>\n      <td>Solo</td>\n      <td>21.0</td>\n      <td>1.0</td>\n      <td>79.0</td>\n      <td>2018-08-26</td>\n      <td>167013.0</td>\n      <td>...</td>\n      <td>0.000000</td>\n      <td>0.000000</td>\n      <td>0.0</td>\n      <td>0.0</td>\n      <td>0.000000</td>\n      <td>0.0</td>\n      <td>-1.0</td>\n      <td>No Match</td>\n      <td>0.000000</td>\n      <td>2018-08-26</td>\n    </tr>\n    <tr>\n      <th>229252</th>\n      <td>4H1sr1GwbRuVIHZWcfkR8R</td>\n      <td>Day Spring</td>\n      <td>0.0</td>\n      <td>False</td>\n      <td>Solo</td>\n      <td>3.0</td>\n      <td>1.0</td>\n      <td>79.0</td>\n      <td>2018-08-26</td>\n      <td>278400.0</td>\n      <td>...</td>\n      <td>0.000000</td>\n      <td>0.000000</td>\n      <td>0.0</td>\n      <td>0.0</td>\n      <td>0.000000</td>\n      <td>0.0</td>\n      <td>-1.0</td>\n      <td>No Match</td>\n      <td>0.000000</td>\n      <td>2018-08-26</td>\n    </tr>\n    <tr>\n      <th>...</th>\n      <td>...</td>\n      <td>...</td>\n      <td>...</td>\n      <td>...</td>\n      <td>...</td>\n      <td>...</td>\n      <td>...</td>\n      <td>...</td>\n      <td>...</td>\n      <td>...</td>\n      <td>...</td>\n      <td>...</td>\n      <td>...</td>\n      <td>...</td>\n      <td>...</td>\n      <td>...</td>\n      <td>...</td>\n      <td>...</td>\n      <td>...</td>\n      <td>...</td>\n      <td>...</td>\n    </tr>\n    <tr>\n      <th>283438</th>\n      <td>6WrGNqos7nZLxV7QWTgyNO</td>\n      <td>I'll Keep You Satisfied</td>\n      <td>1.0</td>\n      <td>False</td>\n      <td>Collaboration</td>\n      <td>23.0</td>\n      <td>2.0</td>\n      <td>78.0</td>\n      <td>2019-08-23</td>\n      <td>126360.0</td>\n      <td>...</td>\n      <td>1.000000</td>\n      <td>0.000000</td>\n      <td>1.0</td>\n      <td>1.0</td>\n      <td>0.707107</td>\n      <td>62.0</td>\n      <td>4.0</td>\n      <td>1A 2B 3A 4A</td>\n      <td>0.134247</td>\n      <td>2019-08-23</td>\n    </tr>\n    <tr>\n      <th>283437</th>\n      <td>13MADoRclDrvJXcH0l7CFA</td>\n      <td>You Were on My Mind</td>\n      <td>1.0</td>\n      <td>False</td>\n      <td>Solo</td>\n      <td>8.0</td>\n      <td>1.0</td>\n      <td>79.0</td>\n      <td>2019-08-23</td>\n      <td>163533.0</td>\n      <td>...</td>\n      <td>0.172504</td>\n      <td>0.333333</td>\n      <td>4.0</td>\n      <td>14.0</td>\n      <td>0.056054</td>\n      <td>16.0</td>\n      <td>0.0</td>\n      <td>1A 2A 3A 4A</td>\n      <td>0.115068</td>\n      <td>2019-08-23</td>\n    </tr>\n    <tr>\n      <th>283462</th>\n      <td>7goArBQdsalqclSyaTywAS</td>\n      <td>Shimmy Shimmy Ya</td>\n      <td>7.0</td>\n      <td>False</td>\n      <td>Solo</td>\n      <td>8.0</td>\n      <td>1.0</td>\n      <td>78.0</td>\n      <td>2019-08-23</td>\n      <td>161200.0</td>\n      <td>...</td>\n      <td>0.000000</td>\n      <td>0.000000</td>\n      <td>0.0</td>\n      <td>0.0</td>\n      <td>0.000000</td>\n      <td>0.0</td>\n      <td>-1.0</td>\n      <td>No Match</td>\n      <td>0.287671</td>\n      <td>2019-08-23</td>\n    </tr>\n    <tr>\n      <th>283449</th>\n      <td>2CZ46u5NGXQFXke3PMCuAK</td>\n      <td>Today I Started Loving You Again</td>\n      <td>3.0</td>\n      <td>False</td>\n      <td>Solo</td>\n      <td>15.0</td>\n      <td>1.0</td>\n      <td>78.0</td>\n      <td>2019-08-23</td>\n      <td>172147.0</td>\n      <td>...</td>\n      <td>0.000000</td>\n      <td>0.000000</td>\n      <td>0.0</td>\n      <td>0.0</td>\n      <td>0.000000</td>\n      <td>0.0</td>\n      <td>-1.0</td>\n      <td>No Match</td>\n      <td>0.134247</td>\n      <td>2019-08-23</td>\n    </tr>\n    <tr>\n      <th>283463</th>\n      <td>6Fh2QgjCxL96dA3Gtpfr4Q</td>\n      <td>One Sweet Day (16-Bit Mariah Carey &amp; Boyz II M...</td>\n      <td>0.0</td>\n      <td>False</td>\n      <td>Solo</td>\n      <td>27.0</td>\n      <td>1.0</td>\n      <td>79.0</td>\n      <td>2019-08-26</td>\n      <td>260910.0</td>\n      <td>...</td>\n      <td>0.000000</td>\n      <td>0.000000</td>\n      <td>0.0</td>\n      <td>0.0</td>\n      <td>0.000000</td>\n      <td>0.0</td>\n      <td>-1.0</td>\n      <td>No Match</td>\n      <td>0.517808</td>\n      <td>2019-08-26</td>\n    </tr>\n  </tbody>\n</table>\n<p>54250 rows × 48 columns</p>\n</div>"
     },
     "execution_count": 4,
     "metadata": {},
     "output_type": "execute_result"
    }
   ],
   "source": [
    "test_df"
   ],
   "metadata": {
    "collapsed": false,
    "ExecuteTime": {
     "end_time": "2024-05-06T15:35:37.643901800Z",
     "start_time": "2024-05-06T15:35:37.569903800Z"
    }
   },
   "id": "c5e9745b7e9b7a05"
  },
  {
   "cell_type": "code",
   "execution_count": 5,
   "outputs": [
    {
     "data": {
      "text/plain": "                       song_id                                 song_name  \\\n0       2F2KnlkMvRIQM2phyz1NYh                       Oh How I Love Jesus   \n81      70u8X9ELOchegFDnZIKrtU                    Wasted - Workout Remix   \n80      2NydVOx0JreMzW2YfdF8DV                               Born to Die   \n79      6kZ6EPli1wps476k58QoM3  Get The Girl Back (Instrumental Version)   \n78      5OK4VpBJf3fsZIqCFJY4F3                          Mamma Knows Best   \n...                        ...                                       ...   \n229130  3nXCl6A9GI9008YJb8biqz                           The Last Hippie   \n229131  16h5mVR7abqHXj8jBAiPdX                              Not Mushroom   \n229132  0U8KFcdXcJE7Rh1F12CGTF                                Time Lapse   \n229133  1v0WJzyINC5wcfzUFYUZh0                   Woman With the Red Lips   \n229128  6oYT6S7i5G9jwZUEDBqnh5                               Earthquaker   \n\n        song_popularity  explicit song_type  track_number  num_artists  \\\n0                   0.0     False      Solo           2.0          1.0   \n81                  6.0     False      Solo           7.0          1.0   \n80                 11.0     False      Solo           2.0          1.0   \n79                  0.0     False      Solo           2.0          1.0   \n78                  0.0     False      Solo           1.0          1.0   \n...                 ...       ...       ...           ...          ...   \n229130              0.0     False      Solo           5.0          1.0   \n229131              0.0     False      Solo           6.0          1.0   \n229132              0.0     False      Solo          21.0          1.0   \n229133              0.0     False      Solo          14.0          1.0   \n229128              0.0     False      Solo           3.0          1.0   \n\n        num_available_markets release_date  duration_ms  ...  \\\n0                        78.0   2014-08-26     127760.0  ...   \n81                       79.0   2014-08-26     295385.0  ...   \n80                       79.0   2014-08-26     253684.0  ...   \n79                       79.0   2014-08-26     212558.0  ...   \n78                       79.0   2014-08-26     194560.0  ...   \n...                       ...          ...          ...  ...   \n229130                   79.0   2018-08-25     385984.0  ...   \n229131                   79.0   2018-08-25     398629.0  ...   \n229132                   79.0   2018-08-25     535148.0  ...   \n229133                   79.0   2018-08-25     464300.0  ...   \n229128                   79.0   2018-08-25     394839.0  ...   \n\n        closnesscentrality_y  clustering_y  degree_y  eccentricity_y  \\\n0                        0.0           0.0       0.0             0.0   \n81                       0.0           0.0       0.0             0.0   \n80                       0.0           0.0       0.0             0.0   \n79                       0.0           0.0       0.0             0.0   \n78                       0.0           0.0       0.0             0.0   \n...                      ...           ...       ...             ...   \n229130                   0.0           0.0       0.0             0.0   \n229131                   0.0           0.0       0.0             0.0   \n229132                   0.0           0.0       0.0             0.0   \n229133                   0.0           0.0       0.0             0.0   \n229128                   0.0           0.0       0.0             0.0   \n\n        eigencentrality_y  weighted degree_y  Cluster_y  profile_y  \\\n0                     0.0                0.0       -1.0   No Match   \n81                    0.0                0.0       -1.0   No Match   \n80                    0.0                0.0       -1.0   No Match   \n79                    0.0                0.0       -1.0   No Match   \n78                    0.0                0.0       -1.0   No Match   \n...                   ...                ...        ...        ...   \n229130                0.0                0.0       -1.0   No Match   \n229131                0.0                0.0       -1.0   No Match   \n229132                0.0                0.0       -1.0   No Match   \n229133                0.0                0.0       -1.0   No Match   \n229128                0.0                0.0       -1.0   No Match   \n\n        years_on_charts       date  \n0                   0.0 2014-08-26  \n81                  0.0 2014-08-26  \n80                  0.0 2014-08-26  \n79                  0.0 2014-08-26  \n78                  0.0 2014-08-26  \n...                 ...        ...  \n229130              0.0 2018-08-25  \n229131              0.0 2018-08-25  \n229132              0.0 2018-08-25  \n229133              0.0 2018-08-25  \n229128              0.0 2018-08-25  \n\n[229214 rows x 48 columns]",
      "text/html": "<div>\n<style scoped>\n    .dataframe tbody tr th:only-of-type {\n        vertical-align: middle;\n    }\n\n    .dataframe tbody tr th {\n        vertical-align: top;\n    }\n\n    .dataframe thead th {\n        text-align: right;\n    }\n</style>\n<table border=\"1\" class=\"dataframe\">\n  <thead>\n    <tr style=\"text-align: right;\">\n      <th></th>\n      <th>song_id</th>\n      <th>song_name</th>\n      <th>song_popularity</th>\n      <th>explicit</th>\n      <th>song_type</th>\n      <th>track_number</th>\n      <th>num_artists</th>\n      <th>num_available_markets</th>\n      <th>release_date</th>\n      <th>duration_ms</th>\n      <th>...</th>\n      <th>closnesscentrality_y</th>\n      <th>clustering_y</th>\n      <th>degree_y</th>\n      <th>eccentricity_y</th>\n      <th>eigencentrality_y</th>\n      <th>weighted degree_y</th>\n      <th>Cluster_y</th>\n      <th>profile_y</th>\n      <th>years_on_charts</th>\n      <th>date</th>\n    </tr>\n  </thead>\n  <tbody>\n    <tr>\n      <th>0</th>\n      <td>2F2KnlkMvRIQM2phyz1NYh</td>\n      <td>Oh How I Love Jesus</td>\n      <td>0.0</td>\n      <td>False</td>\n      <td>Solo</td>\n      <td>2.0</td>\n      <td>1.0</td>\n      <td>78.0</td>\n      <td>2014-08-26</td>\n      <td>127760.0</td>\n      <td>...</td>\n      <td>0.0</td>\n      <td>0.0</td>\n      <td>0.0</td>\n      <td>0.0</td>\n      <td>0.0</td>\n      <td>0.0</td>\n      <td>-1.0</td>\n      <td>No Match</td>\n      <td>0.0</td>\n      <td>2014-08-26</td>\n    </tr>\n    <tr>\n      <th>81</th>\n      <td>70u8X9ELOchegFDnZIKrtU</td>\n      <td>Wasted - Workout Remix</td>\n      <td>6.0</td>\n      <td>False</td>\n      <td>Solo</td>\n      <td>7.0</td>\n      <td>1.0</td>\n      <td>79.0</td>\n      <td>2014-08-26</td>\n      <td>295385.0</td>\n      <td>...</td>\n      <td>0.0</td>\n      <td>0.0</td>\n      <td>0.0</td>\n      <td>0.0</td>\n      <td>0.0</td>\n      <td>0.0</td>\n      <td>-1.0</td>\n      <td>No Match</td>\n      <td>0.0</td>\n      <td>2014-08-26</td>\n    </tr>\n    <tr>\n      <th>80</th>\n      <td>2NydVOx0JreMzW2YfdF8DV</td>\n      <td>Born to Die</td>\n      <td>11.0</td>\n      <td>False</td>\n      <td>Solo</td>\n      <td>2.0</td>\n      <td>1.0</td>\n      <td>79.0</td>\n      <td>2014-08-26</td>\n      <td>253684.0</td>\n      <td>...</td>\n      <td>0.0</td>\n      <td>0.0</td>\n      <td>0.0</td>\n      <td>0.0</td>\n      <td>0.0</td>\n      <td>0.0</td>\n      <td>-1.0</td>\n      <td>No Match</td>\n      <td>0.0</td>\n      <td>2014-08-26</td>\n    </tr>\n    <tr>\n      <th>79</th>\n      <td>6kZ6EPli1wps476k58QoM3</td>\n      <td>Get The Girl Back (Instrumental Version)</td>\n      <td>0.0</td>\n      <td>False</td>\n      <td>Solo</td>\n      <td>2.0</td>\n      <td>1.0</td>\n      <td>79.0</td>\n      <td>2014-08-26</td>\n      <td>212558.0</td>\n      <td>...</td>\n      <td>0.0</td>\n      <td>0.0</td>\n      <td>0.0</td>\n      <td>0.0</td>\n      <td>0.0</td>\n      <td>0.0</td>\n      <td>-1.0</td>\n      <td>No Match</td>\n      <td>0.0</td>\n      <td>2014-08-26</td>\n    </tr>\n    <tr>\n      <th>78</th>\n      <td>5OK4VpBJf3fsZIqCFJY4F3</td>\n      <td>Mamma Knows Best</td>\n      <td>0.0</td>\n      <td>False</td>\n      <td>Solo</td>\n      <td>1.0</td>\n      <td>1.0</td>\n      <td>79.0</td>\n      <td>2014-08-26</td>\n      <td>194560.0</td>\n      <td>...</td>\n      <td>0.0</td>\n      <td>0.0</td>\n      <td>0.0</td>\n      <td>0.0</td>\n      <td>0.0</td>\n      <td>0.0</td>\n      <td>-1.0</td>\n      <td>No Match</td>\n      <td>0.0</td>\n      <td>2014-08-26</td>\n    </tr>\n    <tr>\n      <th>...</th>\n      <td>...</td>\n      <td>...</td>\n      <td>...</td>\n      <td>...</td>\n      <td>...</td>\n      <td>...</td>\n      <td>...</td>\n      <td>...</td>\n      <td>...</td>\n      <td>...</td>\n      <td>...</td>\n      <td>...</td>\n      <td>...</td>\n      <td>...</td>\n      <td>...</td>\n      <td>...</td>\n      <td>...</td>\n      <td>...</td>\n      <td>...</td>\n      <td>...</td>\n      <td>...</td>\n    </tr>\n    <tr>\n      <th>229130</th>\n      <td>3nXCl6A9GI9008YJb8biqz</td>\n      <td>The Last Hippie</td>\n      <td>0.0</td>\n      <td>False</td>\n      <td>Solo</td>\n      <td>5.0</td>\n      <td>1.0</td>\n      <td>79.0</td>\n      <td>2018-08-25</td>\n      <td>385984.0</td>\n      <td>...</td>\n      <td>0.0</td>\n      <td>0.0</td>\n      <td>0.0</td>\n      <td>0.0</td>\n      <td>0.0</td>\n      <td>0.0</td>\n      <td>-1.0</td>\n      <td>No Match</td>\n      <td>0.0</td>\n      <td>2018-08-25</td>\n    </tr>\n    <tr>\n      <th>229131</th>\n      <td>16h5mVR7abqHXj8jBAiPdX</td>\n      <td>Not Mushroom</td>\n      <td>0.0</td>\n      <td>False</td>\n      <td>Solo</td>\n      <td>6.0</td>\n      <td>1.0</td>\n      <td>79.0</td>\n      <td>2018-08-25</td>\n      <td>398629.0</td>\n      <td>...</td>\n      <td>0.0</td>\n      <td>0.0</td>\n      <td>0.0</td>\n      <td>0.0</td>\n      <td>0.0</td>\n      <td>0.0</td>\n      <td>-1.0</td>\n      <td>No Match</td>\n      <td>0.0</td>\n      <td>2018-08-25</td>\n    </tr>\n    <tr>\n      <th>229132</th>\n      <td>0U8KFcdXcJE7Rh1F12CGTF</td>\n      <td>Time Lapse</td>\n      <td>0.0</td>\n      <td>False</td>\n      <td>Solo</td>\n      <td>21.0</td>\n      <td>1.0</td>\n      <td>79.0</td>\n      <td>2018-08-25</td>\n      <td>535148.0</td>\n      <td>...</td>\n      <td>0.0</td>\n      <td>0.0</td>\n      <td>0.0</td>\n      <td>0.0</td>\n      <td>0.0</td>\n      <td>0.0</td>\n      <td>-1.0</td>\n      <td>No Match</td>\n      <td>0.0</td>\n      <td>2018-08-25</td>\n    </tr>\n    <tr>\n      <th>229133</th>\n      <td>1v0WJzyINC5wcfzUFYUZh0</td>\n      <td>Woman With the Red Lips</td>\n      <td>0.0</td>\n      <td>False</td>\n      <td>Solo</td>\n      <td>14.0</td>\n      <td>1.0</td>\n      <td>79.0</td>\n      <td>2018-08-25</td>\n      <td>464300.0</td>\n      <td>...</td>\n      <td>0.0</td>\n      <td>0.0</td>\n      <td>0.0</td>\n      <td>0.0</td>\n      <td>0.0</td>\n      <td>0.0</td>\n      <td>-1.0</td>\n      <td>No Match</td>\n      <td>0.0</td>\n      <td>2018-08-25</td>\n    </tr>\n    <tr>\n      <th>229128</th>\n      <td>6oYT6S7i5G9jwZUEDBqnh5</td>\n      <td>Earthquaker</td>\n      <td>0.0</td>\n      <td>False</td>\n      <td>Solo</td>\n      <td>3.0</td>\n      <td>1.0</td>\n      <td>79.0</td>\n      <td>2018-08-25</td>\n      <td>394839.0</td>\n      <td>...</td>\n      <td>0.0</td>\n      <td>0.0</td>\n      <td>0.0</td>\n      <td>0.0</td>\n      <td>0.0</td>\n      <td>0.0</td>\n      <td>-1.0</td>\n      <td>No Match</td>\n      <td>0.0</td>\n      <td>2018-08-25</td>\n    </tr>\n  </tbody>\n</table>\n<p>229214 rows × 48 columns</p>\n</div>"
     },
     "execution_count": 5,
     "metadata": {},
     "output_type": "execute_result"
    }
   ],
   "source": [
    "train_df"
   ],
   "metadata": {
    "collapsed": false,
    "ExecuteTime": {
     "end_time": "2024-05-06T15:35:37.771901900Z",
     "start_time": "2024-05-06T15:35:37.648903300Z"
    }
   },
   "id": "8e6541243bf56a7"
  },
  {
   "cell_type": "markdown",
   "source": [
    "### days and peak position:"
   ],
   "metadata": {
    "collapsed": false
   },
   "id": "47630050154da34"
  },
  {
   "cell_type": "code",
   "execution_count": 6,
   "outputs": [
    {
     "data": {
      "text/plain": "                       song_id  rank_score  peak_position  weeks_on_chart  \\\n0       3e9HZxeyfWwjeyPAMmWSSQ         100            100               7   \n1       5p7ujcrUXASCNwRaWNHR1C          99             99              11   \n2       2xLMifQCjDGFmkHkpNLD9h          98            100              20   \n3       3KkXRkHbMCARz0aVfEt68P          97             97               9   \n4       1rqqCSm0Qe4I9rUvWncaom          95             96              20   \n...                        ...         ...            ...             ...   \n250387  6vPS75nWOKkuH5WTLD8hDc           7             23               5   \n250388  2BCjoFA0nJlXBLRf3164bN           6              6               0   \n250389  7Gk1QKi2BAZCnrYlrYEDjC           4             11               4   \n250390  7rxev6ErpRE5VYaamjs4T3           2              2               0   \n250391  1TRvdHDqCIcTQpHTZbFttC           1              1               0   \n\n             week  \n0      2018-12-29  \n1      2018-12-29  \n2      2018-12-29  \n3      2018-12-29  \n4      2018-12-29  \n...           ...  \n250387 1964-01-04  \n250388 1964-01-04  \n250389 1964-01-04  \n250390 1964-01-04  \n250391 1964-01-04  \n\n[250392 rows x 5 columns]",
      "text/html": "<div>\n<style scoped>\n    .dataframe tbody tr th:only-of-type {\n        vertical-align: middle;\n    }\n\n    .dataframe tbody tr th {\n        vertical-align: top;\n    }\n\n    .dataframe thead th {\n        text-align: right;\n    }\n</style>\n<table border=\"1\" class=\"dataframe\">\n  <thead>\n    <tr style=\"text-align: right;\">\n      <th></th>\n      <th>song_id</th>\n      <th>rank_score</th>\n      <th>peak_position</th>\n      <th>weeks_on_chart</th>\n      <th>week</th>\n    </tr>\n  </thead>\n  <tbody>\n    <tr>\n      <th>0</th>\n      <td>3e9HZxeyfWwjeyPAMmWSSQ</td>\n      <td>100</td>\n      <td>100</td>\n      <td>7</td>\n      <td>2018-12-29</td>\n    </tr>\n    <tr>\n      <th>1</th>\n      <td>5p7ujcrUXASCNwRaWNHR1C</td>\n      <td>99</td>\n      <td>99</td>\n      <td>11</td>\n      <td>2018-12-29</td>\n    </tr>\n    <tr>\n      <th>2</th>\n      <td>2xLMifQCjDGFmkHkpNLD9h</td>\n      <td>98</td>\n      <td>100</td>\n      <td>20</td>\n      <td>2018-12-29</td>\n    </tr>\n    <tr>\n      <th>3</th>\n      <td>3KkXRkHbMCARz0aVfEt68P</td>\n      <td>97</td>\n      <td>97</td>\n      <td>9</td>\n      <td>2018-12-29</td>\n    </tr>\n    <tr>\n      <th>4</th>\n      <td>1rqqCSm0Qe4I9rUvWncaom</td>\n      <td>95</td>\n      <td>96</td>\n      <td>20</td>\n      <td>2018-12-29</td>\n    </tr>\n    <tr>\n      <th>...</th>\n      <td>...</td>\n      <td>...</td>\n      <td>...</td>\n      <td>...</td>\n      <td>...</td>\n    </tr>\n    <tr>\n      <th>250387</th>\n      <td>6vPS75nWOKkuH5WTLD8hDc</td>\n      <td>7</td>\n      <td>23</td>\n      <td>5</td>\n      <td>1964-01-04</td>\n    </tr>\n    <tr>\n      <th>250388</th>\n      <td>2BCjoFA0nJlXBLRf3164bN</td>\n      <td>6</td>\n      <td>6</td>\n      <td>0</td>\n      <td>1964-01-04</td>\n    </tr>\n    <tr>\n      <th>250389</th>\n      <td>7Gk1QKi2BAZCnrYlrYEDjC</td>\n      <td>4</td>\n      <td>11</td>\n      <td>4</td>\n      <td>1964-01-04</td>\n    </tr>\n    <tr>\n      <th>250390</th>\n      <td>7rxev6ErpRE5VYaamjs4T3</td>\n      <td>2</td>\n      <td>2</td>\n      <td>0</td>\n      <td>1964-01-04</td>\n    </tr>\n    <tr>\n      <th>250391</th>\n      <td>1TRvdHDqCIcTQpHTZbFttC</td>\n      <td>1</td>\n      <td>1</td>\n      <td>0</td>\n      <td>1964-01-04</td>\n    </tr>\n  </tbody>\n</table>\n<p>250392 rows × 5 columns</p>\n</div>"
     },
     "execution_count": 6,
     "metadata": {},
     "output_type": "execute_result"
    }
   ],
   "source": [
    "df_song_chart = pd.read_csv(\"../../MusicOSet/musicoset_popularity/song_chart.csv\", sep=\"\\t\")            #nur auf train daten, da rest unbekannt (für charts)\n",
    "df_song_chart['week'] = pd.to_datetime(df_song_chart['week']) #evtl später wegen runtime\n",
    "df_song_chart"
   ],
   "metadata": {
    "collapsed": false,
    "ExecuteTime": {
     "end_time": "2024-05-06T15:35:37.942902Z",
     "start_time": "2024-05-06T15:35:37.768902400Z"
    }
   },
   "id": "20650bbe3a810289"
  },
  {
   "cell_type": "code",
   "execution_count": 7,
   "outputs": [],
   "source": [
    "to_filter = df_song_chart[df_song_chart[\"song_id\"] == present_id] ## if len == 0 append 1 "
   ],
   "metadata": {
    "collapsed": false,
    "ExecuteTime": {
     "end_time": "2024-05-06T15:35:37.997900900Z",
     "start_time": "2024-05-06T15:35:37.940902200Z"
    }
   },
   "id": "24813ee11b8fda90"
  },
  {
   "cell_type": "code",
   "execution_count": 8,
   "outputs": [
    {
     "data": {
      "text/plain": "Empty DataFrame\nColumns: [song_id, rank_score, peak_position, weeks_on_chart, week]\nIndex: []",
      "text/html": "<div>\n<style scoped>\n    .dataframe tbody tr th:only-of-type {\n        vertical-align: middle;\n    }\n\n    .dataframe tbody tr th {\n        vertical-align: top;\n    }\n\n    .dataframe thead th {\n        text-align: right;\n    }\n</style>\n<table border=\"1\" class=\"dataframe\">\n  <thead>\n    <tr style=\"text-align: right;\">\n      <th></th>\n      <th>song_id</th>\n      <th>rank_score</th>\n      <th>peak_position</th>\n      <th>weeks_on_chart</th>\n      <th>week</th>\n    </tr>\n  </thead>\n  <tbody>\n  </tbody>\n</table>\n</div>"
     },
     "execution_count": 8,
     "metadata": {},
     "output_type": "execute_result"
    }
   ],
   "source": [
    "#mit bsp id\n",
    "\n",
    "to_filter = df_song_chart[df_song_chart[\"song_id\"] == \"7yq4Qj7cqayVTp3FF9CWbm\"]#.copy()\n",
    "#to_filter['week'] = pd.to_datetime(to_filter['week'])\n",
    "to_filter = to_filter[(to_filter[\"week\"] < present) & (to_filter[\"week\"] > border_day)]#pd.Timestamp(\"2015-05-02\"))] ist immer für die Vergangene Woche das chart datum?\n",
    "to_filter"
   ],
   "metadata": {
    "collapsed": false,
    "ExecuteTime": {
     "end_time": "2024-05-06T15:35:38.041903200Z",
     "start_time": "2024-05-06T15:35:37.971904800Z"
    }
   },
   "id": "89c08e57f26dfe48"
  },
  {
   "cell_type": "code",
   "execution_count": 9,
   "outputs": [
    {
     "ename": "ValueError",
     "evalue": "attempt to get argmin of an empty sequence",
     "output_type": "error",
     "traceback": [
      "\u001B[1;31m---------------------------------------------------------------------------\u001B[0m",
      "\u001B[1;31mValueError\u001B[0m                                Traceback (most recent call last)",
      "Cell \u001B[1;32mIn[9], line 2\u001B[0m\n\u001B[0;32m      1\u001B[0m min_peak_position \u001B[38;5;241m=\u001B[39m to_filter[\u001B[38;5;124m\"\u001B[39m\u001B[38;5;124mpeak_position\u001B[39m\u001B[38;5;124m\"\u001B[39m]\u001B[38;5;241m.\u001B[39mmin()\n\u001B[1;32m----> 2\u001B[0m peak_position_index \u001B[38;5;241m=\u001B[39m \u001B[43mto_filter\u001B[49m\u001B[43m[\u001B[49m\u001B[38;5;124;43m\"\u001B[39;49m\u001B[38;5;124;43mpeak_position\u001B[39;49m\u001B[38;5;124;43m\"\u001B[39;49m\u001B[43m]\u001B[49m\u001B[38;5;241;43m.\u001B[39;49m\u001B[43midxmin\u001B[49m\u001B[43m(\u001B[49m\u001B[43m)\u001B[49m  \u001B[38;5;66;03m#returns first occurance and therfore newer pos\u001B[39;00m\n\u001B[0;32m      3\u001B[0m min_peak_position, peak_position_index\n",
      "File \u001B[1;32m~\\anaconda3\\envs\\Ba_first_tries\\lib\\site-packages\\pandas\\core\\series.py:2460\u001B[0m, in \u001B[0;36mSeries.idxmin\u001B[1;34m(self, axis, skipna, *args, **kwargs)\u001B[0m\n\u001B[0;32m   2396\u001B[0m \u001B[38;5;250m\u001B[39m\u001B[38;5;124;03m\"\"\"\u001B[39;00m\n\u001B[0;32m   2397\u001B[0m \u001B[38;5;124;03mReturn the row label of the minimum value.\u001B[39;00m\n\u001B[0;32m   2398\u001B[0m \n\u001B[1;32m   (...)\u001B[0m\n\u001B[0;32m   2456\u001B[0m \u001B[38;5;124;03mnan\u001B[39;00m\n\u001B[0;32m   2457\u001B[0m \u001B[38;5;124;03m\"\"\"\u001B[39;00m\n\u001B[0;32m   2458\u001B[0m \u001B[38;5;66;03m# error: Argument 1 to \"argmin\" of \"IndexOpsMixin\" has incompatible type \"Union\u001B[39;00m\n\u001B[0;32m   2459\u001B[0m \u001B[38;5;66;03m# [int, Literal['index', 'columns']]\"; expected \"Optional[int]\"\u001B[39;00m\n\u001B[1;32m-> 2460\u001B[0m i \u001B[38;5;241m=\u001B[39m \u001B[38;5;28;43mself\u001B[39;49m\u001B[38;5;241;43m.\u001B[39;49m\u001B[43margmin\u001B[49m\u001B[43m(\u001B[49m\u001B[43maxis\u001B[49m\u001B[43m,\u001B[49m\u001B[43m \u001B[49m\u001B[43mskipna\u001B[49m\u001B[43m,\u001B[49m\u001B[43m \u001B[49m\u001B[38;5;241;43m*\u001B[39;49m\u001B[43margs\u001B[49m\u001B[43m,\u001B[49m\u001B[43m \u001B[49m\u001B[38;5;241;43m*\u001B[39;49m\u001B[38;5;241;43m*\u001B[39;49m\u001B[43mkwargs\u001B[49m\u001B[43m)\u001B[49m  \u001B[38;5;66;03m# type: ignore[arg-type]\u001B[39;00m\n\u001B[0;32m   2461\u001B[0m \u001B[38;5;28;01mif\u001B[39;00m i \u001B[38;5;241m==\u001B[39m \u001B[38;5;241m-\u001B[39m\u001B[38;5;241m1\u001B[39m:\n\u001B[0;32m   2462\u001B[0m     \u001B[38;5;28;01mreturn\u001B[39;00m np\u001B[38;5;241m.\u001B[39mnan\n",
      "File \u001B[1;32m~\\anaconda3\\envs\\Ba_first_tries\\lib\\site-packages\\pandas\\core\\base.py:742\u001B[0m, in \u001B[0;36mIndexOpsMixin.argmin\u001B[1;34m(self, axis, skipna, *args, **kwargs)\u001B[0m\n\u001B[0;32m    738\u001B[0m         \u001B[38;5;28;01mreturn\u001B[39;00m delegate\u001B[38;5;241m.\u001B[39margmin()\n\u001B[0;32m    739\u001B[0m \u001B[38;5;28;01melse\u001B[39;00m:\n\u001B[0;32m    740\u001B[0m     \u001B[38;5;66;03m# error: Incompatible return value type (got \"Union[int, ndarray]\", expected\u001B[39;00m\n\u001B[0;32m    741\u001B[0m     \u001B[38;5;66;03m# \"int\")\u001B[39;00m\n\u001B[1;32m--> 742\u001B[0m     \u001B[38;5;28;01mreturn\u001B[39;00m \u001B[43mnanops\u001B[49m\u001B[38;5;241;43m.\u001B[39;49m\u001B[43mnanargmin\u001B[49m\u001B[43m(\u001B[49m\u001B[43m  \u001B[49m\u001B[38;5;66;43;03m# type: ignore[return-value]\u001B[39;49;00m\n\u001B[0;32m    743\u001B[0m \u001B[43m        \u001B[49m\u001B[43mdelegate\u001B[49m\u001B[43m,\u001B[49m\u001B[43m \u001B[49m\u001B[43mskipna\u001B[49m\u001B[38;5;241;43m=\u001B[39;49m\u001B[43mskipna\u001B[49m\n\u001B[0;32m    744\u001B[0m \u001B[43m    \u001B[49m\u001B[43m)\u001B[49m\n",
      "File \u001B[1;32m~\\anaconda3\\envs\\Ba_first_tries\\lib\\site-packages\\pandas\\core\\nanops.py:96\u001B[0m, in \u001B[0;36mdisallow.__call__.<locals>._f\u001B[1;34m(*args, **kwargs)\u001B[0m\n\u001B[0;32m     94\u001B[0m \u001B[38;5;28;01mtry\u001B[39;00m:\n\u001B[0;32m     95\u001B[0m     \u001B[38;5;28;01mwith\u001B[39;00m np\u001B[38;5;241m.\u001B[39merrstate(invalid\u001B[38;5;241m=\u001B[39m\u001B[38;5;124m\"\u001B[39m\u001B[38;5;124mignore\u001B[39m\u001B[38;5;124m\"\u001B[39m):\n\u001B[1;32m---> 96\u001B[0m         \u001B[38;5;28;01mreturn\u001B[39;00m \u001B[43mf\u001B[49m\u001B[43m(\u001B[49m\u001B[38;5;241;43m*\u001B[39;49m\u001B[43margs\u001B[49m\u001B[43m,\u001B[49m\u001B[43m \u001B[49m\u001B[38;5;241;43m*\u001B[39;49m\u001B[38;5;241;43m*\u001B[39;49m\u001B[43mkwargs\u001B[49m\u001B[43m)\u001B[49m\n\u001B[0;32m     97\u001B[0m \u001B[38;5;28;01mexcept\u001B[39;00m \u001B[38;5;167;01mValueError\u001B[39;00m \u001B[38;5;28;01mas\u001B[39;00m e:\n\u001B[0;32m     98\u001B[0m     \u001B[38;5;66;03m# we want to transform an object array\u001B[39;00m\n\u001B[0;32m     99\u001B[0m     \u001B[38;5;66;03m# ValueError message to the more typical TypeError\u001B[39;00m\n\u001B[0;32m    100\u001B[0m     \u001B[38;5;66;03m# e.g. this is normally a disallowed function on\u001B[39;00m\n\u001B[0;32m    101\u001B[0m     \u001B[38;5;66;03m# object arrays that contain strings\u001B[39;00m\n\u001B[0;32m    102\u001B[0m     \u001B[38;5;28;01mif\u001B[39;00m is_object_dtype(args[\u001B[38;5;241m0\u001B[39m]):\n",
      "File \u001B[1;32m~\\anaconda3\\envs\\Ba_first_tries\\lib\\site-packages\\pandas\\core\\nanops.py:1193\u001B[0m, in \u001B[0;36mnanargmin\u001B[1;34m(values, axis, skipna, mask)\u001B[0m\n\u001B[0;32m   1191\u001B[0m values, mask, _, _, _ \u001B[38;5;241m=\u001B[39m _get_values(values, \u001B[38;5;28;01mTrue\u001B[39;00m, fill_value_typ\u001B[38;5;241m=\u001B[39m\u001B[38;5;124m\"\u001B[39m\u001B[38;5;124m+inf\u001B[39m\u001B[38;5;124m\"\u001B[39m, mask\u001B[38;5;241m=\u001B[39mmask)\n\u001B[0;32m   1192\u001B[0m \u001B[38;5;66;03m# error: Need type annotation for 'result'\u001B[39;00m\n\u001B[1;32m-> 1193\u001B[0m result \u001B[38;5;241m=\u001B[39m \u001B[43mvalues\u001B[49m\u001B[38;5;241;43m.\u001B[39;49m\u001B[43margmin\u001B[49m\u001B[43m(\u001B[49m\u001B[43maxis\u001B[49m\u001B[43m)\u001B[49m  \u001B[38;5;66;03m# type: ignore[var-annotated]\u001B[39;00m\n\u001B[0;32m   1194\u001B[0m result \u001B[38;5;241m=\u001B[39m _maybe_arg_null_out(result, axis, mask, skipna)\n\u001B[0;32m   1195\u001B[0m \u001B[38;5;28;01mreturn\u001B[39;00m result\n",
      "\u001B[1;31mValueError\u001B[0m: attempt to get argmin of an empty sequence"
     ]
    }
   ],
   "source": [
    "min_peak_position = to_filter[\"peak_position\"].min()\n",
    "peak_position_index = to_filter[\"peak_position\"].idxmin()  #returns first occurance and therfore newer pos\n",
    "min_peak_position, peak_position_index #best chart placement (append)"
   ],
   "metadata": {
    "collapsed": false,
    "ExecuteTime": {
     "end_time": "2024-05-06T15:35:39.580902200Z",
     "start_time": "2024-05-06T15:35:38.002904500Z"
    }
   },
   "id": "80b27f25a9fbd3b9"
  },
  {
   "cell_type": "code",
   "execution_count": null,
   "outputs": [],
   "source": [
    "peak_week = to_filter.loc[peak_position_index][\"week\"]\n",
    "peak_week"
   ],
   "metadata": {
    "collapsed": false,
    "ExecuteTime": {
     "start_time": "2024-05-06T15:35:39.578901300Z"
    }
   },
   "id": "de5304aecf37b85b"
  },
  {
   "cell_type": "code",
   "execution_count": null,
   "outputs": [],
   "source": [
    "distance = abs(peak_week - present) #distance from peak chart placement\n",
    "distance"
   ],
   "metadata": {
    "collapsed": false,
    "ExecuteTime": {
     "start_time": "2024-05-06T15:35:39.580902200Z"
    }
   },
   "id": "dd59e797e374a51f"
  },
  {
   "cell_type": "code",
   "execution_count": null,
   "outputs": [],
   "source": [
    "seconds_float = distance.total_seconds()  #distance as float append"
   ],
   "metadata": {
    "collapsed": false,
    "ExecuteTime": {
     "start_time": "2024-05-06T15:35:39.582902200Z"
    }
   },
   "id": "1a772b2651234628"
  },
  {
   "cell_type": "markdown",
   "source": [
    "### Amount of Hits:"
   ],
   "metadata": {
    "collapsed": false
   },
   "id": "940f8d1b0a109938"
  },
  {
   "cell_type": "code",
   "execution_count": null,
   "outputs": [],
   "source": [
    "\n",
    "to_filter = df_song_chart.copy()\n",
    "#to_filter['week'] = pd.to_datetime(to_filter['week'])\n",
    "to_filter = to_filter[(to_filter[\"week\"] < present) & (to_filter[\"week\"] > border_day)]\n",
    "to_filter"
   ],
   "metadata": {
    "collapsed": false,
    "ExecuteTime": {
     "start_time": "2024-05-06T15:35:39.584901300Z"
    }
   },
   "id": "7a32411735ca3933"
  },
  {
   "cell_type": "code",
   "execution_count": null,
   "outputs": [],
   "source": [
    "df_songs = pd.read_csv(\"../../MusicOSet/musicoset_metadata/songs.csv\", sep=\"\\t\")            #nur auf train daten, da rest unbekannt (für charts)\n",
    "df_songs[\"artists_ids\"] = df_songs[\"artists\"].apply(lambda x: list((eval(x)).keys()))\n",
    "df_songs = df_songs[[\"song_id\", 'artists_ids']]\n",
    "df_songs"
   ],
   "metadata": {
    "collapsed": false,
    "ExecuteTime": {
     "end_time": "2024-05-06T15:35:39.588903200Z",
     "start_time": "2024-05-06T15:35:39.585903100Z"
    }
   },
   "id": "5b9636af61287d21"
  },
  {
   "cell_type": "code",
   "execution_count": null,
   "outputs": [],
   "source": [
    "df_songs[\"artists_ids\"].iloc[3]"
   ],
   "metadata": {
    "collapsed": false,
    "ExecuteTime": {
     "start_time": "2024-05-06T15:35:39.587901500Z"
    }
   },
   "id": "1bf5cbe5569ecbbe"
  },
  {
   "cell_type": "code",
   "execution_count": null,
   "outputs": [],
   "source": [
    "df_num_hit = pd.merge(to_filter, df_songs)\n",
    "df_num_hit = df_num_hit.drop_duplicates(subset=[\"song_id\"])\n",
    "#df_num_hit[df_num_hit[\"artists_ids\"].apply(lambda x: len(x) > 1)]\n",
    "df_num_hit"
   ],
   "metadata": {
    "collapsed": false,
    "ExecuteTime": {
     "end_time": "2024-05-06T15:35:39.589902700Z",
     "start_time": "2024-05-06T15:35:39.589902700Z"
    }
   },
   "id": "3cab5c09847cd7d7"
  },
  {
   "cell_type": "code",
   "execution_count": null,
   "outputs": [],
   "source": [
    "df_counts = df_num_hit.groupby('song_id')['artists_ids'].apply(lambda x: list(x)).reset_index()\n",
    "df_counts[\"artists_ids\"] = df_counts[\"artists_ids\"].apply(lambda x: [set(row_list) for row_list in x ])\n",
    "#df_counts[\"artists_ids\"].apply(lambda x: [print(elt) for elt in x])\n",
    "df_counts[\"cardinality\"] = 0\n",
    "for index, id_sets in enumerate(df_counts[\"artists_ids\"]):\n",
    "    count = 0\n",
    "    if len(id_sets) > 1:\n",
    "        count +=1\n",
    "        for i in range(len(id_sets)):\n",
    "            for j in range(i+1, len(id_sets)):\n",
    "                if id_sets[i] != id_sets[j]:\n",
    "                    count += 1\n",
    "    elif len(id_sets) == 1:\n",
    "        count = 1\n",
    "    df_counts[\"cardinality\"].iloc[index] = count                    \n",
    "df_counts"
   ],
   "metadata": {
    "collapsed": false,
    "ExecuteTime": {
     "start_time": "2024-05-06T15:35:39.591901600Z"
    }
   },
   "id": "e63a8c7696bf0beb"
  },
  {
   "cell_type": "markdown",
   "source": [
    "apparently no dupliacates exist"
   ],
   "metadata": {
    "collapsed": false
   },
   "id": "8826d0bebacc9dd2"
  },
  {
   "cell_type": "code",
   "execution_count": null,
   "outputs": [],
   "source": [
    "df_num_hit = df_num_hit[df_num_hit[\"artists_ids\"].apply(lambda x: \"17lzZA2AlOHwCwFALHttmp\" in x)] #bsp artist_id \n",
    "#amount_hits = df_num_hit[\"song_id\"].nunique()                                                              #werden identische songs mit anderen Artists seperat gezählt? (intuitive ja) include it\n",
    "#amount_hits\n",
    "df_num_hit"
   ],
   "metadata": {
    "collapsed": false,
    "ExecuteTime": {
     "start_time": "2024-05-06T15:35:39.592901300Z"
    }
   },
   "id": "eae7acd129790081"
  },
  {
   "cell_type": "markdown",
   "source": [
    "## Loop:"
   ],
   "metadata": {
    "collapsed": false
   },
   "id": "795367ccfd6250"
  },
  {
   "cell_type": "code",
   "execution_count": 10,
   "outputs": [
    {
     "data": {
      "text/plain": "                       song_id                                 song_name  \\\n0       2F2KnlkMvRIQM2phyz1NYh                       Oh How I Love Jesus   \n81      70u8X9ELOchegFDnZIKrtU                    Wasted - Workout Remix   \n80      2NydVOx0JreMzW2YfdF8DV                               Born to Die   \n79      6kZ6EPli1wps476k58QoM3  Get The Girl Back (Instrumental Version)   \n78      5OK4VpBJf3fsZIqCFJY4F3                          Mamma Knows Best   \n...                        ...                                       ...   \n229130  3nXCl6A9GI9008YJb8biqz                           The Last Hippie   \n229131  16h5mVR7abqHXj8jBAiPdX                              Not Mushroom   \n229132  0U8KFcdXcJE7Rh1F12CGTF                                Time Lapse   \n229133  1v0WJzyINC5wcfzUFYUZh0                   Woman With the Red Lips   \n229128  6oYT6S7i5G9jwZUEDBqnh5                               Earthquaker   \n\n        song_popularity  explicit song_type  track_number  num_artists  \\\n0                   0.0     False      Solo           2.0          1.0   \n81                  6.0     False      Solo           7.0          1.0   \n80                 11.0     False      Solo           2.0          1.0   \n79                  0.0     False      Solo           2.0          1.0   \n78                  0.0     False      Solo           1.0          1.0   \n...                 ...       ...       ...           ...          ...   \n229130              0.0     False      Solo           5.0          1.0   \n229131              0.0     False      Solo           6.0          1.0   \n229132              0.0     False      Solo          21.0          1.0   \n229133              0.0     False      Solo          14.0          1.0   \n229128              0.0     False      Solo           3.0          1.0   \n\n        num_available_markets release_date  duration_ms  ...  \\\n0                        78.0   2014-08-26     127760.0  ...   \n81                       79.0   2014-08-26     295385.0  ...   \n80                       79.0   2014-08-26     253684.0  ...   \n79                       79.0   2014-08-26     212558.0  ...   \n78                       79.0   2014-08-26     194560.0  ...   \n...                       ...          ...          ...  ...   \n229130                   79.0   2018-08-25     385984.0  ...   \n229131                   79.0   2018-08-25     398629.0  ...   \n229132                   79.0   2018-08-25     535148.0  ...   \n229133                   79.0   2018-08-25     464300.0  ...   \n229128                   79.0   2018-08-25     394839.0  ...   \n\n        closnesscentrality_y  clustering_y  degree_y  eccentricity_y  \\\n0                        0.0           0.0       0.0             0.0   \n81                       0.0           0.0       0.0             0.0   \n80                       0.0           0.0       0.0             0.0   \n79                       0.0           0.0       0.0             0.0   \n78                       0.0           0.0       0.0             0.0   \n...                      ...           ...       ...             ...   \n229130                   0.0           0.0       0.0             0.0   \n229131                   0.0           0.0       0.0             0.0   \n229132                   0.0           0.0       0.0             0.0   \n229133                   0.0           0.0       0.0             0.0   \n229128                   0.0           0.0       0.0             0.0   \n\n        eigencentrality_y  weighted degree_y  Cluster_y  profile_y  \\\n0                     0.0                0.0       -1.0   No Match   \n81                    0.0                0.0       -1.0   No Match   \n80                    0.0                0.0       -1.0   No Match   \n79                    0.0                0.0       -1.0   No Match   \n78                    0.0                0.0       -1.0   No Match   \n...                   ...                ...        ...        ...   \n229130                0.0                0.0       -1.0   No Match   \n229131                0.0                0.0       -1.0   No Match   \n229132                0.0                0.0       -1.0   No Match   \n229133                0.0                0.0       -1.0   No Match   \n229128                0.0                0.0       -1.0   No Match   \n\n        years_on_charts       date  \n0                   0.0 2014-08-26  \n81                  0.0 2014-08-26  \n80                  0.0 2014-08-26  \n79                  0.0 2014-08-26  \n78                  0.0 2014-08-26  \n...                 ...        ...  \n229130              0.0 2018-08-25  \n229131              0.0 2018-08-25  \n229132              0.0 2018-08-25  \n229133              0.0 2018-08-25  \n229128              0.0 2018-08-25  \n\n[229214 rows x 48 columns]",
      "text/html": "<div>\n<style scoped>\n    .dataframe tbody tr th:only-of-type {\n        vertical-align: middle;\n    }\n\n    .dataframe tbody tr th {\n        vertical-align: top;\n    }\n\n    .dataframe thead th {\n        text-align: right;\n    }\n</style>\n<table border=\"1\" class=\"dataframe\">\n  <thead>\n    <tr style=\"text-align: right;\">\n      <th></th>\n      <th>song_id</th>\n      <th>song_name</th>\n      <th>song_popularity</th>\n      <th>explicit</th>\n      <th>song_type</th>\n      <th>track_number</th>\n      <th>num_artists</th>\n      <th>num_available_markets</th>\n      <th>release_date</th>\n      <th>duration_ms</th>\n      <th>...</th>\n      <th>closnesscentrality_y</th>\n      <th>clustering_y</th>\n      <th>degree_y</th>\n      <th>eccentricity_y</th>\n      <th>eigencentrality_y</th>\n      <th>weighted degree_y</th>\n      <th>Cluster_y</th>\n      <th>profile_y</th>\n      <th>years_on_charts</th>\n      <th>date</th>\n    </tr>\n  </thead>\n  <tbody>\n    <tr>\n      <th>0</th>\n      <td>2F2KnlkMvRIQM2phyz1NYh</td>\n      <td>Oh How I Love Jesus</td>\n      <td>0.0</td>\n      <td>False</td>\n      <td>Solo</td>\n      <td>2.0</td>\n      <td>1.0</td>\n      <td>78.0</td>\n      <td>2014-08-26</td>\n      <td>127760.0</td>\n      <td>...</td>\n      <td>0.0</td>\n      <td>0.0</td>\n      <td>0.0</td>\n      <td>0.0</td>\n      <td>0.0</td>\n      <td>0.0</td>\n      <td>-1.0</td>\n      <td>No Match</td>\n      <td>0.0</td>\n      <td>2014-08-26</td>\n    </tr>\n    <tr>\n      <th>81</th>\n      <td>70u8X9ELOchegFDnZIKrtU</td>\n      <td>Wasted - Workout Remix</td>\n      <td>6.0</td>\n      <td>False</td>\n      <td>Solo</td>\n      <td>7.0</td>\n      <td>1.0</td>\n      <td>79.0</td>\n      <td>2014-08-26</td>\n      <td>295385.0</td>\n      <td>...</td>\n      <td>0.0</td>\n      <td>0.0</td>\n      <td>0.0</td>\n      <td>0.0</td>\n      <td>0.0</td>\n      <td>0.0</td>\n      <td>-1.0</td>\n      <td>No Match</td>\n      <td>0.0</td>\n      <td>2014-08-26</td>\n    </tr>\n    <tr>\n      <th>80</th>\n      <td>2NydVOx0JreMzW2YfdF8DV</td>\n      <td>Born to Die</td>\n      <td>11.0</td>\n      <td>False</td>\n      <td>Solo</td>\n      <td>2.0</td>\n      <td>1.0</td>\n      <td>79.0</td>\n      <td>2014-08-26</td>\n      <td>253684.0</td>\n      <td>...</td>\n      <td>0.0</td>\n      <td>0.0</td>\n      <td>0.0</td>\n      <td>0.0</td>\n      <td>0.0</td>\n      <td>0.0</td>\n      <td>-1.0</td>\n      <td>No Match</td>\n      <td>0.0</td>\n      <td>2014-08-26</td>\n    </tr>\n    <tr>\n      <th>79</th>\n      <td>6kZ6EPli1wps476k58QoM3</td>\n      <td>Get The Girl Back (Instrumental Version)</td>\n      <td>0.0</td>\n      <td>False</td>\n      <td>Solo</td>\n      <td>2.0</td>\n      <td>1.0</td>\n      <td>79.0</td>\n      <td>2014-08-26</td>\n      <td>212558.0</td>\n      <td>...</td>\n      <td>0.0</td>\n      <td>0.0</td>\n      <td>0.0</td>\n      <td>0.0</td>\n      <td>0.0</td>\n      <td>0.0</td>\n      <td>-1.0</td>\n      <td>No Match</td>\n      <td>0.0</td>\n      <td>2014-08-26</td>\n    </tr>\n    <tr>\n      <th>78</th>\n      <td>5OK4VpBJf3fsZIqCFJY4F3</td>\n      <td>Mamma Knows Best</td>\n      <td>0.0</td>\n      <td>False</td>\n      <td>Solo</td>\n      <td>1.0</td>\n      <td>1.0</td>\n      <td>79.0</td>\n      <td>2014-08-26</td>\n      <td>194560.0</td>\n      <td>...</td>\n      <td>0.0</td>\n      <td>0.0</td>\n      <td>0.0</td>\n      <td>0.0</td>\n      <td>0.0</td>\n      <td>0.0</td>\n      <td>-1.0</td>\n      <td>No Match</td>\n      <td>0.0</td>\n      <td>2014-08-26</td>\n    </tr>\n    <tr>\n      <th>...</th>\n      <td>...</td>\n      <td>...</td>\n      <td>...</td>\n      <td>...</td>\n      <td>...</td>\n      <td>...</td>\n      <td>...</td>\n      <td>...</td>\n      <td>...</td>\n      <td>...</td>\n      <td>...</td>\n      <td>...</td>\n      <td>...</td>\n      <td>...</td>\n      <td>...</td>\n      <td>...</td>\n      <td>...</td>\n      <td>...</td>\n      <td>...</td>\n      <td>...</td>\n      <td>...</td>\n    </tr>\n    <tr>\n      <th>229130</th>\n      <td>3nXCl6A9GI9008YJb8biqz</td>\n      <td>The Last Hippie</td>\n      <td>0.0</td>\n      <td>False</td>\n      <td>Solo</td>\n      <td>5.0</td>\n      <td>1.0</td>\n      <td>79.0</td>\n      <td>2018-08-25</td>\n      <td>385984.0</td>\n      <td>...</td>\n      <td>0.0</td>\n      <td>0.0</td>\n      <td>0.0</td>\n      <td>0.0</td>\n      <td>0.0</td>\n      <td>0.0</td>\n      <td>-1.0</td>\n      <td>No Match</td>\n      <td>0.0</td>\n      <td>2018-08-25</td>\n    </tr>\n    <tr>\n      <th>229131</th>\n      <td>16h5mVR7abqHXj8jBAiPdX</td>\n      <td>Not Mushroom</td>\n      <td>0.0</td>\n      <td>False</td>\n      <td>Solo</td>\n      <td>6.0</td>\n      <td>1.0</td>\n      <td>79.0</td>\n      <td>2018-08-25</td>\n      <td>398629.0</td>\n      <td>...</td>\n      <td>0.0</td>\n      <td>0.0</td>\n      <td>0.0</td>\n      <td>0.0</td>\n      <td>0.0</td>\n      <td>0.0</td>\n      <td>-1.0</td>\n      <td>No Match</td>\n      <td>0.0</td>\n      <td>2018-08-25</td>\n    </tr>\n    <tr>\n      <th>229132</th>\n      <td>0U8KFcdXcJE7Rh1F12CGTF</td>\n      <td>Time Lapse</td>\n      <td>0.0</td>\n      <td>False</td>\n      <td>Solo</td>\n      <td>21.0</td>\n      <td>1.0</td>\n      <td>79.0</td>\n      <td>2018-08-25</td>\n      <td>535148.0</td>\n      <td>...</td>\n      <td>0.0</td>\n      <td>0.0</td>\n      <td>0.0</td>\n      <td>0.0</td>\n      <td>0.0</td>\n      <td>0.0</td>\n      <td>-1.0</td>\n      <td>No Match</td>\n      <td>0.0</td>\n      <td>2018-08-25</td>\n    </tr>\n    <tr>\n      <th>229133</th>\n      <td>1v0WJzyINC5wcfzUFYUZh0</td>\n      <td>Woman With the Red Lips</td>\n      <td>0.0</td>\n      <td>False</td>\n      <td>Solo</td>\n      <td>14.0</td>\n      <td>1.0</td>\n      <td>79.0</td>\n      <td>2018-08-25</td>\n      <td>464300.0</td>\n      <td>...</td>\n      <td>0.0</td>\n      <td>0.0</td>\n      <td>0.0</td>\n      <td>0.0</td>\n      <td>0.0</td>\n      <td>0.0</td>\n      <td>-1.0</td>\n      <td>No Match</td>\n      <td>0.0</td>\n      <td>2018-08-25</td>\n    </tr>\n    <tr>\n      <th>229128</th>\n      <td>6oYT6S7i5G9jwZUEDBqnh5</td>\n      <td>Earthquaker</td>\n      <td>0.0</td>\n      <td>False</td>\n      <td>Solo</td>\n      <td>3.0</td>\n      <td>1.0</td>\n      <td>79.0</td>\n      <td>2018-08-25</td>\n      <td>394839.0</td>\n      <td>...</td>\n      <td>0.0</td>\n      <td>0.0</td>\n      <td>0.0</td>\n      <td>0.0</td>\n      <td>0.0</td>\n      <td>0.0</td>\n      <td>-1.0</td>\n      <td>No Match</td>\n      <td>0.0</td>\n      <td>2018-08-25</td>\n    </tr>\n  </tbody>\n</table>\n<p>229214 rows × 48 columns</p>\n</div>"
     },
     "execution_count": 10,
     "metadata": {},
     "output_type": "execute_result"
    }
   ],
   "source": [
    "train_df"
   ],
   "metadata": {
    "collapsed": false,
    "ExecuteTime": {
     "end_time": "2024-05-06T15:35:45.348730900Z",
     "start_time": "2024-05-06T15:35:45.021714300Z"
    }
   },
   "id": "b28638da1c926d60"
  },
  {
   "cell_type": "code",
   "execution_count": 11,
   "outputs": [
    {
     "data": {
      "text/plain": "                       song_id  rank_score  peak_position  weeks_on_chart  \\\n0       3e9HZxeyfWwjeyPAMmWSSQ         100            100               7   \n1       5p7ujcrUXASCNwRaWNHR1C          99             99              11   \n2       2xLMifQCjDGFmkHkpNLD9h          98            100              20   \n3       3KkXRkHbMCARz0aVfEt68P          97             97               9   \n4       1rqqCSm0Qe4I9rUvWncaom          95             96              20   \n...                        ...         ...            ...             ...   \n250387  6vPS75nWOKkuH5WTLD8hDc           7             23               5   \n250388  2BCjoFA0nJlXBLRf3164bN           6              6               0   \n250389  7Gk1QKi2BAZCnrYlrYEDjC           4             11               4   \n250390  7rxev6ErpRE5VYaamjs4T3           2              2               0   \n250391  1TRvdHDqCIcTQpHTZbFttC           1              1               0   \n\n             week  \n0      2018-12-29  \n1      2018-12-29  \n2      2018-12-29  \n3      2018-12-29  \n4      2018-12-29  \n...           ...  \n250387 1964-01-04  \n250388 1964-01-04  \n250389 1964-01-04  \n250390 1964-01-04  \n250391 1964-01-04  \n\n[250392 rows x 5 columns]",
      "text/html": "<div>\n<style scoped>\n    .dataframe tbody tr th:only-of-type {\n        vertical-align: middle;\n    }\n\n    .dataframe tbody tr th {\n        vertical-align: top;\n    }\n\n    .dataframe thead th {\n        text-align: right;\n    }\n</style>\n<table border=\"1\" class=\"dataframe\">\n  <thead>\n    <tr style=\"text-align: right;\">\n      <th></th>\n      <th>song_id</th>\n      <th>rank_score</th>\n      <th>peak_position</th>\n      <th>weeks_on_chart</th>\n      <th>week</th>\n    </tr>\n  </thead>\n  <tbody>\n    <tr>\n      <th>0</th>\n      <td>3e9HZxeyfWwjeyPAMmWSSQ</td>\n      <td>100</td>\n      <td>100</td>\n      <td>7</td>\n      <td>2018-12-29</td>\n    </tr>\n    <tr>\n      <th>1</th>\n      <td>5p7ujcrUXASCNwRaWNHR1C</td>\n      <td>99</td>\n      <td>99</td>\n      <td>11</td>\n      <td>2018-12-29</td>\n    </tr>\n    <tr>\n      <th>2</th>\n      <td>2xLMifQCjDGFmkHkpNLD9h</td>\n      <td>98</td>\n      <td>100</td>\n      <td>20</td>\n      <td>2018-12-29</td>\n    </tr>\n    <tr>\n      <th>3</th>\n      <td>3KkXRkHbMCARz0aVfEt68P</td>\n      <td>97</td>\n      <td>97</td>\n      <td>9</td>\n      <td>2018-12-29</td>\n    </tr>\n    <tr>\n      <th>4</th>\n      <td>1rqqCSm0Qe4I9rUvWncaom</td>\n      <td>95</td>\n      <td>96</td>\n      <td>20</td>\n      <td>2018-12-29</td>\n    </tr>\n    <tr>\n      <th>...</th>\n      <td>...</td>\n      <td>...</td>\n      <td>...</td>\n      <td>...</td>\n      <td>...</td>\n    </tr>\n    <tr>\n      <th>250387</th>\n      <td>6vPS75nWOKkuH5WTLD8hDc</td>\n      <td>7</td>\n      <td>23</td>\n      <td>5</td>\n      <td>1964-01-04</td>\n    </tr>\n    <tr>\n      <th>250388</th>\n      <td>2BCjoFA0nJlXBLRf3164bN</td>\n      <td>6</td>\n      <td>6</td>\n      <td>0</td>\n      <td>1964-01-04</td>\n    </tr>\n    <tr>\n      <th>250389</th>\n      <td>7Gk1QKi2BAZCnrYlrYEDjC</td>\n      <td>4</td>\n      <td>11</td>\n      <td>4</td>\n      <td>1964-01-04</td>\n    </tr>\n    <tr>\n      <th>250390</th>\n      <td>7rxev6ErpRE5VYaamjs4T3</td>\n      <td>2</td>\n      <td>2</td>\n      <td>0</td>\n      <td>1964-01-04</td>\n    </tr>\n    <tr>\n      <th>250391</th>\n      <td>1TRvdHDqCIcTQpHTZbFttC</td>\n      <td>1</td>\n      <td>1</td>\n      <td>0</td>\n      <td>1964-01-04</td>\n    </tr>\n  </tbody>\n</table>\n<p>250392 rows × 5 columns</p>\n</div>"
     },
     "execution_count": 11,
     "metadata": {},
     "output_type": "execute_result"
    }
   ],
   "source": [
    "df_song_chart = pd.read_csv(\"../../MusicOSet/musicoset_popularity/song_chart.csv\", sep=\"\\t\")            #nur auf train daten, da rest unbekannt (für charts)\n",
    "df_song_chart['week'] = pd.to_datetime(df_song_chart['week']) #evtl später wegen runtime\n",
    "df_song_chart"
   ],
   "metadata": {
    "collapsed": false,
    "ExecuteTime": {
     "end_time": "2024-05-06T15:35:45.349729200Z",
     "start_time": "2024-05-06T15:35:45.141712100Z"
    }
   },
   "id": "948fa20163451baa"
  },
  {
   "cell_type": "code",
   "execution_count": 12,
   "outputs": [
    {
     "data": {
      "text/plain": "                      song_id  \\\n0      3e9HZxeyfWwjeyPAMmWSSQ   \n1      5p7ujcrUXASCNwRaWNHR1C   \n2      2xLMifQCjDGFmkHkpNLD9h   \n3      3KkXRkHbMCARz0aVfEt68P   \n4      1rqqCSm0Qe4I9rUvWncaom   \n...                       ...   \n20400  4NnhLA66RRLXxKbiiscU9R   \n20401  2jHfXdCLibrI1J56LnUAZv   \n20402  6zqsyB7uIvWrL1iCJzpNrs   \n20403  5mz9pQZZXNpAw9CdQ7Bk8q   \n20404  2H9CKpZiLDF223BbwehpDF   \n\n                                            artists_ids  \n0                              [66CXWjxzNUsdJxJ2JdwvnR]  \n1                              [26VFTg2z8YR0cCuwLzESi2]  \n2                              [0Y5tJX1MQlPlqiwlOH1tJY]  \n3      [246dkjvS1zLTtiykXe5h60, 1zNqQNIdeOUZHb8zbZRFMX]  \n4                              [20JZFwl6HVl6yg8a4H3ZqK]  \n...                                                 ...  \n20400                          [5X3TuTi9OIsJXMGxPwTKM2]  \n20401                          [6lHC2EQMEMZiEmSfFloarn]  \n20402                          [5X3TuTi9OIsJXMGxPwTKM2]  \n20403                          [6lHC2EQMEMZiEmSfFloarn]  \n20404                          [6wPhSqRtPu1UhRCDX5yaDJ]  \n\n[20405 rows x 2 columns]",
      "text/html": "<div>\n<style scoped>\n    .dataframe tbody tr th:only-of-type {\n        vertical-align: middle;\n    }\n\n    .dataframe tbody tr th {\n        vertical-align: top;\n    }\n\n    .dataframe thead th {\n        text-align: right;\n    }\n</style>\n<table border=\"1\" class=\"dataframe\">\n  <thead>\n    <tr style=\"text-align: right;\">\n      <th></th>\n      <th>song_id</th>\n      <th>artists_ids</th>\n    </tr>\n  </thead>\n  <tbody>\n    <tr>\n      <th>0</th>\n      <td>3e9HZxeyfWwjeyPAMmWSSQ</td>\n      <td>[66CXWjxzNUsdJxJ2JdwvnR]</td>\n    </tr>\n    <tr>\n      <th>1</th>\n      <td>5p7ujcrUXASCNwRaWNHR1C</td>\n      <td>[26VFTg2z8YR0cCuwLzESi2]</td>\n    </tr>\n    <tr>\n      <th>2</th>\n      <td>2xLMifQCjDGFmkHkpNLD9h</td>\n      <td>[0Y5tJX1MQlPlqiwlOH1tJY]</td>\n    </tr>\n    <tr>\n      <th>3</th>\n      <td>3KkXRkHbMCARz0aVfEt68P</td>\n      <td>[246dkjvS1zLTtiykXe5h60, 1zNqQNIdeOUZHb8zbZRFMX]</td>\n    </tr>\n    <tr>\n      <th>4</th>\n      <td>1rqqCSm0Qe4I9rUvWncaom</td>\n      <td>[20JZFwl6HVl6yg8a4H3ZqK]</td>\n    </tr>\n    <tr>\n      <th>...</th>\n      <td>...</td>\n      <td>...</td>\n    </tr>\n    <tr>\n      <th>20400</th>\n      <td>4NnhLA66RRLXxKbiiscU9R</td>\n      <td>[5X3TuTi9OIsJXMGxPwTKM2]</td>\n    </tr>\n    <tr>\n      <th>20401</th>\n      <td>2jHfXdCLibrI1J56LnUAZv</td>\n      <td>[6lHC2EQMEMZiEmSfFloarn]</td>\n    </tr>\n    <tr>\n      <th>20402</th>\n      <td>6zqsyB7uIvWrL1iCJzpNrs</td>\n      <td>[5X3TuTi9OIsJXMGxPwTKM2]</td>\n    </tr>\n    <tr>\n      <th>20403</th>\n      <td>5mz9pQZZXNpAw9CdQ7Bk8q</td>\n      <td>[6lHC2EQMEMZiEmSfFloarn]</td>\n    </tr>\n    <tr>\n      <th>20404</th>\n      <td>2H9CKpZiLDF223BbwehpDF</td>\n      <td>[6wPhSqRtPu1UhRCDX5yaDJ]</td>\n    </tr>\n  </tbody>\n</table>\n<p>20405 rows × 2 columns</p>\n</div>"
     },
     "execution_count": 12,
     "metadata": {},
     "output_type": "execute_result"
    }
   ],
   "source": [
    "df_songs = pd.read_csv(\"../../MusicOSet/musicoset_metadata/songs.csv\", sep=\"\\t\")            #nur auf train daten, da rest unbekannt (für charts)\n",
    "df_songs[\"artists_ids\"] = df_songs[\"artists\"].apply(lambda x: list((eval(x)).keys()))\n",
    "df_songs = df_songs[[\"song_id\", 'artists_ids']]\n",
    "df_songs"
   ],
   "metadata": {
    "collapsed": false,
    "ExecuteTime": {
     "end_time": "2024-05-06T15:35:45.518730300Z",
     "start_time": "2024-05-06T15:35:45.286731400Z"
    }
   },
   "id": "7cacf2570ff5145b"
  },
  {
   "cell_type": "code",
   "execution_count": 13,
   "outputs": [
    {
     "data": {
      "text/plain": "1.0"
     },
     "execution_count": 13,
     "metadata": {},
     "output_type": "execute_result"
    }
   ],
   "source": [
    "def superstar(n, d, p):\n",
    "    sup = 0\n",
    "    for i in range(len(d)):\n",
    "        sup += (d[i] + p[i])/2         #d[i] * p[i]          #um vanishing für einen 0 value zu verhindern alternativ: d+p/2 also mean nehmen?\n",
    "        # oder aus allem den mean?\n",
    "    return 1/n**2 * sup\n",
    "\n",
    "def superstar_2(n, d, p):\n",
    "    sup = 0\n",
    "    for i in range(len(d)):\n",
    "        sup += (d[i] + p[i])/2         #d[i] * p[i]          #um vanishing für einen 0 value zu verhindern alternativ: d+p/2 also mean nehmen?\n",
    "        # oder aus allem den mean?\n",
    "    return 1/n * sup\n",
    "\n",
    "def superstar_3(n, d, p):\n",
    "    sup = 0\n",
    "    for i in range(len(d)):\n",
    "        sup += p[i]        #d[i] * p[i]          #um vanishing für einen 0 value zu verhindern alternativ: d+p/2 also mean nehmen?\n",
    "        # oder aus allem den mean?\n",
    "    return 1/n**2 * sup\n",
    "\n",
    "def superstar_4(n, d, p):\n",
    "    sup = 0\n",
    "    for i in range(len(d)):\n",
    "        sup += d[i]          #d[i] * p[i]          #um vanishing für einen 0 value zu verhindern alternativ: d+p/2 also mean nehmen?\n",
    "        # oder aus allem den mean?\n",
    "    return 1/n**2 * sup\n",
    "\n",
    "superstar(1, [1], [1])      #kommt es in produktivcode vor? wie mit nicht vorkommenden Werten umgehen?"
   ],
   "metadata": {
    "collapsed": false,
    "ExecuteTime": {
     "end_time": "2024-05-06T15:35:45.547729600Z",
     "start_time": "2024-05-06T15:35:45.525730700Z"
    }
   },
   "id": "b5ff8ba811c4dfbd"
  },
  {
   "cell_type": "code",
   "execution_count": 14,
   "outputs": [
    {
     "data": {
      "text/plain": "([0.0, 0.24242424242424243, 0.494949494949495, 0.7474747474747475, 1.0],\n [0.0, 0.25, 0.5, 0.75, 1.0],\n 94608000)"
     },
     "execution_count": 14,
     "metadata": {},
     "output_type": "execute_result"
    }
   ],
   "source": [
    "def min_max_scaling(arr, min_val, max_val):\n",
    "    return [(x - min_val)/(max_val - min_val) for x in arr]\n",
    "\n",
    "past_years = 3\n",
    "max_amount_days = past_years*365\n",
    "max_distance_float = max_amount_days*24*60*60\n",
    "\n",
    "peak_positions = [1, 25, 50, 75, 100]\n",
    "days_distances = [0.00, max_distance_float*0.25, max_distance_float*0.5, max_distance_float*0.75, max_distance_float]\n",
    "peak_positions = min_max_scaling(peak_positions, 1, 100) #101 oder 100 als edge \n",
    "# change to (0,1], sonst sobald ein wert 0 ist also min, dann resultat auch 0 => 0 ist viel zu common siehe bsp file\n",
    "# => min value um 1 reduzieren um skalar zu verschieben\n",
    "days_distances = min_max_scaling(days_distances, 0.0, max_distance_float)\n",
    "peak_positions, days_distances, max_distance_float   ###skalierungsproblem!     "
   ],
   "metadata": {
    "collapsed": false,
    "ExecuteTime": {
     "end_time": "2024-05-06T15:35:45.577729300Z",
     "start_time": "2024-05-06T15:35:45.537731900Z"
    }
   },
   "id": "89dc6a7b881f4ce7"
  },
  {
   "cell_type": "code",
   "execution_count": 15,
   "outputs": [
    {
     "name": "stdout",
     "output_type": "stream",
     "text": [
      "0\n",
      "10000\n",
      "20000\n",
      "30000\n",
      "40000\n",
      "50000\n",
      "60000\n",
      "70000\n",
      "80000\n",
      "90000\n",
      "100000\n",
      "110000\n",
      "120000\n",
      "130000\n",
      "140000\n",
      "150000\n",
      "160000\n",
      "170000\n",
      "180000\n",
      "190000\n",
      "200000\n",
      "210000\n",
      "220000\n"
     ]
    }
   ],
   "source": [
    "import numpy as np\n",
    "\n",
    "past_years = 3\n",
    "max_amount_days = past_years * 365\n",
    "max_distance_float = max_amount_days * 24 * 60 * 60\n",
    "\n",
    "train_df[\"superstar_v1_x\"] = np.nan\n",
    "train_df[\"superstar_v1_y\"] = np.nan\n",
    "train_df[\"superstar_v2_x\"] = np.nan\n",
    "train_df[\"superstar_v2_y\"] = np.nan\n",
    "train_df[\"superstar_v3_x\"] = np.nan\n",
    "train_df[\"superstar_v3_y\"] = np.nan\n",
    "train_df[\"superstar_v4_x\"] = np.nan\n",
    "train_df[\"superstar_v4_y\"] = np.nan\n",
    "test_df[\"hits_in_past_x\"] = 0\n",
    "test_df[\"hits_in_past_y\"] = 0\n",
    "train_df[\"superstar_x\"] = 0\n",
    "train_df[\"superstar_y\"] = 0\n",
    "\n",
    "it = 0\n",
    "for index, row in train_df.iterrows():\n",
    "    artists_in_row = [row[\"artist1_id\"]]\n",
    "    if not pd.isna(row[\"artist2_id\"]):\n",
    "        artists_in_row.append(row[\"artist2_id\"])\n",
    "    \n",
    "    if it % 10000 == 0.0:\n",
    "        print(it)\n",
    "    it +=1\n",
    "\n",
    "    present = row[\"date\"].replace(hour=23, minute=59, second=59)\n",
    "    border_day = present - pd.DateOffset(years=past_years)\n",
    "    to_filter = df_song_chart[(df_song_chart[\"week\"] <= present) & (df_song_chart[\"week\"] > border_day)]\n",
    "\n",
    "    for nr_art, artist in enumerate(artists_in_row):\n",
    "        hits_amount = 0\n",
    "        song_ids = []\n",
    "        peak_positions = []\n",
    "        days_distances = []\n",
    "\n",
    "        df_num_hit = pd.merge(to_filter, df_songs)\n",
    "        df_num_hit_cpy = df_num_hit.copy()\n",
    "        if not df_num_hit.empty:\n",
    "            df_num_hit = df_num_hit.drop_duplicates(subset=[\"song_id\"])\n",
    "            df_num_hit = df_num_hit[df_num_hit[\"artists_ids\"].apply(lambda x: artist in x)]\n",
    "\n",
    "            hits_amount = df_num_hit[\"song_id\"].nunique()\n",
    "            song_ids = df_num_hit[\"song_id\"].tolist()\n",
    "\n",
    "            #insert rest of calc here\n",
    "            if hits_amount > 0:\n",
    "                for song_id in song_ids:\n",
    "                    df_song_peak_days = df_num_hit_cpy[df_num_hit_cpy[\"song_id\"] == song_id]\n",
    "                    min_peak_position = df_song_peak_days[\"peak_position\"].min()\n",
    "                    peak_positions.append(min_peak_position)\n",
    "    \n",
    "                    peak_week = df_song_peak_days.loc[df_song_peak_days[\"peak_position\"].idxmin()][\"week\"].replace(hour=23, minute=59, second=59)\n",
    "                    distance = abs(peak_week - present)\n",
    "                    days_distances.append(distance.total_seconds())\n",
    "    \n",
    "                peak_positions = min_max_scaling(peak_positions, 1, 100)\n",
    "                days_distances = min_max_scaling(days_distances, 0.00, max_distance_float)\n",
    "    \n",
    "                if nr_art == 0:\n",
    "                    train_df.loc[index, \"superstar_v1_x\"] = superstar(hits_amount, peak_positions, days_distances)\n",
    "                    train_df.loc[index, \"superstar_v2_x\"] = superstar_2(hits_amount, peak_positions, days_distances)\n",
    "                    train_df.loc[index, \"superstar_v3_x\"] = superstar_3(hits_amount, peak_positions, days_distances)\n",
    "                    train_df.loc[index, \"superstar_v4_x\"] = superstar_4(hits_amount, peak_positions, days_distances)\n",
    "                    train_df.loc[index, \"hits_in_past_x\"] = hits_amount\n",
    "                    train_df.loc[index, \"superstar_x\"] = 1\n",
    "                elif nr_art == 1:\n",
    "                    train_df.loc[index, \"superstar_v1_y\"] = superstar(hits_amount, peak_positions, days_distances)\n",
    "                    train_df.loc[index, \"superstar_v2_y\"] = superstar_2(hits_amount, peak_positions, days_distances)\n",
    "                    train_df.loc[index, \"superstar_v3_y\"] = superstar_3(hits_amount, peak_positions, days_distances)\n",
    "                    train_df.loc[index, \"superstar_v4_y\"] = superstar_4(hits_amount, peak_positions, days_distances)\n",
    "                    train_df.loc[index, \"hits_in_past_x\"] = hits_amount\n",
    "                    train_df.loc[index, \"superstar_y\"] = 1\n",
    "                #print(str(nr_art) + \":   \" + str(superstar(hits_amount, peak_positions, days_distances)))"
   ],
   "metadata": {
    "collapsed": false,
    "ExecuteTime": {
     "end_time": "2024-05-06T16:07:35.959060500Z",
     "start_time": "2024-05-06T15:35:45.557730Z"
    }
   },
   "id": "3986d58bb9d6a9a3"
  },
  {
   "cell_type": "code",
   "execution_count": 16,
   "outputs": [
    {
     "data": {
      "text/plain": "                       song_id                                 song_name  \\\n0       2F2KnlkMvRIQM2phyz1NYh                       Oh How I Love Jesus   \n81      70u8X9ELOchegFDnZIKrtU                    Wasted - Workout Remix   \n80      2NydVOx0JreMzW2YfdF8DV                               Born to Die   \n79      6kZ6EPli1wps476k58QoM3  Get The Girl Back (Instrumental Version)   \n78      5OK4VpBJf3fsZIqCFJY4F3                          Mamma Knows Best   \n...                        ...                                       ...   \n229130  3nXCl6A9GI9008YJb8biqz                           The Last Hippie   \n229131  16h5mVR7abqHXj8jBAiPdX                              Not Mushroom   \n229132  0U8KFcdXcJE7Rh1F12CGTF                                Time Lapse   \n229133  1v0WJzyINC5wcfzUFYUZh0                   Woman With the Red Lips   \n229128  6oYT6S7i5G9jwZUEDBqnh5                               Earthquaker   \n\n        song_popularity  explicit song_type  track_number  num_artists  \\\n0                   0.0     False      Solo           2.0          1.0   \n81                  6.0     False      Solo           7.0          1.0   \n80                 11.0     False      Solo           2.0          1.0   \n79                  0.0     False      Solo           2.0          1.0   \n78                  0.0     False      Solo           1.0          1.0   \n...                 ...       ...       ...           ...          ...   \n229130              0.0     False      Solo           5.0          1.0   \n229131              0.0     False      Solo           6.0          1.0   \n229132              0.0     False      Solo          21.0          1.0   \n229133              0.0     False      Solo          14.0          1.0   \n229128              0.0     False      Solo           3.0          1.0   \n\n        num_available_markets release_date  duration_ms  ...  superstar_v1_y  \\\n0                        78.0   2014-08-26     127760.0  ...             NaN   \n81                       79.0   2014-08-26     295385.0  ...             NaN   \n80                       79.0   2014-08-26     253684.0  ...             NaN   \n79                       79.0   2014-08-26     212558.0  ...             NaN   \n78                       79.0   2014-08-26     194560.0  ...             NaN   \n...                       ...          ...          ...  ...             ...   \n229130                   79.0   2018-08-25     385984.0  ...             NaN   \n229131                   79.0   2018-08-25     398629.0  ...             NaN   \n229132                   79.0   2018-08-25     535148.0  ...             NaN   \n229133                   79.0   2018-08-25     464300.0  ...             NaN   \n229128                   79.0   2018-08-25     394839.0  ...             NaN   \n\n        superstar_v2_x  superstar_v2_y  superstar_v3_x  superstar_v3_y  \\\n0                  NaN             NaN             NaN             NaN   \n81                 NaN             NaN             NaN             NaN   \n80                 NaN             NaN             NaN             NaN   \n79                 NaN             NaN             NaN             NaN   \n78                 NaN             NaN             NaN             NaN   \n...                ...             ...             ...             ...   \n229130             NaN             NaN             NaN             NaN   \n229131             NaN             NaN             NaN             NaN   \n229132             NaN             NaN             NaN             NaN   \n229133             NaN             NaN             NaN             NaN   \n229128             NaN             NaN             NaN             NaN   \n\n        superstar_v4_x  superstar_v4_y  superstar_x  superstar_y  \\\n0                  NaN             NaN            0            0   \n81                 NaN             NaN            0            0   \n80                 NaN             NaN            0            0   \n79                 NaN             NaN            0            0   \n78                 NaN             NaN            0            0   \n...                ...             ...          ...          ...   \n229130             NaN             NaN            0            0   \n229131             NaN             NaN            0            0   \n229132             NaN             NaN            0            0   \n229133             NaN             NaN            0            0   \n229128             NaN             NaN            0            0   \n\n        hits_in_past_x  \n0                  NaN  \n81                 NaN  \n80                 NaN  \n79                 NaN  \n78                 NaN  \n...                ...  \n229130             NaN  \n229131             NaN  \n229132             NaN  \n229133             NaN  \n229128             NaN  \n\n[229214 rows x 59 columns]",
      "text/html": "<div>\n<style scoped>\n    .dataframe tbody tr th:only-of-type {\n        vertical-align: middle;\n    }\n\n    .dataframe tbody tr th {\n        vertical-align: top;\n    }\n\n    .dataframe thead th {\n        text-align: right;\n    }\n</style>\n<table border=\"1\" class=\"dataframe\">\n  <thead>\n    <tr style=\"text-align: right;\">\n      <th></th>\n      <th>song_id</th>\n      <th>song_name</th>\n      <th>song_popularity</th>\n      <th>explicit</th>\n      <th>song_type</th>\n      <th>track_number</th>\n      <th>num_artists</th>\n      <th>num_available_markets</th>\n      <th>release_date</th>\n      <th>duration_ms</th>\n      <th>...</th>\n      <th>superstar_v1_y</th>\n      <th>superstar_v2_x</th>\n      <th>superstar_v2_y</th>\n      <th>superstar_v3_x</th>\n      <th>superstar_v3_y</th>\n      <th>superstar_v4_x</th>\n      <th>superstar_v4_y</th>\n      <th>superstar_x</th>\n      <th>superstar_y</th>\n      <th>hits_in_past_x</th>\n    </tr>\n  </thead>\n  <tbody>\n    <tr>\n      <th>0</th>\n      <td>2F2KnlkMvRIQM2phyz1NYh</td>\n      <td>Oh How I Love Jesus</td>\n      <td>0.0</td>\n      <td>False</td>\n      <td>Solo</td>\n      <td>2.0</td>\n      <td>1.0</td>\n      <td>78.0</td>\n      <td>2014-08-26</td>\n      <td>127760.0</td>\n      <td>...</td>\n      <td>NaN</td>\n      <td>NaN</td>\n      <td>NaN</td>\n      <td>NaN</td>\n      <td>NaN</td>\n      <td>NaN</td>\n      <td>NaN</td>\n      <td>0</td>\n      <td>0</td>\n      <td>NaN</td>\n    </tr>\n    <tr>\n      <th>81</th>\n      <td>70u8X9ELOchegFDnZIKrtU</td>\n      <td>Wasted - Workout Remix</td>\n      <td>6.0</td>\n      <td>False</td>\n      <td>Solo</td>\n      <td>7.0</td>\n      <td>1.0</td>\n      <td>79.0</td>\n      <td>2014-08-26</td>\n      <td>295385.0</td>\n      <td>...</td>\n      <td>NaN</td>\n      <td>NaN</td>\n      <td>NaN</td>\n      <td>NaN</td>\n      <td>NaN</td>\n      <td>NaN</td>\n      <td>NaN</td>\n      <td>0</td>\n      <td>0</td>\n      <td>NaN</td>\n    </tr>\n    <tr>\n      <th>80</th>\n      <td>2NydVOx0JreMzW2YfdF8DV</td>\n      <td>Born to Die</td>\n      <td>11.0</td>\n      <td>False</td>\n      <td>Solo</td>\n      <td>2.0</td>\n      <td>1.0</td>\n      <td>79.0</td>\n      <td>2014-08-26</td>\n      <td>253684.0</td>\n      <td>...</td>\n      <td>NaN</td>\n      <td>NaN</td>\n      <td>NaN</td>\n      <td>NaN</td>\n      <td>NaN</td>\n      <td>NaN</td>\n      <td>NaN</td>\n      <td>0</td>\n      <td>0</td>\n      <td>NaN</td>\n    </tr>\n    <tr>\n      <th>79</th>\n      <td>6kZ6EPli1wps476k58QoM3</td>\n      <td>Get The Girl Back (Instrumental Version)</td>\n      <td>0.0</td>\n      <td>False</td>\n      <td>Solo</td>\n      <td>2.0</td>\n      <td>1.0</td>\n      <td>79.0</td>\n      <td>2014-08-26</td>\n      <td>212558.0</td>\n      <td>...</td>\n      <td>NaN</td>\n      <td>NaN</td>\n      <td>NaN</td>\n      <td>NaN</td>\n      <td>NaN</td>\n      <td>NaN</td>\n      <td>NaN</td>\n      <td>0</td>\n      <td>0</td>\n      <td>NaN</td>\n    </tr>\n    <tr>\n      <th>78</th>\n      <td>5OK4VpBJf3fsZIqCFJY4F3</td>\n      <td>Mamma Knows Best</td>\n      <td>0.0</td>\n      <td>False</td>\n      <td>Solo</td>\n      <td>1.0</td>\n      <td>1.0</td>\n      <td>79.0</td>\n      <td>2014-08-26</td>\n      <td>194560.0</td>\n      <td>...</td>\n      <td>NaN</td>\n      <td>NaN</td>\n      <td>NaN</td>\n      <td>NaN</td>\n      <td>NaN</td>\n      <td>NaN</td>\n      <td>NaN</td>\n      <td>0</td>\n      <td>0</td>\n      <td>NaN</td>\n    </tr>\n    <tr>\n      <th>...</th>\n      <td>...</td>\n      <td>...</td>\n      <td>...</td>\n      <td>...</td>\n      <td>...</td>\n      <td>...</td>\n      <td>...</td>\n      <td>...</td>\n      <td>...</td>\n      <td>...</td>\n      <td>...</td>\n      <td>...</td>\n      <td>...</td>\n      <td>...</td>\n      <td>...</td>\n      <td>...</td>\n      <td>...</td>\n      <td>...</td>\n      <td>...</td>\n      <td>...</td>\n      <td>...</td>\n    </tr>\n    <tr>\n      <th>229130</th>\n      <td>3nXCl6A9GI9008YJb8biqz</td>\n      <td>The Last Hippie</td>\n      <td>0.0</td>\n      <td>False</td>\n      <td>Solo</td>\n      <td>5.0</td>\n      <td>1.0</td>\n      <td>79.0</td>\n      <td>2018-08-25</td>\n      <td>385984.0</td>\n      <td>...</td>\n      <td>NaN</td>\n      <td>NaN</td>\n      <td>NaN</td>\n      <td>NaN</td>\n      <td>NaN</td>\n      <td>NaN</td>\n      <td>NaN</td>\n      <td>0</td>\n      <td>0</td>\n      <td>NaN</td>\n    </tr>\n    <tr>\n      <th>229131</th>\n      <td>16h5mVR7abqHXj8jBAiPdX</td>\n      <td>Not Mushroom</td>\n      <td>0.0</td>\n      <td>False</td>\n      <td>Solo</td>\n      <td>6.0</td>\n      <td>1.0</td>\n      <td>79.0</td>\n      <td>2018-08-25</td>\n      <td>398629.0</td>\n      <td>...</td>\n      <td>NaN</td>\n      <td>NaN</td>\n      <td>NaN</td>\n      <td>NaN</td>\n      <td>NaN</td>\n      <td>NaN</td>\n      <td>NaN</td>\n      <td>0</td>\n      <td>0</td>\n      <td>NaN</td>\n    </tr>\n    <tr>\n      <th>229132</th>\n      <td>0U8KFcdXcJE7Rh1F12CGTF</td>\n      <td>Time Lapse</td>\n      <td>0.0</td>\n      <td>False</td>\n      <td>Solo</td>\n      <td>21.0</td>\n      <td>1.0</td>\n      <td>79.0</td>\n      <td>2018-08-25</td>\n      <td>535148.0</td>\n      <td>...</td>\n      <td>NaN</td>\n      <td>NaN</td>\n      <td>NaN</td>\n      <td>NaN</td>\n      <td>NaN</td>\n      <td>NaN</td>\n      <td>NaN</td>\n      <td>0</td>\n      <td>0</td>\n      <td>NaN</td>\n    </tr>\n    <tr>\n      <th>229133</th>\n      <td>1v0WJzyINC5wcfzUFYUZh0</td>\n      <td>Woman With the Red Lips</td>\n      <td>0.0</td>\n      <td>False</td>\n      <td>Solo</td>\n      <td>14.0</td>\n      <td>1.0</td>\n      <td>79.0</td>\n      <td>2018-08-25</td>\n      <td>464300.0</td>\n      <td>...</td>\n      <td>NaN</td>\n      <td>NaN</td>\n      <td>NaN</td>\n      <td>NaN</td>\n      <td>NaN</td>\n      <td>NaN</td>\n      <td>NaN</td>\n      <td>0</td>\n      <td>0</td>\n      <td>NaN</td>\n    </tr>\n    <tr>\n      <th>229128</th>\n      <td>6oYT6S7i5G9jwZUEDBqnh5</td>\n      <td>Earthquaker</td>\n      <td>0.0</td>\n      <td>False</td>\n      <td>Solo</td>\n      <td>3.0</td>\n      <td>1.0</td>\n      <td>79.0</td>\n      <td>2018-08-25</td>\n      <td>394839.0</td>\n      <td>...</td>\n      <td>NaN</td>\n      <td>NaN</td>\n      <td>NaN</td>\n      <td>NaN</td>\n      <td>NaN</td>\n      <td>NaN</td>\n      <td>NaN</td>\n      <td>0</td>\n      <td>0</td>\n      <td>NaN</td>\n    </tr>\n  </tbody>\n</table>\n<p>229214 rows × 59 columns</p>\n</div>"
     },
     "execution_count": 16,
     "metadata": {},
     "output_type": "execute_result"
    }
   ],
   "source": [
    "train_df"
   ],
   "metadata": {
    "collapsed": false,
    "ExecuteTime": {
     "end_time": "2024-05-06T16:07:36.086060500Z",
     "start_time": "2024-05-06T16:07:35.961061600Z"
    }
   },
   "id": "3c61357868db20a9"
  },
  {
   "cell_type": "code",
   "execution_count": 17,
   "outputs": [],
   "source": [
    "train_df.drop(columns=[\"date\"], inplace=True)\n",
    "train_df.to_csv(\"train_df_superstar_v1_0.csv\", index=False)"
   ],
   "metadata": {
    "collapsed": false,
    "ExecuteTime": {
     "end_time": "2024-05-06T16:07:40.943764Z",
     "start_time": "2024-05-06T16:07:36.122059300Z"
    }
   },
   "id": "8ced032ed41ff018"
  },
  {
   "cell_type": "code",
   "execution_count": 18,
   "outputs": [],
   "source": [
    "# train_df = pd.read_csv(\"train_df_superstar_v1_0.csv\", sep=\",\")\n",
    "# train_df['date'] = pd.to_datetime(train_df['release_date'])\n",
    "# train_df.sort_values(by=\"date\", inplace=True)\n",
    "# train_df"
   ],
   "metadata": {
    "collapsed": false,
    "ExecuteTime": {
     "end_time": "2024-05-06T16:07:40.960765Z",
     "start_time": "2024-05-06T16:07:40.945764600Z"
    }
   },
   "id": "6d6affba9926e41b"
  },
  {
   "cell_type": "code",
   "execution_count": 19,
   "outputs": [
    {
     "data": {
      "text/plain": "Timestamp('2018-08-25 23:59:59')"
     },
     "execution_count": 19,
     "metadata": {},
     "output_type": "execute_result"
    }
   ],
   "source": [
    "border_start_train_day = (pd.to_datetime(train_df['release_date']).iloc[-1]).replace(hour=23, minute=59, second=59)\n",
    "border_start_train_day"
   ],
   "metadata": {
    "collapsed": false,
    "ExecuteTime": {
     "end_time": "2024-05-06T16:07:40.997765300Z",
     "start_time": "2024-05-06T16:07:40.961764Z"
    }
   },
   "id": "1f48111fc9c83ae1"
  },
  {
   "cell_type": "code",
   "execution_count": 20,
   "outputs": [
    {
     "name": "stdout",
     "output_type": "stream",
     "text": [
      "0\n",
      "10000\n",
      "20000\n",
      "30000\n",
      "40000\n",
      "50000\n"
     ]
    }
   ],
   "source": [
    "import numpy as np\n",
    "\n",
    "past_years = 3\n",
    "max_amount_days = past_years * 365\n",
    "max_distance_float = max_amount_days * 24 * 60 * 60\n",
    "\n",
    "test_df[\"superstar_v1_x\"] = np.nan\n",
    "test_df[\"superstar_v1_y\"] = np.nan\n",
    "test_df[\"superstar_v2_x\"] = np.nan\n",
    "test_df[\"superstar_v2_y\"] = np.nan\n",
    "test_df[\"superstar_v3_x\"] = np.nan\n",
    "test_df[\"superstar_v3_y\"] = np.nan\n",
    "test_df[\"superstar_v4_x\"] = np.nan\n",
    "test_df[\"superstar_v4_y\"] = np.nan\n",
    "test_df[\"hits_in_past_x\"] = 0\n",
    "test_df[\"hits_in_past_y\"] = 0\n",
    "test_df[\"superstar_x\"] = 0\n",
    "test_df[\"superstar_y\"] = 0\n",
    "\n",
    "it = 0\n",
    "for index, row in test_df.iterrows():\n",
    "    artists_in_row = [row[\"artist1_id\"]]\n",
    "    if not pd.isna(row[\"artist2_id\"]):\n",
    "        artists_in_row.append(row[\"artist2_id\"])\n",
    "\n",
    "    if it % 10000 == 0.0:\n",
    "        print(it)\n",
    "    it +=1\n",
    "\n",
    "    present = row[\"date\"].replace(hour=23, minute=59, second=59)\n",
    "    border_day = present - pd.DateOffset(years=past_years)\n",
    "    to_filter = df_song_chart[(df_song_chart[\"week\"] <= border_start_train_day) & (df_song_chart[\"week\"] > border_day)]    \n",
    "\n",
    "    for nr_art, artist in enumerate(artists_in_row):\n",
    "        hits_amount = 0\n",
    "        song_ids = []\n",
    "        peak_positions = []\n",
    "        days_distances = []\n",
    "\n",
    "        df_num_hit = pd.merge(to_filter, df_songs)\n",
    "        df_num_hit_cpy = df_num_hit.copy()\n",
    "        if not df_num_hit.empty:\n",
    "            df_num_hit = df_num_hit.drop_duplicates(subset=[\"song_id\"])\n",
    "            df_num_hit = df_num_hit[df_num_hit[\"artists_ids\"].apply(lambda x: artist in x)]\n",
    "\n",
    "            hits_amount = df_num_hit[\"song_id\"].nunique()\n",
    "            song_ids = df_num_hit[\"song_id\"].tolist()\n",
    "\n",
    "            #insert rest of calc here\n",
    "            if hits_amount > 0:\n",
    "                for song_id in song_ids:\n",
    "                    df_song_peak_days = df_num_hit_cpy[df_num_hit_cpy[\"song_id\"] == song_id]\n",
    "                    min_peak_position = df_song_peak_days[\"peak_position\"].min()\n",
    "                    peak_positions.append(min_peak_position)\n",
    "\n",
    "                    peak_week = df_song_peak_days.loc[df_song_peak_days[\"peak_position\"].idxmin()][\"week\"].replace(hour=23, minute=59, second=59)\n",
    "                    distance = abs(peak_week - present)\n",
    "                    days_distances.append(distance.total_seconds())\n",
    "\n",
    "                peak_positions = min_max_scaling(peak_positions, 1, 100)\n",
    "                days_distances = min_max_scaling(days_distances, 0.00, max_distance_float)\n",
    "                \n",
    "                # if superstar(hits_amount, peak_positions, days_distances) == 0:\n",
    "                #     print(hits_amount, peak_positions, days_distances, row[\"song_id\"])\n",
    "                    \n",
    "                if nr_art == 0:\n",
    "                    test_df.loc[index, \"superstar_v1_x\"] = superstar(hits_amount, peak_positions, days_distances)\n",
    "                    test_df.loc[index, \"superstar_v2_x\"] = superstar_2(hits_amount, peak_positions, days_distances)\n",
    "                    test_df.loc[index, \"superstar_v3_x\"] = superstar_3(hits_amount, peak_positions, days_distances)\n",
    "                    test_df.loc[index, \"superstar_v4_x\"] = superstar_4(hits_amount, peak_positions, days_distances)\n",
    "                    test_df.loc[index, \"hits_in_past_x\"] = hits_amount\n",
    "                    test_df.loc[index, \"superstar_x\"] = 1\n",
    "                elif nr_art == 1:\n",
    "                    test_df.loc[index, \"superstar_v1_y\"] = superstar(hits_amount, peak_positions, days_distances)\n",
    "                    test_df.loc[index, \"superstar_v2_y\"] = superstar_2(hits_amount, peak_positions, days_distances)\n",
    "                    test_df.loc[index, \"superstar_v3_y\"] = superstar_3(hits_amount, peak_positions, days_distances)\n",
    "                    test_df.loc[index, \"superstar_v4_y\"] = superstar_4(hits_amount, peak_positions, days_distances)\n",
    "                    test_df.loc[index, \"hits_in_past_y\"] = hits_amount\n",
    "                    test_df.loc[index, \"superstar_y\"] = 1\n",
    "                #print(str(nr_art) + \":   \" + str(superstar(hits_amount, peak_positions, days_distances)))"
   ],
   "metadata": {
    "collapsed": false,
    "ExecuteTime": {
     "end_time": "2024-05-06T16:15:18.625467200Z",
     "start_time": "2024-05-06T16:07:41.002765800Z"
    }
   },
   "id": "24928d1a2c53b0e6"
  },
  {
   "cell_type": "code",
   "execution_count": 21,
   "outputs": [
    {
     "data": {
      "text/plain": "                       song_id  \\\n229256  4Gsqw7pb3z4OPDUeES6Daz   \n229255  6tv2ZtGQcEiszwNpBx7wK2   \n229253  2Yg7VknojyXmbAKnmrSAMU   \n229245  7g9Vsa7alv8WuR9COxDu9k   \n229252  4H1sr1GwbRuVIHZWcfkR8R   \n...                        ...   \n283438  6WrGNqos7nZLxV7QWTgyNO   \n283437  13MADoRclDrvJXcH0l7CFA   \n283462  7goArBQdsalqclSyaTywAS   \n283449  2CZ46u5NGXQFXke3PMCuAK   \n283463  6Fh2QgjCxL96dA3Gtpfr4Q   \n\n                                                song_name  song_popularity  \\\n229256             Don't Speak (8-Bit No Doubt Emulation)              1.0   \n229255            Livin' It Up (8-Bit MONSTA X Emulation)              0.0   \n229253  Bitter Sweet Symphony (8-Bit The Verve Emulation)              2.0   \n229245   Sex and Candy (8-Bit Marcy Playground Emulation)              0.0   \n229252                                         Day Spring              0.0   \n...                                                   ...              ...   \n283438                            I'll Keep You Satisfied              1.0   \n283437                                You Were on My Mind              1.0   \n283462                                   Shimmy Shimmy Ya              7.0   \n283449                   Today I Started Loving You Again              3.0   \n283463  One Sweet Day (16-Bit Mariah Carey & Boyz II M...              0.0   \n\n        explicit      song_type  track_number  num_artists  \\\n229256     False           Solo          24.0          1.0   \n229255     False           Solo          23.0          1.0   \n229253     False           Solo          27.0          1.0   \n229245     False           Solo          21.0          1.0   \n229252     False           Solo           3.0          1.0   \n...          ...            ...           ...          ...   \n283438     False  Collaboration          23.0          2.0   \n283437     False           Solo           8.0          1.0   \n283462     False           Solo           8.0          1.0   \n283449     False           Solo          15.0          1.0   \n283463     False           Solo          27.0          1.0   \n\n        num_available_markets release_date  duration_ms  ...  superstar_v1_x  \\\n229256                   79.0   2018-08-26     266069.0  ...             NaN   \n229255                   79.0   2018-08-26     222211.0  ...             NaN   \n229253                   79.0   2018-08-26     255423.0  ...             NaN   \n229245                   79.0   2018-08-26     167013.0  ...             NaN   \n229252                   79.0   2018-08-26     278400.0  ...             NaN   \n...                       ...          ...          ...  ...             ...   \n283438                   78.0   2019-08-23     126360.0  ...             NaN   \n283437                   79.0   2019-08-23     163533.0  ...             NaN   \n283462                   78.0   2019-08-23     161200.0  ...             NaN   \n283449                   78.0   2019-08-23     172147.0  ...             NaN   \n283463                   79.0   2019-08-26     260910.0  ...             NaN   \n\n        superstar_v1_y  superstar_v2_x  superstar_v2_y  superstar_v3_x  \\\n229256             NaN             NaN             NaN             NaN   \n229255             NaN             NaN             NaN             NaN   \n229253             NaN             NaN             NaN             NaN   \n229245             NaN             NaN             NaN             NaN   \n229252             NaN             NaN             NaN             NaN   \n...                ...             ...             ...             ...   \n283438             NaN             NaN             NaN             NaN   \n283437             NaN             NaN             NaN             NaN   \n283462             NaN             NaN             NaN             NaN   \n283449             NaN             NaN             NaN             NaN   \n283463             NaN             NaN             NaN             NaN   \n\n        superstar_v3_y  superstar_v4_x  superstar_v4_y  superstar_x  \\\n229256             NaN             NaN             NaN            0   \n229255             NaN             NaN             NaN            0   \n229253             NaN             NaN             NaN            0   \n229245             NaN             NaN             NaN            0   \n229252             NaN             NaN             NaN            0   \n...                ...             ...             ...          ...   \n283438             NaN             NaN             NaN            0   \n283437             NaN             NaN             NaN            0   \n283462             NaN             NaN             NaN            0   \n283449             NaN             NaN             NaN            0   \n283463             NaN             NaN             NaN            0   \n\n        superstar_y  \n229256            0  \n229255            0  \n229253            0  \n229245            0  \n229252            0  \n...             ...  \n283438            0  \n283437            0  \n283462            0  \n283449            0  \n283463            0  \n\n[54250 rows x 60 columns]",
      "text/html": "<div>\n<style scoped>\n    .dataframe tbody tr th:only-of-type {\n        vertical-align: middle;\n    }\n\n    .dataframe tbody tr th {\n        vertical-align: top;\n    }\n\n    .dataframe thead th {\n        text-align: right;\n    }\n</style>\n<table border=\"1\" class=\"dataframe\">\n  <thead>\n    <tr style=\"text-align: right;\">\n      <th></th>\n      <th>song_id</th>\n      <th>song_name</th>\n      <th>song_popularity</th>\n      <th>explicit</th>\n      <th>song_type</th>\n      <th>track_number</th>\n      <th>num_artists</th>\n      <th>num_available_markets</th>\n      <th>release_date</th>\n      <th>duration_ms</th>\n      <th>...</th>\n      <th>superstar_v1_x</th>\n      <th>superstar_v1_y</th>\n      <th>superstar_v2_x</th>\n      <th>superstar_v2_y</th>\n      <th>superstar_v3_x</th>\n      <th>superstar_v3_y</th>\n      <th>superstar_v4_x</th>\n      <th>superstar_v4_y</th>\n      <th>superstar_x</th>\n      <th>superstar_y</th>\n    </tr>\n  </thead>\n  <tbody>\n    <tr>\n      <th>229256</th>\n      <td>4Gsqw7pb3z4OPDUeES6Daz</td>\n      <td>Don't Speak (8-Bit No Doubt Emulation)</td>\n      <td>1.0</td>\n      <td>False</td>\n      <td>Solo</td>\n      <td>24.0</td>\n      <td>1.0</td>\n      <td>79.0</td>\n      <td>2018-08-26</td>\n      <td>266069.0</td>\n      <td>...</td>\n      <td>NaN</td>\n      <td>NaN</td>\n      <td>NaN</td>\n      <td>NaN</td>\n      <td>NaN</td>\n      <td>NaN</td>\n      <td>NaN</td>\n      <td>NaN</td>\n      <td>0</td>\n      <td>0</td>\n    </tr>\n    <tr>\n      <th>229255</th>\n      <td>6tv2ZtGQcEiszwNpBx7wK2</td>\n      <td>Livin' It Up (8-Bit MONSTA X Emulation)</td>\n      <td>0.0</td>\n      <td>False</td>\n      <td>Solo</td>\n      <td>23.0</td>\n      <td>1.0</td>\n      <td>79.0</td>\n      <td>2018-08-26</td>\n      <td>222211.0</td>\n      <td>...</td>\n      <td>NaN</td>\n      <td>NaN</td>\n      <td>NaN</td>\n      <td>NaN</td>\n      <td>NaN</td>\n      <td>NaN</td>\n      <td>NaN</td>\n      <td>NaN</td>\n      <td>0</td>\n      <td>0</td>\n    </tr>\n    <tr>\n      <th>229253</th>\n      <td>2Yg7VknojyXmbAKnmrSAMU</td>\n      <td>Bitter Sweet Symphony (8-Bit The Verve Emulation)</td>\n      <td>2.0</td>\n      <td>False</td>\n      <td>Solo</td>\n      <td>27.0</td>\n      <td>1.0</td>\n      <td>79.0</td>\n      <td>2018-08-26</td>\n      <td>255423.0</td>\n      <td>...</td>\n      <td>NaN</td>\n      <td>NaN</td>\n      <td>NaN</td>\n      <td>NaN</td>\n      <td>NaN</td>\n      <td>NaN</td>\n      <td>NaN</td>\n      <td>NaN</td>\n      <td>0</td>\n      <td>0</td>\n    </tr>\n    <tr>\n      <th>229245</th>\n      <td>7g9Vsa7alv8WuR9COxDu9k</td>\n      <td>Sex and Candy (8-Bit Marcy Playground Emulation)</td>\n      <td>0.0</td>\n      <td>False</td>\n      <td>Solo</td>\n      <td>21.0</td>\n      <td>1.0</td>\n      <td>79.0</td>\n      <td>2018-08-26</td>\n      <td>167013.0</td>\n      <td>...</td>\n      <td>NaN</td>\n      <td>NaN</td>\n      <td>NaN</td>\n      <td>NaN</td>\n      <td>NaN</td>\n      <td>NaN</td>\n      <td>NaN</td>\n      <td>NaN</td>\n      <td>0</td>\n      <td>0</td>\n    </tr>\n    <tr>\n      <th>229252</th>\n      <td>4H1sr1GwbRuVIHZWcfkR8R</td>\n      <td>Day Spring</td>\n      <td>0.0</td>\n      <td>False</td>\n      <td>Solo</td>\n      <td>3.0</td>\n      <td>1.0</td>\n      <td>79.0</td>\n      <td>2018-08-26</td>\n      <td>278400.0</td>\n      <td>...</td>\n      <td>NaN</td>\n      <td>NaN</td>\n      <td>NaN</td>\n      <td>NaN</td>\n      <td>NaN</td>\n      <td>NaN</td>\n      <td>NaN</td>\n      <td>NaN</td>\n      <td>0</td>\n      <td>0</td>\n    </tr>\n    <tr>\n      <th>...</th>\n      <td>...</td>\n      <td>...</td>\n      <td>...</td>\n      <td>...</td>\n      <td>...</td>\n      <td>...</td>\n      <td>...</td>\n      <td>...</td>\n      <td>...</td>\n      <td>...</td>\n      <td>...</td>\n      <td>...</td>\n      <td>...</td>\n      <td>...</td>\n      <td>...</td>\n      <td>...</td>\n      <td>...</td>\n      <td>...</td>\n      <td>...</td>\n      <td>...</td>\n      <td>...</td>\n    </tr>\n    <tr>\n      <th>283438</th>\n      <td>6WrGNqos7nZLxV7QWTgyNO</td>\n      <td>I'll Keep You Satisfied</td>\n      <td>1.0</td>\n      <td>False</td>\n      <td>Collaboration</td>\n      <td>23.0</td>\n      <td>2.0</td>\n      <td>78.0</td>\n      <td>2019-08-23</td>\n      <td>126360.0</td>\n      <td>...</td>\n      <td>NaN</td>\n      <td>NaN</td>\n      <td>NaN</td>\n      <td>NaN</td>\n      <td>NaN</td>\n      <td>NaN</td>\n      <td>NaN</td>\n      <td>NaN</td>\n      <td>0</td>\n      <td>0</td>\n    </tr>\n    <tr>\n      <th>283437</th>\n      <td>13MADoRclDrvJXcH0l7CFA</td>\n      <td>You Were on My Mind</td>\n      <td>1.0</td>\n      <td>False</td>\n      <td>Solo</td>\n      <td>8.0</td>\n      <td>1.0</td>\n      <td>79.0</td>\n      <td>2019-08-23</td>\n      <td>163533.0</td>\n      <td>...</td>\n      <td>NaN</td>\n      <td>NaN</td>\n      <td>NaN</td>\n      <td>NaN</td>\n      <td>NaN</td>\n      <td>NaN</td>\n      <td>NaN</td>\n      <td>NaN</td>\n      <td>0</td>\n      <td>0</td>\n    </tr>\n    <tr>\n      <th>283462</th>\n      <td>7goArBQdsalqclSyaTywAS</td>\n      <td>Shimmy Shimmy Ya</td>\n      <td>7.0</td>\n      <td>False</td>\n      <td>Solo</td>\n      <td>8.0</td>\n      <td>1.0</td>\n      <td>78.0</td>\n      <td>2019-08-23</td>\n      <td>161200.0</td>\n      <td>...</td>\n      <td>NaN</td>\n      <td>NaN</td>\n      <td>NaN</td>\n      <td>NaN</td>\n      <td>NaN</td>\n      <td>NaN</td>\n      <td>NaN</td>\n      <td>NaN</td>\n      <td>0</td>\n      <td>0</td>\n    </tr>\n    <tr>\n      <th>283449</th>\n      <td>2CZ46u5NGXQFXke3PMCuAK</td>\n      <td>Today I Started Loving You Again</td>\n      <td>3.0</td>\n      <td>False</td>\n      <td>Solo</td>\n      <td>15.0</td>\n      <td>1.0</td>\n      <td>78.0</td>\n      <td>2019-08-23</td>\n      <td>172147.0</td>\n      <td>...</td>\n      <td>NaN</td>\n      <td>NaN</td>\n      <td>NaN</td>\n      <td>NaN</td>\n      <td>NaN</td>\n      <td>NaN</td>\n      <td>NaN</td>\n      <td>NaN</td>\n      <td>0</td>\n      <td>0</td>\n    </tr>\n    <tr>\n      <th>283463</th>\n      <td>6Fh2QgjCxL96dA3Gtpfr4Q</td>\n      <td>One Sweet Day (16-Bit Mariah Carey &amp; Boyz II M...</td>\n      <td>0.0</td>\n      <td>False</td>\n      <td>Solo</td>\n      <td>27.0</td>\n      <td>1.0</td>\n      <td>79.0</td>\n      <td>2019-08-26</td>\n      <td>260910.0</td>\n      <td>...</td>\n      <td>NaN</td>\n      <td>NaN</td>\n      <td>NaN</td>\n      <td>NaN</td>\n      <td>NaN</td>\n      <td>NaN</td>\n      <td>NaN</td>\n      <td>NaN</td>\n      <td>0</td>\n      <td>0</td>\n    </tr>\n  </tbody>\n</table>\n<p>54250 rows × 60 columns</p>\n</div>"
     },
     "execution_count": 21,
     "metadata": {},
     "output_type": "execute_result"
    }
   ],
   "source": [
    "test_df"
   ],
   "metadata": {
    "collapsed": false,
    "ExecuteTime": {
     "end_time": "2024-05-06T16:15:18.687469500Z",
     "start_time": "2024-05-06T16:15:18.626466900Z"
    }
   },
   "id": "2d78248d9a248f00"
  },
  {
   "cell_type": "code",
   "execution_count": 22,
   "outputs": [],
   "source": [
    "test_df.drop(columns=[\"date\"], inplace=True)\n",
    "test_df.to_csv(\"test_df_superstar_v1_0.csv\", index=False)"
   ],
   "metadata": {
    "collapsed": false,
    "ExecuteTime": {
     "end_time": "2024-05-06T16:15:19.934468800Z",
     "start_time": "2024-05-06T16:15:18.705468200Z"
    }
   },
   "id": "7eb8c44b72d92d30"
  },
  {
   "cell_type": "code",
   "execution_count": 23,
   "outputs": [],
   "source": [
    "data = pd.concat([train_df, test_df], axis=0)"
   ],
   "metadata": {
    "collapsed": false,
    "ExecuteTime": {
     "end_time": "2024-05-06T16:15:19.996416700Z",
     "start_time": "2024-05-06T16:15:19.938468300Z"
    }
   },
   "id": "4c68cd197e747d33"
  },
  {
   "cell_type": "code",
   "execution_count": 24,
   "outputs": [],
   "source": [
    "data.to_csv(\"data_superstar_v1_0.csv\", index=False)"
   ],
   "metadata": {
    "collapsed": false,
    "ExecuteTime": {
     "end_time": "2024-05-06T16:15:25.659705600Z",
     "start_time": "2024-05-06T16:15:19.997420700Z"
    }
   },
   "id": "669a62789f340ac5"
  },
  {
   "cell_type": "code",
   "execution_count": 25,
   "outputs": [
    {
     "ename": "NameError",
     "evalue": "name 'nsjkddnfs' is not defined",
     "output_type": "error",
     "traceback": [
      "\u001B[1;31m---------------------------------------------------------------------------\u001B[0m",
      "\u001B[1;31mNameError\u001B[0m                                 Traceback (most recent call last)",
      "Cell \u001B[1;32mIn[25], line 1\u001B[0m\n\u001B[1;32m----> 1\u001B[0m \u001B[43mnsjkddnfs\u001B[49m\n",
      "\u001B[1;31mNameError\u001B[0m: name 'nsjkddnfs' is not defined"
     ]
    }
   ],
   "source": [
    "nsjkddnfs"
   ],
   "metadata": {
    "collapsed": false,
    "ExecuteTime": {
     "end_time": "2024-05-06T16:15:25.719020500Z",
     "start_time": "2024-05-06T16:15:25.661708500Z"
    }
   },
   "id": "9412b39ff767cd0"
  },
  {
   "cell_type": "code",
   "execution_count": null,
   "outputs": [],
   "source": [
    "df_num_hit = pd.merge(df_song_chart, df_songs)\n",
    "print(df_num_hit[\"peak_position\"].min())\n",
    "art_id = test_df[test_df[\"song_id\"] == \"4TWwtyjMkd6bQBNdHhpRaP\"][\"artist1_id\"]\n",
    "df_num_hit = df_num_hit[df_num_hit[\"artists_ids\"].apply(lambda x: art_id.iloc[0] in x)]\n",
    "df_num_hit"
   ],
   "metadata": {
    "collapsed": false,
    "ExecuteTime": {
     "start_time": "2024-05-06T16:15:25.692151500Z"
    }
   },
   "id": "ee13cc176821c6be"
  },
  {
   "cell_type": "code",
   "execution_count": null,
   "outputs": [],
   "source": [
    "(683270/30636) *  5  +1.8586 # runtime "
   ],
   "metadata": {
    "collapsed": false,
    "ExecuteTime": {
     "start_time": "2024-05-06T16:15:25.694152Z"
    }
   },
   "id": "b53639dd3a73950c"
  },
  {
   "cell_type": "code",
   "execution_count": null,
   "outputs": [],
   "source": [
    "import numpy as np\n",
    "train_df[\"superstar_v1_x\"] = 1.0\n",
    "train_df[\"superstar_v1_y\"] = np.nan\n",
    "# Assuming train_df is your pandas DataFrame\n",
    "train_np_array = train_df.to_numpy()\n",
    "train_np_array"
   ],
   "metadata": {
    "collapsed": false,
    "ExecuteTime": {
     "start_time": "2024-05-06T16:15:25.695152200Z"
    }
   },
   "id": "a77170642862eb4f"
  },
  {
   "cell_type": "code",
   "execution_count": null,
   "outputs": [],
   "source": [
    "column_names = train_df.columns\n",
    "# Assuming train_np_array is your NumPy array and column_names is a list containing the column names in the same order as they appear in train_np_array\n",
    "\n",
    "column_name_to_index = {name: index for index, name in enumerate(column_names)}\n",
    "column_name_to_index"
   ],
   "metadata": {
    "collapsed": false,
    "ExecuteTime": {
     "start_time": "2024-05-06T16:15:25.697148200Z"
    }
   },
   "id": "a2882a301788f16f"
  },
  {
   "cell_type": "code",
   "execution_count": null,
   "outputs": [],
   "source": [
    "song_chart_np = df_song_chart.to_numpy() \n",
    "column_names_song_charts = df_song_chart.columns\n",
    "# Assuming train_np_array is your NumPy array and column_names is a list containing the column names in the same order as they appear in train_np_array\n",
    "\n",
    "column_index_song_chart = {name: index for index, name in enumerate(column_names_song_charts)}\n",
    "column_index_song_chart"
   ],
   "metadata": {
    "collapsed": false,
    "ExecuteTime": {
     "start_time": "2024-05-06T16:15:25.699150Z"
    }
   },
   "id": "b7c93946f6d44fe9"
  },
  {
   "cell_type": "code",
   "execution_count": null,
   "outputs": [],
   "source": [
    "song_np = df_songs.to_numpy()\n",
    "column_names = df_songs.columns\n",
    "# Assuming train_np_array is your NumPy array and column_names is a list containing the column names in the same order as they appear in train_np_array\n",
    "\n",
    "column_index_songs = {name: index for index, name in enumerate(column_names)}\n",
    "column_index_songs"
   ],
   "metadata": {
    "collapsed": false,
    "ExecuteTime": {
     "start_time": "2024-05-06T16:15:25.701151900Z"
    }
   },
   "id": "8e4742e476d838e"
  },
  {
   "cell_type": "code",
   "execution_count": null,
   "outputs": [],
   "source": [
    "import numpy as np\n",
    "\n",
    "# Assuming train_np_array is your NumPy array\n",
    "\n",
    "past_years = 3\n",
    "max_amount_days = past_years * 365\n",
    "max_distance_float = max_amount_days * 24 * 60 * 60\n",
    "\n",
    "# Create columns for superstar_v1_x and superstar_v1_y\n",
    "#train_np_array = np.column_stack((train_np_array, np.full(len(train_np_array), 1.0), np.full(len(train_np_array), np.nan)))\n",
    "\n",
    "it = 0\n",
    "for row in train_np_array:\n",
    "    artists_in_row = [row[column_name_to_index[\"artist1_id\"]]]  # Replace artist1_id_index with the index of the artist1_id column\n",
    "    if pd.notna(row[column_name_to_index[\"artist2_id\"]]):  # Replace artist2_id_index with the index of the artist2_id column\n",
    "        artists_in_row.append(row[column_name_to_index[\"artist2_id\"]])\n",
    "\n",
    "    print(it)\n",
    "    it += 1\n",
    "\n",
    "    present = row[column_name_to_index[\"date\"]].replace(hour=23, minute=59, second=59)  # Replace date_index with the index of the date column\n",
    "    border_day = present - pd.DateOffset(years=past_years)\n",
    "    to_filter = song_chart_np[(song_chart_np[:, column_index_song_chart[\"week\"]] <= present) & (song_chart_np[:, column_index_song_chart[\"week\"]] > border_day)]  # Replace week_index with the index of the week column\n",
    "\n",
    "    for nr_art, artist in enumerate(artists_in_row):\n",
    "        hits_amount = 0\n",
    "        song_ids = []\n",
    "        peak_positions = []\n",
    "        days_distances = []\n",
    "\n",
    "        df_num_hit = pd.merge(pd.DataFrame(to_filter, columns=column_names_song_charts), df_songs)  # Assuming df_songs is your NumPy array\n",
    "        np_num_hits = df_num_hit.to_numpy()\n",
    "        column_names = df_num_hit.columns\n",
    "        # Assuming train_np_array is your NumPy array and column_names is a list containing the column names in the same order as they appear in train_np_array\n",
    "        \n",
    "        column_index_num_hits = {name: index for index, name in enumerate(column_names)}\n",
    "        np_num_hits_cpy = np_num_hits.copy()\n",
    "        if not np_num_hits.size == 0:\n",
    "            #print(np_num_hits_cpy)\n",
    "            # Convert the object array to a DataFrame\n",
    "            df_num_hits = pd.DataFrame(np_num_hits, columns=column_names)\n",
    "            \n",
    "            # Perform the unique operation on the DataFrame\n",
    "            df_num_hits_unique = df_num_hits.drop_duplicates(subset=[\"song_id\"])  # Assuming \"song_id\" is the column name for the key\n",
    "            #print(df_num_hits_unique)\n",
    "            # Convert back to a NumPy array if needed\n",
    "            np_num_hits = df_num_hits_unique.to_numpy()\n",
    "\n",
    "            np_between = np_num_hits[:, column_index_num_hits[\"artists_ids\"]]\n",
    "            # if np_between.ndim == 1:\n",
    "            #     np_between = np_between.reshape(-1, 1)\n",
    "            #np_num_hits = np_num_hits[np.unique(np_num_hits[:, column_index_num_hits[\"song_id\"]], axis=0)]  # Replace song_id_index with the index of the song_id column\n",
    "            np_num_hits = np_num_hits[np.apply_along_axis(lambda x: artist in x, axis=1, arr=np_between)]  # Replace artists_ids_index with the index of the artists_ids column\n",
    "            print(np_num_hits)\n",
    "            hits_amount = np_num_hits.size #np.unique(np_num_hits[:, column_index_num_hits[\"song_id\"]]).size\n",
    "            song_ids = np_num_hits[:, column_index_num_hits[\"song_id\"]].tolist()\n",
    "            print(song_ids)\n",
    "            # insert rest of calc here\n",
    "            if hits_amount > 0:\n",
    "                for song_id in song_ids:\n",
    "                    df_song_peak_days = np_num_hits_cpy[np_num_hits_cpy[:, column_index_num_hits[\"song_id\"]] == song_id]\n",
    "                    min_peak_position = np.min(df_song_peak_days[:, column_index_num_hits[\"peak_position\"]])\n",
    "                    peak_positions.append(min_peak_position)\n",
    "\n",
    "                    peak_week = df_song_peak_days[np.argmin(df_song_peak_days[:, column_index_num_hits[\"peak_position\"]]), column_index_num_hits[\"week\"]]\n",
    "                    distance = abs(peak_week - present)\n",
    "                    days_distances.append(distance.total_seconds())\n",
    "\n",
    "                peak_positions = min_max_scaling(peak_positions, 1, 100)\n",
    "                days_distances = min_max_scaling(days_distances, 0.00, max_distance_float)\n",
    "\n",
    "                if nr_art == 0:\n",
    "                    row[column_name_to_index[\"superstar_v1_x\"]] = superstar(hits_amount, peak_positions, days_distances)  # Replace superstar_v1_x_index with the index of the superstar_v1_x column\n",
    "                elif nr_art == 1:\n",
    "                    row[column_name_to_index[\"superstar_v1_y\"]] = superstar(hits_amount, peak_positions, days_distances)  # Replace superstar_v1_y_index with the index of the superstar_v1_y column\n",
    "                print(str(nr_art) + \":   \" + str(superstar(hits_amount, peak_positions, days_distances)))\n"
   ],
   "metadata": {
    "collapsed": false,
    "ExecuteTime": {
     "start_time": "2024-05-06T16:15:25.702150600Z"
    }
   },
   "id": "8a4f804f409a293c"
  },
  {
   "cell_type": "code",
   "execution_count": null,
   "outputs": [],
   "source": [
    "np_num_hits[0, column_index_num_hits[\"artists_ids\"]][0]"
   ],
   "metadata": {
    "collapsed": false,
    "ExecuteTime": {
     "start_time": "2024-05-06T16:15:25.704151200Z"
    }
   },
   "id": "a1360297a230ccca"
  },
  {
   "cell_type": "code",
   "execution_count": null,
   "outputs": [],
   "source": [
    "train_df[\"superstar_native_x\"] = 0\n",
    "train_df[\"superstar_native_y\"] = np.nan"
   ],
   "metadata": {
    "collapsed": false,
    "ExecuteTime": {
     "start_time": "2024-05-06T16:15:25.705151300Z"
    }
   },
   "id": "5e96f643787c916a"
  },
  {
   "cell_type": "markdown",
   "source": [
    "### test_df"
   ],
   "metadata": {
    "collapsed": false
   },
   "id": "50f56934c1a1e8c2"
  }
 ],
 "metadata": {
  "kernelspec": {
   "display_name": "Python 3",
   "language": "python",
   "name": "python3"
  },
  "language_info": {
   "codemirror_mode": {
    "name": "ipython",
    "version": 2
   },
   "file_extension": ".py",
   "mimetype": "text/x-python",
   "name": "python",
   "nbconvert_exporter": "python",
   "pygments_lexer": "ipython2",
   "version": "2.7.6"
  }
 },
 "nbformat": 4,
 "nbformat_minor": 5
}
