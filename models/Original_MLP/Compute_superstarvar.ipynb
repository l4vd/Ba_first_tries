{
 "cells": [
  {
   "cell_type": "code",
   "execution_count": 1,
   "id": "initial_id",
   "metadata": {
    "collapsed": true,
    "ExecuteTime": {
     "end_time": "2024-04-25T11:50:28.557878200Z",
     "start_time": "2024-04-25T11:50:23.246990600Z"
    }
   },
   "outputs": [
    {
     "data": {
      "text/plain": "                       song_id  \\\n0       7kXUEJmfvRXbzxOC0pHQgb   \n1       7A131DrpfbWAfNJLrxikwf   \n2       4SRjOJm5AjO3fxXpZSTEBb   \n3       592dtCLAyLQdUallLhJinO   \n4       2hMAApqyXl7nf2s8dQ6BTv   \n...                        ...   \n911022  5ke0edZBlwRYu01wdej6xq   \n911023  12kc7hUJKpArFQurhlNeNW   \n911024  0lej8CemYKkWVHg77Xe1ky   \n911025  7goArBQdsalqclSyaTywAS   \n911026  6Fh2QgjCxL96dA3Gtpfr4Q   \n\n                                                song_name  song_popularity  \\\n0                          I Can't Believe I'm Losing You              5.0   \n1                                       Top Of The Stairs             26.0   \n2                                   Never Crossed My Mind             20.0   \n3                                              Daddy Cool              1.0   \n4                                     Shame, Shame, Shame              0.0   \n...                                                   ...              ...   \n911022                                         Let Her In              4.0   \n911023                             Stop and Think It Over              1.0   \n911024           A Man Holdin' on (To a Woman Lettin’ Go)             14.0   \n911025                                   Shimmy Shimmy Ya              7.0   \n911026  One Sweet Day (16-Bit Mariah Carey & Boyz II M...              0.0   \n\n        explicit      song_type  track_number  num_artists  \\\n0          False           Solo          12.0          1.0   \n1          False           Solo           4.0          1.0   \n2          False           Solo           3.0          1.0   \n3          False           Solo           6.0          1.0   \n4          False           Solo          15.0          1.0   \n...          ...            ...           ...          ...   \n911022     False           Solo           7.0          1.0   \n911023     False           Solo           9.0          1.0   \n911024     False  Collaboration           7.0          2.0   \n911025     False           Solo           8.0          1.0   \n911026     False           Solo          27.0          1.0   \n\n        num_available_markets release_date  duration_ms  ...  \\\n0                        79.0   1995-01-01     162667.0  ...   \n1                         2.0   1995-01-01     271307.0  ...   \n2                         2.0   1995-01-01     242027.0  ...   \n3                        79.0   1995-01-01     201307.0  ...   \n4                        79.0   1995-01-01     231973.0  ...   \n...                       ...          ...          ...  ...   \n911022                   79.0   2019-08-23     183600.0  ...   \n911023                   79.0   2019-08-23     154413.0  ...   \n911024                   79.0   2019-08-23     231898.0  ...   \n911025                   78.0   2019-08-23     161200.0  ...   \n911026                   79.0   2019-08-26     260910.0  ...   \n\n        betweenesscentrality_y  closnesscentrality_y  clustering_y  degree_y  \\\n0                          0.0              0.000000           0.0       0.0   \n1                          0.0              0.000000           0.0       0.0   \n2                          0.0              0.000000           0.0       0.0   \n3                          0.0              0.000000           0.0       0.0   \n4                          0.0              0.000000           0.0       0.0   \n...                        ...                   ...           ...       ...   \n911022                     0.0              0.000000           0.0       0.0   \n911023                     0.0              0.000000           0.0       0.0   \n911024                     0.0              0.666667           0.0       1.0   \n911025                     0.0              0.000000           0.0       0.0   \n911026                     0.0              0.000000           0.0       0.0   \n\n        eccentricity_y  eigencentrality_y  weighted degree_y  Cluster_y  \\\n0                  0.0                0.0                0.0       -1.0   \n1                  0.0                0.0                0.0       -1.0   \n2                  0.0                0.0                0.0       -1.0   \n3                  0.0                0.0                0.0       -1.0   \n4                  0.0                0.0                0.0       -1.0   \n...                ...                ...                ...        ...   \n911022             0.0                0.0                0.0       -1.0   \n911023             0.0                0.0                0.0       -1.0   \n911024             2.0                0.5                2.0        3.0   \n911025             0.0                0.0                0.0       -1.0   \n911026             0.0                0.0                0.0       -1.0   \n\n          profile_y  years_on_charts  \n0          No Match         0.000000  \n1          No Match         0.000000  \n2          No Match         0.000000  \n3          No Match         0.000000  \n4          No Match         0.000000  \n...             ...              ...  \n911022     No Match         0.383562  \n911023     No Match         0.172603  \n911024  1A 2A 3A 4A         0.191781  \n911025     No Match         0.287671  \n911026     No Match         0.517808  \n\n[911027 rows x 47 columns]",
      "text/html": "<div>\n<style scoped>\n    .dataframe tbody tr th:only-of-type {\n        vertical-align: middle;\n    }\n\n    .dataframe tbody tr th {\n        vertical-align: top;\n    }\n\n    .dataframe thead th {\n        text-align: right;\n    }\n</style>\n<table border=\"1\" class=\"dataframe\">\n  <thead>\n    <tr style=\"text-align: right;\">\n      <th></th>\n      <th>song_id</th>\n      <th>song_name</th>\n      <th>song_popularity</th>\n      <th>explicit</th>\n      <th>song_type</th>\n      <th>track_number</th>\n      <th>num_artists</th>\n      <th>num_available_markets</th>\n      <th>release_date</th>\n      <th>duration_ms</th>\n      <th>...</th>\n      <th>betweenesscentrality_y</th>\n      <th>closnesscentrality_y</th>\n      <th>clustering_y</th>\n      <th>degree_y</th>\n      <th>eccentricity_y</th>\n      <th>eigencentrality_y</th>\n      <th>weighted degree_y</th>\n      <th>Cluster_y</th>\n      <th>profile_y</th>\n      <th>years_on_charts</th>\n    </tr>\n  </thead>\n  <tbody>\n    <tr>\n      <th>0</th>\n      <td>7kXUEJmfvRXbzxOC0pHQgb</td>\n      <td>I Can't Believe I'm Losing You</td>\n      <td>5.0</td>\n      <td>False</td>\n      <td>Solo</td>\n      <td>12.0</td>\n      <td>1.0</td>\n      <td>79.0</td>\n      <td>1995-01-01</td>\n      <td>162667.0</td>\n      <td>...</td>\n      <td>0.0</td>\n      <td>0.000000</td>\n      <td>0.0</td>\n      <td>0.0</td>\n      <td>0.0</td>\n      <td>0.0</td>\n      <td>0.0</td>\n      <td>-1.0</td>\n      <td>No Match</td>\n      <td>0.000000</td>\n    </tr>\n    <tr>\n      <th>1</th>\n      <td>7A131DrpfbWAfNJLrxikwf</td>\n      <td>Top Of The Stairs</td>\n      <td>26.0</td>\n      <td>False</td>\n      <td>Solo</td>\n      <td>4.0</td>\n      <td>1.0</td>\n      <td>2.0</td>\n      <td>1995-01-01</td>\n      <td>271307.0</td>\n      <td>...</td>\n      <td>0.0</td>\n      <td>0.000000</td>\n      <td>0.0</td>\n      <td>0.0</td>\n      <td>0.0</td>\n      <td>0.0</td>\n      <td>0.0</td>\n      <td>-1.0</td>\n      <td>No Match</td>\n      <td>0.000000</td>\n    </tr>\n    <tr>\n      <th>2</th>\n      <td>4SRjOJm5AjO3fxXpZSTEBb</td>\n      <td>Never Crossed My Mind</td>\n      <td>20.0</td>\n      <td>False</td>\n      <td>Solo</td>\n      <td>3.0</td>\n      <td>1.0</td>\n      <td>2.0</td>\n      <td>1995-01-01</td>\n      <td>242027.0</td>\n      <td>...</td>\n      <td>0.0</td>\n      <td>0.000000</td>\n      <td>0.0</td>\n      <td>0.0</td>\n      <td>0.0</td>\n      <td>0.0</td>\n      <td>0.0</td>\n      <td>-1.0</td>\n      <td>No Match</td>\n      <td>0.000000</td>\n    </tr>\n    <tr>\n      <th>3</th>\n      <td>592dtCLAyLQdUallLhJinO</td>\n      <td>Daddy Cool</td>\n      <td>1.0</td>\n      <td>False</td>\n      <td>Solo</td>\n      <td>6.0</td>\n      <td>1.0</td>\n      <td>79.0</td>\n      <td>1995-01-01</td>\n      <td>201307.0</td>\n      <td>...</td>\n      <td>0.0</td>\n      <td>0.000000</td>\n      <td>0.0</td>\n      <td>0.0</td>\n      <td>0.0</td>\n      <td>0.0</td>\n      <td>0.0</td>\n      <td>-1.0</td>\n      <td>No Match</td>\n      <td>0.000000</td>\n    </tr>\n    <tr>\n      <th>4</th>\n      <td>2hMAApqyXl7nf2s8dQ6BTv</td>\n      <td>Shame, Shame, Shame</td>\n      <td>0.0</td>\n      <td>False</td>\n      <td>Solo</td>\n      <td>15.0</td>\n      <td>1.0</td>\n      <td>79.0</td>\n      <td>1995-01-01</td>\n      <td>231973.0</td>\n      <td>...</td>\n      <td>0.0</td>\n      <td>0.000000</td>\n      <td>0.0</td>\n      <td>0.0</td>\n      <td>0.0</td>\n      <td>0.0</td>\n      <td>0.0</td>\n      <td>-1.0</td>\n      <td>No Match</td>\n      <td>0.000000</td>\n    </tr>\n    <tr>\n      <th>...</th>\n      <td>...</td>\n      <td>...</td>\n      <td>...</td>\n      <td>...</td>\n      <td>...</td>\n      <td>...</td>\n      <td>...</td>\n      <td>...</td>\n      <td>...</td>\n      <td>...</td>\n      <td>...</td>\n      <td>...</td>\n      <td>...</td>\n      <td>...</td>\n      <td>...</td>\n      <td>...</td>\n      <td>...</td>\n      <td>...</td>\n      <td>...</td>\n      <td>...</td>\n      <td>...</td>\n    </tr>\n    <tr>\n      <th>911022</th>\n      <td>5ke0edZBlwRYu01wdej6xq</td>\n      <td>Let Her In</td>\n      <td>4.0</td>\n      <td>False</td>\n      <td>Solo</td>\n      <td>7.0</td>\n      <td>1.0</td>\n      <td>79.0</td>\n      <td>2019-08-23</td>\n      <td>183600.0</td>\n      <td>...</td>\n      <td>0.0</td>\n      <td>0.000000</td>\n      <td>0.0</td>\n      <td>0.0</td>\n      <td>0.0</td>\n      <td>0.0</td>\n      <td>0.0</td>\n      <td>-1.0</td>\n      <td>No Match</td>\n      <td>0.383562</td>\n    </tr>\n    <tr>\n      <th>911023</th>\n      <td>12kc7hUJKpArFQurhlNeNW</td>\n      <td>Stop and Think It Over</td>\n      <td>1.0</td>\n      <td>False</td>\n      <td>Solo</td>\n      <td>9.0</td>\n      <td>1.0</td>\n      <td>79.0</td>\n      <td>2019-08-23</td>\n      <td>154413.0</td>\n      <td>...</td>\n      <td>0.0</td>\n      <td>0.000000</td>\n      <td>0.0</td>\n      <td>0.0</td>\n      <td>0.0</td>\n      <td>0.0</td>\n      <td>0.0</td>\n      <td>-1.0</td>\n      <td>No Match</td>\n      <td>0.172603</td>\n    </tr>\n    <tr>\n      <th>911024</th>\n      <td>0lej8CemYKkWVHg77Xe1ky</td>\n      <td>A Man Holdin' on (To a Woman Lettin’ Go)</td>\n      <td>14.0</td>\n      <td>False</td>\n      <td>Collaboration</td>\n      <td>7.0</td>\n      <td>2.0</td>\n      <td>79.0</td>\n      <td>2019-08-23</td>\n      <td>231898.0</td>\n      <td>...</td>\n      <td>0.0</td>\n      <td>0.666667</td>\n      <td>0.0</td>\n      <td>1.0</td>\n      <td>2.0</td>\n      <td>0.5</td>\n      <td>2.0</td>\n      <td>3.0</td>\n      <td>1A 2A 3A 4A</td>\n      <td>0.191781</td>\n    </tr>\n    <tr>\n      <th>911025</th>\n      <td>7goArBQdsalqclSyaTywAS</td>\n      <td>Shimmy Shimmy Ya</td>\n      <td>7.0</td>\n      <td>False</td>\n      <td>Solo</td>\n      <td>8.0</td>\n      <td>1.0</td>\n      <td>78.0</td>\n      <td>2019-08-23</td>\n      <td>161200.0</td>\n      <td>...</td>\n      <td>0.0</td>\n      <td>0.000000</td>\n      <td>0.0</td>\n      <td>0.0</td>\n      <td>0.0</td>\n      <td>0.0</td>\n      <td>0.0</td>\n      <td>-1.0</td>\n      <td>No Match</td>\n      <td>0.287671</td>\n    </tr>\n    <tr>\n      <th>911026</th>\n      <td>6Fh2QgjCxL96dA3Gtpfr4Q</td>\n      <td>One Sweet Day (16-Bit Mariah Carey &amp; Boyz II M...</td>\n      <td>0.0</td>\n      <td>False</td>\n      <td>Solo</td>\n      <td>27.0</td>\n      <td>1.0</td>\n      <td>79.0</td>\n      <td>2019-08-26</td>\n      <td>260910.0</td>\n      <td>...</td>\n      <td>0.0</td>\n      <td>0.000000</td>\n      <td>0.0</td>\n      <td>0.0</td>\n      <td>0.0</td>\n      <td>0.0</td>\n      <td>0.0</td>\n      <td>-1.0</td>\n      <td>No Match</td>\n      <td>0.517808</td>\n    </tr>\n  </tbody>\n</table>\n<p>911027 rows × 47 columns</p>\n</div>"
     },
     "execution_count": 1,
     "metadata": {},
     "output_type": "execute_result"
    }
   ],
   "source": [
    "import pandas as pd\n",
    "\n",
    "df_hsp_song_collab = pd.read_csv(\"HSP_song_collab.csv\", sep=\",\")\n",
    "df_hsp_song_collab"
   ]
  },
  {
   "cell_type": "markdown",
   "source": [
    "## Setup for Superstar:\n",
    "\n",
    "within 3 years"
   ],
   "metadata": {
    "collapsed": false
   },
   "id": "4430fec788235cae"
  },
  {
   "cell_type": "code",
   "execution_count": 2,
   "outputs": [],
   "source": [
    "max_amount_days = 3*365\n",
    "max_amount_days\n",
    "\n",
    "past_years = 3"
   ],
   "metadata": {
    "collapsed": false,
    "ExecuteTime": {
     "end_time": "2024-04-25T11:50:28.579882300Z",
     "start_time": "2024-04-25T11:50:28.557878200Z"
    }
   },
   "id": "ef79cc8b6e995c3e"
  },
  {
   "cell_type": "code",
   "execution_count": 3,
   "outputs": [
    {
     "data": {
      "text/plain": "(Timestamp('2015-08-19 23:59:59'), Timestamp('2012-08-19 23:59:59'))"
     },
     "execution_count": 3,
     "metadata": {},
     "output_type": "execute_result"
    }
   ],
   "source": [
    "from sklearn.model_selection import train_test_split\n",
    "df_hsp_song_collab['date'] = pd.to_datetime(df_hsp_song_collab['release_date'])\n",
    "df_hsp_song_collab.sort_values(by=\"date\", inplace=True)\n",
    "\n",
    "train_df, test_df = train_test_split(df_hsp_song_collab, test_size=0.25, shuffle=False)\n",
    "#train_df.drop(columns=\"date\", inplace=True)\n",
    "#test_df.drop(columns=\"date\", inplace=True)\n",
    "\n",
    "present = (train_df[\"date\"].iloc[-1]).replace(hour=23, minute=59, second=59)\n",
    "present_id = train_df[\"song_id\"].iloc[-1]\n",
    "border_day = present - pd.DateOffset(years=past_years) #border day doesn't belong to the timeframe\n",
    "\n",
    "present, border_day"
   ],
   "metadata": {
    "collapsed": false,
    "ExecuteTime": {
     "end_time": "2024-04-25T11:50:29.433559400Z",
     "start_time": "2024-04-25T11:50:28.575885100Z"
    }
   },
   "id": "f680972aaae5ee6a"
  },
  {
   "cell_type": "markdown",
   "source": [
    "### days and peak position:"
   ],
   "metadata": {
    "collapsed": false
   },
   "id": "47630050154da34"
  },
  {
   "cell_type": "code",
   "execution_count": 4,
   "outputs": [
    {
     "data": {
      "text/plain": "                       song_id  rank_score  peak_position  weeks_on_chart  \\\n0       3e9HZxeyfWwjeyPAMmWSSQ         100            100               7   \n1       5p7ujcrUXASCNwRaWNHR1C          99             99              11   \n2       2xLMifQCjDGFmkHkpNLD9h          98            100              20   \n3       3KkXRkHbMCARz0aVfEt68P          97             97               9   \n4       1rqqCSm0Qe4I9rUvWncaom          95             96              20   \n...                        ...         ...            ...             ...   \n250387  6vPS75nWOKkuH5WTLD8hDc           7             23               5   \n250388  2BCjoFA0nJlXBLRf3164bN           6              6               0   \n250389  7Gk1QKi2BAZCnrYlrYEDjC           4             11               4   \n250390  7rxev6ErpRE5VYaamjs4T3           2              2               0   \n250391  1TRvdHDqCIcTQpHTZbFttC           1              1               0   \n\n             week  \n0      2018-12-29  \n1      2018-12-29  \n2      2018-12-29  \n3      2018-12-29  \n4      2018-12-29  \n...           ...  \n250387 1964-01-04  \n250388 1964-01-04  \n250389 1964-01-04  \n250390 1964-01-04  \n250391 1964-01-04  \n\n[250392 rows x 5 columns]",
      "text/html": "<div>\n<style scoped>\n    .dataframe tbody tr th:only-of-type {\n        vertical-align: middle;\n    }\n\n    .dataframe tbody tr th {\n        vertical-align: top;\n    }\n\n    .dataframe thead th {\n        text-align: right;\n    }\n</style>\n<table border=\"1\" class=\"dataframe\">\n  <thead>\n    <tr style=\"text-align: right;\">\n      <th></th>\n      <th>song_id</th>\n      <th>rank_score</th>\n      <th>peak_position</th>\n      <th>weeks_on_chart</th>\n      <th>week</th>\n    </tr>\n  </thead>\n  <tbody>\n    <tr>\n      <th>0</th>\n      <td>3e9HZxeyfWwjeyPAMmWSSQ</td>\n      <td>100</td>\n      <td>100</td>\n      <td>7</td>\n      <td>2018-12-29</td>\n    </tr>\n    <tr>\n      <th>1</th>\n      <td>5p7ujcrUXASCNwRaWNHR1C</td>\n      <td>99</td>\n      <td>99</td>\n      <td>11</td>\n      <td>2018-12-29</td>\n    </tr>\n    <tr>\n      <th>2</th>\n      <td>2xLMifQCjDGFmkHkpNLD9h</td>\n      <td>98</td>\n      <td>100</td>\n      <td>20</td>\n      <td>2018-12-29</td>\n    </tr>\n    <tr>\n      <th>3</th>\n      <td>3KkXRkHbMCARz0aVfEt68P</td>\n      <td>97</td>\n      <td>97</td>\n      <td>9</td>\n      <td>2018-12-29</td>\n    </tr>\n    <tr>\n      <th>4</th>\n      <td>1rqqCSm0Qe4I9rUvWncaom</td>\n      <td>95</td>\n      <td>96</td>\n      <td>20</td>\n      <td>2018-12-29</td>\n    </tr>\n    <tr>\n      <th>...</th>\n      <td>...</td>\n      <td>...</td>\n      <td>...</td>\n      <td>...</td>\n      <td>...</td>\n    </tr>\n    <tr>\n      <th>250387</th>\n      <td>6vPS75nWOKkuH5WTLD8hDc</td>\n      <td>7</td>\n      <td>23</td>\n      <td>5</td>\n      <td>1964-01-04</td>\n    </tr>\n    <tr>\n      <th>250388</th>\n      <td>2BCjoFA0nJlXBLRf3164bN</td>\n      <td>6</td>\n      <td>6</td>\n      <td>0</td>\n      <td>1964-01-04</td>\n    </tr>\n    <tr>\n      <th>250389</th>\n      <td>7Gk1QKi2BAZCnrYlrYEDjC</td>\n      <td>4</td>\n      <td>11</td>\n      <td>4</td>\n      <td>1964-01-04</td>\n    </tr>\n    <tr>\n      <th>250390</th>\n      <td>7rxev6ErpRE5VYaamjs4T3</td>\n      <td>2</td>\n      <td>2</td>\n      <td>0</td>\n      <td>1964-01-04</td>\n    </tr>\n    <tr>\n      <th>250391</th>\n      <td>1TRvdHDqCIcTQpHTZbFttC</td>\n      <td>1</td>\n      <td>1</td>\n      <td>0</td>\n      <td>1964-01-04</td>\n    </tr>\n  </tbody>\n</table>\n<p>250392 rows × 5 columns</p>\n</div>"
     },
     "execution_count": 4,
     "metadata": {},
     "output_type": "execute_result"
    }
   ],
   "source": [
    "df_song_chart = pd.read_csv(\"../../MusicOSet/musicoset_popularity/song_chart.csv\", sep=\"\\t\")            #nur auf train daten, da rest unbekannt (für charts)\n",
    "df_song_chart['week'] = pd.to_datetime(df_song_chart['week']) #evtl später wegen runtime\n",
    "df_song_chart"
   ],
   "metadata": {
    "collapsed": false,
    "ExecuteTime": {
     "end_time": "2024-04-25T11:50:29.607555600Z",
     "start_time": "2024-04-25T11:50:29.432556700Z"
    }
   },
   "id": "20650bbe3a810289"
  },
  {
   "cell_type": "code",
   "execution_count": 5,
   "outputs": [],
   "source": [
    "to_filter = df_song_chart[df_song_chart[\"song_id\"] == present_id] ## if len == 0 append 1 "
   ],
   "metadata": {
    "collapsed": false,
    "ExecuteTime": {
     "end_time": "2024-04-25T11:50:29.637556100Z",
     "start_time": "2024-04-25T11:50:29.613558500Z"
    }
   },
   "id": "24813ee11b8fda90"
  },
  {
   "cell_type": "code",
   "execution_count": 6,
   "outputs": [
    {
     "data": {
      "text/plain": "                      song_id  rank_score  peak_position  weeks_on_chart  \\\n12415  7yq4Qj7cqayVTp3FF9CWbm          51             71              44   \n12475  7yq4Qj7cqayVTp3FF9CWbm          59             71              43   \n12537  7yq4Qj7cqayVTp3FF9CWbm          63             71              42   \n12600  7yq4Qj7cqayVTp3FF9CWbm          61             71              41   \n12664  7yq4Qj7cqayVTp3FF9CWbm          63             71              40   \n12732  7yq4Qj7cqayVTp3FF9CWbm          61             71              39   \n12799  7yq4Qj7cqayVTp3FF9CWbm          63             71              38   \n12867  7yq4Qj7cqayVTp3FF9CWbm          64             71              37   \n12932  7yq4Qj7cqayVTp3FF9CWbm          68             71              36   \n13000  7yq4Qj7cqayVTp3FF9CWbm          70             71              35   \n13071  7yq4Qj7cqayVTp3FF9CWbm          69             71              34   \n13141  7yq4Qj7cqayVTp3FF9CWbm          68             71              33   \n13203  7yq4Qj7cqayVTp3FF9CWbm          69             71              32   \n13272  7yq4Qj7cqayVTp3FF9CWbm          70             71              31   \n13337  7yq4Qj7cqayVTp3FF9CWbm          71             71              30   \n13400  7yq4Qj7cqayVTp3FF9CWbm          68             69              29   \n13465  7yq4Qj7cqayVTp3FF9CWbm          65             69              28   \n13529  7yq4Qj7cqayVTp3FF9CWbm          69             69              27   \n13595  7yq4Qj7cqayVTp3FF9CWbm          69             69              26   \n13660  7yq4Qj7cqayVTp3FF9CWbm          69             69              25   \n13729  7yq4Qj7cqayVTp3FF9CWbm          64             69              24   \n13799  7yq4Qj7cqayVTp3FF9CWbm          61             69              23   \n13864  7yq4Qj7cqayVTp3FF9CWbm          67             69              22   \n13928  7yq4Qj7cqayVTp3FF9CWbm          69             69              21   \n14009  7yq4Qj7cqayVTp3FF9CWbm          55             55              20   \n14080  7yq4Qj7cqayVTp3FF9CWbm          53             54              19   \n14152  7yq4Qj7cqayVTp3FF9CWbm          52             54              18   \n14217  7yq4Qj7cqayVTp3FF9CWbm          54             54              17   \n14281  7yq4Qj7cqayVTp3FF9CWbm          51             51              16   \n14348  7yq4Qj7cqayVTp3FF9CWbm          48             49              15   \n14408  7yq4Qj7cqayVTp3FF9CWbm          49             49              14   \n14470  7yq4Qj7cqayVTp3FF9CWbm          47             47              13   \n14533  7yq4Qj7cqayVTp3FF9CWbm          46             46              12   \n14598  7yq4Qj7cqayVTp3FF9CWbm          42             42              11   \n14661  7yq4Qj7cqayVTp3FF9CWbm          40             40              10   \n14727  7yq4Qj7cqayVTp3FF9CWbm          40             40               9   \n14795  7yq4Qj7cqayVTp3FF9CWbm          37             37               8   \n14864  7yq4Qj7cqayVTp3FF9CWbm          37             37               7   \n14935  7yq4Qj7cqayVTp3FF9CWbm          31             31               6   \n15008  7yq4Qj7cqayVTp3FF9CWbm          26             26               5   \n15078  7yq4Qj7cqayVTp3FF9CWbm          26             26               4   \n15153  7yq4Qj7cqayVTp3FF9CWbm          16             16               3   \n15223  7yq4Qj7cqayVTp3FF9CWbm          12             12               2   \n15286  7yq4Qj7cqayVTp3FF9CWbm           9              9               0   \n\n            week  \n12415 2015-05-09  \n12475 2015-05-02  \n12537 2015-04-25  \n12600 2015-04-18  \n12664 2015-04-11  \n12732 2015-04-04  \n12799 2015-03-28  \n12867 2015-03-21  \n12932 2015-03-14  \n13000 2015-03-07  \n13071 2015-02-28  \n13141 2015-02-21  \n13203 2015-02-14  \n13272 2015-02-07  \n13337 2015-01-31  \n13400 2015-01-24  \n13465 2015-01-17  \n13529 2015-01-10  \n13595 2015-01-03  \n13660 2014-12-27  \n13729 2014-12-20  \n13799 2014-12-13  \n13864 2014-12-06  \n13928 2014-11-29  \n14009 2014-11-22  \n14080 2014-11-15  \n14152 2014-11-08  \n14217 2014-11-01  \n14281 2014-10-25  \n14348 2014-10-18  \n14408 2014-10-11  \n14470 2014-10-04  \n14533 2014-09-27  \n14598 2014-09-20  \n14661 2014-09-13  \n14727 2014-09-06  \n14795 2014-08-30  \n14864 2014-08-23  \n14935 2014-08-16  \n15008 2014-08-09  \n15078 2014-08-02  \n15153 2014-07-26  \n15223 2014-07-19  \n15286 2014-07-12  ",
      "text/html": "<div>\n<style scoped>\n    .dataframe tbody tr th:only-of-type {\n        vertical-align: middle;\n    }\n\n    .dataframe tbody tr th {\n        vertical-align: top;\n    }\n\n    .dataframe thead th {\n        text-align: right;\n    }\n</style>\n<table border=\"1\" class=\"dataframe\">\n  <thead>\n    <tr style=\"text-align: right;\">\n      <th></th>\n      <th>song_id</th>\n      <th>rank_score</th>\n      <th>peak_position</th>\n      <th>weeks_on_chart</th>\n      <th>week</th>\n    </tr>\n  </thead>\n  <tbody>\n    <tr>\n      <th>12415</th>\n      <td>7yq4Qj7cqayVTp3FF9CWbm</td>\n      <td>51</td>\n      <td>71</td>\n      <td>44</td>\n      <td>2015-05-09</td>\n    </tr>\n    <tr>\n      <th>12475</th>\n      <td>7yq4Qj7cqayVTp3FF9CWbm</td>\n      <td>59</td>\n      <td>71</td>\n      <td>43</td>\n      <td>2015-05-02</td>\n    </tr>\n    <tr>\n      <th>12537</th>\n      <td>7yq4Qj7cqayVTp3FF9CWbm</td>\n      <td>63</td>\n      <td>71</td>\n      <td>42</td>\n      <td>2015-04-25</td>\n    </tr>\n    <tr>\n      <th>12600</th>\n      <td>7yq4Qj7cqayVTp3FF9CWbm</td>\n      <td>61</td>\n      <td>71</td>\n      <td>41</td>\n      <td>2015-04-18</td>\n    </tr>\n    <tr>\n      <th>12664</th>\n      <td>7yq4Qj7cqayVTp3FF9CWbm</td>\n      <td>63</td>\n      <td>71</td>\n      <td>40</td>\n      <td>2015-04-11</td>\n    </tr>\n    <tr>\n      <th>12732</th>\n      <td>7yq4Qj7cqayVTp3FF9CWbm</td>\n      <td>61</td>\n      <td>71</td>\n      <td>39</td>\n      <td>2015-04-04</td>\n    </tr>\n    <tr>\n      <th>12799</th>\n      <td>7yq4Qj7cqayVTp3FF9CWbm</td>\n      <td>63</td>\n      <td>71</td>\n      <td>38</td>\n      <td>2015-03-28</td>\n    </tr>\n    <tr>\n      <th>12867</th>\n      <td>7yq4Qj7cqayVTp3FF9CWbm</td>\n      <td>64</td>\n      <td>71</td>\n      <td>37</td>\n      <td>2015-03-21</td>\n    </tr>\n    <tr>\n      <th>12932</th>\n      <td>7yq4Qj7cqayVTp3FF9CWbm</td>\n      <td>68</td>\n      <td>71</td>\n      <td>36</td>\n      <td>2015-03-14</td>\n    </tr>\n    <tr>\n      <th>13000</th>\n      <td>7yq4Qj7cqayVTp3FF9CWbm</td>\n      <td>70</td>\n      <td>71</td>\n      <td>35</td>\n      <td>2015-03-07</td>\n    </tr>\n    <tr>\n      <th>13071</th>\n      <td>7yq4Qj7cqayVTp3FF9CWbm</td>\n      <td>69</td>\n      <td>71</td>\n      <td>34</td>\n      <td>2015-02-28</td>\n    </tr>\n    <tr>\n      <th>13141</th>\n      <td>7yq4Qj7cqayVTp3FF9CWbm</td>\n      <td>68</td>\n      <td>71</td>\n      <td>33</td>\n      <td>2015-02-21</td>\n    </tr>\n    <tr>\n      <th>13203</th>\n      <td>7yq4Qj7cqayVTp3FF9CWbm</td>\n      <td>69</td>\n      <td>71</td>\n      <td>32</td>\n      <td>2015-02-14</td>\n    </tr>\n    <tr>\n      <th>13272</th>\n      <td>7yq4Qj7cqayVTp3FF9CWbm</td>\n      <td>70</td>\n      <td>71</td>\n      <td>31</td>\n      <td>2015-02-07</td>\n    </tr>\n    <tr>\n      <th>13337</th>\n      <td>7yq4Qj7cqayVTp3FF9CWbm</td>\n      <td>71</td>\n      <td>71</td>\n      <td>30</td>\n      <td>2015-01-31</td>\n    </tr>\n    <tr>\n      <th>13400</th>\n      <td>7yq4Qj7cqayVTp3FF9CWbm</td>\n      <td>68</td>\n      <td>69</td>\n      <td>29</td>\n      <td>2015-01-24</td>\n    </tr>\n    <tr>\n      <th>13465</th>\n      <td>7yq4Qj7cqayVTp3FF9CWbm</td>\n      <td>65</td>\n      <td>69</td>\n      <td>28</td>\n      <td>2015-01-17</td>\n    </tr>\n    <tr>\n      <th>13529</th>\n      <td>7yq4Qj7cqayVTp3FF9CWbm</td>\n      <td>69</td>\n      <td>69</td>\n      <td>27</td>\n      <td>2015-01-10</td>\n    </tr>\n    <tr>\n      <th>13595</th>\n      <td>7yq4Qj7cqayVTp3FF9CWbm</td>\n      <td>69</td>\n      <td>69</td>\n      <td>26</td>\n      <td>2015-01-03</td>\n    </tr>\n    <tr>\n      <th>13660</th>\n      <td>7yq4Qj7cqayVTp3FF9CWbm</td>\n      <td>69</td>\n      <td>69</td>\n      <td>25</td>\n      <td>2014-12-27</td>\n    </tr>\n    <tr>\n      <th>13729</th>\n      <td>7yq4Qj7cqayVTp3FF9CWbm</td>\n      <td>64</td>\n      <td>69</td>\n      <td>24</td>\n      <td>2014-12-20</td>\n    </tr>\n    <tr>\n      <th>13799</th>\n      <td>7yq4Qj7cqayVTp3FF9CWbm</td>\n      <td>61</td>\n      <td>69</td>\n      <td>23</td>\n      <td>2014-12-13</td>\n    </tr>\n    <tr>\n      <th>13864</th>\n      <td>7yq4Qj7cqayVTp3FF9CWbm</td>\n      <td>67</td>\n      <td>69</td>\n      <td>22</td>\n      <td>2014-12-06</td>\n    </tr>\n    <tr>\n      <th>13928</th>\n      <td>7yq4Qj7cqayVTp3FF9CWbm</td>\n      <td>69</td>\n      <td>69</td>\n      <td>21</td>\n      <td>2014-11-29</td>\n    </tr>\n    <tr>\n      <th>14009</th>\n      <td>7yq4Qj7cqayVTp3FF9CWbm</td>\n      <td>55</td>\n      <td>55</td>\n      <td>20</td>\n      <td>2014-11-22</td>\n    </tr>\n    <tr>\n      <th>14080</th>\n      <td>7yq4Qj7cqayVTp3FF9CWbm</td>\n      <td>53</td>\n      <td>54</td>\n      <td>19</td>\n      <td>2014-11-15</td>\n    </tr>\n    <tr>\n      <th>14152</th>\n      <td>7yq4Qj7cqayVTp3FF9CWbm</td>\n      <td>52</td>\n      <td>54</td>\n      <td>18</td>\n      <td>2014-11-08</td>\n    </tr>\n    <tr>\n      <th>14217</th>\n      <td>7yq4Qj7cqayVTp3FF9CWbm</td>\n      <td>54</td>\n      <td>54</td>\n      <td>17</td>\n      <td>2014-11-01</td>\n    </tr>\n    <tr>\n      <th>14281</th>\n      <td>7yq4Qj7cqayVTp3FF9CWbm</td>\n      <td>51</td>\n      <td>51</td>\n      <td>16</td>\n      <td>2014-10-25</td>\n    </tr>\n    <tr>\n      <th>14348</th>\n      <td>7yq4Qj7cqayVTp3FF9CWbm</td>\n      <td>48</td>\n      <td>49</td>\n      <td>15</td>\n      <td>2014-10-18</td>\n    </tr>\n    <tr>\n      <th>14408</th>\n      <td>7yq4Qj7cqayVTp3FF9CWbm</td>\n      <td>49</td>\n      <td>49</td>\n      <td>14</td>\n      <td>2014-10-11</td>\n    </tr>\n    <tr>\n      <th>14470</th>\n      <td>7yq4Qj7cqayVTp3FF9CWbm</td>\n      <td>47</td>\n      <td>47</td>\n      <td>13</td>\n      <td>2014-10-04</td>\n    </tr>\n    <tr>\n      <th>14533</th>\n      <td>7yq4Qj7cqayVTp3FF9CWbm</td>\n      <td>46</td>\n      <td>46</td>\n      <td>12</td>\n      <td>2014-09-27</td>\n    </tr>\n    <tr>\n      <th>14598</th>\n      <td>7yq4Qj7cqayVTp3FF9CWbm</td>\n      <td>42</td>\n      <td>42</td>\n      <td>11</td>\n      <td>2014-09-20</td>\n    </tr>\n    <tr>\n      <th>14661</th>\n      <td>7yq4Qj7cqayVTp3FF9CWbm</td>\n      <td>40</td>\n      <td>40</td>\n      <td>10</td>\n      <td>2014-09-13</td>\n    </tr>\n    <tr>\n      <th>14727</th>\n      <td>7yq4Qj7cqayVTp3FF9CWbm</td>\n      <td>40</td>\n      <td>40</td>\n      <td>9</td>\n      <td>2014-09-06</td>\n    </tr>\n    <tr>\n      <th>14795</th>\n      <td>7yq4Qj7cqayVTp3FF9CWbm</td>\n      <td>37</td>\n      <td>37</td>\n      <td>8</td>\n      <td>2014-08-30</td>\n    </tr>\n    <tr>\n      <th>14864</th>\n      <td>7yq4Qj7cqayVTp3FF9CWbm</td>\n      <td>37</td>\n      <td>37</td>\n      <td>7</td>\n      <td>2014-08-23</td>\n    </tr>\n    <tr>\n      <th>14935</th>\n      <td>7yq4Qj7cqayVTp3FF9CWbm</td>\n      <td>31</td>\n      <td>31</td>\n      <td>6</td>\n      <td>2014-08-16</td>\n    </tr>\n    <tr>\n      <th>15008</th>\n      <td>7yq4Qj7cqayVTp3FF9CWbm</td>\n      <td>26</td>\n      <td>26</td>\n      <td>5</td>\n      <td>2014-08-09</td>\n    </tr>\n    <tr>\n      <th>15078</th>\n      <td>7yq4Qj7cqayVTp3FF9CWbm</td>\n      <td>26</td>\n      <td>26</td>\n      <td>4</td>\n      <td>2014-08-02</td>\n    </tr>\n    <tr>\n      <th>15153</th>\n      <td>7yq4Qj7cqayVTp3FF9CWbm</td>\n      <td>16</td>\n      <td>16</td>\n      <td>3</td>\n      <td>2014-07-26</td>\n    </tr>\n    <tr>\n      <th>15223</th>\n      <td>7yq4Qj7cqayVTp3FF9CWbm</td>\n      <td>12</td>\n      <td>12</td>\n      <td>2</td>\n      <td>2014-07-19</td>\n    </tr>\n    <tr>\n      <th>15286</th>\n      <td>7yq4Qj7cqayVTp3FF9CWbm</td>\n      <td>9</td>\n      <td>9</td>\n      <td>0</td>\n      <td>2014-07-12</td>\n    </tr>\n  </tbody>\n</table>\n</div>"
     },
     "execution_count": 6,
     "metadata": {},
     "output_type": "execute_result"
    }
   ],
   "source": [
    "#mit bsp id\n",
    "\n",
    "to_filter = df_song_chart[df_song_chart[\"song_id\"] == \"7yq4Qj7cqayVTp3FF9CWbm\"]#.copy()\n",
    "#to_filter['week'] = pd.to_datetime(to_filter['week'])\n",
    "to_filter = to_filter[(to_filter[\"week\"] < present) & (to_filter[\"week\"] > border_day)]#pd.Timestamp(\"2015-05-02\"))] ist immer für die Vergangene Woche das chart datum?\n",
    "to_filter"
   ],
   "metadata": {
    "collapsed": false,
    "ExecuteTime": {
     "end_time": "2024-04-25T11:50:29.725557800Z",
     "start_time": "2024-04-25T11:50:29.631558400Z"
    }
   },
   "id": "89c08e57f26dfe48"
  },
  {
   "cell_type": "code",
   "execution_count": 7,
   "outputs": [
    {
     "data": {
      "text/plain": "(9, 15286)"
     },
     "execution_count": 7,
     "metadata": {},
     "output_type": "execute_result"
    }
   ],
   "source": [
    "min_peak_position = to_filter[\"peak_position\"].min()\n",
    "peak_position_index = to_filter[\"peak_position\"].idxmin()  #returns first occurance and therfore newer pos\n",
    "min_peak_position, peak_position_index #best chart placement (append)"
   ],
   "metadata": {
    "collapsed": false,
    "ExecuteTime": {
     "end_time": "2024-04-25T11:50:29.747557400Z",
     "start_time": "2024-04-25T11:50:29.663560200Z"
    }
   },
   "id": "80b27f25a9fbd3b9"
  },
  {
   "cell_type": "code",
   "execution_count": 8,
   "outputs": [
    {
     "data": {
      "text/plain": "Timestamp('2014-07-12 00:00:00')"
     },
     "execution_count": 8,
     "metadata": {},
     "output_type": "execute_result"
    }
   ],
   "source": [
    "peak_week = to_filter.loc[peak_position_index][\"week\"]\n",
    "peak_week"
   ],
   "metadata": {
    "collapsed": false,
    "ExecuteTime": {
     "end_time": "2024-04-25T11:50:29.747557400Z",
     "start_time": "2024-04-25T11:50:29.675557600Z"
    }
   },
   "id": "de5304aecf37b85b"
  },
  {
   "cell_type": "code",
   "execution_count": 9,
   "outputs": [
    {
     "data": {
      "text/plain": "Timedelta('403 days 23:59:59')"
     },
     "execution_count": 9,
     "metadata": {},
     "output_type": "execute_result"
    }
   ],
   "source": [
    "distance = abs(peak_week - present) #distance from peak chart placement\n",
    "distance"
   ],
   "metadata": {
    "collapsed": false,
    "ExecuteTime": {
     "end_time": "2024-04-25T11:50:29.748556600Z",
     "start_time": "2024-04-25T11:50:29.693557500Z"
    }
   },
   "id": "dd59e797e374a51f"
  },
  {
   "cell_type": "code",
   "execution_count": 10,
   "outputs": [],
   "source": [
    "seconds_float = distance.total_seconds()  #distance as float append"
   ],
   "metadata": {
    "collapsed": false,
    "ExecuteTime": {
     "end_time": "2024-04-25T11:50:29.748556600Z",
     "start_time": "2024-04-25T11:50:29.705559Z"
    }
   },
   "id": "1a772b2651234628"
  },
  {
   "cell_type": "markdown",
   "source": [
    "### Amount of Hits:"
   ],
   "metadata": {
    "collapsed": false
   },
   "id": "940f8d1b0a109938"
  },
  {
   "cell_type": "code",
   "execution_count": 11,
   "outputs": [
    {
     "data": {
      "text/plain": "                      song_id  rank_score  peak_position  weeks_on_chart  \\\n11497  5ByIHT8s38diBQf6dkEWbt         100            100              15   \n11498  22VdIZQfgXJea34mQxlt81          99             99               8   \n11499  2d8JP84HNLKhmd6IYOoupQ          94             99              28   \n11500  37f4ITSlgPX81ad2EvmVQr          92             93              16   \n11501  0kzw2tRyuL9rzipi5ntlIy          91             97              38   \n...                       ...         ...            ...             ...   \n21872  4UZifG6wVTl3dFIeHKLi8y           5             31               6   \n21873  4kte3OcW800TPvOVgrLLj8           4              4               2   \n21874  62yJjFtgkhUrXktIoSjgP2           3              8               2   \n21875  5lN1EH25gdiqT1SFALMAq1           2              7               6   \n21876  1qIgyDoc2rwtq8w49jeWL8           1              1               0   \n\n            week  \n11497 2015-08-15  \n11498 2015-08-15  \n11499 2015-08-15  \n11500 2015-08-15  \n11501 2015-08-15  \n...          ...  \n21872 2012-08-25  \n21873 2012-08-25  \n21874 2012-08-25  \n21875 2012-08-25  \n21876 2012-08-25  \n\n[10380 rows x 5 columns]",
      "text/html": "<div>\n<style scoped>\n    .dataframe tbody tr th:only-of-type {\n        vertical-align: middle;\n    }\n\n    .dataframe tbody tr th {\n        vertical-align: top;\n    }\n\n    .dataframe thead th {\n        text-align: right;\n    }\n</style>\n<table border=\"1\" class=\"dataframe\">\n  <thead>\n    <tr style=\"text-align: right;\">\n      <th></th>\n      <th>song_id</th>\n      <th>rank_score</th>\n      <th>peak_position</th>\n      <th>weeks_on_chart</th>\n      <th>week</th>\n    </tr>\n  </thead>\n  <tbody>\n    <tr>\n      <th>11497</th>\n      <td>5ByIHT8s38diBQf6dkEWbt</td>\n      <td>100</td>\n      <td>100</td>\n      <td>15</td>\n      <td>2015-08-15</td>\n    </tr>\n    <tr>\n      <th>11498</th>\n      <td>22VdIZQfgXJea34mQxlt81</td>\n      <td>99</td>\n      <td>99</td>\n      <td>8</td>\n      <td>2015-08-15</td>\n    </tr>\n    <tr>\n      <th>11499</th>\n      <td>2d8JP84HNLKhmd6IYOoupQ</td>\n      <td>94</td>\n      <td>99</td>\n      <td>28</td>\n      <td>2015-08-15</td>\n    </tr>\n    <tr>\n      <th>11500</th>\n      <td>37f4ITSlgPX81ad2EvmVQr</td>\n      <td>92</td>\n      <td>93</td>\n      <td>16</td>\n      <td>2015-08-15</td>\n    </tr>\n    <tr>\n      <th>11501</th>\n      <td>0kzw2tRyuL9rzipi5ntlIy</td>\n      <td>91</td>\n      <td>97</td>\n      <td>38</td>\n      <td>2015-08-15</td>\n    </tr>\n    <tr>\n      <th>...</th>\n      <td>...</td>\n      <td>...</td>\n      <td>...</td>\n      <td>...</td>\n      <td>...</td>\n    </tr>\n    <tr>\n      <th>21872</th>\n      <td>4UZifG6wVTl3dFIeHKLi8y</td>\n      <td>5</td>\n      <td>31</td>\n      <td>6</td>\n      <td>2012-08-25</td>\n    </tr>\n    <tr>\n      <th>21873</th>\n      <td>4kte3OcW800TPvOVgrLLj8</td>\n      <td>4</td>\n      <td>4</td>\n      <td>2</td>\n      <td>2012-08-25</td>\n    </tr>\n    <tr>\n      <th>21874</th>\n      <td>62yJjFtgkhUrXktIoSjgP2</td>\n      <td>3</td>\n      <td>8</td>\n      <td>2</td>\n      <td>2012-08-25</td>\n    </tr>\n    <tr>\n      <th>21875</th>\n      <td>5lN1EH25gdiqT1SFALMAq1</td>\n      <td>2</td>\n      <td>7</td>\n      <td>6</td>\n      <td>2012-08-25</td>\n    </tr>\n    <tr>\n      <th>21876</th>\n      <td>1qIgyDoc2rwtq8w49jeWL8</td>\n      <td>1</td>\n      <td>1</td>\n      <td>0</td>\n      <td>2012-08-25</td>\n    </tr>\n  </tbody>\n</table>\n<p>10380 rows × 5 columns</p>\n</div>"
     },
     "execution_count": 11,
     "metadata": {},
     "output_type": "execute_result"
    }
   ],
   "source": [
    "\n",
    "to_filter = df_song_chart.copy()\n",
    "#to_filter['week'] = pd.to_datetime(to_filter['week'])\n",
    "to_filter = to_filter[(to_filter[\"week\"] < present) & (to_filter[\"week\"] > border_day)]\n",
    "to_filter"
   ],
   "metadata": {
    "collapsed": false,
    "ExecuteTime": {
     "end_time": "2024-04-25T11:50:29.850557500Z",
     "start_time": "2024-04-25T11:50:29.723557900Z"
    }
   },
   "id": "7a32411735ca3933"
  },
  {
   "cell_type": "code",
   "execution_count": 12,
   "outputs": [
    {
     "data": {
      "text/plain": "                      song_id  \\\n0      3e9HZxeyfWwjeyPAMmWSSQ   \n1      5p7ujcrUXASCNwRaWNHR1C   \n2      2xLMifQCjDGFmkHkpNLD9h   \n3      3KkXRkHbMCARz0aVfEt68P   \n4      1rqqCSm0Qe4I9rUvWncaom   \n...                       ...   \n20400  4NnhLA66RRLXxKbiiscU9R   \n20401  2jHfXdCLibrI1J56LnUAZv   \n20402  6zqsyB7uIvWrL1iCJzpNrs   \n20403  5mz9pQZZXNpAw9CdQ7Bk8q   \n20404  2H9CKpZiLDF223BbwehpDF   \n\n                                            artists_ids  \n0                              [66CXWjxzNUsdJxJ2JdwvnR]  \n1                              [26VFTg2z8YR0cCuwLzESi2]  \n2                              [0Y5tJX1MQlPlqiwlOH1tJY]  \n3      [246dkjvS1zLTtiykXe5h60, 1zNqQNIdeOUZHb8zbZRFMX]  \n4                              [20JZFwl6HVl6yg8a4H3ZqK]  \n...                                                 ...  \n20400                          [5X3TuTi9OIsJXMGxPwTKM2]  \n20401                          [6lHC2EQMEMZiEmSfFloarn]  \n20402                          [5X3TuTi9OIsJXMGxPwTKM2]  \n20403                          [6lHC2EQMEMZiEmSfFloarn]  \n20404                          [6wPhSqRtPu1UhRCDX5yaDJ]  \n\n[20405 rows x 2 columns]",
      "text/html": "<div>\n<style scoped>\n    .dataframe tbody tr th:only-of-type {\n        vertical-align: middle;\n    }\n\n    .dataframe tbody tr th {\n        vertical-align: top;\n    }\n\n    .dataframe thead th {\n        text-align: right;\n    }\n</style>\n<table border=\"1\" class=\"dataframe\">\n  <thead>\n    <tr style=\"text-align: right;\">\n      <th></th>\n      <th>song_id</th>\n      <th>artists_ids</th>\n    </tr>\n  </thead>\n  <tbody>\n    <tr>\n      <th>0</th>\n      <td>3e9HZxeyfWwjeyPAMmWSSQ</td>\n      <td>[66CXWjxzNUsdJxJ2JdwvnR]</td>\n    </tr>\n    <tr>\n      <th>1</th>\n      <td>5p7ujcrUXASCNwRaWNHR1C</td>\n      <td>[26VFTg2z8YR0cCuwLzESi2]</td>\n    </tr>\n    <tr>\n      <th>2</th>\n      <td>2xLMifQCjDGFmkHkpNLD9h</td>\n      <td>[0Y5tJX1MQlPlqiwlOH1tJY]</td>\n    </tr>\n    <tr>\n      <th>3</th>\n      <td>3KkXRkHbMCARz0aVfEt68P</td>\n      <td>[246dkjvS1zLTtiykXe5h60, 1zNqQNIdeOUZHb8zbZRFMX]</td>\n    </tr>\n    <tr>\n      <th>4</th>\n      <td>1rqqCSm0Qe4I9rUvWncaom</td>\n      <td>[20JZFwl6HVl6yg8a4H3ZqK]</td>\n    </tr>\n    <tr>\n      <th>...</th>\n      <td>...</td>\n      <td>...</td>\n    </tr>\n    <tr>\n      <th>20400</th>\n      <td>4NnhLA66RRLXxKbiiscU9R</td>\n      <td>[5X3TuTi9OIsJXMGxPwTKM2]</td>\n    </tr>\n    <tr>\n      <th>20401</th>\n      <td>2jHfXdCLibrI1J56LnUAZv</td>\n      <td>[6lHC2EQMEMZiEmSfFloarn]</td>\n    </tr>\n    <tr>\n      <th>20402</th>\n      <td>6zqsyB7uIvWrL1iCJzpNrs</td>\n      <td>[5X3TuTi9OIsJXMGxPwTKM2]</td>\n    </tr>\n    <tr>\n      <th>20403</th>\n      <td>5mz9pQZZXNpAw9CdQ7Bk8q</td>\n      <td>[6lHC2EQMEMZiEmSfFloarn]</td>\n    </tr>\n    <tr>\n      <th>20404</th>\n      <td>2H9CKpZiLDF223BbwehpDF</td>\n      <td>[6wPhSqRtPu1UhRCDX5yaDJ]</td>\n    </tr>\n  </tbody>\n</table>\n<p>20405 rows × 2 columns</p>\n</div>"
     },
     "execution_count": 12,
     "metadata": {},
     "output_type": "execute_result"
    }
   ],
   "source": [
    "df_songs = pd.read_csv(\"../../MusicOSet/musicoset_metadata/songs.csv\", sep=\"\\t\")            #nur auf train daten, da rest unbekannt (für charts)\n",
    "df_songs[\"artists_ids\"] = df_songs[\"artists\"].apply(lambda x: list((eval(x)).keys()))\n",
    "df_songs = df_songs[[\"song_id\", 'artists_ids']]\n",
    "df_songs"
   ],
   "metadata": {
    "collapsed": false,
    "ExecuteTime": {
     "end_time": "2024-04-25T11:50:30.006557400Z",
     "start_time": "2024-04-25T11:50:29.752556400Z"
    }
   },
   "id": "5b9636af61287d21"
  },
  {
   "cell_type": "code",
   "execution_count": 13,
   "outputs": [
    {
     "data": {
      "text/plain": "['246dkjvS1zLTtiykXe5h60', '1zNqQNIdeOUZHb8zbZRFMX']"
     },
     "execution_count": 13,
     "metadata": {},
     "output_type": "execute_result"
    }
   ],
   "source": [
    "df_songs[\"artists_ids\"].iloc[3]"
   ],
   "metadata": {
    "collapsed": false,
    "ExecuteTime": {
     "end_time": "2024-04-25T11:50:30.042560300Z",
     "start_time": "2024-04-25T11:50:30.002558500Z"
    }
   },
   "id": "1bf5cbe5569ecbbe"
  },
  {
   "cell_type": "code",
   "execution_count": 23,
   "outputs": [
    {
     "data": {
      "text/plain": "                      song_id  rank_score  peak_position  weeks_on_chart  \\\n0      5ByIHT8s38diBQf6dkEWbt         100            100              15   \n1      5ByIHT8s38diBQf6dkEWbt         100            100              14   \n2      5ByIHT8s38diBQf6dkEWbt         100            100              13   \n3      5ByIHT8s38diBQf6dkEWbt         100            100              12   \n4      5ByIHT8s38diBQf6dkEWbt          99             99              11   \n...                       ...         ...            ...             ...   \n10375  1jhgT2iu9vcwQy0ukJ8fgW          14             17              10   \n10376  3b7CDTKB0SRTmQ6ytYi5vZ          53             85              24   \n10377  2L7rZWg9RLxIwnysmxm4xk          41             99              20   \n10378  1h2d0gzM9ZqiBYbc2bx22V          37             62              20   \n10379  5lN1EH25gdiqT1SFALMAq1           2              7               6   \n\n            week               artists_ids  \n0     2015-08-15  [5MouCg6ta7zAxsfMEbc1uh]  \n1     2015-08-08  [5MouCg6ta7zAxsfMEbc1uh]  \n2     2015-08-01  [5MouCg6ta7zAxsfMEbc1uh]  \n3     2015-07-25  [5MouCg6ta7zAxsfMEbc1uh]  \n4     2015-07-18  [5MouCg6ta7zAxsfMEbc1uh]  \n...          ...                       ...  \n10375 2012-08-25  [0Bvs8yPjrQSbmVIRqSg1Sp]  \n10376 2012-08-25  [0BvkDsjIUla7X0k6CSWh1I]  \n10377 2012-08-25  [1uNFoZAHBGtllmzznpCI3s]  \n10378 2012-08-25  [4AK6F7OLvEQ5QYCBNiQWHq]  \n10379 2012-08-25  [7mnBLXK823vNxN3UWB7Gfz]  \n\n[10380 rows x 6 columns]",
      "text/html": "<div>\n<style scoped>\n    .dataframe tbody tr th:only-of-type {\n        vertical-align: middle;\n    }\n\n    .dataframe tbody tr th {\n        vertical-align: top;\n    }\n\n    .dataframe thead th {\n        text-align: right;\n    }\n</style>\n<table border=\"1\" class=\"dataframe\">\n  <thead>\n    <tr style=\"text-align: right;\">\n      <th></th>\n      <th>song_id</th>\n      <th>rank_score</th>\n      <th>peak_position</th>\n      <th>weeks_on_chart</th>\n      <th>week</th>\n      <th>artists_ids</th>\n    </tr>\n  </thead>\n  <tbody>\n    <tr>\n      <th>0</th>\n      <td>5ByIHT8s38diBQf6dkEWbt</td>\n      <td>100</td>\n      <td>100</td>\n      <td>15</td>\n      <td>2015-08-15</td>\n      <td>[5MouCg6ta7zAxsfMEbc1uh]</td>\n    </tr>\n    <tr>\n      <th>1</th>\n      <td>5ByIHT8s38diBQf6dkEWbt</td>\n      <td>100</td>\n      <td>100</td>\n      <td>14</td>\n      <td>2015-08-08</td>\n      <td>[5MouCg6ta7zAxsfMEbc1uh]</td>\n    </tr>\n    <tr>\n      <th>2</th>\n      <td>5ByIHT8s38diBQf6dkEWbt</td>\n      <td>100</td>\n      <td>100</td>\n      <td>13</td>\n      <td>2015-08-01</td>\n      <td>[5MouCg6ta7zAxsfMEbc1uh]</td>\n    </tr>\n    <tr>\n      <th>3</th>\n      <td>5ByIHT8s38diBQf6dkEWbt</td>\n      <td>100</td>\n      <td>100</td>\n      <td>12</td>\n      <td>2015-07-25</td>\n      <td>[5MouCg6ta7zAxsfMEbc1uh]</td>\n    </tr>\n    <tr>\n      <th>4</th>\n      <td>5ByIHT8s38diBQf6dkEWbt</td>\n      <td>99</td>\n      <td>99</td>\n      <td>11</td>\n      <td>2015-07-18</td>\n      <td>[5MouCg6ta7zAxsfMEbc1uh]</td>\n    </tr>\n    <tr>\n      <th>...</th>\n      <td>...</td>\n      <td>...</td>\n      <td>...</td>\n      <td>...</td>\n      <td>...</td>\n      <td>...</td>\n    </tr>\n    <tr>\n      <th>10375</th>\n      <td>1jhgT2iu9vcwQy0ukJ8fgW</td>\n      <td>14</td>\n      <td>17</td>\n      <td>10</td>\n      <td>2012-08-25</td>\n      <td>[0Bvs8yPjrQSbmVIRqSg1Sp]</td>\n    </tr>\n    <tr>\n      <th>10376</th>\n      <td>3b7CDTKB0SRTmQ6ytYi5vZ</td>\n      <td>53</td>\n      <td>85</td>\n      <td>24</td>\n      <td>2012-08-25</td>\n      <td>[0BvkDsjIUla7X0k6CSWh1I]</td>\n    </tr>\n    <tr>\n      <th>10377</th>\n      <td>2L7rZWg9RLxIwnysmxm4xk</td>\n      <td>41</td>\n      <td>99</td>\n      <td>20</td>\n      <td>2012-08-25</td>\n      <td>[1uNFoZAHBGtllmzznpCI3s]</td>\n    </tr>\n    <tr>\n      <th>10378</th>\n      <td>1h2d0gzM9ZqiBYbc2bx22V</td>\n      <td>37</td>\n      <td>62</td>\n      <td>20</td>\n      <td>2012-08-25</td>\n      <td>[4AK6F7OLvEQ5QYCBNiQWHq]</td>\n    </tr>\n    <tr>\n      <th>10379</th>\n      <td>5lN1EH25gdiqT1SFALMAq1</td>\n      <td>2</td>\n      <td>7</td>\n      <td>6</td>\n      <td>2012-08-25</td>\n      <td>[7mnBLXK823vNxN3UWB7Gfz]</td>\n    </tr>\n  </tbody>\n</table>\n<p>10380 rows × 6 columns</p>\n</div>"
     },
     "execution_count": 23,
     "metadata": {},
     "output_type": "execute_result"
    }
   ],
   "source": [
    "df_num_hit = pd.merge(to_filter, df_songs)\n",
    "#df_num_hit = df_num_hit.drop_duplicates(subset=[\"song_id\"])\n",
    "#df_num_hit[df_num_hit[\"artists_ids\"].apply(lambda x: len(x) > 1)]\n",
    "df_num_hit"
   ],
   "metadata": {
    "collapsed": false,
    "ExecuteTime": {
     "end_time": "2024-04-25T12:23:33.091276800Z",
     "start_time": "2024-04-25T12:23:33.046277600Z"
    }
   },
   "id": "3cab5c09847cd7d7"
  },
  {
   "cell_type": "code",
   "execution_count": 69,
   "outputs": [
    {
     "data": {
      "text/plain": "                    song_id  artists_ids\n0    00z7KscyujNtThfKhIVeEb            1\n1    01Lr5YepbgjXAWR9iOEyH1            1\n2    01XFgRZfZI7oBagNf1Loml            1\n3    01e8dGbulrphX8j3fZDQYk            1\n4    01mWFDRL40UlnbOXya5gqm            1\n..                      ...          ...\n758  7sk4RFtliYFKSgjKnsJg4t            1\n759  7wdzLe2Gsx1RGqbvYZHASz            1\n760  7x46YkKAwp3yZpaa72n5Mu            1\n761  7xoUc6faLbCqZO6fQEYprd            1\n762  7yq4Qj7cqayVTp3FF9CWbm            1\n\n[763 rows x 2 columns]",
      "text/html": "<div>\n<style scoped>\n    .dataframe tbody tr th:only-of-type {\n        vertical-align: middle;\n    }\n\n    .dataframe tbody tr th {\n        vertical-align: top;\n    }\n\n    .dataframe thead th {\n        text-align: right;\n    }\n</style>\n<table border=\"1\" class=\"dataframe\">\n  <thead>\n    <tr style=\"text-align: right;\">\n      <th></th>\n      <th>song_id</th>\n      <th>artists_ids</th>\n    </tr>\n  </thead>\n  <tbody>\n    <tr>\n      <th>0</th>\n      <td>00z7KscyujNtThfKhIVeEb</td>\n      <td>1</td>\n    </tr>\n    <tr>\n      <th>1</th>\n      <td>01Lr5YepbgjXAWR9iOEyH1</td>\n      <td>1</td>\n    </tr>\n    <tr>\n      <th>2</th>\n      <td>01XFgRZfZI7oBagNf1Loml</td>\n      <td>1</td>\n    </tr>\n    <tr>\n      <th>3</th>\n      <td>01e8dGbulrphX8j3fZDQYk</td>\n      <td>1</td>\n    </tr>\n    <tr>\n      <th>4</th>\n      <td>01mWFDRL40UlnbOXya5gqm</td>\n      <td>1</td>\n    </tr>\n    <tr>\n      <th>...</th>\n      <td>...</td>\n      <td>...</td>\n    </tr>\n    <tr>\n      <th>758</th>\n      <td>7sk4RFtliYFKSgjKnsJg4t</td>\n      <td>1</td>\n    </tr>\n    <tr>\n      <th>759</th>\n      <td>7wdzLe2Gsx1RGqbvYZHASz</td>\n      <td>1</td>\n    </tr>\n    <tr>\n      <th>760</th>\n      <td>7x46YkKAwp3yZpaa72n5Mu</td>\n      <td>1</td>\n    </tr>\n    <tr>\n      <th>761</th>\n      <td>7xoUc6faLbCqZO6fQEYprd</td>\n      <td>1</td>\n    </tr>\n    <tr>\n      <th>762</th>\n      <td>7yq4Qj7cqayVTp3FF9CWbm</td>\n      <td>1</td>\n    </tr>\n  </tbody>\n</table>\n<p>763 rows × 2 columns</p>\n</div>"
     },
     "execution_count": 69,
     "metadata": {},
     "output_type": "execute_result"
    }
   ],
   "source": [
    "df_counts = df_num_hit.groupby('song_id')['artists_ids'].apply(lambda x: list(x)).reset_index()\n",
    "df_counts[\"artists_ids\"] = df_counts[\"artists_ids\"].apply(lambda x: [row for row_list in x for row in row_list]).apply(lambda x: len(set(x)))\n",
    "df_counts"
   ],
   "metadata": {
    "collapsed": false,
    "ExecuteTime": {
     "end_time": "2024-04-25T12:56:47.046824800Z",
     "start_time": "2024-04-25T12:56:47.010824200Z"
    }
   },
   "id": "e63a8c7696bf0beb"
  },
  {
   "cell_type": "code",
   "execution_count": 15,
   "outputs": [
    {
     "data": {
      "text/plain": "3"
     },
     "execution_count": 15,
     "metadata": {},
     "output_type": "execute_result"
    }
   ],
   "source": [
    "df_num_hit = df_num_hit[df_num_hit[\"artists_ids\"].apply(lambda x: \"17lzZA2AlOHwCwFALHttmp\" in x)] #bsp artist_id \n",
    "amount_hits = df_num_hit[\"song_id\"].nunique()                                                              #werden identische songs mit anderen Artists seperat gezählt? (intuitive ja) include it\n",
    "amount_hits"
   ],
   "metadata": {
    "collapsed": false,
    "ExecuteTime": {
     "end_time": "2024-04-25T11:50:30.241557500Z",
     "start_time": "2024-04-25T11:50:30.050556100Z"
    }
   },
   "id": "eae7acd129790081"
  },
  {
   "cell_type": "markdown",
   "source": [
    "## Loop:"
   ],
   "metadata": {
    "collapsed": false
   },
   "id": "795367ccfd6250"
  },
  {
   "cell_type": "code",
   "execution_count": 16,
   "outputs": [
    {
     "data": {
      "text/plain": "                       song_id  \\\n0       7kXUEJmfvRXbzxOC0pHQgb   \n3659    5pedBzuqzuqb8NPXqXFm1T   \n3658    7E89BPSPTtBaR9mKK88WhD   \n3657    1xdRFXv3ytSOdj8GuT3Rge   \n3656    5wlQIBbKIWoB7AnSw09C6C   \n...                        ...   \n683396  6xUjsB26W7wzU4MSlZ9v2W   \n683430  5AZQNFCdxA3W1nssrtu4Yr   \n683431  0gvKPCmhJzXa4YgptrNvI4   \n683432  5FDxZkCXwOOO0CQP3zQUBL   \n683433  3m3CVlgUzXQaFkXdMPV3nI   \n\n                                                song_name  song_popularity  \\\n0                          I Can't Believe I'm Losing You              5.0   \n3659    Song To The Siren - Live From Sabresonic Night...             35.0   \n3658                      Three Little Birdies Down Beats             30.0   \n3657                           Thank You Lord (Interlude)             20.0   \n3656                                        All This Love             26.0   \n...                                                   ...              ...   \n683396                                Afterglow (174 BPM)              0.0   \n683430         能登半島 Originally Performed By 石川さゆり (オルゴール)              0.0   \n683431                                        Up the Hill              0.0   \n683432    浪花恋しぐれ Originally Performed By 都はるみ・岡千秋 (オルゴール)              0.0   \n683433        バス・ストップ Originally Performed By 平浩二 (オルゴール)              1.0   \n\n        explicit song_type  track_number  num_artists  num_available_markets  \\\n0          False      Solo          12.0          1.0                   79.0   \n3659       False      Solo           3.0          1.0                   79.0   \n3658       False      Solo           4.0          1.0                   79.0   \n3657       False      Solo          10.0          1.0                   77.0   \n3656       False      Solo           9.0          1.0                   77.0   \n...          ...       ...           ...          ...                    ...   \n683396     False      Solo          16.0          1.0                   79.0   \n683430     False      Solo           7.0          1.0                   79.0   \n683431     False      Solo          30.0          1.0                   79.0   \n683432     False      Solo           6.0          1.0                   79.0   \n683433     False      Solo           5.0          1.0                   79.0   \n\n       release_date  duration_ms  ...  closnesscentrality_y  clustering_y  \\\n0        1995-01-01     162667.0  ...                   0.0           0.0   \n3659     1995-01-01     196827.0  ...                   0.0           0.0   \n3658     1995-01-01     338733.0  ...                   0.0           0.0   \n3657     1995-01-01      56067.0  ...                   0.0           0.0   \n3656     1995-01-01     361840.0  ...                   0.0           0.0   \n...             ...          ...  ...                   ...           ...   \n683396   2015-08-19     169918.0  ...                   0.0           0.0   \n683430   2015-08-19     201027.0  ...                   0.0           0.0   \n683431   2015-08-19     142681.0  ...                   0.0           0.0   \n683432   2015-08-19     184373.0  ...                   0.0           0.0   \n683433   2015-08-19     227507.0  ...                   0.0           0.0   \n\n        degree_y  eccentricity_y  eigencentrality_y  weighted degree_y  \\\n0            0.0             0.0                0.0                0.0   \n3659         0.0             0.0                0.0                0.0   \n3658         0.0             0.0                0.0                0.0   \n3657         0.0             0.0                0.0                0.0   \n3656         0.0             0.0                0.0                0.0   \n...          ...             ...                ...                ...   \n683396       0.0             0.0                0.0                0.0   \n683430       0.0             0.0                0.0                0.0   \n683431       0.0             0.0                0.0                0.0   \n683432       0.0             0.0                0.0                0.0   \n683433       0.0             0.0                0.0                0.0   \n\n        Cluster_y  profile_y  years_on_charts       date  \n0            -1.0   No Match              0.0 1995-01-01  \n3659         -1.0   No Match              0.0 1995-01-01  \n3658         -1.0   No Match              0.0 1995-01-01  \n3657         -1.0   No Match              0.0 1995-01-01  \n3656         -1.0   No Match              0.0 1995-01-01  \n...           ...        ...              ...        ...  \n683396       -1.0   No Match              0.0 2015-08-19  \n683430       -1.0   No Match              0.0 2015-08-19  \n683431       -1.0   No Match              0.0 2015-08-19  \n683432       -1.0   No Match              0.0 2015-08-19  \n683433       -1.0   No Match              0.0 2015-08-19  \n\n[683270 rows x 48 columns]",
      "text/html": "<div>\n<style scoped>\n    .dataframe tbody tr th:only-of-type {\n        vertical-align: middle;\n    }\n\n    .dataframe tbody tr th {\n        vertical-align: top;\n    }\n\n    .dataframe thead th {\n        text-align: right;\n    }\n</style>\n<table border=\"1\" class=\"dataframe\">\n  <thead>\n    <tr style=\"text-align: right;\">\n      <th></th>\n      <th>song_id</th>\n      <th>song_name</th>\n      <th>song_popularity</th>\n      <th>explicit</th>\n      <th>song_type</th>\n      <th>track_number</th>\n      <th>num_artists</th>\n      <th>num_available_markets</th>\n      <th>release_date</th>\n      <th>duration_ms</th>\n      <th>...</th>\n      <th>closnesscentrality_y</th>\n      <th>clustering_y</th>\n      <th>degree_y</th>\n      <th>eccentricity_y</th>\n      <th>eigencentrality_y</th>\n      <th>weighted degree_y</th>\n      <th>Cluster_y</th>\n      <th>profile_y</th>\n      <th>years_on_charts</th>\n      <th>date</th>\n    </tr>\n  </thead>\n  <tbody>\n    <tr>\n      <th>0</th>\n      <td>7kXUEJmfvRXbzxOC0pHQgb</td>\n      <td>I Can't Believe I'm Losing You</td>\n      <td>5.0</td>\n      <td>False</td>\n      <td>Solo</td>\n      <td>12.0</td>\n      <td>1.0</td>\n      <td>79.0</td>\n      <td>1995-01-01</td>\n      <td>162667.0</td>\n      <td>...</td>\n      <td>0.0</td>\n      <td>0.0</td>\n      <td>0.0</td>\n      <td>0.0</td>\n      <td>0.0</td>\n      <td>0.0</td>\n      <td>-1.0</td>\n      <td>No Match</td>\n      <td>0.0</td>\n      <td>1995-01-01</td>\n    </tr>\n    <tr>\n      <th>3659</th>\n      <td>5pedBzuqzuqb8NPXqXFm1T</td>\n      <td>Song To The Siren - Live From Sabresonic Night...</td>\n      <td>35.0</td>\n      <td>False</td>\n      <td>Solo</td>\n      <td>3.0</td>\n      <td>1.0</td>\n      <td>79.0</td>\n      <td>1995-01-01</td>\n      <td>196827.0</td>\n      <td>...</td>\n      <td>0.0</td>\n      <td>0.0</td>\n      <td>0.0</td>\n      <td>0.0</td>\n      <td>0.0</td>\n      <td>0.0</td>\n      <td>-1.0</td>\n      <td>No Match</td>\n      <td>0.0</td>\n      <td>1995-01-01</td>\n    </tr>\n    <tr>\n      <th>3658</th>\n      <td>7E89BPSPTtBaR9mKK88WhD</td>\n      <td>Three Little Birdies Down Beats</td>\n      <td>30.0</td>\n      <td>False</td>\n      <td>Solo</td>\n      <td>4.0</td>\n      <td>1.0</td>\n      <td>79.0</td>\n      <td>1995-01-01</td>\n      <td>338733.0</td>\n      <td>...</td>\n      <td>0.0</td>\n      <td>0.0</td>\n      <td>0.0</td>\n      <td>0.0</td>\n      <td>0.0</td>\n      <td>0.0</td>\n      <td>-1.0</td>\n      <td>No Match</td>\n      <td>0.0</td>\n      <td>1995-01-01</td>\n    </tr>\n    <tr>\n      <th>3657</th>\n      <td>1xdRFXv3ytSOdj8GuT3Rge</td>\n      <td>Thank You Lord (Interlude)</td>\n      <td>20.0</td>\n      <td>False</td>\n      <td>Solo</td>\n      <td>10.0</td>\n      <td>1.0</td>\n      <td>77.0</td>\n      <td>1995-01-01</td>\n      <td>56067.0</td>\n      <td>...</td>\n      <td>0.0</td>\n      <td>0.0</td>\n      <td>0.0</td>\n      <td>0.0</td>\n      <td>0.0</td>\n      <td>0.0</td>\n      <td>-1.0</td>\n      <td>No Match</td>\n      <td>0.0</td>\n      <td>1995-01-01</td>\n    </tr>\n    <tr>\n      <th>3656</th>\n      <td>5wlQIBbKIWoB7AnSw09C6C</td>\n      <td>All This Love</td>\n      <td>26.0</td>\n      <td>False</td>\n      <td>Solo</td>\n      <td>9.0</td>\n      <td>1.0</td>\n      <td>77.0</td>\n      <td>1995-01-01</td>\n      <td>361840.0</td>\n      <td>...</td>\n      <td>0.0</td>\n      <td>0.0</td>\n      <td>0.0</td>\n      <td>0.0</td>\n      <td>0.0</td>\n      <td>0.0</td>\n      <td>-1.0</td>\n      <td>No Match</td>\n      <td>0.0</td>\n      <td>1995-01-01</td>\n    </tr>\n    <tr>\n      <th>...</th>\n      <td>...</td>\n      <td>...</td>\n      <td>...</td>\n      <td>...</td>\n      <td>...</td>\n      <td>...</td>\n      <td>...</td>\n      <td>...</td>\n      <td>...</td>\n      <td>...</td>\n      <td>...</td>\n      <td>...</td>\n      <td>...</td>\n      <td>...</td>\n      <td>...</td>\n      <td>...</td>\n      <td>...</td>\n      <td>...</td>\n      <td>...</td>\n      <td>...</td>\n      <td>...</td>\n    </tr>\n    <tr>\n      <th>683396</th>\n      <td>6xUjsB26W7wzU4MSlZ9v2W</td>\n      <td>Afterglow (174 BPM)</td>\n      <td>0.0</td>\n      <td>False</td>\n      <td>Solo</td>\n      <td>16.0</td>\n      <td>1.0</td>\n      <td>79.0</td>\n      <td>2015-08-19</td>\n      <td>169918.0</td>\n      <td>...</td>\n      <td>0.0</td>\n      <td>0.0</td>\n      <td>0.0</td>\n      <td>0.0</td>\n      <td>0.0</td>\n      <td>0.0</td>\n      <td>-1.0</td>\n      <td>No Match</td>\n      <td>0.0</td>\n      <td>2015-08-19</td>\n    </tr>\n    <tr>\n      <th>683430</th>\n      <td>5AZQNFCdxA3W1nssrtu4Yr</td>\n      <td>能登半島 Originally Performed By 石川さゆり (オルゴール)</td>\n      <td>0.0</td>\n      <td>False</td>\n      <td>Solo</td>\n      <td>7.0</td>\n      <td>1.0</td>\n      <td>79.0</td>\n      <td>2015-08-19</td>\n      <td>201027.0</td>\n      <td>...</td>\n      <td>0.0</td>\n      <td>0.0</td>\n      <td>0.0</td>\n      <td>0.0</td>\n      <td>0.0</td>\n      <td>0.0</td>\n      <td>-1.0</td>\n      <td>No Match</td>\n      <td>0.0</td>\n      <td>2015-08-19</td>\n    </tr>\n    <tr>\n      <th>683431</th>\n      <td>0gvKPCmhJzXa4YgptrNvI4</td>\n      <td>Up the Hill</td>\n      <td>0.0</td>\n      <td>False</td>\n      <td>Solo</td>\n      <td>30.0</td>\n      <td>1.0</td>\n      <td>79.0</td>\n      <td>2015-08-19</td>\n      <td>142681.0</td>\n      <td>...</td>\n      <td>0.0</td>\n      <td>0.0</td>\n      <td>0.0</td>\n      <td>0.0</td>\n      <td>0.0</td>\n      <td>0.0</td>\n      <td>-1.0</td>\n      <td>No Match</td>\n      <td>0.0</td>\n      <td>2015-08-19</td>\n    </tr>\n    <tr>\n      <th>683432</th>\n      <td>5FDxZkCXwOOO0CQP3zQUBL</td>\n      <td>浪花恋しぐれ Originally Performed By 都はるみ・岡千秋 (オルゴール)</td>\n      <td>0.0</td>\n      <td>False</td>\n      <td>Solo</td>\n      <td>6.0</td>\n      <td>1.0</td>\n      <td>79.0</td>\n      <td>2015-08-19</td>\n      <td>184373.0</td>\n      <td>...</td>\n      <td>0.0</td>\n      <td>0.0</td>\n      <td>0.0</td>\n      <td>0.0</td>\n      <td>0.0</td>\n      <td>0.0</td>\n      <td>-1.0</td>\n      <td>No Match</td>\n      <td>0.0</td>\n      <td>2015-08-19</td>\n    </tr>\n    <tr>\n      <th>683433</th>\n      <td>3m3CVlgUzXQaFkXdMPV3nI</td>\n      <td>バス・ストップ Originally Performed By 平浩二 (オルゴール)</td>\n      <td>1.0</td>\n      <td>False</td>\n      <td>Solo</td>\n      <td>5.0</td>\n      <td>1.0</td>\n      <td>79.0</td>\n      <td>2015-08-19</td>\n      <td>227507.0</td>\n      <td>...</td>\n      <td>0.0</td>\n      <td>0.0</td>\n      <td>0.0</td>\n      <td>0.0</td>\n      <td>0.0</td>\n      <td>0.0</td>\n      <td>-1.0</td>\n      <td>No Match</td>\n      <td>0.0</td>\n      <td>2015-08-19</td>\n    </tr>\n  </tbody>\n</table>\n<p>683270 rows × 48 columns</p>\n</div>"
     },
     "execution_count": 16,
     "metadata": {},
     "output_type": "execute_result"
    }
   ],
   "source": [
    "train_df"
   ],
   "metadata": {
    "collapsed": false,
    "ExecuteTime": {
     "end_time": "2024-04-25T11:50:30.513557300Z",
     "start_time": "2024-04-25T11:50:30.110559400Z"
    }
   },
   "id": "b28638da1c926d60"
  },
  {
   "cell_type": "code",
   "execution_count": null,
   "outputs": [],
   "source": [
    "df_song_chart = pd.read_csv(\"../../MusicOSet/musicoset_popularity/song_chart.csv\", sep=\"\\t\")            #nur auf train daten, da rest unbekannt (für charts)\n",
    "df_song_chart['week'] = pd.to_datetime(df_song_chart['week']) #evtl später wegen runtime\n",
    "df_song_chart"
   ],
   "metadata": {
    "collapsed": false
   },
   "id": "948fa20163451baa"
  },
  {
   "cell_type": "code",
   "execution_count": null,
   "outputs": [],
   "source": [
    "df_songs = pd.read_csv(\"../../MusicOSet/musicoset_metadata/songs.csv\", sep=\"\\t\")            #nur auf train daten, da rest unbekannt (für charts)\n",
    "df_songs[\"artists_ids\"] = df_songs[\"artists\"].apply(lambda x: list((eval(x)).keys()))\n",
    "df_songs = df_songs[[\"song_id\", 'artists_ids']]\n",
    "df_songs"
   ],
   "metadata": {
    "collapsed": false
   },
   "id": "7cacf2570ff5145b"
  },
  {
   "cell_type": "code",
   "execution_count": null,
   "outputs": [],
   "source": [
    "max_amount_days = 3*365\n",
    "past_years = 3\n",
    "\n",
    "#superstar = []\n",
    "amount_hits = []\n",
    "days_distances = []\n",
    "peak_positions = []\n",
    "\n",
    "for index, row in train_df.iterrows():\n",
    "    artists_in_row = []\n",
    "    if not row[\"artist2_id\"].isna():\n",
    "        artists_in_row = [row[\"artist1_id\"]]\n",
    "    else:\n",
    "        artists_in_row = [row[\"artist1_id\"], row[\"artist2_id\"]]\n",
    "    present = (row[\"date\"]).replace(hour=23, minute=59, second=59)\n",
    "    present_id = row[\"song_id\"]\n",
    "    border_day = present - pd.DateOffset(years=past_years) #border day doesn't belong to the timeframe\n",
    "    to_filter = df_song_chart.copy()\n",
    "    #to_filter['week'] = pd.to_datetime(to_filter['week'])\n",
    "    to_filter = to_filter[(to_filter[\"week\"] < present) & (to_filter[\"week\"] > border_day)]\n",
    "    for artist in artists_in_row:\n",
    "        \n",
    "        pass"
   ],
   "metadata": {
    "collapsed": false
   },
   "id": "6a220d8536b8b64f"
  },
  {
   "cell_type": "code",
   "execution_count": 17,
   "outputs": [
    {
     "data": {
      "text/plain": "nan"
     },
     "execution_count": 17,
     "metadata": {},
     "output_type": "execute_result"
    }
   ],
   "source": [
    "train_df[\"artist2_id\"].iloc[0]"
   ],
   "metadata": {
    "collapsed": false,
    "ExecuteTime": {
     "end_time": "2024-04-25T11:56:52.622740300Z",
     "start_time": "2024-04-25T11:56:52.556741800Z"
    }
   },
   "id": "af19bc2e74728405"
  }
 ],
 "metadata": {
  "kernelspec": {
   "display_name": "Python 3",
   "language": "python",
   "name": "python3"
  },
  "language_info": {
   "codemirror_mode": {
    "name": "ipython",
    "version": 2
   },
   "file_extension": ".py",
   "mimetype": "text/x-python",
   "name": "python",
   "nbconvert_exporter": "python",
   "pygments_lexer": "ipython2",
   "version": "2.7.6"
  }
 },
 "nbformat": 4,
 "nbformat_minor": 5
}
