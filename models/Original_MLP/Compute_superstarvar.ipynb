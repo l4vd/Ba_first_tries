{
 "cells": [
  {
   "cell_type": "code",
   "execution_count": 1,
   "id": "initial_id",
   "metadata": {
    "collapsed": true,
    "ExecuteTime": {
     "end_time": "2024-05-30T16:32:48.529593700Z",
     "start_time": "2024-05-30T16:32:46.482837100Z"
    }
   },
   "outputs": [
    {
     "data": {
      "text/plain": "                       song_id  \\\n0       3rTIDlmlGskGnRRqmRtvYn   \n1       6NlE71TbUglmKQVLhE1H8R   \n2       7mexukWpLrCVwAztkM8kQl   \n3       6hADH7b57N5666cGv624vg   \n4       5BivvNwjnn46R7zpo7SeM5   \n...                        ...   \n357161  5ke0edZBlwRYu01wdej6xq   \n357162  12kc7hUJKpArFQurhlNeNW   \n357163  0lej8CemYKkWVHg77Xe1ky   \n357164  7goArBQdsalqclSyaTywAS   \n357165  6Fh2QgjCxL96dA3Gtpfr4Q   \n\n                                                song_name  song_popularity  \\\n0                                           Lone Stranger              0.0   \n1                                                Evil Eye             52.0   \n2                                    Stand On the Horizon             46.0   \n3                                            Right Action             44.0   \n4                             Tones of Home - Power Remix              0.0   \n...                                                   ...              ...   \n357161                                         Let Her In              4.0   \n357162                             Stop and Think It Over              1.0   \n357163           A Man Holdin' on (To a Woman Lettin’ Go)             14.0   \n357164                                   Shimmy Shimmy Ya              7.0   \n357165  One Sweet Day (16-Bit Mariah Carey & Boyz II M...              0.0   \n\n        explicit      song_type  track_number  num_artists  \\\n0          False           Solo          19.0          1.0   \n1           True           Solo           2.0          1.0   \n2          False           Solo           4.0          1.0   \n3          False           Solo           1.0          1.0   \n4          False           Solo           6.0          1.0   \n...          ...            ...           ...          ...   \n357161     False           Solo           7.0          1.0   \n357162     False           Solo           9.0          1.0   \n357163     False  Collaboration           7.0          2.0   \n357164     False           Solo           8.0          1.0   \n357165     False           Solo          27.0          1.0   \n\n        num_available_markets release_date  duration_ms  ...  degree_y  \\\n0                        74.0   2013-08-26     163255.0  ...       0.0   \n1                        77.0   2013-08-26     167253.0  ...       0.0   \n2                        77.0   2013-08-26     263120.0  ...       0.0   \n3                        77.0   2013-08-26     182280.0  ...       0.0   \n4                        79.0   2013-08-26     310150.0  ...       0.0   \n...                       ...          ...          ...  ...       ...   \n357161                   79.0   2019-08-23     183600.0  ...       0.0   \n357162                   79.0   2019-08-23     154413.0  ...       0.0   \n357163                   79.0   2019-08-23     231898.0  ...       1.0   \n357164                   78.0   2019-08-23     161200.0  ...       0.0   \n357165                   79.0   2019-08-26     260910.0  ...       0.0   \n\n        eccentricity_y  eigencentrality_y  weighted degree_y  pagerank_y  \\\n0                  0.0           0.000000                0.0    0.000000   \n1                  0.0           0.000000                0.0    0.000000   \n2                  0.0           0.000000                0.0    0.000000   \n3                  0.0           0.000000                0.0    0.000000   \n4                  0.0           0.000000                0.0    0.000000   \n...                ...                ...                ...         ...   \n357161             0.0           0.000000                0.0    0.000000   \n357162             0.0           0.000000                0.0    0.000000   \n357163             2.0           0.347047                2.0    0.000039   \n357164             0.0           0.000000                0.0    0.000000   \n357165             0.0           0.000000                0.0    0.000000   \n\n        Cluster_y    profile_y  artist1_num  artist2_num  years_on_charts  \n0            -1.0     No Match       5997.0          1.0         0.000000  \n1            -1.0     No Match       4310.0          1.0         0.000000  \n2            -1.0     No Match       4310.0          1.0         0.000000  \n3            -1.0     No Match       4310.0          1.0         0.000000  \n4            -1.0     No Match        144.0          1.0         0.000000  \n...           ...          ...          ...          ...              ...  \n357161       -1.0     No Match       2737.0          1.0         0.383562  \n357162       -1.0     No Match      10555.0          1.0         0.172603  \n357163        3.0  1A 2A 3A 4A       9214.0      15821.0         0.191781  \n357164       -1.0     No Match      16052.0          1.0         0.287671  \n357165       -1.0     No Match       5139.0          1.0         0.517808  \n\n[357166 rows x 50 columns]",
      "text/html": "<div>\n<style scoped>\n    .dataframe tbody tr th:only-of-type {\n        vertical-align: middle;\n    }\n\n    .dataframe tbody tr th {\n        vertical-align: top;\n    }\n\n    .dataframe thead th {\n        text-align: right;\n    }\n</style>\n<table border=\"1\" class=\"dataframe\">\n  <thead>\n    <tr style=\"text-align: right;\">\n      <th></th>\n      <th>song_id</th>\n      <th>song_name</th>\n      <th>song_popularity</th>\n      <th>explicit</th>\n      <th>song_type</th>\n      <th>track_number</th>\n      <th>num_artists</th>\n      <th>num_available_markets</th>\n      <th>release_date</th>\n      <th>duration_ms</th>\n      <th>...</th>\n      <th>degree_y</th>\n      <th>eccentricity_y</th>\n      <th>eigencentrality_y</th>\n      <th>weighted degree_y</th>\n      <th>pagerank_y</th>\n      <th>Cluster_y</th>\n      <th>profile_y</th>\n      <th>artist1_num</th>\n      <th>artist2_num</th>\n      <th>years_on_charts</th>\n    </tr>\n  </thead>\n  <tbody>\n    <tr>\n      <th>0</th>\n      <td>3rTIDlmlGskGnRRqmRtvYn</td>\n      <td>Lone Stranger</td>\n      <td>0.0</td>\n      <td>False</td>\n      <td>Solo</td>\n      <td>19.0</td>\n      <td>1.0</td>\n      <td>74.0</td>\n      <td>2013-08-26</td>\n      <td>163255.0</td>\n      <td>...</td>\n      <td>0.0</td>\n      <td>0.0</td>\n      <td>0.000000</td>\n      <td>0.0</td>\n      <td>0.000000</td>\n      <td>-1.0</td>\n      <td>No Match</td>\n      <td>5997.0</td>\n      <td>1.0</td>\n      <td>0.000000</td>\n    </tr>\n    <tr>\n      <th>1</th>\n      <td>6NlE71TbUglmKQVLhE1H8R</td>\n      <td>Evil Eye</td>\n      <td>52.0</td>\n      <td>True</td>\n      <td>Solo</td>\n      <td>2.0</td>\n      <td>1.0</td>\n      <td>77.0</td>\n      <td>2013-08-26</td>\n      <td>167253.0</td>\n      <td>...</td>\n      <td>0.0</td>\n      <td>0.0</td>\n      <td>0.000000</td>\n      <td>0.0</td>\n      <td>0.000000</td>\n      <td>-1.0</td>\n      <td>No Match</td>\n      <td>4310.0</td>\n      <td>1.0</td>\n      <td>0.000000</td>\n    </tr>\n    <tr>\n      <th>2</th>\n      <td>7mexukWpLrCVwAztkM8kQl</td>\n      <td>Stand On the Horizon</td>\n      <td>46.0</td>\n      <td>False</td>\n      <td>Solo</td>\n      <td>4.0</td>\n      <td>1.0</td>\n      <td>77.0</td>\n      <td>2013-08-26</td>\n      <td>263120.0</td>\n      <td>...</td>\n      <td>0.0</td>\n      <td>0.0</td>\n      <td>0.000000</td>\n      <td>0.0</td>\n      <td>0.000000</td>\n      <td>-1.0</td>\n      <td>No Match</td>\n      <td>4310.0</td>\n      <td>1.0</td>\n      <td>0.000000</td>\n    </tr>\n    <tr>\n      <th>3</th>\n      <td>6hADH7b57N5666cGv624vg</td>\n      <td>Right Action</td>\n      <td>44.0</td>\n      <td>False</td>\n      <td>Solo</td>\n      <td>1.0</td>\n      <td>1.0</td>\n      <td>77.0</td>\n      <td>2013-08-26</td>\n      <td>182280.0</td>\n      <td>...</td>\n      <td>0.0</td>\n      <td>0.0</td>\n      <td>0.000000</td>\n      <td>0.0</td>\n      <td>0.000000</td>\n      <td>-1.0</td>\n      <td>No Match</td>\n      <td>4310.0</td>\n      <td>1.0</td>\n      <td>0.000000</td>\n    </tr>\n    <tr>\n      <th>4</th>\n      <td>5BivvNwjnn46R7zpo7SeM5</td>\n      <td>Tones of Home - Power Remix</td>\n      <td>0.0</td>\n      <td>False</td>\n      <td>Solo</td>\n      <td>6.0</td>\n      <td>1.0</td>\n      <td>79.0</td>\n      <td>2013-08-26</td>\n      <td>310150.0</td>\n      <td>...</td>\n      <td>0.0</td>\n      <td>0.0</td>\n      <td>0.000000</td>\n      <td>0.0</td>\n      <td>0.000000</td>\n      <td>-1.0</td>\n      <td>No Match</td>\n      <td>144.0</td>\n      <td>1.0</td>\n      <td>0.000000</td>\n    </tr>\n    <tr>\n      <th>...</th>\n      <td>...</td>\n      <td>...</td>\n      <td>...</td>\n      <td>...</td>\n      <td>...</td>\n      <td>...</td>\n      <td>...</td>\n      <td>...</td>\n      <td>...</td>\n      <td>...</td>\n      <td>...</td>\n      <td>...</td>\n      <td>...</td>\n      <td>...</td>\n      <td>...</td>\n      <td>...</td>\n      <td>...</td>\n      <td>...</td>\n      <td>...</td>\n      <td>...</td>\n      <td>...</td>\n    </tr>\n    <tr>\n      <th>357161</th>\n      <td>5ke0edZBlwRYu01wdej6xq</td>\n      <td>Let Her In</td>\n      <td>4.0</td>\n      <td>False</td>\n      <td>Solo</td>\n      <td>7.0</td>\n      <td>1.0</td>\n      <td>79.0</td>\n      <td>2019-08-23</td>\n      <td>183600.0</td>\n      <td>...</td>\n      <td>0.0</td>\n      <td>0.0</td>\n      <td>0.000000</td>\n      <td>0.0</td>\n      <td>0.000000</td>\n      <td>-1.0</td>\n      <td>No Match</td>\n      <td>2737.0</td>\n      <td>1.0</td>\n      <td>0.383562</td>\n    </tr>\n    <tr>\n      <th>357162</th>\n      <td>12kc7hUJKpArFQurhlNeNW</td>\n      <td>Stop and Think It Over</td>\n      <td>1.0</td>\n      <td>False</td>\n      <td>Solo</td>\n      <td>9.0</td>\n      <td>1.0</td>\n      <td>79.0</td>\n      <td>2019-08-23</td>\n      <td>154413.0</td>\n      <td>...</td>\n      <td>0.0</td>\n      <td>0.0</td>\n      <td>0.000000</td>\n      <td>0.0</td>\n      <td>0.000000</td>\n      <td>-1.0</td>\n      <td>No Match</td>\n      <td>10555.0</td>\n      <td>1.0</td>\n      <td>0.172603</td>\n    </tr>\n    <tr>\n      <th>357163</th>\n      <td>0lej8CemYKkWVHg77Xe1ky</td>\n      <td>A Man Holdin' on (To a Woman Lettin’ Go)</td>\n      <td>14.0</td>\n      <td>False</td>\n      <td>Collaboration</td>\n      <td>7.0</td>\n      <td>2.0</td>\n      <td>79.0</td>\n      <td>2019-08-23</td>\n      <td>231898.0</td>\n      <td>...</td>\n      <td>1.0</td>\n      <td>2.0</td>\n      <td>0.347047</td>\n      <td>2.0</td>\n      <td>0.000039</td>\n      <td>3.0</td>\n      <td>1A 2A 3A 4A</td>\n      <td>9214.0</td>\n      <td>15821.0</td>\n      <td>0.191781</td>\n    </tr>\n    <tr>\n      <th>357164</th>\n      <td>7goArBQdsalqclSyaTywAS</td>\n      <td>Shimmy Shimmy Ya</td>\n      <td>7.0</td>\n      <td>False</td>\n      <td>Solo</td>\n      <td>8.0</td>\n      <td>1.0</td>\n      <td>78.0</td>\n      <td>2019-08-23</td>\n      <td>161200.0</td>\n      <td>...</td>\n      <td>0.0</td>\n      <td>0.0</td>\n      <td>0.000000</td>\n      <td>0.0</td>\n      <td>0.000000</td>\n      <td>-1.0</td>\n      <td>No Match</td>\n      <td>16052.0</td>\n      <td>1.0</td>\n      <td>0.287671</td>\n    </tr>\n    <tr>\n      <th>357165</th>\n      <td>6Fh2QgjCxL96dA3Gtpfr4Q</td>\n      <td>One Sweet Day (16-Bit Mariah Carey &amp; Boyz II M...</td>\n      <td>0.0</td>\n      <td>False</td>\n      <td>Solo</td>\n      <td>27.0</td>\n      <td>1.0</td>\n      <td>79.0</td>\n      <td>2019-08-26</td>\n      <td>260910.0</td>\n      <td>...</td>\n      <td>0.0</td>\n      <td>0.0</td>\n      <td>0.000000</td>\n      <td>0.0</td>\n      <td>0.000000</td>\n      <td>-1.0</td>\n      <td>No Match</td>\n      <td>5139.0</td>\n      <td>1.0</td>\n      <td>0.517808</td>\n    </tr>\n  </tbody>\n</table>\n<p>357166 rows × 50 columns</p>\n</div>"
     },
     "execution_count": 1,
     "metadata": {},
     "output_type": "execute_result"
    }
   ],
   "source": [
    "import pandas as pd\n",
    "\n",
    "df_hsp_song_collab = pd.read_csv(\"HSP_song_collab.csv\", sep=\",\")\n",
    "df_hsp_song_collab"
   ]
  },
  {
   "cell_type": "markdown",
   "source": [
    "## Setup for Superstar:\n",
    "\n",
    "within 3 years"
   ],
   "metadata": {
    "collapsed": false
   },
   "id": "4430fec788235cae"
  },
  {
   "cell_type": "code",
   "execution_count": 2,
   "outputs": [],
   "source": [
    "max_amount_days = 3*365\n",
    "max_amount_days\n",
    "\n",
    "past_years = 3"
   ],
   "metadata": {
    "collapsed": false,
    "ExecuteTime": {
     "end_time": "2024-05-30T16:32:48.580594Z",
     "start_time": "2024-05-30T16:32:48.522594800Z"
    }
   },
   "id": "ef79cc8b6e995c3e"
  },
  {
   "cell_type": "code",
   "execution_count": 3,
   "outputs": [
    {
     "data": {
      "text/plain": "(Timestamp('2018-08-25 23:59:59'), Timestamp('2015-08-25 23:59:59'))"
     },
     "execution_count": 3,
     "metadata": {},
     "output_type": "execute_result"
    }
   ],
   "source": [
    "from sklearn.model_selection import train_test_split\n",
    "df_hsp_song_collab['date'] = pd.to_datetime(df_hsp_song_collab['release_date'])\n",
    "df_hsp_song_collab.sort_values(by=\"date\", inplace=True)\n",
    "\n",
    "split_day = df_hsp_song_collab[\"date\"].iloc[-1]  - pd.DateOffset(years=1)\n",
    "train_df = df_hsp_song_collab[(df_hsp_song_collab[\"date\"]  < split_day)].copy()\n",
    "test_df = df_hsp_song_collab[(df_hsp_song_collab[\"date\"]  >= split_day)].copy()\n",
    "#train_df, test_df = train_test_split(df_hsp_song_collab, test_size=0.25, shuffle=False)\n",
    "#train_df.drop(columns=\"date\", inplace=True)\n",
    "#test_df.drop(columns=\"date\", inplace=True)\n",
    "\n",
    "present = (train_df[\"date\"].iloc[-1]).replace(hour=23, minute=59, second=59)\n",
    "present_id = train_df[\"song_id\"].iloc[-1]\n",
    "border_day = present - pd.DateOffset(years=past_years) #border day doesn't belong to the timeframe\n",
    "\n",
    "present, border_day"
   ],
   "metadata": {
    "collapsed": false,
    "ExecuteTime": {
     "end_time": "2024-05-30T16:32:49.153229500Z",
     "start_time": "2024-05-30T16:32:48.539595400Z"
    }
   },
   "id": "f680972aaae5ee6a"
  },
  {
   "cell_type": "code",
   "execution_count": 4,
   "outputs": [
    {
     "data": {
      "text/plain": "                       song_id  \\\n302958  4Gsqw7pb3z4OPDUeES6Daz   \n302957  6tv2ZtGQcEiszwNpBx7wK2   \n302955  2Yg7VknojyXmbAKnmrSAMU   \n302947  7g9Vsa7alv8WuR9COxDu9k   \n302954  4H1sr1GwbRuVIHZWcfkR8R   \n...                        ...   \n357140  6WrGNqos7nZLxV7QWTgyNO   \n357139  13MADoRclDrvJXcH0l7CFA   \n357164  7goArBQdsalqclSyaTywAS   \n357151  2CZ46u5NGXQFXke3PMCuAK   \n357165  6Fh2QgjCxL96dA3Gtpfr4Q   \n\n                                                song_name  song_popularity  \\\n302958             Don't Speak (8-Bit No Doubt Emulation)              1.0   \n302957            Livin' It Up (8-Bit MONSTA X Emulation)              0.0   \n302955  Bitter Sweet Symphony (8-Bit The Verve Emulation)              2.0   \n302947   Sex and Candy (8-Bit Marcy Playground Emulation)              0.0   \n302954                                         Day Spring              0.0   \n...                                                   ...              ...   \n357140                            I'll Keep You Satisfied              1.0   \n357139                                You Were on My Mind              1.0   \n357164                                   Shimmy Shimmy Ya              7.0   \n357151                   Today I Started Loving You Again              3.0   \n357165  One Sweet Day (16-Bit Mariah Carey & Boyz II M...              0.0   \n\n        explicit      song_type  track_number  num_artists  \\\n302958     False           Solo          24.0          1.0   \n302957     False           Solo          23.0          1.0   \n302955     False           Solo          27.0          1.0   \n302947     False           Solo          21.0          1.0   \n302954     False           Solo           3.0          1.0   \n...          ...            ...           ...          ...   \n357140     False  Collaboration          23.0          2.0   \n357139     False           Solo           8.0          1.0   \n357164     False           Solo           8.0          1.0   \n357151     False           Solo          15.0          1.0   \n357165     False           Solo          27.0          1.0   \n\n        num_available_markets release_date  duration_ms  ...  eccentricity_y  \\\n302958                   79.0   2018-08-26     266069.0  ...             0.0   \n302957                   79.0   2018-08-26     222211.0  ...             0.0   \n302955                   79.0   2018-08-26     255423.0  ...             0.0   \n302947                   79.0   2018-08-26     167013.0  ...             0.0   \n302954                   79.0   2018-08-26     278400.0  ...             0.0   \n...                       ...          ...          ...  ...             ...   \n357140                   78.0   2019-08-23     126360.0  ...             1.0   \n357139                   79.0   2019-08-23     163533.0  ...             0.0   \n357164                   78.0   2019-08-23     161200.0  ...             0.0   \n357151                   78.0   2019-08-23     172147.0  ...             0.0   \n357165                   79.0   2019-08-26     260910.0  ...             0.0   \n\n        eigencentrality_y  weighted degree_y  pagerank_y  Cluster_y  \\\n302958           0.000000                0.0    0.000000       -1.0   \n302957           0.000000                0.0    0.000000       -1.0   \n302955           0.000000                0.0    0.000000       -1.0   \n302947           0.000000                0.0    0.000000       -1.0   \n302954           0.000000                0.0    0.000000       -1.0   \n...                   ...                ...         ...        ...   \n357140           0.525731               62.0    0.000055        4.0   \n357139           0.000000                0.0    0.000000       -1.0   \n357164           0.000000                0.0    0.000000       -1.0   \n357151           0.000000                0.0    0.000000       -1.0   \n357165           0.000000                0.0    0.000000       -1.0   \n\n          profile_y  artist1_num  artist2_num  years_on_charts       date  \n302958     No Match       5370.0          1.0         0.000000 2018-08-26  \n302957     No Match       5370.0          1.0         0.000000 2018-08-26  \n302955     No Match       5370.0          1.0         0.000000 2018-08-26  \n302947     No Match       5370.0          1.0         0.000000 2018-08-26  \n302954     No Match       1358.0          1.0         0.000000 2018-08-26  \n...             ...          ...          ...              ...        ...  \n357140  1A 2B 3A 4A      12726.0      12604.0         0.134247 2019-08-23  \n357139     No Match      13413.0          1.0         0.115068 2019-08-23  \n357164     No Match      16052.0          1.0         0.287671 2019-08-23  \n357151     No Match       7980.0          1.0         0.134247 2019-08-23  \n357165     No Match       5139.0          1.0         0.517808 2019-08-26  \n\n[54250 rows x 51 columns]",
      "text/html": "<div>\n<style scoped>\n    .dataframe tbody tr th:only-of-type {\n        vertical-align: middle;\n    }\n\n    .dataframe tbody tr th {\n        vertical-align: top;\n    }\n\n    .dataframe thead th {\n        text-align: right;\n    }\n</style>\n<table border=\"1\" class=\"dataframe\">\n  <thead>\n    <tr style=\"text-align: right;\">\n      <th></th>\n      <th>song_id</th>\n      <th>song_name</th>\n      <th>song_popularity</th>\n      <th>explicit</th>\n      <th>song_type</th>\n      <th>track_number</th>\n      <th>num_artists</th>\n      <th>num_available_markets</th>\n      <th>release_date</th>\n      <th>duration_ms</th>\n      <th>...</th>\n      <th>eccentricity_y</th>\n      <th>eigencentrality_y</th>\n      <th>weighted degree_y</th>\n      <th>pagerank_y</th>\n      <th>Cluster_y</th>\n      <th>profile_y</th>\n      <th>artist1_num</th>\n      <th>artist2_num</th>\n      <th>years_on_charts</th>\n      <th>date</th>\n    </tr>\n  </thead>\n  <tbody>\n    <tr>\n      <th>302958</th>\n      <td>4Gsqw7pb3z4OPDUeES6Daz</td>\n      <td>Don't Speak (8-Bit No Doubt Emulation)</td>\n      <td>1.0</td>\n      <td>False</td>\n      <td>Solo</td>\n      <td>24.0</td>\n      <td>1.0</td>\n      <td>79.0</td>\n      <td>2018-08-26</td>\n      <td>266069.0</td>\n      <td>...</td>\n      <td>0.0</td>\n      <td>0.000000</td>\n      <td>0.0</td>\n      <td>0.000000</td>\n      <td>-1.0</td>\n      <td>No Match</td>\n      <td>5370.0</td>\n      <td>1.0</td>\n      <td>0.000000</td>\n      <td>2018-08-26</td>\n    </tr>\n    <tr>\n      <th>302957</th>\n      <td>6tv2ZtGQcEiszwNpBx7wK2</td>\n      <td>Livin' It Up (8-Bit MONSTA X Emulation)</td>\n      <td>0.0</td>\n      <td>False</td>\n      <td>Solo</td>\n      <td>23.0</td>\n      <td>1.0</td>\n      <td>79.0</td>\n      <td>2018-08-26</td>\n      <td>222211.0</td>\n      <td>...</td>\n      <td>0.0</td>\n      <td>0.000000</td>\n      <td>0.0</td>\n      <td>0.000000</td>\n      <td>-1.0</td>\n      <td>No Match</td>\n      <td>5370.0</td>\n      <td>1.0</td>\n      <td>0.000000</td>\n      <td>2018-08-26</td>\n    </tr>\n    <tr>\n      <th>302955</th>\n      <td>2Yg7VknojyXmbAKnmrSAMU</td>\n      <td>Bitter Sweet Symphony (8-Bit The Verve Emulation)</td>\n      <td>2.0</td>\n      <td>False</td>\n      <td>Solo</td>\n      <td>27.0</td>\n      <td>1.0</td>\n      <td>79.0</td>\n      <td>2018-08-26</td>\n      <td>255423.0</td>\n      <td>...</td>\n      <td>0.0</td>\n      <td>0.000000</td>\n      <td>0.0</td>\n      <td>0.000000</td>\n      <td>-1.0</td>\n      <td>No Match</td>\n      <td>5370.0</td>\n      <td>1.0</td>\n      <td>0.000000</td>\n      <td>2018-08-26</td>\n    </tr>\n    <tr>\n      <th>302947</th>\n      <td>7g9Vsa7alv8WuR9COxDu9k</td>\n      <td>Sex and Candy (8-Bit Marcy Playground Emulation)</td>\n      <td>0.0</td>\n      <td>False</td>\n      <td>Solo</td>\n      <td>21.0</td>\n      <td>1.0</td>\n      <td>79.0</td>\n      <td>2018-08-26</td>\n      <td>167013.0</td>\n      <td>...</td>\n      <td>0.0</td>\n      <td>0.000000</td>\n      <td>0.0</td>\n      <td>0.000000</td>\n      <td>-1.0</td>\n      <td>No Match</td>\n      <td>5370.0</td>\n      <td>1.0</td>\n      <td>0.000000</td>\n      <td>2018-08-26</td>\n    </tr>\n    <tr>\n      <th>302954</th>\n      <td>4H1sr1GwbRuVIHZWcfkR8R</td>\n      <td>Day Spring</td>\n      <td>0.0</td>\n      <td>False</td>\n      <td>Solo</td>\n      <td>3.0</td>\n      <td>1.0</td>\n      <td>79.0</td>\n      <td>2018-08-26</td>\n      <td>278400.0</td>\n      <td>...</td>\n      <td>0.0</td>\n      <td>0.000000</td>\n      <td>0.0</td>\n      <td>0.000000</td>\n      <td>-1.0</td>\n      <td>No Match</td>\n      <td>1358.0</td>\n      <td>1.0</td>\n      <td>0.000000</td>\n      <td>2018-08-26</td>\n    </tr>\n    <tr>\n      <th>...</th>\n      <td>...</td>\n      <td>...</td>\n      <td>...</td>\n      <td>...</td>\n      <td>...</td>\n      <td>...</td>\n      <td>...</td>\n      <td>...</td>\n      <td>...</td>\n      <td>...</td>\n      <td>...</td>\n      <td>...</td>\n      <td>...</td>\n      <td>...</td>\n      <td>...</td>\n      <td>...</td>\n      <td>...</td>\n      <td>...</td>\n      <td>...</td>\n      <td>...</td>\n      <td>...</td>\n    </tr>\n    <tr>\n      <th>357140</th>\n      <td>6WrGNqos7nZLxV7QWTgyNO</td>\n      <td>I'll Keep You Satisfied</td>\n      <td>1.0</td>\n      <td>False</td>\n      <td>Collaboration</td>\n      <td>23.0</td>\n      <td>2.0</td>\n      <td>78.0</td>\n      <td>2019-08-23</td>\n      <td>126360.0</td>\n      <td>...</td>\n      <td>1.0</td>\n      <td>0.525731</td>\n      <td>62.0</td>\n      <td>0.000055</td>\n      <td>4.0</td>\n      <td>1A 2B 3A 4A</td>\n      <td>12726.0</td>\n      <td>12604.0</td>\n      <td>0.134247</td>\n      <td>2019-08-23</td>\n    </tr>\n    <tr>\n      <th>357139</th>\n      <td>13MADoRclDrvJXcH0l7CFA</td>\n      <td>You Were on My Mind</td>\n      <td>1.0</td>\n      <td>False</td>\n      <td>Solo</td>\n      <td>8.0</td>\n      <td>1.0</td>\n      <td>79.0</td>\n      <td>2019-08-23</td>\n      <td>163533.0</td>\n      <td>...</td>\n      <td>0.0</td>\n      <td>0.000000</td>\n      <td>0.0</td>\n      <td>0.000000</td>\n      <td>-1.0</td>\n      <td>No Match</td>\n      <td>13413.0</td>\n      <td>1.0</td>\n      <td>0.115068</td>\n      <td>2019-08-23</td>\n    </tr>\n    <tr>\n      <th>357164</th>\n      <td>7goArBQdsalqclSyaTywAS</td>\n      <td>Shimmy Shimmy Ya</td>\n      <td>7.0</td>\n      <td>False</td>\n      <td>Solo</td>\n      <td>8.0</td>\n      <td>1.0</td>\n      <td>78.0</td>\n      <td>2019-08-23</td>\n      <td>161200.0</td>\n      <td>...</td>\n      <td>0.0</td>\n      <td>0.000000</td>\n      <td>0.0</td>\n      <td>0.000000</td>\n      <td>-1.0</td>\n      <td>No Match</td>\n      <td>16052.0</td>\n      <td>1.0</td>\n      <td>0.287671</td>\n      <td>2019-08-23</td>\n    </tr>\n    <tr>\n      <th>357151</th>\n      <td>2CZ46u5NGXQFXke3PMCuAK</td>\n      <td>Today I Started Loving You Again</td>\n      <td>3.0</td>\n      <td>False</td>\n      <td>Solo</td>\n      <td>15.0</td>\n      <td>1.0</td>\n      <td>78.0</td>\n      <td>2019-08-23</td>\n      <td>172147.0</td>\n      <td>...</td>\n      <td>0.0</td>\n      <td>0.000000</td>\n      <td>0.0</td>\n      <td>0.000000</td>\n      <td>-1.0</td>\n      <td>No Match</td>\n      <td>7980.0</td>\n      <td>1.0</td>\n      <td>0.134247</td>\n      <td>2019-08-23</td>\n    </tr>\n    <tr>\n      <th>357165</th>\n      <td>6Fh2QgjCxL96dA3Gtpfr4Q</td>\n      <td>One Sweet Day (16-Bit Mariah Carey &amp; Boyz II M...</td>\n      <td>0.0</td>\n      <td>False</td>\n      <td>Solo</td>\n      <td>27.0</td>\n      <td>1.0</td>\n      <td>79.0</td>\n      <td>2019-08-26</td>\n      <td>260910.0</td>\n      <td>...</td>\n      <td>0.0</td>\n      <td>0.000000</td>\n      <td>0.0</td>\n      <td>0.000000</td>\n      <td>-1.0</td>\n      <td>No Match</td>\n      <td>5139.0</td>\n      <td>1.0</td>\n      <td>0.517808</td>\n      <td>2019-08-26</td>\n    </tr>\n  </tbody>\n</table>\n<p>54250 rows × 51 columns</p>\n</div>"
     },
     "execution_count": 4,
     "metadata": {},
     "output_type": "execute_result"
    }
   ],
   "source": [
    "test_df"
   ],
   "metadata": {
    "collapsed": false,
    "ExecuteTime": {
     "end_time": "2024-05-30T16:32:49.233229200Z",
     "start_time": "2024-05-30T16:32:49.142231Z"
    }
   },
   "id": "c5e9745b7e9b7a05"
  },
  {
   "cell_type": "code",
   "execution_count": 5,
   "outputs": [
    {
     "data": {
      "text/plain": "                       song_id                               song_name  \\\n0       3rTIDlmlGskGnRRqmRtvYn                           Lone Stranger   \n64      6aOw7bWT4sDJTq2cQ3YOPo  Barrel of a Gun - Instrumental Version   \n63      7zhdgvEuhcxy4iwc0ssoty               Ghost of Gloria Goodchild   \n62      7urrpTy9j5QGMYrZpPwuEy                                  Kolors   \n61      6Ppgg7vDhYoyyNmmfIE9zK                         Come as You Are   \n...                        ...                                     ...   \n302833  3nXCl6A9GI9008YJb8biqz                         The Last Hippie   \n302834  16h5mVR7abqHXj8jBAiPdX                            Not Mushroom   \n302835  0U8KFcdXcJE7Rh1F12CGTF                              Time Lapse   \n302836  1v0WJzyINC5wcfzUFYUZh0                 Woman With the Red Lips   \n302831  6oYT6S7i5G9jwZUEDBqnh5                             Earthquaker   \n\n        song_popularity  explicit song_type  track_number  num_artists  \\\n0                   0.0     False      Solo          19.0          1.0   \n64                  0.0     False      Solo          22.0          1.0   \n63                  5.0      True      Solo           9.0          1.0   \n62                 12.0      True      Solo          10.0          1.0   \n61                  5.0      True      Solo          11.0          1.0   \n...                 ...       ...       ...           ...          ...   \n302833              0.0     False      Solo           5.0          1.0   \n302834              0.0     False      Solo           6.0          1.0   \n302835              0.0     False      Solo          21.0          1.0   \n302836              0.0     False      Solo          14.0          1.0   \n302831              0.0     False      Solo           3.0          1.0   \n\n        num_available_markets release_date  duration_ms  ...  eccentricity_y  \\\n0                        74.0   2013-08-26     163255.0  ...             0.0   \n64                       74.0   2013-08-26     141636.0  ...             0.0   \n63                        2.0   2013-08-26     193787.0  ...             0.0   \n62                        2.0   2013-08-26     270160.0  ...             0.0   \n61                        2.0   2013-08-26     168520.0  ...             0.0   \n...                       ...          ...          ...  ...             ...   \n302833                   79.0   2018-08-25     385984.0  ...             0.0   \n302834                   79.0   2018-08-25     398629.0  ...             0.0   \n302835                   79.0   2018-08-25     535148.0  ...             0.0   \n302836                   79.0   2018-08-25     464300.0  ...             0.0   \n302831                   79.0   2018-08-25     394839.0  ...             0.0   \n\n        eigencentrality_y  weighted degree_y  pagerank_y  Cluster_y  \\\n0                     0.0                0.0         0.0       -1.0   \n64                    0.0                0.0         0.0       -1.0   \n63                    0.0                0.0         0.0       -1.0   \n62                    0.0                0.0         0.0       -1.0   \n61                    0.0                0.0         0.0       -1.0   \n...                   ...                ...         ...        ...   \n302833                0.0                0.0         0.0       -1.0   \n302834                0.0                0.0         0.0       -1.0   \n302835                0.0                0.0         0.0       -1.0   \n302836                0.0                0.0         0.0       -1.0   \n302831                0.0                0.0         0.0       -1.0   \n\n        profile_y  artist1_num  artist2_num  years_on_charts       date  \n0        No Match       5997.0          1.0              0.0 2013-08-26  \n64       No Match      14880.0          1.0              0.0 2013-08-26  \n63       No Match       8486.0          1.0              0.0 2013-08-26  \n62       No Match       8486.0          1.0              0.0 2013-08-26  \n61       No Match       8486.0          1.0              0.0 2013-08-26  \n...           ...          ...          ...              ...        ...  \n302833   No Match       7825.0          1.0              0.0 2018-08-25  \n302834   No Match       7825.0          1.0              0.0 2018-08-25  \n302835   No Match      11271.0          1.0              0.0 2018-08-25  \n302836   No Match       7825.0          1.0              0.0 2018-08-25  \n302831   No Match       7825.0          1.0              0.0 2018-08-25  \n\n[302916 rows x 51 columns]",
      "text/html": "<div>\n<style scoped>\n    .dataframe tbody tr th:only-of-type {\n        vertical-align: middle;\n    }\n\n    .dataframe tbody tr th {\n        vertical-align: top;\n    }\n\n    .dataframe thead th {\n        text-align: right;\n    }\n</style>\n<table border=\"1\" class=\"dataframe\">\n  <thead>\n    <tr style=\"text-align: right;\">\n      <th></th>\n      <th>song_id</th>\n      <th>song_name</th>\n      <th>song_popularity</th>\n      <th>explicit</th>\n      <th>song_type</th>\n      <th>track_number</th>\n      <th>num_artists</th>\n      <th>num_available_markets</th>\n      <th>release_date</th>\n      <th>duration_ms</th>\n      <th>...</th>\n      <th>eccentricity_y</th>\n      <th>eigencentrality_y</th>\n      <th>weighted degree_y</th>\n      <th>pagerank_y</th>\n      <th>Cluster_y</th>\n      <th>profile_y</th>\n      <th>artist1_num</th>\n      <th>artist2_num</th>\n      <th>years_on_charts</th>\n      <th>date</th>\n    </tr>\n  </thead>\n  <tbody>\n    <tr>\n      <th>0</th>\n      <td>3rTIDlmlGskGnRRqmRtvYn</td>\n      <td>Lone Stranger</td>\n      <td>0.0</td>\n      <td>False</td>\n      <td>Solo</td>\n      <td>19.0</td>\n      <td>1.0</td>\n      <td>74.0</td>\n      <td>2013-08-26</td>\n      <td>163255.0</td>\n      <td>...</td>\n      <td>0.0</td>\n      <td>0.0</td>\n      <td>0.0</td>\n      <td>0.0</td>\n      <td>-1.0</td>\n      <td>No Match</td>\n      <td>5997.0</td>\n      <td>1.0</td>\n      <td>0.0</td>\n      <td>2013-08-26</td>\n    </tr>\n    <tr>\n      <th>64</th>\n      <td>6aOw7bWT4sDJTq2cQ3YOPo</td>\n      <td>Barrel of a Gun - Instrumental Version</td>\n      <td>0.0</td>\n      <td>False</td>\n      <td>Solo</td>\n      <td>22.0</td>\n      <td>1.0</td>\n      <td>74.0</td>\n      <td>2013-08-26</td>\n      <td>141636.0</td>\n      <td>...</td>\n      <td>0.0</td>\n      <td>0.0</td>\n      <td>0.0</td>\n      <td>0.0</td>\n      <td>-1.0</td>\n      <td>No Match</td>\n      <td>14880.0</td>\n      <td>1.0</td>\n      <td>0.0</td>\n      <td>2013-08-26</td>\n    </tr>\n    <tr>\n      <th>63</th>\n      <td>7zhdgvEuhcxy4iwc0ssoty</td>\n      <td>Ghost of Gloria Goodchild</td>\n      <td>5.0</td>\n      <td>True</td>\n      <td>Solo</td>\n      <td>9.0</td>\n      <td>1.0</td>\n      <td>2.0</td>\n      <td>2013-08-26</td>\n      <td>193787.0</td>\n      <td>...</td>\n      <td>0.0</td>\n      <td>0.0</td>\n      <td>0.0</td>\n      <td>0.0</td>\n      <td>-1.0</td>\n      <td>No Match</td>\n      <td>8486.0</td>\n      <td>1.0</td>\n      <td>0.0</td>\n      <td>2013-08-26</td>\n    </tr>\n    <tr>\n      <th>62</th>\n      <td>7urrpTy9j5QGMYrZpPwuEy</td>\n      <td>Kolors</td>\n      <td>12.0</td>\n      <td>True</td>\n      <td>Solo</td>\n      <td>10.0</td>\n      <td>1.0</td>\n      <td>2.0</td>\n      <td>2013-08-26</td>\n      <td>270160.0</td>\n      <td>...</td>\n      <td>0.0</td>\n      <td>0.0</td>\n      <td>0.0</td>\n      <td>0.0</td>\n      <td>-1.0</td>\n      <td>No Match</td>\n      <td>8486.0</td>\n      <td>1.0</td>\n      <td>0.0</td>\n      <td>2013-08-26</td>\n    </tr>\n    <tr>\n      <th>61</th>\n      <td>6Ppgg7vDhYoyyNmmfIE9zK</td>\n      <td>Come as You Are</td>\n      <td>5.0</td>\n      <td>True</td>\n      <td>Solo</td>\n      <td>11.0</td>\n      <td>1.0</td>\n      <td>2.0</td>\n      <td>2013-08-26</td>\n      <td>168520.0</td>\n      <td>...</td>\n      <td>0.0</td>\n      <td>0.0</td>\n      <td>0.0</td>\n      <td>0.0</td>\n      <td>-1.0</td>\n      <td>No Match</td>\n      <td>8486.0</td>\n      <td>1.0</td>\n      <td>0.0</td>\n      <td>2013-08-26</td>\n    </tr>\n    <tr>\n      <th>...</th>\n      <td>...</td>\n      <td>...</td>\n      <td>...</td>\n      <td>...</td>\n      <td>...</td>\n      <td>...</td>\n      <td>...</td>\n      <td>...</td>\n      <td>...</td>\n      <td>...</td>\n      <td>...</td>\n      <td>...</td>\n      <td>...</td>\n      <td>...</td>\n      <td>...</td>\n      <td>...</td>\n      <td>...</td>\n      <td>...</td>\n      <td>...</td>\n      <td>...</td>\n      <td>...</td>\n    </tr>\n    <tr>\n      <th>302833</th>\n      <td>3nXCl6A9GI9008YJb8biqz</td>\n      <td>The Last Hippie</td>\n      <td>0.0</td>\n      <td>False</td>\n      <td>Solo</td>\n      <td>5.0</td>\n      <td>1.0</td>\n      <td>79.0</td>\n      <td>2018-08-25</td>\n      <td>385984.0</td>\n      <td>...</td>\n      <td>0.0</td>\n      <td>0.0</td>\n      <td>0.0</td>\n      <td>0.0</td>\n      <td>-1.0</td>\n      <td>No Match</td>\n      <td>7825.0</td>\n      <td>1.0</td>\n      <td>0.0</td>\n      <td>2018-08-25</td>\n    </tr>\n    <tr>\n      <th>302834</th>\n      <td>16h5mVR7abqHXj8jBAiPdX</td>\n      <td>Not Mushroom</td>\n      <td>0.0</td>\n      <td>False</td>\n      <td>Solo</td>\n      <td>6.0</td>\n      <td>1.0</td>\n      <td>79.0</td>\n      <td>2018-08-25</td>\n      <td>398629.0</td>\n      <td>...</td>\n      <td>0.0</td>\n      <td>0.0</td>\n      <td>0.0</td>\n      <td>0.0</td>\n      <td>-1.0</td>\n      <td>No Match</td>\n      <td>7825.0</td>\n      <td>1.0</td>\n      <td>0.0</td>\n      <td>2018-08-25</td>\n    </tr>\n    <tr>\n      <th>302835</th>\n      <td>0U8KFcdXcJE7Rh1F12CGTF</td>\n      <td>Time Lapse</td>\n      <td>0.0</td>\n      <td>False</td>\n      <td>Solo</td>\n      <td>21.0</td>\n      <td>1.0</td>\n      <td>79.0</td>\n      <td>2018-08-25</td>\n      <td>535148.0</td>\n      <td>...</td>\n      <td>0.0</td>\n      <td>0.0</td>\n      <td>0.0</td>\n      <td>0.0</td>\n      <td>-1.0</td>\n      <td>No Match</td>\n      <td>11271.0</td>\n      <td>1.0</td>\n      <td>0.0</td>\n      <td>2018-08-25</td>\n    </tr>\n    <tr>\n      <th>302836</th>\n      <td>1v0WJzyINC5wcfzUFYUZh0</td>\n      <td>Woman With the Red Lips</td>\n      <td>0.0</td>\n      <td>False</td>\n      <td>Solo</td>\n      <td>14.0</td>\n      <td>1.0</td>\n      <td>79.0</td>\n      <td>2018-08-25</td>\n      <td>464300.0</td>\n      <td>...</td>\n      <td>0.0</td>\n      <td>0.0</td>\n      <td>0.0</td>\n      <td>0.0</td>\n      <td>-1.0</td>\n      <td>No Match</td>\n      <td>7825.0</td>\n      <td>1.0</td>\n      <td>0.0</td>\n      <td>2018-08-25</td>\n    </tr>\n    <tr>\n      <th>302831</th>\n      <td>6oYT6S7i5G9jwZUEDBqnh5</td>\n      <td>Earthquaker</td>\n      <td>0.0</td>\n      <td>False</td>\n      <td>Solo</td>\n      <td>3.0</td>\n      <td>1.0</td>\n      <td>79.0</td>\n      <td>2018-08-25</td>\n      <td>394839.0</td>\n      <td>...</td>\n      <td>0.0</td>\n      <td>0.0</td>\n      <td>0.0</td>\n      <td>0.0</td>\n      <td>-1.0</td>\n      <td>No Match</td>\n      <td>7825.0</td>\n      <td>1.0</td>\n      <td>0.0</td>\n      <td>2018-08-25</td>\n    </tr>\n  </tbody>\n</table>\n<p>302916 rows × 51 columns</p>\n</div>"
     },
     "execution_count": 5,
     "metadata": {},
     "output_type": "execute_result"
    }
   ],
   "source": [
    "train_df"
   ],
   "metadata": {
    "collapsed": false,
    "ExecuteTime": {
     "end_time": "2024-05-30T16:32:49.439228800Z",
     "start_time": "2024-05-30T16:32:49.232229700Z"
    }
   },
   "id": "8e6541243bf56a7"
  },
  {
   "cell_type": "code",
   "execution_count": 6,
   "outputs": [
    {
     "name": "stderr",
     "output_type": "stream",
     "text": [
      "C:\\Users\\lasse\\AppData\\Local\\Temp\\ipykernel_7588\\3163552469.py:5: DtypeWarning: Columns (11,12,13,14,15,16,17,18,19,20,21,22,23) have mixed types. Specify dtype option on import or set low_memory=False.\n",
      "  df_nonhits = pd.read_csv(\"../../MusicOSet/additional/nonhits_dataset.csv\", delimiter=\"\\t\")\n"
     ]
    }
   ],
   "source": [
    "import pandas as pd\n",
    "\n",
    "#df_hits = pd.read_csv(\"../../MusicOSet/additional/hits_dataset.csv\", delimiter=\"\\t\")\n",
    "#df_hits[\"hit\"] = 1\n",
    "df_nonhits = pd.read_csv(\"../../MusicOSet/additional/nonhits_dataset.csv\", delimiter=\"\\t\")\n",
    "df_nonhits[\"hit\"] = 0\n",
    "#combined_df = pd.concat([df_hits, df_nonhits], axis=0)\n",
    "#combined_df"
   ],
   "metadata": {
    "collapsed": false,
    "ExecuteTime": {
     "end_time": "2024-05-30T16:32:53.497285Z",
     "start_time": "2024-05-30T16:32:49.388228900Z"
    }
   },
   "id": "ade3bcb56224cb7"
  },
  {
   "cell_type": "code",
   "execution_count": 7,
   "outputs": [
    {
     "name": "stderr",
     "output_type": "stream",
     "text": [
      "C:\\Users\\lasse\\AppData\\Local\\Temp\\ipykernel_7588\\1319364193.py:1: UserWarning: The argument 'infer_datetime_format' is deprecated and will be removed in a future version. A strict version of it is now the default, see https://pandas.pydata.org/pdeps/0004-consistent-to-datetime-parsing.html. You can safely remove this argument.\n",
      "  df_nonhits['date'] = pd.to_datetime(df_nonhits['release_date'], infer_datetime_format=True)\n"
     ]
    },
    {
     "data": {
      "text/plain": "                       song_id                       song_name  \\\n871202  74IDHJBR8ObnCMO2009n15                Universe of Love   \n137578  3LmikE0UEWcjCX3lNkHKan                  Christmas Rock   \n137579  6qtlXLENtMcInGnuhb5tpZ       Blame It On The Mistletoe   \n137580  3nhDtBrT5twOEGBSdiNex3  Santa's Gonna Take It All Back   \n137581  5Nl6CJiV5FNyMDgatdxbCr      The Night Before Christmas   \n...                        ...                             ...   \n703718  0V3gDCFRWdVCA29ZQvgxfZ                     Por Siempre   \n703719  6GyDnbiL8Ibpgdveu4cgyV               Te Puedo Castigar   \n703720  04shPRn1IpLNbBSGYaIhVq       Pétalos De Fuego - Balada   \n703713  68nsqfJQ00hTnuaw0plrmO        Pétalos De Fuego - Salsa   \n703721  7wIslb87ay7ShEz53OKok6                         Honesty   \n\n                        id_artists         name_artists  popularity  explicit  \\\n871202  ['2OLmN3LLWtLF7zerL4VdaX']        ['Laid Back']           2     False   \n137578  ['2bA6fzP0lMAQ4kz6CF61w8']       ['Toby Keith']           5     False   \n137579  ['2bA6fzP0lMAQ4kz6CF61w8']       ['Toby Keith']           5     False   \n137580  ['2bA6fzP0lMAQ4kz6CF61w8']       ['Toby Keith']           3     False   \n137581  ['2bA6fzP0lMAQ4kz6CF61w8']       ['Toby Keith']           3     False   \n...                            ...                  ...         ...       ...   \n703718  ['5Ne8hQEmy0eZu9hlE3j58B']  ['Brenda K. Starr']           4     False   \n703719  ['5Ne8hQEmy0eZu9hlE3j58B']  ['Brenda K. Starr']           4     False   \n703720  ['5Ne8hQEmy0eZu9hlE3j58B']  ['Brenda K. Starr']           2     False   \n703713  ['5Ne8hQEmy0eZu9hlE3j58B']  ['Brenda K. Starr']           5     False   \n703721  ['5Ne8hQEmy0eZu9hlE3j58B']  ['Brenda K. Starr']           7     False   \n\n       song_type  track_number  num_artists  num_available_markets  ...  \\\n871202      Solo             7            1                     79  ...   \n137578      Solo             3            1                     78  ...   \n137579      Solo             4            1                     78  ...   \n137580      Solo             5            1                     78  ...   \n137581      Solo             6            1                     78  ...   \n...          ...           ...          ...                    ...  ...   \n703718      Solo             6            1                     79  ...   \n703719      Solo             7            1                     79  ...   \n703720      Solo             8            1                     79  ...   \n703713      Solo             1            1                     79  ...   \n703721      Solo             9            1                     79  ...   \n\n       danceability energy instrumentalness liveness loudness speechiness  \\\n871202        0.784  0.739            0.253    0.111   -8.677       0.035   \n137578        0.712  0.825                0    0.432   -6.879      0.0464   \n137579        0.645  0.339         1.21e-06    0.089   -9.555      0.0377   \n137580        0.682  0.944         1.03e-05    0.359   -6.629      0.0537   \n137581        0.745  0.569                0    0.431   -8.521      0.0277   \n...             ...    ...              ...      ...      ...         ...   \n703718        0.774  0.773         0.000002   0.0564   -3.627      0.0386   \n703719        0.766  0.819         0.000111    0.108    -3.53      0.0365   \n703720        0.633  0.652              0.0    0.164   -3.812        0.03   \n703713        0.589  0.837              0.0   0.0903   -2.735      0.0432   \n703721          0.7  0.766              0.0   0.0669   -3.943      0.0496   \n\n       valence    tempo hit       date  \n871202   0.715   96.125   0 1995-01-01  \n137578   0.795  134.974   0 1995-01-01  \n137579   0.193  132.756   0 1995-01-01  \n137580   0.844  144.363   0 1995-01-01  \n137581   0.816  111.591   0 1995-01-01  \n...        ...      ...  ..        ...  \n703718   0.578   97.463   0 2019-08-16  \n703719     0.6   91.998   0 2019-08-16  \n703720  0.0954  135.227   0 2019-08-16  \n703713   0.529  173.661   0 2019-08-16  \n703721   0.498  169.518   0 2019-08-16  \n\n[899068 rows x 26 columns]",
      "text/html": "<div>\n<style scoped>\n    .dataframe tbody tr th:only-of-type {\n        vertical-align: middle;\n    }\n\n    .dataframe tbody tr th {\n        vertical-align: top;\n    }\n\n    .dataframe thead th {\n        text-align: right;\n    }\n</style>\n<table border=\"1\" class=\"dataframe\">\n  <thead>\n    <tr style=\"text-align: right;\">\n      <th></th>\n      <th>song_id</th>\n      <th>song_name</th>\n      <th>id_artists</th>\n      <th>name_artists</th>\n      <th>popularity</th>\n      <th>explicit</th>\n      <th>song_type</th>\n      <th>track_number</th>\n      <th>num_artists</th>\n      <th>num_available_markets</th>\n      <th>...</th>\n      <th>danceability</th>\n      <th>energy</th>\n      <th>instrumentalness</th>\n      <th>liveness</th>\n      <th>loudness</th>\n      <th>speechiness</th>\n      <th>valence</th>\n      <th>tempo</th>\n      <th>hit</th>\n      <th>date</th>\n    </tr>\n  </thead>\n  <tbody>\n    <tr>\n      <th>871202</th>\n      <td>74IDHJBR8ObnCMO2009n15</td>\n      <td>Universe of Love</td>\n      <td>['2OLmN3LLWtLF7zerL4VdaX']</td>\n      <td>['Laid Back']</td>\n      <td>2</td>\n      <td>False</td>\n      <td>Solo</td>\n      <td>7</td>\n      <td>1</td>\n      <td>79</td>\n      <td>...</td>\n      <td>0.784</td>\n      <td>0.739</td>\n      <td>0.253</td>\n      <td>0.111</td>\n      <td>-8.677</td>\n      <td>0.035</td>\n      <td>0.715</td>\n      <td>96.125</td>\n      <td>0</td>\n      <td>1995-01-01</td>\n    </tr>\n    <tr>\n      <th>137578</th>\n      <td>3LmikE0UEWcjCX3lNkHKan</td>\n      <td>Christmas Rock</td>\n      <td>['2bA6fzP0lMAQ4kz6CF61w8']</td>\n      <td>['Toby Keith']</td>\n      <td>5</td>\n      <td>False</td>\n      <td>Solo</td>\n      <td>3</td>\n      <td>1</td>\n      <td>78</td>\n      <td>...</td>\n      <td>0.712</td>\n      <td>0.825</td>\n      <td>0</td>\n      <td>0.432</td>\n      <td>-6.879</td>\n      <td>0.0464</td>\n      <td>0.795</td>\n      <td>134.974</td>\n      <td>0</td>\n      <td>1995-01-01</td>\n    </tr>\n    <tr>\n      <th>137579</th>\n      <td>6qtlXLENtMcInGnuhb5tpZ</td>\n      <td>Blame It On The Mistletoe</td>\n      <td>['2bA6fzP0lMAQ4kz6CF61w8']</td>\n      <td>['Toby Keith']</td>\n      <td>5</td>\n      <td>False</td>\n      <td>Solo</td>\n      <td>4</td>\n      <td>1</td>\n      <td>78</td>\n      <td>...</td>\n      <td>0.645</td>\n      <td>0.339</td>\n      <td>1.21e-06</td>\n      <td>0.089</td>\n      <td>-9.555</td>\n      <td>0.0377</td>\n      <td>0.193</td>\n      <td>132.756</td>\n      <td>0</td>\n      <td>1995-01-01</td>\n    </tr>\n    <tr>\n      <th>137580</th>\n      <td>3nhDtBrT5twOEGBSdiNex3</td>\n      <td>Santa's Gonna Take It All Back</td>\n      <td>['2bA6fzP0lMAQ4kz6CF61w8']</td>\n      <td>['Toby Keith']</td>\n      <td>3</td>\n      <td>False</td>\n      <td>Solo</td>\n      <td>5</td>\n      <td>1</td>\n      <td>78</td>\n      <td>...</td>\n      <td>0.682</td>\n      <td>0.944</td>\n      <td>1.03e-05</td>\n      <td>0.359</td>\n      <td>-6.629</td>\n      <td>0.0537</td>\n      <td>0.844</td>\n      <td>144.363</td>\n      <td>0</td>\n      <td>1995-01-01</td>\n    </tr>\n    <tr>\n      <th>137581</th>\n      <td>5Nl6CJiV5FNyMDgatdxbCr</td>\n      <td>The Night Before Christmas</td>\n      <td>['2bA6fzP0lMAQ4kz6CF61w8']</td>\n      <td>['Toby Keith']</td>\n      <td>3</td>\n      <td>False</td>\n      <td>Solo</td>\n      <td>6</td>\n      <td>1</td>\n      <td>78</td>\n      <td>...</td>\n      <td>0.745</td>\n      <td>0.569</td>\n      <td>0</td>\n      <td>0.431</td>\n      <td>-8.521</td>\n      <td>0.0277</td>\n      <td>0.816</td>\n      <td>111.591</td>\n      <td>0</td>\n      <td>1995-01-01</td>\n    </tr>\n    <tr>\n      <th>...</th>\n      <td>...</td>\n      <td>...</td>\n      <td>...</td>\n      <td>...</td>\n      <td>...</td>\n      <td>...</td>\n      <td>...</td>\n      <td>...</td>\n      <td>...</td>\n      <td>...</td>\n      <td>...</td>\n      <td>...</td>\n      <td>...</td>\n      <td>...</td>\n      <td>...</td>\n      <td>...</td>\n      <td>...</td>\n      <td>...</td>\n      <td>...</td>\n      <td>...</td>\n      <td>...</td>\n    </tr>\n    <tr>\n      <th>703718</th>\n      <td>0V3gDCFRWdVCA29ZQvgxfZ</td>\n      <td>Por Siempre</td>\n      <td>['5Ne8hQEmy0eZu9hlE3j58B']</td>\n      <td>['Brenda K. Starr']</td>\n      <td>4</td>\n      <td>False</td>\n      <td>Solo</td>\n      <td>6</td>\n      <td>1</td>\n      <td>79</td>\n      <td>...</td>\n      <td>0.774</td>\n      <td>0.773</td>\n      <td>0.000002</td>\n      <td>0.0564</td>\n      <td>-3.627</td>\n      <td>0.0386</td>\n      <td>0.578</td>\n      <td>97.463</td>\n      <td>0</td>\n      <td>2019-08-16</td>\n    </tr>\n    <tr>\n      <th>703719</th>\n      <td>6GyDnbiL8Ibpgdveu4cgyV</td>\n      <td>Te Puedo Castigar</td>\n      <td>['5Ne8hQEmy0eZu9hlE3j58B']</td>\n      <td>['Brenda K. Starr']</td>\n      <td>4</td>\n      <td>False</td>\n      <td>Solo</td>\n      <td>7</td>\n      <td>1</td>\n      <td>79</td>\n      <td>...</td>\n      <td>0.766</td>\n      <td>0.819</td>\n      <td>0.000111</td>\n      <td>0.108</td>\n      <td>-3.53</td>\n      <td>0.0365</td>\n      <td>0.6</td>\n      <td>91.998</td>\n      <td>0</td>\n      <td>2019-08-16</td>\n    </tr>\n    <tr>\n      <th>703720</th>\n      <td>04shPRn1IpLNbBSGYaIhVq</td>\n      <td>Pétalos De Fuego - Balada</td>\n      <td>['5Ne8hQEmy0eZu9hlE3j58B']</td>\n      <td>['Brenda K. Starr']</td>\n      <td>2</td>\n      <td>False</td>\n      <td>Solo</td>\n      <td>8</td>\n      <td>1</td>\n      <td>79</td>\n      <td>...</td>\n      <td>0.633</td>\n      <td>0.652</td>\n      <td>0.0</td>\n      <td>0.164</td>\n      <td>-3.812</td>\n      <td>0.03</td>\n      <td>0.0954</td>\n      <td>135.227</td>\n      <td>0</td>\n      <td>2019-08-16</td>\n    </tr>\n    <tr>\n      <th>703713</th>\n      <td>68nsqfJQ00hTnuaw0plrmO</td>\n      <td>Pétalos De Fuego - Salsa</td>\n      <td>['5Ne8hQEmy0eZu9hlE3j58B']</td>\n      <td>['Brenda K. Starr']</td>\n      <td>5</td>\n      <td>False</td>\n      <td>Solo</td>\n      <td>1</td>\n      <td>1</td>\n      <td>79</td>\n      <td>...</td>\n      <td>0.589</td>\n      <td>0.837</td>\n      <td>0.0</td>\n      <td>0.0903</td>\n      <td>-2.735</td>\n      <td>0.0432</td>\n      <td>0.529</td>\n      <td>173.661</td>\n      <td>0</td>\n      <td>2019-08-16</td>\n    </tr>\n    <tr>\n      <th>703721</th>\n      <td>7wIslb87ay7ShEz53OKok6</td>\n      <td>Honesty</td>\n      <td>['5Ne8hQEmy0eZu9hlE3j58B']</td>\n      <td>['Brenda K. Starr']</td>\n      <td>7</td>\n      <td>False</td>\n      <td>Solo</td>\n      <td>9</td>\n      <td>1</td>\n      <td>79</td>\n      <td>...</td>\n      <td>0.7</td>\n      <td>0.766</td>\n      <td>0.0</td>\n      <td>0.0669</td>\n      <td>-3.943</td>\n      <td>0.0496</td>\n      <td>0.498</td>\n      <td>169.518</td>\n      <td>0</td>\n      <td>2019-08-16</td>\n    </tr>\n  </tbody>\n</table>\n<p>899068 rows × 26 columns</p>\n</div>"
     },
     "execution_count": 7,
     "metadata": {},
     "output_type": "execute_result"
    }
   ],
   "source": [
    "df_nonhits['date'] = pd.to_datetime(df_nonhits['release_date'], infer_datetime_format=True)\n",
    "df_nonhits.sort_values(by=\"date\", inplace=True)\n",
    "df_nonhits"
   ],
   "metadata": {
    "collapsed": false,
    "ExecuteTime": {
     "end_time": "2024-05-30T16:32:54.932927400Z",
     "start_time": "2024-05-30T16:32:53.505284700Z"
    }
   },
   "id": "299d5a311fda8bf6"
  },
  {
   "cell_type": "code",
   "execution_count": 8,
   "outputs": [
    {
     "data": {
      "text/plain": "                       song_id                  id_artists       date\n0       0nqqWylFgcuCmrDeBzul0m  ['6OXILsPD4WNJ7XiGMAkCWa'] 2010-08-27\n1       6WSfU5knrNvvwUJuDDoxRZ  ['5oJwrS9WFj1SRCgSevVZRV'] 2010-08-27\n2       17ZFljy2nGDAtpru8XGPUi  ['1k5aZWIOUbUfKcnMxtEivJ'] 2010-08-27\n3       1pxblVOWPh8wisUmNZaewL  ['6OXILsPD4WNJ7XiGMAkCWa'] 2010-08-27\n4       6q9AqaVn1WEU5XycHKk9CW  ['6OXILsPD4WNJ7XiGMAkCWa'] 2010-08-27\n...                        ...                         ...        ...\n546699  4UBlffX5jMdwp9MjtNTFYR  ['7JfutRemdlJGyQsIZ7wWQ9'] 2018-08-25\n546700  3zRMM1Xugxsae3TQ8eAq51  ['7JfutRemdlJGyQsIZ7wWQ9'] 2018-08-25\n546701  7wroh8nPAKIyaIpQWdY3ol  ['397f86EukZ0rjnR5FWq0HQ'] 2018-08-25\n546702  78ggWnVAuaIgu2k7jCUEl7  ['7JfutRemdlJGyQsIZ7wWQ9'] 2018-08-25\n546703  6OYm93Yl4uSxLaAAUbK3fN  ['397f86EukZ0rjnR5FWq0HQ'] 2018-08-25\n\n[546704 rows x 3 columns]",
      "text/html": "<div>\n<style scoped>\n    .dataframe tbody tr th:only-of-type {\n        vertical-align: middle;\n    }\n\n    .dataframe tbody tr th {\n        vertical-align: top;\n    }\n\n    .dataframe thead th {\n        text-align: right;\n    }\n</style>\n<table border=\"1\" class=\"dataframe\">\n  <thead>\n    <tr style=\"text-align: right;\">\n      <th></th>\n      <th>song_id</th>\n      <th>id_artists</th>\n      <th>date</th>\n    </tr>\n  </thead>\n  <tbody>\n    <tr>\n      <th>0</th>\n      <td>0nqqWylFgcuCmrDeBzul0m</td>\n      <td>['6OXILsPD4WNJ7XiGMAkCWa']</td>\n      <td>2010-08-27</td>\n    </tr>\n    <tr>\n      <th>1</th>\n      <td>6WSfU5knrNvvwUJuDDoxRZ</td>\n      <td>['5oJwrS9WFj1SRCgSevVZRV']</td>\n      <td>2010-08-27</td>\n    </tr>\n    <tr>\n      <th>2</th>\n      <td>17ZFljy2nGDAtpru8XGPUi</td>\n      <td>['1k5aZWIOUbUfKcnMxtEivJ']</td>\n      <td>2010-08-27</td>\n    </tr>\n    <tr>\n      <th>3</th>\n      <td>1pxblVOWPh8wisUmNZaewL</td>\n      <td>['6OXILsPD4WNJ7XiGMAkCWa']</td>\n      <td>2010-08-27</td>\n    </tr>\n    <tr>\n      <th>4</th>\n      <td>6q9AqaVn1WEU5XycHKk9CW</td>\n      <td>['6OXILsPD4WNJ7XiGMAkCWa']</td>\n      <td>2010-08-27</td>\n    </tr>\n    <tr>\n      <th>...</th>\n      <td>...</td>\n      <td>...</td>\n      <td>...</td>\n    </tr>\n    <tr>\n      <th>546699</th>\n      <td>4UBlffX5jMdwp9MjtNTFYR</td>\n      <td>['7JfutRemdlJGyQsIZ7wWQ9']</td>\n      <td>2018-08-25</td>\n    </tr>\n    <tr>\n      <th>546700</th>\n      <td>3zRMM1Xugxsae3TQ8eAq51</td>\n      <td>['7JfutRemdlJGyQsIZ7wWQ9']</td>\n      <td>2018-08-25</td>\n    </tr>\n    <tr>\n      <th>546701</th>\n      <td>7wroh8nPAKIyaIpQWdY3ol</td>\n      <td>['397f86EukZ0rjnR5FWq0HQ']</td>\n      <td>2018-08-25</td>\n    </tr>\n    <tr>\n      <th>546702</th>\n      <td>78ggWnVAuaIgu2k7jCUEl7</td>\n      <td>['7JfutRemdlJGyQsIZ7wWQ9']</td>\n      <td>2018-08-25</td>\n    </tr>\n    <tr>\n      <th>546703</th>\n      <td>6OYm93Yl4uSxLaAAUbK3fN</td>\n      <td>['397f86EukZ0rjnR5FWq0HQ']</td>\n      <td>2018-08-25</td>\n    </tr>\n  </tbody>\n</table>\n<p>546704 rows × 3 columns</p>\n</div>"
     },
     "execution_count": 8,
     "metadata": {},
     "output_type": "execute_result"
    }
   ],
   "source": [
    "border_day = train_df[\"date\"].iloc[0] - pd.DateOffset(years=past_years) \n",
    "df_nonhits = df_nonhits[(df_nonhits[\"date\"] <= present) & (df_nonhits[\"date\"] > border_day)]\n",
    "amount_songs = df_nonhits[[\"song_id\", \"id_artists\", \"date\"]].copy()\n",
    "del df_nonhits\n",
    "amount_songs.reset_index(drop=True, inplace=True)\n",
    "amount_songs"
   ],
   "metadata": {
    "collapsed": false,
    "ExecuteTime": {
     "end_time": "2024-05-30T16:32:55.267927800Z",
     "start_time": "2024-05-30T16:32:54.928930Z"
    }
   },
   "id": "e0b209ec5e36541c"
  },
  {
   "cell_type": "code",
   "execution_count": 9,
   "outputs": [
    {
     "data": {
      "text/plain": "list"
     },
     "execution_count": 9,
     "metadata": {},
     "output_type": "execute_result"
    }
   ],
   "source": [
    "#amount_songs = combined_df[combined_df[\"song_id\"].isin(list_ids)]\n",
    "amount_songs[\"id_artists\"] = amount_songs[\"id_artists\"].apply(lambda x: eval(x))\n",
    "type(amount_songs[\"id_artists\"].iloc[0])"
   ],
   "metadata": {
    "collapsed": false,
    "ExecuteTime": {
     "end_time": "2024-05-30T16:32:58.811198300Z",
     "start_time": "2024-05-30T16:32:55.241929100Z"
    }
   },
   "id": "e7ea378ae1d87043"
  },
  {
   "cell_type": "markdown",
   "source": [
    "## Loop:"
   ],
   "metadata": {
    "collapsed": false
   },
   "id": "795367ccfd6250"
  },
  {
   "cell_type": "code",
   "execution_count": 10,
   "outputs": [
    {
     "data": {
      "text/plain": "                       song_id                               song_name  \\\n0       3rTIDlmlGskGnRRqmRtvYn                           Lone Stranger   \n64      6aOw7bWT4sDJTq2cQ3YOPo  Barrel of a Gun - Instrumental Version   \n63      7zhdgvEuhcxy4iwc0ssoty               Ghost of Gloria Goodchild   \n62      7urrpTy9j5QGMYrZpPwuEy                                  Kolors   \n61      6Ppgg7vDhYoyyNmmfIE9zK                         Come as You Are   \n...                        ...                                     ...   \n302833  3nXCl6A9GI9008YJb8biqz                         The Last Hippie   \n302834  16h5mVR7abqHXj8jBAiPdX                            Not Mushroom   \n302835  0U8KFcdXcJE7Rh1F12CGTF                              Time Lapse   \n302836  1v0WJzyINC5wcfzUFYUZh0                 Woman With the Red Lips   \n302831  6oYT6S7i5G9jwZUEDBqnh5                             Earthquaker   \n\n        song_popularity  explicit song_type  track_number  num_artists  \\\n0                   0.0     False      Solo          19.0          1.0   \n64                  0.0     False      Solo          22.0          1.0   \n63                  5.0      True      Solo           9.0          1.0   \n62                 12.0      True      Solo          10.0          1.0   \n61                  5.0      True      Solo          11.0          1.0   \n...                 ...       ...       ...           ...          ...   \n302833              0.0     False      Solo           5.0          1.0   \n302834              0.0     False      Solo           6.0          1.0   \n302835              0.0     False      Solo          21.0          1.0   \n302836              0.0     False      Solo          14.0          1.0   \n302831              0.0     False      Solo           3.0          1.0   \n\n        num_available_markets release_date  duration_ms  ...  eccentricity_y  \\\n0                        74.0   2013-08-26     163255.0  ...             0.0   \n64                       74.0   2013-08-26     141636.0  ...             0.0   \n63                        2.0   2013-08-26     193787.0  ...             0.0   \n62                        2.0   2013-08-26     270160.0  ...             0.0   \n61                        2.0   2013-08-26     168520.0  ...             0.0   \n...                       ...          ...          ...  ...             ...   \n302833                   79.0   2018-08-25     385984.0  ...             0.0   \n302834                   79.0   2018-08-25     398629.0  ...             0.0   \n302835                   79.0   2018-08-25     535148.0  ...             0.0   \n302836                   79.0   2018-08-25     464300.0  ...             0.0   \n302831                   79.0   2018-08-25     394839.0  ...             0.0   \n\n        eigencentrality_y  weighted degree_y  pagerank_y  Cluster_y  \\\n0                     0.0                0.0         0.0       -1.0   \n64                    0.0                0.0         0.0       -1.0   \n63                    0.0                0.0         0.0       -1.0   \n62                    0.0                0.0         0.0       -1.0   \n61                    0.0                0.0         0.0       -1.0   \n...                   ...                ...         ...        ...   \n302833                0.0                0.0         0.0       -1.0   \n302834                0.0                0.0         0.0       -1.0   \n302835                0.0                0.0         0.0       -1.0   \n302836                0.0                0.0         0.0       -1.0   \n302831                0.0                0.0         0.0       -1.0   \n\n        profile_y  artist1_num  artist2_num  years_on_charts       date  \n0        No Match       5997.0          1.0              0.0 2013-08-26  \n64       No Match      14880.0          1.0              0.0 2013-08-26  \n63       No Match       8486.0          1.0              0.0 2013-08-26  \n62       No Match       8486.0          1.0              0.0 2013-08-26  \n61       No Match       8486.0          1.0              0.0 2013-08-26  \n...           ...          ...          ...              ...        ...  \n302833   No Match       7825.0          1.0              0.0 2018-08-25  \n302834   No Match       7825.0          1.0              0.0 2018-08-25  \n302835   No Match      11271.0          1.0              0.0 2018-08-25  \n302836   No Match       7825.0          1.0              0.0 2018-08-25  \n302831   No Match       7825.0          1.0              0.0 2018-08-25  \n\n[302916 rows x 51 columns]",
      "text/html": "<div>\n<style scoped>\n    .dataframe tbody tr th:only-of-type {\n        vertical-align: middle;\n    }\n\n    .dataframe tbody tr th {\n        vertical-align: top;\n    }\n\n    .dataframe thead th {\n        text-align: right;\n    }\n</style>\n<table border=\"1\" class=\"dataframe\">\n  <thead>\n    <tr style=\"text-align: right;\">\n      <th></th>\n      <th>song_id</th>\n      <th>song_name</th>\n      <th>song_popularity</th>\n      <th>explicit</th>\n      <th>song_type</th>\n      <th>track_number</th>\n      <th>num_artists</th>\n      <th>num_available_markets</th>\n      <th>release_date</th>\n      <th>duration_ms</th>\n      <th>...</th>\n      <th>eccentricity_y</th>\n      <th>eigencentrality_y</th>\n      <th>weighted degree_y</th>\n      <th>pagerank_y</th>\n      <th>Cluster_y</th>\n      <th>profile_y</th>\n      <th>artist1_num</th>\n      <th>artist2_num</th>\n      <th>years_on_charts</th>\n      <th>date</th>\n    </tr>\n  </thead>\n  <tbody>\n    <tr>\n      <th>0</th>\n      <td>3rTIDlmlGskGnRRqmRtvYn</td>\n      <td>Lone Stranger</td>\n      <td>0.0</td>\n      <td>False</td>\n      <td>Solo</td>\n      <td>19.0</td>\n      <td>1.0</td>\n      <td>74.0</td>\n      <td>2013-08-26</td>\n      <td>163255.0</td>\n      <td>...</td>\n      <td>0.0</td>\n      <td>0.0</td>\n      <td>0.0</td>\n      <td>0.0</td>\n      <td>-1.0</td>\n      <td>No Match</td>\n      <td>5997.0</td>\n      <td>1.0</td>\n      <td>0.0</td>\n      <td>2013-08-26</td>\n    </tr>\n    <tr>\n      <th>64</th>\n      <td>6aOw7bWT4sDJTq2cQ3YOPo</td>\n      <td>Barrel of a Gun - Instrumental Version</td>\n      <td>0.0</td>\n      <td>False</td>\n      <td>Solo</td>\n      <td>22.0</td>\n      <td>1.0</td>\n      <td>74.0</td>\n      <td>2013-08-26</td>\n      <td>141636.0</td>\n      <td>...</td>\n      <td>0.0</td>\n      <td>0.0</td>\n      <td>0.0</td>\n      <td>0.0</td>\n      <td>-1.0</td>\n      <td>No Match</td>\n      <td>14880.0</td>\n      <td>1.0</td>\n      <td>0.0</td>\n      <td>2013-08-26</td>\n    </tr>\n    <tr>\n      <th>63</th>\n      <td>7zhdgvEuhcxy4iwc0ssoty</td>\n      <td>Ghost of Gloria Goodchild</td>\n      <td>5.0</td>\n      <td>True</td>\n      <td>Solo</td>\n      <td>9.0</td>\n      <td>1.0</td>\n      <td>2.0</td>\n      <td>2013-08-26</td>\n      <td>193787.0</td>\n      <td>...</td>\n      <td>0.0</td>\n      <td>0.0</td>\n      <td>0.0</td>\n      <td>0.0</td>\n      <td>-1.0</td>\n      <td>No Match</td>\n      <td>8486.0</td>\n      <td>1.0</td>\n      <td>0.0</td>\n      <td>2013-08-26</td>\n    </tr>\n    <tr>\n      <th>62</th>\n      <td>7urrpTy9j5QGMYrZpPwuEy</td>\n      <td>Kolors</td>\n      <td>12.0</td>\n      <td>True</td>\n      <td>Solo</td>\n      <td>10.0</td>\n      <td>1.0</td>\n      <td>2.0</td>\n      <td>2013-08-26</td>\n      <td>270160.0</td>\n      <td>...</td>\n      <td>0.0</td>\n      <td>0.0</td>\n      <td>0.0</td>\n      <td>0.0</td>\n      <td>-1.0</td>\n      <td>No Match</td>\n      <td>8486.0</td>\n      <td>1.0</td>\n      <td>0.0</td>\n      <td>2013-08-26</td>\n    </tr>\n    <tr>\n      <th>61</th>\n      <td>6Ppgg7vDhYoyyNmmfIE9zK</td>\n      <td>Come as You Are</td>\n      <td>5.0</td>\n      <td>True</td>\n      <td>Solo</td>\n      <td>11.0</td>\n      <td>1.0</td>\n      <td>2.0</td>\n      <td>2013-08-26</td>\n      <td>168520.0</td>\n      <td>...</td>\n      <td>0.0</td>\n      <td>0.0</td>\n      <td>0.0</td>\n      <td>0.0</td>\n      <td>-1.0</td>\n      <td>No Match</td>\n      <td>8486.0</td>\n      <td>1.0</td>\n      <td>0.0</td>\n      <td>2013-08-26</td>\n    </tr>\n    <tr>\n      <th>...</th>\n      <td>...</td>\n      <td>...</td>\n      <td>...</td>\n      <td>...</td>\n      <td>...</td>\n      <td>...</td>\n      <td>...</td>\n      <td>...</td>\n      <td>...</td>\n      <td>...</td>\n      <td>...</td>\n      <td>...</td>\n      <td>...</td>\n      <td>...</td>\n      <td>...</td>\n      <td>...</td>\n      <td>...</td>\n      <td>...</td>\n      <td>...</td>\n      <td>...</td>\n      <td>...</td>\n    </tr>\n    <tr>\n      <th>302833</th>\n      <td>3nXCl6A9GI9008YJb8biqz</td>\n      <td>The Last Hippie</td>\n      <td>0.0</td>\n      <td>False</td>\n      <td>Solo</td>\n      <td>5.0</td>\n      <td>1.0</td>\n      <td>79.0</td>\n      <td>2018-08-25</td>\n      <td>385984.0</td>\n      <td>...</td>\n      <td>0.0</td>\n      <td>0.0</td>\n      <td>0.0</td>\n      <td>0.0</td>\n      <td>-1.0</td>\n      <td>No Match</td>\n      <td>7825.0</td>\n      <td>1.0</td>\n      <td>0.0</td>\n      <td>2018-08-25</td>\n    </tr>\n    <tr>\n      <th>302834</th>\n      <td>16h5mVR7abqHXj8jBAiPdX</td>\n      <td>Not Mushroom</td>\n      <td>0.0</td>\n      <td>False</td>\n      <td>Solo</td>\n      <td>6.0</td>\n      <td>1.0</td>\n      <td>79.0</td>\n      <td>2018-08-25</td>\n      <td>398629.0</td>\n      <td>...</td>\n      <td>0.0</td>\n      <td>0.0</td>\n      <td>0.0</td>\n      <td>0.0</td>\n      <td>-1.0</td>\n      <td>No Match</td>\n      <td>7825.0</td>\n      <td>1.0</td>\n      <td>0.0</td>\n      <td>2018-08-25</td>\n    </tr>\n    <tr>\n      <th>302835</th>\n      <td>0U8KFcdXcJE7Rh1F12CGTF</td>\n      <td>Time Lapse</td>\n      <td>0.0</td>\n      <td>False</td>\n      <td>Solo</td>\n      <td>21.0</td>\n      <td>1.0</td>\n      <td>79.0</td>\n      <td>2018-08-25</td>\n      <td>535148.0</td>\n      <td>...</td>\n      <td>0.0</td>\n      <td>0.0</td>\n      <td>0.0</td>\n      <td>0.0</td>\n      <td>-1.0</td>\n      <td>No Match</td>\n      <td>11271.0</td>\n      <td>1.0</td>\n      <td>0.0</td>\n      <td>2018-08-25</td>\n    </tr>\n    <tr>\n      <th>302836</th>\n      <td>1v0WJzyINC5wcfzUFYUZh0</td>\n      <td>Woman With the Red Lips</td>\n      <td>0.0</td>\n      <td>False</td>\n      <td>Solo</td>\n      <td>14.0</td>\n      <td>1.0</td>\n      <td>79.0</td>\n      <td>2018-08-25</td>\n      <td>464300.0</td>\n      <td>...</td>\n      <td>0.0</td>\n      <td>0.0</td>\n      <td>0.0</td>\n      <td>0.0</td>\n      <td>-1.0</td>\n      <td>No Match</td>\n      <td>7825.0</td>\n      <td>1.0</td>\n      <td>0.0</td>\n      <td>2018-08-25</td>\n    </tr>\n    <tr>\n      <th>302831</th>\n      <td>6oYT6S7i5G9jwZUEDBqnh5</td>\n      <td>Earthquaker</td>\n      <td>0.0</td>\n      <td>False</td>\n      <td>Solo</td>\n      <td>3.0</td>\n      <td>1.0</td>\n      <td>79.0</td>\n      <td>2018-08-25</td>\n      <td>394839.0</td>\n      <td>...</td>\n      <td>0.0</td>\n      <td>0.0</td>\n      <td>0.0</td>\n      <td>0.0</td>\n      <td>-1.0</td>\n      <td>No Match</td>\n      <td>7825.0</td>\n      <td>1.0</td>\n      <td>0.0</td>\n      <td>2018-08-25</td>\n    </tr>\n  </tbody>\n</table>\n<p>302916 rows × 51 columns</p>\n</div>"
     },
     "execution_count": 10,
     "metadata": {},
     "output_type": "execute_result"
    }
   ],
   "source": [
    "train_df"
   ],
   "metadata": {
    "collapsed": false,
    "ExecuteTime": {
     "end_time": "2024-05-30T16:32:58.959718100Z",
     "start_time": "2024-05-30T16:32:58.823196300Z"
    }
   },
   "id": "b28638da1c926d60"
  },
  {
   "cell_type": "code",
   "execution_count": 11,
   "outputs": [
    {
     "data": {
      "text/plain": "                       song_id  rank_score  peak_position  weeks_on_chart  \\\n0       3e9HZxeyfWwjeyPAMmWSSQ         100            100               7   \n1       5p7ujcrUXASCNwRaWNHR1C          99             99              11   \n2       2xLMifQCjDGFmkHkpNLD9h          98            100              20   \n3       3KkXRkHbMCARz0aVfEt68P          97             97               9   \n4       1rqqCSm0Qe4I9rUvWncaom          95             96              20   \n...                        ...         ...            ...             ...   \n250387  6vPS75nWOKkuH5WTLD8hDc           7             23               5   \n250388  2BCjoFA0nJlXBLRf3164bN           6              6               0   \n250389  7Gk1QKi2BAZCnrYlrYEDjC           4             11               4   \n250390  7rxev6ErpRE5VYaamjs4T3           2              2               0   \n250391  1TRvdHDqCIcTQpHTZbFttC           1              1               0   \n\n             week  \n0      2018-12-29  \n1      2018-12-29  \n2      2018-12-29  \n3      2018-12-29  \n4      2018-12-29  \n...           ...  \n250387 1964-01-04  \n250388 1964-01-04  \n250389 1964-01-04  \n250390 1964-01-04  \n250391 1964-01-04  \n\n[250392 rows x 5 columns]",
      "text/html": "<div>\n<style scoped>\n    .dataframe tbody tr th:only-of-type {\n        vertical-align: middle;\n    }\n\n    .dataframe tbody tr th {\n        vertical-align: top;\n    }\n\n    .dataframe thead th {\n        text-align: right;\n    }\n</style>\n<table border=\"1\" class=\"dataframe\">\n  <thead>\n    <tr style=\"text-align: right;\">\n      <th></th>\n      <th>song_id</th>\n      <th>rank_score</th>\n      <th>peak_position</th>\n      <th>weeks_on_chart</th>\n      <th>week</th>\n    </tr>\n  </thead>\n  <tbody>\n    <tr>\n      <th>0</th>\n      <td>3e9HZxeyfWwjeyPAMmWSSQ</td>\n      <td>100</td>\n      <td>100</td>\n      <td>7</td>\n      <td>2018-12-29</td>\n    </tr>\n    <tr>\n      <th>1</th>\n      <td>5p7ujcrUXASCNwRaWNHR1C</td>\n      <td>99</td>\n      <td>99</td>\n      <td>11</td>\n      <td>2018-12-29</td>\n    </tr>\n    <tr>\n      <th>2</th>\n      <td>2xLMifQCjDGFmkHkpNLD9h</td>\n      <td>98</td>\n      <td>100</td>\n      <td>20</td>\n      <td>2018-12-29</td>\n    </tr>\n    <tr>\n      <th>3</th>\n      <td>3KkXRkHbMCARz0aVfEt68P</td>\n      <td>97</td>\n      <td>97</td>\n      <td>9</td>\n      <td>2018-12-29</td>\n    </tr>\n    <tr>\n      <th>4</th>\n      <td>1rqqCSm0Qe4I9rUvWncaom</td>\n      <td>95</td>\n      <td>96</td>\n      <td>20</td>\n      <td>2018-12-29</td>\n    </tr>\n    <tr>\n      <th>...</th>\n      <td>...</td>\n      <td>...</td>\n      <td>...</td>\n      <td>...</td>\n      <td>...</td>\n    </tr>\n    <tr>\n      <th>250387</th>\n      <td>6vPS75nWOKkuH5WTLD8hDc</td>\n      <td>7</td>\n      <td>23</td>\n      <td>5</td>\n      <td>1964-01-04</td>\n    </tr>\n    <tr>\n      <th>250388</th>\n      <td>2BCjoFA0nJlXBLRf3164bN</td>\n      <td>6</td>\n      <td>6</td>\n      <td>0</td>\n      <td>1964-01-04</td>\n    </tr>\n    <tr>\n      <th>250389</th>\n      <td>7Gk1QKi2BAZCnrYlrYEDjC</td>\n      <td>4</td>\n      <td>11</td>\n      <td>4</td>\n      <td>1964-01-04</td>\n    </tr>\n    <tr>\n      <th>250390</th>\n      <td>7rxev6ErpRE5VYaamjs4T3</td>\n      <td>2</td>\n      <td>2</td>\n      <td>0</td>\n      <td>1964-01-04</td>\n    </tr>\n    <tr>\n      <th>250391</th>\n      <td>1TRvdHDqCIcTQpHTZbFttC</td>\n      <td>1</td>\n      <td>1</td>\n      <td>0</td>\n      <td>1964-01-04</td>\n    </tr>\n  </tbody>\n</table>\n<p>250392 rows × 5 columns</p>\n</div>"
     },
     "execution_count": 11,
     "metadata": {},
     "output_type": "execute_result"
    }
   ],
   "source": [
    "df_song_chart = pd.read_csv(\"../../MusicOSet/musicoset_popularity/song_chart.csv\", sep=\"\\t\")            #nur auf train daten, da rest unbekannt (für charts)\n",
    "df_song_chart['week'] = pd.to_datetime(df_song_chart['week']) #evtl später wegen runtime\n",
    "df_song_chart"
   ],
   "metadata": {
    "collapsed": false,
    "ExecuteTime": {
     "end_time": "2024-05-30T16:32:59.111864800Z",
     "start_time": "2024-05-30T16:32:58.955716300Z"
    }
   },
   "id": "948fa20163451baa"
  },
  {
   "cell_type": "code",
   "execution_count": 12,
   "outputs": [
    {
     "data": {
      "text/plain": "                      song_id  \\\n0      3e9HZxeyfWwjeyPAMmWSSQ   \n1      5p7ujcrUXASCNwRaWNHR1C   \n2      2xLMifQCjDGFmkHkpNLD9h   \n3      3KkXRkHbMCARz0aVfEt68P   \n4      1rqqCSm0Qe4I9rUvWncaom   \n...                       ...   \n20400  4NnhLA66RRLXxKbiiscU9R   \n20401  2jHfXdCLibrI1J56LnUAZv   \n20402  6zqsyB7uIvWrL1iCJzpNrs   \n20403  5mz9pQZZXNpAw9CdQ7Bk8q   \n20404  2H9CKpZiLDF223BbwehpDF   \n\n                                            artists_ids  \n0                              [66CXWjxzNUsdJxJ2JdwvnR]  \n1                              [26VFTg2z8YR0cCuwLzESi2]  \n2                              [0Y5tJX1MQlPlqiwlOH1tJY]  \n3      [246dkjvS1zLTtiykXe5h60, 1zNqQNIdeOUZHb8zbZRFMX]  \n4                              [20JZFwl6HVl6yg8a4H3ZqK]  \n...                                                 ...  \n20400                          [5X3TuTi9OIsJXMGxPwTKM2]  \n20401                          [6lHC2EQMEMZiEmSfFloarn]  \n20402                          [5X3TuTi9OIsJXMGxPwTKM2]  \n20403                          [6lHC2EQMEMZiEmSfFloarn]  \n20404                          [6wPhSqRtPu1UhRCDX5yaDJ]  \n\n[20405 rows x 2 columns]",
      "text/html": "<div>\n<style scoped>\n    .dataframe tbody tr th:only-of-type {\n        vertical-align: middle;\n    }\n\n    .dataframe tbody tr th {\n        vertical-align: top;\n    }\n\n    .dataframe thead th {\n        text-align: right;\n    }\n</style>\n<table border=\"1\" class=\"dataframe\">\n  <thead>\n    <tr style=\"text-align: right;\">\n      <th></th>\n      <th>song_id</th>\n      <th>artists_ids</th>\n    </tr>\n  </thead>\n  <tbody>\n    <tr>\n      <th>0</th>\n      <td>3e9HZxeyfWwjeyPAMmWSSQ</td>\n      <td>[66CXWjxzNUsdJxJ2JdwvnR]</td>\n    </tr>\n    <tr>\n      <th>1</th>\n      <td>5p7ujcrUXASCNwRaWNHR1C</td>\n      <td>[26VFTg2z8YR0cCuwLzESi2]</td>\n    </tr>\n    <tr>\n      <th>2</th>\n      <td>2xLMifQCjDGFmkHkpNLD9h</td>\n      <td>[0Y5tJX1MQlPlqiwlOH1tJY]</td>\n    </tr>\n    <tr>\n      <th>3</th>\n      <td>3KkXRkHbMCARz0aVfEt68P</td>\n      <td>[246dkjvS1zLTtiykXe5h60, 1zNqQNIdeOUZHb8zbZRFMX]</td>\n    </tr>\n    <tr>\n      <th>4</th>\n      <td>1rqqCSm0Qe4I9rUvWncaom</td>\n      <td>[20JZFwl6HVl6yg8a4H3ZqK]</td>\n    </tr>\n    <tr>\n      <th>...</th>\n      <td>...</td>\n      <td>...</td>\n    </tr>\n    <tr>\n      <th>20400</th>\n      <td>4NnhLA66RRLXxKbiiscU9R</td>\n      <td>[5X3TuTi9OIsJXMGxPwTKM2]</td>\n    </tr>\n    <tr>\n      <th>20401</th>\n      <td>2jHfXdCLibrI1J56LnUAZv</td>\n      <td>[6lHC2EQMEMZiEmSfFloarn]</td>\n    </tr>\n    <tr>\n      <th>20402</th>\n      <td>6zqsyB7uIvWrL1iCJzpNrs</td>\n      <td>[5X3TuTi9OIsJXMGxPwTKM2]</td>\n    </tr>\n    <tr>\n      <th>20403</th>\n      <td>5mz9pQZZXNpAw9CdQ7Bk8q</td>\n      <td>[6lHC2EQMEMZiEmSfFloarn]</td>\n    </tr>\n    <tr>\n      <th>20404</th>\n      <td>2H9CKpZiLDF223BbwehpDF</td>\n      <td>[6wPhSqRtPu1UhRCDX5yaDJ]</td>\n    </tr>\n  </tbody>\n</table>\n<p>20405 rows × 2 columns</p>\n</div>"
     },
     "execution_count": 12,
     "metadata": {},
     "output_type": "execute_result"
    }
   ],
   "source": [
    "df_songs = pd.read_csv(\"../../MusicOSet/musicoset_metadata/songs.csv\", sep=\"\\t\")            #nur auf train daten, da rest unbekannt (für charts)\n",
    "df_songs[\"artists_ids\"] = df_songs[\"artists\"].apply(lambda x: list((eval(x)).keys()))\n",
    "df_songs = df_songs[[\"song_id\", 'artists_ids']]\n",
    "df_songs"
   ],
   "metadata": {
    "collapsed": false,
    "ExecuteTime": {
     "end_time": "2024-05-30T16:32:59.428870200Z",
     "start_time": "2024-05-30T16:32:59.108864300Z"
    }
   },
   "id": "7cacf2570ff5145b"
  },
  {
   "cell_type": "code",
   "execution_count": 13,
   "outputs": [
    {
     "data": {
      "text/plain": "1.0"
     },
     "execution_count": 13,
     "metadata": {},
     "output_type": "execute_result"
    }
   ],
   "source": [
    "def superstar(n, d, p):\n",
    "    sup = 0\n",
    "    for i in range(len(d)):\n",
    "        sup += (d[i] + p[i])/2         #d[i] * p[i]          #um vanishing für einen 0 value zu verhindern alternativ: d+p/2 also mean nehmen?\n",
    "        # oder aus allem den mean?\n",
    "    return 1/n**2 * sup\n",
    "\n",
    "def superstar_2(n, d, p):\n",
    "    sup = 0\n",
    "    for i in range(len(d)):\n",
    "        sup += (d[i] + p[i])/2         #d[i] * p[i]          #um vanishing für einen 0 value zu verhindern alternativ: d+p/2 also mean nehmen?\n",
    "        # oder aus allem den mean?\n",
    "    return 1/n * sup\n",
    "\n",
    "def superstar_3(n, d, p):\n",
    "    sup = 0\n",
    "    for i in range(len(d)):\n",
    "        sup += p[i]        #d[i] * p[i]          #um vanishing für einen 0 value zu verhindern alternativ: d+p/2 also mean nehmen?\n",
    "        # oder aus allem den mean?\n",
    "    return 1/n**2 * sup\n",
    "\n",
    "def superstar_4(n, d, p):\n",
    "    sup = 0\n",
    "    for i in range(len(d)):\n",
    "        sup += d[i]          #d[i] * p[i]          #um vanishing für einen 0 value zu verhindern alternativ: d+p/2 also mean nehmen?\n",
    "        # oder aus allem den mean?\n",
    "    return 1/n**2 * sup\n",
    "\n",
    "def superstar_5(n, d, p, s):\n",
    "    sup = 0\n",
    "    for i in range(len(d)):\n",
    "        sup += (d[i] + p[i])/2         #d[i] * p[i]          #um vanishing für einen 0 value zu verhindern alternativ: d+p/2 also mean nehmen?\n",
    "        # oder aus allem den mean?\n",
    "    return (1-s)/n**2 * sup\n",
    "\n",
    "superstar(1, [1], [1])      #kommt es in produktivcode vor? wie mit nicht vorkommenden Werten umgehen?"
   ],
   "metadata": {
    "collapsed": false,
    "ExecuteTime": {
     "end_time": "2024-05-30T16:32:59.466867Z",
     "start_time": "2024-05-30T16:32:59.426868300Z"
    }
   },
   "id": "b5ff8ba811c4dfbd"
  },
  {
   "cell_type": "code",
   "execution_count": 14,
   "outputs": [
    {
     "data": {
      "text/plain": "([0.0, 0.24242424242424243, 0.494949494949495, 0.7474747474747475, 1.0],\n [0.0, 0.25, 0.5, 0.75, 1.0],\n 94608000)"
     },
     "execution_count": 14,
     "metadata": {},
     "output_type": "execute_result"
    }
   ],
   "source": [
    "def min_max_scaling(arr, min_val, max_val):\n",
    "    return [(x - min_val)/(max_val - min_val) for x in arr]\n",
    "\n",
    "past_years = 3\n",
    "max_amount_days = past_years*365\n",
    "max_distance_float = max_amount_days*24*60*60\n",
    "\n",
    "peak_positions = [1, 25, 50, 75, 100]\n",
    "days_distances = [0.00, max_distance_float*0.25, max_distance_float*0.5, max_distance_float*0.75, max_distance_float]\n",
    "peak_positions = min_max_scaling(peak_positions, 1, 100) #101 oder 100 als edge \n",
    "# change to (0,1], sonst sobald ein wert 0 ist also min, dann resultat auch 0 => 0 ist viel zu common siehe bsp file\n",
    "# => min value um 1 reduzieren um skalar zu verschieben\n",
    "days_distances = min_max_scaling(days_distances, 0.0, max_distance_float)\n",
    "peak_positions, days_distances, max_distance_float   ###skalierungsproblem!     "
   ],
   "metadata": {
    "collapsed": false,
    "ExecuteTime": {
     "end_time": "2024-05-30T16:32:59.527867400Z",
     "start_time": "2024-05-30T16:32:59.444868500Z"
    }
   },
   "id": "89dc6a7b881f4ce7"
  },
  {
   "cell_type": "markdown",
   "source": [
    "find out where sideeffects are:"
   ],
   "metadata": {
    "collapsed": false
   },
   "id": "7c81123ea489c0f0"
  },
  {
   "cell_type": "code",
   "execution_count": 15,
   "outputs": [],
   "source": [
    "data_hsp = pd.read_csv(\"HSP_song_collab.csv\", delimiter=\",\")\n"
   ],
   "metadata": {
    "collapsed": false,
    "ExecuteTime": {
     "end_time": "2024-05-30T16:33:02.221039400Z",
     "start_time": "2024-05-30T16:32:59.455869100Z"
    }
   },
   "id": "e6665dfd4ee22277"
  },
  {
   "cell_type": "code",
   "execution_count": 16,
   "outputs": [],
   "source": [
    "data_hsp['date'] = pd.to_datetime(data_hsp['release_date'])\n",
    "data_hsp.sort_values(by=\"date\", inplace=True)\n",
    "\n",
    "split_day = data_hsp[\"date\"].iloc[-1]  - pd.DateOffset(years=1)\n",
    "train_df_hsp = data_hsp[(data_hsp[\"date\"]  < split_day)].copy()\n",
    "test_df_hsp = data_hsp[(data_hsp[\"date\"]  >= split_day)].copy()"
   ],
   "metadata": {
    "collapsed": false,
    "ExecuteTime": {
     "end_time": "2024-05-30T16:33:02.519895600Z",
     "start_time": "2024-05-30T16:33:02.218040900Z"
    }
   },
   "id": "d02f72f7c454f1e"
  },
  {
   "cell_type": "code",
   "execution_count": 17,
   "outputs": [],
   "source": [
    "import numpy as np\n",
    "\n",
    "def calculate_mae(df1, df2, col1):\n",
    "    \"\"\"\n",
    "    This function calculates the mean absolute error (MAE) between two columns in two DataFrames.\n",
    "  \n",
    "    Args:\n",
    "        df1 (pandas.DataFrame): The first DataFrame.\n",
    "        df2 (pandas.DataFrame): The second DataFrame.\n",
    "        col1 (str): The name of the column in the first DataFrame.\n",
    "        col2 (str): The name of the column in the second DataFrame.\n",
    "  \n",
    "    Returns:\n",
    "        float: The mean absolute error between the two columns.\n",
    "    \"\"\"\n",
    "    #if not all(col in df for col in [col1, col2]) or not df1[col1].dtypes == df2[col2].dtypes:\n",
    "    #    raise ValueError(\"Columns must exist in both DataFrames and have the same data type.\")\n",
    "    #if col1 not in df1 or col1 not in df2 or df1[col1].dtypes != df2[col1].dtypes:\n",
    "    #raise ValueError(\"Columns must exist in both DataFrames and have the same data type.\")\n",
    "    #return col1, np.mean(np.abs(df1[col1] - df2[col1]))\n",
    "    outp_dict ={}\n",
    "    for i in  col1:\n",
    "        outp_dict[i] = np.mean(np.abs(df1[i] - df2[i]))\n",
    "    return outp_dict\n",
    "\n",
    "def nr_coloumns(df1, columns_u):\n",
    "    numerical_df1 = df1[columns_u].select_dtypes(include=['number'])\n",
    "    return numerical_df1"
   ],
   "metadata": {
    "collapsed": false,
    "ExecuteTime": {
     "end_time": "2024-05-30T16:33:02.540337200Z",
     "start_time": "2024-05-30T16:33:02.524065Z"
    }
   },
   "id": "14dd16ac1387711c"
  },
  {
   "cell_type": "code",
   "execution_count": 18,
   "outputs": [
    {
     "data": {
      "text/plain": "{'song_popularity': 9.584128933433691,\n 'track_number': 7.835109403266912,\n 'num_artists': 0.15113100661569545,\n 'num_available_markets': 8.390141161246023,\n 'duration_ms': 78617.21589087108,\n 'key': 4.048806858732349,\n 'mode': 0.42522335441359244,\n 'time_signature': 0.21355072980291054,\n 'acousticness': 0.3468011041432826,\n 'danceability': 0.17543299121421452,\n 'energy': 0.2611227974501241,\n 'instrumentalness': 0.3585737850394525,\n 'liveness': 0.15697716772269155,\n 'loudness': 4.894755242998222,\n 'speechiness': 0.0666131369036333,\n 'valence': 0.2929423314434145,\n 'tempo': 32.12300944527243,\n 'hit': 0.017278717532253168,\n 'betweenesscentrality_x': 0.20268635670263938,\n 'closnesscentrality_x': 0.3006287736196719,\n 'clustering_x': 0.009503180718081004,\n 'degree_x': 8.70467720424144,\n 'eccentricity_x': 4.436239749633562,\n 'eigencentrality_x': 0.33696427045711497,\n 'weighted degree_x': 165.5746279496626,\n 'pagerank_x': 0.0003033794808230837,\n 'Cluster_x': 1.14567734949623,\n 'betweenesscentrality_y': 0.013247070488337431,\n 'closnesscentrality_y': 0.055550327634388316,\n 'clustering_y': 0.005191688941029485,\n 'degree_y': 1.6929907961282995,\n 'eccentricity_y': 1.6034016030846836,\n 'eigencentrality_y': 0.024161389023513235,\n 'weighted degree_y': 32.760210751495464,\n 'pagerank_y': 5.131358839303794e-05,\n 'Cluster_y': 0.28623776888642394,\n 'artist1_num': 4548.323139088064,\n 'artist2_num': 1327.5646251766166,\n 'years_on_charts': 0.003755008169903603}"
     },
     "execution_count": 18,
     "metadata": {},
     "output_type": "execute_result"
    }
   ],
   "source": [
    "num_sup = nr_coloumns(train_df, train_df_hsp.columns)\n",
    "num_hsp = nr_coloumns(train_df_hsp, train_df_hsp.columns)\n",
    "num_hsp.reset_index(drop=True, inplace=True)\n",
    "\n",
    "calculate_mae(num_sup, num_hsp, num_sup.columns)"
   ],
   "metadata": {
    "collapsed": false,
    "ExecuteTime": {
     "end_time": "2024-05-30T16:33:03.959348100Z",
     "start_time": "2024-05-30T16:33:02.537221100Z"
    }
   },
   "id": "ba9729e33147a3dd"
  },
  {
   "cell_type": "markdown",
   "source": [
    "check"
   ],
   "metadata": {
    "collapsed": false
   },
   "id": "7ac1c6bb5c8624c0"
  },
  {
   "cell_type": "code",
   "execution_count": 19,
   "outputs": [
    {
     "name": "stdout",
     "output_type": "stream",
     "text": [
      "0\n",
      "10000\n",
      "20000\n",
      "30000\n",
      "40000\n",
      "50000\n",
      "60000\n",
      "70000\n",
      "80000\n",
      "90000\n",
      "100000\n",
      "110000\n",
      "120000\n",
      "130000\n",
      "140000\n",
      "150000\n",
      "160000\n",
      "170000\n",
      "180000\n",
      "190000\n",
      "200000\n",
      "210000\n",
      "220000\n",
      "230000\n",
      "240000\n",
      "250000\n",
      "260000\n",
      "270000\n",
      "280000\n",
      "290000\n",
      "300000\n"
     ]
    }
   ],
   "source": [
    "import numpy as np\n",
    "\n",
    "past_years = 3\n",
    "max_amount_days = past_years * 365\n",
    "max_distance_float = max_amount_days * 24 * 60 * 60\n",
    "\n",
    "train_df[\"superstar_v1_x\"] = 1.0\n",
    "train_df[\"superstar_v1_y\"] = 1.0\n",
    "train_df[\"superstar_v2_x\"] = 1.0\n",
    "train_df[\"superstar_v2_y\"] = 1.0\n",
    "train_df[\"superstar_v3_x\"] = 1.0\n",
    "train_df[\"superstar_v3_y\"] = 1.0\n",
    "train_df[\"superstar_v4_x\"] = 1.0\n",
    "train_df[\"superstar_v4_y\"] = 1.0\n",
    "train_df[\"superstar_v5_x\"] = 1.0\n",
    "train_df[\"superstar_v5_y\"] = 1.0\n",
    "train_df[\"success_rate_x\"] = 0.0\n",
    "train_df[\"success_rate_y\"] = 0.0\n",
    "train_df[\"hits_in_past_x\"] = 0\n",
    "train_df[\"hits_in_past_y\"] = 0\n",
    "train_df[\"superstar_x\"] = 0\n",
    "train_df[\"superstar_y\"] = 0\n",
    "\n",
    "train_df.reset_index(drop=True, inplace=True)\n",
    "\n",
    "it = 0\n",
    "for index, row in train_df.iterrows():\n",
    "    artists_in_row = [row[\"artist1_id\"]]\n",
    "    if not pd.isna(row[\"artist2_id\"]):\n",
    "        artists_in_row.append(row[\"artist2_id\"])\n",
    "    \n",
    "    if it % 10000 == 0.0:\n",
    "        print(it)\n",
    "    it +=1\n",
    "    \n",
    "    present = row[\"date\"].replace(hour=23, minute=59, second=59)\n",
    "    border_day = present - pd.DateOffset(years=past_years)\n",
    "    to_filter = df_song_chart[(df_song_chart[\"week\"] <= present) & (df_song_chart[\"week\"] > border_day)]\n",
    "\n",
    "    for nr_art, artist in enumerate(artists_in_row):\n",
    "        hits_amount = 0\n",
    "        success_rate = 0.0\n",
    "        song_ids = []\n",
    "        peak_positions = []\n",
    "        days_distances = []\n",
    "\n",
    "        df_num_hit = pd.merge(to_filter, df_songs).reset_index(drop=True)\n",
    "        df_num_hit_cpy = df_num_hit.copy()\n",
    "        if not df_num_hit.empty:\n",
    "            df_num_hit = df_num_hit.drop_duplicates(subset=[\"song_id\"])\n",
    "            mask = [artist in artists for artists in df_num_hit['artists_ids']]\n",
    "            df_num_hit = df_num_hit[mask]\n",
    "            #df_num_hit = df_num_hit[df_num_hit[\"artists_ids\"].apply(lambda x: artist in x)]\n",
    "\n",
    "            hits_amount = df_num_hit[\"song_id\"].nunique()\n",
    "            song_ids = df_num_hit[\"song_id\"].tolist()\n",
    "\n",
    "            #insert rest of calc here\n",
    "            if hits_amount > 0:\n",
    "                for song_id in song_ids:\n",
    "                    df_song_peak_days = df_num_hit_cpy[df_num_hit_cpy[\"song_id\"] == song_id]\n",
    "                    min_peak_position = df_song_peak_days[\"peak_position\"].min()\n",
    "                    peak_positions.append(min_peak_position)\n",
    "    \n",
    "                    peak_week = df_song_peak_days.loc[df_song_peak_days[\"peak_position\"].idxmin()][\"week\"].replace(hour=23, minute=59, second=59)\n",
    "                    distance = abs(peak_week - present)\n",
    "                    days_distances.append(distance.total_seconds())\n",
    "\n",
    "                    filtered_artists = amount_songs[(amount_songs[\"date\"] <= present) & (amount_songs[\"date\"] > border_day)]\n",
    "                    filtered_artists = filtered_artists['id_artists'].map(lambda x: artist in x)\n",
    "                    song_count = filtered_artists.sum()\n",
    "                    success_rate = hits_amount/(song_count + hits_amount)\n",
    "    \n",
    "                peak_positions = min_max_scaling(peak_positions, 1, 100)\n",
    "                days_distances = min_max_scaling(days_distances, 0.00, max_distance_float)\n",
    "    \n",
    "                if nr_art == 0:\n",
    "                    train_df.at[index, \"superstar_v1_x\"] = superstar(hits_amount, peak_positions, days_distances)\n",
    "                    train_df.at[index, \"superstar_v2_x\"] = superstar_2(hits_amount, peak_positions, days_distances)\n",
    "                    train_df.at[index, \"superstar_v3_x\"] = superstar_3(hits_amount, peak_positions, days_distances)\n",
    "                    train_df.at[index, \"superstar_v4_x\"] = superstar_4(hits_amount, peak_positions, days_distances)\n",
    "                    train_df.at[index, \"superstar_v5_x\"] = superstar_5(hits_amount, peak_positions, days_distances, success_rate)\n",
    "                    train_df.at[index, \"success_rate_x\"] = success_rate\n",
    "                    train_df.at[index, \"hits_in_past_x\"] = hits_amount\n",
    "                    train_df.at[index, \"superstar_x\"] = 1\n",
    "                elif nr_art == 1:\n",
    "                    train_df.at[index, \"superstar_v1_y\"] = superstar(hits_amount, peak_positions, days_distances)\n",
    "                    train_df.at[index, \"superstar_v2_y\"] = superstar_2(hits_amount, peak_positions, days_distances)\n",
    "                    train_df.at[index, \"superstar_v3_y\"] = superstar_3(hits_amount, peak_positions, days_distances)\n",
    "                    train_df.at[index, \"superstar_v4_y\"] = superstar_4(hits_amount, peak_positions, days_distances)\n",
    "                    train_df.at[index, \"superstar_v5_y\"] = superstar_5(hits_amount, peak_positions, days_distances, success_rate)\n",
    "                    train_df.at[index, \"success_rate_y\"] = success_rate\n",
    "                    train_df.at[index, \"hits_in_past_y\"] = hits_amount\n",
    "                    train_df.at[index, \"superstar_y\"] = 1\n",
    "                    \n",
    "                    #fix this turn to i[loc]\n",
    "                #print(str(nr_art) + \":   \" + str(superstar(hits_amount, peak_positions, days_distances)))"
   ],
   "metadata": {
    "collapsed": false,
    "ExecuteTime": {
     "end_time": "2024-05-30T18:30:00.956864600Z",
     "start_time": "2024-05-30T16:33:03.971348500Z"
    }
   },
   "id": "3986d58bb9d6a9a3"
  },
  {
   "cell_type": "markdown",
   "source": [
    "test2 loc"
   ],
   "metadata": {
    "collapsed": false
   },
   "id": "fdca7d6fba5a9a1"
  },
  {
   "cell_type": "code",
   "execution_count": 20,
   "outputs": [
    {
     "data": {
      "text/plain": "{'song_popularity': 0.0,\n 'track_number': 0.0,\n 'num_artists': 0.0,\n 'num_available_markets': 0.0,\n 'duration_ms': 0.0,\n 'key': 0.0,\n 'mode': 0.0,\n 'time_signature': 0.0,\n 'acousticness': 0.0,\n 'danceability': 0.0,\n 'energy': 0.0,\n 'instrumentalness': 0.0,\n 'liveness': 0.0,\n 'loudness': 0.0,\n 'speechiness': 0.0,\n 'valence': 0.0,\n 'tempo': 0.0,\n 'hit': 0.0,\n 'betweenesscentrality_x': 0.0,\n 'closnesscentrality_x': 0.0,\n 'clustering_x': 0.0,\n 'degree_x': 0.0,\n 'eccentricity_x': 0.0,\n 'eigencentrality_x': 0.0,\n 'weighted degree_x': 0.0,\n 'pagerank_x': 0.0,\n 'Cluster_x': 0.0,\n 'betweenesscentrality_y': 0.0,\n 'closnesscentrality_y': 0.0,\n 'clustering_y': 0.0,\n 'degree_y': 0.0,\n 'eccentricity_y': 0.0,\n 'eigencentrality_y': 0.0,\n 'weighted degree_y': 0.0,\n 'pagerank_y': 0.0,\n 'Cluster_y': 0.0,\n 'artist1_num': 0.0,\n 'artist2_num': 0.0,\n 'years_on_charts': 0.0}"
     },
     "execution_count": 20,
     "metadata": {},
     "output_type": "execute_result"
    }
   ],
   "source": [
    "num_sup = nr_coloumns(train_df, train_df_hsp.columns)\n",
    "num_hsp = nr_coloumns(train_df_hsp, train_df_hsp.columns)\n",
    "num_hsp.reset_index(drop=True, inplace=True)\n",
    "\n",
    "calculate_mae(num_sup, num_hsp, num_sup.columns)"
   ],
   "metadata": {
    "collapsed": false,
    "ExecuteTime": {
     "end_time": "2024-05-30T18:30:01.989961300Z",
     "start_time": "2024-05-30T18:30:01.435835100Z"
    }
   },
   "id": "11cecf46c5e2288"
  },
  {
   "cell_type": "markdown",
   "source": [
    "test2 end"
   ],
   "metadata": {
    "collapsed": false
   },
   "id": "1b60407a63e0716b"
  },
  {
   "cell_type": "code",
   "execution_count": 21,
   "outputs": [
    {
     "name": "stdout",
     "output_type": "stream",
     "text": [
      "Column 'song_popularity': min = 0.0, max = 88.0\n",
      "Column 'track_number': min = 1.0, max = 92.0\n",
      "Column 'num_artists': min = 1.0, max = 2.0\n",
      "Column 'num_available_markets': min = 0.0, max = 79.0\n",
      "Column 'duration_ms': min = 1731.0, max = 6032273.0\n",
      "Column 'key': min = 0.0, max = 11.0\n",
      "Column 'mode': min = 0.0, max = 1.0\n",
      "Column 'time_signature': min = 0.0, max = 5.0\n",
      "Column 'acousticness': min = 0.0, max = 0.996\n",
      "Column 'danceability': min = 0.0, max = 0.992\n",
      "Column 'energy': min = 0.0, max = 1.0\n",
      "Column 'instrumentalness': min = 0.0, max = 1.0\n",
      "Column 'liveness': min = 0.0, max = 1.0\n",
      "Column 'loudness': min = -60.0, max = 1.405\n",
      "Column 'speechiness': min = 0.0, max = 0.968\n",
      "Column 'valence': min = 0.0, max = 1.0\n",
      "Column 'tempo': min = 0.0, max = 248.942\n",
      "Column 'hit': min = 0.0, max = 1.0\n",
      "Column 'betweenesscentrality_x': min = 0.0, max = 1.0\n",
      "Column 'closnesscentrality_x': min = 0.0, max = 1.0\n",
      "Column 'clustering_x': min = 0.0, max = 1.0\n",
      "Column 'degree_x': min = 0, max = 193\n",
      "Column 'eccentricity_x': min = 0, max = 20\n",
      "Column 'eigencentrality_x': min = 1.5192814171758329e-12, max = 1.0\n",
      "Column 'weighted degree_x': min = 0, max = 3438\n",
      "Column 'pagerank_x': min = 1.4441429364660243e-05, max = 0.0072783110564605\n",
      "Column 'Cluster_x': min = 0, max = 5\n",
      "Column 'betweenesscentrality_y': min = 0.0, max = 1.0\n",
      "Column 'closnesscentrality_y': min = 0.0, max = 1.0\n",
      "Column 'clustering_y': min = 0.0, max = 1.0\n",
      "Column 'degree_y': min = 0.0, max = 193.0\n",
      "Column 'eccentricity_y': min = 0.0, max = 20.0\n",
      "Column 'eigencentrality_y': min = 0.0, max = 0.755820920456814\n",
      "Column 'weighted degree_y': min = 0.0, max = 3438.0\n",
      "Column 'pagerank_y': min = 0.0, max = 0.0072783110564605\n",
      "Column 'Cluster_y': min = -1.0, max = 5.0\n",
      "Column 'artist1_num': min = 0.0, max = 16268.0\n",
      "Column 'artist2_num': min = 1.0, max = 16270.0\n",
      "Column 'years_on_charts': min = 0.0, max = 1.5150684931506848\n",
      "Column 'superstar_v1_x': min = 0.0027397260273972603, max = 1.0\n",
      "Column 'superstar_v1_y': min = 0.0027397260273972603, max = 1.0\n",
      "Column 'superstar_v2_x': min = 0.0027397260273972603, max = 1.0\n",
      "Column 'superstar_v2_y': min = 0.0027397260273972603, max = 1.0\n",
      "Column 'superstar_v3_x': min = 0.0009132420091324201, max = 1.0\n",
      "Column 'superstar_v3_y': min = 0.0018264840182648401, max = 1.0\n",
      "Column 'superstar_v4_x': min = 0.0, max = 1.0\n",
      "Column 'superstar_v4_y': min = 0.0, max = 1.0\n",
      "Column 'superstar_v5_x': min = 0.0, max = 1.0\n",
      "Column 'superstar_v5_y': min = 0.002609262883235486, max = 1.0\n",
      "Column 'success_rate_x': min = 0.0, max = 1.0\n",
      "Column 'success_rate_y': min = 0.0, max = 0.8571428571428571\n",
      "Column 'hits_in_past_x': min = 0, max = 51\n",
      "Column 'hits_in_past_y': min = 0, max = 42\n",
      "Column 'superstar_x': min = 0, max = 1\n",
      "Column 'superstar_y': min = 0, max = 1\n"
     ]
    }
   ],
   "source": [
    "numerical_df = train_df.select_dtypes(include=['number'])\n",
    "\n",
    "# Print min and max for each numerical column\n",
    "for column in numerical_df.columns:\n",
    "    min_value = numerical_df[column].min()\n",
    "    max_value = numerical_df[column].max()\n",
    "    print(f\"Column '{column}': min = {min_value}, max = {max_value}\")"
   ],
   "metadata": {
    "collapsed": false,
    "ExecuteTime": {
     "end_time": "2024-05-30T18:30:02.246857900Z",
     "start_time": "2024-05-30T18:30:02.000961600Z"
    }
   },
   "id": "99d7468bf66602d5"
  },
  {
   "cell_type": "code",
   "execution_count": 22,
   "outputs": [
    {
     "data": {
      "text/plain": "                       song_id                               song_name  \\\n0       3rTIDlmlGskGnRRqmRtvYn                           Lone Stranger   \n1       6aOw7bWT4sDJTq2cQ3YOPo  Barrel of a Gun - Instrumental Version   \n2       7zhdgvEuhcxy4iwc0ssoty               Ghost of Gloria Goodchild   \n3       7urrpTy9j5QGMYrZpPwuEy                                  Kolors   \n4       6Ppgg7vDhYoyyNmmfIE9zK                         Come as You Are   \n...                        ...                                     ...   \n302911  3nXCl6A9GI9008YJb8biqz                         The Last Hippie   \n302912  16h5mVR7abqHXj8jBAiPdX                            Not Mushroom   \n302913  0U8KFcdXcJE7Rh1F12CGTF                              Time Lapse   \n302914  1v0WJzyINC5wcfzUFYUZh0                 Woman With the Red Lips   \n302915  6oYT6S7i5G9jwZUEDBqnh5                             Earthquaker   \n\n        song_popularity  explicit song_type  track_number  num_artists  \\\n0                   0.0     False      Solo          19.0          1.0   \n1                   0.0     False      Solo          22.0          1.0   \n2                   5.0      True      Solo           9.0          1.0   \n3                  12.0      True      Solo          10.0          1.0   \n4                   5.0      True      Solo          11.0          1.0   \n...                 ...       ...       ...           ...          ...   \n302911              0.0     False      Solo           5.0          1.0   \n302912              0.0     False      Solo           6.0          1.0   \n302913              0.0     False      Solo          21.0          1.0   \n302914              0.0     False      Solo          14.0          1.0   \n302915              0.0     False      Solo           3.0          1.0   \n\n        num_available_markets release_date  duration_ms  ...  superstar_v4_x  \\\n0                        74.0   2013-08-26     163255.0  ...             1.0   \n1                        74.0   2013-08-26     141636.0  ...             1.0   \n2                         2.0   2013-08-26     193787.0  ...             1.0   \n3                         2.0   2013-08-26     270160.0  ...             1.0   \n4                         2.0   2013-08-26     168520.0  ...             1.0   \n...                       ...          ...          ...  ...             ...   \n302911                   79.0   2018-08-25     385984.0  ...             1.0   \n302912                   79.0   2018-08-25     398629.0  ...             1.0   \n302913                   79.0   2018-08-25     535148.0  ...             1.0   \n302914                   79.0   2018-08-25     464300.0  ...             1.0   \n302915                   79.0   2018-08-25     394839.0  ...             1.0   \n\n        superstar_v4_y  superstar_v5_x  superstar_v5_y  success_rate_x  \\\n0                  1.0             1.0             1.0             0.0   \n1                  1.0             1.0             1.0             0.0   \n2                  1.0             1.0             1.0             0.0   \n3                  1.0             1.0             1.0             0.0   \n4                  1.0             1.0             1.0             0.0   \n...                ...             ...             ...             ...   \n302911             1.0             1.0             1.0             0.0   \n302912             1.0             1.0             1.0             0.0   \n302913             1.0             1.0             1.0             0.0   \n302914             1.0             1.0             1.0             0.0   \n302915             1.0             1.0             1.0             0.0   \n\n        success_rate_y  hits_in_past_x  hits_in_past_y  superstar_x  \\\n0                  0.0               0               0            0   \n1                  0.0               0               0            0   \n2                  0.0               0               0            0   \n3                  0.0               0               0            0   \n4                  0.0               0               0            0   \n...                ...             ...             ...          ...   \n302911             0.0               0               0            0   \n302912             0.0               0               0            0   \n302913             0.0               0               0            0   \n302914             0.0               0               0            0   \n302915             0.0               0               0            0   \n\n        superstar_y  \n0                 0  \n1                 0  \n2                 0  \n3                 0  \n4                 0  \n...             ...  \n302911            0  \n302912            0  \n302913            0  \n302914            0  \n302915            0  \n\n[302916 rows x 67 columns]",
      "text/html": "<div>\n<style scoped>\n    .dataframe tbody tr th:only-of-type {\n        vertical-align: middle;\n    }\n\n    .dataframe tbody tr th {\n        vertical-align: top;\n    }\n\n    .dataframe thead th {\n        text-align: right;\n    }\n</style>\n<table border=\"1\" class=\"dataframe\">\n  <thead>\n    <tr style=\"text-align: right;\">\n      <th></th>\n      <th>song_id</th>\n      <th>song_name</th>\n      <th>song_popularity</th>\n      <th>explicit</th>\n      <th>song_type</th>\n      <th>track_number</th>\n      <th>num_artists</th>\n      <th>num_available_markets</th>\n      <th>release_date</th>\n      <th>duration_ms</th>\n      <th>...</th>\n      <th>superstar_v4_x</th>\n      <th>superstar_v4_y</th>\n      <th>superstar_v5_x</th>\n      <th>superstar_v5_y</th>\n      <th>success_rate_x</th>\n      <th>success_rate_y</th>\n      <th>hits_in_past_x</th>\n      <th>hits_in_past_y</th>\n      <th>superstar_x</th>\n      <th>superstar_y</th>\n    </tr>\n  </thead>\n  <tbody>\n    <tr>\n      <th>0</th>\n      <td>3rTIDlmlGskGnRRqmRtvYn</td>\n      <td>Lone Stranger</td>\n      <td>0.0</td>\n      <td>False</td>\n      <td>Solo</td>\n      <td>19.0</td>\n      <td>1.0</td>\n      <td>74.0</td>\n      <td>2013-08-26</td>\n      <td>163255.0</td>\n      <td>...</td>\n      <td>1.0</td>\n      <td>1.0</td>\n      <td>1.0</td>\n      <td>1.0</td>\n      <td>0.0</td>\n      <td>0.0</td>\n      <td>0</td>\n      <td>0</td>\n      <td>0</td>\n      <td>0</td>\n    </tr>\n    <tr>\n      <th>1</th>\n      <td>6aOw7bWT4sDJTq2cQ3YOPo</td>\n      <td>Barrel of a Gun - Instrumental Version</td>\n      <td>0.0</td>\n      <td>False</td>\n      <td>Solo</td>\n      <td>22.0</td>\n      <td>1.0</td>\n      <td>74.0</td>\n      <td>2013-08-26</td>\n      <td>141636.0</td>\n      <td>...</td>\n      <td>1.0</td>\n      <td>1.0</td>\n      <td>1.0</td>\n      <td>1.0</td>\n      <td>0.0</td>\n      <td>0.0</td>\n      <td>0</td>\n      <td>0</td>\n      <td>0</td>\n      <td>0</td>\n    </tr>\n    <tr>\n      <th>2</th>\n      <td>7zhdgvEuhcxy4iwc0ssoty</td>\n      <td>Ghost of Gloria Goodchild</td>\n      <td>5.0</td>\n      <td>True</td>\n      <td>Solo</td>\n      <td>9.0</td>\n      <td>1.0</td>\n      <td>2.0</td>\n      <td>2013-08-26</td>\n      <td>193787.0</td>\n      <td>...</td>\n      <td>1.0</td>\n      <td>1.0</td>\n      <td>1.0</td>\n      <td>1.0</td>\n      <td>0.0</td>\n      <td>0.0</td>\n      <td>0</td>\n      <td>0</td>\n      <td>0</td>\n      <td>0</td>\n    </tr>\n    <tr>\n      <th>3</th>\n      <td>7urrpTy9j5QGMYrZpPwuEy</td>\n      <td>Kolors</td>\n      <td>12.0</td>\n      <td>True</td>\n      <td>Solo</td>\n      <td>10.0</td>\n      <td>1.0</td>\n      <td>2.0</td>\n      <td>2013-08-26</td>\n      <td>270160.0</td>\n      <td>...</td>\n      <td>1.0</td>\n      <td>1.0</td>\n      <td>1.0</td>\n      <td>1.0</td>\n      <td>0.0</td>\n      <td>0.0</td>\n      <td>0</td>\n      <td>0</td>\n      <td>0</td>\n      <td>0</td>\n    </tr>\n    <tr>\n      <th>4</th>\n      <td>6Ppgg7vDhYoyyNmmfIE9zK</td>\n      <td>Come as You Are</td>\n      <td>5.0</td>\n      <td>True</td>\n      <td>Solo</td>\n      <td>11.0</td>\n      <td>1.0</td>\n      <td>2.0</td>\n      <td>2013-08-26</td>\n      <td>168520.0</td>\n      <td>...</td>\n      <td>1.0</td>\n      <td>1.0</td>\n      <td>1.0</td>\n      <td>1.0</td>\n      <td>0.0</td>\n      <td>0.0</td>\n      <td>0</td>\n      <td>0</td>\n      <td>0</td>\n      <td>0</td>\n    </tr>\n    <tr>\n      <th>...</th>\n      <td>...</td>\n      <td>...</td>\n      <td>...</td>\n      <td>...</td>\n      <td>...</td>\n      <td>...</td>\n      <td>...</td>\n      <td>...</td>\n      <td>...</td>\n      <td>...</td>\n      <td>...</td>\n      <td>...</td>\n      <td>...</td>\n      <td>...</td>\n      <td>...</td>\n      <td>...</td>\n      <td>...</td>\n      <td>...</td>\n      <td>...</td>\n      <td>...</td>\n      <td>...</td>\n    </tr>\n    <tr>\n      <th>302911</th>\n      <td>3nXCl6A9GI9008YJb8biqz</td>\n      <td>The Last Hippie</td>\n      <td>0.0</td>\n      <td>False</td>\n      <td>Solo</td>\n      <td>5.0</td>\n      <td>1.0</td>\n      <td>79.0</td>\n      <td>2018-08-25</td>\n      <td>385984.0</td>\n      <td>...</td>\n      <td>1.0</td>\n      <td>1.0</td>\n      <td>1.0</td>\n      <td>1.0</td>\n      <td>0.0</td>\n      <td>0.0</td>\n      <td>0</td>\n      <td>0</td>\n      <td>0</td>\n      <td>0</td>\n    </tr>\n    <tr>\n      <th>302912</th>\n      <td>16h5mVR7abqHXj8jBAiPdX</td>\n      <td>Not Mushroom</td>\n      <td>0.0</td>\n      <td>False</td>\n      <td>Solo</td>\n      <td>6.0</td>\n      <td>1.0</td>\n      <td>79.0</td>\n      <td>2018-08-25</td>\n      <td>398629.0</td>\n      <td>...</td>\n      <td>1.0</td>\n      <td>1.0</td>\n      <td>1.0</td>\n      <td>1.0</td>\n      <td>0.0</td>\n      <td>0.0</td>\n      <td>0</td>\n      <td>0</td>\n      <td>0</td>\n      <td>0</td>\n    </tr>\n    <tr>\n      <th>302913</th>\n      <td>0U8KFcdXcJE7Rh1F12CGTF</td>\n      <td>Time Lapse</td>\n      <td>0.0</td>\n      <td>False</td>\n      <td>Solo</td>\n      <td>21.0</td>\n      <td>1.0</td>\n      <td>79.0</td>\n      <td>2018-08-25</td>\n      <td>535148.0</td>\n      <td>...</td>\n      <td>1.0</td>\n      <td>1.0</td>\n      <td>1.0</td>\n      <td>1.0</td>\n      <td>0.0</td>\n      <td>0.0</td>\n      <td>0</td>\n      <td>0</td>\n      <td>0</td>\n      <td>0</td>\n    </tr>\n    <tr>\n      <th>302914</th>\n      <td>1v0WJzyINC5wcfzUFYUZh0</td>\n      <td>Woman With the Red Lips</td>\n      <td>0.0</td>\n      <td>False</td>\n      <td>Solo</td>\n      <td>14.0</td>\n      <td>1.0</td>\n      <td>79.0</td>\n      <td>2018-08-25</td>\n      <td>464300.0</td>\n      <td>...</td>\n      <td>1.0</td>\n      <td>1.0</td>\n      <td>1.0</td>\n      <td>1.0</td>\n      <td>0.0</td>\n      <td>0.0</td>\n      <td>0</td>\n      <td>0</td>\n      <td>0</td>\n      <td>0</td>\n    </tr>\n    <tr>\n      <th>302915</th>\n      <td>6oYT6S7i5G9jwZUEDBqnh5</td>\n      <td>Earthquaker</td>\n      <td>0.0</td>\n      <td>False</td>\n      <td>Solo</td>\n      <td>3.0</td>\n      <td>1.0</td>\n      <td>79.0</td>\n      <td>2018-08-25</td>\n      <td>394839.0</td>\n      <td>...</td>\n      <td>1.0</td>\n      <td>1.0</td>\n      <td>1.0</td>\n      <td>1.0</td>\n      <td>0.0</td>\n      <td>0.0</td>\n      <td>0</td>\n      <td>0</td>\n      <td>0</td>\n      <td>0</td>\n    </tr>\n  </tbody>\n</table>\n<p>302916 rows × 67 columns</p>\n</div>"
     },
     "execution_count": 22,
     "metadata": {},
     "output_type": "execute_result"
    }
   ],
   "source": [
    "train_df"
   ],
   "metadata": {
    "collapsed": false,
    "ExecuteTime": {
     "end_time": "2024-05-30T18:30:02.422859Z",
     "start_time": "2024-05-30T18:30:02.267859600Z"
    }
   },
   "id": "3c61357868db20a9"
  },
  {
   "cell_type": "code",
   "execution_count": 23,
   "outputs": [],
   "source": [
    "train_df.drop(columns=[\"date\"], inplace=True)\n",
    "#train_df.to_csv(\"train_df_superstar_v1_0.csv\", index=False)"
   ],
   "metadata": {
    "collapsed": false,
    "ExecuteTime": {
     "end_time": "2024-05-30T18:30:02.595336400Z",
     "start_time": "2024-05-30T18:30:02.473859800Z"
    }
   },
   "id": "8ced032ed41ff018"
  },
  {
   "cell_type": "code",
   "execution_count": 24,
   "outputs": [],
   "source": [
    "# train_df = pd.read_csv(\"train_df_superstar_v1_0.csv\", sep=\",\")\n",
    "# train_df['date'] = pd.to_datetime(train_df['release_date'])\n",
    "# train_df.sort_values(by=\"date\", inplace=True)\n",
    "# train_df"
   ],
   "metadata": {
    "collapsed": false,
    "ExecuteTime": {
     "end_time": "2024-05-30T18:30:02.595336400Z",
     "start_time": "2024-05-30T18:30:02.506858100Z"
    }
   },
   "id": "6d6affba9926e41b"
  },
  {
   "cell_type": "code",
   "execution_count": 25,
   "outputs": [],
   "source": [
    "#for rerunning\n",
    "test_df['date'] = pd.to_datetime(test_df['release_date'])"
   ],
   "metadata": {
    "collapsed": false,
    "ExecuteTime": {
     "end_time": "2024-05-30T18:30:02.922465900Z",
     "start_time": "2024-05-30T18:30:02.528662700Z"
    }
   },
   "id": "bed6d88e79a3214d"
  },
  {
   "cell_type": "code",
   "execution_count": 26,
   "outputs": [
    {
     "data": {
      "text/plain": "Timestamp('2018-08-25 23:59:59')"
     },
     "execution_count": 26,
     "metadata": {},
     "output_type": "execute_result"
    }
   ],
   "source": [
    "border_start_train_day = (pd.to_datetime(train_df['release_date']).iloc[-1]).replace(hour=23, minute=59, second=59)\n",
    "border_start_train_day"
   ],
   "metadata": {
    "collapsed": false,
    "ExecuteTime": {
     "end_time": "2024-05-30T18:30:03.020712100Z",
     "start_time": "2024-05-30T18:30:02.552869900Z"
    }
   },
   "id": "1f48111fc9c83ae1"
  },
  {
   "cell_type": "markdown",
   "source": [
    "test3 start"
   ],
   "metadata": {
    "collapsed": false
   },
   "id": "de722f9a4e903a57"
  },
  {
   "cell_type": "code",
   "execution_count": 27,
   "outputs": [
    {
     "data": {
      "text/plain": "{'song_popularity': 0.0,\n 'track_number': 0.0,\n 'num_artists': 0.0,\n 'num_available_markets': 0.0,\n 'duration_ms': 0.0,\n 'key': 0.0,\n 'mode': 0.0,\n 'time_signature': 0.0,\n 'acousticness': 0.0,\n 'danceability': 0.0,\n 'energy': 0.0,\n 'instrumentalness': 0.0,\n 'liveness': 0.0,\n 'loudness': 0.0,\n 'speechiness': 0.0,\n 'valence': 0.0,\n 'tempo': 0.0,\n 'hit': 0.0,\n 'betweenesscentrality_x': 0.0,\n 'closnesscentrality_x': 0.0,\n 'clustering_x': 0.0,\n 'degree_x': 0.0,\n 'eccentricity_x': 0.0,\n 'eigencentrality_x': 0.0,\n 'weighted degree_x': 0.0,\n 'pagerank_x': 0.0,\n 'Cluster_x': 0.0,\n 'betweenesscentrality_y': 0.0,\n 'closnesscentrality_y': 0.0,\n 'clustering_y': 0.0,\n 'degree_y': 0.0,\n 'eccentricity_y': 0.0,\n 'eigencentrality_y': 0.0,\n 'weighted degree_y': 0.0,\n 'pagerank_y': 0.0,\n 'Cluster_y': 0.0,\n 'artist1_num': 0.0,\n 'artist2_num': 0.0,\n 'years_on_charts': 0.0}"
     },
     "execution_count": 27,
     "metadata": {},
     "output_type": "execute_result"
    }
   ],
   "source": [
    "num_sup = nr_coloumns(test_df, test_df_hsp.columns)\n",
    "num_hsp = nr_coloumns(test_df_hsp, test_df_hsp.columns)\n",
    "\n",
    "calculate_mae(num_sup, num_hsp, num_sup.columns)"
   ],
   "metadata": {
    "collapsed": false,
    "ExecuteTime": {
     "end_time": "2024-05-30T18:30:03.067145400Z",
     "start_time": "2024-05-30T18:30:02.599338100Z"
    }
   },
   "id": "29ba59a54752f376"
  },
  {
   "cell_type": "markdown",
   "source": [
    "test3 end"
   ],
   "metadata": {
    "collapsed": false
   },
   "id": "924bc13f8aa8743a"
  },
  {
   "cell_type": "code",
   "execution_count": 28,
   "outputs": [
    {
     "name": "stdout",
     "output_type": "stream",
     "text": [
      "0\n",
      "song_id 446Jufq5oOCwOSXbkqq5yD\n",
      "1By9QBFnjZAoI83BZppHlt\n",
      "song_id 446Jufq5oOCwOSXbkqq5yD\n",
      "1By9QBFnjZAoI83BZppHlt\n",
      "10000\n",
      "song_id 6f6jBn29HU6pbvy99NYXF3\n",
      "0LyOADBjj28cbvJWTXUEGA\n",
      "20000\n",
      "30000\n",
      "song_id 5V2IRjMpfhoahnWFIydpw1\n",
      "1By9QBFnjZAoI83BZppHlt\n",
      "song_id 5V2IRjMpfhoahnWFIydpw1\n",
      "1By9QBFnjZAoI83BZppHlt\n",
      "40000\n",
      "song_id 55H2rPMy0I4SbHvtWZpwqV\n",
      "6extd4B6hl8VTmnlhpl2bY\n",
      "song_id 55H2rPMy0I4SbHvtWZpwqV\n",
      "6extd4B6hl8VTmnlhpl2bY\n",
      "song_id 55H2rPMy0I4SbHvtWZpwqV\n",
      "6extd4B6hl8VTmnlhpl2bY\n",
      "song_id 55H2rPMy0I4SbHvtWZpwqV\n",
      "6extd4B6hl8VTmnlhpl2bY\n",
      "song_id 1NRjguinClMxLJKZSo3QVA\n",
      "6extd4B6hl8VTmnlhpl2bY\n",
      "song_id 1NRjguinClMxLJKZSo3QVA\n",
      "6extd4B6hl8VTmnlhpl2bY\n",
      "song_id 1NRjguinClMxLJKZSo3QVA\n",
      "6extd4B6hl8VTmnlhpl2bY\n",
      "song_id 1NRjguinClMxLJKZSo3QVA\n",
      "6extd4B6hl8VTmnlhpl2bY\n",
      "song_id 00z7KscyujNtThfKhIVeEb\n",
      "1By9QBFnjZAoI83BZppHlt\n",
      "song_id 00z7KscyujNtThfKhIVeEb\n",
      "1By9QBFnjZAoI83BZppHlt\n",
      "50000\n",
      "song_id 4MCPNnJkkIzNGCCBE9XVhX\n",
      "1By9QBFnjZAoI83BZppHlt\n",
      "song_id 4MCPNnJkkIzNGCCBE9XVhX\n",
      "1By9QBFnjZAoI83BZppHlt\n",
      "song_id 5caTDebaNznaQUXbLdK4Ol\n",
      "1By9QBFnjZAoI83BZppHlt\n",
      "song_id 5caTDebaNznaQUXbLdK4Ol\n",
      "1By9QBFnjZAoI83BZppHlt\n",
      "song_id 4XB8f2e7bSJDeq2WJkcLEE\n",
      "1By9QBFnjZAoI83BZppHlt\n",
      "song_id 4XB8f2e7bSJDeq2WJkcLEE\n",
      "1By9QBFnjZAoI83BZppHlt\n",
      "song_id 06T2c6axZSbnEwEYsBmj0Z\n",
      "1By9QBFnjZAoI83BZppHlt\n",
      "song_id 06T2c6axZSbnEwEYsBmj0Z\n",
      "1By9QBFnjZAoI83BZppHlt\n"
     ]
    }
   ],
   "source": [
    "import numpy as np\n",
    "\n",
    "past_years = 3\n",
    "max_amount_days = past_years * 365\n",
    "max_distance_float = max_amount_days * 24 * 60 * 60\n",
    "\n",
    "test_df[\"superstar_v1_x\"] = 1.0\n",
    "test_df[\"superstar_v1_y\"] = 1.0\n",
    "test_df[\"superstar_v2_x\"] = 1.0\n",
    "test_df[\"superstar_v2_y\"] = 1.0\n",
    "test_df[\"superstar_v3_x\"] = 1.0\n",
    "test_df[\"superstar_v3_y\"] = 1.0\n",
    "test_df[\"superstar_v4_x\"] = 1.0\n",
    "test_df[\"superstar_v4_y\"] = 1.0\n",
    "test_df[\"superstar_v5_x\"] = 1.0\n",
    "test_df[\"superstar_v5_y\"] = 1.0\n",
    "test_df[\"success_rate_x\"] = 0.0\n",
    "test_df[\"success_rate_y\"] = 0.0\n",
    "test_df[\"hits_in_past_x\"] = 0\n",
    "test_df[\"hits_in_past_y\"] = 0\n",
    "test_df[\"superstar_x\"] = 0\n",
    "test_df[\"superstar_y\"] = 0\n",
    "\n",
    "test_df.reset_index(drop=True, inplace=True)\n",
    "\n",
    "it = 0\n",
    "for index, row in test_df.iterrows():\n",
    "    artists_in_row = [row[\"artist1_id\"]]\n",
    "    if not pd.isna(row[\"artist2_id\"]):\n",
    "        artists_in_row.append(row[\"artist2_id\"])\n",
    "\n",
    "    if it % 10000 == 0.0:\n",
    "        print(it)\n",
    "    it +=1\n",
    "\n",
    "    present = row[\"date\"].replace(hour=23, minute=59, second=59)\n",
    "    border_day = present - pd.DateOffset(years=past_years)\n",
    "    to_filter = df_song_chart[(df_song_chart[\"week\"] <= border_start_train_day) & (df_song_chart[\"week\"] > border_day)]    \n",
    "\n",
    "    for nr_art, artist in enumerate(artists_in_row):\n",
    "        hits_amount = 0\n",
    "        success_rate = 0.0\n",
    "        song_ids = []\n",
    "        peak_positions = []\n",
    "        days_distances = []\n",
    "\n",
    "        df_num_hit = pd.merge(to_filter, df_songs).reset_index(drop=True)\n",
    "        df_num_hit_cpy = df_num_hit.copy()\n",
    "        if not df_num_hit.empty:\n",
    "            df_num_hit = df_num_hit.drop_duplicates(subset=[\"song_id\"])\n",
    "            mask = [artist in artists for artists in df_num_hit['artists_ids']]\n",
    "            df_num_hit = df_num_hit[mask]\n",
    "            #df_num_hit = df_num_hit[df_num_hit[\"artists_ids\"].apply(lambda x: artist in x)]\n",
    "\n",
    "            hits_amount = df_num_hit[\"song_id\"].nunique()\n",
    "            song_ids = df_num_hit[\"song_id\"].tolist()\n",
    "\n",
    "            #insert rest of calc here\n",
    "            if hits_amount > 0:\n",
    "                for song_id in song_ids:\n",
    "                    df_song_peak_days = df_num_hit_cpy[df_num_hit_cpy[\"song_id\"] == song_id]\n",
    "                    min_peak_position = df_song_peak_days[\"peak_position\"].min()\n",
    "                    peak_positions.append(min_peak_position)\n",
    "\n",
    "                    peak_week = df_song_peak_days.loc[df_song_peak_days[\"peak_position\"].idxmin()][\"week\"].replace(hour=23, minute=59, second=59)\n",
    "                    distance = abs(peak_week - present)\n",
    "                    days_distances.append(distance.total_seconds())\n",
    "\n",
    "                    filtered_artists = amount_songs[(amount_songs[\"date\"] <= border_start_train_day) & (amount_songs[\"date\"] > border_day)]\n",
    "                    filtered_artists = filtered_artists[filtered_artists['id_artists'].map(lambda x: artist in x)]\n",
    "                    song_count = len(filtered_artists)\n",
    "                    if song_count == 0:\n",
    "                        print(\"song_id\", row[\"song_id\"])\n",
    "                        print(artist)\n",
    "                    success_rate = hits_amount/(song_count + hits_amount) \n",
    "                    if success_rate > 1 or success_rate < 0:\n",
    "                        print(\"success_rate: \", success_rate)\n",
    "                        print(row[\"song_id\"])\n",
    "                        print(artist)\n",
    "                        \n",
    "\n",
    "                peak_positions = min_max_scaling(peak_positions, 1, 100)\n",
    "                days_distances = min_max_scaling(days_distances, 0.00, max_distance_float)\n",
    "                \n",
    "                # if superstar(hits_amount, peak_positions, days_distances) == 0:\n",
    "                #     print(hits_amount, peak_positions, days_distances, row[\"song_id\"])\n",
    "                    \n",
    "                if nr_art == 0:\n",
    "                    test_df.at[index, \"superstar_v1_x\"] = superstar(hits_amount, peak_positions, days_distances)\n",
    "                    test_df.at[index, \"superstar_v2_x\"] = superstar_2(hits_amount, peak_positions, days_distances)\n",
    "                    test_df.at[index, \"superstar_v3_x\"] = superstar_3(hits_amount, peak_positions, days_distances)\n",
    "                    test_df.at[index, \"superstar_v4_x\"] = superstar_4(hits_amount, peak_positions, days_distances)\n",
    "                    test_df.at[index, \"superstar_v5_x\"] = superstar_5(hits_amount, peak_positions, days_distances, success_rate)\n",
    "                    test_df.at[index, \"success_rate_x\"] = success_rate        \n",
    "                    test_df.at[index, \"hits_in_past_x\"] = hits_amount\n",
    "                    test_df.at[index, \"superstar_x\"] = 1\n",
    "                elif nr_art == 1:\n",
    "                    test_df.at[index, \"superstar_v1_y\"] = superstar(hits_amount, peak_positions, days_distances)\n",
    "                    test_df.at[index, \"superstar_v2_y\"] = superstar_2(hits_amount, peak_positions, days_distances)\n",
    "                    test_df.at[index, \"superstar_v3_y\"] = superstar_3(hits_amount, peak_positions, days_distances)\n",
    "                    test_df.at[index, \"superstar_v4_y\"] = superstar_4(hits_amount, peak_positions, days_distances)\n",
    "                    test_df.at[index, \"superstar_v5_y\"] = superstar_5(hits_amount, peak_positions, days_distances, success_rate)\n",
    "                    test_df.at[index, \"success_rate_y\"] = success_rate\n",
    "                    test_df.at[index, \"hits_in_past_y\"] = hits_amount\n",
    "                    test_df.at[index, \"superstar_y\"] = 1\n",
    "                #print(str(nr_art) + \":   \" + str(superstar(hits_amount, peak_positions, days_distances)))"
   ],
   "metadata": {
    "collapsed": false,
    "ExecuteTime": {
     "end_time": "2024-05-30T18:47:05.510590600Z",
     "start_time": "2024-05-30T18:30:02.931517100Z"
    }
   },
   "id": "24928d1a2c53b0e6"
  },
  {
   "cell_type": "markdown",
   "source": [
    "test 4 start"
   ],
   "metadata": {
    "collapsed": false
   },
   "id": "2f65c71d00e66473"
  },
  {
   "cell_type": "code",
   "execution_count": 29,
   "outputs": [
    {
     "data": {
      "text/plain": "{'song_popularity': 0.0,\n 'track_number': 0.0,\n 'num_artists': 0.0,\n 'num_available_markets': 0.0,\n 'duration_ms': 0.0,\n 'key': 0.0,\n 'mode': 0.0,\n 'time_signature': 0.0,\n 'acousticness': 0.0,\n 'danceability': 0.0,\n 'energy': 0.0,\n 'instrumentalness': 0.0,\n 'liveness': 0.0,\n 'loudness': 0.0,\n 'speechiness': 0.0,\n 'valence': 0.0,\n 'tempo': 0.0,\n 'hit': 0.0,\n 'betweenesscentrality_x': 0.0,\n 'closnesscentrality_x': 0.0,\n 'clustering_x': 0.0,\n 'degree_x': 0.0,\n 'eccentricity_x': 0.0,\n 'eigencentrality_x': 0.0,\n 'weighted degree_x': 0.0,\n 'pagerank_x': 0.0,\n 'Cluster_x': 0.0,\n 'betweenesscentrality_y': 0.0,\n 'closnesscentrality_y': 0.0,\n 'clustering_y': 0.0,\n 'degree_y': 0.0,\n 'eccentricity_y': 0.0,\n 'eigencentrality_y': 0.0,\n 'weighted degree_y': 0.0,\n 'pagerank_y': 0.0,\n 'Cluster_y': 0.0,\n 'artist1_num': 0.0,\n 'artist2_num': 0.0,\n 'years_on_charts': 0.0}"
     },
     "execution_count": 29,
     "metadata": {},
     "output_type": "execute_result"
    }
   ],
   "source": [
    "num_sup = nr_coloumns(test_df, test_df_hsp.columns)\n",
    "num_hsp = nr_coloumns(test_df_hsp, test_df_hsp.columns)\n",
    "num_hsp.reset_index(drop=True, inplace=True)\n",
    "\n",
    "calculate_mae(num_sup, num_hsp, num_sup.columns)"
   ],
   "metadata": {
    "collapsed": false,
    "ExecuteTime": {
     "end_time": "2024-05-30T18:47:05.583590600Z",
     "start_time": "2024-05-30T18:47:05.523593300Z"
    }
   },
   "id": "5a358778f2929097"
  },
  {
   "cell_type": "code",
   "execution_count": 30,
   "outputs": [
    {
     "data": {
      "text/plain": "       song_popularity  track_number  num_artists  num_available_markets  \\\n0                  1.0          24.0          1.0                   79.0   \n1                  0.0          23.0          1.0                   79.0   \n2                  2.0          27.0          1.0                   79.0   \n3                  0.0          21.0          1.0                   79.0   \n4                  0.0           3.0          1.0                   79.0   \n...                ...           ...          ...                    ...   \n54245              1.0          23.0          2.0                   78.0   \n54246              1.0           8.0          1.0                   79.0   \n54247              7.0           8.0          1.0                   78.0   \n54248              3.0          15.0          1.0                   78.0   \n54249              0.0          27.0          1.0                   79.0   \n\n       duration_ms  key  mode  time_signature  acousticness  danceability  \\\n0         266069.0  5.0   0.0             4.0      0.070200         0.486   \n1         222211.0  4.0   0.0             4.0      0.004800         0.726   \n2         255423.0  9.0   1.0             4.0      0.000106         0.356   \n3         167013.0  2.0   1.0             4.0      0.000342         0.462   \n4         278400.0  7.0   1.0             4.0      0.339000         0.574   \n...            ...  ...   ...             ...           ...           ...   \n54245     126360.0  4.0   1.0             4.0      0.582000         0.668   \n54246     163533.0  5.0   1.0             4.0      0.813000         0.571   \n54247     161200.0  0.0   1.0             4.0      0.040200         0.738   \n54248     172147.0  1.0   1.0             4.0      0.727000         0.417   \n54249     260910.0  7.0   0.0             3.0      0.607000         0.395   \n\n       ...  clustering_y  degree_y  eccentricity_y  eigencentrality_y  \\\n0      ...           0.0       0.0             0.0           0.000000   \n1      ...           0.0       0.0             0.0           0.000000   \n2      ...           0.0       0.0             0.0           0.000000   \n3      ...           0.0       0.0             0.0           0.000000   \n4      ...           0.0       0.0             0.0           0.000000   \n...    ...           ...       ...             ...                ...   \n54245  ...           0.0       1.0             1.0           0.525731   \n54246  ...           0.0       0.0             0.0           0.000000   \n54247  ...           0.0       0.0             0.0           0.000000   \n54248  ...           0.0       0.0             0.0           0.000000   \n54249  ...           0.0       0.0             0.0           0.000000   \n\n       weighted degree_y  pagerank_y  Cluster_y  artist1_num  artist2_num  \\\n0                    0.0    0.000000       -1.0       5370.0          1.0   \n1                    0.0    0.000000       -1.0       5370.0          1.0   \n2                    0.0    0.000000       -1.0       5370.0          1.0   \n3                    0.0    0.000000       -1.0       5370.0          1.0   \n4                    0.0    0.000000       -1.0       1358.0          1.0   \n...                  ...         ...        ...          ...          ...   \n54245               62.0    0.000055        4.0      12726.0      12604.0   \n54246                0.0    0.000000       -1.0      13413.0          1.0   \n54247                0.0    0.000000       -1.0      16052.0          1.0   \n54248                0.0    0.000000       -1.0       7980.0          1.0   \n54249                0.0    0.000000       -1.0       5139.0          1.0   \n\n       years_on_charts  \n0             0.000000  \n1             0.000000  \n2             0.000000  \n3             0.000000  \n4             0.000000  \n...                ...  \n54245         0.134247  \n54246         0.115068  \n54247         0.287671  \n54248         0.134247  \n54249         0.517808  \n\n[54250 rows x 39 columns]",
      "text/html": "<div>\n<style scoped>\n    .dataframe tbody tr th:only-of-type {\n        vertical-align: middle;\n    }\n\n    .dataframe tbody tr th {\n        vertical-align: top;\n    }\n\n    .dataframe thead th {\n        text-align: right;\n    }\n</style>\n<table border=\"1\" class=\"dataframe\">\n  <thead>\n    <tr style=\"text-align: right;\">\n      <th></th>\n      <th>song_popularity</th>\n      <th>track_number</th>\n      <th>num_artists</th>\n      <th>num_available_markets</th>\n      <th>duration_ms</th>\n      <th>key</th>\n      <th>mode</th>\n      <th>time_signature</th>\n      <th>acousticness</th>\n      <th>danceability</th>\n      <th>...</th>\n      <th>clustering_y</th>\n      <th>degree_y</th>\n      <th>eccentricity_y</th>\n      <th>eigencentrality_y</th>\n      <th>weighted degree_y</th>\n      <th>pagerank_y</th>\n      <th>Cluster_y</th>\n      <th>artist1_num</th>\n      <th>artist2_num</th>\n      <th>years_on_charts</th>\n    </tr>\n  </thead>\n  <tbody>\n    <tr>\n      <th>0</th>\n      <td>1.0</td>\n      <td>24.0</td>\n      <td>1.0</td>\n      <td>79.0</td>\n      <td>266069.0</td>\n      <td>5.0</td>\n      <td>0.0</td>\n      <td>4.0</td>\n      <td>0.070200</td>\n      <td>0.486</td>\n      <td>...</td>\n      <td>0.0</td>\n      <td>0.0</td>\n      <td>0.0</td>\n      <td>0.000000</td>\n      <td>0.0</td>\n      <td>0.000000</td>\n      <td>-1.0</td>\n      <td>5370.0</td>\n      <td>1.0</td>\n      <td>0.000000</td>\n    </tr>\n    <tr>\n      <th>1</th>\n      <td>0.0</td>\n      <td>23.0</td>\n      <td>1.0</td>\n      <td>79.0</td>\n      <td>222211.0</td>\n      <td>4.0</td>\n      <td>0.0</td>\n      <td>4.0</td>\n      <td>0.004800</td>\n      <td>0.726</td>\n      <td>...</td>\n      <td>0.0</td>\n      <td>0.0</td>\n      <td>0.0</td>\n      <td>0.000000</td>\n      <td>0.0</td>\n      <td>0.000000</td>\n      <td>-1.0</td>\n      <td>5370.0</td>\n      <td>1.0</td>\n      <td>0.000000</td>\n    </tr>\n    <tr>\n      <th>2</th>\n      <td>2.0</td>\n      <td>27.0</td>\n      <td>1.0</td>\n      <td>79.0</td>\n      <td>255423.0</td>\n      <td>9.0</td>\n      <td>1.0</td>\n      <td>4.0</td>\n      <td>0.000106</td>\n      <td>0.356</td>\n      <td>...</td>\n      <td>0.0</td>\n      <td>0.0</td>\n      <td>0.0</td>\n      <td>0.000000</td>\n      <td>0.0</td>\n      <td>0.000000</td>\n      <td>-1.0</td>\n      <td>5370.0</td>\n      <td>1.0</td>\n      <td>0.000000</td>\n    </tr>\n    <tr>\n      <th>3</th>\n      <td>0.0</td>\n      <td>21.0</td>\n      <td>1.0</td>\n      <td>79.0</td>\n      <td>167013.0</td>\n      <td>2.0</td>\n      <td>1.0</td>\n      <td>4.0</td>\n      <td>0.000342</td>\n      <td>0.462</td>\n      <td>...</td>\n      <td>0.0</td>\n      <td>0.0</td>\n      <td>0.0</td>\n      <td>0.000000</td>\n      <td>0.0</td>\n      <td>0.000000</td>\n      <td>-1.0</td>\n      <td>5370.0</td>\n      <td>1.0</td>\n      <td>0.000000</td>\n    </tr>\n    <tr>\n      <th>4</th>\n      <td>0.0</td>\n      <td>3.0</td>\n      <td>1.0</td>\n      <td>79.0</td>\n      <td>278400.0</td>\n      <td>7.0</td>\n      <td>1.0</td>\n      <td>4.0</td>\n      <td>0.339000</td>\n      <td>0.574</td>\n      <td>...</td>\n      <td>0.0</td>\n      <td>0.0</td>\n      <td>0.0</td>\n      <td>0.000000</td>\n      <td>0.0</td>\n      <td>0.000000</td>\n      <td>-1.0</td>\n      <td>1358.0</td>\n      <td>1.0</td>\n      <td>0.000000</td>\n    </tr>\n    <tr>\n      <th>...</th>\n      <td>...</td>\n      <td>...</td>\n      <td>...</td>\n      <td>...</td>\n      <td>...</td>\n      <td>...</td>\n      <td>...</td>\n      <td>...</td>\n      <td>...</td>\n      <td>...</td>\n      <td>...</td>\n      <td>...</td>\n      <td>...</td>\n      <td>...</td>\n      <td>...</td>\n      <td>...</td>\n      <td>...</td>\n      <td>...</td>\n      <td>...</td>\n      <td>...</td>\n      <td>...</td>\n    </tr>\n    <tr>\n      <th>54245</th>\n      <td>1.0</td>\n      <td>23.0</td>\n      <td>2.0</td>\n      <td>78.0</td>\n      <td>126360.0</td>\n      <td>4.0</td>\n      <td>1.0</td>\n      <td>4.0</td>\n      <td>0.582000</td>\n      <td>0.668</td>\n      <td>...</td>\n      <td>0.0</td>\n      <td>1.0</td>\n      <td>1.0</td>\n      <td>0.525731</td>\n      <td>62.0</td>\n      <td>0.000055</td>\n      <td>4.0</td>\n      <td>12726.0</td>\n      <td>12604.0</td>\n      <td>0.134247</td>\n    </tr>\n    <tr>\n      <th>54246</th>\n      <td>1.0</td>\n      <td>8.0</td>\n      <td>1.0</td>\n      <td>79.0</td>\n      <td>163533.0</td>\n      <td>5.0</td>\n      <td>1.0</td>\n      <td>4.0</td>\n      <td>0.813000</td>\n      <td>0.571</td>\n      <td>...</td>\n      <td>0.0</td>\n      <td>0.0</td>\n      <td>0.0</td>\n      <td>0.000000</td>\n      <td>0.0</td>\n      <td>0.000000</td>\n      <td>-1.0</td>\n      <td>13413.0</td>\n      <td>1.0</td>\n      <td>0.115068</td>\n    </tr>\n    <tr>\n      <th>54247</th>\n      <td>7.0</td>\n      <td>8.0</td>\n      <td>1.0</td>\n      <td>78.0</td>\n      <td>161200.0</td>\n      <td>0.0</td>\n      <td>1.0</td>\n      <td>4.0</td>\n      <td>0.040200</td>\n      <td>0.738</td>\n      <td>...</td>\n      <td>0.0</td>\n      <td>0.0</td>\n      <td>0.0</td>\n      <td>0.000000</td>\n      <td>0.0</td>\n      <td>0.000000</td>\n      <td>-1.0</td>\n      <td>16052.0</td>\n      <td>1.0</td>\n      <td>0.287671</td>\n    </tr>\n    <tr>\n      <th>54248</th>\n      <td>3.0</td>\n      <td>15.0</td>\n      <td>1.0</td>\n      <td>78.0</td>\n      <td>172147.0</td>\n      <td>1.0</td>\n      <td>1.0</td>\n      <td>4.0</td>\n      <td>0.727000</td>\n      <td>0.417</td>\n      <td>...</td>\n      <td>0.0</td>\n      <td>0.0</td>\n      <td>0.0</td>\n      <td>0.000000</td>\n      <td>0.0</td>\n      <td>0.000000</td>\n      <td>-1.0</td>\n      <td>7980.0</td>\n      <td>1.0</td>\n      <td>0.134247</td>\n    </tr>\n    <tr>\n      <th>54249</th>\n      <td>0.0</td>\n      <td>27.0</td>\n      <td>1.0</td>\n      <td>79.0</td>\n      <td>260910.0</td>\n      <td>7.0</td>\n      <td>0.0</td>\n      <td>3.0</td>\n      <td>0.607000</td>\n      <td>0.395</td>\n      <td>...</td>\n      <td>0.0</td>\n      <td>0.0</td>\n      <td>0.0</td>\n      <td>0.000000</td>\n      <td>0.0</td>\n      <td>0.000000</td>\n      <td>-1.0</td>\n      <td>5139.0</td>\n      <td>1.0</td>\n      <td>0.517808</td>\n    </tr>\n  </tbody>\n</table>\n<p>54250 rows × 39 columns</p>\n</div>"
     },
     "execution_count": 30,
     "metadata": {},
     "output_type": "execute_result"
    }
   ],
   "source": [
    "num_sup"
   ],
   "metadata": {
    "collapsed": false,
    "ExecuteTime": {
     "end_time": "2024-05-30T18:47:05.642589600Z",
     "start_time": "2024-05-30T18:47:05.582590Z"
    }
   },
   "id": "ddd9db5f7452ba18"
  },
  {
   "cell_type": "code",
   "execution_count": 31,
   "outputs": [
    {
     "data": {
      "text/plain": "       song_popularity  track_number  num_artists  num_available_markets  \\\n0                  1.0          24.0          1.0                   79.0   \n1                  0.0          23.0          1.0                   79.0   \n2                  2.0          27.0          1.0                   79.0   \n3                  0.0          21.0          1.0                   79.0   \n4                  0.0           3.0          1.0                   79.0   \n...                ...           ...          ...                    ...   \n54245              1.0          23.0          2.0                   78.0   \n54246              1.0           8.0          1.0                   79.0   \n54247              7.0           8.0          1.0                   78.0   \n54248              3.0          15.0          1.0                   78.0   \n54249              0.0          27.0          1.0                   79.0   \n\n       duration_ms  key  mode  time_signature  acousticness  danceability  \\\n0         266069.0  5.0   0.0             4.0      0.070200         0.486   \n1         222211.0  4.0   0.0             4.0      0.004800         0.726   \n2         255423.0  9.0   1.0             4.0      0.000106         0.356   \n3         167013.0  2.0   1.0             4.0      0.000342         0.462   \n4         278400.0  7.0   1.0             4.0      0.339000         0.574   \n...            ...  ...   ...             ...           ...           ...   \n54245     126360.0  4.0   1.0             4.0      0.582000         0.668   \n54246     163533.0  5.0   1.0             4.0      0.813000         0.571   \n54247     161200.0  0.0   1.0             4.0      0.040200         0.738   \n54248     172147.0  1.0   1.0             4.0      0.727000         0.417   \n54249     260910.0  7.0   0.0             3.0      0.607000         0.395   \n\n       ...  clustering_y  degree_y  eccentricity_y  eigencentrality_y  \\\n0      ...           0.0       0.0             0.0           0.000000   \n1      ...           0.0       0.0             0.0           0.000000   \n2      ...           0.0       0.0             0.0           0.000000   \n3      ...           0.0       0.0             0.0           0.000000   \n4      ...           0.0       0.0             0.0           0.000000   \n...    ...           ...       ...             ...                ...   \n54245  ...           0.0       1.0             1.0           0.525731   \n54246  ...           0.0       0.0             0.0           0.000000   \n54247  ...           0.0       0.0             0.0           0.000000   \n54248  ...           0.0       0.0             0.0           0.000000   \n54249  ...           0.0       0.0             0.0           0.000000   \n\n       weighted degree_y  pagerank_y  Cluster_y  artist1_num  artist2_num  \\\n0                    0.0    0.000000       -1.0       5370.0          1.0   \n1                    0.0    0.000000       -1.0       5370.0          1.0   \n2                    0.0    0.000000       -1.0       5370.0          1.0   \n3                    0.0    0.000000       -1.0       5370.0          1.0   \n4                    0.0    0.000000       -1.0       1358.0          1.0   \n...                  ...         ...        ...          ...          ...   \n54245               62.0    0.000055        4.0      12726.0      12604.0   \n54246                0.0    0.000000       -1.0      13413.0          1.0   \n54247                0.0    0.000000       -1.0      16052.0          1.0   \n54248                0.0    0.000000       -1.0       7980.0          1.0   \n54249                0.0    0.000000       -1.0       5139.0          1.0   \n\n       years_on_charts  \n0             0.000000  \n1             0.000000  \n2             0.000000  \n3             0.000000  \n4             0.000000  \n...                ...  \n54245         0.134247  \n54246         0.115068  \n54247         0.287671  \n54248         0.134247  \n54249         0.517808  \n\n[54250 rows x 39 columns]",
      "text/html": "<div>\n<style scoped>\n    .dataframe tbody tr th:only-of-type {\n        vertical-align: middle;\n    }\n\n    .dataframe tbody tr th {\n        vertical-align: top;\n    }\n\n    .dataframe thead th {\n        text-align: right;\n    }\n</style>\n<table border=\"1\" class=\"dataframe\">\n  <thead>\n    <tr style=\"text-align: right;\">\n      <th></th>\n      <th>song_popularity</th>\n      <th>track_number</th>\n      <th>num_artists</th>\n      <th>num_available_markets</th>\n      <th>duration_ms</th>\n      <th>key</th>\n      <th>mode</th>\n      <th>time_signature</th>\n      <th>acousticness</th>\n      <th>danceability</th>\n      <th>...</th>\n      <th>clustering_y</th>\n      <th>degree_y</th>\n      <th>eccentricity_y</th>\n      <th>eigencentrality_y</th>\n      <th>weighted degree_y</th>\n      <th>pagerank_y</th>\n      <th>Cluster_y</th>\n      <th>artist1_num</th>\n      <th>artist2_num</th>\n      <th>years_on_charts</th>\n    </tr>\n  </thead>\n  <tbody>\n    <tr>\n      <th>0</th>\n      <td>1.0</td>\n      <td>24.0</td>\n      <td>1.0</td>\n      <td>79.0</td>\n      <td>266069.0</td>\n      <td>5.0</td>\n      <td>0.0</td>\n      <td>4.0</td>\n      <td>0.070200</td>\n      <td>0.486</td>\n      <td>...</td>\n      <td>0.0</td>\n      <td>0.0</td>\n      <td>0.0</td>\n      <td>0.000000</td>\n      <td>0.0</td>\n      <td>0.000000</td>\n      <td>-1.0</td>\n      <td>5370.0</td>\n      <td>1.0</td>\n      <td>0.000000</td>\n    </tr>\n    <tr>\n      <th>1</th>\n      <td>0.0</td>\n      <td>23.0</td>\n      <td>1.0</td>\n      <td>79.0</td>\n      <td>222211.0</td>\n      <td>4.0</td>\n      <td>0.0</td>\n      <td>4.0</td>\n      <td>0.004800</td>\n      <td>0.726</td>\n      <td>...</td>\n      <td>0.0</td>\n      <td>0.0</td>\n      <td>0.0</td>\n      <td>0.000000</td>\n      <td>0.0</td>\n      <td>0.000000</td>\n      <td>-1.0</td>\n      <td>5370.0</td>\n      <td>1.0</td>\n      <td>0.000000</td>\n    </tr>\n    <tr>\n      <th>2</th>\n      <td>2.0</td>\n      <td>27.0</td>\n      <td>1.0</td>\n      <td>79.0</td>\n      <td>255423.0</td>\n      <td>9.0</td>\n      <td>1.0</td>\n      <td>4.0</td>\n      <td>0.000106</td>\n      <td>0.356</td>\n      <td>...</td>\n      <td>0.0</td>\n      <td>0.0</td>\n      <td>0.0</td>\n      <td>0.000000</td>\n      <td>0.0</td>\n      <td>0.000000</td>\n      <td>-1.0</td>\n      <td>5370.0</td>\n      <td>1.0</td>\n      <td>0.000000</td>\n    </tr>\n    <tr>\n      <th>3</th>\n      <td>0.0</td>\n      <td>21.0</td>\n      <td>1.0</td>\n      <td>79.0</td>\n      <td>167013.0</td>\n      <td>2.0</td>\n      <td>1.0</td>\n      <td>4.0</td>\n      <td>0.000342</td>\n      <td>0.462</td>\n      <td>...</td>\n      <td>0.0</td>\n      <td>0.0</td>\n      <td>0.0</td>\n      <td>0.000000</td>\n      <td>0.0</td>\n      <td>0.000000</td>\n      <td>-1.0</td>\n      <td>5370.0</td>\n      <td>1.0</td>\n      <td>0.000000</td>\n    </tr>\n    <tr>\n      <th>4</th>\n      <td>0.0</td>\n      <td>3.0</td>\n      <td>1.0</td>\n      <td>79.0</td>\n      <td>278400.0</td>\n      <td>7.0</td>\n      <td>1.0</td>\n      <td>4.0</td>\n      <td>0.339000</td>\n      <td>0.574</td>\n      <td>...</td>\n      <td>0.0</td>\n      <td>0.0</td>\n      <td>0.0</td>\n      <td>0.000000</td>\n      <td>0.0</td>\n      <td>0.000000</td>\n      <td>-1.0</td>\n      <td>1358.0</td>\n      <td>1.0</td>\n      <td>0.000000</td>\n    </tr>\n    <tr>\n      <th>...</th>\n      <td>...</td>\n      <td>...</td>\n      <td>...</td>\n      <td>...</td>\n      <td>...</td>\n      <td>...</td>\n      <td>...</td>\n      <td>...</td>\n      <td>...</td>\n      <td>...</td>\n      <td>...</td>\n      <td>...</td>\n      <td>...</td>\n      <td>...</td>\n      <td>...</td>\n      <td>...</td>\n      <td>...</td>\n      <td>...</td>\n      <td>...</td>\n      <td>...</td>\n      <td>...</td>\n    </tr>\n    <tr>\n      <th>54245</th>\n      <td>1.0</td>\n      <td>23.0</td>\n      <td>2.0</td>\n      <td>78.0</td>\n      <td>126360.0</td>\n      <td>4.0</td>\n      <td>1.0</td>\n      <td>4.0</td>\n      <td>0.582000</td>\n      <td>0.668</td>\n      <td>...</td>\n      <td>0.0</td>\n      <td>1.0</td>\n      <td>1.0</td>\n      <td>0.525731</td>\n      <td>62.0</td>\n      <td>0.000055</td>\n      <td>4.0</td>\n      <td>12726.0</td>\n      <td>12604.0</td>\n      <td>0.134247</td>\n    </tr>\n    <tr>\n      <th>54246</th>\n      <td>1.0</td>\n      <td>8.0</td>\n      <td>1.0</td>\n      <td>79.0</td>\n      <td>163533.0</td>\n      <td>5.0</td>\n      <td>1.0</td>\n      <td>4.0</td>\n      <td>0.813000</td>\n      <td>0.571</td>\n      <td>...</td>\n      <td>0.0</td>\n      <td>0.0</td>\n      <td>0.0</td>\n      <td>0.000000</td>\n      <td>0.0</td>\n      <td>0.000000</td>\n      <td>-1.0</td>\n      <td>13413.0</td>\n      <td>1.0</td>\n      <td>0.115068</td>\n    </tr>\n    <tr>\n      <th>54247</th>\n      <td>7.0</td>\n      <td>8.0</td>\n      <td>1.0</td>\n      <td>78.0</td>\n      <td>161200.0</td>\n      <td>0.0</td>\n      <td>1.0</td>\n      <td>4.0</td>\n      <td>0.040200</td>\n      <td>0.738</td>\n      <td>...</td>\n      <td>0.0</td>\n      <td>0.0</td>\n      <td>0.0</td>\n      <td>0.000000</td>\n      <td>0.0</td>\n      <td>0.000000</td>\n      <td>-1.0</td>\n      <td>16052.0</td>\n      <td>1.0</td>\n      <td>0.287671</td>\n    </tr>\n    <tr>\n      <th>54248</th>\n      <td>3.0</td>\n      <td>15.0</td>\n      <td>1.0</td>\n      <td>78.0</td>\n      <td>172147.0</td>\n      <td>1.0</td>\n      <td>1.0</td>\n      <td>4.0</td>\n      <td>0.727000</td>\n      <td>0.417</td>\n      <td>...</td>\n      <td>0.0</td>\n      <td>0.0</td>\n      <td>0.0</td>\n      <td>0.000000</td>\n      <td>0.0</td>\n      <td>0.000000</td>\n      <td>-1.0</td>\n      <td>7980.0</td>\n      <td>1.0</td>\n      <td>0.134247</td>\n    </tr>\n    <tr>\n      <th>54249</th>\n      <td>0.0</td>\n      <td>27.0</td>\n      <td>1.0</td>\n      <td>79.0</td>\n      <td>260910.0</td>\n      <td>7.0</td>\n      <td>0.0</td>\n      <td>3.0</td>\n      <td>0.607000</td>\n      <td>0.395</td>\n      <td>...</td>\n      <td>0.0</td>\n      <td>0.0</td>\n      <td>0.0</td>\n      <td>0.000000</td>\n      <td>0.0</td>\n      <td>0.000000</td>\n      <td>-1.0</td>\n      <td>5139.0</td>\n      <td>1.0</td>\n      <td>0.517808</td>\n    </tr>\n  </tbody>\n</table>\n<p>54250 rows × 39 columns</p>\n</div>"
     },
     "execution_count": 31,
     "metadata": {},
     "output_type": "execute_result"
    }
   ],
   "source": [
    "num_hsp"
   ],
   "metadata": {
    "collapsed": false,
    "ExecuteTime": {
     "end_time": "2024-05-30T18:47:05.679592Z",
     "start_time": "2024-05-30T18:47:05.622589700Z"
    }
   },
   "id": "a3b4684b75880080"
  },
  {
   "cell_type": "code",
   "execution_count": 32,
   "outputs": [
    {
     "data": {
      "text/plain": "                      song_id  \\\n0      4Gsqw7pb3z4OPDUeES6Daz   \n1      6tv2ZtGQcEiszwNpBx7wK2   \n2      2Yg7VknojyXmbAKnmrSAMU   \n3      7g9Vsa7alv8WuR9COxDu9k   \n4      4H1sr1GwbRuVIHZWcfkR8R   \n...                       ...   \n54245  6WrGNqos7nZLxV7QWTgyNO   \n54246  13MADoRclDrvJXcH0l7CFA   \n54247  7goArBQdsalqclSyaTywAS   \n54248  2CZ46u5NGXQFXke3PMCuAK   \n54249  6Fh2QgjCxL96dA3Gtpfr4Q   \n\n                                               song_name  song_popularity  \\\n0                 Don't Speak (8-Bit No Doubt Emulation)              1.0   \n1                Livin' It Up (8-Bit MONSTA X Emulation)              0.0   \n2      Bitter Sweet Symphony (8-Bit The Verve Emulation)              2.0   \n3       Sex and Candy (8-Bit Marcy Playground Emulation)              0.0   \n4                                             Day Spring              0.0   \n...                                                  ...              ...   \n54245                            I'll Keep You Satisfied              1.0   \n54246                                You Were on My Mind              1.0   \n54247                                   Shimmy Shimmy Ya              7.0   \n54248                   Today I Started Loving You Again              3.0   \n54249  One Sweet Day (16-Bit Mariah Carey & Boyz II M...              0.0   \n\n       explicit      song_type  track_number  num_artists  \\\n0         False           Solo          24.0          1.0   \n1         False           Solo          23.0          1.0   \n2         False           Solo          27.0          1.0   \n3         False           Solo          21.0          1.0   \n4         False           Solo           3.0          1.0   \n...         ...            ...           ...          ...   \n54245     False  Collaboration          23.0          2.0   \n54246     False           Solo           8.0          1.0   \n54247     False           Solo           8.0          1.0   \n54248     False           Solo          15.0          1.0   \n54249     False           Solo          27.0          1.0   \n\n       num_available_markets release_date  duration_ms  ...  superstar_v4_x  \\\n0                       79.0   2018-08-26     266069.0  ...             1.0   \n1                       79.0   2018-08-26     222211.0  ...             1.0   \n2                       79.0   2018-08-26     255423.0  ...             1.0   \n3                       79.0   2018-08-26     167013.0  ...             1.0   \n4                       79.0   2018-08-26     278400.0  ...             1.0   \n...                      ...          ...          ...  ...             ...   \n54245                   78.0   2019-08-23     126360.0  ...             1.0   \n54246                   79.0   2019-08-23     163533.0  ...             1.0   \n54247                   78.0   2019-08-23     161200.0  ...             1.0   \n54248                   78.0   2019-08-23     172147.0  ...             1.0   \n54249                   79.0   2019-08-26     260910.0  ...             1.0   \n\n       superstar_v4_y  superstar_v5_x  superstar_v5_y  success_rate_x  \\\n0                 1.0             1.0             1.0             0.0   \n1                 1.0             1.0             1.0             0.0   \n2                 1.0             1.0             1.0             0.0   \n3                 1.0             1.0             1.0             0.0   \n4                 1.0             1.0             1.0             0.0   \n...               ...             ...             ...             ...   \n54245             1.0             1.0             1.0             0.0   \n54246             1.0             1.0             1.0             0.0   \n54247             1.0             1.0             1.0             0.0   \n54248             1.0             1.0             1.0             0.0   \n54249             1.0             1.0             1.0             0.0   \n\n       success_rate_y  hits_in_past_x  hits_in_past_y  superstar_x  \\\n0                 0.0               0               0            0   \n1                 0.0               0               0            0   \n2                 0.0               0               0            0   \n3                 0.0               0               0            0   \n4                 0.0               0               0            0   \n...               ...             ...             ...          ...   \n54245             0.0               0               0            0   \n54246             0.0               0               0            0   \n54247             0.0               0               0            0   \n54248             0.0               0               0            0   \n54249             0.0               0               0            0   \n\n       superstar_y  \n0                0  \n1                0  \n2                0  \n3                0  \n4                0  \n...            ...  \n54245            0  \n54246            0  \n54247            0  \n54248            0  \n54249            0  \n\n[54250 rows x 67 columns]",
      "text/html": "<div>\n<style scoped>\n    .dataframe tbody tr th:only-of-type {\n        vertical-align: middle;\n    }\n\n    .dataframe tbody tr th {\n        vertical-align: top;\n    }\n\n    .dataframe thead th {\n        text-align: right;\n    }\n</style>\n<table border=\"1\" class=\"dataframe\">\n  <thead>\n    <tr style=\"text-align: right;\">\n      <th></th>\n      <th>song_id</th>\n      <th>song_name</th>\n      <th>song_popularity</th>\n      <th>explicit</th>\n      <th>song_type</th>\n      <th>track_number</th>\n      <th>num_artists</th>\n      <th>num_available_markets</th>\n      <th>release_date</th>\n      <th>duration_ms</th>\n      <th>...</th>\n      <th>superstar_v4_x</th>\n      <th>superstar_v4_y</th>\n      <th>superstar_v5_x</th>\n      <th>superstar_v5_y</th>\n      <th>success_rate_x</th>\n      <th>success_rate_y</th>\n      <th>hits_in_past_x</th>\n      <th>hits_in_past_y</th>\n      <th>superstar_x</th>\n      <th>superstar_y</th>\n    </tr>\n  </thead>\n  <tbody>\n    <tr>\n      <th>0</th>\n      <td>4Gsqw7pb3z4OPDUeES6Daz</td>\n      <td>Don't Speak (8-Bit No Doubt Emulation)</td>\n      <td>1.0</td>\n      <td>False</td>\n      <td>Solo</td>\n      <td>24.0</td>\n      <td>1.0</td>\n      <td>79.0</td>\n      <td>2018-08-26</td>\n      <td>266069.0</td>\n      <td>...</td>\n      <td>1.0</td>\n      <td>1.0</td>\n      <td>1.0</td>\n      <td>1.0</td>\n      <td>0.0</td>\n      <td>0.0</td>\n      <td>0</td>\n      <td>0</td>\n      <td>0</td>\n      <td>0</td>\n    </tr>\n    <tr>\n      <th>1</th>\n      <td>6tv2ZtGQcEiszwNpBx7wK2</td>\n      <td>Livin' It Up (8-Bit MONSTA X Emulation)</td>\n      <td>0.0</td>\n      <td>False</td>\n      <td>Solo</td>\n      <td>23.0</td>\n      <td>1.0</td>\n      <td>79.0</td>\n      <td>2018-08-26</td>\n      <td>222211.0</td>\n      <td>...</td>\n      <td>1.0</td>\n      <td>1.0</td>\n      <td>1.0</td>\n      <td>1.0</td>\n      <td>0.0</td>\n      <td>0.0</td>\n      <td>0</td>\n      <td>0</td>\n      <td>0</td>\n      <td>0</td>\n    </tr>\n    <tr>\n      <th>2</th>\n      <td>2Yg7VknojyXmbAKnmrSAMU</td>\n      <td>Bitter Sweet Symphony (8-Bit The Verve Emulation)</td>\n      <td>2.0</td>\n      <td>False</td>\n      <td>Solo</td>\n      <td>27.0</td>\n      <td>1.0</td>\n      <td>79.0</td>\n      <td>2018-08-26</td>\n      <td>255423.0</td>\n      <td>...</td>\n      <td>1.0</td>\n      <td>1.0</td>\n      <td>1.0</td>\n      <td>1.0</td>\n      <td>0.0</td>\n      <td>0.0</td>\n      <td>0</td>\n      <td>0</td>\n      <td>0</td>\n      <td>0</td>\n    </tr>\n    <tr>\n      <th>3</th>\n      <td>7g9Vsa7alv8WuR9COxDu9k</td>\n      <td>Sex and Candy (8-Bit Marcy Playground Emulation)</td>\n      <td>0.0</td>\n      <td>False</td>\n      <td>Solo</td>\n      <td>21.0</td>\n      <td>1.0</td>\n      <td>79.0</td>\n      <td>2018-08-26</td>\n      <td>167013.0</td>\n      <td>...</td>\n      <td>1.0</td>\n      <td>1.0</td>\n      <td>1.0</td>\n      <td>1.0</td>\n      <td>0.0</td>\n      <td>0.0</td>\n      <td>0</td>\n      <td>0</td>\n      <td>0</td>\n      <td>0</td>\n    </tr>\n    <tr>\n      <th>4</th>\n      <td>4H1sr1GwbRuVIHZWcfkR8R</td>\n      <td>Day Spring</td>\n      <td>0.0</td>\n      <td>False</td>\n      <td>Solo</td>\n      <td>3.0</td>\n      <td>1.0</td>\n      <td>79.0</td>\n      <td>2018-08-26</td>\n      <td>278400.0</td>\n      <td>...</td>\n      <td>1.0</td>\n      <td>1.0</td>\n      <td>1.0</td>\n      <td>1.0</td>\n      <td>0.0</td>\n      <td>0.0</td>\n      <td>0</td>\n      <td>0</td>\n      <td>0</td>\n      <td>0</td>\n    </tr>\n    <tr>\n      <th>...</th>\n      <td>...</td>\n      <td>...</td>\n      <td>...</td>\n      <td>...</td>\n      <td>...</td>\n      <td>...</td>\n      <td>...</td>\n      <td>...</td>\n      <td>...</td>\n      <td>...</td>\n      <td>...</td>\n      <td>...</td>\n      <td>...</td>\n      <td>...</td>\n      <td>...</td>\n      <td>...</td>\n      <td>...</td>\n      <td>...</td>\n      <td>...</td>\n      <td>...</td>\n      <td>...</td>\n    </tr>\n    <tr>\n      <th>54245</th>\n      <td>6WrGNqos7nZLxV7QWTgyNO</td>\n      <td>I'll Keep You Satisfied</td>\n      <td>1.0</td>\n      <td>False</td>\n      <td>Collaboration</td>\n      <td>23.0</td>\n      <td>2.0</td>\n      <td>78.0</td>\n      <td>2019-08-23</td>\n      <td>126360.0</td>\n      <td>...</td>\n      <td>1.0</td>\n      <td>1.0</td>\n      <td>1.0</td>\n      <td>1.0</td>\n      <td>0.0</td>\n      <td>0.0</td>\n      <td>0</td>\n      <td>0</td>\n      <td>0</td>\n      <td>0</td>\n    </tr>\n    <tr>\n      <th>54246</th>\n      <td>13MADoRclDrvJXcH0l7CFA</td>\n      <td>You Were on My Mind</td>\n      <td>1.0</td>\n      <td>False</td>\n      <td>Solo</td>\n      <td>8.0</td>\n      <td>1.0</td>\n      <td>79.0</td>\n      <td>2019-08-23</td>\n      <td>163533.0</td>\n      <td>...</td>\n      <td>1.0</td>\n      <td>1.0</td>\n      <td>1.0</td>\n      <td>1.0</td>\n      <td>0.0</td>\n      <td>0.0</td>\n      <td>0</td>\n      <td>0</td>\n      <td>0</td>\n      <td>0</td>\n    </tr>\n    <tr>\n      <th>54247</th>\n      <td>7goArBQdsalqclSyaTywAS</td>\n      <td>Shimmy Shimmy Ya</td>\n      <td>7.0</td>\n      <td>False</td>\n      <td>Solo</td>\n      <td>8.0</td>\n      <td>1.0</td>\n      <td>78.0</td>\n      <td>2019-08-23</td>\n      <td>161200.0</td>\n      <td>...</td>\n      <td>1.0</td>\n      <td>1.0</td>\n      <td>1.0</td>\n      <td>1.0</td>\n      <td>0.0</td>\n      <td>0.0</td>\n      <td>0</td>\n      <td>0</td>\n      <td>0</td>\n      <td>0</td>\n    </tr>\n    <tr>\n      <th>54248</th>\n      <td>2CZ46u5NGXQFXke3PMCuAK</td>\n      <td>Today I Started Loving You Again</td>\n      <td>3.0</td>\n      <td>False</td>\n      <td>Solo</td>\n      <td>15.0</td>\n      <td>1.0</td>\n      <td>78.0</td>\n      <td>2019-08-23</td>\n      <td>172147.0</td>\n      <td>...</td>\n      <td>1.0</td>\n      <td>1.0</td>\n      <td>1.0</td>\n      <td>1.0</td>\n      <td>0.0</td>\n      <td>0.0</td>\n      <td>0</td>\n      <td>0</td>\n      <td>0</td>\n      <td>0</td>\n    </tr>\n    <tr>\n      <th>54249</th>\n      <td>6Fh2QgjCxL96dA3Gtpfr4Q</td>\n      <td>One Sweet Day (16-Bit Mariah Carey &amp; Boyz II M...</td>\n      <td>0.0</td>\n      <td>False</td>\n      <td>Solo</td>\n      <td>27.0</td>\n      <td>1.0</td>\n      <td>79.0</td>\n      <td>2019-08-26</td>\n      <td>260910.0</td>\n      <td>...</td>\n      <td>1.0</td>\n      <td>1.0</td>\n      <td>1.0</td>\n      <td>1.0</td>\n      <td>0.0</td>\n      <td>0.0</td>\n      <td>0</td>\n      <td>0</td>\n      <td>0</td>\n      <td>0</td>\n    </tr>\n  </tbody>\n</table>\n<p>54250 rows × 67 columns</p>\n</div>"
     },
     "execution_count": 32,
     "metadata": {},
     "output_type": "execute_result"
    }
   ],
   "source": [
    "test_df"
   ],
   "metadata": {
    "collapsed": false,
    "ExecuteTime": {
     "end_time": "2024-05-30T18:47:05.866590700Z",
     "start_time": "2024-05-30T18:47:05.670591400Z"
    }
   },
   "id": "6652bdda67ca4b67"
  },
  {
   "cell_type": "markdown",
   "source": [
    "test 4 end"
   ],
   "metadata": {
    "collapsed": false
   },
   "id": "36c0f03643c71916"
  },
  {
   "cell_type": "code",
   "execution_count": 34,
   "outputs": [
    {
     "data": {
      "text/plain": "                     song_id         song_name  song_popularity  explicit  \\\n5653  446Jufq5oOCwOSXbkqq5yD  Bring It On Over             65.0     False   \n\n     song_type  track_number  num_artists  num_available_markets release_date  \\\n5653      Solo           1.0          1.0                   79.0   2018-09-19   \n\n      duration_ms  ...  superstar_v4_x  superstar_v4_y  superstar_v5_x  \\\n5653     182133.0  ...        0.060606             1.0             0.0   \n\n      superstar_v5_y  success_rate_x  success_rate_y  hits_in_past_x  \\\n5653             1.0             1.0             0.0               2   \n\n      hits_in_past_y  superstar_x  superstar_y  \n5653               0            1            0  \n\n[1 rows x 67 columns]",
      "text/html": "<div>\n<style scoped>\n    .dataframe tbody tr th:only-of-type {\n        vertical-align: middle;\n    }\n\n    .dataframe tbody tr th {\n        vertical-align: top;\n    }\n\n    .dataframe thead th {\n        text-align: right;\n    }\n</style>\n<table border=\"1\" class=\"dataframe\">\n  <thead>\n    <tr style=\"text-align: right;\">\n      <th></th>\n      <th>song_id</th>\n      <th>song_name</th>\n      <th>song_popularity</th>\n      <th>explicit</th>\n      <th>song_type</th>\n      <th>track_number</th>\n      <th>num_artists</th>\n      <th>num_available_markets</th>\n      <th>release_date</th>\n      <th>duration_ms</th>\n      <th>...</th>\n      <th>superstar_v4_x</th>\n      <th>superstar_v4_y</th>\n      <th>superstar_v5_x</th>\n      <th>superstar_v5_y</th>\n      <th>success_rate_x</th>\n      <th>success_rate_y</th>\n      <th>hits_in_past_x</th>\n      <th>hits_in_past_y</th>\n      <th>superstar_x</th>\n      <th>superstar_y</th>\n    </tr>\n  </thead>\n  <tbody>\n    <tr>\n      <th>5653</th>\n      <td>446Jufq5oOCwOSXbkqq5yD</td>\n      <td>Bring It On Over</td>\n      <td>65.0</td>\n      <td>False</td>\n      <td>Solo</td>\n      <td>1.0</td>\n      <td>1.0</td>\n      <td>79.0</td>\n      <td>2018-09-19</td>\n      <td>182133.0</td>\n      <td>...</td>\n      <td>0.060606</td>\n      <td>1.0</td>\n      <td>0.0</td>\n      <td>1.0</td>\n      <td>1.0</td>\n      <td>0.0</td>\n      <td>2</td>\n      <td>0</td>\n      <td>1</td>\n      <td>0</td>\n    </tr>\n  </tbody>\n</table>\n<p>1 rows × 67 columns</p>\n</div>"
     },
     "execution_count": 34,
     "metadata": {},
     "output_type": "execute_result"
    }
   ],
   "source": [
    "test_df[test_df[\"song_id\"] == \"446Jufq5oOCwOSXbkqq5yD\"]"
   ],
   "metadata": {
    "collapsed": false,
    "ExecuteTime": {
     "end_time": "2024-05-30T19:14:42.538485800Z",
     "start_time": "2024-05-30T19:14:42.200486600Z"
    }
   },
   "id": "5e22d9b956580e0b"
  },
  {
   "cell_type": "markdown",
   "source": [
    "look at:\n",
    "\n",
    "0\n",
    "\n",
    "C:\\Users\\lasse\\AppData\\Local\\Temp\\ipykernel_17604\\2414811635.py:70: RuntimeWarning: divide by zero encountered in scalar divide\n",
    "  success_rate = hits_amount/song_count\n",
    "\n",
    "song_id 446Jufq5oOCwOSXbkqq5yD\n",
    "1By9QBFnjZAoI83BZppHlt\n",
    "success_rate:  inf\n",
    "446Jufq5oOCwOSXbkqq5yD\n",
    "1By9QBFnjZAoI83BZppHlt\n",
    "song_id 446Jufq5oOCwOSXbkqq5yD\n",
    "1By9QBFnjZAoI83BZppHlt\n",
    "success_rate:  inf\n",
    "446Jufq5oOCwOSXbkqq5yD\n",
    "1By9QBFnjZAoI83BZppHlt\n"
   ],
   "metadata": {
    "collapsed": false
   },
   "id": "55abab87eb6116ae"
  },
  {
   "cell_type": "code",
   "execution_count": 35,
   "outputs": [
    {
     "name": "stdout",
     "output_type": "stream",
     "text": [
      "Column 'song_popularity': min = 0.0, max = 100.0\n",
      "Column 'track_number': min = 1.0, max = 92.0\n",
      "Column 'num_artists': min = 1.0, max = 2.0\n",
      "Column 'num_available_markets': min = 0.0, max = 79.0\n",
      "Column 'duration_ms': min = 2514.0, max = 2837787.0\n",
      "Column 'key': min = 0.0, max = 11.0\n",
      "Column 'mode': min = 0.0, max = 1.0\n",
      "Column 'time_signature': min = 0.0, max = 5.0\n",
      "Column 'acousticness': min = 0.0, max = 0.996\n",
      "Column 'danceability': min = 0.0, max = 0.992\n",
      "Column 'energy': min = 1.98e-05, max = 1.0\n",
      "Column 'instrumentalness': min = 0.0, max = 1.0\n",
      "Column 'liveness': min = 0.0, max = 1.0\n",
      "Column 'loudness': min = -46.99, max = 0.634\n",
      "Column 'speechiness': min = 0.0, max = 0.966\n",
      "Column 'valence': min = 0.0, max = 1.0\n",
      "Column 'tempo': min = 0.0, max = 248.206\n",
      "Column 'hit': min = 0.0, max = 1.0\n",
      "Column 'betweenesscentrality_x': min = 0.0, max = 1.0\n",
      "Column 'closnesscentrality_x': min = 0.0, max = 1.0\n",
      "Column 'clustering_x': min = 0.0, max = 1.0\n",
      "Column 'degree_x': min = 0, max = 208\n",
      "Column 'eccentricity_x': min = 0, max = 22\n",
      "Column 'eigencentrality_x': min = 1.3470233943069365e-13, max = 1.0\n",
      "Column 'weighted degree_x': min = 0, max = 3678\n",
      "Column 'pagerank_x': min = 1.1675478047404495e-05, max = 0.0059862085381722\n",
      "Column 'Cluster_x': min = 0, max = 5\n",
      "Column 'betweenesscentrality_y': min = 0.0, max = 1.0\n",
      "Column 'closnesscentrality_y': min = 0.0, max = 1.0\n",
      "Column 'clustering_y': min = 0.0, max = 1.0\n",
      "Column 'degree_y': min = 0.0, max = 208.0\n",
      "Column 'eccentricity_y': min = 0.0, max = 22.0\n",
      "Column 'eigencentrality_y': min = 0.0, max = 0.7558209204568141\n",
      "Column 'weighted degree_y': min = 0.0, max = 3678.0\n",
      "Column 'pagerank_y': min = 0.0, max = 0.0059862085381722\n",
      "Column 'Cluster_y': min = -1.0, max = 5.0\n",
      "Column 'artist1_num': min = 4.0, max = 16253.0\n",
      "Column 'artist2_num': min = 1.0, max = 16262.0\n",
      "Column 'years_on_charts': min = 0.0, max = 0.8438356164383561\n",
      "Column 'superstar_v1_x': min = 0.011160660445708875, max = 1.0\n",
      "Column 'superstar_v1_y': min = 0.009498526425918048, max = 1.0\n",
      "Column 'superstar_v2_x': min = 0.031506849315068496, max = 1.0\n",
      "Column 'superstar_v2_y': min = 0.08264840182648402, max = 1.0\n",
      "Column 'superstar_v3_x': min = 0.00961835893816744, max = 1.0\n",
      "Column 'superstar_v3_y': min = 0.0072818209719951645, max = 1.0\n",
      "Column 'superstar_v4_x': min = 0.0, max = 1.0\n",
      "Column 'superstar_v4_y': min = 0.0, max = 1.0\n",
      "Column 'superstar_v5_x': min = 0.0, max = 1.0\n",
      "Column 'superstar_v5_y': min = 0.0, max = 1.0\n",
      "Column 'success_rate_x': min = 0.0, max = 1.0\n",
      "Column 'success_rate_y': min = 0.0, max = 1.0\n",
      "Column 'hits_in_past_x': min = 0, max = 51\n",
      "Column 'hits_in_past_y': min = 0, max = 54\n",
      "Column 'superstar_x': min = 0, max = 1\n",
      "Column 'superstar_y': min = 0, max = 1\n"
     ]
    }
   ],
   "source": [
    "numerical_df = test_df.select_dtypes(include=['number'])\n",
    "\n",
    "# Print min and max for each numerical column\n",
    "for column in numerical_df.columns:\n",
    "    min_value = numerical_df[column].min()\n",
    "    max_value = numerical_df[column].max()\n",
    "    print(f\"Column '{column}': min = {min_value}, max = {max_value}\")"
   ],
   "metadata": {
    "collapsed": false,
    "ExecuteTime": {
     "end_time": "2024-05-30T19:14:42.575484100Z",
     "start_time": "2024-05-30T19:14:42.220485400Z"
    }
   },
   "id": "fce0afad6741c96a"
  },
  {
   "cell_type": "code",
   "execution_count": 36,
   "outputs": [
    {
     "data": {
      "text/plain": "                      song_id  \\\n0      4Gsqw7pb3z4OPDUeES6Daz   \n1      6tv2ZtGQcEiszwNpBx7wK2   \n2      2Yg7VknojyXmbAKnmrSAMU   \n3      7g9Vsa7alv8WuR9COxDu9k   \n4      4H1sr1GwbRuVIHZWcfkR8R   \n...                       ...   \n54245  6WrGNqos7nZLxV7QWTgyNO   \n54246  13MADoRclDrvJXcH0l7CFA   \n54247  7goArBQdsalqclSyaTywAS   \n54248  2CZ46u5NGXQFXke3PMCuAK   \n54249  6Fh2QgjCxL96dA3Gtpfr4Q   \n\n                                               song_name  song_popularity  \\\n0                 Don't Speak (8-Bit No Doubt Emulation)              1.0   \n1                Livin' It Up (8-Bit MONSTA X Emulation)              0.0   \n2      Bitter Sweet Symphony (8-Bit The Verve Emulation)              2.0   \n3       Sex and Candy (8-Bit Marcy Playground Emulation)              0.0   \n4                                             Day Spring              0.0   \n...                                                  ...              ...   \n54245                            I'll Keep You Satisfied              1.0   \n54246                                You Were on My Mind              1.0   \n54247                                   Shimmy Shimmy Ya              7.0   \n54248                   Today I Started Loving You Again              3.0   \n54249  One Sweet Day (16-Bit Mariah Carey & Boyz II M...              0.0   \n\n       explicit      song_type  track_number  num_artists  \\\n0         False           Solo          24.0          1.0   \n1         False           Solo          23.0          1.0   \n2         False           Solo          27.0          1.0   \n3         False           Solo          21.0          1.0   \n4         False           Solo           3.0          1.0   \n...         ...            ...           ...          ...   \n54245     False  Collaboration          23.0          2.0   \n54246     False           Solo           8.0          1.0   \n54247     False           Solo           8.0          1.0   \n54248     False           Solo          15.0          1.0   \n54249     False           Solo          27.0          1.0   \n\n       num_available_markets release_date  duration_ms  ...  superstar_v4_x  \\\n0                       79.0   2018-08-26     266069.0  ...             1.0   \n1                       79.0   2018-08-26     222211.0  ...             1.0   \n2                       79.0   2018-08-26     255423.0  ...             1.0   \n3                       79.0   2018-08-26     167013.0  ...             1.0   \n4                       79.0   2018-08-26     278400.0  ...             1.0   \n...                      ...          ...          ...  ...             ...   \n54245                   78.0   2019-08-23     126360.0  ...             1.0   \n54246                   79.0   2019-08-23     163533.0  ...             1.0   \n54247                   78.0   2019-08-23     161200.0  ...             1.0   \n54248                   78.0   2019-08-23     172147.0  ...             1.0   \n54249                   79.0   2019-08-26     260910.0  ...             1.0   \n\n       superstar_v4_y  superstar_v5_x  superstar_v5_y  success_rate_x  \\\n0                 1.0             1.0             1.0             0.0   \n1                 1.0             1.0             1.0             0.0   \n2                 1.0             1.0             1.0             0.0   \n3                 1.0             1.0             1.0             0.0   \n4                 1.0             1.0             1.0             0.0   \n...               ...             ...             ...             ...   \n54245             1.0             1.0             1.0             0.0   \n54246             1.0             1.0             1.0             0.0   \n54247             1.0             1.0             1.0             0.0   \n54248             1.0             1.0             1.0             0.0   \n54249             1.0             1.0             1.0             0.0   \n\n       success_rate_y  hits_in_past_x  hits_in_past_y  superstar_x  \\\n0                 0.0               0               0            0   \n1                 0.0               0               0            0   \n2                 0.0               0               0            0   \n3                 0.0               0               0            0   \n4                 0.0               0               0            0   \n...               ...             ...             ...          ...   \n54245             0.0               0               0            0   \n54246             0.0               0               0            0   \n54247             0.0               0               0            0   \n54248             0.0               0               0            0   \n54249             0.0               0               0            0   \n\n       superstar_y  \n0                0  \n1                0  \n2                0  \n3                0  \n4                0  \n...            ...  \n54245            0  \n54246            0  \n54247            0  \n54248            0  \n54249            0  \n\n[54250 rows x 67 columns]",
      "text/html": "<div>\n<style scoped>\n    .dataframe tbody tr th:only-of-type {\n        vertical-align: middle;\n    }\n\n    .dataframe tbody tr th {\n        vertical-align: top;\n    }\n\n    .dataframe thead th {\n        text-align: right;\n    }\n</style>\n<table border=\"1\" class=\"dataframe\">\n  <thead>\n    <tr style=\"text-align: right;\">\n      <th></th>\n      <th>song_id</th>\n      <th>song_name</th>\n      <th>song_popularity</th>\n      <th>explicit</th>\n      <th>song_type</th>\n      <th>track_number</th>\n      <th>num_artists</th>\n      <th>num_available_markets</th>\n      <th>release_date</th>\n      <th>duration_ms</th>\n      <th>...</th>\n      <th>superstar_v4_x</th>\n      <th>superstar_v4_y</th>\n      <th>superstar_v5_x</th>\n      <th>superstar_v5_y</th>\n      <th>success_rate_x</th>\n      <th>success_rate_y</th>\n      <th>hits_in_past_x</th>\n      <th>hits_in_past_y</th>\n      <th>superstar_x</th>\n      <th>superstar_y</th>\n    </tr>\n  </thead>\n  <tbody>\n    <tr>\n      <th>0</th>\n      <td>4Gsqw7pb3z4OPDUeES6Daz</td>\n      <td>Don't Speak (8-Bit No Doubt Emulation)</td>\n      <td>1.0</td>\n      <td>False</td>\n      <td>Solo</td>\n      <td>24.0</td>\n      <td>1.0</td>\n      <td>79.0</td>\n      <td>2018-08-26</td>\n      <td>266069.0</td>\n      <td>...</td>\n      <td>1.0</td>\n      <td>1.0</td>\n      <td>1.0</td>\n      <td>1.0</td>\n      <td>0.0</td>\n      <td>0.0</td>\n      <td>0</td>\n      <td>0</td>\n      <td>0</td>\n      <td>0</td>\n    </tr>\n    <tr>\n      <th>1</th>\n      <td>6tv2ZtGQcEiszwNpBx7wK2</td>\n      <td>Livin' It Up (8-Bit MONSTA X Emulation)</td>\n      <td>0.0</td>\n      <td>False</td>\n      <td>Solo</td>\n      <td>23.0</td>\n      <td>1.0</td>\n      <td>79.0</td>\n      <td>2018-08-26</td>\n      <td>222211.0</td>\n      <td>...</td>\n      <td>1.0</td>\n      <td>1.0</td>\n      <td>1.0</td>\n      <td>1.0</td>\n      <td>0.0</td>\n      <td>0.0</td>\n      <td>0</td>\n      <td>0</td>\n      <td>0</td>\n      <td>0</td>\n    </tr>\n    <tr>\n      <th>2</th>\n      <td>2Yg7VknojyXmbAKnmrSAMU</td>\n      <td>Bitter Sweet Symphony (8-Bit The Verve Emulation)</td>\n      <td>2.0</td>\n      <td>False</td>\n      <td>Solo</td>\n      <td>27.0</td>\n      <td>1.0</td>\n      <td>79.0</td>\n      <td>2018-08-26</td>\n      <td>255423.0</td>\n      <td>...</td>\n      <td>1.0</td>\n      <td>1.0</td>\n      <td>1.0</td>\n      <td>1.0</td>\n      <td>0.0</td>\n      <td>0.0</td>\n      <td>0</td>\n      <td>0</td>\n      <td>0</td>\n      <td>0</td>\n    </tr>\n    <tr>\n      <th>3</th>\n      <td>7g9Vsa7alv8WuR9COxDu9k</td>\n      <td>Sex and Candy (8-Bit Marcy Playground Emulation)</td>\n      <td>0.0</td>\n      <td>False</td>\n      <td>Solo</td>\n      <td>21.0</td>\n      <td>1.0</td>\n      <td>79.0</td>\n      <td>2018-08-26</td>\n      <td>167013.0</td>\n      <td>...</td>\n      <td>1.0</td>\n      <td>1.0</td>\n      <td>1.0</td>\n      <td>1.0</td>\n      <td>0.0</td>\n      <td>0.0</td>\n      <td>0</td>\n      <td>0</td>\n      <td>0</td>\n      <td>0</td>\n    </tr>\n    <tr>\n      <th>4</th>\n      <td>4H1sr1GwbRuVIHZWcfkR8R</td>\n      <td>Day Spring</td>\n      <td>0.0</td>\n      <td>False</td>\n      <td>Solo</td>\n      <td>3.0</td>\n      <td>1.0</td>\n      <td>79.0</td>\n      <td>2018-08-26</td>\n      <td>278400.0</td>\n      <td>...</td>\n      <td>1.0</td>\n      <td>1.0</td>\n      <td>1.0</td>\n      <td>1.0</td>\n      <td>0.0</td>\n      <td>0.0</td>\n      <td>0</td>\n      <td>0</td>\n      <td>0</td>\n      <td>0</td>\n    </tr>\n    <tr>\n      <th>...</th>\n      <td>...</td>\n      <td>...</td>\n      <td>...</td>\n      <td>...</td>\n      <td>...</td>\n      <td>...</td>\n      <td>...</td>\n      <td>...</td>\n      <td>...</td>\n      <td>...</td>\n      <td>...</td>\n      <td>...</td>\n      <td>...</td>\n      <td>...</td>\n      <td>...</td>\n      <td>...</td>\n      <td>...</td>\n      <td>...</td>\n      <td>...</td>\n      <td>...</td>\n      <td>...</td>\n    </tr>\n    <tr>\n      <th>54245</th>\n      <td>6WrGNqos7nZLxV7QWTgyNO</td>\n      <td>I'll Keep You Satisfied</td>\n      <td>1.0</td>\n      <td>False</td>\n      <td>Collaboration</td>\n      <td>23.0</td>\n      <td>2.0</td>\n      <td>78.0</td>\n      <td>2019-08-23</td>\n      <td>126360.0</td>\n      <td>...</td>\n      <td>1.0</td>\n      <td>1.0</td>\n      <td>1.0</td>\n      <td>1.0</td>\n      <td>0.0</td>\n      <td>0.0</td>\n      <td>0</td>\n      <td>0</td>\n      <td>0</td>\n      <td>0</td>\n    </tr>\n    <tr>\n      <th>54246</th>\n      <td>13MADoRclDrvJXcH0l7CFA</td>\n      <td>You Were on My Mind</td>\n      <td>1.0</td>\n      <td>False</td>\n      <td>Solo</td>\n      <td>8.0</td>\n      <td>1.0</td>\n      <td>79.0</td>\n      <td>2019-08-23</td>\n      <td>163533.0</td>\n      <td>...</td>\n      <td>1.0</td>\n      <td>1.0</td>\n      <td>1.0</td>\n      <td>1.0</td>\n      <td>0.0</td>\n      <td>0.0</td>\n      <td>0</td>\n      <td>0</td>\n      <td>0</td>\n      <td>0</td>\n    </tr>\n    <tr>\n      <th>54247</th>\n      <td>7goArBQdsalqclSyaTywAS</td>\n      <td>Shimmy Shimmy Ya</td>\n      <td>7.0</td>\n      <td>False</td>\n      <td>Solo</td>\n      <td>8.0</td>\n      <td>1.0</td>\n      <td>78.0</td>\n      <td>2019-08-23</td>\n      <td>161200.0</td>\n      <td>...</td>\n      <td>1.0</td>\n      <td>1.0</td>\n      <td>1.0</td>\n      <td>1.0</td>\n      <td>0.0</td>\n      <td>0.0</td>\n      <td>0</td>\n      <td>0</td>\n      <td>0</td>\n      <td>0</td>\n    </tr>\n    <tr>\n      <th>54248</th>\n      <td>2CZ46u5NGXQFXke3PMCuAK</td>\n      <td>Today I Started Loving You Again</td>\n      <td>3.0</td>\n      <td>False</td>\n      <td>Solo</td>\n      <td>15.0</td>\n      <td>1.0</td>\n      <td>78.0</td>\n      <td>2019-08-23</td>\n      <td>172147.0</td>\n      <td>...</td>\n      <td>1.0</td>\n      <td>1.0</td>\n      <td>1.0</td>\n      <td>1.0</td>\n      <td>0.0</td>\n      <td>0.0</td>\n      <td>0</td>\n      <td>0</td>\n      <td>0</td>\n      <td>0</td>\n    </tr>\n    <tr>\n      <th>54249</th>\n      <td>6Fh2QgjCxL96dA3Gtpfr4Q</td>\n      <td>One Sweet Day (16-Bit Mariah Carey &amp; Boyz II M...</td>\n      <td>0.0</td>\n      <td>False</td>\n      <td>Solo</td>\n      <td>27.0</td>\n      <td>1.0</td>\n      <td>79.0</td>\n      <td>2019-08-26</td>\n      <td>260910.0</td>\n      <td>...</td>\n      <td>1.0</td>\n      <td>1.0</td>\n      <td>1.0</td>\n      <td>1.0</td>\n      <td>0.0</td>\n      <td>0.0</td>\n      <td>0</td>\n      <td>0</td>\n      <td>0</td>\n      <td>0</td>\n    </tr>\n  </tbody>\n</table>\n<p>54250 rows × 67 columns</p>\n</div>"
     },
     "execution_count": 36,
     "metadata": {},
     "output_type": "execute_result"
    }
   ],
   "source": [
    "test_df"
   ],
   "metadata": {
    "collapsed": false,
    "ExecuteTime": {
     "end_time": "2024-05-30T19:14:42.577484600Z",
     "start_time": "2024-05-30T19:14:42.276484700Z"
    }
   },
   "id": "2d78248d9a248f00"
  },
  {
   "cell_type": "code",
   "execution_count": 37,
   "outputs": [],
   "source": [
    "test_df.drop(columns=[\"date\"], inplace=True)\n",
    "test_df.to_csv(\"test_df_superstar_v1_0.csv\", index=False)"
   ],
   "metadata": {
    "collapsed": false,
    "ExecuteTime": {
     "end_time": "2024-05-30T19:14:44.336545900Z",
     "start_time": "2024-05-30T19:14:42.347484600Z"
    }
   },
   "id": "7eb8c44b72d92d30"
  },
  {
   "cell_type": "code",
   "execution_count": 38,
   "outputs": [],
   "source": [
    "data = pd.concat([train_df, test_df], axis=0)\n",
    "data.reset_index(drop=True, inplace=True)"
   ],
   "metadata": {
    "collapsed": false,
    "ExecuteTime": {
     "end_time": "2024-05-30T19:14:44.494547700Z",
     "start_time": "2024-05-30T19:14:44.339549600Z"
    }
   },
   "id": "4c68cd197e747d33"
  },
  {
   "cell_type": "markdown",
   "source": [
    "last test"
   ],
   "metadata": {
    "collapsed": false
   },
   "id": "9a0223abf735a1bc"
  },
  {
   "cell_type": "code",
   "execution_count": 49,
   "outputs": [
    {
     "data": {
      "text/plain": "{'song_popularity': 0.0,\n 'track_number': 0.0,\n 'num_artists': 0.0,\n 'num_available_markets': 0.0,\n 'duration_ms': 0.0,\n 'key': 0.0,\n 'mode': 0.0,\n 'time_signature': 0.0,\n 'acousticness': 0.0,\n 'danceability': 0.0,\n 'energy': 0.0,\n 'instrumentalness': 0.0,\n 'liveness': 0.0,\n 'loudness': 0.0,\n 'speechiness': 0.0,\n 'valence': 0.0,\n 'tempo': 0.0,\n 'hit': 0.0,\n 'betweenesscentrality_x': 0.0,\n 'closnesscentrality_x': 0.0,\n 'clustering_x': 0.0,\n 'degree_x': 0.0,\n 'eccentricity_x': 0.0,\n 'eigencentrality_x': 0.0,\n 'weighted degree_x': 0.0,\n 'pagerank_x': 0.0,\n 'Cluster_x': 0.0,\n 'betweenesscentrality_y': 0.0,\n 'closnesscentrality_y': 0.0,\n 'clustering_y': 0.0,\n 'degree_y': 0.0,\n 'eccentricity_y': 0.0,\n 'eigencentrality_y': 0.0,\n 'weighted degree_y': 0.0,\n 'pagerank_y': 0.0,\n 'Cluster_y': 0.0,\n 'artist1_num': 0.0,\n 'artist2_num': 0.0,\n 'years_on_charts': 0.0}"
     },
     "execution_count": 49,
     "metadata": {},
     "output_type": "execute_result"
    }
   ],
   "source": [
    "data_hsp.drop(columns=[\"date\"], inplace=True)\n",
    "num_sup = nr_coloumns(data, data_hsp.columns)\n",
    "num_hsp = nr_coloumns(data_hsp, data_hsp.columns)\n",
    "num_hsp.reset_index(drop=True, inplace=True)\n",
    "\n",
    "calculate_mae(num_sup, num_hsp, num_hsp.columns)"
   ],
   "metadata": {
    "collapsed": false,
    "ExecuteTime": {
     "end_time": "2024-05-30T19:20:31.336220900Z",
     "start_time": "2024-05-30T19:20:30.511952700Z"
    }
   },
   "id": "d8ca99459728d324"
  },
  {
   "cell_type": "markdown",
   "source": [
    "test end"
   ],
   "metadata": {
    "collapsed": false
   },
   "id": "bfc69fd666964a24"
  },
  {
   "cell_type": "code",
   "execution_count": 50,
   "outputs": [],
   "source": [
    "data.to_csv(\"data_superstar_v1_0.csv\", index=False)"
   ],
   "metadata": {
    "collapsed": false,
    "ExecuteTime": {
     "end_time": "2024-05-30T19:20:54.449273900Z",
     "start_time": "2024-05-30T19:20:45.114363500Z"
    }
   },
   "id": "669a62789f340ac5"
  },
  {
   "cell_type": "code",
   "execution_count": null,
   "outputs": [],
   "source": [
    "lel = data[(data[\"song_id\"] == \"6frqShk9fhsOzoKPYXKzk9\")]\n",
    "lel.iloc[:, :-40]"
   ],
   "metadata": {
    "collapsed": false,
    "ExecuteTime": {
     "start_time": "2024-05-30T19:14:46.077513900Z"
    }
   },
   "id": "278bbc91d4e055db"
  }
 ],
 "metadata": {
  "kernelspec": {
   "display_name": "Python 3",
   "language": "python",
   "name": "python3"
  },
  "language_info": {
   "codemirror_mode": {
    "name": "ipython",
    "version": 2
   },
   "file_extension": ".py",
   "mimetype": "text/x-python",
   "name": "python",
   "nbconvert_exporter": "python",
   "pygments_lexer": "ipython2",
   "version": "2.7.6"
  }
 },
 "nbformat": 4,
 "nbformat_minor": 5
}
