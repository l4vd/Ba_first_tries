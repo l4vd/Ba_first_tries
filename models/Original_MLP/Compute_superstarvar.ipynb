{
 "cells": [
  {
   "cell_type": "code",
   "execution_count": 1,
   "id": "initial_id",
   "metadata": {
    "collapsed": true,
    "ExecuteTime": {
     "end_time": "2024-04-24T13:41:23.207994500Z",
     "start_time": "2024-04-24T13:41:18.429917500Z"
    }
   },
   "outputs": [
    {
     "data": {
      "text/plain": "                       song_id  \\\n0       7kXUEJmfvRXbzxOC0pHQgb   \n1       7A131DrpfbWAfNJLrxikwf   \n2       4SRjOJm5AjO3fxXpZSTEBb   \n3       592dtCLAyLQdUallLhJinO   \n4       2hMAApqyXl7nf2s8dQ6BTv   \n...                        ...   \n911022  5ke0edZBlwRYu01wdej6xq   \n911023  12kc7hUJKpArFQurhlNeNW   \n911024  0lej8CemYKkWVHg77Xe1ky   \n911025  7goArBQdsalqclSyaTywAS   \n911026  6Fh2QgjCxL96dA3Gtpfr4Q   \n\n                                                song_name  song_popularity  \\\n0                          I Can't Believe I'm Losing You              5.0   \n1                                       Top Of The Stairs             26.0   \n2                                   Never Crossed My Mind             20.0   \n3                                              Daddy Cool              1.0   \n4                                     Shame, Shame, Shame              0.0   \n...                                                   ...              ...   \n911022                                         Let Her In              4.0   \n911023                             Stop and Think It Over              1.0   \n911024           A Man Holdin' on (To a Woman Lettin’ Go)             14.0   \n911025                                   Shimmy Shimmy Ya              7.0   \n911026  One Sweet Day (16-Bit Mariah Carey & Boyz II M...              0.0   \n\n        explicit      song_type  track_number  num_artists  \\\n0          False           Solo          12.0          1.0   \n1          False           Solo           4.0          1.0   \n2          False           Solo           3.0          1.0   \n3          False           Solo           6.0          1.0   \n4          False           Solo          15.0          1.0   \n...          ...            ...           ...          ...   \n911022     False           Solo           7.0          1.0   \n911023     False           Solo           9.0          1.0   \n911024     False  Collaboration           7.0          2.0   \n911025     False           Solo           8.0          1.0   \n911026     False           Solo          27.0          1.0   \n\n        num_available_markets release_date  duration_ms  ...  \\\n0                        79.0   1995-01-01     162667.0  ...   \n1                         2.0   1995-01-01     271307.0  ...   \n2                         2.0   1995-01-01     242027.0  ...   \n3                        79.0   1995-01-01     201307.0  ...   \n4                        79.0   1995-01-01     231973.0  ...   \n...                       ...          ...          ...  ...   \n911022                   79.0   2019-08-23     183600.0  ...   \n911023                   79.0   2019-08-23     154413.0  ...   \n911024                   79.0   2019-08-23     231898.0  ...   \n911025                   78.0   2019-08-23     161200.0  ...   \n911026                   79.0   2019-08-26     260910.0  ...   \n\n        betweenesscentrality_y  closnesscentrality_y  clustering_y  degree_y  \\\n0                          0.0              0.000000           0.0       0.0   \n1                          0.0              0.000000           0.0       0.0   \n2                          0.0              0.000000           0.0       0.0   \n3                          0.0              0.000000           0.0       0.0   \n4                          0.0              0.000000           0.0       0.0   \n...                        ...                   ...           ...       ...   \n911022                     0.0              0.000000           0.0       0.0   \n911023                     0.0              0.000000           0.0       0.0   \n911024                     0.0              0.666667           0.0       1.0   \n911025                     0.0              0.000000           0.0       0.0   \n911026                     0.0              0.000000           0.0       0.0   \n\n        eccentricity_y  eigencentrality_y  weighted degree_y  Cluster_y  \\\n0                  0.0                0.0                0.0       -1.0   \n1                  0.0                0.0                0.0       -1.0   \n2                  0.0                0.0                0.0       -1.0   \n3                  0.0                0.0                0.0       -1.0   \n4                  0.0                0.0                0.0       -1.0   \n...                ...                ...                ...        ...   \n911022             0.0                0.0                0.0       -1.0   \n911023             0.0                0.0                0.0       -1.0   \n911024             2.0                0.5                2.0        3.0   \n911025             0.0                0.0                0.0       -1.0   \n911026             0.0                0.0                0.0       -1.0   \n\n          profile_y  years_on_charts  \n0          No Match         0.000000  \n1          No Match         0.000000  \n2          No Match         0.000000  \n3          No Match         0.000000  \n4          No Match         0.000000  \n...             ...              ...  \n911022     No Match         0.383562  \n911023     No Match         0.172603  \n911024  1A 2A 3A 4A         0.191781  \n911025     No Match         0.287671  \n911026     No Match         0.517808  \n\n[911027 rows x 47 columns]",
      "text/html": "<div>\n<style scoped>\n    .dataframe tbody tr th:only-of-type {\n        vertical-align: middle;\n    }\n\n    .dataframe tbody tr th {\n        vertical-align: top;\n    }\n\n    .dataframe thead th {\n        text-align: right;\n    }\n</style>\n<table border=\"1\" class=\"dataframe\">\n  <thead>\n    <tr style=\"text-align: right;\">\n      <th></th>\n      <th>song_id</th>\n      <th>song_name</th>\n      <th>song_popularity</th>\n      <th>explicit</th>\n      <th>song_type</th>\n      <th>track_number</th>\n      <th>num_artists</th>\n      <th>num_available_markets</th>\n      <th>release_date</th>\n      <th>duration_ms</th>\n      <th>...</th>\n      <th>betweenesscentrality_y</th>\n      <th>closnesscentrality_y</th>\n      <th>clustering_y</th>\n      <th>degree_y</th>\n      <th>eccentricity_y</th>\n      <th>eigencentrality_y</th>\n      <th>weighted degree_y</th>\n      <th>Cluster_y</th>\n      <th>profile_y</th>\n      <th>years_on_charts</th>\n    </tr>\n  </thead>\n  <tbody>\n    <tr>\n      <th>0</th>\n      <td>7kXUEJmfvRXbzxOC0pHQgb</td>\n      <td>I Can't Believe I'm Losing You</td>\n      <td>5.0</td>\n      <td>False</td>\n      <td>Solo</td>\n      <td>12.0</td>\n      <td>1.0</td>\n      <td>79.0</td>\n      <td>1995-01-01</td>\n      <td>162667.0</td>\n      <td>...</td>\n      <td>0.0</td>\n      <td>0.000000</td>\n      <td>0.0</td>\n      <td>0.0</td>\n      <td>0.0</td>\n      <td>0.0</td>\n      <td>0.0</td>\n      <td>-1.0</td>\n      <td>No Match</td>\n      <td>0.000000</td>\n    </tr>\n    <tr>\n      <th>1</th>\n      <td>7A131DrpfbWAfNJLrxikwf</td>\n      <td>Top Of The Stairs</td>\n      <td>26.0</td>\n      <td>False</td>\n      <td>Solo</td>\n      <td>4.0</td>\n      <td>1.0</td>\n      <td>2.0</td>\n      <td>1995-01-01</td>\n      <td>271307.0</td>\n      <td>...</td>\n      <td>0.0</td>\n      <td>0.000000</td>\n      <td>0.0</td>\n      <td>0.0</td>\n      <td>0.0</td>\n      <td>0.0</td>\n      <td>0.0</td>\n      <td>-1.0</td>\n      <td>No Match</td>\n      <td>0.000000</td>\n    </tr>\n    <tr>\n      <th>2</th>\n      <td>4SRjOJm5AjO3fxXpZSTEBb</td>\n      <td>Never Crossed My Mind</td>\n      <td>20.0</td>\n      <td>False</td>\n      <td>Solo</td>\n      <td>3.0</td>\n      <td>1.0</td>\n      <td>2.0</td>\n      <td>1995-01-01</td>\n      <td>242027.0</td>\n      <td>...</td>\n      <td>0.0</td>\n      <td>0.000000</td>\n      <td>0.0</td>\n      <td>0.0</td>\n      <td>0.0</td>\n      <td>0.0</td>\n      <td>0.0</td>\n      <td>-1.0</td>\n      <td>No Match</td>\n      <td>0.000000</td>\n    </tr>\n    <tr>\n      <th>3</th>\n      <td>592dtCLAyLQdUallLhJinO</td>\n      <td>Daddy Cool</td>\n      <td>1.0</td>\n      <td>False</td>\n      <td>Solo</td>\n      <td>6.0</td>\n      <td>1.0</td>\n      <td>79.0</td>\n      <td>1995-01-01</td>\n      <td>201307.0</td>\n      <td>...</td>\n      <td>0.0</td>\n      <td>0.000000</td>\n      <td>0.0</td>\n      <td>0.0</td>\n      <td>0.0</td>\n      <td>0.0</td>\n      <td>0.0</td>\n      <td>-1.0</td>\n      <td>No Match</td>\n      <td>0.000000</td>\n    </tr>\n    <tr>\n      <th>4</th>\n      <td>2hMAApqyXl7nf2s8dQ6BTv</td>\n      <td>Shame, Shame, Shame</td>\n      <td>0.0</td>\n      <td>False</td>\n      <td>Solo</td>\n      <td>15.0</td>\n      <td>1.0</td>\n      <td>79.0</td>\n      <td>1995-01-01</td>\n      <td>231973.0</td>\n      <td>...</td>\n      <td>0.0</td>\n      <td>0.000000</td>\n      <td>0.0</td>\n      <td>0.0</td>\n      <td>0.0</td>\n      <td>0.0</td>\n      <td>0.0</td>\n      <td>-1.0</td>\n      <td>No Match</td>\n      <td>0.000000</td>\n    </tr>\n    <tr>\n      <th>...</th>\n      <td>...</td>\n      <td>...</td>\n      <td>...</td>\n      <td>...</td>\n      <td>...</td>\n      <td>...</td>\n      <td>...</td>\n      <td>...</td>\n      <td>...</td>\n      <td>...</td>\n      <td>...</td>\n      <td>...</td>\n      <td>...</td>\n      <td>...</td>\n      <td>...</td>\n      <td>...</td>\n      <td>...</td>\n      <td>...</td>\n      <td>...</td>\n      <td>...</td>\n      <td>...</td>\n    </tr>\n    <tr>\n      <th>911022</th>\n      <td>5ke0edZBlwRYu01wdej6xq</td>\n      <td>Let Her In</td>\n      <td>4.0</td>\n      <td>False</td>\n      <td>Solo</td>\n      <td>7.0</td>\n      <td>1.0</td>\n      <td>79.0</td>\n      <td>2019-08-23</td>\n      <td>183600.0</td>\n      <td>...</td>\n      <td>0.0</td>\n      <td>0.000000</td>\n      <td>0.0</td>\n      <td>0.0</td>\n      <td>0.0</td>\n      <td>0.0</td>\n      <td>0.0</td>\n      <td>-1.0</td>\n      <td>No Match</td>\n      <td>0.383562</td>\n    </tr>\n    <tr>\n      <th>911023</th>\n      <td>12kc7hUJKpArFQurhlNeNW</td>\n      <td>Stop and Think It Over</td>\n      <td>1.0</td>\n      <td>False</td>\n      <td>Solo</td>\n      <td>9.0</td>\n      <td>1.0</td>\n      <td>79.0</td>\n      <td>2019-08-23</td>\n      <td>154413.0</td>\n      <td>...</td>\n      <td>0.0</td>\n      <td>0.000000</td>\n      <td>0.0</td>\n      <td>0.0</td>\n      <td>0.0</td>\n      <td>0.0</td>\n      <td>0.0</td>\n      <td>-1.0</td>\n      <td>No Match</td>\n      <td>0.172603</td>\n    </tr>\n    <tr>\n      <th>911024</th>\n      <td>0lej8CemYKkWVHg77Xe1ky</td>\n      <td>A Man Holdin' on (To a Woman Lettin’ Go)</td>\n      <td>14.0</td>\n      <td>False</td>\n      <td>Collaboration</td>\n      <td>7.0</td>\n      <td>2.0</td>\n      <td>79.0</td>\n      <td>2019-08-23</td>\n      <td>231898.0</td>\n      <td>...</td>\n      <td>0.0</td>\n      <td>0.666667</td>\n      <td>0.0</td>\n      <td>1.0</td>\n      <td>2.0</td>\n      <td>0.5</td>\n      <td>2.0</td>\n      <td>3.0</td>\n      <td>1A 2A 3A 4A</td>\n      <td>0.191781</td>\n    </tr>\n    <tr>\n      <th>911025</th>\n      <td>7goArBQdsalqclSyaTywAS</td>\n      <td>Shimmy Shimmy Ya</td>\n      <td>7.0</td>\n      <td>False</td>\n      <td>Solo</td>\n      <td>8.0</td>\n      <td>1.0</td>\n      <td>78.0</td>\n      <td>2019-08-23</td>\n      <td>161200.0</td>\n      <td>...</td>\n      <td>0.0</td>\n      <td>0.000000</td>\n      <td>0.0</td>\n      <td>0.0</td>\n      <td>0.0</td>\n      <td>0.0</td>\n      <td>0.0</td>\n      <td>-1.0</td>\n      <td>No Match</td>\n      <td>0.287671</td>\n    </tr>\n    <tr>\n      <th>911026</th>\n      <td>6Fh2QgjCxL96dA3Gtpfr4Q</td>\n      <td>One Sweet Day (16-Bit Mariah Carey &amp; Boyz II M...</td>\n      <td>0.0</td>\n      <td>False</td>\n      <td>Solo</td>\n      <td>27.0</td>\n      <td>1.0</td>\n      <td>79.0</td>\n      <td>2019-08-26</td>\n      <td>260910.0</td>\n      <td>...</td>\n      <td>0.0</td>\n      <td>0.000000</td>\n      <td>0.0</td>\n      <td>0.0</td>\n      <td>0.0</td>\n      <td>0.0</td>\n      <td>0.0</td>\n      <td>-1.0</td>\n      <td>No Match</td>\n      <td>0.517808</td>\n    </tr>\n  </tbody>\n</table>\n<p>911027 rows × 47 columns</p>\n</div>"
     },
     "execution_count": 1,
     "metadata": {},
     "output_type": "execute_result"
    }
   ],
   "source": [
    "import pandas as pd\n",
    "\n",
    "df_hsp_song_collab = pd.read_csv(\"HSP_song_collab.csv\", sep=\",\")\n",
    "df_hsp_song_collab"
   ]
  },
  {
   "cell_type": "markdown",
   "source": [
    "## Setup for Superstar:\n",
    "\n",
    "within 3 years"
   ],
   "metadata": {
    "collapsed": false
   },
   "id": "4430fec788235cae"
  },
  {
   "cell_type": "code",
   "execution_count": 9,
   "outputs": [],
   "source": [
    "max_amount_days = 3*365\n",
    "max_amount_days\n",
    "\n",
    "past_years = 3"
   ],
   "metadata": {
    "collapsed": false,
    "ExecuteTime": {
     "end_time": "2024-04-24T13:55:19.732627300Z",
     "start_time": "2024-04-24T13:55:19.719401400Z"
    }
   },
   "id": "ef79cc8b6e995c3e"
  },
  {
   "cell_type": "code",
   "execution_count": 13,
   "outputs": [
    {
     "data": {
      "text/plain": "(Timestamp('2015-08-19 23:59:59'), Timestamp('2012-08-19 23:59:59'))"
     },
     "execution_count": 13,
     "metadata": {},
     "output_type": "execute_result"
    }
   ],
   "source": [
    "from sklearn.model_selection import train_test_split\n",
    "df_hsp_song_collab['date'] = pd.to_datetime(df_hsp_song_collab['release_date'])\n",
    "df_hsp_song_collab.sort_values(by=\"date\", inplace=True)\n",
    "\n",
    "train_df, test_df = train_test_split(df_hsp_song_collab, test_size=0.25, shuffle=False)\n",
    "#train_df.drop(columns=\"date\", inplace=True)\n",
    "#test_df.drop(columns=\"date\", inplace=True)\n",
    "\n",
    "present = (train_df[\"date\"].iloc[-1]).replace(hour=23, minute=59, second=59)\n",
    "present_id = train_df[\"song_id\"].iloc[-1]\n",
    "border_day = present - pd.DateOffset(years=past_years) #border day doesn't belong to the timeframe\n",
    "\n",
    "present, border_day"
   ],
   "metadata": {
    "collapsed": false,
    "ExecuteTime": {
     "end_time": "2024-04-24T14:06:40.342016900Z",
     "start_time": "2024-04-24T14:06:39.796017700Z"
    }
   },
   "id": "f680972aaae5ee6a"
  },
  {
   "cell_type": "markdown",
   "source": [
    "### days and peak position:"
   ],
   "metadata": {
    "collapsed": false
   },
   "id": "47630050154da34"
  },
  {
   "cell_type": "code",
   "execution_count": 27,
   "outputs": [
    {
     "data": {
      "text/plain": "                       song_id  rank_score  peak_position  weeks_on_chart  \\\n0       3e9HZxeyfWwjeyPAMmWSSQ         100            100               7   \n1       5p7ujcrUXASCNwRaWNHR1C          99             99              11   \n2       2xLMifQCjDGFmkHkpNLD9h          98            100              20   \n3       3KkXRkHbMCARz0aVfEt68P          97             97               9   \n4       1rqqCSm0Qe4I9rUvWncaom          95             96              20   \n...                        ...         ...            ...             ...   \n250387  6vPS75nWOKkuH5WTLD8hDc           7             23               5   \n250388  2BCjoFA0nJlXBLRf3164bN           6              6               0   \n250389  7Gk1QKi2BAZCnrYlrYEDjC           4             11               4   \n250390  7rxev6ErpRE5VYaamjs4T3           2              2               0   \n250391  1TRvdHDqCIcTQpHTZbFttC           1              1               0   \n\n             week  \n0      2018-12-29  \n1      2018-12-29  \n2      2018-12-29  \n3      2018-12-29  \n4      2018-12-29  \n...           ...  \n250387 1964-01-04  \n250388 1964-01-04  \n250389 1964-01-04  \n250390 1964-01-04  \n250391 1964-01-04  \n\n[250392 rows x 5 columns]",
      "text/html": "<div>\n<style scoped>\n    .dataframe tbody tr th:only-of-type {\n        vertical-align: middle;\n    }\n\n    .dataframe tbody tr th {\n        vertical-align: top;\n    }\n\n    .dataframe thead th {\n        text-align: right;\n    }\n</style>\n<table border=\"1\" class=\"dataframe\">\n  <thead>\n    <tr style=\"text-align: right;\">\n      <th></th>\n      <th>song_id</th>\n      <th>rank_score</th>\n      <th>peak_position</th>\n      <th>weeks_on_chart</th>\n      <th>week</th>\n    </tr>\n  </thead>\n  <tbody>\n    <tr>\n      <th>0</th>\n      <td>3e9HZxeyfWwjeyPAMmWSSQ</td>\n      <td>100</td>\n      <td>100</td>\n      <td>7</td>\n      <td>2018-12-29</td>\n    </tr>\n    <tr>\n      <th>1</th>\n      <td>5p7ujcrUXASCNwRaWNHR1C</td>\n      <td>99</td>\n      <td>99</td>\n      <td>11</td>\n      <td>2018-12-29</td>\n    </tr>\n    <tr>\n      <th>2</th>\n      <td>2xLMifQCjDGFmkHkpNLD9h</td>\n      <td>98</td>\n      <td>100</td>\n      <td>20</td>\n      <td>2018-12-29</td>\n    </tr>\n    <tr>\n      <th>3</th>\n      <td>3KkXRkHbMCARz0aVfEt68P</td>\n      <td>97</td>\n      <td>97</td>\n      <td>9</td>\n      <td>2018-12-29</td>\n    </tr>\n    <tr>\n      <th>4</th>\n      <td>1rqqCSm0Qe4I9rUvWncaom</td>\n      <td>95</td>\n      <td>96</td>\n      <td>20</td>\n      <td>2018-12-29</td>\n    </tr>\n    <tr>\n      <th>...</th>\n      <td>...</td>\n      <td>...</td>\n      <td>...</td>\n      <td>...</td>\n      <td>...</td>\n    </tr>\n    <tr>\n      <th>250387</th>\n      <td>6vPS75nWOKkuH5WTLD8hDc</td>\n      <td>7</td>\n      <td>23</td>\n      <td>5</td>\n      <td>1964-01-04</td>\n    </tr>\n    <tr>\n      <th>250388</th>\n      <td>2BCjoFA0nJlXBLRf3164bN</td>\n      <td>6</td>\n      <td>6</td>\n      <td>0</td>\n      <td>1964-01-04</td>\n    </tr>\n    <tr>\n      <th>250389</th>\n      <td>7Gk1QKi2BAZCnrYlrYEDjC</td>\n      <td>4</td>\n      <td>11</td>\n      <td>4</td>\n      <td>1964-01-04</td>\n    </tr>\n    <tr>\n      <th>250390</th>\n      <td>7rxev6ErpRE5VYaamjs4T3</td>\n      <td>2</td>\n      <td>2</td>\n      <td>0</td>\n      <td>1964-01-04</td>\n    </tr>\n    <tr>\n      <th>250391</th>\n      <td>1TRvdHDqCIcTQpHTZbFttC</td>\n      <td>1</td>\n      <td>1</td>\n      <td>0</td>\n      <td>1964-01-04</td>\n    </tr>\n  </tbody>\n</table>\n<p>250392 rows × 5 columns</p>\n</div>"
     },
     "execution_count": 27,
     "metadata": {},
     "output_type": "execute_result"
    }
   ],
   "source": [
    "df_song_chart = pd.read_csv(\"../../MusicOSet/musicoset_popularity/song_chart.csv\", sep=\"\\t\")\n",
    "df_song_chart['week'] = pd.to_datetime(df_song_chart['week']) #evtl später wegen runtime\n",
    "df_song_chart"
   ],
   "metadata": {
    "collapsed": false,
    "ExecuteTime": {
     "end_time": "2024-04-24T14:16:11.813508700Z",
     "start_time": "2024-04-24T14:16:11.645511800Z"
    }
   },
   "id": "20650bbe3a810289"
  },
  {
   "cell_type": "code",
   "execution_count": 28,
   "outputs": [],
   "source": [
    "to_filter = df_song_chart[df_song_chart[\"song_id\"] == present_id] ## if len == 0 append 1 "
   ],
   "metadata": {
    "collapsed": false,
    "ExecuteTime": {
     "end_time": "2024-04-24T14:16:11.905510500Z",
     "start_time": "2024-04-24T14:16:11.801510600Z"
    }
   },
   "id": "24813ee11b8fda90"
  },
  {
   "cell_type": "code",
   "execution_count": 38,
   "outputs": [
    {
     "data": {
      "text/plain": "                      song_id  rank_score  peak_position  weeks_on_chart  \\\n12415  7yq4Qj7cqayVTp3FF9CWbm          51             71              44   \n12475  7yq4Qj7cqayVTp3FF9CWbm          59             71              43   \n12537  7yq4Qj7cqayVTp3FF9CWbm          63             71              42   \n12600  7yq4Qj7cqayVTp3FF9CWbm          61             71              41   \n12664  7yq4Qj7cqayVTp3FF9CWbm          63             71              40   \n12732  7yq4Qj7cqayVTp3FF9CWbm          61             71              39   \n12799  7yq4Qj7cqayVTp3FF9CWbm          63             71              38   \n12867  7yq4Qj7cqayVTp3FF9CWbm          64             71              37   \n12932  7yq4Qj7cqayVTp3FF9CWbm          68             71              36   \n13000  7yq4Qj7cqayVTp3FF9CWbm          70             71              35   \n13071  7yq4Qj7cqayVTp3FF9CWbm          69             71              34   \n13141  7yq4Qj7cqayVTp3FF9CWbm          68             71              33   \n13203  7yq4Qj7cqayVTp3FF9CWbm          69             71              32   \n13272  7yq4Qj7cqayVTp3FF9CWbm          70             71              31   \n13337  7yq4Qj7cqayVTp3FF9CWbm          71             71              30   \n13400  7yq4Qj7cqayVTp3FF9CWbm          68             69              29   \n13465  7yq4Qj7cqayVTp3FF9CWbm          65             69              28   \n13529  7yq4Qj7cqayVTp3FF9CWbm          69             69              27   \n13595  7yq4Qj7cqayVTp3FF9CWbm          69             69              26   \n13660  7yq4Qj7cqayVTp3FF9CWbm          69             69              25   \n13729  7yq4Qj7cqayVTp3FF9CWbm          64             69              24   \n13799  7yq4Qj7cqayVTp3FF9CWbm          61             69              23   \n13864  7yq4Qj7cqayVTp3FF9CWbm          67             69              22   \n13928  7yq4Qj7cqayVTp3FF9CWbm          69             69              21   \n14009  7yq4Qj7cqayVTp3FF9CWbm          55             55              20   \n14080  7yq4Qj7cqayVTp3FF9CWbm          53             54              19   \n14152  7yq4Qj7cqayVTp3FF9CWbm          52             54              18   \n14217  7yq4Qj7cqayVTp3FF9CWbm          54             54              17   \n14281  7yq4Qj7cqayVTp3FF9CWbm          51             51              16   \n14348  7yq4Qj7cqayVTp3FF9CWbm          48             49              15   \n14408  7yq4Qj7cqayVTp3FF9CWbm          49             49              14   \n14470  7yq4Qj7cqayVTp3FF9CWbm          47             47              13   \n14533  7yq4Qj7cqayVTp3FF9CWbm          46             46              12   \n14598  7yq4Qj7cqayVTp3FF9CWbm          42             42              11   \n14661  7yq4Qj7cqayVTp3FF9CWbm          40             40              10   \n14727  7yq4Qj7cqayVTp3FF9CWbm          40             40               9   \n14795  7yq4Qj7cqayVTp3FF9CWbm          37             37               8   \n14864  7yq4Qj7cqayVTp3FF9CWbm          37             37               7   \n14935  7yq4Qj7cqayVTp3FF9CWbm          31             31               6   \n15008  7yq4Qj7cqayVTp3FF9CWbm          26             26               5   \n15078  7yq4Qj7cqayVTp3FF9CWbm          26             26               4   \n15153  7yq4Qj7cqayVTp3FF9CWbm          16             16               3   \n15223  7yq4Qj7cqayVTp3FF9CWbm          12             12               2   \n15286  7yq4Qj7cqayVTp3FF9CWbm           9              9               0   \n\n            week  \n12415 2015-05-09  \n12475 2015-05-02  \n12537 2015-04-25  \n12600 2015-04-18  \n12664 2015-04-11  \n12732 2015-04-04  \n12799 2015-03-28  \n12867 2015-03-21  \n12932 2015-03-14  \n13000 2015-03-07  \n13071 2015-02-28  \n13141 2015-02-21  \n13203 2015-02-14  \n13272 2015-02-07  \n13337 2015-01-31  \n13400 2015-01-24  \n13465 2015-01-17  \n13529 2015-01-10  \n13595 2015-01-03  \n13660 2014-12-27  \n13729 2014-12-20  \n13799 2014-12-13  \n13864 2014-12-06  \n13928 2014-11-29  \n14009 2014-11-22  \n14080 2014-11-15  \n14152 2014-11-08  \n14217 2014-11-01  \n14281 2014-10-25  \n14348 2014-10-18  \n14408 2014-10-11  \n14470 2014-10-04  \n14533 2014-09-27  \n14598 2014-09-20  \n14661 2014-09-13  \n14727 2014-09-06  \n14795 2014-08-30  \n14864 2014-08-23  \n14935 2014-08-16  \n15008 2014-08-09  \n15078 2014-08-02  \n15153 2014-07-26  \n15223 2014-07-19  \n15286 2014-07-12  ",
      "text/html": "<div>\n<style scoped>\n    .dataframe tbody tr th:only-of-type {\n        vertical-align: middle;\n    }\n\n    .dataframe tbody tr th {\n        vertical-align: top;\n    }\n\n    .dataframe thead th {\n        text-align: right;\n    }\n</style>\n<table border=\"1\" class=\"dataframe\">\n  <thead>\n    <tr style=\"text-align: right;\">\n      <th></th>\n      <th>song_id</th>\n      <th>rank_score</th>\n      <th>peak_position</th>\n      <th>weeks_on_chart</th>\n      <th>week</th>\n    </tr>\n  </thead>\n  <tbody>\n    <tr>\n      <th>12415</th>\n      <td>7yq4Qj7cqayVTp3FF9CWbm</td>\n      <td>51</td>\n      <td>71</td>\n      <td>44</td>\n      <td>2015-05-09</td>\n    </tr>\n    <tr>\n      <th>12475</th>\n      <td>7yq4Qj7cqayVTp3FF9CWbm</td>\n      <td>59</td>\n      <td>71</td>\n      <td>43</td>\n      <td>2015-05-02</td>\n    </tr>\n    <tr>\n      <th>12537</th>\n      <td>7yq4Qj7cqayVTp3FF9CWbm</td>\n      <td>63</td>\n      <td>71</td>\n      <td>42</td>\n      <td>2015-04-25</td>\n    </tr>\n    <tr>\n      <th>12600</th>\n      <td>7yq4Qj7cqayVTp3FF9CWbm</td>\n      <td>61</td>\n      <td>71</td>\n      <td>41</td>\n      <td>2015-04-18</td>\n    </tr>\n    <tr>\n      <th>12664</th>\n      <td>7yq4Qj7cqayVTp3FF9CWbm</td>\n      <td>63</td>\n      <td>71</td>\n      <td>40</td>\n      <td>2015-04-11</td>\n    </tr>\n    <tr>\n      <th>12732</th>\n      <td>7yq4Qj7cqayVTp3FF9CWbm</td>\n      <td>61</td>\n      <td>71</td>\n      <td>39</td>\n      <td>2015-04-04</td>\n    </tr>\n    <tr>\n      <th>12799</th>\n      <td>7yq4Qj7cqayVTp3FF9CWbm</td>\n      <td>63</td>\n      <td>71</td>\n      <td>38</td>\n      <td>2015-03-28</td>\n    </tr>\n    <tr>\n      <th>12867</th>\n      <td>7yq4Qj7cqayVTp3FF9CWbm</td>\n      <td>64</td>\n      <td>71</td>\n      <td>37</td>\n      <td>2015-03-21</td>\n    </tr>\n    <tr>\n      <th>12932</th>\n      <td>7yq4Qj7cqayVTp3FF9CWbm</td>\n      <td>68</td>\n      <td>71</td>\n      <td>36</td>\n      <td>2015-03-14</td>\n    </tr>\n    <tr>\n      <th>13000</th>\n      <td>7yq4Qj7cqayVTp3FF9CWbm</td>\n      <td>70</td>\n      <td>71</td>\n      <td>35</td>\n      <td>2015-03-07</td>\n    </tr>\n    <tr>\n      <th>13071</th>\n      <td>7yq4Qj7cqayVTp3FF9CWbm</td>\n      <td>69</td>\n      <td>71</td>\n      <td>34</td>\n      <td>2015-02-28</td>\n    </tr>\n    <tr>\n      <th>13141</th>\n      <td>7yq4Qj7cqayVTp3FF9CWbm</td>\n      <td>68</td>\n      <td>71</td>\n      <td>33</td>\n      <td>2015-02-21</td>\n    </tr>\n    <tr>\n      <th>13203</th>\n      <td>7yq4Qj7cqayVTp3FF9CWbm</td>\n      <td>69</td>\n      <td>71</td>\n      <td>32</td>\n      <td>2015-02-14</td>\n    </tr>\n    <tr>\n      <th>13272</th>\n      <td>7yq4Qj7cqayVTp3FF9CWbm</td>\n      <td>70</td>\n      <td>71</td>\n      <td>31</td>\n      <td>2015-02-07</td>\n    </tr>\n    <tr>\n      <th>13337</th>\n      <td>7yq4Qj7cqayVTp3FF9CWbm</td>\n      <td>71</td>\n      <td>71</td>\n      <td>30</td>\n      <td>2015-01-31</td>\n    </tr>\n    <tr>\n      <th>13400</th>\n      <td>7yq4Qj7cqayVTp3FF9CWbm</td>\n      <td>68</td>\n      <td>69</td>\n      <td>29</td>\n      <td>2015-01-24</td>\n    </tr>\n    <tr>\n      <th>13465</th>\n      <td>7yq4Qj7cqayVTp3FF9CWbm</td>\n      <td>65</td>\n      <td>69</td>\n      <td>28</td>\n      <td>2015-01-17</td>\n    </tr>\n    <tr>\n      <th>13529</th>\n      <td>7yq4Qj7cqayVTp3FF9CWbm</td>\n      <td>69</td>\n      <td>69</td>\n      <td>27</td>\n      <td>2015-01-10</td>\n    </tr>\n    <tr>\n      <th>13595</th>\n      <td>7yq4Qj7cqayVTp3FF9CWbm</td>\n      <td>69</td>\n      <td>69</td>\n      <td>26</td>\n      <td>2015-01-03</td>\n    </tr>\n    <tr>\n      <th>13660</th>\n      <td>7yq4Qj7cqayVTp3FF9CWbm</td>\n      <td>69</td>\n      <td>69</td>\n      <td>25</td>\n      <td>2014-12-27</td>\n    </tr>\n    <tr>\n      <th>13729</th>\n      <td>7yq4Qj7cqayVTp3FF9CWbm</td>\n      <td>64</td>\n      <td>69</td>\n      <td>24</td>\n      <td>2014-12-20</td>\n    </tr>\n    <tr>\n      <th>13799</th>\n      <td>7yq4Qj7cqayVTp3FF9CWbm</td>\n      <td>61</td>\n      <td>69</td>\n      <td>23</td>\n      <td>2014-12-13</td>\n    </tr>\n    <tr>\n      <th>13864</th>\n      <td>7yq4Qj7cqayVTp3FF9CWbm</td>\n      <td>67</td>\n      <td>69</td>\n      <td>22</td>\n      <td>2014-12-06</td>\n    </tr>\n    <tr>\n      <th>13928</th>\n      <td>7yq4Qj7cqayVTp3FF9CWbm</td>\n      <td>69</td>\n      <td>69</td>\n      <td>21</td>\n      <td>2014-11-29</td>\n    </tr>\n    <tr>\n      <th>14009</th>\n      <td>7yq4Qj7cqayVTp3FF9CWbm</td>\n      <td>55</td>\n      <td>55</td>\n      <td>20</td>\n      <td>2014-11-22</td>\n    </tr>\n    <tr>\n      <th>14080</th>\n      <td>7yq4Qj7cqayVTp3FF9CWbm</td>\n      <td>53</td>\n      <td>54</td>\n      <td>19</td>\n      <td>2014-11-15</td>\n    </tr>\n    <tr>\n      <th>14152</th>\n      <td>7yq4Qj7cqayVTp3FF9CWbm</td>\n      <td>52</td>\n      <td>54</td>\n      <td>18</td>\n      <td>2014-11-08</td>\n    </tr>\n    <tr>\n      <th>14217</th>\n      <td>7yq4Qj7cqayVTp3FF9CWbm</td>\n      <td>54</td>\n      <td>54</td>\n      <td>17</td>\n      <td>2014-11-01</td>\n    </tr>\n    <tr>\n      <th>14281</th>\n      <td>7yq4Qj7cqayVTp3FF9CWbm</td>\n      <td>51</td>\n      <td>51</td>\n      <td>16</td>\n      <td>2014-10-25</td>\n    </tr>\n    <tr>\n      <th>14348</th>\n      <td>7yq4Qj7cqayVTp3FF9CWbm</td>\n      <td>48</td>\n      <td>49</td>\n      <td>15</td>\n      <td>2014-10-18</td>\n    </tr>\n    <tr>\n      <th>14408</th>\n      <td>7yq4Qj7cqayVTp3FF9CWbm</td>\n      <td>49</td>\n      <td>49</td>\n      <td>14</td>\n      <td>2014-10-11</td>\n    </tr>\n    <tr>\n      <th>14470</th>\n      <td>7yq4Qj7cqayVTp3FF9CWbm</td>\n      <td>47</td>\n      <td>47</td>\n      <td>13</td>\n      <td>2014-10-04</td>\n    </tr>\n    <tr>\n      <th>14533</th>\n      <td>7yq4Qj7cqayVTp3FF9CWbm</td>\n      <td>46</td>\n      <td>46</td>\n      <td>12</td>\n      <td>2014-09-27</td>\n    </tr>\n    <tr>\n      <th>14598</th>\n      <td>7yq4Qj7cqayVTp3FF9CWbm</td>\n      <td>42</td>\n      <td>42</td>\n      <td>11</td>\n      <td>2014-09-20</td>\n    </tr>\n    <tr>\n      <th>14661</th>\n      <td>7yq4Qj7cqayVTp3FF9CWbm</td>\n      <td>40</td>\n      <td>40</td>\n      <td>10</td>\n      <td>2014-09-13</td>\n    </tr>\n    <tr>\n      <th>14727</th>\n      <td>7yq4Qj7cqayVTp3FF9CWbm</td>\n      <td>40</td>\n      <td>40</td>\n      <td>9</td>\n      <td>2014-09-06</td>\n    </tr>\n    <tr>\n      <th>14795</th>\n      <td>7yq4Qj7cqayVTp3FF9CWbm</td>\n      <td>37</td>\n      <td>37</td>\n      <td>8</td>\n      <td>2014-08-30</td>\n    </tr>\n    <tr>\n      <th>14864</th>\n      <td>7yq4Qj7cqayVTp3FF9CWbm</td>\n      <td>37</td>\n      <td>37</td>\n      <td>7</td>\n      <td>2014-08-23</td>\n    </tr>\n    <tr>\n      <th>14935</th>\n      <td>7yq4Qj7cqayVTp3FF9CWbm</td>\n      <td>31</td>\n      <td>31</td>\n      <td>6</td>\n      <td>2014-08-16</td>\n    </tr>\n    <tr>\n      <th>15008</th>\n      <td>7yq4Qj7cqayVTp3FF9CWbm</td>\n      <td>26</td>\n      <td>26</td>\n      <td>5</td>\n      <td>2014-08-09</td>\n    </tr>\n    <tr>\n      <th>15078</th>\n      <td>7yq4Qj7cqayVTp3FF9CWbm</td>\n      <td>26</td>\n      <td>26</td>\n      <td>4</td>\n      <td>2014-08-02</td>\n    </tr>\n    <tr>\n      <th>15153</th>\n      <td>7yq4Qj7cqayVTp3FF9CWbm</td>\n      <td>16</td>\n      <td>16</td>\n      <td>3</td>\n      <td>2014-07-26</td>\n    </tr>\n    <tr>\n      <th>15223</th>\n      <td>7yq4Qj7cqayVTp3FF9CWbm</td>\n      <td>12</td>\n      <td>12</td>\n      <td>2</td>\n      <td>2014-07-19</td>\n    </tr>\n    <tr>\n      <th>15286</th>\n      <td>7yq4Qj7cqayVTp3FF9CWbm</td>\n      <td>9</td>\n      <td>9</td>\n      <td>0</td>\n      <td>2014-07-12</td>\n    </tr>\n  </tbody>\n</table>\n</div>"
     },
     "execution_count": 38,
     "metadata": {},
     "output_type": "execute_result"
    }
   ],
   "source": [
    "#mit bsp id\n",
    "\n",
    "to_filter = df_song_chart[df_song_chart[\"song_id\"] == \"7yq4Qj7cqayVTp3FF9CWbm\"]#.copy()\n",
    "#to_filter['week'] = pd.to_datetime(to_filter['week'])\n",
    "to_filter = to_filter[(to_filter[\"week\"] < present) & (to_filter[\"week\"] > border_day)]#pd.Timestamp(\"2015-05-02\"))] ist immer für die Vergangene Woche das chart datum?\n",
    "to_filter"
   ],
   "metadata": {
    "collapsed": false,
    "ExecuteTime": {
     "end_time": "2024-04-24T14:22:27.375924Z",
     "start_time": "2024-04-24T14:22:27.349795100Z"
    }
   },
   "id": "89c08e57f26dfe48"
  },
  {
   "cell_type": "code",
   "execution_count": 45,
   "outputs": [
    {
     "data": {
      "text/plain": "(9, 15286)"
     },
     "execution_count": 45,
     "metadata": {},
     "output_type": "execute_result"
    }
   ],
   "source": [
    "min_peak_position = to_filter[\"peak_position\"].min()\n",
    "peak_position_index = to_filter[\"peak_position\"].idxmin()  #returns first occurance and therfore newer pos\n",
    "min_peak_position, peak_position_index #best chart placement (append)"
   ],
   "metadata": {
    "collapsed": false,
    "ExecuteTime": {
     "end_time": "2024-04-24T14:36:24.481928800Z",
     "start_time": "2024-04-24T14:36:24.462609300Z"
    }
   },
   "id": "80b27f25a9fbd3b9"
  },
  {
   "cell_type": "code",
   "execution_count": 48,
   "outputs": [
    {
     "data": {
      "text/plain": "Timestamp('2014-07-12 00:00:00')"
     },
     "execution_count": 48,
     "metadata": {},
     "output_type": "execute_result"
    }
   ],
   "source": [
    "peak_week = to_filter.loc[peak_position_index][\"week\"]\n",
    "peak_week"
   ],
   "metadata": {
    "collapsed": false,
    "ExecuteTime": {
     "end_time": "2024-04-24T14:36:53.039045800Z",
     "start_time": "2024-04-24T14:36:52.977047100Z"
    }
   },
   "id": "de5304aecf37b85b"
  },
  {
   "cell_type": "code",
   "execution_count": 49,
   "outputs": [
    {
     "data": {
      "text/plain": "Timedelta('403 days 23:59:59')"
     },
     "execution_count": 49,
     "metadata": {},
     "output_type": "execute_result"
    }
   ],
   "source": [
    "distance = abs(peak_week - present) #distance from peak chart placement\n",
    "distance"
   ],
   "metadata": {
    "collapsed": false,
    "ExecuteTime": {
     "end_time": "2024-04-24T14:45:04.963402600Z",
     "start_time": "2024-04-24T14:45:04.952403600Z"
    }
   },
   "id": "dd59e797e374a51f"
  },
  {
   "cell_type": "code",
   "execution_count": null,
   "outputs": [],
   "source": [
    "seconds_float = distance.total_seconds()  #distance as float append"
   ],
   "metadata": {
    "collapsed": false
   },
   "id": "1a772b2651234628"
  }
 ],
 "metadata": {
  "kernelspec": {
   "display_name": "Python 3",
   "language": "python",
   "name": "python3"
  },
  "language_info": {
   "codemirror_mode": {
    "name": "ipython",
    "version": 2
   },
   "file_extension": ".py",
   "mimetype": "text/x-python",
   "name": "python",
   "nbconvert_exporter": "python",
   "pygments_lexer": "ipython2",
   "version": "2.7.6"
  }
 },
 "nbformat": 4,
 "nbformat_minor": 5
}
