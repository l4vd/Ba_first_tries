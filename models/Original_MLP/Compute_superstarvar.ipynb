{
 "cells": [
  {
   "cell_type": "code",
   "execution_count": 1,
   "id": "initial_id",
   "metadata": {
    "collapsed": true,
    "ExecuteTime": {
     "end_time": "2024-06-24T12:10:41.470550600Z",
     "start_time": "2024-06-24T12:10:36.669552400Z"
    }
   },
   "outputs": [
    {
     "data": {
      "text/plain": "                       song_id  \\\n0       7kXUEJmfvRXbzxOC0pHQgb   \n1       7A131DrpfbWAfNJLrxikwf   \n2       4SRjOJm5AjO3fxXpZSTEBb   \n3       592dtCLAyLQdUallLhJinO   \n4       2hMAApqyXl7nf2s8dQ6BTv   \n...                        ...   \n911022  5ke0edZBlwRYu01wdej6xq   \n911023  12kc7hUJKpArFQurhlNeNW   \n911024  0lej8CemYKkWVHg77Xe1ky   \n911025  7goArBQdsalqclSyaTywAS   \n911026  6Fh2QgjCxL96dA3Gtpfr4Q   \n\n                                                song_name  song_popularity  \\\n0                          I Can't Believe I'm Losing You              5.0   \n1                                       Top Of The Stairs             26.0   \n2                                   Never Crossed My Mind             20.0   \n3                                              Daddy Cool              1.0   \n4                                     Shame, Shame, Shame              0.0   \n...                                                   ...              ...   \n911022                                         Let Her In              4.0   \n911023                             Stop and Think It Over              1.0   \n911024           A Man Holdin' on (To a Woman Lettin’ Go)             14.0   \n911025                                   Shimmy Shimmy Ya              7.0   \n911026  One Sweet Day (16-Bit Mariah Carey & Boyz II M...              0.0   \n\n        explicit      song_type  track_number  num_artists  \\\n0          False           Solo          12.0          1.0   \n1          False           Solo           4.0          1.0   \n2          False           Solo           3.0          1.0   \n3          False           Solo           6.0          1.0   \n4          False           Solo          15.0          1.0   \n...          ...            ...           ...          ...   \n911022     False           Solo           7.0          1.0   \n911023     False           Solo           9.0          1.0   \n911024     False  Collaboration           7.0          2.0   \n911025     False           Solo           8.0          1.0   \n911026     False           Solo          27.0          1.0   \n\n        num_available_markets release_date  duration_ms  ...  degree_y  \\\n0                        79.0   1995-01-01     162667.0  ...       0.0   \n1                         2.0   1995-01-01     271307.0  ...       0.0   \n2                         2.0   1995-01-01     242027.0  ...       0.0   \n3                        79.0   1995-01-01     201307.0  ...       0.0   \n4                        79.0   1995-01-01     231973.0  ...       0.0   \n...                       ...          ...          ...  ...       ...   \n911022                   79.0   2019-08-23     183600.0  ...       0.0   \n911023                   79.0   2019-08-23     154413.0  ...       0.0   \n911024                   79.0   2019-08-23     231898.0  ...       3.0   \n911025                   78.0   2019-08-23     161200.0  ...       0.0   \n911026                   79.0   2019-08-26     260910.0  ...       0.0   \n\n        eccentricity_y  eigencentrality_y  weighted degree_y  pagerank_y  \\\n0                  0.0           0.000000                0.0    0.000000   \n1                  0.0           0.000000                0.0    0.000000   \n2                  0.0           0.000000                0.0    0.000000   \n3                  0.0           0.000000                0.0    0.000000   \n4                  0.0           0.000000                0.0    0.000000   \n...                ...                ...                ...         ...   \n911022             0.0           0.000000                0.0    0.000000   \n911023             0.0           0.000000                0.0    0.000000   \n911024             2.0           0.591008                6.0    0.000034   \n911025             0.0           0.000000                0.0    0.000000   \n911026             0.0           0.000000                0.0    0.000000   \n\n        Cluster_y    profile_y  artist1_num  artist2_num  years_on_charts  \n0            -1.0     No Match      16718.0          0.0         0.000000  \n1            -1.0     No Match       1409.0          0.0         0.000000  \n2            -1.0     No Match       1409.0          0.0         0.000000  \n3            -1.0     No Match      19358.0          0.0         0.000000  \n4            -1.0     No Match      19358.0          0.0         0.000000  \n...           ...          ...          ...          ...              ...  \n911022       -1.0     No Match       6827.0          0.0         0.383562  \n911023       -1.0     No Match      18996.0          0.0         0.172603  \n911024        3.0  1A 2A 3A 4A      18904.0      12816.0         0.191781  \n911025       -1.0     No Match      10723.0          0.0         0.287671  \n911026       -1.0     No Match       6625.0          0.0         0.517808  \n\n[911027 rows x 50 columns]",
      "text/html": "<div>\n<style scoped>\n    .dataframe tbody tr th:only-of-type {\n        vertical-align: middle;\n    }\n\n    .dataframe tbody tr th {\n        vertical-align: top;\n    }\n\n    .dataframe thead th {\n        text-align: right;\n    }\n</style>\n<table border=\"1\" class=\"dataframe\">\n  <thead>\n    <tr style=\"text-align: right;\">\n      <th></th>\n      <th>song_id</th>\n      <th>song_name</th>\n      <th>song_popularity</th>\n      <th>explicit</th>\n      <th>song_type</th>\n      <th>track_number</th>\n      <th>num_artists</th>\n      <th>num_available_markets</th>\n      <th>release_date</th>\n      <th>duration_ms</th>\n      <th>...</th>\n      <th>degree_y</th>\n      <th>eccentricity_y</th>\n      <th>eigencentrality_y</th>\n      <th>weighted degree_y</th>\n      <th>pagerank_y</th>\n      <th>Cluster_y</th>\n      <th>profile_y</th>\n      <th>artist1_num</th>\n      <th>artist2_num</th>\n      <th>years_on_charts</th>\n    </tr>\n  </thead>\n  <tbody>\n    <tr>\n      <th>0</th>\n      <td>7kXUEJmfvRXbzxOC0pHQgb</td>\n      <td>I Can't Believe I'm Losing You</td>\n      <td>5.0</td>\n      <td>False</td>\n      <td>Solo</td>\n      <td>12.0</td>\n      <td>1.0</td>\n      <td>79.0</td>\n      <td>1995-01-01</td>\n      <td>162667.0</td>\n      <td>...</td>\n      <td>0.0</td>\n      <td>0.0</td>\n      <td>0.000000</td>\n      <td>0.0</td>\n      <td>0.000000</td>\n      <td>-1.0</td>\n      <td>No Match</td>\n      <td>16718.0</td>\n      <td>0.0</td>\n      <td>0.000000</td>\n    </tr>\n    <tr>\n      <th>1</th>\n      <td>7A131DrpfbWAfNJLrxikwf</td>\n      <td>Top Of The Stairs</td>\n      <td>26.0</td>\n      <td>False</td>\n      <td>Solo</td>\n      <td>4.0</td>\n      <td>1.0</td>\n      <td>2.0</td>\n      <td>1995-01-01</td>\n      <td>271307.0</td>\n      <td>...</td>\n      <td>0.0</td>\n      <td>0.0</td>\n      <td>0.000000</td>\n      <td>0.0</td>\n      <td>0.000000</td>\n      <td>-1.0</td>\n      <td>No Match</td>\n      <td>1409.0</td>\n      <td>0.0</td>\n      <td>0.000000</td>\n    </tr>\n    <tr>\n      <th>2</th>\n      <td>4SRjOJm5AjO3fxXpZSTEBb</td>\n      <td>Never Crossed My Mind</td>\n      <td>20.0</td>\n      <td>False</td>\n      <td>Solo</td>\n      <td>3.0</td>\n      <td>1.0</td>\n      <td>2.0</td>\n      <td>1995-01-01</td>\n      <td>242027.0</td>\n      <td>...</td>\n      <td>0.0</td>\n      <td>0.0</td>\n      <td>0.000000</td>\n      <td>0.0</td>\n      <td>0.000000</td>\n      <td>-1.0</td>\n      <td>No Match</td>\n      <td>1409.0</td>\n      <td>0.0</td>\n      <td>0.000000</td>\n    </tr>\n    <tr>\n      <th>3</th>\n      <td>592dtCLAyLQdUallLhJinO</td>\n      <td>Daddy Cool</td>\n      <td>1.0</td>\n      <td>False</td>\n      <td>Solo</td>\n      <td>6.0</td>\n      <td>1.0</td>\n      <td>79.0</td>\n      <td>1995-01-01</td>\n      <td>201307.0</td>\n      <td>...</td>\n      <td>0.0</td>\n      <td>0.0</td>\n      <td>0.000000</td>\n      <td>0.0</td>\n      <td>0.000000</td>\n      <td>-1.0</td>\n      <td>No Match</td>\n      <td>19358.0</td>\n      <td>0.0</td>\n      <td>0.000000</td>\n    </tr>\n    <tr>\n      <th>4</th>\n      <td>2hMAApqyXl7nf2s8dQ6BTv</td>\n      <td>Shame, Shame, Shame</td>\n      <td>0.0</td>\n      <td>False</td>\n      <td>Solo</td>\n      <td>15.0</td>\n      <td>1.0</td>\n      <td>79.0</td>\n      <td>1995-01-01</td>\n      <td>231973.0</td>\n      <td>...</td>\n      <td>0.0</td>\n      <td>0.0</td>\n      <td>0.000000</td>\n      <td>0.0</td>\n      <td>0.000000</td>\n      <td>-1.0</td>\n      <td>No Match</td>\n      <td>19358.0</td>\n      <td>0.0</td>\n      <td>0.000000</td>\n    </tr>\n    <tr>\n      <th>...</th>\n      <td>...</td>\n      <td>...</td>\n      <td>...</td>\n      <td>...</td>\n      <td>...</td>\n      <td>...</td>\n      <td>...</td>\n      <td>...</td>\n      <td>...</td>\n      <td>...</td>\n      <td>...</td>\n      <td>...</td>\n      <td>...</td>\n      <td>...</td>\n      <td>...</td>\n      <td>...</td>\n      <td>...</td>\n      <td>...</td>\n      <td>...</td>\n      <td>...</td>\n      <td>...</td>\n    </tr>\n    <tr>\n      <th>911022</th>\n      <td>5ke0edZBlwRYu01wdej6xq</td>\n      <td>Let Her In</td>\n      <td>4.0</td>\n      <td>False</td>\n      <td>Solo</td>\n      <td>7.0</td>\n      <td>1.0</td>\n      <td>79.0</td>\n      <td>2019-08-23</td>\n      <td>183600.0</td>\n      <td>...</td>\n      <td>0.0</td>\n      <td>0.0</td>\n      <td>0.000000</td>\n      <td>0.0</td>\n      <td>0.000000</td>\n      <td>-1.0</td>\n      <td>No Match</td>\n      <td>6827.0</td>\n      <td>0.0</td>\n      <td>0.383562</td>\n    </tr>\n    <tr>\n      <th>911023</th>\n      <td>12kc7hUJKpArFQurhlNeNW</td>\n      <td>Stop and Think It Over</td>\n      <td>1.0</td>\n      <td>False</td>\n      <td>Solo</td>\n      <td>9.0</td>\n      <td>1.0</td>\n      <td>79.0</td>\n      <td>2019-08-23</td>\n      <td>154413.0</td>\n      <td>...</td>\n      <td>0.0</td>\n      <td>0.0</td>\n      <td>0.000000</td>\n      <td>0.0</td>\n      <td>0.000000</td>\n      <td>-1.0</td>\n      <td>No Match</td>\n      <td>18996.0</td>\n      <td>0.0</td>\n      <td>0.172603</td>\n    </tr>\n    <tr>\n      <th>911024</th>\n      <td>0lej8CemYKkWVHg77Xe1ky</td>\n      <td>A Man Holdin' on (To a Woman Lettin’ Go)</td>\n      <td>14.0</td>\n      <td>False</td>\n      <td>Collaboration</td>\n      <td>7.0</td>\n      <td>2.0</td>\n      <td>79.0</td>\n      <td>2019-08-23</td>\n      <td>231898.0</td>\n      <td>...</td>\n      <td>3.0</td>\n      <td>2.0</td>\n      <td>0.591008</td>\n      <td>6.0</td>\n      <td>0.000034</td>\n      <td>3.0</td>\n      <td>1A 2A 3A 4A</td>\n      <td>18904.0</td>\n      <td>12816.0</td>\n      <td>0.191781</td>\n    </tr>\n    <tr>\n      <th>911025</th>\n      <td>7goArBQdsalqclSyaTywAS</td>\n      <td>Shimmy Shimmy Ya</td>\n      <td>7.0</td>\n      <td>False</td>\n      <td>Solo</td>\n      <td>8.0</td>\n      <td>1.0</td>\n      <td>78.0</td>\n      <td>2019-08-23</td>\n      <td>161200.0</td>\n      <td>...</td>\n      <td>0.0</td>\n      <td>0.0</td>\n      <td>0.000000</td>\n      <td>0.0</td>\n      <td>0.000000</td>\n      <td>-1.0</td>\n      <td>No Match</td>\n      <td>10723.0</td>\n      <td>0.0</td>\n      <td>0.287671</td>\n    </tr>\n    <tr>\n      <th>911026</th>\n      <td>6Fh2QgjCxL96dA3Gtpfr4Q</td>\n      <td>One Sweet Day (16-Bit Mariah Carey &amp; Boyz II M...</td>\n      <td>0.0</td>\n      <td>False</td>\n      <td>Solo</td>\n      <td>27.0</td>\n      <td>1.0</td>\n      <td>79.0</td>\n      <td>2019-08-26</td>\n      <td>260910.0</td>\n      <td>...</td>\n      <td>0.0</td>\n      <td>0.0</td>\n      <td>0.000000</td>\n      <td>0.0</td>\n      <td>0.000000</td>\n      <td>-1.0</td>\n      <td>No Match</td>\n      <td>6625.0</td>\n      <td>0.0</td>\n      <td>0.517808</td>\n    </tr>\n  </tbody>\n</table>\n<p>911027 rows × 50 columns</p>\n</div>"
     },
     "execution_count": 1,
     "metadata": {},
     "output_type": "execute_result"
    }
   ],
   "source": [
    "import pandas as pd\n",
    "\n",
    "df_hsp_song_collab = pd.read_csv(\"HSP_song_collab.csv\", sep=\",\")\n",
    "df_hsp_song_collab"
   ]
  },
  {
   "cell_type": "markdown",
   "source": [
    "## Setup for Superstar:\n",
    "\n",
    "within 3 years"
   ],
   "metadata": {
    "collapsed": false
   },
   "id": "4430fec788235cae"
  },
  {
   "cell_type": "code",
   "execution_count": 2,
   "outputs": [],
   "source": [
    "max_amount_days = 3*365\n",
    "max_amount_days\n",
    "\n",
    "past_years = 3"
   ],
   "metadata": {
    "collapsed": false,
    "ExecuteTime": {
     "end_time": "2024-06-24T12:10:41.482554600Z",
     "start_time": "2024-06-24T12:10:41.467552600Z"
    }
   },
   "id": "ef79cc8b6e995c3e"
  },
  {
   "cell_type": "code",
   "execution_count": 3,
   "outputs": [
    {
     "data": {
      "text/plain": "(Timestamp('2015-08-19 23:59:59'), Timestamp('2012-08-19 23:59:59'))"
     },
     "execution_count": 3,
     "metadata": {},
     "output_type": "execute_result"
    }
   ],
   "source": [
    "from sklearn.model_selection import train_test_split\n",
    "df_hsp_song_collab['date'] = pd.to_datetime(df_hsp_song_collab['release_date'])\n",
    "df_hsp_song_collab.sort_values(by=\"date\", inplace=True)\n",
    "\n",
    "# split_day = df_hsp_song_collab[\"date\"].iloc[-1]  - pd.DateOffset(years=1)\n",
    "# train_df = df_hsp_song_collab[(df_hsp_song_collab[\"date\"]  < split_day)].copy()\n",
    "# test_df = df_hsp_song_collab[(df_hsp_song_collab[\"date\"]  >= split_day)].copy()\n",
    "train_df, test_df = train_test_split(df_hsp_song_collab, test_size=0.25, shuffle=False)\n",
    "#train_df.drop(columns=\"date\", inplace=True)\n",
    "#test_df.drop(columns=\"date\", inplace=True)\n",
    "\n",
    "present = (train_df[\"date\"].iloc[-1]).replace(hour=23, minute=59, second=59)\n",
    "present_id = train_df[\"song_id\"].iloc[-1]\n",
    "border_day = present - pd.DateOffset(years=past_years) #border day doesn't belong to the timeframe\n",
    "\n",
    "present, border_day"
   ],
   "metadata": {
    "collapsed": false,
    "ExecuteTime": {
     "end_time": "2024-06-24T12:10:42.748417800Z",
     "start_time": "2024-06-24T12:10:41.483552600Z"
    }
   },
   "id": "f680972aaae5ee6a"
  },
  {
   "cell_type": "code",
   "execution_count": 4,
   "outputs": [
    {
     "data": {
      "text/plain": "                       song_id  \\\n683434  0KkzGvp8twn623wysKZ4Th   \n683435  6EU7nvOyg2O8ld7UAKii7R   \n683436  32bnbgvJ8FevA9rT2FxGAO   \n683437  7aMr9p35GaCmdWBmqbpfMa   \n683438  5QBpaz5Oy7yMRISo9kvFvs   \n...                        ...   \n911001  6WrGNqos7nZLxV7QWTgyNO   \n911000  13MADoRclDrvJXcH0l7CFA   \n911025  7goArBQdsalqclSyaTywAS   \n911012  2CZ46u5NGXQFXke3PMCuAK   \n911026  6Fh2QgjCxL96dA3Gtpfr4Q   \n\n                                                song_name  song_popularity  \\\n683434                                  Return to Ipanema              0.0   \n683435    どうにもとまらない Originally Performed By 山本リンダ (オルゴール)              0.0   \n683436                                               Wave              1.0   \n683437                                       Silver Samba              0.0   \n683438          千曲川 Originally Performed By 五木ひろし (オルゴール)              0.0   \n...                                                   ...              ...   \n911001                            I'll Keep You Satisfied              1.0   \n911000                                You Were on My Mind              1.0   \n911025                                   Shimmy Shimmy Ya              7.0   \n911012                   Today I Started Loving You Again              3.0   \n911026  One Sweet Day (16-Bit Mariah Carey & Boyz II M...              0.0   \n\n        explicit      song_type  track_number  num_artists  \\\n683434     False           Solo           4.0          1.0   \n683435     False           Solo           4.0          1.0   \n683436     False           Solo           2.0          1.0   \n683437     False           Solo           1.0          1.0   \n683438     False           Solo           3.0          1.0   \n...          ...            ...           ...          ...   \n911001     False  Collaboration          23.0          2.0   \n911000     False           Solo           8.0          1.0   \n911025     False           Solo           8.0          1.0   \n911012     False           Solo          15.0          1.0   \n911026     False           Solo          27.0          1.0   \n\n        num_available_markets release_date  duration_ms  ...  eccentricity_y  \\\n683434                   79.0   2015-08-19     186671.0  ...             0.0   \n683435                   79.0   2015-08-19     153107.0  ...             0.0   \n683436                   79.0   2015-08-19     423520.0  ...             0.0   \n683437                   79.0   2015-08-19     189257.0  ...             0.0   \n683438                   79.0   2015-08-19     160733.0  ...             0.0   \n...                       ...          ...          ...  ...             ...   \n911001                   78.0   2019-08-23     126360.0  ...             1.0   \n911000                   79.0   2019-08-23     163533.0  ...             0.0   \n911025                   78.0   2019-08-23     161200.0  ...             0.0   \n911012                   78.0   2019-08-23     172147.0  ...             0.0   \n911026                   79.0   2019-08-26     260910.0  ...             0.0   \n\n        eigencentrality_y  weighted degree_y  pagerank_y  Cluster_y  \\\n683434           0.000000                0.0    0.000000       -1.0   \n683435           0.000000                0.0    0.000000       -1.0   \n683436           0.000000                0.0    0.000000       -1.0   \n683437           0.000000                0.0    0.000000       -1.0   \n683438           0.000000                0.0    0.000000       -1.0   \n...                   ...                ...         ...        ...   \n911001           0.707107               62.0    0.000076        0.0   \n911000           0.000000                0.0    0.000000       -1.0   \n911025           0.000000                0.0    0.000000       -1.0   \n911012           0.000000                0.0    0.000000       -1.0   \n911026           0.000000                0.0    0.000000       -1.0   \n\n          profile_y  artist1_num  artist2_num  years_on_charts       date  \n683434     No Match       2790.0          0.0         0.000000 2015-08-19  \n683435     No Match      18654.0          0.0         0.000000 2015-08-19  \n683436     No Match       8626.0          0.0         0.000000 2015-08-19  \n683437     No Match       6036.0          0.0         0.000000 2015-08-19  \n683438     No Match      18654.0          0.0         0.000000 2015-08-19  \n...             ...          ...          ...              ...        ...  \n911001  1A 2B 3A 4A      10383.0      15003.0         0.134247 2019-08-23  \n911000     No Match      20104.0          0.0         0.115068 2019-08-23  \n911025     No Match      10723.0          0.0         0.287671 2019-08-23  \n911012     No Match      10227.0          0.0         0.134247 2019-08-23  \n911026     No Match       6625.0          0.0         0.517808 2019-08-26  \n\n[227757 rows x 51 columns]",
      "text/html": "<div>\n<style scoped>\n    .dataframe tbody tr th:only-of-type {\n        vertical-align: middle;\n    }\n\n    .dataframe tbody tr th {\n        vertical-align: top;\n    }\n\n    .dataframe thead th {\n        text-align: right;\n    }\n</style>\n<table border=\"1\" class=\"dataframe\">\n  <thead>\n    <tr style=\"text-align: right;\">\n      <th></th>\n      <th>song_id</th>\n      <th>song_name</th>\n      <th>song_popularity</th>\n      <th>explicit</th>\n      <th>song_type</th>\n      <th>track_number</th>\n      <th>num_artists</th>\n      <th>num_available_markets</th>\n      <th>release_date</th>\n      <th>duration_ms</th>\n      <th>...</th>\n      <th>eccentricity_y</th>\n      <th>eigencentrality_y</th>\n      <th>weighted degree_y</th>\n      <th>pagerank_y</th>\n      <th>Cluster_y</th>\n      <th>profile_y</th>\n      <th>artist1_num</th>\n      <th>artist2_num</th>\n      <th>years_on_charts</th>\n      <th>date</th>\n    </tr>\n  </thead>\n  <tbody>\n    <tr>\n      <th>683434</th>\n      <td>0KkzGvp8twn623wysKZ4Th</td>\n      <td>Return to Ipanema</td>\n      <td>0.0</td>\n      <td>False</td>\n      <td>Solo</td>\n      <td>4.0</td>\n      <td>1.0</td>\n      <td>79.0</td>\n      <td>2015-08-19</td>\n      <td>186671.0</td>\n      <td>...</td>\n      <td>0.0</td>\n      <td>0.000000</td>\n      <td>0.0</td>\n      <td>0.000000</td>\n      <td>-1.0</td>\n      <td>No Match</td>\n      <td>2790.0</td>\n      <td>0.0</td>\n      <td>0.000000</td>\n      <td>2015-08-19</td>\n    </tr>\n    <tr>\n      <th>683435</th>\n      <td>6EU7nvOyg2O8ld7UAKii7R</td>\n      <td>どうにもとまらない Originally Performed By 山本リンダ (オルゴール)</td>\n      <td>0.0</td>\n      <td>False</td>\n      <td>Solo</td>\n      <td>4.0</td>\n      <td>1.0</td>\n      <td>79.0</td>\n      <td>2015-08-19</td>\n      <td>153107.0</td>\n      <td>...</td>\n      <td>0.0</td>\n      <td>0.000000</td>\n      <td>0.0</td>\n      <td>0.000000</td>\n      <td>-1.0</td>\n      <td>No Match</td>\n      <td>18654.0</td>\n      <td>0.0</td>\n      <td>0.000000</td>\n      <td>2015-08-19</td>\n    </tr>\n    <tr>\n      <th>683436</th>\n      <td>32bnbgvJ8FevA9rT2FxGAO</td>\n      <td>Wave</td>\n      <td>1.0</td>\n      <td>False</td>\n      <td>Solo</td>\n      <td>2.0</td>\n      <td>1.0</td>\n      <td>79.0</td>\n      <td>2015-08-19</td>\n      <td>423520.0</td>\n      <td>...</td>\n      <td>0.0</td>\n      <td>0.000000</td>\n      <td>0.0</td>\n      <td>0.000000</td>\n      <td>-1.0</td>\n      <td>No Match</td>\n      <td>8626.0</td>\n      <td>0.0</td>\n      <td>0.000000</td>\n      <td>2015-08-19</td>\n    </tr>\n    <tr>\n      <th>683437</th>\n      <td>7aMr9p35GaCmdWBmqbpfMa</td>\n      <td>Silver Samba</td>\n      <td>0.0</td>\n      <td>False</td>\n      <td>Solo</td>\n      <td>1.0</td>\n      <td>1.0</td>\n      <td>79.0</td>\n      <td>2015-08-19</td>\n      <td>189257.0</td>\n      <td>...</td>\n      <td>0.0</td>\n      <td>0.000000</td>\n      <td>0.0</td>\n      <td>0.000000</td>\n      <td>-1.0</td>\n      <td>No Match</td>\n      <td>6036.0</td>\n      <td>0.0</td>\n      <td>0.000000</td>\n      <td>2015-08-19</td>\n    </tr>\n    <tr>\n      <th>683438</th>\n      <td>5QBpaz5Oy7yMRISo9kvFvs</td>\n      <td>千曲川 Originally Performed By 五木ひろし (オルゴール)</td>\n      <td>0.0</td>\n      <td>False</td>\n      <td>Solo</td>\n      <td>3.0</td>\n      <td>1.0</td>\n      <td>79.0</td>\n      <td>2015-08-19</td>\n      <td>160733.0</td>\n      <td>...</td>\n      <td>0.0</td>\n      <td>0.000000</td>\n      <td>0.0</td>\n      <td>0.000000</td>\n      <td>-1.0</td>\n      <td>No Match</td>\n      <td>18654.0</td>\n      <td>0.0</td>\n      <td>0.000000</td>\n      <td>2015-08-19</td>\n    </tr>\n    <tr>\n      <th>...</th>\n      <td>...</td>\n      <td>...</td>\n      <td>...</td>\n      <td>...</td>\n      <td>...</td>\n      <td>...</td>\n      <td>...</td>\n      <td>...</td>\n      <td>...</td>\n      <td>...</td>\n      <td>...</td>\n      <td>...</td>\n      <td>...</td>\n      <td>...</td>\n      <td>...</td>\n      <td>...</td>\n      <td>...</td>\n      <td>...</td>\n      <td>...</td>\n      <td>...</td>\n      <td>...</td>\n    </tr>\n    <tr>\n      <th>911001</th>\n      <td>6WrGNqos7nZLxV7QWTgyNO</td>\n      <td>I'll Keep You Satisfied</td>\n      <td>1.0</td>\n      <td>False</td>\n      <td>Collaboration</td>\n      <td>23.0</td>\n      <td>2.0</td>\n      <td>78.0</td>\n      <td>2019-08-23</td>\n      <td>126360.0</td>\n      <td>...</td>\n      <td>1.0</td>\n      <td>0.707107</td>\n      <td>62.0</td>\n      <td>0.000076</td>\n      <td>0.0</td>\n      <td>1A 2B 3A 4A</td>\n      <td>10383.0</td>\n      <td>15003.0</td>\n      <td>0.134247</td>\n      <td>2019-08-23</td>\n    </tr>\n    <tr>\n      <th>911000</th>\n      <td>13MADoRclDrvJXcH0l7CFA</td>\n      <td>You Were on My Mind</td>\n      <td>1.0</td>\n      <td>False</td>\n      <td>Solo</td>\n      <td>8.0</td>\n      <td>1.0</td>\n      <td>79.0</td>\n      <td>2019-08-23</td>\n      <td>163533.0</td>\n      <td>...</td>\n      <td>0.0</td>\n      <td>0.000000</td>\n      <td>0.0</td>\n      <td>0.000000</td>\n      <td>-1.0</td>\n      <td>No Match</td>\n      <td>20104.0</td>\n      <td>0.0</td>\n      <td>0.115068</td>\n      <td>2019-08-23</td>\n    </tr>\n    <tr>\n      <th>911025</th>\n      <td>7goArBQdsalqclSyaTywAS</td>\n      <td>Shimmy Shimmy Ya</td>\n      <td>7.0</td>\n      <td>False</td>\n      <td>Solo</td>\n      <td>8.0</td>\n      <td>1.0</td>\n      <td>78.0</td>\n      <td>2019-08-23</td>\n      <td>161200.0</td>\n      <td>...</td>\n      <td>0.0</td>\n      <td>0.000000</td>\n      <td>0.0</td>\n      <td>0.000000</td>\n      <td>-1.0</td>\n      <td>No Match</td>\n      <td>10723.0</td>\n      <td>0.0</td>\n      <td>0.287671</td>\n      <td>2019-08-23</td>\n    </tr>\n    <tr>\n      <th>911012</th>\n      <td>2CZ46u5NGXQFXke3PMCuAK</td>\n      <td>Today I Started Loving You Again</td>\n      <td>3.0</td>\n      <td>False</td>\n      <td>Solo</td>\n      <td>15.0</td>\n      <td>1.0</td>\n      <td>78.0</td>\n      <td>2019-08-23</td>\n      <td>172147.0</td>\n      <td>...</td>\n      <td>0.0</td>\n      <td>0.000000</td>\n      <td>0.0</td>\n      <td>0.000000</td>\n      <td>-1.0</td>\n      <td>No Match</td>\n      <td>10227.0</td>\n      <td>0.0</td>\n      <td>0.134247</td>\n      <td>2019-08-23</td>\n    </tr>\n    <tr>\n      <th>911026</th>\n      <td>6Fh2QgjCxL96dA3Gtpfr4Q</td>\n      <td>One Sweet Day (16-Bit Mariah Carey &amp; Boyz II M...</td>\n      <td>0.0</td>\n      <td>False</td>\n      <td>Solo</td>\n      <td>27.0</td>\n      <td>1.0</td>\n      <td>79.0</td>\n      <td>2019-08-26</td>\n      <td>260910.0</td>\n      <td>...</td>\n      <td>0.0</td>\n      <td>0.000000</td>\n      <td>0.0</td>\n      <td>0.000000</td>\n      <td>-1.0</td>\n      <td>No Match</td>\n      <td>6625.0</td>\n      <td>0.0</td>\n      <td>0.517808</td>\n      <td>2019-08-26</td>\n    </tr>\n  </tbody>\n</table>\n<p>227757 rows × 51 columns</p>\n</div>"
     },
     "execution_count": 4,
     "metadata": {},
     "output_type": "execute_result"
    }
   ],
   "source": [
    "test_df"
   ],
   "metadata": {
    "collapsed": false,
    "ExecuteTime": {
     "end_time": "2024-06-24T12:10:42.890415900Z",
     "start_time": "2024-06-24T12:10:42.745416200Z"
    }
   },
   "id": "c5e9745b7e9b7a05"
  },
  {
   "cell_type": "code",
   "execution_count": 5,
   "outputs": [
    {
     "data": {
      "text/plain": "                       song_id  \\\n0       7kXUEJmfvRXbzxOC0pHQgb   \n3659    5pedBzuqzuqb8NPXqXFm1T   \n3658    7E89BPSPTtBaR9mKK88WhD   \n3657    1xdRFXv3ytSOdj8GuT3Rge   \n3656    5wlQIBbKIWoB7AnSw09C6C   \n...                        ...   \n683396  6xUjsB26W7wzU4MSlZ9v2W   \n683430  5AZQNFCdxA3W1nssrtu4Yr   \n683431  0gvKPCmhJzXa4YgptrNvI4   \n683432  5FDxZkCXwOOO0CQP3zQUBL   \n683433  3m3CVlgUzXQaFkXdMPV3nI   \n\n                                                song_name  song_popularity  \\\n0                          I Can't Believe I'm Losing You              5.0   \n3659    Song To The Siren - Live From Sabresonic Night...             35.0   \n3658                      Three Little Birdies Down Beats             30.0   \n3657                           Thank You Lord (Interlude)             20.0   \n3656                                        All This Love             26.0   \n...                                                   ...              ...   \n683396                                Afterglow (174 BPM)              0.0   \n683430         能登半島 Originally Performed By 石川さゆり (オルゴール)              0.0   \n683431                                        Up the Hill              0.0   \n683432    浪花恋しぐれ Originally Performed By 都はるみ・岡千秋 (オルゴール)              0.0   \n683433        バス・ストップ Originally Performed By 平浩二 (オルゴール)              1.0   \n\n        explicit song_type  track_number  num_artists  num_available_markets  \\\n0          False      Solo          12.0          1.0                   79.0   \n3659       False      Solo           3.0          1.0                   79.0   \n3658       False      Solo           4.0          1.0                   79.0   \n3657       False      Solo          10.0          1.0                   77.0   \n3656       False      Solo           9.0          1.0                   77.0   \n...          ...       ...           ...          ...                    ...   \n683396     False      Solo          16.0          1.0                   79.0   \n683430     False      Solo           7.0          1.0                   79.0   \n683431     False      Solo          30.0          1.0                   79.0   \n683432     False      Solo           6.0          1.0                   79.0   \n683433     False      Solo           5.0          1.0                   79.0   \n\n       release_date  duration_ms  ...  eccentricity_y  eigencentrality_y  \\\n0        1995-01-01     162667.0  ...             0.0                0.0   \n3659     1995-01-01     196827.0  ...             0.0                0.0   \n3658     1995-01-01     338733.0  ...             0.0                0.0   \n3657     1995-01-01      56067.0  ...             0.0                0.0   \n3656     1995-01-01     361840.0  ...             0.0                0.0   \n...             ...          ...  ...             ...                ...   \n683396   2015-08-19     169918.0  ...             0.0                0.0   \n683430   2015-08-19     201027.0  ...             0.0                0.0   \n683431   2015-08-19     142681.0  ...             0.0                0.0   \n683432   2015-08-19     184373.0  ...             0.0                0.0   \n683433   2015-08-19     227507.0  ...             0.0                0.0   \n\n        weighted degree_y  pagerank_y  Cluster_y  profile_y  artist1_num  \\\n0                     0.0         0.0       -1.0   No Match      16718.0   \n3659                  0.0         0.0       -1.0   No Match      24444.0   \n3658                  0.0         0.0       -1.0   No Match      24444.0   \n3657                  0.0         0.0       -1.0   No Match      17879.0   \n3656                  0.0         0.0       -1.0   No Match      17879.0   \n...                   ...         ...        ...        ...          ...   \n683396                0.0         0.0       -1.0   No Match       9385.0   \n683430                0.0         0.0       -1.0   No Match      18654.0   \n683431                0.0         0.0       -1.0   No Match        840.0   \n683432                0.0         0.0       -1.0   No Match      18654.0   \n683433                0.0         0.0       -1.0   No Match      18654.0   \n\n        artist2_num  years_on_charts       date  \n0               0.0              0.0 1995-01-01  \n3659            0.0              0.0 1995-01-01  \n3658            0.0              0.0 1995-01-01  \n3657            0.0              0.0 1995-01-01  \n3656            0.0              0.0 1995-01-01  \n...             ...              ...        ...  \n683396          0.0              0.0 2015-08-19  \n683430          0.0              0.0 2015-08-19  \n683431          0.0              0.0 2015-08-19  \n683432          0.0              0.0 2015-08-19  \n683433          0.0              0.0 2015-08-19  \n\n[683270 rows x 51 columns]",
      "text/html": "<div>\n<style scoped>\n    .dataframe tbody tr th:only-of-type {\n        vertical-align: middle;\n    }\n\n    .dataframe tbody tr th {\n        vertical-align: top;\n    }\n\n    .dataframe thead th {\n        text-align: right;\n    }\n</style>\n<table border=\"1\" class=\"dataframe\">\n  <thead>\n    <tr style=\"text-align: right;\">\n      <th></th>\n      <th>song_id</th>\n      <th>song_name</th>\n      <th>song_popularity</th>\n      <th>explicit</th>\n      <th>song_type</th>\n      <th>track_number</th>\n      <th>num_artists</th>\n      <th>num_available_markets</th>\n      <th>release_date</th>\n      <th>duration_ms</th>\n      <th>...</th>\n      <th>eccentricity_y</th>\n      <th>eigencentrality_y</th>\n      <th>weighted degree_y</th>\n      <th>pagerank_y</th>\n      <th>Cluster_y</th>\n      <th>profile_y</th>\n      <th>artist1_num</th>\n      <th>artist2_num</th>\n      <th>years_on_charts</th>\n      <th>date</th>\n    </tr>\n  </thead>\n  <tbody>\n    <tr>\n      <th>0</th>\n      <td>7kXUEJmfvRXbzxOC0pHQgb</td>\n      <td>I Can't Believe I'm Losing You</td>\n      <td>5.0</td>\n      <td>False</td>\n      <td>Solo</td>\n      <td>12.0</td>\n      <td>1.0</td>\n      <td>79.0</td>\n      <td>1995-01-01</td>\n      <td>162667.0</td>\n      <td>...</td>\n      <td>0.0</td>\n      <td>0.0</td>\n      <td>0.0</td>\n      <td>0.0</td>\n      <td>-1.0</td>\n      <td>No Match</td>\n      <td>16718.0</td>\n      <td>0.0</td>\n      <td>0.0</td>\n      <td>1995-01-01</td>\n    </tr>\n    <tr>\n      <th>3659</th>\n      <td>5pedBzuqzuqb8NPXqXFm1T</td>\n      <td>Song To The Siren - Live From Sabresonic Night...</td>\n      <td>35.0</td>\n      <td>False</td>\n      <td>Solo</td>\n      <td>3.0</td>\n      <td>1.0</td>\n      <td>79.0</td>\n      <td>1995-01-01</td>\n      <td>196827.0</td>\n      <td>...</td>\n      <td>0.0</td>\n      <td>0.0</td>\n      <td>0.0</td>\n      <td>0.0</td>\n      <td>-1.0</td>\n      <td>No Match</td>\n      <td>24444.0</td>\n      <td>0.0</td>\n      <td>0.0</td>\n      <td>1995-01-01</td>\n    </tr>\n    <tr>\n      <th>3658</th>\n      <td>7E89BPSPTtBaR9mKK88WhD</td>\n      <td>Three Little Birdies Down Beats</td>\n      <td>30.0</td>\n      <td>False</td>\n      <td>Solo</td>\n      <td>4.0</td>\n      <td>1.0</td>\n      <td>79.0</td>\n      <td>1995-01-01</td>\n      <td>338733.0</td>\n      <td>...</td>\n      <td>0.0</td>\n      <td>0.0</td>\n      <td>0.0</td>\n      <td>0.0</td>\n      <td>-1.0</td>\n      <td>No Match</td>\n      <td>24444.0</td>\n      <td>0.0</td>\n      <td>0.0</td>\n      <td>1995-01-01</td>\n    </tr>\n    <tr>\n      <th>3657</th>\n      <td>1xdRFXv3ytSOdj8GuT3Rge</td>\n      <td>Thank You Lord (Interlude)</td>\n      <td>20.0</td>\n      <td>False</td>\n      <td>Solo</td>\n      <td>10.0</td>\n      <td>1.0</td>\n      <td>77.0</td>\n      <td>1995-01-01</td>\n      <td>56067.0</td>\n      <td>...</td>\n      <td>0.0</td>\n      <td>0.0</td>\n      <td>0.0</td>\n      <td>0.0</td>\n      <td>-1.0</td>\n      <td>No Match</td>\n      <td>17879.0</td>\n      <td>0.0</td>\n      <td>0.0</td>\n      <td>1995-01-01</td>\n    </tr>\n    <tr>\n      <th>3656</th>\n      <td>5wlQIBbKIWoB7AnSw09C6C</td>\n      <td>All This Love</td>\n      <td>26.0</td>\n      <td>False</td>\n      <td>Solo</td>\n      <td>9.0</td>\n      <td>1.0</td>\n      <td>77.0</td>\n      <td>1995-01-01</td>\n      <td>361840.0</td>\n      <td>...</td>\n      <td>0.0</td>\n      <td>0.0</td>\n      <td>0.0</td>\n      <td>0.0</td>\n      <td>-1.0</td>\n      <td>No Match</td>\n      <td>17879.0</td>\n      <td>0.0</td>\n      <td>0.0</td>\n      <td>1995-01-01</td>\n    </tr>\n    <tr>\n      <th>...</th>\n      <td>...</td>\n      <td>...</td>\n      <td>...</td>\n      <td>...</td>\n      <td>...</td>\n      <td>...</td>\n      <td>...</td>\n      <td>...</td>\n      <td>...</td>\n      <td>...</td>\n      <td>...</td>\n      <td>...</td>\n      <td>...</td>\n      <td>...</td>\n      <td>...</td>\n      <td>...</td>\n      <td>...</td>\n      <td>...</td>\n      <td>...</td>\n      <td>...</td>\n      <td>...</td>\n    </tr>\n    <tr>\n      <th>683396</th>\n      <td>6xUjsB26W7wzU4MSlZ9v2W</td>\n      <td>Afterglow (174 BPM)</td>\n      <td>0.0</td>\n      <td>False</td>\n      <td>Solo</td>\n      <td>16.0</td>\n      <td>1.0</td>\n      <td>79.0</td>\n      <td>2015-08-19</td>\n      <td>169918.0</td>\n      <td>...</td>\n      <td>0.0</td>\n      <td>0.0</td>\n      <td>0.0</td>\n      <td>0.0</td>\n      <td>-1.0</td>\n      <td>No Match</td>\n      <td>9385.0</td>\n      <td>0.0</td>\n      <td>0.0</td>\n      <td>2015-08-19</td>\n    </tr>\n    <tr>\n      <th>683430</th>\n      <td>5AZQNFCdxA3W1nssrtu4Yr</td>\n      <td>能登半島 Originally Performed By 石川さゆり (オルゴール)</td>\n      <td>0.0</td>\n      <td>False</td>\n      <td>Solo</td>\n      <td>7.0</td>\n      <td>1.0</td>\n      <td>79.0</td>\n      <td>2015-08-19</td>\n      <td>201027.0</td>\n      <td>...</td>\n      <td>0.0</td>\n      <td>0.0</td>\n      <td>0.0</td>\n      <td>0.0</td>\n      <td>-1.0</td>\n      <td>No Match</td>\n      <td>18654.0</td>\n      <td>0.0</td>\n      <td>0.0</td>\n      <td>2015-08-19</td>\n    </tr>\n    <tr>\n      <th>683431</th>\n      <td>0gvKPCmhJzXa4YgptrNvI4</td>\n      <td>Up the Hill</td>\n      <td>0.0</td>\n      <td>False</td>\n      <td>Solo</td>\n      <td>30.0</td>\n      <td>1.0</td>\n      <td>79.0</td>\n      <td>2015-08-19</td>\n      <td>142681.0</td>\n      <td>...</td>\n      <td>0.0</td>\n      <td>0.0</td>\n      <td>0.0</td>\n      <td>0.0</td>\n      <td>-1.0</td>\n      <td>No Match</td>\n      <td>840.0</td>\n      <td>0.0</td>\n      <td>0.0</td>\n      <td>2015-08-19</td>\n    </tr>\n    <tr>\n      <th>683432</th>\n      <td>5FDxZkCXwOOO0CQP3zQUBL</td>\n      <td>浪花恋しぐれ Originally Performed By 都はるみ・岡千秋 (オルゴール)</td>\n      <td>0.0</td>\n      <td>False</td>\n      <td>Solo</td>\n      <td>6.0</td>\n      <td>1.0</td>\n      <td>79.0</td>\n      <td>2015-08-19</td>\n      <td>184373.0</td>\n      <td>...</td>\n      <td>0.0</td>\n      <td>0.0</td>\n      <td>0.0</td>\n      <td>0.0</td>\n      <td>-1.0</td>\n      <td>No Match</td>\n      <td>18654.0</td>\n      <td>0.0</td>\n      <td>0.0</td>\n      <td>2015-08-19</td>\n    </tr>\n    <tr>\n      <th>683433</th>\n      <td>3m3CVlgUzXQaFkXdMPV3nI</td>\n      <td>バス・ストップ Originally Performed By 平浩二 (オルゴール)</td>\n      <td>1.0</td>\n      <td>False</td>\n      <td>Solo</td>\n      <td>5.0</td>\n      <td>1.0</td>\n      <td>79.0</td>\n      <td>2015-08-19</td>\n      <td>227507.0</td>\n      <td>...</td>\n      <td>0.0</td>\n      <td>0.0</td>\n      <td>0.0</td>\n      <td>0.0</td>\n      <td>-1.0</td>\n      <td>No Match</td>\n      <td>18654.0</td>\n      <td>0.0</td>\n      <td>0.0</td>\n      <td>2015-08-19</td>\n    </tr>\n  </tbody>\n</table>\n<p>683270 rows × 51 columns</p>\n</div>"
     },
     "execution_count": 5,
     "metadata": {},
     "output_type": "execute_result"
    }
   ],
   "source": [
    "train_df"
   ],
   "metadata": {
    "collapsed": false,
    "ExecuteTime": {
     "end_time": "2024-06-24T12:10:43.248418600Z",
     "start_time": "2024-06-24T12:10:42.960417200Z"
    }
   },
   "id": "8e6541243bf56a7"
  },
  {
   "cell_type": "code",
   "execution_count": 6,
   "outputs": [
    {
     "name": "stderr",
     "output_type": "stream",
     "text": [
      "C:\\Users\\lasse\\AppData\\Local\\Temp\\ipykernel_7084\\3163552469.py:5: DtypeWarning: Columns (11,12,13,14,15,16,17,18,19,20,21,22,23) have mixed types. Specify dtype option on import or set low_memory=False.\n",
      "  df_nonhits = pd.read_csv(\"../../MusicOSet/additional/nonhits_dataset.csv\", delimiter=\"\\t\")\n"
     ]
    }
   ],
   "source": [
    "import pandas as pd\n",
    "\n",
    "#df_hits = pd.read_csv(\"../../MusicOSet/additional/hits_dataset.csv\", delimiter=\"\\t\")\n",
    "#df_hits[\"hit\"] = 1\n",
    "df_nonhits = pd.read_csv(\"../../MusicOSet/additional/nonhits_dataset.csv\", delimiter=\"\\t\")\n",
    "df_nonhits[\"hit\"] = 0\n",
    "#combined_df = pd.concat([df_hits, df_nonhits], axis=0)\n",
    "#combined_df"
   ],
   "metadata": {
    "collapsed": false,
    "ExecuteTime": {
     "end_time": "2024-06-24T12:10:46.082417700Z",
     "start_time": "2024-06-24T12:10:43.245416800Z"
    }
   },
   "id": "ade3bcb56224cb7"
  },
  {
   "cell_type": "code",
   "execution_count": 7,
   "outputs": [
    {
     "name": "stderr",
     "output_type": "stream",
     "text": [
      "C:\\Users\\lasse\\AppData\\Local\\Temp\\ipykernel_7084\\1319364193.py:1: UserWarning: The argument 'infer_datetime_format' is deprecated and will be removed in a future version. A strict version of it is now the default, see https://pandas.pydata.org/pdeps/0004-consistent-to-datetime-parsing.html. You can safely remove this argument.\n",
      "  df_nonhits['date'] = pd.to_datetime(df_nonhits['release_date'], infer_datetime_format=True)\n"
     ]
    },
    {
     "data": {
      "text/plain": "                       song_id                       song_name  \\\n871202  74IDHJBR8ObnCMO2009n15                Universe of Love   \n137578  3LmikE0UEWcjCX3lNkHKan                  Christmas Rock   \n137579  6qtlXLENtMcInGnuhb5tpZ       Blame It On The Mistletoe   \n137580  3nhDtBrT5twOEGBSdiNex3  Santa's Gonna Take It All Back   \n137581  5Nl6CJiV5FNyMDgatdxbCr      The Night Before Christmas   \n...                        ...                             ...   \n703718  0V3gDCFRWdVCA29ZQvgxfZ                     Por Siempre   \n703719  6GyDnbiL8Ibpgdveu4cgyV               Te Puedo Castigar   \n703720  04shPRn1IpLNbBSGYaIhVq       Pétalos De Fuego - Balada   \n703713  68nsqfJQ00hTnuaw0plrmO        Pétalos De Fuego - Salsa   \n703721  7wIslb87ay7ShEz53OKok6                         Honesty   \n\n                        id_artists         name_artists  popularity  explicit  \\\n871202  ['2OLmN3LLWtLF7zerL4VdaX']        ['Laid Back']           2     False   \n137578  ['2bA6fzP0lMAQ4kz6CF61w8']       ['Toby Keith']           5     False   \n137579  ['2bA6fzP0lMAQ4kz6CF61w8']       ['Toby Keith']           5     False   \n137580  ['2bA6fzP0lMAQ4kz6CF61w8']       ['Toby Keith']           3     False   \n137581  ['2bA6fzP0lMAQ4kz6CF61w8']       ['Toby Keith']           3     False   \n...                            ...                  ...         ...       ...   \n703718  ['5Ne8hQEmy0eZu9hlE3j58B']  ['Brenda K. Starr']           4     False   \n703719  ['5Ne8hQEmy0eZu9hlE3j58B']  ['Brenda K. Starr']           4     False   \n703720  ['5Ne8hQEmy0eZu9hlE3j58B']  ['Brenda K. Starr']           2     False   \n703713  ['5Ne8hQEmy0eZu9hlE3j58B']  ['Brenda K. Starr']           5     False   \n703721  ['5Ne8hQEmy0eZu9hlE3j58B']  ['Brenda K. Starr']           7     False   \n\n       song_type  track_number  num_artists  num_available_markets  ...  \\\n871202      Solo             7            1                     79  ...   \n137578      Solo             3            1                     78  ...   \n137579      Solo             4            1                     78  ...   \n137580      Solo             5            1                     78  ...   \n137581      Solo             6            1                     78  ...   \n...          ...           ...          ...                    ...  ...   \n703718      Solo             6            1                     79  ...   \n703719      Solo             7            1                     79  ...   \n703720      Solo             8            1                     79  ...   \n703713      Solo             1            1                     79  ...   \n703721      Solo             9            1                     79  ...   \n\n       danceability energy instrumentalness liveness loudness speechiness  \\\n871202        0.784  0.739            0.253    0.111   -8.677       0.035   \n137578        0.712  0.825                0    0.432   -6.879      0.0464   \n137579        0.645  0.339         1.21e-06    0.089   -9.555      0.0377   \n137580        0.682  0.944         1.03e-05    0.359   -6.629      0.0537   \n137581        0.745  0.569                0    0.431   -8.521      0.0277   \n...             ...    ...              ...      ...      ...         ...   \n703718        0.774  0.773         0.000002   0.0564   -3.627      0.0386   \n703719        0.766  0.819         0.000111    0.108    -3.53      0.0365   \n703720        0.633  0.652              0.0    0.164   -3.812        0.03   \n703713        0.589  0.837              0.0   0.0903   -2.735      0.0432   \n703721          0.7  0.766              0.0   0.0669   -3.943      0.0496   \n\n       valence    tempo hit       date  \n871202   0.715   96.125   0 1995-01-01  \n137578   0.795  134.974   0 1995-01-01  \n137579   0.193  132.756   0 1995-01-01  \n137580   0.844  144.363   0 1995-01-01  \n137581   0.816  111.591   0 1995-01-01  \n...        ...      ...  ..        ...  \n703718   0.578   97.463   0 2019-08-16  \n703719     0.6   91.998   0 2019-08-16  \n703720  0.0954  135.227   0 2019-08-16  \n703713   0.529  173.661   0 2019-08-16  \n703721   0.498  169.518   0 2019-08-16  \n\n[899068 rows x 26 columns]",
      "text/html": "<div>\n<style scoped>\n    .dataframe tbody tr th:only-of-type {\n        vertical-align: middle;\n    }\n\n    .dataframe tbody tr th {\n        vertical-align: top;\n    }\n\n    .dataframe thead th {\n        text-align: right;\n    }\n</style>\n<table border=\"1\" class=\"dataframe\">\n  <thead>\n    <tr style=\"text-align: right;\">\n      <th></th>\n      <th>song_id</th>\n      <th>song_name</th>\n      <th>id_artists</th>\n      <th>name_artists</th>\n      <th>popularity</th>\n      <th>explicit</th>\n      <th>song_type</th>\n      <th>track_number</th>\n      <th>num_artists</th>\n      <th>num_available_markets</th>\n      <th>...</th>\n      <th>danceability</th>\n      <th>energy</th>\n      <th>instrumentalness</th>\n      <th>liveness</th>\n      <th>loudness</th>\n      <th>speechiness</th>\n      <th>valence</th>\n      <th>tempo</th>\n      <th>hit</th>\n      <th>date</th>\n    </tr>\n  </thead>\n  <tbody>\n    <tr>\n      <th>871202</th>\n      <td>74IDHJBR8ObnCMO2009n15</td>\n      <td>Universe of Love</td>\n      <td>['2OLmN3LLWtLF7zerL4VdaX']</td>\n      <td>['Laid Back']</td>\n      <td>2</td>\n      <td>False</td>\n      <td>Solo</td>\n      <td>7</td>\n      <td>1</td>\n      <td>79</td>\n      <td>...</td>\n      <td>0.784</td>\n      <td>0.739</td>\n      <td>0.253</td>\n      <td>0.111</td>\n      <td>-8.677</td>\n      <td>0.035</td>\n      <td>0.715</td>\n      <td>96.125</td>\n      <td>0</td>\n      <td>1995-01-01</td>\n    </tr>\n    <tr>\n      <th>137578</th>\n      <td>3LmikE0UEWcjCX3lNkHKan</td>\n      <td>Christmas Rock</td>\n      <td>['2bA6fzP0lMAQ4kz6CF61w8']</td>\n      <td>['Toby Keith']</td>\n      <td>5</td>\n      <td>False</td>\n      <td>Solo</td>\n      <td>3</td>\n      <td>1</td>\n      <td>78</td>\n      <td>...</td>\n      <td>0.712</td>\n      <td>0.825</td>\n      <td>0</td>\n      <td>0.432</td>\n      <td>-6.879</td>\n      <td>0.0464</td>\n      <td>0.795</td>\n      <td>134.974</td>\n      <td>0</td>\n      <td>1995-01-01</td>\n    </tr>\n    <tr>\n      <th>137579</th>\n      <td>6qtlXLENtMcInGnuhb5tpZ</td>\n      <td>Blame It On The Mistletoe</td>\n      <td>['2bA6fzP0lMAQ4kz6CF61w8']</td>\n      <td>['Toby Keith']</td>\n      <td>5</td>\n      <td>False</td>\n      <td>Solo</td>\n      <td>4</td>\n      <td>1</td>\n      <td>78</td>\n      <td>...</td>\n      <td>0.645</td>\n      <td>0.339</td>\n      <td>1.21e-06</td>\n      <td>0.089</td>\n      <td>-9.555</td>\n      <td>0.0377</td>\n      <td>0.193</td>\n      <td>132.756</td>\n      <td>0</td>\n      <td>1995-01-01</td>\n    </tr>\n    <tr>\n      <th>137580</th>\n      <td>3nhDtBrT5twOEGBSdiNex3</td>\n      <td>Santa's Gonna Take It All Back</td>\n      <td>['2bA6fzP0lMAQ4kz6CF61w8']</td>\n      <td>['Toby Keith']</td>\n      <td>3</td>\n      <td>False</td>\n      <td>Solo</td>\n      <td>5</td>\n      <td>1</td>\n      <td>78</td>\n      <td>...</td>\n      <td>0.682</td>\n      <td>0.944</td>\n      <td>1.03e-05</td>\n      <td>0.359</td>\n      <td>-6.629</td>\n      <td>0.0537</td>\n      <td>0.844</td>\n      <td>144.363</td>\n      <td>0</td>\n      <td>1995-01-01</td>\n    </tr>\n    <tr>\n      <th>137581</th>\n      <td>5Nl6CJiV5FNyMDgatdxbCr</td>\n      <td>The Night Before Christmas</td>\n      <td>['2bA6fzP0lMAQ4kz6CF61w8']</td>\n      <td>['Toby Keith']</td>\n      <td>3</td>\n      <td>False</td>\n      <td>Solo</td>\n      <td>6</td>\n      <td>1</td>\n      <td>78</td>\n      <td>...</td>\n      <td>0.745</td>\n      <td>0.569</td>\n      <td>0</td>\n      <td>0.431</td>\n      <td>-8.521</td>\n      <td>0.0277</td>\n      <td>0.816</td>\n      <td>111.591</td>\n      <td>0</td>\n      <td>1995-01-01</td>\n    </tr>\n    <tr>\n      <th>...</th>\n      <td>...</td>\n      <td>...</td>\n      <td>...</td>\n      <td>...</td>\n      <td>...</td>\n      <td>...</td>\n      <td>...</td>\n      <td>...</td>\n      <td>...</td>\n      <td>...</td>\n      <td>...</td>\n      <td>...</td>\n      <td>...</td>\n      <td>...</td>\n      <td>...</td>\n      <td>...</td>\n      <td>...</td>\n      <td>...</td>\n      <td>...</td>\n      <td>...</td>\n      <td>...</td>\n    </tr>\n    <tr>\n      <th>703718</th>\n      <td>0V3gDCFRWdVCA29ZQvgxfZ</td>\n      <td>Por Siempre</td>\n      <td>['5Ne8hQEmy0eZu9hlE3j58B']</td>\n      <td>['Brenda K. Starr']</td>\n      <td>4</td>\n      <td>False</td>\n      <td>Solo</td>\n      <td>6</td>\n      <td>1</td>\n      <td>79</td>\n      <td>...</td>\n      <td>0.774</td>\n      <td>0.773</td>\n      <td>0.000002</td>\n      <td>0.0564</td>\n      <td>-3.627</td>\n      <td>0.0386</td>\n      <td>0.578</td>\n      <td>97.463</td>\n      <td>0</td>\n      <td>2019-08-16</td>\n    </tr>\n    <tr>\n      <th>703719</th>\n      <td>6GyDnbiL8Ibpgdveu4cgyV</td>\n      <td>Te Puedo Castigar</td>\n      <td>['5Ne8hQEmy0eZu9hlE3j58B']</td>\n      <td>['Brenda K. Starr']</td>\n      <td>4</td>\n      <td>False</td>\n      <td>Solo</td>\n      <td>7</td>\n      <td>1</td>\n      <td>79</td>\n      <td>...</td>\n      <td>0.766</td>\n      <td>0.819</td>\n      <td>0.000111</td>\n      <td>0.108</td>\n      <td>-3.53</td>\n      <td>0.0365</td>\n      <td>0.6</td>\n      <td>91.998</td>\n      <td>0</td>\n      <td>2019-08-16</td>\n    </tr>\n    <tr>\n      <th>703720</th>\n      <td>04shPRn1IpLNbBSGYaIhVq</td>\n      <td>Pétalos De Fuego - Balada</td>\n      <td>['5Ne8hQEmy0eZu9hlE3j58B']</td>\n      <td>['Brenda K. Starr']</td>\n      <td>2</td>\n      <td>False</td>\n      <td>Solo</td>\n      <td>8</td>\n      <td>1</td>\n      <td>79</td>\n      <td>...</td>\n      <td>0.633</td>\n      <td>0.652</td>\n      <td>0.0</td>\n      <td>0.164</td>\n      <td>-3.812</td>\n      <td>0.03</td>\n      <td>0.0954</td>\n      <td>135.227</td>\n      <td>0</td>\n      <td>2019-08-16</td>\n    </tr>\n    <tr>\n      <th>703713</th>\n      <td>68nsqfJQ00hTnuaw0plrmO</td>\n      <td>Pétalos De Fuego - Salsa</td>\n      <td>['5Ne8hQEmy0eZu9hlE3j58B']</td>\n      <td>['Brenda K. Starr']</td>\n      <td>5</td>\n      <td>False</td>\n      <td>Solo</td>\n      <td>1</td>\n      <td>1</td>\n      <td>79</td>\n      <td>...</td>\n      <td>0.589</td>\n      <td>0.837</td>\n      <td>0.0</td>\n      <td>0.0903</td>\n      <td>-2.735</td>\n      <td>0.0432</td>\n      <td>0.529</td>\n      <td>173.661</td>\n      <td>0</td>\n      <td>2019-08-16</td>\n    </tr>\n    <tr>\n      <th>703721</th>\n      <td>7wIslb87ay7ShEz53OKok6</td>\n      <td>Honesty</td>\n      <td>['5Ne8hQEmy0eZu9hlE3j58B']</td>\n      <td>['Brenda K. Starr']</td>\n      <td>7</td>\n      <td>False</td>\n      <td>Solo</td>\n      <td>9</td>\n      <td>1</td>\n      <td>79</td>\n      <td>...</td>\n      <td>0.7</td>\n      <td>0.766</td>\n      <td>0.0</td>\n      <td>0.0669</td>\n      <td>-3.943</td>\n      <td>0.0496</td>\n      <td>0.498</td>\n      <td>169.518</td>\n      <td>0</td>\n      <td>2019-08-16</td>\n    </tr>\n  </tbody>\n</table>\n<p>899068 rows × 26 columns</p>\n</div>"
     },
     "execution_count": 7,
     "metadata": {},
     "output_type": "execute_result"
    }
   ],
   "source": [
    "df_nonhits['date'] = pd.to_datetime(df_nonhits['release_date'], infer_datetime_format=True)\n",
    "df_nonhits.sort_values(by=\"date\", inplace=True)\n",
    "df_nonhits"
   ],
   "metadata": {
    "collapsed": false,
    "ExecuteTime": {
     "end_time": "2024-06-24T12:10:47.507420100Z",
     "start_time": "2024-06-24T12:10:46.080418300Z"
    }
   },
   "id": "299d5a311fda8bf6"
  },
  {
   "cell_type": "code",
   "execution_count": 8,
   "outputs": [
    {
     "data": {
      "text/plain": "                       song_id                  id_artists       date\n0       74IDHJBR8ObnCMO2009n15  ['2OLmN3LLWtLF7zerL4VdaX'] 1995-01-01\n1       3LmikE0UEWcjCX3lNkHKan  ['2bA6fzP0lMAQ4kz6CF61w8'] 1995-01-01\n2       6qtlXLENtMcInGnuhb5tpZ  ['2bA6fzP0lMAQ4kz6CF61w8'] 1995-01-01\n3       3nhDtBrT5twOEGBSdiNex3  ['2bA6fzP0lMAQ4kz6CF61w8'] 1995-01-01\n4       5Nl6CJiV5FNyMDgatdxbCr  ['2bA6fzP0lMAQ4kz6CF61w8'] 1995-01-01\n...                        ...                         ...        ...\n673621  6ReWBAnrxTLXJgSDGjP9aT  ['5uBYUKM0OLmIa5maaig28a'] 2015-08-19\n673622  4xjIckEVcRYwgWXhBeGLnu  ['5uBYUKM0OLmIa5maaig28a'] 2015-08-19\n673623  0JXEIRMjTkBGSLcw1i0Xym  ['5uBYUKM0OLmIa5maaig28a'] 2015-08-19\n673624  1VHFAqq1cyu7uSdOlQt7k3  ['5uBYUKM0OLmIa5maaig28a'] 2015-08-19\n673625  70mPtAGxAAqyXtCCMMaPjO  ['5uBYUKM0OLmIa5maaig28a'] 2015-08-19\n\n[673626 rows x 3 columns]",
      "text/html": "<div>\n<style scoped>\n    .dataframe tbody tr th:only-of-type {\n        vertical-align: middle;\n    }\n\n    .dataframe tbody tr th {\n        vertical-align: top;\n    }\n\n    .dataframe thead th {\n        text-align: right;\n    }\n</style>\n<table border=\"1\" class=\"dataframe\">\n  <thead>\n    <tr style=\"text-align: right;\">\n      <th></th>\n      <th>song_id</th>\n      <th>id_artists</th>\n      <th>date</th>\n    </tr>\n  </thead>\n  <tbody>\n    <tr>\n      <th>0</th>\n      <td>74IDHJBR8ObnCMO2009n15</td>\n      <td>['2OLmN3LLWtLF7zerL4VdaX']</td>\n      <td>1995-01-01</td>\n    </tr>\n    <tr>\n      <th>1</th>\n      <td>3LmikE0UEWcjCX3lNkHKan</td>\n      <td>['2bA6fzP0lMAQ4kz6CF61w8']</td>\n      <td>1995-01-01</td>\n    </tr>\n    <tr>\n      <th>2</th>\n      <td>6qtlXLENtMcInGnuhb5tpZ</td>\n      <td>['2bA6fzP0lMAQ4kz6CF61w8']</td>\n      <td>1995-01-01</td>\n    </tr>\n    <tr>\n      <th>3</th>\n      <td>3nhDtBrT5twOEGBSdiNex3</td>\n      <td>['2bA6fzP0lMAQ4kz6CF61w8']</td>\n      <td>1995-01-01</td>\n    </tr>\n    <tr>\n      <th>4</th>\n      <td>5Nl6CJiV5FNyMDgatdxbCr</td>\n      <td>['2bA6fzP0lMAQ4kz6CF61w8']</td>\n      <td>1995-01-01</td>\n    </tr>\n    <tr>\n      <th>...</th>\n      <td>...</td>\n      <td>...</td>\n      <td>...</td>\n    </tr>\n    <tr>\n      <th>673621</th>\n      <td>6ReWBAnrxTLXJgSDGjP9aT</td>\n      <td>['5uBYUKM0OLmIa5maaig28a']</td>\n      <td>2015-08-19</td>\n    </tr>\n    <tr>\n      <th>673622</th>\n      <td>4xjIckEVcRYwgWXhBeGLnu</td>\n      <td>['5uBYUKM0OLmIa5maaig28a']</td>\n      <td>2015-08-19</td>\n    </tr>\n    <tr>\n      <th>673623</th>\n      <td>0JXEIRMjTkBGSLcw1i0Xym</td>\n      <td>['5uBYUKM0OLmIa5maaig28a']</td>\n      <td>2015-08-19</td>\n    </tr>\n    <tr>\n      <th>673624</th>\n      <td>1VHFAqq1cyu7uSdOlQt7k3</td>\n      <td>['5uBYUKM0OLmIa5maaig28a']</td>\n      <td>2015-08-19</td>\n    </tr>\n    <tr>\n      <th>673625</th>\n      <td>70mPtAGxAAqyXtCCMMaPjO</td>\n      <td>['5uBYUKM0OLmIa5maaig28a']</td>\n      <td>2015-08-19</td>\n    </tr>\n  </tbody>\n</table>\n<p>673626 rows × 3 columns</p>\n</div>"
     },
     "execution_count": 8,
     "metadata": {},
     "output_type": "execute_result"
    }
   ],
   "source": [
    "border_day = train_df[\"date\"].iloc[0] - pd.DateOffset(years=past_years) \n",
    "df_nonhits = df_nonhits[(df_nonhits[\"date\"] <= present) & (df_nonhits[\"date\"] > border_day)]\n",
    "amount_songs = df_nonhits[[\"song_id\", \"id_artists\", \"date\"]].copy()\n",
    "del df_nonhits\n",
    "amount_songs.reset_index(drop=True, inplace=True)\n",
    "amount_songs"
   ],
   "metadata": {
    "collapsed": false,
    "ExecuteTime": {
     "end_time": "2024-06-24T12:10:47.850416200Z",
     "start_time": "2024-06-24T12:10:47.501416100Z"
    }
   },
   "id": "e0b209ec5e36541c"
  },
  {
   "cell_type": "code",
   "execution_count": 9,
   "outputs": [
    {
     "data": {
      "text/plain": "list"
     },
     "execution_count": 9,
     "metadata": {},
     "output_type": "execute_result"
    }
   ],
   "source": [
    "#amount_songs = combined_df[combined_df[\"song_id\"].isin(list_ids)]\n",
    "amount_songs[\"id_artists\"] = amount_songs[\"id_artists\"].apply(lambda x: eval(x))\n",
    "type(amount_songs[\"id_artists\"].iloc[0])"
   ],
   "metadata": {
    "collapsed": false,
    "ExecuteTime": {
     "end_time": "2024-06-24T12:10:51.817429200Z",
     "start_time": "2024-06-24T12:10:47.852415600Z"
    }
   },
   "id": "e7ea378ae1d87043"
  },
  {
   "cell_type": "markdown",
   "source": [
    "## Loop:"
   ],
   "metadata": {
    "collapsed": false
   },
   "id": "795367ccfd6250"
  },
  {
   "cell_type": "code",
   "execution_count": 10,
   "outputs": [
    {
     "data": {
      "text/plain": "                       song_id  \\\n0       7kXUEJmfvRXbzxOC0pHQgb   \n3659    5pedBzuqzuqb8NPXqXFm1T   \n3658    7E89BPSPTtBaR9mKK88WhD   \n3657    1xdRFXv3ytSOdj8GuT3Rge   \n3656    5wlQIBbKIWoB7AnSw09C6C   \n...                        ...   \n683396  6xUjsB26W7wzU4MSlZ9v2W   \n683430  5AZQNFCdxA3W1nssrtu4Yr   \n683431  0gvKPCmhJzXa4YgptrNvI4   \n683432  5FDxZkCXwOOO0CQP3zQUBL   \n683433  3m3CVlgUzXQaFkXdMPV3nI   \n\n                                                song_name  song_popularity  \\\n0                          I Can't Believe I'm Losing You              5.0   \n3659    Song To The Siren - Live From Sabresonic Night...             35.0   \n3658                      Three Little Birdies Down Beats             30.0   \n3657                           Thank You Lord (Interlude)             20.0   \n3656                                        All This Love             26.0   \n...                                                   ...              ...   \n683396                                Afterglow (174 BPM)              0.0   \n683430         能登半島 Originally Performed By 石川さゆり (オルゴール)              0.0   \n683431                                        Up the Hill              0.0   \n683432    浪花恋しぐれ Originally Performed By 都はるみ・岡千秋 (オルゴール)              0.0   \n683433        バス・ストップ Originally Performed By 平浩二 (オルゴール)              1.0   \n\n        explicit song_type  track_number  num_artists  num_available_markets  \\\n0          False      Solo          12.0          1.0                   79.0   \n3659       False      Solo           3.0          1.0                   79.0   \n3658       False      Solo           4.0          1.0                   79.0   \n3657       False      Solo          10.0          1.0                   77.0   \n3656       False      Solo           9.0          1.0                   77.0   \n...          ...       ...           ...          ...                    ...   \n683396     False      Solo          16.0          1.0                   79.0   \n683430     False      Solo           7.0          1.0                   79.0   \n683431     False      Solo          30.0          1.0                   79.0   \n683432     False      Solo           6.0          1.0                   79.0   \n683433     False      Solo           5.0          1.0                   79.0   \n\n       release_date  duration_ms  ...  eccentricity_y  eigencentrality_y  \\\n0        1995-01-01     162667.0  ...             0.0                0.0   \n3659     1995-01-01     196827.0  ...             0.0                0.0   \n3658     1995-01-01     338733.0  ...             0.0                0.0   \n3657     1995-01-01      56067.0  ...             0.0                0.0   \n3656     1995-01-01     361840.0  ...             0.0                0.0   \n...             ...          ...  ...             ...                ...   \n683396   2015-08-19     169918.0  ...             0.0                0.0   \n683430   2015-08-19     201027.0  ...             0.0                0.0   \n683431   2015-08-19     142681.0  ...             0.0                0.0   \n683432   2015-08-19     184373.0  ...             0.0                0.0   \n683433   2015-08-19     227507.0  ...             0.0                0.0   \n\n        weighted degree_y  pagerank_y  Cluster_y  profile_y  artist1_num  \\\n0                     0.0         0.0       -1.0   No Match      16718.0   \n3659                  0.0         0.0       -1.0   No Match      24444.0   \n3658                  0.0         0.0       -1.0   No Match      24444.0   \n3657                  0.0         0.0       -1.0   No Match      17879.0   \n3656                  0.0         0.0       -1.0   No Match      17879.0   \n...                   ...         ...        ...        ...          ...   \n683396                0.0         0.0       -1.0   No Match       9385.0   \n683430                0.0         0.0       -1.0   No Match      18654.0   \n683431                0.0         0.0       -1.0   No Match        840.0   \n683432                0.0         0.0       -1.0   No Match      18654.0   \n683433                0.0         0.0       -1.0   No Match      18654.0   \n\n        artist2_num  years_on_charts       date  \n0               0.0              0.0 1995-01-01  \n3659            0.0              0.0 1995-01-01  \n3658            0.0              0.0 1995-01-01  \n3657            0.0              0.0 1995-01-01  \n3656            0.0              0.0 1995-01-01  \n...             ...              ...        ...  \n683396          0.0              0.0 2015-08-19  \n683430          0.0              0.0 2015-08-19  \n683431          0.0              0.0 2015-08-19  \n683432          0.0              0.0 2015-08-19  \n683433          0.0              0.0 2015-08-19  \n\n[683270 rows x 51 columns]",
      "text/html": "<div>\n<style scoped>\n    .dataframe tbody tr th:only-of-type {\n        vertical-align: middle;\n    }\n\n    .dataframe tbody tr th {\n        vertical-align: top;\n    }\n\n    .dataframe thead th {\n        text-align: right;\n    }\n</style>\n<table border=\"1\" class=\"dataframe\">\n  <thead>\n    <tr style=\"text-align: right;\">\n      <th></th>\n      <th>song_id</th>\n      <th>song_name</th>\n      <th>song_popularity</th>\n      <th>explicit</th>\n      <th>song_type</th>\n      <th>track_number</th>\n      <th>num_artists</th>\n      <th>num_available_markets</th>\n      <th>release_date</th>\n      <th>duration_ms</th>\n      <th>...</th>\n      <th>eccentricity_y</th>\n      <th>eigencentrality_y</th>\n      <th>weighted degree_y</th>\n      <th>pagerank_y</th>\n      <th>Cluster_y</th>\n      <th>profile_y</th>\n      <th>artist1_num</th>\n      <th>artist2_num</th>\n      <th>years_on_charts</th>\n      <th>date</th>\n    </tr>\n  </thead>\n  <tbody>\n    <tr>\n      <th>0</th>\n      <td>7kXUEJmfvRXbzxOC0pHQgb</td>\n      <td>I Can't Believe I'm Losing You</td>\n      <td>5.0</td>\n      <td>False</td>\n      <td>Solo</td>\n      <td>12.0</td>\n      <td>1.0</td>\n      <td>79.0</td>\n      <td>1995-01-01</td>\n      <td>162667.0</td>\n      <td>...</td>\n      <td>0.0</td>\n      <td>0.0</td>\n      <td>0.0</td>\n      <td>0.0</td>\n      <td>-1.0</td>\n      <td>No Match</td>\n      <td>16718.0</td>\n      <td>0.0</td>\n      <td>0.0</td>\n      <td>1995-01-01</td>\n    </tr>\n    <tr>\n      <th>3659</th>\n      <td>5pedBzuqzuqb8NPXqXFm1T</td>\n      <td>Song To The Siren - Live From Sabresonic Night...</td>\n      <td>35.0</td>\n      <td>False</td>\n      <td>Solo</td>\n      <td>3.0</td>\n      <td>1.0</td>\n      <td>79.0</td>\n      <td>1995-01-01</td>\n      <td>196827.0</td>\n      <td>...</td>\n      <td>0.0</td>\n      <td>0.0</td>\n      <td>0.0</td>\n      <td>0.0</td>\n      <td>-1.0</td>\n      <td>No Match</td>\n      <td>24444.0</td>\n      <td>0.0</td>\n      <td>0.0</td>\n      <td>1995-01-01</td>\n    </tr>\n    <tr>\n      <th>3658</th>\n      <td>7E89BPSPTtBaR9mKK88WhD</td>\n      <td>Three Little Birdies Down Beats</td>\n      <td>30.0</td>\n      <td>False</td>\n      <td>Solo</td>\n      <td>4.0</td>\n      <td>1.0</td>\n      <td>79.0</td>\n      <td>1995-01-01</td>\n      <td>338733.0</td>\n      <td>...</td>\n      <td>0.0</td>\n      <td>0.0</td>\n      <td>0.0</td>\n      <td>0.0</td>\n      <td>-1.0</td>\n      <td>No Match</td>\n      <td>24444.0</td>\n      <td>0.0</td>\n      <td>0.0</td>\n      <td>1995-01-01</td>\n    </tr>\n    <tr>\n      <th>3657</th>\n      <td>1xdRFXv3ytSOdj8GuT3Rge</td>\n      <td>Thank You Lord (Interlude)</td>\n      <td>20.0</td>\n      <td>False</td>\n      <td>Solo</td>\n      <td>10.0</td>\n      <td>1.0</td>\n      <td>77.0</td>\n      <td>1995-01-01</td>\n      <td>56067.0</td>\n      <td>...</td>\n      <td>0.0</td>\n      <td>0.0</td>\n      <td>0.0</td>\n      <td>0.0</td>\n      <td>-1.0</td>\n      <td>No Match</td>\n      <td>17879.0</td>\n      <td>0.0</td>\n      <td>0.0</td>\n      <td>1995-01-01</td>\n    </tr>\n    <tr>\n      <th>3656</th>\n      <td>5wlQIBbKIWoB7AnSw09C6C</td>\n      <td>All This Love</td>\n      <td>26.0</td>\n      <td>False</td>\n      <td>Solo</td>\n      <td>9.0</td>\n      <td>1.0</td>\n      <td>77.0</td>\n      <td>1995-01-01</td>\n      <td>361840.0</td>\n      <td>...</td>\n      <td>0.0</td>\n      <td>0.0</td>\n      <td>0.0</td>\n      <td>0.0</td>\n      <td>-1.0</td>\n      <td>No Match</td>\n      <td>17879.0</td>\n      <td>0.0</td>\n      <td>0.0</td>\n      <td>1995-01-01</td>\n    </tr>\n    <tr>\n      <th>...</th>\n      <td>...</td>\n      <td>...</td>\n      <td>...</td>\n      <td>...</td>\n      <td>...</td>\n      <td>...</td>\n      <td>...</td>\n      <td>...</td>\n      <td>...</td>\n      <td>...</td>\n      <td>...</td>\n      <td>...</td>\n      <td>...</td>\n      <td>...</td>\n      <td>...</td>\n      <td>...</td>\n      <td>...</td>\n      <td>...</td>\n      <td>...</td>\n      <td>...</td>\n      <td>...</td>\n    </tr>\n    <tr>\n      <th>683396</th>\n      <td>6xUjsB26W7wzU4MSlZ9v2W</td>\n      <td>Afterglow (174 BPM)</td>\n      <td>0.0</td>\n      <td>False</td>\n      <td>Solo</td>\n      <td>16.0</td>\n      <td>1.0</td>\n      <td>79.0</td>\n      <td>2015-08-19</td>\n      <td>169918.0</td>\n      <td>...</td>\n      <td>0.0</td>\n      <td>0.0</td>\n      <td>0.0</td>\n      <td>0.0</td>\n      <td>-1.0</td>\n      <td>No Match</td>\n      <td>9385.0</td>\n      <td>0.0</td>\n      <td>0.0</td>\n      <td>2015-08-19</td>\n    </tr>\n    <tr>\n      <th>683430</th>\n      <td>5AZQNFCdxA3W1nssrtu4Yr</td>\n      <td>能登半島 Originally Performed By 石川さゆり (オルゴール)</td>\n      <td>0.0</td>\n      <td>False</td>\n      <td>Solo</td>\n      <td>7.0</td>\n      <td>1.0</td>\n      <td>79.0</td>\n      <td>2015-08-19</td>\n      <td>201027.0</td>\n      <td>...</td>\n      <td>0.0</td>\n      <td>0.0</td>\n      <td>0.0</td>\n      <td>0.0</td>\n      <td>-1.0</td>\n      <td>No Match</td>\n      <td>18654.0</td>\n      <td>0.0</td>\n      <td>0.0</td>\n      <td>2015-08-19</td>\n    </tr>\n    <tr>\n      <th>683431</th>\n      <td>0gvKPCmhJzXa4YgptrNvI4</td>\n      <td>Up the Hill</td>\n      <td>0.0</td>\n      <td>False</td>\n      <td>Solo</td>\n      <td>30.0</td>\n      <td>1.0</td>\n      <td>79.0</td>\n      <td>2015-08-19</td>\n      <td>142681.0</td>\n      <td>...</td>\n      <td>0.0</td>\n      <td>0.0</td>\n      <td>0.0</td>\n      <td>0.0</td>\n      <td>-1.0</td>\n      <td>No Match</td>\n      <td>840.0</td>\n      <td>0.0</td>\n      <td>0.0</td>\n      <td>2015-08-19</td>\n    </tr>\n    <tr>\n      <th>683432</th>\n      <td>5FDxZkCXwOOO0CQP3zQUBL</td>\n      <td>浪花恋しぐれ Originally Performed By 都はるみ・岡千秋 (オルゴール)</td>\n      <td>0.0</td>\n      <td>False</td>\n      <td>Solo</td>\n      <td>6.0</td>\n      <td>1.0</td>\n      <td>79.0</td>\n      <td>2015-08-19</td>\n      <td>184373.0</td>\n      <td>...</td>\n      <td>0.0</td>\n      <td>0.0</td>\n      <td>0.0</td>\n      <td>0.0</td>\n      <td>-1.0</td>\n      <td>No Match</td>\n      <td>18654.0</td>\n      <td>0.0</td>\n      <td>0.0</td>\n      <td>2015-08-19</td>\n    </tr>\n    <tr>\n      <th>683433</th>\n      <td>3m3CVlgUzXQaFkXdMPV3nI</td>\n      <td>バス・ストップ Originally Performed By 平浩二 (オルゴール)</td>\n      <td>1.0</td>\n      <td>False</td>\n      <td>Solo</td>\n      <td>5.0</td>\n      <td>1.0</td>\n      <td>79.0</td>\n      <td>2015-08-19</td>\n      <td>227507.0</td>\n      <td>...</td>\n      <td>0.0</td>\n      <td>0.0</td>\n      <td>0.0</td>\n      <td>0.0</td>\n      <td>-1.0</td>\n      <td>No Match</td>\n      <td>18654.0</td>\n      <td>0.0</td>\n      <td>0.0</td>\n      <td>2015-08-19</td>\n    </tr>\n  </tbody>\n</table>\n<p>683270 rows × 51 columns</p>\n</div>"
     },
     "execution_count": 10,
     "metadata": {},
     "output_type": "execute_result"
    }
   ],
   "source": [
    "train_df"
   ],
   "metadata": {
    "collapsed": false,
    "ExecuteTime": {
     "end_time": "2024-06-24T12:10:52.161426900Z",
     "start_time": "2024-06-24T12:10:51.817429200Z"
    }
   },
   "id": "b28638da1c926d60"
  },
  {
   "cell_type": "code",
   "execution_count": 11,
   "outputs": [
    {
     "data": {
      "text/plain": "                       song_id  rank_score  peak_position  weeks_on_chart  \\\n0       3e9HZxeyfWwjeyPAMmWSSQ         100            100               7   \n1       5p7ujcrUXASCNwRaWNHR1C          99             99              11   \n2       2xLMifQCjDGFmkHkpNLD9h          98            100              20   \n3       3KkXRkHbMCARz0aVfEt68P          97             97               9   \n4       1rqqCSm0Qe4I9rUvWncaom          95             96              20   \n...                        ...         ...            ...             ...   \n250387  6vPS75nWOKkuH5WTLD8hDc           7             23               5   \n250388  2BCjoFA0nJlXBLRf3164bN           6              6               0   \n250389  7Gk1QKi2BAZCnrYlrYEDjC           4             11               4   \n250390  7rxev6ErpRE5VYaamjs4T3           2              2               0   \n250391  1TRvdHDqCIcTQpHTZbFttC           1              1               0   \n\n             week  \n0      2018-12-29  \n1      2018-12-29  \n2      2018-12-29  \n3      2018-12-29  \n4      2018-12-29  \n...           ...  \n250387 1964-01-04  \n250388 1964-01-04  \n250389 1964-01-04  \n250390 1964-01-04  \n250391 1964-01-04  \n\n[250392 rows x 5 columns]",
      "text/html": "<div>\n<style scoped>\n    .dataframe tbody tr th:only-of-type {\n        vertical-align: middle;\n    }\n\n    .dataframe tbody tr th {\n        vertical-align: top;\n    }\n\n    .dataframe thead th {\n        text-align: right;\n    }\n</style>\n<table border=\"1\" class=\"dataframe\">\n  <thead>\n    <tr style=\"text-align: right;\">\n      <th></th>\n      <th>song_id</th>\n      <th>rank_score</th>\n      <th>peak_position</th>\n      <th>weeks_on_chart</th>\n      <th>week</th>\n    </tr>\n  </thead>\n  <tbody>\n    <tr>\n      <th>0</th>\n      <td>3e9HZxeyfWwjeyPAMmWSSQ</td>\n      <td>100</td>\n      <td>100</td>\n      <td>7</td>\n      <td>2018-12-29</td>\n    </tr>\n    <tr>\n      <th>1</th>\n      <td>5p7ujcrUXASCNwRaWNHR1C</td>\n      <td>99</td>\n      <td>99</td>\n      <td>11</td>\n      <td>2018-12-29</td>\n    </tr>\n    <tr>\n      <th>2</th>\n      <td>2xLMifQCjDGFmkHkpNLD9h</td>\n      <td>98</td>\n      <td>100</td>\n      <td>20</td>\n      <td>2018-12-29</td>\n    </tr>\n    <tr>\n      <th>3</th>\n      <td>3KkXRkHbMCARz0aVfEt68P</td>\n      <td>97</td>\n      <td>97</td>\n      <td>9</td>\n      <td>2018-12-29</td>\n    </tr>\n    <tr>\n      <th>4</th>\n      <td>1rqqCSm0Qe4I9rUvWncaom</td>\n      <td>95</td>\n      <td>96</td>\n      <td>20</td>\n      <td>2018-12-29</td>\n    </tr>\n    <tr>\n      <th>...</th>\n      <td>...</td>\n      <td>...</td>\n      <td>...</td>\n      <td>...</td>\n      <td>...</td>\n    </tr>\n    <tr>\n      <th>250387</th>\n      <td>6vPS75nWOKkuH5WTLD8hDc</td>\n      <td>7</td>\n      <td>23</td>\n      <td>5</td>\n      <td>1964-01-04</td>\n    </tr>\n    <tr>\n      <th>250388</th>\n      <td>2BCjoFA0nJlXBLRf3164bN</td>\n      <td>6</td>\n      <td>6</td>\n      <td>0</td>\n      <td>1964-01-04</td>\n    </tr>\n    <tr>\n      <th>250389</th>\n      <td>7Gk1QKi2BAZCnrYlrYEDjC</td>\n      <td>4</td>\n      <td>11</td>\n      <td>4</td>\n      <td>1964-01-04</td>\n    </tr>\n    <tr>\n      <th>250390</th>\n      <td>7rxev6ErpRE5VYaamjs4T3</td>\n      <td>2</td>\n      <td>2</td>\n      <td>0</td>\n      <td>1964-01-04</td>\n    </tr>\n    <tr>\n      <th>250391</th>\n      <td>1TRvdHDqCIcTQpHTZbFttC</td>\n      <td>1</td>\n      <td>1</td>\n      <td>0</td>\n      <td>1964-01-04</td>\n    </tr>\n  </tbody>\n</table>\n<p>250392 rows × 5 columns</p>\n</div>"
     },
     "execution_count": 11,
     "metadata": {},
     "output_type": "execute_result"
    }
   ],
   "source": [
    "df_song_chart = pd.read_csv(\"../../MusicOSet/musicoset_popularity/song_chart.csv\", sep=\"\\t\")            #nur auf train daten, da rest unbekannt (für charts)\n",
    "df_song_chart['week'] = pd.to_datetime(df_song_chart['week']) #evtl später wegen runtime\n",
    "df_song_chart"
   ],
   "metadata": {
    "collapsed": false,
    "ExecuteTime": {
     "end_time": "2024-06-24T12:10:52.321425500Z",
     "start_time": "2024-06-24T12:10:52.160427100Z"
    }
   },
   "id": "948fa20163451baa"
  },
  {
   "cell_type": "code",
   "execution_count": 12,
   "outputs": [
    {
     "data": {
      "text/plain": "                      song_id  \\\n0      3e9HZxeyfWwjeyPAMmWSSQ   \n1      5p7ujcrUXASCNwRaWNHR1C   \n2      2xLMifQCjDGFmkHkpNLD9h   \n3      3KkXRkHbMCARz0aVfEt68P   \n4      1rqqCSm0Qe4I9rUvWncaom   \n...                       ...   \n20400  4NnhLA66RRLXxKbiiscU9R   \n20401  2jHfXdCLibrI1J56LnUAZv   \n20402  6zqsyB7uIvWrL1iCJzpNrs   \n20403  5mz9pQZZXNpAw9CdQ7Bk8q   \n20404  2H9CKpZiLDF223BbwehpDF   \n\n                                            artists_ids  \n0                              [66CXWjxzNUsdJxJ2JdwvnR]  \n1                              [26VFTg2z8YR0cCuwLzESi2]  \n2                              [0Y5tJX1MQlPlqiwlOH1tJY]  \n3      [246dkjvS1zLTtiykXe5h60, 1zNqQNIdeOUZHb8zbZRFMX]  \n4                              [20JZFwl6HVl6yg8a4H3ZqK]  \n...                                                 ...  \n20400                          [5X3TuTi9OIsJXMGxPwTKM2]  \n20401                          [6lHC2EQMEMZiEmSfFloarn]  \n20402                          [5X3TuTi9OIsJXMGxPwTKM2]  \n20403                          [6lHC2EQMEMZiEmSfFloarn]  \n20404                          [6wPhSqRtPu1UhRCDX5yaDJ]  \n\n[20405 rows x 2 columns]",
      "text/html": "<div>\n<style scoped>\n    .dataframe tbody tr th:only-of-type {\n        vertical-align: middle;\n    }\n\n    .dataframe tbody tr th {\n        vertical-align: top;\n    }\n\n    .dataframe thead th {\n        text-align: right;\n    }\n</style>\n<table border=\"1\" class=\"dataframe\">\n  <thead>\n    <tr style=\"text-align: right;\">\n      <th></th>\n      <th>song_id</th>\n      <th>artists_ids</th>\n    </tr>\n  </thead>\n  <tbody>\n    <tr>\n      <th>0</th>\n      <td>3e9HZxeyfWwjeyPAMmWSSQ</td>\n      <td>[66CXWjxzNUsdJxJ2JdwvnR]</td>\n    </tr>\n    <tr>\n      <th>1</th>\n      <td>5p7ujcrUXASCNwRaWNHR1C</td>\n      <td>[26VFTg2z8YR0cCuwLzESi2]</td>\n    </tr>\n    <tr>\n      <th>2</th>\n      <td>2xLMifQCjDGFmkHkpNLD9h</td>\n      <td>[0Y5tJX1MQlPlqiwlOH1tJY]</td>\n    </tr>\n    <tr>\n      <th>3</th>\n      <td>3KkXRkHbMCARz0aVfEt68P</td>\n      <td>[246dkjvS1zLTtiykXe5h60, 1zNqQNIdeOUZHb8zbZRFMX]</td>\n    </tr>\n    <tr>\n      <th>4</th>\n      <td>1rqqCSm0Qe4I9rUvWncaom</td>\n      <td>[20JZFwl6HVl6yg8a4H3ZqK]</td>\n    </tr>\n    <tr>\n      <th>...</th>\n      <td>...</td>\n      <td>...</td>\n    </tr>\n    <tr>\n      <th>20400</th>\n      <td>4NnhLA66RRLXxKbiiscU9R</td>\n      <td>[5X3TuTi9OIsJXMGxPwTKM2]</td>\n    </tr>\n    <tr>\n      <th>20401</th>\n      <td>2jHfXdCLibrI1J56LnUAZv</td>\n      <td>[6lHC2EQMEMZiEmSfFloarn]</td>\n    </tr>\n    <tr>\n      <th>20402</th>\n      <td>6zqsyB7uIvWrL1iCJzpNrs</td>\n      <td>[5X3TuTi9OIsJXMGxPwTKM2]</td>\n    </tr>\n    <tr>\n      <th>20403</th>\n      <td>5mz9pQZZXNpAw9CdQ7Bk8q</td>\n      <td>[6lHC2EQMEMZiEmSfFloarn]</td>\n    </tr>\n    <tr>\n      <th>20404</th>\n      <td>2H9CKpZiLDF223BbwehpDF</td>\n      <td>[6wPhSqRtPu1UhRCDX5yaDJ]</td>\n    </tr>\n  </tbody>\n</table>\n<p>20405 rows × 2 columns</p>\n</div>"
     },
     "execution_count": 12,
     "metadata": {},
     "output_type": "execute_result"
    }
   ],
   "source": [
    "df_songs = pd.read_csv(\"../../MusicOSet/musicoset_metadata/songs.csv\", sep=\"\\t\")            #nur auf train daten, da rest unbekannt (für charts)\n",
    "df_songs[\"artists_ids\"] = df_songs[\"artists\"].apply(lambda x: list((eval(x)).keys()))\n",
    "df_songs = df_songs[[\"song_id\", 'artists_ids']]\n",
    "df_songs"
   ],
   "metadata": {
    "collapsed": false,
    "ExecuteTime": {
     "end_time": "2024-06-24T12:10:52.534427800Z",
     "start_time": "2024-06-24T12:10:52.315426700Z"
    }
   },
   "id": "7cacf2570ff5145b"
  },
  {
   "cell_type": "code",
   "execution_count": 13,
   "outputs": [
    {
     "data": {
      "text/plain": "1.0"
     },
     "execution_count": 13,
     "metadata": {},
     "output_type": "execute_result"
    }
   ],
   "source": [
    "def superstar(n, d, p):\n",
    "    sup = 0\n",
    "    for i in range(len(d)):\n",
    "        sup += (d[i] + p[i])/2         #d[i] * p[i]          #um vanishing für einen 0 value zu verhindern alternativ: d+p/2 also mean nehmen?\n",
    "        # oder aus allem den mean?\n",
    "    return 1/n**2 * sup\n",
    "\n",
    "def superstar_2(n, d, p):\n",
    "    sup = 0\n",
    "    for i in range(len(d)):\n",
    "        sup += (d[i] + p[i])/2         #d[i] * p[i]          #um vanishing für einen 0 value zu verhindern alternativ: d+p/2 also mean nehmen?\n",
    "        # oder aus allem den mean?\n",
    "    return 1/n * sup\n",
    "\n",
    "def superstar_3(n, d, p):\n",
    "    sup = 0\n",
    "    for i in range(len(d)):\n",
    "        sup += p[i]        #d[i] * p[i]          #um vanishing für einen 0 value zu verhindern alternativ: d+p/2 also mean nehmen?\n",
    "        # oder aus allem den mean?\n",
    "    return 1/n**2 * sup\n",
    "\n",
    "def superstar_4(n, d, p):\n",
    "    sup = 0\n",
    "    for i in range(len(d)):\n",
    "        sup += d[i]          #d[i] * p[i]          #um vanishing für einen 0 value zu verhindern alternativ: d+p/2 also mean nehmen?\n",
    "        # oder aus allem den mean?\n",
    "    return 1/n**2 * sup\n",
    "\n",
    "def superstar_5(n, d, p, s):\n",
    "    sup = 0\n",
    "    for i in range(len(d)):\n",
    "        sup += (d[i] + p[i])/2         #d[i] * p[i]          #um vanishing für einen 0 value zu verhindern alternativ: d+p/2 also mean nehmen?\n",
    "        # oder aus allem den mean?\n",
    "    return (1-s)/n**2 * sup\n",
    "\n",
    "superstar(1, [1], [1])      #kommt es in produktivcode vor? wie mit nicht vorkommenden Werten umgehen?"
   ],
   "metadata": {
    "collapsed": false,
    "ExecuteTime": {
     "end_time": "2024-06-24T12:10:52.550426900Z",
     "start_time": "2024-06-24T12:10:52.540426300Z"
    }
   },
   "id": "b5ff8ba811c4dfbd"
  },
  {
   "cell_type": "code",
   "execution_count": 14,
   "outputs": [
    {
     "data": {
      "text/plain": "([0.0, 0.24242424242424243, 0.494949494949495, 0.7474747474747475, 1.0],\n [0.0, 0.25, 0.5, 0.75, 1.0],\n 94608000)"
     },
     "execution_count": 14,
     "metadata": {},
     "output_type": "execute_result"
    }
   ],
   "source": [
    "def min_max_scaling(arr, min_val, max_val):\n",
    "    return [(x - min_val)/(max_val - min_val) for x in arr]\n",
    "\n",
    "past_years = 3\n",
    "max_amount_days = past_years*365\n",
    "max_distance_float = max_amount_days*24*60*60\n",
    "\n",
    "peak_positions = [1, 25, 50, 75, 100]\n",
    "days_distances = [0.00, max_distance_float*0.25, max_distance_float*0.5, max_distance_float*0.75, max_distance_float]\n",
    "peak_positions = min_max_scaling(peak_positions, 1, 100) #101 oder 100 als edge \n",
    "# change to (0,1], sonst sobald ein wert 0 ist also min, dann resultat auch 0 => 0 ist viel zu common siehe bsp file\n",
    "# => min value um 1 reduzieren um skalar zu verschieben\n",
    "days_distances = min_max_scaling(days_distances, 0.0, max_distance_float)\n",
    "peak_positions, days_distances, max_distance_float   ###skalierungsproblem!     "
   ],
   "metadata": {
    "collapsed": false,
    "ExecuteTime": {
     "end_time": "2024-06-24T12:10:52.587426700Z",
     "start_time": "2024-06-24T12:10:52.555426700Z"
    }
   },
   "id": "89dc6a7b881f4ce7"
  },
  {
   "cell_type": "markdown",
   "source": [
    "find out where sideeffects are:"
   ],
   "metadata": {
    "collapsed": false
   },
   "id": "7c81123ea489c0f0"
  },
  {
   "cell_type": "code",
   "execution_count": 15,
   "outputs": [],
   "source": [
    "data_hsp = pd.read_csv(\"HSP_song_collab.csv\", delimiter=\",\")\n"
   ],
   "metadata": {
    "collapsed": false,
    "ExecuteTime": {
     "end_time": "2024-06-24T12:10:57.530729Z",
     "start_time": "2024-06-24T12:10:52.567427600Z"
    }
   },
   "id": "e6665dfd4ee22277"
  },
  {
   "cell_type": "code",
   "execution_count": 16,
   "outputs": [],
   "source": [
    "data_hsp['date'] = pd.to_datetime(data_hsp['release_date'])\n",
    "data_hsp.sort_values(by=\"date\", inplace=True)\n",
    "\n",
    "# split_day = data_hsp[\"date\"].iloc[-1]  - pd.DateOffset(years=1)\n",
    "# train_df_hsp = data_hsp[(data_hsp[\"date\"]  < split_day)].copy()\n",
    "# test_df_hsp = data_hsp[(data_hsp[\"date\"]  >= split_day)].copy()\n",
    "train_df_hsp, test_df_hsp = train_test_split(data_hsp, test_size=0.25, shuffle=False)"
   ],
   "metadata": {
    "collapsed": false,
    "ExecuteTime": {
     "end_time": "2024-06-24T12:10:58.215727700Z",
     "start_time": "2024-06-24T12:10:57.551728200Z"
    }
   },
   "id": "d02f72f7c454f1e"
  },
  {
   "cell_type": "code",
   "execution_count": 17,
   "outputs": [],
   "source": [
    "import numpy as np\n",
    "\n",
    "def calculate_mae(df1, df2, col1):\n",
    "    \"\"\"\n",
    "    This function calculates the mean absolute error (MAE) between two columns in two DataFrames.\n",
    "  \n",
    "    Args:\n",
    "        df1 (pandas.DataFrame): The first DataFrame.\n",
    "        df2 (pandas.DataFrame): The second DataFrame.\n",
    "        col1 (str): The name of the column in the first DataFrame.\n",
    "        col2 (str): The name of the column in the second DataFrame.\n",
    "  \n",
    "    Returns:\n",
    "        float: The mean absolute error between the two columns.\n",
    "    \"\"\"\n",
    "    #if not all(col in df for col in [col1, col2]) or not df1[col1].dtypes == df2[col2].dtypes:\n",
    "    #    raise ValueError(\"Columns must exist in both DataFrames and have the same data type.\")\n",
    "    #if col1 not in df1 or col1 not in df2 or df1[col1].dtypes != df2[col1].dtypes:\n",
    "    #raise ValueError(\"Columns must exist in both DataFrames and have the same data type.\")\n",
    "    #return col1, np.mean(np.abs(df1[col1] - df2[col1]))\n",
    "    outp_dict ={}\n",
    "    for i in  col1:\n",
    "        outp_dict[i] = np.mean(np.abs(df1[i] - df2[i]))\n",
    "    return outp_dict\n",
    "\n",
    "def nr_coloumns(df1, columns_u):\n",
    "    numerical_df1 = df1[columns_u].select_dtypes(include=['number'])\n",
    "    return numerical_df1"
   ],
   "metadata": {
    "collapsed": false,
    "ExecuteTime": {
     "end_time": "2024-06-24T12:10:58.231728600Z",
     "start_time": "2024-06-24T12:10:58.220727800Z"
    }
   },
   "id": "14dd16ac1387711c"
  },
  {
   "cell_type": "code",
   "execution_count": 18,
   "outputs": [
    {
     "data": {
      "text/plain": "{'song_popularity': 8.497680770373579,\n 'track_number': 6.432022201372656,\n 'num_artists': 0.12347171622992355,\n 'num_available_markets': 14.025664482341215,\n 'duration_ms': 80706.42706080213,\n 'key': 4.036729715706051,\n 'mode': 0.39533912102366947,\n 'time_signature': 0.21900141116629154,\n 'acousticness': 0.33160678066416177,\n 'danceability': 0.17662280960091034,\n 'energy': 0.2494544018334072,\n 'instrumentalness': 0.26326364255955426,\n 'liveness': 0.17071688512734703,\n 'loudness': 4.281467990892709,\n 'speechiness': 0.06923708021109215,\n 'valence': 0.28618716901096375,\n 'tempo': 32.766977574372575,\n 'hit': 0.027385791297143885,\n 'betweenesscentrality_x': 0.09281030870995466,\n 'closnesscentrality_x': 0.19751373235412967,\n 'clustering_x': 0.016380423905956135,\n 'degree_x': 9.692758060951316,\n 'eccentricity_x': 4.1022129651449575,\n 'eigencentrality_x': 0.3388153176648871,\n 'weighted degree_x': 8281.972245356783,\n 'pagerank_x': 0.00021831060889280417,\n 'Cluster_x': 0.8733183938548099,\n 'betweenesscentrality_y': 0.0052066167957296305,\n 'closnesscentrality_y': 0.03777707083287727,\n 'clustering_y': 0.00521285401697867,\n 'degree_y': 1.8916804864161498,\n 'eccentricity_y': 1.2146879176113619,\n 'eigencentrality_y': 0.013959772355327964,\n 'weighted degree_y': 73.29647936697985,\n 'pagerank_y': 2.847132715546937e-05,\n 'Cluster_y': 0.2021162147010909,\n 'artist1_num': 6872.290096179601,\n 'artist2_num': 1711.1168397001761,\n 'years_on_charts': 0.006867944135576299}"
     },
     "execution_count": 18,
     "metadata": {},
     "output_type": "execute_result"
    }
   ],
   "source": [
    "num_sup = nr_coloumns(train_df, train_df_hsp.columns)\n",
    "num_hsp = nr_coloumns(train_df_hsp, train_df_hsp.columns)\n",
    "num_hsp.reset_index(drop=True, inplace=True)\n",
    "\n",
    "calculate_mae(num_sup, num_hsp, num_sup.columns)"
   ],
   "metadata": {
    "collapsed": false,
    "ExecuteTime": {
     "end_time": "2024-06-24T12:11:01.295728400Z",
     "start_time": "2024-06-24T12:10:58.400727400Z"
    }
   },
   "id": "ba9729e33147a3dd"
  },
  {
   "cell_type": "markdown",
   "source": [
    "check"
   ],
   "metadata": {
    "collapsed": false
   },
   "id": "7ac1c6bb5c8624c0"
  },
  {
   "cell_type": "code",
   "execution_count": null,
   "outputs": [
    {
     "name": "stdout",
     "output_type": "stream",
     "text": [
      "0\n",
      "10000\n",
      "20000\n",
      "30000\n",
      "40000\n",
      "50000\n",
      "60000\n",
      "70000\n",
      "80000\n",
      "90000\n",
      "100000\n",
      "110000\n",
      "120000\n",
      "130000\n",
      "140000\n",
      "150000\n",
      "160000\n",
      "170000\n",
      "180000\n",
      "190000\n",
      "200000\n",
      "210000\n",
      "220000\n",
      "230000\n",
      "240000\n",
      "250000\n",
      "260000\n",
      "270000\n",
      "280000\n",
      "290000\n",
      "300000\n",
      "310000\n",
      "320000\n",
      "330000\n",
      "340000\n",
      "350000\n",
      "360000\n",
      "370000\n",
      "380000\n",
      "390000\n",
      "400000\n",
      "410000\n",
      "420000\n",
      "430000\n",
      "440000\n",
      "450000\n"
     ]
    }
   ],
   "source": [
    "import numpy as np\n",
    "\n",
    "past_years = 3\n",
    "max_amount_days = past_years * 365\n",
    "max_distance_float = max_amount_days * 24 * 60 * 60\n",
    "\n",
    "train_df[\"superstar_v1_x\"] = 1.0\n",
    "train_df[\"superstar_v1_y\"] = 1.0\n",
    "train_df[\"superstar_v2_x\"] = 1.0\n",
    "train_df[\"superstar_v2_y\"] = 1.0\n",
    "train_df[\"superstar_v3_x\"] = 1.0\n",
    "train_df[\"superstar_v3_y\"] = 1.0\n",
    "train_df[\"superstar_v4_x\"] = 1.0\n",
    "train_df[\"superstar_v4_y\"] = 1.0\n",
    "train_df[\"superstar_v5_x\"] = 1.0\n",
    "train_df[\"superstar_v5_y\"] = 1.0\n",
    "train_df[\"success_rate_x\"] = 0.0\n",
    "train_df[\"success_rate_y\"] = 0.0\n",
    "train_df[\"hits_in_past_x\"] = 0\n",
    "train_df[\"hits_in_past_y\"] = 0\n",
    "train_df[\"superstar_x\"] = 0\n",
    "train_df[\"superstar_y\"] = 0\n",
    "\n",
    "train_df.reset_index(drop=True, inplace=True)\n",
    "\n",
    "it = 0\n",
    "for index, row in train_df.iterrows():\n",
    "    artists_in_row = [row[\"artist1_id\"]]\n",
    "    if not pd.isna(row[\"artist2_id\"]):\n",
    "        artists_in_row.append(row[\"artist2_id\"])\n",
    "    \n",
    "    if it % 10000 == 0.0:\n",
    "        print(it)\n",
    "    it +=1\n",
    "    \n",
    "    present = row[\"date\"].replace(hour=23, minute=59, second=59)\n",
    "    border_day = present - pd.DateOffset(years=past_years)\n",
    "    to_filter = df_song_chart[(df_song_chart[\"week\"] <= present) & (df_song_chart[\"week\"] > border_day)]\n",
    "\n",
    "    for nr_art, artist in enumerate(artists_in_row):\n",
    "        hits_amount = 0\n",
    "        success_rate = 0.0\n",
    "        song_ids = []\n",
    "        peak_positions = []\n",
    "        days_distances = []\n",
    "\n",
    "        df_num_hit = pd.merge(to_filter, df_songs).reset_index(drop=True)\n",
    "        df_num_hit_cpy = df_num_hit.copy()\n",
    "        if not df_num_hit.empty:\n",
    "            df_num_hit = df_num_hit.drop_duplicates(subset=[\"song_id\"])\n",
    "            mask = [artist in artists for artists in df_num_hit['artists_ids']]\n",
    "            df_num_hit = df_num_hit[mask]\n",
    "            #df_num_hit = df_num_hit[df_num_hit[\"artists_ids\"].apply(lambda x: artist in x)]\n",
    "\n",
    "            hits_amount = df_num_hit[\"song_id\"].nunique()\n",
    "            song_ids = df_num_hit[\"song_id\"].tolist()\n",
    "\n",
    "            #insert rest of calc here\n",
    "            if hits_amount > 0:\n",
    "                for song_id in song_ids:\n",
    "                    df_song_peak_days = df_num_hit_cpy[df_num_hit_cpy[\"song_id\"] == song_id]\n",
    "                    min_peak_position = df_song_peak_days[\"peak_position\"].min()\n",
    "                    peak_positions.append(min_peak_position)\n",
    "    \n",
    "                    peak_week = df_song_peak_days.loc[df_song_peak_days[\"peak_position\"].idxmin()][\"week\"].replace(hour=23, minute=59, second=59)\n",
    "                    distance = abs(peak_week - present)\n",
    "                    days_distances.append(distance.total_seconds())\n",
    "\n",
    "                    filtered_artists = amount_songs[(amount_songs[\"date\"] <= present) & (amount_songs[\"date\"] > border_day)]\n",
    "                    filtered_artists = filtered_artists['id_artists'].map(lambda x: artist in x)\n",
    "                    song_count = filtered_artists.sum()\n",
    "                    success_rate = hits_amount/(song_count + hits_amount)\n",
    "    \n",
    "                peak_positions = min_max_scaling(peak_positions, 1, 100)\n",
    "                days_distances = min_max_scaling(days_distances, 0.00, max_distance_float)\n",
    "    \n",
    "                if nr_art == 0:\n",
    "                    train_df.at[index, \"superstar_v1_x\"] = superstar(hits_amount, peak_positions, days_distances)\n",
    "                    train_df.at[index, \"superstar_v2_x\"] = superstar_2(hits_amount, peak_positions, days_distances)\n",
    "                    train_df.at[index, \"superstar_v3_x\"] = superstar_3(hits_amount, peak_positions, days_distances)\n",
    "                    train_df.at[index, \"superstar_v4_x\"] = superstar_4(hits_amount, peak_positions, days_distances)\n",
    "                    train_df.at[index, \"superstar_v5_x\"] = superstar_5(hits_amount, peak_positions, days_distances, success_rate)\n",
    "                    train_df.at[index, \"success_rate_x\"] = success_rate\n",
    "                    train_df.at[index, \"hits_in_past_x\"] = hits_amount\n",
    "                    train_df.at[index, \"superstar_x\"] = 1\n",
    "                elif nr_art == 1:\n",
    "                    train_df.at[index, \"superstar_v1_y\"] = superstar(hits_amount, peak_positions, days_distances)\n",
    "                    train_df.at[index, \"superstar_v2_y\"] = superstar_2(hits_amount, peak_positions, days_distances)\n",
    "                    train_df.at[index, \"superstar_v3_y\"] = superstar_3(hits_amount, peak_positions, days_distances)\n",
    "                    train_df.at[index, \"superstar_v4_y\"] = superstar_4(hits_amount, peak_positions, days_distances)\n",
    "                    train_df.at[index, \"superstar_v5_y\"] = superstar_5(hits_amount, peak_positions, days_distances, success_rate)\n",
    "                    train_df.at[index, \"success_rate_y\"] = success_rate\n",
    "                    train_df.at[index, \"hits_in_past_y\"] = hits_amount\n",
    "                    train_df.at[index, \"superstar_y\"] = 1\n",
    "                    \n",
    "                    #fix this turn to i[loc]\n",
    "                #print(str(nr_art) + \":   \" + str(superstar(hits_amount, peak_positions, days_distances)))"
   ],
   "metadata": {
    "collapsed": false,
    "is_executing": true,
    "ExecuteTime": {
     "start_time": "2024-06-24T12:11:01.300728400Z"
    }
   },
   "id": "3986d58bb9d6a9a3"
  },
  {
   "cell_type": "markdown",
   "source": [
    "test2 loc"
   ],
   "metadata": {
    "collapsed": false
   },
   "id": "fdca7d6fba5a9a1"
  },
  {
   "cell_type": "code",
   "execution_count": null,
   "outputs": [],
   "source": [
    "num_sup = nr_coloumns(train_df, train_df_hsp.columns)\n",
    "num_hsp = nr_coloumns(train_df_hsp, train_df_hsp.columns)\n",
    "num_hsp.reset_index(drop=True, inplace=True)\n",
    "\n",
    "calculate_mae(num_sup, num_hsp, num_sup.columns)"
   ],
   "metadata": {
    "collapsed": false,
    "is_executing": true
   },
   "id": "11cecf46c5e2288"
  },
  {
   "cell_type": "markdown",
   "source": [
    "test2 end"
   ],
   "metadata": {
    "collapsed": false
   },
   "id": "1b60407a63e0716b"
  },
  {
   "cell_type": "code",
   "execution_count": null,
   "outputs": [],
   "source": [
    "numerical_df = train_df.select_dtypes(include=['number'])\n",
    "\n",
    "# Print min and max for each numerical column\n",
    "for column in numerical_df.columns:\n",
    "    min_value = numerical_df[column].min()\n",
    "    max_value = numerical_df[column].max()\n",
    "    print(f\"Column '{column}': min = {min_value}, max = {max_value}\")"
   ],
   "metadata": {
    "collapsed": false,
    "is_executing": true
   },
   "id": "99d7468bf66602d5"
  },
  {
   "cell_type": "code",
   "execution_count": null,
   "outputs": [],
   "source": [
    "train_df"
   ],
   "metadata": {
    "collapsed": false,
    "is_executing": true
   },
   "id": "3c61357868db20a9"
  },
  {
   "cell_type": "code",
   "execution_count": null,
   "outputs": [],
   "source": [
    "train_df.drop(columns=[\"date\"], inplace=True)\n",
    "#train_df.to_csv(\"train_df_superstar_v1_0.csv\", index=False)"
   ],
   "metadata": {
    "collapsed": false,
    "is_executing": true
   },
   "id": "8ced032ed41ff018"
  },
  {
   "cell_type": "code",
   "execution_count": null,
   "outputs": [],
   "source": [
    "# train_df = pd.read_csv(\"train_df_superstar_v1_0.csv\", sep=\",\")\n",
    "# train_df['date'] = pd.to_datetime(train_df['release_date'])\n",
    "# train_df.sort_values(by=\"date\", inplace=True)\n",
    "# train_df"
   ],
   "metadata": {
    "collapsed": false,
    "is_executing": true
   },
   "id": "6d6affba9926e41b"
  },
  {
   "cell_type": "code",
   "execution_count": null,
   "outputs": [],
   "source": [
    "#for rerunning\n",
    "test_df['date'] = pd.to_datetime(test_df['release_date'])"
   ],
   "metadata": {
    "collapsed": false,
    "is_executing": true
   },
   "id": "bed6d88e79a3214d"
  },
  {
   "cell_type": "code",
   "execution_count": null,
   "outputs": [],
   "source": [
    "border_start_train_day = (pd.to_datetime(train_df['release_date']).iloc[-1]).replace(hour=23, minute=59, second=59)\n",
    "border_start_train_day"
   ],
   "metadata": {
    "collapsed": false,
    "is_executing": true
   },
   "id": "1f48111fc9c83ae1"
  },
  {
   "cell_type": "markdown",
   "source": [
    "test3 start"
   ],
   "metadata": {
    "collapsed": false
   },
   "id": "de722f9a4e903a57"
  },
  {
   "cell_type": "code",
   "execution_count": null,
   "outputs": [],
   "source": [
    "num_sup = nr_coloumns(test_df, test_df_hsp.columns)\n",
    "num_hsp = nr_coloumns(test_df_hsp, test_df_hsp.columns)\n",
    "\n",
    "calculate_mae(num_sup, num_hsp, num_sup.columns)"
   ],
   "metadata": {
    "collapsed": false,
    "is_executing": true
   },
   "id": "29ba59a54752f376"
  },
  {
   "cell_type": "markdown",
   "source": [
    "test3 end"
   ],
   "metadata": {
    "collapsed": false
   },
   "id": "924bc13f8aa8743a"
  },
  {
   "cell_type": "code",
   "execution_count": null,
   "outputs": [],
   "source": [
    "import numpy as np\n",
    "\n",
    "past_years = 3\n",
    "max_amount_days = past_years * 365\n",
    "max_distance_float = max_amount_days * 24 * 60 * 60\n",
    "\n",
    "test_df[\"superstar_v1_x\"] = 1.0\n",
    "test_df[\"superstar_v1_y\"] = 1.0\n",
    "test_df[\"superstar_v2_x\"] = 1.0\n",
    "test_df[\"superstar_v2_y\"] = 1.0\n",
    "test_df[\"superstar_v3_x\"] = 1.0\n",
    "test_df[\"superstar_v3_y\"] = 1.0\n",
    "test_df[\"superstar_v4_x\"] = 1.0\n",
    "test_df[\"superstar_v4_y\"] = 1.0\n",
    "test_df[\"superstar_v5_x\"] = 1.0\n",
    "test_df[\"superstar_v5_y\"] = 1.0\n",
    "test_df[\"success_rate_x\"] = 0.0\n",
    "test_df[\"success_rate_y\"] = 0.0\n",
    "test_df[\"hits_in_past_x\"] = 0\n",
    "test_df[\"hits_in_past_y\"] = 0\n",
    "test_df[\"superstar_x\"] = 0\n",
    "test_df[\"superstar_y\"] = 0\n",
    "\n",
    "test_df.reset_index(drop=True, inplace=True)\n",
    "\n",
    "it = 0\n",
    "for index, row in test_df.iterrows():\n",
    "    artists_in_row = [row[\"artist1_id\"]]\n",
    "    if not pd.isna(row[\"artist2_id\"]):\n",
    "        artists_in_row.append(row[\"artist2_id\"])\n",
    "\n",
    "    if it % 10000 == 0.0:\n",
    "        print(it)\n",
    "    it +=1\n",
    "\n",
    "    present = row[\"date\"].replace(hour=23, minute=59, second=59)\n",
    "    border_day = present - pd.DateOffset(years=past_years)\n",
    "    to_filter = df_song_chart[(df_song_chart[\"week\"] <= border_start_train_day) & (df_song_chart[\"week\"] > border_day)]    \n",
    "\n",
    "    for nr_art, artist in enumerate(artists_in_row):\n",
    "        hits_amount = 0\n",
    "        success_rate = 0.0\n",
    "        song_ids = []\n",
    "        peak_positions = []\n",
    "        days_distances = []\n",
    "\n",
    "        df_num_hit = pd.merge(to_filter, df_songs).reset_index(drop=True)\n",
    "        df_num_hit_cpy = df_num_hit.copy()\n",
    "        if not df_num_hit.empty:\n",
    "            df_num_hit = df_num_hit.drop_duplicates(subset=[\"song_id\"])\n",
    "            mask = [artist in artists for artists in df_num_hit['artists_ids']]\n",
    "            df_num_hit = df_num_hit[mask]\n",
    "            #df_num_hit = df_num_hit[df_num_hit[\"artists_ids\"].apply(lambda x: artist in x)]\n",
    "\n",
    "            hits_amount = df_num_hit[\"song_id\"].nunique()\n",
    "            song_ids = df_num_hit[\"song_id\"].tolist()\n",
    "\n",
    "            #insert rest of calc here\n",
    "            if hits_amount > 0:\n",
    "                for song_id in song_ids:\n",
    "                    df_song_peak_days = df_num_hit_cpy[df_num_hit_cpy[\"song_id\"] == song_id]\n",
    "                    min_peak_position = df_song_peak_days[\"peak_position\"].min()\n",
    "                    peak_positions.append(min_peak_position)\n",
    "\n",
    "                    peak_week = df_song_peak_days.loc[df_song_peak_days[\"peak_position\"].idxmin()][\"week\"].replace(hour=23, minute=59, second=59)\n",
    "                    distance = abs(peak_week - present)\n",
    "                    days_distances.append(distance.total_seconds())\n",
    "\n",
    "                    filtered_artists = amount_songs[(amount_songs[\"date\"] <= border_start_train_day) & (amount_songs[\"date\"] > border_day)]\n",
    "                    filtered_artists = filtered_artists[filtered_artists['id_artists'].map(lambda x: artist in x)]\n",
    "                    song_count = len(filtered_artists)\n",
    "                    if song_count == 0:\n",
    "                        print(\"song_id\", row[\"song_id\"])\n",
    "                        print(artist)\n",
    "                    success_rate = hits_amount/(song_count + hits_amount) \n",
    "                    if success_rate > 1 or success_rate < 0:\n",
    "                        print(\"success_rate: \", success_rate)\n",
    "                        print(row[\"song_id\"])\n",
    "                        print(artist)\n",
    "                        \n",
    "\n",
    "                peak_positions = min_max_scaling(peak_positions, 1, 100)\n",
    "                days_distances = min_max_scaling(days_distances, 0.00, max_distance_float)\n",
    "                \n",
    "                # if superstar(hits_amount, peak_positions, days_distances) == 0:\n",
    "                #     print(hits_amount, peak_positions, days_distances, row[\"song_id\"])\n",
    "                    \n",
    "                if nr_art == 0:\n",
    "                    test_df.at[index, \"superstar_v1_x\"] = superstar(hits_amount, peak_positions, days_distances)\n",
    "                    test_df.at[index, \"superstar_v2_x\"] = superstar_2(hits_amount, peak_positions, days_distances)\n",
    "                    test_df.at[index, \"superstar_v3_x\"] = superstar_3(hits_amount, peak_positions, days_distances)\n",
    "                    test_df.at[index, \"superstar_v4_x\"] = superstar_4(hits_amount, peak_positions, days_distances)\n",
    "                    test_df.at[index, \"superstar_v5_x\"] = superstar_5(hits_amount, peak_positions, days_distances, success_rate)\n",
    "                    test_df.at[index, \"success_rate_x\"] = success_rate        \n",
    "                    test_df.at[index, \"hits_in_past_x\"] = hits_amount\n",
    "                    test_df.at[index, \"superstar_x\"] = 1\n",
    "                elif nr_art == 1:\n",
    "                    test_df.at[index, \"superstar_v1_y\"] = superstar(hits_amount, peak_positions, days_distances)\n",
    "                    test_df.at[index, \"superstar_v2_y\"] = superstar_2(hits_amount, peak_positions, days_distances)\n",
    "                    test_df.at[index, \"superstar_v3_y\"] = superstar_3(hits_amount, peak_positions, days_distances)\n",
    "                    test_df.at[index, \"superstar_v4_y\"] = superstar_4(hits_amount, peak_positions, days_distances)\n",
    "                    test_df.at[index, \"superstar_v5_y\"] = superstar_5(hits_amount, peak_positions, days_distances, success_rate)\n",
    "                    test_df.at[index, \"success_rate_y\"] = success_rate\n",
    "                    test_df.at[index, \"hits_in_past_y\"] = hits_amount\n",
    "                    test_df.at[index, \"superstar_y\"] = 1\n",
    "                #print(str(nr_art) + \":   \" + str(superstar(hits_amount, peak_positions, days_distances)))"
   ],
   "metadata": {
    "collapsed": false,
    "is_executing": true
   },
   "id": "24928d1a2c53b0e6"
  },
  {
   "cell_type": "markdown",
   "source": [
    "test 4 start"
   ],
   "metadata": {
    "collapsed": false
   },
   "id": "2f65c71d00e66473"
  },
  {
   "cell_type": "code",
   "execution_count": null,
   "outputs": [],
   "source": [
    "num_sup = nr_coloumns(test_df, test_df_hsp.columns)\n",
    "num_hsp = nr_coloumns(test_df_hsp, test_df_hsp.columns)\n",
    "num_hsp.reset_index(drop=True, inplace=True)\n",
    "\n",
    "calculate_mae(num_sup, num_hsp, num_sup.columns)"
   ],
   "metadata": {
    "collapsed": false,
    "is_executing": true
   },
   "id": "5a358778f2929097"
  },
  {
   "cell_type": "code",
   "execution_count": null,
   "outputs": [],
   "source": [
    "num_sup"
   ],
   "metadata": {
    "collapsed": false,
    "is_executing": true
   },
   "id": "ddd9db5f7452ba18"
  },
  {
   "cell_type": "code",
   "execution_count": null,
   "outputs": [],
   "source": [
    "num_hsp"
   ],
   "metadata": {
    "collapsed": false,
    "is_executing": true
   },
   "id": "a3b4684b75880080"
  },
  {
   "cell_type": "code",
   "execution_count": null,
   "outputs": [],
   "source": [
    "test_df"
   ],
   "metadata": {
    "collapsed": false,
    "is_executing": true
   },
   "id": "6652bdda67ca4b67"
  },
  {
   "cell_type": "markdown",
   "source": [
    "test 4 end"
   ],
   "metadata": {
    "collapsed": false
   },
   "id": "36c0f03643c71916"
  },
  {
   "cell_type": "code",
   "execution_count": null,
   "outputs": [],
   "source": [
    "test_df[test_df[\"song_id\"] == \"446Jufq5oOCwOSXbkqq5yD\"]"
   ],
   "metadata": {
    "collapsed": false,
    "is_executing": true
   },
   "id": "5e22d9b956580e0b"
  },
  {
   "cell_type": "markdown",
   "source": [
    "look at:\n",
    "\n",
    "0\n",
    "\n",
    "C:\\Users\\lasse\\AppData\\Local\\Temp\\ipykernel_17604\\2414811635.py:70: RuntimeWarning: divide by zero encountered in scalar divide\n",
    "  success_rate = hits_amount/song_count\n",
    "\n",
    "song_id 446Jufq5oOCwOSXbkqq5yD\n",
    "1By9QBFnjZAoI83BZppHlt\n",
    "success_rate:  inf\n",
    "446Jufq5oOCwOSXbkqq5yD\n",
    "1By9QBFnjZAoI83BZppHlt\n",
    "song_id 446Jufq5oOCwOSXbkqq5yD\n",
    "1By9QBFnjZAoI83BZppHlt\n",
    "success_rate:  inf\n",
    "446Jufq5oOCwOSXbkqq5yD\n",
    "1By9QBFnjZAoI83BZppHlt\n"
   ],
   "metadata": {
    "collapsed": false
   },
   "id": "55abab87eb6116ae"
  },
  {
   "cell_type": "code",
   "execution_count": null,
   "outputs": [],
   "source": [
    "numerical_df = test_df.select_dtypes(include=['number'])\n",
    "\n",
    "# Print min and max for each numerical column\n",
    "for column in numerical_df.columns:\n",
    "    min_value = numerical_df[column].min()\n",
    "    max_value = numerical_df[column].max()\n",
    "    print(f\"Column '{column}': min = {min_value}, max = {max_value}\")"
   ],
   "metadata": {
    "collapsed": false,
    "is_executing": true
   },
   "id": "fce0afad6741c96a"
  },
  {
   "cell_type": "code",
   "execution_count": null,
   "outputs": [],
   "source": [
    "test_df"
   ],
   "metadata": {
    "collapsed": false,
    "is_executing": true
   },
   "id": "2d78248d9a248f00"
  },
  {
   "cell_type": "code",
   "execution_count": null,
   "outputs": [],
   "source": [
    "test_df.drop(columns=[\"date\"], inplace=True)\n",
    "test_df.to_csv(\"test_df_superstar_v1_0.csv\", index=False)"
   ],
   "metadata": {
    "collapsed": false,
    "is_executing": true
   },
   "id": "7eb8c44b72d92d30"
  },
  {
   "cell_type": "code",
   "execution_count": null,
   "outputs": [],
   "source": [
    "data = pd.concat([train_df, test_df], axis=0)\n",
    "data.reset_index(drop=True, inplace=True)"
   ],
   "metadata": {
    "collapsed": false,
    "is_executing": true
   },
   "id": "4c68cd197e747d33"
  },
  {
   "cell_type": "markdown",
   "source": [
    "last test"
   ],
   "metadata": {
    "collapsed": false
   },
   "id": "9a0223abf735a1bc"
  },
  {
   "cell_type": "code",
   "execution_count": null,
   "outputs": [],
   "source": [
    "data_hsp.drop(columns=[\"date\"], inplace=True)\n",
    "num_sup = nr_coloumns(data, data_hsp.columns)\n",
    "num_hsp = nr_coloumns(data_hsp, data_hsp.columns)\n",
    "num_hsp.reset_index(drop=True, inplace=True)\n",
    "\n",
    "calculate_mae(num_sup, num_hsp, num_hsp.columns)"
   ],
   "metadata": {
    "collapsed": false,
    "is_executing": true
   },
   "id": "d8ca99459728d324"
  },
  {
   "cell_type": "markdown",
   "source": [
    "test end"
   ],
   "metadata": {
    "collapsed": false
   },
   "id": "bfc69fd666964a24"
  },
  {
   "cell_type": "code",
   "execution_count": null,
   "outputs": [],
   "source": [
    "data.to_csv(\"data_superstar_v1_0.csv\", index=False)"
   ],
   "metadata": {
    "collapsed": false,
    "is_executing": true
   },
   "id": "669a62789f340ac5"
  },
  {
   "cell_type": "code",
   "execution_count": null,
   "outputs": [],
   "source": [
    "lel = data[(data[\"song_id\"] == \"6frqShk9fhsOzoKPYXKzk9\")]\n",
    "lel.iloc[:, :-40]"
   ],
   "metadata": {
    "collapsed": false,
    "is_executing": true
   },
   "id": "278bbc91d4e055db"
  }
 ],
 "metadata": {
  "kernelspec": {
   "display_name": "Python 3",
   "language": "python",
   "name": "python3"
  },
  "language_info": {
   "codemirror_mode": {
    "name": "ipython",
    "version": 2
   },
   "file_extension": ".py",
   "mimetype": "text/x-python",
   "name": "python",
   "nbconvert_exporter": "python",
   "pygments_lexer": "ipython2",
   "version": "2.7.6"
  }
 },
 "nbformat": 4,
 "nbformat_minor": 5
}
