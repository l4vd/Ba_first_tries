{
 "cells": [
  {
   "cell_type": "code",
   "execution_count": 1,
   "id": "initial_id",
   "metadata": {
    "collapsed": true,
    "ExecuteTime": {
     "end_time": "2024-05-20T16:30:14.278273100Z",
     "start_time": "2024-05-20T16:30:12.401664400Z"
    }
   },
   "outputs": [
    {
     "data": {
      "text/plain": "                       song_id  \\\n0       3rTIDlmlGskGnRRqmRtvYn   \n1       6NlE71TbUglmKQVLhE1H8R   \n2       7mexukWpLrCVwAztkM8kQl   \n3       6hADH7b57N5666cGv624vg   \n4       5BivvNwjnn46R7zpo7SeM5   \n...                        ...   \n357161  5ke0edZBlwRYu01wdej6xq   \n357162  12kc7hUJKpArFQurhlNeNW   \n357163  0lej8CemYKkWVHg77Xe1ky   \n357164  7goArBQdsalqclSyaTywAS   \n357165  6Fh2QgjCxL96dA3Gtpfr4Q   \n\n                                                song_name  song_popularity  \\\n0                                           Lone Stranger              0.0   \n1                                                Evil Eye             52.0   \n2                                    Stand On the Horizon             46.0   \n3                                            Right Action             44.0   \n4                             Tones of Home - Power Remix              0.0   \n...                                                   ...              ...   \n357161                                         Let Her In              4.0   \n357162                             Stop and Think It Over              1.0   \n357163           A Man Holdin' on (To a Woman Lettin’ Go)             14.0   \n357164                                   Shimmy Shimmy Ya              7.0   \n357165  One Sweet Day (16-Bit Mariah Carey & Boyz II M...              0.0   \n\n        explicit      song_type  track_number  num_artists  \\\n0          False           Solo          19.0          1.0   \n1           True           Solo           2.0          1.0   \n2          False           Solo           4.0          1.0   \n3          False           Solo           1.0          1.0   \n4          False           Solo           6.0          1.0   \n...          ...            ...           ...          ...   \n357161     False           Solo           7.0          1.0   \n357162     False           Solo           9.0          1.0   \n357163     False  Collaboration           7.0          2.0   \n357164     False           Solo           8.0          1.0   \n357165     False           Solo          27.0          1.0   \n\n        num_available_markets release_date  duration_ms  ...  \\\n0                        74.0   2013-08-26     163255.0  ...   \n1                        77.0   2013-08-26     167253.0  ...   \n2                        77.0   2013-08-26     263120.0  ...   \n3                        77.0   2013-08-26     182280.0  ...   \n4                        79.0   2013-08-26     310150.0  ...   \n...                       ...          ...          ...  ...   \n357161                   79.0   2019-08-23     183600.0  ...   \n357162                   79.0   2019-08-23     154413.0  ...   \n357163                   79.0   2019-08-23     231898.0  ...   \n357164                   78.0   2019-08-23     161200.0  ...   \n357165                   79.0   2019-08-26     260910.0  ...   \n\n        closnesscentrality_y  clustering_y  degree_y  eccentricity_y  \\\n0                        0.0           0.0       0.0             0.0   \n1                        0.0           0.0       0.0             0.0   \n2                        0.0           0.0       0.0             0.0   \n3                        0.0           0.0       0.0             0.0   \n4                        0.0           0.0       0.0             0.0   \n...                      ...           ...       ...             ...   \n357161                   0.0           0.0       0.0             0.0   \n357162                   0.0           0.0       0.0             0.0   \n357163                   0.6           0.0       1.0             2.0   \n357164                   0.0           0.0       0.0             0.0   \n357165                   0.0           0.0       0.0             0.0   \n\n        eigencentrality_y  weighted degree_y  pagerank_y  Cluster_y  \\\n0                0.000000                0.0    0.000000       -1.0   \n1                0.000000                0.0    0.000000       -1.0   \n2                0.000000                0.0    0.000000       -1.0   \n3                0.000000                0.0    0.000000       -1.0   \n4                0.000000                0.0    0.000000       -1.0   \n...                   ...                ...         ...        ...   \n357161           0.000000                0.0    0.000000       -1.0   \n357162           0.000000                0.0    0.000000       -1.0   \n357163           0.347047                2.0    0.000039        2.0   \n357164           0.000000                0.0    0.000000       -1.0   \n357165           0.000000                0.0    0.000000       -1.0   \n\n          profile_y  years_on_charts  \n0          No Match         0.000000  \n1          No Match         0.000000  \n2          No Match         0.000000  \n3          No Match         0.000000  \n4          No Match         0.000000  \n...             ...              ...  \n357161     No Match         0.383562  \n357162     No Match         0.172603  \n357163  1A 2A 3A 4A         0.191781  \n357164     No Match         0.287671  \n357165     No Match         0.517808  \n\n[357166 rows x 49 columns]",
      "text/html": "<div>\n<style scoped>\n    .dataframe tbody tr th:only-of-type {\n        vertical-align: middle;\n    }\n\n    .dataframe tbody tr th {\n        vertical-align: top;\n    }\n\n    .dataframe thead th {\n        text-align: right;\n    }\n</style>\n<table border=\"1\" class=\"dataframe\">\n  <thead>\n    <tr style=\"text-align: right;\">\n      <th></th>\n      <th>song_id</th>\n      <th>song_name</th>\n      <th>song_popularity</th>\n      <th>explicit</th>\n      <th>song_type</th>\n      <th>track_number</th>\n      <th>num_artists</th>\n      <th>num_available_markets</th>\n      <th>release_date</th>\n      <th>duration_ms</th>\n      <th>...</th>\n      <th>closnesscentrality_y</th>\n      <th>clustering_y</th>\n      <th>degree_y</th>\n      <th>eccentricity_y</th>\n      <th>eigencentrality_y</th>\n      <th>weighted degree_y</th>\n      <th>pagerank_y</th>\n      <th>Cluster_y</th>\n      <th>profile_y</th>\n      <th>years_on_charts</th>\n    </tr>\n  </thead>\n  <tbody>\n    <tr>\n      <th>0</th>\n      <td>3rTIDlmlGskGnRRqmRtvYn</td>\n      <td>Lone Stranger</td>\n      <td>0.0</td>\n      <td>False</td>\n      <td>Solo</td>\n      <td>19.0</td>\n      <td>1.0</td>\n      <td>74.0</td>\n      <td>2013-08-26</td>\n      <td>163255.0</td>\n      <td>...</td>\n      <td>0.0</td>\n      <td>0.0</td>\n      <td>0.0</td>\n      <td>0.0</td>\n      <td>0.000000</td>\n      <td>0.0</td>\n      <td>0.000000</td>\n      <td>-1.0</td>\n      <td>No Match</td>\n      <td>0.000000</td>\n    </tr>\n    <tr>\n      <th>1</th>\n      <td>6NlE71TbUglmKQVLhE1H8R</td>\n      <td>Evil Eye</td>\n      <td>52.0</td>\n      <td>True</td>\n      <td>Solo</td>\n      <td>2.0</td>\n      <td>1.0</td>\n      <td>77.0</td>\n      <td>2013-08-26</td>\n      <td>167253.0</td>\n      <td>...</td>\n      <td>0.0</td>\n      <td>0.0</td>\n      <td>0.0</td>\n      <td>0.0</td>\n      <td>0.000000</td>\n      <td>0.0</td>\n      <td>0.000000</td>\n      <td>-1.0</td>\n      <td>No Match</td>\n      <td>0.000000</td>\n    </tr>\n    <tr>\n      <th>2</th>\n      <td>7mexukWpLrCVwAztkM8kQl</td>\n      <td>Stand On the Horizon</td>\n      <td>46.0</td>\n      <td>False</td>\n      <td>Solo</td>\n      <td>4.0</td>\n      <td>1.0</td>\n      <td>77.0</td>\n      <td>2013-08-26</td>\n      <td>263120.0</td>\n      <td>...</td>\n      <td>0.0</td>\n      <td>0.0</td>\n      <td>0.0</td>\n      <td>0.0</td>\n      <td>0.000000</td>\n      <td>0.0</td>\n      <td>0.000000</td>\n      <td>-1.0</td>\n      <td>No Match</td>\n      <td>0.000000</td>\n    </tr>\n    <tr>\n      <th>3</th>\n      <td>6hADH7b57N5666cGv624vg</td>\n      <td>Right Action</td>\n      <td>44.0</td>\n      <td>False</td>\n      <td>Solo</td>\n      <td>1.0</td>\n      <td>1.0</td>\n      <td>77.0</td>\n      <td>2013-08-26</td>\n      <td>182280.0</td>\n      <td>...</td>\n      <td>0.0</td>\n      <td>0.0</td>\n      <td>0.0</td>\n      <td>0.0</td>\n      <td>0.000000</td>\n      <td>0.0</td>\n      <td>0.000000</td>\n      <td>-1.0</td>\n      <td>No Match</td>\n      <td>0.000000</td>\n    </tr>\n    <tr>\n      <th>4</th>\n      <td>5BivvNwjnn46R7zpo7SeM5</td>\n      <td>Tones of Home - Power Remix</td>\n      <td>0.0</td>\n      <td>False</td>\n      <td>Solo</td>\n      <td>6.0</td>\n      <td>1.0</td>\n      <td>79.0</td>\n      <td>2013-08-26</td>\n      <td>310150.0</td>\n      <td>...</td>\n      <td>0.0</td>\n      <td>0.0</td>\n      <td>0.0</td>\n      <td>0.0</td>\n      <td>0.000000</td>\n      <td>0.0</td>\n      <td>0.000000</td>\n      <td>-1.0</td>\n      <td>No Match</td>\n      <td>0.000000</td>\n    </tr>\n    <tr>\n      <th>...</th>\n      <td>...</td>\n      <td>...</td>\n      <td>...</td>\n      <td>...</td>\n      <td>...</td>\n      <td>...</td>\n      <td>...</td>\n      <td>...</td>\n      <td>...</td>\n      <td>...</td>\n      <td>...</td>\n      <td>...</td>\n      <td>...</td>\n      <td>...</td>\n      <td>...</td>\n      <td>...</td>\n      <td>...</td>\n      <td>...</td>\n      <td>...</td>\n      <td>...</td>\n      <td>...</td>\n    </tr>\n    <tr>\n      <th>357161</th>\n      <td>5ke0edZBlwRYu01wdej6xq</td>\n      <td>Let Her In</td>\n      <td>4.0</td>\n      <td>False</td>\n      <td>Solo</td>\n      <td>7.0</td>\n      <td>1.0</td>\n      <td>79.0</td>\n      <td>2019-08-23</td>\n      <td>183600.0</td>\n      <td>...</td>\n      <td>0.0</td>\n      <td>0.0</td>\n      <td>0.0</td>\n      <td>0.0</td>\n      <td>0.000000</td>\n      <td>0.0</td>\n      <td>0.000000</td>\n      <td>-1.0</td>\n      <td>No Match</td>\n      <td>0.383562</td>\n    </tr>\n    <tr>\n      <th>357162</th>\n      <td>12kc7hUJKpArFQurhlNeNW</td>\n      <td>Stop and Think It Over</td>\n      <td>1.0</td>\n      <td>False</td>\n      <td>Solo</td>\n      <td>9.0</td>\n      <td>1.0</td>\n      <td>79.0</td>\n      <td>2019-08-23</td>\n      <td>154413.0</td>\n      <td>...</td>\n      <td>0.0</td>\n      <td>0.0</td>\n      <td>0.0</td>\n      <td>0.0</td>\n      <td>0.000000</td>\n      <td>0.0</td>\n      <td>0.000000</td>\n      <td>-1.0</td>\n      <td>No Match</td>\n      <td>0.172603</td>\n    </tr>\n    <tr>\n      <th>357163</th>\n      <td>0lej8CemYKkWVHg77Xe1ky</td>\n      <td>A Man Holdin' on (To a Woman Lettin’ Go)</td>\n      <td>14.0</td>\n      <td>False</td>\n      <td>Collaboration</td>\n      <td>7.0</td>\n      <td>2.0</td>\n      <td>79.0</td>\n      <td>2019-08-23</td>\n      <td>231898.0</td>\n      <td>...</td>\n      <td>0.6</td>\n      <td>0.0</td>\n      <td>1.0</td>\n      <td>2.0</td>\n      <td>0.347047</td>\n      <td>2.0</td>\n      <td>0.000039</td>\n      <td>2.0</td>\n      <td>1A 2A 3A 4A</td>\n      <td>0.191781</td>\n    </tr>\n    <tr>\n      <th>357164</th>\n      <td>7goArBQdsalqclSyaTywAS</td>\n      <td>Shimmy Shimmy Ya</td>\n      <td>7.0</td>\n      <td>False</td>\n      <td>Solo</td>\n      <td>8.0</td>\n      <td>1.0</td>\n      <td>78.0</td>\n      <td>2019-08-23</td>\n      <td>161200.0</td>\n      <td>...</td>\n      <td>0.0</td>\n      <td>0.0</td>\n      <td>0.0</td>\n      <td>0.0</td>\n      <td>0.000000</td>\n      <td>0.0</td>\n      <td>0.000000</td>\n      <td>-1.0</td>\n      <td>No Match</td>\n      <td>0.287671</td>\n    </tr>\n    <tr>\n      <th>357165</th>\n      <td>6Fh2QgjCxL96dA3Gtpfr4Q</td>\n      <td>One Sweet Day (16-Bit Mariah Carey &amp; Boyz II M...</td>\n      <td>0.0</td>\n      <td>False</td>\n      <td>Solo</td>\n      <td>27.0</td>\n      <td>1.0</td>\n      <td>79.0</td>\n      <td>2019-08-26</td>\n      <td>260910.0</td>\n      <td>...</td>\n      <td>0.0</td>\n      <td>0.0</td>\n      <td>0.0</td>\n      <td>0.0</td>\n      <td>0.000000</td>\n      <td>0.0</td>\n      <td>0.000000</td>\n      <td>-1.0</td>\n      <td>No Match</td>\n      <td>0.517808</td>\n    </tr>\n  </tbody>\n</table>\n<p>357166 rows × 49 columns</p>\n</div>"
     },
     "execution_count": 1,
     "metadata": {},
     "output_type": "execute_result"
    }
   ],
   "source": [
    "import pandas as pd\n",
    "\n",
    "df_hsp_song_collab = pd.read_csv(\"HSP_song_collab.csv\", sep=\",\")\n",
    "df_hsp_song_collab"
   ]
  },
  {
   "cell_type": "markdown",
   "source": [
    "## Setup for Superstar:\n",
    "\n",
    "within 3 years"
   ],
   "metadata": {
    "collapsed": false
   },
   "id": "4430fec788235cae"
  },
  {
   "cell_type": "code",
   "execution_count": 2,
   "outputs": [],
   "source": [
    "max_amount_days = 3*365\n",
    "max_amount_days\n",
    "\n",
    "past_years = 3"
   ],
   "metadata": {
    "collapsed": false,
    "ExecuteTime": {
     "end_time": "2024-05-20T16:30:14.301273200Z",
     "start_time": "2024-05-20T16:30:14.279272600Z"
    }
   },
   "id": "ef79cc8b6e995c3e"
  },
  {
   "cell_type": "code",
   "execution_count": 3,
   "outputs": [
    {
     "data": {
      "text/plain": "(Timestamp('2018-08-25 23:59:59'), Timestamp('2015-08-25 23:59:59'))"
     },
     "execution_count": 3,
     "metadata": {},
     "output_type": "execute_result"
    }
   ],
   "source": [
    "from sklearn.model_selection import train_test_split\n",
    "df_hsp_song_collab['date'] = pd.to_datetime(df_hsp_song_collab['release_date'])\n",
    "df_hsp_song_collab.sort_values(by=\"date\", inplace=True)\n",
    "\n",
    "split_day = df_hsp_song_collab[\"date\"].iloc[-1]  - pd.DateOffset(years=1)\n",
    "train_df = df_hsp_song_collab[(df_hsp_song_collab[\"date\"]  < split_day)].copy()\n",
    "test_df = df_hsp_song_collab[(df_hsp_song_collab[\"date\"]  >= split_day)].copy()\n",
    "#train_df, test_df = train_test_split(df_hsp_song_collab, test_size=0.25, shuffle=False)\n",
    "#train_df.drop(columns=\"date\", inplace=True)\n",
    "#test_df.drop(columns=\"date\", inplace=True)\n",
    "\n",
    "present = (train_df[\"date\"].iloc[-1]).replace(hour=23, minute=59, second=59)\n",
    "present_id = train_df[\"song_id\"].iloc[-1]\n",
    "border_day = present - pd.DateOffset(years=past_years) #border day doesn't belong to the timeframe\n",
    "\n",
    "present, border_day"
   ],
   "metadata": {
    "collapsed": false,
    "ExecuteTime": {
     "end_time": "2024-05-20T16:30:14.925595Z",
     "start_time": "2024-05-20T16:30:14.295272600Z"
    }
   },
   "id": "f680972aaae5ee6a"
  },
  {
   "cell_type": "code",
   "execution_count": 4,
   "outputs": [
    {
     "data": {
      "text/plain": "                       song_id  \\\n302958  4Gsqw7pb3z4OPDUeES6Daz   \n302957  6tv2ZtGQcEiszwNpBx7wK2   \n302955  2Yg7VknojyXmbAKnmrSAMU   \n302947  7g9Vsa7alv8WuR9COxDu9k   \n302954  4H1sr1GwbRuVIHZWcfkR8R   \n...                        ...   \n357140  6WrGNqos7nZLxV7QWTgyNO   \n357139  13MADoRclDrvJXcH0l7CFA   \n357164  7goArBQdsalqclSyaTywAS   \n357151  2CZ46u5NGXQFXke3PMCuAK   \n357165  6Fh2QgjCxL96dA3Gtpfr4Q   \n\n                                                song_name  song_popularity  \\\n302958             Don't Speak (8-Bit No Doubt Emulation)              1.0   \n302957            Livin' It Up (8-Bit MONSTA X Emulation)              0.0   \n302955  Bitter Sweet Symphony (8-Bit The Verve Emulation)              2.0   \n302947   Sex and Candy (8-Bit Marcy Playground Emulation)              0.0   \n302954                                         Day Spring              0.0   \n...                                                   ...              ...   \n357140                            I'll Keep You Satisfied              1.0   \n357139                                You Were on My Mind              1.0   \n357164                                   Shimmy Shimmy Ya              7.0   \n357151                   Today I Started Loving You Again              3.0   \n357165  One Sweet Day (16-Bit Mariah Carey & Boyz II M...              0.0   \n\n        explicit      song_type  track_number  num_artists  \\\n302958     False           Solo          24.0          1.0   \n302957     False           Solo          23.0          1.0   \n302955     False           Solo          27.0          1.0   \n302947     False           Solo          21.0          1.0   \n302954     False           Solo           3.0          1.0   \n...          ...            ...           ...          ...   \n357140     False  Collaboration          23.0          2.0   \n357139     False           Solo           8.0          1.0   \n357164     False           Solo           8.0          1.0   \n357151     False           Solo          15.0          1.0   \n357165     False           Solo          27.0          1.0   \n\n        num_available_markets release_date  duration_ms  ...  clustering_y  \\\n302958                   79.0   2018-08-26     266069.0  ...      0.000000   \n302957                   79.0   2018-08-26     222211.0  ...      0.000000   \n302955                   79.0   2018-08-26     255423.0  ...      0.000000   \n302947                   79.0   2018-08-26     167013.0  ...      0.000000   \n302954                   79.0   2018-08-26     278400.0  ...      0.000000   \n...                       ...          ...          ...  ...           ...   \n357140                   78.0   2019-08-23     126360.0  ...      0.000000   \n357139                   79.0   2019-08-23     163533.0  ...      0.038462   \n357164                   78.0   2019-08-23     161200.0  ...      0.000000   \n357151                   78.0   2019-08-23     172147.0  ...      0.000000   \n357165                   79.0   2019-08-26     260910.0  ...      0.000000   \n\n        degree_y  eccentricity_y  eigencentrality_y  weighted degree_y  \\\n302958       0.0             0.0           0.000000                0.0   \n302957       0.0             0.0           0.000000                0.0   \n302955       0.0             0.0           0.000000                0.0   \n302947       0.0             0.0           0.000000                0.0   \n302954       0.0             0.0           0.000000                0.0   \n...          ...             ...                ...                ...   \n357140       1.0             1.0           0.525731               62.0   \n357139      15.0            14.0           0.014647              126.0   \n357164       0.0             0.0           0.000000                0.0   \n357151       0.0             0.0           0.000000                0.0   \n357165       0.0             0.0           0.000000                0.0   \n\n        pagerank_y  Cluster_y    profile_y  years_on_charts       date  \n302958    0.000000       -1.0     No Match         0.000000 2018-08-26  \n302957    0.000000       -1.0     No Match         0.000000 2018-08-26  \n302955    0.000000       -1.0     No Match         0.000000 2018-08-26  \n302947    0.000000       -1.0     No Match         0.000000 2018-08-26  \n302954    0.000000       -1.0     No Match         0.000000 2018-08-26  \n...            ...        ...          ...              ...        ...  \n357140    0.000055        4.0  1A 2B 3A 4A         0.134247 2019-08-23  \n357139    0.000301        0.0  1A 2A 3A 4A         0.115068 2019-08-23  \n357164    0.000000       -1.0     No Match         0.287671 2019-08-23  \n357151    0.000000       -1.0     No Match         0.134247 2019-08-23  \n357165    0.000000       -1.0     No Match         0.517808 2019-08-26  \n\n[54250 rows x 50 columns]",
      "text/html": "<div>\n<style scoped>\n    .dataframe tbody tr th:only-of-type {\n        vertical-align: middle;\n    }\n\n    .dataframe tbody tr th {\n        vertical-align: top;\n    }\n\n    .dataframe thead th {\n        text-align: right;\n    }\n</style>\n<table border=\"1\" class=\"dataframe\">\n  <thead>\n    <tr style=\"text-align: right;\">\n      <th></th>\n      <th>song_id</th>\n      <th>song_name</th>\n      <th>song_popularity</th>\n      <th>explicit</th>\n      <th>song_type</th>\n      <th>track_number</th>\n      <th>num_artists</th>\n      <th>num_available_markets</th>\n      <th>release_date</th>\n      <th>duration_ms</th>\n      <th>...</th>\n      <th>clustering_y</th>\n      <th>degree_y</th>\n      <th>eccentricity_y</th>\n      <th>eigencentrality_y</th>\n      <th>weighted degree_y</th>\n      <th>pagerank_y</th>\n      <th>Cluster_y</th>\n      <th>profile_y</th>\n      <th>years_on_charts</th>\n      <th>date</th>\n    </tr>\n  </thead>\n  <tbody>\n    <tr>\n      <th>302958</th>\n      <td>4Gsqw7pb3z4OPDUeES6Daz</td>\n      <td>Don't Speak (8-Bit No Doubt Emulation)</td>\n      <td>1.0</td>\n      <td>False</td>\n      <td>Solo</td>\n      <td>24.0</td>\n      <td>1.0</td>\n      <td>79.0</td>\n      <td>2018-08-26</td>\n      <td>266069.0</td>\n      <td>...</td>\n      <td>0.000000</td>\n      <td>0.0</td>\n      <td>0.0</td>\n      <td>0.000000</td>\n      <td>0.0</td>\n      <td>0.000000</td>\n      <td>-1.0</td>\n      <td>No Match</td>\n      <td>0.000000</td>\n      <td>2018-08-26</td>\n    </tr>\n    <tr>\n      <th>302957</th>\n      <td>6tv2ZtGQcEiszwNpBx7wK2</td>\n      <td>Livin' It Up (8-Bit MONSTA X Emulation)</td>\n      <td>0.0</td>\n      <td>False</td>\n      <td>Solo</td>\n      <td>23.0</td>\n      <td>1.0</td>\n      <td>79.0</td>\n      <td>2018-08-26</td>\n      <td>222211.0</td>\n      <td>...</td>\n      <td>0.000000</td>\n      <td>0.0</td>\n      <td>0.0</td>\n      <td>0.000000</td>\n      <td>0.0</td>\n      <td>0.000000</td>\n      <td>-1.0</td>\n      <td>No Match</td>\n      <td>0.000000</td>\n      <td>2018-08-26</td>\n    </tr>\n    <tr>\n      <th>302955</th>\n      <td>2Yg7VknojyXmbAKnmrSAMU</td>\n      <td>Bitter Sweet Symphony (8-Bit The Verve Emulation)</td>\n      <td>2.0</td>\n      <td>False</td>\n      <td>Solo</td>\n      <td>27.0</td>\n      <td>1.0</td>\n      <td>79.0</td>\n      <td>2018-08-26</td>\n      <td>255423.0</td>\n      <td>...</td>\n      <td>0.000000</td>\n      <td>0.0</td>\n      <td>0.0</td>\n      <td>0.000000</td>\n      <td>0.0</td>\n      <td>0.000000</td>\n      <td>-1.0</td>\n      <td>No Match</td>\n      <td>0.000000</td>\n      <td>2018-08-26</td>\n    </tr>\n    <tr>\n      <th>302947</th>\n      <td>7g9Vsa7alv8WuR9COxDu9k</td>\n      <td>Sex and Candy (8-Bit Marcy Playground Emulation)</td>\n      <td>0.0</td>\n      <td>False</td>\n      <td>Solo</td>\n      <td>21.0</td>\n      <td>1.0</td>\n      <td>79.0</td>\n      <td>2018-08-26</td>\n      <td>167013.0</td>\n      <td>...</td>\n      <td>0.000000</td>\n      <td>0.0</td>\n      <td>0.0</td>\n      <td>0.000000</td>\n      <td>0.0</td>\n      <td>0.000000</td>\n      <td>-1.0</td>\n      <td>No Match</td>\n      <td>0.000000</td>\n      <td>2018-08-26</td>\n    </tr>\n    <tr>\n      <th>302954</th>\n      <td>4H1sr1GwbRuVIHZWcfkR8R</td>\n      <td>Day Spring</td>\n      <td>0.0</td>\n      <td>False</td>\n      <td>Solo</td>\n      <td>3.0</td>\n      <td>1.0</td>\n      <td>79.0</td>\n      <td>2018-08-26</td>\n      <td>278400.0</td>\n      <td>...</td>\n      <td>0.000000</td>\n      <td>0.0</td>\n      <td>0.0</td>\n      <td>0.000000</td>\n      <td>0.0</td>\n      <td>0.000000</td>\n      <td>-1.0</td>\n      <td>No Match</td>\n      <td>0.000000</td>\n      <td>2018-08-26</td>\n    </tr>\n    <tr>\n      <th>...</th>\n      <td>...</td>\n      <td>...</td>\n      <td>...</td>\n      <td>...</td>\n      <td>...</td>\n      <td>...</td>\n      <td>...</td>\n      <td>...</td>\n      <td>...</td>\n      <td>...</td>\n      <td>...</td>\n      <td>...</td>\n      <td>...</td>\n      <td>...</td>\n      <td>...</td>\n      <td>...</td>\n      <td>...</td>\n      <td>...</td>\n      <td>...</td>\n      <td>...</td>\n      <td>...</td>\n    </tr>\n    <tr>\n      <th>357140</th>\n      <td>6WrGNqos7nZLxV7QWTgyNO</td>\n      <td>I'll Keep You Satisfied</td>\n      <td>1.0</td>\n      <td>False</td>\n      <td>Collaboration</td>\n      <td>23.0</td>\n      <td>2.0</td>\n      <td>78.0</td>\n      <td>2019-08-23</td>\n      <td>126360.0</td>\n      <td>...</td>\n      <td>0.000000</td>\n      <td>1.0</td>\n      <td>1.0</td>\n      <td>0.525731</td>\n      <td>62.0</td>\n      <td>0.000055</td>\n      <td>4.0</td>\n      <td>1A 2B 3A 4A</td>\n      <td>0.134247</td>\n      <td>2019-08-23</td>\n    </tr>\n    <tr>\n      <th>357139</th>\n      <td>13MADoRclDrvJXcH0l7CFA</td>\n      <td>You Were on My Mind</td>\n      <td>1.0</td>\n      <td>False</td>\n      <td>Solo</td>\n      <td>8.0</td>\n      <td>1.0</td>\n      <td>79.0</td>\n      <td>2019-08-23</td>\n      <td>163533.0</td>\n      <td>...</td>\n      <td>0.038462</td>\n      <td>15.0</td>\n      <td>14.0</td>\n      <td>0.014647</td>\n      <td>126.0</td>\n      <td>0.000301</td>\n      <td>0.0</td>\n      <td>1A 2A 3A 4A</td>\n      <td>0.115068</td>\n      <td>2019-08-23</td>\n    </tr>\n    <tr>\n      <th>357164</th>\n      <td>7goArBQdsalqclSyaTywAS</td>\n      <td>Shimmy Shimmy Ya</td>\n      <td>7.0</td>\n      <td>False</td>\n      <td>Solo</td>\n      <td>8.0</td>\n      <td>1.0</td>\n      <td>78.0</td>\n      <td>2019-08-23</td>\n      <td>161200.0</td>\n      <td>...</td>\n      <td>0.000000</td>\n      <td>0.0</td>\n      <td>0.0</td>\n      <td>0.000000</td>\n      <td>0.0</td>\n      <td>0.000000</td>\n      <td>-1.0</td>\n      <td>No Match</td>\n      <td>0.287671</td>\n      <td>2019-08-23</td>\n    </tr>\n    <tr>\n      <th>357151</th>\n      <td>2CZ46u5NGXQFXke3PMCuAK</td>\n      <td>Today I Started Loving You Again</td>\n      <td>3.0</td>\n      <td>False</td>\n      <td>Solo</td>\n      <td>15.0</td>\n      <td>1.0</td>\n      <td>78.0</td>\n      <td>2019-08-23</td>\n      <td>172147.0</td>\n      <td>...</td>\n      <td>0.000000</td>\n      <td>0.0</td>\n      <td>0.0</td>\n      <td>0.000000</td>\n      <td>0.0</td>\n      <td>0.000000</td>\n      <td>-1.0</td>\n      <td>No Match</td>\n      <td>0.134247</td>\n      <td>2019-08-23</td>\n    </tr>\n    <tr>\n      <th>357165</th>\n      <td>6Fh2QgjCxL96dA3Gtpfr4Q</td>\n      <td>One Sweet Day (16-Bit Mariah Carey &amp; Boyz II M...</td>\n      <td>0.0</td>\n      <td>False</td>\n      <td>Solo</td>\n      <td>27.0</td>\n      <td>1.0</td>\n      <td>79.0</td>\n      <td>2019-08-26</td>\n      <td>260910.0</td>\n      <td>...</td>\n      <td>0.000000</td>\n      <td>0.0</td>\n      <td>0.0</td>\n      <td>0.000000</td>\n      <td>0.0</td>\n      <td>0.000000</td>\n      <td>-1.0</td>\n      <td>No Match</td>\n      <td>0.517808</td>\n      <td>2019-08-26</td>\n    </tr>\n  </tbody>\n</table>\n<p>54250 rows × 50 columns</p>\n</div>"
     },
     "execution_count": 4,
     "metadata": {},
     "output_type": "execute_result"
    }
   ],
   "source": [
    "test_df"
   ],
   "metadata": {
    "collapsed": false,
    "ExecuteTime": {
     "end_time": "2024-05-20T16:30:15.007595700Z",
     "start_time": "2024-05-20T16:30:14.930596600Z"
    }
   },
   "id": "c5e9745b7e9b7a05"
  },
  {
   "cell_type": "code",
   "execution_count": 5,
   "outputs": [
    {
     "data": {
      "text/plain": "                       song_id                               song_name  \\\n0       3rTIDlmlGskGnRRqmRtvYn                           Lone Stranger   \n64      6aOw7bWT4sDJTq2cQ3YOPo  Barrel of a Gun - Instrumental Version   \n63      7zhdgvEuhcxy4iwc0ssoty               Ghost of Gloria Goodchild   \n62      7urrpTy9j5QGMYrZpPwuEy                                  Kolors   \n61      6Ppgg7vDhYoyyNmmfIE9zK                         Come as You Are   \n...                        ...                                     ...   \n302833  3nXCl6A9GI9008YJb8biqz                         The Last Hippie   \n302834  16h5mVR7abqHXj8jBAiPdX                            Not Mushroom   \n302835  0U8KFcdXcJE7Rh1F12CGTF                              Time Lapse   \n302836  1v0WJzyINC5wcfzUFYUZh0                 Woman With the Red Lips   \n302831  6oYT6S7i5G9jwZUEDBqnh5                             Earthquaker   \n\n        song_popularity  explicit song_type  track_number  num_artists  \\\n0                   0.0     False      Solo          19.0          1.0   \n64                  0.0     False      Solo          22.0          1.0   \n63                  5.0      True      Solo           9.0          1.0   \n62                 12.0      True      Solo          10.0          1.0   \n61                  5.0      True      Solo          11.0          1.0   \n...                 ...       ...       ...           ...          ...   \n302833              0.0     False      Solo           5.0          1.0   \n302834              0.0     False      Solo           6.0          1.0   \n302835              0.0     False      Solo          21.0          1.0   \n302836              0.0     False      Solo          14.0          1.0   \n302831              0.0     False      Solo           3.0          1.0   \n\n        num_available_markets release_date  duration_ms  ...  clustering_y  \\\n0                        74.0   2013-08-26     163255.0  ...           0.0   \n64                       74.0   2013-08-26     141636.0  ...           0.0   \n63                        2.0   2013-08-26     193787.0  ...           0.0   \n62                        2.0   2013-08-26     270160.0  ...           0.0   \n61                        2.0   2013-08-26     168520.0  ...           0.0   \n...                       ...          ...          ...  ...           ...   \n302833                   79.0   2018-08-25     385984.0  ...           0.0   \n302834                   79.0   2018-08-25     398629.0  ...           0.0   \n302835                   79.0   2018-08-25     535148.0  ...           0.0   \n302836                   79.0   2018-08-25     464300.0  ...           0.0   \n302831                   79.0   2018-08-25     394839.0  ...           0.0   \n\n        degree_y  eccentricity_y  eigencentrality_y  weighted degree_y  \\\n0            0.0             0.0                0.0                0.0   \n64           0.0             0.0                0.0                0.0   \n63           0.0             0.0                0.0                0.0   \n62           0.0             0.0                0.0                0.0   \n61           0.0             0.0                0.0                0.0   \n...          ...             ...                ...                ...   \n302833       0.0             0.0                0.0                0.0   \n302834       0.0             0.0                0.0                0.0   \n302835       0.0             0.0                0.0                0.0   \n302836       0.0             0.0                0.0                0.0   \n302831       0.0             0.0                0.0                0.0   \n\n        pagerank_y  Cluster_y  profile_y  years_on_charts       date  \n0              0.0       -1.0   No Match              0.0 2013-08-26  \n64             0.0       -1.0   No Match              0.0 2013-08-26  \n63             0.0       -1.0   No Match              0.0 2013-08-26  \n62             0.0       -1.0   No Match              0.0 2013-08-26  \n61             0.0       -1.0   No Match              0.0 2013-08-26  \n...            ...        ...        ...              ...        ...  \n302833         0.0       -1.0   No Match              0.0 2018-08-25  \n302834         0.0       -1.0   No Match              0.0 2018-08-25  \n302835         0.0       -1.0   No Match              0.0 2018-08-25  \n302836         0.0       -1.0   No Match              0.0 2018-08-25  \n302831         0.0       -1.0   No Match              0.0 2018-08-25  \n\n[302916 rows x 50 columns]",
      "text/html": "<div>\n<style scoped>\n    .dataframe tbody tr th:only-of-type {\n        vertical-align: middle;\n    }\n\n    .dataframe tbody tr th {\n        vertical-align: top;\n    }\n\n    .dataframe thead th {\n        text-align: right;\n    }\n</style>\n<table border=\"1\" class=\"dataframe\">\n  <thead>\n    <tr style=\"text-align: right;\">\n      <th></th>\n      <th>song_id</th>\n      <th>song_name</th>\n      <th>song_popularity</th>\n      <th>explicit</th>\n      <th>song_type</th>\n      <th>track_number</th>\n      <th>num_artists</th>\n      <th>num_available_markets</th>\n      <th>release_date</th>\n      <th>duration_ms</th>\n      <th>...</th>\n      <th>clustering_y</th>\n      <th>degree_y</th>\n      <th>eccentricity_y</th>\n      <th>eigencentrality_y</th>\n      <th>weighted degree_y</th>\n      <th>pagerank_y</th>\n      <th>Cluster_y</th>\n      <th>profile_y</th>\n      <th>years_on_charts</th>\n      <th>date</th>\n    </tr>\n  </thead>\n  <tbody>\n    <tr>\n      <th>0</th>\n      <td>3rTIDlmlGskGnRRqmRtvYn</td>\n      <td>Lone Stranger</td>\n      <td>0.0</td>\n      <td>False</td>\n      <td>Solo</td>\n      <td>19.0</td>\n      <td>1.0</td>\n      <td>74.0</td>\n      <td>2013-08-26</td>\n      <td>163255.0</td>\n      <td>...</td>\n      <td>0.0</td>\n      <td>0.0</td>\n      <td>0.0</td>\n      <td>0.0</td>\n      <td>0.0</td>\n      <td>0.0</td>\n      <td>-1.0</td>\n      <td>No Match</td>\n      <td>0.0</td>\n      <td>2013-08-26</td>\n    </tr>\n    <tr>\n      <th>64</th>\n      <td>6aOw7bWT4sDJTq2cQ3YOPo</td>\n      <td>Barrel of a Gun - Instrumental Version</td>\n      <td>0.0</td>\n      <td>False</td>\n      <td>Solo</td>\n      <td>22.0</td>\n      <td>1.0</td>\n      <td>74.0</td>\n      <td>2013-08-26</td>\n      <td>141636.0</td>\n      <td>...</td>\n      <td>0.0</td>\n      <td>0.0</td>\n      <td>0.0</td>\n      <td>0.0</td>\n      <td>0.0</td>\n      <td>0.0</td>\n      <td>-1.0</td>\n      <td>No Match</td>\n      <td>0.0</td>\n      <td>2013-08-26</td>\n    </tr>\n    <tr>\n      <th>63</th>\n      <td>7zhdgvEuhcxy4iwc0ssoty</td>\n      <td>Ghost of Gloria Goodchild</td>\n      <td>5.0</td>\n      <td>True</td>\n      <td>Solo</td>\n      <td>9.0</td>\n      <td>1.0</td>\n      <td>2.0</td>\n      <td>2013-08-26</td>\n      <td>193787.0</td>\n      <td>...</td>\n      <td>0.0</td>\n      <td>0.0</td>\n      <td>0.0</td>\n      <td>0.0</td>\n      <td>0.0</td>\n      <td>0.0</td>\n      <td>-1.0</td>\n      <td>No Match</td>\n      <td>0.0</td>\n      <td>2013-08-26</td>\n    </tr>\n    <tr>\n      <th>62</th>\n      <td>7urrpTy9j5QGMYrZpPwuEy</td>\n      <td>Kolors</td>\n      <td>12.0</td>\n      <td>True</td>\n      <td>Solo</td>\n      <td>10.0</td>\n      <td>1.0</td>\n      <td>2.0</td>\n      <td>2013-08-26</td>\n      <td>270160.0</td>\n      <td>...</td>\n      <td>0.0</td>\n      <td>0.0</td>\n      <td>0.0</td>\n      <td>0.0</td>\n      <td>0.0</td>\n      <td>0.0</td>\n      <td>-1.0</td>\n      <td>No Match</td>\n      <td>0.0</td>\n      <td>2013-08-26</td>\n    </tr>\n    <tr>\n      <th>61</th>\n      <td>6Ppgg7vDhYoyyNmmfIE9zK</td>\n      <td>Come as You Are</td>\n      <td>5.0</td>\n      <td>True</td>\n      <td>Solo</td>\n      <td>11.0</td>\n      <td>1.0</td>\n      <td>2.0</td>\n      <td>2013-08-26</td>\n      <td>168520.0</td>\n      <td>...</td>\n      <td>0.0</td>\n      <td>0.0</td>\n      <td>0.0</td>\n      <td>0.0</td>\n      <td>0.0</td>\n      <td>0.0</td>\n      <td>-1.0</td>\n      <td>No Match</td>\n      <td>0.0</td>\n      <td>2013-08-26</td>\n    </tr>\n    <tr>\n      <th>...</th>\n      <td>...</td>\n      <td>...</td>\n      <td>...</td>\n      <td>...</td>\n      <td>...</td>\n      <td>...</td>\n      <td>...</td>\n      <td>...</td>\n      <td>...</td>\n      <td>...</td>\n      <td>...</td>\n      <td>...</td>\n      <td>...</td>\n      <td>...</td>\n      <td>...</td>\n      <td>...</td>\n      <td>...</td>\n      <td>...</td>\n      <td>...</td>\n      <td>...</td>\n      <td>...</td>\n    </tr>\n    <tr>\n      <th>302833</th>\n      <td>3nXCl6A9GI9008YJb8biqz</td>\n      <td>The Last Hippie</td>\n      <td>0.0</td>\n      <td>False</td>\n      <td>Solo</td>\n      <td>5.0</td>\n      <td>1.0</td>\n      <td>79.0</td>\n      <td>2018-08-25</td>\n      <td>385984.0</td>\n      <td>...</td>\n      <td>0.0</td>\n      <td>0.0</td>\n      <td>0.0</td>\n      <td>0.0</td>\n      <td>0.0</td>\n      <td>0.0</td>\n      <td>-1.0</td>\n      <td>No Match</td>\n      <td>0.0</td>\n      <td>2018-08-25</td>\n    </tr>\n    <tr>\n      <th>302834</th>\n      <td>16h5mVR7abqHXj8jBAiPdX</td>\n      <td>Not Mushroom</td>\n      <td>0.0</td>\n      <td>False</td>\n      <td>Solo</td>\n      <td>6.0</td>\n      <td>1.0</td>\n      <td>79.0</td>\n      <td>2018-08-25</td>\n      <td>398629.0</td>\n      <td>...</td>\n      <td>0.0</td>\n      <td>0.0</td>\n      <td>0.0</td>\n      <td>0.0</td>\n      <td>0.0</td>\n      <td>0.0</td>\n      <td>-1.0</td>\n      <td>No Match</td>\n      <td>0.0</td>\n      <td>2018-08-25</td>\n    </tr>\n    <tr>\n      <th>302835</th>\n      <td>0U8KFcdXcJE7Rh1F12CGTF</td>\n      <td>Time Lapse</td>\n      <td>0.0</td>\n      <td>False</td>\n      <td>Solo</td>\n      <td>21.0</td>\n      <td>1.0</td>\n      <td>79.0</td>\n      <td>2018-08-25</td>\n      <td>535148.0</td>\n      <td>...</td>\n      <td>0.0</td>\n      <td>0.0</td>\n      <td>0.0</td>\n      <td>0.0</td>\n      <td>0.0</td>\n      <td>0.0</td>\n      <td>-1.0</td>\n      <td>No Match</td>\n      <td>0.0</td>\n      <td>2018-08-25</td>\n    </tr>\n    <tr>\n      <th>302836</th>\n      <td>1v0WJzyINC5wcfzUFYUZh0</td>\n      <td>Woman With the Red Lips</td>\n      <td>0.0</td>\n      <td>False</td>\n      <td>Solo</td>\n      <td>14.0</td>\n      <td>1.0</td>\n      <td>79.0</td>\n      <td>2018-08-25</td>\n      <td>464300.0</td>\n      <td>...</td>\n      <td>0.0</td>\n      <td>0.0</td>\n      <td>0.0</td>\n      <td>0.0</td>\n      <td>0.0</td>\n      <td>0.0</td>\n      <td>-1.0</td>\n      <td>No Match</td>\n      <td>0.0</td>\n      <td>2018-08-25</td>\n    </tr>\n    <tr>\n      <th>302831</th>\n      <td>6oYT6S7i5G9jwZUEDBqnh5</td>\n      <td>Earthquaker</td>\n      <td>0.0</td>\n      <td>False</td>\n      <td>Solo</td>\n      <td>3.0</td>\n      <td>1.0</td>\n      <td>79.0</td>\n      <td>2018-08-25</td>\n      <td>394839.0</td>\n      <td>...</td>\n      <td>0.0</td>\n      <td>0.0</td>\n      <td>0.0</td>\n      <td>0.0</td>\n      <td>0.0</td>\n      <td>0.0</td>\n      <td>-1.0</td>\n      <td>No Match</td>\n      <td>0.0</td>\n      <td>2018-08-25</td>\n    </tr>\n  </tbody>\n</table>\n<p>302916 rows × 50 columns</p>\n</div>"
     },
     "execution_count": 5,
     "metadata": {},
     "output_type": "execute_result"
    }
   ],
   "source": [
    "train_df"
   ],
   "metadata": {
    "collapsed": false,
    "ExecuteTime": {
     "end_time": "2024-05-20T16:30:15.203594800Z",
     "start_time": "2024-05-20T16:30:14.991596500Z"
    }
   },
   "id": "8e6541243bf56a7"
  },
  {
   "cell_type": "code",
   "execution_count": 6,
   "outputs": [
    {
     "name": "stderr",
     "output_type": "stream",
     "text": [
      "C:\\Users\\lasse\\AppData\\Local\\Temp\\ipykernel_19572\\3163552469.py:5: DtypeWarning: Columns (11,12,13,14,15,16,17,18,19,20,21,22,23) have mixed types. Specify dtype option on import or set low_memory=False.\n",
      "  df_nonhits = pd.read_csv(\"../../MusicOSet/additional/nonhits_dataset.csv\", delimiter=\"\\t\")\n"
     ]
    }
   ],
   "source": [
    "import pandas as pd\n",
    "\n",
    "#df_hits = pd.read_csv(\"../../MusicOSet/additional/hits_dataset.csv\", delimiter=\"\\t\")\n",
    "#df_hits[\"hit\"] = 1\n",
    "df_nonhits = pd.read_csv(\"../../MusicOSet/additional/nonhits_dataset.csv\", delimiter=\"\\t\")\n",
    "df_nonhits[\"hit\"] = 0\n",
    "#combined_df = pd.concat([df_hits, df_nonhits], axis=0)\n",
    "#combined_df"
   ],
   "metadata": {
    "collapsed": false,
    "ExecuteTime": {
     "end_time": "2024-05-20T16:30:18.325597100Z",
     "start_time": "2024-05-20T16:30:15.177595200Z"
    }
   },
   "id": "ade3bcb56224cb7"
  },
  {
   "cell_type": "code",
   "execution_count": 7,
   "outputs": [
    {
     "name": "stderr",
     "output_type": "stream",
     "text": [
      "C:\\Users\\lasse\\AppData\\Local\\Temp\\ipykernel_19572\\1603183857.py:1: UserWarning: The argument 'infer_datetime_format' is deprecated and will be removed in a future version. A strict version of it is now the default, see https://pandas.pydata.org/pdeps/0004-consistent-to-datetime-parsing.html. You can safely remove this argument.\n",
      "  df_nonhits['date'] = pd.to_datetime(df_nonhits['release_date'], infer_datetime_format=True)\n"
     ]
    }
   ],
   "source": [
    "df_nonhits['date'] = pd.to_datetime(df_nonhits['release_date'], infer_datetime_format=True)\n",
    "df_nonhits.sort_values(by=\"date\", inplace=True)"
   ],
   "metadata": {
    "collapsed": false,
    "ExecuteTime": {
     "end_time": "2024-05-20T16:30:18.821596500Z",
     "start_time": "2024-05-20T16:30:18.322594900Z"
    }
   },
   "id": "299d5a311fda8bf6"
  },
  {
   "cell_type": "code",
   "execution_count": 8,
   "outputs": [
    {
     "data": {
      "text/plain": "                       song_id                  id_artists       date\n642248  0nqqWylFgcuCmrDeBzul0m  ['6OXILsPD4WNJ7XiGMAkCWa'] 2010-08-27\n210360  6WSfU5knrNvvwUJuDDoxRZ  ['5oJwrS9WFj1SRCgSevVZRV'] 2010-08-27\n705457  17ZFljy2nGDAtpru8XGPUi  ['1k5aZWIOUbUfKcnMxtEivJ'] 2010-08-27\n642246  1pxblVOWPh8wisUmNZaewL  ['6OXILsPD4WNJ7XiGMAkCWa'] 2010-08-27\n642251  6q9AqaVn1WEU5XycHKk9CW  ['6OXILsPD4WNJ7XiGMAkCWa'] 2010-08-27\n...                        ...                         ...        ...\n111735  4UBlffX5jMdwp9MjtNTFYR  ['7JfutRemdlJGyQsIZ7wWQ9'] 2018-08-25\n111734  3zRMM1Xugxsae3TQ8eAq51  ['7JfutRemdlJGyQsIZ7wWQ9'] 2018-08-25\n665939  7wroh8nPAKIyaIpQWdY3ol  ['397f86EukZ0rjnR5FWq0HQ'] 2018-08-25\n111723  78ggWnVAuaIgu2k7jCUEl7  ['7JfutRemdlJGyQsIZ7wWQ9'] 2018-08-25\n665943  6OYm93Yl4uSxLaAAUbK3fN  ['397f86EukZ0rjnR5FWq0HQ'] 2018-08-25\n\n[546704 rows x 3 columns]",
      "text/html": "<div>\n<style scoped>\n    .dataframe tbody tr th:only-of-type {\n        vertical-align: middle;\n    }\n\n    .dataframe tbody tr th {\n        vertical-align: top;\n    }\n\n    .dataframe thead th {\n        text-align: right;\n    }\n</style>\n<table border=\"1\" class=\"dataframe\">\n  <thead>\n    <tr style=\"text-align: right;\">\n      <th></th>\n      <th>song_id</th>\n      <th>id_artists</th>\n      <th>date</th>\n    </tr>\n  </thead>\n  <tbody>\n    <tr>\n      <th>642248</th>\n      <td>0nqqWylFgcuCmrDeBzul0m</td>\n      <td>['6OXILsPD4WNJ7XiGMAkCWa']</td>\n      <td>2010-08-27</td>\n    </tr>\n    <tr>\n      <th>210360</th>\n      <td>6WSfU5knrNvvwUJuDDoxRZ</td>\n      <td>['5oJwrS9WFj1SRCgSevVZRV']</td>\n      <td>2010-08-27</td>\n    </tr>\n    <tr>\n      <th>705457</th>\n      <td>17ZFljy2nGDAtpru8XGPUi</td>\n      <td>['1k5aZWIOUbUfKcnMxtEivJ']</td>\n      <td>2010-08-27</td>\n    </tr>\n    <tr>\n      <th>642246</th>\n      <td>1pxblVOWPh8wisUmNZaewL</td>\n      <td>['6OXILsPD4WNJ7XiGMAkCWa']</td>\n      <td>2010-08-27</td>\n    </tr>\n    <tr>\n      <th>642251</th>\n      <td>6q9AqaVn1WEU5XycHKk9CW</td>\n      <td>['6OXILsPD4WNJ7XiGMAkCWa']</td>\n      <td>2010-08-27</td>\n    </tr>\n    <tr>\n      <th>...</th>\n      <td>...</td>\n      <td>...</td>\n      <td>...</td>\n    </tr>\n    <tr>\n      <th>111735</th>\n      <td>4UBlffX5jMdwp9MjtNTFYR</td>\n      <td>['7JfutRemdlJGyQsIZ7wWQ9']</td>\n      <td>2018-08-25</td>\n    </tr>\n    <tr>\n      <th>111734</th>\n      <td>3zRMM1Xugxsae3TQ8eAq51</td>\n      <td>['7JfutRemdlJGyQsIZ7wWQ9']</td>\n      <td>2018-08-25</td>\n    </tr>\n    <tr>\n      <th>665939</th>\n      <td>7wroh8nPAKIyaIpQWdY3ol</td>\n      <td>['397f86EukZ0rjnR5FWq0HQ']</td>\n      <td>2018-08-25</td>\n    </tr>\n    <tr>\n      <th>111723</th>\n      <td>78ggWnVAuaIgu2k7jCUEl7</td>\n      <td>['7JfutRemdlJGyQsIZ7wWQ9']</td>\n      <td>2018-08-25</td>\n    </tr>\n    <tr>\n      <th>665943</th>\n      <td>6OYm93Yl4uSxLaAAUbK3fN</td>\n      <td>['397f86EukZ0rjnR5FWq0HQ']</td>\n      <td>2018-08-25</td>\n    </tr>\n  </tbody>\n</table>\n<p>546704 rows × 3 columns</p>\n</div>"
     },
     "execution_count": 8,
     "metadata": {},
     "output_type": "execute_result"
    }
   ],
   "source": [
    "border_day = train_df[\"date\"].iloc[0] - pd.DateOffset(years=past_years) \n",
    "df_nonhits = df_nonhits[(df_nonhits[\"date\"] <= present) & (df_nonhits[\"date\"] > border_day)]\n",
    "amount_songs = df_nonhits[[\"song_id\", \"id_artists\", \"date\"]].copy()\n",
    "del df_nonhits\n",
    "amount_songs"
   ],
   "metadata": {
    "collapsed": false,
    "ExecuteTime": {
     "end_time": "2024-05-20T16:30:19.273597800Z",
     "start_time": "2024-05-20T16:30:18.822596600Z"
    }
   },
   "id": "e0b209ec5e36541c"
  },
  {
   "cell_type": "code",
   "execution_count": 9,
   "outputs": [
    {
     "data": {
      "text/plain": "list"
     },
     "execution_count": 9,
     "metadata": {},
     "output_type": "execute_result"
    }
   ],
   "source": [
    "#amount_songs = combined_df[combined_df[\"song_id\"].isin(list_ids)]\n",
    "amount_songs[\"id_artists\"] = amount_songs[\"id_artists\"].apply(lambda x: eval(x))\n",
    "type(amount_songs[\"id_artists\"].iloc[0])"
   ],
   "metadata": {
    "collapsed": false,
    "ExecuteTime": {
     "end_time": "2024-05-20T16:30:22.611857200Z",
     "start_time": "2024-05-20T16:30:19.383597200Z"
    }
   },
   "id": "e7ea378ae1d87043"
  },
  {
   "cell_type": "markdown",
   "source": [
    "## Loop:"
   ],
   "metadata": {
    "collapsed": false
   },
   "id": "795367ccfd6250"
  },
  {
   "cell_type": "code",
   "execution_count": 10,
   "outputs": [
    {
     "data": {
      "text/plain": "                       song_id                               song_name  \\\n0       3rTIDlmlGskGnRRqmRtvYn                           Lone Stranger   \n64      6aOw7bWT4sDJTq2cQ3YOPo  Barrel of a Gun - Instrumental Version   \n63      7zhdgvEuhcxy4iwc0ssoty               Ghost of Gloria Goodchild   \n62      7urrpTy9j5QGMYrZpPwuEy                                  Kolors   \n61      6Ppgg7vDhYoyyNmmfIE9zK                         Come as You Are   \n...                        ...                                     ...   \n302833  3nXCl6A9GI9008YJb8biqz                         The Last Hippie   \n302834  16h5mVR7abqHXj8jBAiPdX                            Not Mushroom   \n302835  0U8KFcdXcJE7Rh1F12CGTF                              Time Lapse   \n302836  1v0WJzyINC5wcfzUFYUZh0                 Woman With the Red Lips   \n302831  6oYT6S7i5G9jwZUEDBqnh5                             Earthquaker   \n\n        song_popularity  explicit song_type  track_number  num_artists  \\\n0                   0.0     False      Solo          19.0          1.0   \n64                  0.0     False      Solo          22.0          1.0   \n63                  5.0      True      Solo           9.0          1.0   \n62                 12.0      True      Solo          10.0          1.0   \n61                  5.0      True      Solo          11.0          1.0   \n...                 ...       ...       ...           ...          ...   \n302833              0.0     False      Solo           5.0          1.0   \n302834              0.0     False      Solo           6.0          1.0   \n302835              0.0     False      Solo          21.0          1.0   \n302836              0.0     False      Solo          14.0          1.0   \n302831              0.0     False      Solo           3.0          1.0   \n\n        num_available_markets release_date  duration_ms  ...  clustering_y  \\\n0                        74.0   2013-08-26     163255.0  ...           0.0   \n64                       74.0   2013-08-26     141636.0  ...           0.0   \n63                        2.0   2013-08-26     193787.0  ...           0.0   \n62                        2.0   2013-08-26     270160.0  ...           0.0   \n61                        2.0   2013-08-26     168520.0  ...           0.0   \n...                       ...          ...          ...  ...           ...   \n302833                   79.0   2018-08-25     385984.0  ...           0.0   \n302834                   79.0   2018-08-25     398629.0  ...           0.0   \n302835                   79.0   2018-08-25     535148.0  ...           0.0   \n302836                   79.0   2018-08-25     464300.0  ...           0.0   \n302831                   79.0   2018-08-25     394839.0  ...           0.0   \n\n        degree_y  eccentricity_y  eigencentrality_y  weighted degree_y  \\\n0            0.0             0.0                0.0                0.0   \n64           0.0             0.0                0.0                0.0   \n63           0.0             0.0                0.0                0.0   \n62           0.0             0.0                0.0                0.0   \n61           0.0             0.0                0.0                0.0   \n...          ...             ...                ...                ...   \n302833       0.0             0.0                0.0                0.0   \n302834       0.0             0.0                0.0                0.0   \n302835       0.0             0.0                0.0                0.0   \n302836       0.0             0.0                0.0                0.0   \n302831       0.0             0.0                0.0                0.0   \n\n        pagerank_y  Cluster_y  profile_y  years_on_charts       date  \n0              0.0       -1.0   No Match              0.0 2013-08-26  \n64             0.0       -1.0   No Match              0.0 2013-08-26  \n63             0.0       -1.0   No Match              0.0 2013-08-26  \n62             0.0       -1.0   No Match              0.0 2013-08-26  \n61             0.0       -1.0   No Match              0.0 2013-08-26  \n...            ...        ...        ...              ...        ...  \n302833         0.0       -1.0   No Match              0.0 2018-08-25  \n302834         0.0       -1.0   No Match              0.0 2018-08-25  \n302835         0.0       -1.0   No Match              0.0 2018-08-25  \n302836         0.0       -1.0   No Match              0.0 2018-08-25  \n302831         0.0       -1.0   No Match              0.0 2018-08-25  \n\n[302916 rows x 50 columns]",
      "text/html": "<div>\n<style scoped>\n    .dataframe tbody tr th:only-of-type {\n        vertical-align: middle;\n    }\n\n    .dataframe tbody tr th {\n        vertical-align: top;\n    }\n\n    .dataframe thead th {\n        text-align: right;\n    }\n</style>\n<table border=\"1\" class=\"dataframe\">\n  <thead>\n    <tr style=\"text-align: right;\">\n      <th></th>\n      <th>song_id</th>\n      <th>song_name</th>\n      <th>song_popularity</th>\n      <th>explicit</th>\n      <th>song_type</th>\n      <th>track_number</th>\n      <th>num_artists</th>\n      <th>num_available_markets</th>\n      <th>release_date</th>\n      <th>duration_ms</th>\n      <th>...</th>\n      <th>clustering_y</th>\n      <th>degree_y</th>\n      <th>eccentricity_y</th>\n      <th>eigencentrality_y</th>\n      <th>weighted degree_y</th>\n      <th>pagerank_y</th>\n      <th>Cluster_y</th>\n      <th>profile_y</th>\n      <th>years_on_charts</th>\n      <th>date</th>\n    </tr>\n  </thead>\n  <tbody>\n    <tr>\n      <th>0</th>\n      <td>3rTIDlmlGskGnRRqmRtvYn</td>\n      <td>Lone Stranger</td>\n      <td>0.0</td>\n      <td>False</td>\n      <td>Solo</td>\n      <td>19.0</td>\n      <td>1.0</td>\n      <td>74.0</td>\n      <td>2013-08-26</td>\n      <td>163255.0</td>\n      <td>...</td>\n      <td>0.0</td>\n      <td>0.0</td>\n      <td>0.0</td>\n      <td>0.0</td>\n      <td>0.0</td>\n      <td>0.0</td>\n      <td>-1.0</td>\n      <td>No Match</td>\n      <td>0.0</td>\n      <td>2013-08-26</td>\n    </tr>\n    <tr>\n      <th>64</th>\n      <td>6aOw7bWT4sDJTq2cQ3YOPo</td>\n      <td>Barrel of a Gun - Instrumental Version</td>\n      <td>0.0</td>\n      <td>False</td>\n      <td>Solo</td>\n      <td>22.0</td>\n      <td>1.0</td>\n      <td>74.0</td>\n      <td>2013-08-26</td>\n      <td>141636.0</td>\n      <td>...</td>\n      <td>0.0</td>\n      <td>0.0</td>\n      <td>0.0</td>\n      <td>0.0</td>\n      <td>0.0</td>\n      <td>0.0</td>\n      <td>-1.0</td>\n      <td>No Match</td>\n      <td>0.0</td>\n      <td>2013-08-26</td>\n    </tr>\n    <tr>\n      <th>63</th>\n      <td>7zhdgvEuhcxy4iwc0ssoty</td>\n      <td>Ghost of Gloria Goodchild</td>\n      <td>5.0</td>\n      <td>True</td>\n      <td>Solo</td>\n      <td>9.0</td>\n      <td>1.0</td>\n      <td>2.0</td>\n      <td>2013-08-26</td>\n      <td>193787.0</td>\n      <td>...</td>\n      <td>0.0</td>\n      <td>0.0</td>\n      <td>0.0</td>\n      <td>0.0</td>\n      <td>0.0</td>\n      <td>0.0</td>\n      <td>-1.0</td>\n      <td>No Match</td>\n      <td>0.0</td>\n      <td>2013-08-26</td>\n    </tr>\n    <tr>\n      <th>62</th>\n      <td>7urrpTy9j5QGMYrZpPwuEy</td>\n      <td>Kolors</td>\n      <td>12.0</td>\n      <td>True</td>\n      <td>Solo</td>\n      <td>10.0</td>\n      <td>1.0</td>\n      <td>2.0</td>\n      <td>2013-08-26</td>\n      <td>270160.0</td>\n      <td>...</td>\n      <td>0.0</td>\n      <td>0.0</td>\n      <td>0.0</td>\n      <td>0.0</td>\n      <td>0.0</td>\n      <td>0.0</td>\n      <td>-1.0</td>\n      <td>No Match</td>\n      <td>0.0</td>\n      <td>2013-08-26</td>\n    </tr>\n    <tr>\n      <th>61</th>\n      <td>6Ppgg7vDhYoyyNmmfIE9zK</td>\n      <td>Come as You Are</td>\n      <td>5.0</td>\n      <td>True</td>\n      <td>Solo</td>\n      <td>11.0</td>\n      <td>1.0</td>\n      <td>2.0</td>\n      <td>2013-08-26</td>\n      <td>168520.0</td>\n      <td>...</td>\n      <td>0.0</td>\n      <td>0.0</td>\n      <td>0.0</td>\n      <td>0.0</td>\n      <td>0.0</td>\n      <td>0.0</td>\n      <td>-1.0</td>\n      <td>No Match</td>\n      <td>0.0</td>\n      <td>2013-08-26</td>\n    </tr>\n    <tr>\n      <th>...</th>\n      <td>...</td>\n      <td>...</td>\n      <td>...</td>\n      <td>...</td>\n      <td>...</td>\n      <td>...</td>\n      <td>...</td>\n      <td>...</td>\n      <td>...</td>\n      <td>...</td>\n      <td>...</td>\n      <td>...</td>\n      <td>...</td>\n      <td>...</td>\n      <td>...</td>\n      <td>...</td>\n      <td>...</td>\n      <td>...</td>\n      <td>...</td>\n      <td>...</td>\n      <td>...</td>\n    </tr>\n    <tr>\n      <th>302833</th>\n      <td>3nXCl6A9GI9008YJb8biqz</td>\n      <td>The Last Hippie</td>\n      <td>0.0</td>\n      <td>False</td>\n      <td>Solo</td>\n      <td>5.0</td>\n      <td>1.0</td>\n      <td>79.0</td>\n      <td>2018-08-25</td>\n      <td>385984.0</td>\n      <td>...</td>\n      <td>0.0</td>\n      <td>0.0</td>\n      <td>0.0</td>\n      <td>0.0</td>\n      <td>0.0</td>\n      <td>0.0</td>\n      <td>-1.0</td>\n      <td>No Match</td>\n      <td>0.0</td>\n      <td>2018-08-25</td>\n    </tr>\n    <tr>\n      <th>302834</th>\n      <td>16h5mVR7abqHXj8jBAiPdX</td>\n      <td>Not Mushroom</td>\n      <td>0.0</td>\n      <td>False</td>\n      <td>Solo</td>\n      <td>6.0</td>\n      <td>1.0</td>\n      <td>79.0</td>\n      <td>2018-08-25</td>\n      <td>398629.0</td>\n      <td>...</td>\n      <td>0.0</td>\n      <td>0.0</td>\n      <td>0.0</td>\n      <td>0.0</td>\n      <td>0.0</td>\n      <td>0.0</td>\n      <td>-1.0</td>\n      <td>No Match</td>\n      <td>0.0</td>\n      <td>2018-08-25</td>\n    </tr>\n    <tr>\n      <th>302835</th>\n      <td>0U8KFcdXcJE7Rh1F12CGTF</td>\n      <td>Time Lapse</td>\n      <td>0.0</td>\n      <td>False</td>\n      <td>Solo</td>\n      <td>21.0</td>\n      <td>1.0</td>\n      <td>79.0</td>\n      <td>2018-08-25</td>\n      <td>535148.0</td>\n      <td>...</td>\n      <td>0.0</td>\n      <td>0.0</td>\n      <td>0.0</td>\n      <td>0.0</td>\n      <td>0.0</td>\n      <td>0.0</td>\n      <td>-1.0</td>\n      <td>No Match</td>\n      <td>0.0</td>\n      <td>2018-08-25</td>\n    </tr>\n    <tr>\n      <th>302836</th>\n      <td>1v0WJzyINC5wcfzUFYUZh0</td>\n      <td>Woman With the Red Lips</td>\n      <td>0.0</td>\n      <td>False</td>\n      <td>Solo</td>\n      <td>14.0</td>\n      <td>1.0</td>\n      <td>79.0</td>\n      <td>2018-08-25</td>\n      <td>464300.0</td>\n      <td>...</td>\n      <td>0.0</td>\n      <td>0.0</td>\n      <td>0.0</td>\n      <td>0.0</td>\n      <td>0.0</td>\n      <td>0.0</td>\n      <td>-1.0</td>\n      <td>No Match</td>\n      <td>0.0</td>\n      <td>2018-08-25</td>\n    </tr>\n    <tr>\n      <th>302831</th>\n      <td>6oYT6S7i5G9jwZUEDBqnh5</td>\n      <td>Earthquaker</td>\n      <td>0.0</td>\n      <td>False</td>\n      <td>Solo</td>\n      <td>3.0</td>\n      <td>1.0</td>\n      <td>79.0</td>\n      <td>2018-08-25</td>\n      <td>394839.0</td>\n      <td>...</td>\n      <td>0.0</td>\n      <td>0.0</td>\n      <td>0.0</td>\n      <td>0.0</td>\n      <td>0.0</td>\n      <td>0.0</td>\n      <td>-1.0</td>\n      <td>No Match</td>\n      <td>0.0</td>\n      <td>2018-08-25</td>\n    </tr>\n  </tbody>\n</table>\n<p>302916 rows × 50 columns</p>\n</div>"
     },
     "execution_count": 10,
     "metadata": {},
     "output_type": "execute_result"
    }
   ],
   "source": [
    "train_df"
   ],
   "metadata": {
    "collapsed": false,
    "ExecuteTime": {
     "end_time": "2024-05-20T16:30:22.782853600Z",
     "start_time": "2024-05-20T16:30:22.610855Z"
    }
   },
   "id": "b28638da1c926d60"
  },
  {
   "cell_type": "code",
   "execution_count": 11,
   "outputs": [
    {
     "data": {
      "text/plain": "                       song_id  rank_score  peak_position  weeks_on_chart  \\\n0       3e9HZxeyfWwjeyPAMmWSSQ         100            100               7   \n1       5p7ujcrUXASCNwRaWNHR1C          99             99              11   \n2       2xLMifQCjDGFmkHkpNLD9h          98            100              20   \n3       3KkXRkHbMCARz0aVfEt68P          97             97               9   \n4       1rqqCSm0Qe4I9rUvWncaom          95             96              20   \n...                        ...         ...            ...             ...   \n250387  6vPS75nWOKkuH5WTLD8hDc           7             23               5   \n250388  2BCjoFA0nJlXBLRf3164bN           6              6               0   \n250389  7Gk1QKi2BAZCnrYlrYEDjC           4             11               4   \n250390  7rxev6ErpRE5VYaamjs4T3           2              2               0   \n250391  1TRvdHDqCIcTQpHTZbFttC           1              1               0   \n\n             week  \n0      2018-12-29  \n1      2018-12-29  \n2      2018-12-29  \n3      2018-12-29  \n4      2018-12-29  \n...           ...  \n250387 1964-01-04  \n250388 1964-01-04  \n250389 1964-01-04  \n250390 1964-01-04  \n250391 1964-01-04  \n\n[250392 rows x 5 columns]",
      "text/html": "<div>\n<style scoped>\n    .dataframe tbody tr th:only-of-type {\n        vertical-align: middle;\n    }\n\n    .dataframe tbody tr th {\n        vertical-align: top;\n    }\n\n    .dataframe thead th {\n        text-align: right;\n    }\n</style>\n<table border=\"1\" class=\"dataframe\">\n  <thead>\n    <tr style=\"text-align: right;\">\n      <th></th>\n      <th>song_id</th>\n      <th>rank_score</th>\n      <th>peak_position</th>\n      <th>weeks_on_chart</th>\n      <th>week</th>\n    </tr>\n  </thead>\n  <tbody>\n    <tr>\n      <th>0</th>\n      <td>3e9HZxeyfWwjeyPAMmWSSQ</td>\n      <td>100</td>\n      <td>100</td>\n      <td>7</td>\n      <td>2018-12-29</td>\n    </tr>\n    <tr>\n      <th>1</th>\n      <td>5p7ujcrUXASCNwRaWNHR1C</td>\n      <td>99</td>\n      <td>99</td>\n      <td>11</td>\n      <td>2018-12-29</td>\n    </tr>\n    <tr>\n      <th>2</th>\n      <td>2xLMifQCjDGFmkHkpNLD9h</td>\n      <td>98</td>\n      <td>100</td>\n      <td>20</td>\n      <td>2018-12-29</td>\n    </tr>\n    <tr>\n      <th>3</th>\n      <td>3KkXRkHbMCARz0aVfEt68P</td>\n      <td>97</td>\n      <td>97</td>\n      <td>9</td>\n      <td>2018-12-29</td>\n    </tr>\n    <tr>\n      <th>4</th>\n      <td>1rqqCSm0Qe4I9rUvWncaom</td>\n      <td>95</td>\n      <td>96</td>\n      <td>20</td>\n      <td>2018-12-29</td>\n    </tr>\n    <tr>\n      <th>...</th>\n      <td>...</td>\n      <td>...</td>\n      <td>...</td>\n      <td>...</td>\n      <td>...</td>\n    </tr>\n    <tr>\n      <th>250387</th>\n      <td>6vPS75nWOKkuH5WTLD8hDc</td>\n      <td>7</td>\n      <td>23</td>\n      <td>5</td>\n      <td>1964-01-04</td>\n    </tr>\n    <tr>\n      <th>250388</th>\n      <td>2BCjoFA0nJlXBLRf3164bN</td>\n      <td>6</td>\n      <td>6</td>\n      <td>0</td>\n      <td>1964-01-04</td>\n    </tr>\n    <tr>\n      <th>250389</th>\n      <td>7Gk1QKi2BAZCnrYlrYEDjC</td>\n      <td>4</td>\n      <td>11</td>\n      <td>4</td>\n      <td>1964-01-04</td>\n    </tr>\n    <tr>\n      <th>250390</th>\n      <td>7rxev6ErpRE5VYaamjs4T3</td>\n      <td>2</td>\n      <td>2</td>\n      <td>0</td>\n      <td>1964-01-04</td>\n    </tr>\n    <tr>\n      <th>250391</th>\n      <td>1TRvdHDqCIcTQpHTZbFttC</td>\n      <td>1</td>\n      <td>1</td>\n      <td>0</td>\n      <td>1964-01-04</td>\n    </tr>\n  </tbody>\n</table>\n<p>250392 rows × 5 columns</p>\n</div>"
     },
     "execution_count": 11,
     "metadata": {},
     "output_type": "execute_result"
    }
   ],
   "source": [
    "df_song_chart = pd.read_csv(\"../../MusicOSet/musicoset_popularity/song_chart.csv\", sep=\"\\t\")            #nur auf train daten, da rest unbekannt (für charts)\n",
    "df_song_chart['week'] = pd.to_datetime(df_song_chart['week']) #evtl später wegen runtime\n",
    "df_song_chart"
   ],
   "metadata": {
    "collapsed": false,
    "ExecuteTime": {
     "end_time": "2024-05-20T16:30:22.940390100Z",
     "start_time": "2024-05-20T16:30:22.771856300Z"
    }
   },
   "id": "948fa20163451baa"
  },
  {
   "cell_type": "code",
   "execution_count": 12,
   "outputs": [
    {
     "data": {
      "text/plain": "                      song_id  \\\n0      3e9HZxeyfWwjeyPAMmWSSQ   \n1      5p7ujcrUXASCNwRaWNHR1C   \n2      2xLMifQCjDGFmkHkpNLD9h   \n3      3KkXRkHbMCARz0aVfEt68P   \n4      1rqqCSm0Qe4I9rUvWncaom   \n...                       ...   \n20400  4NnhLA66RRLXxKbiiscU9R   \n20401  2jHfXdCLibrI1J56LnUAZv   \n20402  6zqsyB7uIvWrL1iCJzpNrs   \n20403  5mz9pQZZXNpAw9CdQ7Bk8q   \n20404  2H9CKpZiLDF223BbwehpDF   \n\n                                            artists_ids  \n0                              [66CXWjxzNUsdJxJ2JdwvnR]  \n1                              [26VFTg2z8YR0cCuwLzESi2]  \n2                              [0Y5tJX1MQlPlqiwlOH1tJY]  \n3      [246dkjvS1zLTtiykXe5h60, 1zNqQNIdeOUZHb8zbZRFMX]  \n4                              [20JZFwl6HVl6yg8a4H3ZqK]  \n...                                                 ...  \n20400                          [5X3TuTi9OIsJXMGxPwTKM2]  \n20401                          [6lHC2EQMEMZiEmSfFloarn]  \n20402                          [5X3TuTi9OIsJXMGxPwTKM2]  \n20403                          [6lHC2EQMEMZiEmSfFloarn]  \n20404                          [6wPhSqRtPu1UhRCDX5yaDJ]  \n\n[20405 rows x 2 columns]",
      "text/html": "<div>\n<style scoped>\n    .dataframe tbody tr th:only-of-type {\n        vertical-align: middle;\n    }\n\n    .dataframe tbody tr th {\n        vertical-align: top;\n    }\n\n    .dataframe thead th {\n        text-align: right;\n    }\n</style>\n<table border=\"1\" class=\"dataframe\">\n  <thead>\n    <tr style=\"text-align: right;\">\n      <th></th>\n      <th>song_id</th>\n      <th>artists_ids</th>\n    </tr>\n  </thead>\n  <tbody>\n    <tr>\n      <th>0</th>\n      <td>3e9HZxeyfWwjeyPAMmWSSQ</td>\n      <td>[66CXWjxzNUsdJxJ2JdwvnR]</td>\n    </tr>\n    <tr>\n      <th>1</th>\n      <td>5p7ujcrUXASCNwRaWNHR1C</td>\n      <td>[26VFTg2z8YR0cCuwLzESi2]</td>\n    </tr>\n    <tr>\n      <th>2</th>\n      <td>2xLMifQCjDGFmkHkpNLD9h</td>\n      <td>[0Y5tJX1MQlPlqiwlOH1tJY]</td>\n    </tr>\n    <tr>\n      <th>3</th>\n      <td>3KkXRkHbMCARz0aVfEt68P</td>\n      <td>[246dkjvS1zLTtiykXe5h60, 1zNqQNIdeOUZHb8zbZRFMX]</td>\n    </tr>\n    <tr>\n      <th>4</th>\n      <td>1rqqCSm0Qe4I9rUvWncaom</td>\n      <td>[20JZFwl6HVl6yg8a4H3ZqK]</td>\n    </tr>\n    <tr>\n      <th>...</th>\n      <td>...</td>\n      <td>...</td>\n    </tr>\n    <tr>\n      <th>20400</th>\n      <td>4NnhLA66RRLXxKbiiscU9R</td>\n      <td>[5X3TuTi9OIsJXMGxPwTKM2]</td>\n    </tr>\n    <tr>\n      <th>20401</th>\n      <td>2jHfXdCLibrI1J56LnUAZv</td>\n      <td>[6lHC2EQMEMZiEmSfFloarn]</td>\n    </tr>\n    <tr>\n      <th>20402</th>\n      <td>6zqsyB7uIvWrL1iCJzpNrs</td>\n      <td>[5X3TuTi9OIsJXMGxPwTKM2]</td>\n    </tr>\n    <tr>\n      <th>20403</th>\n      <td>5mz9pQZZXNpAw9CdQ7Bk8q</td>\n      <td>[6lHC2EQMEMZiEmSfFloarn]</td>\n    </tr>\n    <tr>\n      <th>20404</th>\n      <td>2H9CKpZiLDF223BbwehpDF</td>\n      <td>[6wPhSqRtPu1UhRCDX5yaDJ]</td>\n    </tr>\n  </tbody>\n</table>\n<p>20405 rows × 2 columns</p>\n</div>"
     },
     "execution_count": 12,
     "metadata": {},
     "output_type": "execute_result"
    }
   ],
   "source": [
    "df_songs = pd.read_csv(\"../../MusicOSet/musicoset_metadata/songs.csv\", sep=\"\\t\")            #nur auf train daten, da rest unbekannt (für charts)\n",
    "df_songs[\"artists_ids\"] = df_songs[\"artists\"].apply(lambda x: list((eval(x)).keys()))\n",
    "df_songs = df_songs[[\"song_id\", 'artists_ids']]\n",
    "df_songs"
   ],
   "metadata": {
    "collapsed": false,
    "ExecuteTime": {
     "end_time": "2024-05-20T16:30:23.245390800Z",
     "start_time": "2024-05-20T16:30:22.931397300Z"
    }
   },
   "id": "7cacf2570ff5145b"
  },
  {
   "cell_type": "code",
   "execution_count": 13,
   "outputs": [
    {
     "data": {
      "text/plain": "1.0"
     },
     "execution_count": 13,
     "metadata": {},
     "output_type": "execute_result"
    }
   ],
   "source": [
    "def superstar(n, d, p):\n",
    "    sup = 0\n",
    "    for i in range(len(d)):\n",
    "        sup += (d[i] + p[i])/2         #d[i] * p[i]          #um vanishing für einen 0 value zu verhindern alternativ: d+p/2 also mean nehmen?\n",
    "        # oder aus allem den mean?\n",
    "    return 1/n**2 * sup\n",
    "\n",
    "def superstar_2(n, d, p):\n",
    "    sup = 0\n",
    "    for i in range(len(d)):\n",
    "        sup += (d[i] + p[i])/2         #d[i] * p[i]          #um vanishing für einen 0 value zu verhindern alternativ: d+p/2 also mean nehmen?\n",
    "        # oder aus allem den mean?\n",
    "    return 1/n * sup\n",
    "\n",
    "def superstar_3(n, d, p):\n",
    "    sup = 0\n",
    "    for i in range(len(d)):\n",
    "        sup += p[i]        #d[i] * p[i]          #um vanishing für einen 0 value zu verhindern alternativ: d+p/2 also mean nehmen?\n",
    "        # oder aus allem den mean?\n",
    "    return 1/n**2 * sup\n",
    "\n",
    "def superstar_4(n, d, p):\n",
    "    sup = 0\n",
    "    for i in range(len(d)):\n",
    "        sup += d[i]          #d[i] * p[i]          #um vanishing für einen 0 value zu verhindern alternativ: d+p/2 also mean nehmen?\n",
    "        # oder aus allem den mean?\n",
    "    return 1/n**2 * sup\n",
    "\n",
    "def superstar_5(n, d, p, s):\n",
    "    sup = 0\n",
    "    for i in range(len(d)):\n",
    "        sup += (d[i] + p[i])/2         #d[i] * p[i]          #um vanishing für einen 0 value zu verhindern alternativ: d+p/2 also mean nehmen?\n",
    "        # oder aus allem den mean?\n",
    "    return (1-s)/n**2 * sup\n",
    "\n",
    "superstar(1, [1], [1])      #kommt es in produktivcode vor? wie mit nicht vorkommenden Werten umgehen?"
   ],
   "metadata": {
    "collapsed": false,
    "ExecuteTime": {
     "end_time": "2024-05-20T16:30:23.262391Z",
     "start_time": "2024-05-20T16:30:23.249394800Z"
    }
   },
   "id": "b5ff8ba811c4dfbd"
  },
  {
   "cell_type": "code",
   "execution_count": 14,
   "outputs": [
    {
     "data": {
      "text/plain": "([0.0, 0.24242424242424243, 0.494949494949495, 0.7474747474747475, 1.0],\n [0.0, 0.25, 0.5, 0.75, 1.0],\n 94608000)"
     },
     "execution_count": 14,
     "metadata": {},
     "output_type": "execute_result"
    }
   ],
   "source": [
    "def min_max_scaling(arr, min_val, max_val):\n",
    "    return [(x - min_val)/(max_val - min_val) for x in arr]\n",
    "\n",
    "past_years = 3\n",
    "max_amount_days = past_years*365\n",
    "max_distance_float = max_amount_days*24*60*60\n",
    "\n",
    "peak_positions = [1, 25, 50, 75, 100]\n",
    "days_distances = [0.00, max_distance_float*0.25, max_distance_float*0.5, max_distance_float*0.75, max_distance_float]\n",
    "peak_positions = min_max_scaling(peak_positions, 1, 100) #101 oder 100 als edge \n",
    "# change to (0,1], sonst sobald ein wert 0 ist also min, dann resultat auch 0 => 0 ist viel zu common siehe bsp file\n",
    "# => min value um 1 reduzieren um skalar zu verschieben\n",
    "days_distances = min_max_scaling(days_distances, 0.0, max_distance_float)\n",
    "peak_positions, days_distances, max_distance_float   ###skalierungsproblem!     "
   ],
   "metadata": {
    "collapsed": false,
    "ExecuteTime": {
     "end_time": "2024-05-20T16:30:23.321389900Z",
     "start_time": "2024-05-20T16:30:23.267391700Z"
    }
   },
   "id": "89dc6a7b881f4ce7"
  },
  {
   "cell_type": "code",
   "execution_count": 15,
   "outputs": [
    {
     "name": "stdout",
     "output_type": "stream",
     "text": [
      "0\n",
      "10000\n",
      "20000\n",
      "30000\n",
      "40000\n",
      "50000\n",
      "60000\n",
      "70000\n",
      "80000\n",
      "90000\n",
      "100000\n",
      "110000\n",
      "120000\n",
      "130000\n",
      "140000\n",
      "150000\n",
      "160000\n",
      "170000\n",
      "180000\n",
      "190000\n",
      "200000\n",
      "210000\n",
      "220000\n",
      "230000\n",
      "240000\n",
      "250000\n",
      "260000\n",
      "270000\n",
      "280000\n",
      "290000\n",
      "300000\n"
     ]
    }
   ],
   "source": [
    "import numpy as np\n",
    "\n",
    "past_years = 3\n",
    "max_amount_days = past_years * 365\n",
    "max_distance_float = max_amount_days * 24 * 60 * 60\n",
    "\n",
    "train_df[\"superstar_v1_x\"] = 1.0\n",
    "train_df[\"superstar_v1_y\"] = 1.0\n",
    "train_df[\"superstar_v2_x\"] = 1.0\n",
    "train_df[\"superstar_v2_y\"] = 1.0\n",
    "train_df[\"superstar_v3_x\"] = 1.0\n",
    "train_df[\"superstar_v3_y\"] = 1.0\n",
    "train_df[\"superstar_v4_x\"] = 1.0\n",
    "train_df[\"superstar_v4_y\"] = 1.0\n",
    "train_df[\"superstar_v5_x\"] = 1.0\n",
    "train_df[\"superstar_v5_y\"] = 1.0\n",
    "train_df[\"success_rate_x\"] = 0.0\n",
    "train_df[\"success_rate_y\"] = 0.0\n",
    "train_df[\"hits_in_past_x\"] = 0\n",
    "train_df[\"hits_in_past_y\"] = 0\n",
    "train_df[\"superstar_x\"] = 0\n",
    "train_df[\"superstar_y\"] = 0\n",
    "\n",
    "it = 0\n",
    "for index, row in train_df.iterrows():\n",
    "    artists_in_row = [row[\"artist1_id\"]]\n",
    "    if not pd.isna(row[\"artist2_id\"]):\n",
    "        artists_in_row.append(row[\"artist2_id\"])\n",
    "    \n",
    "    if it % 10000 == 0.0:\n",
    "        print(it)\n",
    "    it +=1\n",
    "\n",
    "    present = row[\"date\"].replace(hour=23, minute=59, second=59)\n",
    "    border_day = present - pd.DateOffset(years=past_years)\n",
    "    to_filter = df_song_chart[(df_song_chart[\"week\"] <= present) & (df_song_chart[\"week\"] > border_day)]\n",
    "\n",
    "    for nr_art, artist in enumerate(artists_in_row):\n",
    "        hits_amount = 0\n",
    "        success_rate = 0.0\n",
    "        song_ids = []\n",
    "        peak_positions = []\n",
    "        days_distances = []\n",
    "\n",
    "        df_num_hit = pd.merge(to_filter, df_songs)\n",
    "        df_num_hit_cpy = df_num_hit.copy()\n",
    "        if not df_num_hit.empty:\n",
    "            df_num_hit = df_num_hit.drop_duplicates(subset=[\"song_id\"])\n",
    "            mask = [artist in artists for artists in df_num_hit['artists_ids']]\n",
    "            df_num_hit = df_num_hit[mask]\n",
    "            #df_num_hit = df_num_hit[df_num_hit[\"artists_ids\"].apply(lambda x: artist in x)]\n",
    "\n",
    "            hits_amount = df_num_hit[\"song_id\"].nunique()\n",
    "            song_ids = df_num_hit[\"song_id\"].tolist()\n",
    "\n",
    "            #insert rest of calc here\n",
    "            if hits_amount > 0:\n",
    "                for song_id in song_ids:\n",
    "                    df_song_peak_days = df_num_hit_cpy[df_num_hit_cpy[\"song_id\"] == song_id]\n",
    "                    min_peak_position = df_song_peak_days[\"peak_position\"].min()\n",
    "                    peak_positions.append(min_peak_position)\n",
    "    \n",
    "                    peak_week = df_song_peak_days.loc[df_song_peak_days[\"peak_position\"].idxmin()][\"week\"].replace(hour=23, minute=59, second=59)\n",
    "                    distance = abs(peak_week - present)\n",
    "                    days_distances.append(distance.total_seconds())\n",
    "\n",
    "                    filtered_artists = amount_songs[(amount_songs[\"date\"] <= present) & (amount_songs[\"date\"] > border_day)]\n",
    "                    filtered_artists = filtered_artists['id_artists'].map(lambda x: artist in x)\n",
    "                    song_count = filtered_artists.sum()\n",
    "                    success_rate = hits_amount/(song_count + hits_amount)\n",
    "    \n",
    "                peak_positions = min_max_scaling(peak_positions, 1, 100)\n",
    "                days_distances = min_max_scaling(days_distances, 0.00, max_distance_float)\n",
    "    \n",
    "                if nr_art == 0:\n",
    "                    train_df.loc[index, \"superstar_v1_x\"] = superstar(hits_amount, peak_positions, days_distances)\n",
    "                    train_df.loc[index, \"superstar_v2_x\"] = superstar_2(hits_amount, peak_positions, days_distances)\n",
    "                    train_df.loc[index, \"superstar_v3_x\"] = superstar_3(hits_amount, peak_positions, days_distances)\n",
    "                    train_df.loc[index, \"superstar_v4_x\"] = superstar_4(hits_amount, peak_positions, days_distances)\n",
    "                    train_df.loc[index, \"superstar_v5_x\"] = superstar_5(hits_amount, peak_positions, days_distances, success_rate)\n",
    "                    train_df.loc[index, \"success_rate_x\"] = success_rate\n",
    "                    train_df.loc[index, \"hits_in_past_x\"] = hits_amount\n",
    "                    train_df.loc[index, \"superstar_x\"] = 1\n",
    "                elif nr_art == 1:\n",
    "                    train_df.loc[index, \"superstar_v1_y\"] = superstar(hits_amount, peak_positions, days_distances)\n",
    "                    train_df.loc[index, \"superstar_v2_y\"] = superstar_2(hits_amount, peak_positions, days_distances)\n",
    "                    train_df.loc[index, \"superstar_v3_y\"] = superstar_3(hits_amount, peak_positions, days_distances)\n",
    "                    train_df.loc[index, \"superstar_v4_y\"] = superstar_4(hits_amount, peak_positions, days_distances)\n",
    "                    train_df.loc[index, \"superstar_v5_y\"] = superstar_5(hits_amount, peak_positions, days_distances, success_rate)\n",
    "                    train_df.loc[index, \"success_rate_y\"] = success_rate\n",
    "                    train_df.loc[index, \"hits_in_past_y\"] = hits_amount\n",
    "                    train_df.loc[index, \"superstar_y\"] = 1\n",
    "                #print(str(nr_art) + \":   \" + str(superstar(hits_amount, peak_positions, days_distances)))"
   ],
   "metadata": {
    "collapsed": false,
    "ExecuteTime": {
     "end_time": "2024-05-20T18:20:59.660177Z",
     "start_time": "2024-05-20T16:30:23.288394Z"
    }
   },
   "id": "3986d58bb9d6a9a3"
  },
  {
   "cell_type": "code",
   "execution_count": 16,
   "outputs": [
    {
     "name": "stdout",
     "output_type": "stream",
     "text": [
      "Column 'song_popularity': min = 0.0, max = 88.0\n",
      "Column 'track_number': min = 1.0, max = 92.0\n",
      "Column 'num_artists': min = 1.0, max = 2.0\n",
      "Column 'num_available_markets': min = 0.0, max = 79.0\n",
      "Column 'duration_ms': min = 1731.0, max = 6032273.0\n",
      "Column 'key': min = 0.0, max = 11.0\n",
      "Column 'mode': min = 0.0, max = 1.0\n",
      "Column 'time_signature': min = 0.0, max = 5.0\n",
      "Column 'acousticness': min = 0.0, max = 0.996\n",
      "Column 'danceability': min = 0.0, max = 0.992\n",
      "Column 'energy': min = 0.0, max = 1.0\n",
      "Column 'instrumentalness': min = 0.0, max = 1.0\n",
      "Column 'liveness': min = 0.0, max = 1.0\n",
      "Column 'loudness': min = -60.0, max = 1.405\n",
      "Column 'speechiness': min = 0.0, max = 0.968\n",
      "Column 'valence': min = 0.0, max = 1.0\n",
      "Column 'tempo': min = 0.0, max = 248.942\n",
      "Column 'hit': min = 0.0, max = 1.0\n",
      "Column 'nr_artists': min = 1, max = 2\n",
      "Column 'betweenesscentrality_x': min = 0.0, max = 1.0\n",
      "Column 'closnesscentrality_x': min = 0.0, max = 1.0\n",
      "Column 'clustering_x': min = 0.0, max = 1.0\n",
      "Column 'degree_x': min = 0.0, max = 193.0\n",
      "Column 'eccentricity_x': min = 0.0, max = 20.0\n",
      "Column 'eigencentrality_x': min = 0.0, max = 1.0\n",
      "Column 'weighted degree_x': min = 0.0, max = 46714.0\n",
      "Column 'pagerank_x': min = 0.0, max = 0.0060425859586231\n",
      "Column 'Cluster_x': min = -1.0, max = 5.0\n",
      "Column 'betweenesscentrality_y': min = 0.0, max = 1.0\n",
      "Column 'closnesscentrality_y': min = 0.0, max = 1.0\n",
      "Column 'clustering_y': min = 0.0, max = 1.0\n",
      "Column 'degree_y': min = 0.0, max = 193.0\n",
      "Column 'eccentricity_y': min = 0.0, max = 20.0\n",
      "Column 'eigencentrality_y': min = 0.0, max = 1.0\n",
      "Column 'weighted degree_y': min = 0.0, max = 31918.0\n",
      "Column 'pagerank_y': min = 0.0, max = 0.0060425859586231\n",
      "Column 'Cluster_y': min = -1.0, max = 5.0\n",
      "Column 'years_on_charts': min = 0.0, max = 1.5150684931506848\n",
      "Column 'superstar_v1_x': min = 0.0027397260273972603, max = 1.0\n",
      "Column 'superstar_v1_y': min = 0.0027397260273972603, max = 1.0\n",
      "Column 'superstar_v2_x': min = 0.0027397260273972603, max = 1.0\n",
      "Column 'superstar_v2_y': min = 0.0027397260273972603, max = 1.0\n",
      "Column 'superstar_v3_x': min = 0.0009132420091324201, max = 1.0\n",
      "Column 'superstar_v3_y': min = 0.0018264840182648401, max = 1.0\n",
      "Column 'superstar_v4_x': min = 0.0, max = 1.0\n",
      "Column 'superstar_v4_y': min = 0.0, max = 1.0\n",
      "Column 'superstar_v5_x': min = 0.0, max = 1.0\n",
      "Column 'superstar_v5_y': min = 0.002609262883235486, max = 1.0\n",
      "Column 'success_rate_x': min = 0.0, max = 1.0\n",
      "Column 'success_rate_y': min = 0.0, max = 0.8571428571428571\n",
      "Column 'hits_in_past_x': min = 0, max = 51\n",
      "Column 'hits_in_past_y': min = 0, max = 42\n",
      "Column 'superstar_x': min = 0, max = 1\n",
      "Column 'superstar_y': min = 0, max = 1\n"
     ]
    }
   ],
   "source": [
    "numerical_df = train_df.select_dtypes(include=['number'])\n",
    "\n",
    "# Print min and max for each numerical column\n",
    "for column in numerical_df.columns:\n",
    "    min_value = numerical_df[column].min()\n",
    "    max_value = numerical_df[column].max()\n",
    "    print(f\"Column '{column}': min = {min_value}, max = {max_value}\")"
   ],
   "metadata": {
    "collapsed": false,
    "ExecuteTime": {
     "end_time": "2024-05-20T18:20:59.879921200Z",
     "start_time": "2024-05-20T18:20:59.664174300Z"
    }
   },
   "id": "99d7468bf66602d5"
  },
  {
   "cell_type": "code",
   "execution_count": 17,
   "outputs": [
    {
     "data": {
      "text/plain": "                       song_id                               song_name  \\\n0       3rTIDlmlGskGnRRqmRtvYn                           Lone Stranger   \n64      6aOw7bWT4sDJTq2cQ3YOPo  Barrel of a Gun - Instrumental Version   \n63      7zhdgvEuhcxy4iwc0ssoty               Ghost of Gloria Goodchild   \n62      7urrpTy9j5QGMYrZpPwuEy                                  Kolors   \n61      6Ppgg7vDhYoyyNmmfIE9zK                         Come as You Are   \n...                        ...                                     ...   \n302833  3nXCl6A9GI9008YJb8biqz                         The Last Hippie   \n302834  16h5mVR7abqHXj8jBAiPdX                            Not Mushroom   \n302835  0U8KFcdXcJE7Rh1F12CGTF                              Time Lapse   \n302836  1v0WJzyINC5wcfzUFYUZh0                 Woman With the Red Lips   \n302831  6oYT6S7i5G9jwZUEDBqnh5                             Earthquaker   \n\n        song_popularity  explicit song_type  track_number  num_artists  \\\n0                   0.0     False      Solo          19.0          1.0   \n64                  0.0     False      Solo          22.0          1.0   \n63                  5.0      True      Solo           9.0          1.0   \n62                 12.0      True      Solo          10.0          1.0   \n61                  5.0      True      Solo          11.0          1.0   \n...                 ...       ...       ...           ...          ...   \n302833              0.0     False      Solo           5.0          1.0   \n302834              0.0     False      Solo           6.0          1.0   \n302835              0.0     False      Solo          21.0          1.0   \n302836              0.0     False      Solo          14.0          1.0   \n302831              0.0     False      Solo           3.0          1.0   \n\n        num_available_markets release_date  duration_ms  ...  superstar_v4_x  \\\n0                        74.0   2013-08-26     163255.0  ...             1.0   \n64                       74.0   2013-08-26     141636.0  ...             1.0   \n63                        2.0   2013-08-26     193787.0  ...             1.0   \n62                        2.0   2013-08-26     270160.0  ...             1.0   \n61                        2.0   2013-08-26     168520.0  ...             1.0   \n...                       ...          ...          ...  ...             ...   \n302833                   79.0   2018-08-25     385984.0  ...             1.0   \n302834                   79.0   2018-08-25     398629.0  ...             1.0   \n302835                   79.0   2018-08-25     535148.0  ...             1.0   \n302836                   79.0   2018-08-25     464300.0  ...             1.0   \n302831                   79.0   2018-08-25     394839.0  ...             1.0   \n\n        superstar_v4_y  superstar_v5_x  superstar_v5_y  success_rate_x  \\\n0                  1.0             1.0             1.0             0.0   \n64                 1.0             1.0             1.0             0.0   \n63                 1.0             1.0             1.0             0.0   \n62                 1.0             1.0             1.0             0.0   \n61                 1.0             1.0             1.0             0.0   \n...                ...             ...             ...             ...   \n302833             1.0             1.0             1.0             0.0   \n302834             1.0             1.0             1.0             0.0   \n302835             1.0             1.0             1.0             0.0   \n302836             1.0             1.0             1.0             0.0   \n302831             1.0             1.0             1.0             0.0   \n\n        success_rate_y  hits_in_past_x  hits_in_past_y  superstar_x  \\\n0                  0.0               0               0            0   \n64                 0.0               0               0            0   \n63                 0.0               0               0            0   \n62                 0.0               0               0            0   \n61                 0.0               0               0            0   \n...                ...             ...             ...          ...   \n302833             0.0               0               0            0   \n302834             0.0               0               0            0   \n302835             0.0               0               0            0   \n302836             0.0               0               0            0   \n302831             0.0               0               0            0   \n\n        superstar_y  \n0                 0  \n64                0  \n63                0  \n62                0  \n61                0  \n...             ...  \n302833            0  \n302834            0  \n302835            0  \n302836            0  \n302831            0  \n\n[302916 rows x 66 columns]",
      "text/html": "<div>\n<style scoped>\n    .dataframe tbody tr th:only-of-type {\n        vertical-align: middle;\n    }\n\n    .dataframe tbody tr th {\n        vertical-align: top;\n    }\n\n    .dataframe thead th {\n        text-align: right;\n    }\n</style>\n<table border=\"1\" class=\"dataframe\">\n  <thead>\n    <tr style=\"text-align: right;\">\n      <th></th>\n      <th>song_id</th>\n      <th>song_name</th>\n      <th>song_popularity</th>\n      <th>explicit</th>\n      <th>song_type</th>\n      <th>track_number</th>\n      <th>num_artists</th>\n      <th>num_available_markets</th>\n      <th>release_date</th>\n      <th>duration_ms</th>\n      <th>...</th>\n      <th>superstar_v4_x</th>\n      <th>superstar_v4_y</th>\n      <th>superstar_v5_x</th>\n      <th>superstar_v5_y</th>\n      <th>success_rate_x</th>\n      <th>success_rate_y</th>\n      <th>hits_in_past_x</th>\n      <th>hits_in_past_y</th>\n      <th>superstar_x</th>\n      <th>superstar_y</th>\n    </tr>\n  </thead>\n  <tbody>\n    <tr>\n      <th>0</th>\n      <td>3rTIDlmlGskGnRRqmRtvYn</td>\n      <td>Lone Stranger</td>\n      <td>0.0</td>\n      <td>False</td>\n      <td>Solo</td>\n      <td>19.0</td>\n      <td>1.0</td>\n      <td>74.0</td>\n      <td>2013-08-26</td>\n      <td>163255.0</td>\n      <td>...</td>\n      <td>1.0</td>\n      <td>1.0</td>\n      <td>1.0</td>\n      <td>1.0</td>\n      <td>0.0</td>\n      <td>0.0</td>\n      <td>0</td>\n      <td>0</td>\n      <td>0</td>\n      <td>0</td>\n    </tr>\n    <tr>\n      <th>64</th>\n      <td>6aOw7bWT4sDJTq2cQ3YOPo</td>\n      <td>Barrel of a Gun - Instrumental Version</td>\n      <td>0.0</td>\n      <td>False</td>\n      <td>Solo</td>\n      <td>22.0</td>\n      <td>1.0</td>\n      <td>74.0</td>\n      <td>2013-08-26</td>\n      <td>141636.0</td>\n      <td>...</td>\n      <td>1.0</td>\n      <td>1.0</td>\n      <td>1.0</td>\n      <td>1.0</td>\n      <td>0.0</td>\n      <td>0.0</td>\n      <td>0</td>\n      <td>0</td>\n      <td>0</td>\n      <td>0</td>\n    </tr>\n    <tr>\n      <th>63</th>\n      <td>7zhdgvEuhcxy4iwc0ssoty</td>\n      <td>Ghost of Gloria Goodchild</td>\n      <td>5.0</td>\n      <td>True</td>\n      <td>Solo</td>\n      <td>9.0</td>\n      <td>1.0</td>\n      <td>2.0</td>\n      <td>2013-08-26</td>\n      <td>193787.0</td>\n      <td>...</td>\n      <td>1.0</td>\n      <td>1.0</td>\n      <td>1.0</td>\n      <td>1.0</td>\n      <td>0.0</td>\n      <td>0.0</td>\n      <td>0</td>\n      <td>0</td>\n      <td>0</td>\n      <td>0</td>\n    </tr>\n    <tr>\n      <th>62</th>\n      <td>7urrpTy9j5QGMYrZpPwuEy</td>\n      <td>Kolors</td>\n      <td>12.0</td>\n      <td>True</td>\n      <td>Solo</td>\n      <td>10.0</td>\n      <td>1.0</td>\n      <td>2.0</td>\n      <td>2013-08-26</td>\n      <td>270160.0</td>\n      <td>...</td>\n      <td>1.0</td>\n      <td>1.0</td>\n      <td>1.0</td>\n      <td>1.0</td>\n      <td>0.0</td>\n      <td>0.0</td>\n      <td>0</td>\n      <td>0</td>\n      <td>0</td>\n      <td>0</td>\n    </tr>\n    <tr>\n      <th>61</th>\n      <td>6Ppgg7vDhYoyyNmmfIE9zK</td>\n      <td>Come as You Are</td>\n      <td>5.0</td>\n      <td>True</td>\n      <td>Solo</td>\n      <td>11.0</td>\n      <td>1.0</td>\n      <td>2.0</td>\n      <td>2013-08-26</td>\n      <td>168520.0</td>\n      <td>...</td>\n      <td>1.0</td>\n      <td>1.0</td>\n      <td>1.0</td>\n      <td>1.0</td>\n      <td>0.0</td>\n      <td>0.0</td>\n      <td>0</td>\n      <td>0</td>\n      <td>0</td>\n      <td>0</td>\n    </tr>\n    <tr>\n      <th>...</th>\n      <td>...</td>\n      <td>...</td>\n      <td>...</td>\n      <td>...</td>\n      <td>...</td>\n      <td>...</td>\n      <td>...</td>\n      <td>...</td>\n      <td>...</td>\n      <td>...</td>\n      <td>...</td>\n      <td>...</td>\n      <td>...</td>\n      <td>...</td>\n      <td>...</td>\n      <td>...</td>\n      <td>...</td>\n      <td>...</td>\n      <td>...</td>\n      <td>...</td>\n      <td>...</td>\n    </tr>\n    <tr>\n      <th>302833</th>\n      <td>3nXCl6A9GI9008YJb8biqz</td>\n      <td>The Last Hippie</td>\n      <td>0.0</td>\n      <td>False</td>\n      <td>Solo</td>\n      <td>5.0</td>\n      <td>1.0</td>\n      <td>79.0</td>\n      <td>2018-08-25</td>\n      <td>385984.0</td>\n      <td>...</td>\n      <td>1.0</td>\n      <td>1.0</td>\n      <td>1.0</td>\n      <td>1.0</td>\n      <td>0.0</td>\n      <td>0.0</td>\n      <td>0</td>\n      <td>0</td>\n      <td>0</td>\n      <td>0</td>\n    </tr>\n    <tr>\n      <th>302834</th>\n      <td>16h5mVR7abqHXj8jBAiPdX</td>\n      <td>Not Mushroom</td>\n      <td>0.0</td>\n      <td>False</td>\n      <td>Solo</td>\n      <td>6.0</td>\n      <td>1.0</td>\n      <td>79.0</td>\n      <td>2018-08-25</td>\n      <td>398629.0</td>\n      <td>...</td>\n      <td>1.0</td>\n      <td>1.0</td>\n      <td>1.0</td>\n      <td>1.0</td>\n      <td>0.0</td>\n      <td>0.0</td>\n      <td>0</td>\n      <td>0</td>\n      <td>0</td>\n      <td>0</td>\n    </tr>\n    <tr>\n      <th>302835</th>\n      <td>0U8KFcdXcJE7Rh1F12CGTF</td>\n      <td>Time Lapse</td>\n      <td>0.0</td>\n      <td>False</td>\n      <td>Solo</td>\n      <td>21.0</td>\n      <td>1.0</td>\n      <td>79.0</td>\n      <td>2018-08-25</td>\n      <td>535148.0</td>\n      <td>...</td>\n      <td>1.0</td>\n      <td>1.0</td>\n      <td>1.0</td>\n      <td>1.0</td>\n      <td>0.0</td>\n      <td>0.0</td>\n      <td>0</td>\n      <td>0</td>\n      <td>0</td>\n      <td>0</td>\n    </tr>\n    <tr>\n      <th>302836</th>\n      <td>1v0WJzyINC5wcfzUFYUZh0</td>\n      <td>Woman With the Red Lips</td>\n      <td>0.0</td>\n      <td>False</td>\n      <td>Solo</td>\n      <td>14.0</td>\n      <td>1.0</td>\n      <td>79.0</td>\n      <td>2018-08-25</td>\n      <td>464300.0</td>\n      <td>...</td>\n      <td>1.0</td>\n      <td>1.0</td>\n      <td>1.0</td>\n      <td>1.0</td>\n      <td>0.0</td>\n      <td>0.0</td>\n      <td>0</td>\n      <td>0</td>\n      <td>0</td>\n      <td>0</td>\n    </tr>\n    <tr>\n      <th>302831</th>\n      <td>6oYT6S7i5G9jwZUEDBqnh5</td>\n      <td>Earthquaker</td>\n      <td>0.0</td>\n      <td>False</td>\n      <td>Solo</td>\n      <td>3.0</td>\n      <td>1.0</td>\n      <td>79.0</td>\n      <td>2018-08-25</td>\n      <td>394839.0</td>\n      <td>...</td>\n      <td>1.0</td>\n      <td>1.0</td>\n      <td>1.0</td>\n      <td>1.0</td>\n      <td>0.0</td>\n      <td>0.0</td>\n      <td>0</td>\n      <td>0</td>\n      <td>0</td>\n      <td>0</td>\n    </tr>\n  </tbody>\n</table>\n<p>302916 rows × 66 columns</p>\n</div>"
     },
     "execution_count": 17,
     "metadata": {},
     "output_type": "execute_result"
    }
   ],
   "source": [
    "train_df"
   ],
   "metadata": {
    "collapsed": false,
    "ExecuteTime": {
     "end_time": "2024-05-20T18:21:00.074919900Z",
     "start_time": "2024-05-20T18:20:59.935922Z"
    }
   },
   "id": "3c61357868db20a9"
  },
  {
   "cell_type": "code",
   "execution_count": 18,
   "outputs": [],
   "source": [
    "train_df.drop(columns=[\"date\"], inplace=True)\n",
    "train_df.to_csv(\"train_df_superstar_v1_0.csv\", index=False)"
   ],
   "metadata": {
    "collapsed": false,
    "ExecuteTime": {
     "end_time": "2024-05-20T18:21:07.462920900Z",
     "start_time": "2024-05-20T18:21:00.071921900Z"
    }
   },
   "id": "8ced032ed41ff018"
  },
  {
   "cell_type": "code",
   "execution_count": 19,
   "outputs": [],
   "source": [
    "# train_df = pd.read_csv(\"train_df_superstar_v1_0.csv\", sep=\",\")\n",
    "# train_df['date'] = pd.to_datetime(train_df['release_date'])\n",
    "# train_df.sort_values(by=\"date\", inplace=True)\n",
    "# train_df"
   ],
   "metadata": {
    "collapsed": false,
    "ExecuteTime": {
     "end_time": "2024-05-20T18:21:07.480922Z",
     "start_time": "2024-05-20T18:21:07.463924100Z"
    }
   },
   "id": "6d6affba9926e41b"
  },
  {
   "cell_type": "code",
   "execution_count": 20,
   "outputs": [],
   "source": [
    "#for rerunning\n",
    "test_df['date'] = pd.to_datetime(test_df['release_date'])"
   ],
   "metadata": {
    "collapsed": false,
    "ExecuteTime": {
     "end_time": "2024-05-20T18:21:07.503920400Z",
     "start_time": "2024-05-20T18:21:07.479922200Z"
    }
   },
   "id": "bed6d88e79a3214d"
  },
  {
   "cell_type": "code",
   "execution_count": 21,
   "outputs": [
    {
     "data": {
      "text/plain": "Timestamp('2018-08-25 23:59:59')"
     },
     "execution_count": 21,
     "metadata": {},
     "output_type": "execute_result"
    }
   ],
   "source": [
    "border_start_train_day = (pd.to_datetime(train_df['release_date']).iloc[-1]).replace(hour=23, minute=59, second=59)\n",
    "border_start_train_day"
   ],
   "metadata": {
    "collapsed": false,
    "ExecuteTime": {
     "end_time": "2024-05-20T18:21:07.524920700Z",
     "start_time": "2024-05-20T18:21:07.501921200Z"
    }
   },
   "id": "1f48111fc9c83ae1"
  },
  {
   "cell_type": "code",
   "execution_count": 22,
   "outputs": [
    {
     "name": "stdout",
     "output_type": "stream",
     "text": [
      "0\n",
      "song_id 446Jufq5oOCwOSXbkqq5yD\n",
      "1By9QBFnjZAoI83BZppHlt\n",
      "song_id 446Jufq5oOCwOSXbkqq5yD\n",
      "1By9QBFnjZAoI83BZppHlt\n",
      "10000\n",
      "song_id 1NeZpPnNi3DblecF4HIA9h\n",
      "6r2niOTnexy9xss5g8GWXH\n",
      "song_id 6f6jBn29HU6pbvy99NYXF3\n",
      "0LyOADBjj28cbvJWTXUEGA\n",
      "20000\n",
      "30000\n",
      "song_id 5V2IRjMpfhoahnWFIydpw1\n",
      "1By9QBFnjZAoI83BZppHlt\n",
      "song_id 5V2IRjMpfhoahnWFIydpw1\n",
      "1By9QBFnjZAoI83BZppHlt\n",
      "40000\n",
      "song_id 55H2rPMy0I4SbHvtWZpwqV\n",
      "6extd4B6hl8VTmnlhpl2bY\n",
      "song_id 55H2rPMy0I4SbHvtWZpwqV\n",
      "6extd4B6hl8VTmnlhpl2bY\n",
      "song_id 55H2rPMy0I4SbHvtWZpwqV\n",
      "6extd4B6hl8VTmnlhpl2bY\n",
      "song_id 55H2rPMy0I4SbHvtWZpwqV\n",
      "6extd4B6hl8VTmnlhpl2bY\n",
      "song_id 1NRjguinClMxLJKZSo3QVA\n",
      "6extd4B6hl8VTmnlhpl2bY\n",
      "song_id 1NRjguinClMxLJKZSo3QVA\n",
      "6extd4B6hl8VTmnlhpl2bY\n",
      "song_id 1NRjguinClMxLJKZSo3QVA\n",
      "6extd4B6hl8VTmnlhpl2bY\n",
      "song_id 1NRjguinClMxLJKZSo3QVA\n",
      "6extd4B6hl8VTmnlhpl2bY\n",
      "song_id 00z7KscyujNtThfKhIVeEb\n",
      "1By9QBFnjZAoI83BZppHlt\n",
      "song_id 00z7KscyujNtThfKhIVeEb\n",
      "1By9QBFnjZAoI83BZppHlt\n",
      "50000\n",
      "song_id 4MCPNnJkkIzNGCCBE9XVhX\n",
      "1By9QBFnjZAoI83BZppHlt\n",
      "song_id 4MCPNnJkkIzNGCCBE9XVhX\n",
      "1By9QBFnjZAoI83BZppHlt\n",
      "song_id 5caTDebaNznaQUXbLdK4Ol\n",
      "1By9QBFnjZAoI83BZppHlt\n",
      "song_id 5caTDebaNznaQUXbLdK4Ol\n",
      "1By9QBFnjZAoI83BZppHlt\n",
      "song_id 4XB8f2e7bSJDeq2WJkcLEE\n",
      "1By9QBFnjZAoI83BZppHlt\n",
      "song_id 4XB8f2e7bSJDeq2WJkcLEE\n",
      "1By9QBFnjZAoI83BZppHlt\n",
      "song_id 06T2c6axZSbnEwEYsBmj0Z\n",
      "1By9QBFnjZAoI83BZppHlt\n",
      "song_id 06T2c6axZSbnEwEYsBmj0Z\n",
      "1By9QBFnjZAoI83BZppHlt\n"
     ]
    }
   ],
   "source": [
    "import numpy as np\n",
    "\n",
    "past_years = 3\n",
    "max_amount_days = past_years * 365\n",
    "max_distance_float = max_amount_days * 24 * 60 * 60\n",
    "\n",
    "test_df[\"superstar_v1_x\"] = 1.0\n",
    "test_df[\"superstar_v1_y\"] = 1.0\n",
    "test_df[\"superstar_v2_x\"] = 1.0\n",
    "test_df[\"superstar_v2_y\"] = 1.0\n",
    "test_df[\"superstar_v3_x\"] = 1.0\n",
    "test_df[\"superstar_v3_y\"] = 1.0\n",
    "test_df[\"superstar_v4_x\"] = 1.0\n",
    "test_df[\"superstar_v4_y\"] = 1.0\n",
    "test_df[\"superstar_v5_x\"] = 1.0\n",
    "test_df[\"superstar_v5_y\"] = 1.0\n",
    "test_df[\"success_rate_x\"] = 0.0\n",
    "test_df[\"success_rate_y\"] = 0.0\n",
    "test_df[\"hits_in_past_x\"] = 0\n",
    "test_df[\"hits_in_past_y\"] = 0\n",
    "test_df[\"superstar_x\"] = 0\n",
    "test_df[\"superstar_y\"] = 0\n",
    "\n",
    "it = 0\n",
    "for index, row in test_df.iterrows():\n",
    "    artists_in_row = [row[\"artist1_id\"]]\n",
    "    if not pd.isna(row[\"artist2_id\"]):\n",
    "        artists_in_row.append(row[\"artist2_id\"])\n",
    "\n",
    "    if it % 10000 == 0.0:\n",
    "        print(it)\n",
    "    it +=1\n",
    "\n",
    "    present = row[\"date\"].replace(hour=23, minute=59, second=59)\n",
    "    border_day = present - pd.DateOffset(years=past_years)\n",
    "    to_filter = df_song_chart[(df_song_chart[\"week\"] <= border_start_train_day) & (df_song_chart[\"week\"] > border_day)]    \n",
    "\n",
    "    for nr_art, artist in enumerate(artists_in_row):\n",
    "        hits_amount = 0\n",
    "        success_rate = 0.0\n",
    "        song_ids = []\n",
    "        peak_positions = []\n",
    "        days_distances = []\n",
    "\n",
    "        df_num_hit = pd.merge(to_filter, df_songs)\n",
    "        df_num_hit_cpy = df_num_hit.copy()\n",
    "        if not df_num_hit.empty:\n",
    "            df_num_hit = df_num_hit.drop_duplicates(subset=[\"song_id\"])\n",
    "            mask = [artist in artists for artists in df_num_hit['artists_ids']]\n",
    "            df_num_hit = df_num_hit[mask]\n",
    "            #df_num_hit = df_num_hit[df_num_hit[\"artists_ids\"].apply(lambda x: artist in x)]\n",
    "\n",
    "            hits_amount = df_num_hit[\"song_id\"].nunique()\n",
    "            song_ids = df_num_hit[\"song_id\"].tolist()\n",
    "\n",
    "            #insert rest of calc here\n",
    "            if hits_amount > 0:\n",
    "                for song_id in song_ids:\n",
    "                    df_song_peak_days = df_num_hit_cpy[df_num_hit_cpy[\"song_id\"] == song_id]\n",
    "                    min_peak_position = df_song_peak_days[\"peak_position\"].min()\n",
    "                    peak_positions.append(min_peak_position)\n",
    "\n",
    "                    peak_week = df_song_peak_days.loc[df_song_peak_days[\"peak_position\"].idxmin()][\"week\"].replace(hour=23, minute=59, second=59)\n",
    "                    distance = abs(peak_week - present)\n",
    "                    days_distances.append(distance.total_seconds())\n",
    "\n",
    "                    filtered_artists = amount_songs[(amount_songs[\"date\"] <= border_start_train_day) & (amount_songs[\"date\"] > border_day)]\n",
    "                    filtered_artists = filtered_artists[filtered_artists['id_artists'].map(lambda x: artist in x)]\n",
    "                    song_count = len(filtered_artists)\n",
    "                    if song_count == 0:\n",
    "                        print(\"song_id\", row[\"song_id\"])\n",
    "                        print(artist)\n",
    "                    success_rate = hits_amount/(song_count + hits_amount) \n",
    "                    if success_rate > 1 or success_rate < 0:\n",
    "                        print(\"success_rate: \", success_rate)\n",
    "                        print(row[\"song_id\"])\n",
    "                        print(artist)\n",
    "                        \n",
    "\n",
    "                peak_positions = min_max_scaling(peak_positions, 1, 100)\n",
    "                days_distances = min_max_scaling(days_distances, 0.00, max_distance_float)\n",
    "                \n",
    "                # if superstar(hits_amount, peak_positions, days_distances) == 0:\n",
    "                #     print(hits_amount, peak_positions, days_distances, row[\"song_id\"])\n",
    "                    \n",
    "                if nr_art == 0:\n",
    "                    test_df.loc[index, \"superstar_v1_x\"] = superstar(hits_amount, peak_positions, days_distances)\n",
    "                    test_df.loc[index, \"superstar_v2_x\"] = superstar_2(hits_amount, peak_positions, days_distances)\n",
    "                    test_df.loc[index, \"superstar_v3_x\"] = superstar_3(hits_amount, peak_positions, days_distances)\n",
    "                    test_df.loc[index, \"superstar_v4_x\"] = superstar_4(hits_amount, peak_positions, days_distances)\n",
    "                    test_df.loc[index, \"superstar_v5_x\"] = superstar_5(hits_amount, peak_positions, days_distances, success_rate)\n",
    "                    test_df.loc[index, \"success_rate_x\"] = success_rate        \n",
    "                    test_df.loc[index, \"hits_in_past_x\"] = hits_amount\n",
    "                    test_df.loc[index, \"superstar_x\"] = 1\n",
    "                elif nr_art == 1:\n",
    "                    test_df.loc[index, \"superstar_v1_y\"] = superstar(hits_amount, peak_positions, days_distances)\n",
    "                    test_df.loc[index, \"superstar_v2_y\"] = superstar_2(hits_amount, peak_positions, days_distances)\n",
    "                    test_df.loc[index, \"superstar_v3_y\"] = superstar_3(hits_amount, peak_positions, days_distances)\n",
    "                    test_df.loc[index, \"superstar_v4_y\"] = superstar_4(hits_amount, peak_positions, days_distances)\n",
    "                    test_df.loc[index, \"superstar_v5_y\"] = superstar_5(hits_amount, peak_positions, days_distances, success_rate)\n",
    "                    test_df.loc[index, \"success_rate_y\"] = success_rate\n",
    "                    test_df.loc[index, \"hits_in_past_y\"] = hits_amount\n",
    "                    test_df.loc[index, \"superstar_y\"] = 1\n",
    "                #print(str(nr_art) + \":   \" + str(superstar(hits_amount, peak_positions, days_distances)))"
   ],
   "metadata": {
    "collapsed": false,
    "ExecuteTime": {
     "end_time": "2024-05-20T18:38:31.880146300Z",
     "start_time": "2024-05-20T18:21:07.536921800Z"
    }
   },
   "id": "24928d1a2c53b0e6"
  },
  {
   "cell_type": "code",
   "execution_count": 23,
   "outputs": [
    {
     "data": {
      "text/plain": "                       song_id         song_name  song_popularity  explicit  \\\n308454  446Jufq5oOCwOSXbkqq5yD  Bring It On Over             65.0     False   \n\n       song_type  track_number  num_artists  num_available_markets  \\\n308454      Solo           1.0          1.0                   79.0   \n\n       release_date  duration_ms  ...  superstar_v4_x  superstar_v4_y  \\\n308454   2018-09-19     182133.0  ...        0.060606             1.0   \n\n        superstar_v5_x  superstar_v5_y  success_rate_x  success_rate_y  \\\n308454             0.0             1.0             1.0             0.0   \n\n        hits_in_past_x  hits_in_past_y  superstar_x  superstar_y  \n308454               2               0            1            0  \n\n[1 rows x 66 columns]",
      "text/html": "<div>\n<style scoped>\n    .dataframe tbody tr th:only-of-type {\n        vertical-align: middle;\n    }\n\n    .dataframe tbody tr th {\n        vertical-align: top;\n    }\n\n    .dataframe thead th {\n        text-align: right;\n    }\n</style>\n<table border=\"1\" class=\"dataframe\">\n  <thead>\n    <tr style=\"text-align: right;\">\n      <th></th>\n      <th>song_id</th>\n      <th>song_name</th>\n      <th>song_popularity</th>\n      <th>explicit</th>\n      <th>song_type</th>\n      <th>track_number</th>\n      <th>num_artists</th>\n      <th>num_available_markets</th>\n      <th>release_date</th>\n      <th>duration_ms</th>\n      <th>...</th>\n      <th>superstar_v4_x</th>\n      <th>superstar_v4_y</th>\n      <th>superstar_v5_x</th>\n      <th>superstar_v5_y</th>\n      <th>success_rate_x</th>\n      <th>success_rate_y</th>\n      <th>hits_in_past_x</th>\n      <th>hits_in_past_y</th>\n      <th>superstar_x</th>\n      <th>superstar_y</th>\n    </tr>\n  </thead>\n  <tbody>\n    <tr>\n      <th>308454</th>\n      <td>446Jufq5oOCwOSXbkqq5yD</td>\n      <td>Bring It On Over</td>\n      <td>65.0</td>\n      <td>False</td>\n      <td>Solo</td>\n      <td>1.0</td>\n      <td>1.0</td>\n      <td>79.0</td>\n      <td>2018-09-19</td>\n      <td>182133.0</td>\n      <td>...</td>\n      <td>0.060606</td>\n      <td>1.0</td>\n      <td>0.0</td>\n      <td>1.0</td>\n      <td>1.0</td>\n      <td>0.0</td>\n      <td>2</td>\n      <td>0</td>\n      <td>1</td>\n      <td>0</td>\n    </tr>\n  </tbody>\n</table>\n<p>1 rows × 66 columns</p>\n</div>"
     },
     "execution_count": 23,
     "metadata": {},
     "output_type": "execute_result"
    }
   ],
   "source": [
    "test_df[test_df[\"song_id\"] == \"446Jufq5oOCwOSXbkqq5yD\"]"
   ],
   "metadata": {
    "collapsed": false,
    "ExecuteTime": {
     "end_time": "2024-05-20T18:38:31.927214600Z",
     "start_time": "2024-05-20T18:38:31.882147100Z"
    }
   },
   "id": "5e22d9b956580e0b"
  },
  {
   "cell_type": "markdown",
   "source": [
    "look at:\n",
    "\n",
    "0\n",
    "\n",
    "C:\\Users\\lasse\\AppData\\Local\\Temp\\ipykernel_17604\\2414811635.py:70: RuntimeWarning: divide by zero encountered in scalar divide\n",
    "  success_rate = hits_amount/song_count\n",
    "\n",
    "song_id 446Jufq5oOCwOSXbkqq5yD\n",
    "1By9QBFnjZAoI83BZppHlt\n",
    "success_rate:  inf\n",
    "446Jufq5oOCwOSXbkqq5yD\n",
    "1By9QBFnjZAoI83BZppHlt\n",
    "song_id 446Jufq5oOCwOSXbkqq5yD\n",
    "1By9QBFnjZAoI83BZppHlt\n",
    "success_rate:  inf\n",
    "446Jufq5oOCwOSXbkqq5yD\n",
    "1By9QBFnjZAoI83BZppHlt\n"
   ],
   "metadata": {
    "collapsed": false
   },
   "id": "55abab87eb6116ae"
  },
  {
   "cell_type": "code",
   "execution_count": 24,
   "outputs": [
    {
     "name": "stdout",
     "output_type": "stream",
     "text": [
      "Column 'song_popularity': min = 0.0, max = 100.0\n",
      "Column 'track_number': min = 1.0, max = 92.0\n",
      "Column 'num_artists': min = 1.0, max = 2.0\n",
      "Column 'num_available_markets': min = 0.0, max = 79.0\n",
      "Column 'duration_ms': min = 2514.0, max = 2837787.0\n",
      "Column 'key': min = 0.0, max = 11.0\n",
      "Column 'mode': min = 0.0, max = 1.0\n",
      "Column 'time_signature': min = 0.0, max = 5.0\n",
      "Column 'acousticness': min = 0.0, max = 0.996\n",
      "Column 'danceability': min = 0.0, max = 0.992\n",
      "Column 'energy': min = 1.98e-05, max = 1.0\n",
      "Column 'instrumentalness': min = 0.0, max = 1.0\n",
      "Column 'liveness': min = 0.0, max = 1.0\n",
      "Column 'loudness': min = -46.99, max = 0.634\n",
      "Column 'speechiness': min = 0.0, max = 0.966\n",
      "Column 'valence': min = 0.0, max = 1.0\n",
      "Column 'tempo': min = 0.0, max = 248.206\n",
      "Column 'hit': min = 0.0, max = 1.0\n",
      "Column 'nr_artists': min = 1, max = 2\n",
      "Column 'betweenesscentrality_x': min = 0.0, max = 1.0\n",
      "Column 'closnesscentrality_x': min = 0.0, max = 1.0\n",
      "Column 'clustering_x': min = 0.0, max = 1.0\n",
      "Column 'degree_x': min = 0.0, max = 208.0\n",
      "Column 'eccentricity_x': min = 0.0, max = 22.0\n",
      "Column 'eigencentrality_x': min = 1.347023394306936e-13, max = 1.0\n",
      "Column 'weighted degree_x': min = 0.0, max = 3678.0\n",
      "Column 'pagerank_x': min = 1.1675478047404495e-05, max = 0.0059862085381722\n",
      "Column 'Cluster_x': min = 0.0, max = 5.0\n",
      "Column 'betweenesscentrality_y': min = 0.0, max = 1.0\n",
      "Column 'closnesscentrality_y': min = 0.0, max = 1.0\n",
      "Column 'clustering_y': min = 0.0, max = 1.0\n",
      "Column 'degree_y': min = 0.0, max = 208.0\n",
      "Column 'eccentricity_y': min = 0.0, max = 22.0\n",
      "Column 'eigencentrality_y': min = 0.0, max = 0.755820920456814\n",
      "Column 'weighted degree_y': min = 0.0, max = 3678.0\n",
      "Column 'pagerank_y': min = 0.0, max = 0.0059862085381722\n",
      "Column 'Cluster_y': min = -1.0, max = 5.0\n",
      "Column 'years_on_charts': min = 0.0, max = 0.8438356164383561\n",
      "Column 'superstar_v1_x': min = 0.011160660445708875, max = 1.0\n",
      "Column 'superstar_v1_y': min = 0.009498526425918048, max = 1.0\n",
      "Column 'superstar_v2_x': min = 0.031506849315068496, max = 1.0\n",
      "Column 'superstar_v2_y': min = 0.08264840182648402, max = 1.0\n",
      "Column 'superstar_v3_x': min = 0.00961835893816744, max = 1.0\n",
      "Column 'superstar_v3_y': min = 0.0072818209719951645, max = 1.0\n",
      "Column 'superstar_v4_x': min = 0.0, max = 1.0\n",
      "Column 'superstar_v4_y': min = 0.0, max = 1.0\n",
      "Column 'superstar_v5_x': min = 0.0, max = 1.0\n",
      "Column 'superstar_v5_y': min = 0.0, max = 1.0\n",
      "Column 'success_rate_x': min = 0.0, max = 1.0\n",
      "Column 'success_rate_y': min = 0.0, max = 1.0\n",
      "Column 'hits_in_past_x': min = 0, max = 51\n",
      "Column 'hits_in_past_y': min = 0, max = 54\n",
      "Column 'superstar_x': min = 0, max = 1\n",
      "Column 'superstar_y': min = 0, max = 1\n"
     ]
    }
   ],
   "source": [
    "numerical_df = test_df.select_dtypes(include=['number'])\n",
    "\n",
    "# Print min and max for each numerical column\n",
    "for column in numerical_df.columns:\n",
    "    min_value = numerical_df[column].min()\n",
    "    max_value = numerical_df[column].max()\n",
    "    print(f\"Column '{column}': min = {min_value}, max = {max_value}\")"
   ],
   "metadata": {
    "collapsed": false,
    "ExecuteTime": {
     "end_time": "2024-05-20T18:38:32.035213500Z",
     "start_time": "2024-05-20T18:38:31.914212600Z"
    }
   },
   "id": "fce0afad6741c96a"
  },
  {
   "cell_type": "code",
   "execution_count": 25,
   "outputs": [
    {
     "data": {
      "text/plain": "                       song_id  \\\n302958  4Gsqw7pb3z4OPDUeES6Daz   \n302957  6tv2ZtGQcEiszwNpBx7wK2   \n302955  2Yg7VknojyXmbAKnmrSAMU   \n302947  7g9Vsa7alv8WuR9COxDu9k   \n302954  4H1sr1GwbRuVIHZWcfkR8R   \n...                        ...   \n357140  6WrGNqos7nZLxV7QWTgyNO   \n357139  13MADoRclDrvJXcH0l7CFA   \n357164  7goArBQdsalqclSyaTywAS   \n357151  2CZ46u5NGXQFXke3PMCuAK   \n357165  6Fh2QgjCxL96dA3Gtpfr4Q   \n\n                                                song_name  song_popularity  \\\n302958             Don't Speak (8-Bit No Doubt Emulation)              1.0   \n302957            Livin' It Up (8-Bit MONSTA X Emulation)              0.0   \n302955  Bitter Sweet Symphony (8-Bit The Verve Emulation)              2.0   \n302947   Sex and Candy (8-Bit Marcy Playground Emulation)              0.0   \n302954                                         Day Spring              0.0   \n...                                                   ...              ...   \n357140                            I'll Keep You Satisfied              1.0   \n357139                                You Were on My Mind              1.0   \n357164                                   Shimmy Shimmy Ya              7.0   \n357151                   Today I Started Loving You Again              3.0   \n357165  One Sweet Day (16-Bit Mariah Carey & Boyz II M...              0.0   \n\n        explicit      song_type  track_number  num_artists  \\\n302958     False           Solo          24.0          1.0   \n302957     False           Solo          23.0          1.0   \n302955     False           Solo          27.0          1.0   \n302947     False           Solo          21.0          1.0   \n302954     False           Solo           3.0          1.0   \n...          ...            ...           ...          ...   \n357140     False  Collaboration          23.0          2.0   \n357139     False           Solo           8.0          1.0   \n357164     False           Solo           8.0          1.0   \n357151     False           Solo          15.0          1.0   \n357165     False           Solo          27.0          1.0   \n\n        num_available_markets release_date  duration_ms  ...  superstar_v4_x  \\\n302958                   79.0   2018-08-26     266069.0  ...             1.0   \n302957                   79.0   2018-08-26     222211.0  ...             1.0   \n302955                   79.0   2018-08-26     255423.0  ...             1.0   \n302947                   79.0   2018-08-26     167013.0  ...             1.0   \n302954                   79.0   2018-08-26     278400.0  ...             1.0   \n...                       ...          ...          ...  ...             ...   \n357140                   78.0   2019-08-23     126360.0  ...             1.0   \n357139                   79.0   2019-08-23     163533.0  ...             1.0   \n357164                   78.0   2019-08-23     161200.0  ...             1.0   \n357151                   78.0   2019-08-23     172147.0  ...             1.0   \n357165                   79.0   2019-08-26     260910.0  ...             1.0   \n\n        superstar_v4_y  superstar_v5_x  superstar_v5_y  success_rate_x  \\\n302958             1.0             1.0             1.0             0.0   \n302957             1.0             1.0             1.0             0.0   \n302955             1.0             1.0             1.0             0.0   \n302947             1.0             1.0             1.0             0.0   \n302954             1.0             1.0             1.0             0.0   \n...                ...             ...             ...             ...   \n357140             1.0             1.0             1.0             0.0   \n357139             1.0             1.0             1.0             0.0   \n357164             1.0             1.0             1.0             0.0   \n357151             1.0             1.0             1.0             0.0   \n357165             1.0             1.0             1.0             0.0   \n\n        success_rate_y  hits_in_past_x  hits_in_past_y  superstar_x  \\\n302958             0.0               0               0            0   \n302957             0.0               0               0            0   \n302955             0.0               0               0            0   \n302947             0.0               0               0            0   \n302954             0.0               0               0            0   \n...                ...             ...             ...          ...   \n357140             0.0               0               0            0   \n357139             0.0               0               0            0   \n357164             0.0               0               0            0   \n357151             0.0               0               0            0   \n357165             0.0               0               0            0   \n\n        superstar_y  \n302958            0  \n302957            0  \n302955            0  \n302947            0  \n302954            0  \n...             ...  \n357140            0  \n357139            0  \n357164            0  \n357151            0  \n357165            0  \n\n[54250 rows x 66 columns]",
      "text/html": "<div>\n<style scoped>\n    .dataframe tbody tr th:only-of-type {\n        vertical-align: middle;\n    }\n\n    .dataframe tbody tr th {\n        vertical-align: top;\n    }\n\n    .dataframe thead th {\n        text-align: right;\n    }\n</style>\n<table border=\"1\" class=\"dataframe\">\n  <thead>\n    <tr style=\"text-align: right;\">\n      <th></th>\n      <th>song_id</th>\n      <th>song_name</th>\n      <th>song_popularity</th>\n      <th>explicit</th>\n      <th>song_type</th>\n      <th>track_number</th>\n      <th>num_artists</th>\n      <th>num_available_markets</th>\n      <th>release_date</th>\n      <th>duration_ms</th>\n      <th>...</th>\n      <th>superstar_v4_x</th>\n      <th>superstar_v4_y</th>\n      <th>superstar_v5_x</th>\n      <th>superstar_v5_y</th>\n      <th>success_rate_x</th>\n      <th>success_rate_y</th>\n      <th>hits_in_past_x</th>\n      <th>hits_in_past_y</th>\n      <th>superstar_x</th>\n      <th>superstar_y</th>\n    </tr>\n  </thead>\n  <tbody>\n    <tr>\n      <th>302958</th>\n      <td>4Gsqw7pb3z4OPDUeES6Daz</td>\n      <td>Don't Speak (8-Bit No Doubt Emulation)</td>\n      <td>1.0</td>\n      <td>False</td>\n      <td>Solo</td>\n      <td>24.0</td>\n      <td>1.0</td>\n      <td>79.0</td>\n      <td>2018-08-26</td>\n      <td>266069.0</td>\n      <td>...</td>\n      <td>1.0</td>\n      <td>1.0</td>\n      <td>1.0</td>\n      <td>1.0</td>\n      <td>0.0</td>\n      <td>0.0</td>\n      <td>0</td>\n      <td>0</td>\n      <td>0</td>\n      <td>0</td>\n    </tr>\n    <tr>\n      <th>302957</th>\n      <td>6tv2ZtGQcEiszwNpBx7wK2</td>\n      <td>Livin' It Up (8-Bit MONSTA X Emulation)</td>\n      <td>0.0</td>\n      <td>False</td>\n      <td>Solo</td>\n      <td>23.0</td>\n      <td>1.0</td>\n      <td>79.0</td>\n      <td>2018-08-26</td>\n      <td>222211.0</td>\n      <td>...</td>\n      <td>1.0</td>\n      <td>1.0</td>\n      <td>1.0</td>\n      <td>1.0</td>\n      <td>0.0</td>\n      <td>0.0</td>\n      <td>0</td>\n      <td>0</td>\n      <td>0</td>\n      <td>0</td>\n    </tr>\n    <tr>\n      <th>302955</th>\n      <td>2Yg7VknojyXmbAKnmrSAMU</td>\n      <td>Bitter Sweet Symphony (8-Bit The Verve Emulation)</td>\n      <td>2.0</td>\n      <td>False</td>\n      <td>Solo</td>\n      <td>27.0</td>\n      <td>1.0</td>\n      <td>79.0</td>\n      <td>2018-08-26</td>\n      <td>255423.0</td>\n      <td>...</td>\n      <td>1.0</td>\n      <td>1.0</td>\n      <td>1.0</td>\n      <td>1.0</td>\n      <td>0.0</td>\n      <td>0.0</td>\n      <td>0</td>\n      <td>0</td>\n      <td>0</td>\n      <td>0</td>\n    </tr>\n    <tr>\n      <th>302947</th>\n      <td>7g9Vsa7alv8WuR9COxDu9k</td>\n      <td>Sex and Candy (8-Bit Marcy Playground Emulation)</td>\n      <td>0.0</td>\n      <td>False</td>\n      <td>Solo</td>\n      <td>21.0</td>\n      <td>1.0</td>\n      <td>79.0</td>\n      <td>2018-08-26</td>\n      <td>167013.0</td>\n      <td>...</td>\n      <td>1.0</td>\n      <td>1.0</td>\n      <td>1.0</td>\n      <td>1.0</td>\n      <td>0.0</td>\n      <td>0.0</td>\n      <td>0</td>\n      <td>0</td>\n      <td>0</td>\n      <td>0</td>\n    </tr>\n    <tr>\n      <th>302954</th>\n      <td>4H1sr1GwbRuVIHZWcfkR8R</td>\n      <td>Day Spring</td>\n      <td>0.0</td>\n      <td>False</td>\n      <td>Solo</td>\n      <td>3.0</td>\n      <td>1.0</td>\n      <td>79.0</td>\n      <td>2018-08-26</td>\n      <td>278400.0</td>\n      <td>...</td>\n      <td>1.0</td>\n      <td>1.0</td>\n      <td>1.0</td>\n      <td>1.0</td>\n      <td>0.0</td>\n      <td>0.0</td>\n      <td>0</td>\n      <td>0</td>\n      <td>0</td>\n      <td>0</td>\n    </tr>\n    <tr>\n      <th>...</th>\n      <td>...</td>\n      <td>...</td>\n      <td>...</td>\n      <td>...</td>\n      <td>...</td>\n      <td>...</td>\n      <td>...</td>\n      <td>...</td>\n      <td>...</td>\n      <td>...</td>\n      <td>...</td>\n      <td>...</td>\n      <td>...</td>\n      <td>...</td>\n      <td>...</td>\n      <td>...</td>\n      <td>...</td>\n      <td>...</td>\n      <td>...</td>\n      <td>...</td>\n      <td>...</td>\n    </tr>\n    <tr>\n      <th>357140</th>\n      <td>6WrGNqos7nZLxV7QWTgyNO</td>\n      <td>I'll Keep You Satisfied</td>\n      <td>1.0</td>\n      <td>False</td>\n      <td>Collaboration</td>\n      <td>23.0</td>\n      <td>2.0</td>\n      <td>78.0</td>\n      <td>2019-08-23</td>\n      <td>126360.0</td>\n      <td>...</td>\n      <td>1.0</td>\n      <td>1.0</td>\n      <td>1.0</td>\n      <td>1.0</td>\n      <td>0.0</td>\n      <td>0.0</td>\n      <td>0</td>\n      <td>0</td>\n      <td>0</td>\n      <td>0</td>\n    </tr>\n    <tr>\n      <th>357139</th>\n      <td>13MADoRclDrvJXcH0l7CFA</td>\n      <td>You Were on My Mind</td>\n      <td>1.0</td>\n      <td>False</td>\n      <td>Solo</td>\n      <td>8.0</td>\n      <td>1.0</td>\n      <td>79.0</td>\n      <td>2019-08-23</td>\n      <td>163533.0</td>\n      <td>...</td>\n      <td>1.0</td>\n      <td>1.0</td>\n      <td>1.0</td>\n      <td>1.0</td>\n      <td>0.0</td>\n      <td>0.0</td>\n      <td>0</td>\n      <td>0</td>\n      <td>0</td>\n      <td>0</td>\n    </tr>\n    <tr>\n      <th>357164</th>\n      <td>7goArBQdsalqclSyaTywAS</td>\n      <td>Shimmy Shimmy Ya</td>\n      <td>7.0</td>\n      <td>False</td>\n      <td>Solo</td>\n      <td>8.0</td>\n      <td>1.0</td>\n      <td>78.0</td>\n      <td>2019-08-23</td>\n      <td>161200.0</td>\n      <td>...</td>\n      <td>1.0</td>\n      <td>1.0</td>\n      <td>1.0</td>\n      <td>1.0</td>\n      <td>0.0</td>\n      <td>0.0</td>\n      <td>0</td>\n      <td>0</td>\n      <td>0</td>\n      <td>0</td>\n    </tr>\n    <tr>\n      <th>357151</th>\n      <td>2CZ46u5NGXQFXke3PMCuAK</td>\n      <td>Today I Started Loving You Again</td>\n      <td>3.0</td>\n      <td>False</td>\n      <td>Solo</td>\n      <td>15.0</td>\n      <td>1.0</td>\n      <td>78.0</td>\n      <td>2019-08-23</td>\n      <td>172147.0</td>\n      <td>...</td>\n      <td>1.0</td>\n      <td>1.0</td>\n      <td>1.0</td>\n      <td>1.0</td>\n      <td>0.0</td>\n      <td>0.0</td>\n      <td>0</td>\n      <td>0</td>\n      <td>0</td>\n      <td>0</td>\n    </tr>\n    <tr>\n      <th>357165</th>\n      <td>6Fh2QgjCxL96dA3Gtpfr4Q</td>\n      <td>One Sweet Day (16-Bit Mariah Carey &amp; Boyz II M...</td>\n      <td>0.0</td>\n      <td>False</td>\n      <td>Solo</td>\n      <td>27.0</td>\n      <td>1.0</td>\n      <td>79.0</td>\n      <td>2019-08-26</td>\n      <td>260910.0</td>\n      <td>...</td>\n      <td>1.0</td>\n      <td>1.0</td>\n      <td>1.0</td>\n      <td>1.0</td>\n      <td>0.0</td>\n      <td>0.0</td>\n      <td>0</td>\n      <td>0</td>\n      <td>0</td>\n      <td>0</td>\n    </tr>\n  </tbody>\n</table>\n<p>54250 rows × 66 columns</p>\n</div>"
     },
     "execution_count": 25,
     "metadata": {},
     "output_type": "execute_result"
    }
   ],
   "source": [
    "test_df"
   ],
   "metadata": {
    "collapsed": false,
    "ExecuteTime": {
     "end_time": "2024-05-20T18:38:32.063211500Z",
     "start_time": "2024-05-20T18:38:31.966213800Z"
    }
   },
   "id": "2d78248d9a248f00"
  },
  {
   "cell_type": "code",
   "execution_count": 26,
   "outputs": [],
   "source": [
    "test_df.drop(columns=[\"date\"], inplace=True)\n",
    "test_df.to_csv(\"test_df_superstar_v1_0.csv\", index=False)"
   ],
   "metadata": {
    "collapsed": false,
    "ExecuteTime": {
     "end_time": "2024-05-20T18:38:33.444214300Z",
     "start_time": "2024-05-20T18:38:32.022214300Z"
    }
   },
   "id": "7eb8c44b72d92d30"
  },
  {
   "cell_type": "code",
   "execution_count": 27,
   "outputs": [],
   "source": [
    "data = pd.concat([train_df, test_df], axis=0)"
   ],
   "metadata": {
    "collapsed": false,
    "ExecuteTime": {
     "end_time": "2024-05-20T18:38:33.585606100Z",
     "start_time": "2024-05-20T18:38:33.446214900Z"
    }
   },
   "id": "4c68cd197e747d33"
  },
  {
   "cell_type": "code",
   "execution_count": 28,
   "outputs": [],
   "source": [
    "data.to_csv(\"data_superstar_v1_0.csv\", index=False)"
   ],
   "metadata": {
    "collapsed": false,
    "ExecuteTime": {
     "end_time": "2024-05-20T18:38:42.351603300Z",
     "start_time": "2024-05-20T18:38:33.573591100Z"
    }
   },
   "id": "669a62789f340ac5"
  }
 ],
 "metadata": {
  "kernelspec": {
   "display_name": "Python 3",
   "language": "python",
   "name": "python3"
  },
  "language_info": {
   "codemirror_mode": {
    "name": "ipython",
    "version": 2
   },
   "file_extension": ".py",
   "mimetype": "text/x-python",
   "name": "python",
   "nbconvert_exporter": "python",
   "pygments_lexer": "ipython2",
   "version": "2.7.6"
  }
 },
 "nbformat": 4,
 "nbformat_minor": 5
}
