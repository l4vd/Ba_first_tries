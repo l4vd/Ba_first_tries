{
 "cells": [
  {
   "cell_type": "code",
   "execution_count": 1,
   "id": "initial_id",
   "metadata": {
    "collapsed": true,
    "pycharm": {
     "name": "#%%\n"
    },
    "ExecuteTime": {
     "end_time": "2024-07-28T13:11:33.853929200Z",
     "start_time": "2024-07-28T13:11:28.137402100Z"
    }
   },
   "outputs": [
    {
     "data": {
      "text/plain": "                       song_id  \\\n0       7kXUEJmfvRXbzxOC0pHQgb   \n1       7A131DrpfbWAfNJLrxikwf   \n2       4SRjOJm5AjO3fxXpZSTEBb   \n3       592dtCLAyLQdUallLhJinO   \n4       2hMAApqyXl7nf2s8dQ6BTv   \n...                        ...   \n911022  5ke0edZBlwRYu01wdej6xq   \n911023  12kc7hUJKpArFQurhlNeNW   \n911024  0lej8CemYKkWVHg77Xe1ky   \n911025  7goArBQdsalqclSyaTywAS   \n911026  6Fh2QgjCxL96dA3Gtpfr4Q   \n\n                                                song_name  song_popularity  \\\n0                          I Can't Believe I'm Losing You              5.0   \n1                                       Top Of The Stairs             26.0   \n2                                   Never Crossed My Mind             20.0   \n3                                              Daddy Cool              1.0   \n4                                     Shame, Shame, Shame              0.0   \n...                                                   ...              ...   \n911022                                         Let Her In              4.0   \n911023                             Stop and Think It Over              1.0   \n911024           A Man Holdin' on (To a Woman Lettin’ Go)             14.0   \n911025                                   Shimmy Shimmy Ya              7.0   \n911026  One Sweet Day (16-Bit Mariah Carey & Boyz II M...              0.0   \n\n        explicit      song_type  track_number  num_artists  \\\n0          False           Solo          12.0          1.0   \n1          False           Solo           4.0          1.0   \n2          False           Solo           3.0          1.0   \n3          False           Solo           6.0          1.0   \n4          False           Solo          15.0          1.0   \n...          ...            ...           ...          ...   \n911022     False           Solo           7.0          1.0   \n911023     False           Solo           9.0          1.0   \n911024     False  Collaboration           7.0          2.0   \n911025     False           Solo           8.0          1.0   \n911026     False           Solo          27.0          1.0   \n\n        num_available_markets release_date  duration_ms  ...  degree_y  \\\n0                        79.0   1995-01-01     162667.0  ...       0.0   \n1                         2.0   1995-01-01     271307.0  ...       0.0   \n2                         2.0   1995-01-01     242027.0  ...       0.0   \n3                        79.0   1995-01-01     201307.0  ...       0.0   \n4                        79.0   1995-01-01     231973.0  ...       0.0   \n...                       ...          ...          ...  ...       ...   \n911022                   79.0   2019-08-23     183600.0  ...       0.0   \n911023                   79.0   2019-08-23     154413.0  ...       0.0   \n911024                   79.0   2019-08-23     231898.0  ...       1.0   \n911025                   78.0   2019-08-23     161200.0  ...       0.0   \n911026                   79.0   2019-08-26     260910.0  ...       0.0   \n\n        eccentricity_y  eigencentrality_y  weighted degree_y  pagerank_y  \\\n0                  0.0       0.000000e+00                0.0    0.000000   \n1                  0.0       0.000000e+00                0.0    0.000000   \n2                  0.0       0.000000e+00                0.0    0.000000   \n3                  0.0       0.000000e+00                0.0    0.000000   \n4                  0.0       0.000000e+00                0.0    0.000000   \n...                ...                ...                ...         ...   \n911022             0.0       0.000000e+00                0.0    0.000000   \n911023             0.0       0.000000e+00                0.0    0.000000   \n911024             2.0       1.834918e-13                2.0    0.000039   \n911025             0.0       0.000000e+00                0.0    0.000000   \n911026             0.0       0.000000e+00                0.0    0.000000   \n\n        Cluster_y    profile_y  artist1_num  artist2_num  years_on_charts  \n0            -1.0     No Match        156.0          0.0         0.000000  \n1            -1.0     No Match       3151.0          0.0         0.000000  \n2            -1.0     No Match       3151.0          0.0         0.000000  \n3            -1.0     No Match       6316.0          0.0         0.000000  \n4            -1.0     No Match       6316.0          0.0         0.000000  \n...           ...          ...          ...          ...              ...  \n911022       -1.0     No Match      19407.0          0.0         0.383562  \n911023       -1.0     No Match       7540.0          0.0         0.172603  \n911024        0.0  1A 2A 3A 4A      25044.0       8035.0         0.191781  \n911025       -1.0     No Match      25916.0          0.0         0.287671  \n911026       -1.0     No Match       2354.0          0.0         0.517808  \n\n[911027 rows x 50 columns]",
      "text/html": "<div>\n<style scoped>\n    .dataframe tbody tr th:only-of-type {\n        vertical-align: middle;\n    }\n\n    .dataframe tbody tr th {\n        vertical-align: top;\n    }\n\n    .dataframe thead th {\n        text-align: right;\n    }\n</style>\n<table border=\"1\" class=\"dataframe\">\n  <thead>\n    <tr style=\"text-align: right;\">\n      <th></th>\n      <th>song_id</th>\n      <th>song_name</th>\n      <th>song_popularity</th>\n      <th>explicit</th>\n      <th>song_type</th>\n      <th>track_number</th>\n      <th>num_artists</th>\n      <th>num_available_markets</th>\n      <th>release_date</th>\n      <th>duration_ms</th>\n      <th>...</th>\n      <th>degree_y</th>\n      <th>eccentricity_y</th>\n      <th>eigencentrality_y</th>\n      <th>weighted degree_y</th>\n      <th>pagerank_y</th>\n      <th>Cluster_y</th>\n      <th>profile_y</th>\n      <th>artist1_num</th>\n      <th>artist2_num</th>\n      <th>years_on_charts</th>\n    </tr>\n  </thead>\n  <tbody>\n    <tr>\n      <th>0</th>\n      <td>7kXUEJmfvRXbzxOC0pHQgb</td>\n      <td>I Can't Believe I'm Losing You</td>\n      <td>5.0</td>\n      <td>False</td>\n      <td>Solo</td>\n      <td>12.0</td>\n      <td>1.0</td>\n      <td>79.0</td>\n      <td>1995-01-01</td>\n      <td>162667.0</td>\n      <td>...</td>\n      <td>0.0</td>\n      <td>0.0</td>\n      <td>0.000000e+00</td>\n      <td>0.0</td>\n      <td>0.000000</td>\n      <td>-1.0</td>\n      <td>No Match</td>\n      <td>156.0</td>\n      <td>0.0</td>\n      <td>0.000000</td>\n    </tr>\n    <tr>\n      <th>1</th>\n      <td>7A131DrpfbWAfNJLrxikwf</td>\n      <td>Top Of The Stairs</td>\n      <td>26.0</td>\n      <td>False</td>\n      <td>Solo</td>\n      <td>4.0</td>\n      <td>1.0</td>\n      <td>2.0</td>\n      <td>1995-01-01</td>\n      <td>271307.0</td>\n      <td>...</td>\n      <td>0.0</td>\n      <td>0.0</td>\n      <td>0.000000e+00</td>\n      <td>0.0</td>\n      <td>0.000000</td>\n      <td>-1.0</td>\n      <td>No Match</td>\n      <td>3151.0</td>\n      <td>0.0</td>\n      <td>0.000000</td>\n    </tr>\n    <tr>\n      <th>2</th>\n      <td>4SRjOJm5AjO3fxXpZSTEBb</td>\n      <td>Never Crossed My Mind</td>\n      <td>20.0</td>\n      <td>False</td>\n      <td>Solo</td>\n      <td>3.0</td>\n      <td>1.0</td>\n      <td>2.0</td>\n      <td>1995-01-01</td>\n      <td>242027.0</td>\n      <td>...</td>\n      <td>0.0</td>\n      <td>0.0</td>\n      <td>0.000000e+00</td>\n      <td>0.0</td>\n      <td>0.000000</td>\n      <td>-1.0</td>\n      <td>No Match</td>\n      <td>3151.0</td>\n      <td>0.0</td>\n      <td>0.000000</td>\n    </tr>\n    <tr>\n      <th>3</th>\n      <td>592dtCLAyLQdUallLhJinO</td>\n      <td>Daddy Cool</td>\n      <td>1.0</td>\n      <td>False</td>\n      <td>Solo</td>\n      <td>6.0</td>\n      <td>1.0</td>\n      <td>79.0</td>\n      <td>1995-01-01</td>\n      <td>201307.0</td>\n      <td>...</td>\n      <td>0.0</td>\n      <td>0.0</td>\n      <td>0.000000e+00</td>\n      <td>0.0</td>\n      <td>0.000000</td>\n      <td>-1.0</td>\n      <td>No Match</td>\n      <td>6316.0</td>\n      <td>0.0</td>\n      <td>0.000000</td>\n    </tr>\n    <tr>\n      <th>4</th>\n      <td>2hMAApqyXl7nf2s8dQ6BTv</td>\n      <td>Shame, Shame, Shame</td>\n      <td>0.0</td>\n      <td>False</td>\n      <td>Solo</td>\n      <td>15.0</td>\n      <td>1.0</td>\n      <td>79.0</td>\n      <td>1995-01-01</td>\n      <td>231973.0</td>\n      <td>...</td>\n      <td>0.0</td>\n      <td>0.0</td>\n      <td>0.000000e+00</td>\n      <td>0.0</td>\n      <td>0.000000</td>\n      <td>-1.0</td>\n      <td>No Match</td>\n      <td>6316.0</td>\n      <td>0.0</td>\n      <td>0.000000</td>\n    </tr>\n    <tr>\n      <th>...</th>\n      <td>...</td>\n      <td>...</td>\n      <td>...</td>\n      <td>...</td>\n      <td>...</td>\n      <td>...</td>\n      <td>...</td>\n      <td>...</td>\n      <td>...</td>\n      <td>...</td>\n      <td>...</td>\n      <td>...</td>\n      <td>...</td>\n      <td>...</td>\n      <td>...</td>\n      <td>...</td>\n      <td>...</td>\n      <td>...</td>\n      <td>...</td>\n      <td>...</td>\n      <td>...</td>\n    </tr>\n    <tr>\n      <th>911022</th>\n      <td>5ke0edZBlwRYu01wdej6xq</td>\n      <td>Let Her In</td>\n      <td>4.0</td>\n      <td>False</td>\n      <td>Solo</td>\n      <td>7.0</td>\n      <td>1.0</td>\n      <td>79.0</td>\n      <td>2019-08-23</td>\n      <td>183600.0</td>\n      <td>...</td>\n      <td>0.0</td>\n      <td>0.0</td>\n      <td>0.000000e+00</td>\n      <td>0.0</td>\n      <td>0.000000</td>\n      <td>-1.0</td>\n      <td>No Match</td>\n      <td>19407.0</td>\n      <td>0.0</td>\n      <td>0.383562</td>\n    </tr>\n    <tr>\n      <th>911023</th>\n      <td>12kc7hUJKpArFQurhlNeNW</td>\n      <td>Stop and Think It Over</td>\n      <td>1.0</td>\n      <td>False</td>\n      <td>Solo</td>\n      <td>9.0</td>\n      <td>1.0</td>\n      <td>79.0</td>\n      <td>2019-08-23</td>\n      <td>154413.0</td>\n      <td>...</td>\n      <td>0.0</td>\n      <td>0.0</td>\n      <td>0.000000e+00</td>\n      <td>0.0</td>\n      <td>0.000000</td>\n      <td>-1.0</td>\n      <td>No Match</td>\n      <td>7540.0</td>\n      <td>0.0</td>\n      <td>0.172603</td>\n    </tr>\n    <tr>\n      <th>911024</th>\n      <td>0lej8CemYKkWVHg77Xe1ky</td>\n      <td>A Man Holdin' on (To a Woman Lettin’ Go)</td>\n      <td>14.0</td>\n      <td>False</td>\n      <td>Collaboration</td>\n      <td>7.0</td>\n      <td>2.0</td>\n      <td>79.0</td>\n      <td>2019-08-23</td>\n      <td>231898.0</td>\n      <td>...</td>\n      <td>1.0</td>\n      <td>2.0</td>\n      <td>1.834918e-13</td>\n      <td>2.0</td>\n      <td>0.000039</td>\n      <td>0.0</td>\n      <td>1A 2A 3A 4A</td>\n      <td>25044.0</td>\n      <td>8035.0</td>\n      <td>0.191781</td>\n    </tr>\n    <tr>\n      <th>911025</th>\n      <td>7goArBQdsalqclSyaTywAS</td>\n      <td>Shimmy Shimmy Ya</td>\n      <td>7.0</td>\n      <td>False</td>\n      <td>Solo</td>\n      <td>8.0</td>\n      <td>1.0</td>\n      <td>78.0</td>\n      <td>2019-08-23</td>\n      <td>161200.0</td>\n      <td>...</td>\n      <td>0.0</td>\n      <td>0.0</td>\n      <td>0.000000e+00</td>\n      <td>0.0</td>\n      <td>0.000000</td>\n      <td>-1.0</td>\n      <td>No Match</td>\n      <td>25916.0</td>\n      <td>0.0</td>\n      <td>0.287671</td>\n    </tr>\n    <tr>\n      <th>911026</th>\n      <td>6Fh2QgjCxL96dA3Gtpfr4Q</td>\n      <td>One Sweet Day (16-Bit Mariah Carey &amp; Boyz II M...</td>\n      <td>0.0</td>\n      <td>False</td>\n      <td>Solo</td>\n      <td>27.0</td>\n      <td>1.0</td>\n      <td>79.0</td>\n      <td>2019-08-26</td>\n      <td>260910.0</td>\n      <td>...</td>\n      <td>0.0</td>\n      <td>0.0</td>\n      <td>0.000000e+00</td>\n      <td>0.0</td>\n      <td>0.000000</td>\n      <td>-1.0</td>\n      <td>No Match</td>\n      <td>2354.0</td>\n      <td>0.0</td>\n      <td>0.517808</td>\n    </tr>\n  </tbody>\n</table>\n<p>911027 rows × 50 columns</p>\n</div>"
     },
     "execution_count": 1,
     "metadata": {},
     "output_type": "execute_result"
    }
   ],
   "source": [
    "import pandas as pd\n",
    "\n",
    "df_hsp_song_collab = pd.read_csv(\"HSP_song_collab.csv\", sep=\",\")\n",
    "df_hsp_song_collab"
   ]
  },
  {
   "cell_type": "markdown",
   "source": [
    "## Setup for Superstar:\n",
    "\n",
    "within 3 years"
   ],
   "metadata": {
    "collapsed": false,
    "pycharm": {
     "name": "#%% md\n"
    }
   },
   "id": "4430fec788235cae"
  },
  {
   "cell_type": "code",
   "execution_count": 2,
   "outputs": [],
   "source": [
    "max_amount_days = 3*365\n",
    "max_amount_days\n",
    "\n",
    "past_years = 3"
   ],
   "metadata": {
    "collapsed": false,
    "pycharm": {
     "name": "#%%\n"
    },
    "ExecuteTime": {
     "end_time": "2024-07-28T13:11:33.873927500Z",
     "start_time": "2024-07-28T13:11:33.852926Z"
    }
   },
   "id": "ef79cc8b6e995c3e"
  },
  {
   "cell_type": "code",
   "execution_count": 3,
   "outputs": [
    {
     "data": {
      "text/plain": "(Timestamp('2015-08-19 23:59:59'), Timestamp('2012-08-19 23:59:59'))"
     },
     "execution_count": 3,
     "metadata": {},
     "output_type": "execute_result"
    }
   ],
   "source": [
    "from sklearn.model_selection import train_test_split\n",
    "df_hsp_song_collab['date'] = pd.to_datetime(df_hsp_song_collab['release_date'])\n",
    "df_hsp_song_collab.sort_values(by=\"date\", inplace=True)\n",
    "\n",
    "# split_day = df_hsp_song_collab[\"date\"].iloc[-1]  - pd.DateOffset(years=1)\n",
    "# train_df = df_hsp_song_collab[(df_hsp_song_collab[\"date\"]  < split_day)].copy()\n",
    "# test_df = df_hsp_song_collab[(df_hsp_song_collab[\"date\"]  >= split_day)].copy()\n",
    "train_df, test_df = train_test_split(df_hsp_song_collab, test_size=0.25, shuffle=False)\n",
    "#train_df.drop(columns=\"date\", inplace=True)\n",
    "#test_df.drop(columns=\"date\", inplace=True)\n",
    "\n",
    "present = (train_df[\"date\"].iloc[-1]).replace(hour=23, minute=59, second=59)\n",
    "present_id = train_df[\"song_id\"].iloc[-1]\n",
    "border_day = present - pd.DateOffset(years=past_years) #border day doesn't belong to the timeframe\n",
    "\n",
    "present, border_day"
   ],
   "metadata": {
    "collapsed": false,
    "pycharm": {
     "name": "#%%\n"
    },
    "ExecuteTime": {
     "end_time": "2024-07-28T13:11:34.928451500Z",
     "start_time": "2024-07-28T13:11:33.870925900Z"
    }
   },
   "id": "f680972aaae5ee6a"
  },
  {
   "cell_type": "code",
   "execution_count": 4,
   "outputs": [
    {
     "data": {
      "text/plain": "                       song_id  \\\n683434  0KkzGvp8twn623wysKZ4Th   \n683435  6EU7nvOyg2O8ld7UAKii7R   \n683436  32bnbgvJ8FevA9rT2FxGAO   \n683437  7aMr9p35GaCmdWBmqbpfMa   \n683438  5QBpaz5Oy7yMRISo9kvFvs   \n...                        ...   \n911001  6WrGNqos7nZLxV7QWTgyNO   \n911000  13MADoRclDrvJXcH0l7CFA   \n911025  7goArBQdsalqclSyaTywAS   \n911012  2CZ46u5NGXQFXke3PMCuAK   \n911026  6Fh2QgjCxL96dA3Gtpfr4Q   \n\n                                                song_name  song_popularity  \\\n683434                                  Return to Ipanema              0.0   \n683435    どうにもとまらない Originally Performed By 山本リンダ (オルゴール)              0.0   \n683436                                               Wave              1.0   \n683437                                       Silver Samba              0.0   \n683438          千曲川 Originally Performed By 五木ひろし (オルゴール)              0.0   \n...                                                   ...              ...   \n911001                            I'll Keep You Satisfied              1.0   \n911000                                You Were on My Mind              1.0   \n911025                                   Shimmy Shimmy Ya              7.0   \n911012                   Today I Started Loving You Again              3.0   \n911026  One Sweet Day (16-Bit Mariah Carey & Boyz II M...              0.0   \n\n        explicit      song_type  track_number  num_artists  \\\n683434     False           Solo           4.0          1.0   \n683435     False           Solo           4.0          1.0   \n683436     False           Solo           2.0          1.0   \n683437     False           Solo           1.0          1.0   \n683438     False           Solo           3.0          1.0   \n...          ...            ...           ...          ...   \n911001     False  Collaboration          23.0          2.0   \n911000     False           Solo           8.0          1.0   \n911025     False           Solo           8.0          1.0   \n911012     False           Solo          15.0          1.0   \n911026     False           Solo          27.0          1.0   \n\n        num_available_markets release_date  duration_ms  ...  eccentricity_y  \\\n683434                   79.0   2015-08-19     186671.0  ...             0.0   \n683435                   79.0   2015-08-19     153107.0  ...             0.0   \n683436                   79.0   2015-08-19     423520.0  ...             0.0   \n683437                   79.0   2015-08-19     189257.0  ...             0.0   \n683438                   79.0   2015-08-19     160733.0  ...             0.0   \n...                       ...          ...          ...  ...             ...   \n911001                   78.0   2019-08-23     126360.0  ...             1.0   \n911000                   79.0   2019-08-23     163533.0  ...             0.0   \n911025                   78.0   2019-08-23     161200.0  ...             0.0   \n911012                   78.0   2019-08-23     172147.0  ...             0.0   \n911026                   79.0   2019-08-26     260910.0  ...             0.0   \n\n        eigencentrality_y  weighted degree_y  pagerank_y  Cluster_y  \\\n683434       0.000000e+00                0.0    0.000000       -1.0   \n683435       0.000000e+00                0.0    0.000000       -1.0   \n683436       0.000000e+00                0.0    0.000000       -1.0   \n683437       0.000000e+00                0.0    0.000000       -1.0   \n683438       0.000000e+00                0.0    0.000000       -1.0   \n...                   ...                ...         ...        ...   \n911001       1.014122e-14               62.0    0.000055        0.0   \n911000       0.000000e+00                0.0    0.000000       -1.0   \n911025       0.000000e+00                0.0    0.000000       -1.0   \n911012       0.000000e+00                0.0    0.000000       -1.0   \n911026       0.000000e+00                0.0    0.000000       -1.0   \n\n          profile_y  artist1_num  artist2_num  years_on_charts       date  \n683434     No Match       5644.0          0.0         0.000000 2015-08-19  \n683435     No Match      22832.0          0.0         0.000000 2015-08-19  \n683436     No Match      25773.0          0.0         0.000000 2015-08-19  \n683437     No Match       5907.0          0.0         0.000000 2015-08-19  \n683438     No Match      22832.0          0.0         0.000000 2015-08-19  \n...             ...          ...          ...              ...        ...  \n911001  1A 2A 3A 4A      12307.0      10105.0         0.134247 2019-08-23  \n911000     No Match      10673.0          0.0         0.115068 2019-08-23  \n911025     No Match      25916.0          0.0         0.287671 2019-08-23  \n911012     No Match      19061.0          0.0         0.134247 2019-08-23  \n911026     No Match       2354.0          0.0         0.517808 2019-08-26  \n\n[227757 rows x 51 columns]",
      "text/html": "<div>\n<style scoped>\n    .dataframe tbody tr th:only-of-type {\n        vertical-align: middle;\n    }\n\n    .dataframe tbody tr th {\n        vertical-align: top;\n    }\n\n    .dataframe thead th {\n        text-align: right;\n    }\n</style>\n<table border=\"1\" class=\"dataframe\">\n  <thead>\n    <tr style=\"text-align: right;\">\n      <th></th>\n      <th>song_id</th>\n      <th>song_name</th>\n      <th>song_popularity</th>\n      <th>explicit</th>\n      <th>song_type</th>\n      <th>track_number</th>\n      <th>num_artists</th>\n      <th>num_available_markets</th>\n      <th>release_date</th>\n      <th>duration_ms</th>\n      <th>...</th>\n      <th>eccentricity_y</th>\n      <th>eigencentrality_y</th>\n      <th>weighted degree_y</th>\n      <th>pagerank_y</th>\n      <th>Cluster_y</th>\n      <th>profile_y</th>\n      <th>artist1_num</th>\n      <th>artist2_num</th>\n      <th>years_on_charts</th>\n      <th>date</th>\n    </tr>\n  </thead>\n  <tbody>\n    <tr>\n      <th>683434</th>\n      <td>0KkzGvp8twn623wysKZ4Th</td>\n      <td>Return to Ipanema</td>\n      <td>0.0</td>\n      <td>False</td>\n      <td>Solo</td>\n      <td>4.0</td>\n      <td>1.0</td>\n      <td>79.0</td>\n      <td>2015-08-19</td>\n      <td>186671.0</td>\n      <td>...</td>\n      <td>0.0</td>\n      <td>0.000000e+00</td>\n      <td>0.0</td>\n      <td>0.000000</td>\n      <td>-1.0</td>\n      <td>No Match</td>\n      <td>5644.0</td>\n      <td>0.0</td>\n      <td>0.000000</td>\n      <td>2015-08-19</td>\n    </tr>\n    <tr>\n      <th>683435</th>\n      <td>6EU7nvOyg2O8ld7UAKii7R</td>\n      <td>どうにもとまらない Originally Performed By 山本リンダ (オルゴール)</td>\n      <td>0.0</td>\n      <td>False</td>\n      <td>Solo</td>\n      <td>4.0</td>\n      <td>1.0</td>\n      <td>79.0</td>\n      <td>2015-08-19</td>\n      <td>153107.0</td>\n      <td>...</td>\n      <td>0.0</td>\n      <td>0.000000e+00</td>\n      <td>0.0</td>\n      <td>0.000000</td>\n      <td>-1.0</td>\n      <td>No Match</td>\n      <td>22832.0</td>\n      <td>0.0</td>\n      <td>0.000000</td>\n      <td>2015-08-19</td>\n    </tr>\n    <tr>\n      <th>683436</th>\n      <td>32bnbgvJ8FevA9rT2FxGAO</td>\n      <td>Wave</td>\n      <td>1.0</td>\n      <td>False</td>\n      <td>Solo</td>\n      <td>2.0</td>\n      <td>1.0</td>\n      <td>79.0</td>\n      <td>2015-08-19</td>\n      <td>423520.0</td>\n      <td>...</td>\n      <td>0.0</td>\n      <td>0.000000e+00</td>\n      <td>0.0</td>\n      <td>0.000000</td>\n      <td>-1.0</td>\n      <td>No Match</td>\n      <td>25773.0</td>\n      <td>0.0</td>\n      <td>0.000000</td>\n      <td>2015-08-19</td>\n    </tr>\n    <tr>\n      <th>683437</th>\n      <td>7aMr9p35GaCmdWBmqbpfMa</td>\n      <td>Silver Samba</td>\n      <td>0.0</td>\n      <td>False</td>\n      <td>Solo</td>\n      <td>1.0</td>\n      <td>1.0</td>\n      <td>79.0</td>\n      <td>2015-08-19</td>\n      <td>189257.0</td>\n      <td>...</td>\n      <td>0.0</td>\n      <td>0.000000e+00</td>\n      <td>0.0</td>\n      <td>0.000000</td>\n      <td>-1.0</td>\n      <td>No Match</td>\n      <td>5907.0</td>\n      <td>0.0</td>\n      <td>0.000000</td>\n      <td>2015-08-19</td>\n    </tr>\n    <tr>\n      <th>683438</th>\n      <td>5QBpaz5Oy7yMRISo9kvFvs</td>\n      <td>千曲川 Originally Performed By 五木ひろし (オルゴール)</td>\n      <td>0.0</td>\n      <td>False</td>\n      <td>Solo</td>\n      <td>3.0</td>\n      <td>1.0</td>\n      <td>79.0</td>\n      <td>2015-08-19</td>\n      <td>160733.0</td>\n      <td>...</td>\n      <td>0.0</td>\n      <td>0.000000e+00</td>\n      <td>0.0</td>\n      <td>0.000000</td>\n      <td>-1.0</td>\n      <td>No Match</td>\n      <td>22832.0</td>\n      <td>0.0</td>\n      <td>0.000000</td>\n      <td>2015-08-19</td>\n    </tr>\n    <tr>\n      <th>...</th>\n      <td>...</td>\n      <td>...</td>\n      <td>...</td>\n      <td>...</td>\n      <td>...</td>\n      <td>...</td>\n      <td>...</td>\n      <td>...</td>\n      <td>...</td>\n      <td>...</td>\n      <td>...</td>\n      <td>...</td>\n      <td>...</td>\n      <td>...</td>\n      <td>...</td>\n      <td>...</td>\n      <td>...</td>\n      <td>...</td>\n      <td>...</td>\n      <td>...</td>\n      <td>...</td>\n    </tr>\n    <tr>\n      <th>911001</th>\n      <td>6WrGNqos7nZLxV7QWTgyNO</td>\n      <td>I'll Keep You Satisfied</td>\n      <td>1.0</td>\n      <td>False</td>\n      <td>Collaboration</td>\n      <td>23.0</td>\n      <td>2.0</td>\n      <td>78.0</td>\n      <td>2019-08-23</td>\n      <td>126360.0</td>\n      <td>...</td>\n      <td>1.0</td>\n      <td>1.014122e-14</td>\n      <td>62.0</td>\n      <td>0.000055</td>\n      <td>0.0</td>\n      <td>1A 2A 3A 4A</td>\n      <td>12307.0</td>\n      <td>10105.0</td>\n      <td>0.134247</td>\n      <td>2019-08-23</td>\n    </tr>\n    <tr>\n      <th>911000</th>\n      <td>13MADoRclDrvJXcH0l7CFA</td>\n      <td>You Were on My Mind</td>\n      <td>1.0</td>\n      <td>False</td>\n      <td>Solo</td>\n      <td>8.0</td>\n      <td>1.0</td>\n      <td>79.0</td>\n      <td>2019-08-23</td>\n      <td>163533.0</td>\n      <td>...</td>\n      <td>0.0</td>\n      <td>0.000000e+00</td>\n      <td>0.0</td>\n      <td>0.000000</td>\n      <td>-1.0</td>\n      <td>No Match</td>\n      <td>10673.0</td>\n      <td>0.0</td>\n      <td>0.115068</td>\n      <td>2019-08-23</td>\n    </tr>\n    <tr>\n      <th>911025</th>\n      <td>7goArBQdsalqclSyaTywAS</td>\n      <td>Shimmy Shimmy Ya</td>\n      <td>7.0</td>\n      <td>False</td>\n      <td>Solo</td>\n      <td>8.0</td>\n      <td>1.0</td>\n      <td>78.0</td>\n      <td>2019-08-23</td>\n      <td>161200.0</td>\n      <td>...</td>\n      <td>0.0</td>\n      <td>0.000000e+00</td>\n      <td>0.0</td>\n      <td>0.000000</td>\n      <td>-1.0</td>\n      <td>No Match</td>\n      <td>25916.0</td>\n      <td>0.0</td>\n      <td>0.287671</td>\n      <td>2019-08-23</td>\n    </tr>\n    <tr>\n      <th>911012</th>\n      <td>2CZ46u5NGXQFXke3PMCuAK</td>\n      <td>Today I Started Loving You Again</td>\n      <td>3.0</td>\n      <td>False</td>\n      <td>Solo</td>\n      <td>15.0</td>\n      <td>1.0</td>\n      <td>78.0</td>\n      <td>2019-08-23</td>\n      <td>172147.0</td>\n      <td>...</td>\n      <td>0.0</td>\n      <td>0.000000e+00</td>\n      <td>0.0</td>\n      <td>0.000000</td>\n      <td>-1.0</td>\n      <td>No Match</td>\n      <td>19061.0</td>\n      <td>0.0</td>\n      <td>0.134247</td>\n      <td>2019-08-23</td>\n    </tr>\n    <tr>\n      <th>911026</th>\n      <td>6Fh2QgjCxL96dA3Gtpfr4Q</td>\n      <td>One Sweet Day (16-Bit Mariah Carey &amp; Boyz II M...</td>\n      <td>0.0</td>\n      <td>False</td>\n      <td>Solo</td>\n      <td>27.0</td>\n      <td>1.0</td>\n      <td>79.0</td>\n      <td>2019-08-26</td>\n      <td>260910.0</td>\n      <td>...</td>\n      <td>0.0</td>\n      <td>0.000000e+00</td>\n      <td>0.0</td>\n      <td>0.000000</td>\n      <td>-1.0</td>\n      <td>No Match</td>\n      <td>2354.0</td>\n      <td>0.0</td>\n      <td>0.517808</td>\n      <td>2019-08-26</td>\n    </tr>\n  </tbody>\n</table>\n<p>227757 rows × 51 columns</p>\n</div>"
     },
     "execution_count": 4,
     "metadata": {},
     "output_type": "execute_result"
    }
   ],
   "source": [
    "test_df"
   ],
   "metadata": {
    "collapsed": false,
    "pycharm": {
     "name": "#%%\n"
    },
    "ExecuteTime": {
     "end_time": "2024-07-28T13:11:35.050479500Z",
     "start_time": "2024-07-28T13:11:34.932450500Z"
    }
   },
   "id": "c5e9745b7e9b7a05"
  },
  {
   "cell_type": "code",
   "execution_count": 5,
   "outputs": [
    {
     "data": {
      "text/plain": "                       song_id  \\\n0       7kXUEJmfvRXbzxOC0pHQgb   \n3659    5pedBzuqzuqb8NPXqXFm1T   \n3658    7E89BPSPTtBaR9mKK88WhD   \n3657    1xdRFXv3ytSOdj8GuT3Rge   \n3656    5wlQIBbKIWoB7AnSw09C6C   \n...                        ...   \n683396  6xUjsB26W7wzU4MSlZ9v2W   \n683430  5AZQNFCdxA3W1nssrtu4Yr   \n683431  0gvKPCmhJzXa4YgptrNvI4   \n683432  5FDxZkCXwOOO0CQP3zQUBL   \n683433  3m3CVlgUzXQaFkXdMPV3nI   \n\n                                                song_name  song_popularity  \\\n0                          I Can't Believe I'm Losing You              5.0   \n3659    Song To The Siren - Live From Sabresonic Night...             35.0   \n3658                      Three Little Birdies Down Beats             30.0   \n3657                           Thank You Lord (Interlude)             20.0   \n3656                                        All This Love             26.0   \n...                                                   ...              ...   \n683396                                Afterglow (174 BPM)              0.0   \n683430         能登半島 Originally Performed By 石川さゆり (オルゴール)              0.0   \n683431                                        Up the Hill              0.0   \n683432    浪花恋しぐれ Originally Performed By 都はるみ・岡千秋 (オルゴール)              0.0   \n683433        バス・ストップ Originally Performed By 平浩二 (オルゴール)              1.0   \n\n        explicit song_type  track_number  num_artists  num_available_markets  \\\n0          False      Solo          12.0          1.0                   79.0   \n3659       False      Solo           3.0          1.0                   79.0   \n3658       False      Solo           4.0          1.0                   79.0   \n3657       False      Solo          10.0          1.0                   77.0   \n3656       False      Solo           9.0          1.0                   77.0   \n...          ...       ...           ...          ...                    ...   \n683396     False      Solo          16.0          1.0                   79.0   \n683430     False      Solo           7.0          1.0                   79.0   \n683431     False      Solo          30.0          1.0                   79.0   \n683432     False      Solo           6.0          1.0                   79.0   \n683433     False      Solo           5.0          1.0                   79.0   \n\n       release_date  duration_ms  ...  eccentricity_y  eigencentrality_y  \\\n0        1995-01-01     162667.0  ...             0.0                0.0   \n3659     1995-01-01     196827.0  ...             0.0                0.0   \n3658     1995-01-01     338733.0  ...             0.0                0.0   \n3657     1995-01-01      56067.0  ...             0.0                0.0   \n3656     1995-01-01     361840.0  ...             0.0                0.0   \n...             ...          ...  ...             ...                ...   \n683396   2015-08-19     169918.0  ...             0.0                0.0   \n683430   2015-08-19     201027.0  ...             0.0                0.0   \n683431   2015-08-19     142681.0  ...             0.0                0.0   \n683432   2015-08-19     184373.0  ...             0.0                0.0   \n683433   2015-08-19     227507.0  ...             0.0                0.0   \n\n        weighted degree_y  pagerank_y  Cluster_y  profile_y  artist1_num  \\\n0                     0.0         0.0       -1.0   No Match        156.0   \n3659                  0.0         0.0       -1.0   No Match       3649.0   \n3658                  0.0         0.0       -1.0   No Match       3649.0   \n3657                  0.0         0.0       -1.0   No Match       1678.0   \n3656                  0.0         0.0       -1.0   No Match       1678.0   \n...                   ...         ...        ...        ...          ...   \n683396                0.0         0.0       -1.0   No Match      16692.0   \n683430                0.0         0.0       -1.0   No Match      22832.0   \n683431                0.0         0.0       -1.0   No Match       4166.0   \n683432                0.0         0.0       -1.0   No Match      22832.0   \n683433                0.0         0.0       -1.0   No Match      22832.0   \n\n        artist2_num  years_on_charts       date  \n0               0.0              0.0 1995-01-01  \n3659            0.0              0.0 1995-01-01  \n3658            0.0              0.0 1995-01-01  \n3657            0.0              0.0 1995-01-01  \n3656            0.0              0.0 1995-01-01  \n...             ...              ...        ...  \n683396          0.0              0.0 2015-08-19  \n683430          0.0              0.0 2015-08-19  \n683431          0.0              0.0 2015-08-19  \n683432          0.0              0.0 2015-08-19  \n683433          0.0              0.0 2015-08-19  \n\n[683270 rows x 51 columns]",
      "text/html": "<div>\n<style scoped>\n    .dataframe tbody tr th:only-of-type {\n        vertical-align: middle;\n    }\n\n    .dataframe tbody tr th {\n        vertical-align: top;\n    }\n\n    .dataframe thead th {\n        text-align: right;\n    }\n</style>\n<table border=\"1\" class=\"dataframe\">\n  <thead>\n    <tr style=\"text-align: right;\">\n      <th></th>\n      <th>song_id</th>\n      <th>song_name</th>\n      <th>song_popularity</th>\n      <th>explicit</th>\n      <th>song_type</th>\n      <th>track_number</th>\n      <th>num_artists</th>\n      <th>num_available_markets</th>\n      <th>release_date</th>\n      <th>duration_ms</th>\n      <th>...</th>\n      <th>eccentricity_y</th>\n      <th>eigencentrality_y</th>\n      <th>weighted degree_y</th>\n      <th>pagerank_y</th>\n      <th>Cluster_y</th>\n      <th>profile_y</th>\n      <th>artist1_num</th>\n      <th>artist2_num</th>\n      <th>years_on_charts</th>\n      <th>date</th>\n    </tr>\n  </thead>\n  <tbody>\n    <tr>\n      <th>0</th>\n      <td>7kXUEJmfvRXbzxOC0pHQgb</td>\n      <td>I Can't Believe I'm Losing You</td>\n      <td>5.0</td>\n      <td>False</td>\n      <td>Solo</td>\n      <td>12.0</td>\n      <td>1.0</td>\n      <td>79.0</td>\n      <td>1995-01-01</td>\n      <td>162667.0</td>\n      <td>...</td>\n      <td>0.0</td>\n      <td>0.0</td>\n      <td>0.0</td>\n      <td>0.0</td>\n      <td>-1.0</td>\n      <td>No Match</td>\n      <td>156.0</td>\n      <td>0.0</td>\n      <td>0.0</td>\n      <td>1995-01-01</td>\n    </tr>\n    <tr>\n      <th>3659</th>\n      <td>5pedBzuqzuqb8NPXqXFm1T</td>\n      <td>Song To The Siren - Live From Sabresonic Night...</td>\n      <td>35.0</td>\n      <td>False</td>\n      <td>Solo</td>\n      <td>3.0</td>\n      <td>1.0</td>\n      <td>79.0</td>\n      <td>1995-01-01</td>\n      <td>196827.0</td>\n      <td>...</td>\n      <td>0.0</td>\n      <td>0.0</td>\n      <td>0.0</td>\n      <td>0.0</td>\n      <td>-1.0</td>\n      <td>No Match</td>\n      <td>3649.0</td>\n      <td>0.0</td>\n      <td>0.0</td>\n      <td>1995-01-01</td>\n    </tr>\n    <tr>\n      <th>3658</th>\n      <td>7E89BPSPTtBaR9mKK88WhD</td>\n      <td>Three Little Birdies Down Beats</td>\n      <td>30.0</td>\n      <td>False</td>\n      <td>Solo</td>\n      <td>4.0</td>\n      <td>1.0</td>\n      <td>79.0</td>\n      <td>1995-01-01</td>\n      <td>338733.0</td>\n      <td>...</td>\n      <td>0.0</td>\n      <td>0.0</td>\n      <td>0.0</td>\n      <td>0.0</td>\n      <td>-1.0</td>\n      <td>No Match</td>\n      <td>3649.0</td>\n      <td>0.0</td>\n      <td>0.0</td>\n      <td>1995-01-01</td>\n    </tr>\n    <tr>\n      <th>3657</th>\n      <td>1xdRFXv3ytSOdj8GuT3Rge</td>\n      <td>Thank You Lord (Interlude)</td>\n      <td>20.0</td>\n      <td>False</td>\n      <td>Solo</td>\n      <td>10.0</td>\n      <td>1.0</td>\n      <td>77.0</td>\n      <td>1995-01-01</td>\n      <td>56067.0</td>\n      <td>...</td>\n      <td>0.0</td>\n      <td>0.0</td>\n      <td>0.0</td>\n      <td>0.0</td>\n      <td>-1.0</td>\n      <td>No Match</td>\n      <td>1678.0</td>\n      <td>0.0</td>\n      <td>0.0</td>\n      <td>1995-01-01</td>\n    </tr>\n    <tr>\n      <th>3656</th>\n      <td>5wlQIBbKIWoB7AnSw09C6C</td>\n      <td>All This Love</td>\n      <td>26.0</td>\n      <td>False</td>\n      <td>Solo</td>\n      <td>9.0</td>\n      <td>1.0</td>\n      <td>77.0</td>\n      <td>1995-01-01</td>\n      <td>361840.0</td>\n      <td>...</td>\n      <td>0.0</td>\n      <td>0.0</td>\n      <td>0.0</td>\n      <td>0.0</td>\n      <td>-1.0</td>\n      <td>No Match</td>\n      <td>1678.0</td>\n      <td>0.0</td>\n      <td>0.0</td>\n      <td>1995-01-01</td>\n    </tr>\n    <tr>\n      <th>...</th>\n      <td>...</td>\n      <td>...</td>\n      <td>...</td>\n      <td>...</td>\n      <td>...</td>\n      <td>...</td>\n      <td>...</td>\n      <td>...</td>\n      <td>...</td>\n      <td>...</td>\n      <td>...</td>\n      <td>...</td>\n      <td>...</td>\n      <td>...</td>\n      <td>...</td>\n      <td>...</td>\n      <td>...</td>\n      <td>...</td>\n      <td>...</td>\n      <td>...</td>\n      <td>...</td>\n    </tr>\n    <tr>\n      <th>683396</th>\n      <td>6xUjsB26W7wzU4MSlZ9v2W</td>\n      <td>Afterglow (174 BPM)</td>\n      <td>0.0</td>\n      <td>False</td>\n      <td>Solo</td>\n      <td>16.0</td>\n      <td>1.0</td>\n      <td>79.0</td>\n      <td>2015-08-19</td>\n      <td>169918.0</td>\n      <td>...</td>\n      <td>0.0</td>\n      <td>0.0</td>\n      <td>0.0</td>\n      <td>0.0</td>\n      <td>-1.0</td>\n      <td>No Match</td>\n      <td>16692.0</td>\n      <td>0.0</td>\n      <td>0.0</td>\n      <td>2015-08-19</td>\n    </tr>\n    <tr>\n      <th>683430</th>\n      <td>5AZQNFCdxA3W1nssrtu4Yr</td>\n      <td>能登半島 Originally Performed By 石川さゆり (オルゴール)</td>\n      <td>0.0</td>\n      <td>False</td>\n      <td>Solo</td>\n      <td>7.0</td>\n      <td>1.0</td>\n      <td>79.0</td>\n      <td>2015-08-19</td>\n      <td>201027.0</td>\n      <td>...</td>\n      <td>0.0</td>\n      <td>0.0</td>\n      <td>0.0</td>\n      <td>0.0</td>\n      <td>-1.0</td>\n      <td>No Match</td>\n      <td>22832.0</td>\n      <td>0.0</td>\n      <td>0.0</td>\n      <td>2015-08-19</td>\n    </tr>\n    <tr>\n      <th>683431</th>\n      <td>0gvKPCmhJzXa4YgptrNvI4</td>\n      <td>Up the Hill</td>\n      <td>0.0</td>\n      <td>False</td>\n      <td>Solo</td>\n      <td>30.0</td>\n      <td>1.0</td>\n      <td>79.0</td>\n      <td>2015-08-19</td>\n      <td>142681.0</td>\n      <td>...</td>\n      <td>0.0</td>\n      <td>0.0</td>\n      <td>0.0</td>\n      <td>0.0</td>\n      <td>-1.0</td>\n      <td>No Match</td>\n      <td>4166.0</td>\n      <td>0.0</td>\n      <td>0.0</td>\n      <td>2015-08-19</td>\n    </tr>\n    <tr>\n      <th>683432</th>\n      <td>5FDxZkCXwOOO0CQP3zQUBL</td>\n      <td>浪花恋しぐれ Originally Performed By 都はるみ・岡千秋 (オルゴール)</td>\n      <td>0.0</td>\n      <td>False</td>\n      <td>Solo</td>\n      <td>6.0</td>\n      <td>1.0</td>\n      <td>79.0</td>\n      <td>2015-08-19</td>\n      <td>184373.0</td>\n      <td>...</td>\n      <td>0.0</td>\n      <td>0.0</td>\n      <td>0.0</td>\n      <td>0.0</td>\n      <td>-1.0</td>\n      <td>No Match</td>\n      <td>22832.0</td>\n      <td>0.0</td>\n      <td>0.0</td>\n      <td>2015-08-19</td>\n    </tr>\n    <tr>\n      <th>683433</th>\n      <td>3m3CVlgUzXQaFkXdMPV3nI</td>\n      <td>バス・ストップ Originally Performed By 平浩二 (オルゴール)</td>\n      <td>1.0</td>\n      <td>False</td>\n      <td>Solo</td>\n      <td>5.0</td>\n      <td>1.0</td>\n      <td>79.0</td>\n      <td>2015-08-19</td>\n      <td>227507.0</td>\n      <td>...</td>\n      <td>0.0</td>\n      <td>0.0</td>\n      <td>0.0</td>\n      <td>0.0</td>\n      <td>-1.0</td>\n      <td>No Match</td>\n      <td>22832.0</td>\n      <td>0.0</td>\n      <td>0.0</td>\n      <td>2015-08-19</td>\n    </tr>\n  </tbody>\n</table>\n<p>683270 rows × 51 columns</p>\n</div>"
     },
     "execution_count": 5,
     "metadata": {},
     "output_type": "execute_result"
    }
   ],
   "source": [
    "train_df"
   ],
   "metadata": {
    "collapsed": false,
    "pycharm": {
     "name": "#%%\n"
    },
    "ExecuteTime": {
     "end_time": "2024-07-28T13:11:35.421480400Z",
     "start_time": "2024-07-28T13:11:35.110481100Z"
    }
   },
   "id": "8e6541243bf56a7"
  },
  {
   "cell_type": "code",
   "execution_count": 6,
   "outputs": [
    {
     "name": "stderr",
     "output_type": "stream",
     "text": [
      "C:\\Users\\lasse\\AppData\\Local\\Temp\\ipykernel_28712\\3163552469.py:5: DtypeWarning: Columns (11,12,13,14,15,16,17,18,19,20,21,22,23) have mixed types. Specify dtype option on import or set low_memory=False.\n",
      "  df_nonhits = pd.read_csv(\"../../MusicOSet/additional/nonhits_dataset.csv\", delimiter=\"\\t\")\n"
     ]
    }
   ],
   "source": [
    "import pandas as pd\n",
    "\n",
    "#df_hits = pd.read_csv(\"../../MusicOSet/additional/hits_dataset.csv\", delimiter=\"\\t\")\n",
    "#df_hits[\"hit\"] = 1\n",
    "df_nonhits = pd.read_csv(\"../../MusicOSet/additional/nonhits_dataset.csv\", delimiter=\"\\t\")\n",
    "df_nonhits[\"hit\"] = 0\n",
    "#combined_df = pd.concat([df_hits, df_nonhits], axis=0)\n",
    "#combined_df"
   ],
   "metadata": {
    "collapsed": false,
    "pycharm": {
     "name": "#%%\n"
    },
    "ExecuteTime": {
     "end_time": "2024-07-28T13:11:39.157481700Z",
     "start_time": "2024-07-28T13:11:35.414482400Z"
    }
   },
   "id": "ade3bcb56224cb7"
  },
  {
   "cell_type": "code",
   "execution_count": 7,
   "outputs": [
    {
     "name": "stderr",
     "output_type": "stream",
     "text": [
      "C:\\Users\\lasse\\AppData\\Local\\Temp\\ipykernel_28712\\1319364193.py:1: UserWarning: The argument 'infer_datetime_format' is deprecated and will be removed in a future version. A strict version of it is now the default, see https://pandas.pydata.org/pdeps/0004-consistent-to-datetime-parsing.html. You can safely remove this argument.\n",
      "  df_nonhits['date'] = pd.to_datetime(df_nonhits['release_date'], infer_datetime_format=True)\n"
     ]
    },
    {
     "data": {
      "text/plain": "                       song_id                       song_name  \\\n871202  74IDHJBR8ObnCMO2009n15                Universe of Love   \n137578  3LmikE0UEWcjCX3lNkHKan                  Christmas Rock   \n137579  6qtlXLENtMcInGnuhb5tpZ       Blame It On The Mistletoe   \n137580  3nhDtBrT5twOEGBSdiNex3  Santa's Gonna Take It All Back   \n137581  5Nl6CJiV5FNyMDgatdxbCr      The Night Before Christmas   \n...                        ...                             ...   \n703718  0V3gDCFRWdVCA29ZQvgxfZ                     Por Siempre   \n703719  6GyDnbiL8Ibpgdveu4cgyV               Te Puedo Castigar   \n703720  04shPRn1IpLNbBSGYaIhVq       Pétalos De Fuego - Balada   \n703713  68nsqfJQ00hTnuaw0plrmO        Pétalos De Fuego - Salsa   \n703721  7wIslb87ay7ShEz53OKok6                         Honesty   \n\n                        id_artists         name_artists  popularity  explicit  \\\n871202  ['2OLmN3LLWtLF7zerL4VdaX']        ['Laid Back']           2     False   \n137578  ['2bA6fzP0lMAQ4kz6CF61w8']       ['Toby Keith']           5     False   \n137579  ['2bA6fzP0lMAQ4kz6CF61w8']       ['Toby Keith']           5     False   \n137580  ['2bA6fzP0lMAQ4kz6CF61w8']       ['Toby Keith']           3     False   \n137581  ['2bA6fzP0lMAQ4kz6CF61w8']       ['Toby Keith']           3     False   \n...                            ...                  ...         ...       ...   \n703718  ['5Ne8hQEmy0eZu9hlE3j58B']  ['Brenda K. Starr']           4     False   \n703719  ['5Ne8hQEmy0eZu9hlE3j58B']  ['Brenda K. Starr']           4     False   \n703720  ['5Ne8hQEmy0eZu9hlE3j58B']  ['Brenda K. Starr']           2     False   \n703713  ['5Ne8hQEmy0eZu9hlE3j58B']  ['Brenda K. Starr']           5     False   \n703721  ['5Ne8hQEmy0eZu9hlE3j58B']  ['Brenda K. Starr']           7     False   \n\n       song_type  track_number  num_artists  num_available_markets  ...  \\\n871202      Solo             7            1                     79  ...   \n137578      Solo             3            1                     78  ...   \n137579      Solo             4            1                     78  ...   \n137580      Solo             5            1                     78  ...   \n137581      Solo             6            1                     78  ...   \n...          ...           ...          ...                    ...  ...   \n703718      Solo             6            1                     79  ...   \n703719      Solo             7            1                     79  ...   \n703720      Solo             8            1                     79  ...   \n703713      Solo             1            1                     79  ...   \n703721      Solo             9            1                     79  ...   \n\n       danceability energy instrumentalness liveness loudness speechiness  \\\n871202        0.784  0.739            0.253    0.111   -8.677       0.035   \n137578        0.712  0.825                0    0.432   -6.879      0.0464   \n137579        0.645  0.339         1.21e-06    0.089   -9.555      0.0377   \n137580        0.682  0.944         1.03e-05    0.359   -6.629      0.0537   \n137581        0.745  0.569                0    0.431   -8.521      0.0277   \n...             ...    ...              ...      ...      ...         ...   \n703718        0.774  0.773         0.000002   0.0564   -3.627      0.0386   \n703719        0.766  0.819         0.000111    0.108    -3.53      0.0365   \n703720        0.633  0.652              0.0    0.164   -3.812        0.03   \n703713        0.589  0.837              0.0   0.0903   -2.735      0.0432   \n703721          0.7  0.766              0.0   0.0669   -3.943      0.0496   \n\n       valence    tempo hit       date  \n871202   0.715   96.125   0 1995-01-01  \n137578   0.795  134.974   0 1995-01-01  \n137579   0.193  132.756   0 1995-01-01  \n137580   0.844  144.363   0 1995-01-01  \n137581   0.816  111.591   0 1995-01-01  \n...        ...      ...  ..        ...  \n703718   0.578   97.463   0 2019-08-16  \n703719     0.6   91.998   0 2019-08-16  \n703720  0.0954  135.227   0 2019-08-16  \n703713   0.529  173.661   0 2019-08-16  \n703721   0.498  169.518   0 2019-08-16  \n\n[899068 rows x 26 columns]",
      "text/html": "<div>\n<style scoped>\n    .dataframe tbody tr th:only-of-type {\n        vertical-align: middle;\n    }\n\n    .dataframe tbody tr th {\n        vertical-align: top;\n    }\n\n    .dataframe thead th {\n        text-align: right;\n    }\n</style>\n<table border=\"1\" class=\"dataframe\">\n  <thead>\n    <tr style=\"text-align: right;\">\n      <th></th>\n      <th>song_id</th>\n      <th>song_name</th>\n      <th>id_artists</th>\n      <th>name_artists</th>\n      <th>popularity</th>\n      <th>explicit</th>\n      <th>song_type</th>\n      <th>track_number</th>\n      <th>num_artists</th>\n      <th>num_available_markets</th>\n      <th>...</th>\n      <th>danceability</th>\n      <th>energy</th>\n      <th>instrumentalness</th>\n      <th>liveness</th>\n      <th>loudness</th>\n      <th>speechiness</th>\n      <th>valence</th>\n      <th>tempo</th>\n      <th>hit</th>\n      <th>date</th>\n    </tr>\n  </thead>\n  <tbody>\n    <tr>\n      <th>871202</th>\n      <td>74IDHJBR8ObnCMO2009n15</td>\n      <td>Universe of Love</td>\n      <td>['2OLmN3LLWtLF7zerL4VdaX']</td>\n      <td>['Laid Back']</td>\n      <td>2</td>\n      <td>False</td>\n      <td>Solo</td>\n      <td>7</td>\n      <td>1</td>\n      <td>79</td>\n      <td>...</td>\n      <td>0.784</td>\n      <td>0.739</td>\n      <td>0.253</td>\n      <td>0.111</td>\n      <td>-8.677</td>\n      <td>0.035</td>\n      <td>0.715</td>\n      <td>96.125</td>\n      <td>0</td>\n      <td>1995-01-01</td>\n    </tr>\n    <tr>\n      <th>137578</th>\n      <td>3LmikE0UEWcjCX3lNkHKan</td>\n      <td>Christmas Rock</td>\n      <td>['2bA6fzP0lMAQ4kz6CF61w8']</td>\n      <td>['Toby Keith']</td>\n      <td>5</td>\n      <td>False</td>\n      <td>Solo</td>\n      <td>3</td>\n      <td>1</td>\n      <td>78</td>\n      <td>...</td>\n      <td>0.712</td>\n      <td>0.825</td>\n      <td>0</td>\n      <td>0.432</td>\n      <td>-6.879</td>\n      <td>0.0464</td>\n      <td>0.795</td>\n      <td>134.974</td>\n      <td>0</td>\n      <td>1995-01-01</td>\n    </tr>\n    <tr>\n      <th>137579</th>\n      <td>6qtlXLENtMcInGnuhb5tpZ</td>\n      <td>Blame It On The Mistletoe</td>\n      <td>['2bA6fzP0lMAQ4kz6CF61w8']</td>\n      <td>['Toby Keith']</td>\n      <td>5</td>\n      <td>False</td>\n      <td>Solo</td>\n      <td>4</td>\n      <td>1</td>\n      <td>78</td>\n      <td>...</td>\n      <td>0.645</td>\n      <td>0.339</td>\n      <td>1.21e-06</td>\n      <td>0.089</td>\n      <td>-9.555</td>\n      <td>0.0377</td>\n      <td>0.193</td>\n      <td>132.756</td>\n      <td>0</td>\n      <td>1995-01-01</td>\n    </tr>\n    <tr>\n      <th>137580</th>\n      <td>3nhDtBrT5twOEGBSdiNex3</td>\n      <td>Santa's Gonna Take It All Back</td>\n      <td>['2bA6fzP0lMAQ4kz6CF61w8']</td>\n      <td>['Toby Keith']</td>\n      <td>3</td>\n      <td>False</td>\n      <td>Solo</td>\n      <td>5</td>\n      <td>1</td>\n      <td>78</td>\n      <td>...</td>\n      <td>0.682</td>\n      <td>0.944</td>\n      <td>1.03e-05</td>\n      <td>0.359</td>\n      <td>-6.629</td>\n      <td>0.0537</td>\n      <td>0.844</td>\n      <td>144.363</td>\n      <td>0</td>\n      <td>1995-01-01</td>\n    </tr>\n    <tr>\n      <th>137581</th>\n      <td>5Nl6CJiV5FNyMDgatdxbCr</td>\n      <td>The Night Before Christmas</td>\n      <td>['2bA6fzP0lMAQ4kz6CF61w8']</td>\n      <td>['Toby Keith']</td>\n      <td>3</td>\n      <td>False</td>\n      <td>Solo</td>\n      <td>6</td>\n      <td>1</td>\n      <td>78</td>\n      <td>...</td>\n      <td>0.745</td>\n      <td>0.569</td>\n      <td>0</td>\n      <td>0.431</td>\n      <td>-8.521</td>\n      <td>0.0277</td>\n      <td>0.816</td>\n      <td>111.591</td>\n      <td>0</td>\n      <td>1995-01-01</td>\n    </tr>\n    <tr>\n      <th>...</th>\n      <td>...</td>\n      <td>...</td>\n      <td>...</td>\n      <td>...</td>\n      <td>...</td>\n      <td>...</td>\n      <td>...</td>\n      <td>...</td>\n      <td>...</td>\n      <td>...</td>\n      <td>...</td>\n      <td>...</td>\n      <td>...</td>\n      <td>...</td>\n      <td>...</td>\n      <td>...</td>\n      <td>...</td>\n      <td>...</td>\n      <td>...</td>\n      <td>...</td>\n      <td>...</td>\n    </tr>\n    <tr>\n      <th>703718</th>\n      <td>0V3gDCFRWdVCA29ZQvgxfZ</td>\n      <td>Por Siempre</td>\n      <td>['5Ne8hQEmy0eZu9hlE3j58B']</td>\n      <td>['Brenda K. Starr']</td>\n      <td>4</td>\n      <td>False</td>\n      <td>Solo</td>\n      <td>6</td>\n      <td>1</td>\n      <td>79</td>\n      <td>...</td>\n      <td>0.774</td>\n      <td>0.773</td>\n      <td>0.000002</td>\n      <td>0.0564</td>\n      <td>-3.627</td>\n      <td>0.0386</td>\n      <td>0.578</td>\n      <td>97.463</td>\n      <td>0</td>\n      <td>2019-08-16</td>\n    </tr>\n    <tr>\n      <th>703719</th>\n      <td>6GyDnbiL8Ibpgdveu4cgyV</td>\n      <td>Te Puedo Castigar</td>\n      <td>['5Ne8hQEmy0eZu9hlE3j58B']</td>\n      <td>['Brenda K. Starr']</td>\n      <td>4</td>\n      <td>False</td>\n      <td>Solo</td>\n      <td>7</td>\n      <td>1</td>\n      <td>79</td>\n      <td>...</td>\n      <td>0.766</td>\n      <td>0.819</td>\n      <td>0.000111</td>\n      <td>0.108</td>\n      <td>-3.53</td>\n      <td>0.0365</td>\n      <td>0.6</td>\n      <td>91.998</td>\n      <td>0</td>\n      <td>2019-08-16</td>\n    </tr>\n    <tr>\n      <th>703720</th>\n      <td>04shPRn1IpLNbBSGYaIhVq</td>\n      <td>Pétalos De Fuego - Balada</td>\n      <td>['5Ne8hQEmy0eZu9hlE3j58B']</td>\n      <td>['Brenda K. Starr']</td>\n      <td>2</td>\n      <td>False</td>\n      <td>Solo</td>\n      <td>8</td>\n      <td>1</td>\n      <td>79</td>\n      <td>...</td>\n      <td>0.633</td>\n      <td>0.652</td>\n      <td>0.0</td>\n      <td>0.164</td>\n      <td>-3.812</td>\n      <td>0.03</td>\n      <td>0.0954</td>\n      <td>135.227</td>\n      <td>0</td>\n      <td>2019-08-16</td>\n    </tr>\n    <tr>\n      <th>703713</th>\n      <td>68nsqfJQ00hTnuaw0plrmO</td>\n      <td>Pétalos De Fuego - Salsa</td>\n      <td>['5Ne8hQEmy0eZu9hlE3j58B']</td>\n      <td>['Brenda K. Starr']</td>\n      <td>5</td>\n      <td>False</td>\n      <td>Solo</td>\n      <td>1</td>\n      <td>1</td>\n      <td>79</td>\n      <td>...</td>\n      <td>0.589</td>\n      <td>0.837</td>\n      <td>0.0</td>\n      <td>0.0903</td>\n      <td>-2.735</td>\n      <td>0.0432</td>\n      <td>0.529</td>\n      <td>173.661</td>\n      <td>0</td>\n      <td>2019-08-16</td>\n    </tr>\n    <tr>\n      <th>703721</th>\n      <td>7wIslb87ay7ShEz53OKok6</td>\n      <td>Honesty</td>\n      <td>['5Ne8hQEmy0eZu9hlE3j58B']</td>\n      <td>['Brenda K. Starr']</td>\n      <td>7</td>\n      <td>False</td>\n      <td>Solo</td>\n      <td>9</td>\n      <td>1</td>\n      <td>79</td>\n      <td>...</td>\n      <td>0.7</td>\n      <td>0.766</td>\n      <td>0.0</td>\n      <td>0.0669</td>\n      <td>-3.943</td>\n      <td>0.0496</td>\n      <td>0.498</td>\n      <td>169.518</td>\n      <td>0</td>\n      <td>2019-08-16</td>\n    </tr>\n  </tbody>\n</table>\n<p>899068 rows × 26 columns</p>\n</div>"
     },
     "execution_count": 7,
     "metadata": {},
     "output_type": "execute_result"
    }
   ],
   "source": [
    "df_nonhits['date'] = pd.to_datetime(df_nonhits['release_date'], infer_datetime_format=True)\n",
    "df_nonhits.sort_values(by=\"date\", inplace=True)\n",
    "df_nonhits"
   ],
   "metadata": {
    "collapsed": false,
    "pycharm": {
     "name": "#%%\n"
    },
    "ExecuteTime": {
     "end_time": "2024-07-28T13:11:40.752480300Z",
     "start_time": "2024-07-28T13:11:39.150484Z"
    }
   },
   "id": "299d5a311fda8bf6"
  },
  {
   "cell_type": "code",
   "execution_count": 8,
   "outputs": [
    {
     "data": {
      "text/plain": "                       song_id                  id_artists       date\n0       74IDHJBR8ObnCMO2009n15  ['2OLmN3LLWtLF7zerL4VdaX'] 1995-01-01\n1       3LmikE0UEWcjCX3lNkHKan  ['2bA6fzP0lMAQ4kz6CF61w8'] 1995-01-01\n2       6qtlXLENtMcInGnuhb5tpZ  ['2bA6fzP0lMAQ4kz6CF61w8'] 1995-01-01\n3       3nhDtBrT5twOEGBSdiNex3  ['2bA6fzP0lMAQ4kz6CF61w8'] 1995-01-01\n4       5Nl6CJiV5FNyMDgatdxbCr  ['2bA6fzP0lMAQ4kz6CF61w8'] 1995-01-01\n...                        ...                         ...        ...\n673621  6ReWBAnrxTLXJgSDGjP9aT  ['5uBYUKM0OLmIa5maaig28a'] 2015-08-19\n673622  4xjIckEVcRYwgWXhBeGLnu  ['5uBYUKM0OLmIa5maaig28a'] 2015-08-19\n673623  0JXEIRMjTkBGSLcw1i0Xym  ['5uBYUKM0OLmIa5maaig28a'] 2015-08-19\n673624  1VHFAqq1cyu7uSdOlQt7k3  ['5uBYUKM0OLmIa5maaig28a'] 2015-08-19\n673625  70mPtAGxAAqyXtCCMMaPjO  ['5uBYUKM0OLmIa5maaig28a'] 2015-08-19\n\n[673626 rows x 3 columns]",
      "text/html": "<div>\n<style scoped>\n    .dataframe tbody tr th:only-of-type {\n        vertical-align: middle;\n    }\n\n    .dataframe tbody tr th {\n        vertical-align: top;\n    }\n\n    .dataframe thead th {\n        text-align: right;\n    }\n</style>\n<table border=\"1\" class=\"dataframe\">\n  <thead>\n    <tr style=\"text-align: right;\">\n      <th></th>\n      <th>song_id</th>\n      <th>id_artists</th>\n      <th>date</th>\n    </tr>\n  </thead>\n  <tbody>\n    <tr>\n      <th>0</th>\n      <td>74IDHJBR8ObnCMO2009n15</td>\n      <td>['2OLmN3LLWtLF7zerL4VdaX']</td>\n      <td>1995-01-01</td>\n    </tr>\n    <tr>\n      <th>1</th>\n      <td>3LmikE0UEWcjCX3lNkHKan</td>\n      <td>['2bA6fzP0lMAQ4kz6CF61w8']</td>\n      <td>1995-01-01</td>\n    </tr>\n    <tr>\n      <th>2</th>\n      <td>6qtlXLENtMcInGnuhb5tpZ</td>\n      <td>['2bA6fzP0lMAQ4kz6CF61w8']</td>\n      <td>1995-01-01</td>\n    </tr>\n    <tr>\n      <th>3</th>\n      <td>3nhDtBrT5twOEGBSdiNex3</td>\n      <td>['2bA6fzP0lMAQ4kz6CF61w8']</td>\n      <td>1995-01-01</td>\n    </tr>\n    <tr>\n      <th>4</th>\n      <td>5Nl6CJiV5FNyMDgatdxbCr</td>\n      <td>['2bA6fzP0lMAQ4kz6CF61w8']</td>\n      <td>1995-01-01</td>\n    </tr>\n    <tr>\n      <th>...</th>\n      <td>...</td>\n      <td>...</td>\n      <td>...</td>\n    </tr>\n    <tr>\n      <th>673621</th>\n      <td>6ReWBAnrxTLXJgSDGjP9aT</td>\n      <td>['5uBYUKM0OLmIa5maaig28a']</td>\n      <td>2015-08-19</td>\n    </tr>\n    <tr>\n      <th>673622</th>\n      <td>4xjIckEVcRYwgWXhBeGLnu</td>\n      <td>['5uBYUKM0OLmIa5maaig28a']</td>\n      <td>2015-08-19</td>\n    </tr>\n    <tr>\n      <th>673623</th>\n      <td>0JXEIRMjTkBGSLcw1i0Xym</td>\n      <td>['5uBYUKM0OLmIa5maaig28a']</td>\n      <td>2015-08-19</td>\n    </tr>\n    <tr>\n      <th>673624</th>\n      <td>1VHFAqq1cyu7uSdOlQt7k3</td>\n      <td>['5uBYUKM0OLmIa5maaig28a']</td>\n      <td>2015-08-19</td>\n    </tr>\n    <tr>\n      <th>673625</th>\n      <td>70mPtAGxAAqyXtCCMMaPjO</td>\n      <td>['5uBYUKM0OLmIa5maaig28a']</td>\n      <td>2015-08-19</td>\n    </tr>\n  </tbody>\n</table>\n<p>673626 rows × 3 columns</p>\n</div>"
     },
     "execution_count": 8,
     "metadata": {},
     "output_type": "execute_result"
    }
   ],
   "source": [
    "border_day = train_df[\"date\"].iloc[0] - pd.DateOffset(years=past_years) \n",
    "df_nonhits = df_nonhits[(df_nonhits[\"date\"] <= present) & (df_nonhits[\"date\"] > border_day)]\n",
    "amount_songs = df_nonhits[[\"song_id\", \"id_artists\", \"date\"]].copy()\n",
    "del df_nonhits\n",
    "amount_songs.reset_index(drop=True, inplace=True)\n",
    "amount_songs"
   ],
   "metadata": {
    "collapsed": false,
    "pycharm": {
     "name": "#%%\n"
    },
    "ExecuteTime": {
     "end_time": "2024-07-28T13:11:41.114479500Z",
     "start_time": "2024-07-28T13:11:40.746480300Z"
    }
   },
   "id": "e0b209ec5e36541c"
  },
  {
   "cell_type": "code",
   "execution_count": 9,
   "outputs": [
    {
     "data": {
      "text/plain": "list"
     },
     "execution_count": 9,
     "metadata": {},
     "output_type": "execute_result"
    }
   ],
   "source": [
    "#amount_songs = combined_df[combined_df[\"song_id\"].isin(list_ids)]\n",
    "amount_songs[\"id_artists\"] = amount_songs[\"id_artists\"].apply(lambda x: eval(x))\n",
    "type(amount_songs[\"id_artists\"].iloc[0])"
   ],
   "metadata": {
    "collapsed": false,
    "pycharm": {
     "name": "#%%\n"
    },
    "ExecuteTime": {
     "end_time": "2024-07-28T13:11:45.084869700Z",
     "start_time": "2024-07-28T13:11:41.104482200Z"
    }
   },
   "id": "e7ea378ae1d87043"
  },
  {
   "cell_type": "markdown",
   "source": [
    "## Loop:"
   ],
   "metadata": {
    "collapsed": false,
    "pycharm": {
     "name": "#%% md\n"
    }
   },
   "id": "795367ccfd6250"
  },
  {
   "cell_type": "code",
   "execution_count": 10,
   "outputs": [
    {
     "data": {
      "text/plain": "                       song_id  \\\n0       7kXUEJmfvRXbzxOC0pHQgb   \n3659    5pedBzuqzuqb8NPXqXFm1T   \n3658    7E89BPSPTtBaR9mKK88WhD   \n3657    1xdRFXv3ytSOdj8GuT3Rge   \n3656    5wlQIBbKIWoB7AnSw09C6C   \n...                        ...   \n683396  6xUjsB26W7wzU4MSlZ9v2W   \n683430  5AZQNFCdxA3W1nssrtu4Yr   \n683431  0gvKPCmhJzXa4YgptrNvI4   \n683432  5FDxZkCXwOOO0CQP3zQUBL   \n683433  3m3CVlgUzXQaFkXdMPV3nI   \n\n                                                song_name  song_popularity  \\\n0                          I Can't Believe I'm Losing You              5.0   \n3659    Song To The Siren - Live From Sabresonic Night...             35.0   \n3658                      Three Little Birdies Down Beats             30.0   \n3657                           Thank You Lord (Interlude)             20.0   \n3656                                        All This Love             26.0   \n...                                                   ...              ...   \n683396                                Afterglow (174 BPM)              0.0   \n683430         能登半島 Originally Performed By 石川さゆり (オルゴール)              0.0   \n683431                                        Up the Hill              0.0   \n683432    浪花恋しぐれ Originally Performed By 都はるみ・岡千秋 (オルゴール)              0.0   \n683433        バス・ストップ Originally Performed By 平浩二 (オルゴール)              1.0   \n\n        explicit song_type  track_number  num_artists  num_available_markets  \\\n0          False      Solo          12.0          1.0                   79.0   \n3659       False      Solo           3.0          1.0                   79.0   \n3658       False      Solo           4.0          1.0                   79.0   \n3657       False      Solo          10.0          1.0                   77.0   \n3656       False      Solo           9.0          1.0                   77.0   \n...          ...       ...           ...          ...                    ...   \n683396     False      Solo          16.0          1.0                   79.0   \n683430     False      Solo           7.0          1.0                   79.0   \n683431     False      Solo          30.0          1.0                   79.0   \n683432     False      Solo           6.0          1.0                   79.0   \n683433     False      Solo           5.0          1.0                   79.0   \n\n       release_date  duration_ms  ...  eccentricity_y  eigencentrality_y  \\\n0        1995-01-01     162667.0  ...             0.0                0.0   \n3659     1995-01-01     196827.0  ...             0.0                0.0   \n3658     1995-01-01     338733.0  ...             0.0                0.0   \n3657     1995-01-01      56067.0  ...             0.0                0.0   \n3656     1995-01-01     361840.0  ...             0.0                0.0   \n...             ...          ...  ...             ...                ...   \n683396   2015-08-19     169918.0  ...             0.0                0.0   \n683430   2015-08-19     201027.0  ...             0.0                0.0   \n683431   2015-08-19     142681.0  ...             0.0                0.0   \n683432   2015-08-19     184373.0  ...             0.0                0.0   \n683433   2015-08-19     227507.0  ...             0.0                0.0   \n\n        weighted degree_y  pagerank_y  Cluster_y  profile_y  artist1_num  \\\n0                     0.0         0.0       -1.0   No Match        156.0   \n3659                  0.0         0.0       -1.0   No Match       3649.0   \n3658                  0.0         0.0       -1.0   No Match       3649.0   \n3657                  0.0         0.0       -1.0   No Match       1678.0   \n3656                  0.0         0.0       -1.0   No Match       1678.0   \n...                   ...         ...        ...        ...          ...   \n683396                0.0         0.0       -1.0   No Match      16692.0   \n683430                0.0         0.0       -1.0   No Match      22832.0   \n683431                0.0         0.0       -1.0   No Match       4166.0   \n683432                0.0         0.0       -1.0   No Match      22832.0   \n683433                0.0         0.0       -1.0   No Match      22832.0   \n\n        artist2_num  years_on_charts       date  \n0               0.0              0.0 1995-01-01  \n3659            0.0              0.0 1995-01-01  \n3658            0.0              0.0 1995-01-01  \n3657            0.0              0.0 1995-01-01  \n3656            0.0              0.0 1995-01-01  \n...             ...              ...        ...  \n683396          0.0              0.0 2015-08-19  \n683430          0.0              0.0 2015-08-19  \n683431          0.0              0.0 2015-08-19  \n683432          0.0              0.0 2015-08-19  \n683433          0.0              0.0 2015-08-19  \n\n[683270 rows x 51 columns]",
      "text/html": "<div>\n<style scoped>\n    .dataframe tbody tr th:only-of-type {\n        vertical-align: middle;\n    }\n\n    .dataframe tbody tr th {\n        vertical-align: top;\n    }\n\n    .dataframe thead th {\n        text-align: right;\n    }\n</style>\n<table border=\"1\" class=\"dataframe\">\n  <thead>\n    <tr style=\"text-align: right;\">\n      <th></th>\n      <th>song_id</th>\n      <th>song_name</th>\n      <th>song_popularity</th>\n      <th>explicit</th>\n      <th>song_type</th>\n      <th>track_number</th>\n      <th>num_artists</th>\n      <th>num_available_markets</th>\n      <th>release_date</th>\n      <th>duration_ms</th>\n      <th>...</th>\n      <th>eccentricity_y</th>\n      <th>eigencentrality_y</th>\n      <th>weighted degree_y</th>\n      <th>pagerank_y</th>\n      <th>Cluster_y</th>\n      <th>profile_y</th>\n      <th>artist1_num</th>\n      <th>artist2_num</th>\n      <th>years_on_charts</th>\n      <th>date</th>\n    </tr>\n  </thead>\n  <tbody>\n    <tr>\n      <th>0</th>\n      <td>7kXUEJmfvRXbzxOC0pHQgb</td>\n      <td>I Can't Believe I'm Losing You</td>\n      <td>5.0</td>\n      <td>False</td>\n      <td>Solo</td>\n      <td>12.0</td>\n      <td>1.0</td>\n      <td>79.0</td>\n      <td>1995-01-01</td>\n      <td>162667.0</td>\n      <td>...</td>\n      <td>0.0</td>\n      <td>0.0</td>\n      <td>0.0</td>\n      <td>0.0</td>\n      <td>-1.0</td>\n      <td>No Match</td>\n      <td>156.0</td>\n      <td>0.0</td>\n      <td>0.0</td>\n      <td>1995-01-01</td>\n    </tr>\n    <tr>\n      <th>3659</th>\n      <td>5pedBzuqzuqb8NPXqXFm1T</td>\n      <td>Song To The Siren - Live From Sabresonic Night...</td>\n      <td>35.0</td>\n      <td>False</td>\n      <td>Solo</td>\n      <td>3.0</td>\n      <td>1.0</td>\n      <td>79.0</td>\n      <td>1995-01-01</td>\n      <td>196827.0</td>\n      <td>...</td>\n      <td>0.0</td>\n      <td>0.0</td>\n      <td>0.0</td>\n      <td>0.0</td>\n      <td>-1.0</td>\n      <td>No Match</td>\n      <td>3649.0</td>\n      <td>0.0</td>\n      <td>0.0</td>\n      <td>1995-01-01</td>\n    </tr>\n    <tr>\n      <th>3658</th>\n      <td>7E89BPSPTtBaR9mKK88WhD</td>\n      <td>Three Little Birdies Down Beats</td>\n      <td>30.0</td>\n      <td>False</td>\n      <td>Solo</td>\n      <td>4.0</td>\n      <td>1.0</td>\n      <td>79.0</td>\n      <td>1995-01-01</td>\n      <td>338733.0</td>\n      <td>...</td>\n      <td>0.0</td>\n      <td>0.0</td>\n      <td>0.0</td>\n      <td>0.0</td>\n      <td>-1.0</td>\n      <td>No Match</td>\n      <td>3649.0</td>\n      <td>0.0</td>\n      <td>0.0</td>\n      <td>1995-01-01</td>\n    </tr>\n    <tr>\n      <th>3657</th>\n      <td>1xdRFXv3ytSOdj8GuT3Rge</td>\n      <td>Thank You Lord (Interlude)</td>\n      <td>20.0</td>\n      <td>False</td>\n      <td>Solo</td>\n      <td>10.0</td>\n      <td>1.0</td>\n      <td>77.0</td>\n      <td>1995-01-01</td>\n      <td>56067.0</td>\n      <td>...</td>\n      <td>0.0</td>\n      <td>0.0</td>\n      <td>0.0</td>\n      <td>0.0</td>\n      <td>-1.0</td>\n      <td>No Match</td>\n      <td>1678.0</td>\n      <td>0.0</td>\n      <td>0.0</td>\n      <td>1995-01-01</td>\n    </tr>\n    <tr>\n      <th>3656</th>\n      <td>5wlQIBbKIWoB7AnSw09C6C</td>\n      <td>All This Love</td>\n      <td>26.0</td>\n      <td>False</td>\n      <td>Solo</td>\n      <td>9.0</td>\n      <td>1.0</td>\n      <td>77.0</td>\n      <td>1995-01-01</td>\n      <td>361840.0</td>\n      <td>...</td>\n      <td>0.0</td>\n      <td>0.0</td>\n      <td>0.0</td>\n      <td>0.0</td>\n      <td>-1.0</td>\n      <td>No Match</td>\n      <td>1678.0</td>\n      <td>0.0</td>\n      <td>0.0</td>\n      <td>1995-01-01</td>\n    </tr>\n    <tr>\n      <th>...</th>\n      <td>...</td>\n      <td>...</td>\n      <td>...</td>\n      <td>...</td>\n      <td>...</td>\n      <td>...</td>\n      <td>...</td>\n      <td>...</td>\n      <td>...</td>\n      <td>...</td>\n      <td>...</td>\n      <td>...</td>\n      <td>...</td>\n      <td>...</td>\n      <td>...</td>\n      <td>...</td>\n      <td>...</td>\n      <td>...</td>\n      <td>...</td>\n      <td>...</td>\n      <td>...</td>\n    </tr>\n    <tr>\n      <th>683396</th>\n      <td>6xUjsB26W7wzU4MSlZ9v2W</td>\n      <td>Afterglow (174 BPM)</td>\n      <td>0.0</td>\n      <td>False</td>\n      <td>Solo</td>\n      <td>16.0</td>\n      <td>1.0</td>\n      <td>79.0</td>\n      <td>2015-08-19</td>\n      <td>169918.0</td>\n      <td>...</td>\n      <td>0.0</td>\n      <td>0.0</td>\n      <td>0.0</td>\n      <td>0.0</td>\n      <td>-1.0</td>\n      <td>No Match</td>\n      <td>16692.0</td>\n      <td>0.0</td>\n      <td>0.0</td>\n      <td>2015-08-19</td>\n    </tr>\n    <tr>\n      <th>683430</th>\n      <td>5AZQNFCdxA3W1nssrtu4Yr</td>\n      <td>能登半島 Originally Performed By 石川さゆり (オルゴール)</td>\n      <td>0.0</td>\n      <td>False</td>\n      <td>Solo</td>\n      <td>7.0</td>\n      <td>1.0</td>\n      <td>79.0</td>\n      <td>2015-08-19</td>\n      <td>201027.0</td>\n      <td>...</td>\n      <td>0.0</td>\n      <td>0.0</td>\n      <td>0.0</td>\n      <td>0.0</td>\n      <td>-1.0</td>\n      <td>No Match</td>\n      <td>22832.0</td>\n      <td>0.0</td>\n      <td>0.0</td>\n      <td>2015-08-19</td>\n    </tr>\n    <tr>\n      <th>683431</th>\n      <td>0gvKPCmhJzXa4YgptrNvI4</td>\n      <td>Up the Hill</td>\n      <td>0.0</td>\n      <td>False</td>\n      <td>Solo</td>\n      <td>30.0</td>\n      <td>1.0</td>\n      <td>79.0</td>\n      <td>2015-08-19</td>\n      <td>142681.0</td>\n      <td>...</td>\n      <td>0.0</td>\n      <td>0.0</td>\n      <td>0.0</td>\n      <td>0.0</td>\n      <td>-1.0</td>\n      <td>No Match</td>\n      <td>4166.0</td>\n      <td>0.0</td>\n      <td>0.0</td>\n      <td>2015-08-19</td>\n    </tr>\n    <tr>\n      <th>683432</th>\n      <td>5FDxZkCXwOOO0CQP3zQUBL</td>\n      <td>浪花恋しぐれ Originally Performed By 都はるみ・岡千秋 (オルゴール)</td>\n      <td>0.0</td>\n      <td>False</td>\n      <td>Solo</td>\n      <td>6.0</td>\n      <td>1.0</td>\n      <td>79.0</td>\n      <td>2015-08-19</td>\n      <td>184373.0</td>\n      <td>...</td>\n      <td>0.0</td>\n      <td>0.0</td>\n      <td>0.0</td>\n      <td>0.0</td>\n      <td>-1.0</td>\n      <td>No Match</td>\n      <td>22832.0</td>\n      <td>0.0</td>\n      <td>0.0</td>\n      <td>2015-08-19</td>\n    </tr>\n    <tr>\n      <th>683433</th>\n      <td>3m3CVlgUzXQaFkXdMPV3nI</td>\n      <td>バス・ストップ Originally Performed By 平浩二 (オルゴール)</td>\n      <td>1.0</td>\n      <td>False</td>\n      <td>Solo</td>\n      <td>5.0</td>\n      <td>1.0</td>\n      <td>79.0</td>\n      <td>2015-08-19</td>\n      <td>227507.0</td>\n      <td>...</td>\n      <td>0.0</td>\n      <td>0.0</td>\n      <td>0.0</td>\n      <td>0.0</td>\n      <td>-1.0</td>\n      <td>No Match</td>\n      <td>22832.0</td>\n      <td>0.0</td>\n      <td>0.0</td>\n      <td>2015-08-19</td>\n    </tr>\n  </tbody>\n</table>\n<p>683270 rows × 51 columns</p>\n</div>"
     },
     "execution_count": 10,
     "metadata": {},
     "output_type": "execute_result"
    }
   ],
   "source": [
    "train_df"
   ],
   "metadata": {
    "collapsed": false,
    "pycharm": {
     "name": "#%%\n"
    },
    "ExecuteTime": {
     "end_time": "2024-07-28T13:11:45.420870100Z",
     "start_time": "2024-07-28T13:11:45.079871500Z"
    }
   },
   "id": "b28638da1c926d60"
  },
  {
   "cell_type": "code",
   "execution_count": 11,
   "outputs": [
    {
     "data": {
      "text/plain": "                       song_id  rank_score  peak_position  weeks_on_chart  \\\n0       3e9HZxeyfWwjeyPAMmWSSQ         100            100               7   \n1       5p7ujcrUXASCNwRaWNHR1C          99             99              11   \n2       2xLMifQCjDGFmkHkpNLD9h          98            100              20   \n3       3KkXRkHbMCARz0aVfEt68P          97             97               9   \n4       1rqqCSm0Qe4I9rUvWncaom          95             96              20   \n...                        ...         ...            ...             ...   \n250387  6vPS75nWOKkuH5WTLD8hDc           7             23               5   \n250388  2BCjoFA0nJlXBLRf3164bN           6              6               0   \n250389  7Gk1QKi2BAZCnrYlrYEDjC           4             11               4   \n250390  7rxev6ErpRE5VYaamjs4T3           2              2               0   \n250391  1TRvdHDqCIcTQpHTZbFttC           1              1               0   \n\n             week  \n0      2018-12-29  \n1      2018-12-29  \n2      2018-12-29  \n3      2018-12-29  \n4      2018-12-29  \n...           ...  \n250387 1964-01-04  \n250388 1964-01-04  \n250389 1964-01-04  \n250390 1964-01-04  \n250391 1964-01-04  \n\n[250392 rows x 5 columns]",
      "text/html": "<div>\n<style scoped>\n    .dataframe tbody tr th:only-of-type {\n        vertical-align: middle;\n    }\n\n    .dataframe tbody tr th {\n        vertical-align: top;\n    }\n\n    .dataframe thead th {\n        text-align: right;\n    }\n</style>\n<table border=\"1\" class=\"dataframe\">\n  <thead>\n    <tr style=\"text-align: right;\">\n      <th></th>\n      <th>song_id</th>\n      <th>rank_score</th>\n      <th>peak_position</th>\n      <th>weeks_on_chart</th>\n      <th>week</th>\n    </tr>\n  </thead>\n  <tbody>\n    <tr>\n      <th>0</th>\n      <td>3e9HZxeyfWwjeyPAMmWSSQ</td>\n      <td>100</td>\n      <td>100</td>\n      <td>7</td>\n      <td>2018-12-29</td>\n    </tr>\n    <tr>\n      <th>1</th>\n      <td>5p7ujcrUXASCNwRaWNHR1C</td>\n      <td>99</td>\n      <td>99</td>\n      <td>11</td>\n      <td>2018-12-29</td>\n    </tr>\n    <tr>\n      <th>2</th>\n      <td>2xLMifQCjDGFmkHkpNLD9h</td>\n      <td>98</td>\n      <td>100</td>\n      <td>20</td>\n      <td>2018-12-29</td>\n    </tr>\n    <tr>\n      <th>3</th>\n      <td>3KkXRkHbMCARz0aVfEt68P</td>\n      <td>97</td>\n      <td>97</td>\n      <td>9</td>\n      <td>2018-12-29</td>\n    </tr>\n    <tr>\n      <th>4</th>\n      <td>1rqqCSm0Qe4I9rUvWncaom</td>\n      <td>95</td>\n      <td>96</td>\n      <td>20</td>\n      <td>2018-12-29</td>\n    </tr>\n    <tr>\n      <th>...</th>\n      <td>...</td>\n      <td>...</td>\n      <td>...</td>\n      <td>...</td>\n      <td>...</td>\n    </tr>\n    <tr>\n      <th>250387</th>\n      <td>6vPS75nWOKkuH5WTLD8hDc</td>\n      <td>7</td>\n      <td>23</td>\n      <td>5</td>\n      <td>1964-01-04</td>\n    </tr>\n    <tr>\n      <th>250388</th>\n      <td>2BCjoFA0nJlXBLRf3164bN</td>\n      <td>6</td>\n      <td>6</td>\n      <td>0</td>\n      <td>1964-01-04</td>\n    </tr>\n    <tr>\n      <th>250389</th>\n      <td>7Gk1QKi2BAZCnrYlrYEDjC</td>\n      <td>4</td>\n      <td>11</td>\n      <td>4</td>\n      <td>1964-01-04</td>\n    </tr>\n    <tr>\n      <th>250390</th>\n      <td>7rxev6ErpRE5VYaamjs4T3</td>\n      <td>2</td>\n      <td>2</td>\n      <td>0</td>\n      <td>1964-01-04</td>\n    </tr>\n    <tr>\n      <th>250391</th>\n      <td>1TRvdHDqCIcTQpHTZbFttC</td>\n      <td>1</td>\n      <td>1</td>\n      <td>0</td>\n      <td>1964-01-04</td>\n    </tr>\n  </tbody>\n</table>\n<p>250392 rows × 5 columns</p>\n</div>"
     },
     "execution_count": 11,
     "metadata": {},
     "output_type": "execute_result"
    }
   ],
   "source": [
    "df_song_chart = pd.read_csv(\"../../MusicOSet/musicoset_popularity/song_chart.csv\", sep=\"\\t\")            #nur auf train daten, da rest unbekannt (für charts)\n",
    "df_song_chart['week'] = pd.to_datetime(df_song_chart['week']) #evtl später wegen runtime\n",
    "df_song_chart"
   ],
   "metadata": {
    "collapsed": false,
    "pycharm": {
     "name": "#%%\n"
    },
    "ExecuteTime": {
     "end_time": "2024-07-28T13:11:45.563871200Z",
     "start_time": "2024-07-28T13:11:45.409869600Z"
    }
   },
   "id": "948fa20163451baa"
  },
  {
   "cell_type": "code",
   "execution_count": 12,
   "outputs": [
    {
     "data": {
      "text/plain": "                      song_id  \\\n0      3e9HZxeyfWwjeyPAMmWSSQ   \n1      5p7ujcrUXASCNwRaWNHR1C   \n2      2xLMifQCjDGFmkHkpNLD9h   \n3      3KkXRkHbMCARz0aVfEt68P   \n4      1rqqCSm0Qe4I9rUvWncaom   \n...                       ...   \n20400  4NnhLA66RRLXxKbiiscU9R   \n20401  2jHfXdCLibrI1J56LnUAZv   \n20402  6zqsyB7uIvWrL1iCJzpNrs   \n20403  5mz9pQZZXNpAw9CdQ7Bk8q   \n20404  2H9CKpZiLDF223BbwehpDF   \n\n                                            artists_ids  \n0                              [66CXWjxzNUsdJxJ2JdwvnR]  \n1                              [26VFTg2z8YR0cCuwLzESi2]  \n2                              [0Y5tJX1MQlPlqiwlOH1tJY]  \n3      [246dkjvS1zLTtiykXe5h60, 1zNqQNIdeOUZHb8zbZRFMX]  \n4                              [20JZFwl6HVl6yg8a4H3ZqK]  \n...                                                 ...  \n20400                          [5X3TuTi9OIsJXMGxPwTKM2]  \n20401                          [6lHC2EQMEMZiEmSfFloarn]  \n20402                          [5X3TuTi9OIsJXMGxPwTKM2]  \n20403                          [6lHC2EQMEMZiEmSfFloarn]  \n20404                          [6wPhSqRtPu1UhRCDX5yaDJ]  \n\n[20405 rows x 2 columns]",
      "text/html": "<div>\n<style scoped>\n    .dataframe tbody tr th:only-of-type {\n        vertical-align: middle;\n    }\n\n    .dataframe tbody tr th {\n        vertical-align: top;\n    }\n\n    .dataframe thead th {\n        text-align: right;\n    }\n</style>\n<table border=\"1\" class=\"dataframe\">\n  <thead>\n    <tr style=\"text-align: right;\">\n      <th></th>\n      <th>song_id</th>\n      <th>artists_ids</th>\n    </tr>\n  </thead>\n  <tbody>\n    <tr>\n      <th>0</th>\n      <td>3e9HZxeyfWwjeyPAMmWSSQ</td>\n      <td>[66CXWjxzNUsdJxJ2JdwvnR]</td>\n    </tr>\n    <tr>\n      <th>1</th>\n      <td>5p7ujcrUXASCNwRaWNHR1C</td>\n      <td>[26VFTg2z8YR0cCuwLzESi2]</td>\n    </tr>\n    <tr>\n      <th>2</th>\n      <td>2xLMifQCjDGFmkHkpNLD9h</td>\n      <td>[0Y5tJX1MQlPlqiwlOH1tJY]</td>\n    </tr>\n    <tr>\n      <th>3</th>\n      <td>3KkXRkHbMCARz0aVfEt68P</td>\n      <td>[246dkjvS1zLTtiykXe5h60, 1zNqQNIdeOUZHb8zbZRFMX]</td>\n    </tr>\n    <tr>\n      <th>4</th>\n      <td>1rqqCSm0Qe4I9rUvWncaom</td>\n      <td>[20JZFwl6HVl6yg8a4H3ZqK]</td>\n    </tr>\n    <tr>\n      <th>...</th>\n      <td>...</td>\n      <td>...</td>\n    </tr>\n    <tr>\n      <th>20400</th>\n      <td>4NnhLA66RRLXxKbiiscU9R</td>\n      <td>[5X3TuTi9OIsJXMGxPwTKM2]</td>\n    </tr>\n    <tr>\n      <th>20401</th>\n      <td>2jHfXdCLibrI1J56LnUAZv</td>\n      <td>[6lHC2EQMEMZiEmSfFloarn]</td>\n    </tr>\n    <tr>\n      <th>20402</th>\n      <td>6zqsyB7uIvWrL1iCJzpNrs</td>\n      <td>[5X3TuTi9OIsJXMGxPwTKM2]</td>\n    </tr>\n    <tr>\n      <th>20403</th>\n      <td>5mz9pQZZXNpAw9CdQ7Bk8q</td>\n      <td>[6lHC2EQMEMZiEmSfFloarn]</td>\n    </tr>\n    <tr>\n      <th>20404</th>\n      <td>2H9CKpZiLDF223BbwehpDF</td>\n      <td>[6wPhSqRtPu1UhRCDX5yaDJ]</td>\n    </tr>\n  </tbody>\n</table>\n<p>20405 rows × 2 columns</p>\n</div>"
     },
     "execution_count": 12,
     "metadata": {},
     "output_type": "execute_result"
    }
   ],
   "source": [
    "df_songs = pd.read_csv(\"../../MusicOSet/musicoset_metadata/songs.csv\", sep=\"\\t\")                #nur auf train daten, da rest unbekannt (für charts)\n",
    "df_songs[\"artists_ids\"] = df_songs[\"artists\"].apply(lambda x: list((eval(x)).keys()))\n",
    "df_songs = df_songs[[\"song_id\", 'artists_ids']]\n",
    "df_songs"
   ],
   "metadata": {
    "collapsed": false,
    "pycharm": {
     "name": "#%%\n"
    },
    "ExecuteTime": {
     "end_time": "2024-07-28T13:11:45.823869600Z",
     "start_time": "2024-07-28T13:11:45.571868800Z"
    }
   },
   "id": "7cacf2570ff5145b"
  },
  {
   "cell_type": "code",
   "execution_count": 13,
   "outputs": [
    {
     "data": {
      "text/plain": "1.0"
     },
     "execution_count": 13,
     "metadata": {},
     "output_type": "execute_result"
    }
   ],
   "source": [
    "def superstar(n, d, p):\n",
    "    sup = 0\n",
    "    for i in range(len(d)):\n",
    "        sup += (d[i] + p[i])/2         #d[i] * p[i]          #um vanishing für einen 0 value zu verhindern alternativ: d+p/2 also mean nehmen?\n",
    "        # oder aus allem den mean?\n",
    "    return 1/n**2 * sup\n",
    "\n",
    "def superstar_2(n, d, p):\n",
    "    sup = 0\n",
    "    for i in range(len(d)):\n",
    "        sup += (d[i] + p[i])/2         #d[i] * p[i]          #um vanishing für einen 0 value zu verhindern alternativ: d+p/2 also mean nehmen?\n",
    "        # oder aus allem den mean?\n",
    "    return 1/n * sup\n",
    "\n",
    "def superstar_3(n, d, p):\n",
    "    sup = 0\n",
    "    for i in range(len(d)):\n",
    "        sup += p[i]        #d[i] * p[i]          #um vanishing für einen 0 value zu verhindern alternativ: d+p/2 also mean nehmen?\n",
    "        # oder aus allem den mean?\n",
    "    return 1/n**2 * sup\n",
    "\n",
    "def superstar_4(n, d, p):\n",
    "    sup = 0\n",
    "    for i in range(len(d)):\n",
    "        sup += d[i]          #d[i] * p[i]          #um vanishing für einen 0 value zu verhindern alternativ: d+p/2 also mean nehmen?\n",
    "        # oder aus allem den mean?\n",
    "    return 1/n**2 * sup\n",
    "\n",
    "def superstar_5(n, d, p, s):\n",
    "    sup = 0\n",
    "    for i in range(len(d)):\n",
    "        sup += (d[i] + p[i])/2         #d[i] * p[i]          #um vanishing für einen 0 value zu verhindern alternativ: d+p/2 also mean nehmen?\n",
    "        # oder aus allem den mean?\n",
    "    return (1-s)/n**2 * sup\n",
    "\n",
    "superstar(1, [1], [1])      #kommt es in produktivcode vor? wie mit nicht vorkommenden Werten umgehen?"
   ],
   "metadata": {
    "collapsed": false,
    "pycharm": {
     "name": "#%%\n"
    },
    "ExecuteTime": {
     "end_time": "2024-07-28T13:11:45.876869900Z",
     "start_time": "2024-07-28T13:11:45.821869300Z"
    }
   },
   "id": "b5ff8ba811c4dfbd"
  },
  {
   "cell_type": "code",
   "execution_count": 14,
   "outputs": [
    {
     "data": {
      "text/plain": "([0.0, 0.24242424242424243, 0.494949494949495, 0.7474747474747475, 1.0],\n [0.0, 0.25, 0.5, 0.75, 1.0],\n 94608000)"
     },
     "execution_count": 14,
     "metadata": {},
     "output_type": "execute_result"
    }
   ],
   "source": [
    "def min_max_scaling(arr, min_val, max_val):\n",
    "    return [(x - min_val)/(max_val - min_val) for x in arr]\n",
    "\n",
    "past_years = 3\n",
    "max_amount_days = past_years*365\n",
    "max_distance_float = max_amount_days*24*60*60\n",
    "\n",
    "peak_positions = [1, 25, 50, 75, 100]\n",
    "days_distances = [0.00, max_distance_float*0.25, max_distance_float*0.5, max_distance_float*0.75, max_distance_float]\n",
    "peak_positions = min_max_scaling(peak_positions, 1, 100) #101 oder 100 als edge \n",
    "# change to (0,1], sonst sobald ein wert 0 ist also min, dann resultat auch 0 => 0 ist viel zu common siehe bsp file\n",
    "# => min value um 1 reduzieren um skalar zu verschieben\n",
    "days_distances = min_max_scaling(days_distances, 0.0, max_distance_float)\n",
    "peak_positions, days_distances, max_distance_float   ###skalierungsproblem!     "
   ],
   "metadata": {
    "collapsed": false,
    "pycharm": {
     "name": "#%%\n"
    },
    "ExecuteTime": {
     "end_time": "2024-07-28T13:11:45.878871100Z",
     "start_time": "2024-07-28T13:11:45.835869800Z"
    }
   },
   "id": "89dc6a7b881f4ce7"
  },
  {
   "cell_type": "markdown",
   "source": [
    "find out where sideeffects are:"
   ],
   "metadata": {
    "collapsed": false,
    "pycharm": {
     "name": "#%% md\n"
    }
   },
   "id": "7c81123ea489c0f0"
  },
  {
   "cell_type": "code",
   "execution_count": 15,
   "outputs": [],
   "source": [
    "data_hsp = pd.read_csv(\"HSP_song_collab.csv\", delimiter=\",\")\n"
   ],
   "metadata": {
    "collapsed": false,
    "pycharm": {
     "name": "#%%\n"
    },
    "ExecuteTime": {
     "end_time": "2024-07-28T13:11:53.226355900Z",
     "start_time": "2024-07-28T13:11:45.851871200Z"
    }
   },
   "id": "e6665dfd4ee22277"
  },
  {
   "cell_type": "code",
   "execution_count": 16,
   "outputs": [],
   "source": [
    "data_hsp['date'] = pd.to_datetime(data_hsp['release_date'])\n",
    "data_hsp.sort_values(by=\"date\", inplace=True)\n",
    "\n",
    "# split_day = data_hsp[\"date\"].iloc[-1]  - pd.DateOffset(years=1)\n",
    "# train_df_hsp = data_hsp[(data_hsp[\"date\"]  < split_day)].copy()\n",
    "# test_df_hsp = data_hsp[(data_hsp[\"date\"]  >= split_day)].copy()\n",
    "train_df_hsp, test_df_hsp = train_test_split(data_hsp, test_size=0.25, shuffle=False)"
   ],
   "metadata": {
    "collapsed": false,
    "pycharm": {
     "name": "#%%\n"
    },
    "ExecuteTime": {
     "end_time": "2024-07-28T13:11:53.966356800Z",
     "start_time": "2024-07-28T13:11:53.231357100Z"
    }
   },
   "id": "d02f72f7c454f1e"
  },
  {
   "cell_type": "code",
   "execution_count": 17,
   "outputs": [],
   "source": [
    "import numpy as np\n",
    "\n",
    "def calculate_mae(df1, df2, col1):\n",
    "    \"\"\"\n",
    "    This function calculates the mean absolute error (MAE) between two columns in two DataFrames.\n",
    "  \n",
    "    Args:\n",
    "        df1 (pandas.DataFrame): The first DataFrame.\n",
    "        df2 (pandas.DataFrame): The second DataFrame.\n",
    "        col1 (str): The name of the column in the first DataFrame.\n",
    "        col2 (str): The name of the column in the second DataFrame.\n",
    "  \n",
    "    Returns:\n",
    "        float: The mean absolute error between the two columns.\n",
    "    \"\"\"\n",
    "    #if not all(col in df for col in [col1, col2]) or not df1[col1].dtypes == df2[col2].dtypes:\n",
    "    #    raise ValueError(\"Columns must exist in both DataFrames and have the same data type.\")\n",
    "    #if col1 not in df1 or col1 not in df2 or df1[col1].dtypes != df2[col1].dtypes:\n",
    "    #raise ValueError(\"Columns must exist in both DataFrames and have the same data type.\")\n",
    "    #return col1, np.mean(np.abs(df1[col1] - df2[col1]))\n",
    "    outp_dict ={}\n",
    "    for i in  col1:\n",
    "        outp_dict[i] = np.mean(np.abs(df1[i] - df2[i]))\n",
    "    return outp_dict\n",
    "\n",
    "def nr_coloumns(df1, columns_u):\n",
    "    numerical_df1 = df1[columns_u].select_dtypes(include=['number'])\n",
    "    return numerical_df1"
   ],
   "metadata": {
    "collapsed": false,
    "pycharm": {
     "name": "#%%\n"
    },
    "ExecuteTime": {
     "end_time": "2024-07-28T13:11:53.989359200Z",
     "start_time": "2024-07-28T13:11:53.972356500Z"
    }
   },
   "id": "14dd16ac1387711c"
  },
  {
   "cell_type": "code",
   "execution_count": 18,
   "outputs": [
    {
     "data": {
      "text/plain": "{'song_popularity': 8.497680770373579,\n 'track_number': 6.432022201372656,\n 'num_artists': 0.12347171622992355,\n 'num_available_markets': 14.025664482341215,\n 'duration_ms': 80706.42706080213,\n 'key': 4.036729715706051,\n 'mode': 0.39533912102366947,\n 'time_signature': 0.21900141116629154,\n 'acousticness': 0.33160678066416177,\n 'danceability': 0.17662280960091034,\n 'energy': 0.2494544018334072,\n 'instrumentalness': 0.26326364255955426,\n 'liveness': 0.17071688512734703,\n 'loudness': 4.281467990892709,\n 'speechiness': 0.06923708021109215,\n 'valence': 0.28618716901096375,\n 'tempo': 32.766977574372575,\n 'hit': 0.027385791297143885,\n 'betweenesscentrality_x': 0.0008436630261590139,\n 'closnesscentrality_x': 0.04163412032191879,\n 'clustering_x': 0.016380423905956135,\n 'degree_x': 9.692758060951316,\n 'eccentricity_x': 4.1022129651449575,\n 'eigencentrality_x': 0.007810163489731715,\n 'weighted degree_x': 8281.972245356783,\n 'pagerank_x': 0.00021831060889280417,\n 'Cluster_x': 0.3436382557988059,\n 'betweenesscentrality_y': 0.00015298634596680994,\n 'closnesscentrality_y': 0.011669813988084546,\n 'clustering_y': 0.00521285401697867,\n 'degree_y': 1.8916804864161498,\n 'eccentricity_y': 1.2146879176113619,\n 'eigencentrality_y': 0.00214351773426818,\n 'weighted degree_y': 73.29647936697985,\n 'pagerank_y': 2.847132715546938e-05,\n 'Cluster_y': 0.14754954983965188,\n 'artist1_num': 6961.151028760204,\n 'artist2_num': 1724.3100024736498,\n 'years_on_charts': 0.006867944135576299}"
     },
     "execution_count": 18,
     "metadata": {},
     "output_type": "execute_result"
    }
   ],
   "source": [
    "num_sup = nr_coloumns(train_df, train_df_hsp.columns)\n",
    "num_hsp = nr_coloumns(train_df_hsp, train_df_hsp.columns)\n",
    "num_hsp.reset_index(drop=True, inplace=True)\n",
    "\n",
    "calculate_mae(num_sup, num_hsp, num_sup.columns)"
   ],
   "metadata": {
    "collapsed": false,
    "pycharm": {
     "name": "#%%\n"
    },
    "ExecuteTime": {
     "end_time": "2024-07-28T13:11:57.840390Z",
     "start_time": "2024-07-28T13:11:54.126355900Z"
    }
   },
   "id": "ba9729e33147a3dd"
  },
  {
   "cell_type": "markdown",
   "source": [
    "check"
   ],
   "metadata": {
    "collapsed": false,
    "pycharm": {
     "name": "#%% md\n"
    }
   },
   "id": "7ac1c6bb5c8624c0"
  },
  {
   "cell_type": "code",
   "execution_count": 19,
   "outputs": [
    {
     "name": "stdout",
     "output_type": "stream",
     "text": [
      "0\n",
      "10000\n",
      "20000\n",
      "30000\n",
      "40000\n",
      "50000\n",
      "60000\n",
      "70000\n",
      "80000\n",
      "90000\n",
      "100000\n",
      "110000\n",
      "120000\n",
      "130000\n",
      "140000\n",
      "150000\n",
      "160000\n",
      "170000\n",
      "180000\n",
      "190000\n",
      "200000\n",
      "210000\n",
      "220000\n",
      "230000\n",
      "240000\n",
      "250000\n",
      "260000\n",
      "270000\n",
      "280000\n",
      "290000\n",
      "300000\n",
      "310000\n",
      "320000\n",
      "330000\n",
      "340000\n",
      "350000\n",
      "360000\n",
      "370000\n",
      "380000\n",
      "390000\n",
      "400000\n",
      "410000\n",
      "420000\n",
      "430000\n",
      "440000\n",
      "450000\n",
      "460000\n",
      "470000\n",
      "480000\n",
      "490000\n",
      "500000\n",
      "510000\n",
      "520000\n",
      "530000\n",
      "540000\n",
      "550000\n",
      "560000\n",
      "570000\n",
      "580000\n",
      "590000\n",
      "600000\n",
      "610000\n",
      "620000\n",
      "630000\n",
      "640000\n",
      "650000\n",
      "660000\n",
      "670000\n",
      "680000\n"
     ]
    }
   ],
   "source": [
    "import numpy as np\n",
    "\n",
    "past_years = 3\n",
    "max_amount_days = past_years * 365\n",
    "max_distance_float = max_amount_days * 24 * 60 * 60\n",
    "\n",
    "train_df[\"superstar_v1_x\"] = 1.0\n",
    "train_df[\"superstar_v1_y\"] = 1.0\n",
    "train_df[\"superstar_v2_x\"] = 1.0\n",
    "train_df[\"superstar_v2_y\"] = 1.0\n",
    "train_df[\"superstar_v3_x\"] = 1.0\n",
    "train_df[\"superstar_v3_y\"] = 1.0\n",
    "train_df[\"superstar_v4_x\"] = 1.0\n",
    "train_df[\"superstar_v4_y\"] = 1.0\n",
    "train_df[\"superstar_v5_x\"] = 1.0\n",
    "train_df[\"superstar_v5_y\"] = 1.0\n",
    "train_df[\"success_rate_x\"] = 0.0\n",
    "train_df[\"success_rate_y\"] = 0.0\n",
    "train_df[\"hits_in_past_x\"] = 0\n",
    "train_df[\"hits_in_past_y\"] = 0\n",
    "train_df[\"superstar_x\"] = 0\n",
    "train_df[\"superstar_y\"] = 0\n",
    "\n",
    "train_df.reset_index(drop=True, inplace=True)\n",
    "\n",
    "it = 0\n",
    "for index, row in train_df.iterrows():\n",
    "    artists_in_row = [row[\"artist1_id\"]]\n",
    "    if not pd.isna(row[\"artist2_id\"]):\n",
    "        artists_in_row.append(row[\"artist2_id\"])\n",
    "    \n",
    "    if it % 10000 == 0.0:\n",
    "        print(it)\n",
    "    it +=1\n",
    "    \n",
    "    present = row[\"date\"].replace(hour=23, minute=59, second=59)\n",
    "    border_day = present - pd.DateOffset(years=past_years)\n",
    "    to_filter = df_song_chart[(df_song_chart[\"week\"] <= present) & (df_song_chart[\"week\"] > border_day)]\n",
    "\n",
    "    for nr_art, artist in enumerate(artists_in_row):\n",
    "        hits_amount = 0\n",
    "        success_rate = 0.0\n",
    "        song_ids = []\n",
    "        peak_positions = []\n",
    "        days_distances = []\n",
    "\n",
    "        df_num_hit = pd.merge(to_filter, df_songs).reset_index(drop=True)\n",
    "        df_num_hit_cpy = df_num_hit.copy()\n",
    "        if not df_num_hit.empty:\n",
    "            df_num_hit = df_num_hit.drop_duplicates(subset=[\"song_id\"])\n",
    "            mask = [artist in artists for artists in df_num_hit['artists_ids']]\n",
    "            df_num_hit = df_num_hit[mask]\n",
    "            #df_num_hit = df_num_hit[df_num_hit[\"artists_ids\"].apply(lambda x: artist in x)]\n",
    "\n",
    "            hits_amount = df_num_hit[\"song_id\"].nunique()\n",
    "            song_ids = df_num_hit[\"song_id\"].tolist()\n",
    "\n",
    "            #insert rest of calc here\n",
    "            if hits_amount > 0:\n",
    "                for song_id in song_ids:\n",
    "                    df_song_peak_days = df_num_hit_cpy[df_num_hit_cpy[\"song_id\"] == song_id]\n",
    "                    min_peak_position = df_song_peak_days[\"peak_position\"].min()\n",
    "                    peak_positions.append(min_peak_position)\n",
    "    \n",
    "                    peak_week = df_song_peak_days.loc[df_song_peak_days[\"peak_position\"].idxmin()][\"week\"].replace(hour=23, minute=59, second=59)\n",
    "                    distance = abs(peak_week - present)\n",
    "                    days_distances.append(distance.total_seconds())\n",
    "\n",
    "                    filtered_artists = amount_songs[(amount_songs[\"date\"] <= present) & (amount_songs[\"date\"] > border_day)]\n",
    "                    filtered_artists = filtered_artists['id_artists'].map(lambda x: artist in x)\n",
    "                    song_count = filtered_artists.sum()\n",
    "                    success_rate = hits_amount/(song_count + hits_amount)\n",
    "    \n",
    "                peak_positions = min_max_scaling(peak_positions, 1, 100)\n",
    "                days_distances = min_max_scaling(days_distances, 0.00, max_distance_float)\n",
    "    \n",
    "                if nr_art == 0:\n",
    "                    train_df.at[index, \"superstar_v1_x\"] = superstar(hits_amount, peak_positions, days_distances)\n",
    "                    train_df.at[index, \"superstar_v2_x\"] = superstar_2(hits_amount, peak_positions, days_distances)\n",
    "                    train_df.at[index, \"superstar_v3_x\"] = superstar_3(hits_amount, peak_positions, days_distances)\n",
    "                    train_df.at[index, \"superstar_v4_x\"] = superstar_4(hits_amount, peak_positions, days_distances)\n",
    "                    train_df.at[index, \"superstar_v5_x\"] = superstar_5(hits_amount, peak_positions, days_distances, success_rate)\n",
    "                    train_df.at[index, \"success_rate_x\"] = success_rate\n",
    "                    train_df.at[index, \"hits_in_past_x\"] = hits_amount\n",
    "                    train_df.at[index, \"superstar_x\"] = 1\n",
    "                elif nr_art == 1:\n",
    "                    train_df.at[index, \"superstar_v1_y\"] = superstar(hits_amount, peak_positions, days_distances)\n",
    "                    train_df.at[index, \"superstar_v2_y\"] = superstar_2(hits_amount, peak_positions, days_distances)\n",
    "                    train_df.at[index, \"superstar_v3_y\"] = superstar_3(hits_amount, peak_positions, days_distances)\n",
    "                    train_df.at[index, \"superstar_v4_y\"] = superstar_4(hits_amount, peak_positions, days_distances)\n",
    "                    train_df.at[index, \"superstar_v5_y\"] = superstar_5(hits_amount, peak_positions, days_distances, success_rate)\n",
    "                    train_df.at[index, \"success_rate_y\"] = success_rate\n",
    "                    train_df.at[index, \"hits_in_past_y\"] = hits_amount\n",
    "                    train_df.at[index, \"superstar_y\"] = 1\n",
    "                    \n",
    "                    #fix this turn to i[loc]\n",
    "                #print(str(nr_art) + \":   \" + str(superstar(hits_amount, peak_positions, days_distances)))"
   ],
   "metadata": {
    "collapsed": false,
    "pycharm": {
     "name": "#%%\n"
    },
    "ExecuteTime": {
     "end_time": "2024-07-28T17:45:18.789138Z",
     "start_time": "2024-07-28T13:11:57.859387400Z"
    }
   },
   "id": "3986d58bb9d6a9a3"
  },
  {
   "cell_type": "markdown",
   "source": [
    "test2 loc"
   ],
   "metadata": {
    "collapsed": false,
    "pycharm": {
     "name": "#%% md\n"
    }
   },
   "id": "fdca7d6fba5a9a1"
  },
  {
   "cell_type": "code",
   "execution_count": 20,
   "outputs": [
    {
     "data": {
      "text/plain": "{'song_popularity': 0.0,\n 'track_number': 0.0,\n 'num_artists': 0.0,\n 'num_available_markets': 0.0,\n 'duration_ms': 0.0,\n 'key': 0.0,\n 'mode': 0.0,\n 'time_signature': 0.0,\n 'acousticness': 0.0,\n 'danceability': 0.0,\n 'energy': 0.0,\n 'instrumentalness': 0.0,\n 'liveness': 0.0,\n 'loudness': 0.0,\n 'speechiness': 0.0,\n 'valence': 0.0,\n 'tempo': 0.0,\n 'hit': 0.0,\n 'betweenesscentrality_x': 0.0,\n 'closnesscentrality_x': 0.0,\n 'clustering_x': 0.0,\n 'degree_x': 0.0,\n 'eccentricity_x': 0.0,\n 'eigencentrality_x': 0.0,\n 'weighted degree_x': 0.0,\n 'pagerank_x': 0.0,\n 'Cluster_x': 0.0,\n 'betweenesscentrality_y': 0.0,\n 'closnesscentrality_y': 0.0,\n 'clustering_y': 0.0,\n 'degree_y': 0.0,\n 'eccentricity_y': 0.0,\n 'eigencentrality_y': 0.0,\n 'weighted degree_y': 0.0,\n 'pagerank_y': 0.0,\n 'Cluster_y': 0.0,\n 'artist1_num': 0.0,\n 'artist2_num': 0.0,\n 'years_on_charts': 0.0}"
     },
     "execution_count": 20,
     "metadata": {},
     "output_type": "execute_result"
    }
   ],
   "source": [
    "num_sup = nr_coloumns(train_df, train_df_hsp.columns)\n",
    "num_hsp = nr_coloumns(train_df_hsp, train_df_hsp.columns)\n",
    "num_hsp.reset_index(drop=True, inplace=True)\n",
    "\n",
    "calculate_mae(num_sup, num_hsp, num_sup.columns)"
   ],
   "metadata": {
    "collapsed": false,
    "pycharm": {
     "name": "#%%\n"
    },
    "ExecuteTime": {
     "end_time": "2024-07-28T17:45:21.223707800Z",
     "start_time": "2024-07-28T17:45:18.847127100Z"
    }
   },
   "id": "11cecf46c5e2288"
  },
  {
   "cell_type": "markdown",
   "source": [
    "test2 end"
   ],
   "metadata": {
    "collapsed": false,
    "pycharm": {
     "name": "#%% md\n"
    }
   },
   "id": "1b60407a63e0716b"
  },
  {
   "cell_type": "code",
   "execution_count": 21,
   "outputs": [
    {
     "name": "stdout",
     "output_type": "stream",
     "text": [
      "Column 'song_popularity': min = 0.0, max = 83.0\n",
      "Column 'track_number': min = 1.0, max = 125.0\n",
      "Column 'num_artists': min = 1.0, max = 2.0\n",
      "Column 'num_available_markets': min = 0.0, max = 79.0\n",
      "Column 'duration_ms': min = 1672.0, max = 6032273.0\n",
      "Column 'key': min = 0.0, max = 11.0\n",
      "Column 'mode': min = 0.0, max = 1.0\n",
      "Column 'time_signature': min = 0.0, max = 5.0\n",
      "Column 'acousticness': min = 0.0, max = 0.996\n",
      "Column 'danceability': min = 0.0, max = 0.992\n",
      "Column 'energy': min = 0.0, max = 1.0\n",
      "Column 'instrumentalness': min = 0.0, max = 1.0\n",
      "Column 'liveness': min = 0.0, max = 1.0\n",
      "Column 'loudness': min = -60.0, max = 2.816\n",
      "Column 'speechiness': min = 0.0, max = 0.968\n",
      "Column 'valence': min = 0.0, max = 1.0\n",
      "Column 'tempo': min = 0.0, max = 248.942\n",
      "Column 'hit': min = 0.0, max = 1.0\n",
      "Column 'betweenesscentrality_x': min = 0.0, max = 0.0353025548509645\n",
      "Column 'closnesscentrality_x': min = 0.0, max = 0.1575245644682169\n",
      "Column 'clustering_x': min = 0.0, max = 1.0\n",
      "Column 'degree_x': min = 0.0, max = 131.0\n",
      "Column 'eccentricity_x': min = 0.0, max = 17.0\n",
      "Column 'eigencentrality_x': min = 0.0, max = 0.2218651449045313\n",
      "Column 'weighted degree_x': min = 0.0, max = 99084.0\n",
      "Column 'pagerank_x': min = 0.0, max = 0.0031009534879054\n",
      "Column 'Cluster_x': min = -1.0, max = 1.0\n",
      "Column 'betweenesscentrality_y': min = 0.0, max = 0.0353025548509645\n",
      "Column 'closnesscentrality_y': min = 0.0, max = 0.1575245644682169\n",
      "Column 'clustering_y': min = 0.0, max = 1.0\n",
      "Column 'degree_y': min = 0.0, max = 131.0\n",
      "Column 'eccentricity_y': min = 0.0, max = 17.0\n",
      "Column 'eigencentrality_y': min = 0.0, max = 0.2218651449045313\n",
      "Column 'weighted degree_y': min = 0.0, max = 37432.0\n",
      "Column 'pagerank_y': min = 0.0, max = 0.0031009534879054\n",
      "Column 'Cluster_y': min = -1.0, max = 1.0\n",
      "Column 'artist1_num': min = 2.0, max = 26699.0\n",
      "Column 'artist2_num': min = 0.0, max = 26696.0\n",
      "Column 'years_on_charts': min = 0.0, max = 1.6684931506849314\n",
      "Column 'superstar_v1_x': min = 0.0013698630136986301, max = 1.0\n",
      "Column 'superstar_v1_y': min = 0.00410958904109589, max = 1.0\n",
      "Column 'superstar_v2_x': min = 0.0013698630136986301, max = 1.0\n",
      "Column 'superstar_v2_y': min = 0.00410958904109589, max = 1.0\n",
      "Column 'superstar_v3_x': min = 0.0, max = 1.0\n",
      "Column 'superstar_v3_y': min = 0.0009132420091324201, max = 1.0\n",
      "Column 'superstar_v4_x': min = 0.0, max = 1.0\n",
      "Column 'superstar_v4_y': min = 0.0, max = 1.0\n",
      "Column 'superstar_v5_x': min = 0.0, max = 1.0\n",
      "Column 'superstar_v5_y': min = 0.0, max = 1.0\n",
      "Column 'success_rate_x': min = 0.0, max = 1.0\n",
      "Column 'success_rate_y': min = 0.0, max = 1.0\n",
      "Column 'hits_in_past_x': min = 0, max = 91\n",
      "Column 'hits_in_past_y': min = 0, max = 40\n",
      "Column 'superstar_x': min = 0, max = 1\n",
      "Column 'superstar_y': min = 0, max = 1\n"
     ]
    }
   ],
   "source": [
    "numerical_df = train_df.select_dtypes(include=['number'])\n",
    "\n",
    "# Print min and max for each numerical column\n",
    "for column in numerical_df.columns:\n",
    "    min_value = numerical_df[column].min()\n",
    "    max_value = numerical_df[column].max()\n",
    "    print(f\"Column '{column}': min = {min_value}, max = {max_value}\")"
   ],
   "metadata": {
    "collapsed": false,
    "pycharm": {
     "name": "#%%\n"
    },
    "ExecuteTime": {
     "end_time": "2024-07-28T17:45:21.881838700Z",
     "start_time": "2024-07-28T17:45:21.233712600Z"
    }
   },
   "id": "99d7468bf66602d5"
  },
  {
   "cell_type": "code",
   "execution_count": 22,
   "outputs": [
    {
     "data": {
      "text/plain": "                       song_id  \\\n0       7kXUEJmfvRXbzxOC0pHQgb   \n1       5pedBzuqzuqb8NPXqXFm1T   \n2       7E89BPSPTtBaR9mKK88WhD   \n3       1xdRFXv3ytSOdj8GuT3Rge   \n4       5wlQIBbKIWoB7AnSw09C6C   \n...                        ...   \n683265  6xUjsB26W7wzU4MSlZ9v2W   \n683266  5AZQNFCdxA3W1nssrtu4Yr   \n683267  0gvKPCmhJzXa4YgptrNvI4   \n683268  5FDxZkCXwOOO0CQP3zQUBL   \n683269  3m3CVlgUzXQaFkXdMPV3nI   \n\n                                                song_name  song_popularity  \\\n0                          I Can't Believe I'm Losing You              5.0   \n1       Song To The Siren - Live From Sabresonic Night...             35.0   \n2                         Three Little Birdies Down Beats             30.0   \n3                              Thank You Lord (Interlude)             20.0   \n4                                           All This Love             26.0   \n...                                                   ...              ...   \n683265                                Afterglow (174 BPM)              0.0   \n683266         能登半島 Originally Performed By 石川さゆり (オルゴール)              0.0   \n683267                                        Up the Hill              0.0   \n683268    浪花恋しぐれ Originally Performed By 都はるみ・岡千秋 (オルゴール)              0.0   \n683269        バス・ストップ Originally Performed By 平浩二 (オルゴール)              1.0   \n\n        explicit song_type  track_number  num_artists  num_available_markets  \\\n0          False      Solo          12.0          1.0                   79.0   \n1          False      Solo           3.0          1.0                   79.0   \n2          False      Solo           4.0          1.0                   79.0   \n3          False      Solo          10.0          1.0                   77.0   \n4          False      Solo           9.0          1.0                   77.0   \n...          ...       ...           ...          ...                    ...   \n683265     False      Solo          16.0          1.0                   79.0   \n683266     False      Solo           7.0          1.0                   79.0   \n683267     False      Solo          30.0          1.0                   79.0   \n683268     False      Solo           6.0          1.0                   79.0   \n683269     False      Solo           5.0          1.0                   79.0   \n\n       release_date  duration_ms  ...  superstar_v4_x  superstar_v4_y  \\\n0        1995-01-01     162667.0  ...             1.0             1.0   \n1        1995-01-01     196827.0  ...             1.0             1.0   \n2        1995-01-01     338733.0  ...             1.0             1.0   \n3        1995-01-01      56067.0  ...             1.0             1.0   \n4        1995-01-01     361840.0  ...             1.0             1.0   \n...             ...          ...  ...             ...             ...   \n683265   2015-08-19     169918.0  ...             1.0             1.0   \n683266   2015-08-19     201027.0  ...             1.0             1.0   \n683267   2015-08-19     142681.0  ...             1.0             1.0   \n683268   2015-08-19     184373.0  ...             1.0             1.0   \n683269   2015-08-19     227507.0  ...             1.0             1.0   \n\n        superstar_v5_x  superstar_v5_y  success_rate_x  success_rate_y  \\\n0                  1.0             1.0             0.0             0.0   \n1                  1.0             1.0             0.0             0.0   \n2                  1.0             1.0             0.0             0.0   \n3                  1.0             1.0             0.0             0.0   \n4                  1.0             1.0             0.0             0.0   \n...                ...             ...             ...             ...   \n683265             1.0             1.0             0.0             0.0   \n683266             1.0             1.0             0.0             0.0   \n683267             1.0             1.0             0.0             0.0   \n683268             1.0             1.0             0.0             0.0   \n683269             1.0             1.0             0.0             0.0   \n\n        hits_in_past_x  hits_in_past_y  superstar_x  superstar_y  \n0                    0               0            0            0  \n1                    0               0            0            0  \n2                    0               0            0            0  \n3                    0               0            0            0  \n4                    0               0            0            0  \n...                ...             ...          ...          ...  \n683265               0               0            0            0  \n683266               0               0            0            0  \n683267               0               0            0            0  \n683268               0               0            0            0  \n683269               0               0            0            0  \n\n[683270 rows x 67 columns]",
      "text/html": "<div>\n<style scoped>\n    .dataframe tbody tr th:only-of-type {\n        vertical-align: middle;\n    }\n\n    .dataframe tbody tr th {\n        vertical-align: top;\n    }\n\n    .dataframe thead th {\n        text-align: right;\n    }\n</style>\n<table border=\"1\" class=\"dataframe\">\n  <thead>\n    <tr style=\"text-align: right;\">\n      <th></th>\n      <th>song_id</th>\n      <th>song_name</th>\n      <th>song_popularity</th>\n      <th>explicit</th>\n      <th>song_type</th>\n      <th>track_number</th>\n      <th>num_artists</th>\n      <th>num_available_markets</th>\n      <th>release_date</th>\n      <th>duration_ms</th>\n      <th>...</th>\n      <th>superstar_v4_x</th>\n      <th>superstar_v4_y</th>\n      <th>superstar_v5_x</th>\n      <th>superstar_v5_y</th>\n      <th>success_rate_x</th>\n      <th>success_rate_y</th>\n      <th>hits_in_past_x</th>\n      <th>hits_in_past_y</th>\n      <th>superstar_x</th>\n      <th>superstar_y</th>\n    </tr>\n  </thead>\n  <tbody>\n    <tr>\n      <th>0</th>\n      <td>7kXUEJmfvRXbzxOC0pHQgb</td>\n      <td>I Can't Believe I'm Losing You</td>\n      <td>5.0</td>\n      <td>False</td>\n      <td>Solo</td>\n      <td>12.0</td>\n      <td>1.0</td>\n      <td>79.0</td>\n      <td>1995-01-01</td>\n      <td>162667.0</td>\n      <td>...</td>\n      <td>1.0</td>\n      <td>1.0</td>\n      <td>1.0</td>\n      <td>1.0</td>\n      <td>0.0</td>\n      <td>0.0</td>\n      <td>0</td>\n      <td>0</td>\n      <td>0</td>\n      <td>0</td>\n    </tr>\n    <tr>\n      <th>1</th>\n      <td>5pedBzuqzuqb8NPXqXFm1T</td>\n      <td>Song To The Siren - Live From Sabresonic Night...</td>\n      <td>35.0</td>\n      <td>False</td>\n      <td>Solo</td>\n      <td>3.0</td>\n      <td>1.0</td>\n      <td>79.0</td>\n      <td>1995-01-01</td>\n      <td>196827.0</td>\n      <td>...</td>\n      <td>1.0</td>\n      <td>1.0</td>\n      <td>1.0</td>\n      <td>1.0</td>\n      <td>0.0</td>\n      <td>0.0</td>\n      <td>0</td>\n      <td>0</td>\n      <td>0</td>\n      <td>0</td>\n    </tr>\n    <tr>\n      <th>2</th>\n      <td>7E89BPSPTtBaR9mKK88WhD</td>\n      <td>Three Little Birdies Down Beats</td>\n      <td>30.0</td>\n      <td>False</td>\n      <td>Solo</td>\n      <td>4.0</td>\n      <td>1.0</td>\n      <td>79.0</td>\n      <td>1995-01-01</td>\n      <td>338733.0</td>\n      <td>...</td>\n      <td>1.0</td>\n      <td>1.0</td>\n      <td>1.0</td>\n      <td>1.0</td>\n      <td>0.0</td>\n      <td>0.0</td>\n      <td>0</td>\n      <td>0</td>\n      <td>0</td>\n      <td>0</td>\n    </tr>\n    <tr>\n      <th>3</th>\n      <td>1xdRFXv3ytSOdj8GuT3Rge</td>\n      <td>Thank You Lord (Interlude)</td>\n      <td>20.0</td>\n      <td>False</td>\n      <td>Solo</td>\n      <td>10.0</td>\n      <td>1.0</td>\n      <td>77.0</td>\n      <td>1995-01-01</td>\n      <td>56067.0</td>\n      <td>...</td>\n      <td>1.0</td>\n      <td>1.0</td>\n      <td>1.0</td>\n      <td>1.0</td>\n      <td>0.0</td>\n      <td>0.0</td>\n      <td>0</td>\n      <td>0</td>\n      <td>0</td>\n      <td>0</td>\n    </tr>\n    <tr>\n      <th>4</th>\n      <td>5wlQIBbKIWoB7AnSw09C6C</td>\n      <td>All This Love</td>\n      <td>26.0</td>\n      <td>False</td>\n      <td>Solo</td>\n      <td>9.0</td>\n      <td>1.0</td>\n      <td>77.0</td>\n      <td>1995-01-01</td>\n      <td>361840.0</td>\n      <td>...</td>\n      <td>1.0</td>\n      <td>1.0</td>\n      <td>1.0</td>\n      <td>1.0</td>\n      <td>0.0</td>\n      <td>0.0</td>\n      <td>0</td>\n      <td>0</td>\n      <td>0</td>\n      <td>0</td>\n    </tr>\n    <tr>\n      <th>...</th>\n      <td>...</td>\n      <td>...</td>\n      <td>...</td>\n      <td>...</td>\n      <td>...</td>\n      <td>...</td>\n      <td>...</td>\n      <td>...</td>\n      <td>...</td>\n      <td>...</td>\n      <td>...</td>\n      <td>...</td>\n      <td>...</td>\n      <td>...</td>\n      <td>...</td>\n      <td>...</td>\n      <td>...</td>\n      <td>...</td>\n      <td>...</td>\n      <td>...</td>\n      <td>...</td>\n    </tr>\n    <tr>\n      <th>683265</th>\n      <td>6xUjsB26W7wzU4MSlZ9v2W</td>\n      <td>Afterglow (174 BPM)</td>\n      <td>0.0</td>\n      <td>False</td>\n      <td>Solo</td>\n      <td>16.0</td>\n      <td>1.0</td>\n      <td>79.0</td>\n      <td>2015-08-19</td>\n      <td>169918.0</td>\n      <td>...</td>\n      <td>1.0</td>\n      <td>1.0</td>\n      <td>1.0</td>\n      <td>1.0</td>\n      <td>0.0</td>\n      <td>0.0</td>\n      <td>0</td>\n      <td>0</td>\n      <td>0</td>\n      <td>0</td>\n    </tr>\n    <tr>\n      <th>683266</th>\n      <td>5AZQNFCdxA3W1nssrtu4Yr</td>\n      <td>能登半島 Originally Performed By 石川さゆり (オルゴール)</td>\n      <td>0.0</td>\n      <td>False</td>\n      <td>Solo</td>\n      <td>7.0</td>\n      <td>1.0</td>\n      <td>79.0</td>\n      <td>2015-08-19</td>\n      <td>201027.0</td>\n      <td>...</td>\n      <td>1.0</td>\n      <td>1.0</td>\n      <td>1.0</td>\n      <td>1.0</td>\n      <td>0.0</td>\n      <td>0.0</td>\n      <td>0</td>\n      <td>0</td>\n      <td>0</td>\n      <td>0</td>\n    </tr>\n    <tr>\n      <th>683267</th>\n      <td>0gvKPCmhJzXa4YgptrNvI4</td>\n      <td>Up the Hill</td>\n      <td>0.0</td>\n      <td>False</td>\n      <td>Solo</td>\n      <td>30.0</td>\n      <td>1.0</td>\n      <td>79.0</td>\n      <td>2015-08-19</td>\n      <td>142681.0</td>\n      <td>...</td>\n      <td>1.0</td>\n      <td>1.0</td>\n      <td>1.0</td>\n      <td>1.0</td>\n      <td>0.0</td>\n      <td>0.0</td>\n      <td>0</td>\n      <td>0</td>\n      <td>0</td>\n      <td>0</td>\n    </tr>\n    <tr>\n      <th>683268</th>\n      <td>5FDxZkCXwOOO0CQP3zQUBL</td>\n      <td>浪花恋しぐれ Originally Performed By 都はるみ・岡千秋 (オルゴール)</td>\n      <td>0.0</td>\n      <td>False</td>\n      <td>Solo</td>\n      <td>6.0</td>\n      <td>1.0</td>\n      <td>79.0</td>\n      <td>2015-08-19</td>\n      <td>184373.0</td>\n      <td>...</td>\n      <td>1.0</td>\n      <td>1.0</td>\n      <td>1.0</td>\n      <td>1.0</td>\n      <td>0.0</td>\n      <td>0.0</td>\n      <td>0</td>\n      <td>0</td>\n      <td>0</td>\n      <td>0</td>\n    </tr>\n    <tr>\n      <th>683269</th>\n      <td>3m3CVlgUzXQaFkXdMPV3nI</td>\n      <td>バス・ストップ Originally Performed By 平浩二 (オルゴール)</td>\n      <td>1.0</td>\n      <td>False</td>\n      <td>Solo</td>\n      <td>5.0</td>\n      <td>1.0</td>\n      <td>79.0</td>\n      <td>2015-08-19</td>\n      <td>227507.0</td>\n      <td>...</td>\n      <td>1.0</td>\n      <td>1.0</td>\n      <td>1.0</td>\n      <td>1.0</td>\n      <td>0.0</td>\n      <td>0.0</td>\n      <td>0</td>\n      <td>0</td>\n      <td>0</td>\n      <td>0</td>\n    </tr>\n  </tbody>\n</table>\n<p>683270 rows × 67 columns</p>\n</div>"
     },
     "execution_count": 22,
     "metadata": {},
     "output_type": "execute_result"
    }
   ],
   "source": [
    "train_df"
   ],
   "metadata": {
    "collapsed": false,
    "pycharm": {
     "name": "#%%\n"
    },
    "ExecuteTime": {
     "end_time": "2024-07-28T17:45:22.231897700Z",
     "start_time": "2024-07-28T17:45:21.854664600Z"
    }
   },
   "id": "3c61357868db20a9"
  },
  {
   "cell_type": "code",
   "execution_count": 23,
   "outputs": [],
   "source": [
    "train_df.drop(columns=[\"date\"], inplace=True)\n",
    "#train_df.to_csv(\"train_df_superstar_v1_0.csv\", index=False)"
   ],
   "metadata": {
    "collapsed": false,
    "pycharm": {
     "name": "#%%\n"
    },
    "ExecuteTime": {
     "end_time": "2024-07-28T17:45:22.458897300Z",
     "start_time": "2024-07-28T17:45:22.436896700Z"
    }
   },
   "id": "8ced032ed41ff018"
  },
  {
   "cell_type": "code",
   "execution_count": 24,
   "outputs": [],
   "source": [
    "# train_df = pd.read_csv(\"train_df_superstar_v1_0.csv\", sep=\",\")\n",
    "# train_df['date'] = pd.to_datetime(train_df['release_date'])\n",
    "# train_df.sort_values(by=\"date\", inplace=True)\n",
    "# train_df"
   ],
   "metadata": {
    "collapsed": false,
    "pycharm": {
     "name": "#%%\n"
    },
    "ExecuteTime": {
     "end_time": "2024-07-28T17:45:22.458897300Z",
     "start_time": "2024-07-28T17:45:22.445897900Z"
    }
   },
   "id": "6d6affba9926e41b"
  },
  {
   "cell_type": "code",
   "execution_count": 25,
   "outputs": [],
   "source": [
    "#for rerunning\n",
    "test_df['date'] = pd.to_datetime(test_df['release_date'])"
   ],
   "metadata": {
    "collapsed": false,
    "pycharm": {
     "name": "#%%\n"
    },
    "ExecuteTime": {
     "end_time": "2024-07-28T17:45:22.534895400Z",
     "start_time": "2024-07-28T17:45:22.478896200Z"
    }
   },
   "id": "bed6d88e79a3214d"
  },
  {
   "cell_type": "code",
   "execution_count": 26,
   "outputs": [
    {
     "data": {
      "text/plain": "Timestamp('2015-08-19 23:59:59')"
     },
     "execution_count": 26,
     "metadata": {},
     "output_type": "execute_result"
    }
   ],
   "source": [
    "border_start_train_day = (pd.to_datetime(train_df['release_date']).iloc[-1]).replace(hour=23, minute=59, second=59)\n",
    "border_start_train_day"
   ],
   "metadata": {
    "collapsed": false,
    "pycharm": {
     "name": "#%%\n"
    },
    "ExecuteTime": {
     "end_time": "2024-07-28T17:45:22.616896400Z",
     "start_time": "2024-07-28T17:45:22.554897100Z"
    }
   },
   "id": "1f48111fc9c83ae1"
  },
  {
   "cell_type": "markdown",
   "source": [
    "test3 start"
   ],
   "metadata": {
    "collapsed": false,
    "pycharm": {
     "name": "#%% md\n"
    }
   },
   "id": "de722f9a4e903a57"
  },
  {
   "cell_type": "code",
   "execution_count": 27,
   "outputs": [
    {
     "data": {
      "text/plain": "{'song_popularity': 0.0,\n 'track_number': 0.0,\n 'num_artists': 0.0,\n 'num_available_markets': 0.0,\n 'duration_ms': 0.0,\n 'key': 0.0,\n 'mode': 0.0,\n 'time_signature': 0.0,\n 'acousticness': 0.0,\n 'danceability': 0.0,\n 'energy': 0.0,\n 'instrumentalness': 0.0,\n 'liveness': 0.0,\n 'loudness': 0.0,\n 'speechiness': 0.0,\n 'valence': 0.0,\n 'tempo': 0.0,\n 'hit': 0.0,\n 'betweenesscentrality_x': 0.0,\n 'closnesscentrality_x': 0.0,\n 'clustering_x': 0.0,\n 'degree_x': 0.0,\n 'eccentricity_x': 0.0,\n 'eigencentrality_x': 0.0,\n 'weighted degree_x': 0.0,\n 'pagerank_x': 0.0,\n 'Cluster_x': 0.0,\n 'betweenesscentrality_y': 0.0,\n 'closnesscentrality_y': 0.0,\n 'clustering_y': 0.0,\n 'degree_y': 0.0,\n 'eccentricity_y': 0.0,\n 'eigencentrality_y': 0.0,\n 'weighted degree_y': 0.0,\n 'pagerank_y': 0.0,\n 'Cluster_y': 0.0,\n 'artist1_num': 0.0,\n 'artist2_num': 0.0,\n 'years_on_charts': 0.0}"
     },
     "execution_count": 27,
     "metadata": {},
     "output_type": "execute_result"
    }
   ],
   "source": [
    "num_sup = nr_coloumns(test_df, test_df_hsp.columns)\n",
    "num_hsp = nr_coloumns(test_df_hsp, test_df_hsp.columns)\n",
    "\n",
    "calculate_mae(num_sup, num_hsp, num_sup.columns)"
   ],
   "metadata": {
    "collapsed": false,
    "pycharm": {
     "name": "#%%\n"
    },
    "ExecuteTime": {
     "end_time": "2024-07-28T17:45:23.465231300Z",
     "start_time": "2024-07-28T17:45:22.794279700Z"
    }
   },
   "id": "29ba59a54752f376"
  },
  {
   "cell_type": "markdown",
   "source": [
    "test3 end"
   ],
   "metadata": {
    "collapsed": false,
    "pycharm": {
     "name": "#%% md\n"
    }
   },
   "id": "924bc13f8aa8743a"
  },
  {
   "cell_type": "code",
   "execution_count": 28,
   "outputs": [
    {
     "name": "stdout",
     "output_type": "stream",
     "text": [
      "0\n",
      "10000\n",
      "song_id 0gKY7YPpbC7dnUol9cQxIo\n",
      "0yOdayq37KJYPbcC6m3DS8\n",
      "song_id 15Zt4Z0N6JMwyNp1vLQNfi\n",
      "6uothxMWeLWIhsGeF7cyo4\n",
      "song_id 2ImwOBqAHn3mHyLJ4HBTbk\n",
      "6uothxMWeLWIhsGeF7cyo4\n",
      "song_id 4jBHJDHmet3Ms00S1ouWL9\n",
      "6uothxMWeLWIhsGeF7cyo4\n",
      "song_id 3WdBXPv7WUY9fZ6YyTpX6M\n",
      "6uothxMWeLWIhsGeF7cyo4\n",
      "song_id 1nM23eQxVwhrijc3KP19SE\n",
      "6uothxMWeLWIhsGeF7cyo4\n",
      "song_id 0UEUsq6zs3iJUJQmVNLt9s\n",
      "6uothxMWeLWIhsGeF7cyo4\n",
      "song_id 3K2ZbkmBBGOZVv7DdOMmnp\n",
      "6uothxMWeLWIhsGeF7cyo4\n",
      "song_id 3f3sm0q0yZ138Kaeel3EMl\n",
      "6uothxMWeLWIhsGeF7cyo4\n",
      "song_id 3qeTXY77zj4yJq3sNpI5p5\n",
      "6uothxMWeLWIhsGeF7cyo4\n",
      "song_id 3xIeLpmmiw1nYm8IRzIAf7\n",
      "6uothxMWeLWIhsGeF7cyo4\n",
      "song_id 7BR5HAVgpqVuxtrE8wIkQi\n",
      "6uothxMWeLWIhsGeF7cyo4\n",
      "song_id 0SnuyyC6tCDAdCfrgc9OeF\n",
      "6uothxMWeLWIhsGeF7cyo4\n",
      "song_id 3BW2TYYN5EeHgrxs4FydrU\n",
      "6uothxMWeLWIhsGeF7cyo4\n",
      "song_id 1Yxo5McSpn4mEFl4yrqhgd\n",
      "6uothxMWeLWIhsGeF7cyo4\n",
      "song_id 7HrioB2CowXRcHIERwNCZ7\n",
      "6uothxMWeLWIhsGeF7cyo4\n",
      "song_id 1eVosR3JxBfD0KDbKAK5ep\n",
      "6uothxMWeLWIhsGeF7cyo4\n",
      "song_id 1SE1SIvwiF8xA1fgBJeAfl\n",
      "6uothxMWeLWIhsGeF7cyo4\n",
      "song_id 2yhaj9305oe42hq2618W3H\n",
      "6uothxMWeLWIhsGeF7cyo4\n",
      "song_id 5oUr1pTznee9AVd6Txbsc9\n",
      "6uothxMWeLWIhsGeF7cyo4\n",
      "song_id 6NPRY1ZAXAncs4tO7ZjpKC\n",
      "6uothxMWeLWIhsGeF7cyo4\n",
      "song_id 5vU7lm9m3RmVOSzBbqXyIN\n",
      "6uothxMWeLWIhsGeF7cyo4\n",
      "song_id 3pSWr2EpMNomEOVCYAuqrD\n",
      "6uothxMWeLWIhsGeF7cyo4\n",
      "song_id 2Dr10eCjsJ7MVORP80yMAV\n",
      "6uothxMWeLWIhsGeF7cyo4\n",
      "song_id 4Rk3ynSRkB2vJUgyC6er0S\n",
      "6uothxMWeLWIhsGeF7cyo4\n",
      "song_id 1N0yXx5LP2RqhzALoYUwZv\n",
      "6uothxMWeLWIhsGeF7cyo4\n",
      "20000\n",
      "song_id 3eoyz3jZOHhko7hEwtEdnf\n",
      "3QLIkT4rD2FMusaqmkepbq\n",
      "song_id 1xGeLehBZrhCGpyUFUjita\n",
      "3QLIkT4rD2FMusaqmkepbq\n",
      "song_id 7rZjNS14d2R0JcOlHDPK7N\n",
      "3QLIkT4rD2FMusaqmkepbq\n",
      "song_id 7xbXQeepclfQNqI3mLPb3c\n",
      "3QLIkT4rD2FMusaqmkepbq\n",
      "song_id 4weNSwkJeIbgP3TxtBcNx0\n",
      "3QLIkT4rD2FMusaqmkepbq\n",
      "song_id 0W3xE0wwI1dORmrkbgTIkh\n",
      "3QLIkT4rD2FMusaqmkepbq\n",
      "song_id 5ADMX2rLpxW8MlC3HLGJDF\n",
      "3QLIkT4rD2FMusaqmkepbq\n",
      "song_id 5zm59ilkApsdH5cJRVFz1d\n",
      "3QLIkT4rD2FMusaqmkepbq\n",
      "song_id 3tSwt3KHnIssz3vCjz3FPw\n",
      "3QLIkT4rD2FMusaqmkepbq\n",
      "song_id 4rTSPf9iTKfI1Vhzpz7CXb\n",
      "3QLIkT4rD2FMusaqmkepbq\n",
      "song_id 37f4ITSlgPX81ad2EvmVQr\n",
      "3QLIkT4rD2FMusaqmkepbq\n",
      "song_id 3kSXn1osC89W8JcPLozTzs\n",
      "3QLIkT4rD2FMusaqmkepbq\n",
      "30000\n",
      "song_id 6D4zVAd90TxqYS3dpHDXBR\n",
      "1vSN1fsvrzpbttOYGsliDr\n",
      "song_id 6D4zVAd90TxqYS3dpHDXBR\n",
      "1vSN1fsvrzpbttOYGsliDr\n",
      "song_id 5UlJd8LYFURsALAOH9pPQK\n",
      "1vSN1fsvrzpbttOYGsliDr\n",
      "song_id 5UlJd8LYFURsALAOH9pPQK\n",
      "1vSN1fsvrzpbttOYGsliDr\n",
      "song_id 1iBvVK8Q2dguvmxa6EFchK\n",
      "1vSN1fsvrzpbttOYGsliDr\n",
      "song_id 1iBvVK8Q2dguvmxa6EFchK\n",
      "1vSN1fsvrzpbttOYGsliDr\n",
      "song_id 5SUKnxEQaFFeudmI4qYLd9\n",
      "1vSN1fsvrzpbttOYGsliDr\n",
      "song_id 5SUKnxEQaFFeudmI4qYLd9\n",
      "1vSN1fsvrzpbttOYGsliDr\n",
      "song_id 1WFTQr6oAHx6E1BcGiXqk4\n",
      "1vSN1fsvrzpbttOYGsliDr\n",
      "song_id 1WFTQr6oAHx6E1BcGiXqk4\n",
      "1vSN1fsvrzpbttOYGsliDr\n",
      "song_id 7fpU0bRJt0SDC8jIgVpbT6\n",
      "1vSN1fsvrzpbttOYGsliDr\n",
      "song_id 7fpU0bRJt0SDC8jIgVpbT6\n",
      "1vSN1fsvrzpbttOYGsliDr\n",
      "song_id 2jotacrxKMZ96oSIYDb1C9\n",
      "1vSN1fsvrzpbttOYGsliDr\n",
      "song_id 2jotacrxKMZ96oSIYDb1C9\n",
      "1vSN1fsvrzpbttOYGsliDr\n",
      "song_id 4VWFmFprp3enyMvhILIUr8\n",
      "1vSN1fsvrzpbttOYGsliDr\n",
      "song_id 4VWFmFprp3enyMvhILIUr8\n",
      "1vSN1fsvrzpbttOYGsliDr\n",
      "song_id 75o9x0TZwA3DP6nTSQUdqr\n",
      "1vSN1fsvrzpbttOYGsliDr\n",
      "song_id 75o9x0TZwA3DP6nTSQUdqr\n",
      "1vSN1fsvrzpbttOYGsliDr\n",
      "song_id 6mbnq9iXo8n6rIlCQzyDaj\n",
      "1vSN1fsvrzpbttOYGsliDr\n",
      "song_id 6mbnq9iXo8n6rIlCQzyDaj\n",
      "1vSN1fsvrzpbttOYGsliDr\n",
      "song_id 6QeJEhEoMNqsn2yhCvG3jc\n",
      "1vSN1fsvrzpbttOYGsliDr\n",
      "song_id 6QeJEhEoMNqsn2yhCvG3jc\n",
      "1vSN1fsvrzpbttOYGsliDr\n",
      "song_id 7IpvrSlRGGNQNFNhxwDAPe\n",
      "1vSN1fsvrzpbttOYGsliDr\n",
      "song_id 7IpvrSlRGGNQNFNhxwDAPe\n",
      "1vSN1fsvrzpbttOYGsliDr\n",
      "song_id 1Xwh83YOFQARZ3QXscP123\n",
      "1vSN1fsvrzpbttOYGsliDr\n",
      "song_id 1Xwh83YOFQARZ3QXscP123\n",
      "1vSN1fsvrzpbttOYGsliDr\n",
      "song_id 4y2T6J3rsP7osF2r5DZzO0\n",
      "1vSN1fsvrzpbttOYGsliDr\n",
      "song_id 4y2T6J3rsP7osF2r5DZzO0\n",
      "1vSN1fsvrzpbttOYGsliDr\n",
      "song_id 7Gi8cwdflJ79zSjmYn9I68\n",
      "1vSN1fsvrzpbttOYGsliDr\n",
      "song_id 7Gi8cwdflJ79zSjmYn9I68\n",
      "1vSN1fsvrzpbttOYGsliDr\n",
      "song_id 2Ce1f9I2gTUZgoDDGHC24J\n",
      "1vSN1fsvrzpbttOYGsliDr\n",
      "song_id 2Ce1f9I2gTUZgoDDGHC24J\n",
      "1vSN1fsvrzpbttOYGsliDr\n",
      "song_id 3qhobDAfBcVoOWZP8Ck8R2\n",
      "16oZKvXb6WkQlVAjwo2Wbg\n",
      "song_id 3qhobDAfBcVoOWZP8Ck8R2\n",
      "16oZKvXb6WkQlVAjwo2Wbg\n",
      "song_id 0BLpgH3wTp8wAZYj2gptkG\n",
      "16oZKvXb6WkQlVAjwo2Wbg\n",
      "song_id 0BLpgH3wTp8wAZYj2gptkG\n",
      "16oZKvXb6WkQlVAjwo2Wbg\n",
      "song_id 5NORWMFC27ywGSZxi8uquP\n",
      "16oZKvXb6WkQlVAjwo2Wbg\n",
      "40000\n",
      "song_id 6tUsVUZJojjWvcyBYQmwDC\n",
      "16oZKvXb6WkQlVAjwo2Wbg\n",
      "song_id 2AcyGDZJq3VK1grGodZShK\n",
      "16oZKvXb6WkQlVAjwo2Wbg\n",
      "song_id 5xxqxlolNTVsPwSqaltfZm\n",
      "16oZKvXb6WkQlVAjwo2Wbg\n",
      "song_id 4SUrUalzKg5jkvF0FCWxAS\n",
      "16oZKvXb6WkQlVAjwo2Wbg\n",
      "song_id 3d8y0t70g7hw2FOWl9Z4Fm\n",
      "16oZKvXb6WkQlVAjwo2Wbg\n",
      "song_id 5MMZJtHOiH1RmQSSe3DJdg\n",
      "16oZKvXb6WkQlVAjwo2Wbg\n",
      "song_id 2ToW7zhGCrVrLU4fiKj9U1\n",
      "16oZKvXb6WkQlVAjwo2Wbg\n",
      "song_id 3CuscN8itbT86pQFKQMIk7\n",
      "16oZKvXb6WkQlVAjwo2Wbg\n",
      "song_id 5mqbBZg2HeMvgMYfeGRGRM\n",
      "16oZKvXb6WkQlVAjwo2Wbg\n",
      "song_id 0omH6Dbw21O4Hw46cTbMBF\n",
      "16oZKvXb6WkQlVAjwo2Wbg\n",
      "song_id 7nGdKeoT57MXiqSrIzYsm6\n",
      "16oZKvXb6WkQlVAjwo2Wbg\n",
      "song_id 5rCHluRq4hQTOB8A3IvgC9\n",
      "16oZKvXb6WkQlVAjwo2Wbg\n",
      "song_id 0HP8e0rfD5dkxTYMPq3BF6\n",
      "16oZKvXb6WkQlVAjwo2Wbg\n",
      "song_id 4uXDWsoGZXd39QP47NkGm5\n",
      "16oZKvXb6WkQlVAjwo2Wbg\n",
      "song_id 5ONbCAFFnAJ0YGClEeddcU\n",
      "16oZKvXb6WkQlVAjwo2Wbg\n",
      "song_id 34WAdNQOUeGjgFOZshew1e\n",
      "16oZKvXb6WkQlVAjwo2Wbg\n",
      "song_id 3u4pq1k2CliqRp0iI5JHI4\n",
      "16oZKvXb6WkQlVAjwo2Wbg\n",
      "song_id 31xsM9IYq8B2EWfiJUzyXW\n",
      "16oZKvXb6WkQlVAjwo2Wbg\n",
      "song_id 0Ulxa4or5zsSFIJc7rEao0\n",
      "16oZKvXb6WkQlVAjwo2Wbg\n",
      "song_id 5bodDpPolC3xlame0SVcDY\n",
      "16oZKvXb6WkQlVAjwo2Wbg\n",
      "song_id 02VxlOxetoqdcq2G7zHImz\n",
      "16oZKvXb6WkQlVAjwo2Wbg\n",
      "song_id 75JB7iZtTAuDyNjGMc1wt1\n",
      "16oZKvXb6WkQlVAjwo2Wbg\n",
      "song_id 2sJeUeuJSfbwI4xLF0wGD7\n",
      "16oZKvXb6WkQlVAjwo2Wbg\n",
      "song_id 6C6xqMptwc0qjFo1KzCzX3\n",
      "16oZKvXb6WkQlVAjwo2Wbg\n",
      "song_id 47F5yQvWvFHF574P4gFYGM\n",
      "16oZKvXb6WkQlVAjwo2Wbg\n",
      "song_id 3MvtzgklFDhOAC3lQJR09S\n",
      "16oZKvXb6WkQlVAjwo2Wbg\n",
      "song_id 4HBvh8d07aKcqrBubN0W2t\n",
      "1vSN1fsvrzpbttOYGsliDr\n",
      "song_id 4HBvh8d07aKcqrBubN0W2t\n",
      "1vSN1fsvrzpbttOYGsliDr\n",
      "song_id 6LoaK5OzBw07A16UR63bOp\n",
      "1vSN1fsvrzpbttOYGsliDr\n",
      "song_id 6LoaK5OzBw07A16UR63bOp\n",
      "1vSN1fsvrzpbttOYGsliDr\n",
      "50000\n",
      "song_id 1dnYlA4OUT2QPCkhEtWPuT\n",
      "3QLIkT4rD2FMusaqmkepbq\n",
      "60000\n",
      "song_id 6PIGN0CzlpJ2D4Qk5XmPh0\n",
      "1vSN1fsvrzpbttOYGsliDr\n",
      "song_id 6PIGN0CzlpJ2D4Qk5XmPh0\n",
      "1vSN1fsvrzpbttOYGsliDr\n",
      "song_id 3bxXbmUmpJFlHaeX9CTJ38\n",
      "1vSN1fsvrzpbttOYGsliDr\n",
      "song_id 3bxXbmUmpJFlHaeX9CTJ38\n",
      "1vSN1fsvrzpbttOYGsliDr\n",
      "70000\n",
      "song_id 0B0tYbVp7pDQAqKDhgMeaL\n",
      "0du5cEVh5yTK9QJze8zA0C\n",
      "song_id 0B0tYbVp7pDQAqKDhgMeaL\n",
      "0du5cEVh5yTK9QJze8zA0C\n",
      "song_id 0kN8xEmgMW9mh7UmDYHlJP\n",
      "0du5cEVh5yTK9QJze8zA0C\n",
      "song_id 0kN8xEmgMW9mh7UmDYHlJP\n",
      "0du5cEVh5yTK9QJze8zA0C\n",
      "song_id 0KKkJNfGyhkQ5aFogxQAPU\n",
      "0du5cEVh5yTK9QJze8zA0C\n",
      "song_id 0KKkJNfGyhkQ5aFogxQAPU\n",
      "0du5cEVh5yTK9QJze8zA0C\n",
      "song_id 0mBKv9DkYfQHjdMcw2jdyI\n",
      "0du5cEVh5yTK9QJze8zA0C\n",
      "song_id 0mBKv9DkYfQHjdMcw2jdyI\n",
      "0du5cEVh5yTK9QJze8zA0C\n",
      "song_id 1I6pKIyaBp4OebTGLJpCCC\n",
      "0du5cEVh5yTK9QJze8zA0C\n",
      "song_id 1I6pKIyaBp4OebTGLJpCCC\n",
      "0du5cEVh5yTK9QJze8zA0C\n",
      "song_id 6ObpR8ek44tvWefQRcSo8K\n",
      "0du5cEVh5yTK9QJze8zA0C\n",
      "song_id 6ObpR8ek44tvWefQRcSo8K\n",
      "0du5cEVh5yTK9QJze8zA0C\n",
      "song_id 6b8Be6ljOzmkOmFslEb23P\n",
      "0du5cEVh5yTK9QJze8zA0C\n",
      "song_id 6b8Be6ljOzmkOmFslEb23P\n",
      "0du5cEVh5yTK9QJze8zA0C\n",
      "song_id 5XMkENs3GfeRza8MfVAhjK\n",
      "0du5cEVh5yTK9QJze8zA0C\n",
      "song_id 5XMkENs3GfeRza8MfVAhjK\n",
      "0du5cEVh5yTK9QJze8zA0C\n",
      "song_id 2mrZYZGmPFV3QOyYPZ1zsn\n",
      "0du5cEVh5yTK9QJze8zA0C\n",
      "song_id 2mrZYZGmPFV3QOyYPZ1zsn\n",
      "0du5cEVh5yTK9QJze8zA0C\n",
      "song_id 3PLyl3Ir75VkGgX0KEehqh\n",
      "1vSN1fsvrzpbttOYGsliDr\n",
      "song_id 3PLyl3Ir75VkGgX0KEehqh\n",
      "1vSN1fsvrzpbttOYGsliDr\n",
      "song_id 3wWinz94TSPWe6CgTaSK6x\n",
      "1vSN1fsvrzpbttOYGsliDr\n",
      "song_id 3wWinz94TSPWe6CgTaSK6x\n",
      "1vSN1fsvrzpbttOYGsliDr\n",
      "song_id 0DnWCEOjCm7AJdmPyuoeJz\n",
      "72fQWyXObQBgUIUejMo6js\n",
      "song_id 5sAjyZzQJ4JeBEout2H3By\n",
      "4OK0uZAzsgFobgChwUAFvS\n",
      "song_id 4NlGlCrbZQiqE2ETOfVZYv\n",
      "4OK0uZAzsgFobgChwUAFvS\n",
      "song_id 6oQeujGL9E5VjBKVqZu4Ky\n",
      "4OK0uZAzsgFobgChwUAFvS\n",
      "song_id 4kW0Q5beN3Q0UVduotZ5NX\n",
      "4OK0uZAzsgFobgChwUAFvS\n",
      "song_id 7asv8u9njyqeLg8JrkOSXR\n",
      "4OK0uZAzsgFobgChwUAFvS\n",
      "song_id 0VGm7V4EORDZlPG108Djix\n",
      "4OK0uZAzsgFobgChwUAFvS\n",
      "song_id 3J5s5da5YngqxRzyQtoT3I\n",
      "4OK0uZAzsgFobgChwUAFvS\n",
      "80000\n",
      "song_id 6VKX7rGnHoHJ4bECP12OOG\n",
      "3mIj9lX2MWuHmhNCA7LSCW\n",
      "song_id 64TkpV7m7f09JY7K436pju\n",
      "0du5cEVh5yTK9QJze8zA0C\n",
      "song_id 4YS0JF9kSLe15ggwOQqQit\n",
      "0du5cEVh5yTK9QJze8zA0C\n",
      "90000\n",
      "song_id 37Wh6q896txoVF50eohCvj\n",
      "0a1gHP0HAqALbEyxaD5Ngn\n",
      "song_id 00iSqF8H868tv54PWfmoVb\n",
      "0a1gHP0HAqALbEyxaD5Ngn\n",
      "song_id 7bqZEDLu75Na02NpZFFxVK\n",
      "0a1gHP0HAqALbEyxaD5Ngn\n",
      "song_id 1vemF8GPyMCUTPTNsepmcP\n",
      "0a1gHP0HAqALbEyxaD5Ngn\n",
      "song_id 3jfpnf48urkgTr5DRkGbkC\n",
      "0a1gHP0HAqALbEyxaD5Ngn\n",
      "song_id 0fQbAxE1Ztt1CsDBL36d5G\n",
      "0a1gHP0HAqALbEyxaD5Ngn\n",
      "song_id 36XsADslwWl0xc8HvUmETB\n",
      "0a1gHP0HAqALbEyxaD5Ngn\n",
      "song_id 5Dts6p6MyisrWTUU4NOPYY\n",
      "0a1gHP0HAqALbEyxaD5Ngn\n",
      "song_id 4qBKE8DiXsFT7Qi1jI2XJB\n",
      "0a1gHP0HAqALbEyxaD5Ngn\n",
      "song_id 3aacCxTfqa4ThC4Wv79xXy\n",
      "0a1gHP0HAqALbEyxaD5Ngn\n",
      "song_id 3OeMsWANKC9XHHlO7aqFKS\n",
      "0a1gHP0HAqALbEyxaD5Ngn\n",
      "song_id 3E8W4ozNWtGAT5KKrCTUUv\n",
      "0a1gHP0HAqALbEyxaD5Ngn\n",
      "song_id 0cncVNuN8vOnUHcBJKN5po\n",
      "0a1gHP0HAqALbEyxaD5Ngn\n",
      "song_id 7f2sicj5w1AmPnlhF9tRwi\n",
      "0a1gHP0HAqALbEyxaD5Ngn\n",
      "song_id 5KMg6EKxIy28DVcWCHHfTe\n",
      "0a1gHP0HAqALbEyxaD5Ngn\n",
      "song_id 4YKzK7a1NsRUn7mpIbk6NV\n",
      "0a1gHP0HAqALbEyxaD5Ngn\n",
      "song_id 072UV2SxR52vMpGclTksZp\n",
      "0a1gHP0HAqALbEyxaD5Ngn\n",
      "song_id 1rNimHVK2oVc9yFYT0Ob9W\n",
      "0a1gHP0HAqALbEyxaD5Ngn\n",
      "song_id 6rauYuF6mfioZyyuPmKlgW\n",
      "0a1gHP0HAqALbEyxaD5Ngn\n",
      "song_id 6BCVWCjXoqIDx3lLcgmXqJ\n",
      "0a1gHP0HAqALbEyxaD5Ngn\n",
      "song_id 0dmTIClM8aLGzJIwbTay9d\n",
      "0a1gHP0HAqALbEyxaD5Ngn\n",
      "song_id 2WbI3SlFPt7g6B7LdCzj3r\n",
      "0a1gHP0HAqALbEyxaD5Ngn\n",
      "song_id 6sbnf2jPcdxVm6vfZvMOS7\n",
      "0a1gHP0HAqALbEyxaD5Ngn\n",
      "song_id 06smJIK35tlt0lRv1gOZ0a\n",
      "0a1gHP0HAqALbEyxaD5Ngn\n",
      "song_id 6aLWjH7MF9haZbdHToOcDh\n",
      "0a1gHP0HAqALbEyxaD5Ngn\n",
      "song_id 2NWdsa3DjES0I01FbR2mqu\n",
      "0a1gHP0HAqALbEyxaD5Ngn\n",
      "song_id 141dHkuUh5as6gE86amsok\n",
      "0a1gHP0HAqALbEyxaD5Ngn\n",
      "song_id 4D4xJ4LyDXBWIf9thFSMAJ\n",
      "0a1gHP0HAqALbEyxaD5Ngn\n",
      "song_id 0or62irovJr1l01kh192Ls\n",
      "0a1gHP0HAqALbEyxaD5Ngn\n",
      "song_id 2Ijz7U0gQwmXb9YHo8ALTH\n",
      "0a1gHP0HAqALbEyxaD5Ngn\n",
      "song_id 5EjnqBJdkWB3fpcGY2SHsD\n",
      "0a1gHP0HAqALbEyxaD5Ngn\n",
      "song_id 2L9sdHNSwdbngwAwxnzngq\n",
      "0a1gHP0HAqALbEyxaD5Ngn\n",
      "song_id 1ShYoHyjHjbaeeTgC367ZZ\n",
      "0a1gHP0HAqALbEyxaD5Ngn\n",
      "song_id 1IdN7c0F8Q9tEMx8Jxt7sv\n",
      "0a1gHP0HAqALbEyxaD5Ngn\n",
      "song_id 3zLj05WcNEHrGjj70OcTug\n",
      "0a1gHP0HAqALbEyxaD5Ngn\n",
      "song_id 4TgU7oxuYuCVDApQer7LMW\n",
      "0a1gHP0HAqALbEyxaD5Ngn\n",
      "song_id 6DGCAvs5h55FWlbVQLY7DB\n",
      "0a1gHP0HAqALbEyxaD5Ngn\n",
      "song_id 6saDVaDpBQe9HUrwY7vwNf\n",
      "0a1gHP0HAqALbEyxaD5Ngn\n",
      "song_id 1QsXOnBUiREtGixFfdLTOf\n",
      "0a1gHP0HAqALbEyxaD5Ngn\n",
      "song_id 0EoFQ2nm3b2MKZneNkrjwq\n",
      "0a1gHP0HAqALbEyxaD5Ngn\n",
      "song_id 6SpJdlJ0xlV8JjF8nrBQSQ\n",
      "0a1gHP0HAqALbEyxaD5Ngn\n",
      "song_id 5BxEmyIuZx5JlHAZEo0Q1O\n",
      "0a1gHP0HAqALbEyxaD5Ngn\n",
      "song_id 5dY2l3xrpCykpPClHBJ8n5\n",
      "0a1gHP0HAqALbEyxaD5Ngn\n",
      "song_id 2wL895XPZqcm8TcttBtsMj\n",
      "0a1gHP0HAqALbEyxaD5Ngn\n",
      "song_id 3492lyhhbyD9DxUe1OYcOG\n",
      "0a1gHP0HAqALbEyxaD5Ngn\n",
      "song_id 5wvMe7UYOM7d25Ehpl4BlQ\n",
      "0a1gHP0HAqALbEyxaD5Ngn\n",
      "song_id 6TgpyQwhbjCqxXWIUEugtj\n",
      "0a1gHP0HAqALbEyxaD5Ngn\n",
      "song_id 2VFflC4O82S7GqAHG0gzbz\n",
      "0a1gHP0HAqALbEyxaD5Ngn\n",
      "song_id 7nM7uiKkpF7pSjyhaFgjN5\n",
      "0a1gHP0HAqALbEyxaD5Ngn\n",
      "song_id 49TcN7RvPGzPmoj2ZcNEnk\n",
      "0a1gHP0HAqALbEyxaD5Ngn\n",
      "song_id 3FL4czdeol9yVly6DEWz5Q\n",
      "4TshyQDihSYXSWqvclXl3I\n",
      "song_id 3HyDZ8rB0Wh6yF6q7PBa1r\n",
      "4TshyQDihSYXSWqvclXl3I\n",
      "song_id 72iAaOAsrBYa4U0VV7cHFd\n",
      "4TshyQDihSYXSWqvclXl3I\n",
      "song_id 5ZVxKn3v2exgp9ng5IuiGw\n",
      "4TshyQDihSYXSWqvclXl3I\n",
      "song_id 01SQsJtykP7BfD7AbCfWg9\n",
      "4TshyQDihSYXSWqvclXl3I\n",
      "song_id 10Gzg4Bw9rsDc6lnxoVDKh\n",
      "4TshyQDihSYXSWqvclXl3I\n",
      "song_id 7e6O8Wd9h3NWK4Jc2V4AdG\n",
      "4TshyQDihSYXSWqvclXl3I\n",
      "song_id 06fJW0re9g67Ft8qNlVlmz\n",
      "4TshyQDihSYXSWqvclXl3I\n",
      "song_id 0pLHrBSa5yqnOjbyHHe8uT\n",
      "4TshyQDihSYXSWqvclXl3I\n",
      "song_id 56AzmRzgxeAaSsjkM37V0O\n",
      "4TshyQDihSYXSWqvclXl3I\n",
      "song_id 7DtnkyGBdwBUlNcz19sDtp\n",
      "4TshyQDihSYXSWqvclXl3I\n",
      "song_id 7kxat5e63WKjwREbECuksl\n",
      "4TshyQDihSYXSWqvclXl3I\n",
      "song_id 113KKjCvrHlwfEuTd6RdHE\n",
      "4aJTB79uwT4sP0Nb8QGWHc\n",
      "song_id 0aUu1CO88d2kiXOGrImtbH\n",
      "4aJTB79uwT4sP0Nb8QGWHc\n",
      "song_id 0M07TE03OtknRNCKJ15Rvf\n",
      "4aJTB79uwT4sP0Nb8QGWHc\n",
      "song_id 1p8F8cOT8n57sul4fSkWf2\n",
      "4aJTB79uwT4sP0Nb8QGWHc\n",
      "song_id 1gKUMCxPHMEviBEMtFbn1t\n",
      "4aJTB79uwT4sP0Nb8QGWHc\n",
      "song_id 2NBgYIpHHS1qUeIPWkwlRZ\n",
      "4aJTB79uwT4sP0Nb8QGWHc\n",
      "song_id 6IChcwRkO70TL40nAnXN7I\n",
      "4aJTB79uwT4sP0Nb8QGWHc\n",
      "song_id 7DTeAtsPrQhte2Gw7nQJkN\n",
      "4aJTB79uwT4sP0Nb8QGWHc\n",
      "song_id 7f5LuaGsIxZOwOWae98VHY\n",
      "4aJTB79uwT4sP0Nb8QGWHc\n",
      "song_id 1kN5Bo5DAn9neVrli2wKBt\n",
      "4aJTB79uwT4sP0Nb8QGWHc\n",
      "song_id 4T7ZbeHb5Af41q7pku21oN\n",
      "4aJTB79uwT4sP0Nb8QGWHc\n",
      "song_id 0HlrfZBnJMIwmntTsXnqcl\n",
      "4aJTB79uwT4sP0Nb8QGWHc\n",
      "100000\n",
      "song_id 2A69wys3S9uiPSmn6UZWJn\n",
      "6y8XlgIV8BLlIg1tT1R10i\n",
      "song_id 7vd9Ya5TPTkplaxZNorlrH\n",
      "6jJ0s89eD6GaHleKKya26X\n",
      "song_id 0OlS52TmtK2gPaEtdmr7DN\n",
      "6y8XlgIV8BLlIg1tT1R10i\n",
      "song_id 1K9ovAYSKc2kDPwXDGknG7\n",
      "6y8XlgIV8BLlIg1tT1R10i\n",
      "song_id 4UvCnc0RlAcgDW6Y4yaohn\n",
      "6y8XlgIV8BLlIg1tT1R10i\n",
      "song_id 78L3wO3v3juMpKq68WZePN\n",
      "6y8XlgIV8BLlIg1tT1R10i\n",
      "song_id 2uKRocOusXn7WpHrpvKN7O\n",
      "6y8XlgIV8BLlIg1tT1R10i\n",
      "song_id 7mFNmurtskRmkxR01mYPfx\n",
      "6y8XlgIV8BLlIg1tT1R10i\n",
      "song_id 1AETvuSzlhLT7uasHHmGvI\n",
      "6y8XlgIV8BLlIg1tT1R10i\n",
      "song_id 55ccxeuwJuxZF8MHsJqOzh\n",
      "6y8XlgIV8BLlIg1tT1R10i\n",
      "song_id 6arn3YlMbdbCNNYE2pddI0\n",
      "6y8XlgIV8BLlIg1tT1R10i\n",
      "song_id 6y4yocrzA6NGnuZkc5bM4i\n",
      "6y8XlgIV8BLlIg1tT1R10i\n",
      "song_id 33471tzU1VghDg9zNgGRpz\n",
      "6y8XlgIV8BLlIg1tT1R10i\n",
      "song_id 46576CnmgT6xr0RaZNF2Kt\n",
      "3fMbdgg4jU18AjLCKBhRSm\n",
      "song_id 4nLKSthLekoSBbI2S6B1LT\n",
      "3fMbdgg4jU18AjLCKBhRSm\n",
      "song_id 7zILPDxYcUt7AFslua0mc5\n",
      "3fMbdgg4jU18AjLCKBhRSm\n",
      "song_id 4FC7GMnGwYeAjuvC83Srbs\n",
      "3fMbdgg4jU18AjLCKBhRSm\n",
      "song_id 0QgsvILuE9VQiAVsLStD3W\n",
      "3fMbdgg4jU18AjLCKBhRSm\n",
      "song_id 3Jo8w8vow92GQAbBJas0I5\n",
      "3fMbdgg4jU18AjLCKBhRSm\n",
      "song_id 3Fi99RQtn8HeefySuU9Dq3\n",
      "3fMbdgg4jU18AjLCKBhRSm\n",
      "song_id 2JzcEEYul9ngmGGPzvFVNL\n",
      "3fMbdgg4jU18AjLCKBhRSm\n",
      "song_id 2H89IUBV4rAmzOmTShrxRL\n",
      "3fMbdgg4jU18AjLCKBhRSm\n",
      "song_id 0YzDJ3Jm9EMjAD28vefkyH\n",
      "3fMbdgg4jU18AjLCKBhRSm\n",
      "song_id 7azo4rpSUh8nXgtonC6Pkq\n",
      "3fMbdgg4jU18AjLCKBhRSm\n",
      "song_id 2SrGtpbPh7czhWKGmXk8Aw\n",
      "3fMbdgg4jU18AjLCKBhRSm\n",
      "song_id 6aVar80VwlBE4VgbnliPF0\n",
      "4OK0uZAzsgFobgChwUAFvS\n",
      "song_id 76p5f94LHvCUYznIVzN2HJ\n",
      "7dGJo4pcD2V6oG8kP0tJRR\n",
      "song_id 3OEer2dQj1eWhSqxatGiru\n",
      "7dGJo4pcD2V6oG8kP0tJRR\n",
      "110000\n",
      "song_id 1UebLMXVLAaAYoFXxegCIP\n",
      "4iHNK0tOyZPYnBU7nGAgpQ\n",
      "song_id 1UebLMXVLAaAYoFXxegCIP\n",
      "4iHNK0tOyZPYnBU7nGAgpQ\n",
      "song_id 5jtatjei8pRzj8DjckfZFY\n",
      "3QLIkT4rD2FMusaqmkepbq\n",
      "song_id 0dMjfy8ieqxZYaVzcMDNTD\n",
      "3QLIkT4rD2FMusaqmkepbq\n",
      "song_id 5fiXA27viyX9WkPSHNr4HZ\n",
      "3QLIkT4rD2FMusaqmkepbq\n",
      "song_id 2vDV1IiMZeFHMnVpxarTYy\n",
      "3QLIkT4rD2FMusaqmkepbq\n",
      "song_id 65kmIUkajl0F8hjsxmkyHN\n",
      "3QLIkT4rD2FMusaqmkepbq\n",
      "song_id 4dZmotGbzsZ5Cs5Hk6saFc\n",
      "3QLIkT4rD2FMusaqmkepbq\n",
      "song_id 5kihB9Op6uD7ViVhfuRnkv\n",
      "3QLIkT4rD2FMusaqmkepbq\n",
      "song_id 4gbTxDPmg2KOUpfp727PGT\n",
      "3QLIkT4rD2FMusaqmkepbq\n",
      "song_id 0CUbGs61barxaLWZkSm8EO\n",
      "3QLIkT4rD2FMusaqmkepbq\n",
      "song_id 5gjyKK9QCgsTHVNOAirheF\n",
      "3QLIkT4rD2FMusaqmkepbq\n",
      "song_id 5yjOhc3JKrznGouRHMagoJ\n",
      "3QLIkT4rD2FMusaqmkepbq\n",
      "song_id 2y9ZbZ4MVsYf7lST40fjmO\n",
      "3QLIkT4rD2FMusaqmkepbq\n",
      "song_id 3ZMRJBNpfXaZTE5vHWAcR9\n",
      "6y8XlgIV8BLlIg1tT1R10i\n",
      "song_id 2RZvxgQsFR1mUcwFZpsav9\n",
      "3QLIkT4rD2FMusaqmkepbq\n",
      "song_id 1RR9CsswcWOiskooZjN22m\n",
      "1dID9zgn0OV0Y8ud7Mh2tS\n",
      "song_id 3CSAOdq5Fwia0BzNmVQDBD\n",
      "1dID9zgn0OV0Y8ud7Mh2tS\n",
      "song_id 38s3pUhUKdxB109gK73mol\n",
      "0awl5piYwO0CDTHEkCjUhn\n",
      "song_id 38s3pUhUKdxB109gK73mol\n",
      "0awl5piYwO0CDTHEkCjUhn\n",
      "song_id 4Wa2KC9HY8PWa03cxcchbS\n",
      "0awl5piYwO0CDTHEkCjUhn\n",
      "song_id 4Wa2KC9HY8PWa03cxcchbS\n",
      "0awl5piYwO0CDTHEkCjUhn\n",
      "song_id 0LFqKviKQtKAdkEyLtIw2d\n",
      "0awl5piYwO0CDTHEkCjUhn\n",
      "song_id 0LFqKviKQtKAdkEyLtIw2d\n",
      "0awl5piYwO0CDTHEkCjUhn\n",
      "song_id 3GNMGWQC89y0JRpBk4xAud\n",
      "2oX42qP5ineK3hrhBECLmj\n",
      "song_id 39P8VOo0DlQCb4n1g5b3Wp\n",
      "2oX42qP5ineK3hrhBECLmj\n",
      "song_id 7LlMGu3pRZoaPzkacbjvLB\n",
      "0awl5piYwO0CDTHEkCjUhn\n",
      "song_id 7LlMGu3pRZoaPzkacbjvLB\n",
      "0awl5piYwO0CDTHEkCjUhn\n",
      "song_id 6tBMiqmGh1H2sXpyJZbJuW\n",
      "0awl5piYwO0CDTHEkCjUhn\n",
      "song_id 6tBMiqmGh1H2sXpyJZbJuW\n",
      "0awl5piYwO0CDTHEkCjUhn\n",
      "song_id 1ROoMhOJ2iZ4SAT1RoplqE\n",
      "0awl5piYwO0CDTHEkCjUhn\n",
      "song_id 1ROoMhOJ2iZ4SAT1RoplqE\n",
      "0awl5piYwO0CDTHEkCjUhn\n",
      "song_id 3EXetjrGgwIjDRNn6YA8sa\n",
      "3CygdxquGHurS7f9LjNLkv\n",
      "song_id 3EXetjrGgwIjDRNn6YA8sa\n",
      "3CygdxquGHurS7f9LjNLkv\n",
      "song_id 506ZPBdnMp2dpq800lwmRg\n",
      "3CygdxquGHurS7f9LjNLkv\n",
      "song_id 506ZPBdnMp2dpq800lwmRg\n",
      "3CygdxquGHurS7f9LjNLkv\n",
      "song_id 06APFovkaKPgGmAjWpFtjh\n",
      "1dID9zgn0OV0Y8ud7Mh2tS\n",
      "song_id 6KWXhvzPI5n0JThnSbeBLy\n",
      "2oX42qP5ineK3hrhBECLmj\n",
      "song_id 0xNNvfO88tm2hPLyMWoNBe\n",
      "72fQWyXObQBgUIUejMo6js\n",
      "song_id 4DH3NFCFZ4MXrcNAVJoXHO\n",
      "1mfDfLsMxYcOOZkzBxvSVW\n",
      "song_id 3skFJXP6IJK5VCHudwJFoB\n",
      "1mfDfLsMxYcOOZkzBxvSVW\n",
      "song_id 6eWnot5YKNdBLVDc4I1wRA\n",
      "1mfDfLsMxYcOOZkzBxvSVW\n",
      "song_id 2LYtN9zTbfGPAV5dWgathv\n",
      "1mfDfLsMxYcOOZkzBxvSVW\n",
      "song_id 4Umsx2T1LJHsCXRQAgmSdH\n",
      "1mfDfLsMxYcOOZkzBxvSVW\n",
      "song_id 4MbUKobF4UqsNaIPc2FuU8\n",
      "2oX42qP5ineK3hrhBECLmj\n",
      "song_id 66bVLKIOwOHbHcnO7nLKpL\n",
      "2oX42qP5ineK3hrhBECLmj\n",
      "song_id 5gcQ9obFGkSPciwUjHCgRs\n",
      "2oX42qP5ineK3hrhBECLmj\n",
      "song_id 3bo1h1GwmuI4NYg61mXygC\n",
      "2oX42qP5ineK3hrhBECLmj\n",
      "song_id 1mRiY74pNcCrKkWz6NjdYV\n",
      "2oX42qP5ineK3hrhBECLmj\n",
      "song_id 52wnAU4NzOqRIEMiGNthiK\n",
      "2oX42qP5ineK3hrhBECLmj\n",
      "song_id 3xriS8wd6Q0de39EKMPCTE\n",
      "2oX42qP5ineK3hrhBECLmj\n",
      "song_id 1likxiGuFOCkY2WtGbHj3F\n",
      "2oX42qP5ineK3hrhBECLmj\n",
      "song_id 70bT6oIKDlFzTq2PsrJhLz\n",
      "2oX42qP5ineK3hrhBECLmj\n",
      "song_id 2pEhOVkDWQqNdCfgxW4Nu6\n",
      "2oX42qP5ineK3hrhBECLmj\n",
      "song_id 1tdo8klXa32feVmHxFRF2A\n",
      "2oX42qP5ineK3hrhBECLmj\n",
      "song_id 7mgszK6XFiihnQ7kfrie8N\n",
      "2oX42qP5ineK3hrhBECLmj\n",
      "song_id 5NDUXbMwcnTQp66tI2zcdR\n",
      "2oX42qP5ineK3hrhBECLmj\n",
      "song_id 0dKBg0sPcfOFXFxSs23Xz5\n",
      "0X2BH1fck6amBIoJhDVmmJ\n",
      "song_id 2ePdGDDKWPqlHs6EUTChjT\n",
      "7dGJo4pcD2V6oG8kP0tJRR\n",
      "song_id 0tde8vLCpom617890fuXHf\n",
      "7dGJo4pcD2V6oG8kP0tJRR\n",
      "song_id 080JRRI1MQY0fn2xX2vnI4\n",
      "7dGJo4pcD2V6oG8kP0tJRR\n",
      "song_id 3PAwprj5tcrX8vV9BbBL9X\n",
      "7dGJo4pcD2V6oG8kP0tJRR\n",
      "song_id 6ZMbykUu07aL2Drx988zAq\n",
      "7dGJo4pcD2V6oG8kP0tJRR\n",
      "song_id 73ZnWNMizChSfbu1WcdkFp\n",
      "7dGJo4pcD2V6oG8kP0tJRR\n",
      "song_id 7gUp9s4uY37Ol4JHbXkfVs\n",
      "7dGJo4pcD2V6oG8kP0tJRR\n",
      "song_id 5K1cAG8LPJnBxD09fJ1Icq\n",
      "7dGJo4pcD2V6oG8kP0tJRR\n",
      "song_id 3BbW8Zw2rxuPMy7ZDDkfEF\n",
      "7dGJo4pcD2V6oG8kP0tJRR\n",
      "song_id 5rjwfPBy72CVw6wu7hHIir\n",
      "7dGJo4pcD2V6oG8kP0tJRR\n",
      "song_id 74USwBG39TxXV01pK0neeG\n",
      "7dGJo4pcD2V6oG8kP0tJRR\n",
      "song_id 700hQPJbIplBFTg4UMy37m\n",
      "7dGJo4pcD2V6oG8kP0tJRR\n",
      "song_id 0JE7wIuHb5mM2WYZQgYYZ4\n",
      "7dGJo4pcD2V6oG8kP0tJRR\n",
      "song_id 2zrq58ejc9TtgwZE6Uc43K\n",
      "7dGJo4pcD2V6oG8kP0tJRR\n",
      "song_id 4Ru9UnOtFHILjkznDQeLWV\n",
      "7dGJo4pcD2V6oG8kP0tJRR\n",
      "song_id 1Pon0MnY08gUDyBnXDK4Ll\n",
      "7dGJo4pcD2V6oG8kP0tJRR\n",
      "song_id 1MS3NtbmDZt9ERwrP4ugYt\n",
      "7dGJo4pcD2V6oG8kP0tJRR\n",
      "song_id 6EfpfxnSf198VmAt8ETECc\n",
      "7dGJo4pcD2V6oG8kP0tJRR\n",
      "song_id 3zoqnULGUSg7mA5e65gtMO\n",
      "7dGJo4pcD2V6oG8kP0tJRR\n",
      "song_id 6IvespQWGW4USXwexlVKDm\n",
      "7dGJo4pcD2V6oG8kP0tJRR\n",
      "song_id 3XS5GrXF0XdvhcNYmq8v7W\n",
      "7dGJo4pcD2V6oG8kP0tJRR\n",
      "song_id 1tdX9EEKLg4we2BBf8mWzu\n",
      "20JZFwl6HVl6yg8a4H3ZqK\n",
      "song_id 41HszkNfEE8OKbqermRsgm\n",
      "20JZFwl6HVl6yg8a4H3ZqK\n",
      "song_id 6cum9a3BtaYIBTPrmqsGdd\n",
      "20JZFwl6HVl6yg8a4H3ZqK\n",
      "song_id 5cgcfNRYuyUsn2wWOcFO0j\n",
      "7dGJo4pcD2V6oG8kP0tJRR\n",
      "song_id 68lKzbhZAMxsDJfYWgjjYf\n",
      "20JZFwl6HVl6yg8a4H3ZqK\n",
      "song_id 15f1eR2oh2fiXLgod096wF\n",
      "20JZFwl6HVl6yg8a4H3ZqK\n",
      "song_id 5FEV9pypGEx6ndrF3V0cX9\n",
      "20JZFwl6HVl6yg8a4H3ZqK\n",
      "song_id 7CcoUAtUcYhUfBsmtn0ajO\n",
      "7dGJo4pcD2V6oG8kP0tJRR\n",
      "song_id 4M7dn3CxwfaUfEZpS4yXj8\n",
      "20JZFwl6HVl6yg8a4H3ZqK\n",
      "song_id 3Xqk2oXSwyCamRW58w6p0O\n",
      "20JZFwl6HVl6yg8a4H3ZqK\n",
      "song_id 7mZ1A9pbWPvIAkbvcvFgdG\n",
      "20JZFwl6HVl6yg8a4H3ZqK\n",
      "song_id 4ub0WswLOa1xf8LMtc03ZS\n",
      "20JZFwl6HVl6yg8a4H3ZqK\n",
      "song_id 14u56kXmNRjyWJI28qj4qg\n",
      "20JZFwl6HVl6yg8a4H3ZqK\n",
      "song_id 3VxIsNkzxWQA8sPUT13qeb\n",
      "20JZFwl6HVl6yg8a4H3ZqK\n",
      "song_id 3ZvAEbxNItDMXcqbIkC5zc\n",
      "20JZFwl6HVl6yg8a4H3ZqK\n",
      "song_id 49heun7OiWwsdhUyoukbBV\n",
      "20JZFwl6HVl6yg8a4H3ZqK\n",
      "song_id 7HzfAGGKnYVEHVsdkGUbXu\n",
      "20JZFwl6HVl6yg8a4H3ZqK\n",
      "song_id 4H8LoXbgzwbPotHKaxSH6o\n",
      "20JZFwl6HVl6yg8a4H3ZqK\n",
      "song_id 68wbhtYYm11CSO7cZVjfEx\n",
      "20JZFwl6HVl6yg8a4H3ZqK\n",
      "song_id 7wnYW5zboAaiHE5KBaVc0Z\n",
      "20JZFwl6HVl6yg8a4H3ZqK\n",
      "song_id 3GHDGjWdd8gL6gRvoQAcuD\n",
      "20JZFwl6HVl6yg8a4H3ZqK\n",
      "song_id 6Bbfrwsxahx93fqRG9nNVI\n",
      "7dGJo4pcD2V6oG8kP0tJRR\n",
      "song_id 13aKdwvdGjuZDv2OOKyvs7\n",
      "7dGJo4pcD2V6oG8kP0tJRR\n",
      "song_id 02d3MXxsO0AP3DsoJGOaIt\n",
      "20JZFwl6HVl6yg8a4H3ZqK\n",
      "song_id 5lHxUGPPC3wtZH8UQxsFr7\n",
      "20JZFwl6HVl6yg8a4H3ZqK\n",
      "song_id 2tKJpsRSTxmGAe6TKcstR4\n",
      "7dGJo4pcD2V6oG8kP0tJRR\n",
      "song_id 2Ie7pnF3ZKNTde30TQWlWx\n",
      "7dGJo4pcD2V6oG8kP0tJRR\n",
      "song_id 3GOjD8hwXOxbTF3apTqSqX\n",
      "7dGJo4pcD2V6oG8kP0tJRR\n",
      "song_id 3xpTHrC1b6dmiLEeM5jO0z\n",
      "7dGJo4pcD2V6oG8kP0tJRR\n",
      "song_id 5uvwJAheJJEkgu88t3Wqf5\n",
      "7dGJo4pcD2V6oG8kP0tJRR\n",
      "song_id 4UTpObwAYO67yymOoCeXwS\n",
      "7dGJo4pcD2V6oG8kP0tJRR\n",
      "song_id 74dQwVKuCx6aDI2BQ7xW92\n",
      "7dGJo4pcD2V6oG8kP0tJRR\n",
      "song_id 6W7S53lgpg3a9yhhFjsw1O\n",
      "7dGJo4pcD2V6oG8kP0tJRR\n",
      "song_id 1Z6zFQkBrkC7xLxNUGpqLX\n",
      "7dGJo4pcD2V6oG8kP0tJRR\n",
      "song_id 5bhU7doemcqZdhe7s9Vhvl\n",
      "7dGJo4pcD2V6oG8kP0tJRR\n",
      "song_id 4xs1uoAjiWAEecX9yKGSF6\n",
      "7dGJo4pcD2V6oG8kP0tJRR\n",
      "song_id 6ogACNVtzSJHzqLhzUegaf\n",
      "7dGJo4pcD2V6oG8kP0tJRR\n",
      "song_id 00jw9Hq5M0bPP6e9MtccYa\n",
      "7dGJo4pcD2V6oG8kP0tJRR\n",
      "song_id 7bg1CK9oUilTuka9nK9yMd\n",
      "7dGJo4pcD2V6oG8kP0tJRR\n",
      "song_id 5zt4yH6wvJLDA1keqXn0Z6\n",
      "7dGJo4pcD2V6oG8kP0tJRR\n",
      "song_id 1cS0TgbR263ey9jn0MwD2s\n",
      "7dGJo4pcD2V6oG8kP0tJRR\n",
      "song_id 2HEIpgYgLvi9gjT6yiQi21\n",
      "7dGJo4pcD2V6oG8kP0tJRR\n",
      "song_id 4DXgxVsZkarj4ecSvufCLY\n",
      "7dGJo4pcD2V6oG8kP0tJRR\n",
      "song_id 6obzd49byrkSzeLACSBRfQ\n",
      "7dGJo4pcD2V6oG8kP0tJRR\n",
      "song_id 4g6SoR80XwDaQb7gq5yrtu\n",
      "7dGJo4pcD2V6oG8kP0tJRR\n",
      "song_id 6B2ERbVUDfIiUNXCWhjzFG\n",
      "7dGJo4pcD2V6oG8kP0tJRR\n",
      "song_id 5qykEZTHAcplCLrynoLRnN\n",
      "7dGJo4pcD2V6oG8kP0tJRR\n",
      "song_id 0lc70Jh2s1iOMuv9XIEhFy\n",
      "7dGJo4pcD2V6oG8kP0tJRR\n",
      "song_id 3fYptFSlH8Xs7Uoybytyrm\n",
      "7dGJo4pcD2V6oG8kP0tJRR\n",
      "song_id 0IrPzoETPYAwuYp0KUSbQz\n",
      "7dGJo4pcD2V6oG8kP0tJRR\n",
      "song_id 3dRO9sXNCYhfenuLiz7Btr\n",
      "7dGJo4pcD2V6oG8kP0tJRR\n",
      "song_id 6C4wzRGiqHfb19Uovt5z9U\n",
      "7dGJo4pcD2V6oG8kP0tJRR\n",
      "song_id 0TMP6JdVOg8UkSbgZgtJQG\n",
      "7dGJo4pcD2V6oG8kP0tJRR\n",
      "song_id 7ntU619k40YVxcRvFNDTNn\n",
      "7dGJo4pcD2V6oG8kP0tJRR\n",
      "song_id 52rso4Bep9gCSl3ObFUff9\n",
      "7dGJo4pcD2V6oG8kP0tJRR\n",
      "song_id 2KEWMwCDnEqY0r3iiCO8U3\n",
      "7dGJo4pcD2V6oG8kP0tJRR\n",
      "song_id 0iw1fXxzNorpcTu74CbK9j\n",
      "7dGJo4pcD2V6oG8kP0tJRR\n",
      "song_id 3vNOZYQjvFlaV8V89u4tnn\n",
      "7dGJo4pcD2V6oG8kP0tJRR\n",
      "song_id 43gkpt0eCADWvcTcTisuiH\n",
      "7dGJo4pcD2V6oG8kP0tJRR\n",
      "song_id 1DdUn6jqqSYR9jPPCvthJ5\n",
      "7dGJo4pcD2V6oG8kP0tJRR\n",
      "song_id 2tQnJFGS1YXhXJulEHR43p\n",
      "7dGJo4pcD2V6oG8kP0tJRR\n",
      "song_id 35d4OBNGNQXrPsDgC6OmOY\n",
      "7dGJo4pcD2V6oG8kP0tJRR\n",
      "song_id 5WBMQUD0mhKXR4IvlUrsZQ\n",
      "7dGJo4pcD2V6oG8kP0tJRR\n",
      "song_id 15ipHZ8RYqaIdqpS7BBptR\n",
      "7dGJo4pcD2V6oG8kP0tJRR\n",
      "song_id 6KJSuUH8wgdpHPA0a3pJI0\n",
      "7dGJo4pcD2V6oG8kP0tJRR\n",
      "song_id 7AHIAI5bd3T8U5NSdOu61H\n",
      "7dGJo4pcD2V6oG8kP0tJRR\n",
      "song_id 2WgTjvm0YQcMvWok8wmuAe\n",
      "7dGJo4pcD2V6oG8kP0tJRR\n",
      "song_id 20gYlGScQn3L9IYtIBRtJR\n",
      "7dGJo4pcD2V6oG8kP0tJRR\n",
      "song_id 15jr9X3nEkIU9iMwEYcADk\n",
      "7dGJo4pcD2V6oG8kP0tJRR\n",
      "120000\n",
      "song_id 5pPfUwxfhwP32cqQZB8rdS\n",
      "7dGJo4pcD2V6oG8kP0tJRR\n",
      "song_id 10XzRtOGQGQoLPQIn7g2Jn\n",
      "7dGJo4pcD2V6oG8kP0tJRR\n",
      "song_id 2E25LeiJ4BgYgvHj6sfUG5\n",
      "7dGJo4pcD2V6oG8kP0tJRR\n",
      "song_id 79KuQ6hgQSwhLMqQHsr1Rx\n",
      "7dGJo4pcD2V6oG8kP0tJRR\n",
      "song_id 05lnwvpmUysjgQVYQkuFP3\n",
      "7dGJo4pcD2V6oG8kP0tJRR\n",
      "song_id 7EDaIuZXItw8YSb1Wkmsgi\n",
      "7dGJo4pcD2V6oG8kP0tJRR\n",
      "song_id 4iTyf5pLZMOR8YrEZgSopo\n",
      "7dGJo4pcD2V6oG8kP0tJRR\n",
      "song_id 0stPNUkU1LZnvxIcfrKnEZ\n",
      "4xFUf1FHVy696Q1JQZMTRj\n",
      "song_id 0stPNUkU1LZnvxIcfrKnEZ\n",
      "4xFUf1FHVy696Q1JQZMTRj\n",
      "song_id 7kHE4NG6OQ8D9UrXojQG2L\n",
      "7iZtZyCzp3LItcw1wtPI3D\n",
      "song_id 7kHE4NG6OQ8D9UrXojQG2L\n",
      "7iZtZyCzp3LItcw1wtPI3D\n",
      "song_id 5oKxax66OjT1ZD8UTCy61h\n",
      "7iZtZyCzp3LItcw1wtPI3D\n",
      "song_id 5oKxax66OjT1ZD8UTCy61h\n",
      "7iZtZyCzp3LItcw1wtPI3D\n",
      "song_id 5IaTbmfClU9YmW9vjZr86l\n",
      "2ysnwxxNtSgbb9t1m2Ur4j\n",
      "song_id 0Cy7wt6IlRfBPHXXjmZbcP\n",
      "0X2BH1fck6amBIoJhDVmmJ\n",
      "song_id 6OkfJkVO5anGzXuSFzMBD7\n",
      "0X2BH1fck6amBIoJhDVmmJ\n",
      "song_id 7HB7Wj26nYVo8CquzM7yX3\n",
      "5Rl15oVamLq7FbSb0NNBNy\n",
      "song_id 5j1sD9Y23NBdidWUKx22Ss\n",
      "1o2NpYGqHiCq7FoiYdyd1x\n",
      "song_id 6h3lMAmmpQDFqoHk9F99IR\n",
      "1o2NpYGqHiCq7FoiYdyd1x\n",
      "song_id 3EGxhUpcKaYixmxNlSABDo\n",
      "1o2NpYGqHiCq7FoiYdyd1x\n",
      "song_id 4J1O1ERHhqtkOfdF9L6zyG\n",
      "1o2NpYGqHiCq7FoiYdyd1x\n",
      "song_id 7uki6xMVoqcnF5BnMakRuk\n",
      "1o2NpYGqHiCq7FoiYdyd1x\n",
      "song_id 6E37j4b44JGpdk297urpKM\n",
      "1o2NpYGqHiCq7FoiYdyd1x\n",
      "song_id 7o6Hh7RLYO6DJXz1aAngt4\n",
      "1o2NpYGqHiCq7FoiYdyd1x\n",
      "song_id 3UPBYd4oGa7D7DZKU2ACYd\n",
      "1o2NpYGqHiCq7FoiYdyd1x\n",
      "song_id 0I1fzd8diPdEqCIW7NCyaj\n",
      "1o2NpYGqHiCq7FoiYdyd1x\n",
      "song_id 7uVkYr8gxcPEgqohvynpdN\n",
      "1mfDfLsMxYcOOZkzBxvSVW\n",
      "song_id 72UH76lI4ZDTDoLg3b0KNG\n",
      "1o2NpYGqHiCq7FoiYdyd1x\n",
      "song_id 5V7wh1SBtYZTqRLEsBuZAL\n",
      "1o2NpYGqHiCq7FoiYdyd1x\n",
      "130000\n",
      "song_id 1qFMIjTe9esCDiytqUY19t\n",
      "1o2NpYGqHiCq7FoiYdyd1x\n",
      "song_id 32K03Gjk3OVL7fMQqrI5gA\n",
      "1o2NpYGqHiCq7FoiYdyd1x\n",
      "song_id 6d1alyPmQMTn99yk2wlw47\n",
      "1o2NpYGqHiCq7FoiYdyd1x\n",
      "song_id 2mjAAxeZZABdhVl1qojJgt\n",
      "6S2OmqARrzebs0tKUEyXyp\n",
      "song_id 4u6eRWSXvzVZtRP6m48Psx\n",
      "4TONBKcqVR1LmPdfJxvkMU\n",
      "song_id 6bRglO9LdRhEp84CUyOhQw\n",
      "6S2OmqARrzebs0tKUEyXyp\n",
      "song_id 6oGAlnYsUl59EsgJYhCw4p\n",
      "6S2OmqARrzebs0tKUEyXyp\n",
      "song_id 2ujKy5FifGfmhAwQ0dKNxC\n",
      "6S2OmqARrzebs0tKUEyXyp\n",
      "song_id 374iA7aY6LstovLWSdFSPR\n",
      "6S2OmqARrzebs0tKUEyXyp\n",
      "song_id 2scOpCkXHdjx5Pba0T1S68\n",
      "6S2OmqARrzebs0tKUEyXyp\n",
      "song_id 0GClW3t01F6itGc0ltfwHg\n",
      "6S2OmqARrzebs0tKUEyXyp\n",
      "song_id 1K6WHHqLXlqyGxX2lUMQr3\n",
      "6S2OmqARrzebs0tKUEyXyp\n",
      "song_id 41cOJmzPFy8ktmivr9QkIe\n",
      "6S2OmqARrzebs0tKUEyXyp\n",
      "song_id 18W92Zm1KjLCbUIszOhpkD\n",
      "1o2NpYGqHiCq7FoiYdyd1x\n",
      "song_id 6VWzk81ssjLIDz2KrRL8yr\n",
      "6S2OmqARrzebs0tKUEyXyp\n",
      "song_id 575i6f2hapJeDVLVoXsuzp\n",
      "7dGJo4pcD2V6oG8kP0tJRR\n",
      "song_id 1pRjlrQMZYo1K5i1RcLGs7\n",
      "7dGJo4pcD2V6oG8kP0tJRR\n",
      "song_id 74uw5w1wZYFYg5aXGyPo4r\n",
      "7dGJo4pcD2V6oG8kP0tJRR\n",
      "song_id 1xnWoFX9qHGuWWUHc6yW9o\n",
      "2ysnwxxNtSgbb9t1m2Ur4j\n",
      "song_id 31voQLZT0j8hrp8SUXekK4\n",
      "6S2OmqARrzebs0tKUEyXyp\n",
      "song_id 4nBYMqoZ3lq7bxK4vmbAnZ\n",
      "6S2OmqARrzebs0tKUEyXyp\n",
      "song_id 0B7mTh64XSx5myv1BwlMmH\n",
      "6S2OmqARrzebs0tKUEyXyp\n",
      "song_id 2p7i2DYWGvoA38j8PvsLhU\n",
      "6S2OmqARrzebs0tKUEyXyp\n",
      "song_id 3Tcc4BHv7LBnanf9yLnWCI\n",
      "6S2OmqARrzebs0tKUEyXyp\n",
      "song_id 5zRE7QOGlQdx16WcvI4esG\n",
      "6S2OmqARrzebs0tKUEyXyp\n",
      "song_id 1lMmFfgCWa0Hl0sv3glSX4\n",
      "6S2OmqARrzebs0tKUEyXyp\n",
      "song_id 2F4BTAZCwc2OsvRz80Vee6\n",
      "6S2OmqARrzebs0tKUEyXyp\n",
      "song_id 0qNPKhECUPUdq4JMODfuJ8\n",
      "6S2OmqARrzebs0tKUEyXyp\n",
      "song_id 2JVwsN6viHjR9t5pCPQ4Br\n",
      "2ysnwxxNtSgbb9t1m2Ur4j\n",
      "song_id 38zwkK6TtTjIW9tpYBfZ3D\n",
      "2ysnwxxNtSgbb9t1m2Ur4j\n",
      "song_id 3rGGGUvG6YXzNaqD1yzdzW\n",
      "2ysnwxxNtSgbb9t1m2Ur4j\n",
      "song_id 4JSDMODQLLa35g8PsOM26o\n",
      "2ysnwxxNtSgbb9t1m2Ur4j\n",
      "song_id 1bYW7P6Uk83IJU61eozUfE\n",
      "2ysnwxxNtSgbb9t1m2Ur4j\n",
      "song_id 42bbDWZ8WmXTH7PkYAlGLu\n",
      "2ysnwxxNtSgbb9t1m2Ur4j\n",
      "song_id 2UOytD96KzsV0PyDI9uPTu\n",
      "2ysnwxxNtSgbb9t1m2Ur4j\n",
      "song_id 22GUd9JOxhSidGguHxf3Nu\n",
      "2ysnwxxNtSgbb9t1m2Ur4j\n",
      "song_id 4ofwffwvvnbSkrMSCKQDaC\n",
      "2ysnwxxNtSgbb9t1m2Ur4j\n",
      "song_id 0SQN1rxWySXy2K2imvcpTr\n",
      "2ysnwxxNtSgbb9t1m2Ur4j\n",
      "song_id 197haCqQ3ehyUC6jmTC9cj\n",
      "2ysnwxxNtSgbb9t1m2Ur4j\n",
      "song_id 1OBvRtqgypM0IFPqxXVMEr\n",
      "1vSN1fsvrzpbttOYGsliDr\n",
      "song_id 1OBvRtqgypM0IFPqxXVMEr\n",
      "1vSN1fsvrzpbttOYGsliDr\n",
      "song_id 4VvfQcX5xx9EzdY6oMx0ES\n",
      "1vSN1fsvrzpbttOYGsliDr\n",
      "song_id 4VvfQcX5xx9EzdY6oMx0ES\n",
      "1vSN1fsvrzpbttOYGsliDr\n",
      "song_id 3cNKEvmeeVjDoQwKM7Phvs\n",
      "5Rl15oVamLq7FbSb0NNBNy\n",
      "song_id 22E7Q49XIMotIXsxgsHBBD\n",
      "5Rl15oVamLq7FbSb0NNBNy\n",
      "song_id 2SKSUxtD60P62m9sG6QUhL\n",
      "3CygdxquGHurS7f9LjNLkv\n",
      "song_id 48mT0UnkDbUChRUEQBxHM9\n",
      "7iZtZyCzp3LItcw1wtPI3D\n",
      "song_id 2ZFrEp20VO25BXYhMxh0GW\n",
      "3grHWM9bx2E9vwJCdlRv9O\n",
      "song_id 47gqRMoIkFm7Rac86xZVh7\n",
      "4xFUf1FHVy696Q1JQZMTRj\n",
      "song_id 55S2PQgSMYAhgoTCcGCDfw\n",
      "5Rl15oVamLq7FbSb0NNBNy\n",
      "song_id 5EDeH37Fs2Is21GhWJEV8o\n",
      "6x2LnllRG5uGarZMsD4iO8\n",
      "song_id 2jfxgvlFmXQzUxTfCSEwmR\n",
      "6x2LnllRG5uGarZMsD4iO8\n",
      "song_id 4nZTWmO2GyD2EFgc0hxNOm\n",
      "6x2LnllRG5uGarZMsD4iO8\n",
      "song_id 4TiPjLdJZtxQNioHxpgBaJ\n",
      "6x2LnllRG5uGarZMsD4iO8\n",
      "song_id 1rhZ1jCHPHwNSH6VSNNkjc\n",
      "6VxCmtR7S3yz4vnzsJqhSV\n",
      "140000\n",
      "song_id 4jPrT31sSgKHikffKSLt8q\n",
      "0u2FHSq3ln94y5Q57xazwf\n",
      "song_id 4pWb8UZ6IPVJA3CPjCNgzq\n",
      "0u2FHSq3ln94y5Q57xazwf\n",
      "song_id 1QJvq84l7YcVCyIkGA602c\n",
      "0u2FHSq3ln94y5Q57xazwf\n",
      "song_id 4m21Y1hcRYAmuYYUuohbWM\n",
      "0u2FHSq3ln94y5Q57xazwf\n",
      "song_id 7KAIUxPbvLrCs33iMpi93H\n",
      "0u2FHSq3ln94y5Q57xazwf\n",
      "song_id 6wEWlttx3wUooRC7ydITFL\n",
      "0u2FHSq3ln94y5Q57xazwf\n",
      "song_id 567gPvGfxxKoZxDKqM9tEl\n",
      "0u2FHSq3ln94y5Q57xazwf\n",
      "song_id 7xUv1Igrk1WG79VfD0xsXS\n",
      "0u2FHSq3ln94y5Q57xazwf\n",
      "song_id 4GTC9O0btnjO7rQJO6Fxdu\n",
      "0u2FHSq3ln94y5Q57xazwf\n",
      "song_id 66yLdCqE3II294Bp8TRV9W\n",
      "0u2FHSq3ln94y5Q57xazwf\n",
      "song_id 4GuGKnfpF047w9l4rylspG\n",
      "0u2FHSq3ln94y5Q57xazwf\n",
      "song_id 0aSkvPKb8Cxa6Y0l3XEeeg\n",
      "0u2FHSq3ln94y5Q57xazwf\n",
      "song_id 6p01Q7WF857BsAsByBXyaG\n",
      "0u2FHSq3ln94y5Q57xazwf\n",
      "song_id 7yk6FXxIoIdCp3rgc4Uz5E\n",
      "0u2FHSq3ln94y5Q57xazwf\n",
      "song_id 1t34UsQ634a233qysq6D6L\n",
      "0u2FHSq3ln94y5Q57xazwf\n",
      "song_id 1SmEMvjRkff8V9mORj25g3\n",
      "0u2FHSq3ln94y5Q57xazwf\n",
      "song_id 5UsQAfAhuVLk2K52CzTeGr\n",
      "0YklCNXJmtsiaFPCEjWXut\n",
      "song_id 5HnXcJJbNXQQ7tRlQ9VN1v\n",
      "1dID9zgn0OV0Y8ud7Mh2tS\n",
      "song_id 6Pce5yn5oOSDB6hZm8Ou2U\n",
      "7n2wHs1TKAczGzO7Dd2rGr\n",
      "song_id 5eFfsbjSouG8qOpg9ZqDl6\n",
      "2kucQ9jQwuD8jWdtR9Ef38\n",
      "song_id 5eFfsbjSouG8qOpg9ZqDl6\n",
      "2kucQ9jQwuD8jWdtR9Ef38\n",
      "song_id 25qfFpoGhk9Njgu5nl36sS\n",
      "6S2OmqARrzebs0tKUEyXyp\n",
      "song_id 6kPJZM97LwdG9QIsT7khp6\n",
      "6S2OmqARrzebs0tKUEyXyp\n",
      "song_id 7pe1Y1LvoRYQTLbaqS05Vg\n",
      "7n2wHs1TKAczGzO7Dd2rGr\n",
      "song_id 732iQF09gPlc32IlBGoXvv\n",
      "7n2wHs1TKAczGzO7Dd2rGr\n",
      "song_id 2QZ7WLBE8h2y1Y5Fb8RYbH\n",
      "7n2wHs1TKAczGzO7Dd2rGr\n",
      "song_id 2CqnpBHeQGfgj8FDB7zuTv\n",
      "6S2OmqARrzebs0tKUEyXyp\n",
      "150000\n",
      "song_id 5weKCP07IGA1565wfI3cZ1\n",
      "6eUKZXaKkcviH0Ku9w2n3V\n",
      "song_id 5weKCP07IGA1565wfI3cZ1\n",
      "6eUKZXaKkcviH0Ku9w2n3V\n",
      "song_id 5wxurz8J6YlyQRNnGN8zXS\n",
      "7n2wHs1TKAczGzO7Dd2rGr\n",
      "song_id 2IssBpPtHcViZL5vYQNHhA\n",
      "7n2wHs1TKAczGzO7Dd2rGr\n",
      "song_id 79esEXlqqmq0GPz0xQSZTV\n",
      "7n2wHs1TKAczGzO7Dd2rGr\n",
      "song_id 4BH9zDv1Ys6kw0j3lU1hTx\n",
      "7n2wHs1TKAczGzO7Dd2rGr\n",
      "song_id 1RRZSm4akqNyMOsPUhw4cb\n",
      "7n2wHs1TKAczGzO7Dd2rGr\n",
      "song_id 376Gg7Oxo5C5jUWDWpVXeI\n",
      "7n2wHs1TKAczGzO7Dd2rGr\n",
      "song_id 5EYBryPOgIEPB7r5QIy6eG\n",
      "7n2wHs1TKAczGzO7Dd2rGr\n",
      "song_id 3XeqINnregzwBJNg7RyyH4\n",
      "7n2wHs1TKAczGzO7Dd2rGr\n",
      "song_id 1h0yImRPIVAjhhHeNVlTuC\n",
      "7n2wHs1TKAczGzO7Dd2rGr\n",
      "song_id 6D8FZWtCQRtQUVT3mpjrZs\n",
      "7n2wHs1TKAczGzO7Dd2rGr\n",
      "song_id 6nat4Z7iRKWVk1qngQqI0Q\n",
      "7n2wHs1TKAczGzO7Dd2rGr\n",
      "song_id 5gW3kI83886nVV9apaFLWu\n",
      "7n2wHs1TKAczGzO7Dd2rGr\n",
      "song_id 6bNcbh4SxQDU0BHa4Dj3wx\n",
      "7n2wHs1TKAczGzO7Dd2rGr\n",
      "song_id 4ExaNKaycGTnRrBlaz69fq\n",
      "3b8QkneNDz4JHKKKlLgYZg\n",
      "song_id 4ExaNKaycGTnRrBlaz69fq\n",
      "3b8QkneNDz4JHKKKlLgYZg\n",
      "song_id 6kH01KoU0eNgOmiUWvHGVk\n",
      "2ysnwxxNtSgbb9t1m2Ur4j\n",
      "song_id 78dhp5G3n3KbA2ThlSkl2b\n",
      "1o2NpYGqHiCq7FoiYdyd1x\n",
      "song_id 2W4dm4TWpjq6WHVXcPINBl\n",
      "2ysnwxxNtSgbb9t1m2Ur4j\n",
      "song_id 5EqlEvrylr3DNy3R11Kmrz\n",
      "5Rl15oVamLq7FbSb0NNBNy\n",
      "song_id 1uuUnsWpJwqBh5GRQ8uxla\n",
      "6eUKZXaKkcviH0Ku9w2n3V\n",
      "song_id 1uuUnsWpJwqBh5GRQ8uxla\n",
      "6eUKZXaKkcviH0Ku9w2n3V\n",
      "song_id 2fCapAlFJYfXn82dttdzkc\n",
      "3CygdxquGHurS7f9LjNLkv\n",
      "song_id 0L65Q96BYdbLMvXggkqvQc\n",
      "06HL4z0CvFAxyc27GXpf02\n",
      "song_id 0L65Q96BYdbLMvXggkqvQc\n",
      "06HL4z0CvFAxyc27GXpf02\n",
      "song_id 0L65Q96BYdbLMvXggkqvQc\n",
      "06HL4z0CvFAxyc27GXpf02\n",
      "song_id 0SoK5u8MD2VVikNPwXBz74\n",
      "06HL4z0CvFAxyc27GXpf02\n",
      "song_id 0SoK5u8MD2VVikNPwXBz74\n",
      "06HL4z0CvFAxyc27GXpf02\n",
      "song_id 0SoK5u8MD2VVikNPwXBz74\n",
      "06HL4z0CvFAxyc27GXpf02\n",
      "song_id 6clKcUAaMHTlSR8MgT3QvS\n",
      "6eUKZXaKkcviH0Ku9w2n3V\n",
      "song_id 6clKcUAaMHTlSR8MgT3QvS\n",
      "6eUKZXaKkcviH0Ku9w2n3V\n",
      "song_id 7fRruZ12gXGwBs0zXQ6e5V\n",
      "06HL4z0CvFAxyc27GXpf02\n",
      "song_id 7fRruZ12gXGwBs0zXQ6e5V\n",
      "06HL4z0CvFAxyc27GXpf02\n",
      "song_id 7fRruZ12gXGwBs0zXQ6e5V\n",
      "06HL4z0CvFAxyc27GXpf02\n",
      "song_id 2Sy2oGjP5RYB4cLVoDU0Gz\n",
      "06HL4z0CvFAxyc27GXpf02\n",
      "song_id 2Sy2oGjP5RYB4cLVoDU0Gz\n",
      "06HL4z0CvFAxyc27GXpf02\n",
      "song_id 2Sy2oGjP5RYB4cLVoDU0Gz\n",
      "06HL4z0CvFAxyc27GXpf02\n",
      "song_id 5GNLgyyWrRobRt3hf8oRwX\n",
      "6x2LnllRG5uGarZMsD4iO8\n",
      "song_id 6axMDyb9uCb30oXvVSlANp\n",
      "6S2OmqARrzebs0tKUEyXyp\n",
      "song_id 1edNuJWRjS9klBNo5X9D36\n",
      "6S2OmqARrzebs0tKUEyXyp\n",
      "song_id 66UeVBNdFgBD4dvRjRzQgC\n",
      "6S2OmqARrzebs0tKUEyXyp\n",
      "song_id 29zBeRiLVnkDEj7tvmLVOU\n",
      "6S2OmqARrzebs0tKUEyXyp\n",
      "song_id 2vHfabj6nFebekTYODqntl\n",
      "5Rl15oVamLq7FbSb0NNBNy\n",
      "song_id 3plE4zsf3zt0dEacVYlURF\n",
      "6S2OmqARrzebs0tKUEyXyp\n",
      "song_id 5up5uXChMJLKyuop9HwtCb\n",
      "2ysnwxxNtSgbb9t1m2Ur4j\n",
      "song_id 3gT9vNTLVcidZZ9JW0Ypzo\n",
      "2ysnwxxNtSgbb9t1m2Ur4j\n",
      "song_id 40rMvmTT9RX4KB0JzMNYZO\n",
      "5Rl15oVamLq7FbSb0NNBNy\n",
      "song_id 0nCVLAhIUrLQ34Vw5vTXNP\n",
      "5Rl15oVamLq7FbSb0NNBNy\n",
      "song_id 5FA9XC36IlV9bnhMqqzNc9\n",
      "5Rl15oVamLq7FbSb0NNBNy\n",
      "song_id 0qrYEShkVZeSaBPgmx3mfR\n",
      "5Rl15oVamLq7FbSb0NNBNy\n",
      "song_id 66vUuzBvVOfMjWnsABs0jm\n",
      "5Rl15oVamLq7FbSb0NNBNy\n",
      "song_id 1pMrGc8rMC5qx0zMak8tkd\n",
      "5Rl15oVamLq7FbSb0NNBNy\n",
      "song_id 19hh7DkfRBrpRGYfKlw7jb\n",
      "5Rl15oVamLq7FbSb0NNBNy\n",
      "song_id 3567eNX2L3RkkMkwspncMH\n",
      "5Rl15oVamLq7FbSb0NNBNy\n",
      "song_id 2iUXsYOEPhVqEBwsqP70rE\n",
      "5Rl15oVamLq7FbSb0NNBNy\n",
      "song_id 5kayspK9ep7h9nryvrCsFh\n",
      "5Rl15oVamLq7FbSb0NNBNy\n",
      "song_id 1MhXdlCQPnO56T57MfmaRm\n",
      "5Rl15oVamLq7FbSb0NNBNy\n",
      "song_id 7CQN84rMdkBzXJVsvefOM6\n",
      "5Rl15oVamLq7FbSb0NNBNy\n",
      "song_id 4UQajPk0EPvbwWTl0fYi4C\n",
      "5Rl15oVamLq7FbSb0NNBNy\n",
      "song_id 6PUYqQtGWVAovZrLC9BIqt\n",
      "5Rl15oVamLq7FbSb0NNBNy\n",
      "song_id 4YYmvuwndD3YNfi43M7EC5\n",
      "5Rl15oVamLq7FbSb0NNBNy\n",
      "song_id 2BNQpd87nSv475zdww9K0Z\n",
      "6JL8zeS1NmiOftqZTRgdTz\n",
      "song_id 0STK94RxUulYqWzwFlyAb5\n",
      "6S2OmqARrzebs0tKUEyXyp\n",
      "song_id 4e4fqjx0Izh4svvTef1z7e\n",
      "3b8QkneNDz4JHKKKlLgYZg\n",
      "song_id 4e4fqjx0Izh4svvTef1z7e\n",
      "3b8QkneNDz4JHKKKlLgYZg\n",
      "song_id 2vIzH4NfFGoJHA5rn1dFWT\n",
      "5Rl15oVamLq7FbSb0NNBNy\n",
      "160000\n",
      "song_id 7qTkm2WuouvivLT9Ief1zK\n",
      "6S2OmqARrzebs0tKUEyXyp\n",
      "song_id 5OaRqgnamUsa99HzxSTdDv\n",
      "0X2BH1fck6amBIoJhDVmmJ\n",
      "song_id 0w6Ia1SRUyaHZVz9GzORDx\n",
      "4MIULe6tfg2loNzBy5B9eu\n",
      "song_id 7tGUbdPXUeANnZ00aZTrci\n",
      "360IAlyVv4PCEVjgyMZrxK\n",
      "song_id 0qI4TYcBno4YBhjuH3HV0A\n",
      "360IAlyVv4PCEVjgyMZrxK\n",
      "song_id 4jMix3s0QVoROq5ttfbsRq\n",
      "5WRElKaZsn1tGnrgmJVAeO\n",
      "song_id 1cfqBK4m6BT6TwsOS7vsA0\n",
      "5WRElKaZsn1tGnrgmJVAeO\n",
      "song_id 43leIkqjRU95aAi5Dokdge\n",
      "5WRElKaZsn1tGnrgmJVAeO\n",
      "song_id 0N9uZRrJQ3lO5TmInEjLxc\n",
      "1vSN1fsvrzpbttOYGsliDr\n",
      "song_id 2VX37A1p7tkvrH2UJwAU0T\n",
      "2IvkS5MXK0vPGnwyJsrEyV\n",
      "song_id 7cvWhrerHqXd7EEsqMF5H1\n",
      "4MIULe6tfg2loNzBy5B9eu\n",
      "song_id 2DJphgVmxWj44EGujsFWjQ\n",
      "4MIULe6tfg2loNzBy5B9eu\n",
      "song_id 5ubwXXOsH9bUhZsQ0Cybha\n",
      "2NdeV5rLm47xAvogXrYhJX\n",
      "song_id 5cPQZqQ0Dcr9MOzaDudUT1\n",
      "6S2OmqARrzebs0tKUEyXyp\n",
      "song_id 357oRj2nlGc9QLjMGifVtS\n",
      "3grHWM9bx2E9vwJCdlRv9O\n",
      "song_id 6kw5rCgHgarcLUVQ3ObU7F\n",
      "3grHWM9bx2E9vwJCdlRv9O\n",
      "song_id 4mpNeOXC1EGNr6RpScWLDy\n",
      "3grHWM9bx2E9vwJCdlRv9O\n",
      "song_id 54lLPKdSIrq8JZMfPC8SZs\n",
      "3grHWM9bx2E9vwJCdlRv9O\n",
      "song_id 6wrzvEu8Sk7sDf6W9ESVui\n",
      "3grHWM9bx2E9vwJCdlRv9O\n",
      "song_id 5DESvl3uwQxvVoiFnDmv3m\n",
      "3grHWM9bx2E9vwJCdlRv9O\n",
      "song_id 6n6OQfBpCgzF9oEg8zhBN7\n",
      "3grHWM9bx2E9vwJCdlRv9O\n",
      "song_id 5LNe2e8ABKkCFrCpkPUicZ\n",
      "3grHWM9bx2E9vwJCdlRv9O\n",
      "song_id 2brxH4Y4dD0I0a9s8EzN9E\n",
      "3grHWM9bx2E9vwJCdlRv9O\n",
      "song_id 0DqVcM4kkBSvVr90o5c96k\n",
      "3grHWM9bx2E9vwJCdlRv9O\n",
      "song_id 30rdl2y5BPcpNq3GMJ5fGK\n",
      "6S2OmqARrzebs0tKUEyXyp\n",
      "song_id 2UgWtnyxUEVbQiLKq29fZ3\n",
      "3grHWM9bx2E9vwJCdlRv9O\n",
      "song_id 3a1QSvzb3ypLc1QpXTs9mU\n",
      "6eUKZXaKkcviH0Ku9w2n3V\n",
      "song_id 3a1QSvzb3ypLc1QpXTs9mU\n",
      "6eUKZXaKkcviH0Ku9w2n3V\n",
      "song_id 5GX8tkDLPgNOtpY9JqdO1X\n",
      "13YmWQJFwgZrd4bf5IjMY4\n",
      "song_id 47DHoEPxnSkT4f626qo5Mw\n",
      "5Rl15oVamLq7FbSb0NNBNy\n",
      "song_id 4jaiounlhJY1Vd0Vt6lrpB\n",
      "5Rl15oVamLq7FbSb0NNBNy\n",
      "song_id 3Chv6MmF98OP9KJpGaHvqW\n",
      "04gDigrS5kc9YWfZHwBETP\n",
      "song_id 211SnSPPUD5xRwN1rcofxf\n",
      "3FfvYsEGaIb52QPXhg4DcH\n",
      "song_id 69W9wnBPbt38vDYNVSLRQW\n",
      "6S2OmqARrzebs0tKUEyXyp\n",
      "song_id 0JsCRhTXGyBNypV3EX0RmP\n",
      "4MIULe6tfg2loNzBy5B9eu\n",
      "song_id 1kmpcpEK0f56M5dkqNajRk\n",
      "6x2LnllRG5uGarZMsD4iO8\n",
      "song_id 6rDaCGqcQB1urhpCrrD599\n",
      "6l3HvQ5sa6mXTsMTB19rO5\n",
      "song_id 7bzo7pQlAYvJeeo8AT2QJr\n",
      "1n2pb9Tsfe4SwAjmUac6YT\n",
      "song_id 1DLguucCi86On4F9TW8CU7\n",
      "6y8XlgIV8BLlIg1tT1R10i\n",
      "song_id 1kTugNMVMbaQep1srMua2q\n",
      "6y8XlgIV8BLlIg1tT1R10i\n",
      "170000\n",
      "song_id 5tvNzrG4AuX9qvqOiIkkrk\n",
      "0hCNtLu0JehylgoiP8L4Gh\n",
      "song_id 3LZFYZLwWkkXvfukZvkwQD\n",
      "0hCNtLu0JehylgoiP8L4Gh\n",
      "song_id 4ZUfbHQOBeEOyf6EArWXA3\n",
      "0hCNtLu0JehylgoiP8L4Gh\n",
      "song_id 3FGojuR4O99qsMPCmgNxpC\n",
      "0hCNtLu0JehylgoiP8L4Gh\n",
      "song_id 7rCuk593ndV0VFgVERGMWb\n",
      "0hCNtLu0JehylgoiP8L4Gh\n",
      "song_id 6Qoz2jJBYLpY9bXGvqxoGM\n",
      "0hCNtLu0JehylgoiP8L4Gh\n",
      "song_id 6Qoz2jJBYLpY9bXGvqxoGM\n",
      "1Xyo4u8uXC1ZmMpatF05PJ\n",
      "song_id 6Qoz2jJBYLpY9bXGvqxoGM\n",
      "1Xyo4u8uXC1ZmMpatF05PJ\n",
      "song_id 1K5yC6h7PUrSOBOiTT7gmi\n",
      "0hCNtLu0JehylgoiP8L4Gh\n",
      "song_id 2dykFCX6W1KOwJ4Hu6zxit\n",
      "0hCNtLu0JehylgoiP8L4Gh\n",
      "song_id 36AJfngvDeIRy60q0kxrBT\n",
      "0hCNtLu0JehylgoiP8L4Gh\n",
      "song_id 3C0GBPiQ4kGOxpcmlXjYtB\n",
      "0hCNtLu0JehylgoiP8L4Gh\n",
      "song_id 1ZlCDLaJEmaqLAfkPYKI2x\n",
      "0hCNtLu0JehylgoiP8L4Gh\n",
      "song_id 0yG9U1t3z2i6musIhTuUm8\n",
      "0hCNtLu0JehylgoiP8L4Gh\n",
      "song_id 3Z6LOdqspIk7TZMN9E0feZ\n",
      "0hCNtLu0JehylgoiP8L4Gh\n",
      "song_id 0BPwBdwFGGV1RKo4FQYhHj\n",
      "0hCNtLu0JehylgoiP8L4Gh\n",
      "song_id 5B0XK3uUU0BhBp1eNbPSlO\n",
      "0hCNtLu0JehylgoiP8L4Gh\n",
      "song_id 1sTDW7kALobTFVctlaSHC4\n",
      "0hCNtLu0JehylgoiP8L4Gh\n",
      "song_id 5y8VA1y9b0xQbBo1GS7cZG\n",
      "0hCNtLu0JehylgoiP8L4Gh\n",
      "song_id 7dyV2TV8wJyZ4OGOCZNZ73\n",
      "0hCNtLu0JehylgoiP8L4Gh\n",
      "song_id 0kCakXs4r2adpGE43JXsFg\n",
      "0hCNtLu0JehylgoiP8L4Gh\n",
      "song_id 0kT8v152a2YR4vh8qLGfPS\n",
      "0hCNtLu0JehylgoiP8L4Gh\n",
      "song_id 6vEACl33YmToJdIxZDVcSx\n",
      "0hCNtLu0JehylgoiP8L4Gh\n",
      "song_id 6DvJX7wAAzRomZJVW7E9dQ\n",
      "0hCNtLu0JehylgoiP8L4Gh\n",
      "song_id 4lvFx43ISqIk1WiXOReVp2\n",
      "0hCNtLu0JehylgoiP8L4Gh\n",
      "song_id 3l76pDmPK3gzvNC3ckVJxn\n",
      "0hCNtLu0JehylgoiP8L4Gh\n",
      "song_id 3TYREv5LTG1DDcblZLt9uJ\n",
      "0hCNtLu0JehylgoiP8L4Gh\n",
      "song_id 3LHYmz86DxGInsRp3wiiW5\n",
      "0hCNtLu0JehylgoiP8L4Gh\n",
      "song_id 1e4rwBPVI32vZtTJu7mJ4J\n",
      "0hCNtLu0JehylgoiP8L4Gh\n",
      "song_id 2D1MK9oaxy7axXggy3iVbp\n",
      "0hCNtLu0JehylgoiP8L4Gh\n",
      "song_id 1hHbmfNfXIwHyHCYO8ae3I\n",
      "0hCNtLu0JehylgoiP8L4Gh\n",
      "song_id 3L4GsGLgxpHieVQH86H8bv\n",
      "0hCNtLu0JehylgoiP8L4Gh\n",
      "song_id 5MdRg9QeScwB1gs3G0GbWy\n",
      "0hCNtLu0JehylgoiP8L4Gh\n",
      "song_id 1DfASEEKVByFKTgCArlkS5\n",
      "0hCNtLu0JehylgoiP8L4Gh\n",
      "song_id 3tCgn1QGWOZN5eE0XuVdrf\n",
      "0hCNtLu0JehylgoiP8L4Gh\n",
      "song_id 4AmMLbugcWo9R9qMbUJ04b\n",
      "0hCNtLu0JehylgoiP8L4Gh\n",
      "song_id 19Fcrc0nJiwMKom00gS9SW\n",
      "0hCNtLu0JehylgoiP8L4Gh\n",
      "song_id 05epy7jdJjubwYxMfEq81w\n",
      "0hCNtLu0JehylgoiP8L4Gh\n",
      "song_id 0qp2Yr7uJsWdXf203aTXSM\n",
      "0hCNtLu0JehylgoiP8L4Gh\n",
      "song_id 3ig3X70suAwUn4oDnQaMru\n",
      "0hCNtLu0JehylgoiP8L4Gh\n",
      "song_id 43RSiN5Os4MiYwj3fNVomY\n",
      "0hCNtLu0JehylgoiP8L4Gh\n",
      "song_id 1ubdzkKWVZxYdJf01laKwP\n",
      "0hCNtLu0JehylgoiP8L4Gh\n",
      "song_id 6Gh4bWzGj4S3B8SMfOATQD\n",
      "0hCNtLu0JehylgoiP8L4Gh\n",
      "song_id 57q3g9JtPamkjX58DeqQfV\n",
      "0hCNtLu0JehylgoiP8L4Gh\n",
      "song_id 2QtKIURoGVhI2nw8orwS7X\n",
      "0hCNtLu0JehylgoiP8L4Gh\n",
      "song_id 337ixTIrqNol9kSP0uUbvW\n",
      "0hCNtLu0JehylgoiP8L4Gh\n",
      "song_id 2WsEhAGXJUQN7q2Lb1PSZo\n",
      "0hCNtLu0JehylgoiP8L4Gh\n",
      "song_id 1gGSl4rHNIMiBTcz7H7UUf\n",
      "0hCNtLu0JehylgoiP8L4Gh\n",
      "song_id 5Fyasrm4AiSvlbyBfMfVUS\n",
      "0hCNtLu0JehylgoiP8L4Gh\n",
      "song_id 7gPO3MxeQjaOO1MsAumLlg\n",
      "0hCNtLu0JehylgoiP8L4Gh\n",
      "song_id 2PiPXo7l8Vozdt9QZk1Lvw\n",
      "0hCNtLu0JehylgoiP8L4Gh\n",
      "song_id 1J4nIrpP4Twuosr9ZQH9co\n",
      "0hCNtLu0JehylgoiP8L4Gh\n",
      "song_id 1J4nIrpP4Twuosr9ZQH9co\n",
      "1Xyo4u8uXC1ZmMpatF05PJ\n",
      "song_id 1J4nIrpP4Twuosr9ZQH9co\n",
      "1Xyo4u8uXC1ZmMpatF05PJ\n",
      "song_id 3vYsTHlyS6ceOV4sR1aVnI\n",
      "0hCNtLu0JehylgoiP8L4Gh\n",
      "song_id 4niV5Ddvk7ZTu7rgd04O5z\n",
      "0hCNtLu0JehylgoiP8L4Gh\n",
      "song_id 6TQjkxtQ2HqJA9aV6P5kfT\n",
      "0hCNtLu0JehylgoiP8L4Gh\n",
      "song_id 3DfnAuOocP2NDKwR2t4wfF\n",
      "0hCNtLu0JehylgoiP8L4Gh\n",
      "song_id 3gTp4KG5WhiXUV3Q7OGBnD\n",
      "0hCNtLu0JehylgoiP8L4Gh\n",
      "song_id 1YRZEQgGqaT5QFxlUqt5hM\n",
      "0hCNtLu0JehylgoiP8L4Gh\n",
      "song_id 6npBACIDpoktI445meClVc\n",
      "0hCNtLu0JehylgoiP8L4Gh\n",
      "song_id 03It1uO69CjGWP3yyVe465\n",
      "0hCNtLu0JehylgoiP8L4Gh\n",
      "song_id 1UdGy4XiMTByA5QtAk5VZu\n",
      "0hCNtLu0JehylgoiP8L4Gh\n",
      "song_id 2OsWux5YbFZcC1MSTkUh3G\n",
      "0hCNtLu0JehylgoiP8L4Gh\n",
      "song_id 3yRtCntPrFnfYgiqn1He2o\n",
      "0hCNtLu0JehylgoiP8L4Gh\n",
      "song_id 6Poyf51k7W3NKnsGwAI90B\n",
      "0hCNtLu0JehylgoiP8L4Gh\n",
      "song_id 1vXp6ifT8y7gyMmWLREasX\n",
      "2wY79sveU1sp5g7SokKOiI\n",
      "song_id 5vAEnWrHxLv78uwZrAJcX6\n",
      "0hCNtLu0JehylgoiP8L4Gh\n",
      "song_id 5vAEnWrHxLv78uwZrAJcX6\n",
      "1Xyo4u8uXC1ZmMpatF05PJ\n",
      "song_id 5vAEnWrHxLv78uwZrAJcX6\n",
      "1Xyo4u8uXC1ZmMpatF05PJ\n",
      "song_id 61eWyvx6fZ5xCG3mZpU858\n",
      "3bhu7P5PfngueRHiB9hjcx\n",
      "song_id 7CKR3FcBqSsGcgce0ECe1z\n",
      "0hCNtLu0JehylgoiP8L4Gh\n",
      "song_id 5NjcvFJsahRqqSvNvTVJX4\n",
      "0hCNtLu0JehylgoiP8L4Gh\n",
      "song_id 4K34wkUKqd7leweceYqPFM\n",
      "0hCNtLu0JehylgoiP8L4Gh\n",
      "song_id 5u04AumwgKbXHuzp4tTQc0\n",
      "0hCNtLu0JehylgoiP8L4Gh\n",
      "song_id 3fCkG786ipL3aUc8KoLTvh\n",
      "0hCNtLu0JehylgoiP8L4Gh\n",
      "song_id 6H0hAVBtCU4hfioYhK7Dl2\n",
      "0hCNtLu0JehylgoiP8L4Gh\n",
      "song_id 0PziG2rFTotS4TBnV0t3qN\n",
      "0hCNtLu0JehylgoiP8L4Gh\n",
      "song_id 7sSwnQc7LTQ8u74axzYndn\n",
      "0hCNtLu0JehylgoiP8L4Gh\n",
      "song_id 7sSwnQc7LTQ8u74axzYndn\n",
      "1Xyo4u8uXC1ZmMpatF05PJ\n",
      "song_id 7sSwnQc7LTQ8u74axzYndn\n",
      "1Xyo4u8uXC1ZmMpatF05PJ\n",
      "song_id 2Gyfmw1w1RpMyjBFe1784y\n",
      "0hCNtLu0JehylgoiP8L4Gh\n",
      "180000\n",
      "190000\n",
      "200000\n",
      "210000\n",
      "220000\n"
     ]
    }
   ],
   "source": [
    "import numpy as np\n",
    "\n",
    "past_years = 3\n",
    "max_amount_days = past_years * 365\n",
    "max_distance_float = max_amount_days * 24 * 60 * 60\n",
    "\n",
    "test_df[\"superstar_v1_x\"] = 1.0\n",
    "test_df[\"superstar_v1_y\"] = 1.0\n",
    "test_df[\"superstar_v2_x\"] = 1.0\n",
    "test_df[\"superstar_v2_y\"] = 1.0\n",
    "test_df[\"superstar_v3_x\"] = 1.0\n",
    "test_df[\"superstar_v3_y\"] = 1.0\n",
    "test_df[\"superstar_v4_x\"] = 1.0\n",
    "test_df[\"superstar_v4_y\"] = 1.0\n",
    "test_df[\"superstar_v5_x\"] = 1.0\n",
    "test_df[\"superstar_v5_y\"] = 1.0\n",
    "test_df[\"success_rate_x\"] = 0.0\n",
    "test_df[\"success_rate_y\"] = 0.0\n",
    "test_df[\"hits_in_past_x\"] = 0\n",
    "test_df[\"hits_in_past_y\"] = 0\n",
    "test_df[\"superstar_x\"] = 0\n",
    "test_df[\"superstar_y\"] = 0\n",
    "\n",
    "test_df.reset_index(drop=True, inplace=True)\n",
    "\n",
    "it = 0\n",
    "for index, row in test_df.iterrows():\n",
    "    artists_in_row = [row[\"artist1_id\"]]\n",
    "    if not pd.isna(row[\"artist2_id\"]):\n",
    "        artists_in_row.append(row[\"artist2_id\"])\n",
    "\n",
    "    if it % 10000 == 0.0:\n",
    "        print(it)\n",
    "    it +=1\n",
    "\n",
    "    present = row[\"date\"].replace(hour=23, minute=59, second=59)\n",
    "    border_day = present - pd.DateOffset(years=past_years)\n",
    "    to_filter = df_song_chart[(df_song_chart[\"week\"] <= border_start_train_day) & (df_song_chart[\"week\"] > border_day)]    \n",
    "\n",
    "    for nr_art, artist in enumerate(artists_in_row):\n",
    "        hits_amount = 0\n",
    "        success_rate = 0.0\n",
    "        song_ids = []\n",
    "        peak_positions = []\n",
    "        days_distances = []\n",
    "\n",
    "        df_num_hit = pd.merge(to_filter, df_songs).reset_index(drop=True)\n",
    "        df_num_hit_cpy = df_num_hit.copy()\n",
    "        if not df_num_hit.empty:\n",
    "            df_num_hit = df_num_hit.drop_duplicates(subset=[\"song_id\"])\n",
    "            mask = [artist in artists for artists in df_num_hit['artists_ids']]\n",
    "            df_num_hit = df_num_hit[mask]\n",
    "            #df_num_hit = df_num_hit[df_num_hit[\"artists_ids\"].apply(lambda x: artist in x)]\n",
    "\n",
    "            hits_amount = df_num_hit[\"song_id\"].nunique()\n",
    "            song_ids = df_num_hit[\"song_id\"].tolist()\n",
    "\n",
    "            #insert rest of calc here\n",
    "            if hits_amount > 0:\n",
    "                for song_id in song_ids:\n",
    "                    df_song_peak_days = df_num_hit_cpy[df_num_hit_cpy[\"song_id\"] == song_id]\n",
    "                    min_peak_position = df_song_peak_days[\"peak_position\"].min()\n",
    "                    peak_positions.append(min_peak_position)\n",
    "\n",
    "                    peak_week = df_song_peak_days.loc[df_song_peak_days[\"peak_position\"].idxmin()][\"week\"].replace(hour=23, minute=59, second=59)\n",
    "                    distance = abs(peak_week - present)\n",
    "                    days_distances.append(distance.total_seconds())\n",
    "\n",
    "                    filtered_artists = amount_songs[(amount_songs[\"date\"] <= border_start_train_day) & (amount_songs[\"date\"] > border_day)]\n",
    "                    filtered_artists = filtered_artists[filtered_artists['id_artists'].map(lambda x: artist in x)]\n",
    "                    song_count = len(filtered_artists)\n",
    "                    if song_count == 0:\n",
    "                        print(\"song_id\", row[\"song_id\"])\n",
    "                        print(artist)\n",
    "                    success_rate = hits_amount/(song_count + hits_amount) \n",
    "                    if success_rate > 1 or success_rate < 0:\n",
    "                        print(\"success_rate: \", success_rate)\n",
    "                        print(row[\"song_id\"])\n",
    "                        print(artist)\n",
    "                        \n",
    "\n",
    "                peak_positions = min_max_scaling(peak_positions, 1, 100)\n",
    "                days_distances = min_max_scaling(days_distances, 0.00, max_distance_float)\n",
    "                \n",
    "                # if superstar(hits_amount, peak_positions, days_distances) == 0:\n",
    "                #     print(hits_amount, peak_positions, days_distances, row[\"song_id\"])\n",
    "                    \n",
    "                if nr_art == 0:\n",
    "                    test_df.at[index, \"superstar_v1_x\"] = superstar(hits_amount, peak_positions, days_distances)\n",
    "                    test_df.at[index, \"superstar_v2_x\"] = superstar_2(hits_amount, peak_positions, days_distances)\n",
    "                    test_df.at[index, \"superstar_v3_x\"] = superstar_3(hits_amount, peak_positions, days_distances)\n",
    "                    test_df.at[index, \"superstar_v4_x\"] = superstar_4(hits_amount, peak_positions, days_distances)\n",
    "                    test_df.at[index, \"superstar_v5_x\"] = superstar_5(hits_amount, peak_positions, days_distances, success_rate)\n",
    "                    test_df.at[index, \"success_rate_x\"] = success_rate        \n",
    "                    test_df.at[index, \"hits_in_past_x\"] = hits_amount\n",
    "                    test_df.at[index, \"superstar_x\"] = 1\n",
    "                elif nr_art == 1:\n",
    "                    test_df.at[index, \"superstar_v1_y\"] = superstar(hits_amount, peak_positions, days_distances)\n",
    "                    test_df.at[index, \"superstar_v2_y\"] = superstar_2(hits_amount, peak_positions, days_distances)\n",
    "                    test_df.at[index, \"superstar_v3_y\"] = superstar_3(hits_amount, peak_positions, days_distances)\n",
    "                    test_df.at[index, \"superstar_v4_y\"] = superstar_4(hits_amount, peak_positions, days_distances)\n",
    "                    test_df.at[index, \"superstar_v5_y\"] = superstar_5(hits_amount, peak_positions, days_distances, success_rate)\n",
    "                    test_df.at[index, \"success_rate_y\"] = success_rate\n",
    "                    test_df.at[index, \"hits_in_past_y\"] = hits_amount\n",
    "                    test_df.at[index, \"superstar_y\"] = 1\n",
    "                #print(str(nr_art) + \":   \" + str(superstar(hits_amount, peak_positions, days_distances)))"
   ],
   "metadata": {
    "collapsed": false,
    "pycharm": {
     "name": "#%%\n"
    },
    "ExecuteTime": {
     "end_time": "2024-07-28T18:21:45.882515700Z",
     "start_time": "2024-07-28T17:45:23.475233800Z"
    }
   },
   "id": "24928d1a2c53b0e6"
  },
  {
   "cell_type": "markdown",
   "source": [
    "test 4 start"
   ],
   "metadata": {
    "collapsed": false,
    "pycharm": {
     "name": "#%% md\n"
    }
   },
   "id": "2f65c71d00e66473"
  },
  {
   "cell_type": "code",
   "execution_count": 29,
   "outputs": [
    {
     "data": {
      "text/plain": "{'song_popularity': 0.0,\n 'track_number': 0.0,\n 'num_artists': 0.0,\n 'num_available_markets': 0.0,\n 'duration_ms': 0.0,\n 'key': 0.0,\n 'mode': 0.0,\n 'time_signature': 0.0,\n 'acousticness': 0.0,\n 'danceability': 0.0,\n 'energy': 0.0,\n 'instrumentalness': 0.0,\n 'liveness': 0.0,\n 'loudness': 0.0,\n 'speechiness': 0.0,\n 'valence': 0.0,\n 'tempo': 0.0,\n 'hit': 0.0,\n 'betweenesscentrality_x': 0.0,\n 'closnesscentrality_x': 0.0,\n 'clustering_x': 0.0,\n 'degree_x': 0.0,\n 'eccentricity_x': 0.0,\n 'eigencentrality_x': 0.0,\n 'weighted degree_x': 0.0,\n 'pagerank_x': 0.0,\n 'Cluster_x': 0.0,\n 'betweenesscentrality_y': 0.0,\n 'closnesscentrality_y': 0.0,\n 'clustering_y': 0.0,\n 'degree_y': 0.0,\n 'eccentricity_y': 0.0,\n 'eigencentrality_y': 0.0,\n 'weighted degree_y': 0.0,\n 'pagerank_y': 0.0,\n 'Cluster_y': 0.0,\n 'artist1_num': 0.0,\n 'artist2_num': 0.0,\n 'years_on_charts': 0.0}"
     },
     "execution_count": 29,
     "metadata": {},
     "output_type": "execute_result"
    }
   ],
   "source": [
    "num_sup = nr_coloumns(test_df, test_df_hsp.columns)\n",
    "num_hsp = nr_coloumns(test_df_hsp, test_df_hsp.columns)\n",
    "num_hsp.reset_index(drop=True, inplace=True)\n",
    "\n",
    "calculate_mae(num_sup, num_hsp, num_sup.columns)"
   ],
   "metadata": {
    "collapsed": false,
    "pycharm": {
     "name": "#%%\n"
    },
    "ExecuteTime": {
     "end_time": "2024-07-28T18:21:46.653696400Z",
     "start_time": "2024-07-28T18:21:45.893514800Z"
    }
   },
   "id": "5a358778f2929097"
  },
  {
   "cell_type": "code",
   "execution_count": 30,
   "outputs": [
    {
     "data": {
      "text/plain": "        song_popularity  track_number  num_artists  num_available_markets  \\\n0                   0.0           4.0          1.0                   79.0   \n1                   0.0           4.0          1.0                   79.0   \n2                   1.0           2.0          1.0                   79.0   \n3                   0.0           1.0          1.0                   79.0   \n4                   0.0           3.0          1.0                   79.0   \n...                 ...           ...          ...                    ...   \n227752              1.0          23.0          2.0                   78.0   \n227753              1.0           8.0          1.0                   79.0   \n227754              7.0           8.0          1.0                   78.0   \n227755              3.0          15.0          1.0                   78.0   \n227756              0.0          27.0          1.0                   79.0   \n\n        duration_ms  key  mode  time_signature  acousticness  danceability  \\\n0          186671.0  4.0   1.0             4.0        0.8970         0.760   \n1          153107.0  5.0   0.0             4.0        0.5700         0.595   \n2          423520.0  2.0   1.0             4.0        0.4720         0.668   \n3          189257.0  9.0   1.0             4.0        0.0465         0.692   \n4          160733.0  5.0   1.0             3.0        0.7350         0.669   \n...             ...  ...   ...             ...           ...           ...   \n227752     126360.0  4.0   1.0             4.0        0.5820         0.668   \n227753     163533.0  5.0   1.0             4.0        0.8130         0.571   \n227754     161200.0  0.0   1.0             4.0        0.0402         0.738   \n227755     172147.0  1.0   1.0             4.0        0.7270         0.417   \n227756     260910.0  7.0   0.0             3.0        0.6070         0.395   \n\n        ...  clustering_y  degree_y  eccentricity_y  eigencentrality_y  \\\n0       ...           0.0       0.0             0.0       0.000000e+00   \n1       ...           0.0       0.0             0.0       0.000000e+00   \n2       ...           0.0       0.0             0.0       0.000000e+00   \n3       ...           0.0       0.0             0.0       0.000000e+00   \n4       ...           0.0       0.0             0.0       0.000000e+00   \n...     ...           ...       ...             ...                ...   \n227752  ...           0.0       1.0             1.0       1.014122e-14   \n227753  ...           0.0       0.0             0.0       0.000000e+00   \n227754  ...           0.0       0.0             0.0       0.000000e+00   \n227755  ...           0.0       0.0             0.0       0.000000e+00   \n227756  ...           0.0       0.0             0.0       0.000000e+00   \n\n        weighted degree_y  pagerank_y  Cluster_y  artist1_num  artist2_num  \\\n0                     0.0    0.000000       -1.0       5644.0          0.0   \n1                     0.0    0.000000       -1.0      22832.0          0.0   \n2                     0.0    0.000000       -1.0      25773.0          0.0   \n3                     0.0    0.000000       -1.0       5907.0          0.0   \n4                     0.0    0.000000       -1.0      22832.0          0.0   \n...                   ...         ...        ...          ...          ...   \n227752               62.0    0.000055        0.0      12307.0      10105.0   \n227753                0.0    0.000000       -1.0      10673.0          0.0   \n227754                0.0    0.000000       -1.0      25916.0          0.0   \n227755                0.0    0.000000       -1.0      19061.0          0.0   \n227756                0.0    0.000000       -1.0       2354.0          0.0   \n\n        years_on_charts  \n0              0.000000  \n1              0.000000  \n2              0.000000  \n3              0.000000  \n4              0.000000  \n...                 ...  \n227752         0.134247  \n227753         0.115068  \n227754         0.287671  \n227755         0.134247  \n227756         0.517808  \n\n[227757 rows x 39 columns]",
      "text/html": "<div>\n<style scoped>\n    .dataframe tbody tr th:only-of-type {\n        vertical-align: middle;\n    }\n\n    .dataframe tbody tr th {\n        vertical-align: top;\n    }\n\n    .dataframe thead th {\n        text-align: right;\n    }\n</style>\n<table border=\"1\" class=\"dataframe\">\n  <thead>\n    <tr style=\"text-align: right;\">\n      <th></th>\n      <th>song_popularity</th>\n      <th>track_number</th>\n      <th>num_artists</th>\n      <th>num_available_markets</th>\n      <th>duration_ms</th>\n      <th>key</th>\n      <th>mode</th>\n      <th>time_signature</th>\n      <th>acousticness</th>\n      <th>danceability</th>\n      <th>...</th>\n      <th>clustering_y</th>\n      <th>degree_y</th>\n      <th>eccentricity_y</th>\n      <th>eigencentrality_y</th>\n      <th>weighted degree_y</th>\n      <th>pagerank_y</th>\n      <th>Cluster_y</th>\n      <th>artist1_num</th>\n      <th>artist2_num</th>\n      <th>years_on_charts</th>\n    </tr>\n  </thead>\n  <tbody>\n    <tr>\n      <th>0</th>\n      <td>0.0</td>\n      <td>4.0</td>\n      <td>1.0</td>\n      <td>79.0</td>\n      <td>186671.0</td>\n      <td>4.0</td>\n      <td>1.0</td>\n      <td>4.0</td>\n      <td>0.8970</td>\n      <td>0.760</td>\n      <td>...</td>\n      <td>0.0</td>\n      <td>0.0</td>\n      <td>0.0</td>\n      <td>0.000000e+00</td>\n      <td>0.0</td>\n      <td>0.000000</td>\n      <td>-1.0</td>\n      <td>5644.0</td>\n      <td>0.0</td>\n      <td>0.000000</td>\n    </tr>\n    <tr>\n      <th>1</th>\n      <td>0.0</td>\n      <td>4.0</td>\n      <td>1.0</td>\n      <td>79.0</td>\n      <td>153107.0</td>\n      <td>5.0</td>\n      <td>0.0</td>\n      <td>4.0</td>\n      <td>0.5700</td>\n      <td>0.595</td>\n      <td>...</td>\n      <td>0.0</td>\n      <td>0.0</td>\n      <td>0.0</td>\n      <td>0.000000e+00</td>\n      <td>0.0</td>\n      <td>0.000000</td>\n      <td>-1.0</td>\n      <td>22832.0</td>\n      <td>0.0</td>\n      <td>0.000000</td>\n    </tr>\n    <tr>\n      <th>2</th>\n      <td>1.0</td>\n      <td>2.0</td>\n      <td>1.0</td>\n      <td>79.0</td>\n      <td>423520.0</td>\n      <td>2.0</td>\n      <td>1.0</td>\n      <td>4.0</td>\n      <td>0.4720</td>\n      <td>0.668</td>\n      <td>...</td>\n      <td>0.0</td>\n      <td>0.0</td>\n      <td>0.0</td>\n      <td>0.000000e+00</td>\n      <td>0.0</td>\n      <td>0.000000</td>\n      <td>-1.0</td>\n      <td>25773.0</td>\n      <td>0.0</td>\n      <td>0.000000</td>\n    </tr>\n    <tr>\n      <th>3</th>\n      <td>0.0</td>\n      <td>1.0</td>\n      <td>1.0</td>\n      <td>79.0</td>\n      <td>189257.0</td>\n      <td>9.0</td>\n      <td>1.0</td>\n      <td>4.0</td>\n      <td>0.0465</td>\n      <td>0.692</td>\n      <td>...</td>\n      <td>0.0</td>\n      <td>0.0</td>\n      <td>0.0</td>\n      <td>0.000000e+00</td>\n      <td>0.0</td>\n      <td>0.000000</td>\n      <td>-1.0</td>\n      <td>5907.0</td>\n      <td>0.0</td>\n      <td>0.000000</td>\n    </tr>\n    <tr>\n      <th>4</th>\n      <td>0.0</td>\n      <td>3.0</td>\n      <td>1.0</td>\n      <td>79.0</td>\n      <td>160733.0</td>\n      <td>5.0</td>\n      <td>1.0</td>\n      <td>3.0</td>\n      <td>0.7350</td>\n      <td>0.669</td>\n      <td>...</td>\n      <td>0.0</td>\n      <td>0.0</td>\n      <td>0.0</td>\n      <td>0.000000e+00</td>\n      <td>0.0</td>\n      <td>0.000000</td>\n      <td>-1.0</td>\n      <td>22832.0</td>\n      <td>0.0</td>\n      <td>0.000000</td>\n    </tr>\n    <tr>\n      <th>...</th>\n      <td>...</td>\n      <td>...</td>\n      <td>...</td>\n      <td>...</td>\n      <td>...</td>\n      <td>...</td>\n      <td>...</td>\n      <td>...</td>\n      <td>...</td>\n      <td>...</td>\n      <td>...</td>\n      <td>...</td>\n      <td>...</td>\n      <td>...</td>\n      <td>...</td>\n      <td>...</td>\n      <td>...</td>\n      <td>...</td>\n      <td>...</td>\n      <td>...</td>\n      <td>...</td>\n    </tr>\n    <tr>\n      <th>227752</th>\n      <td>1.0</td>\n      <td>23.0</td>\n      <td>2.0</td>\n      <td>78.0</td>\n      <td>126360.0</td>\n      <td>4.0</td>\n      <td>1.0</td>\n      <td>4.0</td>\n      <td>0.5820</td>\n      <td>0.668</td>\n      <td>...</td>\n      <td>0.0</td>\n      <td>1.0</td>\n      <td>1.0</td>\n      <td>1.014122e-14</td>\n      <td>62.0</td>\n      <td>0.000055</td>\n      <td>0.0</td>\n      <td>12307.0</td>\n      <td>10105.0</td>\n      <td>0.134247</td>\n    </tr>\n    <tr>\n      <th>227753</th>\n      <td>1.0</td>\n      <td>8.0</td>\n      <td>1.0</td>\n      <td>79.0</td>\n      <td>163533.0</td>\n      <td>5.0</td>\n      <td>1.0</td>\n      <td>4.0</td>\n      <td>0.8130</td>\n      <td>0.571</td>\n      <td>...</td>\n      <td>0.0</td>\n      <td>0.0</td>\n      <td>0.0</td>\n      <td>0.000000e+00</td>\n      <td>0.0</td>\n      <td>0.000000</td>\n      <td>-1.0</td>\n      <td>10673.0</td>\n      <td>0.0</td>\n      <td>0.115068</td>\n    </tr>\n    <tr>\n      <th>227754</th>\n      <td>7.0</td>\n      <td>8.0</td>\n      <td>1.0</td>\n      <td>78.0</td>\n      <td>161200.0</td>\n      <td>0.0</td>\n      <td>1.0</td>\n      <td>4.0</td>\n      <td>0.0402</td>\n      <td>0.738</td>\n      <td>...</td>\n      <td>0.0</td>\n      <td>0.0</td>\n      <td>0.0</td>\n      <td>0.000000e+00</td>\n      <td>0.0</td>\n      <td>0.000000</td>\n      <td>-1.0</td>\n      <td>25916.0</td>\n      <td>0.0</td>\n      <td>0.287671</td>\n    </tr>\n    <tr>\n      <th>227755</th>\n      <td>3.0</td>\n      <td>15.0</td>\n      <td>1.0</td>\n      <td>78.0</td>\n      <td>172147.0</td>\n      <td>1.0</td>\n      <td>1.0</td>\n      <td>4.0</td>\n      <td>0.7270</td>\n      <td>0.417</td>\n      <td>...</td>\n      <td>0.0</td>\n      <td>0.0</td>\n      <td>0.0</td>\n      <td>0.000000e+00</td>\n      <td>0.0</td>\n      <td>0.000000</td>\n      <td>-1.0</td>\n      <td>19061.0</td>\n      <td>0.0</td>\n      <td>0.134247</td>\n    </tr>\n    <tr>\n      <th>227756</th>\n      <td>0.0</td>\n      <td>27.0</td>\n      <td>1.0</td>\n      <td>79.0</td>\n      <td>260910.0</td>\n      <td>7.0</td>\n      <td>0.0</td>\n      <td>3.0</td>\n      <td>0.6070</td>\n      <td>0.395</td>\n      <td>...</td>\n      <td>0.0</td>\n      <td>0.0</td>\n      <td>0.0</td>\n      <td>0.000000e+00</td>\n      <td>0.0</td>\n      <td>0.000000</td>\n      <td>-1.0</td>\n      <td>2354.0</td>\n      <td>0.0</td>\n      <td>0.517808</td>\n    </tr>\n  </tbody>\n</table>\n<p>227757 rows × 39 columns</p>\n</div>"
     },
     "execution_count": 30,
     "metadata": {},
     "output_type": "execute_result"
    }
   ],
   "source": [
    "num_sup"
   ],
   "metadata": {
    "collapsed": false,
    "pycharm": {
     "name": "#%%\n"
    },
    "ExecuteTime": {
     "end_time": "2024-07-28T18:21:46.725697300Z",
     "start_time": "2024-07-28T18:21:46.647698200Z"
    }
   },
   "id": "ddd9db5f7452ba18"
  },
  {
   "cell_type": "code",
   "execution_count": 31,
   "outputs": [
    {
     "data": {
      "text/plain": "        song_popularity  track_number  num_artists  num_available_markets  \\\n0                   0.0           4.0          1.0                   79.0   \n1                   0.0           4.0          1.0                   79.0   \n2                   1.0           2.0          1.0                   79.0   \n3                   0.0           1.0          1.0                   79.0   \n4                   0.0           3.0          1.0                   79.0   \n...                 ...           ...          ...                    ...   \n227752              1.0          23.0          2.0                   78.0   \n227753              1.0           8.0          1.0                   79.0   \n227754              7.0           8.0          1.0                   78.0   \n227755              3.0          15.0          1.0                   78.0   \n227756              0.0          27.0          1.0                   79.0   \n\n        duration_ms  key  mode  time_signature  acousticness  danceability  \\\n0          186671.0  4.0   1.0             4.0        0.8970         0.760   \n1          153107.0  5.0   0.0             4.0        0.5700         0.595   \n2          423520.0  2.0   1.0             4.0        0.4720         0.668   \n3          189257.0  9.0   1.0             4.0        0.0465         0.692   \n4          160733.0  5.0   1.0             3.0        0.7350         0.669   \n...             ...  ...   ...             ...           ...           ...   \n227752     126360.0  4.0   1.0             4.0        0.5820         0.668   \n227753     163533.0  5.0   1.0             4.0        0.8130         0.571   \n227754     161200.0  0.0   1.0             4.0        0.0402         0.738   \n227755     172147.0  1.0   1.0             4.0        0.7270         0.417   \n227756     260910.0  7.0   0.0             3.0        0.6070         0.395   \n\n        ...  clustering_y  degree_y  eccentricity_y  eigencentrality_y  \\\n0       ...           0.0       0.0             0.0       0.000000e+00   \n1       ...           0.0       0.0             0.0       0.000000e+00   \n2       ...           0.0       0.0             0.0       0.000000e+00   \n3       ...           0.0       0.0             0.0       0.000000e+00   \n4       ...           0.0       0.0             0.0       0.000000e+00   \n...     ...           ...       ...             ...                ...   \n227752  ...           0.0       1.0             1.0       1.014122e-14   \n227753  ...           0.0       0.0             0.0       0.000000e+00   \n227754  ...           0.0       0.0             0.0       0.000000e+00   \n227755  ...           0.0       0.0             0.0       0.000000e+00   \n227756  ...           0.0       0.0             0.0       0.000000e+00   \n\n        weighted degree_y  pagerank_y  Cluster_y  artist1_num  artist2_num  \\\n0                     0.0    0.000000       -1.0       5644.0          0.0   \n1                     0.0    0.000000       -1.0      22832.0          0.0   \n2                     0.0    0.000000       -1.0      25773.0          0.0   \n3                     0.0    0.000000       -1.0       5907.0          0.0   \n4                     0.0    0.000000       -1.0      22832.0          0.0   \n...                   ...         ...        ...          ...          ...   \n227752               62.0    0.000055        0.0      12307.0      10105.0   \n227753                0.0    0.000000       -1.0      10673.0          0.0   \n227754                0.0    0.000000       -1.0      25916.0          0.0   \n227755                0.0    0.000000       -1.0      19061.0          0.0   \n227756                0.0    0.000000       -1.0       2354.0          0.0   \n\n        years_on_charts  \n0              0.000000  \n1              0.000000  \n2              0.000000  \n3              0.000000  \n4              0.000000  \n...                 ...  \n227752         0.134247  \n227753         0.115068  \n227754         0.287671  \n227755         0.134247  \n227756         0.517808  \n\n[227757 rows x 39 columns]",
      "text/html": "<div>\n<style scoped>\n    .dataframe tbody tr th:only-of-type {\n        vertical-align: middle;\n    }\n\n    .dataframe tbody tr th {\n        vertical-align: top;\n    }\n\n    .dataframe thead th {\n        text-align: right;\n    }\n</style>\n<table border=\"1\" class=\"dataframe\">\n  <thead>\n    <tr style=\"text-align: right;\">\n      <th></th>\n      <th>song_popularity</th>\n      <th>track_number</th>\n      <th>num_artists</th>\n      <th>num_available_markets</th>\n      <th>duration_ms</th>\n      <th>key</th>\n      <th>mode</th>\n      <th>time_signature</th>\n      <th>acousticness</th>\n      <th>danceability</th>\n      <th>...</th>\n      <th>clustering_y</th>\n      <th>degree_y</th>\n      <th>eccentricity_y</th>\n      <th>eigencentrality_y</th>\n      <th>weighted degree_y</th>\n      <th>pagerank_y</th>\n      <th>Cluster_y</th>\n      <th>artist1_num</th>\n      <th>artist2_num</th>\n      <th>years_on_charts</th>\n    </tr>\n  </thead>\n  <tbody>\n    <tr>\n      <th>0</th>\n      <td>0.0</td>\n      <td>4.0</td>\n      <td>1.0</td>\n      <td>79.0</td>\n      <td>186671.0</td>\n      <td>4.0</td>\n      <td>1.0</td>\n      <td>4.0</td>\n      <td>0.8970</td>\n      <td>0.760</td>\n      <td>...</td>\n      <td>0.0</td>\n      <td>0.0</td>\n      <td>0.0</td>\n      <td>0.000000e+00</td>\n      <td>0.0</td>\n      <td>0.000000</td>\n      <td>-1.0</td>\n      <td>5644.0</td>\n      <td>0.0</td>\n      <td>0.000000</td>\n    </tr>\n    <tr>\n      <th>1</th>\n      <td>0.0</td>\n      <td>4.0</td>\n      <td>1.0</td>\n      <td>79.0</td>\n      <td>153107.0</td>\n      <td>5.0</td>\n      <td>0.0</td>\n      <td>4.0</td>\n      <td>0.5700</td>\n      <td>0.595</td>\n      <td>...</td>\n      <td>0.0</td>\n      <td>0.0</td>\n      <td>0.0</td>\n      <td>0.000000e+00</td>\n      <td>0.0</td>\n      <td>0.000000</td>\n      <td>-1.0</td>\n      <td>22832.0</td>\n      <td>0.0</td>\n      <td>0.000000</td>\n    </tr>\n    <tr>\n      <th>2</th>\n      <td>1.0</td>\n      <td>2.0</td>\n      <td>1.0</td>\n      <td>79.0</td>\n      <td>423520.0</td>\n      <td>2.0</td>\n      <td>1.0</td>\n      <td>4.0</td>\n      <td>0.4720</td>\n      <td>0.668</td>\n      <td>...</td>\n      <td>0.0</td>\n      <td>0.0</td>\n      <td>0.0</td>\n      <td>0.000000e+00</td>\n      <td>0.0</td>\n      <td>0.000000</td>\n      <td>-1.0</td>\n      <td>25773.0</td>\n      <td>0.0</td>\n      <td>0.000000</td>\n    </tr>\n    <tr>\n      <th>3</th>\n      <td>0.0</td>\n      <td>1.0</td>\n      <td>1.0</td>\n      <td>79.0</td>\n      <td>189257.0</td>\n      <td>9.0</td>\n      <td>1.0</td>\n      <td>4.0</td>\n      <td>0.0465</td>\n      <td>0.692</td>\n      <td>...</td>\n      <td>0.0</td>\n      <td>0.0</td>\n      <td>0.0</td>\n      <td>0.000000e+00</td>\n      <td>0.0</td>\n      <td>0.000000</td>\n      <td>-1.0</td>\n      <td>5907.0</td>\n      <td>0.0</td>\n      <td>0.000000</td>\n    </tr>\n    <tr>\n      <th>4</th>\n      <td>0.0</td>\n      <td>3.0</td>\n      <td>1.0</td>\n      <td>79.0</td>\n      <td>160733.0</td>\n      <td>5.0</td>\n      <td>1.0</td>\n      <td>3.0</td>\n      <td>0.7350</td>\n      <td>0.669</td>\n      <td>...</td>\n      <td>0.0</td>\n      <td>0.0</td>\n      <td>0.0</td>\n      <td>0.000000e+00</td>\n      <td>0.0</td>\n      <td>0.000000</td>\n      <td>-1.0</td>\n      <td>22832.0</td>\n      <td>0.0</td>\n      <td>0.000000</td>\n    </tr>\n    <tr>\n      <th>...</th>\n      <td>...</td>\n      <td>...</td>\n      <td>...</td>\n      <td>...</td>\n      <td>...</td>\n      <td>...</td>\n      <td>...</td>\n      <td>...</td>\n      <td>...</td>\n      <td>...</td>\n      <td>...</td>\n      <td>...</td>\n      <td>...</td>\n      <td>...</td>\n      <td>...</td>\n      <td>...</td>\n      <td>...</td>\n      <td>...</td>\n      <td>...</td>\n      <td>...</td>\n      <td>...</td>\n    </tr>\n    <tr>\n      <th>227752</th>\n      <td>1.0</td>\n      <td>23.0</td>\n      <td>2.0</td>\n      <td>78.0</td>\n      <td>126360.0</td>\n      <td>4.0</td>\n      <td>1.0</td>\n      <td>4.0</td>\n      <td>0.5820</td>\n      <td>0.668</td>\n      <td>...</td>\n      <td>0.0</td>\n      <td>1.0</td>\n      <td>1.0</td>\n      <td>1.014122e-14</td>\n      <td>62.0</td>\n      <td>0.000055</td>\n      <td>0.0</td>\n      <td>12307.0</td>\n      <td>10105.0</td>\n      <td>0.134247</td>\n    </tr>\n    <tr>\n      <th>227753</th>\n      <td>1.0</td>\n      <td>8.0</td>\n      <td>1.0</td>\n      <td>79.0</td>\n      <td>163533.0</td>\n      <td>5.0</td>\n      <td>1.0</td>\n      <td>4.0</td>\n      <td>0.8130</td>\n      <td>0.571</td>\n      <td>...</td>\n      <td>0.0</td>\n      <td>0.0</td>\n      <td>0.0</td>\n      <td>0.000000e+00</td>\n      <td>0.0</td>\n      <td>0.000000</td>\n      <td>-1.0</td>\n      <td>10673.0</td>\n      <td>0.0</td>\n      <td>0.115068</td>\n    </tr>\n    <tr>\n      <th>227754</th>\n      <td>7.0</td>\n      <td>8.0</td>\n      <td>1.0</td>\n      <td>78.0</td>\n      <td>161200.0</td>\n      <td>0.0</td>\n      <td>1.0</td>\n      <td>4.0</td>\n      <td>0.0402</td>\n      <td>0.738</td>\n      <td>...</td>\n      <td>0.0</td>\n      <td>0.0</td>\n      <td>0.0</td>\n      <td>0.000000e+00</td>\n      <td>0.0</td>\n      <td>0.000000</td>\n      <td>-1.0</td>\n      <td>25916.0</td>\n      <td>0.0</td>\n      <td>0.287671</td>\n    </tr>\n    <tr>\n      <th>227755</th>\n      <td>3.0</td>\n      <td>15.0</td>\n      <td>1.0</td>\n      <td>78.0</td>\n      <td>172147.0</td>\n      <td>1.0</td>\n      <td>1.0</td>\n      <td>4.0</td>\n      <td>0.7270</td>\n      <td>0.417</td>\n      <td>...</td>\n      <td>0.0</td>\n      <td>0.0</td>\n      <td>0.0</td>\n      <td>0.000000e+00</td>\n      <td>0.0</td>\n      <td>0.000000</td>\n      <td>-1.0</td>\n      <td>19061.0</td>\n      <td>0.0</td>\n      <td>0.134247</td>\n    </tr>\n    <tr>\n      <th>227756</th>\n      <td>0.0</td>\n      <td>27.0</td>\n      <td>1.0</td>\n      <td>79.0</td>\n      <td>260910.0</td>\n      <td>7.0</td>\n      <td>0.0</td>\n      <td>3.0</td>\n      <td>0.6070</td>\n      <td>0.395</td>\n      <td>...</td>\n      <td>0.0</td>\n      <td>0.0</td>\n      <td>0.0</td>\n      <td>0.000000e+00</td>\n      <td>0.0</td>\n      <td>0.000000</td>\n      <td>-1.0</td>\n      <td>2354.0</td>\n      <td>0.0</td>\n      <td>0.517808</td>\n    </tr>\n  </tbody>\n</table>\n<p>227757 rows × 39 columns</p>\n</div>"
     },
     "execution_count": 31,
     "metadata": {},
     "output_type": "execute_result"
    }
   ],
   "source": [
    "num_hsp"
   ],
   "metadata": {
    "collapsed": false,
    "pycharm": {
     "name": "#%%\n"
    },
    "ExecuteTime": {
     "end_time": "2024-07-28T18:21:46.768699500Z",
     "start_time": "2024-07-28T18:21:46.708698100Z"
    }
   },
   "id": "a3b4684b75880080"
  },
  {
   "cell_type": "code",
   "execution_count": 32,
   "outputs": [
    {
     "data": {
      "text/plain": "                       song_id  \\\n0       0KkzGvp8twn623wysKZ4Th   \n1       6EU7nvOyg2O8ld7UAKii7R   \n2       32bnbgvJ8FevA9rT2FxGAO   \n3       7aMr9p35GaCmdWBmqbpfMa   \n4       5QBpaz5Oy7yMRISo9kvFvs   \n...                        ...   \n227752  6WrGNqos7nZLxV7QWTgyNO   \n227753  13MADoRclDrvJXcH0l7CFA   \n227754  7goArBQdsalqclSyaTywAS   \n227755  2CZ46u5NGXQFXke3PMCuAK   \n227756  6Fh2QgjCxL96dA3Gtpfr4Q   \n\n                                                song_name  song_popularity  \\\n0                                       Return to Ipanema              0.0   \n1         どうにもとまらない Originally Performed By 山本リンダ (オルゴール)              0.0   \n2                                                    Wave              1.0   \n3                                            Silver Samba              0.0   \n4               千曲川 Originally Performed By 五木ひろし (オルゴール)              0.0   \n...                                                   ...              ...   \n227752                            I'll Keep You Satisfied              1.0   \n227753                                You Were on My Mind              1.0   \n227754                                   Shimmy Shimmy Ya              7.0   \n227755                   Today I Started Loving You Again              3.0   \n227756  One Sweet Day (16-Bit Mariah Carey & Boyz II M...              0.0   \n\n        explicit      song_type  track_number  num_artists  \\\n0          False           Solo           4.0          1.0   \n1          False           Solo           4.0          1.0   \n2          False           Solo           2.0          1.0   \n3          False           Solo           1.0          1.0   \n4          False           Solo           3.0          1.0   \n...          ...            ...           ...          ...   \n227752     False  Collaboration          23.0          2.0   \n227753     False           Solo           8.0          1.0   \n227754     False           Solo           8.0          1.0   \n227755     False           Solo          15.0          1.0   \n227756     False           Solo          27.0          1.0   \n\n        num_available_markets release_date  duration_ms  ...  superstar_v4_x  \\\n0                        79.0   2015-08-19     186671.0  ...             1.0   \n1                        79.0   2015-08-19     153107.0  ...             1.0   \n2                        79.0   2015-08-19     423520.0  ...             1.0   \n3                        79.0   2015-08-19     189257.0  ...             1.0   \n4                        79.0   2015-08-19     160733.0  ...             1.0   \n...                       ...          ...          ...  ...             ...   \n227752                   78.0   2019-08-23     126360.0  ...             1.0   \n227753                   79.0   2019-08-23     163533.0  ...             1.0   \n227754                   78.0   2019-08-23     161200.0  ...             1.0   \n227755                   78.0   2019-08-23     172147.0  ...             1.0   \n227756                   79.0   2019-08-26     260910.0  ...             1.0   \n\n        superstar_v4_y  superstar_v5_x  superstar_v5_y  success_rate_x  \\\n0                  1.0             1.0             1.0             0.0   \n1                  1.0             1.0             1.0             0.0   \n2                  1.0             1.0             1.0             0.0   \n3                  1.0             1.0             1.0             0.0   \n4                  1.0             1.0             1.0             0.0   \n...                ...             ...             ...             ...   \n227752             1.0             1.0             1.0             0.0   \n227753             1.0             1.0             1.0             0.0   \n227754             1.0             1.0             1.0             0.0   \n227755             1.0             1.0             1.0             0.0   \n227756             1.0             1.0             1.0             0.0   \n\n        success_rate_y  hits_in_past_x  hits_in_past_y  superstar_x  \\\n0                  0.0               0               0            0   \n1                  0.0               0               0            0   \n2                  0.0               0               0            0   \n3                  0.0               0               0            0   \n4                  0.0               0               0            0   \n...                ...             ...             ...          ...   \n227752             0.0               0               0            0   \n227753             0.0               0               0            0   \n227754             0.0               0               0            0   \n227755             0.0               0               0            0   \n227756             0.0               0               0            0   \n\n        superstar_y  \n0                 0  \n1                 0  \n2                 0  \n3                 0  \n4                 0  \n...             ...  \n227752            0  \n227753            0  \n227754            0  \n227755            0  \n227756            0  \n\n[227757 rows x 67 columns]",
      "text/html": "<div>\n<style scoped>\n    .dataframe tbody tr th:only-of-type {\n        vertical-align: middle;\n    }\n\n    .dataframe tbody tr th {\n        vertical-align: top;\n    }\n\n    .dataframe thead th {\n        text-align: right;\n    }\n</style>\n<table border=\"1\" class=\"dataframe\">\n  <thead>\n    <tr style=\"text-align: right;\">\n      <th></th>\n      <th>song_id</th>\n      <th>song_name</th>\n      <th>song_popularity</th>\n      <th>explicit</th>\n      <th>song_type</th>\n      <th>track_number</th>\n      <th>num_artists</th>\n      <th>num_available_markets</th>\n      <th>release_date</th>\n      <th>duration_ms</th>\n      <th>...</th>\n      <th>superstar_v4_x</th>\n      <th>superstar_v4_y</th>\n      <th>superstar_v5_x</th>\n      <th>superstar_v5_y</th>\n      <th>success_rate_x</th>\n      <th>success_rate_y</th>\n      <th>hits_in_past_x</th>\n      <th>hits_in_past_y</th>\n      <th>superstar_x</th>\n      <th>superstar_y</th>\n    </tr>\n  </thead>\n  <tbody>\n    <tr>\n      <th>0</th>\n      <td>0KkzGvp8twn623wysKZ4Th</td>\n      <td>Return to Ipanema</td>\n      <td>0.0</td>\n      <td>False</td>\n      <td>Solo</td>\n      <td>4.0</td>\n      <td>1.0</td>\n      <td>79.0</td>\n      <td>2015-08-19</td>\n      <td>186671.0</td>\n      <td>...</td>\n      <td>1.0</td>\n      <td>1.0</td>\n      <td>1.0</td>\n      <td>1.0</td>\n      <td>0.0</td>\n      <td>0.0</td>\n      <td>0</td>\n      <td>0</td>\n      <td>0</td>\n      <td>0</td>\n    </tr>\n    <tr>\n      <th>1</th>\n      <td>6EU7nvOyg2O8ld7UAKii7R</td>\n      <td>どうにもとまらない Originally Performed By 山本リンダ (オルゴール)</td>\n      <td>0.0</td>\n      <td>False</td>\n      <td>Solo</td>\n      <td>4.0</td>\n      <td>1.0</td>\n      <td>79.0</td>\n      <td>2015-08-19</td>\n      <td>153107.0</td>\n      <td>...</td>\n      <td>1.0</td>\n      <td>1.0</td>\n      <td>1.0</td>\n      <td>1.0</td>\n      <td>0.0</td>\n      <td>0.0</td>\n      <td>0</td>\n      <td>0</td>\n      <td>0</td>\n      <td>0</td>\n    </tr>\n    <tr>\n      <th>2</th>\n      <td>32bnbgvJ8FevA9rT2FxGAO</td>\n      <td>Wave</td>\n      <td>1.0</td>\n      <td>False</td>\n      <td>Solo</td>\n      <td>2.0</td>\n      <td>1.0</td>\n      <td>79.0</td>\n      <td>2015-08-19</td>\n      <td>423520.0</td>\n      <td>...</td>\n      <td>1.0</td>\n      <td>1.0</td>\n      <td>1.0</td>\n      <td>1.0</td>\n      <td>0.0</td>\n      <td>0.0</td>\n      <td>0</td>\n      <td>0</td>\n      <td>0</td>\n      <td>0</td>\n    </tr>\n    <tr>\n      <th>3</th>\n      <td>7aMr9p35GaCmdWBmqbpfMa</td>\n      <td>Silver Samba</td>\n      <td>0.0</td>\n      <td>False</td>\n      <td>Solo</td>\n      <td>1.0</td>\n      <td>1.0</td>\n      <td>79.0</td>\n      <td>2015-08-19</td>\n      <td>189257.0</td>\n      <td>...</td>\n      <td>1.0</td>\n      <td>1.0</td>\n      <td>1.0</td>\n      <td>1.0</td>\n      <td>0.0</td>\n      <td>0.0</td>\n      <td>0</td>\n      <td>0</td>\n      <td>0</td>\n      <td>0</td>\n    </tr>\n    <tr>\n      <th>4</th>\n      <td>5QBpaz5Oy7yMRISo9kvFvs</td>\n      <td>千曲川 Originally Performed By 五木ひろし (オルゴール)</td>\n      <td>0.0</td>\n      <td>False</td>\n      <td>Solo</td>\n      <td>3.0</td>\n      <td>1.0</td>\n      <td>79.0</td>\n      <td>2015-08-19</td>\n      <td>160733.0</td>\n      <td>...</td>\n      <td>1.0</td>\n      <td>1.0</td>\n      <td>1.0</td>\n      <td>1.0</td>\n      <td>0.0</td>\n      <td>0.0</td>\n      <td>0</td>\n      <td>0</td>\n      <td>0</td>\n      <td>0</td>\n    </tr>\n    <tr>\n      <th>...</th>\n      <td>...</td>\n      <td>...</td>\n      <td>...</td>\n      <td>...</td>\n      <td>...</td>\n      <td>...</td>\n      <td>...</td>\n      <td>...</td>\n      <td>...</td>\n      <td>...</td>\n      <td>...</td>\n      <td>...</td>\n      <td>...</td>\n      <td>...</td>\n      <td>...</td>\n      <td>...</td>\n      <td>...</td>\n      <td>...</td>\n      <td>...</td>\n      <td>...</td>\n      <td>...</td>\n    </tr>\n    <tr>\n      <th>227752</th>\n      <td>6WrGNqos7nZLxV7QWTgyNO</td>\n      <td>I'll Keep You Satisfied</td>\n      <td>1.0</td>\n      <td>False</td>\n      <td>Collaboration</td>\n      <td>23.0</td>\n      <td>2.0</td>\n      <td>78.0</td>\n      <td>2019-08-23</td>\n      <td>126360.0</td>\n      <td>...</td>\n      <td>1.0</td>\n      <td>1.0</td>\n      <td>1.0</td>\n      <td>1.0</td>\n      <td>0.0</td>\n      <td>0.0</td>\n      <td>0</td>\n      <td>0</td>\n      <td>0</td>\n      <td>0</td>\n    </tr>\n    <tr>\n      <th>227753</th>\n      <td>13MADoRclDrvJXcH0l7CFA</td>\n      <td>You Were on My Mind</td>\n      <td>1.0</td>\n      <td>False</td>\n      <td>Solo</td>\n      <td>8.0</td>\n      <td>1.0</td>\n      <td>79.0</td>\n      <td>2019-08-23</td>\n      <td>163533.0</td>\n      <td>...</td>\n      <td>1.0</td>\n      <td>1.0</td>\n      <td>1.0</td>\n      <td>1.0</td>\n      <td>0.0</td>\n      <td>0.0</td>\n      <td>0</td>\n      <td>0</td>\n      <td>0</td>\n      <td>0</td>\n    </tr>\n    <tr>\n      <th>227754</th>\n      <td>7goArBQdsalqclSyaTywAS</td>\n      <td>Shimmy Shimmy Ya</td>\n      <td>7.0</td>\n      <td>False</td>\n      <td>Solo</td>\n      <td>8.0</td>\n      <td>1.0</td>\n      <td>78.0</td>\n      <td>2019-08-23</td>\n      <td>161200.0</td>\n      <td>...</td>\n      <td>1.0</td>\n      <td>1.0</td>\n      <td>1.0</td>\n      <td>1.0</td>\n      <td>0.0</td>\n      <td>0.0</td>\n      <td>0</td>\n      <td>0</td>\n      <td>0</td>\n      <td>0</td>\n    </tr>\n    <tr>\n      <th>227755</th>\n      <td>2CZ46u5NGXQFXke3PMCuAK</td>\n      <td>Today I Started Loving You Again</td>\n      <td>3.0</td>\n      <td>False</td>\n      <td>Solo</td>\n      <td>15.0</td>\n      <td>1.0</td>\n      <td>78.0</td>\n      <td>2019-08-23</td>\n      <td>172147.0</td>\n      <td>...</td>\n      <td>1.0</td>\n      <td>1.0</td>\n      <td>1.0</td>\n      <td>1.0</td>\n      <td>0.0</td>\n      <td>0.0</td>\n      <td>0</td>\n      <td>0</td>\n      <td>0</td>\n      <td>0</td>\n    </tr>\n    <tr>\n      <th>227756</th>\n      <td>6Fh2QgjCxL96dA3Gtpfr4Q</td>\n      <td>One Sweet Day (16-Bit Mariah Carey &amp; Boyz II M...</td>\n      <td>0.0</td>\n      <td>False</td>\n      <td>Solo</td>\n      <td>27.0</td>\n      <td>1.0</td>\n      <td>79.0</td>\n      <td>2019-08-26</td>\n      <td>260910.0</td>\n      <td>...</td>\n      <td>1.0</td>\n      <td>1.0</td>\n      <td>1.0</td>\n      <td>1.0</td>\n      <td>0.0</td>\n      <td>0.0</td>\n      <td>0</td>\n      <td>0</td>\n      <td>0</td>\n      <td>0</td>\n    </tr>\n  </tbody>\n</table>\n<p>227757 rows × 67 columns</p>\n</div>"
     },
     "execution_count": 32,
     "metadata": {},
     "output_type": "execute_result"
    }
   ],
   "source": [
    "test_df"
   ],
   "metadata": {
    "collapsed": false,
    "pycharm": {
     "name": "#%%\n"
    },
    "ExecuteTime": {
     "end_time": "2024-07-28T18:21:47.004697500Z",
     "start_time": "2024-07-28T18:21:46.754697700Z"
    }
   },
   "id": "6652bdda67ca4b67"
  },
  {
   "cell_type": "markdown",
   "source": [
    "test 4 end"
   ],
   "metadata": {
    "collapsed": false,
    "pycharm": {
     "name": "#%% md\n"
    }
   },
   "id": "36c0f03643c71916"
  },
  {
   "cell_type": "code",
   "execution_count": 33,
   "outputs": [
    {
     "data": {
      "text/plain": "                       song_id         song_name  song_popularity  explicit  \\\n179157  446Jufq5oOCwOSXbkqq5yD  Bring It On Over             65.0     False   \n\n       song_type  track_number  num_artists  num_available_markets  \\\n179157      Solo           1.0          1.0                   79.0   \n\n       release_date  duration_ms  ...  superstar_v4_x  superstar_v4_y  \\\n179157   2018-09-19     182133.0  ...             1.0             1.0   \n\n        superstar_v5_x  superstar_v5_y  success_rate_x  success_rate_y  \\\n179157             1.0             1.0             0.0             0.0   \n\n        hits_in_past_x  hits_in_past_y  superstar_x  superstar_y  \n179157               0               0            0            0  \n\n[1 rows x 67 columns]",
      "text/html": "<div>\n<style scoped>\n    .dataframe tbody tr th:only-of-type {\n        vertical-align: middle;\n    }\n\n    .dataframe tbody tr th {\n        vertical-align: top;\n    }\n\n    .dataframe thead th {\n        text-align: right;\n    }\n</style>\n<table border=\"1\" class=\"dataframe\">\n  <thead>\n    <tr style=\"text-align: right;\">\n      <th></th>\n      <th>song_id</th>\n      <th>song_name</th>\n      <th>song_popularity</th>\n      <th>explicit</th>\n      <th>song_type</th>\n      <th>track_number</th>\n      <th>num_artists</th>\n      <th>num_available_markets</th>\n      <th>release_date</th>\n      <th>duration_ms</th>\n      <th>...</th>\n      <th>superstar_v4_x</th>\n      <th>superstar_v4_y</th>\n      <th>superstar_v5_x</th>\n      <th>superstar_v5_y</th>\n      <th>success_rate_x</th>\n      <th>success_rate_y</th>\n      <th>hits_in_past_x</th>\n      <th>hits_in_past_y</th>\n      <th>superstar_x</th>\n      <th>superstar_y</th>\n    </tr>\n  </thead>\n  <tbody>\n    <tr>\n      <th>179157</th>\n      <td>446Jufq5oOCwOSXbkqq5yD</td>\n      <td>Bring It On Over</td>\n      <td>65.0</td>\n      <td>False</td>\n      <td>Solo</td>\n      <td>1.0</td>\n      <td>1.0</td>\n      <td>79.0</td>\n      <td>2018-09-19</td>\n      <td>182133.0</td>\n      <td>...</td>\n      <td>1.0</td>\n      <td>1.0</td>\n      <td>1.0</td>\n      <td>1.0</td>\n      <td>0.0</td>\n      <td>0.0</td>\n      <td>0</td>\n      <td>0</td>\n      <td>0</td>\n      <td>0</td>\n    </tr>\n  </tbody>\n</table>\n<p>1 rows × 67 columns</p>\n</div>"
     },
     "execution_count": 33,
     "metadata": {},
     "output_type": "execute_result"
    }
   ],
   "source": [
    "test_df[test_df[\"song_id\"] == \"446Jufq5oOCwOSXbkqq5yD\"]"
   ],
   "metadata": {
    "collapsed": false,
    "pycharm": {
     "name": "#%%\n"
    },
    "ExecuteTime": {
     "end_time": "2024-07-28T18:21:47.005696700Z",
     "start_time": "2024-07-28T18:21:46.897700400Z"
    }
   },
   "id": "5e22d9b956580e0b"
  },
  {
   "cell_type": "markdown",
   "source": [
    "look at:\n",
    "\n",
    "0\n",
    "\n",
    "C:\\Users\\lasse\\AppData\\Local\\Temp\\ipykernel_17604\\2414811635.py:70: RuntimeWarning: divide by zero encountered in scalar divide\n",
    "  success_rate = hits_amount/song_count\n",
    "\n",
    "song_id 446Jufq5oOCwOSXbkqq5yD\n",
    "1By9QBFnjZAoI83BZppHlt\n",
    "success_rate:  inf\n",
    "446Jufq5oOCwOSXbkqq5yD\n",
    "1By9QBFnjZAoI83BZppHlt\n",
    "song_id 446Jufq5oOCwOSXbkqq5yD\n",
    "1By9QBFnjZAoI83BZppHlt\n",
    "success_rate:  inf\n",
    "446Jufq5oOCwOSXbkqq5yD\n",
    "1By9QBFnjZAoI83BZppHlt\n"
   ],
   "metadata": {
    "collapsed": false,
    "pycharm": {
     "name": "#%% md\n"
    }
   },
   "id": "55abab87eb6116ae"
  },
  {
   "cell_type": "code",
   "execution_count": 34,
   "outputs": [
    {
     "name": "stdout",
     "output_type": "stream",
     "text": [
      "Column 'song_popularity': min = 0.0, max = 100.0\n",
      "Column 'track_number': min = 1.0, max = 92.0\n",
      "Column 'num_artists': min = 1.0, max = 2.0\n",
      "Column 'num_available_markets': min = 0.0, max = 79.0\n",
      "Column 'duration_ms': min = 2514.0, max = 4665533.0\n",
      "Column 'key': min = 0.0, max = 11.0\n",
      "Column 'mode': min = 0.0, max = 1.0\n",
      "Column 'time_signature': min = 0.0, max = 5.0\n",
      "Column 'acousticness': min = 0.0, max = 0.996\n",
      "Column 'danceability': min = 0.0, max = 0.992\n",
      "Column 'energy': min = 0.0, max = 1.0\n",
      "Column 'instrumentalness': min = 0.0, max = 1.0\n",
      "Column 'liveness': min = 0.0, max = 1.0\n",
      "Column 'loudness': min = -60.0, max = 1.405\n",
      "Column 'speechiness': min = 0.0, max = 0.968\n",
      "Column 'valence': min = 0.0, max = 1.0\n",
      "Column 'tempo': min = 0.0, max = 248.206\n",
      "Column 'hit': min = 0.0, max = 1.0\n",
      "Column 'betweenesscentrality_x': min = 0.0, max = 0.0226189263317237\n",
      "Column 'closnesscentrality_x': min = 0.0, max = 0.1318952856078117\n",
      "Column 'clustering_x': min = 0.0, max = 1.0\n",
      "Column 'degree_x': min = 0.0, max = 208.0\n",
      "Column 'eccentricity_x': min = 0.0, max = 22.0\n",
      "Column 'eigencentrality_x': min = 0.0, max = 0.3626203734957132\n",
      "Column 'weighted degree_x': min = 0.0, max = 5752.0\n",
      "Column 'pagerank_x': min = 0.0, max = 0.0059862085381722\n",
      "Column 'Cluster_x': min = -1.0, max = 1.0\n",
      "Column 'betweenesscentrality_y': min = 0.0, max = 0.0226189263317237\n",
      "Column 'closnesscentrality_y': min = 0.0, max = 0.1318952856078117\n",
      "Column 'clustering_y': min = 0.0, max = 1.0\n",
      "Column 'degree_y': min = 0.0, max = 208.0\n",
      "Column 'eccentricity_y': min = 0.0, max = 22.0\n",
      "Column 'eigencentrality_y': min = 0.0, max = 0.3626203734957132\n",
      "Column 'weighted degree_y': min = 0.0, max = 3678.0\n",
      "Column 'pagerank_y': min = 0.0, max = 0.0059862085381722\n",
      "Column 'Cluster_y': min = -1.0, max = 1.0\n",
      "Column 'artist1_num': min = 1.0, max = 26691.0\n",
      "Column 'artist2_num': min = 0.0, max = 26700.0\n",
      "Column 'years_on_charts': min = 0.0, max = 1.1315068493150684\n",
      "Column 'superstar_v1_x': min = 0.01840453409453917, max = 1.0\n",
      "Column 'superstar_v1_y': min = 0.018886522932692388, max = 1.0\n",
      "Column 'superstar_v2_x': min = 0.05208246852082468, max = 1.0\n",
      "Column 'superstar_v2_y': min = 0.06820257368202573, max = 1.0\n",
      "Column 'superstar_v3_x': min = 0.023372230678166756, max = 1.0\n",
      "Column 'superstar_v3_y': min = 0.024336208354473195, max = 1.0\n",
      "Column 'superstar_v4_x': min = 0.0, max = 1.0\n",
      "Column 'superstar_v4_y': min = 0.0, max = 1.0\n",
      "Column 'superstar_v5_x': min = 0.0, max = 1.0\n",
      "Column 'superstar_v5_y': min = 0.0, max = 1.0\n",
      "Column 'success_rate_x': min = 0.0, max = 1.0\n",
      "Column 'success_rate_y': min = 0.0, max = 1.0\n",
      "Column 'hits_in_past_x': min = 0, max = 18\n",
      "Column 'hits_in_past_y': min = 0, max = 18\n",
      "Column 'superstar_x': min = 0, max = 1\n",
      "Column 'superstar_y': min = 0, max = 1\n"
     ]
    }
   ],
   "source": [
    "numerical_df = test_df.select_dtypes(include=['number'])\n",
    "\n",
    "# Print min and max for each numerical column\n",
    "for column in numerical_df.columns:\n",
    "    min_value = numerical_df[column].min()\n",
    "    max_value = numerical_df[column].max()\n",
    "    print(f\"Column '{column}': min = {min_value}, max = {max_value}\")"
   ],
   "metadata": {
    "collapsed": false,
    "pycharm": {
     "name": "#%%\n"
    },
    "ExecuteTime": {
     "end_time": "2024-07-28T18:21:47.174697300Z",
     "start_time": "2024-07-28T18:21:46.947697300Z"
    }
   },
   "id": "fce0afad6741c96a"
  },
  {
   "cell_type": "code",
   "execution_count": 35,
   "outputs": [
    {
     "data": {
      "text/plain": "                       song_id  \\\n0       0KkzGvp8twn623wysKZ4Th   \n1       6EU7nvOyg2O8ld7UAKii7R   \n2       32bnbgvJ8FevA9rT2FxGAO   \n3       7aMr9p35GaCmdWBmqbpfMa   \n4       5QBpaz5Oy7yMRISo9kvFvs   \n...                        ...   \n227752  6WrGNqos7nZLxV7QWTgyNO   \n227753  13MADoRclDrvJXcH0l7CFA   \n227754  7goArBQdsalqclSyaTywAS   \n227755  2CZ46u5NGXQFXke3PMCuAK   \n227756  6Fh2QgjCxL96dA3Gtpfr4Q   \n\n                                                song_name  song_popularity  \\\n0                                       Return to Ipanema              0.0   \n1         どうにもとまらない Originally Performed By 山本リンダ (オルゴール)              0.0   \n2                                                    Wave              1.0   \n3                                            Silver Samba              0.0   \n4               千曲川 Originally Performed By 五木ひろし (オルゴール)              0.0   \n...                                                   ...              ...   \n227752                            I'll Keep You Satisfied              1.0   \n227753                                You Were on My Mind              1.0   \n227754                                   Shimmy Shimmy Ya              7.0   \n227755                   Today I Started Loving You Again              3.0   \n227756  One Sweet Day (16-Bit Mariah Carey & Boyz II M...              0.0   \n\n        explicit      song_type  track_number  num_artists  \\\n0          False           Solo           4.0          1.0   \n1          False           Solo           4.0          1.0   \n2          False           Solo           2.0          1.0   \n3          False           Solo           1.0          1.0   \n4          False           Solo           3.0          1.0   \n...          ...            ...           ...          ...   \n227752     False  Collaboration          23.0          2.0   \n227753     False           Solo           8.0          1.0   \n227754     False           Solo           8.0          1.0   \n227755     False           Solo          15.0          1.0   \n227756     False           Solo          27.0          1.0   \n\n        num_available_markets release_date  duration_ms  ...  superstar_v4_x  \\\n0                        79.0   2015-08-19     186671.0  ...             1.0   \n1                        79.0   2015-08-19     153107.0  ...             1.0   \n2                        79.0   2015-08-19     423520.0  ...             1.0   \n3                        79.0   2015-08-19     189257.0  ...             1.0   \n4                        79.0   2015-08-19     160733.0  ...             1.0   \n...                       ...          ...          ...  ...             ...   \n227752                   78.0   2019-08-23     126360.0  ...             1.0   \n227753                   79.0   2019-08-23     163533.0  ...             1.0   \n227754                   78.0   2019-08-23     161200.0  ...             1.0   \n227755                   78.0   2019-08-23     172147.0  ...             1.0   \n227756                   79.0   2019-08-26     260910.0  ...             1.0   \n\n        superstar_v4_y  superstar_v5_x  superstar_v5_y  success_rate_x  \\\n0                  1.0             1.0             1.0             0.0   \n1                  1.0             1.0             1.0             0.0   \n2                  1.0             1.0             1.0             0.0   \n3                  1.0             1.0             1.0             0.0   \n4                  1.0             1.0             1.0             0.0   \n...                ...             ...             ...             ...   \n227752             1.0             1.0             1.0             0.0   \n227753             1.0             1.0             1.0             0.0   \n227754             1.0             1.0             1.0             0.0   \n227755             1.0             1.0             1.0             0.0   \n227756             1.0             1.0             1.0             0.0   \n\n        success_rate_y  hits_in_past_x  hits_in_past_y  superstar_x  \\\n0                  0.0               0               0            0   \n1                  0.0               0               0            0   \n2                  0.0               0               0            0   \n3                  0.0               0               0            0   \n4                  0.0               0               0            0   \n...                ...             ...             ...          ...   \n227752             0.0               0               0            0   \n227753             0.0               0               0            0   \n227754             0.0               0               0            0   \n227755             0.0               0               0            0   \n227756             0.0               0               0            0   \n\n        superstar_y  \n0                 0  \n1                 0  \n2                 0  \n3                 0  \n4                 0  \n...             ...  \n227752            0  \n227753            0  \n227754            0  \n227755            0  \n227756            0  \n\n[227757 rows x 67 columns]",
      "text/html": "<div>\n<style scoped>\n    .dataframe tbody tr th:only-of-type {\n        vertical-align: middle;\n    }\n\n    .dataframe tbody tr th {\n        vertical-align: top;\n    }\n\n    .dataframe thead th {\n        text-align: right;\n    }\n</style>\n<table border=\"1\" class=\"dataframe\">\n  <thead>\n    <tr style=\"text-align: right;\">\n      <th></th>\n      <th>song_id</th>\n      <th>song_name</th>\n      <th>song_popularity</th>\n      <th>explicit</th>\n      <th>song_type</th>\n      <th>track_number</th>\n      <th>num_artists</th>\n      <th>num_available_markets</th>\n      <th>release_date</th>\n      <th>duration_ms</th>\n      <th>...</th>\n      <th>superstar_v4_x</th>\n      <th>superstar_v4_y</th>\n      <th>superstar_v5_x</th>\n      <th>superstar_v5_y</th>\n      <th>success_rate_x</th>\n      <th>success_rate_y</th>\n      <th>hits_in_past_x</th>\n      <th>hits_in_past_y</th>\n      <th>superstar_x</th>\n      <th>superstar_y</th>\n    </tr>\n  </thead>\n  <tbody>\n    <tr>\n      <th>0</th>\n      <td>0KkzGvp8twn623wysKZ4Th</td>\n      <td>Return to Ipanema</td>\n      <td>0.0</td>\n      <td>False</td>\n      <td>Solo</td>\n      <td>4.0</td>\n      <td>1.0</td>\n      <td>79.0</td>\n      <td>2015-08-19</td>\n      <td>186671.0</td>\n      <td>...</td>\n      <td>1.0</td>\n      <td>1.0</td>\n      <td>1.0</td>\n      <td>1.0</td>\n      <td>0.0</td>\n      <td>0.0</td>\n      <td>0</td>\n      <td>0</td>\n      <td>0</td>\n      <td>0</td>\n    </tr>\n    <tr>\n      <th>1</th>\n      <td>6EU7nvOyg2O8ld7UAKii7R</td>\n      <td>どうにもとまらない Originally Performed By 山本リンダ (オルゴール)</td>\n      <td>0.0</td>\n      <td>False</td>\n      <td>Solo</td>\n      <td>4.0</td>\n      <td>1.0</td>\n      <td>79.0</td>\n      <td>2015-08-19</td>\n      <td>153107.0</td>\n      <td>...</td>\n      <td>1.0</td>\n      <td>1.0</td>\n      <td>1.0</td>\n      <td>1.0</td>\n      <td>0.0</td>\n      <td>0.0</td>\n      <td>0</td>\n      <td>0</td>\n      <td>0</td>\n      <td>0</td>\n    </tr>\n    <tr>\n      <th>2</th>\n      <td>32bnbgvJ8FevA9rT2FxGAO</td>\n      <td>Wave</td>\n      <td>1.0</td>\n      <td>False</td>\n      <td>Solo</td>\n      <td>2.0</td>\n      <td>1.0</td>\n      <td>79.0</td>\n      <td>2015-08-19</td>\n      <td>423520.0</td>\n      <td>...</td>\n      <td>1.0</td>\n      <td>1.0</td>\n      <td>1.0</td>\n      <td>1.0</td>\n      <td>0.0</td>\n      <td>0.0</td>\n      <td>0</td>\n      <td>0</td>\n      <td>0</td>\n      <td>0</td>\n    </tr>\n    <tr>\n      <th>3</th>\n      <td>7aMr9p35GaCmdWBmqbpfMa</td>\n      <td>Silver Samba</td>\n      <td>0.0</td>\n      <td>False</td>\n      <td>Solo</td>\n      <td>1.0</td>\n      <td>1.0</td>\n      <td>79.0</td>\n      <td>2015-08-19</td>\n      <td>189257.0</td>\n      <td>...</td>\n      <td>1.0</td>\n      <td>1.0</td>\n      <td>1.0</td>\n      <td>1.0</td>\n      <td>0.0</td>\n      <td>0.0</td>\n      <td>0</td>\n      <td>0</td>\n      <td>0</td>\n      <td>0</td>\n    </tr>\n    <tr>\n      <th>4</th>\n      <td>5QBpaz5Oy7yMRISo9kvFvs</td>\n      <td>千曲川 Originally Performed By 五木ひろし (オルゴール)</td>\n      <td>0.0</td>\n      <td>False</td>\n      <td>Solo</td>\n      <td>3.0</td>\n      <td>1.0</td>\n      <td>79.0</td>\n      <td>2015-08-19</td>\n      <td>160733.0</td>\n      <td>...</td>\n      <td>1.0</td>\n      <td>1.0</td>\n      <td>1.0</td>\n      <td>1.0</td>\n      <td>0.0</td>\n      <td>0.0</td>\n      <td>0</td>\n      <td>0</td>\n      <td>0</td>\n      <td>0</td>\n    </tr>\n    <tr>\n      <th>...</th>\n      <td>...</td>\n      <td>...</td>\n      <td>...</td>\n      <td>...</td>\n      <td>...</td>\n      <td>...</td>\n      <td>...</td>\n      <td>...</td>\n      <td>...</td>\n      <td>...</td>\n      <td>...</td>\n      <td>...</td>\n      <td>...</td>\n      <td>...</td>\n      <td>...</td>\n      <td>...</td>\n      <td>...</td>\n      <td>...</td>\n      <td>...</td>\n      <td>...</td>\n      <td>...</td>\n    </tr>\n    <tr>\n      <th>227752</th>\n      <td>6WrGNqos7nZLxV7QWTgyNO</td>\n      <td>I'll Keep You Satisfied</td>\n      <td>1.0</td>\n      <td>False</td>\n      <td>Collaboration</td>\n      <td>23.0</td>\n      <td>2.0</td>\n      <td>78.0</td>\n      <td>2019-08-23</td>\n      <td>126360.0</td>\n      <td>...</td>\n      <td>1.0</td>\n      <td>1.0</td>\n      <td>1.0</td>\n      <td>1.0</td>\n      <td>0.0</td>\n      <td>0.0</td>\n      <td>0</td>\n      <td>0</td>\n      <td>0</td>\n      <td>0</td>\n    </tr>\n    <tr>\n      <th>227753</th>\n      <td>13MADoRclDrvJXcH0l7CFA</td>\n      <td>You Were on My Mind</td>\n      <td>1.0</td>\n      <td>False</td>\n      <td>Solo</td>\n      <td>8.0</td>\n      <td>1.0</td>\n      <td>79.0</td>\n      <td>2019-08-23</td>\n      <td>163533.0</td>\n      <td>...</td>\n      <td>1.0</td>\n      <td>1.0</td>\n      <td>1.0</td>\n      <td>1.0</td>\n      <td>0.0</td>\n      <td>0.0</td>\n      <td>0</td>\n      <td>0</td>\n      <td>0</td>\n      <td>0</td>\n    </tr>\n    <tr>\n      <th>227754</th>\n      <td>7goArBQdsalqclSyaTywAS</td>\n      <td>Shimmy Shimmy Ya</td>\n      <td>7.0</td>\n      <td>False</td>\n      <td>Solo</td>\n      <td>8.0</td>\n      <td>1.0</td>\n      <td>78.0</td>\n      <td>2019-08-23</td>\n      <td>161200.0</td>\n      <td>...</td>\n      <td>1.0</td>\n      <td>1.0</td>\n      <td>1.0</td>\n      <td>1.0</td>\n      <td>0.0</td>\n      <td>0.0</td>\n      <td>0</td>\n      <td>0</td>\n      <td>0</td>\n      <td>0</td>\n    </tr>\n    <tr>\n      <th>227755</th>\n      <td>2CZ46u5NGXQFXke3PMCuAK</td>\n      <td>Today I Started Loving You Again</td>\n      <td>3.0</td>\n      <td>False</td>\n      <td>Solo</td>\n      <td>15.0</td>\n      <td>1.0</td>\n      <td>78.0</td>\n      <td>2019-08-23</td>\n      <td>172147.0</td>\n      <td>...</td>\n      <td>1.0</td>\n      <td>1.0</td>\n      <td>1.0</td>\n      <td>1.0</td>\n      <td>0.0</td>\n      <td>0.0</td>\n      <td>0</td>\n      <td>0</td>\n      <td>0</td>\n      <td>0</td>\n    </tr>\n    <tr>\n      <th>227756</th>\n      <td>6Fh2QgjCxL96dA3Gtpfr4Q</td>\n      <td>One Sweet Day (16-Bit Mariah Carey &amp; Boyz II M...</td>\n      <td>0.0</td>\n      <td>False</td>\n      <td>Solo</td>\n      <td>27.0</td>\n      <td>1.0</td>\n      <td>79.0</td>\n      <td>2019-08-26</td>\n      <td>260910.0</td>\n      <td>...</td>\n      <td>1.0</td>\n      <td>1.0</td>\n      <td>1.0</td>\n      <td>1.0</td>\n      <td>0.0</td>\n      <td>0.0</td>\n      <td>0</td>\n      <td>0</td>\n      <td>0</td>\n      <td>0</td>\n    </tr>\n  </tbody>\n</table>\n<p>227757 rows × 67 columns</p>\n</div>"
     },
     "execution_count": 35,
     "metadata": {},
     "output_type": "execute_result"
    }
   ],
   "source": [
    "test_df"
   ],
   "metadata": {
    "collapsed": false,
    "pycharm": {
     "name": "#%%\n"
    },
    "ExecuteTime": {
     "end_time": "2024-07-28T18:21:47.363699300Z",
     "start_time": "2024-07-28T18:21:47.116697Z"
    }
   },
   "id": "2d78248d9a248f00"
  },
  {
   "cell_type": "code",
   "execution_count": 36,
   "outputs": [],
   "source": [
    "test_df.drop(columns=[\"date\"], inplace=True)\n",
    "test_df.to_csv(\"test_df_superstar_v1_0.csv\", index=False)"
   ],
   "metadata": {
    "collapsed": false,
    "pycharm": {
     "name": "#%%\n"
    },
    "ExecuteTime": {
     "end_time": "2024-07-28T18:21:53.587973500Z",
     "start_time": "2024-07-28T18:21:47.210697800Z"
    }
   },
   "id": "7eb8c44b72d92d30"
  },
  {
   "cell_type": "code",
   "execution_count": 37,
   "outputs": [],
   "source": [
    "data = pd.concat([train_df, test_df], axis=0)\n",
    "data.reset_index(drop=True, inplace=True)"
   ],
   "metadata": {
    "collapsed": false,
    "pycharm": {
     "name": "#%%\n"
    },
    "ExecuteTime": {
     "end_time": "2024-07-28T18:21:54.845364300Z",
     "start_time": "2024-07-28T18:21:53.589971200Z"
    }
   },
   "id": "4c68cd197e747d33"
  },
  {
   "cell_type": "markdown",
   "source": [
    "last test"
   ],
   "metadata": {
    "collapsed": false,
    "pycharm": {
     "name": "#%% md\n"
    }
   },
   "id": "9a0223abf735a1bc"
  },
  {
   "cell_type": "code",
   "execution_count": 38,
   "outputs": [
    {
     "data": {
      "text/plain": "{'song_popularity': 0.0,\n 'track_number': 0.0,\n 'num_artists': 0.0,\n 'num_available_markets': 0.0,\n 'duration_ms': 0.0,\n 'key': 0.0,\n 'mode': 0.0,\n 'time_signature': 0.0,\n 'acousticness': 0.0,\n 'danceability': 0.0,\n 'energy': 0.0,\n 'instrumentalness': 0.0,\n 'liveness': 0.0,\n 'loudness': 0.0,\n 'speechiness': 0.0,\n 'valence': 0.0,\n 'tempo': 0.0,\n 'hit': 0.0,\n 'betweenesscentrality_x': 0.0,\n 'closnesscentrality_x': 0.0,\n 'clustering_x': 0.0,\n 'degree_x': 0.0,\n 'eccentricity_x': 0.0,\n 'eigencentrality_x': 0.0,\n 'weighted degree_x': 0.0,\n 'pagerank_x': 0.0,\n 'Cluster_x': 0.0,\n 'betweenesscentrality_y': 0.0,\n 'closnesscentrality_y': 0.0,\n 'clustering_y': 0.0,\n 'degree_y': 0.0,\n 'eccentricity_y': 0.0,\n 'eigencentrality_y': 0.0,\n 'weighted degree_y': 0.0,\n 'pagerank_y': 0.0,\n 'Cluster_y': 0.0,\n 'artist1_num': 0.0,\n 'artist2_num': 0.0,\n 'years_on_charts': 0.0}"
     },
     "execution_count": 38,
     "metadata": {},
     "output_type": "execute_result"
    }
   ],
   "source": [
    "data_hsp.drop(columns=[\"date\"], inplace=True)\n",
    "num_sup = nr_coloumns(data, data_hsp.columns)\n",
    "num_hsp = nr_coloumns(data_hsp, data_hsp.columns)\n",
    "num_hsp.reset_index(drop=True, inplace=True)\n",
    "\n",
    "calculate_mae(num_sup, num_hsp, num_hsp.columns)"
   ],
   "metadata": {
    "collapsed": false,
    "pycharm": {
     "name": "#%%\n"
    },
    "ExecuteTime": {
     "end_time": "2024-07-28T18:22:01.376879600Z",
     "start_time": "2024-07-28T18:21:55.381360200Z"
    }
   },
   "id": "d8ca99459728d324"
  },
  {
   "cell_type": "markdown",
   "source": [
    "test end"
   ],
   "metadata": {
    "collapsed": false,
    "pycharm": {
     "name": "#%% md\n"
    }
   },
   "id": "bfc69fd666964a24"
  },
  {
   "cell_type": "code",
   "execution_count": 39,
   "outputs": [],
   "source": [
    "data.to_csv(\"data_superstar_v1_0.csv\", index=False)"
   ],
   "metadata": {
    "collapsed": false,
    "pycharm": {
     "name": "#%%\n"
    },
    "ExecuteTime": {
     "end_time": "2024-07-28T18:22:26.270839700Z",
     "start_time": "2024-07-28T18:22:01.415527300Z"
    }
   },
   "id": "669a62789f340ac5"
  },
  {
   "cell_type": "code",
   "execution_count": 40,
   "outputs": [
    {
     "data": {
      "text/plain": "                       song_id song_name  song_popularity  explicit song_type  \\\n626257  6frqShk9fhsOzoKPYXKzk9     Girls              1.0     False      Solo   \n\n        track_number  num_artists  num_available_markets release_date  \\\n626257           3.0          1.0                   78.0   2014-08-15   \n\n        duration_ms  ...  instrumentalness  liveness  loudness  speechiness  \\\n626257     127000.0  ...               0.0    0.0816    -9.192       0.0384   \n\n        valence    tempo  hit              artist1_id  artist2_id       name_x  \n626257    0.947  124.473  1.0  7onp6ew3LGoQImTt1I78gt         NaN  Major Lance  \n\n[1 rows x 26 columns]",
      "text/html": "<div>\n<style scoped>\n    .dataframe tbody tr th:only-of-type {\n        vertical-align: middle;\n    }\n\n    .dataframe tbody tr th {\n        vertical-align: top;\n    }\n\n    .dataframe thead th {\n        text-align: right;\n    }\n</style>\n<table border=\"1\" class=\"dataframe\">\n  <thead>\n    <tr style=\"text-align: right;\">\n      <th></th>\n      <th>song_id</th>\n      <th>song_name</th>\n      <th>song_popularity</th>\n      <th>explicit</th>\n      <th>song_type</th>\n      <th>track_number</th>\n      <th>num_artists</th>\n      <th>num_available_markets</th>\n      <th>release_date</th>\n      <th>duration_ms</th>\n      <th>...</th>\n      <th>instrumentalness</th>\n      <th>liveness</th>\n      <th>loudness</th>\n      <th>speechiness</th>\n      <th>valence</th>\n      <th>tempo</th>\n      <th>hit</th>\n      <th>artist1_id</th>\n      <th>artist2_id</th>\n      <th>name_x</th>\n    </tr>\n  </thead>\n  <tbody>\n    <tr>\n      <th>626257</th>\n      <td>6frqShk9fhsOzoKPYXKzk9</td>\n      <td>Girls</td>\n      <td>1.0</td>\n      <td>False</td>\n      <td>Solo</td>\n      <td>3.0</td>\n      <td>1.0</td>\n      <td>78.0</td>\n      <td>2014-08-15</td>\n      <td>127000.0</td>\n      <td>...</td>\n      <td>0.0</td>\n      <td>0.0816</td>\n      <td>-9.192</td>\n      <td>0.0384</td>\n      <td>0.947</td>\n      <td>124.473</td>\n      <td>1.0</td>\n      <td>7onp6ew3LGoQImTt1I78gt</td>\n      <td>NaN</td>\n      <td>Major Lance</td>\n    </tr>\n  </tbody>\n</table>\n<p>1 rows × 26 columns</p>\n</div>"
     },
     "execution_count": 40,
     "metadata": {},
     "output_type": "execute_result"
    }
   ],
   "source": [
    "lel = data[(data[\"song_id\"] == \"6frqShk9fhsOzoKPYXKzk9\")]\n",
    "lel.iloc[:, :-40]"
   ],
   "metadata": {
    "collapsed": false,
    "pycharm": {
     "name": "#%%\n"
    },
    "ExecuteTime": {
     "end_time": "2024-07-28T18:22:26.756837700Z",
     "start_time": "2024-07-28T18:22:26.368841200Z"
    }
   },
   "id": "278bbc91d4e055db"
  }
 ],
 "metadata": {
  "kernelspec": {
   "display_name": "Python 3",
   "language": "python",
   "name": "python3"
  },
  "language_info": {
   "codemirror_mode": {
    "name": "ipython",
    "version": 2
   },
   "file_extension": ".py",
   "mimetype": "text/x-python",
   "name": "python",
   "nbconvert_exporter": "python",
   "pygments_lexer": "ipython2",
   "version": "2.7.6"
  }
 },
 "nbformat": 4,
 "nbformat_minor": 5
}
