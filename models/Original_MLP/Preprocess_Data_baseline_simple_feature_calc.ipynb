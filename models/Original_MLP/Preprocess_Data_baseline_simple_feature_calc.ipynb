{
 "cells": [
  {
   "cell_type": "markdown",
   "source": [
    "# Preprocessing:\n",
    "\n",
    "## Artists:"
   ],
   "metadata": {
    "collapsed": false,
    "pycharm": {
     "name": "#%% md\n"
    }
   },
   "id": "4e8c02b376b9192b"
  },
  {
   "cell_type": "code",
   "execution_count": 28,
   "outputs": [
    {
     "data": {
      "text/plain": "                                                    name  \\\n0                                            Nina Kraviz   \n1                                            Kodak Black   \n2                                           The Waikikis   \n3      Tom Russell and Katy Moffett with Andrew Hardi...   \n4                                        Dennis McCarthy   \n...                                                  ...   \n13279                                               Shew   \n13280                                          Ana Brown   \n13281                                       Gin Blossoms   \n13282                                              Sleep   \n13283                                        David Jones   \n\n       betweenesscentrality  closnesscentrality  clustering  degree  \\\n0              0.000000e+00            0.063318    0.000000       1   \n1              1.242772e-03            0.114187    0.123333      27   \n2              0.000000e+00            0.000000    0.000000       0   \n3              0.000000e+00            0.000000    0.000000       0   \n4              0.000000e+00            0.000000    0.000000       0   \n...                     ...                 ...         ...     ...   \n13279          0.000000e+00            0.075246    0.000000       1   \n13280          0.000000e+00            0.000000    0.000000       0   \n13281          0.000000e+00            0.000000    0.000000       0   \n13282          0.000000e+00            0.000136    0.000000       3   \n13283          1.700441e-07            0.000452    0.000000       8   \n\n       eccentricity  eigencentrality  weighted degree  pagerank  \\\n0                15     3.831688e-07                6  0.000066   \n1                13     1.017404e-01              228  0.000506   \n2                 0     1.962138e-19                0  0.000014   \n3                 0     1.962138e-19                0  0.000014   \n4                 0     1.962138e-19                0  0.000014   \n...             ...              ...              ...       ...   \n13279            14     9.620712e-06                2  0.000030   \n13280             0     1.962138e-19                0  0.000014   \n13281             0     1.962138e-19                0  0.000014   \n13282             2     2.035433e-12                8  0.000042   \n13283             1     2.370184e-11               42  0.000411   \n\n                   Spotify ID  Cluster      profile  \n0      1oZmFNkGAT93yD1xX4vTRE        2  1A 2B 3A 4A  \n1      46SHBwWsqBkxI7EeeBEQG7        0  1A 2B 3A 4A  \n2      5q0Noqo1xez13qMUVAuO6D        1  1A 2A 3A 4A  \n3      7iFLUM3KWeNmovIda6VMoE        1  1A 2A 3A 4A  \n4      0LzOTqAYfLa6nwqaMZO4FA        1  1A 2A 3A 4A  \n...                       ...      ...          ...  \n13279  5AWxcrt1uZZUrNG2UwhU9a        5  1A 2B 3A 4A  \n13280  6q9nymgjX8HjuL5bCJqejU        1  1A 2A 3A 4A  \n13281  6kXp61QMZFPcKMcRPqoiVj        1  1A 2A 3A 4A  \n13282  0rPlbXhAcVo7Jfhq3DLf38        1  1A 2A 3A 4A  \n13283  7Ls9QwSDJmmP65RnnEJBT8        1  1A 2A 3A 4A  \n\n[13284 rows x 12 columns]",
      "text/html": "<div>\n<style scoped>\n    .dataframe tbody tr th:only-of-type {\n        vertical-align: middle;\n    }\n\n    .dataframe tbody tr th {\n        vertical-align: top;\n    }\n\n    .dataframe thead th {\n        text-align: right;\n    }\n</style>\n<table border=\"1\" class=\"dataframe\">\n  <thead>\n    <tr style=\"text-align: right;\">\n      <th></th>\n      <th>name</th>\n      <th>betweenesscentrality</th>\n      <th>closnesscentrality</th>\n      <th>clustering</th>\n      <th>degree</th>\n      <th>eccentricity</th>\n      <th>eigencentrality</th>\n      <th>weighted degree</th>\n      <th>pagerank</th>\n      <th>Spotify ID</th>\n      <th>Cluster</th>\n      <th>profile</th>\n    </tr>\n  </thead>\n  <tbody>\n    <tr>\n      <th>0</th>\n      <td>Nina Kraviz</td>\n      <td>0.000000e+00</td>\n      <td>0.063318</td>\n      <td>0.000000</td>\n      <td>1</td>\n      <td>15</td>\n      <td>3.831688e-07</td>\n      <td>6</td>\n      <td>0.000066</td>\n      <td>1oZmFNkGAT93yD1xX4vTRE</td>\n      <td>2</td>\n      <td>1A 2B 3A 4A</td>\n    </tr>\n    <tr>\n      <th>1</th>\n      <td>Kodak Black</td>\n      <td>1.242772e-03</td>\n      <td>0.114187</td>\n      <td>0.123333</td>\n      <td>27</td>\n      <td>13</td>\n      <td>1.017404e-01</td>\n      <td>228</td>\n      <td>0.000506</td>\n      <td>46SHBwWsqBkxI7EeeBEQG7</td>\n      <td>0</td>\n      <td>1A 2B 3A 4A</td>\n    </tr>\n    <tr>\n      <th>2</th>\n      <td>The Waikikis</td>\n      <td>0.000000e+00</td>\n      <td>0.000000</td>\n      <td>0.000000</td>\n      <td>0</td>\n      <td>0</td>\n      <td>1.962138e-19</td>\n      <td>0</td>\n      <td>0.000014</td>\n      <td>5q0Noqo1xez13qMUVAuO6D</td>\n      <td>1</td>\n      <td>1A 2A 3A 4A</td>\n    </tr>\n    <tr>\n      <th>3</th>\n      <td>Tom Russell and Katy Moffett with Andrew Hardi...</td>\n      <td>0.000000e+00</td>\n      <td>0.000000</td>\n      <td>0.000000</td>\n      <td>0</td>\n      <td>0</td>\n      <td>1.962138e-19</td>\n      <td>0</td>\n      <td>0.000014</td>\n      <td>7iFLUM3KWeNmovIda6VMoE</td>\n      <td>1</td>\n      <td>1A 2A 3A 4A</td>\n    </tr>\n    <tr>\n      <th>4</th>\n      <td>Dennis McCarthy</td>\n      <td>0.000000e+00</td>\n      <td>0.000000</td>\n      <td>0.000000</td>\n      <td>0</td>\n      <td>0</td>\n      <td>1.962138e-19</td>\n      <td>0</td>\n      <td>0.000014</td>\n      <td>0LzOTqAYfLa6nwqaMZO4FA</td>\n      <td>1</td>\n      <td>1A 2A 3A 4A</td>\n    </tr>\n    <tr>\n      <th>...</th>\n      <td>...</td>\n      <td>...</td>\n      <td>...</td>\n      <td>...</td>\n      <td>...</td>\n      <td>...</td>\n      <td>...</td>\n      <td>...</td>\n      <td>...</td>\n      <td>...</td>\n      <td>...</td>\n      <td>...</td>\n    </tr>\n    <tr>\n      <th>13279</th>\n      <td>Shew</td>\n      <td>0.000000e+00</td>\n      <td>0.075246</td>\n      <td>0.000000</td>\n      <td>1</td>\n      <td>14</td>\n      <td>9.620712e-06</td>\n      <td>2</td>\n      <td>0.000030</td>\n      <td>5AWxcrt1uZZUrNG2UwhU9a</td>\n      <td>5</td>\n      <td>1A 2B 3A 4A</td>\n    </tr>\n    <tr>\n      <th>13280</th>\n      <td>Ana Brown</td>\n      <td>0.000000e+00</td>\n      <td>0.000000</td>\n      <td>0.000000</td>\n      <td>0</td>\n      <td>0</td>\n      <td>1.962138e-19</td>\n      <td>0</td>\n      <td>0.000014</td>\n      <td>6q9nymgjX8HjuL5bCJqejU</td>\n      <td>1</td>\n      <td>1A 2A 3A 4A</td>\n    </tr>\n    <tr>\n      <th>13281</th>\n      <td>Gin Blossoms</td>\n      <td>0.000000e+00</td>\n      <td>0.000000</td>\n      <td>0.000000</td>\n      <td>0</td>\n      <td>0</td>\n      <td>1.962138e-19</td>\n      <td>0</td>\n      <td>0.000014</td>\n      <td>6kXp61QMZFPcKMcRPqoiVj</td>\n      <td>1</td>\n      <td>1A 2A 3A 4A</td>\n    </tr>\n    <tr>\n      <th>13282</th>\n      <td>Sleep</td>\n      <td>0.000000e+00</td>\n      <td>0.000136</td>\n      <td>0.000000</td>\n      <td>3</td>\n      <td>2</td>\n      <td>2.035433e-12</td>\n      <td>8</td>\n      <td>0.000042</td>\n      <td>0rPlbXhAcVo7Jfhq3DLf38</td>\n      <td>1</td>\n      <td>1A 2A 3A 4A</td>\n    </tr>\n    <tr>\n      <th>13283</th>\n      <td>David Jones</td>\n      <td>1.700441e-07</td>\n      <td>0.000452</td>\n      <td>0.000000</td>\n      <td>8</td>\n      <td>1</td>\n      <td>2.370184e-11</td>\n      <td>42</td>\n      <td>0.000411</td>\n      <td>7Ls9QwSDJmmP65RnnEJBT8</td>\n      <td>1</td>\n      <td>1A 2A 3A 4A</td>\n    </tr>\n  </tbody>\n</table>\n<p>13284 rows × 12 columns</p>\n</div>"
     },
     "execution_count": 28,
     "metadata": {},
     "output_type": "execute_result"
    }
   ],
   "source": [
    "import pandas as pd\n",
    "\n",
    "df_artists_train = pd.read_csv(\"../../MusicOSet/network_clustered/nodes_train.csv\", sep=\",\")\n",
    "df_artists_train.drop(columns=[\"harmonicclosnesscentrality\"], inplace=True)\n",
    "df_artists_train"
   ],
   "metadata": {
    "collapsed": false,
    "pycharm": {
     "name": "#%%\n"
    },
    "ExecuteTime": {
     "end_time": "2024-07-26T23:06:01.304112900Z",
     "start_time": "2024-07-26T23:06:00.182139400Z"
    }
   },
   "id": "d94f65e888c706df"
  },
  {
   "cell_type": "code",
   "execution_count": 29,
   "outputs": [
    {
     "data": {
      "text/plain": "                   name  betweenesscentrality  closnesscentrality  clustering  \\\n0           Kodak Black          2.041474e-03            0.117694    0.149425   \n1          Moneybagg Yo          5.028644e-04            0.112265    0.122581   \n2          Modest Mouse          0.000000e+00            0.000000    0.000000   \n3            Izza Woods          0.000000e+00            0.000000    0.000000   \n4                  Kyla          1.555256e-05            0.078767    0.000000   \n...                 ...                   ...                 ...         ...   \n5897        Reckless 2X          3.022699e-08            0.000164    0.000000   \n5898      Twhy Xclusive          0.000000e+00            0.087042    0.000000   \n5899  Ibiza Lounge Club          0.000000e+00            0.001900    0.000000   \n5900   Adriano Trindade          0.000000e+00            0.000000    0.000000   \n5901        Gary Franks          0.000000e+00            0.065399    0.000000   \n\n      degree  eccentricity  eigencentrality  weighted degree  pagerank  \\\n0         32            14     1.103820e-01              272  0.000434   \n1         33            14     8.295566e-02              556  0.000717   \n2          0             0     5.163080e-20                0  0.000012   \n3          0             0     5.163080e-20                0  0.000012   \n4          4            15     7.512496e-06               12  0.000061   \n...      ...           ...              ...              ...       ...   \n5897       4             2     1.480611e-12                8  0.000092   \n5898       1            15     3.523498e-04                2  0.000019   \n5899       3             6     1.067876e-07               90  0.000065   \n5900       0             0     5.163080e-20                0  0.000012   \n5901       3            15     4.232461e-08               30  0.000061   \n\n                  Spotify ID  Cluster      profile  \n0     46SHBwWsqBkxI7EeeBEQG7        1  1A 2B 3A 4A  \n1     3tJoFztHeIJkJWMrx0td2f        1  1A 2B 3A 4A  \n2     1yAwtBaoHLEDWAnWR87hBT        0  1A 2A 3A 4A  \n3     2v7XXZVXBTYynoeqScAPzJ        0  1A 2A 3A 4A  \n4     77DAFfvm3O9zT5dIoG0eIO        1  1A 2B 3A 4A  \n...                      ...      ...          ...  \n5897  2hFD9op5QTJcsNYJIC9Kpt        0  1A 2A 3A 4A  \n5898  6S7YkU9PZEXdyeKVuTnXRS        1  1A 2B 3A 4A  \n5899  47JfhV9YkL58HUZluA650b        0  1A 2A 3A 4A  \n5900  3vXSdxNNn1FelqkMQf6ggX        0  1A 2A 3A 4A  \n5901  2O48M3sJpyAVYehc2BOFzY        1  1A 2B 3A 4A  \n\n[5902 rows x 12 columns]",
      "text/html": "<div>\n<style scoped>\n    .dataframe tbody tr th:only-of-type {\n        vertical-align: middle;\n    }\n\n    .dataframe tbody tr th {\n        vertical-align: top;\n    }\n\n    .dataframe thead th {\n        text-align: right;\n    }\n</style>\n<table border=\"1\" class=\"dataframe\">\n  <thead>\n    <tr style=\"text-align: right;\">\n      <th></th>\n      <th>name</th>\n      <th>betweenesscentrality</th>\n      <th>closnesscentrality</th>\n      <th>clustering</th>\n      <th>degree</th>\n      <th>eccentricity</th>\n      <th>eigencentrality</th>\n      <th>weighted degree</th>\n      <th>pagerank</th>\n      <th>Spotify ID</th>\n      <th>Cluster</th>\n      <th>profile</th>\n    </tr>\n  </thead>\n  <tbody>\n    <tr>\n      <th>0</th>\n      <td>Kodak Black</td>\n      <td>2.041474e-03</td>\n      <td>0.117694</td>\n      <td>0.149425</td>\n      <td>32</td>\n      <td>14</td>\n      <td>1.103820e-01</td>\n      <td>272</td>\n      <td>0.000434</td>\n      <td>46SHBwWsqBkxI7EeeBEQG7</td>\n      <td>1</td>\n      <td>1A 2B 3A 4A</td>\n    </tr>\n    <tr>\n      <th>1</th>\n      <td>Moneybagg Yo</td>\n      <td>5.028644e-04</td>\n      <td>0.112265</td>\n      <td>0.122581</td>\n      <td>33</td>\n      <td>14</td>\n      <td>8.295566e-02</td>\n      <td>556</td>\n      <td>0.000717</td>\n      <td>3tJoFztHeIJkJWMrx0td2f</td>\n      <td>1</td>\n      <td>1A 2B 3A 4A</td>\n    </tr>\n    <tr>\n      <th>2</th>\n      <td>Modest Mouse</td>\n      <td>0.000000e+00</td>\n      <td>0.000000</td>\n      <td>0.000000</td>\n      <td>0</td>\n      <td>0</td>\n      <td>5.163080e-20</td>\n      <td>0</td>\n      <td>0.000012</td>\n      <td>1yAwtBaoHLEDWAnWR87hBT</td>\n      <td>0</td>\n      <td>1A 2A 3A 4A</td>\n    </tr>\n    <tr>\n      <th>3</th>\n      <td>Izza Woods</td>\n      <td>0.000000e+00</td>\n      <td>0.000000</td>\n      <td>0.000000</td>\n      <td>0</td>\n      <td>0</td>\n      <td>5.163080e-20</td>\n      <td>0</td>\n      <td>0.000012</td>\n      <td>2v7XXZVXBTYynoeqScAPzJ</td>\n      <td>0</td>\n      <td>1A 2A 3A 4A</td>\n    </tr>\n    <tr>\n      <th>4</th>\n      <td>Kyla</td>\n      <td>1.555256e-05</td>\n      <td>0.078767</td>\n      <td>0.000000</td>\n      <td>4</td>\n      <td>15</td>\n      <td>7.512496e-06</td>\n      <td>12</td>\n      <td>0.000061</td>\n      <td>77DAFfvm3O9zT5dIoG0eIO</td>\n      <td>1</td>\n      <td>1A 2B 3A 4A</td>\n    </tr>\n    <tr>\n      <th>...</th>\n      <td>...</td>\n      <td>...</td>\n      <td>...</td>\n      <td>...</td>\n      <td>...</td>\n      <td>...</td>\n      <td>...</td>\n      <td>...</td>\n      <td>...</td>\n      <td>...</td>\n      <td>...</td>\n      <td>...</td>\n    </tr>\n    <tr>\n      <th>5897</th>\n      <td>Reckless 2X</td>\n      <td>3.022699e-08</td>\n      <td>0.000164</td>\n      <td>0.000000</td>\n      <td>4</td>\n      <td>2</td>\n      <td>1.480611e-12</td>\n      <td>8</td>\n      <td>0.000092</td>\n      <td>2hFD9op5QTJcsNYJIC9Kpt</td>\n      <td>0</td>\n      <td>1A 2A 3A 4A</td>\n    </tr>\n    <tr>\n      <th>5898</th>\n      <td>Twhy Xclusive</td>\n      <td>0.000000e+00</td>\n      <td>0.087042</td>\n      <td>0.000000</td>\n      <td>1</td>\n      <td>15</td>\n      <td>3.523498e-04</td>\n      <td>2</td>\n      <td>0.000019</td>\n      <td>6S7YkU9PZEXdyeKVuTnXRS</td>\n      <td>1</td>\n      <td>1A 2B 3A 4A</td>\n    </tr>\n    <tr>\n      <th>5899</th>\n      <td>Ibiza Lounge Club</td>\n      <td>0.000000e+00</td>\n      <td>0.001900</td>\n      <td>0.000000</td>\n      <td>3</td>\n      <td>6</td>\n      <td>1.067876e-07</td>\n      <td>90</td>\n      <td>0.000065</td>\n      <td>47JfhV9YkL58HUZluA650b</td>\n      <td>0</td>\n      <td>1A 2A 3A 4A</td>\n    </tr>\n    <tr>\n      <th>5900</th>\n      <td>Adriano Trindade</td>\n      <td>0.000000e+00</td>\n      <td>0.000000</td>\n      <td>0.000000</td>\n      <td>0</td>\n      <td>0</td>\n      <td>5.163080e-20</td>\n      <td>0</td>\n      <td>0.000012</td>\n      <td>3vXSdxNNn1FelqkMQf6ggX</td>\n      <td>0</td>\n      <td>1A 2A 3A 4A</td>\n    </tr>\n    <tr>\n      <th>5901</th>\n      <td>Gary Franks</td>\n      <td>0.000000e+00</td>\n      <td>0.065399</td>\n      <td>0.000000</td>\n      <td>3</td>\n      <td>15</td>\n      <td>4.232461e-08</td>\n      <td>30</td>\n      <td>0.000061</td>\n      <td>2O48M3sJpyAVYehc2BOFzY</td>\n      <td>1</td>\n      <td>1A 2B 3A 4A</td>\n    </tr>\n  </tbody>\n</table>\n<p>5902 rows × 12 columns</p>\n</div>"
     },
     "execution_count": 29,
     "metadata": {},
     "output_type": "execute_result"
    }
   ],
   "source": [
    "import pandas as pd\n",
    "\n",
    "df_artists_test = pd.read_csv(\"../../MusicOSet/network_clustered/nodes_test_v2.csv\", sep=\",\")\n",
    "df_artists_test.drop(columns=[\"harmonicclosnesscentrality\"], inplace=True)\n",
    "df_artists_test"
   ],
   "metadata": {
    "collapsed": false,
    "pycharm": {
     "name": "#%%\n"
    },
    "ExecuteTime": {
     "end_time": "2024-07-26T23:06:01.307113500Z",
     "start_time": "2024-07-26T23:06:00.504844400Z"
    }
   },
   "id": "fcd582b30cbfaa79"
  },
  {
   "cell_type": "markdown",
   "source": [
    "## Songs:"
   ],
   "metadata": {
    "collapsed": false,
    "pycharm": {
     "name": "#%% md\n"
    }
   },
   "id": "2d0bd0c15e29ca2f"
  },
  {
   "cell_type": "code",
   "execution_count": 30,
   "outputs": [
    {
     "data": {
      "text/plain": "                      song_id  \\\n0      3e9HZxeyfWwjeyPAMmWSSQ   \n1      5p7ujcrUXASCNwRaWNHR1C   \n2      2xLMifQCjDGFmkHkpNLD9h   \n3      3KkXRkHbMCARz0aVfEt68P   \n4      1rqqCSm0Qe4I9rUvWncaom   \n...                       ...   \n11954  5mz9pQZZXNpAw9CdQ7Bk8q   \n11955  2H9CKpZiLDF223BbwehpDF   \n11956  7zqM7Wm2xJLZ50qAnTLoHD   \n11957  4DPlKVZ6R1EHLfnIsy9ouh   \n11958  6RUa3ZwZYnJnNgZxtIYJR9   \n\n                                               song_name  \\\n0                                          thank u, next   \n1                                             Without Me   \n2                                             SICKO MODE   \n3          Sunflower - Spider-Man: Into the Spider-Verse   \n4                                             High Hopes   \n...                                                  ...   \n11954                Don't Pity Me - Mono; 2003 Remaster   \n11955                        Hush Hush; Hush Hush - Main   \n11956                              Lions, Tigers & Bears   \n11957                                         The Weight   \n11958  Purest of Pain (A Puro Dolor) - Martinee's Rad...   \n\n                                              id_artists  \\\n0                             ['66CXWjxzNUsdJxJ2JdwvnR']   \n1                             ['26VFTg2z8YR0cCuwLzESi2']   \n2                             ['0Y5tJX1MQlPlqiwlOH1tJY']   \n3      ['246dkjvS1zLTtiykXe5h60', '1zNqQNIdeOUZHb8zbZ...   \n4                             ['20JZFwl6HVl6yg8a4H3ZqK']   \n...                                                  ...   \n11954                         ['6lHC2EQMEMZiEmSfFloarn']   \n11955                         ['6wPhSqRtPu1UhRCDX5yaDJ']   \n11956                         ['7gSjFKpVmDgC2MMsnN8CYq']   \n11957  ['0rXI0q8Cahq6numvPlloaq', '3RwQ26hR2tJtA8F9p2...   \n11958  ['1qyAl8T6GTcaOViaI7fs1j', '7AOI1S3Uy411dDhNTd...   \n\n                                           name_artists  popularity  explicit  \\\n0                                     ['Ariana Grande']          87      True   \n1                                            ['Halsey']          87      True   \n2                                      ['Travis Scott']          86      True   \n3                           ['Post Malone', 'Swae Lee']          92     False   \n4                               ['Panic! At The Disco']          86     False   \n...                                                 ...         ...       ...   \n11954                              ['Peter And Gordon']           8     False   \n11955                            ['The Pussycat Dolls']          57     False   \n11956                              ['Jazmine Sullivan']          49     False   \n11957  ['Diana Ross & The Supremes', 'The Temptations']           2     False   \n11958                 ['Son By Four', 'Lewis Martinee']          10     False   \n\n           song_type  track_number  num_artists  num_available_markets  ...  \\\n0               Solo            11            1                     79  ...   \n1               Solo             1            1                     79  ...   \n2               Solo             3            1                     79  ...   \n3      Collaboration             2            2                     79  ...   \n4               Solo             4            1                     78  ...   \n...              ...           ...          ...                    ...  ...   \n11954           Solo             1            1                     78  ...   \n11955           Solo             1            1                     59  ...   \n11956           Solo             4            1                     71  ...   \n11957  Collaboration            23            2                     79  ...   \n11958  Collaboration             1            2                     79  ...   \n\n      acousticness  danceability  energy  instrumentalness  liveness  \\\n0          0.22900         0.717   0.653          0.000000    0.1010   \n1          0.29700         0.752   0.488          0.000009    0.0936   \n2          0.00513         0.834   0.730          0.000000    0.1240   \n3          0.55600         0.760   0.479          0.000000    0.0703   \n4          0.19300         0.579   0.904          0.000000    0.0640   \n...            ...           ...     ...               ...       ...   \n11954      0.61900         0.500   0.654          0.000000    0.3320   \n11955      0.10500         0.609   0.790          0.000000    0.3140   \n11956      0.07880         0.576   0.515          0.000000    0.1180   \n11957      0.37000         0.566   0.607          0.000000    0.6710   \n11958      0.45000         0.593   0.939          0.000013    0.1090   \n\n       loudness  speechiness  valence    tempo  hit  \n0        -5.634       0.0658    0.412  106.966    1  \n1        -7.050       0.0705    0.533  136.041    1  \n2        -3.714       0.2220    0.446  155.008    1  \n3        -5.574       0.0466    0.913   89.911    1  \n4        -2.729       0.0618    0.681   82.014    1  \n...         ...          ...      ...      ...  ...  \n11954    -8.633       0.0394    0.403  107.326    1  \n11955    -3.787       0.0663    0.664  129.334    1  \n11956    -6.178       0.0295    0.407   95.406    1  \n11957    -7.532       0.0357    0.765   91.378    1  \n11958    -3.431       0.0616    0.743  134.108    1  \n\n[11959 rows x 25 columns]",
      "text/html": "<div>\n<style scoped>\n    .dataframe tbody tr th:only-of-type {\n        vertical-align: middle;\n    }\n\n    .dataframe tbody tr th {\n        vertical-align: top;\n    }\n\n    .dataframe thead th {\n        text-align: right;\n    }\n</style>\n<table border=\"1\" class=\"dataframe\">\n  <thead>\n    <tr style=\"text-align: right;\">\n      <th></th>\n      <th>song_id</th>\n      <th>song_name</th>\n      <th>id_artists</th>\n      <th>name_artists</th>\n      <th>popularity</th>\n      <th>explicit</th>\n      <th>song_type</th>\n      <th>track_number</th>\n      <th>num_artists</th>\n      <th>num_available_markets</th>\n      <th>...</th>\n      <th>acousticness</th>\n      <th>danceability</th>\n      <th>energy</th>\n      <th>instrumentalness</th>\n      <th>liveness</th>\n      <th>loudness</th>\n      <th>speechiness</th>\n      <th>valence</th>\n      <th>tempo</th>\n      <th>hit</th>\n    </tr>\n  </thead>\n  <tbody>\n    <tr>\n      <th>0</th>\n      <td>3e9HZxeyfWwjeyPAMmWSSQ</td>\n      <td>thank u, next</td>\n      <td>['66CXWjxzNUsdJxJ2JdwvnR']</td>\n      <td>['Ariana Grande']</td>\n      <td>87</td>\n      <td>True</td>\n      <td>Solo</td>\n      <td>11</td>\n      <td>1</td>\n      <td>79</td>\n      <td>...</td>\n      <td>0.22900</td>\n      <td>0.717</td>\n      <td>0.653</td>\n      <td>0.000000</td>\n      <td>0.1010</td>\n      <td>-5.634</td>\n      <td>0.0658</td>\n      <td>0.412</td>\n      <td>106.966</td>\n      <td>1</td>\n    </tr>\n    <tr>\n      <th>1</th>\n      <td>5p7ujcrUXASCNwRaWNHR1C</td>\n      <td>Without Me</td>\n      <td>['26VFTg2z8YR0cCuwLzESi2']</td>\n      <td>['Halsey']</td>\n      <td>87</td>\n      <td>True</td>\n      <td>Solo</td>\n      <td>1</td>\n      <td>1</td>\n      <td>79</td>\n      <td>...</td>\n      <td>0.29700</td>\n      <td>0.752</td>\n      <td>0.488</td>\n      <td>0.000009</td>\n      <td>0.0936</td>\n      <td>-7.050</td>\n      <td>0.0705</td>\n      <td>0.533</td>\n      <td>136.041</td>\n      <td>1</td>\n    </tr>\n    <tr>\n      <th>2</th>\n      <td>2xLMifQCjDGFmkHkpNLD9h</td>\n      <td>SICKO MODE</td>\n      <td>['0Y5tJX1MQlPlqiwlOH1tJY']</td>\n      <td>['Travis Scott']</td>\n      <td>86</td>\n      <td>True</td>\n      <td>Solo</td>\n      <td>3</td>\n      <td>1</td>\n      <td>79</td>\n      <td>...</td>\n      <td>0.00513</td>\n      <td>0.834</td>\n      <td>0.730</td>\n      <td>0.000000</td>\n      <td>0.1240</td>\n      <td>-3.714</td>\n      <td>0.2220</td>\n      <td>0.446</td>\n      <td>155.008</td>\n      <td>1</td>\n    </tr>\n    <tr>\n      <th>3</th>\n      <td>3KkXRkHbMCARz0aVfEt68P</td>\n      <td>Sunflower - Spider-Man: Into the Spider-Verse</td>\n      <td>['246dkjvS1zLTtiykXe5h60', '1zNqQNIdeOUZHb8zbZ...</td>\n      <td>['Post Malone', 'Swae Lee']</td>\n      <td>92</td>\n      <td>False</td>\n      <td>Collaboration</td>\n      <td>2</td>\n      <td>2</td>\n      <td>79</td>\n      <td>...</td>\n      <td>0.55600</td>\n      <td>0.760</td>\n      <td>0.479</td>\n      <td>0.000000</td>\n      <td>0.0703</td>\n      <td>-5.574</td>\n      <td>0.0466</td>\n      <td>0.913</td>\n      <td>89.911</td>\n      <td>1</td>\n    </tr>\n    <tr>\n      <th>4</th>\n      <td>1rqqCSm0Qe4I9rUvWncaom</td>\n      <td>High Hopes</td>\n      <td>['20JZFwl6HVl6yg8a4H3ZqK']</td>\n      <td>['Panic! At The Disco']</td>\n      <td>86</td>\n      <td>False</td>\n      <td>Solo</td>\n      <td>4</td>\n      <td>1</td>\n      <td>78</td>\n      <td>...</td>\n      <td>0.19300</td>\n      <td>0.579</td>\n      <td>0.904</td>\n      <td>0.000000</td>\n      <td>0.0640</td>\n      <td>-2.729</td>\n      <td>0.0618</td>\n      <td>0.681</td>\n      <td>82.014</td>\n      <td>1</td>\n    </tr>\n    <tr>\n      <th>...</th>\n      <td>...</td>\n      <td>...</td>\n      <td>...</td>\n      <td>...</td>\n      <td>...</td>\n      <td>...</td>\n      <td>...</td>\n      <td>...</td>\n      <td>...</td>\n      <td>...</td>\n      <td>...</td>\n      <td>...</td>\n      <td>...</td>\n      <td>...</td>\n      <td>...</td>\n      <td>...</td>\n      <td>...</td>\n      <td>...</td>\n      <td>...</td>\n      <td>...</td>\n      <td>...</td>\n    </tr>\n    <tr>\n      <th>11954</th>\n      <td>5mz9pQZZXNpAw9CdQ7Bk8q</td>\n      <td>Don't Pity Me - Mono; 2003 Remaster</td>\n      <td>['6lHC2EQMEMZiEmSfFloarn']</td>\n      <td>['Peter And Gordon']</td>\n      <td>8</td>\n      <td>False</td>\n      <td>Solo</td>\n      <td>1</td>\n      <td>1</td>\n      <td>78</td>\n      <td>...</td>\n      <td>0.61900</td>\n      <td>0.500</td>\n      <td>0.654</td>\n      <td>0.000000</td>\n      <td>0.3320</td>\n      <td>-8.633</td>\n      <td>0.0394</td>\n      <td>0.403</td>\n      <td>107.326</td>\n      <td>1</td>\n    </tr>\n    <tr>\n      <th>11955</th>\n      <td>2H9CKpZiLDF223BbwehpDF</td>\n      <td>Hush Hush; Hush Hush - Main</td>\n      <td>['6wPhSqRtPu1UhRCDX5yaDJ']</td>\n      <td>['The Pussycat Dolls']</td>\n      <td>57</td>\n      <td>False</td>\n      <td>Solo</td>\n      <td>1</td>\n      <td>1</td>\n      <td>59</td>\n      <td>...</td>\n      <td>0.10500</td>\n      <td>0.609</td>\n      <td>0.790</td>\n      <td>0.000000</td>\n      <td>0.3140</td>\n      <td>-3.787</td>\n      <td>0.0663</td>\n      <td>0.664</td>\n      <td>129.334</td>\n      <td>1</td>\n    </tr>\n    <tr>\n      <th>11956</th>\n      <td>7zqM7Wm2xJLZ50qAnTLoHD</td>\n      <td>Lions, Tigers &amp; Bears</td>\n      <td>['7gSjFKpVmDgC2MMsnN8CYq']</td>\n      <td>['Jazmine Sullivan']</td>\n      <td>49</td>\n      <td>False</td>\n      <td>Solo</td>\n      <td>4</td>\n      <td>1</td>\n      <td>71</td>\n      <td>...</td>\n      <td>0.07880</td>\n      <td>0.576</td>\n      <td>0.515</td>\n      <td>0.000000</td>\n      <td>0.1180</td>\n      <td>-6.178</td>\n      <td>0.0295</td>\n      <td>0.407</td>\n      <td>95.406</td>\n      <td>1</td>\n    </tr>\n    <tr>\n      <th>11957</th>\n      <td>4DPlKVZ6R1EHLfnIsy9ouh</td>\n      <td>The Weight</td>\n      <td>['0rXI0q8Cahq6numvPlloaq', '3RwQ26hR2tJtA8F9p2...</td>\n      <td>['Diana Ross &amp; The Supremes', 'The Temptations']</td>\n      <td>2</td>\n      <td>False</td>\n      <td>Collaboration</td>\n      <td>23</td>\n      <td>2</td>\n      <td>79</td>\n      <td>...</td>\n      <td>0.37000</td>\n      <td>0.566</td>\n      <td>0.607</td>\n      <td>0.000000</td>\n      <td>0.6710</td>\n      <td>-7.532</td>\n      <td>0.0357</td>\n      <td>0.765</td>\n      <td>91.378</td>\n      <td>1</td>\n    </tr>\n    <tr>\n      <th>11958</th>\n      <td>6RUa3ZwZYnJnNgZxtIYJR9</td>\n      <td>Purest of Pain (A Puro Dolor) - Martinee's Rad...</td>\n      <td>['1qyAl8T6GTcaOViaI7fs1j', '7AOI1S3Uy411dDhNTd...</td>\n      <td>['Son By Four', 'Lewis Martinee']</td>\n      <td>10</td>\n      <td>False</td>\n      <td>Collaboration</td>\n      <td>1</td>\n      <td>2</td>\n      <td>79</td>\n      <td>...</td>\n      <td>0.45000</td>\n      <td>0.593</td>\n      <td>0.939</td>\n      <td>0.000013</td>\n      <td>0.1090</td>\n      <td>-3.431</td>\n      <td>0.0616</td>\n      <td>0.743</td>\n      <td>134.108</td>\n      <td>1</td>\n    </tr>\n  </tbody>\n</table>\n<p>11959 rows × 25 columns</p>\n</div>"
     },
     "execution_count": 30,
     "metadata": {},
     "output_type": "execute_result"
    }
   ],
   "source": [
    "df_hits = pd.read_csv(\"../../MusicOSet/additional/hits_dataset.csv\", delimiter=\"\\t\")\n",
    "df_hits[\"hit\"] = 1\n",
    "df_hits"
   ],
   "metadata": {
    "collapsed": false,
    "pycharm": {
     "name": "#%%\n"
    },
    "ExecuteTime": {
     "end_time": "2024-07-26T23:06:01.308112300Z",
     "start_time": "2024-07-26T23:06:00.583964600Z"
    }
   },
   "id": "9b95507e74b0f645"
  },
  {
   "cell_type": "code",
   "execution_count": 31,
   "outputs": [
    {
     "data": {
      "text/plain": "                       song_id  \\\n0       1TEL6MlSSVLSdhOSddidlJ   \n1       4uTvPEr01pjTbZgl7jcKBD   \n2       2hloaUoRonYssMuqLCBLTX   \n3       3wFLWP0FcIqHK1wb1CPthQ   \n4       5Il6Oe7lr5XM7A0cWbVQtr   \n...                        ...   \n899063  2tP0ryZParpdjvxubgXhTN   \n899064  7Ltni80U0w7bmYjXPNzSEa   \n899065  1gQClXN1Dq4rj0wBzddcNA   \n899066  2jhxQrFNdVPkWL28X7ZpeK   \n899067  6KkbkpUObAqcKGEfvguHJO   \n\n                                               song_name  \\\n0                                                  needy   \n1                                                   NASA   \n2                                              bloodline   \n3                                             fake smile   \n4                                               bad idea   \n...                                                  ...   \n899063                              Love Is Here to Stay   \n899064                                 Heinlein's Planet   \n899065     Beds are Burning - Karaoke Lead Vocal Version   \n899066  Un homme heureux - Version karaoké instrumentale   \n899067                     Santa Claus Is Coming to Town   \n\n                                               id_artists  \\\n0                              ['66CXWjxzNUsdJxJ2JdwvnR']   \n1                              ['66CXWjxzNUsdJxJ2JdwvnR']   \n2                              ['66CXWjxzNUsdJxJ2JdwvnR']   \n3                              ['66CXWjxzNUsdJxJ2JdwvnR']   \n4                              ['66CXWjxzNUsdJxJ2JdwvnR']   \n...                                                   ...   \n899063  ['3Dzj993UEz8Z5ovxuirzFO', '6RCsx4p5smZHYz2P5H...   \n899064                         ['4urvwbid7NFoVes5PTx9lV']   \n899065                         ['7yv4DJOCmilSbxxsdQgXWk']   \n899066                         ['7yv4DJOCmilSbxxsdQgXWk']   \n899067                         ['7tdO7d7r0vhwov7RIZWH6V']   \n\n                                     name_artists  popularity  explicit  \\\n0                               ['Ariana Grande']          76      True   \n1                               ['Ariana Grande']          76     False   \n2                               ['Ariana Grande']          74      True   \n3                               ['Ariana Grande']          73      True   \n4                               ['Ariana Grande']          74     False   \n...                                           ...         ...       ...   \n899063  ['Lindsey Buckingham', 'Christine McVie']          16     False   \n899064                             ['Tony Carey']           0     False   \n899065                             ['Pictomusic']           0     False   \n899066                             ['Pictomusic']           0     False   \n899067                            ['Mitch Ryder']           0     False   \n\n            song_type  track_number  num_artists  num_available_markets  ...  \\\n0                Solo             2            1                     79  ...   \n1                Solo             3            1                     79  ...   \n2                Solo             4            1                     79  ...   \n3                Solo             5            1                     79  ...   \n4                Solo             6            1                     79  ...   \n...               ...           ...          ...                    ...  ...   \n899063  Collaboration             5            2                      1  ...   \n899064           Solo             5            1                     79  ...   \n899065           Solo             2            1                     79  ...   \n899066           Solo             1            1                     79  ...   \n899067           Solo             3            1                     79  ...   \n\n       acousticness  danceability  energy  instrumentalness  liveness  \\\n0            0.7800         0.647   0.309          0.000007    0.2020   \n1            0.4510         0.747   0.458          0.000000    0.2520   \n2            0.0815         0.758   0.665          0.000157    0.2160   \n3            0.3290         0.450   0.619          0.000000    0.3190   \n4            0.0268         0.847   0.579          0.054500    0.1020   \n...             ...           ...     ...               ...       ...   \n899063       0.3660         0.446   0.658          0.000025    0.7510   \n899064       0.4810         0.305   0.456          0.933000    0.1110   \n899065       0.0118         0.852   0.648          0.000000    0.0503   \n899066       0.9730         0.664   0.353          0.787000    0.0878   \n899067       0.3860         0.651   0.896          0.001630    0.0734   \n\n        loudness  speechiness  valence    tempo  hit  \n0         -7.948       0.0366    0.195   87.045    0  \n1         -6.891       0.3030    0.470   75.029    0  \n2         -5.188       0.0774    0.643  151.976    0  \n3         -7.412       0.3720    0.427   83.300    0  \n4         -5.314       0.0719    0.569  137.998    0  \n...          ...          ...      ...      ...  ...  \n899063    -8.362       0.0297    0.554   84.740    0  \n899064   -20.199       0.0634    0.171   96.996    0  \n899065    -7.189       0.0480    0.559  120.150    0  \n899066   -12.303       0.0693    0.284  116.450    0  \n899067    -6.004       0.0327    0.893  148.107    0  \n\n[899068 rows x 25 columns]",
      "text/html": "<div>\n<style scoped>\n    .dataframe tbody tr th:only-of-type {\n        vertical-align: middle;\n    }\n\n    .dataframe tbody tr th {\n        vertical-align: top;\n    }\n\n    .dataframe thead th {\n        text-align: right;\n    }\n</style>\n<table border=\"1\" class=\"dataframe\">\n  <thead>\n    <tr style=\"text-align: right;\">\n      <th></th>\n      <th>song_id</th>\n      <th>song_name</th>\n      <th>id_artists</th>\n      <th>name_artists</th>\n      <th>popularity</th>\n      <th>explicit</th>\n      <th>song_type</th>\n      <th>track_number</th>\n      <th>num_artists</th>\n      <th>num_available_markets</th>\n      <th>...</th>\n      <th>acousticness</th>\n      <th>danceability</th>\n      <th>energy</th>\n      <th>instrumentalness</th>\n      <th>liveness</th>\n      <th>loudness</th>\n      <th>speechiness</th>\n      <th>valence</th>\n      <th>tempo</th>\n      <th>hit</th>\n    </tr>\n  </thead>\n  <tbody>\n    <tr>\n      <th>0</th>\n      <td>1TEL6MlSSVLSdhOSddidlJ</td>\n      <td>needy</td>\n      <td>['66CXWjxzNUsdJxJ2JdwvnR']</td>\n      <td>['Ariana Grande']</td>\n      <td>76</td>\n      <td>True</td>\n      <td>Solo</td>\n      <td>2</td>\n      <td>1</td>\n      <td>79</td>\n      <td>...</td>\n      <td>0.7800</td>\n      <td>0.647</td>\n      <td>0.309</td>\n      <td>0.000007</td>\n      <td>0.2020</td>\n      <td>-7.948</td>\n      <td>0.0366</td>\n      <td>0.195</td>\n      <td>87.045</td>\n      <td>0</td>\n    </tr>\n    <tr>\n      <th>1</th>\n      <td>4uTvPEr01pjTbZgl7jcKBD</td>\n      <td>NASA</td>\n      <td>['66CXWjxzNUsdJxJ2JdwvnR']</td>\n      <td>['Ariana Grande']</td>\n      <td>76</td>\n      <td>False</td>\n      <td>Solo</td>\n      <td>3</td>\n      <td>1</td>\n      <td>79</td>\n      <td>...</td>\n      <td>0.4510</td>\n      <td>0.747</td>\n      <td>0.458</td>\n      <td>0.000000</td>\n      <td>0.2520</td>\n      <td>-6.891</td>\n      <td>0.3030</td>\n      <td>0.470</td>\n      <td>75.029</td>\n      <td>0</td>\n    </tr>\n    <tr>\n      <th>2</th>\n      <td>2hloaUoRonYssMuqLCBLTX</td>\n      <td>bloodline</td>\n      <td>['66CXWjxzNUsdJxJ2JdwvnR']</td>\n      <td>['Ariana Grande']</td>\n      <td>74</td>\n      <td>True</td>\n      <td>Solo</td>\n      <td>4</td>\n      <td>1</td>\n      <td>79</td>\n      <td>...</td>\n      <td>0.0815</td>\n      <td>0.758</td>\n      <td>0.665</td>\n      <td>0.000157</td>\n      <td>0.2160</td>\n      <td>-5.188</td>\n      <td>0.0774</td>\n      <td>0.643</td>\n      <td>151.976</td>\n      <td>0</td>\n    </tr>\n    <tr>\n      <th>3</th>\n      <td>3wFLWP0FcIqHK1wb1CPthQ</td>\n      <td>fake smile</td>\n      <td>['66CXWjxzNUsdJxJ2JdwvnR']</td>\n      <td>['Ariana Grande']</td>\n      <td>73</td>\n      <td>True</td>\n      <td>Solo</td>\n      <td>5</td>\n      <td>1</td>\n      <td>79</td>\n      <td>...</td>\n      <td>0.3290</td>\n      <td>0.450</td>\n      <td>0.619</td>\n      <td>0.000000</td>\n      <td>0.3190</td>\n      <td>-7.412</td>\n      <td>0.3720</td>\n      <td>0.427</td>\n      <td>83.300</td>\n      <td>0</td>\n    </tr>\n    <tr>\n      <th>4</th>\n      <td>5Il6Oe7lr5XM7A0cWbVQtr</td>\n      <td>bad idea</td>\n      <td>['66CXWjxzNUsdJxJ2JdwvnR']</td>\n      <td>['Ariana Grande']</td>\n      <td>74</td>\n      <td>False</td>\n      <td>Solo</td>\n      <td>6</td>\n      <td>1</td>\n      <td>79</td>\n      <td>...</td>\n      <td>0.0268</td>\n      <td>0.847</td>\n      <td>0.579</td>\n      <td>0.054500</td>\n      <td>0.1020</td>\n      <td>-5.314</td>\n      <td>0.0719</td>\n      <td>0.569</td>\n      <td>137.998</td>\n      <td>0</td>\n    </tr>\n    <tr>\n      <th>...</th>\n      <td>...</td>\n      <td>...</td>\n      <td>...</td>\n      <td>...</td>\n      <td>...</td>\n      <td>...</td>\n      <td>...</td>\n      <td>...</td>\n      <td>...</td>\n      <td>...</td>\n      <td>...</td>\n      <td>...</td>\n      <td>...</td>\n      <td>...</td>\n      <td>...</td>\n      <td>...</td>\n      <td>...</td>\n      <td>...</td>\n      <td>...</td>\n      <td>...</td>\n      <td>...</td>\n    </tr>\n    <tr>\n      <th>899063</th>\n      <td>2tP0ryZParpdjvxubgXhTN</td>\n      <td>Love Is Here to Stay</td>\n      <td>['3Dzj993UEz8Z5ovxuirzFO', '6RCsx4p5smZHYz2P5H...</td>\n      <td>['Lindsey Buckingham', 'Christine McVie']</td>\n      <td>16</td>\n      <td>False</td>\n      <td>Collaboration</td>\n      <td>5</td>\n      <td>2</td>\n      <td>1</td>\n      <td>...</td>\n      <td>0.3660</td>\n      <td>0.446</td>\n      <td>0.658</td>\n      <td>0.000025</td>\n      <td>0.7510</td>\n      <td>-8.362</td>\n      <td>0.0297</td>\n      <td>0.554</td>\n      <td>84.740</td>\n      <td>0</td>\n    </tr>\n    <tr>\n      <th>899064</th>\n      <td>7Ltni80U0w7bmYjXPNzSEa</td>\n      <td>Heinlein's Planet</td>\n      <td>['4urvwbid7NFoVes5PTx9lV']</td>\n      <td>['Tony Carey']</td>\n      <td>0</td>\n      <td>False</td>\n      <td>Solo</td>\n      <td>5</td>\n      <td>1</td>\n      <td>79</td>\n      <td>...</td>\n      <td>0.4810</td>\n      <td>0.305</td>\n      <td>0.456</td>\n      <td>0.933000</td>\n      <td>0.1110</td>\n      <td>-20.199</td>\n      <td>0.0634</td>\n      <td>0.171</td>\n      <td>96.996</td>\n      <td>0</td>\n    </tr>\n    <tr>\n      <th>899065</th>\n      <td>1gQClXN1Dq4rj0wBzddcNA</td>\n      <td>Beds are Burning - Karaoke Lead Vocal Version</td>\n      <td>['7yv4DJOCmilSbxxsdQgXWk']</td>\n      <td>['Pictomusic']</td>\n      <td>0</td>\n      <td>False</td>\n      <td>Solo</td>\n      <td>2</td>\n      <td>1</td>\n      <td>79</td>\n      <td>...</td>\n      <td>0.0118</td>\n      <td>0.852</td>\n      <td>0.648</td>\n      <td>0.000000</td>\n      <td>0.0503</td>\n      <td>-7.189</td>\n      <td>0.0480</td>\n      <td>0.559</td>\n      <td>120.150</td>\n      <td>0</td>\n    </tr>\n    <tr>\n      <th>899066</th>\n      <td>2jhxQrFNdVPkWL28X7ZpeK</td>\n      <td>Un homme heureux - Version karaoké instrumentale</td>\n      <td>['7yv4DJOCmilSbxxsdQgXWk']</td>\n      <td>['Pictomusic']</td>\n      <td>0</td>\n      <td>False</td>\n      <td>Solo</td>\n      <td>1</td>\n      <td>1</td>\n      <td>79</td>\n      <td>...</td>\n      <td>0.9730</td>\n      <td>0.664</td>\n      <td>0.353</td>\n      <td>0.787000</td>\n      <td>0.0878</td>\n      <td>-12.303</td>\n      <td>0.0693</td>\n      <td>0.284</td>\n      <td>116.450</td>\n      <td>0</td>\n    </tr>\n    <tr>\n      <th>899067</th>\n      <td>6KkbkpUObAqcKGEfvguHJO</td>\n      <td>Santa Claus Is Coming to Town</td>\n      <td>['7tdO7d7r0vhwov7RIZWH6V']</td>\n      <td>['Mitch Ryder']</td>\n      <td>0</td>\n      <td>False</td>\n      <td>Solo</td>\n      <td>3</td>\n      <td>1</td>\n      <td>79</td>\n      <td>...</td>\n      <td>0.3860</td>\n      <td>0.651</td>\n      <td>0.896</td>\n      <td>0.001630</td>\n      <td>0.0734</td>\n      <td>-6.004</td>\n      <td>0.0327</td>\n      <td>0.893</td>\n      <td>148.107</td>\n      <td>0</td>\n    </tr>\n  </tbody>\n</table>\n<p>899068 rows × 25 columns</p>\n</div>"
     },
     "execution_count": 31,
     "metadata": {},
     "output_type": "execute_result"
    }
   ],
   "source": [
    "# Define the dictionary with column names and their desired data types\n",
    "dtype_dict = {\n",
    "    'song_id': str,\n",
    "    'song_name': str,\n",
    "    'id_artists': str,\n",
    "    'name_artists': str,\n",
    "    'popularity': int,\n",
    "    'explicit': bool,\n",
    "    'song_type': str,\n",
    "    'track_number': int,\n",
    "    'num_artists': int,\n",
    "    'num_available_markets': int,\n",
    "    'duration_ms': float,\n",
    "    'acousticness': float,\n",
    "    'danceability': float,\n",
    "    'energy': float,\n",
    "    'instrumentalness': float,\n",
    "    'liveness': float,\n",
    "    'loudness': float,\n",
    "    'speechiness': float,\n",
    "    'valence': float,\n",
    "    'tempo': float,\n",
    "    'hit': int\n",
    "}\n",
    "\n",
    "df_nonhits = pd.read_csv(\"../../MusicOSet/additional/nonhits_dataset.csv\", delimiter=\"\\t\", dtype=dtype_dict, na_values=[\"-\"])\n",
    "df_nonhits[\"hit\"] = 0\n",
    "df_nonhits"
   ],
   "metadata": {
    "collapsed": false,
    "pycharm": {
     "name": "#%%\n"
    },
    "ExecuteTime": {
     "end_time": "2024-07-26T23:06:04.806896100Z",
     "start_time": "2024-07-26T23:06:00.719113300Z"
    }
   },
   "id": "7a9dbad1b675b460"
  },
  {
   "cell_type": "code",
   "execution_count": 32,
   "outputs": [
    {
     "data": {
      "text/plain": "                       song_id  \\\n0       3e9HZxeyfWwjeyPAMmWSSQ   \n1       5p7ujcrUXASCNwRaWNHR1C   \n2       2xLMifQCjDGFmkHkpNLD9h   \n3       3KkXRkHbMCARz0aVfEt68P   \n4       1rqqCSm0Qe4I9rUvWncaom   \n...                        ...   \n899063  2tP0ryZParpdjvxubgXhTN   \n899064  7Ltni80U0w7bmYjXPNzSEa   \n899065  1gQClXN1Dq4rj0wBzddcNA   \n899066  2jhxQrFNdVPkWL28X7ZpeK   \n899067  6KkbkpUObAqcKGEfvguHJO   \n\n                                               song_name  \\\n0                                          thank u, next   \n1                                             Without Me   \n2                                             SICKO MODE   \n3          Sunflower - Spider-Man: Into the Spider-Verse   \n4                                             High Hopes   \n...                                                  ...   \n899063                              Love Is Here to Stay   \n899064                                 Heinlein's Planet   \n899065     Beds are Burning - Karaoke Lead Vocal Version   \n899066  Un homme heureux - Version karaoké instrumentale   \n899067                     Santa Claus Is Coming to Town   \n\n                                               id_artists  \\\n0                              ['66CXWjxzNUsdJxJ2JdwvnR']   \n1                              ['26VFTg2z8YR0cCuwLzESi2']   \n2                              ['0Y5tJX1MQlPlqiwlOH1tJY']   \n3       ['246dkjvS1zLTtiykXe5h60', '1zNqQNIdeOUZHb8zbZ...   \n4                              ['20JZFwl6HVl6yg8a4H3ZqK']   \n...                                                   ...   \n899063  ['3Dzj993UEz8Z5ovxuirzFO', '6RCsx4p5smZHYz2P5H...   \n899064                         ['4urvwbid7NFoVes5PTx9lV']   \n899065                         ['7yv4DJOCmilSbxxsdQgXWk']   \n899066                         ['7yv4DJOCmilSbxxsdQgXWk']   \n899067                         ['7tdO7d7r0vhwov7RIZWH6V']   \n\n                                     name_artists  popularity  explicit  \\\n0                               ['Ariana Grande']          87      True   \n1                                      ['Halsey']          87      True   \n2                                ['Travis Scott']          86      True   \n3                     ['Post Malone', 'Swae Lee']          92     False   \n4                         ['Panic! At The Disco']          86     False   \n...                                           ...         ...       ...   \n899063  ['Lindsey Buckingham', 'Christine McVie']          16     False   \n899064                             ['Tony Carey']           0     False   \n899065                             ['Pictomusic']           0     False   \n899066                             ['Pictomusic']           0     False   \n899067                            ['Mitch Ryder']           0     False   \n\n            song_type  track_number  num_artists  num_available_markets  ...  \\\n0                Solo            11            1                     79  ...   \n1                Solo             1            1                     79  ...   \n2                Solo             3            1                     79  ...   \n3       Collaboration             2            2                     79  ...   \n4                Solo             4            1                     78  ...   \n...               ...           ...          ...                    ...  ...   \n899063  Collaboration             5            2                      1  ...   \n899064           Solo             5            1                     79  ...   \n899065           Solo             2            1                     79  ...   \n899066           Solo             1            1                     79  ...   \n899067           Solo             3            1                     79  ...   \n\n       acousticness  danceability  energy  instrumentalness  liveness  \\\n0           0.22900         0.717   0.653          0.000000    0.1010   \n1           0.29700         0.752   0.488          0.000009    0.0936   \n2           0.00513         0.834   0.730          0.000000    0.1240   \n3           0.55600         0.760   0.479          0.000000    0.0703   \n4           0.19300         0.579   0.904          0.000000    0.0640   \n...             ...           ...     ...               ...       ...   \n899063      0.36600         0.446   0.658          0.000025    0.7510   \n899064      0.48100         0.305   0.456          0.933000    0.1110   \n899065      0.01180         0.852   0.648          0.000000    0.0503   \n899066      0.97300         0.664   0.353          0.787000    0.0878   \n899067      0.38600         0.651   0.896          0.001630    0.0734   \n\n        loudness  speechiness  valence    tempo  hit  \n0         -5.634       0.0658    0.412  106.966    1  \n1         -7.050       0.0705    0.533  136.041    1  \n2         -3.714       0.2220    0.446  155.008    1  \n3         -5.574       0.0466    0.913   89.911    1  \n4         -2.729       0.0618    0.681   82.014    1  \n...          ...          ...      ...      ...  ...  \n899063    -8.362       0.0297    0.554   84.740    0  \n899064   -20.199       0.0634    0.171   96.996    0  \n899065    -7.189       0.0480    0.559  120.150    0  \n899066   -12.303       0.0693    0.284  116.450    0  \n899067    -6.004       0.0327    0.893  148.107    0  \n\n[911027 rows x 25 columns]",
      "text/html": "<div>\n<style scoped>\n    .dataframe tbody tr th:only-of-type {\n        vertical-align: middle;\n    }\n\n    .dataframe tbody tr th {\n        vertical-align: top;\n    }\n\n    .dataframe thead th {\n        text-align: right;\n    }\n</style>\n<table border=\"1\" class=\"dataframe\">\n  <thead>\n    <tr style=\"text-align: right;\">\n      <th></th>\n      <th>song_id</th>\n      <th>song_name</th>\n      <th>id_artists</th>\n      <th>name_artists</th>\n      <th>popularity</th>\n      <th>explicit</th>\n      <th>song_type</th>\n      <th>track_number</th>\n      <th>num_artists</th>\n      <th>num_available_markets</th>\n      <th>...</th>\n      <th>acousticness</th>\n      <th>danceability</th>\n      <th>energy</th>\n      <th>instrumentalness</th>\n      <th>liveness</th>\n      <th>loudness</th>\n      <th>speechiness</th>\n      <th>valence</th>\n      <th>tempo</th>\n      <th>hit</th>\n    </tr>\n  </thead>\n  <tbody>\n    <tr>\n      <th>0</th>\n      <td>3e9HZxeyfWwjeyPAMmWSSQ</td>\n      <td>thank u, next</td>\n      <td>['66CXWjxzNUsdJxJ2JdwvnR']</td>\n      <td>['Ariana Grande']</td>\n      <td>87</td>\n      <td>True</td>\n      <td>Solo</td>\n      <td>11</td>\n      <td>1</td>\n      <td>79</td>\n      <td>...</td>\n      <td>0.22900</td>\n      <td>0.717</td>\n      <td>0.653</td>\n      <td>0.000000</td>\n      <td>0.1010</td>\n      <td>-5.634</td>\n      <td>0.0658</td>\n      <td>0.412</td>\n      <td>106.966</td>\n      <td>1</td>\n    </tr>\n    <tr>\n      <th>1</th>\n      <td>5p7ujcrUXASCNwRaWNHR1C</td>\n      <td>Without Me</td>\n      <td>['26VFTg2z8YR0cCuwLzESi2']</td>\n      <td>['Halsey']</td>\n      <td>87</td>\n      <td>True</td>\n      <td>Solo</td>\n      <td>1</td>\n      <td>1</td>\n      <td>79</td>\n      <td>...</td>\n      <td>0.29700</td>\n      <td>0.752</td>\n      <td>0.488</td>\n      <td>0.000009</td>\n      <td>0.0936</td>\n      <td>-7.050</td>\n      <td>0.0705</td>\n      <td>0.533</td>\n      <td>136.041</td>\n      <td>1</td>\n    </tr>\n    <tr>\n      <th>2</th>\n      <td>2xLMifQCjDGFmkHkpNLD9h</td>\n      <td>SICKO MODE</td>\n      <td>['0Y5tJX1MQlPlqiwlOH1tJY']</td>\n      <td>['Travis Scott']</td>\n      <td>86</td>\n      <td>True</td>\n      <td>Solo</td>\n      <td>3</td>\n      <td>1</td>\n      <td>79</td>\n      <td>...</td>\n      <td>0.00513</td>\n      <td>0.834</td>\n      <td>0.730</td>\n      <td>0.000000</td>\n      <td>0.1240</td>\n      <td>-3.714</td>\n      <td>0.2220</td>\n      <td>0.446</td>\n      <td>155.008</td>\n      <td>1</td>\n    </tr>\n    <tr>\n      <th>3</th>\n      <td>3KkXRkHbMCARz0aVfEt68P</td>\n      <td>Sunflower - Spider-Man: Into the Spider-Verse</td>\n      <td>['246dkjvS1zLTtiykXe5h60', '1zNqQNIdeOUZHb8zbZ...</td>\n      <td>['Post Malone', 'Swae Lee']</td>\n      <td>92</td>\n      <td>False</td>\n      <td>Collaboration</td>\n      <td>2</td>\n      <td>2</td>\n      <td>79</td>\n      <td>...</td>\n      <td>0.55600</td>\n      <td>0.760</td>\n      <td>0.479</td>\n      <td>0.000000</td>\n      <td>0.0703</td>\n      <td>-5.574</td>\n      <td>0.0466</td>\n      <td>0.913</td>\n      <td>89.911</td>\n      <td>1</td>\n    </tr>\n    <tr>\n      <th>4</th>\n      <td>1rqqCSm0Qe4I9rUvWncaom</td>\n      <td>High Hopes</td>\n      <td>['20JZFwl6HVl6yg8a4H3ZqK']</td>\n      <td>['Panic! At The Disco']</td>\n      <td>86</td>\n      <td>False</td>\n      <td>Solo</td>\n      <td>4</td>\n      <td>1</td>\n      <td>78</td>\n      <td>...</td>\n      <td>0.19300</td>\n      <td>0.579</td>\n      <td>0.904</td>\n      <td>0.000000</td>\n      <td>0.0640</td>\n      <td>-2.729</td>\n      <td>0.0618</td>\n      <td>0.681</td>\n      <td>82.014</td>\n      <td>1</td>\n    </tr>\n    <tr>\n      <th>...</th>\n      <td>...</td>\n      <td>...</td>\n      <td>...</td>\n      <td>...</td>\n      <td>...</td>\n      <td>...</td>\n      <td>...</td>\n      <td>...</td>\n      <td>...</td>\n      <td>...</td>\n      <td>...</td>\n      <td>...</td>\n      <td>...</td>\n      <td>...</td>\n      <td>...</td>\n      <td>...</td>\n      <td>...</td>\n      <td>...</td>\n      <td>...</td>\n      <td>...</td>\n      <td>...</td>\n    </tr>\n    <tr>\n      <th>899063</th>\n      <td>2tP0ryZParpdjvxubgXhTN</td>\n      <td>Love Is Here to Stay</td>\n      <td>['3Dzj993UEz8Z5ovxuirzFO', '6RCsx4p5smZHYz2P5H...</td>\n      <td>['Lindsey Buckingham', 'Christine McVie']</td>\n      <td>16</td>\n      <td>False</td>\n      <td>Collaboration</td>\n      <td>5</td>\n      <td>2</td>\n      <td>1</td>\n      <td>...</td>\n      <td>0.36600</td>\n      <td>0.446</td>\n      <td>0.658</td>\n      <td>0.000025</td>\n      <td>0.7510</td>\n      <td>-8.362</td>\n      <td>0.0297</td>\n      <td>0.554</td>\n      <td>84.740</td>\n      <td>0</td>\n    </tr>\n    <tr>\n      <th>899064</th>\n      <td>7Ltni80U0w7bmYjXPNzSEa</td>\n      <td>Heinlein's Planet</td>\n      <td>['4urvwbid7NFoVes5PTx9lV']</td>\n      <td>['Tony Carey']</td>\n      <td>0</td>\n      <td>False</td>\n      <td>Solo</td>\n      <td>5</td>\n      <td>1</td>\n      <td>79</td>\n      <td>...</td>\n      <td>0.48100</td>\n      <td>0.305</td>\n      <td>0.456</td>\n      <td>0.933000</td>\n      <td>0.1110</td>\n      <td>-20.199</td>\n      <td>0.0634</td>\n      <td>0.171</td>\n      <td>96.996</td>\n      <td>0</td>\n    </tr>\n    <tr>\n      <th>899065</th>\n      <td>1gQClXN1Dq4rj0wBzddcNA</td>\n      <td>Beds are Burning - Karaoke Lead Vocal Version</td>\n      <td>['7yv4DJOCmilSbxxsdQgXWk']</td>\n      <td>['Pictomusic']</td>\n      <td>0</td>\n      <td>False</td>\n      <td>Solo</td>\n      <td>2</td>\n      <td>1</td>\n      <td>79</td>\n      <td>...</td>\n      <td>0.01180</td>\n      <td>0.852</td>\n      <td>0.648</td>\n      <td>0.000000</td>\n      <td>0.0503</td>\n      <td>-7.189</td>\n      <td>0.0480</td>\n      <td>0.559</td>\n      <td>120.150</td>\n      <td>0</td>\n    </tr>\n    <tr>\n      <th>899066</th>\n      <td>2jhxQrFNdVPkWL28X7ZpeK</td>\n      <td>Un homme heureux - Version karaoké instrumentale</td>\n      <td>['7yv4DJOCmilSbxxsdQgXWk']</td>\n      <td>['Pictomusic']</td>\n      <td>0</td>\n      <td>False</td>\n      <td>Solo</td>\n      <td>1</td>\n      <td>1</td>\n      <td>79</td>\n      <td>...</td>\n      <td>0.97300</td>\n      <td>0.664</td>\n      <td>0.353</td>\n      <td>0.787000</td>\n      <td>0.0878</td>\n      <td>-12.303</td>\n      <td>0.0693</td>\n      <td>0.284</td>\n      <td>116.450</td>\n      <td>0</td>\n    </tr>\n    <tr>\n      <th>899067</th>\n      <td>6KkbkpUObAqcKGEfvguHJO</td>\n      <td>Santa Claus Is Coming to Town</td>\n      <td>['7tdO7d7r0vhwov7RIZWH6V']</td>\n      <td>['Mitch Ryder']</td>\n      <td>0</td>\n      <td>False</td>\n      <td>Solo</td>\n      <td>3</td>\n      <td>1</td>\n      <td>79</td>\n      <td>...</td>\n      <td>0.38600</td>\n      <td>0.651</td>\n      <td>0.896</td>\n      <td>0.001630</td>\n      <td>0.0734</td>\n      <td>-6.004</td>\n      <td>0.0327</td>\n      <td>0.893</td>\n      <td>148.107</td>\n      <td>0</td>\n    </tr>\n  </tbody>\n</table>\n<p>911027 rows × 25 columns</p>\n</div>"
     },
     "execution_count": 32,
     "metadata": {},
     "output_type": "execute_result"
    }
   ],
   "source": [
    "combined_df = pd.concat([df_hits, df_nonhits], axis=0)\n",
    "# Drop all rows with NaN values\n",
    "combined_df.replace(\"-\", float(\"nan\"), inplace=True)\n",
    "#combined_df.fillna(combined_df.mean(), inplace=True)\n",
    "#combined_df.dropna(inplace=True)   # drop nan value rows\n",
    "\n",
    "combined_df"
   ],
   "metadata": {
    "collapsed": false,
    "pycharm": {
     "name": "#%%\n"
    },
    "ExecuteTime": {
     "end_time": "2024-07-26T23:06:06.259691600Z",
     "start_time": "2024-07-26T23:06:04.806896100Z"
    }
   },
   "id": "95b93a1143b6d30b"
  },
  {
   "cell_type": "code",
   "execution_count": 33,
   "outputs": [
    {
     "data": {
      "text/plain": "                      song_id song_name                  id_artists  \\\n10083  6frqShk9fhsOzoKPYXKzk9     Girls  ['7onp6ew3LGoQImTt1I78gt']   \n\n          name_artists  popularity  explicit song_type  track_number  \\\n10083  ['Major Lance']           1     False      Solo             3   \n\n       num_artists  num_available_markets  ... acousticness  danceability  \\\n10083            1                     78  ...        0.562           0.8   \n\n       energy  instrumentalness  liveness  loudness  speechiness  valence  \\\n10083   0.649               0.0    0.0816    -9.192       0.0384    0.947   \n\n         tempo  hit  \n10083  124.473    1  \n\n[1 rows x 25 columns]",
      "text/html": "<div>\n<style scoped>\n    .dataframe tbody tr th:only-of-type {\n        vertical-align: middle;\n    }\n\n    .dataframe tbody tr th {\n        vertical-align: top;\n    }\n\n    .dataframe thead th {\n        text-align: right;\n    }\n</style>\n<table border=\"1\" class=\"dataframe\">\n  <thead>\n    <tr style=\"text-align: right;\">\n      <th></th>\n      <th>song_id</th>\n      <th>song_name</th>\n      <th>id_artists</th>\n      <th>name_artists</th>\n      <th>popularity</th>\n      <th>explicit</th>\n      <th>song_type</th>\n      <th>track_number</th>\n      <th>num_artists</th>\n      <th>num_available_markets</th>\n      <th>...</th>\n      <th>acousticness</th>\n      <th>danceability</th>\n      <th>energy</th>\n      <th>instrumentalness</th>\n      <th>liveness</th>\n      <th>loudness</th>\n      <th>speechiness</th>\n      <th>valence</th>\n      <th>tempo</th>\n      <th>hit</th>\n    </tr>\n  </thead>\n  <tbody>\n    <tr>\n      <th>10083</th>\n      <td>6frqShk9fhsOzoKPYXKzk9</td>\n      <td>Girls</td>\n      <td>['7onp6ew3LGoQImTt1I78gt']</td>\n      <td>['Major Lance']</td>\n      <td>1</td>\n      <td>False</td>\n      <td>Solo</td>\n      <td>3</td>\n      <td>1</td>\n      <td>78</td>\n      <td>...</td>\n      <td>0.562</td>\n      <td>0.8</td>\n      <td>0.649</td>\n      <td>0.0</td>\n      <td>0.0816</td>\n      <td>-9.192</td>\n      <td>0.0384</td>\n      <td>0.947</td>\n      <td>124.473</td>\n      <td>1</td>\n    </tr>\n  </tbody>\n</table>\n<p>1 rows × 25 columns</p>\n</div>"
     },
     "execution_count": 33,
     "metadata": {},
     "output_type": "execute_result"
    }
   ],
   "source": [
    "lel = combined_df[(combined_df[\"song_id\"] == \"6frqShk9fhsOzoKPYXKzk9\")]\n",
    "lel"
   ],
   "metadata": {
    "collapsed": false,
    "pycharm": {
     "name": "#%%\n"
    },
    "ExecuteTime": {
     "end_time": "2024-07-26T23:06:06.435686800Z",
     "start_time": "2024-07-26T23:06:06.300688200Z"
    }
   },
   "id": "fee1f97ee4895122"
  },
  {
   "cell_type": "code",
   "execution_count": 34,
   "outputs": [],
   "source": [
    "import pandas as pd\n",
    "from sklearn.impute import SimpleImputer\n",
    "\n",
    "# Assuming combined_df is your DataFrame\n",
    "# Identify numerical columns\n",
    "numerical_cols = combined_df.select_dtypes(include='number').columns\n",
    "\n",
    "# Create an instance of SimpleImputer with strategy='mean'\n",
    "imputer = SimpleImputer(strategy='mean')\n",
    "\n",
    "# Fit the imputer to the data and transform the numerical columns\n",
    "combined_df[numerical_cols] = imputer.fit_transform(combined_df[numerical_cols])"
   ],
   "metadata": {
    "collapsed": false,
    "pycharm": {
     "name": "#%%\n"
    },
    "ExecuteTime": {
     "end_time": "2024-07-26T23:06:08.321389Z",
     "start_time": "2024-07-26T23:06:06.345687300Z"
    }
   },
   "id": "bec6391dbedca54d"
  },
  {
   "cell_type": "code",
   "execution_count": 35,
   "outputs": [
    {
     "data": {
      "text/plain": "Index(['popularity', 'track_number', 'num_artists', 'num_available_markets',\n       'duration_ms', 'key', 'mode', 'time_signature', 'acousticness',\n       'danceability', 'energy', 'instrumentalness', 'liveness', 'loudness',\n       'speechiness', 'valence', 'tempo', 'hit'],\n      dtype='object')"
     },
     "execution_count": 35,
     "metadata": {},
     "output_type": "execute_result"
    }
   ],
   "source": [
    "numerical_cols"
   ],
   "metadata": {
    "collapsed": false,
    "pycharm": {
     "name": "#%%\n"
    },
    "ExecuteTime": {
     "end_time": "2024-07-26T23:06:08.394885400Z",
     "start_time": "2024-07-26T23:06:08.333389800Z"
    }
   },
   "id": "7c2561c77fe8cbdc"
  },
  {
   "cell_type": "code",
   "execution_count": 36,
   "outputs": [
    {
     "name": "stdout",
     "output_type": "stream",
     "text": [
      "Columns with NaN values:\n",
      "[]\n"
     ]
    }
   ],
   "source": [
    "# Check for NaN values in all columns\n",
    "nan_columns = combined_df.columns[combined_df.isna().any()].tolist()\n",
    "\n",
    "# Print columns with NaN values\n",
    "print(\"Columns with NaN values:\")\n",
    "print(nan_columns)\n"
   ],
   "metadata": {
    "collapsed": false,
    "pycharm": {
     "name": "#%%\n"
    },
    "ExecuteTime": {
     "end_time": "2024-07-26T23:06:08.590742800Z",
     "start_time": "2024-07-26T23:06:08.355390600Z"
    }
   },
   "id": "1d28d9f80e1638a4"
  },
  {
   "cell_type": "code",
   "execution_count": 37,
   "outputs": [
    {
     "data": {
      "text/plain": "                       song_id  \\\n0       3e9HZxeyfWwjeyPAMmWSSQ   \n1       5p7ujcrUXASCNwRaWNHR1C   \n2       2xLMifQCjDGFmkHkpNLD9h   \n3       3KkXRkHbMCARz0aVfEt68P   \n4       1rqqCSm0Qe4I9rUvWncaom   \n...                        ...   \n899063  2tP0ryZParpdjvxubgXhTN   \n899064  7Ltni80U0w7bmYjXPNzSEa   \n899065  1gQClXN1Dq4rj0wBzddcNA   \n899066  2jhxQrFNdVPkWL28X7ZpeK   \n899067  6KkbkpUObAqcKGEfvguHJO   \n\n                                               song_name  \\\n0                                          thank u, next   \n1                                             Without Me   \n2                                             SICKO MODE   \n3          Sunflower - Spider-Man: Into the Spider-Verse   \n4                                             High Hopes   \n...                                                  ...   \n899063                              Love Is Here to Stay   \n899064                                 Heinlein's Planet   \n899065     Beds are Burning - Karaoke Lead Vocal Version   \n899066  Un homme heureux - Version karaoké instrumentale   \n899067                     Santa Claus Is Coming to Town   \n\n                                               id_artists  \\\n0                              ['66CXWjxzNUsdJxJ2JdwvnR']   \n1                              ['26VFTg2z8YR0cCuwLzESi2']   \n2                              ['0Y5tJX1MQlPlqiwlOH1tJY']   \n3       ['246dkjvS1zLTtiykXe5h60', '1zNqQNIdeOUZHb8zbZ...   \n4                              ['20JZFwl6HVl6yg8a4H3ZqK']   \n...                                                   ...   \n899063  ['3Dzj993UEz8Z5ovxuirzFO', '6RCsx4p5smZHYz2P5H...   \n899064                         ['4urvwbid7NFoVes5PTx9lV']   \n899065                         ['7yv4DJOCmilSbxxsdQgXWk']   \n899066                         ['7yv4DJOCmilSbxxsdQgXWk']   \n899067                         ['7tdO7d7r0vhwov7RIZWH6V']   \n\n                                     name_artists  popularity  explicit  \\\n0                               ['Ariana Grande']        87.0      True   \n1                                      ['Halsey']        87.0      True   \n2                                ['Travis Scott']        86.0      True   \n3                     ['Post Malone', 'Swae Lee']        92.0     False   \n4                         ['Panic! At The Disco']        86.0     False   \n...                                           ...         ...       ...   \n899063  ['Lindsey Buckingham', 'Christine McVie']        16.0     False   \n899064                             ['Tony Carey']         0.0     False   \n899065                             ['Pictomusic']         0.0     False   \n899066                             ['Pictomusic']         0.0     False   \n899067                            ['Mitch Ryder']         0.0     False   \n\n            song_type  track_number  num_artists  num_available_markets  ...  \\\n0                Solo          11.0          1.0                   79.0  ...   \n1                Solo           1.0          1.0                   79.0  ...   \n2                Solo           3.0          1.0                   79.0  ...   \n3       Collaboration           2.0          2.0                   79.0  ...   \n4                Solo           4.0          1.0                   78.0  ...   \n...               ...           ...          ...                    ...  ...   \n899063  Collaboration           5.0          2.0                    1.0  ...   \n899064           Solo           5.0          1.0                   79.0  ...   \n899065           Solo           2.0          1.0                   79.0  ...   \n899066           Solo           1.0          1.0                   79.0  ...   \n899067           Solo           3.0          1.0                   79.0  ...   \n\n       acousticness  danceability  energy  instrumentalness  liveness  \\\n0           0.22900         0.717   0.653          0.000000    0.1010   \n1           0.29700         0.752   0.488          0.000009    0.0936   \n2           0.00513         0.834   0.730          0.000000    0.1240   \n3           0.55600         0.760   0.479          0.000000    0.0703   \n4           0.19300         0.579   0.904          0.000000    0.0640   \n...             ...           ...     ...               ...       ...   \n899063      0.36600         0.446   0.658          0.000025    0.7510   \n899064      0.48100         0.305   0.456          0.933000    0.1110   \n899065      0.01180         0.852   0.648          0.000000    0.0503   \n899066      0.97300         0.664   0.353          0.787000    0.0878   \n899067      0.38600         0.651   0.896          0.001630    0.0734   \n\n        loudness  speechiness  valence    tempo  hit  \n0         -5.634       0.0658    0.412  106.966  1.0  \n1         -7.050       0.0705    0.533  136.041  1.0  \n2         -3.714       0.2220    0.446  155.008  1.0  \n3         -5.574       0.0466    0.913   89.911  1.0  \n4         -2.729       0.0618    0.681   82.014  1.0  \n...          ...          ...      ...      ...  ...  \n899063    -8.362       0.0297    0.554   84.740  0.0  \n899064   -20.199       0.0634    0.171   96.996  0.0  \n899065    -7.189       0.0480    0.559  120.150  0.0  \n899066   -12.303       0.0693    0.284  116.450  0.0  \n899067    -6.004       0.0327    0.893  148.107  0.0  \n\n[911027 rows x 25 columns]",
      "text/html": "<div>\n<style scoped>\n    .dataframe tbody tr th:only-of-type {\n        vertical-align: middle;\n    }\n\n    .dataframe tbody tr th {\n        vertical-align: top;\n    }\n\n    .dataframe thead th {\n        text-align: right;\n    }\n</style>\n<table border=\"1\" class=\"dataframe\">\n  <thead>\n    <tr style=\"text-align: right;\">\n      <th></th>\n      <th>song_id</th>\n      <th>song_name</th>\n      <th>id_artists</th>\n      <th>name_artists</th>\n      <th>popularity</th>\n      <th>explicit</th>\n      <th>song_type</th>\n      <th>track_number</th>\n      <th>num_artists</th>\n      <th>num_available_markets</th>\n      <th>...</th>\n      <th>acousticness</th>\n      <th>danceability</th>\n      <th>energy</th>\n      <th>instrumentalness</th>\n      <th>liveness</th>\n      <th>loudness</th>\n      <th>speechiness</th>\n      <th>valence</th>\n      <th>tempo</th>\n      <th>hit</th>\n    </tr>\n  </thead>\n  <tbody>\n    <tr>\n      <th>0</th>\n      <td>3e9HZxeyfWwjeyPAMmWSSQ</td>\n      <td>thank u, next</td>\n      <td>['66CXWjxzNUsdJxJ2JdwvnR']</td>\n      <td>['Ariana Grande']</td>\n      <td>87.0</td>\n      <td>True</td>\n      <td>Solo</td>\n      <td>11.0</td>\n      <td>1.0</td>\n      <td>79.0</td>\n      <td>...</td>\n      <td>0.22900</td>\n      <td>0.717</td>\n      <td>0.653</td>\n      <td>0.000000</td>\n      <td>0.1010</td>\n      <td>-5.634</td>\n      <td>0.0658</td>\n      <td>0.412</td>\n      <td>106.966</td>\n      <td>1.0</td>\n    </tr>\n    <tr>\n      <th>1</th>\n      <td>5p7ujcrUXASCNwRaWNHR1C</td>\n      <td>Without Me</td>\n      <td>['26VFTg2z8YR0cCuwLzESi2']</td>\n      <td>['Halsey']</td>\n      <td>87.0</td>\n      <td>True</td>\n      <td>Solo</td>\n      <td>1.0</td>\n      <td>1.0</td>\n      <td>79.0</td>\n      <td>...</td>\n      <td>0.29700</td>\n      <td>0.752</td>\n      <td>0.488</td>\n      <td>0.000009</td>\n      <td>0.0936</td>\n      <td>-7.050</td>\n      <td>0.0705</td>\n      <td>0.533</td>\n      <td>136.041</td>\n      <td>1.0</td>\n    </tr>\n    <tr>\n      <th>2</th>\n      <td>2xLMifQCjDGFmkHkpNLD9h</td>\n      <td>SICKO MODE</td>\n      <td>['0Y5tJX1MQlPlqiwlOH1tJY']</td>\n      <td>['Travis Scott']</td>\n      <td>86.0</td>\n      <td>True</td>\n      <td>Solo</td>\n      <td>3.0</td>\n      <td>1.0</td>\n      <td>79.0</td>\n      <td>...</td>\n      <td>0.00513</td>\n      <td>0.834</td>\n      <td>0.730</td>\n      <td>0.000000</td>\n      <td>0.1240</td>\n      <td>-3.714</td>\n      <td>0.2220</td>\n      <td>0.446</td>\n      <td>155.008</td>\n      <td>1.0</td>\n    </tr>\n    <tr>\n      <th>3</th>\n      <td>3KkXRkHbMCARz0aVfEt68P</td>\n      <td>Sunflower - Spider-Man: Into the Spider-Verse</td>\n      <td>['246dkjvS1zLTtiykXe5h60', '1zNqQNIdeOUZHb8zbZ...</td>\n      <td>['Post Malone', 'Swae Lee']</td>\n      <td>92.0</td>\n      <td>False</td>\n      <td>Collaboration</td>\n      <td>2.0</td>\n      <td>2.0</td>\n      <td>79.0</td>\n      <td>...</td>\n      <td>0.55600</td>\n      <td>0.760</td>\n      <td>0.479</td>\n      <td>0.000000</td>\n      <td>0.0703</td>\n      <td>-5.574</td>\n      <td>0.0466</td>\n      <td>0.913</td>\n      <td>89.911</td>\n      <td>1.0</td>\n    </tr>\n    <tr>\n      <th>4</th>\n      <td>1rqqCSm0Qe4I9rUvWncaom</td>\n      <td>High Hopes</td>\n      <td>['20JZFwl6HVl6yg8a4H3ZqK']</td>\n      <td>['Panic! At The Disco']</td>\n      <td>86.0</td>\n      <td>False</td>\n      <td>Solo</td>\n      <td>4.0</td>\n      <td>1.0</td>\n      <td>78.0</td>\n      <td>...</td>\n      <td>0.19300</td>\n      <td>0.579</td>\n      <td>0.904</td>\n      <td>0.000000</td>\n      <td>0.0640</td>\n      <td>-2.729</td>\n      <td>0.0618</td>\n      <td>0.681</td>\n      <td>82.014</td>\n      <td>1.0</td>\n    </tr>\n    <tr>\n      <th>...</th>\n      <td>...</td>\n      <td>...</td>\n      <td>...</td>\n      <td>...</td>\n      <td>...</td>\n      <td>...</td>\n      <td>...</td>\n      <td>...</td>\n      <td>...</td>\n      <td>...</td>\n      <td>...</td>\n      <td>...</td>\n      <td>...</td>\n      <td>...</td>\n      <td>...</td>\n      <td>...</td>\n      <td>...</td>\n      <td>...</td>\n      <td>...</td>\n      <td>...</td>\n      <td>...</td>\n    </tr>\n    <tr>\n      <th>899063</th>\n      <td>2tP0ryZParpdjvxubgXhTN</td>\n      <td>Love Is Here to Stay</td>\n      <td>['3Dzj993UEz8Z5ovxuirzFO', '6RCsx4p5smZHYz2P5H...</td>\n      <td>['Lindsey Buckingham', 'Christine McVie']</td>\n      <td>16.0</td>\n      <td>False</td>\n      <td>Collaboration</td>\n      <td>5.0</td>\n      <td>2.0</td>\n      <td>1.0</td>\n      <td>...</td>\n      <td>0.36600</td>\n      <td>0.446</td>\n      <td>0.658</td>\n      <td>0.000025</td>\n      <td>0.7510</td>\n      <td>-8.362</td>\n      <td>0.0297</td>\n      <td>0.554</td>\n      <td>84.740</td>\n      <td>0.0</td>\n    </tr>\n    <tr>\n      <th>899064</th>\n      <td>7Ltni80U0w7bmYjXPNzSEa</td>\n      <td>Heinlein's Planet</td>\n      <td>['4urvwbid7NFoVes5PTx9lV']</td>\n      <td>['Tony Carey']</td>\n      <td>0.0</td>\n      <td>False</td>\n      <td>Solo</td>\n      <td>5.0</td>\n      <td>1.0</td>\n      <td>79.0</td>\n      <td>...</td>\n      <td>0.48100</td>\n      <td>0.305</td>\n      <td>0.456</td>\n      <td>0.933000</td>\n      <td>0.1110</td>\n      <td>-20.199</td>\n      <td>0.0634</td>\n      <td>0.171</td>\n      <td>96.996</td>\n      <td>0.0</td>\n    </tr>\n    <tr>\n      <th>899065</th>\n      <td>1gQClXN1Dq4rj0wBzddcNA</td>\n      <td>Beds are Burning - Karaoke Lead Vocal Version</td>\n      <td>['7yv4DJOCmilSbxxsdQgXWk']</td>\n      <td>['Pictomusic']</td>\n      <td>0.0</td>\n      <td>False</td>\n      <td>Solo</td>\n      <td>2.0</td>\n      <td>1.0</td>\n      <td>79.0</td>\n      <td>...</td>\n      <td>0.01180</td>\n      <td>0.852</td>\n      <td>0.648</td>\n      <td>0.000000</td>\n      <td>0.0503</td>\n      <td>-7.189</td>\n      <td>0.0480</td>\n      <td>0.559</td>\n      <td>120.150</td>\n      <td>0.0</td>\n    </tr>\n    <tr>\n      <th>899066</th>\n      <td>2jhxQrFNdVPkWL28X7ZpeK</td>\n      <td>Un homme heureux - Version karaoké instrumentale</td>\n      <td>['7yv4DJOCmilSbxxsdQgXWk']</td>\n      <td>['Pictomusic']</td>\n      <td>0.0</td>\n      <td>False</td>\n      <td>Solo</td>\n      <td>1.0</td>\n      <td>1.0</td>\n      <td>79.0</td>\n      <td>...</td>\n      <td>0.97300</td>\n      <td>0.664</td>\n      <td>0.353</td>\n      <td>0.787000</td>\n      <td>0.0878</td>\n      <td>-12.303</td>\n      <td>0.0693</td>\n      <td>0.284</td>\n      <td>116.450</td>\n      <td>0.0</td>\n    </tr>\n    <tr>\n      <th>899067</th>\n      <td>6KkbkpUObAqcKGEfvguHJO</td>\n      <td>Santa Claus Is Coming to Town</td>\n      <td>['7tdO7d7r0vhwov7RIZWH6V']</td>\n      <td>['Mitch Ryder']</td>\n      <td>0.0</td>\n      <td>False</td>\n      <td>Solo</td>\n      <td>3.0</td>\n      <td>1.0</td>\n      <td>79.0</td>\n      <td>...</td>\n      <td>0.38600</td>\n      <td>0.651</td>\n      <td>0.896</td>\n      <td>0.001630</td>\n      <td>0.0734</td>\n      <td>-6.004</td>\n      <td>0.0327</td>\n      <td>0.893</td>\n      <td>148.107</td>\n      <td>0.0</td>\n    </tr>\n  </tbody>\n</table>\n<p>911027 rows × 25 columns</p>\n</div>"
     },
     "execution_count": 37,
     "metadata": {},
     "output_type": "execute_result"
    }
   ],
   "source": [
    "combined_df"
   ],
   "metadata": {
    "collapsed": false,
    "pycharm": {
     "name": "#%%\n"
    },
    "ExecuteTime": {
     "end_time": "2024-07-26T23:06:09.092742400Z",
     "start_time": "2024-07-26T23:06:08.662745700Z"
    }
   },
   "id": "3c7a27df647b7a58"
  },
  {
   "cell_type": "code",
   "execution_count": 38,
   "outputs": [],
   "source": [
    "from sklearn.model_selection import train_test_split\n",
    "combined_df['date'] = pd.to_datetime(combined_df['release_date'])\n",
    "combined_df.sort_values(by=\"date\", inplace=True)\n",
    "border_day = combined_df[\"date\"].iloc[-1]  - pd.DateOffset(years=6)\n",
    "combined_df = combined_df[(combined_df[\"date\"] >= border_day)]\n",
    "\n",
    "split_day = combined_df[\"date\"].iloc[-1]  - pd.DateOffset(years=1)\n",
    "train_df = combined_df[(combined_df[\"date\"]  < split_day)].copy()\n",
    "test_df = combined_df[(combined_df[\"date\"]  >= split_day)].copy()\n",
    "# train_df, test_df = train_test_split(combined_df, test_size=0.25, shuffle=False)\n",
    "train_df.drop(columns=\"date\", inplace=True)\n",
    "test_df.drop(columns=\"date\", inplace=True)"
   ],
   "metadata": {
    "collapsed": false,
    "pycharm": {
     "name": "#%%\n"
    },
    "ExecuteTime": {
     "end_time": "2024-07-26T23:06:11.322980300Z",
     "start_time": "2024-07-26T23:06:09.093743600Z"
    }
   },
   "id": "8ffa4fb03a876dc3"
  },
  {
   "cell_type": "code",
   "execution_count": 39,
   "outputs": [
    {
     "name": "stdout",
     "output_type": "stream",
     "text": [
      "amount of artists: 13284\n"
     ]
    },
    {
     "data": {
      "text/plain": "                    artist_id            artist_name\n0      1W006EgE9fkSO9CpTnVlqN           James Dooley\n1      3F2Y683ovlWT53WKCeq0oj             Goodie Mob\n2      5xTn6i6eK7dFP98OaOFyBn              Big Fraze\n3      4PzJueOuOBjr0qVlS3RU6w      Christopher Lewis\n4      4eJWDgfm1In7unvUTB1DtE                      V\n...                       ...                    ...\n13279  7gx7lqo98LuOGE0y8ATrRr  On the Town Orchestra\n13280  5UvGRahK1OytDXGTzdf6hV        Humphrey Burton\n13281  0MIlVcFgL7pDFqaZRmYDeE                  Weiss\n13282  2iG0HNCECG2DxXxSUcMhEX                 Naxxos\n13283  2tg1rWk2rWaltTk0baRjRu                 SAKIMA\n\n[13284 rows x 2 columns]",
      "text/html": "<div>\n<style scoped>\n    .dataframe tbody tr th:only-of-type {\n        vertical-align: middle;\n    }\n\n    .dataframe tbody tr th {\n        vertical-align: top;\n    }\n\n    .dataframe thead th {\n        text-align: right;\n    }\n</style>\n<table border=\"1\" class=\"dataframe\">\n  <thead>\n    <tr style=\"text-align: right;\">\n      <th></th>\n      <th>artist_id</th>\n      <th>artist_name</th>\n    </tr>\n  </thead>\n  <tbody>\n    <tr>\n      <th>0</th>\n      <td>1W006EgE9fkSO9CpTnVlqN</td>\n      <td>James Dooley</td>\n    </tr>\n    <tr>\n      <th>1</th>\n      <td>3F2Y683ovlWT53WKCeq0oj</td>\n      <td>Goodie Mob</td>\n    </tr>\n    <tr>\n      <th>2</th>\n      <td>5xTn6i6eK7dFP98OaOFyBn</td>\n      <td>Big Fraze</td>\n    </tr>\n    <tr>\n      <th>3</th>\n      <td>4PzJueOuOBjr0qVlS3RU6w</td>\n      <td>Christopher Lewis</td>\n    </tr>\n    <tr>\n      <th>4</th>\n      <td>4eJWDgfm1In7unvUTB1DtE</td>\n      <td>V</td>\n    </tr>\n    <tr>\n      <th>...</th>\n      <td>...</td>\n      <td>...</td>\n    </tr>\n    <tr>\n      <th>13279</th>\n      <td>7gx7lqo98LuOGE0y8ATrRr</td>\n      <td>On the Town Orchestra</td>\n    </tr>\n    <tr>\n      <th>13280</th>\n      <td>5UvGRahK1OytDXGTzdf6hV</td>\n      <td>Humphrey Burton</td>\n    </tr>\n    <tr>\n      <th>13281</th>\n      <td>0MIlVcFgL7pDFqaZRmYDeE</td>\n      <td>Weiss</td>\n    </tr>\n    <tr>\n      <th>13282</th>\n      <td>2iG0HNCECG2DxXxSUcMhEX</td>\n      <td>Naxxos</td>\n    </tr>\n    <tr>\n      <th>13283</th>\n      <td>2tg1rWk2rWaltTk0baRjRu</td>\n      <td>SAKIMA</td>\n    </tr>\n  </tbody>\n</table>\n<p>13284 rows × 2 columns</p>\n</div>"
     },
     "execution_count": 39,
     "metadata": {},
     "output_type": "execute_result"
    }
   ],
   "source": [
    "# Specify the columns\n",
    "columns = ['artist_id', 'artist_name']\n",
    "\n",
    "# Initialize an empty DataFrame\n",
    "df_artists2_train = pd.DataFrame(columns={col: [] for col in columns})\n",
    "\n",
    "count = 0\n",
    "artist_set_train = set()\n",
    "\n",
    "for _, row in train_df.iterrows():\n",
    "    current_artist_id_list = eval(row[\"id_artists\"])\n",
    "    current_artist_name_list = eval(row[\"name_artists\"])\n",
    "    for cur_art_id, cur_art_name in zip(current_artist_id_list, current_artist_name_list):\n",
    "        if cur_art_id not in artist_set_train:\n",
    "            artist_set_train.add(cur_art_id)\n",
    "            df_artists2_train.loc[len(df_artists2_train)] = [cur_art_id, cur_art_name]\n",
    "            count += 1\n",
    "\n",
    "print(\"amount of artists:\", count)\n",
    "df_artists2_train"
   ],
   "metadata": {
    "collapsed": false,
    "pycharm": {
     "name": "#%%\n"
    },
    "ExecuteTime": {
     "end_time": "2024-07-26T23:06:40.728299100Z",
     "start_time": "2024-07-26T23:06:11.372979200Z"
    }
   },
   "id": "7aca1a2f27893919"
  },
  {
   "cell_type": "code",
   "execution_count": 40,
   "outputs": [
    {
     "name": "stdout",
     "output_type": "stream",
     "text": [
      "amount of artists: 5902\n"
     ]
    },
    {
     "data": {
      "text/plain": "                   name  betweenesscentrality  closnesscentrality  clustering  \\\n0           Kodak Black          2.041474e-03            0.117694    0.149425   \n1          Moneybagg Yo          5.028644e-04            0.112265    0.122581   \n2          Modest Mouse          0.000000e+00            0.000000    0.000000   \n3            Izza Woods          0.000000e+00            0.000000    0.000000   \n4                  Kyla          1.555256e-05            0.078767    0.000000   \n...                 ...                   ...                 ...         ...   \n5897        Reckless 2X          3.022699e-08            0.000164    0.000000   \n5898      Twhy Xclusive          0.000000e+00            0.087042    0.000000   \n5899  Ibiza Lounge Club          0.000000e+00            0.001900    0.000000   \n5900   Adriano Trindade          0.000000e+00            0.000000    0.000000   \n5901        Gary Franks          0.000000e+00            0.065399    0.000000   \n\n      degree  eccentricity  eigencentrality  weighted degree  pagerank  \\\n0         32            14     1.103820e-01              272  0.000434   \n1         33            14     8.295566e-02              556  0.000717   \n2          0             0     5.163080e-20                0  0.000012   \n3          0             0     5.163080e-20                0  0.000012   \n4          4            15     7.512496e-06               12  0.000061   \n...      ...           ...              ...              ...       ...   \n5897       4             2     1.480611e-12                8  0.000092   \n5898       1            15     3.523498e-04                2  0.000019   \n5899       3             6     1.067876e-07               90  0.000065   \n5900       0             0     5.163080e-20                0  0.000012   \n5901       3            15     4.232461e-08               30  0.000061   \n\n                  Spotify ID  Cluster      profile  \n0     46SHBwWsqBkxI7EeeBEQG7        1  1A 2B 3A 4A  \n1     3tJoFztHeIJkJWMrx0td2f        1  1A 2B 3A 4A  \n2     1yAwtBaoHLEDWAnWR87hBT        0  1A 2A 3A 4A  \n3     2v7XXZVXBTYynoeqScAPzJ        0  1A 2A 3A 4A  \n4     77DAFfvm3O9zT5dIoG0eIO        1  1A 2B 3A 4A  \n...                      ...      ...          ...  \n5897  2hFD9op5QTJcsNYJIC9Kpt        0  1A 2A 3A 4A  \n5898  6S7YkU9PZEXdyeKVuTnXRS        1  1A 2B 3A 4A  \n5899  47JfhV9YkL58HUZluA650b        0  1A 2A 3A 4A  \n5900  3vXSdxNNn1FelqkMQf6ggX        0  1A 2A 3A 4A  \n5901  2O48M3sJpyAVYehc2BOFzY        1  1A 2B 3A 4A  \n\n[5902 rows x 12 columns]",
      "text/html": "<div>\n<style scoped>\n    .dataframe tbody tr th:only-of-type {\n        vertical-align: middle;\n    }\n\n    .dataframe tbody tr th {\n        vertical-align: top;\n    }\n\n    .dataframe thead th {\n        text-align: right;\n    }\n</style>\n<table border=\"1\" class=\"dataframe\">\n  <thead>\n    <tr style=\"text-align: right;\">\n      <th></th>\n      <th>name</th>\n      <th>betweenesscentrality</th>\n      <th>closnesscentrality</th>\n      <th>clustering</th>\n      <th>degree</th>\n      <th>eccentricity</th>\n      <th>eigencentrality</th>\n      <th>weighted degree</th>\n      <th>pagerank</th>\n      <th>Spotify ID</th>\n      <th>Cluster</th>\n      <th>profile</th>\n    </tr>\n  </thead>\n  <tbody>\n    <tr>\n      <th>0</th>\n      <td>Kodak Black</td>\n      <td>2.041474e-03</td>\n      <td>0.117694</td>\n      <td>0.149425</td>\n      <td>32</td>\n      <td>14</td>\n      <td>1.103820e-01</td>\n      <td>272</td>\n      <td>0.000434</td>\n      <td>46SHBwWsqBkxI7EeeBEQG7</td>\n      <td>1</td>\n      <td>1A 2B 3A 4A</td>\n    </tr>\n    <tr>\n      <th>1</th>\n      <td>Moneybagg Yo</td>\n      <td>5.028644e-04</td>\n      <td>0.112265</td>\n      <td>0.122581</td>\n      <td>33</td>\n      <td>14</td>\n      <td>8.295566e-02</td>\n      <td>556</td>\n      <td>0.000717</td>\n      <td>3tJoFztHeIJkJWMrx0td2f</td>\n      <td>1</td>\n      <td>1A 2B 3A 4A</td>\n    </tr>\n    <tr>\n      <th>2</th>\n      <td>Modest Mouse</td>\n      <td>0.000000e+00</td>\n      <td>0.000000</td>\n      <td>0.000000</td>\n      <td>0</td>\n      <td>0</td>\n      <td>5.163080e-20</td>\n      <td>0</td>\n      <td>0.000012</td>\n      <td>1yAwtBaoHLEDWAnWR87hBT</td>\n      <td>0</td>\n      <td>1A 2A 3A 4A</td>\n    </tr>\n    <tr>\n      <th>3</th>\n      <td>Izza Woods</td>\n      <td>0.000000e+00</td>\n      <td>0.000000</td>\n      <td>0.000000</td>\n      <td>0</td>\n      <td>0</td>\n      <td>5.163080e-20</td>\n      <td>0</td>\n      <td>0.000012</td>\n      <td>2v7XXZVXBTYynoeqScAPzJ</td>\n      <td>0</td>\n      <td>1A 2A 3A 4A</td>\n    </tr>\n    <tr>\n      <th>4</th>\n      <td>Kyla</td>\n      <td>1.555256e-05</td>\n      <td>0.078767</td>\n      <td>0.000000</td>\n      <td>4</td>\n      <td>15</td>\n      <td>7.512496e-06</td>\n      <td>12</td>\n      <td>0.000061</td>\n      <td>77DAFfvm3O9zT5dIoG0eIO</td>\n      <td>1</td>\n      <td>1A 2B 3A 4A</td>\n    </tr>\n    <tr>\n      <th>...</th>\n      <td>...</td>\n      <td>...</td>\n      <td>...</td>\n      <td>...</td>\n      <td>...</td>\n      <td>...</td>\n      <td>...</td>\n      <td>...</td>\n      <td>...</td>\n      <td>...</td>\n      <td>...</td>\n      <td>...</td>\n    </tr>\n    <tr>\n      <th>5897</th>\n      <td>Reckless 2X</td>\n      <td>3.022699e-08</td>\n      <td>0.000164</td>\n      <td>0.000000</td>\n      <td>4</td>\n      <td>2</td>\n      <td>1.480611e-12</td>\n      <td>8</td>\n      <td>0.000092</td>\n      <td>2hFD9op5QTJcsNYJIC9Kpt</td>\n      <td>0</td>\n      <td>1A 2A 3A 4A</td>\n    </tr>\n    <tr>\n      <th>5898</th>\n      <td>Twhy Xclusive</td>\n      <td>0.000000e+00</td>\n      <td>0.087042</td>\n      <td>0.000000</td>\n      <td>1</td>\n      <td>15</td>\n      <td>3.523498e-04</td>\n      <td>2</td>\n      <td>0.000019</td>\n      <td>6S7YkU9PZEXdyeKVuTnXRS</td>\n      <td>1</td>\n      <td>1A 2B 3A 4A</td>\n    </tr>\n    <tr>\n      <th>5899</th>\n      <td>Ibiza Lounge Club</td>\n      <td>0.000000e+00</td>\n      <td>0.001900</td>\n      <td>0.000000</td>\n      <td>3</td>\n      <td>6</td>\n      <td>1.067876e-07</td>\n      <td>90</td>\n      <td>0.000065</td>\n      <td>47JfhV9YkL58HUZluA650b</td>\n      <td>0</td>\n      <td>1A 2A 3A 4A</td>\n    </tr>\n    <tr>\n      <th>5900</th>\n      <td>Adriano Trindade</td>\n      <td>0.000000e+00</td>\n      <td>0.000000</td>\n      <td>0.000000</td>\n      <td>0</td>\n      <td>0</td>\n      <td>5.163080e-20</td>\n      <td>0</td>\n      <td>0.000012</td>\n      <td>3vXSdxNNn1FelqkMQf6ggX</td>\n      <td>0</td>\n      <td>1A 2A 3A 4A</td>\n    </tr>\n    <tr>\n      <th>5901</th>\n      <td>Gary Franks</td>\n      <td>0.000000e+00</td>\n      <td>0.065399</td>\n      <td>0.000000</td>\n      <td>3</td>\n      <td>15</td>\n      <td>4.232461e-08</td>\n      <td>30</td>\n      <td>0.000061</td>\n      <td>2O48M3sJpyAVYehc2BOFzY</td>\n      <td>1</td>\n      <td>1A 2B 3A 4A</td>\n    </tr>\n  </tbody>\n</table>\n<p>5902 rows × 12 columns</p>\n</div>"
     },
     "execution_count": 40,
     "metadata": {},
     "output_type": "execute_result"
    }
   ],
   "source": [
    "# Specify the columns\n",
    "columns = ['artist_id', 'artist_name']\n",
    "\n",
    "# Initialize an empty DataFrame\n",
    "df_artists2_test = pd.DataFrame(columns={col: [] for col in columns})\n",
    "\n",
    "count = 0\n",
    "artist_set_test = set()\n",
    "\n",
    "for _, row in test_df.iterrows():\n",
    "    current_artist_id_list = eval(row[\"id_artists\"])\n",
    "    current_artist_name_list = eval(row[\"name_artists\"])\n",
    "    for cur_art_id, cur_art_name in zip(current_artist_id_list, current_artist_name_list):\n",
    "        if cur_art_id not in artist_set_test:\n",
    "            artist_set_test.add(cur_art_id)\n",
    "            df_artists2_test.loc[len(df_artists2_test)] = [cur_art_id, cur_art_name]\n",
    "            count += 1\n",
    "\n",
    "print(\"amount of artists:\", count)\n",
    "df_artists_test"
   ],
   "metadata": {
    "collapsed": false,
    "pycharm": {
     "name": "#%%\n"
    },
    "ExecuteTime": {
     "end_time": "2024-07-26T23:06:48.015657300Z",
     "start_time": "2024-07-26T23:06:40.744298900Z"
    }
   },
   "id": "a23f22af5e7f8fd6"
  },
  {
   "cell_type": "markdown",
   "source": [
    "## Combined Preprocessing:"
   ],
   "metadata": {
    "collapsed": false,
    "pycharm": {
     "name": "#%% md\n"
    }
   },
   "id": "6e4f53ff057be8f4"
  },
  {
   "cell_type": "code",
   "execution_count": 41,
   "outputs": [
    {
     "data": {
      "text/plain": "                       song_id  \\\n846000  3rTIDlmlGskGnRRqmRtvYn   \n604826  7zhdgvEuhcxy4iwc0ssoty   \n604827  7urrpTy9j5QGMYrZpPwuEy   \n604828  6Ppgg7vDhYoyyNmmfIE9zK   \n604829  3EOsorrvvIhtlTOoMdEshm   \n...                        ...   \n11098   0xAqhyWvTkfcdFgm7dozMO   \n10903   6zhg8TnVKi90ITDzFKwPr0   \n5856    2GvkFSjRXV0Ii3uYnHiQ74   \n5080    0lej8CemYKkWVHg77Xe1ky   \n10666   6Fh2QgjCxL96dA3Gtpfr4Q   \n\n                                                song_name  \\\n846000                                      Lone Stranger   \n604826                          Ghost of Gloria Goodchild   \n604827                                             Kolors   \n604828                                    Come as You Are   \n604829                                        Nexperience   \n...                                                   ...   \n11098             (I Wanna) Testify (Mono Single Version)   \n10903                       Swingtown - Alternate Version   \n5856                                       Take My Advice   \n5080             A Man Holdin' on (To a Woman Lettin’ Go)   \n10666   One Sweet Day (16-Bit Mariah Carey & Boyz II M...   \n\n                                               id_artists  \\\n846000                         ['1W006EgE9fkSO9CpTnVlqN']   \n604826                         ['3F2Y683ovlWT53WKCeq0oj']   \n604827                         ['3F2Y683ovlWT53WKCeq0oj']   \n604828                         ['3F2Y683ovlWT53WKCeq0oj']   \n604829                         ['3F2Y683ovlWT53WKCeq0oj']   \n...                                                   ...   \n11098                          ['1Ve5PoI7i5jIIP1xudo6AB']   \n10903                          ['6QtGlUje9TIkLrgPZrESuk']   \n5856                           ['40PLSl99xXqAQsCQQPmfyM']   \n5080    ['1Fj0R2t4HaJa3oUe8azB8R', '5LDnSV99gbDSsMX3Dc...   \n10666                          ['1v4YnufenjE9BLAfP90qvt']   \n\n                           name_artists  song_popularity  explicit  \\\n846000                 ['James Dooley']              0.0     False   \n604826                   ['Goodie Mob']              5.0      True   \n604827                   ['Goodie Mob']             12.0      True   \n604828                   ['Goodie Mob']              5.0      True   \n604829                   ['Goodie Mob']              5.0      True   \n...                                 ...              ...       ...   \n11098               ['The Parliaments']              7.0     False   \n10903             ['Steve Miller Band']             26.0     False   \n5856                       ['Kym Sims']              0.0     False   \n5080    ['Ty Herndon', 'Anita Cochran']             14.0     False   \n10666                 ['Arcade Player']              0.0     False   \n\n            song_type  track_number  num_artists  num_available_markets  ...  \\\n846000           Solo          19.0          1.0                   74.0  ...   \n604826           Solo           9.0          1.0                    2.0  ...   \n604827           Solo          10.0          1.0                    2.0  ...   \n604828           Solo          11.0          1.0                    2.0  ...   \n604829           Solo          12.0          1.0                    2.0  ...   \n...               ...           ...          ...                    ...  ...   \n11098            Solo          10.0          1.0                   79.0  ...   \n10903            Solo           5.0          1.0                   79.0  ...   \n5856             Solo          10.0          1.0                   73.0  ...   \n5080    Collaboration           7.0          2.0                   79.0  ...   \n10666            Solo          27.0          1.0                   79.0  ...   \n\n       danceability  energy  instrumentalness  liveness  loudness  \\\n846000        0.235   0.199          0.896000    0.1110   -15.446   \n604826        0.609   0.612          0.000000    0.4980    -7.317   \n604827        0.482   0.722          0.000000    0.5020    -7.968   \n604828        0.656   0.952          0.000582    0.0455    -5.103   \n604829        0.610   0.798          0.000660    0.5230    -6.880   \n...             ...     ...               ...       ...       ...   \n11098         0.668   0.702          0.000000    0.0521    -5.750   \n10903         0.459   0.764          0.000544    0.2440    -6.662   \n5856          0.737   0.814          0.392000    0.0844   -10.396   \n5080          0.611   0.429          0.000014    0.1120    -8.619   \n10666         0.395   0.405          0.745000    0.1100    -5.559   \n\n        speechiness  valence    tempo  hit       date  \n846000       0.0329   0.0476   69.245  0.0 2013-08-26  \n604826       0.1240   0.3850  140.953  0.0 2013-08-26  \n604827       0.3140   0.4840  105.123  0.0 2013-08-26  \n604828       0.0602   0.4760  130.923  0.0 2013-08-26  \n604829       0.2730   0.6130  138.103  0.0 2013-08-26  \n...             ...      ...      ...  ...        ...  \n11098        0.0330   0.7540  105.227  1.0 2019-08-23  \n10903        0.0354   0.4390  124.557  1.0 2019-08-23  \n5856         0.0307   0.8030  120.010  1.0 2019-08-23  \n5080         0.0298   0.2370  128.007  1.0 2019-08-23  \n10666        0.0393   0.3130  194.933  1.0 2019-08-26  \n\n[357166 rows x 26 columns]",
      "text/html": "<div>\n<style scoped>\n    .dataframe tbody tr th:only-of-type {\n        vertical-align: middle;\n    }\n\n    .dataframe tbody tr th {\n        vertical-align: top;\n    }\n\n    .dataframe thead th {\n        text-align: right;\n    }\n</style>\n<table border=\"1\" class=\"dataframe\">\n  <thead>\n    <tr style=\"text-align: right;\">\n      <th></th>\n      <th>song_id</th>\n      <th>song_name</th>\n      <th>id_artists</th>\n      <th>name_artists</th>\n      <th>song_popularity</th>\n      <th>explicit</th>\n      <th>song_type</th>\n      <th>track_number</th>\n      <th>num_artists</th>\n      <th>num_available_markets</th>\n      <th>...</th>\n      <th>danceability</th>\n      <th>energy</th>\n      <th>instrumentalness</th>\n      <th>liveness</th>\n      <th>loudness</th>\n      <th>speechiness</th>\n      <th>valence</th>\n      <th>tempo</th>\n      <th>hit</th>\n      <th>date</th>\n    </tr>\n  </thead>\n  <tbody>\n    <tr>\n      <th>846000</th>\n      <td>3rTIDlmlGskGnRRqmRtvYn</td>\n      <td>Lone Stranger</td>\n      <td>['1W006EgE9fkSO9CpTnVlqN']</td>\n      <td>['James Dooley']</td>\n      <td>0.0</td>\n      <td>False</td>\n      <td>Solo</td>\n      <td>19.0</td>\n      <td>1.0</td>\n      <td>74.0</td>\n      <td>...</td>\n      <td>0.235</td>\n      <td>0.199</td>\n      <td>0.896000</td>\n      <td>0.1110</td>\n      <td>-15.446</td>\n      <td>0.0329</td>\n      <td>0.0476</td>\n      <td>69.245</td>\n      <td>0.0</td>\n      <td>2013-08-26</td>\n    </tr>\n    <tr>\n      <th>604826</th>\n      <td>7zhdgvEuhcxy4iwc0ssoty</td>\n      <td>Ghost of Gloria Goodchild</td>\n      <td>['3F2Y683ovlWT53WKCeq0oj']</td>\n      <td>['Goodie Mob']</td>\n      <td>5.0</td>\n      <td>True</td>\n      <td>Solo</td>\n      <td>9.0</td>\n      <td>1.0</td>\n      <td>2.0</td>\n      <td>...</td>\n      <td>0.609</td>\n      <td>0.612</td>\n      <td>0.000000</td>\n      <td>0.4980</td>\n      <td>-7.317</td>\n      <td>0.1240</td>\n      <td>0.3850</td>\n      <td>140.953</td>\n      <td>0.0</td>\n      <td>2013-08-26</td>\n    </tr>\n    <tr>\n      <th>604827</th>\n      <td>7urrpTy9j5QGMYrZpPwuEy</td>\n      <td>Kolors</td>\n      <td>['3F2Y683ovlWT53WKCeq0oj']</td>\n      <td>['Goodie Mob']</td>\n      <td>12.0</td>\n      <td>True</td>\n      <td>Solo</td>\n      <td>10.0</td>\n      <td>1.0</td>\n      <td>2.0</td>\n      <td>...</td>\n      <td>0.482</td>\n      <td>0.722</td>\n      <td>0.000000</td>\n      <td>0.5020</td>\n      <td>-7.968</td>\n      <td>0.3140</td>\n      <td>0.4840</td>\n      <td>105.123</td>\n      <td>0.0</td>\n      <td>2013-08-26</td>\n    </tr>\n    <tr>\n      <th>604828</th>\n      <td>6Ppgg7vDhYoyyNmmfIE9zK</td>\n      <td>Come as You Are</td>\n      <td>['3F2Y683ovlWT53WKCeq0oj']</td>\n      <td>['Goodie Mob']</td>\n      <td>5.0</td>\n      <td>True</td>\n      <td>Solo</td>\n      <td>11.0</td>\n      <td>1.0</td>\n      <td>2.0</td>\n      <td>...</td>\n      <td>0.656</td>\n      <td>0.952</td>\n      <td>0.000582</td>\n      <td>0.0455</td>\n      <td>-5.103</td>\n      <td>0.0602</td>\n      <td>0.4760</td>\n      <td>130.923</td>\n      <td>0.0</td>\n      <td>2013-08-26</td>\n    </tr>\n    <tr>\n      <th>604829</th>\n      <td>3EOsorrvvIhtlTOoMdEshm</td>\n      <td>Nexperience</td>\n      <td>['3F2Y683ovlWT53WKCeq0oj']</td>\n      <td>['Goodie Mob']</td>\n      <td>5.0</td>\n      <td>True</td>\n      <td>Solo</td>\n      <td>12.0</td>\n      <td>1.0</td>\n      <td>2.0</td>\n      <td>...</td>\n      <td>0.610</td>\n      <td>0.798</td>\n      <td>0.000660</td>\n      <td>0.5230</td>\n      <td>-6.880</td>\n      <td>0.2730</td>\n      <td>0.6130</td>\n      <td>138.103</td>\n      <td>0.0</td>\n      <td>2013-08-26</td>\n    </tr>\n    <tr>\n      <th>...</th>\n      <td>...</td>\n      <td>...</td>\n      <td>...</td>\n      <td>...</td>\n      <td>...</td>\n      <td>...</td>\n      <td>...</td>\n      <td>...</td>\n      <td>...</td>\n      <td>...</td>\n      <td>...</td>\n      <td>...</td>\n      <td>...</td>\n      <td>...</td>\n      <td>...</td>\n      <td>...</td>\n      <td>...</td>\n      <td>...</td>\n      <td>...</td>\n      <td>...</td>\n      <td>...</td>\n    </tr>\n    <tr>\n      <th>11098</th>\n      <td>0xAqhyWvTkfcdFgm7dozMO</td>\n      <td>(I Wanna) Testify (Mono Single Version)</td>\n      <td>['1Ve5PoI7i5jIIP1xudo6AB']</td>\n      <td>['The Parliaments']</td>\n      <td>7.0</td>\n      <td>False</td>\n      <td>Solo</td>\n      <td>10.0</td>\n      <td>1.0</td>\n      <td>79.0</td>\n      <td>...</td>\n      <td>0.668</td>\n      <td>0.702</td>\n      <td>0.000000</td>\n      <td>0.0521</td>\n      <td>-5.750</td>\n      <td>0.0330</td>\n      <td>0.7540</td>\n      <td>105.227</td>\n      <td>1.0</td>\n      <td>2019-08-23</td>\n    </tr>\n    <tr>\n      <th>10903</th>\n      <td>6zhg8TnVKi90ITDzFKwPr0</td>\n      <td>Swingtown - Alternate Version</td>\n      <td>['6QtGlUje9TIkLrgPZrESuk']</td>\n      <td>['Steve Miller Band']</td>\n      <td>26.0</td>\n      <td>False</td>\n      <td>Solo</td>\n      <td>5.0</td>\n      <td>1.0</td>\n      <td>79.0</td>\n      <td>...</td>\n      <td>0.459</td>\n      <td>0.764</td>\n      <td>0.000544</td>\n      <td>0.2440</td>\n      <td>-6.662</td>\n      <td>0.0354</td>\n      <td>0.4390</td>\n      <td>124.557</td>\n      <td>1.0</td>\n      <td>2019-08-23</td>\n    </tr>\n    <tr>\n      <th>5856</th>\n      <td>2GvkFSjRXV0Ii3uYnHiQ74</td>\n      <td>Take My Advice</td>\n      <td>['40PLSl99xXqAQsCQQPmfyM']</td>\n      <td>['Kym Sims']</td>\n      <td>0.0</td>\n      <td>False</td>\n      <td>Solo</td>\n      <td>10.0</td>\n      <td>1.0</td>\n      <td>73.0</td>\n      <td>...</td>\n      <td>0.737</td>\n      <td>0.814</td>\n      <td>0.392000</td>\n      <td>0.0844</td>\n      <td>-10.396</td>\n      <td>0.0307</td>\n      <td>0.8030</td>\n      <td>120.010</td>\n      <td>1.0</td>\n      <td>2019-08-23</td>\n    </tr>\n    <tr>\n      <th>5080</th>\n      <td>0lej8CemYKkWVHg77Xe1ky</td>\n      <td>A Man Holdin' on (To a Woman Lettin’ Go)</td>\n      <td>['1Fj0R2t4HaJa3oUe8azB8R', '5LDnSV99gbDSsMX3Dc...</td>\n      <td>['Ty Herndon', 'Anita Cochran']</td>\n      <td>14.0</td>\n      <td>False</td>\n      <td>Collaboration</td>\n      <td>7.0</td>\n      <td>2.0</td>\n      <td>79.0</td>\n      <td>...</td>\n      <td>0.611</td>\n      <td>0.429</td>\n      <td>0.000014</td>\n      <td>0.1120</td>\n      <td>-8.619</td>\n      <td>0.0298</td>\n      <td>0.2370</td>\n      <td>128.007</td>\n      <td>1.0</td>\n      <td>2019-08-23</td>\n    </tr>\n    <tr>\n      <th>10666</th>\n      <td>6Fh2QgjCxL96dA3Gtpfr4Q</td>\n      <td>One Sweet Day (16-Bit Mariah Carey &amp; Boyz II M...</td>\n      <td>['1v4YnufenjE9BLAfP90qvt']</td>\n      <td>['Arcade Player']</td>\n      <td>0.0</td>\n      <td>False</td>\n      <td>Solo</td>\n      <td>27.0</td>\n      <td>1.0</td>\n      <td>79.0</td>\n      <td>...</td>\n      <td>0.395</td>\n      <td>0.405</td>\n      <td>0.745000</td>\n      <td>0.1100</td>\n      <td>-5.559</td>\n      <td>0.0393</td>\n      <td>0.3130</td>\n      <td>194.933</td>\n      <td>1.0</td>\n      <td>2019-08-26</td>\n    </tr>\n  </tbody>\n</table>\n<p>357166 rows × 26 columns</p>\n</div>"
     },
     "execution_count": 41,
     "metadata": {},
     "output_type": "execute_result"
    }
   ],
   "source": [
    "combined_df = combined_df[(combined_df[\"num_artists\"] <= 2)]\n",
    "combined_df.rename(columns={\"popularity\" : \"song_popularity\"}, inplace=True)\n",
    "combined_df"
   ],
   "metadata": {
    "collapsed": false,
    "pycharm": {
     "name": "#%%\n"
    },
    "ExecuteTime": {
     "end_time": "2024-07-26T23:06:48.380504500Z",
     "start_time": "2024-07-26T23:06:48.019656Z"
    }
   },
   "id": "2f90abb0b1f33561"
  },
  {
   "cell_type": "code",
   "execution_count": 42,
   "outputs": [
    {
     "data": {
      "text/plain": "                       song_id  \\\n846000  3rTIDlmlGskGnRRqmRtvYn   \n604826  7zhdgvEuhcxy4iwc0ssoty   \n604827  7urrpTy9j5QGMYrZpPwuEy   \n604828  6Ppgg7vDhYoyyNmmfIE9zK   \n604829  3EOsorrvvIhtlTOoMdEshm   \n...                        ...   \n11098   0xAqhyWvTkfcdFgm7dozMO   \n10903   6zhg8TnVKi90ITDzFKwPr0   \n5856    2GvkFSjRXV0Ii3uYnHiQ74   \n5080    0lej8CemYKkWVHg77Xe1ky   \n10666   6Fh2QgjCxL96dA3Gtpfr4Q   \n\n                                                song_name  \\\n846000                                      Lone Stranger   \n604826                          Ghost of Gloria Goodchild   \n604827                                             Kolors   \n604828                                    Come as You Are   \n604829                                        Nexperience   \n...                                                   ...   \n11098             (I Wanna) Testify (Mono Single Version)   \n10903                       Swingtown - Alternate Version   \n5856                                       Take My Advice   \n5080             A Man Holdin' on (To a Woman Lettin’ Go)   \n10666   One Sweet Day (16-Bit Mariah Carey & Boyz II M...   \n\n                                               id_artists  \\\n846000                         ['1W006EgE9fkSO9CpTnVlqN']   \n604826                         ['3F2Y683ovlWT53WKCeq0oj']   \n604827                         ['3F2Y683ovlWT53WKCeq0oj']   \n604828                         ['3F2Y683ovlWT53WKCeq0oj']   \n604829                         ['3F2Y683ovlWT53WKCeq0oj']   \n...                                                   ...   \n11098                          ['1Ve5PoI7i5jIIP1xudo6AB']   \n10903                          ['6QtGlUje9TIkLrgPZrESuk']   \n5856                           ['40PLSl99xXqAQsCQQPmfyM']   \n5080    ['1Fj0R2t4HaJa3oUe8azB8R', '5LDnSV99gbDSsMX3Dc...   \n10666                          ['1v4YnufenjE9BLAfP90qvt']   \n\n                           name_artists  song_popularity  explicit  \\\n846000                 ['James Dooley']              0.0     False   \n604826                   ['Goodie Mob']              5.0      True   \n604827                   ['Goodie Mob']             12.0      True   \n604828                   ['Goodie Mob']              5.0      True   \n604829                   ['Goodie Mob']              5.0      True   \n...                                 ...              ...       ...   \n11098               ['The Parliaments']              7.0     False   \n10903             ['Steve Miller Band']             26.0     False   \n5856                       ['Kym Sims']              0.0     False   \n5080    ['Ty Herndon', 'Anita Cochran']             14.0     False   \n10666                 ['Arcade Player']              0.0     False   \n\n            song_type  track_number  num_artists  num_available_markets  ...  \\\n846000           Solo          19.0          1.0                   74.0  ...   \n604826           Solo           9.0          1.0                    2.0  ...   \n604827           Solo          10.0          1.0                    2.0  ...   \n604828           Solo          11.0          1.0                    2.0  ...   \n604829           Solo          12.0          1.0                    2.0  ...   \n...               ...           ...          ...                    ...  ...   \n11098            Solo          10.0          1.0                   79.0  ...   \n10903            Solo           5.0          1.0                   79.0  ...   \n5856             Solo          10.0          1.0                   73.0  ...   \n5080    Collaboration           7.0          2.0                   79.0  ...   \n10666            Solo          27.0          1.0                   79.0  ...   \n\n       instrumentalness  liveness  loudness  speechiness  valence    tempo  \\\n846000         0.896000    0.1110   -15.446       0.0329   0.0476   69.245   \n604826         0.000000    0.4980    -7.317       0.1240   0.3850  140.953   \n604827         0.000000    0.5020    -7.968       0.3140   0.4840  105.123   \n604828         0.000582    0.0455    -5.103       0.0602   0.4760  130.923   \n604829         0.000660    0.5230    -6.880       0.2730   0.6130  138.103   \n...                 ...       ...       ...          ...      ...      ...   \n11098          0.000000    0.0521    -5.750       0.0330   0.7540  105.227   \n10903          0.000544    0.2440    -6.662       0.0354   0.4390  124.557   \n5856           0.392000    0.0844   -10.396       0.0307   0.8030  120.010   \n5080           0.000014    0.1120    -8.619       0.0298   0.2370  128.007   \n10666          0.745000    0.1100    -5.559       0.0393   0.3130  194.933   \n\n        hit       date              artist1_id              artist2_id  \n846000  0.0 2013-08-26  1W006EgE9fkSO9CpTnVlqN                          \n604826  0.0 2013-08-26  3F2Y683ovlWT53WKCeq0oj                          \n604827  0.0 2013-08-26  3F2Y683ovlWT53WKCeq0oj                          \n604828  0.0 2013-08-26  3F2Y683ovlWT53WKCeq0oj                          \n604829  0.0 2013-08-26  3F2Y683ovlWT53WKCeq0oj                          \n...     ...        ...                     ...                     ...  \n11098   1.0 2019-08-23  1Ve5PoI7i5jIIP1xudo6AB                          \n10903   1.0 2019-08-23  6QtGlUje9TIkLrgPZrESuk                          \n5856    1.0 2019-08-23  40PLSl99xXqAQsCQQPmfyM                          \n5080    1.0 2019-08-23  1Fj0R2t4HaJa3oUe8azB8R  5LDnSV99gbDSsMX3Dcer2b  \n10666   1.0 2019-08-26  1v4YnufenjE9BLAfP90qvt                          \n\n[357166 rows x 28 columns]",
      "text/html": "<div>\n<style scoped>\n    .dataframe tbody tr th:only-of-type {\n        vertical-align: middle;\n    }\n\n    .dataframe tbody tr th {\n        vertical-align: top;\n    }\n\n    .dataframe thead th {\n        text-align: right;\n    }\n</style>\n<table border=\"1\" class=\"dataframe\">\n  <thead>\n    <tr style=\"text-align: right;\">\n      <th></th>\n      <th>song_id</th>\n      <th>song_name</th>\n      <th>id_artists</th>\n      <th>name_artists</th>\n      <th>song_popularity</th>\n      <th>explicit</th>\n      <th>song_type</th>\n      <th>track_number</th>\n      <th>num_artists</th>\n      <th>num_available_markets</th>\n      <th>...</th>\n      <th>instrumentalness</th>\n      <th>liveness</th>\n      <th>loudness</th>\n      <th>speechiness</th>\n      <th>valence</th>\n      <th>tempo</th>\n      <th>hit</th>\n      <th>date</th>\n      <th>artist1_id</th>\n      <th>artist2_id</th>\n    </tr>\n  </thead>\n  <tbody>\n    <tr>\n      <th>846000</th>\n      <td>3rTIDlmlGskGnRRqmRtvYn</td>\n      <td>Lone Stranger</td>\n      <td>['1W006EgE9fkSO9CpTnVlqN']</td>\n      <td>['James Dooley']</td>\n      <td>0.0</td>\n      <td>False</td>\n      <td>Solo</td>\n      <td>19.0</td>\n      <td>1.0</td>\n      <td>74.0</td>\n      <td>...</td>\n      <td>0.896000</td>\n      <td>0.1110</td>\n      <td>-15.446</td>\n      <td>0.0329</td>\n      <td>0.0476</td>\n      <td>69.245</td>\n      <td>0.0</td>\n      <td>2013-08-26</td>\n      <td>1W006EgE9fkSO9CpTnVlqN</td>\n      <td></td>\n    </tr>\n    <tr>\n      <th>604826</th>\n      <td>7zhdgvEuhcxy4iwc0ssoty</td>\n      <td>Ghost of Gloria Goodchild</td>\n      <td>['3F2Y683ovlWT53WKCeq0oj']</td>\n      <td>['Goodie Mob']</td>\n      <td>5.0</td>\n      <td>True</td>\n      <td>Solo</td>\n      <td>9.0</td>\n      <td>1.0</td>\n      <td>2.0</td>\n      <td>...</td>\n      <td>0.000000</td>\n      <td>0.4980</td>\n      <td>-7.317</td>\n      <td>0.1240</td>\n      <td>0.3850</td>\n      <td>140.953</td>\n      <td>0.0</td>\n      <td>2013-08-26</td>\n      <td>3F2Y683ovlWT53WKCeq0oj</td>\n      <td></td>\n    </tr>\n    <tr>\n      <th>604827</th>\n      <td>7urrpTy9j5QGMYrZpPwuEy</td>\n      <td>Kolors</td>\n      <td>['3F2Y683ovlWT53WKCeq0oj']</td>\n      <td>['Goodie Mob']</td>\n      <td>12.0</td>\n      <td>True</td>\n      <td>Solo</td>\n      <td>10.0</td>\n      <td>1.0</td>\n      <td>2.0</td>\n      <td>...</td>\n      <td>0.000000</td>\n      <td>0.5020</td>\n      <td>-7.968</td>\n      <td>0.3140</td>\n      <td>0.4840</td>\n      <td>105.123</td>\n      <td>0.0</td>\n      <td>2013-08-26</td>\n      <td>3F2Y683ovlWT53WKCeq0oj</td>\n      <td></td>\n    </tr>\n    <tr>\n      <th>604828</th>\n      <td>6Ppgg7vDhYoyyNmmfIE9zK</td>\n      <td>Come as You Are</td>\n      <td>['3F2Y683ovlWT53WKCeq0oj']</td>\n      <td>['Goodie Mob']</td>\n      <td>5.0</td>\n      <td>True</td>\n      <td>Solo</td>\n      <td>11.0</td>\n      <td>1.0</td>\n      <td>2.0</td>\n      <td>...</td>\n      <td>0.000582</td>\n      <td>0.0455</td>\n      <td>-5.103</td>\n      <td>0.0602</td>\n      <td>0.4760</td>\n      <td>130.923</td>\n      <td>0.0</td>\n      <td>2013-08-26</td>\n      <td>3F2Y683ovlWT53WKCeq0oj</td>\n      <td></td>\n    </tr>\n    <tr>\n      <th>604829</th>\n      <td>3EOsorrvvIhtlTOoMdEshm</td>\n      <td>Nexperience</td>\n      <td>['3F2Y683ovlWT53WKCeq0oj']</td>\n      <td>['Goodie Mob']</td>\n      <td>5.0</td>\n      <td>True</td>\n      <td>Solo</td>\n      <td>12.0</td>\n      <td>1.0</td>\n      <td>2.0</td>\n      <td>...</td>\n      <td>0.000660</td>\n      <td>0.5230</td>\n      <td>-6.880</td>\n      <td>0.2730</td>\n      <td>0.6130</td>\n      <td>138.103</td>\n      <td>0.0</td>\n      <td>2013-08-26</td>\n      <td>3F2Y683ovlWT53WKCeq0oj</td>\n      <td></td>\n    </tr>\n    <tr>\n      <th>...</th>\n      <td>...</td>\n      <td>...</td>\n      <td>...</td>\n      <td>...</td>\n      <td>...</td>\n      <td>...</td>\n      <td>...</td>\n      <td>...</td>\n      <td>...</td>\n      <td>...</td>\n      <td>...</td>\n      <td>...</td>\n      <td>...</td>\n      <td>...</td>\n      <td>...</td>\n      <td>...</td>\n      <td>...</td>\n      <td>...</td>\n      <td>...</td>\n      <td>...</td>\n      <td>...</td>\n    </tr>\n    <tr>\n      <th>11098</th>\n      <td>0xAqhyWvTkfcdFgm7dozMO</td>\n      <td>(I Wanna) Testify (Mono Single Version)</td>\n      <td>['1Ve5PoI7i5jIIP1xudo6AB']</td>\n      <td>['The Parliaments']</td>\n      <td>7.0</td>\n      <td>False</td>\n      <td>Solo</td>\n      <td>10.0</td>\n      <td>1.0</td>\n      <td>79.0</td>\n      <td>...</td>\n      <td>0.000000</td>\n      <td>0.0521</td>\n      <td>-5.750</td>\n      <td>0.0330</td>\n      <td>0.7540</td>\n      <td>105.227</td>\n      <td>1.0</td>\n      <td>2019-08-23</td>\n      <td>1Ve5PoI7i5jIIP1xudo6AB</td>\n      <td></td>\n    </tr>\n    <tr>\n      <th>10903</th>\n      <td>6zhg8TnVKi90ITDzFKwPr0</td>\n      <td>Swingtown - Alternate Version</td>\n      <td>['6QtGlUje9TIkLrgPZrESuk']</td>\n      <td>['Steve Miller Band']</td>\n      <td>26.0</td>\n      <td>False</td>\n      <td>Solo</td>\n      <td>5.0</td>\n      <td>1.0</td>\n      <td>79.0</td>\n      <td>...</td>\n      <td>0.000544</td>\n      <td>0.2440</td>\n      <td>-6.662</td>\n      <td>0.0354</td>\n      <td>0.4390</td>\n      <td>124.557</td>\n      <td>1.0</td>\n      <td>2019-08-23</td>\n      <td>6QtGlUje9TIkLrgPZrESuk</td>\n      <td></td>\n    </tr>\n    <tr>\n      <th>5856</th>\n      <td>2GvkFSjRXV0Ii3uYnHiQ74</td>\n      <td>Take My Advice</td>\n      <td>['40PLSl99xXqAQsCQQPmfyM']</td>\n      <td>['Kym Sims']</td>\n      <td>0.0</td>\n      <td>False</td>\n      <td>Solo</td>\n      <td>10.0</td>\n      <td>1.0</td>\n      <td>73.0</td>\n      <td>...</td>\n      <td>0.392000</td>\n      <td>0.0844</td>\n      <td>-10.396</td>\n      <td>0.0307</td>\n      <td>0.8030</td>\n      <td>120.010</td>\n      <td>1.0</td>\n      <td>2019-08-23</td>\n      <td>40PLSl99xXqAQsCQQPmfyM</td>\n      <td></td>\n    </tr>\n    <tr>\n      <th>5080</th>\n      <td>0lej8CemYKkWVHg77Xe1ky</td>\n      <td>A Man Holdin' on (To a Woman Lettin’ Go)</td>\n      <td>['1Fj0R2t4HaJa3oUe8azB8R', '5LDnSV99gbDSsMX3Dc...</td>\n      <td>['Ty Herndon', 'Anita Cochran']</td>\n      <td>14.0</td>\n      <td>False</td>\n      <td>Collaboration</td>\n      <td>7.0</td>\n      <td>2.0</td>\n      <td>79.0</td>\n      <td>...</td>\n      <td>0.000014</td>\n      <td>0.1120</td>\n      <td>-8.619</td>\n      <td>0.0298</td>\n      <td>0.2370</td>\n      <td>128.007</td>\n      <td>1.0</td>\n      <td>2019-08-23</td>\n      <td>1Fj0R2t4HaJa3oUe8azB8R</td>\n      <td>5LDnSV99gbDSsMX3Dcer2b</td>\n    </tr>\n    <tr>\n      <th>10666</th>\n      <td>6Fh2QgjCxL96dA3Gtpfr4Q</td>\n      <td>One Sweet Day (16-Bit Mariah Carey &amp; Boyz II M...</td>\n      <td>['1v4YnufenjE9BLAfP90qvt']</td>\n      <td>['Arcade Player']</td>\n      <td>0.0</td>\n      <td>False</td>\n      <td>Solo</td>\n      <td>27.0</td>\n      <td>1.0</td>\n      <td>79.0</td>\n      <td>...</td>\n      <td>0.745000</td>\n      <td>0.1100</td>\n      <td>-5.559</td>\n      <td>0.0393</td>\n      <td>0.3130</td>\n      <td>194.933</td>\n      <td>1.0</td>\n      <td>2019-08-26</td>\n      <td>1v4YnufenjE9BLAfP90qvt</td>\n      <td></td>\n    </tr>\n  </tbody>\n</table>\n<p>357166 rows × 28 columns</p>\n</div>"
     },
     "execution_count": 42,
     "metadata": {},
     "output_type": "execute_result"
    }
   ],
   "source": [
    "import ast \n",
    "\n",
    "# Initialize the new columns\n",
    "combined_df[\"artist1_id\"] = ''\n",
    "combined_df[\"artist2_id\"] = ''\n",
    "\n",
    "column_index = combined_df.columns.get_loc(\"artist1_id\")\n",
    "counter = 0\n",
    "for idx, row in combined_df.iterrows():\n",
    "    try:\n",
    "        # Convert string to list using ast.literal_eval for safety\n",
    "        key_list = ast.literal_eval(row[\"id_artists\"])\n",
    "    except (ValueError, SyntaxError):\n",
    "        # Handle rows with invalid string formats (e.g., not a list)\n",
    "        print(f\"Invalid artist list format for row {idx}: {row['id_artists']}\")\n",
    "        continue\n",
    "    for i, item in enumerate(key_list[:2]):\n",
    "        combined_df.iloc[counter, column_index+i] = item\n",
    "    counter += 1\n",
    "# Display the DataFrame\n",
    "combined_df"
   ],
   "metadata": {
    "collapsed": false,
    "pycharm": {
     "name": "#%%\n"
    },
    "ExecuteTime": {
     "end_time": "2024-07-26T23:07:26.386452100Z",
     "start_time": "2024-07-26T23:06:48.379500800Z"
    }
   },
   "id": "6d740e8cded6b24e"
  },
  {
   "cell_type": "code",
   "execution_count": 43,
   "outputs": [],
   "source": [
    "from sklearn.model_selection import train_test_split\n",
    "combined_df['date'] = pd.to_datetime(combined_df['release_date'])\n",
    "combined_df.sort_values(by=\"date\", inplace=True)\n",
    "\n",
    "split_day = combined_df[\"date\"].iloc[-1]  - pd.DateOffset(years=1)\n",
    "train_df = combined_df[(combined_df[\"date\"]  < split_day)].copy()\n",
    "test_df = combined_df[(combined_df[\"date\"]  >= split_day)].copy()\n",
    "# train_df, test_df = train_test_split(combined_df, test_size=0.25, shuffle=False)\n",
    "train_df.drop(columns=\"date\", inplace=True)\n",
    "test_df.drop(columns=\"date\", inplace=True)"
   ],
   "metadata": {
    "collapsed": false,
    "pycharm": {
     "name": "#%%\n"
    },
    "ExecuteTime": {
     "end_time": "2024-07-26T23:07:26.906453300Z",
     "start_time": "2024-07-26T23:07:26.396454300Z"
    }
   },
   "id": "23ae4f465547b77e"
  },
  {
   "cell_type": "code",
   "execution_count": 44,
   "outputs": [
    {
     "data": {
      "text/plain": "                       song_id                    song_name  song_popularity  \\\n0       3rTIDlmlGskGnRRqmRtvYn                Lone Stranger              0.0   \n1       6NlE71TbUglmKQVLhE1H8R                     Evil Eye             52.0   \n2       7mexukWpLrCVwAztkM8kQl         Stand On the Horizon             46.0   \n3       6hADH7b57N5666cGv624vg                 Right Action             44.0   \n4       5BivvNwjnn46R7zpo7SeM5  Tones of Home - Power Remix              0.0   \n...                        ...                          ...              ...   \n302911  5bIRQuUgZqBSODQrJiMKEw                     The Wave             42.0   \n302912  1dmmZ4gkN8U6fYT8cOqAPE                  Eyes Closed             37.0   \n302913  4bTloyC3SUOjBl3ta3DajW  Twinkle Twinkle Little Star              0.0   \n302914  7IJ5Op2uhQQFeDn1Zr7c6h          Baa Baa Black Sheep              0.0   \n302915  6WRTNDVblJW6Dstku4aHix               Cherry Blossom             42.0   \n\n        explicit      song_type  track_number  num_artists  \\\n0          False           Solo          19.0          1.0   \n1           True           Solo           2.0          1.0   \n2          False           Solo           4.0          1.0   \n3          False           Solo           1.0          1.0   \n4          False           Solo           6.0          1.0   \n...          ...            ...           ...          ...   \n302911     False  Collaboration           2.0          2.0   \n302912     False           Solo           1.0          1.0   \n302913     False           Solo          20.0          1.0   \n302914     False           Solo          19.0          1.0   \n302915     False           Solo           4.0          1.0   \n\n        num_available_markets release_date  duration_ms  ...  \\\n0                        74.0   2013-08-26     163255.0  ...   \n1                        77.0   2013-08-26     167253.0  ...   \n2                        77.0   2013-08-26     263120.0  ...   \n3                        77.0   2013-08-26     182280.0  ...   \n4                        79.0   2013-08-26     310150.0  ...   \n...                       ...          ...          ...  ...   \n302911                   75.0   2018-08-25     158062.0  ...   \n302912                   75.0   2018-08-25     110915.0  ...   \n302913                   79.0   2018-08-25     134928.0  ...   \n302914                   79.0   2018-08-25     125145.0  ...   \n302915                   75.0   2018-08-25     164659.0  ...   \n\n        betweenesscentrality_y  closnesscentrality_y  clustering_y  degree_y  \\\n0                          0.0              0.000000           0.0       0.0   \n1                          0.0              0.000000           0.0       0.0   \n2                          0.0              0.000000           0.0       0.0   \n3                          0.0              0.000000           0.0       0.0   \n4                          0.0              0.000000           0.0       0.0   \n...                        ...                   ...           ...       ...   \n302911                     0.0              0.094408           0.0       1.0   \n302912                     0.0              0.000000           0.0       0.0   \n302913                     0.0              0.000000           0.0       0.0   \n302914                     0.0              0.000000           0.0       0.0   \n302915                     0.0              0.000000           0.0       0.0   \n\n        eccentricity_y  eigencentrality_y  weighted degree_y  pagerank_y  \\\n0                  0.0           0.000000                0.0    0.000000   \n1                  0.0           0.000000                0.0    0.000000   \n2                  0.0           0.000000                0.0    0.000000   \n3                  0.0           0.000000                0.0    0.000000   \n4                  0.0           0.000000                0.0    0.000000   \n...                ...                ...                ...         ...   \n302911            13.0           0.000683                4.0    0.000032   \n302912             0.0           0.000000                0.0    0.000000   \n302913             0.0           0.000000                0.0    0.000000   \n302914             0.0           0.000000                0.0    0.000000   \n302915             0.0           0.000000                0.0    0.000000   \n\n        Cluster_y    profile_y  \n0            -1.0     No Match  \n1            -1.0     No Match  \n2            -1.0     No Match  \n3            -1.0     No Match  \n4            -1.0     No Match  \n...           ...          ...  \n302911        4.0  1A 2B 3A 4A  \n302912       -1.0     No Match  \n302913       -1.0     No Match  \n302914       -1.0     No Match  \n302915       -1.0     No Match  \n\n[302916 rows x 47 columns]",
      "text/html": "<div>\n<style scoped>\n    .dataframe tbody tr th:only-of-type {\n        vertical-align: middle;\n    }\n\n    .dataframe tbody tr th {\n        vertical-align: top;\n    }\n\n    .dataframe thead th {\n        text-align: right;\n    }\n</style>\n<table border=\"1\" class=\"dataframe\">\n  <thead>\n    <tr style=\"text-align: right;\">\n      <th></th>\n      <th>song_id</th>\n      <th>song_name</th>\n      <th>song_popularity</th>\n      <th>explicit</th>\n      <th>song_type</th>\n      <th>track_number</th>\n      <th>num_artists</th>\n      <th>num_available_markets</th>\n      <th>release_date</th>\n      <th>duration_ms</th>\n      <th>...</th>\n      <th>betweenesscentrality_y</th>\n      <th>closnesscentrality_y</th>\n      <th>clustering_y</th>\n      <th>degree_y</th>\n      <th>eccentricity_y</th>\n      <th>eigencentrality_y</th>\n      <th>weighted degree_y</th>\n      <th>pagerank_y</th>\n      <th>Cluster_y</th>\n      <th>profile_y</th>\n    </tr>\n  </thead>\n  <tbody>\n    <tr>\n      <th>0</th>\n      <td>3rTIDlmlGskGnRRqmRtvYn</td>\n      <td>Lone Stranger</td>\n      <td>0.0</td>\n      <td>False</td>\n      <td>Solo</td>\n      <td>19.0</td>\n      <td>1.0</td>\n      <td>74.0</td>\n      <td>2013-08-26</td>\n      <td>163255.0</td>\n      <td>...</td>\n      <td>0.0</td>\n      <td>0.000000</td>\n      <td>0.0</td>\n      <td>0.0</td>\n      <td>0.0</td>\n      <td>0.000000</td>\n      <td>0.0</td>\n      <td>0.000000</td>\n      <td>-1.0</td>\n      <td>No Match</td>\n    </tr>\n    <tr>\n      <th>1</th>\n      <td>6NlE71TbUglmKQVLhE1H8R</td>\n      <td>Evil Eye</td>\n      <td>52.0</td>\n      <td>True</td>\n      <td>Solo</td>\n      <td>2.0</td>\n      <td>1.0</td>\n      <td>77.0</td>\n      <td>2013-08-26</td>\n      <td>167253.0</td>\n      <td>...</td>\n      <td>0.0</td>\n      <td>0.000000</td>\n      <td>0.0</td>\n      <td>0.0</td>\n      <td>0.0</td>\n      <td>0.000000</td>\n      <td>0.0</td>\n      <td>0.000000</td>\n      <td>-1.0</td>\n      <td>No Match</td>\n    </tr>\n    <tr>\n      <th>2</th>\n      <td>7mexukWpLrCVwAztkM8kQl</td>\n      <td>Stand On the Horizon</td>\n      <td>46.0</td>\n      <td>False</td>\n      <td>Solo</td>\n      <td>4.0</td>\n      <td>1.0</td>\n      <td>77.0</td>\n      <td>2013-08-26</td>\n      <td>263120.0</td>\n      <td>...</td>\n      <td>0.0</td>\n      <td>0.000000</td>\n      <td>0.0</td>\n      <td>0.0</td>\n      <td>0.0</td>\n      <td>0.000000</td>\n      <td>0.0</td>\n      <td>0.000000</td>\n      <td>-1.0</td>\n      <td>No Match</td>\n    </tr>\n    <tr>\n      <th>3</th>\n      <td>6hADH7b57N5666cGv624vg</td>\n      <td>Right Action</td>\n      <td>44.0</td>\n      <td>False</td>\n      <td>Solo</td>\n      <td>1.0</td>\n      <td>1.0</td>\n      <td>77.0</td>\n      <td>2013-08-26</td>\n      <td>182280.0</td>\n      <td>...</td>\n      <td>0.0</td>\n      <td>0.000000</td>\n      <td>0.0</td>\n      <td>0.0</td>\n      <td>0.0</td>\n      <td>0.000000</td>\n      <td>0.0</td>\n      <td>0.000000</td>\n      <td>-1.0</td>\n      <td>No Match</td>\n    </tr>\n    <tr>\n      <th>4</th>\n      <td>5BivvNwjnn46R7zpo7SeM5</td>\n      <td>Tones of Home - Power Remix</td>\n      <td>0.0</td>\n      <td>False</td>\n      <td>Solo</td>\n      <td>6.0</td>\n      <td>1.0</td>\n      <td>79.0</td>\n      <td>2013-08-26</td>\n      <td>310150.0</td>\n      <td>...</td>\n      <td>0.0</td>\n      <td>0.000000</td>\n      <td>0.0</td>\n      <td>0.0</td>\n      <td>0.0</td>\n      <td>0.000000</td>\n      <td>0.0</td>\n      <td>0.000000</td>\n      <td>-1.0</td>\n      <td>No Match</td>\n    </tr>\n    <tr>\n      <th>...</th>\n      <td>...</td>\n      <td>...</td>\n      <td>...</td>\n      <td>...</td>\n      <td>...</td>\n      <td>...</td>\n      <td>...</td>\n      <td>...</td>\n      <td>...</td>\n      <td>...</td>\n      <td>...</td>\n      <td>...</td>\n      <td>...</td>\n      <td>...</td>\n      <td>...</td>\n      <td>...</td>\n      <td>...</td>\n      <td>...</td>\n      <td>...</td>\n      <td>...</td>\n      <td>...</td>\n    </tr>\n    <tr>\n      <th>302911</th>\n      <td>5bIRQuUgZqBSODQrJiMKEw</td>\n      <td>The Wave</td>\n      <td>42.0</td>\n      <td>False</td>\n      <td>Collaboration</td>\n      <td>2.0</td>\n      <td>2.0</td>\n      <td>75.0</td>\n      <td>2018-08-25</td>\n      <td>158062.0</td>\n      <td>...</td>\n      <td>0.0</td>\n      <td>0.094408</td>\n      <td>0.0</td>\n      <td>1.0</td>\n      <td>13.0</td>\n      <td>0.000683</td>\n      <td>4.0</td>\n      <td>0.000032</td>\n      <td>4.0</td>\n      <td>1A 2B 3A 4A</td>\n    </tr>\n    <tr>\n      <th>302912</th>\n      <td>1dmmZ4gkN8U6fYT8cOqAPE</td>\n      <td>Eyes Closed</td>\n      <td>37.0</td>\n      <td>False</td>\n      <td>Solo</td>\n      <td>1.0</td>\n      <td>1.0</td>\n      <td>75.0</td>\n      <td>2018-08-25</td>\n      <td>110915.0</td>\n      <td>...</td>\n      <td>0.0</td>\n      <td>0.000000</td>\n      <td>0.0</td>\n      <td>0.0</td>\n      <td>0.0</td>\n      <td>0.000000</td>\n      <td>0.0</td>\n      <td>0.000000</td>\n      <td>-1.0</td>\n      <td>No Match</td>\n    </tr>\n    <tr>\n      <th>302913</th>\n      <td>4bTloyC3SUOjBl3ta3DajW</td>\n      <td>Twinkle Twinkle Little Star</td>\n      <td>0.0</td>\n      <td>False</td>\n      <td>Solo</td>\n      <td>20.0</td>\n      <td>1.0</td>\n      <td>79.0</td>\n      <td>2018-08-25</td>\n      <td>134928.0</td>\n      <td>...</td>\n      <td>0.0</td>\n      <td>0.000000</td>\n      <td>0.0</td>\n      <td>0.0</td>\n      <td>0.0</td>\n      <td>0.000000</td>\n      <td>0.0</td>\n      <td>0.000000</td>\n      <td>-1.0</td>\n      <td>No Match</td>\n    </tr>\n    <tr>\n      <th>302914</th>\n      <td>7IJ5Op2uhQQFeDn1Zr7c6h</td>\n      <td>Baa Baa Black Sheep</td>\n      <td>0.0</td>\n      <td>False</td>\n      <td>Solo</td>\n      <td>19.0</td>\n      <td>1.0</td>\n      <td>79.0</td>\n      <td>2018-08-25</td>\n      <td>125145.0</td>\n      <td>...</td>\n      <td>0.0</td>\n      <td>0.000000</td>\n      <td>0.0</td>\n      <td>0.0</td>\n      <td>0.0</td>\n      <td>0.000000</td>\n      <td>0.0</td>\n      <td>0.000000</td>\n      <td>-1.0</td>\n      <td>No Match</td>\n    </tr>\n    <tr>\n      <th>302915</th>\n      <td>6WRTNDVblJW6Dstku4aHix</td>\n      <td>Cherry Blossom</td>\n      <td>42.0</td>\n      <td>False</td>\n      <td>Solo</td>\n      <td>4.0</td>\n      <td>1.0</td>\n      <td>75.0</td>\n      <td>2018-08-25</td>\n      <td>164659.0</td>\n      <td>...</td>\n      <td>0.0</td>\n      <td>0.000000</td>\n      <td>0.0</td>\n      <td>0.0</td>\n      <td>0.0</td>\n      <td>0.000000</td>\n      <td>0.0</td>\n      <td>0.000000</td>\n      <td>-1.0</td>\n      <td>No Match</td>\n    </tr>\n  </tbody>\n</table>\n<p>302916 rows × 47 columns</p>\n</div>"
     },
     "execution_count": 44,
     "metadata": {},
     "output_type": "execute_result"
    }
   ],
   "source": [
    "data_train = pd.merge(train_df, df_artists_train, left_on=\"artist1_id\", right_on=\"Spotify ID\", how=\"left\")\n",
    "default = {\n",
    "    'eigencentrality': 0,\n",
    "    'name': '',\n",
    "    'eccentricity': 0,\n",
    "    'degree': 0,\n",
    "    'clustering': 0,\n",
    "    'closnesscentrality': 0,\n",
    "    'weighted degree': 0,\n",
    "    'betweenesscentrality': 0,\n",
    "    'Spotify ID': '',\n",
    "    'Cluster': -1,\n",
    "    'profile': \"No Match\",\n",
    "    'pagerank': 0.0\n",
    "}\n",
    "\n",
    "default_y = {\n",
    "    'eigencentrality_y': 0,\n",
    "    'popularity_y': 0,\n",
    "    'name_y': '',\n",
    "    'eccentricity_y': 0,\n",
    "    'degree_y': 0,\n",
    "    'clustering_y': 0,\n",
    "    'closnesscentrality_y': 0,\n",
    "    'weighted degree_y': 0,\n",
    "    'betweenesscentrality_y': 0,\n",
    "    'Spotify ID_y': '',\n",
    "    'Cluster_y': -1,\n",
    "    'profile_y': \"No Match\",\n",
    "    'pagerank_y': 0.0\n",
    "}\n",
    "\n",
    "# Fill NaN values with default values\n",
    "data_train.fillna(default, inplace=True)\n",
    "data_train = pd.merge(data_train, df_artists_train, left_on=\"artist2_id\", right_on=\"Spotify ID\", how=\"left\")\n",
    "data_train.fillna(default_y, inplace=True)\n",
    "data_train.drop(columns=[\"name_artists\", 'id_artists', \"Spotify ID_x\", \"Spotify ID_y\"], inplace=True)\n",
    "data_train"
   ],
   "metadata": {
    "collapsed": false,
    "pycharm": {
     "name": "#%%\n"
    },
    "ExecuteTime": {
     "end_time": "2024-07-26T23:07:27.600455Z",
     "start_time": "2024-07-26T23:07:26.911454600Z"
    }
   },
   "id": "eceeed6a860c246e"
  },
  {
   "cell_type": "code",
   "execution_count": 45,
   "outputs": [
    {
     "data": {
      "text/plain": "''"
     },
     "execution_count": 45,
     "metadata": {},
     "output_type": "execute_result"
    }
   ],
   "source": [
    "data_train[\"artist2_id\"].iloc[0]"
   ],
   "metadata": {
    "collapsed": false,
    "pycharm": {
     "name": "#%%\n"
    },
    "ExecuteTime": {
     "end_time": "2024-07-26T23:07:27.625451800Z",
     "start_time": "2024-07-26T23:07:27.588453300Z"
    }
   },
   "id": "4503d8f82283778e"
  },
  {
   "cell_type": "code",
   "execution_count": 46,
   "outputs": [
    {
     "data": {
      "text/plain": "                      song_id  \\\n0      2nb5SXM7dg43MqYdZCF2kf   \n1      5iCr33teBKdC3dy88hJvA8   \n2      1dGi3GMGi9CcNODmsRcuiX   \n3      1ZJRY8ByWcG7VJUAt3OojU   \n4      51dvl6I2Ui8u4TeneUKy12   \n...                       ...   \n54245  5ke0edZBlwRYu01wdej6xq   \n54246  12kc7hUJKpArFQurhlNeNW   \n54247  0lej8CemYKkWVHg77Xe1ky   \n54248  7goArBQdsalqclSyaTywAS   \n54249  6Fh2QgjCxL96dA3Gtpfr4Q   \n\n                                               song_name  song_popularity  \\\n0                                     Straight No Chaser              0.0   \n1                                                   Oleo              0.0   \n2                                      Mysterious Island              0.0   \n3      Tie Me Down (8-Bit Gryffin & Elley Duhé Emulat...              1.0   \n4              Mr Jones (8-Bit Counting Crows Emulation)              0.0   \n...                                                  ...              ...   \n54245                                         Let Her In              4.0   \n54246                             Stop and Think It Over              1.0   \n54247           A Man Holdin' on (To a Woman Lettin’ Go)             14.0   \n54248                                   Shimmy Shimmy Ya              7.0   \n54249  One Sweet Day (16-Bit Mariah Carey & Boyz II M...              0.0   \n\n       explicit      song_type  track_number  num_artists  \\\n0         False           Solo          15.0          1.0   \n1         False           Solo          14.0          1.0   \n2         False           Solo          12.0          1.0   \n3         False           Solo          16.0          1.0   \n4         False           Solo          10.0          1.0   \n...         ...            ...           ...          ...   \n54245     False           Solo           7.0          1.0   \n54246     False           Solo           9.0          1.0   \n54247     False  Collaboration           7.0          2.0   \n54248     False           Solo           8.0          1.0   \n54249     False           Solo          27.0          1.0   \n\n       num_available_markets release_date  duration_ms  ...  \\\n0                       79.0   2018-08-26     189846.0  ...   \n1                       79.0   2018-08-26     169703.0  ...   \n2                       79.0   2018-08-26     183371.0  ...   \n3                       79.0   2018-08-26     215165.0  ...   \n4                       79.0   2018-08-26     264153.0  ...   \n...                      ...          ...          ...  ...   \n54245                   79.0   2019-08-23     183600.0  ...   \n54246                   79.0   2019-08-23     154413.0  ...   \n54247                   79.0   2019-08-23     231898.0  ...   \n54248                   78.0   2019-08-23     161200.0  ...   \n54249                   79.0   2019-08-26     260910.0  ...   \n\n       betweenesscentrality_y  closnesscentrality_y  clustering_y  degree_y  \\\n0                         0.0              0.000000           0.0       0.0   \n1                         0.0              0.000000           0.0       0.0   \n2                         0.0              0.000000           0.0       0.0   \n3                         0.0              0.000000           0.0       0.0   \n4                         0.0              0.000000           0.0       0.0   \n...                       ...                   ...           ...       ...   \n54245                     0.0              0.000000           0.0       0.0   \n54246                     0.0              0.000000           0.0       0.0   \n54247                     0.0              0.000111           0.0       1.0   \n54248                     0.0              0.000000           0.0       0.0   \n54249                     0.0              0.000000           0.0       0.0   \n\n       eccentricity_y  eigencentrality_y  weighted degree_y  pagerank_y  \\\n0                 0.0       0.000000e+00                0.0    0.000000   \n1                 0.0       0.000000e+00                0.0    0.000000   \n2                 0.0       0.000000e+00                0.0    0.000000   \n3                 0.0       0.000000e+00                0.0    0.000000   \n4                 0.0       0.000000e+00                0.0    0.000000   \n...               ...                ...                ...         ...   \n54245             0.0       0.000000e+00                0.0    0.000000   \n54246             0.0       0.000000e+00                0.0    0.000000   \n54247             2.0       1.834918e-13                2.0    0.000039   \n54248             0.0       0.000000e+00                0.0    0.000000   \n54249             0.0       0.000000e+00                0.0    0.000000   \n\n       Cluster_y    profile_y  \n0           -1.0     No Match  \n1           -1.0     No Match  \n2           -1.0     No Match  \n3           -1.0     No Match  \n4           -1.0     No Match  \n...          ...          ...  \n54245       -1.0     No Match  \n54246       -1.0     No Match  \n54247        0.0  1A 2A 3A 4A  \n54248       -1.0     No Match  \n54249       -1.0     No Match  \n\n[54250 rows x 47 columns]",
      "text/html": "<div>\n<style scoped>\n    .dataframe tbody tr th:only-of-type {\n        vertical-align: middle;\n    }\n\n    .dataframe tbody tr th {\n        vertical-align: top;\n    }\n\n    .dataframe thead th {\n        text-align: right;\n    }\n</style>\n<table border=\"1\" class=\"dataframe\">\n  <thead>\n    <tr style=\"text-align: right;\">\n      <th></th>\n      <th>song_id</th>\n      <th>song_name</th>\n      <th>song_popularity</th>\n      <th>explicit</th>\n      <th>song_type</th>\n      <th>track_number</th>\n      <th>num_artists</th>\n      <th>num_available_markets</th>\n      <th>release_date</th>\n      <th>duration_ms</th>\n      <th>...</th>\n      <th>betweenesscentrality_y</th>\n      <th>closnesscentrality_y</th>\n      <th>clustering_y</th>\n      <th>degree_y</th>\n      <th>eccentricity_y</th>\n      <th>eigencentrality_y</th>\n      <th>weighted degree_y</th>\n      <th>pagerank_y</th>\n      <th>Cluster_y</th>\n      <th>profile_y</th>\n    </tr>\n  </thead>\n  <tbody>\n    <tr>\n      <th>0</th>\n      <td>2nb5SXM7dg43MqYdZCF2kf</td>\n      <td>Straight No Chaser</td>\n      <td>0.0</td>\n      <td>False</td>\n      <td>Solo</td>\n      <td>15.0</td>\n      <td>1.0</td>\n      <td>79.0</td>\n      <td>2018-08-26</td>\n      <td>189846.0</td>\n      <td>...</td>\n      <td>0.0</td>\n      <td>0.000000</td>\n      <td>0.0</td>\n      <td>0.0</td>\n      <td>0.0</td>\n      <td>0.000000e+00</td>\n      <td>0.0</td>\n      <td>0.000000</td>\n      <td>-1.0</td>\n      <td>No Match</td>\n    </tr>\n    <tr>\n      <th>1</th>\n      <td>5iCr33teBKdC3dy88hJvA8</td>\n      <td>Oleo</td>\n      <td>0.0</td>\n      <td>False</td>\n      <td>Solo</td>\n      <td>14.0</td>\n      <td>1.0</td>\n      <td>79.0</td>\n      <td>2018-08-26</td>\n      <td>169703.0</td>\n      <td>...</td>\n      <td>0.0</td>\n      <td>0.000000</td>\n      <td>0.0</td>\n      <td>0.0</td>\n      <td>0.0</td>\n      <td>0.000000e+00</td>\n      <td>0.0</td>\n      <td>0.000000</td>\n      <td>-1.0</td>\n      <td>No Match</td>\n    </tr>\n    <tr>\n      <th>2</th>\n      <td>1dGi3GMGi9CcNODmsRcuiX</td>\n      <td>Mysterious Island</td>\n      <td>0.0</td>\n      <td>False</td>\n      <td>Solo</td>\n      <td>12.0</td>\n      <td>1.0</td>\n      <td>79.0</td>\n      <td>2018-08-26</td>\n      <td>183371.0</td>\n      <td>...</td>\n      <td>0.0</td>\n      <td>0.000000</td>\n      <td>0.0</td>\n      <td>0.0</td>\n      <td>0.0</td>\n      <td>0.000000e+00</td>\n      <td>0.0</td>\n      <td>0.000000</td>\n      <td>-1.0</td>\n      <td>No Match</td>\n    </tr>\n    <tr>\n      <th>3</th>\n      <td>1ZJRY8ByWcG7VJUAt3OojU</td>\n      <td>Tie Me Down (8-Bit Gryffin &amp; Elley Duhé Emulat...</td>\n      <td>1.0</td>\n      <td>False</td>\n      <td>Solo</td>\n      <td>16.0</td>\n      <td>1.0</td>\n      <td>79.0</td>\n      <td>2018-08-26</td>\n      <td>215165.0</td>\n      <td>...</td>\n      <td>0.0</td>\n      <td>0.000000</td>\n      <td>0.0</td>\n      <td>0.0</td>\n      <td>0.0</td>\n      <td>0.000000e+00</td>\n      <td>0.0</td>\n      <td>0.000000</td>\n      <td>-1.0</td>\n      <td>No Match</td>\n    </tr>\n    <tr>\n      <th>4</th>\n      <td>51dvl6I2Ui8u4TeneUKy12</td>\n      <td>Mr Jones (8-Bit Counting Crows Emulation)</td>\n      <td>0.0</td>\n      <td>False</td>\n      <td>Solo</td>\n      <td>10.0</td>\n      <td>1.0</td>\n      <td>79.0</td>\n      <td>2018-08-26</td>\n      <td>264153.0</td>\n      <td>...</td>\n      <td>0.0</td>\n      <td>0.000000</td>\n      <td>0.0</td>\n      <td>0.0</td>\n      <td>0.0</td>\n      <td>0.000000e+00</td>\n      <td>0.0</td>\n      <td>0.000000</td>\n      <td>-1.0</td>\n      <td>No Match</td>\n    </tr>\n    <tr>\n      <th>...</th>\n      <td>...</td>\n      <td>...</td>\n      <td>...</td>\n      <td>...</td>\n      <td>...</td>\n      <td>...</td>\n      <td>...</td>\n      <td>...</td>\n      <td>...</td>\n      <td>...</td>\n      <td>...</td>\n      <td>...</td>\n      <td>...</td>\n      <td>...</td>\n      <td>...</td>\n      <td>...</td>\n      <td>...</td>\n      <td>...</td>\n      <td>...</td>\n      <td>...</td>\n      <td>...</td>\n    </tr>\n    <tr>\n      <th>54245</th>\n      <td>5ke0edZBlwRYu01wdej6xq</td>\n      <td>Let Her In</td>\n      <td>4.0</td>\n      <td>False</td>\n      <td>Solo</td>\n      <td>7.0</td>\n      <td>1.0</td>\n      <td>79.0</td>\n      <td>2019-08-23</td>\n      <td>183600.0</td>\n      <td>...</td>\n      <td>0.0</td>\n      <td>0.000000</td>\n      <td>0.0</td>\n      <td>0.0</td>\n      <td>0.0</td>\n      <td>0.000000e+00</td>\n      <td>0.0</td>\n      <td>0.000000</td>\n      <td>-1.0</td>\n      <td>No Match</td>\n    </tr>\n    <tr>\n      <th>54246</th>\n      <td>12kc7hUJKpArFQurhlNeNW</td>\n      <td>Stop and Think It Over</td>\n      <td>1.0</td>\n      <td>False</td>\n      <td>Solo</td>\n      <td>9.0</td>\n      <td>1.0</td>\n      <td>79.0</td>\n      <td>2019-08-23</td>\n      <td>154413.0</td>\n      <td>...</td>\n      <td>0.0</td>\n      <td>0.000000</td>\n      <td>0.0</td>\n      <td>0.0</td>\n      <td>0.0</td>\n      <td>0.000000e+00</td>\n      <td>0.0</td>\n      <td>0.000000</td>\n      <td>-1.0</td>\n      <td>No Match</td>\n    </tr>\n    <tr>\n      <th>54247</th>\n      <td>0lej8CemYKkWVHg77Xe1ky</td>\n      <td>A Man Holdin' on (To a Woman Lettin’ Go)</td>\n      <td>14.0</td>\n      <td>False</td>\n      <td>Collaboration</td>\n      <td>7.0</td>\n      <td>2.0</td>\n      <td>79.0</td>\n      <td>2019-08-23</td>\n      <td>231898.0</td>\n      <td>...</td>\n      <td>0.0</td>\n      <td>0.000111</td>\n      <td>0.0</td>\n      <td>1.0</td>\n      <td>2.0</td>\n      <td>1.834918e-13</td>\n      <td>2.0</td>\n      <td>0.000039</td>\n      <td>0.0</td>\n      <td>1A 2A 3A 4A</td>\n    </tr>\n    <tr>\n      <th>54248</th>\n      <td>7goArBQdsalqclSyaTywAS</td>\n      <td>Shimmy Shimmy Ya</td>\n      <td>7.0</td>\n      <td>False</td>\n      <td>Solo</td>\n      <td>8.0</td>\n      <td>1.0</td>\n      <td>78.0</td>\n      <td>2019-08-23</td>\n      <td>161200.0</td>\n      <td>...</td>\n      <td>0.0</td>\n      <td>0.000000</td>\n      <td>0.0</td>\n      <td>0.0</td>\n      <td>0.0</td>\n      <td>0.000000e+00</td>\n      <td>0.0</td>\n      <td>0.000000</td>\n      <td>-1.0</td>\n      <td>No Match</td>\n    </tr>\n    <tr>\n      <th>54249</th>\n      <td>6Fh2QgjCxL96dA3Gtpfr4Q</td>\n      <td>One Sweet Day (16-Bit Mariah Carey &amp; Boyz II M...</td>\n      <td>0.0</td>\n      <td>False</td>\n      <td>Solo</td>\n      <td>27.0</td>\n      <td>1.0</td>\n      <td>79.0</td>\n      <td>2019-08-26</td>\n      <td>260910.0</td>\n      <td>...</td>\n      <td>0.0</td>\n      <td>0.000000</td>\n      <td>0.0</td>\n      <td>0.0</td>\n      <td>0.0</td>\n      <td>0.000000e+00</td>\n      <td>0.0</td>\n      <td>0.000000</td>\n      <td>-1.0</td>\n      <td>No Match</td>\n    </tr>\n  </tbody>\n</table>\n<p>54250 rows × 47 columns</p>\n</div>"
     },
     "execution_count": 46,
     "metadata": {},
     "output_type": "execute_result"
    }
   ],
   "source": [
    "data_test = pd.merge(test_df, df_artists_test, left_on=\"artist1_id\", right_on=\"Spotify ID\", how=\"left\")\n",
    "default = {\n",
    "    'eigencentrality': 0,\n",
    "    'name': '',\n",
    "    'eccentricity': 0,\n",
    "    'degree': 0,\n",
    "    'clustering': 0,\n",
    "    'closnesscentrality': 0,\n",
    "    'weighted degree': 0,\n",
    "    'betweenesscentrality': 0,\n",
    "    'Spotify ID': '',\n",
    "    'Cluster': -1,\n",
    "    'profile': \"No Match\",\n",
    "    'pagerank': 0.0\n",
    "}\n",
    "\n",
    "default_y = {\n",
    "    'eigencentrality_y': 0,\n",
    "    'popularity_y': 0,\n",
    "    'name_y': '',\n",
    "    'eccentricity_y': 0,\n",
    "    'degree_y': 0,\n",
    "    'clustering_y': 0,\n",
    "    'closnesscentrality_y': 0,\n",
    "    'weighted degree_y': 0,\n",
    "    'betweenesscentrality_y': 0,\n",
    "    'Spotify ID_y': '',\n",
    "    'Cluster_y': -1,\n",
    "    'profile_y': \"No Match\",\n",
    "    'pagerank_y': 0.0\n",
    "}\n",
    "\n",
    "# Fill NaN values with default values\n",
    "data_test.fillna(default, inplace=True)\n",
    "data_test = pd.merge(data_test, df_artists_test, left_on=\"artist2_id\", right_on=\"Spotify ID\", how=\"left\")\n",
    "data_test.fillna(default_y, inplace=True)\n",
    "data_test.drop(columns=[\"name_artists\", 'id_artists', \"Spotify ID_x\", \"Spotify ID_y\"], inplace=True)\n",
    "data_test"
   ],
   "metadata": {
    "collapsed": false,
    "pycharm": {
     "name": "#%%\n"
    },
    "ExecuteTime": {
     "end_time": "2024-07-26T23:07:27.828454700Z",
     "start_time": "2024-07-26T23:07:27.617455500Z"
    }
   },
   "id": "2cc3f86cb9480c16"
  },
  {
   "cell_type": "code",
   "execution_count": 47,
   "outputs": [],
   "source": [
    "data = pd.concat([data_train, data_test], axis=0)"
   ],
   "metadata": {
    "collapsed": false,
    "pycharm": {
     "name": "#%%\n"
    },
    "ExecuteTime": {
     "end_time": "2024-07-26T23:07:28.005455500Z",
     "start_time": "2024-07-26T23:07:27.779455100Z"
    }
   },
   "id": "1784adc93c9b69ef"
  },
  {
   "cell_type": "code",
   "execution_count": 48,
   "outputs": [
    {
     "data": {
      "text/plain": "                      song_id  \\\n0      3rTIDlmlGskGnRRqmRtvYn   \n1      6NlE71TbUglmKQVLhE1H8R   \n2      7mexukWpLrCVwAztkM8kQl   \n3      6hADH7b57N5666cGv624vg   \n4      5BivvNwjnn46R7zpo7SeM5   \n...                       ...   \n54245  5ke0edZBlwRYu01wdej6xq   \n54246  12kc7hUJKpArFQurhlNeNW   \n54247  0lej8CemYKkWVHg77Xe1ky   \n54248  7goArBQdsalqclSyaTywAS   \n54249  6Fh2QgjCxL96dA3Gtpfr4Q   \n\n                                               song_name  song_popularity  \\\n0                                          Lone Stranger              0.0   \n1                                               Evil Eye             52.0   \n2                                   Stand On the Horizon             46.0   \n3                                           Right Action             44.0   \n4                            Tones of Home - Power Remix              0.0   \n...                                                  ...              ...   \n54245                                         Let Her In              4.0   \n54246                             Stop and Think It Over              1.0   \n54247           A Man Holdin' on (To a Woman Lettin’ Go)             14.0   \n54248                                   Shimmy Shimmy Ya              7.0   \n54249  One Sweet Day (16-Bit Mariah Carey & Boyz II M...              0.0   \n\n       explicit      song_type  track_number  num_artists  \\\n0         False           Solo          19.0          1.0   \n1          True           Solo           2.0          1.0   \n2         False           Solo           4.0          1.0   \n3         False           Solo           1.0          1.0   \n4         False           Solo           6.0          1.0   \n...         ...            ...           ...          ...   \n54245     False           Solo           7.0          1.0   \n54246     False           Solo           9.0          1.0   \n54247     False  Collaboration           7.0          2.0   \n54248     False           Solo           8.0          1.0   \n54249     False           Solo          27.0          1.0   \n\n       num_available_markets release_date  duration_ms  ...  \\\n0                       74.0   2013-08-26     163255.0  ...   \n1                       77.0   2013-08-26     167253.0  ...   \n2                       77.0   2013-08-26     263120.0  ...   \n3                       77.0   2013-08-26     182280.0  ...   \n4                       79.0   2013-08-26     310150.0  ...   \n...                      ...          ...          ...  ...   \n54245                   79.0   2019-08-23     183600.0  ...   \n54246                   79.0   2019-08-23     154413.0  ...   \n54247                   79.0   2019-08-23     231898.0  ...   \n54248                   78.0   2019-08-23     161200.0  ...   \n54249                   79.0   2019-08-26     260910.0  ...   \n\n       betweenesscentrality_y  closnesscentrality_y  clustering_y  degree_y  \\\n0                         0.0              0.000000           0.0       0.0   \n1                         0.0              0.000000           0.0       0.0   \n2                         0.0              0.000000           0.0       0.0   \n3                         0.0              0.000000           0.0       0.0   \n4                         0.0              0.000000           0.0       0.0   \n...                       ...                   ...           ...       ...   \n54245                     0.0              0.000000           0.0       0.0   \n54246                     0.0              0.000000           0.0       0.0   \n54247                     0.0              0.000111           0.0       1.0   \n54248                     0.0              0.000000           0.0       0.0   \n54249                     0.0              0.000000           0.0       0.0   \n\n       eccentricity_y  eigencentrality_y  weighted degree_y  pagerank_y  \\\n0                 0.0       0.000000e+00                0.0    0.000000   \n1                 0.0       0.000000e+00                0.0    0.000000   \n2                 0.0       0.000000e+00                0.0    0.000000   \n3                 0.0       0.000000e+00                0.0    0.000000   \n4                 0.0       0.000000e+00                0.0    0.000000   \n...               ...                ...                ...         ...   \n54245             0.0       0.000000e+00                0.0    0.000000   \n54246             0.0       0.000000e+00                0.0    0.000000   \n54247             2.0       1.834918e-13                2.0    0.000039   \n54248             0.0       0.000000e+00                0.0    0.000000   \n54249             0.0       0.000000e+00                0.0    0.000000   \n\n       Cluster_y    profile_y  \n0           -1.0     No Match  \n1           -1.0     No Match  \n2           -1.0     No Match  \n3           -1.0     No Match  \n4           -1.0     No Match  \n...          ...          ...  \n54245       -1.0     No Match  \n54246       -1.0     No Match  \n54247        0.0  1A 2A 3A 4A  \n54248       -1.0     No Match  \n54249       -1.0     No Match  \n\n[357166 rows x 47 columns]",
      "text/html": "<div>\n<style scoped>\n    .dataframe tbody tr th:only-of-type {\n        vertical-align: middle;\n    }\n\n    .dataframe tbody tr th {\n        vertical-align: top;\n    }\n\n    .dataframe thead th {\n        text-align: right;\n    }\n</style>\n<table border=\"1\" class=\"dataframe\">\n  <thead>\n    <tr style=\"text-align: right;\">\n      <th></th>\n      <th>song_id</th>\n      <th>song_name</th>\n      <th>song_popularity</th>\n      <th>explicit</th>\n      <th>song_type</th>\n      <th>track_number</th>\n      <th>num_artists</th>\n      <th>num_available_markets</th>\n      <th>release_date</th>\n      <th>duration_ms</th>\n      <th>...</th>\n      <th>betweenesscentrality_y</th>\n      <th>closnesscentrality_y</th>\n      <th>clustering_y</th>\n      <th>degree_y</th>\n      <th>eccentricity_y</th>\n      <th>eigencentrality_y</th>\n      <th>weighted degree_y</th>\n      <th>pagerank_y</th>\n      <th>Cluster_y</th>\n      <th>profile_y</th>\n    </tr>\n  </thead>\n  <tbody>\n    <tr>\n      <th>0</th>\n      <td>3rTIDlmlGskGnRRqmRtvYn</td>\n      <td>Lone Stranger</td>\n      <td>0.0</td>\n      <td>False</td>\n      <td>Solo</td>\n      <td>19.0</td>\n      <td>1.0</td>\n      <td>74.0</td>\n      <td>2013-08-26</td>\n      <td>163255.0</td>\n      <td>...</td>\n      <td>0.0</td>\n      <td>0.000000</td>\n      <td>0.0</td>\n      <td>0.0</td>\n      <td>0.0</td>\n      <td>0.000000e+00</td>\n      <td>0.0</td>\n      <td>0.000000</td>\n      <td>-1.0</td>\n      <td>No Match</td>\n    </tr>\n    <tr>\n      <th>1</th>\n      <td>6NlE71TbUglmKQVLhE1H8R</td>\n      <td>Evil Eye</td>\n      <td>52.0</td>\n      <td>True</td>\n      <td>Solo</td>\n      <td>2.0</td>\n      <td>1.0</td>\n      <td>77.0</td>\n      <td>2013-08-26</td>\n      <td>167253.0</td>\n      <td>...</td>\n      <td>0.0</td>\n      <td>0.000000</td>\n      <td>0.0</td>\n      <td>0.0</td>\n      <td>0.0</td>\n      <td>0.000000e+00</td>\n      <td>0.0</td>\n      <td>0.000000</td>\n      <td>-1.0</td>\n      <td>No Match</td>\n    </tr>\n    <tr>\n      <th>2</th>\n      <td>7mexukWpLrCVwAztkM8kQl</td>\n      <td>Stand On the Horizon</td>\n      <td>46.0</td>\n      <td>False</td>\n      <td>Solo</td>\n      <td>4.0</td>\n      <td>1.0</td>\n      <td>77.0</td>\n      <td>2013-08-26</td>\n      <td>263120.0</td>\n      <td>...</td>\n      <td>0.0</td>\n      <td>0.000000</td>\n      <td>0.0</td>\n      <td>0.0</td>\n      <td>0.0</td>\n      <td>0.000000e+00</td>\n      <td>0.0</td>\n      <td>0.000000</td>\n      <td>-1.0</td>\n      <td>No Match</td>\n    </tr>\n    <tr>\n      <th>3</th>\n      <td>6hADH7b57N5666cGv624vg</td>\n      <td>Right Action</td>\n      <td>44.0</td>\n      <td>False</td>\n      <td>Solo</td>\n      <td>1.0</td>\n      <td>1.0</td>\n      <td>77.0</td>\n      <td>2013-08-26</td>\n      <td>182280.0</td>\n      <td>...</td>\n      <td>0.0</td>\n      <td>0.000000</td>\n      <td>0.0</td>\n      <td>0.0</td>\n      <td>0.0</td>\n      <td>0.000000e+00</td>\n      <td>0.0</td>\n      <td>0.000000</td>\n      <td>-1.0</td>\n      <td>No Match</td>\n    </tr>\n    <tr>\n      <th>4</th>\n      <td>5BivvNwjnn46R7zpo7SeM5</td>\n      <td>Tones of Home - Power Remix</td>\n      <td>0.0</td>\n      <td>False</td>\n      <td>Solo</td>\n      <td>6.0</td>\n      <td>1.0</td>\n      <td>79.0</td>\n      <td>2013-08-26</td>\n      <td>310150.0</td>\n      <td>...</td>\n      <td>0.0</td>\n      <td>0.000000</td>\n      <td>0.0</td>\n      <td>0.0</td>\n      <td>0.0</td>\n      <td>0.000000e+00</td>\n      <td>0.0</td>\n      <td>0.000000</td>\n      <td>-1.0</td>\n      <td>No Match</td>\n    </tr>\n    <tr>\n      <th>...</th>\n      <td>...</td>\n      <td>...</td>\n      <td>...</td>\n      <td>...</td>\n      <td>...</td>\n      <td>...</td>\n      <td>...</td>\n      <td>...</td>\n      <td>...</td>\n      <td>...</td>\n      <td>...</td>\n      <td>...</td>\n      <td>...</td>\n      <td>...</td>\n      <td>...</td>\n      <td>...</td>\n      <td>...</td>\n      <td>...</td>\n      <td>...</td>\n      <td>...</td>\n      <td>...</td>\n    </tr>\n    <tr>\n      <th>54245</th>\n      <td>5ke0edZBlwRYu01wdej6xq</td>\n      <td>Let Her In</td>\n      <td>4.0</td>\n      <td>False</td>\n      <td>Solo</td>\n      <td>7.0</td>\n      <td>1.0</td>\n      <td>79.0</td>\n      <td>2019-08-23</td>\n      <td>183600.0</td>\n      <td>...</td>\n      <td>0.0</td>\n      <td>0.000000</td>\n      <td>0.0</td>\n      <td>0.0</td>\n      <td>0.0</td>\n      <td>0.000000e+00</td>\n      <td>0.0</td>\n      <td>0.000000</td>\n      <td>-1.0</td>\n      <td>No Match</td>\n    </tr>\n    <tr>\n      <th>54246</th>\n      <td>12kc7hUJKpArFQurhlNeNW</td>\n      <td>Stop and Think It Over</td>\n      <td>1.0</td>\n      <td>False</td>\n      <td>Solo</td>\n      <td>9.0</td>\n      <td>1.0</td>\n      <td>79.0</td>\n      <td>2019-08-23</td>\n      <td>154413.0</td>\n      <td>...</td>\n      <td>0.0</td>\n      <td>0.000000</td>\n      <td>0.0</td>\n      <td>0.0</td>\n      <td>0.0</td>\n      <td>0.000000e+00</td>\n      <td>0.0</td>\n      <td>0.000000</td>\n      <td>-1.0</td>\n      <td>No Match</td>\n    </tr>\n    <tr>\n      <th>54247</th>\n      <td>0lej8CemYKkWVHg77Xe1ky</td>\n      <td>A Man Holdin' on (To a Woman Lettin’ Go)</td>\n      <td>14.0</td>\n      <td>False</td>\n      <td>Collaboration</td>\n      <td>7.0</td>\n      <td>2.0</td>\n      <td>79.0</td>\n      <td>2019-08-23</td>\n      <td>231898.0</td>\n      <td>...</td>\n      <td>0.0</td>\n      <td>0.000111</td>\n      <td>0.0</td>\n      <td>1.0</td>\n      <td>2.0</td>\n      <td>1.834918e-13</td>\n      <td>2.0</td>\n      <td>0.000039</td>\n      <td>0.0</td>\n      <td>1A 2A 3A 4A</td>\n    </tr>\n    <tr>\n      <th>54248</th>\n      <td>7goArBQdsalqclSyaTywAS</td>\n      <td>Shimmy Shimmy Ya</td>\n      <td>7.0</td>\n      <td>False</td>\n      <td>Solo</td>\n      <td>8.0</td>\n      <td>1.0</td>\n      <td>78.0</td>\n      <td>2019-08-23</td>\n      <td>161200.0</td>\n      <td>...</td>\n      <td>0.0</td>\n      <td>0.000000</td>\n      <td>0.0</td>\n      <td>0.0</td>\n      <td>0.0</td>\n      <td>0.000000e+00</td>\n      <td>0.0</td>\n      <td>0.000000</td>\n      <td>-1.0</td>\n      <td>No Match</td>\n    </tr>\n    <tr>\n      <th>54249</th>\n      <td>6Fh2QgjCxL96dA3Gtpfr4Q</td>\n      <td>One Sweet Day (16-Bit Mariah Carey &amp; Boyz II M...</td>\n      <td>0.0</td>\n      <td>False</td>\n      <td>Solo</td>\n      <td>27.0</td>\n      <td>1.0</td>\n      <td>79.0</td>\n      <td>2019-08-26</td>\n      <td>260910.0</td>\n      <td>...</td>\n      <td>0.0</td>\n      <td>0.000000</td>\n      <td>0.0</td>\n      <td>0.0</td>\n      <td>0.0</td>\n      <td>0.000000e+00</td>\n      <td>0.0</td>\n      <td>0.000000</td>\n      <td>-1.0</td>\n      <td>No Match</td>\n    </tr>\n  </tbody>\n</table>\n<p>357166 rows × 47 columns</p>\n</div>"
     },
     "execution_count": 48,
     "metadata": {},
     "output_type": "execute_result"
    }
   ],
   "source": [
    "data"
   ],
   "metadata": {
    "collapsed": false,
    "pycharm": {
     "name": "#%%\n"
    },
    "ExecuteTime": {
     "end_time": "2024-07-26T23:07:28.231957100Z",
     "start_time": "2024-07-26T23:07:27.960452800Z"
    }
   },
   "id": "957444661fee0edc"
  },
  {
   "cell_type": "code",
   "execution_count": 49,
   "outputs": [],
   "source": [
    "art1_list = data[\"artist1_id\"].tolist()\n",
    "art2_list = data[\"artist2_id\"].tolist()"
   ],
   "metadata": {
    "collapsed": false,
    "pycharm": {
     "name": "#%%\n"
    },
    "ExecuteTime": {
     "end_time": "2024-07-26T23:07:28.332103500Z",
     "start_time": "2024-07-26T23:07:28.217204900Z"
    }
   },
   "id": "a060a7bfe0f666e0"
  },
  {
   "cell_type": "code",
   "execution_count": 50,
   "outputs": [
    {
     "data": {
      "text/plain": "16271"
     },
     "execution_count": 50,
     "metadata": {},
     "output_type": "execute_result"
    }
   ],
   "source": [
    "artist_set = set(art1_list)\n",
    "artist_set.update(art2_list)\n",
    "len(artist_set)"
   ],
   "metadata": {
    "collapsed": false,
    "pycharm": {
     "name": "#%%\n"
    },
    "ExecuteTime": {
     "end_time": "2024-07-26T23:07:28.379101600Z",
     "start_time": "2024-07-26T23:07:28.258524200Z"
    }
   },
   "id": "2e25f47d9cd14b89"
  },
  {
   "cell_type": "code",
   "execution_count": 51,
   "outputs": [
    {
     "data": {
      "text/plain": "array([0.0000e+00, 1.0000e+00, 2.0000e+00, ..., 1.6268e+04, 1.6269e+04,\n       1.6270e+04])"
     },
     "execution_count": 51,
     "metadata": {},
     "output_type": "execute_result"
    }
   ],
   "source": [
    "import numpy as np\n",
    "\n",
    "numbers = np.linspace(0, len(artist_set)-1, len(artist_set))\n",
    "numbers"
   ],
   "metadata": {
    "collapsed": false,
    "pycharm": {
     "name": "#%%\n"
    },
    "ExecuteTime": {
     "end_time": "2024-07-26T23:07:28.404102500Z",
     "start_time": "2024-07-26T23:07:28.291103300Z"
    }
   },
   "id": "d1e4e64c600a4220"
  },
  {
   "cell_type": "code",
   "execution_count": 52,
   "outputs": [
    {
     "data": {
      "text/plain": "{'': 0.0,\n '5UZtUCEqzJNygskDjnCGPQ': 1.0,\n '2029eJThczywCgnjE33s33': 2.0,\n '5vOGHOAW0lvqqtQBYpamCT': 3.0,\n '5TAJeuWxYIaK4v5OsUX8zt': 4.0,\n '6crVcezTv46gx16lC9rT0b': 5.0,\n '2oZ9We4LkpN7I062fHkci3': 6.0,\n '1d0f77FdVFyMIEOVwz1WHy': 7.0,\n '3UpIbyXfGzmHG6TMH4dJEk': 8.0,\n '2fJ2vi4PUSxyvYaeq0FTbE': 9.0,\n '1eUs3gA8ifp4ovLgmDloXQ': 10.0,\n '6ky7h0ow6NQgAnsoN2AB7h': 11.0,\n '1UdQqCUR7RwB9YYJONwbdM': 12.0,\n '5Ne8hQEmy0eZu9hlE3j58B': 13.0,\n '56qkRjq9qsAxK5fc7U5moa': 14.0,\n '7zeHJIIfNStVfxlbT72UwY': 15.0,\n '2pvPkEAN9xSrDrIVUOxWMB': 16.0,\n '356FCJoyYWyzONni54Dgrv': 17.0,\n '6V6WCgi7waF55bJmylC4H5': 18.0,\n '6ejeFwwhMFByLnhqA1LnlE': 19.0,\n '2AQjGvtT0pFYfxR3neFcvz': 20.0,\n '5wHJCxtJAa2dIX2PqjszgK': 21.0,\n '7fVCD9G0dFLQBkS5gfXNRl': 22.0,\n '521qvhdobR0GzhvU6TFw76': 23.0,\n '2OAwZeMfpPzv30lEW6IY0V': 24.0,\n '1kT0Yn5BwEKzaZsUeDNClw': 25.0,\n '14md7SbfmH8E6oyTZFHLPV': 26.0,\n '1fMYALaGB7JMr5N9Wp5yQp': 27.0,\n '7GqJy10VkyFR1oacMiXkZn': 28.0,\n '27gtK7m9vYwCyJ04zz0kIb': 29.0,\n '6aZyMrc4doVtZyKNilOmwu': 30.0,\n '2p4NADimVKvKnagDt4tcRQ': 31.0,\n '7DuTB6wdzqFJGFLSH17k8e': 32.0,\n '0UWZUmn7sybxMCqrw9tGa7': 33.0,\n '2hPgGN4uhvXAxiXQBIXOmE': 34.0,\n '4Eoddnw0pOewmCHQYofuwh': 35.0,\n '0kNNmgwa2uACzKcfHESc7I': 36.0,\n '40PLSl99xXqAQsCQQPmfyM': 37.0,\n '4liSA2xyJhGbTvelyuN2OV': 38.0,\n '1HEfw6pgCvxu2wuU7G5Vpi': 39.0,\n '6bvnqprEw8P88PB8jEnL8f': 40.0,\n '5MP4PiGA5PNFrsVjtauFnC': 41.0,\n '4rTUbjWxvCz8oNvPVc3HeU': 42.0,\n '1fI8NTmA4SpYBRlUFx2Viu': 43.0,\n '57ALvbCBaCkNlgTOSiUPdT': 44.0,\n '2F4vlQrJakgfJhEW93DFcZ': 45.0,\n '62BsMJGRfRgX5rmsSPa4b6': 46.0,\n '272ygo5fv9cYsiCLcV0HV2': 47.0,\n '7pxo7T9W7Mg9LmOoaaiqFC': 48.0,\n '4GvEc3ANtPPjt1ZJllr5Zl': 49.0,\n '1wCc2Wgga1H8C7u57pcqYk': 50.0,\n '4nsYiXTOF3R7mfla5uxrTZ': 51.0,\n '6Fs3EM2yrC9W9wwOgjaDSA': 52.0,\n '2wkz8hACugzAvF0voupg3H': 53.0,\n '3ifA2eU6DAOAqiESpI97JD': 54.0,\n '6uSKeCyQEhvPC2NODgiqFE': 55.0,\n '0J4hhNPKGkF96BvCakh2Ab': 56.0,\n '4sPMJUnXLIIxaVj1jyjl2S': 57.0,\n '1vyhD5VmyZ7KMfW5gqLgo5': 58.0,\n '3OotWJE1GBCaCNLFb9awtw': 59.0,\n '5oVTn06kiTtMSZG56uHDqs': 60.0,\n '3YmywXnB2RxQ9IvUzZqvo9': 61.0,\n '6JkBbOaS3boYr0jIeSj5eM': 62.0,\n '4ebnQwxGmX8eA7wumljZV7': 63.0,\n '6reSddz928YVnAXuLrgFT0': 64.0,\n '5VDmBevaLkMLnK0rLOjijw': 65.0,\n '3xL2Wrd5tv4QDsWCdl81au': 66.0,\n '5guNuWdwogRihUk2X98G9n': 67.0,\n '3bofEojn7sGPv8qWQCwqSH': 68.0,\n '3P33qFNGBVXl86yQYWspFj': 69.0,\n '6a8DSomMqspxk3s3WlBjNT': 70.0,\n '0CFUv5iCAvSy9DkMxIkUwG': 71.0,\n '2OjoIDVPQKT9B7loZbPEfp': 72.0,\n '3KtW4xANJkgfEnFgMxaj8h': 73.0,\n '5psTfOBPmc8UquYcnS22KE': 74.0,\n '7AM82auh7kk3c7kJVUc73n': 75.0,\n '0z5DFXmhT4ZNzWElsM7V89': 76.0,\n '0a0l3QVhfMwQNAO4wPAmP9': 77.0,\n '0L4Dstc4Xh8TCefGSiHGyv': 78.0,\n '4wlgF2WCCPNhQ0FpNwO3vc': 79.0,\n '3wwtTIlVlHrnmdkESUcOTQ': 80.0,\n '6pWL05Wc94cpoX7eS8VhZB': 81.0,\n '0yFDcAAA5D3RNhQWCJsRLp': 82.0,\n '319ctq4mcidvaE9iQ9mrNx': 83.0,\n '16QtUGLCcAypi0eZJsu0zd': 84.0,\n '1kLwvrdz4RnNBxg1kd1BzP': 85.0,\n '3AIPhNgeF9S1Kyg9Yy3UQW': 86.0,\n '7whckrkkTMEuvqfaNfMs7S': 87.0,\n '6mfoAawlriO9xRqOQGAIfM': 88.0,\n '6QvUDxFi2NXTpjv1CsNyOG': 89.0,\n '3aTMDZLtkFlYQfQL7bzccp': 90.0,\n '51t8iNAfrqHtmBjXy7BkWx': 91.0,\n '2q3bTQdWbAAM8HcnxI4rjW': 92.0,\n '46nsDU62ECWeLL9FYTr5kx': 93.0,\n '4L6XDPbGgrgAlH2aHCZR7P': 94.0,\n '1mQHcOSZlVytEmvUG5ssVp': 95.0,\n '3byVCnJiYgvRU7y5VsMHJI': 96.0,\n '4CMbVoPc251Oltqo0i79ui': 97.0,\n '1Du7aJOewz92743fAWFnII': 98.0,\n '6C1ohJrd5VydigQtaGy5Wa': 99.0,\n '15UsOTVnJzReFVN1VCnxy4': 100.0,\n '7j0PXJ4TzHQtnPvDBFyWCd': 101.0,\n '2mbvqMGpwLsakeH45p1Jrb': 102.0,\n '7E4R1smAGR5XRSerlcQtxj': 103.0,\n '3BqaUtuQmqIHg7B5Bc7fP7': 104.0,\n '6HoR4Xa6nrt2e273b2fl5M': 105.0,\n '6e9JKYVEoR2Ny0bFXjt4q2': 106.0,\n '7AGL6rHRzH2FSmJaG0Mjb0': 107.0,\n '7iFBCM9EuHMsWytEVnplIP': 108.0,\n '2H2hzPkX6f5GxejCTpDjBZ': 109.0,\n '2QooLWXEdyFsXYUPkYWY29': 110.0,\n '5ThJpgpzCFNIWL21T8aoeW': 111.0,\n '2uFUBdaVGtyMqckSeCl0Qj': 112.0,\n '3ICflSq6ZgYAIrm2CTkfVP': 113.0,\n '0YC192cP3KPCRWx8zr8MfZ': 114.0,\n '3ubhbS3PAz4flbELdDWIMC': 115.0,\n '2AS00AfjQ78gHr8CwcmqVX': 116.0,\n '3dXC1YPbnQPsfHPVkm1ipj': 117.0,\n '4sbnZxKTcrri3W099W0wuq': 118.0,\n '4EYRKWX3RvHihDHDr8TocR': 119.0,\n '0r2TmTSwK6XAhAxNxTDOb4': 120.0,\n '1jIEuh0p5MfwmNR1PWRT6Z': 121.0,\n '33C3ByGk9NCrjTIXr6npqf': 122.0,\n '1aRdnBeUqTNY9zdBzOrkvJ': 123.0,\n '0ks4E3VJXDIRABtxz2IiBE': 124.0,\n '4FArNa27sFKE9jn64eB29C': 125.0,\n '0y817TF9bjM6bMV8Dvwsrh': 126.0,\n '6IRQiyNmNGjGlrmEl0iArm': 127.0,\n '5MNn4dNb75I3mAcgcRCb6f': 128.0,\n '6k5mfxVX6EdYlxuUCT17Fk': 129.0,\n '3gB7Y7q2B1ei9XKXnOwRlW': 130.0,\n '0wp7cYNFjMgSHBDdla5aC9': 131.0,\n '3yr44etlSPcdruXQYfhGGi': 132.0,\n '1aEGBL5nkDSLiar8I79INx': 133.0,\n '224ycOSKcyYsp3bBZzExun': 134.0,\n '2LpGg3qukmprl5BSlBk6HM': 135.0,\n '73V5kIGIf5Ie78hOcqkxnB': 136.0,\n '2A5NmqmCPbBJ5XfWEJaUP7': 137.0,\n '3onpt2OvZDLXaJITUyUdXI': 138.0,\n '5RSplWKaHB1rliCI4CNSQO': 139.0,\n '3Sg5HEdx7PdMFmU7qRoihI': 140.0,\n '6c0mTNAxJxlp9HpKTUZwA8': 141.0,\n '2s6JabvZdqVQhfOsaxCSFX': 142.0,\n '3Ngh2zDBRPEriyxQDAMKd1': 143.0,\n '42CTAGssAbOtmEow2Q5saa': 144.0,\n '35Xxo2aGz0KYaLmowttSeg': 145.0,\n '46I7TPExS8WjQ8ACkMGlIs': 146.0,\n '1D9XQXqh4YQfJwX7hyLWwr': 147.0,\n '44bsuWth0fHj8lnOXpMH5J': 148.0,\n '6bpLOH5mOXyfqSKk3jt2Cy': 149.0,\n '0qCD81Zmvt7Fy0HXdiNWii': 150.0,\n '7snlIgHPsdbkFjGE5wVqXM': 151.0,\n '7fitFCqqqV1O7PQlrRKwZd': 152.0,\n '08rMCq2ek1YjdDBsCPVH2s': 153.0,\n '4pduw76xrwPWHvDPDxHI7C': 154.0,\n '4DFhHyjvGYa9wxdHUjtDkc': 155.0,\n '6P7H3ai06vU1sGvdpBwDmE': 156.0,\n '27Zy5YAD3Atf56oSRfrfis': 157.0,\n '5dWVbxFDinTWmr4g9LpjUM': 158.0,\n '7J2lZBANizgPNfUzux31PV': 159.0,\n '66U02qGDesTqZImnLSiYeE': 160.0,\n '0a1BmEq1mZ5ufKMC2fsziR': 161.0,\n '7Kkx4dACo6kFSeT9wjfVA5': 162.0,\n '7uQUHweVblbwtkHFvSVZR0': 163.0,\n '46njgd2Rq9tZc4ZjeQMgbh': 164.0,\n '6BDLwOIauGwERNYxaOciyq': 165.0,\n '1xnHnvvHdWzfcqIRqSq4Vb': 166.0,\n '15i90spFl7iaVUm53vyBj3': 167.0,\n '6GxYYWRfwMQzrifFpDslFe': 168.0,\n '0XKI0ULMpduh87pqtGv0cb': 169.0,\n '4WXIbsHTP9Tj8GD76LBTr9': 170.0,\n '7tM9g4ZWivbFx166vQqgIl': 171.0,\n '5DXO42t2V9gc8ZKg30cv0W': 172.0,\n '3mrPUMTaGsRrW8JA66x7oi': 173.0,\n '6sgndeRDzFrRVT0XphSImN': 174.0,\n '3jbDoCMEOT1mgnCMz2He2j': 175.0,\n '2Ckyx6BxrpkdCBctVvY8RB': 176.0,\n '4ihZJgEVoshKe606OAK4xE': 177.0,\n '1blr2ZJoO3NZavvRQ0sELj': 178.0,\n '4Ft2PD3ZFfdWgcysP7RYnb': 179.0,\n '05FEKb23HHED5ZsWmKo8kz': 180.0,\n '1bT7m67vi78r2oqvxrP3X5': 181.0,\n '3sc7iUG1Wwpwx7bHeZolgx': 182.0,\n '2ptmyXoL7poH6Zq62h1QT9': 183.0,\n '0AJXTSXK0tm1nNb0VU4bt2': 184.0,\n '7JY6fr1H5yTccpF65N6koH': 185.0,\n '1Ss1H8LWQfqNUzDfjpDTzL': 186.0,\n '6MzxeKydmXufvX7HYPknFW': 187.0,\n '5JUYSPkis2Mk6HUbmMqk1m': 188.0,\n '4n79tc6TJlvs0oMdy307bR': 189.0,\n '46hILKsILU34lUxKKftyVm': 190.0,\n '3RjnD1QQaFh9cntTCCX0kM': 191.0,\n '659fOqEHzm3jL8AeWuOwXO': 192.0,\n '4urvwbid7NFoVes5PTx9lV': 193.0,\n '5oWOx0BBDSMoFB8JDrjQre': 194.0,\n '58Bw07uuqMzjdX5KpbbP9s': 195.0,\n '7u6LfVyYpEzMpHLL7jTyvU': 196.0,\n '7uQsOLWTD8mZI30Jg3Mbn4': 197.0,\n '0wYcRO9uOuCpQZ8qrQ1uRT': 198.0,\n '1gLCO8HDtmhp1eWmGcPl8S': 199.0,\n '5JsdVATHNPE0XdMFMRoSuf': 200.0,\n '2UQwwYBLBvtpGHTMYzTgHi': 201.0,\n '6ijixrIqFhfUjpfNLzniAT': 202.0,\n '6s22t5Y3prQHyaHWUN1R1C': 203.0,\n '7pYCCfn6BMRxE6oMMU8ebR': 204.0,\n '6Uxf0CvA5sme11Rx3nOZES': 205.0,\n '1AFSUleuDTapVhm5zUf4ix': 206.0,\n '7onUSIg238obN7lDtmB1wT': 207.0,\n '05oH07COxkXKIMt6mIPRee': 208.0,\n '4xG2vcI9d0IVaNJb68Pxk7': 209.0,\n '2DLlb2Se6eF0mMTYffyAcn': 210.0,\n '2wIIoaTkGrgMdkZENiCcJo': 211.0,\n '4FyDcMx1NsTjaQuj8kGfm4': 212.0,\n '0C1yeOJW3kNsDjXl9zg1fj': 213.0,\n '2xMZqRbIbvfnDxZmcdq9rN': 214.0,\n '2iI8m04eIUgSpT8y8Iowrn': 215.0,\n '1PXHzxRDiLnjqNrRn2Xbsa': 216.0,\n '5rNhVm2CnqiO5Lv4Dt2lck': 217.0,\n '6fZgnosel7PZBzJsYdjTCq': 218.0,\n '6EHdKd4m8DzNf9NhVeJSVI': 219.0,\n '20v3nhzoeaO2WvDSCdY0f4': 220.0,\n '2VWX6ZalDVTp1KMGN6JDSl': 221.0,\n '3DznKagEU8yMQZR9z33Da5': 222.0,\n '13YmWQJFwgZrd4bf5IjMY4': 223.0,\n '77RZhwlg8NT3vP77Ak7cqC': 224.0,\n '7uqxSg0aeseXyfFPwSKOMv': 225.0,\n '14EkRX5zOUzEQ1BD8z6Dkq': 226.0,\n '5u9Gwvcam6HULB4DuEGLnf': 227.0,\n '7qAV4uwFeV0zoBqEDcW57K': 228.0,\n '5OlktR4c6v4KMQncig8dKB': 229.0,\n '5PjekOABtfU2Kwo0AHVmci': 230.0,\n '60uaJadV9F6pnvY7hnaCj9': 231.0,\n '3IHsD0sttucHrX8b32Vcab': 232.0,\n '4f0Fbon7bZdGUn119PQikc': 233.0,\n '3M5miYDu8lWrm0A3Q0OTag': 234.0,\n '3wGvxQcnWEztnkjMVpcLQF': 235.0,\n '2NzkYuifA61HDxNCrqZHVx': 236.0,\n '6kCPBMWtj1FBbKEUWmWQ8I': 237.0,\n '1iNqsUDUraNWrj00bqssQG': 238.0,\n '5kIE5Bm5P9h6KDsz46V2qc': 239.0,\n '0pQC2POPGMG4H0Bn3wxmzA': 240.0,\n '0adUZVrjlyffZEwp9bCj4V': 241.0,\n '6GnCucI2uDaYj1j39GFxkn': 242.0,\n '24BgMk7tQ7qZQsCXouKUCM': 243.0,\n '63k1NsFwksKJ9yERwtdV9p': 244.0,\n '61USDLVLP4dWJ5eiKnEmPU': 245.0,\n '5NTRrSOzhRgNjgOUSZI8C7': 246.0,\n '2Xt5IujxV906EgmvTWD3So': 247.0,\n '07RO27rceyZgK0QGu1AoU2': 248.0,\n '79wnqcube11BTT6VnhdPoA': 249.0,\n '4EFMHRFpgrpfp0AVEBp4m2': 250.0,\n '1IsVHJuhzJJ9DDnB3mvthC': 251.0,\n '1c0IhHH9lWvX7cQAy1mkJz': 252.0,\n '02L9Gd25WX9fKNQ3PdNgIz': 253.0,\n '1jKaIlms2CmjKWceane1vh': 254.0,\n '1GKniECmxXNv7XxWis7DWB': 255.0,\n '0rDGYdu3E0pyT2arLFwsFU': 256.0,\n '4vH7ZdfXB7h0i0Rq0dQS5S': 257.0,\n '4FAEZeJcsYYBkNq2D3KGTV': 258.0,\n '1EkJItZB7SZ49NabsOINPX': 259.0,\n '6DplTXPQiDVZ7XsRbEtTbw': 260.0,\n '3byZhxYIRTp15VjyckfstU': 261.0,\n '0AkKZ3RcssmltHDl2Kpqh8': 262.0,\n '1CUVxHzaFXiqedLmCt1pKa': 263.0,\n '2Oz9WXdk6nsT64jTEn9pVu': 264.0,\n '1qfzKfugrtQsVqcltS1ujW': 265.0,\n '0BSNfFPlI0efsuZljJtknX': 266.0,\n '1OC50d3YDgvPrCHF0FDQlz': 267.0,\n '0biYBHxECA1AxcZK9JBidH': 268.0,\n '5sjU8Zpgz4ZFTqbCWazHWI': 269.0,\n '49xgaUsRv1tjmNFiChkml4': 270.0,\n '473EeieFNtN9bfQPvPQD9B': 271.0,\n '08yxJfM5RnFAjJvMJIFnvh': 272.0,\n '4XvcxeFPZlbCBMugEjAomf': 273.0,\n '6S0GHTqz5sxK5f9HtLXn9q': 274.0,\n '28Jt29jw6Smc3ZkzALTouq': 275.0,\n '282CGVJs6pYcEgfGyIeYdG': 276.0,\n '61GeeE9YCN0WWAQ7sqlwpG': 277.0,\n '1XmYwapX4g1kI0Lnl8MKWG': 278.0,\n '1C4zTmHRkm3XRJSex4vTiZ': 279.0,\n '7zJL978NtANOysfGY21ty6': 280.0,\n '2vOrhjDh6DY1Vw2BtAhnGt': 281.0,\n '2piQWmYHXQC8XJ3gPDgVKn': 282.0,\n '4Otx4bRLSfpah5kX8hdgDC': 283.0,\n '698hF4vcwHwPy8ltmXermq': 284.0,\n '5mgr0FFpvy267wKVAYg8qp': 285.0,\n '1mGW7MpR3kesskLHY3Q5WX': 286.0,\n '5TlSihq7lDzW8gCSXHwsPN': 287.0,\n '2gKOyAK7jvza3CP58EcLKD': 288.0,\n '2cyENLzpUJ2GfZJwmWxlI4': 289.0,\n '4yXRQkCMWWkfZSSTA2oKjU': 290.0,\n '714O3xvBNiclo82vxBn8Bf': 291.0,\n '1y20PpXw0yeuJ1avCD0Ob9': 292.0,\n '72TwW1EJRu3DWl97MVTNA2': 293.0,\n '46UxF4P7x9FUigK1O2sSsV': 294.0,\n '5BEYGWk6aPdNXxBx9pwU8S': 295.0,\n '5BUOOPaWd1NGRpdY8U8jTt': 296.0,\n '4yxlaVJyWZLGmpnhE8i4Ip': 297.0,\n '0nNnD1oc02hebmFdcJkyXw': 298.0,\n '69Iibc3uQ7x2vDeZxTwKCw': 299.0,\n '25u4wHJWxCA9vO0CzxAbK7': 300.0,\n '5Tdz2gyupobxpMlg33GVT2': 301.0,\n '2x9SpqnPi8rlE9pjHBwmSC': 302.0,\n '5kuJibJcwOC53s3OkoGMRA': 303.0,\n '4BXWGOxAD5DunawYDGwKyG': 304.0,\n '5tXByO6GQCzWa9ifphd8e0': 305.0,\n '647DdP6ZSOio0fhl4l1mbM': 306.0,\n '7eRORqxEbt7ftbaaWP0k5v': 307.0,\n '0VN7mz2rIvpw0FOvZV6p25': 308.0,\n '6TiDU5aDf7fxniHcNCZFq3': 309.0,\n '6KO6G41BBLTDNYOLefWTMU': 310.0,\n '0ShV0veaBj1NvWRORhuwlI': 311.0,\n '5UCFKJ83fNOzcMVu9yIE4A': 312.0,\n '6OgZQcsKTaP24IArY7JblN': 313.0,\n '6jJkOaQBQsEBBqvavgdHQT': 314.0,\n '46yKGli3eb8WBNRCT5q2V8': 315.0,\n '7JmWc7RWsx9ga8HNet7sjx': 316.0,\n '7KVJCU4z5L4EUHILL8aMxR': 317.0,\n '6NL31G53xThQXkFs7lDpL5': 318.0,\n '2te8VJxgUxcElC8Uq6eJs6': 319.0,\n '2XQpug45cVZnFbLlpe58HQ': 320.0,\n '0cT130FICFd9MiJgVgHYJs': 321.0,\n '2JpeL8UPpvsTSaocrKi1Z0': 322.0,\n '0m04NLVsIfjqZMBfw7vTf4': 323.0,\n '67xyhWIvYQK5qr6b0gElst': 324.0,\n '1TaMotQsjVHSx0MvsEKz2Y': 325.0,\n '2KTR6frHHMVu6JrOsicdtZ': 326.0,\n '2wnJCxpnKAagrdBJAvaDrQ': 327.0,\n '4cS6Zwohxh3AbIT2iYQ8TZ': 328.0,\n '3eSiyfI9xykA5QtgcLS43b': 329.0,\n '4cynDosMoBQcVD9UKLq8eX': 330.0,\n '6WeDO4GynFmK4OxwkBzMW8': 331.0,\n '1J87mxfzE58rZLrRIOx5I5': 332.0,\n '4Sbuy4YFuARLCFyhsOb7U6': 333.0,\n '7Bk5VNKQdtH0MNPHwkVBhL': 334.0,\n '30UIjoCGuL3Fa5BOc3ayNW': 335.0,\n '7fPbltOBcwj56qmj7ISOfX': 336.0,\n '74BtOkZx51wS55e4dn0BvS': 337.0,\n '3lJ6jvOiNY46L2juqXufpf': 338.0,\n '0tSC9Vot7WlR1MsLBqQ9HX': 339.0,\n '2SbcWzAeIqhsmdyra9tW3z': 340.0,\n '7y4MSRqhrv8DXVv6dz2EVm': 341.0,\n '3RwQ26hR2tJtA8F9p2n7jG': 342.0,\n '1lE6SEy8f84Zhjvp7r8yTD': 343.0,\n '5BfKKSmpGmj2moMNlaWeJK': 344.0,\n '2Zxy5LwBatI5kw4uponwHQ': 345.0,\n '2zf3UHovY6jL93db5FMQFh': 346.0,\n '6I46wNMNLclog2FTsGzVhJ': 347.0,\n '3YkI2qWHnosrjXC0ZrXJVh': 348.0,\n '2oTXr9TP7X5DbRunl4x558': 349.0,\n '7CPwAwFBnruFlDqUQCrM1Q': 350.0,\n '2P3cjUru4H3fhSXXNxE9kA': 351.0,\n '43E20dJzrxdWSkq4RVvIyj': 352.0,\n '6v2VjBVPcGVbBqJrUWYiG1': 353.0,\n '7sfl4Xt5KmfyDs2T3SVSMK': 354.0,\n '2dNlmXnKjiHctyFyZ54ILj': 355.0,\n '2fxJs0sKbzKWBklkuwzI2t': 356.0,\n '7B5JiIC6dMd0xVYtHLGzOm': 357.0,\n '5tIkXJTex4JY7cv9mmgAZx': 358.0,\n '36QJpDe2go2KgaRleHCDTp': 359.0,\n '39nmikhjiv5pQxk5UuEdcA': 360.0,\n '6pnIUNV115R0xcFg4pb9X5': 361.0,\n '3JiEH6O95TFthrVkHAzQdu': 362.0,\n '6enJRnw1ux4ffuEbZgJrl2': 363.0,\n '1mg8nnhxHsBOe2lJHQvGdH': 364.0,\n '0M1ImWN3uInxUCZVIE9uxa': 365.0,\n '5M6D2PqxdnZMVMCb1jNOTp': 366.0,\n '5NmNtWBgS3JpTlI7Wz10LY': 367.0,\n '6OJ1GQ2dP0EHWt3PbrpuI5': 368.0,\n '5a6kT1pzA20mrvctgELtr3': 369.0,\n '3EkURHRbSZWjatYLo36NMS': 370.0,\n '3DiSC0nSNNWpPy5ZK3mcrz': 371.0,\n '5Al6D9UOJVsZw7PMKp1mdd': 372.0,\n '4Sgsdn5ME6UlBFZQJ8PjtI': 373.0,\n '37GUqxafAvAKGMZbXCUnmr': 374.0,\n '3Lpw5DNFFHgxCJJvwC8TD7': 375.0,\n '2kS9MrOD16tiQOIyJTzFxK': 376.0,\n '6vSMEdD0kY3g9AaqUGeMMv': 377.0,\n '0WS3SpyzC4h8OyPjw9MrkG': 378.0,\n '0YQmcNgfnoqxBMJ8dcw3Eh': 379.0,\n '6MpNMno56ms16qb1ux4Xys': 380.0,\n '1CD77o9fbdyQFrHnUPUEsF': 381.0,\n '5yyMbFWf7vC14hXTV9cX3q': 382.0,\n '0lWoEbB2wfvlHYqxOSbWwb': 383.0,\n '2FXKV7ijhHUQho7OQLn37f': 384.0,\n '686BOTSwmXxyQP23Af7pEn': 385.0,\n '1l8Fu6IkuTP0U5QetQJ5Xt': 386.0,\n '1VW5tZ9pmSb2rG0GmSELwW': 387.0,\n '01WjpKiWVNurV5hjIadB8C': 388.0,\n '7zuB7923dsOXR4Zgf9ZEJR': 389.0,\n '3nUbzTTtP2w4HqvT5y5vkV': 390.0,\n '5xtS6AoBUHhaAhxC1JN3PY': 391.0,\n '7z8fkGpUDt6eb6fyysRTH9': 392.0,\n '5aeoG3xBrai5JsTqVmmgj0': 393.0,\n '3u2E9OhKS2vkxi08itc25a': 394.0,\n '7vlo91f0RsVmuIYTxATJiJ': 395.0,\n '0HBEK8hJJKsVPtV0WGt00R': 396.0,\n '7zoCV6yevWc39GUz2v1jqg': 397.0,\n '3r18lGR8p07sqbc61fcVbt': 398.0,\n '6vYc5s4He06pwB4ccIYGyG': 399.0,\n '5ecV1FxWWtJwXZqJ3hgblP': 400.0,\n '0bPx7cEowPdqxnvrsMnGD7': 401.0,\n '5JNpXKjGpcvMNiGYiLsCTU': 402.0,\n '4rEnaTyyMKxTYlADwuFwuq': 403.0,\n '6FLMHHUhqa9B8wpImQmcn9': 404.0,\n '420KayE0HljeyZ6K2NuNPl': 405.0,\n '6JixVUX8VkW3Hyw6tAPJ7M': 406.0,\n '2gie1bU1LwnxdFAJoTLjzT': 407.0,\n '0OpWIlokQeE7BNQMhuu2Nx': 408.0,\n '1qtYe3ti2Eh1TR4r23dHhN': 409.0,\n '3Hu7yAx1kVULnXjSznYZRf': 410.0,\n '1e5shldsBYSPVVugyEzvcQ': 411.0,\n '0gUs4jMQsPyZqAFejRDdpS': 412.0,\n '0m4STLAZ7b8ILDQRlqpRFM': 413.0,\n '4y0bhIjBJ0NtIpycUKZc7A': 414.0,\n '6BWjCGfubi4muyeB8EzoCs': 415.0,\n '7aWpPjjgItUnXljFxYYKZI': 416.0,\n '6kEwu0twnfzngQt3Gy8taP': 417.0,\n '2L1W1Lz8JBETtWLopsGcAU': 418.0,\n '2urF8dgLVfDjunO0pcHUEe': 419.0,\n '4dwdTW1Lfiq0cM8nBAqIIz': 420.0,\n '4S9EykWXhStSc15wEx8QFK': 421.0,\n '6nzxy2wXs6tLgzEtqOkEi2': 422.0,\n '2ovhciY9HFY1JuP1ofKgU6': 423.0,\n '0iEtIxbK0KxaSlF7G42ZOp': 424.0,\n '0Y5tJX1MQlPlqiwlOH1tJY': 425.0,\n '5hcVCq6HXN9QBGS3QTmUOx': 426.0,\n '3JOvemVBDcbmCe49suEki2': 427.0,\n '6BeO1KuAWBqFriL1mLHtNc': 428.0,\n '3dbGVeXyDDMicb8wshAVyp': 429.0,\n '2b5SXWoTPSxx1z7aOyRjxd': 430.0,\n '57EljyVzzkhN9Dornk7gZx': 431.0,\n '5ISgOPcI1bY7Rd28GUWWE8': 432.0,\n '0kgsfMP7coSEX8bwUQVivr': 433.0,\n '4pnp4w9g30yLfVIAFnZMRd': 434.0,\n '6clEMFGCtSeO5SqdolJJx1': 435.0,\n '2uWFN03NtTA8kt1zVwj1YJ': 436.0,\n '3pnuQEuaodUTHoX0AEsw1h': 437.0,\n '1LFKKuzn302wp15dYH28id': 438.0,\n '2vDXLZ9mI3CdTPPIzFUKlY': 439.0,\n '10kNPzcM42DVJN78pvPIDU': 440.0,\n '1ZLO8d7zll1WeQJUHaxQer': 441.0,\n '79KRDZXb2kcCcgCHZUpahz': 442.0,\n '0cjsiWgpkNS8qEUmDqqM4z': 443.0,\n '6qF2offK1PSTXqtRkyOS5h': 444.0,\n '2xQx0P0jTAU8ivP3s5sUJW': 445.0,\n '0ecbvwhuhiEAWOLHlRXpqD': 446.0,\n '3qP1yR7s0FAKMjEw99p6wE': 447.0,\n '6apXk5PGvEVbgXOTyk6fP1': 448.0,\n '1Kqk8LVDQyGbp0Sz4bem4y': 449.0,\n '3CfH3WZPzbk5mNDWXpGIy6': 450.0,\n '5UyJW2eCOuXtyYftgbMxZG': 451.0,\n '2J36VNWeaTFUrTwucwvZuA': 452.0,\n '3qTcrVtHp99qqAPpc8FG3K': 453.0,\n '7z7kN3prU5FQJk32gTDYAW': 454.0,\n '1XSKLwRyT1GttGP7fqr5o5': 455.0,\n '1k7xENh56lFoej2pWQAbJp': 456.0,\n '4IWBUUAFIplrNtaOHcJPRM': 457.0,\n '0vUJ3QLN3MlRfjOc2LjGWp': 458.0,\n '1GndwLNj5yWcKL6tV2Fdzq': 459.0,\n '0f1R0Y9ZzptRryOXV1gatI': 460.0,\n '24dCsKxPLKsBqNTE9UpK9E': 461.0,\n '60dzavxtSUtaw8WtzSVhxn': 462.0,\n '5xXMoTxdq2VhRckjeXuKDF': 463.0,\n '2YZWwLVlUDK3KUziV2XHUx': 464.0,\n '73ndLgs6jSrpZzjyzU9TJV': 465.0,\n '4wfoAaFRdaZdrn782iDlCD': 466.0,\n '59FrDXDVJz0EKqYg39dnT2': 467.0,\n '3kTzQgTQHQ3AlR6ssqsARl': 468.0,\n '10PKQB3BrCkAFb2guTZobP': 469.0,\n '6MaIFcQgc3Buqm4eCu3yU8': 470.0,\n '08F3Y3SctIlsOEmKd6dnH8': 471.0,\n '089zDeJWWSaHm6JE4V3ser': 472.0,\n '6VuMaDnrHyPL1p4EHjYLi7': 473.0,\n '3dLfgaGJjjkkF1OUNiEput': 474.0,\n '2RCUsqvkr4V8v3fUJd7UbW': 475.0,\n '0HkcYmcjrBR3SCw9Ld5VZk': 476.0,\n '3vlUveVfzPXzhiPGjHHxOH': 477.0,\n '1xaQSClXcsc1JvxZ2qnwBF': 478.0,\n '3TKCdsX8yNNoiC1gesn6or': 479.0,\n '5fU6lODhpw3GEGGJuaDprR': 480.0,\n '50p4iM2KVVMLG5RbQ1ojrm': 481.0,\n '7q4Ulw0Vfty0d8g8WoNL7A': 482.0,\n '21wBqTdFZzWagr7rU7WXqQ': 483.0,\n '7Gkyjs2OYQpJdOvvmwIz2Z': 484.0,\n '6lHC2EQMEMZiEmSfFloarn': 485.0,\n '6GJwMlxVLRvYmAma3STQLt': 486.0,\n '124lZr6ikVgYmAChW7etQp': 487.0,\n '06c2fzGBhKOSrbEG4wBu5U': 488.0,\n '1dpnxi6xgoB2kaRYnnoatZ': 489.0,\n '55MMG53v00RQfmeSUAx28Y': 490.0,\n '3PXR1cXkJk5aOekoGOtWFA': 491.0,\n '6Qrcx8jm76ywM6tD0HCr3Z': 492.0,\n '3Q0peIbCmkLdGVApusYkyK': 493.0,\n '3TBg6CCsmr6vhkk323TBDN': 494.0,\n '2AVVj8ezW2mJ0v8u7XydiF': 495.0,\n '5FjN7dLruHKgrSDbKtVCvx': 496.0,\n '2nSwqt1xi1q1OlMsUZLrT8': 497.0,\n '7bNqXqIrIfwJnipx7oGeU4': 498.0,\n '1HpOcSJEunza6IW8RsX0kR': 499.0,\n '7iFLUM3KWeNmovIda6VMoE': 500.0,\n '3oFRpiLvaflFOVNxvsLrze': 501.0,\n '79vfaEHMu9fNMwdz4ms0YK': 502.0,\n '0DhprLDFQGaundr4WVi9P1': 503.0,\n '74GeqXwqISG8NN8Xo32GWs': 504.0,\n '4opTS86dN9uO313J9CE8xg': 505.0,\n '0awl5piYwO0CDTHEkCjUhn': 506.0,\n '6bIp3MUNFb5ri7You6I0Up': 507.0,\n '6x2LnllRG5uGarZMsD4iO8': 508.0,\n '3A2Y3YkAuaxcZ6ELvtGZ91': 509.0,\n '4ABj6uVPtu3ft4OKvom7Wm': 510.0,\n '2zGf6lwQ9PxXdoeo5XXP2K': 511.0,\n '6eXpff9mqUUdWTIw10LOwa': 512.0,\n '3gkdIndHEA939ANoZc6HEb': 513.0,\n '7mnsuQcGuJgA7scSNEc3cc': 514.0,\n '18YelxQioKKPXK1PE5hh1n': 515.0,\n '2kM6SovghiRffYO3RQxwUY': 516.0,\n '2IvkS5MXK0vPGnwyJsrEyV': 517.0,\n '1afFmMs1gL1R2T1qT61JDH': 518.0,\n '5AEG63ajney2BoDXi0Vb84': 519.0,\n '2MSlGNpwXDScUdspOK6TS7': 520.0,\n '25NoSiDaJAxrEQeTZES6Yh': 521.0,\n '0iKeQcBb8HjvzSsatjeR3t': 522.0,\n '1YYp1qwJ7EAitFINQ7gOKV': 523.0,\n '4ThBsYITaMjd29bmITPYU2': 524.0,\n '6xNfYat6zWugMHsoPHN3LO': 525.0,\n '3Yl4nkmEa8BSuGWbwhdLDq': 526.0,\n '39LYZn0dz3e69GQanb0fXP': 527.0,\n '148xHiokcrFEaLFdwktt90': 528.0,\n '6CX6a3w8sBGVceNyeFkuhb': 529.0,\n '55Z12FSBPh6dsnCvAvLvxH': 530.0,\n '0LOP2cQxHvJJEY0RE2kV1W': 531.0,\n '7jZM5w05mGhw6wTB1okhD9': 532.0,\n '2geq4dg1rd8HuDCMHgOt4h': 533.0,\n '5cyz9mMD7uqSrw38g9u9t0': 534.0,\n '2Ks7u7vOhugPpSnIHKyrK2': 535.0,\n '4ZMaiDLfxDaoG7ULXgcnDb': 536.0,\n '0kbYTNQb4Pb1rPbbaF0pT4': 537.0,\n '2h6hAChW74hB9HvrNoK1RY': 538.0,\n '3OE2vHui8QauBfsyVI80Vs': 539.0,\n '6JPBUFrfF5w5whOPk2w0kp': 540.0,\n '7Eb5SuBHafZ7rSw3wwS5lO': 541.0,\n '14RjDeaJGDjWX5WqUkBcma': 542.0,\n '0lcJ0rnv51qnpYkAlvMCGE': 543.0,\n '7h1hCr8NHQV4c6RHvDIcNN': 544.0,\n '5oiSxivTCIoOk5UlMSwzWM': 545.0,\n '1O4jn0igmTXh95mJY8FXFM': 546.0,\n '3AQRLZ9PuTAozP28Skbq8V': 547.0,\n '7hEDdJUgflzNOt4ow0OnuC': 548.0,\n '4WffAWU7xMRCx1ipErlXwF': 549.0,\n '2HDAQ8NTHMQnQR6N5Rnde6': 550.0,\n '12FdDK5z7grZIamaG6xTUK': 551.0,\n '2NYOggWBPKbqdEYs7jUr1n': 552.0,\n '7FBj0iWKdoGTpbHjDf0ThK': 553.0,\n '1wqyyR1wzTOTklFwNBcNOP': 554.0,\n '38zoCuCSXrOFkynvaP1jLq': 555.0,\n '3ydjIwHul4t5HWbiIUa3VE': 556.0,\n '3A0firtmr8RY0WShEdAyG8': 557.0,\n '69FdP7uFvN1eUiO9jrG9JA': 558.0,\n '3BJX1nYizKvWpZTY5HOAr4': 559.0,\n '2PCUhxD40qlMqsKHjTZD2e': 560.0,\n '7v4imS0moSyGdXyLgVTIV7': 561.0,\n '6ycoXr0Ayd89vFUT6BOiWo': 562.0,\n '45gCJk0ARcxVtyHhgqW1j2': 563.0,\n '4P0VMjWCPsXQhvTLu0bslQ': 564.0,\n '0FMucZsEnCxs5pqBjHjIc8': 565.0,\n '1diKzCQwf79OJV8a5MhcrW': 566.0,\n '2oa9l9jMnRQYh9il3zJKve': 567.0,\n '5cofRYrqWWoDByaV4GiodV': 568.0,\n '4h6ZCTKha4MPmhpxYUs7E5': 569.0,\n '0le01dl1WllSHhjEXRl4in': 570.0,\n '1Dt1UKLtrJIW1xxRBejjos': 571.0,\n '4dpARuHxo51G3z768sgnrY': 572.0,\n '1rd51IrbtX9DqoU0Zxu4TV': 573.0,\n '2cNV8vNe2fPFf6OfGOBbSS': 574.0,\n '5J5DLfdC5YmPjVk8ljdOqU': 575.0,\n '1zrMGaRSRvx67vF4xzvUcu': 576.0,\n '3REinOiaOAraofOGk1Cewm': 577.0,\n '1y71H4hNtnHG7LeU1Y47FO': 578.0,\n '32Jb1X3wSmmoHj2epZReZA': 579.0,\n '7tHq9f6HuSqjR4I4ppTigb': 580.0,\n '1xsXTWjSGh1Eduyq74D6v8': 581.0,\n '7htVGwGw3uAa7Axft4MTnx': 582.0,\n '15tLZYJSIK7D2diLmqglqy': 583.0,\n '64KEffDW9EtZ1y2vBYgq8T': 584.0,\n '7ai5TWiOG8g9Hds5AATS28': 585.0,\n '5KyeW7iIJJ2yHZODeDCGrN': 586.0,\n '6dthawMbyv7pDngZltrFeJ': 587.0,\n '5lsC3H1vh9YSRQckyGv0Up': 588.0,\n '62sPt3fswraiEPnKQpAbdE': 589.0,\n '6CwwmBIoeNyO0zF1HVheUx': 590.0,\n '5fpSpQ4p27V3xjfyKQ0ash': 591.0,\n '13bDjug9N0pyv3ZUINjkDV': 592.0,\n '1SncSgYiDk2kCBBaXIYcwd': 593.0,\n '7Aa4OVX911Vs7is3rZ9hyi': 594.0,\n '7z1nlKREa4mZ5d2nSlcIoz': 595.0,\n '5h22Mf8zfDGcw7Z7bVKDHr': 596.0,\n '7AC976RDJzL2asmZuz7qil': 597.0,\n '5rX2c1zow6hCph8PnnU3kF': 598.0,\n '3a0ueeJ8KBbRPo6FvgQj8b': 599.0,\n '7AWZ6XJLRLEyjsLWS19IgW': 600.0,\n '550tfDtRMgNBx1G03HyURP': 601.0,\n '2uE66NiUti6Wpz90SD4eam': 602.0,\n '3wWtfT7S2uVJJ3hGZlOLkZ': 603.0,\n '7AUMoJOQDvEYXHBFNCJhAb': 604.0,\n '2WlHzu1uL6WwdbbxNUDkZP': 605.0,\n '6xfqnpe2HnLVUaYXs2F8YS': 606.0,\n '34ZMmxtLPU7CYduBjsd6Sk': 607.0,\n '4vD84vxaAYmL3kIxcPhd1Z': 608.0,\n '7vMpNua6oKT52WWHNUJ1No': 609.0,\n '3AESCWpgSq8ykxcctEQ2mb': 610.0,\n '4O1s9iVG46lSn1mD9ek1ES': 611.0,\n '0qgbJLYz20q47xKIkkXBG9': 612.0,\n '6yS57ExnlRwkcWaQb2X9ir': 613.0,\n '48nwxUvPJZkm8uPa7xMzmj': 614.0,\n '2d3MFdsP4wWSFChLOvlnWE': 615.0,\n '3fkLRCtD5kGMO0BDbmuB2O': 616.0,\n '1MBcm4DauaZqcXSeJzo8tG': 617.0,\n '3kLRxXvqcEnvhPdV50f4Mc': 618.0,\n '4dBOV77d0Fy9KcTZkieXcu': 619.0,\n '5LRNWnDWFkMtRmlxtYdW3I': 620.0,\n '5yd1f7VGZpZ6aKRkr5iWAw': 621.0,\n '7bkdi7f1mxyYxWcBlwON4s': 622.0,\n '4eBQ52kRba7jYsnntGD2Go': 623.0,\n '6UuT0BJZ9vF8Y1sxXnJl2s': 624.0,\n '0JieLbp5UPPpVS0mhVFDTy': 625.0,\n '1taxym071g0LWk2a2SaGkx': 626.0,\n '4LLpKhyESsyAXpc4laK94U': 627.0,\n '3tjuAOn55dpEGxqEnKJIX5': 628.0,\n '1IwhcOAO0MvkhqseMAKxef': 629.0,\n '6P7Nluz43Chhg9I8nzcTqC': 630.0,\n '2JSjCHK79gdaiPWdKiNUNp': 631.0,\n '75R2JvMHHQO39QCufU9P2h': 632.0,\n '4HARu4hK9xDTdAIao8q8yH': 633.0,\n '4KF0B66rZU4yV2hruz7YN4': 634.0,\n '1MYtt2sO0GF30bBYjpxfTC': 635.0,\n '38yCoZSmQz1XpAgPUSNjA7': 636.0,\n '52uMkSFt2RVO6XxTEt5VeW': 637.0,\n '0x3sTIYnP56TnL6bbyMU2i': 638.0,\n '1k8bpqzYyig9hYJ8QhqHVa': 639.0,\n '5FZhjOOsYjcshzz1tEAjZ9': 640.0,\n '6BLhUZMqXO8eXjhToNRteA': 641.0,\n '4UynCbV2dFomjDdTbVOdDk': 642.0,\n '1EevBGfUh3RSQSGpluxgBm': 643.0,\n '77FelC6wMnMqSCUbbsnIKl': 644.0,\n '6ZceDswfymN2CuxdOsSGS3': 645.0,\n '2OaHYHb2XcFPvqL3VsyPzU': 646.0,\n '0bjdfjE8XbLa2Odstu6E1E': 647.0,\n '18RkLKfeoUgZflWv9os25W': 648.0,\n '3id66lq1issumYHY8iGSIY': 649.0,\n '1Vq8wFGKhTnPSNhmkugKuL': 650.0,\n '3sNxdVVD4ogyRJsMpdAGo4': 651.0,\n '3VXsGucLnCidSpk1u7vwbY': 652.0,\n '66l3l6jCDvzBVqF6RJQAMl': 653.0,\n '2dI9IuajQnLR5dLxHjTTqU': 654.0,\n '17Q9sCBpIyS6yM2YyaI6R4': 655.0,\n '3g5kkmAkR9uAIrYPYhzCHO': 656.0,\n '112QjqKDa4MQbs0FhOAgNk': 657.0,\n '4jkhVWwSn1bxxVNDrRdyZy': 658.0,\n '0CozuMhNhXiEZAv2J59EL2': 659.0,\n '4G3F5gyvVJPwtSLgObGqTl': 660.0,\n '1alCd2nPNU5ziOK7ZdyMdL': 661.0,\n '7pb926owWkly4sZus8Esnk': 662.0,\n '6nK8i8OVq9I4StYgG8N8Zg': 663.0,\n '46lTkQfyvyJvRcyUL3GbAq': 664.0,\n '4XdWOaGnKUIvqw2wNqHtOa': 665.0,\n '2zmrsXMHxagFz6vI2cD7r6': 666.0,\n '7iMvwE8qANp3aIfAGKEAwS': 667.0,\n '43D2Vkxs1u8vrl0ArzARRu': 668.0,\n '1n2LWYgwtGp7EzDapUoniE': 669.0,\n '2mCd5QO8EUB5rmbGUbCrTJ': 670.0,\n '3Dq15TXB2HXGUDgBZIRmqM': 671.0,\n '6sQVeggRv1AhrMzuCjhCZe': 672.0,\n '5DskE0p4D9P53HqtwTsfbT': 673.0,\n '6555ocN2C4hPD1wntJtEZK': 674.0,\n '1gMuBzyMXDoKQ27P6kiir8': 675.0,\n '4sbB4Yy6Qig51pKCIKSLw3': 676.0,\n '5M76Uwozk3WE3oYE8TNKoR': 677.0,\n '4NpL0bKS2Wur1MBatrFZbq': 678.0,\n '6g5YMvZLjdVF5iamTVNQUT': 679.0,\n '48sLioddyaXkuhyHXSkpsB': 680.0,\n '05MnAq9vBSDySKNxqbLOaw': 681.0,\n '58CohJpaPmE4H0fXEAnt4i': 682.0,\n '5SThGnsHuNHE99IzvbfKgo': 683.0,\n '4mHAu7NX2UNsnGXjviBD9e': 684.0,\n '7gx7lqo98LuOGE0y8ATrRr': 685.0,\n '2l3G4yPQ624fV7X23zn9PZ': 686.0,\n '1dYHFDoytbBX1D6mxjJfqc': 687.0,\n '3VNITwohbvU5Wuy5PC6dsI': 688.0,\n '7iwj95h4rLKDyJO8w1LHRM': 689.0,\n '1Rle6CpNbJy2S3nJVTjpNU': 690.0,\n '4l0Q1V0OWHTHRiMFclcgN5': 691.0,\n '6xrh3Tdjt9Q582X4H2KgW9': 692.0,\n '22bE4uQ6baNwSHPVcDxLCe': 693.0,\n '3urKeaUTGV9hpipFFnaIBO': 694.0,\n '3HDfNAh4MpiptvaJP9We0w': 695.0,\n '6TEu8K2LD6ubGdqPMoMyMi': 696.0,\n '4Ji3SC3eZTPuDsR1MMJeiS': 697.0,\n '67xIfo0vF5P5wqyfC13R5L': 698.0,\n '5NX29TmuYrENlpvz6IgYMJ': 699.0,\n '2W8UTum7bU7ue6m0r14H97': 700.0,\n '2BlldgShGwxE72pMehEXnf': 701.0,\n '1HuemK1cvHPlkANTiZGJfm': 702.0,\n '7BZGTojmVqziO9SClQCoVm': 703.0,\n '2KzocSxdQrnheOMFyaCljG': 704.0,\n '4b53XvC9wtlLs8KOLEBkr6': 705.0,\n '6Ff53KvcvAj5U7Z1vojB5o': 706.0,\n '7MhrpXCllfRMB47PtC6Z2F': 707.0,\n '2rDxtYUzTAYJJE3Bl3Z5IN': 708.0,\n '1kF9vhfmOPtRncnnKDFgBE': 709.0,\n '4UKyPkZDy7SzgPOV3d7miP': 710.0,\n '3IZrrNonYELubLPJmqOci2': 711.0,\n '6r9Duzqy74IEsVCoSRTyJX': 712.0,\n '0oGOUVzYlcCWFLHgBrSblE': 713.0,\n '0YgNVJT7TcPrWmZfZf4LK6': 714.0,\n '4PyYaDruzfTnVVVA47ktoA': 715.0,\n '5wW8pOoGyDAtR1rds3W6GB': 716.0,\n '46n0cAhBmsRJZiX6GSFmbf': 717.0,\n '42gXQWY0t6kDCzflHUeiSS': 718.0,\n '0wcF5Z7Cz8g5MCTCkIMwSb': 719.0,\n '4mPFPLedaotlYFB3GLn6r7': 720.0,\n '0lEssBAxQl2In4RpaB1C2Y': 721.0,\n '6dFEdLBCd7j32hKdmZD3Tz': 722.0,\n '1DgIJqR7MVt2u621sBxMgh': 723.0,\n '2iTaOOXkUOjea6dFjPAvmE': 724.0,\n '0mpFXzm8CkqkhvN4PLCYkV': 725.0,\n '3sVR0joJDGINOwv2DS93RR': 726.0,\n '3dwESUD2sahwxyFL6SYtEn': 727.0,\n '4ZDB7ugNvFteTrqx7KYiSD': 728.0,\n '7cbv4AA1hRSZKRbm3dNtEI': 729.0,\n '7uVwmp4O0pBJZ9KroxZwQv': 730.0,\n '6gnohqGISFUVpTSqT3TtiO': 731.0,\n '4J13m9IZh03PEhoxAxRhXO': 732.0,\n '6LvbiOyZ8aOUWZ3isV32uB': 733.0,\n '3zrUX1hQrUB9aXcOiyQLmN': 734.0,\n '2U6gqwyl9F33YxawnFrZG7': 735.0,\n '0V8fhJht986S8sh4S6F1K0': 736.0,\n '776Uo845nYHJpNaStv1Ds4': 737.0,\n '3bIhonRzmIgY9vwRjsFQoG': 738.0,\n '2ia6BQ2LC83zOYuNx07J3C': 739.0,\n '4QIzqQPuyAedNFvjcHWXkA': 740.0,\n '6cNo73IcpwXWUUnVlCFZXp': 741.0,\n '3imRn2bkcTURMLie87OhfF': 742.0,\n '1XTN1U0kH9k4RPEdzb56Rs': 743.0,\n '47ixkrAGZ7XCBcgBlong46': 744.0,\n '6VxCmtR7S3yz4vnzsJqhSV': 745.0,\n '3T0HSMgUpuH1hXbT1JPwQF': 746.0,\n '4Ls0w6MHBq0YSl5IbTfFm0': 747.0,\n '12dytETP8cMzf5vrbEeqeC': 748.0,\n '5rLdLtRPBfE8uXr0ysVl79': 749.0,\n '7B5Rt17EYYcbO0zp6lPKbi': 750.0,\n '7dRukQEKOB5tNM4zHP9sQj': 751.0,\n '4qZoDZUhr0g8qYaybSLM7J': 752.0,\n '42A3nZSj9sLXPKpB4YgzSs': 753.0,\n '2jLE4BoXHriQ96JagEtiDP': 754.0,\n '09GmCpZ59IcRJ6ctUDoonQ': 755.0,\n '6BvltIR3D11htiOg84sbVX': 756.0,\n '7JZafQsN8syJ9agEtcyP4V': 757.0,\n '1WcF9s7C8CeUyKRLRundzv': 758.0,\n '3B2GPrnT3Rm5RVW1iZnlUV': 759.0,\n '4EaCM8MKl4caCq5AaHIMMb': 760.0,\n '3eQ08VVwYgRrVLw0bLBrHV': 761.0,\n '0gB8wLdvKGeUkutdT4XI3O': 762.0,\n '6okHzoUnVQ3OFoInGcMGS9': 763.0,\n '7MPJzmeDWVlBmJG4aNvVhi': 764.0,\n '53I5L1MaOYGfbRM1uZ80xg': 765.0,\n '5a6nqHiBS9v3CxYOs7ttET': 766.0,\n '4b8da3pOSQiUF1JtoucCUm': 767.0,\n '6eXZu6O7nAUA5z6vLV8NKI': 768.0,\n '2bhKoNWwiNLxvkd1ynM8pV': 769.0,\n '0fPK3TAseRcy6sAS8U8pEw': 770.0,\n '3pcBYlS4js6fFBbPw4XQ9q': 771.0,\n '1xNmvlEiICkRlRGqlNFZ43': 772.0,\n '7smXIzt9PQQLsTkUt3c6yl': 773.0,\n '6TFlR0sAi71j8mc3scoX4M': 774.0,\n '7DZDByO8dEuOb1V5JcJPfI': 775.0,\n '3NdOtTPPaXrCyC7Lpmzyhv': 776.0,\n '6B1cdS5truj8pH6icrmSZB': 777.0,\n '7HkdQ0gt53LP4zmHsL0nap': 778.0,\n '3IESHH5zmPjfKwiWuCXPqV': 779.0,\n '7aWBvew08fLO4H7VRWG2Iu': 780.0,\n '7uwPrVdjss0FyCCTzpLx5A': 781.0,\n '0SrBupQXkGl3dhrzLGC75t': 782.0,\n '72fQWyXObQBgUIUejMo6js': 783.0,\n '5T4UKHhr4HGIC0VzdZQtAE': 784.0,\n '4fLI0k9CYGyFdyuJ3KeZUV': 785.0,\n '5fJpdLXs4uVYXCd13BE72B': 786.0,\n '5RjqSn7vYk8Qb9GeLWRRhB': 787.0,\n '2do7QghxT4wYHfDQ5sYWvy': 788.0,\n '0daugAjUgbJSqdlyYNwIbT': 789.0,\n '6nNKPNNjOy3my0IYO8l0v4': 790.0,\n '6tsqczONFOCQH4Ot2xlK0u': 791.0,\n '2mqmtiRDcVUI8T7MZEUYNA': 792.0,\n '5HvFk00KrkDIPJuzSLFd0r': 793.0,\n '16okCG5QlGiQ6fRr30H10t': 794.0,\n '1u1MNoDKBOyQNalJ5xairC': 795.0,\n '7uOEDs1DVpAM3Whj3agkCi': 796.0,\n '4ZNhMDN6XZzWiftcyjuGZa': 797.0,\n '5oMWW19j0AXl7Sy4Xn9rmg': 798.0,\n '0rmOSGt4C05TEbEnt8mjI5': 799.0,\n '0NnCgUxhtWt1yBtpDyvFQf': 800.0,\n '5Ct17y3ik4MqIbreP9Kqh8': 801.0,\n '1yYANOwk0iC4kTyJCpHvYz': 802.0,\n '1u6pg7JgRnNX5g91p6BD1w': 803.0,\n '37EEg61XsbxkpkyRYa85g2': 804.0,\n '4N4XqUMMv5KXtLvCBYEIOt': 805.0,\n '5nEWKkUf6IA0Ry5wBOG1J0': 806.0,\n '215ciYy7TIYnGRim0I1nJ3': 807.0,\n '1iqR6Cz7VsSxZcJKaUEtHk': 808.0,\n '0iVed2Qu7dmL0pIYCj1Xw8': 809.0,\n '5TjpsMnYz8lxTr91olqbEh': 810.0,\n '2TImI3DW7o5MdRXJs4D37h': 811.0,\n '0Jfpb1z2hTYVLQkbXxx9Bo': 812.0,\n '2CxBTaN7agcOBvvytODA5q': 813.0,\n '2zbUQ4btF6wjqeOB151r5G': 814.0,\n '7A9i4xt5sD76oR7IoteN8l': 815.0,\n '47BEc2RoW53owMyxacXWdV': 816.0,\n '7eO0EfPXbsgJYoq4jVLrxY': 817.0,\n '3eOCF6hnzQa1MLLXOuxt45': 818.0,\n '6OSTSyaI6AbUlhqCMLrWlg': 819.0,\n '0A7g2YbCA9FlyZvAG6VmKP': 820.0,\n '6AnWpywaiF1GoTWpimixVf': 821.0,\n '7o5gxy3lEGcP62TNIppa7w': 822.0,\n '4IJouZNBBYaHVRJnLXPfta': 823.0,\n '5GcWBUX00IPuWVGMIRK1sS': 824.0,\n '0Xi59sEw38vRvwleSAVqoo': 825.0,\n '0eMsLS7Nb5VOmsGZ3gFNkR': 826.0,\n '7JZGn3cCxwdRIoudPO1kNL': 827.0,\n '2mxplErmRMbGaSiAsDONkT': 828.0,\n '67ea9eGLXYMsO2eYQRui3w': 829.0,\n '5JPZbh2C5iwtZTWYaugGZK': 830.0,\n '5MhLmv7GgyjbxGqiIGasvT': 831.0,\n '05OHCWoZE1eERwTpeCW4xZ': 832.0,\n '76jWEh2CVKVbxZT88Yn71i': 833.0,\n '092AotSuuUXotTqVVWpDuI': 834.0,\n '3abr6HbbzRaagDLbTRvIeK': 835.0,\n '4zRcl46bnklJ7WWyEXOlO0': 836.0,\n '6xBZgSMsnKVmaAxzWEwMSD': 837.0,\n '4sb7rZNN93BSS6Gqgepo4v': 838.0,\n '1KBhxS7BNH6eVsm0Gaz5qP': 839.0,\n '6Kk2qRZ9uzYmVPyn2N0slh': 840.0,\n '0zc8v4kySTWTTviLBWI6uM': 841.0,\n '74eX4C98E4FCrAMl39qRsJ': 842.0,\n '4Ki6eH3BeZwVHxThqZ6fa7': 843.0,\n '3elRktYLzCOw64Y8PawDYY': 844.0,\n '0DS9Sq0o5z2T4l1h7MUoKd': 845.0,\n '5Y8Ccozd7vBmwEJ5e0zd3n': 846.0,\n '397jYgLYL4N6XsutEYQlP5': 847.0,\n '0kUQWnS5UPoQd3OJE2AAQz': 848.0,\n '0jpeXX8CClo6hxCOAzyAKf': 849.0,\n '1cX9A5MXV9id7GP4epvVz0': 850.0,\n '63aKxgjLO1EaDdQESBCt21': 851.0,\n '4StDLRKg8Jtp0qmE35907p': 852.0,\n '577IXRiAMxefzOaP5zdN9D': 853.0,\n '1DisOtNFBsfGAuifnt4o8j': 854.0,\n '0rVkv5DwsmIbQg2ECWMQGT': 855.0,\n '7CTjkl9M3enzBBfm1u10Sy': 856.0,\n '0AsgyXzypacHnGvrpK66kl': 857.0,\n '1ewyVtTZBqFYWIcepopRhp': 858.0,\n '6O4EGCCb6DoIiR6B1QCQgp': 859.0,\n '2oQOrvXeK61sCAFlKiFbiM': 860.0,\n '0m9husdLSRyNHOuxFAr5hB': 861.0,\n '3FRfnhYD8uu3k8Dml7C7Wy': 862.0,\n '1mUvCFjlnNilmIebNqKYo8': 863.0,\n '7KjuI3MbOTaBH29yju4Lr4': 864.0,\n '4owT4Ud3htkIMeOQl8pUhW': 865.0,\n '7oZIB8DjcIfz5olUNhxBlB': 866.0,\n '5uhowxcNLDhc0qsmXWaOHV': 867.0,\n '487a249r3EAgyxvwTf8JtK': 868.0,\n '1pcqjPVtlhYZThnmAKiRq4': 869.0,\n '4L1z1IcfK7lbqx8izGHaw5': 870.0,\n '1PNvaesh1mkKZucGhBuqgD': 871.0,\n '7JBohcnAdfcFbZbYVZpKC2': 872.0,\n '42IjUGvLxh8aVFup0xXv18': 873.0,\n '4YWK3hXt1QRAw2rNBao55d': 874.0,\n '0c5dRN1dwcymOscEAWy4qM': 875.0,\n '4ZjFFy2brYzBcYNAPwhW6W': 876.0,\n '5UpkimVCIR7bh29sHxwKN0': 877.0,\n '7Hrf2nIryXkrWdftICgcZX': 878.0,\n '3XUgIKpT0IEzM80LmjOyuc': 879.0,\n '7Ls9QwSDJmmP65RnnEJBT8': 880.0,\n '5ViORA1xMSmL77eTxmzZPZ': 881.0,\n '3J6DYYQO1Gngukj8zAs3k6': 882.0,\n '2UBLqyRAXDXdljUITfdXxG': 883.0,\n '3LkeAX21Tyb0t1CCAP5aq3': 884.0,\n '3jahzTuztFVegfKXChatkY': 885.0,\n '4xSQ9zt3zGyyiCXazv4mhf': 886.0,\n '4NiJW4q9ichVqL1aUsgGAN': 887.0,\n '3pcfEdFMBpKDauA7tmMpPH': 888.0,\n '4aB09PkOEu32eTE4L2me3L': 889.0,\n '3ExT45ORJ8pT516HRZbr7G': 890.0,\n '6iHLFjFZG32m8zbXL0GdWL': 891.0,\n '7licaqhcEBQUzz9FownRaJ': 892.0,\n '1sAfB1pePjdG0UP46Z72LU': 893.0,\n '7FDlvgcodNfC0IBdWevl4u': 894.0,\n '6QtdwqSCN5B4wvBoHaNwTx': 895.0,\n '3ZWab2LEVkNKiBPIClTwof': 896.0,\n '5mPVQE6zGajncC74bBWcHh': 897.0,\n '65beK5G7bZFR6e4Lm831ry': 898.0,\n '3OpJxAHfT0KsJzQqdX5SLb': 899.0,\n '1lj4n39kjxt8Cduz4Jgktf': 900.0,\n '0aj68J40CRvncu2zLlhpxl': 901.0,\n '6I9TgZbapKRXsunA05fiPl': 902.0,\n '7aJSIsbI5wV8aFi2kkFfPi': 903.0,\n '0HeME15jWon3cJJvV1NZXv': 904.0,\n '2qrC02HW40y41ucTX6XfRd': 905.0,\n '6vuD08WKtmp1yc7kQx1rBm': 906.0,\n '23H1ellgs9wxOBx2V0fkao': 907.0,\n '1v3CnxHAtLMfZW8v5dGj7t': 908.0,\n '1vGLThg91o4DzDa04sENLa': 909.0,\n '7Ln80lUS6He07XvHI8qqHH': 910.0,\n '2YdVmtVBpIrv0N6WiBzSqm': 911.0,\n '0C8ZW7ezQVs4URX5aX7Kqx': 912.0,\n '3fjgc6sgs5FSEF6IHgxlNZ': 913.0,\n '1kk6o5FDlujcgz2d2iFXKy': 914.0,\n '05tleZ8NtjaLPU5oJyzR2N': 915.0,\n '4bkMJI189xY4mvKj6xhhBJ': 916.0,\n '33GQs43MzMLZZ618IZyj5M': 917.0,\n '1WY9RIHsINGWgV7Ne3D8gx': 918.0,\n '4EXOUePFp3FYwOq3RE7gdt': 919.0,\n '57AKOY1SF1062tuVzgAPv8': 920.0,\n '0IPndoIq0zbhyk4zNKmiEi': 921.0,\n '4BM6qze88exQPVILQpcYpj': 922.0,\n '76PJKS3IQsf4sSayx2taE0': 923.0,\n '5Ao1vYvPBQUjsfPbPHQPhZ': 924.0,\n '1xLKDKVLrrNKVcAPjnekuq': 925.0,\n '5nlFTdhFxlmm4txODYtRA0': 926.0,\n '3JKet3qzUbwcFdKdR5Mj3l': 927.0,\n '7HqEmV7FeCi16bQyHMpIrF': 928.0,\n '3ypQGL8XS5imLgrD3DDP6K': 929.0,\n '7dr3cSEOIZ6tBrm4y1wsnr': 930.0,\n '0bhjuZeDPC1pvwzxLf3x9s': 931.0,\n '5PzCnHRNXNxmy5u0BwxFBO': 932.0,\n '4M6bPE3dMD1ig3fyt3274f': 933.0,\n '2uIUjdpRoiyZUmtHm44DWu': 934.0,\n '2rWvVeA9vSNSlVrrMXONtY': 935.0,\n '4w8eKJO83kKgKRLbMKM2zB': 936.0,\n '3wJtEIrlcfRuq0fwHBFqSj': 937.0,\n '6787kZleiGPL8gvUX9qfIg': 938.0,\n '5SbA18s5wdWLY1ZPO1Dv5Z': 939.0,\n '2FnUnaCKtPla5BL1jfyfpZ': 940.0,\n '3Edq1eT7m7GX0PvHW7yEDF': 941.0,\n '0NHArXVgYnHIxtWGIS7xWS': 942.0,\n '0rSGxwbSl2cBOf3YYezMmb': 943.0,\n '5BaHqGtf6UAZnHfqdPaTDA': 944.0,\n '5I7keEBxkrLiWR1Hqsk9Wt': 945.0,\n '4SwArDElxm763B9ErBfLoO': 946.0,\n '5DnusKRGjUjgTGjTWfyDWn': 947.0,\n '4fDdr1gRqAzOSP8jVR6CEs': 948.0,\n '7JIvYIoSFTMVO2q7FoWO1e': 949.0,\n '7ooehj86xYi05XJoVNxJGO': 950.0,\n '5pYh9oJej3qawXA1Y8VtHr': 951.0,\n '4dYQmk5ma04mZ1KJ9KkAQK': 952.0,\n '6vIMSnFRkGcJNE776F2TEJ': 953.0,\n '3z5olfzk9o9PdvN1bH26XF': 954.0,\n '09brxn4Hkgy9ErBFnRU1EY': 955.0,\n '3py4xCfrW0MbgZEQXHp65q': 956.0,\n '6aH7CPoSjkRjRhHCEVNFwF': 957.0,\n '6w7fc6IZlo5zwBaKT5jU1X': 958.0,\n '5Wcc9ojw03wJUXhgkToSD6': 959.0,\n '1DB04hRRMsK7frWSjxQOxn': 960.0,\n '54EaJKdSMsssxvMDLRyk6b': 961.0,\n '1aS5tqEs9ci5P9KD9tZWa6': 962.0,\n '3QPASN58SWUH20AHKE6WHd': 963.0,\n '3nALc9PyUfe6CO3EY9bNhH': 964.0,\n '6GoEQbMMzjyTS5ZXJ5kkhZ': 965.0,\n '0dE49RYYaXh9TaM8JbtD6H': 966.0,\n '4G5XZKnrbIYhCE5bRAMu4w': 967.0,\n '1qaOwqJlzq0ne5vAI4B68d': 968.0,\n '2lRH2dgU5Kk4Bc5phmII4T': 969.0,\n '4raJlG4wnzkryIK0APjtbk': 970.0,\n '6LqNN22kT3074XbTVUrhzX': 971.0,\n '1XgVoPT2Va5L64LFzskVBW': 972.0,\n '3FZn8Z2B7mfaSOU8NE62KR': 973.0,\n '2HZ8qzKVTrbcmjvYspkstv': 974.0,\n '4qQ0W1Z8cxepU1IeaxDXPg': 975.0,\n '2RDOrhPqAM4jzTRCEb19qX': 976.0,\n '1fAfuhIzpl0ZSaCxJ62J60': 977.0,\n '4zboeZtcUwsTEhl2YDCLr4': 978.0,\n '07WyHFgWDspZlRwRTZ90AC': 979.0,\n '2ThbGm71ucj4BEv8NfAUqt': 980.0,\n '5XH7RieKeVpt2zcr1yOMaS': 981.0,\n '138mSGHcUbLMDDbNfDmVhH': 982.0,\n '1cKbeR3hJRlWFlAd3BJxGz': 983.0,\n '4h9SVKfdU0KBT69s2IKFnH': 984.0,\n '57ewWKv8u2MGl6hshUfVOy': 985.0,\n '0NyzfcGDZZ6GM25EBG9BYK': 986.0,\n '2XfWqzrBZCBtTvf71686zS': 987.0,\n '59GyfaB3VI1MgsGxuX4MMf': 988.0,\n '2CxtLXJMW2AbYPyQShuDT1': 989.0,\n '6bsEozzA1CHU0TIq2DXDxq': 990.0,\n '7nXRk5FkpFBhrHkjnnnEa7': 991.0,\n '76qhZXwfMnhJPXacLwGcNK': 992.0,\n '4fsh5BPGWt8oGFUwQ6msCk': 993.0,\n '1eYhYunlNJlDoQhtYBvPsi': 994.0,\n '6ns6XAOsw4B0nDUIovAOUO': 995.0,\n '59Upt6ayuSxH7N6nfvhJcP': 996.0,\n '694JcFe4dagEOsUDomhNMc': 997.0,\n '7cv3rK9lWbYMROVIfG7yO0': 998.0,\n '2eQZfngcruiYmmuk6K50Zo': 999.0,\n ...}"
     },
     "execution_count": 52,
     "metadata": {},
     "output_type": "execute_result"
    }
   ],
   "source": [
    "dict_map = {}\n",
    "\n",
    "for i, elt in enumerate(artist_set):\n",
    "    dict_map[elt] = numbers[i]\n",
    "\n",
    "dict_map"
   ],
   "metadata": {
    "collapsed": false,
    "pycharm": {
     "name": "#%%\n"
    },
    "ExecuteTime": {
     "end_time": "2024-07-26T23:07:28.408104700Z",
     "start_time": "2024-07-26T23:07:28.329104900Z"
    }
   },
   "id": "d86472cf9b9e3a"
  },
  {
   "cell_type": "code",
   "execution_count": 53,
   "outputs": [],
   "source": [
    "data[\"artist1_num\"] = data[\"artist1_id\"].map(dict_map)\n",
    "data[\"artist2_num\"] = data[\"artist2_id\"].map(dict_map)"
   ],
   "metadata": {
    "collapsed": false,
    "pycharm": {
     "name": "#%%\n"
    },
    "ExecuteTime": {
     "end_time": "2024-07-26T23:07:28.628103600Z",
     "start_time": "2024-07-26T23:07:28.338103400Z"
    }
   },
   "id": "ba3e9fcb2fb1422c"
  },
  {
   "cell_type": "code",
   "execution_count": 54,
   "outputs": [],
   "source": [
    "data.to_csv(\"data_basline_simple_feature_calc_split_included_different_k.csv\", index=False)"
   ],
   "metadata": {
    "collapsed": false,
    "pycharm": {
     "name": "#%%\n"
    },
    "ExecuteTime": {
     "end_time": "2024-07-26T23:07:35.820742200Z",
     "start_time": "2024-07-26T23:07:28.433104Z"
    }
   },
   "id": "2c64f5d11ecceeb4"
  }
 ],
 "metadata": {
  "kernelspec": {
   "display_name": "Python 3",
   "language": "python",
   "name": "python3"
  },
  "language_info": {
   "codemirror_mode": {
    "name": "ipython",
    "version": 2
   },
   "file_extension": ".py",
   "mimetype": "text/x-python",
   "name": "python",
   "nbconvert_exporter": "python",
   "pygments_lexer": "ipython2",
   "version": "2.7.6"
  }
 },
 "nbformat": 4,
 "nbformat_minor": 5
}
