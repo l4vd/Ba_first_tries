{
 "cells": [
  {
   "cell_type": "markdown",
   "source": [
    "# Preprocessing:\n",
    "\n",
    "## Artists:"
   ],
   "metadata": {
    "collapsed": false
   },
   "id": "4e8c02b376b9192b"
  },
  {
   "cell_type": "code",
   "execution_count": 1,
   "outputs": [
    {
     "data": {
      "text/plain": "                     name  betweenesscentrality  closnesscentrality  \\\n0            Arthur Brown               0.00000            0.000000   \n1      Nick Fradiani, Sr.               0.00000            1.000000   \n2           Charles Jones               0.00000            0.156365   \n3                    Woop               0.00000            0.177188   \n4               The Dells               0.00000            0.000000   \n...                   ...                   ...                 ...   \n11767          Tim Legend               0.00000            0.163067   \n11768          Dance Guru               0.00000            0.000000   \n11769       Maurice Ravel               0.00000            0.131806   \n11770     Chloe Angelides               0.00005            0.190928   \n11771           Trev Case               0.00000            0.600000   \n\n       clustering  degree  eccentricity  eigencentrality  weighted degree  \\\n0             0.0       0             0         1.000000                0   \n1             0.0       1             1         0.707107                2   \n2             0.0       1            13         0.000283                2   \n3             0.0       1            13         0.003618                2   \n4             0.0       0             0         1.000000                0   \n...           ...     ...           ...              ...              ...   \n11767         0.0       1            12         0.000044                2   \n11768         0.0       0             0         1.000000                0   \n11769         0.0       1            14         0.000003                6   \n11770         0.0       2            12         0.003690                6   \n11771         0.0       1             2         0.408248                2   \n\n                   Spotify ID  Cluster      profile  \n0      4Wyn0ejiSIAgFhCL6zbTRm        0  1A 2A 3A 4A  \n1      5u6A9XBnZxFzZ3BX6gCejo        2  1A 2B 3A 4A  \n2      2od8oCkJMIDQFOy4qkBl3m        1  1A 2A 3A 4A  \n3      61yEthfHLbDdUfvf4Jt1SJ        1  1A 2A 3A 4A  \n4      0wbrRIw2po5DV4LeaHw55S        0  1A 2A 3A 4A  \n...                       ...      ...          ...  \n11767  3pfQKkyELe3zxBQDgQP6Py        1  1A 2A 3A 4A  \n11768  1cSFUMJLz9kvhKfwdT4nWT        0  1A 2A 3A 4A  \n11769  17hR0sYHpx7VYTMRfFUOmY        1  1A 2A 3A 4A  \n11770  79A4RmgwxYGIDkqQDUHLXK        1  1A 2A 3A 4A  \n11771  3vyvetgHkFaehi7Ua4INH2        4  1A 2A 3A 4A  \n\n[11772 rows x 11 columns]",
      "text/html": "<div>\n<style scoped>\n    .dataframe tbody tr th:only-of-type {\n        vertical-align: middle;\n    }\n\n    .dataframe tbody tr th {\n        vertical-align: top;\n    }\n\n    .dataframe thead th {\n        text-align: right;\n    }\n</style>\n<table border=\"1\" class=\"dataframe\">\n  <thead>\n    <tr style=\"text-align: right;\">\n      <th></th>\n      <th>name</th>\n      <th>betweenesscentrality</th>\n      <th>closnesscentrality</th>\n      <th>clustering</th>\n      <th>degree</th>\n      <th>eccentricity</th>\n      <th>eigencentrality</th>\n      <th>weighted degree</th>\n      <th>Spotify ID</th>\n      <th>Cluster</th>\n      <th>profile</th>\n    </tr>\n  </thead>\n  <tbody>\n    <tr>\n      <th>0</th>\n      <td>Arthur Brown</td>\n      <td>0.00000</td>\n      <td>0.000000</td>\n      <td>0.0</td>\n      <td>0</td>\n      <td>0</td>\n      <td>1.000000</td>\n      <td>0</td>\n      <td>4Wyn0ejiSIAgFhCL6zbTRm</td>\n      <td>0</td>\n      <td>1A 2A 3A 4A</td>\n    </tr>\n    <tr>\n      <th>1</th>\n      <td>Nick Fradiani, Sr.</td>\n      <td>0.00000</td>\n      <td>1.000000</td>\n      <td>0.0</td>\n      <td>1</td>\n      <td>1</td>\n      <td>0.707107</td>\n      <td>2</td>\n      <td>5u6A9XBnZxFzZ3BX6gCejo</td>\n      <td>2</td>\n      <td>1A 2B 3A 4A</td>\n    </tr>\n    <tr>\n      <th>2</th>\n      <td>Charles Jones</td>\n      <td>0.00000</td>\n      <td>0.156365</td>\n      <td>0.0</td>\n      <td>1</td>\n      <td>13</td>\n      <td>0.000283</td>\n      <td>2</td>\n      <td>2od8oCkJMIDQFOy4qkBl3m</td>\n      <td>1</td>\n      <td>1A 2A 3A 4A</td>\n    </tr>\n    <tr>\n      <th>3</th>\n      <td>Woop</td>\n      <td>0.00000</td>\n      <td>0.177188</td>\n      <td>0.0</td>\n      <td>1</td>\n      <td>13</td>\n      <td>0.003618</td>\n      <td>2</td>\n      <td>61yEthfHLbDdUfvf4Jt1SJ</td>\n      <td>1</td>\n      <td>1A 2A 3A 4A</td>\n    </tr>\n    <tr>\n      <th>4</th>\n      <td>The Dells</td>\n      <td>0.00000</td>\n      <td>0.000000</td>\n      <td>0.0</td>\n      <td>0</td>\n      <td>0</td>\n      <td>1.000000</td>\n      <td>0</td>\n      <td>0wbrRIw2po5DV4LeaHw55S</td>\n      <td>0</td>\n      <td>1A 2A 3A 4A</td>\n    </tr>\n    <tr>\n      <th>...</th>\n      <td>...</td>\n      <td>...</td>\n      <td>...</td>\n      <td>...</td>\n      <td>...</td>\n      <td>...</td>\n      <td>...</td>\n      <td>...</td>\n      <td>...</td>\n      <td>...</td>\n      <td>...</td>\n    </tr>\n    <tr>\n      <th>11767</th>\n      <td>Tim Legend</td>\n      <td>0.00000</td>\n      <td>0.163067</td>\n      <td>0.0</td>\n      <td>1</td>\n      <td>12</td>\n      <td>0.000044</td>\n      <td>2</td>\n      <td>3pfQKkyELe3zxBQDgQP6Py</td>\n      <td>1</td>\n      <td>1A 2A 3A 4A</td>\n    </tr>\n    <tr>\n      <th>11768</th>\n      <td>Dance Guru</td>\n      <td>0.00000</td>\n      <td>0.000000</td>\n      <td>0.0</td>\n      <td>0</td>\n      <td>0</td>\n      <td>1.000000</td>\n      <td>0</td>\n      <td>1cSFUMJLz9kvhKfwdT4nWT</td>\n      <td>0</td>\n      <td>1A 2A 3A 4A</td>\n    </tr>\n    <tr>\n      <th>11769</th>\n      <td>Maurice Ravel</td>\n      <td>0.00000</td>\n      <td>0.131806</td>\n      <td>0.0</td>\n      <td>1</td>\n      <td>14</td>\n      <td>0.000003</td>\n      <td>6</td>\n      <td>17hR0sYHpx7VYTMRfFUOmY</td>\n      <td>1</td>\n      <td>1A 2A 3A 4A</td>\n    </tr>\n    <tr>\n      <th>11770</th>\n      <td>Chloe Angelides</td>\n      <td>0.00005</td>\n      <td>0.190928</td>\n      <td>0.0</td>\n      <td>2</td>\n      <td>12</td>\n      <td>0.003690</td>\n      <td>6</td>\n      <td>79A4RmgwxYGIDkqQDUHLXK</td>\n      <td>1</td>\n      <td>1A 2A 3A 4A</td>\n    </tr>\n    <tr>\n      <th>11771</th>\n      <td>Trev Case</td>\n      <td>0.00000</td>\n      <td>0.600000</td>\n      <td>0.0</td>\n      <td>1</td>\n      <td>2</td>\n      <td>0.408248</td>\n      <td>2</td>\n      <td>3vyvetgHkFaehi7Ua4INH2</td>\n      <td>4</td>\n      <td>1A 2A 3A 4A</td>\n    </tr>\n  </tbody>\n</table>\n<p>11772 rows × 11 columns</p>\n</div>"
     },
     "execution_count": 1,
     "metadata": {},
     "output_type": "execute_result"
    }
   ],
   "source": [
    "import pandas as pd\n",
    "\n",
    "df_artists_train = pd.read_csv(\"../../MusicOSet/network_clustered/nodes_train.csv\", sep=\",\")\n",
    "df_artists_train.drop(columns=[\"harmonicclosnesscentrality\"], inplace=True)\n",
    "df_artists_train"
   ],
   "metadata": {
    "collapsed": false,
    "ExecuteTime": {
     "end_time": "2024-05-06T15:33:09.490387900Z",
     "start_time": "2024-05-06T15:33:09.442386100Z"
    }
   },
   "id": "d94f65e888c706df"
  },
  {
   "cell_type": "code",
   "execution_count": 2,
   "outputs": [
    {
     "data": {
      "text/plain": "                        name  betweenesscentrality  closnesscentrality  \\\n0                Zhavia Ward              0.000000            0.141240   \n1                    Lil Jon              0.003940            0.162659   \n2                Toni Macles              0.000000            1.000000   \n3                 Moon Boots              0.000000            0.666667   \n4                Classics IV              0.000000            1.000000   \n...                      ...                   ...                 ...   \n5897             Third World              0.001314            0.115830   \n5898           Cesar Menotti              0.000000            0.555556   \n5899           Bobby Freeman              0.000000            0.000000   \n5900  Santa's Little Singers              0.000000            0.000000   \n5901               Trev Case              0.000000            0.264706   \n\n      clustering  degree  eccentricity  eigencentrality  weighted degree  \\\n0            0.0       1            15         0.001548                2   \n1            0.0       4            14         0.018347               12   \n2            0.0       1             1         0.707107                2   \n3            0.0       1             2         0.500000                2   \n4            0.0       1             1         0.707107               28   \n...          ...     ...           ...              ...              ...   \n5897         0.0       2            16         0.000022                4   \n5898         0.0       1             2         0.316228                2   \n5899         0.0       0             0         1.000000                0   \n5900         0.0       0             0         1.000000                0   \n5901         0.0       1             7         0.072783                2   \n\n                  Spotify ID  Cluster      profile  \n0     1CO6e7WRJvSFenmQO8n64C        0  1A 2A 3A 4A  \n1     7sfl4Xt5KmfyDs2T3SVSMK        0  1A 2A 3A 4A  \n2     0Ra0me60CI5b5HYCIbrLEU        4  1A 2B 3A 4A  \n3     3cIXmCH7iNcslTbwrwS7zy        2  1A 2A 3A 4A  \n4     6XGJvNG372fPJ2TV2OoN0Z        4  1A 2B 3A 4A  \n...                      ...      ...          ...  \n5897  6qfKnsgz1CwyqA7lTdieRJ        0  1A 2A 3A 4A  \n5898  2odOwGoyC7xZryqA1PMo3j        2  1A 2A 3A 4A  \n5899  5oMWW19j0AXl7Sy4Xn9rmg        1  1A 2A 3A 4A  \n5900  2Kl1vWueJ9fZ5HsLluiMxh        1  1A 2A 3A 4A  \n5901  3vyvetgHkFaehi7Ua4INH2        5  1A 2A 3A 4A  \n\n[5902 rows x 11 columns]",
      "text/html": "<div>\n<style scoped>\n    .dataframe tbody tr th:only-of-type {\n        vertical-align: middle;\n    }\n\n    .dataframe tbody tr th {\n        vertical-align: top;\n    }\n\n    .dataframe thead th {\n        text-align: right;\n    }\n</style>\n<table border=\"1\" class=\"dataframe\">\n  <thead>\n    <tr style=\"text-align: right;\">\n      <th></th>\n      <th>name</th>\n      <th>betweenesscentrality</th>\n      <th>closnesscentrality</th>\n      <th>clustering</th>\n      <th>degree</th>\n      <th>eccentricity</th>\n      <th>eigencentrality</th>\n      <th>weighted degree</th>\n      <th>Spotify ID</th>\n      <th>Cluster</th>\n      <th>profile</th>\n    </tr>\n  </thead>\n  <tbody>\n    <tr>\n      <th>0</th>\n      <td>Zhavia Ward</td>\n      <td>0.000000</td>\n      <td>0.141240</td>\n      <td>0.0</td>\n      <td>1</td>\n      <td>15</td>\n      <td>0.001548</td>\n      <td>2</td>\n      <td>1CO6e7WRJvSFenmQO8n64C</td>\n      <td>0</td>\n      <td>1A 2A 3A 4A</td>\n    </tr>\n    <tr>\n      <th>1</th>\n      <td>Lil Jon</td>\n      <td>0.003940</td>\n      <td>0.162659</td>\n      <td>0.0</td>\n      <td>4</td>\n      <td>14</td>\n      <td>0.018347</td>\n      <td>12</td>\n      <td>7sfl4Xt5KmfyDs2T3SVSMK</td>\n      <td>0</td>\n      <td>1A 2A 3A 4A</td>\n    </tr>\n    <tr>\n      <th>2</th>\n      <td>Toni Macles</td>\n      <td>0.000000</td>\n      <td>1.000000</td>\n      <td>0.0</td>\n      <td>1</td>\n      <td>1</td>\n      <td>0.707107</td>\n      <td>2</td>\n      <td>0Ra0me60CI5b5HYCIbrLEU</td>\n      <td>4</td>\n      <td>1A 2B 3A 4A</td>\n    </tr>\n    <tr>\n      <th>3</th>\n      <td>Moon Boots</td>\n      <td>0.000000</td>\n      <td>0.666667</td>\n      <td>0.0</td>\n      <td>1</td>\n      <td>2</td>\n      <td>0.500000</td>\n      <td>2</td>\n      <td>3cIXmCH7iNcslTbwrwS7zy</td>\n      <td>2</td>\n      <td>1A 2A 3A 4A</td>\n    </tr>\n    <tr>\n      <th>4</th>\n      <td>Classics IV</td>\n      <td>0.000000</td>\n      <td>1.000000</td>\n      <td>0.0</td>\n      <td>1</td>\n      <td>1</td>\n      <td>0.707107</td>\n      <td>28</td>\n      <td>6XGJvNG372fPJ2TV2OoN0Z</td>\n      <td>4</td>\n      <td>1A 2B 3A 4A</td>\n    </tr>\n    <tr>\n      <th>...</th>\n      <td>...</td>\n      <td>...</td>\n      <td>...</td>\n      <td>...</td>\n      <td>...</td>\n      <td>...</td>\n      <td>...</td>\n      <td>...</td>\n      <td>...</td>\n      <td>...</td>\n      <td>...</td>\n    </tr>\n    <tr>\n      <th>5897</th>\n      <td>Third World</td>\n      <td>0.001314</td>\n      <td>0.115830</td>\n      <td>0.0</td>\n      <td>2</td>\n      <td>16</td>\n      <td>0.000022</td>\n      <td>4</td>\n      <td>6qfKnsgz1CwyqA7lTdieRJ</td>\n      <td>0</td>\n      <td>1A 2A 3A 4A</td>\n    </tr>\n    <tr>\n      <th>5898</th>\n      <td>Cesar Menotti</td>\n      <td>0.000000</td>\n      <td>0.555556</td>\n      <td>0.0</td>\n      <td>1</td>\n      <td>2</td>\n      <td>0.316228</td>\n      <td>2</td>\n      <td>2odOwGoyC7xZryqA1PMo3j</td>\n      <td>2</td>\n      <td>1A 2A 3A 4A</td>\n    </tr>\n    <tr>\n      <th>5899</th>\n      <td>Bobby Freeman</td>\n      <td>0.000000</td>\n      <td>0.000000</td>\n      <td>0.0</td>\n      <td>0</td>\n      <td>0</td>\n      <td>1.000000</td>\n      <td>0</td>\n      <td>5oMWW19j0AXl7Sy4Xn9rmg</td>\n      <td>1</td>\n      <td>1A 2A 3A 4A</td>\n    </tr>\n    <tr>\n      <th>5900</th>\n      <td>Santa's Little Singers</td>\n      <td>0.000000</td>\n      <td>0.000000</td>\n      <td>0.0</td>\n      <td>0</td>\n      <td>0</td>\n      <td>1.000000</td>\n      <td>0</td>\n      <td>2Kl1vWueJ9fZ5HsLluiMxh</td>\n      <td>1</td>\n      <td>1A 2A 3A 4A</td>\n    </tr>\n    <tr>\n      <th>5901</th>\n      <td>Trev Case</td>\n      <td>0.000000</td>\n      <td>0.264706</td>\n      <td>0.0</td>\n      <td>1</td>\n      <td>7</td>\n      <td>0.072783</td>\n      <td>2</td>\n      <td>3vyvetgHkFaehi7Ua4INH2</td>\n      <td>5</td>\n      <td>1A 2A 3A 4A</td>\n    </tr>\n  </tbody>\n</table>\n<p>5902 rows × 11 columns</p>\n</div>"
     },
     "execution_count": 2,
     "metadata": {},
     "output_type": "execute_result"
    }
   ],
   "source": [
    "import pandas as pd\n",
    "\n",
    "df_artists_test = pd.read_csv(\"../../MusicOSet/network_clustered/nodes_test.csv\", sep=\",\")\n",
    "df_artists_test.drop(columns=[\"harmonicclosnesscentrality\"], inplace=True)\n",
    "df_artists_test"
   ],
   "metadata": {
    "collapsed": false,
    "ExecuteTime": {
     "end_time": "2024-05-06T15:33:09.532541300Z",
     "start_time": "2024-05-06T15:33:09.489387400Z"
    }
   },
   "id": "fcd582b30cbfaa79"
  },
  {
   "cell_type": "markdown",
   "source": [
    "## Songs:"
   ],
   "metadata": {
    "collapsed": false
   },
   "id": "2d0bd0c15e29ca2f"
  },
  {
   "cell_type": "code",
   "execution_count": 3,
   "outputs": [
    {
     "data": {
      "text/plain": "                      song_id  \\\n0      3e9HZxeyfWwjeyPAMmWSSQ   \n1      5p7ujcrUXASCNwRaWNHR1C   \n2      2xLMifQCjDGFmkHkpNLD9h   \n3      3KkXRkHbMCARz0aVfEt68P   \n4      1rqqCSm0Qe4I9rUvWncaom   \n...                       ...   \n11954  5mz9pQZZXNpAw9CdQ7Bk8q   \n11955  2H9CKpZiLDF223BbwehpDF   \n11956  7zqM7Wm2xJLZ50qAnTLoHD   \n11957  4DPlKVZ6R1EHLfnIsy9ouh   \n11958  6RUa3ZwZYnJnNgZxtIYJR9   \n\n                                               song_name  \\\n0                                          thank u, next   \n1                                             Without Me   \n2                                             SICKO MODE   \n3          Sunflower - Spider-Man: Into the Spider-Verse   \n4                                             High Hopes   \n...                                                  ...   \n11954                Don't Pity Me - Mono; 2003 Remaster   \n11955                        Hush Hush; Hush Hush - Main   \n11956                              Lions, Tigers & Bears   \n11957                                         The Weight   \n11958  Purest of Pain (A Puro Dolor) - Martinee's Rad...   \n\n                                              id_artists  \\\n0                             ['66CXWjxzNUsdJxJ2JdwvnR']   \n1                             ['26VFTg2z8YR0cCuwLzESi2']   \n2                             ['0Y5tJX1MQlPlqiwlOH1tJY']   \n3      ['246dkjvS1zLTtiykXe5h60', '1zNqQNIdeOUZHb8zbZ...   \n4                             ['20JZFwl6HVl6yg8a4H3ZqK']   \n...                                                  ...   \n11954                         ['6lHC2EQMEMZiEmSfFloarn']   \n11955                         ['6wPhSqRtPu1UhRCDX5yaDJ']   \n11956                         ['7gSjFKpVmDgC2MMsnN8CYq']   \n11957  ['0rXI0q8Cahq6numvPlloaq', '3RwQ26hR2tJtA8F9p2...   \n11958  ['1qyAl8T6GTcaOViaI7fs1j', '7AOI1S3Uy411dDhNTd...   \n\n                                           name_artists  popularity  explicit  \\\n0                                     ['Ariana Grande']          87      True   \n1                                            ['Halsey']          87      True   \n2                                      ['Travis Scott']          86      True   \n3                           ['Post Malone', 'Swae Lee']          92     False   \n4                               ['Panic! At The Disco']          86     False   \n...                                                 ...         ...       ...   \n11954                              ['Peter And Gordon']           8     False   \n11955                            ['The Pussycat Dolls']          57     False   \n11956                              ['Jazmine Sullivan']          49     False   \n11957  ['Diana Ross & The Supremes', 'The Temptations']           2     False   \n11958                 ['Son By Four', 'Lewis Martinee']          10     False   \n\n           song_type  track_number  num_artists  num_available_markets  ...  \\\n0               Solo            11            1                     79  ...   \n1               Solo             1            1                     79  ...   \n2               Solo             3            1                     79  ...   \n3      Collaboration             2            2                     79  ...   \n4               Solo             4            1                     78  ...   \n...              ...           ...          ...                    ...  ...   \n11954           Solo             1            1                     78  ...   \n11955           Solo             1            1                     59  ...   \n11956           Solo             4            1                     71  ...   \n11957  Collaboration            23            2                     79  ...   \n11958  Collaboration             1            2                     79  ...   \n\n      acousticness  danceability  energy  instrumentalness  liveness  \\\n0          0.22900         0.717   0.653          0.000000    0.1010   \n1          0.29700         0.752   0.488          0.000009    0.0936   \n2          0.00513         0.834   0.730          0.000000    0.1240   \n3          0.55600         0.760   0.479          0.000000    0.0703   \n4          0.19300         0.579   0.904          0.000000    0.0640   \n...            ...           ...     ...               ...       ...   \n11954      0.61900         0.500   0.654          0.000000    0.3320   \n11955      0.10500         0.609   0.790          0.000000    0.3140   \n11956      0.07880         0.576   0.515          0.000000    0.1180   \n11957      0.37000         0.566   0.607          0.000000    0.6710   \n11958      0.45000         0.593   0.939          0.000013    0.1090   \n\n       loudness  speechiness  valence    tempo  hit  \n0        -5.634       0.0658    0.412  106.966    1  \n1        -7.050       0.0705    0.533  136.041    1  \n2        -3.714       0.2220    0.446  155.008    1  \n3        -5.574       0.0466    0.913   89.911    1  \n4        -2.729       0.0618    0.681   82.014    1  \n...         ...          ...      ...      ...  ...  \n11954    -8.633       0.0394    0.403  107.326    1  \n11955    -3.787       0.0663    0.664  129.334    1  \n11956    -6.178       0.0295    0.407   95.406    1  \n11957    -7.532       0.0357    0.765   91.378    1  \n11958    -3.431       0.0616    0.743  134.108    1  \n\n[11959 rows x 25 columns]",
      "text/html": "<div>\n<style scoped>\n    .dataframe tbody tr th:only-of-type {\n        vertical-align: middle;\n    }\n\n    .dataframe tbody tr th {\n        vertical-align: top;\n    }\n\n    .dataframe thead th {\n        text-align: right;\n    }\n</style>\n<table border=\"1\" class=\"dataframe\">\n  <thead>\n    <tr style=\"text-align: right;\">\n      <th></th>\n      <th>song_id</th>\n      <th>song_name</th>\n      <th>id_artists</th>\n      <th>name_artists</th>\n      <th>popularity</th>\n      <th>explicit</th>\n      <th>song_type</th>\n      <th>track_number</th>\n      <th>num_artists</th>\n      <th>num_available_markets</th>\n      <th>...</th>\n      <th>acousticness</th>\n      <th>danceability</th>\n      <th>energy</th>\n      <th>instrumentalness</th>\n      <th>liveness</th>\n      <th>loudness</th>\n      <th>speechiness</th>\n      <th>valence</th>\n      <th>tempo</th>\n      <th>hit</th>\n    </tr>\n  </thead>\n  <tbody>\n    <tr>\n      <th>0</th>\n      <td>3e9HZxeyfWwjeyPAMmWSSQ</td>\n      <td>thank u, next</td>\n      <td>['66CXWjxzNUsdJxJ2JdwvnR']</td>\n      <td>['Ariana Grande']</td>\n      <td>87</td>\n      <td>True</td>\n      <td>Solo</td>\n      <td>11</td>\n      <td>1</td>\n      <td>79</td>\n      <td>...</td>\n      <td>0.22900</td>\n      <td>0.717</td>\n      <td>0.653</td>\n      <td>0.000000</td>\n      <td>0.1010</td>\n      <td>-5.634</td>\n      <td>0.0658</td>\n      <td>0.412</td>\n      <td>106.966</td>\n      <td>1</td>\n    </tr>\n    <tr>\n      <th>1</th>\n      <td>5p7ujcrUXASCNwRaWNHR1C</td>\n      <td>Without Me</td>\n      <td>['26VFTg2z8YR0cCuwLzESi2']</td>\n      <td>['Halsey']</td>\n      <td>87</td>\n      <td>True</td>\n      <td>Solo</td>\n      <td>1</td>\n      <td>1</td>\n      <td>79</td>\n      <td>...</td>\n      <td>0.29700</td>\n      <td>0.752</td>\n      <td>0.488</td>\n      <td>0.000009</td>\n      <td>0.0936</td>\n      <td>-7.050</td>\n      <td>0.0705</td>\n      <td>0.533</td>\n      <td>136.041</td>\n      <td>1</td>\n    </tr>\n    <tr>\n      <th>2</th>\n      <td>2xLMifQCjDGFmkHkpNLD9h</td>\n      <td>SICKO MODE</td>\n      <td>['0Y5tJX1MQlPlqiwlOH1tJY']</td>\n      <td>['Travis Scott']</td>\n      <td>86</td>\n      <td>True</td>\n      <td>Solo</td>\n      <td>3</td>\n      <td>1</td>\n      <td>79</td>\n      <td>...</td>\n      <td>0.00513</td>\n      <td>0.834</td>\n      <td>0.730</td>\n      <td>0.000000</td>\n      <td>0.1240</td>\n      <td>-3.714</td>\n      <td>0.2220</td>\n      <td>0.446</td>\n      <td>155.008</td>\n      <td>1</td>\n    </tr>\n    <tr>\n      <th>3</th>\n      <td>3KkXRkHbMCARz0aVfEt68P</td>\n      <td>Sunflower - Spider-Man: Into the Spider-Verse</td>\n      <td>['246dkjvS1zLTtiykXe5h60', '1zNqQNIdeOUZHb8zbZ...</td>\n      <td>['Post Malone', 'Swae Lee']</td>\n      <td>92</td>\n      <td>False</td>\n      <td>Collaboration</td>\n      <td>2</td>\n      <td>2</td>\n      <td>79</td>\n      <td>...</td>\n      <td>0.55600</td>\n      <td>0.760</td>\n      <td>0.479</td>\n      <td>0.000000</td>\n      <td>0.0703</td>\n      <td>-5.574</td>\n      <td>0.0466</td>\n      <td>0.913</td>\n      <td>89.911</td>\n      <td>1</td>\n    </tr>\n    <tr>\n      <th>4</th>\n      <td>1rqqCSm0Qe4I9rUvWncaom</td>\n      <td>High Hopes</td>\n      <td>['20JZFwl6HVl6yg8a4H3ZqK']</td>\n      <td>['Panic! At The Disco']</td>\n      <td>86</td>\n      <td>False</td>\n      <td>Solo</td>\n      <td>4</td>\n      <td>1</td>\n      <td>78</td>\n      <td>...</td>\n      <td>0.19300</td>\n      <td>0.579</td>\n      <td>0.904</td>\n      <td>0.000000</td>\n      <td>0.0640</td>\n      <td>-2.729</td>\n      <td>0.0618</td>\n      <td>0.681</td>\n      <td>82.014</td>\n      <td>1</td>\n    </tr>\n    <tr>\n      <th>...</th>\n      <td>...</td>\n      <td>...</td>\n      <td>...</td>\n      <td>...</td>\n      <td>...</td>\n      <td>...</td>\n      <td>...</td>\n      <td>...</td>\n      <td>...</td>\n      <td>...</td>\n      <td>...</td>\n      <td>...</td>\n      <td>...</td>\n      <td>...</td>\n      <td>...</td>\n      <td>...</td>\n      <td>...</td>\n      <td>...</td>\n      <td>...</td>\n      <td>...</td>\n      <td>...</td>\n    </tr>\n    <tr>\n      <th>11954</th>\n      <td>5mz9pQZZXNpAw9CdQ7Bk8q</td>\n      <td>Don't Pity Me - Mono; 2003 Remaster</td>\n      <td>['6lHC2EQMEMZiEmSfFloarn']</td>\n      <td>['Peter And Gordon']</td>\n      <td>8</td>\n      <td>False</td>\n      <td>Solo</td>\n      <td>1</td>\n      <td>1</td>\n      <td>78</td>\n      <td>...</td>\n      <td>0.61900</td>\n      <td>0.500</td>\n      <td>0.654</td>\n      <td>0.000000</td>\n      <td>0.3320</td>\n      <td>-8.633</td>\n      <td>0.0394</td>\n      <td>0.403</td>\n      <td>107.326</td>\n      <td>1</td>\n    </tr>\n    <tr>\n      <th>11955</th>\n      <td>2H9CKpZiLDF223BbwehpDF</td>\n      <td>Hush Hush; Hush Hush - Main</td>\n      <td>['6wPhSqRtPu1UhRCDX5yaDJ']</td>\n      <td>['The Pussycat Dolls']</td>\n      <td>57</td>\n      <td>False</td>\n      <td>Solo</td>\n      <td>1</td>\n      <td>1</td>\n      <td>59</td>\n      <td>...</td>\n      <td>0.10500</td>\n      <td>0.609</td>\n      <td>0.790</td>\n      <td>0.000000</td>\n      <td>0.3140</td>\n      <td>-3.787</td>\n      <td>0.0663</td>\n      <td>0.664</td>\n      <td>129.334</td>\n      <td>1</td>\n    </tr>\n    <tr>\n      <th>11956</th>\n      <td>7zqM7Wm2xJLZ50qAnTLoHD</td>\n      <td>Lions, Tigers &amp; Bears</td>\n      <td>['7gSjFKpVmDgC2MMsnN8CYq']</td>\n      <td>['Jazmine Sullivan']</td>\n      <td>49</td>\n      <td>False</td>\n      <td>Solo</td>\n      <td>4</td>\n      <td>1</td>\n      <td>71</td>\n      <td>...</td>\n      <td>0.07880</td>\n      <td>0.576</td>\n      <td>0.515</td>\n      <td>0.000000</td>\n      <td>0.1180</td>\n      <td>-6.178</td>\n      <td>0.0295</td>\n      <td>0.407</td>\n      <td>95.406</td>\n      <td>1</td>\n    </tr>\n    <tr>\n      <th>11957</th>\n      <td>4DPlKVZ6R1EHLfnIsy9ouh</td>\n      <td>The Weight</td>\n      <td>['0rXI0q8Cahq6numvPlloaq', '3RwQ26hR2tJtA8F9p2...</td>\n      <td>['Diana Ross &amp; The Supremes', 'The Temptations']</td>\n      <td>2</td>\n      <td>False</td>\n      <td>Collaboration</td>\n      <td>23</td>\n      <td>2</td>\n      <td>79</td>\n      <td>...</td>\n      <td>0.37000</td>\n      <td>0.566</td>\n      <td>0.607</td>\n      <td>0.000000</td>\n      <td>0.6710</td>\n      <td>-7.532</td>\n      <td>0.0357</td>\n      <td>0.765</td>\n      <td>91.378</td>\n      <td>1</td>\n    </tr>\n    <tr>\n      <th>11958</th>\n      <td>6RUa3ZwZYnJnNgZxtIYJR9</td>\n      <td>Purest of Pain (A Puro Dolor) - Martinee's Rad...</td>\n      <td>['1qyAl8T6GTcaOViaI7fs1j', '7AOI1S3Uy411dDhNTd...</td>\n      <td>['Son By Four', 'Lewis Martinee']</td>\n      <td>10</td>\n      <td>False</td>\n      <td>Collaboration</td>\n      <td>1</td>\n      <td>2</td>\n      <td>79</td>\n      <td>...</td>\n      <td>0.45000</td>\n      <td>0.593</td>\n      <td>0.939</td>\n      <td>0.000013</td>\n      <td>0.1090</td>\n      <td>-3.431</td>\n      <td>0.0616</td>\n      <td>0.743</td>\n      <td>134.108</td>\n      <td>1</td>\n    </tr>\n  </tbody>\n</table>\n<p>11959 rows × 25 columns</p>\n</div>"
     },
     "execution_count": 3,
     "metadata": {},
     "output_type": "execute_result"
    }
   ],
   "source": [
    "df_hits = pd.read_csv(\"../../MusicOSet/additional/hits_dataset.csv\", delimiter=\"\\t\")\n",
    "df_hits[\"hit\"] = 1\n",
    "df_hits"
   ],
   "metadata": {
    "collapsed": false,
    "ExecuteTime": {
     "end_time": "2024-05-06T15:33:09.634540700Z",
     "start_time": "2024-05-06T15:33:09.520541400Z"
    }
   },
   "id": "9b95507e74b0f645"
  },
  {
   "cell_type": "code",
   "execution_count": 4,
   "outputs": [
    {
     "data": {
      "text/plain": "                       song_id  \\\n0       1TEL6MlSSVLSdhOSddidlJ   \n1       4uTvPEr01pjTbZgl7jcKBD   \n2       2hloaUoRonYssMuqLCBLTX   \n3       3wFLWP0FcIqHK1wb1CPthQ   \n4       5Il6Oe7lr5XM7A0cWbVQtr   \n...                        ...   \n899063  2tP0ryZParpdjvxubgXhTN   \n899064  7Ltni80U0w7bmYjXPNzSEa   \n899065  1gQClXN1Dq4rj0wBzddcNA   \n899066  2jhxQrFNdVPkWL28X7ZpeK   \n899067  6KkbkpUObAqcKGEfvguHJO   \n\n                                               song_name  \\\n0                                                  needy   \n1                                                   NASA   \n2                                              bloodline   \n3                                             fake smile   \n4                                               bad idea   \n...                                                  ...   \n899063                              Love Is Here to Stay   \n899064                                 Heinlein's Planet   \n899065     Beds are Burning - Karaoke Lead Vocal Version   \n899066  Un homme heureux - Version karaoké instrumentale   \n899067                     Santa Claus Is Coming to Town   \n\n                                               id_artists  \\\n0                              ['66CXWjxzNUsdJxJ2JdwvnR']   \n1                              ['66CXWjxzNUsdJxJ2JdwvnR']   \n2                              ['66CXWjxzNUsdJxJ2JdwvnR']   \n3                              ['66CXWjxzNUsdJxJ2JdwvnR']   \n4                              ['66CXWjxzNUsdJxJ2JdwvnR']   \n...                                                   ...   \n899063  ['3Dzj993UEz8Z5ovxuirzFO', '6RCsx4p5smZHYz2P5H...   \n899064                         ['4urvwbid7NFoVes5PTx9lV']   \n899065                         ['7yv4DJOCmilSbxxsdQgXWk']   \n899066                         ['7yv4DJOCmilSbxxsdQgXWk']   \n899067                         ['7tdO7d7r0vhwov7RIZWH6V']   \n\n                                     name_artists  popularity  explicit  \\\n0                               ['Ariana Grande']          76      True   \n1                               ['Ariana Grande']          76     False   \n2                               ['Ariana Grande']          74      True   \n3                               ['Ariana Grande']          73      True   \n4                               ['Ariana Grande']          74     False   \n...                                           ...         ...       ...   \n899063  ['Lindsey Buckingham', 'Christine McVie']          16     False   \n899064                             ['Tony Carey']           0     False   \n899065                             ['Pictomusic']           0     False   \n899066                             ['Pictomusic']           0     False   \n899067                            ['Mitch Ryder']           0     False   \n\n            song_type  track_number  num_artists  num_available_markets  ...  \\\n0                Solo             2            1                     79  ...   \n1                Solo             3            1                     79  ...   \n2                Solo             4            1                     79  ...   \n3                Solo             5            1                     79  ...   \n4                Solo             6            1                     79  ...   \n...               ...           ...          ...                    ...  ...   \n899063  Collaboration             5            2                      1  ...   \n899064           Solo             5            1                     79  ...   \n899065           Solo             2            1                     79  ...   \n899066           Solo             1            1                     79  ...   \n899067           Solo             3            1                     79  ...   \n\n       acousticness  danceability  energy  instrumentalness  liveness  \\\n0            0.7800         0.647   0.309          0.000007    0.2020   \n1            0.4510         0.747   0.458          0.000000    0.2520   \n2            0.0815         0.758   0.665          0.000157    0.2160   \n3            0.3290         0.450   0.619          0.000000    0.3190   \n4            0.0268         0.847   0.579          0.054500    0.1020   \n...             ...           ...     ...               ...       ...   \n899063       0.3660         0.446   0.658          0.000025    0.7510   \n899064       0.4810         0.305   0.456          0.933000    0.1110   \n899065       0.0118         0.852   0.648          0.000000    0.0503   \n899066       0.9730         0.664   0.353          0.787000    0.0878   \n899067       0.3860         0.651   0.896          0.001630    0.0734   \n\n        loudness  speechiness  valence    tempo  hit  \n0         -7.948       0.0366    0.195   87.045    0  \n1         -6.891       0.3030    0.470   75.029    0  \n2         -5.188       0.0774    0.643  151.976    0  \n3         -7.412       0.3720    0.427   83.300    0  \n4         -5.314       0.0719    0.569  137.998    0  \n...          ...          ...      ...      ...  ...  \n899063    -8.362       0.0297    0.554   84.740    0  \n899064   -20.199       0.0634    0.171   96.996    0  \n899065    -7.189       0.0480    0.559  120.150    0  \n899066   -12.303       0.0693    0.284  116.450    0  \n899067    -6.004       0.0327    0.893  148.107    0  \n\n[899068 rows x 25 columns]",
      "text/html": "<div>\n<style scoped>\n    .dataframe tbody tr th:only-of-type {\n        vertical-align: middle;\n    }\n\n    .dataframe tbody tr th {\n        vertical-align: top;\n    }\n\n    .dataframe thead th {\n        text-align: right;\n    }\n</style>\n<table border=\"1\" class=\"dataframe\">\n  <thead>\n    <tr style=\"text-align: right;\">\n      <th></th>\n      <th>song_id</th>\n      <th>song_name</th>\n      <th>id_artists</th>\n      <th>name_artists</th>\n      <th>popularity</th>\n      <th>explicit</th>\n      <th>song_type</th>\n      <th>track_number</th>\n      <th>num_artists</th>\n      <th>num_available_markets</th>\n      <th>...</th>\n      <th>acousticness</th>\n      <th>danceability</th>\n      <th>energy</th>\n      <th>instrumentalness</th>\n      <th>liveness</th>\n      <th>loudness</th>\n      <th>speechiness</th>\n      <th>valence</th>\n      <th>tempo</th>\n      <th>hit</th>\n    </tr>\n  </thead>\n  <tbody>\n    <tr>\n      <th>0</th>\n      <td>1TEL6MlSSVLSdhOSddidlJ</td>\n      <td>needy</td>\n      <td>['66CXWjxzNUsdJxJ2JdwvnR']</td>\n      <td>['Ariana Grande']</td>\n      <td>76</td>\n      <td>True</td>\n      <td>Solo</td>\n      <td>2</td>\n      <td>1</td>\n      <td>79</td>\n      <td>...</td>\n      <td>0.7800</td>\n      <td>0.647</td>\n      <td>0.309</td>\n      <td>0.000007</td>\n      <td>0.2020</td>\n      <td>-7.948</td>\n      <td>0.0366</td>\n      <td>0.195</td>\n      <td>87.045</td>\n      <td>0</td>\n    </tr>\n    <tr>\n      <th>1</th>\n      <td>4uTvPEr01pjTbZgl7jcKBD</td>\n      <td>NASA</td>\n      <td>['66CXWjxzNUsdJxJ2JdwvnR']</td>\n      <td>['Ariana Grande']</td>\n      <td>76</td>\n      <td>False</td>\n      <td>Solo</td>\n      <td>3</td>\n      <td>1</td>\n      <td>79</td>\n      <td>...</td>\n      <td>0.4510</td>\n      <td>0.747</td>\n      <td>0.458</td>\n      <td>0.000000</td>\n      <td>0.2520</td>\n      <td>-6.891</td>\n      <td>0.3030</td>\n      <td>0.470</td>\n      <td>75.029</td>\n      <td>0</td>\n    </tr>\n    <tr>\n      <th>2</th>\n      <td>2hloaUoRonYssMuqLCBLTX</td>\n      <td>bloodline</td>\n      <td>['66CXWjxzNUsdJxJ2JdwvnR']</td>\n      <td>['Ariana Grande']</td>\n      <td>74</td>\n      <td>True</td>\n      <td>Solo</td>\n      <td>4</td>\n      <td>1</td>\n      <td>79</td>\n      <td>...</td>\n      <td>0.0815</td>\n      <td>0.758</td>\n      <td>0.665</td>\n      <td>0.000157</td>\n      <td>0.2160</td>\n      <td>-5.188</td>\n      <td>0.0774</td>\n      <td>0.643</td>\n      <td>151.976</td>\n      <td>0</td>\n    </tr>\n    <tr>\n      <th>3</th>\n      <td>3wFLWP0FcIqHK1wb1CPthQ</td>\n      <td>fake smile</td>\n      <td>['66CXWjxzNUsdJxJ2JdwvnR']</td>\n      <td>['Ariana Grande']</td>\n      <td>73</td>\n      <td>True</td>\n      <td>Solo</td>\n      <td>5</td>\n      <td>1</td>\n      <td>79</td>\n      <td>...</td>\n      <td>0.3290</td>\n      <td>0.450</td>\n      <td>0.619</td>\n      <td>0.000000</td>\n      <td>0.3190</td>\n      <td>-7.412</td>\n      <td>0.3720</td>\n      <td>0.427</td>\n      <td>83.300</td>\n      <td>0</td>\n    </tr>\n    <tr>\n      <th>4</th>\n      <td>5Il6Oe7lr5XM7A0cWbVQtr</td>\n      <td>bad idea</td>\n      <td>['66CXWjxzNUsdJxJ2JdwvnR']</td>\n      <td>['Ariana Grande']</td>\n      <td>74</td>\n      <td>False</td>\n      <td>Solo</td>\n      <td>6</td>\n      <td>1</td>\n      <td>79</td>\n      <td>...</td>\n      <td>0.0268</td>\n      <td>0.847</td>\n      <td>0.579</td>\n      <td>0.054500</td>\n      <td>0.1020</td>\n      <td>-5.314</td>\n      <td>0.0719</td>\n      <td>0.569</td>\n      <td>137.998</td>\n      <td>0</td>\n    </tr>\n    <tr>\n      <th>...</th>\n      <td>...</td>\n      <td>...</td>\n      <td>...</td>\n      <td>...</td>\n      <td>...</td>\n      <td>...</td>\n      <td>...</td>\n      <td>...</td>\n      <td>...</td>\n      <td>...</td>\n      <td>...</td>\n      <td>...</td>\n      <td>...</td>\n      <td>...</td>\n      <td>...</td>\n      <td>...</td>\n      <td>...</td>\n      <td>...</td>\n      <td>...</td>\n      <td>...</td>\n      <td>...</td>\n    </tr>\n    <tr>\n      <th>899063</th>\n      <td>2tP0ryZParpdjvxubgXhTN</td>\n      <td>Love Is Here to Stay</td>\n      <td>['3Dzj993UEz8Z5ovxuirzFO', '6RCsx4p5smZHYz2P5H...</td>\n      <td>['Lindsey Buckingham', 'Christine McVie']</td>\n      <td>16</td>\n      <td>False</td>\n      <td>Collaboration</td>\n      <td>5</td>\n      <td>2</td>\n      <td>1</td>\n      <td>...</td>\n      <td>0.3660</td>\n      <td>0.446</td>\n      <td>0.658</td>\n      <td>0.000025</td>\n      <td>0.7510</td>\n      <td>-8.362</td>\n      <td>0.0297</td>\n      <td>0.554</td>\n      <td>84.740</td>\n      <td>0</td>\n    </tr>\n    <tr>\n      <th>899064</th>\n      <td>7Ltni80U0w7bmYjXPNzSEa</td>\n      <td>Heinlein's Planet</td>\n      <td>['4urvwbid7NFoVes5PTx9lV']</td>\n      <td>['Tony Carey']</td>\n      <td>0</td>\n      <td>False</td>\n      <td>Solo</td>\n      <td>5</td>\n      <td>1</td>\n      <td>79</td>\n      <td>...</td>\n      <td>0.4810</td>\n      <td>0.305</td>\n      <td>0.456</td>\n      <td>0.933000</td>\n      <td>0.1110</td>\n      <td>-20.199</td>\n      <td>0.0634</td>\n      <td>0.171</td>\n      <td>96.996</td>\n      <td>0</td>\n    </tr>\n    <tr>\n      <th>899065</th>\n      <td>1gQClXN1Dq4rj0wBzddcNA</td>\n      <td>Beds are Burning - Karaoke Lead Vocal Version</td>\n      <td>['7yv4DJOCmilSbxxsdQgXWk']</td>\n      <td>['Pictomusic']</td>\n      <td>0</td>\n      <td>False</td>\n      <td>Solo</td>\n      <td>2</td>\n      <td>1</td>\n      <td>79</td>\n      <td>...</td>\n      <td>0.0118</td>\n      <td>0.852</td>\n      <td>0.648</td>\n      <td>0.000000</td>\n      <td>0.0503</td>\n      <td>-7.189</td>\n      <td>0.0480</td>\n      <td>0.559</td>\n      <td>120.150</td>\n      <td>0</td>\n    </tr>\n    <tr>\n      <th>899066</th>\n      <td>2jhxQrFNdVPkWL28X7ZpeK</td>\n      <td>Un homme heureux - Version karaoké instrumentale</td>\n      <td>['7yv4DJOCmilSbxxsdQgXWk']</td>\n      <td>['Pictomusic']</td>\n      <td>0</td>\n      <td>False</td>\n      <td>Solo</td>\n      <td>1</td>\n      <td>1</td>\n      <td>79</td>\n      <td>...</td>\n      <td>0.9730</td>\n      <td>0.664</td>\n      <td>0.353</td>\n      <td>0.787000</td>\n      <td>0.0878</td>\n      <td>-12.303</td>\n      <td>0.0693</td>\n      <td>0.284</td>\n      <td>116.450</td>\n      <td>0</td>\n    </tr>\n    <tr>\n      <th>899067</th>\n      <td>6KkbkpUObAqcKGEfvguHJO</td>\n      <td>Santa Claus Is Coming to Town</td>\n      <td>['7tdO7d7r0vhwov7RIZWH6V']</td>\n      <td>['Mitch Ryder']</td>\n      <td>0</td>\n      <td>False</td>\n      <td>Solo</td>\n      <td>3</td>\n      <td>1</td>\n      <td>79</td>\n      <td>...</td>\n      <td>0.3860</td>\n      <td>0.651</td>\n      <td>0.896</td>\n      <td>0.001630</td>\n      <td>0.0734</td>\n      <td>-6.004</td>\n      <td>0.0327</td>\n      <td>0.893</td>\n      <td>148.107</td>\n      <td>0</td>\n    </tr>\n  </tbody>\n</table>\n<p>899068 rows × 25 columns</p>\n</div>"
     },
     "execution_count": 4,
     "metadata": {},
     "output_type": "execute_result"
    }
   ],
   "source": [
    "# Define the dictionary with column names and their desired data types\n",
    "dtype_dict = {\n",
    "    'song_id': str,\n",
    "    'song_name': str,\n",
    "    'id_artists': str,\n",
    "    'name_artists': str,\n",
    "    'popularity': int,\n",
    "    'explicit': bool,\n",
    "    'song_type': str,\n",
    "    'track_number': int,\n",
    "    'num_artists': int,\n",
    "    'num_available_markets': int,\n",
    "    'duration_ms': float,\n",
    "    'acousticness': float,\n",
    "    'danceability': float,\n",
    "    'energy': float,\n",
    "    'instrumentalness': float,\n",
    "    'liveness': float,\n",
    "    'loudness': float,\n",
    "    'speechiness': float,\n",
    "    'valence': float,\n",
    "    'tempo': float,\n",
    "    'hit': int\n",
    "}\n",
    "\n",
    "df_nonhits = pd.read_csv(\"../../MusicOSet/additional/nonhits_dataset.csv\", delimiter=\"\\t\", dtype=dtype_dict, na_values=[\"-\"])\n",
    "df_nonhits[\"hit\"] = 0\n",
    "df_nonhits"
   ],
   "metadata": {
    "collapsed": false,
    "ExecuteTime": {
     "end_time": "2024-05-06T15:33:12.150908100Z",
     "start_time": "2024-05-06T15:33:09.599542500Z"
    }
   },
   "id": "7a9dbad1b675b460"
  },
  {
   "cell_type": "code",
   "execution_count": 5,
   "outputs": [
    {
     "data": {
      "text/plain": "                       song_id  \\\n0       3e9HZxeyfWwjeyPAMmWSSQ   \n1       5p7ujcrUXASCNwRaWNHR1C   \n2       2xLMifQCjDGFmkHkpNLD9h   \n3       3KkXRkHbMCARz0aVfEt68P   \n4       1rqqCSm0Qe4I9rUvWncaom   \n...                        ...   \n899063  2tP0ryZParpdjvxubgXhTN   \n899064  7Ltni80U0w7bmYjXPNzSEa   \n899065  1gQClXN1Dq4rj0wBzddcNA   \n899066  2jhxQrFNdVPkWL28X7ZpeK   \n899067  6KkbkpUObAqcKGEfvguHJO   \n\n                                               song_name  \\\n0                                          thank u, next   \n1                                             Without Me   \n2                                             SICKO MODE   \n3          Sunflower - Spider-Man: Into the Spider-Verse   \n4                                             High Hopes   \n...                                                  ...   \n899063                              Love Is Here to Stay   \n899064                                 Heinlein's Planet   \n899065     Beds are Burning - Karaoke Lead Vocal Version   \n899066  Un homme heureux - Version karaoké instrumentale   \n899067                     Santa Claus Is Coming to Town   \n\n                                               id_artists  \\\n0                              ['66CXWjxzNUsdJxJ2JdwvnR']   \n1                              ['26VFTg2z8YR0cCuwLzESi2']   \n2                              ['0Y5tJX1MQlPlqiwlOH1tJY']   \n3       ['246dkjvS1zLTtiykXe5h60', '1zNqQNIdeOUZHb8zbZ...   \n4                              ['20JZFwl6HVl6yg8a4H3ZqK']   \n...                                                   ...   \n899063  ['3Dzj993UEz8Z5ovxuirzFO', '6RCsx4p5smZHYz2P5H...   \n899064                         ['4urvwbid7NFoVes5PTx9lV']   \n899065                         ['7yv4DJOCmilSbxxsdQgXWk']   \n899066                         ['7yv4DJOCmilSbxxsdQgXWk']   \n899067                         ['7tdO7d7r0vhwov7RIZWH6V']   \n\n                                     name_artists  popularity  explicit  \\\n0                               ['Ariana Grande']          87      True   \n1                                      ['Halsey']          87      True   \n2                                ['Travis Scott']          86      True   \n3                     ['Post Malone', 'Swae Lee']          92     False   \n4                         ['Panic! At The Disco']          86     False   \n...                                           ...         ...       ...   \n899063  ['Lindsey Buckingham', 'Christine McVie']          16     False   \n899064                             ['Tony Carey']           0     False   \n899065                             ['Pictomusic']           0     False   \n899066                             ['Pictomusic']           0     False   \n899067                            ['Mitch Ryder']           0     False   \n\n            song_type  track_number  num_artists  num_available_markets  ...  \\\n0                Solo            11            1                     79  ...   \n1                Solo             1            1                     79  ...   \n2                Solo             3            1                     79  ...   \n3       Collaboration             2            2                     79  ...   \n4                Solo             4            1                     78  ...   \n...               ...           ...          ...                    ...  ...   \n899063  Collaboration             5            2                      1  ...   \n899064           Solo             5            1                     79  ...   \n899065           Solo             2            1                     79  ...   \n899066           Solo             1            1                     79  ...   \n899067           Solo             3            1                     79  ...   \n\n       acousticness  danceability  energy  instrumentalness  liveness  \\\n0           0.22900         0.717   0.653          0.000000    0.1010   \n1           0.29700         0.752   0.488          0.000009    0.0936   \n2           0.00513         0.834   0.730          0.000000    0.1240   \n3           0.55600         0.760   0.479          0.000000    0.0703   \n4           0.19300         0.579   0.904          0.000000    0.0640   \n...             ...           ...     ...               ...       ...   \n899063      0.36600         0.446   0.658          0.000025    0.7510   \n899064      0.48100         0.305   0.456          0.933000    0.1110   \n899065      0.01180         0.852   0.648          0.000000    0.0503   \n899066      0.97300         0.664   0.353          0.787000    0.0878   \n899067      0.38600         0.651   0.896          0.001630    0.0734   \n\n        loudness  speechiness  valence    tempo  hit  \n0         -5.634       0.0658    0.412  106.966    1  \n1         -7.050       0.0705    0.533  136.041    1  \n2         -3.714       0.2220    0.446  155.008    1  \n3         -5.574       0.0466    0.913   89.911    1  \n4         -2.729       0.0618    0.681   82.014    1  \n...          ...          ...      ...      ...  ...  \n899063    -8.362       0.0297    0.554   84.740    0  \n899064   -20.199       0.0634    0.171   96.996    0  \n899065    -7.189       0.0480    0.559  120.150    0  \n899066   -12.303       0.0693    0.284  116.450    0  \n899067    -6.004       0.0327    0.893  148.107    0  \n\n[911027 rows x 25 columns]",
      "text/html": "<div>\n<style scoped>\n    .dataframe tbody tr th:only-of-type {\n        vertical-align: middle;\n    }\n\n    .dataframe tbody tr th {\n        vertical-align: top;\n    }\n\n    .dataframe thead th {\n        text-align: right;\n    }\n</style>\n<table border=\"1\" class=\"dataframe\">\n  <thead>\n    <tr style=\"text-align: right;\">\n      <th></th>\n      <th>song_id</th>\n      <th>song_name</th>\n      <th>id_artists</th>\n      <th>name_artists</th>\n      <th>popularity</th>\n      <th>explicit</th>\n      <th>song_type</th>\n      <th>track_number</th>\n      <th>num_artists</th>\n      <th>num_available_markets</th>\n      <th>...</th>\n      <th>acousticness</th>\n      <th>danceability</th>\n      <th>energy</th>\n      <th>instrumentalness</th>\n      <th>liveness</th>\n      <th>loudness</th>\n      <th>speechiness</th>\n      <th>valence</th>\n      <th>tempo</th>\n      <th>hit</th>\n    </tr>\n  </thead>\n  <tbody>\n    <tr>\n      <th>0</th>\n      <td>3e9HZxeyfWwjeyPAMmWSSQ</td>\n      <td>thank u, next</td>\n      <td>['66CXWjxzNUsdJxJ2JdwvnR']</td>\n      <td>['Ariana Grande']</td>\n      <td>87</td>\n      <td>True</td>\n      <td>Solo</td>\n      <td>11</td>\n      <td>1</td>\n      <td>79</td>\n      <td>...</td>\n      <td>0.22900</td>\n      <td>0.717</td>\n      <td>0.653</td>\n      <td>0.000000</td>\n      <td>0.1010</td>\n      <td>-5.634</td>\n      <td>0.0658</td>\n      <td>0.412</td>\n      <td>106.966</td>\n      <td>1</td>\n    </tr>\n    <tr>\n      <th>1</th>\n      <td>5p7ujcrUXASCNwRaWNHR1C</td>\n      <td>Without Me</td>\n      <td>['26VFTg2z8YR0cCuwLzESi2']</td>\n      <td>['Halsey']</td>\n      <td>87</td>\n      <td>True</td>\n      <td>Solo</td>\n      <td>1</td>\n      <td>1</td>\n      <td>79</td>\n      <td>...</td>\n      <td>0.29700</td>\n      <td>0.752</td>\n      <td>0.488</td>\n      <td>0.000009</td>\n      <td>0.0936</td>\n      <td>-7.050</td>\n      <td>0.0705</td>\n      <td>0.533</td>\n      <td>136.041</td>\n      <td>1</td>\n    </tr>\n    <tr>\n      <th>2</th>\n      <td>2xLMifQCjDGFmkHkpNLD9h</td>\n      <td>SICKO MODE</td>\n      <td>['0Y5tJX1MQlPlqiwlOH1tJY']</td>\n      <td>['Travis Scott']</td>\n      <td>86</td>\n      <td>True</td>\n      <td>Solo</td>\n      <td>3</td>\n      <td>1</td>\n      <td>79</td>\n      <td>...</td>\n      <td>0.00513</td>\n      <td>0.834</td>\n      <td>0.730</td>\n      <td>0.000000</td>\n      <td>0.1240</td>\n      <td>-3.714</td>\n      <td>0.2220</td>\n      <td>0.446</td>\n      <td>155.008</td>\n      <td>1</td>\n    </tr>\n    <tr>\n      <th>3</th>\n      <td>3KkXRkHbMCARz0aVfEt68P</td>\n      <td>Sunflower - Spider-Man: Into the Spider-Verse</td>\n      <td>['246dkjvS1zLTtiykXe5h60', '1zNqQNIdeOUZHb8zbZ...</td>\n      <td>['Post Malone', 'Swae Lee']</td>\n      <td>92</td>\n      <td>False</td>\n      <td>Collaboration</td>\n      <td>2</td>\n      <td>2</td>\n      <td>79</td>\n      <td>...</td>\n      <td>0.55600</td>\n      <td>0.760</td>\n      <td>0.479</td>\n      <td>0.000000</td>\n      <td>0.0703</td>\n      <td>-5.574</td>\n      <td>0.0466</td>\n      <td>0.913</td>\n      <td>89.911</td>\n      <td>1</td>\n    </tr>\n    <tr>\n      <th>4</th>\n      <td>1rqqCSm0Qe4I9rUvWncaom</td>\n      <td>High Hopes</td>\n      <td>['20JZFwl6HVl6yg8a4H3ZqK']</td>\n      <td>['Panic! At The Disco']</td>\n      <td>86</td>\n      <td>False</td>\n      <td>Solo</td>\n      <td>4</td>\n      <td>1</td>\n      <td>78</td>\n      <td>...</td>\n      <td>0.19300</td>\n      <td>0.579</td>\n      <td>0.904</td>\n      <td>0.000000</td>\n      <td>0.0640</td>\n      <td>-2.729</td>\n      <td>0.0618</td>\n      <td>0.681</td>\n      <td>82.014</td>\n      <td>1</td>\n    </tr>\n    <tr>\n      <th>...</th>\n      <td>...</td>\n      <td>...</td>\n      <td>...</td>\n      <td>...</td>\n      <td>...</td>\n      <td>...</td>\n      <td>...</td>\n      <td>...</td>\n      <td>...</td>\n      <td>...</td>\n      <td>...</td>\n      <td>...</td>\n      <td>...</td>\n      <td>...</td>\n      <td>...</td>\n      <td>...</td>\n      <td>...</td>\n      <td>...</td>\n      <td>...</td>\n      <td>...</td>\n      <td>...</td>\n    </tr>\n    <tr>\n      <th>899063</th>\n      <td>2tP0ryZParpdjvxubgXhTN</td>\n      <td>Love Is Here to Stay</td>\n      <td>['3Dzj993UEz8Z5ovxuirzFO', '6RCsx4p5smZHYz2P5H...</td>\n      <td>['Lindsey Buckingham', 'Christine McVie']</td>\n      <td>16</td>\n      <td>False</td>\n      <td>Collaboration</td>\n      <td>5</td>\n      <td>2</td>\n      <td>1</td>\n      <td>...</td>\n      <td>0.36600</td>\n      <td>0.446</td>\n      <td>0.658</td>\n      <td>0.000025</td>\n      <td>0.7510</td>\n      <td>-8.362</td>\n      <td>0.0297</td>\n      <td>0.554</td>\n      <td>84.740</td>\n      <td>0</td>\n    </tr>\n    <tr>\n      <th>899064</th>\n      <td>7Ltni80U0w7bmYjXPNzSEa</td>\n      <td>Heinlein's Planet</td>\n      <td>['4urvwbid7NFoVes5PTx9lV']</td>\n      <td>['Tony Carey']</td>\n      <td>0</td>\n      <td>False</td>\n      <td>Solo</td>\n      <td>5</td>\n      <td>1</td>\n      <td>79</td>\n      <td>...</td>\n      <td>0.48100</td>\n      <td>0.305</td>\n      <td>0.456</td>\n      <td>0.933000</td>\n      <td>0.1110</td>\n      <td>-20.199</td>\n      <td>0.0634</td>\n      <td>0.171</td>\n      <td>96.996</td>\n      <td>0</td>\n    </tr>\n    <tr>\n      <th>899065</th>\n      <td>1gQClXN1Dq4rj0wBzddcNA</td>\n      <td>Beds are Burning - Karaoke Lead Vocal Version</td>\n      <td>['7yv4DJOCmilSbxxsdQgXWk']</td>\n      <td>['Pictomusic']</td>\n      <td>0</td>\n      <td>False</td>\n      <td>Solo</td>\n      <td>2</td>\n      <td>1</td>\n      <td>79</td>\n      <td>...</td>\n      <td>0.01180</td>\n      <td>0.852</td>\n      <td>0.648</td>\n      <td>0.000000</td>\n      <td>0.0503</td>\n      <td>-7.189</td>\n      <td>0.0480</td>\n      <td>0.559</td>\n      <td>120.150</td>\n      <td>0</td>\n    </tr>\n    <tr>\n      <th>899066</th>\n      <td>2jhxQrFNdVPkWL28X7ZpeK</td>\n      <td>Un homme heureux - Version karaoké instrumentale</td>\n      <td>['7yv4DJOCmilSbxxsdQgXWk']</td>\n      <td>['Pictomusic']</td>\n      <td>0</td>\n      <td>False</td>\n      <td>Solo</td>\n      <td>1</td>\n      <td>1</td>\n      <td>79</td>\n      <td>...</td>\n      <td>0.97300</td>\n      <td>0.664</td>\n      <td>0.353</td>\n      <td>0.787000</td>\n      <td>0.0878</td>\n      <td>-12.303</td>\n      <td>0.0693</td>\n      <td>0.284</td>\n      <td>116.450</td>\n      <td>0</td>\n    </tr>\n    <tr>\n      <th>899067</th>\n      <td>6KkbkpUObAqcKGEfvguHJO</td>\n      <td>Santa Claus Is Coming to Town</td>\n      <td>['7tdO7d7r0vhwov7RIZWH6V']</td>\n      <td>['Mitch Ryder']</td>\n      <td>0</td>\n      <td>False</td>\n      <td>Solo</td>\n      <td>3</td>\n      <td>1</td>\n      <td>79</td>\n      <td>...</td>\n      <td>0.38600</td>\n      <td>0.651</td>\n      <td>0.896</td>\n      <td>0.001630</td>\n      <td>0.0734</td>\n      <td>-6.004</td>\n      <td>0.0327</td>\n      <td>0.893</td>\n      <td>148.107</td>\n      <td>0</td>\n    </tr>\n  </tbody>\n</table>\n<p>911027 rows × 25 columns</p>\n</div>"
     },
     "execution_count": 5,
     "metadata": {},
     "output_type": "execute_result"
    }
   ],
   "source": [
    "combined_df = pd.concat([df_hits, df_nonhits], axis=0)\n",
    "# Drop all rows with NaN values\n",
    "combined_df.replace(\"-\", float(\"nan\"), inplace=True)\n",
    "#combined_df.fillna(combined_df.mean(), inplace=True)\n",
    "#combined_df.dropna(inplace=True)   # drop nan value rows\n",
    "\n",
    "combined_df"
   ],
   "metadata": {
    "collapsed": false,
    "ExecuteTime": {
     "end_time": "2024-05-06T15:33:12.991905500Z",
     "start_time": "2024-05-06T15:33:12.152906700Z"
    }
   },
   "id": "95b93a1143b6d30b"
  },
  {
   "cell_type": "code",
   "execution_count": 6,
   "outputs": [],
   "source": [
    "import pandas as pd\n",
    "from sklearn.impute import SimpleImputer\n",
    "\n",
    "# Assuming combined_df is your DataFrame\n",
    "# Identify numerical columns\n",
    "numerical_cols = combined_df.select_dtypes(include='number').columns\n",
    "\n",
    "# Create an instance of SimpleImputer with strategy='mean'\n",
    "imputer = SimpleImputer(strategy='mean')\n",
    "\n",
    "# Fit the imputer to the data and transform the numerical columns\n",
    "combined_df[numerical_cols] = imputer.fit_transform(combined_df[numerical_cols])"
   ],
   "metadata": {
    "collapsed": false,
    "ExecuteTime": {
     "end_time": "2024-05-06T15:33:13.978906400Z",
     "start_time": "2024-05-06T15:33:12.989906100Z"
    }
   },
   "id": "bec6391dbedca54d"
  },
  {
   "cell_type": "code",
   "execution_count": 7,
   "outputs": [
    {
     "data": {
      "text/plain": "Index(['popularity', 'track_number', 'num_artists', 'num_available_markets',\n       'duration_ms', 'key', 'mode', 'time_signature', 'acousticness',\n       'danceability', 'energy', 'instrumentalness', 'liveness', 'loudness',\n       'speechiness', 'valence', 'tempo', 'hit'],\n      dtype='object')"
     },
     "execution_count": 7,
     "metadata": {},
     "output_type": "execute_result"
    }
   ],
   "source": [
    "numerical_cols"
   ],
   "metadata": {
    "collapsed": false,
    "ExecuteTime": {
     "end_time": "2024-05-06T15:33:13.995906500Z",
     "start_time": "2024-05-06T15:33:13.981905900Z"
    }
   },
   "id": "7c2561c77fe8cbdc"
  },
  {
   "cell_type": "code",
   "execution_count": 8,
   "outputs": [
    {
     "name": "stdout",
     "output_type": "stream",
     "text": [
      "Columns with NaN values:\n",
      "[]\n"
     ]
    }
   ],
   "source": [
    "# Check for NaN values in all columns\n",
    "nan_columns = combined_df.columns[combined_df.isna().any()].tolist()\n",
    "\n",
    "# Print columns with NaN values\n",
    "print(\"Columns with NaN values:\")\n",
    "print(nan_columns)\n"
   ],
   "metadata": {
    "collapsed": false,
    "ExecuteTime": {
     "end_time": "2024-05-06T15:33:14.132905900Z",
     "start_time": "2024-05-06T15:33:14.067908700Z"
    }
   },
   "id": "1d28d9f80e1638a4"
  },
  {
   "cell_type": "code",
   "execution_count": 9,
   "outputs": [
    {
     "data": {
      "text/plain": "                       song_id  \\\n0       3e9HZxeyfWwjeyPAMmWSSQ   \n1       5p7ujcrUXASCNwRaWNHR1C   \n2       2xLMifQCjDGFmkHkpNLD9h   \n3       3KkXRkHbMCARz0aVfEt68P   \n4       1rqqCSm0Qe4I9rUvWncaom   \n...                        ...   \n899063  2tP0ryZParpdjvxubgXhTN   \n899064  7Ltni80U0w7bmYjXPNzSEa   \n899065  1gQClXN1Dq4rj0wBzddcNA   \n899066  2jhxQrFNdVPkWL28X7ZpeK   \n899067  6KkbkpUObAqcKGEfvguHJO   \n\n                                               song_name  \\\n0                                          thank u, next   \n1                                             Without Me   \n2                                             SICKO MODE   \n3          Sunflower - Spider-Man: Into the Spider-Verse   \n4                                             High Hopes   \n...                                                  ...   \n899063                              Love Is Here to Stay   \n899064                                 Heinlein's Planet   \n899065     Beds are Burning - Karaoke Lead Vocal Version   \n899066  Un homme heureux - Version karaoké instrumentale   \n899067                     Santa Claus Is Coming to Town   \n\n                                               id_artists  \\\n0                              ['66CXWjxzNUsdJxJ2JdwvnR']   \n1                              ['26VFTg2z8YR0cCuwLzESi2']   \n2                              ['0Y5tJX1MQlPlqiwlOH1tJY']   \n3       ['246dkjvS1zLTtiykXe5h60', '1zNqQNIdeOUZHb8zbZ...   \n4                              ['20JZFwl6HVl6yg8a4H3ZqK']   \n...                                                   ...   \n899063  ['3Dzj993UEz8Z5ovxuirzFO', '6RCsx4p5smZHYz2P5H...   \n899064                         ['4urvwbid7NFoVes5PTx9lV']   \n899065                         ['7yv4DJOCmilSbxxsdQgXWk']   \n899066                         ['7yv4DJOCmilSbxxsdQgXWk']   \n899067                         ['7tdO7d7r0vhwov7RIZWH6V']   \n\n                                     name_artists  popularity  explicit  \\\n0                               ['Ariana Grande']        87.0      True   \n1                                      ['Halsey']        87.0      True   \n2                                ['Travis Scott']        86.0      True   \n3                     ['Post Malone', 'Swae Lee']        92.0     False   \n4                         ['Panic! At The Disco']        86.0     False   \n...                                           ...         ...       ...   \n899063  ['Lindsey Buckingham', 'Christine McVie']        16.0     False   \n899064                             ['Tony Carey']         0.0     False   \n899065                             ['Pictomusic']         0.0     False   \n899066                             ['Pictomusic']         0.0     False   \n899067                            ['Mitch Ryder']         0.0     False   \n\n            song_type  track_number  num_artists  num_available_markets  ...  \\\n0                Solo          11.0          1.0                   79.0  ...   \n1                Solo           1.0          1.0                   79.0  ...   \n2                Solo           3.0          1.0                   79.0  ...   \n3       Collaboration           2.0          2.0                   79.0  ...   \n4                Solo           4.0          1.0                   78.0  ...   \n...               ...           ...          ...                    ...  ...   \n899063  Collaboration           5.0          2.0                    1.0  ...   \n899064           Solo           5.0          1.0                   79.0  ...   \n899065           Solo           2.0          1.0                   79.0  ...   \n899066           Solo           1.0          1.0                   79.0  ...   \n899067           Solo           3.0          1.0                   79.0  ...   \n\n       acousticness  danceability  energy  instrumentalness  liveness  \\\n0           0.22900         0.717   0.653          0.000000    0.1010   \n1           0.29700         0.752   0.488          0.000009    0.0936   \n2           0.00513         0.834   0.730          0.000000    0.1240   \n3           0.55600         0.760   0.479          0.000000    0.0703   \n4           0.19300         0.579   0.904          0.000000    0.0640   \n...             ...           ...     ...               ...       ...   \n899063      0.36600         0.446   0.658          0.000025    0.7510   \n899064      0.48100         0.305   0.456          0.933000    0.1110   \n899065      0.01180         0.852   0.648          0.000000    0.0503   \n899066      0.97300         0.664   0.353          0.787000    0.0878   \n899067      0.38600         0.651   0.896          0.001630    0.0734   \n\n        loudness  speechiness  valence    tempo  hit  \n0         -5.634       0.0658    0.412  106.966  1.0  \n1         -7.050       0.0705    0.533  136.041  1.0  \n2         -3.714       0.2220    0.446  155.008  1.0  \n3         -5.574       0.0466    0.913   89.911  1.0  \n4         -2.729       0.0618    0.681   82.014  1.0  \n...          ...          ...      ...      ...  ...  \n899063    -8.362       0.0297    0.554   84.740  0.0  \n899064   -20.199       0.0634    0.171   96.996  0.0  \n899065    -7.189       0.0480    0.559  120.150  0.0  \n899066   -12.303       0.0693    0.284  116.450  0.0  \n899067    -6.004       0.0327    0.893  148.107  0.0  \n\n[911027 rows x 25 columns]",
      "text/html": "<div>\n<style scoped>\n    .dataframe tbody tr th:only-of-type {\n        vertical-align: middle;\n    }\n\n    .dataframe tbody tr th {\n        vertical-align: top;\n    }\n\n    .dataframe thead th {\n        text-align: right;\n    }\n</style>\n<table border=\"1\" class=\"dataframe\">\n  <thead>\n    <tr style=\"text-align: right;\">\n      <th></th>\n      <th>song_id</th>\n      <th>song_name</th>\n      <th>id_artists</th>\n      <th>name_artists</th>\n      <th>popularity</th>\n      <th>explicit</th>\n      <th>song_type</th>\n      <th>track_number</th>\n      <th>num_artists</th>\n      <th>num_available_markets</th>\n      <th>...</th>\n      <th>acousticness</th>\n      <th>danceability</th>\n      <th>energy</th>\n      <th>instrumentalness</th>\n      <th>liveness</th>\n      <th>loudness</th>\n      <th>speechiness</th>\n      <th>valence</th>\n      <th>tempo</th>\n      <th>hit</th>\n    </tr>\n  </thead>\n  <tbody>\n    <tr>\n      <th>0</th>\n      <td>3e9HZxeyfWwjeyPAMmWSSQ</td>\n      <td>thank u, next</td>\n      <td>['66CXWjxzNUsdJxJ2JdwvnR']</td>\n      <td>['Ariana Grande']</td>\n      <td>87.0</td>\n      <td>True</td>\n      <td>Solo</td>\n      <td>11.0</td>\n      <td>1.0</td>\n      <td>79.0</td>\n      <td>...</td>\n      <td>0.22900</td>\n      <td>0.717</td>\n      <td>0.653</td>\n      <td>0.000000</td>\n      <td>0.1010</td>\n      <td>-5.634</td>\n      <td>0.0658</td>\n      <td>0.412</td>\n      <td>106.966</td>\n      <td>1.0</td>\n    </tr>\n    <tr>\n      <th>1</th>\n      <td>5p7ujcrUXASCNwRaWNHR1C</td>\n      <td>Without Me</td>\n      <td>['26VFTg2z8YR0cCuwLzESi2']</td>\n      <td>['Halsey']</td>\n      <td>87.0</td>\n      <td>True</td>\n      <td>Solo</td>\n      <td>1.0</td>\n      <td>1.0</td>\n      <td>79.0</td>\n      <td>...</td>\n      <td>0.29700</td>\n      <td>0.752</td>\n      <td>0.488</td>\n      <td>0.000009</td>\n      <td>0.0936</td>\n      <td>-7.050</td>\n      <td>0.0705</td>\n      <td>0.533</td>\n      <td>136.041</td>\n      <td>1.0</td>\n    </tr>\n    <tr>\n      <th>2</th>\n      <td>2xLMifQCjDGFmkHkpNLD9h</td>\n      <td>SICKO MODE</td>\n      <td>['0Y5tJX1MQlPlqiwlOH1tJY']</td>\n      <td>['Travis Scott']</td>\n      <td>86.0</td>\n      <td>True</td>\n      <td>Solo</td>\n      <td>3.0</td>\n      <td>1.0</td>\n      <td>79.0</td>\n      <td>...</td>\n      <td>0.00513</td>\n      <td>0.834</td>\n      <td>0.730</td>\n      <td>0.000000</td>\n      <td>0.1240</td>\n      <td>-3.714</td>\n      <td>0.2220</td>\n      <td>0.446</td>\n      <td>155.008</td>\n      <td>1.0</td>\n    </tr>\n    <tr>\n      <th>3</th>\n      <td>3KkXRkHbMCARz0aVfEt68P</td>\n      <td>Sunflower - Spider-Man: Into the Spider-Verse</td>\n      <td>['246dkjvS1zLTtiykXe5h60', '1zNqQNIdeOUZHb8zbZ...</td>\n      <td>['Post Malone', 'Swae Lee']</td>\n      <td>92.0</td>\n      <td>False</td>\n      <td>Collaboration</td>\n      <td>2.0</td>\n      <td>2.0</td>\n      <td>79.0</td>\n      <td>...</td>\n      <td>0.55600</td>\n      <td>0.760</td>\n      <td>0.479</td>\n      <td>0.000000</td>\n      <td>0.0703</td>\n      <td>-5.574</td>\n      <td>0.0466</td>\n      <td>0.913</td>\n      <td>89.911</td>\n      <td>1.0</td>\n    </tr>\n    <tr>\n      <th>4</th>\n      <td>1rqqCSm0Qe4I9rUvWncaom</td>\n      <td>High Hopes</td>\n      <td>['20JZFwl6HVl6yg8a4H3ZqK']</td>\n      <td>['Panic! At The Disco']</td>\n      <td>86.0</td>\n      <td>False</td>\n      <td>Solo</td>\n      <td>4.0</td>\n      <td>1.0</td>\n      <td>78.0</td>\n      <td>...</td>\n      <td>0.19300</td>\n      <td>0.579</td>\n      <td>0.904</td>\n      <td>0.000000</td>\n      <td>0.0640</td>\n      <td>-2.729</td>\n      <td>0.0618</td>\n      <td>0.681</td>\n      <td>82.014</td>\n      <td>1.0</td>\n    </tr>\n    <tr>\n      <th>...</th>\n      <td>...</td>\n      <td>...</td>\n      <td>...</td>\n      <td>...</td>\n      <td>...</td>\n      <td>...</td>\n      <td>...</td>\n      <td>...</td>\n      <td>...</td>\n      <td>...</td>\n      <td>...</td>\n      <td>...</td>\n      <td>...</td>\n      <td>...</td>\n      <td>...</td>\n      <td>...</td>\n      <td>...</td>\n      <td>...</td>\n      <td>...</td>\n      <td>...</td>\n      <td>...</td>\n    </tr>\n    <tr>\n      <th>899063</th>\n      <td>2tP0ryZParpdjvxubgXhTN</td>\n      <td>Love Is Here to Stay</td>\n      <td>['3Dzj993UEz8Z5ovxuirzFO', '6RCsx4p5smZHYz2P5H...</td>\n      <td>['Lindsey Buckingham', 'Christine McVie']</td>\n      <td>16.0</td>\n      <td>False</td>\n      <td>Collaboration</td>\n      <td>5.0</td>\n      <td>2.0</td>\n      <td>1.0</td>\n      <td>...</td>\n      <td>0.36600</td>\n      <td>0.446</td>\n      <td>0.658</td>\n      <td>0.000025</td>\n      <td>0.7510</td>\n      <td>-8.362</td>\n      <td>0.0297</td>\n      <td>0.554</td>\n      <td>84.740</td>\n      <td>0.0</td>\n    </tr>\n    <tr>\n      <th>899064</th>\n      <td>7Ltni80U0w7bmYjXPNzSEa</td>\n      <td>Heinlein's Planet</td>\n      <td>['4urvwbid7NFoVes5PTx9lV']</td>\n      <td>['Tony Carey']</td>\n      <td>0.0</td>\n      <td>False</td>\n      <td>Solo</td>\n      <td>5.0</td>\n      <td>1.0</td>\n      <td>79.0</td>\n      <td>...</td>\n      <td>0.48100</td>\n      <td>0.305</td>\n      <td>0.456</td>\n      <td>0.933000</td>\n      <td>0.1110</td>\n      <td>-20.199</td>\n      <td>0.0634</td>\n      <td>0.171</td>\n      <td>96.996</td>\n      <td>0.0</td>\n    </tr>\n    <tr>\n      <th>899065</th>\n      <td>1gQClXN1Dq4rj0wBzddcNA</td>\n      <td>Beds are Burning - Karaoke Lead Vocal Version</td>\n      <td>['7yv4DJOCmilSbxxsdQgXWk']</td>\n      <td>['Pictomusic']</td>\n      <td>0.0</td>\n      <td>False</td>\n      <td>Solo</td>\n      <td>2.0</td>\n      <td>1.0</td>\n      <td>79.0</td>\n      <td>...</td>\n      <td>0.01180</td>\n      <td>0.852</td>\n      <td>0.648</td>\n      <td>0.000000</td>\n      <td>0.0503</td>\n      <td>-7.189</td>\n      <td>0.0480</td>\n      <td>0.559</td>\n      <td>120.150</td>\n      <td>0.0</td>\n    </tr>\n    <tr>\n      <th>899066</th>\n      <td>2jhxQrFNdVPkWL28X7ZpeK</td>\n      <td>Un homme heureux - Version karaoké instrumentale</td>\n      <td>['7yv4DJOCmilSbxxsdQgXWk']</td>\n      <td>['Pictomusic']</td>\n      <td>0.0</td>\n      <td>False</td>\n      <td>Solo</td>\n      <td>1.0</td>\n      <td>1.0</td>\n      <td>79.0</td>\n      <td>...</td>\n      <td>0.97300</td>\n      <td>0.664</td>\n      <td>0.353</td>\n      <td>0.787000</td>\n      <td>0.0878</td>\n      <td>-12.303</td>\n      <td>0.0693</td>\n      <td>0.284</td>\n      <td>116.450</td>\n      <td>0.0</td>\n    </tr>\n    <tr>\n      <th>899067</th>\n      <td>6KkbkpUObAqcKGEfvguHJO</td>\n      <td>Santa Claus Is Coming to Town</td>\n      <td>['7tdO7d7r0vhwov7RIZWH6V']</td>\n      <td>['Mitch Ryder']</td>\n      <td>0.0</td>\n      <td>False</td>\n      <td>Solo</td>\n      <td>3.0</td>\n      <td>1.0</td>\n      <td>79.0</td>\n      <td>...</td>\n      <td>0.38600</td>\n      <td>0.651</td>\n      <td>0.896</td>\n      <td>0.001630</td>\n      <td>0.0734</td>\n      <td>-6.004</td>\n      <td>0.0327</td>\n      <td>0.893</td>\n      <td>148.107</td>\n      <td>0.0</td>\n    </tr>\n  </tbody>\n</table>\n<p>911027 rows × 25 columns</p>\n</div>"
     },
     "execution_count": 9,
     "metadata": {},
     "output_type": "execute_result"
    }
   ],
   "source": [
    "combined_df"
   ],
   "metadata": {
    "collapsed": false,
    "ExecuteTime": {
     "end_time": "2024-05-06T15:33:14.513906200Z",
     "start_time": "2024-05-06T15:33:14.134907600Z"
    }
   },
   "id": "3c7a27df647b7a58"
  },
  {
   "cell_type": "code",
   "execution_count": 10,
   "outputs": [],
   "source": [
    "from sklearn.model_selection import train_test_split\n",
    "combined_df['date'] = pd.to_datetime(combined_df['release_date'])\n",
    "combined_df.sort_values(by=\"date\", inplace=True)\n",
    "border_day = combined_df[\"date\"].iloc[-1]  - pd.DateOffset(years=5)\n",
    "combined_df = combined_df[(combined_df[\"date\"] >= border_day)]\n",
    "\n",
    "split_day = combined_df[\"date\"].iloc[-1]  - pd.DateOffset(years=1)\n",
    "train_df = combined_df[(combined_df[\"date\"]  < split_day)].copy()\n",
    "test_df = combined_df[(combined_df[\"date\"]  >= split_day)].copy()\n",
    "#train_df, test_df = train_test_split(combined_df, test_size=0.25, shuffle=False)\n",
    "train_df.drop(columns=\"date\", inplace=True)\n",
    "test_df.drop(columns=\"date\", inplace=True)"
   ],
   "metadata": {
    "collapsed": false,
    "ExecuteTime": {
     "end_time": "2024-05-06T15:33:15.275904800Z",
     "start_time": "2024-05-06T15:33:14.511908Z"
    }
   },
   "id": "8ffa4fb03a876dc3"
  },
  {
   "cell_type": "code",
   "execution_count": 11,
   "outputs": [
    {
     "name": "stdout",
     "output_type": "stream",
     "text": [
      "amount of artists: 11772\n"
     ]
    },
    {
     "data": {
      "text/plain": "                    artist_id            artist_name\n0      6CXezToiGS8K6jr9kr8Muv        The Jordanaires\n1      1WDVM4rBdKu6nHeJ6hQMN9       2014 Golden Cove\n2      3GghVvugpv9nXQ2YFzZNzN    Power Music Workout\n3      3kc5AFnL1TQQdNaMdSW2UO           Wayne Wonder\n4      2Q2NuXGrs9Jw9HCVhnoI4G                   Alva\n...                       ...                    ...\n11767  7gx7lqo98LuOGE0y8ATrRr  On the Town Orchestra\n11768  5UvGRahK1OytDXGTzdf6hV        Humphrey Burton\n11769  0MIlVcFgL7pDFqaZRmYDeE                  Weiss\n11770  2iG0HNCECG2DxXxSUcMhEX                 Naxxos\n11771  2tg1rWk2rWaltTk0baRjRu                 SAKIMA\n\n[11772 rows x 2 columns]",
      "text/html": "<div>\n<style scoped>\n    .dataframe tbody tr th:only-of-type {\n        vertical-align: middle;\n    }\n\n    .dataframe tbody tr th {\n        vertical-align: top;\n    }\n\n    .dataframe thead th {\n        text-align: right;\n    }\n</style>\n<table border=\"1\" class=\"dataframe\">\n  <thead>\n    <tr style=\"text-align: right;\">\n      <th></th>\n      <th>artist_id</th>\n      <th>artist_name</th>\n    </tr>\n  </thead>\n  <tbody>\n    <tr>\n      <th>0</th>\n      <td>6CXezToiGS8K6jr9kr8Muv</td>\n      <td>The Jordanaires</td>\n    </tr>\n    <tr>\n      <th>1</th>\n      <td>1WDVM4rBdKu6nHeJ6hQMN9</td>\n      <td>2014 Golden Cove</td>\n    </tr>\n    <tr>\n      <th>2</th>\n      <td>3GghVvugpv9nXQ2YFzZNzN</td>\n      <td>Power Music Workout</td>\n    </tr>\n    <tr>\n      <th>3</th>\n      <td>3kc5AFnL1TQQdNaMdSW2UO</td>\n      <td>Wayne Wonder</td>\n    </tr>\n    <tr>\n      <th>4</th>\n      <td>2Q2NuXGrs9Jw9HCVhnoI4G</td>\n      <td>Alva</td>\n    </tr>\n    <tr>\n      <th>...</th>\n      <td>...</td>\n      <td>...</td>\n    </tr>\n    <tr>\n      <th>11767</th>\n      <td>7gx7lqo98LuOGE0y8ATrRr</td>\n      <td>On the Town Orchestra</td>\n    </tr>\n    <tr>\n      <th>11768</th>\n      <td>5UvGRahK1OytDXGTzdf6hV</td>\n      <td>Humphrey Burton</td>\n    </tr>\n    <tr>\n      <th>11769</th>\n      <td>0MIlVcFgL7pDFqaZRmYDeE</td>\n      <td>Weiss</td>\n    </tr>\n    <tr>\n      <th>11770</th>\n      <td>2iG0HNCECG2DxXxSUcMhEX</td>\n      <td>Naxxos</td>\n    </tr>\n    <tr>\n      <th>11771</th>\n      <td>2tg1rWk2rWaltTk0baRjRu</td>\n      <td>SAKIMA</td>\n    </tr>\n  </tbody>\n</table>\n<p>11772 rows × 2 columns</p>\n</div>"
     },
     "execution_count": 11,
     "metadata": {},
     "output_type": "execute_result"
    }
   ],
   "source": [
    "# Specify the columns\n",
    "columns = ['artist_id', 'artist_name']\n",
    "\n",
    "# Initialize an empty DataFrame\n",
    "df_artists2_train = pd.DataFrame(columns={col: [] for col in columns})\n",
    "\n",
    "count = 0\n",
    "artist_set_train = set()\n",
    "\n",
    "for _, row in train_df.iterrows():\n",
    "    current_artist_id_list = eval(row[\"id_artists\"])\n",
    "    current_artist_name_list = eval(row[\"name_artists\"])\n",
    "    for cur_art_id, cur_art_name in zip(current_artist_id_list, current_artist_name_list):\n",
    "        if cur_art_id not in artist_set_train:\n",
    "            artist_set_train.add(cur_art_id)\n",
    "            df_artists2_train.loc[len(df_artists2_train)] = [cur_art_id, cur_art_name]\n",
    "            count += 1\n",
    "\n",
    "print(\"amount of artists:\", count)\n",
    "df_artists2_train"
   ],
   "metadata": {
    "collapsed": false,
    "ExecuteTime": {
     "end_time": "2024-05-06T15:33:38.169232200Z",
     "start_time": "2024-05-06T15:33:15.292905300Z"
    }
   },
   "id": "7aca1a2f27893919"
  },
  {
   "cell_type": "code",
   "execution_count": 12,
   "outputs": [
    {
     "name": "stdout",
     "output_type": "stream",
     "text": [
      "amount of artists: 5902\n"
     ]
    },
    {
     "data": {
      "text/plain": "                        name  betweenesscentrality  closnesscentrality  \\\n0                Zhavia Ward              0.000000            0.141240   \n1                    Lil Jon              0.003940            0.162659   \n2                Toni Macles              0.000000            1.000000   \n3                 Moon Boots              0.000000            0.666667   \n4                Classics IV              0.000000            1.000000   \n...                      ...                   ...                 ...   \n5897             Third World              0.001314            0.115830   \n5898           Cesar Menotti              0.000000            0.555556   \n5899           Bobby Freeman              0.000000            0.000000   \n5900  Santa's Little Singers              0.000000            0.000000   \n5901               Trev Case              0.000000            0.264706   \n\n      clustering  degree  eccentricity  eigencentrality  weighted degree  \\\n0            0.0       1            15         0.001548                2   \n1            0.0       4            14         0.018347               12   \n2            0.0       1             1         0.707107                2   \n3            0.0       1             2         0.500000                2   \n4            0.0       1             1         0.707107               28   \n...          ...     ...           ...              ...              ...   \n5897         0.0       2            16         0.000022                4   \n5898         0.0       1             2         0.316228                2   \n5899         0.0       0             0         1.000000                0   \n5900         0.0       0             0         1.000000                0   \n5901         0.0       1             7         0.072783                2   \n\n                  Spotify ID  Cluster      profile  \n0     1CO6e7WRJvSFenmQO8n64C        0  1A 2A 3A 4A  \n1     7sfl4Xt5KmfyDs2T3SVSMK        0  1A 2A 3A 4A  \n2     0Ra0me60CI5b5HYCIbrLEU        4  1A 2B 3A 4A  \n3     3cIXmCH7iNcslTbwrwS7zy        2  1A 2A 3A 4A  \n4     6XGJvNG372fPJ2TV2OoN0Z        4  1A 2B 3A 4A  \n...                      ...      ...          ...  \n5897  6qfKnsgz1CwyqA7lTdieRJ        0  1A 2A 3A 4A  \n5898  2odOwGoyC7xZryqA1PMo3j        2  1A 2A 3A 4A  \n5899  5oMWW19j0AXl7Sy4Xn9rmg        1  1A 2A 3A 4A  \n5900  2Kl1vWueJ9fZ5HsLluiMxh        1  1A 2A 3A 4A  \n5901  3vyvetgHkFaehi7Ua4INH2        5  1A 2A 3A 4A  \n\n[5902 rows x 11 columns]",
      "text/html": "<div>\n<style scoped>\n    .dataframe tbody tr th:only-of-type {\n        vertical-align: middle;\n    }\n\n    .dataframe tbody tr th {\n        vertical-align: top;\n    }\n\n    .dataframe thead th {\n        text-align: right;\n    }\n</style>\n<table border=\"1\" class=\"dataframe\">\n  <thead>\n    <tr style=\"text-align: right;\">\n      <th></th>\n      <th>name</th>\n      <th>betweenesscentrality</th>\n      <th>closnesscentrality</th>\n      <th>clustering</th>\n      <th>degree</th>\n      <th>eccentricity</th>\n      <th>eigencentrality</th>\n      <th>weighted degree</th>\n      <th>Spotify ID</th>\n      <th>Cluster</th>\n      <th>profile</th>\n    </tr>\n  </thead>\n  <tbody>\n    <tr>\n      <th>0</th>\n      <td>Zhavia Ward</td>\n      <td>0.000000</td>\n      <td>0.141240</td>\n      <td>0.0</td>\n      <td>1</td>\n      <td>15</td>\n      <td>0.001548</td>\n      <td>2</td>\n      <td>1CO6e7WRJvSFenmQO8n64C</td>\n      <td>0</td>\n      <td>1A 2A 3A 4A</td>\n    </tr>\n    <tr>\n      <th>1</th>\n      <td>Lil Jon</td>\n      <td>0.003940</td>\n      <td>0.162659</td>\n      <td>0.0</td>\n      <td>4</td>\n      <td>14</td>\n      <td>0.018347</td>\n      <td>12</td>\n      <td>7sfl4Xt5KmfyDs2T3SVSMK</td>\n      <td>0</td>\n      <td>1A 2A 3A 4A</td>\n    </tr>\n    <tr>\n      <th>2</th>\n      <td>Toni Macles</td>\n      <td>0.000000</td>\n      <td>1.000000</td>\n      <td>0.0</td>\n      <td>1</td>\n      <td>1</td>\n      <td>0.707107</td>\n      <td>2</td>\n      <td>0Ra0me60CI5b5HYCIbrLEU</td>\n      <td>4</td>\n      <td>1A 2B 3A 4A</td>\n    </tr>\n    <tr>\n      <th>3</th>\n      <td>Moon Boots</td>\n      <td>0.000000</td>\n      <td>0.666667</td>\n      <td>0.0</td>\n      <td>1</td>\n      <td>2</td>\n      <td>0.500000</td>\n      <td>2</td>\n      <td>3cIXmCH7iNcslTbwrwS7zy</td>\n      <td>2</td>\n      <td>1A 2A 3A 4A</td>\n    </tr>\n    <tr>\n      <th>4</th>\n      <td>Classics IV</td>\n      <td>0.000000</td>\n      <td>1.000000</td>\n      <td>0.0</td>\n      <td>1</td>\n      <td>1</td>\n      <td>0.707107</td>\n      <td>28</td>\n      <td>6XGJvNG372fPJ2TV2OoN0Z</td>\n      <td>4</td>\n      <td>1A 2B 3A 4A</td>\n    </tr>\n    <tr>\n      <th>...</th>\n      <td>...</td>\n      <td>...</td>\n      <td>...</td>\n      <td>...</td>\n      <td>...</td>\n      <td>...</td>\n      <td>...</td>\n      <td>...</td>\n      <td>...</td>\n      <td>...</td>\n      <td>...</td>\n    </tr>\n    <tr>\n      <th>5897</th>\n      <td>Third World</td>\n      <td>0.001314</td>\n      <td>0.115830</td>\n      <td>0.0</td>\n      <td>2</td>\n      <td>16</td>\n      <td>0.000022</td>\n      <td>4</td>\n      <td>6qfKnsgz1CwyqA7lTdieRJ</td>\n      <td>0</td>\n      <td>1A 2A 3A 4A</td>\n    </tr>\n    <tr>\n      <th>5898</th>\n      <td>Cesar Menotti</td>\n      <td>0.000000</td>\n      <td>0.555556</td>\n      <td>0.0</td>\n      <td>1</td>\n      <td>2</td>\n      <td>0.316228</td>\n      <td>2</td>\n      <td>2odOwGoyC7xZryqA1PMo3j</td>\n      <td>2</td>\n      <td>1A 2A 3A 4A</td>\n    </tr>\n    <tr>\n      <th>5899</th>\n      <td>Bobby Freeman</td>\n      <td>0.000000</td>\n      <td>0.000000</td>\n      <td>0.0</td>\n      <td>0</td>\n      <td>0</td>\n      <td>1.000000</td>\n      <td>0</td>\n      <td>5oMWW19j0AXl7Sy4Xn9rmg</td>\n      <td>1</td>\n      <td>1A 2A 3A 4A</td>\n    </tr>\n    <tr>\n      <th>5900</th>\n      <td>Santa's Little Singers</td>\n      <td>0.000000</td>\n      <td>0.000000</td>\n      <td>0.0</td>\n      <td>0</td>\n      <td>0</td>\n      <td>1.000000</td>\n      <td>0</td>\n      <td>2Kl1vWueJ9fZ5HsLluiMxh</td>\n      <td>1</td>\n      <td>1A 2A 3A 4A</td>\n    </tr>\n    <tr>\n      <th>5901</th>\n      <td>Trev Case</td>\n      <td>0.000000</td>\n      <td>0.264706</td>\n      <td>0.0</td>\n      <td>1</td>\n      <td>7</td>\n      <td>0.072783</td>\n      <td>2</td>\n      <td>3vyvetgHkFaehi7Ua4INH2</td>\n      <td>5</td>\n      <td>1A 2A 3A 4A</td>\n    </tr>\n  </tbody>\n</table>\n<p>5902 rows × 11 columns</p>\n</div>"
     },
     "execution_count": 12,
     "metadata": {},
     "output_type": "execute_result"
    }
   ],
   "source": [
    "# Specify the columns\n",
    "columns = ['artist_id', 'artist_name']\n",
    "\n",
    "# Initialize an empty DataFrame\n",
    "df_artists2_test = pd.DataFrame(columns={col: [] for col in columns})\n",
    "\n",
    "count = 0\n",
    "artist_set_test = set()\n",
    "\n",
    "for _, row in test_df.iterrows():\n",
    "    current_artist_id_list = eval(row[\"id_artists\"])\n",
    "    current_artist_name_list = eval(row[\"name_artists\"])\n",
    "    for cur_art_id, cur_art_name in zip(current_artist_id_list, current_artist_name_list):\n",
    "        if cur_art_id not in artist_set_test:\n",
    "            artist_set_test.add(cur_art_id)\n",
    "            df_artists2_test.loc[len(df_artists2_test)] = [cur_art_id, cur_art_name]\n",
    "            count += 1\n",
    "\n",
    "print(\"amount of artists:\", count)\n",
    "df_artists_test"
   ],
   "metadata": {
    "collapsed": false,
    "ExecuteTime": {
     "end_time": "2024-05-06T15:33:45.591249500Z",
     "start_time": "2024-05-06T15:33:38.170232Z"
    }
   },
   "id": "a23f22af5e7f8fd6"
  },
  {
   "cell_type": "code",
   "execution_count": 13,
   "outputs": [
    {
     "name": "stderr",
     "output_type": "stream",
     "text": [
      "C:\\Users\\lasse\\AppData\\Local\\Temp\\ipykernel_23660\\4052572109.py:1: SettingWithCopyWarning: \n",
      "A value is trying to be set on a copy of a slice from a DataFrame.\n",
      "Try using .loc[row_indexer,col_indexer] = value instead\n",
      "\n",
      "See the caveats in the documentation: https://pandas.pydata.org/pandas-docs/stable/user_guide/indexing.html#returning-a-view-versus-a-copy\n",
      "  combined_df.loc[:, \"nr_artists\"] = combined_df[\"id_artists\"].apply(lambda x: len(eval(x)))\n"
     ]
    }
   ],
   "source": [
    "combined_df.loc[:, \"nr_artists\"] = combined_df[\"id_artists\"].apply(lambda x: len(eval(x)))"
   ],
   "metadata": {
    "collapsed": false,
    "ExecuteTime": {
     "end_time": "2024-05-06T15:33:47.231009800Z",
     "start_time": "2024-05-06T15:33:45.593249900Z"
    }
   },
   "id": "ca324c16ad26cb1d"
  },
  {
   "cell_type": "markdown",
   "source": [
    "## Combined Preprocessing:"
   ],
   "metadata": {
    "collapsed": false
   },
   "id": "6e4f53ff057be8f4"
  },
  {
   "cell_type": "code",
   "execution_count": 14,
   "outputs": [
    {
     "data": {
      "text/plain": "                       song_id  \\\n890508  2F2KnlkMvRIQM2phyz1NYh   \n81022   6kZ6EPli1wps476k58QoM3   \n81023   5OK4VpBJf3fsZIqCFJY4F3   \n81021   0fAOmzEJtclHr2iMrhWQHU   \n81029   5Snl4twAgLjf1XRxxFpUwl   \n...                        ...   \n11098   0xAqhyWvTkfcdFgm7dozMO   \n10903   6zhg8TnVKi90ITDzFKwPr0   \n5856    2GvkFSjRXV0Ii3uYnHiQ74   \n5080    0lej8CemYKkWVHg77Xe1ky   \n10666   6Fh2QgjCxL96dA3Gtpfr4Q   \n\n                                                song_name  \\\n890508                                Oh How I Love Jesus   \n81022            Get The Girl Back (Instrumental Version)   \n81023                                    Mamma Knows Best   \n81021                                   Get The Girl Back   \n81029                                       Shakin' Hands   \n...                                                   ...   \n11098             (I Wanna) Testify (Mono Single Version)   \n10903                       Swingtown - Alternate Version   \n5856                                       Take My Advice   \n5080             A Man Holdin' on (To a Woman Lettin’ Go)   \n10666   One Sweet Day (16-Bit Mariah Carey & Boyz II M...   \n\n                                               id_artists  \\\n890508                         ['6CXezToiGS8K6jr9kr8Muv']   \n81022                          ['1WDVM4rBdKu6nHeJ6hQMN9']   \n81023                          ['1WDVM4rBdKu6nHeJ6hQMN9']   \n81021                          ['1WDVM4rBdKu6nHeJ6hQMN9']   \n81029                          ['1WDVM4rBdKu6nHeJ6hQMN9']   \n...                                                   ...   \n11098                          ['1Ve5PoI7i5jIIP1xudo6AB']   \n10903                          ['6QtGlUje9TIkLrgPZrESuk']   \n5856                           ['40PLSl99xXqAQsCQQPmfyM']   \n5080    ['1Fj0R2t4HaJa3oUe8azB8R', '5LDnSV99gbDSsMX3Dc...   \n10666                          ['1v4YnufenjE9BLAfP90qvt']   \n\n                           name_artists  song_popularity  explicit  \\\n890508              ['The Jordanaires']              0.0     False   \n81022              ['2014 Golden Cove']              0.0     False   \n81023              ['2014 Golden Cove']              0.0     False   \n81021              ['2014 Golden Cove']              0.0     False   \n81029              ['2014 Golden Cove']              0.0     False   \n...                                 ...              ...       ...   \n11098               ['The Parliaments']              7.0     False   \n10903             ['Steve Miller Band']             26.0     False   \n5856                       ['Kym Sims']              0.0     False   \n5080    ['Ty Herndon', 'Anita Cochran']             14.0     False   \n10666                 ['Arcade Player']              0.0     False   \n\n            song_type  track_number  num_artists  num_available_markets  ...  \\\n890508           Solo           2.0          1.0                   78.0  ...   \n81022            Solo           2.0          1.0                   79.0  ...   \n81023            Solo           1.0          1.0                   79.0  ...   \n81021            Solo           1.0          1.0                   79.0  ...   \n81029            Solo           1.0          1.0                   79.0  ...   \n...               ...           ...          ...                    ...  ...   \n11098            Solo          10.0          1.0                   79.0  ...   \n10903            Solo           5.0          1.0                   79.0  ...   \n5856             Solo          10.0          1.0                   73.0  ...   \n5080    Collaboration           7.0          2.0                   79.0  ...   \n10666            Solo          27.0          1.0                   79.0  ...   \n\n       energy  instrumentalness  liveness  loudness  speechiness  valence  \\\n890508  0.487          0.000003    0.1090    -8.193       0.0379    0.750   \n81022   0.812          0.869000    0.1800   -13.474       0.0367    0.980   \n81023   0.313          0.103000    0.0901   -10.325       0.0882    0.663   \n81021   0.763          0.000000    0.1790    -8.382       0.0311    0.960   \n81029   0.622          0.000000    0.3140    -9.420       0.0352    0.714   \n...       ...               ...       ...       ...          ...      ...   \n11098   0.702          0.000000    0.0521    -5.750       0.0330    0.754   \n10903   0.764          0.000544    0.2440    -6.662       0.0354    0.439   \n5856    0.814          0.392000    0.0844   -10.396       0.0307    0.803   \n5080    0.429          0.000014    0.1120    -8.619       0.0298    0.237   \n10666   0.405          0.745000    0.1100    -5.559       0.0393    0.313   \n\n          tempo  hit       date  nr_artists  \n890508  185.921  0.0 2014-08-26           1  \n81022   128.957  0.0 2014-08-26           1  \n81023    99.760  0.0 2014-08-26           1  \n81021   128.965  0.0 2014-08-26           1  \n81029   137.973  0.0 2014-08-26           1  \n...         ...  ...        ...         ...  \n11098   105.227  1.0 2019-08-23           1  \n10903   124.557  1.0 2019-08-23           1  \n5856    120.010  1.0 2019-08-23           1  \n5080    128.007  1.0 2019-08-23           2  \n10666   194.933  1.0 2019-08-26           1  \n\n[283464 rows x 27 columns]",
      "text/html": "<div>\n<style scoped>\n    .dataframe tbody tr th:only-of-type {\n        vertical-align: middle;\n    }\n\n    .dataframe tbody tr th {\n        vertical-align: top;\n    }\n\n    .dataframe thead th {\n        text-align: right;\n    }\n</style>\n<table border=\"1\" class=\"dataframe\">\n  <thead>\n    <tr style=\"text-align: right;\">\n      <th></th>\n      <th>song_id</th>\n      <th>song_name</th>\n      <th>id_artists</th>\n      <th>name_artists</th>\n      <th>song_popularity</th>\n      <th>explicit</th>\n      <th>song_type</th>\n      <th>track_number</th>\n      <th>num_artists</th>\n      <th>num_available_markets</th>\n      <th>...</th>\n      <th>energy</th>\n      <th>instrumentalness</th>\n      <th>liveness</th>\n      <th>loudness</th>\n      <th>speechiness</th>\n      <th>valence</th>\n      <th>tempo</th>\n      <th>hit</th>\n      <th>date</th>\n      <th>nr_artists</th>\n    </tr>\n  </thead>\n  <tbody>\n    <tr>\n      <th>890508</th>\n      <td>2F2KnlkMvRIQM2phyz1NYh</td>\n      <td>Oh How I Love Jesus</td>\n      <td>['6CXezToiGS8K6jr9kr8Muv']</td>\n      <td>['The Jordanaires']</td>\n      <td>0.0</td>\n      <td>False</td>\n      <td>Solo</td>\n      <td>2.0</td>\n      <td>1.0</td>\n      <td>78.0</td>\n      <td>...</td>\n      <td>0.487</td>\n      <td>0.000003</td>\n      <td>0.1090</td>\n      <td>-8.193</td>\n      <td>0.0379</td>\n      <td>0.750</td>\n      <td>185.921</td>\n      <td>0.0</td>\n      <td>2014-08-26</td>\n      <td>1</td>\n    </tr>\n    <tr>\n      <th>81022</th>\n      <td>6kZ6EPli1wps476k58QoM3</td>\n      <td>Get The Girl Back (Instrumental Version)</td>\n      <td>['1WDVM4rBdKu6nHeJ6hQMN9']</td>\n      <td>['2014 Golden Cove']</td>\n      <td>0.0</td>\n      <td>False</td>\n      <td>Solo</td>\n      <td>2.0</td>\n      <td>1.0</td>\n      <td>79.0</td>\n      <td>...</td>\n      <td>0.812</td>\n      <td>0.869000</td>\n      <td>0.1800</td>\n      <td>-13.474</td>\n      <td>0.0367</td>\n      <td>0.980</td>\n      <td>128.957</td>\n      <td>0.0</td>\n      <td>2014-08-26</td>\n      <td>1</td>\n    </tr>\n    <tr>\n      <th>81023</th>\n      <td>5OK4VpBJf3fsZIqCFJY4F3</td>\n      <td>Mamma Knows Best</td>\n      <td>['1WDVM4rBdKu6nHeJ6hQMN9']</td>\n      <td>['2014 Golden Cove']</td>\n      <td>0.0</td>\n      <td>False</td>\n      <td>Solo</td>\n      <td>1.0</td>\n      <td>1.0</td>\n      <td>79.0</td>\n      <td>...</td>\n      <td>0.313</td>\n      <td>0.103000</td>\n      <td>0.0901</td>\n      <td>-10.325</td>\n      <td>0.0882</td>\n      <td>0.663</td>\n      <td>99.760</td>\n      <td>0.0</td>\n      <td>2014-08-26</td>\n      <td>1</td>\n    </tr>\n    <tr>\n      <th>81021</th>\n      <td>0fAOmzEJtclHr2iMrhWQHU</td>\n      <td>Get The Girl Back</td>\n      <td>['1WDVM4rBdKu6nHeJ6hQMN9']</td>\n      <td>['2014 Golden Cove']</td>\n      <td>0.0</td>\n      <td>False</td>\n      <td>Solo</td>\n      <td>1.0</td>\n      <td>1.0</td>\n      <td>79.0</td>\n      <td>...</td>\n      <td>0.763</td>\n      <td>0.000000</td>\n      <td>0.1790</td>\n      <td>-8.382</td>\n      <td>0.0311</td>\n      <td>0.960</td>\n      <td>128.965</td>\n      <td>0.0</td>\n      <td>2014-08-26</td>\n      <td>1</td>\n    </tr>\n    <tr>\n      <th>81029</th>\n      <td>5Snl4twAgLjf1XRxxFpUwl</td>\n      <td>Shakin' Hands</td>\n      <td>['1WDVM4rBdKu6nHeJ6hQMN9']</td>\n      <td>['2014 Golden Cove']</td>\n      <td>0.0</td>\n      <td>False</td>\n      <td>Solo</td>\n      <td>1.0</td>\n      <td>1.0</td>\n      <td>79.0</td>\n      <td>...</td>\n      <td>0.622</td>\n      <td>0.000000</td>\n      <td>0.3140</td>\n      <td>-9.420</td>\n      <td>0.0352</td>\n      <td>0.714</td>\n      <td>137.973</td>\n      <td>0.0</td>\n      <td>2014-08-26</td>\n      <td>1</td>\n    </tr>\n    <tr>\n      <th>...</th>\n      <td>...</td>\n      <td>...</td>\n      <td>...</td>\n      <td>...</td>\n      <td>...</td>\n      <td>...</td>\n      <td>...</td>\n      <td>...</td>\n      <td>...</td>\n      <td>...</td>\n      <td>...</td>\n      <td>...</td>\n      <td>...</td>\n      <td>...</td>\n      <td>...</td>\n      <td>...</td>\n      <td>...</td>\n      <td>...</td>\n      <td>...</td>\n      <td>...</td>\n      <td>...</td>\n    </tr>\n    <tr>\n      <th>11098</th>\n      <td>0xAqhyWvTkfcdFgm7dozMO</td>\n      <td>(I Wanna) Testify (Mono Single Version)</td>\n      <td>['1Ve5PoI7i5jIIP1xudo6AB']</td>\n      <td>['The Parliaments']</td>\n      <td>7.0</td>\n      <td>False</td>\n      <td>Solo</td>\n      <td>10.0</td>\n      <td>1.0</td>\n      <td>79.0</td>\n      <td>...</td>\n      <td>0.702</td>\n      <td>0.000000</td>\n      <td>0.0521</td>\n      <td>-5.750</td>\n      <td>0.0330</td>\n      <td>0.754</td>\n      <td>105.227</td>\n      <td>1.0</td>\n      <td>2019-08-23</td>\n      <td>1</td>\n    </tr>\n    <tr>\n      <th>10903</th>\n      <td>6zhg8TnVKi90ITDzFKwPr0</td>\n      <td>Swingtown - Alternate Version</td>\n      <td>['6QtGlUje9TIkLrgPZrESuk']</td>\n      <td>['Steve Miller Band']</td>\n      <td>26.0</td>\n      <td>False</td>\n      <td>Solo</td>\n      <td>5.0</td>\n      <td>1.0</td>\n      <td>79.0</td>\n      <td>...</td>\n      <td>0.764</td>\n      <td>0.000544</td>\n      <td>0.2440</td>\n      <td>-6.662</td>\n      <td>0.0354</td>\n      <td>0.439</td>\n      <td>124.557</td>\n      <td>1.0</td>\n      <td>2019-08-23</td>\n      <td>1</td>\n    </tr>\n    <tr>\n      <th>5856</th>\n      <td>2GvkFSjRXV0Ii3uYnHiQ74</td>\n      <td>Take My Advice</td>\n      <td>['40PLSl99xXqAQsCQQPmfyM']</td>\n      <td>['Kym Sims']</td>\n      <td>0.0</td>\n      <td>False</td>\n      <td>Solo</td>\n      <td>10.0</td>\n      <td>1.0</td>\n      <td>73.0</td>\n      <td>...</td>\n      <td>0.814</td>\n      <td>0.392000</td>\n      <td>0.0844</td>\n      <td>-10.396</td>\n      <td>0.0307</td>\n      <td>0.803</td>\n      <td>120.010</td>\n      <td>1.0</td>\n      <td>2019-08-23</td>\n      <td>1</td>\n    </tr>\n    <tr>\n      <th>5080</th>\n      <td>0lej8CemYKkWVHg77Xe1ky</td>\n      <td>A Man Holdin' on (To a Woman Lettin’ Go)</td>\n      <td>['1Fj0R2t4HaJa3oUe8azB8R', '5LDnSV99gbDSsMX3Dc...</td>\n      <td>['Ty Herndon', 'Anita Cochran']</td>\n      <td>14.0</td>\n      <td>False</td>\n      <td>Collaboration</td>\n      <td>7.0</td>\n      <td>2.0</td>\n      <td>79.0</td>\n      <td>...</td>\n      <td>0.429</td>\n      <td>0.000014</td>\n      <td>0.1120</td>\n      <td>-8.619</td>\n      <td>0.0298</td>\n      <td>0.237</td>\n      <td>128.007</td>\n      <td>1.0</td>\n      <td>2019-08-23</td>\n      <td>2</td>\n    </tr>\n    <tr>\n      <th>10666</th>\n      <td>6Fh2QgjCxL96dA3Gtpfr4Q</td>\n      <td>One Sweet Day (16-Bit Mariah Carey &amp; Boyz II M...</td>\n      <td>['1v4YnufenjE9BLAfP90qvt']</td>\n      <td>['Arcade Player']</td>\n      <td>0.0</td>\n      <td>False</td>\n      <td>Solo</td>\n      <td>27.0</td>\n      <td>1.0</td>\n      <td>79.0</td>\n      <td>...</td>\n      <td>0.405</td>\n      <td>0.745000</td>\n      <td>0.1100</td>\n      <td>-5.559</td>\n      <td>0.0393</td>\n      <td>0.313</td>\n      <td>194.933</td>\n      <td>1.0</td>\n      <td>2019-08-26</td>\n      <td>1</td>\n    </tr>\n  </tbody>\n</table>\n<p>283464 rows × 27 columns</p>\n</div>"
     },
     "execution_count": 14,
     "metadata": {},
     "output_type": "execute_result"
    }
   ],
   "source": [
    "combined_df = combined_df[(combined_df[\"nr_artists\"] <= 2)]\n",
    "combined_df.rename(columns={\"popularity\" : \"song_popularity\"}, inplace=True)\n",
    "combined_df"
   ],
   "metadata": {
    "collapsed": false,
    "ExecuteTime": {
     "end_time": "2024-05-06T15:33:47.497009800Z",
     "start_time": "2024-05-06T15:33:47.234012300Z"
    }
   },
   "id": "2f90abb0b1f33561"
  },
  {
   "cell_type": "code",
   "execution_count": 15,
   "outputs": [
    {
     "data": {
      "text/plain": "                       song_id  \\\n890508  2F2KnlkMvRIQM2phyz1NYh   \n81022   6kZ6EPli1wps476k58QoM3   \n81023   5OK4VpBJf3fsZIqCFJY4F3   \n81021   0fAOmzEJtclHr2iMrhWQHU   \n81029   5Snl4twAgLjf1XRxxFpUwl   \n...                        ...   \n11098   0xAqhyWvTkfcdFgm7dozMO   \n10903   6zhg8TnVKi90ITDzFKwPr0   \n5856    2GvkFSjRXV0Ii3uYnHiQ74   \n5080    0lej8CemYKkWVHg77Xe1ky   \n10666   6Fh2QgjCxL96dA3Gtpfr4Q   \n\n                                                song_name  \\\n890508                                Oh How I Love Jesus   \n81022            Get The Girl Back (Instrumental Version)   \n81023                                    Mamma Knows Best   \n81021                                   Get The Girl Back   \n81029                                       Shakin' Hands   \n...                                                   ...   \n11098             (I Wanna) Testify (Mono Single Version)   \n10903                       Swingtown - Alternate Version   \n5856                                       Take My Advice   \n5080             A Man Holdin' on (To a Woman Lettin’ Go)   \n10666   One Sweet Day (16-Bit Mariah Carey & Boyz II M...   \n\n                                               id_artists  \\\n890508                         ['6CXezToiGS8K6jr9kr8Muv']   \n81022                          ['1WDVM4rBdKu6nHeJ6hQMN9']   \n81023                          ['1WDVM4rBdKu6nHeJ6hQMN9']   \n81021                          ['1WDVM4rBdKu6nHeJ6hQMN9']   \n81029                          ['1WDVM4rBdKu6nHeJ6hQMN9']   \n...                                                   ...   \n11098                          ['1Ve5PoI7i5jIIP1xudo6AB']   \n10903                          ['6QtGlUje9TIkLrgPZrESuk']   \n5856                           ['40PLSl99xXqAQsCQQPmfyM']   \n5080    ['1Fj0R2t4HaJa3oUe8azB8R', '5LDnSV99gbDSsMX3Dc...   \n10666                          ['1v4YnufenjE9BLAfP90qvt']   \n\n                           name_artists  song_popularity  explicit  \\\n890508              ['The Jordanaires']              0.0     False   \n81022              ['2014 Golden Cove']              0.0     False   \n81023              ['2014 Golden Cove']              0.0     False   \n81021              ['2014 Golden Cove']              0.0     False   \n81029              ['2014 Golden Cove']              0.0     False   \n...                                 ...              ...       ...   \n11098               ['The Parliaments']              7.0     False   \n10903             ['Steve Miller Band']             26.0     False   \n5856                       ['Kym Sims']              0.0     False   \n5080    ['Ty Herndon', 'Anita Cochran']             14.0     False   \n10666                 ['Arcade Player']              0.0     False   \n\n            song_type  track_number  num_artists  num_available_markets  ...  \\\n890508           Solo           2.0          1.0                   78.0  ...   \n81022            Solo           2.0          1.0                   79.0  ...   \n81023            Solo           1.0          1.0                   79.0  ...   \n81021            Solo           1.0          1.0                   79.0  ...   \n81029            Solo           1.0          1.0                   79.0  ...   \n...               ...           ...          ...                    ...  ...   \n11098            Solo          10.0          1.0                   79.0  ...   \n10903            Solo           5.0          1.0                   79.0  ...   \n5856             Solo          10.0          1.0                   73.0  ...   \n5080    Collaboration           7.0          2.0                   79.0  ...   \n10666            Solo          27.0          1.0                   79.0  ...   \n\n       liveness  loudness  speechiness  valence    tempo  hit       date  \\\n890508   0.1090    -8.193       0.0379    0.750  185.921  0.0 2014-08-26   \n81022    0.1800   -13.474       0.0367    0.980  128.957  0.0 2014-08-26   \n81023    0.0901   -10.325       0.0882    0.663   99.760  0.0 2014-08-26   \n81021    0.1790    -8.382       0.0311    0.960  128.965  0.0 2014-08-26   \n81029    0.3140    -9.420       0.0352    0.714  137.973  0.0 2014-08-26   \n...         ...       ...          ...      ...      ...  ...        ...   \n11098    0.0521    -5.750       0.0330    0.754  105.227  1.0 2019-08-23   \n10903    0.2440    -6.662       0.0354    0.439  124.557  1.0 2019-08-23   \n5856     0.0844   -10.396       0.0307    0.803  120.010  1.0 2019-08-23   \n5080     0.1120    -8.619       0.0298    0.237  128.007  1.0 2019-08-23   \n10666    0.1100    -5.559       0.0393    0.313  194.933  1.0 2019-08-26   \n\n        nr_artists              artist1_id              artist2_id  \n890508           1  6CXezToiGS8K6jr9kr8Muv                          \n81022            1  1WDVM4rBdKu6nHeJ6hQMN9                          \n81023            1  1WDVM4rBdKu6nHeJ6hQMN9                          \n81021            1  1WDVM4rBdKu6nHeJ6hQMN9                          \n81029            1  1WDVM4rBdKu6nHeJ6hQMN9                          \n...            ...                     ...                     ...  \n11098            1  1Ve5PoI7i5jIIP1xudo6AB                          \n10903            1  6QtGlUje9TIkLrgPZrESuk                          \n5856             1  40PLSl99xXqAQsCQQPmfyM                          \n5080             2  1Fj0R2t4HaJa3oUe8azB8R  5LDnSV99gbDSsMX3Dcer2b  \n10666            1  1v4YnufenjE9BLAfP90qvt                          \n\n[283464 rows x 29 columns]",
      "text/html": "<div>\n<style scoped>\n    .dataframe tbody tr th:only-of-type {\n        vertical-align: middle;\n    }\n\n    .dataframe tbody tr th {\n        vertical-align: top;\n    }\n\n    .dataframe thead th {\n        text-align: right;\n    }\n</style>\n<table border=\"1\" class=\"dataframe\">\n  <thead>\n    <tr style=\"text-align: right;\">\n      <th></th>\n      <th>song_id</th>\n      <th>song_name</th>\n      <th>id_artists</th>\n      <th>name_artists</th>\n      <th>song_popularity</th>\n      <th>explicit</th>\n      <th>song_type</th>\n      <th>track_number</th>\n      <th>num_artists</th>\n      <th>num_available_markets</th>\n      <th>...</th>\n      <th>liveness</th>\n      <th>loudness</th>\n      <th>speechiness</th>\n      <th>valence</th>\n      <th>tempo</th>\n      <th>hit</th>\n      <th>date</th>\n      <th>nr_artists</th>\n      <th>artist1_id</th>\n      <th>artist2_id</th>\n    </tr>\n  </thead>\n  <tbody>\n    <tr>\n      <th>890508</th>\n      <td>2F2KnlkMvRIQM2phyz1NYh</td>\n      <td>Oh How I Love Jesus</td>\n      <td>['6CXezToiGS8K6jr9kr8Muv']</td>\n      <td>['The Jordanaires']</td>\n      <td>0.0</td>\n      <td>False</td>\n      <td>Solo</td>\n      <td>2.0</td>\n      <td>1.0</td>\n      <td>78.0</td>\n      <td>...</td>\n      <td>0.1090</td>\n      <td>-8.193</td>\n      <td>0.0379</td>\n      <td>0.750</td>\n      <td>185.921</td>\n      <td>0.0</td>\n      <td>2014-08-26</td>\n      <td>1</td>\n      <td>6CXezToiGS8K6jr9kr8Muv</td>\n      <td></td>\n    </tr>\n    <tr>\n      <th>81022</th>\n      <td>6kZ6EPli1wps476k58QoM3</td>\n      <td>Get The Girl Back (Instrumental Version)</td>\n      <td>['1WDVM4rBdKu6nHeJ6hQMN9']</td>\n      <td>['2014 Golden Cove']</td>\n      <td>0.0</td>\n      <td>False</td>\n      <td>Solo</td>\n      <td>2.0</td>\n      <td>1.0</td>\n      <td>79.0</td>\n      <td>...</td>\n      <td>0.1800</td>\n      <td>-13.474</td>\n      <td>0.0367</td>\n      <td>0.980</td>\n      <td>128.957</td>\n      <td>0.0</td>\n      <td>2014-08-26</td>\n      <td>1</td>\n      <td>1WDVM4rBdKu6nHeJ6hQMN9</td>\n      <td></td>\n    </tr>\n    <tr>\n      <th>81023</th>\n      <td>5OK4VpBJf3fsZIqCFJY4F3</td>\n      <td>Mamma Knows Best</td>\n      <td>['1WDVM4rBdKu6nHeJ6hQMN9']</td>\n      <td>['2014 Golden Cove']</td>\n      <td>0.0</td>\n      <td>False</td>\n      <td>Solo</td>\n      <td>1.0</td>\n      <td>1.0</td>\n      <td>79.0</td>\n      <td>...</td>\n      <td>0.0901</td>\n      <td>-10.325</td>\n      <td>0.0882</td>\n      <td>0.663</td>\n      <td>99.760</td>\n      <td>0.0</td>\n      <td>2014-08-26</td>\n      <td>1</td>\n      <td>1WDVM4rBdKu6nHeJ6hQMN9</td>\n      <td></td>\n    </tr>\n    <tr>\n      <th>81021</th>\n      <td>0fAOmzEJtclHr2iMrhWQHU</td>\n      <td>Get The Girl Back</td>\n      <td>['1WDVM4rBdKu6nHeJ6hQMN9']</td>\n      <td>['2014 Golden Cove']</td>\n      <td>0.0</td>\n      <td>False</td>\n      <td>Solo</td>\n      <td>1.0</td>\n      <td>1.0</td>\n      <td>79.0</td>\n      <td>...</td>\n      <td>0.1790</td>\n      <td>-8.382</td>\n      <td>0.0311</td>\n      <td>0.960</td>\n      <td>128.965</td>\n      <td>0.0</td>\n      <td>2014-08-26</td>\n      <td>1</td>\n      <td>1WDVM4rBdKu6nHeJ6hQMN9</td>\n      <td></td>\n    </tr>\n    <tr>\n      <th>81029</th>\n      <td>5Snl4twAgLjf1XRxxFpUwl</td>\n      <td>Shakin' Hands</td>\n      <td>['1WDVM4rBdKu6nHeJ6hQMN9']</td>\n      <td>['2014 Golden Cove']</td>\n      <td>0.0</td>\n      <td>False</td>\n      <td>Solo</td>\n      <td>1.0</td>\n      <td>1.0</td>\n      <td>79.0</td>\n      <td>...</td>\n      <td>0.3140</td>\n      <td>-9.420</td>\n      <td>0.0352</td>\n      <td>0.714</td>\n      <td>137.973</td>\n      <td>0.0</td>\n      <td>2014-08-26</td>\n      <td>1</td>\n      <td>1WDVM4rBdKu6nHeJ6hQMN9</td>\n      <td></td>\n    </tr>\n    <tr>\n      <th>...</th>\n      <td>...</td>\n      <td>...</td>\n      <td>...</td>\n      <td>...</td>\n      <td>...</td>\n      <td>...</td>\n      <td>...</td>\n      <td>...</td>\n      <td>...</td>\n      <td>...</td>\n      <td>...</td>\n      <td>...</td>\n      <td>...</td>\n      <td>...</td>\n      <td>...</td>\n      <td>...</td>\n      <td>...</td>\n      <td>...</td>\n      <td>...</td>\n      <td>...</td>\n      <td>...</td>\n    </tr>\n    <tr>\n      <th>11098</th>\n      <td>0xAqhyWvTkfcdFgm7dozMO</td>\n      <td>(I Wanna) Testify (Mono Single Version)</td>\n      <td>['1Ve5PoI7i5jIIP1xudo6AB']</td>\n      <td>['The Parliaments']</td>\n      <td>7.0</td>\n      <td>False</td>\n      <td>Solo</td>\n      <td>10.0</td>\n      <td>1.0</td>\n      <td>79.0</td>\n      <td>...</td>\n      <td>0.0521</td>\n      <td>-5.750</td>\n      <td>0.0330</td>\n      <td>0.754</td>\n      <td>105.227</td>\n      <td>1.0</td>\n      <td>2019-08-23</td>\n      <td>1</td>\n      <td>1Ve5PoI7i5jIIP1xudo6AB</td>\n      <td></td>\n    </tr>\n    <tr>\n      <th>10903</th>\n      <td>6zhg8TnVKi90ITDzFKwPr0</td>\n      <td>Swingtown - Alternate Version</td>\n      <td>['6QtGlUje9TIkLrgPZrESuk']</td>\n      <td>['Steve Miller Band']</td>\n      <td>26.0</td>\n      <td>False</td>\n      <td>Solo</td>\n      <td>5.0</td>\n      <td>1.0</td>\n      <td>79.0</td>\n      <td>...</td>\n      <td>0.2440</td>\n      <td>-6.662</td>\n      <td>0.0354</td>\n      <td>0.439</td>\n      <td>124.557</td>\n      <td>1.0</td>\n      <td>2019-08-23</td>\n      <td>1</td>\n      <td>6QtGlUje9TIkLrgPZrESuk</td>\n      <td></td>\n    </tr>\n    <tr>\n      <th>5856</th>\n      <td>2GvkFSjRXV0Ii3uYnHiQ74</td>\n      <td>Take My Advice</td>\n      <td>['40PLSl99xXqAQsCQQPmfyM']</td>\n      <td>['Kym Sims']</td>\n      <td>0.0</td>\n      <td>False</td>\n      <td>Solo</td>\n      <td>10.0</td>\n      <td>1.0</td>\n      <td>73.0</td>\n      <td>...</td>\n      <td>0.0844</td>\n      <td>-10.396</td>\n      <td>0.0307</td>\n      <td>0.803</td>\n      <td>120.010</td>\n      <td>1.0</td>\n      <td>2019-08-23</td>\n      <td>1</td>\n      <td>40PLSl99xXqAQsCQQPmfyM</td>\n      <td></td>\n    </tr>\n    <tr>\n      <th>5080</th>\n      <td>0lej8CemYKkWVHg77Xe1ky</td>\n      <td>A Man Holdin' on (To a Woman Lettin’ Go)</td>\n      <td>['1Fj0R2t4HaJa3oUe8azB8R', '5LDnSV99gbDSsMX3Dc...</td>\n      <td>['Ty Herndon', 'Anita Cochran']</td>\n      <td>14.0</td>\n      <td>False</td>\n      <td>Collaboration</td>\n      <td>7.0</td>\n      <td>2.0</td>\n      <td>79.0</td>\n      <td>...</td>\n      <td>0.1120</td>\n      <td>-8.619</td>\n      <td>0.0298</td>\n      <td>0.237</td>\n      <td>128.007</td>\n      <td>1.0</td>\n      <td>2019-08-23</td>\n      <td>2</td>\n      <td>1Fj0R2t4HaJa3oUe8azB8R</td>\n      <td>5LDnSV99gbDSsMX3Dcer2b</td>\n    </tr>\n    <tr>\n      <th>10666</th>\n      <td>6Fh2QgjCxL96dA3Gtpfr4Q</td>\n      <td>One Sweet Day (16-Bit Mariah Carey &amp; Boyz II M...</td>\n      <td>['1v4YnufenjE9BLAfP90qvt']</td>\n      <td>['Arcade Player']</td>\n      <td>0.0</td>\n      <td>False</td>\n      <td>Solo</td>\n      <td>27.0</td>\n      <td>1.0</td>\n      <td>79.0</td>\n      <td>...</td>\n      <td>0.1100</td>\n      <td>-5.559</td>\n      <td>0.0393</td>\n      <td>0.313</td>\n      <td>194.933</td>\n      <td>1.0</td>\n      <td>2019-08-26</td>\n      <td>1</td>\n      <td>1v4YnufenjE9BLAfP90qvt</td>\n      <td></td>\n    </tr>\n  </tbody>\n</table>\n<p>283464 rows × 29 columns</p>\n</div>"
     },
     "execution_count": 15,
     "metadata": {},
     "output_type": "execute_result"
    }
   ],
   "source": [
    "# Initialize the new columns\n",
    "combined_df[\"artist1_id\"] = ''\n",
    "combined_df[\"artist2_id\"] = ''\n",
    "\n",
    "for idx, row in combined_df.iterrows():\n",
    "    key_list = eval(row[\"id_artists\"])\n",
    "    for i, item in enumerate(key_list):\n",
    "        combined_df.loc[idx, f\"artist{i+1}_id\"] = item\n",
    "\n",
    "# Display the DataFrame\n",
    "combined_df"
   ],
   "metadata": {
    "collapsed": false,
    "ExecuteTime": {
     "end_time": "2024-05-06T15:34:48.721008300Z",
     "start_time": "2024-05-06T15:33:47.499010400Z"
    }
   },
   "id": "6d740e8cded6b24e"
  },
  {
   "cell_type": "code",
   "execution_count": 16,
   "outputs": [],
   "source": [
    "from sklearn.model_selection import train_test_split\n",
    "combined_df['date'] = pd.to_datetime(combined_df['release_date'])\n",
    "combined_df.sort_values(by=\"date\", inplace=True)\n",
    "\n",
    "split_day = combined_df[\"date\"].iloc[-1]  - pd.DateOffset(years=1)\n",
    "train_df = combined_df[(combined_df[\"date\"]  < split_day)].copy()\n",
    "test_df = combined_df[(combined_df[\"date\"]  >= split_day)].copy()\n",
    "#train_df, test_df = train_test_split(combined_df, test_size=0.25, shuffle=False)\n",
    "train_df.drop(columns=\"date\", inplace=True)\n",
    "test_df.drop(columns=\"date\", inplace=True)"
   ],
   "metadata": {
    "collapsed": false,
    "ExecuteTime": {
     "end_time": "2024-05-06T15:34:49.065009400Z",
     "start_time": "2024-05-06T15:34:48.724009300Z"
    }
   },
   "id": "23ae4f465547b77e"
  },
  {
   "cell_type": "code",
   "execution_count": 17,
   "outputs": [
    {
     "data": {
      "text/plain": "                       song_id                                  song_name  \\\n0       2F2KnlkMvRIQM2phyz1NYh                        Oh How I Love Jesus   \n1       2P1HvXKbTX6oR4pPg3yvh8            When It Hurts (Karaoke Version)   \n2       1tJQJbGBZew4782EYw9lnS  Love Never Felt So Good (Karaoke Version)   \n3       1YF8Nw7yjdTq36RLQqxExY                Too Close (Karaoke Version)   \n4       5k4iLtspS2VUrYXoFfKCx6           Marilyn Monroe (Karaoke Version)   \n...                        ...                                        ...   \n229209  1Lqh2RUDCEtf689GKUCjfV                              Radio Silence   \n229210  5bIRQuUgZqBSODQrJiMKEw                                   The Wave   \n229211  1dmmZ4gkN8U6fYT8cOqAPE                                Eyes Closed   \n229212  4bTloyC3SUOjBl3ta3DajW                Twinkle Twinkle Little Star   \n229213  6nwTFMOX67WyTNCDCy9e5O                              Hold On Tight   \n\n        song_popularity  explicit      song_type  track_number  num_artists  \\\n0                   0.0     False           Solo           2.0          1.0   \n1                   0.0     False           Solo          18.0          1.0   \n2                   0.0     False           Solo           1.0          1.0   \n3                   0.0     False           Solo          19.0          1.0   \n4                   0.0     False           Solo           9.0          1.0   \n...                 ...       ...            ...           ...          ...   \n229209             39.0     False  Collaboration           3.0          2.0   \n229210             42.0     False  Collaboration           2.0          2.0   \n229211             37.0     False           Solo           1.0          1.0   \n229212              0.0     False           Solo          20.0          1.0   \n229213             40.0     False  Collaboration           5.0          2.0   \n\n        num_available_markets release_date  duration_ms  ...  \\\n0                        78.0   2014-08-26     127760.0  ...   \n1                        79.0   2014-08-26     191375.0  ...   \n2                        79.0   2014-08-26     242858.0  ...   \n3                        79.0   2014-08-26     249377.0  ...   \n4                        79.0   2014-08-26     266691.0  ...   \n...                       ...          ...          ...  ...   \n229209                   75.0   2018-08-25     138913.0  ...   \n229210                   75.0   2018-08-25     158062.0  ...   \n229211                   75.0   2018-08-25     110915.0  ...   \n229212                   79.0   2018-08-25     134928.0  ...   \n229213                   75.0   2018-08-25     189943.0  ...   \n\n                   name_y  betweenesscentrality_y  closnesscentrality_y  \\\n0                                             0.0              0.000000   \n1                                             0.0              0.000000   \n2                                             0.0              0.000000   \n3                                             0.0              0.000000   \n4                                             0.0              0.000000   \n...                   ...                     ...                   ...   \n229209      Jocelyn Alice                     0.0              0.181145   \n229210  Lia Marie Johnson                     0.0              0.181145   \n229211                                        0.0              0.000000   \n229212                                        0.0              0.000000   \n229213      Conor Maynard                     0.0              0.181145   \n\n        clustering_y  degree_y  eccentricity_y  eigencentrality_y  \\\n0                0.0       0.0             0.0           0.000000   \n1                0.0       0.0             0.0           0.000000   \n2                0.0       0.0             0.0           0.000000   \n3                0.0       0.0             0.0           0.000000   \n4                0.0       0.0             0.0           0.000000   \n...              ...       ...             ...                ...   \n229209           0.0       1.0            12.0           0.000617   \n229210           0.0       1.0            12.0           0.000617   \n229211           0.0       0.0             0.0           0.000000   \n229212           0.0       0.0             0.0           0.000000   \n229213           0.0       1.0            12.0           0.000617   \n\n        weighted degree_y  Cluster_y    profile_y  \n0                     0.0       -1.0     No Match  \n1                     0.0       -1.0     No Match  \n2                     0.0       -1.0     No Match  \n3                     0.0       -1.0     No Match  \n4                     0.0       -1.0     No Match  \n...                   ...        ...          ...  \n229209                4.0        1.0  1A 2A 3A 4A  \n229210                4.0        1.0  1A 2A 3A 4A  \n229211                0.0       -1.0     No Match  \n229212                0.0       -1.0     No Match  \n229213                4.0        1.0  1A 2A 3A 4A  \n\n[229214 rows x 46 columns]",
      "text/html": "<div>\n<style scoped>\n    .dataframe tbody tr th:only-of-type {\n        vertical-align: middle;\n    }\n\n    .dataframe tbody tr th {\n        vertical-align: top;\n    }\n\n    .dataframe thead th {\n        text-align: right;\n    }\n</style>\n<table border=\"1\" class=\"dataframe\">\n  <thead>\n    <tr style=\"text-align: right;\">\n      <th></th>\n      <th>song_id</th>\n      <th>song_name</th>\n      <th>song_popularity</th>\n      <th>explicit</th>\n      <th>song_type</th>\n      <th>track_number</th>\n      <th>num_artists</th>\n      <th>num_available_markets</th>\n      <th>release_date</th>\n      <th>duration_ms</th>\n      <th>...</th>\n      <th>name_y</th>\n      <th>betweenesscentrality_y</th>\n      <th>closnesscentrality_y</th>\n      <th>clustering_y</th>\n      <th>degree_y</th>\n      <th>eccentricity_y</th>\n      <th>eigencentrality_y</th>\n      <th>weighted degree_y</th>\n      <th>Cluster_y</th>\n      <th>profile_y</th>\n    </tr>\n  </thead>\n  <tbody>\n    <tr>\n      <th>0</th>\n      <td>2F2KnlkMvRIQM2phyz1NYh</td>\n      <td>Oh How I Love Jesus</td>\n      <td>0.0</td>\n      <td>False</td>\n      <td>Solo</td>\n      <td>2.0</td>\n      <td>1.0</td>\n      <td>78.0</td>\n      <td>2014-08-26</td>\n      <td>127760.0</td>\n      <td>...</td>\n      <td></td>\n      <td>0.0</td>\n      <td>0.000000</td>\n      <td>0.0</td>\n      <td>0.0</td>\n      <td>0.0</td>\n      <td>0.000000</td>\n      <td>0.0</td>\n      <td>-1.0</td>\n      <td>No Match</td>\n    </tr>\n    <tr>\n      <th>1</th>\n      <td>2P1HvXKbTX6oR4pPg3yvh8</td>\n      <td>When It Hurts (Karaoke Version)</td>\n      <td>0.0</td>\n      <td>False</td>\n      <td>Solo</td>\n      <td>18.0</td>\n      <td>1.0</td>\n      <td>79.0</td>\n      <td>2014-08-26</td>\n      <td>191375.0</td>\n      <td>...</td>\n      <td></td>\n      <td>0.0</td>\n      <td>0.000000</td>\n      <td>0.0</td>\n      <td>0.0</td>\n      <td>0.0</td>\n      <td>0.000000</td>\n      <td>0.0</td>\n      <td>-1.0</td>\n      <td>No Match</td>\n    </tr>\n    <tr>\n      <th>2</th>\n      <td>1tJQJbGBZew4782EYw9lnS</td>\n      <td>Love Never Felt So Good (Karaoke Version)</td>\n      <td>0.0</td>\n      <td>False</td>\n      <td>Solo</td>\n      <td>1.0</td>\n      <td>1.0</td>\n      <td>79.0</td>\n      <td>2014-08-26</td>\n      <td>242858.0</td>\n      <td>...</td>\n      <td></td>\n      <td>0.0</td>\n      <td>0.000000</td>\n      <td>0.0</td>\n      <td>0.0</td>\n      <td>0.0</td>\n      <td>0.000000</td>\n      <td>0.0</td>\n      <td>-1.0</td>\n      <td>No Match</td>\n    </tr>\n    <tr>\n      <th>3</th>\n      <td>1YF8Nw7yjdTq36RLQqxExY</td>\n      <td>Too Close (Karaoke Version)</td>\n      <td>0.0</td>\n      <td>False</td>\n      <td>Solo</td>\n      <td>19.0</td>\n      <td>1.0</td>\n      <td>79.0</td>\n      <td>2014-08-26</td>\n      <td>249377.0</td>\n      <td>...</td>\n      <td></td>\n      <td>0.0</td>\n      <td>0.000000</td>\n      <td>0.0</td>\n      <td>0.0</td>\n      <td>0.0</td>\n      <td>0.000000</td>\n      <td>0.0</td>\n      <td>-1.0</td>\n      <td>No Match</td>\n    </tr>\n    <tr>\n      <th>4</th>\n      <td>5k4iLtspS2VUrYXoFfKCx6</td>\n      <td>Marilyn Monroe (Karaoke Version)</td>\n      <td>0.0</td>\n      <td>False</td>\n      <td>Solo</td>\n      <td>9.0</td>\n      <td>1.0</td>\n      <td>79.0</td>\n      <td>2014-08-26</td>\n      <td>266691.0</td>\n      <td>...</td>\n      <td></td>\n      <td>0.0</td>\n      <td>0.000000</td>\n      <td>0.0</td>\n      <td>0.0</td>\n      <td>0.0</td>\n      <td>0.000000</td>\n      <td>0.0</td>\n      <td>-1.0</td>\n      <td>No Match</td>\n    </tr>\n    <tr>\n      <th>...</th>\n      <td>...</td>\n      <td>...</td>\n      <td>...</td>\n      <td>...</td>\n      <td>...</td>\n      <td>...</td>\n      <td>...</td>\n      <td>...</td>\n      <td>...</td>\n      <td>...</td>\n      <td>...</td>\n      <td>...</td>\n      <td>...</td>\n      <td>...</td>\n      <td>...</td>\n      <td>...</td>\n      <td>...</td>\n      <td>...</td>\n      <td>...</td>\n      <td>...</td>\n      <td>...</td>\n    </tr>\n    <tr>\n      <th>229209</th>\n      <td>1Lqh2RUDCEtf689GKUCjfV</td>\n      <td>Radio Silence</td>\n      <td>39.0</td>\n      <td>False</td>\n      <td>Collaboration</td>\n      <td>3.0</td>\n      <td>2.0</td>\n      <td>75.0</td>\n      <td>2018-08-25</td>\n      <td>138913.0</td>\n      <td>...</td>\n      <td>Jocelyn Alice</td>\n      <td>0.0</td>\n      <td>0.181145</td>\n      <td>0.0</td>\n      <td>1.0</td>\n      <td>12.0</td>\n      <td>0.000617</td>\n      <td>4.0</td>\n      <td>1.0</td>\n      <td>1A 2A 3A 4A</td>\n    </tr>\n    <tr>\n      <th>229210</th>\n      <td>5bIRQuUgZqBSODQrJiMKEw</td>\n      <td>The Wave</td>\n      <td>42.0</td>\n      <td>False</td>\n      <td>Collaboration</td>\n      <td>2.0</td>\n      <td>2.0</td>\n      <td>75.0</td>\n      <td>2018-08-25</td>\n      <td>158062.0</td>\n      <td>...</td>\n      <td>Lia Marie Johnson</td>\n      <td>0.0</td>\n      <td>0.181145</td>\n      <td>0.0</td>\n      <td>1.0</td>\n      <td>12.0</td>\n      <td>0.000617</td>\n      <td>4.0</td>\n      <td>1.0</td>\n      <td>1A 2A 3A 4A</td>\n    </tr>\n    <tr>\n      <th>229211</th>\n      <td>1dmmZ4gkN8U6fYT8cOqAPE</td>\n      <td>Eyes Closed</td>\n      <td>37.0</td>\n      <td>False</td>\n      <td>Solo</td>\n      <td>1.0</td>\n      <td>1.0</td>\n      <td>75.0</td>\n      <td>2018-08-25</td>\n      <td>110915.0</td>\n      <td>...</td>\n      <td></td>\n      <td>0.0</td>\n      <td>0.000000</td>\n      <td>0.0</td>\n      <td>0.0</td>\n      <td>0.0</td>\n      <td>0.000000</td>\n      <td>0.0</td>\n      <td>-1.0</td>\n      <td>No Match</td>\n    </tr>\n    <tr>\n      <th>229212</th>\n      <td>4bTloyC3SUOjBl3ta3DajW</td>\n      <td>Twinkle Twinkle Little Star</td>\n      <td>0.0</td>\n      <td>False</td>\n      <td>Solo</td>\n      <td>20.0</td>\n      <td>1.0</td>\n      <td>79.0</td>\n      <td>2018-08-25</td>\n      <td>134928.0</td>\n      <td>...</td>\n      <td></td>\n      <td>0.0</td>\n      <td>0.000000</td>\n      <td>0.0</td>\n      <td>0.0</td>\n      <td>0.0</td>\n      <td>0.000000</td>\n      <td>0.0</td>\n      <td>-1.0</td>\n      <td>No Match</td>\n    </tr>\n    <tr>\n      <th>229213</th>\n      <td>6nwTFMOX67WyTNCDCy9e5O</td>\n      <td>Hold On Tight</td>\n      <td>40.0</td>\n      <td>False</td>\n      <td>Collaboration</td>\n      <td>5.0</td>\n      <td>2.0</td>\n      <td>75.0</td>\n      <td>2018-08-25</td>\n      <td>189943.0</td>\n      <td>...</td>\n      <td>Conor Maynard</td>\n      <td>0.0</td>\n      <td>0.181145</td>\n      <td>0.0</td>\n      <td>1.0</td>\n      <td>12.0</td>\n      <td>0.000617</td>\n      <td>4.0</td>\n      <td>1.0</td>\n      <td>1A 2A 3A 4A</td>\n    </tr>\n  </tbody>\n</table>\n<p>229214 rows × 46 columns</p>\n</div>"
     },
     "execution_count": 17,
     "metadata": {},
     "output_type": "execute_result"
    }
   ],
   "source": [
    "data_train = pd.merge(train_df, df_artists_train, left_on=\"artist1_id\", right_on=\"Spotify ID\", how=\"left\")\n",
    "default = {\n",
    "    'eigencentrality': 0,\n",
    "    'name': '',\n",
    "    # 'genres': \"\",\n",
    "    'eccentricity': 0,\n",
    "    'degree': 0,\n",
    "    'clustering': 0,\n",
    "    'closnesscentrality': 0,\n",
    "    'weighted degree': 0,\n",
    "    'betweenesscentrality': 0,\n",
    "    'Spotify ID': '',\n",
    "    'Cluster': -1,\n",
    "    'profile': \"No Match\"\n",
    "}\n",
    "\n",
    "default_y = {\n",
    "    'eigencentrality_y': 0,\n",
    "    'popularity_y': 0,\n",
    "    'name_y': '',\n",
    "    'eccentricity_y': 0,\n",
    "    'degree_y': 0,\n",
    "    'clustering_y': 0,\n",
    "    'closnesscentrality_y': 0,\n",
    "    'weighted degree_y': 0,\n",
    "    'betweenesscentrality_y': 0,\n",
    "    'Spotify ID_y': '',\n",
    "    'Cluster_y': -1,\n",
    "    'profile_y': \"No Match\"\n",
    "}\n",
    "\n",
    "# Fill NaN values with default values\n",
    "data_train.fillna(default, inplace=True)\n",
    "data_train = pd.merge(data_train, df_artists_train, left_on=\"artist2_id\", right_on=\"Spotify ID\", how=\"left\")\n",
    "data_train.fillna(default_y, inplace=True)\n",
    "data_train.drop(columns=[\"name_artists\", 'id_artists', \"Spotify ID_x\", \"Spotify ID_y\"], inplace=True)\n",
    "data_train"
   ],
   "metadata": {
    "collapsed": false,
    "ExecuteTime": {
     "end_time": "2024-05-06T15:34:49.769011Z",
     "start_time": "2024-05-06T15:34:49.082009200Z"
    }
   },
   "id": "eceeed6a860c246e"
  },
  {
   "cell_type": "code",
   "execution_count": 18,
   "outputs": [
    {
     "data": {
      "text/plain": "''"
     },
     "execution_count": 18,
     "metadata": {},
     "output_type": "execute_result"
    }
   ],
   "source": [
    "data_train[\"artist2_id\"].iloc[0]"
   ],
   "metadata": {
    "collapsed": false,
    "ExecuteTime": {
     "end_time": "2024-05-06T15:34:49.778011200Z",
     "start_time": "2024-05-06T15:34:49.769011Z"
    }
   },
   "id": "4503d8f82283778e"
  },
  {
   "cell_type": "code",
   "execution_count": 19,
   "outputs": [
    {
     "data": {
      "text/plain": "                      song_id  \\\n0      2nb5SXM7dg43MqYdZCF2kf   \n1      5iCr33teBKdC3dy88hJvA8   \n2      1dGi3GMGi9CcNODmsRcuiX   \n3      1ZJRY8ByWcG7VJUAt3OojU   \n4      51dvl6I2Ui8u4TeneUKy12   \n...                       ...   \n54245  5ke0edZBlwRYu01wdej6xq   \n54246  12kc7hUJKpArFQurhlNeNW   \n54247  0lej8CemYKkWVHg77Xe1ky   \n54248  7goArBQdsalqclSyaTywAS   \n54249  6Fh2QgjCxL96dA3Gtpfr4Q   \n\n                                               song_name  song_popularity  \\\n0                                     Straight No Chaser              0.0   \n1                                                   Oleo              0.0   \n2                                      Mysterious Island              0.0   \n3      Tie Me Down (8-Bit Gryffin & Elley Duhé Emulat...              1.0   \n4              Mr Jones (8-Bit Counting Crows Emulation)              0.0   \n...                                                  ...              ...   \n54245                                         Let Her In              4.0   \n54246                             Stop and Think It Over              1.0   \n54247           A Man Holdin' on (To a Woman Lettin’ Go)             14.0   \n54248                                   Shimmy Shimmy Ya              7.0   \n54249  One Sweet Day (16-Bit Mariah Carey & Boyz II M...              0.0   \n\n       explicit      song_type  track_number  num_artists  \\\n0         False           Solo          15.0          1.0   \n1         False           Solo          14.0          1.0   \n2         False           Solo          12.0          1.0   \n3         False           Solo          16.0          1.0   \n4         False           Solo          10.0          1.0   \n...         ...            ...           ...          ...   \n54245     False           Solo           7.0          1.0   \n54246     False           Solo           9.0          1.0   \n54247     False  Collaboration           7.0          2.0   \n54248     False           Solo           8.0          1.0   \n54249     False           Solo          27.0          1.0   \n\n       num_available_markets release_date  duration_ms  ...         name_y  \\\n0                       79.0   2018-08-26     189846.0  ...                  \n1                       79.0   2018-08-26     169703.0  ...                  \n2                       79.0   2018-08-26     183371.0  ...                  \n3                       79.0   2018-08-26     215165.0  ...                  \n4                       79.0   2018-08-26     264153.0  ...                  \n...                      ...          ...          ...  ...            ...   \n54245                   79.0   2019-08-23     183600.0  ...                  \n54246                   79.0   2019-08-23     154413.0  ...                  \n54247                   79.0   2019-08-23     231898.0  ...  Anita Cochran   \n54248                   78.0   2019-08-23     161200.0  ...                  \n54249                   79.0   2019-08-26     260910.0  ...                  \n\n       betweenesscentrality_y  closnesscentrality_y  clustering_y  degree_y  \\\n0                         0.0              0.000000           0.0       0.0   \n1                         0.0              0.000000           0.0       0.0   \n2                         0.0              0.000000           0.0       0.0   \n3                         0.0              0.000000           0.0       0.0   \n4                         0.0              0.000000           0.0       0.0   \n...                       ...                   ...           ...       ...   \n54245                     0.0              0.000000           0.0       0.0   \n54246                     0.0              0.000000           0.0       0.0   \n54247                     0.0              0.666667           0.0       1.0   \n54248                     0.0              0.000000           0.0       0.0   \n54249                     0.0              0.000000           0.0       0.0   \n\n       eccentricity_y  eigencentrality_y  weighted degree_y  Cluster_y  \\\n0                 0.0                0.0                0.0       -1.0   \n1                 0.0                0.0                0.0       -1.0   \n2                 0.0                0.0                0.0       -1.0   \n3                 0.0                0.0                0.0       -1.0   \n4                 0.0                0.0                0.0       -1.0   \n...               ...                ...                ...        ...   \n54245             0.0                0.0                0.0       -1.0   \n54246             0.0                0.0                0.0       -1.0   \n54247             2.0                0.5                2.0        2.0   \n54248             0.0                0.0                0.0       -1.0   \n54249             0.0                0.0                0.0       -1.0   \n\n         profile_y  \n0         No Match  \n1         No Match  \n2         No Match  \n3         No Match  \n4         No Match  \n...            ...  \n54245     No Match  \n54246     No Match  \n54247  1A 2A 3A 4A  \n54248     No Match  \n54249     No Match  \n\n[54250 rows x 46 columns]",
      "text/html": "<div>\n<style scoped>\n    .dataframe tbody tr th:only-of-type {\n        vertical-align: middle;\n    }\n\n    .dataframe tbody tr th {\n        vertical-align: top;\n    }\n\n    .dataframe thead th {\n        text-align: right;\n    }\n</style>\n<table border=\"1\" class=\"dataframe\">\n  <thead>\n    <tr style=\"text-align: right;\">\n      <th></th>\n      <th>song_id</th>\n      <th>song_name</th>\n      <th>song_popularity</th>\n      <th>explicit</th>\n      <th>song_type</th>\n      <th>track_number</th>\n      <th>num_artists</th>\n      <th>num_available_markets</th>\n      <th>release_date</th>\n      <th>duration_ms</th>\n      <th>...</th>\n      <th>name_y</th>\n      <th>betweenesscentrality_y</th>\n      <th>closnesscentrality_y</th>\n      <th>clustering_y</th>\n      <th>degree_y</th>\n      <th>eccentricity_y</th>\n      <th>eigencentrality_y</th>\n      <th>weighted degree_y</th>\n      <th>Cluster_y</th>\n      <th>profile_y</th>\n    </tr>\n  </thead>\n  <tbody>\n    <tr>\n      <th>0</th>\n      <td>2nb5SXM7dg43MqYdZCF2kf</td>\n      <td>Straight No Chaser</td>\n      <td>0.0</td>\n      <td>False</td>\n      <td>Solo</td>\n      <td>15.0</td>\n      <td>1.0</td>\n      <td>79.0</td>\n      <td>2018-08-26</td>\n      <td>189846.0</td>\n      <td>...</td>\n      <td></td>\n      <td>0.0</td>\n      <td>0.000000</td>\n      <td>0.0</td>\n      <td>0.0</td>\n      <td>0.0</td>\n      <td>0.0</td>\n      <td>0.0</td>\n      <td>-1.0</td>\n      <td>No Match</td>\n    </tr>\n    <tr>\n      <th>1</th>\n      <td>5iCr33teBKdC3dy88hJvA8</td>\n      <td>Oleo</td>\n      <td>0.0</td>\n      <td>False</td>\n      <td>Solo</td>\n      <td>14.0</td>\n      <td>1.0</td>\n      <td>79.0</td>\n      <td>2018-08-26</td>\n      <td>169703.0</td>\n      <td>...</td>\n      <td></td>\n      <td>0.0</td>\n      <td>0.000000</td>\n      <td>0.0</td>\n      <td>0.0</td>\n      <td>0.0</td>\n      <td>0.0</td>\n      <td>0.0</td>\n      <td>-1.0</td>\n      <td>No Match</td>\n    </tr>\n    <tr>\n      <th>2</th>\n      <td>1dGi3GMGi9CcNODmsRcuiX</td>\n      <td>Mysterious Island</td>\n      <td>0.0</td>\n      <td>False</td>\n      <td>Solo</td>\n      <td>12.0</td>\n      <td>1.0</td>\n      <td>79.0</td>\n      <td>2018-08-26</td>\n      <td>183371.0</td>\n      <td>...</td>\n      <td></td>\n      <td>0.0</td>\n      <td>0.000000</td>\n      <td>0.0</td>\n      <td>0.0</td>\n      <td>0.0</td>\n      <td>0.0</td>\n      <td>0.0</td>\n      <td>-1.0</td>\n      <td>No Match</td>\n    </tr>\n    <tr>\n      <th>3</th>\n      <td>1ZJRY8ByWcG7VJUAt3OojU</td>\n      <td>Tie Me Down (8-Bit Gryffin &amp; Elley Duhé Emulat...</td>\n      <td>1.0</td>\n      <td>False</td>\n      <td>Solo</td>\n      <td>16.0</td>\n      <td>1.0</td>\n      <td>79.0</td>\n      <td>2018-08-26</td>\n      <td>215165.0</td>\n      <td>...</td>\n      <td></td>\n      <td>0.0</td>\n      <td>0.000000</td>\n      <td>0.0</td>\n      <td>0.0</td>\n      <td>0.0</td>\n      <td>0.0</td>\n      <td>0.0</td>\n      <td>-1.0</td>\n      <td>No Match</td>\n    </tr>\n    <tr>\n      <th>4</th>\n      <td>51dvl6I2Ui8u4TeneUKy12</td>\n      <td>Mr Jones (8-Bit Counting Crows Emulation)</td>\n      <td>0.0</td>\n      <td>False</td>\n      <td>Solo</td>\n      <td>10.0</td>\n      <td>1.0</td>\n      <td>79.0</td>\n      <td>2018-08-26</td>\n      <td>264153.0</td>\n      <td>...</td>\n      <td></td>\n      <td>0.0</td>\n      <td>0.000000</td>\n      <td>0.0</td>\n      <td>0.0</td>\n      <td>0.0</td>\n      <td>0.0</td>\n      <td>0.0</td>\n      <td>-1.0</td>\n      <td>No Match</td>\n    </tr>\n    <tr>\n      <th>...</th>\n      <td>...</td>\n      <td>...</td>\n      <td>...</td>\n      <td>...</td>\n      <td>...</td>\n      <td>...</td>\n      <td>...</td>\n      <td>...</td>\n      <td>...</td>\n      <td>...</td>\n      <td>...</td>\n      <td>...</td>\n      <td>...</td>\n      <td>...</td>\n      <td>...</td>\n      <td>...</td>\n      <td>...</td>\n      <td>...</td>\n      <td>...</td>\n      <td>...</td>\n      <td>...</td>\n    </tr>\n    <tr>\n      <th>54245</th>\n      <td>5ke0edZBlwRYu01wdej6xq</td>\n      <td>Let Her In</td>\n      <td>4.0</td>\n      <td>False</td>\n      <td>Solo</td>\n      <td>7.0</td>\n      <td>1.0</td>\n      <td>79.0</td>\n      <td>2019-08-23</td>\n      <td>183600.0</td>\n      <td>...</td>\n      <td></td>\n      <td>0.0</td>\n      <td>0.000000</td>\n      <td>0.0</td>\n      <td>0.0</td>\n      <td>0.0</td>\n      <td>0.0</td>\n      <td>0.0</td>\n      <td>-1.0</td>\n      <td>No Match</td>\n    </tr>\n    <tr>\n      <th>54246</th>\n      <td>12kc7hUJKpArFQurhlNeNW</td>\n      <td>Stop and Think It Over</td>\n      <td>1.0</td>\n      <td>False</td>\n      <td>Solo</td>\n      <td>9.0</td>\n      <td>1.0</td>\n      <td>79.0</td>\n      <td>2019-08-23</td>\n      <td>154413.0</td>\n      <td>...</td>\n      <td></td>\n      <td>0.0</td>\n      <td>0.000000</td>\n      <td>0.0</td>\n      <td>0.0</td>\n      <td>0.0</td>\n      <td>0.0</td>\n      <td>0.0</td>\n      <td>-1.0</td>\n      <td>No Match</td>\n    </tr>\n    <tr>\n      <th>54247</th>\n      <td>0lej8CemYKkWVHg77Xe1ky</td>\n      <td>A Man Holdin' on (To a Woman Lettin’ Go)</td>\n      <td>14.0</td>\n      <td>False</td>\n      <td>Collaboration</td>\n      <td>7.0</td>\n      <td>2.0</td>\n      <td>79.0</td>\n      <td>2019-08-23</td>\n      <td>231898.0</td>\n      <td>...</td>\n      <td>Anita Cochran</td>\n      <td>0.0</td>\n      <td>0.666667</td>\n      <td>0.0</td>\n      <td>1.0</td>\n      <td>2.0</td>\n      <td>0.5</td>\n      <td>2.0</td>\n      <td>2.0</td>\n      <td>1A 2A 3A 4A</td>\n    </tr>\n    <tr>\n      <th>54248</th>\n      <td>7goArBQdsalqclSyaTywAS</td>\n      <td>Shimmy Shimmy Ya</td>\n      <td>7.0</td>\n      <td>False</td>\n      <td>Solo</td>\n      <td>8.0</td>\n      <td>1.0</td>\n      <td>78.0</td>\n      <td>2019-08-23</td>\n      <td>161200.0</td>\n      <td>...</td>\n      <td></td>\n      <td>0.0</td>\n      <td>0.000000</td>\n      <td>0.0</td>\n      <td>0.0</td>\n      <td>0.0</td>\n      <td>0.0</td>\n      <td>0.0</td>\n      <td>-1.0</td>\n      <td>No Match</td>\n    </tr>\n    <tr>\n      <th>54249</th>\n      <td>6Fh2QgjCxL96dA3Gtpfr4Q</td>\n      <td>One Sweet Day (16-Bit Mariah Carey &amp; Boyz II M...</td>\n      <td>0.0</td>\n      <td>False</td>\n      <td>Solo</td>\n      <td>27.0</td>\n      <td>1.0</td>\n      <td>79.0</td>\n      <td>2019-08-26</td>\n      <td>260910.0</td>\n      <td>...</td>\n      <td></td>\n      <td>0.0</td>\n      <td>0.000000</td>\n      <td>0.0</td>\n      <td>0.0</td>\n      <td>0.0</td>\n      <td>0.0</td>\n      <td>0.0</td>\n      <td>-1.0</td>\n      <td>No Match</td>\n    </tr>\n  </tbody>\n</table>\n<p>54250 rows × 46 columns</p>\n</div>"
     },
     "execution_count": 19,
     "metadata": {},
     "output_type": "execute_result"
    }
   ],
   "source": [
    "data_test = pd.merge(test_df, df_artists_test, left_on=\"artist1_id\", right_on=\"Spotify ID\", how=\"left\")\n",
    "default = {\n",
    "    'eigencentrality': 0,\n",
    "    'name': '',\n",
    "    # 'genres': \"\",\n",
    "    'eccentricity': 0,\n",
    "    'degree': 0,\n",
    "    'clustering': 0,\n",
    "    'closnesscentrality': 0,\n",
    "    'weighted degree': 0,\n",
    "    'betweenesscentrality': 0,\n",
    "    'Spotify ID': '',\n",
    "    'Cluster': -1,\n",
    "    'profile': \"No Match\"\n",
    "}\n",
    "\n",
    "default_y = {\n",
    "    'eigencentrality_y': 0,\n",
    "    'popularity_y': 0,\n",
    "    'name_y': '',\n",
    "    'eccentricity_y': 0,\n",
    "    'degree_y': 0,\n",
    "    'clustering_y': 0,\n",
    "    'closnesscentrality_y': 0,\n",
    "    'weighted degree_y': 0,\n",
    "    'betweenesscentrality_y': 0,\n",
    "    'Spotify ID_y': '',\n",
    "    'Cluster_y': -1,\n",
    "    'profile_y': \"No Match\"\n",
    "}\n",
    "\n",
    "# Fill NaN values with default values\n",
    "data_test.fillna(default, inplace=True)\n",
    "data_test = pd.merge(data_test, df_artists_test, left_on=\"artist2_id\", right_on=\"Spotify ID\", how=\"left\")\n",
    "data_test.fillna(default_y, inplace=True)\n",
    "data_test.drop(columns=[\"name_artists\", 'id_artists', \"Spotify ID_x\", \"Spotify ID_y\"], inplace=True)\n",
    "data_test"
   ],
   "metadata": {
    "collapsed": false,
    "ExecuteTime": {
     "end_time": "2024-05-06T15:34:49.921012100Z",
     "start_time": "2024-05-06T15:34:49.781009900Z"
    }
   },
   "id": "2cc3f86cb9480c16"
  },
  {
   "cell_type": "code",
   "execution_count": 20,
   "outputs": [],
   "source": [
    "data = pd.concat([data_train, data_test], axis=0)"
   ],
   "metadata": {
    "collapsed": false,
    "ExecuteTime": {
     "end_time": "2024-05-06T15:34:50.068008800Z",
     "start_time": "2024-05-06T15:34:49.922012400Z"
    }
   },
   "id": "1784adc93c9b69ef"
  },
  {
   "cell_type": "code",
   "execution_count": 21,
   "outputs": [
    {
     "data": {
      "text/plain": "                      song_id  \\\n0      2F2KnlkMvRIQM2phyz1NYh   \n1      2P1HvXKbTX6oR4pPg3yvh8   \n2      1tJQJbGBZew4782EYw9lnS   \n3      1YF8Nw7yjdTq36RLQqxExY   \n4      5k4iLtspS2VUrYXoFfKCx6   \n...                       ...   \n54245  5ke0edZBlwRYu01wdej6xq   \n54246  12kc7hUJKpArFQurhlNeNW   \n54247  0lej8CemYKkWVHg77Xe1ky   \n54248  7goArBQdsalqclSyaTywAS   \n54249  6Fh2QgjCxL96dA3Gtpfr4Q   \n\n                                               song_name  song_popularity  \\\n0                                    Oh How I Love Jesus              0.0   \n1                        When It Hurts (Karaoke Version)              0.0   \n2              Love Never Felt So Good (Karaoke Version)              0.0   \n3                            Too Close (Karaoke Version)              0.0   \n4                       Marilyn Monroe (Karaoke Version)              0.0   \n...                                                  ...              ...   \n54245                                         Let Her In              4.0   \n54246                             Stop and Think It Over              1.0   \n54247           A Man Holdin' on (To a Woman Lettin’ Go)             14.0   \n54248                                   Shimmy Shimmy Ya              7.0   \n54249  One Sweet Day (16-Bit Mariah Carey & Boyz II M...              0.0   \n\n       explicit      song_type  track_number  num_artists  \\\n0         False           Solo           2.0          1.0   \n1         False           Solo          18.0          1.0   \n2         False           Solo           1.0          1.0   \n3         False           Solo          19.0          1.0   \n4         False           Solo           9.0          1.0   \n...         ...            ...           ...          ...   \n54245     False           Solo           7.0          1.0   \n54246     False           Solo           9.0          1.0   \n54247     False  Collaboration           7.0          2.0   \n54248     False           Solo           8.0          1.0   \n54249     False           Solo          27.0          1.0   \n\n       num_available_markets release_date  duration_ms  ...         name_y  \\\n0                       78.0   2014-08-26     127760.0  ...                  \n1                       79.0   2014-08-26     191375.0  ...                  \n2                       79.0   2014-08-26     242858.0  ...                  \n3                       79.0   2014-08-26     249377.0  ...                  \n4                       79.0   2014-08-26     266691.0  ...                  \n...                      ...          ...          ...  ...            ...   \n54245                   79.0   2019-08-23     183600.0  ...                  \n54246                   79.0   2019-08-23     154413.0  ...                  \n54247                   79.0   2019-08-23     231898.0  ...  Anita Cochran   \n54248                   78.0   2019-08-23     161200.0  ...                  \n54249                   79.0   2019-08-26     260910.0  ...                  \n\n       betweenesscentrality_y  closnesscentrality_y  clustering_y  degree_y  \\\n0                         0.0              0.000000           0.0       0.0   \n1                         0.0              0.000000           0.0       0.0   \n2                         0.0              0.000000           0.0       0.0   \n3                         0.0              0.000000           0.0       0.0   \n4                         0.0              0.000000           0.0       0.0   \n...                       ...                   ...           ...       ...   \n54245                     0.0              0.000000           0.0       0.0   \n54246                     0.0              0.000000           0.0       0.0   \n54247                     0.0              0.666667           0.0       1.0   \n54248                     0.0              0.000000           0.0       0.0   \n54249                     0.0              0.000000           0.0       0.0   \n\n       eccentricity_y  eigencentrality_y  weighted degree_y  Cluster_y  \\\n0                 0.0                0.0                0.0       -1.0   \n1                 0.0                0.0                0.0       -1.0   \n2                 0.0                0.0                0.0       -1.0   \n3                 0.0                0.0                0.0       -1.0   \n4                 0.0                0.0                0.0       -1.0   \n...               ...                ...                ...        ...   \n54245             0.0                0.0                0.0       -1.0   \n54246             0.0                0.0                0.0       -1.0   \n54247             2.0                0.5                2.0        2.0   \n54248             0.0                0.0                0.0       -1.0   \n54249             0.0                0.0                0.0       -1.0   \n\n         profile_y  \n0         No Match  \n1         No Match  \n2         No Match  \n3         No Match  \n4         No Match  \n...            ...  \n54245     No Match  \n54246     No Match  \n54247  1A 2A 3A 4A  \n54248     No Match  \n54249     No Match  \n\n[283464 rows x 46 columns]",
      "text/html": "<div>\n<style scoped>\n    .dataframe tbody tr th:only-of-type {\n        vertical-align: middle;\n    }\n\n    .dataframe tbody tr th {\n        vertical-align: top;\n    }\n\n    .dataframe thead th {\n        text-align: right;\n    }\n</style>\n<table border=\"1\" class=\"dataframe\">\n  <thead>\n    <tr style=\"text-align: right;\">\n      <th></th>\n      <th>song_id</th>\n      <th>song_name</th>\n      <th>song_popularity</th>\n      <th>explicit</th>\n      <th>song_type</th>\n      <th>track_number</th>\n      <th>num_artists</th>\n      <th>num_available_markets</th>\n      <th>release_date</th>\n      <th>duration_ms</th>\n      <th>...</th>\n      <th>name_y</th>\n      <th>betweenesscentrality_y</th>\n      <th>closnesscentrality_y</th>\n      <th>clustering_y</th>\n      <th>degree_y</th>\n      <th>eccentricity_y</th>\n      <th>eigencentrality_y</th>\n      <th>weighted degree_y</th>\n      <th>Cluster_y</th>\n      <th>profile_y</th>\n    </tr>\n  </thead>\n  <tbody>\n    <tr>\n      <th>0</th>\n      <td>2F2KnlkMvRIQM2phyz1NYh</td>\n      <td>Oh How I Love Jesus</td>\n      <td>0.0</td>\n      <td>False</td>\n      <td>Solo</td>\n      <td>2.0</td>\n      <td>1.0</td>\n      <td>78.0</td>\n      <td>2014-08-26</td>\n      <td>127760.0</td>\n      <td>...</td>\n      <td></td>\n      <td>0.0</td>\n      <td>0.000000</td>\n      <td>0.0</td>\n      <td>0.0</td>\n      <td>0.0</td>\n      <td>0.0</td>\n      <td>0.0</td>\n      <td>-1.0</td>\n      <td>No Match</td>\n    </tr>\n    <tr>\n      <th>1</th>\n      <td>2P1HvXKbTX6oR4pPg3yvh8</td>\n      <td>When It Hurts (Karaoke Version)</td>\n      <td>0.0</td>\n      <td>False</td>\n      <td>Solo</td>\n      <td>18.0</td>\n      <td>1.0</td>\n      <td>79.0</td>\n      <td>2014-08-26</td>\n      <td>191375.0</td>\n      <td>...</td>\n      <td></td>\n      <td>0.0</td>\n      <td>0.000000</td>\n      <td>0.0</td>\n      <td>0.0</td>\n      <td>0.0</td>\n      <td>0.0</td>\n      <td>0.0</td>\n      <td>-1.0</td>\n      <td>No Match</td>\n    </tr>\n    <tr>\n      <th>2</th>\n      <td>1tJQJbGBZew4782EYw9lnS</td>\n      <td>Love Never Felt So Good (Karaoke Version)</td>\n      <td>0.0</td>\n      <td>False</td>\n      <td>Solo</td>\n      <td>1.0</td>\n      <td>1.0</td>\n      <td>79.0</td>\n      <td>2014-08-26</td>\n      <td>242858.0</td>\n      <td>...</td>\n      <td></td>\n      <td>0.0</td>\n      <td>0.000000</td>\n      <td>0.0</td>\n      <td>0.0</td>\n      <td>0.0</td>\n      <td>0.0</td>\n      <td>0.0</td>\n      <td>-1.0</td>\n      <td>No Match</td>\n    </tr>\n    <tr>\n      <th>3</th>\n      <td>1YF8Nw7yjdTq36RLQqxExY</td>\n      <td>Too Close (Karaoke Version)</td>\n      <td>0.0</td>\n      <td>False</td>\n      <td>Solo</td>\n      <td>19.0</td>\n      <td>1.0</td>\n      <td>79.0</td>\n      <td>2014-08-26</td>\n      <td>249377.0</td>\n      <td>...</td>\n      <td></td>\n      <td>0.0</td>\n      <td>0.000000</td>\n      <td>0.0</td>\n      <td>0.0</td>\n      <td>0.0</td>\n      <td>0.0</td>\n      <td>0.0</td>\n      <td>-1.0</td>\n      <td>No Match</td>\n    </tr>\n    <tr>\n      <th>4</th>\n      <td>5k4iLtspS2VUrYXoFfKCx6</td>\n      <td>Marilyn Monroe (Karaoke Version)</td>\n      <td>0.0</td>\n      <td>False</td>\n      <td>Solo</td>\n      <td>9.0</td>\n      <td>1.0</td>\n      <td>79.0</td>\n      <td>2014-08-26</td>\n      <td>266691.0</td>\n      <td>...</td>\n      <td></td>\n      <td>0.0</td>\n      <td>0.000000</td>\n      <td>0.0</td>\n      <td>0.0</td>\n      <td>0.0</td>\n      <td>0.0</td>\n      <td>0.0</td>\n      <td>-1.0</td>\n      <td>No Match</td>\n    </tr>\n    <tr>\n      <th>...</th>\n      <td>...</td>\n      <td>...</td>\n      <td>...</td>\n      <td>...</td>\n      <td>...</td>\n      <td>...</td>\n      <td>...</td>\n      <td>...</td>\n      <td>...</td>\n      <td>...</td>\n      <td>...</td>\n      <td>...</td>\n      <td>...</td>\n      <td>...</td>\n      <td>...</td>\n      <td>...</td>\n      <td>...</td>\n      <td>...</td>\n      <td>...</td>\n      <td>...</td>\n      <td>...</td>\n    </tr>\n    <tr>\n      <th>54245</th>\n      <td>5ke0edZBlwRYu01wdej6xq</td>\n      <td>Let Her In</td>\n      <td>4.0</td>\n      <td>False</td>\n      <td>Solo</td>\n      <td>7.0</td>\n      <td>1.0</td>\n      <td>79.0</td>\n      <td>2019-08-23</td>\n      <td>183600.0</td>\n      <td>...</td>\n      <td></td>\n      <td>0.0</td>\n      <td>0.000000</td>\n      <td>0.0</td>\n      <td>0.0</td>\n      <td>0.0</td>\n      <td>0.0</td>\n      <td>0.0</td>\n      <td>-1.0</td>\n      <td>No Match</td>\n    </tr>\n    <tr>\n      <th>54246</th>\n      <td>12kc7hUJKpArFQurhlNeNW</td>\n      <td>Stop and Think It Over</td>\n      <td>1.0</td>\n      <td>False</td>\n      <td>Solo</td>\n      <td>9.0</td>\n      <td>1.0</td>\n      <td>79.0</td>\n      <td>2019-08-23</td>\n      <td>154413.0</td>\n      <td>...</td>\n      <td></td>\n      <td>0.0</td>\n      <td>0.000000</td>\n      <td>0.0</td>\n      <td>0.0</td>\n      <td>0.0</td>\n      <td>0.0</td>\n      <td>0.0</td>\n      <td>-1.0</td>\n      <td>No Match</td>\n    </tr>\n    <tr>\n      <th>54247</th>\n      <td>0lej8CemYKkWVHg77Xe1ky</td>\n      <td>A Man Holdin' on (To a Woman Lettin’ Go)</td>\n      <td>14.0</td>\n      <td>False</td>\n      <td>Collaboration</td>\n      <td>7.0</td>\n      <td>2.0</td>\n      <td>79.0</td>\n      <td>2019-08-23</td>\n      <td>231898.0</td>\n      <td>...</td>\n      <td>Anita Cochran</td>\n      <td>0.0</td>\n      <td>0.666667</td>\n      <td>0.0</td>\n      <td>1.0</td>\n      <td>2.0</td>\n      <td>0.5</td>\n      <td>2.0</td>\n      <td>2.0</td>\n      <td>1A 2A 3A 4A</td>\n    </tr>\n    <tr>\n      <th>54248</th>\n      <td>7goArBQdsalqclSyaTywAS</td>\n      <td>Shimmy Shimmy Ya</td>\n      <td>7.0</td>\n      <td>False</td>\n      <td>Solo</td>\n      <td>8.0</td>\n      <td>1.0</td>\n      <td>78.0</td>\n      <td>2019-08-23</td>\n      <td>161200.0</td>\n      <td>...</td>\n      <td></td>\n      <td>0.0</td>\n      <td>0.000000</td>\n      <td>0.0</td>\n      <td>0.0</td>\n      <td>0.0</td>\n      <td>0.0</td>\n      <td>0.0</td>\n      <td>-1.0</td>\n      <td>No Match</td>\n    </tr>\n    <tr>\n      <th>54249</th>\n      <td>6Fh2QgjCxL96dA3Gtpfr4Q</td>\n      <td>One Sweet Day (16-Bit Mariah Carey &amp; Boyz II M...</td>\n      <td>0.0</td>\n      <td>False</td>\n      <td>Solo</td>\n      <td>27.0</td>\n      <td>1.0</td>\n      <td>79.0</td>\n      <td>2019-08-26</td>\n      <td>260910.0</td>\n      <td>...</td>\n      <td></td>\n      <td>0.0</td>\n      <td>0.000000</td>\n      <td>0.0</td>\n      <td>0.0</td>\n      <td>0.0</td>\n      <td>0.0</td>\n      <td>0.0</td>\n      <td>-1.0</td>\n      <td>No Match</td>\n    </tr>\n  </tbody>\n</table>\n<p>283464 rows × 46 columns</p>\n</div>"
     },
     "execution_count": 21,
     "metadata": {},
     "output_type": "execute_result"
    }
   ],
   "source": [
    "data"
   ],
   "metadata": {
    "collapsed": false,
    "ExecuteTime": {
     "end_time": "2024-05-06T15:34:50.224011Z",
     "start_time": "2024-05-06T15:34:50.046010800Z"
    }
   },
   "id": "957444661fee0edc"
  },
  {
   "cell_type": "code",
   "execution_count": 22,
   "outputs": [],
   "source": [
    "data.to_csv(\"data_basline_simple_feature_calc_split_included_different_k.csv\", index=False)"
   ],
   "metadata": {
    "collapsed": false,
    "ExecuteTime": {
     "end_time": "2024-05-06T15:34:55.738954800Z",
     "start_time": "2024-05-06T15:34:50.221009100Z"
    }
   },
   "id": "2c64f5d11ecceeb4"
  }
 ],
 "metadata": {
  "kernelspec": {
   "display_name": "Python 3",
   "language": "python",
   "name": "python3"
  },
  "language_info": {
   "codemirror_mode": {
    "name": "ipython",
    "version": 2
   },
   "file_extension": ".py",
   "mimetype": "text/x-python",
   "name": "python",
   "nbconvert_exporter": "python",
   "pygments_lexer": "ipython2",
   "version": "2.7.6"
  }
 },
 "nbformat": 4,
 "nbformat_minor": 5
}
