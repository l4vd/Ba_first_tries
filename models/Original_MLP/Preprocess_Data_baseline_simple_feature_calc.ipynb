{
 "cells": [
  {
   "cell_type": "markdown",
   "source": [
    "# Preprocessing:\n",
    "\n",
    "## Artists:"
   ],
   "metadata": {
    "collapsed": false,
    "pycharm": {
     "name": "#%% md\n"
    }
   },
   "id": "4e8c02b376b9192b"
  },
  {
   "cell_type": "code",
   "execution_count": 1,
   "outputs": [
    {
     "data": {
      "text/plain": "                                       name  betweenesscentrality  \\\n0                                     Miani              0.000000   \n1                            Ella Henderson              0.000064   \n2                                    Kyodai              0.000000   \n3                               Sonny James              0.000000   \n4                  The White Star Orchestra              0.000000   \n...                                     ...                   ...   \n18546                              Pat Coil              0.000000   \n18547                                Kiesza              0.000619   \n18548                         Michael Woods              0.000474   \n18549                                 Lucid              0.000000   \n18550  Guy Lombardo And His Royal Canadians              0.000000   \n\n       closnesscentrality  clustering  degree  eccentricity  eigencentrality  \\\n0                0.090902         0.0       1            12     1.824857e-05   \n1                0.094873         0.0       5            12     3.679801e-05   \n2                0.000054         0.0       1             1     8.090080e-16   \n3                0.000000         0.0       2             0     8.090080e-16   \n4                0.000230         0.0       1             2     5.659227e-12   \n...                   ...         ...     ...           ...              ...   \n18546            0.000000         0.0       2             0     8.090080e-16   \n18547            0.081456         0.0      12            12     1.514520e-06   \n18548            0.108340         0.0       4            11     3.528744e-04   \n18549            0.092821         0.0       1            11     1.363984e-05   \n18550            0.081290         0.0       1            12     5.000213e-07   \n\n       weighted degree  pagerank              Spotify ID  Cluster      profile  \n0                   68  0.000053  0A26SpbGSDsihGLJhAKMX3        0  1A 2B 3A 4A  \n1                   70  0.000114  7nDsS0l5ZAzMedVRKPP8F1        0  1A 2B 3A 4A  \n2                    2  0.000054  5Sc8X2quRMN4svisVYmjBA        1  1A 2A 3A 4A  \n3                   76  0.000054  0c08N8UlFjDaup9TNDaWxy        1  1A 2A 3A 4A  \n4                   48  0.000022  3uwNmfcpRCEVz8iazhjJeZ        1  1A 2A 3A 4A  \n...                ...       ...                     ...      ...          ...  \n18546               20  0.000054  2B8UFlcrZdKZD5qV83m503        1  1A 2A 3A 4A  \n18547              162  0.000391  4zxvC7CRGvggq9EWXOpwAo        0  1A 2B 3A 4A  \n18548               10  0.000030  3G1QoWkaZ1CUnTLUb0CqtC        0  1A 2B 3A 4A  \n18549                2  0.000011  6gGndgwWABEGiSaN1wnr9P        0  1A 2B 3A 4A  \n18550                4  0.000014  7boMgFpwLGa82CQIC6FhuE        0  1A 2B 3A 4A  \n\n[18551 rows x 12 columns]",
      "text/html": "<div>\n<style scoped>\n    .dataframe tbody tr th:only-of-type {\n        vertical-align: middle;\n    }\n\n    .dataframe tbody tr th {\n        vertical-align: top;\n    }\n\n    .dataframe thead th {\n        text-align: right;\n    }\n</style>\n<table border=\"1\" class=\"dataframe\">\n  <thead>\n    <tr style=\"text-align: right;\">\n      <th></th>\n      <th>name</th>\n      <th>betweenesscentrality</th>\n      <th>closnesscentrality</th>\n      <th>clustering</th>\n      <th>degree</th>\n      <th>eccentricity</th>\n      <th>eigencentrality</th>\n      <th>weighted degree</th>\n      <th>pagerank</th>\n      <th>Spotify ID</th>\n      <th>Cluster</th>\n      <th>profile</th>\n    </tr>\n  </thead>\n  <tbody>\n    <tr>\n      <th>0</th>\n      <td>Miani</td>\n      <td>0.000000</td>\n      <td>0.090902</td>\n      <td>0.0</td>\n      <td>1</td>\n      <td>12</td>\n      <td>1.824857e-05</td>\n      <td>68</td>\n      <td>0.000053</td>\n      <td>0A26SpbGSDsihGLJhAKMX3</td>\n      <td>0</td>\n      <td>1A 2B 3A 4A</td>\n    </tr>\n    <tr>\n      <th>1</th>\n      <td>Ella Henderson</td>\n      <td>0.000064</td>\n      <td>0.094873</td>\n      <td>0.0</td>\n      <td>5</td>\n      <td>12</td>\n      <td>3.679801e-05</td>\n      <td>70</td>\n      <td>0.000114</td>\n      <td>7nDsS0l5ZAzMedVRKPP8F1</td>\n      <td>0</td>\n      <td>1A 2B 3A 4A</td>\n    </tr>\n    <tr>\n      <th>2</th>\n      <td>Kyodai</td>\n      <td>0.000000</td>\n      <td>0.000054</td>\n      <td>0.0</td>\n      <td>1</td>\n      <td>1</td>\n      <td>8.090080e-16</td>\n      <td>2</td>\n      <td>0.000054</td>\n      <td>5Sc8X2quRMN4svisVYmjBA</td>\n      <td>1</td>\n      <td>1A 2A 3A 4A</td>\n    </tr>\n    <tr>\n      <th>3</th>\n      <td>Sonny James</td>\n      <td>0.000000</td>\n      <td>0.000000</td>\n      <td>0.0</td>\n      <td>2</td>\n      <td>0</td>\n      <td>8.090080e-16</td>\n      <td>76</td>\n      <td>0.000054</td>\n      <td>0c08N8UlFjDaup9TNDaWxy</td>\n      <td>1</td>\n      <td>1A 2A 3A 4A</td>\n    </tr>\n    <tr>\n      <th>4</th>\n      <td>The White Star Orchestra</td>\n      <td>0.000000</td>\n      <td>0.000230</td>\n      <td>0.0</td>\n      <td>1</td>\n      <td>2</td>\n      <td>5.659227e-12</td>\n      <td>48</td>\n      <td>0.000022</td>\n      <td>3uwNmfcpRCEVz8iazhjJeZ</td>\n      <td>1</td>\n      <td>1A 2A 3A 4A</td>\n    </tr>\n    <tr>\n      <th>...</th>\n      <td>...</td>\n      <td>...</td>\n      <td>...</td>\n      <td>...</td>\n      <td>...</td>\n      <td>...</td>\n      <td>...</td>\n      <td>...</td>\n      <td>...</td>\n      <td>...</td>\n      <td>...</td>\n      <td>...</td>\n    </tr>\n    <tr>\n      <th>18546</th>\n      <td>Pat Coil</td>\n      <td>0.000000</td>\n      <td>0.000000</td>\n      <td>0.0</td>\n      <td>2</td>\n      <td>0</td>\n      <td>8.090080e-16</td>\n      <td>20</td>\n      <td>0.000054</td>\n      <td>2B8UFlcrZdKZD5qV83m503</td>\n      <td>1</td>\n      <td>1A 2A 3A 4A</td>\n    </tr>\n    <tr>\n      <th>18547</th>\n      <td>Kiesza</td>\n      <td>0.000619</td>\n      <td>0.081456</td>\n      <td>0.0</td>\n      <td>12</td>\n      <td>12</td>\n      <td>1.514520e-06</td>\n      <td>162</td>\n      <td>0.000391</td>\n      <td>4zxvC7CRGvggq9EWXOpwAo</td>\n      <td>0</td>\n      <td>1A 2B 3A 4A</td>\n    </tr>\n    <tr>\n      <th>18548</th>\n      <td>Michael Woods</td>\n      <td>0.000474</td>\n      <td>0.108340</td>\n      <td>0.0</td>\n      <td>4</td>\n      <td>11</td>\n      <td>3.528744e-04</td>\n      <td>10</td>\n      <td>0.000030</td>\n      <td>3G1QoWkaZ1CUnTLUb0CqtC</td>\n      <td>0</td>\n      <td>1A 2B 3A 4A</td>\n    </tr>\n    <tr>\n      <th>18549</th>\n      <td>Lucid</td>\n      <td>0.000000</td>\n      <td>0.092821</td>\n      <td>0.0</td>\n      <td>1</td>\n      <td>11</td>\n      <td>1.363984e-05</td>\n      <td>2</td>\n      <td>0.000011</td>\n      <td>6gGndgwWABEGiSaN1wnr9P</td>\n      <td>0</td>\n      <td>1A 2B 3A 4A</td>\n    </tr>\n    <tr>\n      <th>18550</th>\n      <td>Guy Lombardo And His Royal Canadians</td>\n      <td>0.000000</td>\n      <td>0.081290</td>\n      <td>0.0</td>\n      <td>1</td>\n      <td>12</td>\n      <td>5.000213e-07</td>\n      <td>4</td>\n      <td>0.000014</td>\n      <td>7boMgFpwLGa82CQIC6FhuE</td>\n      <td>0</td>\n      <td>1A 2B 3A 4A</td>\n    </tr>\n  </tbody>\n</table>\n<p>18551 rows × 12 columns</p>\n</div>"
     },
     "execution_count": 1,
     "metadata": {},
     "output_type": "execute_result"
    }
   ],
   "source": [
    "import pandas as pd\n",
    "\n",
    "df_artists_train = pd.read_csv(\"../../MusicOSet/network_clustered/nodes_train.csv\", sep=\",\")\n",
    "df_artists_train.drop(columns=[\"harmonicclosnesscentrality\"], inplace=True)\n",
    "df_artists_train"
   ],
   "metadata": {
    "collapsed": false,
    "pycharm": {
     "name": "#%%\n"
    },
    "ExecuteTime": {
     "end_time": "2024-07-27T13:53:18.781783800Z",
     "start_time": "2024-07-27T13:53:18.492784400Z"
    }
   },
   "id": "d94f65e888c706df"
  },
  {
   "cell_type": "code",
   "execution_count": 2,
   "outputs": [
    {
     "data": {
      "text/plain": "                   name  betweenesscentrality  closnesscentrality  clustering  \\\n0           Kodak Black          2.041474e-03            0.117694    0.149425   \n1          Moneybagg Yo          5.028644e-04            0.112265    0.122581   \n2          Modest Mouse          0.000000e+00            0.000000    0.000000   \n3            Izza Woods          0.000000e+00            0.000000    0.000000   \n4                  Kyla          1.555256e-05            0.078767    0.000000   \n...                 ...                   ...                 ...         ...   \n5897        Reckless 2X          3.022699e-08            0.000164    0.000000   \n5898      Twhy Xclusive          0.000000e+00            0.087042    0.000000   \n5899  Ibiza Lounge Club          0.000000e+00            0.001900    0.000000   \n5900   Adriano Trindade          0.000000e+00            0.000000    0.000000   \n5901        Gary Franks          0.000000e+00            0.065399    0.000000   \n\n      degree  eccentricity  eigencentrality  weighted degree  pagerank  \\\n0         32            14     1.103820e-01              272  0.000434   \n1         33            14     8.295566e-02              556  0.000717   \n2          0             0     5.163080e-20                0  0.000012   \n3          0             0     5.163080e-20                0  0.000012   \n4          4            15     7.512496e-06               12  0.000061   \n...      ...           ...              ...              ...       ...   \n5897       4             2     1.480611e-12                8  0.000092   \n5898       1            15     3.523498e-04                2  0.000019   \n5899       3             6     1.067876e-07               90  0.000065   \n5900       0             0     5.163080e-20                0  0.000012   \n5901       3            15     4.232461e-08               30  0.000061   \n\n                  Spotify ID  Cluster      profile  \n0     46SHBwWsqBkxI7EeeBEQG7        1  1A 2B 3A 4A  \n1     3tJoFztHeIJkJWMrx0td2f        1  1A 2B 3A 4A  \n2     1yAwtBaoHLEDWAnWR87hBT        0  1A 2A 3A 4A  \n3     2v7XXZVXBTYynoeqScAPzJ        0  1A 2A 3A 4A  \n4     77DAFfvm3O9zT5dIoG0eIO        1  1A 2B 3A 4A  \n...                      ...      ...          ...  \n5897  2hFD9op5QTJcsNYJIC9Kpt        0  1A 2A 3A 4A  \n5898  6S7YkU9PZEXdyeKVuTnXRS        1  1A 2B 3A 4A  \n5899  47JfhV9YkL58HUZluA650b        0  1A 2A 3A 4A  \n5900  3vXSdxNNn1FelqkMQf6ggX        0  1A 2A 3A 4A  \n5901  2O48M3sJpyAVYehc2BOFzY        1  1A 2B 3A 4A  \n\n[5902 rows x 12 columns]",
      "text/html": "<div>\n<style scoped>\n    .dataframe tbody tr th:only-of-type {\n        vertical-align: middle;\n    }\n\n    .dataframe tbody tr th {\n        vertical-align: top;\n    }\n\n    .dataframe thead th {\n        text-align: right;\n    }\n</style>\n<table border=\"1\" class=\"dataframe\">\n  <thead>\n    <tr style=\"text-align: right;\">\n      <th></th>\n      <th>name</th>\n      <th>betweenesscentrality</th>\n      <th>closnesscentrality</th>\n      <th>clustering</th>\n      <th>degree</th>\n      <th>eccentricity</th>\n      <th>eigencentrality</th>\n      <th>weighted degree</th>\n      <th>pagerank</th>\n      <th>Spotify ID</th>\n      <th>Cluster</th>\n      <th>profile</th>\n    </tr>\n  </thead>\n  <tbody>\n    <tr>\n      <th>0</th>\n      <td>Kodak Black</td>\n      <td>2.041474e-03</td>\n      <td>0.117694</td>\n      <td>0.149425</td>\n      <td>32</td>\n      <td>14</td>\n      <td>1.103820e-01</td>\n      <td>272</td>\n      <td>0.000434</td>\n      <td>46SHBwWsqBkxI7EeeBEQG7</td>\n      <td>1</td>\n      <td>1A 2B 3A 4A</td>\n    </tr>\n    <tr>\n      <th>1</th>\n      <td>Moneybagg Yo</td>\n      <td>5.028644e-04</td>\n      <td>0.112265</td>\n      <td>0.122581</td>\n      <td>33</td>\n      <td>14</td>\n      <td>8.295566e-02</td>\n      <td>556</td>\n      <td>0.000717</td>\n      <td>3tJoFztHeIJkJWMrx0td2f</td>\n      <td>1</td>\n      <td>1A 2B 3A 4A</td>\n    </tr>\n    <tr>\n      <th>2</th>\n      <td>Modest Mouse</td>\n      <td>0.000000e+00</td>\n      <td>0.000000</td>\n      <td>0.000000</td>\n      <td>0</td>\n      <td>0</td>\n      <td>5.163080e-20</td>\n      <td>0</td>\n      <td>0.000012</td>\n      <td>1yAwtBaoHLEDWAnWR87hBT</td>\n      <td>0</td>\n      <td>1A 2A 3A 4A</td>\n    </tr>\n    <tr>\n      <th>3</th>\n      <td>Izza Woods</td>\n      <td>0.000000e+00</td>\n      <td>0.000000</td>\n      <td>0.000000</td>\n      <td>0</td>\n      <td>0</td>\n      <td>5.163080e-20</td>\n      <td>0</td>\n      <td>0.000012</td>\n      <td>2v7XXZVXBTYynoeqScAPzJ</td>\n      <td>0</td>\n      <td>1A 2A 3A 4A</td>\n    </tr>\n    <tr>\n      <th>4</th>\n      <td>Kyla</td>\n      <td>1.555256e-05</td>\n      <td>0.078767</td>\n      <td>0.000000</td>\n      <td>4</td>\n      <td>15</td>\n      <td>7.512496e-06</td>\n      <td>12</td>\n      <td>0.000061</td>\n      <td>77DAFfvm3O9zT5dIoG0eIO</td>\n      <td>1</td>\n      <td>1A 2B 3A 4A</td>\n    </tr>\n    <tr>\n      <th>...</th>\n      <td>...</td>\n      <td>...</td>\n      <td>...</td>\n      <td>...</td>\n      <td>...</td>\n      <td>...</td>\n      <td>...</td>\n      <td>...</td>\n      <td>...</td>\n      <td>...</td>\n      <td>...</td>\n      <td>...</td>\n    </tr>\n    <tr>\n      <th>5897</th>\n      <td>Reckless 2X</td>\n      <td>3.022699e-08</td>\n      <td>0.000164</td>\n      <td>0.000000</td>\n      <td>4</td>\n      <td>2</td>\n      <td>1.480611e-12</td>\n      <td>8</td>\n      <td>0.000092</td>\n      <td>2hFD9op5QTJcsNYJIC9Kpt</td>\n      <td>0</td>\n      <td>1A 2A 3A 4A</td>\n    </tr>\n    <tr>\n      <th>5898</th>\n      <td>Twhy Xclusive</td>\n      <td>0.000000e+00</td>\n      <td>0.087042</td>\n      <td>0.000000</td>\n      <td>1</td>\n      <td>15</td>\n      <td>3.523498e-04</td>\n      <td>2</td>\n      <td>0.000019</td>\n      <td>6S7YkU9PZEXdyeKVuTnXRS</td>\n      <td>1</td>\n      <td>1A 2B 3A 4A</td>\n    </tr>\n    <tr>\n      <th>5899</th>\n      <td>Ibiza Lounge Club</td>\n      <td>0.000000e+00</td>\n      <td>0.001900</td>\n      <td>0.000000</td>\n      <td>3</td>\n      <td>6</td>\n      <td>1.067876e-07</td>\n      <td>90</td>\n      <td>0.000065</td>\n      <td>47JfhV9YkL58HUZluA650b</td>\n      <td>0</td>\n      <td>1A 2A 3A 4A</td>\n    </tr>\n    <tr>\n      <th>5900</th>\n      <td>Adriano Trindade</td>\n      <td>0.000000e+00</td>\n      <td>0.000000</td>\n      <td>0.000000</td>\n      <td>0</td>\n      <td>0</td>\n      <td>5.163080e-20</td>\n      <td>0</td>\n      <td>0.000012</td>\n      <td>3vXSdxNNn1FelqkMQf6ggX</td>\n      <td>0</td>\n      <td>1A 2A 3A 4A</td>\n    </tr>\n    <tr>\n      <th>5901</th>\n      <td>Gary Franks</td>\n      <td>0.000000e+00</td>\n      <td>0.065399</td>\n      <td>0.000000</td>\n      <td>3</td>\n      <td>15</td>\n      <td>4.232461e-08</td>\n      <td>30</td>\n      <td>0.000061</td>\n      <td>2O48M3sJpyAVYehc2BOFzY</td>\n      <td>1</td>\n      <td>1A 2B 3A 4A</td>\n    </tr>\n  </tbody>\n</table>\n<p>5902 rows × 12 columns</p>\n</div>"
     },
     "execution_count": 2,
     "metadata": {},
     "output_type": "execute_result"
    }
   ],
   "source": [
    "import pandas as pd\n",
    "\n",
    "df_artists_test = pd.read_csv(\"../../MusicOSet/network_clustered/nodes_test_v2.csv\", sep=\",\")\n",
    "df_artists_test.drop(columns=[\"harmonicclosnesscentrality\"], inplace=True)\n",
    "df_artists_test"
   ],
   "metadata": {
    "collapsed": false,
    "pycharm": {
     "name": "#%%\n"
    },
    "ExecuteTime": {
     "end_time": "2024-07-27T13:53:18.781783800Z",
     "start_time": "2024-07-27T13:53:18.558785900Z"
    }
   },
   "id": "fcd582b30cbfaa79"
  },
  {
   "cell_type": "markdown",
   "source": [
    "## Songs:"
   ],
   "metadata": {
    "collapsed": false,
    "pycharm": {
     "name": "#%% md\n"
    }
   },
   "id": "2d0bd0c15e29ca2f"
  },
  {
   "cell_type": "code",
   "execution_count": 3,
   "outputs": [
    {
     "data": {
      "text/plain": "                      song_id  \\\n0      3e9HZxeyfWwjeyPAMmWSSQ   \n1      5p7ujcrUXASCNwRaWNHR1C   \n2      2xLMifQCjDGFmkHkpNLD9h   \n3      3KkXRkHbMCARz0aVfEt68P   \n4      1rqqCSm0Qe4I9rUvWncaom   \n...                       ...   \n11954  5mz9pQZZXNpAw9CdQ7Bk8q   \n11955  2H9CKpZiLDF223BbwehpDF   \n11956  7zqM7Wm2xJLZ50qAnTLoHD   \n11957  4DPlKVZ6R1EHLfnIsy9ouh   \n11958  6RUa3ZwZYnJnNgZxtIYJR9   \n\n                                               song_name  \\\n0                                          thank u, next   \n1                                             Without Me   \n2                                             SICKO MODE   \n3          Sunflower - Spider-Man: Into the Spider-Verse   \n4                                             High Hopes   \n...                                                  ...   \n11954                Don't Pity Me - Mono; 2003 Remaster   \n11955                        Hush Hush; Hush Hush - Main   \n11956                              Lions, Tigers & Bears   \n11957                                         The Weight   \n11958  Purest of Pain (A Puro Dolor) - Martinee's Rad...   \n\n                                              id_artists  \\\n0                             ['66CXWjxzNUsdJxJ2JdwvnR']   \n1                             ['26VFTg2z8YR0cCuwLzESi2']   \n2                             ['0Y5tJX1MQlPlqiwlOH1tJY']   \n3      ['246dkjvS1zLTtiykXe5h60', '1zNqQNIdeOUZHb8zbZ...   \n4                             ['20JZFwl6HVl6yg8a4H3ZqK']   \n...                                                  ...   \n11954                         ['6lHC2EQMEMZiEmSfFloarn']   \n11955                         ['6wPhSqRtPu1UhRCDX5yaDJ']   \n11956                         ['7gSjFKpVmDgC2MMsnN8CYq']   \n11957  ['0rXI0q8Cahq6numvPlloaq', '3RwQ26hR2tJtA8F9p2...   \n11958  ['1qyAl8T6GTcaOViaI7fs1j', '7AOI1S3Uy411dDhNTd...   \n\n                                           name_artists  popularity  explicit  \\\n0                                     ['Ariana Grande']          87      True   \n1                                            ['Halsey']          87      True   \n2                                      ['Travis Scott']          86      True   \n3                           ['Post Malone', 'Swae Lee']          92     False   \n4                               ['Panic! At The Disco']          86     False   \n...                                                 ...         ...       ...   \n11954                              ['Peter And Gordon']           8     False   \n11955                            ['The Pussycat Dolls']          57     False   \n11956                              ['Jazmine Sullivan']          49     False   \n11957  ['Diana Ross & The Supremes', 'The Temptations']           2     False   \n11958                 ['Son By Four', 'Lewis Martinee']          10     False   \n\n           song_type  track_number  num_artists  num_available_markets  ...  \\\n0               Solo            11            1                     79  ...   \n1               Solo             1            1                     79  ...   \n2               Solo             3            1                     79  ...   \n3      Collaboration             2            2                     79  ...   \n4               Solo             4            1                     78  ...   \n...              ...           ...          ...                    ...  ...   \n11954           Solo             1            1                     78  ...   \n11955           Solo             1            1                     59  ...   \n11956           Solo             4            1                     71  ...   \n11957  Collaboration            23            2                     79  ...   \n11958  Collaboration             1            2                     79  ...   \n\n      acousticness  danceability  energy  instrumentalness  liveness  \\\n0          0.22900         0.717   0.653          0.000000    0.1010   \n1          0.29700         0.752   0.488          0.000009    0.0936   \n2          0.00513         0.834   0.730          0.000000    0.1240   \n3          0.55600         0.760   0.479          0.000000    0.0703   \n4          0.19300         0.579   0.904          0.000000    0.0640   \n...            ...           ...     ...               ...       ...   \n11954      0.61900         0.500   0.654          0.000000    0.3320   \n11955      0.10500         0.609   0.790          0.000000    0.3140   \n11956      0.07880         0.576   0.515          0.000000    0.1180   \n11957      0.37000         0.566   0.607          0.000000    0.6710   \n11958      0.45000         0.593   0.939          0.000013    0.1090   \n\n       loudness  speechiness  valence    tempo  hit  \n0        -5.634       0.0658    0.412  106.966    1  \n1        -7.050       0.0705    0.533  136.041    1  \n2        -3.714       0.2220    0.446  155.008    1  \n3        -5.574       0.0466    0.913   89.911    1  \n4        -2.729       0.0618    0.681   82.014    1  \n...         ...          ...      ...      ...  ...  \n11954    -8.633       0.0394    0.403  107.326    1  \n11955    -3.787       0.0663    0.664  129.334    1  \n11956    -6.178       0.0295    0.407   95.406    1  \n11957    -7.532       0.0357    0.765   91.378    1  \n11958    -3.431       0.0616    0.743  134.108    1  \n\n[11959 rows x 25 columns]",
      "text/html": "<div>\n<style scoped>\n    .dataframe tbody tr th:only-of-type {\n        vertical-align: middle;\n    }\n\n    .dataframe tbody tr th {\n        vertical-align: top;\n    }\n\n    .dataframe thead th {\n        text-align: right;\n    }\n</style>\n<table border=\"1\" class=\"dataframe\">\n  <thead>\n    <tr style=\"text-align: right;\">\n      <th></th>\n      <th>song_id</th>\n      <th>song_name</th>\n      <th>id_artists</th>\n      <th>name_artists</th>\n      <th>popularity</th>\n      <th>explicit</th>\n      <th>song_type</th>\n      <th>track_number</th>\n      <th>num_artists</th>\n      <th>num_available_markets</th>\n      <th>...</th>\n      <th>acousticness</th>\n      <th>danceability</th>\n      <th>energy</th>\n      <th>instrumentalness</th>\n      <th>liveness</th>\n      <th>loudness</th>\n      <th>speechiness</th>\n      <th>valence</th>\n      <th>tempo</th>\n      <th>hit</th>\n    </tr>\n  </thead>\n  <tbody>\n    <tr>\n      <th>0</th>\n      <td>3e9HZxeyfWwjeyPAMmWSSQ</td>\n      <td>thank u, next</td>\n      <td>['66CXWjxzNUsdJxJ2JdwvnR']</td>\n      <td>['Ariana Grande']</td>\n      <td>87</td>\n      <td>True</td>\n      <td>Solo</td>\n      <td>11</td>\n      <td>1</td>\n      <td>79</td>\n      <td>...</td>\n      <td>0.22900</td>\n      <td>0.717</td>\n      <td>0.653</td>\n      <td>0.000000</td>\n      <td>0.1010</td>\n      <td>-5.634</td>\n      <td>0.0658</td>\n      <td>0.412</td>\n      <td>106.966</td>\n      <td>1</td>\n    </tr>\n    <tr>\n      <th>1</th>\n      <td>5p7ujcrUXASCNwRaWNHR1C</td>\n      <td>Without Me</td>\n      <td>['26VFTg2z8YR0cCuwLzESi2']</td>\n      <td>['Halsey']</td>\n      <td>87</td>\n      <td>True</td>\n      <td>Solo</td>\n      <td>1</td>\n      <td>1</td>\n      <td>79</td>\n      <td>...</td>\n      <td>0.29700</td>\n      <td>0.752</td>\n      <td>0.488</td>\n      <td>0.000009</td>\n      <td>0.0936</td>\n      <td>-7.050</td>\n      <td>0.0705</td>\n      <td>0.533</td>\n      <td>136.041</td>\n      <td>1</td>\n    </tr>\n    <tr>\n      <th>2</th>\n      <td>2xLMifQCjDGFmkHkpNLD9h</td>\n      <td>SICKO MODE</td>\n      <td>['0Y5tJX1MQlPlqiwlOH1tJY']</td>\n      <td>['Travis Scott']</td>\n      <td>86</td>\n      <td>True</td>\n      <td>Solo</td>\n      <td>3</td>\n      <td>1</td>\n      <td>79</td>\n      <td>...</td>\n      <td>0.00513</td>\n      <td>0.834</td>\n      <td>0.730</td>\n      <td>0.000000</td>\n      <td>0.1240</td>\n      <td>-3.714</td>\n      <td>0.2220</td>\n      <td>0.446</td>\n      <td>155.008</td>\n      <td>1</td>\n    </tr>\n    <tr>\n      <th>3</th>\n      <td>3KkXRkHbMCARz0aVfEt68P</td>\n      <td>Sunflower - Spider-Man: Into the Spider-Verse</td>\n      <td>['246dkjvS1zLTtiykXe5h60', '1zNqQNIdeOUZHb8zbZ...</td>\n      <td>['Post Malone', 'Swae Lee']</td>\n      <td>92</td>\n      <td>False</td>\n      <td>Collaboration</td>\n      <td>2</td>\n      <td>2</td>\n      <td>79</td>\n      <td>...</td>\n      <td>0.55600</td>\n      <td>0.760</td>\n      <td>0.479</td>\n      <td>0.000000</td>\n      <td>0.0703</td>\n      <td>-5.574</td>\n      <td>0.0466</td>\n      <td>0.913</td>\n      <td>89.911</td>\n      <td>1</td>\n    </tr>\n    <tr>\n      <th>4</th>\n      <td>1rqqCSm0Qe4I9rUvWncaom</td>\n      <td>High Hopes</td>\n      <td>['20JZFwl6HVl6yg8a4H3ZqK']</td>\n      <td>['Panic! At The Disco']</td>\n      <td>86</td>\n      <td>False</td>\n      <td>Solo</td>\n      <td>4</td>\n      <td>1</td>\n      <td>78</td>\n      <td>...</td>\n      <td>0.19300</td>\n      <td>0.579</td>\n      <td>0.904</td>\n      <td>0.000000</td>\n      <td>0.0640</td>\n      <td>-2.729</td>\n      <td>0.0618</td>\n      <td>0.681</td>\n      <td>82.014</td>\n      <td>1</td>\n    </tr>\n    <tr>\n      <th>...</th>\n      <td>...</td>\n      <td>...</td>\n      <td>...</td>\n      <td>...</td>\n      <td>...</td>\n      <td>...</td>\n      <td>...</td>\n      <td>...</td>\n      <td>...</td>\n      <td>...</td>\n      <td>...</td>\n      <td>...</td>\n      <td>...</td>\n      <td>...</td>\n      <td>...</td>\n      <td>...</td>\n      <td>...</td>\n      <td>...</td>\n      <td>...</td>\n      <td>...</td>\n      <td>...</td>\n    </tr>\n    <tr>\n      <th>11954</th>\n      <td>5mz9pQZZXNpAw9CdQ7Bk8q</td>\n      <td>Don't Pity Me - Mono; 2003 Remaster</td>\n      <td>['6lHC2EQMEMZiEmSfFloarn']</td>\n      <td>['Peter And Gordon']</td>\n      <td>8</td>\n      <td>False</td>\n      <td>Solo</td>\n      <td>1</td>\n      <td>1</td>\n      <td>78</td>\n      <td>...</td>\n      <td>0.61900</td>\n      <td>0.500</td>\n      <td>0.654</td>\n      <td>0.000000</td>\n      <td>0.3320</td>\n      <td>-8.633</td>\n      <td>0.0394</td>\n      <td>0.403</td>\n      <td>107.326</td>\n      <td>1</td>\n    </tr>\n    <tr>\n      <th>11955</th>\n      <td>2H9CKpZiLDF223BbwehpDF</td>\n      <td>Hush Hush; Hush Hush - Main</td>\n      <td>['6wPhSqRtPu1UhRCDX5yaDJ']</td>\n      <td>['The Pussycat Dolls']</td>\n      <td>57</td>\n      <td>False</td>\n      <td>Solo</td>\n      <td>1</td>\n      <td>1</td>\n      <td>59</td>\n      <td>...</td>\n      <td>0.10500</td>\n      <td>0.609</td>\n      <td>0.790</td>\n      <td>0.000000</td>\n      <td>0.3140</td>\n      <td>-3.787</td>\n      <td>0.0663</td>\n      <td>0.664</td>\n      <td>129.334</td>\n      <td>1</td>\n    </tr>\n    <tr>\n      <th>11956</th>\n      <td>7zqM7Wm2xJLZ50qAnTLoHD</td>\n      <td>Lions, Tigers &amp; Bears</td>\n      <td>['7gSjFKpVmDgC2MMsnN8CYq']</td>\n      <td>['Jazmine Sullivan']</td>\n      <td>49</td>\n      <td>False</td>\n      <td>Solo</td>\n      <td>4</td>\n      <td>1</td>\n      <td>71</td>\n      <td>...</td>\n      <td>0.07880</td>\n      <td>0.576</td>\n      <td>0.515</td>\n      <td>0.000000</td>\n      <td>0.1180</td>\n      <td>-6.178</td>\n      <td>0.0295</td>\n      <td>0.407</td>\n      <td>95.406</td>\n      <td>1</td>\n    </tr>\n    <tr>\n      <th>11957</th>\n      <td>4DPlKVZ6R1EHLfnIsy9ouh</td>\n      <td>The Weight</td>\n      <td>['0rXI0q8Cahq6numvPlloaq', '3RwQ26hR2tJtA8F9p2...</td>\n      <td>['Diana Ross &amp; The Supremes', 'The Temptations']</td>\n      <td>2</td>\n      <td>False</td>\n      <td>Collaboration</td>\n      <td>23</td>\n      <td>2</td>\n      <td>79</td>\n      <td>...</td>\n      <td>0.37000</td>\n      <td>0.566</td>\n      <td>0.607</td>\n      <td>0.000000</td>\n      <td>0.6710</td>\n      <td>-7.532</td>\n      <td>0.0357</td>\n      <td>0.765</td>\n      <td>91.378</td>\n      <td>1</td>\n    </tr>\n    <tr>\n      <th>11958</th>\n      <td>6RUa3ZwZYnJnNgZxtIYJR9</td>\n      <td>Purest of Pain (A Puro Dolor) - Martinee's Rad...</td>\n      <td>['1qyAl8T6GTcaOViaI7fs1j', '7AOI1S3Uy411dDhNTd...</td>\n      <td>['Son By Four', 'Lewis Martinee']</td>\n      <td>10</td>\n      <td>False</td>\n      <td>Collaboration</td>\n      <td>1</td>\n      <td>2</td>\n      <td>79</td>\n      <td>...</td>\n      <td>0.45000</td>\n      <td>0.593</td>\n      <td>0.939</td>\n      <td>0.000013</td>\n      <td>0.1090</td>\n      <td>-3.431</td>\n      <td>0.0616</td>\n      <td>0.743</td>\n      <td>134.108</td>\n      <td>1</td>\n    </tr>\n  </tbody>\n</table>\n<p>11959 rows × 25 columns</p>\n</div>"
     },
     "execution_count": 3,
     "metadata": {},
     "output_type": "execute_result"
    }
   ],
   "source": [
    "df_hits = pd.read_csv(\"../../MusicOSet/additional/hits_dataset.csv\", delimiter=\"\\t\")\n",
    "df_hits[\"hit\"] = 1\n",
    "df_hits"
   ],
   "metadata": {
    "collapsed": false,
    "pycharm": {
     "name": "#%%\n"
    },
    "ExecuteTime": {
     "end_time": "2024-07-27T13:53:18.782784500Z",
     "start_time": "2024-07-27T13:53:18.589785600Z"
    }
   },
   "id": "9b95507e74b0f645"
  },
  {
   "cell_type": "code",
   "execution_count": 4,
   "outputs": [
    {
     "data": {
      "text/plain": "                       song_id  \\\n0       1TEL6MlSSVLSdhOSddidlJ   \n1       4uTvPEr01pjTbZgl7jcKBD   \n2       2hloaUoRonYssMuqLCBLTX   \n3       3wFLWP0FcIqHK1wb1CPthQ   \n4       5Il6Oe7lr5XM7A0cWbVQtr   \n...                        ...   \n899063  2tP0ryZParpdjvxubgXhTN   \n899064  7Ltni80U0w7bmYjXPNzSEa   \n899065  1gQClXN1Dq4rj0wBzddcNA   \n899066  2jhxQrFNdVPkWL28X7ZpeK   \n899067  6KkbkpUObAqcKGEfvguHJO   \n\n                                               song_name  \\\n0                                                  needy   \n1                                                   NASA   \n2                                              bloodline   \n3                                             fake smile   \n4                                               bad idea   \n...                                                  ...   \n899063                              Love Is Here to Stay   \n899064                                 Heinlein's Planet   \n899065     Beds are Burning - Karaoke Lead Vocal Version   \n899066  Un homme heureux - Version karaoké instrumentale   \n899067                     Santa Claus Is Coming to Town   \n\n                                               id_artists  \\\n0                              ['66CXWjxzNUsdJxJ2JdwvnR']   \n1                              ['66CXWjxzNUsdJxJ2JdwvnR']   \n2                              ['66CXWjxzNUsdJxJ2JdwvnR']   \n3                              ['66CXWjxzNUsdJxJ2JdwvnR']   \n4                              ['66CXWjxzNUsdJxJ2JdwvnR']   \n...                                                   ...   \n899063  ['3Dzj993UEz8Z5ovxuirzFO', '6RCsx4p5smZHYz2P5H...   \n899064                         ['4urvwbid7NFoVes5PTx9lV']   \n899065                         ['7yv4DJOCmilSbxxsdQgXWk']   \n899066                         ['7yv4DJOCmilSbxxsdQgXWk']   \n899067                         ['7tdO7d7r0vhwov7RIZWH6V']   \n\n                                     name_artists  popularity  explicit  \\\n0                               ['Ariana Grande']          76      True   \n1                               ['Ariana Grande']          76     False   \n2                               ['Ariana Grande']          74      True   \n3                               ['Ariana Grande']          73      True   \n4                               ['Ariana Grande']          74     False   \n...                                           ...         ...       ...   \n899063  ['Lindsey Buckingham', 'Christine McVie']          16     False   \n899064                             ['Tony Carey']           0     False   \n899065                             ['Pictomusic']           0     False   \n899066                             ['Pictomusic']           0     False   \n899067                            ['Mitch Ryder']           0     False   \n\n            song_type  track_number  num_artists  num_available_markets  ...  \\\n0                Solo             2            1                     79  ...   \n1                Solo             3            1                     79  ...   \n2                Solo             4            1                     79  ...   \n3                Solo             5            1                     79  ...   \n4                Solo             6            1                     79  ...   \n...               ...           ...          ...                    ...  ...   \n899063  Collaboration             5            2                      1  ...   \n899064           Solo             5            1                     79  ...   \n899065           Solo             2            1                     79  ...   \n899066           Solo             1            1                     79  ...   \n899067           Solo             3            1                     79  ...   \n\n       acousticness  danceability  energy  instrumentalness  liveness  \\\n0            0.7800         0.647   0.309          0.000007    0.2020   \n1            0.4510         0.747   0.458          0.000000    0.2520   \n2            0.0815         0.758   0.665          0.000157    0.2160   \n3            0.3290         0.450   0.619          0.000000    0.3190   \n4            0.0268         0.847   0.579          0.054500    0.1020   \n...             ...           ...     ...               ...       ...   \n899063       0.3660         0.446   0.658          0.000025    0.7510   \n899064       0.4810         0.305   0.456          0.933000    0.1110   \n899065       0.0118         0.852   0.648          0.000000    0.0503   \n899066       0.9730         0.664   0.353          0.787000    0.0878   \n899067       0.3860         0.651   0.896          0.001630    0.0734   \n\n        loudness  speechiness  valence    tempo  hit  \n0         -7.948       0.0366    0.195   87.045    0  \n1         -6.891       0.3030    0.470   75.029    0  \n2         -5.188       0.0774    0.643  151.976    0  \n3         -7.412       0.3720    0.427   83.300    0  \n4         -5.314       0.0719    0.569  137.998    0  \n...          ...          ...      ...      ...  ...  \n899063    -8.362       0.0297    0.554   84.740    0  \n899064   -20.199       0.0634    0.171   96.996    0  \n899065    -7.189       0.0480    0.559  120.150    0  \n899066   -12.303       0.0693    0.284  116.450    0  \n899067    -6.004       0.0327    0.893  148.107    0  \n\n[899068 rows x 25 columns]",
      "text/html": "<div>\n<style scoped>\n    .dataframe tbody tr th:only-of-type {\n        vertical-align: middle;\n    }\n\n    .dataframe tbody tr th {\n        vertical-align: top;\n    }\n\n    .dataframe thead th {\n        text-align: right;\n    }\n</style>\n<table border=\"1\" class=\"dataframe\">\n  <thead>\n    <tr style=\"text-align: right;\">\n      <th></th>\n      <th>song_id</th>\n      <th>song_name</th>\n      <th>id_artists</th>\n      <th>name_artists</th>\n      <th>popularity</th>\n      <th>explicit</th>\n      <th>song_type</th>\n      <th>track_number</th>\n      <th>num_artists</th>\n      <th>num_available_markets</th>\n      <th>...</th>\n      <th>acousticness</th>\n      <th>danceability</th>\n      <th>energy</th>\n      <th>instrumentalness</th>\n      <th>liveness</th>\n      <th>loudness</th>\n      <th>speechiness</th>\n      <th>valence</th>\n      <th>tempo</th>\n      <th>hit</th>\n    </tr>\n  </thead>\n  <tbody>\n    <tr>\n      <th>0</th>\n      <td>1TEL6MlSSVLSdhOSddidlJ</td>\n      <td>needy</td>\n      <td>['66CXWjxzNUsdJxJ2JdwvnR']</td>\n      <td>['Ariana Grande']</td>\n      <td>76</td>\n      <td>True</td>\n      <td>Solo</td>\n      <td>2</td>\n      <td>1</td>\n      <td>79</td>\n      <td>...</td>\n      <td>0.7800</td>\n      <td>0.647</td>\n      <td>0.309</td>\n      <td>0.000007</td>\n      <td>0.2020</td>\n      <td>-7.948</td>\n      <td>0.0366</td>\n      <td>0.195</td>\n      <td>87.045</td>\n      <td>0</td>\n    </tr>\n    <tr>\n      <th>1</th>\n      <td>4uTvPEr01pjTbZgl7jcKBD</td>\n      <td>NASA</td>\n      <td>['66CXWjxzNUsdJxJ2JdwvnR']</td>\n      <td>['Ariana Grande']</td>\n      <td>76</td>\n      <td>False</td>\n      <td>Solo</td>\n      <td>3</td>\n      <td>1</td>\n      <td>79</td>\n      <td>...</td>\n      <td>0.4510</td>\n      <td>0.747</td>\n      <td>0.458</td>\n      <td>0.000000</td>\n      <td>0.2520</td>\n      <td>-6.891</td>\n      <td>0.3030</td>\n      <td>0.470</td>\n      <td>75.029</td>\n      <td>0</td>\n    </tr>\n    <tr>\n      <th>2</th>\n      <td>2hloaUoRonYssMuqLCBLTX</td>\n      <td>bloodline</td>\n      <td>['66CXWjxzNUsdJxJ2JdwvnR']</td>\n      <td>['Ariana Grande']</td>\n      <td>74</td>\n      <td>True</td>\n      <td>Solo</td>\n      <td>4</td>\n      <td>1</td>\n      <td>79</td>\n      <td>...</td>\n      <td>0.0815</td>\n      <td>0.758</td>\n      <td>0.665</td>\n      <td>0.000157</td>\n      <td>0.2160</td>\n      <td>-5.188</td>\n      <td>0.0774</td>\n      <td>0.643</td>\n      <td>151.976</td>\n      <td>0</td>\n    </tr>\n    <tr>\n      <th>3</th>\n      <td>3wFLWP0FcIqHK1wb1CPthQ</td>\n      <td>fake smile</td>\n      <td>['66CXWjxzNUsdJxJ2JdwvnR']</td>\n      <td>['Ariana Grande']</td>\n      <td>73</td>\n      <td>True</td>\n      <td>Solo</td>\n      <td>5</td>\n      <td>1</td>\n      <td>79</td>\n      <td>...</td>\n      <td>0.3290</td>\n      <td>0.450</td>\n      <td>0.619</td>\n      <td>0.000000</td>\n      <td>0.3190</td>\n      <td>-7.412</td>\n      <td>0.3720</td>\n      <td>0.427</td>\n      <td>83.300</td>\n      <td>0</td>\n    </tr>\n    <tr>\n      <th>4</th>\n      <td>5Il6Oe7lr5XM7A0cWbVQtr</td>\n      <td>bad idea</td>\n      <td>['66CXWjxzNUsdJxJ2JdwvnR']</td>\n      <td>['Ariana Grande']</td>\n      <td>74</td>\n      <td>False</td>\n      <td>Solo</td>\n      <td>6</td>\n      <td>1</td>\n      <td>79</td>\n      <td>...</td>\n      <td>0.0268</td>\n      <td>0.847</td>\n      <td>0.579</td>\n      <td>0.054500</td>\n      <td>0.1020</td>\n      <td>-5.314</td>\n      <td>0.0719</td>\n      <td>0.569</td>\n      <td>137.998</td>\n      <td>0</td>\n    </tr>\n    <tr>\n      <th>...</th>\n      <td>...</td>\n      <td>...</td>\n      <td>...</td>\n      <td>...</td>\n      <td>...</td>\n      <td>...</td>\n      <td>...</td>\n      <td>...</td>\n      <td>...</td>\n      <td>...</td>\n      <td>...</td>\n      <td>...</td>\n      <td>...</td>\n      <td>...</td>\n      <td>...</td>\n      <td>...</td>\n      <td>...</td>\n      <td>...</td>\n      <td>...</td>\n      <td>...</td>\n      <td>...</td>\n    </tr>\n    <tr>\n      <th>899063</th>\n      <td>2tP0ryZParpdjvxubgXhTN</td>\n      <td>Love Is Here to Stay</td>\n      <td>['3Dzj993UEz8Z5ovxuirzFO', '6RCsx4p5smZHYz2P5H...</td>\n      <td>['Lindsey Buckingham', 'Christine McVie']</td>\n      <td>16</td>\n      <td>False</td>\n      <td>Collaboration</td>\n      <td>5</td>\n      <td>2</td>\n      <td>1</td>\n      <td>...</td>\n      <td>0.3660</td>\n      <td>0.446</td>\n      <td>0.658</td>\n      <td>0.000025</td>\n      <td>0.7510</td>\n      <td>-8.362</td>\n      <td>0.0297</td>\n      <td>0.554</td>\n      <td>84.740</td>\n      <td>0</td>\n    </tr>\n    <tr>\n      <th>899064</th>\n      <td>7Ltni80U0w7bmYjXPNzSEa</td>\n      <td>Heinlein's Planet</td>\n      <td>['4urvwbid7NFoVes5PTx9lV']</td>\n      <td>['Tony Carey']</td>\n      <td>0</td>\n      <td>False</td>\n      <td>Solo</td>\n      <td>5</td>\n      <td>1</td>\n      <td>79</td>\n      <td>...</td>\n      <td>0.4810</td>\n      <td>0.305</td>\n      <td>0.456</td>\n      <td>0.933000</td>\n      <td>0.1110</td>\n      <td>-20.199</td>\n      <td>0.0634</td>\n      <td>0.171</td>\n      <td>96.996</td>\n      <td>0</td>\n    </tr>\n    <tr>\n      <th>899065</th>\n      <td>1gQClXN1Dq4rj0wBzddcNA</td>\n      <td>Beds are Burning - Karaoke Lead Vocal Version</td>\n      <td>['7yv4DJOCmilSbxxsdQgXWk']</td>\n      <td>['Pictomusic']</td>\n      <td>0</td>\n      <td>False</td>\n      <td>Solo</td>\n      <td>2</td>\n      <td>1</td>\n      <td>79</td>\n      <td>...</td>\n      <td>0.0118</td>\n      <td>0.852</td>\n      <td>0.648</td>\n      <td>0.000000</td>\n      <td>0.0503</td>\n      <td>-7.189</td>\n      <td>0.0480</td>\n      <td>0.559</td>\n      <td>120.150</td>\n      <td>0</td>\n    </tr>\n    <tr>\n      <th>899066</th>\n      <td>2jhxQrFNdVPkWL28X7ZpeK</td>\n      <td>Un homme heureux - Version karaoké instrumentale</td>\n      <td>['7yv4DJOCmilSbxxsdQgXWk']</td>\n      <td>['Pictomusic']</td>\n      <td>0</td>\n      <td>False</td>\n      <td>Solo</td>\n      <td>1</td>\n      <td>1</td>\n      <td>79</td>\n      <td>...</td>\n      <td>0.9730</td>\n      <td>0.664</td>\n      <td>0.353</td>\n      <td>0.787000</td>\n      <td>0.0878</td>\n      <td>-12.303</td>\n      <td>0.0693</td>\n      <td>0.284</td>\n      <td>116.450</td>\n      <td>0</td>\n    </tr>\n    <tr>\n      <th>899067</th>\n      <td>6KkbkpUObAqcKGEfvguHJO</td>\n      <td>Santa Claus Is Coming to Town</td>\n      <td>['7tdO7d7r0vhwov7RIZWH6V']</td>\n      <td>['Mitch Ryder']</td>\n      <td>0</td>\n      <td>False</td>\n      <td>Solo</td>\n      <td>3</td>\n      <td>1</td>\n      <td>79</td>\n      <td>...</td>\n      <td>0.3860</td>\n      <td>0.651</td>\n      <td>0.896</td>\n      <td>0.001630</td>\n      <td>0.0734</td>\n      <td>-6.004</td>\n      <td>0.0327</td>\n      <td>0.893</td>\n      <td>148.107</td>\n      <td>0</td>\n    </tr>\n  </tbody>\n</table>\n<p>899068 rows × 25 columns</p>\n</div>"
     },
     "execution_count": 4,
     "metadata": {},
     "output_type": "execute_result"
    }
   ],
   "source": [
    "# Define the dictionary with column names and their desired data types\n",
    "dtype_dict = {\n",
    "    'song_id': str,\n",
    "    'song_name': str,\n",
    "    'id_artists': str,\n",
    "    'name_artists': str,\n",
    "    'popularity': int,\n",
    "    'explicit': bool,\n",
    "    'song_type': str,\n",
    "    'track_number': int,\n",
    "    'num_artists': int,\n",
    "    'num_available_markets': int,\n",
    "    'duration_ms': float,\n",
    "    'acousticness': float,\n",
    "    'danceability': float,\n",
    "    'energy': float,\n",
    "    'instrumentalness': float,\n",
    "    'liveness': float,\n",
    "    'loudness': float,\n",
    "    'speechiness': float,\n",
    "    'valence': float,\n",
    "    'tempo': float,\n",
    "    'hit': int\n",
    "}\n",
    "\n",
    "df_nonhits = pd.read_csv(\"../../MusicOSet/additional/nonhits_dataset.csv\", delimiter=\"\\t\", dtype=dtype_dict, na_values=[\"-\"])\n",
    "df_nonhits[\"hit\"] = 0\n",
    "df_nonhits"
   ],
   "metadata": {
    "collapsed": false,
    "pycharm": {
     "name": "#%%\n"
    },
    "ExecuteTime": {
     "end_time": "2024-07-27T13:53:21.048457700Z",
     "start_time": "2024-07-27T13:53:18.653784700Z"
    }
   },
   "id": "7a9dbad1b675b460"
  },
  {
   "cell_type": "code",
   "execution_count": 5,
   "outputs": [
    {
     "data": {
      "text/plain": "                       song_id  \\\n0       3e9HZxeyfWwjeyPAMmWSSQ   \n1       5p7ujcrUXASCNwRaWNHR1C   \n2       2xLMifQCjDGFmkHkpNLD9h   \n3       3KkXRkHbMCARz0aVfEt68P   \n4       1rqqCSm0Qe4I9rUvWncaom   \n...                        ...   \n899063  2tP0ryZParpdjvxubgXhTN   \n899064  7Ltni80U0w7bmYjXPNzSEa   \n899065  1gQClXN1Dq4rj0wBzddcNA   \n899066  2jhxQrFNdVPkWL28X7ZpeK   \n899067  6KkbkpUObAqcKGEfvguHJO   \n\n                                               song_name  \\\n0                                          thank u, next   \n1                                             Without Me   \n2                                             SICKO MODE   \n3          Sunflower - Spider-Man: Into the Spider-Verse   \n4                                             High Hopes   \n...                                                  ...   \n899063                              Love Is Here to Stay   \n899064                                 Heinlein's Planet   \n899065     Beds are Burning - Karaoke Lead Vocal Version   \n899066  Un homme heureux - Version karaoké instrumentale   \n899067                     Santa Claus Is Coming to Town   \n\n                                               id_artists  \\\n0                              ['66CXWjxzNUsdJxJ2JdwvnR']   \n1                              ['26VFTg2z8YR0cCuwLzESi2']   \n2                              ['0Y5tJX1MQlPlqiwlOH1tJY']   \n3       ['246dkjvS1zLTtiykXe5h60', '1zNqQNIdeOUZHb8zbZ...   \n4                              ['20JZFwl6HVl6yg8a4H3ZqK']   \n...                                                   ...   \n899063  ['3Dzj993UEz8Z5ovxuirzFO', '6RCsx4p5smZHYz2P5H...   \n899064                         ['4urvwbid7NFoVes5PTx9lV']   \n899065                         ['7yv4DJOCmilSbxxsdQgXWk']   \n899066                         ['7yv4DJOCmilSbxxsdQgXWk']   \n899067                         ['7tdO7d7r0vhwov7RIZWH6V']   \n\n                                     name_artists  popularity  explicit  \\\n0                               ['Ariana Grande']          87      True   \n1                                      ['Halsey']          87      True   \n2                                ['Travis Scott']          86      True   \n3                     ['Post Malone', 'Swae Lee']          92     False   \n4                         ['Panic! At The Disco']          86     False   \n...                                           ...         ...       ...   \n899063  ['Lindsey Buckingham', 'Christine McVie']          16     False   \n899064                             ['Tony Carey']           0     False   \n899065                             ['Pictomusic']           0     False   \n899066                             ['Pictomusic']           0     False   \n899067                            ['Mitch Ryder']           0     False   \n\n            song_type  track_number  num_artists  num_available_markets  ...  \\\n0                Solo            11            1                     79  ...   \n1                Solo             1            1                     79  ...   \n2                Solo             3            1                     79  ...   \n3       Collaboration             2            2                     79  ...   \n4                Solo             4            1                     78  ...   \n...               ...           ...          ...                    ...  ...   \n899063  Collaboration             5            2                      1  ...   \n899064           Solo             5            1                     79  ...   \n899065           Solo             2            1                     79  ...   \n899066           Solo             1            1                     79  ...   \n899067           Solo             3            1                     79  ...   \n\n       acousticness  danceability  energy  instrumentalness  liveness  \\\n0           0.22900         0.717   0.653          0.000000    0.1010   \n1           0.29700         0.752   0.488          0.000009    0.0936   \n2           0.00513         0.834   0.730          0.000000    0.1240   \n3           0.55600         0.760   0.479          0.000000    0.0703   \n4           0.19300         0.579   0.904          0.000000    0.0640   \n...             ...           ...     ...               ...       ...   \n899063      0.36600         0.446   0.658          0.000025    0.7510   \n899064      0.48100         0.305   0.456          0.933000    0.1110   \n899065      0.01180         0.852   0.648          0.000000    0.0503   \n899066      0.97300         0.664   0.353          0.787000    0.0878   \n899067      0.38600         0.651   0.896          0.001630    0.0734   \n\n        loudness  speechiness  valence    tempo  hit  \n0         -5.634       0.0658    0.412  106.966    1  \n1         -7.050       0.0705    0.533  136.041    1  \n2         -3.714       0.2220    0.446  155.008    1  \n3         -5.574       0.0466    0.913   89.911    1  \n4         -2.729       0.0618    0.681   82.014    1  \n...          ...          ...      ...      ...  ...  \n899063    -8.362       0.0297    0.554   84.740    0  \n899064   -20.199       0.0634    0.171   96.996    0  \n899065    -7.189       0.0480    0.559  120.150    0  \n899066   -12.303       0.0693    0.284  116.450    0  \n899067    -6.004       0.0327    0.893  148.107    0  \n\n[911027 rows x 25 columns]",
      "text/html": "<div>\n<style scoped>\n    .dataframe tbody tr th:only-of-type {\n        vertical-align: middle;\n    }\n\n    .dataframe tbody tr th {\n        vertical-align: top;\n    }\n\n    .dataframe thead th {\n        text-align: right;\n    }\n</style>\n<table border=\"1\" class=\"dataframe\">\n  <thead>\n    <tr style=\"text-align: right;\">\n      <th></th>\n      <th>song_id</th>\n      <th>song_name</th>\n      <th>id_artists</th>\n      <th>name_artists</th>\n      <th>popularity</th>\n      <th>explicit</th>\n      <th>song_type</th>\n      <th>track_number</th>\n      <th>num_artists</th>\n      <th>num_available_markets</th>\n      <th>...</th>\n      <th>acousticness</th>\n      <th>danceability</th>\n      <th>energy</th>\n      <th>instrumentalness</th>\n      <th>liveness</th>\n      <th>loudness</th>\n      <th>speechiness</th>\n      <th>valence</th>\n      <th>tempo</th>\n      <th>hit</th>\n    </tr>\n  </thead>\n  <tbody>\n    <tr>\n      <th>0</th>\n      <td>3e9HZxeyfWwjeyPAMmWSSQ</td>\n      <td>thank u, next</td>\n      <td>['66CXWjxzNUsdJxJ2JdwvnR']</td>\n      <td>['Ariana Grande']</td>\n      <td>87</td>\n      <td>True</td>\n      <td>Solo</td>\n      <td>11</td>\n      <td>1</td>\n      <td>79</td>\n      <td>...</td>\n      <td>0.22900</td>\n      <td>0.717</td>\n      <td>0.653</td>\n      <td>0.000000</td>\n      <td>0.1010</td>\n      <td>-5.634</td>\n      <td>0.0658</td>\n      <td>0.412</td>\n      <td>106.966</td>\n      <td>1</td>\n    </tr>\n    <tr>\n      <th>1</th>\n      <td>5p7ujcrUXASCNwRaWNHR1C</td>\n      <td>Without Me</td>\n      <td>['26VFTg2z8YR0cCuwLzESi2']</td>\n      <td>['Halsey']</td>\n      <td>87</td>\n      <td>True</td>\n      <td>Solo</td>\n      <td>1</td>\n      <td>1</td>\n      <td>79</td>\n      <td>...</td>\n      <td>0.29700</td>\n      <td>0.752</td>\n      <td>0.488</td>\n      <td>0.000009</td>\n      <td>0.0936</td>\n      <td>-7.050</td>\n      <td>0.0705</td>\n      <td>0.533</td>\n      <td>136.041</td>\n      <td>1</td>\n    </tr>\n    <tr>\n      <th>2</th>\n      <td>2xLMifQCjDGFmkHkpNLD9h</td>\n      <td>SICKO MODE</td>\n      <td>['0Y5tJX1MQlPlqiwlOH1tJY']</td>\n      <td>['Travis Scott']</td>\n      <td>86</td>\n      <td>True</td>\n      <td>Solo</td>\n      <td>3</td>\n      <td>1</td>\n      <td>79</td>\n      <td>...</td>\n      <td>0.00513</td>\n      <td>0.834</td>\n      <td>0.730</td>\n      <td>0.000000</td>\n      <td>0.1240</td>\n      <td>-3.714</td>\n      <td>0.2220</td>\n      <td>0.446</td>\n      <td>155.008</td>\n      <td>1</td>\n    </tr>\n    <tr>\n      <th>3</th>\n      <td>3KkXRkHbMCARz0aVfEt68P</td>\n      <td>Sunflower - Spider-Man: Into the Spider-Verse</td>\n      <td>['246dkjvS1zLTtiykXe5h60', '1zNqQNIdeOUZHb8zbZ...</td>\n      <td>['Post Malone', 'Swae Lee']</td>\n      <td>92</td>\n      <td>False</td>\n      <td>Collaboration</td>\n      <td>2</td>\n      <td>2</td>\n      <td>79</td>\n      <td>...</td>\n      <td>0.55600</td>\n      <td>0.760</td>\n      <td>0.479</td>\n      <td>0.000000</td>\n      <td>0.0703</td>\n      <td>-5.574</td>\n      <td>0.0466</td>\n      <td>0.913</td>\n      <td>89.911</td>\n      <td>1</td>\n    </tr>\n    <tr>\n      <th>4</th>\n      <td>1rqqCSm0Qe4I9rUvWncaom</td>\n      <td>High Hopes</td>\n      <td>['20JZFwl6HVl6yg8a4H3ZqK']</td>\n      <td>['Panic! At The Disco']</td>\n      <td>86</td>\n      <td>False</td>\n      <td>Solo</td>\n      <td>4</td>\n      <td>1</td>\n      <td>78</td>\n      <td>...</td>\n      <td>0.19300</td>\n      <td>0.579</td>\n      <td>0.904</td>\n      <td>0.000000</td>\n      <td>0.0640</td>\n      <td>-2.729</td>\n      <td>0.0618</td>\n      <td>0.681</td>\n      <td>82.014</td>\n      <td>1</td>\n    </tr>\n    <tr>\n      <th>...</th>\n      <td>...</td>\n      <td>...</td>\n      <td>...</td>\n      <td>...</td>\n      <td>...</td>\n      <td>...</td>\n      <td>...</td>\n      <td>...</td>\n      <td>...</td>\n      <td>...</td>\n      <td>...</td>\n      <td>...</td>\n      <td>...</td>\n      <td>...</td>\n      <td>...</td>\n      <td>...</td>\n      <td>...</td>\n      <td>...</td>\n      <td>...</td>\n      <td>...</td>\n      <td>...</td>\n    </tr>\n    <tr>\n      <th>899063</th>\n      <td>2tP0ryZParpdjvxubgXhTN</td>\n      <td>Love Is Here to Stay</td>\n      <td>['3Dzj993UEz8Z5ovxuirzFO', '6RCsx4p5smZHYz2P5H...</td>\n      <td>['Lindsey Buckingham', 'Christine McVie']</td>\n      <td>16</td>\n      <td>False</td>\n      <td>Collaboration</td>\n      <td>5</td>\n      <td>2</td>\n      <td>1</td>\n      <td>...</td>\n      <td>0.36600</td>\n      <td>0.446</td>\n      <td>0.658</td>\n      <td>0.000025</td>\n      <td>0.7510</td>\n      <td>-8.362</td>\n      <td>0.0297</td>\n      <td>0.554</td>\n      <td>84.740</td>\n      <td>0</td>\n    </tr>\n    <tr>\n      <th>899064</th>\n      <td>7Ltni80U0w7bmYjXPNzSEa</td>\n      <td>Heinlein's Planet</td>\n      <td>['4urvwbid7NFoVes5PTx9lV']</td>\n      <td>['Tony Carey']</td>\n      <td>0</td>\n      <td>False</td>\n      <td>Solo</td>\n      <td>5</td>\n      <td>1</td>\n      <td>79</td>\n      <td>...</td>\n      <td>0.48100</td>\n      <td>0.305</td>\n      <td>0.456</td>\n      <td>0.933000</td>\n      <td>0.1110</td>\n      <td>-20.199</td>\n      <td>0.0634</td>\n      <td>0.171</td>\n      <td>96.996</td>\n      <td>0</td>\n    </tr>\n    <tr>\n      <th>899065</th>\n      <td>1gQClXN1Dq4rj0wBzddcNA</td>\n      <td>Beds are Burning - Karaoke Lead Vocal Version</td>\n      <td>['7yv4DJOCmilSbxxsdQgXWk']</td>\n      <td>['Pictomusic']</td>\n      <td>0</td>\n      <td>False</td>\n      <td>Solo</td>\n      <td>2</td>\n      <td>1</td>\n      <td>79</td>\n      <td>...</td>\n      <td>0.01180</td>\n      <td>0.852</td>\n      <td>0.648</td>\n      <td>0.000000</td>\n      <td>0.0503</td>\n      <td>-7.189</td>\n      <td>0.0480</td>\n      <td>0.559</td>\n      <td>120.150</td>\n      <td>0</td>\n    </tr>\n    <tr>\n      <th>899066</th>\n      <td>2jhxQrFNdVPkWL28X7ZpeK</td>\n      <td>Un homme heureux - Version karaoké instrumentale</td>\n      <td>['7yv4DJOCmilSbxxsdQgXWk']</td>\n      <td>['Pictomusic']</td>\n      <td>0</td>\n      <td>False</td>\n      <td>Solo</td>\n      <td>1</td>\n      <td>1</td>\n      <td>79</td>\n      <td>...</td>\n      <td>0.97300</td>\n      <td>0.664</td>\n      <td>0.353</td>\n      <td>0.787000</td>\n      <td>0.0878</td>\n      <td>-12.303</td>\n      <td>0.0693</td>\n      <td>0.284</td>\n      <td>116.450</td>\n      <td>0</td>\n    </tr>\n    <tr>\n      <th>899067</th>\n      <td>6KkbkpUObAqcKGEfvguHJO</td>\n      <td>Santa Claus Is Coming to Town</td>\n      <td>['7tdO7d7r0vhwov7RIZWH6V']</td>\n      <td>['Mitch Ryder']</td>\n      <td>0</td>\n      <td>False</td>\n      <td>Solo</td>\n      <td>3</td>\n      <td>1</td>\n      <td>79</td>\n      <td>...</td>\n      <td>0.38600</td>\n      <td>0.651</td>\n      <td>0.896</td>\n      <td>0.001630</td>\n      <td>0.0734</td>\n      <td>-6.004</td>\n      <td>0.0327</td>\n      <td>0.893</td>\n      <td>148.107</td>\n      <td>0</td>\n    </tr>\n  </tbody>\n</table>\n<p>911027 rows × 25 columns</p>\n</div>"
     },
     "execution_count": 5,
     "metadata": {},
     "output_type": "execute_result"
    }
   ],
   "source": [
    "combined_df = pd.concat([df_hits, df_nonhits], axis=0)\n",
    "# Drop all rows with NaN values\n",
    "combined_df.replace(\"-\", float(\"nan\"), inplace=True)\n",
    "#combined_df.fillna(combined_df.mean(), inplace=True)\n",
    "#combined_df.dropna(inplace=True)   # drop nan value rows\n",
    "\n",
    "combined_df"
   ],
   "metadata": {
    "collapsed": false,
    "pycharm": {
     "name": "#%%\n"
    },
    "ExecuteTime": {
     "end_time": "2024-07-27T13:53:21.816454200Z",
     "start_time": "2024-07-27T13:53:21.053456200Z"
    }
   },
   "id": "95b93a1143b6d30b"
  },
  {
   "cell_type": "code",
   "execution_count": 6,
   "outputs": [
    {
     "data": {
      "text/plain": "                      song_id song_name                  id_artists  \\\n10083  6frqShk9fhsOzoKPYXKzk9     Girls  ['7onp6ew3LGoQImTt1I78gt']   \n\n          name_artists  popularity  explicit song_type  track_number  \\\n10083  ['Major Lance']           1     False      Solo             3   \n\n       num_artists  num_available_markets  ... acousticness  danceability  \\\n10083            1                     78  ...        0.562           0.8   \n\n       energy  instrumentalness  liveness  loudness  speechiness  valence  \\\n10083   0.649               0.0    0.0816    -9.192       0.0384    0.947   \n\n         tempo  hit  \n10083  124.473    1  \n\n[1 rows x 25 columns]",
      "text/html": "<div>\n<style scoped>\n    .dataframe tbody tr th:only-of-type {\n        vertical-align: middle;\n    }\n\n    .dataframe tbody tr th {\n        vertical-align: top;\n    }\n\n    .dataframe thead th {\n        text-align: right;\n    }\n</style>\n<table border=\"1\" class=\"dataframe\">\n  <thead>\n    <tr style=\"text-align: right;\">\n      <th></th>\n      <th>song_id</th>\n      <th>song_name</th>\n      <th>id_artists</th>\n      <th>name_artists</th>\n      <th>popularity</th>\n      <th>explicit</th>\n      <th>song_type</th>\n      <th>track_number</th>\n      <th>num_artists</th>\n      <th>num_available_markets</th>\n      <th>...</th>\n      <th>acousticness</th>\n      <th>danceability</th>\n      <th>energy</th>\n      <th>instrumentalness</th>\n      <th>liveness</th>\n      <th>loudness</th>\n      <th>speechiness</th>\n      <th>valence</th>\n      <th>tempo</th>\n      <th>hit</th>\n    </tr>\n  </thead>\n  <tbody>\n    <tr>\n      <th>10083</th>\n      <td>6frqShk9fhsOzoKPYXKzk9</td>\n      <td>Girls</td>\n      <td>['7onp6ew3LGoQImTt1I78gt']</td>\n      <td>['Major Lance']</td>\n      <td>1</td>\n      <td>False</td>\n      <td>Solo</td>\n      <td>3</td>\n      <td>1</td>\n      <td>78</td>\n      <td>...</td>\n      <td>0.562</td>\n      <td>0.8</td>\n      <td>0.649</td>\n      <td>0.0</td>\n      <td>0.0816</td>\n      <td>-9.192</td>\n      <td>0.0384</td>\n      <td>0.947</td>\n      <td>124.473</td>\n      <td>1</td>\n    </tr>\n  </tbody>\n</table>\n<p>1 rows × 25 columns</p>\n</div>"
     },
     "execution_count": 6,
     "metadata": {},
     "output_type": "execute_result"
    }
   ],
   "source": [
    "lel = combined_df[(combined_df[\"song_id\"] == \"6frqShk9fhsOzoKPYXKzk9\")]\n",
    "lel"
   ],
   "metadata": {
    "collapsed": false,
    "pycharm": {
     "name": "#%%\n"
    },
    "ExecuteTime": {
     "end_time": "2024-07-27T13:53:21.924455700Z",
     "start_time": "2024-07-27T13:53:21.837457800Z"
    }
   },
   "id": "fee1f97ee4895122"
  },
  {
   "cell_type": "code",
   "execution_count": 7,
   "outputs": [],
   "source": [
    "import pandas as pd\n",
    "from sklearn.impute import SimpleImputer\n",
    "\n",
    "# Assuming combined_df is your DataFrame\n",
    "# Identify numerical columns\n",
    "numerical_cols = combined_df.select_dtypes(include='number').columns\n",
    "\n",
    "# Create an instance of SimpleImputer with strategy='mean'\n",
    "imputer = SimpleImputer(strategy='mean')\n",
    "\n",
    "# Fit the imputer to the data and transform the numerical columns\n",
    "combined_df[numerical_cols] = imputer.fit_transform(combined_df[numerical_cols])"
   ],
   "metadata": {
    "collapsed": false,
    "pycharm": {
     "name": "#%%\n"
    },
    "ExecuteTime": {
     "end_time": "2024-07-27T13:53:22.792164800Z",
     "start_time": "2024-07-27T13:53:21.853457200Z"
    }
   },
   "id": "bec6391dbedca54d"
  },
  {
   "cell_type": "code",
   "execution_count": 8,
   "outputs": [
    {
     "data": {
      "text/plain": "Index(['popularity', 'track_number', 'num_artists', 'num_available_markets',\n       'duration_ms', 'key', 'mode', 'time_signature', 'acousticness',\n       'danceability', 'energy', 'instrumentalness', 'liveness', 'loudness',\n       'speechiness', 'valence', 'tempo', 'hit'],\n      dtype='object')"
     },
     "execution_count": 8,
     "metadata": {},
     "output_type": "execute_result"
    }
   ],
   "source": [
    "numerical_cols"
   ],
   "metadata": {
    "collapsed": false,
    "pycharm": {
     "name": "#%%\n"
    },
    "ExecuteTime": {
     "end_time": "2024-07-27T13:53:22.808723800Z",
     "start_time": "2024-07-27T13:53:22.792687400Z"
    }
   },
   "id": "7c2561c77fe8cbdc"
  },
  {
   "cell_type": "code",
   "execution_count": 9,
   "outputs": [
    {
     "name": "stdout",
     "output_type": "stream",
     "text": [
      "Columns with NaN values:\n",
      "[]\n"
     ]
    }
   ],
   "source": [
    "# Check for NaN values in all columns\n",
    "nan_columns = combined_df.columns[combined_df.isna().any()].tolist()\n",
    "\n",
    "# Print columns with NaN values\n",
    "print(\"Columns with NaN values:\")\n",
    "print(nan_columns)\n"
   ],
   "metadata": {
    "collapsed": false,
    "pycharm": {
     "name": "#%%\n"
    },
    "ExecuteTime": {
     "end_time": "2024-07-27T13:53:22.949827300Z",
     "start_time": "2024-07-27T13:53:22.881827800Z"
    }
   },
   "id": "1d28d9f80e1638a4"
  },
  {
   "cell_type": "code",
   "execution_count": 10,
   "outputs": [
    {
     "data": {
      "text/plain": "                       song_id  \\\n0       3e9HZxeyfWwjeyPAMmWSSQ   \n1       5p7ujcrUXASCNwRaWNHR1C   \n2       2xLMifQCjDGFmkHkpNLD9h   \n3       3KkXRkHbMCARz0aVfEt68P   \n4       1rqqCSm0Qe4I9rUvWncaom   \n...                        ...   \n899063  2tP0ryZParpdjvxubgXhTN   \n899064  7Ltni80U0w7bmYjXPNzSEa   \n899065  1gQClXN1Dq4rj0wBzddcNA   \n899066  2jhxQrFNdVPkWL28X7ZpeK   \n899067  6KkbkpUObAqcKGEfvguHJO   \n\n                                               song_name  \\\n0                                          thank u, next   \n1                                             Without Me   \n2                                             SICKO MODE   \n3          Sunflower - Spider-Man: Into the Spider-Verse   \n4                                             High Hopes   \n...                                                  ...   \n899063                              Love Is Here to Stay   \n899064                                 Heinlein's Planet   \n899065     Beds are Burning - Karaoke Lead Vocal Version   \n899066  Un homme heureux - Version karaoké instrumentale   \n899067                     Santa Claus Is Coming to Town   \n\n                                               id_artists  \\\n0                              ['66CXWjxzNUsdJxJ2JdwvnR']   \n1                              ['26VFTg2z8YR0cCuwLzESi2']   \n2                              ['0Y5tJX1MQlPlqiwlOH1tJY']   \n3       ['246dkjvS1zLTtiykXe5h60', '1zNqQNIdeOUZHb8zbZ...   \n4                              ['20JZFwl6HVl6yg8a4H3ZqK']   \n...                                                   ...   \n899063  ['3Dzj993UEz8Z5ovxuirzFO', '6RCsx4p5smZHYz2P5H...   \n899064                         ['4urvwbid7NFoVes5PTx9lV']   \n899065                         ['7yv4DJOCmilSbxxsdQgXWk']   \n899066                         ['7yv4DJOCmilSbxxsdQgXWk']   \n899067                         ['7tdO7d7r0vhwov7RIZWH6V']   \n\n                                     name_artists  popularity  explicit  \\\n0                               ['Ariana Grande']        87.0      True   \n1                                      ['Halsey']        87.0      True   \n2                                ['Travis Scott']        86.0      True   \n3                     ['Post Malone', 'Swae Lee']        92.0     False   \n4                         ['Panic! At The Disco']        86.0     False   \n...                                           ...         ...       ...   \n899063  ['Lindsey Buckingham', 'Christine McVie']        16.0     False   \n899064                             ['Tony Carey']         0.0     False   \n899065                             ['Pictomusic']         0.0     False   \n899066                             ['Pictomusic']         0.0     False   \n899067                            ['Mitch Ryder']         0.0     False   \n\n            song_type  track_number  num_artists  num_available_markets  ...  \\\n0                Solo          11.0          1.0                   79.0  ...   \n1                Solo           1.0          1.0                   79.0  ...   \n2                Solo           3.0          1.0                   79.0  ...   \n3       Collaboration           2.0          2.0                   79.0  ...   \n4                Solo           4.0          1.0                   78.0  ...   \n...               ...           ...          ...                    ...  ...   \n899063  Collaboration           5.0          2.0                    1.0  ...   \n899064           Solo           5.0          1.0                   79.0  ...   \n899065           Solo           2.0          1.0                   79.0  ...   \n899066           Solo           1.0          1.0                   79.0  ...   \n899067           Solo           3.0          1.0                   79.0  ...   \n\n       acousticness  danceability  energy  instrumentalness  liveness  \\\n0           0.22900         0.717   0.653          0.000000    0.1010   \n1           0.29700         0.752   0.488          0.000009    0.0936   \n2           0.00513         0.834   0.730          0.000000    0.1240   \n3           0.55600         0.760   0.479          0.000000    0.0703   \n4           0.19300         0.579   0.904          0.000000    0.0640   \n...             ...           ...     ...               ...       ...   \n899063      0.36600         0.446   0.658          0.000025    0.7510   \n899064      0.48100         0.305   0.456          0.933000    0.1110   \n899065      0.01180         0.852   0.648          0.000000    0.0503   \n899066      0.97300         0.664   0.353          0.787000    0.0878   \n899067      0.38600         0.651   0.896          0.001630    0.0734   \n\n        loudness  speechiness  valence    tempo  hit  \n0         -5.634       0.0658    0.412  106.966  1.0  \n1         -7.050       0.0705    0.533  136.041  1.0  \n2         -3.714       0.2220    0.446  155.008  1.0  \n3         -5.574       0.0466    0.913   89.911  1.0  \n4         -2.729       0.0618    0.681   82.014  1.0  \n...          ...          ...      ...      ...  ...  \n899063    -8.362       0.0297    0.554   84.740  0.0  \n899064   -20.199       0.0634    0.171   96.996  0.0  \n899065    -7.189       0.0480    0.559  120.150  0.0  \n899066   -12.303       0.0693    0.284  116.450  0.0  \n899067    -6.004       0.0327    0.893  148.107  0.0  \n\n[911027 rows x 25 columns]",
      "text/html": "<div>\n<style scoped>\n    .dataframe tbody tr th:only-of-type {\n        vertical-align: middle;\n    }\n\n    .dataframe tbody tr th {\n        vertical-align: top;\n    }\n\n    .dataframe thead th {\n        text-align: right;\n    }\n</style>\n<table border=\"1\" class=\"dataframe\">\n  <thead>\n    <tr style=\"text-align: right;\">\n      <th></th>\n      <th>song_id</th>\n      <th>song_name</th>\n      <th>id_artists</th>\n      <th>name_artists</th>\n      <th>popularity</th>\n      <th>explicit</th>\n      <th>song_type</th>\n      <th>track_number</th>\n      <th>num_artists</th>\n      <th>num_available_markets</th>\n      <th>...</th>\n      <th>acousticness</th>\n      <th>danceability</th>\n      <th>energy</th>\n      <th>instrumentalness</th>\n      <th>liveness</th>\n      <th>loudness</th>\n      <th>speechiness</th>\n      <th>valence</th>\n      <th>tempo</th>\n      <th>hit</th>\n    </tr>\n  </thead>\n  <tbody>\n    <tr>\n      <th>0</th>\n      <td>3e9HZxeyfWwjeyPAMmWSSQ</td>\n      <td>thank u, next</td>\n      <td>['66CXWjxzNUsdJxJ2JdwvnR']</td>\n      <td>['Ariana Grande']</td>\n      <td>87.0</td>\n      <td>True</td>\n      <td>Solo</td>\n      <td>11.0</td>\n      <td>1.0</td>\n      <td>79.0</td>\n      <td>...</td>\n      <td>0.22900</td>\n      <td>0.717</td>\n      <td>0.653</td>\n      <td>0.000000</td>\n      <td>0.1010</td>\n      <td>-5.634</td>\n      <td>0.0658</td>\n      <td>0.412</td>\n      <td>106.966</td>\n      <td>1.0</td>\n    </tr>\n    <tr>\n      <th>1</th>\n      <td>5p7ujcrUXASCNwRaWNHR1C</td>\n      <td>Without Me</td>\n      <td>['26VFTg2z8YR0cCuwLzESi2']</td>\n      <td>['Halsey']</td>\n      <td>87.0</td>\n      <td>True</td>\n      <td>Solo</td>\n      <td>1.0</td>\n      <td>1.0</td>\n      <td>79.0</td>\n      <td>...</td>\n      <td>0.29700</td>\n      <td>0.752</td>\n      <td>0.488</td>\n      <td>0.000009</td>\n      <td>0.0936</td>\n      <td>-7.050</td>\n      <td>0.0705</td>\n      <td>0.533</td>\n      <td>136.041</td>\n      <td>1.0</td>\n    </tr>\n    <tr>\n      <th>2</th>\n      <td>2xLMifQCjDGFmkHkpNLD9h</td>\n      <td>SICKO MODE</td>\n      <td>['0Y5tJX1MQlPlqiwlOH1tJY']</td>\n      <td>['Travis Scott']</td>\n      <td>86.0</td>\n      <td>True</td>\n      <td>Solo</td>\n      <td>3.0</td>\n      <td>1.0</td>\n      <td>79.0</td>\n      <td>...</td>\n      <td>0.00513</td>\n      <td>0.834</td>\n      <td>0.730</td>\n      <td>0.000000</td>\n      <td>0.1240</td>\n      <td>-3.714</td>\n      <td>0.2220</td>\n      <td>0.446</td>\n      <td>155.008</td>\n      <td>1.0</td>\n    </tr>\n    <tr>\n      <th>3</th>\n      <td>3KkXRkHbMCARz0aVfEt68P</td>\n      <td>Sunflower - Spider-Man: Into the Spider-Verse</td>\n      <td>['246dkjvS1zLTtiykXe5h60', '1zNqQNIdeOUZHb8zbZ...</td>\n      <td>['Post Malone', 'Swae Lee']</td>\n      <td>92.0</td>\n      <td>False</td>\n      <td>Collaboration</td>\n      <td>2.0</td>\n      <td>2.0</td>\n      <td>79.0</td>\n      <td>...</td>\n      <td>0.55600</td>\n      <td>0.760</td>\n      <td>0.479</td>\n      <td>0.000000</td>\n      <td>0.0703</td>\n      <td>-5.574</td>\n      <td>0.0466</td>\n      <td>0.913</td>\n      <td>89.911</td>\n      <td>1.0</td>\n    </tr>\n    <tr>\n      <th>4</th>\n      <td>1rqqCSm0Qe4I9rUvWncaom</td>\n      <td>High Hopes</td>\n      <td>['20JZFwl6HVl6yg8a4H3ZqK']</td>\n      <td>['Panic! At The Disco']</td>\n      <td>86.0</td>\n      <td>False</td>\n      <td>Solo</td>\n      <td>4.0</td>\n      <td>1.0</td>\n      <td>78.0</td>\n      <td>...</td>\n      <td>0.19300</td>\n      <td>0.579</td>\n      <td>0.904</td>\n      <td>0.000000</td>\n      <td>0.0640</td>\n      <td>-2.729</td>\n      <td>0.0618</td>\n      <td>0.681</td>\n      <td>82.014</td>\n      <td>1.0</td>\n    </tr>\n    <tr>\n      <th>...</th>\n      <td>...</td>\n      <td>...</td>\n      <td>...</td>\n      <td>...</td>\n      <td>...</td>\n      <td>...</td>\n      <td>...</td>\n      <td>...</td>\n      <td>...</td>\n      <td>...</td>\n      <td>...</td>\n      <td>...</td>\n      <td>...</td>\n      <td>...</td>\n      <td>...</td>\n      <td>...</td>\n      <td>...</td>\n      <td>...</td>\n      <td>...</td>\n      <td>...</td>\n      <td>...</td>\n    </tr>\n    <tr>\n      <th>899063</th>\n      <td>2tP0ryZParpdjvxubgXhTN</td>\n      <td>Love Is Here to Stay</td>\n      <td>['3Dzj993UEz8Z5ovxuirzFO', '6RCsx4p5smZHYz2P5H...</td>\n      <td>['Lindsey Buckingham', 'Christine McVie']</td>\n      <td>16.0</td>\n      <td>False</td>\n      <td>Collaboration</td>\n      <td>5.0</td>\n      <td>2.0</td>\n      <td>1.0</td>\n      <td>...</td>\n      <td>0.36600</td>\n      <td>0.446</td>\n      <td>0.658</td>\n      <td>0.000025</td>\n      <td>0.7510</td>\n      <td>-8.362</td>\n      <td>0.0297</td>\n      <td>0.554</td>\n      <td>84.740</td>\n      <td>0.0</td>\n    </tr>\n    <tr>\n      <th>899064</th>\n      <td>7Ltni80U0w7bmYjXPNzSEa</td>\n      <td>Heinlein's Planet</td>\n      <td>['4urvwbid7NFoVes5PTx9lV']</td>\n      <td>['Tony Carey']</td>\n      <td>0.0</td>\n      <td>False</td>\n      <td>Solo</td>\n      <td>5.0</td>\n      <td>1.0</td>\n      <td>79.0</td>\n      <td>...</td>\n      <td>0.48100</td>\n      <td>0.305</td>\n      <td>0.456</td>\n      <td>0.933000</td>\n      <td>0.1110</td>\n      <td>-20.199</td>\n      <td>0.0634</td>\n      <td>0.171</td>\n      <td>96.996</td>\n      <td>0.0</td>\n    </tr>\n    <tr>\n      <th>899065</th>\n      <td>1gQClXN1Dq4rj0wBzddcNA</td>\n      <td>Beds are Burning - Karaoke Lead Vocal Version</td>\n      <td>['7yv4DJOCmilSbxxsdQgXWk']</td>\n      <td>['Pictomusic']</td>\n      <td>0.0</td>\n      <td>False</td>\n      <td>Solo</td>\n      <td>2.0</td>\n      <td>1.0</td>\n      <td>79.0</td>\n      <td>...</td>\n      <td>0.01180</td>\n      <td>0.852</td>\n      <td>0.648</td>\n      <td>0.000000</td>\n      <td>0.0503</td>\n      <td>-7.189</td>\n      <td>0.0480</td>\n      <td>0.559</td>\n      <td>120.150</td>\n      <td>0.0</td>\n    </tr>\n    <tr>\n      <th>899066</th>\n      <td>2jhxQrFNdVPkWL28X7ZpeK</td>\n      <td>Un homme heureux - Version karaoké instrumentale</td>\n      <td>['7yv4DJOCmilSbxxsdQgXWk']</td>\n      <td>['Pictomusic']</td>\n      <td>0.0</td>\n      <td>False</td>\n      <td>Solo</td>\n      <td>1.0</td>\n      <td>1.0</td>\n      <td>79.0</td>\n      <td>...</td>\n      <td>0.97300</td>\n      <td>0.664</td>\n      <td>0.353</td>\n      <td>0.787000</td>\n      <td>0.0878</td>\n      <td>-12.303</td>\n      <td>0.0693</td>\n      <td>0.284</td>\n      <td>116.450</td>\n      <td>0.0</td>\n    </tr>\n    <tr>\n      <th>899067</th>\n      <td>6KkbkpUObAqcKGEfvguHJO</td>\n      <td>Santa Claus Is Coming to Town</td>\n      <td>['7tdO7d7r0vhwov7RIZWH6V']</td>\n      <td>['Mitch Ryder']</td>\n      <td>0.0</td>\n      <td>False</td>\n      <td>Solo</td>\n      <td>3.0</td>\n      <td>1.0</td>\n      <td>79.0</td>\n      <td>...</td>\n      <td>0.38600</td>\n      <td>0.651</td>\n      <td>0.896</td>\n      <td>0.001630</td>\n      <td>0.0734</td>\n      <td>-6.004</td>\n      <td>0.0327</td>\n      <td>0.893</td>\n      <td>148.107</td>\n      <td>0.0</td>\n    </tr>\n  </tbody>\n</table>\n<p>911027 rows × 25 columns</p>\n</div>"
     },
     "execution_count": 10,
     "metadata": {},
     "output_type": "execute_result"
    }
   ],
   "source": [
    "combined_df"
   ],
   "metadata": {
    "collapsed": false,
    "pycharm": {
     "name": "#%%\n"
    },
    "ExecuteTime": {
     "end_time": "2024-07-27T13:53:23.347388900Z",
     "start_time": "2024-07-27T13:53:22.951828100Z"
    }
   },
   "id": "3c7a27df647b7a58"
  },
  {
   "cell_type": "code",
   "execution_count": 11,
   "outputs": [],
   "source": [
    "from sklearn.model_selection import train_test_split\n",
    "combined_df['date'] = pd.to_datetime(combined_df['release_date'])\n",
    "combined_df.sort_values(by=\"date\", inplace=True)\n",
    "# border_day = combined_df[\"date\"].iloc[-1]  - pd.DateOffset(years=6)\n",
    "# combined_df = combined_df[(combined_df[\"date\"] >= border_day)]\n",
    "# \n",
    "# split_day = combined_df[\"date\"].iloc[-1]  - pd.DateOffset(years=1)\n",
    "# train_df = combined_df[(combined_df[\"date\"]  < split_day)].copy()\n",
    "# test_df = combined_df[(combined_df[\"date\"]  >= split_day)].copy()\n",
    "train_df, test_df = train_test_split(combined_df, test_size=0.25, shuffle=False)\n",
    "train_df.drop(columns=\"date\", inplace=True)\n",
    "test_df.drop(columns=\"date\", inplace=True)"
   ],
   "metadata": {
    "collapsed": false,
    "pycharm": {
     "name": "#%%\n"
    },
    "ExecuteTime": {
     "end_time": "2024-07-27T13:53:24.134389200Z",
     "start_time": "2024-07-27T13:53:23.370389500Z"
    }
   },
   "id": "8ffa4fb03a876dc3"
  },
  {
   "cell_type": "code",
   "execution_count": 12,
   "outputs": [
    {
     "name": "stdout",
     "output_type": "stream",
     "text": [
      "amount of artists: 18551\n"
     ]
    },
    {
     "data": {
      "text/plain": "                    artist_id            artist_name\n0      6eVCRmRG2HcfL4yx77A9WK             Jack Jones\n1      5NDMothbpdpq2xHqSjrrWn            Faith Evans\n2      3z6Uf5IZkN4TogRpRpgD84            Gary Wright\n3      2UuKUaomk3bZ0nHM3Y3FdW              Bud Shank\n4      6S0GHTqz5sxK5f9HtLXn9q                Garbage\n...                       ...                    ...\n18546  3bj9NXSjQfajNgU9woBnrR  Country Pop All-Stars\n18547  7ueug5uU2UKBoGQInMsKQV             Deep Noise\n18548  4UD3hwaHMCoJ9GKgIoMzTp            Steve Dafoe\n18549  2OdSf9rTLg6GYfoOrK2Kjl              Ron Komie\n18550  3FRfnhYD8uu3k8Dml7C7Wy            Jason Meeks\n\n[18551 rows x 2 columns]",
      "text/html": "<div>\n<style scoped>\n    .dataframe tbody tr th:only-of-type {\n        vertical-align: middle;\n    }\n\n    .dataframe tbody tr th {\n        vertical-align: top;\n    }\n\n    .dataframe thead th {\n        text-align: right;\n    }\n</style>\n<table border=\"1\" class=\"dataframe\">\n  <thead>\n    <tr style=\"text-align: right;\">\n      <th></th>\n      <th>artist_id</th>\n      <th>artist_name</th>\n    </tr>\n  </thead>\n  <tbody>\n    <tr>\n      <th>0</th>\n      <td>6eVCRmRG2HcfL4yx77A9WK</td>\n      <td>Jack Jones</td>\n    </tr>\n    <tr>\n      <th>1</th>\n      <td>5NDMothbpdpq2xHqSjrrWn</td>\n      <td>Faith Evans</td>\n    </tr>\n    <tr>\n      <th>2</th>\n      <td>3z6Uf5IZkN4TogRpRpgD84</td>\n      <td>Gary Wright</td>\n    </tr>\n    <tr>\n      <th>3</th>\n      <td>2UuKUaomk3bZ0nHM3Y3FdW</td>\n      <td>Bud Shank</td>\n    </tr>\n    <tr>\n      <th>4</th>\n      <td>6S0GHTqz5sxK5f9HtLXn9q</td>\n      <td>Garbage</td>\n    </tr>\n    <tr>\n      <th>...</th>\n      <td>...</td>\n      <td>...</td>\n    </tr>\n    <tr>\n      <th>18546</th>\n      <td>3bj9NXSjQfajNgU9woBnrR</td>\n      <td>Country Pop All-Stars</td>\n    </tr>\n    <tr>\n      <th>18547</th>\n      <td>7ueug5uU2UKBoGQInMsKQV</td>\n      <td>Deep Noise</td>\n    </tr>\n    <tr>\n      <th>18548</th>\n      <td>4UD3hwaHMCoJ9GKgIoMzTp</td>\n      <td>Steve Dafoe</td>\n    </tr>\n    <tr>\n      <th>18549</th>\n      <td>2OdSf9rTLg6GYfoOrK2Kjl</td>\n      <td>Ron Komie</td>\n    </tr>\n    <tr>\n      <th>18550</th>\n      <td>3FRfnhYD8uu3k8Dml7C7Wy</td>\n      <td>Jason Meeks</td>\n    </tr>\n  </tbody>\n</table>\n<p>18551 rows × 2 columns</p>\n</div>"
     },
     "execution_count": 12,
     "metadata": {},
     "output_type": "execute_result"
    }
   ],
   "source": [
    "# Specify the columns\n",
    "columns = ['artist_id', 'artist_name']\n",
    "\n",
    "# Initialize an empty DataFrame\n",
    "df_artists2_train = pd.DataFrame(columns={col: [] for col in columns})\n",
    "\n",
    "count = 0\n",
    "artist_set_train = set()\n",
    "\n",
    "for _, row in train_df.iterrows():\n",
    "    current_artist_id_list = eval(row[\"id_artists\"])\n",
    "    current_artist_name_list = eval(row[\"name_artists\"])\n",
    "    for cur_art_id, cur_art_name in zip(current_artist_id_list, current_artist_name_list):\n",
    "        if cur_art_id not in artist_set_train:\n",
    "            artist_set_train.add(cur_art_id)\n",
    "            df_artists2_train.loc[len(df_artists2_train)] = [cur_art_id, cur_art_name]\n",
    "            count += 1\n",
    "\n",
    "print(\"amount of artists:\", count)\n",
    "df_artists2_train"
   ],
   "metadata": {
    "collapsed": false,
    "pycharm": {
     "name": "#%%\n"
    },
    "ExecuteTime": {
     "end_time": "2024-07-27T13:54:19.958514900Z",
     "start_time": "2024-07-27T13:53:24.228390800Z"
    }
   },
   "id": "7aca1a2f27893919"
  },
  {
   "cell_type": "code",
   "execution_count": 13,
   "outputs": [
    {
     "name": "stdout",
     "output_type": "stream",
     "text": [
      "amount of artists: 13209\n"
     ]
    },
    {
     "data": {
      "text/plain": "                   name  betweenesscentrality  closnesscentrality  clustering  \\\n0           Kodak Black          2.041474e-03            0.117694    0.149425   \n1          Moneybagg Yo          5.028644e-04            0.112265    0.122581   \n2          Modest Mouse          0.000000e+00            0.000000    0.000000   \n3            Izza Woods          0.000000e+00            0.000000    0.000000   \n4                  Kyla          1.555256e-05            0.078767    0.000000   \n...                 ...                   ...                 ...         ...   \n5897        Reckless 2X          3.022699e-08            0.000164    0.000000   \n5898      Twhy Xclusive          0.000000e+00            0.087042    0.000000   \n5899  Ibiza Lounge Club          0.000000e+00            0.001900    0.000000   \n5900   Adriano Trindade          0.000000e+00            0.000000    0.000000   \n5901        Gary Franks          0.000000e+00            0.065399    0.000000   \n\n      degree  eccentricity  eigencentrality  weighted degree  pagerank  \\\n0         32            14     1.103820e-01              272  0.000434   \n1         33            14     8.295566e-02              556  0.000717   \n2          0             0     5.163080e-20                0  0.000012   \n3          0             0     5.163080e-20                0  0.000012   \n4          4            15     7.512496e-06               12  0.000061   \n...      ...           ...              ...              ...       ...   \n5897       4             2     1.480611e-12                8  0.000092   \n5898       1            15     3.523498e-04                2  0.000019   \n5899       3             6     1.067876e-07               90  0.000065   \n5900       0             0     5.163080e-20                0  0.000012   \n5901       3            15     4.232461e-08               30  0.000061   \n\n                  Spotify ID  Cluster      profile  \n0     46SHBwWsqBkxI7EeeBEQG7        1  1A 2B 3A 4A  \n1     3tJoFztHeIJkJWMrx0td2f        1  1A 2B 3A 4A  \n2     1yAwtBaoHLEDWAnWR87hBT        0  1A 2A 3A 4A  \n3     2v7XXZVXBTYynoeqScAPzJ        0  1A 2A 3A 4A  \n4     77DAFfvm3O9zT5dIoG0eIO        1  1A 2B 3A 4A  \n...                      ...      ...          ...  \n5897  2hFD9op5QTJcsNYJIC9Kpt        0  1A 2A 3A 4A  \n5898  6S7YkU9PZEXdyeKVuTnXRS        1  1A 2B 3A 4A  \n5899  47JfhV9YkL58HUZluA650b        0  1A 2A 3A 4A  \n5900  3vXSdxNNn1FelqkMQf6ggX        0  1A 2A 3A 4A  \n5901  2O48M3sJpyAVYehc2BOFzY        1  1A 2B 3A 4A  \n\n[5902 rows x 12 columns]",
      "text/html": "<div>\n<style scoped>\n    .dataframe tbody tr th:only-of-type {\n        vertical-align: middle;\n    }\n\n    .dataframe tbody tr th {\n        vertical-align: top;\n    }\n\n    .dataframe thead th {\n        text-align: right;\n    }\n</style>\n<table border=\"1\" class=\"dataframe\">\n  <thead>\n    <tr style=\"text-align: right;\">\n      <th></th>\n      <th>name</th>\n      <th>betweenesscentrality</th>\n      <th>closnesscentrality</th>\n      <th>clustering</th>\n      <th>degree</th>\n      <th>eccentricity</th>\n      <th>eigencentrality</th>\n      <th>weighted degree</th>\n      <th>pagerank</th>\n      <th>Spotify ID</th>\n      <th>Cluster</th>\n      <th>profile</th>\n    </tr>\n  </thead>\n  <tbody>\n    <tr>\n      <th>0</th>\n      <td>Kodak Black</td>\n      <td>2.041474e-03</td>\n      <td>0.117694</td>\n      <td>0.149425</td>\n      <td>32</td>\n      <td>14</td>\n      <td>1.103820e-01</td>\n      <td>272</td>\n      <td>0.000434</td>\n      <td>46SHBwWsqBkxI7EeeBEQG7</td>\n      <td>1</td>\n      <td>1A 2B 3A 4A</td>\n    </tr>\n    <tr>\n      <th>1</th>\n      <td>Moneybagg Yo</td>\n      <td>5.028644e-04</td>\n      <td>0.112265</td>\n      <td>0.122581</td>\n      <td>33</td>\n      <td>14</td>\n      <td>8.295566e-02</td>\n      <td>556</td>\n      <td>0.000717</td>\n      <td>3tJoFztHeIJkJWMrx0td2f</td>\n      <td>1</td>\n      <td>1A 2B 3A 4A</td>\n    </tr>\n    <tr>\n      <th>2</th>\n      <td>Modest Mouse</td>\n      <td>0.000000e+00</td>\n      <td>0.000000</td>\n      <td>0.000000</td>\n      <td>0</td>\n      <td>0</td>\n      <td>5.163080e-20</td>\n      <td>0</td>\n      <td>0.000012</td>\n      <td>1yAwtBaoHLEDWAnWR87hBT</td>\n      <td>0</td>\n      <td>1A 2A 3A 4A</td>\n    </tr>\n    <tr>\n      <th>3</th>\n      <td>Izza Woods</td>\n      <td>0.000000e+00</td>\n      <td>0.000000</td>\n      <td>0.000000</td>\n      <td>0</td>\n      <td>0</td>\n      <td>5.163080e-20</td>\n      <td>0</td>\n      <td>0.000012</td>\n      <td>2v7XXZVXBTYynoeqScAPzJ</td>\n      <td>0</td>\n      <td>1A 2A 3A 4A</td>\n    </tr>\n    <tr>\n      <th>4</th>\n      <td>Kyla</td>\n      <td>1.555256e-05</td>\n      <td>0.078767</td>\n      <td>0.000000</td>\n      <td>4</td>\n      <td>15</td>\n      <td>7.512496e-06</td>\n      <td>12</td>\n      <td>0.000061</td>\n      <td>77DAFfvm3O9zT5dIoG0eIO</td>\n      <td>1</td>\n      <td>1A 2B 3A 4A</td>\n    </tr>\n    <tr>\n      <th>...</th>\n      <td>...</td>\n      <td>...</td>\n      <td>...</td>\n      <td>...</td>\n      <td>...</td>\n      <td>...</td>\n      <td>...</td>\n      <td>...</td>\n      <td>...</td>\n      <td>...</td>\n      <td>...</td>\n      <td>...</td>\n    </tr>\n    <tr>\n      <th>5897</th>\n      <td>Reckless 2X</td>\n      <td>3.022699e-08</td>\n      <td>0.000164</td>\n      <td>0.000000</td>\n      <td>4</td>\n      <td>2</td>\n      <td>1.480611e-12</td>\n      <td>8</td>\n      <td>0.000092</td>\n      <td>2hFD9op5QTJcsNYJIC9Kpt</td>\n      <td>0</td>\n      <td>1A 2A 3A 4A</td>\n    </tr>\n    <tr>\n      <th>5898</th>\n      <td>Twhy Xclusive</td>\n      <td>0.000000e+00</td>\n      <td>0.087042</td>\n      <td>0.000000</td>\n      <td>1</td>\n      <td>15</td>\n      <td>3.523498e-04</td>\n      <td>2</td>\n      <td>0.000019</td>\n      <td>6S7YkU9PZEXdyeKVuTnXRS</td>\n      <td>1</td>\n      <td>1A 2B 3A 4A</td>\n    </tr>\n    <tr>\n      <th>5899</th>\n      <td>Ibiza Lounge Club</td>\n      <td>0.000000e+00</td>\n      <td>0.001900</td>\n      <td>0.000000</td>\n      <td>3</td>\n      <td>6</td>\n      <td>1.067876e-07</td>\n      <td>90</td>\n      <td>0.000065</td>\n      <td>47JfhV9YkL58HUZluA650b</td>\n      <td>0</td>\n      <td>1A 2A 3A 4A</td>\n    </tr>\n    <tr>\n      <th>5900</th>\n      <td>Adriano Trindade</td>\n      <td>0.000000e+00</td>\n      <td>0.000000</td>\n      <td>0.000000</td>\n      <td>0</td>\n      <td>0</td>\n      <td>5.163080e-20</td>\n      <td>0</td>\n      <td>0.000012</td>\n      <td>3vXSdxNNn1FelqkMQf6ggX</td>\n      <td>0</td>\n      <td>1A 2A 3A 4A</td>\n    </tr>\n    <tr>\n      <th>5901</th>\n      <td>Gary Franks</td>\n      <td>0.000000e+00</td>\n      <td>0.065399</td>\n      <td>0.000000</td>\n      <td>3</td>\n      <td>15</td>\n      <td>4.232461e-08</td>\n      <td>30</td>\n      <td>0.000061</td>\n      <td>2O48M3sJpyAVYehc2BOFzY</td>\n      <td>1</td>\n      <td>1A 2B 3A 4A</td>\n    </tr>\n  </tbody>\n</table>\n<p>5902 rows × 12 columns</p>\n</div>"
     },
     "execution_count": 13,
     "metadata": {},
     "output_type": "execute_result"
    }
   ],
   "source": [
    "# Specify the columns\n",
    "columns = ['artist_id', 'artist_name']\n",
    "\n",
    "# Initialize an empty DataFrame\n",
    "df_artists2_test = pd.DataFrame(columns={col: [] for col in columns})\n",
    "\n",
    "count = 0\n",
    "artist_set_test = set()\n",
    "\n",
    "for _, row in test_df.iterrows():\n",
    "    current_artist_id_list = eval(row[\"id_artists\"])\n",
    "    current_artist_name_list = eval(row[\"name_artists\"])\n",
    "    for cur_art_id, cur_art_name in zip(current_artist_id_list, current_artist_name_list):\n",
    "        if cur_art_id not in artist_set_test:\n",
    "            artist_set_test.add(cur_art_id)\n",
    "            df_artists2_test.loc[len(df_artists2_test)] = [cur_art_id, cur_art_name]\n",
    "            count += 1\n",
    "\n",
    "print(\"amount of artists:\", count)\n",
    "df_artists_test"
   ],
   "metadata": {
    "collapsed": false,
    "pycharm": {
     "name": "#%%\n"
    },
    "ExecuteTime": {
     "end_time": "2024-07-27T13:54:43.345837Z",
     "start_time": "2024-07-27T13:54:19.981515700Z"
    }
   },
   "id": "a23f22af5e7f8fd6"
  },
  {
   "cell_type": "markdown",
   "source": [
    "## Combined Preprocessing:"
   ],
   "metadata": {
    "collapsed": false,
    "pycharm": {
     "name": "#%% md\n"
    }
   },
   "id": "6e4f53ff057be8f4"
  },
  {
   "cell_type": "code",
   "execution_count": 14,
   "outputs": [
    {
     "data": {
      "text/plain": "                       song_id  \\\n804676  7kXUEJmfvRXbzxOC0pHQgb   \n465447  1xdRFXv3ytSOdj8GuT3Rge   \n465446  5wlQIBbKIWoB7AnSw09C6C   \n377956  40uHAEjua1YmyKIJ6k0iVa   \n465445  2zmMWWgwCXYarkO2SbyPZP   \n...                        ...   \n11098   0xAqhyWvTkfcdFgm7dozMO   \n10903   6zhg8TnVKi90ITDzFKwPr0   \n5856    2GvkFSjRXV0Ii3uYnHiQ74   \n5080    0lej8CemYKkWVHg77Xe1ky   \n10666   6Fh2QgjCxL96dA3Gtpfr4Q   \n\n                                                song_name  \\\n804676                     I Can't Believe I'm Losing You   \n465447                         Thank You Lord (Interlude)   \n465446                                      All This Love   \n377956                                           Bo Bo Wa   \n465445                                          Come Over   \n...                                                   ...   \n11098             (I Wanna) Testify (Mono Single Version)   \n10903                       Swingtown - Alternate Version   \n5856                                       Take My Advice   \n5080             A Man Holdin' on (To a Woman Lettin’ Go)   \n10666   One Sweet Day (16-Bit Mariah Carey & Boyz II M...   \n\n                                               id_artists  \\\n804676                         ['6eVCRmRG2HcfL4yx77A9WK']   \n465447                         ['5NDMothbpdpq2xHqSjrrWn']   \n465446                         ['5NDMothbpdpq2xHqSjrrWn']   \n377956                         ['3z6Uf5IZkN4TogRpRpgD84']   \n465445                         ['5NDMothbpdpq2xHqSjrrWn']   \n...                                                   ...   \n11098                          ['1Ve5PoI7i5jIIP1xudo6AB']   \n10903                          ['6QtGlUje9TIkLrgPZrESuk']   \n5856                           ['40PLSl99xXqAQsCQQPmfyM']   \n5080    ['1Fj0R2t4HaJa3oUe8azB8R', '5LDnSV99gbDSsMX3Dc...   \n10666                          ['1v4YnufenjE9BLAfP90qvt']   \n\n                           name_artists  song_popularity  explicit  \\\n804676                   ['Jack Jones']              5.0     False   \n465447                  ['Faith Evans']             20.0     False   \n465446                  ['Faith Evans']             26.0     False   \n377956                  ['Gary Wright']              0.0     False   \n465445                  ['Faith Evans']             38.0     False   \n...                                 ...              ...       ...   \n11098               ['The Parliaments']              7.0     False   \n10903             ['Steve Miller Band']             26.0     False   \n5856                       ['Kym Sims']              0.0     False   \n5080    ['Ty Herndon', 'Anita Cochran']             14.0     False   \n10666                 ['Arcade Player']              0.0     False   \n\n            song_type  track_number  num_artists  num_available_markets  ...  \\\n804676           Solo          12.0          1.0                   79.0  ...   \n465447           Solo          10.0          1.0                   77.0  ...   \n465446           Solo           9.0          1.0                   77.0  ...   \n377956           Solo           8.0          1.0                   79.0  ...   \n465445           Solo           7.0          1.0                   77.0  ...   \n...               ...           ...          ...                    ...  ...   \n11098            Solo          10.0          1.0                   79.0  ...   \n10903            Solo           5.0          1.0                   79.0  ...   \n5856             Solo          10.0          1.0                   73.0  ...   \n5080    Collaboration           7.0          2.0                   79.0  ...   \n10666            Solo          27.0          1.0                   79.0  ...   \n\n       danceability  energy  instrumentalness  liveness  loudness  \\\n804676        0.180   0.369          0.000000    0.1500    -9.797   \n465447        0.370   0.284          0.000000    0.5580   -14.443   \n465446        0.605   0.604          0.000153    0.0693    -9.214   \n377956        0.481   0.652          0.008670    0.0397   -10.981   \n465445        0.534   0.563          0.000001    0.5740    -8.975   \n...             ...     ...               ...       ...       ...   \n11098         0.668   0.702          0.000000    0.0521    -5.750   \n10903         0.459   0.764          0.000544    0.2440    -6.662   \n5856          0.737   0.814          0.392000    0.0844   -10.396   \n5080          0.611   0.429          0.000014    0.1120    -8.619   \n10666         0.395   0.405          0.745000    0.1100    -5.559   \n\n        speechiness  valence    tempo  hit       date  \n804676       0.0299    0.224   81.701  0.0 1995-01-01  \n465447       0.0378    0.649  130.985  0.0 1995-01-01  \n465446       0.0480    0.503  145.483  0.0 1995-01-01  \n377956       0.0364    0.795  195.791  0.0 1995-01-01  \n465445       0.0601    0.414  124.149  0.0 1995-01-01  \n...             ...      ...      ...  ...        ...  \n11098        0.0330    0.754  105.227  1.0 2019-08-23  \n10903        0.0354    0.439  124.557  1.0 2019-08-23  \n5856         0.0307    0.803  120.010  1.0 2019-08-23  \n5080         0.0298    0.237  128.007  1.0 2019-08-23  \n10666        0.0393    0.313  194.933  1.0 2019-08-26  \n\n[911027 rows x 26 columns]",
      "text/html": "<div>\n<style scoped>\n    .dataframe tbody tr th:only-of-type {\n        vertical-align: middle;\n    }\n\n    .dataframe tbody tr th {\n        vertical-align: top;\n    }\n\n    .dataframe thead th {\n        text-align: right;\n    }\n</style>\n<table border=\"1\" class=\"dataframe\">\n  <thead>\n    <tr style=\"text-align: right;\">\n      <th></th>\n      <th>song_id</th>\n      <th>song_name</th>\n      <th>id_artists</th>\n      <th>name_artists</th>\n      <th>song_popularity</th>\n      <th>explicit</th>\n      <th>song_type</th>\n      <th>track_number</th>\n      <th>num_artists</th>\n      <th>num_available_markets</th>\n      <th>...</th>\n      <th>danceability</th>\n      <th>energy</th>\n      <th>instrumentalness</th>\n      <th>liveness</th>\n      <th>loudness</th>\n      <th>speechiness</th>\n      <th>valence</th>\n      <th>tempo</th>\n      <th>hit</th>\n      <th>date</th>\n    </tr>\n  </thead>\n  <tbody>\n    <tr>\n      <th>804676</th>\n      <td>7kXUEJmfvRXbzxOC0pHQgb</td>\n      <td>I Can't Believe I'm Losing You</td>\n      <td>['6eVCRmRG2HcfL4yx77A9WK']</td>\n      <td>['Jack Jones']</td>\n      <td>5.0</td>\n      <td>False</td>\n      <td>Solo</td>\n      <td>12.0</td>\n      <td>1.0</td>\n      <td>79.0</td>\n      <td>...</td>\n      <td>0.180</td>\n      <td>0.369</td>\n      <td>0.000000</td>\n      <td>0.1500</td>\n      <td>-9.797</td>\n      <td>0.0299</td>\n      <td>0.224</td>\n      <td>81.701</td>\n      <td>0.0</td>\n      <td>1995-01-01</td>\n    </tr>\n    <tr>\n      <th>465447</th>\n      <td>1xdRFXv3ytSOdj8GuT3Rge</td>\n      <td>Thank You Lord (Interlude)</td>\n      <td>['5NDMothbpdpq2xHqSjrrWn']</td>\n      <td>['Faith Evans']</td>\n      <td>20.0</td>\n      <td>False</td>\n      <td>Solo</td>\n      <td>10.0</td>\n      <td>1.0</td>\n      <td>77.0</td>\n      <td>...</td>\n      <td>0.370</td>\n      <td>0.284</td>\n      <td>0.000000</td>\n      <td>0.5580</td>\n      <td>-14.443</td>\n      <td>0.0378</td>\n      <td>0.649</td>\n      <td>130.985</td>\n      <td>0.0</td>\n      <td>1995-01-01</td>\n    </tr>\n    <tr>\n      <th>465446</th>\n      <td>5wlQIBbKIWoB7AnSw09C6C</td>\n      <td>All This Love</td>\n      <td>['5NDMothbpdpq2xHqSjrrWn']</td>\n      <td>['Faith Evans']</td>\n      <td>26.0</td>\n      <td>False</td>\n      <td>Solo</td>\n      <td>9.0</td>\n      <td>1.0</td>\n      <td>77.0</td>\n      <td>...</td>\n      <td>0.605</td>\n      <td>0.604</td>\n      <td>0.000153</td>\n      <td>0.0693</td>\n      <td>-9.214</td>\n      <td>0.0480</td>\n      <td>0.503</td>\n      <td>145.483</td>\n      <td>0.0</td>\n      <td>1995-01-01</td>\n    </tr>\n    <tr>\n      <th>377956</th>\n      <td>40uHAEjua1YmyKIJ6k0iVa</td>\n      <td>Bo Bo Wa</td>\n      <td>['3z6Uf5IZkN4TogRpRpgD84']</td>\n      <td>['Gary Wright']</td>\n      <td>0.0</td>\n      <td>False</td>\n      <td>Solo</td>\n      <td>8.0</td>\n      <td>1.0</td>\n      <td>79.0</td>\n      <td>...</td>\n      <td>0.481</td>\n      <td>0.652</td>\n      <td>0.008670</td>\n      <td>0.0397</td>\n      <td>-10.981</td>\n      <td>0.0364</td>\n      <td>0.795</td>\n      <td>195.791</td>\n      <td>0.0</td>\n      <td>1995-01-01</td>\n    </tr>\n    <tr>\n      <th>465445</th>\n      <td>2zmMWWgwCXYarkO2SbyPZP</td>\n      <td>Come Over</td>\n      <td>['5NDMothbpdpq2xHqSjrrWn']</td>\n      <td>['Faith Evans']</td>\n      <td>38.0</td>\n      <td>False</td>\n      <td>Solo</td>\n      <td>7.0</td>\n      <td>1.0</td>\n      <td>77.0</td>\n      <td>...</td>\n      <td>0.534</td>\n      <td>0.563</td>\n      <td>0.000001</td>\n      <td>0.5740</td>\n      <td>-8.975</td>\n      <td>0.0601</td>\n      <td>0.414</td>\n      <td>124.149</td>\n      <td>0.0</td>\n      <td>1995-01-01</td>\n    </tr>\n    <tr>\n      <th>...</th>\n      <td>...</td>\n      <td>...</td>\n      <td>...</td>\n      <td>...</td>\n      <td>...</td>\n      <td>...</td>\n      <td>...</td>\n      <td>...</td>\n      <td>...</td>\n      <td>...</td>\n      <td>...</td>\n      <td>...</td>\n      <td>...</td>\n      <td>...</td>\n      <td>...</td>\n      <td>...</td>\n      <td>...</td>\n      <td>...</td>\n      <td>...</td>\n      <td>...</td>\n      <td>...</td>\n    </tr>\n    <tr>\n      <th>11098</th>\n      <td>0xAqhyWvTkfcdFgm7dozMO</td>\n      <td>(I Wanna) Testify (Mono Single Version)</td>\n      <td>['1Ve5PoI7i5jIIP1xudo6AB']</td>\n      <td>['The Parliaments']</td>\n      <td>7.0</td>\n      <td>False</td>\n      <td>Solo</td>\n      <td>10.0</td>\n      <td>1.0</td>\n      <td>79.0</td>\n      <td>...</td>\n      <td>0.668</td>\n      <td>0.702</td>\n      <td>0.000000</td>\n      <td>0.0521</td>\n      <td>-5.750</td>\n      <td>0.0330</td>\n      <td>0.754</td>\n      <td>105.227</td>\n      <td>1.0</td>\n      <td>2019-08-23</td>\n    </tr>\n    <tr>\n      <th>10903</th>\n      <td>6zhg8TnVKi90ITDzFKwPr0</td>\n      <td>Swingtown - Alternate Version</td>\n      <td>['6QtGlUje9TIkLrgPZrESuk']</td>\n      <td>['Steve Miller Band']</td>\n      <td>26.0</td>\n      <td>False</td>\n      <td>Solo</td>\n      <td>5.0</td>\n      <td>1.0</td>\n      <td>79.0</td>\n      <td>...</td>\n      <td>0.459</td>\n      <td>0.764</td>\n      <td>0.000544</td>\n      <td>0.2440</td>\n      <td>-6.662</td>\n      <td>0.0354</td>\n      <td>0.439</td>\n      <td>124.557</td>\n      <td>1.0</td>\n      <td>2019-08-23</td>\n    </tr>\n    <tr>\n      <th>5856</th>\n      <td>2GvkFSjRXV0Ii3uYnHiQ74</td>\n      <td>Take My Advice</td>\n      <td>['40PLSl99xXqAQsCQQPmfyM']</td>\n      <td>['Kym Sims']</td>\n      <td>0.0</td>\n      <td>False</td>\n      <td>Solo</td>\n      <td>10.0</td>\n      <td>1.0</td>\n      <td>73.0</td>\n      <td>...</td>\n      <td>0.737</td>\n      <td>0.814</td>\n      <td>0.392000</td>\n      <td>0.0844</td>\n      <td>-10.396</td>\n      <td>0.0307</td>\n      <td>0.803</td>\n      <td>120.010</td>\n      <td>1.0</td>\n      <td>2019-08-23</td>\n    </tr>\n    <tr>\n      <th>5080</th>\n      <td>0lej8CemYKkWVHg77Xe1ky</td>\n      <td>A Man Holdin' on (To a Woman Lettin’ Go)</td>\n      <td>['1Fj0R2t4HaJa3oUe8azB8R', '5LDnSV99gbDSsMX3Dc...</td>\n      <td>['Ty Herndon', 'Anita Cochran']</td>\n      <td>14.0</td>\n      <td>False</td>\n      <td>Collaboration</td>\n      <td>7.0</td>\n      <td>2.0</td>\n      <td>79.0</td>\n      <td>...</td>\n      <td>0.611</td>\n      <td>0.429</td>\n      <td>0.000014</td>\n      <td>0.1120</td>\n      <td>-8.619</td>\n      <td>0.0298</td>\n      <td>0.237</td>\n      <td>128.007</td>\n      <td>1.0</td>\n      <td>2019-08-23</td>\n    </tr>\n    <tr>\n      <th>10666</th>\n      <td>6Fh2QgjCxL96dA3Gtpfr4Q</td>\n      <td>One Sweet Day (16-Bit Mariah Carey &amp; Boyz II M...</td>\n      <td>['1v4YnufenjE9BLAfP90qvt']</td>\n      <td>['Arcade Player']</td>\n      <td>0.0</td>\n      <td>False</td>\n      <td>Solo</td>\n      <td>27.0</td>\n      <td>1.0</td>\n      <td>79.0</td>\n      <td>...</td>\n      <td>0.395</td>\n      <td>0.405</td>\n      <td>0.745000</td>\n      <td>0.1100</td>\n      <td>-5.559</td>\n      <td>0.0393</td>\n      <td>0.313</td>\n      <td>194.933</td>\n      <td>1.0</td>\n      <td>2019-08-26</td>\n    </tr>\n  </tbody>\n</table>\n<p>911027 rows × 26 columns</p>\n</div>"
     },
     "execution_count": 14,
     "metadata": {},
     "output_type": "execute_result"
    }
   ],
   "source": [
    "combined_df = combined_df[(combined_df[\"num_artists\"] <= 2)]\n",
    "combined_df.rename(columns={\"popularity\" : \"song_popularity\"}, inplace=True)\n",
    "combined_df"
   ],
   "metadata": {
    "collapsed": false,
    "pycharm": {
     "name": "#%%\n"
    },
    "ExecuteTime": {
     "end_time": "2024-07-27T13:54:44.057779Z",
     "start_time": "2024-07-27T13:54:43.350837300Z"
    }
   },
   "id": "2f90abb0b1f33561"
  },
  {
   "cell_type": "code",
   "execution_count": 15,
   "outputs": [
    {
     "data": {
      "text/plain": "                       song_id  \\\n804676  7kXUEJmfvRXbzxOC0pHQgb   \n465447  1xdRFXv3ytSOdj8GuT3Rge   \n465446  5wlQIBbKIWoB7AnSw09C6C   \n377956  40uHAEjua1YmyKIJ6k0iVa   \n465445  2zmMWWgwCXYarkO2SbyPZP   \n...                        ...   \n11098   0xAqhyWvTkfcdFgm7dozMO   \n10903   6zhg8TnVKi90ITDzFKwPr0   \n5856    2GvkFSjRXV0Ii3uYnHiQ74   \n5080    0lej8CemYKkWVHg77Xe1ky   \n10666   6Fh2QgjCxL96dA3Gtpfr4Q   \n\n                                                song_name  \\\n804676                     I Can't Believe I'm Losing You   \n465447                         Thank You Lord (Interlude)   \n465446                                      All This Love   \n377956                                           Bo Bo Wa   \n465445                                          Come Over   \n...                                                   ...   \n11098             (I Wanna) Testify (Mono Single Version)   \n10903                       Swingtown - Alternate Version   \n5856                                       Take My Advice   \n5080             A Man Holdin' on (To a Woman Lettin’ Go)   \n10666   One Sweet Day (16-Bit Mariah Carey & Boyz II M...   \n\n                                               id_artists  \\\n804676                         ['6eVCRmRG2HcfL4yx77A9WK']   \n465447                         ['5NDMothbpdpq2xHqSjrrWn']   \n465446                         ['5NDMothbpdpq2xHqSjrrWn']   \n377956                         ['3z6Uf5IZkN4TogRpRpgD84']   \n465445                         ['5NDMothbpdpq2xHqSjrrWn']   \n...                                                   ...   \n11098                          ['1Ve5PoI7i5jIIP1xudo6AB']   \n10903                          ['6QtGlUje9TIkLrgPZrESuk']   \n5856                           ['40PLSl99xXqAQsCQQPmfyM']   \n5080    ['1Fj0R2t4HaJa3oUe8azB8R', '5LDnSV99gbDSsMX3Dc...   \n10666                          ['1v4YnufenjE9BLAfP90qvt']   \n\n                           name_artists  song_popularity  explicit  \\\n804676                   ['Jack Jones']              5.0     False   \n465447                  ['Faith Evans']             20.0     False   \n465446                  ['Faith Evans']             26.0     False   \n377956                  ['Gary Wright']              0.0     False   \n465445                  ['Faith Evans']             38.0     False   \n...                                 ...              ...       ...   \n11098               ['The Parliaments']              7.0     False   \n10903             ['Steve Miller Band']             26.0     False   \n5856                       ['Kym Sims']              0.0     False   \n5080    ['Ty Herndon', 'Anita Cochran']             14.0     False   \n10666                 ['Arcade Player']              0.0     False   \n\n            song_type  track_number  num_artists  num_available_markets  ...  \\\n804676           Solo          12.0          1.0                   79.0  ...   \n465447           Solo          10.0          1.0                   77.0  ...   \n465446           Solo           9.0          1.0                   77.0  ...   \n377956           Solo           8.0          1.0                   79.0  ...   \n465445           Solo           7.0          1.0                   77.0  ...   \n...               ...           ...          ...                    ...  ...   \n11098            Solo          10.0          1.0                   79.0  ...   \n10903            Solo           5.0          1.0                   79.0  ...   \n5856             Solo          10.0          1.0                   73.0  ...   \n5080    Collaboration           7.0          2.0                   79.0  ...   \n10666            Solo          27.0          1.0                   79.0  ...   \n\n       instrumentalness  liveness  loudness  speechiness  valence    tempo  \\\n804676         0.000000    0.1500    -9.797       0.0299    0.224   81.701   \n465447         0.000000    0.5580   -14.443       0.0378    0.649  130.985   \n465446         0.000153    0.0693    -9.214       0.0480    0.503  145.483   \n377956         0.008670    0.0397   -10.981       0.0364    0.795  195.791   \n465445         0.000001    0.5740    -8.975       0.0601    0.414  124.149   \n...                 ...       ...       ...          ...      ...      ...   \n11098          0.000000    0.0521    -5.750       0.0330    0.754  105.227   \n10903          0.000544    0.2440    -6.662       0.0354    0.439  124.557   \n5856           0.392000    0.0844   -10.396       0.0307    0.803  120.010   \n5080           0.000014    0.1120    -8.619       0.0298    0.237  128.007   \n10666          0.745000    0.1100    -5.559       0.0393    0.313  194.933   \n\n        hit       date              artist1_id              artist2_id  \n804676  0.0 1995-01-01  6eVCRmRG2HcfL4yx77A9WK                          \n465447  0.0 1995-01-01  5NDMothbpdpq2xHqSjrrWn                          \n465446  0.0 1995-01-01  5NDMothbpdpq2xHqSjrrWn                          \n377956  0.0 1995-01-01  3z6Uf5IZkN4TogRpRpgD84                          \n465445  0.0 1995-01-01  5NDMothbpdpq2xHqSjrrWn                          \n...     ...        ...                     ...                     ...  \n11098   1.0 2019-08-23  1Ve5PoI7i5jIIP1xudo6AB                          \n10903   1.0 2019-08-23  6QtGlUje9TIkLrgPZrESuk                          \n5856    1.0 2019-08-23  40PLSl99xXqAQsCQQPmfyM                          \n5080    1.0 2019-08-23  1Fj0R2t4HaJa3oUe8azB8R  5LDnSV99gbDSsMX3Dcer2b  \n10666   1.0 2019-08-26  1v4YnufenjE9BLAfP90qvt                          \n\n[911027 rows x 28 columns]",
      "text/html": "<div>\n<style scoped>\n    .dataframe tbody tr th:only-of-type {\n        vertical-align: middle;\n    }\n\n    .dataframe tbody tr th {\n        vertical-align: top;\n    }\n\n    .dataframe thead th {\n        text-align: right;\n    }\n</style>\n<table border=\"1\" class=\"dataframe\">\n  <thead>\n    <tr style=\"text-align: right;\">\n      <th></th>\n      <th>song_id</th>\n      <th>song_name</th>\n      <th>id_artists</th>\n      <th>name_artists</th>\n      <th>song_popularity</th>\n      <th>explicit</th>\n      <th>song_type</th>\n      <th>track_number</th>\n      <th>num_artists</th>\n      <th>num_available_markets</th>\n      <th>...</th>\n      <th>instrumentalness</th>\n      <th>liveness</th>\n      <th>loudness</th>\n      <th>speechiness</th>\n      <th>valence</th>\n      <th>tempo</th>\n      <th>hit</th>\n      <th>date</th>\n      <th>artist1_id</th>\n      <th>artist2_id</th>\n    </tr>\n  </thead>\n  <tbody>\n    <tr>\n      <th>804676</th>\n      <td>7kXUEJmfvRXbzxOC0pHQgb</td>\n      <td>I Can't Believe I'm Losing You</td>\n      <td>['6eVCRmRG2HcfL4yx77A9WK']</td>\n      <td>['Jack Jones']</td>\n      <td>5.0</td>\n      <td>False</td>\n      <td>Solo</td>\n      <td>12.0</td>\n      <td>1.0</td>\n      <td>79.0</td>\n      <td>...</td>\n      <td>0.000000</td>\n      <td>0.1500</td>\n      <td>-9.797</td>\n      <td>0.0299</td>\n      <td>0.224</td>\n      <td>81.701</td>\n      <td>0.0</td>\n      <td>1995-01-01</td>\n      <td>6eVCRmRG2HcfL4yx77A9WK</td>\n      <td></td>\n    </tr>\n    <tr>\n      <th>465447</th>\n      <td>1xdRFXv3ytSOdj8GuT3Rge</td>\n      <td>Thank You Lord (Interlude)</td>\n      <td>['5NDMothbpdpq2xHqSjrrWn']</td>\n      <td>['Faith Evans']</td>\n      <td>20.0</td>\n      <td>False</td>\n      <td>Solo</td>\n      <td>10.0</td>\n      <td>1.0</td>\n      <td>77.0</td>\n      <td>...</td>\n      <td>0.000000</td>\n      <td>0.5580</td>\n      <td>-14.443</td>\n      <td>0.0378</td>\n      <td>0.649</td>\n      <td>130.985</td>\n      <td>0.0</td>\n      <td>1995-01-01</td>\n      <td>5NDMothbpdpq2xHqSjrrWn</td>\n      <td></td>\n    </tr>\n    <tr>\n      <th>465446</th>\n      <td>5wlQIBbKIWoB7AnSw09C6C</td>\n      <td>All This Love</td>\n      <td>['5NDMothbpdpq2xHqSjrrWn']</td>\n      <td>['Faith Evans']</td>\n      <td>26.0</td>\n      <td>False</td>\n      <td>Solo</td>\n      <td>9.0</td>\n      <td>1.0</td>\n      <td>77.0</td>\n      <td>...</td>\n      <td>0.000153</td>\n      <td>0.0693</td>\n      <td>-9.214</td>\n      <td>0.0480</td>\n      <td>0.503</td>\n      <td>145.483</td>\n      <td>0.0</td>\n      <td>1995-01-01</td>\n      <td>5NDMothbpdpq2xHqSjrrWn</td>\n      <td></td>\n    </tr>\n    <tr>\n      <th>377956</th>\n      <td>40uHAEjua1YmyKIJ6k0iVa</td>\n      <td>Bo Bo Wa</td>\n      <td>['3z6Uf5IZkN4TogRpRpgD84']</td>\n      <td>['Gary Wright']</td>\n      <td>0.0</td>\n      <td>False</td>\n      <td>Solo</td>\n      <td>8.0</td>\n      <td>1.0</td>\n      <td>79.0</td>\n      <td>...</td>\n      <td>0.008670</td>\n      <td>0.0397</td>\n      <td>-10.981</td>\n      <td>0.0364</td>\n      <td>0.795</td>\n      <td>195.791</td>\n      <td>0.0</td>\n      <td>1995-01-01</td>\n      <td>3z6Uf5IZkN4TogRpRpgD84</td>\n      <td></td>\n    </tr>\n    <tr>\n      <th>465445</th>\n      <td>2zmMWWgwCXYarkO2SbyPZP</td>\n      <td>Come Over</td>\n      <td>['5NDMothbpdpq2xHqSjrrWn']</td>\n      <td>['Faith Evans']</td>\n      <td>38.0</td>\n      <td>False</td>\n      <td>Solo</td>\n      <td>7.0</td>\n      <td>1.0</td>\n      <td>77.0</td>\n      <td>...</td>\n      <td>0.000001</td>\n      <td>0.5740</td>\n      <td>-8.975</td>\n      <td>0.0601</td>\n      <td>0.414</td>\n      <td>124.149</td>\n      <td>0.0</td>\n      <td>1995-01-01</td>\n      <td>5NDMothbpdpq2xHqSjrrWn</td>\n      <td></td>\n    </tr>\n    <tr>\n      <th>...</th>\n      <td>...</td>\n      <td>...</td>\n      <td>...</td>\n      <td>...</td>\n      <td>...</td>\n      <td>...</td>\n      <td>...</td>\n      <td>...</td>\n      <td>...</td>\n      <td>...</td>\n      <td>...</td>\n      <td>...</td>\n      <td>...</td>\n      <td>...</td>\n      <td>...</td>\n      <td>...</td>\n      <td>...</td>\n      <td>...</td>\n      <td>...</td>\n      <td>...</td>\n      <td>...</td>\n    </tr>\n    <tr>\n      <th>11098</th>\n      <td>0xAqhyWvTkfcdFgm7dozMO</td>\n      <td>(I Wanna) Testify (Mono Single Version)</td>\n      <td>['1Ve5PoI7i5jIIP1xudo6AB']</td>\n      <td>['The Parliaments']</td>\n      <td>7.0</td>\n      <td>False</td>\n      <td>Solo</td>\n      <td>10.0</td>\n      <td>1.0</td>\n      <td>79.0</td>\n      <td>...</td>\n      <td>0.000000</td>\n      <td>0.0521</td>\n      <td>-5.750</td>\n      <td>0.0330</td>\n      <td>0.754</td>\n      <td>105.227</td>\n      <td>1.0</td>\n      <td>2019-08-23</td>\n      <td>1Ve5PoI7i5jIIP1xudo6AB</td>\n      <td></td>\n    </tr>\n    <tr>\n      <th>10903</th>\n      <td>6zhg8TnVKi90ITDzFKwPr0</td>\n      <td>Swingtown - Alternate Version</td>\n      <td>['6QtGlUje9TIkLrgPZrESuk']</td>\n      <td>['Steve Miller Band']</td>\n      <td>26.0</td>\n      <td>False</td>\n      <td>Solo</td>\n      <td>5.0</td>\n      <td>1.0</td>\n      <td>79.0</td>\n      <td>...</td>\n      <td>0.000544</td>\n      <td>0.2440</td>\n      <td>-6.662</td>\n      <td>0.0354</td>\n      <td>0.439</td>\n      <td>124.557</td>\n      <td>1.0</td>\n      <td>2019-08-23</td>\n      <td>6QtGlUje9TIkLrgPZrESuk</td>\n      <td></td>\n    </tr>\n    <tr>\n      <th>5856</th>\n      <td>2GvkFSjRXV0Ii3uYnHiQ74</td>\n      <td>Take My Advice</td>\n      <td>['40PLSl99xXqAQsCQQPmfyM']</td>\n      <td>['Kym Sims']</td>\n      <td>0.0</td>\n      <td>False</td>\n      <td>Solo</td>\n      <td>10.0</td>\n      <td>1.0</td>\n      <td>73.0</td>\n      <td>...</td>\n      <td>0.392000</td>\n      <td>0.0844</td>\n      <td>-10.396</td>\n      <td>0.0307</td>\n      <td>0.803</td>\n      <td>120.010</td>\n      <td>1.0</td>\n      <td>2019-08-23</td>\n      <td>40PLSl99xXqAQsCQQPmfyM</td>\n      <td></td>\n    </tr>\n    <tr>\n      <th>5080</th>\n      <td>0lej8CemYKkWVHg77Xe1ky</td>\n      <td>A Man Holdin' on (To a Woman Lettin’ Go)</td>\n      <td>['1Fj0R2t4HaJa3oUe8azB8R', '5LDnSV99gbDSsMX3Dc...</td>\n      <td>['Ty Herndon', 'Anita Cochran']</td>\n      <td>14.0</td>\n      <td>False</td>\n      <td>Collaboration</td>\n      <td>7.0</td>\n      <td>2.0</td>\n      <td>79.0</td>\n      <td>...</td>\n      <td>0.000014</td>\n      <td>0.1120</td>\n      <td>-8.619</td>\n      <td>0.0298</td>\n      <td>0.237</td>\n      <td>128.007</td>\n      <td>1.0</td>\n      <td>2019-08-23</td>\n      <td>1Fj0R2t4HaJa3oUe8azB8R</td>\n      <td>5LDnSV99gbDSsMX3Dcer2b</td>\n    </tr>\n    <tr>\n      <th>10666</th>\n      <td>6Fh2QgjCxL96dA3Gtpfr4Q</td>\n      <td>One Sweet Day (16-Bit Mariah Carey &amp; Boyz II M...</td>\n      <td>['1v4YnufenjE9BLAfP90qvt']</td>\n      <td>['Arcade Player']</td>\n      <td>0.0</td>\n      <td>False</td>\n      <td>Solo</td>\n      <td>27.0</td>\n      <td>1.0</td>\n      <td>79.0</td>\n      <td>...</td>\n      <td>0.745000</td>\n      <td>0.1100</td>\n      <td>-5.559</td>\n      <td>0.0393</td>\n      <td>0.313</td>\n      <td>194.933</td>\n      <td>1.0</td>\n      <td>2019-08-26</td>\n      <td>1v4YnufenjE9BLAfP90qvt</td>\n      <td></td>\n    </tr>\n  </tbody>\n</table>\n<p>911027 rows × 28 columns</p>\n</div>"
     },
     "execution_count": 15,
     "metadata": {},
     "output_type": "execute_result"
    }
   ],
   "source": [
    "import ast \n",
    "\n",
    "# Initialize the new columns\n",
    "combined_df[\"artist1_id\"] = ''\n",
    "combined_df[\"artist2_id\"] = ''\n",
    "\n",
    "column_index = combined_df.columns.get_loc(\"artist1_id\")\n",
    "counter = 0\n",
    "for idx, row in combined_df.iterrows():\n",
    "    try:\n",
    "        # Convert string to list using ast.literal_eval for safety\n",
    "        key_list = ast.literal_eval(row[\"id_artists\"])\n",
    "    except (ValueError, SyntaxError):\n",
    "        # Handle rows with invalid string formats (e.g., not a list)\n",
    "        print(f\"Invalid artist list format for row {idx}: {row['id_artists']}\")\n",
    "        continue\n",
    "    for i, item in enumerate(key_list[:2]):\n",
    "        combined_df.iloc[counter, column_index+i] = item\n",
    "    counter += 1\n",
    "# Display the DataFrame\n",
    "combined_df"
   ],
   "metadata": {
    "collapsed": false,
    "pycharm": {
     "name": "#%%\n"
    },
    "ExecuteTime": {
     "end_time": "2024-07-27T13:56:18.418364200Z",
     "start_time": "2024-07-27T13:54:45.274778800Z"
    }
   },
   "id": "6d740e8cded6b24e"
  },
  {
   "cell_type": "code",
   "execution_count": 16,
   "outputs": [],
   "source": [
    "from sklearn.model_selection import train_test_split\n",
    "combined_df['date'] = pd.to_datetime(combined_df['release_date'])\n",
    "combined_df.sort_values(by=\"date\", inplace=True)\n",
    "\n",
    "# split_day = combined_df[\"date\"].iloc[-1]  - pd.DateOffset(years=1)\n",
    "# train_df = combined_df[(combined_df[\"date\"]  < split_day)].copy()\n",
    "# test_df = combined_df[(combined_df[\"date\"]  >= split_day)].copy()\n",
    "train_df, test_df = train_test_split(combined_df, test_size=0.25, shuffle=False)\n",
    "train_df.drop(columns=\"date\", inplace=True)\n",
    "test_df.drop(columns=\"date\", inplace=True)"
   ],
   "metadata": {
    "collapsed": false,
    "pycharm": {
     "name": "#%%\n"
    },
    "ExecuteTime": {
     "end_time": "2024-07-27T13:56:19.177362100Z",
     "start_time": "2024-07-27T13:56:18.446362600Z"
    }
   },
   "id": "23ae4f465547b77e"
  },
  {
   "cell_type": "code",
   "execution_count": 17,
   "outputs": [
    {
     "data": {
      "text/plain": "                       song_id  \\\n0       7kXUEJmfvRXbzxOC0pHQgb   \n1       7A131DrpfbWAfNJLrxikwf   \n2       4SRjOJm5AjO3fxXpZSTEBb   \n3       592dtCLAyLQdUallLhJinO   \n4       2hMAApqyXl7nf2s8dQ6BTv   \n...                        ...   \n683265  4pu4lDfWTiGGQfH8ZsGXDJ   \n683266  1dvxuoNz7e603WUjrDaP4V   \n683267  7dQU5mlVd5AXX5YqmIKZE2   \n683268  522tmFx0Rlm1Jex8hl2QIl   \n683269  58y1dMrxWnZoSrHBcmaFhy   \n\n                                                song_name  song_popularity  \\\n0                          I Can't Believe I'm Losing You              5.0   \n1                                       Top Of The Stairs             26.0   \n2                                   Never Crossed My Mind             20.0   \n3                                              Daddy Cool              1.0   \n4                                     Shame, Shame, Shame              0.0   \n...                                                   ...              ...   \n683265                               This Moment with You              0.0   \n683266  Back To Back - Originally performed by Drake (...              0.0   \n683267       Back To Back - Originally performed by Drake              0.0   \n683268  Metal Militia (Karaoke Version) [Originally Pe...              0.0   \n683269  Motorbreath (Karaoke Version) [Originally Perf...              0.0   \n\n        explicit song_type  track_number  num_artists  num_available_markets  \\\n0          False      Solo          12.0          1.0                   79.0   \n1          False      Solo           4.0          1.0                    2.0   \n2          False      Solo           3.0          1.0                    2.0   \n3          False      Solo           6.0          1.0                   79.0   \n4          False      Solo          15.0          1.0                   79.0   \n...          ...       ...           ...          ...                    ...   \n683265     False      Solo          18.0          1.0                   79.0   \n683266      True      Solo           2.0          1.0                   79.0   \n683267      True      Solo           1.0          1.0                   79.0   \n683268     False      Solo           3.0          1.0                   79.0   \n683269     False      Solo           4.0          1.0                   79.0   \n\n       release_date  duration_ms  ...  betweenesscentrality_y  \\\n0        1995-01-01     162667.0  ...                     0.0   \n1        1995-01-01     271307.0  ...                     0.0   \n2        1995-01-01     242027.0  ...                     0.0   \n3        1995-01-01     201307.0  ...                     0.0   \n4        1995-01-01     231973.0  ...                     0.0   \n...             ...          ...  ...                     ...   \n683265   2015-08-19     126824.0  ...                     0.0   \n683266   2015-08-19     171102.0  ...                     0.0   \n683267   2015-08-19     171102.0  ...                     0.0   \n683268   2015-08-19     319671.0  ...                     0.0   \n683269   2015-08-19     179711.0  ...                     0.0   \n\n        closnesscentrality_y  clustering_y  degree_y  eccentricity_y  \\\n0                        0.0           0.0       0.0             0.0   \n1                        0.0           0.0       0.0             0.0   \n2                        0.0           0.0       0.0             0.0   \n3                        0.0           0.0       0.0             0.0   \n4                        0.0           0.0       0.0             0.0   \n...                      ...           ...       ...             ...   \n683265                   0.0           0.0       0.0             0.0   \n683266                   0.0           0.0       0.0             0.0   \n683267                   0.0           0.0       0.0             0.0   \n683268                   0.0           0.0       0.0             0.0   \n683269                   0.0           0.0       0.0             0.0   \n\n        eigencentrality_y  weighted degree_y  pagerank_y  Cluster_y  profile_y  \n0                     0.0                0.0         0.0       -1.0   No Match  \n1                     0.0                0.0         0.0       -1.0   No Match  \n2                     0.0                0.0         0.0       -1.0   No Match  \n3                     0.0                0.0         0.0       -1.0   No Match  \n4                     0.0                0.0         0.0       -1.0   No Match  \n...                   ...                ...         ...        ...        ...  \n683265                0.0                0.0         0.0       -1.0   No Match  \n683266                0.0                0.0         0.0       -1.0   No Match  \n683267                0.0                0.0         0.0       -1.0   No Match  \n683268                0.0                0.0         0.0       -1.0   No Match  \n683269                0.0                0.0         0.0       -1.0   No Match  \n\n[683270 rows x 47 columns]",
      "text/html": "<div>\n<style scoped>\n    .dataframe tbody tr th:only-of-type {\n        vertical-align: middle;\n    }\n\n    .dataframe tbody tr th {\n        vertical-align: top;\n    }\n\n    .dataframe thead th {\n        text-align: right;\n    }\n</style>\n<table border=\"1\" class=\"dataframe\">\n  <thead>\n    <tr style=\"text-align: right;\">\n      <th></th>\n      <th>song_id</th>\n      <th>song_name</th>\n      <th>song_popularity</th>\n      <th>explicit</th>\n      <th>song_type</th>\n      <th>track_number</th>\n      <th>num_artists</th>\n      <th>num_available_markets</th>\n      <th>release_date</th>\n      <th>duration_ms</th>\n      <th>...</th>\n      <th>betweenesscentrality_y</th>\n      <th>closnesscentrality_y</th>\n      <th>clustering_y</th>\n      <th>degree_y</th>\n      <th>eccentricity_y</th>\n      <th>eigencentrality_y</th>\n      <th>weighted degree_y</th>\n      <th>pagerank_y</th>\n      <th>Cluster_y</th>\n      <th>profile_y</th>\n    </tr>\n  </thead>\n  <tbody>\n    <tr>\n      <th>0</th>\n      <td>7kXUEJmfvRXbzxOC0pHQgb</td>\n      <td>I Can't Believe I'm Losing You</td>\n      <td>5.0</td>\n      <td>False</td>\n      <td>Solo</td>\n      <td>12.0</td>\n      <td>1.0</td>\n      <td>79.0</td>\n      <td>1995-01-01</td>\n      <td>162667.0</td>\n      <td>...</td>\n      <td>0.0</td>\n      <td>0.0</td>\n      <td>0.0</td>\n      <td>0.0</td>\n      <td>0.0</td>\n      <td>0.0</td>\n      <td>0.0</td>\n      <td>0.0</td>\n      <td>-1.0</td>\n      <td>No Match</td>\n    </tr>\n    <tr>\n      <th>1</th>\n      <td>7A131DrpfbWAfNJLrxikwf</td>\n      <td>Top Of The Stairs</td>\n      <td>26.0</td>\n      <td>False</td>\n      <td>Solo</td>\n      <td>4.0</td>\n      <td>1.0</td>\n      <td>2.0</td>\n      <td>1995-01-01</td>\n      <td>271307.0</td>\n      <td>...</td>\n      <td>0.0</td>\n      <td>0.0</td>\n      <td>0.0</td>\n      <td>0.0</td>\n      <td>0.0</td>\n      <td>0.0</td>\n      <td>0.0</td>\n      <td>0.0</td>\n      <td>-1.0</td>\n      <td>No Match</td>\n    </tr>\n    <tr>\n      <th>2</th>\n      <td>4SRjOJm5AjO3fxXpZSTEBb</td>\n      <td>Never Crossed My Mind</td>\n      <td>20.0</td>\n      <td>False</td>\n      <td>Solo</td>\n      <td>3.0</td>\n      <td>1.0</td>\n      <td>2.0</td>\n      <td>1995-01-01</td>\n      <td>242027.0</td>\n      <td>...</td>\n      <td>0.0</td>\n      <td>0.0</td>\n      <td>0.0</td>\n      <td>0.0</td>\n      <td>0.0</td>\n      <td>0.0</td>\n      <td>0.0</td>\n      <td>0.0</td>\n      <td>-1.0</td>\n      <td>No Match</td>\n    </tr>\n    <tr>\n      <th>3</th>\n      <td>592dtCLAyLQdUallLhJinO</td>\n      <td>Daddy Cool</td>\n      <td>1.0</td>\n      <td>False</td>\n      <td>Solo</td>\n      <td>6.0</td>\n      <td>1.0</td>\n      <td>79.0</td>\n      <td>1995-01-01</td>\n      <td>201307.0</td>\n      <td>...</td>\n      <td>0.0</td>\n      <td>0.0</td>\n      <td>0.0</td>\n      <td>0.0</td>\n      <td>0.0</td>\n      <td>0.0</td>\n      <td>0.0</td>\n      <td>0.0</td>\n      <td>-1.0</td>\n      <td>No Match</td>\n    </tr>\n    <tr>\n      <th>4</th>\n      <td>2hMAApqyXl7nf2s8dQ6BTv</td>\n      <td>Shame, Shame, Shame</td>\n      <td>0.0</td>\n      <td>False</td>\n      <td>Solo</td>\n      <td>15.0</td>\n      <td>1.0</td>\n      <td>79.0</td>\n      <td>1995-01-01</td>\n      <td>231973.0</td>\n      <td>...</td>\n      <td>0.0</td>\n      <td>0.0</td>\n      <td>0.0</td>\n      <td>0.0</td>\n      <td>0.0</td>\n      <td>0.0</td>\n      <td>0.0</td>\n      <td>0.0</td>\n      <td>-1.0</td>\n      <td>No Match</td>\n    </tr>\n    <tr>\n      <th>...</th>\n      <td>...</td>\n      <td>...</td>\n      <td>...</td>\n      <td>...</td>\n      <td>...</td>\n      <td>...</td>\n      <td>...</td>\n      <td>...</td>\n      <td>...</td>\n      <td>...</td>\n      <td>...</td>\n      <td>...</td>\n      <td>...</td>\n      <td>...</td>\n      <td>...</td>\n      <td>...</td>\n      <td>...</td>\n      <td>...</td>\n      <td>...</td>\n      <td>...</td>\n      <td>...</td>\n    </tr>\n    <tr>\n      <th>683265</th>\n      <td>4pu4lDfWTiGGQfH8ZsGXDJ</td>\n      <td>This Moment with You</td>\n      <td>0.0</td>\n      <td>False</td>\n      <td>Solo</td>\n      <td>18.0</td>\n      <td>1.0</td>\n      <td>79.0</td>\n      <td>2015-08-19</td>\n      <td>126824.0</td>\n      <td>...</td>\n      <td>0.0</td>\n      <td>0.0</td>\n      <td>0.0</td>\n      <td>0.0</td>\n      <td>0.0</td>\n      <td>0.0</td>\n      <td>0.0</td>\n      <td>0.0</td>\n      <td>-1.0</td>\n      <td>No Match</td>\n    </tr>\n    <tr>\n      <th>683266</th>\n      <td>1dvxuoNz7e603WUjrDaP4V</td>\n      <td>Back To Back - Originally performed by Drake (...</td>\n      <td>0.0</td>\n      <td>True</td>\n      <td>Solo</td>\n      <td>2.0</td>\n      <td>1.0</td>\n      <td>79.0</td>\n      <td>2015-08-19</td>\n      <td>171102.0</td>\n      <td>...</td>\n      <td>0.0</td>\n      <td>0.0</td>\n      <td>0.0</td>\n      <td>0.0</td>\n      <td>0.0</td>\n      <td>0.0</td>\n      <td>0.0</td>\n      <td>0.0</td>\n      <td>-1.0</td>\n      <td>No Match</td>\n    </tr>\n    <tr>\n      <th>683267</th>\n      <td>7dQU5mlVd5AXX5YqmIKZE2</td>\n      <td>Back To Back - Originally performed by Drake</td>\n      <td>0.0</td>\n      <td>True</td>\n      <td>Solo</td>\n      <td>1.0</td>\n      <td>1.0</td>\n      <td>79.0</td>\n      <td>2015-08-19</td>\n      <td>171102.0</td>\n      <td>...</td>\n      <td>0.0</td>\n      <td>0.0</td>\n      <td>0.0</td>\n      <td>0.0</td>\n      <td>0.0</td>\n      <td>0.0</td>\n      <td>0.0</td>\n      <td>0.0</td>\n      <td>-1.0</td>\n      <td>No Match</td>\n    </tr>\n    <tr>\n      <th>683268</th>\n      <td>522tmFx0Rlm1Jex8hl2QIl</td>\n      <td>Metal Militia (Karaoke Version) [Originally Pe...</td>\n      <td>0.0</td>\n      <td>False</td>\n      <td>Solo</td>\n      <td>3.0</td>\n      <td>1.0</td>\n      <td>79.0</td>\n      <td>2015-08-19</td>\n      <td>319671.0</td>\n      <td>...</td>\n      <td>0.0</td>\n      <td>0.0</td>\n      <td>0.0</td>\n      <td>0.0</td>\n      <td>0.0</td>\n      <td>0.0</td>\n      <td>0.0</td>\n      <td>0.0</td>\n      <td>-1.0</td>\n      <td>No Match</td>\n    </tr>\n    <tr>\n      <th>683269</th>\n      <td>58y1dMrxWnZoSrHBcmaFhy</td>\n      <td>Motorbreath (Karaoke Version) [Originally Perf...</td>\n      <td>0.0</td>\n      <td>False</td>\n      <td>Solo</td>\n      <td>4.0</td>\n      <td>1.0</td>\n      <td>79.0</td>\n      <td>2015-08-19</td>\n      <td>179711.0</td>\n      <td>...</td>\n      <td>0.0</td>\n      <td>0.0</td>\n      <td>0.0</td>\n      <td>0.0</td>\n      <td>0.0</td>\n      <td>0.0</td>\n      <td>0.0</td>\n      <td>0.0</td>\n      <td>-1.0</td>\n      <td>No Match</td>\n    </tr>\n  </tbody>\n</table>\n<p>683270 rows × 47 columns</p>\n</div>"
     },
     "execution_count": 17,
     "metadata": {},
     "output_type": "execute_result"
    }
   ],
   "source": [
    "data_train = pd.merge(train_df, df_artists_train, left_on=\"artist1_id\", right_on=\"Spotify ID\", how=\"left\")\n",
    "default = {\n",
    "    'eigencentrality': 0,\n",
    "    'name': '',\n",
    "    'eccentricity': 0,\n",
    "    'degree': 0,\n",
    "    'clustering': 0,\n",
    "    'closnesscentrality': 0,\n",
    "    'weighted degree': 0,\n",
    "    'betweenesscentrality': 0,\n",
    "    'Spotify ID': '',\n",
    "    'Cluster': -1,\n",
    "    'profile': \"No Match\",\n",
    "    'pagerank': 0.0\n",
    "}\n",
    "\n",
    "default_y = {\n",
    "    'eigencentrality_y': 0,\n",
    "    'popularity_y': 0,\n",
    "    'name_y': '',\n",
    "    'eccentricity_y': 0,\n",
    "    'degree_y': 0,\n",
    "    'clustering_y': 0,\n",
    "    'closnesscentrality_y': 0,\n",
    "    'weighted degree_y': 0,\n",
    "    'betweenesscentrality_y': 0,\n",
    "    'Spotify ID_y': '',\n",
    "    'Cluster_y': -1,\n",
    "    'profile_y': \"No Match\",\n",
    "    'pagerank_y': 0.0\n",
    "}\n",
    "\n",
    "# Fill NaN values with default values\n",
    "data_train.fillna(default, inplace=True)\n",
    "data_train = pd.merge(data_train, df_artists_train, left_on=\"artist2_id\", right_on=\"Spotify ID\", how=\"left\")\n",
    "data_train.fillna(default_y, inplace=True)\n",
    "data_train.drop(columns=[\"name_artists\", 'id_artists', \"Spotify ID_x\", \"Spotify ID_y\"], inplace=True)\n",
    "data_train"
   ],
   "metadata": {
    "collapsed": false,
    "pycharm": {
     "name": "#%%\n"
    },
    "ExecuteTime": {
     "end_time": "2024-07-27T13:56:20.472032Z",
     "start_time": "2024-07-27T13:56:19.254362300Z"
    }
   },
   "id": "eceeed6a860c246e"
  },
  {
   "cell_type": "code",
   "execution_count": 18,
   "outputs": [
    {
     "data": {
      "text/plain": "''"
     },
     "execution_count": 18,
     "metadata": {},
     "output_type": "execute_result"
    }
   ],
   "source": [
    "data_train[\"artist2_id\"].iloc[0]"
   ],
   "metadata": {
    "collapsed": false,
    "pycharm": {
     "name": "#%%\n"
    },
    "ExecuteTime": {
     "end_time": "2024-07-27T13:56:20.503031600Z",
     "start_time": "2024-07-27T13:56:20.475030900Z"
    }
   },
   "id": "4503d8f82283778e"
  },
  {
   "cell_type": "code",
   "execution_count": 19,
   "outputs": [
    {
     "data": {
      "text/plain": "                       song_id  \\\n0       4dc4MQpoLDPHBMt2Mk4dih   \n1       01lHD84XM9nSuTlo1WnCax   \n2       34nOomrSFivFip6cncJs9u   \n3       16hQ1I04XaMJCh0PKMGL6J   \n4       70mPtAGxAAqyXtCCMMaPjO   \n...                        ...   \n227752  5ke0edZBlwRYu01wdej6xq   \n227753  12kc7hUJKpArFQurhlNeNW   \n227754  0lej8CemYKkWVHg77Xe1ky   \n227755  7goArBQdsalqclSyaTywAS   \n227756  6Fh2QgjCxL96dA3Gtpfr4Q   \n\n                                                song_name  song_popularity  \\\n0       Of Wolf And Man (Karaoke Version) [Originally ...              0.0   \n1       One (Karaoke Version) [Originally Performed By...              0.0   \n2       Orion (Karaoke Version) [Originally Performed ...              0.0   \n3       Fire N Gold - Originally performed by Bea Mill...              0.0   \n4       Hell Of A Night - Originally performed by Dust...              0.0   \n...                                                   ...              ...   \n227752                                         Let Her In              4.0   \n227753                             Stop and Think It Over              1.0   \n227754           A Man Holdin' on (To a Woman Lettin’ Go)             14.0   \n227755                                   Shimmy Shimmy Ya              7.0   \n227756  One Sweet Day (16-Bit Mariah Carey & Boyz II M...              0.0   \n\n        explicit      song_type  track_number  num_artists  \\\n0          False           Solo           8.0          1.0   \n1          False           Solo           9.0          1.0   \n2          False           Solo          10.0          1.0   \n3          False           Solo           2.0          1.0   \n4          False           Solo           1.0          1.0   \n...          ...            ...           ...          ...   \n227752     False           Solo           7.0          1.0   \n227753     False           Solo           9.0          1.0   \n227754     False  Collaboration           7.0          2.0   \n227755     False           Solo           8.0          1.0   \n227756     False           Solo          27.0          1.0   \n\n        num_available_markets release_date  duration_ms  ...  \\\n0                        79.0   2015-08-19     269429.0  ...   \n1                        79.0   2015-08-19     432485.0  ...   \n2                        79.0   2015-08-19     484199.0  ...   \n3                        79.0   2015-08-19     211566.0  ...   \n4                        79.0   2015-08-19     189388.0  ...   \n...                       ...          ...          ...  ...   \n227752                   79.0   2019-08-23     183600.0  ...   \n227753                   79.0   2019-08-23     154413.0  ...   \n227754                   79.0   2019-08-23     231898.0  ...   \n227755                   78.0   2019-08-23     161200.0  ...   \n227756                   79.0   2019-08-26     260910.0  ...   \n\n        betweenesscentrality_y  closnesscentrality_y  clustering_y  degree_y  \\\n0                          0.0              0.000000           0.0       0.0   \n1                          0.0              0.000000           0.0       0.0   \n2                          0.0              0.000000           0.0       0.0   \n3                          0.0              0.000000           0.0       0.0   \n4                          0.0              0.000000           0.0       0.0   \n...                        ...                   ...           ...       ...   \n227752                     0.0              0.000000           0.0       0.0   \n227753                     0.0              0.000000           0.0       0.0   \n227754                     0.0              0.000111           0.0       1.0   \n227755                     0.0              0.000000           0.0       0.0   \n227756                     0.0              0.000000           0.0       0.0   \n\n        eccentricity_y  eigencentrality_y  weighted degree_y  pagerank_y  \\\n0                  0.0       0.000000e+00                0.0    0.000000   \n1                  0.0       0.000000e+00                0.0    0.000000   \n2                  0.0       0.000000e+00                0.0    0.000000   \n3                  0.0       0.000000e+00                0.0    0.000000   \n4                  0.0       0.000000e+00                0.0    0.000000   \n...                ...                ...                ...         ...   \n227752             0.0       0.000000e+00                0.0    0.000000   \n227753             0.0       0.000000e+00                0.0    0.000000   \n227754             2.0       1.834918e-13                2.0    0.000039   \n227755             0.0       0.000000e+00                0.0    0.000000   \n227756             0.0       0.000000e+00                0.0    0.000000   \n\n        Cluster_y    profile_y  \n0            -1.0     No Match  \n1            -1.0     No Match  \n2            -1.0     No Match  \n3            -1.0     No Match  \n4            -1.0     No Match  \n...           ...          ...  \n227752       -1.0     No Match  \n227753       -1.0     No Match  \n227754        0.0  1A 2A 3A 4A  \n227755       -1.0     No Match  \n227756       -1.0     No Match  \n\n[227757 rows x 47 columns]",
      "text/html": "<div>\n<style scoped>\n    .dataframe tbody tr th:only-of-type {\n        vertical-align: middle;\n    }\n\n    .dataframe tbody tr th {\n        vertical-align: top;\n    }\n\n    .dataframe thead th {\n        text-align: right;\n    }\n</style>\n<table border=\"1\" class=\"dataframe\">\n  <thead>\n    <tr style=\"text-align: right;\">\n      <th></th>\n      <th>song_id</th>\n      <th>song_name</th>\n      <th>song_popularity</th>\n      <th>explicit</th>\n      <th>song_type</th>\n      <th>track_number</th>\n      <th>num_artists</th>\n      <th>num_available_markets</th>\n      <th>release_date</th>\n      <th>duration_ms</th>\n      <th>...</th>\n      <th>betweenesscentrality_y</th>\n      <th>closnesscentrality_y</th>\n      <th>clustering_y</th>\n      <th>degree_y</th>\n      <th>eccentricity_y</th>\n      <th>eigencentrality_y</th>\n      <th>weighted degree_y</th>\n      <th>pagerank_y</th>\n      <th>Cluster_y</th>\n      <th>profile_y</th>\n    </tr>\n  </thead>\n  <tbody>\n    <tr>\n      <th>0</th>\n      <td>4dc4MQpoLDPHBMt2Mk4dih</td>\n      <td>Of Wolf And Man (Karaoke Version) [Originally ...</td>\n      <td>0.0</td>\n      <td>False</td>\n      <td>Solo</td>\n      <td>8.0</td>\n      <td>1.0</td>\n      <td>79.0</td>\n      <td>2015-08-19</td>\n      <td>269429.0</td>\n      <td>...</td>\n      <td>0.0</td>\n      <td>0.000000</td>\n      <td>0.0</td>\n      <td>0.0</td>\n      <td>0.0</td>\n      <td>0.000000e+00</td>\n      <td>0.0</td>\n      <td>0.000000</td>\n      <td>-1.0</td>\n      <td>No Match</td>\n    </tr>\n    <tr>\n      <th>1</th>\n      <td>01lHD84XM9nSuTlo1WnCax</td>\n      <td>One (Karaoke Version) [Originally Performed By...</td>\n      <td>0.0</td>\n      <td>False</td>\n      <td>Solo</td>\n      <td>9.0</td>\n      <td>1.0</td>\n      <td>79.0</td>\n      <td>2015-08-19</td>\n      <td>432485.0</td>\n      <td>...</td>\n      <td>0.0</td>\n      <td>0.000000</td>\n      <td>0.0</td>\n      <td>0.0</td>\n      <td>0.0</td>\n      <td>0.000000e+00</td>\n      <td>0.0</td>\n      <td>0.000000</td>\n      <td>-1.0</td>\n      <td>No Match</td>\n    </tr>\n    <tr>\n      <th>2</th>\n      <td>34nOomrSFivFip6cncJs9u</td>\n      <td>Orion (Karaoke Version) [Originally Performed ...</td>\n      <td>0.0</td>\n      <td>False</td>\n      <td>Solo</td>\n      <td>10.0</td>\n      <td>1.0</td>\n      <td>79.0</td>\n      <td>2015-08-19</td>\n      <td>484199.0</td>\n      <td>...</td>\n      <td>0.0</td>\n      <td>0.000000</td>\n      <td>0.0</td>\n      <td>0.0</td>\n      <td>0.0</td>\n      <td>0.000000e+00</td>\n      <td>0.0</td>\n      <td>0.000000</td>\n      <td>-1.0</td>\n      <td>No Match</td>\n    </tr>\n    <tr>\n      <th>3</th>\n      <td>16hQ1I04XaMJCh0PKMGL6J</td>\n      <td>Fire N Gold - Originally performed by Bea Mill...</td>\n      <td>0.0</td>\n      <td>False</td>\n      <td>Solo</td>\n      <td>2.0</td>\n      <td>1.0</td>\n      <td>79.0</td>\n      <td>2015-08-19</td>\n      <td>211566.0</td>\n      <td>...</td>\n      <td>0.0</td>\n      <td>0.000000</td>\n      <td>0.0</td>\n      <td>0.0</td>\n      <td>0.0</td>\n      <td>0.000000e+00</td>\n      <td>0.0</td>\n      <td>0.000000</td>\n      <td>-1.0</td>\n      <td>No Match</td>\n    </tr>\n    <tr>\n      <th>4</th>\n      <td>70mPtAGxAAqyXtCCMMaPjO</td>\n      <td>Hell Of A Night - Originally performed by Dust...</td>\n      <td>0.0</td>\n      <td>False</td>\n      <td>Solo</td>\n      <td>1.0</td>\n      <td>1.0</td>\n      <td>79.0</td>\n      <td>2015-08-19</td>\n      <td>189388.0</td>\n      <td>...</td>\n      <td>0.0</td>\n      <td>0.000000</td>\n      <td>0.0</td>\n      <td>0.0</td>\n      <td>0.0</td>\n      <td>0.000000e+00</td>\n      <td>0.0</td>\n      <td>0.000000</td>\n      <td>-1.0</td>\n      <td>No Match</td>\n    </tr>\n    <tr>\n      <th>...</th>\n      <td>...</td>\n      <td>...</td>\n      <td>...</td>\n      <td>...</td>\n      <td>...</td>\n      <td>...</td>\n      <td>...</td>\n      <td>...</td>\n      <td>...</td>\n      <td>...</td>\n      <td>...</td>\n      <td>...</td>\n      <td>...</td>\n      <td>...</td>\n      <td>...</td>\n      <td>...</td>\n      <td>...</td>\n      <td>...</td>\n      <td>...</td>\n      <td>...</td>\n      <td>...</td>\n    </tr>\n    <tr>\n      <th>227752</th>\n      <td>5ke0edZBlwRYu01wdej6xq</td>\n      <td>Let Her In</td>\n      <td>4.0</td>\n      <td>False</td>\n      <td>Solo</td>\n      <td>7.0</td>\n      <td>1.0</td>\n      <td>79.0</td>\n      <td>2019-08-23</td>\n      <td>183600.0</td>\n      <td>...</td>\n      <td>0.0</td>\n      <td>0.000000</td>\n      <td>0.0</td>\n      <td>0.0</td>\n      <td>0.0</td>\n      <td>0.000000e+00</td>\n      <td>0.0</td>\n      <td>0.000000</td>\n      <td>-1.0</td>\n      <td>No Match</td>\n    </tr>\n    <tr>\n      <th>227753</th>\n      <td>12kc7hUJKpArFQurhlNeNW</td>\n      <td>Stop and Think It Over</td>\n      <td>1.0</td>\n      <td>False</td>\n      <td>Solo</td>\n      <td>9.0</td>\n      <td>1.0</td>\n      <td>79.0</td>\n      <td>2019-08-23</td>\n      <td>154413.0</td>\n      <td>...</td>\n      <td>0.0</td>\n      <td>0.000000</td>\n      <td>0.0</td>\n      <td>0.0</td>\n      <td>0.0</td>\n      <td>0.000000e+00</td>\n      <td>0.0</td>\n      <td>0.000000</td>\n      <td>-1.0</td>\n      <td>No Match</td>\n    </tr>\n    <tr>\n      <th>227754</th>\n      <td>0lej8CemYKkWVHg77Xe1ky</td>\n      <td>A Man Holdin' on (To a Woman Lettin’ Go)</td>\n      <td>14.0</td>\n      <td>False</td>\n      <td>Collaboration</td>\n      <td>7.0</td>\n      <td>2.0</td>\n      <td>79.0</td>\n      <td>2019-08-23</td>\n      <td>231898.0</td>\n      <td>...</td>\n      <td>0.0</td>\n      <td>0.000111</td>\n      <td>0.0</td>\n      <td>1.0</td>\n      <td>2.0</td>\n      <td>1.834918e-13</td>\n      <td>2.0</td>\n      <td>0.000039</td>\n      <td>0.0</td>\n      <td>1A 2A 3A 4A</td>\n    </tr>\n    <tr>\n      <th>227755</th>\n      <td>7goArBQdsalqclSyaTywAS</td>\n      <td>Shimmy Shimmy Ya</td>\n      <td>7.0</td>\n      <td>False</td>\n      <td>Solo</td>\n      <td>8.0</td>\n      <td>1.0</td>\n      <td>78.0</td>\n      <td>2019-08-23</td>\n      <td>161200.0</td>\n      <td>...</td>\n      <td>0.0</td>\n      <td>0.000000</td>\n      <td>0.0</td>\n      <td>0.0</td>\n      <td>0.0</td>\n      <td>0.000000e+00</td>\n      <td>0.0</td>\n      <td>0.000000</td>\n      <td>-1.0</td>\n      <td>No Match</td>\n    </tr>\n    <tr>\n      <th>227756</th>\n      <td>6Fh2QgjCxL96dA3Gtpfr4Q</td>\n      <td>One Sweet Day (16-Bit Mariah Carey &amp; Boyz II M...</td>\n      <td>0.0</td>\n      <td>False</td>\n      <td>Solo</td>\n      <td>27.0</td>\n      <td>1.0</td>\n      <td>79.0</td>\n      <td>2019-08-26</td>\n      <td>260910.0</td>\n      <td>...</td>\n      <td>0.0</td>\n      <td>0.000000</td>\n      <td>0.0</td>\n      <td>0.0</td>\n      <td>0.0</td>\n      <td>0.000000e+00</td>\n      <td>0.0</td>\n      <td>0.000000</td>\n      <td>-1.0</td>\n      <td>No Match</td>\n    </tr>\n  </tbody>\n</table>\n<p>227757 rows × 47 columns</p>\n</div>"
     },
     "execution_count": 19,
     "metadata": {},
     "output_type": "execute_result"
    }
   ],
   "source": [
    "data_test = pd.merge(test_df, df_artists_test, left_on=\"artist1_id\", right_on=\"Spotify ID\", how=\"left\")\n",
    "default = {\n",
    "    'eigencentrality': 0,\n",
    "    'name': '',\n",
    "    'eccentricity': 0,\n",
    "    'degree': 0,\n",
    "    'clustering': 0,\n",
    "    'closnesscentrality': 0,\n",
    "    'weighted degree': 0,\n",
    "    'betweenesscentrality': 0,\n",
    "    'Spotify ID': '',\n",
    "    'Cluster': -1,\n",
    "    'profile': \"No Match\",\n",
    "    'pagerank': 0.0\n",
    "}\n",
    "\n",
    "default_y = {\n",
    "    'eigencentrality_y': 0,\n",
    "    'popularity_y': 0,\n",
    "    'name_y': '',\n",
    "    'eccentricity_y': 0,\n",
    "    'degree_y': 0,\n",
    "    'clustering_y': 0,\n",
    "    'closnesscentrality_y': 0,\n",
    "    'weighted degree_y': 0,\n",
    "    'betweenesscentrality_y': 0,\n",
    "    'Spotify ID_y': '',\n",
    "    'Cluster_y': -1,\n",
    "    'profile_y': \"No Match\",\n",
    "    'pagerank_y': 0.0\n",
    "}\n",
    "\n",
    "# Fill NaN values with default values\n",
    "data_test.fillna(default, inplace=True)\n",
    "data_test = pd.merge(data_test, df_artists_test, left_on=\"artist2_id\", right_on=\"Spotify ID\", how=\"left\")\n",
    "data_test.fillna(default_y, inplace=True)\n",
    "data_test.drop(columns=[\"name_artists\", 'id_artists', \"Spotify ID_x\", \"Spotify ID_y\"], inplace=True)\n",
    "data_test"
   ],
   "metadata": {
    "collapsed": false,
    "pycharm": {
     "name": "#%%\n"
    },
    "ExecuteTime": {
     "end_time": "2024-07-27T13:56:20.967030700Z",
     "start_time": "2024-07-27T13:56:20.519031800Z"
    }
   },
   "id": "2cc3f86cb9480c16"
  },
  {
   "cell_type": "code",
   "execution_count": 20,
   "outputs": [],
   "source": [
    "data = pd.concat([data_train, data_test], axis=0)"
   ],
   "metadata": {
    "collapsed": false,
    "pycharm": {
     "name": "#%%\n"
    },
    "ExecuteTime": {
     "end_time": "2024-07-27T13:56:21.312032200Z",
     "start_time": "2024-07-27T13:56:20.968033400Z"
    }
   },
   "id": "1784adc93c9b69ef"
  },
  {
   "cell_type": "code",
   "execution_count": 21,
   "outputs": [
    {
     "data": {
      "text/plain": "                       song_id  \\\n0       7kXUEJmfvRXbzxOC0pHQgb   \n1       7A131DrpfbWAfNJLrxikwf   \n2       4SRjOJm5AjO3fxXpZSTEBb   \n3       592dtCLAyLQdUallLhJinO   \n4       2hMAApqyXl7nf2s8dQ6BTv   \n...                        ...   \n227752  5ke0edZBlwRYu01wdej6xq   \n227753  12kc7hUJKpArFQurhlNeNW   \n227754  0lej8CemYKkWVHg77Xe1ky   \n227755  7goArBQdsalqclSyaTywAS   \n227756  6Fh2QgjCxL96dA3Gtpfr4Q   \n\n                                                song_name  song_popularity  \\\n0                          I Can't Believe I'm Losing You              5.0   \n1                                       Top Of The Stairs             26.0   \n2                                   Never Crossed My Mind             20.0   \n3                                              Daddy Cool              1.0   \n4                                     Shame, Shame, Shame              0.0   \n...                                                   ...              ...   \n227752                                         Let Her In              4.0   \n227753                             Stop and Think It Over              1.0   \n227754           A Man Holdin' on (To a Woman Lettin’ Go)             14.0   \n227755                                   Shimmy Shimmy Ya              7.0   \n227756  One Sweet Day (16-Bit Mariah Carey & Boyz II M...              0.0   \n\n        explicit      song_type  track_number  num_artists  \\\n0          False           Solo          12.0          1.0   \n1          False           Solo           4.0          1.0   \n2          False           Solo           3.0          1.0   \n3          False           Solo           6.0          1.0   \n4          False           Solo          15.0          1.0   \n...          ...            ...           ...          ...   \n227752     False           Solo           7.0          1.0   \n227753     False           Solo           9.0          1.0   \n227754     False  Collaboration           7.0          2.0   \n227755     False           Solo           8.0          1.0   \n227756     False           Solo          27.0          1.0   \n\n        num_available_markets release_date  duration_ms  ...  \\\n0                        79.0   1995-01-01     162667.0  ...   \n1                         2.0   1995-01-01     271307.0  ...   \n2                         2.0   1995-01-01     242027.0  ...   \n3                        79.0   1995-01-01     201307.0  ...   \n4                        79.0   1995-01-01     231973.0  ...   \n...                       ...          ...          ...  ...   \n227752                   79.0   2019-08-23     183600.0  ...   \n227753                   79.0   2019-08-23     154413.0  ...   \n227754                   79.0   2019-08-23     231898.0  ...   \n227755                   78.0   2019-08-23     161200.0  ...   \n227756                   79.0   2019-08-26     260910.0  ...   \n\n        betweenesscentrality_y  closnesscentrality_y  clustering_y  degree_y  \\\n0                          0.0              0.000000           0.0       0.0   \n1                          0.0              0.000000           0.0       0.0   \n2                          0.0              0.000000           0.0       0.0   \n3                          0.0              0.000000           0.0       0.0   \n4                          0.0              0.000000           0.0       0.0   \n...                        ...                   ...           ...       ...   \n227752                     0.0              0.000000           0.0       0.0   \n227753                     0.0              0.000000           0.0       0.0   \n227754                     0.0              0.000111           0.0       1.0   \n227755                     0.0              0.000000           0.0       0.0   \n227756                     0.0              0.000000           0.0       0.0   \n\n        eccentricity_y  eigencentrality_y  weighted degree_y  pagerank_y  \\\n0                  0.0       0.000000e+00                0.0    0.000000   \n1                  0.0       0.000000e+00                0.0    0.000000   \n2                  0.0       0.000000e+00                0.0    0.000000   \n3                  0.0       0.000000e+00                0.0    0.000000   \n4                  0.0       0.000000e+00                0.0    0.000000   \n...                ...                ...                ...         ...   \n227752             0.0       0.000000e+00                0.0    0.000000   \n227753             0.0       0.000000e+00                0.0    0.000000   \n227754             2.0       1.834918e-13                2.0    0.000039   \n227755             0.0       0.000000e+00                0.0    0.000000   \n227756             0.0       0.000000e+00                0.0    0.000000   \n\n        Cluster_y    profile_y  \n0            -1.0     No Match  \n1            -1.0     No Match  \n2            -1.0     No Match  \n3            -1.0     No Match  \n4            -1.0     No Match  \n...           ...          ...  \n227752       -1.0     No Match  \n227753       -1.0     No Match  \n227754        0.0  1A 2A 3A 4A  \n227755       -1.0     No Match  \n227756       -1.0     No Match  \n\n[911027 rows x 47 columns]",
      "text/html": "<div>\n<style scoped>\n    .dataframe tbody tr th:only-of-type {\n        vertical-align: middle;\n    }\n\n    .dataframe tbody tr th {\n        vertical-align: top;\n    }\n\n    .dataframe thead th {\n        text-align: right;\n    }\n</style>\n<table border=\"1\" class=\"dataframe\">\n  <thead>\n    <tr style=\"text-align: right;\">\n      <th></th>\n      <th>song_id</th>\n      <th>song_name</th>\n      <th>song_popularity</th>\n      <th>explicit</th>\n      <th>song_type</th>\n      <th>track_number</th>\n      <th>num_artists</th>\n      <th>num_available_markets</th>\n      <th>release_date</th>\n      <th>duration_ms</th>\n      <th>...</th>\n      <th>betweenesscentrality_y</th>\n      <th>closnesscentrality_y</th>\n      <th>clustering_y</th>\n      <th>degree_y</th>\n      <th>eccentricity_y</th>\n      <th>eigencentrality_y</th>\n      <th>weighted degree_y</th>\n      <th>pagerank_y</th>\n      <th>Cluster_y</th>\n      <th>profile_y</th>\n    </tr>\n  </thead>\n  <tbody>\n    <tr>\n      <th>0</th>\n      <td>7kXUEJmfvRXbzxOC0pHQgb</td>\n      <td>I Can't Believe I'm Losing You</td>\n      <td>5.0</td>\n      <td>False</td>\n      <td>Solo</td>\n      <td>12.0</td>\n      <td>1.0</td>\n      <td>79.0</td>\n      <td>1995-01-01</td>\n      <td>162667.0</td>\n      <td>...</td>\n      <td>0.0</td>\n      <td>0.000000</td>\n      <td>0.0</td>\n      <td>0.0</td>\n      <td>0.0</td>\n      <td>0.000000e+00</td>\n      <td>0.0</td>\n      <td>0.000000</td>\n      <td>-1.0</td>\n      <td>No Match</td>\n    </tr>\n    <tr>\n      <th>1</th>\n      <td>7A131DrpfbWAfNJLrxikwf</td>\n      <td>Top Of The Stairs</td>\n      <td>26.0</td>\n      <td>False</td>\n      <td>Solo</td>\n      <td>4.0</td>\n      <td>1.0</td>\n      <td>2.0</td>\n      <td>1995-01-01</td>\n      <td>271307.0</td>\n      <td>...</td>\n      <td>0.0</td>\n      <td>0.000000</td>\n      <td>0.0</td>\n      <td>0.0</td>\n      <td>0.0</td>\n      <td>0.000000e+00</td>\n      <td>0.0</td>\n      <td>0.000000</td>\n      <td>-1.0</td>\n      <td>No Match</td>\n    </tr>\n    <tr>\n      <th>2</th>\n      <td>4SRjOJm5AjO3fxXpZSTEBb</td>\n      <td>Never Crossed My Mind</td>\n      <td>20.0</td>\n      <td>False</td>\n      <td>Solo</td>\n      <td>3.0</td>\n      <td>1.0</td>\n      <td>2.0</td>\n      <td>1995-01-01</td>\n      <td>242027.0</td>\n      <td>...</td>\n      <td>0.0</td>\n      <td>0.000000</td>\n      <td>0.0</td>\n      <td>0.0</td>\n      <td>0.0</td>\n      <td>0.000000e+00</td>\n      <td>0.0</td>\n      <td>0.000000</td>\n      <td>-1.0</td>\n      <td>No Match</td>\n    </tr>\n    <tr>\n      <th>3</th>\n      <td>592dtCLAyLQdUallLhJinO</td>\n      <td>Daddy Cool</td>\n      <td>1.0</td>\n      <td>False</td>\n      <td>Solo</td>\n      <td>6.0</td>\n      <td>1.0</td>\n      <td>79.0</td>\n      <td>1995-01-01</td>\n      <td>201307.0</td>\n      <td>...</td>\n      <td>0.0</td>\n      <td>0.000000</td>\n      <td>0.0</td>\n      <td>0.0</td>\n      <td>0.0</td>\n      <td>0.000000e+00</td>\n      <td>0.0</td>\n      <td>0.000000</td>\n      <td>-1.0</td>\n      <td>No Match</td>\n    </tr>\n    <tr>\n      <th>4</th>\n      <td>2hMAApqyXl7nf2s8dQ6BTv</td>\n      <td>Shame, Shame, Shame</td>\n      <td>0.0</td>\n      <td>False</td>\n      <td>Solo</td>\n      <td>15.0</td>\n      <td>1.0</td>\n      <td>79.0</td>\n      <td>1995-01-01</td>\n      <td>231973.0</td>\n      <td>...</td>\n      <td>0.0</td>\n      <td>0.000000</td>\n      <td>0.0</td>\n      <td>0.0</td>\n      <td>0.0</td>\n      <td>0.000000e+00</td>\n      <td>0.0</td>\n      <td>0.000000</td>\n      <td>-1.0</td>\n      <td>No Match</td>\n    </tr>\n    <tr>\n      <th>...</th>\n      <td>...</td>\n      <td>...</td>\n      <td>...</td>\n      <td>...</td>\n      <td>...</td>\n      <td>...</td>\n      <td>...</td>\n      <td>...</td>\n      <td>...</td>\n      <td>...</td>\n      <td>...</td>\n      <td>...</td>\n      <td>...</td>\n      <td>...</td>\n      <td>...</td>\n      <td>...</td>\n      <td>...</td>\n      <td>...</td>\n      <td>...</td>\n      <td>...</td>\n      <td>...</td>\n    </tr>\n    <tr>\n      <th>227752</th>\n      <td>5ke0edZBlwRYu01wdej6xq</td>\n      <td>Let Her In</td>\n      <td>4.0</td>\n      <td>False</td>\n      <td>Solo</td>\n      <td>7.0</td>\n      <td>1.0</td>\n      <td>79.0</td>\n      <td>2019-08-23</td>\n      <td>183600.0</td>\n      <td>...</td>\n      <td>0.0</td>\n      <td>0.000000</td>\n      <td>0.0</td>\n      <td>0.0</td>\n      <td>0.0</td>\n      <td>0.000000e+00</td>\n      <td>0.0</td>\n      <td>0.000000</td>\n      <td>-1.0</td>\n      <td>No Match</td>\n    </tr>\n    <tr>\n      <th>227753</th>\n      <td>12kc7hUJKpArFQurhlNeNW</td>\n      <td>Stop and Think It Over</td>\n      <td>1.0</td>\n      <td>False</td>\n      <td>Solo</td>\n      <td>9.0</td>\n      <td>1.0</td>\n      <td>79.0</td>\n      <td>2019-08-23</td>\n      <td>154413.0</td>\n      <td>...</td>\n      <td>0.0</td>\n      <td>0.000000</td>\n      <td>0.0</td>\n      <td>0.0</td>\n      <td>0.0</td>\n      <td>0.000000e+00</td>\n      <td>0.0</td>\n      <td>0.000000</td>\n      <td>-1.0</td>\n      <td>No Match</td>\n    </tr>\n    <tr>\n      <th>227754</th>\n      <td>0lej8CemYKkWVHg77Xe1ky</td>\n      <td>A Man Holdin' on (To a Woman Lettin’ Go)</td>\n      <td>14.0</td>\n      <td>False</td>\n      <td>Collaboration</td>\n      <td>7.0</td>\n      <td>2.0</td>\n      <td>79.0</td>\n      <td>2019-08-23</td>\n      <td>231898.0</td>\n      <td>...</td>\n      <td>0.0</td>\n      <td>0.000111</td>\n      <td>0.0</td>\n      <td>1.0</td>\n      <td>2.0</td>\n      <td>1.834918e-13</td>\n      <td>2.0</td>\n      <td>0.000039</td>\n      <td>0.0</td>\n      <td>1A 2A 3A 4A</td>\n    </tr>\n    <tr>\n      <th>227755</th>\n      <td>7goArBQdsalqclSyaTywAS</td>\n      <td>Shimmy Shimmy Ya</td>\n      <td>7.0</td>\n      <td>False</td>\n      <td>Solo</td>\n      <td>8.0</td>\n      <td>1.0</td>\n      <td>78.0</td>\n      <td>2019-08-23</td>\n      <td>161200.0</td>\n      <td>...</td>\n      <td>0.0</td>\n      <td>0.000000</td>\n      <td>0.0</td>\n      <td>0.0</td>\n      <td>0.0</td>\n      <td>0.000000e+00</td>\n      <td>0.0</td>\n      <td>0.000000</td>\n      <td>-1.0</td>\n      <td>No Match</td>\n    </tr>\n    <tr>\n      <th>227756</th>\n      <td>6Fh2QgjCxL96dA3Gtpfr4Q</td>\n      <td>One Sweet Day (16-Bit Mariah Carey &amp; Boyz II M...</td>\n      <td>0.0</td>\n      <td>False</td>\n      <td>Solo</td>\n      <td>27.0</td>\n      <td>1.0</td>\n      <td>79.0</td>\n      <td>2019-08-26</td>\n      <td>260910.0</td>\n      <td>...</td>\n      <td>0.0</td>\n      <td>0.000000</td>\n      <td>0.0</td>\n      <td>0.0</td>\n      <td>0.0</td>\n      <td>0.000000e+00</td>\n      <td>0.0</td>\n      <td>0.000000</td>\n      <td>-1.0</td>\n      <td>No Match</td>\n    </tr>\n  </tbody>\n</table>\n<p>911027 rows × 47 columns</p>\n</div>"
     },
     "execution_count": 21,
     "metadata": {},
     "output_type": "execute_result"
    }
   ],
   "source": [
    "data"
   ],
   "metadata": {
    "collapsed": false,
    "pycharm": {
     "name": "#%%\n"
    },
    "ExecuteTime": {
     "end_time": "2024-07-27T13:56:21.814031Z",
     "start_time": "2024-07-27T13:56:21.314031400Z"
    }
   },
   "id": "957444661fee0edc"
  },
  {
   "cell_type": "code",
   "execution_count": 22,
   "outputs": [],
   "source": [
    "art1_list = data[\"artist1_id\"].tolist()\n",
    "art2_list = data[\"artist2_id\"].tolist()"
   ],
   "metadata": {
    "collapsed": false,
    "pycharm": {
     "name": "#%%\n"
    },
    "ExecuteTime": {
     "end_time": "2024-07-27T13:56:21.908051300Z",
     "start_time": "2024-07-27T13:56:21.831030Z"
    }
   },
   "id": "a060a7bfe0f666e0"
  },
  {
   "cell_type": "code",
   "execution_count": 23,
   "outputs": [
    {
     "data": {
      "text/plain": "26701"
     },
     "execution_count": 23,
     "metadata": {},
     "output_type": "execute_result"
    }
   ],
   "source": [
    "artist_set = set(art1_list)\n",
    "artist_set.update(art2_list)\n",
    "len(artist_set)"
   ],
   "metadata": {
    "collapsed": false,
    "pycharm": {
     "name": "#%%\n"
    },
    "ExecuteTime": {
     "end_time": "2024-07-27T13:56:21.933051700Z",
     "start_time": "2024-07-27T13:56:21.905052200Z"
    }
   },
   "id": "2e25f47d9cd14b89"
  },
  {
   "cell_type": "code",
   "execution_count": 24,
   "outputs": [
    {
     "data": {
      "text/plain": "array([0.0000e+00, 1.0000e+00, 2.0000e+00, ..., 2.6698e+04, 2.6699e+04,\n       2.6700e+04])"
     },
     "execution_count": 24,
     "metadata": {},
     "output_type": "execute_result"
    }
   ],
   "source": [
    "import numpy as np\n",
    "\n",
    "numbers = np.linspace(0, len(artist_set)-1, len(artist_set))\n",
    "numbers"
   ],
   "metadata": {
    "collapsed": false,
    "pycharm": {
     "name": "#%%\n"
    },
    "ExecuteTime": {
     "end_time": "2024-07-27T13:56:21.963530200Z",
     "start_time": "2024-07-27T13:56:21.911055Z"
    }
   },
   "id": "d1e4e64c600a4220"
  },
  {
   "cell_type": "code",
   "execution_count": 25,
   "outputs": [
    {
     "data": {
      "text/plain": "{'': 0.0,\n '6MrdwyCIKbpXmTKQBlG3uq': 1.0,\n '7cbSwqc77uUIA5nCqXFVCU': 2.0,\n '3HshwcRyD4zv1KIh9OdwRo': 3.0,\n '6bDR84Gm1ytI1hYPujJHLV': 4.0,\n '64kN9EkSTHYhda2FupL0KI': 5.0,\n '1blfMUdqahbMZzbmbbN2j8': 6.0,\n '7gbbc1jj3M8CgZ0orsQ8vb': 7.0,\n '1mnGpuDM2iN8rF8AtuDKgy': 8.0,\n '3XipPEWLHzVV2ayiUkXELp': 9.0,\n '0znvkjhLYjG4cvBmIusdLM': 10.0,\n '4aY6o55NLN0bA8VatojC5V': 11.0,\n '6nC5teuego1jOBJm4L3U7L': 12.0,\n '5o2jetVpyIsXvWDT27bN4k': 13.0,\n '1QkusyyiLCVP97x3TADKV9': 14.0,\n '6rGvyE5tAUjmvaqiFaiIba': 15.0,\n '0D1he91OdaY1wHyAhD4QbT': 16.0,\n '6SoCOcFRDEQdxPy0B3RmHj': 17.0,\n '7cHnA18Mmutz3mO7IohuFp': 18.0,\n '1QQPw7dqPmlRXBxL6QoX7a': 19.0,\n '0iUTfU4PPnlhOVZQR6AM4B': 20.0,\n '7pGbudDx4Fo83xkhiTE5LB': 21.0,\n '6SXZyMIzYNNfZ3NFQc3vtv': 22.0,\n '1T8S48bD91THNKBByWBDyn': 23.0,\n '5OIOa6EQC3RLyqKauRYfEq': 24.0,\n '4j0qbafzqnGf4ARF8tY4VL': 25.0,\n '4zWKfAyZEfB2OVjH6xiAk9': 26.0,\n '0ZIszjYl5F05RMzqqjmZGD': 27.0,\n '19V58QRItqlQSPRBtteTr9': 28.0,\n '0VexgfKmKnZoZVF1WaupDi': 29.0,\n '6uytw9YDyw5EYRH0JzKysV': 30.0,\n '1J3nCyJ2KtGhh9JuywOrVD': 31.0,\n '6BRKa4mXpQ8m6mI4c149aw': 32.0,\n '3UlRYvVVJK6vw8fRIDd1Oz': 33.0,\n '0XTSrpKEUhzQ5aiYswppxh': 34.0,\n '1rAv1GhTQ2rmG94p9lU3rB': 35.0,\n '4D6ZM4XPTDZtFNLR1RT9qZ': 36.0,\n '1Xylc3o4UrD53lo9CvFvVg': 37.0,\n '3VfZPXJnm6f6sPVQn6zoNz': 38.0,\n '7tLMG3QvwXNHEFSXXFX3ew': 39.0,\n '7hbH1qupmU6HxVBjWJItlq': 40.0,\n '6lGVPyMhPlzYhoNhDooqYD': 41.0,\n '5T0MSzX9RC5NA6gAI6irSn': 42.0,\n '0dlOr0VIysztGWvU1dpjmP': 43.0,\n '3xs0LEzcPXtgNfMNcHzLIP': 44.0,\n '2AEcSFddxmvXT0A7rBwyVL': 45.0,\n '3g4YzG9zXMXivUfh9xASEU': 46.0,\n '2YO51Bi9dQQSAQLKsttTo8': 47.0,\n '5uN9BmZWzjh2YGQVni3m8D': 48.0,\n '44cEDUhrf8SHUvGx5iE6O8': 49.0,\n '40NiKqvkFKd3yPqRl7smFQ': 50.0,\n '7jbqQykxJ43VH0e0E3duGG': 51.0,\n '7hwCBLTDeDsdc0tSeZzCFg': 52.0,\n '1LiTut4zArzeTZLXYXkUXn': 53.0,\n '4bYwbb6k4ujHD2NXRxSwRP': 54.0,\n '1W3FSF1BLpY3hlVIgvenLz': 55.0,\n '5UvGRahK1OytDXGTzdf6hV': 56.0,\n '5CXOHLCaT1T30cBkpBB9CO': 57.0,\n '3GF4UWicWWnUXwlIu2UJ07': 58.0,\n '2eKWdnsx2HFGUIWSzbZeux': 59.0,\n '1T94SgNcfrWDaZMOqlgP8F': 60.0,\n '025WQ5AwPHcsbtfmpP96f7': 61.0,\n '4guK7U9J36z76E1tWecJ0J': 62.0,\n '5xNKJ10wkmeYrJp0gzsr39': 63.0,\n '2gYxwgFrlv0jvphFmL3PT0': 64.0,\n '6c0wu7teD97tf3Xia6V7bU': 65.0,\n '0fbFfVckGKsDbAfYnB5mD1': 66.0,\n '74kyIR6ktOvX1Pu1v66AAj': 67.0,\n '04tkc4IcAn3q0zy1C6oWBI': 68.0,\n '5nLYd9ST4Cnwy6NHaCxbj8': 69.0,\n '6wEfAoMxotDRwUxNUgtfZ8': 70.0,\n '7xZmcoHJy0bJ7owpVU35Pj': 71.0,\n '69XeznHT7ZrjHaG9GND72h': 72.0,\n '25tu0d8Po5c4IVXsZnXUU8': 73.0,\n '5KGZG9ciOyOzIRpvvoOYCE': 74.0,\n '5hslxAsOgmULT3s4ITKlzD': 75.0,\n '03yHgT9AG39a7F2e4Mktor': 76.0,\n '0Kekt6CKSo0m5mivKcoH51': 77.0,\n '5ISgOPcI1bY7Rd28GUWWE8': 78.0,\n '1TYZpmNJCpmN38laFCVkCm': 79.0,\n '1kQHli4oL4h6IZxBu8PHoq': 80.0,\n '5rHuiVrgigcNjYadzCOBDm': 81.0,\n '3MGcsKbm8HAVD4c7IYRWSN': 82.0,\n '4hHOc4tqjHWojHzR57yo0P': 83.0,\n '0jbKVFOtSwJdEOlv9zEwi9': 84.0,\n '58Bw07uuqMzjdX5KpbbP9s': 85.0,\n '3KjYnDT3cEQ8ngiCLTCIl9': 86.0,\n '1pXiPaET5zZBfoFqJeXpni': 87.0,\n '5IqWaBUBZviyaMlZ78ZmtI': 88.0,\n '4yuUCrPRzF6cj54gVAObqJ': 89.0,\n '4OmzTj77F9m60Bnp3aTgqr': 90.0,\n '060UK6CKUQG5bPBtr2xFQn': 91.0,\n '7IF5wj5bXFAVNoLkmBHaZT': 92.0,\n '5a8h7TOLQeinCuHjlRKhcM': 93.0,\n '49IjdVEbQcukWy36sdRMzl': 94.0,\n '29IDT5kAX4348CUui2VF1m': 95.0,\n '2d4DsLfaKstHsimzDw0LyM': 96.0,\n '02IuRNbY9axDb1hlrNwPFR': 97.0,\n '0Y8KmFkKOgJybpVobn1onU': 98.0,\n '3kMMoBYpbDgdN3zvQedA8U': 99.0,\n '0m8AmAlmjQt1L06EZmIP4B': 100.0,\n '15nFl6K5cvpHYwTTxtx2CZ': 101.0,\n '4ZzNfsfOJrl9jsklNxJ9rO': 102.0,\n '52G68YewD5ide0pxukocO0': 103.0,\n '2Q3eZMfDQgT8MhPowKFXYO': 104.0,\n '2KQRztb9Ct88oOnd1ZqTUU': 105.0,\n '2jhEnGWYYHQwcirtmoaK8z': 106.0,\n '2RUj1o0ezI4tOxyEgPWaxK': 107.0,\n '5iXcx8rhXf87inj53eArI8': 108.0,\n '0tNQFpTjfvvsFbpNPpOARn': 109.0,\n '6Zcgbr6Wvww1BCG370yaxO': 110.0,\n '2a1HXh74s9uD9nRIeefzx1': 111.0,\n '1xonshp7O4b7x4ufSkZIDS': 112.0,\n '4TkCMPznXOjlsYLfzIU1rw': 113.0,\n '7kEAIrSpOHG1YwP8uKiUsN': 114.0,\n '2bstgVKcRgEruSkPVTeE6q': 115.0,\n '5FlTKgucbhHvlJVf0pnvOv': 116.0,\n '50jVkDYY5dfr6Dta5PUllQ': 117.0,\n '0rXI0q8Cahq6numvPlloaq': 118.0,\n '0oBmuqEOxkAIoCYgquDaqP': 119.0,\n '7e74XUwVxyLITfMrPps6bv': 120.0,\n '1z1nZOj7qQWhNjWKr5ipqh': 121.0,\n '2P7pJGov3DPjX7tQbpfvLX': 122.0,\n '5xDGLOoQLVRqKkkDrSUph0': 123.0,\n '1SLUSG19BtbUxxaxLaf2CP': 124.0,\n '79DEN9SNxwRSpNmzZV8HJb': 125.0,\n '5hZ48LGaj6Z7tdpUdgEFcz': 126.0,\n '2iihIjipKKOFSJfxrn3gcE': 127.0,\n '7glzLrtGtpBnbIjniBf0jg': 128.0,\n '241PFWrtYAuhXVZyXeW4NP': 129.0,\n '1wqSW2kjqDZ1s5PPVciefR': 130.0,\n '4GTxpeMWEksd7Gu0jedUVZ': 131.0,\n '0VDruJIp4XAwBf2V3Zwubh': 132.0,\n '0IgLirgKCxQb13uM8FuQpR': 133.0,\n '1tvkoVuxImzIYWQwgeGUBp': 134.0,\n '2hv0L18ihMvjk0dPrWM1WR': 135.0,\n '2SRHYmek3VyNyI2vIScw6R': 136.0,\n '7sWGr41m6WrSzbM2qMXfUB': 137.0,\n '3s0krB7kVIw0i6eozqdQus': 138.0,\n '5WimOFbBnCU5wI6t5PPpEk': 139.0,\n '1s2DqKGaElgMSZsQlH8qRD': 140.0,\n '2ePkVjTAkknHCLcCSYx8A9': 141.0,\n '65SVoDN5Z3ZX5Pkh327fNs': 142.0,\n '6qyi8X6MdP1lu6B1K6yh3h': 143.0,\n '62lsKqYSh1yBuxOMzWzdHe': 144.0,\n '3lrzGes02i9qDKkwrKKSfb': 145.0,\n '7o2VSVMRz5PtOIwU9NTWQq': 146.0,\n '0nAYZn357xMuhaIrsW5mMC': 147.0,\n '09e1aib7HBYGg3XBOVhVsN': 148.0,\n '4owT4Ud3htkIMeOQl8pUhW': 149.0,\n '5y33n0jHHwrXDUfYaAY0Cx': 150.0,\n '4m5AiTlgcHYAeFnLWEIZeG': 151.0,\n '4zKhX6hYCQPNs406umP9Fx': 152.0,\n '3BqaUtuQmqIHg7B5Bc7fP7': 153.0,\n '0DbVzCVBH0EdpXc7Jki7kL': 154.0,\n '5hv4sY6fRzNPv7T1doLUxZ': 155.0,\n '6eVCRmRG2HcfL4yx77A9WK': 156.0,\n '0BRwcry4Dp2lB9kaMDay5m': 157.0,\n '5abSRg0xN1NV3gLbuvX24M': 158.0,\n '7nPKXL3VRokWPSYHtsDD5i': 159.0,\n '3sIKuXYG6EgJuBQTtJqoWe': 160.0,\n '02B3Os1lCLuWR6klPJiQpW': 161.0,\n '190nhOwQKuDEOv7YKOgnzq': 162.0,\n '1JmNJwBZf3V1EmgGUVSNRX': 163.0,\n '7d7kRsFPhBUVhDOVeAjNgN': 164.0,\n '55m8tC45evM660jMb1GfoW': 165.0,\n '0ZXhQKlBbscBjyER1KqUf6': 166.0,\n '3Xr9mJLTpZOcV3f9oSvR78': 167.0,\n '4PrX6VfBxN0C8wYlYwiTQt': 168.0,\n '70iKiQCln4Rswe0ZLZoEqJ': 169.0,\n '38EmEgXkgK51MT2tPY0EoC': 170.0,\n '6BVjnrhoq9PZDHIkjRaV3M': 171.0,\n '13y0kncDD4J9wxCyfKr10W': 172.0,\n '301UTFSXGPzIFDIjipNKtU': 173.0,\n '1NMEENgZWApx6qIk0WjzoQ': 174.0,\n '43U3RzluU5EVvLs2JVIt3i': 175.0,\n '6TTwA8XezEVdfCQtElTRW2': 176.0,\n '3Mcii5XWf6E0lrY3Uky4cA': 177.0,\n '14qt7Hc69h5ULibcivpb1h': 178.0,\n '5TbXjzD8tYgMD5JU2g2F8q': 179.0,\n '1rXhjibRAqFFGSUCYeQCSW': 180.0,\n '6p9q2PEuRNRMIXy0mxtDaf': 181.0,\n '3pNHw22ZQoPPFAc4vyURU9': 182.0,\n '7twNB7T3Jszx4WIQIbwM7p': 183.0,\n '3TZlqrpMAxc0nR7jKggeyh': 184.0,\n '2tFpu4pIUtqlh9QIfvrgxy': 185.0,\n '4V4Z3qMCwYofWHtip6ePF6': 186.0,\n '6nzxy2wXs6tLgzEtqOkEi2': 187.0,\n '1ZikppG9dPedbIgMfnfx8k': 188.0,\n '1uodYnEBYYgZsExzoMeiGl': 189.0,\n '6ohvzFHYmLd05kyYhLui5K': 190.0,\n '1NSJBLiXNS2J0pcBnRfE6a': 191.0,\n '3scJyMoQGOjHJ8afVOdCyX': 192.0,\n '6OOyv8pNWEhHNPqnIZsHHw': 193.0,\n '6w0JXd2nT27GXVTbsuQ2II': 194.0,\n '6mLMcMcnly2xV9U20oephB': 195.0,\n '06Qf6vq8AVIpE9XIw8LAsY': 196.0,\n '7MPgYFvoeqlnQ8S50tMTUl': 197.0,\n '7zfhej6FnVXN9LIXs6dcoK': 198.0,\n '3NkotZNvORsST3JcF568vO': 199.0,\n '5IDqJro387wT83pKwZaOM4': 200.0,\n '6FjFSDCzBRTcJzymqzfaJS': 201.0,\n '55Aa2cqylxrFIXC767Z865': 202.0,\n '3bnf5pPVQFWv762IiavilV': 203.0,\n '5XeDmt0B3iDEHhLft6kr8a': 204.0,\n '7csps3rrXHbv6Xnom2Ntjl': 205.0,\n '1YFLNH4rO40x9i16RpLwdY': 206.0,\n '654RrXNeoj6BqQVZBDVm09': 207.0,\n '3QpJtjdcw4jiQpic9R4Mr0': 208.0,\n '5uDbnaRyw7L5P81b4RiCaV': 209.0,\n '58HzAgdEVbmw67HPpsPQBt': 210.0,\n '5AKbRbl8yZ4zvQdxQwMg9o': 211.0,\n '4vQV1LCGBdYAt5rIIPjSFZ': 212.0,\n '5jm3x1qIibWdKSEMw2G011': 213.0,\n '6cMBAd7j8KLD9TnjfwQ91E': 214.0,\n '21q45xu51WtV5Td6ZBJHiB': 215.0,\n '3fdTyhMVXu3X3zErrj0sNm': 216.0,\n '5G6M0zMrYh1mOMVzp7E0OW': 217.0,\n '1nf0nRF0W4ybnJdda00pKY': 218.0,\n '2qvfcbHzXrZbWmZ6httFa5': 219.0,\n '5j06Ad51bpKdy2rRfM2HIg': 220.0,\n '5axa2hbZnvT5TP2IFLXoit': 221.0,\n '7m5FwndSbCRd5vJvgviUCA': 222.0,\n '0jgAONnsHxrwAlhkMUVS78': 223.0,\n '1054JdBVMCPm9VpvkUcOYX': 224.0,\n '2vmTJisPQCD5ThbxbFehAB': 225.0,\n '3M5aUsJmembbwKbUx434lS': 226.0,\n '4cHEEXbQnW1D475rdMsyth': 227.0,\n '0mnlHIcYkz3TQQ07xiFwuz': 228.0,\n '1cSOnM3UtoYM4GA9sbwCN8': 229.0,\n '634n2o28cVdR45nvwibcaP': 230.0,\n '4ndt8TW7IvdI3SPh0LBMHO': 231.0,\n '6fE9b0HnXe6qDSlVBakwHk': 232.0,\n '7rETVFaF9VOFPmmzsY3kO6': 233.0,\n '2L0I8bKbBR9vMrVOzv7NtC': 234.0,\n '4f2K0RSYyxP4TUyZu1azYB': 235.0,\n '119opyy80eY0fCemuyxg7v': 236.0,\n '4x0EcUYpeDMvgCgtNhgwSl': 237.0,\n '3LeBpVnx1rrzJ7iMWEs6mu': 238.0,\n '5AUpDp4yxURZjwzl1aOVyX': 239.0,\n '7Icop9Su0f3FF0NY4KKv0U': 240.0,\n '29Lzfv3vvfmjJGzllIeeP6': 241.0,\n '0yQosVg3rwqj4yD7BHiTjF': 242.0,\n '082nWIsplv3DR4RNCMR6wJ': 243.0,\n '2YHpVY68IWHXh4vUeC8gJb': 244.0,\n '1gAWIPbi9Z5Qla2T6H7jHp': 245.0,\n '3iu4HbupZLRm1ZUuiGDJTA': 246.0,\n '0LR8HDKAOHhaMZWnW3IGMg': 247.0,\n '2v0IHKCvwp7yq0ZpwNmtdA': 248.0,\n '2K1nBBwGQh603lZJlHMhl3': 249.0,\n '70paW48PtCtUjtndElrjrL': 250.0,\n '40enFxfEXXsEXKOt1vgx0k': 251.0,\n '3gtaVMrNBTAFtlzYTeHNua': 252.0,\n '3m7Ej9zfNto7JOsjKsYhEr': 253.0,\n '3mp5zzEz1qTq7X5a2yOS2B': 254.0,\n '2iul6etLF5hjjpxo43rzz7': 255.0,\n '77zwstbi3x1IxnbDFg6uns': 256.0,\n '7m6jpo2SfoIToSZuEhRmkR': 257.0,\n '3ppZNqihWOzuH4A0f4KmeP': 258.0,\n '2l6mY4VmNc4dImbNilgd5O': 259.0,\n '6F0ZVOJymgjutBNRws94qa': 260.0,\n '4vO1cl2ndGrUPSl6IYTHs6': 261.0,\n '2cKVADiSeLpHpIYYaQ6u1q': 262.0,\n '4Bj9FwLkEXYhZRgskLhvDX': 263.0,\n '06GgAG3N8XU1X67mHIBLZs': 264.0,\n '0fpFE1iGej6IHMC42N75fp': 265.0,\n '5Rl15oVamLq7FbSb0NNBNy': 266.0,\n '3BEOyfMhMpPU0OLhbj39x1': 267.0,\n '4ZjFFy2brYzBcYNAPwhW6W': 268.0,\n '4BoRxUdrcgbbq1rxJvvhg9': 269.0,\n '0n4WjsBgflrJkyitq3eQhx': 270.0,\n '2YWOP324cKGfkTo2PydgJR': 271.0,\n '3Dd6jD1AApgtNoU6SJWR7P': 272.0,\n '2Hn9fch2OLB5jZuEAVjTCe': 273.0,\n '0rlS0SzVFk8BoiAW0fGBbN': 274.0,\n '6PyGlGbMoNqkofF14K4BWb': 275.0,\n '1SGyiSo7lCGGeKP8lbDvBa': 276.0,\n '43PF8r06ONOao66hqEljCK': 277.0,\n '0iEMTzNLMCKQqcwQJRN1S8': 278.0,\n '2OD2C6sEY9YvGfGl2I253z': 279.0,\n '4uZ21B6WfXaKVKizc79gUK': 280.0,\n '62MmQzKk1o00qu8ttVLnrn': 281.0,\n '2ZAULNPxCawqEBz4fjHr9i': 282.0,\n '4lDckMDwPyxgRDbFCVV76a': 283.0,\n '3HjosY5lEruH7CLA2AZqbR': 284.0,\n '1Iam5LDLDk637yJsGlznSM': 285.0,\n '339DNkQkuhHKEcHw6oK8f0': 286.0,\n '0XNa1vTidXlvJ2gHSsRi4A': 287.0,\n '0wT366LietDw6UtPwaWj8J': 288.0,\n '7tU1VKOuxiNZwBZC6RHidA': 289.0,\n '1MiJzRnSy6dq3eCrXzPxYs': 290.0,\n '5rX1EodZfwxmW4fQX2Caot': 291.0,\n '476uzlUcnZvqhvm7j7JWxT': 292.0,\n '4UgALDG4GRHdhuPdDbDQlX': 293.0,\n '6NhzcFZYlZxzYzCtmZUtZD': 294.0,\n '55UOywvWbUD9c6C3NSGdft': 295.0,\n '4iSKnRZAxkmqNok6tv10Se': 296.0,\n '7i8P8cKNdIFuoV0iiBkObT': 297.0,\n '39B7ChWwrWDs7zXlsu3MoP': 298.0,\n '39JPkNKbtKPwj6OR9jRlKv': 299.0,\n '7vtnVU0zOWlN9R4OOz0IjC': 300.0,\n '5eprmPyM92CrWnnE1P840z': 301.0,\n '2ODUxmFxJSyvGiimNhMHbO': 302.0,\n '1cK2Abwkni7m51wJCSGllN': 303.0,\n '5zp7Be18lWzuYWPXgWodD5': 304.0,\n '0DdF4n9hzGsLAEv3rSeaZY': 305.0,\n '5BMPKmBnRjRe5YSV6ITTny': 306.0,\n '0mkcYaXUbJUs5mJointuzB': 307.0,\n '00fUxTsDQ3TMlro9Abk6bG': 308.0,\n '1yHQHPrgaF1Oe8LuYgBW8a': 309.0,\n '34ABXKUj0gzq7R8vXjCaNj': 310.0,\n '4AXHSUtE5n3OiGTMt97ANp': 311.0,\n '2qpHckGLV7S5Nb4RsXPFPQ': 312.0,\n '3CDoRporvSjdzTrm99a3gi': 313.0,\n '2s5enJCtVBAAdWD94jOIbM': 314.0,\n '76ga603L6luDjwvGbR4A31': 315.0,\n '6kL5fZWO0o8eFqarCgU5sj': 316.0,\n '63c0FRsajZwEy8FsPulOAn': 317.0,\n '4JvsObHNqjAQTQWtJb0nkb': 318.0,\n '389zc5Rwe0MPcE6mSF4AjC': 319.0,\n '2YnLFPO2UltM1Zh10LBRzX': 320.0,\n '2h93pZq0e7k5yf4dywlkpM': 321.0,\n '2n6FviARgtjjimZXu18uRM': 322.0,\n '2KMQz6s6MNRr4bxI8EQdRk': 323.0,\n '5TpwuTiFW29NJs5cUYJamI': 324.0,\n '4eTuRATti10pnTOaMaOTsM': 325.0,\n '0l7v3E8YARIiMNL9KQeDkh': 326.0,\n '7oTfXXK5LjAhIfszzayXnj': 327.0,\n '15GOhtJel5HFFGil7ROwip': 328.0,\n '6kUfkNyDFX4tqzUwXp4FTL': 329.0,\n '0dyEUZv8ftA0dzL5vb2Y9s': 330.0,\n '5wfTNhhtnBtRwfoqZnHonC': 331.0,\n '3jtRxgb6dpdVIjokIhmEsR': 332.0,\n '2bTm4w6dMoGgSV5Ifzqqvp': 333.0,\n '5tdREfm2GmDhCuzoDGLnbL': 334.0,\n '0adetEU8Vg0fU96nkB9Zel': 335.0,\n '2GccUKuFtldkjtifBXJ4hI': 336.0,\n '1agKtcvmUkDRgNPkLL789W': 337.0,\n '1FDHhQrxn7ZP9vYaI8gGqw': 338.0,\n '0BUoOD54g5KgBOYh3clTAC': 339.0,\n '4DDYOiPkxRzMVoysb1G0gc': 340.0,\n '38vfzvLcy3BVAPGUo5F3SF': 341.0,\n '7oOKt7UHz1pyKEsSJnjgoS': 342.0,\n '5WYRbAjIJVtQ2yTEYPFOiy': 343.0,\n '1Y8cdNmUJH7yBTd9yOvr5i': 344.0,\n '6JKOWVcJkXyYwQAEuAW0rb': 345.0,\n '1PY5XmZsuZ1GDIua4byGZb': 346.0,\n '2uaeNCggZTZj0JlTImgXXe': 347.0,\n '3bkVz70Wb5WN0PKbT70o7R': 348.0,\n '5T8zbK3dic52T9bFu0aY8z': 349.0,\n '0hDQReBcoxndxlZTsATjnS': 350.0,\n '2kGBy2WHvF0VdZyqiVCkDT': 351.0,\n '1wZtkThiXbVNtj6hee6dz9': 352.0,\n '4bkMJI189xY4mvKj6xhhBJ': 353.0,\n '3VQfHuqrRK1CNXR1V8PeR9': 354.0,\n '5sC0HztwOyVyVZwhnGyHqJ': 355.0,\n '05Js1jvBmNFq2vvkVk67EG': 356.0,\n '72vf4lKYLrxfpLtEh8ydfP': 357.0,\n '4y0Gt9UnR7E6Lw4aQgMzU4': 358.0,\n '3Qp2G2TH91oHmMlUTmiVNz': 359.0,\n '6mY93oNfUaUwZq67yn3R8k': 360.0,\n '0klUCga3Q03gyTxSNb3pTV': 361.0,\n '68PsxdwOmePEmaNZJgKBU3': 362.0,\n '3FdLhnmXynPvZkbILPpB6d': 363.0,\n '5UUHefXYUqgqmROQvDmJLL': 364.0,\n '3w7UCBGaPSXuEtUKuoO8tW': 365.0,\n '7Kfrmups2Z3ncDQmNS5jRc': 366.0,\n '4dDaO9ddXBL5vsAul73nWY': 367.0,\n '0hItVPjwJLVZrFqOyIsxPf': 368.0,\n '219Tc1qXS8ApMAj76mHgI7': 369.0,\n '7F81JPQLsqvdd5ECmYbuC4': 370.0,\n '1kFtnXoymZXUQv5K7T6GSN': 371.0,\n '2m6fJ5JlKe8ERWQC7Rmkt0': 372.0,\n '5jt2A8SEtoctnZD2865lyx': 373.0,\n '5CxwOBCoGSvWxfDgNoa1Nv': 374.0,\n '3De6svqAPGsgF8i0jQN7bE': 375.0,\n '4v31ZbEICHeUehSZdcc4ga': 376.0,\n '6czk54Jx7SrHDjDQxO0061': 377.0,\n '1gSSKStSBrNqjZOU6ra7Uc': 378.0,\n '04L4Y7Hkc1fULKhFbTnSSs': 379.0,\n '2Gr5wUPlqtJNMR9i6UeaC9': 380.0,\n '1SX44N5qjWuFcCK8WTO0c6': 381.0,\n '44PA0rCQXikgOWbfY7Fq7m': 382.0,\n '23l24ONKq0y3feuY9qXOmz': 383.0,\n '5vvda7VnHIrqqRcVy1r4fJ': 384.0,\n '4ZqBwBVB3dsYWL3d5Spi10': 385.0,\n '2BO6T905PbUqKEQ44kAtTq': 386.0,\n '69P8rTMaeI8movzazIQ0fe': 387.0,\n '7M4Mb6ruvn3SuMNWcmfQZv': 388.0,\n '5Ragd6lP6S0zIITdyIwuYK': 389.0,\n '0fs8oBR1rx7JIXZi75h7Uu': 390.0,\n '2eRG04xbRiI1AzY8uTCySk': 391.0,\n '0qTIfDL2vBOOVyyAqwXxWJ': 392.0,\n '10GT4yz8c6xjjnPGtGPI1l': 393.0,\n '2EUQTenp4Fa9HaHgsTZzkU': 394.0,\n '2Z2qWFrZc4fFy4omFh0RWo': 395.0,\n '6TFCFTLwg5SCCayYjI8huP': 396.0,\n '2xMPv7r6uppYaOJBXoMIXs': 397.0,\n '2Ek3hrrEKZBY94sGphNtlJ': 398.0,\n '6c8INA1EQQe9TkukfEdiCA': 399.0,\n '5DmFCiUdXBxF6MeWmGCT7t': 400.0,\n '7kSG6Dyyvf4MM8qWWrgKJq': 401.0,\n '0gyjRuHM8LIa8zO8TkVuNh': 402.0,\n '0vYkHhJ48Bs3jWcvZXvOrP': 403.0,\n '2TI7qyDE0QfyOlnbtfDo7L': 404.0,\n '2vGebJddBYDemTsNV50mXZ': 405.0,\n '1gRr6moof50L1b7XsbClvI': 406.0,\n '3HDfNAh4MpiptvaJP9We0w': 407.0,\n '4EiWsdUhWyUcxXo2ixk0Bz': 408.0,\n '0gadJ2b9A4SKsB1RFkBb66': 409.0,\n '7cuPNQHMMKo7IIh2n08FWf': 410.0,\n '7jerD1mbWgyDukHAmCvdCj': 411.0,\n '1YEhMgb0C8szwb8qnGLclG': 412.0,\n '0PDZ71l2QZEBswjM8KKKiv': 413.0,\n '28KBKN6B7QmlaVWvrj567U': 414.0,\n '5czKNVpTkMBV8d8UGF5nGF': 415.0,\n '3Ckyq2OSMjyWtEzGAe4tC2': 416.0,\n '4VwTk6OnuwshfqQlxOv7Xy': 417.0,\n '11VRTR3lSXmFs5YZfmNOl7': 418.0,\n '7ak6sIofeztXbPV1twG0sY': 419.0,\n '3NdOtTPPaXrCyC7Lpmzyhv': 420.0,\n '5LyVVU8FnF0T2OqKIB8ZDX': 421.0,\n '2VbrivHnDf4Z43xPTgqvym': 422.0,\n '62dH3ozo0K5JJzS5XHq9Uj': 423.0,\n '7LKiOayEPnw6K5sRAi4ROM': 424.0,\n '6Ywcz8P1uRTbaIFBJkpbRz': 425.0,\n '7mAchFsJgTqnWrvsf2S0Tn': 426.0,\n '2LFjuhBNbYU0ubhL9dSolo': 427.0,\n '1bvReCm3S1egf4ikOggDM4': 428.0,\n '2Omy3P5hFZym7FKum1JA1s': 429.0,\n '3CDKmzJu6uwEGnPLLZffpD': 430.0,\n '6ILZiibTn5sC7DaIGPw9F0': 431.0,\n '5PhJtoMKzue4qLTV230HC5': 432.0,\n '7FjorX6W0bJFJ1vy6qqft0': 433.0,\n '4EAvFr7eDtj3eaNbrRI5cP': 434.0,\n '0j8QSBQZ9MNSGjHr1Vll1R': 435.0,\n '17YyfTp8CHqN0qxrR4c6XF': 436.0,\n '4QpVDYaqZZyU9NxaDnyEju': 437.0,\n '3oy1W7ABVgiLrBzkONIKBs': 438.0,\n '2IV1FxBfeHhF5qyFWrlYLk': 439.0,\n '3OMd4I5GX8Hz51SLS0C2Fm': 440.0,\n '2c7fwqcIzkEGpHgXNyQ9pX': 441.0,\n '5H1k1c7eEtizy0436GBRpP': 442.0,\n '5mVWu2Ofpm2mlEpuMm3b4Q': 443.0,\n '69PaeB7dSqWTGKsZ4j8e0J': 444.0,\n '1nRNvmTyMNGEgtEk7wU9CI': 445.0,\n '0dbPDXnow29YgPHz7JQjiT': 446.0,\n '1nwOAIlEn6W5ZtwLyDE9kv': 447.0,\n '7LMar0WAyjuaMlYUGh9HBb': 448.0,\n '6fTfntWe8kOKUGBRk0RCpJ': 449.0,\n '1f5QPXLfjlzlG77lCkdl0W': 450.0,\n '2EeJCSTgSSE1rSRxzIp3mU': 451.0,\n '70tMW5bZT3TJUa1CWtfVkq': 452.0,\n '3dlwGPn6qzdelbrsWCuhyp': 453.0,\n '28yx4Aq8882xd1AivwMZLB': 454.0,\n '0Suv0tRrNrUlRzAy8aXjma': 455.0,\n '6NTiulLRInlx6YsTUI5Jef': 456.0,\n '4rsWWoHmsOSliaXhnsoRnq': 457.0,\n '62ZZU19LSSyMX7HQUGQgqc': 458.0,\n '7eH0XsoAglk2PnfM9wBepF': 459.0,\n '04wcvutO63WXxkQtmuQKkh': 460.0,\n '79FMDwzZQxHgSkIYBl3ODU': 461.0,\n '4GcBbZ5wVhNABLzm4MpJqG': 462.0,\n '6B16XZWuJ9VERn7pXxCIda': 463.0,\n '4qM80Gafei0VWQrwqwtkei': 464.0,\n '7Hx6mfiMToA6euqEKBIdwi': 465.0,\n '2cGPikFsmZhnWU7i56Ud4H': 466.0,\n '1p2MpTEg7pUxdZQeUeUf9Z': 467.0,\n '1jXRYAZjergBNpKDFecOip': 468.0,\n '1GeaYVIXCzBwEbjAvv0NYn': 469.0,\n '4AapPt7H6bGH4i7chTulpI': 470.0,\n '465foFen0puVay6xVUsFwE': 471.0,\n '4kfbLnupa4rLfVD5Wav9GO': 472.0,\n '1Ukd2DtqpLxxy0q8yV7dfy': 473.0,\n '38zoCuCSXrOFkynvaP1jLq': 474.0,\n '0kUqzMIpOsbUua6HIQiL1v': 475.0,\n '4gIRkExQ9L5kAPKiqYJk4R': 476.0,\n '4XVecwrwCbceRnYpgjTWyt': 477.0,\n '0Edj2HImgqDSa5T3z5V3Me': 478.0,\n '4Zc0V2NdcNboCdWc5q3igy': 479.0,\n '6Yix1N5H02xNFt7PS9kGv6': 480.0,\n '3YWSmoTEG3HokPwvvXMeRh': 481.0,\n '4ghjRm4M2vChDfTUycx0Ce': 482.0,\n '4fJwywYikA6KHmLY3fOi6E': 483.0,\n '5MqOFHhpR5B7hkaEqgJoj0': 484.0,\n '2Kx7MNY7cI1ENniW7vT30N': 485.0,\n '1R4jDezcLcFxrJ9PHNrbG0': 486.0,\n '45AiWgNgw6D7uwjrXOEpFd': 487.0,\n '5faOSlJ15ioQoN57doIe4m': 488.0,\n '46nsDU62ECWeLL9FYTr5kx': 489.0,\n '1G073MxUzLepOSynFICFop': 490.0,\n '1WJA4QETB9AzK0odv98Tzw': 491.0,\n '5daR60sYDHvVKlZCdpqTcd': 492.0,\n '5t2P9w0qT2I9y0DrNhykSj': 493.0,\n '1XgVoPT2Va5L64LFzskVBW': 494.0,\n '79JJCxCCfJ8HufX6w8q2k4': 495.0,\n '73jlPRxT7z5xk29sMqFDjU': 496.0,\n '1ZFxg7notiKXD2aD9ll9MP': 497.0,\n '0P6soo9LS5O854DcUpEtSc': 498.0,\n '5v9KaR1TcyKZ9AlhSbWaGY': 499.0,\n '6ZxsnFWL5S05heyvYRMLX9': 500.0,\n '5KahLAFrNsMCeR43vpFLn3': 501.0,\n '1smK1uTRxsngCfLECjD8w1': 502.0,\n '7BfVtwOGofJ7r3I8GIBuGf': 503.0,\n '4Zhz75xvjhiFhpF4Ym7SAQ': 504.0,\n '28j8lBWDdDSHSSt5oPlsX2': 505.0,\n '2mD0Bk63phtO4MNSmEGcQP': 506.0,\n '0tIbSBoDPinRsQebMNUrLJ': 507.0,\n '53RaPTbZOx2mBoZD6LLWIv': 508.0,\n '335W5ETKz4EAVHcHTA827K': 509.0,\n '3qkI7izTaWjCsJlPMcCerv': 510.0,\n '70Os9JWahNiD6PHPi85v0g': 511.0,\n '2HCiXgzPYTM3Upjmm5ER5p': 512.0,\n '2Z3Uo8oHHZSu7zb67PjDy9': 513.0,\n '4gqk2XolHl8dyRAsfvEQ8w': 514.0,\n '509o7Fm0youPHjgcq5nCRI': 515.0,\n '2EIY6vKKsiJ7sa10T2chS1': 516.0,\n '3hJvqu23V27z6orfSOKDSc': 517.0,\n '0Gs8J7WSJnMCduqUT8EtyR': 518.0,\n '4YUa2ZjtUsc9rITXblPpOr': 519.0,\n '0eGh2jSWPBX5GuqIHoZJZG': 520.0,\n '5hxcvVjXP7D5B64YxX0Qs4': 521.0,\n '7oHzn7edwmrYClrPRINkbn': 522.0,\n '13F9LNBUeRx3FYLr96Bge1': 523.0,\n '1TRFAJu3Cw64APToZaGk9D': 524.0,\n '3Q4xYZ2ZuFaAsZZyjPIfc8': 525.0,\n '48c3EdQXeCnpN9bLyRKNOS': 526.0,\n '0RKP52f5PNDCRZ9Luq2Sr7': 527.0,\n '66MvLAvLznk5UOvASVGjk4': 528.0,\n '6h22xfACMI6TohVM8s7iUT': 529.0,\n '4PnOSz9XxpR498IQbirXrD': 530.0,\n '2ulPrnxdak6My89ohPtDvh': 531.0,\n '4VnomLtKTm9Ahe1tZfmZju': 532.0,\n '55BFQS36sJYz2B0ClypIvS': 533.0,\n '5UjqeSp9dX6Nrge7WdDukr': 534.0,\n '7wNyYGZXOFBuDfealCcCnP': 535.0,\n '1Gsxz7ZlyorzW5vfPhVw5y': 536.0,\n '4jMETVDvsDX28USk7yYrRX': 537.0,\n '24BPgqZQVZlbduy3mHRUug': 538.0,\n '08iLmB6u7Aeq3u7BebXlHV': 539.0,\n '3GrFVrubbJPJvKGKx71ubC': 540.0,\n '0JxChc2w5fwTGbXKfc4cRd': 541.0,\n '6prESDxZHvHyqqYsHSn0FE': 542.0,\n '1cZQSpDsxgKIX2yW5OR9Ot': 543.0,\n '2FAhMlgcnpCOebRGaLJlhw': 544.0,\n '41Is0cdKfsGUK6m3r1Sqic': 545.0,\n '6md7YwX4A4IT5Qp1CmtsBO': 546.0,\n '07r7OPIALkj6Icaoj4Kf5l': 547.0,\n '4msToDzSn7h1biwApT1MWk': 548.0,\n '3HibTlfIIVPVmqZzxBG0em': 549.0,\n '4xUyOTQDOUdpHD1KAGBCks': 550.0,\n '161mym5juYaMTRpbcVqmFf': 551.0,\n '682tnkkl1ooK3HJveiTveK': 552.0,\n '0zvjccHXhIm7VDD46VPFAG': 553.0,\n '6oUWm82IRnDedDipHEbOIc': 554.0,\n '0pNQAy0WBOswRdQ46zluZj': 555.0,\n '0aToU8MeN3KzC4nsEp5Jor': 556.0,\n '0OpWIlokQeE7BNQMhuu2Nx': 557.0,\n '2GfkzFyAzWIoUYzP7Oi7KE': 558.0,\n '5Ne8hQEmy0eZu9hlE3j58B': 559.0,\n '6j1mNIIhInjB8jf28UMVuq': 560.0,\n '3EGjCFB0QWTxgDDicucBtX': 561.0,\n '4KS0mC3nKHbShurYfUU1jE': 562.0,\n '5Qq1U8ENGMyGBcqCzm9971': 563.0,\n '3nxaRZSMri48cM7I5TOYj4': 564.0,\n '4IbUh4NYfeJ6NVVeyKK8ie': 565.0,\n '1ZMXTE78Tk77kWyDzNnaIF': 566.0,\n '0sKY9AcBdiGx4FbFbQsXoX': 567.0,\n '2ep7CkUfzKZqBwlTz8graH': 568.0,\n '29x5N2hPgrV7P2xcBFkWiO': 569.0,\n '7whckrkkTMEuvqfaNfMs7S': 570.0,\n '6VDMHr6GkM19wca61JKSd4': 571.0,\n '51AzzigBmgZYB6aIhU4qoq': 572.0,\n '5eKA7jngHobjPeCIa0A5sT': 573.0,\n '6pXCjxMOBcWtvULYkFPVW6': 574.0,\n '3D6cosC5ZOLCpRxt6T3XS7': 575.0,\n '2toYcn0T5eiLpDDcPon7ad': 576.0,\n '2boZnIho0YtQ8D8pdTUtZW': 577.0,\n '6XV6ZZQ4UhNXTi6fxOM8tK': 578.0,\n '0uyaY0tejAqe1ghCsnmBPx': 579.0,\n '4ZKhLxIZNL611l39Yycq2G': 580.0,\n '3pl3wUZs0gzJ0QBmn0smMf': 581.0,\n '5rPyL3Rs28YO205I0bUzM9': 582.0,\n '6XdFnK2oSsEBN9gEgwu77X': 583.0,\n '7Jmod60ZpPG0tckhY0Ls0p': 584.0,\n '04BtdVP4XoVWrTicaDoLIo': 585.0,\n '7mnsuQcGuJgA7scSNEc3cc': 586.0,\n '4mHngi71hWNKTRuyl3W9FY': 587.0,\n '3tMU1lEnU1nNvSlLhU4qBi': 588.0,\n '0VVp8PU2yRx9EiIFBtHt72': 589.0,\n '29CAHOhmn3OE8RzPBcIJIB': 590.0,\n '26KSPCQx8cbf89mTaoL3u7': 591.0,\n '6AlsoFwvb5dJJTHVXVGWFK': 592.0,\n '1PlMwUWyWobenj3SHUzRdS': 593.0,\n '0mOvsKSG9z0W7C5InpxjMw': 594.0,\n '72TupfdQYKYCng0SW2bgKo': 595.0,\n '6eBYLQONaYZhZNAVK061t6': 596.0,\n '16ETFdTBH51GELRDSMYT57': 597.0,\n '7nZUE95gWXSFBvLTIOFlvK': 598.0,\n '05OHCWoZE1eERwTpeCW4xZ': 599.0,\n '7hOYYQC7BXAKzZAO8omlAP': 600.0,\n '4rH3aOluAEIpku847SXUdw': 601.0,\n '18jZvCsW1PJ4FDQ5gEXuKp': 602.0,\n '6TZ2wh96zyglY6XqqhcdW6': 603.0,\n '1SmIG4w539r7CfyG1mVZ6x': 604.0,\n '7iFUYe1KDzmMGlvCSbL6nw': 605.0,\n '5HenzRvMtSrgtvU16XAoby': 606.0,\n '2lIolwYl3abCtIevunORxm': 607.0,\n '33PtzSjT25Ve4MwKu3xNff': 608.0,\n '1OV5mEATxtVma7fleFaUyl': 609.0,\n '0LJtNXKYIoV35qOsBr081b': 610.0,\n '47odibUtrN3lnWx0p0pk2P': 611.0,\n '3MZqcyN7psmcP2oWXyjD12': 612.0,\n '2kmr7mFyj91r81jK0GH4L6': 613.0,\n '4uW2xqLUP3ikrRwNqjA933': 614.0,\n '1EJY1WcqU1y3P5GKl1VqzE': 615.0,\n '23NIwARd4vPbxt3wwNnJ6k': 616.0,\n '1iwseab2dozTUHoF5taAdf': 617.0,\n '4ZUg3IUvAPAl8coXQAxaXd': 618.0,\n '0rSOL0M3jBnlDWnyhJVxDN': 619.0,\n '5Y3OQtHh00fBjFPTZc6Z3K': 620.0,\n '2a8MwHlzemgf0DyLNrByiP': 621.0,\n '09FcZUDQMWIqbIxQXtzeBU': 622.0,\n '6vQGsQ9qdcDLklKbxqk2wK': 623.0,\n '6f32SeFioQCZ4xrPO7akDc': 624.0,\n '0LTOhhlPSPjhOamlAhbYfa': 625.0,\n '63PjCbHjxQ8rWhB4Hon7z8': 626.0,\n '1I6q3hWuvF4m6bShZiOFNe': 627.0,\n '6tKqyVUgfSyZsLDFKaDdTA': 628.0,\n '63HiUnILQ573Dnb9yaCF6Q': 629.0,\n '2TEtBGPOZqfE1yx010QFMV': 630.0,\n '7ajUo7DyiAOYvCndGLoJ1u': 631.0,\n '7dxq0OW1K06GQKgfYwTufi': 632.0,\n '6lavva7uEgQhcMSQvOXrDs': 633.0,\n '2RXJGkQeCWM6eETb8vTSKD': 634.0,\n '6ObHBWkhqC6awDFfWDvpzg': 635.0,\n '1ANhK2sjxIcnXmyF8v8dUZ': 636.0,\n '6goAT7gQtIGM5siKyvd0mK': 637.0,\n '36QdWK7j3cN0UIPyrB6TIz': 638.0,\n '3vS7gvQtJJkwEk8XLdtJgo': 639.0,\n '4ANmzQlheoRTwnbmoiFaho': 640.0,\n '7MhMgCo0Bl0Kukl93PZbYS': 641.0,\n '5meZadrhoxiRgoN60EmAFh': 642.0,\n '7opp16lU7VM3l2WBdGMYHP': 643.0,\n '5aEWnrN8h3MhuFUPRfaVuy': 644.0,\n '0axCNxYVXqDUd6qZfpXgMa': 645.0,\n '6xnvNmSzmeOE1bLKnYXKW3': 646.0,\n '56GdqzKJEUxTJZHvdgjndU': 647.0,\n '7wU2WGCJ8HxkekHHE2QLul': 648.0,\n '7qRll6DYV06u2VuRPAVqug': 649.0,\n '7Lw2bKQWtH15LeMo5ROZ8H': 650.0,\n '6kBDZFXuLrZgHnvmPu9NsG': 651.0,\n '6U3gCOvxVWKBxXItqp3mdr': 652.0,\n '0GgyFUpOyzWDRDqx8FCTDN': 653.0,\n '3luQWzZhB8QYQItuIjaJ33': 654.0,\n '0OwaxYpG77PWKSLtj1QzG8': 655.0,\n '4npDkLbmWCvi560aKGdDyC': 656.0,\n '1JbB3pybR1wjrQSBLaMWyn': 657.0,\n '6ljFhrGMcH8m0lBZr1W4eg': 658.0,\n '3wVllS5itPK6rpHwfvNce4': 659.0,\n '05SJgVUML4VZ80KV6z0XMT': 660.0,\n '4DdkRBBYG6Yk9Ka8tdJ9BW': 661.0,\n '2P024Zwds3G1daYmKfZ7tV': 662.0,\n '7KK6M2jPylHa6gLbMBI6V0': 663.0,\n '27o8q2S1hyGO4HQL4bcPYD': 664.0,\n '5RdJU7uOPglElCKowHFt4d': 665.0,\n '5yv0gRAquZ57mJRv0SV4kr': 666.0,\n '6ZzOIAEw7joAghyA80c6D0': 667.0,\n '5THiACaeWaj4ZDVt7Cd5nl': 668.0,\n '5hpBysnp54w1yxvpw2WhAF': 669.0,\n '5fhRcv2KU96vbXqNE2FEdu': 670.0,\n '12be6Vj2WgNyx4x6vuGvhy': 671.0,\n '4LYX3rRdXV2l99wR5YPFoK': 672.0,\n '7g3r3O6chJqWLq821vkyFG': 673.0,\n '2VQ0nYO5CBFp0KVWziJDhY': 674.0,\n '67tgMwUfnmqzYsNAtnP6YJ': 675.0,\n '0tXJZmTaNVQVSySOYpGmeb': 676.0,\n '0k7Xl1pqI3tu8sSEjo5oEg': 677.0,\n '4295MP32NxE8XuXZKDlnLd': 678.0,\n '3C2NLb53HPrfC4uKEN7SGI': 679.0,\n '2BgLyUKS3eyXxuPD8CwflY': 680.0,\n '49UZ0RBgUl86yJ99YgQPhi': 681.0,\n '2yHxc12dEUiLXNeqUadxBh': 682.0,\n '3x3jSlhyv5CiCZDZlaTq0M': 683.0,\n '27fE5vAvjV06lG890BeNkK': 684.0,\n '6lx6meijD4SmxlL640WITe': 685.0,\n '5ZsFI1h6hIdQRw2ti0hz81': 686.0,\n '1OVmnAhTevnwsr902sVIjU': 687.0,\n '131ggn8n3rIaHaudwsQoJW': 688.0,\n '6fU4BXH81Y9lMOopk9ida3': 689.0,\n '7ryD56rVL0FeHwv8gYuAXj': 690.0,\n '6c0mTNAxJxlp9HpKTUZwA8': 691.0,\n '1f0teUIefaLT2kaiuUmeRI': 692.0,\n '5wnhqlZzXIq8aO9awQO2ND': 693.0,\n '1twC2fwPG5FkvYcMpVBQRz': 694.0,\n '4NgfOZCL9Ml67xzM0xzIvC': 695.0,\n '4CMbVoPc251Oltqo0i79ui': 696.0,\n '1ocqyH61bqcrdQvfqhrfjt': 697.0,\n '0YMDurwdAVosp0voDcFdFG': 698.0,\n '7rTUqpfYWy256SP4eJ46c4': 699.0,\n '55keVvbYUFpoFlEd6V1zG6': 700.0,\n '6K7ozbJk6Z7BFR1CbTP152': 701.0,\n '6N0ViVGCZxOtPyi0CXxxQo': 702.0,\n '7gP3bB2nilZXLfPHJhMdvc': 703.0,\n '5MqgtmMdtrsZIQpZzLhpX5': 704.0,\n '7hmcMqYh4ypnXk0ptFTG3g': 705.0,\n '3ppkM4QtM781APpaX7H9t7': 706.0,\n '5i2OpmeVKsmViqoETxuOvO': 707.0,\n '5dToLa4hiTw0SOOAaOKsga': 708.0,\n '7fmugt9MKV9lcPgBjEzVdm': 709.0,\n '5N6GwJzOcOY5kv8p0NjhYL': 710.0,\n '1wQkUYwuoRHCynIvy77sx2': 711.0,\n '7xfEjDr3c7DIUoW0qf6s0A': 712.0,\n '5cVLuEqb7aOHuzwssXHzWI': 713.0,\n '1YKHTcncveu1ITHCfXK0dJ': 714.0,\n '6wUfIPeYNIEe5RFvHxAgDx': 715.0,\n '2xiHxT5QkkxHVhljrRGbW9': 716.0,\n '5MsnoFODDc5nxWrjm99Zew': 717.0,\n '0qGiDgx6j3lpg7n8iI0Y5f': 718.0,\n '0uZRjholJ0fVC2J9EvnYnj': 719.0,\n '0ESPEmxgaaAKGI39Jt0NlZ': 720.0,\n '67xIfo0vF5P5wqyfC13R5L': 721.0,\n '3rp9ZztGGrPlRjdRM4C3db': 722.0,\n '6pPyy6IScuksXwNhL2CrIN': 723.0,\n '5wYnOH8JHZrHKJ2f9A3W9x': 724.0,\n '4aQrLaRT5UfpeSTBJmAz7Z': 725.0,\n '2NeBwEmM7I71IsGl1y6FG0': 726.0,\n '4WIRlLxuzmZciQ8JS2b3jP': 727.0,\n '5tIkXJTex4JY7cv9mmgAZx': 728.0,\n '74NBPbyyftqJ4SpDZ4c1Ed': 729.0,\n '3PXLYt1l21hYC4eLDGVgT1': 730.0,\n '04JVMiTFRNgTQ7LeAzzyY0': 731.0,\n '5lr1fzx0Xkyu0BYZQE6iuj': 732.0,\n '1cSFUMJLz9kvhKfwdT4nWT': 733.0,\n '4kg2lRWVK6LDOwPfhQrhsn': 734.0,\n '1QjGRdFBoyMKRIbR4F7vE3': 735.0,\n '6UfoTQXaV3DuqtDVjZIxwZ': 736.0,\n '0MGJHTThvyAyqKuEAgPqDr': 737.0,\n '1fA8WmzG2eU2q13kAAjoN8': 738.0,\n '7uOMXMDKp17v8jpWfxp7tP': 739.0,\n '7zeHJIIfNStVfxlbT72UwY': 740.0,\n '0gBinwZIUNPWGIDeF0oNGi': 741.0,\n '0Bi7gsMOc5xrBd3gSfGsFZ': 742.0,\n '4BgG329ENwgk4Bgw4egt7e': 743.0,\n '0riH6kwoFd6N9VZ0FDqq6M': 744.0,\n '16BoY9HfrtxVodHVdgad07': 745.0,\n '1zRwW2z5JOtEgK5OESwlgx': 746.0,\n '1djeOKOhlMmpiF6gyGVUcu': 747.0,\n '6qI4LTzMRpTxRzMZPvv2C6': 748.0,\n '3bbndYYQlpe6co9EIBSTLf': 749.0,\n '0DZsT6TSzGpZkRKvSVtEWo': 750.0,\n '7qdu8wpr5JrwDwv0Uk2HYV': 751.0,\n '0TqIPD4IS1w4e30R38B3vj': 752.0,\n '7fJYw1vK9yWb8o51I8qHin': 753.0,\n '69a1b61a56mJlx8iAUMBsY': 754.0,\n '0GzIauSfKRc5BlNXpTWAGz': 755.0,\n '12hBWQzCgSmoukMvEIaGOJ': 756.0,\n '3ReHFkDbyMCZlodxTvMpA9': 757.0,\n '06H2WZT6ClrOz5gloflNkA': 758.0,\n '14hnffv60eEnPqWmaeZJLD': 759.0,\n '2DC2KJDKwTf5RGfuWCzAkc': 760.0,\n '7EgJda26gT7PO5Hrcp5NmV': 761.0,\n '42KMYiOVFRmpchRSqBdW2N': 762.0,\n '4TkvkSBfCzS9FQOXmrQmpC': 763.0,\n '3AD7UpcR2n4oeT6jNhISP0': 764.0,\n '44NX2ffIYHr6D4n7RaZF7A': 765.0,\n '4WFpLtotepT2um6cDgmnsE': 766.0,\n '7i9L9EAcbxFQgViNo5LW7I': 767.0,\n '5ZePS8T5uMTuynKaZHffSd': 768.0,\n '378ItW2hUjlhgI3a9d7zlq': 769.0,\n '60wslYioiBcxSTInM4nIy2': 770.0,\n '4c4iX8pe1SV13xToguoelN': 771.0,\n '1LP8J438ESZwQl4pnx2SL1': 772.0,\n '4zSx15ukl1u0oVDCwdVrA4': 773.0,\n '4VEgAOOU9Y5qfvCgQ1ktUo': 774.0,\n '1fAfuhIzpl0ZSaCxJ62J60': 775.0,\n '3PvU6bzMea0YrpBDZFeXxv': 776.0,\n '23H3SAx7PC6IUQ6CKySTsS': 777.0,\n '4LwB86Ve6LpHYtsbnu6bvC': 778.0,\n '5tfiJ40SRxluWNgA6ruvSo': 779.0,\n '2KkoeJkkFr802J5gPjlRGs': 780.0,\n '38uFUiHcolbc99zF9vCSFM': 781.0,\n '5WtzB8qqlU71xrB6Auaixm': 782.0,\n '0OUA8eU4zKdxFX9DL2sdkR': 783.0,\n '5qiEZz19psMDf9UPQUao4J': 784.0,\n '51RYnAHfrE4xnMomva5kFq': 785.0,\n '4Q2UoBUncKRxcMLrCNSqxK': 786.0,\n '6tjYiFlY4YunflE57rBZPB': 787.0,\n '5vWhw0XzIKRr5YUsYB2w3m': 788.0,\n '78CBFzwo7wwNaaTYVP5btK': 789.0,\n '1sxu3pxg9icRUHpyWpDxz2': 790.0,\n '5keCYPArJwg1eu4rdMKFL8': 791.0,\n '4oPYazJJ1o4rWBrTw9lm40': 792.0,\n '3llzSa0umX1B0KfoJyHZF7': 793.0,\n '1J87mxfzE58rZLrRIOx5I5': 794.0,\n '0Dhno1IpOOPqUZ4gAc6fFh': 795.0,\n '3g229vTyhsdwm9SO2p1FPL': 796.0,\n '0mmNcVbHtRaGTEUFw1YEQ3': 797.0,\n '6cv5xnT5S2XX3pje73QZky': 798.0,\n '5mWq883VFNOvC9RhSzoaum': 799.0,\n '6mlJiSKbryxX8tZy6h2ksn': 800.0,\n '0syCnOHTwOSyC0GnvjsBut': 801.0,\n '5twg8ZDFT6UZeGqpEJTHfr': 802.0,\n '4IADL9UHOLo4JDC5S9rmJd': 803.0,\n '2Dxg2OOlBxE39nBNomoosb': 804.0,\n '0S0XLnBGGRRtse9PUhIJbH': 805.0,\n '4LtIfuFeAamus9OOItuWDD': 806.0,\n '2MNxcKZ3cDxvNOCuXRbqCJ': 807.0,\n '3k8qsRKzOftKXOUs63yNhf': 808.0,\n '05DtE7m9OLHY6EtiQhJEYx': 809.0,\n '1g9s0VQvScNH2eh7JCbzUu': 810.0,\n '22fUk65l9TfTRWwYrn5Mq9': 811.0,\n '2E5HdLPskJJhAF3JbutXvw': 812.0,\n '0ZdCJB39o81l85QK7PgTTe': 813.0,\n '6l12E3CnaG7wGZGp2NGyC7': 814.0,\n '5Gqi0sgrt5tYePI7j4EQPz': 815.0,\n '42q4Ivs7tAiCZ5C7eG5q4c': 816.0,\n '1kVUxIDOOo663d1gr3dVZo': 817.0,\n '4xLn46JUwylBZgz0trZCF6': 818.0,\n '5pq13QK3UcktjZaDw6dJEc': 819.0,\n '4rriNpL1lxpoysDDctWgl3': 820.0,\n '2NoFr6doacvN58q9p9EFky': 821.0,\n '7evpupWoVFG7ZarPTX0GGm': 822.0,\n '0dJOYgBjlNeQWFjzspWNRk': 823.0,\n '6nltEpEZtqZD1v4YJLlaZI': 824.0,\n '0bxHci3JIhhKA53n8rH3tT': 825.0,\n '65dOI8VCioOZndbxxqxc0U': 826.0,\n '6sEEVulHlIQjSqMNbeVmUO': 827.0,\n '0BG5aq4J5LuJV8kQcGJ336': 828.0,\n '7ll3lMzMHTtXWxm55DNEIw': 829.0,\n '6MxIoQ7GT947XGYca2irUU': 830.0,\n '53jXEVVJtpaWVQ3ffvhDtl': 831.0,\n '0asVlqTLu3TimnYVyY5Jxi': 832.0,\n '22q1hJ5LxEEup2nKtC0Ff7': 833.0,\n '5rFOQi6066JvXPMQWxB5BJ': 834.0,\n '24XtlMhEMNdi822vi0MhY1': 835.0,\n '0zRimSsor7f5Wru5M5MUiL': 836.0,\n '78HlaBn9UlUCPIxvuNMbYH': 837.0,\n '6YPRXu1dazGYcSZv4HJEH4': 838.0,\n '3Zgg2QAGQzs1wf51KVVwII': 839.0,\n '7tIZj4iYsmkABsHuLitIC7': 840.0,\n '14MtanGZe4G1fzC8raLFUK': 841.0,\n '6sJjpQFisVYyxV52I6WEry': 842.0,\n '1KoxZqxUcBPQgTPgMuQU8N': 843.0,\n '5npjVGVAv2zKLAU00SIU81': 844.0,\n '4GMgdB3vwbBOc42hbXEi9p': 845.0,\n '070kGpqtESdDsLb3gdMIyx': 846.0,\n '0RKlEtM67l3X2H9VS8gHmU': 847.0,\n '1kM5rgJvkiDMOoKX56H6pX': 848.0,\n '6yhD1KjhLxIETFF7vIRf8B': 849.0,\n '5zCm5aexo0u4xplofh4cs8': 850.0,\n '2jPG2QeccDfdNbOdGrjBwO': 851.0,\n '3ydjIwHul4t5HWbiIUa3VE': 852.0,\n '07d5etnpjriczFBB8pxmRe': 853.0,\n '3KtQKjhGiRnuDcF0TQoXmk': 854.0,\n '0u7CF9gJzMB7pyzJkW22eK': 855.0,\n '3Y6A4XTkADcLR5MvdYbVk7': 856.0,\n '5x9uHRlOjmr7RXojNy9X1v': 857.0,\n '7yCFIIPxCy84VS0y2TUazj': 858.0,\n '4fLF7NyMYLaMxUmZCSp5ex': 859.0,\n '4XFWXwckrSlkkLNcQENKUF': 860.0,\n '3GA073crdjGhnBSeQsjzHE': 861.0,\n '7yq1jM4LGy9X7rbdLwCNY7': 862.0,\n '7hgAkPMyzkbmls8g2XCTtJ': 863.0,\n '7q29ZT6pyW0RefQkTnG9rx': 864.0,\n '6fmq5mv6HnduZdlTOEYBC9': 865.0,\n '4I8ji0araSRjksNSXHa8pZ': 866.0,\n '4YAC9u24h8iC7FTt4v0V3v': 867.0,\n '35IRPkEjiuIuNhcopXTaEv': 868.0,\n '3h1HOgVmvPlhqjz8o3LglL': 869.0,\n '4DQ0ynNcoqXosU1VyFJxDG': 870.0,\n '6jpsazGTsx1sXgGDJUhs5e': 871.0,\n '0NkORBViEBhR6j6PruH0Qv': 872.0,\n '3PhL2Vdao2v8SS8AptuhAr': 873.0,\n '6ulffqwTouVE3cccumBwfM': 874.0,\n '6PTy8QkZxHr7Thp8SPYE71': 875.0,\n '0wasPvRKnp6xCr6VDrqYbd': 876.0,\n '6LkQhhPQeIWt0roEVnx4PT': 877.0,\n '6zpPKMhpOoG646kJgZ7RKf': 878.0,\n '5XHC1Wsoz3tJEmwEiUjbbi': 879.0,\n '0UbEs0PreaOtxxn8guAXEf': 880.0,\n '03qFfKkWc6rrATJyN2e7Sr': 881.0,\n '6kGoUsSUIbeqUVDe61tGNC': 882.0,\n '5ni1w1cPXedu3sSpS36BJG': 883.0,\n '1b6cgG4jRUeMGlbTh7b37I': 884.0,\n '41hE2XbxlMwh2jpfUhHjLG': 885.0,\n '63e0npbWHhufPfkeNy6vL1': 886.0,\n '5jcsBQiBgtqZXlFu3XumX1': 887.0,\n '11x7MB7D5VC3ESLoY0Kqij': 888.0,\n '6q3p11nP1p80Ey6LrOOSed': 889.0,\n '3vhU1NiKKkRueIABSm7MgB': 890.0,\n '3apueasSp0paDZeS4aU06g': 891.0,\n '5CXBZ0BElKkGMdP5gJSpdY': 892.0,\n '7wVWA9OXTAx4SYogqnMTiK': 893.0,\n '5rWKAmlxinr3muqedXVIHa': 894.0,\n '7lffJlv0nRl0sIsHDmo0SB': 895.0,\n '1sCa5KANHoHo4NuGextoI9': 896.0,\n '1wo9h8DP7M0M1orKuGZgWv': 897.0,\n '3tnTlR2MCaYNQqV3v1908x': 898.0,\n '0kYlleSWpRLtsP5INWWYfH': 899.0,\n '36qmmRdQ6mXuHf7pCbjXht': 900.0,\n '2Awvuvn9vjNPGFOboyzEg8': 901.0,\n '1fQxyGXotgdzAX91OVBB0v': 902.0,\n '6ESkuwldylZr39AIAPC63J': 903.0,\n '1OnjWt281RoOzwnORDfduP': 904.0,\n '5e4Dhzv426EvQe3aDb64jL': 905.0,\n '1FizW0swe8ODtXvEOHXbHX': 906.0,\n '6rtEodzNinVmwxaXeR0ApA': 907.0,\n '2vUpX2Zq1DBdCHuoEnmzkK': 908.0,\n '3YcBF2ttyueytpXtEzn1Za': 909.0,\n '48kBTJzA52zXLSf4vBvBKm': 910.0,\n '3sKnxPwlgaR3gWa8Cz4WrE': 911.0,\n '3xc8CD41vwsoBNkGXL3pS7': 912.0,\n '0i0ELbteoVYQDbSNCU3Spz': 913.0,\n '1R84VlXnFFULOsWWV8IrCQ': 914.0,\n '1lEiFY8tYuckyd67eGiaF1': 915.0,\n '5eX67XYPPv11MhDIdIoCN4': 916.0,\n '5FizNUi0Rn6ZR6cmXL5nts': 917.0,\n '5tth2a3v0sWwV1C7bApBdX': 918.0,\n '01h50SsMXyYlhVA0ukTjHm': 919.0,\n '2lfhRHLz3kC17tcVKJqJ4Y': 920.0,\n '1VSHiuZTJtoM464TPjAc7H': 921.0,\n '77kSNKabNJmjoyANVTufhl': 922.0,\n '6aGJNJwZbaCFK0S3M8wAe2': 923.0,\n '5MYBNUKoFf9LAg30ByaBli': 924.0,\n '5NnU0kEw5y0wgrEBxznZSv': 925.0,\n '3rIOMAR5kAZEplvukTwOER': 926.0,\n '3pbKylceBTiUa0fZk4J4sJ': 927.0,\n '2N2paFNmMNWAO6auvOqxc0': 928.0,\n '1VEDpUouCdSisFciKTQ3Yk': 929.0,\n '4Wwmc2dPODdf3SU2D48Kop': 930.0,\n '2ZWsuySuAVK5a6WrQSqbQk': 931.0,\n '3llmJFyS96heuTxottJkPB': 932.0,\n '0YPElKYjOD1sofFCtLdYj3': 933.0,\n '2jvAaeUfgrGtgl8bU4yKhT': 934.0,\n '6pz38po0eVwaDGerIezA3X': 935.0,\n '6ynSq3csnauyqZeQgfuWWt': 936.0,\n '1xMUrRkfPwUuGgCIXqxO8B': 937.0,\n '2LXeJdQVcFkhkWydphLI74': 938.0,\n '0ve9HwbCLcDX3ru2Ua5q3e': 939.0,\n '5q9nLsvWwbSUW1kRyhZLAx': 940.0,\n '10gzBoINW3cLJfZUka8Zoe': 941.0,\n '5Onm2IVDN4n6iHESFcaQFf': 942.0,\n '2hikCywT7dcTj6gt3jmsbD': 943.0,\n '4VWygA8sSBNHhxKzfq8Niq': 944.0,\n '74BpfOquem1y8pWMXcEaQn': 945.0,\n '2XP4UvuJoUxBIjO95l8Mlr': 946.0,\n '5880xHG9leYNwQ0Hl5JeOF': 947.0,\n '3OKg7YbOIatODzkRIbLJR4': 948.0,\n '22WZ7M8sxp5THdruNY3gXt': 949.0,\n '3REpOYo13YkVj1dFzda12A': 950.0,\n '5bYxyEnygJDOXZI3BEwWtC': 951.0,\n '4KSCh8KnwNFUJZdy1tKSmG': 952.0,\n '5eIbEEQnDM8yuDVB0bimSP': 953.0,\n '4lofVru78B5ft8cseg5ShL': 954.0,\n '7hPPjATqnrrougPWT3VvJn': 955.0,\n '23JFqyRv5rVIsRSGu00fou': 956.0,\n '26iGRgPGYsrUh6c2YLYDeZ': 957.0,\n '7dlfvFHpHgZe4BvXlT2Gge': 958.0,\n '3F2xHq03f1NjSbmgD9HLAt': 959.0,\n '4VG0TuOXWoubWo7dHzX6d3': 960.0,\n '5lCekoJW9jNq01B1wiqdAb': 961.0,\n '4vK15XpJWMJwcgP3m5afsI': 962.0,\n '0fEXCJyOEfSy3YeTLBz0Lk': 963.0,\n '7r2oyrNc0YjSC7hZL87V0Y': 964.0,\n '0ym94xKp2PIOJtTZKpxbAa': 965.0,\n '4BXF2Kammrr5CQyRenxjU9': 966.0,\n '7Epn1JDzBtB5x8hR38nRoZ': 967.0,\n '5aIYzxun1CXR1Ivl4xvR95': 968.0,\n '0GHcMuYNbDXb8cfJ7I5PsD': 969.0,\n '3rxwEi47ZFJEmKnIdhRTBl': 970.0,\n '2mbxZaEYfxxBjDsMLWoBHw': 971.0,\n '23fqKkggKUBHNkbKtXEls4': 972.0,\n '2LB9H0px4qWbCHg9Axzhga': 973.0,\n '6e8OTLDQpaz1Tl2GEaxsNj': 974.0,\n '65OtBLtkrifQrdTlKI90IR': 975.0,\n '6wf6NsLOniDE6NsJjzbq8r': 976.0,\n '64XTSXR4WfxkKESaK8kox9': 977.0,\n '1U6Vj7ekUbeoegxOEM5mDO': 978.0,\n '2M4KXzgedR4EKG4qgTeDKa': 979.0,\n '7JeqyD6hJubfKwFYrhBVEp': 980.0,\n '1RUNTu1Pr9xVpBmkRRQbH3': 981.0,\n '6HjfVflhYjbu6PSIsFOjwM': 982.0,\n '6AOsgFFs5NmCJqL2Xuidcr': 983.0,\n '4MptlUxSUHf2QAW9JMrv4W': 984.0,\n '6NgXTnk3dFpSCmqkgGTn46': 985.0,\n '0FOYGJujASE1pCw5WNHf0g': 986.0,\n '6fSNDuge2fLINdnCCbpZx6': 987.0,\n '2HF01XNihZAWaNfMLv1fIV': 988.0,\n '702yoyEZPQ2kmNkagHqJF9': 989.0,\n '0UEP2XBR9aC5NBKcAKnBIq': 990.0,\n '4dVRITwfej74WkmNpgYVPb': 991.0,\n '3u579Gdap91lMptBSdXTpf': 992.0,\n '77zrvBORXcnTyysjjKRfBU': 993.0,\n '0s8MBYVZMiHb9hYl50fMBB': 994.0,\n '2mxplErmRMbGaSiAsDONkT': 995.0,\n '3abr6HbbzRaagDLbTRvIeK': 996.0,\n '6v8y1Wpx5FQuBNY9xbORjz': 997.0,\n '6hnWRPzGGKiapVX1UCdEAC': 998.0,\n '0ziCCwKSWypFQsjriznj5f': 999.0,\n ...}"
     },
     "execution_count": 25,
     "metadata": {},
     "output_type": "execute_result"
    }
   ],
   "source": [
    "dict_map = {}\n",
    "\n",
    "for i, elt in enumerate(artist_set):\n",
    "    dict_map[elt] = numbers[i]\n",
    "\n",
    "dict_map"
   ],
   "metadata": {
    "collapsed": false,
    "pycharm": {
     "name": "#%%\n"
    },
    "ExecuteTime": {
     "end_time": "2024-07-27T13:56:22.033243500Z",
     "start_time": "2024-07-27T13:56:21.959318800Z"
    }
   },
   "id": "d86472cf9b9e3a"
  },
  {
   "cell_type": "code",
   "execution_count": 26,
   "outputs": [],
   "source": [
    "data[\"artist1_num\"] = data[\"artist1_id\"].map(dict_map)\n",
    "data[\"artist2_num\"] = data[\"artist2_id\"].map(dict_map)"
   ],
   "metadata": {
    "collapsed": false,
    "pycharm": {
     "name": "#%%\n"
    },
    "ExecuteTime": {
     "end_time": "2024-07-27T13:56:22.159990900Z",
     "start_time": "2024-07-27T13:56:21.975663600Z"
    }
   },
   "id": "ba3e9fcb2fb1422c"
  },
  {
   "cell_type": "code",
   "execution_count": 27,
   "outputs": [],
   "source": [
    "data.to_csv(\"data_basline_simple_feature_calc_split_included_different_k.csv\", index=False)"
   ],
   "metadata": {
    "collapsed": false,
    "pycharm": {
     "name": "#%%\n"
    },
    "ExecuteTime": {
     "end_time": "2024-07-27T13:56:40.510587600Z",
     "start_time": "2024-07-27T13:56:22.160992Z"
    }
   },
   "id": "2c64f5d11ecceeb4"
  }
 ],
 "metadata": {
  "kernelspec": {
   "display_name": "Python 3",
   "language": "python",
   "name": "python3"
  },
  "language_info": {
   "codemirror_mode": {
    "name": "ipython",
    "version": 2
   },
   "file_extension": ".py",
   "mimetype": "text/x-python",
   "name": "python",
   "nbconvert_exporter": "python",
   "pygments_lexer": "ipython2",
   "version": "2.7.6"
  }
 },
 "nbformat": 4,
 "nbformat_minor": 5
}
