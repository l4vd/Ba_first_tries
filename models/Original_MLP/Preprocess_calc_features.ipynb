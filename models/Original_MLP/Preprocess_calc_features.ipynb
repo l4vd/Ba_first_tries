{
 "cells": [
  {
   "cell_type": "code",
   "execution_count": 1,
   "id": "initial_id",
   "metadata": {
    "collapsed": true,
    "ExecuteTime": {
     "end_time": "2024-04-09T11:42:01.671284Z",
     "start_time": "2024-04-09T11:41:57.603502300Z"
    }
   },
   "outputs": [
    {
     "data": {
      "text/plain": "                       song_id  \\\n0       7kXUEJmfvRXbzxOC0pHQgb   \n1       7A131DrpfbWAfNJLrxikwf   \n2       4SRjOJm5AjO3fxXpZSTEBb   \n3       592dtCLAyLQdUallLhJinO   \n4       2hMAApqyXl7nf2s8dQ6BTv   \n...                        ...   \n911022  5ke0edZBlwRYu01wdej6xq   \n911023  12kc7hUJKpArFQurhlNeNW   \n911024  0lej8CemYKkWVHg77Xe1ky   \n911025  7goArBQdsalqclSyaTywAS   \n911026  6Fh2QgjCxL96dA3Gtpfr4Q   \n\n                                                song_name  song_popularity  \\\n0                          I Can't Believe I'm Losing You              5.0   \n1                                       Top Of The Stairs             26.0   \n2                                   Never Crossed My Mind             20.0   \n3                                              Daddy Cool              1.0   \n4                                     Shame, Shame, Shame              0.0   \n...                                                   ...              ...   \n911022                                         Let Her In              4.0   \n911023                             Stop and Think It Over              1.0   \n911024           A Man Holdin' on (To a Woman Lettin’ Go)             14.0   \n911025                                   Shimmy Shimmy Ya              7.0   \n911026  One Sweet Day (16-Bit Mariah Carey & Boyz II M...              0.0   \n\n        explicit      song_type  track_number  num_artists  \\\n0          False           Solo          12.0          1.0   \n1          False           Solo           4.0          1.0   \n2          False           Solo           3.0          1.0   \n3          False           Solo           6.0          1.0   \n4          False           Solo          15.0          1.0   \n...          ...            ...           ...          ...   \n911022     False           Solo           7.0          1.0   \n911023     False           Solo           9.0          1.0   \n911024     False  Collaboration           7.0          2.0   \n911025     False           Solo           8.0          1.0   \n911026     False           Solo          27.0          1.0   \n\n        num_available_markets release_date  duration_ms  ...         name_y  \\\n0                        79.0   1995-01-01     162667.0  ...            NaN   \n1                         2.0   1995-01-01     271307.0  ...            NaN   \n2                         2.0   1995-01-01     242027.0  ...            NaN   \n3                        79.0   1995-01-01     201307.0  ...            NaN   \n4                        79.0   1995-01-01     231973.0  ...            NaN   \n...                       ...          ...          ...  ...            ...   \n911022                   79.0   2019-08-23     183600.0  ...            NaN   \n911023                   79.0   2019-08-23     154413.0  ...            NaN   \n911024                   79.0   2019-08-23     231898.0  ...  Anita Cochran   \n911025                   78.0   2019-08-23     161200.0  ...            NaN   \n911026                   79.0   2019-08-26     260910.0  ...            NaN   \n\n        betweenesscentrality_y  closnesscentrality_y  clustering_y  degree_y  \\\n0                          0.0              0.000000           0.0       0.0   \n1                          0.0              0.000000           0.0       0.0   \n2                          0.0              0.000000           0.0       0.0   \n3                          0.0              0.000000           0.0       0.0   \n4                          0.0              0.000000           0.0       0.0   \n...                        ...                   ...           ...       ...   \n911022                     0.0              0.000000           0.0       0.0   \n911023                     0.0              0.000000           0.0       0.0   \n911024                     0.0              0.666667           0.0       1.0   \n911025                     0.0              0.000000           0.0       0.0   \n911026                     0.0              0.000000           0.0       0.0   \n\n        eccentricity_y  eigencentrality_y  weighted degree_y  Cluster_y  \\\n0                  0.0                0.0                0.0       -1.0   \n1                  0.0                0.0                0.0       -1.0   \n2                  0.0                0.0                0.0       -1.0   \n3                  0.0                0.0                0.0       -1.0   \n4                  0.0                0.0                0.0       -1.0   \n...                ...                ...                ...        ...   \n911022             0.0                0.0                0.0       -1.0   \n911023             0.0                0.0                0.0       -1.0   \n911024             2.0                0.5                2.0        2.0   \n911025             0.0                0.0                0.0       -1.0   \n911026             0.0                0.0                0.0       -1.0   \n\n          profile_y  \n0          No Match  \n1          No Match  \n2          No Match  \n3          No Match  \n4          No Match  \n...             ...  \n911022     No Match  \n911023     No Match  \n911024  1A 2A 3A 4A  \n911025     No Match  \n911026     No Match  \n\n[911027 rows x 46 columns]",
      "text/html": "<div>\n<style scoped>\n    .dataframe tbody tr th:only-of-type {\n        vertical-align: middle;\n    }\n\n    .dataframe tbody tr th {\n        vertical-align: top;\n    }\n\n    .dataframe thead th {\n        text-align: right;\n    }\n</style>\n<table border=\"1\" class=\"dataframe\">\n  <thead>\n    <tr style=\"text-align: right;\">\n      <th></th>\n      <th>song_id</th>\n      <th>song_name</th>\n      <th>song_popularity</th>\n      <th>explicit</th>\n      <th>song_type</th>\n      <th>track_number</th>\n      <th>num_artists</th>\n      <th>num_available_markets</th>\n      <th>release_date</th>\n      <th>duration_ms</th>\n      <th>...</th>\n      <th>name_y</th>\n      <th>betweenesscentrality_y</th>\n      <th>closnesscentrality_y</th>\n      <th>clustering_y</th>\n      <th>degree_y</th>\n      <th>eccentricity_y</th>\n      <th>eigencentrality_y</th>\n      <th>weighted degree_y</th>\n      <th>Cluster_y</th>\n      <th>profile_y</th>\n    </tr>\n  </thead>\n  <tbody>\n    <tr>\n      <th>0</th>\n      <td>7kXUEJmfvRXbzxOC0pHQgb</td>\n      <td>I Can't Believe I'm Losing You</td>\n      <td>5.0</td>\n      <td>False</td>\n      <td>Solo</td>\n      <td>12.0</td>\n      <td>1.0</td>\n      <td>79.0</td>\n      <td>1995-01-01</td>\n      <td>162667.0</td>\n      <td>...</td>\n      <td>NaN</td>\n      <td>0.0</td>\n      <td>0.000000</td>\n      <td>0.0</td>\n      <td>0.0</td>\n      <td>0.0</td>\n      <td>0.0</td>\n      <td>0.0</td>\n      <td>-1.0</td>\n      <td>No Match</td>\n    </tr>\n    <tr>\n      <th>1</th>\n      <td>7A131DrpfbWAfNJLrxikwf</td>\n      <td>Top Of The Stairs</td>\n      <td>26.0</td>\n      <td>False</td>\n      <td>Solo</td>\n      <td>4.0</td>\n      <td>1.0</td>\n      <td>2.0</td>\n      <td>1995-01-01</td>\n      <td>271307.0</td>\n      <td>...</td>\n      <td>NaN</td>\n      <td>0.0</td>\n      <td>0.000000</td>\n      <td>0.0</td>\n      <td>0.0</td>\n      <td>0.0</td>\n      <td>0.0</td>\n      <td>0.0</td>\n      <td>-1.0</td>\n      <td>No Match</td>\n    </tr>\n    <tr>\n      <th>2</th>\n      <td>4SRjOJm5AjO3fxXpZSTEBb</td>\n      <td>Never Crossed My Mind</td>\n      <td>20.0</td>\n      <td>False</td>\n      <td>Solo</td>\n      <td>3.0</td>\n      <td>1.0</td>\n      <td>2.0</td>\n      <td>1995-01-01</td>\n      <td>242027.0</td>\n      <td>...</td>\n      <td>NaN</td>\n      <td>0.0</td>\n      <td>0.000000</td>\n      <td>0.0</td>\n      <td>0.0</td>\n      <td>0.0</td>\n      <td>0.0</td>\n      <td>0.0</td>\n      <td>-1.0</td>\n      <td>No Match</td>\n    </tr>\n    <tr>\n      <th>3</th>\n      <td>592dtCLAyLQdUallLhJinO</td>\n      <td>Daddy Cool</td>\n      <td>1.0</td>\n      <td>False</td>\n      <td>Solo</td>\n      <td>6.0</td>\n      <td>1.0</td>\n      <td>79.0</td>\n      <td>1995-01-01</td>\n      <td>201307.0</td>\n      <td>...</td>\n      <td>NaN</td>\n      <td>0.0</td>\n      <td>0.000000</td>\n      <td>0.0</td>\n      <td>0.0</td>\n      <td>0.0</td>\n      <td>0.0</td>\n      <td>0.0</td>\n      <td>-1.0</td>\n      <td>No Match</td>\n    </tr>\n    <tr>\n      <th>4</th>\n      <td>2hMAApqyXl7nf2s8dQ6BTv</td>\n      <td>Shame, Shame, Shame</td>\n      <td>0.0</td>\n      <td>False</td>\n      <td>Solo</td>\n      <td>15.0</td>\n      <td>1.0</td>\n      <td>79.0</td>\n      <td>1995-01-01</td>\n      <td>231973.0</td>\n      <td>...</td>\n      <td>NaN</td>\n      <td>0.0</td>\n      <td>0.000000</td>\n      <td>0.0</td>\n      <td>0.0</td>\n      <td>0.0</td>\n      <td>0.0</td>\n      <td>0.0</td>\n      <td>-1.0</td>\n      <td>No Match</td>\n    </tr>\n    <tr>\n      <th>...</th>\n      <td>...</td>\n      <td>...</td>\n      <td>...</td>\n      <td>...</td>\n      <td>...</td>\n      <td>...</td>\n      <td>...</td>\n      <td>...</td>\n      <td>...</td>\n      <td>...</td>\n      <td>...</td>\n      <td>...</td>\n      <td>...</td>\n      <td>...</td>\n      <td>...</td>\n      <td>...</td>\n      <td>...</td>\n      <td>...</td>\n      <td>...</td>\n      <td>...</td>\n      <td>...</td>\n    </tr>\n    <tr>\n      <th>911022</th>\n      <td>5ke0edZBlwRYu01wdej6xq</td>\n      <td>Let Her In</td>\n      <td>4.0</td>\n      <td>False</td>\n      <td>Solo</td>\n      <td>7.0</td>\n      <td>1.0</td>\n      <td>79.0</td>\n      <td>2019-08-23</td>\n      <td>183600.0</td>\n      <td>...</td>\n      <td>NaN</td>\n      <td>0.0</td>\n      <td>0.000000</td>\n      <td>0.0</td>\n      <td>0.0</td>\n      <td>0.0</td>\n      <td>0.0</td>\n      <td>0.0</td>\n      <td>-1.0</td>\n      <td>No Match</td>\n    </tr>\n    <tr>\n      <th>911023</th>\n      <td>12kc7hUJKpArFQurhlNeNW</td>\n      <td>Stop and Think It Over</td>\n      <td>1.0</td>\n      <td>False</td>\n      <td>Solo</td>\n      <td>9.0</td>\n      <td>1.0</td>\n      <td>79.0</td>\n      <td>2019-08-23</td>\n      <td>154413.0</td>\n      <td>...</td>\n      <td>NaN</td>\n      <td>0.0</td>\n      <td>0.000000</td>\n      <td>0.0</td>\n      <td>0.0</td>\n      <td>0.0</td>\n      <td>0.0</td>\n      <td>0.0</td>\n      <td>-1.0</td>\n      <td>No Match</td>\n    </tr>\n    <tr>\n      <th>911024</th>\n      <td>0lej8CemYKkWVHg77Xe1ky</td>\n      <td>A Man Holdin' on (To a Woman Lettin’ Go)</td>\n      <td>14.0</td>\n      <td>False</td>\n      <td>Collaboration</td>\n      <td>7.0</td>\n      <td>2.0</td>\n      <td>79.0</td>\n      <td>2019-08-23</td>\n      <td>231898.0</td>\n      <td>...</td>\n      <td>Anita Cochran</td>\n      <td>0.0</td>\n      <td>0.666667</td>\n      <td>0.0</td>\n      <td>1.0</td>\n      <td>2.0</td>\n      <td>0.5</td>\n      <td>2.0</td>\n      <td>2.0</td>\n      <td>1A 2A 3A 4A</td>\n    </tr>\n    <tr>\n      <th>911025</th>\n      <td>7goArBQdsalqclSyaTywAS</td>\n      <td>Shimmy Shimmy Ya</td>\n      <td>7.0</td>\n      <td>False</td>\n      <td>Solo</td>\n      <td>8.0</td>\n      <td>1.0</td>\n      <td>78.0</td>\n      <td>2019-08-23</td>\n      <td>161200.0</td>\n      <td>...</td>\n      <td>NaN</td>\n      <td>0.0</td>\n      <td>0.000000</td>\n      <td>0.0</td>\n      <td>0.0</td>\n      <td>0.0</td>\n      <td>0.0</td>\n      <td>0.0</td>\n      <td>-1.0</td>\n      <td>No Match</td>\n    </tr>\n    <tr>\n      <th>911026</th>\n      <td>6Fh2QgjCxL96dA3Gtpfr4Q</td>\n      <td>One Sweet Day (16-Bit Mariah Carey &amp; Boyz II M...</td>\n      <td>0.0</td>\n      <td>False</td>\n      <td>Solo</td>\n      <td>27.0</td>\n      <td>1.0</td>\n      <td>79.0</td>\n      <td>2019-08-26</td>\n      <td>260910.0</td>\n      <td>...</td>\n      <td>NaN</td>\n      <td>0.0</td>\n      <td>0.000000</td>\n      <td>0.0</td>\n      <td>0.0</td>\n      <td>0.0</td>\n      <td>0.0</td>\n      <td>0.0</td>\n      <td>-1.0</td>\n      <td>No Match</td>\n    </tr>\n  </tbody>\n</table>\n<p>911027 rows × 46 columns</p>\n</div>"
     },
     "execution_count": 1,
     "metadata": {},
     "output_type": "execute_result"
    }
   ],
   "source": [
    "import pandas as pd\n",
    "\n",
    "df_prep_songs = pd.read_csv(\"data_basline_simple_feature_calc_split_included_different_k_6.csv\", sep=\",\")\n",
    "df_prep_songs"
   ]
  },
  {
   "cell_type": "markdown",
   "source": [
    "## Artist Base:\n"
   ],
   "metadata": {
    "collapsed": false
   },
   "id": "fec7eacbc47376a"
  },
  {
   "cell_type": "code",
   "execution_count": 2,
   "outputs": [
    {
     "data": {
      "text/plain": "                    artist_id                album_id release_date  \\\n0      46SHBwWsqBkxI7EeeBEQG7  5n1GSzC1Reao29ScnpLYqp   2018-12-14   \n1      20sxb77xiYeusSH8cVdatc  6UYZEYjpN1DYRW0kqFy9ZE   2018-11-30   \n2      1GxkXlMwML1oSg5eLPiAz3  7uVimUILdzSZG4KKKWToq0   2012-11-09   \n3      0LyfQWJT6nXafLPZqxe9Of  35s58BRTGAEWztPo9WqCIs   2018-12-14   \n4      0Y5tJX1MQlPlqiwlOH1tJY  41GuZcammIkupMPKH2OJ6I   2018-08-03   \n...                       ...                     ...          ...   \n26517  6XVxGOzn7c2rLi1GpXxm5v  6AKvqcMFVMS7qz1QCOYvdd   2002-01-01   \n26518  7onp6ew3LGoQImTt1I78gt  0Gt9RgFYh2jMvv5ix5lCA1   2014-03-10   \n26519  2KSxJY1WxGGVYSmoM0N54P  5Cw32z9ICOrrbS8Q5JcpDv   2014-04-18   \n26520  4loTsy7881oe7pr52sewdg  0B9f1PqUNLUEkNHxJPrtbR   2011-09-30   \n26521  1kYYk4lJ7ZWbyy3zDYOl6h  6wf7Rh10EoTaqZMdN2xRlI   2014-03-12   \n\n      release_date_precision  \n0                        day  \n1                        day  \n2                        day  \n3                        day  \n4                        day  \n...                      ...  \n26517                    day  \n26518                    day  \n26519                    day  \n26520                    day  \n26521                    day  \n\n[26522 rows x 4 columns]",
      "text/html": "<div>\n<style scoped>\n    .dataframe tbody tr th:only-of-type {\n        vertical-align: middle;\n    }\n\n    .dataframe tbody tr th {\n        vertical-align: top;\n    }\n\n    .dataframe thead th {\n        text-align: right;\n    }\n</style>\n<table border=\"1\" class=\"dataframe\">\n  <thead>\n    <tr style=\"text-align: right;\">\n      <th></th>\n      <th>artist_id</th>\n      <th>album_id</th>\n      <th>release_date</th>\n      <th>release_date_precision</th>\n    </tr>\n  </thead>\n  <tbody>\n    <tr>\n      <th>0</th>\n      <td>46SHBwWsqBkxI7EeeBEQG7</td>\n      <td>5n1GSzC1Reao29ScnpLYqp</td>\n      <td>2018-12-14</td>\n      <td>day</td>\n    </tr>\n    <tr>\n      <th>1</th>\n      <td>20sxb77xiYeusSH8cVdatc</td>\n      <td>6UYZEYjpN1DYRW0kqFy9ZE</td>\n      <td>2018-11-30</td>\n      <td>day</td>\n    </tr>\n    <tr>\n      <th>2</th>\n      <td>1GxkXlMwML1oSg5eLPiAz3</td>\n      <td>7uVimUILdzSZG4KKKWToq0</td>\n      <td>2012-11-09</td>\n      <td>day</td>\n    </tr>\n    <tr>\n      <th>3</th>\n      <td>0LyfQWJT6nXafLPZqxe9Of</td>\n      <td>35s58BRTGAEWztPo9WqCIs</td>\n      <td>2018-12-14</td>\n      <td>day</td>\n    </tr>\n    <tr>\n      <th>4</th>\n      <td>0Y5tJX1MQlPlqiwlOH1tJY</td>\n      <td>41GuZcammIkupMPKH2OJ6I</td>\n      <td>2018-08-03</td>\n      <td>day</td>\n    </tr>\n    <tr>\n      <th>...</th>\n      <td>...</td>\n      <td>...</td>\n      <td>...</td>\n      <td>...</td>\n    </tr>\n    <tr>\n      <th>26517</th>\n      <td>6XVxGOzn7c2rLi1GpXxm5v</td>\n      <td>6AKvqcMFVMS7qz1QCOYvdd</td>\n      <td>2002-01-01</td>\n      <td>day</td>\n    </tr>\n    <tr>\n      <th>26518</th>\n      <td>7onp6ew3LGoQImTt1I78gt</td>\n      <td>0Gt9RgFYh2jMvv5ix5lCA1</td>\n      <td>2014-03-10</td>\n      <td>day</td>\n    </tr>\n    <tr>\n      <th>26519</th>\n      <td>2KSxJY1WxGGVYSmoM0N54P</td>\n      <td>5Cw32z9ICOrrbS8Q5JcpDv</td>\n      <td>2014-04-18</td>\n      <td>day</td>\n    </tr>\n    <tr>\n      <th>26520</th>\n      <td>4loTsy7881oe7pr52sewdg</td>\n      <td>0B9f1PqUNLUEkNHxJPrtbR</td>\n      <td>2011-09-30</td>\n      <td>day</td>\n    </tr>\n    <tr>\n      <th>26521</th>\n      <td>1kYYk4lJ7ZWbyy3zDYOl6h</td>\n      <td>6wf7Rh10EoTaqZMdN2xRlI</td>\n      <td>2014-03-12</td>\n      <td>day</td>\n    </tr>\n  </tbody>\n</table>\n<p>26522 rows × 4 columns</p>\n</div>"
     },
     "execution_count": 2,
     "metadata": {},
     "output_type": "execute_result"
    }
   ],
   "source": [
    "df_releases = pd.read_csv(\"../../MusicOSet/musicoset_metadata/releases.csv\", sep=\"\\t\")\n",
    "df_releases"
   ],
   "metadata": {
    "collapsed": false,
    "ExecuteTime": {
     "end_time": "2024-04-09T11:42:01.788284900Z",
     "start_time": "2024-04-09T11:42:01.667285800Z"
    }
   },
   "id": "daf2b4f656a8ea2b"
  },
  {
   "cell_type": "code",
   "execution_count": 3,
   "outputs": [
    {
     "data": {
      "text/plain": "                   artist_id  album_id\n354   0LyfQWJT6nXafLPZqxe9Of       866\n5833  5UloVKzUNJcjORzhhTWWiJ       116\n7553  76XE4h4VXk8KbLJallt9Ym        76\n7524  74ASZWbe4lXaubB36ztrGX        55\n7987  7jmTilWYlKOuavFfmQAcu6        51\n...                      ...       ...\n3764  3WKTiixhkaWRexRUs3GKBw         1\n3762  3WDUptC9KS6ZFNwkZipSlQ         1\n3761  3W4xM5XYtUp4ifYYPVKVdk         1\n3760  3W4wcU4rF0299ETmYdZ1tC         1\n8257  7zmk5lkmCMVvfvwF3H8FWC         1\n\n[8258 rows x 2 columns]",
      "text/html": "<div>\n<style scoped>\n    .dataframe tbody tr th:only-of-type {\n        vertical-align: middle;\n    }\n\n    .dataframe tbody tr th {\n        vertical-align: top;\n    }\n\n    .dataframe thead th {\n        text-align: right;\n    }\n</style>\n<table border=\"1\" class=\"dataframe\">\n  <thead>\n    <tr style=\"text-align: right;\">\n      <th></th>\n      <th>artist_id</th>\n      <th>album_id</th>\n    </tr>\n  </thead>\n  <tbody>\n    <tr>\n      <th>354</th>\n      <td>0LyfQWJT6nXafLPZqxe9Of</td>\n      <td>866</td>\n    </tr>\n    <tr>\n      <th>5833</th>\n      <td>5UloVKzUNJcjORzhhTWWiJ</td>\n      <td>116</td>\n    </tr>\n    <tr>\n      <th>7553</th>\n      <td>76XE4h4VXk8KbLJallt9Ym</td>\n      <td>76</td>\n    </tr>\n    <tr>\n      <th>7524</th>\n      <td>74ASZWbe4lXaubB36ztrGX</td>\n      <td>55</td>\n    </tr>\n    <tr>\n      <th>7987</th>\n      <td>7jmTilWYlKOuavFfmQAcu6</td>\n      <td>51</td>\n    </tr>\n    <tr>\n      <th>...</th>\n      <td>...</td>\n      <td>...</td>\n    </tr>\n    <tr>\n      <th>3764</th>\n      <td>3WKTiixhkaWRexRUs3GKBw</td>\n      <td>1</td>\n    </tr>\n    <tr>\n      <th>3762</th>\n      <td>3WDUptC9KS6ZFNwkZipSlQ</td>\n      <td>1</td>\n    </tr>\n    <tr>\n      <th>3761</th>\n      <td>3W4xM5XYtUp4ifYYPVKVdk</td>\n      <td>1</td>\n    </tr>\n    <tr>\n      <th>3760</th>\n      <td>3W4wcU4rF0299ETmYdZ1tC</td>\n      <td>1</td>\n    </tr>\n    <tr>\n      <th>8257</th>\n      <td>7zmk5lkmCMVvfvwF3H8FWC</td>\n      <td>1</td>\n    </tr>\n  </tbody>\n</table>\n<p>8258 rows × 2 columns</p>\n</div>"
     },
     "execution_count": 3,
     "metadata": {},
     "output_type": "execute_result"
    }
   ],
   "source": [
    "# Group by 'id' and count occurrences of 'albumid'\n",
    "grouped = df_releases.groupby(\"artist_id\").agg({\"album_id\": \"count\"}).reset_index()\n",
    "\n",
    "# Sort by the count of 'albumid' in descending order\n",
    "sorted_df = grouped.sort_values(by=\"album_id\", ascending=False)\n",
    "sorted_df"
   ],
   "metadata": {
    "collapsed": false,
    "ExecuteTime": {
     "end_time": "2024-04-09T11:42:01.847284400Z",
     "start_time": "2024-04-09T11:42:01.716287200Z"
    }
   },
   "id": "c0022fbd39d166ad"
  },
  {
   "cell_type": "code",
   "execution_count": 4,
   "outputs": [
    {
     "data": {
      "text/plain": "                    artist_id  nr_genres\n0      66CXWjxzNUsdJxJ2JdwvnR          3\n1      26VFTg2z8YR0cCuwLzESi2          6\n2      0Y5tJX1MQlPlqiwlOH1tJY          3\n3      246dkjvS1zLTtiykXe5h60          3\n4      1zNqQNIdeOUZHb8zbZRFMX          1\n...                       ...        ...\n11513  7vyRisgvM6Wm0Pnp0qXx6m          1\n11514  2Uh4UmiQhrrElbrvJVH0dT          0\n11515  1VGFS4UGLOAxlMGqzcqHG1          0\n11516  3Se8xpgCBmfXVnZqRSRRH9          0\n11517  45d3pteh2TnzUMMl27J4MY          0\n\n[11518 rows x 2 columns]",
      "text/html": "<div>\n<style scoped>\n    .dataframe tbody tr th:only-of-type {\n        vertical-align: middle;\n    }\n\n    .dataframe tbody tr th {\n        vertical-align: top;\n    }\n\n    .dataframe thead th {\n        text-align: right;\n    }\n</style>\n<table border=\"1\" class=\"dataframe\">\n  <thead>\n    <tr style=\"text-align: right;\">\n      <th></th>\n      <th>artist_id</th>\n      <th>nr_genres</th>\n    </tr>\n  </thead>\n  <tbody>\n    <tr>\n      <th>0</th>\n      <td>66CXWjxzNUsdJxJ2JdwvnR</td>\n      <td>3</td>\n    </tr>\n    <tr>\n      <th>1</th>\n      <td>26VFTg2z8YR0cCuwLzESi2</td>\n      <td>6</td>\n    </tr>\n    <tr>\n      <th>2</th>\n      <td>0Y5tJX1MQlPlqiwlOH1tJY</td>\n      <td>3</td>\n    </tr>\n    <tr>\n      <th>3</th>\n      <td>246dkjvS1zLTtiykXe5h60</td>\n      <td>3</td>\n    </tr>\n    <tr>\n      <th>4</th>\n      <td>1zNqQNIdeOUZHb8zbZRFMX</td>\n      <td>1</td>\n    </tr>\n    <tr>\n      <th>...</th>\n      <td>...</td>\n      <td>...</td>\n    </tr>\n    <tr>\n      <th>11513</th>\n      <td>7vyRisgvM6Wm0Pnp0qXx6m</td>\n      <td>1</td>\n    </tr>\n    <tr>\n      <th>11514</th>\n      <td>2Uh4UmiQhrrElbrvJVH0dT</td>\n      <td>0</td>\n    </tr>\n    <tr>\n      <th>11515</th>\n      <td>1VGFS4UGLOAxlMGqzcqHG1</td>\n      <td>0</td>\n    </tr>\n    <tr>\n      <th>11516</th>\n      <td>3Se8xpgCBmfXVnZqRSRRH9</td>\n      <td>0</td>\n    </tr>\n    <tr>\n      <th>11517</th>\n      <td>45d3pteh2TnzUMMl27J4MY</td>\n      <td>0</td>\n    </tr>\n  </tbody>\n</table>\n<p>11518 rows × 2 columns</p>\n</div>"
     },
     "execution_count": 4,
     "metadata": {},
     "output_type": "execute_result"
    }
   ],
   "source": [
    "df_artists= pd.read_csv(\"../../MusicOSet/musicoset_metadata/artists.csv\", sep=\"\\t\")\n",
    "df_artists[\"nr_genres\"] = df_artists[\"genres\"].apply(lambda x: len(eval(x)))\n",
    "df_artists = df_artists[[\"artist_id\", 'nr_genres']]\n",
    "df_artists"
   ],
   "metadata": {
    "collapsed": false,
    "ExecuteTime": {
     "end_time": "2024-04-09T11:42:02.025284400Z",
     "start_time": "2024-04-09T11:42:01.749285700Z"
    }
   },
   "id": "45b4a1fc0989ae2f"
  },
  {
   "cell_type": "code",
   "execution_count": 5,
   "outputs": [
    {
     "data": {
      "text/plain": "                  Spotify ID  nr_albums\n0     001aJOc7CSQVo3XzoLG4DK          1\n1     003kZCrZhoxCckVJ2jCiJC          1\n2     00FQb4jTyendYWaN8pK0wa          5\n3     00Nnsh2ykMBYnCDsSFGXSY         10\n4     00YTqRClk82aMchQQpYMd5          3\n...                      ...        ...\n8253  7zYGAXxAaq15C9eM29M8Fj          1\n8254  7zeHJIIfNStVfxlbT72UwY          4\n8255  7zfhej6FnVXN9LIXs6dcoK          9\n8256  7zgtJuRm0JcJpPQRjCgXT7          1\n8257  7zmk5lkmCMVvfvwF3H8FWC          1\n\n[8258 rows x 2 columns]",
      "text/html": "<div>\n<style scoped>\n    .dataframe tbody tr th:only-of-type {\n        vertical-align: middle;\n    }\n\n    .dataframe tbody tr th {\n        vertical-align: top;\n    }\n\n    .dataframe thead th {\n        text-align: right;\n    }\n</style>\n<table border=\"1\" class=\"dataframe\">\n  <thead>\n    <tr style=\"text-align: right;\">\n      <th></th>\n      <th>Spotify ID</th>\n      <th>nr_albums</th>\n    </tr>\n  </thead>\n  <tbody>\n    <tr>\n      <th>0</th>\n      <td>001aJOc7CSQVo3XzoLG4DK</td>\n      <td>1</td>\n    </tr>\n    <tr>\n      <th>1</th>\n      <td>003kZCrZhoxCckVJ2jCiJC</td>\n      <td>1</td>\n    </tr>\n    <tr>\n      <th>2</th>\n      <td>00FQb4jTyendYWaN8pK0wa</td>\n      <td>5</td>\n    </tr>\n    <tr>\n      <th>3</th>\n      <td>00Nnsh2ykMBYnCDsSFGXSY</td>\n      <td>10</td>\n    </tr>\n    <tr>\n      <th>4</th>\n      <td>00YTqRClk82aMchQQpYMd5</td>\n      <td>3</td>\n    </tr>\n    <tr>\n      <th>...</th>\n      <td>...</td>\n      <td>...</td>\n    </tr>\n    <tr>\n      <th>8253</th>\n      <td>7zYGAXxAaq15C9eM29M8Fj</td>\n      <td>1</td>\n    </tr>\n    <tr>\n      <th>8254</th>\n      <td>7zeHJIIfNStVfxlbT72UwY</td>\n      <td>4</td>\n    </tr>\n    <tr>\n      <th>8255</th>\n      <td>7zfhej6FnVXN9LIXs6dcoK</td>\n      <td>9</td>\n    </tr>\n    <tr>\n      <th>8256</th>\n      <td>7zgtJuRm0JcJpPQRjCgXT7</td>\n      <td>1</td>\n    </tr>\n    <tr>\n      <th>8257</th>\n      <td>7zmk5lkmCMVvfvwF3H8FWC</td>\n      <td>1</td>\n    </tr>\n  </tbody>\n</table>\n<p>8258 rows × 2 columns</p>\n</div>"
     },
     "execution_count": 5,
     "metadata": {},
     "output_type": "execute_result"
    }
   ],
   "source": [
    "# Rename the \"artist_id\" column to \"spotify_id\"\n",
    "grouped.rename(columns={\"artist_id\": \"Spotify ID\", \"album_id\": \"nr_albums\"}, inplace=True)\n",
    "\n",
    "grouped"
   ],
   "metadata": {
    "collapsed": false,
    "ExecuteTime": {
     "end_time": "2024-04-09T11:42:02.049284600Z",
     "start_time": "2024-04-09T11:42:01.906285700Z"
    }
   },
   "id": "505ef346781b1ed0"
  },
  {
   "cell_type": "code",
   "execution_count": 6,
   "outputs": [
    {
     "data": {
      "text/plain": "      nr_albums               artist_id  nr_genres\n0             1  001aJOc7CSQVo3XzoLG4DK          8\n1             1  003kZCrZhoxCckVJ2jCiJC          1\n2             5  00FQb4jTyendYWaN8pK0wa          2\n3            10  00Nnsh2ykMBYnCDsSFGXSY          2\n4             3  00YTqRClk82aMchQQpYMd5          4\n...         ...                     ...        ...\n7958          1  7zYGAXxAaq15C9eM29M8Fj          5\n7959          4  7zeHJIIfNStVfxlbT72UwY          5\n7960          9  7zfhej6FnVXN9LIXs6dcoK          9\n7961          1  7zgtJuRm0JcJpPQRjCgXT7          4\n7962          1  7zmk5lkmCMVvfvwF3H8FWC          6\n\n[7963 rows x 3 columns]",
      "text/html": "<div>\n<style scoped>\n    .dataframe tbody tr th:only-of-type {\n        vertical-align: middle;\n    }\n\n    .dataframe tbody tr th {\n        vertical-align: top;\n    }\n\n    .dataframe thead th {\n        text-align: right;\n    }\n</style>\n<table border=\"1\" class=\"dataframe\">\n  <thead>\n    <tr style=\"text-align: right;\">\n      <th></th>\n      <th>nr_albums</th>\n      <th>artist_id</th>\n      <th>nr_genres</th>\n    </tr>\n  </thead>\n  <tbody>\n    <tr>\n      <th>0</th>\n      <td>1</td>\n      <td>001aJOc7CSQVo3XzoLG4DK</td>\n      <td>8</td>\n    </tr>\n    <tr>\n      <th>1</th>\n      <td>1</td>\n      <td>003kZCrZhoxCckVJ2jCiJC</td>\n      <td>1</td>\n    </tr>\n    <tr>\n      <th>2</th>\n      <td>5</td>\n      <td>00FQb4jTyendYWaN8pK0wa</td>\n      <td>2</td>\n    </tr>\n    <tr>\n      <th>3</th>\n      <td>10</td>\n      <td>00Nnsh2ykMBYnCDsSFGXSY</td>\n      <td>2</td>\n    </tr>\n    <tr>\n      <th>4</th>\n      <td>3</td>\n      <td>00YTqRClk82aMchQQpYMd5</td>\n      <td>4</td>\n    </tr>\n    <tr>\n      <th>...</th>\n      <td>...</td>\n      <td>...</td>\n      <td>...</td>\n    </tr>\n    <tr>\n      <th>7958</th>\n      <td>1</td>\n      <td>7zYGAXxAaq15C9eM29M8Fj</td>\n      <td>5</td>\n    </tr>\n    <tr>\n      <th>7959</th>\n      <td>4</td>\n      <td>7zeHJIIfNStVfxlbT72UwY</td>\n      <td>5</td>\n    </tr>\n    <tr>\n      <th>7960</th>\n      <td>9</td>\n      <td>7zfhej6FnVXN9LIXs6dcoK</td>\n      <td>9</td>\n    </tr>\n    <tr>\n      <th>7961</th>\n      <td>1</td>\n      <td>7zgtJuRm0JcJpPQRjCgXT7</td>\n      <td>4</td>\n    </tr>\n    <tr>\n      <th>7962</th>\n      <td>1</td>\n      <td>7zmk5lkmCMVvfvwF3H8FWC</td>\n      <td>6</td>\n    </tr>\n  </tbody>\n</table>\n<p>7963 rows × 3 columns</p>\n</div>"
     },
     "execution_count": 6,
     "metadata": {},
     "output_type": "execute_result"
    }
   ],
   "source": [
    "df_artists_features_base = pd.merge(grouped, df_artists, left_on=\"Spotify ID\", right_on=\"artist_id\")\n",
    "df_artists_features_base.drop(columns=\"Spotify ID\", inplace=True)\n",
    "df_artists_features_base"
   ],
   "metadata": {
    "collapsed": false,
    "ExecuteTime": {
     "end_time": "2024-04-09T11:42:02.054285800Z",
     "start_time": "2024-04-09T11:42:01.921287800Z"
    }
   },
   "id": "7548bb5b4ccf01c5"
  },
  {
   "cell_type": "markdown",
   "source": [
    "## Album Features:"
   ],
   "metadata": {
    "collapsed": false
   },
   "id": "b2c01f9672a684de"
  },
  {
   "cell_type": "code",
   "execution_count": 7,
   "outputs": [
    {
     "data": {
      "text/plain": "                      song_id                album_id\n0      3e9HZxeyfWwjeyPAMmWSSQ  2fYhqwDWXjbpjaIJPEfKFw\n1      5p7ujcrUXASCNwRaWNHR1C  0zzrCTzvL4ZmR42xF46Afm\n2      2xLMifQCjDGFmkHkpNLD9h  41GuZcammIkupMPKH2OJ6I\n3      3KkXRkHbMCARz0aVfEt68P  35s58BRTGAEWztPo9WqCIs\n4      1rqqCSm0Qe4I9rUvWncaom  6ApYSpXF8GxZAgBTHDzYge\n...                       ...                     ...\n20400  0yZsBLZVU2HTMlMqYvWevJ  5UoKanu6wcBQhwfPSDHYVw\n20401  30342v7I9sUoNC0Djnu1mW  1bZHbHtUvjGqUOKNla4lo0\n20402  5rkgbGIOTBGlKTAawWb06X  3GmCXW10kLxmZrEY0JpRlw\n20403  2MVPsa4S4r7Ii5lMh85E03  0UiVuqXa69zXqql0GoXH2h\n20404  7wGbzk3aeGSpnsK2AQ7vzA  3pBArpt3QcnvVj58hl6Ghe\n\n[20405 rows x 2 columns]",
      "text/html": "<div>\n<style scoped>\n    .dataframe tbody tr th:only-of-type {\n        vertical-align: middle;\n    }\n\n    .dataframe tbody tr th {\n        vertical-align: top;\n    }\n\n    .dataframe thead th {\n        text-align: right;\n    }\n</style>\n<table border=\"1\" class=\"dataframe\">\n  <thead>\n    <tr style=\"text-align: right;\">\n      <th></th>\n      <th>song_id</th>\n      <th>album_id</th>\n    </tr>\n  </thead>\n  <tbody>\n    <tr>\n      <th>0</th>\n      <td>3e9HZxeyfWwjeyPAMmWSSQ</td>\n      <td>2fYhqwDWXjbpjaIJPEfKFw</td>\n    </tr>\n    <tr>\n      <th>1</th>\n      <td>5p7ujcrUXASCNwRaWNHR1C</td>\n      <td>0zzrCTzvL4ZmR42xF46Afm</td>\n    </tr>\n    <tr>\n      <th>2</th>\n      <td>2xLMifQCjDGFmkHkpNLD9h</td>\n      <td>41GuZcammIkupMPKH2OJ6I</td>\n    </tr>\n    <tr>\n      <th>3</th>\n      <td>3KkXRkHbMCARz0aVfEt68P</td>\n      <td>35s58BRTGAEWztPo9WqCIs</td>\n    </tr>\n    <tr>\n      <th>4</th>\n      <td>1rqqCSm0Qe4I9rUvWncaom</td>\n      <td>6ApYSpXF8GxZAgBTHDzYge</td>\n    </tr>\n    <tr>\n      <th>...</th>\n      <td>...</td>\n      <td>...</td>\n    </tr>\n    <tr>\n      <th>20400</th>\n      <td>0yZsBLZVU2HTMlMqYvWevJ</td>\n      <td>5UoKanu6wcBQhwfPSDHYVw</td>\n    </tr>\n    <tr>\n      <th>20401</th>\n      <td>30342v7I9sUoNC0Djnu1mW</td>\n      <td>1bZHbHtUvjGqUOKNla4lo0</td>\n    </tr>\n    <tr>\n      <th>20402</th>\n      <td>5rkgbGIOTBGlKTAawWb06X</td>\n      <td>3GmCXW10kLxmZrEY0JpRlw</td>\n    </tr>\n    <tr>\n      <th>20403</th>\n      <td>2MVPsa4S4r7Ii5lMh85E03</td>\n      <td>0UiVuqXa69zXqql0GoXH2h</td>\n    </tr>\n    <tr>\n      <th>20404</th>\n      <td>7wGbzk3aeGSpnsK2AQ7vzA</td>\n      <td>3pBArpt3QcnvVj58hl6Ghe</td>\n    </tr>\n  </tbody>\n</table>\n<p>20405 rows × 2 columns</p>\n</div>"
     },
     "execution_count": 7,
     "metadata": {},
     "output_type": "execute_result"
    }
   ],
   "source": [
    "df_tracks = pd.read_csv(\"../../MusicOSet/musicoset_metadata/tracks.csv\", sep=\"\\t\")\n",
    "#df_tracks.drop(columns=[\"album_id\"], inplace=True)\n",
    "df_tracks = df_tracks[[\"song_id\", \"album_id\"]]\n",
    "df_tracks"
   ],
   "metadata": {
    "collapsed": false,
    "ExecuteTime": {
     "end_time": "2024-04-09T11:42:02.076285800Z",
     "start_time": "2024-04-09T11:42:01.954289300Z"
    }
   },
   "id": "87ff794a6a25e4a2"
  },
  {
   "cell_type": "code",
   "execution_count": 8,
   "outputs": [
    {
     "data": {
      "text/plain": "                     album_id  total_tracks   album_type\n0      5n1GSzC1Reao29ScnpLYqp            16        album\n1      6UYZEYjpN1DYRW0kqFy9ZE            19        album\n2      7uVimUILdzSZG4KKKWToq0            20        album\n3      35s58BRTGAEWztPo9WqCIs            13  compilation\n4      41GuZcammIkupMPKH2OJ6I            17        album\n...                       ...           ...          ...\n26514  6AKvqcMFVMS7qz1QCOYvdd             6        album\n26515  0Gt9RgFYh2jMvv5ix5lCA1             1       single\n26516  5Cw32z9ICOrrbS8Q5JcpDv            15        album\n26517  0B9f1PqUNLUEkNHxJPrtbR            12        album\n26518  6wf7Rh10EoTaqZMdN2xRlI             1       single\n\n[26519 rows x 3 columns]",
      "text/html": "<div>\n<style scoped>\n    .dataframe tbody tr th:only-of-type {\n        vertical-align: middle;\n    }\n\n    .dataframe tbody tr th {\n        vertical-align: top;\n    }\n\n    .dataframe thead th {\n        text-align: right;\n    }\n</style>\n<table border=\"1\" class=\"dataframe\">\n  <thead>\n    <tr style=\"text-align: right;\">\n      <th></th>\n      <th>album_id</th>\n      <th>total_tracks</th>\n      <th>album_type</th>\n    </tr>\n  </thead>\n  <tbody>\n    <tr>\n      <th>0</th>\n      <td>5n1GSzC1Reao29ScnpLYqp</td>\n      <td>16</td>\n      <td>album</td>\n    </tr>\n    <tr>\n      <th>1</th>\n      <td>6UYZEYjpN1DYRW0kqFy9ZE</td>\n      <td>19</td>\n      <td>album</td>\n    </tr>\n    <tr>\n      <th>2</th>\n      <td>7uVimUILdzSZG4KKKWToq0</td>\n      <td>20</td>\n      <td>album</td>\n    </tr>\n    <tr>\n      <th>3</th>\n      <td>35s58BRTGAEWztPo9WqCIs</td>\n      <td>13</td>\n      <td>compilation</td>\n    </tr>\n    <tr>\n      <th>4</th>\n      <td>41GuZcammIkupMPKH2OJ6I</td>\n      <td>17</td>\n      <td>album</td>\n    </tr>\n    <tr>\n      <th>...</th>\n      <td>...</td>\n      <td>...</td>\n      <td>...</td>\n    </tr>\n    <tr>\n      <th>26514</th>\n      <td>6AKvqcMFVMS7qz1QCOYvdd</td>\n      <td>6</td>\n      <td>album</td>\n    </tr>\n    <tr>\n      <th>26515</th>\n      <td>0Gt9RgFYh2jMvv5ix5lCA1</td>\n      <td>1</td>\n      <td>single</td>\n    </tr>\n    <tr>\n      <th>26516</th>\n      <td>5Cw32z9ICOrrbS8Q5JcpDv</td>\n      <td>15</td>\n      <td>album</td>\n    </tr>\n    <tr>\n      <th>26517</th>\n      <td>0B9f1PqUNLUEkNHxJPrtbR</td>\n      <td>12</td>\n      <td>album</td>\n    </tr>\n    <tr>\n      <th>26518</th>\n      <td>6wf7Rh10EoTaqZMdN2xRlI</td>\n      <td>1</td>\n      <td>single</td>\n    </tr>\n  </tbody>\n</table>\n<p>26519 rows × 3 columns</p>\n</div>"
     },
     "execution_count": 8,
     "metadata": {},
     "output_type": "execute_result"
    }
   ],
   "source": [
    "df_albums =  pd.read_csv(\"../../MusicOSet/musicoset_metadata/albums.csv\", sep=\"\\t\")\n",
    "df_albums = df_albums[[\"album_id\", \"total_tracks\", \"album_type\"]]\n",
    "df_albums"
   ],
   "metadata": {
    "collapsed": false,
    "ExecuteTime": {
     "end_time": "2024-04-09T11:42:02.357284900Z",
     "start_time": "2024-04-09T11:42:01.999285600Z"
    }
   },
   "id": "f947a31979dff3b9"
  },
  {
   "cell_type": "code",
   "execution_count": 9,
   "outputs": [
    {
     "data": {
      "text/plain": "       total_tracks   album_type                 song_id\n0                16        album  2MShy1GSSgbmGUxADNIao5\n1                16        album  6Gg25EZRbQd4IHiJz2KSY0\n2                16        album  1XJBDDpeuZaj5fvmwhdIMw\n3                16        album  7HdNB8nvJOBwHa8hIkzvxp\n4                19        album  3EQ9QP2E7wjYQba8OSPBst\n...             ...          ...                     ...\n11295            26  compilation  2pIhOwhpKagalKdP89hMEo\n11296            26  compilation  7g599RRZDUJ4J6kCAh7JbS\n11297            26  compilation  7mp74IKoo9oaES5JwBWBWO\n11298            26  compilation  1O44CWBo8UGvxj4QN4CJtb\n11299            26  compilation  0WhJxcxyQOIK9iaH9GmpKv\n\n[11300 rows x 3 columns]",
      "text/html": "<div>\n<style scoped>\n    .dataframe tbody tr th:only-of-type {\n        vertical-align: middle;\n    }\n\n    .dataframe tbody tr th {\n        vertical-align: top;\n    }\n\n    .dataframe thead th {\n        text-align: right;\n    }\n</style>\n<table border=\"1\" class=\"dataframe\">\n  <thead>\n    <tr style=\"text-align: right;\">\n      <th></th>\n      <th>total_tracks</th>\n      <th>album_type</th>\n      <th>song_id</th>\n    </tr>\n  </thead>\n  <tbody>\n    <tr>\n      <th>0</th>\n      <td>16</td>\n      <td>album</td>\n      <td>2MShy1GSSgbmGUxADNIao5</td>\n    </tr>\n    <tr>\n      <th>1</th>\n      <td>16</td>\n      <td>album</td>\n      <td>6Gg25EZRbQd4IHiJz2KSY0</td>\n    </tr>\n    <tr>\n      <th>2</th>\n      <td>16</td>\n      <td>album</td>\n      <td>1XJBDDpeuZaj5fvmwhdIMw</td>\n    </tr>\n    <tr>\n      <th>3</th>\n      <td>16</td>\n      <td>album</td>\n      <td>7HdNB8nvJOBwHa8hIkzvxp</td>\n    </tr>\n    <tr>\n      <th>4</th>\n      <td>19</td>\n      <td>album</td>\n      <td>3EQ9QP2E7wjYQba8OSPBst</td>\n    </tr>\n    <tr>\n      <th>...</th>\n      <td>...</td>\n      <td>...</td>\n      <td>...</td>\n    </tr>\n    <tr>\n      <th>11295</th>\n      <td>26</td>\n      <td>compilation</td>\n      <td>2pIhOwhpKagalKdP89hMEo</td>\n    </tr>\n    <tr>\n      <th>11296</th>\n      <td>26</td>\n      <td>compilation</td>\n      <td>7g599RRZDUJ4J6kCAh7JbS</td>\n    </tr>\n    <tr>\n      <th>11297</th>\n      <td>26</td>\n      <td>compilation</td>\n      <td>7mp74IKoo9oaES5JwBWBWO</td>\n    </tr>\n    <tr>\n      <th>11298</th>\n      <td>26</td>\n      <td>compilation</td>\n      <td>1O44CWBo8UGvxj4QN4CJtb</td>\n    </tr>\n    <tr>\n      <th>11299</th>\n      <td>26</td>\n      <td>compilation</td>\n      <td>0WhJxcxyQOIK9iaH9GmpKv</td>\n    </tr>\n  </tbody>\n</table>\n<p>11300 rows × 3 columns</p>\n</div>"
     },
     "execution_count": 9,
     "metadata": {},
     "output_type": "execute_result"
    }
   ],
   "source": [
    "df_album_features = pd.merge(df_albums, df_tracks)\n",
    "df_album_features.drop(columns=\"album_id\", inplace=True)\n",
    "df_album_features"
   ],
   "metadata": {
    "collapsed": false,
    "ExecuteTime": {
     "end_time": "2024-04-09T11:42:02.358287900Z",
     "start_time": "2024-04-09T11:42:02.126287200Z"
    }
   },
   "id": "a1bcd80837737c5a"
  },
  {
   "cell_type": "markdown",
   "source": [
    "## Song Features Extrinsic:"
   ],
   "metadata": {
    "collapsed": false
   },
   "id": "36d1011d3ea49d02"
  },
  {
   "cell_type": "code",
   "execution_count": 10,
   "outputs": [
    {
     "name": "stdout",
     "output_type": "stream",
     "text": [
      "20402\n"
     ]
    },
    {
     "data": {
      "text/plain": "                       song_id  years_on_charts\n0       3e9HZxeyfWwjeyPAMmWSSQ         0.134247\n1       5p7ujcrUXASCNwRaWNHR1C         0.210959\n2       2xLMifQCjDGFmkHkpNLD9h         0.383562\n3       3KkXRkHbMCARz0aVfEt68P         0.172603\n4       1rqqCSm0Qe4I9rUvWncaom         0.383562\n...                        ...              ...\n250353  2vICLqWWTaFr33j97i8esb         0.153425\n250355  3h681qZSmhBOciAXLl1nsA         0.287671\n250365  7EGlmAjnE6Wri26haVmwVN         0.134247\n250372  33dpZRUyyjAvGkS8xDJkkO         0.134247\n250389  7Gk1QKi2BAZCnrYlrYEDjC         0.076712\n\n[20402 rows x 2 columns]",
      "text/html": "<div>\n<style scoped>\n    .dataframe tbody tr th:only-of-type {\n        vertical-align: middle;\n    }\n\n    .dataframe tbody tr th {\n        vertical-align: top;\n    }\n\n    .dataframe thead th {\n        text-align: right;\n    }\n</style>\n<table border=\"1\" class=\"dataframe\">\n  <thead>\n    <tr style=\"text-align: right;\">\n      <th></th>\n      <th>song_id</th>\n      <th>years_on_charts</th>\n    </tr>\n  </thead>\n  <tbody>\n    <tr>\n      <th>0</th>\n      <td>3e9HZxeyfWwjeyPAMmWSSQ</td>\n      <td>0.134247</td>\n    </tr>\n    <tr>\n      <th>1</th>\n      <td>5p7ujcrUXASCNwRaWNHR1C</td>\n      <td>0.210959</td>\n    </tr>\n    <tr>\n      <th>2</th>\n      <td>2xLMifQCjDGFmkHkpNLD9h</td>\n      <td>0.383562</td>\n    </tr>\n    <tr>\n      <th>3</th>\n      <td>3KkXRkHbMCARz0aVfEt68P</td>\n      <td>0.172603</td>\n    </tr>\n    <tr>\n      <th>4</th>\n      <td>1rqqCSm0Qe4I9rUvWncaom</td>\n      <td>0.383562</td>\n    </tr>\n    <tr>\n      <th>...</th>\n      <td>...</td>\n      <td>...</td>\n    </tr>\n    <tr>\n      <th>250353</th>\n      <td>2vICLqWWTaFr33j97i8esb</td>\n      <td>0.153425</td>\n    </tr>\n    <tr>\n      <th>250355</th>\n      <td>3h681qZSmhBOciAXLl1nsA</td>\n      <td>0.287671</td>\n    </tr>\n    <tr>\n      <th>250365</th>\n      <td>7EGlmAjnE6Wri26haVmwVN</td>\n      <td>0.134247</td>\n    </tr>\n    <tr>\n      <th>250372</th>\n      <td>33dpZRUyyjAvGkS8xDJkkO</td>\n      <td>0.134247</td>\n    </tr>\n    <tr>\n      <th>250389</th>\n      <td>7Gk1QKi2BAZCnrYlrYEDjC</td>\n      <td>0.076712</td>\n    </tr>\n  </tbody>\n</table>\n<p>20402 rows × 2 columns</p>\n</div>"
     },
     "execution_count": 10,
     "metadata": {},
     "output_type": "execute_result"
    }
   ],
   "source": [
    "df_song_chart = pd.read_csv(\"../../MusicOSet/musicoset_popularity/song_chart.csv\", sep=\"\\t\")\n",
    "print(df_song_chart[\"song_id\"].nunique())\n",
    "df_song_chart.drop(df_song_chart.columns.difference(['song_id', 'peak_position', \"weeks_on_chart\"]), axis=1, inplace=True)\n",
    "df_song_chart[\"peak_position\"] = df_song_chart.groupby(\"song_id\")[\"peak_position\"].transform(\"min\")\n",
    "df_song_chart[\"years_on_charts\"] = df_song_chart.groupby(\"song_id\")[\"weeks_on_chart\"].transform(\"max\").apply(lambda x: x/(365/7))\n",
    "df_song_chart.drop(columns=[\"weeks_on_chart\", 'peak_position'], inplace=True)\n",
    "df_song_chart.drop_duplicates(subset=['song_id'], inplace=True)\n",
    "df_song_chart"
   ],
   "metadata": {
    "collapsed": false,
    "ExecuteTime": {
     "end_time": "2024-04-09T11:42:02.549288800Z",
     "start_time": "2024-04-09T11:42:02.156286Z"
    }
   },
   "id": "bc2ee3b112c62539"
  },
  {
   "cell_type": "markdown",
   "source": [
    "## Merging:"
   ],
   "metadata": {
    "collapsed": false
   },
   "id": "21bbb90452562944"
  },
  {
   "cell_type": "code",
   "execution_count": 11,
   "outputs": [
    {
     "data": {
      "text/plain": "                       song_id  \\\n0       7kXUEJmfvRXbzxOC0pHQgb   \n1       7A131DrpfbWAfNJLrxikwf   \n2       4SRjOJm5AjO3fxXpZSTEBb   \n3       592dtCLAyLQdUallLhJinO   \n4       2hMAApqyXl7nf2s8dQ6BTv   \n...                        ...   \n911022  5ke0edZBlwRYu01wdej6xq   \n911023  12kc7hUJKpArFQurhlNeNW   \n911024  0lej8CemYKkWVHg77Xe1ky   \n911025  7goArBQdsalqclSyaTywAS   \n911026  6Fh2QgjCxL96dA3Gtpfr4Q   \n\n                                                song_name  song_popularity  \\\n0                          I Can't Believe I'm Losing You              5.0   \n1                                       Top Of The Stairs             26.0   \n2                                   Never Crossed My Mind             20.0   \n3                                              Daddy Cool              1.0   \n4                                     Shame, Shame, Shame              0.0   \n...                                                   ...              ...   \n911022                                         Let Her In              4.0   \n911023                             Stop and Think It Over              1.0   \n911024           A Man Holdin' on (To a Woman Lettin’ Go)             14.0   \n911025                                   Shimmy Shimmy Ya              7.0   \n911026  One Sweet Day (16-Bit Mariah Carey & Boyz II M...              0.0   \n\n        explicit      song_type  track_number  num_artists  \\\n0          False           Solo          12.0          1.0   \n1          False           Solo           4.0          1.0   \n2          False           Solo           3.0          1.0   \n3          False           Solo           6.0          1.0   \n4          False           Solo          15.0          1.0   \n...          ...            ...           ...          ...   \n911022     False           Solo           7.0          1.0   \n911023     False           Solo           9.0          1.0   \n911024     False  Collaboration           7.0          2.0   \n911025     False           Solo           8.0          1.0   \n911026     False           Solo          27.0          1.0   \n\n        num_available_markets release_date  duration_ms  ...         name_y  \\\n0                        79.0   1995-01-01     162667.0  ...            NaN   \n1                         2.0   1995-01-01     271307.0  ...            NaN   \n2                         2.0   1995-01-01     242027.0  ...            NaN   \n3                        79.0   1995-01-01     201307.0  ...            NaN   \n4                        79.0   1995-01-01     231973.0  ...            NaN   \n...                       ...          ...          ...  ...            ...   \n911022                   79.0   2019-08-23     183600.0  ...            NaN   \n911023                   79.0   2019-08-23     154413.0  ...            NaN   \n911024                   79.0   2019-08-23     231898.0  ...  Anita Cochran   \n911025                   78.0   2019-08-23     161200.0  ...            NaN   \n911026                   79.0   2019-08-26     260910.0  ...            NaN   \n\n        betweenesscentrality_y  closnesscentrality_y  clustering_y  degree_y  \\\n0                          0.0              0.000000           0.0       0.0   \n1                          0.0              0.000000           0.0       0.0   \n2                          0.0              0.000000           0.0       0.0   \n3                          0.0              0.000000           0.0       0.0   \n4                          0.0              0.000000           0.0       0.0   \n...                        ...                   ...           ...       ...   \n911022                     0.0              0.000000           0.0       0.0   \n911023                     0.0              0.000000           0.0       0.0   \n911024                     0.0              0.666667           0.0       1.0   \n911025                     0.0              0.000000           0.0       0.0   \n911026                     0.0              0.000000           0.0       0.0   \n\n        eccentricity_y  eigencentrality_y  weighted degree_y  Cluster_y  \\\n0                  0.0                0.0                0.0       -1.0   \n1                  0.0                0.0                0.0       -1.0   \n2                  0.0                0.0                0.0       -1.0   \n3                  0.0                0.0                0.0       -1.0   \n4                  0.0                0.0                0.0       -1.0   \n...                ...                ...                ...        ...   \n911022             0.0                0.0                0.0       -1.0   \n911023             0.0                0.0                0.0       -1.0   \n911024             2.0                0.5                2.0        2.0   \n911025             0.0                0.0                0.0       -1.0   \n911026             0.0                0.0                0.0       -1.0   \n\n          profile_y  \n0          No Match  \n1          No Match  \n2          No Match  \n3          No Match  \n4          No Match  \n...             ...  \n911022     No Match  \n911023     No Match  \n911024  1A 2A 3A 4A  \n911025     No Match  \n911026     No Match  \n\n[911027 rows x 46 columns]",
      "text/html": "<div>\n<style scoped>\n    .dataframe tbody tr th:only-of-type {\n        vertical-align: middle;\n    }\n\n    .dataframe tbody tr th {\n        vertical-align: top;\n    }\n\n    .dataframe thead th {\n        text-align: right;\n    }\n</style>\n<table border=\"1\" class=\"dataframe\">\n  <thead>\n    <tr style=\"text-align: right;\">\n      <th></th>\n      <th>song_id</th>\n      <th>song_name</th>\n      <th>song_popularity</th>\n      <th>explicit</th>\n      <th>song_type</th>\n      <th>track_number</th>\n      <th>num_artists</th>\n      <th>num_available_markets</th>\n      <th>release_date</th>\n      <th>duration_ms</th>\n      <th>...</th>\n      <th>name_y</th>\n      <th>betweenesscentrality_y</th>\n      <th>closnesscentrality_y</th>\n      <th>clustering_y</th>\n      <th>degree_y</th>\n      <th>eccentricity_y</th>\n      <th>eigencentrality_y</th>\n      <th>weighted degree_y</th>\n      <th>Cluster_y</th>\n      <th>profile_y</th>\n    </tr>\n  </thead>\n  <tbody>\n    <tr>\n      <th>0</th>\n      <td>7kXUEJmfvRXbzxOC0pHQgb</td>\n      <td>I Can't Believe I'm Losing You</td>\n      <td>5.0</td>\n      <td>False</td>\n      <td>Solo</td>\n      <td>12.0</td>\n      <td>1.0</td>\n      <td>79.0</td>\n      <td>1995-01-01</td>\n      <td>162667.0</td>\n      <td>...</td>\n      <td>NaN</td>\n      <td>0.0</td>\n      <td>0.000000</td>\n      <td>0.0</td>\n      <td>0.0</td>\n      <td>0.0</td>\n      <td>0.0</td>\n      <td>0.0</td>\n      <td>-1.0</td>\n      <td>No Match</td>\n    </tr>\n    <tr>\n      <th>1</th>\n      <td>7A131DrpfbWAfNJLrxikwf</td>\n      <td>Top Of The Stairs</td>\n      <td>26.0</td>\n      <td>False</td>\n      <td>Solo</td>\n      <td>4.0</td>\n      <td>1.0</td>\n      <td>2.0</td>\n      <td>1995-01-01</td>\n      <td>271307.0</td>\n      <td>...</td>\n      <td>NaN</td>\n      <td>0.0</td>\n      <td>0.000000</td>\n      <td>0.0</td>\n      <td>0.0</td>\n      <td>0.0</td>\n      <td>0.0</td>\n      <td>0.0</td>\n      <td>-1.0</td>\n      <td>No Match</td>\n    </tr>\n    <tr>\n      <th>2</th>\n      <td>4SRjOJm5AjO3fxXpZSTEBb</td>\n      <td>Never Crossed My Mind</td>\n      <td>20.0</td>\n      <td>False</td>\n      <td>Solo</td>\n      <td>3.0</td>\n      <td>1.0</td>\n      <td>2.0</td>\n      <td>1995-01-01</td>\n      <td>242027.0</td>\n      <td>...</td>\n      <td>NaN</td>\n      <td>0.0</td>\n      <td>0.000000</td>\n      <td>0.0</td>\n      <td>0.0</td>\n      <td>0.0</td>\n      <td>0.0</td>\n      <td>0.0</td>\n      <td>-1.0</td>\n      <td>No Match</td>\n    </tr>\n    <tr>\n      <th>3</th>\n      <td>592dtCLAyLQdUallLhJinO</td>\n      <td>Daddy Cool</td>\n      <td>1.0</td>\n      <td>False</td>\n      <td>Solo</td>\n      <td>6.0</td>\n      <td>1.0</td>\n      <td>79.0</td>\n      <td>1995-01-01</td>\n      <td>201307.0</td>\n      <td>...</td>\n      <td>NaN</td>\n      <td>0.0</td>\n      <td>0.000000</td>\n      <td>0.0</td>\n      <td>0.0</td>\n      <td>0.0</td>\n      <td>0.0</td>\n      <td>0.0</td>\n      <td>-1.0</td>\n      <td>No Match</td>\n    </tr>\n    <tr>\n      <th>4</th>\n      <td>2hMAApqyXl7nf2s8dQ6BTv</td>\n      <td>Shame, Shame, Shame</td>\n      <td>0.0</td>\n      <td>False</td>\n      <td>Solo</td>\n      <td>15.0</td>\n      <td>1.0</td>\n      <td>79.0</td>\n      <td>1995-01-01</td>\n      <td>231973.0</td>\n      <td>...</td>\n      <td>NaN</td>\n      <td>0.0</td>\n      <td>0.000000</td>\n      <td>0.0</td>\n      <td>0.0</td>\n      <td>0.0</td>\n      <td>0.0</td>\n      <td>0.0</td>\n      <td>-1.0</td>\n      <td>No Match</td>\n    </tr>\n    <tr>\n      <th>...</th>\n      <td>...</td>\n      <td>...</td>\n      <td>...</td>\n      <td>...</td>\n      <td>...</td>\n      <td>...</td>\n      <td>...</td>\n      <td>...</td>\n      <td>...</td>\n      <td>...</td>\n      <td>...</td>\n      <td>...</td>\n      <td>...</td>\n      <td>...</td>\n      <td>...</td>\n      <td>...</td>\n      <td>...</td>\n      <td>...</td>\n      <td>...</td>\n      <td>...</td>\n      <td>...</td>\n    </tr>\n    <tr>\n      <th>911022</th>\n      <td>5ke0edZBlwRYu01wdej6xq</td>\n      <td>Let Her In</td>\n      <td>4.0</td>\n      <td>False</td>\n      <td>Solo</td>\n      <td>7.0</td>\n      <td>1.0</td>\n      <td>79.0</td>\n      <td>2019-08-23</td>\n      <td>183600.0</td>\n      <td>...</td>\n      <td>NaN</td>\n      <td>0.0</td>\n      <td>0.000000</td>\n      <td>0.0</td>\n      <td>0.0</td>\n      <td>0.0</td>\n      <td>0.0</td>\n      <td>0.0</td>\n      <td>-1.0</td>\n      <td>No Match</td>\n    </tr>\n    <tr>\n      <th>911023</th>\n      <td>12kc7hUJKpArFQurhlNeNW</td>\n      <td>Stop and Think It Over</td>\n      <td>1.0</td>\n      <td>False</td>\n      <td>Solo</td>\n      <td>9.0</td>\n      <td>1.0</td>\n      <td>79.0</td>\n      <td>2019-08-23</td>\n      <td>154413.0</td>\n      <td>...</td>\n      <td>NaN</td>\n      <td>0.0</td>\n      <td>0.000000</td>\n      <td>0.0</td>\n      <td>0.0</td>\n      <td>0.0</td>\n      <td>0.0</td>\n      <td>0.0</td>\n      <td>-1.0</td>\n      <td>No Match</td>\n    </tr>\n    <tr>\n      <th>911024</th>\n      <td>0lej8CemYKkWVHg77Xe1ky</td>\n      <td>A Man Holdin' on (To a Woman Lettin’ Go)</td>\n      <td>14.0</td>\n      <td>False</td>\n      <td>Collaboration</td>\n      <td>7.0</td>\n      <td>2.0</td>\n      <td>79.0</td>\n      <td>2019-08-23</td>\n      <td>231898.0</td>\n      <td>...</td>\n      <td>Anita Cochran</td>\n      <td>0.0</td>\n      <td>0.666667</td>\n      <td>0.0</td>\n      <td>1.0</td>\n      <td>2.0</td>\n      <td>0.5</td>\n      <td>2.0</td>\n      <td>2.0</td>\n      <td>1A 2A 3A 4A</td>\n    </tr>\n    <tr>\n      <th>911025</th>\n      <td>7goArBQdsalqclSyaTywAS</td>\n      <td>Shimmy Shimmy Ya</td>\n      <td>7.0</td>\n      <td>False</td>\n      <td>Solo</td>\n      <td>8.0</td>\n      <td>1.0</td>\n      <td>78.0</td>\n      <td>2019-08-23</td>\n      <td>161200.0</td>\n      <td>...</td>\n      <td>NaN</td>\n      <td>0.0</td>\n      <td>0.000000</td>\n      <td>0.0</td>\n      <td>0.0</td>\n      <td>0.0</td>\n      <td>0.0</td>\n      <td>0.0</td>\n      <td>-1.0</td>\n      <td>No Match</td>\n    </tr>\n    <tr>\n      <th>911026</th>\n      <td>6Fh2QgjCxL96dA3Gtpfr4Q</td>\n      <td>One Sweet Day (16-Bit Mariah Carey &amp; Boyz II M...</td>\n      <td>0.0</td>\n      <td>False</td>\n      <td>Solo</td>\n      <td>27.0</td>\n      <td>1.0</td>\n      <td>79.0</td>\n      <td>2019-08-26</td>\n      <td>260910.0</td>\n      <td>...</td>\n      <td>NaN</td>\n      <td>0.0</td>\n      <td>0.000000</td>\n      <td>0.0</td>\n      <td>0.0</td>\n      <td>0.0</td>\n      <td>0.0</td>\n      <td>0.0</td>\n      <td>-1.0</td>\n      <td>No Match</td>\n    </tr>\n  </tbody>\n</table>\n<p>911027 rows × 46 columns</p>\n</div>"
     },
     "execution_count": 11,
     "metadata": {},
     "output_type": "execute_result"
    }
   ],
   "source": [
    "df_prep_songs  ##auf welchen features genau mergen? auf allen möglichen?"
   ],
   "metadata": {
    "collapsed": false,
    "ExecuteTime": {
     "end_time": "2024-04-09T11:42:02.895286200Z",
     "start_time": "2024-04-09T11:42:02.441286300Z"
    }
   },
   "id": "ea1b737aa50c3766"
  },
  {
   "cell_type": "code",
   "execution_count": 12,
   "outputs": [
    {
     "data": {
      "text/plain": "                       song_id  \\\n0       7kXUEJmfvRXbzxOC0pHQgb   \n1       7A131DrpfbWAfNJLrxikwf   \n2       4SRjOJm5AjO3fxXpZSTEBb   \n3       592dtCLAyLQdUallLhJinO   \n4       2hMAApqyXl7nf2s8dQ6BTv   \n...                        ...   \n911022  5ke0edZBlwRYu01wdej6xq   \n911023  12kc7hUJKpArFQurhlNeNW   \n911024  0lej8CemYKkWVHg77Xe1ky   \n911025  7goArBQdsalqclSyaTywAS   \n911026  6Fh2QgjCxL96dA3Gtpfr4Q   \n\n                                                song_name  song_popularity  \\\n0                          I Can't Believe I'm Losing You              5.0   \n1                                       Top Of The Stairs             26.0   \n2                                   Never Crossed My Mind             20.0   \n3                                              Daddy Cool              1.0   \n4                                     Shame, Shame, Shame              0.0   \n...                                                   ...              ...   \n911022                                         Let Her In              4.0   \n911023                             Stop and Think It Over              1.0   \n911024           A Man Holdin' on (To a Woman Lettin’ Go)             14.0   \n911025                                   Shimmy Shimmy Ya              7.0   \n911026  One Sweet Day (16-Bit Mariah Carey & Boyz II M...              0.0   \n\n        explicit      song_type  track_number  num_artists  \\\n0          False           Solo          12.0          1.0   \n1          False           Solo           4.0          1.0   \n2          False           Solo           3.0          1.0   \n3          False           Solo           6.0          1.0   \n4          False           Solo          15.0          1.0   \n...          ...            ...           ...          ...   \n911022     False           Solo           7.0          1.0   \n911023     False           Solo           9.0          1.0   \n911024     False  Collaboration           7.0          2.0   \n911025     False           Solo           8.0          1.0   \n911026     False           Solo          27.0          1.0   \n\n        num_available_markets release_date  duration_ms  ...  \\\n0                        79.0   1995-01-01     162667.0  ...   \n1                         2.0   1995-01-01     271307.0  ...   \n2                         2.0   1995-01-01     242027.0  ...   \n3                        79.0   1995-01-01     201307.0  ...   \n4                        79.0   1995-01-01     231973.0  ...   \n...                       ...          ...          ...  ...   \n911022                   79.0   2019-08-23     183600.0  ...   \n911023                   79.0   2019-08-23     154413.0  ...   \n911024                   79.0   2019-08-23     231898.0  ...   \n911025                   78.0   2019-08-23     161200.0  ...   \n911026                   79.0   2019-08-26     260910.0  ...   \n\n        betweenesscentrality_y  closnesscentrality_y  clustering_y  degree_y  \\\n0                          0.0              0.000000           0.0       0.0   \n1                          0.0              0.000000           0.0       0.0   \n2                          0.0              0.000000           0.0       0.0   \n3                          0.0              0.000000           0.0       0.0   \n4                          0.0              0.000000           0.0       0.0   \n...                        ...                   ...           ...       ...   \n911022                     0.0              0.000000           0.0       0.0   \n911023                     0.0              0.000000           0.0       0.0   \n911024                     0.0              0.666667           0.0       1.0   \n911025                     0.0              0.000000           0.0       0.0   \n911026                     0.0              0.000000           0.0       0.0   \n\n        eccentricity_y  eigencentrality_y  weighted degree_y  Cluster_y  \\\n0                  0.0                0.0                0.0       -1.0   \n1                  0.0                0.0                0.0       -1.0   \n2                  0.0                0.0                0.0       -1.0   \n3                  0.0                0.0                0.0       -1.0   \n4                  0.0                0.0                0.0       -1.0   \n...                ...                ...                ...        ...   \n911022             0.0                0.0                0.0       -1.0   \n911023             0.0                0.0                0.0       -1.0   \n911024             2.0                0.5                2.0        2.0   \n911025             0.0                0.0                0.0       -1.0   \n911026             0.0                0.0                0.0       -1.0   \n\n          profile_y  years_on_charts  \n0          No Match         0.000000  \n1          No Match         0.000000  \n2          No Match         0.000000  \n3          No Match         0.000000  \n4          No Match         0.000000  \n...             ...              ...  \n911022     No Match         0.383562  \n911023     No Match         0.172603  \n911024  1A 2A 3A 4A         0.191781  \n911025     No Match         0.287671  \n911026     No Match         0.517808  \n\n[911027 rows x 47 columns]",
      "text/html": "<div>\n<style scoped>\n    .dataframe tbody tr th:only-of-type {\n        vertical-align: middle;\n    }\n\n    .dataframe tbody tr th {\n        vertical-align: top;\n    }\n\n    .dataframe thead th {\n        text-align: right;\n    }\n</style>\n<table border=\"1\" class=\"dataframe\">\n  <thead>\n    <tr style=\"text-align: right;\">\n      <th></th>\n      <th>song_id</th>\n      <th>song_name</th>\n      <th>song_popularity</th>\n      <th>explicit</th>\n      <th>song_type</th>\n      <th>track_number</th>\n      <th>num_artists</th>\n      <th>num_available_markets</th>\n      <th>release_date</th>\n      <th>duration_ms</th>\n      <th>...</th>\n      <th>betweenesscentrality_y</th>\n      <th>closnesscentrality_y</th>\n      <th>clustering_y</th>\n      <th>degree_y</th>\n      <th>eccentricity_y</th>\n      <th>eigencentrality_y</th>\n      <th>weighted degree_y</th>\n      <th>Cluster_y</th>\n      <th>profile_y</th>\n      <th>years_on_charts</th>\n    </tr>\n  </thead>\n  <tbody>\n    <tr>\n      <th>0</th>\n      <td>7kXUEJmfvRXbzxOC0pHQgb</td>\n      <td>I Can't Believe I'm Losing You</td>\n      <td>5.0</td>\n      <td>False</td>\n      <td>Solo</td>\n      <td>12.0</td>\n      <td>1.0</td>\n      <td>79.0</td>\n      <td>1995-01-01</td>\n      <td>162667.0</td>\n      <td>...</td>\n      <td>0.0</td>\n      <td>0.000000</td>\n      <td>0.0</td>\n      <td>0.0</td>\n      <td>0.0</td>\n      <td>0.0</td>\n      <td>0.0</td>\n      <td>-1.0</td>\n      <td>No Match</td>\n      <td>0.000000</td>\n    </tr>\n    <tr>\n      <th>1</th>\n      <td>7A131DrpfbWAfNJLrxikwf</td>\n      <td>Top Of The Stairs</td>\n      <td>26.0</td>\n      <td>False</td>\n      <td>Solo</td>\n      <td>4.0</td>\n      <td>1.0</td>\n      <td>2.0</td>\n      <td>1995-01-01</td>\n      <td>271307.0</td>\n      <td>...</td>\n      <td>0.0</td>\n      <td>0.000000</td>\n      <td>0.0</td>\n      <td>0.0</td>\n      <td>0.0</td>\n      <td>0.0</td>\n      <td>0.0</td>\n      <td>-1.0</td>\n      <td>No Match</td>\n      <td>0.000000</td>\n    </tr>\n    <tr>\n      <th>2</th>\n      <td>4SRjOJm5AjO3fxXpZSTEBb</td>\n      <td>Never Crossed My Mind</td>\n      <td>20.0</td>\n      <td>False</td>\n      <td>Solo</td>\n      <td>3.0</td>\n      <td>1.0</td>\n      <td>2.0</td>\n      <td>1995-01-01</td>\n      <td>242027.0</td>\n      <td>...</td>\n      <td>0.0</td>\n      <td>0.000000</td>\n      <td>0.0</td>\n      <td>0.0</td>\n      <td>0.0</td>\n      <td>0.0</td>\n      <td>0.0</td>\n      <td>-1.0</td>\n      <td>No Match</td>\n      <td>0.000000</td>\n    </tr>\n    <tr>\n      <th>3</th>\n      <td>592dtCLAyLQdUallLhJinO</td>\n      <td>Daddy Cool</td>\n      <td>1.0</td>\n      <td>False</td>\n      <td>Solo</td>\n      <td>6.0</td>\n      <td>1.0</td>\n      <td>79.0</td>\n      <td>1995-01-01</td>\n      <td>201307.0</td>\n      <td>...</td>\n      <td>0.0</td>\n      <td>0.000000</td>\n      <td>0.0</td>\n      <td>0.0</td>\n      <td>0.0</td>\n      <td>0.0</td>\n      <td>0.0</td>\n      <td>-1.0</td>\n      <td>No Match</td>\n      <td>0.000000</td>\n    </tr>\n    <tr>\n      <th>4</th>\n      <td>2hMAApqyXl7nf2s8dQ6BTv</td>\n      <td>Shame, Shame, Shame</td>\n      <td>0.0</td>\n      <td>False</td>\n      <td>Solo</td>\n      <td>15.0</td>\n      <td>1.0</td>\n      <td>79.0</td>\n      <td>1995-01-01</td>\n      <td>231973.0</td>\n      <td>...</td>\n      <td>0.0</td>\n      <td>0.000000</td>\n      <td>0.0</td>\n      <td>0.0</td>\n      <td>0.0</td>\n      <td>0.0</td>\n      <td>0.0</td>\n      <td>-1.0</td>\n      <td>No Match</td>\n      <td>0.000000</td>\n    </tr>\n    <tr>\n      <th>...</th>\n      <td>...</td>\n      <td>...</td>\n      <td>...</td>\n      <td>...</td>\n      <td>...</td>\n      <td>...</td>\n      <td>...</td>\n      <td>...</td>\n      <td>...</td>\n      <td>...</td>\n      <td>...</td>\n      <td>...</td>\n      <td>...</td>\n      <td>...</td>\n      <td>...</td>\n      <td>...</td>\n      <td>...</td>\n      <td>...</td>\n      <td>...</td>\n      <td>...</td>\n      <td>...</td>\n    </tr>\n    <tr>\n      <th>911022</th>\n      <td>5ke0edZBlwRYu01wdej6xq</td>\n      <td>Let Her In</td>\n      <td>4.0</td>\n      <td>False</td>\n      <td>Solo</td>\n      <td>7.0</td>\n      <td>1.0</td>\n      <td>79.0</td>\n      <td>2019-08-23</td>\n      <td>183600.0</td>\n      <td>...</td>\n      <td>0.0</td>\n      <td>0.000000</td>\n      <td>0.0</td>\n      <td>0.0</td>\n      <td>0.0</td>\n      <td>0.0</td>\n      <td>0.0</td>\n      <td>-1.0</td>\n      <td>No Match</td>\n      <td>0.383562</td>\n    </tr>\n    <tr>\n      <th>911023</th>\n      <td>12kc7hUJKpArFQurhlNeNW</td>\n      <td>Stop and Think It Over</td>\n      <td>1.0</td>\n      <td>False</td>\n      <td>Solo</td>\n      <td>9.0</td>\n      <td>1.0</td>\n      <td>79.0</td>\n      <td>2019-08-23</td>\n      <td>154413.0</td>\n      <td>...</td>\n      <td>0.0</td>\n      <td>0.000000</td>\n      <td>0.0</td>\n      <td>0.0</td>\n      <td>0.0</td>\n      <td>0.0</td>\n      <td>0.0</td>\n      <td>-1.0</td>\n      <td>No Match</td>\n      <td>0.172603</td>\n    </tr>\n    <tr>\n      <th>911024</th>\n      <td>0lej8CemYKkWVHg77Xe1ky</td>\n      <td>A Man Holdin' on (To a Woman Lettin’ Go)</td>\n      <td>14.0</td>\n      <td>False</td>\n      <td>Collaboration</td>\n      <td>7.0</td>\n      <td>2.0</td>\n      <td>79.0</td>\n      <td>2019-08-23</td>\n      <td>231898.0</td>\n      <td>...</td>\n      <td>0.0</td>\n      <td>0.666667</td>\n      <td>0.0</td>\n      <td>1.0</td>\n      <td>2.0</td>\n      <td>0.5</td>\n      <td>2.0</td>\n      <td>2.0</td>\n      <td>1A 2A 3A 4A</td>\n      <td>0.191781</td>\n    </tr>\n    <tr>\n      <th>911025</th>\n      <td>7goArBQdsalqclSyaTywAS</td>\n      <td>Shimmy Shimmy Ya</td>\n      <td>7.0</td>\n      <td>False</td>\n      <td>Solo</td>\n      <td>8.0</td>\n      <td>1.0</td>\n      <td>78.0</td>\n      <td>2019-08-23</td>\n      <td>161200.0</td>\n      <td>...</td>\n      <td>0.0</td>\n      <td>0.000000</td>\n      <td>0.0</td>\n      <td>0.0</td>\n      <td>0.0</td>\n      <td>0.0</td>\n      <td>0.0</td>\n      <td>-1.0</td>\n      <td>No Match</td>\n      <td>0.287671</td>\n    </tr>\n    <tr>\n      <th>911026</th>\n      <td>6Fh2QgjCxL96dA3Gtpfr4Q</td>\n      <td>One Sweet Day (16-Bit Mariah Carey &amp; Boyz II M...</td>\n      <td>0.0</td>\n      <td>False</td>\n      <td>Solo</td>\n      <td>27.0</td>\n      <td>1.0</td>\n      <td>79.0</td>\n      <td>2019-08-26</td>\n      <td>260910.0</td>\n      <td>...</td>\n      <td>0.0</td>\n      <td>0.000000</td>\n      <td>0.0</td>\n      <td>0.0</td>\n      <td>0.0</td>\n      <td>0.0</td>\n      <td>0.0</td>\n      <td>-1.0</td>\n      <td>No Match</td>\n      <td>0.517808</td>\n    </tr>\n  </tbody>\n</table>\n<p>911027 rows × 47 columns</p>\n</div>"
     },
     "execution_count": 12,
     "metadata": {},
     "output_type": "execute_result"
    }
   ],
   "source": [
    "songs_merge1 = pd.merge(df_prep_songs, df_song_chart, how=\"left\").fillna({\"years_on_charts\": 0.0})\n",
    "#songs_merge1[\"years_on_charts\"].fillna(0.0)\n",
    "songs_merge1"
   ],
   "metadata": {
    "collapsed": false,
    "ExecuteTime": {
     "end_time": "2024-04-09T11:42:04.074284200Z",
     "start_time": "2024-04-09T11:42:02.819287300Z"
    }
   },
   "id": "e5da066b10445dac"
  },
  {
   "cell_type": "code",
   "execution_count": 13,
   "outputs": [
    {
     "data": {
      "text/plain": "                     song_id                          song_name  \\\n0     2v7qe4TkWOM0upTIDcSnd3                   Smuggler's Blues   \n1     71HcXwyZ96ik1Bw4OBCB6m                              Janet   \n2     7DKdrMBKV11L1cF0QIVWry                           Only You   \n3     6Vas6h9lB5mmeVDXdFqlQA                      Freak Like Me   \n4     28SF0lKRqso9SSTDpbv991                           Foe Life   \n...                      ...                                ...   \n5648  73XBEM0gcXc3lku1KwaLGS                      Neutron Dance   \n5649  1Lm5JXlRt90S8dzk1ZqzmA         Things Can Only Get Better   \n5650  2Kpc6hdJqHCG2tt0JW9pyl                            Lose It   \n5651  24evA71Fq0cHhjinJAzEHI       What You See Is What You Get   \n5652  7D8LfO2ijOq9DnaVntnc3Q  I Still Believe - English Version   \n\n      song_popularity  explicit      song_type  track_number  num_artists  \\\n0                46.0     False           Solo           7.0          1.0   \n1                18.0     False           Solo          15.0          1.0   \n2                24.0     False           Solo          17.0          1.0   \n3                56.0     False           Solo           2.0          1.0   \n4                53.0      True  Collaboration           2.0          2.0   \n...               ...       ...            ...           ...          ...   \n5648             52.0     False           Solo           7.0          1.0   \n5649             53.0     False           Solo           2.0          1.0   \n5650             71.0     False           Solo           3.0          1.0   \n5651             18.0     False           Solo           9.0          1.0   \n5652             39.0     False           Solo           1.0          1.0   \n\n      num_available_markets release_date  duration_ms  ...  clustering_y  \\\n0                      79.0   1995-01-01     230600.0  ...      0.000000   \n1                      78.0   1995-01-01     221893.0  ...      0.000000   \n2                      78.0   1995-01-01     267240.0  ...      0.000000   \n3                      78.0   1995-01-01     253613.0  ...      0.000000   \n4                      79.0   1995-01-01     253800.0  ...      0.071895   \n...                     ...          ...          ...  ...           ...   \n5648                   79.0   2019-07-05     253147.0  ...      0.000000   \n5649                   79.0   2019-07-05     234200.0  ...      0.000000   \n5650                   79.0   2019-07-12     178987.0  ...      0.000000   \n5651                   79.0   2019-07-26     319253.0  ...      0.000000   \n5652                   79.0   2019-07-26     229240.0  ...      0.000000   \n\n      degree_y  eccentricity_y  eigencentrality_y  weighted degree_y  \\\n0          0.0             0.0           0.000000                0.0   \n1          0.0             0.0           0.000000                0.0   \n2          0.0             0.0           0.000000                0.0   \n3          0.0             0.0           0.000000                0.0   \n4         18.0            10.0           0.027635               82.0   \n...        ...             ...                ...                ...   \n5648       0.0             0.0           0.000000                0.0   \n5649       0.0             0.0           0.000000                0.0   \n5650       0.0             0.0           0.000000                0.0   \n5651       0.0             0.0           0.000000                0.0   \n5652       0.0             0.0           0.000000                0.0   \n\n      Cluster_y    profile_y  years_on_charts  total_tracks   album_type  \n0          -1.0     No Match         0.364384            16  compilation  \n1          -1.0     No Match         0.076712            20  compilation  \n2          -1.0     No Match         0.249315            20  compilation  \n3          -1.0     No Match         0.575342            13        album  \n4           1.0  1A 2A 3A 4A         0.210959            14        album  \n...         ...          ...              ...           ...          ...  \n5648       -1.0     No Match         0.441096            16  compilation  \n5649       -1.0     No Match         0.441096            16  compilation  \n5650       -1.0     No Match         0.383562            14        album  \n5651       -1.0     No Match         0.249315            13  compilation  \n5652       -1.0     No Match         0.498630            13  compilation  \n\n[5653 rows x 49 columns]",
      "text/html": "<div>\n<style scoped>\n    .dataframe tbody tr th:only-of-type {\n        vertical-align: middle;\n    }\n\n    .dataframe tbody tr th {\n        vertical-align: top;\n    }\n\n    .dataframe thead th {\n        text-align: right;\n    }\n</style>\n<table border=\"1\" class=\"dataframe\">\n  <thead>\n    <tr style=\"text-align: right;\">\n      <th></th>\n      <th>song_id</th>\n      <th>song_name</th>\n      <th>song_popularity</th>\n      <th>explicit</th>\n      <th>song_type</th>\n      <th>track_number</th>\n      <th>num_artists</th>\n      <th>num_available_markets</th>\n      <th>release_date</th>\n      <th>duration_ms</th>\n      <th>...</th>\n      <th>clustering_y</th>\n      <th>degree_y</th>\n      <th>eccentricity_y</th>\n      <th>eigencentrality_y</th>\n      <th>weighted degree_y</th>\n      <th>Cluster_y</th>\n      <th>profile_y</th>\n      <th>years_on_charts</th>\n      <th>total_tracks</th>\n      <th>album_type</th>\n    </tr>\n  </thead>\n  <tbody>\n    <tr>\n      <th>0</th>\n      <td>2v7qe4TkWOM0upTIDcSnd3</td>\n      <td>Smuggler's Blues</td>\n      <td>46.0</td>\n      <td>False</td>\n      <td>Solo</td>\n      <td>7.0</td>\n      <td>1.0</td>\n      <td>79.0</td>\n      <td>1995-01-01</td>\n      <td>230600.0</td>\n      <td>...</td>\n      <td>0.000000</td>\n      <td>0.0</td>\n      <td>0.0</td>\n      <td>0.000000</td>\n      <td>0.0</td>\n      <td>-1.0</td>\n      <td>No Match</td>\n      <td>0.364384</td>\n      <td>16</td>\n      <td>compilation</td>\n    </tr>\n    <tr>\n      <th>1</th>\n      <td>71HcXwyZ96ik1Bw4OBCB6m</td>\n      <td>Janet</td>\n      <td>18.0</td>\n      <td>False</td>\n      <td>Solo</td>\n      <td>15.0</td>\n      <td>1.0</td>\n      <td>78.0</td>\n      <td>1995-01-01</td>\n      <td>221893.0</td>\n      <td>...</td>\n      <td>0.000000</td>\n      <td>0.0</td>\n      <td>0.0</td>\n      <td>0.000000</td>\n      <td>0.0</td>\n      <td>-1.0</td>\n      <td>No Match</td>\n      <td>0.076712</td>\n      <td>20</td>\n      <td>compilation</td>\n    </tr>\n    <tr>\n      <th>2</th>\n      <td>7DKdrMBKV11L1cF0QIVWry</td>\n      <td>Only You</td>\n      <td>24.0</td>\n      <td>False</td>\n      <td>Solo</td>\n      <td>17.0</td>\n      <td>1.0</td>\n      <td>78.0</td>\n      <td>1995-01-01</td>\n      <td>267240.0</td>\n      <td>...</td>\n      <td>0.000000</td>\n      <td>0.0</td>\n      <td>0.0</td>\n      <td>0.000000</td>\n      <td>0.0</td>\n      <td>-1.0</td>\n      <td>No Match</td>\n      <td>0.249315</td>\n      <td>20</td>\n      <td>compilation</td>\n    </tr>\n    <tr>\n      <th>3</th>\n      <td>6Vas6h9lB5mmeVDXdFqlQA</td>\n      <td>Freak Like Me</td>\n      <td>56.0</td>\n      <td>False</td>\n      <td>Solo</td>\n      <td>2.0</td>\n      <td>1.0</td>\n      <td>78.0</td>\n      <td>1995-01-01</td>\n      <td>253613.0</td>\n      <td>...</td>\n      <td>0.000000</td>\n      <td>0.0</td>\n      <td>0.0</td>\n      <td>0.000000</td>\n      <td>0.0</td>\n      <td>-1.0</td>\n      <td>No Match</td>\n      <td>0.575342</td>\n      <td>13</td>\n      <td>album</td>\n    </tr>\n    <tr>\n      <th>4</th>\n      <td>28SF0lKRqso9SSTDpbv991</td>\n      <td>Foe Life</td>\n      <td>53.0</td>\n      <td>True</td>\n      <td>Collaboration</td>\n      <td>2.0</td>\n      <td>2.0</td>\n      <td>79.0</td>\n      <td>1995-01-01</td>\n      <td>253800.0</td>\n      <td>...</td>\n      <td>0.071895</td>\n      <td>18.0</td>\n      <td>10.0</td>\n      <td>0.027635</td>\n      <td>82.0</td>\n      <td>1.0</td>\n      <td>1A 2A 3A 4A</td>\n      <td>0.210959</td>\n      <td>14</td>\n      <td>album</td>\n    </tr>\n    <tr>\n      <th>...</th>\n      <td>...</td>\n      <td>...</td>\n      <td>...</td>\n      <td>...</td>\n      <td>...</td>\n      <td>...</td>\n      <td>...</td>\n      <td>...</td>\n      <td>...</td>\n      <td>...</td>\n      <td>...</td>\n      <td>...</td>\n      <td>...</td>\n      <td>...</td>\n      <td>...</td>\n      <td>...</td>\n      <td>...</td>\n      <td>...</td>\n      <td>...</td>\n      <td>...</td>\n      <td>...</td>\n    </tr>\n    <tr>\n      <th>5648</th>\n      <td>73XBEM0gcXc3lku1KwaLGS</td>\n      <td>Neutron Dance</td>\n      <td>52.0</td>\n      <td>False</td>\n      <td>Solo</td>\n      <td>7.0</td>\n      <td>1.0</td>\n      <td>79.0</td>\n      <td>2019-07-05</td>\n      <td>253147.0</td>\n      <td>...</td>\n      <td>0.000000</td>\n      <td>0.0</td>\n      <td>0.0</td>\n      <td>0.000000</td>\n      <td>0.0</td>\n      <td>-1.0</td>\n      <td>No Match</td>\n      <td>0.441096</td>\n      <td>16</td>\n      <td>compilation</td>\n    </tr>\n    <tr>\n      <th>5649</th>\n      <td>1Lm5JXlRt90S8dzk1ZqzmA</td>\n      <td>Things Can Only Get Better</td>\n      <td>53.0</td>\n      <td>False</td>\n      <td>Solo</td>\n      <td>2.0</td>\n      <td>1.0</td>\n      <td>79.0</td>\n      <td>2019-07-05</td>\n      <td>234200.0</td>\n      <td>...</td>\n      <td>0.000000</td>\n      <td>0.0</td>\n      <td>0.0</td>\n      <td>0.000000</td>\n      <td>0.0</td>\n      <td>-1.0</td>\n      <td>No Match</td>\n      <td>0.441096</td>\n      <td>16</td>\n      <td>compilation</td>\n    </tr>\n    <tr>\n      <th>5650</th>\n      <td>2Kpc6hdJqHCG2tt0JW9pyl</td>\n      <td>Lose It</td>\n      <td>71.0</td>\n      <td>False</td>\n      <td>Solo</td>\n      <td>3.0</td>\n      <td>1.0</td>\n      <td>79.0</td>\n      <td>2019-07-12</td>\n      <td>178987.0</td>\n      <td>...</td>\n      <td>0.000000</td>\n      <td>0.0</td>\n      <td>0.0</td>\n      <td>0.000000</td>\n      <td>0.0</td>\n      <td>-1.0</td>\n      <td>No Match</td>\n      <td>0.383562</td>\n      <td>14</td>\n      <td>album</td>\n    </tr>\n    <tr>\n      <th>5651</th>\n      <td>24evA71Fq0cHhjinJAzEHI</td>\n      <td>What You See Is What You Get</td>\n      <td>18.0</td>\n      <td>False</td>\n      <td>Solo</td>\n      <td>9.0</td>\n      <td>1.0</td>\n      <td>79.0</td>\n      <td>2019-07-26</td>\n      <td>319253.0</td>\n      <td>...</td>\n      <td>0.000000</td>\n      <td>0.0</td>\n      <td>0.0</td>\n      <td>0.000000</td>\n      <td>0.0</td>\n      <td>-1.0</td>\n      <td>No Match</td>\n      <td>0.249315</td>\n      <td>13</td>\n      <td>compilation</td>\n    </tr>\n    <tr>\n      <th>5652</th>\n      <td>7D8LfO2ijOq9DnaVntnc3Q</td>\n      <td>I Still Believe - English Version</td>\n      <td>39.0</td>\n      <td>False</td>\n      <td>Solo</td>\n      <td>1.0</td>\n      <td>1.0</td>\n      <td>79.0</td>\n      <td>2019-07-26</td>\n      <td>229240.0</td>\n      <td>...</td>\n      <td>0.000000</td>\n      <td>0.0</td>\n      <td>0.0</td>\n      <td>0.000000</td>\n      <td>0.0</td>\n      <td>-1.0</td>\n      <td>No Match</td>\n      <td>0.498630</td>\n      <td>13</td>\n      <td>compilation</td>\n    </tr>\n  </tbody>\n</table>\n<p>5653 rows × 49 columns</p>\n</div>"
     },
     "execution_count": 13,
     "metadata": {},
     "output_type": "execute_result"
    }
   ],
   "source": [
    "songs_merge2 = pd.merge(songs_merge1, df_album_features)\n",
    "songs_merge2"
   ],
   "metadata": {
    "collapsed": false,
    "ExecuteTime": {
     "end_time": "2024-04-09T11:42:04.431287Z",
     "start_time": "2024-04-09T11:42:04.067286Z"
    }
   },
   "id": "c86f502e698fa460"
  },
  {
   "cell_type": "code",
   "execution_count": 14,
   "outputs": [
    {
     "data": {
      "text/plain": "hit\n1.0    5653\nName: count, dtype: int64"
     },
     "execution_count": 14,
     "metadata": {},
     "output_type": "execute_result"
    }
   ],
   "source": [
    "songs_merge2[\"hit\"].value_counts()"
   ],
   "metadata": {
    "collapsed": false,
    "ExecuteTime": {
     "end_time": "2024-04-09T11:42:04.460284500Z",
     "start_time": "2024-04-09T11:42:04.436289100Z"
    }
   },
   "id": "9d1b9d721b88d4b0"
  },
  {
   "cell_type": "markdown",
   "source": [
    "=> problem"
   ],
   "metadata": {
    "collapsed": false
   },
   "id": "3ff310c03035abc"
  },
  {
   "cell_type": "code",
   "execution_count": 15,
   "outputs": [
    {
     "data": {
      "text/plain": "                       song_id                       song_name  \\\n0       7kXUEJmfvRXbzxOC0pHQgb  I Can't Believe I'm Losing You   \n1       2EfA0oBXOyYuDNpX9bkbKS                Wives And Lovers   \n2       1l90dM1PU5YvAoNxxTHlCB           Call Me Irresponsible   \n3       4tJgsMSkTFht5jyRsGdTMf  I've Got A Lot Of Livin' To Do   \n4       5HvaIkbe5JyPql7hzgK3Er                  Real Live Girl   \n...                        ...                             ...   \n504204  7mSFIY5myqzrdoGXPag8IT                            Pray   \n504205  71hZKQ5BSFUw9oSFCsOSVM                         Woo Woo   \n504206  5fW3bMVRYDMctvU77rW83C                    Not Friendly   \n504207  1Twm6HKJVggQAnWB5GGfWt                         Revenge   \n504208  4cZ3pGNsQxLQvAkgxo0PhA          I Will Always Love You   \n\n        song_popularity  explicit      song_type  track_number  num_artists  \\\n0                   5.0     False           Solo          12.0          1.0   \n1                   7.0     False           Solo           2.0          1.0   \n2                  15.0     False           Solo           3.0          1.0   \n3                  12.0     False           Solo           4.0          1.0   \n4                   5.0     False           Solo           5.0          1.0   \n...                 ...       ...            ...           ...          ...   \n504204              2.0      True           Solo           5.0          1.0   \n504205              2.0      True           Solo           4.0          1.0   \n504206              2.0      True           Solo           3.0          1.0   \n504207              2.0      True           Solo           1.0          1.0   \n504208             46.0     False  Collaboration           1.0          2.0   \n\n        num_available_markets release_date  duration_ms  ...  clustering_y  \\\n0                        79.0   1995-01-01     162667.0  ...      0.000000   \n1                        79.0   1995-01-01     151467.0  ...      0.000000   \n2                        79.0   1995-01-01     193800.0  ...      0.000000   \n3                        79.0   1995-01-01     153907.0  ...      0.000000   \n4                        79.0   1995-01-01     133933.0  ...      0.000000   \n...                       ...          ...          ...  ...           ...   \n504204                   79.0   2019-08-09     207047.0  ...      0.000000   \n504205                   79.0   2019-08-09     203403.0  ...      0.000000   \n504206                   79.0   2019-08-09     193226.0  ...      0.000000   \n504207                   79.0   2019-08-09     211496.0  ...      0.000000   \n504208                   79.0   2019-08-09     202133.0  ...      0.019608   \n\n        degree_y  eccentricity_y  eigencentrality_y  weighted degree_y  \\\n0            0.0             0.0           0.000000                0.0   \n1            0.0             0.0           0.000000                0.0   \n2            0.0             0.0           0.000000                0.0   \n3            0.0             0.0           0.000000                0.0   \n4            0.0             0.0           0.000000                0.0   \n...          ...             ...                ...                ...   \n504204       0.0             0.0           0.000000                0.0   \n504205       0.0             0.0           0.000000                0.0   \n504206       0.0             0.0           0.000000                0.0   \n504207       0.0             0.0           0.000000                0.0   \n504208      18.0            13.0           0.000748              122.0   \n\n        Cluster_y    profile_y  years_on_charts  nr_albums  nr_genres  \n0            -1.0     No Match              0.0          9          4  \n1            -1.0     No Match              0.0          9          4  \n2            -1.0     No Match              0.0          9          4  \n3            -1.0     No Match              0.0          9          4  \n4            -1.0     No Match              0.0          9          4  \n...           ...          ...              ...        ...        ...  \n504204       -1.0     No Match              0.0          1          3  \n504205       -1.0     No Match              0.0          1          3  \n504206       -1.0     No Match              0.0          1          3  \n504207       -1.0     No Match              0.0          1          3  \n504208        1.0  1A 2A 3A 4A              0.0          3          3  \n\n[504209 rows x 49 columns]",
      "text/html": "<div>\n<style scoped>\n    .dataframe tbody tr th:only-of-type {\n        vertical-align: middle;\n    }\n\n    .dataframe tbody tr th {\n        vertical-align: top;\n    }\n\n    .dataframe thead th {\n        text-align: right;\n    }\n</style>\n<table border=\"1\" class=\"dataframe\">\n  <thead>\n    <tr style=\"text-align: right;\">\n      <th></th>\n      <th>song_id</th>\n      <th>song_name</th>\n      <th>song_popularity</th>\n      <th>explicit</th>\n      <th>song_type</th>\n      <th>track_number</th>\n      <th>num_artists</th>\n      <th>num_available_markets</th>\n      <th>release_date</th>\n      <th>duration_ms</th>\n      <th>...</th>\n      <th>clustering_y</th>\n      <th>degree_y</th>\n      <th>eccentricity_y</th>\n      <th>eigencentrality_y</th>\n      <th>weighted degree_y</th>\n      <th>Cluster_y</th>\n      <th>profile_y</th>\n      <th>years_on_charts</th>\n      <th>nr_albums</th>\n      <th>nr_genres</th>\n    </tr>\n  </thead>\n  <tbody>\n    <tr>\n      <th>0</th>\n      <td>7kXUEJmfvRXbzxOC0pHQgb</td>\n      <td>I Can't Believe I'm Losing You</td>\n      <td>5.0</td>\n      <td>False</td>\n      <td>Solo</td>\n      <td>12.0</td>\n      <td>1.0</td>\n      <td>79.0</td>\n      <td>1995-01-01</td>\n      <td>162667.0</td>\n      <td>...</td>\n      <td>0.000000</td>\n      <td>0.0</td>\n      <td>0.0</td>\n      <td>0.000000</td>\n      <td>0.0</td>\n      <td>-1.0</td>\n      <td>No Match</td>\n      <td>0.0</td>\n      <td>9</td>\n      <td>4</td>\n    </tr>\n    <tr>\n      <th>1</th>\n      <td>2EfA0oBXOyYuDNpX9bkbKS</td>\n      <td>Wives And Lovers</td>\n      <td>7.0</td>\n      <td>False</td>\n      <td>Solo</td>\n      <td>2.0</td>\n      <td>1.0</td>\n      <td>79.0</td>\n      <td>1995-01-01</td>\n      <td>151467.0</td>\n      <td>...</td>\n      <td>0.000000</td>\n      <td>0.0</td>\n      <td>0.0</td>\n      <td>0.000000</td>\n      <td>0.0</td>\n      <td>-1.0</td>\n      <td>No Match</td>\n      <td>0.0</td>\n      <td>9</td>\n      <td>4</td>\n    </tr>\n    <tr>\n      <th>2</th>\n      <td>1l90dM1PU5YvAoNxxTHlCB</td>\n      <td>Call Me Irresponsible</td>\n      <td>15.0</td>\n      <td>False</td>\n      <td>Solo</td>\n      <td>3.0</td>\n      <td>1.0</td>\n      <td>79.0</td>\n      <td>1995-01-01</td>\n      <td>193800.0</td>\n      <td>...</td>\n      <td>0.000000</td>\n      <td>0.0</td>\n      <td>0.0</td>\n      <td>0.000000</td>\n      <td>0.0</td>\n      <td>-1.0</td>\n      <td>No Match</td>\n      <td>0.0</td>\n      <td>9</td>\n      <td>4</td>\n    </tr>\n    <tr>\n      <th>3</th>\n      <td>4tJgsMSkTFht5jyRsGdTMf</td>\n      <td>I've Got A Lot Of Livin' To Do</td>\n      <td>12.0</td>\n      <td>False</td>\n      <td>Solo</td>\n      <td>4.0</td>\n      <td>1.0</td>\n      <td>79.0</td>\n      <td>1995-01-01</td>\n      <td>153907.0</td>\n      <td>...</td>\n      <td>0.000000</td>\n      <td>0.0</td>\n      <td>0.0</td>\n      <td>0.000000</td>\n      <td>0.0</td>\n      <td>-1.0</td>\n      <td>No Match</td>\n      <td>0.0</td>\n      <td>9</td>\n      <td>4</td>\n    </tr>\n    <tr>\n      <th>4</th>\n      <td>5HvaIkbe5JyPql7hzgK3Er</td>\n      <td>Real Live Girl</td>\n      <td>5.0</td>\n      <td>False</td>\n      <td>Solo</td>\n      <td>5.0</td>\n      <td>1.0</td>\n      <td>79.0</td>\n      <td>1995-01-01</td>\n      <td>133933.0</td>\n      <td>...</td>\n      <td>0.000000</td>\n      <td>0.0</td>\n      <td>0.0</td>\n      <td>0.000000</td>\n      <td>0.0</td>\n      <td>-1.0</td>\n      <td>No Match</td>\n      <td>0.0</td>\n      <td>9</td>\n      <td>4</td>\n    </tr>\n    <tr>\n      <th>...</th>\n      <td>...</td>\n      <td>...</td>\n      <td>...</td>\n      <td>...</td>\n      <td>...</td>\n      <td>...</td>\n      <td>...</td>\n      <td>...</td>\n      <td>...</td>\n      <td>...</td>\n      <td>...</td>\n      <td>...</td>\n      <td>...</td>\n      <td>...</td>\n      <td>...</td>\n      <td>...</td>\n      <td>...</td>\n      <td>...</td>\n      <td>...</td>\n      <td>...</td>\n      <td>...</td>\n    </tr>\n    <tr>\n      <th>504204</th>\n      <td>7mSFIY5myqzrdoGXPag8IT</td>\n      <td>Pray</td>\n      <td>2.0</td>\n      <td>True</td>\n      <td>Solo</td>\n      <td>5.0</td>\n      <td>1.0</td>\n      <td>79.0</td>\n      <td>2019-08-09</td>\n      <td>207047.0</td>\n      <td>...</td>\n      <td>0.000000</td>\n      <td>0.0</td>\n      <td>0.0</td>\n      <td>0.000000</td>\n      <td>0.0</td>\n      <td>-1.0</td>\n      <td>No Match</td>\n      <td>0.0</td>\n      <td>1</td>\n      <td>3</td>\n    </tr>\n    <tr>\n      <th>504205</th>\n      <td>71hZKQ5BSFUw9oSFCsOSVM</td>\n      <td>Woo Woo</td>\n      <td>2.0</td>\n      <td>True</td>\n      <td>Solo</td>\n      <td>4.0</td>\n      <td>1.0</td>\n      <td>79.0</td>\n      <td>2019-08-09</td>\n      <td>203403.0</td>\n      <td>...</td>\n      <td>0.000000</td>\n      <td>0.0</td>\n      <td>0.0</td>\n      <td>0.000000</td>\n      <td>0.0</td>\n      <td>-1.0</td>\n      <td>No Match</td>\n      <td>0.0</td>\n      <td>1</td>\n      <td>3</td>\n    </tr>\n    <tr>\n      <th>504206</th>\n      <td>5fW3bMVRYDMctvU77rW83C</td>\n      <td>Not Friendly</td>\n      <td>2.0</td>\n      <td>True</td>\n      <td>Solo</td>\n      <td>3.0</td>\n      <td>1.0</td>\n      <td>79.0</td>\n      <td>2019-08-09</td>\n      <td>193226.0</td>\n      <td>...</td>\n      <td>0.000000</td>\n      <td>0.0</td>\n      <td>0.0</td>\n      <td>0.000000</td>\n      <td>0.0</td>\n      <td>-1.0</td>\n      <td>No Match</td>\n      <td>0.0</td>\n      <td>1</td>\n      <td>3</td>\n    </tr>\n    <tr>\n      <th>504207</th>\n      <td>1Twm6HKJVggQAnWB5GGfWt</td>\n      <td>Revenge</td>\n      <td>2.0</td>\n      <td>True</td>\n      <td>Solo</td>\n      <td>1.0</td>\n      <td>1.0</td>\n      <td>79.0</td>\n      <td>2019-08-09</td>\n      <td>211496.0</td>\n      <td>...</td>\n      <td>0.000000</td>\n      <td>0.0</td>\n      <td>0.0</td>\n      <td>0.000000</td>\n      <td>0.0</td>\n      <td>-1.0</td>\n      <td>No Match</td>\n      <td>0.0</td>\n      <td>1</td>\n      <td>3</td>\n    </tr>\n    <tr>\n      <th>504208</th>\n      <td>4cZ3pGNsQxLQvAkgxo0PhA</td>\n      <td>I Will Always Love You</td>\n      <td>46.0</td>\n      <td>False</td>\n      <td>Collaboration</td>\n      <td>1.0</td>\n      <td>2.0</td>\n      <td>79.0</td>\n      <td>2019-08-09</td>\n      <td>202133.0</td>\n      <td>...</td>\n      <td>0.019608</td>\n      <td>18.0</td>\n      <td>13.0</td>\n      <td>0.000748</td>\n      <td>122.0</td>\n      <td>1.0</td>\n      <td>1A 2A 3A 4A</td>\n      <td>0.0</td>\n      <td>3</td>\n      <td>3</td>\n    </tr>\n  </tbody>\n</table>\n<p>504209 rows × 49 columns</p>\n</div>"
     },
     "execution_count": 15,
     "metadata": {},
     "output_type": "execute_result"
    }
   ],
   "source": [
    "merge_artist_song =  pd.merge(songs_merge1, df_artists_features_base, left_on=\"artist1_id\", right_on=\"artist_id\")\n",
    "merge_artist_song.drop(columns=\"artist_id\", inplace=True)\n",
    "merge_artist_song"
   ],
   "metadata": {
    "collapsed": false,
    "ExecuteTime": {
     "end_time": "2024-04-09T11:42:05.391286300Z",
     "start_time": "2024-04-09T11:42:04.502286500Z"
    }
   },
   "id": "d5900c1bdecc17ee"
  },
  {
   "cell_type": "markdown",
   "source": [
    "try combining all together"
   ],
   "metadata": {
    "collapsed": false
   },
   "id": "7f011fce1b7beb7"
  },
  {
   "cell_type": "code",
   "execution_count": 16,
   "outputs": [
    {
     "data": {
      "text/plain": "                     song_id                          song_name  \\\n0     2lp6dr6gTMQJgI2Ny0kwYw                       A Little You   \n1     6rZHBTO3axCN9zxK4nhfPE               You Were Made for Me   \n2     6Y609znJunsJnpW0RYf7iR                     Do the Freddie   \n3     6VARqNnflC1wgBnH4jYWjz                       Take Me Back   \n4     1qBspWKwhCPUFOTrixq4VR                        Silhouettes   \n...                      ...                                ...   \n4196  73XBEM0gcXc3lku1KwaLGS                      Neutron Dance   \n4197  1Lm5JXlRt90S8dzk1ZqzmA         Things Can Only Get Better   \n4198  2Kpc6hdJqHCG2tt0JW9pyl                            Lose It   \n4199  24evA71Fq0cHhjinJAzEHI       What You See Is What You Get   \n4200  7D8LfO2ijOq9DnaVntnc3Q  I Still Believe - English Version   \n\n      song_popularity  explicit song_type  track_number  num_artists  \\\n0                10.0     False      Solo          20.0          1.0   \n1                36.0     False      Solo          14.0          1.0   \n2                21.0     False      Solo           8.0          1.0   \n3                22.0     False      Solo           4.0          1.0   \n4                31.0     False      Solo           3.0          1.0   \n...               ...       ...       ...           ...          ...   \n4196             52.0     False      Solo           7.0          1.0   \n4197             53.0     False      Solo           2.0          1.0   \n4198             71.0     False      Solo           3.0          1.0   \n4199             18.0     False      Solo           9.0          1.0   \n4200             39.0     False      Solo           1.0          1.0   \n\n      num_available_markets release_date  duration_ms  ...  eccentricity_y  \\\n0                      78.0   1995-01-01     129600.0  ...            10.0   \n1                      78.0   1995-01-01     139773.0  ...            11.0   \n2                      78.0   1995-01-01     121960.0  ...             0.0   \n3                      77.0   1996-05-28     158467.0  ...            11.0   \n4                      68.0   1997-10-13     121040.0  ...             0.0   \n...                     ...          ...          ...  ...             ...   \n4196                   79.0   2019-07-05     253147.0  ...             0.0   \n4197                   79.0   2019-07-05     234200.0  ...             0.0   \n4198                   79.0   2019-07-12     178987.0  ...             0.0   \n4199                   79.0   2019-07-26     319253.0  ...             0.0   \n4200                   79.0   2019-07-26     229240.0  ...             0.0   \n\n      eigencentrality_y  weighted degree_y  Cluster_y    profile_y  \\\n0              0.116108              212.0        1.0  1A 2A 3A 4A   \n1              0.027098              190.0        1.0  1A 2A 3A 4A   \n2              0.000000                0.0       -1.0     No Match   \n3              0.015920               24.0        1.0  1A 2A 3A 4A   \n4              0.000000                0.0       -1.0     No Match   \n...                 ...                ...        ...          ...   \n4196           0.000000                0.0       -1.0     No Match   \n4197           0.000000                0.0       -1.0     No Match   \n4198           0.000000                0.0       -1.0     No Match   \n4199           0.000000                0.0       -1.0     No Match   \n4200           0.000000                0.0       -1.0     No Match   \n\n      years_on_charts  total_tracks   album_type  nr_albums  nr_genres  \n0            0.134247            20        album          1          9  \n1            0.134247            20        album          1          9  \n2            0.153425            20        album          1          9  \n3            0.210959            13  compilation          1          9  \n4            0.249315            25        album          1          9  \n...               ...           ...          ...        ...        ...  \n4196         0.441096            16  compilation         15         12  \n4197         0.441096            16  compilation          5          7  \n4198         0.383562            14        album          3          2  \n4199         0.249315            13  compilation          1          1  \n4200         0.498630            13  compilation          1          1  \n\n[4201 rows x 51 columns]",
      "text/html": "<div>\n<style scoped>\n    .dataframe tbody tr th:only-of-type {\n        vertical-align: middle;\n    }\n\n    .dataframe tbody tr th {\n        vertical-align: top;\n    }\n\n    .dataframe thead th {\n        text-align: right;\n    }\n</style>\n<table border=\"1\" class=\"dataframe\">\n  <thead>\n    <tr style=\"text-align: right;\">\n      <th></th>\n      <th>song_id</th>\n      <th>song_name</th>\n      <th>song_popularity</th>\n      <th>explicit</th>\n      <th>song_type</th>\n      <th>track_number</th>\n      <th>num_artists</th>\n      <th>num_available_markets</th>\n      <th>release_date</th>\n      <th>duration_ms</th>\n      <th>...</th>\n      <th>eccentricity_y</th>\n      <th>eigencentrality_y</th>\n      <th>weighted degree_y</th>\n      <th>Cluster_y</th>\n      <th>profile_y</th>\n      <th>years_on_charts</th>\n      <th>total_tracks</th>\n      <th>album_type</th>\n      <th>nr_albums</th>\n      <th>nr_genres</th>\n    </tr>\n  </thead>\n  <tbody>\n    <tr>\n      <th>0</th>\n      <td>2lp6dr6gTMQJgI2Ny0kwYw</td>\n      <td>A Little You</td>\n      <td>10.0</td>\n      <td>False</td>\n      <td>Solo</td>\n      <td>20.0</td>\n      <td>1.0</td>\n      <td>78.0</td>\n      <td>1995-01-01</td>\n      <td>129600.0</td>\n      <td>...</td>\n      <td>10.0</td>\n      <td>0.116108</td>\n      <td>212.0</td>\n      <td>1.0</td>\n      <td>1A 2A 3A 4A</td>\n      <td>0.134247</td>\n      <td>20</td>\n      <td>album</td>\n      <td>1</td>\n      <td>9</td>\n    </tr>\n    <tr>\n      <th>1</th>\n      <td>6rZHBTO3axCN9zxK4nhfPE</td>\n      <td>You Were Made for Me</td>\n      <td>36.0</td>\n      <td>False</td>\n      <td>Solo</td>\n      <td>14.0</td>\n      <td>1.0</td>\n      <td>78.0</td>\n      <td>1995-01-01</td>\n      <td>139773.0</td>\n      <td>...</td>\n      <td>11.0</td>\n      <td>0.027098</td>\n      <td>190.0</td>\n      <td>1.0</td>\n      <td>1A 2A 3A 4A</td>\n      <td>0.134247</td>\n      <td>20</td>\n      <td>album</td>\n      <td>1</td>\n      <td>9</td>\n    </tr>\n    <tr>\n      <th>2</th>\n      <td>6Y609znJunsJnpW0RYf7iR</td>\n      <td>Do the Freddie</td>\n      <td>21.0</td>\n      <td>False</td>\n      <td>Solo</td>\n      <td>8.0</td>\n      <td>1.0</td>\n      <td>78.0</td>\n      <td>1995-01-01</td>\n      <td>121960.0</td>\n      <td>...</td>\n      <td>0.0</td>\n      <td>0.000000</td>\n      <td>0.0</td>\n      <td>-1.0</td>\n      <td>No Match</td>\n      <td>0.153425</td>\n      <td>20</td>\n      <td>album</td>\n      <td>1</td>\n      <td>9</td>\n    </tr>\n    <tr>\n      <th>3</th>\n      <td>6VARqNnflC1wgBnH4jYWjz</td>\n      <td>Take Me Back</td>\n      <td>22.0</td>\n      <td>False</td>\n      <td>Solo</td>\n      <td>4.0</td>\n      <td>1.0</td>\n      <td>77.0</td>\n      <td>1996-05-28</td>\n      <td>158467.0</td>\n      <td>...</td>\n      <td>11.0</td>\n      <td>0.015920</td>\n      <td>24.0</td>\n      <td>1.0</td>\n      <td>1A 2A 3A 4A</td>\n      <td>0.210959</td>\n      <td>13</td>\n      <td>compilation</td>\n      <td>1</td>\n      <td>9</td>\n    </tr>\n    <tr>\n      <th>4</th>\n      <td>1qBspWKwhCPUFOTrixq4VR</td>\n      <td>Silhouettes</td>\n      <td>31.0</td>\n      <td>False</td>\n      <td>Solo</td>\n      <td>3.0</td>\n      <td>1.0</td>\n      <td>68.0</td>\n      <td>1997-10-13</td>\n      <td>121040.0</td>\n      <td>...</td>\n      <td>0.0</td>\n      <td>0.000000</td>\n      <td>0.0</td>\n      <td>-1.0</td>\n      <td>No Match</td>\n      <td>0.249315</td>\n      <td>25</td>\n      <td>album</td>\n      <td>1</td>\n      <td>9</td>\n    </tr>\n    <tr>\n      <th>...</th>\n      <td>...</td>\n      <td>...</td>\n      <td>...</td>\n      <td>...</td>\n      <td>...</td>\n      <td>...</td>\n      <td>...</td>\n      <td>...</td>\n      <td>...</td>\n      <td>...</td>\n      <td>...</td>\n      <td>...</td>\n      <td>...</td>\n      <td>...</td>\n      <td>...</td>\n      <td>...</td>\n      <td>...</td>\n      <td>...</td>\n      <td>...</td>\n      <td>...</td>\n      <td>...</td>\n    </tr>\n    <tr>\n      <th>4196</th>\n      <td>73XBEM0gcXc3lku1KwaLGS</td>\n      <td>Neutron Dance</td>\n      <td>52.0</td>\n      <td>False</td>\n      <td>Solo</td>\n      <td>7.0</td>\n      <td>1.0</td>\n      <td>79.0</td>\n      <td>2019-07-05</td>\n      <td>253147.0</td>\n      <td>...</td>\n      <td>0.0</td>\n      <td>0.000000</td>\n      <td>0.0</td>\n      <td>-1.0</td>\n      <td>No Match</td>\n      <td>0.441096</td>\n      <td>16</td>\n      <td>compilation</td>\n      <td>15</td>\n      <td>12</td>\n    </tr>\n    <tr>\n      <th>4197</th>\n      <td>1Lm5JXlRt90S8dzk1ZqzmA</td>\n      <td>Things Can Only Get Better</td>\n      <td>53.0</td>\n      <td>False</td>\n      <td>Solo</td>\n      <td>2.0</td>\n      <td>1.0</td>\n      <td>79.0</td>\n      <td>2019-07-05</td>\n      <td>234200.0</td>\n      <td>...</td>\n      <td>0.0</td>\n      <td>0.000000</td>\n      <td>0.0</td>\n      <td>-1.0</td>\n      <td>No Match</td>\n      <td>0.441096</td>\n      <td>16</td>\n      <td>compilation</td>\n      <td>5</td>\n      <td>7</td>\n    </tr>\n    <tr>\n      <th>4198</th>\n      <td>2Kpc6hdJqHCG2tt0JW9pyl</td>\n      <td>Lose It</td>\n      <td>71.0</td>\n      <td>False</td>\n      <td>Solo</td>\n      <td>3.0</td>\n      <td>1.0</td>\n      <td>79.0</td>\n      <td>2019-07-12</td>\n      <td>178987.0</td>\n      <td>...</td>\n      <td>0.0</td>\n      <td>0.000000</td>\n      <td>0.0</td>\n      <td>-1.0</td>\n      <td>No Match</td>\n      <td>0.383562</td>\n      <td>14</td>\n      <td>album</td>\n      <td>3</td>\n      <td>2</td>\n    </tr>\n    <tr>\n      <th>4199</th>\n      <td>24evA71Fq0cHhjinJAzEHI</td>\n      <td>What You See Is What You Get</td>\n      <td>18.0</td>\n      <td>False</td>\n      <td>Solo</td>\n      <td>9.0</td>\n      <td>1.0</td>\n      <td>79.0</td>\n      <td>2019-07-26</td>\n      <td>319253.0</td>\n      <td>...</td>\n      <td>0.0</td>\n      <td>0.000000</td>\n      <td>0.0</td>\n      <td>-1.0</td>\n      <td>No Match</td>\n      <td>0.249315</td>\n      <td>13</td>\n      <td>compilation</td>\n      <td>1</td>\n      <td>1</td>\n    </tr>\n    <tr>\n      <th>4200</th>\n      <td>7D8LfO2ijOq9DnaVntnc3Q</td>\n      <td>I Still Believe - English Version</td>\n      <td>39.0</td>\n      <td>False</td>\n      <td>Solo</td>\n      <td>1.0</td>\n      <td>1.0</td>\n      <td>79.0</td>\n      <td>2019-07-26</td>\n      <td>229240.0</td>\n      <td>...</td>\n      <td>0.0</td>\n      <td>0.000000</td>\n      <td>0.0</td>\n      <td>-1.0</td>\n      <td>No Match</td>\n      <td>0.498630</td>\n      <td>13</td>\n      <td>compilation</td>\n      <td>1</td>\n      <td>1</td>\n    </tr>\n  </tbody>\n</table>\n<p>4201 rows × 51 columns</p>\n</div>"
     },
     "execution_count": 16,
     "metadata": {},
     "output_type": "execute_result"
    }
   ],
   "source": [
    "songs_merge3 =  pd.merge(songs_merge2, df_artists_features_base, left_on=\"artist1_id\", right_on=\"artist_id\")\n",
    "songs_merge3.drop(columns=\"artist_id\", inplace=True)\n",
    "songs_merge3"
   ],
   "metadata": {
    "collapsed": false,
    "ExecuteTime": {
     "end_time": "2024-04-09T11:42:05.513286700Z",
     "start_time": "2024-04-09T11:42:05.396287100Z"
    }
   },
   "id": "3d2add6e8d3ac799"
  },
  {
   "cell_type": "markdown",
   "source": [
    "does not work, only hits included same for merge2. As soon as thedata is reduced we need to rerun the network creation and clustering on the smaller dataset."
   ],
   "metadata": {
    "collapsed": false
   },
   "id": "45237802067c7f0c"
  },
  {
   "cell_type": "markdown",
   "source": [
    "only viable options are: HSP-Song and HSP-Song-Collab"
   ],
   "metadata": {
    "collapsed": false
   },
   "id": "6c1d6d098b93e87c"
  },
  {
   "cell_type": "code",
   "execution_count": 17,
   "outputs": [],
   "source": [
    "songs_merge1.to_csv(\"HSP_song_collab_no_mean.csv\", index=False)"
   ],
   "metadata": {
    "collapsed": false,
    "ExecuteTime": {
     "end_time": "2024-04-09T11:42:21.416295400Z",
     "start_time": "2024-04-09T11:42:05.441286600Z"
    }
   },
   "id": "dcf09a83dc5b11d0"
  }
 ],
 "metadata": {
  "kernelspec": {
   "display_name": "Python 3",
   "language": "python",
   "name": "python3"
  },
  "language_info": {
   "codemirror_mode": {
    "name": "ipython",
    "version": 2
   },
   "file_extension": ".py",
   "mimetype": "text/x-python",
   "name": "python",
   "nbconvert_exporter": "python",
   "pygments_lexer": "ipython2",
   "version": "2.7.6"
  }
 },
 "nbformat": 4,
 "nbformat_minor": 5
}
