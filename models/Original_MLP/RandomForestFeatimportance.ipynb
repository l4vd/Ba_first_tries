{
 "cells": [
  {
   "cell_type": "code",
   "execution_count": 17,
   "id": "initial_id",
   "metadata": {
    "collapsed": true,
    "ExecuteTime": {
     "end_time": "2024-07-24T18:46:43.015210100Z",
     "start_time": "2024-07-24T18:46:29.574208800Z"
    }
   },
   "outputs": [],
   "source": [
    "import pandas as pd\n",
    "import numpy as np\n",
    "from sklearn.model_selection import train_test_split\n",
    "from sklearn.ensemble import RandomForestClassifier\n",
    "from sklearn.preprocessing import OneHotEncoder\n",
    "from sklearn.impute import SimpleImputer\n",
    "\n",
    "data = pd.read_csv(\"data_superstar_v1_0.csv\", delimiter=\",\")\n",
    "data['date'] = pd.to_datetime(data['release_date'])\n",
    "data.sort_values(by=\"date\", inplace=True)\n",
    "\n",
    "\n",
    "# Drop columns not in the list\n",
    "data[\"explicit\"] = data[\"explicit\"].astype(int)\n",
    "\n",
    "\n",
    "def find_min_max(df):\n",
    "    # Select only numeric columns\n",
    "    numeric_cols = df.select_dtypes(include=['number'])\n",
    "\n",
    "    # Find max and min values for each numeric column\n",
    "    min_max_values = {}\n",
    "    for col in numeric_cols.columns:\n",
    "        min_value = df[col].min()\n",
    "        max_value = df[col].max()\n",
    "        min_max_values[col] = {'min': min_value, 'max': max_value}\n",
    "\n",
    "    return min_max_values\n",
    "\n",
    "\n",
    "min_max_val = find_min_max(data)\n",
    "\n",
    "y = data[\"hit\"]\n",
    "X = data.drop(columns=[\"hit\", \"song_popularity\", \"date\", \"name_x\", \"name_y\", \"song_id\", \"song_name\", \"artist1_id\", \"artist2_id\", \"song_type\"])\n",
    "\n",
    "\n",
    "def preprocess(df, min_max_values, exclude_cols=None):\n",
    "    missing_numerical = df.select_dtypes(include=['number']).isnull().sum()\n",
    "    # Fill missing values with mean for each numeric attribute\n",
    "    imputer = SimpleImputer(strategy='mean')\n",
    "    df_filled = df.copy()\n",
    "    for col in missing_numerical.index:\n",
    "        if missing_numerical[col] > 0:\n",
    "            df_filled[col] = imputer.fit_transform(df[[col]])\n",
    "\n",
    "    # Normalize numerical features into [0, 1] range with MinMaxScaler\n",
    "    if exclude_cols:\n",
    "        numerical_cols = df_filled.select_dtypes(include=['number']).columns.difference(exclude_cols)\n",
    "    else:\n",
    "        numerical_cols = df_filled.select_dtypes(include=['number']).columns\n",
    "\n",
    "    # print(\"numerical columns:\", numerical_cols)\n",
    "\n",
    "    for column_name in numerical_cols:\n",
    "        df_filled[column_name] = (df_filled[column_name] - min_max_values[column_name][\"min\"]) / (\n",
    "                min_max_values[column_name][\"max\"] - min_max_values[column_name][\"min\"])\n",
    "\n",
    "    df_normalized = pd.DataFrame(df_filled, columns=numerical_cols)\n",
    "\n",
    "    if exclude_cols:\n",
    "        categorical_cols = df.select_dtypes(include=['object']).columns.difference(exclude_cols)\n",
    "    else:\n",
    "        categorical_cols = df.select_dtypes(include=['object']).columns\n",
    "\n",
    "    df_encoded = pd.get_dummies(df, columns=categorical_cols, drop_first=False)     #questionable whether true or false\n",
    "\n",
    "    encoded_columns = [col for col in df_encoded.columns if any(orig_col in col for orig_col in categorical_cols)]\n",
    "\n",
    "    #print(categorical_cols)\n",
    "\n",
    "    # Concatenate numerical and encoded categorical features\n",
    "    df_processed = pd.concat([df_normalized, df_encoded[encoded_columns], df[exclude_cols]], axis=1)\n",
    "\n",
    "    return df_processed\n",
    "\n",
    "\n",
    "\n",
    "X_preprocessed = preprocess(X, min_max_val, exclude_cols=[\"release_date\"])\n",
    "X_preprocessed[X_preprocessed.select_dtypes(include=[bool]).columns] = X_preprocessed.select_dtypes(include=[bool]).astype(int)\n",
    "\n",
    "# split_day = X[\"date\"].iloc[-1] - pd.DateOffset(years=1)\n",
    "# X_train = X[(X[\"date\"] < split_day)].copy()\n",
    "# X_test = X[(X[\"date\"] >= split_day)].copy()\n",
    "# \n",
    "# sep_index = X_train.shape[0]\n",
    "# y_train = y.iloc[:sep_index].copy()\n",
    "# y_test = y.iloc[sep_index:].copy()\n",
    "X_train, X_test, y_train, y_test = train_test_split(X_preprocessed, y, test_size=0.25, shuffle=False)\n",
    "X_train_noup, X_test_noup, y_train_noup, y_test_noup = X_train, X_test, y_train, y_test"
   ]
  },
  {
   "cell_type": "code",
   "execution_count": 18,
   "outputs": [
    {
     "name": "stdout",
     "output_type": "stream",
     "text": [
      "<class 'pandas.core.frame.DataFrame'>\n",
      "Index: 911027 entries, 0 to 911026\n",
      "Data columns (total 57 columns):\n",
      " #   Column                  Non-Null Count   Dtype  \n",
      "---  ------                  --------------   -----  \n",
      " 0   explicit                911027 non-null  int32  \n",
      " 1   track_number            911027 non-null  float64\n",
      " 2   num_artists             911027 non-null  float64\n",
      " 3   num_available_markets   911027 non-null  float64\n",
      " 4   release_date            911027 non-null  object \n",
      " 5   duration_ms             911027 non-null  float64\n",
      " 6   key                     911027 non-null  float64\n",
      " 7   mode                    911027 non-null  float64\n",
      " 8   time_signature          911027 non-null  float64\n",
      " 9   acousticness            911027 non-null  float64\n",
      " 10  danceability            911027 non-null  float64\n",
      " 11  energy                  911027 non-null  float64\n",
      " 12  instrumentalness        911027 non-null  float64\n",
      " 13  liveness                911027 non-null  float64\n",
      " 14  loudness                911027 non-null  float64\n",
      " 15  speechiness             911027 non-null  float64\n",
      " 16  valence                 911027 non-null  float64\n",
      " 17  tempo                   911027 non-null  float64\n",
      " 18  betweenesscentrality_x  911027 non-null  float64\n",
      " 19  closnesscentrality_x    911027 non-null  float64\n",
      " 20  clustering_x            911027 non-null  float64\n",
      " 21  degree_x                911027 non-null  float64\n",
      " 22  eccentricity_x          911027 non-null  float64\n",
      " 23  eigencentrality_x       911027 non-null  float64\n",
      " 24  weighted degree_x       911027 non-null  float64\n",
      " 25  pagerank_x              911027 non-null  float64\n",
      " 26  Cluster_x               911027 non-null  float64\n",
      " 27  profile_x               911027 non-null  object \n",
      " 28  betweenesscentrality_y  911027 non-null  float64\n",
      " 29  closnesscentrality_y    911027 non-null  float64\n",
      " 30  clustering_y            911027 non-null  float64\n",
      " 31  degree_y                911027 non-null  float64\n",
      " 32  eccentricity_y          911027 non-null  float64\n",
      " 33  eigencentrality_y       911027 non-null  float64\n",
      " 34  weighted degree_y       911027 non-null  float64\n",
      " 35  pagerank_y              911027 non-null  float64\n",
      " 36  Cluster_y               911027 non-null  float64\n",
      " 37  profile_y               911027 non-null  object \n",
      " 38  artist1_num             911027 non-null  float64\n",
      " 39  artist2_num             911027 non-null  float64\n",
      " 40  years_on_charts         911027 non-null  float64\n",
      " 41  superstar_v1_x          911027 non-null  float64\n",
      " 42  superstar_v1_y          911027 non-null  float64\n",
      " 43  superstar_v2_x          911027 non-null  float64\n",
      " 44  superstar_v2_y          911027 non-null  float64\n",
      " 45  superstar_v3_x          911027 non-null  float64\n",
      " 46  superstar_v3_y          911027 non-null  float64\n",
      " 47  superstar_v4_x          911027 non-null  float64\n",
      " 48  superstar_v4_y          911027 non-null  float64\n",
      " 49  superstar_v5_x          911027 non-null  float64\n",
      " 50  superstar_v5_y          911027 non-null  float64\n",
      " 51  success_rate_x          911027 non-null  float64\n",
      " 52  success_rate_y          911027 non-null  float64\n",
      " 53  hits_in_past_x          911027 non-null  int64  \n",
      " 54  hits_in_past_y          911027 non-null  int64  \n",
      " 55  superstar_x             911027 non-null  int64  \n",
      " 56  superstar_y             911027 non-null  int64  \n",
      "dtypes: float64(49), int32(1), int64(4), object(3)\n",
      "memory usage: 399.7+ MB\n"
     ]
    }
   ],
   "source": [
    "X.info()"
   ],
   "metadata": {
    "collapsed": false,
    "ExecuteTime": {
     "end_time": "2024-07-24T18:46:43.252208600Z",
     "start_time": "2024-07-24T18:46:43.019208900Z"
    }
   },
   "id": "2a19798a883debe7"
  },
  {
   "cell_type": "code",
   "execution_count": 19,
   "outputs": [
    {
     "data": {
      "text/plain": "        Cluster_x  Cluster_y  acousticness  artist1_num  artist2_num  \\\n0        0.333333        0.0      0.692771     0.626175          0.0   \n3659     0.166667        0.0      0.298193     0.485935          0.0   \n3658     1.000000        0.0      0.105422     0.052740          0.0   \n3657     1.000000        0.0      0.027309     0.052740          0.0   \n3656     1.000000        0.0      0.025904     0.052740          0.0   \n...           ...        ...           ...          ...          ...   \n683396   0.500000        0.0      0.693775     0.323070          0.0   \n683430   0.333333        0.0      0.008494     0.415552          0.0   \n683431   0.333333        0.0      0.092269     0.415552          0.0   \n683432   0.333333        0.0      0.019980     0.228153          0.0   \n683433   0.333333        0.0      0.000028     0.228153          0.0   \n\n        betweenesscentrality_x  betweenesscentrality_y  closnesscentrality_x  \\\n0                     0.000000                     0.0              0.000000   \n3659                  0.002665                     0.0              0.176706   \n3658                  1.000000                     0.0              1.000000   \n3657                  1.000000                     0.0              1.000000   \n3656                  1.000000                     0.0              1.000000   \n...                        ...                     ...                   ...   \n683396                0.000000                     0.0              0.000000   \n683430                0.000000                     0.0              0.000000   \n683431                0.000000                     0.0              0.000000   \n683432                0.000000                     0.0              0.000000   \n683433                0.000000                     0.0              0.000000   \n\n        closnesscentrality_y  clustering_x  ...  profile_x_No Match  \\\n0                        0.0           0.0  ...                   0   \n3659                     0.0           0.0  ...                   0   \n3658                     0.0           0.0  ...                   0   \n3657                     0.0           0.0  ...                   0   \n3656                     0.0           0.0  ...                   0   \n...                      ...           ...  ...                 ...   \n683396                   0.0           0.0  ...                   0   \n683430                   0.0           0.0  ...                   0   \n683431                   0.0           0.0  ...                   0   \n683432                   0.0           0.0  ...                   0   \n683433                   0.0           0.0  ...                   0   \n\n        profile_y_1A 2A 3A 4A  profile_y_1A 2A 3A 4B  profile_y_1A 2A 3B 4A  \\\n0                           0                      0                      0   \n3659                        0                      0                      0   \n3658                        0                      0                      0   \n3657                        0                      0                      0   \n3656                        0                      0                      0   \n...                       ...                    ...                    ...   \n683396                      0                      0                      0   \n683430                      0                      0                      0   \n683431                      0                      0                      0   \n683432                      0                      0                      0   \n683433                      0                      0                      0   \n\n        profile_y_1A 2B 3A 4A  profile_y_1A 2B 3A 4B  profile_y_1A 2B 3B 4A  \\\n0                           0                      0                      0   \n3659                        0                      0                      0   \n3658                        0                      0                      0   \n3657                        0                      0                      0   \n3656                        0                      0                      0   \n...                       ...                    ...                    ...   \n683396                      0                      0                      0   \n683430                      0                      0                      0   \n683431                      0                      0                      0   \n683432                      0                      0                      0   \n683433                      0                      0                      0   \n\n        profile_y_1B 2A 3A 4A  profile_y_No Match  release_date  \n0                           0                   1    1995-01-01  \n3659                        0                   1    1995-01-01  \n3658                        0                   1    1995-01-01  \n3657                        0                   1    1995-01-01  \n3656                        0                   1    1995-01-01  \n...                       ...                 ...           ...  \n683396                      0                   1    2015-08-19  \n683430                      0                   1    2015-08-19  \n683431                      0                   1    2015-08-19  \n683432                      0                   1    2015-08-19  \n683433                      0                   1    2015-08-19  \n\n[683270 rows x 72 columns]",
      "text/html": "<div>\n<style scoped>\n    .dataframe tbody tr th:only-of-type {\n        vertical-align: middle;\n    }\n\n    .dataframe tbody tr th {\n        vertical-align: top;\n    }\n\n    .dataframe thead th {\n        text-align: right;\n    }\n</style>\n<table border=\"1\" class=\"dataframe\">\n  <thead>\n    <tr style=\"text-align: right;\">\n      <th></th>\n      <th>Cluster_x</th>\n      <th>Cluster_y</th>\n      <th>acousticness</th>\n      <th>artist1_num</th>\n      <th>artist2_num</th>\n      <th>betweenesscentrality_x</th>\n      <th>betweenesscentrality_y</th>\n      <th>closnesscentrality_x</th>\n      <th>closnesscentrality_y</th>\n      <th>clustering_x</th>\n      <th>...</th>\n      <th>profile_x_No Match</th>\n      <th>profile_y_1A 2A 3A 4A</th>\n      <th>profile_y_1A 2A 3A 4B</th>\n      <th>profile_y_1A 2A 3B 4A</th>\n      <th>profile_y_1A 2B 3A 4A</th>\n      <th>profile_y_1A 2B 3A 4B</th>\n      <th>profile_y_1A 2B 3B 4A</th>\n      <th>profile_y_1B 2A 3A 4A</th>\n      <th>profile_y_No Match</th>\n      <th>release_date</th>\n    </tr>\n  </thead>\n  <tbody>\n    <tr>\n      <th>0</th>\n      <td>0.333333</td>\n      <td>0.0</td>\n      <td>0.692771</td>\n      <td>0.626175</td>\n      <td>0.0</td>\n      <td>0.000000</td>\n      <td>0.0</td>\n      <td>0.000000</td>\n      <td>0.0</td>\n      <td>0.0</td>\n      <td>...</td>\n      <td>0</td>\n      <td>0</td>\n      <td>0</td>\n      <td>0</td>\n      <td>0</td>\n      <td>0</td>\n      <td>0</td>\n      <td>0</td>\n      <td>1</td>\n      <td>1995-01-01</td>\n    </tr>\n    <tr>\n      <th>3659</th>\n      <td>0.166667</td>\n      <td>0.0</td>\n      <td>0.298193</td>\n      <td>0.485935</td>\n      <td>0.0</td>\n      <td>0.002665</td>\n      <td>0.0</td>\n      <td>0.176706</td>\n      <td>0.0</td>\n      <td>0.0</td>\n      <td>...</td>\n      <td>0</td>\n      <td>0</td>\n      <td>0</td>\n      <td>0</td>\n      <td>0</td>\n      <td>0</td>\n      <td>0</td>\n      <td>0</td>\n      <td>1</td>\n      <td>1995-01-01</td>\n    </tr>\n    <tr>\n      <th>3658</th>\n      <td>1.000000</td>\n      <td>0.0</td>\n      <td>0.105422</td>\n      <td>0.052740</td>\n      <td>0.0</td>\n      <td>1.000000</td>\n      <td>0.0</td>\n      <td>1.000000</td>\n      <td>0.0</td>\n      <td>0.0</td>\n      <td>...</td>\n      <td>0</td>\n      <td>0</td>\n      <td>0</td>\n      <td>0</td>\n      <td>0</td>\n      <td>0</td>\n      <td>0</td>\n      <td>0</td>\n      <td>1</td>\n      <td>1995-01-01</td>\n    </tr>\n    <tr>\n      <th>3657</th>\n      <td>1.000000</td>\n      <td>0.0</td>\n      <td>0.027309</td>\n      <td>0.052740</td>\n      <td>0.0</td>\n      <td>1.000000</td>\n      <td>0.0</td>\n      <td>1.000000</td>\n      <td>0.0</td>\n      <td>0.0</td>\n      <td>...</td>\n      <td>0</td>\n      <td>0</td>\n      <td>0</td>\n      <td>0</td>\n      <td>0</td>\n      <td>0</td>\n      <td>0</td>\n      <td>0</td>\n      <td>1</td>\n      <td>1995-01-01</td>\n    </tr>\n    <tr>\n      <th>3656</th>\n      <td>1.000000</td>\n      <td>0.0</td>\n      <td>0.025904</td>\n      <td>0.052740</td>\n      <td>0.0</td>\n      <td>1.000000</td>\n      <td>0.0</td>\n      <td>1.000000</td>\n      <td>0.0</td>\n      <td>0.0</td>\n      <td>...</td>\n      <td>0</td>\n      <td>0</td>\n      <td>0</td>\n      <td>0</td>\n      <td>0</td>\n      <td>0</td>\n      <td>0</td>\n      <td>0</td>\n      <td>1</td>\n      <td>1995-01-01</td>\n    </tr>\n    <tr>\n      <th>...</th>\n      <td>...</td>\n      <td>...</td>\n      <td>...</td>\n      <td>...</td>\n      <td>...</td>\n      <td>...</td>\n      <td>...</td>\n      <td>...</td>\n      <td>...</td>\n      <td>...</td>\n      <td>...</td>\n      <td>...</td>\n      <td>...</td>\n      <td>...</td>\n      <td>...</td>\n      <td>...</td>\n      <td>...</td>\n      <td>...</td>\n      <td>...</td>\n      <td>...</td>\n      <td>...</td>\n    </tr>\n    <tr>\n      <th>683396</th>\n      <td>0.500000</td>\n      <td>0.0</td>\n      <td>0.693775</td>\n      <td>0.323070</td>\n      <td>0.0</td>\n      <td>0.000000</td>\n      <td>0.0</td>\n      <td>0.000000</td>\n      <td>0.0</td>\n      <td>0.0</td>\n      <td>...</td>\n      <td>0</td>\n      <td>0</td>\n      <td>0</td>\n      <td>0</td>\n      <td>0</td>\n      <td>0</td>\n      <td>0</td>\n      <td>0</td>\n      <td>1</td>\n      <td>2015-08-19</td>\n    </tr>\n    <tr>\n      <th>683430</th>\n      <td>0.333333</td>\n      <td>0.0</td>\n      <td>0.008494</td>\n      <td>0.415552</td>\n      <td>0.0</td>\n      <td>0.000000</td>\n      <td>0.0</td>\n      <td>0.000000</td>\n      <td>0.0</td>\n      <td>0.0</td>\n      <td>...</td>\n      <td>0</td>\n      <td>0</td>\n      <td>0</td>\n      <td>0</td>\n      <td>0</td>\n      <td>0</td>\n      <td>0</td>\n      <td>0</td>\n      <td>1</td>\n      <td>2015-08-19</td>\n    </tr>\n    <tr>\n      <th>683431</th>\n      <td>0.333333</td>\n      <td>0.0</td>\n      <td>0.092269</td>\n      <td>0.415552</td>\n      <td>0.0</td>\n      <td>0.000000</td>\n      <td>0.0</td>\n      <td>0.000000</td>\n      <td>0.0</td>\n      <td>0.0</td>\n      <td>...</td>\n      <td>0</td>\n      <td>0</td>\n      <td>0</td>\n      <td>0</td>\n      <td>0</td>\n      <td>0</td>\n      <td>0</td>\n      <td>0</td>\n      <td>1</td>\n      <td>2015-08-19</td>\n    </tr>\n    <tr>\n      <th>683432</th>\n      <td>0.333333</td>\n      <td>0.0</td>\n      <td>0.019980</td>\n      <td>0.228153</td>\n      <td>0.0</td>\n      <td>0.000000</td>\n      <td>0.0</td>\n      <td>0.000000</td>\n      <td>0.0</td>\n      <td>0.0</td>\n      <td>...</td>\n      <td>0</td>\n      <td>0</td>\n      <td>0</td>\n      <td>0</td>\n      <td>0</td>\n      <td>0</td>\n      <td>0</td>\n      <td>0</td>\n      <td>1</td>\n      <td>2015-08-19</td>\n    </tr>\n    <tr>\n      <th>683433</th>\n      <td>0.333333</td>\n      <td>0.0</td>\n      <td>0.000028</td>\n      <td>0.228153</td>\n      <td>0.0</td>\n      <td>0.000000</td>\n      <td>0.0</td>\n      <td>0.000000</td>\n      <td>0.0</td>\n      <td>0.0</td>\n      <td>...</td>\n      <td>0</td>\n      <td>0</td>\n      <td>0</td>\n      <td>0</td>\n      <td>0</td>\n      <td>0</td>\n      <td>0</td>\n      <td>0</td>\n      <td>1</td>\n      <td>2015-08-19</td>\n    </tr>\n  </tbody>\n</table>\n<p>683270 rows × 72 columns</p>\n</div>"
     },
     "execution_count": 19,
     "metadata": {},
     "output_type": "execute_result"
    }
   ],
   "source": [
    "X_train"
   ],
   "metadata": {
    "collapsed": false,
    "ExecuteTime": {
     "end_time": "2024-07-24T18:46:43.576209200Z",
     "start_time": "2024-07-24T18:46:43.238209800Z"
    }
   },
   "id": "cab0bd7b36ae3459"
  },
  {
   "cell_type": "code",
   "execution_count": 20,
   "outputs": [],
   "source": [
    "feature_names = X_preprocessed.columns"
   ],
   "metadata": {
    "collapsed": false,
    "ExecuteTime": {
     "end_time": "2024-07-24T18:46:43.600210400Z",
     "start_time": "2024-07-24T18:46:43.573209200Z"
    }
   },
   "id": "865aefa9559073aa"
  },
  {
   "cell_type": "code",
   "execution_count": 21,
   "outputs": [],
   "source": [
    "feat_name_x_train = X_train.columns"
   ],
   "metadata": {
    "collapsed": false,
    "ExecuteTime": {
     "end_time": "2024-07-24T18:46:43.650210900Z",
     "start_time": "2024-07-24T18:46:43.599208600Z"
    }
   },
   "id": "f29105df6fbd6c9f"
  },
  {
   "cell_type": "code",
   "execution_count": 22,
   "outputs": [],
   "source": [
    "def upsampling(X_train, y_train):\n",
    "    # Convert y_train to a numpy array\n",
    "    # y_train = y_train.to_numpy()\n",
    "    X_train = X_train.to_numpy()\n",
    "\n",
    "    # Count the number of samples in each class\n",
    "    class_counts = np.bincount(y_train.flatten().astype(int))\n",
    "    max_count = class_counts.max()\n",
    "\n",
    "    # Find indices of positive instances\n",
    "    positive_indices = np.where(y_train.flatten() == 1)[0]\n",
    "\n",
    "    # Calculate how many times to duplicate positive samples\n",
    "    difference = max_count - class_counts[1]\n",
    "\n",
    "    # Randomly select indices from positive instances\n",
    "    random_indices = np.random.choice(positive_indices, size=difference, replace=True)\n",
    "\n",
    "    # Get rows corresponding to positive instances\n",
    "    rows_to_duplicate = np.vstack([X_train[idx] for idx in random_indices])\n",
    "\n",
    "    # Stack duplicated rows with the original matrix\n",
    "    X_train_upsampled = np.vstack([X_train, rows_to_duplicate])\n",
    "\n",
    "    # Create an array of shape (x, 1) with all elements as 1\n",
    "    rows_of_ones = np.ones((difference, 1))\n",
    "\n",
    "    # Append rows_of_ones to original_array\n",
    "    y_train_upsampled = np.concatenate((y_train, rows_of_ones), axis=0)\n",
    "\n",
    "    print(\"######UPSAMPLING DONE######\")\n",
    "    return X_train_upsampled, y_train_upsampled"
   ],
   "metadata": {
    "collapsed": false,
    "ExecuteTime": {
     "end_time": "2024-07-24T18:46:43.727207600Z",
     "start_time": "2024-07-24T18:46:43.641211700Z"
    }
   },
   "id": "36211a3e55fef0f5"
  },
  {
   "cell_type": "code",
   "execution_count": 23,
   "outputs": [
    {
     "name": "stdout",
     "output_type": "stream",
     "text": [
      "######UPSAMPLING DONE######\n"
     ]
    }
   ],
   "source": [
    "X_train, y_train = upsampling(X_train, y_train.values.reshape(-1, 1))"
   ],
   "metadata": {
    "collapsed": false,
    "ExecuteTime": {
     "end_time": "2024-07-24T18:46:51.155208400Z",
     "start_time": "2024-07-24T18:46:43.664211100Z"
    }
   },
   "id": "e14d99b1a8fa7f24"
  },
  {
   "cell_type": "code",
   "execution_count": 24,
   "outputs": [],
   "source": [
    "X_train_df = pd.DataFrame(X_train, columns=feat_name_x_train)\n",
    "y_train_df = pd.DataFrame(y_train, columns=[\"hit\"])"
   ],
   "metadata": {
    "collapsed": false,
    "ExecuteTime": {
     "end_time": "2024-07-24T18:46:51.259208100Z",
     "start_time": "2024-07-24T18:46:51.166207700Z"
    }
   },
   "id": "3e2cb1ad19771dfd"
  },
  {
   "cell_type": "code",
   "execution_count": 25,
   "outputs": [],
   "source": [
    "X_train_upsampled_with_y = pd.concat([X_train_df, y_train_df], axis=1)\n",
    "X_train_upsampled_with_y['date'] = pd.to_datetime(X_train_upsampled_with_y['release_date'])\n",
    "X_train_upsampled_with_y.sort_values(by=\"date\", inplace=True)\n",
    "X_train_upsampled_with_y.drop(columns=[\"release_date\", \"date\"], inplace=True)\n",
    "\n",
    "# print(X_train_upsampled_with_y.head())\n",
    "# prepro:\n",
    "y_train_upsampled_ordered = X_train_upsampled_with_y[\"hit\"]\n",
    "X_train_upsampled_ordered = X_train_upsampled_with_y.drop(columns=\"hit\")"
   ],
   "metadata": {
    "collapsed": false,
    "ExecuteTime": {
     "end_time": "2024-07-24T18:47:00.138209500Z",
     "start_time": "2024-07-24T18:46:51.264207400Z"
    }
   },
   "id": "49648a96a8353efe"
  },
  {
   "cell_type": "code",
   "execution_count": 26,
   "outputs": [],
   "source": [
    "X_train_df = X_train_upsampled_ordered\n",
    "y_train_df = y_train_upsampled_ordered "
   ],
   "metadata": {
    "collapsed": false,
    "ExecuteTime": {
     "end_time": "2024-07-24T18:47:00.157212700Z",
     "start_time": "2024-07-24T18:47:00.141210400Z"
    }
   },
   "id": "a435c96e72feb4ff"
  },
  {
   "cell_type": "code",
   "execution_count": 30,
   "outputs": [
    {
     "data": {
      "text/plain": "        Cluster_x Cluster_y acousticness artist1_num artist2_num  \\\n0        0.333333       0.0     0.692771    0.626175         0.0   \n1312344  0.333333       0.0     0.419679    0.664831         0.0   \n851015   0.666667  0.666667     0.344378    0.504364    0.821573   \n1312358  0.333333       0.0     0.641566    0.862831         0.0   \n851070   0.333333       0.0     0.182731     0.44593         0.0   \n...           ...       ...          ...         ...         ...   \n683232   0.333333       0.0     0.907631    0.909016         0.0   \n683231   0.333333       0.0     0.802209    0.228153         0.0   \n683230   0.166667       0.0     0.002871    0.318837         0.0   \n683228        1.0       0.0     0.007691    0.318837         0.0   \n683222   0.333333       0.0     0.929719    0.538338         0.0   \n\n        betweenesscentrality_x betweenesscentrality_y closnesscentrality_x  \\\n0                          0.0                    0.0                  0.0   \n1312344                    0.0                    0.0                  0.0   \n851015                     0.0                    0.0                  1.0   \n1312358                    0.0                    0.0                  0.0   \n851070                     0.0                    0.0                  0.0   \n...                        ...                    ...                  ...   \n683232                     0.0                    0.0                  0.0   \n683231                     0.0                    0.0                  0.0   \n683230                     0.0                    0.0                  1.0   \n683228                     1.0                    0.0                  1.0   \n683222                     0.0                    0.0                  0.0   \n\n        closnesscentrality_y clustering_x  ... profile_x_1B 2B 3A 4A  \\\n0                        0.0          0.0  ...                     0   \n1312344                  0.0          0.0  ...                     0   \n851015                   1.0          0.0  ...                     0   \n1312358                  0.0          0.0  ...                     0   \n851070                   0.0          0.0  ...                     0   \n...                      ...          ...  ...                   ...   \n683232                   0.0          0.0  ...                     0   \n683231                   0.0          0.0  ...                     0   \n683230                   0.0          0.0  ...                     0   \n683228                   0.0          0.0  ...                     0   \n683222                   0.0          0.0  ...                     0   \n\n        profile_x_No Match profile_y_1A 2A 3A 4A profile_y_1A 2A 3A 4B  \\\n0                        0                     0                     0   \n1312344                  0                     0                     0   \n851015                   0                     0                     0   \n1312358                  0                     0                     0   \n851070                   0                     0                     0   \n...                    ...                   ...                   ...   \n683232                   0                     0                     0   \n683231                   0                     0                     0   \n683230                   0                     0                     0   \n683228                   0                     0                     0   \n683222                   0                     0                     0   \n\n        profile_y_1A 2A 3B 4A profile_y_1A 2B 3A 4A profile_y_1A 2B 3A 4B  \\\n0                           0                     0                     0   \n1312344                     0                     0                     0   \n851015                      0                     1                     0   \n1312358                     0                     0                     0   \n851070                      0                     0                     0   \n...                       ...                   ...                   ...   \n683232                      0                     0                     0   \n683231                      0                     0                     0   \n683230                      0                     0                     0   \n683228                      0                     0                     0   \n683222                      0                     0                     0   \n\n        profile_y_1A 2B 3B 4A profile_y_1B 2A 3A 4A profile_y_No Match  \n0                           0                     0                  1  \n1312344                     0                     0                  1  \n851015                      0                     0                  0  \n1312358                     0                     0                  1  \n851070                      0                     0                  1  \n...                       ...                   ...                ...  \n683232                      0                     0                  1  \n683231                      0                     0                  1  \n683230                      0                     0                  1  \n683228                      0                     0                  1  \n683222                      0                     0                  1  \n\n[1346874 rows x 71 columns]",
      "text/html": "<div>\n<style scoped>\n    .dataframe tbody tr th:only-of-type {\n        vertical-align: middle;\n    }\n\n    .dataframe tbody tr th {\n        vertical-align: top;\n    }\n\n    .dataframe thead th {\n        text-align: right;\n    }\n</style>\n<table border=\"1\" class=\"dataframe\">\n  <thead>\n    <tr style=\"text-align: right;\">\n      <th></th>\n      <th>Cluster_x</th>\n      <th>Cluster_y</th>\n      <th>acousticness</th>\n      <th>artist1_num</th>\n      <th>artist2_num</th>\n      <th>betweenesscentrality_x</th>\n      <th>betweenesscentrality_y</th>\n      <th>closnesscentrality_x</th>\n      <th>closnesscentrality_y</th>\n      <th>clustering_x</th>\n      <th>...</th>\n      <th>profile_x_1B 2B 3A 4A</th>\n      <th>profile_x_No Match</th>\n      <th>profile_y_1A 2A 3A 4A</th>\n      <th>profile_y_1A 2A 3A 4B</th>\n      <th>profile_y_1A 2A 3B 4A</th>\n      <th>profile_y_1A 2B 3A 4A</th>\n      <th>profile_y_1A 2B 3A 4B</th>\n      <th>profile_y_1A 2B 3B 4A</th>\n      <th>profile_y_1B 2A 3A 4A</th>\n      <th>profile_y_No Match</th>\n    </tr>\n  </thead>\n  <tbody>\n    <tr>\n      <th>0</th>\n      <td>0.333333</td>\n      <td>0.0</td>\n      <td>0.692771</td>\n      <td>0.626175</td>\n      <td>0.0</td>\n      <td>0.0</td>\n      <td>0.0</td>\n      <td>0.0</td>\n      <td>0.0</td>\n      <td>0.0</td>\n      <td>...</td>\n      <td>0</td>\n      <td>0</td>\n      <td>0</td>\n      <td>0</td>\n      <td>0</td>\n      <td>0</td>\n      <td>0</td>\n      <td>0</td>\n      <td>0</td>\n      <td>1</td>\n    </tr>\n    <tr>\n      <th>1312344</th>\n      <td>0.333333</td>\n      <td>0.0</td>\n      <td>0.419679</td>\n      <td>0.664831</td>\n      <td>0.0</td>\n      <td>0.0</td>\n      <td>0.0</td>\n      <td>0.0</td>\n      <td>0.0</td>\n      <td>0.0</td>\n      <td>...</td>\n      <td>0</td>\n      <td>0</td>\n      <td>0</td>\n      <td>0</td>\n      <td>0</td>\n      <td>0</td>\n      <td>0</td>\n      <td>0</td>\n      <td>0</td>\n      <td>1</td>\n    </tr>\n    <tr>\n      <th>851015</th>\n      <td>0.666667</td>\n      <td>0.666667</td>\n      <td>0.344378</td>\n      <td>0.504364</td>\n      <td>0.821573</td>\n      <td>0.0</td>\n      <td>0.0</td>\n      <td>1.0</td>\n      <td>1.0</td>\n      <td>0.0</td>\n      <td>...</td>\n      <td>0</td>\n      <td>0</td>\n      <td>0</td>\n      <td>0</td>\n      <td>0</td>\n      <td>1</td>\n      <td>0</td>\n      <td>0</td>\n      <td>0</td>\n      <td>0</td>\n    </tr>\n    <tr>\n      <th>1312358</th>\n      <td>0.333333</td>\n      <td>0.0</td>\n      <td>0.641566</td>\n      <td>0.862831</td>\n      <td>0.0</td>\n      <td>0.0</td>\n      <td>0.0</td>\n      <td>0.0</td>\n      <td>0.0</td>\n      <td>0.0</td>\n      <td>...</td>\n      <td>0</td>\n      <td>0</td>\n      <td>0</td>\n      <td>0</td>\n      <td>0</td>\n      <td>0</td>\n      <td>0</td>\n      <td>0</td>\n      <td>0</td>\n      <td>1</td>\n    </tr>\n    <tr>\n      <th>851070</th>\n      <td>0.333333</td>\n      <td>0.0</td>\n      <td>0.182731</td>\n      <td>0.44593</td>\n      <td>0.0</td>\n      <td>0.0</td>\n      <td>0.0</td>\n      <td>0.0</td>\n      <td>0.0</td>\n      <td>0.0</td>\n      <td>...</td>\n      <td>0</td>\n      <td>0</td>\n      <td>0</td>\n      <td>0</td>\n      <td>0</td>\n      <td>0</td>\n      <td>0</td>\n      <td>0</td>\n      <td>0</td>\n      <td>1</td>\n    </tr>\n    <tr>\n      <th>...</th>\n      <td>...</td>\n      <td>...</td>\n      <td>...</td>\n      <td>...</td>\n      <td>...</td>\n      <td>...</td>\n      <td>...</td>\n      <td>...</td>\n      <td>...</td>\n      <td>...</td>\n      <td>...</td>\n      <td>...</td>\n      <td>...</td>\n      <td>...</td>\n      <td>...</td>\n      <td>...</td>\n      <td>...</td>\n      <td>...</td>\n      <td>...</td>\n      <td>...</td>\n      <td>...</td>\n    </tr>\n    <tr>\n      <th>683232</th>\n      <td>0.333333</td>\n      <td>0.0</td>\n      <td>0.907631</td>\n      <td>0.909016</td>\n      <td>0.0</td>\n      <td>0.0</td>\n      <td>0.0</td>\n      <td>0.0</td>\n      <td>0.0</td>\n      <td>0.0</td>\n      <td>...</td>\n      <td>0</td>\n      <td>0</td>\n      <td>0</td>\n      <td>0</td>\n      <td>0</td>\n      <td>0</td>\n      <td>0</td>\n      <td>0</td>\n      <td>0</td>\n      <td>1</td>\n    </tr>\n    <tr>\n      <th>683231</th>\n      <td>0.333333</td>\n      <td>0.0</td>\n      <td>0.802209</td>\n      <td>0.228153</td>\n      <td>0.0</td>\n      <td>0.0</td>\n      <td>0.0</td>\n      <td>0.0</td>\n      <td>0.0</td>\n      <td>0.0</td>\n      <td>...</td>\n      <td>0</td>\n      <td>0</td>\n      <td>0</td>\n      <td>0</td>\n      <td>0</td>\n      <td>0</td>\n      <td>0</td>\n      <td>0</td>\n      <td>0</td>\n      <td>1</td>\n    </tr>\n    <tr>\n      <th>683230</th>\n      <td>0.166667</td>\n      <td>0.0</td>\n      <td>0.002871</td>\n      <td>0.318837</td>\n      <td>0.0</td>\n      <td>0.0</td>\n      <td>0.0</td>\n      <td>1.0</td>\n      <td>0.0</td>\n      <td>0.0</td>\n      <td>...</td>\n      <td>0</td>\n      <td>0</td>\n      <td>0</td>\n      <td>0</td>\n      <td>0</td>\n      <td>0</td>\n      <td>0</td>\n      <td>0</td>\n      <td>0</td>\n      <td>1</td>\n    </tr>\n    <tr>\n      <th>683228</th>\n      <td>1.0</td>\n      <td>0.0</td>\n      <td>0.007691</td>\n      <td>0.318837</td>\n      <td>0.0</td>\n      <td>1.0</td>\n      <td>0.0</td>\n      <td>1.0</td>\n      <td>0.0</td>\n      <td>0.0</td>\n      <td>...</td>\n      <td>0</td>\n      <td>0</td>\n      <td>0</td>\n      <td>0</td>\n      <td>0</td>\n      <td>0</td>\n      <td>0</td>\n      <td>0</td>\n      <td>0</td>\n      <td>1</td>\n    </tr>\n    <tr>\n      <th>683222</th>\n      <td>0.333333</td>\n      <td>0.0</td>\n      <td>0.929719</td>\n      <td>0.538338</td>\n      <td>0.0</td>\n      <td>0.0</td>\n      <td>0.0</td>\n      <td>0.0</td>\n      <td>0.0</td>\n      <td>0.0</td>\n      <td>...</td>\n      <td>0</td>\n      <td>0</td>\n      <td>0</td>\n      <td>0</td>\n      <td>0</td>\n      <td>0</td>\n      <td>0</td>\n      <td>0</td>\n      <td>0</td>\n      <td>1</td>\n    </tr>\n  </tbody>\n</table>\n<p>1346874 rows × 71 columns</p>\n</div>"
     },
     "execution_count": 30,
     "metadata": {},
     "output_type": "execute_result"
    }
   ],
   "source": [
    "X_train_df"
   ],
   "metadata": {
    "collapsed": false,
    "ExecuteTime": {
     "end_time": "2024-07-24T18:49:32.374034400Z",
     "start_time": "2024-07-24T18:49:31.685034900Z"
    }
   },
   "id": "fc50f5c928666981"
  },
  {
   "cell_type": "code",
   "execution_count": 33,
   "outputs": [
    {
     "data": {
      "text/plain": "        Cluster_x  Cluster_y  acousticness  artist1_num  artist2_num  \\\n0        0.333333        0.0      0.692771     0.626175          0.0   \n3659     0.166667        0.0      0.298193     0.485935          0.0   \n3658     1.000000        0.0      0.105422     0.052740          0.0   \n3657     1.000000        0.0      0.027309     0.052740          0.0   \n3656     1.000000        0.0      0.025904     0.052740          0.0   \n...           ...        ...           ...          ...          ...   \n683396   0.500000        0.0      0.693775     0.323070          0.0   \n683430   0.333333        0.0      0.008494     0.415552          0.0   \n683431   0.333333        0.0      0.092269     0.415552          0.0   \n683432   0.333333        0.0      0.019980     0.228153          0.0   \n683433   0.333333        0.0      0.000028     0.228153          0.0   \n\n        betweenesscentrality_x  betweenesscentrality_y  closnesscentrality_x  \\\n0                     0.000000                     0.0              0.000000   \n3659                  0.002665                     0.0              0.176706   \n3658                  1.000000                     0.0              1.000000   \n3657                  1.000000                     0.0              1.000000   \n3656                  1.000000                     0.0              1.000000   \n...                        ...                     ...                   ...   \n683396                0.000000                     0.0              0.000000   \n683430                0.000000                     0.0              0.000000   \n683431                0.000000                     0.0              0.000000   \n683432                0.000000                     0.0              0.000000   \n683433                0.000000                     0.0              0.000000   \n\n        closnesscentrality_y  clustering_x  ...  profile_x_No Match  \\\n0                        0.0           0.0  ...                   0   \n3659                     0.0           0.0  ...                   0   \n3658                     0.0           0.0  ...                   0   \n3657                     0.0           0.0  ...                   0   \n3656                     0.0           0.0  ...                   0   \n...                      ...           ...  ...                 ...   \n683396                   0.0           0.0  ...                   0   \n683430                   0.0           0.0  ...                   0   \n683431                   0.0           0.0  ...                   0   \n683432                   0.0           0.0  ...                   0   \n683433                   0.0           0.0  ...                   0   \n\n        profile_y_1A 2A 3A 4A  profile_y_1A 2A 3A 4B  profile_y_1A 2A 3B 4A  \\\n0                           0                      0                      0   \n3659                        0                      0                      0   \n3658                        0                      0                      0   \n3657                        0                      0                      0   \n3656                        0                      0                      0   \n...                       ...                    ...                    ...   \n683396                      0                      0                      0   \n683430                      0                      0                      0   \n683431                      0                      0                      0   \n683432                      0                      0                      0   \n683433                      0                      0                      0   \n\n        profile_y_1A 2B 3A 4A  profile_y_1A 2B 3A 4B  profile_y_1A 2B 3B 4A  \\\n0                           0                      0                      0   \n3659                        0                      0                      0   \n3658                        0                      0                      0   \n3657                        0                      0                      0   \n3656                        0                      0                      0   \n...                       ...                    ...                    ...   \n683396                      0                      0                      0   \n683430                      0                      0                      0   \n683431                      0                      0                      0   \n683432                      0                      0                      0   \n683433                      0                      0                      0   \n\n        profile_y_1B 2A 3A 4A  profile_y_No Match  release_date  \n0                           0                   1    1995-01-01  \n3659                        0                   1    1995-01-01  \n3658                        0                   1    1995-01-01  \n3657                        0                   1    1995-01-01  \n3656                        0                   1    1995-01-01  \n...                       ...                 ...           ...  \n683396                      0                   1    2015-08-19  \n683430                      0                   1    2015-08-19  \n683431                      0                   1    2015-08-19  \n683432                      0                   1    2015-08-19  \n683433                      0                   1    2015-08-19  \n\n[683270 rows x 72 columns]",
      "text/html": "<div>\n<style scoped>\n    .dataframe tbody tr th:only-of-type {\n        vertical-align: middle;\n    }\n\n    .dataframe tbody tr th {\n        vertical-align: top;\n    }\n\n    .dataframe thead th {\n        text-align: right;\n    }\n</style>\n<table border=\"1\" class=\"dataframe\">\n  <thead>\n    <tr style=\"text-align: right;\">\n      <th></th>\n      <th>Cluster_x</th>\n      <th>Cluster_y</th>\n      <th>acousticness</th>\n      <th>artist1_num</th>\n      <th>artist2_num</th>\n      <th>betweenesscentrality_x</th>\n      <th>betweenesscentrality_y</th>\n      <th>closnesscentrality_x</th>\n      <th>closnesscentrality_y</th>\n      <th>clustering_x</th>\n      <th>...</th>\n      <th>profile_x_No Match</th>\n      <th>profile_y_1A 2A 3A 4A</th>\n      <th>profile_y_1A 2A 3A 4B</th>\n      <th>profile_y_1A 2A 3B 4A</th>\n      <th>profile_y_1A 2B 3A 4A</th>\n      <th>profile_y_1A 2B 3A 4B</th>\n      <th>profile_y_1A 2B 3B 4A</th>\n      <th>profile_y_1B 2A 3A 4A</th>\n      <th>profile_y_No Match</th>\n      <th>release_date</th>\n    </tr>\n  </thead>\n  <tbody>\n    <tr>\n      <th>0</th>\n      <td>0.333333</td>\n      <td>0.0</td>\n      <td>0.692771</td>\n      <td>0.626175</td>\n      <td>0.0</td>\n      <td>0.000000</td>\n      <td>0.0</td>\n      <td>0.000000</td>\n      <td>0.0</td>\n      <td>0.0</td>\n      <td>...</td>\n      <td>0</td>\n      <td>0</td>\n      <td>0</td>\n      <td>0</td>\n      <td>0</td>\n      <td>0</td>\n      <td>0</td>\n      <td>0</td>\n      <td>1</td>\n      <td>1995-01-01</td>\n    </tr>\n    <tr>\n      <th>3659</th>\n      <td>0.166667</td>\n      <td>0.0</td>\n      <td>0.298193</td>\n      <td>0.485935</td>\n      <td>0.0</td>\n      <td>0.002665</td>\n      <td>0.0</td>\n      <td>0.176706</td>\n      <td>0.0</td>\n      <td>0.0</td>\n      <td>...</td>\n      <td>0</td>\n      <td>0</td>\n      <td>0</td>\n      <td>0</td>\n      <td>0</td>\n      <td>0</td>\n      <td>0</td>\n      <td>0</td>\n      <td>1</td>\n      <td>1995-01-01</td>\n    </tr>\n    <tr>\n      <th>3658</th>\n      <td>1.000000</td>\n      <td>0.0</td>\n      <td>0.105422</td>\n      <td>0.052740</td>\n      <td>0.0</td>\n      <td>1.000000</td>\n      <td>0.0</td>\n      <td>1.000000</td>\n      <td>0.0</td>\n      <td>0.0</td>\n      <td>...</td>\n      <td>0</td>\n      <td>0</td>\n      <td>0</td>\n      <td>0</td>\n      <td>0</td>\n      <td>0</td>\n      <td>0</td>\n      <td>0</td>\n      <td>1</td>\n      <td>1995-01-01</td>\n    </tr>\n    <tr>\n      <th>3657</th>\n      <td>1.000000</td>\n      <td>0.0</td>\n      <td>0.027309</td>\n      <td>0.052740</td>\n      <td>0.0</td>\n      <td>1.000000</td>\n      <td>0.0</td>\n      <td>1.000000</td>\n      <td>0.0</td>\n      <td>0.0</td>\n      <td>...</td>\n      <td>0</td>\n      <td>0</td>\n      <td>0</td>\n      <td>0</td>\n      <td>0</td>\n      <td>0</td>\n      <td>0</td>\n      <td>0</td>\n      <td>1</td>\n      <td>1995-01-01</td>\n    </tr>\n    <tr>\n      <th>3656</th>\n      <td>1.000000</td>\n      <td>0.0</td>\n      <td>0.025904</td>\n      <td>0.052740</td>\n      <td>0.0</td>\n      <td>1.000000</td>\n      <td>0.0</td>\n      <td>1.000000</td>\n      <td>0.0</td>\n      <td>0.0</td>\n      <td>...</td>\n      <td>0</td>\n      <td>0</td>\n      <td>0</td>\n      <td>0</td>\n      <td>0</td>\n      <td>0</td>\n      <td>0</td>\n      <td>0</td>\n      <td>1</td>\n      <td>1995-01-01</td>\n    </tr>\n    <tr>\n      <th>...</th>\n      <td>...</td>\n      <td>...</td>\n      <td>...</td>\n      <td>...</td>\n      <td>...</td>\n      <td>...</td>\n      <td>...</td>\n      <td>...</td>\n      <td>...</td>\n      <td>...</td>\n      <td>...</td>\n      <td>...</td>\n      <td>...</td>\n      <td>...</td>\n      <td>...</td>\n      <td>...</td>\n      <td>...</td>\n      <td>...</td>\n      <td>...</td>\n      <td>...</td>\n      <td>...</td>\n    </tr>\n    <tr>\n      <th>683396</th>\n      <td>0.500000</td>\n      <td>0.0</td>\n      <td>0.693775</td>\n      <td>0.323070</td>\n      <td>0.0</td>\n      <td>0.000000</td>\n      <td>0.0</td>\n      <td>0.000000</td>\n      <td>0.0</td>\n      <td>0.0</td>\n      <td>...</td>\n      <td>0</td>\n      <td>0</td>\n      <td>0</td>\n      <td>0</td>\n      <td>0</td>\n      <td>0</td>\n      <td>0</td>\n      <td>0</td>\n      <td>1</td>\n      <td>2015-08-19</td>\n    </tr>\n    <tr>\n      <th>683430</th>\n      <td>0.333333</td>\n      <td>0.0</td>\n      <td>0.008494</td>\n      <td>0.415552</td>\n      <td>0.0</td>\n      <td>0.000000</td>\n      <td>0.0</td>\n      <td>0.000000</td>\n      <td>0.0</td>\n      <td>0.0</td>\n      <td>...</td>\n      <td>0</td>\n      <td>0</td>\n      <td>0</td>\n      <td>0</td>\n      <td>0</td>\n      <td>0</td>\n      <td>0</td>\n      <td>0</td>\n      <td>1</td>\n      <td>2015-08-19</td>\n    </tr>\n    <tr>\n      <th>683431</th>\n      <td>0.333333</td>\n      <td>0.0</td>\n      <td>0.092269</td>\n      <td>0.415552</td>\n      <td>0.0</td>\n      <td>0.000000</td>\n      <td>0.0</td>\n      <td>0.000000</td>\n      <td>0.0</td>\n      <td>0.0</td>\n      <td>...</td>\n      <td>0</td>\n      <td>0</td>\n      <td>0</td>\n      <td>0</td>\n      <td>0</td>\n      <td>0</td>\n      <td>0</td>\n      <td>0</td>\n      <td>1</td>\n      <td>2015-08-19</td>\n    </tr>\n    <tr>\n      <th>683432</th>\n      <td>0.333333</td>\n      <td>0.0</td>\n      <td>0.019980</td>\n      <td>0.228153</td>\n      <td>0.0</td>\n      <td>0.000000</td>\n      <td>0.0</td>\n      <td>0.000000</td>\n      <td>0.0</td>\n      <td>0.0</td>\n      <td>...</td>\n      <td>0</td>\n      <td>0</td>\n      <td>0</td>\n      <td>0</td>\n      <td>0</td>\n      <td>0</td>\n      <td>0</td>\n      <td>0</td>\n      <td>1</td>\n      <td>2015-08-19</td>\n    </tr>\n    <tr>\n      <th>683433</th>\n      <td>0.333333</td>\n      <td>0.0</td>\n      <td>0.000028</td>\n      <td>0.228153</td>\n      <td>0.0</td>\n      <td>0.000000</td>\n      <td>0.0</td>\n      <td>0.000000</td>\n      <td>0.0</td>\n      <td>0.0</td>\n      <td>...</td>\n      <td>0</td>\n      <td>0</td>\n      <td>0</td>\n      <td>0</td>\n      <td>0</td>\n      <td>0</td>\n      <td>0</td>\n      <td>0</td>\n      <td>1</td>\n      <td>2015-08-19</td>\n    </tr>\n  </tbody>\n</table>\n<p>683270 rows × 72 columns</p>\n</div>"
     },
     "execution_count": 33,
     "metadata": {},
     "output_type": "execute_result"
    }
   ],
   "source": [
    "X_train_noup"
   ],
   "metadata": {
    "collapsed": false,
    "ExecuteTime": {
     "end_time": "2024-07-24T18:54:32.447709400Z",
     "start_time": "2024-07-24T18:54:32.302324100Z"
    }
   },
   "id": "57f6b83dcc695898"
  },
  {
   "cell_type": "code",
   "execution_count": 32,
   "outputs": [
    {
     "data": {
      "text/plain": "<Figure size 1000x600 with 1 Axes>",
      "image/png": "[encoded data removed]"
     },
     "metadata": {},
     "output_type": "display_data"
    }
   ],
   "source": [
    "import pandas as pd\n",
    "from sklearn.ensemble import RandomForestClassifier\n",
    "import matplotlib.pyplot as plt\n",
    "import seaborn as sns\n",
    "\n",
    "# Split the data into training and testing sets\n",
    "#X_train, X_test, y_train, y_test = train_test_split(X, y, test_size=0.25, random_state=42)\n",
    "\n",
    "# Initialize and train the Random Forest classifier\n",
    "clf = RandomForestClassifier(n_estimators=100, random_state=42)\n",
    "clf.fit(X_train_noup.loc[:, X_train_noup.columns != 'release_date'], y_train_noup)\n",
    "\n",
    "# Get the feature importances\n",
    "importances = clf.feature_importances_\n",
    "\n",
    "# Create a DataFrame for visualization\n",
    "feature_importances = pd.DataFrame({'Feature': X_train_df.columns, 'Importance': importances})\n",
    "feature_importances = feature_importances.sort_values(by='Importance', ascending=False)\n",
    "\n",
    "# Plot the feature importances\n",
    "plt.figure(figsize=(10, 6))\n",
    "sns.barplot(x='Importance', y='Feature', data=feature_importances.iloc[0:20])\n",
    "plt.title('Feature Importances')\n",
    "plt.xlabel('Importance')\n",
    "plt.ylabel('Feature')\n",
    "\n",
    "# plt.xticks(fontsize=12)\n",
    "# plt.yticks(fontsize=10)\n",
    "# plt.tight_layout()\n",
    "\n",
    "plt.show()\n"
   ],
   "metadata": {
    "collapsed": false,
    "ExecuteTime": {
     "end_time": "2024-07-24T18:54:32.179422500Z",
     "start_time": "2024-07-24T18:51:38.785917Z"
    }
   },
   "id": "98d427615baedd25"
  },
  {
   "cell_type": "code",
   "execution_count": null,
   "outputs": [],
   "source": [
    "import shap\n",
    "# Calculate SHAP values\n",
    "explainer = shap.TreeExplainer(clf)\n",
    "shap_values = explainer.shap_values(X_train_noup.iloc[:1000])\n",
    "\n",
    "# Plot the summary plot\n",
    "shap.summary_plot(shap_values, X_train_noup, feature_names=X_train_noup.columns)"
   ],
   "metadata": {
    "collapsed": false,
    "ExecuteTime": {
     "end_time": "2024-07-24T18:47:08.067029400Z",
     "start_time": "2024-07-24T18:47:08.064029700Z"
    }
   },
   "id": "18f51020d53a9416"
  },
  {
   "cell_type": "code",
   "execution_count": null,
   "outputs": [],
   "source": [
    "# Calculate SHAP values\n",
    "explainer = shap.TreeExplainer(clf)\n",
    "shap_values = explainer.shap_values(X_train_noup.iloc[:10000])\n",
    "\n",
    "# Plot the summary plot\n",
    "shap.summary_plot(shap_values, X_train_noup, feature_names=X_train_noup.columns)"
   ],
   "metadata": {
    "collapsed": false,
    "ExecuteTime": {
     "start_time": "2024-07-24T18:47:08.066029100Z"
    }
   },
   "id": "b7e494e68cf74586"
  },
  {
   "cell_type": "code",
   "execution_count": null,
   "outputs": [],
   "source": [
    "#lolkdsdo"
   ],
   "metadata": {
    "collapsed": false,
    "ExecuteTime": {
     "start_time": "2024-07-24T18:47:08.068030800Z"
    }
   },
   "id": "2c33bc409a6fe320"
  },
  {
   "cell_type": "code",
   "execution_count": null,
   "outputs": [],
   "source": [
    "X_train_df.drop(columns=[\"years_on_charts\"], inplace=True)"
   ],
   "metadata": {
    "collapsed": false,
    "ExecuteTime": {
     "end_time": "2024-07-24T18:47:08.081029300Z",
     "start_time": "2024-07-24T18:47:08.070030Z"
    }
   },
   "id": "cf6b3df34019b44e"
  },
  {
   "cell_type": "code",
   "execution_count": null,
   "outputs": [],
   "source": [
    "import pandas as pd\n",
    "from sklearn.ensemble import RandomForestClassifier\n",
    "import matplotlib.pyplot as plt\n",
    "import seaborn as sns\n",
    "\n",
    "# Split the data into training and testing sets\n",
    "#X_train, X_test, y_train, y_test = train_test_split(X, y, test_size=0.25, random_state=42)\n",
    "\n",
    "# Initialize and train the Random Forest classifier\n",
    "clf2 = RandomForestClassifier(n_estimators=100, random_state=42)\n",
    "clf2.fit(X_train_df, y_train_df)\n",
    "\n",
    "# Get the feature importances\n",
    "importances = clf2.feature_importances_\n",
    "\n",
    "# Create a DataFrame for visualization\n",
    "feature_importances = pd.DataFrame({'Feature': X_train_df.columns, 'Importance': importances})\n",
    "feature_importances = feature_importances.sort_values(by='Importance', ascending=False)\n",
    "\n",
    "# Plot the feature importances\n",
    "plt.figure(figsize=(10, 6))\n",
    "sns.barplot(x='Importance', y='Feature', data=feature_importances.iloc[0:20])\n",
    "plt.title('Feature Importances')\n",
    "plt.xlabel('Importance')\n",
    "plt.ylabel('Feature')\n",
    "\n",
    "# plt.xticks(fontsize=12)\n",
    "# plt.yticks(fontsize=10)\n",
    "# plt.tight_layout()\n",
    "\n",
    "plt.show()\n"
   ],
   "metadata": {
    "collapsed": false,
    "ExecuteTime": {
     "start_time": "2024-07-24T18:47:08.072029400Z"
    }
   },
   "id": "873706c690028d45"
  },
  {
   "cell_type": "code",
   "execution_count": null,
   "outputs": [],
   "source": [
    "X_train_noup.drop(columns=\"years_on_charts\", inplace=True)"
   ],
   "metadata": {
    "collapsed": false,
    "ExecuteTime": {
     "start_time": "2024-07-24T18:47:08.073028900Z"
    }
   },
   "id": "3f0c8539fc4fe744"
  },
  {
   "cell_type": "code",
   "execution_count": null,
   "outputs": [],
   "source": [
    "explainer = shap.TreeExplainer(clf2)\n",
    "shap_values = explainer.shap_values(X_train_noup.iloc[:1000])\n",
    "\n",
    "# Plot the summary plot\n",
    "shap.summary_plot(shap_values, X_train_noup, feature_names=X_train_noup.columns)"
   ],
   "metadata": {
    "collapsed": false,
    "ExecuteTime": {
     "start_time": "2024-07-24T18:47:08.075032400Z"
    }
   },
   "id": "21b5f3c15138f3cc"
  },
  {
   "cell_type": "code",
   "execution_count": null,
   "outputs": [],
   "source": [
    "explainer = shap.TreeExplainer(clf2)\n",
    "shap_values = explainer.shap_values(X_train_noup.iloc[:10000])\n",
    "\n",
    "# Plot the summary plot\n",
    "shap.summary_plot(shap_values, X_train_noup, feature_names=X_train_noup.columns)"
   ],
   "metadata": {
    "collapsed": false,
    "ExecuteTime": {
     "start_time": "2024-07-24T18:47:08.076031700Z"
    }
   },
   "id": "283beab7175ff6a6"
  }
 ],
 "metadata": {
  "kernelspec": {
   "display_name": "Python 3",
   "language": "python",
   "name": "python3"
  },
  "language_info": {
   "codemirror_mode": {
    "name": "ipython",
    "version": 2
   },
   "file_extension": ".py",
   "mimetype": "text/x-python",
   "name": "python",
   "nbconvert_exporter": "python",
   "pygments_lexer": "ipython2",
   "version": "2.7.6"
  }
 },
 "nbformat": 4,
 "nbformat_minor": 5
}
