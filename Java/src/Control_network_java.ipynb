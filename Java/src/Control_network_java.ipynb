{
 "cells": [
  {
   "cell_type": "code",
   "execution_count": 19,
   "id": "initial_id",
   "metadata": {
    "collapsed": true,
    "ExecuteTime": {
     "end_time": "2024-02-28T16:03:26.750075300Z",
     "start_time": "2024-02-28T16:03:26.741074600Z"
    }
   },
   "outputs": [
    {
     "ename": "CompilationException",
     "evalue": "",
     "output_type": "error",
     "traceback": [
      "\u001B[1m\u001B[30m|   \u001B[1m\u001B[30mimport \u001B[0m\u001B[1m\u001B[30m\u001B[41morg.apache.spark.sql.Dataset\u001B[0m\u001B[1m\u001B[30m;\u001B[0m",
      "\u001B[1m\u001B[31mpackage org.apache.spark.sql does not exist\u001B[0m",
      ""
     ]
    }
   ],
   "source": [
    "import org.apache.spark.sql.Dataset;\n",
    "import org.apache.spark.sql.Row;\n",
    "import org.apache.spark.sql.SparkSession;\n",
    "\n",
    "public class ReadCSVWithSpark {\n",
    "\n",
    "    public static void main(String[] args) {\n",
    "        // Create SparkSession\n",
    "        SparkSession spark = SparkSession\n",
    "        .builder()\n",
    "        .appName(\"Read CSV with Spark\")\n",
    "        .master(\"local[*]\")  // Specify Spark master\n",
    "        .getOrCreate();\n",
    "        \n",
    "        // Read CSV file into DataFrame\n",
    "        Dataset<Row> df_artists = spark\n",
    "        .read()\n",
    "        .option(\"header\", \"true\")  // Use first line of file as header\n",
    "        .option(\"inferSchema\", \"true\")  // Automatically infer data types\n",
    "        .csv(\"Artists.csv\");\n",
    "        \n",
    "        // Show DataFrame contents\n",
    "        df_artists.show();\n",
    "        \n",
    "        // Stop SparkSession\n",
    "        spark.stop();\n",
    "    }\n",
    "}\n"
   ]
  },
  {
   "cell_type": "code",
   "execution_count": 20,
   "outputs": [],
   "source": [],
   "metadata": {
    "collapsed": false,
    "ExecuteTime": {
     "end_time": "2024-02-28T16:03:26.803074600Z",
     "start_time": "2024-02-28T16:03:26.802079200Z"
    }
   },
   "id": "950460d8a8f969cd"
  }
 ],
 "metadata": {
  "kernelspec": {
   "name": "java",
   "language": "java",
   "display_name": "Java"
  },
  "language_info": {
   "codemirror_mode": {
    "name": "ipython",
    "version": 2
   },
   "file_extension": ".py",
   "mimetype": "text/x-python",
   "name": "python",
   "nbconvert_exporter": "python",
   "pygments_lexer": "ipython2",
   "version": "2.7.6"
  }
 },
 "nbformat": 4,
 "nbformat_minor": 5
}