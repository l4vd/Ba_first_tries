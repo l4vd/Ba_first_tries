{
 "cells": [
  {
   "cell_type": "code",
   "execution_count": 1,
   "id": "initial_id",
   "metadata": {
    "collapsed": true,
    "ExecuteTime": {
     "end_time": "2024-04-12T08:45:40.595938Z",
     "start_time": "2024-04-12T08:45:40.500936800Z"
    }
   },
   "outputs": [
    {
     "data": {
      "text/plain": "                      song_id  \\\n0      3e9HZxeyfWwjeyPAMmWSSQ   \n1      5p7ujcrUXASCNwRaWNHR1C   \n2      2xLMifQCjDGFmkHkpNLD9h   \n3      3KkXRkHbMCARz0aVfEt68P   \n4      1rqqCSm0Qe4I9rUvWncaom   \n...                       ...   \n11954  5mz9pQZZXNpAw9CdQ7Bk8q   \n11955  2H9CKpZiLDF223BbwehpDF   \n11956  7zqM7Wm2xJLZ50qAnTLoHD   \n11957  4DPlKVZ6R1EHLfnIsy9ouh   \n11958  6RUa3ZwZYnJnNgZxtIYJR9   \n\n                                               song_name  \\\n0                                          thank u, next   \n1                                             Without Me   \n2                                             SICKO MODE   \n3          Sunflower - Spider-Man: Into the Spider-Verse   \n4                                             High Hopes   \n...                                                  ...   \n11954                Don't Pity Me - Mono; 2003 Remaster   \n11955                        Hush Hush; Hush Hush - Main   \n11956                              Lions, Tigers & Bears   \n11957                                         The Weight   \n11958  Purest of Pain (A Puro Dolor) - Martinee's Rad...   \n\n                                              id_artists  \\\n0                             ['66CXWjxzNUsdJxJ2JdwvnR']   \n1                             ['26VFTg2z8YR0cCuwLzESi2']   \n2                             ['0Y5tJX1MQlPlqiwlOH1tJY']   \n3      ['246dkjvS1zLTtiykXe5h60', '1zNqQNIdeOUZHb8zbZ...   \n4                             ['20JZFwl6HVl6yg8a4H3ZqK']   \n...                                                  ...   \n11954                         ['6lHC2EQMEMZiEmSfFloarn']   \n11955                         ['6wPhSqRtPu1UhRCDX5yaDJ']   \n11956                         ['7gSjFKpVmDgC2MMsnN8CYq']   \n11957  ['0rXI0q8Cahq6numvPlloaq', '3RwQ26hR2tJtA8F9p2...   \n11958  ['1qyAl8T6GTcaOViaI7fs1j', '7AOI1S3Uy411dDhNTd...   \n\n                                           name_artists  popularity  explicit  \\\n0                                     ['Ariana Grande']          87      True   \n1                                            ['Halsey']          87      True   \n2                                      ['Travis Scott']          86      True   \n3                           ['Post Malone', 'Swae Lee']          92     False   \n4                               ['Panic! At The Disco']          86     False   \n...                                                 ...         ...       ...   \n11954                              ['Peter And Gordon']           8     False   \n11955                            ['The Pussycat Dolls']          57     False   \n11956                              ['Jazmine Sullivan']          49     False   \n11957  ['Diana Ross & The Supremes', 'The Temptations']           2     False   \n11958                 ['Son By Four', 'Lewis Martinee']          10     False   \n\n           song_type  track_number  num_artists  num_available_markets  ...  \\\n0               Solo            11            1                     79  ...   \n1               Solo             1            1                     79  ...   \n2               Solo             3            1                     79  ...   \n3      Collaboration             2            2                     79  ...   \n4               Solo             4            1                     78  ...   \n...              ...           ...          ...                    ...  ...   \n11954           Solo             1            1                     78  ...   \n11955           Solo             1            1                     59  ...   \n11956           Solo             4            1                     71  ...   \n11957  Collaboration            23            2                     79  ...   \n11958  Collaboration             1            2                     79  ...   \n\n      acousticness  danceability  energy  instrumentalness  liveness  \\\n0          0.22900         0.717   0.653          0.000000    0.1010   \n1          0.29700         0.752   0.488          0.000009    0.0936   \n2          0.00513         0.834   0.730          0.000000    0.1240   \n3          0.55600         0.760   0.479          0.000000    0.0703   \n4          0.19300         0.579   0.904          0.000000    0.0640   \n...            ...           ...     ...               ...       ...   \n11954      0.61900         0.500   0.654          0.000000    0.3320   \n11955      0.10500         0.609   0.790          0.000000    0.3140   \n11956      0.07880         0.576   0.515          0.000000    0.1180   \n11957      0.37000         0.566   0.607          0.000000    0.6710   \n11958      0.45000         0.593   0.939          0.000013    0.1090   \n\n       loudness  speechiness  valence    tempo  hit  \n0        -5.634       0.0658    0.412  106.966    1  \n1        -7.050       0.0705    0.533  136.041    1  \n2        -3.714       0.2220    0.446  155.008    1  \n3        -5.574       0.0466    0.913   89.911    1  \n4        -2.729       0.0618    0.681   82.014    1  \n...         ...          ...      ...      ...  ...  \n11954    -8.633       0.0394    0.403  107.326    1  \n11955    -3.787       0.0663    0.664  129.334    1  \n11956    -6.178       0.0295    0.407   95.406    1  \n11957    -7.532       0.0357    0.765   91.378    1  \n11958    -3.431       0.0616    0.743  134.108    1  \n\n[11959 rows x 25 columns]",
      "text/html": "<div>\n<style scoped>\n    .dataframe tbody tr th:only-of-type {\n        vertical-align: middle;\n    }\n\n    .dataframe tbody tr th {\n        vertical-align: top;\n    }\n\n    .dataframe thead th {\n        text-align: right;\n    }\n</style>\n<table border=\"1\" class=\"dataframe\">\n  <thead>\n    <tr style=\"text-align: right;\">\n      <th></th>\n      <th>song_id</th>\n      <th>song_name</th>\n      <th>id_artists</th>\n      <th>name_artists</th>\n      <th>popularity</th>\n      <th>explicit</th>\n      <th>song_type</th>\n      <th>track_number</th>\n      <th>num_artists</th>\n      <th>num_available_markets</th>\n      <th>...</th>\n      <th>acousticness</th>\n      <th>danceability</th>\n      <th>energy</th>\n      <th>instrumentalness</th>\n      <th>liveness</th>\n      <th>loudness</th>\n      <th>speechiness</th>\n      <th>valence</th>\n      <th>tempo</th>\n      <th>hit</th>\n    </tr>\n  </thead>\n  <tbody>\n    <tr>\n      <th>0</th>\n      <td>3e9HZxeyfWwjeyPAMmWSSQ</td>\n      <td>thank u, next</td>\n      <td>['66CXWjxzNUsdJxJ2JdwvnR']</td>\n      <td>['Ariana Grande']</td>\n      <td>87</td>\n      <td>True</td>\n      <td>Solo</td>\n      <td>11</td>\n      <td>1</td>\n      <td>79</td>\n      <td>...</td>\n      <td>0.22900</td>\n      <td>0.717</td>\n      <td>0.653</td>\n      <td>0.000000</td>\n      <td>0.1010</td>\n      <td>-5.634</td>\n      <td>0.0658</td>\n      <td>0.412</td>\n      <td>106.966</td>\n      <td>1</td>\n    </tr>\n    <tr>\n      <th>1</th>\n      <td>5p7ujcrUXASCNwRaWNHR1C</td>\n      <td>Without Me</td>\n      <td>['26VFTg2z8YR0cCuwLzESi2']</td>\n      <td>['Halsey']</td>\n      <td>87</td>\n      <td>True</td>\n      <td>Solo</td>\n      <td>1</td>\n      <td>1</td>\n      <td>79</td>\n      <td>...</td>\n      <td>0.29700</td>\n      <td>0.752</td>\n      <td>0.488</td>\n      <td>0.000009</td>\n      <td>0.0936</td>\n      <td>-7.050</td>\n      <td>0.0705</td>\n      <td>0.533</td>\n      <td>136.041</td>\n      <td>1</td>\n    </tr>\n    <tr>\n      <th>2</th>\n      <td>2xLMifQCjDGFmkHkpNLD9h</td>\n      <td>SICKO MODE</td>\n      <td>['0Y5tJX1MQlPlqiwlOH1tJY']</td>\n      <td>['Travis Scott']</td>\n      <td>86</td>\n      <td>True</td>\n      <td>Solo</td>\n      <td>3</td>\n      <td>1</td>\n      <td>79</td>\n      <td>...</td>\n      <td>0.00513</td>\n      <td>0.834</td>\n      <td>0.730</td>\n      <td>0.000000</td>\n      <td>0.1240</td>\n      <td>-3.714</td>\n      <td>0.2220</td>\n      <td>0.446</td>\n      <td>155.008</td>\n      <td>1</td>\n    </tr>\n    <tr>\n      <th>3</th>\n      <td>3KkXRkHbMCARz0aVfEt68P</td>\n      <td>Sunflower - Spider-Man: Into the Spider-Verse</td>\n      <td>['246dkjvS1zLTtiykXe5h60', '1zNqQNIdeOUZHb8zbZ...</td>\n      <td>['Post Malone', 'Swae Lee']</td>\n      <td>92</td>\n      <td>False</td>\n      <td>Collaboration</td>\n      <td>2</td>\n      <td>2</td>\n      <td>79</td>\n      <td>...</td>\n      <td>0.55600</td>\n      <td>0.760</td>\n      <td>0.479</td>\n      <td>0.000000</td>\n      <td>0.0703</td>\n      <td>-5.574</td>\n      <td>0.0466</td>\n      <td>0.913</td>\n      <td>89.911</td>\n      <td>1</td>\n    </tr>\n    <tr>\n      <th>4</th>\n      <td>1rqqCSm0Qe4I9rUvWncaom</td>\n      <td>High Hopes</td>\n      <td>['20JZFwl6HVl6yg8a4H3ZqK']</td>\n      <td>['Panic! At The Disco']</td>\n      <td>86</td>\n      <td>False</td>\n      <td>Solo</td>\n      <td>4</td>\n      <td>1</td>\n      <td>78</td>\n      <td>...</td>\n      <td>0.19300</td>\n      <td>0.579</td>\n      <td>0.904</td>\n      <td>0.000000</td>\n      <td>0.0640</td>\n      <td>-2.729</td>\n      <td>0.0618</td>\n      <td>0.681</td>\n      <td>82.014</td>\n      <td>1</td>\n    </tr>\n    <tr>\n      <th>...</th>\n      <td>...</td>\n      <td>...</td>\n      <td>...</td>\n      <td>...</td>\n      <td>...</td>\n      <td>...</td>\n      <td>...</td>\n      <td>...</td>\n      <td>...</td>\n      <td>...</td>\n      <td>...</td>\n      <td>...</td>\n      <td>...</td>\n      <td>...</td>\n      <td>...</td>\n      <td>...</td>\n      <td>...</td>\n      <td>...</td>\n      <td>...</td>\n      <td>...</td>\n      <td>...</td>\n    </tr>\n    <tr>\n      <th>11954</th>\n      <td>5mz9pQZZXNpAw9CdQ7Bk8q</td>\n      <td>Don't Pity Me - Mono; 2003 Remaster</td>\n      <td>['6lHC2EQMEMZiEmSfFloarn']</td>\n      <td>['Peter And Gordon']</td>\n      <td>8</td>\n      <td>False</td>\n      <td>Solo</td>\n      <td>1</td>\n      <td>1</td>\n      <td>78</td>\n      <td>...</td>\n      <td>0.61900</td>\n      <td>0.500</td>\n      <td>0.654</td>\n      <td>0.000000</td>\n      <td>0.3320</td>\n      <td>-8.633</td>\n      <td>0.0394</td>\n      <td>0.403</td>\n      <td>107.326</td>\n      <td>1</td>\n    </tr>\n    <tr>\n      <th>11955</th>\n      <td>2H9CKpZiLDF223BbwehpDF</td>\n      <td>Hush Hush; Hush Hush - Main</td>\n      <td>['6wPhSqRtPu1UhRCDX5yaDJ']</td>\n      <td>['The Pussycat Dolls']</td>\n      <td>57</td>\n      <td>False</td>\n      <td>Solo</td>\n      <td>1</td>\n      <td>1</td>\n      <td>59</td>\n      <td>...</td>\n      <td>0.10500</td>\n      <td>0.609</td>\n      <td>0.790</td>\n      <td>0.000000</td>\n      <td>0.3140</td>\n      <td>-3.787</td>\n      <td>0.0663</td>\n      <td>0.664</td>\n      <td>129.334</td>\n      <td>1</td>\n    </tr>\n    <tr>\n      <th>11956</th>\n      <td>7zqM7Wm2xJLZ50qAnTLoHD</td>\n      <td>Lions, Tigers &amp; Bears</td>\n      <td>['7gSjFKpVmDgC2MMsnN8CYq']</td>\n      <td>['Jazmine Sullivan']</td>\n      <td>49</td>\n      <td>False</td>\n      <td>Solo</td>\n      <td>4</td>\n      <td>1</td>\n      <td>71</td>\n      <td>...</td>\n      <td>0.07880</td>\n      <td>0.576</td>\n      <td>0.515</td>\n      <td>0.000000</td>\n      <td>0.1180</td>\n      <td>-6.178</td>\n      <td>0.0295</td>\n      <td>0.407</td>\n      <td>95.406</td>\n      <td>1</td>\n    </tr>\n    <tr>\n      <th>11957</th>\n      <td>4DPlKVZ6R1EHLfnIsy9ouh</td>\n      <td>The Weight</td>\n      <td>['0rXI0q8Cahq6numvPlloaq', '3RwQ26hR2tJtA8F9p2...</td>\n      <td>['Diana Ross &amp; The Supremes', 'The Temptations']</td>\n      <td>2</td>\n      <td>False</td>\n      <td>Collaboration</td>\n      <td>23</td>\n      <td>2</td>\n      <td>79</td>\n      <td>...</td>\n      <td>0.37000</td>\n      <td>0.566</td>\n      <td>0.607</td>\n      <td>0.000000</td>\n      <td>0.6710</td>\n      <td>-7.532</td>\n      <td>0.0357</td>\n      <td>0.765</td>\n      <td>91.378</td>\n      <td>1</td>\n    </tr>\n    <tr>\n      <th>11958</th>\n      <td>6RUa3ZwZYnJnNgZxtIYJR9</td>\n      <td>Purest of Pain (A Puro Dolor) - Martinee's Rad...</td>\n      <td>['1qyAl8T6GTcaOViaI7fs1j', '7AOI1S3Uy411dDhNTd...</td>\n      <td>['Son By Four', 'Lewis Martinee']</td>\n      <td>10</td>\n      <td>False</td>\n      <td>Collaboration</td>\n      <td>1</td>\n      <td>2</td>\n      <td>79</td>\n      <td>...</td>\n      <td>0.45000</td>\n      <td>0.593</td>\n      <td>0.939</td>\n      <td>0.000013</td>\n      <td>0.1090</td>\n      <td>-3.431</td>\n      <td>0.0616</td>\n      <td>0.743</td>\n      <td>134.108</td>\n      <td>1</td>\n    </tr>\n  </tbody>\n</table>\n<p>11959 rows × 25 columns</p>\n</div>"
     },
     "execution_count": 1,
     "metadata": {},
     "output_type": "execute_result"
    }
   ],
   "source": [
    "import pandas as pd\n",
    "import matplotlib.pyplot as plt\n",
    "\n",
    "df_hits = pd.read_csv(\"additional/hits_dataset.csv\", delimiter=\"\\t\")\n",
    "df_hits[\"hit\"] = 1\n",
    "df_hits"
   ]
  },
  {
   "cell_type": "code",
   "execution_count": 2,
   "outputs": [
    {
     "name": "stderr",
     "output_type": "stream",
     "text": [
      "C:\\Users\\lasse\\AppData\\Local\\Temp\\ipykernel_7724\\2533836516.py:1: DtypeWarning: Columns (11,12,13,14,15,16,17,18,19,20,21,22,23) have mixed types. Specify dtype option on import or set low_memory=False.\n",
      "  df_nonhits = pd.read_csv(\"additional/nonhits_dataset.csv\", delimiter=\"\\t\")\n"
     ]
    },
    {
     "data": {
      "text/plain": "                       song_id  \\\n0       1TEL6MlSSVLSdhOSddidlJ   \n1       4uTvPEr01pjTbZgl7jcKBD   \n2       2hloaUoRonYssMuqLCBLTX   \n3       3wFLWP0FcIqHK1wb1CPthQ   \n4       5Il6Oe7lr5XM7A0cWbVQtr   \n...                        ...   \n899063  2tP0ryZParpdjvxubgXhTN   \n899064  7Ltni80U0w7bmYjXPNzSEa   \n899065  1gQClXN1Dq4rj0wBzddcNA   \n899066  2jhxQrFNdVPkWL28X7ZpeK   \n899067  6KkbkpUObAqcKGEfvguHJO   \n\n                                               song_name  \\\n0                                                  needy   \n1                                                   NASA   \n2                                              bloodline   \n3                                             fake smile   \n4                                               bad idea   \n...                                                  ...   \n899063                              Love Is Here to Stay   \n899064                                 Heinlein's Planet   \n899065     Beds are Burning - Karaoke Lead Vocal Version   \n899066  Un homme heureux - Version karaoké instrumentale   \n899067                     Santa Claus Is Coming to Town   \n\n                                               id_artists  \\\n0                              ['66CXWjxzNUsdJxJ2JdwvnR']   \n1                              ['66CXWjxzNUsdJxJ2JdwvnR']   \n2                              ['66CXWjxzNUsdJxJ2JdwvnR']   \n3                              ['66CXWjxzNUsdJxJ2JdwvnR']   \n4                              ['66CXWjxzNUsdJxJ2JdwvnR']   \n...                                                   ...   \n899063  ['3Dzj993UEz8Z5ovxuirzFO', '6RCsx4p5smZHYz2P5H...   \n899064                         ['4urvwbid7NFoVes5PTx9lV']   \n899065                         ['7yv4DJOCmilSbxxsdQgXWk']   \n899066                         ['7yv4DJOCmilSbxxsdQgXWk']   \n899067                         ['7tdO7d7r0vhwov7RIZWH6V']   \n\n                                     name_artists  popularity  explicit  \\\n0                               ['Ariana Grande']          76      True   \n1                               ['Ariana Grande']          76     False   \n2                               ['Ariana Grande']          74      True   \n3                               ['Ariana Grande']          73      True   \n4                               ['Ariana Grande']          74     False   \n...                                           ...         ...       ...   \n899063  ['Lindsey Buckingham', 'Christine McVie']          16     False   \n899064                             ['Tony Carey']           0     False   \n899065                             ['Pictomusic']           0     False   \n899066                             ['Pictomusic']           0     False   \n899067                            ['Mitch Ryder']           0     False   \n\n            song_type  track_number  num_artists  num_available_markets  ...  \\\n0                Solo             2            1                     79  ...   \n1                Solo             3            1                     79  ...   \n2                Solo             4            1                     79  ...   \n3                Solo             5            1                     79  ...   \n4                Solo             6            1                     79  ...   \n...               ...           ...          ...                    ...  ...   \n899063  Collaboration             5            2                      1  ...   \n899064           Solo             5            1                     79  ...   \n899065           Solo             2            1                     79  ...   \n899066           Solo             1            1                     79  ...   \n899067           Solo             3            1                     79  ...   \n\n       acousticness danceability energy instrumentalness liveness loudness  \\\n0              0.78        0.647  0.309         7.41e-06    0.202   -7.948   \n1             0.451        0.747  0.458                0    0.252   -6.891   \n2            0.0815        0.758  0.665         0.000157    0.216   -5.188   \n3             0.329         0.45  0.619                0    0.319   -7.412   \n4            0.0268        0.847  0.579           0.0545    0.102   -5.314   \n...             ...          ...    ...              ...      ...      ...   \n899063        0.366        0.446  0.658         2.49e-05    0.751   -8.362   \n899064        0.481        0.305  0.456            0.933    0.111  -20.199   \n899065       0.0118        0.852  0.648                0   0.0503   -7.189   \n899066        0.973        0.664  0.353            0.787   0.0878  -12.303   \n899067        0.386        0.651  0.896          0.00163   0.0734   -6.004   \n\n       speechiness valence    tempo hit  \n0           0.0366   0.195   87.045   0  \n1            0.303    0.47   75.029   0  \n2           0.0774   0.643  151.976   0  \n3            0.372   0.427     83.3   0  \n4           0.0719   0.569  137.998   0  \n...            ...     ...      ...  ..  \n899063      0.0297   0.554    84.74   0  \n899064      0.0634   0.171   96.996   0  \n899065       0.048   0.559   120.15   0  \n899066      0.0693   0.284   116.45   0  \n899067      0.0327   0.893  148.107   0  \n\n[899068 rows x 25 columns]",
      "text/html": "<div>\n<style scoped>\n    .dataframe tbody tr th:only-of-type {\n        vertical-align: middle;\n    }\n\n    .dataframe tbody tr th {\n        vertical-align: top;\n    }\n\n    .dataframe thead th {\n        text-align: right;\n    }\n</style>\n<table border=\"1\" class=\"dataframe\">\n  <thead>\n    <tr style=\"text-align: right;\">\n      <th></th>\n      <th>song_id</th>\n      <th>song_name</th>\n      <th>id_artists</th>\n      <th>name_artists</th>\n      <th>popularity</th>\n      <th>explicit</th>\n      <th>song_type</th>\n      <th>track_number</th>\n      <th>num_artists</th>\n      <th>num_available_markets</th>\n      <th>...</th>\n      <th>acousticness</th>\n      <th>danceability</th>\n      <th>energy</th>\n      <th>instrumentalness</th>\n      <th>liveness</th>\n      <th>loudness</th>\n      <th>speechiness</th>\n      <th>valence</th>\n      <th>tempo</th>\n      <th>hit</th>\n    </tr>\n  </thead>\n  <tbody>\n    <tr>\n      <th>0</th>\n      <td>1TEL6MlSSVLSdhOSddidlJ</td>\n      <td>needy</td>\n      <td>['66CXWjxzNUsdJxJ2JdwvnR']</td>\n      <td>['Ariana Grande']</td>\n      <td>76</td>\n      <td>True</td>\n      <td>Solo</td>\n      <td>2</td>\n      <td>1</td>\n      <td>79</td>\n      <td>...</td>\n      <td>0.78</td>\n      <td>0.647</td>\n      <td>0.309</td>\n      <td>7.41e-06</td>\n      <td>0.202</td>\n      <td>-7.948</td>\n      <td>0.0366</td>\n      <td>0.195</td>\n      <td>87.045</td>\n      <td>0</td>\n    </tr>\n    <tr>\n      <th>1</th>\n      <td>4uTvPEr01pjTbZgl7jcKBD</td>\n      <td>NASA</td>\n      <td>['66CXWjxzNUsdJxJ2JdwvnR']</td>\n      <td>['Ariana Grande']</td>\n      <td>76</td>\n      <td>False</td>\n      <td>Solo</td>\n      <td>3</td>\n      <td>1</td>\n      <td>79</td>\n      <td>...</td>\n      <td>0.451</td>\n      <td>0.747</td>\n      <td>0.458</td>\n      <td>0</td>\n      <td>0.252</td>\n      <td>-6.891</td>\n      <td>0.303</td>\n      <td>0.47</td>\n      <td>75.029</td>\n      <td>0</td>\n    </tr>\n    <tr>\n      <th>2</th>\n      <td>2hloaUoRonYssMuqLCBLTX</td>\n      <td>bloodline</td>\n      <td>['66CXWjxzNUsdJxJ2JdwvnR']</td>\n      <td>['Ariana Grande']</td>\n      <td>74</td>\n      <td>True</td>\n      <td>Solo</td>\n      <td>4</td>\n      <td>1</td>\n      <td>79</td>\n      <td>...</td>\n      <td>0.0815</td>\n      <td>0.758</td>\n      <td>0.665</td>\n      <td>0.000157</td>\n      <td>0.216</td>\n      <td>-5.188</td>\n      <td>0.0774</td>\n      <td>0.643</td>\n      <td>151.976</td>\n      <td>0</td>\n    </tr>\n    <tr>\n      <th>3</th>\n      <td>3wFLWP0FcIqHK1wb1CPthQ</td>\n      <td>fake smile</td>\n      <td>['66CXWjxzNUsdJxJ2JdwvnR']</td>\n      <td>['Ariana Grande']</td>\n      <td>73</td>\n      <td>True</td>\n      <td>Solo</td>\n      <td>5</td>\n      <td>1</td>\n      <td>79</td>\n      <td>...</td>\n      <td>0.329</td>\n      <td>0.45</td>\n      <td>0.619</td>\n      <td>0</td>\n      <td>0.319</td>\n      <td>-7.412</td>\n      <td>0.372</td>\n      <td>0.427</td>\n      <td>83.3</td>\n      <td>0</td>\n    </tr>\n    <tr>\n      <th>4</th>\n      <td>5Il6Oe7lr5XM7A0cWbVQtr</td>\n      <td>bad idea</td>\n      <td>['66CXWjxzNUsdJxJ2JdwvnR']</td>\n      <td>['Ariana Grande']</td>\n      <td>74</td>\n      <td>False</td>\n      <td>Solo</td>\n      <td>6</td>\n      <td>1</td>\n      <td>79</td>\n      <td>...</td>\n      <td>0.0268</td>\n      <td>0.847</td>\n      <td>0.579</td>\n      <td>0.0545</td>\n      <td>0.102</td>\n      <td>-5.314</td>\n      <td>0.0719</td>\n      <td>0.569</td>\n      <td>137.998</td>\n      <td>0</td>\n    </tr>\n    <tr>\n      <th>...</th>\n      <td>...</td>\n      <td>...</td>\n      <td>...</td>\n      <td>...</td>\n      <td>...</td>\n      <td>...</td>\n      <td>...</td>\n      <td>...</td>\n      <td>...</td>\n      <td>...</td>\n      <td>...</td>\n      <td>...</td>\n      <td>...</td>\n      <td>...</td>\n      <td>...</td>\n      <td>...</td>\n      <td>...</td>\n      <td>...</td>\n      <td>...</td>\n      <td>...</td>\n      <td>...</td>\n    </tr>\n    <tr>\n      <th>899063</th>\n      <td>2tP0ryZParpdjvxubgXhTN</td>\n      <td>Love Is Here to Stay</td>\n      <td>['3Dzj993UEz8Z5ovxuirzFO', '6RCsx4p5smZHYz2P5H...</td>\n      <td>['Lindsey Buckingham', 'Christine McVie']</td>\n      <td>16</td>\n      <td>False</td>\n      <td>Collaboration</td>\n      <td>5</td>\n      <td>2</td>\n      <td>1</td>\n      <td>...</td>\n      <td>0.366</td>\n      <td>0.446</td>\n      <td>0.658</td>\n      <td>2.49e-05</td>\n      <td>0.751</td>\n      <td>-8.362</td>\n      <td>0.0297</td>\n      <td>0.554</td>\n      <td>84.74</td>\n      <td>0</td>\n    </tr>\n    <tr>\n      <th>899064</th>\n      <td>7Ltni80U0w7bmYjXPNzSEa</td>\n      <td>Heinlein's Planet</td>\n      <td>['4urvwbid7NFoVes5PTx9lV']</td>\n      <td>['Tony Carey']</td>\n      <td>0</td>\n      <td>False</td>\n      <td>Solo</td>\n      <td>5</td>\n      <td>1</td>\n      <td>79</td>\n      <td>...</td>\n      <td>0.481</td>\n      <td>0.305</td>\n      <td>0.456</td>\n      <td>0.933</td>\n      <td>0.111</td>\n      <td>-20.199</td>\n      <td>0.0634</td>\n      <td>0.171</td>\n      <td>96.996</td>\n      <td>0</td>\n    </tr>\n    <tr>\n      <th>899065</th>\n      <td>1gQClXN1Dq4rj0wBzddcNA</td>\n      <td>Beds are Burning - Karaoke Lead Vocal Version</td>\n      <td>['7yv4DJOCmilSbxxsdQgXWk']</td>\n      <td>['Pictomusic']</td>\n      <td>0</td>\n      <td>False</td>\n      <td>Solo</td>\n      <td>2</td>\n      <td>1</td>\n      <td>79</td>\n      <td>...</td>\n      <td>0.0118</td>\n      <td>0.852</td>\n      <td>0.648</td>\n      <td>0</td>\n      <td>0.0503</td>\n      <td>-7.189</td>\n      <td>0.048</td>\n      <td>0.559</td>\n      <td>120.15</td>\n      <td>0</td>\n    </tr>\n    <tr>\n      <th>899066</th>\n      <td>2jhxQrFNdVPkWL28X7ZpeK</td>\n      <td>Un homme heureux - Version karaoké instrumentale</td>\n      <td>['7yv4DJOCmilSbxxsdQgXWk']</td>\n      <td>['Pictomusic']</td>\n      <td>0</td>\n      <td>False</td>\n      <td>Solo</td>\n      <td>1</td>\n      <td>1</td>\n      <td>79</td>\n      <td>...</td>\n      <td>0.973</td>\n      <td>0.664</td>\n      <td>0.353</td>\n      <td>0.787</td>\n      <td>0.0878</td>\n      <td>-12.303</td>\n      <td>0.0693</td>\n      <td>0.284</td>\n      <td>116.45</td>\n      <td>0</td>\n    </tr>\n    <tr>\n      <th>899067</th>\n      <td>6KkbkpUObAqcKGEfvguHJO</td>\n      <td>Santa Claus Is Coming to Town</td>\n      <td>['7tdO7d7r0vhwov7RIZWH6V']</td>\n      <td>['Mitch Ryder']</td>\n      <td>0</td>\n      <td>False</td>\n      <td>Solo</td>\n      <td>3</td>\n      <td>1</td>\n      <td>79</td>\n      <td>...</td>\n      <td>0.386</td>\n      <td>0.651</td>\n      <td>0.896</td>\n      <td>0.00163</td>\n      <td>0.0734</td>\n      <td>-6.004</td>\n      <td>0.0327</td>\n      <td>0.893</td>\n      <td>148.107</td>\n      <td>0</td>\n    </tr>\n  </tbody>\n</table>\n<p>899068 rows × 25 columns</p>\n</div>"
     },
     "execution_count": 2,
     "metadata": {},
     "output_type": "execute_result"
    }
   ],
   "source": [
    "df_nonhits = pd.read_csv(\"additional/nonhits_dataset.csv\", delimiter=\"\\t\")\n",
    "df_nonhits[\"hit\"] = 0\n",
    "df_nonhits"
   ],
   "metadata": {
    "collapsed": false,
    "ExecuteTime": {
     "end_time": "2024-04-12T08:45:44.046935200Z",
     "start_time": "2024-04-12T08:45:40.593935600Z"
    }
   },
   "id": "26d5e57f02f1e85d"
  },
  {
   "cell_type": "code",
   "execution_count": 3,
   "outputs": [
    {
     "data": {
      "text/plain": "                       song_id  \\\n0       3e9HZxeyfWwjeyPAMmWSSQ   \n1       5p7ujcrUXASCNwRaWNHR1C   \n2       2xLMifQCjDGFmkHkpNLD9h   \n3       3KkXRkHbMCARz0aVfEt68P   \n4       1rqqCSm0Qe4I9rUvWncaom   \n...                        ...   \n899063  2tP0ryZParpdjvxubgXhTN   \n899064  7Ltni80U0w7bmYjXPNzSEa   \n899065  1gQClXN1Dq4rj0wBzddcNA   \n899066  2jhxQrFNdVPkWL28X7ZpeK   \n899067  6KkbkpUObAqcKGEfvguHJO   \n\n                                               song_name  \\\n0                                          thank u, next   \n1                                             Without Me   \n2                                             SICKO MODE   \n3          Sunflower - Spider-Man: Into the Spider-Verse   \n4                                             High Hopes   \n...                                                  ...   \n899063                              Love Is Here to Stay   \n899064                                 Heinlein's Planet   \n899065     Beds are Burning - Karaoke Lead Vocal Version   \n899066  Un homme heureux - Version karaoké instrumentale   \n899067                     Santa Claus Is Coming to Town   \n\n                                               id_artists  \\\n0                              ['66CXWjxzNUsdJxJ2JdwvnR']   \n1                              ['26VFTg2z8YR0cCuwLzESi2']   \n2                              ['0Y5tJX1MQlPlqiwlOH1tJY']   \n3       ['246dkjvS1zLTtiykXe5h60', '1zNqQNIdeOUZHb8zbZ...   \n4                              ['20JZFwl6HVl6yg8a4H3ZqK']   \n...                                                   ...   \n899063  ['3Dzj993UEz8Z5ovxuirzFO', '6RCsx4p5smZHYz2P5H...   \n899064                         ['4urvwbid7NFoVes5PTx9lV']   \n899065                         ['7yv4DJOCmilSbxxsdQgXWk']   \n899066                         ['7yv4DJOCmilSbxxsdQgXWk']   \n899067                         ['7tdO7d7r0vhwov7RIZWH6V']   \n\n                                     name_artists  popularity  explicit  \\\n0                               ['Ariana Grande']          87      True   \n1                                      ['Halsey']          87      True   \n2                                ['Travis Scott']          86      True   \n3                     ['Post Malone', 'Swae Lee']          92     False   \n4                         ['Panic! At The Disco']          86     False   \n...                                           ...         ...       ...   \n899063  ['Lindsey Buckingham', 'Christine McVie']          16     False   \n899064                             ['Tony Carey']           0     False   \n899065                             ['Pictomusic']           0     False   \n899066                             ['Pictomusic']           0     False   \n899067                            ['Mitch Ryder']           0     False   \n\n            song_type  track_number  num_artists  num_available_markets  ...  \\\n0                Solo            11            1                     79  ...   \n1                Solo             1            1                     79  ...   \n2                Solo             3            1                     79  ...   \n3       Collaboration             2            2                     79  ...   \n4                Solo             4            1                     78  ...   \n...               ...           ...          ...                    ...  ...   \n899063  Collaboration             5            2                      1  ...   \n899064           Solo             5            1                     79  ...   \n899065           Solo             2            1                     79  ...   \n899066           Solo             1            1                     79  ...   \n899067           Solo             3            1                     79  ...   \n\n       acousticness danceability energy instrumentalness liveness loudness  \\\n0             0.229        0.717  0.653              0.0    0.101   -5.634   \n1             0.297        0.752  0.488         0.000009   0.0936    -7.05   \n2           0.00513        0.834   0.73              0.0    0.124   -3.714   \n3             0.556         0.76  0.479              0.0   0.0703   -5.574   \n4             0.193        0.579  0.904              0.0    0.064   -2.729   \n...             ...          ...    ...              ...      ...      ...   \n899063        0.366        0.446  0.658         2.49e-05    0.751   -8.362   \n899064        0.481        0.305  0.456            0.933    0.111  -20.199   \n899065       0.0118        0.852  0.648                0   0.0503   -7.189   \n899066        0.973        0.664  0.353            0.787   0.0878  -12.303   \n899067        0.386        0.651  0.896          0.00163   0.0734   -6.004   \n\n       speechiness valence    tempo hit  \n0           0.0658   0.412  106.966   1  \n1           0.0705   0.533  136.041   1  \n2            0.222   0.446  155.008   1  \n3           0.0466   0.913   89.911   1  \n4           0.0618   0.681   82.014   1  \n...            ...     ...      ...  ..  \n899063      0.0297   0.554    84.74   0  \n899064      0.0634   0.171   96.996   0  \n899065       0.048   0.559   120.15   0  \n899066      0.0693   0.284   116.45   0  \n899067      0.0327   0.893  148.107   0  \n\n[911027 rows x 25 columns]",
      "text/html": "<div>\n<style scoped>\n    .dataframe tbody tr th:only-of-type {\n        vertical-align: middle;\n    }\n\n    .dataframe tbody tr th {\n        vertical-align: top;\n    }\n\n    .dataframe thead th {\n        text-align: right;\n    }\n</style>\n<table border=\"1\" class=\"dataframe\">\n  <thead>\n    <tr style=\"text-align: right;\">\n      <th></th>\n      <th>song_id</th>\n      <th>song_name</th>\n      <th>id_artists</th>\n      <th>name_artists</th>\n      <th>popularity</th>\n      <th>explicit</th>\n      <th>song_type</th>\n      <th>track_number</th>\n      <th>num_artists</th>\n      <th>num_available_markets</th>\n      <th>...</th>\n      <th>acousticness</th>\n      <th>danceability</th>\n      <th>energy</th>\n      <th>instrumentalness</th>\n      <th>liveness</th>\n      <th>loudness</th>\n      <th>speechiness</th>\n      <th>valence</th>\n      <th>tempo</th>\n      <th>hit</th>\n    </tr>\n  </thead>\n  <tbody>\n    <tr>\n      <th>0</th>\n      <td>3e9HZxeyfWwjeyPAMmWSSQ</td>\n      <td>thank u, next</td>\n      <td>['66CXWjxzNUsdJxJ2JdwvnR']</td>\n      <td>['Ariana Grande']</td>\n      <td>87</td>\n      <td>True</td>\n      <td>Solo</td>\n      <td>11</td>\n      <td>1</td>\n      <td>79</td>\n      <td>...</td>\n      <td>0.229</td>\n      <td>0.717</td>\n      <td>0.653</td>\n      <td>0.0</td>\n      <td>0.101</td>\n      <td>-5.634</td>\n      <td>0.0658</td>\n      <td>0.412</td>\n      <td>106.966</td>\n      <td>1</td>\n    </tr>\n    <tr>\n      <th>1</th>\n      <td>5p7ujcrUXASCNwRaWNHR1C</td>\n      <td>Without Me</td>\n      <td>['26VFTg2z8YR0cCuwLzESi2']</td>\n      <td>['Halsey']</td>\n      <td>87</td>\n      <td>True</td>\n      <td>Solo</td>\n      <td>1</td>\n      <td>1</td>\n      <td>79</td>\n      <td>...</td>\n      <td>0.297</td>\n      <td>0.752</td>\n      <td>0.488</td>\n      <td>0.000009</td>\n      <td>0.0936</td>\n      <td>-7.05</td>\n      <td>0.0705</td>\n      <td>0.533</td>\n      <td>136.041</td>\n      <td>1</td>\n    </tr>\n    <tr>\n      <th>2</th>\n      <td>2xLMifQCjDGFmkHkpNLD9h</td>\n      <td>SICKO MODE</td>\n      <td>['0Y5tJX1MQlPlqiwlOH1tJY']</td>\n      <td>['Travis Scott']</td>\n      <td>86</td>\n      <td>True</td>\n      <td>Solo</td>\n      <td>3</td>\n      <td>1</td>\n      <td>79</td>\n      <td>...</td>\n      <td>0.00513</td>\n      <td>0.834</td>\n      <td>0.73</td>\n      <td>0.0</td>\n      <td>0.124</td>\n      <td>-3.714</td>\n      <td>0.222</td>\n      <td>0.446</td>\n      <td>155.008</td>\n      <td>1</td>\n    </tr>\n    <tr>\n      <th>3</th>\n      <td>3KkXRkHbMCARz0aVfEt68P</td>\n      <td>Sunflower - Spider-Man: Into the Spider-Verse</td>\n      <td>['246dkjvS1zLTtiykXe5h60', '1zNqQNIdeOUZHb8zbZ...</td>\n      <td>['Post Malone', 'Swae Lee']</td>\n      <td>92</td>\n      <td>False</td>\n      <td>Collaboration</td>\n      <td>2</td>\n      <td>2</td>\n      <td>79</td>\n      <td>...</td>\n      <td>0.556</td>\n      <td>0.76</td>\n      <td>0.479</td>\n      <td>0.0</td>\n      <td>0.0703</td>\n      <td>-5.574</td>\n      <td>0.0466</td>\n      <td>0.913</td>\n      <td>89.911</td>\n      <td>1</td>\n    </tr>\n    <tr>\n      <th>4</th>\n      <td>1rqqCSm0Qe4I9rUvWncaom</td>\n      <td>High Hopes</td>\n      <td>['20JZFwl6HVl6yg8a4H3ZqK']</td>\n      <td>['Panic! At The Disco']</td>\n      <td>86</td>\n      <td>False</td>\n      <td>Solo</td>\n      <td>4</td>\n      <td>1</td>\n      <td>78</td>\n      <td>...</td>\n      <td>0.193</td>\n      <td>0.579</td>\n      <td>0.904</td>\n      <td>0.0</td>\n      <td>0.064</td>\n      <td>-2.729</td>\n      <td>0.0618</td>\n      <td>0.681</td>\n      <td>82.014</td>\n      <td>1</td>\n    </tr>\n    <tr>\n      <th>...</th>\n      <td>...</td>\n      <td>...</td>\n      <td>...</td>\n      <td>...</td>\n      <td>...</td>\n      <td>...</td>\n      <td>...</td>\n      <td>...</td>\n      <td>...</td>\n      <td>...</td>\n      <td>...</td>\n      <td>...</td>\n      <td>...</td>\n      <td>...</td>\n      <td>...</td>\n      <td>...</td>\n      <td>...</td>\n      <td>...</td>\n      <td>...</td>\n      <td>...</td>\n      <td>...</td>\n    </tr>\n    <tr>\n      <th>899063</th>\n      <td>2tP0ryZParpdjvxubgXhTN</td>\n      <td>Love Is Here to Stay</td>\n      <td>['3Dzj993UEz8Z5ovxuirzFO', '6RCsx4p5smZHYz2P5H...</td>\n      <td>['Lindsey Buckingham', 'Christine McVie']</td>\n      <td>16</td>\n      <td>False</td>\n      <td>Collaboration</td>\n      <td>5</td>\n      <td>2</td>\n      <td>1</td>\n      <td>...</td>\n      <td>0.366</td>\n      <td>0.446</td>\n      <td>0.658</td>\n      <td>2.49e-05</td>\n      <td>0.751</td>\n      <td>-8.362</td>\n      <td>0.0297</td>\n      <td>0.554</td>\n      <td>84.74</td>\n      <td>0</td>\n    </tr>\n    <tr>\n      <th>899064</th>\n      <td>7Ltni80U0w7bmYjXPNzSEa</td>\n      <td>Heinlein's Planet</td>\n      <td>['4urvwbid7NFoVes5PTx9lV']</td>\n      <td>['Tony Carey']</td>\n      <td>0</td>\n      <td>False</td>\n      <td>Solo</td>\n      <td>5</td>\n      <td>1</td>\n      <td>79</td>\n      <td>...</td>\n      <td>0.481</td>\n      <td>0.305</td>\n      <td>0.456</td>\n      <td>0.933</td>\n      <td>0.111</td>\n      <td>-20.199</td>\n      <td>0.0634</td>\n      <td>0.171</td>\n      <td>96.996</td>\n      <td>0</td>\n    </tr>\n    <tr>\n      <th>899065</th>\n      <td>1gQClXN1Dq4rj0wBzddcNA</td>\n      <td>Beds are Burning - Karaoke Lead Vocal Version</td>\n      <td>['7yv4DJOCmilSbxxsdQgXWk']</td>\n      <td>['Pictomusic']</td>\n      <td>0</td>\n      <td>False</td>\n      <td>Solo</td>\n      <td>2</td>\n      <td>1</td>\n      <td>79</td>\n      <td>...</td>\n      <td>0.0118</td>\n      <td>0.852</td>\n      <td>0.648</td>\n      <td>0</td>\n      <td>0.0503</td>\n      <td>-7.189</td>\n      <td>0.048</td>\n      <td>0.559</td>\n      <td>120.15</td>\n      <td>0</td>\n    </tr>\n    <tr>\n      <th>899066</th>\n      <td>2jhxQrFNdVPkWL28X7ZpeK</td>\n      <td>Un homme heureux - Version karaoké instrumentale</td>\n      <td>['7yv4DJOCmilSbxxsdQgXWk']</td>\n      <td>['Pictomusic']</td>\n      <td>0</td>\n      <td>False</td>\n      <td>Solo</td>\n      <td>1</td>\n      <td>1</td>\n      <td>79</td>\n      <td>...</td>\n      <td>0.973</td>\n      <td>0.664</td>\n      <td>0.353</td>\n      <td>0.787</td>\n      <td>0.0878</td>\n      <td>-12.303</td>\n      <td>0.0693</td>\n      <td>0.284</td>\n      <td>116.45</td>\n      <td>0</td>\n    </tr>\n    <tr>\n      <th>899067</th>\n      <td>6KkbkpUObAqcKGEfvguHJO</td>\n      <td>Santa Claus Is Coming to Town</td>\n      <td>['7tdO7d7r0vhwov7RIZWH6V']</td>\n      <td>['Mitch Ryder']</td>\n      <td>0</td>\n      <td>False</td>\n      <td>Solo</td>\n      <td>3</td>\n      <td>1</td>\n      <td>79</td>\n      <td>...</td>\n      <td>0.386</td>\n      <td>0.651</td>\n      <td>0.896</td>\n      <td>0.00163</td>\n      <td>0.0734</td>\n      <td>-6.004</td>\n      <td>0.0327</td>\n      <td>0.893</td>\n      <td>148.107</td>\n      <td>0</td>\n    </tr>\n  </tbody>\n</table>\n<p>911027 rows × 25 columns</p>\n</div>"
     },
     "execution_count": 3,
     "metadata": {},
     "output_type": "execute_result"
    }
   ],
   "source": [
    "combined_df = pd.concat([df_hits, df_nonhits], axis=0)\n",
    "combined_df.replace(\"-\", float(\"nan\"), inplace=True)\n",
    "# Drop all rows with NaN values\n",
    "combined_df"
   ],
   "metadata": {
    "collapsed": false,
    "ExecuteTime": {
     "end_time": "2024-04-12T08:45:45.704933700Z",
     "start_time": "2024-04-12T08:45:44.049936Z"
    }
   },
   "id": "6f9b2d1a6293f615"
  },
  {
   "cell_type": "code",
   "execution_count": 4,
   "outputs": [
    {
     "name": "stdout",
     "output_type": "stream",
     "text": [
      "Columns with NaN values:\n",
      "['duration_ms', 'key', 'mode', 'time_signature', 'acousticness', 'danceability', 'energy', 'instrumentalness', 'liveness', 'loudness', 'speechiness', 'valence', 'tempo']\n"
     ]
    }
   ],
   "source": [
    "# Check for NaN values in all columns\n",
    "nan_columns = combined_df.columns[combined_df.isna().any()].tolist()\n",
    "\n",
    "# Print columns with NaN values\n",
    "print(\"Columns with NaN values:\")\n",
    "print(nan_columns)\n"
   ],
   "metadata": {
    "collapsed": false,
    "ExecuteTime": {
     "end_time": "2024-04-12T08:45:46.063936900Z",
     "start_time": "2024-04-12T08:45:45.785936Z"
    }
   },
   "id": "8756697fa413e9af"
  },
  {
   "cell_type": "code",
   "execution_count": 6,
   "outputs": [
    {
     "data": {
      "text/plain": "                       song_id  \\\n0       3e9HZxeyfWwjeyPAMmWSSQ   \n1       5p7ujcrUXASCNwRaWNHR1C   \n2       2xLMifQCjDGFmkHkpNLD9h   \n3       3KkXRkHbMCARz0aVfEt68P   \n4       1rqqCSm0Qe4I9rUvWncaom   \n...                        ...   \n899063  2tP0ryZParpdjvxubgXhTN   \n899064  7Ltni80U0w7bmYjXPNzSEa   \n899065  1gQClXN1Dq4rj0wBzddcNA   \n899066  2jhxQrFNdVPkWL28X7ZpeK   \n899067  6KkbkpUObAqcKGEfvguHJO   \n\n                                               song_name  \\\n0                                          thank u, next   \n1                                             Without Me   \n2                                             SICKO MODE   \n3          Sunflower - Spider-Man: Into the Spider-Verse   \n4                                             High Hopes   \n...                                                  ...   \n899063                              Love Is Here to Stay   \n899064                                 Heinlein's Planet   \n899065     Beds are Burning - Karaoke Lead Vocal Version   \n899066  Un homme heureux - Version karaoké instrumentale   \n899067                     Santa Claus Is Coming to Town   \n\n                                               id_artists  \\\n0                              ['66CXWjxzNUsdJxJ2JdwvnR']   \n1                              ['26VFTg2z8YR0cCuwLzESi2']   \n2                              ['0Y5tJX1MQlPlqiwlOH1tJY']   \n3       ['246dkjvS1zLTtiykXe5h60', '1zNqQNIdeOUZHb8zbZ...   \n4                              ['20JZFwl6HVl6yg8a4H3ZqK']   \n...                                                   ...   \n899063  ['3Dzj993UEz8Z5ovxuirzFO', '6RCsx4p5smZHYz2P5H...   \n899064                         ['4urvwbid7NFoVes5PTx9lV']   \n899065                         ['7yv4DJOCmilSbxxsdQgXWk']   \n899066                         ['7yv4DJOCmilSbxxsdQgXWk']   \n899067                         ['7tdO7d7r0vhwov7RIZWH6V']   \n\n                                     name_artists  popularity  explicit  \\\n0                               ['Ariana Grande']          87      True   \n1                                      ['Halsey']          87      True   \n2                                ['Travis Scott']          86      True   \n3                     ['Post Malone', 'Swae Lee']          92     False   \n4                         ['Panic! At The Disco']          86     False   \n...                                           ...         ...       ...   \n899063  ['Lindsey Buckingham', 'Christine McVie']          16     False   \n899064                             ['Tony Carey']           0     False   \n899065                             ['Pictomusic']           0     False   \n899066                             ['Pictomusic']           0     False   \n899067                            ['Mitch Ryder']           0     False   \n\n            song_type  track_number  num_artists  num_available_markets  ...  \\\n0                Solo            11            1                     79  ...   \n1                Solo             1            1                     79  ...   \n2                Solo             3            1                     79  ...   \n3       Collaboration             2            2                     79  ...   \n4                Solo             4            1                     78  ...   \n...               ...           ...          ...                    ...  ...   \n899063  Collaboration             5            2                      1  ...   \n899064           Solo             5            1                     79  ...   \n899065           Solo             2            1                     79  ...   \n899066           Solo             1            1                     79  ...   \n899067           Solo             3            1                     79  ...   \n\n       acousticness  danceability  energy  instrumentalness  liveness  \\\n0           0.22900         0.717   0.653          0.000000    0.1010   \n1           0.29700         0.752   0.488          0.000009    0.0936   \n2           0.00513         0.834   0.730          0.000000    0.1240   \n3           0.55600         0.760   0.479          0.000000    0.0703   \n4           0.19300         0.579   0.904          0.000000    0.0640   \n...             ...           ...     ...               ...       ...   \n899063      0.36600         0.446   0.658          0.000025    0.7510   \n899064      0.48100         0.305   0.456          0.933000    0.1110   \n899065      0.01180         0.852   0.648          0.000000    0.0503   \n899066      0.97300         0.664   0.353          0.787000    0.0878   \n899067      0.38600         0.651   0.896          0.001630    0.0734   \n\n        loudness  speechiness  valence    tempo  hit  \n0         -5.634       0.0658    0.412  106.966    1  \n1         -7.050       0.0705    0.533  136.041    1  \n2         -3.714       0.2220    0.446  155.008    1  \n3         -5.574       0.0466    0.913   89.911    1  \n4         -2.729       0.0618    0.681   82.014    1  \n...          ...          ...      ...      ...  ...  \n899063    -8.362       0.0297    0.554   84.740    0  \n899064   -20.199       0.0634    0.171   96.996    0  \n899065    -7.189       0.0480    0.559  120.150    0  \n899066   -12.303       0.0693    0.284  116.450    0  \n899067    -6.004       0.0327    0.893  148.107    0  \n\n[911027 rows x 25 columns]",
      "text/html": "<div>\n<style scoped>\n    .dataframe tbody tr th:only-of-type {\n        vertical-align: middle;\n    }\n\n    .dataframe tbody tr th {\n        vertical-align: top;\n    }\n\n    .dataframe thead th {\n        text-align: right;\n    }\n</style>\n<table border=\"1\" class=\"dataframe\">\n  <thead>\n    <tr style=\"text-align: right;\">\n      <th></th>\n      <th>song_id</th>\n      <th>song_name</th>\n      <th>id_artists</th>\n      <th>name_artists</th>\n      <th>popularity</th>\n      <th>explicit</th>\n      <th>song_type</th>\n      <th>track_number</th>\n      <th>num_artists</th>\n      <th>num_available_markets</th>\n      <th>...</th>\n      <th>acousticness</th>\n      <th>danceability</th>\n      <th>energy</th>\n      <th>instrumentalness</th>\n      <th>liveness</th>\n      <th>loudness</th>\n      <th>speechiness</th>\n      <th>valence</th>\n      <th>tempo</th>\n      <th>hit</th>\n    </tr>\n  </thead>\n  <tbody>\n    <tr>\n      <th>0</th>\n      <td>3e9HZxeyfWwjeyPAMmWSSQ</td>\n      <td>thank u, next</td>\n      <td>['66CXWjxzNUsdJxJ2JdwvnR']</td>\n      <td>['Ariana Grande']</td>\n      <td>87</td>\n      <td>True</td>\n      <td>Solo</td>\n      <td>11</td>\n      <td>1</td>\n      <td>79</td>\n      <td>...</td>\n      <td>0.22900</td>\n      <td>0.717</td>\n      <td>0.653</td>\n      <td>0.000000</td>\n      <td>0.1010</td>\n      <td>-5.634</td>\n      <td>0.0658</td>\n      <td>0.412</td>\n      <td>106.966</td>\n      <td>1</td>\n    </tr>\n    <tr>\n      <th>1</th>\n      <td>5p7ujcrUXASCNwRaWNHR1C</td>\n      <td>Without Me</td>\n      <td>['26VFTg2z8YR0cCuwLzESi2']</td>\n      <td>['Halsey']</td>\n      <td>87</td>\n      <td>True</td>\n      <td>Solo</td>\n      <td>1</td>\n      <td>1</td>\n      <td>79</td>\n      <td>...</td>\n      <td>0.29700</td>\n      <td>0.752</td>\n      <td>0.488</td>\n      <td>0.000009</td>\n      <td>0.0936</td>\n      <td>-7.050</td>\n      <td>0.0705</td>\n      <td>0.533</td>\n      <td>136.041</td>\n      <td>1</td>\n    </tr>\n    <tr>\n      <th>2</th>\n      <td>2xLMifQCjDGFmkHkpNLD9h</td>\n      <td>SICKO MODE</td>\n      <td>['0Y5tJX1MQlPlqiwlOH1tJY']</td>\n      <td>['Travis Scott']</td>\n      <td>86</td>\n      <td>True</td>\n      <td>Solo</td>\n      <td>3</td>\n      <td>1</td>\n      <td>79</td>\n      <td>...</td>\n      <td>0.00513</td>\n      <td>0.834</td>\n      <td>0.730</td>\n      <td>0.000000</td>\n      <td>0.1240</td>\n      <td>-3.714</td>\n      <td>0.2220</td>\n      <td>0.446</td>\n      <td>155.008</td>\n      <td>1</td>\n    </tr>\n    <tr>\n      <th>3</th>\n      <td>3KkXRkHbMCARz0aVfEt68P</td>\n      <td>Sunflower - Spider-Man: Into the Spider-Verse</td>\n      <td>['246dkjvS1zLTtiykXe5h60', '1zNqQNIdeOUZHb8zbZ...</td>\n      <td>['Post Malone', 'Swae Lee']</td>\n      <td>92</td>\n      <td>False</td>\n      <td>Collaboration</td>\n      <td>2</td>\n      <td>2</td>\n      <td>79</td>\n      <td>...</td>\n      <td>0.55600</td>\n      <td>0.760</td>\n      <td>0.479</td>\n      <td>0.000000</td>\n      <td>0.0703</td>\n      <td>-5.574</td>\n      <td>0.0466</td>\n      <td>0.913</td>\n      <td>89.911</td>\n      <td>1</td>\n    </tr>\n    <tr>\n      <th>4</th>\n      <td>1rqqCSm0Qe4I9rUvWncaom</td>\n      <td>High Hopes</td>\n      <td>['20JZFwl6HVl6yg8a4H3ZqK']</td>\n      <td>['Panic! At The Disco']</td>\n      <td>86</td>\n      <td>False</td>\n      <td>Solo</td>\n      <td>4</td>\n      <td>1</td>\n      <td>78</td>\n      <td>...</td>\n      <td>0.19300</td>\n      <td>0.579</td>\n      <td>0.904</td>\n      <td>0.000000</td>\n      <td>0.0640</td>\n      <td>-2.729</td>\n      <td>0.0618</td>\n      <td>0.681</td>\n      <td>82.014</td>\n      <td>1</td>\n    </tr>\n    <tr>\n      <th>...</th>\n      <td>...</td>\n      <td>...</td>\n      <td>...</td>\n      <td>...</td>\n      <td>...</td>\n      <td>...</td>\n      <td>...</td>\n      <td>...</td>\n      <td>...</td>\n      <td>...</td>\n      <td>...</td>\n      <td>...</td>\n      <td>...</td>\n      <td>...</td>\n      <td>...</td>\n      <td>...</td>\n      <td>...</td>\n      <td>...</td>\n      <td>...</td>\n      <td>...</td>\n      <td>...</td>\n    </tr>\n    <tr>\n      <th>899063</th>\n      <td>2tP0ryZParpdjvxubgXhTN</td>\n      <td>Love Is Here to Stay</td>\n      <td>['3Dzj993UEz8Z5ovxuirzFO', '6RCsx4p5smZHYz2P5H...</td>\n      <td>['Lindsey Buckingham', 'Christine McVie']</td>\n      <td>16</td>\n      <td>False</td>\n      <td>Collaboration</td>\n      <td>5</td>\n      <td>2</td>\n      <td>1</td>\n      <td>...</td>\n      <td>0.36600</td>\n      <td>0.446</td>\n      <td>0.658</td>\n      <td>0.000025</td>\n      <td>0.7510</td>\n      <td>-8.362</td>\n      <td>0.0297</td>\n      <td>0.554</td>\n      <td>84.740</td>\n      <td>0</td>\n    </tr>\n    <tr>\n      <th>899064</th>\n      <td>7Ltni80U0w7bmYjXPNzSEa</td>\n      <td>Heinlein's Planet</td>\n      <td>['4urvwbid7NFoVes5PTx9lV']</td>\n      <td>['Tony Carey']</td>\n      <td>0</td>\n      <td>False</td>\n      <td>Solo</td>\n      <td>5</td>\n      <td>1</td>\n      <td>79</td>\n      <td>...</td>\n      <td>0.48100</td>\n      <td>0.305</td>\n      <td>0.456</td>\n      <td>0.933000</td>\n      <td>0.1110</td>\n      <td>-20.199</td>\n      <td>0.0634</td>\n      <td>0.171</td>\n      <td>96.996</td>\n      <td>0</td>\n    </tr>\n    <tr>\n      <th>899065</th>\n      <td>1gQClXN1Dq4rj0wBzddcNA</td>\n      <td>Beds are Burning - Karaoke Lead Vocal Version</td>\n      <td>['7yv4DJOCmilSbxxsdQgXWk']</td>\n      <td>['Pictomusic']</td>\n      <td>0</td>\n      <td>False</td>\n      <td>Solo</td>\n      <td>2</td>\n      <td>1</td>\n      <td>79</td>\n      <td>...</td>\n      <td>0.01180</td>\n      <td>0.852</td>\n      <td>0.648</td>\n      <td>0.000000</td>\n      <td>0.0503</td>\n      <td>-7.189</td>\n      <td>0.0480</td>\n      <td>0.559</td>\n      <td>120.150</td>\n      <td>0</td>\n    </tr>\n    <tr>\n      <th>899066</th>\n      <td>2jhxQrFNdVPkWL28X7ZpeK</td>\n      <td>Un homme heureux - Version karaoké instrumentale</td>\n      <td>['7yv4DJOCmilSbxxsdQgXWk']</td>\n      <td>['Pictomusic']</td>\n      <td>0</td>\n      <td>False</td>\n      <td>Solo</td>\n      <td>1</td>\n      <td>1</td>\n      <td>79</td>\n      <td>...</td>\n      <td>0.97300</td>\n      <td>0.664</td>\n      <td>0.353</td>\n      <td>0.787000</td>\n      <td>0.0878</td>\n      <td>-12.303</td>\n      <td>0.0693</td>\n      <td>0.284</td>\n      <td>116.450</td>\n      <td>0</td>\n    </tr>\n    <tr>\n      <th>899067</th>\n      <td>6KkbkpUObAqcKGEfvguHJO</td>\n      <td>Santa Claus Is Coming to Town</td>\n      <td>['7tdO7d7r0vhwov7RIZWH6V']</td>\n      <td>['Mitch Ryder']</td>\n      <td>0</td>\n      <td>False</td>\n      <td>Solo</td>\n      <td>3</td>\n      <td>1</td>\n      <td>79</td>\n      <td>...</td>\n      <td>0.38600</td>\n      <td>0.651</td>\n      <td>0.896</td>\n      <td>0.001630</td>\n      <td>0.0734</td>\n      <td>-6.004</td>\n      <td>0.0327</td>\n      <td>0.893</td>\n      <td>148.107</td>\n      <td>0</td>\n    </tr>\n  </tbody>\n</table>\n<p>911027 rows × 25 columns</p>\n</div>"
     },
     "execution_count": 6,
     "metadata": {},
     "output_type": "execute_result"
    }
   ],
   "source": [
    "from sklearn.impute import SimpleImputer\n",
    "\n",
    "combined_df.replace(\"-\", float(\"nan\"), inplace=True)   ## evtl hier schon mean replacement???\n",
    "# combined_df.dropna(inplace=True)   # drop nan value rows\n",
    "#Fill missing values with mean for each numeric attribute\n",
    "imputer = SimpleImputer(strategy='mean')\n",
    "for col in nan_columns:\n",
    "    combined_df[col] = imputer.fit_transform(combined_df[[col]])\n",
    "\n",
    "combined_df"
   ],
   "metadata": {
    "collapsed": false,
    "ExecuteTime": {
     "end_time": "2024-04-12T08:45:50.822937700Z",
     "start_time": "2024-04-12T08:45:47.018934300Z"
    }
   },
   "id": "723e4477181f9728"
  },
  {
   "cell_type": "code",
   "execution_count": 7,
   "outputs": [
    {
     "name": "stdout",
     "output_type": "stream",
     "text": [
      "Columns with NaN values:\n",
      "[]\n"
     ]
    }
   ],
   "source": [
    "# Check for NaN values in all columns\n",
    "nan_columns = combined_df.columns[combined_df.isna().any()].tolist()\n",
    "\n",
    "# Print columns with NaN values\n",
    "print(\"Columns with NaN values:\")\n",
    "print(nan_columns)\n"
   ],
   "metadata": {
    "collapsed": false,
    "ExecuteTime": {
     "end_time": "2024-04-12T08:45:50.986936600Z",
     "start_time": "2024-04-12T08:45:50.821936600Z"
    }
   },
   "id": "ad978e73fb721d3e"
  },
  {
   "cell_type": "code",
   "execution_count": 8,
   "outputs": [],
   "source": [
    "from sklearn.model_selection import train_test_split\n",
    "combined_df['date'] = pd.to_datetime(combined_df['release_date'])\n",
    "combined_df.sort_values(by=\"date\", inplace=True)\n",
    "\n",
    "train_df, test_df = train_test_split(combined_df, test_size=0.25, shuffle=False)"
   ],
   "metadata": {
    "collapsed": false,
    "ExecuteTime": {
     "end_time": "2024-04-12T08:45:51.610936300Z",
     "start_time": "2024-04-12T08:45:50.989936200Z"
    }
   },
   "id": "f55fc8cca1de5d29"
  },
  {
   "cell_type": "code",
   "execution_count": 9,
   "outputs": [
    {
     "name": "stdout",
     "output_type": "stream",
     "text": [
      "amount of artists: 18551\n"
     ]
    },
    {
     "data": {
      "text/plain": "                    artist_id            artist_name\n0      6eVCRmRG2HcfL4yx77A9WK             Jack Jones\n1      5NDMothbpdpq2xHqSjrrWn            Faith Evans\n2      3z6Uf5IZkN4TogRpRpgD84            Gary Wright\n3      2UuKUaomk3bZ0nHM3Y3FdW              Bud Shank\n4      6S0GHTqz5sxK5f9HtLXn9q                Garbage\n...                       ...                    ...\n18546  3bj9NXSjQfajNgU9woBnrR  Country Pop All-Stars\n18547  7ueug5uU2UKBoGQInMsKQV             Deep Noise\n18548  4UD3hwaHMCoJ9GKgIoMzTp            Steve Dafoe\n18549  2OdSf9rTLg6GYfoOrK2Kjl              Ron Komie\n18550  3FRfnhYD8uu3k8Dml7C7Wy            Jason Meeks\n\n[18551 rows x 2 columns]",
      "text/html": "<div>\n<style scoped>\n    .dataframe tbody tr th:only-of-type {\n        vertical-align: middle;\n    }\n\n    .dataframe tbody tr th {\n        vertical-align: top;\n    }\n\n    .dataframe thead th {\n        text-align: right;\n    }\n</style>\n<table border=\"1\" class=\"dataframe\">\n  <thead>\n    <tr style=\"text-align: right;\">\n      <th></th>\n      <th>artist_id</th>\n      <th>artist_name</th>\n    </tr>\n  </thead>\n  <tbody>\n    <tr>\n      <th>0</th>\n      <td>6eVCRmRG2HcfL4yx77A9WK</td>\n      <td>Jack Jones</td>\n    </tr>\n    <tr>\n      <th>1</th>\n      <td>5NDMothbpdpq2xHqSjrrWn</td>\n      <td>Faith Evans</td>\n    </tr>\n    <tr>\n      <th>2</th>\n      <td>3z6Uf5IZkN4TogRpRpgD84</td>\n      <td>Gary Wright</td>\n    </tr>\n    <tr>\n      <th>3</th>\n      <td>2UuKUaomk3bZ0nHM3Y3FdW</td>\n      <td>Bud Shank</td>\n    </tr>\n    <tr>\n      <th>4</th>\n      <td>6S0GHTqz5sxK5f9HtLXn9q</td>\n      <td>Garbage</td>\n    </tr>\n    <tr>\n      <th>...</th>\n      <td>...</td>\n      <td>...</td>\n    </tr>\n    <tr>\n      <th>18546</th>\n      <td>3bj9NXSjQfajNgU9woBnrR</td>\n      <td>Country Pop All-Stars</td>\n    </tr>\n    <tr>\n      <th>18547</th>\n      <td>7ueug5uU2UKBoGQInMsKQV</td>\n      <td>Deep Noise</td>\n    </tr>\n    <tr>\n      <th>18548</th>\n      <td>4UD3hwaHMCoJ9GKgIoMzTp</td>\n      <td>Steve Dafoe</td>\n    </tr>\n    <tr>\n      <th>18549</th>\n      <td>2OdSf9rTLg6GYfoOrK2Kjl</td>\n      <td>Ron Komie</td>\n    </tr>\n    <tr>\n      <th>18550</th>\n      <td>3FRfnhYD8uu3k8Dml7C7Wy</td>\n      <td>Jason Meeks</td>\n    </tr>\n  </tbody>\n</table>\n<p>18551 rows × 2 columns</p>\n</div>"
     },
     "execution_count": 9,
     "metadata": {},
     "output_type": "execute_result"
    }
   ],
   "source": [
    "# Specify the columns\n",
    "columns = ['artist_id', 'artist_name']\n",
    "\n",
    "# Initialize an empty DataFrame\n",
    "df_artists_train = pd.DataFrame(columns={col: [] for col in columns})\n",
    "\n",
    "count = 0\n",
    "artist_set = set()\n",
    "\n",
    "for _, row in train_df.iterrows():\n",
    "    current_artist_id_list = eval(row[\"id_artists\"])\n",
    "    current_artist_name_list = eval(row[\"name_artists\"])\n",
    "    for cur_art_id, cur_art_name in zip(current_artist_id_list, current_artist_name_list):\n",
    "        if cur_art_id not in artist_set:\n",
    "            artist_set.add(cur_art_id)\n",
    "            df_artists_train.loc[len(df_artists_train)] = [cur_art_id, cur_art_name]\n",
    "            count += 1\n",
    "\n",
    "print(\"amount of artists:\", count)\n",
    "df_artists_train"
   ],
   "metadata": {
    "collapsed": false,
    "ExecuteTime": {
     "end_time": "2024-04-12T08:46:54.943458500Z",
     "start_time": "2024-04-12T08:45:51.613936500Z"
    }
   },
   "id": "4e89192b5a6cf7c4"
  },
  {
   "cell_type": "code",
   "execution_count": 10,
   "outputs": [],
   "source": [
    "import networkx as nx\n",
    "\n",
    "all_artist_ids = artist_set.copy()\n",
    "\n",
    "G = nx.Graph()\n",
    "\n",
    "for id_art_cur in all_artist_ids:\n",
    "    artist_name = df_artists_train[(df_artists_train[\"artist_id\"] == id_art_cur)][\"artist_name\"]\n",
    "    artist_info = df_artists_train[df_artists_train[\"artist_id\"] == id_art_cur]\n",
    "    if not artist_info.empty:  # Check if artist info exists\n",
    "        # Filter out artists who are not successful\n",
    "        node_attrs = {\"name\": artist_name.iloc[0]}\n",
    "        G.add_node(id_art_cur, **node_attrs)\n",
    "    else:\n",
    "        print(\"Artist info not found for ID:\", id_art_cur)\n",
    "\n",
    "for _, row in train_df.iterrows():\n",
    "    artist_ids = list(eval(row[\"id_artists\"]))\n",
    "    artist_names = list(eval(row[\"name_artists\"]))\n",
    "    # Filter out songs that do not have more than one artist in their execution\n",
    "    if len(artist_ids) > 1:\n",
    "        for i in range(len(artist_ids)):\n",
    "            for j in range(i+1, len(artist_ids)):\n",
    "                artist_id_1 = str(artist_ids[i])\n",
    "                lable1 = str(artist_names[i])\n",
    "                artist_id_2 = str(artist_ids[j])\n",
    "                lable2 = str(artist_names[j])\n",
    "                # Check if the edge already exists\n",
    "                if G.has_edge(artist_id_1, artist_id_2):\n",
    "                    # If the edge already exists, increment the weight by 1\n",
    "                    G[artist_id_1][artist_id_2]['weight'] += 2\n",
    "                else:\n",
    "                    # Add a new edge with weight 1\n",
    "                    G.add_edge(artist_id_1, artist_id_2, lable1=lable1, lable2=lable2, weight=2, song_id=str(row[\"song_id\"]), song_name=str(row[\"song_name\"]), explicit=bool(row[\"explicit\"]), song_type=str(row[\"song_type\"]), track_number=int(row[\"track_number\"]), num_artists=int(row[\"num_artists\"]), num_available_markets=int(row[\"num_available_markets\"]), duration_ms=int(row[\"duration_ms\"]), popularity=int(row[\"popularity\"]), release_date=str(row[\"release_date\"]), key = int(row[\"key\"]), mode = int(row[\"mode\"]), time_signature = int(row[\"time_signature\"]), acousticness = float(row[\"acousticness\"]), danceability = float(row[\"danceability\"]), energy = float(row[\"energy\"]), instrumentalness = float(row[\"instrumentalness\"]), liveness = float(row[\"liveness\"]),loudness = float(row[\"loudness\"]), speechiness = float(row[\"speechiness\"]), valence = float(row[\"valence\"]), tempo = float(row[\"tempo\"]), hit = int(row[\"hit\"]))"
   ],
   "metadata": {
    "collapsed": false,
    "ExecuteTime": {
     "end_time": "2024-04-12T08:48:35.351293700Z",
     "start_time": "2024-04-12T08:46:54.945459200Z"
    }
   },
   "id": "13bb7f1a4a4876a5"
  },
  {
   "cell_type": "code",
   "execution_count": 11,
   "outputs": [
    {
     "data": {
      "text/plain": "                           name              Spotify ID\n0                   James Rouse  14y44NGF4r0x2VjZT5Ge8q\n1      The 139th Street Quartet  0Hhdobg94twK9cRl012ZsV\n2                         Ruffa  05741gYNWwjy7BdAHJ4YOt\n3                      Dave Koz  0ZcJXldoq09BRIMl0Qh1Vm\n4              Hydrogen Rockers  0N0do1kFHw1G1h2Vu8lw6V\n...                         ...                     ...\n18546    Carl \"Chucky\" Thompson  2tlnTx4kOz6iaZ6NeRrtzh\n18547            Jim Lauderdale  0C6MCOqzlXMdX8Ij0mR6ct\n18548                  Sydenham  1nUFxuoHF95YuFBgZIjJFf\n18549                      MiMS  76RrKpsvOmSKG8CIjROdSG\n18550          The Webb Sisters  5WVYK25IDrN0y1ExA69Lr7\n\n[18551 rows x 2 columns]",
      "text/html": "<div>\n<style scoped>\n    .dataframe tbody tr th:only-of-type {\n        vertical-align: middle;\n    }\n\n    .dataframe tbody tr th {\n        vertical-align: top;\n    }\n\n    .dataframe thead th {\n        text-align: right;\n    }\n</style>\n<table border=\"1\" class=\"dataframe\">\n  <thead>\n    <tr style=\"text-align: right;\">\n      <th></th>\n      <th>name</th>\n      <th>Spotify ID</th>\n    </tr>\n  </thead>\n  <tbody>\n    <tr>\n      <th>0</th>\n      <td>James Rouse</td>\n      <td>14y44NGF4r0x2VjZT5Ge8q</td>\n    </tr>\n    <tr>\n      <th>1</th>\n      <td>The 139th Street Quartet</td>\n      <td>0Hhdobg94twK9cRl012ZsV</td>\n    </tr>\n    <tr>\n      <th>2</th>\n      <td>Ruffa</td>\n      <td>05741gYNWwjy7BdAHJ4YOt</td>\n    </tr>\n    <tr>\n      <th>3</th>\n      <td>Dave Koz</td>\n      <td>0ZcJXldoq09BRIMl0Qh1Vm</td>\n    </tr>\n    <tr>\n      <th>4</th>\n      <td>Hydrogen Rockers</td>\n      <td>0N0do1kFHw1G1h2Vu8lw6V</td>\n    </tr>\n    <tr>\n      <th>...</th>\n      <td>...</td>\n      <td>...</td>\n    </tr>\n    <tr>\n      <th>18546</th>\n      <td>Carl \"Chucky\" Thompson</td>\n      <td>2tlnTx4kOz6iaZ6NeRrtzh</td>\n    </tr>\n    <tr>\n      <th>18547</th>\n      <td>Jim Lauderdale</td>\n      <td>0C6MCOqzlXMdX8Ij0mR6ct</td>\n    </tr>\n    <tr>\n      <th>18548</th>\n      <td>Sydenham</td>\n      <td>1nUFxuoHF95YuFBgZIjJFf</td>\n    </tr>\n    <tr>\n      <th>18549</th>\n      <td>MiMS</td>\n      <td>76RrKpsvOmSKG8CIjROdSG</td>\n    </tr>\n    <tr>\n      <th>18550</th>\n      <td>The Webb Sisters</td>\n      <td>5WVYK25IDrN0y1ExA69Lr7</td>\n    </tr>\n  </tbody>\n</table>\n<p>18551 rows × 2 columns</p>\n</div>"
     },
     "execution_count": 11,
     "metadata": {},
     "output_type": "execute_result"
    }
   ],
   "source": [
    "# Assuming G is your NetworkX graph\n",
    "\n",
    "# Extract nodes and their attributes from the graph\n",
    "nodes_with_attributes = [(G.nodes[node], node) for node in G.nodes()]\n",
    "\n",
    "# Create a DataFrame from the nodes and their attributes\n",
    "df_nodes_train = pd.DataFrame(nodes_with_attributes, columns=['Attributes', \"Spotify ID\"])\n",
    "\n",
    "# Normalize the 'Attributes' column to expand it into separate columns\n",
    "df_attributes = pd.json_normalize(df_nodes_train['Attributes'])\n",
    "\n",
    "# Combine the original 'Node' column with the expanded attributes\n",
    "df_nodes_train = pd.concat([df_attributes, df_nodes_train['Spotify ID']], axis=1)\n",
    "\n",
    "# Display the DataFrame\n",
    "df_nodes_train"
   ],
   "metadata": {
    "collapsed": false,
    "ExecuteTime": {
     "end_time": "2024-04-12T08:48:35.444294600Z",
     "start_time": "2024-04-12T08:48:35.418297200Z"
    }
   },
   "id": "a02e5a328f587e87"
  },
  {
   "cell_type": "code",
   "execution_count": 12,
   "outputs": [],
   "source": [
    "df_nodes_train.to_csv(\"network_created/nodes_real_train.csv\", sep='\\t', index=False)"
   ],
   "metadata": {
    "collapsed": false,
    "ExecuteTime": {
     "end_time": "2024-04-12T08:48:35.551293400Z",
     "start_time": "2024-04-12T08:48:35.446294100Z"
    }
   },
   "id": "affbd668a36e7e8a"
  },
  {
   "cell_type": "code",
   "execution_count": 13,
   "outputs": [
    {
     "data": {
      "text/plain": "                       Source                  Target  \\\n0      14y44NGF4r0x2VjZT5Ge8q  1TrfxjXu8quyDw05p2bacX   \n1      0Hhdobg94twK9cRl012ZsV  7mEIug7XUlQHikrFxjTWes   \n2      05741gYNWwjy7BdAHJ4YOt  4hSGrfIm5xRloHXESKxrFd   \n3      0ZcJXldoq09BRIMl0Qh1Vm  3alW3LYQS8K29z8C8NSLIX   \n4      0ZcJXldoq09BRIMl0Qh1Vm  5gl2M2G5Dn5XTEW30iMMoD   \n...                       ...                     ...   \n17945  6uCcNY9RhePIr9B5WkEORw  4V9GfHTG5wEjVYxGD6B7f0   \n17946  2yzxPcfb8JjrKKCIiLGWQW  762310PdDnwsDxAQxzQkfX   \n17947  5xenrbYhp4IRydrWpBe4Bx  76RrKpsvOmSKG8CIjROdSG   \n17948  3jQ8hpdQo3TCEnb5gmOtH5  0SwO7SWeDHJijQ3XNS7xEE   \n17949  40PLSl99xXqAQsCQQPmfyM  6Pk1UABmDVsf6utq0BL7JR   \n\n                             lable1                    lable2  weight  \\\n0                        Kenny Dope               James Rouse      16   \n1                      Neil Diamond  The 139th Street Quartet       2   \n2                       Richie Rich                     Ruffa      24   \n3                     Barry Manilow                  Dave Koz       2   \n4                   Jonathan Butler                  Dave Koz       2   \n...                             ...                       ...     ...   \n17945  Daniel O'Donnell & Mary Duff                 Mary Duff       4   \n17946                  Depeche Mode               Tim Simenon       2   \n17947                          MiMS                    LeToya      12   \n17948                          MGMT                Erol Alkan       4   \n17949                      Kym Sims             Stereo Junkie       2   \n\n                      song_id  \\\n0      71k3rrgVSWAh0dycJ93szE   \n1      20JAmJbIXuDEZxI24J9s2z   \n2      7zp21yESsVgg44TUDbBwDI   \n3      3zkPTnCdqMPLBoRTbBTAyR   \n4      3LfcFVUYs53mHyZOn0zlig   \n...                       ...   \n17945  66yf8j2FcIYXfhmZupc00g   \n17946  3cyEsjm4yRObvdhXweZnbF   \n17947  5xnU2rccQ4qQ5lIsZoRpB5   \n17948  3iPMvh6NlPVMLl4YetOfJE   \n17949  36i7V7jx765i8w5nSvnANK   \n\n                                               song_name  explicit  \\\n0                     Money For Love [K-Dope Broken Mix]     False   \n1         Deck The Halls / We Wish You A Merry Christmas     False   \n2                                         Tyme-N My Life      True   \n3                               I Hear Her Playing Music     False   \n4                                        The Bright Side     False   \n...                                                  ...       ...   \n17945  (Turn Out the Light and )Love Me Tonight (feat...     False   \n17946  Only When I Lose Myself - 24/48 PCM Stereo Mix...     False   \n17947                                        Without You      True   \n17948                 Congratulations - Erol Alkan Remix     False   \n17949   One Of Those Nights - Stereo Junkie vs. Kym Sims     False   \n\n           song_type  track_number  ...  acousticness  danceability  energy  \\\n0      Collaboration             3  ...      0.001250         0.462   0.737   \n1      Collaboration             7  ...      0.935000         0.485   0.263   \n2      Collaboration            16  ...      0.036800         0.687   0.850   \n3      Collaboration             5  ...      0.363000         0.696   0.572   \n4      Collaboration            12  ...      0.053000         0.678   0.715   \n...              ...           ...  ...           ...           ...     ...   \n17945  Collaboration             6  ...      0.822000         0.638   0.507   \n17946  Collaboration            18  ...      0.049800         0.519   0.718   \n17947  Collaboration            11  ...      0.049700         0.543   0.744   \n17948  Collaboration             1  ...      0.008830         0.742   0.861   \n17949  Collaboration             6  ...      0.000105         0.465   0.998   \n\n       instrumentalness liveness  loudness  speechiness  valence    tempo  hit  \n0              0.000009   0.0432    -5.499       0.2060    0.462  175.130    0  \n1              0.000000   0.1170    -8.815       0.0534    0.392   85.241    0  \n2              0.000023   0.0839    -5.369       0.2390    0.651  173.929    0  \n3              0.000000   0.0802    -5.037       0.0335    0.591  119.986    0  \n4              0.000046   0.0338    -7.395       0.0278    0.517  112.873    0  \n...                 ...      ...       ...          ...      ...      ...  ...  \n17945          0.000000   0.7560    -9.973       0.0583    0.559   83.459    0  \n17946          0.000215   0.1170    -7.267       0.0315    0.430   86.882    0  \n17947          0.000000   0.1770    -5.504       0.3250    0.484   91.791    0  \n17948          0.270000   0.8860    -4.670       0.0604    0.769  115.985    0  \n17949          0.816000   0.3490    -4.088       0.0585    0.595  127.961    0  \n\n[17950 rows x 28 columns]",
      "text/html": "<div>\n<style scoped>\n    .dataframe tbody tr th:only-of-type {\n        vertical-align: middle;\n    }\n\n    .dataframe tbody tr th {\n        vertical-align: top;\n    }\n\n    .dataframe thead th {\n        text-align: right;\n    }\n</style>\n<table border=\"1\" class=\"dataframe\">\n  <thead>\n    <tr style=\"text-align: right;\">\n      <th></th>\n      <th>Source</th>\n      <th>Target</th>\n      <th>lable1</th>\n      <th>lable2</th>\n      <th>weight</th>\n      <th>song_id</th>\n      <th>song_name</th>\n      <th>explicit</th>\n      <th>song_type</th>\n      <th>track_number</th>\n      <th>...</th>\n      <th>acousticness</th>\n      <th>danceability</th>\n      <th>energy</th>\n      <th>instrumentalness</th>\n      <th>liveness</th>\n      <th>loudness</th>\n      <th>speechiness</th>\n      <th>valence</th>\n      <th>tempo</th>\n      <th>hit</th>\n    </tr>\n  </thead>\n  <tbody>\n    <tr>\n      <th>0</th>\n      <td>14y44NGF4r0x2VjZT5Ge8q</td>\n      <td>1TrfxjXu8quyDw05p2bacX</td>\n      <td>Kenny Dope</td>\n      <td>James Rouse</td>\n      <td>16</td>\n      <td>71k3rrgVSWAh0dycJ93szE</td>\n      <td>Money For Love [K-Dope Broken Mix]</td>\n      <td>False</td>\n      <td>Collaboration</td>\n      <td>3</td>\n      <td>...</td>\n      <td>0.001250</td>\n      <td>0.462</td>\n      <td>0.737</td>\n      <td>0.000009</td>\n      <td>0.0432</td>\n      <td>-5.499</td>\n      <td>0.2060</td>\n      <td>0.462</td>\n      <td>175.130</td>\n      <td>0</td>\n    </tr>\n    <tr>\n      <th>1</th>\n      <td>0Hhdobg94twK9cRl012ZsV</td>\n      <td>7mEIug7XUlQHikrFxjTWes</td>\n      <td>Neil Diamond</td>\n      <td>The 139th Street Quartet</td>\n      <td>2</td>\n      <td>20JAmJbIXuDEZxI24J9s2z</td>\n      <td>Deck The Halls / We Wish You A Merry Christmas</td>\n      <td>False</td>\n      <td>Collaboration</td>\n      <td>7</td>\n      <td>...</td>\n      <td>0.935000</td>\n      <td>0.485</td>\n      <td>0.263</td>\n      <td>0.000000</td>\n      <td>0.1170</td>\n      <td>-8.815</td>\n      <td>0.0534</td>\n      <td>0.392</td>\n      <td>85.241</td>\n      <td>0</td>\n    </tr>\n    <tr>\n      <th>2</th>\n      <td>05741gYNWwjy7BdAHJ4YOt</td>\n      <td>4hSGrfIm5xRloHXESKxrFd</td>\n      <td>Richie Rich</td>\n      <td>Ruffa</td>\n      <td>24</td>\n      <td>7zp21yESsVgg44TUDbBwDI</td>\n      <td>Tyme-N My Life</td>\n      <td>True</td>\n      <td>Collaboration</td>\n      <td>16</td>\n      <td>...</td>\n      <td>0.036800</td>\n      <td>0.687</td>\n      <td>0.850</td>\n      <td>0.000023</td>\n      <td>0.0839</td>\n      <td>-5.369</td>\n      <td>0.2390</td>\n      <td>0.651</td>\n      <td>173.929</td>\n      <td>0</td>\n    </tr>\n    <tr>\n      <th>3</th>\n      <td>0ZcJXldoq09BRIMl0Qh1Vm</td>\n      <td>3alW3LYQS8K29z8C8NSLIX</td>\n      <td>Barry Manilow</td>\n      <td>Dave Koz</td>\n      <td>2</td>\n      <td>3zkPTnCdqMPLBoRTbBTAyR</td>\n      <td>I Hear Her Playing Music</td>\n      <td>False</td>\n      <td>Collaboration</td>\n      <td>5</td>\n      <td>...</td>\n      <td>0.363000</td>\n      <td>0.696</td>\n      <td>0.572</td>\n      <td>0.000000</td>\n      <td>0.0802</td>\n      <td>-5.037</td>\n      <td>0.0335</td>\n      <td>0.591</td>\n      <td>119.986</td>\n      <td>0</td>\n    </tr>\n    <tr>\n      <th>4</th>\n      <td>0ZcJXldoq09BRIMl0Qh1Vm</td>\n      <td>5gl2M2G5Dn5XTEW30iMMoD</td>\n      <td>Jonathan Butler</td>\n      <td>Dave Koz</td>\n      <td>2</td>\n      <td>3LfcFVUYs53mHyZOn0zlig</td>\n      <td>The Bright Side</td>\n      <td>False</td>\n      <td>Collaboration</td>\n      <td>12</td>\n      <td>...</td>\n      <td>0.053000</td>\n      <td>0.678</td>\n      <td>0.715</td>\n      <td>0.000046</td>\n      <td>0.0338</td>\n      <td>-7.395</td>\n      <td>0.0278</td>\n      <td>0.517</td>\n      <td>112.873</td>\n      <td>0</td>\n    </tr>\n    <tr>\n      <th>...</th>\n      <td>...</td>\n      <td>...</td>\n      <td>...</td>\n      <td>...</td>\n      <td>...</td>\n      <td>...</td>\n      <td>...</td>\n      <td>...</td>\n      <td>...</td>\n      <td>...</td>\n      <td>...</td>\n      <td>...</td>\n      <td>...</td>\n      <td>...</td>\n      <td>...</td>\n      <td>...</td>\n      <td>...</td>\n      <td>...</td>\n      <td>...</td>\n      <td>...</td>\n      <td>...</td>\n    </tr>\n    <tr>\n      <th>17945</th>\n      <td>6uCcNY9RhePIr9B5WkEORw</td>\n      <td>4V9GfHTG5wEjVYxGD6B7f0</td>\n      <td>Daniel O'Donnell &amp; Mary Duff</td>\n      <td>Mary Duff</td>\n      <td>4</td>\n      <td>66yf8j2FcIYXfhmZupc00g</td>\n      <td>(Turn Out the Light and )Love Me Tonight (feat...</td>\n      <td>False</td>\n      <td>Collaboration</td>\n      <td>6</td>\n      <td>...</td>\n      <td>0.822000</td>\n      <td>0.638</td>\n      <td>0.507</td>\n      <td>0.000000</td>\n      <td>0.7560</td>\n      <td>-9.973</td>\n      <td>0.0583</td>\n      <td>0.559</td>\n      <td>83.459</td>\n      <td>0</td>\n    </tr>\n    <tr>\n      <th>17946</th>\n      <td>2yzxPcfb8JjrKKCIiLGWQW</td>\n      <td>762310PdDnwsDxAQxzQkfX</td>\n      <td>Depeche Mode</td>\n      <td>Tim Simenon</td>\n      <td>2</td>\n      <td>3cyEsjm4yRObvdhXweZnbF</td>\n      <td>Only When I Lose Myself - 24/48 PCM Stereo Mix...</td>\n      <td>False</td>\n      <td>Collaboration</td>\n      <td>18</td>\n      <td>...</td>\n      <td>0.049800</td>\n      <td>0.519</td>\n      <td>0.718</td>\n      <td>0.000215</td>\n      <td>0.1170</td>\n      <td>-7.267</td>\n      <td>0.0315</td>\n      <td>0.430</td>\n      <td>86.882</td>\n      <td>0</td>\n    </tr>\n    <tr>\n      <th>17947</th>\n      <td>5xenrbYhp4IRydrWpBe4Bx</td>\n      <td>76RrKpsvOmSKG8CIjROdSG</td>\n      <td>MiMS</td>\n      <td>LeToya</td>\n      <td>12</td>\n      <td>5xnU2rccQ4qQ5lIsZoRpB5</td>\n      <td>Without You</td>\n      <td>True</td>\n      <td>Collaboration</td>\n      <td>11</td>\n      <td>...</td>\n      <td>0.049700</td>\n      <td>0.543</td>\n      <td>0.744</td>\n      <td>0.000000</td>\n      <td>0.1770</td>\n      <td>-5.504</td>\n      <td>0.3250</td>\n      <td>0.484</td>\n      <td>91.791</td>\n      <td>0</td>\n    </tr>\n    <tr>\n      <th>17948</th>\n      <td>3jQ8hpdQo3TCEnb5gmOtH5</td>\n      <td>0SwO7SWeDHJijQ3XNS7xEE</td>\n      <td>MGMT</td>\n      <td>Erol Alkan</td>\n      <td>4</td>\n      <td>3iPMvh6NlPVMLl4YetOfJE</td>\n      <td>Congratulations - Erol Alkan Remix</td>\n      <td>False</td>\n      <td>Collaboration</td>\n      <td>1</td>\n      <td>...</td>\n      <td>0.008830</td>\n      <td>0.742</td>\n      <td>0.861</td>\n      <td>0.270000</td>\n      <td>0.8860</td>\n      <td>-4.670</td>\n      <td>0.0604</td>\n      <td>0.769</td>\n      <td>115.985</td>\n      <td>0</td>\n    </tr>\n    <tr>\n      <th>17949</th>\n      <td>40PLSl99xXqAQsCQQPmfyM</td>\n      <td>6Pk1UABmDVsf6utq0BL7JR</td>\n      <td>Kym Sims</td>\n      <td>Stereo Junkie</td>\n      <td>2</td>\n      <td>36i7V7jx765i8w5nSvnANK</td>\n      <td>One Of Those Nights - Stereo Junkie vs. Kym Sims</td>\n      <td>False</td>\n      <td>Collaboration</td>\n      <td>6</td>\n      <td>...</td>\n      <td>0.000105</td>\n      <td>0.465</td>\n      <td>0.998</td>\n      <td>0.816000</td>\n      <td>0.3490</td>\n      <td>-4.088</td>\n      <td>0.0585</td>\n      <td>0.595</td>\n      <td>127.961</td>\n      <td>0</td>\n    </tr>\n  </tbody>\n</table>\n<p>17950 rows × 28 columns</p>\n</div>"
     },
     "execution_count": 13,
     "metadata": {},
     "output_type": "execute_result"
    }
   ],
   "source": [
    "# Extract edges and their attributes from the graph\n",
    "edges_with_attributes = [(u, v, G.edges[u, v]) for u, v in G.edges()]\n",
    "\n",
    "# Create a DataFrame from the edges and their attributes\n",
    "df_edges_train = pd.DataFrame(edges_with_attributes, columns=['Source', 'Target', 'Attributes'])\n",
    "\n",
    "# Normalize the 'Attributes' column to expand it into separate columns\n",
    "df_edge_attributes = pd.json_normalize(df_edges_train['Attributes'])\n",
    "\n",
    "# Combine the original 'Attributes' column with the expanded attributes\n",
    "df_edges_train = pd.concat([df_edges_train[['Source', 'Target']], df_edge_attributes], axis=1)\n",
    "df_edges_train"
   ],
   "metadata": {
    "collapsed": false,
    "ExecuteTime": {
     "end_time": "2024-04-12T08:48:35.868293400Z",
     "start_time": "2024-04-12T08:48:35.524296Z"
    }
   },
   "id": "b94ca6391b6c88f8"
  },
  {
   "cell_type": "code",
   "execution_count": 14,
   "outputs": [],
   "source": [
    "# Save edge DataFrame to CSV\n",
    "df_edges_train.to_csv('network_created/edges_real_train.csv', sep='\\t', index=False)"
   ],
   "metadata": {
    "collapsed": false,
    "ExecuteTime": {
     "end_time": "2024-04-12T08:48:36.091295300Z",
     "start_time": "2024-04-12T08:48:35.871294800Z"
    }
   },
   "id": "8cf334b81ab892a9"
  },
  {
   "cell_type": "code",
   "execution_count": 15,
   "outputs": [
    {
     "name": "stdout",
     "output_type": "stream",
     "text": [
      "Number of nodes: 18551\n",
      "Number of edges: 17950\n"
     ]
    }
   ],
   "source": [
    "num_nodes = G.number_of_nodes()\n",
    "num_edges = G.number_of_edges()\n",
    "print(\"Number of nodes:\", num_nodes)\n",
    "print(\"Number of edges:\", num_edges)\n"
   ],
   "metadata": {
    "collapsed": false,
    "ExecuteTime": {
     "end_time": "2024-04-12T08:48:36.106293600Z",
     "start_time": "2024-04-12T08:48:36.103297600Z"
    }
   },
   "id": "ed2d73175e8f4ff7"
  },
  {
   "cell_type": "code",
   "execution_count": 16,
   "outputs": [
    {
     "name": "stdout",
     "output_type": "stream",
     "text": [
      "amount of artists: 13209\n"
     ]
    },
    {
     "data": {
      "text/plain": "                    artist_id          artist_name\n0      5gLIbkXGeoJh0bzeEmvG2n           Underwater\n1      1N477jyVWGcvVoRnvOePue     Gustavo Coutinho\n2      3BL7Z4GDZQOEnlETaPYV93    Orgel Sound J-pop\n3      3OpJxAHfT0KsJzQqdX5SLb         Ginger Tunes\n4      59n7uqUFv9tprlcVU9CoXL    Jive Ass Sleepers\n...                       ...                  ...\n13204  69Mj3u4FTUrpyeGNSIaU6F    The J. Geils Band\n13205  6piiChdjB4mmBVvOs7rWco  The Hollywood Stars\n13206  3lJ6jvOiNY46L2juqXufpf       Changing Faces\n13207  6JjTnHt1P7gQXlcFDoI4IC            Jellybean\n13208  1Ve5PoI7i5jIIP1xudo6AB      The Parliaments\n\n[13209 rows x 2 columns]",
      "text/html": "<div>\n<style scoped>\n    .dataframe tbody tr th:only-of-type {\n        vertical-align: middle;\n    }\n\n    .dataframe tbody tr th {\n        vertical-align: top;\n    }\n\n    .dataframe thead th {\n        text-align: right;\n    }\n</style>\n<table border=\"1\" class=\"dataframe\">\n  <thead>\n    <tr style=\"text-align: right;\">\n      <th></th>\n      <th>artist_id</th>\n      <th>artist_name</th>\n    </tr>\n  </thead>\n  <tbody>\n    <tr>\n      <th>0</th>\n      <td>5gLIbkXGeoJh0bzeEmvG2n</td>\n      <td>Underwater</td>\n    </tr>\n    <tr>\n      <th>1</th>\n      <td>1N477jyVWGcvVoRnvOePue</td>\n      <td>Gustavo Coutinho</td>\n    </tr>\n    <tr>\n      <th>2</th>\n      <td>3BL7Z4GDZQOEnlETaPYV93</td>\n      <td>Orgel Sound J-pop</td>\n    </tr>\n    <tr>\n      <th>3</th>\n      <td>3OpJxAHfT0KsJzQqdX5SLb</td>\n      <td>Ginger Tunes</td>\n    </tr>\n    <tr>\n      <th>4</th>\n      <td>59n7uqUFv9tprlcVU9CoXL</td>\n      <td>Jive Ass Sleepers</td>\n    </tr>\n    <tr>\n      <th>...</th>\n      <td>...</td>\n      <td>...</td>\n    </tr>\n    <tr>\n      <th>13204</th>\n      <td>69Mj3u4FTUrpyeGNSIaU6F</td>\n      <td>The J. Geils Band</td>\n    </tr>\n    <tr>\n      <th>13205</th>\n      <td>6piiChdjB4mmBVvOs7rWco</td>\n      <td>The Hollywood Stars</td>\n    </tr>\n    <tr>\n      <th>13206</th>\n      <td>3lJ6jvOiNY46L2juqXufpf</td>\n      <td>Changing Faces</td>\n    </tr>\n    <tr>\n      <th>13207</th>\n      <td>6JjTnHt1P7gQXlcFDoI4IC</td>\n      <td>Jellybean</td>\n    </tr>\n    <tr>\n      <th>13208</th>\n      <td>1Ve5PoI7i5jIIP1xudo6AB</td>\n      <td>The Parliaments</td>\n    </tr>\n  </tbody>\n</table>\n<p>13209 rows × 2 columns</p>\n</div>"
     },
     "execution_count": 16,
     "metadata": {},
     "output_type": "execute_result"
    }
   ],
   "source": [
    "# Specify the columns\n",
    "columns = ['artist_id', 'artist_name']\n",
    "\n",
    "# Initialize an empty DataFrame\n",
    "df_artists_test = pd.DataFrame(columns={col: [] for col in columns})\n",
    "\n",
    "count = 0\n",
    "artist_set = set()\n",
    "\n",
    "for _, row in test_df.iterrows():\n",
    "    current_artist_id_list = eval(row[\"id_artists\"])\n",
    "    current_artist_name_list = eval(row[\"name_artists\"])\n",
    "    for cur_art_id, cur_art_name in zip(current_artist_id_list, current_artist_name_list):\n",
    "        if cur_art_id not in artist_set:\n",
    "            artist_set.add(cur_art_id)\n",
    "            df_artists_test.loc[len(df_artists_test)] = [cur_art_id, cur_art_name]\n",
    "            count += 1\n",
    "\n",
    "print(\"amount of artists:\", count)\n",
    "df_artists_test"
   ],
   "metadata": {
    "collapsed": false,
    "ExecuteTime": {
     "end_time": "2024-04-12T08:49:01.447768300Z",
     "start_time": "2024-04-12T08:48:36.109295300Z"
    }
   },
   "id": "debfdb478f00e0a8"
  },
  {
   "cell_type": "code",
   "execution_count": 17,
   "outputs": [],
   "source": [
    "import networkx as nx\n",
    "\n",
    "all_artist_ids = artist_set.copy()\n",
    "\n",
    "G2 = nx.Graph()\n",
    "\n",
    "for id_art_cur in all_artist_ids:\n",
    "    artist_name = df_artists_test[(df_artists_test[\"artist_id\"] == id_art_cur)][\"artist_name\"]\n",
    "    artist_info = df_artists_test[df_artists_test[\"artist_id\"] == id_art_cur]\n",
    "    if not artist_info.empty:  # Check if artist info exists\n",
    "        # Filter out artists who are not successful\n",
    "        node_attrs = {\"name\": artist_name.iloc[0]}\n",
    "        G2.add_node(id_art_cur, **node_attrs)\n",
    "    else:\n",
    "        print(\"Artist info not found for ID:\", id_art_cur)\n",
    "\n",
    "for _, row in test_df.iterrows():\n",
    "    artist_ids = list(eval(row[\"id_artists\"]))\n",
    "    artist_names = list(eval(row[\"name_artists\"]))\n",
    "    # Filter out songs that do not have more than one artist in their execution\n",
    "    if len(artist_ids) > 1:\n",
    "        for i in range(len(artist_ids)):\n",
    "            for j in range(i+1, len(artist_ids)):\n",
    "                artist_id_1 = str(artist_ids[i])\n",
    "                lable1 = str(artist_names[i])\n",
    "                artist_id_2 = str(artist_ids[j])\n",
    "                lable2 = str(artist_names[j])\n",
    "                # Check if the edge already exists\n",
    "                if G2.has_edge(artist_id_1, artist_id_2):\n",
    "                    # If the edge already exists, increment the weight by 1\n",
    "                    G2[artist_id_1][artist_id_2]['weight'] += 2\n",
    "                else:\n",
    "                    # Add a new edge with weight 1\n",
    "                    G2.add_edge(artist_id_1, artist_id_2, lable1=lable1, lable2=lable2, weight=2, song_id=str(row[\"song_id\"]), song_name=str(row[\"song_name\"]), explicit=bool(row[\"explicit\"]), song_type=str(row[\"song_type\"]), track_number=int(row[\"track_number\"]), num_artists=int(row[\"num_artists\"]), num_available_markets=int(row[\"num_available_markets\"]), duration_ms=int(row[\"duration_ms\"]), popularity=int(row[\"popularity\"]), release_date=str(row[\"release_date\"]), key = int(row[\"key\"]), mode = int(row[\"mode\"]), time_signature = int(row[\"time_signature\"]), acousticness = float(row[\"acousticness\"]), danceability = float(row[\"danceability\"]), energy = float(row[\"energy\"]), instrumentalness = float(row[\"instrumentalness\"]), liveness = float(row[\"liveness\"]),loudness = float(row[\"loudness\"]), speechiness = float(row[\"speechiness\"]), valence = float(row[\"valence\"]), tempo = float(row[\"tempo\"]), hit = int(row[\"hit\"]))"
   ],
   "metadata": {
    "collapsed": false,
    "ExecuteTime": {
     "end_time": "2024-04-12T08:49:39.642040500Z",
     "start_time": "2024-04-12T08:49:01.479772700Z"
    }
   },
   "id": "fe0fb448adf18ca8"
  },
  {
   "cell_type": "code",
   "execution_count": 18,
   "outputs": [
    {
     "data": {
      "text/plain": "                    name              Spotify ID\n0          Musical Youth  2CuzDPkRD6BJBvdWqCrt2I\n1              Determine  0m5WRlC6dWlLxfzZdOQ7Af\n2        Sergey Manukyan  2Fq3z7JRPoxi4B0xx8Uv9D\n3                 Moplen  3NcMPhTdRUe1VhAX2e6upk\n4              El Koyote  0brOXIoHWxRVH4KLWlQs6S\n...                  ...                     ...\n13204           KASSIANO  2MzzwDQ7n8wSGCJIqKJH5r\n13205               MiMS  76RrKpsvOmSKG8CIjROdSG\n13206  Immortal Soldierz  5YWMNyfQ84dddCMfQTtxAd\n13207    Rinaldo Montezz  1cX9A5MXV9id7GP4epvVz0\n13208             Avicii  1vCWHaC5f2uS3yhpwWbIA6\n\n[13209 rows x 2 columns]",
      "text/html": "<div>\n<style scoped>\n    .dataframe tbody tr th:only-of-type {\n        vertical-align: middle;\n    }\n\n    .dataframe tbody tr th {\n        vertical-align: top;\n    }\n\n    .dataframe thead th {\n        text-align: right;\n    }\n</style>\n<table border=\"1\" class=\"dataframe\">\n  <thead>\n    <tr style=\"text-align: right;\">\n      <th></th>\n      <th>name</th>\n      <th>Spotify ID</th>\n    </tr>\n  </thead>\n  <tbody>\n    <tr>\n      <th>0</th>\n      <td>Musical Youth</td>\n      <td>2CuzDPkRD6BJBvdWqCrt2I</td>\n    </tr>\n    <tr>\n      <th>1</th>\n      <td>Determine</td>\n      <td>0m5WRlC6dWlLxfzZdOQ7Af</td>\n    </tr>\n    <tr>\n      <th>2</th>\n      <td>Sergey Manukyan</td>\n      <td>2Fq3z7JRPoxi4B0xx8Uv9D</td>\n    </tr>\n    <tr>\n      <th>3</th>\n      <td>Moplen</td>\n      <td>3NcMPhTdRUe1VhAX2e6upk</td>\n    </tr>\n    <tr>\n      <th>4</th>\n      <td>El Koyote</td>\n      <td>0brOXIoHWxRVH4KLWlQs6S</td>\n    </tr>\n    <tr>\n      <th>...</th>\n      <td>...</td>\n      <td>...</td>\n    </tr>\n    <tr>\n      <th>13204</th>\n      <td>KASSIANO</td>\n      <td>2MzzwDQ7n8wSGCJIqKJH5r</td>\n    </tr>\n    <tr>\n      <th>13205</th>\n      <td>MiMS</td>\n      <td>76RrKpsvOmSKG8CIjROdSG</td>\n    </tr>\n    <tr>\n      <th>13206</th>\n      <td>Immortal Soldierz</td>\n      <td>5YWMNyfQ84dddCMfQTtxAd</td>\n    </tr>\n    <tr>\n      <th>13207</th>\n      <td>Rinaldo Montezz</td>\n      <td>1cX9A5MXV9id7GP4epvVz0</td>\n    </tr>\n    <tr>\n      <th>13208</th>\n      <td>Avicii</td>\n      <td>1vCWHaC5f2uS3yhpwWbIA6</td>\n    </tr>\n  </tbody>\n</table>\n<p>13209 rows × 2 columns</p>\n</div>"
     },
     "execution_count": 18,
     "metadata": {},
     "output_type": "execute_result"
    }
   ],
   "source": [
    "# Assuming G is your NetworkX graph\n",
    "\n",
    "# Extract nodes and their attributes from the graph\n",
    "nodes_with_attributes = [(G2.nodes[node], node) for node in G2.nodes()]\n",
    "\n",
    "# Create a DataFrame from the nodes and their attributes\n",
    "df_nodes_test = pd.DataFrame(nodes_with_attributes, columns=['Attributes', \"Spotify ID\"])\n",
    "\n",
    "# Normalize the 'Attributes' column to expand it into separate columns\n",
    "df_attributes = pd.json_normalize(df_nodes_test['Attributes'])\n",
    "\n",
    "# Combine the original 'Node' column with the expanded attributes\n",
    "df_nodes_test = pd.concat([df_attributes, df_nodes_test['Spotify ID']], axis=1)\n",
    "\n",
    "# Display the DataFrame\n",
    "df_nodes_test"
   ],
   "metadata": {
    "collapsed": false,
    "ExecuteTime": {
     "end_time": "2024-04-12T08:49:39.734040900Z",
     "start_time": "2024-04-12T08:49:39.671041200Z"
    }
   },
   "id": "4b5d80bd0f928513"
  },
  {
   "cell_type": "code",
   "execution_count": 19,
   "outputs": [],
   "source": [
    "df_nodes_test.to_csv(\"network_created/nodes_real_test.csv\", sep='\\t', index=False)"
   ],
   "metadata": {
    "collapsed": false,
    "ExecuteTime": {
     "end_time": "2024-04-12T08:49:39.903037900Z",
     "start_time": "2024-04-12T08:49:39.743040100Z"
    }
   },
   "id": "eeab99250e649d7a"
  },
  {
   "cell_type": "code",
   "execution_count": 20,
   "outputs": [
    {
     "data": {
      "text/plain": "                       Source                  Target          lable1  \\\n0      2CuzDPkRD6BJBvdWqCrt2I  4R61zLFCe9YgQV9MyfMgi7   Musical Youth   \n1      2CuzDPkRD6BJBvdWqCrt2I  2eogQKWWoohI3BSnoG7E2U    Donna Summer   \n2      0m5WRlC6dWlLxfzZdOQ7Af  1pmixngtBJleMrGUG5o8DE       Mr. Vegas   \n3      3NcMPhTdRUe1VhAX2e6upk  3S34Unhn5yRcaH5K9aU5Et    Candi Staton   \n4      3NcMPhTdRUe1VhAX2e6upk  5uFqO7FceiE84xjEjFtQLX            Skyy   \n...                       ...                     ...             ...   \n11207  29edIdhAWS3Eye6fIPyFG3  76RrKpsvOmSKG8CIjROdSG  DJ Mickey Knox   \n11208  3jQ8hpdQo3TCEnb5gmOtH5  762310PdDnwsDxAQxzQkfX    Depeche Mode   \n11209  7LvoDJUNGnOrPdGRzVtOJ9  37GwPp8jpX0TvlKwvy4RIS       Young M.A   \n11210  6w3ZScuMlhMqxd6Nr0WwLj  55PkOaApDDF3k0PfNK0K94       BIGG HANK   \n11211  2wIVse2owClT7go1WT98tk  4qwGe91Bz9K2T8jXTZ815W   Janet Jackson   \n\n              lable2  weight                 song_id  \\\n0             OdjBox       2  7cXJ1XVJzaShGkZaIpKG2M   \n1      Musical Youth       2  7EzWu5sFUK4wF6fX8oSmlk   \n2          Determine       4  0UY0VbPQkA7icxGkY0wCip   \n3             Moplen       4  133mhbiPiLI3mrHORmJzRK   \n4             Moplen       4  7ovYIjyVhjj8xN4aL6ZgmD   \n...              ...     ...                     ...   \n11207           MiMS       2  0aOOtizoB87mTRYh06htNW   \n11208     Erol Alkan       2  5woKWWDVMGpbgArvyocPJE   \n11209       Korleone       4  4ThMGbM9mlUyiGdzHW2cbT   \n11210    Shawty Redd       2  6Z1w1TtYbIkJDYNFcjyXZ7   \n11211  Missy Elliott       4  008czNah6OlWdRvRXA5etR   \n\n                                       song_name  explicit      song_type  \\\n0                Pass The Dutchie - Odjbox Remix     False  Collaboration   \n1                      Unconditional Love - Edit     False  Collaboration   \n2                                   True Friends     False  Collaboration   \n3      Hallelujah Anyway - Moplen's Classic Vibe     False  Collaboration   \n4         Here's To You - Moplen Boogie Down Mix     False  Collaboration   \n...                                          ...       ...            ...   \n11207                                   My Rifle     False  Collaboration   \n11208   Cover Me - Erol Alkan White Light Rework     False  Collaboration   \n11209                                    Wahlinn     False  Collaboration   \n11210                                    Swisher      True  Collaboration   \n11211            BURNITUP! (feat. Missy Elliott)     False  Collaboration   \n\n       track_number  ...  acousticness  danceability  energy  \\\n0                 1  ...       0.00193         0.783   0.885   \n1                16  ...       0.34400         0.783   0.796   \n2                 1  ...       0.09730         0.675   0.852   \n3                 1  ...       0.00287         0.814   0.514   \n4                 1  ...       0.00917         0.750   0.676   \n...             ...  ...           ...           ...     ...   \n11207             1  ...       0.29500         0.780   0.667   \n11208             8  ...       0.04260         0.756   0.825   \n11209             1  ...       0.00870         0.410   0.653   \n11210            24  ...       0.03460         0.649   0.864   \n11211             1  ...       0.04630         0.828   0.708   \n\n       instrumentalness liveness  loudness  speechiness  valence    tempo  hit  \n0              0.114000   0.1080    -4.467       0.0426   0.7810   95.019    0  \n1              0.000000   0.1040    -7.577       0.0811   0.7870  100.191    0  \n2              0.000000   0.2580    -4.813       0.3710   0.8120  185.100    0  \n3              0.000002   0.0686   -11.171       0.0398   0.6740  115.033    0  \n4              0.709000   0.3970   -10.915       0.0435   0.9610  122.999    0  \n...                 ...      ...       ...          ...      ...      ...  ...  \n11207          0.000000   0.1810    -8.249       0.3460   0.4700   87.992    0  \n11208          0.674000   0.1090   -11.262       0.0415   0.4170  118.010    0  \n11209          0.000003   0.1660    -4.259       0.1130   0.0512  159.739    0  \n11210          0.000000   0.4260    -3.525       0.2790   0.6960   95.702    0  \n11211          0.000000   0.3140    -6.604       0.1750   0.8300  122.996    0  \n\n[11212 rows x 28 columns]",
      "text/html": "<div>\n<style scoped>\n    .dataframe tbody tr th:only-of-type {\n        vertical-align: middle;\n    }\n\n    .dataframe tbody tr th {\n        vertical-align: top;\n    }\n\n    .dataframe thead th {\n        text-align: right;\n    }\n</style>\n<table border=\"1\" class=\"dataframe\">\n  <thead>\n    <tr style=\"text-align: right;\">\n      <th></th>\n      <th>Source</th>\n      <th>Target</th>\n      <th>lable1</th>\n      <th>lable2</th>\n      <th>weight</th>\n      <th>song_id</th>\n      <th>song_name</th>\n      <th>explicit</th>\n      <th>song_type</th>\n      <th>track_number</th>\n      <th>...</th>\n      <th>acousticness</th>\n      <th>danceability</th>\n      <th>energy</th>\n      <th>instrumentalness</th>\n      <th>liveness</th>\n      <th>loudness</th>\n      <th>speechiness</th>\n      <th>valence</th>\n      <th>tempo</th>\n      <th>hit</th>\n    </tr>\n  </thead>\n  <tbody>\n    <tr>\n      <th>0</th>\n      <td>2CuzDPkRD6BJBvdWqCrt2I</td>\n      <td>4R61zLFCe9YgQV9MyfMgi7</td>\n      <td>Musical Youth</td>\n      <td>OdjBox</td>\n      <td>2</td>\n      <td>7cXJ1XVJzaShGkZaIpKG2M</td>\n      <td>Pass The Dutchie - Odjbox Remix</td>\n      <td>False</td>\n      <td>Collaboration</td>\n      <td>1</td>\n      <td>...</td>\n      <td>0.00193</td>\n      <td>0.783</td>\n      <td>0.885</td>\n      <td>0.114000</td>\n      <td>0.1080</td>\n      <td>-4.467</td>\n      <td>0.0426</td>\n      <td>0.7810</td>\n      <td>95.019</td>\n      <td>0</td>\n    </tr>\n    <tr>\n      <th>1</th>\n      <td>2CuzDPkRD6BJBvdWqCrt2I</td>\n      <td>2eogQKWWoohI3BSnoG7E2U</td>\n      <td>Donna Summer</td>\n      <td>Musical Youth</td>\n      <td>2</td>\n      <td>7EzWu5sFUK4wF6fX8oSmlk</td>\n      <td>Unconditional Love - Edit</td>\n      <td>False</td>\n      <td>Collaboration</td>\n      <td>16</td>\n      <td>...</td>\n      <td>0.34400</td>\n      <td>0.783</td>\n      <td>0.796</td>\n      <td>0.000000</td>\n      <td>0.1040</td>\n      <td>-7.577</td>\n      <td>0.0811</td>\n      <td>0.7870</td>\n      <td>100.191</td>\n      <td>0</td>\n    </tr>\n    <tr>\n      <th>2</th>\n      <td>0m5WRlC6dWlLxfzZdOQ7Af</td>\n      <td>1pmixngtBJleMrGUG5o8DE</td>\n      <td>Mr. Vegas</td>\n      <td>Determine</td>\n      <td>4</td>\n      <td>0UY0VbPQkA7icxGkY0wCip</td>\n      <td>True Friends</td>\n      <td>False</td>\n      <td>Collaboration</td>\n      <td>1</td>\n      <td>...</td>\n      <td>0.09730</td>\n      <td>0.675</td>\n      <td>0.852</td>\n      <td>0.000000</td>\n      <td>0.2580</td>\n      <td>-4.813</td>\n      <td>0.3710</td>\n      <td>0.8120</td>\n      <td>185.100</td>\n      <td>0</td>\n    </tr>\n    <tr>\n      <th>3</th>\n      <td>3NcMPhTdRUe1VhAX2e6upk</td>\n      <td>3S34Unhn5yRcaH5K9aU5Et</td>\n      <td>Candi Staton</td>\n      <td>Moplen</td>\n      <td>4</td>\n      <td>133mhbiPiLI3mrHORmJzRK</td>\n      <td>Hallelujah Anyway - Moplen's Classic Vibe</td>\n      <td>False</td>\n      <td>Collaboration</td>\n      <td>1</td>\n      <td>...</td>\n      <td>0.00287</td>\n      <td>0.814</td>\n      <td>0.514</td>\n      <td>0.000002</td>\n      <td>0.0686</td>\n      <td>-11.171</td>\n      <td>0.0398</td>\n      <td>0.6740</td>\n      <td>115.033</td>\n      <td>0</td>\n    </tr>\n    <tr>\n      <th>4</th>\n      <td>3NcMPhTdRUe1VhAX2e6upk</td>\n      <td>5uFqO7FceiE84xjEjFtQLX</td>\n      <td>Skyy</td>\n      <td>Moplen</td>\n      <td>4</td>\n      <td>7ovYIjyVhjj8xN4aL6ZgmD</td>\n      <td>Here's To You - Moplen Boogie Down Mix</td>\n      <td>False</td>\n      <td>Collaboration</td>\n      <td>1</td>\n      <td>...</td>\n      <td>0.00917</td>\n      <td>0.750</td>\n      <td>0.676</td>\n      <td>0.709000</td>\n      <td>0.3970</td>\n      <td>-10.915</td>\n      <td>0.0435</td>\n      <td>0.9610</td>\n      <td>122.999</td>\n      <td>0</td>\n    </tr>\n    <tr>\n      <th>...</th>\n      <td>...</td>\n      <td>...</td>\n      <td>...</td>\n      <td>...</td>\n      <td>...</td>\n      <td>...</td>\n      <td>...</td>\n      <td>...</td>\n      <td>...</td>\n      <td>...</td>\n      <td>...</td>\n      <td>...</td>\n      <td>...</td>\n      <td>...</td>\n      <td>...</td>\n      <td>...</td>\n      <td>...</td>\n      <td>...</td>\n      <td>...</td>\n      <td>...</td>\n      <td>...</td>\n    </tr>\n    <tr>\n      <th>11207</th>\n      <td>29edIdhAWS3Eye6fIPyFG3</td>\n      <td>76RrKpsvOmSKG8CIjROdSG</td>\n      <td>DJ Mickey Knox</td>\n      <td>MiMS</td>\n      <td>2</td>\n      <td>0aOOtizoB87mTRYh06htNW</td>\n      <td>My Rifle</td>\n      <td>False</td>\n      <td>Collaboration</td>\n      <td>1</td>\n      <td>...</td>\n      <td>0.29500</td>\n      <td>0.780</td>\n      <td>0.667</td>\n      <td>0.000000</td>\n      <td>0.1810</td>\n      <td>-8.249</td>\n      <td>0.3460</td>\n      <td>0.4700</td>\n      <td>87.992</td>\n      <td>0</td>\n    </tr>\n    <tr>\n      <th>11208</th>\n      <td>3jQ8hpdQo3TCEnb5gmOtH5</td>\n      <td>762310PdDnwsDxAQxzQkfX</td>\n      <td>Depeche Mode</td>\n      <td>Erol Alkan</td>\n      <td>2</td>\n      <td>5woKWWDVMGpbgArvyocPJE</td>\n      <td>Cover Me - Erol Alkan White Light Rework</td>\n      <td>False</td>\n      <td>Collaboration</td>\n      <td>8</td>\n      <td>...</td>\n      <td>0.04260</td>\n      <td>0.756</td>\n      <td>0.825</td>\n      <td>0.674000</td>\n      <td>0.1090</td>\n      <td>-11.262</td>\n      <td>0.0415</td>\n      <td>0.4170</td>\n      <td>118.010</td>\n      <td>0</td>\n    </tr>\n    <tr>\n      <th>11209</th>\n      <td>7LvoDJUNGnOrPdGRzVtOJ9</td>\n      <td>37GwPp8jpX0TvlKwvy4RIS</td>\n      <td>Young M.A</td>\n      <td>Korleone</td>\n      <td>4</td>\n      <td>4ThMGbM9mlUyiGdzHW2cbT</td>\n      <td>Wahlinn</td>\n      <td>False</td>\n      <td>Collaboration</td>\n      <td>1</td>\n      <td>...</td>\n      <td>0.00870</td>\n      <td>0.410</td>\n      <td>0.653</td>\n      <td>0.000003</td>\n      <td>0.1660</td>\n      <td>-4.259</td>\n      <td>0.1130</td>\n      <td>0.0512</td>\n      <td>159.739</td>\n      <td>0</td>\n    </tr>\n    <tr>\n      <th>11210</th>\n      <td>6w3ZScuMlhMqxd6Nr0WwLj</td>\n      <td>55PkOaApDDF3k0PfNK0K94</td>\n      <td>BIGG HANK</td>\n      <td>Shawty Redd</td>\n      <td>2</td>\n      <td>6Z1w1TtYbIkJDYNFcjyXZ7</td>\n      <td>Swisher</td>\n      <td>True</td>\n      <td>Collaboration</td>\n      <td>24</td>\n      <td>...</td>\n      <td>0.03460</td>\n      <td>0.649</td>\n      <td>0.864</td>\n      <td>0.000000</td>\n      <td>0.4260</td>\n      <td>-3.525</td>\n      <td>0.2790</td>\n      <td>0.6960</td>\n      <td>95.702</td>\n      <td>0</td>\n    </tr>\n    <tr>\n      <th>11211</th>\n      <td>2wIVse2owClT7go1WT98tk</td>\n      <td>4qwGe91Bz9K2T8jXTZ815W</td>\n      <td>Janet Jackson</td>\n      <td>Missy Elliott</td>\n      <td>4</td>\n      <td>008czNah6OlWdRvRXA5etR</td>\n      <td>BURNITUP! (feat. Missy Elliott)</td>\n      <td>False</td>\n      <td>Collaboration</td>\n      <td>1</td>\n      <td>...</td>\n      <td>0.04630</td>\n      <td>0.828</td>\n      <td>0.708</td>\n      <td>0.000000</td>\n      <td>0.3140</td>\n      <td>-6.604</td>\n      <td>0.1750</td>\n      <td>0.8300</td>\n      <td>122.996</td>\n      <td>0</td>\n    </tr>\n  </tbody>\n</table>\n<p>11212 rows × 28 columns</p>\n</div>"
     },
     "execution_count": 20,
     "metadata": {},
     "output_type": "execute_result"
    }
   ],
   "source": [
    "# Extract edges and their attributes from the graph\n",
    "edges_with_attributes = [(u, v, G2.edges[u, v]) for u, v in G2.edges()]\n",
    "\n",
    "# Create a DataFrame from the edges and their attributes\n",
    "df_edges_test = pd.DataFrame(edges_with_attributes, columns=['Source', 'Target', 'Attributes'])\n",
    "\n",
    "# Normalize the 'Attributes' column to expand it into separate columns\n",
    "df_edge_attributes = pd.json_normalize(df_edges_test['Attributes'])\n",
    "\n",
    "# Combine the original 'Attributes' column with the expanded attributes\n",
    "df_edges_test = pd.concat([df_edges_test[['Source', 'Target']], df_edge_attributes], axis=1)\n",
    "df_edges_test"
   ],
   "metadata": {
    "collapsed": false,
    "ExecuteTime": {
     "end_time": "2024-04-12T08:49:40.256040800Z",
     "start_time": "2024-04-12T08:49:39.816042700Z"
    }
   },
   "id": "2e6324973210ec7e"
  },
  {
   "cell_type": "code",
   "execution_count": 21,
   "outputs": [],
   "source": [
    "# Save edge DataFrame to CSV\n",
    "df_edges_test.to_csv('network_created/edges_real_test.csv', sep='\\t', index=False)"
   ],
   "metadata": {
    "collapsed": false,
    "ExecuteTime": {
     "end_time": "2024-04-12T08:49:40.424039300Z",
     "start_time": "2024-04-12T08:49:40.259041400Z"
    }
   },
   "id": "b2a4471b27c98a30"
  },
  {
   "cell_type": "code",
   "execution_count": 22,
   "outputs": [
    {
     "name": "stdout",
     "output_type": "stream",
     "text": [
      "Number of nodes: 13209\n",
      "Number of edges: 11212\n"
     ]
    }
   ],
   "source": [
    "num_nodes = G2.number_of_nodes()\n",
    "num_edges = G2.number_of_edges()\n",
    "print(\"Number of nodes:\", num_nodes)\n",
    "print(\"Number of edges:\", num_edges)\n"
   ],
   "metadata": {
    "collapsed": false,
    "ExecuteTime": {
     "end_time": "2024-04-12T08:49:40.453039Z",
     "start_time": "2024-04-12T08:49:40.433038100Z"
    }
   },
   "id": "b6287a821fd97ef0"
  },
  {
   "cell_type": "code",
   "execution_count": 23,
   "outputs": [
    {
     "data": {
      "text/plain": "                       song_id  \\\n804676  7kXUEJmfvRXbzxOC0pHQgb   \n465447  1xdRFXv3ytSOdj8GuT3Rge   \n465446  5wlQIBbKIWoB7AnSw09C6C   \n377956  40uHAEjua1YmyKIJ6k0iVa   \n465445  2zmMWWgwCXYarkO2SbyPZP   \n...                        ...   \n677962  45oru9CcsrV3EWBMl1Wflg   \n819520  5AZQNFCdxA3W1nssrtu4Yr   \n678026  0gvKPCmhJzXa4YgptrNvI4   \n819519  5FDxZkCXwOOO0CQP3zQUBL   \n819518  3m3CVlgUzXQaFkXdMPV3nI   \n\n                                              song_name  \\\n804676                   I Can't Believe I'm Losing You   \n465447                       Thank You Lord (Interlude)   \n465446                                    All This Love   \n377956                                         Bo Bo Wa   \n465445                                        Come Over   \n...                                                 ...   \n677962                                      Angels Moon   \n819520       能登半島 Originally Performed By 石川さゆり (オルゴール)   \n678026                                      Up the Hill   \n819519  浪花恋しぐれ Originally Performed By 都はるみ・岡千秋 (オルゴール)   \n819518      バス・ストップ Originally Performed By 平浩二 (オルゴール)   \n\n                        id_artists           name_artists  popularity  \\\n804676  ['6eVCRmRG2HcfL4yx77A9WK']         ['Jack Jones']           5   \n465447  ['5NDMothbpdpq2xHqSjrrWn']        ['Faith Evans']          20   \n465446  ['5NDMothbpdpq2xHqSjrrWn']        ['Faith Evans']          26   \n377956  ['3z6Uf5IZkN4TogRpRpgD84']        ['Gary Wright']           0   \n465445  ['5NDMothbpdpq2xHqSjrrWn']        ['Faith Evans']          38   \n...                            ...                    ...         ...   \n677962  ['7FQ8wLlE6kd6EBtexh0FAD']  ['Richy Kicklighter']           0   \n819520  ['3BL7Z4GDZQOEnlETaPYV93']  ['Orgel Sound J-pop']           0   \n678026  ['3FRfnhYD8uu3k8Dml7C7Wy']        ['Jason Meeks']           0   \n819519  ['3BL7Z4GDZQOEnlETaPYV93']  ['Orgel Sound J-pop']           0   \n819518  ['3BL7Z4GDZQOEnlETaPYV93']  ['Orgel Sound J-pop']           1   \n\n        explicit song_type  track_number  num_artists  num_available_markets  \\\n804676     False      Solo            12            1                     79   \n465447     False      Solo            10            1                     77   \n465446     False      Solo             9            1                     77   \n377956     False      Solo             8            1                     79   \n465445     False      Solo             7            1                     77   \n...          ...       ...           ...          ...                    ...   \n677962     False      Solo             6            1                     79   \n819520     False      Solo             7            1                     79   \n678026     False      Solo            30            1                     79   \n819519     False      Solo             6            1                     79   \n819518     False      Solo             5            1                     79   \n\n        ... danceability  energy  instrumentalness  liveness  loudness  \\\n804676  ...        0.180   0.369          0.000000    0.1500    -9.797   \n465447  ...        0.370   0.284          0.000000    0.5580   -14.443   \n465446  ...        0.605   0.604          0.000153    0.0693    -9.214   \n377956  ...        0.481   0.652          0.008670    0.0397   -10.981   \n465445  ...        0.534   0.563          0.000001    0.5740    -8.975   \n...     ...          ...     ...               ...       ...       ...   \n677962  ...        0.580   0.480          0.907000    0.1100   -17.467   \n819520  ...        0.434   0.498          0.923000    0.1310   -10.614   \n678026  ...        0.813   0.645          0.826000    0.0773   -10.449   \n819519  ...        0.616   0.443          0.909000    0.0893    -9.730   \n819518  ...        0.707   0.495          0.816000    0.1030    -9.147   \n\n        speechiness  valence    tempo  hit       date  \n804676       0.0299   0.2240   81.701    0 1995-01-01  \n465447       0.0378   0.6490  130.985    0 1995-01-01  \n465446       0.0480   0.5030  145.483    0 1995-01-01  \n377956       0.0364   0.7950  195.791    0 1995-01-01  \n465445       0.0601   0.4140  124.149    0 1995-01-01  \n...             ...      ...      ...  ...        ...  \n677962       0.0317   0.6960  113.312    0 2015-08-19  \n819520       0.0572   0.0688  119.961    0 2015-08-19  \n678026       0.1390   0.4040  120.051    0 2015-08-19  \n819519       0.0504   0.1430  140.022    0 2015-08-19  \n819518       0.0560   0.1040  112.553    0 2015-08-19  \n\n[683270 rows x 26 columns]",
      "text/html": "<div>\n<style scoped>\n    .dataframe tbody tr th:only-of-type {\n        vertical-align: middle;\n    }\n\n    .dataframe tbody tr th {\n        vertical-align: top;\n    }\n\n    .dataframe thead th {\n        text-align: right;\n    }\n</style>\n<table border=\"1\" class=\"dataframe\">\n  <thead>\n    <tr style=\"text-align: right;\">\n      <th></th>\n      <th>song_id</th>\n      <th>song_name</th>\n      <th>id_artists</th>\n      <th>name_artists</th>\n      <th>popularity</th>\n      <th>explicit</th>\n      <th>song_type</th>\n      <th>track_number</th>\n      <th>num_artists</th>\n      <th>num_available_markets</th>\n      <th>...</th>\n      <th>danceability</th>\n      <th>energy</th>\n      <th>instrumentalness</th>\n      <th>liveness</th>\n      <th>loudness</th>\n      <th>speechiness</th>\n      <th>valence</th>\n      <th>tempo</th>\n      <th>hit</th>\n      <th>date</th>\n    </tr>\n  </thead>\n  <tbody>\n    <tr>\n      <th>804676</th>\n      <td>7kXUEJmfvRXbzxOC0pHQgb</td>\n      <td>I Can't Believe I'm Losing You</td>\n      <td>['6eVCRmRG2HcfL4yx77A9WK']</td>\n      <td>['Jack Jones']</td>\n      <td>5</td>\n      <td>False</td>\n      <td>Solo</td>\n      <td>12</td>\n      <td>1</td>\n      <td>79</td>\n      <td>...</td>\n      <td>0.180</td>\n      <td>0.369</td>\n      <td>0.000000</td>\n      <td>0.1500</td>\n      <td>-9.797</td>\n      <td>0.0299</td>\n      <td>0.2240</td>\n      <td>81.701</td>\n      <td>0</td>\n      <td>1995-01-01</td>\n    </tr>\n    <tr>\n      <th>465447</th>\n      <td>1xdRFXv3ytSOdj8GuT3Rge</td>\n      <td>Thank You Lord (Interlude)</td>\n      <td>['5NDMothbpdpq2xHqSjrrWn']</td>\n      <td>['Faith Evans']</td>\n      <td>20</td>\n      <td>False</td>\n      <td>Solo</td>\n      <td>10</td>\n      <td>1</td>\n      <td>77</td>\n      <td>...</td>\n      <td>0.370</td>\n      <td>0.284</td>\n      <td>0.000000</td>\n      <td>0.5580</td>\n      <td>-14.443</td>\n      <td>0.0378</td>\n      <td>0.6490</td>\n      <td>130.985</td>\n      <td>0</td>\n      <td>1995-01-01</td>\n    </tr>\n    <tr>\n      <th>465446</th>\n      <td>5wlQIBbKIWoB7AnSw09C6C</td>\n      <td>All This Love</td>\n      <td>['5NDMothbpdpq2xHqSjrrWn']</td>\n      <td>['Faith Evans']</td>\n      <td>26</td>\n      <td>False</td>\n      <td>Solo</td>\n      <td>9</td>\n      <td>1</td>\n      <td>77</td>\n      <td>...</td>\n      <td>0.605</td>\n      <td>0.604</td>\n      <td>0.000153</td>\n      <td>0.0693</td>\n      <td>-9.214</td>\n      <td>0.0480</td>\n      <td>0.5030</td>\n      <td>145.483</td>\n      <td>0</td>\n      <td>1995-01-01</td>\n    </tr>\n    <tr>\n      <th>377956</th>\n      <td>40uHAEjua1YmyKIJ6k0iVa</td>\n      <td>Bo Bo Wa</td>\n      <td>['3z6Uf5IZkN4TogRpRpgD84']</td>\n      <td>['Gary Wright']</td>\n      <td>0</td>\n      <td>False</td>\n      <td>Solo</td>\n      <td>8</td>\n      <td>1</td>\n      <td>79</td>\n      <td>...</td>\n      <td>0.481</td>\n      <td>0.652</td>\n      <td>0.008670</td>\n      <td>0.0397</td>\n      <td>-10.981</td>\n      <td>0.0364</td>\n      <td>0.7950</td>\n      <td>195.791</td>\n      <td>0</td>\n      <td>1995-01-01</td>\n    </tr>\n    <tr>\n      <th>465445</th>\n      <td>2zmMWWgwCXYarkO2SbyPZP</td>\n      <td>Come Over</td>\n      <td>['5NDMothbpdpq2xHqSjrrWn']</td>\n      <td>['Faith Evans']</td>\n      <td>38</td>\n      <td>False</td>\n      <td>Solo</td>\n      <td>7</td>\n      <td>1</td>\n      <td>77</td>\n      <td>...</td>\n      <td>0.534</td>\n      <td>0.563</td>\n      <td>0.000001</td>\n      <td>0.5740</td>\n      <td>-8.975</td>\n      <td>0.0601</td>\n      <td>0.4140</td>\n      <td>124.149</td>\n      <td>0</td>\n      <td>1995-01-01</td>\n    </tr>\n    <tr>\n      <th>...</th>\n      <td>...</td>\n      <td>...</td>\n      <td>...</td>\n      <td>...</td>\n      <td>...</td>\n      <td>...</td>\n      <td>...</td>\n      <td>...</td>\n      <td>...</td>\n      <td>...</td>\n      <td>...</td>\n      <td>...</td>\n      <td>...</td>\n      <td>...</td>\n      <td>...</td>\n      <td>...</td>\n      <td>...</td>\n      <td>...</td>\n      <td>...</td>\n      <td>...</td>\n      <td>...</td>\n    </tr>\n    <tr>\n      <th>677962</th>\n      <td>45oru9CcsrV3EWBMl1Wflg</td>\n      <td>Angels Moon</td>\n      <td>['7FQ8wLlE6kd6EBtexh0FAD']</td>\n      <td>['Richy Kicklighter']</td>\n      <td>0</td>\n      <td>False</td>\n      <td>Solo</td>\n      <td>6</td>\n      <td>1</td>\n      <td>79</td>\n      <td>...</td>\n      <td>0.580</td>\n      <td>0.480</td>\n      <td>0.907000</td>\n      <td>0.1100</td>\n      <td>-17.467</td>\n      <td>0.0317</td>\n      <td>0.6960</td>\n      <td>113.312</td>\n      <td>0</td>\n      <td>2015-08-19</td>\n    </tr>\n    <tr>\n      <th>819520</th>\n      <td>5AZQNFCdxA3W1nssrtu4Yr</td>\n      <td>能登半島 Originally Performed By 石川さゆり (オルゴール)</td>\n      <td>['3BL7Z4GDZQOEnlETaPYV93']</td>\n      <td>['Orgel Sound J-pop']</td>\n      <td>0</td>\n      <td>False</td>\n      <td>Solo</td>\n      <td>7</td>\n      <td>1</td>\n      <td>79</td>\n      <td>...</td>\n      <td>0.434</td>\n      <td>0.498</td>\n      <td>0.923000</td>\n      <td>0.1310</td>\n      <td>-10.614</td>\n      <td>0.0572</td>\n      <td>0.0688</td>\n      <td>119.961</td>\n      <td>0</td>\n      <td>2015-08-19</td>\n    </tr>\n    <tr>\n      <th>678026</th>\n      <td>0gvKPCmhJzXa4YgptrNvI4</td>\n      <td>Up the Hill</td>\n      <td>['3FRfnhYD8uu3k8Dml7C7Wy']</td>\n      <td>['Jason Meeks']</td>\n      <td>0</td>\n      <td>False</td>\n      <td>Solo</td>\n      <td>30</td>\n      <td>1</td>\n      <td>79</td>\n      <td>...</td>\n      <td>0.813</td>\n      <td>0.645</td>\n      <td>0.826000</td>\n      <td>0.0773</td>\n      <td>-10.449</td>\n      <td>0.1390</td>\n      <td>0.4040</td>\n      <td>120.051</td>\n      <td>0</td>\n      <td>2015-08-19</td>\n    </tr>\n    <tr>\n      <th>819519</th>\n      <td>5FDxZkCXwOOO0CQP3zQUBL</td>\n      <td>浪花恋しぐれ Originally Performed By 都はるみ・岡千秋 (オルゴール)</td>\n      <td>['3BL7Z4GDZQOEnlETaPYV93']</td>\n      <td>['Orgel Sound J-pop']</td>\n      <td>0</td>\n      <td>False</td>\n      <td>Solo</td>\n      <td>6</td>\n      <td>1</td>\n      <td>79</td>\n      <td>...</td>\n      <td>0.616</td>\n      <td>0.443</td>\n      <td>0.909000</td>\n      <td>0.0893</td>\n      <td>-9.730</td>\n      <td>0.0504</td>\n      <td>0.1430</td>\n      <td>140.022</td>\n      <td>0</td>\n      <td>2015-08-19</td>\n    </tr>\n    <tr>\n      <th>819518</th>\n      <td>3m3CVlgUzXQaFkXdMPV3nI</td>\n      <td>バス・ストップ Originally Performed By 平浩二 (オルゴール)</td>\n      <td>['3BL7Z4GDZQOEnlETaPYV93']</td>\n      <td>['Orgel Sound J-pop']</td>\n      <td>1</td>\n      <td>False</td>\n      <td>Solo</td>\n      <td>5</td>\n      <td>1</td>\n      <td>79</td>\n      <td>...</td>\n      <td>0.707</td>\n      <td>0.495</td>\n      <td>0.816000</td>\n      <td>0.1030</td>\n      <td>-9.147</td>\n      <td>0.0560</td>\n      <td>0.1040</td>\n      <td>112.553</td>\n      <td>0</td>\n      <td>2015-08-19</td>\n    </tr>\n  </tbody>\n</table>\n<p>683270 rows × 26 columns</p>\n</div>"
     },
     "execution_count": 23,
     "metadata": {},
     "output_type": "execute_result"
    }
   ],
   "source": [
    "train_df"
   ],
   "metadata": {
    "collapsed": false,
    "ExecuteTime": {
     "end_time": "2024-04-12T08:49:40.880042600Z",
     "start_time": "2024-04-12T08:49:40.502040400Z"
    }
   },
   "id": "b1de9789d17182a"
  },
  {
   "cell_type": "code",
   "execution_count": 24,
   "outputs": [
    {
     "data": {
      "text/plain": "                       song_id  \\\n677960  0KkzGvp8twn623wysKZ4Th   \n677959  6LYpAOMzSqyB2y2mNmqy5E   \n819517  6EU7nvOyg2O8ld7UAKii7R   \n677958  32bnbgvJ8FevA9rT2FxGAO   \n677957  7aMr9p35GaCmdWBmqbpfMa   \n...                        ...   \n11098   0xAqhyWvTkfcdFgm7dozMO   \n10903   6zhg8TnVKi90ITDzFKwPr0   \n5856    2GvkFSjRXV0Ii3uYnHiQ74   \n5080    0lej8CemYKkWVHg77Xe1ky   \n10666   6Fh2QgjCxL96dA3Gtpfr4Q   \n\n                                                song_name  \\\n677960                                  Return to Ipanema   \n677959                                    Foreign Feeling   \n819517    どうにもとまらない Originally Performed By 山本リンダ (オルゴール)   \n677958                                               Wave   \n677957                                       Silver Samba   \n...                                                   ...   \n11098             (I Wanna) Testify (Mono Single Version)   \n10903                       Swingtown - Alternate Version   \n5856                                       Take My Advice   \n5080             A Man Holdin' on (To a Woman Lettin’ Go)   \n10666   One Sweet Day (16-Bit Mariah Carey & Boyz II M...   \n\n                                               id_artists  \\\n677960                         ['5gLIbkXGeoJh0bzeEmvG2n']   \n677959                         ['1N477jyVWGcvVoRnvOePue']   \n819517                         ['3BL7Z4GDZQOEnlETaPYV93']   \n677958                         ['3OpJxAHfT0KsJzQqdX5SLb']   \n677957                         ['59n7uqUFv9tprlcVU9CoXL']   \n...                                                   ...   \n11098                          ['1Ve5PoI7i5jIIP1xudo6AB']   \n10903                          ['6QtGlUje9TIkLrgPZrESuk']   \n5856                           ['40PLSl99xXqAQsCQQPmfyM']   \n5080    ['1Fj0R2t4HaJa3oUe8azB8R', '5LDnSV99gbDSsMX3Dc...   \n10666                          ['1v4YnufenjE9BLAfP90qvt']   \n\n                           name_artists  popularity  explicit      song_type  \\\n677960                   ['Underwater']           0     False           Solo   \n677959             ['Gustavo Coutinho']           0     False           Solo   \n819517            ['Orgel Sound J-pop']           0     False           Solo   \n677958                 ['Ginger Tunes']           1     False           Solo   \n677957            ['Jive Ass Sleepers']           0     False           Solo   \n...                                 ...         ...       ...            ...   \n11098               ['The Parliaments']           7     False           Solo   \n10903             ['Steve Miller Band']          26     False           Solo   \n5856                       ['Kym Sims']           0     False           Solo   \n5080    ['Ty Herndon', 'Anita Cochran']          14     False  Collaboration   \n10666                 ['Arcade Player']           0     False           Solo   \n\n        track_number  num_artists  num_available_markets  ... danceability  \\\n677960             4            1                     79  ...        0.760   \n677959             3            1                     79  ...        0.430   \n819517             4            1                     79  ...        0.595   \n677958             2            1                     79  ...        0.668   \n677957             1            1                     79  ...        0.692   \n...              ...          ...                    ...  ...          ...   \n11098             10            1                     79  ...        0.668   \n10903              5            1                     79  ...        0.459   \n5856              10            1                     73  ...        0.737   \n5080               7            2                     79  ...        0.611   \n10666             27            1                     79  ...        0.395   \n\n        energy  instrumentalness  liveness  loudness  speechiness  valence  \\\n677960   0.179          0.783000    0.1040   -21.624       0.0500   0.5980   \n677959   0.274          0.786000    0.0887   -19.042       0.0307   0.2330   \n819517   0.594          0.919000    0.0993    -8.746       0.0551   0.1740   \n677958   0.414          0.902000    0.1120   -10.019       0.0361   0.0399   \n677957   0.487          0.070900    0.0860   -13.882       0.0324   0.7140   \n...        ...               ...       ...       ...          ...      ...   \n11098    0.702          0.000000    0.0521    -5.750       0.0330   0.7540   \n10903    0.764          0.000544    0.2440    -6.662       0.0354   0.4390   \n5856     0.814          0.392000    0.0844   -10.396       0.0307   0.8030   \n5080     0.429          0.000014    0.1120    -8.619       0.0298   0.2370   \n10666    0.405          0.745000    0.1100    -5.559       0.0393   0.3130   \n\n          tempo  hit       date  \n677960  138.898    0 2015-08-19  \n677959  140.009    0 2015-08-19  \n819517  111.978    0 2015-08-19  \n677958  121.084    0 2015-08-19  \n677957  109.978    0 2015-08-19  \n...         ...  ...        ...  \n11098   105.227    1 2019-08-23  \n10903   124.557    1 2019-08-23  \n5856    120.010    1 2019-08-23  \n5080    128.007    1 2019-08-23  \n10666   194.933    1 2019-08-26  \n\n[227757 rows x 26 columns]",
      "text/html": "<div>\n<style scoped>\n    .dataframe tbody tr th:only-of-type {\n        vertical-align: middle;\n    }\n\n    .dataframe tbody tr th {\n        vertical-align: top;\n    }\n\n    .dataframe thead th {\n        text-align: right;\n    }\n</style>\n<table border=\"1\" class=\"dataframe\">\n  <thead>\n    <tr style=\"text-align: right;\">\n      <th></th>\n      <th>song_id</th>\n      <th>song_name</th>\n      <th>id_artists</th>\n      <th>name_artists</th>\n      <th>popularity</th>\n      <th>explicit</th>\n      <th>song_type</th>\n      <th>track_number</th>\n      <th>num_artists</th>\n      <th>num_available_markets</th>\n      <th>...</th>\n      <th>danceability</th>\n      <th>energy</th>\n      <th>instrumentalness</th>\n      <th>liveness</th>\n      <th>loudness</th>\n      <th>speechiness</th>\n      <th>valence</th>\n      <th>tempo</th>\n      <th>hit</th>\n      <th>date</th>\n    </tr>\n  </thead>\n  <tbody>\n    <tr>\n      <th>677960</th>\n      <td>0KkzGvp8twn623wysKZ4Th</td>\n      <td>Return to Ipanema</td>\n      <td>['5gLIbkXGeoJh0bzeEmvG2n']</td>\n      <td>['Underwater']</td>\n      <td>0</td>\n      <td>False</td>\n      <td>Solo</td>\n      <td>4</td>\n      <td>1</td>\n      <td>79</td>\n      <td>...</td>\n      <td>0.760</td>\n      <td>0.179</td>\n      <td>0.783000</td>\n      <td>0.1040</td>\n      <td>-21.624</td>\n      <td>0.0500</td>\n      <td>0.5980</td>\n      <td>138.898</td>\n      <td>0</td>\n      <td>2015-08-19</td>\n    </tr>\n    <tr>\n      <th>677959</th>\n      <td>6LYpAOMzSqyB2y2mNmqy5E</td>\n      <td>Foreign Feeling</td>\n      <td>['1N477jyVWGcvVoRnvOePue']</td>\n      <td>['Gustavo Coutinho']</td>\n      <td>0</td>\n      <td>False</td>\n      <td>Solo</td>\n      <td>3</td>\n      <td>1</td>\n      <td>79</td>\n      <td>...</td>\n      <td>0.430</td>\n      <td>0.274</td>\n      <td>0.786000</td>\n      <td>0.0887</td>\n      <td>-19.042</td>\n      <td>0.0307</td>\n      <td>0.2330</td>\n      <td>140.009</td>\n      <td>0</td>\n      <td>2015-08-19</td>\n    </tr>\n    <tr>\n      <th>819517</th>\n      <td>6EU7nvOyg2O8ld7UAKii7R</td>\n      <td>どうにもとまらない Originally Performed By 山本リンダ (オルゴール)</td>\n      <td>['3BL7Z4GDZQOEnlETaPYV93']</td>\n      <td>['Orgel Sound J-pop']</td>\n      <td>0</td>\n      <td>False</td>\n      <td>Solo</td>\n      <td>4</td>\n      <td>1</td>\n      <td>79</td>\n      <td>...</td>\n      <td>0.595</td>\n      <td>0.594</td>\n      <td>0.919000</td>\n      <td>0.0993</td>\n      <td>-8.746</td>\n      <td>0.0551</td>\n      <td>0.1740</td>\n      <td>111.978</td>\n      <td>0</td>\n      <td>2015-08-19</td>\n    </tr>\n    <tr>\n      <th>677958</th>\n      <td>32bnbgvJ8FevA9rT2FxGAO</td>\n      <td>Wave</td>\n      <td>['3OpJxAHfT0KsJzQqdX5SLb']</td>\n      <td>['Ginger Tunes']</td>\n      <td>1</td>\n      <td>False</td>\n      <td>Solo</td>\n      <td>2</td>\n      <td>1</td>\n      <td>79</td>\n      <td>...</td>\n      <td>0.668</td>\n      <td>0.414</td>\n      <td>0.902000</td>\n      <td>0.1120</td>\n      <td>-10.019</td>\n      <td>0.0361</td>\n      <td>0.0399</td>\n      <td>121.084</td>\n      <td>0</td>\n      <td>2015-08-19</td>\n    </tr>\n    <tr>\n      <th>677957</th>\n      <td>7aMr9p35GaCmdWBmqbpfMa</td>\n      <td>Silver Samba</td>\n      <td>['59n7uqUFv9tprlcVU9CoXL']</td>\n      <td>['Jive Ass Sleepers']</td>\n      <td>0</td>\n      <td>False</td>\n      <td>Solo</td>\n      <td>1</td>\n      <td>1</td>\n      <td>79</td>\n      <td>...</td>\n      <td>0.692</td>\n      <td>0.487</td>\n      <td>0.070900</td>\n      <td>0.0860</td>\n      <td>-13.882</td>\n      <td>0.0324</td>\n      <td>0.7140</td>\n      <td>109.978</td>\n      <td>0</td>\n      <td>2015-08-19</td>\n    </tr>\n    <tr>\n      <th>...</th>\n      <td>...</td>\n      <td>...</td>\n      <td>...</td>\n      <td>...</td>\n      <td>...</td>\n      <td>...</td>\n      <td>...</td>\n      <td>...</td>\n      <td>...</td>\n      <td>...</td>\n      <td>...</td>\n      <td>...</td>\n      <td>...</td>\n      <td>...</td>\n      <td>...</td>\n      <td>...</td>\n      <td>...</td>\n      <td>...</td>\n      <td>...</td>\n      <td>...</td>\n      <td>...</td>\n    </tr>\n    <tr>\n      <th>11098</th>\n      <td>0xAqhyWvTkfcdFgm7dozMO</td>\n      <td>(I Wanna) Testify (Mono Single Version)</td>\n      <td>['1Ve5PoI7i5jIIP1xudo6AB']</td>\n      <td>['The Parliaments']</td>\n      <td>7</td>\n      <td>False</td>\n      <td>Solo</td>\n      <td>10</td>\n      <td>1</td>\n      <td>79</td>\n      <td>...</td>\n      <td>0.668</td>\n      <td>0.702</td>\n      <td>0.000000</td>\n      <td>0.0521</td>\n      <td>-5.750</td>\n      <td>0.0330</td>\n      <td>0.7540</td>\n      <td>105.227</td>\n      <td>1</td>\n      <td>2019-08-23</td>\n    </tr>\n    <tr>\n      <th>10903</th>\n      <td>6zhg8TnVKi90ITDzFKwPr0</td>\n      <td>Swingtown - Alternate Version</td>\n      <td>['6QtGlUje9TIkLrgPZrESuk']</td>\n      <td>['Steve Miller Band']</td>\n      <td>26</td>\n      <td>False</td>\n      <td>Solo</td>\n      <td>5</td>\n      <td>1</td>\n      <td>79</td>\n      <td>...</td>\n      <td>0.459</td>\n      <td>0.764</td>\n      <td>0.000544</td>\n      <td>0.2440</td>\n      <td>-6.662</td>\n      <td>0.0354</td>\n      <td>0.4390</td>\n      <td>124.557</td>\n      <td>1</td>\n      <td>2019-08-23</td>\n    </tr>\n    <tr>\n      <th>5856</th>\n      <td>2GvkFSjRXV0Ii3uYnHiQ74</td>\n      <td>Take My Advice</td>\n      <td>['40PLSl99xXqAQsCQQPmfyM']</td>\n      <td>['Kym Sims']</td>\n      <td>0</td>\n      <td>False</td>\n      <td>Solo</td>\n      <td>10</td>\n      <td>1</td>\n      <td>73</td>\n      <td>...</td>\n      <td>0.737</td>\n      <td>0.814</td>\n      <td>0.392000</td>\n      <td>0.0844</td>\n      <td>-10.396</td>\n      <td>0.0307</td>\n      <td>0.8030</td>\n      <td>120.010</td>\n      <td>1</td>\n      <td>2019-08-23</td>\n    </tr>\n    <tr>\n      <th>5080</th>\n      <td>0lej8CemYKkWVHg77Xe1ky</td>\n      <td>A Man Holdin' on (To a Woman Lettin’ Go)</td>\n      <td>['1Fj0R2t4HaJa3oUe8azB8R', '5LDnSV99gbDSsMX3Dc...</td>\n      <td>['Ty Herndon', 'Anita Cochran']</td>\n      <td>14</td>\n      <td>False</td>\n      <td>Collaboration</td>\n      <td>7</td>\n      <td>2</td>\n      <td>79</td>\n      <td>...</td>\n      <td>0.611</td>\n      <td>0.429</td>\n      <td>0.000014</td>\n      <td>0.1120</td>\n      <td>-8.619</td>\n      <td>0.0298</td>\n      <td>0.2370</td>\n      <td>128.007</td>\n      <td>1</td>\n      <td>2019-08-23</td>\n    </tr>\n    <tr>\n      <th>10666</th>\n      <td>6Fh2QgjCxL96dA3Gtpfr4Q</td>\n      <td>One Sweet Day (16-Bit Mariah Carey &amp; Boyz II M...</td>\n      <td>['1v4YnufenjE9BLAfP90qvt']</td>\n      <td>['Arcade Player']</td>\n      <td>0</td>\n      <td>False</td>\n      <td>Solo</td>\n      <td>27</td>\n      <td>1</td>\n      <td>79</td>\n      <td>...</td>\n      <td>0.395</td>\n      <td>0.405</td>\n      <td>0.745000</td>\n      <td>0.1100</td>\n      <td>-5.559</td>\n      <td>0.0393</td>\n      <td>0.3130</td>\n      <td>194.933</td>\n      <td>1</td>\n      <td>2019-08-26</td>\n    </tr>\n  </tbody>\n</table>\n<p>227757 rows × 26 columns</p>\n</div>"
     },
     "execution_count": 24,
     "metadata": {},
     "output_type": "execute_result"
    }
   ],
   "source": [
    "test_df"
   ],
   "metadata": {
    "collapsed": false,
    "ExecuteTime": {
     "end_time": "2024-04-12T08:49:41.073039100Z",
     "start_time": "2024-04-12T08:49:40.879039Z"
    }
   },
   "id": "4aa2a74a75195a81"
  }
 ],
 "metadata": {
  "kernelspec": {
   "display_name": "Python 3",
   "language": "python",
   "name": "python3"
  },
  "language_info": {
   "codemirror_mode": {
    "name": "ipython",
    "version": 2
   },
   "file_extension": ".py",
   "mimetype": "text/x-python",
   "name": "python",
   "nbconvert_exporter": "python",
   "pygments_lexer": "ipython2",
   "version": "2.7.6"
  }
 },
 "nbformat": 4,
 "nbformat_minor": 5
}
