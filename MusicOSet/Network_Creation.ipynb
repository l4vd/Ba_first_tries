{
 "cells": [
  {
   "cell_type": "code",
   "execution_count": 1,
   "id": "initial_id",
   "metadata": {
    "collapsed": true,
    "ExecuteTime": {
     "end_time": "2024-04-22T12:04:11.964608200Z",
     "start_time": "2024-04-22T12:04:11.872608900Z"
    }
   },
   "outputs": [
    {
     "data": {
      "text/plain": "                      song_id  \\\n0      3e9HZxeyfWwjeyPAMmWSSQ   \n1      5p7ujcrUXASCNwRaWNHR1C   \n2      2xLMifQCjDGFmkHkpNLD9h   \n3      3KkXRkHbMCARz0aVfEt68P   \n4      1rqqCSm0Qe4I9rUvWncaom   \n...                       ...   \n11954  5mz9pQZZXNpAw9CdQ7Bk8q   \n11955  2H9CKpZiLDF223BbwehpDF   \n11956  7zqM7Wm2xJLZ50qAnTLoHD   \n11957  4DPlKVZ6R1EHLfnIsy9ouh   \n11958  6RUa3ZwZYnJnNgZxtIYJR9   \n\n                                               song_name  \\\n0                                          thank u, next   \n1                                             Without Me   \n2                                             SICKO MODE   \n3          Sunflower - Spider-Man: Into the Spider-Verse   \n4                                             High Hopes   \n...                                                  ...   \n11954                Don't Pity Me - Mono; 2003 Remaster   \n11955                        Hush Hush; Hush Hush - Main   \n11956                              Lions, Tigers & Bears   \n11957                                         The Weight   \n11958  Purest of Pain (A Puro Dolor) - Martinee's Rad...   \n\n                                              id_artists  \\\n0                             ['66CXWjxzNUsdJxJ2JdwvnR']   \n1                             ['26VFTg2z8YR0cCuwLzESi2']   \n2                             ['0Y5tJX1MQlPlqiwlOH1tJY']   \n3      ['246dkjvS1zLTtiykXe5h60', '1zNqQNIdeOUZHb8zbZ...   \n4                             ['20JZFwl6HVl6yg8a4H3ZqK']   \n...                                                  ...   \n11954                         ['6lHC2EQMEMZiEmSfFloarn']   \n11955                         ['6wPhSqRtPu1UhRCDX5yaDJ']   \n11956                         ['7gSjFKpVmDgC2MMsnN8CYq']   \n11957  ['0rXI0q8Cahq6numvPlloaq', '3RwQ26hR2tJtA8F9p2...   \n11958  ['1qyAl8T6GTcaOViaI7fs1j', '7AOI1S3Uy411dDhNTd...   \n\n                                           name_artists  popularity  explicit  \\\n0                                     ['Ariana Grande']          87      True   \n1                                            ['Halsey']          87      True   \n2                                      ['Travis Scott']          86      True   \n3                           ['Post Malone', 'Swae Lee']          92     False   \n4                               ['Panic! At The Disco']          86     False   \n...                                                 ...         ...       ...   \n11954                              ['Peter And Gordon']           8     False   \n11955                            ['The Pussycat Dolls']          57     False   \n11956                              ['Jazmine Sullivan']          49     False   \n11957  ['Diana Ross & The Supremes', 'The Temptations']           2     False   \n11958                 ['Son By Four', 'Lewis Martinee']          10     False   \n\n           song_type  track_number  num_artists  num_available_markets  ...  \\\n0               Solo            11            1                     79  ...   \n1               Solo             1            1                     79  ...   \n2               Solo             3            1                     79  ...   \n3      Collaboration             2            2                     79  ...   \n4               Solo             4            1                     78  ...   \n...              ...           ...          ...                    ...  ...   \n11954           Solo             1            1                     78  ...   \n11955           Solo             1            1                     59  ...   \n11956           Solo             4            1                     71  ...   \n11957  Collaboration            23            2                     79  ...   \n11958  Collaboration             1            2                     79  ...   \n\n      acousticness  danceability  energy  instrumentalness  liveness  \\\n0          0.22900         0.717   0.653          0.000000    0.1010   \n1          0.29700         0.752   0.488          0.000009    0.0936   \n2          0.00513         0.834   0.730          0.000000    0.1240   \n3          0.55600         0.760   0.479          0.000000    0.0703   \n4          0.19300         0.579   0.904          0.000000    0.0640   \n...            ...           ...     ...               ...       ...   \n11954      0.61900         0.500   0.654          0.000000    0.3320   \n11955      0.10500         0.609   0.790          0.000000    0.3140   \n11956      0.07880         0.576   0.515          0.000000    0.1180   \n11957      0.37000         0.566   0.607          0.000000    0.6710   \n11958      0.45000         0.593   0.939          0.000013    0.1090   \n\n       loudness  speechiness  valence    tempo  hit  \n0        -5.634       0.0658    0.412  106.966    1  \n1        -7.050       0.0705    0.533  136.041    1  \n2        -3.714       0.2220    0.446  155.008    1  \n3        -5.574       0.0466    0.913   89.911    1  \n4        -2.729       0.0618    0.681   82.014    1  \n...         ...          ...      ...      ...  ...  \n11954    -8.633       0.0394    0.403  107.326    1  \n11955    -3.787       0.0663    0.664  129.334    1  \n11956    -6.178       0.0295    0.407   95.406    1  \n11957    -7.532       0.0357    0.765   91.378    1  \n11958    -3.431       0.0616    0.743  134.108    1  \n\n[11959 rows x 25 columns]",
      "text/html": "<div>\n<style scoped>\n    .dataframe tbody tr th:only-of-type {\n        vertical-align: middle;\n    }\n\n    .dataframe tbody tr th {\n        vertical-align: top;\n    }\n\n    .dataframe thead th {\n        text-align: right;\n    }\n</style>\n<table border=\"1\" class=\"dataframe\">\n  <thead>\n    <tr style=\"text-align: right;\">\n      <th></th>\n      <th>song_id</th>\n      <th>song_name</th>\n      <th>id_artists</th>\n      <th>name_artists</th>\n      <th>popularity</th>\n      <th>explicit</th>\n      <th>song_type</th>\n      <th>track_number</th>\n      <th>num_artists</th>\n      <th>num_available_markets</th>\n      <th>...</th>\n      <th>acousticness</th>\n      <th>danceability</th>\n      <th>energy</th>\n      <th>instrumentalness</th>\n      <th>liveness</th>\n      <th>loudness</th>\n      <th>speechiness</th>\n      <th>valence</th>\n      <th>tempo</th>\n      <th>hit</th>\n    </tr>\n  </thead>\n  <tbody>\n    <tr>\n      <th>0</th>\n      <td>3e9HZxeyfWwjeyPAMmWSSQ</td>\n      <td>thank u, next</td>\n      <td>['66CXWjxzNUsdJxJ2JdwvnR']</td>\n      <td>['Ariana Grande']</td>\n      <td>87</td>\n      <td>True</td>\n      <td>Solo</td>\n      <td>11</td>\n      <td>1</td>\n      <td>79</td>\n      <td>...</td>\n      <td>0.22900</td>\n      <td>0.717</td>\n      <td>0.653</td>\n      <td>0.000000</td>\n      <td>0.1010</td>\n      <td>-5.634</td>\n      <td>0.0658</td>\n      <td>0.412</td>\n      <td>106.966</td>\n      <td>1</td>\n    </tr>\n    <tr>\n      <th>1</th>\n      <td>5p7ujcrUXASCNwRaWNHR1C</td>\n      <td>Without Me</td>\n      <td>['26VFTg2z8YR0cCuwLzESi2']</td>\n      <td>['Halsey']</td>\n      <td>87</td>\n      <td>True</td>\n      <td>Solo</td>\n      <td>1</td>\n      <td>1</td>\n      <td>79</td>\n      <td>...</td>\n      <td>0.29700</td>\n      <td>0.752</td>\n      <td>0.488</td>\n      <td>0.000009</td>\n      <td>0.0936</td>\n      <td>-7.050</td>\n      <td>0.0705</td>\n      <td>0.533</td>\n      <td>136.041</td>\n      <td>1</td>\n    </tr>\n    <tr>\n      <th>2</th>\n      <td>2xLMifQCjDGFmkHkpNLD9h</td>\n      <td>SICKO MODE</td>\n      <td>['0Y5tJX1MQlPlqiwlOH1tJY']</td>\n      <td>['Travis Scott']</td>\n      <td>86</td>\n      <td>True</td>\n      <td>Solo</td>\n      <td>3</td>\n      <td>1</td>\n      <td>79</td>\n      <td>...</td>\n      <td>0.00513</td>\n      <td>0.834</td>\n      <td>0.730</td>\n      <td>0.000000</td>\n      <td>0.1240</td>\n      <td>-3.714</td>\n      <td>0.2220</td>\n      <td>0.446</td>\n      <td>155.008</td>\n      <td>1</td>\n    </tr>\n    <tr>\n      <th>3</th>\n      <td>3KkXRkHbMCARz0aVfEt68P</td>\n      <td>Sunflower - Spider-Man: Into the Spider-Verse</td>\n      <td>['246dkjvS1zLTtiykXe5h60', '1zNqQNIdeOUZHb8zbZ...</td>\n      <td>['Post Malone', 'Swae Lee']</td>\n      <td>92</td>\n      <td>False</td>\n      <td>Collaboration</td>\n      <td>2</td>\n      <td>2</td>\n      <td>79</td>\n      <td>...</td>\n      <td>0.55600</td>\n      <td>0.760</td>\n      <td>0.479</td>\n      <td>0.000000</td>\n      <td>0.0703</td>\n      <td>-5.574</td>\n      <td>0.0466</td>\n      <td>0.913</td>\n      <td>89.911</td>\n      <td>1</td>\n    </tr>\n    <tr>\n      <th>4</th>\n      <td>1rqqCSm0Qe4I9rUvWncaom</td>\n      <td>High Hopes</td>\n      <td>['20JZFwl6HVl6yg8a4H3ZqK']</td>\n      <td>['Panic! At The Disco']</td>\n      <td>86</td>\n      <td>False</td>\n      <td>Solo</td>\n      <td>4</td>\n      <td>1</td>\n      <td>78</td>\n      <td>...</td>\n      <td>0.19300</td>\n      <td>0.579</td>\n      <td>0.904</td>\n      <td>0.000000</td>\n      <td>0.0640</td>\n      <td>-2.729</td>\n      <td>0.0618</td>\n      <td>0.681</td>\n      <td>82.014</td>\n      <td>1</td>\n    </tr>\n    <tr>\n      <th>...</th>\n      <td>...</td>\n      <td>...</td>\n      <td>...</td>\n      <td>...</td>\n      <td>...</td>\n      <td>...</td>\n      <td>...</td>\n      <td>...</td>\n      <td>...</td>\n      <td>...</td>\n      <td>...</td>\n      <td>...</td>\n      <td>...</td>\n      <td>...</td>\n      <td>...</td>\n      <td>...</td>\n      <td>...</td>\n      <td>...</td>\n      <td>...</td>\n      <td>...</td>\n      <td>...</td>\n    </tr>\n    <tr>\n      <th>11954</th>\n      <td>5mz9pQZZXNpAw9CdQ7Bk8q</td>\n      <td>Don't Pity Me - Mono; 2003 Remaster</td>\n      <td>['6lHC2EQMEMZiEmSfFloarn']</td>\n      <td>['Peter And Gordon']</td>\n      <td>8</td>\n      <td>False</td>\n      <td>Solo</td>\n      <td>1</td>\n      <td>1</td>\n      <td>78</td>\n      <td>...</td>\n      <td>0.61900</td>\n      <td>0.500</td>\n      <td>0.654</td>\n      <td>0.000000</td>\n      <td>0.3320</td>\n      <td>-8.633</td>\n      <td>0.0394</td>\n      <td>0.403</td>\n      <td>107.326</td>\n      <td>1</td>\n    </tr>\n    <tr>\n      <th>11955</th>\n      <td>2H9CKpZiLDF223BbwehpDF</td>\n      <td>Hush Hush; Hush Hush - Main</td>\n      <td>['6wPhSqRtPu1UhRCDX5yaDJ']</td>\n      <td>['The Pussycat Dolls']</td>\n      <td>57</td>\n      <td>False</td>\n      <td>Solo</td>\n      <td>1</td>\n      <td>1</td>\n      <td>59</td>\n      <td>...</td>\n      <td>0.10500</td>\n      <td>0.609</td>\n      <td>0.790</td>\n      <td>0.000000</td>\n      <td>0.3140</td>\n      <td>-3.787</td>\n      <td>0.0663</td>\n      <td>0.664</td>\n      <td>129.334</td>\n      <td>1</td>\n    </tr>\n    <tr>\n      <th>11956</th>\n      <td>7zqM7Wm2xJLZ50qAnTLoHD</td>\n      <td>Lions, Tigers &amp; Bears</td>\n      <td>['7gSjFKpVmDgC2MMsnN8CYq']</td>\n      <td>['Jazmine Sullivan']</td>\n      <td>49</td>\n      <td>False</td>\n      <td>Solo</td>\n      <td>4</td>\n      <td>1</td>\n      <td>71</td>\n      <td>...</td>\n      <td>0.07880</td>\n      <td>0.576</td>\n      <td>0.515</td>\n      <td>0.000000</td>\n      <td>0.1180</td>\n      <td>-6.178</td>\n      <td>0.0295</td>\n      <td>0.407</td>\n      <td>95.406</td>\n      <td>1</td>\n    </tr>\n    <tr>\n      <th>11957</th>\n      <td>4DPlKVZ6R1EHLfnIsy9ouh</td>\n      <td>The Weight</td>\n      <td>['0rXI0q8Cahq6numvPlloaq', '3RwQ26hR2tJtA8F9p2...</td>\n      <td>['Diana Ross &amp; The Supremes', 'The Temptations']</td>\n      <td>2</td>\n      <td>False</td>\n      <td>Collaboration</td>\n      <td>23</td>\n      <td>2</td>\n      <td>79</td>\n      <td>...</td>\n      <td>0.37000</td>\n      <td>0.566</td>\n      <td>0.607</td>\n      <td>0.000000</td>\n      <td>0.6710</td>\n      <td>-7.532</td>\n      <td>0.0357</td>\n      <td>0.765</td>\n      <td>91.378</td>\n      <td>1</td>\n    </tr>\n    <tr>\n      <th>11958</th>\n      <td>6RUa3ZwZYnJnNgZxtIYJR9</td>\n      <td>Purest of Pain (A Puro Dolor) - Martinee's Rad...</td>\n      <td>['1qyAl8T6GTcaOViaI7fs1j', '7AOI1S3Uy411dDhNTd...</td>\n      <td>['Son By Four', 'Lewis Martinee']</td>\n      <td>10</td>\n      <td>False</td>\n      <td>Collaboration</td>\n      <td>1</td>\n      <td>2</td>\n      <td>79</td>\n      <td>...</td>\n      <td>0.45000</td>\n      <td>0.593</td>\n      <td>0.939</td>\n      <td>0.000013</td>\n      <td>0.1090</td>\n      <td>-3.431</td>\n      <td>0.0616</td>\n      <td>0.743</td>\n      <td>134.108</td>\n      <td>1</td>\n    </tr>\n  </tbody>\n</table>\n<p>11959 rows × 25 columns</p>\n</div>"
     },
     "execution_count": 1,
     "metadata": {},
     "output_type": "execute_result"
    }
   ],
   "source": [
    "import pandas as pd\n",
    "import matplotlib.pyplot as plt\n",
    "\n",
    "df_hits = pd.read_csv(\"additional/hits_dataset.csv\", delimiter=\"\\t\")\n",
    "df_hits[\"hit\"] = 1\n",
    "df_hits"
   ]
  },
  {
   "cell_type": "code",
   "execution_count": 2,
   "outputs": [
    {
     "name": "stderr",
     "output_type": "stream",
     "text": [
      "C:\\Users\\lasse\\AppData\\Local\\Temp\\ipykernel_10824\\2533836516.py:1: DtypeWarning: Columns (11,12,13,14,15,16,17,18,19,20,21,22,23) have mixed types. Specify dtype option on import or set low_memory=False.\n",
      "  df_nonhits = pd.read_csv(\"additional/nonhits_dataset.csv\", delimiter=\"\\t\")\n"
     ]
    },
    {
     "data": {
      "text/plain": "                       song_id  \\\n0       1TEL6MlSSVLSdhOSddidlJ   \n1       4uTvPEr01pjTbZgl7jcKBD   \n2       2hloaUoRonYssMuqLCBLTX   \n3       3wFLWP0FcIqHK1wb1CPthQ   \n4       5Il6Oe7lr5XM7A0cWbVQtr   \n...                        ...   \n899063  2tP0ryZParpdjvxubgXhTN   \n899064  7Ltni80U0w7bmYjXPNzSEa   \n899065  1gQClXN1Dq4rj0wBzddcNA   \n899066  2jhxQrFNdVPkWL28X7ZpeK   \n899067  6KkbkpUObAqcKGEfvguHJO   \n\n                                               song_name  \\\n0                                                  needy   \n1                                                   NASA   \n2                                              bloodline   \n3                                             fake smile   \n4                                               bad idea   \n...                                                  ...   \n899063                              Love Is Here to Stay   \n899064                                 Heinlein's Planet   \n899065     Beds are Burning - Karaoke Lead Vocal Version   \n899066  Un homme heureux - Version karaoké instrumentale   \n899067                     Santa Claus Is Coming to Town   \n\n                                               id_artists  \\\n0                              ['66CXWjxzNUsdJxJ2JdwvnR']   \n1                              ['66CXWjxzNUsdJxJ2JdwvnR']   \n2                              ['66CXWjxzNUsdJxJ2JdwvnR']   \n3                              ['66CXWjxzNUsdJxJ2JdwvnR']   \n4                              ['66CXWjxzNUsdJxJ2JdwvnR']   \n...                                                   ...   \n899063  ['3Dzj993UEz8Z5ovxuirzFO', '6RCsx4p5smZHYz2P5H...   \n899064                         ['4urvwbid7NFoVes5PTx9lV']   \n899065                         ['7yv4DJOCmilSbxxsdQgXWk']   \n899066                         ['7yv4DJOCmilSbxxsdQgXWk']   \n899067                         ['7tdO7d7r0vhwov7RIZWH6V']   \n\n                                     name_artists  popularity  explicit  \\\n0                               ['Ariana Grande']          76      True   \n1                               ['Ariana Grande']          76     False   \n2                               ['Ariana Grande']          74      True   \n3                               ['Ariana Grande']          73      True   \n4                               ['Ariana Grande']          74     False   \n...                                           ...         ...       ...   \n899063  ['Lindsey Buckingham', 'Christine McVie']          16     False   \n899064                             ['Tony Carey']           0     False   \n899065                             ['Pictomusic']           0     False   \n899066                             ['Pictomusic']           0     False   \n899067                            ['Mitch Ryder']           0     False   \n\n            song_type  track_number  num_artists  num_available_markets  ...  \\\n0                Solo             2            1                     79  ...   \n1                Solo             3            1                     79  ...   \n2                Solo             4            1                     79  ...   \n3                Solo             5            1                     79  ...   \n4                Solo             6            1                     79  ...   \n...               ...           ...          ...                    ...  ...   \n899063  Collaboration             5            2                      1  ...   \n899064           Solo             5            1                     79  ...   \n899065           Solo             2            1                     79  ...   \n899066           Solo             1            1                     79  ...   \n899067           Solo             3            1                     79  ...   \n\n       acousticness danceability energy instrumentalness liveness loudness  \\\n0              0.78        0.647  0.309         7.41e-06    0.202   -7.948   \n1             0.451        0.747  0.458                0    0.252   -6.891   \n2            0.0815        0.758  0.665         0.000157    0.216   -5.188   \n3             0.329         0.45  0.619                0    0.319   -7.412   \n4            0.0268        0.847  0.579           0.0545    0.102   -5.314   \n...             ...          ...    ...              ...      ...      ...   \n899063        0.366        0.446  0.658         2.49e-05    0.751   -8.362   \n899064        0.481        0.305  0.456            0.933    0.111  -20.199   \n899065       0.0118        0.852  0.648                0   0.0503   -7.189   \n899066        0.973        0.664  0.353            0.787   0.0878  -12.303   \n899067        0.386        0.651  0.896          0.00163   0.0734   -6.004   \n\n       speechiness valence    tempo hit  \n0           0.0366   0.195   87.045   0  \n1            0.303    0.47   75.029   0  \n2           0.0774   0.643  151.976   0  \n3            0.372   0.427     83.3   0  \n4           0.0719   0.569  137.998   0  \n...            ...     ...      ...  ..  \n899063      0.0297   0.554    84.74   0  \n899064      0.0634   0.171   96.996   0  \n899065       0.048   0.559   120.15   0  \n899066      0.0693   0.284   116.45   0  \n899067      0.0327   0.893  148.107   0  \n\n[899068 rows x 25 columns]",
      "text/html": "<div>\n<style scoped>\n    .dataframe tbody tr th:only-of-type {\n        vertical-align: middle;\n    }\n\n    .dataframe tbody tr th {\n        vertical-align: top;\n    }\n\n    .dataframe thead th {\n        text-align: right;\n    }\n</style>\n<table border=\"1\" class=\"dataframe\">\n  <thead>\n    <tr style=\"text-align: right;\">\n      <th></th>\n      <th>song_id</th>\n      <th>song_name</th>\n      <th>id_artists</th>\n      <th>name_artists</th>\n      <th>popularity</th>\n      <th>explicit</th>\n      <th>song_type</th>\n      <th>track_number</th>\n      <th>num_artists</th>\n      <th>num_available_markets</th>\n      <th>...</th>\n      <th>acousticness</th>\n      <th>danceability</th>\n      <th>energy</th>\n      <th>instrumentalness</th>\n      <th>liveness</th>\n      <th>loudness</th>\n      <th>speechiness</th>\n      <th>valence</th>\n      <th>tempo</th>\n      <th>hit</th>\n    </tr>\n  </thead>\n  <tbody>\n    <tr>\n      <th>0</th>\n      <td>1TEL6MlSSVLSdhOSddidlJ</td>\n      <td>needy</td>\n      <td>['66CXWjxzNUsdJxJ2JdwvnR']</td>\n      <td>['Ariana Grande']</td>\n      <td>76</td>\n      <td>True</td>\n      <td>Solo</td>\n      <td>2</td>\n      <td>1</td>\n      <td>79</td>\n      <td>...</td>\n      <td>0.78</td>\n      <td>0.647</td>\n      <td>0.309</td>\n      <td>7.41e-06</td>\n      <td>0.202</td>\n      <td>-7.948</td>\n      <td>0.0366</td>\n      <td>0.195</td>\n      <td>87.045</td>\n      <td>0</td>\n    </tr>\n    <tr>\n      <th>1</th>\n      <td>4uTvPEr01pjTbZgl7jcKBD</td>\n      <td>NASA</td>\n      <td>['66CXWjxzNUsdJxJ2JdwvnR']</td>\n      <td>['Ariana Grande']</td>\n      <td>76</td>\n      <td>False</td>\n      <td>Solo</td>\n      <td>3</td>\n      <td>1</td>\n      <td>79</td>\n      <td>...</td>\n      <td>0.451</td>\n      <td>0.747</td>\n      <td>0.458</td>\n      <td>0</td>\n      <td>0.252</td>\n      <td>-6.891</td>\n      <td>0.303</td>\n      <td>0.47</td>\n      <td>75.029</td>\n      <td>0</td>\n    </tr>\n    <tr>\n      <th>2</th>\n      <td>2hloaUoRonYssMuqLCBLTX</td>\n      <td>bloodline</td>\n      <td>['66CXWjxzNUsdJxJ2JdwvnR']</td>\n      <td>['Ariana Grande']</td>\n      <td>74</td>\n      <td>True</td>\n      <td>Solo</td>\n      <td>4</td>\n      <td>1</td>\n      <td>79</td>\n      <td>...</td>\n      <td>0.0815</td>\n      <td>0.758</td>\n      <td>0.665</td>\n      <td>0.000157</td>\n      <td>0.216</td>\n      <td>-5.188</td>\n      <td>0.0774</td>\n      <td>0.643</td>\n      <td>151.976</td>\n      <td>0</td>\n    </tr>\n    <tr>\n      <th>3</th>\n      <td>3wFLWP0FcIqHK1wb1CPthQ</td>\n      <td>fake smile</td>\n      <td>['66CXWjxzNUsdJxJ2JdwvnR']</td>\n      <td>['Ariana Grande']</td>\n      <td>73</td>\n      <td>True</td>\n      <td>Solo</td>\n      <td>5</td>\n      <td>1</td>\n      <td>79</td>\n      <td>...</td>\n      <td>0.329</td>\n      <td>0.45</td>\n      <td>0.619</td>\n      <td>0</td>\n      <td>0.319</td>\n      <td>-7.412</td>\n      <td>0.372</td>\n      <td>0.427</td>\n      <td>83.3</td>\n      <td>0</td>\n    </tr>\n    <tr>\n      <th>4</th>\n      <td>5Il6Oe7lr5XM7A0cWbVQtr</td>\n      <td>bad idea</td>\n      <td>['66CXWjxzNUsdJxJ2JdwvnR']</td>\n      <td>['Ariana Grande']</td>\n      <td>74</td>\n      <td>False</td>\n      <td>Solo</td>\n      <td>6</td>\n      <td>1</td>\n      <td>79</td>\n      <td>...</td>\n      <td>0.0268</td>\n      <td>0.847</td>\n      <td>0.579</td>\n      <td>0.0545</td>\n      <td>0.102</td>\n      <td>-5.314</td>\n      <td>0.0719</td>\n      <td>0.569</td>\n      <td>137.998</td>\n      <td>0</td>\n    </tr>\n    <tr>\n      <th>...</th>\n      <td>...</td>\n      <td>...</td>\n      <td>...</td>\n      <td>...</td>\n      <td>...</td>\n      <td>...</td>\n      <td>...</td>\n      <td>...</td>\n      <td>...</td>\n      <td>...</td>\n      <td>...</td>\n      <td>...</td>\n      <td>...</td>\n      <td>...</td>\n      <td>...</td>\n      <td>...</td>\n      <td>...</td>\n      <td>...</td>\n      <td>...</td>\n      <td>...</td>\n      <td>...</td>\n    </tr>\n    <tr>\n      <th>899063</th>\n      <td>2tP0ryZParpdjvxubgXhTN</td>\n      <td>Love Is Here to Stay</td>\n      <td>['3Dzj993UEz8Z5ovxuirzFO', '6RCsx4p5smZHYz2P5H...</td>\n      <td>['Lindsey Buckingham', 'Christine McVie']</td>\n      <td>16</td>\n      <td>False</td>\n      <td>Collaboration</td>\n      <td>5</td>\n      <td>2</td>\n      <td>1</td>\n      <td>...</td>\n      <td>0.366</td>\n      <td>0.446</td>\n      <td>0.658</td>\n      <td>2.49e-05</td>\n      <td>0.751</td>\n      <td>-8.362</td>\n      <td>0.0297</td>\n      <td>0.554</td>\n      <td>84.74</td>\n      <td>0</td>\n    </tr>\n    <tr>\n      <th>899064</th>\n      <td>7Ltni80U0w7bmYjXPNzSEa</td>\n      <td>Heinlein's Planet</td>\n      <td>['4urvwbid7NFoVes5PTx9lV']</td>\n      <td>['Tony Carey']</td>\n      <td>0</td>\n      <td>False</td>\n      <td>Solo</td>\n      <td>5</td>\n      <td>1</td>\n      <td>79</td>\n      <td>...</td>\n      <td>0.481</td>\n      <td>0.305</td>\n      <td>0.456</td>\n      <td>0.933</td>\n      <td>0.111</td>\n      <td>-20.199</td>\n      <td>0.0634</td>\n      <td>0.171</td>\n      <td>96.996</td>\n      <td>0</td>\n    </tr>\n    <tr>\n      <th>899065</th>\n      <td>1gQClXN1Dq4rj0wBzddcNA</td>\n      <td>Beds are Burning - Karaoke Lead Vocal Version</td>\n      <td>['7yv4DJOCmilSbxxsdQgXWk']</td>\n      <td>['Pictomusic']</td>\n      <td>0</td>\n      <td>False</td>\n      <td>Solo</td>\n      <td>2</td>\n      <td>1</td>\n      <td>79</td>\n      <td>...</td>\n      <td>0.0118</td>\n      <td>0.852</td>\n      <td>0.648</td>\n      <td>0</td>\n      <td>0.0503</td>\n      <td>-7.189</td>\n      <td>0.048</td>\n      <td>0.559</td>\n      <td>120.15</td>\n      <td>0</td>\n    </tr>\n    <tr>\n      <th>899066</th>\n      <td>2jhxQrFNdVPkWL28X7ZpeK</td>\n      <td>Un homme heureux - Version karaoké instrumentale</td>\n      <td>['7yv4DJOCmilSbxxsdQgXWk']</td>\n      <td>['Pictomusic']</td>\n      <td>0</td>\n      <td>False</td>\n      <td>Solo</td>\n      <td>1</td>\n      <td>1</td>\n      <td>79</td>\n      <td>...</td>\n      <td>0.973</td>\n      <td>0.664</td>\n      <td>0.353</td>\n      <td>0.787</td>\n      <td>0.0878</td>\n      <td>-12.303</td>\n      <td>0.0693</td>\n      <td>0.284</td>\n      <td>116.45</td>\n      <td>0</td>\n    </tr>\n    <tr>\n      <th>899067</th>\n      <td>6KkbkpUObAqcKGEfvguHJO</td>\n      <td>Santa Claus Is Coming to Town</td>\n      <td>['7tdO7d7r0vhwov7RIZWH6V']</td>\n      <td>['Mitch Ryder']</td>\n      <td>0</td>\n      <td>False</td>\n      <td>Solo</td>\n      <td>3</td>\n      <td>1</td>\n      <td>79</td>\n      <td>...</td>\n      <td>0.386</td>\n      <td>0.651</td>\n      <td>0.896</td>\n      <td>0.00163</td>\n      <td>0.0734</td>\n      <td>-6.004</td>\n      <td>0.0327</td>\n      <td>0.893</td>\n      <td>148.107</td>\n      <td>0</td>\n    </tr>\n  </tbody>\n</table>\n<p>899068 rows × 25 columns</p>\n</div>"
     },
     "execution_count": 2,
     "metadata": {},
     "output_type": "execute_result"
    }
   ],
   "source": [
    "df_nonhits = pd.read_csv(\"additional/nonhits_dataset.csv\", delimiter=\"\\t\")\n",
    "df_nonhits[\"hit\"] = 0\n",
    "df_nonhits"
   ],
   "metadata": {
    "collapsed": false,
    "ExecuteTime": {
     "end_time": "2024-04-22T12:04:15.382609400Z",
     "start_time": "2024-04-22T12:04:11.964608200Z"
    }
   },
   "id": "26d5e57f02f1e85d"
  },
  {
   "cell_type": "code",
   "execution_count": 3,
   "outputs": [
    {
     "data": {
      "text/plain": "                       song_id  \\\n0       3e9HZxeyfWwjeyPAMmWSSQ   \n1       5p7ujcrUXASCNwRaWNHR1C   \n2       2xLMifQCjDGFmkHkpNLD9h   \n3       3KkXRkHbMCARz0aVfEt68P   \n4       1rqqCSm0Qe4I9rUvWncaom   \n...                        ...   \n899063  2tP0ryZParpdjvxubgXhTN   \n899064  7Ltni80U0w7bmYjXPNzSEa   \n899065  1gQClXN1Dq4rj0wBzddcNA   \n899066  2jhxQrFNdVPkWL28X7ZpeK   \n899067  6KkbkpUObAqcKGEfvguHJO   \n\n                                               song_name  \\\n0                                          thank u, next   \n1                                             Without Me   \n2                                             SICKO MODE   \n3          Sunflower - Spider-Man: Into the Spider-Verse   \n4                                             High Hopes   \n...                                                  ...   \n899063                              Love Is Here to Stay   \n899064                                 Heinlein's Planet   \n899065     Beds are Burning - Karaoke Lead Vocal Version   \n899066  Un homme heureux - Version karaoké instrumentale   \n899067                     Santa Claus Is Coming to Town   \n\n                                               id_artists  \\\n0                              ['66CXWjxzNUsdJxJ2JdwvnR']   \n1                              ['26VFTg2z8YR0cCuwLzESi2']   \n2                              ['0Y5tJX1MQlPlqiwlOH1tJY']   \n3       ['246dkjvS1zLTtiykXe5h60', '1zNqQNIdeOUZHb8zbZ...   \n4                              ['20JZFwl6HVl6yg8a4H3ZqK']   \n...                                                   ...   \n899063  ['3Dzj993UEz8Z5ovxuirzFO', '6RCsx4p5smZHYz2P5H...   \n899064                         ['4urvwbid7NFoVes5PTx9lV']   \n899065                         ['7yv4DJOCmilSbxxsdQgXWk']   \n899066                         ['7yv4DJOCmilSbxxsdQgXWk']   \n899067                         ['7tdO7d7r0vhwov7RIZWH6V']   \n\n                                     name_artists  popularity  explicit  \\\n0                               ['Ariana Grande']          87      True   \n1                                      ['Halsey']          87      True   \n2                                ['Travis Scott']          86      True   \n3                     ['Post Malone', 'Swae Lee']          92     False   \n4                         ['Panic! At The Disco']          86     False   \n...                                           ...         ...       ...   \n899063  ['Lindsey Buckingham', 'Christine McVie']          16     False   \n899064                             ['Tony Carey']           0     False   \n899065                             ['Pictomusic']           0     False   \n899066                             ['Pictomusic']           0     False   \n899067                            ['Mitch Ryder']           0     False   \n\n            song_type  track_number  num_artists  num_available_markets  ...  \\\n0                Solo            11            1                     79  ...   \n1                Solo             1            1                     79  ...   \n2                Solo             3            1                     79  ...   \n3       Collaboration             2            2                     79  ...   \n4                Solo             4            1                     78  ...   \n...               ...           ...          ...                    ...  ...   \n899063  Collaboration             5            2                      1  ...   \n899064           Solo             5            1                     79  ...   \n899065           Solo             2            1                     79  ...   \n899066           Solo             1            1                     79  ...   \n899067           Solo             3            1                     79  ...   \n\n       acousticness danceability energy instrumentalness liveness loudness  \\\n0             0.229        0.717  0.653              0.0    0.101   -5.634   \n1             0.297        0.752  0.488         0.000009   0.0936    -7.05   \n2           0.00513        0.834   0.73              0.0    0.124   -3.714   \n3             0.556         0.76  0.479              0.0   0.0703   -5.574   \n4             0.193        0.579  0.904              0.0    0.064   -2.729   \n...             ...          ...    ...              ...      ...      ...   \n899063        0.366        0.446  0.658         2.49e-05    0.751   -8.362   \n899064        0.481        0.305  0.456            0.933    0.111  -20.199   \n899065       0.0118        0.852  0.648                0   0.0503   -7.189   \n899066        0.973        0.664  0.353            0.787   0.0878  -12.303   \n899067        0.386        0.651  0.896          0.00163   0.0734   -6.004   \n\n       speechiness valence    tempo hit  \n0           0.0658   0.412  106.966   1  \n1           0.0705   0.533  136.041   1  \n2            0.222   0.446  155.008   1  \n3           0.0466   0.913   89.911   1  \n4           0.0618   0.681   82.014   1  \n...            ...     ...      ...  ..  \n899063      0.0297   0.554    84.74   0  \n899064      0.0634   0.171   96.996   0  \n899065       0.048   0.559   120.15   0  \n899066      0.0693   0.284   116.45   0  \n899067      0.0327   0.893  148.107   0  \n\n[911027 rows x 25 columns]",
      "text/html": "<div>\n<style scoped>\n    .dataframe tbody tr th:only-of-type {\n        vertical-align: middle;\n    }\n\n    .dataframe tbody tr th {\n        vertical-align: top;\n    }\n\n    .dataframe thead th {\n        text-align: right;\n    }\n</style>\n<table border=\"1\" class=\"dataframe\">\n  <thead>\n    <tr style=\"text-align: right;\">\n      <th></th>\n      <th>song_id</th>\n      <th>song_name</th>\n      <th>id_artists</th>\n      <th>name_artists</th>\n      <th>popularity</th>\n      <th>explicit</th>\n      <th>song_type</th>\n      <th>track_number</th>\n      <th>num_artists</th>\n      <th>num_available_markets</th>\n      <th>...</th>\n      <th>acousticness</th>\n      <th>danceability</th>\n      <th>energy</th>\n      <th>instrumentalness</th>\n      <th>liveness</th>\n      <th>loudness</th>\n      <th>speechiness</th>\n      <th>valence</th>\n      <th>tempo</th>\n      <th>hit</th>\n    </tr>\n  </thead>\n  <tbody>\n    <tr>\n      <th>0</th>\n      <td>3e9HZxeyfWwjeyPAMmWSSQ</td>\n      <td>thank u, next</td>\n      <td>['66CXWjxzNUsdJxJ2JdwvnR']</td>\n      <td>['Ariana Grande']</td>\n      <td>87</td>\n      <td>True</td>\n      <td>Solo</td>\n      <td>11</td>\n      <td>1</td>\n      <td>79</td>\n      <td>...</td>\n      <td>0.229</td>\n      <td>0.717</td>\n      <td>0.653</td>\n      <td>0.0</td>\n      <td>0.101</td>\n      <td>-5.634</td>\n      <td>0.0658</td>\n      <td>0.412</td>\n      <td>106.966</td>\n      <td>1</td>\n    </tr>\n    <tr>\n      <th>1</th>\n      <td>5p7ujcrUXASCNwRaWNHR1C</td>\n      <td>Without Me</td>\n      <td>['26VFTg2z8YR0cCuwLzESi2']</td>\n      <td>['Halsey']</td>\n      <td>87</td>\n      <td>True</td>\n      <td>Solo</td>\n      <td>1</td>\n      <td>1</td>\n      <td>79</td>\n      <td>...</td>\n      <td>0.297</td>\n      <td>0.752</td>\n      <td>0.488</td>\n      <td>0.000009</td>\n      <td>0.0936</td>\n      <td>-7.05</td>\n      <td>0.0705</td>\n      <td>0.533</td>\n      <td>136.041</td>\n      <td>1</td>\n    </tr>\n    <tr>\n      <th>2</th>\n      <td>2xLMifQCjDGFmkHkpNLD9h</td>\n      <td>SICKO MODE</td>\n      <td>['0Y5tJX1MQlPlqiwlOH1tJY']</td>\n      <td>['Travis Scott']</td>\n      <td>86</td>\n      <td>True</td>\n      <td>Solo</td>\n      <td>3</td>\n      <td>1</td>\n      <td>79</td>\n      <td>...</td>\n      <td>0.00513</td>\n      <td>0.834</td>\n      <td>0.73</td>\n      <td>0.0</td>\n      <td>0.124</td>\n      <td>-3.714</td>\n      <td>0.222</td>\n      <td>0.446</td>\n      <td>155.008</td>\n      <td>1</td>\n    </tr>\n    <tr>\n      <th>3</th>\n      <td>3KkXRkHbMCARz0aVfEt68P</td>\n      <td>Sunflower - Spider-Man: Into the Spider-Verse</td>\n      <td>['246dkjvS1zLTtiykXe5h60', '1zNqQNIdeOUZHb8zbZ...</td>\n      <td>['Post Malone', 'Swae Lee']</td>\n      <td>92</td>\n      <td>False</td>\n      <td>Collaboration</td>\n      <td>2</td>\n      <td>2</td>\n      <td>79</td>\n      <td>...</td>\n      <td>0.556</td>\n      <td>0.76</td>\n      <td>0.479</td>\n      <td>0.0</td>\n      <td>0.0703</td>\n      <td>-5.574</td>\n      <td>0.0466</td>\n      <td>0.913</td>\n      <td>89.911</td>\n      <td>1</td>\n    </tr>\n    <tr>\n      <th>4</th>\n      <td>1rqqCSm0Qe4I9rUvWncaom</td>\n      <td>High Hopes</td>\n      <td>['20JZFwl6HVl6yg8a4H3ZqK']</td>\n      <td>['Panic! At The Disco']</td>\n      <td>86</td>\n      <td>False</td>\n      <td>Solo</td>\n      <td>4</td>\n      <td>1</td>\n      <td>78</td>\n      <td>...</td>\n      <td>0.193</td>\n      <td>0.579</td>\n      <td>0.904</td>\n      <td>0.0</td>\n      <td>0.064</td>\n      <td>-2.729</td>\n      <td>0.0618</td>\n      <td>0.681</td>\n      <td>82.014</td>\n      <td>1</td>\n    </tr>\n    <tr>\n      <th>...</th>\n      <td>...</td>\n      <td>...</td>\n      <td>...</td>\n      <td>...</td>\n      <td>...</td>\n      <td>...</td>\n      <td>...</td>\n      <td>...</td>\n      <td>...</td>\n      <td>...</td>\n      <td>...</td>\n      <td>...</td>\n      <td>...</td>\n      <td>...</td>\n      <td>...</td>\n      <td>...</td>\n      <td>...</td>\n      <td>...</td>\n      <td>...</td>\n      <td>...</td>\n      <td>...</td>\n    </tr>\n    <tr>\n      <th>899063</th>\n      <td>2tP0ryZParpdjvxubgXhTN</td>\n      <td>Love Is Here to Stay</td>\n      <td>['3Dzj993UEz8Z5ovxuirzFO', '6RCsx4p5smZHYz2P5H...</td>\n      <td>['Lindsey Buckingham', 'Christine McVie']</td>\n      <td>16</td>\n      <td>False</td>\n      <td>Collaboration</td>\n      <td>5</td>\n      <td>2</td>\n      <td>1</td>\n      <td>...</td>\n      <td>0.366</td>\n      <td>0.446</td>\n      <td>0.658</td>\n      <td>2.49e-05</td>\n      <td>0.751</td>\n      <td>-8.362</td>\n      <td>0.0297</td>\n      <td>0.554</td>\n      <td>84.74</td>\n      <td>0</td>\n    </tr>\n    <tr>\n      <th>899064</th>\n      <td>7Ltni80U0w7bmYjXPNzSEa</td>\n      <td>Heinlein's Planet</td>\n      <td>['4urvwbid7NFoVes5PTx9lV']</td>\n      <td>['Tony Carey']</td>\n      <td>0</td>\n      <td>False</td>\n      <td>Solo</td>\n      <td>5</td>\n      <td>1</td>\n      <td>79</td>\n      <td>...</td>\n      <td>0.481</td>\n      <td>0.305</td>\n      <td>0.456</td>\n      <td>0.933</td>\n      <td>0.111</td>\n      <td>-20.199</td>\n      <td>0.0634</td>\n      <td>0.171</td>\n      <td>96.996</td>\n      <td>0</td>\n    </tr>\n    <tr>\n      <th>899065</th>\n      <td>1gQClXN1Dq4rj0wBzddcNA</td>\n      <td>Beds are Burning - Karaoke Lead Vocal Version</td>\n      <td>['7yv4DJOCmilSbxxsdQgXWk']</td>\n      <td>['Pictomusic']</td>\n      <td>0</td>\n      <td>False</td>\n      <td>Solo</td>\n      <td>2</td>\n      <td>1</td>\n      <td>79</td>\n      <td>...</td>\n      <td>0.0118</td>\n      <td>0.852</td>\n      <td>0.648</td>\n      <td>0</td>\n      <td>0.0503</td>\n      <td>-7.189</td>\n      <td>0.048</td>\n      <td>0.559</td>\n      <td>120.15</td>\n      <td>0</td>\n    </tr>\n    <tr>\n      <th>899066</th>\n      <td>2jhxQrFNdVPkWL28X7ZpeK</td>\n      <td>Un homme heureux - Version karaoké instrumentale</td>\n      <td>['7yv4DJOCmilSbxxsdQgXWk']</td>\n      <td>['Pictomusic']</td>\n      <td>0</td>\n      <td>False</td>\n      <td>Solo</td>\n      <td>1</td>\n      <td>1</td>\n      <td>79</td>\n      <td>...</td>\n      <td>0.973</td>\n      <td>0.664</td>\n      <td>0.353</td>\n      <td>0.787</td>\n      <td>0.0878</td>\n      <td>-12.303</td>\n      <td>0.0693</td>\n      <td>0.284</td>\n      <td>116.45</td>\n      <td>0</td>\n    </tr>\n    <tr>\n      <th>899067</th>\n      <td>6KkbkpUObAqcKGEfvguHJO</td>\n      <td>Santa Claus Is Coming to Town</td>\n      <td>['7tdO7d7r0vhwov7RIZWH6V']</td>\n      <td>['Mitch Ryder']</td>\n      <td>0</td>\n      <td>False</td>\n      <td>Solo</td>\n      <td>3</td>\n      <td>1</td>\n      <td>79</td>\n      <td>...</td>\n      <td>0.386</td>\n      <td>0.651</td>\n      <td>0.896</td>\n      <td>0.00163</td>\n      <td>0.0734</td>\n      <td>-6.004</td>\n      <td>0.0327</td>\n      <td>0.893</td>\n      <td>148.107</td>\n      <td>0</td>\n    </tr>\n  </tbody>\n</table>\n<p>911027 rows × 25 columns</p>\n</div>"
     },
     "execution_count": 3,
     "metadata": {},
     "output_type": "execute_result"
    }
   ],
   "source": [
    "combined_df = pd.concat([df_hits, df_nonhits], axis=0)\n",
    "combined_df.replace(\"-\", float(\"nan\"), inplace=True)\n",
    "# Drop all rows with NaN values\n",
    "combined_df"
   ],
   "metadata": {
    "collapsed": false,
    "ExecuteTime": {
     "end_time": "2024-04-22T12:04:16.963607900Z",
     "start_time": "2024-04-22T12:04:15.385609100Z"
    }
   },
   "id": "6f9b2d1a6293f615"
  },
  {
   "cell_type": "code",
   "execution_count": 4,
   "outputs": [
    {
     "name": "stdout",
     "output_type": "stream",
     "text": [
      "Columns with NaN values:\n",
      "['duration_ms', 'key', 'mode', 'time_signature', 'acousticness', 'danceability', 'energy', 'instrumentalness', 'liveness', 'loudness', 'speechiness', 'valence', 'tempo']\n"
     ]
    }
   ],
   "source": [
    "# Check for NaN values in all columns\n",
    "nan_columns = combined_df.columns[combined_df.isna().any()].tolist()\n",
    "\n",
    "# Print columns with NaN values\n",
    "print(\"Columns with NaN values:\")\n",
    "print(nan_columns)\n"
   ],
   "metadata": {
    "collapsed": false,
    "ExecuteTime": {
     "end_time": "2024-04-22T12:04:17.300609600Z",
     "start_time": "2024-04-22T12:04:16.966611200Z"
    }
   },
   "id": "8756697fa413e9af"
  },
  {
   "cell_type": "code",
   "execution_count": 5,
   "outputs": [
    {
     "data": {
      "text/plain": "                       song_id  \\\n0       3e9HZxeyfWwjeyPAMmWSSQ   \n1       5p7ujcrUXASCNwRaWNHR1C   \n2       2xLMifQCjDGFmkHkpNLD9h   \n3       3KkXRkHbMCARz0aVfEt68P   \n4       1rqqCSm0Qe4I9rUvWncaom   \n...                        ...   \n899063  2tP0ryZParpdjvxubgXhTN   \n899064  7Ltni80U0w7bmYjXPNzSEa   \n899065  1gQClXN1Dq4rj0wBzddcNA   \n899066  2jhxQrFNdVPkWL28X7ZpeK   \n899067  6KkbkpUObAqcKGEfvguHJO   \n\n                                               song_name  \\\n0                                          thank u, next   \n1                                             Without Me   \n2                                             SICKO MODE   \n3          Sunflower - Spider-Man: Into the Spider-Verse   \n4                                             High Hopes   \n...                                                  ...   \n899063                              Love Is Here to Stay   \n899064                                 Heinlein's Planet   \n899065     Beds are Burning - Karaoke Lead Vocal Version   \n899066  Un homme heureux - Version karaoké instrumentale   \n899067                     Santa Claus Is Coming to Town   \n\n                                               id_artists  \\\n0                              ['66CXWjxzNUsdJxJ2JdwvnR']   \n1                              ['26VFTg2z8YR0cCuwLzESi2']   \n2                              ['0Y5tJX1MQlPlqiwlOH1tJY']   \n3       ['246dkjvS1zLTtiykXe5h60', '1zNqQNIdeOUZHb8zbZ...   \n4                              ['20JZFwl6HVl6yg8a4H3ZqK']   \n...                                                   ...   \n899063  ['3Dzj993UEz8Z5ovxuirzFO', '6RCsx4p5smZHYz2P5H...   \n899064                         ['4urvwbid7NFoVes5PTx9lV']   \n899065                         ['7yv4DJOCmilSbxxsdQgXWk']   \n899066                         ['7yv4DJOCmilSbxxsdQgXWk']   \n899067                         ['7tdO7d7r0vhwov7RIZWH6V']   \n\n                                     name_artists  popularity  explicit  \\\n0                               ['Ariana Grande']          87      True   \n1                                      ['Halsey']          87      True   \n2                                ['Travis Scott']          86      True   \n3                     ['Post Malone', 'Swae Lee']          92     False   \n4                         ['Panic! At The Disco']          86     False   \n...                                           ...         ...       ...   \n899063  ['Lindsey Buckingham', 'Christine McVie']          16     False   \n899064                             ['Tony Carey']           0     False   \n899065                             ['Pictomusic']           0     False   \n899066                             ['Pictomusic']           0     False   \n899067                            ['Mitch Ryder']           0     False   \n\n            song_type  track_number  num_artists  num_available_markets  ...  \\\n0                Solo            11            1                     79  ...   \n1                Solo             1            1                     79  ...   \n2                Solo             3            1                     79  ...   \n3       Collaboration             2            2                     79  ...   \n4                Solo             4            1                     78  ...   \n...               ...           ...          ...                    ...  ...   \n899063  Collaboration             5            2                      1  ...   \n899064           Solo             5            1                     79  ...   \n899065           Solo             2            1                     79  ...   \n899066           Solo             1            1                     79  ...   \n899067           Solo             3            1                     79  ...   \n\n       acousticness  danceability  energy  instrumentalness  liveness  \\\n0           0.22900         0.717   0.653          0.000000    0.1010   \n1           0.29700         0.752   0.488          0.000009    0.0936   \n2           0.00513         0.834   0.730          0.000000    0.1240   \n3           0.55600         0.760   0.479          0.000000    0.0703   \n4           0.19300         0.579   0.904          0.000000    0.0640   \n...             ...           ...     ...               ...       ...   \n899063      0.36600         0.446   0.658          0.000025    0.7510   \n899064      0.48100         0.305   0.456          0.933000    0.1110   \n899065      0.01180         0.852   0.648          0.000000    0.0503   \n899066      0.97300         0.664   0.353          0.787000    0.0878   \n899067      0.38600         0.651   0.896          0.001630    0.0734   \n\n        loudness  speechiness  valence    tempo  hit  \n0         -5.634       0.0658    0.412  106.966    1  \n1         -7.050       0.0705    0.533  136.041    1  \n2         -3.714       0.2220    0.446  155.008    1  \n3         -5.574       0.0466    0.913   89.911    1  \n4         -2.729       0.0618    0.681   82.014    1  \n...          ...          ...      ...      ...  ...  \n899063    -8.362       0.0297    0.554   84.740    0  \n899064   -20.199       0.0634    0.171   96.996    0  \n899065    -7.189       0.0480    0.559  120.150    0  \n899066   -12.303       0.0693    0.284  116.450    0  \n899067    -6.004       0.0327    0.893  148.107    0  \n\n[911027 rows x 25 columns]",
      "text/html": "<div>\n<style scoped>\n    .dataframe tbody tr th:only-of-type {\n        vertical-align: middle;\n    }\n\n    .dataframe tbody tr th {\n        vertical-align: top;\n    }\n\n    .dataframe thead th {\n        text-align: right;\n    }\n</style>\n<table border=\"1\" class=\"dataframe\">\n  <thead>\n    <tr style=\"text-align: right;\">\n      <th></th>\n      <th>song_id</th>\n      <th>song_name</th>\n      <th>id_artists</th>\n      <th>name_artists</th>\n      <th>popularity</th>\n      <th>explicit</th>\n      <th>song_type</th>\n      <th>track_number</th>\n      <th>num_artists</th>\n      <th>num_available_markets</th>\n      <th>...</th>\n      <th>acousticness</th>\n      <th>danceability</th>\n      <th>energy</th>\n      <th>instrumentalness</th>\n      <th>liveness</th>\n      <th>loudness</th>\n      <th>speechiness</th>\n      <th>valence</th>\n      <th>tempo</th>\n      <th>hit</th>\n    </tr>\n  </thead>\n  <tbody>\n    <tr>\n      <th>0</th>\n      <td>3e9HZxeyfWwjeyPAMmWSSQ</td>\n      <td>thank u, next</td>\n      <td>['66CXWjxzNUsdJxJ2JdwvnR']</td>\n      <td>['Ariana Grande']</td>\n      <td>87</td>\n      <td>True</td>\n      <td>Solo</td>\n      <td>11</td>\n      <td>1</td>\n      <td>79</td>\n      <td>...</td>\n      <td>0.22900</td>\n      <td>0.717</td>\n      <td>0.653</td>\n      <td>0.000000</td>\n      <td>0.1010</td>\n      <td>-5.634</td>\n      <td>0.0658</td>\n      <td>0.412</td>\n      <td>106.966</td>\n      <td>1</td>\n    </tr>\n    <tr>\n      <th>1</th>\n      <td>5p7ujcrUXASCNwRaWNHR1C</td>\n      <td>Without Me</td>\n      <td>['26VFTg2z8YR0cCuwLzESi2']</td>\n      <td>['Halsey']</td>\n      <td>87</td>\n      <td>True</td>\n      <td>Solo</td>\n      <td>1</td>\n      <td>1</td>\n      <td>79</td>\n      <td>...</td>\n      <td>0.29700</td>\n      <td>0.752</td>\n      <td>0.488</td>\n      <td>0.000009</td>\n      <td>0.0936</td>\n      <td>-7.050</td>\n      <td>0.0705</td>\n      <td>0.533</td>\n      <td>136.041</td>\n      <td>1</td>\n    </tr>\n    <tr>\n      <th>2</th>\n      <td>2xLMifQCjDGFmkHkpNLD9h</td>\n      <td>SICKO MODE</td>\n      <td>['0Y5tJX1MQlPlqiwlOH1tJY']</td>\n      <td>['Travis Scott']</td>\n      <td>86</td>\n      <td>True</td>\n      <td>Solo</td>\n      <td>3</td>\n      <td>1</td>\n      <td>79</td>\n      <td>...</td>\n      <td>0.00513</td>\n      <td>0.834</td>\n      <td>0.730</td>\n      <td>0.000000</td>\n      <td>0.1240</td>\n      <td>-3.714</td>\n      <td>0.2220</td>\n      <td>0.446</td>\n      <td>155.008</td>\n      <td>1</td>\n    </tr>\n    <tr>\n      <th>3</th>\n      <td>3KkXRkHbMCARz0aVfEt68P</td>\n      <td>Sunflower - Spider-Man: Into the Spider-Verse</td>\n      <td>['246dkjvS1zLTtiykXe5h60', '1zNqQNIdeOUZHb8zbZ...</td>\n      <td>['Post Malone', 'Swae Lee']</td>\n      <td>92</td>\n      <td>False</td>\n      <td>Collaboration</td>\n      <td>2</td>\n      <td>2</td>\n      <td>79</td>\n      <td>...</td>\n      <td>0.55600</td>\n      <td>0.760</td>\n      <td>0.479</td>\n      <td>0.000000</td>\n      <td>0.0703</td>\n      <td>-5.574</td>\n      <td>0.0466</td>\n      <td>0.913</td>\n      <td>89.911</td>\n      <td>1</td>\n    </tr>\n    <tr>\n      <th>4</th>\n      <td>1rqqCSm0Qe4I9rUvWncaom</td>\n      <td>High Hopes</td>\n      <td>['20JZFwl6HVl6yg8a4H3ZqK']</td>\n      <td>['Panic! At The Disco']</td>\n      <td>86</td>\n      <td>False</td>\n      <td>Solo</td>\n      <td>4</td>\n      <td>1</td>\n      <td>78</td>\n      <td>...</td>\n      <td>0.19300</td>\n      <td>0.579</td>\n      <td>0.904</td>\n      <td>0.000000</td>\n      <td>0.0640</td>\n      <td>-2.729</td>\n      <td>0.0618</td>\n      <td>0.681</td>\n      <td>82.014</td>\n      <td>1</td>\n    </tr>\n    <tr>\n      <th>...</th>\n      <td>...</td>\n      <td>...</td>\n      <td>...</td>\n      <td>...</td>\n      <td>...</td>\n      <td>...</td>\n      <td>...</td>\n      <td>...</td>\n      <td>...</td>\n      <td>...</td>\n      <td>...</td>\n      <td>...</td>\n      <td>...</td>\n      <td>...</td>\n      <td>...</td>\n      <td>...</td>\n      <td>...</td>\n      <td>...</td>\n      <td>...</td>\n      <td>...</td>\n      <td>...</td>\n    </tr>\n    <tr>\n      <th>899063</th>\n      <td>2tP0ryZParpdjvxubgXhTN</td>\n      <td>Love Is Here to Stay</td>\n      <td>['3Dzj993UEz8Z5ovxuirzFO', '6RCsx4p5smZHYz2P5H...</td>\n      <td>['Lindsey Buckingham', 'Christine McVie']</td>\n      <td>16</td>\n      <td>False</td>\n      <td>Collaboration</td>\n      <td>5</td>\n      <td>2</td>\n      <td>1</td>\n      <td>...</td>\n      <td>0.36600</td>\n      <td>0.446</td>\n      <td>0.658</td>\n      <td>0.000025</td>\n      <td>0.7510</td>\n      <td>-8.362</td>\n      <td>0.0297</td>\n      <td>0.554</td>\n      <td>84.740</td>\n      <td>0</td>\n    </tr>\n    <tr>\n      <th>899064</th>\n      <td>7Ltni80U0w7bmYjXPNzSEa</td>\n      <td>Heinlein's Planet</td>\n      <td>['4urvwbid7NFoVes5PTx9lV']</td>\n      <td>['Tony Carey']</td>\n      <td>0</td>\n      <td>False</td>\n      <td>Solo</td>\n      <td>5</td>\n      <td>1</td>\n      <td>79</td>\n      <td>...</td>\n      <td>0.48100</td>\n      <td>0.305</td>\n      <td>0.456</td>\n      <td>0.933000</td>\n      <td>0.1110</td>\n      <td>-20.199</td>\n      <td>0.0634</td>\n      <td>0.171</td>\n      <td>96.996</td>\n      <td>0</td>\n    </tr>\n    <tr>\n      <th>899065</th>\n      <td>1gQClXN1Dq4rj0wBzddcNA</td>\n      <td>Beds are Burning - Karaoke Lead Vocal Version</td>\n      <td>['7yv4DJOCmilSbxxsdQgXWk']</td>\n      <td>['Pictomusic']</td>\n      <td>0</td>\n      <td>False</td>\n      <td>Solo</td>\n      <td>2</td>\n      <td>1</td>\n      <td>79</td>\n      <td>...</td>\n      <td>0.01180</td>\n      <td>0.852</td>\n      <td>0.648</td>\n      <td>0.000000</td>\n      <td>0.0503</td>\n      <td>-7.189</td>\n      <td>0.0480</td>\n      <td>0.559</td>\n      <td>120.150</td>\n      <td>0</td>\n    </tr>\n    <tr>\n      <th>899066</th>\n      <td>2jhxQrFNdVPkWL28X7ZpeK</td>\n      <td>Un homme heureux - Version karaoké instrumentale</td>\n      <td>['7yv4DJOCmilSbxxsdQgXWk']</td>\n      <td>['Pictomusic']</td>\n      <td>0</td>\n      <td>False</td>\n      <td>Solo</td>\n      <td>1</td>\n      <td>1</td>\n      <td>79</td>\n      <td>...</td>\n      <td>0.97300</td>\n      <td>0.664</td>\n      <td>0.353</td>\n      <td>0.787000</td>\n      <td>0.0878</td>\n      <td>-12.303</td>\n      <td>0.0693</td>\n      <td>0.284</td>\n      <td>116.450</td>\n      <td>0</td>\n    </tr>\n    <tr>\n      <th>899067</th>\n      <td>6KkbkpUObAqcKGEfvguHJO</td>\n      <td>Santa Claus Is Coming to Town</td>\n      <td>['7tdO7d7r0vhwov7RIZWH6V']</td>\n      <td>['Mitch Ryder']</td>\n      <td>0</td>\n      <td>False</td>\n      <td>Solo</td>\n      <td>3</td>\n      <td>1</td>\n      <td>79</td>\n      <td>...</td>\n      <td>0.38600</td>\n      <td>0.651</td>\n      <td>0.896</td>\n      <td>0.001630</td>\n      <td>0.0734</td>\n      <td>-6.004</td>\n      <td>0.0327</td>\n      <td>0.893</td>\n      <td>148.107</td>\n      <td>0</td>\n    </tr>\n  </tbody>\n</table>\n<p>911027 rows × 25 columns</p>\n</div>"
     },
     "execution_count": 5,
     "metadata": {},
     "output_type": "execute_result"
    }
   ],
   "source": [
    "from sklearn.impute import SimpleImputer\n",
    "\n",
    "combined_df.replace(\"-\", float(\"nan\"), inplace=True)   ## evtl hier schon mean replacement???\n",
    "# combined_df.dropna(inplace=True)   # drop nan value rows\n",
    "#Fill missing values with mean for each numeric attribute\n",
    "imputer = SimpleImputer(strategy='mean')\n",
    "for col in nan_columns:\n",
    "    combined_df[col] = imputer.fit_transform(combined_df[[col]])\n",
    "\n",
    "combined_df"
   ],
   "metadata": {
    "collapsed": false,
    "ExecuteTime": {
     "end_time": "2024-04-22T12:04:20.946609700Z",
     "start_time": "2024-04-22T12:04:17.296614900Z"
    }
   },
   "id": "723e4477181f9728"
  },
  {
   "cell_type": "code",
   "execution_count": 6,
   "outputs": [
    {
     "name": "stdout",
     "output_type": "stream",
     "text": [
      "Columns with NaN values:\n",
      "[]\n"
     ]
    }
   ],
   "source": [
    "# Check for NaN values in all columns\n",
    "nan_columns = combined_df.columns[combined_df.isna().any()].tolist()\n",
    "\n",
    "# Print columns with NaN values\n",
    "print(\"Columns with NaN values:\")\n",
    "print(nan_columns)\n"
   ],
   "metadata": {
    "collapsed": false,
    "ExecuteTime": {
     "end_time": "2024-04-22T12:04:21.090961800Z",
     "start_time": "2024-04-22T12:04:20.946609700Z"
    }
   },
   "id": "ad978e73fb721d3e"
  },
  {
   "cell_type": "code",
   "execution_count": 7,
   "outputs": [],
   "source": [
    "from sklearn.model_selection import train_test_split\n",
    "combined_df['date'] = pd.to_datetime(combined_df['release_date'])\n",
    "combined_df.sort_values(by=\"date\", inplace=True)\n",
    "\n",
    "train_df, test_df = train_test_split(combined_df, test_size=0.25, shuffle=False)"
   ],
   "metadata": {
    "collapsed": false,
    "ExecuteTime": {
     "end_time": "2024-04-22T12:04:21.797993700Z",
     "start_time": "2024-04-22T12:04:21.108993200Z"
    }
   },
   "id": "f55fc8cca1de5d29"
  },
  {
   "cell_type": "code",
   "execution_count": 8,
   "outputs": [
    {
     "name": "stdout",
     "output_type": "stream",
     "text": [
      "amount of artists: 18551\n"
     ]
    },
    {
     "data": {
      "text/plain": "                    artist_id            artist_name\n0      6eVCRmRG2HcfL4yx77A9WK             Jack Jones\n1      5NDMothbpdpq2xHqSjrrWn            Faith Evans\n2      3z6Uf5IZkN4TogRpRpgD84            Gary Wright\n3      2UuKUaomk3bZ0nHM3Y3FdW              Bud Shank\n4      6S0GHTqz5sxK5f9HtLXn9q                Garbage\n...                       ...                    ...\n18546  3bj9NXSjQfajNgU9woBnrR  Country Pop All-Stars\n18547  7ueug5uU2UKBoGQInMsKQV             Deep Noise\n18548  4UD3hwaHMCoJ9GKgIoMzTp            Steve Dafoe\n18549  2OdSf9rTLg6GYfoOrK2Kjl              Ron Komie\n18550  3FRfnhYD8uu3k8Dml7C7Wy            Jason Meeks\n\n[18551 rows x 2 columns]",
      "text/html": "<div>\n<style scoped>\n    .dataframe tbody tr th:only-of-type {\n        vertical-align: middle;\n    }\n\n    .dataframe tbody tr th {\n        vertical-align: top;\n    }\n\n    .dataframe thead th {\n        text-align: right;\n    }\n</style>\n<table border=\"1\" class=\"dataframe\">\n  <thead>\n    <tr style=\"text-align: right;\">\n      <th></th>\n      <th>artist_id</th>\n      <th>artist_name</th>\n    </tr>\n  </thead>\n  <tbody>\n    <tr>\n      <th>0</th>\n      <td>6eVCRmRG2HcfL4yx77A9WK</td>\n      <td>Jack Jones</td>\n    </tr>\n    <tr>\n      <th>1</th>\n      <td>5NDMothbpdpq2xHqSjrrWn</td>\n      <td>Faith Evans</td>\n    </tr>\n    <tr>\n      <th>2</th>\n      <td>3z6Uf5IZkN4TogRpRpgD84</td>\n      <td>Gary Wright</td>\n    </tr>\n    <tr>\n      <th>3</th>\n      <td>2UuKUaomk3bZ0nHM3Y3FdW</td>\n      <td>Bud Shank</td>\n    </tr>\n    <tr>\n      <th>4</th>\n      <td>6S0GHTqz5sxK5f9HtLXn9q</td>\n      <td>Garbage</td>\n    </tr>\n    <tr>\n      <th>...</th>\n      <td>...</td>\n      <td>...</td>\n    </tr>\n    <tr>\n      <th>18546</th>\n      <td>3bj9NXSjQfajNgU9woBnrR</td>\n      <td>Country Pop All-Stars</td>\n    </tr>\n    <tr>\n      <th>18547</th>\n      <td>7ueug5uU2UKBoGQInMsKQV</td>\n      <td>Deep Noise</td>\n    </tr>\n    <tr>\n      <th>18548</th>\n      <td>4UD3hwaHMCoJ9GKgIoMzTp</td>\n      <td>Steve Dafoe</td>\n    </tr>\n    <tr>\n      <th>18549</th>\n      <td>2OdSf9rTLg6GYfoOrK2Kjl</td>\n      <td>Ron Komie</td>\n    </tr>\n    <tr>\n      <th>18550</th>\n      <td>3FRfnhYD8uu3k8Dml7C7Wy</td>\n      <td>Jason Meeks</td>\n    </tr>\n  </tbody>\n</table>\n<p>18551 rows × 2 columns</p>\n</div>"
     },
     "execution_count": 8,
     "metadata": {},
     "output_type": "execute_result"
    }
   ],
   "source": [
    "# Specify the columns\n",
    "columns = ['artist_id', 'artist_name']\n",
    "\n",
    "# Initialize an empty DataFrame\n",
    "df_artists_train = pd.DataFrame(columns={col: [] for col in columns})\n",
    "\n",
    "count = 0\n",
    "artist_set = set()\n",
    "\n",
    "for _, row in train_df.iterrows():\n",
    "    current_artist_id_list = eval(row[\"id_artists\"])\n",
    "    current_artist_name_list = eval(row[\"name_artists\"])\n",
    "    for cur_art_id, cur_art_name in zip(current_artist_id_list, current_artist_name_list):\n",
    "        if cur_art_id not in artist_set:\n",
    "            artist_set.add(cur_art_id)\n",
    "            df_artists_train.loc[len(df_artists_train)] = [cur_art_id, cur_art_name]\n",
    "            count += 1\n",
    "\n",
    "print(\"amount of artists:\", count)\n",
    "df_artists_train"
   ],
   "metadata": {
    "collapsed": false,
    "ExecuteTime": {
     "end_time": "2024-04-22T12:05:20.578559200Z",
     "start_time": "2024-04-22T12:04:21.937997200Z"
    }
   },
   "id": "4e89192b5a6cf7c4"
  },
  {
   "cell_type": "code",
   "execution_count": 9,
   "outputs": [],
   "source": [
    "import networkx as nx\n",
    "\n",
    "all_artist_ids = artist_set.copy()\n",
    "\n",
    "G = nx.Graph()\n",
    "\n",
    "for id_art_cur in all_artist_ids:\n",
    "    artist_name = df_artists_train[(df_artists_train[\"artist_id\"] == id_art_cur)][\"artist_name\"]\n",
    "    artist_info = df_artists_train[df_artists_train[\"artist_id\"] == id_art_cur]\n",
    "    if not artist_info.empty:  # Check if artist info exists\n",
    "        # Filter out artists who are not successful\n",
    "        node_attrs = {\"name\": artist_name.iloc[0]}\n",
    "        G.add_node(id_art_cur, **node_attrs)\n",
    "    else:\n",
    "        print(\"Artist info not found for ID:\", id_art_cur)\n",
    "\n",
    "for _, row in train_df.iterrows():\n",
    "    artist_ids = list(eval(row[\"id_artists\"]))\n",
    "    artist_names = list(eval(row[\"name_artists\"]))\n",
    "    # Filter out songs that do not have more than one artist in their execution\n",
    "    if len(artist_ids) > 1:\n",
    "        for i in range(len(artist_ids)):\n",
    "            for j in range(i+1, len(artist_ids)):\n",
    "                artist_id_1 = str(artist_ids[i])\n",
    "                lable1 = str(artist_names[i])\n",
    "                artist_id_2 = str(artist_ids[j])\n",
    "                lable2 = str(artist_names[j])\n",
    "                # Check if the edge already exists\n",
    "                if G.has_edge(artist_id_1, artist_id_2):\n",
    "                    # If the edge already exists, increment the weight by 1\n",
    "                    G[artist_id_1][artist_id_2]['weight'] += 2\n",
    "                else:\n",
    "                    # Add a new edge with weight 1\n",
    "                    G.add_edge(artist_id_1, artist_id_2, lable1=lable1, lable2=lable2, weight=2, song_id=str(row[\"song_id\"]), song_name=str(row[\"song_name\"]), explicit=bool(row[\"explicit\"]), popularity=int(row[\"popularity\"]), release_date=str(row[\"release_date\"]))"
   ],
   "metadata": {
    "collapsed": false,
    "ExecuteTime": {
     "end_time": "2024-04-22T12:06:43.023627300Z",
     "start_time": "2024-04-22T12:05:20.584558300Z"
    }
   },
   "id": "13bb7f1a4a4876a5"
  },
  {
   "cell_type": "code",
   "execution_count": 10,
   "outputs": [
    {
     "data": {
      "text/plain": "                          name              Spotify ID\n0                         Cata  0icv9Zo6gk3OECRuh8buZu\n1                    Tommy Lee  4b9L0p4cMof32XvjwT9YrX\n2                        Rizzy  33V5Kd0K3dvRNbJIwSYowK\n3                Grupo Batuque  2dbFjCcHCIFfQrvvd24kcE\n4                      Krystal  2WXm1hL4hhuoUcCFM8lnG4\n...                        ...                     ...\n18546          Speed Tentacles  0K78nuI6B2fvijzQ8WxKZK\n18547  DJ Wally (k. DeStefano)  7jJTL5mJ4AWUyEz4hz787w\n18548                 Tray Dee  0bqBpcIABLyrGD6e6llQ1S\n18549          Gerald Albright  3bhckpkRmz8mqONUceSutp\n18550           Bobby Caldwell  4V4Z3qMCwYofWHtip6ePF6\n\n[18551 rows x 2 columns]",
      "text/html": "<div>\n<style scoped>\n    .dataframe tbody tr th:only-of-type {\n        vertical-align: middle;\n    }\n\n    .dataframe tbody tr th {\n        vertical-align: top;\n    }\n\n    .dataframe thead th {\n        text-align: right;\n    }\n</style>\n<table border=\"1\" class=\"dataframe\">\n  <thead>\n    <tr style=\"text-align: right;\">\n      <th></th>\n      <th>name</th>\n      <th>Spotify ID</th>\n    </tr>\n  </thead>\n  <tbody>\n    <tr>\n      <th>0</th>\n      <td>Cata</td>\n      <td>0icv9Zo6gk3OECRuh8buZu</td>\n    </tr>\n    <tr>\n      <th>1</th>\n      <td>Tommy Lee</td>\n      <td>4b9L0p4cMof32XvjwT9YrX</td>\n    </tr>\n    <tr>\n      <th>2</th>\n      <td>Rizzy</td>\n      <td>33V5Kd0K3dvRNbJIwSYowK</td>\n    </tr>\n    <tr>\n      <th>3</th>\n      <td>Grupo Batuque</td>\n      <td>2dbFjCcHCIFfQrvvd24kcE</td>\n    </tr>\n    <tr>\n      <th>4</th>\n      <td>Krystal</td>\n      <td>2WXm1hL4hhuoUcCFM8lnG4</td>\n    </tr>\n    <tr>\n      <th>...</th>\n      <td>...</td>\n      <td>...</td>\n    </tr>\n    <tr>\n      <th>18546</th>\n      <td>Speed Tentacles</td>\n      <td>0K78nuI6B2fvijzQ8WxKZK</td>\n    </tr>\n    <tr>\n      <th>18547</th>\n      <td>DJ Wally (k. DeStefano)</td>\n      <td>7jJTL5mJ4AWUyEz4hz787w</td>\n    </tr>\n    <tr>\n      <th>18548</th>\n      <td>Tray Dee</td>\n      <td>0bqBpcIABLyrGD6e6llQ1S</td>\n    </tr>\n    <tr>\n      <th>18549</th>\n      <td>Gerald Albright</td>\n      <td>3bhckpkRmz8mqONUceSutp</td>\n    </tr>\n    <tr>\n      <th>18550</th>\n      <td>Bobby Caldwell</td>\n      <td>4V4Z3qMCwYofWHtip6ePF6</td>\n    </tr>\n  </tbody>\n</table>\n<p>18551 rows × 2 columns</p>\n</div>"
     },
     "execution_count": 10,
     "metadata": {},
     "output_type": "execute_result"
    }
   ],
   "source": [
    "# Assuming G is your NetworkX graph\n",
    "\n",
    "# Extract nodes and their attributes from the graph\n",
    "nodes_with_attributes = [(G.nodes[node], node) for node in G.nodes()]\n",
    "\n",
    "# Create a DataFrame from the nodes and their attributes\n",
    "df_nodes_train = pd.DataFrame(nodes_with_attributes, columns=['Attributes', \"Spotify ID\"])\n",
    "\n",
    "# Normalize the 'Attributes' column to expand it into separate columns\n",
    "df_attributes = pd.json_normalize(df_nodes_train['Attributes'])\n",
    "\n",
    "# Combine the original 'Node' column with the expanded attributes\n",
    "df_nodes_train = pd.concat([df_attributes, df_nodes_train['Spotify ID']], axis=1)\n",
    "\n",
    "# Display the DataFrame\n",
    "df_nodes_train"
   ],
   "metadata": {
    "collapsed": false,
    "ExecuteTime": {
     "end_time": "2024-04-22T12:06:43.085627600Z",
     "start_time": "2024-04-22T12:06:43.038629100Z"
    }
   },
   "id": "a02e5a328f587e87"
  },
  {
   "cell_type": "code",
   "execution_count": 11,
   "outputs": [],
   "source": [
    "df_nodes_train.to_csv(\"network_created/nodes_real_train.csv\", sep='\\t', index=False)"
   ],
   "metadata": {
    "collapsed": false,
    "ExecuteTime": {
     "end_time": "2024-04-22T12:06:43.181628800Z",
     "start_time": "2024-04-22T12:06:43.087629600Z"
    }
   },
   "id": "affbd668a36e7e8a"
  },
  {
   "cell_type": "code",
   "execution_count": 12,
   "outputs": [
    {
     "data": {
      "text/plain": "                       Source                  Target             lable1  \\\n0      0icv9Zo6gk3OECRuh8buZu  1c22GXH30ijlOfXhfLz9Df       Elvis Crespo   \n1      4b9L0p4cMof32XvjwT9YrX  1pcSFb5xlakeJikdeR7Lug          Tommy Lee   \n2      4b9L0p4cMof32XvjwT9YrX  716ZwtZBmwROBXcFmCzfdM          Tommy Lee   \n3      4b9L0p4cMof32XvjwT9YrX  1Mj01W9PVDoVh7uXqkX0Kj          Tommy Lee   \n4      4b9L0p4cMof32XvjwT9YrX  2xNDraF1pQYbBrSe93h07j          Tommy Lee   \n...                       ...                     ...                ...   \n17945  5xtqw2B8z8JGfDYi2eAZHI  6tJ92cmMpfaJBfwiw34UrB  Johnny Gerontakis   \n17946  5YgczGESVzCXzvQN5E6n84  2VX0o9LDIVmKIgpnwdJpOJ       Erick Sermon   \n17947  19dyJWLCu4CSuTgZN1l9Zn  3bhckpkRmz8mqONUceSutp    Gerald Albright   \n17948  4V8Sr092TqfHkfAA5fXXqG  00taSe6u4o0o7AqwErRhhM         Luis Fonsi   \n17949  2hPitPTc41qpjbWatSNl6y  1SJCbTPSCAvnBzFAt8hLCb    Revelation Seed   \n\n                                 lable2  weight                 song_id  \\\n0                                  Cata       6  7GlxN186faFXw1aDYWq2rH   \n1                           Dirty Harry       2  1GrBpoSTwXI4zg9NxsTuAp   \n2      Andrew McMahon in the Wilderness       4  4jX2p3EgqfAwrTud2nJlel   \n3                           Joel Madden       2  3lAcH44GOxxDoBBX8kM7II   \n4                             Carl Bell       2  43bhmZmyPVjmx1gPUxM4up   \n...                                 ...     ...                     ...   \n17945                           Sonique       4  4MvEEZ936lEhGJr7lgZ1oL   \n17946                           Passion       2  3qwGs8HGWddF3QnF2x3WWj   \n17947                    Shawn Stockman       2  00SmszRXKTGZVmWFVcKxSX   \n17948                  Christina Valemi       2  1QTa6zNhAzzDWFa7CAVZ1m   \n17949                      Ray Fauntroy       2  1xCvDhYlEkHMoEWh3D5gDE   \n\n                                               song_name  explicit  \\\n0                                      Contigo o Conmigo     False   \n1                                         Makin Me Crazy     False   \n2                                             I Need You     False   \n3                                                  Tired     False   \n4                                            Sister Mary     False   \n...                                                  ...       ...   \n17945                              Carry On - Radio Edit     False   \n17946                          As The... (feat. Passion)      True   \n17947                              Condition Of My Heart     False   \n17948  La Fuerza De Mi Corazon - (Tema Principal de l...     False   \n17949             Tonight I Propose (feat. Ray Fauntroy)     False   \n\n       popularity release_date  \n0               6   2012-01-01  \n1               7   2008-01-01  \n2              16   2008-01-01  \n3               8   2008-01-01  \n4               7   2008-01-01  \n...           ...          ...  \n17945           8   2013-01-01  \n17946          18   1996-04-23  \n17947          12   2004-01-01  \n17948          41   2003-01-01  \n17949           1   2007-01-01  \n\n[17950 rows x 10 columns]",
      "text/html": "<div>\n<style scoped>\n    .dataframe tbody tr th:only-of-type {\n        vertical-align: middle;\n    }\n\n    .dataframe tbody tr th {\n        vertical-align: top;\n    }\n\n    .dataframe thead th {\n        text-align: right;\n    }\n</style>\n<table border=\"1\" class=\"dataframe\">\n  <thead>\n    <tr style=\"text-align: right;\">\n      <th></th>\n      <th>Source</th>\n      <th>Target</th>\n      <th>lable1</th>\n      <th>lable2</th>\n      <th>weight</th>\n      <th>song_id</th>\n      <th>song_name</th>\n      <th>explicit</th>\n      <th>popularity</th>\n      <th>release_date</th>\n    </tr>\n  </thead>\n  <tbody>\n    <tr>\n      <th>0</th>\n      <td>0icv9Zo6gk3OECRuh8buZu</td>\n      <td>1c22GXH30ijlOfXhfLz9Df</td>\n      <td>Elvis Crespo</td>\n      <td>Cata</td>\n      <td>6</td>\n      <td>7GlxN186faFXw1aDYWq2rH</td>\n      <td>Contigo o Conmigo</td>\n      <td>False</td>\n      <td>6</td>\n      <td>2012-01-01</td>\n    </tr>\n    <tr>\n      <th>1</th>\n      <td>4b9L0p4cMof32XvjwT9YrX</td>\n      <td>1pcSFb5xlakeJikdeR7Lug</td>\n      <td>Tommy Lee</td>\n      <td>Dirty Harry</td>\n      <td>2</td>\n      <td>1GrBpoSTwXI4zg9NxsTuAp</td>\n      <td>Makin Me Crazy</td>\n      <td>False</td>\n      <td>7</td>\n      <td>2008-01-01</td>\n    </tr>\n    <tr>\n      <th>2</th>\n      <td>4b9L0p4cMof32XvjwT9YrX</td>\n      <td>716ZwtZBmwROBXcFmCzfdM</td>\n      <td>Tommy Lee</td>\n      <td>Andrew McMahon in the Wilderness</td>\n      <td>4</td>\n      <td>4jX2p3EgqfAwrTud2nJlel</td>\n      <td>I Need You</td>\n      <td>False</td>\n      <td>16</td>\n      <td>2008-01-01</td>\n    </tr>\n    <tr>\n      <th>3</th>\n      <td>4b9L0p4cMof32XvjwT9YrX</td>\n      <td>1Mj01W9PVDoVh7uXqkX0Kj</td>\n      <td>Tommy Lee</td>\n      <td>Joel Madden</td>\n      <td>2</td>\n      <td>3lAcH44GOxxDoBBX8kM7II</td>\n      <td>Tired</td>\n      <td>False</td>\n      <td>8</td>\n      <td>2008-01-01</td>\n    </tr>\n    <tr>\n      <th>4</th>\n      <td>4b9L0p4cMof32XvjwT9YrX</td>\n      <td>2xNDraF1pQYbBrSe93h07j</td>\n      <td>Tommy Lee</td>\n      <td>Carl Bell</td>\n      <td>2</td>\n      <td>43bhmZmyPVjmx1gPUxM4up</td>\n      <td>Sister Mary</td>\n      <td>False</td>\n      <td>7</td>\n      <td>2008-01-01</td>\n    </tr>\n    <tr>\n      <th>...</th>\n      <td>...</td>\n      <td>...</td>\n      <td>...</td>\n      <td>...</td>\n      <td>...</td>\n      <td>...</td>\n      <td>...</td>\n      <td>...</td>\n      <td>...</td>\n      <td>...</td>\n    </tr>\n    <tr>\n      <th>17945</th>\n      <td>5xtqw2B8z8JGfDYi2eAZHI</td>\n      <td>6tJ92cmMpfaJBfwiw34UrB</td>\n      <td>Johnny Gerontakis</td>\n      <td>Sonique</td>\n      <td>4</td>\n      <td>4MvEEZ936lEhGJr7lgZ1oL</td>\n      <td>Carry On - Radio Edit</td>\n      <td>False</td>\n      <td>8</td>\n      <td>2013-01-01</td>\n    </tr>\n    <tr>\n      <th>17946</th>\n      <td>5YgczGESVzCXzvQN5E6n84</td>\n      <td>2VX0o9LDIVmKIgpnwdJpOJ</td>\n      <td>Erick Sermon</td>\n      <td>Passion</td>\n      <td>2</td>\n      <td>3qwGs8HGWddF3QnF2x3WWj</td>\n      <td>As The... (feat. Passion)</td>\n      <td>True</td>\n      <td>18</td>\n      <td>1996-04-23</td>\n    </tr>\n    <tr>\n      <th>17947</th>\n      <td>19dyJWLCu4CSuTgZN1l9Zn</td>\n      <td>3bhckpkRmz8mqONUceSutp</td>\n      <td>Gerald Albright</td>\n      <td>Shawn Stockman</td>\n      <td>2</td>\n      <td>00SmszRXKTGZVmWFVcKxSX</td>\n      <td>Condition Of My Heart</td>\n      <td>False</td>\n      <td>12</td>\n      <td>2004-01-01</td>\n    </tr>\n    <tr>\n      <th>17948</th>\n      <td>4V8Sr092TqfHkfAA5fXXqG</td>\n      <td>00taSe6u4o0o7AqwErRhhM</td>\n      <td>Luis Fonsi</td>\n      <td>Christina Valemi</td>\n      <td>2</td>\n      <td>1QTa6zNhAzzDWFa7CAVZ1m</td>\n      <td>La Fuerza De Mi Corazon - (Tema Principal de l...</td>\n      <td>False</td>\n      <td>41</td>\n      <td>2003-01-01</td>\n    </tr>\n    <tr>\n      <th>17949</th>\n      <td>2hPitPTc41qpjbWatSNl6y</td>\n      <td>1SJCbTPSCAvnBzFAt8hLCb</td>\n      <td>Revelation Seed</td>\n      <td>Ray Fauntroy</td>\n      <td>2</td>\n      <td>1xCvDhYlEkHMoEWh3D5gDE</td>\n      <td>Tonight I Propose (feat. Ray Fauntroy)</td>\n      <td>False</td>\n      <td>1</td>\n      <td>2007-01-01</td>\n    </tr>\n  </tbody>\n</table>\n<p>17950 rows × 10 columns</p>\n</div>"
     },
     "execution_count": 12,
     "metadata": {},
     "output_type": "execute_result"
    }
   ],
   "source": [
    "# Extract edges and their attributes from the graph\n",
    "edges_with_attributes = [(u, v, G.edges[u, v]) for u, v in G.edges()]\n",
    "\n",
    "# Create a DataFrame from the edges and their attributes\n",
    "df_edges_train = pd.DataFrame(edges_with_attributes, columns=['Source', 'Target', 'Attributes'])\n",
    "\n",
    "# Normalize the 'Attributes' column to expand it into separate columns\n",
    "df_edge_attributes = pd.json_normalize(df_edges_train['Attributes'])\n",
    "\n",
    "# Combine the original 'Attributes' column with the expanded attributes\n",
    "df_edges_train = pd.concat([df_edges_train[['Source', 'Target']], df_edge_attributes], axis=1)\n",
    "df_edges_train"
   ],
   "metadata": {
    "collapsed": false,
    "ExecuteTime": {
     "end_time": "2024-04-22T12:06:43.273629300Z",
     "start_time": "2024-04-22T12:06:43.136627400Z"
    }
   },
   "id": "b94ca6391b6c88f8"
  },
  {
   "cell_type": "code",
   "execution_count": 13,
   "outputs": [],
   "source": [
    "# Save edge DataFrame to CSV\n",
    "df_edges_train.to_csv('network_created/edges_real_train.csv', sep='\\t', index=False)"
   ],
   "metadata": {
    "collapsed": false,
    "ExecuteTime": {
     "end_time": "2024-04-22T12:06:43.368631200Z",
     "start_time": "2024-04-22T12:06:43.276631300Z"
    }
   },
   "id": "8cf334b81ab892a9"
  },
  {
   "cell_type": "code",
   "execution_count": 14,
   "outputs": [
    {
     "name": "stdout",
     "output_type": "stream",
     "text": [
      "Number of nodes: 18551\n",
      "Number of edges: 17950\n"
     ]
    }
   ],
   "source": [
    "num_nodes = G.number_of_nodes()\n",
    "num_edges = G.number_of_edges()\n",
    "print(\"Number of nodes:\", num_nodes)\n",
    "print(\"Number of edges:\", num_edges)\n"
   ],
   "metadata": {
    "collapsed": false,
    "ExecuteTime": {
     "end_time": "2024-04-22T12:06:43.398628400Z",
     "start_time": "2024-04-22T12:06:43.380626900Z"
    }
   },
   "id": "ed2d73175e8f4ff7"
  },
  {
   "cell_type": "code",
   "execution_count": 15,
   "outputs": [
    {
     "name": "stdout",
     "output_type": "stream",
     "text": [
      "amount of artists: 13209\n"
     ]
    },
    {
     "data": {
      "text/plain": "                    artist_id          artist_name\n0      5gLIbkXGeoJh0bzeEmvG2n           Underwater\n1      1N477jyVWGcvVoRnvOePue     Gustavo Coutinho\n2      3BL7Z4GDZQOEnlETaPYV93    Orgel Sound J-pop\n3      3OpJxAHfT0KsJzQqdX5SLb         Ginger Tunes\n4      59n7uqUFv9tprlcVU9CoXL    Jive Ass Sleepers\n...                       ...                  ...\n13204  69Mj3u4FTUrpyeGNSIaU6F    The J. Geils Band\n13205  6piiChdjB4mmBVvOs7rWco  The Hollywood Stars\n13206  3lJ6jvOiNY46L2juqXufpf       Changing Faces\n13207  6JjTnHt1P7gQXlcFDoI4IC            Jellybean\n13208  1Ve5PoI7i5jIIP1xudo6AB      The Parliaments\n\n[13209 rows x 2 columns]",
      "text/html": "<div>\n<style scoped>\n    .dataframe tbody tr th:only-of-type {\n        vertical-align: middle;\n    }\n\n    .dataframe tbody tr th {\n        vertical-align: top;\n    }\n\n    .dataframe thead th {\n        text-align: right;\n    }\n</style>\n<table border=\"1\" class=\"dataframe\">\n  <thead>\n    <tr style=\"text-align: right;\">\n      <th></th>\n      <th>artist_id</th>\n      <th>artist_name</th>\n    </tr>\n  </thead>\n  <tbody>\n    <tr>\n      <th>0</th>\n      <td>5gLIbkXGeoJh0bzeEmvG2n</td>\n      <td>Underwater</td>\n    </tr>\n    <tr>\n      <th>1</th>\n      <td>1N477jyVWGcvVoRnvOePue</td>\n      <td>Gustavo Coutinho</td>\n    </tr>\n    <tr>\n      <th>2</th>\n      <td>3BL7Z4GDZQOEnlETaPYV93</td>\n      <td>Orgel Sound J-pop</td>\n    </tr>\n    <tr>\n      <th>3</th>\n      <td>3OpJxAHfT0KsJzQqdX5SLb</td>\n      <td>Ginger Tunes</td>\n    </tr>\n    <tr>\n      <th>4</th>\n      <td>59n7uqUFv9tprlcVU9CoXL</td>\n      <td>Jive Ass Sleepers</td>\n    </tr>\n    <tr>\n      <th>...</th>\n      <td>...</td>\n      <td>...</td>\n    </tr>\n    <tr>\n      <th>13204</th>\n      <td>69Mj3u4FTUrpyeGNSIaU6F</td>\n      <td>The J. Geils Band</td>\n    </tr>\n    <tr>\n      <th>13205</th>\n      <td>6piiChdjB4mmBVvOs7rWco</td>\n      <td>The Hollywood Stars</td>\n    </tr>\n    <tr>\n      <th>13206</th>\n      <td>3lJ6jvOiNY46L2juqXufpf</td>\n      <td>Changing Faces</td>\n    </tr>\n    <tr>\n      <th>13207</th>\n      <td>6JjTnHt1P7gQXlcFDoI4IC</td>\n      <td>Jellybean</td>\n    </tr>\n    <tr>\n      <th>13208</th>\n      <td>1Ve5PoI7i5jIIP1xudo6AB</td>\n      <td>The Parliaments</td>\n    </tr>\n  </tbody>\n</table>\n<p>13209 rows × 2 columns</p>\n</div>"
     },
     "execution_count": 15,
     "metadata": {},
     "output_type": "execute_result"
    }
   ],
   "source": [
    "# Specify the columns\n",
    "columns = ['artist_id', 'artist_name']\n",
    "\n",
    "# Initialize an empty DataFrame\n",
    "df_artists_test = pd.DataFrame(columns={col: [] for col in columns})\n",
    "\n",
    "count = 0\n",
    "artist_set = set()\n",
    "\n",
    "for _, row in test_df.iterrows():\n",
    "    current_artist_id_list = eval(row[\"id_artists\"])\n",
    "    current_artist_name_list = eval(row[\"name_artists\"])\n",
    "    for cur_art_id, cur_art_name in zip(current_artist_id_list, current_artist_name_list):\n",
    "        if cur_art_id not in artist_set:\n",
    "            artist_set.add(cur_art_id)\n",
    "            df_artists_test.loc[len(df_artists_test)] = [cur_art_id, cur_art_name]\n",
    "            count += 1\n",
    "\n",
    "print(\"amount of artists:\", count)\n",
    "df_artists_test"
   ],
   "metadata": {
    "collapsed": false,
    "ExecuteTime": {
     "end_time": "2024-04-22T12:07:07.491659500Z",
     "start_time": "2024-04-22T12:06:43.386629Z"
    }
   },
   "id": "debfdb478f00e0a8"
  },
  {
   "cell_type": "code",
   "execution_count": 16,
   "outputs": [],
   "source": [
    "import networkx as nx\n",
    "\n",
    "all_artist_ids = artist_set.copy()\n",
    "\n",
    "G2 = nx.Graph()\n",
    "\n",
    "for id_art_cur in all_artist_ids:\n",
    "    artist_name = df_artists_test[(df_artists_test[\"artist_id\"] == id_art_cur)][\"artist_name\"]\n",
    "    artist_info = df_artists_test[df_artists_test[\"artist_id\"] == id_art_cur]\n",
    "    if not artist_info.empty:  # Check if artist info exists\n",
    "        # Filter out artists who are not successful\n",
    "        node_attrs = {\"name\": artist_name.iloc[0]}\n",
    "        G2.add_node(id_art_cur, **node_attrs)\n",
    "    else:\n",
    "        print(\"Artist info not found for ID:\", id_art_cur)\n",
    "\n",
    "for _, row in test_df.iterrows():\n",
    "    artist_ids = list(eval(row[\"id_artists\"]))\n",
    "    artist_names = list(eval(row[\"name_artists\"]))\n",
    "    # Filter out songs that do not have more than one artist in their execution\n",
    "    if len(artist_ids) > 1:\n",
    "        for i in range(len(artist_ids)):\n",
    "            for j in range(i+1, len(artist_ids)):\n",
    "                artist_id_1 = str(artist_ids[i])\n",
    "                lable1 = str(artist_names[i])\n",
    "                artist_id_2 = str(artist_ids[j])\n",
    "                lable2 = str(artist_names[j])\n",
    "                # Check if the edge already exists\n",
    "                if G2.has_edge(artist_id_1, artist_id_2):\n",
    "                    # If the edge already exists, increment the weight by 1\n",
    "                    G2[artist_id_1][artist_id_2]['weight'] += 2\n",
    "                else:\n",
    "                    # Add a new edge with weight 1\n",
    "                    G2.add_edge(artist_id_1, artist_id_2, lable1=lable1, lable2=lable2, weight=2, song_id=str(row[\"song_id\"]), song_name=str(row[\"song_name\"]), explicit=bool(row[\"explicit\"]), popularity=int(row[\"popularity\"]), release_date=str(row[\"release_date\"]))"
   ],
   "metadata": {
    "collapsed": false,
    "ExecuteTime": {
     "end_time": "2024-04-22T12:07:44.668685100Z",
     "start_time": "2024-04-22T12:07:07.528662200Z"
    }
   },
   "id": "fe0fb448adf18ca8"
  },
  {
   "cell_type": "code",
   "execution_count": 17,
   "outputs": [
    {
     "data": {
      "text/plain": "                   name              Spotify ID\n0                 May D  7ahfCquNK3ReYc2UHhugs5\n1        Wellness Media  7arYjaQDrgZjBngdOEr0Ht\n2      Alexander Simone  0xoQgelIsY2PJXhJjMl0vu\n3            Tokyo Jetz  3KT0gxRAAb4WbAfOGMq4Lf\n4            Sam Carter  5LsAb9dJR1xVbUdHSLUwaH\n...                 ...                     ...\n13204           Tatiana  41afDgAYLuPgxrh1idDJsD\n13205            Louane  7wjeXCtRND2ZdKfMJFu6JC\n13206          Tray Dee  0bqBpcIABLyrGD6e6llQ1S\n13207   Gerald Albright  3bhckpkRmz8mqONUceSutp\n13208    Bobby Caldwell  4V4Z3qMCwYofWHtip6ePF6\n\n[13209 rows x 2 columns]",
      "text/html": "<div>\n<style scoped>\n    .dataframe tbody tr th:only-of-type {\n        vertical-align: middle;\n    }\n\n    .dataframe tbody tr th {\n        vertical-align: top;\n    }\n\n    .dataframe thead th {\n        text-align: right;\n    }\n</style>\n<table border=\"1\" class=\"dataframe\">\n  <thead>\n    <tr style=\"text-align: right;\">\n      <th></th>\n      <th>name</th>\n      <th>Spotify ID</th>\n    </tr>\n  </thead>\n  <tbody>\n    <tr>\n      <th>0</th>\n      <td>May D</td>\n      <td>7ahfCquNK3ReYc2UHhugs5</td>\n    </tr>\n    <tr>\n      <th>1</th>\n      <td>Wellness Media</td>\n      <td>7arYjaQDrgZjBngdOEr0Ht</td>\n    </tr>\n    <tr>\n      <th>2</th>\n      <td>Alexander Simone</td>\n      <td>0xoQgelIsY2PJXhJjMl0vu</td>\n    </tr>\n    <tr>\n      <th>3</th>\n      <td>Tokyo Jetz</td>\n      <td>3KT0gxRAAb4WbAfOGMq4Lf</td>\n    </tr>\n    <tr>\n      <th>4</th>\n      <td>Sam Carter</td>\n      <td>5LsAb9dJR1xVbUdHSLUwaH</td>\n    </tr>\n    <tr>\n      <th>...</th>\n      <td>...</td>\n      <td>...</td>\n    </tr>\n    <tr>\n      <th>13204</th>\n      <td>Tatiana</td>\n      <td>41afDgAYLuPgxrh1idDJsD</td>\n    </tr>\n    <tr>\n      <th>13205</th>\n      <td>Louane</td>\n      <td>7wjeXCtRND2ZdKfMJFu6JC</td>\n    </tr>\n    <tr>\n      <th>13206</th>\n      <td>Tray Dee</td>\n      <td>0bqBpcIABLyrGD6e6llQ1S</td>\n    </tr>\n    <tr>\n      <th>13207</th>\n      <td>Gerald Albright</td>\n      <td>3bhckpkRmz8mqONUceSutp</td>\n    </tr>\n    <tr>\n      <th>13208</th>\n      <td>Bobby Caldwell</td>\n      <td>4V4Z3qMCwYofWHtip6ePF6</td>\n    </tr>\n  </tbody>\n</table>\n<p>13209 rows × 2 columns</p>\n</div>"
     },
     "execution_count": 17,
     "metadata": {},
     "output_type": "execute_result"
    }
   ],
   "source": [
    "# Assuming G is your NetworkX graph\n",
    "\n",
    "# Extract nodes and their attributes from the graph\n",
    "nodes_with_attributes = [(G2.nodes[node], node) for node in G2.nodes()]\n",
    "\n",
    "# Create a DataFrame from the nodes and their attributes\n",
    "df_nodes_test = pd.DataFrame(nodes_with_attributes, columns=['Attributes', \"Spotify ID\"])\n",
    "\n",
    "# Normalize the 'Attributes' column to expand it into separate columns\n",
    "df_attributes = pd.json_normalize(df_nodes_test['Attributes'])\n",
    "\n",
    "# Combine the original 'Node' column with the expanded attributes\n",
    "df_nodes_test = pd.concat([df_attributes, df_nodes_test['Spotify ID']], axis=1)\n",
    "\n",
    "# Display the DataFrame\n",
    "df_nodes_test"
   ],
   "metadata": {
    "collapsed": false,
    "ExecuteTime": {
     "end_time": "2024-04-22T12:07:44.731685600Z",
     "start_time": "2024-04-22T12:07:44.680685800Z"
    }
   },
   "id": "4b5d80bd0f928513"
  },
  {
   "cell_type": "code",
   "execution_count": 18,
   "outputs": [],
   "source": [
    "df_nodes_test.to_csv(\"network_created/nodes_real_test.csv\", sep='\\t', index=False)"
   ],
   "metadata": {
    "collapsed": false,
    "ExecuteTime": {
     "end_time": "2024-04-22T12:07:44.810095Z",
     "start_time": "2024-04-22T12:07:44.733684900Z"
    }
   },
   "id": "eeab99250e649d7a"
  },
  {
   "cell_type": "code",
   "execution_count": 19,
   "outputs": [
    {
     "data": {
      "text/plain": "                       Source                  Target            lable1  \\\n0      7ahfCquNK3ReYc2UHhugs5  3tVQdUvClmAT7URs9V3rsp             May D   \n1      0xoQgelIsY2PJXhJjMl0vu  0NnCgUxhtWt1yBtpDyvFQf       Black Sheep   \n2      3KT0gxRAAb4WbAfOGMq4Lf  7kwCkEJ384PWm0UQW3hxjS       Yella Beezy   \n3      3KT0gxRAAb4WbAfOGMq4Lf  3jksrX4oBklxR78ft8gv3j             Plies   \n4      5LsAb9dJR1xVbUdHSLUwaH  5aYyPjAsLj7UzANzdupwnS    Good Charlotte   \n...                       ...                     ...               ...   \n11207  4hSGrfIm5xRloHXESKxrFd  6FSPtX0KVknNre0LoTyBZO       Richie Rich   \n11208  3ZQgUAiFQFgcM2ZLmqIZO4  4x5VVAa5DjM9lQHcT6OBPS               Ray   \n11209  4uTfLGrlhiLvZOuYLHQRJ7  0oGOUVzYlcCWFLHgBrSblE  Bobby D'Ambrosio   \n11210  2ysnwxxNtSgbb9t1m2Ur4j  4ehtJnVumNf6xzSCDk8aLB       George Ezra   \n11211  6LvbiOyZ8aOUWZ3isV32uB  4x5VVAa5DjM9lQHcT6OBPS             Tak-Z   \n\n                 lable2  weight                 song_id  \\\n0                WizKid       2  1KLHt5rs2y4K4448LXoCAD   \n1      Alexander Simone       4  1Ve5WbhPIltifD5xb2doLe   \n2            Tokyo Jetz       2  02P55QN8PfzXnAK92rhM8I   \n3            Tokyo Jetz       2  3FFJ3SuXR3k9ge6qcrQQ3x   \n4            Sam Carter       2  3ip04KfkEJ7hsAa2no8SYt   \n...                 ...     ...                     ...   \n11207               X10       2  3NrT86RzJk8rvQ1ZUw3wy2   \n11208     Noelle Miller       2  0GP0XJxjqKUYldoxLdLJsA   \n11209    Bettina Pennon       2  681H0MeqZwTUyJmmiuXHmX   \n11210     Martin Jensen       2  4jin3VK3FfPc7l3LFLxt0e   \n11211               Ray       2  7if3UfZREW1fXimt4SW5y3   \n\n                                               song_name  explicit  \\\n0                                                 Bamilo     False   \n1                 Ride the Wave (feat. Alexander Simone)     False   \n2                       What You Want (feat. Tokyo Jetz)      True   \n3                I Know When You Lyin (feat. Tokyo Jetz)      True   \n4                               Leech (feat. Sam Carter)     False   \n...                                                  ...       ...   \n11207                                           Big Drip     False   \n11208                                             All In     False   \n11209  Hark The Herald Angels Sing/Gloria - Original Mix     False   \n11210                 Hold My Girl - Martin Jensen Remix     False   \n11211                                             Raizop     False   \n\n       popularity release_date  \n0              18   2016-07-18  \n1               6   2018-08-10  \n2              31   2018-11-16  \n3              39   2019-05-10  \n4              38   2018-09-14  \n...           ...          ...  \n11207           0   2019-02-21  \n11208           0   2019-01-29  \n11209           0   2016-12-09  \n11210          57   2018-11-23  \n11211           0   2016-04-27  \n\n[11212 rows x 10 columns]",
      "text/html": "<div>\n<style scoped>\n    .dataframe tbody tr th:only-of-type {\n        vertical-align: middle;\n    }\n\n    .dataframe tbody tr th {\n        vertical-align: top;\n    }\n\n    .dataframe thead th {\n        text-align: right;\n    }\n</style>\n<table border=\"1\" class=\"dataframe\">\n  <thead>\n    <tr style=\"text-align: right;\">\n      <th></th>\n      <th>Source</th>\n      <th>Target</th>\n      <th>lable1</th>\n      <th>lable2</th>\n      <th>weight</th>\n      <th>song_id</th>\n      <th>song_name</th>\n      <th>explicit</th>\n      <th>popularity</th>\n      <th>release_date</th>\n    </tr>\n  </thead>\n  <tbody>\n    <tr>\n      <th>0</th>\n      <td>7ahfCquNK3ReYc2UHhugs5</td>\n      <td>3tVQdUvClmAT7URs9V3rsp</td>\n      <td>May D</td>\n      <td>WizKid</td>\n      <td>2</td>\n      <td>1KLHt5rs2y4K4448LXoCAD</td>\n      <td>Bamilo</td>\n      <td>False</td>\n      <td>18</td>\n      <td>2016-07-18</td>\n    </tr>\n    <tr>\n      <th>1</th>\n      <td>0xoQgelIsY2PJXhJjMl0vu</td>\n      <td>0NnCgUxhtWt1yBtpDyvFQf</td>\n      <td>Black Sheep</td>\n      <td>Alexander Simone</td>\n      <td>4</td>\n      <td>1Ve5WbhPIltifD5xb2doLe</td>\n      <td>Ride the Wave (feat. Alexander Simone)</td>\n      <td>False</td>\n      <td>6</td>\n      <td>2018-08-10</td>\n    </tr>\n    <tr>\n      <th>2</th>\n      <td>3KT0gxRAAb4WbAfOGMq4Lf</td>\n      <td>7kwCkEJ384PWm0UQW3hxjS</td>\n      <td>Yella Beezy</td>\n      <td>Tokyo Jetz</td>\n      <td>2</td>\n      <td>02P55QN8PfzXnAK92rhM8I</td>\n      <td>What You Want (feat. Tokyo Jetz)</td>\n      <td>True</td>\n      <td>31</td>\n      <td>2018-11-16</td>\n    </tr>\n    <tr>\n      <th>3</th>\n      <td>3KT0gxRAAb4WbAfOGMq4Lf</td>\n      <td>3jksrX4oBklxR78ft8gv3j</td>\n      <td>Plies</td>\n      <td>Tokyo Jetz</td>\n      <td>2</td>\n      <td>3FFJ3SuXR3k9ge6qcrQQ3x</td>\n      <td>I Know When You Lyin (feat. Tokyo Jetz)</td>\n      <td>True</td>\n      <td>39</td>\n      <td>2019-05-10</td>\n    </tr>\n    <tr>\n      <th>4</th>\n      <td>5LsAb9dJR1xVbUdHSLUwaH</td>\n      <td>5aYyPjAsLj7UzANzdupwnS</td>\n      <td>Good Charlotte</td>\n      <td>Sam Carter</td>\n      <td>2</td>\n      <td>3ip04KfkEJ7hsAa2no8SYt</td>\n      <td>Leech (feat. Sam Carter)</td>\n      <td>False</td>\n      <td>38</td>\n      <td>2018-09-14</td>\n    </tr>\n    <tr>\n      <th>...</th>\n      <td>...</td>\n      <td>...</td>\n      <td>...</td>\n      <td>...</td>\n      <td>...</td>\n      <td>...</td>\n      <td>...</td>\n      <td>...</td>\n      <td>...</td>\n      <td>...</td>\n    </tr>\n    <tr>\n      <th>11207</th>\n      <td>4hSGrfIm5xRloHXESKxrFd</td>\n      <td>6FSPtX0KVknNre0LoTyBZO</td>\n      <td>Richie Rich</td>\n      <td>X10</td>\n      <td>2</td>\n      <td>3NrT86RzJk8rvQ1ZUw3wy2</td>\n      <td>Big Drip</td>\n      <td>False</td>\n      <td>0</td>\n      <td>2019-02-21</td>\n    </tr>\n    <tr>\n      <th>11208</th>\n      <td>3ZQgUAiFQFgcM2ZLmqIZO4</td>\n      <td>4x5VVAa5DjM9lQHcT6OBPS</td>\n      <td>Ray</td>\n      <td>Noelle Miller</td>\n      <td>2</td>\n      <td>0GP0XJxjqKUYldoxLdLJsA</td>\n      <td>All In</td>\n      <td>False</td>\n      <td>0</td>\n      <td>2019-01-29</td>\n    </tr>\n    <tr>\n      <th>11209</th>\n      <td>4uTfLGrlhiLvZOuYLHQRJ7</td>\n      <td>0oGOUVzYlcCWFLHgBrSblE</td>\n      <td>Bobby D'Ambrosio</td>\n      <td>Bettina Pennon</td>\n      <td>2</td>\n      <td>681H0MeqZwTUyJmmiuXHmX</td>\n      <td>Hark The Herald Angels Sing/Gloria - Original Mix</td>\n      <td>False</td>\n      <td>0</td>\n      <td>2016-12-09</td>\n    </tr>\n    <tr>\n      <th>11210</th>\n      <td>2ysnwxxNtSgbb9t1m2Ur4j</td>\n      <td>4ehtJnVumNf6xzSCDk8aLB</td>\n      <td>George Ezra</td>\n      <td>Martin Jensen</td>\n      <td>2</td>\n      <td>4jin3VK3FfPc7l3LFLxt0e</td>\n      <td>Hold My Girl - Martin Jensen Remix</td>\n      <td>False</td>\n      <td>57</td>\n      <td>2018-11-23</td>\n    </tr>\n    <tr>\n      <th>11211</th>\n      <td>6LvbiOyZ8aOUWZ3isV32uB</td>\n      <td>4x5VVAa5DjM9lQHcT6OBPS</td>\n      <td>Tak-Z</td>\n      <td>Ray</td>\n      <td>2</td>\n      <td>7if3UfZREW1fXimt4SW5y3</td>\n      <td>Raizop</td>\n      <td>False</td>\n      <td>0</td>\n      <td>2016-04-27</td>\n    </tr>\n  </tbody>\n</table>\n<p>11212 rows × 10 columns</p>\n</div>"
     },
     "execution_count": 19,
     "metadata": {},
     "output_type": "execute_result"
    }
   ],
   "source": [
    "# Extract edges and their attributes from the graph\n",
    "edges_with_attributes = [(u, v, G2.edges[u, v]) for u, v in G2.edges()]\n",
    "\n",
    "# Create a DataFrame from the edges and their attributes\n",
    "df_edges_test = pd.DataFrame(edges_with_attributes, columns=['Source', 'Target', 'Attributes'])\n",
    "\n",
    "# Normalize the 'Attributes' column to expand it into separate columns\n",
    "df_edge_attributes = pd.json_normalize(df_edges_test['Attributes'])\n",
    "\n",
    "# Combine the original 'Attributes' column with the expanded attributes\n",
    "df_edges_test = pd.concat([df_edges_test[['Source', 'Target']], df_edge_attributes], axis=1)\n",
    "df_edges_test"
   ],
   "metadata": {
    "collapsed": false,
    "ExecuteTime": {
     "end_time": "2024-04-22T12:07:44.872093600Z",
     "start_time": "2024-04-22T12:07:44.765096400Z"
    }
   },
   "id": "2e6324973210ec7e"
  },
  {
   "cell_type": "code",
   "execution_count": 20,
   "outputs": [],
   "source": [
    "# Save edge DataFrame to CSV\n",
    "df_edges_test.to_csv('network_created/edges_real_test.csv', sep='\\t', index=False)"
   ],
   "metadata": {
    "collapsed": false,
    "ExecuteTime": {
     "end_time": "2024-04-22T12:07:44.971095100Z",
     "start_time": "2024-04-22T12:07:44.872093600Z"
    }
   },
   "id": "b2a4471b27c98a30"
  },
  {
   "cell_type": "code",
   "execution_count": 21,
   "outputs": [
    {
     "name": "stdout",
     "output_type": "stream",
     "text": [
      "Number of nodes: 13209\n",
      "Number of edges: 11212\n"
     ]
    }
   ],
   "source": [
    "num_nodes = G2.number_of_nodes()\n",
    "num_edges = G2.number_of_edges()\n",
    "print(\"Number of nodes:\", num_nodes)\n",
    "print(\"Number of edges:\", num_edges)\n"
   ],
   "metadata": {
    "collapsed": false,
    "ExecuteTime": {
     "end_time": "2024-04-22T12:07:44.973095700Z",
     "start_time": "2024-04-22T12:07:44.936093100Z"
    }
   },
   "id": "b6287a821fd97ef0"
  },
  {
   "cell_type": "code",
   "execution_count": 22,
   "outputs": [
    {
     "data": {
      "text/plain": "                       song_id  \\\n804676  7kXUEJmfvRXbzxOC0pHQgb   \n465447  1xdRFXv3ytSOdj8GuT3Rge   \n465446  5wlQIBbKIWoB7AnSw09C6C   \n377956  40uHAEjua1YmyKIJ6k0iVa   \n465445  2zmMWWgwCXYarkO2SbyPZP   \n...                        ...   \n677962  45oru9CcsrV3EWBMl1Wflg   \n819520  5AZQNFCdxA3W1nssrtu4Yr   \n678026  0gvKPCmhJzXa4YgptrNvI4   \n819519  5FDxZkCXwOOO0CQP3zQUBL   \n819518  3m3CVlgUzXQaFkXdMPV3nI   \n\n                                              song_name  \\\n804676                   I Can't Believe I'm Losing You   \n465447                       Thank You Lord (Interlude)   \n465446                                    All This Love   \n377956                                         Bo Bo Wa   \n465445                                        Come Over   \n...                                                 ...   \n677962                                      Angels Moon   \n819520       能登半島 Originally Performed By 石川さゆり (オルゴール)   \n678026                                      Up the Hill   \n819519  浪花恋しぐれ Originally Performed By 都はるみ・岡千秋 (オルゴール)   \n819518      バス・ストップ Originally Performed By 平浩二 (オルゴール)   \n\n                        id_artists           name_artists  popularity  \\\n804676  ['6eVCRmRG2HcfL4yx77A9WK']         ['Jack Jones']           5   \n465447  ['5NDMothbpdpq2xHqSjrrWn']        ['Faith Evans']          20   \n465446  ['5NDMothbpdpq2xHqSjrrWn']        ['Faith Evans']          26   \n377956  ['3z6Uf5IZkN4TogRpRpgD84']        ['Gary Wright']           0   \n465445  ['5NDMothbpdpq2xHqSjrrWn']        ['Faith Evans']          38   \n...                            ...                    ...         ...   \n677962  ['7FQ8wLlE6kd6EBtexh0FAD']  ['Richy Kicklighter']           0   \n819520  ['3BL7Z4GDZQOEnlETaPYV93']  ['Orgel Sound J-pop']           0   \n678026  ['3FRfnhYD8uu3k8Dml7C7Wy']        ['Jason Meeks']           0   \n819519  ['3BL7Z4GDZQOEnlETaPYV93']  ['Orgel Sound J-pop']           0   \n819518  ['3BL7Z4GDZQOEnlETaPYV93']  ['Orgel Sound J-pop']           1   \n\n        explicit song_type  track_number  num_artists  num_available_markets  \\\n804676     False      Solo            12            1                     79   \n465447     False      Solo            10            1                     77   \n465446     False      Solo             9            1                     77   \n377956     False      Solo             8            1                     79   \n465445     False      Solo             7            1                     77   \n...          ...       ...           ...          ...                    ...   \n677962     False      Solo             6            1                     79   \n819520     False      Solo             7            1                     79   \n678026     False      Solo            30            1                     79   \n819519     False      Solo             6            1                     79   \n819518     False      Solo             5            1                     79   \n\n        ... danceability  energy  instrumentalness  liveness  loudness  \\\n804676  ...        0.180   0.369          0.000000    0.1500    -9.797   \n465447  ...        0.370   0.284          0.000000    0.5580   -14.443   \n465446  ...        0.605   0.604          0.000153    0.0693    -9.214   \n377956  ...        0.481   0.652          0.008670    0.0397   -10.981   \n465445  ...        0.534   0.563          0.000001    0.5740    -8.975   \n...     ...          ...     ...               ...       ...       ...   \n677962  ...        0.580   0.480          0.907000    0.1100   -17.467   \n819520  ...        0.434   0.498          0.923000    0.1310   -10.614   \n678026  ...        0.813   0.645          0.826000    0.0773   -10.449   \n819519  ...        0.616   0.443          0.909000    0.0893    -9.730   \n819518  ...        0.707   0.495          0.816000    0.1030    -9.147   \n\n        speechiness  valence    tempo  hit       date  \n804676       0.0299   0.2240   81.701    0 1995-01-01  \n465447       0.0378   0.6490  130.985    0 1995-01-01  \n465446       0.0480   0.5030  145.483    0 1995-01-01  \n377956       0.0364   0.7950  195.791    0 1995-01-01  \n465445       0.0601   0.4140  124.149    0 1995-01-01  \n...             ...      ...      ...  ...        ...  \n677962       0.0317   0.6960  113.312    0 2015-08-19  \n819520       0.0572   0.0688  119.961    0 2015-08-19  \n678026       0.1390   0.4040  120.051    0 2015-08-19  \n819519       0.0504   0.1430  140.022    0 2015-08-19  \n819518       0.0560   0.1040  112.553    0 2015-08-19  \n\n[683270 rows x 26 columns]",
      "text/html": "<div>\n<style scoped>\n    .dataframe tbody tr th:only-of-type {\n        vertical-align: middle;\n    }\n\n    .dataframe tbody tr th {\n        vertical-align: top;\n    }\n\n    .dataframe thead th {\n        text-align: right;\n    }\n</style>\n<table border=\"1\" class=\"dataframe\">\n  <thead>\n    <tr style=\"text-align: right;\">\n      <th></th>\n      <th>song_id</th>\n      <th>song_name</th>\n      <th>id_artists</th>\n      <th>name_artists</th>\n      <th>popularity</th>\n      <th>explicit</th>\n      <th>song_type</th>\n      <th>track_number</th>\n      <th>num_artists</th>\n      <th>num_available_markets</th>\n      <th>...</th>\n      <th>danceability</th>\n      <th>energy</th>\n      <th>instrumentalness</th>\n      <th>liveness</th>\n      <th>loudness</th>\n      <th>speechiness</th>\n      <th>valence</th>\n      <th>tempo</th>\n      <th>hit</th>\n      <th>date</th>\n    </tr>\n  </thead>\n  <tbody>\n    <tr>\n      <th>804676</th>\n      <td>7kXUEJmfvRXbzxOC0pHQgb</td>\n      <td>I Can't Believe I'm Losing You</td>\n      <td>['6eVCRmRG2HcfL4yx77A9WK']</td>\n      <td>['Jack Jones']</td>\n      <td>5</td>\n      <td>False</td>\n      <td>Solo</td>\n      <td>12</td>\n      <td>1</td>\n      <td>79</td>\n      <td>...</td>\n      <td>0.180</td>\n      <td>0.369</td>\n      <td>0.000000</td>\n      <td>0.1500</td>\n      <td>-9.797</td>\n      <td>0.0299</td>\n      <td>0.2240</td>\n      <td>81.701</td>\n      <td>0</td>\n      <td>1995-01-01</td>\n    </tr>\n    <tr>\n      <th>465447</th>\n      <td>1xdRFXv3ytSOdj8GuT3Rge</td>\n      <td>Thank You Lord (Interlude)</td>\n      <td>['5NDMothbpdpq2xHqSjrrWn']</td>\n      <td>['Faith Evans']</td>\n      <td>20</td>\n      <td>False</td>\n      <td>Solo</td>\n      <td>10</td>\n      <td>1</td>\n      <td>77</td>\n      <td>...</td>\n      <td>0.370</td>\n      <td>0.284</td>\n      <td>0.000000</td>\n      <td>0.5580</td>\n      <td>-14.443</td>\n      <td>0.0378</td>\n      <td>0.6490</td>\n      <td>130.985</td>\n      <td>0</td>\n      <td>1995-01-01</td>\n    </tr>\n    <tr>\n      <th>465446</th>\n      <td>5wlQIBbKIWoB7AnSw09C6C</td>\n      <td>All This Love</td>\n      <td>['5NDMothbpdpq2xHqSjrrWn']</td>\n      <td>['Faith Evans']</td>\n      <td>26</td>\n      <td>False</td>\n      <td>Solo</td>\n      <td>9</td>\n      <td>1</td>\n      <td>77</td>\n      <td>...</td>\n      <td>0.605</td>\n      <td>0.604</td>\n      <td>0.000153</td>\n      <td>0.0693</td>\n      <td>-9.214</td>\n      <td>0.0480</td>\n      <td>0.5030</td>\n      <td>145.483</td>\n      <td>0</td>\n      <td>1995-01-01</td>\n    </tr>\n    <tr>\n      <th>377956</th>\n      <td>40uHAEjua1YmyKIJ6k0iVa</td>\n      <td>Bo Bo Wa</td>\n      <td>['3z6Uf5IZkN4TogRpRpgD84']</td>\n      <td>['Gary Wright']</td>\n      <td>0</td>\n      <td>False</td>\n      <td>Solo</td>\n      <td>8</td>\n      <td>1</td>\n      <td>79</td>\n      <td>...</td>\n      <td>0.481</td>\n      <td>0.652</td>\n      <td>0.008670</td>\n      <td>0.0397</td>\n      <td>-10.981</td>\n      <td>0.0364</td>\n      <td>0.7950</td>\n      <td>195.791</td>\n      <td>0</td>\n      <td>1995-01-01</td>\n    </tr>\n    <tr>\n      <th>465445</th>\n      <td>2zmMWWgwCXYarkO2SbyPZP</td>\n      <td>Come Over</td>\n      <td>['5NDMothbpdpq2xHqSjrrWn']</td>\n      <td>['Faith Evans']</td>\n      <td>38</td>\n      <td>False</td>\n      <td>Solo</td>\n      <td>7</td>\n      <td>1</td>\n      <td>77</td>\n      <td>...</td>\n      <td>0.534</td>\n      <td>0.563</td>\n      <td>0.000001</td>\n      <td>0.5740</td>\n      <td>-8.975</td>\n      <td>0.0601</td>\n      <td>0.4140</td>\n      <td>124.149</td>\n      <td>0</td>\n      <td>1995-01-01</td>\n    </tr>\n    <tr>\n      <th>...</th>\n      <td>...</td>\n      <td>...</td>\n      <td>...</td>\n      <td>...</td>\n      <td>...</td>\n      <td>...</td>\n      <td>...</td>\n      <td>...</td>\n      <td>...</td>\n      <td>...</td>\n      <td>...</td>\n      <td>...</td>\n      <td>...</td>\n      <td>...</td>\n      <td>...</td>\n      <td>...</td>\n      <td>...</td>\n      <td>...</td>\n      <td>...</td>\n      <td>...</td>\n      <td>...</td>\n    </tr>\n    <tr>\n      <th>677962</th>\n      <td>45oru9CcsrV3EWBMl1Wflg</td>\n      <td>Angels Moon</td>\n      <td>['7FQ8wLlE6kd6EBtexh0FAD']</td>\n      <td>['Richy Kicklighter']</td>\n      <td>0</td>\n      <td>False</td>\n      <td>Solo</td>\n      <td>6</td>\n      <td>1</td>\n      <td>79</td>\n      <td>...</td>\n      <td>0.580</td>\n      <td>0.480</td>\n      <td>0.907000</td>\n      <td>0.1100</td>\n      <td>-17.467</td>\n      <td>0.0317</td>\n      <td>0.6960</td>\n      <td>113.312</td>\n      <td>0</td>\n      <td>2015-08-19</td>\n    </tr>\n    <tr>\n      <th>819520</th>\n      <td>5AZQNFCdxA3W1nssrtu4Yr</td>\n      <td>能登半島 Originally Performed By 石川さゆり (オルゴール)</td>\n      <td>['3BL7Z4GDZQOEnlETaPYV93']</td>\n      <td>['Orgel Sound J-pop']</td>\n      <td>0</td>\n      <td>False</td>\n      <td>Solo</td>\n      <td>7</td>\n      <td>1</td>\n      <td>79</td>\n      <td>...</td>\n      <td>0.434</td>\n      <td>0.498</td>\n      <td>0.923000</td>\n      <td>0.1310</td>\n      <td>-10.614</td>\n      <td>0.0572</td>\n      <td>0.0688</td>\n      <td>119.961</td>\n      <td>0</td>\n      <td>2015-08-19</td>\n    </tr>\n    <tr>\n      <th>678026</th>\n      <td>0gvKPCmhJzXa4YgptrNvI4</td>\n      <td>Up the Hill</td>\n      <td>['3FRfnhYD8uu3k8Dml7C7Wy']</td>\n      <td>['Jason Meeks']</td>\n      <td>0</td>\n      <td>False</td>\n      <td>Solo</td>\n      <td>30</td>\n      <td>1</td>\n      <td>79</td>\n      <td>...</td>\n      <td>0.813</td>\n      <td>0.645</td>\n      <td>0.826000</td>\n      <td>0.0773</td>\n      <td>-10.449</td>\n      <td>0.1390</td>\n      <td>0.4040</td>\n      <td>120.051</td>\n      <td>0</td>\n      <td>2015-08-19</td>\n    </tr>\n    <tr>\n      <th>819519</th>\n      <td>5FDxZkCXwOOO0CQP3zQUBL</td>\n      <td>浪花恋しぐれ Originally Performed By 都はるみ・岡千秋 (オルゴール)</td>\n      <td>['3BL7Z4GDZQOEnlETaPYV93']</td>\n      <td>['Orgel Sound J-pop']</td>\n      <td>0</td>\n      <td>False</td>\n      <td>Solo</td>\n      <td>6</td>\n      <td>1</td>\n      <td>79</td>\n      <td>...</td>\n      <td>0.616</td>\n      <td>0.443</td>\n      <td>0.909000</td>\n      <td>0.0893</td>\n      <td>-9.730</td>\n      <td>0.0504</td>\n      <td>0.1430</td>\n      <td>140.022</td>\n      <td>0</td>\n      <td>2015-08-19</td>\n    </tr>\n    <tr>\n      <th>819518</th>\n      <td>3m3CVlgUzXQaFkXdMPV3nI</td>\n      <td>バス・ストップ Originally Performed By 平浩二 (オルゴール)</td>\n      <td>['3BL7Z4GDZQOEnlETaPYV93']</td>\n      <td>['Orgel Sound J-pop']</td>\n      <td>1</td>\n      <td>False</td>\n      <td>Solo</td>\n      <td>5</td>\n      <td>1</td>\n      <td>79</td>\n      <td>...</td>\n      <td>0.707</td>\n      <td>0.495</td>\n      <td>0.816000</td>\n      <td>0.1030</td>\n      <td>-9.147</td>\n      <td>0.0560</td>\n      <td>0.1040</td>\n      <td>112.553</td>\n      <td>0</td>\n      <td>2015-08-19</td>\n    </tr>\n  </tbody>\n</table>\n<p>683270 rows × 26 columns</p>\n</div>"
     },
     "execution_count": 22,
     "metadata": {},
     "output_type": "execute_result"
    }
   ],
   "source": [
    "train_df"
   ],
   "metadata": {
    "collapsed": false,
    "ExecuteTime": {
     "end_time": "2024-04-22T12:07:45.317094900Z",
     "start_time": "2024-04-22T12:07:44.951095Z"
    }
   },
   "id": "b1de9789d17182a"
  },
  {
   "cell_type": "code",
   "execution_count": 23,
   "outputs": [
    {
     "data": {
      "text/plain": "                       song_id  \\\n677960  0KkzGvp8twn623wysKZ4Th   \n677959  6LYpAOMzSqyB2y2mNmqy5E   \n819517  6EU7nvOyg2O8ld7UAKii7R   \n677958  32bnbgvJ8FevA9rT2FxGAO   \n677957  7aMr9p35GaCmdWBmqbpfMa   \n...                        ...   \n11098   0xAqhyWvTkfcdFgm7dozMO   \n10903   6zhg8TnVKi90ITDzFKwPr0   \n5856    2GvkFSjRXV0Ii3uYnHiQ74   \n5080    0lej8CemYKkWVHg77Xe1ky   \n10666   6Fh2QgjCxL96dA3Gtpfr4Q   \n\n                                                song_name  \\\n677960                                  Return to Ipanema   \n677959                                    Foreign Feeling   \n819517    どうにもとまらない Originally Performed By 山本リンダ (オルゴール)   \n677958                                               Wave   \n677957                                       Silver Samba   \n...                                                   ...   \n11098             (I Wanna) Testify (Mono Single Version)   \n10903                       Swingtown - Alternate Version   \n5856                                       Take My Advice   \n5080             A Man Holdin' on (To a Woman Lettin’ Go)   \n10666   One Sweet Day (16-Bit Mariah Carey & Boyz II M...   \n\n                                               id_artists  \\\n677960                         ['5gLIbkXGeoJh0bzeEmvG2n']   \n677959                         ['1N477jyVWGcvVoRnvOePue']   \n819517                         ['3BL7Z4GDZQOEnlETaPYV93']   \n677958                         ['3OpJxAHfT0KsJzQqdX5SLb']   \n677957                         ['59n7uqUFv9tprlcVU9CoXL']   \n...                                                   ...   \n11098                          ['1Ve5PoI7i5jIIP1xudo6AB']   \n10903                          ['6QtGlUje9TIkLrgPZrESuk']   \n5856                           ['40PLSl99xXqAQsCQQPmfyM']   \n5080    ['1Fj0R2t4HaJa3oUe8azB8R', '5LDnSV99gbDSsMX3Dc...   \n10666                          ['1v4YnufenjE9BLAfP90qvt']   \n\n                           name_artists  popularity  explicit      song_type  \\\n677960                   ['Underwater']           0     False           Solo   \n677959             ['Gustavo Coutinho']           0     False           Solo   \n819517            ['Orgel Sound J-pop']           0     False           Solo   \n677958                 ['Ginger Tunes']           1     False           Solo   \n677957            ['Jive Ass Sleepers']           0     False           Solo   \n...                                 ...         ...       ...            ...   \n11098               ['The Parliaments']           7     False           Solo   \n10903             ['Steve Miller Band']          26     False           Solo   \n5856                       ['Kym Sims']           0     False           Solo   \n5080    ['Ty Herndon', 'Anita Cochran']          14     False  Collaboration   \n10666                 ['Arcade Player']           0     False           Solo   \n\n        track_number  num_artists  num_available_markets  ... danceability  \\\n677960             4            1                     79  ...        0.760   \n677959             3            1                     79  ...        0.430   \n819517             4            1                     79  ...        0.595   \n677958             2            1                     79  ...        0.668   \n677957             1            1                     79  ...        0.692   \n...              ...          ...                    ...  ...          ...   \n11098             10            1                     79  ...        0.668   \n10903              5            1                     79  ...        0.459   \n5856              10            1                     73  ...        0.737   \n5080               7            2                     79  ...        0.611   \n10666             27            1                     79  ...        0.395   \n\n        energy  instrumentalness  liveness  loudness  speechiness  valence  \\\n677960   0.179          0.783000    0.1040   -21.624       0.0500   0.5980   \n677959   0.274          0.786000    0.0887   -19.042       0.0307   0.2330   \n819517   0.594          0.919000    0.0993    -8.746       0.0551   0.1740   \n677958   0.414          0.902000    0.1120   -10.019       0.0361   0.0399   \n677957   0.487          0.070900    0.0860   -13.882       0.0324   0.7140   \n...        ...               ...       ...       ...          ...      ...   \n11098    0.702          0.000000    0.0521    -5.750       0.0330   0.7540   \n10903    0.764          0.000544    0.2440    -6.662       0.0354   0.4390   \n5856     0.814          0.392000    0.0844   -10.396       0.0307   0.8030   \n5080     0.429          0.000014    0.1120    -8.619       0.0298   0.2370   \n10666    0.405          0.745000    0.1100    -5.559       0.0393   0.3130   \n\n          tempo  hit       date  \n677960  138.898    0 2015-08-19  \n677959  140.009    0 2015-08-19  \n819517  111.978    0 2015-08-19  \n677958  121.084    0 2015-08-19  \n677957  109.978    0 2015-08-19  \n...         ...  ...        ...  \n11098   105.227    1 2019-08-23  \n10903   124.557    1 2019-08-23  \n5856    120.010    1 2019-08-23  \n5080    128.007    1 2019-08-23  \n10666   194.933    1 2019-08-26  \n\n[227757 rows x 26 columns]",
      "text/html": "<div>\n<style scoped>\n    .dataframe tbody tr th:only-of-type {\n        vertical-align: middle;\n    }\n\n    .dataframe tbody tr th {\n        vertical-align: top;\n    }\n\n    .dataframe thead th {\n        text-align: right;\n    }\n</style>\n<table border=\"1\" class=\"dataframe\">\n  <thead>\n    <tr style=\"text-align: right;\">\n      <th></th>\n      <th>song_id</th>\n      <th>song_name</th>\n      <th>id_artists</th>\n      <th>name_artists</th>\n      <th>popularity</th>\n      <th>explicit</th>\n      <th>song_type</th>\n      <th>track_number</th>\n      <th>num_artists</th>\n      <th>num_available_markets</th>\n      <th>...</th>\n      <th>danceability</th>\n      <th>energy</th>\n      <th>instrumentalness</th>\n      <th>liveness</th>\n      <th>loudness</th>\n      <th>speechiness</th>\n      <th>valence</th>\n      <th>tempo</th>\n      <th>hit</th>\n      <th>date</th>\n    </tr>\n  </thead>\n  <tbody>\n    <tr>\n      <th>677960</th>\n      <td>0KkzGvp8twn623wysKZ4Th</td>\n      <td>Return to Ipanema</td>\n      <td>['5gLIbkXGeoJh0bzeEmvG2n']</td>\n      <td>['Underwater']</td>\n      <td>0</td>\n      <td>False</td>\n      <td>Solo</td>\n      <td>4</td>\n      <td>1</td>\n      <td>79</td>\n      <td>...</td>\n      <td>0.760</td>\n      <td>0.179</td>\n      <td>0.783000</td>\n      <td>0.1040</td>\n      <td>-21.624</td>\n      <td>0.0500</td>\n      <td>0.5980</td>\n      <td>138.898</td>\n      <td>0</td>\n      <td>2015-08-19</td>\n    </tr>\n    <tr>\n      <th>677959</th>\n      <td>6LYpAOMzSqyB2y2mNmqy5E</td>\n      <td>Foreign Feeling</td>\n      <td>['1N477jyVWGcvVoRnvOePue']</td>\n      <td>['Gustavo Coutinho']</td>\n      <td>0</td>\n      <td>False</td>\n      <td>Solo</td>\n      <td>3</td>\n      <td>1</td>\n      <td>79</td>\n      <td>...</td>\n      <td>0.430</td>\n      <td>0.274</td>\n      <td>0.786000</td>\n      <td>0.0887</td>\n      <td>-19.042</td>\n      <td>0.0307</td>\n      <td>0.2330</td>\n      <td>140.009</td>\n      <td>0</td>\n      <td>2015-08-19</td>\n    </tr>\n    <tr>\n      <th>819517</th>\n      <td>6EU7nvOyg2O8ld7UAKii7R</td>\n      <td>どうにもとまらない Originally Performed By 山本リンダ (オルゴール)</td>\n      <td>['3BL7Z4GDZQOEnlETaPYV93']</td>\n      <td>['Orgel Sound J-pop']</td>\n      <td>0</td>\n      <td>False</td>\n      <td>Solo</td>\n      <td>4</td>\n      <td>1</td>\n      <td>79</td>\n      <td>...</td>\n      <td>0.595</td>\n      <td>0.594</td>\n      <td>0.919000</td>\n      <td>0.0993</td>\n      <td>-8.746</td>\n      <td>0.0551</td>\n      <td>0.1740</td>\n      <td>111.978</td>\n      <td>0</td>\n      <td>2015-08-19</td>\n    </tr>\n    <tr>\n      <th>677958</th>\n      <td>32bnbgvJ8FevA9rT2FxGAO</td>\n      <td>Wave</td>\n      <td>['3OpJxAHfT0KsJzQqdX5SLb']</td>\n      <td>['Ginger Tunes']</td>\n      <td>1</td>\n      <td>False</td>\n      <td>Solo</td>\n      <td>2</td>\n      <td>1</td>\n      <td>79</td>\n      <td>...</td>\n      <td>0.668</td>\n      <td>0.414</td>\n      <td>0.902000</td>\n      <td>0.1120</td>\n      <td>-10.019</td>\n      <td>0.0361</td>\n      <td>0.0399</td>\n      <td>121.084</td>\n      <td>0</td>\n      <td>2015-08-19</td>\n    </tr>\n    <tr>\n      <th>677957</th>\n      <td>7aMr9p35GaCmdWBmqbpfMa</td>\n      <td>Silver Samba</td>\n      <td>['59n7uqUFv9tprlcVU9CoXL']</td>\n      <td>['Jive Ass Sleepers']</td>\n      <td>0</td>\n      <td>False</td>\n      <td>Solo</td>\n      <td>1</td>\n      <td>1</td>\n      <td>79</td>\n      <td>...</td>\n      <td>0.692</td>\n      <td>0.487</td>\n      <td>0.070900</td>\n      <td>0.0860</td>\n      <td>-13.882</td>\n      <td>0.0324</td>\n      <td>0.7140</td>\n      <td>109.978</td>\n      <td>0</td>\n      <td>2015-08-19</td>\n    </tr>\n    <tr>\n      <th>...</th>\n      <td>...</td>\n      <td>...</td>\n      <td>...</td>\n      <td>...</td>\n      <td>...</td>\n      <td>...</td>\n      <td>...</td>\n      <td>...</td>\n      <td>...</td>\n      <td>...</td>\n      <td>...</td>\n      <td>...</td>\n      <td>...</td>\n      <td>...</td>\n      <td>...</td>\n      <td>...</td>\n      <td>...</td>\n      <td>...</td>\n      <td>...</td>\n      <td>...</td>\n      <td>...</td>\n    </tr>\n    <tr>\n      <th>11098</th>\n      <td>0xAqhyWvTkfcdFgm7dozMO</td>\n      <td>(I Wanna) Testify (Mono Single Version)</td>\n      <td>['1Ve5PoI7i5jIIP1xudo6AB']</td>\n      <td>['The Parliaments']</td>\n      <td>7</td>\n      <td>False</td>\n      <td>Solo</td>\n      <td>10</td>\n      <td>1</td>\n      <td>79</td>\n      <td>...</td>\n      <td>0.668</td>\n      <td>0.702</td>\n      <td>0.000000</td>\n      <td>0.0521</td>\n      <td>-5.750</td>\n      <td>0.0330</td>\n      <td>0.7540</td>\n      <td>105.227</td>\n      <td>1</td>\n      <td>2019-08-23</td>\n    </tr>\n    <tr>\n      <th>10903</th>\n      <td>6zhg8TnVKi90ITDzFKwPr0</td>\n      <td>Swingtown - Alternate Version</td>\n      <td>['6QtGlUje9TIkLrgPZrESuk']</td>\n      <td>['Steve Miller Band']</td>\n      <td>26</td>\n      <td>False</td>\n      <td>Solo</td>\n      <td>5</td>\n      <td>1</td>\n      <td>79</td>\n      <td>...</td>\n      <td>0.459</td>\n      <td>0.764</td>\n      <td>0.000544</td>\n      <td>0.2440</td>\n      <td>-6.662</td>\n      <td>0.0354</td>\n      <td>0.4390</td>\n      <td>124.557</td>\n      <td>1</td>\n      <td>2019-08-23</td>\n    </tr>\n    <tr>\n      <th>5856</th>\n      <td>2GvkFSjRXV0Ii3uYnHiQ74</td>\n      <td>Take My Advice</td>\n      <td>['40PLSl99xXqAQsCQQPmfyM']</td>\n      <td>['Kym Sims']</td>\n      <td>0</td>\n      <td>False</td>\n      <td>Solo</td>\n      <td>10</td>\n      <td>1</td>\n      <td>73</td>\n      <td>...</td>\n      <td>0.737</td>\n      <td>0.814</td>\n      <td>0.392000</td>\n      <td>0.0844</td>\n      <td>-10.396</td>\n      <td>0.0307</td>\n      <td>0.8030</td>\n      <td>120.010</td>\n      <td>1</td>\n      <td>2019-08-23</td>\n    </tr>\n    <tr>\n      <th>5080</th>\n      <td>0lej8CemYKkWVHg77Xe1ky</td>\n      <td>A Man Holdin' on (To a Woman Lettin’ Go)</td>\n      <td>['1Fj0R2t4HaJa3oUe8azB8R', '5LDnSV99gbDSsMX3Dc...</td>\n      <td>['Ty Herndon', 'Anita Cochran']</td>\n      <td>14</td>\n      <td>False</td>\n      <td>Collaboration</td>\n      <td>7</td>\n      <td>2</td>\n      <td>79</td>\n      <td>...</td>\n      <td>0.611</td>\n      <td>0.429</td>\n      <td>0.000014</td>\n      <td>0.1120</td>\n      <td>-8.619</td>\n      <td>0.0298</td>\n      <td>0.2370</td>\n      <td>128.007</td>\n      <td>1</td>\n      <td>2019-08-23</td>\n    </tr>\n    <tr>\n      <th>10666</th>\n      <td>6Fh2QgjCxL96dA3Gtpfr4Q</td>\n      <td>One Sweet Day (16-Bit Mariah Carey &amp; Boyz II M...</td>\n      <td>['1v4YnufenjE9BLAfP90qvt']</td>\n      <td>['Arcade Player']</td>\n      <td>0</td>\n      <td>False</td>\n      <td>Solo</td>\n      <td>27</td>\n      <td>1</td>\n      <td>79</td>\n      <td>...</td>\n      <td>0.395</td>\n      <td>0.405</td>\n      <td>0.745000</td>\n      <td>0.1100</td>\n      <td>-5.559</td>\n      <td>0.0393</td>\n      <td>0.3130</td>\n      <td>194.933</td>\n      <td>1</td>\n      <td>2019-08-26</td>\n    </tr>\n  </tbody>\n</table>\n<p>227757 rows × 26 columns</p>\n</div>"
     },
     "execution_count": 23,
     "metadata": {},
     "output_type": "execute_result"
    }
   ],
   "source": [
    "test_df"
   ],
   "metadata": {
    "collapsed": false,
    "ExecuteTime": {
     "end_time": "2024-04-22T12:07:45.503093600Z",
     "start_time": "2024-04-22T12:07:45.345095100Z"
    }
   },
   "id": "4aa2a74a75195a81"
  }
 ],
 "metadata": {
  "kernelspec": {
   "display_name": "Python 3",
   "language": "python",
   "name": "python3"
  },
  "language_info": {
   "codemirror_mode": {
    "name": "ipython",
    "version": 2
   },
   "file_extension": ".py",
   "mimetype": "text/x-python",
   "name": "python",
   "nbconvert_exporter": "python",
   "pygments_lexer": "ipython2",
   "version": "2.7.6"
  }
 },
 "nbformat": 4,
 "nbformat_minor": 5
}
