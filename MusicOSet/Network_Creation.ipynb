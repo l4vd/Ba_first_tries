{
 "cells": [
  {
   "cell_type": "code",
   "execution_count": 1,
   "id": "initial_id",
   "metadata": {
    "collapsed": true,
    "ExecuteTime": {
     "end_time": "2024-05-06T14:02:13.034938900Z",
     "start_time": "2024-05-06T14:02:12.860938700Z"
    }
   },
   "outputs": [
    {
     "data": {
      "text/plain": "                      song_id  \\\n0      3e9HZxeyfWwjeyPAMmWSSQ   \n1      5p7ujcrUXASCNwRaWNHR1C   \n2      2xLMifQCjDGFmkHkpNLD9h   \n3      3KkXRkHbMCARz0aVfEt68P   \n4      1rqqCSm0Qe4I9rUvWncaom   \n...                       ...   \n11954  5mz9pQZZXNpAw9CdQ7Bk8q   \n11955  2H9CKpZiLDF223BbwehpDF   \n11956  7zqM7Wm2xJLZ50qAnTLoHD   \n11957  4DPlKVZ6R1EHLfnIsy9ouh   \n11958  6RUa3ZwZYnJnNgZxtIYJR9   \n\n                                               song_name  \\\n0                                          thank u, next   \n1                                             Without Me   \n2                                             SICKO MODE   \n3          Sunflower - Spider-Man: Into the Spider-Verse   \n4                                             High Hopes   \n...                                                  ...   \n11954                Don't Pity Me - Mono; 2003 Remaster   \n11955                        Hush Hush; Hush Hush - Main   \n11956                              Lions, Tigers & Bears   \n11957                                         The Weight   \n11958  Purest of Pain (A Puro Dolor) - Martinee's Rad...   \n\n                                              id_artists  \\\n0                             ['66CXWjxzNUsdJxJ2JdwvnR']   \n1                             ['26VFTg2z8YR0cCuwLzESi2']   \n2                             ['0Y5tJX1MQlPlqiwlOH1tJY']   \n3      ['246dkjvS1zLTtiykXe5h60', '1zNqQNIdeOUZHb8zbZ...   \n4                             ['20JZFwl6HVl6yg8a4H3ZqK']   \n...                                                  ...   \n11954                         ['6lHC2EQMEMZiEmSfFloarn']   \n11955                         ['6wPhSqRtPu1UhRCDX5yaDJ']   \n11956                         ['7gSjFKpVmDgC2MMsnN8CYq']   \n11957  ['0rXI0q8Cahq6numvPlloaq', '3RwQ26hR2tJtA8F9p2...   \n11958  ['1qyAl8T6GTcaOViaI7fs1j', '7AOI1S3Uy411dDhNTd...   \n\n                                           name_artists  popularity  explicit  \\\n0                                     ['Ariana Grande']          87      True   \n1                                            ['Halsey']          87      True   \n2                                      ['Travis Scott']          86      True   \n3                           ['Post Malone', 'Swae Lee']          92     False   \n4                               ['Panic! At The Disco']          86     False   \n...                                                 ...         ...       ...   \n11954                              ['Peter And Gordon']           8     False   \n11955                            ['The Pussycat Dolls']          57     False   \n11956                              ['Jazmine Sullivan']          49     False   \n11957  ['Diana Ross & The Supremes', 'The Temptations']           2     False   \n11958                 ['Son By Four', 'Lewis Martinee']          10     False   \n\n           song_type  track_number  num_artists  num_available_markets  ...  \\\n0               Solo            11            1                     79  ...   \n1               Solo             1            1                     79  ...   \n2               Solo             3            1                     79  ...   \n3      Collaboration             2            2                     79  ...   \n4               Solo             4            1                     78  ...   \n...              ...           ...          ...                    ...  ...   \n11954           Solo             1            1                     78  ...   \n11955           Solo             1            1                     59  ...   \n11956           Solo             4            1                     71  ...   \n11957  Collaboration            23            2                     79  ...   \n11958  Collaboration             1            2                     79  ...   \n\n      acousticness  danceability  energy  instrumentalness  liveness  \\\n0          0.22900         0.717   0.653          0.000000    0.1010   \n1          0.29700         0.752   0.488          0.000009    0.0936   \n2          0.00513         0.834   0.730          0.000000    0.1240   \n3          0.55600         0.760   0.479          0.000000    0.0703   \n4          0.19300         0.579   0.904          0.000000    0.0640   \n...            ...           ...     ...               ...       ...   \n11954      0.61900         0.500   0.654          0.000000    0.3320   \n11955      0.10500         0.609   0.790          0.000000    0.3140   \n11956      0.07880         0.576   0.515          0.000000    0.1180   \n11957      0.37000         0.566   0.607          0.000000    0.6710   \n11958      0.45000         0.593   0.939          0.000013    0.1090   \n\n       loudness  speechiness  valence    tempo  hit  \n0        -5.634       0.0658    0.412  106.966    1  \n1        -7.050       0.0705    0.533  136.041    1  \n2        -3.714       0.2220    0.446  155.008    1  \n3        -5.574       0.0466    0.913   89.911    1  \n4        -2.729       0.0618    0.681   82.014    1  \n...         ...          ...      ...      ...  ...  \n11954    -8.633       0.0394    0.403  107.326    1  \n11955    -3.787       0.0663    0.664  129.334    1  \n11956    -6.178       0.0295    0.407   95.406    1  \n11957    -7.532       0.0357    0.765   91.378    1  \n11958    -3.431       0.0616    0.743  134.108    1  \n\n[11959 rows x 25 columns]",
      "text/html": "<div>\n<style scoped>\n    .dataframe tbody tr th:only-of-type {\n        vertical-align: middle;\n    }\n\n    .dataframe tbody tr th {\n        vertical-align: top;\n    }\n\n    .dataframe thead th {\n        text-align: right;\n    }\n</style>\n<table border=\"1\" class=\"dataframe\">\n  <thead>\n    <tr style=\"text-align: right;\">\n      <th></th>\n      <th>song_id</th>\n      <th>song_name</th>\n      <th>id_artists</th>\n      <th>name_artists</th>\n      <th>popularity</th>\n      <th>explicit</th>\n      <th>song_type</th>\n      <th>track_number</th>\n      <th>num_artists</th>\n      <th>num_available_markets</th>\n      <th>...</th>\n      <th>acousticness</th>\n      <th>danceability</th>\n      <th>energy</th>\n      <th>instrumentalness</th>\n      <th>liveness</th>\n      <th>loudness</th>\n      <th>speechiness</th>\n      <th>valence</th>\n      <th>tempo</th>\n      <th>hit</th>\n    </tr>\n  </thead>\n  <tbody>\n    <tr>\n      <th>0</th>\n      <td>3e9HZxeyfWwjeyPAMmWSSQ</td>\n      <td>thank u, next</td>\n      <td>['66CXWjxzNUsdJxJ2JdwvnR']</td>\n      <td>['Ariana Grande']</td>\n      <td>87</td>\n      <td>True</td>\n      <td>Solo</td>\n      <td>11</td>\n      <td>1</td>\n      <td>79</td>\n      <td>...</td>\n      <td>0.22900</td>\n      <td>0.717</td>\n      <td>0.653</td>\n      <td>0.000000</td>\n      <td>0.1010</td>\n      <td>-5.634</td>\n      <td>0.0658</td>\n      <td>0.412</td>\n      <td>106.966</td>\n      <td>1</td>\n    </tr>\n    <tr>\n      <th>1</th>\n      <td>5p7ujcrUXASCNwRaWNHR1C</td>\n      <td>Without Me</td>\n      <td>['26VFTg2z8YR0cCuwLzESi2']</td>\n      <td>['Halsey']</td>\n      <td>87</td>\n      <td>True</td>\n      <td>Solo</td>\n      <td>1</td>\n      <td>1</td>\n      <td>79</td>\n      <td>...</td>\n      <td>0.29700</td>\n      <td>0.752</td>\n      <td>0.488</td>\n      <td>0.000009</td>\n      <td>0.0936</td>\n      <td>-7.050</td>\n      <td>0.0705</td>\n      <td>0.533</td>\n      <td>136.041</td>\n      <td>1</td>\n    </tr>\n    <tr>\n      <th>2</th>\n      <td>2xLMifQCjDGFmkHkpNLD9h</td>\n      <td>SICKO MODE</td>\n      <td>['0Y5tJX1MQlPlqiwlOH1tJY']</td>\n      <td>['Travis Scott']</td>\n      <td>86</td>\n      <td>True</td>\n      <td>Solo</td>\n      <td>3</td>\n      <td>1</td>\n      <td>79</td>\n      <td>...</td>\n      <td>0.00513</td>\n      <td>0.834</td>\n      <td>0.730</td>\n      <td>0.000000</td>\n      <td>0.1240</td>\n      <td>-3.714</td>\n      <td>0.2220</td>\n      <td>0.446</td>\n      <td>155.008</td>\n      <td>1</td>\n    </tr>\n    <tr>\n      <th>3</th>\n      <td>3KkXRkHbMCARz0aVfEt68P</td>\n      <td>Sunflower - Spider-Man: Into the Spider-Verse</td>\n      <td>['246dkjvS1zLTtiykXe5h60', '1zNqQNIdeOUZHb8zbZ...</td>\n      <td>['Post Malone', 'Swae Lee']</td>\n      <td>92</td>\n      <td>False</td>\n      <td>Collaboration</td>\n      <td>2</td>\n      <td>2</td>\n      <td>79</td>\n      <td>...</td>\n      <td>0.55600</td>\n      <td>0.760</td>\n      <td>0.479</td>\n      <td>0.000000</td>\n      <td>0.0703</td>\n      <td>-5.574</td>\n      <td>0.0466</td>\n      <td>0.913</td>\n      <td>89.911</td>\n      <td>1</td>\n    </tr>\n    <tr>\n      <th>4</th>\n      <td>1rqqCSm0Qe4I9rUvWncaom</td>\n      <td>High Hopes</td>\n      <td>['20JZFwl6HVl6yg8a4H3ZqK']</td>\n      <td>['Panic! At The Disco']</td>\n      <td>86</td>\n      <td>False</td>\n      <td>Solo</td>\n      <td>4</td>\n      <td>1</td>\n      <td>78</td>\n      <td>...</td>\n      <td>0.19300</td>\n      <td>0.579</td>\n      <td>0.904</td>\n      <td>0.000000</td>\n      <td>0.0640</td>\n      <td>-2.729</td>\n      <td>0.0618</td>\n      <td>0.681</td>\n      <td>82.014</td>\n      <td>1</td>\n    </tr>\n    <tr>\n      <th>...</th>\n      <td>...</td>\n      <td>...</td>\n      <td>...</td>\n      <td>...</td>\n      <td>...</td>\n      <td>...</td>\n      <td>...</td>\n      <td>...</td>\n      <td>...</td>\n      <td>...</td>\n      <td>...</td>\n      <td>...</td>\n      <td>...</td>\n      <td>...</td>\n      <td>...</td>\n      <td>...</td>\n      <td>...</td>\n      <td>...</td>\n      <td>...</td>\n      <td>...</td>\n      <td>...</td>\n    </tr>\n    <tr>\n      <th>11954</th>\n      <td>5mz9pQZZXNpAw9CdQ7Bk8q</td>\n      <td>Don't Pity Me - Mono; 2003 Remaster</td>\n      <td>['6lHC2EQMEMZiEmSfFloarn']</td>\n      <td>['Peter And Gordon']</td>\n      <td>8</td>\n      <td>False</td>\n      <td>Solo</td>\n      <td>1</td>\n      <td>1</td>\n      <td>78</td>\n      <td>...</td>\n      <td>0.61900</td>\n      <td>0.500</td>\n      <td>0.654</td>\n      <td>0.000000</td>\n      <td>0.3320</td>\n      <td>-8.633</td>\n      <td>0.0394</td>\n      <td>0.403</td>\n      <td>107.326</td>\n      <td>1</td>\n    </tr>\n    <tr>\n      <th>11955</th>\n      <td>2H9CKpZiLDF223BbwehpDF</td>\n      <td>Hush Hush; Hush Hush - Main</td>\n      <td>['6wPhSqRtPu1UhRCDX5yaDJ']</td>\n      <td>['The Pussycat Dolls']</td>\n      <td>57</td>\n      <td>False</td>\n      <td>Solo</td>\n      <td>1</td>\n      <td>1</td>\n      <td>59</td>\n      <td>...</td>\n      <td>0.10500</td>\n      <td>0.609</td>\n      <td>0.790</td>\n      <td>0.000000</td>\n      <td>0.3140</td>\n      <td>-3.787</td>\n      <td>0.0663</td>\n      <td>0.664</td>\n      <td>129.334</td>\n      <td>1</td>\n    </tr>\n    <tr>\n      <th>11956</th>\n      <td>7zqM7Wm2xJLZ50qAnTLoHD</td>\n      <td>Lions, Tigers &amp; Bears</td>\n      <td>['7gSjFKpVmDgC2MMsnN8CYq']</td>\n      <td>['Jazmine Sullivan']</td>\n      <td>49</td>\n      <td>False</td>\n      <td>Solo</td>\n      <td>4</td>\n      <td>1</td>\n      <td>71</td>\n      <td>...</td>\n      <td>0.07880</td>\n      <td>0.576</td>\n      <td>0.515</td>\n      <td>0.000000</td>\n      <td>0.1180</td>\n      <td>-6.178</td>\n      <td>0.0295</td>\n      <td>0.407</td>\n      <td>95.406</td>\n      <td>1</td>\n    </tr>\n    <tr>\n      <th>11957</th>\n      <td>4DPlKVZ6R1EHLfnIsy9ouh</td>\n      <td>The Weight</td>\n      <td>['0rXI0q8Cahq6numvPlloaq', '3RwQ26hR2tJtA8F9p2...</td>\n      <td>['Diana Ross &amp; The Supremes', 'The Temptations']</td>\n      <td>2</td>\n      <td>False</td>\n      <td>Collaboration</td>\n      <td>23</td>\n      <td>2</td>\n      <td>79</td>\n      <td>...</td>\n      <td>0.37000</td>\n      <td>0.566</td>\n      <td>0.607</td>\n      <td>0.000000</td>\n      <td>0.6710</td>\n      <td>-7.532</td>\n      <td>0.0357</td>\n      <td>0.765</td>\n      <td>91.378</td>\n      <td>1</td>\n    </tr>\n    <tr>\n      <th>11958</th>\n      <td>6RUa3ZwZYnJnNgZxtIYJR9</td>\n      <td>Purest of Pain (A Puro Dolor) - Martinee's Rad...</td>\n      <td>['1qyAl8T6GTcaOViaI7fs1j', '7AOI1S3Uy411dDhNTd...</td>\n      <td>['Son By Four', 'Lewis Martinee']</td>\n      <td>10</td>\n      <td>False</td>\n      <td>Collaboration</td>\n      <td>1</td>\n      <td>2</td>\n      <td>79</td>\n      <td>...</td>\n      <td>0.45000</td>\n      <td>0.593</td>\n      <td>0.939</td>\n      <td>0.000013</td>\n      <td>0.1090</td>\n      <td>-3.431</td>\n      <td>0.0616</td>\n      <td>0.743</td>\n      <td>134.108</td>\n      <td>1</td>\n    </tr>\n  </tbody>\n</table>\n<p>11959 rows × 25 columns</p>\n</div>"
     },
     "execution_count": 1,
     "metadata": {},
     "output_type": "execute_result"
    }
   ],
   "source": [
    "import pandas as pd\n",
    "import matplotlib.pyplot as plt\n",
    "\n",
    "df_hits = pd.read_csv(\"additional/hits_dataset.csv\", delimiter=\"\\t\")\n",
    "df_hits[\"hit\"] = 1\n",
    "df_hits"
   ]
  },
  {
   "cell_type": "code",
   "execution_count": 2,
   "outputs": [
    {
     "name": "stderr",
     "output_type": "stream",
     "text": [
      "C:\\Users\\lasse\\AppData\\Local\\Temp\\ipykernel_21624\\2533836516.py:1: DtypeWarning: Columns (11,12,13,14,15,16,17,18,19,20,21,22,23) have mixed types. Specify dtype option on import or set low_memory=False.\n",
      "  df_nonhits = pd.read_csv(\"additional/nonhits_dataset.csv\", delimiter=\"\\t\")\n"
     ]
    },
    {
     "data": {
      "text/plain": "                       song_id  \\\n0       1TEL6MlSSVLSdhOSddidlJ   \n1       4uTvPEr01pjTbZgl7jcKBD   \n2       2hloaUoRonYssMuqLCBLTX   \n3       3wFLWP0FcIqHK1wb1CPthQ   \n4       5Il6Oe7lr5XM7A0cWbVQtr   \n...                        ...   \n899063  2tP0ryZParpdjvxubgXhTN   \n899064  7Ltni80U0w7bmYjXPNzSEa   \n899065  1gQClXN1Dq4rj0wBzddcNA   \n899066  2jhxQrFNdVPkWL28X7ZpeK   \n899067  6KkbkpUObAqcKGEfvguHJO   \n\n                                               song_name  \\\n0                                                  needy   \n1                                                   NASA   \n2                                              bloodline   \n3                                             fake smile   \n4                                               bad idea   \n...                                                  ...   \n899063                              Love Is Here to Stay   \n899064                                 Heinlein's Planet   \n899065     Beds are Burning - Karaoke Lead Vocal Version   \n899066  Un homme heureux - Version karaoké instrumentale   \n899067                     Santa Claus Is Coming to Town   \n\n                                               id_artists  \\\n0                              ['66CXWjxzNUsdJxJ2JdwvnR']   \n1                              ['66CXWjxzNUsdJxJ2JdwvnR']   \n2                              ['66CXWjxzNUsdJxJ2JdwvnR']   \n3                              ['66CXWjxzNUsdJxJ2JdwvnR']   \n4                              ['66CXWjxzNUsdJxJ2JdwvnR']   \n...                                                   ...   \n899063  ['3Dzj993UEz8Z5ovxuirzFO', '6RCsx4p5smZHYz2P5H...   \n899064                         ['4urvwbid7NFoVes5PTx9lV']   \n899065                         ['7yv4DJOCmilSbxxsdQgXWk']   \n899066                         ['7yv4DJOCmilSbxxsdQgXWk']   \n899067                         ['7tdO7d7r0vhwov7RIZWH6V']   \n\n                                     name_artists  popularity  explicit  \\\n0                               ['Ariana Grande']          76      True   \n1                               ['Ariana Grande']          76     False   \n2                               ['Ariana Grande']          74      True   \n3                               ['Ariana Grande']          73      True   \n4                               ['Ariana Grande']          74     False   \n...                                           ...         ...       ...   \n899063  ['Lindsey Buckingham', 'Christine McVie']          16     False   \n899064                             ['Tony Carey']           0     False   \n899065                             ['Pictomusic']           0     False   \n899066                             ['Pictomusic']           0     False   \n899067                            ['Mitch Ryder']           0     False   \n\n            song_type  track_number  num_artists  num_available_markets  ...  \\\n0                Solo             2            1                     79  ...   \n1                Solo             3            1                     79  ...   \n2                Solo             4            1                     79  ...   \n3                Solo             5            1                     79  ...   \n4                Solo             6            1                     79  ...   \n...               ...           ...          ...                    ...  ...   \n899063  Collaboration             5            2                      1  ...   \n899064           Solo             5            1                     79  ...   \n899065           Solo             2            1                     79  ...   \n899066           Solo             1            1                     79  ...   \n899067           Solo             3            1                     79  ...   \n\n       acousticness danceability energy instrumentalness liveness loudness  \\\n0              0.78        0.647  0.309         7.41e-06    0.202   -7.948   \n1             0.451        0.747  0.458                0    0.252   -6.891   \n2            0.0815        0.758  0.665         0.000157    0.216   -5.188   \n3             0.329         0.45  0.619                0    0.319   -7.412   \n4            0.0268        0.847  0.579           0.0545    0.102   -5.314   \n...             ...          ...    ...              ...      ...      ...   \n899063        0.366        0.446  0.658         2.49e-05    0.751   -8.362   \n899064        0.481        0.305  0.456            0.933    0.111  -20.199   \n899065       0.0118        0.852  0.648                0   0.0503   -7.189   \n899066        0.973        0.664  0.353            0.787   0.0878  -12.303   \n899067        0.386        0.651  0.896          0.00163   0.0734   -6.004   \n\n       speechiness valence    tempo hit  \n0           0.0366   0.195   87.045   0  \n1            0.303    0.47   75.029   0  \n2           0.0774   0.643  151.976   0  \n3            0.372   0.427     83.3   0  \n4           0.0719   0.569  137.998   0  \n...            ...     ...      ...  ..  \n899063      0.0297   0.554    84.74   0  \n899064      0.0634   0.171   96.996   0  \n899065       0.048   0.559   120.15   0  \n899066      0.0693   0.284   116.45   0  \n899067      0.0327   0.893  148.107   0  \n\n[899068 rows x 25 columns]",
      "text/html": "<div>\n<style scoped>\n    .dataframe tbody tr th:only-of-type {\n        vertical-align: middle;\n    }\n\n    .dataframe tbody tr th {\n        vertical-align: top;\n    }\n\n    .dataframe thead th {\n        text-align: right;\n    }\n</style>\n<table border=\"1\" class=\"dataframe\">\n  <thead>\n    <tr style=\"text-align: right;\">\n      <th></th>\n      <th>song_id</th>\n      <th>song_name</th>\n      <th>id_artists</th>\n      <th>name_artists</th>\n      <th>popularity</th>\n      <th>explicit</th>\n      <th>song_type</th>\n      <th>track_number</th>\n      <th>num_artists</th>\n      <th>num_available_markets</th>\n      <th>...</th>\n      <th>acousticness</th>\n      <th>danceability</th>\n      <th>energy</th>\n      <th>instrumentalness</th>\n      <th>liveness</th>\n      <th>loudness</th>\n      <th>speechiness</th>\n      <th>valence</th>\n      <th>tempo</th>\n      <th>hit</th>\n    </tr>\n  </thead>\n  <tbody>\n    <tr>\n      <th>0</th>\n      <td>1TEL6MlSSVLSdhOSddidlJ</td>\n      <td>needy</td>\n      <td>['66CXWjxzNUsdJxJ2JdwvnR']</td>\n      <td>['Ariana Grande']</td>\n      <td>76</td>\n      <td>True</td>\n      <td>Solo</td>\n      <td>2</td>\n      <td>1</td>\n      <td>79</td>\n      <td>...</td>\n      <td>0.78</td>\n      <td>0.647</td>\n      <td>0.309</td>\n      <td>7.41e-06</td>\n      <td>0.202</td>\n      <td>-7.948</td>\n      <td>0.0366</td>\n      <td>0.195</td>\n      <td>87.045</td>\n      <td>0</td>\n    </tr>\n    <tr>\n      <th>1</th>\n      <td>4uTvPEr01pjTbZgl7jcKBD</td>\n      <td>NASA</td>\n      <td>['66CXWjxzNUsdJxJ2JdwvnR']</td>\n      <td>['Ariana Grande']</td>\n      <td>76</td>\n      <td>False</td>\n      <td>Solo</td>\n      <td>3</td>\n      <td>1</td>\n      <td>79</td>\n      <td>...</td>\n      <td>0.451</td>\n      <td>0.747</td>\n      <td>0.458</td>\n      <td>0</td>\n      <td>0.252</td>\n      <td>-6.891</td>\n      <td>0.303</td>\n      <td>0.47</td>\n      <td>75.029</td>\n      <td>0</td>\n    </tr>\n    <tr>\n      <th>2</th>\n      <td>2hloaUoRonYssMuqLCBLTX</td>\n      <td>bloodline</td>\n      <td>['66CXWjxzNUsdJxJ2JdwvnR']</td>\n      <td>['Ariana Grande']</td>\n      <td>74</td>\n      <td>True</td>\n      <td>Solo</td>\n      <td>4</td>\n      <td>1</td>\n      <td>79</td>\n      <td>...</td>\n      <td>0.0815</td>\n      <td>0.758</td>\n      <td>0.665</td>\n      <td>0.000157</td>\n      <td>0.216</td>\n      <td>-5.188</td>\n      <td>0.0774</td>\n      <td>0.643</td>\n      <td>151.976</td>\n      <td>0</td>\n    </tr>\n    <tr>\n      <th>3</th>\n      <td>3wFLWP0FcIqHK1wb1CPthQ</td>\n      <td>fake smile</td>\n      <td>['66CXWjxzNUsdJxJ2JdwvnR']</td>\n      <td>['Ariana Grande']</td>\n      <td>73</td>\n      <td>True</td>\n      <td>Solo</td>\n      <td>5</td>\n      <td>1</td>\n      <td>79</td>\n      <td>...</td>\n      <td>0.329</td>\n      <td>0.45</td>\n      <td>0.619</td>\n      <td>0</td>\n      <td>0.319</td>\n      <td>-7.412</td>\n      <td>0.372</td>\n      <td>0.427</td>\n      <td>83.3</td>\n      <td>0</td>\n    </tr>\n    <tr>\n      <th>4</th>\n      <td>5Il6Oe7lr5XM7A0cWbVQtr</td>\n      <td>bad idea</td>\n      <td>['66CXWjxzNUsdJxJ2JdwvnR']</td>\n      <td>['Ariana Grande']</td>\n      <td>74</td>\n      <td>False</td>\n      <td>Solo</td>\n      <td>6</td>\n      <td>1</td>\n      <td>79</td>\n      <td>...</td>\n      <td>0.0268</td>\n      <td>0.847</td>\n      <td>0.579</td>\n      <td>0.0545</td>\n      <td>0.102</td>\n      <td>-5.314</td>\n      <td>0.0719</td>\n      <td>0.569</td>\n      <td>137.998</td>\n      <td>0</td>\n    </tr>\n    <tr>\n      <th>...</th>\n      <td>...</td>\n      <td>...</td>\n      <td>...</td>\n      <td>...</td>\n      <td>...</td>\n      <td>...</td>\n      <td>...</td>\n      <td>...</td>\n      <td>...</td>\n      <td>...</td>\n      <td>...</td>\n      <td>...</td>\n      <td>...</td>\n      <td>...</td>\n      <td>...</td>\n      <td>...</td>\n      <td>...</td>\n      <td>...</td>\n      <td>...</td>\n      <td>...</td>\n      <td>...</td>\n    </tr>\n    <tr>\n      <th>899063</th>\n      <td>2tP0ryZParpdjvxubgXhTN</td>\n      <td>Love Is Here to Stay</td>\n      <td>['3Dzj993UEz8Z5ovxuirzFO', '6RCsx4p5smZHYz2P5H...</td>\n      <td>['Lindsey Buckingham', 'Christine McVie']</td>\n      <td>16</td>\n      <td>False</td>\n      <td>Collaboration</td>\n      <td>5</td>\n      <td>2</td>\n      <td>1</td>\n      <td>...</td>\n      <td>0.366</td>\n      <td>0.446</td>\n      <td>0.658</td>\n      <td>2.49e-05</td>\n      <td>0.751</td>\n      <td>-8.362</td>\n      <td>0.0297</td>\n      <td>0.554</td>\n      <td>84.74</td>\n      <td>0</td>\n    </tr>\n    <tr>\n      <th>899064</th>\n      <td>7Ltni80U0w7bmYjXPNzSEa</td>\n      <td>Heinlein's Planet</td>\n      <td>['4urvwbid7NFoVes5PTx9lV']</td>\n      <td>['Tony Carey']</td>\n      <td>0</td>\n      <td>False</td>\n      <td>Solo</td>\n      <td>5</td>\n      <td>1</td>\n      <td>79</td>\n      <td>...</td>\n      <td>0.481</td>\n      <td>0.305</td>\n      <td>0.456</td>\n      <td>0.933</td>\n      <td>0.111</td>\n      <td>-20.199</td>\n      <td>0.0634</td>\n      <td>0.171</td>\n      <td>96.996</td>\n      <td>0</td>\n    </tr>\n    <tr>\n      <th>899065</th>\n      <td>1gQClXN1Dq4rj0wBzddcNA</td>\n      <td>Beds are Burning - Karaoke Lead Vocal Version</td>\n      <td>['7yv4DJOCmilSbxxsdQgXWk']</td>\n      <td>['Pictomusic']</td>\n      <td>0</td>\n      <td>False</td>\n      <td>Solo</td>\n      <td>2</td>\n      <td>1</td>\n      <td>79</td>\n      <td>...</td>\n      <td>0.0118</td>\n      <td>0.852</td>\n      <td>0.648</td>\n      <td>0</td>\n      <td>0.0503</td>\n      <td>-7.189</td>\n      <td>0.048</td>\n      <td>0.559</td>\n      <td>120.15</td>\n      <td>0</td>\n    </tr>\n    <tr>\n      <th>899066</th>\n      <td>2jhxQrFNdVPkWL28X7ZpeK</td>\n      <td>Un homme heureux - Version karaoké instrumentale</td>\n      <td>['7yv4DJOCmilSbxxsdQgXWk']</td>\n      <td>['Pictomusic']</td>\n      <td>0</td>\n      <td>False</td>\n      <td>Solo</td>\n      <td>1</td>\n      <td>1</td>\n      <td>79</td>\n      <td>...</td>\n      <td>0.973</td>\n      <td>0.664</td>\n      <td>0.353</td>\n      <td>0.787</td>\n      <td>0.0878</td>\n      <td>-12.303</td>\n      <td>0.0693</td>\n      <td>0.284</td>\n      <td>116.45</td>\n      <td>0</td>\n    </tr>\n    <tr>\n      <th>899067</th>\n      <td>6KkbkpUObAqcKGEfvguHJO</td>\n      <td>Santa Claus Is Coming to Town</td>\n      <td>['7tdO7d7r0vhwov7RIZWH6V']</td>\n      <td>['Mitch Ryder']</td>\n      <td>0</td>\n      <td>False</td>\n      <td>Solo</td>\n      <td>3</td>\n      <td>1</td>\n      <td>79</td>\n      <td>...</td>\n      <td>0.386</td>\n      <td>0.651</td>\n      <td>0.896</td>\n      <td>0.00163</td>\n      <td>0.0734</td>\n      <td>-6.004</td>\n      <td>0.0327</td>\n      <td>0.893</td>\n      <td>148.107</td>\n      <td>0</td>\n    </tr>\n  </tbody>\n</table>\n<p>899068 rows × 25 columns</p>\n</div>"
     },
     "execution_count": 2,
     "metadata": {},
     "output_type": "execute_result"
    }
   ],
   "source": [
    "df_nonhits = pd.read_csv(\"additional/nonhits_dataset.csv\", delimiter=\"\\t\")\n",
    "df_nonhits[\"hit\"] = 0\n",
    "df_nonhits"
   ],
   "metadata": {
    "collapsed": false,
    "ExecuteTime": {
     "end_time": "2024-05-06T14:02:16.303619700Z",
     "start_time": "2024-05-06T14:02:12.943278Z"
    }
   },
   "id": "26d5e57f02f1e85d"
  },
  {
   "cell_type": "code",
   "execution_count": 3,
   "outputs": [
    {
     "data": {
      "text/plain": "                       song_id  \\\n0       3e9HZxeyfWwjeyPAMmWSSQ   \n1       5p7ujcrUXASCNwRaWNHR1C   \n2       2xLMifQCjDGFmkHkpNLD9h   \n3       3KkXRkHbMCARz0aVfEt68P   \n4       1rqqCSm0Qe4I9rUvWncaom   \n...                        ...   \n899063  2tP0ryZParpdjvxubgXhTN   \n899064  7Ltni80U0w7bmYjXPNzSEa   \n899065  1gQClXN1Dq4rj0wBzddcNA   \n899066  2jhxQrFNdVPkWL28X7ZpeK   \n899067  6KkbkpUObAqcKGEfvguHJO   \n\n                                               song_name  \\\n0                                          thank u, next   \n1                                             Without Me   \n2                                             SICKO MODE   \n3          Sunflower - Spider-Man: Into the Spider-Verse   \n4                                             High Hopes   \n...                                                  ...   \n899063                              Love Is Here to Stay   \n899064                                 Heinlein's Planet   \n899065     Beds are Burning - Karaoke Lead Vocal Version   \n899066  Un homme heureux - Version karaoké instrumentale   \n899067                     Santa Claus Is Coming to Town   \n\n                                               id_artists  \\\n0                              ['66CXWjxzNUsdJxJ2JdwvnR']   \n1                              ['26VFTg2z8YR0cCuwLzESi2']   \n2                              ['0Y5tJX1MQlPlqiwlOH1tJY']   \n3       ['246dkjvS1zLTtiykXe5h60', '1zNqQNIdeOUZHb8zbZ...   \n4                              ['20JZFwl6HVl6yg8a4H3ZqK']   \n...                                                   ...   \n899063  ['3Dzj993UEz8Z5ovxuirzFO', '6RCsx4p5smZHYz2P5H...   \n899064                         ['4urvwbid7NFoVes5PTx9lV']   \n899065                         ['7yv4DJOCmilSbxxsdQgXWk']   \n899066                         ['7yv4DJOCmilSbxxsdQgXWk']   \n899067                         ['7tdO7d7r0vhwov7RIZWH6V']   \n\n                                     name_artists  popularity  explicit  \\\n0                               ['Ariana Grande']          87      True   \n1                                      ['Halsey']          87      True   \n2                                ['Travis Scott']          86      True   \n3                     ['Post Malone', 'Swae Lee']          92     False   \n4                         ['Panic! At The Disco']          86     False   \n...                                           ...         ...       ...   \n899063  ['Lindsey Buckingham', 'Christine McVie']          16     False   \n899064                             ['Tony Carey']           0     False   \n899065                             ['Pictomusic']           0     False   \n899066                             ['Pictomusic']           0     False   \n899067                            ['Mitch Ryder']           0     False   \n\n            song_type  track_number  num_artists  num_available_markets  ...  \\\n0                Solo            11            1                     79  ...   \n1                Solo             1            1                     79  ...   \n2                Solo             3            1                     79  ...   \n3       Collaboration             2            2                     79  ...   \n4                Solo             4            1                     78  ...   \n...               ...           ...          ...                    ...  ...   \n899063  Collaboration             5            2                      1  ...   \n899064           Solo             5            1                     79  ...   \n899065           Solo             2            1                     79  ...   \n899066           Solo             1            1                     79  ...   \n899067           Solo             3            1                     79  ...   \n\n       acousticness danceability energy instrumentalness liveness loudness  \\\n0             0.229        0.717  0.653              0.0    0.101   -5.634   \n1             0.297        0.752  0.488         0.000009   0.0936    -7.05   \n2           0.00513        0.834   0.73              0.0    0.124   -3.714   \n3             0.556         0.76  0.479              0.0   0.0703   -5.574   \n4             0.193        0.579  0.904              0.0    0.064   -2.729   \n...             ...          ...    ...              ...      ...      ...   \n899063        0.366        0.446  0.658         2.49e-05    0.751   -8.362   \n899064        0.481        0.305  0.456            0.933    0.111  -20.199   \n899065       0.0118        0.852  0.648                0   0.0503   -7.189   \n899066        0.973        0.664  0.353            0.787   0.0878  -12.303   \n899067        0.386        0.651  0.896          0.00163   0.0734   -6.004   \n\n       speechiness valence    tempo hit  \n0           0.0658   0.412  106.966   1  \n1           0.0705   0.533  136.041   1  \n2            0.222   0.446  155.008   1  \n3           0.0466   0.913   89.911   1  \n4           0.0618   0.681   82.014   1  \n...            ...     ...      ...  ..  \n899063      0.0297   0.554    84.74   0  \n899064      0.0634   0.171   96.996   0  \n899065       0.048   0.559   120.15   0  \n899066      0.0693   0.284   116.45   0  \n899067      0.0327   0.893  148.107   0  \n\n[911027 rows x 25 columns]",
      "text/html": "<div>\n<style scoped>\n    .dataframe tbody tr th:only-of-type {\n        vertical-align: middle;\n    }\n\n    .dataframe tbody tr th {\n        vertical-align: top;\n    }\n\n    .dataframe thead th {\n        text-align: right;\n    }\n</style>\n<table border=\"1\" class=\"dataframe\">\n  <thead>\n    <tr style=\"text-align: right;\">\n      <th></th>\n      <th>song_id</th>\n      <th>song_name</th>\n      <th>id_artists</th>\n      <th>name_artists</th>\n      <th>popularity</th>\n      <th>explicit</th>\n      <th>song_type</th>\n      <th>track_number</th>\n      <th>num_artists</th>\n      <th>num_available_markets</th>\n      <th>...</th>\n      <th>acousticness</th>\n      <th>danceability</th>\n      <th>energy</th>\n      <th>instrumentalness</th>\n      <th>liveness</th>\n      <th>loudness</th>\n      <th>speechiness</th>\n      <th>valence</th>\n      <th>tempo</th>\n      <th>hit</th>\n    </tr>\n  </thead>\n  <tbody>\n    <tr>\n      <th>0</th>\n      <td>3e9HZxeyfWwjeyPAMmWSSQ</td>\n      <td>thank u, next</td>\n      <td>['66CXWjxzNUsdJxJ2JdwvnR']</td>\n      <td>['Ariana Grande']</td>\n      <td>87</td>\n      <td>True</td>\n      <td>Solo</td>\n      <td>11</td>\n      <td>1</td>\n      <td>79</td>\n      <td>...</td>\n      <td>0.229</td>\n      <td>0.717</td>\n      <td>0.653</td>\n      <td>0.0</td>\n      <td>0.101</td>\n      <td>-5.634</td>\n      <td>0.0658</td>\n      <td>0.412</td>\n      <td>106.966</td>\n      <td>1</td>\n    </tr>\n    <tr>\n      <th>1</th>\n      <td>5p7ujcrUXASCNwRaWNHR1C</td>\n      <td>Without Me</td>\n      <td>['26VFTg2z8YR0cCuwLzESi2']</td>\n      <td>['Halsey']</td>\n      <td>87</td>\n      <td>True</td>\n      <td>Solo</td>\n      <td>1</td>\n      <td>1</td>\n      <td>79</td>\n      <td>...</td>\n      <td>0.297</td>\n      <td>0.752</td>\n      <td>0.488</td>\n      <td>0.000009</td>\n      <td>0.0936</td>\n      <td>-7.05</td>\n      <td>0.0705</td>\n      <td>0.533</td>\n      <td>136.041</td>\n      <td>1</td>\n    </tr>\n    <tr>\n      <th>2</th>\n      <td>2xLMifQCjDGFmkHkpNLD9h</td>\n      <td>SICKO MODE</td>\n      <td>['0Y5tJX1MQlPlqiwlOH1tJY']</td>\n      <td>['Travis Scott']</td>\n      <td>86</td>\n      <td>True</td>\n      <td>Solo</td>\n      <td>3</td>\n      <td>1</td>\n      <td>79</td>\n      <td>...</td>\n      <td>0.00513</td>\n      <td>0.834</td>\n      <td>0.73</td>\n      <td>0.0</td>\n      <td>0.124</td>\n      <td>-3.714</td>\n      <td>0.222</td>\n      <td>0.446</td>\n      <td>155.008</td>\n      <td>1</td>\n    </tr>\n    <tr>\n      <th>3</th>\n      <td>3KkXRkHbMCARz0aVfEt68P</td>\n      <td>Sunflower - Spider-Man: Into the Spider-Verse</td>\n      <td>['246dkjvS1zLTtiykXe5h60', '1zNqQNIdeOUZHb8zbZ...</td>\n      <td>['Post Malone', 'Swae Lee']</td>\n      <td>92</td>\n      <td>False</td>\n      <td>Collaboration</td>\n      <td>2</td>\n      <td>2</td>\n      <td>79</td>\n      <td>...</td>\n      <td>0.556</td>\n      <td>0.76</td>\n      <td>0.479</td>\n      <td>0.0</td>\n      <td>0.0703</td>\n      <td>-5.574</td>\n      <td>0.0466</td>\n      <td>0.913</td>\n      <td>89.911</td>\n      <td>1</td>\n    </tr>\n    <tr>\n      <th>4</th>\n      <td>1rqqCSm0Qe4I9rUvWncaom</td>\n      <td>High Hopes</td>\n      <td>['20JZFwl6HVl6yg8a4H3ZqK']</td>\n      <td>['Panic! At The Disco']</td>\n      <td>86</td>\n      <td>False</td>\n      <td>Solo</td>\n      <td>4</td>\n      <td>1</td>\n      <td>78</td>\n      <td>...</td>\n      <td>0.193</td>\n      <td>0.579</td>\n      <td>0.904</td>\n      <td>0.0</td>\n      <td>0.064</td>\n      <td>-2.729</td>\n      <td>0.0618</td>\n      <td>0.681</td>\n      <td>82.014</td>\n      <td>1</td>\n    </tr>\n    <tr>\n      <th>...</th>\n      <td>...</td>\n      <td>...</td>\n      <td>...</td>\n      <td>...</td>\n      <td>...</td>\n      <td>...</td>\n      <td>...</td>\n      <td>...</td>\n      <td>...</td>\n      <td>...</td>\n      <td>...</td>\n      <td>...</td>\n      <td>...</td>\n      <td>...</td>\n      <td>...</td>\n      <td>...</td>\n      <td>...</td>\n      <td>...</td>\n      <td>...</td>\n      <td>...</td>\n      <td>...</td>\n    </tr>\n    <tr>\n      <th>899063</th>\n      <td>2tP0ryZParpdjvxubgXhTN</td>\n      <td>Love Is Here to Stay</td>\n      <td>['3Dzj993UEz8Z5ovxuirzFO', '6RCsx4p5smZHYz2P5H...</td>\n      <td>['Lindsey Buckingham', 'Christine McVie']</td>\n      <td>16</td>\n      <td>False</td>\n      <td>Collaboration</td>\n      <td>5</td>\n      <td>2</td>\n      <td>1</td>\n      <td>...</td>\n      <td>0.366</td>\n      <td>0.446</td>\n      <td>0.658</td>\n      <td>2.49e-05</td>\n      <td>0.751</td>\n      <td>-8.362</td>\n      <td>0.0297</td>\n      <td>0.554</td>\n      <td>84.74</td>\n      <td>0</td>\n    </tr>\n    <tr>\n      <th>899064</th>\n      <td>7Ltni80U0w7bmYjXPNzSEa</td>\n      <td>Heinlein's Planet</td>\n      <td>['4urvwbid7NFoVes5PTx9lV']</td>\n      <td>['Tony Carey']</td>\n      <td>0</td>\n      <td>False</td>\n      <td>Solo</td>\n      <td>5</td>\n      <td>1</td>\n      <td>79</td>\n      <td>...</td>\n      <td>0.481</td>\n      <td>0.305</td>\n      <td>0.456</td>\n      <td>0.933</td>\n      <td>0.111</td>\n      <td>-20.199</td>\n      <td>0.0634</td>\n      <td>0.171</td>\n      <td>96.996</td>\n      <td>0</td>\n    </tr>\n    <tr>\n      <th>899065</th>\n      <td>1gQClXN1Dq4rj0wBzddcNA</td>\n      <td>Beds are Burning - Karaoke Lead Vocal Version</td>\n      <td>['7yv4DJOCmilSbxxsdQgXWk']</td>\n      <td>['Pictomusic']</td>\n      <td>0</td>\n      <td>False</td>\n      <td>Solo</td>\n      <td>2</td>\n      <td>1</td>\n      <td>79</td>\n      <td>...</td>\n      <td>0.0118</td>\n      <td>0.852</td>\n      <td>0.648</td>\n      <td>0</td>\n      <td>0.0503</td>\n      <td>-7.189</td>\n      <td>0.048</td>\n      <td>0.559</td>\n      <td>120.15</td>\n      <td>0</td>\n    </tr>\n    <tr>\n      <th>899066</th>\n      <td>2jhxQrFNdVPkWL28X7ZpeK</td>\n      <td>Un homme heureux - Version karaoké instrumentale</td>\n      <td>['7yv4DJOCmilSbxxsdQgXWk']</td>\n      <td>['Pictomusic']</td>\n      <td>0</td>\n      <td>False</td>\n      <td>Solo</td>\n      <td>1</td>\n      <td>1</td>\n      <td>79</td>\n      <td>...</td>\n      <td>0.973</td>\n      <td>0.664</td>\n      <td>0.353</td>\n      <td>0.787</td>\n      <td>0.0878</td>\n      <td>-12.303</td>\n      <td>0.0693</td>\n      <td>0.284</td>\n      <td>116.45</td>\n      <td>0</td>\n    </tr>\n    <tr>\n      <th>899067</th>\n      <td>6KkbkpUObAqcKGEfvguHJO</td>\n      <td>Santa Claus Is Coming to Town</td>\n      <td>['7tdO7d7r0vhwov7RIZWH6V']</td>\n      <td>['Mitch Ryder']</td>\n      <td>0</td>\n      <td>False</td>\n      <td>Solo</td>\n      <td>3</td>\n      <td>1</td>\n      <td>79</td>\n      <td>...</td>\n      <td>0.386</td>\n      <td>0.651</td>\n      <td>0.896</td>\n      <td>0.00163</td>\n      <td>0.0734</td>\n      <td>-6.004</td>\n      <td>0.0327</td>\n      <td>0.893</td>\n      <td>148.107</td>\n      <td>0</td>\n    </tr>\n  </tbody>\n</table>\n<p>911027 rows × 25 columns</p>\n</div>"
     },
     "execution_count": 3,
     "metadata": {},
     "output_type": "execute_result"
    }
   ],
   "source": [
    "combined_df = pd.concat([df_hits, df_nonhits], axis=0)\n",
    "combined_df.replace(\"-\", float(\"nan\"), inplace=True)\n",
    "# Drop all rows with NaN values\n",
    "combined_df"
   ],
   "metadata": {
    "collapsed": false,
    "ExecuteTime": {
     "end_time": "2024-05-06T14:02:17.994619800Z",
     "start_time": "2024-05-06T14:02:16.301622700Z"
    }
   },
   "id": "6f9b2d1a6293f615"
  },
  {
   "cell_type": "code",
   "execution_count": 4,
   "outputs": [
    {
     "name": "stdout",
     "output_type": "stream",
     "text": [
      "Columns with NaN values:\n",
      "['duration_ms', 'key', 'mode', 'time_signature', 'acousticness', 'danceability', 'energy', 'instrumentalness', 'liveness', 'loudness', 'speechiness', 'valence', 'tempo']\n"
     ]
    }
   ],
   "source": [
    "# Check for NaN values in all columns\n",
    "nan_columns = combined_df.columns[combined_df.isna().any()].tolist()\n",
    "\n",
    "# Print columns with NaN values\n",
    "print(\"Columns with NaN values:\")\n",
    "print(nan_columns)\n"
   ],
   "metadata": {
    "collapsed": false,
    "ExecuteTime": {
     "end_time": "2024-05-06T14:02:18.338054300Z",
     "start_time": "2024-05-06T14:02:17.992621500Z"
    }
   },
   "id": "8756697fa413e9af"
  },
  {
   "cell_type": "code",
   "execution_count": 5,
   "outputs": [
    {
     "data": {
      "text/plain": "                       song_id  \\\n0       3e9HZxeyfWwjeyPAMmWSSQ   \n1       5p7ujcrUXASCNwRaWNHR1C   \n2       2xLMifQCjDGFmkHkpNLD9h   \n3       3KkXRkHbMCARz0aVfEt68P   \n4       1rqqCSm0Qe4I9rUvWncaom   \n...                        ...   \n899063  2tP0ryZParpdjvxubgXhTN   \n899064  7Ltni80U0w7bmYjXPNzSEa   \n899065  1gQClXN1Dq4rj0wBzddcNA   \n899066  2jhxQrFNdVPkWL28X7ZpeK   \n899067  6KkbkpUObAqcKGEfvguHJO   \n\n                                               song_name  \\\n0                                          thank u, next   \n1                                             Without Me   \n2                                             SICKO MODE   \n3          Sunflower - Spider-Man: Into the Spider-Verse   \n4                                             High Hopes   \n...                                                  ...   \n899063                              Love Is Here to Stay   \n899064                                 Heinlein's Planet   \n899065     Beds are Burning - Karaoke Lead Vocal Version   \n899066  Un homme heureux - Version karaoké instrumentale   \n899067                     Santa Claus Is Coming to Town   \n\n                                               id_artists  \\\n0                              ['66CXWjxzNUsdJxJ2JdwvnR']   \n1                              ['26VFTg2z8YR0cCuwLzESi2']   \n2                              ['0Y5tJX1MQlPlqiwlOH1tJY']   \n3       ['246dkjvS1zLTtiykXe5h60', '1zNqQNIdeOUZHb8zbZ...   \n4                              ['20JZFwl6HVl6yg8a4H3ZqK']   \n...                                                   ...   \n899063  ['3Dzj993UEz8Z5ovxuirzFO', '6RCsx4p5smZHYz2P5H...   \n899064                         ['4urvwbid7NFoVes5PTx9lV']   \n899065                         ['7yv4DJOCmilSbxxsdQgXWk']   \n899066                         ['7yv4DJOCmilSbxxsdQgXWk']   \n899067                         ['7tdO7d7r0vhwov7RIZWH6V']   \n\n                                     name_artists  popularity  explicit  \\\n0                               ['Ariana Grande']          87      True   \n1                                      ['Halsey']          87      True   \n2                                ['Travis Scott']          86      True   \n3                     ['Post Malone', 'Swae Lee']          92     False   \n4                         ['Panic! At The Disco']          86     False   \n...                                           ...         ...       ...   \n899063  ['Lindsey Buckingham', 'Christine McVie']          16     False   \n899064                             ['Tony Carey']           0     False   \n899065                             ['Pictomusic']           0     False   \n899066                             ['Pictomusic']           0     False   \n899067                            ['Mitch Ryder']           0     False   \n\n            song_type  track_number  num_artists  num_available_markets  ...  \\\n0                Solo            11            1                     79  ...   \n1                Solo             1            1                     79  ...   \n2                Solo             3            1                     79  ...   \n3       Collaboration             2            2                     79  ...   \n4                Solo             4            1                     78  ...   \n...               ...           ...          ...                    ...  ...   \n899063  Collaboration             5            2                      1  ...   \n899064           Solo             5            1                     79  ...   \n899065           Solo             2            1                     79  ...   \n899066           Solo             1            1                     79  ...   \n899067           Solo             3            1                     79  ...   \n\n       acousticness  danceability  energy  instrumentalness  liveness  \\\n0           0.22900         0.717   0.653          0.000000    0.1010   \n1           0.29700         0.752   0.488          0.000009    0.0936   \n2           0.00513         0.834   0.730          0.000000    0.1240   \n3           0.55600         0.760   0.479          0.000000    0.0703   \n4           0.19300         0.579   0.904          0.000000    0.0640   \n...             ...           ...     ...               ...       ...   \n899063      0.36600         0.446   0.658          0.000025    0.7510   \n899064      0.48100         0.305   0.456          0.933000    0.1110   \n899065      0.01180         0.852   0.648          0.000000    0.0503   \n899066      0.97300         0.664   0.353          0.787000    0.0878   \n899067      0.38600         0.651   0.896          0.001630    0.0734   \n\n        loudness  speechiness  valence    tempo  hit  \n0         -5.634       0.0658    0.412  106.966    1  \n1         -7.050       0.0705    0.533  136.041    1  \n2         -3.714       0.2220    0.446  155.008    1  \n3         -5.574       0.0466    0.913   89.911    1  \n4         -2.729       0.0618    0.681   82.014    1  \n...          ...          ...      ...      ...  ...  \n899063    -8.362       0.0297    0.554   84.740    0  \n899064   -20.199       0.0634    0.171   96.996    0  \n899065    -7.189       0.0480    0.559  120.150    0  \n899066   -12.303       0.0693    0.284  116.450    0  \n899067    -6.004       0.0327    0.893  148.107    0  \n\n[911027 rows x 25 columns]",
      "text/html": "<div>\n<style scoped>\n    .dataframe tbody tr th:only-of-type {\n        vertical-align: middle;\n    }\n\n    .dataframe tbody tr th {\n        vertical-align: top;\n    }\n\n    .dataframe thead th {\n        text-align: right;\n    }\n</style>\n<table border=\"1\" class=\"dataframe\">\n  <thead>\n    <tr style=\"text-align: right;\">\n      <th></th>\n      <th>song_id</th>\n      <th>song_name</th>\n      <th>id_artists</th>\n      <th>name_artists</th>\n      <th>popularity</th>\n      <th>explicit</th>\n      <th>song_type</th>\n      <th>track_number</th>\n      <th>num_artists</th>\n      <th>num_available_markets</th>\n      <th>...</th>\n      <th>acousticness</th>\n      <th>danceability</th>\n      <th>energy</th>\n      <th>instrumentalness</th>\n      <th>liveness</th>\n      <th>loudness</th>\n      <th>speechiness</th>\n      <th>valence</th>\n      <th>tempo</th>\n      <th>hit</th>\n    </tr>\n  </thead>\n  <tbody>\n    <tr>\n      <th>0</th>\n      <td>3e9HZxeyfWwjeyPAMmWSSQ</td>\n      <td>thank u, next</td>\n      <td>['66CXWjxzNUsdJxJ2JdwvnR']</td>\n      <td>['Ariana Grande']</td>\n      <td>87</td>\n      <td>True</td>\n      <td>Solo</td>\n      <td>11</td>\n      <td>1</td>\n      <td>79</td>\n      <td>...</td>\n      <td>0.22900</td>\n      <td>0.717</td>\n      <td>0.653</td>\n      <td>0.000000</td>\n      <td>0.1010</td>\n      <td>-5.634</td>\n      <td>0.0658</td>\n      <td>0.412</td>\n      <td>106.966</td>\n      <td>1</td>\n    </tr>\n    <tr>\n      <th>1</th>\n      <td>5p7ujcrUXASCNwRaWNHR1C</td>\n      <td>Without Me</td>\n      <td>['26VFTg2z8YR0cCuwLzESi2']</td>\n      <td>['Halsey']</td>\n      <td>87</td>\n      <td>True</td>\n      <td>Solo</td>\n      <td>1</td>\n      <td>1</td>\n      <td>79</td>\n      <td>...</td>\n      <td>0.29700</td>\n      <td>0.752</td>\n      <td>0.488</td>\n      <td>0.000009</td>\n      <td>0.0936</td>\n      <td>-7.050</td>\n      <td>0.0705</td>\n      <td>0.533</td>\n      <td>136.041</td>\n      <td>1</td>\n    </tr>\n    <tr>\n      <th>2</th>\n      <td>2xLMifQCjDGFmkHkpNLD9h</td>\n      <td>SICKO MODE</td>\n      <td>['0Y5tJX1MQlPlqiwlOH1tJY']</td>\n      <td>['Travis Scott']</td>\n      <td>86</td>\n      <td>True</td>\n      <td>Solo</td>\n      <td>3</td>\n      <td>1</td>\n      <td>79</td>\n      <td>...</td>\n      <td>0.00513</td>\n      <td>0.834</td>\n      <td>0.730</td>\n      <td>0.000000</td>\n      <td>0.1240</td>\n      <td>-3.714</td>\n      <td>0.2220</td>\n      <td>0.446</td>\n      <td>155.008</td>\n      <td>1</td>\n    </tr>\n    <tr>\n      <th>3</th>\n      <td>3KkXRkHbMCARz0aVfEt68P</td>\n      <td>Sunflower - Spider-Man: Into the Spider-Verse</td>\n      <td>['246dkjvS1zLTtiykXe5h60', '1zNqQNIdeOUZHb8zbZ...</td>\n      <td>['Post Malone', 'Swae Lee']</td>\n      <td>92</td>\n      <td>False</td>\n      <td>Collaboration</td>\n      <td>2</td>\n      <td>2</td>\n      <td>79</td>\n      <td>...</td>\n      <td>0.55600</td>\n      <td>0.760</td>\n      <td>0.479</td>\n      <td>0.000000</td>\n      <td>0.0703</td>\n      <td>-5.574</td>\n      <td>0.0466</td>\n      <td>0.913</td>\n      <td>89.911</td>\n      <td>1</td>\n    </tr>\n    <tr>\n      <th>4</th>\n      <td>1rqqCSm0Qe4I9rUvWncaom</td>\n      <td>High Hopes</td>\n      <td>['20JZFwl6HVl6yg8a4H3ZqK']</td>\n      <td>['Panic! At The Disco']</td>\n      <td>86</td>\n      <td>False</td>\n      <td>Solo</td>\n      <td>4</td>\n      <td>1</td>\n      <td>78</td>\n      <td>...</td>\n      <td>0.19300</td>\n      <td>0.579</td>\n      <td>0.904</td>\n      <td>0.000000</td>\n      <td>0.0640</td>\n      <td>-2.729</td>\n      <td>0.0618</td>\n      <td>0.681</td>\n      <td>82.014</td>\n      <td>1</td>\n    </tr>\n    <tr>\n      <th>...</th>\n      <td>...</td>\n      <td>...</td>\n      <td>...</td>\n      <td>...</td>\n      <td>...</td>\n      <td>...</td>\n      <td>...</td>\n      <td>...</td>\n      <td>...</td>\n      <td>...</td>\n      <td>...</td>\n      <td>...</td>\n      <td>...</td>\n      <td>...</td>\n      <td>...</td>\n      <td>...</td>\n      <td>...</td>\n      <td>...</td>\n      <td>...</td>\n      <td>...</td>\n      <td>...</td>\n    </tr>\n    <tr>\n      <th>899063</th>\n      <td>2tP0ryZParpdjvxubgXhTN</td>\n      <td>Love Is Here to Stay</td>\n      <td>['3Dzj993UEz8Z5ovxuirzFO', '6RCsx4p5smZHYz2P5H...</td>\n      <td>['Lindsey Buckingham', 'Christine McVie']</td>\n      <td>16</td>\n      <td>False</td>\n      <td>Collaboration</td>\n      <td>5</td>\n      <td>2</td>\n      <td>1</td>\n      <td>...</td>\n      <td>0.36600</td>\n      <td>0.446</td>\n      <td>0.658</td>\n      <td>0.000025</td>\n      <td>0.7510</td>\n      <td>-8.362</td>\n      <td>0.0297</td>\n      <td>0.554</td>\n      <td>84.740</td>\n      <td>0</td>\n    </tr>\n    <tr>\n      <th>899064</th>\n      <td>7Ltni80U0w7bmYjXPNzSEa</td>\n      <td>Heinlein's Planet</td>\n      <td>['4urvwbid7NFoVes5PTx9lV']</td>\n      <td>['Tony Carey']</td>\n      <td>0</td>\n      <td>False</td>\n      <td>Solo</td>\n      <td>5</td>\n      <td>1</td>\n      <td>79</td>\n      <td>...</td>\n      <td>0.48100</td>\n      <td>0.305</td>\n      <td>0.456</td>\n      <td>0.933000</td>\n      <td>0.1110</td>\n      <td>-20.199</td>\n      <td>0.0634</td>\n      <td>0.171</td>\n      <td>96.996</td>\n      <td>0</td>\n    </tr>\n    <tr>\n      <th>899065</th>\n      <td>1gQClXN1Dq4rj0wBzddcNA</td>\n      <td>Beds are Burning - Karaoke Lead Vocal Version</td>\n      <td>['7yv4DJOCmilSbxxsdQgXWk']</td>\n      <td>['Pictomusic']</td>\n      <td>0</td>\n      <td>False</td>\n      <td>Solo</td>\n      <td>2</td>\n      <td>1</td>\n      <td>79</td>\n      <td>...</td>\n      <td>0.01180</td>\n      <td>0.852</td>\n      <td>0.648</td>\n      <td>0.000000</td>\n      <td>0.0503</td>\n      <td>-7.189</td>\n      <td>0.0480</td>\n      <td>0.559</td>\n      <td>120.150</td>\n      <td>0</td>\n    </tr>\n    <tr>\n      <th>899066</th>\n      <td>2jhxQrFNdVPkWL28X7ZpeK</td>\n      <td>Un homme heureux - Version karaoké instrumentale</td>\n      <td>['7yv4DJOCmilSbxxsdQgXWk']</td>\n      <td>['Pictomusic']</td>\n      <td>0</td>\n      <td>False</td>\n      <td>Solo</td>\n      <td>1</td>\n      <td>1</td>\n      <td>79</td>\n      <td>...</td>\n      <td>0.97300</td>\n      <td>0.664</td>\n      <td>0.353</td>\n      <td>0.787000</td>\n      <td>0.0878</td>\n      <td>-12.303</td>\n      <td>0.0693</td>\n      <td>0.284</td>\n      <td>116.450</td>\n      <td>0</td>\n    </tr>\n    <tr>\n      <th>899067</th>\n      <td>6KkbkpUObAqcKGEfvguHJO</td>\n      <td>Santa Claus Is Coming to Town</td>\n      <td>['7tdO7d7r0vhwov7RIZWH6V']</td>\n      <td>['Mitch Ryder']</td>\n      <td>0</td>\n      <td>False</td>\n      <td>Solo</td>\n      <td>3</td>\n      <td>1</td>\n      <td>79</td>\n      <td>...</td>\n      <td>0.38600</td>\n      <td>0.651</td>\n      <td>0.896</td>\n      <td>0.001630</td>\n      <td>0.0734</td>\n      <td>-6.004</td>\n      <td>0.0327</td>\n      <td>0.893</td>\n      <td>148.107</td>\n      <td>0</td>\n    </tr>\n  </tbody>\n</table>\n<p>911027 rows × 25 columns</p>\n</div>"
     },
     "execution_count": 5,
     "metadata": {},
     "output_type": "execute_result"
    }
   ],
   "source": [
    "from sklearn.impute import SimpleImputer\n",
    "\n",
    "combined_df.replace(\"-\", float(\"nan\"), inplace=True)   ## evtl hier schon mean replacement???\n",
    "# combined_df.dropna(inplace=True)   # drop nan value rows\n",
    "#Fill missing values with mean for each numeric attribute\n",
    "imputer = SimpleImputer(strategy='mean')\n",
    "for col in nan_columns:\n",
    "    combined_df[col] = imputer.fit_transform(combined_df[[col]])\n",
    "\n",
    "combined_df"
   ],
   "metadata": {
    "collapsed": false,
    "ExecuteTime": {
     "end_time": "2024-05-06T14:02:21.997112800Z",
     "start_time": "2024-05-06T14:02:18.340681600Z"
    }
   },
   "id": "723e4477181f9728"
  },
  {
   "cell_type": "code",
   "execution_count": 6,
   "outputs": [
    {
     "name": "stdout",
     "output_type": "stream",
     "text": [
      "Columns with NaN values:\n",
      "[]\n"
     ]
    }
   ],
   "source": [
    "# Check for NaN values in all columns\n",
    "nan_columns = combined_df.columns[combined_df.isna().any()].tolist()\n",
    "\n",
    "# Print columns with NaN values\n",
    "print(\"Columns with NaN values:\")\n",
    "print(nan_columns)\n"
   ],
   "metadata": {
    "collapsed": false,
    "ExecuteTime": {
     "end_time": "2024-05-06T14:02:22.130111500Z",
     "start_time": "2024-05-06T14:02:22.071113Z"
    }
   },
   "id": "ad978e73fb721d3e"
  },
  {
   "cell_type": "code",
   "execution_count": 7,
   "outputs": [],
   "source": [
    "from sklearn.model_selection import train_test_split\n",
    "combined_df['date'] = pd.to_datetime(combined_df['release_date'])\n",
    "combined_df.sort_values(by=\"date\", inplace=True)\n",
    "border_day = combined_df[\"date\"].iloc[-1]  - pd.DateOffset(years=5)\n",
    "combined_df = combined_df[(combined_df[\"date\"] >= border_day)]\n",
    "\n",
    "split_day = combined_df[\"date\"].iloc[-1]  - pd.DateOffset(years=1)\n",
    "train_df = combined_df[(combined_df[\"date\"]  < split_day)]\n",
    "test_df = combined_df[(combined_df[\"date\"]  >= split_day)]\n",
    "#train_df, test_df = train_test_split(combined_df, test_size=1/6, shuffle=False)"
   ],
   "metadata": {
    "collapsed": false,
    "ExecuteTime": {
     "end_time": "2024-05-06T14:02:22.676113500Z",
     "start_time": "2024-05-06T14:02:22.147112400Z"
    }
   },
   "id": "f55fc8cca1de5d29"
  },
  {
   "cell_type": "code",
   "execution_count": 8,
   "outputs": [
    {
     "data": {
      "text/plain": "                       song_id  \\\n890508  2F2KnlkMvRIQM2phyz1NYh   \n81022   6kZ6EPli1wps476k58QoM3   \n81023   5OK4VpBJf3fsZIqCFJY4F3   \n81021   0fAOmzEJtclHr2iMrhWQHU   \n81029   5Snl4twAgLjf1XRxxFpUwl   \n...                        ...   \n11098   0xAqhyWvTkfcdFgm7dozMO   \n10903   6zhg8TnVKi90ITDzFKwPr0   \n5856    2GvkFSjRXV0Ii3uYnHiQ74   \n5080    0lej8CemYKkWVHg77Xe1ky   \n10666   6Fh2QgjCxL96dA3Gtpfr4Q   \n\n                                                song_name  \\\n890508                                Oh How I Love Jesus   \n81022            Get The Girl Back (Instrumental Version)   \n81023                                    Mamma Knows Best   \n81021                                   Get The Girl Back   \n81029                                       Shakin' Hands   \n...                                                   ...   \n11098             (I Wanna) Testify (Mono Single Version)   \n10903                       Swingtown - Alternate Version   \n5856                                       Take My Advice   \n5080             A Man Holdin' on (To a Woman Lettin’ Go)   \n10666   One Sweet Day (16-Bit Mariah Carey & Boyz II M...   \n\n                                               id_artists  \\\n890508                         ['6CXezToiGS8K6jr9kr8Muv']   \n81022                          ['1WDVM4rBdKu6nHeJ6hQMN9']   \n81023                          ['1WDVM4rBdKu6nHeJ6hQMN9']   \n81021                          ['1WDVM4rBdKu6nHeJ6hQMN9']   \n81029                          ['1WDVM4rBdKu6nHeJ6hQMN9']   \n...                                                   ...   \n11098                          ['1Ve5PoI7i5jIIP1xudo6AB']   \n10903                          ['6QtGlUje9TIkLrgPZrESuk']   \n5856                           ['40PLSl99xXqAQsCQQPmfyM']   \n5080    ['1Fj0R2t4HaJa3oUe8azB8R', '5LDnSV99gbDSsMX3Dc...   \n10666                          ['1v4YnufenjE9BLAfP90qvt']   \n\n                           name_artists  popularity  explicit      song_type  \\\n890508              ['The Jordanaires']           0     False           Solo   \n81022              ['2014 Golden Cove']           0     False           Solo   \n81023              ['2014 Golden Cove']           0     False           Solo   \n81021              ['2014 Golden Cove']           0     False           Solo   \n81029              ['2014 Golden Cove']           0     False           Solo   \n...                                 ...         ...       ...            ...   \n11098               ['The Parliaments']           7     False           Solo   \n10903             ['Steve Miller Band']          26     False           Solo   \n5856                       ['Kym Sims']           0     False           Solo   \n5080    ['Ty Herndon', 'Anita Cochran']          14     False  Collaboration   \n10666                 ['Arcade Player']           0     False           Solo   \n\n        track_number  num_artists  num_available_markets  ... danceability  \\\n890508             2            1                     78  ...        0.458   \n81022              2            1                     79  ...        0.620   \n81023              1            1                     79  ...        0.689   \n81021              1            1                     79  ...        0.783   \n81029              1            1                     79  ...        0.648   \n...              ...          ...                    ...  ...          ...   \n11098             10            1                     79  ...        0.668   \n10903              5            1                     79  ...        0.459   \n5856              10            1                     73  ...        0.737   \n5080               7            2                     79  ...        0.611   \n10666             27            1                     79  ...        0.395   \n\n        energy  instrumentalness  liveness  loudness  speechiness  valence  \\\n890508   0.487          0.000003    0.1090    -8.193       0.0379    0.750   \n81022    0.812          0.869000    0.1800   -13.474       0.0367    0.980   \n81023    0.313          0.103000    0.0901   -10.325       0.0882    0.663   \n81021    0.763          0.000000    0.1790    -8.382       0.0311    0.960   \n81029    0.622          0.000000    0.3140    -9.420       0.0352    0.714   \n...        ...               ...       ...       ...          ...      ...   \n11098    0.702          0.000000    0.0521    -5.750       0.0330    0.754   \n10903    0.764          0.000544    0.2440    -6.662       0.0354    0.439   \n5856     0.814          0.392000    0.0844   -10.396       0.0307    0.803   \n5080     0.429          0.000014    0.1120    -8.619       0.0298    0.237   \n10666    0.405          0.745000    0.1100    -5.559       0.0393    0.313   \n\n          tempo  hit       date  \n890508  185.921    0 2014-08-26  \n81022   128.957    0 2014-08-26  \n81023    99.760    0 2014-08-26  \n81021   128.965    0 2014-08-26  \n81029   137.973    0 2014-08-26  \n...         ...  ...        ...  \n11098   105.227    1 2019-08-23  \n10903   124.557    1 2019-08-23  \n5856    120.010    1 2019-08-23  \n5080    128.007    1 2019-08-23  \n10666   194.933    1 2019-08-26  \n\n[283464 rows x 26 columns]",
      "text/html": "<div>\n<style scoped>\n    .dataframe tbody tr th:only-of-type {\n        vertical-align: middle;\n    }\n\n    .dataframe tbody tr th {\n        vertical-align: top;\n    }\n\n    .dataframe thead th {\n        text-align: right;\n    }\n</style>\n<table border=\"1\" class=\"dataframe\">\n  <thead>\n    <tr style=\"text-align: right;\">\n      <th></th>\n      <th>song_id</th>\n      <th>song_name</th>\n      <th>id_artists</th>\n      <th>name_artists</th>\n      <th>popularity</th>\n      <th>explicit</th>\n      <th>song_type</th>\n      <th>track_number</th>\n      <th>num_artists</th>\n      <th>num_available_markets</th>\n      <th>...</th>\n      <th>danceability</th>\n      <th>energy</th>\n      <th>instrumentalness</th>\n      <th>liveness</th>\n      <th>loudness</th>\n      <th>speechiness</th>\n      <th>valence</th>\n      <th>tempo</th>\n      <th>hit</th>\n      <th>date</th>\n    </tr>\n  </thead>\n  <tbody>\n    <tr>\n      <th>890508</th>\n      <td>2F2KnlkMvRIQM2phyz1NYh</td>\n      <td>Oh How I Love Jesus</td>\n      <td>['6CXezToiGS8K6jr9kr8Muv']</td>\n      <td>['The Jordanaires']</td>\n      <td>0</td>\n      <td>False</td>\n      <td>Solo</td>\n      <td>2</td>\n      <td>1</td>\n      <td>78</td>\n      <td>...</td>\n      <td>0.458</td>\n      <td>0.487</td>\n      <td>0.000003</td>\n      <td>0.1090</td>\n      <td>-8.193</td>\n      <td>0.0379</td>\n      <td>0.750</td>\n      <td>185.921</td>\n      <td>0</td>\n      <td>2014-08-26</td>\n    </tr>\n    <tr>\n      <th>81022</th>\n      <td>6kZ6EPli1wps476k58QoM3</td>\n      <td>Get The Girl Back (Instrumental Version)</td>\n      <td>['1WDVM4rBdKu6nHeJ6hQMN9']</td>\n      <td>['2014 Golden Cove']</td>\n      <td>0</td>\n      <td>False</td>\n      <td>Solo</td>\n      <td>2</td>\n      <td>1</td>\n      <td>79</td>\n      <td>...</td>\n      <td>0.620</td>\n      <td>0.812</td>\n      <td>0.869000</td>\n      <td>0.1800</td>\n      <td>-13.474</td>\n      <td>0.0367</td>\n      <td>0.980</td>\n      <td>128.957</td>\n      <td>0</td>\n      <td>2014-08-26</td>\n    </tr>\n    <tr>\n      <th>81023</th>\n      <td>5OK4VpBJf3fsZIqCFJY4F3</td>\n      <td>Mamma Knows Best</td>\n      <td>['1WDVM4rBdKu6nHeJ6hQMN9']</td>\n      <td>['2014 Golden Cove']</td>\n      <td>0</td>\n      <td>False</td>\n      <td>Solo</td>\n      <td>1</td>\n      <td>1</td>\n      <td>79</td>\n      <td>...</td>\n      <td>0.689</td>\n      <td>0.313</td>\n      <td>0.103000</td>\n      <td>0.0901</td>\n      <td>-10.325</td>\n      <td>0.0882</td>\n      <td>0.663</td>\n      <td>99.760</td>\n      <td>0</td>\n      <td>2014-08-26</td>\n    </tr>\n    <tr>\n      <th>81021</th>\n      <td>0fAOmzEJtclHr2iMrhWQHU</td>\n      <td>Get The Girl Back</td>\n      <td>['1WDVM4rBdKu6nHeJ6hQMN9']</td>\n      <td>['2014 Golden Cove']</td>\n      <td>0</td>\n      <td>False</td>\n      <td>Solo</td>\n      <td>1</td>\n      <td>1</td>\n      <td>79</td>\n      <td>...</td>\n      <td>0.783</td>\n      <td>0.763</td>\n      <td>0.000000</td>\n      <td>0.1790</td>\n      <td>-8.382</td>\n      <td>0.0311</td>\n      <td>0.960</td>\n      <td>128.965</td>\n      <td>0</td>\n      <td>2014-08-26</td>\n    </tr>\n    <tr>\n      <th>81029</th>\n      <td>5Snl4twAgLjf1XRxxFpUwl</td>\n      <td>Shakin' Hands</td>\n      <td>['1WDVM4rBdKu6nHeJ6hQMN9']</td>\n      <td>['2014 Golden Cove']</td>\n      <td>0</td>\n      <td>False</td>\n      <td>Solo</td>\n      <td>1</td>\n      <td>1</td>\n      <td>79</td>\n      <td>...</td>\n      <td>0.648</td>\n      <td>0.622</td>\n      <td>0.000000</td>\n      <td>0.3140</td>\n      <td>-9.420</td>\n      <td>0.0352</td>\n      <td>0.714</td>\n      <td>137.973</td>\n      <td>0</td>\n      <td>2014-08-26</td>\n    </tr>\n    <tr>\n      <th>...</th>\n      <td>...</td>\n      <td>...</td>\n      <td>...</td>\n      <td>...</td>\n      <td>...</td>\n      <td>...</td>\n      <td>...</td>\n      <td>...</td>\n      <td>...</td>\n      <td>...</td>\n      <td>...</td>\n      <td>...</td>\n      <td>...</td>\n      <td>...</td>\n      <td>...</td>\n      <td>...</td>\n      <td>...</td>\n      <td>...</td>\n      <td>...</td>\n      <td>...</td>\n      <td>...</td>\n    </tr>\n    <tr>\n      <th>11098</th>\n      <td>0xAqhyWvTkfcdFgm7dozMO</td>\n      <td>(I Wanna) Testify (Mono Single Version)</td>\n      <td>['1Ve5PoI7i5jIIP1xudo6AB']</td>\n      <td>['The Parliaments']</td>\n      <td>7</td>\n      <td>False</td>\n      <td>Solo</td>\n      <td>10</td>\n      <td>1</td>\n      <td>79</td>\n      <td>...</td>\n      <td>0.668</td>\n      <td>0.702</td>\n      <td>0.000000</td>\n      <td>0.0521</td>\n      <td>-5.750</td>\n      <td>0.0330</td>\n      <td>0.754</td>\n      <td>105.227</td>\n      <td>1</td>\n      <td>2019-08-23</td>\n    </tr>\n    <tr>\n      <th>10903</th>\n      <td>6zhg8TnVKi90ITDzFKwPr0</td>\n      <td>Swingtown - Alternate Version</td>\n      <td>['6QtGlUje9TIkLrgPZrESuk']</td>\n      <td>['Steve Miller Band']</td>\n      <td>26</td>\n      <td>False</td>\n      <td>Solo</td>\n      <td>5</td>\n      <td>1</td>\n      <td>79</td>\n      <td>...</td>\n      <td>0.459</td>\n      <td>0.764</td>\n      <td>0.000544</td>\n      <td>0.2440</td>\n      <td>-6.662</td>\n      <td>0.0354</td>\n      <td>0.439</td>\n      <td>124.557</td>\n      <td>1</td>\n      <td>2019-08-23</td>\n    </tr>\n    <tr>\n      <th>5856</th>\n      <td>2GvkFSjRXV0Ii3uYnHiQ74</td>\n      <td>Take My Advice</td>\n      <td>['40PLSl99xXqAQsCQQPmfyM']</td>\n      <td>['Kym Sims']</td>\n      <td>0</td>\n      <td>False</td>\n      <td>Solo</td>\n      <td>10</td>\n      <td>1</td>\n      <td>73</td>\n      <td>...</td>\n      <td>0.737</td>\n      <td>0.814</td>\n      <td>0.392000</td>\n      <td>0.0844</td>\n      <td>-10.396</td>\n      <td>0.0307</td>\n      <td>0.803</td>\n      <td>120.010</td>\n      <td>1</td>\n      <td>2019-08-23</td>\n    </tr>\n    <tr>\n      <th>5080</th>\n      <td>0lej8CemYKkWVHg77Xe1ky</td>\n      <td>A Man Holdin' on (To a Woman Lettin’ Go)</td>\n      <td>['1Fj0R2t4HaJa3oUe8azB8R', '5LDnSV99gbDSsMX3Dc...</td>\n      <td>['Ty Herndon', 'Anita Cochran']</td>\n      <td>14</td>\n      <td>False</td>\n      <td>Collaboration</td>\n      <td>7</td>\n      <td>2</td>\n      <td>79</td>\n      <td>...</td>\n      <td>0.611</td>\n      <td>0.429</td>\n      <td>0.000014</td>\n      <td>0.1120</td>\n      <td>-8.619</td>\n      <td>0.0298</td>\n      <td>0.237</td>\n      <td>128.007</td>\n      <td>1</td>\n      <td>2019-08-23</td>\n    </tr>\n    <tr>\n      <th>10666</th>\n      <td>6Fh2QgjCxL96dA3Gtpfr4Q</td>\n      <td>One Sweet Day (16-Bit Mariah Carey &amp; Boyz II M...</td>\n      <td>['1v4YnufenjE9BLAfP90qvt']</td>\n      <td>['Arcade Player']</td>\n      <td>0</td>\n      <td>False</td>\n      <td>Solo</td>\n      <td>27</td>\n      <td>1</td>\n      <td>79</td>\n      <td>...</td>\n      <td>0.395</td>\n      <td>0.405</td>\n      <td>0.745000</td>\n      <td>0.1100</td>\n      <td>-5.559</td>\n      <td>0.0393</td>\n      <td>0.313</td>\n      <td>194.933</td>\n      <td>1</td>\n      <td>2019-08-26</td>\n    </tr>\n  </tbody>\n</table>\n<p>283464 rows × 26 columns</p>\n</div>"
     },
     "execution_count": 8,
     "metadata": {},
     "output_type": "execute_result"
    }
   ],
   "source": [
    "combined_df"
   ],
   "metadata": {
    "collapsed": false,
    "ExecuteTime": {
     "end_time": "2024-05-06T14:02:22.861475100Z",
     "start_time": "2024-05-06T14:02:22.677112200Z"
    }
   },
   "id": "9e4154b39a1657b1"
  },
  {
   "cell_type": "code",
   "execution_count": 9,
   "outputs": [
    {
     "name": "stdout",
     "output_type": "stream",
     "text": [
      "amount of artists: 11772\n"
     ]
    },
    {
     "data": {
      "text/plain": "                    artist_id            artist_name\n0      6CXezToiGS8K6jr9kr8Muv        The Jordanaires\n1      1WDVM4rBdKu6nHeJ6hQMN9       2014 Golden Cove\n2      3GghVvugpv9nXQ2YFzZNzN    Power Music Workout\n3      3kc5AFnL1TQQdNaMdSW2UO           Wayne Wonder\n4      2Q2NuXGrs9Jw9HCVhnoI4G                   Alva\n...                       ...                    ...\n11767  7gx7lqo98LuOGE0y8ATrRr  On the Town Orchestra\n11768  5UvGRahK1OytDXGTzdf6hV        Humphrey Burton\n11769  0MIlVcFgL7pDFqaZRmYDeE                  Weiss\n11770  2iG0HNCECG2DxXxSUcMhEX                 Naxxos\n11771  2tg1rWk2rWaltTk0baRjRu                 SAKIMA\n\n[11772 rows x 2 columns]",
      "text/html": "<div>\n<style scoped>\n    .dataframe tbody tr th:only-of-type {\n        vertical-align: middle;\n    }\n\n    .dataframe tbody tr th {\n        vertical-align: top;\n    }\n\n    .dataframe thead th {\n        text-align: right;\n    }\n</style>\n<table border=\"1\" class=\"dataframe\">\n  <thead>\n    <tr style=\"text-align: right;\">\n      <th></th>\n      <th>artist_id</th>\n      <th>artist_name</th>\n    </tr>\n  </thead>\n  <tbody>\n    <tr>\n      <th>0</th>\n      <td>6CXezToiGS8K6jr9kr8Muv</td>\n      <td>The Jordanaires</td>\n    </tr>\n    <tr>\n      <th>1</th>\n      <td>1WDVM4rBdKu6nHeJ6hQMN9</td>\n      <td>2014 Golden Cove</td>\n    </tr>\n    <tr>\n      <th>2</th>\n      <td>3GghVvugpv9nXQ2YFzZNzN</td>\n      <td>Power Music Workout</td>\n    </tr>\n    <tr>\n      <th>3</th>\n      <td>3kc5AFnL1TQQdNaMdSW2UO</td>\n      <td>Wayne Wonder</td>\n    </tr>\n    <tr>\n      <th>4</th>\n      <td>2Q2NuXGrs9Jw9HCVhnoI4G</td>\n      <td>Alva</td>\n    </tr>\n    <tr>\n      <th>...</th>\n      <td>...</td>\n      <td>...</td>\n    </tr>\n    <tr>\n      <th>11767</th>\n      <td>7gx7lqo98LuOGE0y8ATrRr</td>\n      <td>On the Town Orchestra</td>\n    </tr>\n    <tr>\n      <th>11768</th>\n      <td>5UvGRahK1OytDXGTzdf6hV</td>\n      <td>Humphrey Burton</td>\n    </tr>\n    <tr>\n      <th>11769</th>\n      <td>0MIlVcFgL7pDFqaZRmYDeE</td>\n      <td>Weiss</td>\n    </tr>\n    <tr>\n      <th>11770</th>\n      <td>2iG0HNCECG2DxXxSUcMhEX</td>\n      <td>Naxxos</td>\n    </tr>\n    <tr>\n      <th>11771</th>\n      <td>2tg1rWk2rWaltTk0baRjRu</td>\n      <td>SAKIMA</td>\n    </tr>\n  </tbody>\n</table>\n<p>11772 rows × 2 columns</p>\n</div>"
     },
     "execution_count": 9,
     "metadata": {},
     "output_type": "execute_result"
    }
   ],
   "source": [
    "# Specify the columns\n",
    "columns = ['artist_id', 'artist_name']\n",
    "\n",
    "# Initialize an empty DataFrame\n",
    "df_artists_train = pd.DataFrame(columns={col: [] for col in columns})\n",
    "\n",
    "count = 0\n",
    "artist_set = set()\n",
    "\n",
    "for _, row in train_df.iterrows():\n",
    "    current_artist_id_list = eval(row[\"id_artists\"])\n",
    "    current_artist_name_list = eval(row[\"name_artists\"])\n",
    "    for cur_art_id, cur_art_name in zip(current_artist_id_list, current_artist_name_list):\n",
    "        if cur_art_id not in artist_set:\n",
    "            artist_set.add(cur_art_id)\n",
    "            df_artists_train.loc[len(df_artists_train)] = [cur_art_id, cur_art_name]\n",
    "            count += 1\n",
    "\n",
    "print(\"amount of artists:\", count)\n",
    "df_artists_train"
   ],
   "metadata": {
    "collapsed": false,
    "ExecuteTime": {
     "end_time": "2024-05-06T14:02:46.133591700Z",
     "start_time": "2024-05-06T14:02:22.864598400Z"
    }
   },
   "id": "4e89192b5a6cf7c4"
  },
  {
   "cell_type": "code",
   "execution_count": 10,
   "outputs": [],
   "source": [
    "import networkx as nx\n",
    "\n",
    "all_artist_ids = artist_set.copy()\n",
    "\n",
    "G = nx.Graph()\n",
    "\n",
    "for id_art_cur in all_artist_ids:\n",
    "    artist_name = df_artists_train[(df_artists_train[\"artist_id\"] == id_art_cur)][\"artist_name\"]\n",
    "    artist_info = df_artists_train[df_artists_train[\"artist_id\"] == id_art_cur]\n",
    "    if not artist_info.empty:  # Check if artist info exists\n",
    "        # Filter out artists who are not successful\n",
    "        node_attrs = {\"name\": artist_name.iloc[0]}\n",
    "        G.add_node(id_art_cur, **node_attrs)\n",
    "    else:\n",
    "        print(\"Artist info not found for ID:\", id_art_cur)\n",
    "\n",
    "for _, row in train_df.iterrows():\n",
    "    artist_ids = list(eval(row[\"id_artists\"]))\n",
    "    artist_names = list(eval(row[\"name_artists\"]))\n",
    "    # Filter out songs that do not have more than one artist in their execution\n",
    "    if len(artist_ids) > 1:\n",
    "        for i in range(len(artist_ids)):\n",
    "            for j in range(i+1, len(artist_ids)):\n",
    "                artist_id_1 = str(artist_ids[i])\n",
    "                lable1 = str(artist_names[i])\n",
    "                artist_id_2 = str(artist_ids[j])\n",
    "                lable2 = str(artist_names[j])\n",
    "                # Check if the edge already exists\n",
    "                if G.has_edge(artist_id_1, artist_id_2):\n",
    "                    # If the edge already exists, increment the weight by 1\n",
    "                    G[artist_id_1][artist_id_2]['weight'] += 2\n",
    "                else:\n",
    "                    # Add a new edge with weight 1\n",
    "                    G.add_edge(artist_id_1, artist_id_2, lable1=lable1, lable2=lable2, weight=2, song_id=str(row[\"song_id\"]), song_name=str(row[\"song_name\"]), explicit=bool(row[\"explicit\"]), song_type=str(row[\"song_type\"]), track_number=int(row[\"track_number\"]), num_artists=int(row[\"num_artists\"]), num_available_markets=int(row[\"num_available_markets\"]), duration_ms=int(row[\"duration_ms\"]), popularity=int(row[\"popularity\"]), release_date=str(row[\"release_date\"]), key = int(row[\"key\"]), mode = int(row[\"mode\"]), time_signature = int(row[\"time_signature\"]), acousticness = float(row[\"acousticness\"]), danceability = float(row[\"danceability\"]), energy = float(row[\"energy\"]), instrumentalness = float(row[\"instrumentalness\"]), liveness = float(row[\"liveness\"]),loudness = float(row[\"loudness\"]), speechiness = float(row[\"speechiness\"]), valence = float(row[\"valence\"]), tempo = float(row[\"tempo\"]))"
   ],
   "metadata": {
    "collapsed": false,
    "ExecuteTime": {
     "end_time": "2024-05-06T14:03:19.929300600Z",
     "start_time": "2024-05-06T14:02:46.141591100Z"
    }
   },
   "id": "13bb7f1a4a4876a5"
  },
  {
   "cell_type": "code",
   "execution_count": 11,
   "outputs": [
    {
     "data": {
      "text/plain": "                     name              Spotify ID\n0            Arthur Brown  4Wyn0ejiSIAgFhCL6zbTRm\n1      Nick Fradiani, Sr.  5u6A9XBnZxFzZ3BX6gCejo\n2           Charles Jones  2od8oCkJMIDQFOy4qkBl3m\n3                    Woop  61yEthfHLbDdUfvf4Jt1SJ\n4               The Dells  0wbrRIw2po5DV4LeaHw55S\n...                   ...                     ...\n11767          Tim Legend  3pfQKkyELe3zxBQDgQP6Py\n11768          Dance Guru  1cSFUMJLz9kvhKfwdT4nWT\n11769       Maurice Ravel  17hR0sYHpx7VYTMRfFUOmY\n11770     Chloe Angelides  79A4RmgwxYGIDkqQDUHLXK\n11771           Trev Case  3vyvetgHkFaehi7Ua4INH2\n\n[11772 rows x 2 columns]",
      "text/html": "<div>\n<style scoped>\n    .dataframe tbody tr th:only-of-type {\n        vertical-align: middle;\n    }\n\n    .dataframe tbody tr th {\n        vertical-align: top;\n    }\n\n    .dataframe thead th {\n        text-align: right;\n    }\n</style>\n<table border=\"1\" class=\"dataframe\">\n  <thead>\n    <tr style=\"text-align: right;\">\n      <th></th>\n      <th>name</th>\n      <th>Spotify ID</th>\n    </tr>\n  </thead>\n  <tbody>\n    <tr>\n      <th>0</th>\n      <td>Arthur Brown</td>\n      <td>4Wyn0ejiSIAgFhCL6zbTRm</td>\n    </tr>\n    <tr>\n      <th>1</th>\n      <td>Nick Fradiani, Sr.</td>\n      <td>5u6A9XBnZxFzZ3BX6gCejo</td>\n    </tr>\n    <tr>\n      <th>2</th>\n      <td>Charles Jones</td>\n      <td>2od8oCkJMIDQFOy4qkBl3m</td>\n    </tr>\n    <tr>\n      <th>3</th>\n      <td>Woop</td>\n      <td>61yEthfHLbDdUfvf4Jt1SJ</td>\n    </tr>\n    <tr>\n      <th>4</th>\n      <td>The Dells</td>\n      <td>0wbrRIw2po5DV4LeaHw55S</td>\n    </tr>\n    <tr>\n      <th>...</th>\n      <td>...</td>\n      <td>...</td>\n    </tr>\n    <tr>\n      <th>11767</th>\n      <td>Tim Legend</td>\n      <td>3pfQKkyELe3zxBQDgQP6Py</td>\n    </tr>\n    <tr>\n      <th>11768</th>\n      <td>Dance Guru</td>\n      <td>1cSFUMJLz9kvhKfwdT4nWT</td>\n    </tr>\n    <tr>\n      <th>11769</th>\n      <td>Maurice Ravel</td>\n      <td>17hR0sYHpx7VYTMRfFUOmY</td>\n    </tr>\n    <tr>\n      <th>11770</th>\n      <td>Chloe Angelides</td>\n      <td>79A4RmgwxYGIDkqQDUHLXK</td>\n    </tr>\n    <tr>\n      <th>11771</th>\n      <td>Trev Case</td>\n      <td>3vyvetgHkFaehi7Ua4INH2</td>\n    </tr>\n  </tbody>\n</table>\n<p>11772 rows × 2 columns</p>\n</div>"
     },
     "execution_count": 11,
     "metadata": {},
     "output_type": "execute_result"
    }
   ],
   "source": [
    "# Assuming G is your NetworkX graph\n",
    "\n",
    "# Extract nodes and their attributes from the graph\n",
    "nodes_with_attributes = [(G.nodes[node], node) for node in G.nodes()]\n",
    "\n",
    "# Create a DataFrame from the nodes and their attributes\n",
    "df_nodes_train = pd.DataFrame(nodes_with_attributes, columns=['Attributes', \"Spotify ID\"])\n",
    "\n",
    "# Normalize the 'Attributes' column to expand it into separate columns\n",
    "df_attributes = pd.json_normalize(df_nodes_train['Attributes'])\n",
    "\n",
    "# Combine the original 'Node' column with the expanded attributes\n",
    "df_nodes_train = pd.concat([df_attributes, df_nodes_train['Spotify ID']], axis=1)\n",
    "\n",
    "# Display the DataFrame\n",
    "df_nodes_train"
   ],
   "metadata": {
    "collapsed": false,
    "ExecuteTime": {
     "end_time": "2024-05-06T14:03:19.993301Z",
     "start_time": "2024-05-06T14:03:19.932301200Z"
    }
   },
   "id": "a02e5a328f587e87"
  },
  {
   "cell_type": "code",
   "execution_count": 12,
   "outputs": [],
   "source": [
    "df_nodes_train.to_csv(\"network_created/nodes_real_train.csv\", sep='\\t', index=False)"
   ],
   "metadata": {
    "collapsed": false,
    "ExecuteTime": {
     "end_time": "2024-05-06T14:03:20.059302Z",
     "start_time": "2024-05-06T14:03:19.996300500Z"
    }
   },
   "id": "affbd668a36e7e8a"
  },
  {
   "cell_type": "code",
   "execution_count": 13,
   "outputs": [
    {
     "data": {
      "text/plain": "                       Source                  Target             lable1  \\\n0      5u6A9XBnZxFzZ3BX6gCejo  0YklCNXJmtsiaFPCEjWXut      Nick Fradiani   \n1      2od8oCkJMIDQFOy4qkBl3m  3CDoRporvSjdzTrm99a3gi           Ludmilla   \n2      61yEthfHLbDdUfvf4Jt1SJ  7Kp7SzuRuNiPFCy7JIwnLx           Ca$h Out   \n3      0Ra0me60CI5b5HYCIbrLEU  38cwcj5VXTby6VcisVeL8r  Rosferra Marsalis   \n4      1YN1OuUFRoFlnwR97pIRlJ  2JX4h8xm0hNxCB0aNBWzyi            Gyptian   \n...                       ...                     ...                ...   \n10001  2Y3pUok6I8CqV4m9vqQJwH  6YPRXu1dazGYcSZv4HJEH4      The Delfonics   \n10002  1TMa2M8BSbJP1rqX83wALz  69GGBxA162lTqCwzJG5jLp   The Chainsmokers   \n10003  4x5VVAa5DjM9lQHcT6OBPS  2ZhEYAABo8EbUhdwMnMiv7                Ray   \n10004  3oLY5NvzasiNds27QLs9Pa  4RddZ3iHvSpGV4dvATac9X         Papa Roach   \n10005  521qvhdobR0GzhvU6TFw76  69GGBxA162lTqCwzJG5jLp   The Chainsmokers   \n\n                   lable2  weight                 song_id  \\\n0      Nick Fradiani, Sr.       2  7eVsfqZl4eAjSppaJj02pr   \n1           Charles Jones       2  5FqcDBeLPC84sGAYfMB4EQ   \n2                    Woop       2  3XgnEQ7dvqIGmQhNuFzU3F   \n3             Toni Macles       2  4uCBp5l13o8wM7naMx33gJ   \n4        Carroll Thompson       2  3FkwHry7w7uxX0CEH1qxot   \n...                   ...     ...                     ...   \n10001        William Hart       2  4wqLjjkwhj5rMuLEV1XLjg   \n10002            Steerner       2  3UEfOvhtrnpw57gDbSixri   \n10003              APOLLO       2  25AiEx8CGiIuKm7xxTWDWN   \n10004              FelMax       2  3vUx53e6Ua4DfvCdWutAey   \n10005            Tritonal       2  0iWYUegJm3Ty16VEp69HLs   \n\n                                               song_name  explicit  \\\n0                                             Hallelujah     False   \n1      Não Quero Mais - Participação Especial de Char...     False   \n2                                                 Troops      True   \n3                                        Bossa de Saudad     False   \n4                                               Need You     False   \n...                                                  ...       ...   \n10001  Totally in Love With You (Modal Voice Mix) [fe...     False   \n10002                Everybody Hates Me - Steerner Remix     False   \n10003                              I KNOW (feat. APOLLO)     False   \n10004                  Born For Greatness (Felmax Remix)     False   \n10005                            Honest - Tritonal Remix     False   \n\n           song_type  track_number  ...  time_signature  acousticness  \\\n0      Collaboration             1  ...               3        0.9540   \n1      Collaboration             3  ...               4        0.6630   \n2      Collaboration             9  ...               4        0.1400   \n3      Collaboration             5  ...               4        0.5170   \n4      Collaboration             1  ...               4        0.2970   \n...              ...           ...  ...             ...           ...   \n10001  Collaboration             1  ...               4        0.9100   \n10002  Collaboration             2  ...               4        0.0672   \n10003  Collaboration             5  ...               4        0.1930   \n10004  Collaboration             1  ...               4        0.0527   \n10005  Collaboration             1  ...               4        0.1380   \n\n       danceability  energy instrumentalness  liveness  loudness  speechiness  \\\n0             0.267   0.266         0.000002    0.1230    -8.579       0.0287   \n1             0.696   0.650         0.000000    0.1080    -6.729       0.0332   \n2             0.651   0.427         0.000000    0.1830   -11.192       0.6280   \n3             0.592   0.617         0.752000    0.0591    -9.540       0.0338   \n4             0.689   0.662         0.000000    0.0618    -4.140       0.1500   \n...             ...     ...              ...       ...       ...          ...   \n10001         0.473   0.312         0.000003    0.3620   -12.967       0.0369   \n10002         0.453   0.863         0.000000    0.1070    -6.239       0.0957   \n10003         0.704   0.862         0.000000    0.1120    -2.772       0.0413   \n10004         0.591   0.805         0.000000    0.2590    -3.995       0.0598   \n10005         0.352   0.749         0.000178    0.6320    -5.829       0.0526   \n\n       valence    tempo  \n0        0.157  166.831  \n1        0.518  140.039  \n2        0.182  128.080  \n3        0.748  160.065  \n4        0.649  143.990  \n...        ...      ...  \n10001    0.294  123.659  \n10002    0.499  154.872  \n10003    0.501  120.109  \n10004    0.243  150.229  \n10005    0.382  105.004  \n\n[10006 rows x 27 columns]",
      "text/html": "<div>\n<style scoped>\n    .dataframe tbody tr th:only-of-type {\n        vertical-align: middle;\n    }\n\n    .dataframe tbody tr th {\n        vertical-align: top;\n    }\n\n    .dataframe thead th {\n        text-align: right;\n    }\n</style>\n<table border=\"1\" class=\"dataframe\">\n  <thead>\n    <tr style=\"text-align: right;\">\n      <th></th>\n      <th>Source</th>\n      <th>Target</th>\n      <th>lable1</th>\n      <th>lable2</th>\n      <th>weight</th>\n      <th>song_id</th>\n      <th>song_name</th>\n      <th>explicit</th>\n      <th>song_type</th>\n      <th>track_number</th>\n      <th>...</th>\n      <th>time_signature</th>\n      <th>acousticness</th>\n      <th>danceability</th>\n      <th>energy</th>\n      <th>instrumentalness</th>\n      <th>liveness</th>\n      <th>loudness</th>\n      <th>speechiness</th>\n      <th>valence</th>\n      <th>tempo</th>\n    </tr>\n  </thead>\n  <tbody>\n    <tr>\n      <th>0</th>\n      <td>5u6A9XBnZxFzZ3BX6gCejo</td>\n      <td>0YklCNXJmtsiaFPCEjWXut</td>\n      <td>Nick Fradiani</td>\n      <td>Nick Fradiani, Sr.</td>\n      <td>2</td>\n      <td>7eVsfqZl4eAjSppaJj02pr</td>\n      <td>Hallelujah</td>\n      <td>False</td>\n      <td>Collaboration</td>\n      <td>1</td>\n      <td>...</td>\n      <td>3</td>\n      <td>0.9540</td>\n      <td>0.267</td>\n      <td>0.266</td>\n      <td>0.000002</td>\n      <td>0.1230</td>\n      <td>-8.579</td>\n      <td>0.0287</td>\n      <td>0.157</td>\n      <td>166.831</td>\n    </tr>\n    <tr>\n      <th>1</th>\n      <td>2od8oCkJMIDQFOy4qkBl3m</td>\n      <td>3CDoRporvSjdzTrm99a3gi</td>\n      <td>Ludmilla</td>\n      <td>Charles Jones</td>\n      <td>2</td>\n      <td>5FqcDBeLPC84sGAYfMB4EQ</td>\n      <td>Não Quero Mais - Participação Especial de Char...</td>\n      <td>False</td>\n      <td>Collaboration</td>\n      <td>3</td>\n      <td>...</td>\n      <td>4</td>\n      <td>0.6630</td>\n      <td>0.696</td>\n      <td>0.650</td>\n      <td>0.000000</td>\n      <td>0.1080</td>\n      <td>-6.729</td>\n      <td>0.0332</td>\n      <td>0.518</td>\n      <td>140.039</td>\n    </tr>\n    <tr>\n      <th>2</th>\n      <td>61yEthfHLbDdUfvf4Jt1SJ</td>\n      <td>7Kp7SzuRuNiPFCy7JIwnLx</td>\n      <td>Ca$h Out</td>\n      <td>Woop</td>\n      <td>2</td>\n      <td>3XgnEQ7dvqIGmQhNuFzU3F</td>\n      <td>Troops</td>\n      <td>True</td>\n      <td>Collaboration</td>\n      <td>9</td>\n      <td>...</td>\n      <td>4</td>\n      <td>0.1400</td>\n      <td>0.651</td>\n      <td>0.427</td>\n      <td>0.000000</td>\n      <td>0.1830</td>\n      <td>-11.192</td>\n      <td>0.6280</td>\n      <td>0.182</td>\n      <td>128.080</td>\n    </tr>\n    <tr>\n      <th>3</th>\n      <td>0Ra0me60CI5b5HYCIbrLEU</td>\n      <td>38cwcj5VXTby6VcisVeL8r</td>\n      <td>Rosferra Marsalis</td>\n      <td>Toni Macles</td>\n      <td>2</td>\n      <td>4uCBp5l13o8wM7naMx33gJ</td>\n      <td>Bossa de Saudad</td>\n      <td>False</td>\n      <td>Collaboration</td>\n      <td>5</td>\n      <td>...</td>\n      <td>4</td>\n      <td>0.5170</td>\n      <td>0.592</td>\n      <td>0.617</td>\n      <td>0.752000</td>\n      <td>0.0591</td>\n      <td>-9.540</td>\n      <td>0.0338</td>\n      <td>0.748</td>\n      <td>160.065</td>\n    </tr>\n    <tr>\n      <th>4</th>\n      <td>1YN1OuUFRoFlnwR97pIRlJ</td>\n      <td>2JX4h8xm0hNxCB0aNBWzyi</td>\n      <td>Gyptian</td>\n      <td>Carroll Thompson</td>\n      <td>2</td>\n      <td>3FkwHry7w7uxX0CEH1qxot</td>\n      <td>Need You</td>\n      <td>False</td>\n      <td>Collaboration</td>\n      <td>1</td>\n      <td>...</td>\n      <td>4</td>\n      <td>0.2970</td>\n      <td>0.689</td>\n      <td>0.662</td>\n      <td>0.000000</td>\n      <td>0.0618</td>\n      <td>-4.140</td>\n      <td>0.1500</td>\n      <td>0.649</td>\n      <td>143.990</td>\n    </tr>\n    <tr>\n      <th>...</th>\n      <td>...</td>\n      <td>...</td>\n      <td>...</td>\n      <td>...</td>\n      <td>...</td>\n      <td>...</td>\n      <td>...</td>\n      <td>...</td>\n      <td>...</td>\n      <td>...</td>\n      <td>...</td>\n      <td>...</td>\n      <td>...</td>\n      <td>...</td>\n      <td>...</td>\n      <td>...</td>\n      <td>...</td>\n      <td>...</td>\n      <td>...</td>\n      <td>...</td>\n      <td>...</td>\n    </tr>\n    <tr>\n      <th>10001</th>\n      <td>2Y3pUok6I8CqV4m9vqQJwH</td>\n      <td>6YPRXu1dazGYcSZv4HJEH4</td>\n      <td>The Delfonics</td>\n      <td>William Hart</td>\n      <td>2</td>\n      <td>4wqLjjkwhj5rMuLEV1XLjg</td>\n      <td>Totally in Love With You (Modal Voice Mix) [fe...</td>\n      <td>False</td>\n      <td>Collaboration</td>\n      <td>1</td>\n      <td>...</td>\n      <td>4</td>\n      <td>0.9100</td>\n      <td>0.473</td>\n      <td>0.312</td>\n      <td>0.000003</td>\n      <td>0.3620</td>\n      <td>-12.967</td>\n      <td>0.0369</td>\n      <td>0.294</td>\n      <td>123.659</td>\n    </tr>\n    <tr>\n      <th>10002</th>\n      <td>1TMa2M8BSbJP1rqX83wALz</td>\n      <td>69GGBxA162lTqCwzJG5jLp</td>\n      <td>The Chainsmokers</td>\n      <td>Steerner</td>\n      <td>2</td>\n      <td>3UEfOvhtrnpw57gDbSixri</td>\n      <td>Everybody Hates Me - Steerner Remix</td>\n      <td>False</td>\n      <td>Collaboration</td>\n      <td>2</td>\n      <td>...</td>\n      <td>4</td>\n      <td>0.0672</td>\n      <td>0.453</td>\n      <td>0.863</td>\n      <td>0.000000</td>\n      <td>0.1070</td>\n      <td>-6.239</td>\n      <td>0.0957</td>\n      <td>0.499</td>\n      <td>154.872</td>\n    </tr>\n    <tr>\n      <th>10003</th>\n      <td>4x5VVAa5DjM9lQHcT6OBPS</td>\n      <td>2ZhEYAABo8EbUhdwMnMiv7</td>\n      <td>Ray</td>\n      <td>APOLLO</td>\n      <td>2</td>\n      <td>25AiEx8CGiIuKm7xxTWDWN</td>\n      <td>I KNOW (feat. APOLLO)</td>\n      <td>False</td>\n      <td>Collaboration</td>\n      <td>5</td>\n      <td>...</td>\n      <td>4</td>\n      <td>0.1930</td>\n      <td>0.704</td>\n      <td>0.862</td>\n      <td>0.000000</td>\n      <td>0.1120</td>\n      <td>-2.772</td>\n      <td>0.0413</td>\n      <td>0.501</td>\n      <td>120.109</td>\n    </tr>\n    <tr>\n      <th>10004</th>\n      <td>3oLY5NvzasiNds27QLs9Pa</td>\n      <td>4RddZ3iHvSpGV4dvATac9X</td>\n      <td>Papa Roach</td>\n      <td>FelMax</td>\n      <td>2</td>\n      <td>3vUx53e6Ua4DfvCdWutAey</td>\n      <td>Born For Greatness (Felmax Remix)</td>\n      <td>False</td>\n      <td>Collaboration</td>\n      <td>1</td>\n      <td>...</td>\n      <td>4</td>\n      <td>0.0527</td>\n      <td>0.591</td>\n      <td>0.805</td>\n      <td>0.000000</td>\n      <td>0.2590</td>\n      <td>-3.995</td>\n      <td>0.0598</td>\n      <td>0.243</td>\n      <td>150.229</td>\n    </tr>\n    <tr>\n      <th>10005</th>\n      <td>521qvhdobR0GzhvU6TFw76</td>\n      <td>69GGBxA162lTqCwzJG5jLp</td>\n      <td>The Chainsmokers</td>\n      <td>Tritonal</td>\n      <td>2</td>\n      <td>0iWYUegJm3Ty16VEp69HLs</td>\n      <td>Honest - Tritonal Remix</td>\n      <td>False</td>\n      <td>Collaboration</td>\n      <td>1</td>\n      <td>...</td>\n      <td>4</td>\n      <td>0.1380</td>\n      <td>0.352</td>\n      <td>0.749</td>\n      <td>0.000178</td>\n      <td>0.6320</td>\n      <td>-5.829</td>\n      <td>0.0526</td>\n      <td>0.382</td>\n      <td>105.004</td>\n    </tr>\n  </tbody>\n</table>\n<p>10006 rows × 27 columns</p>\n</div>"
     },
     "execution_count": 13,
     "metadata": {},
     "output_type": "execute_result"
    }
   ],
   "source": [
    "# Extract edges and their attributes from the graph\n",
    "edges_with_attributes = [(u, v, G.edges[u, v]) for u, v in G.edges()]\n",
    "\n",
    "# Create a DataFrame from the edges and their attributes\n",
    "df_edges_train = pd.DataFrame(edges_with_attributes, columns=['Source', 'Target', 'Attributes'])\n",
    "\n",
    "# Normalize the 'Attributes' column to expand it into separate columns\n",
    "df_edge_attributes = pd.json_normalize(df_edges_train['Attributes'])\n",
    "\n",
    "# Combine the original 'Attributes' column with the expanded attributes\n",
    "df_edges_train = pd.concat([df_edges_train[['Source', 'Target']], df_edge_attributes], axis=1)\n",
    "df_edges_train"
   ],
   "metadata": {
    "collapsed": false,
    "ExecuteTime": {
     "end_time": "2024-05-06T14:03:20.227854200Z",
     "start_time": "2024-05-06T14:03:20.150509400Z"
    }
   },
   "id": "b94ca6391b6c88f8"
  },
  {
   "cell_type": "code",
   "execution_count": 14,
   "outputs": [],
   "source": [
    "# Save edge DataFrame to CSV\n",
    "df_edges_train.to_csv('network_created/edges_real_train.csv', sep='\\t', index=False)"
   ],
   "metadata": {
    "collapsed": false,
    "ExecuteTime": {
     "end_time": "2024-05-06T14:03:20.351478Z",
     "start_time": "2024-05-06T14:03:20.231511800Z"
    }
   },
   "id": "8cf334b81ab892a9"
  },
  {
   "cell_type": "code",
   "execution_count": 15,
   "outputs": [
    {
     "name": "stdout",
     "output_type": "stream",
     "text": [
      "Number of nodes: 11772\n",
      "Number of edges: 10006\n"
     ]
    }
   ],
   "source": [
    "num_nodes = G.number_of_nodes()\n",
    "num_edges = G.number_of_edges()\n",
    "print(\"Number of nodes:\", num_nodes)\n",
    "print(\"Number of edges:\", num_edges)\n"
   ],
   "metadata": {
    "collapsed": false,
    "ExecuteTime": {
     "end_time": "2024-05-06T14:03:20.368478300Z",
     "start_time": "2024-05-06T14:03:20.351478Z"
    }
   },
   "id": "ed2d73175e8f4ff7"
  },
  {
   "cell_type": "code",
   "execution_count": 16,
   "outputs": [
    {
     "name": "stdout",
     "output_type": "stream",
     "text": [
      "amount of artists: 5902\n"
     ]
    },
    {
     "data": {
      "text/plain": "                   artist_id          artist_name\n0     0KMJUP87x4ERfwSNYvkttw         Sandgrounder\n1     3OpJxAHfT0KsJzQqdX5SLb         Ginger Tunes\n2     6BkcAbUkfIBM4XudxieMq8            Dr. Alban\n3     2iAAXHZCgL2E1zqj204GEh         Jacci McGhee\n4     21VBNkZvKxrI9zmfFRxXvn         8-Bit Arcade\n...                      ...                  ...\n5897  3Y9xnCbmXGhmpJymwpnxCz  Crispian St. Peters\n5898  5NDMothbpdpq2xHqSjrrWn          Faith Evans\n5899  1Ve5PoI7i5jIIP1xudo6AB      The Parliaments\n5900  40PLSl99xXqAQsCQQPmfyM             Kym Sims\n5901  5LDnSV99gbDSsMX3Dcer2b        Anita Cochran\n\n[5902 rows x 2 columns]",
      "text/html": "<div>\n<style scoped>\n    .dataframe tbody tr th:only-of-type {\n        vertical-align: middle;\n    }\n\n    .dataframe tbody tr th {\n        vertical-align: top;\n    }\n\n    .dataframe thead th {\n        text-align: right;\n    }\n</style>\n<table border=\"1\" class=\"dataframe\">\n  <thead>\n    <tr style=\"text-align: right;\">\n      <th></th>\n      <th>artist_id</th>\n      <th>artist_name</th>\n    </tr>\n  </thead>\n  <tbody>\n    <tr>\n      <th>0</th>\n      <td>0KMJUP87x4ERfwSNYvkttw</td>\n      <td>Sandgrounder</td>\n    </tr>\n    <tr>\n      <th>1</th>\n      <td>3OpJxAHfT0KsJzQqdX5SLb</td>\n      <td>Ginger Tunes</td>\n    </tr>\n    <tr>\n      <th>2</th>\n      <td>6BkcAbUkfIBM4XudxieMq8</td>\n      <td>Dr. Alban</td>\n    </tr>\n    <tr>\n      <th>3</th>\n      <td>2iAAXHZCgL2E1zqj204GEh</td>\n      <td>Jacci McGhee</td>\n    </tr>\n    <tr>\n      <th>4</th>\n      <td>21VBNkZvKxrI9zmfFRxXvn</td>\n      <td>8-Bit Arcade</td>\n    </tr>\n    <tr>\n      <th>...</th>\n      <td>...</td>\n      <td>...</td>\n    </tr>\n    <tr>\n      <th>5897</th>\n      <td>3Y9xnCbmXGhmpJymwpnxCz</td>\n      <td>Crispian St. Peters</td>\n    </tr>\n    <tr>\n      <th>5898</th>\n      <td>5NDMothbpdpq2xHqSjrrWn</td>\n      <td>Faith Evans</td>\n    </tr>\n    <tr>\n      <th>5899</th>\n      <td>1Ve5PoI7i5jIIP1xudo6AB</td>\n      <td>The Parliaments</td>\n    </tr>\n    <tr>\n      <th>5900</th>\n      <td>40PLSl99xXqAQsCQQPmfyM</td>\n      <td>Kym Sims</td>\n    </tr>\n    <tr>\n      <th>5901</th>\n      <td>5LDnSV99gbDSsMX3Dcer2b</td>\n      <td>Anita Cochran</td>\n    </tr>\n  </tbody>\n</table>\n<p>5902 rows × 2 columns</p>\n</div>"
     },
     "execution_count": 16,
     "metadata": {},
     "output_type": "execute_result"
    }
   ],
   "source": [
    "# Specify the columns\n",
    "columns = ['artist_id', 'artist_name']\n",
    "\n",
    "# Initialize an empty DataFrame\n",
    "df_artists_test = pd.DataFrame(columns={col: [] for col in columns})\n",
    "\n",
    "count = 0\n",
    "artist_set = set()\n",
    "\n",
    "for _, row in test_df.iterrows():\n",
    "    current_artist_id_list = eval(row[\"id_artists\"])\n",
    "    current_artist_name_list = eval(row[\"name_artists\"])\n",
    "    for cur_art_id, cur_art_name in zip(current_artist_id_list, current_artist_name_list):\n",
    "        if cur_art_id not in artist_set:\n",
    "            artist_set.add(cur_art_id)\n",
    "            df_artists_test.loc[len(df_artists_test)] = [cur_art_id, cur_art_name]\n",
    "            count += 1\n",
    "\n",
    "print(\"amount of artists:\", count)\n",
    "df_artists_test"
   ],
   "metadata": {
    "collapsed": false,
    "ExecuteTime": {
     "end_time": "2024-05-06T14:03:28.143447200Z",
     "start_time": "2024-05-06T14:03:20.368478300Z"
    }
   },
   "id": "debfdb478f00e0a8"
  },
  {
   "cell_type": "code",
   "execution_count": 17,
   "outputs": [],
   "source": [
    "import networkx as nx\n",
    "\n",
    "all_artist_ids = artist_set.copy()\n",
    "\n",
    "G2 = nx.Graph()\n",
    "\n",
    "for id_art_cur in all_artist_ids:\n",
    "    artist_name = df_artists_test[(df_artists_test[\"artist_id\"] == id_art_cur)][\"artist_name\"]\n",
    "    artist_info = df_artists_test[df_artists_test[\"artist_id\"] == id_art_cur]\n",
    "    if not artist_info.empty:  # Check if artist info exists\n",
    "        # Filter out artists who are not successful\n",
    "        node_attrs = {\"name\": artist_name.iloc[0]}\n",
    "        G2.add_node(id_art_cur, **node_attrs)\n",
    "    else:\n",
    "        print(\"Artist info not found for ID:\", id_art_cur)\n",
    "\n",
    "for _, row in test_df.iterrows():\n",
    "    artist_ids = list(eval(row[\"id_artists\"]))\n",
    "    artist_names = list(eval(row[\"name_artists\"]))\n",
    "    # Filter out songs that do not have more than one artist in their execution\n",
    "    if len(artist_ids) > 1:\n",
    "        for i in range(len(artist_ids)):\n",
    "            for j in range(i+1, len(artist_ids)):\n",
    "                artist_id_1 = str(artist_ids[i])\n",
    "                lable1 = str(artist_names[i])\n",
    "                artist_id_2 = str(artist_ids[j])\n",
    "                lable2 = str(artist_names[j])\n",
    "                # Check if the edge already exists\n",
    "                if G2.has_edge(artist_id_1, artist_id_2):\n",
    "                    # If the edge already exists, increment the weight by 1\n",
    "                    G2[artist_id_1][artist_id_2]['weight'] += 2\n",
    "                else:\n",
    "                    # Add a new edge with weight 1\n",
    "                    G2.add_edge(artist_id_1, artist_id_2, lable1=lable1, lable2=lable2, weight=2, song_id=str(row[\"song_id\"]), song_name=str(row[\"song_name\"]), explicit=bool(row[\"explicit\"]), song_type=str(row[\"song_type\"]), track_number=int(row[\"track_number\"]), num_artists=int(row[\"num_artists\"]), num_available_markets=int(row[\"num_available_markets\"]), duration_ms=int(row[\"duration_ms\"]), popularity=int(row[\"popularity\"]), release_date=str(row[\"release_date\"]), key = int(row[\"key\"]), mode = int(row[\"mode\"]), time_signature = int(row[\"time_signature\"]), acousticness = float(row[\"acousticness\"]), danceability = float(row[\"danceability\"]), energy = float(row[\"energy\"]), instrumentalness = float(row[\"instrumentalness\"]), liveness = float(row[\"liveness\"]),loudness = float(row[\"loudness\"]), speechiness = float(row[\"speechiness\"]), valence = float(row[\"valence\"]), tempo = float(row[\"tempo\"]))"
   ],
   "metadata": {
    "collapsed": false,
    "ExecuteTime": {
     "end_time": "2024-05-06T14:03:37.748991200Z",
     "start_time": "2024-05-06T14:03:28.151447300Z"
    }
   },
   "id": "fe0fb448adf18ca8"
  },
  {
   "cell_type": "code",
   "execution_count": 18,
   "outputs": [
    {
     "data": {
      "text/plain": "                        name              Spotify ID\n0                Zhavia Ward  1CO6e7WRJvSFenmQO8n64C\n1                    Lil Jon  7sfl4Xt5KmfyDs2T3SVSMK\n2                Toni Macles  0Ra0me60CI5b5HYCIbrLEU\n3                 Moon Boots  3cIXmCH7iNcslTbwrwS7zy\n4                Classics IV  6XGJvNG372fPJ2TV2OoN0Z\n...                      ...                     ...\n5897             Third World  6qfKnsgz1CwyqA7lTdieRJ\n5898           Cesar Menotti  2odOwGoyC7xZryqA1PMo3j\n5899           Bobby Freeman  5oMWW19j0AXl7Sy4Xn9rmg\n5900  Santa's Little Singers  2Kl1vWueJ9fZ5HsLluiMxh\n5901               Trev Case  3vyvetgHkFaehi7Ua4INH2\n\n[5902 rows x 2 columns]",
      "text/html": "<div>\n<style scoped>\n    .dataframe tbody tr th:only-of-type {\n        vertical-align: middle;\n    }\n\n    .dataframe tbody tr th {\n        vertical-align: top;\n    }\n\n    .dataframe thead th {\n        text-align: right;\n    }\n</style>\n<table border=\"1\" class=\"dataframe\">\n  <thead>\n    <tr style=\"text-align: right;\">\n      <th></th>\n      <th>name</th>\n      <th>Spotify ID</th>\n    </tr>\n  </thead>\n  <tbody>\n    <tr>\n      <th>0</th>\n      <td>Zhavia Ward</td>\n      <td>1CO6e7WRJvSFenmQO8n64C</td>\n    </tr>\n    <tr>\n      <th>1</th>\n      <td>Lil Jon</td>\n      <td>7sfl4Xt5KmfyDs2T3SVSMK</td>\n    </tr>\n    <tr>\n      <th>2</th>\n      <td>Toni Macles</td>\n      <td>0Ra0me60CI5b5HYCIbrLEU</td>\n    </tr>\n    <tr>\n      <th>3</th>\n      <td>Moon Boots</td>\n      <td>3cIXmCH7iNcslTbwrwS7zy</td>\n    </tr>\n    <tr>\n      <th>4</th>\n      <td>Classics IV</td>\n      <td>6XGJvNG372fPJ2TV2OoN0Z</td>\n    </tr>\n    <tr>\n      <th>...</th>\n      <td>...</td>\n      <td>...</td>\n    </tr>\n    <tr>\n      <th>5897</th>\n      <td>Third World</td>\n      <td>6qfKnsgz1CwyqA7lTdieRJ</td>\n    </tr>\n    <tr>\n      <th>5898</th>\n      <td>Cesar Menotti</td>\n      <td>2odOwGoyC7xZryqA1PMo3j</td>\n    </tr>\n    <tr>\n      <th>5899</th>\n      <td>Bobby Freeman</td>\n      <td>5oMWW19j0AXl7Sy4Xn9rmg</td>\n    </tr>\n    <tr>\n      <th>5900</th>\n      <td>Santa's Little Singers</td>\n      <td>2Kl1vWueJ9fZ5HsLluiMxh</td>\n    </tr>\n    <tr>\n      <th>5901</th>\n      <td>Trev Case</td>\n      <td>3vyvetgHkFaehi7Ua4INH2</td>\n    </tr>\n  </tbody>\n</table>\n<p>5902 rows × 2 columns</p>\n</div>"
     },
     "execution_count": 18,
     "metadata": {},
     "output_type": "execute_result"
    }
   ],
   "source": [
    "# Assuming G is your NetworkX graph\n",
    "\n",
    "# Extract nodes and their attributes from the graph\n",
    "nodes_with_attributes = [(G2.nodes[node], node) for node in G2.nodes()]\n",
    "\n",
    "# Create a DataFrame from the nodes and their attributes\n",
    "df_nodes_test = pd.DataFrame(nodes_with_attributes, columns=['Attributes', \"Spotify ID\"])\n",
    "\n",
    "# Normalize the 'Attributes' column to expand it into separate columns\n",
    "df_attributes = pd.json_normalize(df_nodes_test['Attributes'])\n",
    "\n",
    "# Combine the original 'Node' column with the expanded attributes\n",
    "df_nodes_test = pd.concat([df_attributes, df_nodes_test['Spotify ID']], axis=1)\n",
    "\n",
    "# Display the DataFrame\n",
    "df_nodes_test"
   ],
   "metadata": {
    "collapsed": false,
    "ExecuteTime": {
     "end_time": "2024-05-06T14:03:37.795253100Z",
     "start_time": "2024-05-06T14:03:37.756992600Z"
    }
   },
   "id": "4b5d80bd0f928513"
  },
  {
   "cell_type": "code",
   "execution_count": 19,
   "outputs": [],
   "source": [
    "df_nodes_test.to_csv(\"network_created/nodes_real_test.csv\", sep='\\t', index=False)"
   ],
   "metadata": {
    "collapsed": false,
    "ExecuteTime": {
     "end_time": "2024-05-06T14:03:37.865389100Z",
     "start_time": "2024-05-06T14:03:37.797899100Z"
    }
   },
   "id": "eeab99250e649d7a"
  },
  {
   "cell_type": "code",
   "execution_count": 20,
   "outputs": [
    {
     "data": {
      "text/plain": "                      Source                  Target            lable1  \\\n0     1CO6e7WRJvSFenmQO8n64C  5ZsFI1h6hIdQRw2ti0hz81              ZAYN   \n1     7sfl4Xt5KmfyDs2T3SVSMK  6DT3Q5s1oRIZZdOOmg0kVI           Lil Jon   \n2     7sfl4Xt5KmfyDs2T3SVSMK  3XonXgjEAAXVl0WKLF1Z4g     Sidney Samson   \n3     7sfl4Xt5KmfyDs2T3SVSMK  4sv6VJ2QZlaSosz3kFlxQH           Lil Jon   \n4     7sfl4Xt5KmfyDs2T3SVSMK  7bXgB6jMjp9ATFy66eO08Z       Chris Brown   \n...                      ...                     ...               ...   \n3647  4wgccx5nElfukIvZxeHZw6  0ZCfuXVtKZTKc8mBExbl6d    Barbara Shorts   \n3648  1mX1TWKpNxDSAH16LgDfiR  1vyhD5VmyZ7KMfW5gqLgo5       Jesse & Joy   \n3649  4RLwK2VYW3DnODvHz8UzBP  7kwCkEJ384PWm0UQW3hxjS       Yella Beezy   \n3650  1vyhD5VmyZ7KMfW5gqLgo5  1Cs0zKBU1kc0i8ypK3B9ai      David Guetta   \n3651  69GGBxA162lTqCwzJG5jLp  3OE2vHui8QauBfsyVI80Vs  The Chainsmokers   \n\n                                 lable2  weight                 song_id  \\\n0                           Zhavia Ward       2  1iWHabUgUuuKLBa0TzTHfk   \n1                          Kool-Aid Man       2  5Tz3kCWr1LL2S7P02W55jw   \n2                               Lil Jon       2  4AC0cgrfUb3tiwiqnKhnge   \n3                               Mac Dre       4  32w9f89xZCKYsNI1DXocsg   \n4                               Lil Jon       4  0zMlSrUIBXLiJIX1EyL9VP   \n...                                 ...     ...                     ...   \n3647  New Orleans St Jeanne D'Arc Choir      10  4uqAduBduZNnI2Rjn1cqEE   \n3648                           J Balvin       2  3AnFYXJMTNJtQUwsJWmTK4   \n3649                      Snook Monstro       2  68UWN5EeBx7woMamuPHzjr   \n3650                           J Balvin       2  2Gy4jUcTYeFsz4TmavpKYd   \n3651                           Enschway       2  6PP4lOeigJ3BtcVZlFC2Me   \n\n                                              song_name  explicit  \\\n0        A Whole New World (End Title) - From \"Aladdin\"     False   \n1     All I Really Want For Christmas (feat. Kool-Ai...     False   \n2                            Mutate - 2k19 Festival Mix     False   \n3                       Ain't No Tellin' (with Mac Dre)      True   \n4                       Temporary Lover (feat. Lil Jon)     False   \n...                                                 ...       ...   \n3647                     Rudolph the Red-Nosed Reindeer     False   \n3648                                 Mañana Es Too Late     False   \n3649                  Come Around (feat. Snook Monstro)      True   \n3650                Para que te quedes (feat. J Balvin)     False   \n3651                  Kills You Slowly - Enschway Remix      True   \n\n          song_type  track_number  ...  time_signature  acousticness  \\\n0     Collaboration             1  ...               4      0.057500   \n1     Collaboration             1  ...               4      0.000318   \n2     Collaboration             1  ...               4      0.000091   \n3     Collaboration             1  ...               4      0.019400   \n4     Collaboration             4  ...               4      0.004650   \n...             ...           ...  ...             ...           ...   \n3647  Collaboration            10  ...               4      0.680000   \n3648  Collaboration             1  ...               3      0.327322   \n3649  Collaboration            11  ...               4      0.010800   \n3650  Collaboration            13  ...               4      0.122000   \n3651  Collaboration             3  ...               4      0.005930   \n\n      danceability   energy instrumentalness  liveness  loudness  speechiness  \\\n0         0.302000  0.41400         0.000000  0.086100  -8.16000     0.031900   \n1         0.764000  0.90500         0.000207  0.069300  -3.23100     0.115000   \n2         0.688000  0.98400         0.119000  0.364000  -3.71700     0.176000   \n3         0.685000  0.87800         0.000000  0.139000  -7.02700     0.425000   \n4         0.640000  0.67500         0.000000  0.574000  -5.43100     0.038400   \n...            ...      ...              ...       ...       ...          ...   \n3647      0.431000  0.79200         0.061800  0.137000  -7.08700     0.043900   \n3648      0.584527  0.55954         0.248792  0.206707  -9.93808     0.077865   \n3649      0.636000  0.66200         0.000000  0.055500  -7.57400     0.447000   \n3650      0.863000  0.58400         0.000000  0.070700  -4.78500     0.279000   \n3651      0.519000  0.74000         0.004820  0.142000  -9.49300     0.081400   \n\n       valence       tempo  \n0     0.105000  110.508000  \n1     0.407000  100.053000  \n2     0.460000  128.012000  \n3     0.756000  100.826000  \n4     0.598000  105.038000  \n...        ...         ...  \n3647  0.620000  146.636000  \n3648  0.514298  120.400949  \n3649  0.553000  124.726000  \n3650  0.698000   94.000000  \n3651  0.148000   82.602000  \n\n[3652 rows x 27 columns]",
      "text/html": "<div>\n<style scoped>\n    .dataframe tbody tr th:only-of-type {\n        vertical-align: middle;\n    }\n\n    .dataframe tbody tr th {\n        vertical-align: top;\n    }\n\n    .dataframe thead th {\n        text-align: right;\n    }\n</style>\n<table border=\"1\" class=\"dataframe\">\n  <thead>\n    <tr style=\"text-align: right;\">\n      <th></th>\n      <th>Source</th>\n      <th>Target</th>\n      <th>lable1</th>\n      <th>lable2</th>\n      <th>weight</th>\n      <th>song_id</th>\n      <th>song_name</th>\n      <th>explicit</th>\n      <th>song_type</th>\n      <th>track_number</th>\n      <th>...</th>\n      <th>time_signature</th>\n      <th>acousticness</th>\n      <th>danceability</th>\n      <th>energy</th>\n      <th>instrumentalness</th>\n      <th>liveness</th>\n      <th>loudness</th>\n      <th>speechiness</th>\n      <th>valence</th>\n      <th>tempo</th>\n    </tr>\n  </thead>\n  <tbody>\n    <tr>\n      <th>0</th>\n      <td>1CO6e7WRJvSFenmQO8n64C</td>\n      <td>5ZsFI1h6hIdQRw2ti0hz81</td>\n      <td>ZAYN</td>\n      <td>Zhavia Ward</td>\n      <td>2</td>\n      <td>1iWHabUgUuuKLBa0TzTHfk</td>\n      <td>A Whole New World (End Title) - From \"Aladdin\"</td>\n      <td>False</td>\n      <td>Collaboration</td>\n      <td>1</td>\n      <td>...</td>\n      <td>4</td>\n      <td>0.057500</td>\n      <td>0.302000</td>\n      <td>0.41400</td>\n      <td>0.000000</td>\n      <td>0.086100</td>\n      <td>-8.16000</td>\n      <td>0.031900</td>\n      <td>0.105000</td>\n      <td>110.508000</td>\n    </tr>\n    <tr>\n      <th>1</th>\n      <td>7sfl4Xt5KmfyDs2T3SVSMK</td>\n      <td>6DT3Q5s1oRIZZdOOmg0kVI</td>\n      <td>Lil Jon</td>\n      <td>Kool-Aid Man</td>\n      <td>2</td>\n      <td>5Tz3kCWr1LL2S7P02W55jw</td>\n      <td>All I Really Want For Christmas (feat. Kool-Ai...</td>\n      <td>False</td>\n      <td>Collaboration</td>\n      <td>1</td>\n      <td>...</td>\n      <td>4</td>\n      <td>0.000318</td>\n      <td>0.764000</td>\n      <td>0.90500</td>\n      <td>0.000207</td>\n      <td>0.069300</td>\n      <td>-3.23100</td>\n      <td>0.115000</td>\n      <td>0.407000</td>\n      <td>100.053000</td>\n    </tr>\n    <tr>\n      <th>2</th>\n      <td>7sfl4Xt5KmfyDs2T3SVSMK</td>\n      <td>3XonXgjEAAXVl0WKLF1Z4g</td>\n      <td>Sidney Samson</td>\n      <td>Lil Jon</td>\n      <td>2</td>\n      <td>4AC0cgrfUb3tiwiqnKhnge</td>\n      <td>Mutate - 2k19 Festival Mix</td>\n      <td>False</td>\n      <td>Collaboration</td>\n      <td>1</td>\n      <td>...</td>\n      <td>4</td>\n      <td>0.000091</td>\n      <td>0.688000</td>\n      <td>0.98400</td>\n      <td>0.119000</td>\n      <td>0.364000</td>\n      <td>-3.71700</td>\n      <td>0.176000</td>\n      <td>0.460000</td>\n      <td>128.012000</td>\n    </tr>\n    <tr>\n      <th>3</th>\n      <td>7sfl4Xt5KmfyDs2T3SVSMK</td>\n      <td>4sv6VJ2QZlaSosz3kFlxQH</td>\n      <td>Lil Jon</td>\n      <td>Mac Dre</td>\n      <td>4</td>\n      <td>32w9f89xZCKYsNI1DXocsg</td>\n      <td>Ain't No Tellin' (with Mac Dre)</td>\n      <td>True</td>\n      <td>Collaboration</td>\n      <td>1</td>\n      <td>...</td>\n      <td>4</td>\n      <td>0.019400</td>\n      <td>0.685000</td>\n      <td>0.87800</td>\n      <td>0.000000</td>\n      <td>0.139000</td>\n      <td>-7.02700</td>\n      <td>0.425000</td>\n      <td>0.756000</td>\n      <td>100.826000</td>\n    </tr>\n    <tr>\n      <th>4</th>\n      <td>7sfl4Xt5KmfyDs2T3SVSMK</td>\n      <td>7bXgB6jMjp9ATFy66eO08Z</td>\n      <td>Chris Brown</td>\n      <td>Lil Jon</td>\n      <td>4</td>\n      <td>0zMlSrUIBXLiJIX1EyL9VP</td>\n      <td>Temporary Lover (feat. Lil Jon)</td>\n      <td>False</td>\n      <td>Collaboration</td>\n      <td>4</td>\n      <td>...</td>\n      <td>4</td>\n      <td>0.004650</td>\n      <td>0.640000</td>\n      <td>0.67500</td>\n      <td>0.000000</td>\n      <td>0.574000</td>\n      <td>-5.43100</td>\n      <td>0.038400</td>\n      <td>0.598000</td>\n      <td>105.038000</td>\n    </tr>\n    <tr>\n      <th>...</th>\n      <td>...</td>\n      <td>...</td>\n      <td>...</td>\n      <td>...</td>\n      <td>...</td>\n      <td>...</td>\n      <td>...</td>\n      <td>...</td>\n      <td>...</td>\n      <td>...</td>\n      <td>...</td>\n      <td>...</td>\n      <td>...</td>\n      <td>...</td>\n      <td>...</td>\n      <td>...</td>\n      <td>...</td>\n      <td>...</td>\n      <td>...</td>\n      <td>...</td>\n      <td>...</td>\n    </tr>\n    <tr>\n      <th>3647</th>\n      <td>4wgccx5nElfukIvZxeHZw6</td>\n      <td>0ZCfuXVtKZTKc8mBExbl6d</td>\n      <td>Barbara Shorts</td>\n      <td>New Orleans St Jeanne D'Arc Choir</td>\n      <td>10</td>\n      <td>4uqAduBduZNnI2Rjn1cqEE</td>\n      <td>Rudolph the Red-Nosed Reindeer</td>\n      <td>False</td>\n      <td>Collaboration</td>\n      <td>10</td>\n      <td>...</td>\n      <td>4</td>\n      <td>0.680000</td>\n      <td>0.431000</td>\n      <td>0.79200</td>\n      <td>0.061800</td>\n      <td>0.137000</td>\n      <td>-7.08700</td>\n      <td>0.043900</td>\n      <td>0.620000</td>\n      <td>146.636000</td>\n    </tr>\n    <tr>\n      <th>3648</th>\n      <td>1mX1TWKpNxDSAH16LgDfiR</td>\n      <td>1vyhD5VmyZ7KMfW5gqLgo5</td>\n      <td>Jesse &amp; Joy</td>\n      <td>J Balvin</td>\n      <td>2</td>\n      <td>3AnFYXJMTNJtQUwsJWmTK4</td>\n      <td>Mañana Es Too Late</td>\n      <td>False</td>\n      <td>Collaboration</td>\n      <td>1</td>\n      <td>...</td>\n      <td>3</td>\n      <td>0.327322</td>\n      <td>0.584527</td>\n      <td>0.55954</td>\n      <td>0.248792</td>\n      <td>0.206707</td>\n      <td>-9.93808</td>\n      <td>0.077865</td>\n      <td>0.514298</td>\n      <td>120.400949</td>\n    </tr>\n    <tr>\n      <th>3649</th>\n      <td>4RLwK2VYW3DnODvHz8UzBP</td>\n      <td>7kwCkEJ384PWm0UQW3hxjS</td>\n      <td>Yella Beezy</td>\n      <td>Snook Monstro</td>\n      <td>2</td>\n      <td>68UWN5EeBx7woMamuPHzjr</td>\n      <td>Come Around (feat. Snook Monstro)</td>\n      <td>True</td>\n      <td>Collaboration</td>\n      <td>11</td>\n      <td>...</td>\n      <td>4</td>\n      <td>0.010800</td>\n      <td>0.636000</td>\n      <td>0.66200</td>\n      <td>0.000000</td>\n      <td>0.055500</td>\n      <td>-7.57400</td>\n      <td>0.447000</td>\n      <td>0.553000</td>\n      <td>124.726000</td>\n    </tr>\n    <tr>\n      <th>3650</th>\n      <td>1vyhD5VmyZ7KMfW5gqLgo5</td>\n      <td>1Cs0zKBU1kc0i8ypK3B9ai</td>\n      <td>David Guetta</td>\n      <td>J Balvin</td>\n      <td>2</td>\n      <td>2Gy4jUcTYeFsz4TmavpKYd</td>\n      <td>Para que te quedes (feat. J Balvin)</td>\n      <td>False</td>\n      <td>Collaboration</td>\n      <td>13</td>\n      <td>...</td>\n      <td>4</td>\n      <td>0.122000</td>\n      <td>0.863000</td>\n      <td>0.58400</td>\n      <td>0.000000</td>\n      <td>0.070700</td>\n      <td>-4.78500</td>\n      <td>0.279000</td>\n      <td>0.698000</td>\n      <td>94.000000</td>\n    </tr>\n    <tr>\n      <th>3651</th>\n      <td>69GGBxA162lTqCwzJG5jLp</td>\n      <td>3OE2vHui8QauBfsyVI80Vs</td>\n      <td>The Chainsmokers</td>\n      <td>Enschway</td>\n      <td>2</td>\n      <td>6PP4lOeigJ3BtcVZlFC2Me</td>\n      <td>Kills You Slowly - Enschway Remix</td>\n      <td>True</td>\n      <td>Collaboration</td>\n      <td>3</td>\n      <td>...</td>\n      <td>4</td>\n      <td>0.005930</td>\n      <td>0.519000</td>\n      <td>0.74000</td>\n      <td>0.004820</td>\n      <td>0.142000</td>\n      <td>-9.49300</td>\n      <td>0.081400</td>\n      <td>0.148000</td>\n      <td>82.602000</td>\n    </tr>\n  </tbody>\n</table>\n<p>3652 rows × 27 columns</p>\n</div>"
     },
     "execution_count": 20,
     "metadata": {},
     "output_type": "execute_result"
    }
   ],
   "source": [
    "# Extract edges and their attributes from the graph\n",
    "edges_with_attributes = [(u, v, G2.edges[u, v]) for u, v in G2.edges()]\n",
    "\n",
    "# Create a DataFrame from the edges and their attributes\n",
    "df_edges_test = pd.DataFrame(edges_with_attributes, columns=['Source', 'Target', 'Attributes'])\n",
    "\n",
    "# Normalize the 'Attributes' column to expand it into separate columns\n",
    "df_edge_attributes = pd.json_normalize(df_edges_test['Attributes'])\n",
    "\n",
    "# Combine the original 'Attributes' column with the expanded attributes\n",
    "df_edges_test = pd.concat([df_edges_test[['Source', 'Target']], df_edge_attributes], axis=1)\n",
    "df_edges_test"
   ],
   "metadata": {
    "collapsed": false,
    "ExecuteTime": {
     "end_time": "2024-05-06T14:03:37.952407700Z",
     "start_time": "2024-05-06T14:03:37.830988400Z"
    }
   },
   "id": "2e6324973210ec7e"
  },
  {
   "cell_type": "code",
   "execution_count": 21,
   "outputs": [],
   "source": [
    "# Save edge DataFrame to CSV\n",
    "df_edges_test.to_csv('network_created/edges_real_test.csv', sep='\\t', index=False)"
   ],
   "metadata": {
    "collapsed": false,
    "ExecuteTime": {
     "end_time": "2024-05-06T14:03:38.053559200Z",
     "start_time": "2024-05-06T14:03:37.953463300Z"
    }
   },
   "id": "b2a4471b27c98a30"
  },
  {
   "cell_type": "code",
   "execution_count": 22,
   "outputs": [
    {
     "name": "stdout",
     "output_type": "stream",
     "text": [
      "Number of nodes: 5902\n",
      "Number of edges: 3652\n"
     ]
    }
   ],
   "source": [
    "num_nodes = G2.number_of_nodes()\n",
    "num_edges = G2.number_of_edges()\n",
    "print(\"Number of nodes:\", num_nodes)\n",
    "print(\"Number of edges:\", num_edges)\n"
   ],
   "metadata": {
    "collapsed": false,
    "ExecuteTime": {
     "end_time": "2024-05-06T14:03:38.060560100Z",
     "start_time": "2024-05-06T14:03:38.016561400Z"
    }
   },
   "id": "b6287a821fd97ef0"
  },
  {
   "cell_type": "code",
   "execution_count": 23,
   "outputs": [
    {
     "data": {
      "text/plain": "                       song_id                                 song_name  \\\n890508  2F2KnlkMvRIQM2phyz1NYh                       Oh How I Love Jesus   \n81022   6kZ6EPli1wps476k58QoM3  Get The Girl Back (Instrumental Version)   \n81023   5OK4VpBJf3fsZIqCFJY4F3                          Mamma Knows Best   \n81021   0fAOmzEJtclHr2iMrhWQHU                         Get The Girl Back   \n81029   5Snl4twAgLjf1XRxxFpUwl                             Shakin' Hands   \n...                        ...                                       ...   \n111731  1TDIEgiZDIedT13NQ2mAXg                             Northern Soul   \n111730  4EJjPeKdHIZBEd3LJFEG3J                              Chilled Life   \n111729  1dGHkh8SvzrJJB5i0lMf37                     The Messiahs Birthday   \n111728  1llc2q5P1fAeBvEf3xWK0s                                    Flamma   \n665923  5bM5D6WuyNX4dBOX9WNi24                             Make You Rain   \n\n                        id_artists                  name_artists  popularity  \\\n890508  ['6CXezToiGS8K6jr9kr8Muv']           ['The Jordanaires']           0   \n81022   ['1WDVM4rBdKu6nHeJ6hQMN9']          ['2014 Golden Cove']           0   \n81023   ['1WDVM4rBdKu6nHeJ6hQMN9']          ['2014 Golden Cove']           0   \n81021   ['1WDVM4rBdKu6nHeJ6hQMN9']          ['2014 Golden Cove']           0   \n81029   ['1WDVM4rBdKu6nHeJ6hQMN9']          ['2014 Golden Cove']           0   \n...                            ...                           ...         ...   \n111731  ['7JfutRemdlJGyQsIZ7wWQ9']             ['Workout Buddy']           0   \n111730  ['7JfutRemdlJGyQsIZ7wWQ9']             ['Workout Buddy']           0   \n111729  ['7JfutRemdlJGyQsIZ7wWQ9']             ['Workout Buddy']           0   \n111728  ['7JfutRemdlJGyQsIZ7wWQ9']             ['Workout Buddy']           0   \n665923  ['397f86EukZ0rjnR5FWq0HQ']  ['Brazilian Lounge Project']           0   \n\n        explicit song_type  track_number  num_artists  num_available_markets  \\\n890508     False      Solo             2            1                     78   \n81022      False      Solo             2            1                     79   \n81023      False      Solo             1            1                     79   \n81021      False      Solo             1            1                     79   \n81029      False      Solo             1            1                     79   \n...          ...       ...           ...          ...                    ...   \n111731     False      Solo            20            1                     79   \n111730     False      Solo            19            1                     79   \n111729     False      Solo            18            1                     79   \n111728     False      Solo            17            1                     79   \n665923     False      Solo             7            1                     79   \n\n        ... danceability  energy  instrumentalness  liveness  loudness  \\\n890508  ...        0.458   0.487          0.000003    0.1090    -8.193   \n81022   ...        0.620   0.812          0.869000    0.1800   -13.474   \n81023   ...        0.689   0.313          0.103000    0.0901   -10.325   \n81021   ...        0.783   0.763          0.000000    0.1790    -8.382   \n81029   ...        0.648   0.622          0.000000    0.3140    -9.420   \n...     ...          ...     ...               ...       ...       ...   \n111731  ...        0.801   0.452          0.895000    0.0366   -11.564   \n111730  ...        0.792   0.870          0.664000    0.0627    -9.842   \n111729  ...        0.761   0.588          0.913000    0.1130   -13.552   \n111728  ...        0.637   0.969          0.836000    0.3790    -4.583   \n665923  ...        0.810   0.717          0.901000    0.1110    -7.345   \n\n        speechiness  valence    tempo  hit       date  \n890508       0.0379   0.7500  185.921    0 2014-08-26  \n81022        0.0367   0.9800  128.957    0 2014-08-26  \n81023        0.0882   0.6630   99.760    0 2014-08-26  \n81021        0.0311   0.9600  128.965    0 2014-08-26  \n81029        0.0352   0.7140  137.973    0 2014-08-26  \n...             ...      ...      ...  ...        ...  \n111731       0.0725   0.3530  121.983    0 2018-08-25  \n111730       0.0448   0.4110  124.016    0 2018-08-25  \n111729       0.0690   0.1090  123.982    0 2018-08-25  \n111728       0.0436   0.0719  128.098    0 2018-08-25  \n665923       0.0749   0.1700  126.010    0 2018-08-25  \n\n[229214 rows x 26 columns]",
      "text/html": "<div>\n<style scoped>\n    .dataframe tbody tr th:only-of-type {\n        vertical-align: middle;\n    }\n\n    .dataframe tbody tr th {\n        vertical-align: top;\n    }\n\n    .dataframe thead th {\n        text-align: right;\n    }\n</style>\n<table border=\"1\" class=\"dataframe\">\n  <thead>\n    <tr style=\"text-align: right;\">\n      <th></th>\n      <th>song_id</th>\n      <th>song_name</th>\n      <th>id_artists</th>\n      <th>name_artists</th>\n      <th>popularity</th>\n      <th>explicit</th>\n      <th>song_type</th>\n      <th>track_number</th>\n      <th>num_artists</th>\n      <th>num_available_markets</th>\n      <th>...</th>\n      <th>danceability</th>\n      <th>energy</th>\n      <th>instrumentalness</th>\n      <th>liveness</th>\n      <th>loudness</th>\n      <th>speechiness</th>\n      <th>valence</th>\n      <th>tempo</th>\n      <th>hit</th>\n      <th>date</th>\n    </tr>\n  </thead>\n  <tbody>\n    <tr>\n      <th>890508</th>\n      <td>2F2KnlkMvRIQM2phyz1NYh</td>\n      <td>Oh How I Love Jesus</td>\n      <td>['6CXezToiGS8K6jr9kr8Muv']</td>\n      <td>['The Jordanaires']</td>\n      <td>0</td>\n      <td>False</td>\n      <td>Solo</td>\n      <td>2</td>\n      <td>1</td>\n      <td>78</td>\n      <td>...</td>\n      <td>0.458</td>\n      <td>0.487</td>\n      <td>0.000003</td>\n      <td>0.1090</td>\n      <td>-8.193</td>\n      <td>0.0379</td>\n      <td>0.7500</td>\n      <td>185.921</td>\n      <td>0</td>\n      <td>2014-08-26</td>\n    </tr>\n    <tr>\n      <th>81022</th>\n      <td>6kZ6EPli1wps476k58QoM3</td>\n      <td>Get The Girl Back (Instrumental Version)</td>\n      <td>['1WDVM4rBdKu6nHeJ6hQMN9']</td>\n      <td>['2014 Golden Cove']</td>\n      <td>0</td>\n      <td>False</td>\n      <td>Solo</td>\n      <td>2</td>\n      <td>1</td>\n      <td>79</td>\n      <td>...</td>\n      <td>0.620</td>\n      <td>0.812</td>\n      <td>0.869000</td>\n      <td>0.1800</td>\n      <td>-13.474</td>\n      <td>0.0367</td>\n      <td>0.9800</td>\n      <td>128.957</td>\n      <td>0</td>\n      <td>2014-08-26</td>\n    </tr>\n    <tr>\n      <th>81023</th>\n      <td>5OK4VpBJf3fsZIqCFJY4F3</td>\n      <td>Mamma Knows Best</td>\n      <td>['1WDVM4rBdKu6nHeJ6hQMN9']</td>\n      <td>['2014 Golden Cove']</td>\n      <td>0</td>\n      <td>False</td>\n      <td>Solo</td>\n      <td>1</td>\n      <td>1</td>\n      <td>79</td>\n      <td>...</td>\n      <td>0.689</td>\n      <td>0.313</td>\n      <td>0.103000</td>\n      <td>0.0901</td>\n      <td>-10.325</td>\n      <td>0.0882</td>\n      <td>0.6630</td>\n      <td>99.760</td>\n      <td>0</td>\n      <td>2014-08-26</td>\n    </tr>\n    <tr>\n      <th>81021</th>\n      <td>0fAOmzEJtclHr2iMrhWQHU</td>\n      <td>Get The Girl Back</td>\n      <td>['1WDVM4rBdKu6nHeJ6hQMN9']</td>\n      <td>['2014 Golden Cove']</td>\n      <td>0</td>\n      <td>False</td>\n      <td>Solo</td>\n      <td>1</td>\n      <td>1</td>\n      <td>79</td>\n      <td>...</td>\n      <td>0.783</td>\n      <td>0.763</td>\n      <td>0.000000</td>\n      <td>0.1790</td>\n      <td>-8.382</td>\n      <td>0.0311</td>\n      <td>0.9600</td>\n      <td>128.965</td>\n      <td>0</td>\n      <td>2014-08-26</td>\n    </tr>\n    <tr>\n      <th>81029</th>\n      <td>5Snl4twAgLjf1XRxxFpUwl</td>\n      <td>Shakin' Hands</td>\n      <td>['1WDVM4rBdKu6nHeJ6hQMN9']</td>\n      <td>['2014 Golden Cove']</td>\n      <td>0</td>\n      <td>False</td>\n      <td>Solo</td>\n      <td>1</td>\n      <td>1</td>\n      <td>79</td>\n      <td>...</td>\n      <td>0.648</td>\n      <td>0.622</td>\n      <td>0.000000</td>\n      <td>0.3140</td>\n      <td>-9.420</td>\n      <td>0.0352</td>\n      <td>0.7140</td>\n      <td>137.973</td>\n      <td>0</td>\n      <td>2014-08-26</td>\n    </tr>\n    <tr>\n      <th>...</th>\n      <td>...</td>\n      <td>...</td>\n      <td>...</td>\n      <td>...</td>\n      <td>...</td>\n      <td>...</td>\n      <td>...</td>\n      <td>...</td>\n      <td>...</td>\n      <td>...</td>\n      <td>...</td>\n      <td>...</td>\n      <td>...</td>\n      <td>...</td>\n      <td>...</td>\n      <td>...</td>\n      <td>...</td>\n      <td>...</td>\n      <td>...</td>\n      <td>...</td>\n      <td>...</td>\n    </tr>\n    <tr>\n      <th>111731</th>\n      <td>1TDIEgiZDIedT13NQ2mAXg</td>\n      <td>Northern Soul</td>\n      <td>['7JfutRemdlJGyQsIZ7wWQ9']</td>\n      <td>['Workout Buddy']</td>\n      <td>0</td>\n      <td>False</td>\n      <td>Solo</td>\n      <td>20</td>\n      <td>1</td>\n      <td>79</td>\n      <td>...</td>\n      <td>0.801</td>\n      <td>0.452</td>\n      <td>0.895000</td>\n      <td>0.0366</td>\n      <td>-11.564</td>\n      <td>0.0725</td>\n      <td>0.3530</td>\n      <td>121.983</td>\n      <td>0</td>\n      <td>2018-08-25</td>\n    </tr>\n    <tr>\n      <th>111730</th>\n      <td>4EJjPeKdHIZBEd3LJFEG3J</td>\n      <td>Chilled Life</td>\n      <td>['7JfutRemdlJGyQsIZ7wWQ9']</td>\n      <td>['Workout Buddy']</td>\n      <td>0</td>\n      <td>False</td>\n      <td>Solo</td>\n      <td>19</td>\n      <td>1</td>\n      <td>79</td>\n      <td>...</td>\n      <td>0.792</td>\n      <td>0.870</td>\n      <td>0.664000</td>\n      <td>0.0627</td>\n      <td>-9.842</td>\n      <td>0.0448</td>\n      <td>0.4110</td>\n      <td>124.016</td>\n      <td>0</td>\n      <td>2018-08-25</td>\n    </tr>\n    <tr>\n      <th>111729</th>\n      <td>1dGHkh8SvzrJJB5i0lMf37</td>\n      <td>The Messiahs Birthday</td>\n      <td>['7JfutRemdlJGyQsIZ7wWQ9']</td>\n      <td>['Workout Buddy']</td>\n      <td>0</td>\n      <td>False</td>\n      <td>Solo</td>\n      <td>18</td>\n      <td>1</td>\n      <td>79</td>\n      <td>...</td>\n      <td>0.761</td>\n      <td>0.588</td>\n      <td>0.913000</td>\n      <td>0.1130</td>\n      <td>-13.552</td>\n      <td>0.0690</td>\n      <td>0.1090</td>\n      <td>123.982</td>\n      <td>0</td>\n      <td>2018-08-25</td>\n    </tr>\n    <tr>\n      <th>111728</th>\n      <td>1llc2q5P1fAeBvEf3xWK0s</td>\n      <td>Flamma</td>\n      <td>['7JfutRemdlJGyQsIZ7wWQ9']</td>\n      <td>['Workout Buddy']</td>\n      <td>0</td>\n      <td>False</td>\n      <td>Solo</td>\n      <td>17</td>\n      <td>1</td>\n      <td>79</td>\n      <td>...</td>\n      <td>0.637</td>\n      <td>0.969</td>\n      <td>0.836000</td>\n      <td>0.3790</td>\n      <td>-4.583</td>\n      <td>0.0436</td>\n      <td>0.0719</td>\n      <td>128.098</td>\n      <td>0</td>\n      <td>2018-08-25</td>\n    </tr>\n    <tr>\n      <th>665923</th>\n      <td>5bM5D6WuyNX4dBOX9WNi24</td>\n      <td>Make You Rain</td>\n      <td>['397f86EukZ0rjnR5FWq0HQ']</td>\n      <td>['Brazilian Lounge Project']</td>\n      <td>0</td>\n      <td>False</td>\n      <td>Solo</td>\n      <td>7</td>\n      <td>1</td>\n      <td>79</td>\n      <td>...</td>\n      <td>0.810</td>\n      <td>0.717</td>\n      <td>0.901000</td>\n      <td>0.1110</td>\n      <td>-7.345</td>\n      <td>0.0749</td>\n      <td>0.1700</td>\n      <td>126.010</td>\n      <td>0</td>\n      <td>2018-08-25</td>\n    </tr>\n  </tbody>\n</table>\n<p>229214 rows × 26 columns</p>\n</div>"
     },
     "execution_count": 23,
     "metadata": {},
     "output_type": "execute_result"
    }
   ],
   "source": [
    "train_df"
   ],
   "metadata": {
    "collapsed": false,
    "ExecuteTime": {
     "end_time": "2024-05-06T14:03:38.189561300Z",
     "start_time": "2024-05-06T14:03:38.025561Z"
    }
   },
   "id": "b1de9789d17182a"
  },
  {
   "cell_type": "code",
   "execution_count": 24,
   "outputs": [
    {
     "data": {
      "text/plain": "                       song_id  \\\n563810  6R3RXAvtypsoN6jWsjeabw   \n563811  2Tb4RA2rzI3Xp97Q3EuhZ6   \n563812  2ADv9UhiY8pACXvwxP9mr0   \n641117  2RcAviQBeJrtZDZ7P1Co9k   \n563813  7DnbauUP88t63cDXUrdovz   \n...                        ...   \n11098   0xAqhyWvTkfcdFgm7dozMO   \n10903   6zhg8TnVKi90ITDzFKwPr0   \n5856    2GvkFSjRXV0Ii3uYnHiQ74   \n5080    0lej8CemYKkWVHg77Xe1ky   \n10666   6Fh2QgjCxL96dA3Gtpfr4Q   \n\n                                                song_name  \\\n563810                                      Nordic Shores   \n563811                                               Wave   \n563812                                   Waltz for Joshua   \n641117                                            Elmoped   \n563813                                      Black Orpheus   \n...                                                   ...   \n11098             (I Wanna) Testify (Mono Single Version)   \n10903                       Swingtown - Alternate Version   \n5856                                       Take My Advice   \n5080             A Man Holdin' on (To a Woman Lettin’ Go)   \n10666   One Sweet Day (16-Bit Mariah Carey & Boyz II M...   \n\n                                               id_artists  \\\n563810                         ['0KMJUP87x4ERfwSNYvkttw']   \n563811                         ['3OpJxAHfT0KsJzQqdX5SLb']   \n563812                         ['3OpJxAHfT0KsJzQqdX5SLb']   \n641117                         ['6BkcAbUkfIBM4XudxieMq8']   \n563813                         ['3OpJxAHfT0KsJzQqdX5SLb']   \n...                                                   ...   \n11098                          ['1Ve5PoI7i5jIIP1xudo6AB']   \n10903                          ['6QtGlUje9TIkLrgPZrESuk']   \n5856                           ['40PLSl99xXqAQsCQQPmfyM']   \n5080    ['1Fj0R2t4HaJa3oUe8azB8R', '5LDnSV99gbDSsMX3Dc...   \n10666                          ['1v4YnufenjE9BLAfP90qvt']   \n\n                           name_artists  popularity  explicit      song_type  \\\n563810                 ['Sandgrounder']           0     False           Solo   \n563811                 ['Ginger Tunes']           0     False           Solo   \n563812                 ['Ginger Tunes']           0     False           Solo   \n641117                    ['Dr. Alban']          28     False           Solo   \n563813                 ['Ginger Tunes']           0     False           Solo   \n...                                 ...         ...       ...            ...   \n11098               ['The Parliaments']           7     False           Solo   \n10903             ['Steve Miller Band']          26     False           Solo   \n5856                       ['Kym Sims']           0     False           Solo   \n5080    ['Ty Herndon', 'Anita Cochran']          14     False  Collaboration   \n10666                 ['Arcade Player']           0     False           Solo   \n\n        track_number  num_artists  num_available_markets  ... danceability  \\\n563810             5            1                     79  ...        0.646   \n563811             6            1                     79  ...        0.668   \n563812             7            1                     79  ...        0.650   \n641117             1            1                     79  ...        0.851   \n563813             8            1                     79  ...        0.752   \n...              ...          ...                    ...  ...          ...   \n11098             10            1                     79  ...        0.668   \n10903              5            1                     79  ...        0.459   \n5856              10            1                     73  ...        0.737   \n5080               7            2                     79  ...        0.611   \n10666             27            1                     79  ...        0.395   \n\n        energy  instrumentalness  liveness  loudness  speechiness  valence  \\\n563810   0.490          0.895000    0.2230   -16.153       0.0525   0.8420   \n563811   0.414          0.902000    0.1120   -10.019       0.0361   0.0399   \n563812   0.235          0.887000    0.1490   -12.020       0.0346   0.0391   \n641117   0.568          0.000000    0.1450    -7.159       0.0589   0.4710   \n563813   0.435          0.901000    0.0886   -10.619       0.0347   0.1250   \n...        ...               ...       ...       ...          ...      ...   \n11098    0.702          0.000000    0.0521    -5.750       0.0330   0.7540   \n10903    0.764          0.000544    0.2440    -6.662       0.0354   0.4390   \n5856     0.814          0.392000    0.0844   -10.396       0.0307   0.8030   \n5080     0.429          0.000014    0.1120    -8.619       0.0298   0.2370   \n10666    0.405          0.745000    0.1100    -5.559       0.0393   0.3130   \n\n          tempo  hit       date  \n563810   95.016    0 2018-08-26  \n563811  121.084    0 2018-08-26  \n563812  116.265    0 2018-08-26  \n641117  119.981    0 2018-08-26  \n563813  122.128    0 2018-08-26  \n...         ...  ...        ...  \n11098   105.227    1 2019-08-23  \n10903   124.557    1 2019-08-23  \n5856    120.010    1 2019-08-23  \n5080    128.007    1 2019-08-23  \n10666   194.933    1 2019-08-26  \n\n[54250 rows x 26 columns]",
      "text/html": "<div>\n<style scoped>\n    .dataframe tbody tr th:only-of-type {\n        vertical-align: middle;\n    }\n\n    .dataframe tbody tr th {\n        vertical-align: top;\n    }\n\n    .dataframe thead th {\n        text-align: right;\n    }\n</style>\n<table border=\"1\" class=\"dataframe\">\n  <thead>\n    <tr style=\"text-align: right;\">\n      <th></th>\n      <th>song_id</th>\n      <th>song_name</th>\n      <th>id_artists</th>\n      <th>name_artists</th>\n      <th>popularity</th>\n      <th>explicit</th>\n      <th>song_type</th>\n      <th>track_number</th>\n      <th>num_artists</th>\n      <th>num_available_markets</th>\n      <th>...</th>\n      <th>danceability</th>\n      <th>energy</th>\n      <th>instrumentalness</th>\n      <th>liveness</th>\n      <th>loudness</th>\n      <th>speechiness</th>\n      <th>valence</th>\n      <th>tempo</th>\n      <th>hit</th>\n      <th>date</th>\n    </tr>\n  </thead>\n  <tbody>\n    <tr>\n      <th>563810</th>\n      <td>6R3RXAvtypsoN6jWsjeabw</td>\n      <td>Nordic Shores</td>\n      <td>['0KMJUP87x4ERfwSNYvkttw']</td>\n      <td>['Sandgrounder']</td>\n      <td>0</td>\n      <td>False</td>\n      <td>Solo</td>\n      <td>5</td>\n      <td>1</td>\n      <td>79</td>\n      <td>...</td>\n      <td>0.646</td>\n      <td>0.490</td>\n      <td>0.895000</td>\n      <td>0.2230</td>\n      <td>-16.153</td>\n      <td>0.0525</td>\n      <td>0.8420</td>\n      <td>95.016</td>\n      <td>0</td>\n      <td>2018-08-26</td>\n    </tr>\n    <tr>\n      <th>563811</th>\n      <td>2Tb4RA2rzI3Xp97Q3EuhZ6</td>\n      <td>Wave</td>\n      <td>['3OpJxAHfT0KsJzQqdX5SLb']</td>\n      <td>['Ginger Tunes']</td>\n      <td>0</td>\n      <td>False</td>\n      <td>Solo</td>\n      <td>6</td>\n      <td>1</td>\n      <td>79</td>\n      <td>...</td>\n      <td>0.668</td>\n      <td>0.414</td>\n      <td>0.902000</td>\n      <td>0.1120</td>\n      <td>-10.019</td>\n      <td>0.0361</td>\n      <td>0.0399</td>\n      <td>121.084</td>\n      <td>0</td>\n      <td>2018-08-26</td>\n    </tr>\n    <tr>\n      <th>563812</th>\n      <td>2ADv9UhiY8pACXvwxP9mr0</td>\n      <td>Waltz for Joshua</td>\n      <td>['3OpJxAHfT0KsJzQqdX5SLb']</td>\n      <td>['Ginger Tunes']</td>\n      <td>0</td>\n      <td>False</td>\n      <td>Solo</td>\n      <td>7</td>\n      <td>1</td>\n      <td>79</td>\n      <td>...</td>\n      <td>0.650</td>\n      <td>0.235</td>\n      <td>0.887000</td>\n      <td>0.1490</td>\n      <td>-12.020</td>\n      <td>0.0346</td>\n      <td>0.0391</td>\n      <td>116.265</td>\n      <td>0</td>\n      <td>2018-08-26</td>\n    </tr>\n    <tr>\n      <th>641117</th>\n      <td>2RcAviQBeJrtZDZ7P1Co9k</td>\n      <td>Elmoped</td>\n      <td>['6BkcAbUkfIBM4XudxieMq8']</td>\n      <td>['Dr. Alban']</td>\n      <td>28</td>\n      <td>False</td>\n      <td>Solo</td>\n      <td>1</td>\n      <td>1</td>\n      <td>79</td>\n      <td>...</td>\n      <td>0.851</td>\n      <td>0.568</td>\n      <td>0.000000</td>\n      <td>0.1450</td>\n      <td>-7.159</td>\n      <td>0.0589</td>\n      <td>0.4710</td>\n      <td>119.981</td>\n      <td>0</td>\n      <td>2018-08-26</td>\n    </tr>\n    <tr>\n      <th>563813</th>\n      <td>7DnbauUP88t63cDXUrdovz</td>\n      <td>Black Orpheus</td>\n      <td>['3OpJxAHfT0KsJzQqdX5SLb']</td>\n      <td>['Ginger Tunes']</td>\n      <td>0</td>\n      <td>False</td>\n      <td>Solo</td>\n      <td>8</td>\n      <td>1</td>\n      <td>79</td>\n      <td>...</td>\n      <td>0.752</td>\n      <td>0.435</td>\n      <td>0.901000</td>\n      <td>0.0886</td>\n      <td>-10.619</td>\n      <td>0.0347</td>\n      <td>0.1250</td>\n      <td>122.128</td>\n      <td>0</td>\n      <td>2018-08-26</td>\n    </tr>\n    <tr>\n      <th>...</th>\n      <td>...</td>\n      <td>...</td>\n      <td>...</td>\n      <td>...</td>\n      <td>...</td>\n      <td>...</td>\n      <td>...</td>\n      <td>...</td>\n      <td>...</td>\n      <td>...</td>\n      <td>...</td>\n      <td>...</td>\n      <td>...</td>\n      <td>...</td>\n      <td>...</td>\n      <td>...</td>\n      <td>...</td>\n      <td>...</td>\n      <td>...</td>\n      <td>...</td>\n      <td>...</td>\n    </tr>\n    <tr>\n      <th>11098</th>\n      <td>0xAqhyWvTkfcdFgm7dozMO</td>\n      <td>(I Wanna) Testify (Mono Single Version)</td>\n      <td>['1Ve5PoI7i5jIIP1xudo6AB']</td>\n      <td>['The Parliaments']</td>\n      <td>7</td>\n      <td>False</td>\n      <td>Solo</td>\n      <td>10</td>\n      <td>1</td>\n      <td>79</td>\n      <td>...</td>\n      <td>0.668</td>\n      <td>0.702</td>\n      <td>0.000000</td>\n      <td>0.0521</td>\n      <td>-5.750</td>\n      <td>0.0330</td>\n      <td>0.7540</td>\n      <td>105.227</td>\n      <td>1</td>\n      <td>2019-08-23</td>\n    </tr>\n    <tr>\n      <th>10903</th>\n      <td>6zhg8TnVKi90ITDzFKwPr0</td>\n      <td>Swingtown - Alternate Version</td>\n      <td>['6QtGlUje9TIkLrgPZrESuk']</td>\n      <td>['Steve Miller Band']</td>\n      <td>26</td>\n      <td>False</td>\n      <td>Solo</td>\n      <td>5</td>\n      <td>1</td>\n      <td>79</td>\n      <td>...</td>\n      <td>0.459</td>\n      <td>0.764</td>\n      <td>0.000544</td>\n      <td>0.2440</td>\n      <td>-6.662</td>\n      <td>0.0354</td>\n      <td>0.4390</td>\n      <td>124.557</td>\n      <td>1</td>\n      <td>2019-08-23</td>\n    </tr>\n    <tr>\n      <th>5856</th>\n      <td>2GvkFSjRXV0Ii3uYnHiQ74</td>\n      <td>Take My Advice</td>\n      <td>['40PLSl99xXqAQsCQQPmfyM']</td>\n      <td>['Kym Sims']</td>\n      <td>0</td>\n      <td>False</td>\n      <td>Solo</td>\n      <td>10</td>\n      <td>1</td>\n      <td>73</td>\n      <td>...</td>\n      <td>0.737</td>\n      <td>0.814</td>\n      <td>0.392000</td>\n      <td>0.0844</td>\n      <td>-10.396</td>\n      <td>0.0307</td>\n      <td>0.8030</td>\n      <td>120.010</td>\n      <td>1</td>\n      <td>2019-08-23</td>\n    </tr>\n    <tr>\n      <th>5080</th>\n      <td>0lej8CemYKkWVHg77Xe1ky</td>\n      <td>A Man Holdin' on (To a Woman Lettin’ Go)</td>\n      <td>['1Fj0R2t4HaJa3oUe8azB8R', '5LDnSV99gbDSsMX3Dc...</td>\n      <td>['Ty Herndon', 'Anita Cochran']</td>\n      <td>14</td>\n      <td>False</td>\n      <td>Collaboration</td>\n      <td>7</td>\n      <td>2</td>\n      <td>79</td>\n      <td>...</td>\n      <td>0.611</td>\n      <td>0.429</td>\n      <td>0.000014</td>\n      <td>0.1120</td>\n      <td>-8.619</td>\n      <td>0.0298</td>\n      <td>0.2370</td>\n      <td>128.007</td>\n      <td>1</td>\n      <td>2019-08-23</td>\n    </tr>\n    <tr>\n      <th>10666</th>\n      <td>6Fh2QgjCxL96dA3Gtpfr4Q</td>\n      <td>One Sweet Day (16-Bit Mariah Carey &amp; Boyz II M...</td>\n      <td>['1v4YnufenjE9BLAfP90qvt']</td>\n      <td>['Arcade Player']</td>\n      <td>0</td>\n      <td>False</td>\n      <td>Solo</td>\n      <td>27</td>\n      <td>1</td>\n      <td>79</td>\n      <td>...</td>\n      <td>0.395</td>\n      <td>0.405</td>\n      <td>0.745000</td>\n      <td>0.1100</td>\n      <td>-5.559</td>\n      <td>0.0393</td>\n      <td>0.3130</td>\n      <td>194.933</td>\n      <td>1</td>\n      <td>2019-08-26</td>\n    </tr>\n  </tbody>\n</table>\n<p>54250 rows × 26 columns</p>\n</div>"
     },
     "execution_count": 24,
     "metadata": {},
     "output_type": "execute_result"
    }
   ],
   "source": [
    "test_df"
   ],
   "metadata": {
    "collapsed": false,
    "ExecuteTime": {
     "end_time": "2024-05-06T14:03:38.286558800Z",
     "start_time": "2024-05-06T14:03:38.183562700Z"
    }
   },
   "id": "4aa2a74a75195a81"
  }
 ],
 "metadata": {
  "kernelspec": {
   "display_name": "Python 3",
   "language": "python",
   "name": "python3"
  },
  "language_info": {
   "codemirror_mode": {
    "name": "ipython",
    "version": 2
   },
   "file_extension": ".py",
   "mimetype": "text/x-python",
   "name": "python",
   "nbconvert_exporter": "python",
   "pygments_lexer": "ipython2",
   "version": "2.7.6"
  }
 },
 "nbformat": 4,
 "nbformat_minor": 5
}
