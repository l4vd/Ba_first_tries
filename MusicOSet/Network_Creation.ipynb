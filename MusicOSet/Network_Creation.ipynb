{
 "cells": [
  {
   "cell_type": "code",
   "execution_count": 22,
   "id": "initial_id",
   "metadata": {
    "collapsed": true,
    "ExecuteTime": {
     "end_time": "2024-04-04T20:29:44.218453400Z",
     "start_time": "2024-04-04T20:29:43.927455400Z"
    }
   },
   "outputs": [
    {
     "data": {
      "text/plain": "                      song_id  \\\n0      3e9HZxeyfWwjeyPAMmWSSQ   \n1      5p7ujcrUXASCNwRaWNHR1C   \n2      2xLMifQCjDGFmkHkpNLD9h   \n3      3KkXRkHbMCARz0aVfEt68P   \n4      1rqqCSm0Qe4I9rUvWncaom   \n...                       ...   \n11954  5mz9pQZZXNpAw9CdQ7Bk8q   \n11955  2H9CKpZiLDF223BbwehpDF   \n11956  7zqM7Wm2xJLZ50qAnTLoHD   \n11957  4DPlKVZ6R1EHLfnIsy9ouh   \n11958  6RUa3ZwZYnJnNgZxtIYJR9   \n\n                                               song_name  \\\n0                                          thank u, next   \n1                                             Without Me   \n2                                             SICKO MODE   \n3          Sunflower - Spider-Man: Into the Spider-Verse   \n4                                             High Hopes   \n...                                                  ...   \n11954                Don't Pity Me - Mono; 2003 Remaster   \n11955                        Hush Hush; Hush Hush - Main   \n11956                              Lions, Tigers & Bears   \n11957                                         The Weight   \n11958  Purest of Pain (A Puro Dolor) - Martinee's Rad...   \n\n                                              id_artists  \\\n0                             ['66CXWjxzNUsdJxJ2JdwvnR']   \n1                             ['26VFTg2z8YR0cCuwLzESi2']   \n2                             ['0Y5tJX1MQlPlqiwlOH1tJY']   \n3      ['246dkjvS1zLTtiykXe5h60', '1zNqQNIdeOUZHb8zbZ...   \n4                             ['20JZFwl6HVl6yg8a4H3ZqK']   \n...                                                  ...   \n11954                         ['6lHC2EQMEMZiEmSfFloarn']   \n11955                         ['6wPhSqRtPu1UhRCDX5yaDJ']   \n11956                         ['7gSjFKpVmDgC2MMsnN8CYq']   \n11957  ['0rXI0q8Cahq6numvPlloaq', '3RwQ26hR2tJtA8F9p2...   \n11958  ['1qyAl8T6GTcaOViaI7fs1j', '7AOI1S3Uy411dDhNTd...   \n\n                                           name_artists  popularity  explicit  \\\n0                                     ['Ariana Grande']          87      True   \n1                                            ['Halsey']          87      True   \n2                                      ['Travis Scott']          86      True   \n3                           ['Post Malone', 'Swae Lee']          92     False   \n4                               ['Panic! At The Disco']          86     False   \n...                                                 ...         ...       ...   \n11954                              ['Peter And Gordon']           8     False   \n11955                            ['The Pussycat Dolls']          57     False   \n11956                              ['Jazmine Sullivan']          49     False   \n11957  ['Diana Ross & The Supremes', 'The Temptations']           2     False   \n11958                 ['Son By Four', 'Lewis Martinee']          10     False   \n\n           song_type  track_number  num_artists  num_available_markets  ...  \\\n0               Solo            11            1                     79  ...   \n1               Solo             1            1                     79  ...   \n2               Solo             3            1                     79  ...   \n3      Collaboration             2            2                     79  ...   \n4               Solo             4            1                     78  ...   \n...              ...           ...          ...                    ...  ...   \n11954           Solo             1            1                     78  ...   \n11955           Solo             1            1                     59  ...   \n11956           Solo             4            1                     71  ...   \n11957  Collaboration            23            2                     79  ...   \n11958  Collaboration             1            2                     79  ...   \n\n      acousticness  danceability  energy  instrumentalness  liveness  \\\n0          0.22900         0.717   0.653          0.000000    0.1010   \n1          0.29700         0.752   0.488          0.000009    0.0936   \n2          0.00513         0.834   0.730          0.000000    0.1240   \n3          0.55600         0.760   0.479          0.000000    0.0703   \n4          0.19300         0.579   0.904          0.000000    0.0640   \n...            ...           ...     ...               ...       ...   \n11954      0.61900         0.500   0.654          0.000000    0.3320   \n11955      0.10500         0.609   0.790          0.000000    0.3140   \n11956      0.07880         0.576   0.515          0.000000    0.1180   \n11957      0.37000         0.566   0.607          0.000000    0.6710   \n11958      0.45000         0.593   0.939          0.000013    0.1090   \n\n       loudness  speechiness  valence    tempo  hit  \n0        -5.634       0.0658    0.412  106.966    1  \n1        -7.050       0.0705    0.533  136.041    1  \n2        -3.714       0.2220    0.446  155.008    1  \n3        -5.574       0.0466    0.913   89.911    1  \n4        -2.729       0.0618    0.681   82.014    1  \n...         ...          ...      ...      ...  ...  \n11954    -8.633       0.0394    0.403  107.326    1  \n11955    -3.787       0.0663    0.664  129.334    1  \n11956    -6.178       0.0295    0.407   95.406    1  \n11957    -7.532       0.0357    0.765   91.378    1  \n11958    -3.431       0.0616    0.743  134.108    1  \n\n[11959 rows x 25 columns]",
      "text/html": "<div>\n<style scoped>\n    .dataframe tbody tr th:only-of-type {\n        vertical-align: middle;\n    }\n\n    .dataframe tbody tr th {\n        vertical-align: top;\n    }\n\n    .dataframe thead th {\n        text-align: right;\n    }\n</style>\n<table border=\"1\" class=\"dataframe\">\n  <thead>\n    <tr style=\"text-align: right;\">\n      <th></th>\n      <th>song_id</th>\n      <th>song_name</th>\n      <th>id_artists</th>\n      <th>name_artists</th>\n      <th>popularity</th>\n      <th>explicit</th>\n      <th>song_type</th>\n      <th>track_number</th>\n      <th>num_artists</th>\n      <th>num_available_markets</th>\n      <th>...</th>\n      <th>acousticness</th>\n      <th>danceability</th>\n      <th>energy</th>\n      <th>instrumentalness</th>\n      <th>liveness</th>\n      <th>loudness</th>\n      <th>speechiness</th>\n      <th>valence</th>\n      <th>tempo</th>\n      <th>hit</th>\n    </tr>\n  </thead>\n  <tbody>\n    <tr>\n      <th>0</th>\n      <td>3e9HZxeyfWwjeyPAMmWSSQ</td>\n      <td>thank u, next</td>\n      <td>['66CXWjxzNUsdJxJ2JdwvnR']</td>\n      <td>['Ariana Grande']</td>\n      <td>87</td>\n      <td>True</td>\n      <td>Solo</td>\n      <td>11</td>\n      <td>1</td>\n      <td>79</td>\n      <td>...</td>\n      <td>0.22900</td>\n      <td>0.717</td>\n      <td>0.653</td>\n      <td>0.000000</td>\n      <td>0.1010</td>\n      <td>-5.634</td>\n      <td>0.0658</td>\n      <td>0.412</td>\n      <td>106.966</td>\n      <td>1</td>\n    </tr>\n    <tr>\n      <th>1</th>\n      <td>5p7ujcrUXASCNwRaWNHR1C</td>\n      <td>Without Me</td>\n      <td>['26VFTg2z8YR0cCuwLzESi2']</td>\n      <td>['Halsey']</td>\n      <td>87</td>\n      <td>True</td>\n      <td>Solo</td>\n      <td>1</td>\n      <td>1</td>\n      <td>79</td>\n      <td>...</td>\n      <td>0.29700</td>\n      <td>0.752</td>\n      <td>0.488</td>\n      <td>0.000009</td>\n      <td>0.0936</td>\n      <td>-7.050</td>\n      <td>0.0705</td>\n      <td>0.533</td>\n      <td>136.041</td>\n      <td>1</td>\n    </tr>\n    <tr>\n      <th>2</th>\n      <td>2xLMifQCjDGFmkHkpNLD9h</td>\n      <td>SICKO MODE</td>\n      <td>['0Y5tJX1MQlPlqiwlOH1tJY']</td>\n      <td>['Travis Scott']</td>\n      <td>86</td>\n      <td>True</td>\n      <td>Solo</td>\n      <td>3</td>\n      <td>1</td>\n      <td>79</td>\n      <td>...</td>\n      <td>0.00513</td>\n      <td>0.834</td>\n      <td>0.730</td>\n      <td>0.000000</td>\n      <td>0.1240</td>\n      <td>-3.714</td>\n      <td>0.2220</td>\n      <td>0.446</td>\n      <td>155.008</td>\n      <td>1</td>\n    </tr>\n    <tr>\n      <th>3</th>\n      <td>3KkXRkHbMCARz0aVfEt68P</td>\n      <td>Sunflower - Spider-Man: Into the Spider-Verse</td>\n      <td>['246dkjvS1zLTtiykXe5h60', '1zNqQNIdeOUZHb8zbZ...</td>\n      <td>['Post Malone', 'Swae Lee']</td>\n      <td>92</td>\n      <td>False</td>\n      <td>Collaboration</td>\n      <td>2</td>\n      <td>2</td>\n      <td>79</td>\n      <td>...</td>\n      <td>0.55600</td>\n      <td>0.760</td>\n      <td>0.479</td>\n      <td>0.000000</td>\n      <td>0.0703</td>\n      <td>-5.574</td>\n      <td>0.0466</td>\n      <td>0.913</td>\n      <td>89.911</td>\n      <td>1</td>\n    </tr>\n    <tr>\n      <th>4</th>\n      <td>1rqqCSm0Qe4I9rUvWncaom</td>\n      <td>High Hopes</td>\n      <td>['20JZFwl6HVl6yg8a4H3ZqK']</td>\n      <td>['Panic! At The Disco']</td>\n      <td>86</td>\n      <td>False</td>\n      <td>Solo</td>\n      <td>4</td>\n      <td>1</td>\n      <td>78</td>\n      <td>...</td>\n      <td>0.19300</td>\n      <td>0.579</td>\n      <td>0.904</td>\n      <td>0.000000</td>\n      <td>0.0640</td>\n      <td>-2.729</td>\n      <td>0.0618</td>\n      <td>0.681</td>\n      <td>82.014</td>\n      <td>1</td>\n    </tr>\n    <tr>\n      <th>...</th>\n      <td>...</td>\n      <td>...</td>\n      <td>...</td>\n      <td>...</td>\n      <td>...</td>\n      <td>...</td>\n      <td>...</td>\n      <td>...</td>\n      <td>...</td>\n      <td>...</td>\n      <td>...</td>\n      <td>...</td>\n      <td>...</td>\n      <td>...</td>\n      <td>...</td>\n      <td>...</td>\n      <td>...</td>\n      <td>...</td>\n      <td>...</td>\n      <td>...</td>\n      <td>...</td>\n    </tr>\n    <tr>\n      <th>11954</th>\n      <td>5mz9pQZZXNpAw9CdQ7Bk8q</td>\n      <td>Don't Pity Me - Mono; 2003 Remaster</td>\n      <td>['6lHC2EQMEMZiEmSfFloarn']</td>\n      <td>['Peter And Gordon']</td>\n      <td>8</td>\n      <td>False</td>\n      <td>Solo</td>\n      <td>1</td>\n      <td>1</td>\n      <td>78</td>\n      <td>...</td>\n      <td>0.61900</td>\n      <td>0.500</td>\n      <td>0.654</td>\n      <td>0.000000</td>\n      <td>0.3320</td>\n      <td>-8.633</td>\n      <td>0.0394</td>\n      <td>0.403</td>\n      <td>107.326</td>\n      <td>1</td>\n    </tr>\n    <tr>\n      <th>11955</th>\n      <td>2H9CKpZiLDF223BbwehpDF</td>\n      <td>Hush Hush; Hush Hush - Main</td>\n      <td>['6wPhSqRtPu1UhRCDX5yaDJ']</td>\n      <td>['The Pussycat Dolls']</td>\n      <td>57</td>\n      <td>False</td>\n      <td>Solo</td>\n      <td>1</td>\n      <td>1</td>\n      <td>59</td>\n      <td>...</td>\n      <td>0.10500</td>\n      <td>0.609</td>\n      <td>0.790</td>\n      <td>0.000000</td>\n      <td>0.3140</td>\n      <td>-3.787</td>\n      <td>0.0663</td>\n      <td>0.664</td>\n      <td>129.334</td>\n      <td>1</td>\n    </tr>\n    <tr>\n      <th>11956</th>\n      <td>7zqM7Wm2xJLZ50qAnTLoHD</td>\n      <td>Lions, Tigers &amp; Bears</td>\n      <td>['7gSjFKpVmDgC2MMsnN8CYq']</td>\n      <td>['Jazmine Sullivan']</td>\n      <td>49</td>\n      <td>False</td>\n      <td>Solo</td>\n      <td>4</td>\n      <td>1</td>\n      <td>71</td>\n      <td>...</td>\n      <td>0.07880</td>\n      <td>0.576</td>\n      <td>0.515</td>\n      <td>0.000000</td>\n      <td>0.1180</td>\n      <td>-6.178</td>\n      <td>0.0295</td>\n      <td>0.407</td>\n      <td>95.406</td>\n      <td>1</td>\n    </tr>\n    <tr>\n      <th>11957</th>\n      <td>4DPlKVZ6R1EHLfnIsy9ouh</td>\n      <td>The Weight</td>\n      <td>['0rXI0q8Cahq6numvPlloaq', '3RwQ26hR2tJtA8F9p2...</td>\n      <td>['Diana Ross &amp; The Supremes', 'The Temptations']</td>\n      <td>2</td>\n      <td>False</td>\n      <td>Collaboration</td>\n      <td>23</td>\n      <td>2</td>\n      <td>79</td>\n      <td>...</td>\n      <td>0.37000</td>\n      <td>0.566</td>\n      <td>0.607</td>\n      <td>0.000000</td>\n      <td>0.6710</td>\n      <td>-7.532</td>\n      <td>0.0357</td>\n      <td>0.765</td>\n      <td>91.378</td>\n      <td>1</td>\n    </tr>\n    <tr>\n      <th>11958</th>\n      <td>6RUa3ZwZYnJnNgZxtIYJR9</td>\n      <td>Purest of Pain (A Puro Dolor) - Martinee's Rad...</td>\n      <td>['1qyAl8T6GTcaOViaI7fs1j', '7AOI1S3Uy411dDhNTd...</td>\n      <td>['Son By Four', 'Lewis Martinee']</td>\n      <td>10</td>\n      <td>False</td>\n      <td>Collaboration</td>\n      <td>1</td>\n      <td>2</td>\n      <td>79</td>\n      <td>...</td>\n      <td>0.45000</td>\n      <td>0.593</td>\n      <td>0.939</td>\n      <td>0.000013</td>\n      <td>0.1090</td>\n      <td>-3.431</td>\n      <td>0.0616</td>\n      <td>0.743</td>\n      <td>134.108</td>\n      <td>1</td>\n    </tr>\n  </tbody>\n</table>\n<p>11959 rows × 25 columns</p>\n</div>"
     },
     "execution_count": 22,
     "metadata": {},
     "output_type": "execute_result"
    }
   ],
   "source": [
    "import pandas as pd\n",
    "import matplotlib.pyplot as plt\n",
    "\n",
    "df_hits = pd.read_csv(\"additional/hits_dataset.csv\", delimiter=\"\\t\")\n",
    "df_hits[\"hit\"] = 1\n",
    "df_hits"
   ]
  },
  {
   "cell_type": "code",
   "execution_count": 23,
   "outputs": [
    {
     "name": "stderr",
     "output_type": "stream",
     "text": [
      "C:\\Users\\lasse\\AppData\\Local\\Temp\\ipykernel_21912\\2533836516.py:1: DtypeWarning: Columns (11,12,13,14,15,16,17,18,19,20,21,22,23) have mixed types. Specify dtype option on import or set low_memory=False.\n",
      "  df_nonhits = pd.read_csv(\"additional/nonhits_dataset.csv\", delimiter=\"\\t\")\n"
     ]
    },
    {
     "data": {
      "text/plain": "                       song_id  \\\n0       1TEL6MlSSVLSdhOSddidlJ   \n1       4uTvPEr01pjTbZgl7jcKBD   \n2       2hloaUoRonYssMuqLCBLTX   \n3       3wFLWP0FcIqHK1wb1CPthQ   \n4       5Il6Oe7lr5XM7A0cWbVQtr   \n...                        ...   \n899063  2tP0ryZParpdjvxubgXhTN   \n899064  7Ltni80U0w7bmYjXPNzSEa   \n899065  1gQClXN1Dq4rj0wBzddcNA   \n899066  2jhxQrFNdVPkWL28X7ZpeK   \n899067  6KkbkpUObAqcKGEfvguHJO   \n\n                                               song_name  \\\n0                                                  needy   \n1                                                   NASA   \n2                                              bloodline   \n3                                             fake smile   \n4                                               bad idea   \n...                                                  ...   \n899063                              Love Is Here to Stay   \n899064                                 Heinlein's Planet   \n899065     Beds are Burning - Karaoke Lead Vocal Version   \n899066  Un homme heureux - Version karaoké instrumentale   \n899067                     Santa Claus Is Coming to Town   \n\n                                               id_artists  \\\n0                              ['66CXWjxzNUsdJxJ2JdwvnR']   \n1                              ['66CXWjxzNUsdJxJ2JdwvnR']   \n2                              ['66CXWjxzNUsdJxJ2JdwvnR']   \n3                              ['66CXWjxzNUsdJxJ2JdwvnR']   \n4                              ['66CXWjxzNUsdJxJ2JdwvnR']   \n...                                                   ...   \n899063  ['3Dzj993UEz8Z5ovxuirzFO', '6RCsx4p5smZHYz2P5H...   \n899064                         ['4urvwbid7NFoVes5PTx9lV']   \n899065                         ['7yv4DJOCmilSbxxsdQgXWk']   \n899066                         ['7yv4DJOCmilSbxxsdQgXWk']   \n899067                         ['7tdO7d7r0vhwov7RIZWH6V']   \n\n                                     name_artists  popularity  explicit  \\\n0                               ['Ariana Grande']          76      True   \n1                               ['Ariana Grande']          76     False   \n2                               ['Ariana Grande']          74      True   \n3                               ['Ariana Grande']          73      True   \n4                               ['Ariana Grande']          74     False   \n...                                           ...         ...       ...   \n899063  ['Lindsey Buckingham', 'Christine McVie']          16     False   \n899064                             ['Tony Carey']           0     False   \n899065                             ['Pictomusic']           0     False   \n899066                             ['Pictomusic']           0     False   \n899067                            ['Mitch Ryder']           0     False   \n\n            song_type  track_number  num_artists  num_available_markets  ...  \\\n0                Solo             2            1                     79  ...   \n1                Solo             3            1                     79  ...   \n2                Solo             4            1                     79  ...   \n3                Solo             5            1                     79  ...   \n4                Solo             6            1                     79  ...   \n...               ...           ...          ...                    ...  ...   \n899063  Collaboration             5            2                      1  ...   \n899064           Solo             5            1                     79  ...   \n899065           Solo             2            1                     79  ...   \n899066           Solo             1            1                     79  ...   \n899067           Solo             3            1                     79  ...   \n\n       acousticness danceability energy instrumentalness liveness loudness  \\\n0              0.78        0.647  0.309         7.41e-06    0.202   -7.948   \n1             0.451        0.747  0.458                0    0.252   -6.891   \n2            0.0815        0.758  0.665         0.000157    0.216   -5.188   \n3             0.329         0.45  0.619                0    0.319   -7.412   \n4            0.0268        0.847  0.579           0.0545    0.102   -5.314   \n...             ...          ...    ...              ...      ...      ...   \n899063        0.366        0.446  0.658         2.49e-05    0.751   -8.362   \n899064        0.481        0.305  0.456            0.933    0.111  -20.199   \n899065       0.0118        0.852  0.648                0   0.0503   -7.189   \n899066        0.973        0.664  0.353            0.787   0.0878  -12.303   \n899067        0.386        0.651  0.896          0.00163   0.0734   -6.004   \n\n       speechiness valence    tempo hit  \n0           0.0366   0.195   87.045   0  \n1            0.303    0.47   75.029   0  \n2           0.0774   0.643  151.976   0  \n3            0.372   0.427     83.3   0  \n4           0.0719   0.569  137.998   0  \n...            ...     ...      ...  ..  \n899063      0.0297   0.554    84.74   0  \n899064      0.0634   0.171   96.996   0  \n899065       0.048   0.559   120.15   0  \n899066      0.0693   0.284   116.45   0  \n899067      0.0327   0.893  148.107   0  \n\n[899068 rows x 25 columns]",
      "text/html": "<div>\n<style scoped>\n    .dataframe tbody tr th:only-of-type {\n        vertical-align: middle;\n    }\n\n    .dataframe tbody tr th {\n        vertical-align: top;\n    }\n\n    .dataframe thead th {\n        text-align: right;\n    }\n</style>\n<table border=\"1\" class=\"dataframe\">\n  <thead>\n    <tr style=\"text-align: right;\">\n      <th></th>\n      <th>song_id</th>\n      <th>song_name</th>\n      <th>id_artists</th>\n      <th>name_artists</th>\n      <th>popularity</th>\n      <th>explicit</th>\n      <th>song_type</th>\n      <th>track_number</th>\n      <th>num_artists</th>\n      <th>num_available_markets</th>\n      <th>...</th>\n      <th>acousticness</th>\n      <th>danceability</th>\n      <th>energy</th>\n      <th>instrumentalness</th>\n      <th>liveness</th>\n      <th>loudness</th>\n      <th>speechiness</th>\n      <th>valence</th>\n      <th>tempo</th>\n      <th>hit</th>\n    </tr>\n  </thead>\n  <tbody>\n    <tr>\n      <th>0</th>\n      <td>1TEL6MlSSVLSdhOSddidlJ</td>\n      <td>needy</td>\n      <td>['66CXWjxzNUsdJxJ2JdwvnR']</td>\n      <td>['Ariana Grande']</td>\n      <td>76</td>\n      <td>True</td>\n      <td>Solo</td>\n      <td>2</td>\n      <td>1</td>\n      <td>79</td>\n      <td>...</td>\n      <td>0.78</td>\n      <td>0.647</td>\n      <td>0.309</td>\n      <td>7.41e-06</td>\n      <td>0.202</td>\n      <td>-7.948</td>\n      <td>0.0366</td>\n      <td>0.195</td>\n      <td>87.045</td>\n      <td>0</td>\n    </tr>\n    <tr>\n      <th>1</th>\n      <td>4uTvPEr01pjTbZgl7jcKBD</td>\n      <td>NASA</td>\n      <td>['66CXWjxzNUsdJxJ2JdwvnR']</td>\n      <td>['Ariana Grande']</td>\n      <td>76</td>\n      <td>False</td>\n      <td>Solo</td>\n      <td>3</td>\n      <td>1</td>\n      <td>79</td>\n      <td>...</td>\n      <td>0.451</td>\n      <td>0.747</td>\n      <td>0.458</td>\n      <td>0</td>\n      <td>0.252</td>\n      <td>-6.891</td>\n      <td>0.303</td>\n      <td>0.47</td>\n      <td>75.029</td>\n      <td>0</td>\n    </tr>\n    <tr>\n      <th>2</th>\n      <td>2hloaUoRonYssMuqLCBLTX</td>\n      <td>bloodline</td>\n      <td>['66CXWjxzNUsdJxJ2JdwvnR']</td>\n      <td>['Ariana Grande']</td>\n      <td>74</td>\n      <td>True</td>\n      <td>Solo</td>\n      <td>4</td>\n      <td>1</td>\n      <td>79</td>\n      <td>...</td>\n      <td>0.0815</td>\n      <td>0.758</td>\n      <td>0.665</td>\n      <td>0.000157</td>\n      <td>0.216</td>\n      <td>-5.188</td>\n      <td>0.0774</td>\n      <td>0.643</td>\n      <td>151.976</td>\n      <td>0</td>\n    </tr>\n    <tr>\n      <th>3</th>\n      <td>3wFLWP0FcIqHK1wb1CPthQ</td>\n      <td>fake smile</td>\n      <td>['66CXWjxzNUsdJxJ2JdwvnR']</td>\n      <td>['Ariana Grande']</td>\n      <td>73</td>\n      <td>True</td>\n      <td>Solo</td>\n      <td>5</td>\n      <td>1</td>\n      <td>79</td>\n      <td>...</td>\n      <td>0.329</td>\n      <td>0.45</td>\n      <td>0.619</td>\n      <td>0</td>\n      <td>0.319</td>\n      <td>-7.412</td>\n      <td>0.372</td>\n      <td>0.427</td>\n      <td>83.3</td>\n      <td>0</td>\n    </tr>\n    <tr>\n      <th>4</th>\n      <td>5Il6Oe7lr5XM7A0cWbVQtr</td>\n      <td>bad idea</td>\n      <td>['66CXWjxzNUsdJxJ2JdwvnR']</td>\n      <td>['Ariana Grande']</td>\n      <td>74</td>\n      <td>False</td>\n      <td>Solo</td>\n      <td>6</td>\n      <td>1</td>\n      <td>79</td>\n      <td>...</td>\n      <td>0.0268</td>\n      <td>0.847</td>\n      <td>0.579</td>\n      <td>0.0545</td>\n      <td>0.102</td>\n      <td>-5.314</td>\n      <td>0.0719</td>\n      <td>0.569</td>\n      <td>137.998</td>\n      <td>0</td>\n    </tr>\n    <tr>\n      <th>...</th>\n      <td>...</td>\n      <td>...</td>\n      <td>...</td>\n      <td>...</td>\n      <td>...</td>\n      <td>...</td>\n      <td>...</td>\n      <td>...</td>\n      <td>...</td>\n      <td>...</td>\n      <td>...</td>\n      <td>...</td>\n      <td>...</td>\n      <td>...</td>\n      <td>...</td>\n      <td>...</td>\n      <td>...</td>\n      <td>...</td>\n      <td>...</td>\n      <td>...</td>\n      <td>...</td>\n    </tr>\n    <tr>\n      <th>899063</th>\n      <td>2tP0ryZParpdjvxubgXhTN</td>\n      <td>Love Is Here to Stay</td>\n      <td>['3Dzj993UEz8Z5ovxuirzFO', '6RCsx4p5smZHYz2P5H...</td>\n      <td>['Lindsey Buckingham', 'Christine McVie']</td>\n      <td>16</td>\n      <td>False</td>\n      <td>Collaboration</td>\n      <td>5</td>\n      <td>2</td>\n      <td>1</td>\n      <td>...</td>\n      <td>0.366</td>\n      <td>0.446</td>\n      <td>0.658</td>\n      <td>2.49e-05</td>\n      <td>0.751</td>\n      <td>-8.362</td>\n      <td>0.0297</td>\n      <td>0.554</td>\n      <td>84.74</td>\n      <td>0</td>\n    </tr>\n    <tr>\n      <th>899064</th>\n      <td>7Ltni80U0w7bmYjXPNzSEa</td>\n      <td>Heinlein's Planet</td>\n      <td>['4urvwbid7NFoVes5PTx9lV']</td>\n      <td>['Tony Carey']</td>\n      <td>0</td>\n      <td>False</td>\n      <td>Solo</td>\n      <td>5</td>\n      <td>1</td>\n      <td>79</td>\n      <td>...</td>\n      <td>0.481</td>\n      <td>0.305</td>\n      <td>0.456</td>\n      <td>0.933</td>\n      <td>0.111</td>\n      <td>-20.199</td>\n      <td>0.0634</td>\n      <td>0.171</td>\n      <td>96.996</td>\n      <td>0</td>\n    </tr>\n    <tr>\n      <th>899065</th>\n      <td>1gQClXN1Dq4rj0wBzddcNA</td>\n      <td>Beds are Burning - Karaoke Lead Vocal Version</td>\n      <td>['7yv4DJOCmilSbxxsdQgXWk']</td>\n      <td>['Pictomusic']</td>\n      <td>0</td>\n      <td>False</td>\n      <td>Solo</td>\n      <td>2</td>\n      <td>1</td>\n      <td>79</td>\n      <td>...</td>\n      <td>0.0118</td>\n      <td>0.852</td>\n      <td>0.648</td>\n      <td>0</td>\n      <td>0.0503</td>\n      <td>-7.189</td>\n      <td>0.048</td>\n      <td>0.559</td>\n      <td>120.15</td>\n      <td>0</td>\n    </tr>\n    <tr>\n      <th>899066</th>\n      <td>2jhxQrFNdVPkWL28X7ZpeK</td>\n      <td>Un homme heureux - Version karaoké instrumentale</td>\n      <td>['7yv4DJOCmilSbxxsdQgXWk']</td>\n      <td>['Pictomusic']</td>\n      <td>0</td>\n      <td>False</td>\n      <td>Solo</td>\n      <td>1</td>\n      <td>1</td>\n      <td>79</td>\n      <td>...</td>\n      <td>0.973</td>\n      <td>0.664</td>\n      <td>0.353</td>\n      <td>0.787</td>\n      <td>0.0878</td>\n      <td>-12.303</td>\n      <td>0.0693</td>\n      <td>0.284</td>\n      <td>116.45</td>\n      <td>0</td>\n    </tr>\n    <tr>\n      <th>899067</th>\n      <td>6KkbkpUObAqcKGEfvguHJO</td>\n      <td>Santa Claus Is Coming to Town</td>\n      <td>['7tdO7d7r0vhwov7RIZWH6V']</td>\n      <td>['Mitch Ryder']</td>\n      <td>0</td>\n      <td>False</td>\n      <td>Solo</td>\n      <td>3</td>\n      <td>1</td>\n      <td>79</td>\n      <td>...</td>\n      <td>0.386</td>\n      <td>0.651</td>\n      <td>0.896</td>\n      <td>0.00163</td>\n      <td>0.0734</td>\n      <td>-6.004</td>\n      <td>0.0327</td>\n      <td>0.893</td>\n      <td>148.107</td>\n      <td>0</td>\n    </tr>\n  </tbody>\n</table>\n<p>899068 rows × 25 columns</p>\n</div>"
     },
     "execution_count": 23,
     "metadata": {},
     "output_type": "execute_result"
    }
   ],
   "source": [
    "df_nonhits = pd.read_csv(\"additional/nonhits_dataset.csv\", delimiter=\"\\t\")\n",
    "df_nonhits[\"hit\"] = 0\n",
    "df_nonhits"
   ],
   "metadata": {
    "collapsed": false,
    "ExecuteTime": {
     "end_time": "2024-04-04T20:29:47.712454600Z",
     "start_time": "2024-04-04T20:29:44.000454500Z"
    }
   },
   "id": "26d5e57f02f1e85d"
  },
  {
   "cell_type": "code",
   "execution_count": 24,
   "outputs": [
    {
     "data": {
      "text/plain": "                       song_id  \\\n0       3e9HZxeyfWwjeyPAMmWSSQ   \n1       5p7ujcrUXASCNwRaWNHR1C   \n2       2xLMifQCjDGFmkHkpNLD9h   \n3       3KkXRkHbMCARz0aVfEt68P   \n4       1rqqCSm0Qe4I9rUvWncaom   \n...                        ...   \n899063  2tP0ryZParpdjvxubgXhTN   \n899064  7Ltni80U0w7bmYjXPNzSEa   \n899065  1gQClXN1Dq4rj0wBzddcNA   \n899066  2jhxQrFNdVPkWL28X7ZpeK   \n899067  6KkbkpUObAqcKGEfvguHJO   \n\n                                               song_name  \\\n0                                          thank u, next   \n1                                             Without Me   \n2                                             SICKO MODE   \n3          Sunflower - Spider-Man: Into the Spider-Verse   \n4                                             High Hopes   \n...                                                  ...   \n899063                              Love Is Here to Stay   \n899064                                 Heinlein's Planet   \n899065     Beds are Burning - Karaoke Lead Vocal Version   \n899066  Un homme heureux - Version karaoké instrumentale   \n899067                     Santa Claus Is Coming to Town   \n\n                                               id_artists  \\\n0                              ['66CXWjxzNUsdJxJ2JdwvnR']   \n1                              ['26VFTg2z8YR0cCuwLzESi2']   \n2                              ['0Y5tJX1MQlPlqiwlOH1tJY']   \n3       ['246dkjvS1zLTtiykXe5h60', '1zNqQNIdeOUZHb8zbZ...   \n4                              ['20JZFwl6HVl6yg8a4H3ZqK']   \n...                                                   ...   \n899063  ['3Dzj993UEz8Z5ovxuirzFO', '6RCsx4p5smZHYz2P5H...   \n899064                         ['4urvwbid7NFoVes5PTx9lV']   \n899065                         ['7yv4DJOCmilSbxxsdQgXWk']   \n899066                         ['7yv4DJOCmilSbxxsdQgXWk']   \n899067                         ['7tdO7d7r0vhwov7RIZWH6V']   \n\n                                     name_artists  popularity  explicit  \\\n0                               ['Ariana Grande']          87      True   \n1                                      ['Halsey']          87      True   \n2                                ['Travis Scott']          86      True   \n3                     ['Post Malone', 'Swae Lee']          92     False   \n4                         ['Panic! At The Disco']          86     False   \n...                                           ...         ...       ...   \n899063  ['Lindsey Buckingham', 'Christine McVie']          16     False   \n899064                             ['Tony Carey']           0     False   \n899065                             ['Pictomusic']           0     False   \n899066                             ['Pictomusic']           0     False   \n899067                            ['Mitch Ryder']           0     False   \n\n            song_type  track_number  num_artists  num_available_markets  ...  \\\n0                Solo            11            1                     79  ...   \n1                Solo             1            1                     79  ...   \n2                Solo             3            1                     79  ...   \n3       Collaboration             2            2                     79  ...   \n4                Solo             4            1                     78  ...   \n...               ...           ...          ...                    ...  ...   \n899063  Collaboration             5            2                      1  ...   \n899064           Solo             5            1                     79  ...   \n899065           Solo             2            1                     79  ...   \n899066           Solo             1            1                     79  ...   \n899067           Solo             3            1                     79  ...   \n\n       acousticness danceability energy instrumentalness liveness loudness  \\\n0             0.229        0.717  0.653              0.0    0.101   -5.634   \n1             0.297        0.752  0.488         0.000009   0.0936    -7.05   \n2           0.00513        0.834   0.73              0.0    0.124   -3.714   \n3             0.556         0.76  0.479              0.0   0.0703   -5.574   \n4             0.193        0.579  0.904              0.0    0.064   -2.729   \n...             ...          ...    ...              ...      ...      ...   \n899063        0.366        0.446  0.658         2.49e-05    0.751   -8.362   \n899064        0.481        0.305  0.456            0.933    0.111  -20.199   \n899065       0.0118        0.852  0.648                0   0.0503   -7.189   \n899066        0.973        0.664  0.353            0.787   0.0878  -12.303   \n899067        0.386        0.651  0.896          0.00163   0.0734   -6.004   \n\n       speechiness valence    tempo hit  \n0           0.0658   0.412  106.966   1  \n1           0.0705   0.533  136.041   1  \n2            0.222   0.446  155.008   1  \n3           0.0466   0.913   89.911   1  \n4           0.0618   0.681   82.014   1  \n...            ...     ...      ...  ..  \n899063      0.0297   0.554    84.74   0  \n899064      0.0634   0.171   96.996   0  \n899065       0.048   0.559   120.15   0  \n899066      0.0693   0.284   116.45   0  \n899067      0.0327   0.893  148.107   0  \n\n[906345 rows x 25 columns]",
      "text/html": "<div>\n<style scoped>\n    .dataframe tbody tr th:only-of-type {\n        vertical-align: middle;\n    }\n\n    .dataframe tbody tr th {\n        vertical-align: top;\n    }\n\n    .dataframe thead th {\n        text-align: right;\n    }\n</style>\n<table border=\"1\" class=\"dataframe\">\n  <thead>\n    <tr style=\"text-align: right;\">\n      <th></th>\n      <th>song_id</th>\n      <th>song_name</th>\n      <th>id_artists</th>\n      <th>name_artists</th>\n      <th>popularity</th>\n      <th>explicit</th>\n      <th>song_type</th>\n      <th>track_number</th>\n      <th>num_artists</th>\n      <th>num_available_markets</th>\n      <th>...</th>\n      <th>acousticness</th>\n      <th>danceability</th>\n      <th>energy</th>\n      <th>instrumentalness</th>\n      <th>liveness</th>\n      <th>loudness</th>\n      <th>speechiness</th>\n      <th>valence</th>\n      <th>tempo</th>\n      <th>hit</th>\n    </tr>\n  </thead>\n  <tbody>\n    <tr>\n      <th>0</th>\n      <td>3e9HZxeyfWwjeyPAMmWSSQ</td>\n      <td>thank u, next</td>\n      <td>['66CXWjxzNUsdJxJ2JdwvnR']</td>\n      <td>['Ariana Grande']</td>\n      <td>87</td>\n      <td>True</td>\n      <td>Solo</td>\n      <td>11</td>\n      <td>1</td>\n      <td>79</td>\n      <td>...</td>\n      <td>0.229</td>\n      <td>0.717</td>\n      <td>0.653</td>\n      <td>0.0</td>\n      <td>0.101</td>\n      <td>-5.634</td>\n      <td>0.0658</td>\n      <td>0.412</td>\n      <td>106.966</td>\n      <td>1</td>\n    </tr>\n    <tr>\n      <th>1</th>\n      <td>5p7ujcrUXASCNwRaWNHR1C</td>\n      <td>Without Me</td>\n      <td>['26VFTg2z8YR0cCuwLzESi2']</td>\n      <td>['Halsey']</td>\n      <td>87</td>\n      <td>True</td>\n      <td>Solo</td>\n      <td>1</td>\n      <td>1</td>\n      <td>79</td>\n      <td>...</td>\n      <td>0.297</td>\n      <td>0.752</td>\n      <td>0.488</td>\n      <td>0.000009</td>\n      <td>0.0936</td>\n      <td>-7.05</td>\n      <td>0.0705</td>\n      <td>0.533</td>\n      <td>136.041</td>\n      <td>1</td>\n    </tr>\n    <tr>\n      <th>2</th>\n      <td>2xLMifQCjDGFmkHkpNLD9h</td>\n      <td>SICKO MODE</td>\n      <td>['0Y5tJX1MQlPlqiwlOH1tJY']</td>\n      <td>['Travis Scott']</td>\n      <td>86</td>\n      <td>True</td>\n      <td>Solo</td>\n      <td>3</td>\n      <td>1</td>\n      <td>79</td>\n      <td>...</td>\n      <td>0.00513</td>\n      <td>0.834</td>\n      <td>0.73</td>\n      <td>0.0</td>\n      <td>0.124</td>\n      <td>-3.714</td>\n      <td>0.222</td>\n      <td>0.446</td>\n      <td>155.008</td>\n      <td>1</td>\n    </tr>\n    <tr>\n      <th>3</th>\n      <td>3KkXRkHbMCARz0aVfEt68P</td>\n      <td>Sunflower - Spider-Man: Into the Spider-Verse</td>\n      <td>['246dkjvS1zLTtiykXe5h60', '1zNqQNIdeOUZHb8zbZ...</td>\n      <td>['Post Malone', 'Swae Lee']</td>\n      <td>92</td>\n      <td>False</td>\n      <td>Collaboration</td>\n      <td>2</td>\n      <td>2</td>\n      <td>79</td>\n      <td>...</td>\n      <td>0.556</td>\n      <td>0.76</td>\n      <td>0.479</td>\n      <td>0.0</td>\n      <td>0.0703</td>\n      <td>-5.574</td>\n      <td>0.0466</td>\n      <td>0.913</td>\n      <td>89.911</td>\n      <td>1</td>\n    </tr>\n    <tr>\n      <th>4</th>\n      <td>1rqqCSm0Qe4I9rUvWncaom</td>\n      <td>High Hopes</td>\n      <td>['20JZFwl6HVl6yg8a4H3ZqK']</td>\n      <td>['Panic! At The Disco']</td>\n      <td>86</td>\n      <td>False</td>\n      <td>Solo</td>\n      <td>4</td>\n      <td>1</td>\n      <td>78</td>\n      <td>...</td>\n      <td>0.193</td>\n      <td>0.579</td>\n      <td>0.904</td>\n      <td>0.0</td>\n      <td>0.064</td>\n      <td>-2.729</td>\n      <td>0.0618</td>\n      <td>0.681</td>\n      <td>82.014</td>\n      <td>1</td>\n    </tr>\n    <tr>\n      <th>...</th>\n      <td>...</td>\n      <td>...</td>\n      <td>...</td>\n      <td>...</td>\n      <td>...</td>\n      <td>...</td>\n      <td>...</td>\n      <td>...</td>\n      <td>...</td>\n      <td>...</td>\n      <td>...</td>\n      <td>...</td>\n      <td>...</td>\n      <td>...</td>\n      <td>...</td>\n      <td>...</td>\n      <td>...</td>\n      <td>...</td>\n      <td>...</td>\n      <td>...</td>\n      <td>...</td>\n    </tr>\n    <tr>\n      <th>899063</th>\n      <td>2tP0ryZParpdjvxubgXhTN</td>\n      <td>Love Is Here to Stay</td>\n      <td>['3Dzj993UEz8Z5ovxuirzFO', '6RCsx4p5smZHYz2P5H...</td>\n      <td>['Lindsey Buckingham', 'Christine McVie']</td>\n      <td>16</td>\n      <td>False</td>\n      <td>Collaboration</td>\n      <td>5</td>\n      <td>2</td>\n      <td>1</td>\n      <td>...</td>\n      <td>0.366</td>\n      <td>0.446</td>\n      <td>0.658</td>\n      <td>2.49e-05</td>\n      <td>0.751</td>\n      <td>-8.362</td>\n      <td>0.0297</td>\n      <td>0.554</td>\n      <td>84.74</td>\n      <td>0</td>\n    </tr>\n    <tr>\n      <th>899064</th>\n      <td>7Ltni80U0w7bmYjXPNzSEa</td>\n      <td>Heinlein's Planet</td>\n      <td>['4urvwbid7NFoVes5PTx9lV']</td>\n      <td>['Tony Carey']</td>\n      <td>0</td>\n      <td>False</td>\n      <td>Solo</td>\n      <td>5</td>\n      <td>1</td>\n      <td>79</td>\n      <td>...</td>\n      <td>0.481</td>\n      <td>0.305</td>\n      <td>0.456</td>\n      <td>0.933</td>\n      <td>0.111</td>\n      <td>-20.199</td>\n      <td>0.0634</td>\n      <td>0.171</td>\n      <td>96.996</td>\n      <td>0</td>\n    </tr>\n    <tr>\n      <th>899065</th>\n      <td>1gQClXN1Dq4rj0wBzddcNA</td>\n      <td>Beds are Burning - Karaoke Lead Vocal Version</td>\n      <td>['7yv4DJOCmilSbxxsdQgXWk']</td>\n      <td>['Pictomusic']</td>\n      <td>0</td>\n      <td>False</td>\n      <td>Solo</td>\n      <td>2</td>\n      <td>1</td>\n      <td>79</td>\n      <td>...</td>\n      <td>0.0118</td>\n      <td>0.852</td>\n      <td>0.648</td>\n      <td>0</td>\n      <td>0.0503</td>\n      <td>-7.189</td>\n      <td>0.048</td>\n      <td>0.559</td>\n      <td>120.15</td>\n      <td>0</td>\n    </tr>\n    <tr>\n      <th>899066</th>\n      <td>2jhxQrFNdVPkWL28X7ZpeK</td>\n      <td>Un homme heureux - Version karaoké instrumentale</td>\n      <td>['7yv4DJOCmilSbxxsdQgXWk']</td>\n      <td>['Pictomusic']</td>\n      <td>0</td>\n      <td>False</td>\n      <td>Solo</td>\n      <td>1</td>\n      <td>1</td>\n      <td>79</td>\n      <td>...</td>\n      <td>0.973</td>\n      <td>0.664</td>\n      <td>0.353</td>\n      <td>0.787</td>\n      <td>0.0878</td>\n      <td>-12.303</td>\n      <td>0.0693</td>\n      <td>0.284</td>\n      <td>116.45</td>\n      <td>0</td>\n    </tr>\n    <tr>\n      <th>899067</th>\n      <td>6KkbkpUObAqcKGEfvguHJO</td>\n      <td>Santa Claus Is Coming to Town</td>\n      <td>['7tdO7d7r0vhwov7RIZWH6V']</td>\n      <td>['Mitch Ryder']</td>\n      <td>0</td>\n      <td>False</td>\n      <td>Solo</td>\n      <td>3</td>\n      <td>1</td>\n      <td>79</td>\n      <td>...</td>\n      <td>0.386</td>\n      <td>0.651</td>\n      <td>0.896</td>\n      <td>0.00163</td>\n      <td>0.0734</td>\n      <td>-6.004</td>\n      <td>0.0327</td>\n      <td>0.893</td>\n      <td>148.107</td>\n      <td>0</td>\n    </tr>\n  </tbody>\n</table>\n<p>906345 rows × 25 columns</p>\n</div>"
     },
     "execution_count": 24,
     "metadata": {},
     "output_type": "execute_result"
    }
   ],
   "source": [
    "combined_df = pd.concat([df_hits, df_nonhits], axis=0)\n",
    "# Drop all rows with NaN values\n",
    "combined_df.replace(\"-\", float(\"nan\"), inplace=True)   ## evtl hier schon mean replacement???\n",
    "combined_df.dropna(inplace=True)   # drop nan value rows\n",
    "\n",
    "combined_df"
   ],
   "metadata": {
    "collapsed": false,
    "ExecuteTime": {
     "end_time": "2024-04-04T20:29:50.267456600Z",
     "start_time": "2024-04-04T20:29:47.704455700Z"
    }
   },
   "id": "6f9b2d1a6293f615"
  },
  {
   "cell_type": "code",
   "execution_count": 25,
   "outputs": [
    {
     "name": "stdout",
     "output_type": "stream",
     "text": [
      "Columns with NaN values:\n",
      "[]\n"
     ]
    }
   ],
   "source": [
    "# Check for NaN values in all columns\n",
    "nan_columns = combined_df.columns[combined_df.isna().any()].tolist()\n",
    "\n",
    "# Print columns with NaN values\n",
    "print(\"Columns with NaN values:\")\n",
    "print(nan_columns)\n"
   ],
   "metadata": {
    "collapsed": false,
    "ExecuteTime": {
     "end_time": "2024-04-04T20:29:50.601454200Z",
     "start_time": "2024-04-04T20:29:50.258455Z"
    }
   },
   "id": "8756697fa413e9af"
  },
  {
   "cell_type": "code",
   "execution_count": 26,
   "outputs": [],
   "source": [
    "from sklearn.model_selection import train_test_split\n",
    "combined_df['date'] = pd.to_datetime(combined_df['release_date'])\n",
    "combined_df.sort_values(by=\"date\", inplace=True)\n",
    "\n",
    "train_df, test_df = train_test_split(combined_df, test_size=0.25, shuffle=False)"
   ],
   "metadata": {
    "collapsed": false,
    "ExecuteTime": {
     "end_time": "2024-04-04T20:29:51.741454200Z",
     "start_time": "2024-04-04T20:29:50.604459200Z"
    }
   },
   "id": "f55fc8cca1de5d29"
  },
  {
   "cell_type": "code",
   "execution_count": 27,
   "outputs": [
    {
     "name": "stdout",
     "output_type": "stream",
     "text": [
      "amount of artists: 18458\n"
     ]
    },
    {
     "data": {
      "text/plain": "                    artist_id          artist_name\n0      5v74mT11KGJqadf9sLw4dA  Cannonball Adderley\n1      3UpIbyXfGzmHG6TMH4dJEk           Aimee Mann\n2      6GI52t8N5F02MxU0g5U69P              Santana\n3      5NGO30tJxFlKixkPSgXcFE           The Police\n4      0Lpr5wXzWLtDWm1SjNbpPb        Todd Rundgren\n...                       ...                  ...\n18453  2wPF4ROr8ZyOnhNaisWtOn        James Bennett\n18454  2zHHEU3t9cutZFyG0fHdOR          Sonny Alven\n18455  5m0P0pUUt9iZycveKxVhF8          Lindy Botha\n18456  64lUz1M09u3JIGAZ1UeZrt   Alessandro D'Aloia\n18457  1tNHpb8Eh1scePqiIZh25l               Manuka\n\n[18458 rows x 2 columns]",
      "text/html": "<div>\n<style scoped>\n    .dataframe tbody tr th:only-of-type {\n        vertical-align: middle;\n    }\n\n    .dataframe tbody tr th {\n        vertical-align: top;\n    }\n\n    .dataframe thead th {\n        text-align: right;\n    }\n</style>\n<table border=\"1\" class=\"dataframe\">\n  <thead>\n    <tr style=\"text-align: right;\">\n      <th></th>\n      <th>artist_id</th>\n      <th>artist_name</th>\n    </tr>\n  </thead>\n  <tbody>\n    <tr>\n      <th>0</th>\n      <td>5v74mT11KGJqadf9sLw4dA</td>\n      <td>Cannonball Adderley</td>\n    </tr>\n    <tr>\n      <th>1</th>\n      <td>3UpIbyXfGzmHG6TMH4dJEk</td>\n      <td>Aimee Mann</td>\n    </tr>\n    <tr>\n      <th>2</th>\n      <td>6GI52t8N5F02MxU0g5U69P</td>\n      <td>Santana</td>\n    </tr>\n    <tr>\n      <th>3</th>\n      <td>5NGO30tJxFlKixkPSgXcFE</td>\n      <td>The Police</td>\n    </tr>\n    <tr>\n      <th>4</th>\n      <td>0Lpr5wXzWLtDWm1SjNbpPb</td>\n      <td>Todd Rundgren</td>\n    </tr>\n    <tr>\n      <th>...</th>\n      <td>...</td>\n      <td>...</td>\n    </tr>\n    <tr>\n      <th>18453</th>\n      <td>2wPF4ROr8ZyOnhNaisWtOn</td>\n      <td>James Bennett</td>\n    </tr>\n    <tr>\n      <th>18454</th>\n      <td>2zHHEU3t9cutZFyG0fHdOR</td>\n      <td>Sonny Alven</td>\n    </tr>\n    <tr>\n      <th>18455</th>\n      <td>5m0P0pUUt9iZycveKxVhF8</td>\n      <td>Lindy Botha</td>\n    </tr>\n    <tr>\n      <th>18456</th>\n      <td>64lUz1M09u3JIGAZ1UeZrt</td>\n      <td>Alessandro D'Aloia</td>\n    </tr>\n    <tr>\n      <th>18457</th>\n      <td>1tNHpb8Eh1scePqiIZh25l</td>\n      <td>Manuka</td>\n    </tr>\n  </tbody>\n</table>\n<p>18458 rows × 2 columns</p>\n</div>"
     },
     "execution_count": 27,
     "metadata": {},
     "output_type": "execute_result"
    }
   ],
   "source": [
    "# Specify the columns\n",
    "columns = ['artist_id', 'artist_name']\n",
    "\n",
    "# Initialize an empty DataFrame\n",
    "df_artists_train = pd.DataFrame(columns={col: [] for col in columns})\n",
    "\n",
    "count = 0\n",
    "artist_set = set()\n",
    "\n",
    "for _, row in train_df.iterrows():\n",
    "    current_artist_id_list = eval(row[\"id_artists\"])\n",
    "    current_artist_name_list = eval(row[\"name_artists\"])\n",
    "    for cur_art_id, cur_art_name in zip(current_artist_id_list, current_artist_name_list):\n",
    "        if cur_art_id not in artist_set:\n",
    "            artist_set.add(cur_art_id)\n",
    "            df_artists_train.loc[len(df_artists_train)] = [cur_art_id, cur_art_name]\n",
    "            count += 1\n",
    "\n",
    "print(\"amount of artists:\", count)\n",
    "df_artists_train"
   ],
   "metadata": {
    "collapsed": false,
    "ExecuteTime": {
     "end_time": "2024-04-04T20:30:50.712345800Z",
     "start_time": "2024-04-04T20:29:51.744454400Z"
    }
   },
   "id": "4e89192b5a6cf7c4"
  },
  {
   "cell_type": "code",
   "execution_count": 28,
   "outputs": [],
   "source": [
    "import networkx as nx\n",
    "\n",
    "all_artist_ids = artist_set.copy()\n",
    "\n",
    "G = nx.Graph()\n",
    "\n",
    "for id_art_cur in all_artist_ids:\n",
    "    artist_name = df_artists_train[(df_artists_train[\"artist_id\"] == id_art_cur)][\"artist_name\"]\n",
    "    artist_info = df_artists_train[df_artists_train[\"artist_id\"] == id_art_cur]\n",
    "    if not artist_info.empty:  # Check if artist info exists\n",
    "        # Filter out artists who are not successful\n",
    "        node_attrs = {\"name\": artist_name.iloc[0]}\n",
    "        G.add_node(id_art_cur, **node_attrs)\n",
    "    else:\n",
    "        print(\"Artist info not found for ID:\", id_art_cur)\n",
    "\n",
    "for _, row in train_df.iterrows():\n",
    "    artist_ids = list(eval(row[\"id_artists\"]))\n",
    "    artist_names = list(eval(row[\"name_artists\"]))\n",
    "    # Filter out songs that do not have more than one artist in their execution\n",
    "    if len(artist_ids) > 1:\n",
    "        for i in range(len(artist_ids)):\n",
    "            for j in range(i+1, len(artist_ids)):\n",
    "                artist_id_1 = str(artist_ids[i])\n",
    "                lable1 = str(artist_names[i])\n",
    "                artist_id_2 = str(artist_ids[j])\n",
    "                lable2 = str(artist_names[j])\n",
    "                # Check if the edge already exists\n",
    "                if G.has_edge(artist_id_1, artist_id_2):\n",
    "                    # If the edge already exists, increment the weight by 1\n",
    "                    G[artist_id_1][artist_id_2]['weight'] += 2\n",
    "                else:\n",
    "                    # Add a new edge with weight 1\n",
    "                    G.add_edge(artist_id_1, artist_id_2, lable1=lable1, lable2=lable2, weight=2, song_id=str(row[\"song_id\"]), song_name=str(row[\"song_name\"]), explicit=bool(row[\"explicit\"]), song_type=str(row[\"song_type\"]), track_number=int(row[\"track_number\"]), num_artists=int(row[\"num_artists\"]), num_available_markets=int(row[\"num_available_markets\"]), duration_ms=int(row[\"duration_ms\"]), popularity=int(row[\"popularity\"]), release_date=str(row[\"release_date\"]), key = int(row[\"key\"]), mode = int(row[\"mode\"]), time_signature = int(row[\"time_signature\"]), acousticness = float(row[\"acousticness\"]), danceability = float(row[\"danceability\"]), energy = float(row[\"energy\"]), instrumentalness = float(row[\"instrumentalness\"]), liveness = float(row[\"liveness\"]),loudness = float(row[\"loudness\"]), speechiness = float(row[\"speechiness\"]), valence = float(row[\"valence\"]), tempo = float(row[\"tempo\"]), hit = int(row[\"hit\"]))"
   ],
   "metadata": {
    "collapsed": false,
    "ExecuteTime": {
     "end_time": "2024-04-04T20:32:14.047347Z",
     "start_time": "2024-04-04T20:30:50.718347100Z"
    }
   },
   "id": "13bb7f1a4a4876a5"
  },
  {
   "cell_type": "code",
   "execution_count": 29,
   "outputs": [
    {
     "data": {
      "text/plain": "                 name              Spotify ID\n0        God's Weapon  6ojjBjI00GJvztmLQgIYBw\n1      George Michael  19ra5tSw0tWufvUp8GotLo\n2       Decatur Black  32cMKao8uGRc8AC9z7BgG5\n3          Billy Paul  187xgSpsFH8mMbAcoCW0zE\n4             Fingazz  5r1yBS6lhh7Mo4Egr3k0JT\n...               ...                     ...\n18453           Jidax  4ncFLGq6x0YvWPv5udZhqk\n18454    Bobby Powell  3XbQIqsGmrwU3Yt3T1z8i2\n18455   The Plimsouls  7BnikuGfXRWkGLJCWS1y9P\n18456     Steve Salas  3VQMbVxBwSMhvhwLr8D1sg\n18457   Bobby Freeman  5oMWW19j0AXl7Sy4Xn9rmg\n\n[18458 rows x 2 columns]",
      "text/html": "<div>\n<style scoped>\n    .dataframe tbody tr th:only-of-type {\n        vertical-align: middle;\n    }\n\n    .dataframe tbody tr th {\n        vertical-align: top;\n    }\n\n    .dataframe thead th {\n        text-align: right;\n    }\n</style>\n<table border=\"1\" class=\"dataframe\">\n  <thead>\n    <tr style=\"text-align: right;\">\n      <th></th>\n      <th>name</th>\n      <th>Spotify ID</th>\n    </tr>\n  </thead>\n  <tbody>\n    <tr>\n      <th>0</th>\n      <td>God's Weapon</td>\n      <td>6ojjBjI00GJvztmLQgIYBw</td>\n    </tr>\n    <tr>\n      <th>1</th>\n      <td>George Michael</td>\n      <td>19ra5tSw0tWufvUp8GotLo</td>\n    </tr>\n    <tr>\n      <th>2</th>\n      <td>Decatur Black</td>\n      <td>32cMKao8uGRc8AC9z7BgG5</td>\n    </tr>\n    <tr>\n      <th>3</th>\n      <td>Billy Paul</td>\n      <td>187xgSpsFH8mMbAcoCW0zE</td>\n    </tr>\n    <tr>\n      <th>4</th>\n      <td>Fingazz</td>\n      <td>5r1yBS6lhh7Mo4Egr3k0JT</td>\n    </tr>\n    <tr>\n      <th>...</th>\n      <td>...</td>\n      <td>...</td>\n    </tr>\n    <tr>\n      <th>18453</th>\n      <td>Jidax</td>\n      <td>4ncFLGq6x0YvWPv5udZhqk</td>\n    </tr>\n    <tr>\n      <th>18454</th>\n      <td>Bobby Powell</td>\n      <td>3XbQIqsGmrwU3Yt3T1z8i2</td>\n    </tr>\n    <tr>\n      <th>18455</th>\n      <td>The Plimsouls</td>\n      <td>7BnikuGfXRWkGLJCWS1y9P</td>\n    </tr>\n    <tr>\n      <th>18456</th>\n      <td>Steve Salas</td>\n      <td>3VQMbVxBwSMhvhwLr8D1sg</td>\n    </tr>\n    <tr>\n      <th>18457</th>\n      <td>Bobby Freeman</td>\n      <td>5oMWW19j0AXl7Sy4Xn9rmg</td>\n    </tr>\n  </tbody>\n</table>\n<p>18458 rows × 2 columns</p>\n</div>"
     },
     "execution_count": 29,
     "metadata": {},
     "output_type": "execute_result"
    }
   ],
   "source": [
    "# Assuming G is your NetworkX graph\n",
    "\n",
    "# Extract nodes and their attributes from the graph\n",
    "nodes_with_attributes = [(G.nodes[node], node) for node in G.nodes()]\n",
    "\n",
    "# Create a DataFrame from the nodes and their attributes\n",
    "df_nodes_train = pd.DataFrame(nodes_with_attributes, columns=['Attributes', \"Spotify ID\"])\n",
    "\n",
    "# Normalize the 'Attributes' column to expand it into separate columns\n",
    "df_attributes = pd.json_normalize(df_nodes_train['Attributes'])\n",
    "\n",
    "# Combine the original 'Node' column with the expanded attributes\n",
    "df_nodes_train = pd.concat([df_attributes, df_nodes_train['Spotify ID']], axis=1)\n",
    "\n",
    "# Display the DataFrame\n",
    "df_nodes_train"
   ],
   "metadata": {
    "collapsed": false,
    "ExecuteTime": {
     "end_time": "2024-04-04T20:32:14.128348300Z",
     "start_time": "2024-04-04T20:32:14.064346300Z"
    }
   },
   "id": "a02e5a328f587e87"
  },
  {
   "cell_type": "code",
   "execution_count": 30,
   "outputs": [],
   "source": [
    "df_nodes_train.to_csv(\"network_created/nodes_real_train.csv\", sep='\\t', index=False)"
   ],
   "metadata": {
    "collapsed": false,
    "ExecuteTime": {
     "end_time": "2024-04-04T20:32:14.200345Z",
     "start_time": "2024-04-04T20:32:14.129346900Z"
    }
   },
   "id": "affbd668a36e7e8a"
  },
  {
   "cell_type": "code",
   "execution_count": 31,
   "outputs": [
    {
     "data": {
      "text/plain": "                       Source                  Target               lable1  \\\n0      6ojjBjI00GJvztmLQgIYBw  450o9jw6AtiQlQkHCdH6Ru           Funkadelic   \n1      19ra5tSw0tWufvUp8GotLo  1dfeR4HaWDbWqFHLkxsg1d       George Michael   \n2      19ra5tSw0tWufvUp8GotLo  7nwUJBm0HE4ZxD3f5cy5ok       George Michael   \n3      19ra5tSw0tWufvUp8GotLo  3PhoLpVuITZKcymswpck5b       George Michael   \n4      19ra5tSw0tWufvUp8GotLo  2lolQgalUvZDfp5vvVtTYV         Tony Bennett   \n...                       ...                     ...                  ...   \n17763  1utPr1fWNKIWNykGhMPKk8  06JH3wcXkJg7eoxZVMO1UX                T.O.K   \n17764  4oALDYxp5JmULIgcxhBO1K  7o95ZoZt5ZYn31e9z1Hc0a  Natasha Bedingfield   \n17765  336vr2M3Va0FjyvB55lJEd  2GHclqNVjqGuiE5mA7BEoc               Common   \n17766  11ycyHNpr2hC6vCjvLb80y  1385hLNbrnbCJGokfH2ac2          Franz Liszt   \n17767  2nlw77IR1lg2v9NtmQbILi  6TKKVFCBfak1kInOPl7hCz           Corey Gray   \n\n                                                  lable2  weight  \\\n0                                           God's Weapon       2   \n1                                                  Queen       2   \n2                                        Aretha Franklin       2   \n3                                             Elton John       2   \n4                                         George Michael       2   \n...                                                  ...     ...   \n17763                                           G. Rizzo       2   \n17764                                               Ford       8   \n17765                                           D'Angelo       4   \n17766  Douglas Gamley & The National Philharmonic Orc...       2   \n17767                                      Olivia Noelle       2   \n\n                      song_id  \\\n0      5rN82ln7GyjSuJ8T7BPMZL   \n1      1kn8Jj0i9IwyO3yDgDyUSR   \n2      2XgDgIsVUOt9Lov5G4Wruy   \n3      7xGOvQukPKKQVLiJOPSmt0   \n4      6c1BwNumEAwmAUBOKx5WjI   \n...                       ...   \n17763  5jatB1ASDW2N6WmoK4Ofc6   \n17764  6XQnTJTCovBcq2FXxkLEKt   \n17765  5Hu9CX99Rdyuyweh5mGcah   \n17766  44BHy5VoGzTM1yGeOhq6j3   \n17767  0dSHi0JYod85QghD252BCS   \n\n                                               song_name  explicit  \\\n0                                            Dirty Queen      True   \n1                                       Somebody to Love     False   \n2                       I Knew You Were Waiting (For Me)     False   \n3                        Don't Let the Sun Go Down on Me     False   \n4                     How Do You Keep the Music Playing?     False   \n...                                                  ...       ...   \n17763                           Walk & Broad Out - Remix     False   \n17764                         These Words - Ford Dub Mix     False   \n17765                                       So Far To Go     False   \n17766  Hungarian Rhapsody No. 2 in C-Sharp Minor, S. 244     False   \n17767  Somebody That I Used to Know (feat. Olivia Noe...     False   \n\n           song_type  track_number  ...  acousticness  danceability  energy  \\\n0      Collaboration             5  ...       0.00117         0.363   0.859   \n1      Collaboration            15  ...       0.05180         0.333   0.863   \n2      Collaboration            13  ...       0.26400         0.717   0.837   \n3      Collaboration             4  ...       0.49400         0.435   0.547   \n4      Collaboration            19  ...       0.91300         0.178   0.212   \n...              ...           ...  ...           ...           ...     ...   \n17763  Collaboration             1  ...       0.62000         0.751   0.913   \n17764  Collaboration             7  ...       0.00332         0.657   0.894   \n17765  Collaboration             9  ...       0.00380         0.860   0.494   \n17766  Collaboration            12  ...       0.91400         0.232   0.231   \n17767  Collaboration             3  ...       0.24100         0.630   0.495   \n\n       instrumentalness liveness  loudness  speechiness  valence    tempo  hit  \n0              0.011500   0.2750    -5.325       0.1080    0.443  143.947    0  \n1              0.000000   0.9720    -6.918       0.0515    0.384  110.162    1  \n2              0.000000   0.2350    -5.490       0.0456    0.680  107.989    1  \n3              0.000000   0.5440    -8.092       0.0287    0.260  135.453    1  \n4              0.000168   0.1010   -13.134       0.0329    0.161  177.209    0  \n...                 ...      ...       ...          ...      ...      ...  ...  \n17763          0.000000   0.3620    -2.505       0.1610    0.736  117.966    0  \n17764          0.658000   0.0329    -6.541       0.0469    0.534  125.010    0  \n17765          0.000323   0.1950    -5.701       0.0774    0.577   90.295    0  \n17766          0.796000   0.0612   -18.564       0.0463    0.155   78.427    0  \n17767          0.000000   0.0697   -10.007       0.0336    0.385  128.997    0  \n\n[17768 rows x 28 columns]",
      "text/html": "<div>\n<style scoped>\n    .dataframe tbody tr th:only-of-type {\n        vertical-align: middle;\n    }\n\n    .dataframe tbody tr th {\n        vertical-align: top;\n    }\n\n    .dataframe thead th {\n        text-align: right;\n    }\n</style>\n<table border=\"1\" class=\"dataframe\">\n  <thead>\n    <tr style=\"text-align: right;\">\n      <th></th>\n      <th>Source</th>\n      <th>Target</th>\n      <th>lable1</th>\n      <th>lable2</th>\n      <th>weight</th>\n      <th>song_id</th>\n      <th>song_name</th>\n      <th>explicit</th>\n      <th>song_type</th>\n      <th>track_number</th>\n      <th>...</th>\n      <th>acousticness</th>\n      <th>danceability</th>\n      <th>energy</th>\n      <th>instrumentalness</th>\n      <th>liveness</th>\n      <th>loudness</th>\n      <th>speechiness</th>\n      <th>valence</th>\n      <th>tempo</th>\n      <th>hit</th>\n    </tr>\n  </thead>\n  <tbody>\n    <tr>\n      <th>0</th>\n      <td>6ojjBjI00GJvztmLQgIYBw</td>\n      <td>450o9jw6AtiQlQkHCdH6Ru</td>\n      <td>Funkadelic</td>\n      <td>God's Weapon</td>\n      <td>2</td>\n      <td>5rN82ln7GyjSuJ8T7BPMZL</td>\n      <td>Dirty Queen</td>\n      <td>True</td>\n      <td>Collaboration</td>\n      <td>5</td>\n      <td>...</td>\n      <td>0.00117</td>\n      <td>0.363</td>\n      <td>0.859</td>\n      <td>0.011500</td>\n      <td>0.2750</td>\n      <td>-5.325</td>\n      <td>0.1080</td>\n      <td>0.443</td>\n      <td>143.947</td>\n      <td>0</td>\n    </tr>\n    <tr>\n      <th>1</th>\n      <td>19ra5tSw0tWufvUp8GotLo</td>\n      <td>1dfeR4HaWDbWqFHLkxsg1d</td>\n      <td>George Michael</td>\n      <td>Queen</td>\n      <td>2</td>\n      <td>1kn8Jj0i9IwyO3yDgDyUSR</td>\n      <td>Somebody to Love</td>\n      <td>False</td>\n      <td>Collaboration</td>\n      <td>15</td>\n      <td>...</td>\n      <td>0.05180</td>\n      <td>0.333</td>\n      <td>0.863</td>\n      <td>0.000000</td>\n      <td>0.9720</td>\n      <td>-6.918</td>\n      <td>0.0515</td>\n      <td>0.384</td>\n      <td>110.162</td>\n      <td>1</td>\n    </tr>\n    <tr>\n      <th>2</th>\n      <td>19ra5tSw0tWufvUp8GotLo</td>\n      <td>7nwUJBm0HE4ZxD3f5cy5ok</td>\n      <td>George Michael</td>\n      <td>Aretha Franklin</td>\n      <td>2</td>\n      <td>2XgDgIsVUOt9Lov5G4Wruy</td>\n      <td>I Knew You Were Waiting (For Me)</td>\n      <td>False</td>\n      <td>Collaboration</td>\n      <td>13</td>\n      <td>...</td>\n      <td>0.26400</td>\n      <td>0.717</td>\n      <td>0.837</td>\n      <td>0.000000</td>\n      <td>0.2350</td>\n      <td>-5.490</td>\n      <td>0.0456</td>\n      <td>0.680</td>\n      <td>107.989</td>\n      <td>1</td>\n    </tr>\n    <tr>\n      <th>3</th>\n      <td>19ra5tSw0tWufvUp8GotLo</td>\n      <td>3PhoLpVuITZKcymswpck5b</td>\n      <td>George Michael</td>\n      <td>Elton John</td>\n      <td>2</td>\n      <td>7xGOvQukPKKQVLiJOPSmt0</td>\n      <td>Don't Let the Sun Go Down on Me</td>\n      <td>False</td>\n      <td>Collaboration</td>\n      <td>4</td>\n      <td>...</td>\n      <td>0.49400</td>\n      <td>0.435</td>\n      <td>0.547</td>\n      <td>0.000000</td>\n      <td>0.5440</td>\n      <td>-8.092</td>\n      <td>0.0287</td>\n      <td>0.260</td>\n      <td>135.453</td>\n      <td>1</td>\n    </tr>\n    <tr>\n      <th>4</th>\n      <td>19ra5tSw0tWufvUp8GotLo</td>\n      <td>2lolQgalUvZDfp5vvVtTYV</td>\n      <td>Tony Bennett</td>\n      <td>George Michael</td>\n      <td>2</td>\n      <td>6c1BwNumEAwmAUBOKx5WjI</td>\n      <td>How Do You Keep the Music Playing?</td>\n      <td>False</td>\n      <td>Collaboration</td>\n      <td>19</td>\n      <td>...</td>\n      <td>0.91300</td>\n      <td>0.178</td>\n      <td>0.212</td>\n      <td>0.000168</td>\n      <td>0.1010</td>\n      <td>-13.134</td>\n      <td>0.0329</td>\n      <td>0.161</td>\n      <td>177.209</td>\n      <td>0</td>\n    </tr>\n    <tr>\n      <th>...</th>\n      <td>...</td>\n      <td>...</td>\n      <td>...</td>\n      <td>...</td>\n      <td>...</td>\n      <td>...</td>\n      <td>...</td>\n      <td>...</td>\n      <td>...</td>\n      <td>...</td>\n      <td>...</td>\n      <td>...</td>\n      <td>...</td>\n      <td>...</td>\n      <td>...</td>\n      <td>...</td>\n      <td>...</td>\n      <td>...</td>\n      <td>...</td>\n      <td>...</td>\n      <td>...</td>\n    </tr>\n    <tr>\n      <th>17763</th>\n      <td>1utPr1fWNKIWNykGhMPKk8</td>\n      <td>06JH3wcXkJg7eoxZVMO1UX</td>\n      <td>T.O.K</td>\n      <td>G. Rizzo</td>\n      <td>2</td>\n      <td>5jatB1ASDW2N6WmoK4Ofc6</td>\n      <td>Walk &amp; Broad Out - Remix</td>\n      <td>False</td>\n      <td>Collaboration</td>\n      <td>1</td>\n      <td>...</td>\n      <td>0.62000</td>\n      <td>0.751</td>\n      <td>0.913</td>\n      <td>0.000000</td>\n      <td>0.3620</td>\n      <td>-2.505</td>\n      <td>0.1610</td>\n      <td>0.736</td>\n      <td>117.966</td>\n      <td>0</td>\n    </tr>\n    <tr>\n      <th>17764</th>\n      <td>4oALDYxp5JmULIgcxhBO1K</td>\n      <td>7o95ZoZt5ZYn31e9z1Hc0a</td>\n      <td>Natasha Bedingfield</td>\n      <td>Ford</td>\n      <td>8</td>\n      <td>6XQnTJTCovBcq2FXxkLEKt</td>\n      <td>These Words - Ford Dub Mix</td>\n      <td>False</td>\n      <td>Collaboration</td>\n      <td>7</td>\n      <td>...</td>\n      <td>0.00332</td>\n      <td>0.657</td>\n      <td>0.894</td>\n      <td>0.658000</td>\n      <td>0.0329</td>\n      <td>-6.541</td>\n      <td>0.0469</td>\n      <td>0.534</td>\n      <td>125.010</td>\n      <td>0</td>\n    </tr>\n    <tr>\n      <th>17765</th>\n      <td>336vr2M3Va0FjyvB55lJEd</td>\n      <td>2GHclqNVjqGuiE5mA7BEoc</td>\n      <td>Common</td>\n      <td>D'Angelo</td>\n      <td>4</td>\n      <td>5Hu9CX99Rdyuyweh5mGcah</td>\n      <td>So Far To Go</td>\n      <td>False</td>\n      <td>Collaboration</td>\n      <td>9</td>\n      <td>...</td>\n      <td>0.00380</td>\n      <td>0.860</td>\n      <td>0.494</td>\n      <td>0.000323</td>\n      <td>0.1950</td>\n      <td>-5.701</td>\n      <td>0.0774</td>\n      <td>0.577</td>\n      <td>90.295</td>\n      <td>0</td>\n    </tr>\n    <tr>\n      <th>17766</th>\n      <td>11ycyHNpr2hC6vCjvLb80y</td>\n      <td>1385hLNbrnbCJGokfH2ac2</td>\n      <td>Franz Liszt</td>\n      <td>Douglas Gamley &amp; The National Philharmonic Orc...</td>\n      <td>2</td>\n      <td>44BHy5VoGzTM1yGeOhq6j3</td>\n      <td>Hungarian Rhapsody No. 2 in C-Sharp Minor, S. 244</td>\n      <td>False</td>\n      <td>Collaboration</td>\n      <td>12</td>\n      <td>...</td>\n      <td>0.91400</td>\n      <td>0.232</td>\n      <td>0.231</td>\n      <td>0.796000</td>\n      <td>0.0612</td>\n      <td>-18.564</td>\n      <td>0.0463</td>\n      <td>0.155</td>\n      <td>78.427</td>\n      <td>0</td>\n    </tr>\n    <tr>\n      <th>17767</th>\n      <td>2nlw77IR1lg2v9NtmQbILi</td>\n      <td>6TKKVFCBfak1kInOPl7hCz</td>\n      <td>Corey Gray</td>\n      <td>Olivia Noelle</td>\n      <td>2</td>\n      <td>0dSHi0JYod85QghD252BCS</td>\n      <td>Somebody That I Used to Know (feat. Olivia Noe...</td>\n      <td>False</td>\n      <td>Collaboration</td>\n      <td>3</td>\n      <td>...</td>\n      <td>0.24100</td>\n      <td>0.630</td>\n      <td>0.495</td>\n      <td>0.000000</td>\n      <td>0.0697</td>\n      <td>-10.007</td>\n      <td>0.0336</td>\n      <td>0.385</td>\n      <td>128.997</td>\n      <td>0</td>\n    </tr>\n  </tbody>\n</table>\n<p>17768 rows × 28 columns</p>\n</div>"
     },
     "execution_count": 31,
     "metadata": {},
     "output_type": "execute_result"
    }
   ],
   "source": [
    "# Extract edges and their attributes from the graph\n",
    "edges_with_attributes = [(u, v, G.edges[u, v]) for u, v in G.edges()]\n",
    "\n",
    "# Create a DataFrame from the edges and their attributes\n",
    "df_edges_train = pd.DataFrame(edges_with_attributes, columns=['Source', 'Target', 'Attributes'])\n",
    "\n",
    "# Normalize the 'Attributes' column to expand it into separate columns\n",
    "df_edge_attributes = pd.json_normalize(df_edges_train['Attributes'])\n",
    "\n",
    "# Combine the original 'Attributes' column with the expanded attributes\n",
    "df_edges_train = pd.concat([df_edges_train[['Source', 'Target']], df_edge_attributes], axis=1)\n",
    "df_edges_train"
   ],
   "metadata": {
    "collapsed": false,
    "ExecuteTime": {
     "end_time": "2024-04-04T20:32:14.488347600Z",
     "start_time": "2024-04-04T20:32:14.188350Z"
    }
   },
   "id": "b94ca6391b6c88f8"
  },
  {
   "cell_type": "code",
   "execution_count": 32,
   "outputs": [],
   "source": [
    "# Save edge DataFrame to CSV\n",
    "df_edges_train.to_csv('network_created/edges_real_train.csv', sep='\\t', index=False)"
   ],
   "metadata": {
    "collapsed": false,
    "ExecuteTime": {
     "end_time": "2024-04-04T20:32:14.690876Z",
     "start_time": "2024-04-04T20:32:14.488347600Z"
    }
   },
   "id": "8cf334b81ab892a9"
  },
  {
   "cell_type": "code",
   "execution_count": 33,
   "outputs": [
    {
     "name": "stdout",
     "output_type": "stream",
     "text": [
      "Number of nodes: 18458\n",
      "Number of edges: 17768\n"
     ]
    }
   ],
   "source": [
    "num_nodes = G.number_of_nodes()\n",
    "num_edges = G.number_of_edges()\n",
    "print(\"Number of nodes:\", num_nodes)\n",
    "print(\"Number of edges:\", num_edges)\n"
   ],
   "metadata": {
    "collapsed": false,
    "ExecuteTime": {
     "end_time": "2024-04-04T20:32:14.708875700Z",
     "start_time": "2024-04-04T20:32:14.701874900Z"
    }
   },
   "id": "ed2d73175e8f4ff7"
  },
  {
   "cell_type": "code",
   "execution_count": 34,
   "outputs": [
    {
     "name": "stdout",
     "output_type": "stream",
     "text": [
      "amount of artists: 13155\n"
     ]
    },
    {
     "data": {
      "text/plain": "                    artist_id          artist_name\n0      7ykPTxjwNvM12lkqGiMLun       Eric Gilchrist\n1      5HesFIYZcRr1sRelv81nTz       Colin Willsher\n2      2WMboaJ3ezK2tawChzoO1g        Peter Godfrey\n3      3OpJxAHfT0KsJzQqdX5SLb         Ginger Tunes\n4      6eZ87SSDzDkjWmhs2zTyXN        Mike McAnally\n...                       ...                  ...\n13150  6JjTnHt1P7gQXlcFDoI4IC            Jellybean\n13151  3lJ6jvOiNY46L2juqXufpf       Changing Faces\n13152  1Ve5PoI7i5jIIP1xudo6AB      The Parliaments\n13153  69Mj3u4FTUrpyeGNSIaU6F    The J. Geils Band\n13154  6piiChdjB4mmBVvOs7rWco  The Hollywood Stars\n\n[13155 rows x 2 columns]",
      "text/html": "<div>\n<style scoped>\n    .dataframe tbody tr th:only-of-type {\n        vertical-align: middle;\n    }\n\n    .dataframe tbody tr th {\n        vertical-align: top;\n    }\n\n    .dataframe thead th {\n        text-align: right;\n    }\n</style>\n<table border=\"1\" class=\"dataframe\">\n  <thead>\n    <tr style=\"text-align: right;\">\n      <th></th>\n      <th>artist_id</th>\n      <th>artist_name</th>\n    </tr>\n  </thead>\n  <tbody>\n    <tr>\n      <th>0</th>\n      <td>7ykPTxjwNvM12lkqGiMLun</td>\n      <td>Eric Gilchrist</td>\n    </tr>\n    <tr>\n      <th>1</th>\n      <td>5HesFIYZcRr1sRelv81nTz</td>\n      <td>Colin Willsher</td>\n    </tr>\n    <tr>\n      <th>2</th>\n      <td>2WMboaJ3ezK2tawChzoO1g</td>\n      <td>Peter Godfrey</td>\n    </tr>\n    <tr>\n      <th>3</th>\n      <td>3OpJxAHfT0KsJzQqdX5SLb</td>\n      <td>Ginger Tunes</td>\n    </tr>\n    <tr>\n      <th>4</th>\n      <td>6eZ87SSDzDkjWmhs2zTyXN</td>\n      <td>Mike McAnally</td>\n    </tr>\n    <tr>\n      <th>...</th>\n      <td>...</td>\n      <td>...</td>\n    </tr>\n    <tr>\n      <th>13150</th>\n      <td>6JjTnHt1P7gQXlcFDoI4IC</td>\n      <td>Jellybean</td>\n    </tr>\n    <tr>\n      <th>13151</th>\n      <td>3lJ6jvOiNY46L2juqXufpf</td>\n      <td>Changing Faces</td>\n    </tr>\n    <tr>\n      <th>13152</th>\n      <td>1Ve5PoI7i5jIIP1xudo6AB</td>\n      <td>The Parliaments</td>\n    </tr>\n    <tr>\n      <th>13153</th>\n      <td>69Mj3u4FTUrpyeGNSIaU6F</td>\n      <td>The J. Geils Band</td>\n    </tr>\n    <tr>\n      <th>13154</th>\n      <td>6piiChdjB4mmBVvOs7rWco</td>\n      <td>The Hollywood Stars</td>\n    </tr>\n  </tbody>\n</table>\n<p>13155 rows × 2 columns</p>\n</div>"
     },
     "execution_count": 34,
     "metadata": {},
     "output_type": "execute_result"
    }
   ],
   "source": [
    "# Specify the columns\n",
    "columns = ['artist_id', 'artist_name']\n",
    "\n",
    "# Initialize an empty DataFrame\n",
    "df_artists_test = pd.DataFrame(columns={col: [] for col in columns})\n",
    "\n",
    "count = 0\n",
    "artist_set = set()\n",
    "\n",
    "for _, row in test_df.iterrows():\n",
    "    current_artist_id_list = eval(row[\"id_artists\"])\n",
    "    current_artist_name_list = eval(row[\"name_artists\"])\n",
    "    for cur_art_id, cur_art_name in zip(current_artist_id_list, current_artist_name_list):\n",
    "        if cur_art_id not in artist_set:\n",
    "            artist_set.add(cur_art_id)\n",
    "            df_artists_test.loc[len(df_artists_test)] = [cur_art_id, cur_art_name]\n",
    "            count += 1\n",
    "\n",
    "print(\"amount of artists:\", count)\n",
    "df_artists_test"
   ],
   "metadata": {
    "collapsed": false,
    "ExecuteTime": {
     "end_time": "2024-04-04T20:32:38.514926300Z",
     "start_time": "2024-04-04T20:32:14.709878400Z"
    }
   },
   "id": "debfdb478f00e0a8"
  },
  {
   "cell_type": "code",
   "execution_count": 35,
   "outputs": [],
   "source": [
    "import networkx as nx\n",
    "\n",
    "all_artist_ids = artist_set.copy()\n",
    "\n",
    "G2 = nx.Graph()\n",
    "\n",
    "for id_art_cur in all_artist_ids:\n",
    "    artist_name = df_artists_test[(df_artists_test[\"artist_id\"] == id_art_cur)][\"artist_name\"]\n",
    "    artist_info = df_artists_test[df_artists_test[\"artist_id\"] == id_art_cur]\n",
    "    if not artist_info.empty:  # Check if artist info exists\n",
    "        # Filter out artists who are not successful\n",
    "        node_attrs = {\"name\": artist_name.iloc[0]}\n",
    "        G2.add_node(id_art_cur, **node_attrs)\n",
    "    else:\n",
    "        print(\"Artist info not found for ID:\", id_art_cur)\n",
    "\n",
    "for _, row in test_df.iterrows():\n",
    "    artist_ids = list(eval(row[\"id_artists\"]))\n",
    "    artist_names = list(eval(row[\"name_artists\"]))\n",
    "    # Filter out songs that do not have more than one artist in their execution\n",
    "    if len(artist_ids) > 1:\n",
    "        for i in range(len(artist_ids)):\n",
    "            for j in range(i+1, len(artist_ids)):\n",
    "                artist_id_1 = str(artist_ids[i])\n",
    "                lable1 = str(artist_names[i])\n",
    "                artist_id_2 = str(artist_ids[j])\n",
    "                lable2 = str(artist_names[j])\n",
    "                # Check if the edge already exists\n",
    "                if G2.has_edge(artist_id_1, artist_id_2):\n",
    "                    # If the edge already exists, increment the weight by 1\n",
    "                    G2[artist_id_1][artist_id_2]['weight'] += 2\n",
    "                else:\n",
    "                    # Add a new edge with weight 1\n",
    "                    G2.add_edge(artist_id_1, artist_id_2, lable1=lable1, lable2=lable2, weight=2, song_id=str(row[\"song_id\"]), song_name=str(row[\"song_name\"]), explicit=bool(row[\"explicit\"]), song_type=str(row[\"song_type\"]), track_number=int(row[\"track_number\"]), num_artists=int(row[\"num_artists\"]), num_available_markets=int(row[\"num_available_markets\"]), duration_ms=int(row[\"duration_ms\"]), popularity=int(row[\"popularity\"]), release_date=str(row[\"release_date\"]), key = int(row[\"key\"]), mode = int(row[\"mode\"]), time_signature = int(row[\"time_signature\"]), acousticness = float(row[\"acousticness\"]), danceability = float(row[\"danceability\"]), energy = float(row[\"energy\"]), instrumentalness = float(row[\"instrumentalness\"]), liveness = float(row[\"liveness\"]),loudness = float(row[\"loudness\"]), speechiness = float(row[\"speechiness\"]), valence = float(row[\"valence\"]), tempo = float(row[\"tempo\"]), hit = int(row[\"hit\"]))"
   ],
   "metadata": {
    "collapsed": false,
    "ExecuteTime": {
     "end_time": "2024-04-04T20:33:15.169925300Z",
     "start_time": "2024-04-04T20:32:38.522926900Z"
    }
   },
   "id": "fe0fb448adf18ca8"
  },
  {
   "cell_type": "code",
   "execution_count": 36,
   "outputs": [
    {
     "data": {
      "text/plain": "                     name              Spotify ID\n0                 Bizarre  2TSvMFHlguDI495vujOAys\n1                Oh, Snow  18YfUAZu8AKnbIy3bC9GCM\n2          Elvis Martinez  66U02qGDesTqZImnLSiYeE\n3           Pastora Soler  6nh96lsvDLuCVpgpfjeYnM\n4                  Safire  3bPnZHwJqIfsZdVLiZbA0a\n...                   ...                     ...\n13150            Stimming  2yPveJtn9DpeN0CgNJHvAQ\n13151                Savi  1H72fTOUAUl0WQ4kH5DPVW\n13152               Falco  0hLd40hVpRDGENe4KGZLnW\n13153  \"Mooro\" Salahuddin  0G5V5OISipgV2mjdC7YKGx\n13154        Riot Starter  2ES1DQTafYfWbeGjo7wXEn\n\n[13155 rows x 2 columns]",
      "text/html": "<div>\n<style scoped>\n    .dataframe tbody tr th:only-of-type {\n        vertical-align: middle;\n    }\n\n    .dataframe tbody tr th {\n        vertical-align: top;\n    }\n\n    .dataframe thead th {\n        text-align: right;\n    }\n</style>\n<table border=\"1\" class=\"dataframe\">\n  <thead>\n    <tr style=\"text-align: right;\">\n      <th></th>\n      <th>name</th>\n      <th>Spotify ID</th>\n    </tr>\n  </thead>\n  <tbody>\n    <tr>\n      <th>0</th>\n      <td>Bizarre</td>\n      <td>2TSvMFHlguDI495vujOAys</td>\n    </tr>\n    <tr>\n      <th>1</th>\n      <td>Oh, Snow</td>\n      <td>18YfUAZu8AKnbIy3bC9GCM</td>\n    </tr>\n    <tr>\n      <th>2</th>\n      <td>Elvis Martinez</td>\n      <td>66U02qGDesTqZImnLSiYeE</td>\n    </tr>\n    <tr>\n      <th>3</th>\n      <td>Pastora Soler</td>\n      <td>6nh96lsvDLuCVpgpfjeYnM</td>\n    </tr>\n    <tr>\n      <th>4</th>\n      <td>Safire</td>\n      <td>3bPnZHwJqIfsZdVLiZbA0a</td>\n    </tr>\n    <tr>\n      <th>...</th>\n      <td>...</td>\n      <td>...</td>\n    </tr>\n    <tr>\n      <th>13150</th>\n      <td>Stimming</td>\n      <td>2yPveJtn9DpeN0CgNJHvAQ</td>\n    </tr>\n    <tr>\n      <th>13151</th>\n      <td>Savi</td>\n      <td>1H72fTOUAUl0WQ4kH5DPVW</td>\n    </tr>\n    <tr>\n      <th>13152</th>\n      <td>Falco</td>\n      <td>0hLd40hVpRDGENe4KGZLnW</td>\n    </tr>\n    <tr>\n      <th>13153</th>\n      <td>\"Mooro\" Salahuddin</td>\n      <td>0G5V5OISipgV2mjdC7YKGx</td>\n    </tr>\n    <tr>\n      <th>13154</th>\n      <td>Riot Starter</td>\n      <td>2ES1DQTafYfWbeGjo7wXEn</td>\n    </tr>\n  </tbody>\n</table>\n<p>13155 rows × 2 columns</p>\n</div>"
     },
     "execution_count": 36,
     "metadata": {},
     "output_type": "execute_result"
    }
   ],
   "source": [
    "# Assuming G is your NetworkX graph\n",
    "\n",
    "# Extract nodes and their attributes from the graph\n",
    "nodes_with_attributes = [(G2.nodes[node], node) for node in G2.nodes()]\n",
    "\n",
    "# Create a DataFrame from the nodes and their attributes\n",
    "df_nodes_test = pd.DataFrame(nodes_with_attributes, columns=['Attributes', \"Spotify ID\"])\n",
    "\n",
    "# Normalize the 'Attributes' column to expand it into separate columns\n",
    "df_attributes = pd.json_normalize(df_nodes_test['Attributes'])\n",
    "\n",
    "# Combine the original 'Node' column with the expanded attributes\n",
    "df_nodes_test = pd.concat([df_attributes, df_nodes_test['Spotify ID']], axis=1)\n",
    "\n",
    "# Display the DataFrame\n",
    "df_nodes_test"
   ],
   "metadata": {
    "collapsed": false,
    "ExecuteTime": {
     "end_time": "2024-04-04T20:33:15.232925200Z",
     "start_time": "2024-04-04T20:33:15.171927400Z"
    }
   },
   "id": "4b5d80bd0f928513"
  },
  {
   "cell_type": "code",
   "execution_count": 37,
   "outputs": [],
   "source": [
    "df_nodes_test.to_csv(\"network_created/nodes_real_test.csv\", sep='\\t', index=False)"
   ],
   "metadata": {
    "collapsed": false,
    "ExecuteTime": {
     "end_time": "2024-04-04T20:33:15.297924700Z",
     "start_time": "2024-04-04T20:33:15.234925900Z"
    }
   },
   "id": "eeab99250e649d7a"
  },
  {
   "cell_type": "code",
   "execution_count": 38,
   "outputs": [
    {
     "data": {
      "text/plain": "                       Source                  Target             lable1  \\\n0      2TSvMFHlguDI495vujOAys  5Ss1B4541iyrfqV8t4hNMJ              Jpalm   \n1      18YfUAZu8AKnbIy3bC9GCM  4BAgZIlEiaGx13kWwzwm6X           Oh, Snow   \n2      66U02qGDesTqZImnLSiYeE  5lwmRuXgjX8xIwlnauTZIP       Romeo Santos   \n3      6nh96lsvDLuCVpgpfjeYnM  5sUrlPAHlS9NEirDB8SEbF     Alejandro Sanz   \n4      1KVYnxyqs53YsAxFbEqTl0  4NKZ6MngqFE73GCEA6XTdk            DJ Romi   \n...                       ...                     ...                ...   \n10978  2feDdbD5araYcm6JhFHHw7  6sCbFbEjbYepqswM1vWjjs           Labrinth   \n10979  3BqaUtuQmqIHg7B5Bc7fP7  5a1rrmsSJwko0HqT6HvteB  Los Straitjackets   \n10980  12Br190pgwwhEjMY1ResUN  0hLd40hVpRDGENe4KGZLnW              Falco   \n10981  7c0XG5cIJTrrAgEC3ULPiq  246dkjvS1zLTtiykXe5h60        Post Malone   \n10982  1uVv4jbgMA34JoCUkbhrAj  2EmwLmcnlzIDxGfj0KvoDQ    John Ford Coley   \n\n                       lable2  weight                 song_id  \\\n0                     Bizarre       4  2wAz43QvIZ1UGXiANKRvPE   \n1                Paul Theisen       2  6WwPcrM9Ay9hoscLMdLotq   \n2              Elvis Martinez       2  0pB0CN0dxKKmZghn4gpLhj   \n3               Pastora Soler       2  1dIQf58mL4qonUWe8P3z9c   \n4                Leanne Brown       2  7Hgb9XRUL9ILTMTjPaiWJ5   \n...                       ...     ...                     ...   \n10978                 Zendaya       2  10hMM5nsZQf66ldBlgWBfG   \n10979               Nick Lowe      44  6vFRVqvgmD7UWAWXDvJqJS   \n10980                   Ynnox       2  1bLErqHFX2gCeRAWHd5tSM   \n10981           Ty Dolla $ign       4  3swc6WTsr7rl9DqQKQA55C   \n10982  The Texas Ex-Pat Choir       2  1mZ2qFoM9xtDWu2CkzpfJq   \n\n                                               song_name  explicit  \\\n0                                My Love (feat. Bizarre)      True   \n1                                                  Ideas     False   \n2                                             Millonario     False   \n3      Si Hay Dios - En Directo En El Estadio Vicente...     False   \n4                                                Foolish     False   \n...                                                  ...       ...   \n10978  All For Us - from the HBO Original Series Euph...     False   \n10979                              Linus and Lucy (Live)     False   \n10980                        Der Kommissar - Ynnox Remix     False   \n10981                       Psycho (feat. Ty Dolla $ign)      True   \n10982                       Should Have Never Left Texas     False   \n\n           song_type  track_number  ...  acousticness  danceability  energy  \\\n0      Collaboration             1  ...      0.092300         0.756   0.650   \n1      Collaboration             1  ...      0.722000         0.733   0.245   \n2      Collaboration             5  ...      0.206000         0.891   0.665   \n3      Collaboration             8  ...      0.267000         0.481   0.757   \n4      Collaboration             1  ...      0.000073         0.735   0.715   \n...              ...           ...  ...           ...           ...     ...   \n10978  Collaboration             1  ...      0.016500         0.348   0.652   \n10979  Collaboration             1  ...      0.000620         0.422   0.802   \n10980  Collaboration            21  ...      0.368000         0.816   0.788   \n10981  Collaboration             8  ...      0.580000         0.739   0.559   \n10982  Collaboration             4  ...      0.003800         0.816   0.670   \n\n       instrumentalness liveness  loudness  speechiness  valence    tempo  hit  \n0              0.000000   0.1430    -7.986       0.3150    0.350  110.012    0  \n1              0.848000   0.0817   -22.494       0.0409    0.228  139.995    0  \n2              0.000000   0.1170    -4.186       0.0493    0.928  125.013    0  \n3              0.000000   0.7830    -5.806       0.0688    0.231  139.990    0  \n4              0.359000   0.0762    -6.407       0.0381    0.703  122.990    0  \n...                 ...      ...       ...          ...      ...      ...  ...  \n10978          0.000264   0.3300    -7.145       0.0931    0.172   70.956    0  \n10979          0.672000   0.7640    -8.614       0.0368    0.508  166.287    0  \n10980          0.002470   0.1120    -6.113       0.0823    0.787  119.660    0  \n10981          0.000000   0.1120    -8.011       0.1170    0.439  140.124    0  \n10982          0.000003   0.3750    -6.648       0.0393    0.751  133.935    0  \n\n[10983 rows x 28 columns]",
      "text/html": "<div>\n<style scoped>\n    .dataframe tbody tr th:only-of-type {\n        vertical-align: middle;\n    }\n\n    .dataframe tbody tr th {\n        vertical-align: top;\n    }\n\n    .dataframe thead th {\n        text-align: right;\n    }\n</style>\n<table border=\"1\" class=\"dataframe\">\n  <thead>\n    <tr style=\"text-align: right;\">\n      <th></th>\n      <th>Source</th>\n      <th>Target</th>\n      <th>lable1</th>\n      <th>lable2</th>\n      <th>weight</th>\n      <th>song_id</th>\n      <th>song_name</th>\n      <th>explicit</th>\n      <th>song_type</th>\n      <th>track_number</th>\n      <th>...</th>\n      <th>acousticness</th>\n      <th>danceability</th>\n      <th>energy</th>\n      <th>instrumentalness</th>\n      <th>liveness</th>\n      <th>loudness</th>\n      <th>speechiness</th>\n      <th>valence</th>\n      <th>tempo</th>\n      <th>hit</th>\n    </tr>\n  </thead>\n  <tbody>\n    <tr>\n      <th>0</th>\n      <td>2TSvMFHlguDI495vujOAys</td>\n      <td>5Ss1B4541iyrfqV8t4hNMJ</td>\n      <td>Jpalm</td>\n      <td>Bizarre</td>\n      <td>4</td>\n      <td>2wAz43QvIZ1UGXiANKRvPE</td>\n      <td>My Love (feat. Bizarre)</td>\n      <td>True</td>\n      <td>Collaboration</td>\n      <td>1</td>\n      <td>...</td>\n      <td>0.092300</td>\n      <td>0.756</td>\n      <td>0.650</td>\n      <td>0.000000</td>\n      <td>0.1430</td>\n      <td>-7.986</td>\n      <td>0.3150</td>\n      <td>0.350</td>\n      <td>110.012</td>\n      <td>0</td>\n    </tr>\n    <tr>\n      <th>1</th>\n      <td>18YfUAZu8AKnbIy3bC9GCM</td>\n      <td>4BAgZIlEiaGx13kWwzwm6X</td>\n      <td>Oh, Snow</td>\n      <td>Paul Theisen</td>\n      <td>2</td>\n      <td>6WwPcrM9Ay9hoscLMdLotq</td>\n      <td>Ideas</td>\n      <td>False</td>\n      <td>Collaboration</td>\n      <td>1</td>\n      <td>...</td>\n      <td>0.722000</td>\n      <td>0.733</td>\n      <td>0.245</td>\n      <td>0.848000</td>\n      <td>0.0817</td>\n      <td>-22.494</td>\n      <td>0.0409</td>\n      <td>0.228</td>\n      <td>139.995</td>\n      <td>0</td>\n    </tr>\n    <tr>\n      <th>2</th>\n      <td>66U02qGDesTqZImnLSiYeE</td>\n      <td>5lwmRuXgjX8xIwlnauTZIP</td>\n      <td>Romeo Santos</td>\n      <td>Elvis Martinez</td>\n      <td>2</td>\n      <td>0pB0CN0dxKKmZghn4gpLhj</td>\n      <td>Millonario</td>\n      <td>False</td>\n      <td>Collaboration</td>\n      <td>5</td>\n      <td>...</td>\n      <td>0.206000</td>\n      <td>0.891</td>\n      <td>0.665</td>\n      <td>0.000000</td>\n      <td>0.1170</td>\n      <td>-4.186</td>\n      <td>0.0493</td>\n      <td>0.928</td>\n      <td>125.013</td>\n      <td>0</td>\n    </tr>\n    <tr>\n      <th>3</th>\n      <td>6nh96lsvDLuCVpgpfjeYnM</td>\n      <td>5sUrlPAHlS9NEirDB8SEbF</td>\n      <td>Alejandro Sanz</td>\n      <td>Pastora Soler</td>\n      <td>2</td>\n      <td>1dIQf58mL4qonUWe8P3z9c</td>\n      <td>Si Hay Dios - En Directo En El Estadio Vicente...</td>\n      <td>False</td>\n      <td>Collaboration</td>\n      <td>8</td>\n      <td>...</td>\n      <td>0.267000</td>\n      <td>0.481</td>\n      <td>0.757</td>\n      <td>0.000000</td>\n      <td>0.7830</td>\n      <td>-5.806</td>\n      <td>0.0688</td>\n      <td>0.231</td>\n      <td>139.990</td>\n      <td>0</td>\n    </tr>\n    <tr>\n      <th>4</th>\n      <td>1KVYnxyqs53YsAxFbEqTl0</td>\n      <td>4NKZ6MngqFE73GCEA6XTdk</td>\n      <td>DJ Romi</td>\n      <td>Leanne Brown</td>\n      <td>2</td>\n      <td>7Hgb9XRUL9ILTMTjPaiWJ5</td>\n      <td>Foolish</td>\n      <td>False</td>\n      <td>Collaboration</td>\n      <td>1</td>\n      <td>...</td>\n      <td>0.000073</td>\n      <td>0.735</td>\n      <td>0.715</td>\n      <td>0.359000</td>\n      <td>0.0762</td>\n      <td>-6.407</td>\n      <td>0.0381</td>\n      <td>0.703</td>\n      <td>122.990</td>\n      <td>0</td>\n    </tr>\n    <tr>\n      <th>...</th>\n      <td>...</td>\n      <td>...</td>\n      <td>...</td>\n      <td>...</td>\n      <td>...</td>\n      <td>...</td>\n      <td>...</td>\n      <td>...</td>\n      <td>...</td>\n      <td>...</td>\n      <td>...</td>\n      <td>...</td>\n      <td>...</td>\n      <td>...</td>\n      <td>...</td>\n      <td>...</td>\n      <td>...</td>\n      <td>...</td>\n      <td>...</td>\n      <td>...</td>\n      <td>...</td>\n    </tr>\n    <tr>\n      <th>10978</th>\n      <td>2feDdbD5araYcm6JhFHHw7</td>\n      <td>6sCbFbEjbYepqswM1vWjjs</td>\n      <td>Labrinth</td>\n      <td>Zendaya</td>\n      <td>2</td>\n      <td>10hMM5nsZQf66ldBlgWBfG</td>\n      <td>All For Us - from the HBO Original Series Euph...</td>\n      <td>False</td>\n      <td>Collaboration</td>\n      <td>1</td>\n      <td>...</td>\n      <td>0.016500</td>\n      <td>0.348</td>\n      <td>0.652</td>\n      <td>0.000264</td>\n      <td>0.3300</td>\n      <td>-7.145</td>\n      <td>0.0931</td>\n      <td>0.172</td>\n      <td>70.956</td>\n      <td>0</td>\n    </tr>\n    <tr>\n      <th>10979</th>\n      <td>3BqaUtuQmqIHg7B5Bc7fP7</td>\n      <td>5a1rrmsSJwko0HqT6HvteB</td>\n      <td>Los Straitjackets</td>\n      <td>Nick Lowe</td>\n      <td>44</td>\n      <td>6vFRVqvgmD7UWAWXDvJqJS</td>\n      <td>Linus and Lucy (Live)</td>\n      <td>False</td>\n      <td>Collaboration</td>\n      <td>1</td>\n      <td>...</td>\n      <td>0.000620</td>\n      <td>0.422</td>\n      <td>0.802</td>\n      <td>0.672000</td>\n      <td>0.7640</td>\n      <td>-8.614</td>\n      <td>0.0368</td>\n      <td>0.508</td>\n      <td>166.287</td>\n      <td>0</td>\n    </tr>\n    <tr>\n      <th>10980</th>\n      <td>12Br190pgwwhEjMY1ResUN</td>\n      <td>0hLd40hVpRDGENe4KGZLnW</td>\n      <td>Falco</td>\n      <td>Ynnox</td>\n      <td>2</td>\n      <td>1bLErqHFX2gCeRAWHd5tSM</td>\n      <td>Der Kommissar - Ynnox Remix</td>\n      <td>False</td>\n      <td>Collaboration</td>\n      <td>21</td>\n      <td>...</td>\n      <td>0.368000</td>\n      <td>0.816</td>\n      <td>0.788</td>\n      <td>0.002470</td>\n      <td>0.1120</td>\n      <td>-6.113</td>\n      <td>0.0823</td>\n      <td>0.787</td>\n      <td>119.660</td>\n      <td>0</td>\n    </tr>\n    <tr>\n      <th>10981</th>\n      <td>7c0XG5cIJTrrAgEC3ULPiq</td>\n      <td>246dkjvS1zLTtiykXe5h60</td>\n      <td>Post Malone</td>\n      <td>Ty Dolla $ign</td>\n      <td>4</td>\n      <td>3swc6WTsr7rl9DqQKQA55C</td>\n      <td>Psycho (feat. Ty Dolla $ign)</td>\n      <td>True</td>\n      <td>Collaboration</td>\n      <td>8</td>\n      <td>...</td>\n      <td>0.580000</td>\n      <td>0.739</td>\n      <td>0.559</td>\n      <td>0.000000</td>\n      <td>0.1120</td>\n      <td>-8.011</td>\n      <td>0.1170</td>\n      <td>0.439</td>\n      <td>140.124</td>\n      <td>0</td>\n    </tr>\n    <tr>\n      <th>10982</th>\n      <td>1uVv4jbgMA34JoCUkbhrAj</td>\n      <td>2EmwLmcnlzIDxGfj0KvoDQ</td>\n      <td>John Ford Coley</td>\n      <td>The Texas Ex-Pat Choir</td>\n      <td>2</td>\n      <td>1mZ2qFoM9xtDWu2CkzpfJq</td>\n      <td>Should Have Never Left Texas</td>\n      <td>False</td>\n      <td>Collaboration</td>\n      <td>4</td>\n      <td>...</td>\n      <td>0.003800</td>\n      <td>0.816</td>\n      <td>0.670</td>\n      <td>0.000003</td>\n      <td>0.3750</td>\n      <td>-6.648</td>\n      <td>0.0393</td>\n      <td>0.751</td>\n      <td>133.935</td>\n      <td>0</td>\n    </tr>\n  </tbody>\n</table>\n<p>10983 rows × 28 columns</p>\n</div>"
     },
     "execution_count": 38,
     "metadata": {},
     "output_type": "execute_result"
    }
   ],
   "source": [
    "# Extract edges and their attributes from the graph\n",
    "edges_with_attributes = [(u, v, G2.edges[u, v]) for u, v in G2.edges()]\n",
    "\n",
    "# Create a DataFrame from the edges and their attributes\n",
    "df_edges_test = pd.DataFrame(edges_with_attributes, columns=['Source', 'Target', 'Attributes'])\n",
    "\n",
    "# Normalize the 'Attributes' column to expand it into separate columns\n",
    "df_edge_attributes = pd.json_normalize(df_edges_test['Attributes'])\n",
    "\n",
    "# Combine the original 'Attributes' column with the expanded attributes\n",
    "df_edges_test = pd.concat([df_edges_test[['Source', 'Target']], df_edge_attributes], axis=1)\n",
    "df_edges_test"
   ],
   "metadata": {
    "collapsed": false,
    "ExecuteTime": {
     "end_time": "2024-04-04T20:33:15.618926300Z",
     "start_time": "2024-04-04T20:33:15.266926400Z"
    }
   },
   "id": "2e6324973210ec7e"
  },
  {
   "cell_type": "code",
   "execution_count": 39,
   "outputs": [],
   "source": [
    "# Save edge DataFrame to CSV\n",
    "df_edges_test.to_csv('network_created/edges_real_test.csv', sep='\\t', index=False)"
   ],
   "metadata": {
    "collapsed": false,
    "ExecuteTime": {
     "end_time": "2024-04-04T20:33:15.753929300Z",
     "start_time": "2024-04-04T20:33:15.610926700Z"
    }
   },
   "id": "b2a4471b27c98a30"
  },
  {
   "cell_type": "code",
   "execution_count": 40,
   "outputs": [
    {
     "name": "stdout",
     "output_type": "stream",
     "text": [
      "Number of nodes: 13155\n",
      "Number of edges: 10983\n"
     ]
    }
   ],
   "source": [
    "num_nodes = G2.number_of_nodes()\n",
    "num_edges = G2.number_of_edges()\n",
    "print(\"Number of nodes:\", num_nodes)\n",
    "print(\"Number of edges:\", num_edges)\n"
   ],
   "metadata": {
    "collapsed": false,
    "ExecuteTime": {
     "end_time": "2024-04-04T20:33:15.776927200Z",
     "start_time": "2024-04-04T20:33:15.756926500Z"
    }
   },
   "id": "b6287a821fd97ef0"
  },
  {
   "cell_type": "code",
   "execution_count": 41,
   "outputs": [
    {
     "data": {
      "text/plain": "                       song_id                                  song_name  \\\n812938  2FNxRpbth4wlLFqz1N5WiE                        I'll Remember April   \n622182  52AOW1OVjFNrVNcSBpdCdZ                              It's Not Safe   \n885745  3xMME9nU36hEZ7IVz8EmOh                         Blues for Salvador   \n891297  0XaBoFkv3sVx2NaMrXc9UK  Born In The 50's - Live In Atlanta / 2003   \n885807  6y7f6PgNVsgXnVyV9SN2Un                           If Not Now, When   \n...                        ...                                        ...   \n680547  7GTEnYK80n1DMfq82q4thx                                  In Hiding   \n680546  6lJ4MibmHf6Bzn5LjvQfJP                                Mystic Wind   \n680545  41SAyuB0xcmo98CB3I5d9D                                Cool'n Dark   \n680544  3tVgk3tPXbARNgYdsouj6a                              Maiden Voyage   \n680543  03Lkp4grGuceF1oFf1T32E                               Tickled Pink   \n\n                        id_artists             name_artists  popularity  \\\n812938  ['5v74mT11KGJqadf9sLw4dA']  ['Cannonball Adderley']           9   \n622182  ['3UpIbyXfGzmHG6TMH4dJEk']           ['Aimee Mann']          10   \n885745  ['6GI52t8N5F02MxU0g5U69P']              ['Santana']           9   \n891297  ['5NGO30tJxFlKixkPSgXcFE']           ['The Police']          14   \n885807  ['0Lpr5wXzWLtDWm1SjNbpPb']        ['Todd Rundgren']           4   \n...                            ...                      ...         ...   \n680547  ['6pnIUNV115R0xcFg4pb9X5']            ['Skip Peck']           0   \n680546  ['1uFft7uxBRRMhLBIsFLZQS']           ['E.L. Mahon']           0   \n680545  ['1tNHpb8Eh1scePqiIZh25l']               ['Manuka']           0   \n680544  ['3OpJxAHfT0KsJzQqdX5SLb']         ['Ginger Tunes']           0   \n680543  ['6pnIUNV115R0xcFg4pb9X5']            ['Skip Peck']           0   \n\n        explicit song_type  track_number  num_artists  num_available_markets  \\\n812938     False      Solo            12            1                     79   \n622182     False      Solo            13            1                      3   \n885745     False      Solo             2            1                      2   \n891297     False      Solo            14            1                      3   \n885807     False      Solo             2            1                     78   \n...          ...       ...           ...          ...                    ...   \n680547     False      Solo            31            1                     79   \n680546     False      Solo            30            1                     79   \n680545     False      Solo            29            1                     79   \n680544     False      Solo            28            1                     79   \n680543     False      Solo            27            1                     79   \n\n        ... danceability energy instrumentalness liveness loudness  \\\n812938  ...         0.37  0.532         5.46e-05    0.109   -9.671   \n622182  ...        0.476  0.478         0.000683    0.279   -8.628   \n885745  ...        0.175  0.331            0.839    0.343  -12.226   \n891297  ...        0.334  0.942           0.0504    0.799   -6.889   \n885807  ...        0.566  0.786           0.0138    0.297  -10.232   \n...     ...          ...    ...              ...      ...      ...   \n680547  ...        0.444  0.369            0.029    0.113  -11.001   \n680546  ...         0.62  0.635            0.109    0.327  -10.072   \n680545  ...        0.669  0.657            0.838    0.285    -9.92   \n680544  ...        0.533  0.338            0.881   0.0903  -10.733   \n680543  ...        0.723  0.453            0.426    0.119  -12.771   \n\n       speechiness valence    tempo hit       date  \n812938      0.0501   0.646   83.887   0 1995-01-01  \n622182      0.0328   0.362   95.408   0 1995-01-01  \n885745      0.0326  0.0673   72.246   0 1995-01-01  \n891297      0.0733   0.701  160.102   0 1995-01-01  \n885807      0.0293   0.529  106.014   0 1995-01-01  \n...            ...     ...      ...  ..        ...  \n680547      0.0345   0.616  112.991   0 2015-08-12  \n680546      0.0353   0.708   95.025   0 2015-08-12  \n680545      0.0389   0.387   89.997   0 2015-08-12  \n680544       0.028  0.0492  123.018   0 2015-08-12  \n680543      0.0314   0.763   95.096   0 2015-08-12  \n\n[679758 rows x 26 columns]",
      "text/html": "<div>\n<style scoped>\n    .dataframe tbody tr th:only-of-type {\n        vertical-align: middle;\n    }\n\n    .dataframe tbody tr th {\n        vertical-align: top;\n    }\n\n    .dataframe thead th {\n        text-align: right;\n    }\n</style>\n<table border=\"1\" class=\"dataframe\">\n  <thead>\n    <tr style=\"text-align: right;\">\n      <th></th>\n      <th>song_id</th>\n      <th>song_name</th>\n      <th>id_artists</th>\n      <th>name_artists</th>\n      <th>popularity</th>\n      <th>explicit</th>\n      <th>song_type</th>\n      <th>track_number</th>\n      <th>num_artists</th>\n      <th>num_available_markets</th>\n      <th>...</th>\n      <th>danceability</th>\n      <th>energy</th>\n      <th>instrumentalness</th>\n      <th>liveness</th>\n      <th>loudness</th>\n      <th>speechiness</th>\n      <th>valence</th>\n      <th>tempo</th>\n      <th>hit</th>\n      <th>date</th>\n    </tr>\n  </thead>\n  <tbody>\n    <tr>\n      <th>812938</th>\n      <td>2FNxRpbth4wlLFqz1N5WiE</td>\n      <td>I'll Remember April</td>\n      <td>['5v74mT11KGJqadf9sLw4dA']</td>\n      <td>['Cannonball Adderley']</td>\n      <td>9</td>\n      <td>False</td>\n      <td>Solo</td>\n      <td>12</td>\n      <td>1</td>\n      <td>79</td>\n      <td>...</td>\n      <td>0.37</td>\n      <td>0.532</td>\n      <td>5.46e-05</td>\n      <td>0.109</td>\n      <td>-9.671</td>\n      <td>0.0501</td>\n      <td>0.646</td>\n      <td>83.887</td>\n      <td>0</td>\n      <td>1995-01-01</td>\n    </tr>\n    <tr>\n      <th>622182</th>\n      <td>52AOW1OVjFNrVNcSBpdCdZ</td>\n      <td>It's Not Safe</td>\n      <td>['3UpIbyXfGzmHG6TMH4dJEk']</td>\n      <td>['Aimee Mann']</td>\n      <td>10</td>\n      <td>False</td>\n      <td>Solo</td>\n      <td>13</td>\n      <td>1</td>\n      <td>3</td>\n      <td>...</td>\n      <td>0.476</td>\n      <td>0.478</td>\n      <td>0.000683</td>\n      <td>0.279</td>\n      <td>-8.628</td>\n      <td>0.0328</td>\n      <td>0.362</td>\n      <td>95.408</td>\n      <td>0</td>\n      <td>1995-01-01</td>\n    </tr>\n    <tr>\n      <th>885745</th>\n      <td>3xMME9nU36hEZ7IVz8EmOh</td>\n      <td>Blues for Salvador</td>\n      <td>['6GI52t8N5F02MxU0g5U69P']</td>\n      <td>['Santana']</td>\n      <td>9</td>\n      <td>False</td>\n      <td>Solo</td>\n      <td>2</td>\n      <td>1</td>\n      <td>2</td>\n      <td>...</td>\n      <td>0.175</td>\n      <td>0.331</td>\n      <td>0.839</td>\n      <td>0.343</td>\n      <td>-12.226</td>\n      <td>0.0326</td>\n      <td>0.0673</td>\n      <td>72.246</td>\n      <td>0</td>\n      <td>1995-01-01</td>\n    </tr>\n    <tr>\n      <th>891297</th>\n      <td>0XaBoFkv3sVx2NaMrXc9UK</td>\n      <td>Born In The 50's - Live In Atlanta / 2003</td>\n      <td>['5NGO30tJxFlKixkPSgXcFE']</td>\n      <td>['The Police']</td>\n      <td>14</td>\n      <td>False</td>\n      <td>Solo</td>\n      <td>14</td>\n      <td>1</td>\n      <td>3</td>\n      <td>...</td>\n      <td>0.334</td>\n      <td>0.942</td>\n      <td>0.0504</td>\n      <td>0.799</td>\n      <td>-6.889</td>\n      <td>0.0733</td>\n      <td>0.701</td>\n      <td>160.102</td>\n      <td>0</td>\n      <td>1995-01-01</td>\n    </tr>\n    <tr>\n      <th>885807</th>\n      <td>6y7f6PgNVsgXnVyV9SN2Un</td>\n      <td>If Not Now, When</td>\n      <td>['0Lpr5wXzWLtDWm1SjNbpPb']</td>\n      <td>['Todd Rundgren']</td>\n      <td>4</td>\n      <td>False</td>\n      <td>Solo</td>\n      <td>2</td>\n      <td>1</td>\n      <td>78</td>\n      <td>...</td>\n      <td>0.566</td>\n      <td>0.786</td>\n      <td>0.0138</td>\n      <td>0.297</td>\n      <td>-10.232</td>\n      <td>0.0293</td>\n      <td>0.529</td>\n      <td>106.014</td>\n      <td>0</td>\n      <td>1995-01-01</td>\n    </tr>\n    <tr>\n      <th>...</th>\n      <td>...</td>\n      <td>...</td>\n      <td>...</td>\n      <td>...</td>\n      <td>...</td>\n      <td>...</td>\n      <td>...</td>\n      <td>...</td>\n      <td>...</td>\n      <td>...</td>\n      <td>...</td>\n      <td>...</td>\n      <td>...</td>\n      <td>...</td>\n      <td>...</td>\n      <td>...</td>\n      <td>...</td>\n      <td>...</td>\n      <td>...</td>\n      <td>...</td>\n      <td>...</td>\n    </tr>\n    <tr>\n      <th>680547</th>\n      <td>7GTEnYK80n1DMfq82q4thx</td>\n      <td>In Hiding</td>\n      <td>['6pnIUNV115R0xcFg4pb9X5']</td>\n      <td>['Skip Peck']</td>\n      <td>0</td>\n      <td>False</td>\n      <td>Solo</td>\n      <td>31</td>\n      <td>1</td>\n      <td>79</td>\n      <td>...</td>\n      <td>0.444</td>\n      <td>0.369</td>\n      <td>0.029</td>\n      <td>0.113</td>\n      <td>-11.001</td>\n      <td>0.0345</td>\n      <td>0.616</td>\n      <td>112.991</td>\n      <td>0</td>\n      <td>2015-08-12</td>\n    </tr>\n    <tr>\n      <th>680546</th>\n      <td>6lJ4MibmHf6Bzn5LjvQfJP</td>\n      <td>Mystic Wind</td>\n      <td>['1uFft7uxBRRMhLBIsFLZQS']</td>\n      <td>['E.L. Mahon']</td>\n      <td>0</td>\n      <td>False</td>\n      <td>Solo</td>\n      <td>30</td>\n      <td>1</td>\n      <td>79</td>\n      <td>...</td>\n      <td>0.62</td>\n      <td>0.635</td>\n      <td>0.109</td>\n      <td>0.327</td>\n      <td>-10.072</td>\n      <td>0.0353</td>\n      <td>0.708</td>\n      <td>95.025</td>\n      <td>0</td>\n      <td>2015-08-12</td>\n    </tr>\n    <tr>\n      <th>680545</th>\n      <td>41SAyuB0xcmo98CB3I5d9D</td>\n      <td>Cool'n Dark</td>\n      <td>['1tNHpb8Eh1scePqiIZh25l']</td>\n      <td>['Manuka']</td>\n      <td>0</td>\n      <td>False</td>\n      <td>Solo</td>\n      <td>29</td>\n      <td>1</td>\n      <td>79</td>\n      <td>...</td>\n      <td>0.669</td>\n      <td>0.657</td>\n      <td>0.838</td>\n      <td>0.285</td>\n      <td>-9.92</td>\n      <td>0.0389</td>\n      <td>0.387</td>\n      <td>89.997</td>\n      <td>0</td>\n      <td>2015-08-12</td>\n    </tr>\n    <tr>\n      <th>680544</th>\n      <td>3tVgk3tPXbARNgYdsouj6a</td>\n      <td>Maiden Voyage</td>\n      <td>['3OpJxAHfT0KsJzQqdX5SLb']</td>\n      <td>['Ginger Tunes']</td>\n      <td>0</td>\n      <td>False</td>\n      <td>Solo</td>\n      <td>28</td>\n      <td>1</td>\n      <td>79</td>\n      <td>...</td>\n      <td>0.533</td>\n      <td>0.338</td>\n      <td>0.881</td>\n      <td>0.0903</td>\n      <td>-10.733</td>\n      <td>0.028</td>\n      <td>0.0492</td>\n      <td>123.018</td>\n      <td>0</td>\n      <td>2015-08-12</td>\n    </tr>\n    <tr>\n      <th>680543</th>\n      <td>03Lkp4grGuceF1oFf1T32E</td>\n      <td>Tickled Pink</td>\n      <td>['6pnIUNV115R0xcFg4pb9X5']</td>\n      <td>['Skip Peck']</td>\n      <td>0</td>\n      <td>False</td>\n      <td>Solo</td>\n      <td>27</td>\n      <td>1</td>\n      <td>79</td>\n      <td>...</td>\n      <td>0.723</td>\n      <td>0.453</td>\n      <td>0.426</td>\n      <td>0.119</td>\n      <td>-12.771</td>\n      <td>0.0314</td>\n      <td>0.763</td>\n      <td>95.096</td>\n      <td>0</td>\n      <td>2015-08-12</td>\n    </tr>\n  </tbody>\n</table>\n<p>679758 rows × 26 columns</p>\n</div>"
     },
     "execution_count": 41,
     "metadata": {},
     "output_type": "execute_result"
    }
   ],
   "source": [
    "train_df"
   ],
   "metadata": {
    "collapsed": false,
    "ExecuteTime": {
     "end_time": "2024-04-04T20:33:16.689010800Z",
     "start_time": "2024-04-04T20:33:15.765929500Z"
    }
   },
   "id": "b1de9789d17182a"
  },
  {
   "cell_type": "code",
   "execution_count": 42,
   "outputs": [
    {
     "data": {
      "text/plain": "                       song_id  \\\n680542  1dE5ia0SwcCKIti0ntENLV   \n680541  4q5LxqJ6dlxpz19vAmQUxh   \n680540  1WgHrQNm3oaUZYMjXA9L3R   \n680539  0ZxlviZuGb7Pm1hjYSwfoN   \n680538  74FXvTSzvHEQQSVjAcp3V0   \n...                        ...   \n7334    2O9CikWfjkYAgGCBws5Pl4   \n10903   6zhg8TnVKi90ITDzFKwPr0   \n6196    7jVz0WCEQmACfeLSpTe81f   \n9848    2YZnZZN2AA206ou3bG4HbR   \n10666   6Fh2QgjCxL96dA3Gtpfr4Q   \n\n                                                song_name  \\\n680542                                Something Beautiful   \n680541                                    I Remember When   \n680540                                   Restaurant Music   \n680539                                         Kimo Samba   \n680538                                  Used Cars & Women   \n...                                                   ...   \n7334                             Baby I'll Give It to You   \n10903                       Swingtown - Alternate Version   \n6196                                          I Need Love   \n9848                                          Laugh Laugh   \n10666   One Sweet Day (16-Bit Mariah Carey & Boyz II M...   \n\n                        id_artists           name_artists  popularity  \\\n680542  ['7ykPTxjwNvM12lkqGiMLun']     ['Eric Gilchrist']           0   \n680541  ['5HesFIYZcRr1sRelv81nTz']     ['Colin Willsher']           0   \n680540  ['2WMboaJ3ezK2tawChzoO1g']      ['Peter Godfrey']           0   \n680539  ['3OpJxAHfT0KsJzQqdX5SLb']       ['Ginger Tunes']           0   \n680538  ['6eZ87SSDzDkjWmhs2zTyXN']      ['Mike McAnally']           0   \n...                            ...                    ...         ...   \n7334    ['6jdObwsrIjSRnBbMw6lPBj']   ['Seals and Crofts']           1   \n10903   ['6QtGlUje9TIkLrgPZrESuk']  ['Steve Miller Band']          26   \n6196    ['1P8IfcNKwrkQP5xJWuhaOC']          ['LL Cool J']          13   \n9848    ['4DQj1q0unpi9KF8jO1Wqks']  ['The Beau Brummels']           0   \n10666   ['1v4YnufenjE9BLAfP90qvt']      ['Arcade Player']           0   \n\n        explicit song_type  track_number  num_artists  num_available_markets  \\\n680542     False      Solo            26            1                     79   \n680541     False      Solo            25            1                     79   \n680540     False      Solo            24            1                     79   \n680539     False      Solo            23            1                     79   \n680538     False      Solo            22            1                     79   \n...          ...       ...           ...          ...                    ...   \n7334       False      Solo            25            1                     76   \n10903      False      Solo             5            1                     79   \n6196       False      Solo             3            1                     53   \n9848       False      Solo            11            1                     79   \n10666      False      Solo            27            1                     79   \n\n        ... danceability energy instrumentalness liveness loudness  \\\n680542  ...        0.608  0.391            0.967   0.0925  -13.237   \n680541  ...        0.369   0.24            0.939    0.145  -13.112   \n680540  ...        0.661  0.455            0.924    0.112  -14.563   \n680539  ...        0.686  0.702             0.86    0.106   -9.273   \n680538  ...        0.397  0.196            0.955    0.112  -18.322   \n...     ...          ...    ...              ...      ...      ...   \n7334    ...        0.543  0.629         0.000001    0.259  -13.055   \n10903   ...        0.459  0.764         0.000544    0.244   -6.662   \n6196    ...        0.799   0.28              0.0   0.0842  -20.749   \n9848    ...        0.485  0.665              0.0     0.09    -8.73   \n10666   ...        0.395  0.405            0.745     0.11   -5.559   \n\n       speechiness valence    tempo hit       date  \n680542      0.0292     0.4   95.133   0 2015-08-12  \n680541      0.0309   0.151   74.655   0 2015-08-12  \n680540      0.0415   0.716   130.05   0 2015-08-12  \n680539      0.0354    0.59  104.944   0 2015-08-12  \n680538      0.0411   0.242  136.311   0 2015-08-12  \n...            ...     ...      ...  ..        ...  \n7334         0.137   0.644  166.855   1 2019-08-23  \n10903       0.0354   0.439  124.557   1 2019-08-23  \n6196         0.301    0.67   88.224   1 2019-08-23  \n9848        0.0744   0.757  128.604   1 2019-08-23  \n10666       0.0393   0.313  194.933   1 2019-08-26  \n\n[226587 rows x 26 columns]",
      "text/html": "<div>\n<style scoped>\n    .dataframe tbody tr th:only-of-type {\n        vertical-align: middle;\n    }\n\n    .dataframe tbody tr th {\n        vertical-align: top;\n    }\n\n    .dataframe thead th {\n        text-align: right;\n    }\n</style>\n<table border=\"1\" class=\"dataframe\">\n  <thead>\n    <tr style=\"text-align: right;\">\n      <th></th>\n      <th>song_id</th>\n      <th>song_name</th>\n      <th>id_artists</th>\n      <th>name_artists</th>\n      <th>popularity</th>\n      <th>explicit</th>\n      <th>song_type</th>\n      <th>track_number</th>\n      <th>num_artists</th>\n      <th>num_available_markets</th>\n      <th>...</th>\n      <th>danceability</th>\n      <th>energy</th>\n      <th>instrumentalness</th>\n      <th>liveness</th>\n      <th>loudness</th>\n      <th>speechiness</th>\n      <th>valence</th>\n      <th>tempo</th>\n      <th>hit</th>\n      <th>date</th>\n    </tr>\n  </thead>\n  <tbody>\n    <tr>\n      <th>680542</th>\n      <td>1dE5ia0SwcCKIti0ntENLV</td>\n      <td>Something Beautiful</td>\n      <td>['7ykPTxjwNvM12lkqGiMLun']</td>\n      <td>['Eric Gilchrist']</td>\n      <td>0</td>\n      <td>False</td>\n      <td>Solo</td>\n      <td>26</td>\n      <td>1</td>\n      <td>79</td>\n      <td>...</td>\n      <td>0.608</td>\n      <td>0.391</td>\n      <td>0.967</td>\n      <td>0.0925</td>\n      <td>-13.237</td>\n      <td>0.0292</td>\n      <td>0.4</td>\n      <td>95.133</td>\n      <td>0</td>\n      <td>2015-08-12</td>\n    </tr>\n    <tr>\n      <th>680541</th>\n      <td>4q5LxqJ6dlxpz19vAmQUxh</td>\n      <td>I Remember When</td>\n      <td>['5HesFIYZcRr1sRelv81nTz']</td>\n      <td>['Colin Willsher']</td>\n      <td>0</td>\n      <td>False</td>\n      <td>Solo</td>\n      <td>25</td>\n      <td>1</td>\n      <td>79</td>\n      <td>...</td>\n      <td>0.369</td>\n      <td>0.24</td>\n      <td>0.939</td>\n      <td>0.145</td>\n      <td>-13.112</td>\n      <td>0.0309</td>\n      <td>0.151</td>\n      <td>74.655</td>\n      <td>0</td>\n      <td>2015-08-12</td>\n    </tr>\n    <tr>\n      <th>680540</th>\n      <td>1WgHrQNm3oaUZYMjXA9L3R</td>\n      <td>Restaurant Music</td>\n      <td>['2WMboaJ3ezK2tawChzoO1g']</td>\n      <td>['Peter Godfrey']</td>\n      <td>0</td>\n      <td>False</td>\n      <td>Solo</td>\n      <td>24</td>\n      <td>1</td>\n      <td>79</td>\n      <td>...</td>\n      <td>0.661</td>\n      <td>0.455</td>\n      <td>0.924</td>\n      <td>0.112</td>\n      <td>-14.563</td>\n      <td>0.0415</td>\n      <td>0.716</td>\n      <td>130.05</td>\n      <td>0</td>\n      <td>2015-08-12</td>\n    </tr>\n    <tr>\n      <th>680539</th>\n      <td>0ZxlviZuGb7Pm1hjYSwfoN</td>\n      <td>Kimo Samba</td>\n      <td>['3OpJxAHfT0KsJzQqdX5SLb']</td>\n      <td>['Ginger Tunes']</td>\n      <td>0</td>\n      <td>False</td>\n      <td>Solo</td>\n      <td>23</td>\n      <td>1</td>\n      <td>79</td>\n      <td>...</td>\n      <td>0.686</td>\n      <td>0.702</td>\n      <td>0.86</td>\n      <td>0.106</td>\n      <td>-9.273</td>\n      <td>0.0354</td>\n      <td>0.59</td>\n      <td>104.944</td>\n      <td>0</td>\n      <td>2015-08-12</td>\n    </tr>\n    <tr>\n      <th>680538</th>\n      <td>74FXvTSzvHEQQSVjAcp3V0</td>\n      <td>Used Cars &amp; Women</td>\n      <td>['6eZ87SSDzDkjWmhs2zTyXN']</td>\n      <td>['Mike McAnally']</td>\n      <td>0</td>\n      <td>False</td>\n      <td>Solo</td>\n      <td>22</td>\n      <td>1</td>\n      <td>79</td>\n      <td>...</td>\n      <td>0.397</td>\n      <td>0.196</td>\n      <td>0.955</td>\n      <td>0.112</td>\n      <td>-18.322</td>\n      <td>0.0411</td>\n      <td>0.242</td>\n      <td>136.311</td>\n      <td>0</td>\n      <td>2015-08-12</td>\n    </tr>\n    <tr>\n      <th>...</th>\n      <td>...</td>\n      <td>...</td>\n      <td>...</td>\n      <td>...</td>\n      <td>...</td>\n      <td>...</td>\n      <td>...</td>\n      <td>...</td>\n      <td>...</td>\n      <td>...</td>\n      <td>...</td>\n      <td>...</td>\n      <td>...</td>\n      <td>...</td>\n      <td>...</td>\n      <td>...</td>\n      <td>...</td>\n      <td>...</td>\n      <td>...</td>\n      <td>...</td>\n      <td>...</td>\n    </tr>\n    <tr>\n      <th>7334</th>\n      <td>2O9CikWfjkYAgGCBws5Pl4</td>\n      <td>Baby I'll Give It to You</td>\n      <td>['6jdObwsrIjSRnBbMw6lPBj']</td>\n      <td>['Seals and Crofts']</td>\n      <td>1</td>\n      <td>False</td>\n      <td>Solo</td>\n      <td>25</td>\n      <td>1</td>\n      <td>76</td>\n      <td>...</td>\n      <td>0.543</td>\n      <td>0.629</td>\n      <td>0.000001</td>\n      <td>0.259</td>\n      <td>-13.055</td>\n      <td>0.137</td>\n      <td>0.644</td>\n      <td>166.855</td>\n      <td>1</td>\n      <td>2019-08-23</td>\n    </tr>\n    <tr>\n      <th>10903</th>\n      <td>6zhg8TnVKi90ITDzFKwPr0</td>\n      <td>Swingtown - Alternate Version</td>\n      <td>['6QtGlUje9TIkLrgPZrESuk']</td>\n      <td>['Steve Miller Band']</td>\n      <td>26</td>\n      <td>False</td>\n      <td>Solo</td>\n      <td>5</td>\n      <td>1</td>\n      <td>79</td>\n      <td>...</td>\n      <td>0.459</td>\n      <td>0.764</td>\n      <td>0.000544</td>\n      <td>0.244</td>\n      <td>-6.662</td>\n      <td>0.0354</td>\n      <td>0.439</td>\n      <td>124.557</td>\n      <td>1</td>\n      <td>2019-08-23</td>\n    </tr>\n    <tr>\n      <th>6196</th>\n      <td>7jVz0WCEQmACfeLSpTe81f</td>\n      <td>I Need Love</td>\n      <td>['1P8IfcNKwrkQP5xJWuhaOC']</td>\n      <td>['LL Cool J']</td>\n      <td>13</td>\n      <td>False</td>\n      <td>Solo</td>\n      <td>3</td>\n      <td>1</td>\n      <td>53</td>\n      <td>...</td>\n      <td>0.799</td>\n      <td>0.28</td>\n      <td>0.0</td>\n      <td>0.0842</td>\n      <td>-20.749</td>\n      <td>0.301</td>\n      <td>0.67</td>\n      <td>88.224</td>\n      <td>1</td>\n      <td>2019-08-23</td>\n    </tr>\n    <tr>\n      <th>9848</th>\n      <td>2YZnZZN2AA206ou3bG4HbR</td>\n      <td>Laugh Laugh</td>\n      <td>['4DQj1q0unpi9KF8jO1Wqks']</td>\n      <td>['The Beau Brummels']</td>\n      <td>0</td>\n      <td>False</td>\n      <td>Solo</td>\n      <td>11</td>\n      <td>1</td>\n      <td>79</td>\n      <td>...</td>\n      <td>0.485</td>\n      <td>0.665</td>\n      <td>0.0</td>\n      <td>0.09</td>\n      <td>-8.73</td>\n      <td>0.0744</td>\n      <td>0.757</td>\n      <td>128.604</td>\n      <td>1</td>\n      <td>2019-08-23</td>\n    </tr>\n    <tr>\n      <th>10666</th>\n      <td>6Fh2QgjCxL96dA3Gtpfr4Q</td>\n      <td>One Sweet Day (16-Bit Mariah Carey &amp; Boyz II M...</td>\n      <td>['1v4YnufenjE9BLAfP90qvt']</td>\n      <td>['Arcade Player']</td>\n      <td>0</td>\n      <td>False</td>\n      <td>Solo</td>\n      <td>27</td>\n      <td>1</td>\n      <td>79</td>\n      <td>...</td>\n      <td>0.395</td>\n      <td>0.405</td>\n      <td>0.745</td>\n      <td>0.11</td>\n      <td>-5.559</td>\n      <td>0.0393</td>\n      <td>0.313</td>\n      <td>194.933</td>\n      <td>1</td>\n      <td>2019-08-26</td>\n    </tr>\n  </tbody>\n</table>\n<p>226587 rows × 26 columns</p>\n</div>"
     },
     "execution_count": 42,
     "metadata": {},
     "output_type": "execute_result"
    }
   ],
   "source": [
    "test_df"
   ],
   "metadata": {
    "collapsed": false,
    "ExecuteTime": {
     "end_time": "2024-04-04T20:33:16.992008400Z",
     "start_time": "2024-04-04T20:33:16.690010Z"
    }
   },
   "id": "4aa2a74a75195a81"
  }
 ],
 "metadata": {
  "kernelspec": {
   "display_name": "Python 3",
   "language": "python",
   "name": "python3"
  },
  "language_info": {
   "codemirror_mode": {
    "name": "ipython",
    "version": 2
   },
   "file_extension": ".py",
   "mimetype": "text/x-python",
   "name": "python",
   "nbconvert_exporter": "python",
   "pygments_lexer": "ipython2",
   "version": "2.7.6"
  }
 },
 "nbformat": 4,
 "nbformat_minor": 5
}
