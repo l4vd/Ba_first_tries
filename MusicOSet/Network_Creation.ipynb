{
 "cells": [
  {
   "cell_type": "code",
   "execution_count": 1,
   "id": "initial_id",
   "metadata": {
    "collapsed": true,
    "ExecuteTime": {
     "end_time": "2024-05-14T12:30:13.997109700Z",
     "start_time": "2024-05-14T12:30:13.902108800Z"
    }
   },
   "outputs": [
    {
     "data": {
      "text/plain": "                      song_id  \\\n0      3e9HZxeyfWwjeyPAMmWSSQ   \n1      5p7ujcrUXASCNwRaWNHR1C   \n2      2xLMifQCjDGFmkHkpNLD9h   \n3      3KkXRkHbMCARz0aVfEt68P   \n4      1rqqCSm0Qe4I9rUvWncaom   \n...                       ...   \n11954  5mz9pQZZXNpAw9CdQ7Bk8q   \n11955  2H9CKpZiLDF223BbwehpDF   \n11956  7zqM7Wm2xJLZ50qAnTLoHD   \n11957  4DPlKVZ6R1EHLfnIsy9ouh   \n11958  6RUa3ZwZYnJnNgZxtIYJR9   \n\n                                               song_name  \\\n0                                          thank u, next   \n1                                             Without Me   \n2                                             SICKO MODE   \n3          Sunflower - Spider-Man: Into the Spider-Verse   \n4                                             High Hopes   \n...                                                  ...   \n11954                Don't Pity Me - Mono; 2003 Remaster   \n11955                        Hush Hush; Hush Hush - Main   \n11956                              Lions, Tigers & Bears   \n11957                                         The Weight   \n11958  Purest of Pain (A Puro Dolor) - Martinee's Rad...   \n\n                                              id_artists  \\\n0                             ['66CXWjxzNUsdJxJ2JdwvnR']   \n1                             ['26VFTg2z8YR0cCuwLzESi2']   \n2                             ['0Y5tJX1MQlPlqiwlOH1tJY']   \n3      ['246dkjvS1zLTtiykXe5h60', '1zNqQNIdeOUZHb8zbZ...   \n4                             ['20JZFwl6HVl6yg8a4H3ZqK']   \n...                                                  ...   \n11954                         ['6lHC2EQMEMZiEmSfFloarn']   \n11955                         ['6wPhSqRtPu1UhRCDX5yaDJ']   \n11956                         ['7gSjFKpVmDgC2MMsnN8CYq']   \n11957  ['0rXI0q8Cahq6numvPlloaq', '3RwQ26hR2tJtA8F9p2...   \n11958  ['1qyAl8T6GTcaOViaI7fs1j', '7AOI1S3Uy411dDhNTd...   \n\n                                           name_artists  popularity  explicit  \\\n0                                     ['Ariana Grande']          87      True   \n1                                            ['Halsey']          87      True   \n2                                      ['Travis Scott']          86      True   \n3                           ['Post Malone', 'Swae Lee']          92     False   \n4                               ['Panic! At The Disco']          86     False   \n...                                                 ...         ...       ...   \n11954                              ['Peter And Gordon']           8     False   \n11955                            ['The Pussycat Dolls']          57     False   \n11956                              ['Jazmine Sullivan']          49     False   \n11957  ['Diana Ross & The Supremes', 'The Temptations']           2     False   \n11958                 ['Son By Four', 'Lewis Martinee']          10     False   \n\n           song_type  track_number  num_artists  num_available_markets  ...  \\\n0               Solo            11            1                     79  ...   \n1               Solo             1            1                     79  ...   \n2               Solo             3            1                     79  ...   \n3      Collaboration             2            2                     79  ...   \n4               Solo             4            1                     78  ...   \n...              ...           ...          ...                    ...  ...   \n11954           Solo             1            1                     78  ...   \n11955           Solo             1            1                     59  ...   \n11956           Solo             4            1                     71  ...   \n11957  Collaboration            23            2                     79  ...   \n11958  Collaboration             1            2                     79  ...   \n\n      acousticness  danceability  energy  instrumentalness  liveness  \\\n0          0.22900         0.717   0.653          0.000000    0.1010   \n1          0.29700         0.752   0.488          0.000009    0.0936   \n2          0.00513         0.834   0.730          0.000000    0.1240   \n3          0.55600         0.760   0.479          0.000000    0.0703   \n4          0.19300         0.579   0.904          0.000000    0.0640   \n...            ...           ...     ...               ...       ...   \n11954      0.61900         0.500   0.654          0.000000    0.3320   \n11955      0.10500         0.609   0.790          0.000000    0.3140   \n11956      0.07880         0.576   0.515          0.000000    0.1180   \n11957      0.37000         0.566   0.607          0.000000    0.6710   \n11958      0.45000         0.593   0.939          0.000013    0.1090   \n\n       loudness  speechiness  valence    tempo  hit  \n0        -5.634       0.0658    0.412  106.966    1  \n1        -7.050       0.0705    0.533  136.041    1  \n2        -3.714       0.2220    0.446  155.008    1  \n3        -5.574       0.0466    0.913   89.911    1  \n4        -2.729       0.0618    0.681   82.014    1  \n...         ...          ...      ...      ...  ...  \n11954    -8.633       0.0394    0.403  107.326    1  \n11955    -3.787       0.0663    0.664  129.334    1  \n11956    -6.178       0.0295    0.407   95.406    1  \n11957    -7.532       0.0357    0.765   91.378    1  \n11958    -3.431       0.0616    0.743  134.108    1  \n\n[11959 rows x 25 columns]",
      "text/html": "<div>\n<style scoped>\n    .dataframe tbody tr th:only-of-type {\n        vertical-align: middle;\n    }\n\n    .dataframe tbody tr th {\n        vertical-align: top;\n    }\n\n    .dataframe thead th {\n        text-align: right;\n    }\n</style>\n<table border=\"1\" class=\"dataframe\">\n  <thead>\n    <tr style=\"text-align: right;\">\n      <th></th>\n      <th>song_id</th>\n      <th>song_name</th>\n      <th>id_artists</th>\n      <th>name_artists</th>\n      <th>popularity</th>\n      <th>explicit</th>\n      <th>song_type</th>\n      <th>track_number</th>\n      <th>num_artists</th>\n      <th>num_available_markets</th>\n      <th>...</th>\n      <th>acousticness</th>\n      <th>danceability</th>\n      <th>energy</th>\n      <th>instrumentalness</th>\n      <th>liveness</th>\n      <th>loudness</th>\n      <th>speechiness</th>\n      <th>valence</th>\n      <th>tempo</th>\n      <th>hit</th>\n    </tr>\n  </thead>\n  <tbody>\n    <tr>\n      <th>0</th>\n      <td>3e9HZxeyfWwjeyPAMmWSSQ</td>\n      <td>thank u, next</td>\n      <td>['66CXWjxzNUsdJxJ2JdwvnR']</td>\n      <td>['Ariana Grande']</td>\n      <td>87</td>\n      <td>True</td>\n      <td>Solo</td>\n      <td>11</td>\n      <td>1</td>\n      <td>79</td>\n      <td>...</td>\n      <td>0.22900</td>\n      <td>0.717</td>\n      <td>0.653</td>\n      <td>0.000000</td>\n      <td>0.1010</td>\n      <td>-5.634</td>\n      <td>0.0658</td>\n      <td>0.412</td>\n      <td>106.966</td>\n      <td>1</td>\n    </tr>\n    <tr>\n      <th>1</th>\n      <td>5p7ujcrUXASCNwRaWNHR1C</td>\n      <td>Without Me</td>\n      <td>['26VFTg2z8YR0cCuwLzESi2']</td>\n      <td>['Halsey']</td>\n      <td>87</td>\n      <td>True</td>\n      <td>Solo</td>\n      <td>1</td>\n      <td>1</td>\n      <td>79</td>\n      <td>...</td>\n      <td>0.29700</td>\n      <td>0.752</td>\n      <td>0.488</td>\n      <td>0.000009</td>\n      <td>0.0936</td>\n      <td>-7.050</td>\n      <td>0.0705</td>\n      <td>0.533</td>\n      <td>136.041</td>\n      <td>1</td>\n    </tr>\n    <tr>\n      <th>2</th>\n      <td>2xLMifQCjDGFmkHkpNLD9h</td>\n      <td>SICKO MODE</td>\n      <td>['0Y5tJX1MQlPlqiwlOH1tJY']</td>\n      <td>['Travis Scott']</td>\n      <td>86</td>\n      <td>True</td>\n      <td>Solo</td>\n      <td>3</td>\n      <td>1</td>\n      <td>79</td>\n      <td>...</td>\n      <td>0.00513</td>\n      <td>0.834</td>\n      <td>0.730</td>\n      <td>0.000000</td>\n      <td>0.1240</td>\n      <td>-3.714</td>\n      <td>0.2220</td>\n      <td>0.446</td>\n      <td>155.008</td>\n      <td>1</td>\n    </tr>\n    <tr>\n      <th>3</th>\n      <td>3KkXRkHbMCARz0aVfEt68P</td>\n      <td>Sunflower - Spider-Man: Into the Spider-Verse</td>\n      <td>['246dkjvS1zLTtiykXe5h60', '1zNqQNIdeOUZHb8zbZ...</td>\n      <td>['Post Malone', 'Swae Lee']</td>\n      <td>92</td>\n      <td>False</td>\n      <td>Collaboration</td>\n      <td>2</td>\n      <td>2</td>\n      <td>79</td>\n      <td>...</td>\n      <td>0.55600</td>\n      <td>0.760</td>\n      <td>0.479</td>\n      <td>0.000000</td>\n      <td>0.0703</td>\n      <td>-5.574</td>\n      <td>0.0466</td>\n      <td>0.913</td>\n      <td>89.911</td>\n      <td>1</td>\n    </tr>\n    <tr>\n      <th>4</th>\n      <td>1rqqCSm0Qe4I9rUvWncaom</td>\n      <td>High Hopes</td>\n      <td>['20JZFwl6HVl6yg8a4H3ZqK']</td>\n      <td>['Panic! At The Disco']</td>\n      <td>86</td>\n      <td>False</td>\n      <td>Solo</td>\n      <td>4</td>\n      <td>1</td>\n      <td>78</td>\n      <td>...</td>\n      <td>0.19300</td>\n      <td>0.579</td>\n      <td>0.904</td>\n      <td>0.000000</td>\n      <td>0.0640</td>\n      <td>-2.729</td>\n      <td>0.0618</td>\n      <td>0.681</td>\n      <td>82.014</td>\n      <td>1</td>\n    </tr>\n    <tr>\n      <th>...</th>\n      <td>...</td>\n      <td>...</td>\n      <td>...</td>\n      <td>...</td>\n      <td>...</td>\n      <td>...</td>\n      <td>...</td>\n      <td>...</td>\n      <td>...</td>\n      <td>...</td>\n      <td>...</td>\n      <td>...</td>\n      <td>...</td>\n      <td>...</td>\n      <td>...</td>\n      <td>...</td>\n      <td>...</td>\n      <td>...</td>\n      <td>...</td>\n      <td>...</td>\n      <td>...</td>\n    </tr>\n    <tr>\n      <th>11954</th>\n      <td>5mz9pQZZXNpAw9CdQ7Bk8q</td>\n      <td>Don't Pity Me - Mono; 2003 Remaster</td>\n      <td>['6lHC2EQMEMZiEmSfFloarn']</td>\n      <td>['Peter And Gordon']</td>\n      <td>8</td>\n      <td>False</td>\n      <td>Solo</td>\n      <td>1</td>\n      <td>1</td>\n      <td>78</td>\n      <td>...</td>\n      <td>0.61900</td>\n      <td>0.500</td>\n      <td>0.654</td>\n      <td>0.000000</td>\n      <td>0.3320</td>\n      <td>-8.633</td>\n      <td>0.0394</td>\n      <td>0.403</td>\n      <td>107.326</td>\n      <td>1</td>\n    </tr>\n    <tr>\n      <th>11955</th>\n      <td>2H9CKpZiLDF223BbwehpDF</td>\n      <td>Hush Hush; Hush Hush - Main</td>\n      <td>['6wPhSqRtPu1UhRCDX5yaDJ']</td>\n      <td>['The Pussycat Dolls']</td>\n      <td>57</td>\n      <td>False</td>\n      <td>Solo</td>\n      <td>1</td>\n      <td>1</td>\n      <td>59</td>\n      <td>...</td>\n      <td>0.10500</td>\n      <td>0.609</td>\n      <td>0.790</td>\n      <td>0.000000</td>\n      <td>0.3140</td>\n      <td>-3.787</td>\n      <td>0.0663</td>\n      <td>0.664</td>\n      <td>129.334</td>\n      <td>1</td>\n    </tr>\n    <tr>\n      <th>11956</th>\n      <td>7zqM7Wm2xJLZ50qAnTLoHD</td>\n      <td>Lions, Tigers &amp; Bears</td>\n      <td>['7gSjFKpVmDgC2MMsnN8CYq']</td>\n      <td>['Jazmine Sullivan']</td>\n      <td>49</td>\n      <td>False</td>\n      <td>Solo</td>\n      <td>4</td>\n      <td>1</td>\n      <td>71</td>\n      <td>...</td>\n      <td>0.07880</td>\n      <td>0.576</td>\n      <td>0.515</td>\n      <td>0.000000</td>\n      <td>0.1180</td>\n      <td>-6.178</td>\n      <td>0.0295</td>\n      <td>0.407</td>\n      <td>95.406</td>\n      <td>1</td>\n    </tr>\n    <tr>\n      <th>11957</th>\n      <td>4DPlKVZ6R1EHLfnIsy9ouh</td>\n      <td>The Weight</td>\n      <td>['0rXI0q8Cahq6numvPlloaq', '3RwQ26hR2tJtA8F9p2...</td>\n      <td>['Diana Ross &amp; The Supremes', 'The Temptations']</td>\n      <td>2</td>\n      <td>False</td>\n      <td>Collaboration</td>\n      <td>23</td>\n      <td>2</td>\n      <td>79</td>\n      <td>...</td>\n      <td>0.37000</td>\n      <td>0.566</td>\n      <td>0.607</td>\n      <td>0.000000</td>\n      <td>0.6710</td>\n      <td>-7.532</td>\n      <td>0.0357</td>\n      <td>0.765</td>\n      <td>91.378</td>\n      <td>1</td>\n    </tr>\n    <tr>\n      <th>11958</th>\n      <td>6RUa3ZwZYnJnNgZxtIYJR9</td>\n      <td>Purest of Pain (A Puro Dolor) - Martinee's Rad...</td>\n      <td>['1qyAl8T6GTcaOViaI7fs1j', '7AOI1S3Uy411dDhNTd...</td>\n      <td>['Son By Four', 'Lewis Martinee']</td>\n      <td>10</td>\n      <td>False</td>\n      <td>Collaboration</td>\n      <td>1</td>\n      <td>2</td>\n      <td>79</td>\n      <td>...</td>\n      <td>0.45000</td>\n      <td>0.593</td>\n      <td>0.939</td>\n      <td>0.000013</td>\n      <td>0.1090</td>\n      <td>-3.431</td>\n      <td>0.0616</td>\n      <td>0.743</td>\n      <td>134.108</td>\n      <td>1</td>\n    </tr>\n  </tbody>\n</table>\n<p>11959 rows × 25 columns</p>\n</div>"
     },
     "execution_count": 1,
     "metadata": {},
     "output_type": "execute_result"
    }
   ],
   "source": [
    "import pandas as pd\n",
    "import matplotlib.pyplot as plt\n",
    "\n",
    "df_hits = pd.read_csv(\"additional/hits_dataset.csv\", delimiter=\"\\t\")\n",
    "df_hits[\"hit\"] = 1\n",
    "df_hits"
   ]
  },
  {
   "cell_type": "code",
   "execution_count": 2,
   "outputs": [
    {
     "name": "stderr",
     "output_type": "stream",
     "text": [
      "C:\\Users\\lasse\\AppData\\Local\\Temp\\ipykernel_19420\\2533836516.py:1: DtypeWarning: Columns (11,12,13,14,15,16,17,18,19,20,21,22,23) have mixed types. Specify dtype option on import or set low_memory=False.\n",
      "  df_nonhits = pd.read_csv(\"additional/nonhits_dataset.csv\", delimiter=\"\\t\")\n"
     ]
    },
    {
     "data": {
      "text/plain": "                       song_id  \\\n0       1TEL6MlSSVLSdhOSddidlJ   \n1       4uTvPEr01pjTbZgl7jcKBD   \n2       2hloaUoRonYssMuqLCBLTX   \n3       3wFLWP0FcIqHK1wb1CPthQ   \n4       5Il6Oe7lr5XM7A0cWbVQtr   \n...                        ...   \n899063  2tP0ryZParpdjvxubgXhTN   \n899064  7Ltni80U0w7bmYjXPNzSEa   \n899065  1gQClXN1Dq4rj0wBzddcNA   \n899066  2jhxQrFNdVPkWL28X7ZpeK   \n899067  6KkbkpUObAqcKGEfvguHJO   \n\n                                               song_name  \\\n0                                                  needy   \n1                                                   NASA   \n2                                              bloodline   \n3                                             fake smile   \n4                                               bad idea   \n...                                                  ...   \n899063                              Love Is Here to Stay   \n899064                                 Heinlein's Planet   \n899065     Beds are Burning - Karaoke Lead Vocal Version   \n899066  Un homme heureux - Version karaoké instrumentale   \n899067                     Santa Claus Is Coming to Town   \n\n                                               id_artists  \\\n0                              ['66CXWjxzNUsdJxJ2JdwvnR']   \n1                              ['66CXWjxzNUsdJxJ2JdwvnR']   \n2                              ['66CXWjxzNUsdJxJ2JdwvnR']   \n3                              ['66CXWjxzNUsdJxJ2JdwvnR']   \n4                              ['66CXWjxzNUsdJxJ2JdwvnR']   \n...                                                   ...   \n899063  ['3Dzj993UEz8Z5ovxuirzFO', '6RCsx4p5smZHYz2P5H...   \n899064                         ['4urvwbid7NFoVes5PTx9lV']   \n899065                         ['7yv4DJOCmilSbxxsdQgXWk']   \n899066                         ['7yv4DJOCmilSbxxsdQgXWk']   \n899067                         ['7tdO7d7r0vhwov7RIZWH6V']   \n\n                                     name_artists  popularity  explicit  \\\n0                               ['Ariana Grande']          76      True   \n1                               ['Ariana Grande']          76     False   \n2                               ['Ariana Grande']          74      True   \n3                               ['Ariana Grande']          73      True   \n4                               ['Ariana Grande']          74     False   \n...                                           ...         ...       ...   \n899063  ['Lindsey Buckingham', 'Christine McVie']          16     False   \n899064                             ['Tony Carey']           0     False   \n899065                             ['Pictomusic']           0     False   \n899066                             ['Pictomusic']           0     False   \n899067                            ['Mitch Ryder']           0     False   \n\n            song_type  track_number  num_artists  num_available_markets  ...  \\\n0                Solo             2            1                     79  ...   \n1                Solo             3            1                     79  ...   \n2                Solo             4            1                     79  ...   \n3                Solo             5            1                     79  ...   \n4                Solo             6            1                     79  ...   \n...               ...           ...          ...                    ...  ...   \n899063  Collaboration             5            2                      1  ...   \n899064           Solo             5            1                     79  ...   \n899065           Solo             2            1                     79  ...   \n899066           Solo             1            1                     79  ...   \n899067           Solo             3            1                     79  ...   \n\n       acousticness danceability energy instrumentalness liveness loudness  \\\n0              0.78        0.647  0.309         7.41e-06    0.202   -7.948   \n1             0.451        0.747  0.458                0    0.252   -6.891   \n2            0.0815        0.758  0.665         0.000157    0.216   -5.188   \n3             0.329         0.45  0.619                0    0.319   -7.412   \n4            0.0268        0.847  0.579           0.0545    0.102   -5.314   \n...             ...          ...    ...              ...      ...      ...   \n899063        0.366        0.446  0.658         2.49e-05    0.751   -8.362   \n899064        0.481        0.305  0.456            0.933    0.111  -20.199   \n899065       0.0118        0.852  0.648                0   0.0503   -7.189   \n899066        0.973        0.664  0.353            0.787   0.0878  -12.303   \n899067        0.386        0.651  0.896          0.00163   0.0734   -6.004   \n\n       speechiness valence    tempo hit  \n0           0.0366   0.195   87.045   0  \n1            0.303    0.47   75.029   0  \n2           0.0774   0.643  151.976   0  \n3            0.372   0.427     83.3   0  \n4           0.0719   0.569  137.998   0  \n...            ...     ...      ...  ..  \n899063      0.0297   0.554    84.74   0  \n899064      0.0634   0.171   96.996   0  \n899065       0.048   0.559   120.15   0  \n899066      0.0693   0.284   116.45   0  \n899067      0.0327   0.893  148.107   0  \n\n[899068 rows x 25 columns]",
      "text/html": "<div>\n<style scoped>\n    .dataframe tbody tr th:only-of-type {\n        vertical-align: middle;\n    }\n\n    .dataframe tbody tr th {\n        vertical-align: top;\n    }\n\n    .dataframe thead th {\n        text-align: right;\n    }\n</style>\n<table border=\"1\" class=\"dataframe\">\n  <thead>\n    <tr style=\"text-align: right;\">\n      <th></th>\n      <th>song_id</th>\n      <th>song_name</th>\n      <th>id_artists</th>\n      <th>name_artists</th>\n      <th>popularity</th>\n      <th>explicit</th>\n      <th>song_type</th>\n      <th>track_number</th>\n      <th>num_artists</th>\n      <th>num_available_markets</th>\n      <th>...</th>\n      <th>acousticness</th>\n      <th>danceability</th>\n      <th>energy</th>\n      <th>instrumentalness</th>\n      <th>liveness</th>\n      <th>loudness</th>\n      <th>speechiness</th>\n      <th>valence</th>\n      <th>tempo</th>\n      <th>hit</th>\n    </tr>\n  </thead>\n  <tbody>\n    <tr>\n      <th>0</th>\n      <td>1TEL6MlSSVLSdhOSddidlJ</td>\n      <td>needy</td>\n      <td>['66CXWjxzNUsdJxJ2JdwvnR']</td>\n      <td>['Ariana Grande']</td>\n      <td>76</td>\n      <td>True</td>\n      <td>Solo</td>\n      <td>2</td>\n      <td>1</td>\n      <td>79</td>\n      <td>...</td>\n      <td>0.78</td>\n      <td>0.647</td>\n      <td>0.309</td>\n      <td>7.41e-06</td>\n      <td>0.202</td>\n      <td>-7.948</td>\n      <td>0.0366</td>\n      <td>0.195</td>\n      <td>87.045</td>\n      <td>0</td>\n    </tr>\n    <tr>\n      <th>1</th>\n      <td>4uTvPEr01pjTbZgl7jcKBD</td>\n      <td>NASA</td>\n      <td>['66CXWjxzNUsdJxJ2JdwvnR']</td>\n      <td>['Ariana Grande']</td>\n      <td>76</td>\n      <td>False</td>\n      <td>Solo</td>\n      <td>3</td>\n      <td>1</td>\n      <td>79</td>\n      <td>...</td>\n      <td>0.451</td>\n      <td>0.747</td>\n      <td>0.458</td>\n      <td>0</td>\n      <td>0.252</td>\n      <td>-6.891</td>\n      <td>0.303</td>\n      <td>0.47</td>\n      <td>75.029</td>\n      <td>0</td>\n    </tr>\n    <tr>\n      <th>2</th>\n      <td>2hloaUoRonYssMuqLCBLTX</td>\n      <td>bloodline</td>\n      <td>['66CXWjxzNUsdJxJ2JdwvnR']</td>\n      <td>['Ariana Grande']</td>\n      <td>74</td>\n      <td>True</td>\n      <td>Solo</td>\n      <td>4</td>\n      <td>1</td>\n      <td>79</td>\n      <td>...</td>\n      <td>0.0815</td>\n      <td>0.758</td>\n      <td>0.665</td>\n      <td>0.000157</td>\n      <td>0.216</td>\n      <td>-5.188</td>\n      <td>0.0774</td>\n      <td>0.643</td>\n      <td>151.976</td>\n      <td>0</td>\n    </tr>\n    <tr>\n      <th>3</th>\n      <td>3wFLWP0FcIqHK1wb1CPthQ</td>\n      <td>fake smile</td>\n      <td>['66CXWjxzNUsdJxJ2JdwvnR']</td>\n      <td>['Ariana Grande']</td>\n      <td>73</td>\n      <td>True</td>\n      <td>Solo</td>\n      <td>5</td>\n      <td>1</td>\n      <td>79</td>\n      <td>...</td>\n      <td>0.329</td>\n      <td>0.45</td>\n      <td>0.619</td>\n      <td>0</td>\n      <td>0.319</td>\n      <td>-7.412</td>\n      <td>0.372</td>\n      <td>0.427</td>\n      <td>83.3</td>\n      <td>0</td>\n    </tr>\n    <tr>\n      <th>4</th>\n      <td>5Il6Oe7lr5XM7A0cWbVQtr</td>\n      <td>bad idea</td>\n      <td>['66CXWjxzNUsdJxJ2JdwvnR']</td>\n      <td>['Ariana Grande']</td>\n      <td>74</td>\n      <td>False</td>\n      <td>Solo</td>\n      <td>6</td>\n      <td>1</td>\n      <td>79</td>\n      <td>...</td>\n      <td>0.0268</td>\n      <td>0.847</td>\n      <td>0.579</td>\n      <td>0.0545</td>\n      <td>0.102</td>\n      <td>-5.314</td>\n      <td>0.0719</td>\n      <td>0.569</td>\n      <td>137.998</td>\n      <td>0</td>\n    </tr>\n    <tr>\n      <th>...</th>\n      <td>...</td>\n      <td>...</td>\n      <td>...</td>\n      <td>...</td>\n      <td>...</td>\n      <td>...</td>\n      <td>...</td>\n      <td>...</td>\n      <td>...</td>\n      <td>...</td>\n      <td>...</td>\n      <td>...</td>\n      <td>...</td>\n      <td>...</td>\n      <td>...</td>\n      <td>...</td>\n      <td>...</td>\n      <td>...</td>\n      <td>...</td>\n      <td>...</td>\n      <td>...</td>\n    </tr>\n    <tr>\n      <th>899063</th>\n      <td>2tP0ryZParpdjvxubgXhTN</td>\n      <td>Love Is Here to Stay</td>\n      <td>['3Dzj993UEz8Z5ovxuirzFO', '6RCsx4p5smZHYz2P5H...</td>\n      <td>['Lindsey Buckingham', 'Christine McVie']</td>\n      <td>16</td>\n      <td>False</td>\n      <td>Collaboration</td>\n      <td>5</td>\n      <td>2</td>\n      <td>1</td>\n      <td>...</td>\n      <td>0.366</td>\n      <td>0.446</td>\n      <td>0.658</td>\n      <td>2.49e-05</td>\n      <td>0.751</td>\n      <td>-8.362</td>\n      <td>0.0297</td>\n      <td>0.554</td>\n      <td>84.74</td>\n      <td>0</td>\n    </tr>\n    <tr>\n      <th>899064</th>\n      <td>7Ltni80U0w7bmYjXPNzSEa</td>\n      <td>Heinlein's Planet</td>\n      <td>['4urvwbid7NFoVes5PTx9lV']</td>\n      <td>['Tony Carey']</td>\n      <td>0</td>\n      <td>False</td>\n      <td>Solo</td>\n      <td>5</td>\n      <td>1</td>\n      <td>79</td>\n      <td>...</td>\n      <td>0.481</td>\n      <td>0.305</td>\n      <td>0.456</td>\n      <td>0.933</td>\n      <td>0.111</td>\n      <td>-20.199</td>\n      <td>0.0634</td>\n      <td>0.171</td>\n      <td>96.996</td>\n      <td>0</td>\n    </tr>\n    <tr>\n      <th>899065</th>\n      <td>1gQClXN1Dq4rj0wBzddcNA</td>\n      <td>Beds are Burning - Karaoke Lead Vocal Version</td>\n      <td>['7yv4DJOCmilSbxxsdQgXWk']</td>\n      <td>['Pictomusic']</td>\n      <td>0</td>\n      <td>False</td>\n      <td>Solo</td>\n      <td>2</td>\n      <td>1</td>\n      <td>79</td>\n      <td>...</td>\n      <td>0.0118</td>\n      <td>0.852</td>\n      <td>0.648</td>\n      <td>0</td>\n      <td>0.0503</td>\n      <td>-7.189</td>\n      <td>0.048</td>\n      <td>0.559</td>\n      <td>120.15</td>\n      <td>0</td>\n    </tr>\n    <tr>\n      <th>899066</th>\n      <td>2jhxQrFNdVPkWL28X7ZpeK</td>\n      <td>Un homme heureux - Version karaoké instrumentale</td>\n      <td>['7yv4DJOCmilSbxxsdQgXWk']</td>\n      <td>['Pictomusic']</td>\n      <td>0</td>\n      <td>False</td>\n      <td>Solo</td>\n      <td>1</td>\n      <td>1</td>\n      <td>79</td>\n      <td>...</td>\n      <td>0.973</td>\n      <td>0.664</td>\n      <td>0.353</td>\n      <td>0.787</td>\n      <td>0.0878</td>\n      <td>-12.303</td>\n      <td>0.0693</td>\n      <td>0.284</td>\n      <td>116.45</td>\n      <td>0</td>\n    </tr>\n    <tr>\n      <th>899067</th>\n      <td>6KkbkpUObAqcKGEfvguHJO</td>\n      <td>Santa Claus Is Coming to Town</td>\n      <td>['7tdO7d7r0vhwov7RIZWH6V']</td>\n      <td>['Mitch Ryder']</td>\n      <td>0</td>\n      <td>False</td>\n      <td>Solo</td>\n      <td>3</td>\n      <td>1</td>\n      <td>79</td>\n      <td>...</td>\n      <td>0.386</td>\n      <td>0.651</td>\n      <td>0.896</td>\n      <td>0.00163</td>\n      <td>0.0734</td>\n      <td>-6.004</td>\n      <td>0.0327</td>\n      <td>0.893</td>\n      <td>148.107</td>\n      <td>0</td>\n    </tr>\n  </tbody>\n</table>\n<p>899068 rows × 25 columns</p>\n</div>"
     },
     "execution_count": 2,
     "metadata": {},
     "output_type": "execute_result"
    }
   ],
   "source": [
    "df_nonhits = pd.read_csv(\"additional/nonhits_dataset.csv\", delimiter=\"\\t\")\n",
    "df_nonhits[\"hit\"] = 0\n",
    "df_nonhits"
   ],
   "metadata": {
    "collapsed": false,
    "ExecuteTime": {
     "end_time": "2024-05-14T12:30:18.036109500Z",
     "start_time": "2024-05-14T12:30:13.982112200Z"
    }
   },
   "id": "26d5e57f02f1e85d"
  },
  {
   "cell_type": "code",
   "execution_count": 3,
   "outputs": [
    {
     "data": {
      "text/plain": "                       song_id  \\\n0       3e9HZxeyfWwjeyPAMmWSSQ   \n1       5p7ujcrUXASCNwRaWNHR1C   \n2       2xLMifQCjDGFmkHkpNLD9h   \n3       3KkXRkHbMCARz0aVfEt68P   \n4       1rqqCSm0Qe4I9rUvWncaom   \n...                        ...   \n899063  2tP0ryZParpdjvxubgXhTN   \n899064  7Ltni80U0w7bmYjXPNzSEa   \n899065  1gQClXN1Dq4rj0wBzddcNA   \n899066  2jhxQrFNdVPkWL28X7ZpeK   \n899067  6KkbkpUObAqcKGEfvguHJO   \n\n                                               song_name  \\\n0                                          thank u, next   \n1                                             Without Me   \n2                                             SICKO MODE   \n3          Sunflower - Spider-Man: Into the Spider-Verse   \n4                                             High Hopes   \n...                                                  ...   \n899063                              Love Is Here to Stay   \n899064                                 Heinlein's Planet   \n899065     Beds are Burning - Karaoke Lead Vocal Version   \n899066  Un homme heureux - Version karaoké instrumentale   \n899067                     Santa Claus Is Coming to Town   \n\n                                               id_artists  \\\n0                              ['66CXWjxzNUsdJxJ2JdwvnR']   \n1                              ['26VFTg2z8YR0cCuwLzESi2']   \n2                              ['0Y5tJX1MQlPlqiwlOH1tJY']   \n3       ['246dkjvS1zLTtiykXe5h60', '1zNqQNIdeOUZHb8zbZ...   \n4                              ['20JZFwl6HVl6yg8a4H3ZqK']   \n...                                                   ...   \n899063  ['3Dzj993UEz8Z5ovxuirzFO', '6RCsx4p5smZHYz2P5H...   \n899064                         ['4urvwbid7NFoVes5PTx9lV']   \n899065                         ['7yv4DJOCmilSbxxsdQgXWk']   \n899066                         ['7yv4DJOCmilSbxxsdQgXWk']   \n899067                         ['7tdO7d7r0vhwov7RIZWH6V']   \n\n                                     name_artists  popularity  explicit  \\\n0                               ['Ariana Grande']          87      True   \n1                                      ['Halsey']          87      True   \n2                                ['Travis Scott']          86      True   \n3                     ['Post Malone', 'Swae Lee']          92     False   \n4                         ['Panic! At The Disco']          86     False   \n...                                           ...         ...       ...   \n899063  ['Lindsey Buckingham', 'Christine McVie']          16     False   \n899064                             ['Tony Carey']           0     False   \n899065                             ['Pictomusic']           0     False   \n899066                             ['Pictomusic']           0     False   \n899067                            ['Mitch Ryder']           0     False   \n\n            song_type  track_number  num_artists  num_available_markets  ...  \\\n0                Solo            11            1                     79  ...   \n1                Solo             1            1                     79  ...   \n2                Solo             3            1                     79  ...   \n3       Collaboration             2            2                     79  ...   \n4                Solo             4            1                     78  ...   \n...               ...           ...          ...                    ...  ...   \n899063  Collaboration             5            2                      1  ...   \n899064           Solo             5            1                     79  ...   \n899065           Solo             2            1                     79  ...   \n899066           Solo             1            1                     79  ...   \n899067           Solo             3            1                     79  ...   \n\n       acousticness danceability energy instrumentalness liveness loudness  \\\n0             0.229        0.717  0.653              0.0    0.101   -5.634   \n1             0.297        0.752  0.488         0.000009   0.0936    -7.05   \n2           0.00513        0.834   0.73              0.0    0.124   -3.714   \n3             0.556         0.76  0.479              0.0   0.0703   -5.574   \n4             0.193        0.579  0.904              0.0    0.064   -2.729   \n...             ...          ...    ...              ...      ...      ...   \n899063        0.366        0.446  0.658         2.49e-05    0.751   -8.362   \n899064        0.481        0.305  0.456            0.933    0.111  -20.199   \n899065       0.0118        0.852  0.648                0   0.0503   -7.189   \n899066        0.973        0.664  0.353            0.787   0.0878  -12.303   \n899067        0.386        0.651  0.896          0.00163   0.0734   -6.004   \n\n       speechiness valence    tempo hit  \n0           0.0658   0.412  106.966   1  \n1           0.0705   0.533  136.041   1  \n2            0.222   0.446  155.008   1  \n3           0.0466   0.913   89.911   1  \n4           0.0618   0.681   82.014   1  \n...            ...     ...      ...  ..  \n899063      0.0297   0.554    84.74   0  \n899064      0.0634   0.171   96.996   0  \n899065       0.048   0.559   120.15   0  \n899066      0.0693   0.284   116.45   0  \n899067      0.0327   0.893  148.107   0  \n\n[911027 rows x 25 columns]",
      "text/html": "<div>\n<style scoped>\n    .dataframe tbody tr th:only-of-type {\n        vertical-align: middle;\n    }\n\n    .dataframe tbody tr th {\n        vertical-align: top;\n    }\n\n    .dataframe thead th {\n        text-align: right;\n    }\n</style>\n<table border=\"1\" class=\"dataframe\">\n  <thead>\n    <tr style=\"text-align: right;\">\n      <th></th>\n      <th>song_id</th>\n      <th>song_name</th>\n      <th>id_artists</th>\n      <th>name_artists</th>\n      <th>popularity</th>\n      <th>explicit</th>\n      <th>song_type</th>\n      <th>track_number</th>\n      <th>num_artists</th>\n      <th>num_available_markets</th>\n      <th>...</th>\n      <th>acousticness</th>\n      <th>danceability</th>\n      <th>energy</th>\n      <th>instrumentalness</th>\n      <th>liveness</th>\n      <th>loudness</th>\n      <th>speechiness</th>\n      <th>valence</th>\n      <th>tempo</th>\n      <th>hit</th>\n    </tr>\n  </thead>\n  <tbody>\n    <tr>\n      <th>0</th>\n      <td>3e9HZxeyfWwjeyPAMmWSSQ</td>\n      <td>thank u, next</td>\n      <td>['66CXWjxzNUsdJxJ2JdwvnR']</td>\n      <td>['Ariana Grande']</td>\n      <td>87</td>\n      <td>True</td>\n      <td>Solo</td>\n      <td>11</td>\n      <td>1</td>\n      <td>79</td>\n      <td>...</td>\n      <td>0.229</td>\n      <td>0.717</td>\n      <td>0.653</td>\n      <td>0.0</td>\n      <td>0.101</td>\n      <td>-5.634</td>\n      <td>0.0658</td>\n      <td>0.412</td>\n      <td>106.966</td>\n      <td>1</td>\n    </tr>\n    <tr>\n      <th>1</th>\n      <td>5p7ujcrUXASCNwRaWNHR1C</td>\n      <td>Without Me</td>\n      <td>['26VFTg2z8YR0cCuwLzESi2']</td>\n      <td>['Halsey']</td>\n      <td>87</td>\n      <td>True</td>\n      <td>Solo</td>\n      <td>1</td>\n      <td>1</td>\n      <td>79</td>\n      <td>...</td>\n      <td>0.297</td>\n      <td>0.752</td>\n      <td>0.488</td>\n      <td>0.000009</td>\n      <td>0.0936</td>\n      <td>-7.05</td>\n      <td>0.0705</td>\n      <td>0.533</td>\n      <td>136.041</td>\n      <td>1</td>\n    </tr>\n    <tr>\n      <th>2</th>\n      <td>2xLMifQCjDGFmkHkpNLD9h</td>\n      <td>SICKO MODE</td>\n      <td>['0Y5tJX1MQlPlqiwlOH1tJY']</td>\n      <td>['Travis Scott']</td>\n      <td>86</td>\n      <td>True</td>\n      <td>Solo</td>\n      <td>3</td>\n      <td>1</td>\n      <td>79</td>\n      <td>...</td>\n      <td>0.00513</td>\n      <td>0.834</td>\n      <td>0.73</td>\n      <td>0.0</td>\n      <td>0.124</td>\n      <td>-3.714</td>\n      <td>0.222</td>\n      <td>0.446</td>\n      <td>155.008</td>\n      <td>1</td>\n    </tr>\n    <tr>\n      <th>3</th>\n      <td>3KkXRkHbMCARz0aVfEt68P</td>\n      <td>Sunflower - Spider-Man: Into the Spider-Verse</td>\n      <td>['246dkjvS1zLTtiykXe5h60', '1zNqQNIdeOUZHb8zbZ...</td>\n      <td>['Post Malone', 'Swae Lee']</td>\n      <td>92</td>\n      <td>False</td>\n      <td>Collaboration</td>\n      <td>2</td>\n      <td>2</td>\n      <td>79</td>\n      <td>...</td>\n      <td>0.556</td>\n      <td>0.76</td>\n      <td>0.479</td>\n      <td>0.0</td>\n      <td>0.0703</td>\n      <td>-5.574</td>\n      <td>0.0466</td>\n      <td>0.913</td>\n      <td>89.911</td>\n      <td>1</td>\n    </tr>\n    <tr>\n      <th>4</th>\n      <td>1rqqCSm0Qe4I9rUvWncaom</td>\n      <td>High Hopes</td>\n      <td>['20JZFwl6HVl6yg8a4H3ZqK']</td>\n      <td>['Panic! At The Disco']</td>\n      <td>86</td>\n      <td>False</td>\n      <td>Solo</td>\n      <td>4</td>\n      <td>1</td>\n      <td>78</td>\n      <td>...</td>\n      <td>0.193</td>\n      <td>0.579</td>\n      <td>0.904</td>\n      <td>0.0</td>\n      <td>0.064</td>\n      <td>-2.729</td>\n      <td>0.0618</td>\n      <td>0.681</td>\n      <td>82.014</td>\n      <td>1</td>\n    </tr>\n    <tr>\n      <th>...</th>\n      <td>...</td>\n      <td>...</td>\n      <td>...</td>\n      <td>...</td>\n      <td>...</td>\n      <td>...</td>\n      <td>...</td>\n      <td>...</td>\n      <td>...</td>\n      <td>...</td>\n      <td>...</td>\n      <td>...</td>\n      <td>...</td>\n      <td>...</td>\n      <td>...</td>\n      <td>...</td>\n      <td>...</td>\n      <td>...</td>\n      <td>...</td>\n      <td>...</td>\n      <td>...</td>\n    </tr>\n    <tr>\n      <th>899063</th>\n      <td>2tP0ryZParpdjvxubgXhTN</td>\n      <td>Love Is Here to Stay</td>\n      <td>['3Dzj993UEz8Z5ovxuirzFO', '6RCsx4p5smZHYz2P5H...</td>\n      <td>['Lindsey Buckingham', 'Christine McVie']</td>\n      <td>16</td>\n      <td>False</td>\n      <td>Collaboration</td>\n      <td>5</td>\n      <td>2</td>\n      <td>1</td>\n      <td>...</td>\n      <td>0.366</td>\n      <td>0.446</td>\n      <td>0.658</td>\n      <td>2.49e-05</td>\n      <td>0.751</td>\n      <td>-8.362</td>\n      <td>0.0297</td>\n      <td>0.554</td>\n      <td>84.74</td>\n      <td>0</td>\n    </tr>\n    <tr>\n      <th>899064</th>\n      <td>7Ltni80U0w7bmYjXPNzSEa</td>\n      <td>Heinlein's Planet</td>\n      <td>['4urvwbid7NFoVes5PTx9lV']</td>\n      <td>['Tony Carey']</td>\n      <td>0</td>\n      <td>False</td>\n      <td>Solo</td>\n      <td>5</td>\n      <td>1</td>\n      <td>79</td>\n      <td>...</td>\n      <td>0.481</td>\n      <td>0.305</td>\n      <td>0.456</td>\n      <td>0.933</td>\n      <td>0.111</td>\n      <td>-20.199</td>\n      <td>0.0634</td>\n      <td>0.171</td>\n      <td>96.996</td>\n      <td>0</td>\n    </tr>\n    <tr>\n      <th>899065</th>\n      <td>1gQClXN1Dq4rj0wBzddcNA</td>\n      <td>Beds are Burning - Karaoke Lead Vocal Version</td>\n      <td>['7yv4DJOCmilSbxxsdQgXWk']</td>\n      <td>['Pictomusic']</td>\n      <td>0</td>\n      <td>False</td>\n      <td>Solo</td>\n      <td>2</td>\n      <td>1</td>\n      <td>79</td>\n      <td>...</td>\n      <td>0.0118</td>\n      <td>0.852</td>\n      <td>0.648</td>\n      <td>0</td>\n      <td>0.0503</td>\n      <td>-7.189</td>\n      <td>0.048</td>\n      <td>0.559</td>\n      <td>120.15</td>\n      <td>0</td>\n    </tr>\n    <tr>\n      <th>899066</th>\n      <td>2jhxQrFNdVPkWL28X7ZpeK</td>\n      <td>Un homme heureux - Version karaoké instrumentale</td>\n      <td>['7yv4DJOCmilSbxxsdQgXWk']</td>\n      <td>['Pictomusic']</td>\n      <td>0</td>\n      <td>False</td>\n      <td>Solo</td>\n      <td>1</td>\n      <td>1</td>\n      <td>79</td>\n      <td>...</td>\n      <td>0.973</td>\n      <td>0.664</td>\n      <td>0.353</td>\n      <td>0.787</td>\n      <td>0.0878</td>\n      <td>-12.303</td>\n      <td>0.0693</td>\n      <td>0.284</td>\n      <td>116.45</td>\n      <td>0</td>\n    </tr>\n    <tr>\n      <th>899067</th>\n      <td>6KkbkpUObAqcKGEfvguHJO</td>\n      <td>Santa Claus Is Coming to Town</td>\n      <td>['7tdO7d7r0vhwov7RIZWH6V']</td>\n      <td>['Mitch Ryder']</td>\n      <td>0</td>\n      <td>False</td>\n      <td>Solo</td>\n      <td>3</td>\n      <td>1</td>\n      <td>79</td>\n      <td>...</td>\n      <td>0.386</td>\n      <td>0.651</td>\n      <td>0.896</td>\n      <td>0.00163</td>\n      <td>0.0734</td>\n      <td>-6.004</td>\n      <td>0.0327</td>\n      <td>0.893</td>\n      <td>148.107</td>\n      <td>0</td>\n    </tr>\n  </tbody>\n</table>\n<p>911027 rows × 25 columns</p>\n</div>"
     },
     "execution_count": 3,
     "metadata": {},
     "output_type": "execute_result"
    }
   ],
   "source": [
    "combined_df = pd.concat([df_hits, df_nonhits], axis=0)\n",
    "combined_df.replace(\"-\", float(\"nan\"), inplace=True)\n",
    "# Drop all rows with NaN values\n",
    "combined_df"
   ],
   "metadata": {
    "collapsed": false,
    "ExecuteTime": {
     "end_time": "2024-05-14T12:30:20.061635800Z",
     "start_time": "2024-05-14T12:30:18.035110700Z"
    }
   },
   "id": "6f9b2d1a6293f615"
  },
  {
   "cell_type": "code",
   "execution_count": 4,
   "outputs": [
    {
     "name": "stdout",
     "output_type": "stream",
     "text": [
      "Columns with NaN values:\n",
      "['duration_ms', 'key', 'mode', 'time_signature', 'acousticness', 'danceability', 'energy', 'instrumentalness', 'liveness', 'loudness', 'speechiness', 'valence', 'tempo']\n"
     ]
    }
   ],
   "source": [
    "# Check for NaN values in all columns\n",
    "nan_columns = combined_df.columns[combined_df.isna().any()].tolist()\n",
    "\n",
    "# Print columns with NaN values\n",
    "print(\"Columns with NaN values:\")\n",
    "print(nan_columns)\n"
   ],
   "metadata": {
    "collapsed": false,
    "ExecuteTime": {
     "end_time": "2024-05-14T12:30:20.409634600Z",
     "start_time": "2024-05-14T12:30:20.056634Z"
    }
   },
   "id": "8756697fa413e9af"
  },
  {
   "cell_type": "code",
   "execution_count": 5,
   "outputs": [
    {
     "data": {
      "text/plain": "                       song_id  \\\n0       3e9HZxeyfWwjeyPAMmWSSQ   \n1       5p7ujcrUXASCNwRaWNHR1C   \n2       2xLMifQCjDGFmkHkpNLD9h   \n3       3KkXRkHbMCARz0aVfEt68P   \n4       1rqqCSm0Qe4I9rUvWncaom   \n...                        ...   \n899063  2tP0ryZParpdjvxubgXhTN   \n899064  7Ltni80U0w7bmYjXPNzSEa   \n899065  1gQClXN1Dq4rj0wBzddcNA   \n899066  2jhxQrFNdVPkWL28X7ZpeK   \n899067  6KkbkpUObAqcKGEfvguHJO   \n\n                                               song_name  \\\n0                                          thank u, next   \n1                                             Without Me   \n2                                             SICKO MODE   \n3          Sunflower - Spider-Man: Into the Spider-Verse   \n4                                             High Hopes   \n...                                                  ...   \n899063                              Love Is Here to Stay   \n899064                                 Heinlein's Planet   \n899065     Beds are Burning - Karaoke Lead Vocal Version   \n899066  Un homme heureux - Version karaoké instrumentale   \n899067                     Santa Claus Is Coming to Town   \n\n                                               id_artists  \\\n0                              ['66CXWjxzNUsdJxJ2JdwvnR']   \n1                              ['26VFTg2z8YR0cCuwLzESi2']   \n2                              ['0Y5tJX1MQlPlqiwlOH1tJY']   \n3       ['246dkjvS1zLTtiykXe5h60', '1zNqQNIdeOUZHb8zbZ...   \n4                              ['20JZFwl6HVl6yg8a4H3ZqK']   \n...                                                   ...   \n899063  ['3Dzj993UEz8Z5ovxuirzFO', '6RCsx4p5smZHYz2P5H...   \n899064                         ['4urvwbid7NFoVes5PTx9lV']   \n899065                         ['7yv4DJOCmilSbxxsdQgXWk']   \n899066                         ['7yv4DJOCmilSbxxsdQgXWk']   \n899067                         ['7tdO7d7r0vhwov7RIZWH6V']   \n\n                                     name_artists  popularity  explicit  \\\n0                               ['Ariana Grande']          87      True   \n1                                      ['Halsey']          87      True   \n2                                ['Travis Scott']          86      True   \n3                     ['Post Malone', 'Swae Lee']          92     False   \n4                         ['Panic! At The Disco']          86     False   \n...                                           ...         ...       ...   \n899063  ['Lindsey Buckingham', 'Christine McVie']          16     False   \n899064                             ['Tony Carey']           0     False   \n899065                             ['Pictomusic']           0     False   \n899066                             ['Pictomusic']           0     False   \n899067                            ['Mitch Ryder']           0     False   \n\n            song_type  track_number  num_artists  num_available_markets  ...  \\\n0                Solo            11            1                     79  ...   \n1                Solo             1            1                     79  ...   \n2                Solo             3            1                     79  ...   \n3       Collaboration             2            2                     79  ...   \n4                Solo             4            1                     78  ...   \n...               ...           ...          ...                    ...  ...   \n899063  Collaboration             5            2                      1  ...   \n899064           Solo             5            1                     79  ...   \n899065           Solo             2            1                     79  ...   \n899066           Solo             1            1                     79  ...   \n899067           Solo             3            1                     79  ...   \n\n       acousticness  danceability  energy  instrumentalness  liveness  \\\n0           0.22900         0.717   0.653          0.000000    0.1010   \n1           0.29700         0.752   0.488          0.000009    0.0936   \n2           0.00513         0.834   0.730          0.000000    0.1240   \n3           0.55600         0.760   0.479          0.000000    0.0703   \n4           0.19300         0.579   0.904          0.000000    0.0640   \n...             ...           ...     ...               ...       ...   \n899063      0.36600         0.446   0.658          0.000025    0.7510   \n899064      0.48100         0.305   0.456          0.933000    0.1110   \n899065      0.01180         0.852   0.648          0.000000    0.0503   \n899066      0.97300         0.664   0.353          0.787000    0.0878   \n899067      0.38600         0.651   0.896          0.001630    0.0734   \n\n        loudness  speechiness  valence    tempo  hit  \n0         -5.634       0.0658    0.412  106.966    1  \n1         -7.050       0.0705    0.533  136.041    1  \n2         -3.714       0.2220    0.446  155.008    1  \n3         -5.574       0.0466    0.913   89.911    1  \n4         -2.729       0.0618    0.681   82.014    1  \n...          ...          ...      ...      ...  ...  \n899063    -8.362       0.0297    0.554   84.740    0  \n899064   -20.199       0.0634    0.171   96.996    0  \n899065    -7.189       0.0480    0.559  120.150    0  \n899066   -12.303       0.0693    0.284  116.450    0  \n899067    -6.004       0.0327    0.893  148.107    0  \n\n[911027 rows x 25 columns]",
      "text/html": "<div>\n<style scoped>\n    .dataframe tbody tr th:only-of-type {\n        vertical-align: middle;\n    }\n\n    .dataframe tbody tr th {\n        vertical-align: top;\n    }\n\n    .dataframe thead th {\n        text-align: right;\n    }\n</style>\n<table border=\"1\" class=\"dataframe\">\n  <thead>\n    <tr style=\"text-align: right;\">\n      <th></th>\n      <th>song_id</th>\n      <th>song_name</th>\n      <th>id_artists</th>\n      <th>name_artists</th>\n      <th>popularity</th>\n      <th>explicit</th>\n      <th>song_type</th>\n      <th>track_number</th>\n      <th>num_artists</th>\n      <th>num_available_markets</th>\n      <th>...</th>\n      <th>acousticness</th>\n      <th>danceability</th>\n      <th>energy</th>\n      <th>instrumentalness</th>\n      <th>liveness</th>\n      <th>loudness</th>\n      <th>speechiness</th>\n      <th>valence</th>\n      <th>tempo</th>\n      <th>hit</th>\n    </tr>\n  </thead>\n  <tbody>\n    <tr>\n      <th>0</th>\n      <td>3e9HZxeyfWwjeyPAMmWSSQ</td>\n      <td>thank u, next</td>\n      <td>['66CXWjxzNUsdJxJ2JdwvnR']</td>\n      <td>['Ariana Grande']</td>\n      <td>87</td>\n      <td>True</td>\n      <td>Solo</td>\n      <td>11</td>\n      <td>1</td>\n      <td>79</td>\n      <td>...</td>\n      <td>0.22900</td>\n      <td>0.717</td>\n      <td>0.653</td>\n      <td>0.000000</td>\n      <td>0.1010</td>\n      <td>-5.634</td>\n      <td>0.0658</td>\n      <td>0.412</td>\n      <td>106.966</td>\n      <td>1</td>\n    </tr>\n    <tr>\n      <th>1</th>\n      <td>5p7ujcrUXASCNwRaWNHR1C</td>\n      <td>Without Me</td>\n      <td>['26VFTg2z8YR0cCuwLzESi2']</td>\n      <td>['Halsey']</td>\n      <td>87</td>\n      <td>True</td>\n      <td>Solo</td>\n      <td>1</td>\n      <td>1</td>\n      <td>79</td>\n      <td>...</td>\n      <td>0.29700</td>\n      <td>0.752</td>\n      <td>0.488</td>\n      <td>0.000009</td>\n      <td>0.0936</td>\n      <td>-7.050</td>\n      <td>0.0705</td>\n      <td>0.533</td>\n      <td>136.041</td>\n      <td>1</td>\n    </tr>\n    <tr>\n      <th>2</th>\n      <td>2xLMifQCjDGFmkHkpNLD9h</td>\n      <td>SICKO MODE</td>\n      <td>['0Y5tJX1MQlPlqiwlOH1tJY']</td>\n      <td>['Travis Scott']</td>\n      <td>86</td>\n      <td>True</td>\n      <td>Solo</td>\n      <td>3</td>\n      <td>1</td>\n      <td>79</td>\n      <td>...</td>\n      <td>0.00513</td>\n      <td>0.834</td>\n      <td>0.730</td>\n      <td>0.000000</td>\n      <td>0.1240</td>\n      <td>-3.714</td>\n      <td>0.2220</td>\n      <td>0.446</td>\n      <td>155.008</td>\n      <td>1</td>\n    </tr>\n    <tr>\n      <th>3</th>\n      <td>3KkXRkHbMCARz0aVfEt68P</td>\n      <td>Sunflower - Spider-Man: Into the Spider-Verse</td>\n      <td>['246dkjvS1zLTtiykXe5h60', '1zNqQNIdeOUZHb8zbZ...</td>\n      <td>['Post Malone', 'Swae Lee']</td>\n      <td>92</td>\n      <td>False</td>\n      <td>Collaboration</td>\n      <td>2</td>\n      <td>2</td>\n      <td>79</td>\n      <td>...</td>\n      <td>0.55600</td>\n      <td>0.760</td>\n      <td>0.479</td>\n      <td>0.000000</td>\n      <td>0.0703</td>\n      <td>-5.574</td>\n      <td>0.0466</td>\n      <td>0.913</td>\n      <td>89.911</td>\n      <td>1</td>\n    </tr>\n    <tr>\n      <th>4</th>\n      <td>1rqqCSm0Qe4I9rUvWncaom</td>\n      <td>High Hopes</td>\n      <td>['20JZFwl6HVl6yg8a4H3ZqK']</td>\n      <td>['Panic! At The Disco']</td>\n      <td>86</td>\n      <td>False</td>\n      <td>Solo</td>\n      <td>4</td>\n      <td>1</td>\n      <td>78</td>\n      <td>...</td>\n      <td>0.19300</td>\n      <td>0.579</td>\n      <td>0.904</td>\n      <td>0.000000</td>\n      <td>0.0640</td>\n      <td>-2.729</td>\n      <td>0.0618</td>\n      <td>0.681</td>\n      <td>82.014</td>\n      <td>1</td>\n    </tr>\n    <tr>\n      <th>...</th>\n      <td>...</td>\n      <td>...</td>\n      <td>...</td>\n      <td>...</td>\n      <td>...</td>\n      <td>...</td>\n      <td>...</td>\n      <td>...</td>\n      <td>...</td>\n      <td>...</td>\n      <td>...</td>\n      <td>...</td>\n      <td>...</td>\n      <td>...</td>\n      <td>...</td>\n      <td>...</td>\n      <td>...</td>\n      <td>...</td>\n      <td>...</td>\n      <td>...</td>\n      <td>...</td>\n    </tr>\n    <tr>\n      <th>899063</th>\n      <td>2tP0ryZParpdjvxubgXhTN</td>\n      <td>Love Is Here to Stay</td>\n      <td>['3Dzj993UEz8Z5ovxuirzFO', '6RCsx4p5smZHYz2P5H...</td>\n      <td>['Lindsey Buckingham', 'Christine McVie']</td>\n      <td>16</td>\n      <td>False</td>\n      <td>Collaboration</td>\n      <td>5</td>\n      <td>2</td>\n      <td>1</td>\n      <td>...</td>\n      <td>0.36600</td>\n      <td>0.446</td>\n      <td>0.658</td>\n      <td>0.000025</td>\n      <td>0.7510</td>\n      <td>-8.362</td>\n      <td>0.0297</td>\n      <td>0.554</td>\n      <td>84.740</td>\n      <td>0</td>\n    </tr>\n    <tr>\n      <th>899064</th>\n      <td>7Ltni80U0w7bmYjXPNzSEa</td>\n      <td>Heinlein's Planet</td>\n      <td>['4urvwbid7NFoVes5PTx9lV']</td>\n      <td>['Tony Carey']</td>\n      <td>0</td>\n      <td>False</td>\n      <td>Solo</td>\n      <td>5</td>\n      <td>1</td>\n      <td>79</td>\n      <td>...</td>\n      <td>0.48100</td>\n      <td>0.305</td>\n      <td>0.456</td>\n      <td>0.933000</td>\n      <td>0.1110</td>\n      <td>-20.199</td>\n      <td>0.0634</td>\n      <td>0.171</td>\n      <td>96.996</td>\n      <td>0</td>\n    </tr>\n    <tr>\n      <th>899065</th>\n      <td>1gQClXN1Dq4rj0wBzddcNA</td>\n      <td>Beds are Burning - Karaoke Lead Vocal Version</td>\n      <td>['7yv4DJOCmilSbxxsdQgXWk']</td>\n      <td>['Pictomusic']</td>\n      <td>0</td>\n      <td>False</td>\n      <td>Solo</td>\n      <td>2</td>\n      <td>1</td>\n      <td>79</td>\n      <td>...</td>\n      <td>0.01180</td>\n      <td>0.852</td>\n      <td>0.648</td>\n      <td>0.000000</td>\n      <td>0.0503</td>\n      <td>-7.189</td>\n      <td>0.0480</td>\n      <td>0.559</td>\n      <td>120.150</td>\n      <td>0</td>\n    </tr>\n    <tr>\n      <th>899066</th>\n      <td>2jhxQrFNdVPkWL28X7ZpeK</td>\n      <td>Un homme heureux - Version karaoké instrumentale</td>\n      <td>['7yv4DJOCmilSbxxsdQgXWk']</td>\n      <td>['Pictomusic']</td>\n      <td>0</td>\n      <td>False</td>\n      <td>Solo</td>\n      <td>1</td>\n      <td>1</td>\n      <td>79</td>\n      <td>...</td>\n      <td>0.97300</td>\n      <td>0.664</td>\n      <td>0.353</td>\n      <td>0.787000</td>\n      <td>0.0878</td>\n      <td>-12.303</td>\n      <td>0.0693</td>\n      <td>0.284</td>\n      <td>116.450</td>\n      <td>0</td>\n    </tr>\n    <tr>\n      <th>899067</th>\n      <td>6KkbkpUObAqcKGEfvguHJO</td>\n      <td>Santa Claus Is Coming to Town</td>\n      <td>['7tdO7d7r0vhwov7RIZWH6V']</td>\n      <td>['Mitch Ryder']</td>\n      <td>0</td>\n      <td>False</td>\n      <td>Solo</td>\n      <td>3</td>\n      <td>1</td>\n      <td>79</td>\n      <td>...</td>\n      <td>0.38600</td>\n      <td>0.651</td>\n      <td>0.896</td>\n      <td>0.001630</td>\n      <td>0.0734</td>\n      <td>-6.004</td>\n      <td>0.0327</td>\n      <td>0.893</td>\n      <td>148.107</td>\n      <td>0</td>\n    </tr>\n  </tbody>\n</table>\n<p>911027 rows × 25 columns</p>\n</div>"
     },
     "execution_count": 5,
     "metadata": {},
     "output_type": "execute_result"
    }
   ],
   "source": [
    "from sklearn.impute import SimpleImputer\n",
    "\n",
    "combined_df.replace(\"-\", float(\"nan\"), inplace=True)   ## evtl hier schon mean replacement???\n",
    "# combined_df.dropna(inplace=True)   # drop nan value rows\n",
    "#Fill missing values with mean for each numeric attribute\n",
    "imputer = SimpleImputer(strategy='mean')\n",
    "for col in nan_columns:\n",
    "    combined_df[col] = imputer.fit_transform(combined_df[[col]])\n",
    "\n",
    "combined_df"
   ],
   "metadata": {
    "collapsed": false,
    "ExecuteTime": {
     "end_time": "2024-05-14T12:30:24.281646800Z",
     "start_time": "2024-05-14T12:30:20.400635300Z"
    }
   },
   "id": "723e4477181f9728"
  },
  {
   "cell_type": "code",
   "execution_count": 6,
   "outputs": [
    {
     "name": "stdout",
     "output_type": "stream",
     "text": [
      "Columns with NaN values:\n",
      "[]\n"
     ]
    }
   ],
   "source": [
    "# Check for NaN values in all columns\n",
    "nan_columns = combined_df.columns[combined_df.isna().any()].tolist()\n",
    "\n",
    "# Print columns with NaN values\n",
    "print(\"Columns with NaN values:\")\n",
    "print(nan_columns)\n"
   ],
   "metadata": {
    "collapsed": false,
    "ExecuteTime": {
     "end_time": "2024-05-14T12:30:24.412646500Z",
     "start_time": "2024-05-14T12:30:24.270646100Z"
    }
   },
   "id": "ad978e73fb721d3e"
  },
  {
   "cell_type": "code",
   "execution_count": 7,
   "outputs": [],
   "source": [
    "from sklearn.model_selection import train_test_split\n",
    "combined_df['date'] = pd.to_datetime(combined_df['release_date'])\n",
    "combined_df.sort_values(by=\"date\", inplace=True)\n",
    "border_day = combined_df[\"date\"].iloc[-1]  - pd.DateOffset(years=6)\n",
    "combined_df = combined_df[(combined_df[\"date\"] >= border_day)]\n",
    "\n",
    "split_day = combined_df[\"date\"].iloc[-1]  - pd.DateOffset(years=1)\n",
    "train_df = combined_df[(combined_df[\"date\"]  < split_day)]\n",
    "test_df = combined_df[(combined_df[\"date\"]  >= split_day)]\n",
    "#train_df, test_df = train_test_split(combined_df, test_size=1/6, shuffle=False)"
   ],
   "metadata": {
    "collapsed": false,
    "ExecuteTime": {
     "end_time": "2024-05-14T12:30:25.289645800Z",
     "start_time": "2024-05-14T12:30:24.435645300Z"
    }
   },
   "id": "f55fc8cca1de5d29"
  },
  {
   "cell_type": "code",
   "execution_count": 8,
   "outputs": [
    {
     "data": {
      "text/plain": "                       song_id  \\\n846000  3rTIDlmlGskGnRRqmRtvYn   \n604826  7zhdgvEuhcxy4iwc0ssoty   \n604827  7urrpTy9j5QGMYrZpPwuEy   \n604828  6Ppgg7vDhYoyyNmmfIE9zK   \n604829  3EOsorrvvIhtlTOoMdEshm   \n...                        ...   \n11098   0xAqhyWvTkfcdFgm7dozMO   \n10903   6zhg8TnVKi90ITDzFKwPr0   \n5856    2GvkFSjRXV0Ii3uYnHiQ74   \n5080    0lej8CemYKkWVHg77Xe1ky   \n10666   6Fh2QgjCxL96dA3Gtpfr4Q   \n\n                                                song_name  \\\n846000                                      Lone Stranger   \n604826                          Ghost of Gloria Goodchild   \n604827                                             Kolors   \n604828                                    Come as You Are   \n604829                                        Nexperience   \n...                                                   ...   \n11098             (I Wanna) Testify (Mono Single Version)   \n10903                       Swingtown - Alternate Version   \n5856                                       Take My Advice   \n5080             A Man Holdin' on (To a Woman Lettin’ Go)   \n10666   One Sweet Day (16-Bit Mariah Carey & Boyz II M...   \n\n                                               id_artists  \\\n846000                         ['1W006EgE9fkSO9CpTnVlqN']   \n604826                         ['3F2Y683ovlWT53WKCeq0oj']   \n604827                         ['3F2Y683ovlWT53WKCeq0oj']   \n604828                         ['3F2Y683ovlWT53WKCeq0oj']   \n604829                         ['3F2Y683ovlWT53WKCeq0oj']   \n...                                                   ...   \n11098                          ['1Ve5PoI7i5jIIP1xudo6AB']   \n10903                          ['6QtGlUje9TIkLrgPZrESuk']   \n5856                           ['40PLSl99xXqAQsCQQPmfyM']   \n5080    ['1Fj0R2t4HaJa3oUe8azB8R', '5LDnSV99gbDSsMX3Dc...   \n10666                          ['1v4YnufenjE9BLAfP90qvt']   \n\n                           name_artists  popularity  explicit      song_type  \\\n846000                 ['James Dooley']           0     False           Solo   \n604826                   ['Goodie Mob']           5      True           Solo   \n604827                   ['Goodie Mob']          12      True           Solo   \n604828                   ['Goodie Mob']           5      True           Solo   \n604829                   ['Goodie Mob']           5      True           Solo   \n...                                 ...         ...       ...            ...   \n11098               ['The Parliaments']           7     False           Solo   \n10903             ['Steve Miller Band']          26     False           Solo   \n5856                       ['Kym Sims']           0     False           Solo   \n5080    ['Ty Herndon', 'Anita Cochran']          14     False  Collaboration   \n10666                 ['Arcade Player']           0     False           Solo   \n\n        track_number  num_artists  num_available_markets  ... danceability  \\\n846000            19            1                     74  ...        0.235   \n604826             9            1                      2  ...        0.609   \n604827            10            1                      2  ...        0.482   \n604828            11            1                      2  ...        0.656   \n604829            12            1                      2  ...        0.610   \n...              ...          ...                    ...  ...          ...   \n11098             10            1                     79  ...        0.668   \n10903              5            1                     79  ...        0.459   \n5856              10            1                     73  ...        0.737   \n5080               7            2                     79  ...        0.611   \n10666             27            1                     79  ...        0.395   \n\n        energy  instrumentalness  liveness  loudness  speechiness  valence  \\\n846000   0.199          0.896000    0.1110   -15.446       0.0329   0.0476   \n604826   0.612          0.000000    0.4980    -7.317       0.1240   0.3850   \n604827   0.722          0.000000    0.5020    -7.968       0.3140   0.4840   \n604828   0.952          0.000582    0.0455    -5.103       0.0602   0.4760   \n604829   0.798          0.000660    0.5230    -6.880       0.2730   0.6130   \n...        ...               ...       ...       ...          ...      ...   \n11098    0.702          0.000000    0.0521    -5.750       0.0330   0.7540   \n10903    0.764          0.000544    0.2440    -6.662       0.0354   0.4390   \n5856     0.814          0.392000    0.0844   -10.396       0.0307   0.8030   \n5080     0.429          0.000014    0.1120    -8.619       0.0298   0.2370   \n10666    0.405          0.745000    0.1100    -5.559       0.0393   0.3130   \n\n          tempo  hit       date  \n846000   69.245    0 2013-08-26  \n604826  140.953    0 2013-08-26  \n604827  105.123    0 2013-08-26  \n604828  130.923    0 2013-08-26  \n604829  138.103    0 2013-08-26  \n...         ...  ...        ...  \n11098   105.227    1 2019-08-23  \n10903   124.557    1 2019-08-23  \n5856    120.010    1 2019-08-23  \n5080    128.007    1 2019-08-23  \n10666   194.933    1 2019-08-26  \n\n[357166 rows x 26 columns]",
      "text/html": "<div>\n<style scoped>\n    .dataframe tbody tr th:only-of-type {\n        vertical-align: middle;\n    }\n\n    .dataframe tbody tr th {\n        vertical-align: top;\n    }\n\n    .dataframe thead th {\n        text-align: right;\n    }\n</style>\n<table border=\"1\" class=\"dataframe\">\n  <thead>\n    <tr style=\"text-align: right;\">\n      <th></th>\n      <th>song_id</th>\n      <th>song_name</th>\n      <th>id_artists</th>\n      <th>name_artists</th>\n      <th>popularity</th>\n      <th>explicit</th>\n      <th>song_type</th>\n      <th>track_number</th>\n      <th>num_artists</th>\n      <th>num_available_markets</th>\n      <th>...</th>\n      <th>danceability</th>\n      <th>energy</th>\n      <th>instrumentalness</th>\n      <th>liveness</th>\n      <th>loudness</th>\n      <th>speechiness</th>\n      <th>valence</th>\n      <th>tempo</th>\n      <th>hit</th>\n      <th>date</th>\n    </tr>\n  </thead>\n  <tbody>\n    <tr>\n      <th>846000</th>\n      <td>3rTIDlmlGskGnRRqmRtvYn</td>\n      <td>Lone Stranger</td>\n      <td>['1W006EgE9fkSO9CpTnVlqN']</td>\n      <td>['James Dooley']</td>\n      <td>0</td>\n      <td>False</td>\n      <td>Solo</td>\n      <td>19</td>\n      <td>1</td>\n      <td>74</td>\n      <td>...</td>\n      <td>0.235</td>\n      <td>0.199</td>\n      <td>0.896000</td>\n      <td>0.1110</td>\n      <td>-15.446</td>\n      <td>0.0329</td>\n      <td>0.0476</td>\n      <td>69.245</td>\n      <td>0</td>\n      <td>2013-08-26</td>\n    </tr>\n    <tr>\n      <th>604826</th>\n      <td>7zhdgvEuhcxy4iwc0ssoty</td>\n      <td>Ghost of Gloria Goodchild</td>\n      <td>['3F2Y683ovlWT53WKCeq0oj']</td>\n      <td>['Goodie Mob']</td>\n      <td>5</td>\n      <td>True</td>\n      <td>Solo</td>\n      <td>9</td>\n      <td>1</td>\n      <td>2</td>\n      <td>...</td>\n      <td>0.609</td>\n      <td>0.612</td>\n      <td>0.000000</td>\n      <td>0.4980</td>\n      <td>-7.317</td>\n      <td>0.1240</td>\n      <td>0.3850</td>\n      <td>140.953</td>\n      <td>0</td>\n      <td>2013-08-26</td>\n    </tr>\n    <tr>\n      <th>604827</th>\n      <td>7urrpTy9j5QGMYrZpPwuEy</td>\n      <td>Kolors</td>\n      <td>['3F2Y683ovlWT53WKCeq0oj']</td>\n      <td>['Goodie Mob']</td>\n      <td>12</td>\n      <td>True</td>\n      <td>Solo</td>\n      <td>10</td>\n      <td>1</td>\n      <td>2</td>\n      <td>...</td>\n      <td>0.482</td>\n      <td>0.722</td>\n      <td>0.000000</td>\n      <td>0.5020</td>\n      <td>-7.968</td>\n      <td>0.3140</td>\n      <td>0.4840</td>\n      <td>105.123</td>\n      <td>0</td>\n      <td>2013-08-26</td>\n    </tr>\n    <tr>\n      <th>604828</th>\n      <td>6Ppgg7vDhYoyyNmmfIE9zK</td>\n      <td>Come as You Are</td>\n      <td>['3F2Y683ovlWT53WKCeq0oj']</td>\n      <td>['Goodie Mob']</td>\n      <td>5</td>\n      <td>True</td>\n      <td>Solo</td>\n      <td>11</td>\n      <td>1</td>\n      <td>2</td>\n      <td>...</td>\n      <td>0.656</td>\n      <td>0.952</td>\n      <td>0.000582</td>\n      <td>0.0455</td>\n      <td>-5.103</td>\n      <td>0.0602</td>\n      <td>0.4760</td>\n      <td>130.923</td>\n      <td>0</td>\n      <td>2013-08-26</td>\n    </tr>\n    <tr>\n      <th>604829</th>\n      <td>3EOsorrvvIhtlTOoMdEshm</td>\n      <td>Nexperience</td>\n      <td>['3F2Y683ovlWT53WKCeq0oj']</td>\n      <td>['Goodie Mob']</td>\n      <td>5</td>\n      <td>True</td>\n      <td>Solo</td>\n      <td>12</td>\n      <td>1</td>\n      <td>2</td>\n      <td>...</td>\n      <td>0.610</td>\n      <td>0.798</td>\n      <td>0.000660</td>\n      <td>0.5230</td>\n      <td>-6.880</td>\n      <td>0.2730</td>\n      <td>0.6130</td>\n      <td>138.103</td>\n      <td>0</td>\n      <td>2013-08-26</td>\n    </tr>\n    <tr>\n      <th>...</th>\n      <td>...</td>\n      <td>...</td>\n      <td>...</td>\n      <td>...</td>\n      <td>...</td>\n      <td>...</td>\n      <td>...</td>\n      <td>...</td>\n      <td>...</td>\n      <td>...</td>\n      <td>...</td>\n      <td>...</td>\n      <td>...</td>\n      <td>...</td>\n      <td>...</td>\n      <td>...</td>\n      <td>...</td>\n      <td>...</td>\n      <td>...</td>\n      <td>...</td>\n      <td>...</td>\n    </tr>\n    <tr>\n      <th>11098</th>\n      <td>0xAqhyWvTkfcdFgm7dozMO</td>\n      <td>(I Wanna) Testify (Mono Single Version)</td>\n      <td>['1Ve5PoI7i5jIIP1xudo6AB']</td>\n      <td>['The Parliaments']</td>\n      <td>7</td>\n      <td>False</td>\n      <td>Solo</td>\n      <td>10</td>\n      <td>1</td>\n      <td>79</td>\n      <td>...</td>\n      <td>0.668</td>\n      <td>0.702</td>\n      <td>0.000000</td>\n      <td>0.0521</td>\n      <td>-5.750</td>\n      <td>0.0330</td>\n      <td>0.7540</td>\n      <td>105.227</td>\n      <td>1</td>\n      <td>2019-08-23</td>\n    </tr>\n    <tr>\n      <th>10903</th>\n      <td>6zhg8TnVKi90ITDzFKwPr0</td>\n      <td>Swingtown - Alternate Version</td>\n      <td>['6QtGlUje9TIkLrgPZrESuk']</td>\n      <td>['Steve Miller Band']</td>\n      <td>26</td>\n      <td>False</td>\n      <td>Solo</td>\n      <td>5</td>\n      <td>1</td>\n      <td>79</td>\n      <td>...</td>\n      <td>0.459</td>\n      <td>0.764</td>\n      <td>0.000544</td>\n      <td>0.2440</td>\n      <td>-6.662</td>\n      <td>0.0354</td>\n      <td>0.4390</td>\n      <td>124.557</td>\n      <td>1</td>\n      <td>2019-08-23</td>\n    </tr>\n    <tr>\n      <th>5856</th>\n      <td>2GvkFSjRXV0Ii3uYnHiQ74</td>\n      <td>Take My Advice</td>\n      <td>['40PLSl99xXqAQsCQQPmfyM']</td>\n      <td>['Kym Sims']</td>\n      <td>0</td>\n      <td>False</td>\n      <td>Solo</td>\n      <td>10</td>\n      <td>1</td>\n      <td>73</td>\n      <td>...</td>\n      <td>0.737</td>\n      <td>0.814</td>\n      <td>0.392000</td>\n      <td>0.0844</td>\n      <td>-10.396</td>\n      <td>0.0307</td>\n      <td>0.8030</td>\n      <td>120.010</td>\n      <td>1</td>\n      <td>2019-08-23</td>\n    </tr>\n    <tr>\n      <th>5080</th>\n      <td>0lej8CemYKkWVHg77Xe1ky</td>\n      <td>A Man Holdin' on (To a Woman Lettin’ Go)</td>\n      <td>['1Fj0R2t4HaJa3oUe8azB8R', '5LDnSV99gbDSsMX3Dc...</td>\n      <td>['Ty Herndon', 'Anita Cochran']</td>\n      <td>14</td>\n      <td>False</td>\n      <td>Collaboration</td>\n      <td>7</td>\n      <td>2</td>\n      <td>79</td>\n      <td>...</td>\n      <td>0.611</td>\n      <td>0.429</td>\n      <td>0.000014</td>\n      <td>0.1120</td>\n      <td>-8.619</td>\n      <td>0.0298</td>\n      <td>0.2370</td>\n      <td>128.007</td>\n      <td>1</td>\n      <td>2019-08-23</td>\n    </tr>\n    <tr>\n      <th>10666</th>\n      <td>6Fh2QgjCxL96dA3Gtpfr4Q</td>\n      <td>One Sweet Day (16-Bit Mariah Carey &amp; Boyz II M...</td>\n      <td>['1v4YnufenjE9BLAfP90qvt']</td>\n      <td>['Arcade Player']</td>\n      <td>0</td>\n      <td>False</td>\n      <td>Solo</td>\n      <td>27</td>\n      <td>1</td>\n      <td>79</td>\n      <td>...</td>\n      <td>0.395</td>\n      <td>0.405</td>\n      <td>0.745000</td>\n      <td>0.1100</td>\n      <td>-5.559</td>\n      <td>0.0393</td>\n      <td>0.3130</td>\n      <td>194.933</td>\n      <td>1</td>\n      <td>2019-08-26</td>\n    </tr>\n  </tbody>\n</table>\n<p>357166 rows × 26 columns</p>\n</div>"
     },
     "execution_count": 8,
     "metadata": {},
     "output_type": "execute_result"
    }
   ],
   "source": [
    "combined_df"
   ],
   "metadata": {
    "collapsed": false,
    "ExecuteTime": {
     "end_time": "2024-05-14T12:30:25.511648Z",
     "start_time": "2024-05-14T12:30:25.280646Z"
    }
   },
   "id": "9e4154b39a1657b1"
  },
  {
   "cell_type": "code",
   "execution_count": 9,
   "outputs": [
    {
     "name": "stdout",
     "output_type": "stream",
     "text": [
      "amount of artists: 13284\n"
     ]
    },
    {
     "data": {
      "text/plain": "                    artist_id            artist_name\n0      1W006EgE9fkSO9CpTnVlqN           James Dooley\n1      3F2Y683ovlWT53WKCeq0oj             Goodie Mob\n2      5xTn6i6eK7dFP98OaOFyBn              Big Fraze\n3      4PzJueOuOBjr0qVlS3RU6w      Christopher Lewis\n4      4eJWDgfm1In7unvUTB1DtE                      V\n...                       ...                    ...\n13279  7gx7lqo98LuOGE0y8ATrRr  On the Town Orchestra\n13280  5UvGRahK1OytDXGTzdf6hV        Humphrey Burton\n13281  0MIlVcFgL7pDFqaZRmYDeE                  Weiss\n13282  2iG0HNCECG2DxXxSUcMhEX                 Naxxos\n13283  2tg1rWk2rWaltTk0baRjRu                 SAKIMA\n\n[13284 rows x 2 columns]",
      "text/html": "<div>\n<style scoped>\n    .dataframe tbody tr th:only-of-type {\n        vertical-align: middle;\n    }\n\n    .dataframe tbody tr th {\n        vertical-align: top;\n    }\n\n    .dataframe thead th {\n        text-align: right;\n    }\n</style>\n<table border=\"1\" class=\"dataframe\">\n  <thead>\n    <tr style=\"text-align: right;\">\n      <th></th>\n      <th>artist_id</th>\n      <th>artist_name</th>\n    </tr>\n  </thead>\n  <tbody>\n    <tr>\n      <th>0</th>\n      <td>1W006EgE9fkSO9CpTnVlqN</td>\n      <td>James Dooley</td>\n    </tr>\n    <tr>\n      <th>1</th>\n      <td>3F2Y683ovlWT53WKCeq0oj</td>\n      <td>Goodie Mob</td>\n    </tr>\n    <tr>\n      <th>2</th>\n      <td>5xTn6i6eK7dFP98OaOFyBn</td>\n      <td>Big Fraze</td>\n    </tr>\n    <tr>\n      <th>3</th>\n      <td>4PzJueOuOBjr0qVlS3RU6w</td>\n      <td>Christopher Lewis</td>\n    </tr>\n    <tr>\n      <th>4</th>\n      <td>4eJWDgfm1In7unvUTB1DtE</td>\n      <td>V</td>\n    </tr>\n    <tr>\n      <th>...</th>\n      <td>...</td>\n      <td>...</td>\n    </tr>\n    <tr>\n      <th>13279</th>\n      <td>7gx7lqo98LuOGE0y8ATrRr</td>\n      <td>On the Town Orchestra</td>\n    </tr>\n    <tr>\n      <th>13280</th>\n      <td>5UvGRahK1OytDXGTzdf6hV</td>\n      <td>Humphrey Burton</td>\n    </tr>\n    <tr>\n      <th>13281</th>\n      <td>0MIlVcFgL7pDFqaZRmYDeE</td>\n      <td>Weiss</td>\n    </tr>\n    <tr>\n      <th>13282</th>\n      <td>2iG0HNCECG2DxXxSUcMhEX</td>\n      <td>Naxxos</td>\n    </tr>\n    <tr>\n      <th>13283</th>\n      <td>2tg1rWk2rWaltTk0baRjRu</td>\n      <td>SAKIMA</td>\n    </tr>\n  </tbody>\n</table>\n<p>13284 rows × 2 columns</p>\n</div>"
     },
     "execution_count": 9,
     "metadata": {},
     "output_type": "execute_result"
    }
   ],
   "source": [
    "# Specify the columns\n",
    "columns = ['artist_id', 'artist_name']\n",
    "\n",
    "# Initialize an empty DataFrame\n",
    "df_artists_train = pd.DataFrame(columns={col: [] for col in columns})\n",
    "\n",
    "count = 0\n",
    "artist_set = set()\n",
    "\n",
    "for _, row in train_df.iterrows():\n",
    "    current_artist_id_list = eval(row[\"id_artists\"])\n",
    "    current_artist_name_list = eval(row[\"name_artists\"])\n",
    "    for cur_art_id, cur_art_name in zip(current_artist_id_list, current_artist_name_list):\n",
    "        if cur_art_id not in artist_set:\n",
    "            artist_set.add(cur_art_id)\n",
    "            df_artists_train.loc[len(df_artists_train)] = [cur_art_id, cur_art_name]\n",
    "            count += 1\n",
    "\n",
    "print(\"amount of artists:\", count)\n",
    "df_artists_train"
   ],
   "metadata": {
    "collapsed": false,
    "ExecuteTime": {
     "end_time": "2024-05-14T12:30:55.207646200Z",
     "start_time": "2024-05-14T12:30:25.549647Z"
    }
   },
   "id": "4e89192b5a6cf7c4"
  },
  {
   "cell_type": "code",
   "execution_count": 10,
   "outputs": [],
   "source": [
    "import networkx as nx\n",
    "\n",
    "all_artist_ids = artist_set.copy()\n",
    "\n",
    "G = nx.Graph()\n",
    "\n",
    "for id_art_cur in all_artist_ids:\n",
    "    artist_name = df_artists_train[(df_artists_train[\"artist_id\"] == id_art_cur)][\"artist_name\"]\n",
    "    artist_info = df_artists_train[df_artists_train[\"artist_id\"] == id_art_cur]\n",
    "    if not artist_info.empty:  # Check if artist info exists\n",
    "        # Filter out artists who are not successful\n",
    "        node_attrs = {\"name\": artist_name.iloc[0]}\n",
    "        G.add_node(id_art_cur, **node_attrs)\n",
    "    else:\n",
    "        print(\"Artist info not found for ID:\", id_art_cur)\n",
    "\n",
    "for _, row in train_df.iterrows():\n",
    "    artist_ids = list(eval(row[\"id_artists\"]))\n",
    "    artist_names = list(eval(row[\"name_artists\"]))\n",
    "    # Filter out songs that do not have more than one artist in their execution\n",
    "    if len(artist_ids) > 1:\n",
    "        for i in range(len(artist_ids)):\n",
    "            for j in range(i+1, len(artist_ids)):\n",
    "                artist_id_1 = str(artist_ids[i])\n",
    "                lable1 = str(artist_names[i])\n",
    "                artist_id_2 = str(artist_ids[j])\n",
    "                lable2 = str(artist_names[j])\n",
    "                # Check if the edge already exists\n",
    "                if G.has_edge(artist_id_1, artist_id_2):\n",
    "                    # If the edge already exists, increment the weight by 1\n",
    "                    G[artist_id_1][artist_id_2]['weight'] += 2\n",
    "                else:\n",
    "                    # Add a new edge with weight 1\n",
    "                    G.add_edge(artist_id_1, artist_id_2, lable1=lable1, lable2=lable2, weight=2, song_id=str(row[\"song_id\"]), song_name=str(row[\"song_name\"]), explicit=bool(row[\"explicit\"]), song_type=str(row[\"song_type\"]), track_number=int(row[\"track_number\"]), num_artists=int(row[\"num_artists\"]), num_available_markets=int(row[\"num_available_markets\"]), duration_ms=int(row[\"duration_ms\"]), popularity=int(row[\"popularity\"]), release_date=str(row[\"release_date\"]), key = int(row[\"key\"]), mode = int(row[\"mode\"]), time_signature = int(row[\"time_signature\"]), acousticness = float(row[\"acousticness\"]), danceability = float(row[\"danceability\"]), energy = float(row[\"energy\"]), instrumentalness = float(row[\"instrumentalness\"]), liveness = float(row[\"liveness\"]),loudness = float(row[\"loudness\"]), speechiness = float(row[\"speechiness\"]), valence = float(row[\"valence\"]), tempo = float(row[\"tempo\"]))\n",
    "        \"\"\"else:\n",
    "            #prüfe ob die Artists Teil der Interessanten Menge sind\n",
    "            artist_id_1 = str(artist_ids[0])\n",
    "            lable1 = str(artist_names[0])\n",
    "            if not G.has_node(artist_id_1):\n",
    "                node_attrs = {\"name\": lable1}\n",
    "                G.add_node(artist_id_1, **node_attrs)\n",
    "            if G.has_edge(artist_id_1, artist_id_1):\n",
    "                # If the edge already exists, increment the weight by 1\n",
    "                G[artist_id_1][artist_id_1]['weight'] += 2\n",
    "            else:\n",
    "                G.add_edge(artist_id_1, artist_id_1, lable1=lable1, lable2=lable1, weight=2, song_id=str(row[\"song_id\"]), song_name=str(row[\"song_name\"]), explicit=bool(row[\"explicit\"]), song_type=str(row[\"song_type\"]), track_number=int(row[\"track_number\"]), num_artists=int(row[\"num_artists\"]), num_available_markets=int(row[\"num_available_markets\"]), duration_ms=int(row[\"duration_ms\"]), popularity=int(row[\"popularity\"]), release_date=str(row[\"release_date\"]), key = int(row[\"key\"]), mode = int(row[\"mode\"]), time_signature = int(row[\"time_signature\"]), acousticness = float(row[\"acousticness\"]), danceability = float(row[\"danceability\"]), energy = float(row[\"energy\"]), instrumentalness = float(row[\"instrumentalness\"]), liveness = float(row[\"liveness\"]),loudness = float(row[\"loudness\"]), speechiness = float(row[\"speechiness\"]), valence = float(row[\"valence\"]), tempo = float(row[\"tempo\"]))\"\"\""
   ],
   "metadata": {
    "collapsed": false,
    "ExecuteTime": {
     "end_time": "2024-05-14T12:31:37.816682700Z",
     "start_time": "2024-05-14T12:30:55.201647900Z"
    }
   },
   "id": "13bb7f1a4a4876a5"
  },
  {
   "cell_type": "code",
   "execution_count": 11,
   "outputs": [],
   "source": [
    "import pandas as pd\n",
    "import community\n",
    "import networkx as nx\n",
    "\n",
    "# Assuming G is your graph object containing nodes and edges\n",
    "\n",
    "# Get all connected components\n",
    "connected_components = nx.connected_components(G)\n",
    "\n",
    "# Initialize dictionaries to store metrics for each node\n",
    "degree = {}\n",
    "weighted_degree = {}\n",
    "eccentricity = {}\n",
    "closeness_centrality = {}\n",
    "harmonic_closeness_centrality = {}                  #romove harm\n",
    "betweenness_centrality = {}\n",
    "clustering = {}\n",
    "eigenvector_centrality = {}\n",
    "\n",
    "# For each connected component\n",
    "for cc in connected_components:\n",
    "    # Create a subgraph of G consisting only of this component\n",
    "    Gc = G.subgraph(cc).copy()\n",
    "\n",
    "    # Calculate metrics for this component\n",
    "    betweenness_centrality.update(nx.betweenness_centrality(Gc))\n",
    "    closeness_centrality.update(nx.closeness_centrality(Gc))\n",
    "    clustering.update(nx.clustering(Gc))\n",
    "    degree.update(nx.degree(Gc))\n",
    "    eccentricity.update(nx.eccentricity(Gc))\n",
    "    eigenvector_centrality.update(nx.eigenvector_centrality(Gc))\n",
    "    harmonic_closeness_centrality.update(nx.harmonic_centrality(Gc))\n",
    "    weighted_degree.update(nx.degree(Gc, weight='weight'))\n",
    "\n",
    "\n",
    "# Assign metrics as node attributes in the original graph G\n",
    "nx.set_node_attributes(G, betweenness_centrality, 'betweenesscentrality')\n",
    "nx.set_node_attributes(G, closeness_centrality, 'closnesscentrality')\n",
    "nx.set_node_attributes(G, clustering, 'clustering')\n",
    "nx.set_node_attributes(G, degree, 'degree')\n",
    "nx.set_node_attributes(G, eccentricity, 'eccentricity')\n",
    "nx.set_node_attributes(G, eigenvector_centrality, 'eigencentrality')\n",
    "nx.set_node_attributes(G, harmonic_closeness_centrality, 'harmonicclosnesscentrality')\n",
    "nx.set_node_attributes(G, weighted_degree, 'weighted degree')\n",
    "\n",
    "# Now your graph G has all the calculated metrics stored as node attributes"
   ],
   "metadata": {
    "collapsed": false,
    "ExecuteTime": {
     "end_time": "2024-05-14T12:35:11.904177100Z",
     "start_time": "2024-05-14T12:31:37.821683200Z"
    }
   },
   "id": "5e3800578731522f"
  },
  {
   "cell_type": "code",
   "execution_count": 12,
   "outputs": [
    {
     "data": {
      "text/plain": "                                  name  betweenesscentrality  \\\n0                          Brazil Beat              0.000000   \n1                       Ella Henderson              0.000537   \n2                           Motown Moe              0.000000   \n3               Caoimhín Ó Raghallaigh              0.000000   \n4      Bruce Hornsby & The Noisemakers              0.000293   \n...                                ...                   ...   \n13279                   Positive Force              0.000000   \n13280                        Tay Beatz              0.000000   \n13281                           Baumon              0.000000   \n13282                       Ms. Krazie              0.000000   \n13283                     Mariah Carey              0.007354   \n\n       closnesscentrality  clustering  degree  eccentricity  eigencentrality  \\\n0                0.478873    0.000000       1             3         0.128397   \n1                0.182102    0.000000       4            13         0.000611   \n2                0.000000    0.000000       0             0         1.000000   \n3                1.000000    0.000000       1             1         0.707107   \n4                0.142789    0.000000       2            14         0.000002   \n...                   ...         ...     ...           ...              ...   \n13279            0.500000    0.000000       1             3         0.260804   \n13280            0.185976    0.000000       1            14         0.007641   \n13281            0.520000    0.000000       1             2         0.196116   \n13282            0.143583    0.000000       1            14         0.000014   \n13283            0.225147    0.106061      12            12         0.049175   \n\n       harmonicclosnesscentrality  weighted degree              Spotify ID  \n0                       16.833333                2  7bcEoznqVIoj6g73gd0bls  \n1                     1327.372097                8  7nDsS0l5ZAzMedVRKPP8F1  \n2                        0.000000                0  11Zyntp0JZFeb8uyttfNIw  \n3                        1.000000                2  2w5HzcbBTCyYSWqbmM5UxA  \n4                     1022.151141                4  06NImT91wUYvhRqBAYO07m  \n...                           ...              ...                     ...  \n13279                    4.333333                2  3AESCWpgSq8ykxcctEQ2mb  \n13280                 1390.761303                2  71kmbARcZOwkZ6v7lqJaW4  \n13281                    7.000000                4  6reSddz928YVnAXuLrgFT0  \n13282                 1024.981768                2  4dUH7FYUfmPzqS8KA3Ddbs  \n13283                 1712.093687               96  4iHNK0tOyZPYnBU7nGAgpQ  \n\n[13284 rows x 10 columns]",
      "text/html": "<div>\n<style scoped>\n    .dataframe tbody tr th:only-of-type {\n        vertical-align: middle;\n    }\n\n    .dataframe tbody tr th {\n        vertical-align: top;\n    }\n\n    .dataframe thead th {\n        text-align: right;\n    }\n</style>\n<table border=\"1\" class=\"dataframe\">\n  <thead>\n    <tr style=\"text-align: right;\">\n      <th></th>\n      <th>name</th>\n      <th>betweenesscentrality</th>\n      <th>closnesscentrality</th>\n      <th>clustering</th>\n      <th>degree</th>\n      <th>eccentricity</th>\n      <th>eigencentrality</th>\n      <th>harmonicclosnesscentrality</th>\n      <th>weighted degree</th>\n      <th>Spotify ID</th>\n    </tr>\n  </thead>\n  <tbody>\n    <tr>\n      <th>0</th>\n      <td>Brazil Beat</td>\n      <td>0.000000</td>\n      <td>0.478873</td>\n      <td>0.000000</td>\n      <td>1</td>\n      <td>3</td>\n      <td>0.128397</td>\n      <td>16.833333</td>\n      <td>2</td>\n      <td>7bcEoznqVIoj6g73gd0bls</td>\n    </tr>\n    <tr>\n      <th>1</th>\n      <td>Ella Henderson</td>\n      <td>0.000537</td>\n      <td>0.182102</td>\n      <td>0.000000</td>\n      <td>4</td>\n      <td>13</td>\n      <td>0.000611</td>\n      <td>1327.372097</td>\n      <td>8</td>\n      <td>7nDsS0l5ZAzMedVRKPP8F1</td>\n    </tr>\n    <tr>\n      <th>2</th>\n      <td>Motown Moe</td>\n      <td>0.000000</td>\n      <td>0.000000</td>\n      <td>0.000000</td>\n      <td>0</td>\n      <td>0</td>\n      <td>1.000000</td>\n      <td>0.000000</td>\n      <td>0</td>\n      <td>11Zyntp0JZFeb8uyttfNIw</td>\n    </tr>\n    <tr>\n      <th>3</th>\n      <td>Caoimhín Ó Raghallaigh</td>\n      <td>0.000000</td>\n      <td>1.000000</td>\n      <td>0.000000</td>\n      <td>1</td>\n      <td>1</td>\n      <td>0.707107</td>\n      <td>1.000000</td>\n      <td>2</td>\n      <td>2w5HzcbBTCyYSWqbmM5UxA</td>\n    </tr>\n    <tr>\n      <th>4</th>\n      <td>Bruce Hornsby &amp; The Noisemakers</td>\n      <td>0.000293</td>\n      <td>0.142789</td>\n      <td>0.000000</td>\n      <td>2</td>\n      <td>14</td>\n      <td>0.000002</td>\n      <td>1022.151141</td>\n      <td>4</td>\n      <td>06NImT91wUYvhRqBAYO07m</td>\n    </tr>\n    <tr>\n      <th>...</th>\n      <td>...</td>\n      <td>...</td>\n      <td>...</td>\n      <td>...</td>\n      <td>...</td>\n      <td>...</td>\n      <td>...</td>\n      <td>...</td>\n      <td>...</td>\n      <td>...</td>\n    </tr>\n    <tr>\n      <th>13279</th>\n      <td>Positive Force</td>\n      <td>0.000000</td>\n      <td>0.500000</td>\n      <td>0.000000</td>\n      <td>1</td>\n      <td>3</td>\n      <td>0.260804</td>\n      <td>4.333333</td>\n      <td>2</td>\n      <td>3AESCWpgSq8ykxcctEQ2mb</td>\n    </tr>\n    <tr>\n      <th>13280</th>\n      <td>Tay Beatz</td>\n      <td>0.000000</td>\n      <td>0.185976</td>\n      <td>0.000000</td>\n      <td>1</td>\n      <td>14</td>\n      <td>0.007641</td>\n      <td>1390.761303</td>\n      <td>2</td>\n      <td>71kmbARcZOwkZ6v7lqJaW4</td>\n    </tr>\n    <tr>\n      <th>13281</th>\n      <td>Baumon</td>\n      <td>0.000000</td>\n      <td>0.520000</td>\n      <td>0.000000</td>\n      <td>1</td>\n      <td>2</td>\n      <td>0.196116</td>\n      <td>7.000000</td>\n      <td>4</td>\n      <td>6reSddz928YVnAXuLrgFT0</td>\n    </tr>\n    <tr>\n      <th>13282</th>\n      <td>Ms. Krazie</td>\n      <td>0.000000</td>\n      <td>0.143583</td>\n      <td>0.000000</td>\n      <td>1</td>\n      <td>14</td>\n      <td>0.000014</td>\n      <td>1024.981768</td>\n      <td>2</td>\n      <td>4dUH7FYUfmPzqS8KA3Ddbs</td>\n    </tr>\n    <tr>\n      <th>13283</th>\n      <td>Mariah Carey</td>\n      <td>0.007354</td>\n      <td>0.225147</td>\n      <td>0.106061</td>\n      <td>12</td>\n      <td>12</td>\n      <td>0.049175</td>\n      <td>1712.093687</td>\n      <td>96</td>\n      <td>4iHNK0tOyZPYnBU7nGAgpQ</td>\n    </tr>\n  </tbody>\n</table>\n<p>13284 rows × 10 columns</p>\n</div>"
     },
     "execution_count": 12,
     "metadata": {},
     "output_type": "execute_result"
    }
   ],
   "source": [
    "# Assuming G is your NetworkX graph\n",
    "\n",
    "# Extract nodes and their attributes from the graph\n",
    "nodes_with_attributes = [(G.nodes[node], node) for node in G.nodes()]\n",
    "\n",
    "# Create a DataFrame from the nodes and their attributes\n",
    "df_nodes_train = pd.DataFrame(nodes_with_attributes, columns=['Attributes', \"Spotify ID\"])\n",
    "\n",
    "# Normalize the 'Attributes' column to expand it into separate columns\n",
    "df_attributes = pd.json_normalize(df_nodes_train['Attributes'])\n",
    "\n",
    "# Combine the original 'Node' column with the expanded attributes\n",
    "df_nodes_train = pd.concat([df_attributes, df_nodes_train['Spotify ID']], axis=1)\n",
    "\n",
    "# Display the DataFrame\n",
    "df_nodes_train\n"
   ],
   "metadata": {
    "collapsed": false,
    "ExecuteTime": {
     "end_time": "2024-05-14T12:35:12.006180300Z",
     "start_time": "2024-05-14T12:35:11.913186100Z"
    }
   },
   "id": "d9e1977f884c1238"
  },
  {
   "cell_type": "code",
   "execution_count": 13,
   "outputs": [],
   "source": [
    "metrics_names = ['betweenesscentrality',\n",
    "                 'closnesscentrality',\n",
    "                 'clustering',\n",
    "                 'degree',\n",
    "                 'eccentricity',\n",
    "                 'eigencentrality',\n",
    "                 'weighted degree']\n",
    "\n"
   ],
   "metadata": {
    "collapsed": false,
    "ExecuteTime": {
     "end_time": "2024-05-14T12:35:12.033177400Z",
     "start_time": "2024-05-14T12:35:12.000178200Z"
    }
   },
   "id": "32b6ee76717a0426"
  },
  {
   "cell_type": "code",
   "execution_count": 14,
   "outputs": [
    {
     "data": {
      "text/plain": "                                  name  betweenesscentrality  \\\n0                          Brazil Beat              0.000000   \n1                       Ella Henderson              0.000537   \n2                           Motown Moe              0.000000   \n3               Caoimhín Ó Raghallaigh              0.000000   \n4      Bruce Hornsby & The Noisemakers              0.000293   \n...                                ...                   ...   \n13279                   Positive Force              0.000000   \n13280                        Tay Beatz              0.000000   \n13281                           Baumon              0.000000   \n13282                       Ms. Krazie              0.000000   \n13283                     Mariah Carey              0.007354   \n\n       closnesscentrality  clustering    degree  eccentricity  \\\n0                0.478873    0.000000  0.005236          0.15   \n1                0.182102    0.000000  0.020942          0.65   \n2                0.000000    0.000000  0.000000          0.00   \n3                1.000000    0.000000  0.005236          0.05   \n4                0.142789    0.000000  0.010471          0.70   \n...                   ...         ...       ...           ...   \n13279            0.500000    0.000000  0.005236          0.15   \n13280            0.185976    0.000000  0.005236          0.70   \n13281            0.520000    0.000000  0.005236          0.10   \n13282            0.143583    0.000000  0.005236          0.70   \n13283            0.225147    0.106061  0.062827          0.60   \n\n       eigencentrality  harmonicclosnesscentrality  weighted degree  \\\n0             0.128397                   16.833333         0.001490   \n1             0.000611                 1327.372097         0.005961   \n2             1.000000                    0.000000         0.000000   \n3             0.707107                    1.000000         0.001490   \n4             0.000002                 1022.151141         0.002981   \n...                ...                         ...              ...   \n13279         0.260804                    4.333333         0.001490   \n13280         0.007641                 1390.761303         0.001490   \n13281         0.196116                    7.000000         0.002981   \n13282         0.000014                 1024.981768         0.001490   \n13283         0.049175                 1712.093687         0.071535   \n\n                   Spotify ID  \n0      7bcEoznqVIoj6g73gd0bls  \n1      7nDsS0l5ZAzMedVRKPP8F1  \n2      11Zyntp0JZFeb8uyttfNIw  \n3      2w5HzcbBTCyYSWqbmM5UxA  \n4      06NImT91wUYvhRqBAYO07m  \n...                       ...  \n13279  3AESCWpgSq8ykxcctEQ2mb  \n13280  71kmbARcZOwkZ6v7lqJaW4  \n13281  6reSddz928YVnAXuLrgFT0  \n13282  4dUH7FYUfmPzqS8KA3Ddbs  \n13283  4iHNK0tOyZPYnBU7nGAgpQ  \n\n[13284 rows x 10 columns]",
      "text/html": "<div>\n<style scoped>\n    .dataframe tbody tr th:only-of-type {\n        vertical-align: middle;\n    }\n\n    .dataframe tbody tr th {\n        vertical-align: top;\n    }\n\n    .dataframe thead th {\n        text-align: right;\n    }\n</style>\n<table border=\"1\" class=\"dataframe\">\n  <thead>\n    <tr style=\"text-align: right;\">\n      <th></th>\n      <th>name</th>\n      <th>betweenesscentrality</th>\n      <th>closnesscentrality</th>\n      <th>clustering</th>\n      <th>degree</th>\n      <th>eccentricity</th>\n      <th>eigencentrality</th>\n      <th>harmonicclosnesscentrality</th>\n      <th>weighted degree</th>\n      <th>Spotify ID</th>\n    </tr>\n  </thead>\n  <tbody>\n    <tr>\n      <th>0</th>\n      <td>Brazil Beat</td>\n      <td>0.000000</td>\n      <td>0.478873</td>\n      <td>0.000000</td>\n      <td>0.005236</td>\n      <td>0.15</td>\n      <td>0.128397</td>\n      <td>16.833333</td>\n      <td>0.001490</td>\n      <td>7bcEoznqVIoj6g73gd0bls</td>\n    </tr>\n    <tr>\n      <th>1</th>\n      <td>Ella Henderson</td>\n      <td>0.000537</td>\n      <td>0.182102</td>\n      <td>0.000000</td>\n      <td>0.020942</td>\n      <td>0.65</td>\n      <td>0.000611</td>\n      <td>1327.372097</td>\n      <td>0.005961</td>\n      <td>7nDsS0l5ZAzMedVRKPP8F1</td>\n    </tr>\n    <tr>\n      <th>2</th>\n      <td>Motown Moe</td>\n      <td>0.000000</td>\n      <td>0.000000</td>\n      <td>0.000000</td>\n      <td>0.000000</td>\n      <td>0.00</td>\n      <td>1.000000</td>\n      <td>0.000000</td>\n      <td>0.000000</td>\n      <td>11Zyntp0JZFeb8uyttfNIw</td>\n    </tr>\n    <tr>\n      <th>3</th>\n      <td>Caoimhín Ó Raghallaigh</td>\n      <td>0.000000</td>\n      <td>1.000000</td>\n      <td>0.000000</td>\n      <td>0.005236</td>\n      <td>0.05</td>\n      <td>0.707107</td>\n      <td>1.000000</td>\n      <td>0.001490</td>\n      <td>2w5HzcbBTCyYSWqbmM5UxA</td>\n    </tr>\n    <tr>\n      <th>4</th>\n      <td>Bruce Hornsby &amp; The Noisemakers</td>\n      <td>0.000293</td>\n      <td>0.142789</td>\n      <td>0.000000</td>\n      <td>0.010471</td>\n      <td>0.70</td>\n      <td>0.000002</td>\n      <td>1022.151141</td>\n      <td>0.002981</td>\n      <td>06NImT91wUYvhRqBAYO07m</td>\n    </tr>\n    <tr>\n      <th>...</th>\n      <td>...</td>\n      <td>...</td>\n      <td>...</td>\n      <td>...</td>\n      <td>...</td>\n      <td>...</td>\n      <td>...</td>\n      <td>...</td>\n      <td>...</td>\n      <td>...</td>\n    </tr>\n    <tr>\n      <th>13279</th>\n      <td>Positive Force</td>\n      <td>0.000000</td>\n      <td>0.500000</td>\n      <td>0.000000</td>\n      <td>0.005236</td>\n      <td>0.15</td>\n      <td>0.260804</td>\n      <td>4.333333</td>\n      <td>0.001490</td>\n      <td>3AESCWpgSq8ykxcctEQ2mb</td>\n    </tr>\n    <tr>\n      <th>13280</th>\n      <td>Tay Beatz</td>\n      <td>0.000000</td>\n      <td>0.185976</td>\n      <td>0.000000</td>\n      <td>0.005236</td>\n      <td>0.70</td>\n      <td>0.007641</td>\n      <td>1390.761303</td>\n      <td>0.001490</td>\n      <td>71kmbARcZOwkZ6v7lqJaW4</td>\n    </tr>\n    <tr>\n      <th>13281</th>\n      <td>Baumon</td>\n      <td>0.000000</td>\n      <td>0.520000</td>\n      <td>0.000000</td>\n      <td>0.005236</td>\n      <td>0.10</td>\n      <td>0.196116</td>\n      <td>7.000000</td>\n      <td>0.002981</td>\n      <td>6reSddz928YVnAXuLrgFT0</td>\n    </tr>\n    <tr>\n      <th>13282</th>\n      <td>Ms. Krazie</td>\n      <td>0.000000</td>\n      <td>0.143583</td>\n      <td>0.000000</td>\n      <td>0.005236</td>\n      <td>0.70</td>\n      <td>0.000014</td>\n      <td>1024.981768</td>\n      <td>0.001490</td>\n      <td>4dUH7FYUfmPzqS8KA3Ddbs</td>\n    </tr>\n    <tr>\n      <th>13283</th>\n      <td>Mariah Carey</td>\n      <td>0.007354</td>\n      <td>0.225147</td>\n      <td>0.106061</td>\n      <td>0.062827</td>\n      <td>0.60</td>\n      <td>0.049175</td>\n      <td>1712.093687</td>\n      <td>0.071535</td>\n      <td>4iHNK0tOyZPYnBU7nGAgpQ</td>\n    </tr>\n  </tbody>\n</table>\n<p>13284 rows × 10 columns</p>\n</div>"
     },
     "execution_count": 14,
     "metadata": {},
     "output_type": "execute_result"
    }
   ],
   "source": [
    "from sklearn.preprocessing import MinMaxScaler\n",
    "\n",
    "# Assuming df_nodes_train is your DataFrame\n",
    "# Select only the columns to be normalized\n",
    "columns_to_normalize = metrics_names  # Exclude the first and last columns\n",
    "data_to_normalize = df_nodes_train[columns_to_normalize]\n",
    "\n",
    "# Initialize MinMaxScaler\n",
    "scaler = MinMaxScaler()\n",
    "\n",
    "# Fit and transform the data\n",
    "normalized_data = scaler.fit_transform(data_to_normalize)\n",
    "\n",
    "# Replace the original data with the normalized values\n",
    "df_nodes_train_norm = df_nodes_train.copy()\n",
    "df_nodes_train_norm[columns_to_normalize] = normalized_data\n",
    "\n",
    "# Print the updated DataFrame\n",
    "df_nodes_train_norm"
   ],
   "metadata": {
    "collapsed": false,
    "ExecuteTime": {
     "end_time": "2024-05-14T12:35:12.103178500Z",
     "start_time": "2024-05-14T12:35:12.021178900Z"
    }
   },
   "id": "5804042ecdd0e347"
  },
  {
   "cell_type": "code",
   "execution_count": 15,
   "outputs": [
    {
     "name": "stdout",
     "output_type": "stream",
     "text": [
      "1/10\n",
      "2/10\n",
      "3/10\n",
      "4/10\n",
      "5/10\n",
      "6/10\n",
      "7/10\n",
      "8/10\n",
      "9/10\n",
      "10/10\n"
     ]
    },
    {
     "data": {
      "text/plain": "<Figure size 640x480 with 1 Axes>",
      "image/png": "[encoded data removed]"
     },
     "metadata": {},
     "output_type": "display_data"
    }
   ],
   "source": [
    "import pandas as pd\n",
    "import networkx as nx\n",
    "import matplotlib.pyplot as plt\n",
    "from sklearn.cluster import KMeans\n",
    "from sklearn.metrics import pairwise_distances\n",
    "import numpy as np\n",
    "\n",
    "# Assuming df is your DataFrame with node attributes and edge attributes added\n",
    "\n",
    "# Convert the DataFrame to a sparse adjacency matrix\n",
    "#A_dense = pairwise_distances(df_nodes_train.drop(columns=['Node']), metric='euclidean')\n",
    "A_dense = df_nodes_train_norm[metrics_names]\n",
    "\n",
    "# Apply Louvain community detection algorithm to detect communities (if needed)\n",
    "# You may need to find an alternative community detection algorithm for DataFrame-based graphs\n",
    "\n",
    "# Calculate the modularity for different values of k\n",
    "k_values = range(1, 11)  # Adjust the range as needed\n",
    "inertias = []\n",
    "\n",
    "amount_k = len(k_values)\n",
    "for k in k_values:\n",
    "    print(f'{k}/{amount_k}')\n",
    "    kmeans = KMeans(n_clusters=k, init='k-means++', max_iter=300, n_init=10, random_state=0)\n",
    "    kmeans.fit(A_dense)\n",
    "    inertia = kmeans.inertia_\n",
    "    inertias.append(inertia)\n",
    "\n",
    "# Plot the elbow curve\n",
    "plt.plot(k_values, inertias, marker='o')\n",
    "plt.xlabel('Number of clusters (k)')\n",
    "plt.ylabel('Inertia')\n",
    "plt.title('Elbow Method for Optimal Number of Clusters')\n",
    "plt.grid(True)\n",
    "plt.show()\n"
   ],
   "metadata": {
    "collapsed": false,
    "ExecuteTime": {
     "end_time": "2024-05-14T12:35:13.105180700Z",
     "start_time": "2024-05-14T12:35:12.048178500Z"
    }
   },
   "id": "417b9168dc9b4d6f"
  },
  {
   "cell_type": "code",
   "execution_count": 16,
   "outputs": [
    {
     "name": "stdout",
     "output_type": "stream",
     "text": [
      "Best number of clusters: 6\n"
     ]
    },
    {
     "data": {
      "text/plain": "[0.6802357457763349,\n 0.82632629893162,\n 0.8541831762156306,\n 0.8862971521543388,\n 0.8937857450029649,\n 0.8759295089182467,\n 0.6623366419733808,\n 0.6645589945435495,\n 0.6922633777946219]"
     },
     "execution_count": 16,
     "metadata": {},
     "output_type": "execute_result"
    }
   ],
   "source": [
    "from sklearn.metrics import silhouette_score\n",
    "\n",
    "silhouette_scores = []\n",
    "for k in range(2, 11):\n",
    "    kmeans = KMeans(n_clusters=k, init='k-means++', max_iter=300, n_init=10, random_state=0)\n",
    "    kmeans.fit(A_dense)\n",
    "    score = silhouette_score(A_dense, kmeans.labels_)\n",
    "    silhouette_scores.append(score)\n",
    "\n",
    "best_k = np.argmax(silhouette_scores) + 2  # Adding 2 because range starts from 2\n",
    "print(\"Best number of clusters:\", best_k)\n",
    "silhouette_scores"
   ],
   "metadata": {
    "collapsed": false,
    "ExecuteTime": {
     "end_time": "2024-05-14T12:35:29.382176400Z",
     "start_time": "2024-05-14T12:35:13.109179600Z"
    }
   },
   "id": "be04cc9a0d49f452"
  },
  {
   "cell_type": "code",
   "execution_count": 17,
   "outputs": [
    {
     "data": {
      "text/plain": "                                  name  betweenesscentrality  \\\n0                          Brazil Beat              0.000000   \n1                       Ella Henderson              0.000537   \n2                           Motown Moe              0.000000   \n3               Caoimhín Ó Raghallaigh              0.000000   \n4      Bruce Hornsby & The Noisemakers              0.000293   \n...                                ...                   ...   \n13279                   Positive Force              0.000000   \n13280                        Tay Beatz              0.000000   \n13281                           Baumon              0.000000   \n13282                       Ms. Krazie              0.000000   \n13283                     Mariah Carey              0.007354   \n\n       closnesscentrality  clustering  degree  eccentricity  eigencentrality  \\\n0                0.478873    0.000000       1             3         0.128397   \n1                0.182102    0.000000       4            13         0.000611   \n2                0.000000    0.000000       0             0         1.000000   \n3                1.000000    0.000000       1             1         0.707107   \n4                0.142789    0.000000       2            14         0.000002   \n...                   ...         ...     ...           ...              ...   \n13279            0.500000    0.000000       1             3         0.260804   \n13280            0.185976    0.000000       1            14         0.007641   \n13281            0.520000    0.000000       1             2         0.196116   \n13282            0.143583    0.000000       1            14         0.000014   \n13283            0.225147    0.106061      12            12         0.049175   \n\n       harmonicclosnesscentrality  weighted degree              Spotify ID  \\\n0                       16.833333                2  7bcEoznqVIoj6g73gd0bls   \n1                     1327.372097                8  7nDsS0l5ZAzMedVRKPP8F1   \n2                        0.000000                0  11Zyntp0JZFeb8uyttfNIw   \n3                        1.000000                2  2w5HzcbBTCyYSWqbmM5UxA   \n4                     1022.151141                4  06NImT91wUYvhRqBAYO07m   \n...                           ...              ...                     ...   \n13279                    4.333333                2  3AESCWpgSq8ykxcctEQ2mb   \n13280                 1390.761303                2  71kmbARcZOwkZ6v7lqJaW4   \n13281                    7.000000                4  6reSddz928YVnAXuLrgFT0   \n13282                 1024.981768                2  4dUH7FYUfmPzqS8KA3Ddbs   \n13283                 1712.093687               96  4iHNK0tOyZPYnBU7nGAgpQ   \n\n       Cluster  \n0            0  \n1            1  \n2            2  \n3            3  \n4            1  \n...        ...  \n13279        0  \n13280        1  \n13281        0  \n13282        1  \n13283        1  \n\n[13284 rows x 11 columns]",
      "text/html": "<div>\n<style scoped>\n    .dataframe tbody tr th:only-of-type {\n        vertical-align: middle;\n    }\n\n    .dataframe tbody tr th {\n        vertical-align: top;\n    }\n\n    .dataframe thead th {\n        text-align: right;\n    }\n</style>\n<table border=\"1\" class=\"dataframe\">\n  <thead>\n    <tr style=\"text-align: right;\">\n      <th></th>\n      <th>name</th>\n      <th>betweenesscentrality</th>\n      <th>closnesscentrality</th>\n      <th>clustering</th>\n      <th>degree</th>\n      <th>eccentricity</th>\n      <th>eigencentrality</th>\n      <th>harmonicclosnesscentrality</th>\n      <th>weighted degree</th>\n      <th>Spotify ID</th>\n      <th>Cluster</th>\n    </tr>\n  </thead>\n  <tbody>\n    <tr>\n      <th>0</th>\n      <td>Brazil Beat</td>\n      <td>0.000000</td>\n      <td>0.478873</td>\n      <td>0.000000</td>\n      <td>1</td>\n      <td>3</td>\n      <td>0.128397</td>\n      <td>16.833333</td>\n      <td>2</td>\n      <td>7bcEoznqVIoj6g73gd0bls</td>\n      <td>0</td>\n    </tr>\n    <tr>\n      <th>1</th>\n      <td>Ella Henderson</td>\n      <td>0.000537</td>\n      <td>0.182102</td>\n      <td>0.000000</td>\n      <td>4</td>\n      <td>13</td>\n      <td>0.000611</td>\n      <td>1327.372097</td>\n      <td>8</td>\n      <td>7nDsS0l5ZAzMedVRKPP8F1</td>\n      <td>1</td>\n    </tr>\n    <tr>\n      <th>2</th>\n      <td>Motown Moe</td>\n      <td>0.000000</td>\n      <td>0.000000</td>\n      <td>0.000000</td>\n      <td>0</td>\n      <td>0</td>\n      <td>1.000000</td>\n      <td>0.000000</td>\n      <td>0</td>\n      <td>11Zyntp0JZFeb8uyttfNIw</td>\n      <td>2</td>\n    </tr>\n    <tr>\n      <th>3</th>\n      <td>Caoimhín Ó Raghallaigh</td>\n      <td>0.000000</td>\n      <td>1.000000</td>\n      <td>0.000000</td>\n      <td>1</td>\n      <td>1</td>\n      <td>0.707107</td>\n      <td>1.000000</td>\n      <td>2</td>\n      <td>2w5HzcbBTCyYSWqbmM5UxA</td>\n      <td>3</td>\n    </tr>\n    <tr>\n      <th>4</th>\n      <td>Bruce Hornsby &amp; The Noisemakers</td>\n      <td>0.000293</td>\n      <td>0.142789</td>\n      <td>0.000000</td>\n      <td>2</td>\n      <td>14</td>\n      <td>0.000002</td>\n      <td>1022.151141</td>\n      <td>4</td>\n      <td>06NImT91wUYvhRqBAYO07m</td>\n      <td>1</td>\n    </tr>\n    <tr>\n      <th>...</th>\n      <td>...</td>\n      <td>...</td>\n      <td>...</td>\n      <td>...</td>\n      <td>...</td>\n      <td>...</td>\n      <td>...</td>\n      <td>...</td>\n      <td>...</td>\n      <td>...</td>\n      <td>...</td>\n    </tr>\n    <tr>\n      <th>13279</th>\n      <td>Positive Force</td>\n      <td>0.000000</td>\n      <td>0.500000</td>\n      <td>0.000000</td>\n      <td>1</td>\n      <td>3</td>\n      <td>0.260804</td>\n      <td>4.333333</td>\n      <td>2</td>\n      <td>3AESCWpgSq8ykxcctEQ2mb</td>\n      <td>0</td>\n    </tr>\n    <tr>\n      <th>13280</th>\n      <td>Tay Beatz</td>\n      <td>0.000000</td>\n      <td>0.185976</td>\n      <td>0.000000</td>\n      <td>1</td>\n      <td>14</td>\n      <td>0.007641</td>\n      <td>1390.761303</td>\n      <td>2</td>\n      <td>71kmbARcZOwkZ6v7lqJaW4</td>\n      <td>1</td>\n    </tr>\n    <tr>\n      <th>13281</th>\n      <td>Baumon</td>\n      <td>0.000000</td>\n      <td>0.520000</td>\n      <td>0.000000</td>\n      <td>1</td>\n      <td>2</td>\n      <td>0.196116</td>\n      <td>7.000000</td>\n      <td>4</td>\n      <td>6reSddz928YVnAXuLrgFT0</td>\n      <td>0</td>\n    </tr>\n    <tr>\n      <th>13282</th>\n      <td>Ms. Krazie</td>\n      <td>0.000000</td>\n      <td>0.143583</td>\n      <td>0.000000</td>\n      <td>1</td>\n      <td>14</td>\n      <td>0.000014</td>\n      <td>1024.981768</td>\n      <td>2</td>\n      <td>4dUH7FYUfmPzqS8KA3Ddbs</td>\n      <td>1</td>\n    </tr>\n    <tr>\n      <th>13283</th>\n      <td>Mariah Carey</td>\n      <td>0.007354</td>\n      <td>0.225147</td>\n      <td>0.106061</td>\n      <td>12</td>\n      <td>12</td>\n      <td>0.049175</td>\n      <td>1712.093687</td>\n      <td>96</td>\n      <td>4iHNK0tOyZPYnBU7nGAgpQ</td>\n      <td>1</td>\n    </tr>\n  </tbody>\n</table>\n<p>13284 rows × 11 columns</p>\n</div>"
     },
     "execution_count": 17,
     "metadata": {},
     "output_type": "execute_result"
    }
   ],
   "source": [
    "from sklearn.cluster import KMeans\n",
    "\n",
    "# Assuming df_nodes_train is your DataFrame containing node attributes\n",
    "\n",
    "# Extract the features (attributes) from the DataFrame\n",
    "X = df_nodes_train_norm[metrics_names]\n",
    "\n",
    "# Specify the number of clusters (k)\n",
    "#k = best_k  # Adjust as needed\n",
    "k = 6\n",
    "\n",
    "# Initialize KMeans model\n",
    "kmeans = KMeans(n_clusters=k, init='k-means++', max_iter=300, n_init=10, random_state=0)\n",
    "\n",
    "# Fit the model to the data\n",
    "kmeans.fit(X)\n",
    "\n",
    "# Get the cluster labels\n",
    "cluster_labels = kmeans.labels_\n",
    "\n",
    "# Add cluster labels as a new column in the DataFrame\n",
    "df_nodes_train['Cluster'] = cluster_labels\n",
    "df_nodes_train_norm['Cluster'] = cluster_labels\n",
    "\n",
    "# Display the DataFrame with cluster labels\n",
    "df_nodes_train\n"
   ],
   "metadata": {
    "collapsed": false,
    "ExecuteTime": {
     "end_time": "2024-05-14T12:35:29.466177100Z",
     "start_time": "2024-05-14T12:35:29.382176400Z"
    }
   },
   "id": "902ef4c55b55f728"
  },
  {
   "cell_type": "code",
   "execution_count": 18,
   "outputs": [
    {
     "name": "stdout",
     "output_type": "stream",
     "text": [
      "Cluster\n",
      "1    6781\n",
      "2    3403\n",
      "0    1497\n",
      "3    1181\n",
      "4     362\n",
      "5      60\n",
      "Name: count, dtype: int64\n"
     ]
    }
   ],
   "source": [
    "# Assuming df_nodes_train is your DataFrame with cluster labels\n",
    "\n",
    "# Calculate the cardinality of each cluster\n",
    "cluster_cardinality = df_nodes_train_norm['Cluster'].value_counts()\n",
    "\n",
    "# Display the cardinality of each cluster\n",
    "print(cluster_cardinality)\n"
   ],
   "metadata": {
    "collapsed": false,
    "ExecuteTime": {
     "end_time": "2024-05-14T12:35:29.471176700Z",
     "start_time": "2024-05-14T12:35:29.446175200Z"
    }
   },
   "id": "cdba43d1cd2330eb"
  },
  {
   "cell_type": "code",
   "execution_count": 19,
   "outputs": [
    {
     "data": {
      "text/plain": "        profile  degree  weighted degree  eccentricity  closnesscentrality  \\\n0   1A 2A 3A 4A       0                0             0                   0   \n1   1A 2A 3A 4B       0                0             0                   0   \n2   1A 2A 3B 4A       0                0             0                   0   \n3   1A 2A 3B 4B       0                0             0                   0   \n4   1A 2B 3A 4A       0                0             1                   1   \n5   1A 2B 3A 4B       0                0             1                   1   \n6   1A 2B 3B 4A       0                0             1                   1   \n7   1A 2B 3B 4B       0                0             1                   1   \n8   1B 2A 3A 4A       1                1             0                   0   \n9   1B 2A 3A 4B       1                1             0                   0   \n10  1B 2A 3B 4A       1                1             0                   0   \n11  1B 2A 3B 4B       1                1             0                   0   \n12  1B 2B 3A 4A       1                1             1                   1   \n13  1B 2B 3A 4B       1                1             1                   1   \n14  1B 2B 3B 4A       1                1             1                   1   \n15  1B 2B 3B 4B       1                1             1                   1   \n\n    clustering  betweenesscentrality  eigencentrality  \n0            0                     0                0  \n1            0                     1                1  \n2            1                     0                0  \n3            1                     1                1  \n4            0                     0                0  \n5            0                     1                1  \n6            1                     0                0  \n7            1                     1                1  \n8            0                     0                0  \n9            0                     1                1  \n10           1                     0                0  \n11           1                     1                1  \n12           0                     0                0  \n13           0                     1                1  \n14           1                     0                0  \n15           1                     1                1  ",
      "text/html": "<div>\n<style scoped>\n    .dataframe tbody tr th:only-of-type {\n        vertical-align: middle;\n    }\n\n    .dataframe tbody tr th {\n        vertical-align: top;\n    }\n\n    .dataframe thead th {\n        text-align: right;\n    }\n</style>\n<table border=\"1\" class=\"dataframe\">\n  <thead>\n    <tr style=\"text-align: right;\">\n      <th></th>\n      <th>profile</th>\n      <th>degree</th>\n      <th>weighted degree</th>\n      <th>eccentricity</th>\n      <th>closnesscentrality</th>\n      <th>clustering</th>\n      <th>betweenesscentrality</th>\n      <th>eigencentrality</th>\n    </tr>\n  </thead>\n  <tbody>\n    <tr>\n      <th>0</th>\n      <td>1A 2A 3A 4A</td>\n      <td>0</td>\n      <td>0</td>\n      <td>0</td>\n      <td>0</td>\n      <td>0</td>\n      <td>0</td>\n      <td>0</td>\n    </tr>\n    <tr>\n      <th>1</th>\n      <td>1A 2A 3A 4B</td>\n      <td>0</td>\n      <td>0</td>\n      <td>0</td>\n      <td>0</td>\n      <td>0</td>\n      <td>1</td>\n      <td>1</td>\n    </tr>\n    <tr>\n      <th>2</th>\n      <td>1A 2A 3B 4A</td>\n      <td>0</td>\n      <td>0</td>\n      <td>0</td>\n      <td>0</td>\n      <td>1</td>\n      <td>0</td>\n      <td>0</td>\n    </tr>\n    <tr>\n      <th>3</th>\n      <td>1A 2A 3B 4B</td>\n      <td>0</td>\n      <td>0</td>\n      <td>0</td>\n      <td>0</td>\n      <td>1</td>\n      <td>1</td>\n      <td>1</td>\n    </tr>\n    <tr>\n      <th>4</th>\n      <td>1A 2B 3A 4A</td>\n      <td>0</td>\n      <td>0</td>\n      <td>1</td>\n      <td>1</td>\n      <td>0</td>\n      <td>0</td>\n      <td>0</td>\n    </tr>\n    <tr>\n      <th>5</th>\n      <td>1A 2B 3A 4B</td>\n      <td>0</td>\n      <td>0</td>\n      <td>1</td>\n      <td>1</td>\n      <td>0</td>\n      <td>1</td>\n      <td>1</td>\n    </tr>\n    <tr>\n      <th>6</th>\n      <td>1A 2B 3B 4A</td>\n      <td>0</td>\n      <td>0</td>\n      <td>1</td>\n      <td>1</td>\n      <td>1</td>\n      <td>0</td>\n      <td>0</td>\n    </tr>\n    <tr>\n      <th>7</th>\n      <td>1A 2B 3B 4B</td>\n      <td>0</td>\n      <td>0</td>\n      <td>1</td>\n      <td>1</td>\n      <td>1</td>\n      <td>1</td>\n      <td>1</td>\n    </tr>\n    <tr>\n      <th>8</th>\n      <td>1B 2A 3A 4A</td>\n      <td>1</td>\n      <td>1</td>\n      <td>0</td>\n      <td>0</td>\n      <td>0</td>\n      <td>0</td>\n      <td>0</td>\n    </tr>\n    <tr>\n      <th>9</th>\n      <td>1B 2A 3A 4B</td>\n      <td>1</td>\n      <td>1</td>\n      <td>0</td>\n      <td>0</td>\n      <td>0</td>\n      <td>1</td>\n      <td>1</td>\n    </tr>\n    <tr>\n      <th>10</th>\n      <td>1B 2A 3B 4A</td>\n      <td>1</td>\n      <td>1</td>\n      <td>0</td>\n      <td>0</td>\n      <td>1</td>\n      <td>0</td>\n      <td>0</td>\n    </tr>\n    <tr>\n      <th>11</th>\n      <td>1B 2A 3B 4B</td>\n      <td>1</td>\n      <td>1</td>\n      <td>0</td>\n      <td>0</td>\n      <td>1</td>\n      <td>1</td>\n      <td>1</td>\n    </tr>\n    <tr>\n      <th>12</th>\n      <td>1B 2B 3A 4A</td>\n      <td>1</td>\n      <td>1</td>\n      <td>1</td>\n      <td>1</td>\n      <td>0</td>\n      <td>0</td>\n      <td>0</td>\n    </tr>\n    <tr>\n      <th>13</th>\n      <td>1B 2B 3A 4B</td>\n      <td>1</td>\n      <td>1</td>\n      <td>1</td>\n      <td>1</td>\n      <td>0</td>\n      <td>1</td>\n      <td>1</td>\n    </tr>\n    <tr>\n      <th>14</th>\n      <td>1B 2B 3B 4A</td>\n      <td>1</td>\n      <td>1</td>\n      <td>1</td>\n      <td>1</td>\n      <td>1</td>\n      <td>0</td>\n      <td>0</td>\n    </tr>\n    <tr>\n      <th>15</th>\n      <td>1B 2B 3B 4B</td>\n      <td>1</td>\n      <td>1</td>\n      <td>1</td>\n      <td>1</td>\n      <td>1</td>\n      <td>1</td>\n      <td>1</td>\n    </tr>\n  </tbody>\n</table>\n</div>"
     },
     "execution_count": 19,
     "metadata": {},
     "output_type": "execute_result"
    }
   ],
   "source": [
    "import pandas as pd\n",
    "\n",
    "data = [\n",
    "    [\"1A 2A 3A 4A\", 0, 0, 0, 0, 0, 0, 0],\n",
    "    [\"1A 2A 3A 4B\", 0, 0, 0, 0, 0, 1, 1],\n",
    "    [\"1A 2A 3B 4A\", 0, 0, 0, 0, 1, 0, 0],\n",
    "    [\"1A 2A 3B 4B\", 0, 0, 0, 0, 1, 1, 1],\n",
    "    [\"1A 2B 3A 4A\", 0, 0, 1, 1, 0, 0, 0],\n",
    "    [\"1A 2B 3A 4B\", 0, 0, 1, 1, 0, 1, 1],\n",
    "    [\"1A 2B 3B 4A\", 0, 0, 1, 1, 1, 0, 0],\n",
    "    [\"1A 2B 3B 4B\", 0, 0, 1, 1, 1, 1, 1],\n",
    "    [\"1B 2A 3A 4A\", 1, 1, 0, 0, 0, 0, 0],\n",
    "    [\"1B 2A 3A 4B\", 1, 1, 0, 0, 0, 1, 1],\n",
    "    [\"1B 2A 3B 4A\", 1, 1, 0, 0, 1, 0, 0],\n",
    "    [\"1B 2A 3B 4B\", 1, 1, 0, 0, 1, 1, 1],\n",
    "    [\"1B 2B 3A 4A\", 1, 1, 1, 1, 0, 0, 0],\n",
    "    [\"1B 2B 3A 4B\", 1, 1, 1, 1, 0, 1, 1],\n",
    "    [\"1B 2B 3B 4A\", 1, 1, 1, 1, 1, 0, 0],\n",
    "    [\"1B 2B 3B 4B\", 1, 1, 1, 1, 1, 1, 1]\n",
    "]\n",
    "\n",
    "df = pd.DataFrame(data, columns=[\"profile\", \"degree\", \"weighted degree\", \"eccentricity\", \"closnesscentrality\", \"clustering\", \"betweenesscentrality\", \"eigencentrality\"])\n",
    "\n",
    "df"
   ],
   "metadata": {
    "collapsed": false,
    "ExecuteTime": {
     "end_time": "2024-05-14T12:35:29.548178300Z",
     "start_time": "2024-05-14T12:35:29.466177100Z"
    }
   },
   "id": "e4dcc0e113cf62e9"
  },
  {
   "cell_type": "code",
   "execution_count": 20,
   "outputs": [
    {
     "data": {
      "text/plain": "                                  name  betweenesscentrality  \\\n0                          Brazil Beat              0.000000   \n1                       Ella Henderson              0.000537   \n2                           Motown Moe              0.000000   \n3               Caoimhín Ó Raghallaigh              0.000000   \n4      Bruce Hornsby & The Noisemakers              0.000293   \n...                                ...                   ...   \n13279                   Positive Force              0.000000   \n13280                        Tay Beatz              0.000000   \n13281                           Baumon              0.000000   \n13282                       Ms. Krazie              0.000000   \n13283                     Mariah Carey              0.007354   \n\n       closnesscentrality  clustering  degree  eccentricity  eigencentrality  \\\n0                0.478873    0.000000       1             3         0.128397   \n1                0.182102    0.000000       4            13         0.000611   \n2                0.000000    0.000000       0             0         1.000000   \n3                1.000000    0.000000       1             1         0.707107   \n4                0.142789    0.000000       2            14         0.000002   \n...                   ...         ...     ...           ...              ...   \n13279            0.500000    0.000000       1             3         0.260804   \n13280            0.185976    0.000000       1            14         0.007641   \n13281            0.520000    0.000000       1             2         0.196116   \n13282            0.143583    0.000000       1            14         0.000014   \n13283            0.225147    0.106061      12            12         0.049175   \n\n       harmonicclosnesscentrality  weighted degree              Spotify ID  \\\n0                       16.833333                2  7bcEoznqVIoj6g73gd0bls   \n1                     1327.372097                8  7nDsS0l5ZAzMedVRKPP8F1   \n2                        0.000000                0  11Zyntp0JZFeb8uyttfNIw   \n3                        1.000000                2  2w5HzcbBTCyYSWqbmM5UxA   \n4                     1022.151141                4  06NImT91wUYvhRqBAYO07m   \n...                           ...              ...                     ...   \n13279                    4.333333                2  3AESCWpgSq8ykxcctEQ2mb   \n13280                 1390.761303                2  71kmbARcZOwkZ6v7lqJaW4   \n13281                    7.000000                4  6reSddz928YVnAXuLrgFT0   \n13282                 1024.981768                2  4dUH7FYUfmPzqS8KA3Ddbs   \n13283                 1712.093687               96  4iHNK0tOyZPYnBU7nGAgpQ   \n\n       Cluster      profile  \n0            0  1A 2A 3A 4A  \n1            1  1A 2A 3A 4A  \n2            2  1A 2A 3A 4A  \n3            3  1A 2B 3A 4A  \n4            1  1A 2A 3A 4A  \n...        ...          ...  \n13279        0  1A 2A 3A 4A  \n13280        1  1A 2A 3A 4A  \n13281        0  1A 2A 3A 4A  \n13282        1  1A 2A 3A 4A  \n13283        1  1A 2A 3A 4A  \n\n[13284 rows x 12 columns]",
      "text/html": "<div>\n<style scoped>\n    .dataframe tbody tr th:only-of-type {\n        vertical-align: middle;\n    }\n\n    .dataframe tbody tr th {\n        vertical-align: top;\n    }\n\n    .dataframe thead th {\n        text-align: right;\n    }\n</style>\n<table border=\"1\" class=\"dataframe\">\n  <thead>\n    <tr style=\"text-align: right;\">\n      <th></th>\n      <th>name</th>\n      <th>betweenesscentrality</th>\n      <th>closnesscentrality</th>\n      <th>clustering</th>\n      <th>degree</th>\n      <th>eccentricity</th>\n      <th>eigencentrality</th>\n      <th>harmonicclosnesscentrality</th>\n      <th>weighted degree</th>\n      <th>Spotify ID</th>\n      <th>Cluster</th>\n      <th>profile</th>\n    </tr>\n  </thead>\n  <tbody>\n    <tr>\n      <th>0</th>\n      <td>Brazil Beat</td>\n      <td>0.000000</td>\n      <td>0.478873</td>\n      <td>0.000000</td>\n      <td>1</td>\n      <td>3</td>\n      <td>0.128397</td>\n      <td>16.833333</td>\n      <td>2</td>\n      <td>7bcEoznqVIoj6g73gd0bls</td>\n      <td>0</td>\n      <td>1A 2A 3A 4A</td>\n    </tr>\n    <tr>\n      <th>1</th>\n      <td>Ella Henderson</td>\n      <td>0.000537</td>\n      <td>0.182102</td>\n      <td>0.000000</td>\n      <td>4</td>\n      <td>13</td>\n      <td>0.000611</td>\n      <td>1327.372097</td>\n      <td>8</td>\n      <td>7nDsS0l5ZAzMedVRKPP8F1</td>\n      <td>1</td>\n      <td>1A 2A 3A 4A</td>\n    </tr>\n    <tr>\n      <th>2</th>\n      <td>Motown Moe</td>\n      <td>0.000000</td>\n      <td>0.000000</td>\n      <td>0.000000</td>\n      <td>0</td>\n      <td>0</td>\n      <td>1.000000</td>\n      <td>0.000000</td>\n      <td>0</td>\n      <td>11Zyntp0JZFeb8uyttfNIw</td>\n      <td>2</td>\n      <td>1A 2A 3A 4A</td>\n    </tr>\n    <tr>\n      <th>3</th>\n      <td>Caoimhín Ó Raghallaigh</td>\n      <td>0.000000</td>\n      <td>1.000000</td>\n      <td>0.000000</td>\n      <td>1</td>\n      <td>1</td>\n      <td>0.707107</td>\n      <td>1.000000</td>\n      <td>2</td>\n      <td>2w5HzcbBTCyYSWqbmM5UxA</td>\n      <td>3</td>\n      <td>1A 2B 3A 4A</td>\n    </tr>\n    <tr>\n      <th>4</th>\n      <td>Bruce Hornsby &amp; The Noisemakers</td>\n      <td>0.000293</td>\n      <td>0.142789</td>\n      <td>0.000000</td>\n      <td>2</td>\n      <td>14</td>\n      <td>0.000002</td>\n      <td>1022.151141</td>\n      <td>4</td>\n      <td>06NImT91wUYvhRqBAYO07m</td>\n      <td>1</td>\n      <td>1A 2A 3A 4A</td>\n    </tr>\n    <tr>\n      <th>...</th>\n      <td>...</td>\n      <td>...</td>\n      <td>...</td>\n      <td>...</td>\n      <td>...</td>\n      <td>...</td>\n      <td>...</td>\n      <td>...</td>\n      <td>...</td>\n      <td>...</td>\n      <td>...</td>\n      <td>...</td>\n    </tr>\n    <tr>\n      <th>13279</th>\n      <td>Positive Force</td>\n      <td>0.000000</td>\n      <td>0.500000</td>\n      <td>0.000000</td>\n      <td>1</td>\n      <td>3</td>\n      <td>0.260804</td>\n      <td>4.333333</td>\n      <td>2</td>\n      <td>3AESCWpgSq8ykxcctEQ2mb</td>\n      <td>0</td>\n      <td>1A 2A 3A 4A</td>\n    </tr>\n    <tr>\n      <th>13280</th>\n      <td>Tay Beatz</td>\n      <td>0.000000</td>\n      <td>0.185976</td>\n      <td>0.000000</td>\n      <td>1</td>\n      <td>14</td>\n      <td>0.007641</td>\n      <td>1390.761303</td>\n      <td>2</td>\n      <td>71kmbARcZOwkZ6v7lqJaW4</td>\n      <td>1</td>\n      <td>1A 2A 3A 4A</td>\n    </tr>\n    <tr>\n      <th>13281</th>\n      <td>Baumon</td>\n      <td>0.000000</td>\n      <td>0.520000</td>\n      <td>0.000000</td>\n      <td>1</td>\n      <td>2</td>\n      <td>0.196116</td>\n      <td>7.000000</td>\n      <td>4</td>\n      <td>6reSddz928YVnAXuLrgFT0</td>\n      <td>0</td>\n      <td>1A 2A 3A 4A</td>\n    </tr>\n    <tr>\n      <th>13282</th>\n      <td>Ms. Krazie</td>\n      <td>0.000000</td>\n      <td>0.143583</td>\n      <td>0.000000</td>\n      <td>1</td>\n      <td>14</td>\n      <td>0.000014</td>\n      <td>1024.981768</td>\n      <td>2</td>\n      <td>4dUH7FYUfmPzqS8KA3Ddbs</td>\n      <td>1</td>\n      <td>1A 2A 3A 4A</td>\n    </tr>\n    <tr>\n      <th>13283</th>\n      <td>Mariah Carey</td>\n      <td>0.007354</td>\n      <td>0.225147</td>\n      <td>0.106061</td>\n      <td>12</td>\n      <td>12</td>\n      <td>0.049175</td>\n      <td>1712.093687</td>\n      <td>96</td>\n      <td>4iHNK0tOyZPYnBU7nGAgpQ</td>\n      <td>1</td>\n      <td>1A 2A 3A 4A</td>\n    </tr>\n  </tbody>\n</table>\n<p>13284 rows × 12 columns</p>\n</div>"
     },
     "execution_count": 20,
     "metadata": {},
     "output_type": "execute_result"
    }
   ],
   "source": [
    "import numpy as np\n",
    "\n",
    "# Function to calculate Euclidean distance\n",
    "def euclidean_distance(x, y):\n",
    "    return np.sqrt(np.sum((x - y) ** 2))\n",
    "\n",
    "profile = []\n",
    "\n",
    "common_columns = [\"degree\", \"weighted degree\", \"eccentricity\", \"closnesscentrality\", \"clustering\", \"betweenesscentrality\", \"eigencentrality\"]\n",
    "\n",
    "for index, row in df_nodes_train_norm.iterrows():\n",
    "    match_found = False\n",
    "    min_dist = np.inf\n",
    "    min_index = -1\n",
    "\n",
    "    for index2, prof in df.iterrows():\n",
    "        # Extract the common columns for the current rows\n",
    "        radar_row = row[common_columns]\n",
    "        df_row = prof[common_columns]\n",
    "\n",
    "        # Calculate the Euclidean distance\n",
    "        distance = euclidean_distance(radar_row.values, df_row.values)\n",
    "\n",
    "        if distance < min_dist:\n",
    "            min_dist = distance\n",
    "            min_index = index2\n",
    "\n",
    "    if min_index != -1:\n",
    "        profile.append(df[\"profile\"].iloc[min_index])\n",
    "    else:\n",
    "        profile.append(\"No Match\")\n",
    "\n",
    "# Insert the 'profile' column into df_nodes_train\n",
    "\n",
    "df_nodes_train.insert(df_nodes_train.shape[1], 'profile', profile)\n",
    "df_nodes_train_norm.insert(df_nodes_train_norm.shape[1], 'profile', profile)\n",
    "\n",
    "df_nodes_train\n"
   ],
   "metadata": {
    "collapsed": false,
    "ExecuteTime": {
     "end_time": "2024-05-14T12:37:26.618530100Z",
     "start_time": "2024-05-14T12:35:29.499176800Z"
    }
   },
   "id": "2dd5e61ccff9c8d1"
  },
  {
   "cell_type": "code",
   "execution_count": 21,
   "outputs": [],
   "source": [
    "df_nodes_train.to_csv(\"network_clustered/nodes_train.csv\", index=False)"
   ],
   "metadata": {
    "collapsed": false,
    "ExecuteTime": {
     "end_time": "2024-05-14T12:37:26.714531300Z",
     "start_time": "2024-05-14T12:37:26.608533Z"
    }
   },
   "id": "334384289b0c2842"
  },
  {
   "cell_type": "code",
   "execution_count": 22,
   "outputs": [
    {
     "data": {
      "text/plain": "<Figure size 1000x600 with 1 Axes>",
      "image/png": "[encoded data removed]"
     },
     "metadata": {},
     "output_type": "display_data"
    },
    {
     "data": {
      "text/plain": "<Figure size 1000x600 with 1 Axes>",
      "image/png": "[encoded data removed]"
     },
     "metadata": {},
     "output_type": "display_data"
    },
    {
     "data": {
      "text/plain": "<Figure size 1000x600 with 1 Axes>",
      "image/png": "[encoded data removed]"
     },
     "metadata": {},
     "output_type": "display_data"
    },
    {
     "data": {
      "text/plain": "<Figure size 1000x600 with 1 Axes>",
      "image/png": "[encoded data removed]"
     },
     "metadata": {},
     "output_type": "display_data"
    },
    {
     "data": {
      "text/plain": "<Figure size 1000x600 with 1 Axes>",
      "image/png": "[encoded data removed]"
     },
     "metadata": {},
     "output_type": "display_data"
    },
    {
     "data": {
      "text/plain": "<Figure size 1000x600 with 1 Axes>",
      "image/png": "[encoded data removed]"
     },
     "metadata": {},
     "output_type": "display_data"
    }
   ],
   "source": [
    "import matplotlib.pyplot as plt\n",
    "\n",
    "clusters = df_nodes_train[\"Cluster\"].unique()\n",
    "\n",
    "for i in clusters:\n",
    "\n",
    "    value_counts = df_nodes_train[df_nodes_train[\"Cluster\"] == i]['profile'].value_counts()\n",
    "\n",
    "    # Plotting\n",
    "    plt.figure(figsize=(10, 6))\n",
    "    value_counts.plot(kind='bar')\n",
    "    plt.title('Occurrences of Unique Elements in Feature Column')\n",
    "    plt.xlabel('Unique Elements')\n",
    "    plt.ylabel('Count')\n",
    "    plt.xticks(rotation=45)  # Rotate x-axis labels for better readability if needed\n",
    "    plt.grid(axis='y', linestyle='--', alpha=0.7)\n",
    "    plt.show()\n"
   ],
   "metadata": {
    "collapsed": false,
    "ExecuteTime": {
     "end_time": "2024-05-14T12:37:27.521533600Z",
     "start_time": "2024-05-14T12:37:26.703531200Z"
    }
   },
   "id": "c459d4e1d1d5ff71"
  },
  {
   "cell_type": "markdown",
   "source": [
    "# test:\n"
   ],
   "metadata": {
    "collapsed": false
   },
   "id": "d42413f82d2a5ef"
  },
  {
   "cell_type": "code",
   "execution_count": 23,
   "outputs": [
    {
     "name": "stdout",
     "output_type": "stream",
     "text": [
      "amount of artists: 5902\n"
     ]
    },
    {
     "data": {
      "text/plain": "                   artist_id          artist_name\n0     0KMJUP87x4ERfwSNYvkttw         Sandgrounder\n1     3OpJxAHfT0KsJzQqdX5SLb         Ginger Tunes\n2     6BkcAbUkfIBM4XudxieMq8            Dr. Alban\n3     2iAAXHZCgL2E1zqj204GEh         Jacci McGhee\n4     21VBNkZvKxrI9zmfFRxXvn         8-Bit Arcade\n...                      ...                  ...\n5897  3Y9xnCbmXGhmpJymwpnxCz  Crispian St. Peters\n5898  5NDMothbpdpq2xHqSjrrWn          Faith Evans\n5899  1Ve5PoI7i5jIIP1xudo6AB      The Parliaments\n5900  40PLSl99xXqAQsCQQPmfyM             Kym Sims\n5901  5LDnSV99gbDSsMX3Dcer2b        Anita Cochran\n\n[5902 rows x 2 columns]",
      "text/html": "<div>\n<style scoped>\n    .dataframe tbody tr th:only-of-type {\n        vertical-align: middle;\n    }\n\n    .dataframe tbody tr th {\n        vertical-align: top;\n    }\n\n    .dataframe thead th {\n        text-align: right;\n    }\n</style>\n<table border=\"1\" class=\"dataframe\">\n  <thead>\n    <tr style=\"text-align: right;\">\n      <th></th>\n      <th>artist_id</th>\n      <th>artist_name</th>\n    </tr>\n  </thead>\n  <tbody>\n    <tr>\n      <th>0</th>\n      <td>0KMJUP87x4ERfwSNYvkttw</td>\n      <td>Sandgrounder</td>\n    </tr>\n    <tr>\n      <th>1</th>\n      <td>3OpJxAHfT0KsJzQqdX5SLb</td>\n      <td>Ginger Tunes</td>\n    </tr>\n    <tr>\n      <th>2</th>\n      <td>6BkcAbUkfIBM4XudxieMq8</td>\n      <td>Dr. Alban</td>\n    </tr>\n    <tr>\n      <th>3</th>\n      <td>2iAAXHZCgL2E1zqj204GEh</td>\n      <td>Jacci McGhee</td>\n    </tr>\n    <tr>\n      <th>4</th>\n      <td>21VBNkZvKxrI9zmfFRxXvn</td>\n      <td>8-Bit Arcade</td>\n    </tr>\n    <tr>\n      <th>...</th>\n      <td>...</td>\n      <td>...</td>\n    </tr>\n    <tr>\n      <th>5897</th>\n      <td>3Y9xnCbmXGhmpJymwpnxCz</td>\n      <td>Crispian St. Peters</td>\n    </tr>\n    <tr>\n      <th>5898</th>\n      <td>5NDMothbpdpq2xHqSjrrWn</td>\n      <td>Faith Evans</td>\n    </tr>\n    <tr>\n      <th>5899</th>\n      <td>1Ve5PoI7i5jIIP1xudo6AB</td>\n      <td>The Parliaments</td>\n    </tr>\n    <tr>\n      <th>5900</th>\n      <td>40PLSl99xXqAQsCQQPmfyM</td>\n      <td>Kym Sims</td>\n    </tr>\n    <tr>\n      <th>5901</th>\n      <td>5LDnSV99gbDSsMX3Dcer2b</td>\n      <td>Anita Cochran</td>\n    </tr>\n  </tbody>\n</table>\n<p>5902 rows × 2 columns</p>\n</div>"
     },
     "execution_count": 23,
     "metadata": {},
     "output_type": "execute_result"
    }
   ],
   "source": [
    "# Specify the columns\n",
    "columns = ['artist_id', 'artist_name']\n",
    "\n",
    "# Initialize an empty DataFrame\n",
    "df_artists_test = pd.DataFrame(columns={col: [] for col in columns})\n",
    "\n",
    "count = 0\n",
    "artist_set = set()\n",
    "\n",
    "for _, row in test_df.iterrows():\n",
    "    current_artist_id_list = eval(row[\"id_artists\"])\n",
    "    current_artist_name_list = eval(row[\"name_artists\"])\n",
    "    for cur_art_id, cur_art_name in zip(current_artist_id_list, current_artist_name_list):\n",
    "        if cur_art_id not in artist_set:\n",
    "            artist_set.add(cur_art_id)\n",
    "            df_artists_test.loc[len(df_artists_test)] = [cur_art_id, cur_art_name]\n",
    "            count += 1\n",
    "\n",
    "print(\"amount of artists:\", count)\n",
    "df_artists_test"
   ],
   "metadata": {
    "collapsed": false,
    "ExecuteTime": {
     "end_time": "2024-05-14T12:37:34.789531400Z",
     "start_time": "2024-05-14T12:37:27.523533700Z"
    }
   },
   "id": "d17f4685821173bb"
  },
  {
   "cell_type": "code",
   "execution_count": 24,
   "outputs": [
    {
     "data": {
      "text/plain": "                       song_id  \\\n563810  6R3RXAvtypsoN6jWsjeabw   \n563811  2Tb4RA2rzI3Xp97Q3EuhZ6   \n563812  2ADv9UhiY8pACXvwxP9mr0   \n641117  2RcAviQBeJrtZDZ7P1Co9k   \n563813  7DnbauUP88t63cDXUrdovz   \n...                        ...   \n11098   0xAqhyWvTkfcdFgm7dozMO   \n10903   6zhg8TnVKi90ITDzFKwPr0   \n5856    2GvkFSjRXV0Ii3uYnHiQ74   \n5080    0lej8CemYKkWVHg77Xe1ky   \n10666   6Fh2QgjCxL96dA3Gtpfr4Q   \n\n                                                song_name  \\\n563810                                      Nordic Shores   \n563811                                               Wave   \n563812                                   Waltz for Joshua   \n641117                                            Elmoped   \n563813                                      Black Orpheus   \n...                                                   ...   \n11098             (I Wanna) Testify (Mono Single Version)   \n10903                       Swingtown - Alternate Version   \n5856                                       Take My Advice   \n5080             A Man Holdin' on (To a Woman Lettin’ Go)   \n10666   One Sweet Day (16-Bit Mariah Carey & Boyz II M...   \n\n                                               id_artists  \\\n563810                         ['0KMJUP87x4ERfwSNYvkttw']   \n563811                         ['3OpJxAHfT0KsJzQqdX5SLb']   \n563812                         ['3OpJxAHfT0KsJzQqdX5SLb']   \n641117                         ['6BkcAbUkfIBM4XudxieMq8']   \n563813                         ['3OpJxAHfT0KsJzQqdX5SLb']   \n...                                                   ...   \n11098                          ['1Ve5PoI7i5jIIP1xudo6AB']   \n10903                          ['6QtGlUje9TIkLrgPZrESuk']   \n5856                           ['40PLSl99xXqAQsCQQPmfyM']   \n5080    ['1Fj0R2t4HaJa3oUe8azB8R', '5LDnSV99gbDSsMX3Dc...   \n10666                          ['1v4YnufenjE9BLAfP90qvt']   \n\n                           name_artists  popularity  explicit      song_type  \\\n563810                 ['Sandgrounder']           0     False           Solo   \n563811                 ['Ginger Tunes']           0     False           Solo   \n563812                 ['Ginger Tunes']           0     False           Solo   \n641117                    ['Dr. Alban']          28     False           Solo   \n563813                 ['Ginger Tunes']           0     False           Solo   \n...                                 ...         ...       ...            ...   \n11098               ['The Parliaments']           7     False           Solo   \n10903             ['Steve Miller Band']          26     False           Solo   \n5856                       ['Kym Sims']           0     False           Solo   \n5080    ['Ty Herndon', 'Anita Cochran']          14     False  Collaboration   \n10666                 ['Arcade Player']           0     False           Solo   \n\n        track_number  num_artists  num_available_markets  ... danceability  \\\n563810             5            1                     79  ...        0.646   \n563811             6            1                     79  ...        0.668   \n563812             7            1                     79  ...        0.650   \n641117             1            1                     79  ...        0.851   \n563813             8            1                     79  ...        0.752   \n...              ...          ...                    ...  ...          ...   \n11098             10            1                     79  ...        0.668   \n10903              5            1                     79  ...        0.459   \n5856              10            1                     73  ...        0.737   \n5080               7            2                     79  ...        0.611   \n10666             27            1                     79  ...        0.395   \n\n        energy  instrumentalness  liveness  loudness  speechiness  valence  \\\n563810   0.490          0.895000    0.2230   -16.153       0.0525   0.8420   \n563811   0.414          0.902000    0.1120   -10.019       0.0361   0.0399   \n563812   0.235          0.887000    0.1490   -12.020       0.0346   0.0391   \n641117   0.568          0.000000    0.1450    -7.159       0.0589   0.4710   \n563813   0.435          0.901000    0.0886   -10.619       0.0347   0.1250   \n...        ...               ...       ...       ...          ...      ...   \n11098    0.702          0.000000    0.0521    -5.750       0.0330   0.7540   \n10903    0.764          0.000544    0.2440    -6.662       0.0354   0.4390   \n5856     0.814          0.392000    0.0844   -10.396       0.0307   0.8030   \n5080     0.429          0.000014    0.1120    -8.619       0.0298   0.2370   \n10666    0.405          0.745000    0.1100    -5.559       0.0393   0.3130   \n\n          tempo  hit       date  \n563810   95.016    0 2018-08-26  \n563811  121.084    0 2018-08-26  \n563812  116.265    0 2018-08-26  \n641117  119.981    0 2018-08-26  \n563813  122.128    0 2018-08-26  \n...         ...  ...        ...  \n11098   105.227    1 2019-08-23  \n10903   124.557    1 2019-08-23  \n5856    120.010    1 2019-08-23  \n5080    128.007    1 2019-08-23  \n10666   194.933    1 2019-08-26  \n\n[54250 rows x 26 columns]",
      "text/html": "<div>\n<style scoped>\n    .dataframe tbody tr th:only-of-type {\n        vertical-align: middle;\n    }\n\n    .dataframe tbody tr th {\n        vertical-align: top;\n    }\n\n    .dataframe thead th {\n        text-align: right;\n    }\n</style>\n<table border=\"1\" class=\"dataframe\">\n  <thead>\n    <tr style=\"text-align: right;\">\n      <th></th>\n      <th>song_id</th>\n      <th>song_name</th>\n      <th>id_artists</th>\n      <th>name_artists</th>\n      <th>popularity</th>\n      <th>explicit</th>\n      <th>song_type</th>\n      <th>track_number</th>\n      <th>num_artists</th>\n      <th>num_available_markets</th>\n      <th>...</th>\n      <th>danceability</th>\n      <th>energy</th>\n      <th>instrumentalness</th>\n      <th>liveness</th>\n      <th>loudness</th>\n      <th>speechiness</th>\n      <th>valence</th>\n      <th>tempo</th>\n      <th>hit</th>\n      <th>date</th>\n    </tr>\n  </thead>\n  <tbody>\n    <tr>\n      <th>563810</th>\n      <td>6R3RXAvtypsoN6jWsjeabw</td>\n      <td>Nordic Shores</td>\n      <td>['0KMJUP87x4ERfwSNYvkttw']</td>\n      <td>['Sandgrounder']</td>\n      <td>0</td>\n      <td>False</td>\n      <td>Solo</td>\n      <td>5</td>\n      <td>1</td>\n      <td>79</td>\n      <td>...</td>\n      <td>0.646</td>\n      <td>0.490</td>\n      <td>0.895000</td>\n      <td>0.2230</td>\n      <td>-16.153</td>\n      <td>0.0525</td>\n      <td>0.8420</td>\n      <td>95.016</td>\n      <td>0</td>\n      <td>2018-08-26</td>\n    </tr>\n    <tr>\n      <th>563811</th>\n      <td>2Tb4RA2rzI3Xp97Q3EuhZ6</td>\n      <td>Wave</td>\n      <td>['3OpJxAHfT0KsJzQqdX5SLb']</td>\n      <td>['Ginger Tunes']</td>\n      <td>0</td>\n      <td>False</td>\n      <td>Solo</td>\n      <td>6</td>\n      <td>1</td>\n      <td>79</td>\n      <td>...</td>\n      <td>0.668</td>\n      <td>0.414</td>\n      <td>0.902000</td>\n      <td>0.1120</td>\n      <td>-10.019</td>\n      <td>0.0361</td>\n      <td>0.0399</td>\n      <td>121.084</td>\n      <td>0</td>\n      <td>2018-08-26</td>\n    </tr>\n    <tr>\n      <th>563812</th>\n      <td>2ADv9UhiY8pACXvwxP9mr0</td>\n      <td>Waltz for Joshua</td>\n      <td>['3OpJxAHfT0KsJzQqdX5SLb']</td>\n      <td>['Ginger Tunes']</td>\n      <td>0</td>\n      <td>False</td>\n      <td>Solo</td>\n      <td>7</td>\n      <td>1</td>\n      <td>79</td>\n      <td>...</td>\n      <td>0.650</td>\n      <td>0.235</td>\n      <td>0.887000</td>\n      <td>0.1490</td>\n      <td>-12.020</td>\n      <td>0.0346</td>\n      <td>0.0391</td>\n      <td>116.265</td>\n      <td>0</td>\n      <td>2018-08-26</td>\n    </tr>\n    <tr>\n      <th>641117</th>\n      <td>2RcAviQBeJrtZDZ7P1Co9k</td>\n      <td>Elmoped</td>\n      <td>['6BkcAbUkfIBM4XudxieMq8']</td>\n      <td>['Dr. Alban']</td>\n      <td>28</td>\n      <td>False</td>\n      <td>Solo</td>\n      <td>1</td>\n      <td>1</td>\n      <td>79</td>\n      <td>...</td>\n      <td>0.851</td>\n      <td>0.568</td>\n      <td>0.000000</td>\n      <td>0.1450</td>\n      <td>-7.159</td>\n      <td>0.0589</td>\n      <td>0.4710</td>\n      <td>119.981</td>\n      <td>0</td>\n      <td>2018-08-26</td>\n    </tr>\n    <tr>\n      <th>563813</th>\n      <td>7DnbauUP88t63cDXUrdovz</td>\n      <td>Black Orpheus</td>\n      <td>['3OpJxAHfT0KsJzQqdX5SLb']</td>\n      <td>['Ginger Tunes']</td>\n      <td>0</td>\n      <td>False</td>\n      <td>Solo</td>\n      <td>8</td>\n      <td>1</td>\n      <td>79</td>\n      <td>...</td>\n      <td>0.752</td>\n      <td>0.435</td>\n      <td>0.901000</td>\n      <td>0.0886</td>\n      <td>-10.619</td>\n      <td>0.0347</td>\n      <td>0.1250</td>\n      <td>122.128</td>\n      <td>0</td>\n      <td>2018-08-26</td>\n    </tr>\n    <tr>\n      <th>...</th>\n      <td>...</td>\n      <td>...</td>\n      <td>...</td>\n      <td>...</td>\n      <td>...</td>\n      <td>...</td>\n      <td>...</td>\n      <td>...</td>\n      <td>...</td>\n      <td>...</td>\n      <td>...</td>\n      <td>...</td>\n      <td>...</td>\n      <td>...</td>\n      <td>...</td>\n      <td>...</td>\n      <td>...</td>\n      <td>...</td>\n      <td>...</td>\n      <td>...</td>\n      <td>...</td>\n    </tr>\n    <tr>\n      <th>11098</th>\n      <td>0xAqhyWvTkfcdFgm7dozMO</td>\n      <td>(I Wanna) Testify (Mono Single Version)</td>\n      <td>['1Ve5PoI7i5jIIP1xudo6AB']</td>\n      <td>['The Parliaments']</td>\n      <td>7</td>\n      <td>False</td>\n      <td>Solo</td>\n      <td>10</td>\n      <td>1</td>\n      <td>79</td>\n      <td>...</td>\n      <td>0.668</td>\n      <td>0.702</td>\n      <td>0.000000</td>\n      <td>0.0521</td>\n      <td>-5.750</td>\n      <td>0.0330</td>\n      <td>0.7540</td>\n      <td>105.227</td>\n      <td>1</td>\n      <td>2019-08-23</td>\n    </tr>\n    <tr>\n      <th>10903</th>\n      <td>6zhg8TnVKi90ITDzFKwPr0</td>\n      <td>Swingtown - Alternate Version</td>\n      <td>['6QtGlUje9TIkLrgPZrESuk']</td>\n      <td>['Steve Miller Band']</td>\n      <td>26</td>\n      <td>False</td>\n      <td>Solo</td>\n      <td>5</td>\n      <td>1</td>\n      <td>79</td>\n      <td>...</td>\n      <td>0.459</td>\n      <td>0.764</td>\n      <td>0.000544</td>\n      <td>0.2440</td>\n      <td>-6.662</td>\n      <td>0.0354</td>\n      <td>0.4390</td>\n      <td>124.557</td>\n      <td>1</td>\n      <td>2019-08-23</td>\n    </tr>\n    <tr>\n      <th>5856</th>\n      <td>2GvkFSjRXV0Ii3uYnHiQ74</td>\n      <td>Take My Advice</td>\n      <td>['40PLSl99xXqAQsCQQPmfyM']</td>\n      <td>['Kym Sims']</td>\n      <td>0</td>\n      <td>False</td>\n      <td>Solo</td>\n      <td>10</td>\n      <td>1</td>\n      <td>73</td>\n      <td>...</td>\n      <td>0.737</td>\n      <td>0.814</td>\n      <td>0.392000</td>\n      <td>0.0844</td>\n      <td>-10.396</td>\n      <td>0.0307</td>\n      <td>0.8030</td>\n      <td>120.010</td>\n      <td>1</td>\n      <td>2019-08-23</td>\n    </tr>\n    <tr>\n      <th>5080</th>\n      <td>0lej8CemYKkWVHg77Xe1ky</td>\n      <td>A Man Holdin' on (To a Woman Lettin’ Go)</td>\n      <td>['1Fj0R2t4HaJa3oUe8azB8R', '5LDnSV99gbDSsMX3Dc...</td>\n      <td>['Ty Herndon', 'Anita Cochran']</td>\n      <td>14</td>\n      <td>False</td>\n      <td>Collaboration</td>\n      <td>7</td>\n      <td>2</td>\n      <td>79</td>\n      <td>...</td>\n      <td>0.611</td>\n      <td>0.429</td>\n      <td>0.000014</td>\n      <td>0.1120</td>\n      <td>-8.619</td>\n      <td>0.0298</td>\n      <td>0.2370</td>\n      <td>128.007</td>\n      <td>1</td>\n      <td>2019-08-23</td>\n    </tr>\n    <tr>\n      <th>10666</th>\n      <td>6Fh2QgjCxL96dA3Gtpfr4Q</td>\n      <td>One Sweet Day (16-Bit Mariah Carey &amp; Boyz II M...</td>\n      <td>['1v4YnufenjE9BLAfP90qvt']</td>\n      <td>['Arcade Player']</td>\n      <td>0</td>\n      <td>False</td>\n      <td>Solo</td>\n      <td>27</td>\n      <td>1</td>\n      <td>79</td>\n      <td>...</td>\n      <td>0.395</td>\n      <td>0.405</td>\n      <td>0.745000</td>\n      <td>0.1100</td>\n      <td>-5.559</td>\n      <td>0.0393</td>\n      <td>0.3130</td>\n      <td>194.933</td>\n      <td>1</td>\n      <td>2019-08-26</td>\n    </tr>\n  </tbody>\n</table>\n<p>54250 rows × 26 columns</p>\n</div>"
     },
     "execution_count": 24,
     "metadata": {},
     "output_type": "execute_result"
    }
   ],
   "source": [
    "#maybe change later\n",
    "#test_df = test_df[test_df[\"num_artists\"] <= 2]\n",
    "test_df_cpy = test_df.copy()\n",
    "test_df_cpy"
   ],
   "metadata": {
    "collapsed": false,
    "ExecuteTime": {
     "end_time": "2024-05-14T12:37:34.912531700Z",
     "start_time": "2024-05-14T12:37:34.787531200Z"
    }
   },
   "id": "45a076aa64d5af79"
  },
  {
   "cell_type": "code",
   "execution_count": 25,
   "outputs": [
    {
     "name": "stdout",
     "output_type": "stream",
     "text": [
      "Biggest subgraph containing specific nodes:\n",
      "[0, 1, 2, 3, 4, 5, 6, 7, 8, 9, 10, 11, 12, 13, 14, 15, 16, 17, 18, 19, 20, 21, 22, 23, 24, 25, 26, 27, 28, 29, 30, 31, 32, 33]\n",
      "[(0, 1), (0, 2), (0, 3), (0, 4), (0, 5), (0, 6), (0, 7), (0, 8), (0, 10), (0, 11), (0, 12), (0, 13), (0, 17), (0, 19), (0, 21), (0, 31), (1, 2), (1, 3), (1, 7), (1, 13), (1, 17), (1, 19), (1, 21), (1, 30), (2, 3), (2, 7), (2, 8), (2, 9), (2, 13), (2, 27), (2, 28), (2, 32), (3, 7), (3, 12), (3, 13), (4, 6), (4, 10), (5, 6), (5, 10), (5, 16), (6, 16), (8, 30), (8, 32), (8, 33), (9, 33), (13, 33), (14, 32), (14, 33), (15, 32), (15, 33), (18, 32), (18, 33), (19, 33), (20, 32), (20, 33), (22, 32), (22, 33), (23, 25), (23, 27), (23, 29), (23, 32), (23, 33), (24, 25), (24, 27), (24, 31), (25, 31), (26, 29), (26, 33), (27, 33), (28, 31), (28, 33), (29, 32), (29, 33), (30, 32), (30, 33), (31, 32), (31, 33), (32, 33)]\n"
     ]
    }
   ],
   "source": [
    "import networkx as nx\n",
    "\n",
    "def get_biggest_subgraph(G, specific_nodes):\n",
    "    \"\"\"\n",
    "    Finds the biggest connected subgraph containing all nodes in specific_nodes\n",
    "  \n",
    "    Args:\n",
    "        G: The original NetworkX graph.\n",
    "        specific_nodes: A set or list of nodes that must be present in the subgraph.\n",
    "  \n",
    "    Returns:\n",
    "        The biggest connected subgraph containing all nodes in specific_nodes, \n",
    "        or None if no such subgraph exists.\n",
    "    \"\"\"\n",
    "    largest_subgraph = None\n",
    "    max_nodes = 0\n",
    "\n",
    "    for subgraph in nx.connected_components(G):\n",
    "        # Check if subgraph intersects with specific nodes\n",
    "        if subgraph & specific_nodes:\n",
    "            # Update largest subgraph if current one has more nodes\n",
    "            if len(subgraph) > max_nodes:\n",
    "                largest_subgraph = subgraph\n",
    "                max_nodes = len(subgraph)\n",
    "\n",
    "    subgraph = G.subgraph(largest_subgraph)\n",
    "\n",
    "    return subgraph\n",
    "\n",
    "# Example usage\n",
    "G2 = nx.karate_club_graph()  # Example graph\n",
    "specific_nodes = {1, 2, 3, 4}  # Nodes you want in the subgraph\n",
    "\n",
    "biggest_subgraph = get_biggest_subgraph(G2.copy(), specific_nodes)\n",
    "\n",
    "if biggest_subgraph:\n",
    "    print(\"Biggest subgraph containing specific nodes:\")\n",
    "    print(biggest_subgraph.nodes())\n",
    "    print(biggest_subgraph.edges())\n",
    "else:\n",
    "    print(\"No subgraph containing all specific nodes found\")\n"
   ],
   "metadata": {
    "collapsed": false,
    "ExecuteTime": {
     "end_time": "2024-05-14T12:37:34.912531700Z",
     "start_time": "2024-05-14T12:37:34.867530900Z"
    }
   },
   "id": "f513759b519cb023"
  },
  {
   "cell_type": "code",
   "execution_count": 26,
   "outputs": [
    {
     "name": "stdout",
     "output_type": "stream",
     "text": [
      "Nodes:\n",
      "1: {}\n",
      "2: {}\n",
      "3: {}\n",
      "\n",
      "Edges:\n",
      "1 -- 2: {'weight': 0.5}\n",
      "2 -- 3: {'weight': 0.75}\n"
     ]
    }
   ],
   "source": [
    "import networkx as nx\n",
    "\n",
    "def subgraph_to_string(subgraph):\n",
    "    output = \"Nodes:\\n\"\n",
    "    for node, data in subgraph.nodes(data=True):\n",
    "        output += f\"{node}: {data}\\n\"\n",
    "\n",
    "    output += \"\\nEdges:\\n\"\n",
    "    for edge in subgraph.edges(data=True):\n",
    "        u, v, data = edge\n",
    "        output += f\"{u} -- {v}: {data}\\n\"\n",
    "\n",
    "    return output\n",
    "\n",
    "# Example usage:\n",
    "G2 = nx.Graph()\n",
    "G2.add_edge(1, 2, weight=0.5)\n",
    "G2.add_edge(2, 3, weight=0.75)\n",
    "\n",
    "sub = G2.subgraph([1, 2, 3])\n",
    "print(subgraph_to_string(sub))\n"
   ],
   "metadata": {
    "collapsed": false,
    "ExecuteTime": {
     "end_time": "2024-05-14T12:37:34.922532900Z",
     "start_time": "2024-05-14T12:37:34.884533700Z"
    }
   },
   "id": "b29cc3a9a1f33942"
  },
  {
   "cell_type": "code",
   "execution_count": 27,
   "outputs": [],
   "source": [
    "import networkx as nx\n",
    "\n",
    "def get_nodes_by_id(graph, id_list):\n",
    "    # Initialize an empty list to store the nodes\n",
    "    nodes = []\n",
    "\n",
    "    # Iterate through the nodes of the graph\n",
    "    for node in graph.nodes(data=True):\n",
    "        # Check if the node ID is in the list of IDs\n",
    "        if node[0] in id_list:\n",
    "            # Append the node to the list\n",
    "            nodes.append(node)\n",
    "\n",
    "    return nodes\n",
    "\n",
    "# Example usage:\n",
    "# Assuming G is your NetworkX graph and id_list is the list of node IDs"
   ],
   "metadata": {
    "collapsed": false,
    "ExecuteTime": {
     "end_time": "2024-05-14T12:37:34.922532900Z",
     "start_time": "2024-05-14T12:37:34.897532400Z"
    }
   },
   "id": "8c8ba737c7eaea57"
  },
  {
   "cell_type": "code",
   "execution_count": 28,
   "outputs": [],
   "source": [
    "#partially generated loop isn't gen\n",
    "def largest_subgraph_containing_nodes(graph, node_list):\n",
    "    # Get all connected components\n",
    "    connected_components = list(nx.connected_components(graph))\n",
    "\n",
    "    # Filter components containing all nodes from the given list\n",
    "    #target_components = [cc for cc in connected_components if set(node_list).issubset(set(cc))]\n",
    "    \n",
    "    target_components = []\n",
    "    for cc in connected_components: \n",
    "        all = True\n",
    "        for id_cur in node_list:\n",
    "            if not id_cur in cc: \n",
    "                all= False\n",
    "        if all:\n",
    "            target_components.append(cc)\n",
    "\n",
    "    #if len(target_components) > 1:\n",
    "    print(target_components)\n",
    "\n",
    "    if not target_components:\n",
    "        return None  # No subgraph contains all the nodes\n",
    "\n",
    "    # Calculate sizes of target components\n",
    "    #component_sizes = {cc: len(cc) for cc in target_components}\n",
    "    max_len = 0\n",
    "    max_subgraph = None\n",
    "    for cc  in target_components:\n",
    "        if len(cc) > max_len:\n",
    "            max_len = len(cc)\n",
    "            max_subgraph = cc\n",
    "\n",
    "    # Get the largest component\n",
    "    subgraph = graph.subgraph(max_subgraph)\n",
    "\n",
    "    return subgraph"
   ],
   "metadata": {
    "collapsed": false,
    "ExecuteTime": {
     "end_time": "2024-05-14T12:37:35.006530100Z",
     "start_time": "2024-05-14T12:37:34.914532100Z"
    }
   },
   "id": "7acb46379f5176a9"
  },
  {
   "cell_type": "code",
   "execution_count": null,
   "outputs": [
    {
     "name": "stdout",
     "output_type": "stream",
     "text": [
      "1\n",
      "next\n",
      "1\n",
      "next\n",
      "1\n",
      "next\n",
      "2\n",
      "next\n",
      "1\n",
      "next\n",
      "6836\n",
      "next\n",
      "1\n",
      "next\n",
      "1\n",
      "next\n",
      "1\n",
      "next\n",
      "1\n",
      "next\n",
      "1\n",
      "next\n",
      "1\n",
      "next\n",
      "1\n",
      "next\n",
      "1\n",
      "next\n",
      "1\n",
      "next\n",
      "1\n",
      "next\n",
      "1\n",
      "next\n",
      "1\n",
      "next\n",
      "1\n",
      "next\n",
      "1\n",
      "next\n",
      "1\n",
      "next\n",
      "1\n",
      "next\n",
      "1\n",
      "next\n",
      "1\n",
      "next\n",
      "1\n",
      "next\n",
      "1\n",
      "next\n",
      "1\n",
      "next\n",
      "1\n",
      "next\n",
      "1\n",
      "next\n",
      "1\n",
      "next\n",
      "1\n",
      "next\n",
      "1\n",
      "next\n",
      "1\n",
      "next\n",
      "1\n",
      "next\n",
      "1\n",
      "next\n",
      "1\n",
      "next\n",
      "1\n",
      "next\n",
      "1\n",
      "next\n",
      "1\n",
      "next\n",
      "1\n",
      "next\n",
      "1\n",
      "next\n",
      "1\n",
      "next\n",
      "1\n",
      "next\n",
      "1\n",
      "next\n",
      "1\n",
      "next\n",
      "1\n",
      "next\n",
      "1\n",
      "next\n",
      "1\n",
      "next\n",
      "1\n",
      "next\n",
      "1\n",
      "next\n",
      "1\n",
      "next\n",
      "1\n",
      "next\n",
      "1\n",
      "next\n",
      "1\n",
      "next\n",
      "1\n",
      "next\n",
      "1\n",
      "next\n",
      "1\n",
      "next\n",
      "1\n",
      "next\n",
      "1\n",
      "next\n",
      "35\n",
      "next\n",
      "1\n",
      "next\n",
      "8\n",
      "next\n",
      "3\n",
      "next\n",
      "1\n",
      "next\n",
      "35\n",
      "next\n",
      "1\n",
      "next\n",
      "8\n",
      "next\n",
      "3\n",
      "next\n",
      "1\n",
      "next\n",
      "3\n",
      "next\n",
      "8\n",
      "next\n",
      "1\n",
      "next\n",
      "8\n",
      "next\n",
      "3\n",
      "next\n",
      "1\n",
      "next\n",
      "8\n",
      "next\n",
      "3\n",
      "next\n",
      "1\n",
      "next\n",
      "8\n",
      "next\n",
      "3\n",
      "next\n",
      "1\n",
      "next\n",
      "3\n",
      "next\n",
      "1\n",
      "next\n",
      "1\n",
      "next\n",
      "35\n",
      "next\n",
      "35\n",
      "next\n",
      "1\n",
      "next\n",
      "1\n",
      "next\n",
      "1\n",
      "next\n",
      "1\n",
      "next\n",
      "1\n",
      "next\n",
      "1\n",
      "next\n",
      "1\n",
      "next\n",
      "1\n",
      "next\n",
      "1\n",
      "next\n",
      "1\n",
      "next\n",
      "1\n",
      "next\n",
      "1\n",
      "next\n",
      "1\n",
      "next\n",
      "8\n",
      "next\n",
      "1\n",
      "next\n",
      "1\n",
      "next\n",
      "35\n",
      "next\n",
      "35\n",
      "next\n",
      "35\n",
      "next\n",
      "1\n",
      "next\n",
      "1\n",
      "next\n",
      "1\n",
      "next\n",
      "8\n",
      "next\n",
      "3\n",
      "next\n",
      "1\n",
      "next\n",
      "8\n",
      "next\n",
      "35\n",
      "next\n",
      "35\n",
      "next\n",
      "35\n",
      "next\n",
      "35\n",
      "next\n",
      "35\n",
      "next\n",
      "35\n",
      "next\n",
      "35\n",
      "next\n",
      "35\n",
      "next\n",
      "35\n",
      "next\n",
      "35\n",
      "next\n",
      "1\n",
      "next\n",
      "1\n",
      "next\n",
      "35\n",
      "next\n",
      "35\n",
      "next\n",
      "35\n",
      "next\n",
      "35\n",
      "next\n",
      "35\n",
      "next\n",
      "35\n",
      "next\n",
      "35\n",
      "next\n",
      "35\n",
      "next\n",
      "35\n",
      "next\n",
      "35\n",
      "next\n",
      "35\n",
      "next\n",
      "35\n",
      "next\n",
      "35\n",
      "next\n",
      "35\n",
      "next\n",
      "35\n",
      "next\n",
      "3\n",
      "next\n",
      "1\n",
      "next\n",
      "8\n",
      "next\n",
      "3\n",
      "next\n",
      "35\n",
      "next\n",
      "35\n",
      "next\n",
      "35\n",
      "next\n",
      "35\n",
      "next\n",
      "35\n",
      "next\n",
      "35\n",
      "next\n",
      "35\n",
      "next\n",
      "35\n",
      "next\n",
      "35\n",
      "next\n",
      "35\n",
      "next\n",
      "6\n",
      "next\n",
      "35\n",
      "next\n",
      "35\n",
      "next\n",
      "35\n",
      "next\n",
      "35\n",
      "next\n",
      "35\n",
      "next\n",
      "35\n",
      "next\n",
      "35\n",
      "next\n",
      "35\n",
      "next\n",
      "35\n",
      "next\n",
      "35\n",
      "next\n",
      "35\n",
      "next\n",
      "1\n",
      "next\n",
      "6\n",
      "next\n",
      "6\n",
      "next\n",
      "6\n",
      "next\n",
      "6\n",
      "next\n",
      "6\n",
      "next\n",
      "6\n",
      "next\n",
      "6\n",
      "next\n",
      "6\n",
      "next\n",
      "6\n",
      "next\n",
      "6\n",
      "next\n",
      "6\n",
      "next\n",
      "6\n",
      "next\n",
      "6\n",
      "next\n",
      "6836\n",
      "next\n",
      "6836\n"
     ]
    }
   ],
   "source": [
    "import networkx as nx\n",
    "\n",
    "#df_artist_attributes = pd.DataFrame(columns=[\"song_id\", \"artist_id\", \"name\", 'betweenesscentrality', 'closnesscentrality', 'clustering', \n",
    "#                                             'degree', 'eccentricity', 'eigencentrality', 'weighted degree'])\n",
    "storage_list = []\n",
    "all_artist_ids = artist_set.copy()\n",
    "iter = 0\n",
    "tot_len = test_df_cpy.shape[0]\n",
    "for index, row in test_df_cpy.iterrows():\n",
    "    G_copy = G.copy()\n",
    "    \n",
    "    artist_ids = list(eval(row[\"id_artists\"]))\n",
    "    artist_names = list(eval(row[\"name_artists\"]))\n",
    "    # Filter out songs that do not have more than one artist in their execution\n",
    "    \n",
    "    #print(G.has_node(artist_ids[0]))\n",
    "    \n",
    "    if len(artist_ids) > 1:\n",
    "        for i in range(len(artist_ids)):\n",
    "            for j in range(i+1, len(artist_ids)):\n",
    "                artist_id_1 = str(artist_ids[i])\n",
    "                lable1 = str(artist_names[i])\n",
    "                artist_id_2 = str(artist_ids[j])\n",
    "                lable2 = str(artist_names[j])\n",
    "                if not G_copy.has_node(artist_id_1):\n",
    "                    node_attrs = {\"name\": lable1}\n",
    "                    G_copy.add_node(artist_id_1, **node_attrs)\n",
    "                if not G_copy.has_node(artist_id_2):\n",
    "                    node_attrs = {\"name\": lable2}\n",
    "                    G_copy.add_node(artist_id_2, **node_attrs)\n",
    "                # Check if the edG_copye already exists\n",
    "                if G_copy.has_edge(artist_id_1, artist_id_2):\n",
    "                    # If the edge already exists, increment the weight by 1\n",
    "                    G_copy[artist_id_1][artist_id_2]['weight'] += 2\n",
    "                else:\n",
    "                    # Add a new edge with weight 1\n",
    "                    G_copy.add_edge(artist_id_1, artist_id_2, lable1=lable1, lable2=lable2, weight=2, song_id=str(row[\"song_id\"]), song_name=str(row[\"song_name\"]), explicit=bool(row[\"explicit\"]), song_type=str(row[\"song_type\"]), track_number=int(row[\"track_number\"]), num_artists=int(row[\"num_artists\"]), num_available_markets=int(row[\"num_available_markets\"]), duration_ms=int(row[\"duration_ms\"]), popularity=int(row[\"popularity\"]), release_date=str(row[\"release_date\"]), key = int(row[\"key\"]), mode = int(row[\"mode\"]), time_signature = int(row[\"time_signature\"]), acousticness = float(row[\"acousticness\"]), danceability = float(row[\"danceability\"]), energy = float(row[\"energy\"]), instrumentalness = float(row[\"instrumentalness\"]), liveness = float(row[\"liveness\"]),loudness = float(row[\"loudness\"]), speechiness = float(row[\"speechiness\"]), valence = float(row[\"valence\"]), tempo = float(row[\"tempo\"]))\n",
    "    else:\n",
    "        #prüfe ob die Artists Teil der Interessanten Menge sind\n",
    "        artist_id_1 = str(artist_ids[0])\n",
    "        lable1 = str(artist_names[0])\n",
    "        if not G_copy.has_node(artist_id_1):\n",
    "            node_attrs = {\"name\": lable1}\n",
    "            G_copy.add_node(artist_id_1, **node_attrs)\n",
    "        if G_copy.has_edge(artist_id_1, artist_id_1):\n",
    "            # If the edge already exists, increment the weight by 1\n",
    "            G_copy[artist_id_1][artist_id_1]['weight'] += 2\n",
    "        else:\n",
    "            G_copy.add_edge(artist_id_1, artist_id_1, lable1=lable1, lable2=lable1, weight=2, song_id=str(row[\"song_id\"]), song_name=str(row[\"song_name\"]), explicit=bool(row[\"explicit\"]), song_type=str(row[\"song_type\"]), track_number=int(row[\"track_number\"]), num_artists=int(row[\"num_artists\"]), num_available_markets=int(row[\"num_available_markets\"]), duration_ms=int(row[\"duration_ms\"]), popularity=int(row[\"popularity\"]), release_date=str(row[\"release_date\"]), key = int(row[\"key\"]), mode = int(row[\"mode\"]), time_signature = int(row[\"time_signature\"]), acousticness = float(row[\"acousticness\"]), danceability = float(row[\"danceability\"]), energy = float(row[\"energy\"]), instrumentalness = float(row[\"instrumentalness\"]), liveness = float(row[\"liveness\"]),loudness = float(row[\"loudness\"]), speechiness = float(row[\"speechiness\"]), valence = float(row[\"valence\"]), tempo = float(row[\"tempo\"]))\n",
    "    \n",
    "    #calc metrics for song and store it\n",
    "    # Calculate metrics for subgraphs containing desired nodes\n",
    "    betweenness_centrality = {}\n",
    "    closeness_centrality = {}\n",
    "    clustering = {}\n",
    "    degree = {}\n",
    "    eccentricity = {}\n",
    "    eigenvector_centrality = {}\n",
    "    harmonic_closeness_centrality = {}\n",
    "    weighted_degree = {}\n",
    "\n",
    "    #node_list = get_nodes_by_id(G_copy, artist_ids)\n",
    "    #subgraph = largest_subgraph_containing_nodes(G_copy, artist_ids)\n",
    "    subgraph = get_biggest_subgraph(G_copy, set(artist_ids))\n",
    "    #print(subgraph)\n",
    "    #if len(subgraph) > 2: print(len(subgraph))\n",
    "    print(len(subgraph))\n",
    "    # Get all connected components\n",
    "    #connected_components = nx.connected_components(G_copy)\n",
    "    \n",
    "    # Iterate over connected components\n",
    "    #for cc in connected_components:\n",
    "        # Create a subgraph containing only the desired nodes\n",
    "        #subgraph = G_copy.subgraph(cc).copy()\n",
    "    if all(artist_id in subgraph for artist_id in artist_ids):\n",
    "        #print(\"####Metrics Calc####\")\n",
    "        #if len(subgraph) >= 3: print(subgraph_to_string(subgraph))\n",
    "        # Calculate metrics for this subgraph\n",
    "        betweenness_centrality = nx.betweenness_centrality(subgraph)\n",
    "        closeness_centrality = nx.closeness_centrality(subgraph)\n",
    "        clustering = nx.clustering(subgraph)\n",
    "        degree = nx.degree(subgraph)\n",
    "        eccentricity = nx.eccentricity(subgraph)\n",
    "        eigenvector_centrality = nx.eigenvector_centrality(subgraph)\n",
    "        harmonic_closeness_centrality = nx.harmonic_centrality(subgraph)\n",
    "        weighted_degree = nx.degree(subgraph, weight='weight')\n",
    "        \"\"\"betweenness_centrality.update(nx.betweenness_centrality(subgraph))\n",
    "        closeness_centrality.update(nx.closeness_centrality(subgraph))\n",
    "        clustering.update(nx.clustering(subgraph))\n",
    "        degree.update(nx.degree(subgraph))\n",
    "        eccentricity.update(nx.eccentricity(subgraph))\n",
    "        eigenvector_centrality.update(nx.eigenvector_centrality(subgraph))\n",
    "        harmonic_closeness_centrality.update(nx.harmonic_centrality(subgraph))\n",
    "        weighted_degree.update(nx.degree(subgraph, weight='weight'))\"\"\"\n",
    "\n",
    "    #print(\"next\")\n",
    "    for curr_artist_id in artist_ids:\n",
    "        #print(curr_artist_id)\n",
    "        if G_copy.has_node(curr_artist_id):\n",
    "            artist_attributes = G_copy.nodes[curr_artist_id]\n",
    "            #print(artist_attributes.keys())\n",
    "            # Append the artist ID and attributes to the DataFramen\n",
    "            #attrib = pd.DataFrame({\"song_id\": row[\"song_id\"], \"artist_id\": curr_artist_id, \"name\": artist_attributes[\"name\"], 'betweenesscentrality': artist_attributes['betweenesscentrality'], 'closnesscentrality': artist_attributes['closnesscentrality'], 'clustering': artist_attributes['clustering'], 'degree': artist_attributes[\"degree\"], 'eccentricity': artist_attributes[\"eccentricity\"], 'eigencentrality': artist_attributes['eigencentrality'], 'weighted degree': artist_attributes['weighted degree']}, index=[0])\n",
    "            #print(clustering[artist_ids])\n",
    "            storage_list.append([row[\"song_id\"], curr_artist_id, artist_attributes[\"name\"], betweenness_centrality[curr_artist_id], closeness_centrality[curr_artist_id], clustering[curr_artist_id], degree[curr_artist_id], eccentricity[curr_artist_id], eigenvector_centrality[curr_artist_id], weighted_degree[curr_artist_id]])\n",
    "            #print(attrib)\n",
    "    \n",
    "    iter += 1\n",
    "    print(f\"{iter}/{tot_len}\")\n",
    "#df_artist_attributes = pd.concat([df_artist_attributes, attrib], axis=0)"
   ],
   "metadata": {
    "collapsed": false,
    "is_executing": true,
    "ExecuteTime": {
     "start_time": "2024-05-14T12:37:34.927533900Z"
    }
   },
   "id": "e09d3318cd6156a7"
  },
  {
   "cell_type": "code",
   "execution_count": null,
   "outputs": [],
   "source": [
    "len(storage_list)"
   ],
   "metadata": {
    "collapsed": false,
    "is_executing": true
   },
   "id": "23e31a2139ccdb47"
  },
  {
   "cell_type": "code",
   "execution_count": null,
   "outputs": [],
   "source": [
    "# Define the columns for the DataFrame\n",
    "columns = [\"song_id\", \"artist_id\", \"name\", 'betweenesscentrality', 'closnesscentrality', 'clustering', 'degree', 'eccentricity', 'eigencentrality', 'weighted degree']\n",
    "\n",
    "# Create the DataFrame from storage_list\n",
    "df_artist_attributes = pd.DataFrame(storage_list, columns=columns)\n",
    "\n",
    "# Print the DataFrame\n",
    "df_artist_attributes\n"
   ],
   "metadata": {
    "collapsed": false,
    "is_executing": true
   },
   "id": "9059bfce38160e2f"
  },
  {
   "cell_type": "code",
   "execution_count": null,
   "outputs": [],
   "source": [
    "#df_artist_attributes[df_artist_attributes[\"artist_id\"] == \"6eUKZXaKkcviH0Ku9w2n3V\"]\n",
    "df_artist_attributes[\"artist_id\"].nunique()"
   ],
   "metadata": {
    "collapsed": false,
    "is_executing": true
   },
   "id": "83cec0374b3038b9"
  },
  {
   "cell_type": "code",
   "execution_count": null,
   "outputs": [],
   "source": [
    "df_artist_attributes[df_artist_attributes[\"artist_id\"] == \"6eUKZXaKkcviH0Ku9w2n3V\"]"
   ],
   "metadata": {
    "collapsed": false,
    "is_executing": true
   },
   "id": "49b3117c522afff4"
  },
  {
   "cell_type": "code",
   "execution_count": null,
   "outputs": [],
   "source": [
    "df_nodes_test = df_artist_attributes.copy()"
   ],
   "metadata": {
    "collapsed": false,
    "is_executing": true
   },
   "id": "2e265e3ec467cc25"
  },
  {
   "cell_type": "code",
   "execution_count": null,
   "outputs": [],
   "source": [
    "from sklearn.preprocessing import MinMaxScaler\n",
    "\n",
    "metrics_names = ['betweenesscentrality',\n",
    "                 'closnesscentrality',\n",
    "                 'clustering',\n",
    "                 'degree',\n",
    "                 'eccentricity',\n",
    "                 'eigencentrality',\n",
    "                 'weighted degree']\n",
    "\n",
    "# Assuming df_nodes_test is your DataFrame\n",
    "# Select only the columns to be normalized\n",
    "columns_to_normalize = metrics_names  # Exclude the first and last columns\n",
    "data_to_normalize = df_nodes_test[columns_to_normalize]\n",
    "\n",
    "# Initialize MinMaxScaler\n",
    "scaler = MinMaxScaler()\n",
    "\n",
    "# Fit and transform the data\n",
    "normalized_data = scaler.fit_transform(data_to_normalize)\n",
    "\n",
    "# Replace the original data with the normalized values\n",
    "df_nodes_test_norm = df_nodes_test.copy()\n",
    "df_nodes_test_norm[columns_to_normalize] = normalized_data\n",
    "\n",
    "# Print the updated DataFrame\n",
    "df_nodes_test_norm"
   ],
   "metadata": {
    "collapsed": false,
    "is_executing": true
   },
   "id": "be7728056c67d965"
  },
  {
   "cell_type": "code",
   "execution_count": null,
   "outputs": [],
   "source": [
    "import pandas as pd\n",
    "import networkx as nx\n",
    "import matplotlib.pyplot as plt\n",
    "from sklearn.cluster import KMeans\n",
    "from sklearn.metrics import pairwise_distances\n",
    "import numpy as np\n",
    "\n",
    "# Assuming df is your DataFrame with node attributes and edge attributes added\n",
    "\n",
    "# Convert the DataFrame to a sparse adjacency matrix\n",
    "#A_dense = pairwise_distances(df_nodes_test.drop(columns=['Node']), metric='euclidean')\n",
    "A_dense = df_nodes_test_norm[metrics_names]\n",
    "\n",
    "# Apply Louvain community detection algorithm to detect communities (if needed)\n",
    "# You may need to find an alternative community detection algorithm for DataFrame-based graphs\n",
    "\n",
    "# Calculate the modularity for different values of k\n",
    "k_values = range(1, 11)  # Adjust the range as needed\n",
    "inertias = []\n",
    "\n",
    "amount_k = len(k_values)\n",
    "for k in k_values:\n",
    "    print(f'{k}/{amount_k}')\n",
    "    kmeans = KMeans(n_clusters=k, init='k-means++', max_iter=300, n_init=10, random_state=0)\n",
    "    kmeans.fit(A_dense)\n",
    "    inertia = kmeans.inertia_\n",
    "    inertias.append(inertia)\n",
    "\n",
    "# Plot the elbow curve\n",
    "plt.plot(k_values, inertias, marker='o')\n",
    "plt.xlabel('Number of clusters (k)')\n",
    "plt.ylabel('Inertia')\n",
    "plt.title('Elbow Method for Optimal Number of Clusters')\n",
    "plt.grid(True)\n",
    "plt.show()\n"
   ],
   "metadata": {
    "collapsed": false,
    "is_executing": true
   },
   "id": "a25bad07920efa96"
  },
  {
   "cell_type": "code",
   "execution_count": null,
   "outputs": [],
   "source": [
    "from sklearn.metrics import silhouette_score\n",
    "\n",
    "silhouette_scores = []\n",
    "for k in range(2, 11):\n",
    "    kmeans = KMeans(n_clusters=k, init='k-means++', max_iter=300, n_init=10, random_state=0)\n",
    "    kmeans.fit(A_dense)\n",
    "    score = silhouette_score(A_dense, kmeans.labels_)\n",
    "    silhouette_scores.append(score)\n",
    "\n",
    "best_k = np.argmax(silhouette_scores) + 2  # Adding 2 because range starts from 2\n",
    "print(\"Best number of clusters:\", best_k)\n",
    "silhouette_scores"
   ],
   "metadata": {
    "collapsed": false,
    "is_executing": true
   },
   "id": "1de388c25673f5ef"
  },
  {
   "cell_type": "code",
   "execution_count": null,
   "outputs": [],
   "source": [
    "from sklearn.cluster import KMeans\n",
    "\n",
    "# Assuming df_nodes_test is your DataFrame containing node attributes\n",
    "\n",
    "# Extract the features (attributes) from the DataFrame\n",
    "X = df_nodes_test_norm[metrics_names]\n",
    "\n",
    "# Specify the number of clusters (k)\n",
    "#k = best_k  # Adjust as needed\n",
    "k = 6\n",
    "\n",
    "# Initialize KMeans model\n",
    "kmeans = KMeans(n_clusters=k, init='k-means++', max_iter=300, n_init=10, random_state=0)\n",
    "\n",
    "# Fit the model to the data\n",
    "kmeans.fit(X)\n",
    "\n",
    "# Get the cluster labels\n",
    "cluster_labels = kmeans.labels_\n",
    "\n",
    "# Add cluster labels as a new column in the DataFrame\n",
    "df_nodes_test['Cluster'] = cluster_labels\n",
    "df_nodes_test_norm['Cluster'] = cluster_labels\n",
    "\n",
    "# Display the DataFrame with cluster labels\n",
    "df_nodes_test\n"
   ],
   "metadata": {
    "collapsed": false,
    "is_executing": true
   },
   "id": "a2a84ce0cbe8b0c8"
  },
  {
   "cell_type": "code",
   "execution_count": null,
   "outputs": [],
   "source": [
    "# Assuming df_nodes_test is your DataFrame with cluster labels\n",
    "\n",
    "# Calculate the cardinality of each cluster\n",
    "cluster_cardinality = df_nodes_test_norm['Cluster'].value_counts()\n",
    "\n",
    "# Display the cardinality of each cluster\n",
    "print(cluster_cardinality)\n"
   ],
   "metadata": {
    "collapsed": false,
    "is_executing": true
   },
   "id": "625c7592060038fa"
  },
  {
   "cell_type": "code",
   "execution_count": null,
   "outputs": [],
   "source": [
    "import pandas as pd\n",
    "\n",
    "data = [\n",
    "    [\"1A 2A 3A 4A\", 0, 0, 0, 0, 0, 0, 0],\n",
    "    [\"1A 2A 3A 4B\", 0, 0, 0, 0, 0, 1, 1],\n",
    "    [\"1A 2A 3B 4A\", 0, 0, 0, 0, 1, 0, 0],\n",
    "    [\"1A 2A 3B 4B\", 0, 0, 0, 0, 1, 1, 1],\n",
    "    [\"1A 2B 3A 4A\", 0, 0, 1, 1, 0, 0, 0],\n",
    "    [\"1A 2B 3A 4B\", 0, 0, 1, 1, 0, 1, 1],\n",
    "    [\"1A 2B 3B 4A\", 0, 0, 1, 1, 1, 0, 0],\n",
    "    [\"1A 2B 3B 4B\", 0, 0, 1, 1, 1, 1, 1],\n",
    "    [\"1B 2A 3A 4A\", 1, 1, 0, 0, 0, 0, 0],\n",
    "    [\"1B 2A 3A 4B\", 1, 1, 0, 0, 0, 1, 1],\n",
    "    [\"1B 2A 3B 4A\", 1, 1, 0, 0, 1, 0, 0],\n",
    "    [\"1B 2A 3B 4B\", 1, 1, 0, 0, 1, 1, 1],\n",
    "    [\"1B 2B 3A 4A\", 1, 1, 1, 1, 0, 0, 0],\n",
    "    [\"1B 2B 3A 4B\", 1, 1, 1, 1, 0, 1, 1],\n",
    "    [\"1B 2B 3B 4A\", 1, 1, 1, 1, 1, 0, 0],\n",
    "    [\"1B 2B 3B 4B\", 1, 1, 1, 1, 1, 1, 1]\n",
    "]\n",
    "\n",
    "df = pd.DataFrame(data, columns=[\"profile\", \"degree\", \"weighted degree\", \"eccentricity\", \"closnesscentrality\", \"clustering\", \"betweenesscentrality\", \"eigencentrality\"])\n",
    "\n",
    "df"
   ],
   "metadata": {
    "collapsed": false,
    "is_executing": true
   },
   "id": "a70d14dd5eca64d5"
  },
  {
   "cell_type": "code",
   "execution_count": null,
   "outputs": [],
   "source": [
    "import numpy as np\n",
    "\n",
    "# Function to calculate Euclidean distance\n",
    "def euclidean_distance(x, y):\n",
    "    return np.sqrt(np.sum((x - y) ** 2))\n",
    "\n",
    "profile = []\n",
    "\n",
    "common_columns = [\"degree\", \"weighted degree\", \"eccentricity\", \"closnesscentrality\", \"clustering\", \"betweenesscentrality\", \"eigencentrality\"]\n",
    "\n",
    "for index, row in df_nodes_test_norm.iterrows():\n",
    "    match_found = False\n",
    "    min_dist = np.inf\n",
    "    min_index = -1\n",
    "\n",
    "    for index2, prof in df.iterrows():\n",
    "        # Extract the common columns for the current rows\n",
    "        radar_row = row[common_columns]\n",
    "        df_row = prof[common_columns]\n",
    "\n",
    "        # Calculate the Euclidean distance\n",
    "        distance = euclidean_distance(radar_row.values, df_row.values)\n",
    "\n",
    "        if distance < min_dist:\n",
    "            min_dist = distance\n",
    "            min_index = index2\n",
    "\n",
    "    if min_index != -1:\n",
    "        profile.append(df[\"profile\"].iloc[min_index])\n",
    "    else:\n",
    "        profile.append(\"No Match\")\n",
    "\n",
    "# Insert the 'profile' column into df_nodes_test\n",
    "\n",
    "df_nodes_test.insert(df_nodes_test.shape[1], 'profile', profile)\n",
    "df_nodes_test_norm.insert(df_nodes_test_norm.shape[1], 'profile', profile)\n",
    "\n",
    "df_nodes_test\n"
   ],
   "metadata": {
    "collapsed": false,
    "is_executing": true
   },
   "id": "501c16caf27add2b"
  },
  {
   "cell_type": "code",
   "execution_count": null,
   "outputs": [],
   "source": [
    "import matplotlib.pyplot as plt\n",
    "\n",
    "clusters = df_nodes_test[\"Cluster\"].unique()\n",
    "\n",
    "for i in clusters:\n",
    "\n",
    "    value_counts = df_nodes_test[df_nodes_test[\"Cluster\"] == i]['profile'].value_counts()\n",
    "\n",
    "    # Plotting\n",
    "    plt.figure(figsize=(10, 6))\n",
    "    value_counts.plot(kind='bar')\n",
    "    plt.title('Occurrences of Unique Elements in Feature Column')\n",
    "    plt.xlabel('Unique Elements')\n",
    "    plt.ylabel('Count')\n",
    "    plt.xticks(rotation=45)  # Rotate x-axis labels for better readability if needed\n",
    "    plt.grid(axis='y', linestyle='--', alpha=0.7)\n",
    "    plt.show()\n"
   ],
   "metadata": {
    "collapsed": false,
    "is_executing": true
   },
   "id": "f7c83626c093648"
  },
  {
   "cell_type": "code",
   "execution_count": null,
   "outputs": [],
   "source": [
    "#df_nodes_test.to_csv(\"network_clustered/nodes_test_lol.csv\", index=False)"
   ],
   "metadata": {
    "collapsed": false,
    "is_executing": true
   },
   "id": "e3a6b0fce2940909"
  },
  {
   "cell_type": "code",
   "execution_count": null,
   "outputs": [],
   "source": [
    "mdosfos"
   ],
   "metadata": {
    "collapsed": false,
    "is_executing": true
   },
   "id": "d4bd92f42a0402c9"
  },
  {
   "cell_type": "code",
   "execution_count": null,
   "outputs": [],
   "source": [
    "# Assuming G is your NetworkX graph\n",
    "\n",
    "# Extract nodes and their attributes from the graph\n",
    "nodes_with_attributes = [(G.nodes[node], node) for node in G.nodes()]\n",
    "\n",
    "# Create a DataFrame from the nodes and their attributes\n",
    "df_nodes_train = pd.DataFrame(nodes_with_attributes, columns=['Attributes', \"Spotify ID\"])\n",
    "\n",
    "# Normalize the 'Attributes' column to expand it into separate columns\n",
    "df_attributes = pd.json_normalize(df_nodes_train['Attributes'])\n",
    "\n",
    "# Combine the original 'Node' column with the expanded attributes\n",
    "df_nodes_train = pd.concat([df_attributes, df_nodes_train['Spotify ID']], axis=1)\n",
    "\n",
    "# Display the DataFrame\n",
    "df_nodes_train"
   ],
   "metadata": {
    "collapsed": false,
    "is_executing": true
   },
   "id": "a02e5a328f587e87"
  },
  {
   "cell_type": "code",
   "execution_count": null,
   "outputs": [],
   "source": [
    "df_nodes_train.to_csv(\"network_created/nodes_real_train.csv\", sep='\\t', index=False)"
   ],
   "metadata": {
    "collapsed": false,
    "is_executing": true
   },
   "id": "affbd668a36e7e8a"
  },
  {
   "cell_type": "code",
   "execution_count": null,
   "outputs": [],
   "source": [
    "# Extract edges and their attributes from the graph\n",
    "edges_with_attributes = [(u, v, G.edges[u, v]) for u, v in G.edges()]\n",
    "\n",
    "# Create a DataFrame from the edges and their attributes\n",
    "df_edges_train = pd.DataFrame(edges_with_attributes, columns=['Source', 'Target', 'Attributes'])\n",
    "\n",
    "# Normalize the 'Attributes' column to expand it into separate columns\n",
    "df_edge_attributes = pd.json_normalize(df_edges_train['Attributes'])\n",
    "\n",
    "# Combine the original 'Attributes' column with the expanded attributes\n",
    "df_edges_train = pd.concat([df_edges_train[['Source', 'Target']], df_edge_attributes], axis=1)\n",
    "df_edges_train"
   ],
   "metadata": {
    "collapsed": false,
    "is_executing": true
   },
   "id": "b94ca6391b6c88f8"
  },
  {
   "cell_type": "code",
   "execution_count": null,
   "outputs": [],
   "source": [
    "# Save edge DataFrame to CSV\n",
    "df_edges_train.to_csv('network_created/edges_real_train.csv', sep='\\t', index=False)"
   ],
   "metadata": {
    "collapsed": false,
    "is_executing": true
   },
   "id": "8cf334b81ab892a9"
  },
  {
   "cell_type": "code",
   "execution_count": null,
   "outputs": [],
   "source": [
    "num_nodes = G.number_of_nodes()\n",
    "num_edges = G.number_of_edges()\n",
    "print(\"Number of nodes:\", num_nodes)\n",
    "print(\"Number of edges:\", num_edges)\n"
   ],
   "metadata": {
    "collapsed": false,
    "is_executing": true
   },
   "id": "ed2d73175e8f4ff7"
  },
  {
   "cell_type": "code",
   "execution_count": null,
   "outputs": [],
   "source": [
    "# Specify the columns\n",
    "columns = ['artist_id', 'artist_name']\n",
    "\n",
    "# Initialize an empty DataFrame\n",
    "df_artists_test = pd.DataFrame(columns={col: [] for col in columns})\n",
    "\n",
    "count = 0\n",
    "artist_set = set()\n",
    "\n",
    "for _, row in test_df.iterrows():\n",
    "    current_artist_id_list = eval(row[\"id_artists\"])\n",
    "    current_artist_name_list = eval(row[\"name_artists\"])\n",
    "    for cur_art_id, cur_art_name in zip(current_artist_id_list, current_artist_name_list):\n",
    "        if cur_art_id not in artist_set:\n",
    "            artist_set.add(cur_art_id)\n",
    "            df_artists_test.loc[len(df_artists_test)] = [cur_art_id, cur_art_name]\n",
    "            count += 1\n",
    "\n",
    "print(\"amount of artists:\", count)\n",
    "df_artists_test"
   ],
   "metadata": {
    "collapsed": false,
    "is_executing": true
   },
   "id": "debfdb478f00e0a8"
  },
  {
   "cell_type": "code",
   "execution_count": null,
   "outputs": [],
   "source": [
    "import networkx as nx\n",
    "\n",
    "all_artist_ids = artist_set.copy()\n",
    "\n",
    "G2 = nx.Graph()\n",
    "\n",
    "for id_art_cur in all_artist_ids:\n",
    "    artist_name = df_artists_test[(df_artists_test[\"artist_id\"] == id_art_cur)][\"artist_name\"]\n",
    "    artist_info = df_artists_test[df_artists_test[\"artist_id\"] == id_art_cur]\n",
    "    if not artist_info.empty:  # Check if artist info exists\n",
    "        # Filter out artists who are not successful\n",
    "        node_attrs = {\"name\": artist_name.iloc[0]}\n",
    "        G2.add_node(id_art_cur, **node_attrs)\n",
    "    else:\n",
    "        print(\"Artist info not found for ID:\", id_art_cur)\n",
    "\n",
    "for _, row in test_df.iterrows():\n",
    "    artist_ids = list(eval(row[\"id_artists\"]))\n",
    "    artist_names = list(eval(row[\"name_artists\"]))\n",
    "    # Filter out songs that do not have more than one artist in their execution\n",
    "    if len(artist_ids) > 1:\n",
    "        for i in range(len(artist_ids)):\n",
    "            for j in range(i+1, len(artist_ids)):\n",
    "                artist_id_1 = str(artist_ids[i])\n",
    "                lable1 = str(artist_names[i])\n",
    "                artist_id_2 = str(artist_ids[j])\n",
    "                lable2 = str(artist_names[j])\n",
    "                # Check if the edge already exists\n",
    "                if G2.has_edge(artist_id_1, artist_id_2):\n",
    "                    # If the edge already exists, increment the weight by 1\n",
    "                    G2[artist_id_1][artist_id_2]['weight'] += 2\n",
    "                else:\n",
    "                    # Add a new edge with weight 1\n",
    "                    G2.add_edge(artist_id_1, artist_id_2, lable1=lable1, lable2=lable2, weight=2, song_id=str(row[\"song_id\"]), song_name=str(row[\"song_name\"]), explicit=bool(row[\"explicit\"]), song_type=str(row[\"song_type\"]), track_number=int(row[\"track_number\"]), num_artists=int(row[\"num_artists\"]), num_available_markets=int(row[\"num_available_markets\"]), duration_ms=int(row[\"duration_ms\"]), popularity=int(row[\"popularity\"]), release_date=str(row[\"release_date\"]), key = int(row[\"key\"]), mode = int(row[\"mode\"]), time_signature = int(row[\"time_signature\"]), acousticness = float(row[\"acousticness\"]), danceability = float(row[\"danceability\"]), energy = float(row[\"energy\"]), instrumentalness = float(row[\"instrumentalness\"]), liveness = float(row[\"liveness\"]),loudness = float(row[\"loudness\"]), speechiness = float(row[\"speechiness\"]), valence = float(row[\"valence\"]), tempo = float(row[\"tempo\"]))"
   ],
   "metadata": {
    "collapsed": false,
    "is_executing": true
   },
   "id": "fe0fb448adf18ca8"
  },
  {
   "cell_type": "code",
   "execution_count": null,
   "outputs": [],
   "source": [
    "# Assuming G is your NetworkX graph\n",
    "\n",
    "# Extract nodes and their attributes from the graph\n",
    "nodes_with_attributes = [(G2.nodes[node], node) for node in G2.nodes()]\n",
    "\n",
    "# Create a DataFrame from the nodes and their attributes\n",
    "df_nodes_test = pd.DataFrame(nodes_with_attributes, columns=['Attributes', \"Spotify ID\"])\n",
    "\n",
    "# Normalize the 'Attributes' column to expand it into separate columns\n",
    "df_attributes = pd.json_normalize(df_nodes_test['Attributes'])\n",
    "\n",
    "# Combine the original 'Node' column with the expanded attributes\n",
    "df_nodes_test = pd.concat([df_attributes, df_nodes_test['Spotify ID']], axis=1)\n",
    "\n",
    "# Display the DataFrame\n",
    "df_nodes_test"
   ],
   "metadata": {
    "collapsed": false,
    "is_executing": true
   },
   "id": "4b5d80bd0f928513"
  },
  {
   "cell_type": "code",
   "execution_count": null,
   "outputs": [],
   "source": [
    "df_nodes_test.to_csv(\"network_created/nodes_real_test.csv\", sep='\\t', index=False)"
   ],
   "metadata": {
    "collapsed": false,
    "is_executing": true
   },
   "id": "eeab99250e649d7a"
  },
  {
   "cell_type": "code",
   "execution_count": null,
   "outputs": [],
   "source": [
    "# Extract edges and their attributes from the graph\n",
    "edges_with_attributes = [(u, v, G2.edges[u, v]) for u, v in G2.edges()]\n",
    "\n",
    "# Create a DataFrame from the edges and their attributes\n",
    "df_edges_test = pd.DataFrame(edges_with_attributes, columns=['Source', 'Target', 'Attributes'])\n",
    "\n",
    "# Normalize the 'Attributes' column to expand it into separate columns\n",
    "df_edge_attributes = pd.json_normalize(df_edges_test['Attributes'])\n",
    "\n",
    "# Combine the original 'Attributes' column with the expanded attributes\n",
    "df_edges_test = pd.concat([df_edges_test[['Source', 'Target']], df_edge_attributes], axis=1)\n",
    "df_edges_test"
   ],
   "metadata": {
    "collapsed": false,
    "is_executing": true
   },
   "id": "2e6324973210ec7e"
  },
  {
   "cell_type": "code",
   "execution_count": null,
   "outputs": [],
   "source": [
    "# Save edge DataFrame to CSV\n",
    "df_edges_test.to_csv('network_created/edges_real_test.csv', sep='\\t', index=False)"
   ],
   "metadata": {
    "collapsed": false,
    "is_executing": true
   },
   "id": "b2a4471b27c98a30"
  },
  {
   "cell_type": "code",
   "execution_count": null,
   "outputs": [],
   "source": [
    "num_nodes = G2.number_of_nodes()\n",
    "num_edges = G2.number_of_edges()\n",
    "print(\"Number of nodes:\", num_nodes)\n",
    "print(\"Number of edges:\", num_edges)\n"
   ],
   "metadata": {
    "collapsed": false,
    "is_executing": true
   },
   "id": "b6287a821fd97ef0"
  },
  {
   "cell_type": "code",
   "execution_count": null,
   "outputs": [],
   "source": [
    "train_df"
   ],
   "metadata": {
    "collapsed": false,
    "is_executing": true
   },
   "id": "b1de9789d17182a"
  },
  {
   "cell_type": "code",
   "execution_count": null,
   "outputs": [],
   "source": [
    "test_df"
   ],
   "metadata": {
    "collapsed": false,
    "is_executing": true
   },
   "id": "4aa2a74a75195a81"
  }
 ],
 "metadata": {
  "kernelspec": {
   "display_name": "Python 3",
   "language": "python",
   "name": "python3"
  },
  "language_info": {
   "codemirror_mode": {
    "name": "ipython",
    "version": 2
   },
   "file_extension": ".py",
   "mimetype": "text/x-python",
   "name": "python",
   "nbconvert_exporter": "python",
   "pygments_lexer": "ipython2",
   "version": "2.7.6"
  }
 },
 "nbformat": 4,
 "nbformat_minor": 5
}
