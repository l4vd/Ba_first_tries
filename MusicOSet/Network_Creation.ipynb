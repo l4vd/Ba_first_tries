{
 "cells": [
  {
   "cell_type": "code",
   "execution_count": 1,
   "id": "initial_id",
   "metadata": {
    "collapsed": true,
    "ExecuteTime": {
     "end_time": "2024-05-07T10:58:58.992514100Z",
     "start_time": "2024-05-07T10:58:58.805523500Z"
    }
   },
   "outputs": [
    {
     "data": {
      "text/plain": "                      song_id  \\\n0      3e9HZxeyfWwjeyPAMmWSSQ   \n1      5p7ujcrUXASCNwRaWNHR1C   \n2      2xLMifQCjDGFmkHkpNLD9h   \n3      3KkXRkHbMCARz0aVfEt68P   \n4      1rqqCSm0Qe4I9rUvWncaom   \n...                       ...   \n11954  5mz9pQZZXNpAw9CdQ7Bk8q   \n11955  2H9CKpZiLDF223BbwehpDF   \n11956  7zqM7Wm2xJLZ50qAnTLoHD   \n11957  4DPlKVZ6R1EHLfnIsy9ouh   \n11958  6RUa3ZwZYnJnNgZxtIYJR9   \n\n                                               song_name  \\\n0                                          thank u, next   \n1                                             Without Me   \n2                                             SICKO MODE   \n3          Sunflower - Spider-Man: Into the Spider-Verse   \n4                                             High Hopes   \n...                                                  ...   \n11954                Don't Pity Me - Mono; 2003 Remaster   \n11955                        Hush Hush; Hush Hush - Main   \n11956                              Lions, Tigers & Bears   \n11957                                         The Weight   \n11958  Purest of Pain (A Puro Dolor) - Martinee's Rad...   \n\n                                              id_artists  \\\n0                             ['66CXWjxzNUsdJxJ2JdwvnR']   \n1                             ['26VFTg2z8YR0cCuwLzESi2']   \n2                             ['0Y5tJX1MQlPlqiwlOH1tJY']   \n3      ['246dkjvS1zLTtiykXe5h60', '1zNqQNIdeOUZHb8zbZ...   \n4                             ['20JZFwl6HVl6yg8a4H3ZqK']   \n...                                                  ...   \n11954                         ['6lHC2EQMEMZiEmSfFloarn']   \n11955                         ['6wPhSqRtPu1UhRCDX5yaDJ']   \n11956                         ['7gSjFKpVmDgC2MMsnN8CYq']   \n11957  ['0rXI0q8Cahq6numvPlloaq', '3RwQ26hR2tJtA8F9p2...   \n11958  ['1qyAl8T6GTcaOViaI7fs1j', '7AOI1S3Uy411dDhNTd...   \n\n                                           name_artists  popularity  explicit  \\\n0                                     ['Ariana Grande']          87      True   \n1                                            ['Halsey']          87      True   \n2                                      ['Travis Scott']          86      True   \n3                           ['Post Malone', 'Swae Lee']          92     False   \n4                               ['Panic! At The Disco']          86     False   \n...                                                 ...         ...       ...   \n11954                              ['Peter And Gordon']           8     False   \n11955                            ['The Pussycat Dolls']          57     False   \n11956                              ['Jazmine Sullivan']          49     False   \n11957  ['Diana Ross & The Supremes', 'The Temptations']           2     False   \n11958                 ['Son By Four', 'Lewis Martinee']          10     False   \n\n           song_type  track_number  num_artists  num_available_markets  ...  \\\n0               Solo            11            1                     79  ...   \n1               Solo             1            1                     79  ...   \n2               Solo             3            1                     79  ...   \n3      Collaboration             2            2                     79  ...   \n4               Solo             4            1                     78  ...   \n...              ...           ...          ...                    ...  ...   \n11954           Solo             1            1                     78  ...   \n11955           Solo             1            1                     59  ...   \n11956           Solo             4            1                     71  ...   \n11957  Collaboration            23            2                     79  ...   \n11958  Collaboration             1            2                     79  ...   \n\n      acousticness  danceability  energy  instrumentalness  liveness  \\\n0          0.22900         0.717   0.653          0.000000    0.1010   \n1          0.29700         0.752   0.488          0.000009    0.0936   \n2          0.00513         0.834   0.730          0.000000    0.1240   \n3          0.55600         0.760   0.479          0.000000    0.0703   \n4          0.19300         0.579   0.904          0.000000    0.0640   \n...            ...           ...     ...               ...       ...   \n11954      0.61900         0.500   0.654          0.000000    0.3320   \n11955      0.10500         0.609   0.790          0.000000    0.3140   \n11956      0.07880         0.576   0.515          0.000000    0.1180   \n11957      0.37000         0.566   0.607          0.000000    0.6710   \n11958      0.45000         0.593   0.939          0.000013    0.1090   \n\n       loudness  speechiness  valence    tempo  hit  \n0        -5.634       0.0658    0.412  106.966    1  \n1        -7.050       0.0705    0.533  136.041    1  \n2        -3.714       0.2220    0.446  155.008    1  \n3        -5.574       0.0466    0.913   89.911    1  \n4        -2.729       0.0618    0.681   82.014    1  \n...         ...          ...      ...      ...  ...  \n11954    -8.633       0.0394    0.403  107.326    1  \n11955    -3.787       0.0663    0.664  129.334    1  \n11956    -6.178       0.0295    0.407   95.406    1  \n11957    -7.532       0.0357    0.765   91.378    1  \n11958    -3.431       0.0616    0.743  134.108    1  \n\n[11959 rows x 25 columns]",
      "text/html": "<div>\n<style scoped>\n    .dataframe tbody tr th:only-of-type {\n        vertical-align: middle;\n    }\n\n    .dataframe tbody tr th {\n        vertical-align: top;\n    }\n\n    .dataframe thead th {\n        text-align: right;\n    }\n</style>\n<table border=\"1\" class=\"dataframe\">\n  <thead>\n    <tr style=\"text-align: right;\">\n      <th></th>\n      <th>song_id</th>\n      <th>song_name</th>\n      <th>id_artists</th>\n      <th>name_artists</th>\n      <th>popularity</th>\n      <th>explicit</th>\n      <th>song_type</th>\n      <th>track_number</th>\n      <th>num_artists</th>\n      <th>num_available_markets</th>\n      <th>...</th>\n      <th>acousticness</th>\n      <th>danceability</th>\n      <th>energy</th>\n      <th>instrumentalness</th>\n      <th>liveness</th>\n      <th>loudness</th>\n      <th>speechiness</th>\n      <th>valence</th>\n      <th>tempo</th>\n      <th>hit</th>\n    </tr>\n  </thead>\n  <tbody>\n    <tr>\n      <th>0</th>\n      <td>3e9HZxeyfWwjeyPAMmWSSQ</td>\n      <td>thank u, next</td>\n      <td>['66CXWjxzNUsdJxJ2JdwvnR']</td>\n      <td>['Ariana Grande']</td>\n      <td>87</td>\n      <td>True</td>\n      <td>Solo</td>\n      <td>11</td>\n      <td>1</td>\n      <td>79</td>\n      <td>...</td>\n      <td>0.22900</td>\n      <td>0.717</td>\n      <td>0.653</td>\n      <td>0.000000</td>\n      <td>0.1010</td>\n      <td>-5.634</td>\n      <td>0.0658</td>\n      <td>0.412</td>\n      <td>106.966</td>\n      <td>1</td>\n    </tr>\n    <tr>\n      <th>1</th>\n      <td>5p7ujcrUXASCNwRaWNHR1C</td>\n      <td>Without Me</td>\n      <td>['26VFTg2z8YR0cCuwLzESi2']</td>\n      <td>['Halsey']</td>\n      <td>87</td>\n      <td>True</td>\n      <td>Solo</td>\n      <td>1</td>\n      <td>1</td>\n      <td>79</td>\n      <td>...</td>\n      <td>0.29700</td>\n      <td>0.752</td>\n      <td>0.488</td>\n      <td>0.000009</td>\n      <td>0.0936</td>\n      <td>-7.050</td>\n      <td>0.0705</td>\n      <td>0.533</td>\n      <td>136.041</td>\n      <td>1</td>\n    </tr>\n    <tr>\n      <th>2</th>\n      <td>2xLMifQCjDGFmkHkpNLD9h</td>\n      <td>SICKO MODE</td>\n      <td>['0Y5tJX1MQlPlqiwlOH1tJY']</td>\n      <td>['Travis Scott']</td>\n      <td>86</td>\n      <td>True</td>\n      <td>Solo</td>\n      <td>3</td>\n      <td>1</td>\n      <td>79</td>\n      <td>...</td>\n      <td>0.00513</td>\n      <td>0.834</td>\n      <td>0.730</td>\n      <td>0.000000</td>\n      <td>0.1240</td>\n      <td>-3.714</td>\n      <td>0.2220</td>\n      <td>0.446</td>\n      <td>155.008</td>\n      <td>1</td>\n    </tr>\n    <tr>\n      <th>3</th>\n      <td>3KkXRkHbMCARz0aVfEt68P</td>\n      <td>Sunflower - Spider-Man: Into the Spider-Verse</td>\n      <td>['246dkjvS1zLTtiykXe5h60', '1zNqQNIdeOUZHb8zbZ...</td>\n      <td>['Post Malone', 'Swae Lee']</td>\n      <td>92</td>\n      <td>False</td>\n      <td>Collaboration</td>\n      <td>2</td>\n      <td>2</td>\n      <td>79</td>\n      <td>...</td>\n      <td>0.55600</td>\n      <td>0.760</td>\n      <td>0.479</td>\n      <td>0.000000</td>\n      <td>0.0703</td>\n      <td>-5.574</td>\n      <td>0.0466</td>\n      <td>0.913</td>\n      <td>89.911</td>\n      <td>1</td>\n    </tr>\n    <tr>\n      <th>4</th>\n      <td>1rqqCSm0Qe4I9rUvWncaom</td>\n      <td>High Hopes</td>\n      <td>['20JZFwl6HVl6yg8a4H3ZqK']</td>\n      <td>['Panic! At The Disco']</td>\n      <td>86</td>\n      <td>False</td>\n      <td>Solo</td>\n      <td>4</td>\n      <td>1</td>\n      <td>78</td>\n      <td>...</td>\n      <td>0.19300</td>\n      <td>0.579</td>\n      <td>0.904</td>\n      <td>0.000000</td>\n      <td>0.0640</td>\n      <td>-2.729</td>\n      <td>0.0618</td>\n      <td>0.681</td>\n      <td>82.014</td>\n      <td>1</td>\n    </tr>\n    <tr>\n      <th>...</th>\n      <td>...</td>\n      <td>...</td>\n      <td>...</td>\n      <td>...</td>\n      <td>...</td>\n      <td>...</td>\n      <td>...</td>\n      <td>...</td>\n      <td>...</td>\n      <td>...</td>\n      <td>...</td>\n      <td>...</td>\n      <td>...</td>\n      <td>...</td>\n      <td>...</td>\n      <td>...</td>\n      <td>...</td>\n      <td>...</td>\n      <td>...</td>\n      <td>...</td>\n      <td>...</td>\n    </tr>\n    <tr>\n      <th>11954</th>\n      <td>5mz9pQZZXNpAw9CdQ7Bk8q</td>\n      <td>Don't Pity Me - Mono; 2003 Remaster</td>\n      <td>['6lHC2EQMEMZiEmSfFloarn']</td>\n      <td>['Peter And Gordon']</td>\n      <td>8</td>\n      <td>False</td>\n      <td>Solo</td>\n      <td>1</td>\n      <td>1</td>\n      <td>78</td>\n      <td>...</td>\n      <td>0.61900</td>\n      <td>0.500</td>\n      <td>0.654</td>\n      <td>0.000000</td>\n      <td>0.3320</td>\n      <td>-8.633</td>\n      <td>0.0394</td>\n      <td>0.403</td>\n      <td>107.326</td>\n      <td>1</td>\n    </tr>\n    <tr>\n      <th>11955</th>\n      <td>2H9CKpZiLDF223BbwehpDF</td>\n      <td>Hush Hush; Hush Hush - Main</td>\n      <td>['6wPhSqRtPu1UhRCDX5yaDJ']</td>\n      <td>['The Pussycat Dolls']</td>\n      <td>57</td>\n      <td>False</td>\n      <td>Solo</td>\n      <td>1</td>\n      <td>1</td>\n      <td>59</td>\n      <td>...</td>\n      <td>0.10500</td>\n      <td>0.609</td>\n      <td>0.790</td>\n      <td>0.000000</td>\n      <td>0.3140</td>\n      <td>-3.787</td>\n      <td>0.0663</td>\n      <td>0.664</td>\n      <td>129.334</td>\n      <td>1</td>\n    </tr>\n    <tr>\n      <th>11956</th>\n      <td>7zqM7Wm2xJLZ50qAnTLoHD</td>\n      <td>Lions, Tigers &amp; Bears</td>\n      <td>['7gSjFKpVmDgC2MMsnN8CYq']</td>\n      <td>['Jazmine Sullivan']</td>\n      <td>49</td>\n      <td>False</td>\n      <td>Solo</td>\n      <td>4</td>\n      <td>1</td>\n      <td>71</td>\n      <td>...</td>\n      <td>0.07880</td>\n      <td>0.576</td>\n      <td>0.515</td>\n      <td>0.000000</td>\n      <td>0.1180</td>\n      <td>-6.178</td>\n      <td>0.0295</td>\n      <td>0.407</td>\n      <td>95.406</td>\n      <td>1</td>\n    </tr>\n    <tr>\n      <th>11957</th>\n      <td>4DPlKVZ6R1EHLfnIsy9ouh</td>\n      <td>The Weight</td>\n      <td>['0rXI0q8Cahq6numvPlloaq', '3RwQ26hR2tJtA8F9p2...</td>\n      <td>['Diana Ross &amp; The Supremes', 'The Temptations']</td>\n      <td>2</td>\n      <td>False</td>\n      <td>Collaboration</td>\n      <td>23</td>\n      <td>2</td>\n      <td>79</td>\n      <td>...</td>\n      <td>0.37000</td>\n      <td>0.566</td>\n      <td>0.607</td>\n      <td>0.000000</td>\n      <td>0.6710</td>\n      <td>-7.532</td>\n      <td>0.0357</td>\n      <td>0.765</td>\n      <td>91.378</td>\n      <td>1</td>\n    </tr>\n    <tr>\n      <th>11958</th>\n      <td>6RUa3ZwZYnJnNgZxtIYJR9</td>\n      <td>Purest of Pain (A Puro Dolor) - Martinee's Rad...</td>\n      <td>['1qyAl8T6GTcaOViaI7fs1j', '7AOI1S3Uy411dDhNTd...</td>\n      <td>['Son By Four', 'Lewis Martinee']</td>\n      <td>10</td>\n      <td>False</td>\n      <td>Collaboration</td>\n      <td>1</td>\n      <td>2</td>\n      <td>79</td>\n      <td>...</td>\n      <td>0.45000</td>\n      <td>0.593</td>\n      <td>0.939</td>\n      <td>0.000013</td>\n      <td>0.1090</td>\n      <td>-3.431</td>\n      <td>0.0616</td>\n      <td>0.743</td>\n      <td>134.108</td>\n      <td>1</td>\n    </tr>\n  </tbody>\n</table>\n<p>11959 rows × 25 columns</p>\n</div>"
     },
     "execution_count": 1,
     "metadata": {},
     "output_type": "execute_result"
    }
   ],
   "source": [
    "import pandas as pd\n",
    "import matplotlib.pyplot as plt\n",
    "\n",
    "df_hits = pd.read_csv(\"additional/hits_dataset.csv\", delimiter=\"\\t\")\n",
    "df_hits[\"hit\"] = 1\n",
    "df_hits"
   ]
  },
  {
   "cell_type": "code",
   "execution_count": 2,
   "outputs": [
    {
     "name": "stderr",
     "output_type": "stream",
     "text": [
      "C:\\Users\\lasse\\AppData\\Local\\Temp\\ipykernel_13916\\2533836516.py:1: DtypeWarning: Columns (11,12,13,14,15,16,17,18,19,20,21,22,23) have mixed types. Specify dtype option on import or set low_memory=False.\n",
      "  df_nonhits = pd.read_csv(\"additional/nonhits_dataset.csv\", delimiter=\"\\t\")\n"
     ]
    },
    {
     "data": {
      "text/plain": "                       song_id  \\\n0       1TEL6MlSSVLSdhOSddidlJ   \n1       4uTvPEr01pjTbZgl7jcKBD   \n2       2hloaUoRonYssMuqLCBLTX   \n3       3wFLWP0FcIqHK1wb1CPthQ   \n4       5Il6Oe7lr5XM7A0cWbVQtr   \n...                        ...   \n899063  2tP0ryZParpdjvxubgXhTN   \n899064  7Ltni80U0w7bmYjXPNzSEa   \n899065  1gQClXN1Dq4rj0wBzddcNA   \n899066  2jhxQrFNdVPkWL28X7ZpeK   \n899067  6KkbkpUObAqcKGEfvguHJO   \n\n                                               song_name  \\\n0                                                  needy   \n1                                                   NASA   \n2                                              bloodline   \n3                                             fake smile   \n4                                               bad idea   \n...                                                  ...   \n899063                              Love Is Here to Stay   \n899064                                 Heinlein's Planet   \n899065     Beds are Burning - Karaoke Lead Vocal Version   \n899066  Un homme heureux - Version karaoké instrumentale   \n899067                     Santa Claus Is Coming to Town   \n\n                                               id_artists  \\\n0                              ['66CXWjxzNUsdJxJ2JdwvnR']   \n1                              ['66CXWjxzNUsdJxJ2JdwvnR']   \n2                              ['66CXWjxzNUsdJxJ2JdwvnR']   \n3                              ['66CXWjxzNUsdJxJ2JdwvnR']   \n4                              ['66CXWjxzNUsdJxJ2JdwvnR']   \n...                                                   ...   \n899063  ['3Dzj993UEz8Z5ovxuirzFO', '6RCsx4p5smZHYz2P5H...   \n899064                         ['4urvwbid7NFoVes5PTx9lV']   \n899065                         ['7yv4DJOCmilSbxxsdQgXWk']   \n899066                         ['7yv4DJOCmilSbxxsdQgXWk']   \n899067                         ['7tdO7d7r0vhwov7RIZWH6V']   \n\n                                     name_artists  popularity  explicit  \\\n0                               ['Ariana Grande']          76      True   \n1                               ['Ariana Grande']          76     False   \n2                               ['Ariana Grande']          74      True   \n3                               ['Ariana Grande']          73      True   \n4                               ['Ariana Grande']          74     False   \n...                                           ...         ...       ...   \n899063  ['Lindsey Buckingham', 'Christine McVie']          16     False   \n899064                             ['Tony Carey']           0     False   \n899065                             ['Pictomusic']           0     False   \n899066                             ['Pictomusic']           0     False   \n899067                            ['Mitch Ryder']           0     False   \n\n            song_type  track_number  num_artists  num_available_markets  ...  \\\n0                Solo             2            1                     79  ...   \n1                Solo             3            1                     79  ...   \n2                Solo             4            1                     79  ...   \n3                Solo             5            1                     79  ...   \n4                Solo             6            1                     79  ...   \n...               ...           ...          ...                    ...  ...   \n899063  Collaboration             5            2                      1  ...   \n899064           Solo             5            1                     79  ...   \n899065           Solo             2            1                     79  ...   \n899066           Solo             1            1                     79  ...   \n899067           Solo             3            1                     79  ...   \n\n       acousticness danceability energy instrumentalness liveness loudness  \\\n0              0.78        0.647  0.309         7.41e-06    0.202   -7.948   \n1             0.451        0.747  0.458                0    0.252   -6.891   \n2            0.0815        0.758  0.665         0.000157    0.216   -5.188   \n3             0.329         0.45  0.619                0    0.319   -7.412   \n4            0.0268        0.847  0.579           0.0545    0.102   -5.314   \n...             ...          ...    ...              ...      ...      ...   \n899063        0.366        0.446  0.658         2.49e-05    0.751   -8.362   \n899064        0.481        0.305  0.456            0.933    0.111  -20.199   \n899065       0.0118        0.852  0.648                0   0.0503   -7.189   \n899066        0.973        0.664  0.353            0.787   0.0878  -12.303   \n899067        0.386        0.651  0.896          0.00163   0.0734   -6.004   \n\n       speechiness valence    tempo hit  \n0           0.0366   0.195   87.045   0  \n1            0.303    0.47   75.029   0  \n2           0.0774   0.643  151.976   0  \n3            0.372   0.427     83.3   0  \n4           0.0719   0.569  137.998   0  \n...            ...     ...      ...  ..  \n899063      0.0297   0.554    84.74   0  \n899064      0.0634   0.171   96.996   0  \n899065       0.048   0.559   120.15   0  \n899066      0.0693   0.284   116.45   0  \n899067      0.0327   0.893  148.107   0  \n\n[899068 rows x 25 columns]",
      "text/html": "<div>\n<style scoped>\n    .dataframe tbody tr th:only-of-type {\n        vertical-align: middle;\n    }\n\n    .dataframe tbody tr th {\n        vertical-align: top;\n    }\n\n    .dataframe thead th {\n        text-align: right;\n    }\n</style>\n<table border=\"1\" class=\"dataframe\">\n  <thead>\n    <tr style=\"text-align: right;\">\n      <th></th>\n      <th>song_id</th>\n      <th>song_name</th>\n      <th>id_artists</th>\n      <th>name_artists</th>\n      <th>popularity</th>\n      <th>explicit</th>\n      <th>song_type</th>\n      <th>track_number</th>\n      <th>num_artists</th>\n      <th>num_available_markets</th>\n      <th>...</th>\n      <th>acousticness</th>\n      <th>danceability</th>\n      <th>energy</th>\n      <th>instrumentalness</th>\n      <th>liveness</th>\n      <th>loudness</th>\n      <th>speechiness</th>\n      <th>valence</th>\n      <th>tempo</th>\n      <th>hit</th>\n    </tr>\n  </thead>\n  <tbody>\n    <tr>\n      <th>0</th>\n      <td>1TEL6MlSSVLSdhOSddidlJ</td>\n      <td>needy</td>\n      <td>['66CXWjxzNUsdJxJ2JdwvnR']</td>\n      <td>['Ariana Grande']</td>\n      <td>76</td>\n      <td>True</td>\n      <td>Solo</td>\n      <td>2</td>\n      <td>1</td>\n      <td>79</td>\n      <td>...</td>\n      <td>0.78</td>\n      <td>0.647</td>\n      <td>0.309</td>\n      <td>7.41e-06</td>\n      <td>0.202</td>\n      <td>-7.948</td>\n      <td>0.0366</td>\n      <td>0.195</td>\n      <td>87.045</td>\n      <td>0</td>\n    </tr>\n    <tr>\n      <th>1</th>\n      <td>4uTvPEr01pjTbZgl7jcKBD</td>\n      <td>NASA</td>\n      <td>['66CXWjxzNUsdJxJ2JdwvnR']</td>\n      <td>['Ariana Grande']</td>\n      <td>76</td>\n      <td>False</td>\n      <td>Solo</td>\n      <td>3</td>\n      <td>1</td>\n      <td>79</td>\n      <td>...</td>\n      <td>0.451</td>\n      <td>0.747</td>\n      <td>0.458</td>\n      <td>0</td>\n      <td>0.252</td>\n      <td>-6.891</td>\n      <td>0.303</td>\n      <td>0.47</td>\n      <td>75.029</td>\n      <td>0</td>\n    </tr>\n    <tr>\n      <th>2</th>\n      <td>2hloaUoRonYssMuqLCBLTX</td>\n      <td>bloodline</td>\n      <td>['66CXWjxzNUsdJxJ2JdwvnR']</td>\n      <td>['Ariana Grande']</td>\n      <td>74</td>\n      <td>True</td>\n      <td>Solo</td>\n      <td>4</td>\n      <td>1</td>\n      <td>79</td>\n      <td>...</td>\n      <td>0.0815</td>\n      <td>0.758</td>\n      <td>0.665</td>\n      <td>0.000157</td>\n      <td>0.216</td>\n      <td>-5.188</td>\n      <td>0.0774</td>\n      <td>0.643</td>\n      <td>151.976</td>\n      <td>0</td>\n    </tr>\n    <tr>\n      <th>3</th>\n      <td>3wFLWP0FcIqHK1wb1CPthQ</td>\n      <td>fake smile</td>\n      <td>['66CXWjxzNUsdJxJ2JdwvnR']</td>\n      <td>['Ariana Grande']</td>\n      <td>73</td>\n      <td>True</td>\n      <td>Solo</td>\n      <td>5</td>\n      <td>1</td>\n      <td>79</td>\n      <td>...</td>\n      <td>0.329</td>\n      <td>0.45</td>\n      <td>0.619</td>\n      <td>0</td>\n      <td>0.319</td>\n      <td>-7.412</td>\n      <td>0.372</td>\n      <td>0.427</td>\n      <td>83.3</td>\n      <td>0</td>\n    </tr>\n    <tr>\n      <th>4</th>\n      <td>5Il6Oe7lr5XM7A0cWbVQtr</td>\n      <td>bad idea</td>\n      <td>['66CXWjxzNUsdJxJ2JdwvnR']</td>\n      <td>['Ariana Grande']</td>\n      <td>74</td>\n      <td>False</td>\n      <td>Solo</td>\n      <td>6</td>\n      <td>1</td>\n      <td>79</td>\n      <td>...</td>\n      <td>0.0268</td>\n      <td>0.847</td>\n      <td>0.579</td>\n      <td>0.0545</td>\n      <td>0.102</td>\n      <td>-5.314</td>\n      <td>0.0719</td>\n      <td>0.569</td>\n      <td>137.998</td>\n      <td>0</td>\n    </tr>\n    <tr>\n      <th>...</th>\n      <td>...</td>\n      <td>...</td>\n      <td>...</td>\n      <td>...</td>\n      <td>...</td>\n      <td>...</td>\n      <td>...</td>\n      <td>...</td>\n      <td>...</td>\n      <td>...</td>\n      <td>...</td>\n      <td>...</td>\n      <td>...</td>\n      <td>...</td>\n      <td>...</td>\n      <td>...</td>\n      <td>...</td>\n      <td>...</td>\n      <td>...</td>\n      <td>...</td>\n      <td>...</td>\n    </tr>\n    <tr>\n      <th>899063</th>\n      <td>2tP0ryZParpdjvxubgXhTN</td>\n      <td>Love Is Here to Stay</td>\n      <td>['3Dzj993UEz8Z5ovxuirzFO', '6RCsx4p5smZHYz2P5H...</td>\n      <td>['Lindsey Buckingham', 'Christine McVie']</td>\n      <td>16</td>\n      <td>False</td>\n      <td>Collaboration</td>\n      <td>5</td>\n      <td>2</td>\n      <td>1</td>\n      <td>...</td>\n      <td>0.366</td>\n      <td>0.446</td>\n      <td>0.658</td>\n      <td>2.49e-05</td>\n      <td>0.751</td>\n      <td>-8.362</td>\n      <td>0.0297</td>\n      <td>0.554</td>\n      <td>84.74</td>\n      <td>0</td>\n    </tr>\n    <tr>\n      <th>899064</th>\n      <td>7Ltni80U0w7bmYjXPNzSEa</td>\n      <td>Heinlein's Planet</td>\n      <td>['4urvwbid7NFoVes5PTx9lV']</td>\n      <td>['Tony Carey']</td>\n      <td>0</td>\n      <td>False</td>\n      <td>Solo</td>\n      <td>5</td>\n      <td>1</td>\n      <td>79</td>\n      <td>...</td>\n      <td>0.481</td>\n      <td>0.305</td>\n      <td>0.456</td>\n      <td>0.933</td>\n      <td>0.111</td>\n      <td>-20.199</td>\n      <td>0.0634</td>\n      <td>0.171</td>\n      <td>96.996</td>\n      <td>0</td>\n    </tr>\n    <tr>\n      <th>899065</th>\n      <td>1gQClXN1Dq4rj0wBzddcNA</td>\n      <td>Beds are Burning - Karaoke Lead Vocal Version</td>\n      <td>['7yv4DJOCmilSbxxsdQgXWk']</td>\n      <td>['Pictomusic']</td>\n      <td>0</td>\n      <td>False</td>\n      <td>Solo</td>\n      <td>2</td>\n      <td>1</td>\n      <td>79</td>\n      <td>...</td>\n      <td>0.0118</td>\n      <td>0.852</td>\n      <td>0.648</td>\n      <td>0</td>\n      <td>0.0503</td>\n      <td>-7.189</td>\n      <td>0.048</td>\n      <td>0.559</td>\n      <td>120.15</td>\n      <td>0</td>\n    </tr>\n    <tr>\n      <th>899066</th>\n      <td>2jhxQrFNdVPkWL28X7ZpeK</td>\n      <td>Un homme heureux - Version karaoké instrumentale</td>\n      <td>['7yv4DJOCmilSbxxsdQgXWk']</td>\n      <td>['Pictomusic']</td>\n      <td>0</td>\n      <td>False</td>\n      <td>Solo</td>\n      <td>1</td>\n      <td>1</td>\n      <td>79</td>\n      <td>...</td>\n      <td>0.973</td>\n      <td>0.664</td>\n      <td>0.353</td>\n      <td>0.787</td>\n      <td>0.0878</td>\n      <td>-12.303</td>\n      <td>0.0693</td>\n      <td>0.284</td>\n      <td>116.45</td>\n      <td>0</td>\n    </tr>\n    <tr>\n      <th>899067</th>\n      <td>6KkbkpUObAqcKGEfvguHJO</td>\n      <td>Santa Claus Is Coming to Town</td>\n      <td>['7tdO7d7r0vhwov7RIZWH6V']</td>\n      <td>['Mitch Ryder']</td>\n      <td>0</td>\n      <td>False</td>\n      <td>Solo</td>\n      <td>3</td>\n      <td>1</td>\n      <td>79</td>\n      <td>...</td>\n      <td>0.386</td>\n      <td>0.651</td>\n      <td>0.896</td>\n      <td>0.00163</td>\n      <td>0.0734</td>\n      <td>-6.004</td>\n      <td>0.0327</td>\n      <td>0.893</td>\n      <td>148.107</td>\n      <td>0</td>\n    </tr>\n  </tbody>\n</table>\n<p>899068 rows × 25 columns</p>\n</div>"
     },
     "execution_count": 2,
     "metadata": {},
     "output_type": "execute_result"
    }
   ],
   "source": [
    "df_nonhits = pd.read_csv(\"additional/nonhits_dataset.csv\", delimiter=\"\\t\")\n",
    "df_nonhits[\"hit\"] = 0\n",
    "df_nonhits"
   ],
   "metadata": {
    "collapsed": false,
    "ExecuteTime": {
     "end_time": "2024-05-07T10:59:02.150742700Z",
     "start_time": "2024-05-07T10:58:58.893478Z"
    }
   },
   "id": "26d5e57f02f1e85d"
  },
  {
   "cell_type": "code",
   "execution_count": 3,
   "outputs": [
    {
     "data": {
      "text/plain": "                       song_id  \\\n0       3e9HZxeyfWwjeyPAMmWSSQ   \n1       5p7ujcrUXASCNwRaWNHR1C   \n2       2xLMifQCjDGFmkHkpNLD9h   \n3       3KkXRkHbMCARz0aVfEt68P   \n4       1rqqCSm0Qe4I9rUvWncaom   \n...                        ...   \n899063  2tP0ryZParpdjvxubgXhTN   \n899064  7Ltni80U0w7bmYjXPNzSEa   \n899065  1gQClXN1Dq4rj0wBzddcNA   \n899066  2jhxQrFNdVPkWL28X7ZpeK   \n899067  6KkbkpUObAqcKGEfvguHJO   \n\n                                               song_name  \\\n0                                          thank u, next   \n1                                             Without Me   \n2                                             SICKO MODE   \n3          Sunflower - Spider-Man: Into the Spider-Verse   \n4                                             High Hopes   \n...                                                  ...   \n899063                              Love Is Here to Stay   \n899064                                 Heinlein's Planet   \n899065     Beds are Burning - Karaoke Lead Vocal Version   \n899066  Un homme heureux - Version karaoké instrumentale   \n899067                     Santa Claus Is Coming to Town   \n\n                                               id_artists  \\\n0                              ['66CXWjxzNUsdJxJ2JdwvnR']   \n1                              ['26VFTg2z8YR0cCuwLzESi2']   \n2                              ['0Y5tJX1MQlPlqiwlOH1tJY']   \n3       ['246dkjvS1zLTtiykXe5h60', '1zNqQNIdeOUZHb8zbZ...   \n4                              ['20JZFwl6HVl6yg8a4H3ZqK']   \n...                                                   ...   \n899063  ['3Dzj993UEz8Z5ovxuirzFO', '6RCsx4p5smZHYz2P5H...   \n899064                         ['4urvwbid7NFoVes5PTx9lV']   \n899065                         ['7yv4DJOCmilSbxxsdQgXWk']   \n899066                         ['7yv4DJOCmilSbxxsdQgXWk']   \n899067                         ['7tdO7d7r0vhwov7RIZWH6V']   \n\n                                     name_artists  popularity  explicit  \\\n0                               ['Ariana Grande']          87      True   \n1                                      ['Halsey']          87      True   \n2                                ['Travis Scott']          86      True   \n3                     ['Post Malone', 'Swae Lee']          92     False   \n4                         ['Panic! At The Disco']          86     False   \n...                                           ...         ...       ...   \n899063  ['Lindsey Buckingham', 'Christine McVie']          16     False   \n899064                             ['Tony Carey']           0     False   \n899065                             ['Pictomusic']           0     False   \n899066                             ['Pictomusic']           0     False   \n899067                            ['Mitch Ryder']           0     False   \n\n            song_type  track_number  num_artists  num_available_markets  ...  \\\n0                Solo            11            1                     79  ...   \n1                Solo             1            1                     79  ...   \n2                Solo             3            1                     79  ...   \n3       Collaboration             2            2                     79  ...   \n4                Solo             4            1                     78  ...   \n...               ...           ...          ...                    ...  ...   \n899063  Collaboration             5            2                      1  ...   \n899064           Solo             5            1                     79  ...   \n899065           Solo             2            1                     79  ...   \n899066           Solo             1            1                     79  ...   \n899067           Solo             3            1                     79  ...   \n\n       acousticness danceability energy instrumentalness liveness loudness  \\\n0             0.229        0.717  0.653              0.0    0.101   -5.634   \n1             0.297        0.752  0.488         0.000009   0.0936    -7.05   \n2           0.00513        0.834   0.73              0.0    0.124   -3.714   \n3             0.556         0.76  0.479              0.0   0.0703   -5.574   \n4             0.193        0.579  0.904              0.0    0.064   -2.729   \n...             ...          ...    ...              ...      ...      ...   \n899063        0.366        0.446  0.658         2.49e-05    0.751   -8.362   \n899064        0.481        0.305  0.456            0.933    0.111  -20.199   \n899065       0.0118        0.852  0.648                0   0.0503   -7.189   \n899066        0.973        0.664  0.353            0.787   0.0878  -12.303   \n899067        0.386        0.651  0.896          0.00163   0.0734   -6.004   \n\n       speechiness valence    tempo hit  \n0           0.0658   0.412  106.966   1  \n1           0.0705   0.533  136.041   1  \n2            0.222   0.446  155.008   1  \n3           0.0466   0.913   89.911   1  \n4           0.0618   0.681   82.014   1  \n...            ...     ...      ...  ..  \n899063      0.0297   0.554    84.74   0  \n899064      0.0634   0.171   96.996   0  \n899065       0.048   0.559   120.15   0  \n899066      0.0693   0.284   116.45   0  \n899067      0.0327   0.893  148.107   0  \n\n[911027 rows x 25 columns]",
      "text/html": "<div>\n<style scoped>\n    .dataframe tbody tr th:only-of-type {\n        vertical-align: middle;\n    }\n\n    .dataframe tbody tr th {\n        vertical-align: top;\n    }\n\n    .dataframe thead th {\n        text-align: right;\n    }\n</style>\n<table border=\"1\" class=\"dataframe\">\n  <thead>\n    <tr style=\"text-align: right;\">\n      <th></th>\n      <th>song_id</th>\n      <th>song_name</th>\n      <th>id_artists</th>\n      <th>name_artists</th>\n      <th>popularity</th>\n      <th>explicit</th>\n      <th>song_type</th>\n      <th>track_number</th>\n      <th>num_artists</th>\n      <th>num_available_markets</th>\n      <th>...</th>\n      <th>acousticness</th>\n      <th>danceability</th>\n      <th>energy</th>\n      <th>instrumentalness</th>\n      <th>liveness</th>\n      <th>loudness</th>\n      <th>speechiness</th>\n      <th>valence</th>\n      <th>tempo</th>\n      <th>hit</th>\n    </tr>\n  </thead>\n  <tbody>\n    <tr>\n      <th>0</th>\n      <td>3e9HZxeyfWwjeyPAMmWSSQ</td>\n      <td>thank u, next</td>\n      <td>['66CXWjxzNUsdJxJ2JdwvnR']</td>\n      <td>['Ariana Grande']</td>\n      <td>87</td>\n      <td>True</td>\n      <td>Solo</td>\n      <td>11</td>\n      <td>1</td>\n      <td>79</td>\n      <td>...</td>\n      <td>0.229</td>\n      <td>0.717</td>\n      <td>0.653</td>\n      <td>0.0</td>\n      <td>0.101</td>\n      <td>-5.634</td>\n      <td>0.0658</td>\n      <td>0.412</td>\n      <td>106.966</td>\n      <td>1</td>\n    </tr>\n    <tr>\n      <th>1</th>\n      <td>5p7ujcrUXASCNwRaWNHR1C</td>\n      <td>Without Me</td>\n      <td>['26VFTg2z8YR0cCuwLzESi2']</td>\n      <td>['Halsey']</td>\n      <td>87</td>\n      <td>True</td>\n      <td>Solo</td>\n      <td>1</td>\n      <td>1</td>\n      <td>79</td>\n      <td>...</td>\n      <td>0.297</td>\n      <td>0.752</td>\n      <td>0.488</td>\n      <td>0.000009</td>\n      <td>0.0936</td>\n      <td>-7.05</td>\n      <td>0.0705</td>\n      <td>0.533</td>\n      <td>136.041</td>\n      <td>1</td>\n    </tr>\n    <tr>\n      <th>2</th>\n      <td>2xLMifQCjDGFmkHkpNLD9h</td>\n      <td>SICKO MODE</td>\n      <td>['0Y5tJX1MQlPlqiwlOH1tJY']</td>\n      <td>['Travis Scott']</td>\n      <td>86</td>\n      <td>True</td>\n      <td>Solo</td>\n      <td>3</td>\n      <td>1</td>\n      <td>79</td>\n      <td>...</td>\n      <td>0.00513</td>\n      <td>0.834</td>\n      <td>0.73</td>\n      <td>0.0</td>\n      <td>0.124</td>\n      <td>-3.714</td>\n      <td>0.222</td>\n      <td>0.446</td>\n      <td>155.008</td>\n      <td>1</td>\n    </tr>\n    <tr>\n      <th>3</th>\n      <td>3KkXRkHbMCARz0aVfEt68P</td>\n      <td>Sunflower - Spider-Man: Into the Spider-Verse</td>\n      <td>['246dkjvS1zLTtiykXe5h60', '1zNqQNIdeOUZHb8zbZ...</td>\n      <td>['Post Malone', 'Swae Lee']</td>\n      <td>92</td>\n      <td>False</td>\n      <td>Collaboration</td>\n      <td>2</td>\n      <td>2</td>\n      <td>79</td>\n      <td>...</td>\n      <td>0.556</td>\n      <td>0.76</td>\n      <td>0.479</td>\n      <td>0.0</td>\n      <td>0.0703</td>\n      <td>-5.574</td>\n      <td>0.0466</td>\n      <td>0.913</td>\n      <td>89.911</td>\n      <td>1</td>\n    </tr>\n    <tr>\n      <th>4</th>\n      <td>1rqqCSm0Qe4I9rUvWncaom</td>\n      <td>High Hopes</td>\n      <td>['20JZFwl6HVl6yg8a4H3ZqK']</td>\n      <td>['Panic! At The Disco']</td>\n      <td>86</td>\n      <td>False</td>\n      <td>Solo</td>\n      <td>4</td>\n      <td>1</td>\n      <td>78</td>\n      <td>...</td>\n      <td>0.193</td>\n      <td>0.579</td>\n      <td>0.904</td>\n      <td>0.0</td>\n      <td>0.064</td>\n      <td>-2.729</td>\n      <td>0.0618</td>\n      <td>0.681</td>\n      <td>82.014</td>\n      <td>1</td>\n    </tr>\n    <tr>\n      <th>...</th>\n      <td>...</td>\n      <td>...</td>\n      <td>...</td>\n      <td>...</td>\n      <td>...</td>\n      <td>...</td>\n      <td>...</td>\n      <td>...</td>\n      <td>...</td>\n      <td>...</td>\n      <td>...</td>\n      <td>...</td>\n      <td>...</td>\n      <td>...</td>\n      <td>...</td>\n      <td>...</td>\n      <td>...</td>\n      <td>...</td>\n      <td>...</td>\n      <td>...</td>\n      <td>...</td>\n    </tr>\n    <tr>\n      <th>899063</th>\n      <td>2tP0ryZParpdjvxubgXhTN</td>\n      <td>Love Is Here to Stay</td>\n      <td>['3Dzj993UEz8Z5ovxuirzFO', '6RCsx4p5smZHYz2P5H...</td>\n      <td>['Lindsey Buckingham', 'Christine McVie']</td>\n      <td>16</td>\n      <td>False</td>\n      <td>Collaboration</td>\n      <td>5</td>\n      <td>2</td>\n      <td>1</td>\n      <td>...</td>\n      <td>0.366</td>\n      <td>0.446</td>\n      <td>0.658</td>\n      <td>2.49e-05</td>\n      <td>0.751</td>\n      <td>-8.362</td>\n      <td>0.0297</td>\n      <td>0.554</td>\n      <td>84.74</td>\n      <td>0</td>\n    </tr>\n    <tr>\n      <th>899064</th>\n      <td>7Ltni80U0w7bmYjXPNzSEa</td>\n      <td>Heinlein's Planet</td>\n      <td>['4urvwbid7NFoVes5PTx9lV']</td>\n      <td>['Tony Carey']</td>\n      <td>0</td>\n      <td>False</td>\n      <td>Solo</td>\n      <td>5</td>\n      <td>1</td>\n      <td>79</td>\n      <td>...</td>\n      <td>0.481</td>\n      <td>0.305</td>\n      <td>0.456</td>\n      <td>0.933</td>\n      <td>0.111</td>\n      <td>-20.199</td>\n      <td>0.0634</td>\n      <td>0.171</td>\n      <td>96.996</td>\n      <td>0</td>\n    </tr>\n    <tr>\n      <th>899065</th>\n      <td>1gQClXN1Dq4rj0wBzddcNA</td>\n      <td>Beds are Burning - Karaoke Lead Vocal Version</td>\n      <td>['7yv4DJOCmilSbxxsdQgXWk']</td>\n      <td>['Pictomusic']</td>\n      <td>0</td>\n      <td>False</td>\n      <td>Solo</td>\n      <td>2</td>\n      <td>1</td>\n      <td>79</td>\n      <td>...</td>\n      <td>0.0118</td>\n      <td>0.852</td>\n      <td>0.648</td>\n      <td>0</td>\n      <td>0.0503</td>\n      <td>-7.189</td>\n      <td>0.048</td>\n      <td>0.559</td>\n      <td>120.15</td>\n      <td>0</td>\n    </tr>\n    <tr>\n      <th>899066</th>\n      <td>2jhxQrFNdVPkWL28X7ZpeK</td>\n      <td>Un homme heureux - Version karaoké instrumentale</td>\n      <td>['7yv4DJOCmilSbxxsdQgXWk']</td>\n      <td>['Pictomusic']</td>\n      <td>0</td>\n      <td>False</td>\n      <td>Solo</td>\n      <td>1</td>\n      <td>1</td>\n      <td>79</td>\n      <td>...</td>\n      <td>0.973</td>\n      <td>0.664</td>\n      <td>0.353</td>\n      <td>0.787</td>\n      <td>0.0878</td>\n      <td>-12.303</td>\n      <td>0.0693</td>\n      <td>0.284</td>\n      <td>116.45</td>\n      <td>0</td>\n    </tr>\n    <tr>\n      <th>899067</th>\n      <td>6KkbkpUObAqcKGEfvguHJO</td>\n      <td>Santa Claus Is Coming to Town</td>\n      <td>['7tdO7d7r0vhwov7RIZWH6V']</td>\n      <td>['Mitch Ryder']</td>\n      <td>0</td>\n      <td>False</td>\n      <td>Solo</td>\n      <td>3</td>\n      <td>1</td>\n      <td>79</td>\n      <td>...</td>\n      <td>0.386</td>\n      <td>0.651</td>\n      <td>0.896</td>\n      <td>0.00163</td>\n      <td>0.0734</td>\n      <td>-6.004</td>\n      <td>0.0327</td>\n      <td>0.893</td>\n      <td>148.107</td>\n      <td>0</td>\n    </tr>\n  </tbody>\n</table>\n<p>911027 rows × 25 columns</p>\n</div>"
     },
     "execution_count": 3,
     "metadata": {},
     "output_type": "execute_result"
    }
   ],
   "source": [
    "combined_df = pd.concat([df_hits, df_nonhits], axis=0)\n",
    "combined_df.replace(\"-\", float(\"nan\"), inplace=True)\n",
    "# Drop all rows with NaN values\n",
    "combined_df"
   ],
   "metadata": {
    "collapsed": false,
    "ExecuteTime": {
     "end_time": "2024-05-07T10:59:03.658205500Z",
     "start_time": "2024-05-07T10:59:02.145743400Z"
    }
   },
   "id": "6f9b2d1a6293f615"
  },
  {
   "cell_type": "code",
   "execution_count": 4,
   "outputs": [
    {
     "name": "stdout",
     "output_type": "stream",
     "text": [
      "Columns with NaN values:\n",
      "['duration_ms', 'key', 'mode', 'time_signature', 'acousticness', 'danceability', 'energy', 'instrumentalness', 'liveness', 'loudness', 'speechiness', 'valence', 'tempo']\n"
     ]
    }
   ],
   "source": [
    "# Check for NaN values in all columns\n",
    "nan_columns = combined_df.columns[combined_df.isna().any()].tolist()\n",
    "\n",
    "# Print columns with NaN values\n",
    "print(\"Columns with NaN values:\")\n",
    "print(nan_columns)\n"
   ],
   "metadata": {
    "collapsed": false,
    "ExecuteTime": {
     "end_time": "2024-05-07T10:59:03.987204200Z",
     "start_time": "2024-05-07T10:59:03.726205Z"
    }
   },
   "id": "8756697fa413e9af"
  },
  {
   "cell_type": "code",
   "execution_count": 5,
   "outputs": [
    {
     "data": {
      "text/plain": "                       song_id  \\\n0       3e9HZxeyfWwjeyPAMmWSSQ   \n1       5p7ujcrUXASCNwRaWNHR1C   \n2       2xLMifQCjDGFmkHkpNLD9h   \n3       3KkXRkHbMCARz0aVfEt68P   \n4       1rqqCSm0Qe4I9rUvWncaom   \n...                        ...   \n899063  2tP0ryZParpdjvxubgXhTN   \n899064  7Ltni80U0w7bmYjXPNzSEa   \n899065  1gQClXN1Dq4rj0wBzddcNA   \n899066  2jhxQrFNdVPkWL28X7ZpeK   \n899067  6KkbkpUObAqcKGEfvguHJO   \n\n                                               song_name  \\\n0                                          thank u, next   \n1                                             Without Me   \n2                                             SICKO MODE   \n3          Sunflower - Spider-Man: Into the Spider-Verse   \n4                                             High Hopes   \n...                                                  ...   \n899063                              Love Is Here to Stay   \n899064                                 Heinlein's Planet   \n899065     Beds are Burning - Karaoke Lead Vocal Version   \n899066  Un homme heureux - Version karaoké instrumentale   \n899067                     Santa Claus Is Coming to Town   \n\n                                               id_artists  \\\n0                              ['66CXWjxzNUsdJxJ2JdwvnR']   \n1                              ['26VFTg2z8YR0cCuwLzESi2']   \n2                              ['0Y5tJX1MQlPlqiwlOH1tJY']   \n3       ['246dkjvS1zLTtiykXe5h60', '1zNqQNIdeOUZHb8zbZ...   \n4                              ['20JZFwl6HVl6yg8a4H3ZqK']   \n...                                                   ...   \n899063  ['3Dzj993UEz8Z5ovxuirzFO', '6RCsx4p5smZHYz2P5H...   \n899064                         ['4urvwbid7NFoVes5PTx9lV']   \n899065                         ['7yv4DJOCmilSbxxsdQgXWk']   \n899066                         ['7yv4DJOCmilSbxxsdQgXWk']   \n899067                         ['7tdO7d7r0vhwov7RIZWH6V']   \n\n                                     name_artists  popularity  explicit  \\\n0                               ['Ariana Grande']          87      True   \n1                                      ['Halsey']          87      True   \n2                                ['Travis Scott']          86      True   \n3                     ['Post Malone', 'Swae Lee']          92     False   \n4                         ['Panic! At The Disco']          86     False   \n...                                           ...         ...       ...   \n899063  ['Lindsey Buckingham', 'Christine McVie']          16     False   \n899064                             ['Tony Carey']           0     False   \n899065                             ['Pictomusic']           0     False   \n899066                             ['Pictomusic']           0     False   \n899067                            ['Mitch Ryder']           0     False   \n\n            song_type  track_number  num_artists  num_available_markets  ...  \\\n0                Solo            11            1                     79  ...   \n1                Solo             1            1                     79  ...   \n2                Solo             3            1                     79  ...   \n3       Collaboration             2            2                     79  ...   \n4                Solo             4            1                     78  ...   \n...               ...           ...          ...                    ...  ...   \n899063  Collaboration             5            2                      1  ...   \n899064           Solo             5            1                     79  ...   \n899065           Solo             2            1                     79  ...   \n899066           Solo             1            1                     79  ...   \n899067           Solo             3            1                     79  ...   \n\n       acousticness  danceability  energy  instrumentalness  liveness  \\\n0           0.22900         0.717   0.653          0.000000    0.1010   \n1           0.29700         0.752   0.488          0.000009    0.0936   \n2           0.00513         0.834   0.730          0.000000    0.1240   \n3           0.55600         0.760   0.479          0.000000    0.0703   \n4           0.19300         0.579   0.904          0.000000    0.0640   \n...             ...           ...     ...               ...       ...   \n899063      0.36600         0.446   0.658          0.000025    0.7510   \n899064      0.48100         0.305   0.456          0.933000    0.1110   \n899065      0.01180         0.852   0.648          0.000000    0.0503   \n899066      0.97300         0.664   0.353          0.787000    0.0878   \n899067      0.38600         0.651   0.896          0.001630    0.0734   \n\n        loudness  speechiness  valence    tempo  hit  \n0         -5.634       0.0658    0.412  106.966    1  \n1         -7.050       0.0705    0.533  136.041    1  \n2         -3.714       0.2220    0.446  155.008    1  \n3         -5.574       0.0466    0.913   89.911    1  \n4         -2.729       0.0618    0.681   82.014    1  \n...          ...          ...      ...      ...  ...  \n899063    -8.362       0.0297    0.554   84.740    0  \n899064   -20.199       0.0634    0.171   96.996    0  \n899065    -7.189       0.0480    0.559  120.150    0  \n899066   -12.303       0.0693    0.284  116.450    0  \n899067    -6.004       0.0327    0.893  148.107    0  \n\n[911027 rows x 25 columns]",
      "text/html": "<div>\n<style scoped>\n    .dataframe tbody tr th:only-of-type {\n        vertical-align: middle;\n    }\n\n    .dataframe tbody tr th {\n        vertical-align: top;\n    }\n\n    .dataframe thead th {\n        text-align: right;\n    }\n</style>\n<table border=\"1\" class=\"dataframe\">\n  <thead>\n    <tr style=\"text-align: right;\">\n      <th></th>\n      <th>song_id</th>\n      <th>song_name</th>\n      <th>id_artists</th>\n      <th>name_artists</th>\n      <th>popularity</th>\n      <th>explicit</th>\n      <th>song_type</th>\n      <th>track_number</th>\n      <th>num_artists</th>\n      <th>num_available_markets</th>\n      <th>...</th>\n      <th>acousticness</th>\n      <th>danceability</th>\n      <th>energy</th>\n      <th>instrumentalness</th>\n      <th>liveness</th>\n      <th>loudness</th>\n      <th>speechiness</th>\n      <th>valence</th>\n      <th>tempo</th>\n      <th>hit</th>\n    </tr>\n  </thead>\n  <tbody>\n    <tr>\n      <th>0</th>\n      <td>3e9HZxeyfWwjeyPAMmWSSQ</td>\n      <td>thank u, next</td>\n      <td>['66CXWjxzNUsdJxJ2JdwvnR']</td>\n      <td>['Ariana Grande']</td>\n      <td>87</td>\n      <td>True</td>\n      <td>Solo</td>\n      <td>11</td>\n      <td>1</td>\n      <td>79</td>\n      <td>...</td>\n      <td>0.22900</td>\n      <td>0.717</td>\n      <td>0.653</td>\n      <td>0.000000</td>\n      <td>0.1010</td>\n      <td>-5.634</td>\n      <td>0.0658</td>\n      <td>0.412</td>\n      <td>106.966</td>\n      <td>1</td>\n    </tr>\n    <tr>\n      <th>1</th>\n      <td>5p7ujcrUXASCNwRaWNHR1C</td>\n      <td>Without Me</td>\n      <td>['26VFTg2z8YR0cCuwLzESi2']</td>\n      <td>['Halsey']</td>\n      <td>87</td>\n      <td>True</td>\n      <td>Solo</td>\n      <td>1</td>\n      <td>1</td>\n      <td>79</td>\n      <td>...</td>\n      <td>0.29700</td>\n      <td>0.752</td>\n      <td>0.488</td>\n      <td>0.000009</td>\n      <td>0.0936</td>\n      <td>-7.050</td>\n      <td>0.0705</td>\n      <td>0.533</td>\n      <td>136.041</td>\n      <td>1</td>\n    </tr>\n    <tr>\n      <th>2</th>\n      <td>2xLMifQCjDGFmkHkpNLD9h</td>\n      <td>SICKO MODE</td>\n      <td>['0Y5tJX1MQlPlqiwlOH1tJY']</td>\n      <td>['Travis Scott']</td>\n      <td>86</td>\n      <td>True</td>\n      <td>Solo</td>\n      <td>3</td>\n      <td>1</td>\n      <td>79</td>\n      <td>...</td>\n      <td>0.00513</td>\n      <td>0.834</td>\n      <td>0.730</td>\n      <td>0.000000</td>\n      <td>0.1240</td>\n      <td>-3.714</td>\n      <td>0.2220</td>\n      <td>0.446</td>\n      <td>155.008</td>\n      <td>1</td>\n    </tr>\n    <tr>\n      <th>3</th>\n      <td>3KkXRkHbMCARz0aVfEt68P</td>\n      <td>Sunflower - Spider-Man: Into the Spider-Verse</td>\n      <td>['246dkjvS1zLTtiykXe5h60', '1zNqQNIdeOUZHb8zbZ...</td>\n      <td>['Post Malone', 'Swae Lee']</td>\n      <td>92</td>\n      <td>False</td>\n      <td>Collaboration</td>\n      <td>2</td>\n      <td>2</td>\n      <td>79</td>\n      <td>...</td>\n      <td>0.55600</td>\n      <td>0.760</td>\n      <td>0.479</td>\n      <td>0.000000</td>\n      <td>0.0703</td>\n      <td>-5.574</td>\n      <td>0.0466</td>\n      <td>0.913</td>\n      <td>89.911</td>\n      <td>1</td>\n    </tr>\n    <tr>\n      <th>4</th>\n      <td>1rqqCSm0Qe4I9rUvWncaom</td>\n      <td>High Hopes</td>\n      <td>['20JZFwl6HVl6yg8a4H3ZqK']</td>\n      <td>['Panic! At The Disco']</td>\n      <td>86</td>\n      <td>False</td>\n      <td>Solo</td>\n      <td>4</td>\n      <td>1</td>\n      <td>78</td>\n      <td>...</td>\n      <td>0.19300</td>\n      <td>0.579</td>\n      <td>0.904</td>\n      <td>0.000000</td>\n      <td>0.0640</td>\n      <td>-2.729</td>\n      <td>0.0618</td>\n      <td>0.681</td>\n      <td>82.014</td>\n      <td>1</td>\n    </tr>\n    <tr>\n      <th>...</th>\n      <td>...</td>\n      <td>...</td>\n      <td>...</td>\n      <td>...</td>\n      <td>...</td>\n      <td>...</td>\n      <td>...</td>\n      <td>...</td>\n      <td>...</td>\n      <td>...</td>\n      <td>...</td>\n      <td>...</td>\n      <td>...</td>\n      <td>...</td>\n      <td>...</td>\n      <td>...</td>\n      <td>...</td>\n      <td>...</td>\n      <td>...</td>\n      <td>...</td>\n      <td>...</td>\n    </tr>\n    <tr>\n      <th>899063</th>\n      <td>2tP0ryZParpdjvxubgXhTN</td>\n      <td>Love Is Here to Stay</td>\n      <td>['3Dzj993UEz8Z5ovxuirzFO', '6RCsx4p5smZHYz2P5H...</td>\n      <td>['Lindsey Buckingham', 'Christine McVie']</td>\n      <td>16</td>\n      <td>False</td>\n      <td>Collaboration</td>\n      <td>5</td>\n      <td>2</td>\n      <td>1</td>\n      <td>...</td>\n      <td>0.36600</td>\n      <td>0.446</td>\n      <td>0.658</td>\n      <td>0.000025</td>\n      <td>0.7510</td>\n      <td>-8.362</td>\n      <td>0.0297</td>\n      <td>0.554</td>\n      <td>84.740</td>\n      <td>0</td>\n    </tr>\n    <tr>\n      <th>899064</th>\n      <td>7Ltni80U0w7bmYjXPNzSEa</td>\n      <td>Heinlein's Planet</td>\n      <td>['4urvwbid7NFoVes5PTx9lV']</td>\n      <td>['Tony Carey']</td>\n      <td>0</td>\n      <td>False</td>\n      <td>Solo</td>\n      <td>5</td>\n      <td>1</td>\n      <td>79</td>\n      <td>...</td>\n      <td>0.48100</td>\n      <td>0.305</td>\n      <td>0.456</td>\n      <td>0.933000</td>\n      <td>0.1110</td>\n      <td>-20.199</td>\n      <td>0.0634</td>\n      <td>0.171</td>\n      <td>96.996</td>\n      <td>0</td>\n    </tr>\n    <tr>\n      <th>899065</th>\n      <td>1gQClXN1Dq4rj0wBzddcNA</td>\n      <td>Beds are Burning - Karaoke Lead Vocal Version</td>\n      <td>['7yv4DJOCmilSbxxsdQgXWk']</td>\n      <td>['Pictomusic']</td>\n      <td>0</td>\n      <td>False</td>\n      <td>Solo</td>\n      <td>2</td>\n      <td>1</td>\n      <td>79</td>\n      <td>...</td>\n      <td>0.01180</td>\n      <td>0.852</td>\n      <td>0.648</td>\n      <td>0.000000</td>\n      <td>0.0503</td>\n      <td>-7.189</td>\n      <td>0.0480</td>\n      <td>0.559</td>\n      <td>120.150</td>\n      <td>0</td>\n    </tr>\n    <tr>\n      <th>899066</th>\n      <td>2jhxQrFNdVPkWL28X7ZpeK</td>\n      <td>Un homme heureux - Version karaoké instrumentale</td>\n      <td>['7yv4DJOCmilSbxxsdQgXWk']</td>\n      <td>['Pictomusic']</td>\n      <td>0</td>\n      <td>False</td>\n      <td>Solo</td>\n      <td>1</td>\n      <td>1</td>\n      <td>79</td>\n      <td>...</td>\n      <td>0.97300</td>\n      <td>0.664</td>\n      <td>0.353</td>\n      <td>0.787000</td>\n      <td>0.0878</td>\n      <td>-12.303</td>\n      <td>0.0693</td>\n      <td>0.284</td>\n      <td>116.450</td>\n      <td>0</td>\n    </tr>\n    <tr>\n      <th>899067</th>\n      <td>6KkbkpUObAqcKGEfvguHJO</td>\n      <td>Santa Claus Is Coming to Town</td>\n      <td>['7tdO7d7r0vhwov7RIZWH6V']</td>\n      <td>['Mitch Ryder']</td>\n      <td>0</td>\n      <td>False</td>\n      <td>Solo</td>\n      <td>3</td>\n      <td>1</td>\n      <td>79</td>\n      <td>...</td>\n      <td>0.38600</td>\n      <td>0.651</td>\n      <td>0.896</td>\n      <td>0.001630</td>\n      <td>0.0734</td>\n      <td>-6.004</td>\n      <td>0.0327</td>\n      <td>0.893</td>\n      <td>148.107</td>\n      <td>0</td>\n    </tr>\n  </tbody>\n</table>\n<p>911027 rows × 25 columns</p>\n</div>"
     },
     "execution_count": 5,
     "metadata": {},
     "output_type": "execute_result"
    }
   ],
   "source": [
    "from sklearn.impute import SimpleImputer\n",
    "\n",
    "combined_df.replace(\"-\", float(\"nan\"), inplace=True)   ## evtl hier schon mean replacement???\n",
    "# combined_df.dropna(inplace=True)   # drop nan value rows\n",
    "#Fill missing values with mean for each numeric attribute\n",
    "imputer = SimpleImputer(strategy='mean')\n",
    "for col in nan_columns:\n",
    "    combined_df[col] = imputer.fit_transform(combined_df[[col]])\n",
    "\n",
    "combined_df"
   ],
   "metadata": {
    "collapsed": false,
    "ExecuteTime": {
     "end_time": "2024-05-07T10:59:07.538850Z",
     "start_time": "2024-05-07T10:59:03.983203600Z"
    }
   },
   "id": "723e4477181f9728"
  },
  {
   "cell_type": "code",
   "execution_count": 6,
   "outputs": [
    {
     "name": "stdout",
     "output_type": "stream",
     "text": [
      "Columns with NaN values:\n",
      "[]\n"
     ]
    }
   ],
   "source": [
    "# Check for NaN values in all columns\n",
    "nan_columns = combined_df.columns[combined_df.isna().any()].tolist()\n",
    "\n",
    "# Print columns with NaN values\n",
    "print(\"Columns with NaN values:\")\n",
    "print(nan_columns)\n"
   ],
   "metadata": {
    "collapsed": false,
    "ExecuteTime": {
     "end_time": "2024-05-07T10:59:07.673851500Z",
     "start_time": "2024-05-07T10:59:07.610852800Z"
    }
   },
   "id": "ad978e73fb721d3e"
  },
  {
   "cell_type": "code",
   "execution_count": 7,
   "outputs": [],
   "source": [
    "from sklearn.model_selection import train_test_split\n",
    "combined_df['date'] = pd.to_datetime(combined_df['release_date'])\n",
    "combined_df.sort_values(by=\"date\", inplace=True)\n",
    "#border_day = combined_df[\"date\"].iloc[-1]  - pd.DateOffset(years=4)\n",
    "#combined_df = combined_df[(combined_df[\"date\"] >= border_day)]\n",
    "\n",
    "split_day = combined_df[\"date\"].iloc[-1]  - pd.DateOffset(years=1)\n",
    "train_df = combined_df[(combined_df[\"date\"]  < split_day)]\n",
    "test_df = combined_df[(combined_df[\"date\"]  >= split_day)]\n",
    "#train_df, test_df = train_test_split(combined_df, test_size=1/6, shuffle=False)"
   ],
   "metadata": {
    "collapsed": false,
    "ExecuteTime": {
     "end_time": "2024-05-07T10:59:08.269839600Z",
     "start_time": "2024-05-07T10:59:07.696849700Z"
    }
   },
   "id": "f55fc8cca1de5d29"
  },
  {
   "cell_type": "code",
   "execution_count": 8,
   "outputs": [
    {
     "data": {
      "text/plain": "                       song_id  \\\n804676  7kXUEJmfvRXbzxOC0pHQgb   \n465447  1xdRFXv3ytSOdj8GuT3Rge   \n465446  5wlQIBbKIWoB7AnSw09C6C   \n377956  40uHAEjua1YmyKIJ6k0iVa   \n465445  2zmMWWgwCXYarkO2SbyPZP   \n...                        ...   \n11098   0xAqhyWvTkfcdFgm7dozMO   \n10903   6zhg8TnVKi90ITDzFKwPr0   \n5856    2GvkFSjRXV0Ii3uYnHiQ74   \n5080    0lej8CemYKkWVHg77Xe1ky   \n10666   6Fh2QgjCxL96dA3Gtpfr4Q   \n\n                                                song_name  \\\n804676                     I Can't Believe I'm Losing You   \n465447                         Thank You Lord (Interlude)   \n465446                                      All This Love   \n377956                                           Bo Bo Wa   \n465445                                          Come Over   \n...                                                   ...   \n11098             (I Wanna) Testify (Mono Single Version)   \n10903                       Swingtown - Alternate Version   \n5856                                       Take My Advice   \n5080             A Man Holdin' on (To a Woman Lettin’ Go)   \n10666   One Sweet Day (16-Bit Mariah Carey & Boyz II M...   \n\n                                               id_artists  \\\n804676                         ['6eVCRmRG2HcfL4yx77A9WK']   \n465447                         ['5NDMothbpdpq2xHqSjrrWn']   \n465446                         ['5NDMothbpdpq2xHqSjrrWn']   \n377956                         ['3z6Uf5IZkN4TogRpRpgD84']   \n465445                         ['5NDMothbpdpq2xHqSjrrWn']   \n...                                                   ...   \n11098                          ['1Ve5PoI7i5jIIP1xudo6AB']   \n10903                          ['6QtGlUje9TIkLrgPZrESuk']   \n5856                           ['40PLSl99xXqAQsCQQPmfyM']   \n5080    ['1Fj0R2t4HaJa3oUe8azB8R', '5LDnSV99gbDSsMX3Dc...   \n10666                          ['1v4YnufenjE9BLAfP90qvt']   \n\n                           name_artists  popularity  explicit      song_type  \\\n804676                   ['Jack Jones']           5     False           Solo   \n465447                  ['Faith Evans']          20     False           Solo   \n465446                  ['Faith Evans']          26     False           Solo   \n377956                  ['Gary Wright']           0     False           Solo   \n465445                  ['Faith Evans']          38     False           Solo   \n...                                 ...         ...       ...            ...   \n11098               ['The Parliaments']           7     False           Solo   \n10903             ['Steve Miller Band']          26     False           Solo   \n5856                       ['Kym Sims']           0     False           Solo   \n5080    ['Ty Herndon', 'Anita Cochran']          14     False  Collaboration   \n10666                 ['Arcade Player']           0     False           Solo   \n\n        track_number  num_artists  num_available_markets  ... danceability  \\\n804676            12            1                     79  ...        0.180   \n465447            10            1                     77  ...        0.370   \n465446             9            1                     77  ...        0.605   \n377956             8            1                     79  ...        0.481   \n465445             7            1                     77  ...        0.534   \n...              ...          ...                    ...  ...          ...   \n11098             10            1                     79  ...        0.668   \n10903              5            1                     79  ...        0.459   \n5856              10            1                     73  ...        0.737   \n5080               7            2                     79  ...        0.611   \n10666             27            1                     79  ...        0.395   \n\n        energy  instrumentalness  liveness  loudness  speechiness  valence  \\\n804676   0.369          0.000000    0.1500    -9.797       0.0299    0.224   \n465447   0.284          0.000000    0.5580   -14.443       0.0378    0.649   \n465446   0.604          0.000153    0.0693    -9.214       0.0480    0.503   \n377956   0.652          0.008670    0.0397   -10.981       0.0364    0.795   \n465445   0.563          0.000001    0.5740    -8.975       0.0601    0.414   \n...        ...               ...       ...       ...          ...      ...   \n11098    0.702          0.000000    0.0521    -5.750       0.0330    0.754   \n10903    0.764          0.000544    0.2440    -6.662       0.0354    0.439   \n5856     0.814          0.392000    0.0844   -10.396       0.0307    0.803   \n5080     0.429          0.000014    0.1120    -8.619       0.0298    0.237   \n10666    0.405          0.745000    0.1100    -5.559       0.0393    0.313   \n\n          tempo  hit       date  \n804676   81.701    0 1995-01-01  \n465447  130.985    0 1995-01-01  \n465446  145.483    0 1995-01-01  \n377956  195.791    0 1995-01-01  \n465445  124.149    0 1995-01-01  \n...         ...  ...        ...  \n11098   105.227    1 2019-08-23  \n10903   124.557    1 2019-08-23  \n5856    120.010    1 2019-08-23  \n5080    128.007    1 2019-08-23  \n10666   194.933    1 2019-08-26  \n\n[911027 rows x 26 columns]",
      "text/html": "<div>\n<style scoped>\n    .dataframe tbody tr th:only-of-type {\n        vertical-align: middle;\n    }\n\n    .dataframe tbody tr th {\n        vertical-align: top;\n    }\n\n    .dataframe thead th {\n        text-align: right;\n    }\n</style>\n<table border=\"1\" class=\"dataframe\">\n  <thead>\n    <tr style=\"text-align: right;\">\n      <th></th>\n      <th>song_id</th>\n      <th>song_name</th>\n      <th>id_artists</th>\n      <th>name_artists</th>\n      <th>popularity</th>\n      <th>explicit</th>\n      <th>song_type</th>\n      <th>track_number</th>\n      <th>num_artists</th>\n      <th>num_available_markets</th>\n      <th>...</th>\n      <th>danceability</th>\n      <th>energy</th>\n      <th>instrumentalness</th>\n      <th>liveness</th>\n      <th>loudness</th>\n      <th>speechiness</th>\n      <th>valence</th>\n      <th>tempo</th>\n      <th>hit</th>\n      <th>date</th>\n    </tr>\n  </thead>\n  <tbody>\n    <tr>\n      <th>804676</th>\n      <td>7kXUEJmfvRXbzxOC0pHQgb</td>\n      <td>I Can't Believe I'm Losing You</td>\n      <td>['6eVCRmRG2HcfL4yx77A9WK']</td>\n      <td>['Jack Jones']</td>\n      <td>5</td>\n      <td>False</td>\n      <td>Solo</td>\n      <td>12</td>\n      <td>1</td>\n      <td>79</td>\n      <td>...</td>\n      <td>0.180</td>\n      <td>0.369</td>\n      <td>0.000000</td>\n      <td>0.1500</td>\n      <td>-9.797</td>\n      <td>0.0299</td>\n      <td>0.224</td>\n      <td>81.701</td>\n      <td>0</td>\n      <td>1995-01-01</td>\n    </tr>\n    <tr>\n      <th>465447</th>\n      <td>1xdRFXv3ytSOdj8GuT3Rge</td>\n      <td>Thank You Lord (Interlude)</td>\n      <td>['5NDMothbpdpq2xHqSjrrWn']</td>\n      <td>['Faith Evans']</td>\n      <td>20</td>\n      <td>False</td>\n      <td>Solo</td>\n      <td>10</td>\n      <td>1</td>\n      <td>77</td>\n      <td>...</td>\n      <td>0.370</td>\n      <td>0.284</td>\n      <td>0.000000</td>\n      <td>0.5580</td>\n      <td>-14.443</td>\n      <td>0.0378</td>\n      <td>0.649</td>\n      <td>130.985</td>\n      <td>0</td>\n      <td>1995-01-01</td>\n    </tr>\n    <tr>\n      <th>465446</th>\n      <td>5wlQIBbKIWoB7AnSw09C6C</td>\n      <td>All This Love</td>\n      <td>['5NDMothbpdpq2xHqSjrrWn']</td>\n      <td>['Faith Evans']</td>\n      <td>26</td>\n      <td>False</td>\n      <td>Solo</td>\n      <td>9</td>\n      <td>1</td>\n      <td>77</td>\n      <td>...</td>\n      <td>0.605</td>\n      <td>0.604</td>\n      <td>0.000153</td>\n      <td>0.0693</td>\n      <td>-9.214</td>\n      <td>0.0480</td>\n      <td>0.503</td>\n      <td>145.483</td>\n      <td>0</td>\n      <td>1995-01-01</td>\n    </tr>\n    <tr>\n      <th>377956</th>\n      <td>40uHAEjua1YmyKIJ6k0iVa</td>\n      <td>Bo Bo Wa</td>\n      <td>['3z6Uf5IZkN4TogRpRpgD84']</td>\n      <td>['Gary Wright']</td>\n      <td>0</td>\n      <td>False</td>\n      <td>Solo</td>\n      <td>8</td>\n      <td>1</td>\n      <td>79</td>\n      <td>...</td>\n      <td>0.481</td>\n      <td>0.652</td>\n      <td>0.008670</td>\n      <td>0.0397</td>\n      <td>-10.981</td>\n      <td>0.0364</td>\n      <td>0.795</td>\n      <td>195.791</td>\n      <td>0</td>\n      <td>1995-01-01</td>\n    </tr>\n    <tr>\n      <th>465445</th>\n      <td>2zmMWWgwCXYarkO2SbyPZP</td>\n      <td>Come Over</td>\n      <td>['5NDMothbpdpq2xHqSjrrWn']</td>\n      <td>['Faith Evans']</td>\n      <td>38</td>\n      <td>False</td>\n      <td>Solo</td>\n      <td>7</td>\n      <td>1</td>\n      <td>77</td>\n      <td>...</td>\n      <td>0.534</td>\n      <td>0.563</td>\n      <td>0.000001</td>\n      <td>0.5740</td>\n      <td>-8.975</td>\n      <td>0.0601</td>\n      <td>0.414</td>\n      <td>124.149</td>\n      <td>0</td>\n      <td>1995-01-01</td>\n    </tr>\n    <tr>\n      <th>...</th>\n      <td>...</td>\n      <td>...</td>\n      <td>...</td>\n      <td>...</td>\n      <td>...</td>\n      <td>...</td>\n      <td>...</td>\n      <td>...</td>\n      <td>...</td>\n      <td>...</td>\n      <td>...</td>\n      <td>...</td>\n      <td>...</td>\n      <td>...</td>\n      <td>...</td>\n      <td>...</td>\n      <td>...</td>\n      <td>...</td>\n      <td>...</td>\n      <td>...</td>\n      <td>...</td>\n    </tr>\n    <tr>\n      <th>11098</th>\n      <td>0xAqhyWvTkfcdFgm7dozMO</td>\n      <td>(I Wanna) Testify (Mono Single Version)</td>\n      <td>['1Ve5PoI7i5jIIP1xudo6AB']</td>\n      <td>['The Parliaments']</td>\n      <td>7</td>\n      <td>False</td>\n      <td>Solo</td>\n      <td>10</td>\n      <td>1</td>\n      <td>79</td>\n      <td>...</td>\n      <td>0.668</td>\n      <td>0.702</td>\n      <td>0.000000</td>\n      <td>0.0521</td>\n      <td>-5.750</td>\n      <td>0.0330</td>\n      <td>0.754</td>\n      <td>105.227</td>\n      <td>1</td>\n      <td>2019-08-23</td>\n    </tr>\n    <tr>\n      <th>10903</th>\n      <td>6zhg8TnVKi90ITDzFKwPr0</td>\n      <td>Swingtown - Alternate Version</td>\n      <td>['6QtGlUje9TIkLrgPZrESuk']</td>\n      <td>['Steve Miller Band']</td>\n      <td>26</td>\n      <td>False</td>\n      <td>Solo</td>\n      <td>5</td>\n      <td>1</td>\n      <td>79</td>\n      <td>...</td>\n      <td>0.459</td>\n      <td>0.764</td>\n      <td>0.000544</td>\n      <td>0.2440</td>\n      <td>-6.662</td>\n      <td>0.0354</td>\n      <td>0.439</td>\n      <td>124.557</td>\n      <td>1</td>\n      <td>2019-08-23</td>\n    </tr>\n    <tr>\n      <th>5856</th>\n      <td>2GvkFSjRXV0Ii3uYnHiQ74</td>\n      <td>Take My Advice</td>\n      <td>['40PLSl99xXqAQsCQQPmfyM']</td>\n      <td>['Kym Sims']</td>\n      <td>0</td>\n      <td>False</td>\n      <td>Solo</td>\n      <td>10</td>\n      <td>1</td>\n      <td>73</td>\n      <td>...</td>\n      <td>0.737</td>\n      <td>0.814</td>\n      <td>0.392000</td>\n      <td>0.0844</td>\n      <td>-10.396</td>\n      <td>0.0307</td>\n      <td>0.803</td>\n      <td>120.010</td>\n      <td>1</td>\n      <td>2019-08-23</td>\n    </tr>\n    <tr>\n      <th>5080</th>\n      <td>0lej8CemYKkWVHg77Xe1ky</td>\n      <td>A Man Holdin' on (To a Woman Lettin’ Go)</td>\n      <td>['1Fj0R2t4HaJa3oUe8azB8R', '5LDnSV99gbDSsMX3Dc...</td>\n      <td>['Ty Herndon', 'Anita Cochran']</td>\n      <td>14</td>\n      <td>False</td>\n      <td>Collaboration</td>\n      <td>7</td>\n      <td>2</td>\n      <td>79</td>\n      <td>...</td>\n      <td>0.611</td>\n      <td>0.429</td>\n      <td>0.000014</td>\n      <td>0.1120</td>\n      <td>-8.619</td>\n      <td>0.0298</td>\n      <td>0.237</td>\n      <td>128.007</td>\n      <td>1</td>\n      <td>2019-08-23</td>\n    </tr>\n    <tr>\n      <th>10666</th>\n      <td>6Fh2QgjCxL96dA3Gtpfr4Q</td>\n      <td>One Sweet Day (16-Bit Mariah Carey &amp; Boyz II M...</td>\n      <td>['1v4YnufenjE9BLAfP90qvt']</td>\n      <td>['Arcade Player']</td>\n      <td>0</td>\n      <td>False</td>\n      <td>Solo</td>\n      <td>27</td>\n      <td>1</td>\n      <td>79</td>\n      <td>...</td>\n      <td>0.395</td>\n      <td>0.405</td>\n      <td>0.745000</td>\n      <td>0.1100</td>\n      <td>-5.559</td>\n      <td>0.0393</td>\n      <td>0.313</td>\n      <td>194.933</td>\n      <td>1</td>\n      <td>2019-08-26</td>\n    </tr>\n  </tbody>\n</table>\n<p>911027 rows × 26 columns</p>\n</div>"
     },
     "execution_count": 8,
     "metadata": {},
     "output_type": "execute_result"
    }
   ],
   "source": [
    "combined_df"
   ],
   "metadata": {
    "collapsed": false,
    "ExecuteTime": {
     "end_time": "2024-05-07T10:59:08.790888200Z",
     "start_time": "2024-05-07T10:59:08.362841900Z"
    }
   },
   "id": "9e4154b39a1657b1"
  },
  {
   "cell_type": "code",
   "execution_count": 9,
   "outputs": [
    {
     "name": "stdout",
     "output_type": "stream",
     "text": [
      "amount of artists: 24067\n"
     ]
    },
    {
     "data": {
      "text/plain": "                    artist_id      artist_name\n0      6eVCRmRG2HcfL4yx77A9WK       Jack Jones\n1      5NDMothbpdpq2xHqSjrrWn      Faith Evans\n2      3z6Uf5IZkN4TogRpRpgD84      Gary Wright\n3      2UuKUaomk3bZ0nHM3Y3FdW        Bud Shank\n4      6S0GHTqz5sxK5f9HtLXn9q          Garbage\n...                       ...              ...\n24062  2D7RkvtKKb6E5UmbjQM1Jd    Georges Bizet\n24063  5UvGRahK1OytDXGTzdf6hV  Humphrey Burton\n24064  0MIlVcFgL7pDFqaZRmYDeE            Weiss\n24065  2iG0HNCECG2DxXxSUcMhEX           Naxxos\n24066  2tg1rWk2rWaltTk0baRjRu           SAKIMA\n\n[24067 rows x 2 columns]",
      "text/html": "<div>\n<style scoped>\n    .dataframe tbody tr th:only-of-type {\n        vertical-align: middle;\n    }\n\n    .dataframe tbody tr th {\n        vertical-align: top;\n    }\n\n    .dataframe thead th {\n        text-align: right;\n    }\n</style>\n<table border=\"1\" class=\"dataframe\">\n  <thead>\n    <tr style=\"text-align: right;\">\n      <th></th>\n      <th>artist_id</th>\n      <th>artist_name</th>\n    </tr>\n  </thead>\n  <tbody>\n    <tr>\n      <th>0</th>\n      <td>6eVCRmRG2HcfL4yx77A9WK</td>\n      <td>Jack Jones</td>\n    </tr>\n    <tr>\n      <th>1</th>\n      <td>5NDMothbpdpq2xHqSjrrWn</td>\n      <td>Faith Evans</td>\n    </tr>\n    <tr>\n      <th>2</th>\n      <td>3z6Uf5IZkN4TogRpRpgD84</td>\n      <td>Gary Wright</td>\n    </tr>\n    <tr>\n      <th>3</th>\n      <td>2UuKUaomk3bZ0nHM3Y3FdW</td>\n      <td>Bud Shank</td>\n    </tr>\n    <tr>\n      <th>4</th>\n      <td>6S0GHTqz5sxK5f9HtLXn9q</td>\n      <td>Garbage</td>\n    </tr>\n    <tr>\n      <th>...</th>\n      <td>...</td>\n      <td>...</td>\n    </tr>\n    <tr>\n      <th>24062</th>\n      <td>2D7RkvtKKb6E5UmbjQM1Jd</td>\n      <td>Georges Bizet</td>\n    </tr>\n    <tr>\n      <th>24063</th>\n      <td>5UvGRahK1OytDXGTzdf6hV</td>\n      <td>Humphrey Burton</td>\n    </tr>\n    <tr>\n      <th>24064</th>\n      <td>0MIlVcFgL7pDFqaZRmYDeE</td>\n      <td>Weiss</td>\n    </tr>\n    <tr>\n      <th>24065</th>\n      <td>2iG0HNCECG2DxXxSUcMhEX</td>\n      <td>Naxxos</td>\n    </tr>\n    <tr>\n      <th>24066</th>\n      <td>2tg1rWk2rWaltTk0baRjRu</td>\n      <td>SAKIMA</td>\n    </tr>\n  </tbody>\n</table>\n<p>24067 rows × 2 columns</p>\n</div>"
     },
     "execution_count": 9,
     "metadata": {},
     "output_type": "execute_result"
    }
   ],
   "source": [
    "# Specify the columns\n",
    "columns = ['artist_id', 'artist_name']\n",
    "\n",
    "# Initialize an empty DataFrame\n",
    "df_artists_train = pd.DataFrame(columns={col: [] for col in columns})\n",
    "\n",
    "count = 0\n",
    "artist_set = set()\n",
    "\n",
    "for _, row in train_df.iterrows():\n",
    "    current_artist_id_list = eval(row[\"id_artists\"])\n",
    "    current_artist_name_list = eval(row[\"name_artists\"])\n",
    "    for cur_art_id, cur_art_name in zip(current_artist_id_list, current_artist_name_list):\n",
    "        if cur_art_id not in artist_set:\n",
    "            artist_set.add(cur_art_id)\n",
    "            df_artists_train.loc[len(df_artists_train)] = [cur_art_id, cur_art_name]\n",
    "            count += 1\n",
    "\n",
    "print(\"amount of artists:\", count)\n",
    "df_artists_train"
   ],
   "metadata": {
    "collapsed": false,
    "ExecuteTime": {
     "end_time": "2024-05-07T11:00:29.658406900Z",
     "start_time": "2024-05-07T10:59:08.794890500Z"
    }
   },
   "id": "4e89192b5a6cf7c4"
  },
  {
   "cell_type": "code",
   "execution_count": 10,
   "outputs": [],
   "source": [
    "import networkx as nx\n",
    "\n",
    "all_artist_ids = artist_set.copy()\n",
    "\n",
    "G = nx.Graph()\n",
    "\n",
    "for id_art_cur in all_artist_ids:\n",
    "    artist_name = df_artists_train[(df_artists_train[\"artist_id\"] == id_art_cur)][\"artist_name\"]\n",
    "    artist_info = df_artists_train[df_artists_train[\"artist_id\"] == id_art_cur]\n",
    "    if not artist_info.empty:  # Check if artist info exists\n",
    "        # Filter out artists who are not successful\n",
    "        node_attrs = {\"name\": artist_name.iloc[0]}\n",
    "        G.add_node(id_art_cur, **node_attrs)\n",
    "    else:\n",
    "        print(\"Artist info not found for ID:\", id_art_cur)\n",
    "\n",
    "for _, row in train_df.iterrows():\n",
    "    artist_ids = list(eval(row[\"id_artists\"]))\n",
    "    artist_names = list(eval(row[\"name_artists\"]))\n",
    "    # Filter out songs that do not have more than one artist in their execution\n",
    "    if len(artist_ids) > 1:\n",
    "        for i in range(len(artist_ids)):\n",
    "            for j in range(i+1, len(artist_ids)):\n",
    "                artist_id_1 = str(artist_ids[i])\n",
    "                lable1 = str(artist_names[i])\n",
    "                artist_id_2 = str(artist_ids[j])\n",
    "                lable2 = str(artist_names[j])\n",
    "                # Check if the edge already exists\n",
    "                if G.has_edge(artist_id_1, artist_id_2):\n",
    "                    # If the edge already exists, increment the weight by 1\n",
    "                    G[artist_id_1][artist_id_2]['weight'] += 2\n",
    "                else:\n",
    "                    # Add a new edge with weight 1\n",
    "                    G.add_edge(artist_id_1, artist_id_2, lable1=lable1, lable2=lable2, weight=2, song_id=str(row[\"song_id\"]), song_name=str(row[\"song_name\"]), explicit=bool(row[\"explicit\"]), song_type=str(row[\"song_type\"]), track_number=int(row[\"track_number\"]), num_artists=int(row[\"num_artists\"]), num_available_markets=int(row[\"num_available_markets\"]), duration_ms=int(row[\"duration_ms\"]), popularity=int(row[\"popularity\"]), release_date=str(row[\"release_date\"]), key = int(row[\"key\"]), mode = int(row[\"mode\"]), time_signature = int(row[\"time_signature\"]), acousticness = float(row[\"acousticness\"]), danceability = float(row[\"danceability\"]), energy = float(row[\"energy\"]), instrumentalness = float(row[\"instrumentalness\"]), liveness = float(row[\"liveness\"]),loudness = float(row[\"loudness\"]), speechiness = float(row[\"speechiness\"]), valence = float(row[\"valence\"]), tempo = float(row[\"tempo\"]))"
   ],
   "metadata": {
    "collapsed": false,
    "ExecuteTime": {
     "end_time": "2024-05-07T11:02:53.798453400Z",
     "start_time": "2024-05-07T11:00:29.655408700Z"
    }
   },
   "id": "13bb7f1a4a4876a5"
  },
  {
   "cell_type": "code",
   "execution_count": 11,
   "outputs": [
    {
     "data": {
      "text/plain": "                                          name              Spotify ID\n0      The Kenny Clarke-Francy Boland Big Band  7C6sfpvSQJ9V0i4hDW9ciO\n1                                  Mark Josher  4u1PPGrzg0ZG9GO69BAR8Q\n2                                 Tim Janssens  1ysOGN05BRRIId5fOZ92y1\n3                                   El DeBarge  5xO4f5QyPMYnCPRyRveBSD\n4                        Jeanne & The Darlings  6qJgLKcdcL8zxzfsWRylRk\n...                                        ...                     ...\n24062                     Sångensemblen Amanda  6lLjsatj15QODusCJkLR7v\n24063                              Dirty Deeds  4dHsqFrT3KLR7LhyboGTDN\n24064                    Tisha Campbell Martin  6mx0D9tlGW7OCTlrgDKaxs\n24065                            Hannah Elless  7q4Ulw0Vfty0d8g8WoNL7A\n24066                               Tony Carey  4urvwbid7NFoVes5PTx9lV\n\n[24067 rows x 2 columns]",
      "text/html": "<div>\n<style scoped>\n    .dataframe tbody tr th:only-of-type {\n        vertical-align: middle;\n    }\n\n    .dataframe tbody tr th {\n        vertical-align: top;\n    }\n\n    .dataframe thead th {\n        text-align: right;\n    }\n</style>\n<table border=\"1\" class=\"dataframe\">\n  <thead>\n    <tr style=\"text-align: right;\">\n      <th></th>\n      <th>name</th>\n      <th>Spotify ID</th>\n    </tr>\n  </thead>\n  <tbody>\n    <tr>\n      <th>0</th>\n      <td>The Kenny Clarke-Francy Boland Big Band</td>\n      <td>7C6sfpvSQJ9V0i4hDW9ciO</td>\n    </tr>\n    <tr>\n      <th>1</th>\n      <td>Mark Josher</td>\n      <td>4u1PPGrzg0ZG9GO69BAR8Q</td>\n    </tr>\n    <tr>\n      <th>2</th>\n      <td>Tim Janssens</td>\n      <td>1ysOGN05BRRIId5fOZ92y1</td>\n    </tr>\n    <tr>\n      <th>3</th>\n      <td>El DeBarge</td>\n      <td>5xO4f5QyPMYnCPRyRveBSD</td>\n    </tr>\n    <tr>\n      <th>4</th>\n      <td>Jeanne &amp; The Darlings</td>\n      <td>6qJgLKcdcL8zxzfsWRylRk</td>\n    </tr>\n    <tr>\n      <th>...</th>\n      <td>...</td>\n      <td>...</td>\n    </tr>\n    <tr>\n      <th>24062</th>\n      <td>Sångensemblen Amanda</td>\n      <td>6lLjsatj15QODusCJkLR7v</td>\n    </tr>\n    <tr>\n      <th>24063</th>\n      <td>Dirty Deeds</td>\n      <td>4dHsqFrT3KLR7LhyboGTDN</td>\n    </tr>\n    <tr>\n      <th>24064</th>\n      <td>Tisha Campbell Martin</td>\n      <td>6mx0D9tlGW7OCTlrgDKaxs</td>\n    </tr>\n    <tr>\n      <th>24065</th>\n      <td>Hannah Elless</td>\n      <td>7q4Ulw0Vfty0d8g8WoNL7A</td>\n    </tr>\n    <tr>\n      <th>24066</th>\n      <td>Tony Carey</td>\n      <td>4urvwbid7NFoVes5PTx9lV</td>\n    </tr>\n  </tbody>\n</table>\n<p>24067 rows × 2 columns</p>\n</div>"
     },
     "execution_count": 11,
     "metadata": {},
     "output_type": "execute_result"
    }
   ],
   "source": [
    "# Assuming G is your NetworkX graph\n",
    "\n",
    "# Extract nodes and their attributes from the graph\n",
    "nodes_with_attributes = [(G.nodes[node], node) for node in G.nodes()]\n",
    "\n",
    "# Create a DataFrame from the nodes and their attributes\n",
    "df_nodes_train = pd.DataFrame(nodes_with_attributes, columns=['Attributes', \"Spotify ID\"])\n",
    "\n",
    "# Normalize the 'Attributes' column to expand it into separate columns\n",
    "df_attributes = pd.json_normalize(df_nodes_train['Attributes'])\n",
    "\n",
    "# Combine the original 'Node' column with the expanded attributes\n",
    "df_nodes_train = pd.concat([df_attributes, df_nodes_train['Spotify ID']], axis=1)\n",
    "\n",
    "# Display the DataFrame\n",
    "df_nodes_train"
   ],
   "metadata": {
    "collapsed": false,
    "ExecuteTime": {
     "end_time": "2024-05-07T11:02:53.891131300Z",
     "start_time": "2024-05-07T11:02:53.815453100Z"
    }
   },
   "id": "a02e5a328f587e87"
  },
  {
   "cell_type": "code",
   "execution_count": 12,
   "outputs": [],
   "source": [
    "df_nodes_train.to_csv(\"network_created/nodes_real_train.csv\", sep='\\t', index=False)"
   ],
   "metadata": {
    "collapsed": false,
    "ExecuteTime": {
     "end_time": "2024-05-07T11:02:53.982113Z",
     "start_time": "2024-05-07T11:02:53.893129200Z"
    }
   },
   "id": "affbd668a36e7e8a"
  },
  {
   "cell_type": "code",
   "execution_count": 13,
   "outputs": [
    {
     "data": {
      "text/plain": "                       Source                  Target  \\\n0      7C6sfpvSQJ9V0i4hDW9ciO  0FMucZsEnCxs5pqBjHjIc8   \n1      4u1PPGrzg0ZG9GO69BAR8Q  3DmG65yHQsMms7WAvrZOdt   \n2      1ysOGN05BRRIId5fOZ92y1  21E3waRsmPlU7jZsS13rcj   \n3      5xO4f5QyPMYnCPRyRveBSD  7AjokpCIqf0gHMZJlodw2k   \n4      5xO4f5QyPMYnCPRyRveBSD  3q7HBObVc0L8jNeTe5Gofh   \n...                       ...                     ...   \n25100  4isewEHTP7Az2QheDdBQ6J  3wyVrVrFCkukjdVIdirGVY   \n25101  4yiQZ8tQPux8cPriYMWUFP  5a2EaR3hamoenG9rDuVn8j   \n25102  5a2EaR3hamoenG9rDuVn8j  6ueGR6SWhUJfvEhqkvMsVs   \n25103  7wU2WGCJ8HxkekHHE2QLul  0TnOYISbd1XYRBk9myaseg   \n25104  1DQB6eOgTQ8NogvA5C3xYM  0MlOPi3zIDMVrfA9R04Fe3   \n\n                                        lable1        lable2  weight  \\\n0      The Kenny Clarke-Francy Boland Big Band     Stan Getz       2   \n1                                       Enigma   Mark Josher       2   \n2                                        Ne-Yo  Tim Janssens       4   \n3                                    Suga Free    El DeBarge       2   \n4                                   El DeBarge       50 Cent       4   \n...                                        ...           ...     ...   \n25100                                    24hrs      Lil Pump       2   \n25101                                   Prince  Gwen Stefani       4   \n25102                            Janelle Monáe        Prince       2   \n25103                                  Pitbull         Fuego       2   \n25104                         American Authors   Steve Reece       2   \n\n                      song_id                                song_name  \\\n0      7pKhgISg15Gu6fvtXQk9Xd                                Symptones   \n1      2JemWSF5aQOlH52TK5MrOc                          The Die Is Cast   \n2      0LQIiWL5eDKHn2OLNe3ivE         Because Of You - Sunfreakz Remix   \n3      0oWJiWYnKrq4fHUZAuZmDq                                On My Way   \n4      42FKMEfHg9NRNQpg9iFw1t                                   Format   \n...                       ...                                      ...   \n25100  1gUJxDCuVx3DFlADiZl4ry            Lie Detector (feat. Lil Pump)   \n25101  3CJEtUMAzh9B54rSvuiK5d  So Far, So Pleased (feat. Gwen Stefani)   \n25102  1S2fiTIYw8cy2lH3JBXN64   Givin Em What They Love (feat. Prince)   \n25103  406DbQLmjelaICKQhJ4BFM                                Mami Mami   \n25104  3va6aO5lBXJppO4pwGVWv4           Deep Water - Steve Reece Remix   \n\n       explicit      song_type  track_number  ...  time_signature  \\\n0         False  Collaboration             9  ...               4   \n1         False  Collaboration             4  ...               4   \n2         False  Collaboration             4  ...               4   \n3          True  Collaboration            10  ...               4   \n4         False  Collaboration             4  ...               4   \n...         ...            ...           ...  ...             ...   \n25100      True  Collaboration             1  ...               4   \n25101     False  Collaboration             6  ...               4   \n25102     False  Collaboration             2  ...               4   \n25103     False  Collaboration             6  ...               4   \n25104     False  Collaboration             1  ...               4   \n\n       acousticness  danceability  energy instrumentalness  liveness  \\\n0           0.70400         0.374   0.336          0.04280     0.176   \n1           0.01140         0.247   0.486          0.11700     0.252   \n2           0.00278         0.711   0.864          0.00811     0.670   \n3           0.03970         0.533   0.706          0.00000     0.140   \n4           0.05410         0.605   0.769          0.00000     0.356   \n...             ...           ...     ...              ...       ...   \n25100       0.29800         0.841   0.829          0.00000     0.196   \n25101       0.00810         0.668   0.827          0.01510     0.179   \n25102       0.04140         0.640   0.600          0.01470     0.468   \n25103       0.05560         0.722   0.756          0.00000     0.163   \n25104       0.08120         0.680   0.822          0.00000     0.110   \n\n       loudness  speechiness  valence    tempo  \n0       -12.895       0.0315   0.3120  101.082  \n1       -12.656       0.0412   0.0672  104.036  \n2        -3.835       0.0451   0.8060  126.004  \n3        -7.368       0.3790   0.6690   86.158  \n4        -4.435       0.2610   0.3950   95.558  \n...         ...          ...      ...      ...  \n25100    -3.290       0.0637   0.8190   77.518  \n25101    -4.380       0.0746   0.5420  123.001  \n25102    -7.719       0.0492   0.4830  144.026  \n25103    -5.592       0.0725   0.5460   89.969  \n25104    -3.772       0.2650   0.5920  125.111  \n\n[25105 rows x 27 columns]",
      "text/html": "<div>\n<style scoped>\n    .dataframe tbody tr th:only-of-type {\n        vertical-align: middle;\n    }\n\n    .dataframe tbody tr th {\n        vertical-align: top;\n    }\n\n    .dataframe thead th {\n        text-align: right;\n    }\n</style>\n<table border=\"1\" class=\"dataframe\">\n  <thead>\n    <tr style=\"text-align: right;\">\n      <th></th>\n      <th>Source</th>\n      <th>Target</th>\n      <th>lable1</th>\n      <th>lable2</th>\n      <th>weight</th>\n      <th>song_id</th>\n      <th>song_name</th>\n      <th>explicit</th>\n      <th>song_type</th>\n      <th>track_number</th>\n      <th>...</th>\n      <th>time_signature</th>\n      <th>acousticness</th>\n      <th>danceability</th>\n      <th>energy</th>\n      <th>instrumentalness</th>\n      <th>liveness</th>\n      <th>loudness</th>\n      <th>speechiness</th>\n      <th>valence</th>\n      <th>tempo</th>\n    </tr>\n  </thead>\n  <tbody>\n    <tr>\n      <th>0</th>\n      <td>7C6sfpvSQJ9V0i4hDW9ciO</td>\n      <td>0FMucZsEnCxs5pqBjHjIc8</td>\n      <td>The Kenny Clarke-Francy Boland Big Band</td>\n      <td>Stan Getz</td>\n      <td>2</td>\n      <td>7pKhgISg15Gu6fvtXQk9Xd</td>\n      <td>Symptones</td>\n      <td>False</td>\n      <td>Collaboration</td>\n      <td>9</td>\n      <td>...</td>\n      <td>4</td>\n      <td>0.70400</td>\n      <td>0.374</td>\n      <td>0.336</td>\n      <td>0.04280</td>\n      <td>0.176</td>\n      <td>-12.895</td>\n      <td>0.0315</td>\n      <td>0.3120</td>\n      <td>101.082</td>\n    </tr>\n    <tr>\n      <th>1</th>\n      <td>4u1PPGrzg0ZG9GO69BAR8Q</td>\n      <td>3DmG65yHQsMms7WAvrZOdt</td>\n      <td>Enigma</td>\n      <td>Mark Josher</td>\n      <td>2</td>\n      <td>2JemWSF5aQOlH52TK5MrOc</td>\n      <td>The Die Is Cast</td>\n      <td>False</td>\n      <td>Collaboration</td>\n      <td>4</td>\n      <td>...</td>\n      <td>4</td>\n      <td>0.01140</td>\n      <td>0.247</td>\n      <td>0.486</td>\n      <td>0.11700</td>\n      <td>0.252</td>\n      <td>-12.656</td>\n      <td>0.0412</td>\n      <td>0.0672</td>\n      <td>104.036</td>\n    </tr>\n    <tr>\n      <th>2</th>\n      <td>1ysOGN05BRRIId5fOZ92y1</td>\n      <td>21E3waRsmPlU7jZsS13rcj</td>\n      <td>Ne-Yo</td>\n      <td>Tim Janssens</td>\n      <td>4</td>\n      <td>0LQIiWL5eDKHn2OLNe3ivE</td>\n      <td>Because Of You - Sunfreakz Remix</td>\n      <td>False</td>\n      <td>Collaboration</td>\n      <td>4</td>\n      <td>...</td>\n      <td>4</td>\n      <td>0.00278</td>\n      <td>0.711</td>\n      <td>0.864</td>\n      <td>0.00811</td>\n      <td>0.670</td>\n      <td>-3.835</td>\n      <td>0.0451</td>\n      <td>0.8060</td>\n      <td>126.004</td>\n    </tr>\n    <tr>\n      <th>3</th>\n      <td>5xO4f5QyPMYnCPRyRveBSD</td>\n      <td>7AjokpCIqf0gHMZJlodw2k</td>\n      <td>Suga Free</td>\n      <td>El DeBarge</td>\n      <td>2</td>\n      <td>0oWJiWYnKrq4fHUZAuZmDq</td>\n      <td>On My Way</td>\n      <td>True</td>\n      <td>Collaboration</td>\n      <td>10</td>\n      <td>...</td>\n      <td>4</td>\n      <td>0.03970</td>\n      <td>0.533</td>\n      <td>0.706</td>\n      <td>0.00000</td>\n      <td>0.140</td>\n      <td>-7.368</td>\n      <td>0.3790</td>\n      <td>0.6690</td>\n      <td>86.158</td>\n    </tr>\n    <tr>\n      <th>4</th>\n      <td>5xO4f5QyPMYnCPRyRveBSD</td>\n      <td>3q7HBObVc0L8jNeTe5Gofh</td>\n      <td>El DeBarge</td>\n      <td>50 Cent</td>\n      <td>4</td>\n      <td>42FKMEfHg9NRNQpg9iFw1t</td>\n      <td>Format</td>\n      <td>False</td>\n      <td>Collaboration</td>\n      <td>4</td>\n      <td>...</td>\n      <td>4</td>\n      <td>0.05410</td>\n      <td>0.605</td>\n      <td>0.769</td>\n      <td>0.00000</td>\n      <td>0.356</td>\n      <td>-4.435</td>\n      <td>0.2610</td>\n      <td>0.3950</td>\n      <td>95.558</td>\n    </tr>\n    <tr>\n      <th>...</th>\n      <td>...</td>\n      <td>...</td>\n      <td>...</td>\n      <td>...</td>\n      <td>...</td>\n      <td>...</td>\n      <td>...</td>\n      <td>...</td>\n      <td>...</td>\n      <td>...</td>\n      <td>...</td>\n      <td>...</td>\n      <td>...</td>\n      <td>...</td>\n      <td>...</td>\n      <td>...</td>\n      <td>...</td>\n      <td>...</td>\n      <td>...</td>\n      <td>...</td>\n      <td>...</td>\n    </tr>\n    <tr>\n      <th>25100</th>\n      <td>4isewEHTP7Az2QheDdBQ6J</td>\n      <td>3wyVrVrFCkukjdVIdirGVY</td>\n      <td>24hrs</td>\n      <td>Lil Pump</td>\n      <td>2</td>\n      <td>1gUJxDCuVx3DFlADiZl4ry</td>\n      <td>Lie Detector (feat. Lil Pump)</td>\n      <td>True</td>\n      <td>Collaboration</td>\n      <td>1</td>\n      <td>...</td>\n      <td>4</td>\n      <td>0.29800</td>\n      <td>0.841</td>\n      <td>0.829</td>\n      <td>0.00000</td>\n      <td>0.196</td>\n      <td>-3.290</td>\n      <td>0.0637</td>\n      <td>0.8190</td>\n      <td>77.518</td>\n    </tr>\n    <tr>\n      <th>25101</th>\n      <td>4yiQZ8tQPux8cPriYMWUFP</td>\n      <td>5a2EaR3hamoenG9rDuVn8j</td>\n      <td>Prince</td>\n      <td>Gwen Stefani</td>\n      <td>4</td>\n      <td>3CJEtUMAzh9B54rSvuiK5d</td>\n      <td>So Far, So Pleased (feat. Gwen Stefani)</td>\n      <td>False</td>\n      <td>Collaboration</td>\n      <td>6</td>\n      <td>...</td>\n      <td>4</td>\n      <td>0.00810</td>\n      <td>0.668</td>\n      <td>0.827</td>\n      <td>0.01510</td>\n      <td>0.179</td>\n      <td>-4.380</td>\n      <td>0.0746</td>\n      <td>0.5420</td>\n      <td>123.001</td>\n    </tr>\n    <tr>\n      <th>25102</th>\n      <td>5a2EaR3hamoenG9rDuVn8j</td>\n      <td>6ueGR6SWhUJfvEhqkvMsVs</td>\n      <td>Janelle Monáe</td>\n      <td>Prince</td>\n      <td>2</td>\n      <td>1S2fiTIYw8cy2lH3JBXN64</td>\n      <td>Givin Em What They Love (feat. Prince)</td>\n      <td>False</td>\n      <td>Collaboration</td>\n      <td>2</td>\n      <td>...</td>\n      <td>4</td>\n      <td>0.04140</td>\n      <td>0.640</td>\n      <td>0.600</td>\n      <td>0.01470</td>\n      <td>0.468</td>\n      <td>-7.719</td>\n      <td>0.0492</td>\n      <td>0.4830</td>\n      <td>144.026</td>\n    </tr>\n    <tr>\n      <th>25103</th>\n      <td>7wU2WGCJ8HxkekHHE2QLul</td>\n      <td>0TnOYISbd1XYRBk9myaseg</td>\n      <td>Pitbull</td>\n      <td>Fuego</td>\n      <td>2</td>\n      <td>406DbQLmjelaICKQhJ4BFM</td>\n      <td>Mami Mami</td>\n      <td>False</td>\n      <td>Collaboration</td>\n      <td>6</td>\n      <td>...</td>\n      <td>4</td>\n      <td>0.05560</td>\n      <td>0.722</td>\n      <td>0.756</td>\n      <td>0.00000</td>\n      <td>0.163</td>\n      <td>-5.592</td>\n      <td>0.0725</td>\n      <td>0.5460</td>\n      <td>89.969</td>\n    </tr>\n    <tr>\n      <th>25104</th>\n      <td>1DQB6eOgTQ8NogvA5C3xYM</td>\n      <td>0MlOPi3zIDMVrfA9R04Fe3</td>\n      <td>American Authors</td>\n      <td>Steve Reece</td>\n      <td>2</td>\n      <td>3va6aO5lBXJppO4pwGVWv4</td>\n      <td>Deep Water - Steve Reece Remix</td>\n      <td>False</td>\n      <td>Collaboration</td>\n      <td>1</td>\n      <td>...</td>\n      <td>4</td>\n      <td>0.08120</td>\n      <td>0.680</td>\n      <td>0.822</td>\n      <td>0.00000</td>\n      <td>0.110</td>\n      <td>-3.772</td>\n      <td>0.2650</td>\n      <td>0.5920</td>\n      <td>125.111</td>\n    </tr>\n  </tbody>\n</table>\n<p>25105 rows × 27 columns</p>\n</div>"
     },
     "execution_count": 13,
     "metadata": {},
     "output_type": "execute_result"
    }
   ],
   "source": [
    "# Extract edges and their attributes from the graph\n",
    "edges_with_attributes = [(u, v, G.edges[u, v]) for u, v in G.edges()]\n",
    "\n",
    "# Create a DataFrame from the edges and their attributes\n",
    "df_edges_train = pd.DataFrame(edges_with_attributes, columns=['Source', 'Target', 'Attributes'])\n",
    "\n",
    "# Normalize the 'Attributes' column to expand it into separate columns\n",
    "df_edge_attributes = pd.json_normalize(df_edges_train['Attributes'])\n",
    "\n",
    "# Combine the original 'Attributes' column with the expanded attributes\n",
    "df_edges_train = pd.concat([df_edges_train[['Source', 'Target']], df_edge_attributes], axis=1)\n",
    "df_edges_train"
   ],
   "metadata": {
    "collapsed": false,
    "ExecuteTime": {
     "end_time": "2024-05-07T11:02:54.408113900Z",
     "start_time": "2024-05-07T11:02:53.967114900Z"
    }
   },
   "id": "b94ca6391b6c88f8"
  },
  {
   "cell_type": "code",
   "execution_count": 14,
   "outputs": [],
   "source": [
    "# Save edge DataFrame to CSV\n",
    "df_edges_train.to_csv('network_created/edges_real_train.csv', sep='\\t', index=False)"
   ],
   "metadata": {
    "collapsed": false,
    "ExecuteTime": {
     "end_time": "2024-05-07T11:02:54.683867400Z",
     "start_time": "2024-05-07T11:02:54.410115300Z"
    }
   },
   "id": "8cf334b81ab892a9"
  },
  {
   "cell_type": "code",
   "execution_count": 15,
   "outputs": [
    {
     "name": "stdout",
     "output_type": "stream",
     "text": [
      "Number of nodes: 24067\n",
      "Number of edges: 25105\n"
     ]
    }
   ],
   "source": [
    "num_nodes = G.number_of_nodes()\n",
    "num_edges = G.number_of_edges()\n",
    "print(\"Number of nodes:\", num_nodes)\n",
    "print(\"Number of edges:\", num_edges)\n"
   ],
   "metadata": {
    "collapsed": false,
    "ExecuteTime": {
     "end_time": "2024-05-07T11:02:54.742618400Z",
     "start_time": "2024-05-07T11:02:54.696868900Z"
    }
   },
   "id": "ed2d73175e8f4ff7"
  },
  {
   "cell_type": "code",
   "execution_count": 16,
   "outputs": [
    {
     "name": "stdout",
     "output_type": "stream",
     "text": [
      "amount of artists: 5902\n"
     ]
    },
    {
     "data": {
      "text/plain": "                   artist_id          artist_name\n0     0KMJUP87x4ERfwSNYvkttw         Sandgrounder\n1     3OpJxAHfT0KsJzQqdX5SLb         Ginger Tunes\n2     6BkcAbUkfIBM4XudxieMq8            Dr. Alban\n3     2iAAXHZCgL2E1zqj204GEh         Jacci McGhee\n4     21VBNkZvKxrI9zmfFRxXvn         8-Bit Arcade\n...                      ...                  ...\n5897  3Y9xnCbmXGhmpJymwpnxCz  Crispian St. Peters\n5898  5NDMothbpdpq2xHqSjrrWn          Faith Evans\n5899  1Ve5PoI7i5jIIP1xudo6AB      The Parliaments\n5900  40PLSl99xXqAQsCQQPmfyM             Kym Sims\n5901  5LDnSV99gbDSsMX3Dcer2b        Anita Cochran\n\n[5902 rows x 2 columns]",
      "text/html": "<div>\n<style scoped>\n    .dataframe tbody tr th:only-of-type {\n        vertical-align: middle;\n    }\n\n    .dataframe tbody tr th {\n        vertical-align: top;\n    }\n\n    .dataframe thead th {\n        text-align: right;\n    }\n</style>\n<table border=\"1\" class=\"dataframe\">\n  <thead>\n    <tr style=\"text-align: right;\">\n      <th></th>\n      <th>artist_id</th>\n      <th>artist_name</th>\n    </tr>\n  </thead>\n  <tbody>\n    <tr>\n      <th>0</th>\n      <td>0KMJUP87x4ERfwSNYvkttw</td>\n      <td>Sandgrounder</td>\n    </tr>\n    <tr>\n      <th>1</th>\n      <td>3OpJxAHfT0KsJzQqdX5SLb</td>\n      <td>Ginger Tunes</td>\n    </tr>\n    <tr>\n      <th>2</th>\n      <td>6BkcAbUkfIBM4XudxieMq8</td>\n      <td>Dr. Alban</td>\n    </tr>\n    <tr>\n      <th>3</th>\n      <td>2iAAXHZCgL2E1zqj204GEh</td>\n      <td>Jacci McGhee</td>\n    </tr>\n    <tr>\n      <th>4</th>\n      <td>21VBNkZvKxrI9zmfFRxXvn</td>\n      <td>8-Bit Arcade</td>\n    </tr>\n    <tr>\n      <th>...</th>\n      <td>...</td>\n      <td>...</td>\n    </tr>\n    <tr>\n      <th>5897</th>\n      <td>3Y9xnCbmXGhmpJymwpnxCz</td>\n      <td>Crispian St. Peters</td>\n    </tr>\n    <tr>\n      <th>5898</th>\n      <td>5NDMothbpdpq2xHqSjrrWn</td>\n      <td>Faith Evans</td>\n    </tr>\n    <tr>\n      <th>5899</th>\n      <td>1Ve5PoI7i5jIIP1xudo6AB</td>\n      <td>The Parliaments</td>\n    </tr>\n    <tr>\n      <th>5900</th>\n      <td>40PLSl99xXqAQsCQQPmfyM</td>\n      <td>Kym Sims</td>\n    </tr>\n    <tr>\n      <th>5901</th>\n      <td>5LDnSV99gbDSsMX3Dcer2b</td>\n      <td>Anita Cochran</td>\n    </tr>\n  </tbody>\n</table>\n<p>5902 rows × 2 columns</p>\n</div>"
     },
     "execution_count": 16,
     "metadata": {},
     "output_type": "execute_result"
    }
   ],
   "source": [
    "# Specify the columns\n",
    "columns = ['artist_id', 'artist_name']\n",
    "\n",
    "# Initialize an empty DataFrame\n",
    "df_artists_test = pd.DataFrame(columns={col: [] for col in columns})\n",
    "\n",
    "count = 0\n",
    "artist_set = set()\n",
    "\n",
    "for _, row in test_df.iterrows():\n",
    "    current_artist_id_list = eval(row[\"id_artists\"])\n",
    "    current_artist_name_list = eval(row[\"name_artists\"])\n",
    "    for cur_art_id, cur_art_name in zip(current_artist_id_list, current_artist_name_list):\n",
    "        if cur_art_id not in artist_set:\n",
    "            artist_set.add(cur_art_id)\n",
    "            df_artists_test.loc[len(df_artists_test)] = [cur_art_id, cur_art_name]\n",
    "            count += 1\n",
    "\n",
    "print(\"amount of artists:\", count)\n",
    "df_artists_test"
   ],
   "metadata": {
    "collapsed": false,
    "ExecuteTime": {
     "end_time": "2024-05-07T11:03:02.440041300Z",
     "start_time": "2024-05-07T11:02:54.735618300Z"
    }
   },
   "id": "debfdb478f00e0a8"
  },
  {
   "cell_type": "code",
   "execution_count": 17,
   "outputs": [],
   "source": [
    "import networkx as nx\n",
    "\n",
    "all_artist_ids = artist_set.copy()\n",
    "\n",
    "G2 = nx.Graph()\n",
    "\n",
    "for id_art_cur in all_artist_ids:\n",
    "    artist_name = df_artists_test[(df_artists_test[\"artist_id\"] == id_art_cur)][\"artist_name\"]\n",
    "    artist_info = df_artists_test[df_artists_test[\"artist_id\"] == id_art_cur]\n",
    "    if not artist_info.empty:  # Check if artist info exists\n",
    "        # Filter out artists who are not successful\n",
    "        node_attrs = {\"name\": artist_name.iloc[0]}\n",
    "        G2.add_node(id_art_cur, **node_attrs)\n",
    "    else:\n",
    "        print(\"Artist info not found for ID:\", id_art_cur)\n",
    "\n",
    "for _, row in test_df.iterrows():\n",
    "    artist_ids = list(eval(row[\"id_artists\"]))\n",
    "    artist_names = list(eval(row[\"name_artists\"]))\n",
    "    # Filter out songs that do not have more than one artist in their execution\n",
    "    if len(artist_ids) > 1:\n",
    "        for i in range(len(artist_ids)):\n",
    "            for j in range(i+1, len(artist_ids)):\n",
    "                artist_id_1 = str(artist_ids[i])\n",
    "                lable1 = str(artist_names[i])\n",
    "                artist_id_2 = str(artist_ids[j])\n",
    "                lable2 = str(artist_names[j])\n",
    "                # Check if the edge already exists\n",
    "                if G2.has_edge(artist_id_1, artist_id_2):\n",
    "                    # If the edge already exists, increment the weight by 1\n",
    "                    G2[artist_id_1][artist_id_2]['weight'] += 2\n",
    "                else:\n",
    "                    # Add a new edge with weight 1\n",
    "                    G2.add_edge(artist_id_1, artist_id_2, lable1=lable1, lable2=lable2, weight=2, song_id=str(row[\"song_id\"]), song_name=str(row[\"song_name\"]), explicit=bool(row[\"explicit\"]), song_type=str(row[\"song_type\"]), track_number=int(row[\"track_number\"]), num_artists=int(row[\"num_artists\"]), num_available_markets=int(row[\"num_available_markets\"]), duration_ms=int(row[\"duration_ms\"]), popularity=int(row[\"popularity\"]), release_date=str(row[\"release_date\"]), key = int(row[\"key\"]), mode = int(row[\"mode\"]), time_signature = int(row[\"time_signature\"]), acousticness = float(row[\"acousticness\"]), danceability = float(row[\"danceability\"]), energy = float(row[\"energy\"]), instrumentalness = float(row[\"instrumentalness\"]), liveness = float(row[\"liveness\"]),loudness = float(row[\"loudness\"]), speechiness = float(row[\"speechiness\"]), valence = float(row[\"valence\"]), tempo = float(row[\"tempo\"]))"
   ],
   "metadata": {
    "collapsed": false,
    "ExecuteTime": {
     "end_time": "2024-05-07T11:03:12.048908600Z",
     "start_time": "2024-05-07T11:03:02.451042200Z"
    }
   },
   "id": "fe0fb448adf18ca8"
  },
  {
   "cell_type": "code",
   "execution_count": 18,
   "outputs": [
    {
     "data": {
      "text/plain": "                  name              Spotify ID\n0          Jacob Banks  0AepkoQhYvkjEzzwIcGxdV\n1            Lola Khan  6AgXlZ1FlOLAqeR8qfDfv9\n2          E.J. Carter  7m3eGk2DFIvZrUbgjaoWxC\n3       Sonny Landreth  7aHLYoLUMdcl0HiT5k0Brz\n4        George McCrae  6oV3BNm1Gj2GGgpYknc5TN\n...                ...                     ...\n5897        aboutagirl  1Rm8cDAHAL2mo9H7sUxohj\n5898      Tom Cochrane  5Jj4mqGYiplyowPLKkJLHt\n5899         Lil Advil  2AHPBn0FrIthLv3ijcnQkt\n5900  The Honey Sweets  4ZhGdJTksEoPOvjvkPUoj0\n5901        Tony Carey  4urvwbid7NFoVes5PTx9lV\n\n[5902 rows x 2 columns]",
      "text/html": "<div>\n<style scoped>\n    .dataframe tbody tr th:only-of-type {\n        vertical-align: middle;\n    }\n\n    .dataframe tbody tr th {\n        vertical-align: top;\n    }\n\n    .dataframe thead th {\n        text-align: right;\n    }\n</style>\n<table border=\"1\" class=\"dataframe\">\n  <thead>\n    <tr style=\"text-align: right;\">\n      <th></th>\n      <th>name</th>\n      <th>Spotify ID</th>\n    </tr>\n  </thead>\n  <tbody>\n    <tr>\n      <th>0</th>\n      <td>Jacob Banks</td>\n      <td>0AepkoQhYvkjEzzwIcGxdV</td>\n    </tr>\n    <tr>\n      <th>1</th>\n      <td>Lola Khan</td>\n      <td>6AgXlZ1FlOLAqeR8qfDfv9</td>\n    </tr>\n    <tr>\n      <th>2</th>\n      <td>E.J. Carter</td>\n      <td>7m3eGk2DFIvZrUbgjaoWxC</td>\n    </tr>\n    <tr>\n      <th>3</th>\n      <td>Sonny Landreth</td>\n      <td>7aHLYoLUMdcl0HiT5k0Brz</td>\n    </tr>\n    <tr>\n      <th>4</th>\n      <td>George McCrae</td>\n      <td>6oV3BNm1Gj2GGgpYknc5TN</td>\n    </tr>\n    <tr>\n      <th>...</th>\n      <td>...</td>\n      <td>...</td>\n    </tr>\n    <tr>\n      <th>5897</th>\n      <td>aboutagirl</td>\n      <td>1Rm8cDAHAL2mo9H7sUxohj</td>\n    </tr>\n    <tr>\n      <th>5898</th>\n      <td>Tom Cochrane</td>\n      <td>5Jj4mqGYiplyowPLKkJLHt</td>\n    </tr>\n    <tr>\n      <th>5899</th>\n      <td>Lil Advil</td>\n      <td>2AHPBn0FrIthLv3ijcnQkt</td>\n    </tr>\n    <tr>\n      <th>5900</th>\n      <td>The Honey Sweets</td>\n      <td>4ZhGdJTksEoPOvjvkPUoj0</td>\n    </tr>\n    <tr>\n      <th>5901</th>\n      <td>Tony Carey</td>\n      <td>4urvwbid7NFoVes5PTx9lV</td>\n    </tr>\n  </tbody>\n</table>\n<p>5902 rows × 2 columns</p>\n</div>"
     },
     "execution_count": 18,
     "metadata": {},
     "output_type": "execute_result"
    }
   ],
   "source": [
    "# Assuming G is your NetworkX graph\n",
    "\n",
    "# Extract nodes and their attributes from the graph\n",
    "nodes_with_attributes = [(G2.nodes[node], node) for node in G2.nodes()]\n",
    "\n",
    "# Create a DataFrame from the nodes and their attributes\n",
    "df_nodes_test = pd.DataFrame(nodes_with_attributes, columns=['Attributes', \"Spotify ID\"])\n",
    "\n",
    "# Normalize the 'Attributes' column to expand it into separate columns\n",
    "df_attributes = pd.json_normalize(df_nodes_test['Attributes'])\n",
    "\n",
    "# Combine the original 'Node' column with the expanded attributes\n",
    "df_nodes_test = pd.concat([df_attributes, df_nodes_test['Spotify ID']], axis=1)\n",
    "\n",
    "# Display the DataFrame\n",
    "df_nodes_test"
   ],
   "metadata": {
    "collapsed": false,
    "ExecuteTime": {
     "end_time": "2024-05-07T11:03:12.102906100Z",
     "start_time": "2024-05-07T11:03:12.075909500Z"
    }
   },
   "id": "4b5d80bd0f928513"
  },
  {
   "cell_type": "code",
   "execution_count": 19,
   "outputs": [],
   "source": [
    "df_nodes_test.to_csv(\"network_created/nodes_real_test.csv\", sep='\\t', index=False)"
   ],
   "metadata": {
    "collapsed": false,
    "ExecuteTime": {
     "end_time": "2024-05-07T11:03:12.139909600Z",
     "start_time": "2024-05-07T11:03:12.097908600Z"
    }
   },
   "id": "eeab99250e649d7a"
  },
  {
   "cell_type": "code",
   "execution_count": 20,
   "outputs": [
    {
     "data": {
      "text/plain": "                      Source                  Target               lable1  \\\n0     0AepkoQhYvkjEzzwIcGxdV  24eDfi2MSYo3A87hCcgpIL          Jacob Banks   \n1     0AepkoQhYvkjEzzwIcGxdV  3NPpFNZtSTHheNBaWC82rB        X Ambassadors   \n2     7m3eGk2DFIvZrUbgjaoWxC  4Q5sPmM8j4SpMqL4UA1DtS            Lil' Flip   \n3     7aHLYoLUMdcl0HiT5k0Brz  0JvNeHGFrPqynXe5EszItO  Peter Frampton Band   \n4     1v3tdpIdBSW14rHUfiEVOv  4BYxqVkZyFjtik7crYLg5Q          Chris Young   \n...                      ...                     ...                  ...   \n3647  5C4PDR4LnhZTbVnKWXuDKD  1d6dwipPrsFSJVmFTTdFSS        Paulina Rubio   \n3648  6i3IIZPo1XeS7X6pTHzSN0  0kEcxP5ezzvP5RcO51TCBD                Nitty   \n3649  4O15NlyKLIASxsJ0PrXPfz  3wyVrVrFCkukjdVIdirGVY             Lil Pump   \n3650  21451j1KhjAiaYKflxBjr1  1r4hJ1h58CWwUQe3MxPuau               Maluma   \n3651  6BXTl7YkINlCQkkzE9hvCd  6CwQfN34JdGHfo0A752Lts        David Morales   \n\n                lable2  weight                 song_id  \\\n0     Ludwig Goransson       2  0QTOw32h1G2LD8EFExxedV   \n1          Jacob Banks       2  57cAALfX35bWaURrtJnumR   \n2          E.J. Carter      34  650CojXnzXGLeaMRZJOQ6x   \n3       Sonny Landreth       2  04YHvDofQY0u2FjqrRCeYn   \n4        Lauren Alaina       2  5DrmJ25aHuPBImk1kLp5Of   \n...                ...     ...                     ...   \n3647             Morat       4  3p770TQzJS3rNUHlDGV54Q   \n3648      Layla DaVias       4  3PmOsURgHBUntgFx2OUU8m   \n3649      Lil Uzi Vert       6  7q8cy4uoA2itYATsKeXhcq   \n3650     Zion & Lennox       2  40kh4oBp5jEgdMN4WhvtCN   \n3651   Janice Robinson      18  3CGSHsLvl1vkfibEQQjqgv   \n\n                                            song_name  explicit  \\\n0                                   You Might Find Me     False   \n1                                          Baptize Me     False   \n2                                     Propane - Remix      True   \n3                                  The Thrill Is Gone     False   \n4                               Town Ain't Big Enough     False   \n...                                               ...       ...   \n3647                                   Mi Nuevo Vicio     False   \n3648                                           We Are     False   \n3649           Multi Millionaire (feat. Lil Uzi Vert)      True   \n3650               Extrañándote (feat. Zion & Lennox)     False   \n3651  Father - Quentin Harris Crimson Sector Drum Dub     False   \n\n          song_type  track_number  ...  time_signature  acousticness  \\\n0     Collaboration            11  ...               5       0.94000   \n1     Collaboration             5  ...               4       0.03230   \n2     Collaboration             2  ...               4       0.55800   \n3     Collaboration             7  ...               4       0.50100   \n4     Collaboration             1  ...               4       0.06380   \n...             ...           ...  ...             ...           ...   \n3647  Collaboration             5  ...               4       0.03510   \n3648  Collaboration             1  ...               4       0.00392   \n3649  Collaboration             1  ...               4       0.02260   \n3650  Collaboration             7  ...               4       0.04150   \n3651  Collaboration             5  ...               4       0.01130   \n\n      danceability  energy instrumentalness  liveness  loudness  speechiness  \\\n0            0.393  0.0118         0.012100    0.1060   -22.988       0.0500   \n1            0.562  0.5110         0.000244    0.2060    -7.960       0.0375   \n2            0.926  0.7960         0.000000    0.0742    -5.095       0.2460   \n3            0.396  0.6230         0.000479    0.3020    -7.390       0.0651   \n4            0.441  0.8260         0.001620    0.0944    -4.175       0.0400   \n...            ...     ...              ...       ...       ...          ...   \n3647         0.652  0.8950         0.000012    0.0570    -6.163       0.0307   \n3648         0.695  0.8000         0.000004    0.5380    -7.730       0.0716   \n3649         0.856  0.8200         0.000000    0.1680    -3.813       0.0962   \n3650         0.831  0.7620         0.000000    0.1290    -3.336       0.0792   \n3651         0.765  0.8610         0.879000    0.0892   -10.805       0.0597   \n\n      valence    tempo  \n0      0.0596  108.236  \n1      0.1340  135.009  \n2      0.7500  130.013  \n3      0.5250  177.395  \n4      0.5770   75.982  \n...       ...      ...  \n3647   0.8810  144.021  \n3648   0.4820   92.028  \n3649   0.7230  146.009  \n3650   0.5330   91.998  \n3651   0.4450  125.000  \n\n[3652 rows x 27 columns]",
      "text/html": "<div>\n<style scoped>\n    .dataframe tbody tr th:only-of-type {\n        vertical-align: middle;\n    }\n\n    .dataframe tbody tr th {\n        vertical-align: top;\n    }\n\n    .dataframe thead th {\n        text-align: right;\n    }\n</style>\n<table border=\"1\" class=\"dataframe\">\n  <thead>\n    <tr style=\"text-align: right;\">\n      <th></th>\n      <th>Source</th>\n      <th>Target</th>\n      <th>lable1</th>\n      <th>lable2</th>\n      <th>weight</th>\n      <th>song_id</th>\n      <th>song_name</th>\n      <th>explicit</th>\n      <th>song_type</th>\n      <th>track_number</th>\n      <th>...</th>\n      <th>time_signature</th>\n      <th>acousticness</th>\n      <th>danceability</th>\n      <th>energy</th>\n      <th>instrumentalness</th>\n      <th>liveness</th>\n      <th>loudness</th>\n      <th>speechiness</th>\n      <th>valence</th>\n      <th>tempo</th>\n    </tr>\n  </thead>\n  <tbody>\n    <tr>\n      <th>0</th>\n      <td>0AepkoQhYvkjEzzwIcGxdV</td>\n      <td>24eDfi2MSYo3A87hCcgpIL</td>\n      <td>Jacob Banks</td>\n      <td>Ludwig Goransson</td>\n      <td>2</td>\n      <td>0QTOw32h1G2LD8EFExxedV</td>\n      <td>You Might Find Me</td>\n      <td>False</td>\n      <td>Collaboration</td>\n      <td>11</td>\n      <td>...</td>\n      <td>5</td>\n      <td>0.94000</td>\n      <td>0.393</td>\n      <td>0.0118</td>\n      <td>0.012100</td>\n      <td>0.1060</td>\n      <td>-22.988</td>\n      <td>0.0500</td>\n      <td>0.0596</td>\n      <td>108.236</td>\n    </tr>\n    <tr>\n      <th>1</th>\n      <td>0AepkoQhYvkjEzzwIcGxdV</td>\n      <td>3NPpFNZtSTHheNBaWC82rB</td>\n      <td>X Ambassadors</td>\n      <td>Jacob Banks</td>\n      <td>2</td>\n      <td>57cAALfX35bWaURrtJnumR</td>\n      <td>Baptize Me</td>\n      <td>False</td>\n      <td>Collaboration</td>\n      <td>5</td>\n      <td>...</td>\n      <td>4</td>\n      <td>0.03230</td>\n      <td>0.562</td>\n      <td>0.5110</td>\n      <td>0.000244</td>\n      <td>0.2060</td>\n      <td>-7.960</td>\n      <td>0.0375</td>\n      <td>0.1340</td>\n      <td>135.009</td>\n    </tr>\n    <tr>\n      <th>2</th>\n      <td>7m3eGk2DFIvZrUbgjaoWxC</td>\n      <td>4Q5sPmM8j4SpMqL4UA1DtS</td>\n      <td>Lil' Flip</td>\n      <td>E.J. Carter</td>\n      <td>34</td>\n      <td>650CojXnzXGLeaMRZJOQ6x</td>\n      <td>Propane - Remix</td>\n      <td>True</td>\n      <td>Collaboration</td>\n      <td>2</td>\n      <td>...</td>\n      <td>4</td>\n      <td>0.55800</td>\n      <td>0.926</td>\n      <td>0.7960</td>\n      <td>0.000000</td>\n      <td>0.0742</td>\n      <td>-5.095</td>\n      <td>0.2460</td>\n      <td>0.7500</td>\n      <td>130.013</td>\n    </tr>\n    <tr>\n      <th>3</th>\n      <td>7aHLYoLUMdcl0HiT5k0Brz</td>\n      <td>0JvNeHGFrPqynXe5EszItO</td>\n      <td>Peter Frampton Band</td>\n      <td>Sonny Landreth</td>\n      <td>2</td>\n      <td>04YHvDofQY0u2FjqrRCeYn</td>\n      <td>The Thrill Is Gone</td>\n      <td>False</td>\n      <td>Collaboration</td>\n      <td>7</td>\n      <td>...</td>\n      <td>4</td>\n      <td>0.50100</td>\n      <td>0.396</td>\n      <td>0.6230</td>\n      <td>0.000479</td>\n      <td>0.3020</td>\n      <td>-7.390</td>\n      <td>0.0651</td>\n      <td>0.5250</td>\n      <td>177.395</td>\n    </tr>\n    <tr>\n      <th>4</th>\n      <td>1v3tdpIdBSW14rHUfiEVOv</td>\n      <td>4BYxqVkZyFjtik7crYLg5Q</td>\n      <td>Chris Young</td>\n      <td>Lauren Alaina</td>\n      <td>2</td>\n      <td>5DrmJ25aHuPBImk1kLp5Of</td>\n      <td>Town Ain't Big Enough</td>\n      <td>False</td>\n      <td>Collaboration</td>\n      <td>1</td>\n      <td>...</td>\n      <td>4</td>\n      <td>0.06380</td>\n      <td>0.441</td>\n      <td>0.8260</td>\n      <td>0.001620</td>\n      <td>0.0944</td>\n      <td>-4.175</td>\n      <td>0.0400</td>\n      <td>0.5770</td>\n      <td>75.982</td>\n    </tr>\n    <tr>\n      <th>...</th>\n      <td>...</td>\n      <td>...</td>\n      <td>...</td>\n      <td>...</td>\n      <td>...</td>\n      <td>...</td>\n      <td>...</td>\n      <td>...</td>\n      <td>...</td>\n      <td>...</td>\n      <td>...</td>\n      <td>...</td>\n      <td>...</td>\n      <td>...</td>\n      <td>...</td>\n      <td>...</td>\n      <td>...</td>\n      <td>...</td>\n      <td>...</td>\n      <td>...</td>\n      <td>...</td>\n    </tr>\n    <tr>\n      <th>3647</th>\n      <td>5C4PDR4LnhZTbVnKWXuDKD</td>\n      <td>1d6dwipPrsFSJVmFTTdFSS</td>\n      <td>Paulina Rubio</td>\n      <td>Morat</td>\n      <td>4</td>\n      <td>3p770TQzJS3rNUHlDGV54Q</td>\n      <td>Mi Nuevo Vicio</td>\n      <td>False</td>\n      <td>Collaboration</td>\n      <td>5</td>\n      <td>...</td>\n      <td>4</td>\n      <td>0.03510</td>\n      <td>0.652</td>\n      <td>0.8950</td>\n      <td>0.000012</td>\n      <td>0.0570</td>\n      <td>-6.163</td>\n      <td>0.0307</td>\n      <td>0.8810</td>\n      <td>144.021</td>\n    </tr>\n    <tr>\n      <th>3648</th>\n      <td>6i3IIZPo1XeS7X6pTHzSN0</td>\n      <td>0kEcxP5ezzvP5RcO51TCBD</td>\n      <td>Nitty</td>\n      <td>Layla DaVias</td>\n      <td>4</td>\n      <td>3PmOsURgHBUntgFx2OUU8m</td>\n      <td>We Are</td>\n      <td>False</td>\n      <td>Collaboration</td>\n      <td>1</td>\n      <td>...</td>\n      <td>4</td>\n      <td>0.00392</td>\n      <td>0.695</td>\n      <td>0.8000</td>\n      <td>0.000004</td>\n      <td>0.5380</td>\n      <td>-7.730</td>\n      <td>0.0716</td>\n      <td>0.4820</td>\n      <td>92.028</td>\n    </tr>\n    <tr>\n      <th>3649</th>\n      <td>4O15NlyKLIASxsJ0PrXPfz</td>\n      <td>3wyVrVrFCkukjdVIdirGVY</td>\n      <td>Lil Pump</td>\n      <td>Lil Uzi Vert</td>\n      <td>6</td>\n      <td>7q8cy4uoA2itYATsKeXhcq</td>\n      <td>Multi Millionaire (feat. Lil Uzi Vert)</td>\n      <td>True</td>\n      <td>Collaboration</td>\n      <td>1</td>\n      <td>...</td>\n      <td>4</td>\n      <td>0.02260</td>\n      <td>0.856</td>\n      <td>0.8200</td>\n      <td>0.000000</td>\n      <td>0.1680</td>\n      <td>-3.813</td>\n      <td>0.0962</td>\n      <td>0.7230</td>\n      <td>146.009</td>\n    </tr>\n    <tr>\n      <th>3650</th>\n      <td>21451j1KhjAiaYKflxBjr1</td>\n      <td>1r4hJ1h58CWwUQe3MxPuau</td>\n      <td>Maluma</td>\n      <td>Zion &amp; Lennox</td>\n      <td>2</td>\n      <td>40kh4oBp5jEgdMN4WhvtCN</td>\n      <td>Extrañándote (feat. Zion &amp; Lennox)</td>\n      <td>False</td>\n      <td>Collaboration</td>\n      <td>7</td>\n      <td>...</td>\n      <td>4</td>\n      <td>0.04150</td>\n      <td>0.831</td>\n      <td>0.7620</td>\n      <td>0.000000</td>\n      <td>0.1290</td>\n      <td>-3.336</td>\n      <td>0.0792</td>\n      <td>0.5330</td>\n      <td>91.998</td>\n    </tr>\n    <tr>\n      <th>3651</th>\n      <td>6BXTl7YkINlCQkkzE9hvCd</td>\n      <td>6CwQfN34JdGHfo0A752Lts</td>\n      <td>David Morales</td>\n      <td>Janice Robinson</td>\n      <td>18</td>\n      <td>3CGSHsLvl1vkfibEQQjqgv</td>\n      <td>Father - Quentin Harris Crimson Sector Drum Dub</td>\n      <td>False</td>\n      <td>Collaboration</td>\n      <td>5</td>\n      <td>...</td>\n      <td>4</td>\n      <td>0.01130</td>\n      <td>0.765</td>\n      <td>0.8610</td>\n      <td>0.879000</td>\n      <td>0.0892</td>\n      <td>-10.805</td>\n      <td>0.0597</td>\n      <td>0.4450</td>\n      <td>125.000</td>\n    </tr>\n  </tbody>\n</table>\n<p>3652 rows × 27 columns</p>\n</div>"
     },
     "execution_count": 20,
     "metadata": {},
     "output_type": "execute_result"
    }
   ],
   "source": [
    "# Extract edges and their attributes from the graph\n",
    "edges_with_attributes = [(u, v, G2.edges[u, v]) for u, v in G2.edges()]\n",
    "\n",
    "# Create a DataFrame from the edges and their attributes\n",
    "df_edges_test = pd.DataFrame(edges_with_attributes, columns=['Source', 'Target', 'Attributes'])\n",
    "\n",
    "# Normalize the 'Attributes' column to expand it into separate columns\n",
    "df_edge_attributes = pd.json_normalize(df_edges_test['Attributes'])\n",
    "\n",
    "# Combine the original 'Attributes' column with the expanded attributes\n",
    "df_edges_test = pd.concat([df_edges_test[['Source', 'Target']], df_edge_attributes], axis=1)\n",
    "df_edges_test"
   ],
   "metadata": {
    "collapsed": false,
    "ExecuteTime": {
     "end_time": "2024-05-07T11:03:12.238819200Z",
     "start_time": "2024-05-07T11:03:12.175396400Z"
    }
   },
   "id": "2e6324973210ec7e"
  },
  {
   "cell_type": "code",
   "execution_count": 21,
   "outputs": [],
   "source": [
    "# Save edge DataFrame to CSV\n",
    "df_edges_test.to_csv('network_created/edges_real_test.csv', sep='\\t', index=False)"
   ],
   "metadata": {
    "collapsed": false,
    "ExecuteTime": {
     "end_time": "2024-05-07T11:03:12.365668Z",
     "start_time": "2024-05-07T11:03:12.238819200Z"
    }
   },
   "id": "b2a4471b27c98a30"
  },
  {
   "cell_type": "code",
   "execution_count": 22,
   "outputs": [
    {
     "name": "stdout",
     "output_type": "stream",
     "text": [
      "Number of nodes: 5902\n",
      "Number of edges: 3652\n"
     ]
    }
   ],
   "source": [
    "num_nodes = G2.number_of_nodes()\n",
    "num_edges = G2.number_of_edges()\n",
    "print(\"Number of nodes:\", num_nodes)\n",
    "print(\"Number of edges:\", num_edges)\n"
   ],
   "metadata": {
    "collapsed": false,
    "ExecuteTime": {
     "end_time": "2024-05-07T11:03:12.365668Z",
     "start_time": "2024-05-07T11:03:12.301214600Z"
    }
   },
   "id": "b6287a821fd97ef0"
  },
  {
   "cell_type": "code",
   "execution_count": 23,
   "outputs": [
    {
     "data": {
      "text/plain": "                       song_id                       song_name  \\\n804676  7kXUEJmfvRXbzxOC0pHQgb  I Can't Believe I'm Losing You   \n465447  1xdRFXv3ytSOdj8GuT3Rge      Thank You Lord (Interlude)   \n465446  5wlQIBbKIWoB7AnSw09C6C                   All This Love   \n377956  40uHAEjua1YmyKIJ6k0iVa                        Bo Bo Wa   \n465445  2zmMWWgwCXYarkO2SbyPZP                       Come Over   \n...                        ...                             ...   \n111731  1TDIEgiZDIedT13NQ2mAXg                   Northern Soul   \n111730  4EJjPeKdHIZBEd3LJFEG3J                    Chilled Life   \n111729  1dGHkh8SvzrJJB5i0lMf37           The Messiahs Birthday   \n111728  1llc2q5P1fAeBvEf3xWK0s                          Flamma   \n665923  5bM5D6WuyNX4dBOX9WNi24                   Make You Rain   \n\n                        id_artists                  name_artists  popularity  \\\n804676  ['6eVCRmRG2HcfL4yx77A9WK']                ['Jack Jones']           5   \n465447  ['5NDMothbpdpq2xHqSjrrWn']               ['Faith Evans']          20   \n465446  ['5NDMothbpdpq2xHqSjrrWn']               ['Faith Evans']          26   \n377956  ['3z6Uf5IZkN4TogRpRpgD84']               ['Gary Wright']           0   \n465445  ['5NDMothbpdpq2xHqSjrrWn']               ['Faith Evans']          38   \n...                            ...                           ...         ...   \n111731  ['7JfutRemdlJGyQsIZ7wWQ9']             ['Workout Buddy']           0   \n111730  ['7JfutRemdlJGyQsIZ7wWQ9']             ['Workout Buddy']           0   \n111729  ['7JfutRemdlJGyQsIZ7wWQ9']             ['Workout Buddy']           0   \n111728  ['7JfutRemdlJGyQsIZ7wWQ9']             ['Workout Buddy']           0   \n665923  ['397f86EukZ0rjnR5FWq0HQ']  ['Brazilian Lounge Project']           0   \n\n        explicit song_type  track_number  num_artists  num_available_markets  \\\n804676     False      Solo            12            1                     79   \n465447     False      Solo            10            1                     77   \n465446     False      Solo             9            1                     77   \n377956     False      Solo             8            1                     79   \n465445     False      Solo             7            1                     77   \n...          ...       ...           ...          ...                    ...   \n111731     False      Solo            20            1                     79   \n111730     False      Solo            19            1                     79   \n111729     False      Solo            18            1                     79   \n111728     False      Solo            17            1                     79   \n665923     False      Solo             7            1                     79   \n\n        ... danceability  energy  instrumentalness  liveness  loudness  \\\n804676  ...        0.180   0.369          0.000000    0.1500    -9.797   \n465447  ...        0.370   0.284          0.000000    0.5580   -14.443   \n465446  ...        0.605   0.604          0.000153    0.0693    -9.214   \n377956  ...        0.481   0.652          0.008670    0.0397   -10.981   \n465445  ...        0.534   0.563          0.000001    0.5740    -8.975   \n...     ...          ...     ...               ...       ...       ...   \n111731  ...        0.801   0.452          0.895000    0.0366   -11.564   \n111730  ...        0.792   0.870          0.664000    0.0627    -9.842   \n111729  ...        0.761   0.588          0.913000    0.1130   -13.552   \n111728  ...        0.637   0.969          0.836000    0.3790    -4.583   \n665923  ...        0.810   0.717          0.901000    0.1110    -7.345   \n\n        speechiness  valence    tempo  hit       date  \n804676       0.0299   0.2240   81.701    0 1995-01-01  \n465447       0.0378   0.6490  130.985    0 1995-01-01  \n465446       0.0480   0.5030  145.483    0 1995-01-01  \n377956       0.0364   0.7950  195.791    0 1995-01-01  \n465445       0.0601   0.4140  124.149    0 1995-01-01  \n...             ...      ...      ...  ...        ...  \n111731       0.0725   0.3530  121.983    0 2018-08-25  \n111730       0.0448   0.4110  124.016    0 2018-08-25  \n111729       0.0690   0.1090  123.982    0 2018-08-25  \n111728       0.0436   0.0719  128.098    0 2018-08-25  \n665923       0.0749   0.1700  126.010    0 2018-08-25  \n\n[856777 rows x 26 columns]",
      "text/html": "<div>\n<style scoped>\n    .dataframe tbody tr th:only-of-type {\n        vertical-align: middle;\n    }\n\n    .dataframe tbody tr th {\n        vertical-align: top;\n    }\n\n    .dataframe thead th {\n        text-align: right;\n    }\n</style>\n<table border=\"1\" class=\"dataframe\">\n  <thead>\n    <tr style=\"text-align: right;\">\n      <th></th>\n      <th>song_id</th>\n      <th>song_name</th>\n      <th>id_artists</th>\n      <th>name_artists</th>\n      <th>popularity</th>\n      <th>explicit</th>\n      <th>song_type</th>\n      <th>track_number</th>\n      <th>num_artists</th>\n      <th>num_available_markets</th>\n      <th>...</th>\n      <th>danceability</th>\n      <th>energy</th>\n      <th>instrumentalness</th>\n      <th>liveness</th>\n      <th>loudness</th>\n      <th>speechiness</th>\n      <th>valence</th>\n      <th>tempo</th>\n      <th>hit</th>\n      <th>date</th>\n    </tr>\n  </thead>\n  <tbody>\n    <tr>\n      <th>804676</th>\n      <td>7kXUEJmfvRXbzxOC0pHQgb</td>\n      <td>I Can't Believe I'm Losing You</td>\n      <td>['6eVCRmRG2HcfL4yx77A9WK']</td>\n      <td>['Jack Jones']</td>\n      <td>5</td>\n      <td>False</td>\n      <td>Solo</td>\n      <td>12</td>\n      <td>1</td>\n      <td>79</td>\n      <td>...</td>\n      <td>0.180</td>\n      <td>0.369</td>\n      <td>0.000000</td>\n      <td>0.1500</td>\n      <td>-9.797</td>\n      <td>0.0299</td>\n      <td>0.2240</td>\n      <td>81.701</td>\n      <td>0</td>\n      <td>1995-01-01</td>\n    </tr>\n    <tr>\n      <th>465447</th>\n      <td>1xdRFXv3ytSOdj8GuT3Rge</td>\n      <td>Thank You Lord (Interlude)</td>\n      <td>['5NDMothbpdpq2xHqSjrrWn']</td>\n      <td>['Faith Evans']</td>\n      <td>20</td>\n      <td>False</td>\n      <td>Solo</td>\n      <td>10</td>\n      <td>1</td>\n      <td>77</td>\n      <td>...</td>\n      <td>0.370</td>\n      <td>0.284</td>\n      <td>0.000000</td>\n      <td>0.5580</td>\n      <td>-14.443</td>\n      <td>0.0378</td>\n      <td>0.6490</td>\n      <td>130.985</td>\n      <td>0</td>\n      <td>1995-01-01</td>\n    </tr>\n    <tr>\n      <th>465446</th>\n      <td>5wlQIBbKIWoB7AnSw09C6C</td>\n      <td>All This Love</td>\n      <td>['5NDMothbpdpq2xHqSjrrWn']</td>\n      <td>['Faith Evans']</td>\n      <td>26</td>\n      <td>False</td>\n      <td>Solo</td>\n      <td>9</td>\n      <td>1</td>\n      <td>77</td>\n      <td>...</td>\n      <td>0.605</td>\n      <td>0.604</td>\n      <td>0.000153</td>\n      <td>0.0693</td>\n      <td>-9.214</td>\n      <td>0.0480</td>\n      <td>0.5030</td>\n      <td>145.483</td>\n      <td>0</td>\n      <td>1995-01-01</td>\n    </tr>\n    <tr>\n      <th>377956</th>\n      <td>40uHAEjua1YmyKIJ6k0iVa</td>\n      <td>Bo Bo Wa</td>\n      <td>['3z6Uf5IZkN4TogRpRpgD84']</td>\n      <td>['Gary Wright']</td>\n      <td>0</td>\n      <td>False</td>\n      <td>Solo</td>\n      <td>8</td>\n      <td>1</td>\n      <td>79</td>\n      <td>...</td>\n      <td>0.481</td>\n      <td>0.652</td>\n      <td>0.008670</td>\n      <td>0.0397</td>\n      <td>-10.981</td>\n      <td>0.0364</td>\n      <td>0.7950</td>\n      <td>195.791</td>\n      <td>0</td>\n      <td>1995-01-01</td>\n    </tr>\n    <tr>\n      <th>465445</th>\n      <td>2zmMWWgwCXYarkO2SbyPZP</td>\n      <td>Come Over</td>\n      <td>['5NDMothbpdpq2xHqSjrrWn']</td>\n      <td>['Faith Evans']</td>\n      <td>38</td>\n      <td>False</td>\n      <td>Solo</td>\n      <td>7</td>\n      <td>1</td>\n      <td>77</td>\n      <td>...</td>\n      <td>0.534</td>\n      <td>0.563</td>\n      <td>0.000001</td>\n      <td>0.5740</td>\n      <td>-8.975</td>\n      <td>0.0601</td>\n      <td>0.4140</td>\n      <td>124.149</td>\n      <td>0</td>\n      <td>1995-01-01</td>\n    </tr>\n    <tr>\n      <th>...</th>\n      <td>...</td>\n      <td>...</td>\n      <td>...</td>\n      <td>...</td>\n      <td>...</td>\n      <td>...</td>\n      <td>...</td>\n      <td>...</td>\n      <td>...</td>\n      <td>...</td>\n      <td>...</td>\n      <td>...</td>\n      <td>...</td>\n      <td>...</td>\n      <td>...</td>\n      <td>...</td>\n      <td>...</td>\n      <td>...</td>\n      <td>...</td>\n      <td>...</td>\n      <td>...</td>\n    </tr>\n    <tr>\n      <th>111731</th>\n      <td>1TDIEgiZDIedT13NQ2mAXg</td>\n      <td>Northern Soul</td>\n      <td>['7JfutRemdlJGyQsIZ7wWQ9']</td>\n      <td>['Workout Buddy']</td>\n      <td>0</td>\n      <td>False</td>\n      <td>Solo</td>\n      <td>20</td>\n      <td>1</td>\n      <td>79</td>\n      <td>...</td>\n      <td>0.801</td>\n      <td>0.452</td>\n      <td>0.895000</td>\n      <td>0.0366</td>\n      <td>-11.564</td>\n      <td>0.0725</td>\n      <td>0.3530</td>\n      <td>121.983</td>\n      <td>0</td>\n      <td>2018-08-25</td>\n    </tr>\n    <tr>\n      <th>111730</th>\n      <td>4EJjPeKdHIZBEd3LJFEG3J</td>\n      <td>Chilled Life</td>\n      <td>['7JfutRemdlJGyQsIZ7wWQ9']</td>\n      <td>['Workout Buddy']</td>\n      <td>0</td>\n      <td>False</td>\n      <td>Solo</td>\n      <td>19</td>\n      <td>1</td>\n      <td>79</td>\n      <td>...</td>\n      <td>0.792</td>\n      <td>0.870</td>\n      <td>0.664000</td>\n      <td>0.0627</td>\n      <td>-9.842</td>\n      <td>0.0448</td>\n      <td>0.4110</td>\n      <td>124.016</td>\n      <td>0</td>\n      <td>2018-08-25</td>\n    </tr>\n    <tr>\n      <th>111729</th>\n      <td>1dGHkh8SvzrJJB5i0lMf37</td>\n      <td>The Messiahs Birthday</td>\n      <td>['7JfutRemdlJGyQsIZ7wWQ9']</td>\n      <td>['Workout Buddy']</td>\n      <td>0</td>\n      <td>False</td>\n      <td>Solo</td>\n      <td>18</td>\n      <td>1</td>\n      <td>79</td>\n      <td>...</td>\n      <td>0.761</td>\n      <td>0.588</td>\n      <td>0.913000</td>\n      <td>0.1130</td>\n      <td>-13.552</td>\n      <td>0.0690</td>\n      <td>0.1090</td>\n      <td>123.982</td>\n      <td>0</td>\n      <td>2018-08-25</td>\n    </tr>\n    <tr>\n      <th>111728</th>\n      <td>1llc2q5P1fAeBvEf3xWK0s</td>\n      <td>Flamma</td>\n      <td>['7JfutRemdlJGyQsIZ7wWQ9']</td>\n      <td>['Workout Buddy']</td>\n      <td>0</td>\n      <td>False</td>\n      <td>Solo</td>\n      <td>17</td>\n      <td>1</td>\n      <td>79</td>\n      <td>...</td>\n      <td>0.637</td>\n      <td>0.969</td>\n      <td>0.836000</td>\n      <td>0.3790</td>\n      <td>-4.583</td>\n      <td>0.0436</td>\n      <td>0.0719</td>\n      <td>128.098</td>\n      <td>0</td>\n      <td>2018-08-25</td>\n    </tr>\n    <tr>\n      <th>665923</th>\n      <td>5bM5D6WuyNX4dBOX9WNi24</td>\n      <td>Make You Rain</td>\n      <td>['397f86EukZ0rjnR5FWq0HQ']</td>\n      <td>['Brazilian Lounge Project']</td>\n      <td>0</td>\n      <td>False</td>\n      <td>Solo</td>\n      <td>7</td>\n      <td>1</td>\n      <td>79</td>\n      <td>...</td>\n      <td>0.810</td>\n      <td>0.717</td>\n      <td>0.901000</td>\n      <td>0.1110</td>\n      <td>-7.345</td>\n      <td>0.0749</td>\n      <td>0.1700</td>\n      <td>126.010</td>\n      <td>0</td>\n      <td>2018-08-25</td>\n    </tr>\n  </tbody>\n</table>\n<p>856777 rows × 26 columns</p>\n</div>"
     },
     "execution_count": 23,
     "metadata": {},
     "output_type": "execute_result"
    }
   ],
   "source": [
    "train_df"
   ],
   "metadata": {
    "collapsed": false,
    "ExecuteTime": {
     "end_time": "2024-05-07T11:03:12.830667100Z",
     "start_time": "2024-05-07T11:03:12.468665700Z"
    }
   },
   "id": "b1de9789d17182a"
  },
  {
   "cell_type": "code",
   "execution_count": 24,
   "outputs": [
    {
     "data": {
      "text/plain": "                       song_id  \\\n563810  6R3RXAvtypsoN6jWsjeabw   \n563811  2Tb4RA2rzI3Xp97Q3EuhZ6   \n563812  2ADv9UhiY8pACXvwxP9mr0   \n641117  2RcAviQBeJrtZDZ7P1Co9k   \n563813  7DnbauUP88t63cDXUrdovz   \n...                        ...   \n11098   0xAqhyWvTkfcdFgm7dozMO   \n10903   6zhg8TnVKi90ITDzFKwPr0   \n5856    2GvkFSjRXV0Ii3uYnHiQ74   \n5080    0lej8CemYKkWVHg77Xe1ky   \n10666   6Fh2QgjCxL96dA3Gtpfr4Q   \n\n                                                song_name  \\\n563810                                      Nordic Shores   \n563811                                               Wave   \n563812                                   Waltz for Joshua   \n641117                                            Elmoped   \n563813                                      Black Orpheus   \n...                                                   ...   \n11098             (I Wanna) Testify (Mono Single Version)   \n10903                       Swingtown - Alternate Version   \n5856                                       Take My Advice   \n5080             A Man Holdin' on (To a Woman Lettin’ Go)   \n10666   One Sweet Day (16-Bit Mariah Carey & Boyz II M...   \n\n                                               id_artists  \\\n563810                         ['0KMJUP87x4ERfwSNYvkttw']   \n563811                         ['3OpJxAHfT0KsJzQqdX5SLb']   \n563812                         ['3OpJxAHfT0KsJzQqdX5SLb']   \n641117                         ['6BkcAbUkfIBM4XudxieMq8']   \n563813                         ['3OpJxAHfT0KsJzQqdX5SLb']   \n...                                                   ...   \n11098                          ['1Ve5PoI7i5jIIP1xudo6AB']   \n10903                          ['6QtGlUje9TIkLrgPZrESuk']   \n5856                           ['40PLSl99xXqAQsCQQPmfyM']   \n5080    ['1Fj0R2t4HaJa3oUe8azB8R', '5LDnSV99gbDSsMX3Dc...   \n10666                          ['1v4YnufenjE9BLAfP90qvt']   \n\n                           name_artists  popularity  explicit      song_type  \\\n563810                 ['Sandgrounder']           0     False           Solo   \n563811                 ['Ginger Tunes']           0     False           Solo   \n563812                 ['Ginger Tunes']           0     False           Solo   \n641117                    ['Dr. Alban']          28     False           Solo   \n563813                 ['Ginger Tunes']           0     False           Solo   \n...                                 ...         ...       ...            ...   \n11098               ['The Parliaments']           7     False           Solo   \n10903             ['Steve Miller Band']          26     False           Solo   \n5856                       ['Kym Sims']           0     False           Solo   \n5080    ['Ty Herndon', 'Anita Cochran']          14     False  Collaboration   \n10666                 ['Arcade Player']           0     False           Solo   \n\n        track_number  num_artists  num_available_markets  ... danceability  \\\n563810             5            1                     79  ...        0.646   \n563811             6            1                     79  ...        0.668   \n563812             7            1                     79  ...        0.650   \n641117             1            1                     79  ...        0.851   \n563813             8            1                     79  ...        0.752   \n...              ...          ...                    ...  ...          ...   \n11098             10            1                     79  ...        0.668   \n10903              5            1                     79  ...        0.459   \n5856              10            1                     73  ...        0.737   \n5080               7            2                     79  ...        0.611   \n10666             27            1                     79  ...        0.395   \n\n        energy  instrumentalness  liveness  loudness  speechiness  valence  \\\n563810   0.490          0.895000    0.2230   -16.153       0.0525   0.8420   \n563811   0.414          0.902000    0.1120   -10.019       0.0361   0.0399   \n563812   0.235          0.887000    0.1490   -12.020       0.0346   0.0391   \n641117   0.568          0.000000    0.1450    -7.159       0.0589   0.4710   \n563813   0.435          0.901000    0.0886   -10.619       0.0347   0.1250   \n...        ...               ...       ...       ...          ...      ...   \n11098    0.702          0.000000    0.0521    -5.750       0.0330   0.7540   \n10903    0.764          0.000544    0.2440    -6.662       0.0354   0.4390   \n5856     0.814          0.392000    0.0844   -10.396       0.0307   0.8030   \n5080     0.429          0.000014    0.1120    -8.619       0.0298   0.2370   \n10666    0.405          0.745000    0.1100    -5.559       0.0393   0.3130   \n\n          tempo  hit       date  \n563810   95.016    0 2018-08-26  \n563811  121.084    0 2018-08-26  \n563812  116.265    0 2018-08-26  \n641117  119.981    0 2018-08-26  \n563813  122.128    0 2018-08-26  \n...         ...  ...        ...  \n11098   105.227    1 2019-08-23  \n10903   124.557    1 2019-08-23  \n5856    120.010    1 2019-08-23  \n5080    128.007    1 2019-08-23  \n10666   194.933    1 2019-08-26  \n\n[54250 rows x 26 columns]",
      "text/html": "<div>\n<style scoped>\n    .dataframe tbody tr th:only-of-type {\n        vertical-align: middle;\n    }\n\n    .dataframe tbody tr th {\n        vertical-align: top;\n    }\n\n    .dataframe thead th {\n        text-align: right;\n    }\n</style>\n<table border=\"1\" class=\"dataframe\">\n  <thead>\n    <tr style=\"text-align: right;\">\n      <th></th>\n      <th>song_id</th>\n      <th>song_name</th>\n      <th>id_artists</th>\n      <th>name_artists</th>\n      <th>popularity</th>\n      <th>explicit</th>\n      <th>song_type</th>\n      <th>track_number</th>\n      <th>num_artists</th>\n      <th>num_available_markets</th>\n      <th>...</th>\n      <th>danceability</th>\n      <th>energy</th>\n      <th>instrumentalness</th>\n      <th>liveness</th>\n      <th>loudness</th>\n      <th>speechiness</th>\n      <th>valence</th>\n      <th>tempo</th>\n      <th>hit</th>\n      <th>date</th>\n    </tr>\n  </thead>\n  <tbody>\n    <tr>\n      <th>563810</th>\n      <td>6R3RXAvtypsoN6jWsjeabw</td>\n      <td>Nordic Shores</td>\n      <td>['0KMJUP87x4ERfwSNYvkttw']</td>\n      <td>['Sandgrounder']</td>\n      <td>0</td>\n      <td>False</td>\n      <td>Solo</td>\n      <td>5</td>\n      <td>1</td>\n      <td>79</td>\n      <td>...</td>\n      <td>0.646</td>\n      <td>0.490</td>\n      <td>0.895000</td>\n      <td>0.2230</td>\n      <td>-16.153</td>\n      <td>0.0525</td>\n      <td>0.8420</td>\n      <td>95.016</td>\n      <td>0</td>\n      <td>2018-08-26</td>\n    </tr>\n    <tr>\n      <th>563811</th>\n      <td>2Tb4RA2rzI3Xp97Q3EuhZ6</td>\n      <td>Wave</td>\n      <td>['3OpJxAHfT0KsJzQqdX5SLb']</td>\n      <td>['Ginger Tunes']</td>\n      <td>0</td>\n      <td>False</td>\n      <td>Solo</td>\n      <td>6</td>\n      <td>1</td>\n      <td>79</td>\n      <td>...</td>\n      <td>0.668</td>\n      <td>0.414</td>\n      <td>0.902000</td>\n      <td>0.1120</td>\n      <td>-10.019</td>\n      <td>0.0361</td>\n      <td>0.0399</td>\n      <td>121.084</td>\n      <td>0</td>\n      <td>2018-08-26</td>\n    </tr>\n    <tr>\n      <th>563812</th>\n      <td>2ADv9UhiY8pACXvwxP9mr0</td>\n      <td>Waltz for Joshua</td>\n      <td>['3OpJxAHfT0KsJzQqdX5SLb']</td>\n      <td>['Ginger Tunes']</td>\n      <td>0</td>\n      <td>False</td>\n      <td>Solo</td>\n      <td>7</td>\n      <td>1</td>\n      <td>79</td>\n      <td>...</td>\n      <td>0.650</td>\n      <td>0.235</td>\n      <td>0.887000</td>\n      <td>0.1490</td>\n      <td>-12.020</td>\n      <td>0.0346</td>\n      <td>0.0391</td>\n      <td>116.265</td>\n      <td>0</td>\n      <td>2018-08-26</td>\n    </tr>\n    <tr>\n      <th>641117</th>\n      <td>2RcAviQBeJrtZDZ7P1Co9k</td>\n      <td>Elmoped</td>\n      <td>['6BkcAbUkfIBM4XudxieMq8']</td>\n      <td>['Dr. Alban']</td>\n      <td>28</td>\n      <td>False</td>\n      <td>Solo</td>\n      <td>1</td>\n      <td>1</td>\n      <td>79</td>\n      <td>...</td>\n      <td>0.851</td>\n      <td>0.568</td>\n      <td>0.000000</td>\n      <td>0.1450</td>\n      <td>-7.159</td>\n      <td>0.0589</td>\n      <td>0.4710</td>\n      <td>119.981</td>\n      <td>0</td>\n      <td>2018-08-26</td>\n    </tr>\n    <tr>\n      <th>563813</th>\n      <td>7DnbauUP88t63cDXUrdovz</td>\n      <td>Black Orpheus</td>\n      <td>['3OpJxAHfT0KsJzQqdX5SLb']</td>\n      <td>['Ginger Tunes']</td>\n      <td>0</td>\n      <td>False</td>\n      <td>Solo</td>\n      <td>8</td>\n      <td>1</td>\n      <td>79</td>\n      <td>...</td>\n      <td>0.752</td>\n      <td>0.435</td>\n      <td>0.901000</td>\n      <td>0.0886</td>\n      <td>-10.619</td>\n      <td>0.0347</td>\n      <td>0.1250</td>\n      <td>122.128</td>\n      <td>0</td>\n      <td>2018-08-26</td>\n    </tr>\n    <tr>\n      <th>...</th>\n      <td>...</td>\n      <td>...</td>\n      <td>...</td>\n      <td>...</td>\n      <td>...</td>\n      <td>...</td>\n      <td>...</td>\n      <td>...</td>\n      <td>...</td>\n      <td>...</td>\n      <td>...</td>\n      <td>...</td>\n      <td>...</td>\n      <td>...</td>\n      <td>...</td>\n      <td>...</td>\n      <td>...</td>\n      <td>...</td>\n      <td>...</td>\n      <td>...</td>\n      <td>...</td>\n    </tr>\n    <tr>\n      <th>11098</th>\n      <td>0xAqhyWvTkfcdFgm7dozMO</td>\n      <td>(I Wanna) Testify (Mono Single Version)</td>\n      <td>['1Ve5PoI7i5jIIP1xudo6AB']</td>\n      <td>['The Parliaments']</td>\n      <td>7</td>\n      <td>False</td>\n      <td>Solo</td>\n      <td>10</td>\n      <td>1</td>\n      <td>79</td>\n      <td>...</td>\n      <td>0.668</td>\n      <td>0.702</td>\n      <td>0.000000</td>\n      <td>0.0521</td>\n      <td>-5.750</td>\n      <td>0.0330</td>\n      <td>0.7540</td>\n      <td>105.227</td>\n      <td>1</td>\n      <td>2019-08-23</td>\n    </tr>\n    <tr>\n      <th>10903</th>\n      <td>6zhg8TnVKi90ITDzFKwPr0</td>\n      <td>Swingtown - Alternate Version</td>\n      <td>['6QtGlUje9TIkLrgPZrESuk']</td>\n      <td>['Steve Miller Band']</td>\n      <td>26</td>\n      <td>False</td>\n      <td>Solo</td>\n      <td>5</td>\n      <td>1</td>\n      <td>79</td>\n      <td>...</td>\n      <td>0.459</td>\n      <td>0.764</td>\n      <td>0.000544</td>\n      <td>0.2440</td>\n      <td>-6.662</td>\n      <td>0.0354</td>\n      <td>0.4390</td>\n      <td>124.557</td>\n      <td>1</td>\n      <td>2019-08-23</td>\n    </tr>\n    <tr>\n      <th>5856</th>\n      <td>2GvkFSjRXV0Ii3uYnHiQ74</td>\n      <td>Take My Advice</td>\n      <td>['40PLSl99xXqAQsCQQPmfyM']</td>\n      <td>['Kym Sims']</td>\n      <td>0</td>\n      <td>False</td>\n      <td>Solo</td>\n      <td>10</td>\n      <td>1</td>\n      <td>73</td>\n      <td>...</td>\n      <td>0.737</td>\n      <td>0.814</td>\n      <td>0.392000</td>\n      <td>0.0844</td>\n      <td>-10.396</td>\n      <td>0.0307</td>\n      <td>0.8030</td>\n      <td>120.010</td>\n      <td>1</td>\n      <td>2019-08-23</td>\n    </tr>\n    <tr>\n      <th>5080</th>\n      <td>0lej8CemYKkWVHg77Xe1ky</td>\n      <td>A Man Holdin' on (To a Woman Lettin’ Go)</td>\n      <td>['1Fj0R2t4HaJa3oUe8azB8R', '5LDnSV99gbDSsMX3Dc...</td>\n      <td>['Ty Herndon', 'Anita Cochran']</td>\n      <td>14</td>\n      <td>False</td>\n      <td>Collaboration</td>\n      <td>7</td>\n      <td>2</td>\n      <td>79</td>\n      <td>...</td>\n      <td>0.611</td>\n      <td>0.429</td>\n      <td>0.000014</td>\n      <td>0.1120</td>\n      <td>-8.619</td>\n      <td>0.0298</td>\n      <td>0.2370</td>\n      <td>128.007</td>\n      <td>1</td>\n      <td>2019-08-23</td>\n    </tr>\n    <tr>\n      <th>10666</th>\n      <td>6Fh2QgjCxL96dA3Gtpfr4Q</td>\n      <td>One Sweet Day (16-Bit Mariah Carey &amp; Boyz II M...</td>\n      <td>['1v4YnufenjE9BLAfP90qvt']</td>\n      <td>['Arcade Player']</td>\n      <td>0</td>\n      <td>False</td>\n      <td>Solo</td>\n      <td>27</td>\n      <td>1</td>\n      <td>79</td>\n      <td>...</td>\n      <td>0.395</td>\n      <td>0.405</td>\n      <td>0.745000</td>\n      <td>0.1100</td>\n      <td>-5.559</td>\n      <td>0.0393</td>\n      <td>0.3130</td>\n      <td>194.933</td>\n      <td>1</td>\n      <td>2019-08-26</td>\n    </tr>\n  </tbody>\n</table>\n<p>54250 rows × 26 columns</p>\n</div>"
     },
     "execution_count": 24,
     "metadata": {},
     "output_type": "execute_result"
    }
   ],
   "source": [
    "test_df"
   ],
   "metadata": {
    "collapsed": false,
    "ExecuteTime": {
     "end_time": "2024-05-07T11:03:12.934666Z",
     "start_time": "2024-05-07T11:03:12.840667500Z"
    }
   },
   "id": "4aa2a74a75195a81"
  }
 ],
 "metadata": {
  "kernelspec": {
   "display_name": "Python 3",
   "language": "python",
   "name": "python3"
  },
  "language_info": {
   "codemirror_mode": {
    "name": "ipython",
    "version": 2
   },
   "file_extension": ".py",
   "mimetype": "text/x-python",
   "name": "python",
   "nbconvert_exporter": "python",
   "pygments_lexer": "ipython2",
   "version": "2.7.6"
  }
 },
 "nbformat": 4,
 "nbformat_minor": 5
}
