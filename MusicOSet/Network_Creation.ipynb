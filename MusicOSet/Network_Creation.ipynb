{
 "cells": [
  {
   "cell_type": "code",
   "execution_count": 1,
   "id": "initial_id",
   "metadata": {
    "collapsed": true,
    "pycharm": {
     "name": "#%%\n"
    },
    "ExecuteTime": {
     "end_time": "2024-07-26T13:51:17.424478500Z",
     "start_time": "2024-07-26T13:51:16.769476900Z"
    }
   },
   "outputs": [
    {
     "data": {
      "text/plain": "                      song_id  \\\n0      3e9HZxeyfWwjeyPAMmWSSQ   \n1      5p7ujcrUXASCNwRaWNHR1C   \n2      2xLMifQCjDGFmkHkpNLD9h   \n3      3KkXRkHbMCARz0aVfEt68P   \n4      1rqqCSm0Qe4I9rUvWncaom   \n...                       ...   \n11954  5mz9pQZZXNpAw9CdQ7Bk8q   \n11955  2H9CKpZiLDF223BbwehpDF   \n11956  7zqM7Wm2xJLZ50qAnTLoHD   \n11957  4DPlKVZ6R1EHLfnIsy9ouh   \n11958  6RUa3ZwZYnJnNgZxtIYJR9   \n\n                                               song_name  \\\n0                                          thank u, next   \n1                                             Without Me   \n2                                             SICKO MODE   \n3          Sunflower - Spider-Man: Into the Spider-Verse   \n4                                             High Hopes   \n...                                                  ...   \n11954                Don't Pity Me - Mono; 2003 Remaster   \n11955                        Hush Hush; Hush Hush - Main   \n11956                              Lions, Tigers & Bears   \n11957                                         The Weight   \n11958  Purest of Pain (A Puro Dolor) - Martinee's Rad...   \n\n                                              id_artists  \\\n0                             ['66CXWjxzNUsdJxJ2JdwvnR']   \n1                             ['26VFTg2z8YR0cCuwLzESi2']   \n2                             ['0Y5tJX1MQlPlqiwlOH1tJY']   \n3      ['246dkjvS1zLTtiykXe5h60', '1zNqQNIdeOUZHb8zbZ...   \n4                             ['20JZFwl6HVl6yg8a4H3ZqK']   \n...                                                  ...   \n11954                         ['6lHC2EQMEMZiEmSfFloarn']   \n11955                         ['6wPhSqRtPu1UhRCDX5yaDJ']   \n11956                         ['7gSjFKpVmDgC2MMsnN8CYq']   \n11957  ['0rXI0q8Cahq6numvPlloaq', '3RwQ26hR2tJtA8F9p2...   \n11958  ['1qyAl8T6GTcaOViaI7fs1j', '7AOI1S3Uy411dDhNTd...   \n\n                                           name_artists  popularity  explicit  \\\n0                                     ['Ariana Grande']          87      True   \n1                                            ['Halsey']          87      True   \n2                                      ['Travis Scott']          86      True   \n3                           ['Post Malone', 'Swae Lee']          92     False   \n4                               ['Panic! At The Disco']          86     False   \n...                                                 ...         ...       ...   \n11954                              ['Peter And Gordon']           8     False   \n11955                            ['The Pussycat Dolls']          57     False   \n11956                              ['Jazmine Sullivan']          49     False   \n11957  ['Diana Ross & The Supremes', 'The Temptations']           2     False   \n11958                 ['Son By Four', 'Lewis Martinee']          10     False   \n\n           song_type  track_number  num_artists  num_available_markets  ...  \\\n0               Solo            11            1                     79  ...   \n1               Solo             1            1                     79  ...   \n2               Solo             3            1                     79  ...   \n3      Collaboration             2            2                     79  ...   \n4               Solo             4            1                     78  ...   \n...              ...           ...          ...                    ...  ...   \n11954           Solo             1            1                     78  ...   \n11955           Solo             1            1                     59  ...   \n11956           Solo             4            1                     71  ...   \n11957  Collaboration            23            2                     79  ...   \n11958  Collaboration             1            2                     79  ...   \n\n      acousticness  danceability  energy  instrumentalness  liveness  \\\n0          0.22900         0.717   0.653          0.000000    0.1010   \n1          0.29700         0.752   0.488          0.000009    0.0936   \n2          0.00513         0.834   0.730          0.000000    0.1240   \n3          0.55600         0.760   0.479          0.000000    0.0703   \n4          0.19300         0.579   0.904          0.000000    0.0640   \n...            ...           ...     ...               ...       ...   \n11954      0.61900         0.500   0.654          0.000000    0.3320   \n11955      0.10500         0.609   0.790          0.000000    0.3140   \n11956      0.07880         0.576   0.515          0.000000    0.1180   \n11957      0.37000         0.566   0.607          0.000000    0.6710   \n11958      0.45000         0.593   0.939          0.000013    0.1090   \n\n       loudness  speechiness  valence    tempo  hit  \n0        -5.634       0.0658    0.412  106.966    1  \n1        -7.050       0.0705    0.533  136.041    1  \n2        -3.714       0.2220    0.446  155.008    1  \n3        -5.574       0.0466    0.913   89.911    1  \n4        -2.729       0.0618    0.681   82.014    1  \n...         ...          ...      ...      ...  ...  \n11954    -8.633       0.0394    0.403  107.326    1  \n11955    -3.787       0.0663    0.664  129.334    1  \n11956    -6.178       0.0295    0.407   95.406    1  \n11957    -7.532       0.0357    0.765   91.378    1  \n11958    -3.431       0.0616    0.743  134.108    1  \n\n[11959 rows x 25 columns]",
      "text/html": "<div>\n<style scoped>\n    .dataframe tbody tr th:only-of-type {\n        vertical-align: middle;\n    }\n\n    .dataframe tbody tr th {\n        vertical-align: top;\n    }\n\n    .dataframe thead th {\n        text-align: right;\n    }\n</style>\n<table border=\"1\" class=\"dataframe\">\n  <thead>\n    <tr style=\"text-align: right;\">\n      <th></th>\n      <th>song_id</th>\n      <th>song_name</th>\n      <th>id_artists</th>\n      <th>name_artists</th>\n      <th>popularity</th>\n      <th>explicit</th>\n      <th>song_type</th>\n      <th>track_number</th>\n      <th>num_artists</th>\n      <th>num_available_markets</th>\n      <th>...</th>\n      <th>acousticness</th>\n      <th>danceability</th>\n      <th>energy</th>\n      <th>instrumentalness</th>\n      <th>liveness</th>\n      <th>loudness</th>\n      <th>speechiness</th>\n      <th>valence</th>\n      <th>tempo</th>\n      <th>hit</th>\n    </tr>\n  </thead>\n  <tbody>\n    <tr>\n      <th>0</th>\n      <td>3e9HZxeyfWwjeyPAMmWSSQ</td>\n      <td>thank u, next</td>\n      <td>['66CXWjxzNUsdJxJ2JdwvnR']</td>\n      <td>['Ariana Grande']</td>\n      <td>87</td>\n      <td>True</td>\n      <td>Solo</td>\n      <td>11</td>\n      <td>1</td>\n      <td>79</td>\n      <td>...</td>\n      <td>0.22900</td>\n      <td>0.717</td>\n      <td>0.653</td>\n      <td>0.000000</td>\n      <td>0.1010</td>\n      <td>-5.634</td>\n      <td>0.0658</td>\n      <td>0.412</td>\n      <td>106.966</td>\n      <td>1</td>\n    </tr>\n    <tr>\n      <th>1</th>\n      <td>5p7ujcrUXASCNwRaWNHR1C</td>\n      <td>Without Me</td>\n      <td>['26VFTg2z8YR0cCuwLzESi2']</td>\n      <td>['Halsey']</td>\n      <td>87</td>\n      <td>True</td>\n      <td>Solo</td>\n      <td>1</td>\n      <td>1</td>\n      <td>79</td>\n      <td>...</td>\n      <td>0.29700</td>\n      <td>0.752</td>\n      <td>0.488</td>\n      <td>0.000009</td>\n      <td>0.0936</td>\n      <td>-7.050</td>\n      <td>0.0705</td>\n      <td>0.533</td>\n      <td>136.041</td>\n      <td>1</td>\n    </tr>\n    <tr>\n      <th>2</th>\n      <td>2xLMifQCjDGFmkHkpNLD9h</td>\n      <td>SICKO MODE</td>\n      <td>['0Y5tJX1MQlPlqiwlOH1tJY']</td>\n      <td>['Travis Scott']</td>\n      <td>86</td>\n      <td>True</td>\n      <td>Solo</td>\n      <td>3</td>\n      <td>1</td>\n      <td>79</td>\n      <td>...</td>\n      <td>0.00513</td>\n      <td>0.834</td>\n      <td>0.730</td>\n      <td>0.000000</td>\n      <td>0.1240</td>\n      <td>-3.714</td>\n      <td>0.2220</td>\n      <td>0.446</td>\n      <td>155.008</td>\n      <td>1</td>\n    </tr>\n    <tr>\n      <th>3</th>\n      <td>3KkXRkHbMCARz0aVfEt68P</td>\n      <td>Sunflower - Spider-Man: Into the Spider-Verse</td>\n      <td>['246dkjvS1zLTtiykXe5h60', '1zNqQNIdeOUZHb8zbZ...</td>\n      <td>['Post Malone', 'Swae Lee']</td>\n      <td>92</td>\n      <td>False</td>\n      <td>Collaboration</td>\n      <td>2</td>\n      <td>2</td>\n      <td>79</td>\n      <td>...</td>\n      <td>0.55600</td>\n      <td>0.760</td>\n      <td>0.479</td>\n      <td>0.000000</td>\n      <td>0.0703</td>\n      <td>-5.574</td>\n      <td>0.0466</td>\n      <td>0.913</td>\n      <td>89.911</td>\n      <td>1</td>\n    </tr>\n    <tr>\n      <th>4</th>\n      <td>1rqqCSm0Qe4I9rUvWncaom</td>\n      <td>High Hopes</td>\n      <td>['20JZFwl6HVl6yg8a4H3ZqK']</td>\n      <td>['Panic! At The Disco']</td>\n      <td>86</td>\n      <td>False</td>\n      <td>Solo</td>\n      <td>4</td>\n      <td>1</td>\n      <td>78</td>\n      <td>...</td>\n      <td>0.19300</td>\n      <td>0.579</td>\n      <td>0.904</td>\n      <td>0.000000</td>\n      <td>0.0640</td>\n      <td>-2.729</td>\n      <td>0.0618</td>\n      <td>0.681</td>\n      <td>82.014</td>\n      <td>1</td>\n    </tr>\n    <tr>\n      <th>...</th>\n      <td>...</td>\n      <td>...</td>\n      <td>...</td>\n      <td>...</td>\n      <td>...</td>\n      <td>...</td>\n      <td>...</td>\n      <td>...</td>\n      <td>...</td>\n      <td>...</td>\n      <td>...</td>\n      <td>...</td>\n      <td>...</td>\n      <td>...</td>\n      <td>...</td>\n      <td>...</td>\n      <td>...</td>\n      <td>...</td>\n      <td>...</td>\n      <td>...</td>\n      <td>...</td>\n    </tr>\n    <tr>\n      <th>11954</th>\n      <td>5mz9pQZZXNpAw9CdQ7Bk8q</td>\n      <td>Don't Pity Me - Mono; 2003 Remaster</td>\n      <td>['6lHC2EQMEMZiEmSfFloarn']</td>\n      <td>['Peter And Gordon']</td>\n      <td>8</td>\n      <td>False</td>\n      <td>Solo</td>\n      <td>1</td>\n      <td>1</td>\n      <td>78</td>\n      <td>...</td>\n      <td>0.61900</td>\n      <td>0.500</td>\n      <td>0.654</td>\n      <td>0.000000</td>\n      <td>0.3320</td>\n      <td>-8.633</td>\n      <td>0.0394</td>\n      <td>0.403</td>\n      <td>107.326</td>\n      <td>1</td>\n    </tr>\n    <tr>\n      <th>11955</th>\n      <td>2H9CKpZiLDF223BbwehpDF</td>\n      <td>Hush Hush; Hush Hush - Main</td>\n      <td>['6wPhSqRtPu1UhRCDX5yaDJ']</td>\n      <td>['The Pussycat Dolls']</td>\n      <td>57</td>\n      <td>False</td>\n      <td>Solo</td>\n      <td>1</td>\n      <td>1</td>\n      <td>59</td>\n      <td>...</td>\n      <td>0.10500</td>\n      <td>0.609</td>\n      <td>0.790</td>\n      <td>0.000000</td>\n      <td>0.3140</td>\n      <td>-3.787</td>\n      <td>0.0663</td>\n      <td>0.664</td>\n      <td>129.334</td>\n      <td>1</td>\n    </tr>\n    <tr>\n      <th>11956</th>\n      <td>7zqM7Wm2xJLZ50qAnTLoHD</td>\n      <td>Lions, Tigers &amp; Bears</td>\n      <td>['7gSjFKpVmDgC2MMsnN8CYq']</td>\n      <td>['Jazmine Sullivan']</td>\n      <td>49</td>\n      <td>False</td>\n      <td>Solo</td>\n      <td>4</td>\n      <td>1</td>\n      <td>71</td>\n      <td>...</td>\n      <td>0.07880</td>\n      <td>0.576</td>\n      <td>0.515</td>\n      <td>0.000000</td>\n      <td>0.1180</td>\n      <td>-6.178</td>\n      <td>0.0295</td>\n      <td>0.407</td>\n      <td>95.406</td>\n      <td>1</td>\n    </tr>\n    <tr>\n      <th>11957</th>\n      <td>4DPlKVZ6R1EHLfnIsy9ouh</td>\n      <td>The Weight</td>\n      <td>['0rXI0q8Cahq6numvPlloaq', '3RwQ26hR2tJtA8F9p2...</td>\n      <td>['Diana Ross &amp; The Supremes', 'The Temptations']</td>\n      <td>2</td>\n      <td>False</td>\n      <td>Collaboration</td>\n      <td>23</td>\n      <td>2</td>\n      <td>79</td>\n      <td>...</td>\n      <td>0.37000</td>\n      <td>0.566</td>\n      <td>0.607</td>\n      <td>0.000000</td>\n      <td>0.6710</td>\n      <td>-7.532</td>\n      <td>0.0357</td>\n      <td>0.765</td>\n      <td>91.378</td>\n      <td>1</td>\n    </tr>\n    <tr>\n      <th>11958</th>\n      <td>6RUa3ZwZYnJnNgZxtIYJR9</td>\n      <td>Purest of Pain (A Puro Dolor) - Martinee's Rad...</td>\n      <td>['1qyAl8T6GTcaOViaI7fs1j', '7AOI1S3Uy411dDhNTd...</td>\n      <td>['Son By Four', 'Lewis Martinee']</td>\n      <td>10</td>\n      <td>False</td>\n      <td>Collaboration</td>\n      <td>1</td>\n      <td>2</td>\n      <td>79</td>\n      <td>...</td>\n      <td>0.45000</td>\n      <td>0.593</td>\n      <td>0.939</td>\n      <td>0.000013</td>\n      <td>0.1090</td>\n      <td>-3.431</td>\n      <td>0.0616</td>\n      <td>0.743</td>\n      <td>134.108</td>\n      <td>1</td>\n    </tr>\n  </tbody>\n</table>\n<p>11959 rows × 25 columns</p>\n</div>"
     },
     "execution_count": 1,
     "metadata": {},
     "output_type": "execute_result"
    }
   ],
   "source": [
    "import pandas as pd\n",
    "import matplotlib.pyplot as plt\n",
    "\n",
    "df_hits = pd.read_csv(\"additional/hits_dataset.csv\", delimiter=\"\\t\")\n",
    "df_hits[\"hit\"] = 1\n",
    "df_hits"
   ]
  },
  {
   "cell_type": "code",
   "execution_count": 2,
   "outputs": [
    {
     "name": "stderr",
     "output_type": "stream",
     "text": [
      "C:\\Users\\lasse\\AppData\\Local\\Temp\\ipykernel_6960\\2533836516.py:1: DtypeWarning: Columns (11,12,13,14,15,16,17,18,19,20,21,22,23) have mixed types. Specify dtype option on import or set low_memory=False.\n",
      "  df_nonhits = pd.read_csv(\"additional/nonhits_dataset.csv\", delimiter=\"\\t\")\n"
     ]
    },
    {
     "data": {
      "text/plain": "                       song_id  \\\n0       1TEL6MlSSVLSdhOSddidlJ   \n1       4uTvPEr01pjTbZgl7jcKBD   \n2       2hloaUoRonYssMuqLCBLTX   \n3       3wFLWP0FcIqHK1wb1CPthQ   \n4       5Il6Oe7lr5XM7A0cWbVQtr   \n...                        ...   \n899063  2tP0ryZParpdjvxubgXhTN   \n899064  7Ltni80U0w7bmYjXPNzSEa   \n899065  1gQClXN1Dq4rj0wBzddcNA   \n899066  2jhxQrFNdVPkWL28X7ZpeK   \n899067  6KkbkpUObAqcKGEfvguHJO   \n\n                                               song_name  \\\n0                                                  needy   \n1                                                   NASA   \n2                                              bloodline   \n3                                             fake smile   \n4                                               bad idea   \n...                                                  ...   \n899063                              Love Is Here to Stay   \n899064                                 Heinlein's Planet   \n899065     Beds are Burning - Karaoke Lead Vocal Version   \n899066  Un homme heureux - Version karaoké instrumentale   \n899067                     Santa Claus Is Coming to Town   \n\n                                               id_artists  \\\n0                              ['66CXWjxzNUsdJxJ2JdwvnR']   \n1                              ['66CXWjxzNUsdJxJ2JdwvnR']   \n2                              ['66CXWjxzNUsdJxJ2JdwvnR']   \n3                              ['66CXWjxzNUsdJxJ2JdwvnR']   \n4                              ['66CXWjxzNUsdJxJ2JdwvnR']   \n...                                                   ...   \n899063  ['3Dzj993UEz8Z5ovxuirzFO', '6RCsx4p5smZHYz2P5H...   \n899064                         ['4urvwbid7NFoVes5PTx9lV']   \n899065                         ['7yv4DJOCmilSbxxsdQgXWk']   \n899066                         ['7yv4DJOCmilSbxxsdQgXWk']   \n899067                         ['7tdO7d7r0vhwov7RIZWH6V']   \n\n                                     name_artists  popularity  explicit  \\\n0                               ['Ariana Grande']          76      True   \n1                               ['Ariana Grande']          76     False   \n2                               ['Ariana Grande']          74      True   \n3                               ['Ariana Grande']          73      True   \n4                               ['Ariana Grande']          74     False   \n...                                           ...         ...       ...   \n899063  ['Lindsey Buckingham', 'Christine McVie']          16     False   \n899064                             ['Tony Carey']           0     False   \n899065                             ['Pictomusic']           0     False   \n899066                             ['Pictomusic']           0     False   \n899067                            ['Mitch Ryder']           0     False   \n\n            song_type  track_number  num_artists  num_available_markets  ...  \\\n0                Solo             2            1                     79  ...   \n1                Solo             3            1                     79  ...   \n2                Solo             4            1                     79  ...   \n3                Solo             5            1                     79  ...   \n4                Solo             6            1                     79  ...   \n...               ...           ...          ...                    ...  ...   \n899063  Collaboration             5            2                      1  ...   \n899064           Solo             5            1                     79  ...   \n899065           Solo             2            1                     79  ...   \n899066           Solo             1            1                     79  ...   \n899067           Solo             3            1                     79  ...   \n\n       acousticness danceability energy instrumentalness liveness loudness  \\\n0              0.78        0.647  0.309         7.41e-06    0.202   -7.948   \n1             0.451        0.747  0.458                0    0.252   -6.891   \n2            0.0815        0.758  0.665         0.000157    0.216   -5.188   \n3             0.329         0.45  0.619                0    0.319   -7.412   \n4            0.0268        0.847  0.579           0.0545    0.102   -5.314   \n...             ...          ...    ...              ...      ...      ...   \n899063        0.366        0.446  0.658         2.49e-05    0.751   -8.362   \n899064        0.481        0.305  0.456            0.933    0.111  -20.199   \n899065       0.0118        0.852  0.648                0   0.0503   -7.189   \n899066        0.973        0.664  0.353            0.787   0.0878  -12.303   \n899067        0.386        0.651  0.896          0.00163   0.0734   -6.004   \n\n       speechiness valence    tempo hit  \n0           0.0366   0.195   87.045   0  \n1            0.303    0.47   75.029   0  \n2           0.0774   0.643  151.976   0  \n3            0.372   0.427     83.3   0  \n4           0.0719   0.569  137.998   0  \n...            ...     ...      ...  ..  \n899063      0.0297   0.554    84.74   0  \n899064      0.0634   0.171   96.996   0  \n899065       0.048   0.559   120.15   0  \n899066      0.0693   0.284   116.45   0  \n899067      0.0327   0.893  148.107   0  \n\n[899068 rows x 25 columns]",
      "text/html": "<div>\n<style scoped>\n    .dataframe tbody tr th:only-of-type {\n        vertical-align: middle;\n    }\n\n    .dataframe tbody tr th {\n        vertical-align: top;\n    }\n\n    .dataframe thead th {\n        text-align: right;\n    }\n</style>\n<table border=\"1\" class=\"dataframe\">\n  <thead>\n    <tr style=\"text-align: right;\">\n      <th></th>\n      <th>song_id</th>\n      <th>song_name</th>\n      <th>id_artists</th>\n      <th>name_artists</th>\n      <th>popularity</th>\n      <th>explicit</th>\n      <th>song_type</th>\n      <th>track_number</th>\n      <th>num_artists</th>\n      <th>num_available_markets</th>\n      <th>...</th>\n      <th>acousticness</th>\n      <th>danceability</th>\n      <th>energy</th>\n      <th>instrumentalness</th>\n      <th>liveness</th>\n      <th>loudness</th>\n      <th>speechiness</th>\n      <th>valence</th>\n      <th>tempo</th>\n      <th>hit</th>\n    </tr>\n  </thead>\n  <tbody>\n    <tr>\n      <th>0</th>\n      <td>1TEL6MlSSVLSdhOSddidlJ</td>\n      <td>needy</td>\n      <td>['66CXWjxzNUsdJxJ2JdwvnR']</td>\n      <td>['Ariana Grande']</td>\n      <td>76</td>\n      <td>True</td>\n      <td>Solo</td>\n      <td>2</td>\n      <td>1</td>\n      <td>79</td>\n      <td>...</td>\n      <td>0.78</td>\n      <td>0.647</td>\n      <td>0.309</td>\n      <td>7.41e-06</td>\n      <td>0.202</td>\n      <td>-7.948</td>\n      <td>0.0366</td>\n      <td>0.195</td>\n      <td>87.045</td>\n      <td>0</td>\n    </tr>\n    <tr>\n      <th>1</th>\n      <td>4uTvPEr01pjTbZgl7jcKBD</td>\n      <td>NASA</td>\n      <td>['66CXWjxzNUsdJxJ2JdwvnR']</td>\n      <td>['Ariana Grande']</td>\n      <td>76</td>\n      <td>False</td>\n      <td>Solo</td>\n      <td>3</td>\n      <td>1</td>\n      <td>79</td>\n      <td>...</td>\n      <td>0.451</td>\n      <td>0.747</td>\n      <td>0.458</td>\n      <td>0</td>\n      <td>0.252</td>\n      <td>-6.891</td>\n      <td>0.303</td>\n      <td>0.47</td>\n      <td>75.029</td>\n      <td>0</td>\n    </tr>\n    <tr>\n      <th>2</th>\n      <td>2hloaUoRonYssMuqLCBLTX</td>\n      <td>bloodline</td>\n      <td>['66CXWjxzNUsdJxJ2JdwvnR']</td>\n      <td>['Ariana Grande']</td>\n      <td>74</td>\n      <td>True</td>\n      <td>Solo</td>\n      <td>4</td>\n      <td>1</td>\n      <td>79</td>\n      <td>...</td>\n      <td>0.0815</td>\n      <td>0.758</td>\n      <td>0.665</td>\n      <td>0.000157</td>\n      <td>0.216</td>\n      <td>-5.188</td>\n      <td>0.0774</td>\n      <td>0.643</td>\n      <td>151.976</td>\n      <td>0</td>\n    </tr>\n    <tr>\n      <th>3</th>\n      <td>3wFLWP0FcIqHK1wb1CPthQ</td>\n      <td>fake smile</td>\n      <td>['66CXWjxzNUsdJxJ2JdwvnR']</td>\n      <td>['Ariana Grande']</td>\n      <td>73</td>\n      <td>True</td>\n      <td>Solo</td>\n      <td>5</td>\n      <td>1</td>\n      <td>79</td>\n      <td>...</td>\n      <td>0.329</td>\n      <td>0.45</td>\n      <td>0.619</td>\n      <td>0</td>\n      <td>0.319</td>\n      <td>-7.412</td>\n      <td>0.372</td>\n      <td>0.427</td>\n      <td>83.3</td>\n      <td>0</td>\n    </tr>\n    <tr>\n      <th>4</th>\n      <td>5Il6Oe7lr5XM7A0cWbVQtr</td>\n      <td>bad idea</td>\n      <td>['66CXWjxzNUsdJxJ2JdwvnR']</td>\n      <td>['Ariana Grande']</td>\n      <td>74</td>\n      <td>False</td>\n      <td>Solo</td>\n      <td>6</td>\n      <td>1</td>\n      <td>79</td>\n      <td>...</td>\n      <td>0.0268</td>\n      <td>0.847</td>\n      <td>0.579</td>\n      <td>0.0545</td>\n      <td>0.102</td>\n      <td>-5.314</td>\n      <td>0.0719</td>\n      <td>0.569</td>\n      <td>137.998</td>\n      <td>0</td>\n    </tr>\n    <tr>\n      <th>...</th>\n      <td>...</td>\n      <td>...</td>\n      <td>...</td>\n      <td>...</td>\n      <td>...</td>\n      <td>...</td>\n      <td>...</td>\n      <td>...</td>\n      <td>...</td>\n      <td>...</td>\n      <td>...</td>\n      <td>...</td>\n      <td>...</td>\n      <td>...</td>\n      <td>...</td>\n      <td>...</td>\n      <td>...</td>\n      <td>...</td>\n      <td>...</td>\n      <td>...</td>\n      <td>...</td>\n    </tr>\n    <tr>\n      <th>899063</th>\n      <td>2tP0ryZParpdjvxubgXhTN</td>\n      <td>Love Is Here to Stay</td>\n      <td>['3Dzj993UEz8Z5ovxuirzFO', '6RCsx4p5smZHYz2P5H...</td>\n      <td>['Lindsey Buckingham', 'Christine McVie']</td>\n      <td>16</td>\n      <td>False</td>\n      <td>Collaboration</td>\n      <td>5</td>\n      <td>2</td>\n      <td>1</td>\n      <td>...</td>\n      <td>0.366</td>\n      <td>0.446</td>\n      <td>0.658</td>\n      <td>2.49e-05</td>\n      <td>0.751</td>\n      <td>-8.362</td>\n      <td>0.0297</td>\n      <td>0.554</td>\n      <td>84.74</td>\n      <td>0</td>\n    </tr>\n    <tr>\n      <th>899064</th>\n      <td>7Ltni80U0w7bmYjXPNzSEa</td>\n      <td>Heinlein's Planet</td>\n      <td>['4urvwbid7NFoVes5PTx9lV']</td>\n      <td>['Tony Carey']</td>\n      <td>0</td>\n      <td>False</td>\n      <td>Solo</td>\n      <td>5</td>\n      <td>1</td>\n      <td>79</td>\n      <td>...</td>\n      <td>0.481</td>\n      <td>0.305</td>\n      <td>0.456</td>\n      <td>0.933</td>\n      <td>0.111</td>\n      <td>-20.199</td>\n      <td>0.0634</td>\n      <td>0.171</td>\n      <td>96.996</td>\n      <td>0</td>\n    </tr>\n    <tr>\n      <th>899065</th>\n      <td>1gQClXN1Dq4rj0wBzddcNA</td>\n      <td>Beds are Burning - Karaoke Lead Vocal Version</td>\n      <td>['7yv4DJOCmilSbxxsdQgXWk']</td>\n      <td>['Pictomusic']</td>\n      <td>0</td>\n      <td>False</td>\n      <td>Solo</td>\n      <td>2</td>\n      <td>1</td>\n      <td>79</td>\n      <td>...</td>\n      <td>0.0118</td>\n      <td>0.852</td>\n      <td>0.648</td>\n      <td>0</td>\n      <td>0.0503</td>\n      <td>-7.189</td>\n      <td>0.048</td>\n      <td>0.559</td>\n      <td>120.15</td>\n      <td>0</td>\n    </tr>\n    <tr>\n      <th>899066</th>\n      <td>2jhxQrFNdVPkWL28X7ZpeK</td>\n      <td>Un homme heureux - Version karaoké instrumentale</td>\n      <td>['7yv4DJOCmilSbxxsdQgXWk']</td>\n      <td>['Pictomusic']</td>\n      <td>0</td>\n      <td>False</td>\n      <td>Solo</td>\n      <td>1</td>\n      <td>1</td>\n      <td>79</td>\n      <td>...</td>\n      <td>0.973</td>\n      <td>0.664</td>\n      <td>0.353</td>\n      <td>0.787</td>\n      <td>0.0878</td>\n      <td>-12.303</td>\n      <td>0.0693</td>\n      <td>0.284</td>\n      <td>116.45</td>\n      <td>0</td>\n    </tr>\n    <tr>\n      <th>899067</th>\n      <td>6KkbkpUObAqcKGEfvguHJO</td>\n      <td>Santa Claus Is Coming to Town</td>\n      <td>['7tdO7d7r0vhwov7RIZWH6V']</td>\n      <td>['Mitch Ryder']</td>\n      <td>0</td>\n      <td>False</td>\n      <td>Solo</td>\n      <td>3</td>\n      <td>1</td>\n      <td>79</td>\n      <td>...</td>\n      <td>0.386</td>\n      <td>0.651</td>\n      <td>0.896</td>\n      <td>0.00163</td>\n      <td>0.0734</td>\n      <td>-6.004</td>\n      <td>0.0327</td>\n      <td>0.893</td>\n      <td>148.107</td>\n      <td>0</td>\n    </tr>\n  </tbody>\n</table>\n<p>899068 rows × 25 columns</p>\n</div>"
     },
     "execution_count": 2,
     "metadata": {},
     "output_type": "execute_result"
    }
   ],
   "source": [
    "df_nonhits = pd.read_csv(\"additional/nonhits_dataset.csv\", delimiter=\"\\t\")\n",
    "df_nonhits[\"hit\"] = 0\n",
    "df_nonhits"
   ],
   "metadata": {
    "collapsed": false,
    "pycharm": {
     "name": "#%%\n"
    },
    "ExecuteTime": {
     "end_time": "2024-07-26T13:51:21.480090900Z",
     "start_time": "2024-07-26T13:51:16.846481500Z"
    }
   },
   "id": "26d5e57f02f1e85d"
  },
  {
   "cell_type": "code",
   "execution_count": 3,
   "outputs": [
    {
     "data": {
      "text/plain": "                       song_id  \\\n0       3e9HZxeyfWwjeyPAMmWSSQ   \n1       5p7ujcrUXASCNwRaWNHR1C   \n2       2xLMifQCjDGFmkHkpNLD9h   \n3       3KkXRkHbMCARz0aVfEt68P   \n4       1rqqCSm0Qe4I9rUvWncaom   \n...                        ...   \n899063  2tP0ryZParpdjvxubgXhTN   \n899064  7Ltni80U0w7bmYjXPNzSEa   \n899065  1gQClXN1Dq4rj0wBzddcNA   \n899066  2jhxQrFNdVPkWL28X7ZpeK   \n899067  6KkbkpUObAqcKGEfvguHJO   \n\n                                               song_name  \\\n0                                          thank u, next   \n1                                             Without Me   \n2                                             SICKO MODE   \n3          Sunflower - Spider-Man: Into the Spider-Verse   \n4                                             High Hopes   \n...                                                  ...   \n899063                              Love Is Here to Stay   \n899064                                 Heinlein's Planet   \n899065     Beds are Burning - Karaoke Lead Vocal Version   \n899066  Un homme heureux - Version karaoké instrumentale   \n899067                     Santa Claus Is Coming to Town   \n\n                                               id_artists  \\\n0                              ['66CXWjxzNUsdJxJ2JdwvnR']   \n1                              ['26VFTg2z8YR0cCuwLzESi2']   \n2                              ['0Y5tJX1MQlPlqiwlOH1tJY']   \n3       ['246dkjvS1zLTtiykXe5h60', '1zNqQNIdeOUZHb8zbZ...   \n4                              ['20JZFwl6HVl6yg8a4H3ZqK']   \n...                                                   ...   \n899063  ['3Dzj993UEz8Z5ovxuirzFO', '6RCsx4p5smZHYz2P5H...   \n899064                         ['4urvwbid7NFoVes5PTx9lV']   \n899065                         ['7yv4DJOCmilSbxxsdQgXWk']   \n899066                         ['7yv4DJOCmilSbxxsdQgXWk']   \n899067                         ['7tdO7d7r0vhwov7RIZWH6V']   \n\n                                     name_artists  popularity  explicit  \\\n0                               ['Ariana Grande']          87      True   \n1                                      ['Halsey']          87      True   \n2                                ['Travis Scott']          86      True   \n3                     ['Post Malone', 'Swae Lee']          92     False   \n4                         ['Panic! At The Disco']          86     False   \n...                                           ...         ...       ...   \n899063  ['Lindsey Buckingham', 'Christine McVie']          16     False   \n899064                             ['Tony Carey']           0     False   \n899065                             ['Pictomusic']           0     False   \n899066                             ['Pictomusic']           0     False   \n899067                            ['Mitch Ryder']           0     False   \n\n            song_type  track_number  num_artists  num_available_markets  ...  \\\n0                Solo            11            1                     79  ...   \n1                Solo             1            1                     79  ...   \n2                Solo             3            1                     79  ...   \n3       Collaboration             2            2                     79  ...   \n4                Solo             4            1                     78  ...   \n...               ...           ...          ...                    ...  ...   \n899063  Collaboration             5            2                      1  ...   \n899064           Solo             5            1                     79  ...   \n899065           Solo             2            1                     79  ...   \n899066           Solo             1            1                     79  ...   \n899067           Solo             3            1                     79  ...   \n\n       acousticness danceability energy instrumentalness liveness loudness  \\\n0             0.229        0.717  0.653              0.0    0.101   -5.634   \n1             0.297        0.752  0.488         0.000009   0.0936    -7.05   \n2           0.00513        0.834   0.73              0.0    0.124   -3.714   \n3             0.556         0.76  0.479              0.0   0.0703   -5.574   \n4             0.193        0.579  0.904              0.0    0.064   -2.729   \n...             ...          ...    ...              ...      ...      ...   \n899063        0.366        0.446  0.658         2.49e-05    0.751   -8.362   \n899064        0.481        0.305  0.456            0.933    0.111  -20.199   \n899065       0.0118        0.852  0.648                0   0.0503   -7.189   \n899066        0.973        0.664  0.353            0.787   0.0878  -12.303   \n899067        0.386        0.651  0.896          0.00163   0.0734   -6.004   \n\n       speechiness valence    tempo hit  \n0           0.0658   0.412  106.966   1  \n1           0.0705   0.533  136.041   1  \n2            0.222   0.446  155.008   1  \n3           0.0466   0.913   89.911   1  \n4           0.0618   0.681   82.014   1  \n...            ...     ...      ...  ..  \n899063      0.0297   0.554    84.74   0  \n899064      0.0634   0.171   96.996   0  \n899065       0.048   0.559   120.15   0  \n899066      0.0693   0.284   116.45   0  \n899067      0.0327   0.893  148.107   0  \n\n[911027 rows x 25 columns]",
      "text/html": "<div>\n<style scoped>\n    .dataframe tbody tr th:only-of-type {\n        vertical-align: middle;\n    }\n\n    .dataframe tbody tr th {\n        vertical-align: top;\n    }\n\n    .dataframe thead th {\n        text-align: right;\n    }\n</style>\n<table border=\"1\" class=\"dataframe\">\n  <thead>\n    <tr style=\"text-align: right;\">\n      <th></th>\n      <th>song_id</th>\n      <th>song_name</th>\n      <th>id_artists</th>\n      <th>name_artists</th>\n      <th>popularity</th>\n      <th>explicit</th>\n      <th>song_type</th>\n      <th>track_number</th>\n      <th>num_artists</th>\n      <th>num_available_markets</th>\n      <th>...</th>\n      <th>acousticness</th>\n      <th>danceability</th>\n      <th>energy</th>\n      <th>instrumentalness</th>\n      <th>liveness</th>\n      <th>loudness</th>\n      <th>speechiness</th>\n      <th>valence</th>\n      <th>tempo</th>\n      <th>hit</th>\n    </tr>\n  </thead>\n  <tbody>\n    <tr>\n      <th>0</th>\n      <td>3e9HZxeyfWwjeyPAMmWSSQ</td>\n      <td>thank u, next</td>\n      <td>['66CXWjxzNUsdJxJ2JdwvnR']</td>\n      <td>['Ariana Grande']</td>\n      <td>87</td>\n      <td>True</td>\n      <td>Solo</td>\n      <td>11</td>\n      <td>1</td>\n      <td>79</td>\n      <td>...</td>\n      <td>0.229</td>\n      <td>0.717</td>\n      <td>0.653</td>\n      <td>0.0</td>\n      <td>0.101</td>\n      <td>-5.634</td>\n      <td>0.0658</td>\n      <td>0.412</td>\n      <td>106.966</td>\n      <td>1</td>\n    </tr>\n    <tr>\n      <th>1</th>\n      <td>5p7ujcrUXASCNwRaWNHR1C</td>\n      <td>Without Me</td>\n      <td>['26VFTg2z8YR0cCuwLzESi2']</td>\n      <td>['Halsey']</td>\n      <td>87</td>\n      <td>True</td>\n      <td>Solo</td>\n      <td>1</td>\n      <td>1</td>\n      <td>79</td>\n      <td>...</td>\n      <td>0.297</td>\n      <td>0.752</td>\n      <td>0.488</td>\n      <td>0.000009</td>\n      <td>0.0936</td>\n      <td>-7.05</td>\n      <td>0.0705</td>\n      <td>0.533</td>\n      <td>136.041</td>\n      <td>1</td>\n    </tr>\n    <tr>\n      <th>2</th>\n      <td>2xLMifQCjDGFmkHkpNLD9h</td>\n      <td>SICKO MODE</td>\n      <td>['0Y5tJX1MQlPlqiwlOH1tJY']</td>\n      <td>['Travis Scott']</td>\n      <td>86</td>\n      <td>True</td>\n      <td>Solo</td>\n      <td>3</td>\n      <td>1</td>\n      <td>79</td>\n      <td>...</td>\n      <td>0.00513</td>\n      <td>0.834</td>\n      <td>0.73</td>\n      <td>0.0</td>\n      <td>0.124</td>\n      <td>-3.714</td>\n      <td>0.222</td>\n      <td>0.446</td>\n      <td>155.008</td>\n      <td>1</td>\n    </tr>\n    <tr>\n      <th>3</th>\n      <td>3KkXRkHbMCARz0aVfEt68P</td>\n      <td>Sunflower - Spider-Man: Into the Spider-Verse</td>\n      <td>['246dkjvS1zLTtiykXe5h60', '1zNqQNIdeOUZHb8zbZ...</td>\n      <td>['Post Malone', 'Swae Lee']</td>\n      <td>92</td>\n      <td>False</td>\n      <td>Collaboration</td>\n      <td>2</td>\n      <td>2</td>\n      <td>79</td>\n      <td>...</td>\n      <td>0.556</td>\n      <td>0.76</td>\n      <td>0.479</td>\n      <td>0.0</td>\n      <td>0.0703</td>\n      <td>-5.574</td>\n      <td>0.0466</td>\n      <td>0.913</td>\n      <td>89.911</td>\n      <td>1</td>\n    </tr>\n    <tr>\n      <th>4</th>\n      <td>1rqqCSm0Qe4I9rUvWncaom</td>\n      <td>High Hopes</td>\n      <td>['20JZFwl6HVl6yg8a4H3ZqK']</td>\n      <td>['Panic! At The Disco']</td>\n      <td>86</td>\n      <td>False</td>\n      <td>Solo</td>\n      <td>4</td>\n      <td>1</td>\n      <td>78</td>\n      <td>...</td>\n      <td>0.193</td>\n      <td>0.579</td>\n      <td>0.904</td>\n      <td>0.0</td>\n      <td>0.064</td>\n      <td>-2.729</td>\n      <td>0.0618</td>\n      <td>0.681</td>\n      <td>82.014</td>\n      <td>1</td>\n    </tr>\n    <tr>\n      <th>...</th>\n      <td>...</td>\n      <td>...</td>\n      <td>...</td>\n      <td>...</td>\n      <td>...</td>\n      <td>...</td>\n      <td>...</td>\n      <td>...</td>\n      <td>...</td>\n      <td>...</td>\n      <td>...</td>\n      <td>...</td>\n      <td>...</td>\n      <td>...</td>\n      <td>...</td>\n      <td>...</td>\n      <td>...</td>\n      <td>...</td>\n      <td>...</td>\n      <td>...</td>\n      <td>...</td>\n    </tr>\n    <tr>\n      <th>899063</th>\n      <td>2tP0ryZParpdjvxubgXhTN</td>\n      <td>Love Is Here to Stay</td>\n      <td>['3Dzj993UEz8Z5ovxuirzFO', '6RCsx4p5smZHYz2P5H...</td>\n      <td>['Lindsey Buckingham', 'Christine McVie']</td>\n      <td>16</td>\n      <td>False</td>\n      <td>Collaboration</td>\n      <td>5</td>\n      <td>2</td>\n      <td>1</td>\n      <td>...</td>\n      <td>0.366</td>\n      <td>0.446</td>\n      <td>0.658</td>\n      <td>2.49e-05</td>\n      <td>0.751</td>\n      <td>-8.362</td>\n      <td>0.0297</td>\n      <td>0.554</td>\n      <td>84.74</td>\n      <td>0</td>\n    </tr>\n    <tr>\n      <th>899064</th>\n      <td>7Ltni80U0w7bmYjXPNzSEa</td>\n      <td>Heinlein's Planet</td>\n      <td>['4urvwbid7NFoVes5PTx9lV']</td>\n      <td>['Tony Carey']</td>\n      <td>0</td>\n      <td>False</td>\n      <td>Solo</td>\n      <td>5</td>\n      <td>1</td>\n      <td>79</td>\n      <td>...</td>\n      <td>0.481</td>\n      <td>0.305</td>\n      <td>0.456</td>\n      <td>0.933</td>\n      <td>0.111</td>\n      <td>-20.199</td>\n      <td>0.0634</td>\n      <td>0.171</td>\n      <td>96.996</td>\n      <td>0</td>\n    </tr>\n    <tr>\n      <th>899065</th>\n      <td>1gQClXN1Dq4rj0wBzddcNA</td>\n      <td>Beds are Burning - Karaoke Lead Vocal Version</td>\n      <td>['7yv4DJOCmilSbxxsdQgXWk']</td>\n      <td>['Pictomusic']</td>\n      <td>0</td>\n      <td>False</td>\n      <td>Solo</td>\n      <td>2</td>\n      <td>1</td>\n      <td>79</td>\n      <td>...</td>\n      <td>0.0118</td>\n      <td>0.852</td>\n      <td>0.648</td>\n      <td>0</td>\n      <td>0.0503</td>\n      <td>-7.189</td>\n      <td>0.048</td>\n      <td>0.559</td>\n      <td>120.15</td>\n      <td>0</td>\n    </tr>\n    <tr>\n      <th>899066</th>\n      <td>2jhxQrFNdVPkWL28X7ZpeK</td>\n      <td>Un homme heureux - Version karaoké instrumentale</td>\n      <td>['7yv4DJOCmilSbxxsdQgXWk']</td>\n      <td>['Pictomusic']</td>\n      <td>0</td>\n      <td>False</td>\n      <td>Solo</td>\n      <td>1</td>\n      <td>1</td>\n      <td>79</td>\n      <td>...</td>\n      <td>0.973</td>\n      <td>0.664</td>\n      <td>0.353</td>\n      <td>0.787</td>\n      <td>0.0878</td>\n      <td>-12.303</td>\n      <td>0.0693</td>\n      <td>0.284</td>\n      <td>116.45</td>\n      <td>0</td>\n    </tr>\n    <tr>\n      <th>899067</th>\n      <td>6KkbkpUObAqcKGEfvguHJO</td>\n      <td>Santa Claus Is Coming to Town</td>\n      <td>['7tdO7d7r0vhwov7RIZWH6V']</td>\n      <td>['Mitch Ryder']</td>\n      <td>0</td>\n      <td>False</td>\n      <td>Solo</td>\n      <td>3</td>\n      <td>1</td>\n      <td>79</td>\n      <td>...</td>\n      <td>0.386</td>\n      <td>0.651</td>\n      <td>0.896</td>\n      <td>0.00163</td>\n      <td>0.0734</td>\n      <td>-6.004</td>\n      <td>0.0327</td>\n      <td>0.893</td>\n      <td>148.107</td>\n      <td>0</td>\n    </tr>\n  </tbody>\n</table>\n<p>911027 rows × 25 columns</p>\n</div>"
     },
     "execution_count": 3,
     "metadata": {},
     "output_type": "execute_result"
    }
   ],
   "source": [
    "combined_df = pd.concat([df_hits, df_nonhits], axis=0)\n",
    "combined_df.replace(\"-\", float(\"nan\"), inplace=True)\n",
    "# Drop all rows with NaN values\n",
    "combined_df"
   ],
   "metadata": {
    "collapsed": false,
    "pycharm": {
     "name": "#%%\n"
    },
    "ExecuteTime": {
     "end_time": "2024-07-26T13:51:23.542655200Z",
     "start_time": "2024-07-26T13:51:21.470092300Z"
    }
   },
   "id": "6f9b2d1a6293f615"
  },
  {
   "cell_type": "code",
   "execution_count": 4,
   "outputs": [
    {
     "name": "stdout",
     "output_type": "stream",
     "text": [
      "Columns with NaN values:\n",
      "['duration_ms', 'key', 'mode', 'time_signature', 'acousticness', 'danceability', 'energy', 'instrumentalness', 'liveness', 'loudness', 'speechiness', 'valence', 'tempo']\n"
     ]
    }
   ],
   "source": [
    "# Check for NaN values in all columns\n",
    "nan_columns = combined_df.columns[combined_df.isna().any()].tolist()\n",
    "\n",
    "# Print columns with NaN values\n",
    "print(\"Columns with NaN values:\")\n",
    "print(nan_columns)\n"
   ],
   "metadata": {
    "collapsed": false,
    "pycharm": {
     "name": "#%%\n"
    },
    "ExecuteTime": {
     "end_time": "2024-07-26T13:51:23.901660400Z",
     "start_time": "2024-07-26T13:51:23.608657200Z"
    }
   },
   "id": "8756697fa413e9af"
  },
  {
   "cell_type": "code",
   "execution_count": 5,
   "outputs": [
    {
     "data": {
      "text/plain": "                       song_id  \\\n0       3e9HZxeyfWwjeyPAMmWSSQ   \n1       5p7ujcrUXASCNwRaWNHR1C   \n2       2xLMifQCjDGFmkHkpNLD9h   \n3       3KkXRkHbMCARz0aVfEt68P   \n4       1rqqCSm0Qe4I9rUvWncaom   \n...                        ...   \n899063  2tP0ryZParpdjvxubgXhTN   \n899064  7Ltni80U0w7bmYjXPNzSEa   \n899065  1gQClXN1Dq4rj0wBzddcNA   \n899066  2jhxQrFNdVPkWL28X7ZpeK   \n899067  6KkbkpUObAqcKGEfvguHJO   \n\n                                               song_name  \\\n0                                          thank u, next   \n1                                             Without Me   \n2                                             SICKO MODE   \n3          Sunflower - Spider-Man: Into the Spider-Verse   \n4                                             High Hopes   \n...                                                  ...   \n899063                              Love Is Here to Stay   \n899064                                 Heinlein's Planet   \n899065     Beds are Burning - Karaoke Lead Vocal Version   \n899066  Un homme heureux - Version karaoké instrumentale   \n899067                     Santa Claus Is Coming to Town   \n\n                                               id_artists  \\\n0                              ['66CXWjxzNUsdJxJ2JdwvnR']   \n1                              ['26VFTg2z8YR0cCuwLzESi2']   \n2                              ['0Y5tJX1MQlPlqiwlOH1tJY']   \n3       ['246dkjvS1zLTtiykXe5h60', '1zNqQNIdeOUZHb8zbZ...   \n4                              ['20JZFwl6HVl6yg8a4H3ZqK']   \n...                                                   ...   \n899063  ['3Dzj993UEz8Z5ovxuirzFO', '6RCsx4p5smZHYz2P5H...   \n899064                         ['4urvwbid7NFoVes5PTx9lV']   \n899065                         ['7yv4DJOCmilSbxxsdQgXWk']   \n899066                         ['7yv4DJOCmilSbxxsdQgXWk']   \n899067                         ['7tdO7d7r0vhwov7RIZWH6V']   \n\n                                     name_artists  popularity  explicit  \\\n0                               ['Ariana Grande']          87      True   \n1                                      ['Halsey']          87      True   \n2                                ['Travis Scott']          86      True   \n3                     ['Post Malone', 'Swae Lee']          92     False   \n4                         ['Panic! At The Disco']          86     False   \n...                                           ...         ...       ...   \n899063  ['Lindsey Buckingham', 'Christine McVie']          16     False   \n899064                             ['Tony Carey']           0     False   \n899065                             ['Pictomusic']           0     False   \n899066                             ['Pictomusic']           0     False   \n899067                            ['Mitch Ryder']           0     False   \n\n            song_type  track_number  num_artists  num_available_markets  ...  \\\n0                Solo            11            1                     79  ...   \n1                Solo             1            1                     79  ...   \n2                Solo             3            1                     79  ...   \n3       Collaboration             2            2                     79  ...   \n4                Solo             4            1                     78  ...   \n...               ...           ...          ...                    ...  ...   \n899063  Collaboration             5            2                      1  ...   \n899064           Solo             5            1                     79  ...   \n899065           Solo             2            1                     79  ...   \n899066           Solo             1            1                     79  ...   \n899067           Solo             3            1                     79  ...   \n\n       acousticness  danceability  energy  instrumentalness  liveness  \\\n0           0.22900         0.717   0.653          0.000000    0.1010   \n1           0.29700         0.752   0.488          0.000009    0.0936   \n2           0.00513         0.834   0.730          0.000000    0.1240   \n3           0.55600         0.760   0.479          0.000000    0.0703   \n4           0.19300         0.579   0.904          0.000000    0.0640   \n...             ...           ...     ...               ...       ...   \n899063      0.36600         0.446   0.658          0.000025    0.7510   \n899064      0.48100         0.305   0.456          0.933000    0.1110   \n899065      0.01180         0.852   0.648          0.000000    0.0503   \n899066      0.97300         0.664   0.353          0.787000    0.0878   \n899067      0.38600         0.651   0.896          0.001630    0.0734   \n\n        loudness  speechiness  valence    tempo  hit  \n0         -5.634       0.0658    0.412  106.966    1  \n1         -7.050       0.0705    0.533  136.041    1  \n2         -3.714       0.2220    0.446  155.008    1  \n3         -5.574       0.0466    0.913   89.911    1  \n4         -2.729       0.0618    0.681   82.014    1  \n...          ...          ...      ...      ...  ...  \n899063    -8.362       0.0297    0.554   84.740    0  \n899064   -20.199       0.0634    0.171   96.996    0  \n899065    -7.189       0.0480    0.559  120.150    0  \n899066   -12.303       0.0693    0.284  116.450    0  \n899067    -6.004       0.0327    0.893  148.107    0  \n\n[911027 rows x 25 columns]",
      "text/html": "<div>\n<style scoped>\n    .dataframe tbody tr th:only-of-type {\n        vertical-align: middle;\n    }\n\n    .dataframe tbody tr th {\n        vertical-align: top;\n    }\n\n    .dataframe thead th {\n        text-align: right;\n    }\n</style>\n<table border=\"1\" class=\"dataframe\">\n  <thead>\n    <tr style=\"text-align: right;\">\n      <th></th>\n      <th>song_id</th>\n      <th>song_name</th>\n      <th>id_artists</th>\n      <th>name_artists</th>\n      <th>popularity</th>\n      <th>explicit</th>\n      <th>song_type</th>\n      <th>track_number</th>\n      <th>num_artists</th>\n      <th>num_available_markets</th>\n      <th>...</th>\n      <th>acousticness</th>\n      <th>danceability</th>\n      <th>energy</th>\n      <th>instrumentalness</th>\n      <th>liveness</th>\n      <th>loudness</th>\n      <th>speechiness</th>\n      <th>valence</th>\n      <th>tempo</th>\n      <th>hit</th>\n    </tr>\n  </thead>\n  <tbody>\n    <tr>\n      <th>0</th>\n      <td>3e9HZxeyfWwjeyPAMmWSSQ</td>\n      <td>thank u, next</td>\n      <td>['66CXWjxzNUsdJxJ2JdwvnR']</td>\n      <td>['Ariana Grande']</td>\n      <td>87</td>\n      <td>True</td>\n      <td>Solo</td>\n      <td>11</td>\n      <td>1</td>\n      <td>79</td>\n      <td>...</td>\n      <td>0.22900</td>\n      <td>0.717</td>\n      <td>0.653</td>\n      <td>0.000000</td>\n      <td>0.1010</td>\n      <td>-5.634</td>\n      <td>0.0658</td>\n      <td>0.412</td>\n      <td>106.966</td>\n      <td>1</td>\n    </tr>\n    <tr>\n      <th>1</th>\n      <td>5p7ujcrUXASCNwRaWNHR1C</td>\n      <td>Without Me</td>\n      <td>['26VFTg2z8YR0cCuwLzESi2']</td>\n      <td>['Halsey']</td>\n      <td>87</td>\n      <td>True</td>\n      <td>Solo</td>\n      <td>1</td>\n      <td>1</td>\n      <td>79</td>\n      <td>...</td>\n      <td>0.29700</td>\n      <td>0.752</td>\n      <td>0.488</td>\n      <td>0.000009</td>\n      <td>0.0936</td>\n      <td>-7.050</td>\n      <td>0.0705</td>\n      <td>0.533</td>\n      <td>136.041</td>\n      <td>1</td>\n    </tr>\n    <tr>\n      <th>2</th>\n      <td>2xLMifQCjDGFmkHkpNLD9h</td>\n      <td>SICKO MODE</td>\n      <td>['0Y5tJX1MQlPlqiwlOH1tJY']</td>\n      <td>['Travis Scott']</td>\n      <td>86</td>\n      <td>True</td>\n      <td>Solo</td>\n      <td>3</td>\n      <td>1</td>\n      <td>79</td>\n      <td>...</td>\n      <td>0.00513</td>\n      <td>0.834</td>\n      <td>0.730</td>\n      <td>0.000000</td>\n      <td>0.1240</td>\n      <td>-3.714</td>\n      <td>0.2220</td>\n      <td>0.446</td>\n      <td>155.008</td>\n      <td>1</td>\n    </tr>\n    <tr>\n      <th>3</th>\n      <td>3KkXRkHbMCARz0aVfEt68P</td>\n      <td>Sunflower - Spider-Man: Into the Spider-Verse</td>\n      <td>['246dkjvS1zLTtiykXe5h60', '1zNqQNIdeOUZHb8zbZ...</td>\n      <td>['Post Malone', 'Swae Lee']</td>\n      <td>92</td>\n      <td>False</td>\n      <td>Collaboration</td>\n      <td>2</td>\n      <td>2</td>\n      <td>79</td>\n      <td>...</td>\n      <td>0.55600</td>\n      <td>0.760</td>\n      <td>0.479</td>\n      <td>0.000000</td>\n      <td>0.0703</td>\n      <td>-5.574</td>\n      <td>0.0466</td>\n      <td>0.913</td>\n      <td>89.911</td>\n      <td>1</td>\n    </tr>\n    <tr>\n      <th>4</th>\n      <td>1rqqCSm0Qe4I9rUvWncaom</td>\n      <td>High Hopes</td>\n      <td>['20JZFwl6HVl6yg8a4H3ZqK']</td>\n      <td>['Panic! At The Disco']</td>\n      <td>86</td>\n      <td>False</td>\n      <td>Solo</td>\n      <td>4</td>\n      <td>1</td>\n      <td>78</td>\n      <td>...</td>\n      <td>0.19300</td>\n      <td>0.579</td>\n      <td>0.904</td>\n      <td>0.000000</td>\n      <td>0.0640</td>\n      <td>-2.729</td>\n      <td>0.0618</td>\n      <td>0.681</td>\n      <td>82.014</td>\n      <td>1</td>\n    </tr>\n    <tr>\n      <th>...</th>\n      <td>...</td>\n      <td>...</td>\n      <td>...</td>\n      <td>...</td>\n      <td>...</td>\n      <td>...</td>\n      <td>...</td>\n      <td>...</td>\n      <td>...</td>\n      <td>...</td>\n      <td>...</td>\n      <td>...</td>\n      <td>...</td>\n      <td>...</td>\n      <td>...</td>\n      <td>...</td>\n      <td>...</td>\n      <td>...</td>\n      <td>...</td>\n      <td>...</td>\n      <td>...</td>\n    </tr>\n    <tr>\n      <th>899063</th>\n      <td>2tP0ryZParpdjvxubgXhTN</td>\n      <td>Love Is Here to Stay</td>\n      <td>['3Dzj993UEz8Z5ovxuirzFO', '6RCsx4p5smZHYz2P5H...</td>\n      <td>['Lindsey Buckingham', 'Christine McVie']</td>\n      <td>16</td>\n      <td>False</td>\n      <td>Collaboration</td>\n      <td>5</td>\n      <td>2</td>\n      <td>1</td>\n      <td>...</td>\n      <td>0.36600</td>\n      <td>0.446</td>\n      <td>0.658</td>\n      <td>0.000025</td>\n      <td>0.7510</td>\n      <td>-8.362</td>\n      <td>0.0297</td>\n      <td>0.554</td>\n      <td>84.740</td>\n      <td>0</td>\n    </tr>\n    <tr>\n      <th>899064</th>\n      <td>7Ltni80U0w7bmYjXPNzSEa</td>\n      <td>Heinlein's Planet</td>\n      <td>['4urvwbid7NFoVes5PTx9lV']</td>\n      <td>['Tony Carey']</td>\n      <td>0</td>\n      <td>False</td>\n      <td>Solo</td>\n      <td>5</td>\n      <td>1</td>\n      <td>79</td>\n      <td>...</td>\n      <td>0.48100</td>\n      <td>0.305</td>\n      <td>0.456</td>\n      <td>0.933000</td>\n      <td>0.1110</td>\n      <td>-20.199</td>\n      <td>0.0634</td>\n      <td>0.171</td>\n      <td>96.996</td>\n      <td>0</td>\n    </tr>\n    <tr>\n      <th>899065</th>\n      <td>1gQClXN1Dq4rj0wBzddcNA</td>\n      <td>Beds are Burning - Karaoke Lead Vocal Version</td>\n      <td>['7yv4DJOCmilSbxxsdQgXWk']</td>\n      <td>['Pictomusic']</td>\n      <td>0</td>\n      <td>False</td>\n      <td>Solo</td>\n      <td>2</td>\n      <td>1</td>\n      <td>79</td>\n      <td>...</td>\n      <td>0.01180</td>\n      <td>0.852</td>\n      <td>0.648</td>\n      <td>0.000000</td>\n      <td>0.0503</td>\n      <td>-7.189</td>\n      <td>0.0480</td>\n      <td>0.559</td>\n      <td>120.150</td>\n      <td>0</td>\n    </tr>\n    <tr>\n      <th>899066</th>\n      <td>2jhxQrFNdVPkWL28X7ZpeK</td>\n      <td>Un homme heureux - Version karaoké instrumentale</td>\n      <td>['7yv4DJOCmilSbxxsdQgXWk']</td>\n      <td>['Pictomusic']</td>\n      <td>0</td>\n      <td>False</td>\n      <td>Solo</td>\n      <td>1</td>\n      <td>1</td>\n      <td>79</td>\n      <td>...</td>\n      <td>0.97300</td>\n      <td>0.664</td>\n      <td>0.353</td>\n      <td>0.787000</td>\n      <td>0.0878</td>\n      <td>-12.303</td>\n      <td>0.0693</td>\n      <td>0.284</td>\n      <td>116.450</td>\n      <td>0</td>\n    </tr>\n    <tr>\n      <th>899067</th>\n      <td>6KkbkpUObAqcKGEfvguHJO</td>\n      <td>Santa Claus Is Coming to Town</td>\n      <td>['7tdO7d7r0vhwov7RIZWH6V']</td>\n      <td>['Mitch Ryder']</td>\n      <td>0</td>\n      <td>False</td>\n      <td>Solo</td>\n      <td>3</td>\n      <td>1</td>\n      <td>79</td>\n      <td>...</td>\n      <td>0.38600</td>\n      <td>0.651</td>\n      <td>0.896</td>\n      <td>0.001630</td>\n      <td>0.0734</td>\n      <td>-6.004</td>\n      <td>0.0327</td>\n      <td>0.893</td>\n      <td>148.107</td>\n      <td>0</td>\n    </tr>\n  </tbody>\n</table>\n<p>911027 rows × 25 columns</p>\n</div>"
     },
     "execution_count": 5,
     "metadata": {},
     "output_type": "execute_result"
    }
   ],
   "source": [
    "from sklearn.impute import SimpleImputer\n",
    "\n",
    "combined_df.replace(\"-\", float(\"nan\"), inplace=True)   ## evtl hier schon mean replacement???\n",
    "# combined_df.dropna(inplace=True)   # drop nan value rows\n",
    "#Fill missing values with mean for each numeric attribute\n",
    "imputer = SimpleImputer(strategy='mean')\n",
    "for col in nan_columns:\n",
    "    combined_df[col] = imputer.fit_transform(combined_df[[col]])\n",
    "\n",
    "combined_df"
   ],
   "metadata": {
    "collapsed": false,
    "pycharm": {
     "name": "#%%\n"
    },
    "ExecuteTime": {
     "end_time": "2024-07-26T13:51:27.844187100Z",
     "start_time": "2024-07-26T13:51:23.904656400Z"
    }
   },
   "id": "723e4477181f9728"
  },
  {
   "cell_type": "code",
   "execution_count": 6,
   "outputs": [
    {
     "name": "stdout",
     "output_type": "stream",
     "text": [
      "Columns with NaN values:\n",
      "[]\n"
     ]
    }
   ],
   "source": [
    "# Check for NaN values in all columns\n",
    "nan_columns = combined_df.columns[combined_df.isna().any()].tolist()\n",
    "\n",
    "# Print columns with NaN values\n",
    "print(\"Columns with NaN values:\")\n",
    "print(nan_columns)\n"
   ],
   "metadata": {
    "collapsed": false,
    "pycharm": {
     "name": "#%%\n"
    },
    "ExecuteTime": {
     "end_time": "2024-07-26T13:51:28.001190500Z",
     "start_time": "2024-07-26T13:51:27.924189400Z"
    }
   },
   "id": "ad978e73fb721d3e"
  },
  {
   "cell_type": "code",
   "execution_count": 7,
   "outputs": [],
   "source": [
    "from sklearn.model_selection import train_test_split\n",
    "combined_df['date'] = pd.to_datetime(combined_df['release_date'])\n",
    "combined_df.sort_values(by=\"date\", inplace=True)\n",
    "border_day = combined_df[\"date\"].iloc[-1]  - pd.DateOffset(years=6)\n",
    "combined_df = combined_df[(combined_df[\"date\"] >= border_day)]\n",
    "\n",
    "split_day = combined_df[\"date\"].iloc[-1]  - pd.DateOffset(years=1)\n",
    "train_df = combined_df[(combined_df[\"date\"]  < split_day)]\n",
    "test_df = combined_df[(combined_df[\"date\"]  >= split_day)]\n",
    "# train_df, test_df = train_test_split(combined_df, test_size=1/4, shuffle=False)"
   ],
   "metadata": {
    "collapsed": false,
    "pycharm": {
     "name": "#%%\n"
    },
    "ExecuteTime": {
     "end_time": "2024-07-26T13:51:29.091188100Z",
     "start_time": "2024-07-26T13:51:28.000188300Z"
    }
   },
   "id": "f55fc8cca1de5d29"
  },
  {
   "cell_type": "code",
   "execution_count": 8,
   "outputs": [
    {
     "data": {
      "text/plain": "                       song_id  \\\n846000  3rTIDlmlGskGnRRqmRtvYn   \n604826  7zhdgvEuhcxy4iwc0ssoty   \n604827  7urrpTy9j5QGMYrZpPwuEy   \n604828  6Ppgg7vDhYoyyNmmfIE9zK   \n604829  3EOsorrvvIhtlTOoMdEshm   \n...                        ...   \n11098   0xAqhyWvTkfcdFgm7dozMO   \n10903   6zhg8TnVKi90ITDzFKwPr0   \n5856    2GvkFSjRXV0Ii3uYnHiQ74   \n5080    0lej8CemYKkWVHg77Xe1ky   \n10666   6Fh2QgjCxL96dA3Gtpfr4Q   \n\n                                                song_name  \\\n846000                                      Lone Stranger   \n604826                          Ghost of Gloria Goodchild   \n604827                                             Kolors   \n604828                                    Come as You Are   \n604829                                        Nexperience   \n...                                                   ...   \n11098             (I Wanna) Testify (Mono Single Version)   \n10903                       Swingtown - Alternate Version   \n5856                                       Take My Advice   \n5080             A Man Holdin' on (To a Woman Lettin’ Go)   \n10666   One Sweet Day (16-Bit Mariah Carey & Boyz II M...   \n\n                                               id_artists  \\\n846000                         ['1W006EgE9fkSO9CpTnVlqN']   \n604826                         ['3F2Y683ovlWT53WKCeq0oj']   \n604827                         ['3F2Y683ovlWT53WKCeq0oj']   \n604828                         ['3F2Y683ovlWT53WKCeq0oj']   \n604829                         ['3F2Y683ovlWT53WKCeq0oj']   \n...                                                   ...   \n11098                          ['1Ve5PoI7i5jIIP1xudo6AB']   \n10903                          ['6QtGlUje9TIkLrgPZrESuk']   \n5856                           ['40PLSl99xXqAQsCQQPmfyM']   \n5080    ['1Fj0R2t4HaJa3oUe8azB8R', '5LDnSV99gbDSsMX3Dc...   \n10666                          ['1v4YnufenjE9BLAfP90qvt']   \n\n                           name_artists  popularity  explicit      song_type  \\\n846000                 ['James Dooley']           0     False           Solo   \n604826                   ['Goodie Mob']           5      True           Solo   \n604827                   ['Goodie Mob']          12      True           Solo   \n604828                   ['Goodie Mob']           5      True           Solo   \n604829                   ['Goodie Mob']           5      True           Solo   \n...                                 ...         ...       ...            ...   \n11098               ['The Parliaments']           7     False           Solo   \n10903             ['Steve Miller Band']          26     False           Solo   \n5856                       ['Kym Sims']           0     False           Solo   \n5080    ['Ty Herndon', 'Anita Cochran']          14     False  Collaboration   \n10666                 ['Arcade Player']           0     False           Solo   \n\n        track_number  num_artists  num_available_markets  ... danceability  \\\n846000            19            1                     74  ...        0.235   \n604826             9            1                      2  ...        0.609   \n604827            10            1                      2  ...        0.482   \n604828            11            1                      2  ...        0.656   \n604829            12            1                      2  ...        0.610   \n...              ...          ...                    ...  ...          ...   \n11098             10            1                     79  ...        0.668   \n10903              5            1                     79  ...        0.459   \n5856              10            1                     73  ...        0.737   \n5080               7            2                     79  ...        0.611   \n10666             27            1                     79  ...        0.395   \n\n        energy  instrumentalness  liveness  loudness  speechiness  valence  \\\n846000   0.199          0.896000    0.1110   -15.446       0.0329   0.0476   \n604826   0.612          0.000000    0.4980    -7.317       0.1240   0.3850   \n604827   0.722          0.000000    0.5020    -7.968       0.3140   0.4840   \n604828   0.952          0.000582    0.0455    -5.103       0.0602   0.4760   \n604829   0.798          0.000660    0.5230    -6.880       0.2730   0.6130   \n...        ...               ...       ...       ...          ...      ...   \n11098    0.702          0.000000    0.0521    -5.750       0.0330   0.7540   \n10903    0.764          0.000544    0.2440    -6.662       0.0354   0.4390   \n5856     0.814          0.392000    0.0844   -10.396       0.0307   0.8030   \n5080     0.429          0.000014    0.1120    -8.619       0.0298   0.2370   \n10666    0.405          0.745000    0.1100    -5.559       0.0393   0.3130   \n\n          tempo  hit       date  \n846000   69.245    0 2013-08-26  \n604826  140.953    0 2013-08-26  \n604827  105.123    0 2013-08-26  \n604828  130.923    0 2013-08-26  \n604829  138.103    0 2013-08-26  \n...         ...  ...        ...  \n11098   105.227    1 2019-08-23  \n10903   124.557    1 2019-08-23  \n5856    120.010    1 2019-08-23  \n5080    128.007    1 2019-08-23  \n10666   194.933    1 2019-08-26  \n\n[357166 rows x 26 columns]",
      "text/html": "<div>\n<style scoped>\n    .dataframe tbody tr th:only-of-type {\n        vertical-align: middle;\n    }\n\n    .dataframe tbody tr th {\n        vertical-align: top;\n    }\n\n    .dataframe thead th {\n        text-align: right;\n    }\n</style>\n<table border=\"1\" class=\"dataframe\">\n  <thead>\n    <tr style=\"text-align: right;\">\n      <th></th>\n      <th>song_id</th>\n      <th>song_name</th>\n      <th>id_artists</th>\n      <th>name_artists</th>\n      <th>popularity</th>\n      <th>explicit</th>\n      <th>song_type</th>\n      <th>track_number</th>\n      <th>num_artists</th>\n      <th>num_available_markets</th>\n      <th>...</th>\n      <th>danceability</th>\n      <th>energy</th>\n      <th>instrumentalness</th>\n      <th>liveness</th>\n      <th>loudness</th>\n      <th>speechiness</th>\n      <th>valence</th>\n      <th>tempo</th>\n      <th>hit</th>\n      <th>date</th>\n    </tr>\n  </thead>\n  <tbody>\n    <tr>\n      <th>846000</th>\n      <td>3rTIDlmlGskGnRRqmRtvYn</td>\n      <td>Lone Stranger</td>\n      <td>['1W006EgE9fkSO9CpTnVlqN']</td>\n      <td>['James Dooley']</td>\n      <td>0</td>\n      <td>False</td>\n      <td>Solo</td>\n      <td>19</td>\n      <td>1</td>\n      <td>74</td>\n      <td>...</td>\n      <td>0.235</td>\n      <td>0.199</td>\n      <td>0.896000</td>\n      <td>0.1110</td>\n      <td>-15.446</td>\n      <td>0.0329</td>\n      <td>0.0476</td>\n      <td>69.245</td>\n      <td>0</td>\n      <td>2013-08-26</td>\n    </tr>\n    <tr>\n      <th>604826</th>\n      <td>7zhdgvEuhcxy4iwc0ssoty</td>\n      <td>Ghost of Gloria Goodchild</td>\n      <td>['3F2Y683ovlWT53WKCeq0oj']</td>\n      <td>['Goodie Mob']</td>\n      <td>5</td>\n      <td>True</td>\n      <td>Solo</td>\n      <td>9</td>\n      <td>1</td>\n      <td>2</td>\n      <td>...</td>\n      <td>0.609</td>\n      <td>0.612</td>\n      <td>0.000000</td>\n      <td>0.4980</td>\n      <td>-7.317</td>\n      <td>0.1240</td>\n      <td>0.3850</td>\n      <td>140.953</td>\n      <td>0</td>\n      <td>2013-08-26</td>\n    </tr>\n    <tr>\n      <th>604827</th>\n      <td>7urrpTy9j5QGMYrZpPwuEy</td>\n      <td>Kolors</td>\n      <td>['3F2Y683ovlWT53WKCeq0oj']</td>\n      <td>['Goodie Mob']</td>\n      <td>12</td>\n      <td>True</td>\n      <td>Solo</td>\n      <td>10</td>\n      <td>1</td>\n      <td>2</td>\n      <td>...</td>\n      <td>0.482</td>\n      <td>0.722</td>\n      <td>0.000000</td>\n      <td>0.5020</td>\n      <td>-7.968</td>\n      <td>0.3140</td>\n      <td>0.4840</td>\n      <td>105.123</td>\n      <td>0</td>\n      <td>2013-08-26</td>\n    </tr>\n    <tr>\n      <th>604828</th>\n      <td>6Ppgg7vDhYoyyNmmfIE9zK</td>\n      <td>Come as You Are</td>\n      <td>['3F2Y683ovlWT53WKCeq0oj']</td>\n      <td>['Goodie Mob']</td>\n      <td>5</td>\n      <td>True</td>\n      <td>Solo</td>\n      <td>11</td>\n      <td>1</td>\n      <td>2</td>\n      <td>...</td>\n      <td>0.656</td>\n      <td>0.952</td>\n      <td>0.000582</td>\n      <td>0.0455</td>\n      <td>-5.103</td>\n      <td>0.0602</td>\n      <td>0.4760</td>\n      <td>130.923</td>\n      <td>0</td>\n      <td>2013-08-26</td>\n    </tr>\n    <tr>\n      <th>604829</th>\n      <td>3EOsorrvvIhtlTOoMdEshm</td>\n      <td>Nexperience</td>\n      <td>['3F2Y683ovlWT53WKCeq0oj']</td>\n      <td>['Goodie Mob']</td>\n      <td>5</td>\n      <td>True</td>\n      <td>Solo</td>\n      <td>12</td>\n      <td>1</td>\n      <td>2</td>\n      <td>...</td>\n      <td>0.610</td>\n      <td>0.798</td>\n      <td>0.000660</td>\n      <td>0.5230</td>\n      <td>-6.880</td>\n      <td>0.2730</td>\n      <td>0.6130</td>\n      <td>138.103</td>\n      <td>0</td>\n      <td>2013-08-26</td>\n    </tr>\n    <tr>\n      <th>...</th>\n      <td>...</td>\n      <td>...</td>\n      <td>...</td>\n      <td>...</td>\n      <td>...</td>\n      <td>...</td>\n      <td>...</td>\n      <td>...</td>\n      <td>...</td>\n      <td>...</td>\n      <td>...</td>\n      <td>...</td>\n      <td>...</td>\n      <td>...</td>\n      <td>...</td>\n      <td>...</td>\n      <td>...</td>\n      <td>...</td>\n      <td>...</td>\n      <td>...</td>\n      <td>...</td>\n    </tr>\n    <tr>\n      <th>11098</th>\n      <td>0xAqhyWvTkfcdFgm7dozMO</td>\n      <td>(I Wanna) Testify (Mono Single Version)</td>\n      <td>['1Ve5PoI7i5jIIP1xudo6AB']</td>\n      <td>['The Parliaments']</td>\n      <td>7</td>\n      <td>False</td>\n      <td>Solo</td>\n      <td>10</td>\n      <td>1</td>\n      <td>79</td>\n      <td>...</td>\n      <td>0.668</td>\n      <td>0.702</td>\n      <td>0.000000</td>\n      <td>0.0521</td>\n      <td>-5.750</td>\n      <td>0.0330</td>\n      <td>0.7540</td>\n      <td>105.227</td>\n      <td>1</td>\n      <td>2019-08-23</td>\n    </tr>\n    <tr>\n      <th>10903</th>\n      <td>6zhg8TnVKi90ITDzFKwPr0</td>\n      <td>Swingtown - Alternate Version</td>\n      <td>['6QtGlUje9TIkLrgPZrESuk']</td>\n      <td>['Steve Miller Band']</td>\n      <td>26</td>\n      <td>False</td>\n      <td>Solo</td>\n      <td>5</td>\n      <td>1</td>\n      <td>79</td>\n      <td>...</td>\n      <td>0.459</td>\n      <td>0.764</td>\n      <td>0.000544</td>\n      <td>0.2440</td>\n      <td>-6.662</td>\n      <td>0.0354</td>\n      <td>0.4390</td>\n      <td>124.557</td>\n      <td>1</td>\n      <td>2019-08-23</td>\n    </tr>\n    <tr>\n      <th>5856</th>\n      <td>2GvkFSjRXV0Ii3uYnHiQ74</td>\n      <td>Take My Advice</td>\n      <td>['40PLSl99xXqAQsCQQPmfyM']</td>\n      <td>['Kym Sims']</td>\n      <td>0</td>\n      <td>False</td>\n      <td>Solo</td>\n      <td>10</td>\n      <td>1</td>\n      <td>73</td>\n      <td>...</td>\n      <td>0.737</td>\n      <td>0.814</td>\n      <td>0.392000</td>\n      <td>0.0844</td>\n      <td>-10.396</td>\n      <td>0.0307</td>\n      <td>0.8030</td>\n      <td>120.010</td>\n      <td>1</td>\n      <td>2019-08-23</td>\n    </tr>\n    <tr>\n      <th>5080</th>\n      <td>0lej8CemYKkWVHg77Xe1ky</td>\n      <td>A Man Holdin' on (To a Woman Lettin’ Go)</td>\n      <td>['1Fj0R2t4HaJa3oUe8azB8R', '5LDnSV99gbDSsMX3Dc...</td>\n      <td>['Ty Herndon', 'Anita Cochran']</td>\n      <td>14</td>\n      <td>False</td>\n      <td>Collaboration</td>\n      <td>7</td>\n      <td>2</td>\n      <td>79</td>\n      <td>...</td>\n      <td>0.611</td>\n      <td>0.429</td>\n      <td>0.000014</td>\n      <td>0.1120</td>\n      <td>-8.619</td>\n      <td>0.0298</td>\n      <td>0.2370</td>\n      <td>128.007</td>\n      <td>1</td>\n      <td>2019-08-23</td>\n    </tr>\n    <tr>\n      <th>10666</th>\n      <td>6Fh2QgjCxL96dA3Gtpfr4Q</td>\n      <td>One Sweet Day (16-Bit Mariah Carey &amp; Boyz II M...</td>\n      <td>['1v4YnufenjE9BLAfP90qvt']</td>\n      <td>['Arcade Player']</td>\n      <td>0</td>\n      <td>False</td>\n      <td>Solo</td>\n      <td>27</td>\n      <td>1</td>\n      <td>79</td>\n      <td>...</td>\n      <td>0.395</td>\n      <td>0.405</td>\n      <td>0.745000</td>\n      <td>0.1100</td>\n      <td>-5.559</td>\n      <td>0.0393</td>\n      <td>0.3130</td>\n      <td>194.933</td>\n      <td>1</td>\n      <td>2019-08-26</td>\n    </tr>\n  </tbody>\n</table>\n<p>357166 rows × 26 columns</p>\n</div>"
     },
     "execution_count": 8,
     "metadata": {},
     "output_type": "execute_result"
    }
   ],
   "source": [
    "combined_df"
   ],
   "metadata": {
    "collapsed": false,
    "pycharm": {
     "name": "#%%\n"
    },
    "ExecuteTime": {
     "end_time": "2024-07-26T13:51:29.337187500Z",
     "start_time": "2024-07-26T13:51:29.093189800Z"
    }
   },
   "id": "9e4154b39a1657b1"
  },
  {
   "cell_type": "code",
   "execution_count": 9,
   "outputs": [
    {
     "name": "stdout",
     "output_type": "stream",
     "text": [
      "amount of artists: 13284\n"
     ]
    },
    {
     "data": {
      "text/plain": "                    artist_id            artist_name\n0      1W006EgE9fkSO9CpTnVlqN           James Dooley\n1      3F2Y683ovlWT53WKCeq0oj             Goodie Mob\n2      5xTn6i6eK7dFP98OaOFyBn              Big Fraze\n3      4PzJueOuOBjr0qVlS3RU6w      Christopher Lewis\n4      4eJWDgfm1In7unvUTB1DtE                      V\n...                       ...                    ...\n13279  7gx7lqo98LuOGE0y8ATrRr  On the Town Orchestra\n13280  5UvGRahK1OytDXGTzdf6hV        Humphrey Burton\n13281  0MIlVcFgL7pDFqaZRmYDeE                  Weiss\n13282  2iG0HNCECG2DxXxSUcMhEX                 Naxxos\n13283  2tg1rWk2rWaltTk0baRjRu                 SAKIMA\n\n[13284 rows x 2 columns]",
      "text/html": "<div>\n<style scoped>\n    .dataframe tbody tr th:only-of-type {\n        vertical-align: middle;\n    }\n\n    .dataframe tbody tr th {\n        vertical-align: top;\n    }\n\n    .dataframe thead th {\n        text-align: right;\n    }\n</style>\n<table border=\"1\" class=\"dataframe\">\n  <thead>\n    <tr style=\"text-align: right;\">\n      <th></th>\n      <th>artist_id</th>\n      <th>artist_name</th>\n    </tr>\n  </thead>\n  <tbody>\n    <tr>\n      <th>0</th>\n      <td>1W006EgE9fkSO9CpTnVlqN</td>\n      <td>James Dooley</td>\n    </tr>\n    <tr>\n      <th>1</th>\n      <td>3F2Y683ovlWT53WKCeq0oj</td>\n      <td>Goodie Mob</td>\n    </tr>\n    <tr>\n      <th>2</th>\n      <td>5xTn6i6eK7dFP98OaOFyBn</td>\n      <td>Big Fraze</td>\n    </tr>\n    <tr>\n      <th>3</th>\n      <td>4PzJueOuOBjr0qVlS3RU6w</td>\n      <td>Christopher Lewis</td>\n    </tr>\n    <tr>\n      <th>4</th>\n      <td>4eJWDgfm1In7unvUTB1DtE</td>\n      <td>V</td>\n    </tr>\n    <tr>\n      <th>...</th>\n      <td>...</td>\n      <td>...</td>\n    </tr>\n    <tr>\n      <th>13279</th>\n      <td>7gx7lqo98LuOGE0y8ATrRr</td>\n      <td>On the Town Orchestra</td>\n    </tr>\n    <tr>\n      <th>13280</th>\n      <td>5UvGRahK1OytDXGTzdf6hV</td>\n      <td>Humphrey Burton</td>\n    </tr>\n    <tr>\n      <th>13281</th>\n      <td>0MIlVcFgL7pDFqaZRmYDeE</td>\n      <td>Weiss</td>\n    </tr>\n    <tr>\n      <th>13282</th>\n      <td>2iG0HNCECG2DxXxSUcMhEX</td>\n      <td>Naxxos</td>\n    </tr>\n    <tr>\n      <th>13283</th>\n      <td>2tg1rWk2rWaltTk0baRjRu</td>\n      <td>SAKIMA</td>\n    </tr>\n  </tbody>\n</table>\n<p>13284 rows × 2 columns</p>\n</div>"
     },
     "execution_count": 9,
     "metadata": {},
     "output_type": "execute_result"
    }
   ],
   "source": [
    "# Specify the columns\n",
    "columns = ['artist_id', 'artist_name']\n",
    "\n",
    "# Initialize an empty DataFrame\n",
    "df_artists_train = pd.DataFrame(columns={col: [] for col in columns})\n",
    "\n",
    "count = 0\n",
    "artist_set = set()\n",
    "\n",
    "for _, row in train_df.iterrows():\n",
    "    current_artist_id_list = eval(row[\"id_artists\"])\n",
    "    current_artist_name_list = eval(row[\"name_artists\"])\n",
    "    for cur_art_id, cur_art_name in zip(current_artist_id_list, current_artist_name_list):\n",
    "        if cur_art_id not in artist_set:\n",
    "            artist_set.add(cur_art_id)\n",
    "            df_artists_train.loc[len(df_artists_train)] = [cur_art_id, cur_art_name]\n",
    "            count += 1\n",
    "\n",
    "print(\"amount of artists:\", count)\n",
    "df_artists_train"
   ],
   "metadata": {
    "collapsed": false,
    "pycharm": {
     "name": "#%%\n"
    },
    "ExecuteTime": {
     "end_time": "2024-07-26T13:52:00.070689700Z",
     "start_time": "2024-07-26T13:51:29.348193500Z"
    }
   },
   "id": "4e89192b5a6cf7c4"
  },
  {
   "cell_type": "code",
   "execution_count": 10,
   "outputs": [],
   "source": [
    "import networkx as nx\n",
    "\n",
    "all_artist_ids = artist_set.copy()\n",
    "\n",
    "G = nx.Graph()\n",
    "\n",
    "for id_art_cur in all_artist_ids:\n",
    "    artist_name = df_artists_train[(df_artists_train[\"artist_id\"] == id_art_cur)][\"artist_name\"]\n",
    "    artist_info = df_artists_train[df_artists_train[\"artist_id\"] == id_art_cur]\n",
    "    if not artist_info.empty:  # Check if artist info exists\n",
    "        # Filter out artists who are not successful\n",
    "        node_attrs = {\"name\": artist_name.iloc[0]}\n",
    "        G.add_node(id_art_cur, **node_attrs)\n",
    "    else:\n",
    "        print(\"Artist info not found for ID:\", id_art_cur)\n",
    "\n",
    "for _, row in train_df.iterrows():\n",
    "    artist_ids = list(eval(row[\"id_artists\"]))\n",
    "    artist_names = list(eval(row[\"name_artists\"]))\n",
    "    # Filter out songs that do not have more than one artist in their execution\n",
    "    if len(artist_ids) > 1:\n",
    "        for i in range(len(artist_ids)):\n",
    "            for j in range(i+1, len(artist_ids)):\n",
    "                artist_id_1 = str(artist_ids[i])\n",
    "                lable1 = str(artist_names[i])\n",
    "                artist_id_2 = str(artist_ids[j])\n",
    "                lable2 = str(artist_names[j])\n",
    "                # Check if the edge already exists\n",
    "                if G.has_edge(artist_id_1, artist_id_2):\n",
    "                    # If the edge already exists, increment the weight by 1\n",
    "                    G[artist_id_1][artist_id_2]['weight'] += 2\n",
    "                else:\n",
    "                    # Add a new edge with weight 1\n",
    "                    G.add_edge(artist_id_1, artist_id_2, lable1=lable1, lable2=lable2, weight=2, song_id=str(row[\"song_id\"]), song_name=str(row[\"song_name\"]), explicit=bool(row[\"explicit\"]), song_type=str(row[\"song_type\"]), track_number=int(row[\"track_number\"]), num_artists=int(row[\"num_artists\"]), num_available_markets=int(row[\"num_available_markets\"]), duration_ms=int(row[\"duration_ms\"]), popularity=int(row[\"popularity\"]), release_date=str(row[\"release_date\"]), key = int(row[\"key\"]), mode = int(row[\"mode\"]), time_signature = int(row[\"time_signature\"]), acousticness = float(row[\"acousticness\"]), danceability = float(row[\"danceability\"]), energy = float(row[\"energy\"]), instrumentalness = float(row[\"instrumentalness\"]), liveness = float(row[\"liveness\"]),loudness = float(row[\"loudness\"]), speechiness = float(row[\"speechiness\"]), valence = float(row[\"valence\"]), tempo = float(row[\"tempo\"]))\n",
    "    else:\n",
    "        #prüfe ob die Artists Teil der Interessanten Menge sind\n",
    "        artist_id_1 = str(artist_ids[0])\n",
    "        lable1 = str(artist_names[0])\n",
    "        if not G.has_node(artist_id_1):\n",
    "            node_attrs = {\"name\": lable1}\n",
    "            G.add_node(artist_id_1, **node_attrs)\n",
    "        if G.has_edge(artist_id_1, artist_id_1):\n",
    "            # If the edge already exists, increment the weight by 1\n",
    "            G[artist_id_1][artist_id_1]['weight'] += 2\n",
    "        else:\n",
    "            G.add_edge(artist_id_1, artist_id_1, lable1=lable1, lable2=lable1, weight=2, song_id=str(row[\"song_id\"]), song_name=str(row[\"song_name\"]), explicit=bool(row[\"explicit\"]), song_type=str(row[\"song_type\"]), track_number=int(row[\"track_number\"]), num_artists=int(row[\"num_artists\"]), num_available_markets=int(row[\"num_available_markets\"]), duration_ms=int(row[\"duration_ms\"]), popularity=int(row[\"popularity\"]), release_date=str(row[\"release_date\"]), key = int(row[\"key\"]), mode = int(row[\"mode\"]), time_signature = int(row[\"time_signature\"]), acousticness = float(row[\"acousticness\"]), danceability = float(row[\"danceability\"]), energy = float(row[\"energy\"]), instrumentalness = float(row[\"instrumentalness\"]), liveness = float(row[\"liveness\"]),loudness = float(row[\"loudness\"]), speechiness = float(row[\"speechiness\"]), valence = float(row[\"valence\"]), tempo = float(row[\"tempo\"]))"
   ],
   "metadata": {
    "collapsed": false,
    "pycharm": {
     "name": "#%%\n"
    },
    "ExecuteTime": {
     "end_time": "2024-07-26T13:52:48.989639300Z",
     "start_time": "2024-07-26T13:52:00.079690100Z"
    }
   },
   "id": "13bb7f1a4a4876a5"
  },
  {
   "cell_type": "code",
   "execution_count": 11,
   "outputs": [
    {
     "data": {
      "text/plain": "                    name              Spotify ID\n0                    Ice  28M1A5uL30xJkvZtIjkNmJ\n1           Abra K Dabra  6GRZeIWdgxNDCehiTRcgLw\n2         Bengt Forsberg  2GoPcJyOyFijJa1tbuOx5N\n3                 Aspyer  3LaBw0YCv8D35w9AvePFtF\n4           Adolphe Adam  71VUVLmoTKKYfIugkavMeS\n...                  ...                     ...\n13279             Duofel  0lhWvBv8cKWMteX8a2dEqp\n13280  Carolyn Rodriguez  4GwWE7ttiyhLwYCwSj7eni\n13281      The Real Mack  7Ej7WEMuUzeIXRpDAOn8jB\n13282         Tune-Yards  0asVlqTLu3TimnYVyY5Jxi\n13283      Oliver Moldan  7nVba98WXTSM3YKhwhqRdU\n\n[13284 rows x 2 columns]",
      "text/html": "<div>\n<style scoped>\n    .dataframe tbody tr th:only-of-type {\n        vertical-align: middle;\n    }\n\n    .dataframe tbody tr th {\n        vertical-align: top;\n    }\n\n    .dataframe thead th {\n        text-align: right;\n    }\n</style>\n<table border=\"1\" class=\"dataframe\">\n  <thead>\n    <tr style=\"text-align: right;\">\n      <th></th>\n      <th>name</th>\n      <th>Spotify ID</th>\n    </tr>\n  </thead>\n  <tbody>\n    <tr>\n      <th>0</th>\n      <td>Ice</td>\n      <td>28M1A5uL30xJkvZtIjkNmJ</td>\n    </tr>\n    <tr>\n      <th>1</th>\n      <td>Abra K Dabra</td>\n      <td>6GRZeIWdgxNDCehiTRcgLw</td>\n    </tr>\n    <tr>\n      <th>2</th>\n      <td>Bengt Forsberg</td>\n      <td>2GoPcJyOyFijJa1tbuOx5N</td>\n    </tr>\n    <tr>\n      <th>3</th>\n      <td>Aspyer</td>\n      <td>3LaBw0YCv8D35w9AvePFtF</td>\n    </tr>\n    <tr>\n      <th>4</th>\n      <td>Adolphe Adam</td>\n      <td>71VUVLmoTKKYfIugkavMeS</td>\n    </tr>\n    <tr>\n      <th>...</th>\n      <td>...</td>\n      <td>...</td>\n    </tr>\n    <tr>\n      <th>13279</th>\n      <td>Duofel</td>\n      <td>0lhWvBv8cKWMteX8a2dEqp</td>\n    </tr>\n    <tr>\n      <th>13280</th>\n      <td>Carolyn Rodriguez</td>\n      <td>4GwWE7ttiyhLwYCwSj7eni</td>\n    </tr>\n    <tr>\n      <th>13281</th>\n      <td>The Real Mack</td>\n      <td>7Ej7WEMuUzeIXRpDAOn8jB</td>\n    </tr>\n    <tr>\n      <th>13282</th>\n      <td>Tune-Yards</td>\n      <td>0asVlqTLu3TimnYVyY5Jxi</td>\n    </tr>\n    <tr>\n      <th>13283</th>\n      <td>Oliver Moldan</td>\n      <td>7nVba98WXTSM3YKhwhqRdU</td>\n    </tr>\n  </tbody>\n</table>\n<p>13284 rows × 2 columns</p>\n</div>"
     },
     "execution_count": 11,
     "metadata": {},
     "output_type": "execute_result"
    }
   ],
   "source": [
    "# Assuming G is your NetworkX graph\n",
    "\n",
    "# Extract nodes and their attributes from the graph\n",
    "nodes_with_attributes = [(G.nodes[node], node) for node in G.nodes()]\n",
    "\n",
    "# Create a DataFrame from the nodes and their attributes\n",
    "df_nodes_train = pd.DataFrame(nodes_with_attributes, columns=['Attributes', \"Spotify ID\"])\n",
    "\n",
    "# Normalize the 'Attributes' column to expand it into separate columns\n",
    "df_attributes = pd.json_normalize(df_nodes_train['Attributes'])\n",
    "\n",
    "# Combine the original 'Node' column with the expanded attributes\n",
    "df_nodes_train = pd.concat([df_attributes, df_nodes_train['Spotify ID']], axis=1)\n",
    "\n",
    "# Display the DataFrame\n",
    "df_nodes_train"
   ],
   "metadata": {
    "collapsed": false,
    "pycharm": {
     "name": "#%%\n"
    },
    "ExecuteTime": {
     "end_time": "2024-07-26T13:52:49.064639700Z",
     "start_time": "2024-07-26T13:52:49.033639500Z"
    }
   },
   "id": "a02e5a328f587e87"
  },
  {
   "cell_type": "code",
   "execution_count": 12,
   "outputs": [],
   "source": [
    "df_nodes_train.to_csv(\"network_created/nodes_real_train.csv\", sep='\\t', index=False)"
   ],
   "metadata": {
    "collapsed": false,
    "pycharm": {
     "name": "#%%\n"
    },
    "ExecuteTime": {
     "end_time": "2024-07-26T13:52:49.122641700Z",
     "start_time": "2024-07-26T13:52:49.055641900Z"
    }
   },
   "id": "affbd668a36e7e8a"
  },
  {
   "cell_type": "code",
   "execution_count": 13,
   "outputs": [
    {
     "data": {
      "text/plain": "                       Source                  Target                lable1  \\\n0      28M1A5uL30xJkvZtIjkNmJ  5i4sNA511eWArmRo5hN9Na                   Ice   \n1      6GRZeIWdgxNDCehiTRcgLw  6GRZeIWdgxNDCehiTRcgLw          Abra K Dabra   \n2      2GoPcJyOyFijJa1tbuOx5N  4pFlv4QVInj7bAo0MqHpwW  Anne Sofie von Otter   \n3      3LaBw0YCv8D35w9AvePFtF  2eRJjYEaWyGZbOBGYFLBoC                Aspyer   \n4      71VUVLmoTKKYfIugkavMeS  1sLpCr5xThZkGHLw4H0mNE          Adolphe Adam   \n...                       ...                     ...                   ...   \n17282  4lWmv250WqWOnM0FKmHxiO  4lWmv250WqWOnM0FKmHxiO                   NLW   \n17283  1iNNWK8bYjc5EK0waLk1J1  1iNNWK8bYjc5EK0waLk1J1       Flatt & Scruggs   \n17284  0pEpN1fdyWU1lOs1okfi8A  0pEpN1fdyWU1lOs1okfi8A          Mind Erasure   \n17285  0lhWvBv8cKWMteX8a2dEqp  0lhWvBv8cKWMteX8a2dEqp                Duofel   \n17286  4GwWE7ttiyhLwYCwSj7eni  4GwWE7ttiyhLwYCwSj7eni     Carolyn Rodriguez   \n\n                      lable2  weight                 song_id  \\\n0                 Juan Gotti       4  1Xbvh2tGmfzYjpgDcQdfY3   \n1               Abra K Dabra       8  2EyHxfnGV6SsFfXT535UaR   \n2             Bengt Forsberg       2  42cQZyVqqSrtsM5gt9ZzZc   \n3              The Ready Set       2  03w63zRduntvz23GvTzVDd   \n4      101 Strings Orchestra       2  06q8l149geZvvLkzELVoP6   \n...                      ...     ...                     ...   \n17282                    NLW       2  06DLsYPoFltg5vTDBm10wV   \n17283        Flatt & Scruggs      64  6clbjOwItT5tGApMLQkKZa   \n17284           Mind Erasure       2  7qPIlqpxxjsJsntwiym96N   \n17285                 Duofel       2  6plNVVm5iwbc3mgrAoHRun   \n17286      Carolyn Rodriguez      14  0AHuV1009mDRmFuOQwamMu   \n\n                                    song_name  explicit      song_type  \\\n0                                        Skit      True  Collaboration   \n1                          Groovy Kinda Samba     False           Solo   \n2                               4. Wiegenlied     False  Collaboration   \n3                                    U I Need     False  Collaboration   \n4             O Holy Night (Cantique De Noel)     False  Collaboration   \n...                                       ...       ...            ...   \n17282              Limit Break - Extended Mix     False           Solo   \n17283  He Will Set Your Fields on Fire - Live     False           Solo   \n17284                              Cataphasia     False           Solo   \n17285             Got to Get You Into My Life     False           Solo   \n17286                              Back Me Up      True           Solo   \n\n       track_number  ...  time_signature  acousticness  danceability  energy  \\\n0                12  ...               4      0.792000         0.645  0.7690   \n1                 5  ...               4      0.912000         0.657  0.4700   \n2                27  ...               3      0.993000         0.333  0.0529   \n3                 1  ...               4      0.570000         0.572  0.7600   \n4                10  ...               3      0.951000         0.132  0.1810   \n...             ...  ...             ...           ...           ...     ...   \n17282             1  ...               4      0.004950         0.739  0.9450   \n17283            16  ...               4      0.682000         0.715  0.2540   \n17284            11  ...               4      0.000007         0.312  0.9390   \n17285             3  ...               4      0.706000         0.570  0.4520   \n17286             1  ...               4      0.521000         0.858  0.4380   \n\n      instrumentalness  liveness  loudness  speechiness  valence    tempo  \n0             0.000000     0.257     0.657       0.1080   0.8690   42.673  \n1             0.000137     0.122    -9.987       0.0745   0.7010  120.820  \n2             0.009280     0.103   -25.387       0.0618   0.0776   81.890  \n3             0.000004     0.365    -4.583       0.0414   0.4370  149.963  \n4             0.790000     0.104   -12.342       0.0331   0.0520  144.825  \n...                ...       ...       ...          ...      ...      ...  \n17282         0.885000     0.292    -4.769       0.0582   0.4240  128.004  \n17283         0.000000     0.863   -13.714       0.1760   0.8970  114.888  \n17284         0.466000     0.152    -4.342       0.1310   0.1490  180.172  \n17285         0.907000     0.171    -9.995       0.0304   0.4920   72.945  \n17286         0.000000     0.297    -9.492       0.4070   0.4190  126.930  \n\n[17287 rows x 27 columns]",
      "text/html": "<div>\n<style scoped>\n    .dataframe tbody tr th:only-of-type {\n        vertical-align: middle;\n    }\n\n    .dataframe tbody tr th {\n        vertical-align: top;\n    }\n\n    .dataframe thead th {\n        text-align: right;\n    }\n</style>\n<table border=\"1\" class=\"dataframe\">\n  <thead>\n    <tr style=\"text-align: right;\">\n      <th></th>\n      <th>Source</th>\n      <th>Target</th>\n      <th>lable1</th>\n      <th>lable2</th>\n      <th>weight</th>\n      <th>song_id</th>\n      <th>song_name</th>\n      <th>explicit</th>\n      <th>song_type</th>\n      <th>track_number</th>\n      <th>...</th>\n      <th>time_signature</th>\n      <th>acousticness</th>\n      <th>danceability</th>\n      <th>energy</th>\n      <th>instrumentalness</th>\n      <th>liveness</th>\n      <th>loudness</th>\n      <th>speechiness</th>\n      <th>valence</th>\n      <th>tempo</th>\n    </tr>\n  </thead>\n  <tbody>\n    <tr>\n      <th>0</th>\n      <td>28M1A5uL30xJkvZtIjkNmJ</td>\n      <td>5i4sNA511eWArmRo5hN9Na</td>\n      <td>Ice</td>\n      <td>Juan Gotti</td>\n      <td>4</td>\n      <td>1Xbvh2tGmfzYjpgDcQdfY3</td>\n      <td>Skit</td>\n      <td>True</td>\n      <td>Collaboration</td>\n      <td>12</td>\n      <td>...</td>\n      <td>4</td>\n      <td>0.792000</td>\n      <td>0.645</td>\n      <td>0.7690</td>\n      <td>0.000000</td>\n      <td>0.257</td>\n      <td>0.657</td>\n      <td>0.1080</td>\n      <td>0.8690</td>\n      <td>42.673</td>\n    </tr>\n    <tr>\n      <th>1</th>\n      <td>6GRZeIWdgxNDCehiTRcgLw</td>\n      <td>6GRZeIWdgxNDCehiTRcgLw</td>\n      <td>Abra K Dabra</td>\n      <td>Abra K Dabra</td>\n      <td>8</td>\n      <td>2EyHxfnGV6SsFfXT535UaR</td>\n      <td>Groovy Kinda Samba</td>\n      <td>False</td>\n      <td>Solo</td>\n      <td>5</td>\n      <td>...</td>\n      <td>4</td>\n      <td>0.912000</td>\n      <td>0.657</td>\n      <td>0.4700</td>\n      <td>0.000137</td>\n      <td>0.122</td>\n      <td>-9.987</td>\n      <td>0.0745</td>\n      <td>0.7010</td>\n      <td>120.820</td>\n    </tr>\n    <tr>\n      <th>2</th>\n      <td>2GoPcJyOyFijJa1tbuOx5N</td>\n      <td>4pFlv4QVInj7bAo0MqHpwW</td>\n      <td>Anne Sofie von Otter</td>\n      <td>Bengt Forsberg</td>\n      <td>2</td>\n      <td>42cQZyVqqSrtsM5gt9ZzZc</td>\n      <td>4. Wiegenlied</td>\n      <td>False</td>\n      <td>Collaboration</td>\n      <td>27</td>\n      <td>...</td>\n      <td>3</td>\n      <td>0.993000</td>\n      <td>0.333</td>\n      <td>0.0529</td>\n      <td>0.009280</td>\n      <td>0.103</td>\n      <td>-25.387</td>\n      <td>0.0618</td>\n      <td>0.0776</td>\n      <td>81.890</td>\n    </tr>\n    <tr>\n      <th>3</th>\n      <td>3LaBw0YCv8D35w9AvePFtF</td>\n      <td>2eRJjYEaWyGZbOBGYFLBoC</td>\n      <td>Aspyer</td>\n      <td>The Ready Set</td>\n      <td>2</td>\n      <td>03w63zRduntvz23GvTzVDd</td>\n      <td>U I Need</td>\n      <td>False</td>\n      <td>Collaboration</td>\n      <td>1</td>\n      <td>...</td>\n      <td>4</td>\n      <td>0.570000</td>\n      <td>0.572</td>\n      <td>0.7600</td>\n      <td>0.000004</td>\n      <td>0.365</td>\n      <td>-4.583</td>\n      <td>0.0414</td>\n      <td>0.4370</td>\n      <td>149.963</td>\n    </tr>\n    <tr>\n      <th>4</th>\n      <td>71VUVLmoTKKYfIugkavMeS</td>\n      <td>1sLpCr5xThZkGHLw4H0mNE</td>\n      <td>Adolphe Adam</td>\n      <td>101 Strings Orchestra</td>\n      <td>2</td>\n      <td>06q8l149geZvvLkzELVoP6</td>\n      <td>O Holy Night (Cantique De Noel)</td>\n      <td>False</td>\n      <td>Collaboration</td>\n      <td>10</td>\n      <td>...</td>\n      <td>3</td>\n      <td>0.951000</td>\n      <td>0.132</td>\n      <td>0.1810</td>\n      <td>0.790000</td>\n      <td>0.104</td>\n      <td>-12.342</td>\n      <td>0.0331</td>\n      <td>0.0520</td>\n      <td>144.825</td>\n    </tr>\n    <tr>\n      <th>...</th>\n      <td>...</td>\n      <td>...</td>\n      <td>...</td>\n      <td>...</td>\n      <td>...</td>\n      <td>...</td>\n      <td>...</td>\n      <td>...</td>\n      <td>...</td>\n      <td>...</td>\n      <td>...</td>\n      <td>...</td>\n      <td>...</td>\n      <td>...</td>\n      <td>...</td>\n      <td>...</td>\n      <td>...</td>\n      <td>...</td>\n      <td>...</td>\n      <td>...</td>\n      <td>...</td>\n    </tr>\n    <tr>\n      <th>17282</th>\n      <td>4lWmv250WqWOnM0FKmHxiO</td>\n      <td>4lWmv250WqWOnM0FKmHxiO</td>\n      <td>NLW</td>\n      <td>NLW</td>\n      <td>2</td>\n      <td>06DLsYPoFltg5vTDBm10wV</td>\n      <td>Limit Break - Extended Mix</td>\n      <td>False</td>\n      <td>Solo</td>\n      <td>1</td>\n      <td>...</td>\n      <td>4</td>\n      <td>0.004950</td>\n      <td>0.739</td>\n      <td>0.9450</td>\n      <td>0.885000</td>\n      <td>0.292</td>\n      <td>-4.769</td>\n      <td>0.0582</td>\n      <td>0.4240</td>\n      <td>128.004</td>\n    </tr>\n    <tr>\n      <th>17283</th>\n      <td>1iNNWK8bYjc5EK0waLk1J1</td>\n      <td>1iNNWK8bYjc5EK0waLk1J1</td>\n      <td>Flatt &amp; Scruggs</td>\n      <td>Flatt &amp; Scruggs</td>\n      <td>64</td>\n      <td>6clbjOwItT5tGApMLQkKZa</td>\n      <td>He Will Set Your Fields on Fire - Live</td>\n      <td>False</td>\n      <td>Solo</td>\n      <td>16</td>\n      <td>...</td>\n      <td>4</td>\n      <td>0.682000</td>\n      <td>0.715</td>\n      <td>0.2540</td>\n      <td>0.000000</td>\n      <td>0.863</td>\n      <td>-13.714</td>\n      <td>0.1760</td>\n      <td>0.8970</td>\n      <td>114.888</td>\n    </tr>\n    <tr>\n      <th>17284</th>\n      <td>0pEpN1fdyWU1lOs1okfi8A</td>\n      <td>0pEpN1fdyWU1lOs1okfi8A</td>\n      <td>Mind Erasure</td>\n      <td>Mind Erasure</td>\n      <td>2</td>\n      <td>7qPIlqpxxjsJsntwiym96N</td>\n      <td>Cataphasia</td>\n      <td>False</td>\n      <td>Solo</td>\n      <td>11</td>\n      <td>...</td>\n      <td>4</td>\n      <td>0.000007</td>\n      <td>0.312</td>\n      <td>0.9390</td>\n      <td>0.466000</td>\n      <td>0.152</td>\n      <td>-4.342</td>\n      <td>0.1310</td>\n      <td>0.1490</td>\n      <td>180.172</td>\n    </tr>\n    <tr>\n      <th>17285</th>\n      <td>0lhWvBv8cKWMteX8a2dEqp</td>\n      <td>0lhWvBv8cKWMteX8a2dEqp</td>\n      <td>Duofel</td>\n      <td>Duofel</td>\n      <td>2</td>\n      <td>6plNVVm5iwbc3mgrAoHRun</td>\n      <td>Got to Get You Into My Life</td>\n      <td>False</td>\n      <td>Solo</td>\n      <td>3</td>\n      <td>...</td>\n      <td>4</td>\n      <td>0.706000</td>\n      <td>0.570</td>\n      <td>0.4520</td>\n      <td>0.907000</td>\n      <td>0.171</td>\n      <td>-9.995</td>\n      <td>0.0304</td>\n      <td>0.4920</td>\n      <td>72.945</td>\n    </tr>\n    <tr>\n      <th>17286</th>\n      <td>4GwWE7ttiyhLwYCwSj7eni</td>\n      <td>4GwWE7ttiyhLwYCwSj7eni</td>\n      <td>Carolyn Rodriguez</td>\n      <td>Carolyn Rodriguez</td>\n      <td>14</td>\n      <td>0AHuV1009mDRmFuOQwamMu</td>\n      <td>Back Me Up</td>\n      <td>True</td>\n      <td>Solo</td>\n      <td>1</td>\n      <td>...</td>\n      <td>4</td>\n      <td>0.521000</td>\n      <td>0.858</td>\n      <td>0.4380</td>\n      <td>0.000000</td>\n      <td>0.297</td>\n      <td>-9.492</td>\n      <td>0.4070</td>\n      <td>0.4190</td>\n      <td>126.930</td>\n    </tr>\n  </tbody>\n</table>\n<p>17287 rows × 27 columns</p>\n</div>"
     },
     "execution_count": 13,
     "metadata": {},
     "output_type": "execute_result"
    }
   ],
   "source": [
    "# Extract edges and their attributes from the graph\n",
    "edges_with_attributes = [(u, v, G.edges[u, v]) for u, v in G.edges()]\n",
    "\n",
    "# Create a DataFrame from the edges and their attributes\n",
    "df_edges_train = pd.DataFrame(edges_with_attributes, columns=['Source', 'Target', 'Attributes'])\n",
    "\n",
    "# Normalize the 'Attributes' column to expand it into separate columns\n",
    "df_edge_attributes = pd.json_normalize(df_edges_train['Attributes'])\n",
    "\n",
    "# Combine the original 'Attributes' column with the expanded attributes\n",
    "df_edges_train = pd.concat([df_edges_train[['Source', 'Target']], df_edge_attributes], axis=1)\n",
    "df_edges_train"
   ],
   "metadata": {
    "collapsed": false,
    "pycharm": {
     "name": "#%%\n"
    },
    "ExecuteTime": {
     "end_time": "2024-07-26T13:52:49.532639700Z",
     "start_time": "2024-07-26T13:52:49.193641600Z"
    }
   },
   "id": "b94ca6391b6c88f8"
  },
  {
   "cell_type": "code",
   "execution_count": 14,
   "outputs": [],
   "source": [
    "# Save edge DataFrame to CSV\n",
    "df_edges_train.to_csv('network_created/edges_real_train.csv', sep='\\t', index=False)"
   ],
   "metadata": {
    "collapsed": false,
    "pycharm": {
     "name": "#%%\n"
    },
    "ExecuteTime": {
     "end_time": "2024-07-26T13:52:49.760640900Z",
     "start_time": "2024-07-26T13:52:49.521640900Z"
    }
   },
   "id": "8cf334b81ab892a9"
  },
  {
   "cell_type": "code",
   "execution_count": 15,
   "outputs": [
    {
     "name": "stdout",
     "output_type": "stream",
     "text": [
      "Number of nodes: 13284\n",
      "Number of edges: 17287\n"
     ]
    }
   ],
   "source": [
    "num_nodes = G.number_of_nodes()\n",
    "num_edges = G.number_of_edges()\n",
    "print(\"Number of nodes:\", num_nodes)\n",
    "print(\"Number of edges:\", num_edges)\n"
   ],
   "metadata": {
    "collapsed": false,
    "pycharm": {
     "name": "#%%\n"
    },
    "ExecuteTime": {
     "end_time": "2024-07-26T13:52:49.808639900Z",
     "start_time": "2024-07-26T13:52:49.759641100Z"
    }
   },
   "id": "ed2d73175e8f4ff7"
  },
  {
   "cell_type": "code",
   "execution_count": 16,
   "outputs": [
    {
     "name": "stdout",
     "output_type": "stream",
     "text": [
      "amount of artists: 5902\n"
     ]
    },
    {
     "data": {
      "text/plain": "                   artist_id          artist_name\n0     0KMJUP87x4ERfwSNYvkttw         Sandgrounder\n1     3OpJxAHfT0KsJzQqdX5SLb         Ginger Tunes\n2     6BkcAbUkfIBM4XudxieMq8            Dr. Alban\n3     2iAAXHZCgL2E1zqj204GEh         Jacci McGhee\n4     21VBNkZvKxrI9zmfFRxXvn         8-Bit Arcade\n...                      ...                  ...\n5897  3Y9xnCbmXGhmpJymwpnxCz  Crispian St. Peters\n5898  5NDMothbpdpq2xHqSjrrWn          Faith Evans\n5899  1Ve5PoI7i5jIIP1xudo6AB      The Parliaments\n5900  40PLSl99xXqAQsCQQPmfyM             Kym Sims\n5901  5LDnSV99gbDSsMX3Dcer2b        Anita Cochran\n\n[5902 rows x 2 columns]",
      "text/html": "<div>\n<style scoped>\n    .dataframe tbody tr th:only-of-type {\n        vertical-align: middle;\n    }\n\n    .dataframe tbody tr th {\n        vertical-align: top;\n    }\n\n    .dataframe thead th {\n        text-align: right;\n    }\n</style>\n<table border=\"1\" class=\"dataframe\">\n  <thead>\n    <tr style=\"text-align: right;\">\n      <th></th>\n      <th>artist_id</th>\n      <th>artist_name</th>\n    </tr>\n  </thead>\n  <tbody>\n    <tr>\n      <th>0</th>\n      <td>0KMJUP87x4ERfwSNYvkttw</td>\n      <td>Sandgrounder</td>\n    </tr>\n    <tr>\n      <th>1</th>\n      <td>3OpJxAHfT0KsJzQqdX5SLb</td>\n      <td>Ginger Tunes</td>\n    </tr>\n    <tr>\n      <th>2</th>\n      <td>6BkcAbUkfIBM4XudxieMq8</td>\n      <td>Dr. Alban</td>\n    </tr>\n    <tr>\n      <th>3</th>\n      <td>2iAAXHZCgL2E1zqj204GEh</td>\n      <td>Jacci McGhee</td>\n    </tr>\n    <tr>\n      <th>4</th>\n      <td>21VBNkZvKxrI9zmfFRxXvn</td>\n      <td>8-Bit Arcade</td>\n    </tr>\n    <tr>\n      <th>...</th>\n      <td>...</td>\n      <td>...</td>\n    </tr>\n    <tr>\n      <th>5897</th>\n      <td>3Y9xnCbmXGhmpJymwpnxCz</td>\n      <td>Crispian St. Peters</td>\n    </tr>\n    <tr>\n      <th>5898</th>\n      <td>5NDMothbpdpq2xHqSjrrWn</td>\n      <td>Faith Evans</td>\n    </tr>\n    <tr>\n      <th>5899</th>\n      <td>1Ve5PoI7i5jIIP1xudo6AB</td>\n      <td>The Parliaments</td>\n    </tr>\n    <tr>\n      <th>5900</th>\n      <td>40PLSl99xXqAQsCQQPmfyM</td>\n      <td>Kym Sims</td>\n    </tr>\n    <tr>\n      <th>5901</th>\n      <td>5LDnSV99gbDSsMX3Dcer2b</td>\n      <td>Anita Cochran</td>\n    </tr>\n  </tbody>\n</table>\n<p>5902 rows × 2 columns</p>\n</div>"
     },
     "execution_count": 16,
     "metadata": {},
     "output_type": "execute_result"
    }
   ],
   "source": [
    "# Specify the columns\n",
    "columns = ['artist_id', 'artist_name']\n",
    "\n",
    "# Initialize an empty DataFrame\n",
    "df_artists_test = pd.DataFrame(columns={col: [] for col in columns})\n",
    "\n",
    "count = 0\n",
    "artist_set = set()\n",
    "\n",
    "for _, row in test_df.iterrows():\n",
    "    current_artist_id_list = eval(row[\"id_artists\"])\n",
    "    current_artist_name_list = eval(row[\"name_artists\"])\n",
    "    for cur_art_id, cur_art_name in zip(current_artist_id_list, current_artist_name_list):\n",
    "        if cur_art_id not in artist_set:\n",
    "            artist_set.add(cur_art_id)\n",
    "            df_artists_test.loc[len(df_artists_test)] = [cur_art_id, cur_art_name]\n",
    "            count += 1\n",
    "\n",
    "print(\"amount of artists:\", count)\n",
    "df_artists_test"
   ],
   "metadata": {
    "collapsed": false,
    "pycharm": {
     "name": "#%%\n"
    },
    "ExecuteTime": {
     "end_time": "2024-07-26T13:52:57.310240300Z",
     "start_time": "2024-07-26T13:52:49.769644Z"
    }
   },
   "id": "debfdb478f00e0a8"
  },
  {
   "cell_type": "code",
   "execution_count": 17,
   "outputs": [],
   "source": [
    "import networkx as nx\n",
    "\n",
    "all_artist_ids = artist_set.copy()\n",
    "\n",
    "G2 = nx.Graph()\n",
    "\n",
    "for id_art_cur in all_artist_ids:\n",
    "    artist_name = df_artists_test[(df_artists_test[\"artist_id\"] == id_art_cur)][\"artist_name\"]\n",
    "    artist_info = df_artists_test[df_artists_test[\"artist_id\"] == id_art_cur]\n",
    "    if not artist_info.empty:  # Check if artist info exists\n",
    "        # Filter out artists who are not successful\n",
    "        node_attrs = {\"name\": artist_name.iloc[0]}\n",
    "        G2.add_node(id_art_cur, **node_attrs)\n",
    "    else:\n",
    "        print(\"Artist info not found for ID:\", id_art_cur)\n",
    "\n",
    "for _, row in test_df.iterrows():\n",
    "    artist_ids = list(eval(row[\"id_artists\"]))\n",
    "    artist_names = list(eval(row[\"name_artists\"]))\n",
    "    # Filter out songs that do not have more than one artist in their execution\n",
    "    if len(artist_ids) > 1:\n",
    "        for i in range(len(artist_ids)):\n",
    "            for j in range(i+1, len(artist_ids)):\n",
    "                artist_id_1 = str(artist_ids[i])\n",
    "                lable1 = str(artist_names[i])\n",
    "                artist_id_2 = str(artist_ids[j])\n",
    "                lable2 = str(artist_names[j])\n",
    "                # Check if the edge already exists\n",
    "                if G2.has_edge(artist_id_1, artist_id_2):\n",
    "                    # If the edge already exists, increment the weight by 1\n",
    "                    G2[artist_id_1][artist_id_2]['weight'] += 2\n",
    "                else:\n",
    "                    # Add a new edge with weight 1\n",
    "                    G2.add_edge(artist_id_1, artist_id_2, lable1=lable1, lable2=lable2, weight=2, song_id=str(row[\"song_id\"]), song_name=str(row[\"song_name\"]), explicit=bool(row[\"explicit\"]), song_type=str(row[\"song_type\"]), track_number=int(row[\"track_number\"]), num_artists=int(row[\"num_artists\"]), num_available_markets=int(row[\"num_available_markets\"]), duration_ms=int(row[\"duration_ms\"]), popularity=int(row[\"popularity\"]), release_date=str(row[\"release_date\"]), key = int(row[\"key\"]), mode = int(row[\"mode\"]), time_signature = int(row[\"time_signature\"]), acousticness = float(row[\"acousticness\"]), danceability = float(row[\"danceability\"]), energy = float(row[\"energy\"]), instrumentalness = float(row[\"instrumentalness\"]), liveness = float(row[\"liveness\"]),loudness = float(row[\"loudness\"]), speechiness = float(row[\"speechiness\"]), valence = float(row[\"valence\"]), tempo = float(row[\"tempo\"]))\n",
    "    else:\n",
    "        #prüfe ob die Artists Teil der Interessanten Menge sind\n",
    "        artist_id_1 = str(artist_ids[0])\n",
    "        lable1 = str(artist_names[0])\n",
    "        if not G2.has_node(artist_id_1):\n",
    "            node_attrs = {\"name\": lable1}\n",
    "            G2.add_node(artist_id_1, **node_attrs)\n",
    "        if G2.has_edge(artist_id_1, artist_id_1):\n",
    "            # If the edge already exists, increment the weight by 1\n",
    "            G2[artist_id_1][artist_id_1]['weight'] += 2\n",
    "        else:\n",
    "            G2.add_edge(artist_id_1, artist_id_1, lable1=lable1, lable2=lable1, weight=2, song_id=str(row[\"song_id\"]), song_name=str(row[\"song_name\"]), explicit=bool(row[\"explicit\"]), song_type=str(row[\"song_type\"]), track_number=int(row[\"track_number\"]), num_artists=int(row[\"num_artists\"]), num_available_markets=int(row[\"num_available_markets\"]), duration_ms=int(row[\"duration_ms\"]), popularity=int(row[\"popularity\"]), release_date=str(row[\"release_date\"]), key = int(row[\"key\"]), mode = int(row[\"mode\"]), time_signature = int(row[\"time_signature\"]), acousticness = float(row[\"acousticness\"]), danceability = float(row[\"danceability\"]), energy = float(row[\"energy\"]), instrumentalness = float(row[\"instrumentalness\"]), liveness = float(row[\"liveness\"]),loudness = float(row[\"loudness\"]), speechiness = float(row[\"speechiness\"]), valence = float(row[\"valence\"]), tempo = float(row[\"tempo\"]))"
   ],
   "metadata": {
    "collapsed": false,
    "pycharm": {
     "name": "#%%\n"
    },
    "ExecuteTime": {
     "end_time": "2024-07-26T13:53:07.018636600Z",
     "start_time": "2024-07-26T13:52:57.290241400Z"
    }
   },
   "id": "fe0fb448adf18ca8"
  },
  {
   "cell_type": "code",
   "execution_count": 18,
   "outputs": [
    {
     "data": {
      "text/plain": "                         name              Spotify ID\n0              Frankie Avalon  5zNOI87gG4RttFmYAZWaxQ\n1             Cuarteto Patria  4Ui5j0V10gw9x6KF7yiGSG\n2                 Dixie Still  4iAFiH8xcXELZde9qVAzap\n3             Bailey Phillips  4WLAatMOY8JxO6IPZZeN72\n4             Joshua Ellicott  7vr8CdAjEb77OsStfcu8If\n...                       ...                     ...\n5897       blondewearingblack  1EavuIfVck3ulPgi4gnXaJ\n5898              Chris Young  4BYxqVkZyFjtik7crYLg5Q\n5899  Duglen Fernández Daquin  4C8JgyJMGHnToNrziYfwmn\n5900               Tune-Yards  0asVlqTLu3TimnYVyY5Jxi\n5901          Johnny Paycheck  0DchahWJGQqrqr8PMM5zQD\n\n[5902 rows x 2 columns]",
      "text/html": "<div>\n<style scoped>\n    .dataframe tbody tr th:only-of-type {\n        vertical-align: middle;\n    }\n\n    .dataframe tbody tr th {\n        vertical-align: top;\n    }\n\n    .dataframe thead th {\n        text-align: right;\n    }\n</style>\n<table border=\"1\" class=\"dataframe\">\n  <thead>\n    <tr style=\"text-align: right;\">\n      <th></th>\n      <th>name</th>\n      <th>Spotify ID</th>\n    </tr>\n  </thead>\n  <tbody>\n    <tr>\n      <th>0</th>\n      <td>Frankie Avalon</td>\n      <td>5zNOI87gG4RttFmYAZWaxQ</td>\n    </tr>\n    <tr>\n      <th>1</th>\n      <td>Cuarteto Patria</td>\n      <td>4Ui5j0V10gw9x6KF7yiGSG</td>\n    </tr>\n    <tr>\n      <th>2</th>\n      <td>Dixie Still</td>\n      <td>4iAFiH8xcXELZde9qVAzap</td>\n    </tr>\n    <tr>\n      <th>3</th>\n      <td>Bailey Phillips</td>\n      <td>4WLAatMOY8JxO6IPZZeN72</td>\n    </tr>\n    <tr>\n      <th>4</th>\n      <td>Joshua Ellicott</td>\n      <td>7vr8CdAjEb77OsStfcu8If</td>\n    </tr>\n    <tr>\n      <th>...</th>\n      <td>...</td>\n      <td>...</td>\n    </tr>\n    <tr>\n      <th>5897</th>\n      <td>blondewearingblack</td>\n      <td>1EavuIfVck3ulPgi4gnXaJ</td>\n    </tr>\n    <tr>\n      <th>5898</th>\n      <td>Chris Young</td>\n      <td>4BYxqVkZyFjtik7crYLg5Q</td>\n    </tr>\n    <tr>\n      <th>5899</th>\n      <td>Duglen Fernández Daquin</td>\n      <td>4C8JgyJMGHnToNrziYfwmn</td>\n    </tr>\n    <tr>\n      <th>5900</th>\n      <td>Tune-Yards</td>\n      <td>0asVlqTLu3TimnYVyY5Jxi</td>\n    </tr>\n    <tr>\n      <th>5901</th>\n      <td>Johnny Paycheck</td>\n      <td>0DchahWJGQqrqr8PMM5zQD</td>\n    </tr>\n  </tbody>\n</table>\n<p>5902 rows × 2 columns</p>\n</div>"
     },
     "execution_count": 18,
     "metadata": {},
     "output_type": "execute_result"
    }
   ],
   "source": [
    "# Assuming G is your NetworkX graph\n",
    "\n",
    "# Extract nodes and their attributes from the graph\n",
    "nodes_with_attributes = [(G2.nodes[node], node) for node in G2.nodes()]\n",
    "\n",
    "# Create a DataFrame from the nodes and their attributes\n",
    "df_nodes_test = pd.DataFrame(nodes_with_attributes, columns=['Attributes', \"Spotify ID\"])\n",
    "\n",
    "# Normalize the 'Attributes' column to expand it into separate columns\n",
    "df_attributes = pd.json_normalize(df_nodes_test['Attributes'])\n",
    "\n",
    "# Combine the original 'Node' column with the expanded attributes\n",
    "df_nodes_test = pd.concat([df_attributes, df_nodes_test['Spotify ID']], axis=1)\n",
    "\n",
    "# Display the DataFrame\n",
    "df_nodes_test"
   ],
   "metadata": {
    "collapsed": false,
    "pycharm": {
     "name": "#%%\n"
    },
    "ExecuteTime": {
     "end_time": "2024-07-26T13:53:07.054639900Z",
     "start_time": "2024-07-26T13:53:07.026637300Z"
    }
   },
   "id": "4b5d80bd0f928513"
  },
  {
   "cell_type": "code",
   "execution_count": 19,
   "outputs": [],
   "source": [
    "df_nodes_test.to_csv(\"network_created/nodes_real_test.csv\", sep='\\t', index=False)"
   ],
   "metadata": {
    "collapsed": false,
    "pycharm": {
     "name": "#%%\n"
    },
    "ExecuteTime": {
     "end_time": "2024-07-26T13:53:07.128637500Z",
     "start_time": "2024-07-26T13:53:07.052639300Z"
    }
   },
   "id": "eeab99250e649d7a"
  },
  {
   "cell_type": "code",
   "execution_count": 20,
   "outputs": [
    {
     "data": {
      "text/plain": "                      Source                  Target  \\\n0     5zNOI87gG4RttFmYAZWaxQ  5zNOI87gG4RttFmYAZWaxQ   \n1     4Ui5j0V10gw9x6KF7yiGSG  30UIjoCGuL3Fa5BOc3ayNW   \n2     4iAFiH8xcXELZde9qVAzap  4iAFiH8xcXELZde9qVAzap   \n3     4WLAatMOY8JxO6IPZZeN72  1OanUPixWzHMkR1tP5ByoM   \n4     7vr8CdAjEb77OsStfcu8If  4gNi0FcGr0mqvS38AmQwBQ   \n...                      ...                     ...   \n6586  7wETQvxhxwciz6Dw2Hx6VH  7wETQvxhxwciz6Dw2Hx6VH   \n6587  2BZDbnjUHnL2XAPgkdqTpb  2BZDbnjUHnL2XAPgkdqTpb   \n6588  07T0ORBA5ocwDSfEgW07w4  07T0ORBA5ocwDSfEgW07w4   \n6589  4BYxqVkZyFjtik7crYLg5Q  4BYxqVkZyFjtik7crYLg5Q   \n6590  0DchahWJGQqrqr8PMM5zQD  0DchahWJGQqrqr8PMM5zQD   \n\n                             lable1                         lable2  weight  \\\n0                    Frankie Avalon                 Frankie Avalon       8   \n1                      Manu Dibango                Cuarteto Patria      22   \n2                       Dixie Still                    Dixie Still       2   \n3                        Enzo André                Bailey Phillips       2   \n4                     Patrick Hawes                Joshua Ellicott       2   \n...                             ...                            ...     ...   \n6586  Duane Eddy And The Rebelettes  Duane Eddy And The Rebelettes       2   \n6587           Jennifer Love Hewitt           Jennifer Love Hewitt       8   \n6588                       GYSNOIZE                       GYSNOIZE       6   \n6589                    Chris Young                    Chris Young       4   \n6590                Johnny Paycheck                Johnny Paycheck      48   \n\n                     song_id  \\\n0     3wY1zxGZK5bQAeNEaLnUFz   \n1     3sguwzQ6yFKV4bOlaWkODj   \n2     0QY0uSCVyNa0to96RpbPxN   \n3     1je5GZx3OpafNvTTDRoUut   \n4     16ur2WxhKInHTAJNOvJfaS   \n...                      ...   \n6586  5I2BN42MnCPGBTjHxl63es   \n6587  3vOy5fxCMoWrn26krafzjQ   \n6588  4H7k6PQSDB8ziFdZj5dnTH   \n6589  6voi5xnLs9JKmWG2oLmgDU   \n6590  6FMtXaEycBjLgpPcumJpjJ   \n\n                                              song_name  explicit  \\\n0                                      Why - Rerecorded     False   \n1                                         El Paralitico     False   \n2                                    I Fell for Memphis     False   \n3                                             Promesses     False   \n4     The Great War Symphony / 4. Finale: Tenor 'Tel...     False   \n...                                                 ...       ...   \n6586                                        Boss Guitar     False   \n6587                            Something to Talk About     False   \n6588                                  Walk in the Night     False   \n6589                                  Raised on Country     False   \n6590                                   Georgia in a Jug     False   \n\n          song_type  track_number  ...  time_signature  acousticness  \\\n0              Solo             1  ...               4       0.07680   \n1     Collaboration            10  ...               4       0.53800   \n2              Solo            23  ...               4       0.00214   \n3     Collaboration            15  ...               4       0.19000   \n4     Collaboration            21  ...               4       0.96500   \n...             ...           ...  ...             ...           ...   \n6586           Solo             9  ...               4       0.42400   \n6587           Solo             2  ...               4       0.02710   \n6588           Solo             3  ...               4       0.04110   \n6589           Solo             1  ...               4       0.39500   \n6590           Solo             5  ...               4       0.24900   \n\n      danceability  energy instrumentalness  liveness  loudness  speechiness  \\\n0            0.587  0.2150         0.000000    0.6450   -19.330       0.0314   \n1            0.399  0.7370         0.000159    0.0796    -5.234       0.0315   \n2            0.522  0.8740         0.000001    0.5620    -4.075       0.0351   \n3            0.769  0.6200         0.000000    0.0678    -7.423       0.0419   \n4            0.236  0.0135         0.000361    0.1940   -30.191       0.0457   \n...            ...     ...              ...       ...       ...          ...   \n6586         0.569  0.9320         0.001980    0.1220    -4.149       0.1530   \n6587         0.657  0.7460         0.000000    0.1050    -5.815       0.0252   \n6588         0.716  0.7030         0.941000    0.0913   -12.245       0.0641   \n6589         0.572  0.7940         0.000000    0.2300    -3.224       0.0455   \n6590         0.733  0.4040         0.000000    0.1320   -16.405       0.0307   \n\n      valence    tempo  \n0      0.6970  105.230  \n1      0.9020   95.301  \n2      0.5600  105.003  \n3      0.6170  123.994  \n4      0.0384  116.404  \n...       ...      ...  \n6586   0.8140  172.249  \n6587   0.7910  106.043  \n6588   0.3990  159.970  \n6589   0.7900  148.095  \n6590   0.8520  118.858  \n\n[6591 rows x 27 columns]",
      "text/html": "<div>\n<style scoped>\n    .dataframe tbody tr th:only-of-type {\n        vertical-align: middle;\n    }\n\n    .dataframe tbody tr th {\n        vertical-align: top;\n    }\n\n    .dataframe thead th {\n        text-align: right;\n    }\n</style>\n<table border=\"1\" class=\"dataframe\">\n  <thead>\n    <tr style=\"text-align: right;\">\n      <th></th>\n      <th>Source</th>\n      <th>Target</th>\n      <th>lable1</th>\n      <th>lable2</th>\n      <th>weight</th>\n      <th>song_id</th>\n      <th>song_name</th>\n      <th>explicit</th>\n      <th>song_type</th>\n      <th>track_number</th>\n      <th>...</th>\n      <th>time_signature</th>\n      <th>acousticness</th>\n      <th>danceability</th>\n      <th>energy</th>\n      <th>instrumentalness</th>\n      <th>liveness</th>\n      <th>loudness</th>\n      <th>speechiness</th>\n      <th>valence</th>\n      <th>tempo</th>\n    </tr>\n  </thead>\n  <tbody>\n    <tr>\n      <th>0</th>\n      <td>5zNOI87gG4RttFmYAZWaxQ</td>\n      <td>5zNOI87gG4RttFmYAZWaxQ</td>\n      <td>Frankie Avalon</td>\n      <td>Frankie Avalon</td>\n      <td>8</td>\n      <td>3wY1zxGZK5bQAeNEaLnUFz</td>\n      <td>Why - Rerecorded</td>\n      <td>False</td>\n      <td>Solo</td>\n      <td>1</td>\n      <td>...</td>\n      <td>4</td>\n      <td>0.07680</td>\n      <td>0.587</td>\n      <td>0.2150</td>\n      <td>0.000000</td>\n      <td>0.6450</td>\n      <td>-19.330</td>\n      <td>0.0314</td>\n      <td>0.6970</td>\n      <td>105.230</td>\n    </tr>\n    <tr>\n      <th>1</th>\n      <td>4Ui5j0V10gw9x6KF7yiGSG</td>\n      <td>30UIjoCGuL3Fa5BOc3ayNW</td>\n      <td>Manu Dibango</td>\n      <td>Cuarteto Patria</td>\n      <td>22</td>\n      <td>3sguwzQ6yFKV4bOlaWkODj</td>\n      <td>El Paralitico</td>\n      <td>False</td>\n      <td>Collaboration</td>\n      <td>10</td>\n      <td>...</td>\n      <td>4</td>\n      <td>0.53800</td>\n      <td>0.399</td>\n      <td>0.7370</td>\n      <td>0.000159</td>\n      <td>0.0796</td>\n      <td>-5.234</td>\n      <td>0.0315</td>\n      <td>0.9020</td>\n      <td>95.301</td>\n    </tr>\n    <tr>\n      <th>2</th>\n      <td>4iAFiH8xcXELZde9qVAzap</td>\n      <td>4iAFiH8xcXELZde9qVAzap</td>\n      <td>Dixie Still</td>\n      <td>Dixie Still</td>\n      <td>2</td>\n      <td>0QY0uSCVyNa0to96RpbPxN</td>\n      <td>I Fell for Memphis</td>\n      <td>False</td>\n      <td>Solo</td>\n      <td>23</td>\n      <td>...</td>\n      <td>4</td>\n      <td>0.00214</td>\n      <td>0.522</td>\n      <td>0.8740</td>\n      <td>0.000001</td>\n      <td>0.5620</td>\n      <td>-4.075</td>\n      <td>0.0351</td>\n      <td>0.5600</td>\n      <td>105.003</td>\n    </tr>\n    <tr>\n      <th>3</th>\n      <td>4WLAatMOY8JxO6IPZZeN72</td>\n      <td>1OanUPixWzHMkR1tP5ByoM</td>\n      <td>Enzo André</td>\n      <td>Bailey Phillips</td>\n      <td>2</td>\n      <td>1je5GZx3OpafNvTTDRoUut</td>\n      <td>Promesses</td>\n      <td>False</td>\n      <td>Collaboration</td>\n      <td>15</td>\n      <td>...</td>\n      <td>4</td>\n      <td>0.19000</td>\n      <td>0.769</td>\n      <td>0.6200</td>\n      <td>0.000000</td>\n      <td>0.0678</td>\n      <td>-7.423</td>\n      <td>0.0419</td>\n      <td>0.6170</td>\n      <td>123.994</td>\n    </tr>\n    <tr>\n      <th>4</th>\n      <td>7vr8CdAjEb77OsStfcu8If</td>\n      <td>4gNi0FcGr0mqvS38AmQwBQ</td>\n      <td>Patrick Hawes</td>\n      <td>Joshua Ellicott</td>\n      <td>2</td>\n      <td>16ur2WxhKInHTAJNOvJfaS</td>\n      <td>The Great War Symphony / 4. Finale: Tenor 'Tel...</td>\n      <td>False</td>\n      <td>Collaboration</td>\n      <td>21</td>\n      <td>...</td>\n      <td>4</td>\n      <td>0.96500</td>\n      <td>0.236</td>\n      <td>0.0135</td>\n      <td>0.000361</td>\n      <td>0.1940</td>\n      <td>-30.191</td>\n      <td>0.0457</td>\n      <td>0.0384</td>\n      <td>116.404</td>\n    </tr>\n    <tr>\n      <th>...</th>\n      <td>...</td>\n      <td>...</td>\n      <td>...</td>\n      <td>...</td>\n      <td>...</td>\n      <td>...</td>\n      <td>...</td>\n      <td>...</td>\n      <td>...</td>\n      <td>...</td>\n      <td>...</td>\n      <td>...</td>\n      <td>...</td>\n      <td>...</td>\n      <td>...</td>\n      <td>...</td>\n      <td>...</td>\n      <td>...</td>\n      <td>...</td>\n      <td>...</td>\n      <td>...</td>\n    </tr>\n    <tr>\n      <th>6586</th>\n      <td>7wETQvxhxwciz6Dw2Hx6VH</td>\n      <td>7wETQvxhxwciz6Dw2Hx6VH</td>\n      <td>Duane Eddy And The Rebelettes</td>\n      <td>Duane Eddy And The Rebelettes</td>\n      <td>2</td>\n      <td>5I2BN42MnCPGBTjHxl63es</td>\n      <td>Boss Guitar</td>\n      <td>False</td>\n      <td>Solo</td>\n      <td>9</td>\n      <td>...</td>\n      <td>4</td>\n      <td>0.42400</td>\n      <td>0.569</td>\n      <td>0.9320</td>\n      <td>0.001980</td>\n      <td>0.1220</td>\n      <td>-4.149</td>\n      <td>0.1530</td>\n      <td>0.8140</td>\n      <td>172.249</td>\n    </tr>\n    <tr>\n      <th>6587</th>\n      <td>2BZDbnjUHnL2XAPgkdqTpb</td>\n      <td>2BZDbnjUHnL2XAPgkdqTpb</td>\n      <td>Jennifer Love Hewitt</td>\n      <td>Jennifer Love Hewitt</td>\n      <td>8</td>\n      <td>3vOy5fxCMoWrn26krafzjQ</td>\n      <td>Something to Talk About</td>\n      <td>False</td>\n      <td>Solo</td>\n      <td>2</td>\n      <td>...</td>\n      <td>4</td>\n      <td>0.02710</td>\n      <td>0.657</td>\n      <td>0.7460</td>\n      <td>0.000000</td>\n      <td>0.1050</td>\n      <td>-5.815</td>\n      <td>0.0252</td>\n      <td>0.7910</td>\n      <td>106.043</td>\n    </tr>\n    <tr>\n      <th>6588</th>\n      <td>07T0ORBA5ocwDSfEgW07w4</td>\n      <td>07T0ORBA5ocwDSfEgW07w4</td>\n      <td>GYSNOIZE</td>\n      <td>GYSNOIZE</td>\n      <td>6</td>\n      <td>4H7k6PQSDB8ziFdZj5dnTH</td>\n      <td>Walk in the Night</td>\n      <td>False</td>\n      <td>Solo</td>\n      <td>3</td>\n      <td>...</td>\n      <td>4</td>\n      <td>0.04110</td>\n      <td>0.716</td>\n      <td>0.7030</td>\n      <td>0.941000</td>\n      <td>0.0913</td>\n      <td>-12.245</td>\n      <td>0.0641</td>\n      <td>0.3990</td>\n      <td>159.970</td>\n    </tr>\n    <tr>\n      <th>6589</th>\n      <td>4BYxqVkZyFjtik7crYLg5Q</td>\n      <td>4BYxqVkZyFjtik7crYLg5Q</td>\n      <td>Chris Young</td>\n      <td>Chris Young</td>\n      <td>4</td>\n      <td>6voi5xnLs9JKmWG2oLmgDU</td>\n      <td>Raised on Country</td>\n      <td>False</td>\n      <td>Solo</td>\n      <td>1</td>\n      <td>...</td>\n      <td>4</td>\n      <td>0.39500</td>\n      <td>0.572</td>\n      <td>0.7940</td>\n      <td>0.000000</td>\n      <td>0.2300</td>\n      <td>-3.224</td>\n      <td>0.0455</td>\n      <td>0.7900</td>\n      <td>148.095</td>\n    </tr>\n    <tr>\n      <th>6590</th>\n      <td>0DchahWJGQqrqr8PMM5zQD</td>\n      <td>0DchahWJGQqrqr8PMM5zQD</td>\n      <td>Johnny Paycheck</td>\n      <td>Johnny Paycheck</td>\n      <td>48</td>\n      <td>6FMtXaEycBjLgpPcumJpjJ</td>\n      <td>Georgia in a Jug</td>\n      <td>False</td>\n      <td>Solo</td>\n      <td>5</td>\n      <td>...</td>\n      <td>4</td>\n      <td>0.24900</td>\n      <td>0.733</td>\n      <td>0.4040</td>\n      <td>0.000000</td>\n      <td>0.1320</td>\n      <td>-16.405</td>\n      <td>0.0307</td>\n      <td>0.8520</td>\n      <td>118.858</td>\n    </tr>\n  </tbody>\n</table>\n<p>6591 rows × 27 columns</p>\n</div>"
     },
     "execution_count": 20,
     "metadata": {},
     "output_type": "execute_result"
    }
   ],
   "source": [
    "# Extract edges and their attributes from the graph\n",
    "edges_with_attributes = [(u, v, G2.edges[u, v]) for u, v in G2.edges()]\n",
    "\n",
    "# Create a DataFrame from the edges and their attributes\n",
    "df_edges_test = pd.DataFrame(edges_with_attributes, columns=['Source', 'Target', 'Attributes'])\n",
    "\n",
    "# Normalize the 'Attributes' column to expand it into separate columns\n",
    "df_edge_attributes = pd.json_normalize(df_edges_test['Attributes'])\n",
    "\n",
    "# Combine the original 'Attributes' column with the expanded attributes\n",
    "df_edges_test = pd.concat([df_edges_test[['Source', 'Target']], df_edge_attributes], axis=1)\n",
    "df_edges_test"
   ],
   "metadata": {
    "collapsed": false,
    "pycharm": {
     "name": "#%%\n"
    },
    "ExecuteTime": {
     "end_time": "2024-07-26T13:53:07.241639700Z",
     "start_time": "2024-07-26T13:53:07.113638300Z"
    }
   },
   "id": "2e6324973210ec7e"
  },
  {
   "cell_type": "code",
   "execution_count": 21,
   "outputs": [],
   "source": [
    "# Save edge DataFrame to CSV\n",
    "df_edges_test.to_csv('network_created/edges_real_test.csv', sep='\\t', index=False)"
   ],
   "metadata": {
    "collapsed": false,
    "pycharm": {
     "name": "#%%\n"
    },
    "ExecuteTime": {
     "end_time": "2024-07-26T13:53:07.381637600Z",
     "start_time": "2024-07-26T13:53:07.225638900Z"
    }
   },
   "id": "b2a4471b27c98a30"
  },
  {
   "cell_type": "code",
   "execution_count": 22,
   "outputs": [
    {
     "name": "stdout",
     "output_type": "stream",
     "text": [
      "Number of nodes: 5902\n",
      "Number of edges: 6591\n"
     ]
    }
   ],
   "source": [
    "num_nodes = G2.number_of_nodes()\n",
    "num_edges = G2.number_of_edges()\n",
    "print(\"Number of nodes:\", num_nodes)\n",
    "print(\"Number of edges:\", num_edges)\n"
   ],
   "metadata": {
    "collapsed": false,
    "pycharm": {
     "name": "#%%\n"
    },
    "ExecuteTime": {
     "end_time": "2024-07-26T13:53:07.382636700Z",
     "start_time": "2024-07-26T13:53:07.307641500Z"
    }
   },
   "id": "b6287a821fd97ef0"
  },
  {
   "cell_type": "code",
   "execution_count": 23,
   "outputs": [
    {
     "data": {
      "text/plain": "                       song_id                  song_name  \\\n846000  3rTIDlmlGskGnRRqmRtvYn              Lone Stranger   \n604826  7zhdgvEuhcxy4iwc0ssoty  Ghost of Gloria Goodchild   \n604827  7urrpTy9j5QGMYrZpPwuEy                     Kolors   \n604828  6Ppgg7vDhYoyyNmmfIE9zK            Come as You Are   \n604829  3EOsorrvvIhtlTOoMdEshm                Nexperience   \n...                        ...                        ...   \n111731  1TDIEgiZDIedT13NQ2mAXg              Northern Soul   \n111730  4EJjPeKdHIZBEd3LJFEG3J               Chilled Life   \n111729  1dGHkh8SvzrJJB5i0lMf37      The Messiahs Birthday   \n111728  1llc2q5P1fAeBvEf3xWK0s                     Flamma   \n665923  5bM5D6WuyNX4dBOX9WNi24              Make You Rain   \n\n                        id_artists                  name_artists  popularity  \\\n846000  ['1W006EgE9fkSO9CpTnVlqN']              ['James Dooley']           0   \n604826  ['3F2Y683ovlWT53WKCeq0oj']                ['Goodie Mob']           5   \n604827  ['3F2Y683ovlWT53WKCeq0oj']                ['Goodie Mob']          12   \n604828  ['3F2Y683ovlWT53WKCeq0oj']                ['Goodie Mob']           5   \n604829  ['3F2Y683ovlWT53WKCeq0oj']                ['Goodie Mob']           5   \n...                            ...                           ...         ...   \n111731  ['7JfutRemdlJGyQsIZ7wWQ9']             ['Workout Buddy']           0   \n111730  ['7JfutRemdlJGyQsIZ7wWQ9']             ['Workout Buddy']           0   \n111729  ['7JfutRemdlJGyQsIZ7wWQ9']             ['Workout Buddy']           0   \n111728  ['7JfutRemdlJGyQsIZ7wWQ9']             ['Workout Buddy']           0   \n665923  ['397f86EukZ0rjnR5FWq0HQ']  ['Brazilian Lounge Project']           0   \n\n        explicit song_type  track_number  num_artists  num_available_markets  \\\n846000     False      Solo            19            1                     74   \n604826      True      Solo             9            1                      2   \n604827      True      Solo            10            1                      2   \n604828      True      Solo            11            1                      2   \n604829      True      Solo            12            1                      2   \n...          ...       ...           ...          ...                    ...   \n111731     False      Solo            20            1                     79   \n111730     False      Solo            19            1                     79   \n111729     False      Solo            18            1                     79   \n111728     False      Solo            17            1                     79   \n665923     False      Solo             7            1                     79   \n\n        ... danceability  energy  instrumentalness  liveness  loudness  \\\n846000  ...        0.235   0.199          0.896000    0.1110   -15.446   \n604826  ...        0.609   0.612          0.000000    0.4980    -7.317   \n604827  ...        0.482   0.722          0.000000    0.5020    -7.968   \n604828  ...        0.656   0.952          0.000582    0.0455    -5.103   \n604829  ...        0.610   0.798          0.000660    0.5230    -6.880   \n...     ...          ...     ...               ...       ...       ...   \n111731  ...        0.801   0.452          0.895000    0.0366   -11.564   \n111730  ...        0.792   0.870          0.664000    0.0627    -9.842   \n111729  ...        0.761   0.588          0.913000    0.1130   -13.552   \n111728  ...        0.637   0.969          0.836000    0.3790    -4.583   \n665923  ...        0.810   0.717          0.901000    0.1110    -7.345   \n\n        speechiness  valence    tempo  hit       date  \n846000       0.0329   0.0476   69.245    0 2013-08-26  \n604826       0.1240   0.3850  140.953    0 2013-08-26  \n604827       0.3140   0.4840  105.123    0 2013-08-26  \n604828       0.0602   0.4760  130.923    0 2013-08-26  \n604829       0.2730   0.6130  138.103    0 2013-08-26  \n...             ...      ...      ...  ...        ...  \n111731       0.0725   0.3530  121.983    0 2018-08-25  \n111730       0.0448   0.4110  124.016    0 2018-08-25  \n111729       0.0690   0.1090  123.982    0 2018-08-25  \n111728       0.0436   0.0719  128.098    0 2018-08-25  \n665923       0.0749   0.1700  126.010    0 2018-08-25  \n\n[302916 rows x 26 columns]",
      "text/html": "<div>\n<style scoped>\n    .dataframe tbody tr th:only-of-type {\n        vertical-align: middle;\n    }\n\n    .dataframe tbody tr th {\n        vertical-align: top;\n    }\n\n    .dataframe thead th {\n        text-align: right;\n    }\n</style>\n<table border=\"1\" class=\"dataframe\">\n  <thead>\n    <tr style=\"text-align: right;\">\n      <th></th>\n      <th>song_id</th>\n      <th>song_name</th>\n      <th>id_artists</th>\n      <th>name_artists</th>\n      <th>popularity</th>\n      <th>explicit</th>\n      <th>song_type</th>\n      <th>track_number</th>\n      <th>num_artists</th>\n      <th>num_available_markets</th>\n      <th>...</th>\n      <th>danceability</th>\n      <th>energy</th>\n      <th>instrumentalness</th>\n      <th>liveness</th>\n      <th>loudness</th>\n      <th>speechiness</th>\n      <th>valence</th>\n      <th>tempo</th>\n      <th>hit</th>\n      <th>date</th>\n    </tr>\n  </thead>\n  <tbody>\n    <tr>\n      <th>846000</th>\n      <td>3rTIDlmlGskGnRRqmRtvYn</td>\n      <td>Lone Stranger</td>\n      <td>['1W006EgE9fkSO9CpTnVlqN']</td>\n      <td>['James Dooley']</td>\n      <td>0</td>\n      <td>False</td>\n      <td>Solo</td>\n      <td>19</td>\n      <td>1</td>\n      <td>74</td>\n      <td>...</td>\n      <td>0.235</td>\n      <td>0.199</td>\n      <td>0.896000</td>\n      <td>0.1110</td>\n      <td>-15.446</td>\n      <td>0.0329</td>\n      <td>0.0476</td>\n      <td>69.245</td>\n      <td>0</td>\n      <td>2013-08-26</td>\n    </tr>\n    <tr>\n      <th>604826</th>\n      <td>7zhdgvEuhcxy4iwc0ssoty</td>\n      <td>Ghost of Gloria Goodchild</td>\n      <td>['3F2Y683ovlWT53WKCeq0oj']</td>\n      <td>['Goodie Mob']</td>\n      <td>5</td>\n      <td>True</td>\n      <td>Solo</td>\n      <td>9</td>\n      <td>1</td>\n      <td>2</td>\n      <td>...</td>\n      <td>0.609</td>\n      <td>0.612</td>\n      <td>0.000000</td>\n      <td>0.4980</td>\n      <td>-7.317</td>\n      <td>0.1240</td>\n      <td>0.3850</td>\n      <td>140.953</td>\n      <td>0</td>\n      <td>2013-08-26</td>\n    </tr>\n    <tr>\n      <th>604827</th>\n      <td>7urrpTy9j5QGMYrZpPwuEy</td>\n      <td>Kolors</td>\n      <td>['3F2Y683ovlWT53WKCeq0oj']</td>\n      <td>['Goodie Mob']</td>\n      <td>12</td>\n      <td>True</td>\n      <td>Solo</td>\n      <td>10</td>\n      <td>1</td>\n      <td>2</td>\n      <td>...</td>\n      <td>0.482</td>\n      <td>0.722</td>\n      <td>0.000000</td>\n      <td>0.5020</td>\n      <td>-7.968</td>\n      <td>0.3140</td>\n      <td>0.4840</td>\n      <td>105.123</td>\n      <td>0</td>\n      <td>2013-08-26</td>\n    </tr>\n    <tr>\n      <th>604828</th>\n      <td>6Ppgg7vDhYoyyNmmfIE9zK</td>\n      <td>Come as You Are</td>\n      <td>['3F2Y683ovlWT53WKCeq0oj']</td>\n      <td>['Goodie Mob']</td>\n      <td>5</td>\n      <td>True</td>\n      <td>Solo</td>\n      <td>11</td>\n      <td>1</td>\n      <td>2</td>\n      <td>...</td>\n      <td>0.656</td>\n      <td>0.952</td>\n      <td>0.000582</td>\n      <td>0.0455</td>\n      <td>-5.103</td>\n      <td>0.0602</td>\n      <td>0.4760</td>\n      <td>130.923</td>\n      <td>0</td>\n      <td>2013-08-26</td>\n    </tr>\n    <tr>\n      <th>604829</th>\n      <td>3EOsorrvvIhtlTOoMdEshm</td>\n      <td>Nexperience</td>\n      <td>['3F2Y683ovlWT53WKCeq0oj']</td>\n      <td>['Goodie Mob']</td>\n      <td>5</td>\n      <td>True</td>\n      <td>Solo</td>\n      <td>12</td>\n      <td>1</td>\n      <td>2</td>\n      <td>...</td>\n      <td>0.610</td>\n      <td>0.798</td>\n      <td>0.000660</td>\n      <td>0.5230</td>\n      <td>-6.880</td>\n      <td>0.2730</td>\n      <td>0.6130</td>\n      <td>138.103</td>\n      <td>0</td>\n      <td>2013-08-26</td>\n    </tr>\n    <tr>\n      <th>...</th>\n      <td>...</td>\n      <td>...</td>\n      <td>...</td>\n      <td>...</td>\n      <td>...</td>\n      <td>...</td>\n      <td>...</td>\n      <td>...</td>\n      <td>...</td>\n      <td>...</td>\n      <td>...</td>\n      <td>...</td>\n      <td>...</td>\n      <td>...</td>\n      <td>...</td>\n      <td>...</td>\n      <td>...</td>\n      <td>...</td>\n      <td>...</td>\n      <td>...</td>\n      <td>...</td>\n    </tr>\n    <tr>\n      <th>111731</th>\n      <td>1TDIEgiZDIedT13NQ2mAXg</td>\n      <td>Northern Soul</td>\n      <td>['7JfutRemdlJGyQsIZ7wWQ9']</td>\n      <td>['Workout Buddy']</td>\n      <td>0</td>\n      <td>False</td>\n      <td>Solo</td>\n      <td>20</td>\n      <td>1</td>\n      <td>79</td>\n      <td>...</td>\n      <td>0.801</td>\n      <td>0.452</td>\n      <td>0.895000</td>\n      <td>0.0366</td>\n      <td>-11.564</td>\n      <td>0.0725</td>\n      <td>0.3530</td>\n      <td>121.983</td>\n      <td>0</td>\n      <td>2018-08-25</td>\n    </tr>\n    <tr>\n      <th>111730</th>\n      <td>4EJjPeKdHIZBEd3LJFEG3J</td>\n      <td>Chilled Life</td>\n      <td>['7JfutRemdlJGyQsIZ7wWQ9']</td>\n      <td>['Workout Buddy']</td>\n      <td>0</td>\n      <td>False</td>\n      <td>Solo</td>\n      <td>19</td>\n      <td>1</td>\n      <td>79</td>\n      <td>...</td>\n      <td>0.792</td>\n      <td>0.870</td>\n      <td>0.664000</td>\n      <td>0.0627</td>\n      <td>-9.842</td>\n      <td>0.0448</td>\n      <td>0.4110</td>\n      <td>124.016</td>\n      <td>0</td>\n      <td>2018-08-25</td>\n    </tr>\n    <tr>\n      <th>111729</th>\n      <td>1dGHkh8SvzrJJB5i0lMf37</td>\n      <td>The Messiahs Birthday</td>\n      <td>['7JfutRemdlJGyQsIZ7wWQ9']</td>\n      <td>['Workout Buddy']</td>\n      <td>0</td>\n      <td>False</td>\n      <td>Solo</td>\n      <td>18</td>\n      <td>1</td>\n      <td>79</td>\n      <td>...</td>\n      <td>0.761</td>\n      <td>0.588</td>\n      <td>0.913000</td>\n      <td>0.1130</td>\n      <td>-13.552</td>\n      <td>0.0690</td>\n      <td>0.1090</td>\n      <td>123.982</td>\n      <td>0</td>\n      <td>2018-08-25</td>\n    </tr>\n    <tr>\n      <th>111728</th>\n      <td>1llc2q5P1fAeBvEf3xWK0s</td>\n      <td>Flamma</td>\n      <td>['7JfutRemdlJGyQsIZ7wWQ9']</td>\n      <td>['Workout Buddy']</td>\n      <td>0</td>\n      <td>False</td>\n      <td>Solo</td>\n      <td>17</td>\n      <td>1</td>\n      <td>79</td>\n      <td>...</td>\n      <td>0.637</td>\n      <td>0.969</td>\n      <td>0.836000</td>\n      <td>0.3790</td>\n      <td>-4.583</td>\n      <td>0.0436</td>\n      <td>0.0719</td>\n      <td>128.098</td>\n      <td>0</td>\n      <td>2018-08-25</td>\n    </tr>\n    <tr>\n      <th>665923</th>\n      <td>5bM5D6WuyNX4dBOX9WNi24</td>\n      <td>Make You Rain</td>\n      <td>['397f86EukZ0rjnR5FWq0HQ']</td>\n      <td>['Brazilian Lounge Project']</td>\n      <td>0</td>\n      <td>False</td>\n      <td>Solo</td>\n      <td>7</td>\n      <td>1</td>\n      <td>79</td>\n      <td>...</td>\n      <td>0.810</td>\n      <td>0.717</td>\n      <td>0.901000</td>\n      <td>0.1110</td>\n      <td>-7.345</td>\n      <td>0.0749</td>\n      <td>0.1700</td>\n      <td>126.010</td>\n      <td>0</td>\n      <td>2018-08-25</td>\n    </tr>\n  </tbody>\n</table>\n<p>302916 rows × 26 columns</p>\n</div>"
     },
     "execution_count": 23,
     "metadata": {},
     "output_type": "execute_result"
    }
   ],
   "source": [
    "train_df"
   ],
   "metadata": {
    "collapsed": false,
    "pycharm": {
     "name": "#%%\n"
    },
    "ExecuteTime": {
     "end_time": "2024-07-26T13:53:07.547636500Z",
     "start_time": "2024-07-26T13:53:07.322641700Z"
    }
   },
   "id": "b1de9789d17182a"
  },
  {
   "cell_type": "code",
   "execution_count": 24,
   "outputs": [
    {
     "data": {
      "text/plain": "                       song_id  \\\n563810  6R3RXAvtypsoN6jWsjeabw   \n563811  2Tb4RA2rzI3Xp97Q3EuhZ6   \n563812  2ADv9UhiY8pACXvwxP9mr0   \n641117  2RcAviQBeJrtZDZ7P1Co9k   \n563813  7DnbauUP88t63cDXUrdovz   \n...                        ...   \n11098   0xAqhyWvTkfcdFgm7dozMO   \n10903   6zhg8TnVKi90ITDzFKwPr0   \n5856    2GvkFSjRXV0Ii3uYnHiQ74   \n5080    0lej8CemYKkWVHg77Xe1ky   \n10666   6Fh2QgjCxL96dA3Gtpfr4Q   \n\n                                                song_name  \\\n563810                                      Nordic Shores   \n563811                                               Wave   \n563812                                   Waltz for Joshua   \n641117                                            Elmoped   \n563813                                      Black Orpheus   \n...                                                   ...   \n11098             (I Wanna) Testify (Mono Single Version)   \n10903                       Swingtown - Alternate Version   \n5856                                       Take My Advice   \n5080             A Man Holdin' on (To a Woman Lettin’ Go)   \n10666   One Sweet Day (16-Bit Mariah Carey & Boyz II M...   \n\n                                               id_artists  \\\n563810                         ['0KMJUP87x4ERfwSNYvkttw']   \n563811                         ['3OpJxAHfT0KsJzQqdX5SLb']   \n563812                         ['3OpJxAHfT0KsJzQqdX5SLb']   \n641117                         ['6BkcAbUkfIBM4XudxieMq8']   \n563813                         ['3OpJxAHfT0KsJzQqdX5SLb']   \n...                                                   ...   \n11098                          ['1Ve5PoI7i5jIIP1xudo6AB']   \n10903                          ['6QtGlUje9TIkLrgPZrESuk']   \n5856                           ['40PLSl99xXqAQsCQQPmfyM']   \n5080    ['1Fj0R2t4HaJa3oUe8azB8R', '5LDnSV99gbDSsMX3Dc...   \n10666                          ['1v4YnufenjE9BLAfP90qvt']   \n\n                           name_artists  popularity  explicit      song_type  \\\n563810                 ['Sandgrounder']           0     False           Solo   \n563811                 ['Ginger Tunes']           0     False           Solo   \n563812                 ['Ginger Tunes']           0     False           Solo   \n641117                    ['Dr. Alban']          28     False           Solo   \n563813                 ['Ginger Tunes']           0     False           Solo   \n...                                 ...         ...       ...            ...   \n11098               ['The Parliaments']           7     False           Solo   \n10903             ['Steve Miller Band']          26     False           Solo   \n5856                       ['Kym Sims']           0     False           Solo   \n5080    ['Ty Herndon', 'Anita Cochran']          14     False  Collaboration   \n10666                 ['Arcade Player']           0     False           Solo   \n\n        track_number  num_artists  num_available_markets  ... danceability  \\\n563810             5            1                     79  ...        0.646   \n563811             6            1                     79  ...        0.668   \n563812             7            1                     79  ...        0.650   \n641117             1            1                     79  ...        0.851   \n563813             8            1                     79  ...        0.752   \n...              ...          ...                    ...  ...          ...   \n11098             10            1                     79  ...        0.668   \n10903              5            1                     79  ...        0.459   \n5856              10            1                     73  ...        0.737   \n5080               7            2                     79  ...        0.611   \n10666             27            1                     79  ...        0.395   \n\n        energy  instrumentalness  liveness  loudness  speechiness  valence  \\\n563810   0.490          0.895000    0.2230   -16.153       0.0525   0.8420   \n563811   0.414          0.902000    0.1120   -10.019       0.0361   0.0399   \n563812   0.235          0.887000    0.1490   -12.020       0.0346   0.0391   \n641117   0.568          0.000000    0.1450    -7.159       0.0589   0.4710   \n563813   0.435          0.901000    0.0886   -10.619       0.0347   0.1250   \n...        ...               ...       ...       ...          ...      ...   \n11098    0.702          0.000000    0.0521    -5.750       0.0330   0.7540   \n10903    0.764          0.000544    0.2440    -6.662       0.0354   0.4390   \n5856     0.814          0.392000    0.0844   -10.396       0.0307   0.8030   \n5080     0.429          0.000014    0.1120    -8.619       0.0298   0.2370   \n10666    0.405          0.745000    0.1100    -5.559       0.0393   0.3130   \n\n          tempo  hit       date  \n563810   95.016    0 2018-08-26  \n563811  121.084    0 2018-08-26  \n563812  116.265    0 2018-08-26  \n641117  119.981    0 2018-08-26  \n563813  122.128    0 2018-08-26  \n...         ...  ...        ...  \n11098   105.227    1 2019-08-23  \n10903   124.557    1 2019-08-23  \n5856    120.010    1 2019-08-23  \n5080    128.007    1 2019-08-23  \n10666   194.933    1 2019-08-26  \n\n[54250 rows x 26 columns]",
      "text/html": "<div>\n<style scoped>\n    .dataframe tbody tr th:only-of-type {\n        vertical-align: middle;\n    }\n\n    .dataframe tbody tr th {\n        vertical-align: top;\n    }\n\n    .dataframe thead th {\n        text-align: right;\n    }\n</style>\n<table border=\"1\" class=\"dataframe\">\n  <thead>\n    <tr style=\"text-align: right;\">\n      <th></th>\n      <th>song_id</th>\n      <th>song_name</th>\n      <th>id_artists</th>\n      <th>name_artists</th>\n      <th>popularity</th>\n      <th>explicit</th>\n      <th>song_type</th>\n      <th>track_number</th>\n      <th>num_artists</th>\n      <th>num_available_markets</th>\n      <th>...</th>\n      <th>danceability</th>\n      <th>energy</th>\n      <th>instrumentalness</th>\n      <th>liveness</th>\n      <th>loudness</th>\n      <th>speechiness</th>\n      <th>valence</th>\n      <th>tempo</th>\n      <th>hit</th>\n      <th>date</th>\n    </tr>\n  </thead>\n  <tbody>\n    <tr>\n      <th>563810</th>\n      <td>6R3RXAvtypsoN6jWsjeabw</td>\n      <td>Nordic Shores</td>\n      <td>['0KMJUP87x4ERfwSNYvkttw']</td>\n      <td>['Sandgrounder']</td>\n      <td>0</td>\n      <td>False</td>\n      <td>Solo</td>\n      <td>5</td>\n      <td>1</td>\n      <td>79</td>\n      <td>...</td>\n      <td>0.646</td>\n      <td>0.490</td>\n      <td>0.895000</td>\n      <td>0.2230</td>\n      <td>-16.153</td>\n      <td>0.0525</td>\n      <td>0.8420</td>\n      <td>95.016</td>\n      <td>0</td>\n      <td>2018-08-26</td>\n    </tr>\n    <tr>\n      <th>563811</th>\n      <td>2Tb4RA2rzI3Xp97Q3EuhZ6</td>\n      <td>Wave</td>\n      <td>['3OpJxAHfT0KsJzQqdX5SLb']</td>\n      <td>['Ginger Tunes']</td>\n      <td>0</td>\n      <td>False</td>\n      <td>Solo</td>\n      <td>6</td>\n      <td>1</td>\n      <td>79</td>\n      <td>...</td>\n      <td>0.668</td>\n      <td>0.414</td>\n      <td>0.902000</td>\n      <td>0.1120</td>\n      <td>-10.019</td>\n      <td>0.0361</td>\n      <td>0.0399</td>\n      <td>121.084</td>\n      <td>0</td>\n      <td>2018-08-26</td>\n    </tr>\n    <tr>\n      <th>563812</th>\n      <td>2ADv9UhiY8pACXvwxP9mr0</td>\n      <td>Waltz for Joshua</td>\n      <td>['3OpJxAHfT0KsJzQqdX5SLb']</td>\n      <td>['Ginger Tunes']</td>\n      <td>0</td>\n      <td>False</td>\n      <td>Solo</td>\n      <td>7</td>\n      <td>1</td>\n      <td>79</td>\n      <td>...</td>\n      <td>0.650</td>\n      <td>0.235</td>\n      <td>0.887000</td>\n      <td>0.1490</td>\n      <td>-12.020</td>\n      <td>0.0346</td>\n      <td>0.0391</td>\n      <td>116.265</td>\n      <td>0</td>\n      <td>2018-08-26</td>\n    </tr>\n    <tr>\n      <th>641117</th>\n      <td>2RcAviQBeJrtZDZ7P1Co9k</td>\n      <td>Elmoped</td>\n      <td>['6BkcAbUkfIBM4XudxieMq8']</td>\n      <td>['Dr. Alban']</td>\n      <td>28</td>\n      <td>False</td>\n      <td>Solo</td>\n      <td>1</td>\n      <td>1</td>\n      <td>79</td>\n      <td>...</td>\n      <td>0.851</td>\n      <td>0.568</td>\n      <td>0.000000</td>\n      <td>0.1450</td>\n      <td>-7.159</td>\n      <td>0.0589</td>\n      <td>0.4710</td>\n      <td>119.981</td>\n      <td>0</td>\n      <td>2018-08-26</td>\n    </tr>\n    <tr>\n      <th>563813</th>\n      <td>7DnbauUP88t63cDXUrdovz</td>\n      <td>Black Orpheus</td>\n      <td>['3OpJxAHfT0KsJzQqdX5SLb']</td>\n      <td>['Ginger Tunes']</td>\n      <td>0</td>\n      <td>False</td>\n      <td>Solo</td>\n      <td>8</td>\n      <td>1</td>\n      <td>79</td>\n      <td>...</td>\n      <td>0.752</td>\n      <td>0.435</td>\n      <td>0.901000</td>\n      <td>0.0886</td>\n      <td>-10.619</td>\n      <td>0.0347</td>\n      <td>0.1250</td>\n      <td>122.128</td>\n      <td>0</td>\n      <td>2018-08-26</td>\n    </tr>\n    <tr>\n      <th>...</th>\n      <td>...</td>\n      <td>...</td>\n      <td>...</td>\n      <td>...</td>\n      <td>...</td>\n      <td>...</td>\n      <td>...</td>\n      <td>...</td>\n      <td>...</td>\n      <td>...</td>\n      <td>...</td>\n      <td>...</td>\n      <td>...</td>\n      <td>...</td>\n      <td>...</td>\n      <td>...</td>\n      <td>...</td>\n      <td>...</td>\n      <td>...</td>\n      <td>...</td>\n      <td>...</td>\n    </tr>\n    <tr>\n      <th>11098</th>\n      <td>0xAqhyWvTkfcdFgm7dozMO</td>\n      <td>(I Wanna) Testify (Mono Single Version)</td>\n      <td>['1Ve5PoI7i5jIIP1xudo6AB']</td>\n      <td>['The Parliaments']</td>\n      <td>7</td>\n      <td>False</td>\n      <td>Solo</td>\n      <td>10</td>\n      <td>1</td>\n      <td>79</td>\n      <td>...</td>\n      <td>0.668</td>\n      <td>0.702</td>\n      <td>0.000000</td>\n      <td>0.0521</td>\n      <td>-5.750</td>\n      <td>0.0330</td>\n      <td>0.7540</td>\n      <td>105.227</td>\n      <td>1</td>\n      <td>2019-08-23</td>\n    </tr>\n    <tr>\n      <th>10903</th>\n      <td>6zhg8TnVKi90ITDzFKwPr0</td>\n      <td>Swingtown - Alternate Version</td>\n      <td>['6QtGlUje9TIkLrgPZrESuk']</td>\n      <td>['Steve Miller Band']</td>\n      <td>26</td>\n      <td>False</td>\n      <td>Solo</td>\n      <td>5</td>\n      <td>1</td>\n      <td>79</td>\n      <td>...</td>\n      <td>0.459</td>\n      <td>0.764</td>\n      <td>0.000544</td>\n      <td>0.2440</td>\n      <td>-6.662</td>\n      <td>0.0354</td>\n      <td>0.4390</td>\n      <td>124.557</td>\n      <td>1</td>\n      <td>2019-08-23</td>\n    </tr>\n    <tr>\n      <th>5856</th>\n      <td>2GvkFSjRXV0Ii3uYnHiQ74</td>\n      <td>Take My Advice</td>\n      <td>['40PLSl99xXqAQsCQQPmfyM']</td>\n      <td>['Kym Sims']</td>\n      <td>0</td>\n      <td>False</td>\n      <td>Solo</td>\n      <td>10</td>\n      <td>1</td>\n      <td>73</td>\n      <td>...</td>\n      <td>0.737</td>\n      <td>0.814</td>\n      <td>0.392000</td>\n      <td>0.0844</td>\n      <td>-10.396</td>\n      <td>0.0307</td>\n      <td>0.8030</td>\n      <td>120.010</td>\n      <td>1</td>\n      <td>2019-08-23</td>\n    </tr>\n    <tr>\n      <th>5080</th>\n      <td>0lej8CemYKkWVHg77Xe1ky</td>\n      <td>A Man Holdin' on (To a Woman Lettin’ Go)</td>\n      <td>['1Fj0R2t4HaJa3oUe8azB8R', '5LDnSV99gbDSsMX3Dc...</td>\n      <td>['Ty Herndon', 'Anita Cochran']</td>\n      <td>14</td>\n      <td>False</td>\n      <td>Collaboration</td>\n      <td>7</td>\n      <td>2</td>\n      <td>79</td>\n      <td>...</td>\n      <td>0.611</td>\n      <td>0.429</td>\n      <td>0.000014</td>\n      <td>0.1120</td>\n      <td>-8.619</td>\n      <td>0.0298</td>\n      <td>0.2370</td>\n      <td>128.007</td>\n      <td>1</td>\n      <td>2019-08-23</td>\n    </tr>\n    <tr>\n      <th>10666</th>\n      <td>6Fh2QgjCxL96dA3Gtpfr4Q</td>\n      <td>One Sweet Day (16-Bit Mariah Carey &amp; Boyz II M...</td>\n      <td>['1v4YnufenjE9BLAfP90qvt']</td>\n      <td>['Arcade Player']</td>\n      <td>0</td>\n      <td>False</td>\n      <td>Solo</td>\n      <td>27</td>\n      <td>1</td>\n      <td>79</td>\n      <td>...</td>\n      <td>0.395</td>\n      <td>0.405</td>\n      <td>0.745000</td>\n      <td>0.1100</td>\n      <td>-5.559</td>\n      <td>0.0393</td>\n      <td>0.3130</td>\n      <td>194.933</td>\n      <td>1</td>\n      <td>2019-08-26</td>\n    </tr>\n  </tbody>\n</table>\n<p>54250 rows × 26 columns</p>\n</div>"
     },
     "execution_count": 24,
     "metadata": {},
     "output_type": "execute_result"
    }
   ],
   "source": [
    "test_df"
   ],
   "metadata": {
    "collapsed": false,
    "pycharm": {
     "name": "#%%\n"
    },
    "ExecuteTime": {
     "end_time": "2024-07-26T13:53:07.652637900Z",
     "start_time": "2024-07-26T13:53:07.539640Z"
    }
   },
   "id": "4aa2a74a75195a81"
  }
 ],
 "metadata": {
  "kernelspec": {
   "display_name": "Python 3",
   "language": "python",
   "name": "python3"
  },
  "language_info": {
   "codemirror_mode": {
    "name": "ipython",
    "version": 2
   },
   "file_extension": ".py",
   "mimetype": "text/x-python",
   "name": "python",
   "nbconvert_exporter": "python",
   "pygments_lexer": "ipython2",
   "version": "2.7.6"
  }
 },
 "nbformat": 4,
 "nbformat_minor": 5
}
