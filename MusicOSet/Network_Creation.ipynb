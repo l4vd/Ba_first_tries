{
 "cells": [
  {
   "cell_type": "code",
   "execution_count": 1,
   "id": "initial_id",
   "metadata": {
    "collapsed": true,
    "ExecuteTime": {
     "end_time": "2024-05-17T13:56:51.585928800Z",
     "start_time": "2024-05-17T13:56:51.492928300Z"
    }
   },
   "outputs": [
    {
     "data": {
      "text/plain": "                      song_id  \\\n0      3e9HZxeyfWwjeyPAMmWSSQ   \n1      5p7ujcrUXASCNwRaWNHR1C   \n2      2xLMifQCjDGFmkHkpNLD9h   \n3      3KkXRkHbMCARz0aVfEt68P   \n4      1rqqCSm0Qe4I9rUvWncaom   \n...                       ...   \n11954  5mz9pQZZXNpAw9CdQ7Bk8q   \n11955  2H9CKpZiLDF223BbwehpDF   \n11956  7zqM7Wm2xJLZ50qAnTLoHD   \n11957  4DPlKVZ6R1EHLfnIsy9ouh   \n11958  6RUa3ZwZYnJnNgZxtIYJR9   \n\n                                               song_name  \\\n0                                          thank u, next   \n1                                             Without Me   \n2                                             SICKO MODE   \n3          Sunflower - Spider-Man: Into the Spider-Verse   \n4                                             High Hopes   \n...                                                  ...   \n11954                Don't Pity Me - Mono; 2003 Remaster   \n11955                        Hush Hush; Hush Hush - Main   \n11956                              Lions, Tigers & Bears   \n11957                                         The Weight   \n11958  Purest of Pain (A Puro Dolor) - Martinee's Rad...   \n\n                                              id_artists  \\\n0                             ['66CXWjxzNUsdJxJ2JdwvnR']   \n1                             ['26VFTg2z8YR0cCuwLzESi2']   \n2                             ['0Y5tJX1MQlPlqiwlOH1tJY']   \n3      ['246dkjvS1zLTtiykXe5h60', '1zNqQNIdeOUZHb8zbZ...   \n4                             ['20JZFwl6HVl6yg8a4H3ZqK']   \n...                                                  ...   \n11954                         ['6lHC2EQMEMZiEmSfFloarn']   \n11955                         ['6wPhSqRtPu1UhRCDX5yaDJ']   \n11956                         ['7gSjFKpVmDgC2MMsnN8CYq']   \n11957  ['0rXI0q8Cahq6numvPlloaq', '3RwQ26hR2tJtA8F9p2...   \n11958  ['1qyAl8T6GTcaOViaI7fs1j', '7AOI1S3Uy411dDhNTd...   \n\n                                           name_artists  popularity  explicit  \\\n0                                     ['Ariana Grande']          87      True   \n1                                            ['Halsey']          87      True   \n2                                      ['Travis Scott']          86      True   \n3                           ['Post Malone', 'Swae Lee']          92     False   \n4                               ['Panic! At The Disco']          86     False   \n...                                                 ...         ...       ...   \n11954                              ['Peter And Gordon']           8     False   \n11955                            ['The Pussycat Dolls']          57     False   \n11956                              ['Jazmine Sullivan']          49     False   \n11957  ['Diana Ross & The Supremes', 'The Temptations']           2     False   \n11958                 ['Son By Four', 'Lewis Martinee']          10     False   \n\n           song_type  track_number  num_artists  num_available_markets  ...  \\\n0               Solo            11            1                     79  ...   \n1               Solo             1            1                     79  ...   \n2               Solo             3            1                     79  ...   \n3      Collaboration             2            2                     79  ...   \n4               Solo             4            1                     78  ...   \n...              ...           ...          ...                    ...  ...   \n11954           Solo             1            1                     78  ...   \n11955           Solo             1            1                     59  ...   \n11956           Solo             4            1                     71  ...   \n11957  Collaboration            23            2                     79  ...   \n11958  Collaboration             1            2                     79  ...   \n\n      acousticness  danceability  energy  instrumentalness  liveness  \\\n0          0.22900         0.717   0.653          0.000000    0.1010   \n1          0.29700         0.752   0.488          0.000009    0.0936   \n2          0.00513         0.834   0.730          0.000000    0.1240   \n3          0.55600         0.760   0.479          0.000000    0.0703   \n4          0.19300         0.579   0.904          0.000000    0.0640   \n...            ...           ...     ...               ...       ...   \n11954      0.61900         0.500   0.654          0.000000    0.3320   \n11955      0.10500         0.609   0.790          0.000000    0.3140   \n11956      0.07880         0.576   0.515          0.000000    0.1180   \n11957      0.37000         0.566   0.607          0.000000    0.6710   \n11958      0.45000         0.593   0.939          0.000013    0.1090   \n\n       loudness  speechiness  valence    tempo  hit  \n0        -5.634       0.0658    0.412  106.966    1  \n1        -7.050       0.0705    0.533  136.041    1  \n2        -3.714       0.2220    0.446  155.008    1  \n3        -5.574       0.0466    0.913   89.911    1  \n4        -2.729       0.0618    0.681   82.014    1  \n...         ...          ...      ...      ...  ...  \n11954    -8.633       0.0394    0.403  107.326    1  \n11955    -3.787       0.0663    0.664  129.334    1  \n11956    -6.178       0.0295    0.407   95.406    1  \n11957    -7.532       0.0357    0.765   91.378    1  \n11958    -3.431       0.0616    0.743  134.108    1  \n\n[11959 rows x 25 columns]",
      "text/html": "<div>\n<style scoped>\n    .dataframe tbody tr th:only-of-type {\n        vertical-align: middle;\n    }\n\n    .dataframe tbody tr th {\n        vertical-align: top;\n    }\n\n    .dataframe thead th {\n        text-align: right;\n    }\n</style>\n<table border=\"1\" class=\"dataframe\">\n  <thead>\n    <tr style=\"text-align: right;\">\n      <th></th>\n      <th>song_id</th>\n      <th>song_name</th>\n      <th>id_artists</th>\n      <th>name_artists</th>\n      <th>popularity</th>\n      <th>explicit</th>\n      <th>song_type</th>\n      <th>track_number</th>\n      <th>num_artists</th>\n      <th>num_available_markets</th>\n      <th>...</th>\n      <th>acousticness</th>\n      <th>danceability</th>\n      <th>energy</th>\n      <th>instrumentalness</th>\n      <th>liveness</th>\n      <th>loudness</th>\n      <th>speechiness</th>\n      <th>valence</th>\n      <th>tempo</th>\n      <th>hit</th>\n    </tr>\n  </thead>\n  <tbody>\n    <tr>\n      <th>0</th>\n      <td>3e9HZxeyfWwjeyPAMmWSSQ</td>\n      <td>thank u, next</td>\n      <td>['66CXWjxzNUsdJxJ2JdwvnR']</td>\n      <td>['Ariana Grande']</td>\n      <td>87</td>\n      <td>True</td>\n      <td>Solo</td>\n      <td>11</td>\n      <td>1</td>\n      <td>79</td>\n      <td>...</td>\n      <td>0.22900</td>\n      <td>0.717</td>\n      <td>0.653</td>\n      <td>0.000000</td>\n      <td>0.1010</td>\n      <td>-5.634</td>\n      <td>0.0658</td>\n      <td>0.412</td>\n      <td>106.966</td>\n      <td>1</td>\n    </tr>\n    <tr>\n      <th>1</th>\n      <td>5p7ujcrUXASCNwRaWNHR1C</td>\n      <td>Without Me</td>\n      <td>['26VFTg2z8YR0cCuwLzESi2']</td>\n      <td>['Halsey']</td>\n      <td>87</td>\n      <td>True</td>\n      <td>Solo</td>\n      <td>1</td>\n      <td>1</td>\n      <td>79</td>\n      <td>...</td>\n      <td>0.29700</td>\n      <td>0.752</td>\n      <td>0.488</td>\n      <td>0.000009</td>\n      <td>0.0936</td>\n      <td>-7.050</td>\n      <td>0.0705</td>\n      <td>0.533</td>\n      <td>136.041</td>\n      <td>1</td>\n    </tr>\n    <tr>\n      <th>2</th>\n      <td>2xLMifQCjDGFmkHkpNLD9h</td>\n      <td>SICKO MODE</td>\n      <td>['0Y5tJX1MQlPlqiwlOH1tJY']</td>\n      <td>['Travis Scott']</td>\n      <td>86</td>\n      <td>True</td>\n      <td>Solo</td>\n      <td>3</td>\n      <td>1</td>\n      <td>79</td>\n      <td>...</td>\n      <td>0.00513</td>\n      <td>0.834</td>\n      <td>0.730</td>\n      <td>0.000000</td>\n      <td>0.1240</td>\n      <td>-3.714</td>\n      <td>0.2220</td>\n      <td>0.446</td>\n      <td>155.008</td>\n      <td>1</td>\n    </tr>\n    <tr>\n      <th>3</th>\n      <td>3KkXRkHbMCARz0aVfEt68P</td>\n      <td>Sunflower - Spider-Man: Into the Spider-Verse</td>\n      <td>['246dkjvS1zLTtiykXe5h60', '1zNqQNIdeOUZHb8zbZ...</td>\n      <td>['Post Malone', 'Swae Lee']</td>\n      <td>92</td>\n      <td>False</td>\n      <td>Collaboration</td>\n      <td>2</td>\n      <td>2</td>\n      <td>79</td>\n      <td>...</td>\n      <td>0.55600</td>\n      <td>0.760</td>\n      <td>0.479</td>\n      <td>0.000000</td>\n      <td>0.0703</td>\n      <td>-5.574</td>\n      <td>0.0466</td>\n      <td>0.913</td>\n      <td>89.911</td>\n      <td>1</td>\n    </tr>\n    <tr>\n      <th>4</th>\n      <td>1rqqCSm0Qe4I9rUvWncaom</td>\n      <td>High Hopes</td>\n      <td>['20JZFwl6HVl6yg8a4H3ZqK']</td>\n      <td>['Panic! At The Disco']</td>\n      <td>86</td>\n      <td>False</td>\n      <td>Solo</td>\n      <td>4</td>\n      <td>1</td>\n      <td>78</td>\n      <td>...</td>\n      <td>0.19300</td>\n      <td>0.579</td>\n      <td>0.904</td>\n      <td>0.000000</td>\n      <td>0.0640</td>\n      <td>-2.729</td>\n      <td>0.0618</td>\n      <td>0.681</td>\n      <td>82.014</td>\n      <td>1</td>\n    </tr>\n    <tr>\n      <th>...</th>\n      <td>...</td>\n      <td>...</td>\n      <td>...</td>\n      <td>...</td>\n      <td>...</td>\n      <td>...</td>\n      <td>...</td>\n      <td>...</td>\n      <td>...</td>\n      <td>...</td>\n      <td>...</td>\n      <td>...</td>\n      <td>...</td>\n      <td>...</td>\n      <td>...</td>\n      <td>...</td>\n      <td>...</td>\n      <td>...</td>\n      <td>...</td>\n      <td>...</td>\n      <td>...</td>\n    </tr>\n    <tr>\n      <th>11954</th>\n      <td>5mz9pQZZXNpAw9CdQ7Bk8q</td>\n      <td>Don't Pity Me - Mono; 2003 Remaster</td>\n      <td>['6lHC2EQMEMZiEmSfFloarn']</td>\n      <td>['Peter And Gordon']</td>\n      <td>8</td>\n      <td>False</td>\n      <td>Solo</td>\n      <td>1</td>\n      <td>1</td>\n      <td>78</td>\n      <td>...</td>\n      <td>0.61900</td>\n      <td>0.500</td>\n      <td>0.654</td>\n      <td>0.000000</td>\n      <td>0.3320</td>\n      <td>-8.633</td>\n      <td>0.0394</td>\n      <td>0.403</td>\n      <td>107.326</td>\n      <td>1</td>\n    </tr>\n    <tr>\n      <th>11955</th>\n      <td>2H9CKpZiLDF223BbwehpDF</td>\n      <td>Hush Hush; Hush Hush - Main</td>\n      <td>['6wPhSqRtPu1UhRCDX5yaDJ']</td>\n      <td>['The Pussycat Dolls']</td>\n      <td>57</td>\n      <td>False</td>\n      <td>Solo</td>\n      <td>1</td>\n      <td>1</td>\n      <td>59</td>\n      <td>...</td>\n      <td>0.10500</td>\n      <td>0.609</td>\n      <td>0.790</td>\n      <td>0.000000</td>\n      <td>0.3140</td>\n      <td>-3.787</td>\n      <td>0.0663</td>\n      <td>0.664</td>\n      <td>129.334</td>\n      <td>1</td>\n    </tr>\n    <tr>\n      <th>11956</th>\n      <td>7zqM7Wm2xJLZ50qAnTLoHD</td>\n      <td>Lions, Tigers &amp; Bears</td>\n      <td>['7gSjFKpVmDgC2MMsnN8CYq']</td>\n      <td>['Jazmine Sullivan']</td>\n      <td>49</td>\n      <td>False</td>\n      <td>Solo</td>\n      <td>4</td>\n      <td>1</td>\n      <td>71</td>\n      <td>...</td>\n      <td>0.07880</td>\n      <td>0.576</td>\n      <td>0.515</td>\n      <td>0.000000</td>\n      <td>0.1180</td>\n      <td>-6.178</td>\n      <td>0.0295</td>\n      <td>0.407</td>\n      <td>95.406</td>\n      <td>1</td>\n    </tr>\n    <tr>\n      <th>11957</th>\n      <td>4DPlKVZ6R1EHLfnIsy9ouh</td>\n      <td>The Weight</td>\n      <td>['0rXI0q8Cahq6numvPlloaq', '3RwQ26hR2tJtA8F9p2...</td>\n      <td>['Diana Ross &amp; The Supremes', 'The Temptations']</td>\n      <td>2</td>\n      <td>False</td>\n      <td>Collaboration</td>\n      <td>23</td>\n      <td>2</td>\n      <td>79</td>\n      <td>...</td>\n      <td>0.37000</td>\n      <td>0.566</td>\n      <td>0.607</td>\n      <td>0.000000</td>\n      <td>0.6710</td>\n      <td>-7.532</td>\n      <td>0.0357</td>\n      <td>0.765</td>\n      <td>91.378</td>\n      <td>1</td>\n    </tr>\n    <tr>\n      <th>11958</th>\n      <td>6RUa3ZwZYnJnNgZxtIYJR9</td>\n      <td>Purest of Pain (A Puro Dolor) - Martinee's Rad...</td>\n      <td>['1qyAl8T6GTcaOViaI7fs1j', '7AOI1S3Uy411dDhNTd...</td>\n      <td>['Son By Four', 'Lewis Martinee']</td>\n      <td>10</td>\n      <td>False</td>\n      <td>Collaboration</td>\n      <td>1</td>\n      <td>2</td>\n      <td>79</td>\n      <td>...</td>\n      <td>0.45000</td>\n      <td>0.593</td>\n      <td>0.939</td>\n      <td>0.000013</td>\n      <td>0.1090</td>\n      <td>-3.431</td>\n      <td>0.0616</td>\n      <td>0.743</td>\n      <td>134.108</td>\n      <td>1</td>\n    </tr>\n  </tbody>\n</table>\n<p>11959 rows × 25 columns</p>\n</div>"
     },
     "execution_count": 1,
     "metadata": {},
     "output_type": "execute_result"
    }
   ],
   "source": [
    "import pandas as pd\n",
    "import matplotlib.pyplot as plt\n",
    "\n",
    "df_hits = pd.read_csv(\"additional/hits_dataset.csv\", delimiter=\"\\t\")\n",
    "df_hits[\"hit\"] = 1\n",
    "df_hits"
   ]
  },
  {
   "cell_type": "code",
   "execution_count": 2,
   "outputs": [
    {
     "name": "stderr",
     "output_type": "stream",
     "text": [
      "C:\\Users\\lasse\\AppData\\Local\\Temp\\ipykernel_7816\\2533836516.py:1: DtypeWarning: Columns (11,12,13,14,15,16,17,18,19,20,21,22,23) have mixed types. Specify dtype option on import or set low_memory=False.\n",
      "  df_nonhits = pd.read_csv(\"additional/nonhits_dataset.csv\", delimiter=\"\\t\")\n"
     ]
    },
    {
     "data": {
      "text/plain": "                       song_id  \\\n0       1TEL6MlSSVLSdhOSddidlJ   \n1       4uTvPEr01pjTbZgl7jcKBD   \n2       2hloaUoRonYssMuqLCBLTX   \n3       3wFLWP0FcIqHK1wb1CPthQ   \n4       5Il6Oe7lr5XM7A0cWbVQtr   \n...                        ...   \n899063  2tP0ryZParpdjvxubgXhTN   \n899064  7Ltni80U0w7bmYjXPNzSEa   \n899065  1gQClXN1Dq4rj0wBzddcNA   \n899066  2jhxQrFNdVPkWL28X7ZpeK   \n899067  6KkbkpUObAqcKGEfvguHJO   \n\n                                               song_name  \\\n0                                                  needy   \n1                                                   NASA   \n2                                              bloodline   \n3                                             fake smile   \n4                                               bad idea   \n...                                                  ...   \n899063                              Love Is Here to Stay   \n899064                                 Heinlein's Planet   \n899065     Beds are Burning - Karaoke Lead Vocal Version   \n899066  Un homme heureux - Version karaoké instrumentale   \n899067                     Santa Claus Is Coming to Town   \n\n                                               id_artists  \\\n0                              ['66CXWjxzNUsdJxJ2JdwvnR']   \n1                              ['66CXWjxzNUsdJxJ2JdwvnR']   \n2                              ['66CXWjxzNUsdJxJ2JdwvnR']   \n3                              ['66CXWjxzNUsdJxJ2JdwvnR']   \n4                              ['66CXWjxzNUsdJxJ2JdwvnR']   \n...                                                   ...   \n899063  ['3Dzj993UEz8Z5ovxuirzFO', '6RCsx4p5smZHYz2P5H...   \n899064                         ['4urvwbid7NFoVes5PTx9lV']   \n899065                         ['7yv4DJOCmilSbxxsdQgXWk']   \n899066                         ['7yv4DJOCmilSbxxsdQgXWk']   \n899067                         ['7tdO7d7r0vhwov7RIZWH6V']   \n\n                                     name_artists  popularity  explicit  \\\n0                               ['Ariana Grande']          76      True   \n1                               ['Ariana Grande']          76     False   \n2                               ['Ariana Grande']          74      True   \n3                               ['Ariana Grande']          73      True   \n4                               ['Ariana Grande']          74     False   \n...                                           ...         ...       ...   \n899063  ['Lindsey Buckingham', 'Christine McVie']          16     False   \n899064                             ['Tony Carey']           0     False   \n899065                             ['Pictomusic']           0     False   \n899066                             ['Pictomusic']           0     False   \n899067                            ['Mitch Ryder']           0     False   \n\n            song_type  track_number  num_artists  num_available_markets  ...  \\\n0                Solo             2            1                     79  ...   \n1                Solo             3            1                     79  ...   \n2                Solo             4            1                     79  ...   \n3                Solo             5            1                     79  ...   \n4                Solo             6            1                     79  ...   \n...               ...           ...          ...                    ...  ...   \n899063  Collaboration             5            2                      1  ...   \n899064           Solo             5            1                     79  ...   \n899065           Solo             2            1                     79  ...   \n899066           Solo             1            1                     79  ...   \n899067           Solo             3            1                     79  ...   \n\n       acousticness danceability energy instrumentalness liveness loudness  \\\n0              0.78        0.647  0.309         7.41e-06    0.202   -7.948   \n1             0.451        0.747  0.458                0    0.252   -6.891   \n2            0.0815        0.758  0.665         0.000157    0.216   -5.188   \n3             0.329         0.45  0.619                0    0.319   -7.412   \n4            0.0268        0.847  0.579           0.0545    0.102   -5.314   \n...             ...          ...    ...              ...      ...      ...   \n899063        0.366        0.446  0.658         2.49e-05    0.751   -8.362   \n899064        0.481        0.305  0.456            0.933    0.111  -20.199   \n899065       0.0118        0.852  0.648                0   0.0503   -7.189   \n899066        0.973        0.664  0.353            0.787   0.0878  -12.303   \n899067        0.386        0.651  0.896          0.00163   0.0734   -6.004   \n\n       speechiness valence    tempo hit  \n0           0.0366   0.195   87.045   0  \n1            0.303    0.47   75.029   0  \n2           0.0774   0.643  151.976   0  \n3            0.372   0.427     83.3   0  \n4           0.0719   0.569  137.998   0  \n...            ...     ...      ...  ..  \n899063      0.0297   0.554    84.74   0  \n899064      0.0634   0.171   96.996   0  \n899065       0.048   0.559   120.15   0  \n899066      0.0693   0.284   116.45   0  \n899067      0.0327   0.893  148.107   0  \n\n[899068 rows x 25 columns]",
      "text/html": "<div>\n<style scoped>\n    .dataframe tbody tr th:only-of-type {\n        vertical-align: middle;\n    }\n\n    .dataframe tbody tr th {\n        vertical-align: top;\n    }\n\n    .dataframe thead th {\n        text-align: right;\n    }\n</style>\n<table border=\"1\" class=\"dataframe\">\n  <thead>\n    <tr style=\"text-align: right;\">\n      <th></th>\n      <th>song_id</th>\n      <th>song_name</th>\n      <th>id_artists</th>\n      <th>name_artists</th>\n      <th>popularity</th>\n      <th>explicit</th>\n      <th>song_type</th>\n      <th>track_number</th>\n      <th>num_artists</th>\n      <th>num_available_markets</th>\n      <th>...</th>\n      <th>acousticness</th>\n      <th>danceability</th>\n      <th>energy</th>\n      <th>instrumentalness</th>\n      <th>liveness</th>\n      <th>loudness</th>\n      <th>speechiness</th>\n      <th>valence</th>\n      <th>tempo</th>\n      <th>hit</th>\n    </tr>\n  </thead>\n  <tbody>\n    <tr>\n      <th>0</th>\n      <td>1TEL6MlSSVLSdhOSddidlJ</td>\n      <td>needy</td>\n      <td>['66CXWjxzNUsdJxJ2JdwvnR']</td>\n      <td>['Ariana Grande']</td>\n      <td>76</td>\n      <td>True</td>\n      <td>Solo</td>\n      <td>2</td>\n      <td>1</td>\n      <td>79</td>\n      <td>...</td>\n      <td>0.78</td>\n      <td>0.647</td>\n      <td>0.309</td>\n      <td>7.41e-06</td>\n      <td>0.202</td>\n      <td>-7.948</td>\n      <td>0.0366</td>\n      <td>0.195</td>\n      <td>87.045</td>\n      <td>0</td>\n    </tr>\n    <tr>\n      <th>1</th>\n      <td>4uTvPEr01pjTbZgl7jcKBD</td>\n      <td>NASA</td>\n      <td>['66CXWjxzNUsdJxJ2JdwvnR']</td>\n      <td>['Ariana Grande']</td>\n      <td>76</td>\n      <td>False</td>\n      <td>Solo</td>\n      <td>3</td>\n      <td>1</td>\n      <td>79</td>\n      <td>...</td>\n      <td>0.451</td>\n      <td>0.747</td>\n      <td>0.458</td>\n      <td>0</td>\n      <td>0.252</td>\n      <td>-6.891</td>\n      <td>0.303</td>\n      <td>0.47</td>\n      <td>75.029</td>\n      <td>0</td>\n    </tr>\n    <tr>\n      <th>2</th>\n      <td>2hloaUoRonYssMuqLCBLTX</td>\n      <td>bloodline</td>\n      <td>['66CXWjxzNUsdJxJ2JdwvnR']</td>\n      <td>['Ariana Grande']</td>\n      <td>74</td>\n      <td>True</td>\n      <td>Solo</td>\n      <td>4</td>\n      <td>1</td>\n      <td>79</td>\n      <td>...</td>\n      <td>0.0815</td>\n      <td>0.758</td>\n      <td>0.665</td>\n      <td>0.000157</td>\n      <td>0.216</td>\n      <td>-5.188</td>\n      <td>0.0774</td>\n      <td>0.643</td>\n      <td>151.976</td>\n      <td>0</td>\n    </tr>\n    <tr>\n      <th>3</th>\n      <td>3wFLWP0FcIqHK1wb1CPthQ</td>\n      <td>fake smile</td>\n      <td>['66CXWjxzNUsdJxJ2JdwvnR']</td>\n      <td>['Ariana Grande']</td>\n      <td>73</td>\n      <td>True</td>\n      <td>Solo</td>\n      <td>5</td>\n      <td>1</td>\n      <td>79</td>\n      <td>...</td>\n      <td>0.329</td>\n      <td>0.45</td>\n      <td>0.619</td>\n      <td>0</td>\n      <td>0.319</td>\n      <td>-7.412</td>\n      <td>0.372</td>\n      <td>0.427</td>\n      <td>83.3</td>\n      <td>0</td>\n    </tr>\n    <tr>\n      <th>4</th>\n      <td>5Il6Oe7lr5XM7A0cWbVQtr</td>\n      <td>bad idea</td>\n      <td>['66CXWjxzNUsdJxJ2JdwvnR']</td>\n      <td>['Ariana Grande']</td>\n      <td>74</td>\n      <td>False</td>\n      <td>Solo</td>\n      <td>6</td>\n      <td>1</td>\n      <td>79</td>\n      <td>...</td>\n      <td>0.0268</td>\n      <td>0.847</td>\n      <td>0.579</td>\n      <td>0.0545</td>\n      <td>0.102</td>\n      <td>-5.314</td>\n      <td>0.0719</td>\n      <td>0.569</td>\n      <td>137.998</td>\n      <td>0</td>\n    </tr>\n    <tr>\n      <th>...</th>\n      <td>...</td>\n      <td>...</td>\n      <td>...</td>\n      <td>...</td>\n      <td>...</td>\n      <td>...</td>\n      <td>...</td>\n      <td>...</td>\n      <td>...</td>\n      <td>...</td>\n      <td>...</td>\n      <td>...</td>\n      <td>...</td>\n      <td>...</td>\n      <td>...</td>\n      <td>...</td>\n      <td>...</td>\n      <td>...</td>\n      <td>...</td>\n      <td>...</td>\n      <td>...</td>\n    </tr>\n    <tr>\n      <th>899063</th>\n      <td>2tP0ryZParpdjvxubgXhTN</td>\n      <td>Love Is Here to Stay</td>\n      <td>['3Dzj993UEz8Z5ovxuirzFO', '6RCsx4p5smZHYz2P5H...</td>\n      <td>['Lindsey Buckingham', 'Christine McVie']</td>\n      <td>16</td>\n      <td>False</td>\n      <td>Collaboration</td>\n      <td>5</td>\n      <td>2</td>\n      <td>1</td>\n      <td>...</td>\n      <td>0.366</td>\n      <td>0.446</td>\n      <td>0.658</td>\n      <td>2.49e-05</td>\n      <td>0.751</td>\n      <td>-8.362</td>\n      <td>0.0297</td>\n      <td>0.554</td>\n      <td>84.74</td>\n      <td>0</td>\n    </tr>\n    <tr>\n      <th>899064</th>\n      <td>7Ltni80U0w7bmYjXPNzSEa</td>\n      <td>Heinlein's Planet</td>\n      <td>['4urvwbid7NFoVes5PTx9lV']</td>\n      <td>['Tony Carey']</td>\n      <td>0</td>\n      <td>False</td>\n      <td>Solo</td>\n      <td>5</td>\n      <td>1</td>\n      <td>79</td>\n      <td>...</td>\n      <td>0.481</td>\n      <td>0.305</td>\n      <td>0.456</td>\n      <td>0.933</td>\n      <td>0.111</td>\n      <td>-20.199</td>\n      <td>0.0634</td>\n      <td>0.171</td>\n      <td>96.996</td>\n      <td>0</td>\n    </tr>\n    <tr>\n      <th>899065</th>\n      <td>1gQClXN1Dq4rj0wBzddcNA</td>\n      <td>Beds are Burning - Karaoke Lead Vocal Version</td>\n      <td>['7yv4DJOCmilSbxxsdQgXWk']</td>\n      <td>['Pictomusic']</td>\n      <td>0</td>\n      <td>False</td>\n      <td>Solo</td>\n      <td>2</td>\n      <td>1</td>\n      <td>79</td>\n      <td>...</td>\n      <td>0.0118</td>\n      <td>0.852</td>\n      <td>0.648</td>\n      <td>0</td>\n      <td>0.0503</td>\n      <td>-7.189</td>\n      <td>0.048</td>\n      <td>0.559</td>\n      <td>120.15</td>\n      <td>0</td>\n    </tr>\n    <tr>\n      <th>899066</th>\n      <td>2jhxQrFNdVPkWL28X7ZpeK</td>\n      <td>Un homme heureux - Version karaoké instrumentale</td>\n      <td>['7yv4DJOCmilSbxxsdQgXWk']</td>\n      <td>['Pictomusic']</td>\n      <td>0</td>\n      <td>False</td>\n      <td>Solo</td>\n      <td>1</td>\n      <td>1</td>\n      <td>79</td>\n      <td>...</td>\n      <td>0.973</td>\n      <td>0.664</td>\n      <td>0.353</td>\n      <td>0.787</td>\n      <td>0.0878</td>\n      <td>-12.303</td>\n      <td>0.0693</td>\n      <td>0.284</td>\n      <td>116.45</td>\n      <td>0</td>\n    </tr>\n    <tr>\n      <th>899067</th>\n      <td>6KkbkpUObAqcKGEfvguHJO</td>\n      <td>Santa Claus Is Coming to Town</td>\n      <td>['7tdO7d7r0vhwov7RIZWH6V']</td>\n      <td>['Mitch Ryder']</td>\n      <td>0</td>\n      <td>False</td>\n      <td>Solo</td>\n      <td>3</td>\n      <td>1</td>\n      <td>79</td>\n      <td>...</td>\n      <td>0.386</td>\n      <td>0.651</td>\n      <td>0.896</td>\n      <td>0.00163</td>\n      <td>0.0734</td>\n      <td>-6.004</td>\n      <td>0.0327</td>\n      <td>0.893</td>\n      <td>148.107</td>\n      <td>0</td>\n    </tr>\n  </tbody>\n</table>\n<p>899068 rows × 25 columns</p>\n</div>"
     },
     "execution_count": 2,
     "metadata": {},
     "output_type": "execute_result"
    }
   ],
   "source": [
    "df_nonhits = pd.read_csv(\"additional/nonhits_dataset.csv\", delimiter=\"\\t\")\n",
    "df_nonhits[\"hit\"] = 0\n",
    "df_nonhits"
   ],
   "metadata": {
    "collapsed": false,
    "ExecuteTime": {
     "end_time": "2024-05-17T13:56:55.249961500Z",
     "start_time": "2024-05-17T13:56:51.585928800Z"
    }
   },
   "id": "26d5e57f02f1e85d"
  },
  {
   "cell_type": "code",
   "execution_count": 3,
   "outputs": [
    {
     "data": {
      "text/plain": "                       song_id  \\\n0       3e9HZxeyfWwjeyPAMmWSSQ   \n1       5p7ujcrUXASCNwRaWNHR1C   \n2       2xLMifQCjDGFmkHkpNLD9h   \n3       3KkXRkHbMCARz0aVfEt68P   \n4       1rqqCSm0Qe4I9rUvWncaom   \n...                        ...   \n899063  2tP0ryZParpdjvxubgXhTN   \n899064  7Ltni80U0w7bmYjXPNzSEa   \n899065  1gQClXN1Dq4rj0wBzddcNA   \n899066  2jhxQrFNdVPkWL28X7ZpeK   \n899067  6KkbkpUObAqcKGEfvguHJO   \n\n                                               song_name  \\\n0                                          thank u, next   \n1                                             Without Me   \n2                                             SICKO MODE   \n3          Sunflower - Spider-Man: Into the Spider-Verse   \n4                                             High Hopes   \n...                                                  ...   \n899063                              Love Is Here to Stay   \n899064                                 Heinlein's Planet   \n899065     Beds are Burning - Karaoke Lead Vocal Version   \n899066  Un homme heureux - Version karaoké instrumentale   \n899067                     Santa Claus Is Coming to Town   \n\n                                               id_artists  \\\n0                              ['66CXWjxzNUsdJxJ2JdwvnR']   \n1                              ['26VFTg2z8YR0cCuwLzESi2']   \n2                              ['0Y5tJX1MQlPlqiwlOH1tJY']   \n3       ['246dkjvS1zLTtiykXe5h60', '1zNqQNIdeOUZHb8zbZ...   \n4                              ['20JZFwl6HVl6yg8a4H3ZqK']   \n...                                                   ...   \n899063  ['3Dzj993UEz8Z5ovxuirzFO', '6RCsx4p5smZHYz2P5H...   \n899064                         ['4urvwbid7NFoVes5PTx9lV']   \n899065                         ['7yv4DJOCmilSbxxsdQgXWk']   \n899066                         ['7yv4DJOCmilSbxxsdQgXWk']   \n899067                         ['7tdO7d7r0vhwov7RIZWH6V']   \n\n                                     name_artists  popularity  explicit  \\\n0                               ['Ariana Grande']          87      True   \n1                                      ['Halsey']          87      True   \n2                                ['Travis Scott']          86      True   \n3                     ['Post Malone', 'Swae Lee']          92     False   \n4                         ['Panic! At The Disco']          86     False   \n...                                           ...         ...       ...   \n899063  ['Lindsey Buckingham', 'Christine McVie']          16     False   \n899064                             ['Tony Carey']           0     False   \n899065                             ['Pictomusic']           0     False   \n899066                             ['Pictomusic']           0     False   \n899067                            ['Mitch Ryder']           0     False   \n\n            song_type  track_number  num_artists  num_available_markets  ...  \\\n0                Solo            11            1                     79  ...   \n1                Solo             1            1                     79  ...   \n2                Solo             3            1                     79  ...   \n3       Collaboration             2            2                     79  ...   \n4                Solo             4            1                     78  ...   \n...               ...           ...          ...                    ...  ...   \n899063  Collaboration             5            2                      1  ...   \n899064           Solo             5            1                     79  ...   \n899065           Solo             2            1                     79  ...   \n899066           Solo             1            1                     79  ...   \n899067           Solo             3            1                     79  ...   \n\n       acousticness danceability energy instrumentalness liveness loudness  \\\n0             0.229        0.717  0.653              0.0    0.101   -5.634   \n1             0.297        0.752  0.488         0.000009   0.0936    -7.05   \n2           0.00513        0.834   0.73              0.0    0.124   -3.714   \n3             0.556         0.76  0.479              0.0   0.0703   -5.574   \n4             0.193        0.579  0.904              0.0    0.064   -2.729   \n...             ...          ...    ...              ...      ...      ...   \n899063        0.366        0.446  0.658         2.49e-05    0.751   -8.362   \n899064        0.481        0.305  0.456            0.933    0.111  -20.199   \n899065       0.0118        0.852  0.648                0   0.0503   -7.189   \n899066        0.973        0.664  0.353            0.787   0.0878  -12.303   \n899067        0.386        0.651  0.896          0.00163   0.0734   -6.004   \n\n       speechiness valence    tempo hit  \n0           0.0658   0.412  106.966   1  \n1           0.0705   0.533  136.041   1  \n2            0.222   0.446  155.008   1  \n3           0.0466   0.913   89.911   1  \n4           0.0618   0.681   82.014   1  \n...            ...     ...      ...  ..  \n899063      0.0297   0.554    84.74   0  \n899064      0.0634   0.171   96.996   0  \n899065       0.048   0.559   120.15   0  \n899066      0.0693   0.284   116.45   0  \n899067      0.0327   0.893  148.107   0  \n\n[911027 rows x 25 columns]",
      "text/html": "<div>\n<style scoped>\n    .dataframe tbody tr th:only-of-type {\n        vertical-align: middle;\n    }\n\n    .dataframe tbody tr th {\n        vertical-align: top;\n    }\n\n    .dataframe thead th {\n        text-align: right;\n    }\n</style>\n<table border=\"1\" class=\"dataframe\">\n  <thead>\n    <tr style=\"text-align: right;\">\n      <th></th>\n      <th>song_id</th>\n      <th>song_name</th>\n      <th>id_artists</th>\n      <th>name_artists</th>\n      <th>popularity</th>\n      <th>explicit</th>\n      <th>song_type</th>\n      <th>track_number</th>\n      <th>num_artists</th>\n      <th>num_available_markets</th>\n      <th>...</th>\n      <th>acousticness</th>\n      <th>danceability</th>\n      <th>energy</th>\n      <th>instrumentalness</th>\n      <th>liveness</th>\n      <th>loudness</th>\n      <th>speechiness</th>\n      <th>valence</th>\n      <th>tempo</th>\n      <th>hit</th>\n    </tr>\n  </thead>\n  <tbody>\n    <tr>\n      <th>0</th>\n      <td>3e9HZxeyfWwjeyPAMmWSSQ</td>\n      <td>thank u, next</td>\n      <td>['66CXWjxzNUsdJxJ2JdwvnR']</td>\n      <td>['Ariana Grande']</td>\n      <td>87</td>\n      <td>True</td>\n      <td>Solo</td>\n      <td>11</td>\n      <td>1</td>\n      <td>79</td>\n      <td>...</td>\n      <td>0.229</td>\n      <td>0.717</td>\n      <td>0.653</td>\n      <td>0.0</td>\n      <td>0.101</td>\n      <td>-5.634</td>\n      <td>0.0658</td>\n      <td>0.412</td>\n      <td>106.966</td>\n      <td>1</td>\n    </tr>\n    <tr>\n      <th>1</th>\n      <td>5p7ujcrUXASCNwRaWNHR1C</td>\n      <td>Without Me</td>\n      <td>['26VFTg2z8YR0cCuwLzESi2']</td>\n      <td>['Halsey']</td>\n      <td>87</td>\n      <td>True</td>\n      <td>Solo</td>\n      <td>1</td>\n      <td>1</td>\n      <td>79</td>\n      <td>...</td>\n      <td>0.297</td>\n      <td>0.752</td>\n      <td>0.488</td>\n      <td>0.000009</td>\n      <td>0.0936</td>\n      <td>-7.05</td>\n      <td>0.0705</td>\n      <td>0.533</td>\n      <td>136.041</td>\n      <td>1</td>\n    </tr>\n    <tr>\n      <th>2</th>\n      <td>2xLMifQCjDGFmkHkpNLD9h</td>\n      <td>SICKO MODE</td>\n      <td>['0Y5tJX1MQlPlqiwlOH1tJY']</td>\n      <td>['Travis Scott']</td>\n      <td>86</td>\n      <td>True</td>\n      <td>Solo</td>\n      <td>3</td>\n      <td>1</td>\n      <td>79</td>\n      <td>...</td>\n      <td>0.00513</td>\n      <td>0.834</td>\n      <td>0.73</td>\n      <td>0.0</td>\n      <td>0.124</td>\n      <td>-3.714</td>\n      <td>0.222</td>\n      <td>0.446</td>\n      <td>155.008</td>\n      <td>1</td>\n    </tr>\n    <tr>\n      <th>3</th>\n      <td>3KkXRkHbMCARz0aVfEt68P</td>\n      <td>Sunflower - Spider-Man: Into the Spider-Verse</td>\n      <td>['246dkjvS1zLTtiykXe5h60', '1zNqQNIdeOUZHb8zbZ...</td>\n      <td>['Post Malone', 'Swae Lee']</td>\n      <td>92</td>\n      <td>False</td>\n      <td>Collaboration</td>\n      <td>2</td>\n      <td>2</td>\n      <td>79</td>\n      <td>...</td>\n      <td>0.556</td>\n      <td>0.76</td>\n      <td>0.479</td>\n      <td>0.0</td>\n      <td>0.0703</td>\n      <td>-5.574</td>\n      <td>0.0466</td>\n      <td>0.913</td>\n      <td>89.911</td>\n      <td>1</td>\n    </tr>\n    <tr>\n      <th>4</th>\n      <td>1rqqCSm0Qe4I9rUvWncaom</td>\n      <td>High Hopes</td>\n      <td>['20JZFwl6HVl6yg8a4H3ZqK']</td>\n      <td>['Panic! At The Disco']</td>\n      <td>86</td>\n      <td>False</td>\n      <td>Solo</td>\n      <td>4</td>\n      <td>1</td>\n      <td>78</td>\n      <td>...</td>\n      <td>0.193</td>\n      <td>0.579</td>\n      <td>0.904</td>\n      <td>0.0</td>\n      <td>0.064</td>\n      <td>-2.729</td>\n      <td>0.0618</td>\n      <td>0.681</td>\n      <td>82.014</td>\n      <td>1</td>\n    </tr>\n    <tr>\n      <th>...</th>\n      <td>...</td>\n      <td>...</td>\n      <td>...</td>\n      <td>...</td>\n      <td>...</td>\n      <td>...</td>\n      <td>...</td>\n      <td>...</td>\n      <td>...</td>\n      <td>...</td>\n      <td>...</td>\n      <td>...</td>\n      <td>...</td>\n      <td>...</td>\n      <td>...</td>\n      <td>...</td>\n      <td>...</td>\n      <td>...</td>\n      <td>...</td>\n      <td>...</td>\n      <td>...</td>\n    </tr>\n    <tr>\n      <th>899063</th>\n      <td>2tP0ryZParpdjvxubgXhTN</td>\n      <td>Love Is Here to Stay</td>\n      <td>['3Dzj993UEz8Z5ovxuirzFO', '6RCsx4p5smZHYz2P5H...</td>\n      <td>['Lindsey Buckingham', 'Christine McVie']</td>\n      <td>16</td>\n      <td>False</td>\n      <td>Collaboration</td>\n      <td>5</td>\n      <td>2</td>\n      <td>1</td>\n      <td>...</td>\n      <td>0.366</td>\n      <td>0.446</td>\n      <td>0.658</td>\n      <td>2.49e-05</td>\n      <td>0.751</td>\n      <td>-8.362</td>\n      <td>0.0297</td>\n      <td>0.554</td>\n      <td>84.74</td>\n      <td>0</td>\n    </tr>\n    <tr>\n      <th>899064</th>\n      <td>7Ltni80U0w7bmYjXPNzSEa</td>\n      <td>Heinlein's Planet</td>\n      <td>['4urvwbid7NFoVes5PTx9lV']</td>\n      <td>['Tony Carey']</td>\n      <td>0</td>\n      <td>False</td>\n      <td>Solo</td>\n      <td>5</td>\n      <td>1</td>\n      <td>79</td>\n      <td>...</td>\n      <td>0.481</td>\n      <td>0.305</td>\n      <td>0.456</td>\n      <td>0.933</td>\n      <td>0.111</td>\n      <td>-20.199</td>\n      <td>0.0634</td>\n      <td>0.171</td>\n      <td>96.996</td>\n      <td>0</td>\n    </tr>\n    <tr>\n      <th>899065</th>\n      <td>1gQClXN1Dq4rj0wBzddcNA</td>\n      <td>Beds are Burning - Karaoke Lead Vocal Version</td>\n      <td>['7yv4DJOCmilSbxxsdQgXWk']</td>\n      <td>['Pictomusic']</td>\n      <td>0</td>\n      <td>False</td>\n      <td>Solo</td>\n      <td>2</td>\n      <td>1</td>\n      <td>79</td>\n      <td>...</td>\n      <td>0.0118</td>\n      <td>0.852</td>\n      <td>0.648</td>\n      <td>0</td>\n      <td>0.0503</td>\n      <td>-7.189</td>\n      <td>0.048</td>\n      <td>0.559</td>\n      <td>120.15</td>\n      <td>0</td>\n    </tr>\n    <tr>\n      <th>899066</th>\n      <td>2jhxQrFNdVPkWL28X7ZpeK</td>\n      <td>Un homme heureux - Version karaoké instrumentale</td>\n      <td>['7yv4DJOCmilSbxxsdQgXWk']</td>\n      <td>['Pictomusic']</td>\n      <td>0</td>\n      <td>False</td>\n      <td>Solo</td>\n      <td>1</td>\n      <td>1</td>\n      <td>79</td>\n      <td>...</td>\n      <td>0.973</td>\n      <td>0.664</td>\n      <td>0.353</td>\n      <td>0.787</td>\n      <td>0.0878</td>\n      <td>-12.303</td>\n      <td>0.0693</td>\n      <td>0.284</td>\n      <td>116.45</td>\n      <td>0</td>\n    </tr>\n    <tr>\n      <th>899067</th>\n      <td>6KkbkpUObAqcKGEfvguHJO</td>\n      <td>Santa Claus Is Coming to Town</td>\n      <td>['7tdO7d7r0vhwov7RIZWH6V']</td>\n      <td>['Mitch Ryder']</td>\n      <td>0</td>\n      <td>False</td>\n      <td>Solo</td>\n      <td>3</td>\n      <td>1</td>\n      <td>79</td>\n      <td>...</td>\n      <td>0.386</td>\n      <td>0.651</td>\n      <td>0.896</td>\n      <td>0.00163</td>\n      <td>0.0734</td>\n      <td>-6.004</td>\n      <td>0.0327</td>\n      <td>0.893</td>\n      <td>148.107</td>\n      <td>0</td>\n    </tr>\n  </tbody>\n</table>\n<p>911027 rows × 25 columns</p>\n</div>"
     },
     "execution_count": 3,
     "metadata": {},
     "output_type": "execute_result"
    }
   ],
   "source": [
    "combined_df = pd.concat([df_hits, df_nonhits], axis=0)\n",
    "combined_df.replace(\"-\", float(\"nan\"), inplace=True)\n",
    "# Drop all rows with NaN values\n",
    "combined_df"
   ],
   "metadata": {
    "collapsed": false,
    "ExecuteTime": {
     "end_time": "2024-05-17T13:56:56.972962400Z",
     "start_time": "2024-05-17T13:56:55.251962Z"
    }
   },
   "id": "6f9b2d1a6293f615"
  },
  {
   "cell_type": "code",
   "execution_count": 4,
   "outputs": [
    {
     "name": "stdout",
     "output_type": "stream",
     "text": [
      "Columns with NaN values:\n",
      "['duration_ms', 'key', 'mode', 'time_signature', 'acousticness', 'danceability', 'energy', 'instrumentalness', 'liveness', 'loudness', 'speechiness', 'valence', 'tempo']\n"
     ]
    }
   ],
   "source": [
    "# Check for NaN values in all columns\n",
    "nan_columns = combined_df.columns[combined_df.isna().any()].tolist()\n",
    "\n",
    "# Print columns with NaN values\n",
    "print(\"Columns with NaN values:\")\n",
    "print(nan_columns)\n"
   ],
   "metadata": {
    "collapsed": false,
    "ExecuteTime": {
     "end_time": "2024-05-17T13:56:57.333904900Z",
     "start_time": "2024-05-17T13:56:56.976960600Z"
    }
   },
   "id": "8756697fa413e9af"
  },
  {
   "cell_type": "code",
   "execution_count": 5,
   "outputs": [
    {
     "data": {
      "text/plain": "                       song_id  \\\n0       3e9HZxeyfWwjeyPAMmWSSQ   \n1       5p7ujcrUXASCNwRaWNHR1C   \n2       2xLMifQCjDGFmkHkpNLD9h   \n3       3KkXRkHbMCARz0aVfEt68P   \n4       1rqqCSm0Qe4I9rUvWncaom   \n...                        ...   \n899063  2tP0ryZParpdjvxubgXhTN   \n899064  7Ltni80U0w7bmYjXPNzSEa   \n899065  1gQClXN1Dq4rj0wBzddcNA   \n899066  2jhxQrFNdVPkWL28X7ZpeK   \n899067  6KkbkpUObAqcKGEfvguHJO   \n\n                                               song_name  \\\n0                                          thank u, next   \n1                                             Without Me   \n2                                             SICKO MODE   \n3          Sunflower - Spider-Man: Into the Spider-Verse   \n4                                             High Hopes   \n...                                                  ...   \n899063                              Love Is Here to Stay   \n899064                                 Heinlein's Planet   \n899065     Beds are Burning - Karaoke Lead Vocal Version   \n899066  Un homme heureux - Version karaoké instrumentale   \n899067                     Santa Claus Is Coming to Town   \n\n                                               id_artists  \\\n0                              ['66CXWjxzNUsdJxJ2JdwvnR']   \n1                              ['26VFTg2z8YR0cCuwLzESi2']   \n2                              ['0Y5tJX1MQlPlqiwlOH1tJY']   \n3       ['246dkjvS1zLTtiykXe5h60', '1zNqQNIdeOUZHb8zbZ...   \n4                              ['20JZFwl6HVl6yg8a4H3ZqK']   \n...                                                   ...   \n899063  ['3Dzj993UEz8Z5ovxuirzFO', '6RCsx4p5smZHYz2P5H...   \n899064                         ['4urvwbid7NFoVes5PTx9lV']   \n899065                         ['7yv4DJOCmilSbxxsdQgXWk']   \n899066                         ['7yv4DJOCmilSbxxsdQgXWk']   \n899067                         ['7tdO7d7r0vhwov7RIZWH6V']   \n\n                                     name_artists  popularity  explicit  \\\n0                               ['Ariana Grande']          87      True   \n1                                      ['Halsey']          87      True   \n2                                ['Travis Scott']          86      True   \n3                     ['Post Malone', 'Swae Lee']          92     False   \n4                         ['Panic! At The Disco']          86     False   \n...                                           ...         ...       ...   \n899063  ['Lindsey Buckingham', 'Christine McVie']          16     False   \n899064                             ['Tony Carey']           0     False   \n899065                             ['Pictomusic']           0     False   \n899066                             ['Pictomusic']           0     False   \n899067                            ['Mitch Ryder']           0     False   \n\n            song_type  track_number  num_artists  num_available_markets  ...  \\\n0                Solo            11            1                     79  ...   \n1                Solo             1            1                     79  ...   \n2                Solo             3            1                     79  ...   \n3       Collaboration             2            2                     79  ...   \n4                Solo             4            1                     78  ...   \n...               ...           ...          ...                    ...  ...   \n899063  Collaboration             5            2                      1  ...   \n899064           Solo             5            1                     79  ...   \n899065           Solo             2            1                     79  ...   \n899066           Solo             1            1                     79  ...   \n899067           Solo             3            1                     79  ...   \n\n       acousticness  danceability  energy  instrumentalness  liveness  \\\n0           0.22900         0.717   0.653          0.000000    0.1010   \n1           0.29700         0.752   0.488          0.000009    0.0936   \n2           0.00513         0.834   0.730          0.000000    0.1240   \n3           0.55600         0.760   0.479          0.000000    0.0703   \n4           0.19300         0.579   0.904          0.000000    0.0640   \n...             ...           ...     ...               ...       ...   \n899063      0.36600         0.446   0.658          0.000025    0.7510   \n899064      0.48100         0.305   0.456          0.933000    0.1110   \n899065      0.01180         0.852   0.648          0.000000    0.0503   \n899066      0.97300         0.664   0.353          0.787000    0.0878   \n899067      0.38600         0.651   0.896          0.001630    0.0734   \n\n        loudness  speechiness  valence    tempo  hit  \n0         -5.634       0.0658    0.412  106.966    1  \n1         -7.050       0.0705    0.533  136.041    1  \n2         -3.714       0.2220    0.446  155.008    1  \n3         -5.574       0.0466    0.913   89.911    1  \n4         -2.729       0.0618    0.681   82.014    1  \n...          ...          ...      ...      ...  ...  \n899063    -8.362       0.0297    0.554   84.740    0  \n899064   -20.199       0.0634    0.171   96.996    0  \n899065    -7.189       0.0480    0.559  120.150    0  \n899066   -12.303       0.0693    0.284  116.450    0  \n899067    -6.004       0.0327    0.893  148.107    0  \n\n[911027 rows x 25 columns]",
      "text/html": "<div>\n<style scoped>\n    .dataframe tbody tr th:only-of-type {\n        vertical-align: middle;\n    }\n\n    .dataframe tbody tr th {\n        vertical-align: top;\n    }\n\n    .dataframe thead th {\n        text-align: right;\n    }\n</style>\n<table border=\"1\" class=\"dataframe\">\n  <thead>\n    <tr style=\"text-align: right;\">\n      <th></th>\n      <th>song_id</th>\n      <th>song_name</th>\n      <th>id_artists</th>\n      <th>name_artists</th>\n      <th>popularity</th>\n      <th>explicit</th>\n      <th>song_type</th>\n      <th>track_number</th>\n      <th>num_artists</th>\n      <th>num_available_markets</th>\n      <th>...</th>\n      <th>acousticness</th>\n      <th>danceability</th>\n      <th>energy</th>\n      <th>instrumentalness</th>\n      <th>liveness</th>\n      <th>loudness</th>\n      <th>speechiness</th>\n      <th>valence</th>\n      <th>tempo</th>\n      <th>hit</th>\n    </tr>\n  </thead>\n  <tbody>\n    <tr>\n      <th>0</th>\n      <td>3e9HZxeyfWwjeyPAMmWSSQ</td>\n      <td>thank u, next</td>\n      <td>['66CXWjxzNUsdJxJ2JdwvnR']</td>\n      <td>['Ariana Grande']</td>\n      <td>87</td>\n      <td>True</td>\n      <td>Solo</td>\n      <td>11</td>\n      <td>1</td>\n      <td>79</td>\n      <td>...</td>\n      <td>0.22900</td>\n      <td>0.717</td>\n      <td>0.653</td>\n      <td>0.000000</td>\n      <td>0.1010</td>\n      <td>-5.634</td>\n      <td>0.0658</td>\n      <td>0.412</td>\n      <td>106.966</td>\n      <td>1</td>\n    </tr>\n    <tr>\n      <th>1</th>\n      <td>5p7ujcrUXASCNwRaWNHR1C</td>\n      <td>Without Me</td>\n      <td>['26VFTg2z8YR0cCuwLzESi2']</td>\n      <td>['Halsey']</td>\n      <td>87</td>\n      <td>True</td>\n      <td>Solo</td>\n      <td>1</td>\n      <td>1</td>\n      <td>79</td>\n      <td>...</td>\n      <td>0.29700</td>\n      <td>0.752</td>\n      <td>0.488</td>\n      <td>0.000009</td>\n      <td>0.0936</td>\n      <td>-7.050</td>\n      <td>0.0705</td>\n      <td>0.533</td>\n      <td>136.041</td>\n      <td>1</td>\n    </tr>\n    <tr>\n      <th>2</th>\n      <td>2xLMifQCjDGFmkHkpNLD9h</td>\n      <td>SICKO MODE</td>\n      <td>['0Y5tJX1MQlPlqiwlOH1tJY']</td>\n      <td>['Travis Scott']</td>\n      <td>86</td>\n      <td>True</td>\n      <td>Solo</td>\n      <td>3</td>\n      <td>1</td>\n      <td>79</td>\n      <td>...</td>\n      <td>0.00513</td>\n      <td>0.834</td>\n      <td>0.730</td>\n      <td>0.000000</td>\n      <td>0.1240</td>\n      <td>-3.714</td>\n      <td>0.2220</td>\n      <td>0.446</td>\n      <td>155.008</td>\n      <td>1</td>\n    </tr>\n    <tr>\n      <th>3</th>\n      <td>3KkXRkHbMCARz0aVfEt68P</td>\n      <td>Sunflower - Spider-Man: Into the Spider-Verse</td>\n      <td>['246dkjvS1zLTtiykXe5h60', '1zNqQNIdeOUZHb8zbZ...</td>\n      <td>['Post Malone', 'Swae Lee']</td>\n      <td>92</td>\n      <td>False</td>\n      <td>Collaboration</td>\n      <td>2</td>\n      <td>2</td>\n      <td>79</td>\n      <td>...</td>\n      <td>0.55600</td>\n      <td>0.760</td>\n      <td>0.479</td>\n      <td>0.000000</td>\n      <td>0.0703</td>\n      <td>-5.574</td>\n      <td>0.0466</td>\n      <td>0.913</td>\n      <td>89.911</td>\n      <td>1</td>\n    </tr>\n    <tr>\n      <th>4</th>\n      <td>1rqqCSm0Qe4I9rUvWncaom</td>\n      <td>High Hopes</td>\n      <td>['20JZFwl6HVl6yg8a4H3ZqK']</td>\n      <td>['Panic! At The Disco']</td>\n      <td>86</td>\n      <td>False</td>\n      <td>Solo</td>\n      <td>4</td>\n      <td>1</td>\n      <td>78</td>\n      <td>...</td>\n      <td>0.19300</td>\n      <td>0.579</td>\n      <td>0.904</td>\n      <td>0.000000</td>\n      <td>0.0640</td>\n      <td>-2.729</td>\n      <td>0.0618</td>\n      <td>0.681</td>\n      <td>82.014</td>\n      <td>1</td>\n    </tr>\n    <tr>\n      <th>...</th>\n      <td>...</td>\n      <td>...</td>\n      <td>...</td>\n      <td>...</td>\n      <td>...</td>\n      <td>...</td>\n      <td>...</td>\n      <td>...</td>\n      <td>...</td>\n      <td>...</td>\n      <td>...</td>\n      <td>...</td>\n      <td>...</td>\n      <td>...</td>\n      <td>...</td>\n      <td>...</td>\n      <td>...</td>\n      <td>...</td>\n      <td>...</td>\n      <td>...</td>\n      <td>...</td>\n    </tr>\n    <tr>\n      <th>899063</th>\n      <td>2tP0ryZParpdjvxubgXhTN</td>\n      <td>Love Is Here to Stay</td>\n      <td>['3Dzj993UEz8Z5ovxuirzFO', '6RCsx4p5smZHYz2P5H...</td>\n      <td>['Lindsey Buckingham', 'Christine McVie']</td>\n      <td>16</td>\n      <td>False</td>\n      <td>Collaboration</td>\n      <td>5</td>\n      <td>2</td>\n      <td>1</td>\n      <td>...</td>\n      <td>0.36600</td>\n      <td>0.446</td>\n      <td>0.658</td>\n      <td>0.000025</td>\n      <td>0.7510</td>\n      <td>-8.362</td>\n      <td>0.0297</td>\n      <td>0.554</td>\n      <td>84.740</td>\n      <td>0</td>\n    </tr>\n    <tr>\n      <th>899064</th>\n      <td>7Ltni80U0w7bmYjXPNzSEa</td>\n      <td>Heinlein's Planet</td>\n      <td>['4urvwbid7NFoVes5PTx9lV']</td>\n      <td>['Tony Carey']</td>\n      <td>0</td>\n      <td>False</td>\n      <td>Solo</td>\n      <td>5</td>\n      <td>1</td>\n      <td>79</td>\n      <td>...</td>\n      <td>0.48100</td>\n      <td>0.305</td>\n      <td>0.456</td>\n      <td>0.933000</td>\n      <td>0.1110</td>\n      <td>-20.199</td>\n      <td>0.0634</td>\n      <td>0.171</td>\n      <td>96.996</td>\n      <td>0</td>\n    </tr>\n    <tr>\n      <th>899065</th>\n      <td>1gQClXN1Dq4rj0wBzddcNA</td>\n      <td>Beds are Burning - Karaoke Lead Vocal Version</td>\n      <td>['7yv4DJOCmilSbxxsdQgXWk']</td>\n      <td>['Pictomusic']</td>\n      <td>0</td>\n      <td>False</td>\n      <td>Solo</td>\n      <td>2</td>\n      <td>1</td>\n      <td>79</td>\n      <td>...</td>\n      <td>0.01180</td>\n      <td>0.852</td>\n      <td>0.648</td>\n      <td>0.000000</td>\n      <td>0.0503</td>\n      <td>-7.189</td>\n      <td>0.0480</td>\n      <td>0.559</td>\n      <td>120.150</td>\n      <td>0</td>\n    </tr>\n    <tr>\n      <th>899066</th>\n      <td>2jhxQrFNdVPkWL28X7ZpeK</td>\n      <td>Un homme heureux - Version karaoké instrumentale</td>\n      <td>['7yv4DJOCmilSbxxsdQgXWk']</td>\n      <td>['Pictomusic']</td>\n      <td>0</td>\n      <td>False</td>\n      <td>Solo</td>\n      <td>1</td>\n      <td>1</td>\n      <td>79</td>\n      <td>...</td>\n      <td>0.97300</td>\n      <td>0.664</td>\n      <td>0.353</td>\n      <td>0.787000</td>\n      <td>0.0878</td>\n      <td>-12.303</td>\n      <td>0.0693</td>\n      <td>0.284</td>\n      <td>116.450</td>\n      <td>0</td>\n    </tr>\n    <tr>\n      <th>899067</th>\n      <td>6KkbkpUObAqcKGEfvguHJO</td>\n      <td>Santa Claus Is Coming to Town</td>\n      <td>['7tdO7d7r0vhwov7RIZWH6V']</td>\n      <td>['Mitch Ryder']</td>\n      <td>0</td>\n      <td>False</td>\n      <td>Solo</td>\n      <td>3</td>\n      <td>1</td>\n      <td>79</td>\n      <td>...</td>\n      <td>0.38600</td>\n      <td>0.651</td>\n      <td>0.896</td>\n      <td>0.001630</td>\n      <td>0.0734</td>\n      <td>-6.004</td>\n      <td>0.0327</td>\n      <td>0.893</td>\n      <td>148.107</td>\n      <td>0</td>\n    </tr>\n  </tbody>\n</table>\n<p>911027 rows × 25 columns</p>\n</div>"
     },
     "execution_count": 5,
     "metadata": {},
     "output_type": "execute_result"
    }
   ],
   "source": [
    "from sklearn.impute import SimpleImputer\n",
    "\n",
    "combined_df.replace(\"-\", float(\"nan\"), inplace=True)   ## evtl hier schon mean replacement???\n",
    "# combined_df.dropna(inplace=True)   # drop nan value rows\n",
    "#Fill missing values with mean for each numeric attribute\n",
    "imputer = SimpleImputer(strategy='mean')\n",
    "for col in nan_columns:\n",
    "    combined_df[col] = imputer.fit_transform(combined_df[[col]])\n",
    "\n",
    "combined_df"
   ],
   "metadata": {
    "collapsed": false,
    "ExecuteTime": {
     "end_time": "2024-05-17T13:57:00.965154900Z",
     "start_time": "2024-05-17T13:56:57.335905800Z"
    }
   },
   "id": "723e4477181f9728"
  },
  {
   "cell_type": "code",
   "execution_count": 6,
   "outputs": [
    {
     "name": "stdout",
     "output_type": "stream",
     "text": [
      "Columns with NaN values:\n",
      "[]\n"
     ]
    }
   ],
   "source": [
    "# Check for NaN values in all columns\n",
    "nan_columns = combined_df.columns[combined_df.isna().any()].tolist()\n",
    "\n",
    "# Print columns with NaN values\n",
    "print(\"Columns with NaN values:\")\n",
    "print(nan_columns)\n"
   ],
   "metadata": {
    "collapsed": false,
    "ExecuteTime": {
     "end_time": "2024-05-17T13:57:01.101155400Z",
     "start_time": "2024-05-17T13:57:01.038155Z"
    }
   },
   "id": "ad978e73fb721d3e"
  },
  {
   "cell_type": "code",
   "execution_count": 7,
   "outputs": [],
   "source": [
    "from sklearn.model_selection import train_test_split\n",
    "combined_df['date'] = pd.to_datetime(combined_df['release_date'])\n",
    "combined_df.sort_values(by=\"date\", inplace=True)\n",
    "border_day = combined_df[\"date\"].iloc[-1]  - pd.DateOffset(years=6)\n",
    "combined_df = combined_df[(combined_df[\"date\"] >= border_day)]\n",
    "\n",
    "split_day = combined_df[\"date\"].iloc[-1]  - pd.DateOffset(years=1)\n",
    "train_df = combined_df[(combined_df[\"date\"]  < split_day)]\n",
    "test_df = combined_df[(combined_df[\"date\"]  >= split_day)]\n",
    "#train_df, test_df = train_test_split(combined_df, test_size=1/6, shuffle=False)"
   ],
   "metadata": {
    "collapsed": false,
    "ExecuteTime": {
     "end_time": "2024-05-17T13:57:01.778533400Z",
     "start_time": "2024-05-17T13:57:01.125155400Z"
    }
   },
   "id": "f55fc8cca1de5d29"
  },
  {
   "cell_type": "code",
   "execution_count": 8,
   "outputs": [
    {
     "data": {
      "text/plain": "                       song_id  \\\n846000  3rTIDlmlGskGnRRqmRtvYn   \n604826  7zhdgvEuhcxy4iwc0ssoty   \n604827  7urrpTy9j5QGMYrZpPwuEy   \n604828  6Ppgg7vDhYoyyNmmfIE9zK   \n604829  3EOsorrvvIhtlTOoMdEshm   \n...                        ...   \n11098   0xAqhyWvTkfcdFgm7dozMO   \n10903   6zhg8TnVKi90ITDzFKwPr0   \n5856    2GvkFSjRXV0Ii3uYnHiQ74   \n5080    0lej8CemYKkWVHg77Xe1ky   \n10666   6Fh2QgjCxL96dA3Gtpfr4Q   \n\n                                                song_name  \\\n846000                                      Lone Stranger   \n604826                          Ghost of Gloria Goodchild   \n604827                                             Kolors   \n604828                                    Come as You Are   \n604829                                        Nexperience   \n...                                                   ...   \n11098             (I Wanna) Testify (Mono Single Version)   \n10903                       Swingtown - Alternate Version   \n5856                                       Take My Advice   \n5080             A Man Holdin' on (To a Woman Lettin’ Go)   \n10666   One Sweet Day (16-Bit Mariah Carey & Boyz II M...   \n\n                                               id_artists  \\\n846000                         ['1W006EgE9fkSO9CpTnVlqN']   \n604826                         ['3F2Y683ovlWT53WKCeq0oj']   \n604827                         ['3F2Y683ovlWT53WKCeq0oj']   \n604828                         ['3F2Y683ovlWT53WKCeq0oj']   \n604829                         ['3F2Y683ovlWT53WKCeq0oj']   \n...                                                   ...   \n11098                          ['1Ve5PoI7i5jIIP1xudo6AB']   \n10903                          ['6QtGlUje9TIkLrgPZrESuk']   \n5856                           ['40PLSl99xXqAQsCQQPmfyM']   \n5080    ['1Fj0R2t4HaJa3oUe8azB8R', '5LDnSV99gbDSsMX3Dc...   \n10666                          ['1v4YnufenjE9BLAfP90qvt']   \n\n                           name_artists  popularity  explicit      song_type  \\\n846000                 ['James Dooley']           0     False           Solo   \n604826                   ['Goodie Mob']           5      True           Solo   \n604827                   ['Goodie Mob']          12      True           Solo   \n604828                   ['Goodie Mob']           5      True           Solo   \n604829                   ['Goodie Mob']           5      True           Solo   \n...                                 ...         ...       ...            ...   \n11098               ['The Parliaments']           7     False           Solo   \n10903             ['Steve Miller Band']          26     False           Solo   \n5856                       ['Kym Sims']           0     False           Solo   \n5080    ['Ty Herndon', 'Anita Cochran']          14     False  Collaboration   \n10666                 ['Arcade Player']           0     False           Solo   \n\n        track_number  num_artists  num_available_markets  ... danceability  \\\n846000            19            1                     74  ...        0.235   \n604826             9            1                      2  ...        0.609   \n604827            10            1                      2  ...        0.482   \n604828            11            1                      2  ...        0.656   \n604829            12            1                      2  ...        0.610   \n...              ...          ...                    ...  ...          ...   \n11098             10            1                     79  ...        0.668   \n10903              5            1                     79  ...        0.459   \n5856              10            1                     73  ...        0.737   \n5080               7            2                     79  ...        0.611   \n10666             27            1                     79  ...        0.395   \n\n        energy  instrumentalness  liveness  loudness  speechiness  valence  \\\n846000   0.199          0.896000    0.1110   -15.446       0.0329   0.0476   \n604826   0.612          0.000000    0.4980    -7.317       0.1240   0.3850   \n604827   0.722          0.000000    0.5020    -7.968       0.3140   0.4840   \n604828   0.952          0.000582    0.0455    -5.103       0.0602   0.4760   \n604829   0.798          0.000660    0.5230    -6.880       0.2730   0.6130   \n...        ...               ...       ...       ...          ...      ...   \n11098    0.702          0.000000    0.0521    -5.750       0.0330   0.7540   \n10903    0.764          0.000544    0.2440    -6.662       0.0354   0.4390   \n5856     0.814          0.392000    0.0844   -10.396       0.0307   0.8030   \n5080     0.429          0.000014    0.1120    -8.619       0.0298   0.2370   \n10666    0.405          0.745000    0.1100    -5.559       0.0393   0.3130   \n\n          tempo  hit       date  \n846000   69.245    0 2013-08-26  \n604826  140.953    0 2013-08-26  \n604827  105.123    0 2013-08-26  \n604828  130.923    0 2013-08-26  \n604829  138.103    0 2013-08-26  \n...         ...  ...        ...  \n11098   105.227    1 2019-08-23  \n10903   124.557    1 2019-08-23  \n5856    120.010    1 2019-08-23  \n5080    128.007    1 2019-08-23  \n10666   194.933    1 2019-08-26  \n\n[357166 rows x 26 columns]",
      "text/html": "<div>\n<style scoped>\n    .dataframe tbody tr th:only-of-type {\n        vertical-align: middle;\n    }\n\n    .dataframe tbody tr th {\n        vertical-align: top;\n    }\n\n    .dataframe thead th {\n        text-align: right;\n    }\n</style>\n<table border=\"1\" class=\"dataframe\">\n  <thead>\n    <tr style=\"text-align: right;\">\n      <th></th>\n      <th>song_id</th>\n      <th>song_name</th>\n      <th>id_artists</th>\n      <th>name_artists</th>\n      <th>popularity</th>\n      <th>explicit</th>\n      <th>song_type</th>\n      <th>track_number</th>\n      <th>num_artists</th>\n      <th>num_available_markets</th>\n      <th>...</th>\n      <th>danceability</th>\n      <th>energy</th>\n      <th>instrumentalness</th>\n      <th>liveness</th>\n      <th>loudness</th>\n      <th>speechiness</th>\n      <th>valence</th>\n      <th>tempo</th>\n      <th>hit</th>\n      <th>date</th>\n    </tr>\n  </thead>\n  <tbody>\n    <tr>\n      <th>846000</th>\n      <td>3rTIDlmlGskGnRRqmRtvYn</td>\n      <td>Lone Stranger</td>\n      <td>['1W006EgE9fkSO9CpTnVlqN']</td>\n      <td>['James Dooley']</td>\n      <td>0</td>\n      <td>False</td>\n      <td>Solo</td>\n      <td>19</td>\n      <td>1</td>\n      <td>74</td>\n      <td>...</td>\n      <td>0.235</td>\n      <td>0.199</td>\n      <td>0.896000</td>\n      <td>0.1110</td>\n      <td>-15.446</td>\n      <td>0.0329</td>\n      <td>0.0476</td>\n      <td>69.245</td>\n      <td>0</td>\n      <td>2013-08-26</td>\n    </tr>\n    <tr>\n      <th>604826</th>\n      <td>7zhdgvEuhcxy4iwc0ssoty</td>\n      <td>Ghost of Gloria Goodchild</td>\n      <td>['3F2Y683ovlWT53WKCeq0oj']</td>\n      <td>['Goodie Mob']</td>\n      <td>5</td>\n      <td>True</td>\n      <td>Solo</td>\n      <td>9</td>\n      <td>1</td>\n      <td>2</td>\n      <td>...</td>\n      <td>0.609</td>\n      <td>0.612</td>\n      <td>0.000000</td>\n      <td>0.4980</td>\n      <td>-7.317</td>\n      <td>0.1240</td>\n      <td>0.3850</td>\n      <td>140.953</td>\n      <td>0</td>\n      <td>2013-08-26</td>\n    </tr>\n    <tr>\n      <th>604827</th>\n      <td>7urrpTy9j5QGMYrZpPwuEy</td>\n      <td>Kolors</td>\n      <td>['3F2Y683ovlWT53WKCeq0oj']</td>\n      <td>['Goodie Mob']</td>\n      <td>12</td>\n      <td>True</td>\n      <td>Solo</td>\n      <td>10</td>\n      <td>1</td>\n      <td>2</td>\n      <td>...</td>\n      <td>0.482</td>\n      <td>0.722</td>\n      <td>0.000000</td>\n      <td>0.5020</td>\n      <td>-7.968</td>\n      <td>0.3140</td>\n      <td>0.4840</td>\n      <td>105.123</td>\n      <td>0</td>\n      <td>2013-08-26</td>\n    </tr>\n    <tr>\n      <th>604828</th>\n      <td>6Ppgg7vDhYoyyNmmfIE9zK</td>\n      <td>Come as You Are</td>\n      <td>['3F2Y683ovlWT53WKCeq0oj']</td>\n      <td>['Goodie Mob']</td>\n      <td>5</td>\n      <td>True</td>\n      <td>Solo</td>\n      <td>11</td>\n      <td>1</td>\n      <td>2</td>\n      <td>...</td>\n      <td>0.656</td>\n      <td>0.952</td>\n      <td>0.000582</td>\n      <td>0.0455</td>\n      <td>-5.103</td>\n      <td>0.0602</td>\n      <td>0.4760</td>\n      <td>130.923</td>\n      <td>0</td>\n      <td>2013-08-26</td>\n    </tr>\n    <tr>\n      <th>604829</th>\n      <td>3EOsorrvvIhtlTOoMdEshm</td>\n      <td>Nexperience</td>\n      <td>['3F2Y683ovlWT53WKCeq0oj']</td>\n      <td>['Goodie Mob']</td>\n      <td>5</td>\n      <td>True</td>\n      <td>Solo</td>\n      <td>12</td>\n      <td>1</td>\n      <td>2</td>\n      <td>...</td>\n      <td>0.610</td>\n      <td>0.798</td>\n      <td>0.000660</td>\n      <td>0.5230</td>\n      <td>-6.880</td>\n      <td>0.2730</td>\n      <td>0.6130</td>\n      <td>138.103</td>\n      <td>0</td>\n      <td>2013-08-26</td>\n    </tr>\n    <tr>\n      <th>...</th>\n      <td>...</td>\n      <td>...</td>\n      <td>...</td>\n      <td>...</td>\n      <td>...</td>\n      <td>...</td>\n      <td>...</td>\n      <td>...</td>\n      <td>...</td>\n      <td>...</td>\n      <td>...</td>\n      <td>...</td>\n      <td>...</td>\n      <td>...</td>\n      <td>...</td>\n      <td>...</td>\n      <td>...</td>\n      <td>...</td>\n      <td>...</td>\n      <td>...</td>\n      <td>...</td>\n    </tr>\n    <tr>\n      <th>11098</th>\n      <td>0xAqhyWvTkfcdFgm7dozMO</td>\n      <td>(I Wanna) Testify (Mono Single Version)</td>\n      <td>['1Ve5PoI7i5jIIP1xudo6AB']</td>\n      <td>['The Parliaments']</td>\n      <td>7</td>\n      <td>False</td>\n      <td>Solo</td>\n      <td>10</td>\n      <td>1</td>\n      <td>79</td>\n      <td>...</td>\n      <td>0.668</td>\n      <td>0.702</td>\n      <td>0.000000</td>\n      <td>0.0521</td>\n      <td>-5.750</td>\n      <td>0.0330</td>\n      <td>0.7540</td>\n      <td>105.227</td>\n      <td>1</td>\n      <td>2019-08-23</td>\n    </tr>\n    <tr>\n      <th>10903</th>\n      <td>6zhg8TnVKi90ITDzFKwPr0</td>\n      <td>Swingtown - Alternate Version</td>\n      <td>['6QtGlUje9TIkLrgPZrESuk']</td>\n      <td>['Steve Miller Band']</td>\n      <td>26</td>\n      <td>False</td>\n      <td>Solo</td>\n      <td>5</td>\n      <td>1</td>\n      <td>79</td>\n      <td>...</td>\n      <td>0.459</td>\n      <td>0.764</td>\n      <td>0.000544</td>\n      <td>0.2440</td>\n      <td>-6.662</td>\n      <td>0.0354</td>\n      <td>0.4390</td>\n      <td>124.557</td>\n      <td>1</td>\n      <td>2019-08-23</td>\n    </tr>\n    <tr>\n      <th>5856</th>\n      <td>2GvkFSjRXV0Ii3uYnHiQ74</td>\n      <td>Take My Advice</td>\n      <td>['40PLSl99xXqAQsCQQPmfyM']</td>\n      <td>['Kym Sims']</td>\n      <td>0</td>\n      <td>False</td>\n      <td>Solo</td>\n      <td>10</td>\n      <td>1</td>\n      <td>73</td>\n      <td>...</td>\n      <td>0.737</td>\n      <td>0.814</td>\n      <td>0.392000</td>\n      <td>0.0844</td>\n      <td>-10.396</td>\n      <td>0.0307</td>\n      <td>0.8030</td>\n      <td>120.010</td>\n      <td>1</td>\n      <td>2019-08-23</td>\n    </tr>\n    <tr>\n      <th>5080</th>\n      <td>0lej8CemYKkWVHg77Xe1ky</td>\n      <td>A Man Holdin' on (To a Woman Lettin’ Go)</td>\n      <td>['1Fj0R2t4HaJa3oUe8azB8R', '5LDnSV99gbDSsMX3Dc...</td>\n      <td>['Ty Herndon', 'Anita Cochran']</td>\n      <td>14</td>\n      <td>False</td>\n      <td>Collaboration</td>\n      <td>7</td>\n      <td>2</td>\n      <td>79</td>\n      <td>...</td>\n      <td>0.611</td>\n      <td>0.429</td>\n      <td>0.000014</td>\n      <td>0.1120</td>\n      <td>-8.619</td>\n      <td>0.0298</td>\n      <td>0.2370</td>\n      <td>128.007</td>\n      <td>1</td>\n      <td>2019-08-23</td>\n    </tr>\n    <tr>\n      <th>10666</th>\n      <td>6Fh2QgjCxL96dA3Gtpfr4Q</td>\n      <td>One Sweet Day (16-Bit Mariah Carey &amp; Boyz II M...</td>\n      <td>['1v4YnufenjE9BLAfP90qvt']</td>\n      <td>['Arcade Player']</td>\n      <td>0</td>\n      <td>False</td>\n      <td>Solo</td>\n      <td>27</td>\n      <td>1</td>\n      <td>79</td>\n      <td>...</td>\n      <td>0.395</td>\n      <td>0.405</td>\n      <td>0.745000</td>\n      <td>0.1100</td>\n      <td>-5.559</td>\n      <td>0.0393</td>\n      <td>0.3130</td>\n      <td>194.933</td>\n      <td>1</td>\n      <td>2019-08-26</td>\n    </tr>\n  </tbody>\n</table>\n<p>357166 rows × 26 columns</p>\n</div>"
     },
     "execution_count": 8,
     "metadata": {},
     "output_type": "execute_result"
    }
   ],
   "source": [
    "combined_df"
   ],
   "metadata": {
    "collapsed": false,
    "ExecuteTime": {
     "end_time": "2024-05-17T13:57:01.994662300Z",
     "start_time": "2024-05-17T13:57:01.817663Z"
    }
   },
   "id": "9e4154b39a1657b1"
  },
  {
   "cell_type": "code",
   "execution_count": 9,
   "outputs": [
    {
     "name": "stdout",
     "output_type": "stream",
     "text": [
      "amount of artists: 13284\n"
     ]
    },
    {
     "data": {
      "text/plain": "                    artist_id            artist_name\n0      1W006EgE9fkSO9CpTnVlqN           James Dooley\n1      3F2Y683ovlWT53WKCeq0oj             Goodie Mob\n2      5xTn6i6eK7dFP98OaOFyBn              Big Fraze\n3      4PzJueOuOBjr0qVlS3RU6w      Christopher Lewis\n4      4eJWDgfm1In7unvUTB1DtE                      V\n...                       ...                    ...\n13279  7gx7lqo98LuOGE0y8ATrRr  On the Town Orchestra\n13280  5UvGRahK1OytDXGTzdf6hV        Humphrey Burton\n13281  0MIlVcFgL7pDFqaZRmYDeE                  Weiss\n13282  2iG0HNCECG2DxXxSUcMhEX                 Naxxos\n13283  2tg1rWk2rWaltTk0baRjRu                 SAKIMA\n\n[13284 rows x 2 columns]",
      "text/html": "<div>\n<style scoped>\n    .dataframe tbody tr th:only-of-type {\n        vertical-align: middle;\n    }\n\n    .dataframe tbody tr th {\n        vertical-align: top;\n    }\n\n    .dataframe thead th {\n        text-align: right;\n    }\n</style>\n<table border=\"1\" class=\"dataframe\">\n  <thead>\n    <tr style=\"text-align: right;\">\n      <th></th>\n      <th>artist_id</th>\n      <th>artist_name</th>\n    </tr>\n  </thead>\n  <tbody>\n    <tr>\n      <th>0</th>\n      <td>1W006EgE9fkSO9CpTnVlqN</td>\n      <td>James Dooley</td>\n    </tr>\n    <tr>\n      <th>1</th>\n      <td>3F2Y683ovlWT53WKCeq0oj</td>\n      <td>Goodie Mob</td>\n    </tr>\n    <tr>\n      <th>2</th>\n      <td>5xTn6i6eK7dFP98OaOFyBn</td>\n      <td>Big Fraze</td>\n    </tr>\n    <tr>\n      <th>3</th>\n      <td>4PzJueOuOBjr0qVlS3RU6w</td>\n      <td>Christopher Lewis</td>\n    </tr>\n    <tr>\n      <th>4</th>\n      <td>4eJWDgfm1In7unvUTB1DtE</td>\n      <td>V</td>\n    </tr>\n    <tr>\n      <th>...</th>\n      <td>...</td>\n      <td>...</td>\n    </tr>\n    <tr>\n      <th>13279</th>\n      <td>7gx7lqo98LuOGE0y8ATrRr</td>\n      <td>On the Town Orchestra</td>\n    </tr>\n    <tr>\n      <th>13280</th>\n      <td>5UvGRahK1OytDXGTzdf6hV</td>\n      <td>Humphrey Burton</td>\n    </tr>\n    <tr>\n      <th>13281</th>\n      <td>0MIlVcFgL7pDFqaZRmYDeE</td>\n      <td>Weiss</td>\n    </tr>\n    <tr>\n      <th>13282</th>\n      <td>2iG0HNCECG2DxXxSUcMhEX</td>\n      <td>Naxxos</td>\n    </tr>\n    <tr>\n      <th>13283</th>\n      <td>2tg1rWk2rWaltTk0baRjRu</td>\n      <td>SAKIMA</td>\n    </tr>\n  </tbody>\n</table>\n<p>13284 rows × 2 columns</p>\n</div>"
     },
     "execution_count": 9,
     "metadata": {},
     "output_type": "execute_result"
    }
   ],
   "source": [
    "# Specify the columns\n",
    "columns = ['artist_id', 'artist_name']\n",
    "\n",
    "# Initialize an empty DataFrame\n",
    "df_artists_train = pd.DataFrame(columns={col: [] for col in columns})\n",
    "\n",
    "count = 0\n",
    "artist_set = set()\n",
    "\n",
    "for _, row in train_df.iterrows():\n",
    "    current_artist_id_list = eval(row[\"id_artists\"])\n",
    "    current_artist_name_list = eval(row[\"name_artists\"])\n",
    "    for cur_art_id, cur_art_name in zip(current_artist_id_list, current_artist_name_list):\n",
    "        if cur_art_id not in artist_set:\n",
    "            artist_set.add(cur_art_id)\n",
    "            df_artists_train.loc[len(df_artists_train)] = [cur_art_id, cur_art_name]\n",
    "            count += 1\n",
    "\n",
    "print(\"amount of artists:\", count)\n",
    "df_artists_train"
   ],
   "metadata": {
    "collapsed": false,
    "ExecuteTime": {
     "end_time": "2024-05-17T13:57:32.251882800Z",
     "start_time": "2024-05-17T13:57:01.986661800Z"
    }
   },
   "id": "4e89192b5a6cf7c4"
  },
  {
   "cell_type": "code",
   "execution_count": 10,
   "outputs": [],
   "source": [
    "import networkx as nx\n",
    "\n",
    "all_artist_ids = artist_set.copy()\n",
    "\n",
    "G = nx.Graph()\n",
    "\n",
    "for id_art_cur in all_artist_ids:\n",
    "    artist_name = df_artists_train[(df_artists_train[\"artist_id\"] == id_art_cur)][\"artist_name\"]\n",
    "    artist_info = df_artists_train[df_artists_train[\"artist_id\"] == id_art_cur]\n",
    "    if not artist_info.empty:  # Check if artist info exists\n",
    "        # Filter out artists who are not successful\n",
    "        node_attrs = {\"name\": artist_name.iloc[0]}\n",
    "        G.add_node(id_art_cur, **node_attrs)\n",
    "    else:\n",
    "        print(\"Artist info not found for ID:\", id_art_cur)\n",
    "\n",
    "for _, row in train_df.iterrows():\n",
    "    artist_ids = list(eval(row[\"id_artists\"]))\n",
    "    artist_names = list(eval(row[\"name_artists\"]))\n",
    "    # Filter out songs that do not have more than one artist in their execution\n",
    "    if len(artist_ids) > 1:\n",
    "        for i in range(len(artist_ids)):\n",
    "            for j in range(i+1, len(artist_ids)):\n",
    "                artist_id_1 = str(artist_ids[i])\n",
    "                lable1 = str(artist_names[i])\n",
    "                artist_id_2 = str(artist_ids[j])\n",
    "                lable2 = str(artist_names[j])\n",
    "                # Check if the edge already exists\n",
    "                if G.has_edge(artist_id_1, artist_id_2):\n",
    "                    # If the edge already exists, increment the weight by 1\n",
    "                    G[artist_id_1][artist_id_2]['weight'] += 2\n",
    "                else:\n",
    "                    # Add a new edge with weight 1\n",
    "                    G.add_edge(artist_id_1, artist_id_2, lable1=lable1, lable2=lable2, weight=2, song_id=str(row[\"song_id\"]), song_name=str(row[\"song_name\"]), explicit=bool(row[\"explicit\"]), song_type=str(row[\"song_type\"]), track_number=int(row[\"track_number\"]), num_artists=int(row[\"num_artists\"]), num_available_markets=int(row[\"num_available_markets\"]), duration_ms=int(row[\"duration_ms\"]), popularity=int(row[\"popularity\"]), release_date=str(row[\"release_date\"]), key = int(row[\"key\"]), mode = int(row[\"mode\"]), time_signature = int(row[\"time_signature\"]), acousticness = float(row[\"acousticness\"]), danceability = float(row[\"danceability\"]), energy = float(row[\"energy\"]), instrumentalness = float(row[\"instrumentalness\"]), liveness = float(row[\"liveness\"]),loudness = float(row[\"loudness\"]), speechiness = float(row[\"speechiness\"]), valence = float(row[\"valence\"]), tempo = float(row[\"tempo\"]))\n",
    "    else:\n",
    "        #prüfe ob die Artists Teil der Interessanten Menge sind\n",
    "        artist_id_1 = str(artist_ids[0])\n",
    "        lable1 = str(artist_names[0])\n",
    "        if not G.has_node(artist_id_1):\n",
    "            node_attrs = {\"name\": lable1}\n",
    "            G.add_node(artist_id_1, **node_attrs)\n",
    "        if G.has_edge(artist_id_1, artist_id_1):\n",
    "            # If the edge already exists, increment the weight by 1\n",
    "            G[artist_id_1][artist_id_1]['weight'] += 2\n",
    "        else:\n",
    "            G.add_edge(artist_id_1, artist_id_1, lable1=lable1, lable2=lable1, weight=2, song_id=str(row[\"song_id\"]), song_name=str(row[\"song_name\"]), explicit=bool(row[\"explicit\"]), song_type=str(row[\"song_type\"]), track_number=int(row[\"track_number\"]), num_artists=int(row[\"num_artists\"]), num_available_markets=int(row[\"num_available_markets\"]), duration_ms=int(row[\"duration_ms\"]), popularity=int(row[\"popularity\"]), release_date=str(row[\"release_date\"]), key = int(row[\"key\"]), mode = int(row[\"mode\"]), time_signature = int(row[\"time_signature\"]), acousticness = float(row[\"acousticness\"]), danceability = float(row[\"danceability\"]), energy = float(row[\"energy\"]), instrumentalness = float(row[\"instrumentalness\"]), liveness = float(row[\"liveness\"]),loudness = float(row[\"loudness\"]), speechiness = float(row[\"speechiness\"]), valence = float(row[\"valence\"]), tempo = float(row[\"tempo\"]))"
   ],
   "metadata": {
    "collapsed": false,
    "ExecuteTime": {
     "end_time": "2024-05-17T13:58:15.628034100Z",
     "start_time": "2024-05-17T13:57:32.262879900Z"
    }
   },
   "id": "13bb7f1a4a4876a5"
  },
  {
   "cell_type": "code",
   "execution_count": 11,
   "outputs": [
    {
     "data": {
      "text/plain": "                    name              Spotify ID\n0      Nikolay Mikryukov  13tTXC2G3RdpBzNaR50aIJ\n1        Anand Greenwell  2eG9gAm8VMoQNWMQmyfiwl\n2       Jocelyn Enriquez  5hgxMFtaWAhh6LDHdVBZLB\n3          Aubrey Shamel  0KYl5HCISiMOuPOnEFR2I6\n4            Tame Impala  5INjqkS1o8h1imAzPqGZBb\n...                  ...                     ...\n13279          Janis Ian  5c9uFWpZY2MTlk7Rft0tgp\n13280     Tom Greenleigh  190Nza0pX0NuhMCFMRVpEL\n13281        Dave Barker  4fDdr1gRqAzOSP8jVR6CEs\n13282      Uschi Bruning  54Dqpre5i76Z6n1wQ83iFJ\n13283       Kevin Cossom  0Ja9yL6PS5FBnGJimpx504\n\n[13284 rows x 2 columns]",
      "text/html": "<div>\n<style scoped>\n    .dataframe tbody tr th:only-of-type {\n        vertical-align: middle;\n    }\n\n    .dataframe tbody tr th {\n        vertical-align: top;\n    }\n\n    .dataframe thead th {\n        text-align: right;\n    }\n</style>\n<table border=\"1\" class=\"dataframe\">\n  <thead>\n    <tr style=\"text-align: right;\">\n      <th></th>\n      <th>name</th>\n      <th>Spotify ID</th>\n    </tr>\n  </thead>\n  <tbody>\n    <tr>\n      <th>0</th>\n      <td>Nikolay Mikryukov</td>\n      <td>13tTXC2G3RdpBzNaR50aIJ</td>\n    </tr>\n    <tr>\n      <th>1</th>\n      <td>Anand Greenwell</td>\n      <td>2eG9gAm8VMoQNWMQmyfiwl</td>\n    </tr>\n    <tr>\n      <th>2</th>\n      <td>Jocelyn Enriquez</td>\n      <td>5hgxMFtaWAhh6LDHdVBZLB</td>\n    </tr>\n    <tr>\n      <th>3</th>\n      <td>Aubrey Shamel</td>\n      <td>0KYl5HCISiMOuPOnEFR2I6</td>\n    </tr>\n    <tr>\n      <th>4</th>\n      <td>Tame Impala</td>\n      <td>5INjqkS1o8h1imAzPqGZBb</td>\n    </tr>\n    <tr>\n      <th>...</th>\n      <td>...</td>\n      <td>...</td>\n    </tr>\n    <tr>\n      <th>13279</th>\n      <td>Janis Ian</td>\n      <td>5c9uFWpZY2MTlk7Rft0tgp</td>\n    </tr>\n    <tr>\n      <th>13280</th>\n      <td>Tom Greenleigh</td>\n      <td>190Nza0pX0NuhMCFMRVpEL</td>\n    </tr>\n    <tr>\n      <th>13281</th>\n      <td>Dave Barker</td>\n      <td>4fDdr1gRqAzOSP8jVR6CEs</td>\n    </tr>\n    <tr>\n      <th>13282</th>\n      <td>Uschi Bruning</td>\n      <td>54Dqpre5i76Z6n1wQ83iFJ</td>\n    </tr>\n    <tr>\n      <th>13283</th>\n      <td>Kevin Cossom</td>\n      <td>0Ja9yL6PS5FBnGJimpx504</td>\n    </tr>\n  </tbody>\n</table>\n<p>13284 rows × 2 columns</p>\n</div>"
     },
     "execution_count": 11,
     "metadata": {},
     "output_type": "execute_result"
    }
   ],
   "source": [
    "# Assuming G is your NetworkX graph\n",
    "\n",
    "# Extract nodes and their attributes from the graph\n",
    "nodes_with_attributes = [(G.nodes[node], node) for node in G.nodes()]\n",
    "\n",
    "# Create a DataFrame from the nodes and their attributes\n",
    "df_nodes_train = pd.DataFrame(nodes_with_attributes, columns=['Attributes', \"Spotify ID\"])\n",
    "\n",
    "# Normalize the 'Attributes' column to expand it into separate columns\n",
    "df_attributes = pd.json_normalize(df_nodes_train['Attributes'])\n",
    "\n",
    "# Combine the original 'Node' column with the expanded attributes\n",
    "df_nodes_train = pd.concat([df_attributes, df_nodes_train['Spotify ID']], axis=1)\n",
    "\n",
    "# Display the DataFrame\n",
    "df_nodes_train"
   ],
   "metadata": {
    "collapsed": false,
    "ExecuteTime": {
     "end_time": "2024-05-17T13:58:15.690034300Z",
     "start_time": "2024-05-17T13:58:15.632036500Z"
    }
   },
   "id": "a02e5a328f587e87"
  },
  {
   "cell_type": "code",
   "execution_count": 12,
   "outputs": [],
   "source": [
    "df_nodes_train.to_csv(\"network_created/nodes_real_train.csv\", sep='\\t', index=False)"
   ],
   "metadata": {
    "collapsed": false,
    "ExecuteTime": {
     "end_time": "2024-05-17T13:58:15.800035200Z",
     "start_time": "2024-05-17T13:58:15.693035600Z"
    }
   },
   "id": "affbd668a36e7e8a"
  },
  {
   "cell_type": "code",
   "execution_count": 13,
   "outputs": [
    {
     "data": {
      "text/plain": "                       Source                  Target             lable1  \\\n0      13tTXC2G3RdpBzNaR50aIJ  13tTXC2G3RdpBzNaR50aIJ  Nikolay Mikryukov   \n1      2eG9gAm8VMoQNWMQmyfiwl  5e1BZulIiYWPRm8yogwUYH     Tegan and Sara   \n2      5hgxMFtaWAhh6LDHdVBZLB  5hgxMFtaWAhh6LDHdVBZLB   Jocelyn Enriquez   \n3      0KYl5HCISiMOuPOnEFR2I6  2EmwLmcnlzIDxGfj0KvoDQ    John Ford Coley   \n4      5INjqkS1o8h1imAzPqGZBb  360IAlyVv4PCEVjgyMZrxK             Miguel   \n...                       ...                     ...                ...   \n17282  2p0Hf0MF8Nw8lwAXokczf0  2p0Hf0MF8Nw8lwAXokczf0      Smif-N-Wessun   \n17283  0zRimSsor7f5Wru5M5MUiL  0zRimSsor7f5Wru5M5MUiL      Sleep Harmony   \n17284  3YmywXnB2RxQ9IvUzZqvo9  3YmywXnB2RxQ9IvUzZqvo9        Aaron Lines   \n17285  5c9uFWpZY2MTlk7Rft0tgp  5c9uFWpZY2MTlk7Rft0tgp          Janis Ian   \n17286  4fDdr1gRqAzOSP8jVR6CEs  4fDdr1gRqAzOSP8jVR6CEs        Dave Barker   \n\n                  lable2  weight                 song_id  \\\n0      Nikolay Mikryukov       2  310Osqa0areTDKJm0zCWD1   \n1        Anand Greenwell       2  6TpNJZB9W0mCIZ8NC0pveg   \n2       Jocelyn Enriquez       4  6hpkEh9z1tuhOQPlCunMaj   \n3          Aubrey Shamel       2  75q30yUf6H2fu3pDKDtpR0   \n4            Tame Impala       2  3lB0GMiI5KxDbTOG8V3bOx   \n...                  ...     ...                     ...   \n17282      Smif-N-Wessun      22  3O2rabIP50wTBgMKBsF4ah   \n17283      Sleep Harmony      10  0ie4unUdgieu5sUgK2CShe   \n17284        Aaron Lines      20  6SSDgEbLLPjKrUpxNSLuKA   \n17285          Janis Ian      72  1xtIop5VLbesSDKqNssO72   \n17286        Dave Barker       6  7yqCmzgAi7zDpxCDysylfu   \n\n                                     song_name  explicit      song_type  \\\n0                                         Tori     False           Solo   \n1         I Was a Fool - Anand Greenwell Remix     False  Collaboration   \n2                              Do You Miss Me?     False           Solo   \n3                   Every Time I Close My Eyes     False  Collaboration   \n4                    waves - Tame Impala Remix     False  Collaboration   \n...                                        ...       ...            ...   \n17282                        Next S**t - Vocal     False           Solo   \n17283                       Aprender a Meditar     False           Solo   \n17284              The Trouble With California     False           Solo   \n17285  The Tiny Mouse (Vocal + Guitar Version)     False           Solo   \n17286                         What a Confusion     False           Solo   \n\n       track_number  ...  time_signature  acousticness  danceability  energy  \\\n0                 9  ...               4       0.00275         0.643   0.497   \n1                10  ...               4       0.56800         0.745   0.591   \n2                 3  ...               4       0.00265         0.720   0.872   \n3                 5  ...               4       0.81500         0.623   0.186   \n4                 1  ...               4       0.30800         0.529   0.894   \n...             ...  ...             ...           ...           ...     ...   \n17282             1  ...               4       0.66300         0.792   0.622   \n17283             9  ...               3       0.97000         0.167   0.101   \n17284             1  ...               4       0.34900         0.538   0.886   \n17285             1  ...               4       0.91300         0.902   0.132   \n17286            12  ...               4       0.60300         0.892   0.394   \n\n      instrumentalness  liveness  loudness  speechiness  valence    tempo  \n0             0.840000    0.0897    -5.038       0.0423   0.7710  128.016  \n1             0.836000    0.1270   -11.171       0.0434   0.2870  124.968  \n2             0.001920    0.2590    -8.705       0.0631   0.7550  129.956  \n3             0.000000    0.1130   -13.960       0.0305   0.3500  123.661  \n4             0.000005    0.2540    -3.599       0.0412   0.5430  108.024  \n...                ...       ...       ...          ...      ...      ...  \n17282         0.002890    0.1110   -13.576       0.0635   0.8680   88.999  \n17283         0.810000    0.1080   -25.148       0.0520   0.0391  165.179  \n17284         0.000000    0.3040    -4.648       0.0397   0.7190  118.028  \n17285         0.000002    0.0909   -15.355       0.2310   0.5330  107.898  \n17286         0.000002    0.1230    -5.724       0.0792   0.8660   93.587  \n\n[17287 rows x 27 columns]",
      "text/html": "<div>\n<style scoped>\n    .dataframe tbody tr th:only-of-type {\n        vertical-align: middle;\n    }\n\n    .dataframe tbody tr th {\n        vertical-align: top;\n    }\n\n    .dataframe thead th {\n        text-align: right;\n    }\n</style>\n<table border=\"1\" class=\"dataframe\">\n  <thead>\n    <tr style=\"text-align: right;\">\n      <th></th>\n      <th>Source</th>\n      <th>Target</th>\n      <th>lable1</th>\n      <th>lable2</th>\n      <th>weight</th>\n      <th>song_id</th>\n      <th>song_name</th>\n      <th>explicit</th>\n      <th>song_type</th>\n      <th>track_number</th>\n      <th>...</th>\n      <th>time_signature</th>\n      <th>acousticness</th>\n      <th>danceability</th>\n      <th>energy</th>\n      <th>instrumentalness</th>\n      <th>liveness</th>\n      <th>loudness</th>\n      <th>speechiness</th>\n      <th>valence</th>\n      <th>tempo</th>\n    </tr>\n  </thead>\n  <tbody>\n    <tr>\n      <th>0</th>\n      <td>13tTXC2G3RdpBzNaR50aIJ</td>\n      <td>13tTXC2G3RdpBzNaR50aIJ</td>\n      <td>Nikolay Mikryukov</td>\n      <td>Nikolay Mikryukov</td>\n      <td>2</td>\n      <td>310Osqa0areTDKJm0zCWD1</td>\n      <td>Tori</td>\n      <td>False</td>\n      <td>Solo</td>\n      <td>9</td>\n      <td>...</td>\n      <td>4</td>\n      <td>0.00275</td>\n      <td>0.643</td>\n      <td>0.497</td>\n      <td>0.840000</td>\n      <td>0.0897</td>\n      <td>-5.038</td>\n      <td>0.0423</td>\n      <td>0.7710</td>\n      <td>128.016</td>\n    </tr>\n    <tr>\n      <th>1</th>\n      <td>2eG9gAm8VMoQNWMQmyfiwl</td>\n      <td>5e1BZulIiYWPRm8yogwUYH</td>\n      <td>Tegan and Sara</td>\n      <td>Anand Greenwell</td>\n      <td>2</td>\n      <td>6TpNJZB9W0mCIZ8NC0pveg</td>\n      <td>I Was a Fool - Anand Greenwell Remix</td>\n      <td>False</td>\n      <td>Collaboration</td>\n      <td>10</td>\n      <td>...</td>\n      <td>4</td>\n      <td>0.56800</td>\n      <td>0.745</td>\n      <td>0.591</td>\n      <td>0.836000</td>\n      <td>0.1270</td>\n      <td>-11.171</td>\n      <td>0.0434</td>\n      <td>0.2870</td>\n      <td>124.968</td>\n    </tr>\n    <tr>\n      <th>2</th>\n      <td>5hgxMFtaWAhh6LDHdVBZLB</td>\n      <td>5hgxMFtaWAhh6LDHdVBZLB</td>\n      <td>Jocelyn Enriquez</td>\n      <td>Jocelyn Enriquez</td>\n      <td>4</td>\n      <td>6hpkEh9z1tuhOQPlCunMaj</td>\n      <td>Do You Miss Me?</td>\n      <td>False</td>\n      <td>Solo</td>\n      <td>3</td>\n      <td>...</td>\n      <td>4</td>\n      <td>0.00265</td>\n      <td>0.720</td>\n      <td>0.872</td>\n      <td>0.001920</td>\n      <td>0.2590</td>\n      <td>-8.705</td>\n      <td>0.0631</td>\n      <td>0.7550</td>\n      <td>129.956</td>\n    </tr>\n    <tr>\n      <th>3</th>\n      <td>0KYl5HCISiMOuPOnEFR2I6</td>\n      <td>2EmwLmcnlzIDxGfj0KvoDQ</td>\n      <td>John Ford Coley</td>\n      <td>Aubrey Shamel</td>\n      <td>2</td>\n      <td>75q30yUf6H2fu3pDKDtpR0</td>\n      <td>Every Time I Close My Eyes</td>\n      <td>False</td>\n      <td>Collaboration</td>\n      <td>5</td>\n      <td>...</td>\n      <td>4</td>\n      <td>0.81500</td>\n      <td>0.623</td>\n      <td>0.186</td>\n      <td>0.000000</td>\n      <td>0.1130</td>\n      <td>-13.960</td>\n      <td>0.0305</td>\n      <td>0.3500</td>\n      <td>123.661</td>\n    </tr>\n    <tr>\n      <th>4</th>\n      <td>5INjqkS1o8h1imAzPqGZBb</td>\n      <td>360IAlyVv4PCEVjgyMZrxK</td>\n      <td>Miguel</td>\n      <td>Tame Impala</td>\n      <td>2</td>\n      <td>3lB0GMiI5KxDbTOG8V3bOx</td>\n      <td>waves - Tame Impala Remix</td>\n      <td>False</td>\n      <td>Collaboration</td>\n      <td>1</td>\n      <td>...</td>\n      <td>4</td>\n      <td>0.30800</td>\n      <td>0.529</td>\n      <td>0.894</td>\n      <td>0.000005</td>\n      <td>0.2540</td>\n      <td>-3.599</td>\n      <td>0.0412</td>\n      <td>0.5430</td>\n      <td>108.024</td>\n    </tr>\n    <tr>\n      <th>...</th>\n      <td>...</td>\n      <td>...</td>\n      <td>...</td>\n      <td>...</td>\n      <td>...</td>\n      <td>...</td>\n      <td>...</td>\n      <td>...</td>\n      <td>...</td>\n      <td>...</td>\n      <td>...</td>\n      <td>...</td>\n      <td>...</td>\n      <td>...</td>\n      <td>...</td>\n      <td>...</td>\n      <td>...</td>\n      <td>...</td>\n      <td>...</td>\n      <td>...</td>\n      <td>...</td>\n    </tr>\n    <tr>\n      <th>17282</th>\n      <td>2p0Hf0MF8Nw8lwAXokczf0</td>\n      <td>2p0Hf0MF8Nw8lwAXokczf0</td>\n      <td>Smif-N-Wessun</td>\n      <td>Smif-N-Wessun</td>\n      <td>22</td>\n      <td>3O2rabIP50wTBgMKBsF4ah</td>\n      <td>Next S**t - Vocal</td>\n      <td>False</td>\n      <td>Solo</td>\n      <td>1</td>\n      <td>...</td>\n      <td>4</td>\n      <td>0.66300</td>\n      <td>0.792</td>\n      <td>0.622</td>\n      <td>0.002890</td>\n      <td>0.1110</td>\n      <td>-13.576</td>\n      <td>0.0635</td>\n      <td>0.8680</td>\n      <td>88.999</td>\n    </tr>\n    <tr>\n      <th>17283</th>\n      <td>0zRimSsor7f5Wru5M5MUiL</td>\n      <td>0zRimSsor7f5Wru5M5MUiL</td>\n      <td>Sleep Harmony</td>\n      <td>Sleep Harmony</td>\n      <td>10</td>\n      <td>0ie4unUdgieu5sUgK2CShe</td>\n      <td>Aprender a Meditar</td>\n      <td>False</td>\n      <td>Solo</td>\n      <td>9</td>\n      <td>...</td>\n      <td>3</td>\n      <td>0.97000</td>\n      <td>0.167</td>\n      <td>0.101</td>\n      <td>0.810000</td>\n      <td>0.1080</td>\n      <td>-25.148</td>\n      <td>0.0520</td>\n      <td>0.0391</td>\n      <td>165.179</td>\n    </tr>\n    <tr>\n      <th>17284</th>\n      <td>3YmywXnB2RxQ9IvUzZqvo9</td>\n      <td>3YmywXnB2RxQ9IvUzZqvo9</td>\n      <td>Aaron Lines</td>\n      <td>Aaron Lines</td>\n      <td>20</td>\n      <td>6SSDgEbLLPjKrUpxNSLuKA</td>\n      <td>The Trouble With California</td>\n      <td>False</td>\n      <td>Solo</td>\n      <td>1</td>\n      <td>...</td>\n      <td>4</td>\n      <td>0.34900</td>\n      <td>0.538</td>\n      <td>0.886</td>\n      <td>0.000000</td>\n      <td>0.3040</td>\n      <td>-4.648</td>\n      <td>0.0397</td>\n      <td>0.7190</td>\n      <td>118.028</td>\n    </tr>\n    <tr>\n      <th>17285</th>\n      <td>5c9uFWpZY2MTlk7Rft0tgp</td>\n      <td>5c9uFWpZY2MTlk7Rft0tgp</td>\n      <td>Janis Ian</td>\n      <td>Janis Ian</td>\n      <td>72</td>\n      <td>1xtIop5VLbesSDKqNssO72</td>\n      <td>The Tiny Mouse (Vocal + Guitar Version)</td>\n      <td>False</td>\n      <td>Solo</td>\n      <td>1</td>\n      <td>...</td>\n      <td>4</td>\n      <td>0.91300</td>\n      <td>0.902</td>\n      <td>0.132</td>\n      <td>0.000002</td>\n      <td>0.0909</td>\n      <td>-15.355</td>\n      <td>0.2310</td>\n      <td>0.5330</td>\n      <td>107.898</td>\n    </tr>\n    <tr>\n      <th>17286</th>\n      <td>4fDdr1gRqAzOSP8jVR6CEs</td>\n      <td>4fDdr1gRqAzOSP8jVR6CEs</td>\n      <td>Dave Barker</td>\n      <td>Dave Barker</td>\n      <td>6</td>\n      <td>7yqCmzgAi7zDpxCDysylfu</td>\n      <td>What a Confusion</td>\n      <td>False</td>\n      <td>Solo</td>\n      <td>12</td>\n      <td>...</td>\n      <td>4</td>\n      <td>0.60300</td>\n      <td>0.892</td>\n      <td>0.394</td>\n      <td>0.000002</td>\n      <td>0.1230</td>\n      <td>-5.724</td>\n      <td>0.0792</td>\n      <td>0.8660</td>\n      <td>93.587</td>\n    </tr>\n  </tbody>\n</table>\n<p>17287 rows × 27 columns</p>\n</div>"
     },
     "execution_count": 13,
     "metadata": {},
     "output_type": "execute_result"
    }
   ],
   "source": [
    "# Extract edges and their attributes from the graph\n",
    "edges_with_attributes = [(u, v, G.edges[u, v]) for u, v in G.edges()]\n",
    "\n",
    "# Create a DataFrame from the edges and their attributes\n",
    "df_edges_train = pd.DataFrame(edges_with_attributes, columns=['Source', 'Target', 'Attributes'])\n",
    "\n",
    "# Normalize the 'Attributes' column to expand it into separate columns\n",
    "df_edge_attributes = pd.json_normalize(df_edges_train['Attributes'])\n",
    "\n",
    "# Combine the original 'Attributes' column with the expanded attributes\n",
    "df_edges_train = pd.concat([df_edges_train[['Source', 'Target']], df_edge_attributes], axis=1)\n",
    "df_edges_train"
   ],
   "metadata": {
    "collapsed": false,
    "ExecuteTime": {
     "end_time": "2024-05-17T13:58:16.072034400Z",
     "start_time": "2024-05-17T13:58:15.764036900Z"
    }
   },
   "id": "b94ca6391b6c88f8"
  },
  {
   "cell_type": "code",
   "execution_count": 14,
   "outputs": [],
   "source": [
    "# Save edge DataFrame to CSV\n",
    "df_edges_train.to_csv('network_created/edges_real_train.csv', sep='\\t', index=False)"
   ],
   "metadata": {
    "collapsed": false,
    "ExecuteTime": {
     "end_time": "2024-05-17T13:58:16.275035800Z",
     "start_time": "2024-05-17T13:58:16.074034700Z"
    }
   },
   "id": "8cf334b81ab892a9"
  },
  {
   "cell_type": "code",
   "execution_count": 15,
   "outputs": [
    {
     "name": "stdout",
     "output_type": "stream",
     "text": [
      "Number of nodes: 13284\n",
      "Number of edges: 17287\n"
     ]
    }
   ],
   "source": [
    "num_nodes = G.number_of_nodes()\n",
    "num_edges = G.number_of_edges()\n",
    "print(\"Number of nodes:\", num_nodes)\n",
    "print(\"Number of edges:\", num_edges)\n"
   ],
   "metadata": {
    "collapsed": false,
    "ExecuteTime": {
     "end_time": "2024-05-17T13:58:16.292037600Z",
     "start_time": "2024-05-17T13:58:16.284035400Z"
    }
   },
   "id": "ed2d73175e8f4ff7"
  },
  {
   "cell_type": "code",
   "execution_count": 16,
   "outputs": [
    {
     "name": "stdout",
     "output_type": "stream",
     "text": [
      "amount of artists: 5902\n"
     ]
    },
    {
     "data": {
      "text/plain": "                   artist_id          artist_name\n0     0KMJUP87x4ERfwSNYvkttw         Sandgrounder\n1     3OpJxAHfT0KsJzQqdX5SLb         Ginger Tunes\n2     6BkcAbUkfIBM4XudxieMq8            Dr. Alban\n3     2iAAXHZCgL2E1zqj204GEh         Jacci McGhee\n4     21VBNkZvKxrI9zmfFRxXvn         8-Bit Arcade\n...                      ...                  ...\n5897  3Y9xnCbmXGhmpJymwpnxCz  Crispian St. Peters\n5898  5NDMothbpdpq2xHqSjrrWn          Faith Evans\n5899  1Ve5PoI7i5jIIP1xudo6AB      The Parliaments\n5900  40PLSl99xXqAQsCQQPmfyM             Kym Sims\n5901  5LDnSV99gbDSsMX3Dcer2b        Anita Cochran\n\n[5902 rows x 2 columns]",
      "text/html": "<div>\n<style scoped>\n    .dataframe tbody tr th:only-of-type {\n        vertical-align: middle;\n    }\n\n    .dataframe tbody tr th {\n        vertical-align: top;\n    }\n\n    .dataframe thead th {\n        text-align: right;\n    }\n</style>\n<table border=\"1\" class=\"dataframe\">\n  <thead>\n    <tr style=\"text-align: right;\">\n      <th></th>\n      <th>artist_id</th>\n      <th>artist_name</th>\n    </tr>\n  </thead>\n  <tbody>\n    <tr>\n      <th>0</th>\n      <td>0KMJUP87x4ERfwSNYvkttw</td>\n      <td>Sandgrounder</td>\n    </tr>\n    <tr>\n      <th>1</th>\n      <td>3OpJxAHfT0KsJzQqdX5SLb</td>\n      <td>Ginger Tunes</td>\n    </tr>\n    <tr>\n      <th>2</th>\n      <td>6BkcAbUkfIBM4XudxieMq8</td>\n      <td>Dr. Alban</td>\n    </tr>\n    <tr>\n      <th>3</th>\n      <td>2iAAXHZCgL2E1zqj204GEh</td>\n      <td>Jacci McGhee</td>\n    </tr>\n    <tr>\n      <th>4</th>\n      <td>21VBNkZvKxrI9zmfFRxXvn</td>\n      <td>8-Bit Arcade</td>\n    </tr>\n    <tr>\n      <th>...</th>\n      <td>...</td>\n      <td>...</td>\n    </tr>\n    <tr>\n      <th>5897</th>\n      <td>3Y9xnCbmXGhmpJymwpnxCz</td>\n      <td>Crispian St. Peters</td>\n    </tr>\n    <tr>\n      <th>5898</th>\n      <td>5NDMothbpdpq2xHqSjrrWn</td>\n      <td>Faith Evans</td>\n    </tr>\n    <tr>\n      <th>5899</th>\n      <td>1Ve5PoI7i5jIIP1xudo6AB</td>\n      <td>The Parliaments</td>\n    </tr>\n    <tr>\n      <th>5900</th>\n      <td>40PLSl99xXqAQsCQQPmfyM</td>\n      <td>Kym Sims</td>\n    </tr>\n    <tr>\n      <th>5901</th>\n      <td>5LDnSV99gbDSsMX3Dcer2b</td>\n      <td>Anita Cochran</td>\n    </tr>\n  </tbody>\n</table>\n<p>5902 rows × 2 columns</p>\n</div>"
     },
     "execution_count": 16,
     "metadata": {},
     "output_type": "execute_result"
    }
   ],
   "source": [
    "# Specify the columns\n",
    "columns = ['artist_id', 'artist_name']\n",
    "\n",
    "# Initialize an empty DataFrame\n",
    "df_artists_test = pd.DataFrame(columns={col: [] for col in columns})\n",
    "\n",
    "count = 0\n",
    "artist_set = set()\n",
    "\n",
    "for _, row in test_df.iterrows():\n",
    "    current_artist_id_list = eval(row[\"id_artists\"])\n",
    "    current_artist_name_list = eval(row[\"name_artists\"])\n",
    "    for cur_art_id, cur_art_name in zip(current_artist_id_list, current_artist_name_list):\n",
    "        if cur_art_id not in artist_set:\n",
    "            artist_set.add(cur_art_id)\n",
    "            df_artists_test.loc[len(df_artists_test)] = [cur_art_id, cur_art_name]\n",
    "            count += 1\n",
    "\n",
    "print(\"amount of artists:\", count)\n",
    "df_artists_test"
   ],
   "metadata": {
    "collapsed": false,
    "ExecuteTime": {
     "end_time": "2024-05-17T13:58:24.073044Z",
     "start_time": "2024-05-17T13:58:16.297038500Z"
    }
   },
   "id": "debfdb478f00e0a8"
  },
  {
   "cell_type": "code",
   "execution_count": 17,
   "outputs": [],
   "source": [
    "import networkx as nx\n",
    "\n",
    "all_artist_ids = artist_set.copy()\n",
    "\n",
    "G2 = nx.Graph()\n",
    "\n",
    "for id_art_cur in all_artist_ids:\n",
    "    artist_name = df_artists_test[(df_artists_test[\"artist_id\"] == id_art_cur)][\"artist_name\"]\n",
    "    artist_info = df_artists_test[df_artists_test[\"artist_id\"] == id_art_cur]\n",
    "    if not artist_info.empty:  # Check if artist info exists\n",
    "        # Filter out artists who are not successful\n",
    "        node_attrs = {\"name\": artist_name.iloc[0]}\n",
    "        G2.add_node(id_art_cur, **node_attrs)\n",
    "    else:\n",
    "        print(\"Artist info not found for ID:\", id_art_cur)\n",
    "\n",
    "for _, row in test_df.iterrows():\n",
    "    artist_ids = list(eval(row[\"id_artists\"]))\n",
    "    artist_names = list(eval(row[\"name_artists\"]))\n",
    "    # Filter out songs that do not have more than one artist in their execution\n",
    "    if len(artist_ids) > 1:\n",
    "        for i in range(len(artist_ids)):\n",
    "            for j in range(i+1, len(artist_ids)):\n",
    "                artist_id_1 = str(artist_ids[i])\n",
    "                lable1 = str(artist_names[i])\n",
    "                artist_id_2 = str(artist_ids[j])\n",
    "                lable2 = str(artist_names[j])\n",
    "                # Check if the edge already exists\n",
    "                if G2.has_edge(artist_id_1, artist_id_2):\n",
    "                    # If the edge already exists, increment the weight by 1\n",
    "                    G2[artist_id_1][artist_id_2]['weight'] += 2\n",
    "                else:\n",
    "                    # Add a new edge with weight 1\n",
    "                    G2.add_edge(artist_id_1, artist_id_2, lable1=lable1, lable2=lable2, weight=2, song_id=str(row[\"song_id\"]), song_name=str(row[\"song_name\"]), explicit=bool(row[\"explicit\"]), song_type=str(row[\"song_type\"]), track_number=int(row[\"track_number\"]), num_artists=int(row[\"num_artists\"]), num_available_markets=int(row[\"num_available_markets\"]), duration_ms=int(row[\"duration_ms\"]), popularity=int(row[\"popularity\"]), release_date=str(row[\"release_date\"]), key = int(row[\"key\"]), mode = int(row[\"mode\"]), time_signature = int(row[\"time_signature\"]), acousticness = float(row[\"acousticness\"]), danceability = float(row[\"danceability\"]), energy = float(row[\"energy\"]), instrumentalness = float(row[\"instrumentalness\"]), liveness = float(row[\"liveness\"]),loudness = float(row[\"loudness\"]), speechiness = float(row[\"speechiness\"]), valence = float(row[\"valence\"]), tempo = float(row[\"tempo\"]))\n",
    "    else:\n",
    "        #prüfe ob die Artists Teil der Interessanten Menge sind\n",
    "        artist_id_1 = str(artist_ids[0])\n",
    "        lable1 = str(artist_names[0])\n",
    "        if not G2.has_node(artist_id_1):\n",
    "            node_attrs = {\"name\": lable1}\n",
    "            G2.add_node(artist_id_1, **node_attrs)\n",
    "        if G2.has_edge(artist_id_1, artist_id_1):\n",
    "            # If the edge already exists, increment the weight by 1\n",
    "            G2[artist_id_1][artist_id_1]['weight'] += 2\n",
    "        else:\n",
    "            G2.add_edge(artist_id_1, artist_id_1, lable1=lable1, lable2=lable1, weight=2, song_id=str(row[\"song_id\"]), song_name=str(row[\"song_name\"]), explicit=bool(row[\"explicit\"]), song_type=str(row[\"song_type\"]), track_number=int(row[\"track_number\"]), num_artists=int(row[\"num_artists\"]), num_available_markets=int(row[\"num_available_markets\"]), duration_ms=int(row[\"duration_ms\"]), popularity=int(row[\"popularity\"]), release_date=str(row[\"release_date\"]), key = int(row[\"key\"]), mode = int(row[\"mode\"]), time_signature = int(row[\"time_signature\"]), acousticness = float(row[\"acousticness\"]), danceability = float(row[\"danceability\"]), energy = float(row[\"energy\"]), instrumentalness = float(row[\"instrumentalness\"]), liveness = float(row[\"liveness\"]),loudness = float(row[\"loudness\"]), speechiness = float(row[\"speechiness\"]), valence = float(row[\"valence\"]), tempo = float(row[\"tempo\"]))"
   ],
   "metadata": {
    "collapsed": false,
    "ExecuteTime": {
     "end_time": "2024-05-17T13:58:34.178914500Z",
     "start_time": "2024-05-17T13:58:24.084044300Z"
    }
   },
   "id": "fe0fb448adf18ca8"
  },
  {
   "cell_type": "code",
   "execution_count": 18,
   "outputs": [
    {
     "data": {
      "text/plain": "                  name              Spotify ID\n0                BEAUZ  2Wzb0u138rgoZQTK3ytknT\n1     Jocelyn Enriquez  5hgxMFtaWAhh6LDHdVBZLB\n2               Caskey  7nVgP0ISalazUzugR7D8zk\n3          Jamie Jones  4admDxmnri5Zco0xYrJ0ji\n4           Luke Combs  718COspgdWOnwOFpJHRZHS\n...                ...                     ...\n5897         Maskarade  6xNIw26ydx4yTG1QJ5VZse\n5898         Janis Ian  5c9uFWpZY2MTlk7Rft0tgp\n5899         Lil Advil  2AHPBn0FrIthLv3ijcnQkt\n5900            Method  0ZHBxsAXfOsiVwcjpwp1X8\n5901      Chris Janson  60gmlHZmT16wiO9GiXKYK9\n\n[5902 rows x 2 columns]",
      "text/html": "<div>\n<style scoped>\n    .dataframe tbody tr th:only-of-type {\n        vertical-align: middle;\n    }\n\n    .dataframe tbody tr th {\n        vertical-align: top;\n    }\n\n    .dataframe thead th {\n        text-align: right;\n    }\n</style>\n<table border=\"1\" class=\"dataframe\">\n  <thead>\n    <tr style=\"text-align: right;\">\n      <th></th>\n      <th>name</th>\n      <th>Spotify ID</th>\n    </tr>\n  </thead>\n  <tbody>\n    <tr>\n      <th>0</th>\n      <td>BEAUZ</td>\n      <td>2Wzb0u138rgoZQTK3ytknT</td>\n    </tr>\n    <tr>\n      <th>1</th>\n      <td>Jocelyn Enriquez</td>\n      <td>5hgxMFtaWAhh6LDHdVBZLB</td>\n    </tr>\n    <tr>\n      <th>2</th>\n      <td>Caskey</td>\n      <td>7nVgP0ISalazUzugR7D8zk</td>\n    </tr>\n    <tr>\n      <th>3</th>\n      <td>Jamie Jones</td>\n      <td>4admDxmnri5Zco0xYrJ0ji</td>\n    </tr>\n    <tr>\n      <th>4</th>\n      <td>Luke Combs</td>\n      <td>718COspgdWOnwOFpJHRZHS</td>\n    </tr>\n    <tr>\n      <th>...</th>\n      <td>...</td>\n      <td>...</td>\n    </tr>\n    <tr>\n      <th>5897</th>\n      <td>Maskarade</td>\n      <td>6xNIw26ydx4yTG1QJ5VZse</td>\n    </tr>\n    <tr>\n      <th>5898</th>\n      <td>Janis Ian</td>\n      <td>5c9uFWpZY2MTlk7Rft0tgp</td>\n    </tr>\n    <tr>\n      <th>5899</th>\n      <td>Lil Advil</td>\n      <td>2AHPBn0FrIthLv3ijcnQkt</td>\n    </tr>\n    <tr>\n      <th>5900</th>\n      <td>Method</td>\n      <td>0ZHBxsAXfOsiVwcjpwp1X8</td>\n    </tr>\n    <tr>\n      <th>5901</th>\n      <td>Chris Janson</td>\n      <td>60gmlHZmT16wiO9GiXKYK9</td>\n    </tr>\n  </tbody>\n</table>\n<p>5902 rows × 2 columns</p>\n</div>"
     },
     "execution_count": 18,
     "metadata": {},
     "output_type": "execute_result"
    }
   ],
   "source": [
    "# Assuming G is your NetworkX graph\n",
    "\n",
    "# Extract nodes and their attributes from the graph\n",
    "nodes_with_attributes = [(G2.nodes[node], node) for node in G2.nodes()]\n",
    "\n",
    "# Create a DataFrame from the nodes and their attributes\n",
    "df_nodes_test = pd.DataFrame(nodes_with_attributes, columns=['Attributes', \"Spotify ID\"])\n",
    "\n",
    "# Normalize the 'Attributes' column to expand it into separate columns\n",
    "df_attributes = pd.json_normalize(df_nodes_test['Attributes'])\n",
    "\n",
    "# Combine the original 'Node' column with the expanded attributes\n",
    "df_nodes_test = pd.concat([df_attributes, df_nodes_test['Spotify ID']], axis=1)\n",
    "\n",
    "# Display the DataFrame\n",
    "df_nodes_test"
   ],
   "metadata": {
    "collapsed": false,
    "ExecuteTime": {
     "end_time": "2024-05-17T13:58:34.223913Z",
     "start_time": "2024-05-17T13:58:34.186915600Z"
    }
   },
   "id": "4b5d80bd0f928513"
  },
  {
   "cell_type": "code",
   "execution_count": 19,
   "outputs": [],
   "source": [
    "df_nodes_test.to_csv(\"network_created/nodes_real_test.csv\", sep='\\t', index=False)"
   ],
   "metadata": {
    "collapsed": false,
    "ExecuteTime": {
     "end_time": "2024-05-17T13:58:34.302911500Z",
     "start_time": "2024-05-17T13:58:34.213913400Z"
    }
   },
   "id": "eeab99250e649d7a"
  },
  {
   "cell_type": "code",
   "execution_count": 20,
   "outputs": [
    {
     "data": {
      "text/plain": "                      Source                  Target            lable1  \\\n0     2Wzb0u138rgoZQTK3ytknT  4sTQVOfp9vEMCemLw50sbu          Galantis   \n1     5hgxMFtaWAhh6LDHdVBZLB  5hgxMFtaWAhh6LDHdVBZLB  Jocelyn Enriquez   \n2     5hgxMFtaWAhh6LDHdVBZLB  5GAJLmWzTPkL8UwMRcQUi0  Jocelyn Enriquez   \n3     5hgxMFtaWAhh6LDHdVBZLB  2F2EluD81oQXmxBg3zYTcN  Jocelyn Enriquez   \n4     5hgxMFtaWAhh6LDHdVBZLB  3T9QY4BkOOy2OOb3kUj1iB  Jocelyn Enriquez   \n...                      ...                     ...               ...   \n6586  49DKvKvaMet16JVLEY5aYu  49DKvKvaMet16JVLEY5aYu    The Tradewinds   \n6587  2p0Hf0MF8Nw8lwAXokczf0  2p0Hf0MF8Nw8lwAXokczf0     Smif-N-Wessun   \n6588  4BXEQU7tFguuDwDECletjd  4BXEQU7tFguuDwDECletjd       Troy Newman   \n6589  1qcdPgYDqsUJWEnVcSfqS7  1qcdPgYDqsUJWEnVcSfqS7     Cynthia Owens   \n6590  60gmlHZmT16wiO9GiXKYK9  60gmlHZmT16wiO9GiXKYK9      Chris Janson   \n\n                lable2  weight                 song_id  \\\n0                BEAUZ       4  4uUtBRwerBC9QrnJW0xKUR   \n1     Jocelyn Enriquez       4  1dfxMEnutDAe6apxSOBwvd   \n2       Julius Dacasin       2  674P5rsliKcOuJh3B7V3lu   \n3         Dantes Reyes       2  3RRcdP3vkaoxCll1xl2tnm   \n4         Philip Pines       2  04ct9nIhoPwERe2CsyjwIR   \n...                ...     ...                     ...   \n6586    The Tradewinds      10  61O4J63UWlTfs5lMdoLp3P   \n6587     Smif-N-Wessun      18  6qMDLXpR4dJEAmKIDWAWoh   \n6588       Troy Newman      28  5hcYuqthquFEXjkgGzJUmB   \n6589     Cynthia Owens       4  0xpNJepPf099VANp6O8kTv   \n6590      Chris Janson      16  7s5Sr1NJuKnlOMI2d4ruUC   \n\n                                 song_name  explicit      song_type  \\\n0                      Emoji - BEAUZ Remix     False  Collaboration   \n1                            To Love Again     False           Solo   \n2     To Love Again - Julius Dacasin Remix     False  Collaboration   \n3       To Love Again - Dantes Reyes Remix     False  Collaboration   \n4       To Love Again - Philip Pines Remix     False  Collaboration   \n...                                    ...       ...            ...   \n6586                            John Henry     False           Solo   \n6587                             Let It Go      True           Solo   \n6588                        Remember Still     False           Solo   \n6589                 Still Falling for You     False           Solo   \n6590                       It Is Christmas     False           Solo   \n\n      track_number  ...  time_signature  acousticness  danceability  energy  \\\n0                2  ...               4      0.091800         0.797   0.886   \n1                1  ...               4      0.003860         0.659   0.850   \n2                5  ...               4      0.028900         0.764   0.596   \n3                4  ...               4      0.373000         0.820   0.571   \n4                3  ...               4      0.000029         0.771   0.641   \n...            ...  ...             ...           ...           ...     ...   \n6586             5  ...               4      0.814000         0.552   0.317   \n6587             1  ...               4      0.006330         0.678   0.608   \n6588             6  ...               4      0.166000         0.521   0.642   \n6589             9  ...               4      0.086400         0.283   0.530   \n6590             1  ...               4      0.826000         0.364   0.424   \n\n     instrumentalness  liveness  loudness  speechiness  valence    tempo  \n0            0.010100    0.1050    -4.564       0.2540   0.3940  125.996  \n1            0.003920    0.1730    -6.106       0.0313   0.4230  120.003  \n2            0.063200    0.1110   -10.627       0.0299   0.9210  119.985  \n3            0.065400    0.1080    -9.194       0.0495   0.5210  125.001  \n4            0.534000    0.0916    -9.138       0.0773   0.7000  129.962  \n...               ...       ...       ...          ...      ...      ...  \n6586         0.000000    0.0540   -16.122       0.0660   0.9060  107.422  \n6587         0.000000    0.1740   -10.117       0.3600   0.4400   88.660  \n6588         0.000000    0.1240    -4.346       0.0265   0.1790  140.086  \n6589         0.000028    0.1130    -9.197       0.0394   0.0714   96.411  \n6590         0.000003    0.1040    -8.559       0.0295   0.1880  141.678  \n\n[6591 rows x 27 columns]",
      "text/html": "<div>\n<style scoped>\n    .dataframe tbody tr th:only-of-type {\n        vertical-align: middle;\n    }\n\n    .dataframe tbody tr th {\n        vertical-align: top;\n    }\n\n    .dataframe thead th {\n        text-align: right;\n    }\n</style>\n<table border=\"1\" class=\"dataframe\">\n  <thead>\n    <tr style=\"text-align: right;\">\n      <th></th>\n      <th>Source</th>\n      <th>Target</th>\n      <th>lable1</th>\n      <th>lable2</th>\n      <th>weight</th>\n      <th>song_id</th>\n      <th>song_name</th>\n      <th>explicit</th>\n      <th>song_type</th>\n      <th>track_number</th>\n      <th>...</th>\n      <th>time_signature</th>\n      <th>acousticness</th>\n      <th>danceability</th>\n      <th>energy</th>\n      <th>instrumentalness</th>\n      <th>liveness</th>\n      <th>loudness</th>\n      <th>speechiness</th>\n      <th>valence</th>\n      <th>tempo</th>\n    </tr>\n  </thead>\n  <tbody>\n    <tr>\n      <th>0</th>\n      <td>2Wzb0u138rgoZQTK3ytknT</td>\n      <td>4sTQVOfp9vEMCemLw50sbu</td>\n      <td>Galantis</td>\n      <td>BEAUZ</td>\n      <td>4</td>\n      <td>4uUtBRwerBC9QrnJW0xKUR</td>\n      <td>Emoji - BEAUZ Remix</td>\n      <td>False</td>\n      <td>Collaboration</td>\n      <td>2</td>\n      <td>...</td>\n      <td>4</td>\n      <td>0.091800</td>\n      <td>0.797</td>\n      <td>0.886</td>\n      <td>0.010100</td>\n      <td>0.1050</td>\n      <td>-4.564</td>\n      <td>0.2540</td>\n      <td>0.3940</td>\n      <td>125.996</td>\n    </tr>\n    <tr>\n      <th>1</th>\n      <td>5hgxMFtaWAhh6LDHdVBZLB</td>\n      <td>5hgxMFtaWAhh6LDHdVBZLB</td>\n      <td>Jocelyn Enriquez</td>\n      <td>Jocelyn Enriquez</td>\n      <td>4</td>\n      <td>1dfxMEnutDAe6apxSOBwvd</td>\n      <td>To Love Again</td>\n      <td>False</td>\n      <td>Solo</td>\n      <td>1</td>\n      <td>...</td>\n      <td>4</td>\n      <td>0.003860</td>\n      <td>0.659</td>\n      <td>0.850</td>\n      <td>0.003920</td>\n      <td>0.1730</td>\n      <td>-6.106</td>\n      <td>0.0313</td>\n      <td>0.4230</td>\n      <td>120.003</td>\n    </tr>\n    <tr>\n      <th>2</th>\n      <td>5hgxMFtaWAhh6LDHdVBZLB</td>\n      <td>5GAJLmWzTPkL8UwMRcQUi0</td>\n      <td>Jocelyn Enriquez</td>\n      <td>Julius Dacasin</td>\n      <td>2</td>\n      <td>674P5rsliKcOuJh3B7V3lu</td>\n      <td>To Love Again - Julius Dacasin Remix</td>\n      <td>False</td>\n      <td>Collaboration</td>\n      <td>5</td>\n      <td>...</td>\n      <td>4</td>\n      <td>0.028900</td>\n      <td>0.764</td>\n      <td>0.596</td>\n      <td>0.063200</td>\n      <td>0.1110</td>\n      <td>-10.627</td>\n      <td>0.0299</td>\n      <td>0.9210</td>\n      <td>119.985</td>\n    </tr>\n    <tr>\n      <th>3</th>\n      <td>5hgxMFtaWAhh6LDHdVBZLB</td>\n      <td>2F2EluD81oQXmxBg3zYTcN</td>\n      <td>Jocelyn Enriquez</td>\n      <td>Dantes Reyes</td>\n      <td>2</td>\n      <td>3RRcdP3vkaoxCll1xl2tnm</td>\n      <td>To Love Again - Dantes Reyes Remix</td>\n      <td>False</td>\n      <td>Collaboration</td>\n      <td>4</td>\n      <td>...</td>\n      <td>4</td>\n      <td>0.373000</td>\n      <td>0.820</td>\n      <td>0.571</td>\n      <td>0.065400</td>\n      <td>0.1080</td>\n      <td>-9.194</td>\n      <td>0.0495</td>\n      <td>0.5210</td>\n      <td>125.001</td>\n    </tr>\n    <tr>\n      <th>4</th>\n      <td>5hgxMFtaWAhh6LDHdVBZLB</td>\n      <td>3T9QY4BkOOy2OOb3kUj1iB</td>\n      <td>Jocelyn Enriquez</td>\n      <td>Philip Pines</td>\n      <td>2</td>\n      <td>04ct9nIhoPwERe2CsyjwIR</td>\n      <td>To Love Again - Philip Pines Remix</td>\n      <td>False</td>\n      <td>Collaboration</td>\n      <td>3</td>\n      <td>...</td>\n      <td>4</td>\n      <td>0.000029</td>\n      <td>0.771</td>\n      <td>0.641</td>\n      <td>0.534000</td>\n      <td>0.0916</td>\n      <td>-9.138</td>\n      <td>0.0773</td>\n      <td>0.7000</td>\n      <td>129.962</td>\n    </tr>\n    <tr>\n      <th>...</th>\n      <td>...</td>\n      <td>...</td>\n      <td>...</td>\n      <td>...</td>\n      <td>...</td>\n      <td>...</td>\n      <td>...</td>\n      <td>...</td>\n      <td>...</td>\n      <td>...</td>\n      <td>...</td>\n      <td>...</td>\n      <td>...</td>\n      <td>...</td>\n      <td>...</td>\n      <td>...</td>\n      <td>...</td>\n      <td>...</td>\n      <td>...</td>\n      <td>...</td>\n      <td>...</td>\n    </tr>\n    <tr>\n      <th>6586</th>\n      <td>49DKvKvaMet16JVLEY5aYu</td>\n      <td>49DKvKvaMet16JVLEY5aYu</td>\n      <td>The Tradewinds</td>\n      <td>The Tradewinds</td>\n      <td>10</td>\n      <td>61O4J63UWlTfs5lMdoLp3P</td>\n      <td>John Henry</td>\n      <td>False</td>\n      <td>Solo</td>\n      <td>5</td>\n      <td>...</td>\n      <td>4</td>\n      <td>0.814000</td>\n      <td>0.552</td>\n      <td>0.317</td>\n      <td>0.000000</td>\n      <td>0.0540</td>\n      <td>-16.122</td>\n      <td>0.0660</td>\n      <td>0.9060</td>\n      <td>107.422</td>\n    </tr>\n    <tr>\n      <th>6587</th>\n      <td>2p0Hf0MF8Nw8lwAXokczf0</td>\n      <td>2p0Hf0MF8Nw8lwAXokczf0</td>\n      <td>Smif-N-Wessun</td>\n      <td>Smif-N-Wessun</td>\n      <td>18</td>\n      <td>6qMDLXpR4dJEAmKIDWAWoh</td>\n      <td>Let It Go</td>\n      <td>True</td>\n      <td>Solo</td>\n      <td>1</td>\n      <td>...</td>\n      <td>4</td>\n      <td>0.006330</td>\n      <td>0.678</td>\n      <td>0.608</td>\n      <td>0.000000</td>\n      <td>0.1740</td>\n      <td>-10.117</td>\n      <td>0.3600</td>\n      <td>0.4400</td>\n      <td>88.660</td>\n    </tr>\n    <tr>\n      <th>6588</th>\n      <td>4BXEQU7tFguuDwDECletjd</td>\n      <td>4BXEQU7tFguuDwDECletjd</td>\n      <td>Troy Newman</td>\n      <td>Troy Newman</td>\n      <td>28</td>\n      <td>5hcYuqthquFEXjkgGzJUmB</td>\n      <td>Remember Still</td>\n      <td>False</td>\n      <td>Solo</td>\n      <td>6</td>\n      <td>...</td>\n      <td>4</td>\n      <td>0.166000</td>\n      <td>0.521</td>\n      <td>0.642</td>\n      <td>0.000000</td>\n      <td>0.1240</td>\n      <td>-4.346</td>\n      <td>0.0265</td>\n      <td>0.1790</td>\n      <td>140.086</td>\n    </tr>\n    <tr>\n      <th>6589</th>\n      <td>1qcdPgYDqsUJWEnVcSfqS7</td>\n      <td>1qcdPgYDqsUJWEnVcSfqS7</td>\n      <td>Cynthia Owens</td>\n      <td>Cynthia Owens</td>\n      <td>4</td>\n      <td>0xpNJepPf099VANp6O8kTv</td>\n      <td>Still Falling for You</td>\n      <td>False</td>\n      <td>Solo</td>\n      <td>9</td>\n      <td>...</td>\n      <td>4</td>\n      <td>0.086400</td>\n      <td>0.283</td>\n      <td>0.530</td>\n      <td>0.000028</td>\n      <td>0.1130</td>\n      <td>-9.197</td>\n      <td>0.0394</td>\n      <td>0.0714</td>\n      <td>96.411</td>\n    </tr>\n    <tr>\n      <th>6590</th>\n      <td>60gmlHZmT16wiO9GiXKYK9</td>\n      <td>60gmlHZmT16wiO9GiXKYK9</td>\n      <td>Chris Janson</td>\n      <td>Chris Janson</td>\n      <td>16</td>\n      <td>7s5Sr1NJuKnlOMI2d4ruUC</td>\n      <td>It Is Christmas</td>\n      <td>False</td>\n      <td>Solo</td>\n      <td>1</td>\n      <td>...</td>\n      <td>4</td>\n      <td>0.826000</td>\n      <td>0.364</td>\n      <td>0.424</td>\n      <td>0.000003</td>\n      <td>0.1040</td>\n      <td>-8.559</td>\n      <td>0.0295</td>\n      <td>0.1880</td>\n      <td>141.678</td>\n    </tr>\n  </tbody>\n</table>\n<p>6591 rows × 27 columns</p>\n</div>"
     },
     "execution_count": 20,
     "metadata": {},
     "output_type": "execute_result"
    }
   ],
   "source": [
    "# Extract edges and their attributes from the graph\n",
    "edges_with_attributes = [(u, v, G2.edges[u, v]) for u, v in G2.edges()]\n",
    "\n",
    "# Create a DataFrame from the edges and their attributes\n",
    "df_edges_test = pd.DataFrame(edges_with_attributes, columns=['Source', 'Target', 'Attributes'])\n",
    "\n",
    "# Normalize the 'Attributes' column to expand it into separate columns\n",
    "df_edge_attributes = pd.json_normalize(df_edges_test['Attributes'])\n",
    "\n",
    "# Combine the original 'Attributes' column with the expanded attributes\n",
    "df_edges_test = pd.concat([df_edges_test[['Source', 'Target']], df_edge_attributes], axis=1)\n",
    "df_edges_test"
   ],
   "metadata": {
    "collapsed": false,
    "ExecuteTime": {
     "end_time": "2024-05-17T13:58:34.393912400Z",
     "start_time": "2024-05-17T13:58:34.272915100Z"
    }
   },
   "id": "2e6324973210ec7e"
  },
  {
   "cell_type": "code",
   "execution_count": 21,
   "outputs": [],
   "source": [
    "# Save edge DataFrame to CSV\n",
    "df_edges_test.to_csv('network_created/edges_real_test.csv', sep='\\t', index=False)"
   ],
   "metadata": {
    "collapsed": false,
    "ExecuteTime": {
     "end_time": "2024-05-17T13:58:34.507912400Z",
     "start_time": "2024-05-17T13:58:34.383911800Z"
    }
   },
   "id": "b2a4471b27c98a30"
  },
  {
   "cell_type": "code",
   "execution_count": 22,
   "outputs": [
    {
     "name": "stdout",
     "output_type": "stream",
     "text": [
      "Number of nodes: 5902\n",
      "Number of edges: 6591\n"
     ]
    }
   ],
   "source": [
    "num_nodes = G2.number_of_nodes()\n",
    "num_edges = G2.number_of_edges()\n",
    "print(\"Number of nodes:\", num_nodes)\n",
    "print(\"Number of edges:\", num_edges)\n"
   ],
   "metadata": {
    "collapsed": false,
    "ExecuteTime": {
     "end_time": "2024-05-17T13:58:34.527837800Z",
     "start_time": "2024-05-17T13:58:34.463913400Z"
    }
   },
   "id": "b6287a821fd97ef0"
  },
  {
   "cell_type": "code",
   "execution_count": 23,
   "outputs": [
    {
     "data": {
      "text/plain": "                       song_id                  song_name  \\\n846000  3rTIDlmlGskGnRRqmRtvYn              Lone Stranger   \n604826  7zhdgvEuhcxy4iwc0ssoty  Ghost of Gloria Goodchild   \n604827  7urrpTy9j5QGMYrZpPwuEy                     Kolors   \n604828  6Ppgg7vDhYoyyNmmfIE9zK            Come as You Are   \n604829  3EOsorrvvIhtlTOoMdEshm                Nexperience   \n...                        ...                        ...   \n111731  1TDIEgiZDIedT13NQ2mAXg              Northern Soul   \n111730  4EJjPeKdHIZBEd3LJFEG3J               Chilled Life   \n111729  1dGHkh8SvzrJJB5i0lMf37      The Messiahs Birthday   \n111728  1llc2q5P1fAeBvEf3xWK0s                     Flamma   \n665923  5bM5D6WuyNX4dBOX9WNi24              Make You Rain   \n\n                        id_artists                  name_artists  popularity  \\\n846000  ['1W006EgE9fkSO9CpTnVlqN']              ['James Dooley']           0   \n604826  ['3F2Y683ovlWT53WKCeq0oj']                ['Goodie Mob']           5   \n604827  ['3F2Y683ovlWT53WKCeq0oj']                ['Goodie Mob']          12   \n604828  ['3F2Y683ovlWT53WKCeq0oj']                ['Goodie Mob']           5   \n604829  ['3F2Y683ovlWT53WKCeq0oj']                ['Goodie Mob']           5   \n...                            ...                           ...         ...   \n111731  ['7JfutRemdlJGyQsIZ7wWQ9']             ['Workout Buddy']           0   \n111730  ['7JfutRemdlJGyQsIZ7wWQ9']             ['Workout Buddy']           0   \n111729  ['7JfutRemdlJGyQsIZ7wWQ9']             ['Workout Buddy']           0   \n111728  ['7JfutRemdlJGyQsIZ7wWQ9']             ['Workout Buddy']           0   \n665923  ['397f86EukZ0rjnR5FWq0HQ']  ['Brazilian Lounge Project']           0   \n\n        explicit song_type  track_number  num_artists  num_available_markets  \\\n846000     False      Solo            19            1                     74   \n604826      True      Solo             9            1                      2   \n604827      True      Solo            10            1                      2   \n604828      True      Solo            11            1                      2   \n604829      True      Solo            12            1                      2   \n...          ...       ...           ...          ...                    ...   \n111731     False      Solo            20            1                     79   \n111730     False      Solo            19            1                     79   \n111729     False      Solo            18            1                     79   \n111728     False      Solo            17            1                     79   \n665923     False      Solo             7            1                     79   \n\n        ... danceability  energy  instrumentalness  liveness  loudness  \\\n846000  ...        0.235   0.199          0.896000    0.1110   -15.446   \n604826  ...        0.609   0.612          0.000000    0.4980    -7.317   \n604827  ...        0.482   0.722          0.000000    0.5020    -7.968   \n604828  ...        0.656   0.952          0.000582    0.0455    -5.103   \n604829  ...        0.610   0.798          0.000660    0.5230    -6.880   \n...     ...          ...     ...               ...       ...       ...   \n111731  ...        0.801   0.452          0.895000    0.0366   -11.564   \n111730  ...        0.792   0.870          0.664000    0.0627    -9.842   \n111729  ...        0.761   0.588          0.913000    0.1130   -13.552   \n111728  ...        0.637   0.969          0.836000    0.3790    -4.583   \n665923  ...        0.810   0.717          0.901000    0.1110    -7.345   \n\n        speechiness  valence    tempo  hit       date  \n846000       0.0329   0.0476   69.245    0 2013-08-26  \n604826       0.1240   0.3850  140.953    0 2013-08-26  \n604827       0.3140   0.4840  105.123    0 2013-08-26  \n604828       0.0602   0.4760  130.923    0 2013-08-26  \n604829       0.2730   0.6130  138.103    0 2013-08-26  \n...             ...      ...      ...  ...        ...  \n111731       0.0725   0.3530  121.983    0 2018-08-25  \n111730       0.0448   0.4110  124.016    0 2018-08-25  \n111729       0.0690   0.1090  123.982    0 2018-08-25  \n111728       0.0436   0.0719  128.098    0 2018-08-25  \n665923       0.0749   0.1700  126.010    0 2018-08-25  \n\n[302916 rows x 26 columns]",
      "text/html": "<div>\n<style scoped>\n    .dataframe tbody tr th:only-of-type {\n        vertical-align: middle;\n    }\n\n    .dataframe tbody tr th {\n        vertical-align: top;\n    }\n\n    .dataframe thead th {\n        text-align: right;\n    }\n</style>\n<table border=\"1\" class=\"dataframe\">\n  <thead>\n    <tr style=\"text-align: right;\">\n      <th></th>\n      <th>song_id</th>\n      <th>song_name</th>\n      <th>id_artists</th>\n      <th>name_artists</th>\n      <th>popularity</th>\n      <th>explicit</th>\n      <th>song_type</th>\n      <th>track_number</th>\n      <th>num_artists</th>\n      <th>num_available_markets</th>\n      <th>...</th>\n      <th>danceability</th>\n      <th>energy</th>\n      <th>instrumentalness</th>\n      <th>liveness</th>\n      <th>loudness</th>\n      <th>speechiness</th>\n      <th>valence</th>\n      <th>tempo</th>\n      <th>hit</th>\n      <th>date</th>\n    </tr>\n  </thead>\n  <tbody>\n    <tr>\n      <th>846000</th>\n      <td>3rTIDlmlGskGnRRqmRtvYn</td>\n      <td>Lone Stranger</td>\n      <td>['1W006EgE9fkSO9CpTnVlqN']</td>\n      <td>['James Dooley']</td>\n      <td>0</td>\n      <td>False</td>\n      <td>Solo</td>\n      <td>19</td>\n      <td>1</td>\n      <td>74</td>\n      <td>...</td>\n      <td>0.235</td>\n      <td>0.199</td>\n      <td>0.896000</td>\n      <td>0.1110</td>\n      <td>-15.446</td>\n      <td>0.0329</td>\n      <td>0.0476</td>\n      <td>69.245</td>\n      <td>0</td>\n      <td>2013-08-26</td>\n    </tr>\n    <tr>\n      <th>604826</th>\n      <td>7zhdgvEuhcxy4iwc0ssoty</td>\n      <td>Ghost of Gloria Goodchild</td>\n      <td>['3F2Y683ovlWT53WKCeq0oj']</td>\n      <td>['Goodie Mob']</td>\n      <td>5</td>\n      <td>True</td>\n      <td>Solo</td>\n      <td>9</td>\n      <td>1</td>\n      <td>2</td>\n      <td>...</td>\n      <td>0.609</td>\n      <td>0.612</td>\n      <td>0.000000</td>\n      <td>0.4980</td>\n      <td>-7.317</td>\n      <td>0.1240</td>\n      <td>0.3850</td>\n      <td>140.953</td>\n      <td>0</td>\n      <td>2013-08-26</td>\n    </tr>\n    <tr>\n      <th>604827</th>\n      <td>7urrpTy9j5QGMYrZpPwuEy</td>\n      <td>Kolors</td>\n      <td>['3F2Y683ovlWT53WKCeq0oj']</td>\n      <td>['Goodie Mob']</td>\n      <td>12</td>\n      <td>True</td>\n      <td>Solo</td>\n      <td>10</td>\n      <td>1</td>\n      <td>2</td>\n      <td>...</td>\n      <td>0.482</td>\n      <td>0.722</td>\n      <td>0.000000</td>\n      <td>0.5020</td>\n      <td>-7.968</td>\n      <td>0.3140</td>\n      <td>0.4840</td>\n      <td>105.123</td>\n      <td>0</td>\n      <td>2013-08-26</td>\n    </tr>\n    <tr>\n      <th>604828</th>\n      <td>6Ppgg7vDhYoyyNmmfIE9zK</td>\n      <td>Come as You Are</td>\n      <td>['3F2Y683ovlWT53WKCeq0oj']</td>\n      <td>['Goodie Mob']</td>\n      <td>5</td>\n      <td>True</td>\n      <td>Solo</td>\n      <td>11</td>\n      <td>1</td>\n      <td>2</td>\n      <td>...</td>\n      <td>0.656</td>\n      <td>0.952</td>\n      <td>0.000582</td>\n      <td>0.0455</td>\n      <td>-5.103</td>\n      <td>0.0602</td>\n      <td>0.4760</td>\n      <td>130.923</td>\n      <td>0</td>\n      <td>2013-08-26</td>\n    </tr>\n    <tr>\n      <th>604829</th>\n      <td>3EOsorrvvIhtlTOoMdEshm</td>\n      <td>Nexperience</td>\n      <td>['3F2Y683ovlWT53WKCeq0oj']</td>\n      <td>['Goodie Mob']</td>\n      <td>5</td>\n      <td>True</td>\n      <td>Solo</td>\n      <td>12</td>\n      <td>1</td>\n      <td>2</td>\n      <td>...</td>\n      <td>0.610</td>\n      <td>0.798</td>\n      <td>0.000660</td>\n      <td>0.5230</td>\n      <td>-6.880</td>\n      <td>0.2730</td>\n      <td>0.6130</td>\n      <td>138.103</td>\n      <td>0</td>\n      <td>2013-08-26</td>\n    </tr>\n    <tr>\n      <th>...</th>\n      <td>...</td>\n      <td>...</td>\n      <td>...</td>\n      <td>...</td>\n      <td>...</td>\n      <td>...</td>\n      <td>...</td>\n      <td>...</td>\n      <td>...</td>\n      <td>...</td>\n      <td>...</td>\n      <td>...</td>\n      <td>...</td>\n      <td>...</td>\n      <td>...</td>\n      <td>...</td>\n      <td>...</td>\n      <td>...</td>\n      <td>...</td>\n      <td>...</td>\n      <td>...</td>\n    </tr>\n    <tr>\n      <th>111731</th>\n      <td>1TDIEgiZDIedT13NQ2mAXg</td>\n      <td>Northern Soul</td>\n      <td>['7JfutRemdlJGyQsIZ7wWQ9']</td>\n      <td>['Workout Buddy']</td>\n      <td>0</td>\n      <td>False</td>\n      <td>Solo</td>\n      <td>20</td>\n      <td>1</td>\n      <td>79</td>\n      <td>...</td>\n      <td>0.801</td>\n      <td>0.452</td>\n      <td>0.895000</td>\n      <td>0.0366</td>\n      <td>-11.564</td>\n      <td>0.0725</td>\n      <td>0.3530</td>\n      <td>121.983</td>\n      <td>0</td>\n      <td>2018-08-25</td>\n    </tr>\n    <tr>\n      <th>111730</th>\n      <td>4EJjPeKdHIZBEd3LJFEG3J</td>\n      <td>Chilled Life</td>\n      <td>['7JfutRemdlJGyQsIZ7wWQ9']</td>\n      <td>['Workout Buddy']</td>\n      <td>0</td>\n      <td>False</td>\n      <td>Solo</td>\n      <td>19</td>\n      <td>1</td>\n      <td>79</td>\n      <td>...</td>\n      <td>0.792</td>\n      <td>0.870</td>\n      <td>0.664000</td>\n      <td>0.0627</td>\n      <td>-9.842</td>\n      <td>0.0448</td>\n      <td>0.4110</td>\n      <td>124.016</td>\n      <td>0</td>\n      <td>2018-08-25</td>\n    </tr>\n    <tr>\n      <th>111729</th>\n      <td>1dGHkh8SvzrJJB5i0lMf37</td>\n      <td>The Messiahs Birthday</td>\n      <td>['7JfutRemdlJGyQsIZ7wWQ9']</td>\n      <td>['Workout Buddy']</td>\n      <td>0</td>\n      <td>False</td>\n      <td>Solo</td>\n      <td>18</td>\n      <td>1</td>\n      <td>79</td>\n      <td>...</td>\n      <td>0.761</td>\n      <td>0.588</td>\n      <td>0.913000</td>\n      <td>0.1130</td>\n      <td>-13.552</td>\n      <td>0.0690</td>\n      <td>0.1090</td>\n      <td>123.982</td>\n      <td>0</td>\n      <td>2018-08-25</td>\n    </tr>\n    <tr>\n      <th>111728</th>\n      <td>1llc2q5P1fAeBvEf3xWK0s</td>\n      <td>Flamma</td>\n      <td>['7JfutRemdlJGyQsIZ7wWQ9']</td>\n      <td>['Workout Buddy']</td>\n      <td>0</td>\n      <td>False</td>\n      <td>Solo</td>\n      <td>17</td>\n      <td>1</td>\n      <td>79</td>\n      <td>...</td>\n      <td>0.637</td>\n      <td>0.969</td>\n      <td>0.836000</td>\n      <td>0.3790</td>\n      <td>-4.583</td>\n      <td>0.0436</td>\n      <td>0.0719</td>\n      <td>128.098</td>\n      <td>0</td>\n      <td>2018-08-25</td>\n    </tr>\n    <tr>\n      <th>665923</th>\n      <td>5bM5D6WuyNX4dBOX9WNi24</td>\n      <td>Make You Rain</td>\n      <td>['397f86EukZ0rjnR5FWq0HQ']</td>\n      <td>['Brazilian Lounge Project']</td>\n      <td>0</td>\n      <td>False</td>\n      <td>Solo</td>\n      <td>7</td>\n      <td>1</td>\n      <td>79</td>\n      <td>...</td>\n      <td>0.810</td>\n      <td>0.717</td>\n      <td>0.901000</td>\n      <td>0.1110</td>\n      <td>-7.345</td>\n      <td>0.0749</td>\n      <td>0.1700</td>\n      <td>126.010</td>\n      <td>0</td>\n      <td>2018-08-25</td>\n    </tr>\n  </tbody>\n</table>\n<p>302916 rows × 26 columns</p>\n</div>"
     },
     "execution_count": 23,
     "metadata": {},
     "output_type": "execute_result"
    }
   ],
   "source": [
    "train_df"
   ],
   "metadata": {
    "collapsed": false,
    "ExecuteTime": {
     "end_time": "2024-05-17T13:58:34.677172Z",
     "start_time": "2024-05-17T13:58:34.474913400Z"
    }
   },
   "id": "b1de9789d17182a"
  },
  {
   "cell_type": "code",
   "execution_count": 24,
   "outputs": [
    {
     "data": {
      "text/plain": "                       song_id  \\\n563810  6R3RXAvtypsoN6jWsjeabw   \n563811  2Tb4RA2rzI3Xp97Q3EuhZ6   \n563812  2ADv9UhiY8pACXvwxP9mr0   \n641117  2RcAviQBeJrtZDZ7P1Co9k   \n563813  7DnbauUP88t63cDXUrdovz   \n...                        ...   \n11098   0xAqhyWvTkfcdFgm7dozMO   \n10903   6zhg8TnVKi90ITDzFKwPr0   \n5856    2GvkFSjRXV0Ii3uYnHiQ74   \n5080    0lej8CemYKkWVHg77Xe1ky   \n10666   6Fh2QgjCxL96dA3Gtpfr4Q   \n\n                                                song_name  \\\n563810                                      Nordic Shores   \n563811                                               Wave   \n563812                                   Waltz for Joshua   \n641117                                            Elmoped   \n563813                                      Black Orpheus   \n...                                                   ...   \n11098             (I Wanna) Testify (Mono Single Version)   \n10903                       Swingtown - Alternate Version   \n5856                                       Take My Advice   \n5080             A Man Holdin' on (To a Woman Lettin’ Go)   \n10666   One Sweet Day (16-Bit Mariah Carey & Boyz II M...   \n\n                                               id_artists  \\\n563810                         ['0KMJUP87x4ERfwSNYvkttw']   \n563811                         ['3OpJxAHfT0KsJzQqdX5SLb']   \n563812                         ['3OpJxAHfT0KsJzQqdX5SLb']   \n641117                         ['6BkcAbUkfIBM4XudxieMq8']   \n563813                         ['3OpJxAHfT0KsJzQqdX5SLb']   \n...                                                   ...   \n11098                          ['1Ve5PoI7i5jIIP1xudo6AB']   \n10903                          ['6QtGlUje9TIkLrgPZrESuk']   \n5856                           ['40PLSl99xXqAQsCQQPmfyM']   \n5080    ['1Fj0R2t4HaJa3oUe8azB8R', '5LDnSV99gbDSsMX3Dc...   \n10666                          ['1v4YnufenjE9BLAfP90qvt']   \n\n                           name_artists  popularity  explicit      song_type  \\\n563810                 ['Sandgrounder']           0     False           Solo   \n563811                 ['Ginger Tunes']           0     False           Solo   \n563812                 ['Ginger Tunes']           0     False           Solo   \n641117                    ['Dr. Alban']          28     False           Solo   \n563813                 ['Ginger Tunes']           0     False           Solo   \n...                                 ...         ...       ...            ...   \n11098               ['The Parliaments']           7     False           Solo   \n10903             ['Steve Miller Band']          26     False           Solo   \n5856                       ['Kym Sims']           0     False           Solo   \n5080    ['Ty Herndon', 'Anita Cochran']          14     False  Collaboration   \n10666                 ['Arcade Player']           0     False           Solo   \n\n        track_number  num_artists  num_available_markets  ... danceability  \\\n563810             5            1                     79  ...        0.646   \n563811             6            1                     79  ...        0.668   \n563812             7            1                     79  ...        0.650   \n641117             1            1                     79  ...        0.851   \n563813             8            1                     79  ...        0.752   \n...              ...          ...                    ...  ...          ...   \n11098             10            1                     79  ...        0.668   \n10903              5            1                     79  ...        0.459   \n5856              10            1                     73  ...        0.737   \n5080               7            2                     79  ...        0.611   \n10666             27            1                     79  ...        0.395   \n\n        energy  instrumentalness  liveness  loudness  speechiness  valence  \\\n563810   0.490          0.895000    0.2230   -16.153       0.0525   0.8420   \n563811   0.414          0.902000    0.1120   -10.019       0.0361   0.0399   \n563812   0.235          0.887000    0.1490   -12.020       0.0346   0.0391   \n641117   0.568          0.000000    0.1450    -7.159       0.0589   0.4710   \n563813   0.435          0.901000    0.0886   -10.619       0.0347   0.1250   \n...        ...               ...       ...       ...          ...      ...   \n11098    0.702          0.000000    0.0521    -5.750       0.0330   0.7540   \n10903    0.764          0.000544    0.2440    -6.662       0.0354   0.4390   \n5856     0.814          0.392000    0.0844   -10.396       0.0307   0.8030   \n5080     0.429          0.000014    0.1120    -8.619       0.0298   0.2370   \n10666    0.405          0.745000    0.1100    -5.559       0.0393   0.3130   \n\n          tempo  hit       date  \n563810   95.016    0 2018-08-26  \n563811  121.084    0 2018-08-26  \n563812  116.265    0 2018-08-26  \n641117  119.981    0 2018-08-26  \n563813  122.128    0 2018-08-26  \n...         ...  ...        ...  \n11098   105.227    1 2019-08-23  \n10903   124.557    1 2019-08-23  \n5856    120.010    1 2019-08-23  \n5080    128.007    1 2019-08-23  \n10666   194.933    1 2019-08-26  \n\n[54250 rows x 26 columns]",
      "text/html": "<div>\n<style scoped>\n    .dataframe tbody tr th:only-of-type {\n        vertical-align: middle;\n    }\n\n    .dataframe tbody tr th {\n        vertical-align: top;\n    }\n\n    .dataframe thead th {\n        text-align: right;\n    }\n</style>\n<table border=\"1\" class=\"dataframe\">\n  <thead>\n    <tr style=\"text-align: right;\">\n      <th></th>\n      <th>song_id</th>\n      <th>song_name</th>\n      <th>id_artists</th>\n      <th>name_artists</th>\n      <th>popularity</th>\n      <th>explicit</th>\n      <th>song_type</th>\n      <th>track_number</th>\n      <th>num_artists</th>\n      <th>num_available_markets</th>\n      <th>...</th>\n      <th>danceability</th>\n      <th>energy</th>\n      <th>instrumentalness</th>\n      <th>liveness</th>\n      <th>loudness</th>\n      <th>speechiness</th>\n      <th>valence</th>\n      <th>tempo</th>\n      <th>hit</th>\n      <th>date</th>\n    </tr>\n  </thead>\n  <tbody>\n    <tr>\n      <th>563810</th>\n      <td>6R3RXAvtypsoN6jWsjeabw</td>\n      <td>Nordic Shores</td>\n      <td>['0KMJUP87x4ERfwSNYvkttw']</td>\n      <td>['Sandgrounder']</td>\n      <td>0</td>\n      <td>False</td>\n      <td>Solo</td>\n      <td>5</td>\n      <td>1</td>\n      <td>79</td>\n      <td>...</td>\n      <td>0.646</td>\n      <td>0.490</td>\n      <td>0.895000</td>\n      <td>0.2230</td>\n      <td>-16.153</td>\n      <td>0.0525</td>\n      <td>0.8420</td>\n      <td>95.016</td>\n      <td>0</td>\n      <td>2018-08-26</td>\n    </tr>\n    <tr>\n      <th>563811</th>\n      <td>2Tb4RA2rzI3Xp97Q3EuhZ6</td>\n      <td>Wave</td>\n      <td>['3OpJxAHfT0KsJzQqdX5SLb']</td>\n      <td>['Ginger Tunes']</td>\n      <td>0</td>\n      <td>False</td>\n      <td>Solo</td>\n      <td>6</td>\n      <td>1</td>\n      <td>79</td>\n      <td>...</td>\n      <td>0.668</td>\n      <td>0.414</td>\n      <td>0.902000</td>\n      <td>0.1120</td>\n      <td>-10.019</td>\n      <td>0.0361</td>\n      <td>0.0399</td>\n      <td>121.084</td>\n      <td>0</td>\n      <td>2018-08-26</td>\n    </tr>\n    <tr>\n      <th>563812</th>\n      <td>2ADv9UhiY8pACXvwxP9mr0</td>\n      <td>Waltz for Joshua</td>\n      <td>['3OpJxAHfT0KsJzQqdX5SLb']</td>\n      <td>['Ginger Tunes']</td>\n      <td>0</td>\n      <td>False</td>\n      <td>Solo</td>\n      <td>7</td>\n      <td>1</td>\n      <td>79</td>\n      <td>...</td>\n      <td>0.650</td>\n      <td>0.235</td>\n      <td>0.887000</td>\n      <td>0.1490</td>\n      <td>-12.020</td>\n      <td>0.0346</td>\n      <td>0.0391</td>\n      <td>116.265</td>\n      <td>0</td>\n      <td>2018-08-26</td>\n    </tr>\n    <tr>\n      <th>641117</th>\n      <td>2RcAviQBeJrtZDZ7P1Co9k</td>\n      <td>Elmoped</td>\n      <td>['6BkcAbUkfIBM4XudxieMq8']</td>\n      <td>['Dr. Alban']</td>\n      <td>28</td>\n      <td>False</td>\n      <td>Solo</td>\n      <td>1</td>\n      <td>1</td>\n      <td>79</td>\n      <td>...</td>\n      <td>0.851</td>\n      <td>0.568</td>\n      <td>0.000000</td>\n      <td>0.1450</td>\n      <td>-7.159</td>\n      <td>0.0589</td>\n      <td>0.4710</td>\n      <td>119.981</td>\n      <td>0</td>\n      <td>2018-08-26</td>\n    </tr>\n    <tr>\n      <th>563813</th>\n      <td>7DnbauUP88t63cDXUrdovz</td>\n      <td>Black Orpheus</td>\n      <td>['3OpJxAHfT0KsJzQqdX5SLb']</td>\n      <td>['Ginger Tunes']</td>\n      <td>0</td>\n      <td>False</td>\n      <td>Solo</td>\n      <td>8</td>\n      <td>1</td>\n      <td>79</td>\n      <td>...</td>\n      <td>0.752</td>\n      <td>0.435</td>\n      <td>0.901000</td>\n      <td>0.0886</td>\n      <td>-10.619</td>\n      <td>0.0347</td>\n      <td>0.1250</td>\n      <td>122.128</td>\n      <td>0</td>\n      <td>2018-08-26</td>\n    </tr>\n    <tr>\n      <th>...</th>\n      <td>...</td>\n      <td>...</td>\n      <td>...</td>\n      <td>...</td>\n      <td>...</td>\n      <td>...</td>\n      <td>...</td>\n      <td>...</td>\n      <td>...</td>\n      <td>...</td>\n      <td>...</td>\n      <td>...</td>\n      <td>...</td>\n      <td>...</td>\n      <td>...</td>\n      <td>...</td>\n      <td>...</td>\n      <td>...</td>\n      <td>...</td>\n      <td>...</td>\n      <td>...</td>\n    </tr>\n    <tr>\n      <th>11098</th>\n      <td>0xAqhyWvTkfcdFgm7dozMO</td>\n      <td>(I Wanna) Testify (Mono Single Version)</td>\n      <td>['1Ve5PoI7i5jIIP1xudo6AB']</td>\n      <td>['The Parliaments']</td>\n      <td>7</td>\n      <td>False</td>\n      <td>Solo</td>\n      <td>10</td>\n      <td>1</td>\n      <td>79</td>\n      <td>...</td>\n      <td>0.668</td>\n      <td>0.702</td>\n      <td>0.000000</td>\n      <td>0.0521</td>\n      <td>-5.750</td>\n      <td>0.0330</td>\n      <td>0.7540</td>\n      <td>105.227</td>\n      <td>1</td>\n      <td>2019-08-23</td>\n    </tr>\n    <tr>\n      <th>10903</th>\n      <td>6zhg8TnVKi90ITDzFKwPr0</td>\n      <td>Swingtown - Alternate Version</td>\n      <td>['6QtGlUje9TIkLrgPZrESuk']</td>\n      <td>['Steve Miller Band']</td>\n      <td>26</td>\n      <td>False</td>\n      <td>Solo</td>\n      <td>5</td>\n      <td>1</td>\n      <td>79</td>\n      <td>...</td>\n      <td>0.459</td>\n      <td>0.764</td>\n      <td>0.000544</td>\n      <td>0.2440</td>\n      <td>-6.662</td>\n      <td>0.0354</td>\n      <td>0.4390</td>\n      <td>124.557</td>\n      <td>1</td>\n      <td>2019-08-23</td>\n    </tr>\n    <tr>\n      <th>5856</th>\n      <td>2GvkFSjRXV0Ii3uYnHiQ74</td>\n      <td>Take My Advice</td>\n      <td>['40PLSl99xXqAQsCQQPmfyM']</td>\n      <td>['Kym Sims']</td>\n      <td>0</td>\n      <td>False</td>\n      <td>Solo</td>\n      <td>10</td>\n      <td>1</td>\n      <td>73</td>\n      <td>...</td>\n      <td>0.737</td>\n      <td>0.814</td>\n      <td>0.392000</td>\n      <td>0.0844</td>\n      <td>-10.396</td>\n      <td>0.0307</td>\n      <td>0.8030</td>\n      <td>120.010</td>\n      <td>1</td>\n      <td>2019-08-23</td>\n    </tr>\n    <tr>\n      <th>5080</th>\n      <td>0lej8CemYKkWVHg77Xe1ky</td>\n      <td>A Man Holdin' on (To a Woman Lettin’ Go)</td>\n      <td>['1Fj0R2t4HaJa3oUe8azB8R', '5LDnSV99gbDSsMX3Dc...</td>\n      <td>['Ty Herndon', 'Anita Cochran']</td>\n      <td>14</td>\n      <td>False</td>\n      <td>Collaboration</td>\n      <td>7</td>\n      <td>2</td>\n      <td>79</td>\n      <td>...</td>\n      <td>0.611</td>\n      <td>0.429</td>\n      <td>0.000014</td>\n      <td>0.1120</td>\n      <td>-8.619</td>\n      <td>0.0298</td>\n      <td>0.2370</td>\n      <td>128.007</td>\n      <td>1</td>\n      <td>2019-08-23</td>\n    </tr>\n    <tr>\n      <th>10666</th>\n      <td>6Fh2QgjCxL96dA3Gtpfr4Q</td>\n      <td>One Sweet Day (16-Bit Mariah Carey &amp; Boyz II M...</td>\n      <td>['1v4YnufenjE9BLAfP90qvt']</td>\n      <td>['Arcade Player']</td>\n      <td>0</td>\n      <td>False</td>\n      <td>Solo</td>\n      <td>27</td>\n      <td>1</td>\n      <td>79</td>\n      <td>...</td>\n      <td>0.395</td>\n      <td>0.405</td>\n      <td>0.745000</td>\n      <td>0.1100</td>\n      <td>-5.559</td>\n      <td>0.0393</td>\n      <td>0.3130</td>\n      <td>194.933</td>\n      <td>1</td>\n      <td>2019-08-26</td>\n    </tr>\n  </tbody>\n</table>\n<p>54250 rows × 26 columns</p>\n</div>"
     },
     "execution_count": 24,
     "metadata": {},
     "output_type": "execute_result"
    }
   ],
   "source": [
    "test_df"
   ],
   "metadata": {
    "collapsed": false,
    "ExecuteTime": {
     "end_time": "2024-05-17T13:58:34.823396900Z",
     "start_time": "2024-05-17T13:58:34.685173200Z"
    }
   },
   "id": "4aa2a74a75195a81"
  }
 ],
 "metadata": {
  "kernelspec": {
   "display_name": "Python 3",
   "language": "python",
   "name": "python3"
  },
  "language_info": {
   "codemirror_mode": {
    "name": "ipython",
    "version": 2
   },
   "file_extension": ".py",
   "mimetype": "text/x-python",
   "name": "python",
   "nbconvert_exporter": "python",
   "pygments_lexer": "ipython2",
   "version": "2.7.6"
  }
 },
 "nbformat": 4,
 "nbformat_minor": 5
}
