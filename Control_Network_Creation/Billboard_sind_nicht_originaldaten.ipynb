{
 "cells": [
  {
   "cell_type": "code",
   "execution_count": 1,
   "id": "initial_id",
   "metadata": {
    "collapsed": true,
    "ExecuteTime": {
     "end_time": "2024-03-04T15:07:11.975725700Z",
     "start_time": "2024-03-04T15:07:11.924363Z"
    }
   },
   "outputs": [
    {
     "data": {
      "text/plain": "        Id                       name  popularity  followers  \\\n0        1                   2 Chainz          83    3141364   \n1        2                      Drake         100   23732186   \n2        3                      Quavo          84    1819632   \n3        4              Ty Dolla $ign          87    1939644   \n4        5                 Trey Songz          75    3256433   \n...    ...                        ...         ...        ...   \n2147  2148               Matthew Koma          61      68641   \n2148  2149  Rome of Sublime with Rome          39         93   \n2149  2150                  Matisyahu          60     437153   \n2150  2151    The Unlikely Candidates          53      29455   \n2151  2152                       Maná          72    3157313   \n\n                                                 genres  \\\n0     hip hop, pop, pop rap, rap, southern hip hop, ...   \n1     canadian hip hop, canadian pop, hip hop, pop r...   \n2                                                   NaN   \n3                         pop, pop rap, rap, trap music   \n4     dance pop, indie r&b, pop, pop rap, r&b, south...   \n...                                                 ...   \n2147                                                NaN   \n2148                                                NaN   \n2149                                      reggae fusion   \n2150  indie pop, indie poptimism, indie rockism, mod...   \n2151  latin, latin arena pop, latin rock, mexican po...   \n\n                           image  degree  weighted degree  Eccentricity  \\\n0     17lzZA2AlOHwCwFALHttmp.jpg      32              108             5   \n1     3TVXtAsR1Inumwj472S9r4.jpg      21               68             5   \n2     0VRj0yCOv2FXJNP47XQnx5.jpg      31              106             5   \n3     7c0XG5cIJTrrAgEC3ULPiq.jpg      35               92             5   \n4     2iojnBLj0qIMiKPvVhLnsH.jpg      10               24             6   \n...                          ...     ...              ...           ...   \n2147  1mU61l2mcjEFraXZLpvVMo.jpg       0                0             0   \n2148  1WkB67ly6k7EVGJoNFj9YO.jpg       0                0             0   \n2149  5eyMzR1hYiEZtN2c9ly2kw.jpg       0                0             0   \n2150  4hwJwkgsufeilLXS1ZfJqq.jpg       0                0             0   \n2151  7okwEbXzyT2VffBmyQBWLz.jpg       3                6             7   \n\n      closnesscentrality  harmonicclosnesscentrality  betweenesscentrality  \\\n0               0.412354                    0.483401              0.000574   \n1               0.404255                    0.457287              0.000421   \n2               0.410982                    0.478677              0.000520   \n3               0.435626                    0.503171              0.001072   \n4               0.353868                    0.396086              0.000030   \n...                  ...                         ...                   ...   \n2147            0.000000                    0.000000              0.000000   \n2148            0.000000                    0.000000              0.000000   \n2149            0.000000                    0.000000              0.000000   \n2150            0.000000                    0.000000              0.000000   \n2151            0.240272                    0.265732              0.000000   \n\n      modularity_class  clustering  eigencentrality              Spotify ID  \n0                  675    0.219758         1.000000  17lzZA2AlOHwCwFALHttmp  \n1                  446    0.252381         0.720310  3TVXtAsR1Inumwj472S9r4  \n2                  675    0.210753         0.932713  0VRj0yCOv2FXJNP47XQnx5  \n3                 1236    0.161345         0.942299  7c0XG5cIJTrrAgEC3ULPiq  \n4                  446    0.377778         0.349635  2iojnBLj0qIMiKPvVhLnsH  \n...                ...         ...              ...                     ...  \n2147              1907    0.000000         0.000000  1mU61l2mcjEFraXZLpvVMo  \n2148              1908    0.000000         0.000000  1WkB67ly6k7EVGJoNFj9YO  \n2149              1909    0.000000         0.000000  5eyMzR1hYiEZtN2c9ly2kw  \n2150              1910    0.000000         0.000000  4hwJwkgsufeilLXS1ZfJqq  \n2151               417    0.666667         0.022912  7okwEbXzyT2VffBmyQBWLz  \n\n[2152 rows x 16 columns]",
      "text/html": "<div>\n<style scoped>\n    .dataframe tbody tr th:only-of-type {\n        vertical-align: middle;\n    }\n\n    .dataframe tbody tr th {\n        vertical-align: top;\n    }\n\n    .dataframe thead th {\n        text-align: right;\n    }\n</style>\n<table border=\"1\" class=\"dataframe\">\n  <thead>\n    <tr style=\"text-align: right;\">\n      <th></th>\n      <th>Id</th>\n      <th>name</th>\n      <th>popularity</th>\n      <th>followers</th>\n      <th>genres</th>\n      <th>image</th>\n      <th>degree</th>\n      <th>weighted degree</th>\n      <th>Eccentricity</th>\n      <th>closnesscentrality</th>\n      <th>harmonicclosnesscentrality</th>\n      <th>betweenesscentrality</th>\n      <th>modularity_class</th>\n      <th>clustering</th>\n      <th>eigencentrality</th>\n      <th>Spotify ID</th>\n    </tr>\n  </thead>\n  <tbody>\n    <tr>\n      <th>0</th>\n      <td>1</td>\n      <td>2 Chainz</td>\n      <td>83</td>\n      <td>3141364</td>\n      <td>hip hop, pop, pop rap, rap, southern hip hop, ...</td>\n      <td>17lzZA2AlOHwCwFALHttmp.jpg</td>\n      <td>32</td>\n      <td>108</td>\n      <td>5</td>\n      <td>0.412354</td>\n      <td>0.483401</td>\n      <td>0.000574</td>\n      <td>675</td>\n      <td>0.219758</td>\n      <td>1.000000</td>\n      <td>17lzZA2AlOHwCwFALHttmp</td>\n    </tr>\n    <tr>\n      <th>1</th>\n      <td>2</td>\n      <td>Drake</td>\n      <td>100</td>\n      <td>23732186</td>\n      <td>canadian hip hop, canadian pop, hip hop, pop r...</td>\n      <td>3TVXtAsR1Inumwj472S9r4.jpg</td>\n      <td>21</td>\n      <td>68</td>\n      <td>5</td>\n      <td>0.404255</td>\n      <td>0.457287</td>\n      <td>0.000421</td>\n      <td>446</td>\n      <td>0.252381</td>\n      <td>0.720310</td>\n      <td>3TVXtAsR1Inumwj472S9r4</td>\n    </tr>\n    <tr>\n      <th>2</th>\n      <td>3</td>\n      <td>Quavo</td>\n      <td>84</td>\n      <td>1819632</td>\n      <td>NaN</td>\n      <td>0VRj0yCOv2FXJNP47XQnx5.jpg</td>\n      <td>31</td>\n      <td>106</td>\n      <td>5</td>\n      <td>0.410982</td>\n      <td>0.478677</td>\n      <td>0.000520</td>\n      <td>675</td>\n      <td>0.210753</td>\n      <td>0.932713</td>\n      <td>0VRj0yCOv2FXJNP47XQnx5</td>\n    </tr>\n    <tr>\n      <th>3</th>\n      <td>4</td>\n      <td>Ty Dolla $ign</td>\n      <td>87</td>\n      <td>1939644</td>\n      <td>pop, pop rap, rap, trap music</td>\n      <td>7c0XG5cIJTrrAgEC3ULPiq.jpg</td>\n      <td>35</td>\n      <td>92</td>\n      <td>5</td>\n      <td>0.435626</td>\n      <td>0.503171</td>\n      <td>0.001072</td>\n      <td>1236</td>\n      <td>0.161345</td>\n      <td>0.942299</td>\n      <td>7c0XG5cIJTrrAgEC3ULPiq</td>\n    </tr>\n    <tr>\n      <th>4</th>\n      <td>5</td>\n      <td>Trey Songz</td>\n      <td>75</td>\n      <td>3256433</td>\n      <td>dance pop, indie r&amp;b, pop, pop rap, r&amp;b, south...</td>\n      <td>2iojnBLj0qIMiKPvVhLnsH.jpg</td>\n      <td>10</td>\n      <td>24</td>\n      <td>6</td>\n      <td>0.353868</td>\n      <td>0.396086</td>\n      <td>0.000030</td>\n      <td>446</td>\n      <td>0.377778</td>\n      <td>0.349635</td>\n      <td>2iojnBLj0qIMiKPvVhLnsH</td>\n    </tr>\n    <tr>\n      <th>...</th>\n      <td>...</td>\n      <td>...</td>\n      <td>...</td>\n      <td>...</td>\n      <td>...</td>\n      <td>...</td>\n      <td>...</td>\n      <td>...</td>\n      <td>...</td>\n      <td>...</td>\n      <td>...</td>\n      <td>...</td>\n      <td>...</td>\n      <td>...</td>\n      <td>...</td>\n      <td>...</td>\n    </tr>\n    <tr>\n      <th>2147</th>\n      <td>2148</td>\n      <td>Matthew Koma</td>\n      <td>61</td>\n      <td>68641</td>\n      <td>NaN</td>\n      <td>1mU61l2mcjEFraXZLpvVMo.jpg</td>\n      <td>0</td>\n      <td>0</td>\n      <td>0</td>\n      <td>0.000000</td>\n      <td>0.000000</td>\n      <td>0.000000</td>\n      <td>1907</td>\n      <td>0.000000</td>\n      <td>0.000000</td>\n      <td>1mU61l2mcjEFraXZLpvVMo</td>\n    </tr>\n    <tr>\n      <th>2148</th>\n      <td>2149</td>\n      <td>Rome of Sublime with Rome</td>\n      <td>39</td>\n      <td>93</td>\n      <td>NaN</td>\n      <td>1WkB67ly6k7EVGJoNFj9YO.jpg</td>\n      <td>0</td>\n      <td>0</td>\n      <td>0</td>\n      <td>0.000000</td>\n      <td>0.000000</td>\n      <td>0.000000</td>\n      <td>1908</td>\n      <td>0.000000</td>\n      <td>0.000000</td>\n      <td>1WkB67ly6k7EVGJoNFj9YO</td>\n    </tr>\n    <tr>\n      <th>2149</th>\n      <td>2150</td>\n      <td>Matisyahu</td>\n      <td>60</td>\n      <td>437153</td>\n      <td>reggae fusion</td>\n      <td>5eyMzR1hYiEZtN2c9ly2kw.jpg</td>\n      <td>0</td>\n      <td>0</td>\n      <td>0</td>\n      <td>0.000000</td>\n      <td>0.000000</td>\n      <td>0.000000</td>\n      <td>1909</td>\n      <td>0.000000</td>\n      <td>0.000000</td>\n      <td>5eyMzR1hYiEZtN2c9ly2kw</td>\n    </tr>\n    <tr>\n      <th>2150</th>\n      <td>2151</td>\n      <td>The Unlikely Candidates</td>\n      <td>53</td>\n      <td>29455</td>\n      <td>indie pop, indie poptimism, indie rockism, mod...</td>\n      <td>4hwJwkgsufeilLXS1ZfJqq.jpg</td>\n      <td>0</td>\n      <td>0</td>\n      <td>0</td>\n      <td>0.000000</td>\n      <td>0.000000</td>\n      <td>0.000000</td>\n      <td>1910</td>\n      <td>0.000000</td>\n      <td>0.000000</td>\n      <td>4hwJwkgsufeilLXS1ZfJqq</td>\n    </tr>\n    <tr>\n      <th>2151</th>\n      <td>2152</td>\n      <td>Maná</td>\n      <td>72</td>\n      <td>3157313</td>\n      <td>latin, latin arena pop, latin rock, mexican po...</td>\n      <td>7okwEbXzyT2VffBmyQBWLz.jpg</td>\n      <td>3</td>\n      <td>6</td>\n      <td>7</td>\n      <td>0.240272</td>\n      <td>0.265732</td>\n      <td>0.000000</td>\n      <td>417</td>\n      <td>0.666667</td>\n      <td>0.022912</td>\n      <td>7okwEbXzyT2VffBmyQBWLz</td>\n    </tr>\n  </tbody>\n</table>\n<p>2152 rows × 16 columns</p>\n</div>"
     },
     "execution_count": 1,
     "metadata": {},
     "output_type": "execute_result"
    }
   ],
   "source": [
    "import pandas as pd\n",
    "\n",
    "df_nodes = pd.read_csv(\"network/Successful Network/Original Network/nodes_original.csv\", sep=\"\\t\")\n",
    "df_nodes#[\"name\"].nunique()"
   ]
  },
  {
   "cell_type": "code",
   "execution_count": 2,
   "outputs": [
    {
     "data": {
      "text/plain": "2146"
     },
     "execution_count": 2,
     "metadata": {},
     "output_type": "execute_result"
    }
   ],
   "source": [
    "df_nodes[\"name\"].nunique()"
   ],
   "metadata": {
    "collapsed": false,
    "ExecuteTime": {
     "end_time": "2024-03-04T15:07:12.002878600Z",
     "start_time": "2024-03-04T15:07:11.970727Z"
    }
   },
   "id": "2463dfcdf0314cd4"
  },
  {
   "cell_type": "code",
   "execution_count": 3,
   "outputs": [
    {
     "data": {
      "text/plain": "     Source  Target        Type     Id  Weight                  label1  \\\n0         1      33  Undirected  23121       2  17lzZA2AlOHwCwFALHttmp   \n1         1     675  Undirected  21681       2  17lzZA2AlOHwCwFALHttmp   \n2         1    1998  Undirected  21680       2  17lzZA2AlOHwCwFALHttmp   \n3         1     223  Undirected  21337       2  17lzZA2AlOHwCwFALHttmp   \n4         1     869  Undirected  19593       2  17lzZA2AlOHwCwFALHttmp   \n..      ...     ...         ...    ...     ...                     ...   \n917    1368    1371  Undirected  15186       2  23fqKkggKUBHNkbKtXEls4   \n918    1397    1796  Undirected  19798       2  3t5xRXzsuZmMDkQzgOX35S   \n919    1397    1794  Undirected  19794       2  3t5xRXzsuZmMDkQzgOX35S   \n920    1431    1451  Undirected  15818       2  2kCcBybjl3SAtIcwdWpUe3   \n921    1940    2144  Undirected  21327       2  06HL4z0CvFAxyc27GXpf02   \n\n                     label2         name1         name2  id_track  \\\n0    0hCNtLu0JehylgoiP8L4Gh      2 Chainz   Nicki Minaj     10571   \n1    1sBkRIssrMs1AbVkOJbc7a      2 Chainz     Rick Ross      9547   \n2    0NbfKEOTQCcwd6o7wSDOHI      2 Chainz      The Game      9547   \n3    5ndkK3dpZLKtBklKjxNQwT      2 Chainz         B.o.B      9288   \n4    1pPmIToKXyGdsCF6LmqLmI      2 Chainz  Rich The Kid      8202   \n..                      ...           ...           ...       ...   \n917  5Pwc4xIPtQLFEnJriah9YJ          Kygo   OneRepublic      5673   \n918  7KMqksf0UMdyA0UCf4R3ux  Robin Schulz   James Blunt      8301   \n919  4bw2Am3p9ji3mYsXNXtQcd  Robin Schulz       Piso 21      8299   \n920  64KEffDW9EtZ1y2vBYgq8T      Lil Peep    Marshmello      5996   \n921  5ZsFI1h6hIdQRw2ti0hz81  Taylor Swift          ZAYN      9281   \n\n                label_track  \\\n0    2RM4jf1Xa9zPgMGRDiht8O   \n1    0LFcFGLYTX6UmeIdO7NVd7   \n2    0LFcFGLYTX6UmeIdO7NVd7   \n3    0kIHfcHGFGm5xb0dSlKEdp   \n4    1vnsGFNWNANWMg0CAeMkl2   \n..                      ...   \n917  4sJqSKPc5fZ5OZ8JiVI44N   \n918  32y9LSjv2Q49T3NnkETXCm   \n919  2xw9PXlt8IaCWZjfpJ2HPL   \n920  6VrCmhRBFnuGKmtNfk4jDs   \n921  2y5aJvzXhHPA94U5GFAcXe   \n\n                                                 title  explicit  popularity  \\\n0       Big Bank feat. 2 Chainz, Big Sean, Nicki Minaj      True          85   \n1                                           Ali Bomaye      True          63   \n2                                           Ali Bomaye      True          63   \n3                                        Hood Go Crazy      True          64   \n4    Plug Walk (feat. Gucci Mane, YG, 2Chainz) - Remix      True          78   \n..                                                 ...       ...         ...   \n917                                    Stranger Things     False          74   \n918                                                 OK     False          70   \n919                                           Oh Child     False          81   \n920                                          Spotlight     False          78   \n921   I Don’t Wanna Live Forever (Fifty Shades Darker)     False          76   \n\n    release_date release_date_precision  \n0     25/05/2018                    day  \n1     11/12/2012                    day  \n2     11/12/2012                    day  \n3     04/05/2015                    day  \n4     20/06/2018                    day  \n..           ...                    ...  \n917   03/11/2017                    day  \n918   29/09/2017                    day  \n919   22/06/2018                    day  \n920   12/01/2018                    day  \n921   10/02/2017                    day  \n\n[922 rows x 16 columns]",
      "text/html": "<div>\n<style scoped>\n    .dataframe tbody tr th:only-of-type {\n        vertical-align: middle;\n    }\n\n    .dataframe tbody tr th {\n        vertical-align: top;\n    }\n\n    .dataframe thead th {\n        text-align: right;\n    }\n</style>\n<table border=\"1\" class=\"dataframe\">\n  <thead>\n    <tr style=\"text-align: right;\">\n      <th></th>\n      <th>Source</th>\n      <th>Target</th>\n      <th>Type</th>\n      <th>Id</th>\n      <th>Weight</th>\n      <th>label1</th>\n      <th>label2</th>\n      <th>name1</th>\n      <th>name2</th>\n      <th>id_track</th>\n      <th>label_track</th>\n      <th>title</th>\n      <th>explicit</th>\n      <th>popularity</th>\n      <th>release_date</th>\n      <th>release_date_precision</th>\n    </tr>\n  </thead>\n  <tbody>\n    <tr>\n      <th>0</th>\n      <td>1</td>\n      <td>33</td>\n      <td>Undirected</td>\n      <td>23121</td>\n      <td>2</td>\n      <td>17lzZA2AlOHwCwFALHttmp</td>\n      <td>0hCNtLu0JehylgoiP8L4Gh</td>\n      <td>2 Chainz</td>\n      <td>Nicki Minaj</td>\n      <td>10571</td>\n      <td>2RM4jf1Xa9zPgMGRDiht8O</td>\n      <td>Big Bank feat. 2 Chainz, Big Sean, Nicki Minaj</td>\n      <td>True</td>\n      <td>85</td>\n      <td>25/05/2018</td>\n      <td>day</td>\n    </tr>\n    <tr>\n      <th>1</th>\n      <td>1</td>\n      <td>675</td>\n      <td>Undirected</td>\n      <td>21681</td>\n      <td>2</td>\n      <td>17lzZA2AlOHwCwFALHttmp</td>\n      <td>1sBkRIssrMs1AbVkOJbc7a</td>\n      <td>2 Chainz</td>\n      <td>Rick Ross</td>\n      <td>9547</td>\n      <td>0LFcFGLYTX6UmeIdO7NVd7</td>\n      <td>Ali Bomaye</td>\n      <td>True</td>\n      <td>63</td>\n      <td>11/12/2012</td>\n      <td>day</td>\n    </tr>\n    <tr>\n      <th>2</th>\n      <td>1</td>\n      <td>1998</td>\n      <td>Undirected</td>\n      <td>21680</td>\n      <td>2</td>\n      <td>17lzZA2AlOHwCwFALHttmp</td>\n      <td>0NbfKEOTQCcwd6o7wSDOHI</td>\n      <td>2 Chainz</td>\n      <td>The Game</td>\n      <td>9547</td>\n      <td>0LFcFGLYTX6UmeIdO7NVd7</td>\n      <td>Ali Bomaye</td>\n      <td>True</td>\n      <td>63</td>\n      <td>11/12/2012</td>\n      <td>day</td>\n    </tr>\n    <tr>\n      <th>3</th>\n      <td>1</td>\n      <td>223</td>\n      <td>Undirected</td>\n      <td>21337</td>\n      <td>2</td>\n      <td>17lzZA2AlOHwCwFALHttmp</td>\n      <td>5ndkK3dpZLKtBklKjxNQwT</td>\n      <td>2 Chainz</td>\n      <td>B.o.B</td>\n      <td>9288</td>\n      <td>0kIHfcHGFGm5xb0dSlKEdp</td>\n      <td>Hood Go Crazy</td>\n      <td>True</td>\n      <td>64</td>\n      <td>04/05/2015</td>\n      <td>day</td>\n    </tr>\n    <tr>\n      <th>4</th>\n      <td>1</td>\n      <td>869</td>\n      <td>Undirected</td>\n      <td>19593</td>\n      <td>2</td>\n      <td>17lzZA2AlOHwCwFALHttmp</td>\n      <td>1pPmIToKXyGdsCF6LmqLmI</td>\n      <td>2 Chainz</td>\n      <td>Rich The Kid</td>\n      <td>8202</td>\n      <td>1vnsGFNWNANWMg0CAeMkl2</td>\n      <td>Plug Walk (feat. Gucci Mane, YG, 2Chainz) - Remix</td>\n      <td>True</td>\n      <td>78</td>\n      <td>20/06/2018</td>\n      <td>day</td>\n    </tr>\n    <tr>\n      <th>...</th>\n      <td>...</td>\n      <td>...</td>\n      <td>...</td>\n      <td>...</td>\n      <td>...</td>\n      <td>...</td>\n      <td>...</td>\n      <td>...</td>\n      <td>...</td>\n      <td>...</td>\n      <td>...</td>\n      <td>...</td>\n      <td>...</td>\n      <td>...</td>\n      <td>...</td>\n      <td>...</td>\n    </tr>\n    <tr>\n      <th>917</th>\n      <td>1368</td>\n      <td>1371</td>\n      <td>Undirected</td>\n      <td>15186</td>\n      <td>2</td>\n      <td>23fqKkggKUBHNkbKtXEls4</td>\n      <td>5Pwc4xIPtQLFEnJriah9YJ</td>\n      <td>Kygo</td>\n      <td>OneRepublic</td>\n      <td>5673</td>\n      <td>4sJqSKPc5fZ5OZ8JiVI44N</td>\n      <td>Stranger Things</td>\n      <td>False</td>\n      <td>74</td>\n      <td>03/11/2017</td>\n      <td>day</td>\n    </tr>\n    <tr>\n      <th>918</th>\n      <td>1397</td>\n      <td>1796</td>\n      <td>Undirected</td>\n      <td>19798</td>\n      <td>2</td>\n      <td>3t5xRXzsuZmMDkQzgOX35S</td>\n      <td>7KMqksf0UMdyA0UCf4R3ux</td>\n      <td>Robin Schulz</td>\n      <td>James Blunt</td>\n      <td>8301</td>\n      <td>32y9LSjv2Q49T3NnkETXCm</td>\n      <td>OK</td>\n      <td>False</td>\n      <td>70</td>\n      <td>29/09/2017</td>\n      <td>day</td>\n    </tr>\n    <tr>\n      <th>919</th>\n      <td>1397</td>\n      <td>1794</td>\n      <td>Undirected</td>\n      <td>19794</td>\n      <td>2</td>\n      <td>3t5xRXzsuZmMDkQzgOX35S</td>\n      <td>4bw2Am3p9ji3mYsXNXtQcd</td>\n      <td>Robin Schulz</td>\n      <td>Piso 21</td>\n      <td>8299</td>\n      <td>2xw9PXlt8IaCWZjfpJ2HPL</td>\n      <td>Oh Child</td>\n      <td>False</td>\n      <td>81</td>\n      <td>22/06/2018</td>\n      <td>day</td>\n    </tr>\n    <tr>\n      <th>920</th>\n      <td>1431</td>\n      <td>1451</td>\n      <td>Undirected</td>\n      <td>15818</td>\n      <td>2</td>\n      <td>2kCcBybjl3SAtIcwdWpUe3</td>\n      <td>64KEffDW9EtZ1y2vBYgq8T</td>\n      <td>Lil Peep</td>\n      <td>Marshmello</td>\n      <td>5996</td>\n      <td>6VrCmhRBFnuGKmtNfk4jDs</td>\n      <td>Spotlight</td>\n      <td>False</td>\n      <td>78</td>\n      <td>12/01/2018</td>\n      <td>day</td>\n    </tr>\n    <tr>\n      <th>921</th>\n      <td>1940</td>\n      <td>2144</td>\n      <td>Undirected</td>\n      <td>21327</td>\n      <td>2</td>\n      <td>06HL4z0CvFAxyc27GXpf02</td>\n      <td>5ZsFI1h6hIdQRw2ti0hz81</td>\n      <td>Taylor Swift</td>\n      <td>ZAYN</td>\n      <td>9281</td>\n      <td>2y5aJvzXhHPA94U5GFAcXe</td>\n      <td>I Don’t Wanna Live Forever (Fifty Shades Darker)</td>\n      <td>False</td>\n      <td>76</td>\n      <td>10/02/2017</td>\n      <td>day</td>\n    </tr>\n  </tbody>\n</table>\n<p>922 rows × 16 columns</p>\n</div>"
     },
     "execution_count": 3,
     "metadata": {},
     "output_type": "execute_result"
    }
   ],
   "source": [
    "df_edges = pd.read_csv(\"network/Successful Network/Original Network/edgelist_original.csv\", sep=\"\\t\")\n",
    "df_edges"
   ],
   "metadata": {
    "collapsed": false,
    "ExecuteTime": {
     "end_time": "2024-03-04T15:07:12.118465700Z",
     "start_time": "2024-03-04T15:07:11.987726600Z"
    }
   },
   "id": "94fe8f3d6bd25095"
  },
  {
   "cell_type": "code",
   "execution_count": 4,
   "outputs": [
    {
     "data": {
      "text/plain": "922"
     },
     "execution_count": 4,
     "metadata": {},
     "output_type": "execute_result"
    }
   ],
   "source": [
    "df_edges[\"Id\"].nunique()"
   ],
   "metadata": {
    "collapsed": false,
    "ExecuteTime": {
     "end_time": "2024-03-04T15:07:12.136994700Z",
     "start_time": "2024-03-04T15:07:12.034191900Z"
    }
   },
   "id": "2dd428a5d23fef1f"
  },
  {
   "cell_type": "code",
   "execution_count": 5,
   "outputs": [
    {
     "data": {
      "text/plain": "              date                       title  \\\n0       2018-08-25              In My Feelings   \n1       2018-08-25              Girls Like You   \n2       2018-08-25                   I Like It   \n3       2018-08-25                        FEFE   \n4       2018-08-25                  Better Now   \n...            ...                         ...   \n313395  1958-08-11            Down In Virginia   \n313396  1958-08-11             Sunday Barbecue   \n313397  1958-08-11             Gotta Have Rain   \n313398  1958-08-11        Nothing In The World   \n313399  1958-08-11  Baubles, Bangles And Beads   \n\n                                             artist  peakPos  lastPos  weeks  \\\n0                                             Drake        1        1      7   \n1                        Maroon 5 Featuring Cardi B        2        2     12   \n2                     Cardi B, Bad Bunny & J Balvin        1        3     19   \n3       6ix9ine Featuring Nicki Minaj & Murda Beatz        3        5      4   \n4                                       Post Malone        5        6     16   \n...                                             ...      ...      ...    ...   \n313395                                   Jimmy Reed       96        0      0   \n313396                         Tennessee Ernie Ford       97        0      0   \n313397                                  Eydie Gorme       74       74      2   \n313398                                Nat King Cole       99        0      0   \n313399                         The Kirby Stone Four       50       50      2   \n\n        rank  \n0          1  \n1          2  \n2          3  \n3          4  \n4          5  \n...      ...  \n313395    96  \n313396    97  \n313397    98  \n313398    99  \n313399   100  \n\n[313400 rows x 7 columns]",
      "text/html": "<div>\n<style scoped>\n    .dataframe tbody tr th:only-of-type {\n        vertical-align: middle;\n    }\n\n    .dataframe tbody tr th {\n        vertical-align: top;\n    }\n\n    .dataframe thead th {\n        text-align: right;\n    }\n</style>\n<table border=\"1\" class=\"dataframe\">\n  <thead>\n    <tr style=\"text-align: right;\">\n      <th></th>\n      <th>date</th>\n      <th>title</th>\n      <th>artist</th>\n      <th>peakPos</th>\n      <th>lastPos</th>\n      <th>weeks</th>\n      <th>rank</th>\n    </tr>\n  </thead>\n  <tbody>\n    <tr>\n      <th>0</th>\n      <td>2018-08-25</td>\n      <td>In My Feelings</td>\n      <td>Drake</td>\n      <td>1</td>\n      <td>1</td>\n      <td>7</td>\n      <td>1</td>\n    </tr>\n    <tr>\n      <th>1</th>\n      <td>2018-08-25</td>\n      <td>Girls Like You</td>\n      <td>Maroon 5 Featuring Cardi B</td>\n      <td>2</td>\n      <td>2</td>\n      <td>12</td>\n      <td>2</td>\n    </tr>\n    <tr>\n      <th>2</th>\n      <td>2018-08-25</td>\n      <td>I Like It</td>\n      <td>Cardi B, Bad Bunny &amp; J Balvin</td>\n      <td>1</td>\n      <td>3</td>\n      <td>19</td>\n      <td>3</td>\n    </tr>\n    <tr>\n      <th>3</th>\n      <td>2018-08-25</td>\n      <td>FEFE</td>\n      <td>6ix9ine Featuring Nicki Minaj &amp; Murda Beatz</td>\n      <td>3</td>\n      <td>5</td>\n      <td>4</td>\n      <td>4</td>\n    </tr>\n    <tr>\n      <th>4</th>\n      <td>2018-08-25</td>\n      <td>Better Now</td>\n      <td>Post Malone</td>\n      <td>5</td>\n      <td>6</td>\n      <td>16</td>\n      <td>5</td>\n    </tr>\n    <tr>\n      <th>...</th>\n      <td>...</td>\n      <td>...</td>\n      <td>...</td>\n      <td>...</td>\n      <td>...</td>\n      <td>...</td>\n      <td>...</td>\n    </tr>\n    <tr>\n      <th>313395</th>\n      <td>1958-08-11</td>\n      <td>Down In Virginia</td>\n      <td>Jimmy Reed</td>\n      <td>96</td>\n      <td>0</td>\n      <td>0</td>\n      <td>96</td>\n    </tr>\n    <tr>\n      <th>313396</th>\n      <td>1958-08-11</td>\n      <td>Sunday Barbecue</td>\n      <td>Tennessee Ernie Ford</td>\n      <td>97</td>\n      <td>0</td>\n      <td>0</td>\n      <td>97</td>\n    </tr>\n    <tr>\n      <th>313397</th>\n      <td>1958-08-11</td>\n      <td>Gotta Have Rain</td>\n      <td>Eydie Gorme</td>\n      <td>74</td>\n      <td>74</td>\n      <td>2</td>\n      <td>98</td>\n    </tr>\n    <tr>\n      <th>313398</th>\n      <td>1958-08-11</td>\n      <td>Nothing In The World</td>\n      <td>Nat King Cole</td>\n      <td>99</td>\n      <td>0</td>\n      <td>0</td>\n      <td>99</td>\n    </tr>\n    <tr>\n      <th>313399</th>\n      <td>1958-08-11</td>\n      <td>Baubles, Bangles And Beads</td>\n      <td>The Kirby Stone Four</td>\n      <td>50</td>\n      <td>50</td>\n      <td>2</td>\n      <td>100</td>\n    </tr>\n  </tbody>\n</table>\n<p>313400 rows × 7 columns</p>\n</div>"
     },
     "execution_count": 5,
     "metadata": {},
     "output_type": "execute_result"
    }
   ],
   "source": [
    "df_songs = pd.read_csv(\"billboard/Billboard Charts/hot100.csv\", sep=\"\\t\")\n",
    "df_songs"
   ],
   "metadata": {
    "collapsed": false,
    "ExecuteTime": {
     "end_time": "2024-03-04T15:07:12.357993900Z",
     "start_time": "2024-03-04T15:07:12.049031200Z"
    }
   },
   "id": "30b039694bba5c1f"
  },
  {
   "cell_type": "code",
   "execution_count": 6,
   "outputs": [
    {
     "data": {
      "text/plain": "             date            artist  peakPos  lastPos  weeks  rank\n0      2018-07-28             Drake        1        1    212     1\n1      2018-07-28       Post Malone        1        2    108     2\n2      2018-07-28   Imagine Dragons        1        5    180     3\n3      2018-07-28     Ariana Grande        1       12    180     4\n4      2018-07-28           Cardi B        1        6     53     5\n...           ...               ...      ...      ...    ...   ...\n21095  2014-07-26        Jhene Aiko       78       78      2    96\n21096  2014-07-26  Carrie Underwood       89       89      2    97\n21097  2014-07-26      Idina Menzel       92       92      2    98\n21098  2014-07-26   Christina Perri       99       99      2    99\n21099  2014-07-26        Tim McGraw       97       97      2   100\n\n[21100 rows x 6 columns]",
      "text/html": "<div>\n<style scoped>\n    .dataframe tbody tr th:only-of-type {\n        vertical-align: middle;\n    }\n\n    .dataframe tbody tr th {\n        vertical-align: top;\n    }\n\n    .dataframe thead th {\n        text-align: right;\n    }\n</style>\n<table border=\"1\" class=\"dataframe\">\n  <thead>\n    <tr style=\"text-align: right;\">\n      <th></th>\n      <th>date</th>\n      <th>artist</th>\n      <th>peakPos</th>\n      <th>lastPos</th>\n      <th>weeks</th>\n      <th>rank</th>\n    </tr>\n  </thead>\n  <tbody>\n    <tr>\n      <th>0</th>\n      <td>2018-07-28</td>\n      <td>Drake</td>\n      <td>1</td>\n      <td>1</td>\n      <td>212</td>\n      <td>1</td>\n    </tr>\n    <tr>\n      <th>1</th>\n      <td>2018-07-28</td>\n      <td>Post Malone</td>\n      <td>1</td>\n      <td>2</td>\n      <td>108</td>\n      <td>2</td>\n    </tr>\n    <tr>\n      <th>2</th>\n      <td>2018-07-28</td>\n      <td>Imagine Dragons</td>\n      <td>1</td>\n      <td>5</td>\n      <td>180</td>\n      <td>3</td>\n    </tr>\n    <tr>\n      <th>3</th>\n      <td>2018-07-28</td>\n      <td>Ariana Grande</td>\n      <td>1</td>\n      <td>12</td>\n      <td>180</td>\n      <td>4</td>\n    </tr>\n    <tr>\n      <th>4</th>\n      <td>2018-07-28</td>\n      <td>Cardi B</td>\n      <td>1</td>\n      <td>6</td>\n      <td>53</td>\n      <td>5</td>\n    </tr>\n    <tr>\n      <th>...</th>\n      <td>...</td>\n      <td>...</td>\n      <td>...</td>\n      <td>...</td>\n      <td>...</td>\n      <td>...</td>\n    </tr>\n    <tr>\n      <th>21095</th>\n      <td>2014-07-26</td>\n      <td>Jhene Aiko</td>\n      <td>78</td>\n      <td>78</td>\n      <td>2</td>\n      <td>96</td>\n    </tr>\n    <tr>\n      <th>21096</th>\n      <td>2014-07-26</td>\n      <td>Carrie Underwood</td>\n      <td>89</td>\n      <td>89</td>\n      <td>2</td>\n      <td>97</td>\n    </tr>\n    <tr>\n      <th>21097</th>\n      <td>2014-07-26</td>\n      <td>Idina Menzel</td>\n      <td>92</td>\n      <td>92</td>\n      <td>2</td>\n      <td>98</td>\n    </tr>\n    <tr>\n      <th>21098</th>\n      <td>2014-07-26</td>\n      <td>Christina Perri</td>\n      <td>99</td>\n      <td>99</td>\n      <td>2</td>\n      <td>99</td>\n    </tr>\n    <tr>\n      <th>21099</th>\n      <td>2014-07-26</td>\n      <td>Tim McGraw</td>\n      <td>97</td>\n      <td>97</td>\n      <td>2</td>\n      <td>100</td>\n    </tr>\n  </tbody>\n</table>\n<p>21100 rows × 6 columns</p>\n</div>"
     },
     "execution_count": 6,
     "metadata": {},
     "output_type": "execute_result"
    }
   ],
   "source": [
    "df_artists = pd.read_csv(\"billboard/Billboard Charts/top100_artists.csv\", sep=\"\\t\")\n",
    "df_artists"
   ],
   "metadata": {
    "collapsed": false,
    "ExecuteTime": {
     "end_time": "2024-03-04T15:07:12.360991800Z",
     "start_time": "2024-03-04T15:07:12.314993300Z"
    }
   },
   "id": "ad04f4f6ee4940c4"
  },
  {
   "cell_type": "code",
   "execution_count": 7,
   "outputs": [
    {
     "data": {
      "text/plain": "1134"
     },
     "execution_count": 7,
     "metadata": {},
     "output_type": "execute_result"
    }
   ],
   "source": [
    "df_artists[\"artist\"].nunique()"
   ],
   "metadata": {
    "collapsed": false,
    "ExecuteTime": {
     "end_time": "2024-03-04T15:07:12.426994400Z",
     "start_time": "2024-03-04T15:07:12.361994400Z"
    }
   },
   "id": "bfe94e5fd9a21f3c"
  },
  {
   "cell_type": "markdown",
   "source": [
    "artist Daten stimmen nicht überein"
   ],
   "metadata": {
    "collapsed": false
   },
   "id": "bce0e76bd10caa6d"
  },
  {
   "cell_type": "code",
   "execution_count": 11,
   "outputs": [
    {
     "data": {
      "text/plain": "1042"
     },
     "execution_count": 11,
     "metadata": {},
     "output_type": "execute_result"
    }
   ],
   "source": [
    "df_artists.rename(columns={'artist': 'name'}, inplace=True)\n",
    "df_all_artists = pd.merge(df_artists, df_nodes)\n",
    "df_all_artists[\"Spotify ID\"].nunique()"
   ],
   "metadata": {
    "collapsed": false,
    "ExecuteTime": {
     "end_time": "2024-03-04T15:08:03.761962700Z",
     "start_time": "2024-03-04T15:08:03.709964400Z"
    }
   },
   "id": "573292d9336744e2"
  },
  {
   "cell_type": "code",
   "execution_count": 9,
   "outputs": [
    {
     "data": {
      "text/plain": "255"
     },
     "execution_count": 9,
     "metadata": {},
     "output_type": "execute_result"
    }
   ],
   "source": [
    "df_all_songs = pd.merge(df_songs[\"title\"], df_edges)\n",
    "df_all_songs[\"Id\"].nunique()"
   ],
   "metadata": {
    "collapsed": false,
    "ExecuteTime": {
     "end_time": "2024-03-04T15:07:12.603992500Z",
     "start_time": "2024-03-04T15:07:12.433997700Z"
    }
   },
   "id": "268d5032742b466e"
  },
  {
   "cell_type": "markdown",
   "source": [
    "Folglich sind die Daten aus Billboard nicht die richtigen Originaldaten"
   ],
   "metadata": {
    "collapsed": false
   },
   "id": "a7a7b4607c6a3637"
  }
 ],
 "metadata": {
  "kernelspec": {
   "display_name": "Python 3",
   "language": "python",
   "name": "python3"
  },
  "language_info": {
   "codemirror_mode": {
    "name": "ipython",
    "version": 2
   },
   "file_extension": ".py",
   "mimetype": "text/x-python",
   "name": "python",
   "nbconvert_exporter": "python",
   "pygments_lexer": "ipython2",
   "version": "2.7.6"
  }
 },
 "nbformat": 4,
 "nbformat_minor": 5
}
