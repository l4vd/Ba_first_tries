{
 "cells": [
  {
   "cell_type": "code",
   "execution_count": 1,
   "id": "27e41bc4046bf1a6",
   "metadata": {
    "collapsed": false,
    "ExecuteTime": {
     "end_time": "2024-03-01T12:18:41.245077100Z",
     "start_time": "2024-03-01T12:18:40.616075700Z"
    }
   },
   "outputs": [
    {
     "data": {
      "text/plain": "        Id                       name  popularity  followers  \\\n0        1                   2 Chainz          83    3141364   \n1        2                      Drake         100   23732186   \n2        3                      Quavo          84    1819632   \n3        4              Ty Dolla $ign          87    1939644   \n4        5                 Trey Songz          75    3256433   \n...    ...                        ...         ...        ...   \n2147  2148               Matthew Koma          61      68641   \n2148  2149  Rome of Sublime with Rome          39         93   \n2149  2150                  Matisyahu          60     437153   \n2150  2151    The Unlikely Candidates          53      29455   \n2151  2152                       Maná          72    3157313   \n\n                                                 genres  \\\n0     hip hop, pop, pop rap, rap, southern hip hop, ...   \n1     canadian hip hop, canadian pop, hip hop, pop r...   \n2                                                   NaN   \n3                         pop, pop rap, rap, trap music   \n4     dance pop, indie r&b, pop, pop rap, r&b, south...   \n...                                                 ...   \n2147                                                NaN   \n2148                                                NaN   \n2149                                      reggae fusion   \n2150  indie pop, indie poptimism, indie rockism, mod...   \n2151  latin, latin arena pop, latin rock, mexican po...   \n\n                           image              Spotify ID  \n0     17lzZA2AlOHwCwFALHttmp.jpg  17lzZA2AlOHwCwFALHttmp  \n1     3TVXtAsR1Inumwj472S9r4.jpg  3TVXtAsR1Inumwj472S9r4  \n2     0VRj0yCOv2FXJNP47XQnx5.jpg  0VRj0yCOv2FXJNP47XQnx5  \n3     7c0XG5cIJTrrAgEC3ULPiq.jpg  7c0XG5cIJTrrAgEC3ULPiq  \n4     2iojnBLj0qIMiKPvVhLnsH.jpg  2iojnBLj0qIMiKPvVhLnsH  \n...                          ...                     ...  \n2147  1mU61l2mcjEFraXZLpvVMo.jpg  1mU61l2mcjEFraXZLpvVMo  \n2148  1WkB67ly6k7EVGJoNFj9YO.jpg  1WkB67ly6k7EVGJoNFj9YO  \n2149  5eyMzR1hYiEZtN2c9ly2kw.jpg  5eyMzR1hYiEZtN2c9ly2kw  \n2150  4hwJwkgsufeilLXS1ZfJqq.jpg  4hwJwkgsufeilLXS1ZfJqq  \n2151  7okwEbXzyT2VffBmyQBWLz.jpg  7okwEbXzyT2VffBmyQBWLz  \n\n[2152 rows x 7 columns]",
      "text/html": "<div>\n<style scoped>\n    .dataframe tbody tr th:only-of-type {\n        vertical-align: middle;\n    }\n\n    .dataframe tbody tr th {\n        vertical-align: top;\n    }\n\n    .dataframe thead th {\n        text-align: right;\n    }\n</style>\n<table border=\"1\" class=\"dataframe\">\n  <thead>\n    <tr style=\"text-align: right;\">\n      <th></th>\n      <th>Id</th>\n      <th>name</th>\n      <th>popularity</th>\n      <th>followers</th>\n      <th>genres</th>\n      <th>image</th>\n      <th>Spotify ID</th>\n    </tr>\n  </thead>\n  <tbody>\n    <tr>\n      <th>0</th>\n      <td>1</td>\n      <td>2 Chainz</td>\n      <td>83</td>\n      <td>3141364</td>\n      <td>hip hop, pop, pop rap, rap, southern hip hop, ...</td>\n      <td>17lzZA2AlOHwCwFALHttmp.jpg</td>\n      <td>17lzZA2AlOHwCwFALHttmp</td>\n    </tr>\n    <tr>\n      <th>1</th>\n      <td>2</td>\n      <td>Drake</td>\n      <td>100</td>\n      <td>23732186</td>\n      <td>canadian hip hop, canadian pop, hip hop, pop r...</td>\n      <td>3TVXtAsR1Inumwj472S9r4.jpg</td>\n      <td>3TVXtAsR1Inumwj472S9r4</td>\n    </tr>\n    <tr>\n      <th>2</th>\n      <td>3</td>\n      <td>Quavo</td>\n      <td>84</td>\n      <td>1819632</td>\n      <td>NaN</td>\n      <td>0VRj0yCOv2FXJNP47XQnx5.jpg</td>\n      <td>0VRj0yCOv2FXJNP47XQnx5</td>\n    </tr>\n    <tr>\n      <th>3</th>\n      <td>4</td>\n      <td>Ty Dolla $ign</td>\n      <td>87</td>\n      <td>1939644</td>\n      <td>pop, pop rap, rap, trap music</td>\n      <td>7c0XG5cIJTrrAgEC3ULPiq.jpg</td>\n      <td>7c0XG5cIJTrrAgEC3ULPiq</td>\n    </tr>\n    <tr>\n      <th>4</th>\n      <td>5</td>\n      <td>Trey Songz</td>\n      <td>75</td>\n      <td>3256433</td>\n      <td>dance pop, indie r&amp;b, pop, pop rap, r&amp;b, south...</td>\n      <td>2iojnBLj0qIMiKPvVhLnsH.jpg</td>\n      <td>2iojnBLj0qIMiKPvVhLnsH</td>\n    </tr>\n    <tr>\n      <th>...</th>\n      <td>...</td>\n      <td>...</td>\n      <td>...</td>\n      <td>...</td>\n      <td>...</td>\n      <td>...</td>\n      <td>...</td>\n    </tr>\n    <tr>\n      <th>2147</th>\n      <td>2148</td>\n      <td>Matthew Koma</td>\n      <td>61</td>\n      <td>68641</td>\n      <td>NaN</td>\n      <td>1mU61l2mcjEFraXZLpvVMo.jpg</td>\n      <td>1mU61l2mcjEFraXZLpvVMo</td>\n    </tr>\n    <tr>\n      <th>2148</th>\n      <td>2149</td>\n      <td>Rome of Sublime with Rome</td>\n      <td>39</td>\n      <td>93</td>\n      <td>NaN</td>\n      <td>1WkB67ly6k7EVGJoNFj9YO.jpg</td>\n      <td>1WkB67ly6k7EVGJoNFj9YO</td>\n    </tr>\n    <tr>\n      <th>2149</th>\n      <td>2150</td>\n      <td>Matisyahu</td>\n      <td>60</td>\n      <td>437153</td>\n      <td>reggae fusion</td>\n      <td>5eyMzR1hYiEZtN2c9ly2kw.jpg</td>\n      <td>5eyMzR1hYiEZtN2c9ly2kw</td>\n    </tr>\n    <tr>\n      <th>2150</th>\n      <td>2151</td>\n      <td>The Unlikely Candidates</td>\n      <td>53</td>\n      <td>29455</td>\n      <td>indie pop, indie poptimism, indie rockism, mod...</td>\n      <td>4hwJwkgsufeilLXS1ZfJqq.jpg</td>\n      <td>4hwJwkgsufeilLXS1ZfJqq</td>\n    </tr>\n    <tr>\n      <th>2151</th>\n      <td>2152</td>\n      <td>Maná</td>\n      <td>72</td>\n      <td>3157313</td>\n      <td>latin, latin arena pop, latin rock, mexican po...</td>\n      <td>7okwEbXzyT2VffBmyQBWLz.jpg</td>\n      <td>7okwEbXzyT2VffBmyQBWLz</td>\n    </tr>\n  </tbody>\n</table>\n<p>2152 rows × 7 columns</p>\n</div>"
     },
     "execution_count": 1,
     "metadata": {},
     "output_type": "execute_result"
    }
   ],
   "source": [
    "import pandas as pd\n",
    "\n",
    "df_artists = pd.read_csv(\"Artists.csv\", sep=\",\")\n",
    "df_artists"
   ]
  },
  {
   "cell_type": "code",
   "execution_count": 2,
   "id": "4b17ec5f366b6080",
   "metadata": {
    "collapsed": false,
    "ExecuteTime": {
     "end_time": "2024-03-01T12:18:41.284079100Z",
     "start_time": "2024-03-01T12:18:41.245077100Z"
    }
   },
   "outputs": [
    {
     "data": {
      "text/plain": "2146"
     },
     "execution_count": 2,
     "metadata": {},
     "output_type": "execute_result"
    }
   ],
   "source": [
    "df_artists[\"name\"].nunique()"
   ]
  },
  {
   "cell_type": "code",
   "execution_count": 3,
   "id": "9a48d4f50aab85ee",
   "metadata": {
    "collapsed": false,
    "ExecuteTime": {
     "end_time": "2024-03-01T12:18:41.309077900Z",
     "start_time": "2024-03-01T12:18:41.260079100Z"
    }
   },
   "outputs": [
    {
     "data": {
      "text/plain": "   Id      name  popularity  followers  \\\n0   1  2 Chainz          83    3141364   \n\n                                              genres  \\\n0  hip hop, pop, pop rap, rap, southern hip hop, ...   \n\n                        image              Spotify ID  \n0  17lzZA2AlOHwCwFALHttmp.jpg  17lzZA2AlOHwCwFALHttmp  ",
      "text/html": "<div>\n<style scoped>\n    .dataframe tbody tr th:only-of-type {\n        vertical-align: middle;\n    }\n\n    .dataframe tbody tr th {\n        vertical-align: top;\n    }\n\n    .dataframe thead th {\n        text-align: right;\n    }\n</style>\n<table border=\"1\" class=\"dataframe\">\n  <thead>\n    <tr style=\"text-align: right;\">\n      <th></th>\n      <th>Id</th>\n      <th>name</th>\n      <th>popularity</th>\n      <th>followers</th>\n      <th>genres</th>\n      <th>image</th>\n      <th>Spotify ID</th>\n    </tr>\n  </thead>\n  <tbody>\n    <tr>\n      <th>0</th>\n      <td>1</td>\n      <td>2 Chainz</td>\n      <td>83</td>\n      <td>3141364</td>\n      <td>hip hop, pop, pop rap, rap, southern hip hop, ...</td>\n      <td>17lzZA2AlOHwCwFALHttmp.jpg</td>\n      <td>17lzZA2AlOHwCwFALHttmp</td>\n    </tr>\n  </tbody>\n</table>\n</div>"
     },
     "execution_count": 3,
     "metadata": {},
     "output_type": "execute_result"
    }
   ],
   "source": [
    "df_artists[(df_artists[\"Spotify ID\"] == \"17lzZA2AlOHwCwFALHttmp\")]"
   ]
  },
  {
   "cell_type": "code",
   "execution_count": 4,
   "id": "f6b5b8a0b193eeea",
   "metadata": {
    "collapsed": false,
    "ExecuteTime": {
     "end_time": "2024-03-01T12:18:41.390077900Z",
     "start_time": "2024-03-01T12:18:41.277076800Z"
    }
   },
   "outputs": [
    {
     "data": {
      "text/plain": "      Source  Target        Type     Id  Weight                  label1  \\\n0          1      33  Undirected  23121       2  17lzZA2AlOHwCwFALHttmp   \n1          1     675  Undirected  21681       2  17lzZA2AlOHwCwFALHttmp   \n2          1    1998  Undirected  21680       2  17lzZA2AlOHwCwFALHttmp   \n3          1     223  Undirected  21337       2  17lzZA2AlOHwCwFALHttmp   \n4          1     869  Undirected  19593       2  17lzZA2AlOHwCwFALHttmp   \n...      ...     ...         ...    ...     ...                     ...   \n1154    1368    1371  Undirected  15186       2  23fqKkggKUBHNkbKtXEls4   \n1155    1397    1796  Undirected  19798       2  3t5xRXzsuZmMDkQzgOX35S   \n1156    1397    1794  Undirected  19794       2  3t5xRXzsuZmMDkQzgOX35S   \n1157    1431    1451  Undirected  15818       2  2kCcBybjl3SAtIcwdWpUe3   \n1158    1940    2144  Undirected  21327       2  06HL4z0CvFAxyc27GXpf02   \n\n                      label2         name1         name2  id_track  \\\n0     0hCNtLu0JehylgoiP8L4Gh      2 Chainz   Nicki Minaj     10571   \n1     1sBkRIssrMs1AbVkOJbc7a      2 Chainz     Rick Ross      9547   \n2     0NbfKEOTQCcwd6o7wSDOHI      2 Chainz      The Game      9547   \n3     5ndkK3dpZLKtBklKjxNQwT      2 Chainz         B.o.B      9288   \n4     1pPmIToKXyGdsCF6LmqLmI      2 Chainz  Rich The Kid      8202   \n...                      ...           ...           ...       ...   \n1154  5Pwc4xIPtQLFEnJriah9YJ          Kygo   OneRepublic      5673   \n1155  7KMqksf0UMdyA0UCf4R3ux  Robin Schulz   James Blunt      8301   \n1156  4bw2Am3p9ji3mYsXNXtQcd  Robin Schulz       Piso 21      8299   \n1157  64KEffDW9EtZ1y2vBYgq8T      Lil Peep    Marshmello      5996   \n1158  5ZsFI1h6hIdQRw2ti0hz81  Taylor Swift          ZAYN      9281   \n\n                 label_track  \\\n0     2RM4jf1Xa9zPgMGRDiht8O   \n1     0LFcFGLYTX6UmeIdO7NVd7   \n2     0LFcFGLYTX6UmeIdO7NVd7   \n3     0kIHfcHGFGm5xb0dSlKEdp   \n4     1vnsGFNWNANWMg0CAeMkl2   \n...                      ...   \n1154  4sJqSKPc5fZ5OZ8JiVI44N   \n1155  32y9LSjv2Q49T3NnkETXCm   \n1156  2xw9PXlt8IaCWZjfpJ2HPL   \n1157  6VrCmhRBFnuGKmtNfk4jDs   \n1158  2y5aJvzXhHPA94U5GFAcXe   \n\n                                                  title  explicit  popularity  \\\n0        Big Bank feat. 2 Chainz, Big Sean, Nicki Minaj      True          85   \n1                                            Ali Bomaye      True          63   \n2                                            Ali Bomaye      True          63   \n3                                         Hood Go Crazy      True          64   \n4     Plug Walk (feat. Gucci Mane, YG, 2Chainz) - Remix      True          78   \n...                                                 ...       ...         ...   \n1154                                    Stranger Things     False          74   \n1155                                                 OK     False          70   \n1156                                           Oh Child     False          81   \n1157                                          Spotlight     False          78   \n1158   I Don’t Wanna Live Forever (Fifty Shades Darker)     False          76   \n\n     release_date release_date_precision  \n0      25/05/2018                    day  \n1      11/12/2012                    day  \n2      11/12/2012                    day  \n3      04/05/2015                    day  \n4      20/06/2018                    day  \n...           ...                    ...  \n1154   03/11/2017                    day  \n1155   29/09/2017                    day  \n1156   22/06/2018                    day  \n1157   12/01/2018                    day  \n1158   10/02/2017                    day  \n\n[1159 rows x 16 columns]",
      "text/html": "<div>\n<style scoped>\n    .dataframe tbody tr th:only-of-type {\n        vertical-align: middle;\n    }\n\n    .dataframe tbody tr th {\n        vertical-align: top;\n    }\n\n    .dataframe thead th {\n        text-align: right;\n    }\n</style>\n<table border=\"1\" class=\"dataframe\">\n  <thead>\n    <tr style=\"text-align: right;\">\n      <th></th>\n      <th>Source</th>\n      <th>Target</th>\n      <th>Type</th>\n      <th>Id</th>\n      <th>Weight</th>\n      <th>label1</th>\n      <th>label2</th>\n      <th>name1</th>\n      <th>name2</th>\n      <th>id_track</th>\n      <th>label_track</th>\n      <th>title</th>\n      <th>explicit</th>\n      <th>popularity</th>\n      <th>release_date</th>\n      <th>release_date_precision</th>\n    </tr>\n  </thead>\n  <tbody>\n    <tr>\n      <th>0</th>\n      <td>1</td>\n      <td>33</td>\n      <td>Undirected</td>\n      <td>23121</td>\n      <td>2</td>\n      <td>17lzZA2AlOHwCwFALHttmp</td>\n      <td>0hCNtLu0JehylgoiP8L4Gh</td>\n      <td>2 Chainz</td>\n      <td>Nicki Minaj</td>\n      <td>10571</td>\n      <td>2RM4jf1Xa9zPgMGRDiht8O</td>\n      <td>Big Bank feat. 2 Chainz, Big Sean, Nicki Minaj</td>\n      <td>True</td>\n      <td>85</td>\n      <td>25/05/2018</td>\n      <td>day</td>\n    </tr>\n    <tr>\n      <th>1</th>\n      <td>1</td>\n      <td>675</td>\n      <td>Undirected</td>\n      <td>21681</td>\n      <td>2</td>\n      <td>17lzZA2AlOHwCwFALHttmp</td>\n      <td>1sBkRIssrMs1AbVkOJbc7a</td>\n      <td>2 Chainz</td>\n      <td>Rick Ross</td>\n      <td>9547</td>\n      <td>0LFcFGLYTX6UmeIdO7NVd7</td>\n      <td>Ali Bomaye</td>\n      <td>True</td>\n      <td>63</td>\n      <td>11/12/2012</td>\n      <td>day</td>\n    </tr>\n    <tr>\n      <th>2</th>\n      <td>1</td>\n      <td>1998</td>\n      <td>Undirected</td>\n      <td>21680</td>\n      <td>2</td>\n      <td>17lzZA2AlOHwCwFALHttmp</td>\n      <td>0NbfKEOTQCcwd6o7wSDOHI</td>\n      <td>2 Chainz</td>\n      <td>The Game</td>\n      <td>9547</td>\n      <td>0LFcFGLYTX6UmeIdO7NVd7</td>\n      <td>Ali Bomaye</td>\n      <td>True</td>\n      <td>63</td>\n      <td>11/12/2012</td>\n      <td>day</td>\n    </tr>\n    <tr>\n      <th>3</th>\n      <td>1</td>\n      <td>223</td>\n      <td>Undirected</td>\n      <td>21337</td>\n      <td>2</td>\n      <td>17lzZA2AlOHwCwFALHttmp</td>\n      <td>5ndkK3dpZLKtBklKjxNQwT</td>\n      <td>2 Chainz</td>\n      <td>B.o.B</td>\n      <td>9288</td>\n      <td>0kIHfcHGFGm5xb0dSlKEdp</td>\n      <td>Hood Go Crazy</td>\n      <td>True</td>\n      <td>64</td>\n      <td>04/05/2015</td>\n      <td>day</td>\n    </tr>\n    <tr>\n      <th>4</th>\n      <td>1</td>\n      <td>869</td>\n      <td>Undirected</td>\n      <td>19593</td>\n      <td>2</td>\n      <td>17lzZA2AlOHwCwFALHttmp</td>\n      <td>1pPmIToKXyGdsCF6LmqLmI</td>\n      <td>2 Chainz</td>\n      <td>Rich The Kid</td>\n      <td>8202</td>\n      <td>1vnsGFNWNANWMg0CAeMkl2</td>\n      <td>Plug Walk (feat. Gucci Mane, YG, 2Chainz) - Remix</td>\n      <td>True</td>\n      <td>78</td>\n      <td>20/06/2018</td>\n      <td>day</td>\n    </tr>\n    <tr>\n      <th>...</th>\n      <td>...</td>\n      <td>...</td>\n      <td>...</td>\n      <td>...</td>\n      <td>...</td>\n      <td>...</td>\n      <td>...</td>\n      <td>...</td>\n      <td>...</td>\n      <td>...</td>\n      <td>...</td>\n      <td>...</td>\n      <td>...</td>\n      <td>...</td>\n      <td>...</td>\n      <td>...</td>\n    </tr>\n    <tr>\n      <th>1154</th>\n      <td>1368</td>\n      <td>1371</td>\n      <td>Undirected</td>\n      <td>15186</td>\n      <td>2</td>\n      <td>23fqKkggKUBHNkbKtXEls4</td>\n      <td>5Pwc4xIPtQLFEnJriah9YJ</td>\n      <td>Kygo</td>\n      <td>OneRepublic</td>\n      <td>5673</td>\n      <td>4sJqSKPc5fZ5OZ8JiVI44N</td>\n      <td>Stranger Things</td>\n      <td>False</td>\n      <td>74</td>\n      <td>03/11/2017</td>\n      <td>day</td>\n    </tr>\n    <tr>\n      <th>1155</th>\n      <td>1397</td>\n      <td>1796</td>\n      <td>Undirected</td>\n      <td>19798</td>\n      <td>2</td>\n      <td>3t5xRXzsuZmMDkQzgOX35S</td>\n      <td>7KMqksf0UMdyA0UCf4R3ux</td>\n      <td>Robin Schulz</td>\n      <td>James Blunt</td>\n      <td>8301</td>\n      <td>32y9LSjv2Q49T3NnkETXCm</td>\n      <td>OK</td>\n      <td>False</td>\n      <td>70</td>\n      <td>29/09/2017</td>\n      <td>day</td>\n    </tr>\n    <tr>\n      <th>1156</th>\n      <td>1397</td>\n      <td>1794</td>\n      <td>Undirected</td>\n      <td>19794</td>\n      <td>2</td>\n      <td>3t5xRXzsuZmMDkQzgOX35S</td>\n      <td>4bw2Am3p9ji3mYsXNXtQcd</td>\n      <td>Robin Schulz</td>\n      <td>Piso 21</td>\n      <td>8299</td>\n      <td>2xw9PXlt8IaCWZjfpJ2HPL</td>\n      <td>Oh Child</td>\n      <td>False</td>\n      <td>81</td>\n      <td>22/06/2018</td>\n      <td>day</td>\n    </tr>\n    <tr>\n      <th>1157</th>\n      <td>1431</td>\n      <td>1451</td>\n      <td>Undirected</td>\n      <td>15818</td>\n      <td>2</td>\n      <td>2kCcBybjl3SAtIcwdWpUe3</td>\n      <td>64KEffDW9EtZ1y2vBYgq8T</td>\n      <td>Lil Peep</td>\n      <td>Marshmello</td>\n      <td>5996</td>\n      <td>6VrCmhRBFnuGKmtNfk4jDs</td>\n      <td>Spotlight</td>\n      <td>False</td>\n      <td>78</td>\n      <td>12/01/2018</td>\n      <td>day</td>\n    </tr>\n    <tr>\n      <th>1158</th>\n      <td>1940</td>\n      <td>2144</td>\n      <td>Undirected</td>\n      <td>21327</td>\n      <td>2</td>\n      <td>06HL4z0CvFAxyc27GXpf02</td>\n      <td>5ZsFI1h6hIdQRw2ti0hz81</td>\n      <td>Taylor Swift</td>\n      <td>ZAYN</td>\n      <td>9281</td>\n      <td>2y5aJvzXhHPA94U5GFAcXe</td>\n      <td>I Don’t Wanna Live Forever (Fifty Shades Darker)</td>\n      <td>False</td>\n      <td>76</td>\n      <td>10/02/2017</td>\n      <td>day</td>\n    </tr>\n  </tbody>\n</table>\n<p>1159 rows × 16 columns</p>\n</div>"
     },
     "execution_count": 4,
     "metadata": {},
     "output_type": "execute_result"
    }
   ],
   "source": [
    "df_songs = pd.read_csv(\"Songs.csv\", sep=\",\")\n",
    "df_songs"
   ]
  },
  {
   "cell_type": "code",
   "execution_count": 5,
   "id": "initial_id",
   "metadata": {
    "collapsed": true,
    "ExecuteTime": {
     "end_time": "2024-03-01T12:18:41.970077600Z",
     "start_time": "2024-03-01T12:18:41.328078200Z"
    }
   },
   "outputs": [],
   "source": [
    "import networkx as nx\n",
    "\n",
    "\n",
    "# Create a graph object\n",
    "G = nx.Graph()\n",
    "\n",
    "collab_counter = 0\n",
    "\n",
    "# Add nodes with attributes to the graph\n",
    "for _, row in df_artists.iterrows():\n",
    "    node_attrs = {attr: row[attr] for attr in df_artists.columns if attr != 'Spotify ID'}\n",
    "    G.add_node(row['Spotify ID'], **node_attrs)\n",
    "\n",
    "# Add edges with attributes to the graph\n",
    "for _, row in df_songs.iterrows():\n",
    "    if G.has_edge(row['label1'], row['label2']):\n",
    "        G[row['label1']][row['label2']]['weight'] += 2\n",
    "    else:\n",
    "        edge_attrs = {attr: row[attr] for attr in df_songs.columns if attr not in ['label1', 'label2']}\n",
    "        G.add_edge(row['label1'], row['label2'], weight=2, **edge_attrs)\n",
    "    collab_counter += 1\n"
   ]
  },
  {
   "cell_type": "code",
   "execution_count": 6,
   "id": "b7ba2e4a8ef5974a",
   "metadata": {
    "collapsed": false,
    "ExecuteTime": {
     "end_time": "2024-03-01T12:18:58.723075100Z",
     "start_time": "2024-03-01T12:18:41.975078500Z"
    }
   },
   "outputs": [
    {
     "data": {
      "text/plain": "<Figure size 640x480 with 1 Axes>",
      "image/png": "[encoded data removed]"
     },
     "metadata": {},
     "output_type": "display_data"
    }
   ],
   "source": [
    "import matplotlib.pyplot as plt\n",
    "\n",
    "# Draw the graph\n",
    "nx.draw(G, with_labels=False, node_color='skyblue', node_size=1, edge_color='black', linewidths=1, font_size=15)\n",
    "\n",
    "# Display the plot\n",
    "plt.savefig(\"original_control_network.png\")\n",
    "plt.show()"
   ]
  },
  {
   "cell_type": "code",
   "execution_count": 7,
   "outputs": [],
   "source": [
    "nx.write_gexf(G, \"Kontrolldaten_Graph.gexf\")"
   ],
   "metadata": {
    "collapsed": false,
    "ExecuteTime": {
     "end_time": "2024-03-01T12:18:59.006087400Z",
     "start_time": "2024-03-01T12:18:58.725078500Z"
    }
   },
   "id": "4a105d8f801ef250"
  },
  {
   "cell_type": "code",
   "execution_count": 8,
   "id": "9ad47090a70b63f7",
   "metadata": {
    "collapsed": false,
    "ExecuteTime": {
     "end_time": "2024-03-01T12:18:59.498085400Z",
     "start_time": "2024-03-01T12:18:59.012087600Z"
    }
   },
   "outputs": [],
   "source": [
    "import pandas as pd\n",
    "import community\n",
    "import networkx as nx\n",
    "\n",
    "# Assuming G is your graph object containing nodes and edges\n",
    "\n",
    "# Get all connected components\n",
    "connected_components = nx.connected_components(G)\n",
    "\n",
    "# Initialize dictionaries to store metrics for each node\n",
    "degree = {}\n",
    "weighted_degree = {}\n",
    "eccentricity = {}\n",
    "closeness_centrality = {}\n",
    "harmonic_closeness_centrality = {}\n",
    "betweenness_centrality = {}\n",
    "modularity_class = {}\n",
    "clustering = {}\n",
    "eigenvector_centrality = {}\n",
    "\n",
    "# For each connected component\n",
    "for cc in connected_components:\n",
    "    # Create a subgraph of G consisting only of this component\n",
    "    Gc = G.subgraph(cc).copy()\n",
    "\n",
    "    # Calculate metrics for this component\n",
    "    degree.update(dict(Gc.degree()))\n",
    "    weighted_degree.update(dict(Gc.degree(weight='weight')))\n",
    "    eccentricity.update(nx.eccentricity(Gc))\n",
    "    closeness_centrality.update(nx.closeness_centrality(Gc))\n",
    "    harmonic_closeness_centrality.update(nx.harmonic_centrality(Gc))\n",
    "    betweenness_centrality.update(nx.betweenness_centrality(Gc))\n",
    "    partition = community.best_partition(Gc)\n",
    "    modularity_class.update(partition)\n",
    "    clustering.update(nx.clustering(Gc))\n",
    "    eigenvector_centrality.update(nx.eigenvector_centrality(Gc))\n",
    "\n",
    "# Assign metrics as node attributes in the original graph G\n",
    "nx.set_node_attributes(G, degree, 'degree')\n",
    "nx.set_node_attributes(G, weighted_degree, 'weighted degree')\n",
    "nx.set_node_attributes(G, eccentricity, 'Eccentricity')\n",
    "nx.set_node_attributes(G, closeness_centrality, 'closnesscentrality')\n",
    "nx.set_node_attributes(G, harmonic_closeness_centrality, 'harmonicclosnesscentrality')\n",
    "nx.set_node_attributes(G, betweenness_centrality, 'betweenesscentrality')\n",
    "nx.set_node_attributes(G, modularity_class, 'modularity_class')\n",
    "nx.set_node_attributes(G, clustering, 'clustering')\n",
    "nx.set_node_attributes(G, eigenvector_centrality, 'eigencentrality')\n",
    "\n",
    "# Now your graph G has all the calculated metrics stored as node attributes"
   ]
  },
  {
   "cell_type": "code",
   "execution_count": 9,
   "id": "f9418c371ffff7e9",
   "metadata": {
    "collapsed": false,
    "ExecuteTime": {
     "end_time": "2024-03-01T12:18:59.513084800Z",
     "start_time": "2024-03-01T12:18:59.501085700Z"
    }
   },
   "outputs": [
    {
     "name": "stdout",
     "output_type": "stream",
     "text": [
      "Number of nodes: 2151\n",
      "Number of edges: 922\n",
      "Number of collabs: 1159\n"
     ]
    }
   ],
   "source": [
    "num_nodes = G.number_of_nodes()\n",
    "num_edges = G.number_of_edges()\n",
    "print(\"Number of nodes:\", num_nodes)\n",
    "print(\"Number of edges:\", num_edges)\n",
    "print(\"Number of collabs:\", collab_counter)"
   ]
  },
  {
   "cell_type": "markdown",
   "id": "8b3c6a42fd1c9ea",
   "metadata": {
    "collapsed": false
   },
   "source": [
    "geringfügige Abweichung (liegen an duplizierenden Artistnamen"
   ]
  },
  {
   "cell_type": "code",
   "execution_count": 10,
   "id": "fe42ba56fcaf7ace",
   "metadata": {
    "collapsed": false,
    "ExecuteTime": {
     "end_time": "2024-03-01T12:18:59.561084600Z",
     "start_time": "2024-03-01T12:18:59.536089400Z"
    }
   },
   "outputs": [
    {
     "data": {
      "text/plain": "        Id                       name  popularity  followers  \\\n0        1                   2 Chainz          83    3141364   \n1        2                      Drake         100   23732186   \n2        3                      Quavo          84    1819632   \n3        4              Ty Dolla $ign          87    1939644   \n4        5                 Trey Songz          75    3256433   \n...    ...                        ...         ...        ...   \n2146  2148               Matthew Koma          61      68641   \n2147  2149  Rome of Sublime with Rome          39         93   \n2148  2150                  Matisyahu          60     437153   \n2149  2151    The Unlikely Candidates          53      29455   \n2150  2152                       Maná          72    3157313   \n\n                                                 genres  \\\n0     hip hop, pop, pop rap, rap, southern hip hop, ...   \n1     canadian hip hop, canadian pop, hip hop, pop r...   \n2                                                   NaN   \n3                         pop, pop rap, rap, trap music   \n4     dance pop, indie r&b, pop, pop rap, r&b, south...   \n...                                                 ...   \n2146                                                NaN   \n2147                                                NaN   \n2148                                      reggae fusion   \n2149  indie pop, indie poptimism, indie rockism, mod...   \n2150  latin, latin arena pop, latin rock, mexican po...   \n\n                           image  degree  weighted degree  Eccentricity  \\\n0     17lzZA2AlOHwCwFALHttmp.jpg      32              108             5   \n1     3TVXtAsR1Inumwj472S9r4.jpg      21               68             5   \n2     0VRj0yCOv2FXJNP47XQnx5.jpg      31              106             5   \n3     7c0XG5cIJTrrAgEC3ULPiq.jpg      35               92             5   \n4     2iojnBLj0qIMiKPvVhLnsH.jpg      10               24             6   \n...                          ...     ...              ...           ...   \n2146  1mU61l2mcjEFraXZLpvVMo.jpg       0                0             0   \n2147  1WkB67ly6k7EVGJoNFj9YO.jpg       0                0             0   \n2148  5eyMzR1hYiEZtN2c9ly2kw.jpg       0                0             0   \n2149  4hwJwkgsufeilLXS1ZfJqq.jpg       0                0             0   \n2150  7okwEbXzyT2VffBmyQBWLz.jpg       3                6             7   \n\n      closnesscentrality  harmonicclosnesscentrality  betweenesscentrality  \\\n0               0.412354                  119.400000              0.043689   \n1               0.404255                  112.950000              0.032009   \n2               0.410982                  118.233333              0.039576   \n3               0.435626                  124.283333              0.081625   \n4               0.353868                   97.833333              0.002270   \n...                  ...                         ...                   ...   \n2146            0.000000                    0.000000              0.000000   \n2147            0.000000                    0.000000              0.000000   \n2148            0.000000                    0.000000              0.000000   \n2149            0.000000                    0.000000              0.000000   \n2150            0.240272                   65.635714              0.000018   \n\n      modularity_class  clustering  eigencentrality              Spotify ID  \n0                    9    0.219758         0.255088  17lzZA2AlOHwCwFALHttmp  \n1                    3    0.252381         0.183360  3TVXtAsR1Inumwj472S9r4  \n2                    9    0.210753         0.236216  0VRj0yCOv2FXJNP47XQnx5  \n3                    2    0.161345         0.234018  7c0XG5cIJTrrAgEC3ULPiq  \n4                    3    0.377778         0.089116  2iojnBLj0qIMiKPvVhLnsH  \n...                ...         ...              ...                     ...  \n2146                 0    0.000000         1.000000  1mU61l2mcjEFraXZLpvVMo  \n2147                 0    0.000000         1.000000  1WkB67ly6k7EVGJoNFj9YO  \n2148                 0    0.000000         1.000000  5eyMzR1hYiEZtN2c9ly2kw  \n2149                 0    0.000000         1.000000  4hwJwkgsufeilLXS1ZfJqq  \n2150                 1    0.666667         0.001797  7okwEbXzyT2VffBmyQBWLz  \n\n[2151 rows x 16 columns]",
      "text/html": "<div>\n<style scoped>\n    .dataframe tbody tr th:only-of-type {\n        vertical-align: middle;\n    }\n\n    .dataframe tbody tr th {\n        vertical-align: top;\n    }\n\n    .dataframe thead th {\n        text-align: right;\n    }\n</style>\n<table border=\"1\" class=\"dataframe\">\n  <thead>\n    <tr style=\"text-align: right;\">\n      <th></th>\n      <th>Id</th>\n      <th>name</th>\n      <th>popularity</th>\n      <th>followers</th>\n      <th>genres</th>\n      <th>image</th>\n      <th>degree</th>\n      <th>weighted degree</th>\n      <th>Eccentricity</th>\n      <th>closnesscentrality</th>\n      <th>harmonicclosnesscentrality</th>\n      <th>betweenesscentrality</th>\n      <th>modularity_class</th>\n      <th>clustering</th>\n      <th>eigencentrality</th>\n      <th>Spotify ID</th>\n    </tr>\n  </thead>\n  <tbody>\n    <tr>\n      <th>0</th>\n      <td>1</td>\n      <td>2 Chainz</td>\n      <td>83</td>\n      <td>3141364</td>\n      <td>hip hop, pop, pop rap, rap, southern hip hop, ...</td>\n      <td>17lzZA2AlOHwCwFALHttmp.jpg</td>\n      <td>32</td>\n      <td>108</td>\n      <td>5</td>\n      <td>0.412354</td>\n      <td>119.400000</td>\n      <td>0.043689</td>\n      <td>9</td>\n      <td>0.219758</td>\n      <td>0.255088</td>\n      <td>17lzZA2AlOHwCwFALHttmp</td>\n    </tr>\n    <tr>\n      <th>1</th>\n      <td>2</td>\n      <td>Drake</td>\n      <td>100</td>\n      <td>23732186</td>\n      <td>canadian hip hop, canadian pop, hip hop, pop r...</td>\n      <td>3TVXtAsR1Inumwj472S9r4.jpg</td>\n      <td>21</td>\n      <td>68</td>\n      <td>5</td>\n      <td>0.404255</td>\n      <td>112.950000</td>\n      <td>0.032009</td>\n      <td>3</td>\n      <td>0.252381</td>\n      <td>0.183360</td>\n      <td>3TVXtAsR1Inumwj472S9r4</td>\n    </tr>\n    <tr>\n      <th>2</th>\n      <td>3</td>\n      <td>Quavo</td>\n      <td>84</td>\n      <td>1819632</td>\n      <td>NaN</td>\n      <td>0VRj0yCOv2FXJNP47XQnx5.jpg</td>\n      <td>31</td>\n      <td>106</td>\n      <td>5</td>\n      <td>0.410982</td>\n      <td>118.233333</td>\n      <td>0.039576</td>\n      <td>9</td>\n      <td>0.210753</td>\n      <td>0.236216</td>\n      <td>0VRj0yCOv2FXJNP47XQnx5</td>\n    </tr>\n    <tr>\n      <th>3</th>\n      <td>4</td>\n      <td>Ty Dolla $ign</td>\n      <td>87</td>\n      <td>1939644</td>\n      <td>pop, pop rap, rap, trap music</td>\n      <td>7c0XG5cIJTrrAgEC3ULPiq.jpg</td>\n      <td>35</td>\n      <td>92</td>\n      <td>5</td>\n      <td>0.435626</td>\n      <td>124.283333</td>\n      <td>0.081625</td>\n      <td>2</td>\n      <td>0.161345</td>\n      <td>0.234018</td>\n      <td>7c0XG5cIJTrrAgEC3ULPiq</td>\n    </tr>\n    <tr>\n      <th>4</th>\n      <td>5</td>\n      <td>Trey Songz</td>\n      <td>75</td>\n      <td>3256433</td>\n      <td>dance pop, indie r&amp;b, pop, pop rap, r&amp;b, south...</td>\n      <td>2iojnBLj0qIMiKPvVhLnsH.jpg</td>\n      <td>10</td>\n      <td>24</td>\n      <td>6</td>\n      <td>0.353868</td>\n      <td>97.833333</td>\n      <td>0.002270</td>\n      <td>3</td>\n      <td>0.377778</td>\n      <td>0.089116</td>\n      <td>2iojnBLj0qIMiKPvVhLnsH</td>\n    </tr>\n    <tr>\n      <th>...</th>\n      <td>...</td>\n      <td>...</td>\n      <td>...</td>\n      <td>...</td>\n      <td>...</td>\n      <td>...</td>\n      <td>...</td>\n      <td>...</td>\n      <td>...</td>\n      <td>...</td>\n      <td>...</td>\n      <td>...</td>\n      <td>...</td>\n      <td>...</td>\n      <td>...</td>\n      <td>...</td>\n    </tr>\n    <tr>\n      <th>2146</th>\n      <td>2148</td>\n      <td>Matthew Koma</td>\n      <td>61</td>\n      <td>68641</td>\n      <td>NaN</td>\n      <td>1mU61l2mcjEFraXZLpvVMo.jpg</td>\n      <td>0</td>\n      <td>0</td>\n      <td>0</td>\n      <td>0.000000</td>\n      <td>0.000000</td>\n      <td>0.000000</td>\n      <td>0</td>\n      <td>0.000000</td>\n      <td>1.000000</td>\n      <td>1mU61l2mcjEFraXZLpvVMo</td>\n    </tr>\n    <tr>\n      <th>2147</th>\n      <td>2149</td>\n      <td>Rome of Sublime with Rome</td>\n      <td>39</td>\n      <td>93</td>\n      <td>NaN</td>\n      <td>1WkB67ly6k7EVGJoNFj9YO.jpg</td>\n      <td>0</td>\n      <td>0</td>\n      <td>0</td>\n      <td>0.000000</td>\n      <td>0.000000</td>\n      <td>0.000000</td>\n      <td>0</td>\n      <td>0.000000</td>\n      <td>1.000000</td>\n      <td>1WkB67ly6k7EVGJoNFj9YO</td>\n    </tr>\n    <tr>\n      <th>2148</th>\n      <td>2150</td>\n      <td>Matisyahu</td>\n      <td>60</td>\n      <td>437153</td>\n      <td>reggae fusion</td>\n      <td>5eyMzR1hYiEZtN2c9ly2kw.jpg</td>\n      <td>0</td>\n      <td>0</td>\n      <td>0</td>\n      <td>0.000000</td>\n      <td>0.000000</td>\n      <td>0.000000</td>\n      <td>0</td>\n      <td>0.000000</td>\n      <td>1.000000</td>\n      <td>5eyMzR1hYiEZtN2c9ly2kw</td>\n    </tr>\n    <tr>\n      <th>2149</th>\n      <td>2151</td>\n      <td>The Unlikely Candidates</td>\n      <td>53</td>\n      <td>29455</td>\n      <td>indie pop, indie poptimism, indie rockism, mod...</td>\n      <td>4hwJwkgsufeilLXS1ZfJqq.jpg</td>\n      <td>0</td>\n      <td>0</td>\n      <td>0</td>\n      <td>0.000000</td>\n      <td>0.000000</td>\n      <td>0.000000</td>\n      <td>0</td>\n      <td>0.000000</td>\n      <td>1.000000</td>\n      <td>4hwJwkgsufeilLXS1ZfJqq</td>\n    </tr>\n    <tr>\n      <th>2150</th>\n      <td>2152</td>\n      <td>Maná</td>\n      <td>72</td>\n      <td>3157313</td>\n      <td>latin, latin arena pop, latin rock, mexican po...</td>\n      <td>7okwEbXzyT2VffBmyQBWLz.jpg</td>\n      <td>3</td>\n      <td>6</td>\n      <td>7</td>\n      <td>0.240272</td>\n      <td>65.635714</td>\n      <td>0.000018</td>\n      <td>1</td>\n      <td>0.666667</td>\n      <td>0.001797</td>\n      <td>7okwEbXzyT2VffBmyQBWLz</td>\n    </tr>\n  </tbody>\n</table>\n<p>2151 rows × 16 columns</p>\n</div>"
     },
     "execution_count": 10,
     "metadata": {},
     "output_type": "execute_result"
    }
   ],
   "source": [
    "# Assuming G is your NetworkX graph\n",
    "\n",
    "# Extract nodes and their attributes from the graph\n",
    "nodes_with_attributes = [(G.nodes[node], node) for node in G.nodes()]\n",
    "\n",
    "# Create a DataFrame from the nodes and their attributes\n",
    "df_nodes = pd.DataFrame(nodes_with_attributes, columns=['Attributes', \"Spotify ID\"])\n",
    "\n",
    "# Normalize the 'Attributes' column to expand it into separate columns\n",
    "df_attributes = pd.json_normalize(df_nodes['Attributes'])\n",
    "\n",
    "# Combine the original 'Node' column with the expanded attributes\n",
    "df_nodes = pd.concat([df_attributes, df_nodes['Spotify ID'], ], axis=1)\n",
    "\n",
    "# Display the DataFrame\n",
    "df_nodes\n"
   ]
  },
  {
   "cell_type": "markdown",
   "id": "b65a9934802b919",
   "metadata": {
    "collapsed": false
   },
   "source": [
    "now read in the nodes file of original network\n"
   ]
  },
  {
   "cell_type": "code",
   "execution_count": 11,
   "id": "4342fdaac33b5685",
   "metadata": {
    "collapsed": false,
    "ExecuteTime": {
     "end_time": "2024-03-01T12:18:59.646087300Z",
     "start_time": "2024-03-01T12:18:59.564085800Z"
    }
   },
   "outputs": [
    {
     "data": {
      "text/plain": "        Id                       name  popularity  followers  \\\n0        1                   2 Chainz          83    3141364   \n1        2                      Drake         100   23732186   \n2        3                      Quavo          84    1819632   \n3        4              Ty Dolla $ign          87    1939644   \n4        5                 Trey Songz          75    3256433   \n...    ...                        ...         ...        ...   \n2147  2148               Matthew Koma          61      68641   \n2148  2149  Rome of Sublime with Rome          39         93   \n2149  2150                  Matisyahu          60     437153   \n2150  2151    The Unlikely Candidates          53      29455   \n2151  2152                       Maná          72    3157313   \n\n                                                 genres  \\\n0     hip hop, pop, pop rap, rap, southern hip hop, ...   \n1     canadian hip hop, canadian pop, hip hop, pop r...   \n2                                                   NaN   \n3                         pop, pop rap, rap, trap music   \n4     dance pop, indie r&b, pop, pop rap, r&b, south...   \n...                                                 ...   \n2147                                                NaN   \n2148                                                NaN   \n2149                                      reggae fusion   \n2150  indie pop, indie poptimism, indie rockism, mod...   \n2151  latin, latin arena pop, latin rock, mexican po...   \n\n                           image  degree  weighted degree  Eccentricity  \\\n0     17lzZA2AlOHwCwFALHttmp.jpg      32              108             5   \n1     3TVXtAsR1Inumwj472S9r4.jpg      21               68             5   \n2     0VRj0yCOv2FXJNP47XQnx5.jpg      31              106             5   \n3     7c0XG5cIJTrrAgEC3ULPiq.jpg      35               92             5   \n4     2iojnBLj0qIMiKPvVhLnsH.jpg      10               24             6   \n...                          ...     ...              ...           ...   \n2147  1mU61l2mcjEFraXZLpvVMo.jpg       0                0             0   \n2148  1WkB67ly6k7EVGJoNFj9YO.jpg       0                0             0   \n2149  5eyMzR1hYiEZtN2c9ly2kw.jpg       0                0             0   \n2150  4hwJwkgsufeilLXS1ZfJqq.jpg       0                0             0   \n2151  7okwEbXzyT2VffBmyQBWLz.jpg       3                6             7   \n\n      closnesscentrality  harmonicclosnesscentrality  betweenesscentrality  \\\n0               0.412354                    0.483401              0.000574   \n1               0.404255                    0.457287              0.000421   \n2               0.410982                    0.478677              0.000520   \n3               0.435626                    0.503171              0.001072   \n4               0.353868                    0.396086              0.000030   \n...                  ...                         ...                   ...   \n2147            0.000000                    0.000000              0.000000   \n2148            0.000000                    0.000000              0.000000   \n2149            0.000000                    0.000000              0.000000   \n2150            0.000000                    0.000000              0.000000   \n2151            0.240272                    0.265732              0.000000   \n\n      modularity_class  clustering  eigencentrality              Spotify ID  \n0                  675    0.219758         1.000000  17lzZA2AlOHwCwFALHttmp  \n1                  446    0.252381         0.720310  3TVXtAsR1Inumwj472S9r4  \n2                  675    0.210753         0.932713  0VRj0yCOv2FXJNP47XQnx5  \n3                 1236    0.161345         0.942299  7c0XG5cIJTrrAgEC3ULPiq  \n4                  446    0.377778         0.349635  2iojnBLj0qIMiKPvVhLnsH  \n...                ...         ...              ...                     ...  \n2147              1907    0.000000         0.000000  1mU61l2mcjEFraXZLpvVMo  \n2148              1908    0.000000         0.000000  1WkB67ly6k7EVGJoNFj9YO  \n2149              1909    0.000000         0.000000  5eyMzR1hYiEZtN2c9ly2kw  \n2150              1910    0.000000         0.000000  4hwJwkgsufeilLXS1ZfJqq  \n2151               417    0.666667         0.022912  7okwEbXzyT2VffBmyQBWLz  \n\n[2152 rows x 16 columns]",
      "text/html": "<div>\n<style scoped>\n    .dataframe tbody tr th:only-of-type {\n        vertical-align: middle;\n    }\n\n    .dataframe tbody tr th {\n        vertical-align: top;\n    }\n\n    .dataframe thead th {\n        text-align: right;\n    }\n</style>\n<table border=\"1\" class=\"dataframe\">\n  <thead>\n    <tr style=\"text-align: right;\">\n      <th></th>\n      <th>Id</th>\n      <th>name</th>\n      <th>popularity</th>\n      <th>followers</th>\n      <th>genres</th>\n      <th>image</th>\n      <th>degree</th>\n      <th>weighted degree</th>\n      <th>Eccentricity</th>\n      <th>closnesscentrality</th>\n      <th>harmonicclosnesscentrality</th>\n      <th>betweenesscentrality</th>\n      <th>modularity_class</th>\n      <th>clustering</th>\n      <th>eigencentrality</th>\n      <th>Spotify ID</th>\n    </tr>\n  </thead>\n  <tbody>\n    <tr>\n      <th>0</th>\n      <td>1</td>\n      <td>2 Chainz</td>\n      <td>83</td>\n      <td>3141364</td>\n      <td>hip hop, pop, pop rap, rap, southern hip hop, ...</td>\n      <td>17lzZA2AlOHwCwFALHttmp.jpg</td>\n      <td>32</td>\n      <td>108</td>\n      <td>5</td>\n      <td>0.412354</td>\n      <td>0.483401</td>\n      <td>0.000574</td>\n      <td>675</td>\n      <td>0.219758</td>\n      <td>1.000000</td>\n      <td>17lzZA2AlOHwCwFALHttmp</td>\n    </tr>\n    <tr>\n      <th>1</th>\n      <td>2</td>\n      <td>Drake</td>\n      <td>100</td>\n      <td>23732186</td>\n      <td>canadian hip hop, canadian pop, hip hop, pop r...</td>\n      <td>3TVXtAsR1Inumwj472S9r4.jpg</td>\n      <td>21</td>\n      <td>68</td>\n      <td>5</td>\n      <td>0.404255</td>\n      <td>0.457287</td>\n      <td>0.000421</td>\n      <td>446</td>\n      <td>0.252381</td>\n      <td>0.720310</td>\n      <td>3TVXtAsR1Inumwj472S9r4</td>\n    </tr>\n    <tr>\n      <th>2</th>\n      <td>3</td>\n      <td>Quavo</td>\n      <td>84</td>\n      <td>1819632</td>\n      <td>NaN</td>\n      <td>0VRj0yCOv2FXJNP47XQnx5.jpg</td>\n      <td>31</td>\n      <td>106</td>\n      <td>5</td>\n      <td>0.410982</td>\n      <td>0.478677</td>\n      <td>0.000520</td>\n      <td>675</td>\n      <td>0.210753</td>\n      <td>0.932713</td>\n      <td>0VRj0yCOv2FXJNP47XQnx5</td>\n    </tr>\n    <tr>\n      <th>3</th>\n      <td>4</td>\n      <td>Ty Dolla $ign</td>\n      <td>87</td>\n      <td>1939644</td>\n      <td>pop, pop rap, rap, trap music</td>\n      <td>7c0XG5cIJTrrAgEC3ULPiq.jpg</td>\n      <td>35</td>\n      <td>92</td>\n      <td>5</td>\n      <td>0.435626</td>\n      <td>0.503171</td>\n      <td>0.001072</td>\n      <td>1236</td>\n      <td>0.161345</td>\n      <td>0.942299</td>\n      <td>7c0XG5cIJTrrAgEC3ULPiq</td>\n    </tr>\n    <tr>\n      <th>4</th>\n      <td>5</td>\n      <td>Trey Songz</td>\n      <td>75</td>\n      <td>3256433</td>\n      <td>dance pop, indie r&amp;b, pop, pop rap, r&amp;b, south...</td>\n      <td>2iojnBLj0qIMiKPvVhLnsH.jpg</td>\n      <td>10</td>\n      <td>24</td>\n      <td>6</td>\n      <td>0.353868</td>\n      <td>0.396086</td>\n      <td>0.000030</td>\n      <td>446</td>\n      <td>0.377778</td>\n      <td>0.349635</td>\n      <td>2iojnBLj0qIMiKPvVhLnsH</td>\n    </tr>\n    <tr>\n      <th>...</th>\n      <td>...</td>\n      <td>...</td>\n      <td>...</td>\n      <td>...</td>\n      <td>...</td>\n      <td>...</td>\n      <td>...</td>\n      <td>...</td>\n      <td>...</td>\n      <td>...</td>\n      <td>...</td>\n      <td>...</td>\n      <td>...</td>\n      <td>...</td>\n      <td>...</td>\n      <td>...</td>\n    </tr>\n    <tr>\n      <th>2147</th>\n      <td>2148</td>\n      <td>Matthew Koma</td>\n      <td>61</td>\n      <td>68641</td>\n      <td>NaN</td>\n      <td>1mU61l2mcjEFraXZLpvVMo.jpg</td>\n      <td>0</td>\n      <td>0</td>\n      <td>0</td>\n      <td>0.000000</td>\n      <td>0.000000</td>\n      <td>0.000000</td>\n      <td>1907</td>\n      <td>0.000000</td>\n      <td>0.000000</td>\n      <td>1mU61l2mcjEFraXZLpvVMo</td>\n    </tr>\n    <tr>\n      <th>2148</th>\n      <td>2149</td>\n      <td>Rome of Sublime with Rome</td>\n      <td>39</td>\n      <td>93</td>\n      <td>NaN</td>\n      <td>1WkB67ly6k7EVGJoNFj9YO.jpg</td>\n      <td>0</td>\n      <td>0</td>\n      <td>0</td>\n      <td>0.000000</td>\n      <td>0.000000</td>\n      <td>0.000000</td>\n      <td>1908</td>\n      <td>0.000000</td>\n      <td>0.000000</td>\n      <td>1WkB67ly6k7EVGJoNFj9YO</td>\n    </tr>\n    <tr>\n      <th>2149</th>\n      <td>2150</td>\n      <td>Matisyahu</td>\n      <td>60</td>\n      <td>437153</td>\n      <td>reggae fusion</td>\n      <td>5eyMzR1hYiEZtN2c9ly2kw.jpg</td>\n      <td>0</td>\n      <td>0</td>\n      <td>0</td>\n      <td>0.000000</td>\n      <td>0.000000</td>\n      <td>0.000000</td>\n      <td>1909</td>\n      <td>0.000000</td>\n      <td>0.000000</td>\n      <td>5eyMzR1hYiEZtN2c9ly2kw</td>\n    </tr>\n    <tr>\n      <th>2150</th>\n      <td>2151</td>\n      <td>The Unlikely Candidates</td>\n      <td>53</td>\n      <td>29455</td>\n      <td>indie pop, indie poptimism, indie rockism, mod...</td>\n      <td>4hwJwkgsufeilLXS1ZfJqq.jpg</td>\n      <td>0</td>\n      <td>0</td>\n      <td>0</td>\n      <td>0.000000</td>\n      <td>0.000000</td>\n      <td>0.000000</td>\n      <td>1910</td>\n      <td>0.000000</td>\n      <td>0.000000</td>\n      <td>4hwJwkgsufeilLXS1ZfJqq</td>\n    </tr>\n    <tr>\n      <th>2151</th>\n      <td>2152</td>\n      <td>Maná</td>\n      <td>72</td>\n      <td>3157313</td>\n      <td>latin, latin arena pop, latin rock, mexican po...</td>\n      <td>7okwEbXzyT2VffBmyQBWLz.jpg</td>\n      <td>3</td>\n      <td>6</td>\n      <td>7</td>\n      <td>0.240272</td>\n      <td>0.265732</td>\n      <td>0.000000</td>\n      <td>417</td>\n      <td>0.666667</td>\n      <td>0.022912</td>\n      <td>7okwEbXzyT2VffBmyQBWLz</td>\n    </tr>\n  </tbody>\n</table>\n<p>2152 rows × 16 columns</p>\n</div>"
     },
     "execution_count": 11,
     "metadata": {},
     "output_type": "execute_result"
    }
   ],
   "source": [
    "df_original_nodes = pd.read_csv(\"../network/Successful Network/Original Network/nodes_original.csv\", sep=\"\\t\")\n",
    "df_original_nodes\n"
   ]
  },
  {
   "cell_type": "markdown",
   "id": "1958bbc11f39f49b",
   "metadata": {
    "collapsed": false
   },
   "source": [
    "check for the missing id"
   ]
  },
  {
   "cell_type": "code",
   "execution_count": 12,
   "id": "6c4ec18623e29ff4",
   "metadata": {
    "collapsed": false,
    "ExecuteTime": {
     "end_time": "2024-03-01T12:18:59.647089Z",
     "start_time": "2024-03-01T12:18:59.614087500Z"
    }
   },
   "outputs": [
    {
     "data": {
      "text/plain": "{710}"
     },
     "execution_count": 12,
     "metadata": {},
     "output_type": "execute_result"
    }
   ],
   "source": [
    "missed_id = set(df_original_nodes[\"Id\"]) - set(df_nodes[\"Id\"])\n",
    "missed_id"
   ]
  },
  {
   "cell_type": "code",
   "execution_count": 13,
   "id": "7843e2ae4db504ff",
   "metadata": {
    "collapsed": false,
    "ExecuteTime": {
     "end_time": "2024-03-01T12:18:59.648088300Z",
     "start_time": "2024-03-01T12:18:59.636087700Z"
    }
   },
   "outputs": [
    {
     "data": {
      "text/plain": "      Id           name  popularity  followers  \\\n709  710  Royce Da 5'9\"          61     199163   \n\n                                                genres  \\\n709  alternative hip hop, detroit hip hop, dirty so...   \n\n                          image  degree  weighted degree  Eccentricity  \\\n709  6DVipHzYsPlIoA0DW8Gmns.jpg       0                0             0   \n\n     closnesscentrality  harmonicclosnesscentrality  betweenesscentrality  \\\n709                 0.0                         0.0                   0.0   \n\n     modularity_class  clustering  eigencentrality              Spotify ID  \n709               564         0.0              0.0  6DVipHzYsPlIoA0DW8Gmns  ",
      "text/html": "<div>\n<style scoped>\n    .dataframe tbody tr th:only-of-type {\n        vertical-align: middle;\n    }\n\n    .dataframe tbody tr th {\n        vertical-align: top;\n    }\n\n    .dataframe thead th {\n        text-align: right;\n    }\n</style>\n<table border=\"1\" class=\"dataframe\">\n  <thead>\n    <tr style=\"text-align: right;\">\n      <th></th>\n      <th>Id</th>\n      <th>name</th>\n      <th>popularity</th>\n      <th>followers</th>\n      <th>genres</th>\n      <th>image</th>\n      <th>degree</th>\n      <th>weighted degree</th>\n      <th>Eccentricity</th>\n      <th>closnesscentrality</th>\n      <th>harmonicclosnesscentrality</th>\n      <th>betweenesscentrality</th>\n      <th>modularity_class</th>\n      <th>clustering</th>\n      <th>eigencentrality</th>\n      <th>Spotify ID</th>\n    </tr>\n  </thead>\n  <tbody>\n    <tr>\n      <th>709</th>\n      <td>710</td>\n      <td>Royce Da 5'9\"</td>\n      <td>61</td>\n      <td>199163</td>\n      <td>alternative hip hop, detroit hip hop, dirty so...</td>\n      <td>6DVipHzYsPlIoA0DW8Gmns.jpg</td>\n      <td>0</td>\n      <td>0</td>\n      <td>0</td>\n      <td>0.0</td>\n      <td>0.0</td>\n      <td>0.0</td>\n      <td>564</td>\n      <td>0.0</td>\n      <td>0.0</td>\n      <td>6DVipHzYsPlIoA0DW8Gmns</td>\n    </tr>\n  </tbody>\n</table>\n</div>"
     },
     "execution_count": 13,
     "metadata": {},
     "output_type": "execute_result"
    }
   ],
   "source": [
    "df_original_nodes[(df_original_nodes[\"Id\"] == 710)]"
   ]
  },
  {
   "cell_type": "code",
   "execution_count": 14,
   "id": "58db407981ab5da4",
   "metadata": {
    "collapsed": false,
    "ExecuteTime": {
     "end_time": "2024-03-01T12:18:59.676088Z",
     "start_time": "2024-03-01T12:18:59.642086700Z"
    }
   },
   "outputs": [
    {
     "data": {
      "text/plain": "Empty DataFrame\nColumns: [Id, name, popularity, followers, genres, image, degree, weighted degree, Eccentricity, closnesscentrality, harmonicclosnesscentrality, betweenesscentrality, modularity_class, clustering, eigencentrality, Spotify ID]\nIndex: []",
      "text/html": "<div>\n<style scoped>\n    .dataframe tbody tr th:only-of-type {\n        vertical-align: middle;\n    }\n\n    .dataframe tbody tr th {\n        vertical-align: top;\n    }\n\n    .dataframe thead th {\n        text-align: right;\n    }\n</style>\n<table border=\"1\" class=\"dataframe\">\n  <thead>\n    <tr style=\"text-align: right;\">\n      <th></th>\n      <th>Id</th>\n      <th>name</th>\n      <th>popularity</th>\n      <th>followers</th>\n      <th>genres</th>\n      <th>image</th>\n      <th>degree</th>\n      <th>weighted degree</th>\n      <th>Eccentricity</th>\n      <th>closnesscentrality</th>\n      <th>harmonicclosnesscentrality</th>\n      <th>betweenesscentrality</th>\n      <th>modularity_class</th>\n      <th>clustering</th>\n      <th>eigencentrality</th>\n      <th>Spotify ID</th>\n    </tr>\n  </thead>\n  <tbody>\n  </tbody>\n</table>\n</div>"
     },
     "execution_count": 14,
     "metadata": {},
     "output_type": "execute_result"
    }
   ],
   "source": [
    "df_nodes[(df_nodes[\"name\"] == \"Royce Da 5'9\"\"\")]"
   ]
  },
  {
   "cell_type": "code",
   "execution_count": 15,
   "id": "c53238bebfee570d",
   "metadata": {
    "collapsed": false,
    "ExecuteTime": {
     "end_time": "2024-03-01T12:18:59.697088500Z",
     "start_time": "2024-03-01T12:18:59.661086800Z"
    }
   },
   "outputs": [],
   "source": [
    "df_original_nodes = df_original_nodes[(df_original_nodes[\"Id\"] != 710)]"
   ]
  },
  {
   "cell_type": "markdown",
   "id": "6e9056b7c78ba34b",
   "metadata": {
    "collapsed": false
   },
   "source": [
    "calculate the mae:"
   ]
  },
  {
   "cell_type": "code",
   "execution_count": 16,
   "id": "296c30fce086c9a6",
   "metadata": {
    "collapsed": false,
    "ExecuteTime": {
     "end_time": "2024-03-01T12:19:00.515086300Z",
     "start_time": "2024-03-01T12:18:59.678086300Z"
    }
   },
   "outputs": [
    {
     "name": "stdout",
     "output_type": "stream",
     "text": [
      "Mean Absolute Error for each column:\n",
      "degree: 0.34309623430962344\n",
      "weighted degree: 0.8368200836820083\n",
      "Eccentricity: 0.42305904230590424\n",
      "closnesscentrality: 0.021797865907539925\n",
      "harmonicclosnesscentrality: 9.760711194261802\n",
      "betweenesscentrality: 0.001070533442344062\n",
      "modularity_class: 938.8205485820548\n",
      "clustering: 0.014092075304429413\n",
      "eigencentrality: 0.8935685037506162\n"
     ]
    }
   ],
   "source": [
    "import pandas as pd\n",
    "from sklearn.metrics import mean_absolute_error\n",
    "\n",
    "# Assuming df1 and df2 are your DataFrames\n",
    "# Example DataFrames:\n",
    "# df1 = pd.DataFrame({'col1': [1, 2, 3, 4], 'col2': [5, 6, 7, 8]})\n",
    "# df2 = pd.DataFrame({'col1': [2, 3, 4, 5], 'col2': [6, 7, 8, 9]})\n",
    "\n",
    "def calculate_mae(df1, df2):\n",
    "    # Check if the DataFrames have the same columns\n",
    "    if set(df1.columns) != set(df2.columns):\n",
    "        raise ValueError(\"DataFrames must have the same columns.\")\n",
    "\n",
    "    mae_results = {}\n",
    "    \n",
    "    # Calculate MAE for each column\n",
    "    for col in df1.columns:\n",
    "        mae = mean_absolute_error(df1[col], df2[col])\n",
    "        mae_results[col] = mae\n",
    "\n",
    "    return mae_results\n",
    "\n",
    "mae_values = calculate_mae(df_nodes.iloc[:, 6:-1], df_original_nodes.iloc[:, 6:-1])\n",
    "print(\"Mean Absolute Error for each column:\")\n",
    "for col, mae in mae_values.items():\n",
    "    print(f\"{col}: {mae}\")\n"
   ]
  },
  {
   "cell_type": "code",
   "execution_count": 17,
   "id": "fb71e386abbd2ae8",
   "metadata": {
    "collapsed": false,
    "ExecuteTime": {
     "end_time": "2024-03-01T12:19:00.535088Z",
     "start_time": "2024-03-01T12:19:00.517086500Z"
    }
   },
   "outputs": [
    {
     "data": {
      "text/plain": "{'Eccentricity',\n 'betweenesscentrality',\n 'closnesscentrality',\n 'clustering',\n 'degree',\n 'eigencentrality',\n 'harmonicclosnesscentrality',\n 'modularity_class',\n 'weighted degree'}"
     },
     "execution_count": 17,
     "metadata": {},
     "output_type": "execute_result"
    }
   ],
   "source": [
    "set(df_nodes.iloc[:, 6:-1].columns) & set(df_original_nodes.iloc[:, 6:-1].columns)"
   ]
  },
  {
   "cell_type": "markdown",
   "source": [
    "Average value for original graph for the metrics\n"
   ],
   "metadata": {
    "collapsed": false
   },
   "id": "8ccf70fb7063e989"
  },
  {
   "cell_type": "code",
   "execution_count": 19,
   "outputs": [
    {
     "data": {
      "text/plain": "degree                          0.857276\nweighted degree                 2.155277\nEccentricity                    0.673175\nclosnesscentrality              0.038677\nharmonicclosnesscentrality      0.042372\nbetweenesscentrality            0.000014\nmodularity_class              939.339377\nclustering                      0.025585\neigencentrality                 0.018516\ndtype: float64"
     },
     "execution_count": 19,
     "metadata": {},
     "output_type": "execute_result"
    }
   ],
   "source": [
    "df_original_nodes.iloc[:, 6:-1].mean()"
   ],
   "metadata": {
    "collapsed": false,
    "ExecuteTime": {
     "end_time": "2024-03-01T12:41:42.399651300Z",
     "start_time": "2024-03-01T12:41:42.389655600Z"
    }
   },
   "id": "12466106dca5e502"
  },
  {
   "cell_type": "code",
   "execution_count": 20,
   "outputs": [
    {
     "data": {
      "text/plain": "        Id                       name  popularity  followers  \\\n0        1                   2 Chainz          83    3141364   \n1        2                      Drake         100   23732186   \n2        3                      Quavo          84    1819632   \n3        4              Ty Dolla $ign          87    1939644   \n4        5                 Trey Songz          75    3256433   \n...    ...                        ...         ...        ...   \n2147  2148               Matthew Koma          61      68641   \n2148  2149  Rome of Sublime with Rome          39         93   \n2149  2150                  Matisyahu          60     437153   \n2150  2151    The Unlikely Candidates          53      29455   \n2151  2152                       Maná          72    3157313   \n\n                                                 genres  \\\n0     hip hop, pop, pop rap, rap, southern hip hop, ...   \n1     canadian hip hop, canadian pop, hip hop, pop r...   \n2                                                   NaN   \n3                         pop, pop rap, rap, trap music   \n4     dance pop, indie r&b, pop, pop rap, r&b, south...   \n...                                                 ...   \n2147                                                NaN   \n2148                                                NaN   \n2149                                      reggae fusion   \n2150  indie pop, indie poptimism, indie rockism, mod...   \n2151  latin, latin arena pop, latin rock, mexican po...   \n\n                           image  degree  weighted degree  Eccentricity  \\\n0     17lzZA2AlOHwCwFALHttmp.jpg      32              108             5   \n1     3TVXtAsR1Inumwj472S9r4.jpg      21               68             5   \n2     0VRj0yCOv2FXJNP47XQnx5.jpg      31              106             5   \n3     7c0XG5cIJTrrAgEC3ULPiq.jpg      35               92             5   \n4     2iojnBLj0qIMiKPvVhLnsH.jpg      10               24             6   \n...                          ...     ...              ...           ...   \n2147  1mU61l2mcjEFraXZLpvVMo.jpg       0                0             0   \n2148  1WkB67ly6k7EVGJoNFj9YO.jpg       0                0             0   \n2149  5eyMzR1hYiEZtN2c9ly2kw.jpg       0                0             0   \n2150  4hwJwkgsufeilLXS1ZfJqq.jpg       0                0             0   \n2151  7okwEbXzyT2VffBmyQBWLz.jpg       3                6             7   \n\n      closnesscentrality  harmonicclosnesscentrality  betweenesscentrality  \\\n0               0.412354                    0.483401              0.000574   \n1               0.404255                    0.457287              0.000421   \n2               0.410982                    0.478677              0.000520   \n3               0.435626                    0.503171              0.001072   \n4               0.353868                    0.396086              0.000030   \n...                  ...                         ...                   ...   \n2147            0.000000                    0.000000              0.000000   \n2148            0.000000                    0.000000              0.000000   \n2149            0.000000                    0.000000              0.000000   \n2150            0.000000                    0.000000              0.000000   \n2151            0.240272                    0.265732              0.000000   \n\n      modularity_class  clustering  eigencentrality              Spotify ID  \n0                  675    0.219758         1.000000  17lzZA2AlOHwCwFALHttmp  \n1                  446    0.252381         0.720310  3TVXtAsR1Inumwj472S9r4  \n2                  675    0.210753         0.932713  0VRj0yCOv2FXJNP47XQnx5  \n3                 1236    0.161345         0.942299  7c0XG5cIJTrrAgEC3ULPiq  \n4                  446    0.377778         0.349635  2iojnBLj0qIMiKPvVhLnsH  \n...                ...         ...              ...                     ...  \n2147              1907    0.000000         0.000000  1mU61l2mcjEFraXZLpvVMo  \n2148              1908    0.000000         0.000000  1WkB67ly6k7EVGJoNFj9YO  \n2149              1909    0.000000         0.000000  5eyMzR1hYiEZtN2c9ly2kw  \n2150              1910    0.000000         0.000000  4hwJwkgsufeilLXS1ZfJqq  \n2151               417    0.666667         0.022912  7okwEbXzyT2VffBmyQBWLz  \n\n[2151 rows x 16 columns]",
      "text/html": "<div>\n<style scoped>\n    .dataframe tbody tr th:only-of-type {\n        vertical-align: middle;\n    }\n\n    .dataframe tbody tr th {\n        vertical-align: top;\n    }\n\n    .dataframe thead th {\n        text-align: right;\n    }\n</style>\n<table border=\"1\" class=\"dataframe\">\n  <thead>\n    <tr style=\"text-align: right;\">\n      <th></th>\n      <th>Id</th>\n      <th>name</th>\n      <th>popularity</th>\n      <th>followers</th>\n      <th>genres</th>\n      <th>image</th>\n      <th>degree</th>\n      <th>weighted degree</th>\n      <th>Eccentricity</th>\n      <th>closnesscentrality</th>\n      <th>harmonicclosnesscentrality</th>\n      <th>betweenesscentrality</th>\n      <th>modularity_class</th>\n      <th>clustering</th>\n      <th>eigencentrality</th>\n      <th>Spotify ID</th>\n    </tr>\n  </thead>\n  <tbody>\n    <tr>\n      <th>0</th>\n      <td>1</td>\n      <td>2 Chainz</td>\n      <td>83</td>\n      <td>3141364</td>\n      <td>hip hop, pop, pop rap, rap, southern hip hop, ...</td>\n      <td>17lzZA2AlOHwCwFALHttmp.jpg</td>\n      <td>32</td>\n      <td>108</td>\n      <td>5</td>\n      <td>0.412354</td>\n      <td>0.483401</td>\n      <td>0.000574</td>\n      <td>675</td>\n      <td>0.219758</td>\n      <td>1.000000</td>\n      <td>17lzZA2AlOHwCwFALHttmp</td>\n    </tr>\n    <tr>\n      <th>1</th>\n      <td>2</td>\n      <td>Drake</td>\n      <td>100</td>\n      <td>23732186</td>\n      <td>canadian hip hop, canadian pop, hip hop, pop r...</td>\n      <td>3TVXtAsR1Inumwj472S9r4.jpg</td>\n      <td>21</td>\n      <td>68</td>\n      <td>5</td>\n      <td>0.404255</td>\n      <td>0.457287</td>\n      <td>0.000421</td>\n      <td>446</td>\n      <td>0.252381</td>\n      <td>0.720310</td>\n      <td>3TVXtAsR1Inumwj472S9r4</td>\n    </tr>\n    <tr>\n      <th>2</th>\n      <td>3</td>\n      <td>Quavo</td>\n      <td>84</td>\n      <td>1819632</td>\n      <td>NaN</td>\n      <td>0VRj0yCOv2FXJNP47XQnx5.jpg</td>\n      <td>31</td>\n      <td>106</td>\n      <td>5</td>\n      <td>0.410982</td>\n      <td>0.478677</td>\n      <td>0.000520</td>\n      <td>675</td>\n      <td>0.210753</td>\n      <td>0.932713</td>\n      <td>0VRj0yCOv2FXJNP47XQnx5</td>\n    </tr>\n    <tr>\n      <th>3</th>\n      <td>4</td>\n      <td>Ty Dolla $ign</td>\n      <td>87</td>\n      <td>1939644</td>\n      <td>pop, pop rap, rap, trap music</td>\n      <td>7c0XG5cIJTrrAgEC3ULPiq.jpg</td>\n      <td>35</td>\n      <td>92</td>\n      <td>5</td>\n      <td>0.435626</td>\n      <td>0.503171</td>\n      <td>0.001072</td>\n      <td>1236</td>\n      <td>0.161345</td>\n      <td>0.942299</td>\n      <td>7c0XG5cIJTrrAgEC3ULPiq</td>\n    </tr>\n    <tr>\n      <th>4</th>\n      <td>5</td>\n      <td>Trey Songz</td>\n      <td>75</td>\n      <td>3256433</td>\n      <td>dance pop, indie r&amp;b, pop, pop rap, r&amp;b, south...</td>\n      <td>2iojnBLj0qIMiKPvVhLnsH.jpg</td>\n      <td>10</td>\n      <td>24</td>\n      <td>6</td>\n      <td>0.353868</td>\n      <td>0.396086</td>\n      <td>0.000030</td>\n      <td>446</td>\n      <td>0.377778</td>\n      <td>0.349635</td>\n      <td>2iojnBLj0qIMiKPvVhLnsH</td>\n    </tr>\n    <tr>\n      <th>...</th>\n      <td>...</td>\n      <td>...</td>\n      <td>...</td>\n      <td>...</td>\n      <td>...</td>\n      <td>...</td>\n      <td>...</td>\n      <td>...</td>\n      <td>...</td>\n      <td>...</td>\n      <td>...</td>\n      <td>...</td>\n      <td>...</td>\n      <td>...</td>\n      <td>...</td>\n      <td>...</td>\n    </tr>\n    <tr>\n      <th>2147</th>\n      <td>2148</td>\n      <td>Matthew Koma</td>\n      <td>61</td>\n      <td>68641</td>\n      <td>NaN</td>\n      <td>1mU61l2mcjEFraXZLpvVMo.jpg</td>\n      <td>0</td>\n      <td>0</td>\n      <td>0</td>\n      <td>0.000000</td>\n      <td>0.000000</td>\n      <td>0.000000</td>\n      <td>1907</td>\n      <td>0.000000</td>\n      <td>0.000000</td>\n      <td>1mU61l2mcjEFraXZLpvVMo</td>\n    </tr>\n    <tr>\n      <th>2148</th>\n      <td>2149</td>\n      <td>Rome of Sublime with Rome</td>\n      <td>39</td>\n      <td>93</td>\n      <td>NaN</td>\n      <td>1WkB67ly6k7EVGJoNFj9YO.jpg</td>\n      <td>0</td>\n      <td>0</td>\n      <td>0</td>\n      <td>0.000000</td>\n      <td>0.000000</td>\n      <td>0.000000</td>\n      <td>1908</td>\n      <td>0.000000</td>\n      <td>0.000000</td>\n      <td>1WkB67ly6k7EVGJoNFj9YO</td>\n    </tr>\n    <tr>\n      <th>2149</th>\n      <td>2150</td>\n      <td>Matisyahu</td>\n      <td>60</td>\n      <td>437153</td>\n      <td>reggae fusion</td>\n      <td>5eyMzR1hYiEZtN2c9ly2kw.jpg</td>\n      <td>0</td>\n      <td>0</td>\n      <td>0</td>\n      <td>0.000000</td>\n      <td>0.000000</td>\n      <td>0.000000</td>\n      <td>1909</td>\n      <td>0.000000</td>\n      <td>0.000000</td>\n      <td>5eyMzR1hYiEZtN2c9ly2kw</td>\n    </tr>\n    <tr>\n      <th>2150</th>\n      <td>2151</td>\n      <td>The Unlikely Candidates</td>\n      <td>53</td>\n      <td>29455</td>\n      <td>indie pop, indie poptimism, indie rockism, mod...</td>\n      <td>4hwJwkgsufeilLXS1ZfJqq.jpg</td>\n      <td>0</td>\n      <td>0</td>\n      <td>0</td>\n      <td>0.000000</td>\n      <td>0.000000</td>\n      <td>0.000000</td>\n      <td>1910</td>\n      <td>0.000000</td>\n      <td>0.000000</td>\n      <td>4hwJwkgsufeilLXS1ZfJqq</td>\n    </tr>\n    <tr>\n      <th>2151</th>\n      <td>2152</td>\n      <td>Maná</td>\n      <td>72</td>\n      <td>3157313</td>\n      <td>latin, latin arena pop, latin rock, mexican po...</td>\n      <td>7okwEbXzyT2VffBmyQBWLz.jpg</td>\n      <td>3</td>\n      <td>6</td>\n      <td>7</td>\n      <td>0.240272</td>\n      <td>0.265732</td>\n      <td>0.000000</td>\n      <td>417</td>\n      <td>0.666667</td>\n      <td>0.022912</td>\n      <td>7okwEbXzyT2VffBmyQBWLz</td>\n    </tr>\n  </tbody>\n</table>\n<p>2151 rows × 16 columns</p>\n</div>"
     },
     "execution_count": 20,
     "metadata": {},
     "output_type": "execute_result"
    }
   ],
   "source": [
    "df_original_nodes"
   ],
   "metadata": {
    "collapsed": false,
    "ExecuteTime": {
     "end_time": "2024-03-01T12:41:56.293639Z",
     "start_time": "2024-03-01T12:41:56.288642900Z"
    }
   },
   "id": "c48f176198367f16"
  }
 ],
 "metadata": {
  "kernelspec": {
   "display_name": "Python 3",
   "language": "python",
   "name": "python3"
  },
  "language_info": {
   "codemirror_mode": {
    "name": "ipython",
    "version": 2
   },
   "file_extension": ".py",
   "mimetype": "text/x-python",
   "name": "python",
   "nbconvert_exporter": "python",
   "pygments_lexer": "ipython2",
   "version": "2.7.6"
  }
 },
 "nbformat": 4,
 "nbformat_minor": 5
}
