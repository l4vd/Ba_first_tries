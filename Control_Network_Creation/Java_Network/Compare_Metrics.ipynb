{
 "cells": [
  {
   "cell_type": "code",
   "execution_count": 73,
   "id": "initial_id",
   "metadata": {
    "collapsed": true,
    "ExecuteTime": {
     "end_time": "2024-03-03T16:52:31.991212400Z",
     "start_time": "2024-03-03T16:52:31.847215300Z"
    }
   },
   "outputs": [
    {
     "data": {
      "text/plain": "      eigencentrality                          1     0    2         3  \\\n0            1.000000                   2 Chainz     1   83   3141364   \n1            0.720310                      Drake     2  100  23732186   \n2            0.932713                      Quavo     3   84   1819632   \n3            0.942299              Ty Dolla $ign     4   87   1939644   \n4            0.349635                 Trey Songz     5   75   3256433   \n...               ...                        ...   ...  ...       ...   \n2146         0.000000               Matthew Koma  2148   61     68641   \n2147         0.000000  Rome of Sublime with Rome  2149   39        93   \n2148         0.000000                  Matisyahu  2150   60    437153   \n2149         0.000000    The Unlikely Candidates  2151   53     29455   \n2150         0.022912                       Maná  2152   72   3157313   \n\n      eccentricity  betweenesscentrality                           5  \\\n0              5.0           1327.303388  17lzZA2AlOHwCwFALHttmp.jpg   \n1              5.0            972.460760  3TVXtAsR1Inumwj472S9r4.jpg   \n2              5.0           1202.361487  0VRj0yCOv2FXJNP47XQnx5.jpg   \n3              5.0           2479.834520  7c0XG5cIJTrrAgEC3ULPiq.jpg   \n4              6.0             68.977027  2iojnBLj0qIMiKPvVhLnsH.jpg   \n...            ...                   ...                         ...   \n2146           0.0              0.000000  1mU61l2mcjEFraXZLpvVMo.jpg   \n2147           0.0              0.000000  1WkB67ly6k7EVGJoNFj9YO.jpg   \n2148           0.0              0.000000  5eyMzR1hYiEZtN2c9ly2kw.jpg   \n2149           0.0              0.000000  4hwJwkgsufeilLXS1ZfJqq.jpg   \n2150           7.0              0.547222  7okwEbXzyT2VffBmyQBWLz.jpg   \n\n                                                      4  \\\n0     hip hop, pop, pop rap, rap, southern hip hop, ...   \n1     canadian hip hop, canadian pop, hip hop, pop r...   \n2                                                   NaN   \n3                         pop, pop rap, rap, trap music   \n4     dance pop, indie r&b, pop, pop rap, r&b, south...   \n...                                                 ...   \n2146                                                NaN   \n2147                                                NaN   \n2148                                      reggae fusion   \n2149  indie pop, indie poptimism, indie rockism, mod...   \n2150  latin, latin arena pop, latin rock, mexican po...   \n\n      harmonicclosnesscentrality              Spotify ID  degree  triangles  \\\n0                       0.483401  17lzZA2AlOHwCwFALHttmp      32        109   \n1                       0.457287  3TVXtAsR1Inumwj472S9r4      21         53   \n2                       0.478677  0VRj0yCOv2FXJNP47XQnx5      31         98   \n3                       0.503171  7c0XG5cIJTrrAgEC3ULPiq      35         96   \n4                       0.396086  2iojnBLj0qIMiKPvVhLnsH      10         17   \n...                          ...                     ...     ...        ...   \n2146                    0.000000  1mU61l2mcjEFraXZLpvVMo       0          0   \n2147                    0.000000  1WkB67ly6k7EVGJoNFj9YO       0          0   \n2148                    0.000000  5eyMzR1hYiEZtN2c9ly2kw       0          0   \n2149                    0.000000  4hwJwkgsufeilLXS1ZfJqq       0          0   \n2150                    0.265732  7okwEbXzyT2VffBmyQBWLz       3          2   \n\n      clustering  modularity_class  closnesscentrality  weighted degree  \n0       0.219758               672            0.412354            108.0  \n1       0.252381               856            0.404255             68.0  \n2       0.210753               672            0.410982            106.0  \n3       0.161345              1233            0.435626             92.0  \n4       0.377778              1233            0.353868             24.0  \n...          ...               ...                 ...              ...  \n2146    0.000000              1905            0.000000              0.0  \n2147    0.000000              1906            0.000000              0.0  \n2148    0.000000              1907            0.000000              0.0  \n2149    0.000000              1908            0.000000              0.0  \n2150    0.666667               416            0.240272              6.0  \n\n[2151 rows x 17 columns]",
      "text/html": "<div>\n<style scoped>\n    .dataframe tbody tr th:only-of-type {\n        vertical-align: middle;\n    }\n\n    .dataframe tbody tr th {\n        vertical-align: top;\n    }\n\n    .dataframe thead th {\n        text-align: right;\n    }\n</style>\n<table border=\"1\" class=\"dataframe\">\n  <thead>\n    <tr style=\"text-align: right;\">\n      <th></th>\n      <th>eigencentrality</th>\n      <th>1</th>\n      <th>0</th>\n      <th>2</th>\n      <th>3</th>\n      <th>eccentricity</th>\n      <th>betweenesscentrality</th>\n      <th>5</th>\n      <th>4</th>\n      <th>harmonicclosnesscentrality</th>\n      <th>Spotify ID</th>\n      <th>degree</th>\n      <th>triangles</th>\n      <th>clustering</th>\n      <th>modularity_class</th>\n      <th>closnesscentrality</th>\n      <th>weighted degree</th>\n    </tr>\n  </thead>\n  <tbody>\n    <tr>\n      <th>0</th>\n      <td>1.000000</td>\n      <td>2 Chainz</td>\n      <td>1</td>\n      <td>83</td>\n      <td>3141364</td>\n      <td>5.0</td>\n      <td>1327.303388</td>\n      <td>17lzZA2AlOHwCwFALHttmp.jpg</td>\n      <td>hip hop, pop, pop rap, rap, southern hip hop, ...</td>\n      <td>0.483401</td>\n      <td>17lzZA2AlOHwCwFALHttmp</td>\n      <td>32</td>\n      <td>109</td>\n      <td>0.219758</td>\n      <td>672</td>\n      <td>0.412354</td>\n      <td>108.0</td>\n    </tr>\n    <tr>\n      <th>1</th>\n      <td>0.720310</td>\n      <td>Drake</td>\n      <td>2</td>\n      <td>100</td>\n      <td>23732186</td>\n      <td>5.0</td>\n      <td>972.460760</td>\n      <td>3TVXtAsR1Inumwj472S9r4.jpg</td>\n      <td>canadian hip hop, canadian pop, hip hop, pop r...</td>\n      <td>0.457287</td>\n      <td>3TVXtAsR1Inumwj472S9r4</td>\n      <td>21</td>\n      <td>53</td>\n      <td>0.252381</td>\n      <td>856</td>\n      <td>0.404255</td>\n      <td>68.0</td>\n    </tr>\n    <tr>\n      <th>2</th>\n      <td>0.932713</td>\n      <td>Quavo</td>\n      <td>3</td>\n      <td>84</td>\n      <td>1819632</td>\n      <td>5.0</td>\n      <td>1202.361487</td>\n      <td>0VRj0yCOv2FXJNP47XQnx5.jpg</td>\n      <td>NaN</td>\n      <td>0.478677</td>\n      <td>0VRj0yCOv2FXJNP47XQnx5</td>\n      <td>31</td>\n      <td>98</td>\n      <td>0.210753</td>\n      <td>672</td>\n      <td>0.410982</td>\n      <td>106.0</td>\n    </tr>\n    <tr>\n      <th>3</th>\n      <td>0.942299</td>\n      <td>Ty Dolla $ign</td>\n      <td>4</td>\n      <td>87</td>\n      <td>1939644</td>\n      <td>5.0</td>\n      <td>2479.834520</td>\n      <td>7c0XG5cIJTrrAgEC3ULPiq.jpg</td>\n      <td>pop, pop rap, rap, trap music</td>\n      <td>0.503171</td>\n      <td>7c0XG5cIJTrrAgEC3ULPiq</td>\n      <td>35</td>\n      <td>96</td>\n      <td>0.161345</td>\n      <td>1233</td>\n      <td>0.435626</td>\n      <td>92.0</td>\n    </tr>\n    <tr>\n      <th>4</th>\n      <td>0.349635</td>\n      <td>Trey Songz</td>\n      <td>5</td>\n      <td>75</td>\n      <td>3256433</td>\n      <td>6.0</td>\n      <td>68.977027</td>\n      <td>2iojnBLj0qIMiKPvVhLnsH.jpg</td>\n      <td>dance pop, indie r&amp;b, pop, pop rap, r&amp;b, south...</td>\n      <td>0.396086</td>\n      <td>2iojnBLj0qIMiKPvVhLnsH</td>\n      <td>10</td>\n      <td>17</td>\n      <td>0.377778</td>\n      <td>1233</td>\n      <td>0.353868</td>\n      <td>24.0</td>\n    </tr>\n    <tr>\n      <th>...</th>\n      <td>...</td>\n      <td>...</td>\n      <td>...</td>\n      <td>...</td>\n      <td>...</td>\n      <td>...</td>\n      <td>...</td>\n      <td>...</td>\n      <td>...</td>\n      <td>...</td>\n      <td>...</td>\n      <td>...</td>\n      <td>...</td>\n      <td>...</td>\n      <td>...</td>\n      <td>...</td>\n      <td>...</td>\n    </tr>\n    <tr>\n      <th>2146</th>\n      <td>0.000000</td>\n      <td>Matthew Koma</td>\n      <td>2148</td>\n      <td>61</td>\n      <td>68641</td>\n      <td>0.0</td>\n      <td>0.000000</td>\n      <td>1mU61l2mcjEFraXZLpvVMo.jpg</td>\n      <td>NaN</td>\n      <td>0.000000</td>\n      <td>1mU61l2mcjEFraXZLpvVMo</td>\n      <td>0</td>\n      <td>0</td>\n      <td>0.000000</td>\n      <td>1905</td>\n      <td>0.000000</td>\n      <td>0.0</td>\n    </tr>\n    <tr>\n      <th>2147</th>\n      <td>0.000000</td>\n      <td>Rome of Sublime with Rome</td>\n      <td>2149</td>\n      <td>39</td>\n      <td>93</td>\n      <td>0.0</td>\n      <td>0.000000</td>\n      <td>1WkB67ly6k7EVGJoNFj9YO.jpg</td>\n      <td>NaN</td>\n      <td>0.000000</td>\n      <td>1WkB67ly6k7EVGJoNFj9YO</td>\n      <td>0</td>\n      <td>0</td>\n      <td>0.000000</td>\n      <td>1906</td>\n      <td>0.000000</td>\n      <td>0.0</td>\n    </tr>\n    <tr>\n      <th>2148</th>\n      <td>0.000000</td>\n      <td>Matisyahu</td>\n      <td>2150</td>\n      <td>60</td>\n      <td>437153</td>\n      <td>0.0</td>\n      <td>0.000000</td>\n      <td>5eyMzR1hYiEZtN2c9ly2kw.jpg</td>\n      <td>reggae fusion</td>\n      <td>0.000000</td>\n      <td>5eyMzR1hYiEZtN2c9ly2kw</td>\n      <td>0</td>\n      <td>0</td>\n      <td>0.000000</td>\n      <td>1907</td>\n      <td>0.000000</td>\n      <td>0.0</td>\n    </tr>\n    <tr>\n      <th>2149</th>\n      <td>0.000000</td>\n      <td>The Unlikely Candidates</td>\n      <td>2151</td>\n      <td>53</td>\n      <td>29455</td>\n      <td>0.0</td>\n      <td>0.000000</td>\n      <td>4hwJwkgsufeilLXS1ZfJqq.jpg</td>\n      <td>indie pop, indie poptimism, indie rockism, mod...</td>\n      <td>0.000000</td>\n      <td>4hwJwkgsufeilLXS1ZfJqq</td>\n      <td>0</td>\n      <td>0</td>\n      <td>0.000000</td>\n      <td>1908</td>\n      <td>0.000000</td>\n      <td>0.0</td>\n    </tr>\n    <tr>\n      <th>2150</th>\n      <td>0.022912</td>\n      <td>Maná</td>\n      <td>2152</td>\n      <td>72</td>\n      <td>3157313</td>\n      <td>7.0</td>\n      <td>0.547222</td>\n      <td>7okwEbXzyT2VffBmyQBWLz.jpg</td>\n      <td>latin, latin arena pop, latin rock, mexican po...</td>\n      <td>0.265732</td>\n      <td>7okwEbXzyT2VffBmyQBWLz</td>\n      <td>3</td>\n      <td>2</td>\n      <td>0.666667</td>\n      <td>416</td>\n      <td>0.240272</td>\n      <td>6.0</td>\n    </tr>\n  </tbody>\n</table>\n<p>2151 rows × 17 columns</p>\n</div>"
     },
     "execution_count": 73,
     "metadata": {},
     "output_type": "execute_result"
    }
   ],
   "source": [
    "import pandas as pd\n",
    "\n",
    "df_nodes = pd.read_csv(\"../../Java/resources/nodes.csv\", sep=\"\\t\")\n",
    "df_nodes.drop(columns=[\"label\", \"Id\", \"timeset\"], inplace=True)\n",
    "df_nodes.rename(columns={\"id\" : \"Spotify ID\"}, inplace=True)\n",
    "df_nodes"
   ]
  },
  {
   "cell_type": "code",
   "execution_count": 74,
   "id": "887de270c031d77",
   "metadata": {
    "collapsed": false,
    "ExecuteTime": {
     "end_time": "2024-03-03T16:52:32.020212400Z",
     "start_time": "2024-03-03T16:52:31.893216300Z"
    }
   },
   "outputs": [],
   "source": [
    "# Define dictionaries for id and title attributes\n",
    "id_dict = {\n",
    "    \"0\": \"Id\",\n",
    "    \"1\": \"name\",\n",
    "    \"2\": \"popularity\",\n",
    "    \"3\": \"followers\",\n",
    "    \"4\": \"genres\",\n",
    "    \"5\": \"image\"\n",
    "}\n",
    "\n",
    "title_dict = {\n",
    "    \"6\": \"Source\",\n",
    "    \"7\": \"Target\",\n",
    "    \"8\": \"Type\",\n",
    "    \"9\": \"Id\",\n",
    "    \"10\": \"Weight\",\n",
    "    \"11\": \"name1\",\n",
    "    \"12\": \"name2\",\n",
    "    \"13\": \"id_track\",\n",
    "    \"14\": \"label_track\",\n",
    "    \"15\": \"title\",\n",
    "    \"16\": \"explicit\",\n",
    "    \"17\": \"popularity\",\n",
    "    \"18\": \"release_date\",\n",
    "    \"19\": \"release_date_precision\"\n",
    "}"
   ]
  },
  {
   "cell_type": "code",
   "execution_count": 75,
   "id": "1deaa008b0969468",
   "metadata": {
    "collapsed": false,
    "ExecuteTime": {
     "end_time": "2024-03-03T16:52:32.021212Z",
     "start_time": "2024-03-03T16:52:31.907213200Z"
    }
   },
   "outputs": [
    {
     "data": {
      "text/plain": "      eigencentrality                                   name    Id  \\\n1261         0.000000                             Zach Banks  1262   \n324          0.000000                                   Scar   325   \n1849         0.000000  Members Of The Philharmonia Orchestra  1851   \n1898         0.000000                     Frederic Riesterer  1900   \n323          0.000000                                  Trozé   324   \n...               ...                                    ...   ...   \n771          0.264668                                 Eminem   772   \n1            0.720310                                  Drake     2   \n489          0.385636                          Justin Bieber   490   \n470          0.258926                                Rihanna   471   \n604          0.098131                             Ed Sheeran   605   \n\n      popularity  followers  eccentricity  betweenesscentrality  \\\n1261           0          0           0.0              0.000000   \n324           30          0           0.0              0.000000   \n1849          42          0           0.0              0.000000   \n1898          45          1           0.0              0.000000   \n323           33          2           0.0              0.000000   \n...          ...        ...           ...                   ...   \n771           87   18534540           5.0           1032.602442   \n1            100   23732186           5.0            972.460760   \n489           84   24030924           5.0            784.028797   \n470           86   25440072           5.0            255.750755   \n604           89   29165243           5.0            414.157670   \n\n                           image  \\\n1261  1ScRjdiVZHzUR9oSqixDd9.jpg   \n324   1coyeuSsdVsWKfDOa6QXQF.jpg   \n1849  4w62fxz0Jcdpcv3pHmFZm8.jpg   \n1898  6mr36E8GEO5zhtL71GCrZ5.jpg   \n323   1IPygUCTMzOMiY6Y7xPvnh.jpg   \n...                          ...   \n771   7dGJo4pcD2V6oG8kP0tJRR.jpg   \n1     3TVXtAsR1Inumwj472S9r4.jpg   \n489   1uNFoZAHBGtllmzznpCI3s.jpg   \n470   5pKCCKE2ajJHZ9KAiaK11H.jpg   \n604   6eUKZXaKkcviH0Ku9w2n3V.jpg   \n\n                                                 genres  \\\n1261                                                NaN   \n324                                                 NaN   \n1849                                                NaN   \n1898                                                NaN   \n323                                                 NaN   \n...                                                 ...   \n771               detroit hip hop, g funk, hip hop, rap   \n1     canadian hip hop, canadian pop, hip hop, pop r...   \n489         canadian pop, dance pop, pop, post-teen pop   \n470             dance pop, pop, r&b, urban contemporary   \n604                                                 pop   \n\n      harmonicclosnesscentrality              Spotify ID  degree  triangles  \\\n1261                    0.000000  1ScRjdiVZHzUR9oSqixDd9       0          0   \n324                     0.000000  1coyeuSsdVsWKfDOa6QXQF       0          0   \n1849                    0.000000  4w62fxz0Jcdpcv3pHmFZm8       0          0   \n1898                    0.000000  6mr36E8GEO5zhtL71GCrZ5       0          0   \n323                     0.000000  1IPygUCTMzOMiY6Y7xPvnh       0          0   \n...                          ...                     ...     ...        ...   \n771                     0.388394  7dGJo4pcD2V6oG8kP0tJRR      10         11   \n1                       0.457287  3TVXtAsR1Inumwj472S9r4      21         53   \n489                     0.432456  1uNFoZAHBGtllmzznpCI3s      14         18   \n470                     0.393522  5pKCCKE2ajJHZ9KAiaK11H      11         11   \n604                     0.360526  6eUKZXaKkcviH0Ku9w2n3V       7          2   \n\n      clustering  modularity_class  closnesscentrality  weighted degree  \n1261    0.000000              1066            0.000000              0.0  \n324     0.000000               243            0.000000              0.0  \n1849    0.000000              1615            0.000000              0.0  \n1898    0.000000              1664            0.000000              0.0  \n323     0.000000               242            0.000000              0.0  \n...          ...               ...                 ...              ...  \n771     0.244444               672            0.348378             26.0  \n1       0.252381               856            0.404255             68.0  \n489     0.197802               856            0.387147             34.0  \n470     0.200000               856            0.353868             24.0  \n604     0.095238              1703            0.329773             14.0  \n\n[2151 rows x 17 columns]",
      "text/html": "<div>\n<style scoped>\n    .dataframe tbody tr th:only-of-type {\n        vertical-align: middle;\n    }\n\n    .dataframe tbody tr th {\n        vertical-align: top;\n    }\n\n    .dataframe thead th {\n        text-align: right;\n    }\n</style>\n<table border=\"1\" class=\"dataframe\">\n  <thead>\n    <tr style=\"text-align: right;\">\n      <th></th>\n      <th>eigencentrality</th>\n      <th>name</th>\n      <th>Id</th>\n      <th>popularity</th>\n      <th>followers</th>\n      <th>eccentricity</th>\n      <th>betweenesscentrality</th>\n      <th>image</th>\n      <th>genres</th>\n      <th>harmonicclosnesscentrality</th>\n      <th>Spotify ID</th>\n      <th>degree</th>\n      <th>triangles</th>\n      <th>clustering</th>\n      <th>modularity_class</th>\n      <th>closnesscentrality</th>\n      <th>weighted degree</th>\n    </tr>\n  </thead>\n  <tbody>\n    <tr>\n      <th>1261</th>\n      <td>0.000000</td>\n      <td>Zach Banks</td>\n      <td>1262</td>\n      <td>0</td>\n      <td>0</td>\n      <td>0.0</td>\n      <td>0.000000</td>\n      <td>1ScRjdiVZHzUR9oSqixDd9.jpg</td>\n      <td>NaN</td>\n      <td>0.000000</td>\n      <td>1ScRjdiVZHzUR9oSqixDd9</td>\n      <td>0</td>\n      <td>0</td>\n      <td>0.000000</td>\n      <td>1066</td>\n      <td>0.000000</td>\n      <td>0.0</td>\n    </tr>\n    <tr>\n      <th>324</th>\n      <td>0.000000</td>\n      <td>Scar</td>\n      <td>325</td>\n      <td>30</td>\n      <td>0</td>\n      <td>0.0</td>\n      <td>0.000000</td>\n      <td>1coyeuSsdVsWKfDOa6QXQF.jpg</td>\n      <td>NaN</td>\n      <td>0.000000</td>\n      <td>1coyeuSsdVsWKfDOa6QXQF</td>\n      <td>0</td>\n      <td>0</td>\n      <td>0.000000</td>\n      <td>243</td>\n      <td>0.000000</td>\n      <td>0.0</td>\n    </tr>\n    <tr>\n      <th>1849</th>\n      <td>0.000000</td>\n      <td>Members Of The Philharmonia Orchestra</td>\n      <td>1851</td>\n      <td>42</td>\n      <td>0</td>\n      <td>0.0</td>\n      <td>0.000000</td>\n      <td>4w62fxz0Jcdpcv3pHmFZm8.jpg</td>\n      <td>NaN</td>\n      <td>0.000000</td>\n      <td>4w62fxz0Jcdpcv3pHmFZm8</td>\n      <td>0</td>\n      <td>0</td>\n      <td>0.000000</td>\n      <td>1615</td>\n      <td>0.000000</td>\n      <td>0.0</td>\n    </tr>\n    <tr>\n      <th>1898</th>\n      <td>0.000000</td>\n      <td>Frederic Riesterer</td>\n      <td>1900</td>\n      <td>45</td>\n      <td>1</td>\n      <td>0.0</td>\n      <td>0.000000</td>\n      <td>6mr36E8GEO5zhtL71GCrZ5.jpg</td>\n      <td>NaN</td>\n      <td>0.000000</td>\n      <td>6mr36E8GEO5zhtL71GCrZ5</td>\n      <td>0</td>\n      <td>0</td>\n      <td>0.000000</td>\n      <td>1664</td>\n      <td>0.000000</td>\n      <td>0.0</td>\n    </tr>\n    <tr>\n      <th>323</th>\n      <td>0.000000</td>\n      <td>Trozé</td>\n      <td>324</td>\n      <td>33</td>\n      <td>2</td>\n      <td>0.0</td>\n      <td>0.000000</td>\n      <td>1IPygUCTMzOMiY6Y7xPvnh.jpg</td>\n      <td>NaN</td>\n      <td>0.000000</td>\n      <td>1IPygUCTMzOMiY6Y7xPvnh</td>\n      <td>0</td>\n      <td>0</td>\n      <td>0.000000</td>\n      <td>242</td>\n      <td>0.000000</td>\n      <td>0.0</td>\n    </tr>\n    <tr>\n      <th>...</th>\n      <td>...</td>\n      <td>...</td>\n      <td>...</td>\n      <td>...</td>\n      <td>...</td>\n      <td>...</td>\n      <td>...</td>\n      <td>...</td>\n      <td>...</td>\n      <td>...</td>\n      <td>...</td>\n      <td>...</td>\n      <td>...</td>\n      <td>...</td>\n      <td>...</td>\n      <td>...</td>\n      <td>...</td>\n    </tr>\n    <tr>\n      <th>771</th>\n      <td>0.264668</td>\n      <td>Eminem</td>\n      <td>772</td>\n      <td>87</td>\n      <td>18534540</td>\n      <td>5.0</td>\n      <td>1032.602442</td>\n      <td>7dGJo4pcD2V6oG8kP0tJRR.jpg</td>\n      <td>detroit hip hop, g funk, hip hop, rap</td>\n      <td>0.388394</td>\n      <td>7dGJo4pcD2V6oG8kP0tJRR</td>\n      <td>10</td>\n      <td>11</td>\n      <td>0.244444</td>\n      <td>672</td>\n      <td>0.348378</td>\n      <td>26.0</td>\n    </tr>\n    <tr>\n      <th>1</th>\n      <td>0.720310</td>\n      <td>Drake</td>\n      <td>2</td>\n      <td>100</td>\n      <td>23732186</td>\n      <td>5.0</td>\n      <td>972.460760</td>\n      <td>3TVXtAsR1Inumwj472S9r4.jpg</td>\n      <td>canadian hip hop, canadian pop, hip hop, pop r...</td>\n      <td>0.457287</td>\n      <td>3TVXtAsR1Inumwj472S9r4</td>\n      <td>21</td>\n      <td>53</td>\n      <td>0.252381</td>\n      <td>856</td>\n      <td>0.404255</td>\n      <td>68.0</td>\n    </tr>\n    <tr>\n      <th>489</th>\n      <td>0.385636</td>\n      <td>Justin Bieber</td>\n      <td>490</td>\n      <td>84</td>\n      <td>24030924</td>\n      <td>5.0</td>\n      <td>784.028797</td>\n      <td>1uNFoZAHBGtllmzznpCI3s.jpg</td>\n      <td>canadian pop, dance pop, pop, post-teen pop</td>\n      <td>0.432456</td>\n      <td>1uNFoZAHBGtllmzznpCI3s</td>\n      <td>14</td>\n      <td>18</td>\n      <td>0.197802</td>\n      <td>856</td>\n      <td>0.387147</td>\n      <td>34.0</td>\n    </tr>\n    <tr>\n      <th>470</th>\n      <td>0.258926</td>\n      <td>Rihanna</td>\n      <td>471</td>\n      <td>86</td>\n      <td>25440072</td>\n      <td>5.0</td>\n      <td>255.750755</td>\n      <td>5pKCCKE2ajJHZ9KAiaK11H.jpg</td>\n      <td>dance pop, pop, r&amp;b, urban contemporary</td>\n      <td>0.393522</td>\n      <td>5pKCCKE2ajJHZ9KAiaK11H</td>\n      <td>11</td>\n      <td>11</td>\n      <td>0.200000</td>\n      <td>856</td>\n      <td>0.353868</td>\n      <td>24.0</td>\n    </tr>\n    <tr>\n      <th>604</th>\n      <td>0.098131</td>\n      <td>Ed Sheeran</td>\n      <td>605</td>\n      <td>89</td>\n      <td>29165243</td>\n      <td>5.0</td>\n      <td>414.157670</td>\n      <td>6eUKZXaKkcviH0Ku9w2n3V.jpg</td>\n      <td>pop</td>\n      <td>0.360526</td>\n      <td>6eUKZXaKkcviH0Ku9w2n3V</td>\n      <td>7</td>\n      <td>2</td>\n      <td>0.095238</td>\n      <td>1703</td>\n      <td>0.329773</td>\n      <td>14.0</td>\n    </tr>\n  </tbody>\n</table>\n<p>2151 rows × 17 columns</p>\n</div>"
     },
     "execution_count": 75,
     "metadata": {},
     "output_type": "execute_result"
    }
   ],
   "source": [
    "df_nodes.rename(columns=id_dict, inplace=True)\n",
    "df_nodes.sort_values(by=\"followers\", inplace=True)\n",
    "df_nodes"
   ]
  },
  {
   "cell_type": "markdown",
   "id": "8554d26fc8dc53cf",
   "metadata": {
    "collapsed": false
   },
   "source": [
    "Read in Original nodes:"
   ]
  },
  {
   "cell_type": "code",
   "execution_count": 76,
   "id": "521654f074506cb1",
   "metadata": {
    "collapsed": false,
    "ExecuteTime": {
     "end_time": "2024-03-03T16:52:32.022213300Z",
     "start_time": "2024-03-03T16:52:31.938214100Z"
    }
   },
   "outputs": [
    {
     "data": {
      "text/plain": "        Id                                   name  popularity  followers  \\\n1261  1262                             Zach Banks           0          0   \n324    325                                   Scar          30          0   \n1850  1851  Members Of The Philharmonia Orchestra          42          0   \n1899  1900                     Frederic Riesterer          45          1   \n1957  1958                   Alex Spanador Mosely          28          2   \n...    ...                                    ...         ...        ...   \n771    772                                 Eminem          87   18534540   \n1        2                                  Drake         100   23732186   \n489    490                          Justin Bieber          84   24030924   \n470    471                                Rihanna          86   25440072   \n604    605                             Ed Sheeran          89   29165243   \n\n                                                 genres  \\\n1261                                                NaN   \n324                                                 NaN   \n1850                                                NaN   \n1899                                                NaN   \n1957                                                NaN   \n...                                                 ...   \n771               detroit hip hop, g funk, hip hop, rap   \n1     canadian hip hop, canadian pop, hip hop, pop r...   \n489         canadian pop, dance pop, pop, post-teen pop   \n470             dance pop, pop, r&b, urban contemporary   \n604                                                 pop   \n\n                           image  degree  weighted degree  eccentricity  \\\n1261  1ScRjdiVZHzUR9oSqixDd9.jpg       0                0             0   \n324   1coyeuSsdVsWKfDOa6QXQF.jpg       0                0             0   \n1850  4w62fxz0Jcdpcv3pHmFZm8.jpg       0                0             0   \n1899  6mr36E8GEO5zhtL71GCrZ5.jpg       0                0             0   \n1957  0QUqjfCjpVYGLBSFD6Dhxn.jpg       0                0             0   \n...                          ...     ...              ...           ...   \n771   7dGJo4pcD2V6oG8kP0tJRR.jpg      10               26             5   \n1     3TVXtAsR1Inumwj472S9r4.jpg      21               68             5   \n489   1uNFoZAHBGtllmzznpCI3s.jpg      14               34             5   \n470   5pKCCKE2ajJHZ9KAiaK11H.jpg      11               24             5   \n604   6eUKZXaKkcviH0Ku9w2n3V.jpg       7               14             5   \n\n      closnesscentrality  harmonicclosnesscentrality  betweenesscentrality  \\\n1261            0.000000                    0.000000              0.000000   \n324             0.000000                    0.000000              0.000000   \n1850            0.000000                    0.000000              0.000000   \n1899            0.000000                    0.000000              0.000000   \n1957            0.000000                    0.000000              0.000000   \n...                  ...                         ...                   ...   \n771             0.348378                    0.388394              0.000447   \n1               0.404255                    0.457287              0.000421   \n489             0.387147                    0.432456              0.000339   \n470             0.353868                    0.393522              0.000111   \n604             0.329773                    0.360526              0.000179   \n\n      modularity_class  clustering  eigencentrality              Spotify ID  \n1261              1070    0.000000         0.000000  1ScRjdiVZHzUR9oSqixDd9  \n324                244    0.000000         0.000000  1coyeuSsdVsWKfDOa6QXQF  \n1850              1618    0.000000         0.000000  4w62fxz0Jcdpcv3pHmFZm8  \n1899              1667    0.000000         0.000000  6mr36E8GEO5zhtL71GCrZ5  \n1957              1723    0.000000         0.000000  0QUqjfCjpVYGLBSFD6Dhxn  \n...                ...         ...              ...                     ...  \n771                675    0.244444         0.264668  7dGJo4pcD2V6oG8kP0tJRR  \n1                  446    0.252381         0.720310  3TVXtAsR1Inumwj472S9r4  \n489                446    0.197802         0.385636  1uNFoZAHBGtllmzznpCI3s  \n470                446    0.200000         0.258926  5pKCCKE2ajJHZ9KAiaK11H  \n604               1755    0.095238         0.098131  6eUKZXaKkcviH0Ku9w2n3V  \n\n[2152 rows x 16 columns]",
      "text/html": "<div>\n<style scoped>\n    .dataframe tbody tr th:only-of-type {\n        vertical-align: middle;\n    }\n\n    .dataframe tbody tr th {\n        vertical-align: top;\n    }\n\n    .dataframe thead th {\n        text-align: right;\n    }\n</style>\n<table border=\"1\" class=\"dataframe\">\n  <thead>\n    <tr style=\"text-align: right;\">\n      <th></th>\n      <th>Id</th>\n      <th>name</th>\n      <th>popularity</th>\n      <th>followers</th>\n      <th>genres</th>\n      <th>image</th>\n      <th>degree</th>\n      <th>weighted degree</th>\n      <th>eccentricity</th>\n      <th>closnesscentrality</th>\n      <th>harmonicclosnesscentrality</th>\n      <th>betweenesscentrality</th>\n      <th>modularity_class</th>\n      <th>clustering</th>\n      <th>eigencentrality</th>\n      <th>Spotify ID</th>\n    </tr>\n  </thead>\n  <tbody>\n    <tr>\n      <th>1261</th>\n      <td>1262</td>\n      <td>Zach Banks</td>\n      <td>0</td>\n      <td>0</td>\n      <td>NaN</td>\n      <td>1ScRjdiVZHzUR9oSqixDd9.jpg</td>\n      <td>0</td>\n      <td>0</td>\n      <td>0</td>\n      <td>0.000000</td>\n      <td>0.000000</td>\n      <td>0.000000</td>\n      <td>1070</td>\n      <td>0.000000</td>\n      <td>0.000000</td>\n      <td>1ScRjdiVZHzUR9oSqixDd9</td>\n    </tr>\n    <tr>\n      <th>324</th>\n      <td>325</td>\n      <td>Scar</td>\n      <td>30</td>\n      <td>0</td>\n      <td>NaN</td>\n      <td>1coyeuSsdVsWKfDOa6QXQF.jpg</td>\n      <td>0</td>\n      <td>0</td>\n      <td>0</td>\n      <td>0.000000</td>\n      <td>0.000000</td>\n      <td>0.000000</td>\n      <td>244</td>\n      <td>0.000000</td>\n      <td>0.000000</td>\n      <td>1coyeuSsdVsWKfDOa6QXQF</td>\n    </tr>\n    <tr>\n      <th>1850</th>\n      <td>1851</td>\n      <td>Members Of The Philharmonia Orchestra</td>\n      <td>42</td>\n      <td>0</td>\n      <td>NaN</td>\n      <td>4w62fxz0Jcdpcv3pHmFZm8.jpg</td>\n      <td>0</td>\n      <td>0</td>\n      <td>0</td>\n      <td>0.000000</td>\n      <td>0.000000</td>\n      <td>0.000000</td>\n      <td>1618</td>\n      <td>0.000000</td>\n      <td>0.000000</td>\n      <td>4w62fxz0Jcdpcv3pHmFZm8</td>\n    </tr>\n    <tr>\n      <th>1899</th>\n      <td>1900</td>\n      <td>Frederic Riesterer</td>\n      <td>45</td>\n      <td>1</td>\n      <td>NaN</td>\n      <td>6mr36E8GEO5zhtL71GCrZ5.jpg</td>\n      <td>0</td>\n      <td>0</td>\n      <td>0</td>\n      <td>0.000000</td>\n      <td>0.000000</td>\n      <td>0.000000</td>\n      <td>1667</td>\n      <td>0.000000</td>\n      <td>0.000000</td>\n      <td>6mr36E8GEO5zhtL71GCrZ5</td>\n    </tr>\n    <tr>\n      <th>1957</th>\n      <td>1958</td>\n      <td>Alex Spanador Mosely</td>\n      <td>28</td>\n      <td>2</td>\n      <td>NaN</td>\n      <td>0QUqjfCjpVYGLBSFD6Dhxn.jpg</td>\n      <td>0</td>\n      <td>0</td>\n      <td>0</td>\n      <td>0.000000</td>\n      <td>0.000000</td>\n      <td>0.000000</td>\n      <td>1723</td>\n      <td>0.000000</td>\n      <td>0.000000</td>\n      <td>0QUqjfCjpVYGLBSFD6Dhxn</td>\n    </tr>\n    <tr>\n      <th>...</th>\n      <td>...</td>\n      <td>...</td>\n      <td>...</td>\n      <td>...</td>\n      <td>...</td>\n      <td>...</td>\n      <td>...</td>\n      <td>...</td>\n      <td>...</td>\n      <td>...</td>\n      <td>...</td>\n      <td>...</td>\n      <td>...</td>\n      <td>...</td>\n      <td>...</td>\n      <td>...</td>\n    </tr>\n    <tr>\n      <th>771</th>\n      <td>772</td>\n      <td>Eminem</td>\n      <td>87</td>\n      <td>18534540</td>\n      <td>detroit hip hop, g funk, hip hop, rap</td>\n      <td>7dGJo4pcD2V6oG8kP0tJRR.jpg</td>\n      <td>10</td>\n      <td>26</td>\n      <td>5</td>\n      <td>0.348378</td>\n      <td>0.388394</td>\n      <td>0.000447</td>\n      <td>675</td>\n      <td>0.244444</td>\n      <td>0.264668</td>\n      <td>7dGJo4pcD2V6oG8kP0tJRR</td>\n    </tr>\n    <tr>\n      <th>1</th>\n      <td>2</td>\n      <td>Drake</td>\n      <td>100</td>\n      <td>23732186</td>\n      <td>canadian hip hop, canadian pop, hip hop, pop r...</td>\n      <td>3TVXtAsR1Inumwj472S9r4.jpg</td>\n      <td>21</td>\n      <td>68</td>\n      <td>5</td>\n      <td>0.404255</td>\n      <td>0.457287</td>\n      <td>0.000421</td>\n      <td>446</td>\n      <td>0.252381</td>\n      <td>0.720310</td>\n      <td>3TVXtAsR1Inumwj472S9r4</td>\n    </tr>\n    <tr>\n      <th>489</th>\n      <td>490</td>\n      <td>Justin Bieber</td>\n      <td>84</td>\n      <td>24030924</td>\n      <td>canadian pop, dance pop, pop, post-teen pop</td>\n      <td>1uNFoZAHBGtllmzznpCI3s.jpg</td>\n      <td>14</td>\n      <td>34</td>\n      <td>5</td>\n      <td>0.387147</td>\n      <td>0.432456</td>\n      <td>0.000339</td>\n      <td>446</td>\n      <td>0.197802</td>\n      <td>0.385636</td>\n      <td>1uNFoZAHBGtllmzznpCI3s</td>\n    </tr>\n    <tr>\n      <th>470</th>\n      <td>471</td>\n      <td>Rihanna</td>\n      <td>86</td>\n      <td>25440072</td>\n      <td>dance pop, pop, r&amp;b, urban contemporary</td>\n      <td>5pKCCKE2ajJHZ9KAiaK11H.jpg</td>\n      <td>11</td>\n      <td>24</td>\n      <td>5</td>\n      <td>0.353868</td>\n      <td>0.393522</td>\n      <td>0.000111</td>\n      <td>446</td>\n      <td>0.200000</td>\n      <td>0.258926</td>\n      <td>5pKCCKE2ajJHZ9KAiaK11H</td>\n    </tr>\n    <tr>\n      <th>604</th>\n      <td>605</td>\n      <td>Ed Sheeran</td>\n      <td>89</td>\n      <td>29165243</td>\n      <td>pop</td>\n      <td>6eUKZXaKkcviH0Ku9w2n3V.jpg</td>\n      <td>7</td>\n      <td>14</td>\n      <td>5</td>\n      <td>0.329773</td>\n      <td>0.360526</td>\n      <td>0.000179</td>\n      <td>1755</td>\n      <td>0.095238</td>\n      <td>0.098131</td>\n      <td>6eUKZXaKkcviH0Ku9w2n3V</td>\n    </tr>\n  </tbody>\n</table>\n<p>2152 rows × 16 columns</p>\n</div>"
     },
     "execution_count": 76,
     "metadata": {},
     "output_type": "execute_result"
    }
   ],
   "source": [
    "df_original_nodes = pd.read_csv(\"../network/Successful Network/Original Network/nodes_original.csv\", sep=\"\\t\")\n",
    "df_original_nodes.rename(columns={\"Eccentricity\": \"eccentricity\"}, inplace=True)\n",
    "df_original_nodes.sort_values(by=\"followers\", inplace=True)\n",
    "df_original_nodes"
   ]
  },
  {
   "cell_type": "code",
   "execution_count": 77,
   "id": "8d2c243b4cd28bf5",
   "metadata": {
    "collapsed": false,
    "ExecuteTime": {
     "end_time": "2024-03-03T16:52:32.022213300Z",
     "start_time": "2024-03-03T16:52:31.969213700Z"
    }
   },
   "outputs": [
    {
     "data": {
      "text/plain": "{710}"
     },
     "execution_count": 77,
     "metadata": {},
     "output_type": "execute_result"
    }
   ],
   "source": [
    "missed_id = set(df_original_nodes[\"Id\"]) - set(df_nodes[\"Id\"])\n",
    "missed_id"
   ]
  },
  {
   "cell_type": "code",
   "execution_count": 78,
   "id": "d83961f522c340a",
   "metadata": {
    "collapsed": false,
    "ExecuteTime": {
     "end_time": "2024-03-03T16:52:32.044213100Z",
     "start_time": "2024-03-03T16:52:31.985217400Z"
    }
   },
   "outputs": [],
   "source": [
    "df_original_nodes = df_original_nodes[(df_original_nodes[\"Id\"] != 710)]"
   ]
  },
  {
   "cell_type": "code",
   "execution_count": 79,
   "id": "eea162542391e6a9",
   "metadata": {
    "collapsed": false,
    "ExecuteTime": {
     "end_time": "2024-03-03T16:52:32.080212Z",
     "start_time": "2024-03-03T16:52:32.000213900Z"
    }
   },
   "outputs": [
    {
     "data": {
      "text/plain": "{'Id',\n 'Spotify ID',\n 'betweenesscentrality',\n 'closnesscentrality',\n 'clustering',\n 'degree',\n 'eccentricity',\n 'eigencentrality',\n 'followers',\n 'genres',\n 'harmonicclosnesscentrality',\n 'image',\n 'modularity_class',\n 'name',\n 'popularity',\n 'weighted degree'}"
     },
     "execution_count": 79,
     "metadata": {},
     "output_type": "execute_result"
    }
   ],
   "source": [
    "intersection = set(df_nodes.columns) & set(df_original_nodes.columns)\n",
    "intersection"
   ]
  },
  {
   "cell_type": "code",
   "execution_count": 80,
   "id": "8c6c206e7be1fe7",
   "metadata": {
    "collapsed": false,
    "ExecuteTime": {
     "end_time": "2024-03-03T16:52:32.086211800Z",
     "start_time": "2024-03-03T16:52:32.015213Z"
    }
   },
   "outputs": [
    {
     "data": {
      "text/plain": "{'betweenesscentrality',\n 'closnesscentrality',\n 'clustering',\n 'degree',\n 'eccentricity',\n 'eigencentrality',\n 'harmonicclosnesscentrality',\n 'modularity_class',\n 'weighted degree'}"
     },
     "execution_count": 80,
     "metadata": {},
     "output_type": "execute_result"
    }
   ],
   "source": [
    "to_be_removed = [\"Id\", \"Spotify ID\", \"followers\", \"genres\", \"image\", \"name\", \"popularity\"]\n",
    "\n",
    "\n",
    "for item in to_be_removed:\n",
    "    intersection.remove(item)\n",
    "\n",
    "intersection"
   ]
  },
  {
   "cell_type": "code",
   "execution_count": 81,
   "id": "c371b3fd4142100e",
   "metadata": {
    "collapsed": false,
    "ExecuteTime": {
     "end_time": "2024-03-03T16:52:32.106212400Z",
     "start_time": "2024-03-03T16:52:32.034213200Z"
    }
   },
   "outputs": [
    {
     "name": "stdout",
     "output_type": "stream",
     "text": [
      "Mean Absolute Error for each column:\n",
      "weighted degree: 0.0\n",
      "modularity_class: 48.668061366806135\n",
      "harmonicclosnesscentrality: 2.994719929561137e-08\n",
      "eigencentrality: 2.945415499776412e-08\n",
      "closnesscentrality: 2.5064458569521964e-08\n",
      "clustering: 1.675592177201391e-08\n",
      "eccentricity: 0.0\n",
      "betweenesscentrality: 32.807517193398425\n",
      "degree: 0.0\n"
     ]
    }
   ],
   "source": [
    "import pandas as pd\n",
    "from sklearn.metrics import mean_absolute_error\n",
    "\n",
    "def calculate_mae(df1, df2):\n",
    "    mae_results = {}\n",
    "\n",
    "    # Calculate MAE for each column\n",
    "    columns_of_df = set(df1.columns) & intersection\n",
    "    for col in columns_of_df:\n",
    "        mae = mean_absolute_error(df1[col], df2[col])\n",
    "        mae_results[col] = mae\n",
    "\n",
    "    return mae_results\n",
    "\n",
    "mae_values = calculate_mae(df_nodes, df_original_nodes)\n",
    "print(\"Mean Absolute Error for each column:\")\n",
    "for col, mae in mae_values.items():\n",
    "    print(f\"{col}: {mae}\")\n"
   ]
  },
  {
   "cell_type": "markdown",
   "source": [
    "in comparison to before \n",
    "\n",
    "equal:\n",
    "wdeg\n",
    "deg\n",
    "clust\n",
    "ecc\n",
    "close\n",
    "\n",
    "\n",
    "\n",
    "worse:\n",
    "between\n",
    "\n",
    "\n",
    "better:\n",
    "mod\n",
    "harm\n",
    "eig\n"
   ],
   "metadata": {
    "collapsed": false
   },
   "id": "84aad5ddf042354d"
  }
 ],
 "metadata": {
  "kernelspec": {
   "display_name": "Python 3",
   "language": "python",
   "name": "python3"
  },
  "language_info": {
   "codemirror_mode": {
    "name": "ipython",
    "version": 2
   },
   "file_extension": ".py",
   "mimetype": "text/x-python",
   "name": "python",
   "nbconvert_exporter": "python",
   "pygments_lexer": "ipython2",
   "version": "2.7.6"
  }
 },
 "nbformat": 4,
 "nbformat_minor": 5
}
