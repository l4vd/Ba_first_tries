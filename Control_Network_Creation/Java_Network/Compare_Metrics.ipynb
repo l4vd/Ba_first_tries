{
 "cells": [
  {
   "cell_type": "code",
   "execution_count": 46,
   "id": "initial_id",
   "metadata": {
    "collapsed": true,
    "ExecuteTime": {
     "end_time": "2024-03-04T12:46:23.431223100Z",
     "start_time": "2024-03-04T12:46:23.231226500Z"
    }
   },
   "outputs": [
    {
     "data": {
      "text/plain": "      eigencentrality                          1     0    2         3  \\\n0            1.000000                   2 Chainz     1   83   3141364   \n1            0.720310                      Drake     2  100  23732186   \n2            0.932713                      Quavo     3   84   1819632   \n3            0.942299              Ty Dolla $ign     4   87   1939644   \n4            0.349635                 Trey Songz     5   75   3256433   \n...               ...                        ...   ...  ...       ...   \n2146         0.000000               Matthew Koma  2148   61     68641   \n2147         0.000000  Rome of Sublime with Rome  2149   39        93   \n2148         0.000000                  Matisyahu  2150   60    437153   \n2149         0.000000    The Unlikely Candidates  2151   53     29455   \n2150         0.022912                       Maná  2152   72   3157313   \n\n      eccentricity  betweenesscentrality                           5  \\\n0              5.0           1327.303388  17lzZA2AlOHwCwFALHttmp.jpg   \n1              5.0            972.460760  3TVXtAsR1Inumwj472S9r4.jpg   \n2              5.0           1202.361487  0VRj0yCOv2FXJNP47XQnx5.jpg   \n3              5.0           2479.834520  7c0XG5cIJTrrAgEC3ULPiq.jpg   \n4              6.0             68.977027  2iojnBLj0qIMiKPvVhLnsH.jpg   \n...            ...                   ...                         ...   \n2146           0.0              0.000000  1mU61l2mcjEFraXZLpvVMo.jpg   \n2147           0.0              0.000000  1WkB67ly6k7EVGJoNFj9YO.jpg   \n2148           0.0              0.000000  5eyMzR1hYiEZtN2c9ly2kw.jpg   \n2149           0.0              0.000000  4hwJwkgsufeilLXS1ZfJqq.jpg   \n2150           7.0              0.547222  7okwEbXzyT2VffBmyQBWLz.jpg   \n\n                                                      4  \\\n0     hip hop, pop, pop rap, rap, southern hip hop, ...   \n1     canadian hip hop, canadian pop, hip hop, pop r...   \n2                                                   NaN   \n3                         pop, pop rap, rap, trap music   \n4     dance pop, indie r&b, pop, pop rap, r&b, south...   \n...                                                 ...   \n2146                                                NaN   \n2147                                                NaN   \n2148                                      reggae fusion   \n2149  indie pop, indie poptimism, indie rockism, mod...   \n2150  latin, latin arena pop, latin rock, mexican po...   \n\n      harmonicclosnesscentrality              Spotify ID  degree  triangles  \\\n0                       0.483401  17lzZA2AlOHwCwFALHttmp      32        109   \n1                       0.457287  3TVXtAsR1Inumwj472S9r4      21         53   \n2                       0.478677  0VRj0yCOv2FXJNP47XQnx5      31         98   \n3                       0.503171  7c0XG5cIJTrrAgEC3ULPiq      35         96   \n4                       0.396086  2iojnBLj0qIMiKPvVhLnsH      10         17   \n...                          ...                     ...     ...        ...   \n2146                    0.000000  1mU61l2mcjEFraXZLpvVMo       0          0   \n2147                    0.000000  1WkB67ly6k7EVGJoNFj9YO       0          0   \n2148                    0.000000  5eyMzR1hYiEZtN2c9ly2kw       0          0   \n2149                    0.000000  4hwJwkgsufeilLXS1ZfJqq       0          0   \n2150                    0.265732  7okwEbXzyT2VffBmyQBWLz       3          2   \n\n      clustering  modularity_class  closnesscentrality  weighted degree  \n0       0.219758               672            0.412354            108.0  \n1       0.252381               856            0.404255             68.0  \n2       0.210753               672            0.410982            106.0  \n3       0.161345              1233            0.435626             92.0  \n4       0.377778              1233            0.353868             24.0  \n...          ...               ...                 ...              ...  \n2146    0.000000              1905            0.000000              0.0  \n2147    0.000000              1906            0.000000              0.0  \n2148    0.000000              1907            0.000000              0.0  \n2149    0.000000              1908            0.000000              0.0  \n2150    0.666667               416            0.240272              6.0  \n\n[2151 rows x 17 columns]",
      "text/html": "<div>\n<style scoped>\n    .dataframe tbody tr th:only-of-type {\n        vertical-align: middle;\n    }\n\n    .dataframe tbody tr th {\n        vertical-align: top;\n    }\n\n    .dataframe thead th {\n        text-align: right;\n    }\n</style>\n<table border=\"1\" class=\"dataframe\">\n  <thead>\n    <tr style=\"text-align: right;\">\n      <th></th>\n      <th>eigencentrality</th>\n      <th>1</th>\n      <th>0</th>\n      <th>2</th>\n      <th>3</th>\n      <th>eccentricity</th>\n      <th>betweenesscentrality</th>\n      <th>5</th>\n      <th>4</th>\n      <th>harmonicclosnesscentrality</th>\n      <th>Spotify ID</th>\n      <th>degree</th>\n      <th>triangles</th>\n      <th>clustering</th>\n      <th>modularity_class</th>\n      <th>closnesscentrality</th>\n      <th>weighted degree</th>\n    </tr>\n  </thead>\n  <tbody>\n    <tr>\n      <th>0</th>\n      <td>1.000000</td>\n      <td>2 Chainz</td>\n      <td>1</td>\n      <td>83</td>\n      <td>3141364</td>\n      <td>5.0</td>\n      <td>1327.303388</td>\n      <td>17lzZA2AlOHwCwFALHttmp.jpg</td>\n      <td>hip hop, pop, pop rap, rap, southern hip hop, ...</td>\n      <td>0.483401</td>\n      <td>17lzZA2AlOHwCwFALHttmp</td>\n      <td>32</td>\n      <td>109</td>\n      <td>0.219758</td>\n      <td>672</td>\n      <td>0.412354</td>\n      <td>108.0</td>\n    </tr>\n    <tr>\n      <th>1</th>\n      <td>0.720310</td>\n      <td>Drake</td>\n      <td>2</td>\n      <td>100</td>\n      <td>23732186</td>\n      <td>5.0</td>\n      <td>972.460760</td>\n      <td>3TVXtAsR1Inumwj472S9r4.jpg</td>\n      <td>canadian hip hop, canadian pop, hip hop, pop r...</td>\n      <td>0.457287</td>\n      <td>3TVXtAsR1Inumwj472S9r4</td>\n      <td>21</td>\n      <td>53</td>\n      <td>0.252381</td>\n      <td>856</td>\n      <td>0.404255</td>\n      <td>68.0</td>\n    </tr>\n    <tr>\n      <th>2</th>\n      <td>0.932713</td>\n      <td>Quavo</td>\n      <td>3</td>\n      <td>84</td>\n      <td>1819632</td>\n      <td>5.0</td>\n      <td>1202.361487</td>\n      <td>0VRj0yCOv2FXJNP47XQnx5.jpg</td>\n      <td>NaN</td>\n      <td>0.478677</td>\n      <td>0VRj0yCOv2FXJNP47XQnx5</td>\n      <td>31</td>\n      <td>98</td>\n      <td>0.210753</td>\n      <td>672</td>\n      <td>0.410982</td>\n      <td>106.0</td>\n    </tr>\n    <tr>\n      <th>3</th>\n      <td>0.942299</td>\n      <td>Ty Dolla $ign</td>\n      <td>4</td>\n      <td>87</td>\n      <td>1939644</td>\n      <td>5.0</td>\n      <td>2479.834520</td>\n      <td>7c0XG5cIJTrrAgEC3ULPiq.jpg</td>\n      <td>pop, pop rap, rap, trap music</td>\n      <td>0.503171</td>\n      <td>7c0XG5cIJTrrAgEC3ULPiq</td>\n      <td>35</td>\n      <td>96</td>\n      <td>0.161345</td>\n      <td>1233</td>\n      <td>0.435626</td>\n      <td>92.0</td>\n    </tr>\n    <tr>\n      <th>4</th>\n      <td>0.349635</td>\n      <td>Trey Songz</td>\n      <td>5</td>\n      <td>75</td>\n      <td>3256433</td>\n      <td>6.0</td>\n      <td>68.977027</td>\n      <td>2iojnBLj0qIMiKPvVhLnsH.jpg</td>\n      <td>dance pop, indie r&amp;b, pop, pop rap, r&amp;b, south...</td>\n      <td>0.396086</td>\n      <td>2iojnBLj0qIMiKPvVhLnsH</td>\n      <td>10</td>\n      <td>17</td>\n      <td>0.377778</td>\n      <td>1233</td>\n      <td>0.353868</td>\n      <td>24.0</td>\n    </tr>\n    <tr>\n      <th>...</th>\n      <td>...</td>\n      <td>...</td>\n      <td>...</td>\n      <td>...</td>\n      <td>...</td>\n      <td>...</td>\n      <td>...</td>\n      <td>...</td>\n      <td>...</td>\n      <td>...</td>\n      <td>...</td>\n      <td>...</td>\n      <td>...</td>\n      <td>...</td>\n      <td>...</td>\n      <td>...</td>\n      <td>...</td>\n    </tr>\n    <tr>\n      <th>2146</th>\n      <td>0.000000</td>\n      <td>Matthew Koma</td>\n      <td>2148</td>\n      <td>61</td>\n      <td>68641</td>\n      <td>0.0</td>\n      <td>0.000000</td>\n      <td>1mU61l2mcjEFraXZLpvVMo.jpg</td>\n      <td>NaN</td>\n      <td>0.000000</td>\n      <td>1mU61l2mcjEFraXZLpvVMo</td>\n      <td>0</td>\n      <td>0</td>\n      <td>0.000000</td>\n      <td>1905</td>\n      <td>0.000000</td>\n      <td>0.0</td>\n    </tr>\n    <tr>\n      <th>2147</th>\n      <td>0.000000</td>\n      <td>Rome of Sublime with Rome</td>\n      <td>2149</td>\n      <td>39</td>\n      <td>93</td>\n      <td>0.0</td>\n      <td>0.000000</td>\n      <td>1WkB67ly6k7EVGJoNFj9YO.jpg</td>\n      <td>NaN</td>\n      <td>0.000000</td>\n      <td>1WkB67ly6k7EVGJoNFj9YO</td>\n      <td>0</td>\n      <td>0</td>\n      <td>0.000000</td>\n      <td>1906</td>\n      <td>0.000000</td>\n      <td>0.0</td>\n    </tr>\n    <tr>\n      <th>2148</th>\n      <td>0.000000</td>\n      <td>Matisyahu</td>\n      <td>2150</td>\n      <td>60</td>\n      <td>437153</td>\n      <td>0.0</td>\n      <td>0.000000</td>\n      <td>5eyMzR1hYiEZtN2c9ly2kw.jpg</td>\n      <td>reggae fusion</td>\n      <td>0.000000</td>\n      <td>5eyMzR1hYiEZtN2c9ly2kw</td>\n      <td>0</td>\n      <td>0</td>\n      <td>0.000000</td>\n      <td>1907</td>\n      <td>0.000000</td>\n      <td>0.0</td>\n    </tr>\n    <tr>\n      <th>2149</th>\n      <td>0.000000</td>\n      <td>The Unlikely Candidates</td>\n      <td>2151</td>\n      <td>53</td>\n      <td>29455</td>\n      <td>0.0</td>\n      <td>0.000000</td>\n      <td>4hwJwkgsufeilLXS1ZfJqq.jpg</td>\n      <td>indie pop, indie poptimism, indie rockism, mod...</td>\n      <td>0.000000</td>\n      <td>4hwJwkgsufeilLXS1ZfJqq</td>\n      <td>0</td>\n      <td>0</td>\n      <td>0.000000</td>\n      <td>1908</td>\n      <td>0.000000</td>\n      <td>0.0</td>\n    </tr>\n    <tr>\n      <th>2150</th>\n      <td>0.022912</td>\n      <td>Maná</td>\n      <td>2152</td>\n      <td>72</td>\n      <td>3157313</td>\n      <td>7.0</td>\n      <td>0.547222</td>\n      <td>7okwEbXzyT2VffBmyQBWLz.jpg</td>\n      <td>latin, latin arena pop, latin rock, mexican po...</td>\n      <td>0.265732</td>\n      <td>7okwEbXzyT2VffBmyQBWLz</td>\n      <td>3</td>\n      <td>2</td>\n      <td>0.666667</td>\n      <td>416</td>\n      <td>0.240272</td>\n      <td>6.0</td>\n    </tr>\n  </tbody>\n</table>\n<p>2151 rows × 17 columns</p>\n</div>"
     },
     "execution_count": 46,
     "metadata": {},
     "output_type": "execute_result"
    }
   ],
   "source": [
    "import pandas as pd\n",
    "\n",
    "df_nodes = pd.read_csv(\"../../Java/resources/nodes.csv\", sep=\"\\t\")\n",
    "df_nodes.drop(columns=[\"label\", \"Id\", \"timeset\"], inplace=True)\n",
    "df_nodes.rename(columns={\"id\" : \"Spotify ID\"}, inplace=True)\n",
    "df_nodes"
   ]
  },
  {
   "cell_type": "code",
   "execution_count": 47,
   "id": "887de270c031d77",
   "metadata": {
    "collapsed": false,
    "ExecuteTime": {
     "end_time": "2024-03-04T12:46:23.432223200Z",
     "start_time": "2024-03-04T12:46:23.280224700Z"
    }
   },
   "outputs": [],
   "source": [
    "# Define dictionaries for id and title attributes\n",
    "id_dict = {\n",
    "    \"0\": \"Id\",\n",
    "    \"1\": \"name\",\n",
    "    \"2\": \"popularity\",\n",
    "    \"3\": \"followers\",\n",
    "    \"4\": \"genres\",\n",
    "    \"5\": \"image\"\n",
    "}\n",
    "\n",
    "title_dict = {\n",
    "    \"6\": \"Source\",\n",
    "    \"7\": \"Target\",\n",
    "    \"8\": \"Type\",\n",
    "    \"9\": \"Id\",\n",
    "    \"10\": \"Weight\",\n",
    "    \"11\": \"name1\",\n",
    "    \"12\": \"name2\",\n",
    "    \"13\": \"id_track\",\n",
    "    \"14\": \"label_track\",\n",
    "    \"15\": \"title\",\n",
    "    \"16\": \"explicit\",\n",
    "    \"17\": \"popularity\",\n",
    "    \"18\": \"release_date\",\n",
    "    \"19\": \"release_date_precision\"\n",
    "}"
   ]
  },
  {
   "cell_type": "code",
   "execution_count": 48,
   "id": "1deaa008b0969468",
   "metadata": {
    "collapsed": false,
    "ExecuteTime": {
     "end_time": "2024-03-04T12:46:23.433223700Z",
     "start_time": "2024-03-04T12:46:23.294226900Z"
    }
   },
   "outputs": [
    {
     "data": {
      "text/plain": "      eigencentrality               name    Id  popularity  followers  \\\n1058         0.000000       Tracie Thoms  1059          50        432   \n434          0.080946       Lana Del Rey   435          79    6588686   \n1680         0.000000           Brytiago  1681          76     702411   \n1777         0.000000        Ry SO Valid  1778          29         48   \n1549         0.000000  Melissa Etheridge  1550          50     143947   \n...               ...                ...   ...         ...        ...   \n584          0.000000             Redman   585          63     331721   \n1950         0.000000      Remyboy Monty  1952          28        555   \n364          0.000000             Sean C   365          25         59   \n52           0.000000           A$AP Mob    53          67     706707   \n661          0.000000         Dan + Shay   662          75     478851   \n\n      eccentricity  betweenesscentrality                       image  \\\n1058           0.0              0.000000  00BueEoowSUVGZoCR5yIRL.jpg   \n434            6.0              3.785203  00FQb4jTyendYWaN8pK0wa.jpg   \n1680           0.0              0.000000  00XhexlJEXQstHimpZN910.jpg   \n1777           0.0              0.000000  00cBuzAI2Q4HirerswLYUT.jpg   \n1549           0.0              0.000000  01Ppu7N8uYJI8SAONo2YZA.jpg   \n...            ...                   ...                         ...   \n584            0.0              0.000000  7xTKLpo7UCzXSnlH7fOIoM.jpg   \n1950           0.0              0.000000  7xaUfg5pi9nbPgYSEQVIje.jpg   \n364            0.0              0.000000  7xjohWzjFPk25BqySykJRV.jpg   \n52             0.0              0.000000  7yO4IdJjCEPz7YgZMe25iS.jpg   \n661            0.0              0.000000  7z5WFjZAIYejWy0NI5lv4T.jpg   \n\n                                                 genres  \\\n1058                                           broadway   \n434                                                 pop   \n1680                reggaeton, reggaeton flow, tropical   \n1777                                                NaN   \n1549  folk, folk-pop, heartland rock, lilith, mellow...   \n...                                                 ...   \n584   alternative hip hop, dirty south rap, east coa...   \n1950                                                NaN   \n364                                                 NaN   \n52    hip hop, pop, pop rap, rap, southern hip hop, ...   \n661                                contemporary country   \n\n      harmonicclosnesscentrality              Spotify ID  degree  triangles  \\\n1058                    0.000000  00BueEoowSUVGZoCR5yIRL       0          0   \n434                     0.323887  00FQb4jTyendYWaN8pK0wa       3          1   \n1680                    0.000000  00XhexlJEXQstHimpZN910       0          0   \n1777                    0.000000  00cBuzAI2Q4HirerswLYUT       0          0   \n1549                    0.000000  01Ppu7N8uYJI8SAONo2YZA       0          0   \n...                          ...                     ...     ...        ...   \n584                     0.000000  7xTKLpo7UCzXSnlH7fOIoM       0          0   \n1950                    0.000000  7xaUfg5pi9nbPgYSEQVIje       0          0   \n364                     0.000000  7xjohWzjFPk25BqySykJRV       0          0   \n52                      0.000000  7yO4IdJjCEPz7YgZMe25iS       0          0   \n661                     0.000000  7z5WFjZAIYejWy0NI5lv4T       0          0   \n\n      clustering  modularity_class  closnesscentrality  weighted degree  \n1058    0.000000               872            0.000000              0.0  \n434     0.333333                26            0.299031              8.0  \n1680    0.000000              1450            0.000000              0.0  \n1777    0.000000              1547            0.000000              0.0  \n1549    0.000000              1325            0.000000              0.0  \n...          ...               ...                 ...              ...  \n584     0.000000               456            0.000000              0.0  \n1950    0.000000              1715            0.000000              0.0  \n364     0.000000               278            0.000000              0.0  \n52      0.000000                22            0.000000              0.0  \n661     0.000000               521            0.000000              0.0  \n\n[2151 rows x 17 columns]",
      "text/html": "<div>\n<style scoped>\n    .dataframe tbody tr th:only-of-type {\n        vertical-align: middle;\n    }\n\n    .dataframe tbody tr th {\n        vertical-align: top;\n    }\n\n    .dataframe thead th {\n        text-align: right;\n    }\n</style>\n<table border=\"1\" class=\"dataframe\">\n  <thead>\n    <tr style=\"text-align: right;\">\n      <th></th>\n      <th>eigencentrality</th>\n      <th>name</th>\n      <th>Id</th>\n      <th>popularity</th>\n      <th>followers</th>\n      <th>eccentricity</th>\n      <th>betweenesscentrality</th>\n      <th>image</th>\n      <th>genres</th>\n      <th>harmonicclosnesscentrality</th>\n      <th>Spotify ID</th>\n      <th>degree</th>\n      <th>triangles</th>\n      <th>clustering</th>\n      <th>modularity_class</th>\n      <th>closnesscentrality</th>\n      <th>weighted degree</th>\n    </tr>\n  </thead>\n  <tbody>\n    <tr>\n      <th>1058</th>\n      <td>0.000000</td>\n      <td>Tracie Thoms</td>\n      <td>1059</td>\n      <td>50</td>\n      <td>432</td>\n      <td>0.0</td>\n      <td>0.000000</td>\n      <td>00BueEoowSUVGZoCR5yIRL.jpg</td>\n      <td>broadway</td>\n      <td>0.000000</td>\n      <td>00BueEoowSUVGZoCR5yIRL</td>\n      <td>0</td>\n      <td>0</td>\n      <td>0.000000</td>\n      <td>872</td>\n      <td>0.000000</td>\n      <td>0.0</td>\n    </tr>\n    <tr>\n      <th>434</th>\n      <td>0.080946</td>\n      <td>Lana Del Rey</td>\n      <td>435</td>\n      <td>79</td>\n      <td>6588686</td>\n      <td>6.0</td>\n      <td>3.785203</td>\n      <td>00FQb4jTyendYWaN8pK0wa.jpg</td>\n      <td>pop</td>\n      <td>0.323887</td>\n      <td>00FQb4jTyendYWaN8pK0wa</td>\n      <td>3</td>\n      <td>1</td>\n      <td>0.333333</td>\n      <td>26</td>\n      <td>0.299031</td>\n      <td>8.0</td>\n    </tr>\n    <tr>\n      <th>1680</th>\n      <td>0.000000</td>\n      <td>Brytiago</td>\n      <td>1681</td>\n      <td>76</td>\n      <td>702411</td>\n      <td>0.0</td>\n      <td>0.000000</td>\n      <td>00XhexlJEXQstHimpZN910.jpg</td>\n      <td>reggaeton, reggaeton flow, tropical</td>\n      <td>0.000000</td>\n      <td>00XhexlJEXQstHimpZN910</td>\n      <td>0</td>\n      <td>0</td>\n      <td>0.000000</td>\n      <td>1450</td>\n      <td>0.000000</td>\n      <td>0.0</td>\n    </tr>\n    <tr>\n      <th>1777</th>\n      <td>0.000000</td>\n      <td>Ry SO Valid</td>\n      <td>1778</td>\n      <td>29</td>\n      <td>48</td>\n      <td>0.0</td>\n      <td>0.000000</td>\n      <td>00cBuzAI2Q4HirerswLYUT.jpg</td>\n      <td>NaN</td>\n      <td>0.000000</td>\n      <td>00cBuzAI2Q4HirerswLYUT</td>\n      <td>0</td>\n      <td>0</td>\n      <td>0.000000</td>\n      <td>1547</td>\n      <td>0.000000</td>\n      <td>0.0</td>\n    </tr>\n    <tr>\n      <th>1549</th>\n      <td>0.000000</td>\n      <td>Melissa Etheridge</td>\n      <td>1550</td>\n      <td>50</td>\n      <td>143947</td>\n      <td>0.0</td>\n      <td>0.000000</td>\n      <td>01Ppu7N8uYJI8SAONo2YZA.jpg</td>\n      <td>folk, folk-pop, heartland rock, lilith, mellow...</td>\n      <td>0.000000</td>\n      <td>01Ppu7N8uYJI8SAONo2YZA</td>\n      <td>0</td>\n      <td>0</td>\n      <td>0.000000</td>\n      <td>1325</td>\n      <td>0.000000</td>\n      <td>0.0</td>\n    </tr>\n    <tr>\n      <th>...</th>\n      <td>...</td>\n      <td>...</td>\n      <td>...</td>\n      <td>...</td>\n      <td>...</td>\n      <td>...</td>\n      <td>...</td>\n      <td>...</td>\n      <td>...</td>\n      <td>...</td>\n      <td>...</td>\n      <td>...</td>\n      <td>...</td>\n      <td>...</td>\n      <td>...</td>\n      <td>...</td>\n      <td>...</td>\n    </tr>\n    <tr>\n      <th>584</th>\n      <td>0.000000</td>\n      <td>Redman</td>\n      <td>585</td>\n      <td>63</td>\n      <td>331721</td>\n      <td>0.0</td>\n      <td>0.000000</td>\n      <td>7xTKLpo7UCzXSnlH7fOIoM.jpg</td>\n      <td>alternative hip hop, dirty south rap, east coa...</td>\n      <td>0.000000</td>\n      <td>7xTKLpo7UCzXSnlH7fOIoM</td>\n      <td>0</td>\n      <td>0</td>\n      <td>0.000000</td>\n      <td>456</td>\n      <td>0.000000</td>\n      <td>0.0</td>\n    </tr>\n    <tr>\n      <th>1950</th>\n      <td>0.000000</td>\n      <td>Remyboy Monty</td>\n      <td>1952</td>\n      <td>28</td>\n      <td>555</td>\n      <td>0.0</td>\n      <td>0.000000</td>\n      <td>7xaUfg5pi9nbPgYSEQVIje.jpg</td>\n      <td>NaN</td>\n      <td>0.000000</td>\n      <td>7xaUfg5pi9nbPgYSEQVIje</td>\n      <td>0</td>\n      <td>0</td>\n      <td>0.000000</td>\n      <td>1715</td>\n      <td>0.000000</td>\n      <td>0.0</td>\n    </tr>\n    <tr>\n      <th>364</th>\n      <td>0.000000</td>\n      <td>Sean C</td>\n      <td>365</td>\n      <td>25</td>\n      <td>59</td>\n      <td>0.0</td>\n      <td>0.000000</td>\n      <td>7xjohWzjFPk25BqySykJRV.jpg</td>\n      <td>NaN</td>\n      <td>0.000000</td>\n      <td>7xjohWzjFPk25BqySykJRV</td>\n      <td>0</td>\n      <td>0</td>\n      <td>0.000000</td>\n      <td>278</td>\n      <td>0.000000</td>\n      <td>0.0</td>\n    </tr>\n    <tr>\n      <th>52</th>\n      <td>0.000000</td>\n      <td>A$AP Mob</td>\n      <td>53</td>\n      <td>67</td>\n      <td>706707</td>\n      <td>0.0</td>\n      <td>0.000000</td>\n      <td>7yO4IdJjCEPz7YgZMe25iS.jpg</td>\n      <td>hip hop, pop, pop rap, rap, southern hip hop, ...</td>\n      <td>0.000000</td>\n      <td>7yO4IdJjCEPz7YgZMe25iS</td>\n      <td>0</td>\n      <td>0</td>\n      <td>0.000000</td>\n      <td>22</td>\n      <td>0.000000</td>\n      <td>0.0</td>\n    </tr>\n    <tr>\n      <th>661</th>\n      <td>0.000000</td>\n      <td>Dan + Shay</td>\n      <td>662</td>\n      <td>75</td>\n      <td>478851</td>\n      <td>0.0</td>\n      <td>0.000000</td>\n      <td>7z5WFjZAIYejWy0NI5lv4T.jpg</td>\n      <td>contemporary country</td>\n      <td>0.000000</td>\n      <td>7z5WFjZAIYejWy0NI5lv4T</td>\n      <td>0</td>\n      <td>0</td>\n      <td>0.000000</td>\n      <td>521</td>\n      <td>0.000000</td>\n      <td>0.0</td>\n    </tr>\n  </tbody>\n</table>\n<p>2151 rows × 17 columns</p>\n</div>"
     },
     "execution_count": 48,
     "metadata": {},
     "output_type": "execute_result"
    }
   ],
   "source": [
    "df_nodes.rename(columns=id_dict, inplace=True)\n",
    "df_nodes.sort_values(by=\"Spotify ID\", inplace=True)\n",
    "df_nodes"
   ]
  },
  {
   "cell_type": "markdown",
   "id": "8554d26fc8dc53cf",
   "metadata": {
    "collapsed": false
   },
   "source": [
    "Read in Original nodes:"
   ]
  },
  {
   "cell_type": "code",
   "execution_count": 49,
   "id": "521654f074506cb1",
   "metadata": {
    "collapsed": false,
    "ExecuteTime": {
     "end_time": "2024-03-04T12:46:23.433223700Z",
     "start_time": "2024-03-04T12:46:23.328226600Z"
    }
   },
   "outputs": [
    {
     "data": {
      "text/plain": "        Id               name  popularity  followers  \\\n1058  1059       Tracie Thoms          50        432   \n434    435       Lana Del Rey          79    6588686   \n1680  1681           Brytiago          76     702411   \n1777  1778        Ry SO Valid          29         48   \n1549  1550  Melissa Etheridge          50     143947   \n...    ...                ...         ...        ...   \n584    585             Redman          63     331721   \n1951  1952      Remyboy Monty          28        555   \n364    365             Sean C          25         59   \n52      53           A$AP Mob          67     706707   \n661    662         Dan + Shay          75     478851   \n\n                                                 genres  \\\n1058                                           broadway   \n434                                                 pop   \n1680                reggaeton, reggaeton flow, tropical   \n1777                                                NaN   \n1549  folk, folk-pop, heartland rock, lilith, mellow...   \n...                                                 ...   \n584   alternative hip hop, dirty south rap, east coa...   \n1951                                                NaN   \n364                                                 NaN   \n52    hip hop, pop, pop rap, rap, southern hip hop, ...   \n661                                contemporary country   \n\n                           image  degree  weighted degree  eccentricity  \\\n1058  00BueEoowSUVGZoCR5yIRL.jpg       0                0             0   \n434   00FQb4jTyendYWaN8pK0wa.jpg       3                8             6   \n1680  00XhexlJEXQstHimpZN910.jpg       0                0             0   \n1777  00cBuzAI2Q4HirerswLYUT.jpg       0                0             0   \n1549  01Ppu7N8uYJI8SAONo2YZA.jpg       0                0             0   \n...                          ...     ...              ...           ...   \n584   7xTKLpo7UCzXSnlH7fOIoM.jpg       0                0             0   \n1951  7xaUfg5pi9nbPgYSEQVIje.jpg       0                0             0   \n364   7xjohWzjFPk25BqySykJRV.jpg       0                0             0   \n52    7yO4IdJjCEPz7YgZMe25iS.jpg       0                0             0   \n661   7z5WFjZAIYejWy0NI5lv4T.jpg       0                0             0   \n\n      closnesscentrality  harmonicclosnesscentrality  betweenesscentrality  \\\n1058            0.000000                    0.000000              0.000000   \n434             0.299031                    0.323887              0.000002   \n1680            0.000000                    0.000000              0.000000   \n1777            0.000000                    0.000000              0.000000   \n1549            0.000000                    0.000000              0.000000   \n...                  ...                         ...                   ...   \n584             0.000000                    0.000000              0.000000   \n1951            0.000000                    0.000000              0.000000   \n364             0.000000                    0.000000              0.000000   \n52              0.000000                    0.000000              0.000000   \n661             0.000000                    0.000000              0.000000   \n\n      modularity_class  clustering  eigencentrality              Spotify ID  \n1058               875    0.000000         0.000000  00BueEoowSUVGZoCR5yIRL  \n434                 27    0.333333         0.080946  00FQb4jTyendYWaN8pK0wa  \n1680              1453    0.000000         0.000000  00XhexlJEXQstHimpZN910  \n1777              1549    0.000000         0.000000  00cBuzAI2Q4HirerswLYUT  \n1549              1328    0.000000         0.000000  01Ppu7N8uYJI8SAONo2YZA  \n...                ...         ...              ...                     ...  \n584                458    0.000000         0.000000  7xTKLpo7UCzXSnlH7fOIoM  \n1951              1717    0.000000         0.000000  7xaUfg5pi9nbPgYSEQVIje  \n364                279    0.000000         0.000000  7xjohWzjFPk25BqySykJRV  \n52                  23    0.000000         0.000000  7yO4IdJjCEPz7YgZMe25iS  \n661                523    0.000000         0.000000  7z5WFjZAIYejWy0NI5lv4T  \n\n[2152 rows x 16 columns]",
      "text/html": "<div>\n<style scoped>\n    .dataframe tbody tr th:only-of-type {\n        vertical-align: middle;\n    }\n\n    .dataframe tbody tr th {\n        vertical-align: top;\n    }\n\n    .dataframe thead th {\n        text-align: right;\n    }\n</style>\n<table border=\"1\" class=\"dataframe\">\n  <thead>\n    <tr style=\"text-align: right;\">\n      <th></th>\n      <th>Id</th>\n      <th>name</th>\n      <th>popularity</th>\n      <th>followers</th>\n      <th>genres</th>\n      <th>image</th>\n      <th>degree</th>\n      <th>weighted degree</th>\n      <th>eccentricity</th>\n      <th>closnesscentrality</th>\n      <th>harmonicclosnesscentrality</th>\n      <th>betweenesscentrality</th>\n      <th>modularity_class</th>\n      <th>clustering</th>\n      <th>eigencentrality</th>\n      <th>Spotify ID</th>\n    </tr>\n  </thead>\n  <tbody>\n    <tr>\n      <th>1058</th>\n      <td>1059</td>\n      <td>Tracie Thoms</td>\n      <td>50</td>\n      <td>432</td>\n      <td>broadway</td>\n      <td>00BueEoowSUVGZoCR5yIRL.jpg</td>\n      <td>0</td>\n      <td>0</td>\n      <td>0</td>\n      <td>0.000000</td>\n      <td>0.000000</td>\n      <td>0.000000</td>\n      <td>875</td>\n      <td>0.000000</td>\n      <td>0.000000</td>\n      <td>00BueEoowSUVGZoCR5yIRL</td>\n    </tr>\n    <tr>\n      <th>434</th>\n      <td>435</td>\n      <td>Lana Del Rey</td>\n      <td>79</td>\n      <td>6588686</td>\n      <td>pop</td>\n      <td>00FQb4jTyendYWaN8pK0wa.jpg</td>\n      <td>3</td>\n      <td>8</td>\n      <td>6</td>\n      <td>0.299031</td>\n      <td>0.323887</td>\n      <td>0.000002</td>\n      <td>27</td>\n      <td>0.333333</td>\n      <td>0.080946</td>\n      <td>00FQb4jTyendYWaN8pK0wa</td>\n    </tr>\n    <tr>\n      <th>1680</th>\n      <td>1681</td>\n      <td>Brytiago</td>\n      <td>76</td>\n      <td>702411</td>\n      <td>reggaeton, reggaeton flow, tropical</td>\n      <td>00XhexlJEXQstHimpZN910.jpg</td>\n      <td>0</td>\n      <td>0</td>\n      <td>0</td>\n      <td>0.000000</td>\n      <td>0.000000</td>\n      <td>0.000000</td>\n      <td>1453</td>\n      <td>0.000000</td>\n      <td>0.000000</td>\n      <td>00XhexlJEXQstHimpZN910</td>\n    </tr>\n    <tr>\n      <th>1777</th>\n      <td>1778</td>\n      <td>Ry SO Valid</td>\n      <td>29</td>\n      <td>48</td>\n      <td>NaN</td>\n      <td>00cBuzAI2Q4HirerswLYUT.jpg</td>\n      <td>0</td>\n      <td>0</td>\n      <td>0</td>\n      <td>0.000000</td>\n      <td>0.000000</td>\n      <td>0.000000</td>\n      <td>1549</td>\n      <td>0.000000</td>\n      <td>0.000000</td>\n      <td>00cBuzAI2Q4HirerswLYUT</td>\n    </tr>\n    <tr>\n      <th>1549</th>\n      <td>1550</td>\n      <td>Melissa Etheridge</td>\n      <td>50</td>\n      <td>143947</td>\n      <td>folk, folk-pop, heartland rock, lilith, mellow...</td>\n      <td>01Ppu7N8uYJI8SAONo2YZA.jpg</td>\n      <td>0</td>\n      <td>0</td>\n      <td>0</td>\n      <td>0.000000</td>\n      <td>0.000000</td>\n      <td>0.000000</td>\n      <td>1328</td>\n      <td>0.000000</td>\n      <td>0.000000</td>\n      <td>01Ppu7N8uYJI8SAONo2YZA</td>\n    </tr>\n    <tr>\n      <th>...</th>\n      <td>...</td>\n      <td>...</td>\n      <td>...</td>\n      <td>...</td>\n      <td>...</td>\n      <td>...</td>\n      <td>...</td>\n      <td>...</td>\n      <td>...</td>\n      <td>...</td>\n      <td>...</td>\n      <td>...</td>\n      <td>...</td>\n      <td>...</td>\n      <td>...</td>\n      <td>...</td>\n    </tr>\n    <tr>\n      <th>584</th>\n      <td>585</td>\n      <td>Redman</td>\n      <td>63</td>\n      <td>331721</td>\n      <td>alternative hip hop, dirty south rap, east coa...</td>\n      <td>7xTKLpo7UCzXSnlH7fOIoM.jpg</td>\n      <td>0</td>\n      <td>0</td>\n      <td>0</td>\n      <td>0.000000</td>\n      <td>0.000000</td>\n      <td>0.000000</td>\n      <td>458</td>\n      <td>0.000000</td>\n      <td>0.000000</td>\n      <td>7xTKLpo7UCzXSnlH7fOIoM</td>\n    </tr>\n    <tr>\n      <th>1951</th>\n      <td>1952</td>\n      <td>Remyboy Monty</td>\n      <td>28</td>\n      <td>555</td>\n      <td>NaN</td>\n      <td>7xaUfg5pi9nbPgYSEQVIje.jpg</td>\n      <td>0</td>\n      <td>0</td>\n      <td>0</td>\n      <td>0.000000</td>\n      <td>0.000000</td>\n      <td>0.000000</td>\n      <td>1717</td>\n      <td>0.000000</td>\n      <td>0.000000</td>\n      <td>7xaUfg5pi9nbPgYSEQVIje</td>\n    </tr>\n    <tr>\n      <th>364</th>\n      <td>365</td>\n      <td>Sean C</td>\n      <td>25</td>\n      <td>59</td>\n      <td>NaN</td>\n      <td>7xjohWzjFPk25BqySykJRV.jpg</td>\n      <td>0</td>\n      <td>0</td>\n      <td>0</td>\n      <td>0.000000</td>\n      <td>0.000000</td>\n      <td>0.000000</td>\n      <td>279</td>\n      <td>0.000000</td>\n      <td>0.000000</td>\n      <td>7xjohWzjFPk25BqySykJRV</td>\n    </tr>\n    <tr>\n      <th>52</th>\n      <td>53</td>\n      <td>A$AP Mob</td>\n      <td>67</td>\n      <td>706707</td>\n      <td>hip hop, pop, pop rap, rap, southern hip hop, ...</td>\n      <td>7yO4IdJjCEPz7YgZMe25iS.jpg</td>\n      <td>0</td>\n      <td>0</td>\n      <td>0</td>\n      <td>0.000000</td>\n      <td>0.000000</td>\n      <td>0.000000</td>\n      <td>23</td>\n      <td>0.000000</td>\n      <td>0.000000</td>\n      <td>7yO4IdJjCEPz7YgZMe25iS</td>\n    </tr>\n    <tr>\n      <th>661</th>\n      <td>662</td>\n      <td>Dan + Shay</td>\n      <td>75</td>\n      <td>478851</td>\n      <td>contemporary country</td>\n      <td>7z5WFjZAIYejWy0NI5lv4T.jpg</td>\n      <td>0</td>\n      <td>0</td>\n      <td>0</td>\n      <td>0.000000</td>\n      <td>0.000000</td>\n      <td>0.000000</td>\n      <td>523</td>\n      <td>0.000000</td>\n      <td>0.000000</td>\n      <td>7z5WFjZAIYejWy0NI5lv4T</td>\n    </tr>\n  </tbody>\n</table>\n<p>2152 rows × 16 columns</p>\n</div>"
     },
     "execution_count": 49,
     "metadata": {},
     "output_type": "execute_result"
    }
   ],
   "source": [
    "df_original_nodes = pd.read_csv(\"../network/Successful Network/Original Network/nodes_original.csv\", sep=\"\\t\")\n",
    "df_original_nodes.rename(columns={\"Eccentricity\": \"eccentricity\"}, inplace=True)\n",
    "df_original_nodes.sort_values(by=\"Spotify ID\", inplace=True)\n",
    "df_original_nodes"
   ]
  },
  {
   "cell_type": "code",
   "execution_count": 50,
   "id": "8d2c243b4cd28bf5",
   "metadata": {
    "collapsed": false,
    "ExecuteTime": {
     "end_time": "2024-03-04T12:46:23.443224600Z",
     "start_time": "2024-03-04T12:46:23.359223900Z"
    }
   },
   "outputs": [
    {
     "data": {
      "text/plain": "{710}"
     },
     "execution_count": 50,
     "metadata": {},
     "output_type": "execute_result"
    }
   ],
   "source": [
    "missed_id = set(df_original_nodes[\"Id\"]) - set(df_nodes[\"Id\"])\n",
    "missed_id"
   ]
  },
  {
   "cell_type": "code",
   "execution_count": 51,
   "id": "d83961f522c340a",
   "metadata": {
    "collapsed": false,
    "ExecuteTime": {
     "end_time": "2024-03-04T12:46:23.443224600Z",
     "start_time": "2024-03-04T12:46:23.373224400Z"
    }
   },
   "outputs": [],
   "source": [
    "df_original_nodes = df_original_nodes[(df_original_nodes[\"Id\"] != 710)]"
   ]
  },
  {
   "cell_type": "code",
   "execution_count": 52,
   "id": "eea162542391e6a9",
   "metadata": {
    "collapsed": false,
    "ExecuteTime": {
     "end_time": "2024-03-04T12:46:23.444224Z",
     "start_time": "2024-03-04T12:46:23.388226200Z"
    }
   },
   "outputs": [
    {
     "data": {
      "text/plain": "{'Id',\n 'Spotify ID',\n 'betweenesscentrality',\n 'closnesscentrality',\n 'clustering',\n 'degree',\n 'eccentricity',\n 'eigencentrality',\n 'followers',\n 'genres',\n 'harmonicclosnesscentrality',\n 'image',\n 'modularity_class',\n 'name',\n 'popularity',\n 'weighted degree'}"
     },
     "execution_count": 52,
     "metadata": {},
     "output_type": "execute_result"
    }
   ],
   "source": [
    "intersection = set(df_nodes.columns) & set(df_original_nodes.columns)\n",
    "intersection"
   ]
  },
  {
   "cell_type": "code",
   "execution_count": 53,
   "id": "8c6c206e7be1fe7",
   "metadata": {
    "collapsed": false,
    "ExecuteTime": {
     "end_time": "2024-03-04T12:46:23.444224Z",
     "start_time": "2024-03-04T12:46:23.405225200Z"
    }
   },
   "outputs": [
    {
     "data": {
      "text/plain": "{'betweenesscentrality',\n 'closnesscentrality',\n 'clustering',\n 'degree',\n 'eccentricity',\n 'eigencentrality',\n 'harmonicclosnesscentrality',\n 'modularity_class',\n 'weighted degree'}"
     },
     "execution_count": 53,
     "metadata": {},
     "output_type": "execute_result"
    }
   ],
   "source": [
    "to_be_removed = [\"Id\", \"Spotify ID\", \"followers\", \"genres\", \"image\", \"name\", \"popularity\"]\n",
    "\n",
    "\n",
    "for item in to_be_removed:\n",
    "    intersection.remove(item)\n",
    "\n",
    "intersection"
   ]
  },
  {
   "cell_type": "code",
   "execution_count": 56,
   "outputs": [
    {
     "name": "stdout",
     "output_type": "stream",
     "text": [
      "max values:\n",
      "degree                          35.000000\n",
      "weighted degree                108.000000\n",
      "eccentricity                     8.000000\n",
      "closnesscentrality               1.000000\n",
      "harmonicclosnesscentrality       1.000000\n",
      "betweenesscentrality             0.001174\n",
      "modularity_class              1910.000000\n",
      "clustering                       1.000000\n",
      "eigencentrality                  1.000000\n",
      "dtype: float64\n",
      "degree                          35.00000\n",
      "clustering                       1.00000\n",
      "betweenesscentrality          2715.58202\n",
      "harmonicclosnesscentrality       1.00000\n",
      "eigencentrality                  1.00000\n",
      "modularity_class              1908.00000\n",
      "closnesscentrality               1.00000\n",
      "weighted degree                108.00000\n",
      "eccentricity                     8.00000\n",
      "dtype: float64\n",
      "\n",
      "min values:\n",
      "degree                        0.0\n",
      "weighted degree               0.0\n",
      "eccentricity                  0.0\n",
      "closnesscentrality            0.0\n",
      "harmonicclosnesscentrality    0.0\n",
      "betweenesscentrality          0.0\n",
      "modularity_class              0.0\n",
      "clustering                    0.0\n",
      "eigencentrality               0.0\n",
      "dtype: float64\n",
      "degree                        0.0\n",
      "clustering                    0.0\n",
      "betweenesscentrality          0.0\n",
      "harmonicclosnesscentrality    0.0\n",
      "eigencentrality               0.0\n",
      "modularity_class              0.0\n",
      "closnesscentrality            0.0\n",
      "weighted degree               0.0\n",
      "eccentricity                  0.0\n",
      "dtype: float64\n"
     ]
    }
   ],
   "source": [
    "#print max value for each coloumn\n",
    "print(\"max values:\")\n",
    "print(df_original_nodes.iloc[:,6:-1].max())\n",
    "print(df_nodes[list(intersection)].max())\n",
    "\n",
    "#print min value for each coloumn\n",
    "print()\n",
    "print(\"min values:\")\n",
    "print(df_original_nodes.iloc[:,6:-1].min())\n",
    "print(df_nodes[list(intersection)].min())"
   ],
   "metadata": {
    "collapsed": false,
    "ExecuteTime": {
     "end_time": "2024-03-04T12:46:34.126995400Z",
     "start_time": "2024-03-04T12:46:34.079988700Z"
    }
   },
   "id": "652c8e2cb032659b"
  },
  {
   "cell_type": "markdown",
   "source": [
    "because of the differences in the max values we need to normalize the data on the same scale"
   ],
   "metadata": {
    "collapsed": false
   },
   "id": "4bb8740a74dced4e"
  },
  {
   "cell_type": "code",
   "execution_count": 54,
   "outputs": [],
   "source": [
    "from sklearn.preprocessing import MinMaxScaler\n",
    "import pandas as pd\n",
    "\n",
    "# Assuming df_nodes is your DataFrame\n",
    "# Select only the columns to be normalized\n",
    "#intersection = df_nodes.columns.intersection(df_original_nodes.columns)\n",
    "data_to_normalize = df_nodes[list(intersection)]\n",
    "data_to_normalize2 = df_original_nodes[list(intersection)]\n",
    "\n",
    "# Concatenate the data from both DataFrames\n",
    "combined_data = pd.concat([data_to_normalize, data_to_normalize2])\n",
    "\n",
    "# Initialize MinMaxScaler\n",
    "scaler = MinMaxScaler()\n",
    "\n",
    "# Fit and transform the combined data\n",
    "normalized_data = scaler.fit_transform(combined_data)\n",
    "\n",
    "# Replace the original data with the normalized values for both DataFrames\n",
    "df_nodes_norm = df_nodes.copy()\n",
    "df_nodes_norm[list(intersection)] = normalized_data[:len(df_nodes)]\n",
    "\n",
    "df_nodes_norm_original = df_original_nodes.copy()\n",
    "df_nodes_norm_original[list(intersection)] = normalized_data[len(df_nodes):]"
   ],
   "metadata": {
    "collapsed": false,
    "ExecuteTime": {
     "start_time": "2024-03-04T12:46:23.424225300Z"
    }
   },
   "id": "273a425c4afe13e5"
  },
  {
   "cell_type": "code",
   "execution_count": 57,
   "id": "c371b3fd4142100e",
   "metadata": {
    "collapsed": false,
    "ExecuteTime": {
     "end_time": "2024-03-04T12:46:38.665420100Z",
     "start_time": "2024-03-04T12:46:38.641052400Z"
    }
   },
   "outputs": [
    {
     "name": "stdout",
     "output_type": "stream",
     "text": [
      "Mean Absolute Error for each column:\n",
      "betweenesscentrality: 0.012081210198343803\n",
      "degree: 0.0\n",
      "clustering: 1.675592177201391e-08\n",
      "harmonicclosnesscentrality: 2.994719929561137e-08\n",
      "eigencentrality: 2.945415499776412e-08\n",
      "modularity_class: 0.01993009461081051\n",
      "closnesscentrality: 2.5064458569521964e-08\n",
      "weighted degree: 0.0\n",
      "eccentricity: 0.0\n"
     ]
    }
   ],
   "source": [
    "import pandas as pd\n",
    "from sklearn.metrics import mean_absolute_error\n",
    "\n",
    "def calculate_mae(df1, df2):\n",
    "    mae_results = {}\n",
    "\n",
    "    # Calculate MAE for each column\n",
    "    columns_of_df = set(df1.columns) & intersection\n",
    "    for col in columns_of_df:\n",
    "        mae = mean_absolute_error(df1[col], df2[col])\n",
    "        mae_results[col] = mae\n",
    "\n",
    "    return mae_results\n",
    "\n",
    "mae_values = calculate_mae(df_nodes_norm, df_nodes_norm_original)\n",
    "print(\"Mean Absolute Error for each column:\")\n",
    "for col, mae in mae_values.items():\n",
    "    print(f\"{col}: {mae}\")\n"
   ]
  },
  {
   "cell_type": "markdown",
   "source": [
    "in comparison to before \n",
    "\n",
    "equal:\n",
    "wdeg !\n",
    "deg !\n",
    "clust !\n",
    "ecc !\n",
    "close !\n",
    "\n",
    "\n",
    "worse:\n",
    "between !\n",
    "\n",
    "\n",
    "better:\n",
    "mod\n",
    "harm\n",
    "eig  !\n"
   ],
   "metadata": {
    "collapsed": false
   },
   "id": "84aad5ddf042354d"
  }
 ],
 "metadata": {
  "kernelspec": {
   "display_name": "Python 3",
   "language": "python",
   "name": "python3"
  },
  "language_info": {
   "codemirror_mode": {
    "name": "ipython",
    "version": 2
   },
   "file_extension": ".py",
   "mimetype": "text/x-python",
   "name": "python",
   "nbconvert_exporter": "python",
   "pygments_lexer": "ipython2",
   "version": "2.7.6"
  }
 },
 "nbformat": 4,
 "nbformat_minor": 5
}
