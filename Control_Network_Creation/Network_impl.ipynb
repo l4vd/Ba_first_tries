{
 "cells": [
  {
   "cell_type": "code",
   "execution_count": 97,
   "outputs": [
    {
     "data": {
      "text/plain": "              date                       title  \\\n0       2018-08-25              In My Feelings   \n1       2018-08-25              Girls Like You   \n2       2018-08-25                   I Like It   \n3       2018-08-25                        FEFE   \n4       2018-08-25                  Better Now   \n...            ...                         ...   \n313395  1958-08-11            Down In Virginia   \n313396  1958-08-11             Sunday Barbecue   \n313397  1958-08-11             Gotta Have Rain   \n313398  1958-08-11        Nothing In The World   \n313399  1958-08-11  Baubles, Bangles And Beads   \n\n                                             artist  peakPos  lastPos  weeks  \\\n0                                             Drake        1        1      7   \n1                        Maroon 5 Featuring Cardi B        2        2     12   \n2                     Cardi B, Bad Bunny & J Balvin        1        3     19   \n3       6ix9ine Featuring Nicki Minaj & Murda Beatz        3        5      4   \n4                                       Post Malone        5        6     16   \n...                                             ...      ...      ...    ...   \n313395                                   Jimmy Reed       96        0      0   \n313396                         Tennessee Ernie Ford       97        0      0   \n313397                                  Eydie Gorme       74       74      2   \n313398                                Nat King Cole       99        0      0   \n313399                         The Kirby Stone Four       50       50      2   \n\n        rank  \n0          1  \n1          2  \n2          3  \n3          4  \n4          5  \n...      ...  \n313395    96  \n313396    97  \n313397    98  \n313398    99  \n313399   100  \n\n[313400 rows x 7 columns]",
      "text/html": "<div>\n<style scoped>\n    .dataframe tbody tr th:only-of-type {\n        vertical-align: middle;\n    }\n\n    .dataframe tbody tr th {\n        vertical-align: top;\n    }\n\n    .dataframe thead th {\n        text-align: right;\n    }\n</style>\n<table border=\"1\" class=\"dataframe\">\n  <thead>\n    <tr style=\"text-align: right;\">\n      <th></th>\n      <th>date</th>\n      <th>title</th>\n      <th>artist</th>\n      <th>peakPos</th>\n      <th>lastPos</th>\n      <th>weeks</th>\n      <th>rank</th>\n    </tr>\n  </thead>\n  <tbody>\n    <tr>\n      <th>0</th>\n      <td>2018-08-25</td>\n      <td>In My Feelings</td>\n      <td>Drake</td>\n      <td>1</td>\n      <td>1</td>\n      <td>7</td>\n      <td>1</td>\n    </tr>\n    <tr>\n      <th>1</th>\n      <td>2018-08-25</td>\n      <td>Girls Like You</td>\n      <td>Maroon 5 Featuring Cardi B</td>\n      <td>2</td>\n      <td>2</td>\n      <td>12</td>\n      <td>2</td>\n    </tr>\n    <tr>\n      <th>2</th>\n      <td>2018-08-25</td>\n      <td>I Like It</td>\n      <td>Cardi B, Bad Bunny &amp; J Balvin</td>\n      <td>1</td>\n      <td>3</td>\n      <td>19</td>\n      <td>3</td>\n    </tr>\n    <tr>\n      <th>3</th>\n      <td>2018-08-25</td>\n      <td>FEFE</td>\n      <td>6ix9ine Featuring Nicki Minaj &amp; Murda Beatz</td>\n      <td>3</td>\n      <td>5</td>\n      <td>4</td>\n      <td>4</td>\n    </tr>\n    <tr>\n      <th>4</th>\n      <td>2018-08-25</td>\n      <td>Better Now</td>\n      <td>Post Malone</td>\n      <td>5</td>\n      <td>6</td>\n      <td>16</td>\n      <td>5</td>\n    </tr>\n    <tr>\n      <th>...</th>\n      <td>...</td>\n      <td>...</td>\n      <td>...</td>\n      <td>...</td>\n      <td>...</td>\n      <td>...</td>\n      <td>...</td>\n    </tr>\n    <tr>\n      <th>313395</th>\n      <td>1958-08-11</td>\n      <td>Down In Virginia</td>\n      <td>Jimmy Reed</td>\n      <td>96</td>\n      <td>0</td>\n      <td>0</td>\n      <td>96</td>\n    </tr>\n    <tr>\n      <th>313396</th>\n      <td>1958-08-11</td>\n      <td>Sunday Barbecue</td>\n      <td>Tennessee Ernie Ford</td>\n      <td>97</td>\n      <td>0</td>\n      <td>0</td>\n      <td>97</td>\n    </tr>\n    <tr>\n      <th>313397</th>\n      <td>1958-08-11</td>\n      <td>Gotta Have Rain</td>\n      <td>Eydie Gorme</td>\n      <td>74</td>\n      <td>74</td>\n      <td>2</td>\n      <td>98</td>\n    </tr>\n    <tr>\n      <th>313398</th>\n      <td>1958-08-11</td>\n      <td>Nothing In The World</td>\n      <td>Nat King Cole</td>\n      <td>99</td>\n      <td>0</td>\n      <td>0</td>\n      <td>99</td>\n    </tr>\n    <tr>\n      <th>313399</th>\n      <td>1958-08-11</td>\n      <td>Baubles, Bangles And Beads</td>\n      <td>The Kirby Stone Four</td>\n      <td>50</td>\n      <td>50</td>\n      <td>2</td>\n      <td>100</td>\n    </tr>\n  </tbody>\n</table>\n<p>313400 rows × 7 columns</p>\n</div>"
     },
     "execution_count": 97,
     "metadata": {},
     "output_type": "execute_result"
    }
   ],
   "source": [
    "import pandas as pd\n",
    "\n",
    "df_songs = pd.read_csv(\"billboard/Billboard Charts/hot100.csv\", sep=\"\\t\")\n",
    "df_songs"
   ],
   "metadata": {
    "collapsed": false,
    "ExecuteTime": {
     "end_time": "2024-02-26T12:28:35.098481200Z",
     "start_time": "2024-02-26T12:28:34.652482500Z"
    }
   },
   "id": "ebfb6c8f3ca722f3"
  },
  {
   "cell_type": "code",
   "execution_count": 98,
   "outputs": [],
   "source": [
    "def process_artists(input_str):\n",
    "    liste_art = input_str.split()\n",
    "\n",
    "    outp_list = []\n",
    "    current_art = \"\"\n",
    "    for art in liste_art:\n",
    "        if art == \"&\" and current_art != \"\":\n",
    "            outp_list.append(current_art)\n",
    "            current_art = \"\"\n",
    "        elif (art == \"Featuring\" or art == \"featuring\" or art == \"Feat.\") and current_art != \"\":\n",
    "            outp_list.append(current_art)\n",
    "            current_art = \"\"\n",
    "        elif \",\" in art and art[len(art)-1] == \",\":\n",
    "            outp_list.append(current_art + \" \" + art[:-1])\n",
    "            current_art = \"\"\n",
    "        elif current_art == \"\":\n",
    "            current_art = art\n",
    "        else:\n",
    "            current_art = current_art + \" \" + art\n",
    "\n",
    "    if current_art:  # Append the last artist if there's any remaining\n",
    "        outp_list.append(current_art)\n",
    "\n",
    "    return outp_list"
   ],
   "metadata": {
    "collapsed": false,
    "ExecuteTime": {
     "end_time": "2024-02-26T12:28:35.099481600Z",
     "start_time": "2024-02-26T12:28:34.851481700Z"
    }
   },
   "id": "a9c99922ea09055e"
  },
  {
   "cell_type": "code",
   "execution_count": 99,
   "outputs": [
    {
     "data": {
      "text/plain": "              date                       title  \\\n0       2018-08-25              In My Feelings   \n1       2018-08-25              Girls Like You   \n2       2018-08-25                   I Like It   \n3       2018-08-25                        FEFE   \n4       2018-08-25                  Better Now   \n...            ...                         ...   \n313395  1958-08-11            Down In Virginia   \n313396  1958-08-11             Sunday Barbecue   \n313397  1958-08-11             Gotta Have Rain   \n313398  1958-08-11        Nothing In The World   \n313399  1958-08-11  Baubles, Bangles And Beads   \n\n                                     artist  peakPos  lastPos  weeks  rank  \n0                                   [Drake]        1        1      7     1  \n1                       [Maroon 5, Cardi B]        2        2     12     2  \n2            [Cardi B, Bad Bunny, J Balvin]        1        3     19     3  \n3       [6ix9ine, Nicki Minaj, Murda Beatz]        3        5      4     4  \n4                             [Post Malone]        5        6     16     5  \n...                                     ...      ...      ...    ...   ...  \n313395                         [Jimmy Reed]       96        0      0    96  \n313396               [Tennessee Ernie Ford]       97        0      0    97  \n313397                        [Eydie Gorme]       74       74      2    98  \n313398                      [Nat King Cole]       99        0      0    99  \n313399               [The Kirby Stone Four]       50       50      2   100  \n\n[313400 rows x 7 columns]",
      "text/html": "<div>\n<style scoped>\n    .dataframe tbody tr th:only-of-type {\n        vertical-align: middle;\n    }\n\n    .dataframe tbody tr th {\n        vertical-align: top;\n    }\n\n    .dataframe thead th {\n        text-align: right;\n    }\n</style>\n<table border=\"1\" class=\"dataframe\">\n  <thead>\n    <tr style=\"text-align: right;\">\n      <th></th>\n      <th>date</th>\n      <th>title</th>\n      <th>artist</th>\n      <th>peakPos</th>\n      <th>lastPos</th>\n      <th>weeks</th>\n      <th>rank</th>\n    </tr>\n  </thead>\n  <tbody>\n    <tr>\n      <th>0</th>\n      <td>2018-08-25</td>\n      <td>In My Feelings</td>\n      <td>[Drake]</td>\n      <td>1</td>\n      <td>1</td>\n      <td>7</td>\n      <td>1</td>\n    </tr>\n    <tr>\n      <th>1</th>\n      <td>2018-08-25</td>\n      <td>Girls Like You</td>\n      <td>[Maroon 5, Cardi B]</td>\n      <td>2</td>\n      <td>2</td>\n      <td>12</td>\n      <td>2</td>\n    </tr>\n    <tr>\n      <th>2</th>\n      <td>2018-08-25</td>\n      <td>I Like It</td>\n      <td>[Cardi B, Bad Bunny, J Balvin]</td>\n      <td>1</td>\n      <td>3</td>\n      <td>19</td>\n      <td>3</td>\n    </tr>\n    <tr>\n      <th>3</th>\n      <td>2018-08-25</td>\n      <td>FEFE</td>\n      <td>[6ix9ine, Nicki Minaj, Murda Beatz]</td>\n      <td>3</td>\n      <td>5</td>\n      <td>4</td>\n      <td>4</td>\n    </tr>\n    <tr>\n      <th>4</th>\n      <td>2018-08-25</td>\n      <td>Better Now</td>\n      <td>[Post Malone]</td>\n      <td>5</td>\n      <td>6</td>\n      <td>16</td>\n      <td>5</td>\n    </tr>\n    <tr>\n      <th>...</th>\n      <td>...</td>\n      <td>...</td>\n      <td>...</td>\n      <td>...</td>\n      <td>...</td>\n      <td>...</td>\n      <td>...</td>\n    </tr>\n    <tr>\n      <th>313395</th>\n      <td>1958-08-11</td>\n      <td>Down In Virginia</td>\n      <td>[Jimmy Reed]</td>\n      <td>96</td>\n      <td>0</td>\n      <td>0</td>\n      <td>96</td>\n    </tr>\n    <tr>\n      <th>313396</th>\n      <td>1958-08-11</td>\n      <td>Sunday Barbecue</td>\n      <td>[Tennessee Ernie Ford]</td>\n      <td>97</td>\n      <td>0</td>\n      <td>0</td>\n      <td>97</td>\n    </tr>\n    <tr>\n      <th>313397</th>\n      <td>1958-08-11</td>\n      <td>Gotta Have Rain</td>\n      <td>[Eydie Gorme]</td>\n      <td>74</td>\n      <td>74</td>\n      <td>2</td>\n      <td>98</td>\n    </tr>\n    <tr>\n      <th>313398</th>\n      <td>1958-08-11</td>\n      <td>Nothing In The World</td>\n      <td>[Nat King Cole]</td>\n      <td>99</td>\n      <td>0</td>\n      <td>0</td>\n      <td>99</td>\n    </tr>\n    <tr>\n      <th>313399</th>\n      <td>1958-08-11</td>\n      <td>Baubles, Bangles And Beads</td>\n      <td>[The Kirby Stone Four]</td>\n      <td>50</td>\n      <td>50</td>\n      <td>2</td>\n      <td>100</td>\n    </tr>\n  </tbody>\n</table>\n<p>313400 rows × 7 columns</p>\n</div>"
     },
     "execution_count": 99,
     "metadata": {},
     "output_type": "execute_result"
    }
   ],
   "source": [
    "df_songs['artist'] = df_songs['artist'].apply(process_artists)\n",
    "df_songs"
   ],
   "metadata": {
    "collapsed": false,
    "ExecuteTime": {
     "end_time": "2024-02-26T12:28:35.845483500Z",
     "start_time": "2024-02-26T12:28:34.863483500Z"
    }
   },
   "id": "a08313ab1671cf86"
  },
  {
   "cell_type": "markdown",
   "source": [
    "merge nun mit musicoset für songs"
   ],
   "metadata": {
    "collapsed": false
   },
   "id": "eae27b77c0dd3217"
  },
  {
   "cell_type": "code",
   "execution_count": 100,
   "outputs": [
    {
     "data": {
      "text/plain": "              date                 title           artist  peakPos  lastPos  \\\n0       2018-08-25        In My Feelings          [Drake]        1        1   \n1       2018-08-18        In My Feelings          [Drake]        1        1   \n2       2018-08-11        In My Feelings          [Drake]        1        1   \n3       2018-08-04        In My Feelings          [Drake]        1        1   \n4       2018-07-28        In My Feelings          [Drake]        1        1   \n...            ...                   ...              ...      ...      ...   \n150849  1963-11-23    Be Mad Little Girl    [Bobby Darin]       90        0   \n150850  1964-01-04  I'll Search My Heart  [Johnny Mathis]       90       90   \n150851  1963-12-28  I'll Search My Heart  [Johnny Mathis]       90       94   \n150852  1963-12-21  I'll Search My Heart  [Johnny Mathis]       94       95   \n150853  1963-12-14  I'll Search My Heart  [Johnny Mathis]       95        0   \n\n        weeks  rank                 song_id  \\\n0           7     1  2G7V7zsVDxg1yRsu7Ew9RJ   \n1           6     1  2G7V7zsVDxg1yRsu7Ew9RJ   \n2           5     1  2G7V7zsVDxg1yRsu7Ew9RJ   \n3           4     1  2G7V7zsVDxg1yRsu7Ew9RJ   \n4           3     1  2G7V7zsVDxg1yRsu7Ew9RJ   \n...       ...   ...                     ...   \n150849      0    90  33dpZRUyyjAvGkS8xDJkkO   \n150850      4    97  7Gk1QKi2BAZCnrYlrYEDjC   \n150851      3    90  7Gk1QKi2BAZCnrYlrYEDjC   \n150852      2    94  7Gk1QKi2BAZCnrYlrYEDjC   \n150853      0    95  7Gk1QKi2BAZCnrYlrYEDjC   \n\n                                        billboard  \\\n0                     ('In My Feelings', 'Drake')   \n1                     ('In My Feelings', 'Drake')   \n2                     ('In My Feelings', 'Drake')   \n3                     ('In My Feelings', 'Drake')   \n4                     ('In My Feelings', 'Drake')   \n...                                           ...   \n150849      ('Be Mad Little Girl', 'Bobby Darin')   \n150850  (\"I'll Search My Heart\", 'Johnny Mathis')   \n150851  (\"I'll Search My Heart\", 'Johnny Mathis')   \n150852  (\"I'll Search My Heart\", 'Johnny Mathis')   \n150853  (\"I'll Search My Heart\", 'Johnny Mathis')   \n\n                                            artists  popularity  explicit  \\\n0               {'3TVXtAsR1Inumwj472S9r4': 'Drake'}          82      True   \n1               {'3TVXtAsR1Inumwj472S9r4': 'Drake'}          82      True   \n2               {'3TVXtAsR1Inumwj472S9r4': 'Drake'}          82      True   \n3               {'3TVXtAsR1Inumwj472S9r4': 'Drake'}          82      True   \n4               {'3TVXtAsR1Inumwj472S9r4': 'Drake'}          82      True   \n...                                             ...         ...       ...   \n150849    {'0EodhzA6yW1bIdD5B4tcmJ': 'Bobby Darin'}           1     False   \n150850  {'21LGsW7bziR4Ledx7WZ1Wf': 'Johnny Mathis'}           3     False   \n150851  {'21LGsW7bziR4Ledx7WZ1Wf': 'Johnny Mathis'}           3     False   \n150852  {'21LGsW7bziR4Ledx7WZ1Wf': 'Johnny Mathis'}           3     False   \n150853  {'21LGsW7bziR4Ledx7WZ1Wf': 'Johnny Mathis'}           3     False   \n\n       song_type                album_id  track_number release_date  \\\n0           Solo  1ATL5GLyefJaxhQzSPVrLX             9   2018-06-29   \n1           Solo  1ATL5GLyefJaxhQzSPVrLX             9   2018-06-29   \n2           Solo  1ATL5GLyefJaxhQzSPVrLX             9   2018-06-29   \n3           Solo  1ATL5GLyefJaxhQzSPVrLX             9   2018-06-29   \n4           Solo  1ATL5GLyefJaxhQzSPVrLX             9   2018-06-29   \n...          ...                     ...           ...          ...   \n150849      Solo  0osnE1kZ7fPfSf41qP3AZN             9   1989-01-01   \n150850      Solo  2eWGEDWDdJHHlBtDqVvRSN             8   2015-09-25   \n150851      Solo  2eWGEDWDdJHHlBtDqVvRSN             8   2015-09-25   \n150852      Solo  2eWGEDWDdJHHlBtDqVvRSN             8   2015-09-25   \n150853      Solo  2eWGEDWDdJHHlBtDqVvRSN             8   2015-09-25   \n\n       release_date_precision  \n0                         day  \n1                         day  \n2                         day  \n3                         day  \n4                         day  \n...                       ...  \n150849                    day  \n150850                    day  \n150851                    day  \n150852                    day  \n150853                    day  \n\n[150854 rows x 17 columns]",
      "text/html": "<div>\n<style scoped>\n    .dataframe tbody tr th:only-of-type {\n        vertical-align: middle;\n    }\n\n    .dataframe tbody tr th {\n        vertical-align: top;\n    }\n\n    .dataframe thead th {\n        text-align: right;\n    }\n</style>\n<table border=\"1\" class=\"dataframe\">\n  <thead>\n    <tr style=\"text-align: right;\">\n      <th></th>\n      <th>date</th>\n      <th>title</th>\n      <th>artist</th>\n      <th>peakPos</th>\n      <th>lastPos</th>\n      <th>weeks</th>\n      <th>rank</th>\n      <th>song_id</th>\n      <th>billboard</th>\n      <th>artists</th>\n      <th>popularity</th>\n      <th>explicit</th>\n      <th>song_type</th>\n      <th>album_id</th>\n      <th>track_number</th>\n      <th>release_date</th>\n      <th>release_date_precision</th>\n    </tr>\n  </thead>\n  <tbody>\n    <tr>\n      <th>0</th>\n      <td>2018-08-25</td>\n      <td>In My Feelings</td>\n      <td>[Drake]</td>\n      <td>1</td>\n      <td>1</td>\n      <td>7</td>\n      <td>1</td>\n      <td>2G7V7zsVDxg1yRsu7Ew9RJ</td>\n      <td>('In My Feelings', 'Drake')</td>\n      <td>{'3TVXtAsR1Inumwj472S9r4': 'Drake'}</td>\n      <td>82</td>\n      <td>True</td>\n      <td>Solo</td>\n      <td>1ATL5GLyefJaxhQzSPVrLX</td>\n      <td>9</td>\n      <td>2018-06-29</td>\n      <td>day</td>\n    </tr>\n    <tr>\n      <th>1</th>\n      <td>2018-08-18</td>\n      <td>In My Feelings</td>\n      <td>[Drake]</td>\n      <td>1</td>\n      <td>1</td>\n      <td>6</td>\n      <td>1</td>\n      <td>2G7V7zsVDxg1yRsu7Ew9RJ</td>\n      <td>('In My Feelings', 'Drake')</td>\n      <td>{'3TVXtAsR1Inumwj472S9r4': 'Drake'}</td>\n      <td>82</td>\n      <td>True</td>\n      <td>Solo</td>\n      <td>1ATL5GLyefJaxhQzSPVrLX</td>\n      <td>9</td>\n      <td>2018-06-29</td>\n      <td>day</td>\n    </tr>\n    <tr>\n      <th>2</th>\n      <td>2018-08-11</td>\n      <td>In My Feelings</td>\n      <td>[Drake]</td>\n      <td>1</td>\n      <td>1</td>\n      <td>5</td>\n      <td>1</td>\n      <td>2G7V7zsVDxg1yRsu7Ew9RJ</td>\n      <td>('In My Feelings', 'Drake')</td>\n      <td>{'3TVXtAsR1Inumwj472S9r4': 'Drake'}</td>\n      <td>82</td>\n      <td>True</td>\n      <td>Solo</td>\n      <td>1ATL5GLyefJaxhQzSPVrLX</td>\n      <td>9</td>\n      <td>2018-06-29</td>\n      <td>day</td>\n    </tr>\n    <tr>\n      <th>3</th>\n      <td>2018-08-04</td>\n      <td>In My Feelings</td>\n      <td>[Drake]</td>\n      <td>1</td>\n      <td>1</td>\n      <td>4</td>\n      <td>1</td>\n      <td>2G7V7zsVDxg1yRsu7Ew9RJ</td>\n      <td>('In My Feelings', 'Drake')</td>\n      <td>{'3TVXtAsR1Inumwj472S9r4': 'Drake'}</td>\n      <td>82</td>\n      <td>True</td>\n      <td>Solo</td>\n      <td>1ATL5GLyefJaxhQzSPVrLX</td>\n      <td>9</td>\n      <td>2018-06-29</td>\n      <td>day</td>\n    </tr>\n    <tr>\n      <th>4</th>\n      <td>2018-07-28</td>\n      <td>In My Feelings</td>\n      <td>[Drake]</td>\n      <td>1</td>\n      <td>1</td>\n      <td>3</td>\n      <td>1</td>\n      <td>2G7V7zsVDxg1yRsu7Ew9RJ</td>\n      <td>('In My Feelings', 'Drake')</td>\n      <td>{'3TVXtAsR1Inumwj472S9r4': 'Drake'}</td>\n      <td>82</td>\n      <td>True</td>\n      <td>Solo</td>\n      <td>1ATL5GLyefJaxhQzSPVrLX</td>\n      <td>9</td>\n      <td>2018-06-29</td>\n      <td>day</td>\n    </tr>\n    <tr>\n      <th>...</th>\n      <td>...</td>\n      <td>...</td>\n      <td>...</td>\n      <td>...</td>\n      <td>...</td>\n      <td>...</td>\n      <td>...</td>\n      <td>...</td>\n      <td>...</td>\n      <td>...</td>\n      <td>...</td>\n      <td>...</td>\n      <td>...</td>\n      <td>...</td>\n      <td>...</td>\n      <td>...</td>\n      <td>...</td>\n    </tr>\n    <tr>\n      <th>150849</th>\n      <td>1963-11-23</td>\n      <td>Be Mad Little Girl</td>\n      <td>[Bobby Darin]</td>\n      <td>90</td>\n      <td>0</td>\n      <td>0</td>\n      <td>90</td>\n      <td>33dpZRUyyjAvGkS8xDJkkO</td>\n      <td>('Be Mad Little Girl', 'Bobby Darin')</td>\n      <td>{'0EodhzA6yW1bIdD5B4tcmJ': 'Bobby Darin'}</td>\n      <td>1</td>\n      <td>False</td>\n      <td>Solo</td>\n      <td>0osnE1kZ7fPfSf41qP3AZN</td>\n      <td>9</td>\n      <td>1989-01-01</td>\n      <td>day</td>\n    </tr>\n    <tr>\n      <th>150850</th>\n      <td>1964-01-04</td>\n      <td>I'll Search My Heart</td>\n      <td>[Johnny Mathis]</td>\n      <td>90</td>\n      <td>90</td>\n      <td>4</td>\n      <td>97</td>\n      <td>7Gk1QKi2BAZCnrYlrYEDjC</td>\n      <td>(\"I'll Search My Heart\", 'Johnny Mathis')</td>\n      <td>{'21LGsW7bziR4Ledx7WZ1Wf': 'Johnny Mathis'}</td>\n      <td>3</td>\n      <td>False</td>\n      <td>Solo</td>\n      <td>2eWGEDWDdJHHlBtDqVvRSN</td>\n      <td>8</td>\n      <td>2015-09-25</td>\n      <td>day</td>\n    </tr>\n    <tr>\n      <th>150851</th>\n      <td>1963-12-28</td>\n      <td>I'll Search My Heart</td>\n      <td>[Johnny Mathis]</td>\n      <td>90</td>\n      <td>94</td>\n      <td>3</td>\n      <td>90</td>\n      <td>7Gk1QKi2BAZCnrYlrYEDjC</td>\n      <td>(\"I'll Search My Heart\", 'Johnny Mathis')</td>\n      <td>{'21LGsW7bziR4Ledx7WZ1Wf': 'Johnny Mathis'}</td>\n      <td>3</td>\n      <td>False</td>\n      <td>Solo</td>\n      <td>2eWGEDWDdJHHlBtDqVvRSN</td>\n      <td>8</td>\n      <td>2015-09-25</td>\n      <td>day</td>\n    </tr>\n    <tr>\n      <th>150852</th>\n      <td>1963-12-21</td>\n      <td>I'll Search My Heart</td>\n      <td>[Johnny Mathis]</td>\n      <td>94</td>\n      <td>95</td>\n      <td>2</td>\n      <td>94</td>\n      <td>7Gk1QKi2BAZCnrYlrYEDjC</td>\n      <td>(\"I'll Search My Heart\", 'Johnny Mathis')</td>\n      <td>{'21LGsW7bziR4Ledx7WZ1Wf': 'Johnny Mathis'}</td>\n      <td>3</td>\n      <td>False</td>\n      <td>Solo</td>\n      <td>2eWGEDWDdJHHlBtDqVvRSN</td>\n      <td>8</td>\n      <td>2015-09-25</td>\n      <td>day</td>\n    </tr>\n    <tr>\n      <th>150853</th>\n      <td>1963-12-14</td>\n      <td>I'll Search My Heart</td>\n      <td>[Johnny Mathis]</td>\n      <td>95</td>\n      <td>0</td>\n      <td>0</td>\n      <td>95</td>\n      <td>7Gk1QKi2BAZCnrYlrYEDjC</td>\n      <td>(\"I'll Search My Heart\", 'Johnny Mathis')</td>\n      <td>{'21LGsW7bziR4Ledx7WZ1Wf': 'Johnny Mathis'}</td>\n      <td>3</td>\n      <td>False</td>\n      <td>Solo</td>\n      <td>2eWGEDWDdJHHlBtDqVvRSN</td>\n      <td>8</td>\n      <td>2015-09-25</td>\n      <td>day</td>\n    </tr>\n  </tbody>\n</table>\n<p>150854 rows × 17 columns</p>\n</div>"
     },
     "execution_count": 100,
     "metadata": {},
     "output_type": "execute_result"
    }
   ],
   "source": [
    "df_songs_musico = pd.read_csv(\"../MusicOSet/musicoset_metadata/songs.csv\", delimiter=\"\\t\")\n",
    "df_tracks_musico = pd.read_csv(\"../MusicOSet/musicoset_metadata/tracks.csv\", delimiter=\"\\t\")\n",
    "df_merged_songs_musico = pd.merge(df_songs_musico, df_tracks_musico, on='song_id', how='inner')\n",
    "df_merged_songs_musico.rename(columns={'song_name': 'title'}, inplace=True)\n",
    "df_merged_songs_musico[\"artist\"] = df_merged_songs_musico[\"artists\"].apply(lambda x: tuple(list(eval(x).values()))) \n",
    "df_songs[\"artist\"] = df_songs[\"artist\"].apply(tuple) \n",
    "df_merged_songs_all = pd.merge(df_songs, df_merged_songs_musico, on=[\"title\", \"artist\"], how='inner')\n",
    "df_merged_songs_all[\"artist\"] = df_merged_songs_all[\"artist\"].apply(list)\n",
    "df_merged_songs_all"
   ],
   "metadata": {
    "collapsed": false,
    "ExecuteTime": {
     "end_time": "2024-02-26T12:28:36.502483Z",
     "start_time": "2024-02-26T12:28:35.850482700Z"
    }
   },
   "id": "bae3ff1906899b23"
  },
  {
   "cell_type": "code",
   "execution_count": 101,
   "outputs": [
    {
     "data": {
      "text/plain": "1135"
     },
     "execution_count": 101,
     "metadata": {},
     "output_type": "execute_result"
    }
   ],
   "source": [
    "df_artists = pd.read_csv(\"billboard/Billboard Charts/top100_artists.csv\", sep=\"\\t\")\n",
    "artist_set = set(df_artists[\"artist\"])\n",
    "len(artist_set)"
   ],
   "metadata": {
    "collapsed": false,
    "ExecuteTime": {
     "end_time": "2024-02-26T12:28:36.547483Z",
     "start_time": "2024-02-26T12:28:36.505482900Z"
    }
   },
   "id": "81da44a6d1c1708c"
  },
  {
   "cell_type": "code",
   "execution_count": 102,
   "outputs": [
    {
     "data": {
      "text/plain": "8432"
     },
     "execution_count": 102,
     "metadata": {},
     "output_type": "execute_result"
    }
   ],
   "source": [
    "all_artists_names = set(df_songs[\"artist\"].iloc[0])\n",
    "for art in df_songs[\"artist\"].iloc[1:]:\n",
    "    all_artists_names.update(art)\n",
    "    \n",
    "len(all_artists_names)"
   ],
   "metadata": {
    "collapsed": false,
    "ExecuteTime": {
     "end_time": "2024-02-26T12:28:36.656481100Z",
     "start_time": "2024-02-26T12:28:36.609480900Z"
    }
   },
   "id": "85076f1130f228b1"
  },
  {
   "cell_type": "markdown",
   "source": [
    "da Daten bezüglich der Songs und Artists fehlen mergen wir diese mit dem Musicoset\n"
   ],
   "metadata": {
    "collapsed": false
   },
   "id": "292d07f95a8b531c"
  },
  {
   "cell_type": "code",
   "execution_count": 103,
   "outputs": [
    {
     "data": {
      "text/plain": "                    artist_id             name   followers  popularity  \\\n0      66CXWjxzNUsdJxJ2JdwvnR    Ariana Grande  34554242.0          96   \n1      26VFTg2z8YR0cCuwLzESi2           Halsey   7368242.0          90   \n2      0Y5tJX1MQlPlqiwlOH1tJY     Travis Scott   6313709.0          94   \n3      246dkjvS1zLTtiykXe5h60      Post Malone  16737002.0          96   \n4      1zNqQNIdeOUZHb8zbZRFMX         Swae Lee    483032.0          89   \n...                       ...              ...         ...         ...   \n11513  7vyRisgvM6Wm0Pnp0qXx6m     Sweeney Todd       634.0          19   \n11514  2Uh4UmiQhrrElbrvJVH0dT  Brooklyn Dreams       318.0          32   \n11515  1VGFS4UGLOAxlMGqzcqHG1              PMD      1405.0          32   \n11516  3Se8xpgCBmfXVnZqRSRRH9  The Tribute Co.       274.0          21   \n11517  45d3pteh2TnzUMMl27J4MY     Tommy Morgan        78.0          15   \n\n      artist_type             main_genre  \\\n0          singer              dance pop   \n1          singer              dance pop   \n2          rapper                    pop   \n3          rapper                dfw rap   \n4          singer             trap music   \n...           ...                    ...   \n11513           -  classic canadian rock   \n11514        band                      -   \n11515           -                      -   \n11516           -                      -   \n11517      singer                      -   \n\n                                                  genres  \\\n0                  ['dance pop', 'pop', 'post-teen pop']   \n1      ['dance pop', 'electropop', 'etherpop', 'indie...   \n2                              ['pop', 'pop rap', 'rap']   \n3                              ['dfw rap', 'pop', 'rap']   \n4                                         ['trap music']   \n...                                                  ...   \n11513                          ['classic canadian rock']   \n11514                                                 []   \n11515                                                 []   \n11516                                                 []   \n11517                                                 []   \n\n                                               image_url  \n0      https://i.scdn.co/image/b1dfbe843b0b9f54ab2e58...  \n1      https://i.scdn.co/image/22a5f3d8c42bc7cb55215e...  \n2      https://i.scdn.co/image/dc5eba5e032c2e5bc4d42c...  \n3      https://i.scdn.co/image/f9d8b742b66609f12da023...  \n4      https://i.scdn.co/image/a177469870b41f7e17e3b5...  \n...                                                  ...  \n11513  https://i.scdn.co/image/47166b7afefd590ce85086...  \n11514  https://i.scdn.co/image/bae9c82929c50d2dadb1ec...  \n11515  https://i.scdn.co/image/926172541a4dff5dca6bce...  \n11516  https://i.scdn.co/image/d4e9b2299fc5cbe4332251...  \n11517  https://i.scdn.co/image/1c5cb45ccb80438b72a98a...  \n\n[11518 rows x 8 columns]",
      "text/html": "<div>\n<style scoped>\n    .dataframe tbody tr th:only-of-type {\n        vertical-align: middle;\n    }\n\n    .dataframe tbody tr th {\n        vertical-align: top;\n    }\n\n    .dataframe thead th {\n        text-align: right;\n    }\n</style>\n<table border=\"1\" class=\"dataframe\">\n  <thead>\n    <tr style=\"text-align: right;\">\n      <th></th>\n      <th>artist_id</th>\n      <th>name</th>\n      <th>followers</th>\n      <th>popularity</th>\n      <th>artist_type</th>\n      <th>main_genre</th>\n      <th>genres</th>\n      <th>image_url</th>\n    </tr>\n  </thead>\n  <tbody>\n    <tr>\n      <th>0</th>\n      <td>66CXWjxzNUsdJxJ2JdwvnR</td>\n      <td>Ariana Grande</td>\n      <td>34554242.0</td>\n      <td>96</td>\n      <td>singer</td>\n      <td>dance pop</td>\n      <td>['dance pop', 'pop', 'post-teen pop']</td>\n      <td>https://i.scdn.co/image/b1dfbe843b0b9f54ab2e58...</td>\n    </tr>\n    <tr>\n      <th>1</th>\n      <td>26VFTg2z8YR0cCuwLzESi2</td>\n      <td>Halsey</td>\n      <td>7368242.0</td>\n      <td>90</td>\n      <td>singer</td>\n      <td>dance pop</td>\n      <td>['dance pop', 'electropop', 'etherpop', 'indie...</td>\n      <td>https://i.scdn.co/image/22a5f3d8c42bc7cb55215e...</td>\n    </tr>\n    <tr>\n      <th>2</th>\n      <td>0Y5tJX1MQlPlqiwlOH1tJY</td>\n      <td>Travis Scott</td>\n      <td>6313709.0</td>\n      <td>94</td>\n      <td>rapper</td>\n      <td>pop</td>\n      <td>['pop', 'pop rap', 'rap']</td>\n      <td>https://i.scdn.co/image/dc5eba5e032c2e5bc4d42c...</td>\n    </tr>\n    <tr>\n      <th>3</th>\n      <td>246dkjvS1zLTtiykXe5h60</td>\n      <td>Post Malone</td>\n      <td>16737002.0</td>\n      <td>96</td>\n      <td>rapper</td>\n      <td>dfw rap</td>\n      <td>['dfw rap', 'pop', 'rap']</td>\n      <td>https://i.scdn.co/image/f9d8b742b66609f12da023...</td>\n    </tr>\n    <tr>\n      <th>4</th>\n      <td>1zNqQNIdeOUZHb8zbZRFMX</td>\n      <td>Swae Lee</td>\n      <td>483032.0</td>\n      <td>89</td>\n      <td>singer</td>\n      <td>trap music</td>\n      <td>['trap music']</td>\n      <td>https://i.scdn.co/image/a177469870b41f7e17e3b5...</td>\n    </tr>\n    <tr>\n      <th>...</th>\n      <td>...</td>\n      <td>...</td>\n      <td>...</td>\n      <td>...</td>\n      <td>...</td>\n      <td>...</td>\n      <td>...</td>\n      <td>...</td>\n    </tr>\n    <tr>\n      <th>11513</th>\n      <td>7vyRisgvM6Wm0Pnp0qXx6m</td>\n      <td>Sweeney Todd</td>\n      <td>634.0</td>\n      <td>19</td>\n      <td>-</td>\n      <td>classic canadian rock</td>\n      <td>['classic canadian rock']</td>\n      <td>https://i.scdn.co/image/47166b7afefd590ce85086...</td>\n    </tr>\n    <tr>\n      <th>11514</th>\n      <td>2Uh4UmiQhrrElbrvJVH0dT</td>\n      <td>Brooklyn Dreams</td>\n      <td>318.0</td>\n      <td>32</td>\n      <td>band</td>\n      <td>-</td>\n      <td>[]</td>\n      <td>https://i.scdn.co/image/bae9c82929c50d2dadb1ec...</td>\n    </tr>\n    <tr>\n      <th>11515</th>\n      <td>1VGFS4UGLOAxlMGqzcqHG1</td>\n      <td>PMD</td>\n      <td>1405.0</td>\n      <td>32</td>\n      <td>-</td>\n      <td>-</td>\n      <td>[]</td>\n      <td>https://i.scdn.co/image/926172541a4dff5dca6bce...</td>\n    </tr>\n    <tr>\n      <th>11516</th>\n      <td>3Se8xpgCBmfXVnZqRSRRH9</td>\n      <td>The Tribute Co.</td>\n      <td>274.0</td>\n      <td>21</td>\n      <td>-</td>\n      <td>-</td>\n      <td>[]</td>\n      <td>https://i.scdn.co/image/d4e9b2299fc5cbe4332251...</td>\n    </tr>\n    <tr>\n      <th>11517</th>\n      <td>45d3pteh2TnzUMMl27J4MY</td>\n      <td>Tommy Morgan</td>\n      <td>78.0</td>\n      <td>15</td>\n      <td>singer</td>\n      <td>-</td>\n      <td>[]</td>\n      <td>https://i.scdn.co/image/1c5cb45ccb80438b72a98a...</td>\n    </tr>\n  </tbody>\n</table>\n<p>11518 rows × 8 columns</p>\n</div>"
     },
     "execution_count": 103,
     "metadata": {},
     "output_type": "execute_result"
    }
   ],
   "source": [
    "df_artists = pd.read_csv(\"../MusicOSet/musicoset_metadata/artists.csv\", delimiter=\"\\t\")\n",
    "df_artists"
   ],
   "metadata": {
    "collapsed": false,
    "ExecuteTime": {
     "end_time": "2024-02-26T12:28:36.731486700Z",
     "start_time": "2024-02-26T12:28:36.628483600Z"
    }
   },
   "id": "cbc8b4774fd5d988"
  },
  {
   "cell_type": "code",
   "execution_count": 104,
   "outputs": [
    {
     "data": {
      "text/plain": "                       name\n0     Red Hot Chili Peppers\n1                Tom Kimmel\n2         Tyrannosaurus Rex\n3                      Bull\n4             April Stevens\n...                     ...\n8427                  Heart\n8428          The Four Lads\n8429             Rick James\n8430        The Maad Circle\n8431       The Bubble Puppy\n\n[8432 rows x 1 columns]",
      "text/html": "<div>\n<style scoped>\n    .dataframe tbody tr th:only-of-type {\n        vertical-align: middle;\n    }\n\n    .dataframe tbody tr th {\n        vertical-align: top;\n    }\n\n    .dataframe thead th {\n        text-align: right;\n    }\n</style>\n<table border=\"1\" class=\"dataframe\">\n  <thead>\n    <tr style=\"text-align: right;\">\n      <th></th>\n      <th>name</th>\n    </tr>\n  </thead>\n  <tbody>\n    <tr>\n      <th>0</th>\n      <td>Red Hot Chili Peppers</td>\n    </tr>\n    <tr>\n      <th>1</th>\n      <td>Tom Kimmel</td>\n    </tr>\n    <tr>\n      <th>2</th>\n      <td>Tyrannosaurus Rex</td>\n    </tr>\n    <tr>\n      <th>3</th>\n      <td>Bull</td>\n    </tr>\n    <tr>\n      <th>4</th>\n      <td>April Stevens</td>\n    </tr>\n    <tr>\n      <th>...</th>\n      <td>...</td>\n    </tr>\n    <tr>\n      <th>8427</th>\n      <td>Heart</td>\n    </tr>\n    <tr>\n      <th>8428</th>\n      <td>The Four Lads</td>\n    </tr>\n    <tr>\n      <th>8429</th>\n      <td>Rick James</td>\n    </tr>\n    <tr>\n      <th>8430</th>\n      <td>The Maad Circle</td>\n    </tr>\n    <tr>\n      <th>8431</th>\n      <td>The Bubble Puppy</td>\n    </tr>\n  </tbody>\n</table>\n<p>8432 rows × 1 columns</p>\n</div>"
     },
     "execution_count": 104,
     "metadata": {},
     "output_type": "execute_result"
    }
   ],
   "source": [
    "all_artists_names_df = pd.DataFrame(all_artists_names, columns=[\"name\"])\n",
    "all_artists_names_df"
   ],
   "metadata": {
    "collapsed": false,
    "ExecuteTime": {
     "end_time": "2024-02-26T12:28:36.779482100Z",
     "start_time": "2024-02-26T12:28:36.688482Z"
    }
   },
   "id": "ba952d2325a3a420"
  },
  {
   "cell_type": "code",
   "execution_count": 105,
   "outputs": [
    {
     "data": {
      "text/plain": "                       name               artist_id   followers  popularity  \\\n0     Red Hot Chili Peppers  0L8ExT028jH3ddEcZwqJJ5  11324218.0          86   \n1                 Me Phi Me  1DnVOxk0eGop0cUKbWsP6O       338.0          15   \n2                       Tag  6uXeiLKVmrS5aG3TpQbFUq       201.0          14   \n3                    Clipse  2J257euzcjnDLipsyJH3F2    169232.0          54   \n4             Bobby Freeman  5oMWW19j0AXl7Sy4Xn9rmg      3898.0          36   \n...                     ...                     ...         ...         ...   \n4957        Nine Inch Nails  0X380XXQSNBYuleKzav5UO   1267482.0          70   \n4958                  Heart  34jw2BbxjoYalTp8cJFCPv   1044515.0          71   \n4959          The Four Lads  3stlWzoChlEtbdZAz6CNC3     11284.0          37   \n4960             Rick James  0FrpdcVlJQqibaz5HfBUrL    567796.0          65   \n4961       The Bubble Puppy  6C4KYtkO2ElWXV8088XuI7      1595.0          17   \n\n     artist_type           main_genre  \\\n0           band     alternative rock   \n1           band                    -   \n2              -                    -   \n3         rapper  alternative hip hop   \n4              -   brill building pop   \n...          ...                  ...   \n4957        band    alternative metal   \n4958        band           album rock   \n4959        band      adult standards   \n4960      singer                disco   \n4961        band                    -   \n\n                                                 genres  \\\n0     ['alternative rock', 'funk metal', 'funk rock'...   \n1                                                    []   \n2                                                    []   \n3     ['alternative hip hop', 'dirty south rap', 'ga...   \n4     ['brill building pop', 'doo-wop', 'rhythm and ...   \n...                                                 ...   \n4957  ['alternative metal', 'alternative rock', 'cyb...   \n4958  ['album rock', 'classic rock', 'hard rock', 'h...   \n4959  ['adult standards', 'deep adult standards', 'v...   \n4960  ['disco', 'funk', 'motown', 'post-disco', 'qui...   \n4961                                                 []   \n\n                                              image_url  \n0     https://i.scdn.co/image/5b2072e522bf3324019a8c...  \n1     https://i.scdn.co/image/70b801726cd56aa84c954e...  \n2     https://i.scdn.co/image/c3c28abe45b49c7b9b9eb1...  \n3     https://i.scdn.co/image/dba80f94d4be6d119eb5ff...  \n4     https://i.scdn.co/image/aa41635fe4d492d00a28f6...  \n...                                                 ...  \n4957  https://i.scdn.co/image/959969ce11b5b44c45e006...  \n4958  https://i.scdn.co/image/1c145626e516a6817c43e7...  \n4959  https://i.scdn.co/image/c27f24e1e201434e74c092...  \n4960  https://i.scdn.co/image/e6c035ae9b2a8dd5cf6a3c...  \n4961  https://i.scdn.co/image/81e85a3f3bce4fa24bc43f...  \n\n[4962 rows x 8 columns]",
      "text/html": "<div>\n<style scoped>\n    .dataframe tbody tr th:only-of-type {\n        vertical-align: middle;\n    }\n\n    .dataframe tbody tr th {\n        vertical-align: top;\n    }\n\n    .dataframe thead th {\n        text-align: right;\n    }\n</style>\n<table border=\"1\" class=\"dataframe\">\n  <thead>\n    <tr style=\"text-align: right;\">\n      <th></th>\n      <th>name</th>\n      <th>artist_id</th>\n      <th>followers</th>\n      <th>popularity</th>\n      <th>artist_type</th>\n      <th>main_genre</th>\n      <th>genres</th>\n      <th>image_url</th>\n    </tr>\n  </thead>\n  <tbody>\n    <tr>\n      <th>0</th>\n      <td>Red Hot Chili Peppers</td>\n      <td>0L8ExT028jH3ddEcZwqJJ5</td>\n      <td>11324218.0</td>\n      <td>86</td>\n      <td>band</td>\n      <td>alternative rock</td>\n      <td>['alternative rock', 'funk metal', 'funk rock'...</td>\n      <td>https://i.scdn.co/image/5b2072e522bf3324019a8c...</td>\n    </tr>\n    <tr>\n      <th>1</th>\n      <td>Me Phi Me</td>\n      <td>1DnVOxk0eGop0cUKbWsP6O</td>\n      <td>338.0</td>\n      <td>15</td>\n      <td>band</td>\n      <td>-</td>\n      <td>[]</td>\n      <td>https://i.scdn.co/image/70b801726cd56aa84c954e...</td>\n    </tr>\n    <tr>\n      <th>2</th>\n      <td>Tag</td>\n      <td>6uXeiLKVmrS5aG3TpQbFUq</td>\n      <td>201.0</td>\n      <td>14</td>\n      <td>-</td>\n      <td>-</td>\n      <td>[]</td>\n      <td>https://i.scdn.co/image/c3c28abe45b49c7b9b9eb1...</td>\n    </tr>\n    <tr>\n      <th>3</th>\n      <td>Clipse</td>\n      <td>2J257euzcjnDLipsyJH3F2</td>\n      <td>169232.0</td>\n      <td>54</td>\n      <td>rapper</td>\n      <td>alternative hip hop</td>\n      <td>['alternative hip hop', 'dirty south rap', 'ga...</td>\n      <td>https://i.scdn.co/image/dba80f94d4be6d119eb5ff...</td>\n    </tr>\n    <tr>\n      <th>4</th>\n      <td>Bobby Freeman</td>\n      <td>5oMWW19j0AXl7Sy4Xn9rmg</td>\n      <td>3898.0</td>\n      <td>36</td>\n      <td>-</td>\n      <td>brill building pop</td>\n      <td>['brill building pop', 'doo-wop', 'rhythm and ...</td>\n      <td>https://i.scdn.co/image/aa41635fe4d492d00a28f6...</td>\n    </tr>\n    <tr>\n      <th>...</th>\n      <td>...</td>\n      <td>...</td>\n      <td>...</td>\n      <td>...</td>\n      <td>...</td>\n      <td>...</td>\n      <td>...</td>\n      <td>...</td>\n    </tr>\n    <tr>\n      <th>4957</th>\n      <td>Nine Inch Nails</td>\n      <td>0X380XXQSNBYuleKzav5UO</td>\n      <td>1267482.0</td>\n      <td>70</td>\n      <td>band</td>\n      <td>alternative metal</td>\n      <td>['alternative metal', 'alternative rock', 'cyb...</td>\n      <td>https://i.scdn.co/image/959969ce11b5b44c45e006...</td>\n    </tr>\n    <tr>\n      <th>4958</th>\n      <td>Heart</td>\n      <td>34jw2BbxjoYalTp8cJFCPv</td>\n      <td>1044515.0</td>\n      <td>71</td>\n      <td>band</td>\n      <td>album rock</td>\n      <td>['album rock', 'classic rock', 'hard rock', 'h...</td>\n      <td>https://i.scdn.co/image/1c145626e516a6817c43e7...</td>\n    </tr>\n    <tr>\n      <th>4959</th>\n      <td>The Four Lads</td>\n      <td>3stlWzoChlEtbdZAz6CNC3</td>\n      <td>11284.0</td>\n      <td>37</td>\n      <td>band</td>\n      <td>adult standards</td>\n      <td>['adult standards', 'deep adult standards', 'v...</td>\n      <td>https://i.scdn.co/image/c27f24e1e201434e74c092...</td>\n    </tr>\n    <tr>\n      <th>4960</th>\n      <td>Rick James</td>\n      <td>0FrpdcVlJQqibaz5HfBUrL</td>\n      <td>567796.0</td>\n      <td>65</td>\n      <td>singer</td>\n      <td>disco</td>\n      <td>['disco', 'funk', 'motown', 'post-disco', 'qui...</td>\n      <td>https://i.scdn.co/image/e6c035ae9b2a8dd5cf6a3c...</td>\n    </tr>\n    <tr>\n      <th>4961</th>\n      <td>The Bubble Puppy</td>\n      <td>6C4KYtkO2ElWXV8088XuI7</td>\n      <td>1595.0</td>\n      <td>17</td>\n      <td>band</td>\n      <td>-</td>\n      <td>[]</td>\n      <td>https://i.scdn.co/image/81e85a3f3bce4fa24bc43f...</td>\n    </tr>\n  </tbody>\n</table>\n<p>4962 rows × 8 columns</p>\n</div>"
     },
     "execution_count": 105,
     "metadata": {},
     "output_type": "execute_result"
    }
   ],
   "source": [
    "merged_df = pd.merge(all_artists_names_df, df_artists, on='name', how='inner')\n",
    "merged_df"
   ],
   "metadata": {
    "collapsed": false,
    "ExecuteTime": {
     "end_time": "2024-02-26T12:28:36.808481500Z",
     "start_time": "2024-02-26T12:28:36.704483300Z"
    }
   },
   "id": "5119635f568acfe4"
  },
  {
   "cell_type": "code",
   "execution_count": 106,
   "outputs": [],
   "source": [
    "import networkx as nx\n",
    "\n",
    "#reduziere auf artists von Liste\n",
    "#all_artists_names = all_artists_names.intersection(artist_set)\n",
    "all_artists_names = set(merged_df[\"name\"])\n",
    "\n",
    "G = nx.Graph()\n",
    "\n",
    "collab_counter = 0\n",
    "\n",
    "for _, row in merged_df.iterrows():\n",
    "    artist_name = str(row[\"name\"])\n",
    "    #artist_info = df_artists[df_artists[\"artist_id\"] == name_art_cur]\n",
    "    popularity = int(row['popularity'])\n",
    "    followers = float(row[\"followers\"])\n",
    "    # Filter out artists who are not successful\n",
    "    #if popularity >= 70 and followers >= 1_000_000:\n",
    "    G.add_node(artist_name, id=row[\"artist_id\"], popularity=popularity, followers=followers, genres=row[\"genres\"])\n",
    "    #G.add_node(name_art_cur)\n",
    "\n",
    "for _, row in df_merged_songs_all.iterrows():\n",
    "    artist_name = list(row[\"artist\"])\n",
    "    # Filter out songs that do not have more than one artist in their execution\n",
    "    if len(artist_name) > 1:\n",
    "        for i in range(len(artist_name)):\n",
    "            for j in range(i+1, len(artist_name)):\n",
    "                artist_id_1 = artist_name[i]\n",
    "                artist_id_2 = artist_name[j]\n",
    "                #prüfe ob die Artists Teil der Interessanten Menge sind\n",
    "                if artist_id_1 in all_artists_names and artist_id_2 in all_artists_names:\n",
    "                    # Check if the edge already exists\n",
    "                    if G.has_edge(artist_id_1, artist_id_2):\n",
    "                        # If the edge already exists, increment the weight by 1\n",
    "                        G[artist_id_1][artist_id_2]['weight'] += 1\n",
    "                        collab_counter += 1\n",
    "                    else:\n",
    "                        # Add a new edge with weight 1\n",
    "                        collab_counter += 1\n",
    "                        G.add_edge(artist_id_1, artist_id_2, weight=1, song_id=row[\"song_id\"], song_name=row[\"title\"], explicit=row[\"explicit\"], popularity=row[\"popularity\"], release_date=row[\"release_date\"], release_date_precision=row[\"release_date_precision\"])\n",
    "    else:\n",
    "        artist_id = artist_name[0]\n",
    "        #prüfe ob die Artists Teil der Interessanten Menge sind\n",
    "        if artist_id in all_artists_names:\n",
    "            # Model songs that do not have more than one artist in their execution as self-loops on the artist’s node\n",
    "            if G.has_edge(artist_id, artist_id):\n",
    "                # If the edge already exists, increment the weight by 1\n",
    "                G[artist_id][artist_id]['weight'] += 1\n",
    "            else:\n",
    "                # Add a new edge with weight 1\n",
    "                G.add_edge(artist_id, artist_id, weight=1, song_id=row[\"song_id\"], song_name=row[\"title\"], explicit=row[\"explicit\"], popularity=row[\"popularity\"], release_date=row[\"release_date\"], release_date_precision=row[\"release_date_precision\"])\n"
   ],
   "metadata": {
    "collapsed": false,
    "ExecuteTime": {
     "end_time": "2024-02-26T12:28:43.339841900Z",
     "start_time": "2024-02-26T12:28:36.740482300Z"
    }
   },
   "id": "c68a9366654fd977"
  },
  {
   "cell_type": "code",
   "execution_count": 107,
   "id": "b74e7201820da355",
   "metadata": {
    "collapsed": false,
    "ExecuteTime": {
     "end_time": "2024-02-26T12:28:43.356841Z",
     "start_time": "2024-02-26T12:28:43.340841400Z"
    }
   },
   "outputs": [
    {
     "data": {
      "text/plain": "'import matplotlib.pyplot as plt\\n\\n# Draw the graph\\nnx.draw(G, with_labels=False, node_color=\\'skyblue\\', node_size=1, edge_color=\\'black\\', linewidths=1, font_size=15)\\n\\n# Display the plot\\nplt.savefig(\"network.png\")\\nplt.show()'"
     },
     "execution_count": 107,
     "metadata": {},
     "output_type": "execute_result"
    }
   ],
   "source": [
    "\"\"\"import matplotlib.pyplot as plt\n",
    "\n",
    "# Draw the graph\n",
    "nx.draw(G, with_labels=False, node_color='skyblue', node_size=1, edge_color='black', linewidths=1, font_size=15)\n",
    "\n",
    "# Display the plot\n",
    "plt.savefig(\"network.png\")\n",
    "plt.show()\"\"\""
   ]
  },
  {
   "cell_type": "markdown",
   "id": "f695ebd3500fa5df",
   "metadata": {
    "collapsed": false
   },
   "source": [
    "## About the Network\n",
    "\n",
    "comments:\n",
    "- use names instead\n",
    "- use other direction\n",
    "- use only popular artists\n"
   ]
  },
  {
   "cell_type": "code",
   "execution_count": 108,
   "id": "343db669743e392a",
   "metadata": {
    "collapsed": false,
    "ExecuteTime": {
     "end_time": "2024-02-26T12:28:43.397839900Z",
     "start_time": "2024-02-26T12:28:43.359842200Z"
    }
   },
   "outputs": [
    {
     "name": "stdout",
     "output_type": "stream",
     "text": [
      "Number of nodes: 4882\n",
      "Number of edges: 3551\n",
      "Number of collabs: 1772\n"
     ]
    }
   ],
   "source": [
    "num_nodes = G.number_of_nodes()\n",
    "num_edges = G.number_of_edges()\n",
    "print(\"Number of nodes:\", num_nodes)\n",
    "print(\"Number of edges:\", num_edges)\n",
    "print(\"Number of collabs:\", collab_counter)\n"
   ]
  },
  {
   "cell_type": "code",
   "execution_count": 109,
   "id": "e8eee6750d355e94",
   "metadata": {
    "collapsed": false,
    "ExecuteTime": {
     "end_time": "2024-02-26T12:28:43.397839900Z",
     "start_time": "2024-02-26T12:28:43.378842800Z"
    }
   },
   "outputs": [],
   "source": [
    "node_list = list(G.nodes())\n",
    "edge_list = list(G.edges())\n",
    "#print(\"List of nodes:\", node_list)\n",
    "#print(\"List of edges:\", edge_list)"
   ]
  },
  {
   "cell_type": "code",
   "execution_count": 110,
   "id": "196fcd4b2ece1587",
   "metadata": {
    "collapsed": false,
    "ExecuteTime": {
     "end_time": "2024-02-26T12:28:43.415841600Z",
     "start_time": "2024-02-26T12:28:43.388842Z"
    }
   },
   "outputs": [
    {
     "name": "stdout",
     "output_type": "stream",
     "text": [
      "Degree of nodes: [('Red Hot Chili Peppers', 2), ('Me Phi Me', 2), ('Tag', 2), ('Clipse', 2), ('Bobby Freeman', 0), ('The Wanted', 2), ('The First Class', 0), ('Bobby Sherman', 2), ('Detail', 1), ('Young Sinatra', 0), ('Aaron Lines', 2), ('Special Generation', 0), ('Samantha Cole', 2), ('Sofia Carson', 0), ('Phil Vassar', 2), ('Don Nix', 2), ('Urge Overkill', 0), ('The Youngbloods', 2), ('Blue County', 2), ('Rush', 2), ('Point Blank', 2), ('Gary Moore', 2), ('Miranda Cosgrove', 2), ('Rhinoceros', 2), ('Barry McGuire', 2), ('Johnny Wakelin', 0), ('Aldo Nova', 2), ('Rachel Platten', 2), ('Eddie Holman', 2), ('Diddy', 0), ('The Main Ingredient', 2), ('Kristine W', 2), ('Curiosity Killed The Cat', 2), ('Trevor Guthrie', 0), ('Stephanie Mills', 2), ('EPMD', 2), ('Chico', 0), ('Mashonda', 0), ('Jay Black', 0), ('George Ezra', 2), ('Nivea', 2), ('The Brooklyn Bridge', 2), ('The Buckinghams', 2), ('Big Daddy Kane', 0), ('Susan Christie', 2), ('The Who', 2), ('Kenny Lattimore', 2), ('Sugarloaf', 2), ('T.P.E.', 2), ('Slim Thug', 0), ('Iron Butterfly', 2), ('A Perfect Circle', 2), ('Johnny Winter', 2), ('Ace Spectrum', 2), ('Styx', 2), ('Bobby Goldsboro', 2), ('Esthero', 0), ('Melissa Manchester', 2), ('Mikky Ekko', 0), (\"Steady Mobb'n\", 0), ('Moby Grape', 2), ('Buddy Holly', 0), ('The Tony Rich Project', 2), ('Nancy Wilson', 2), ('Cannonball Adderley', 2), ('Aloe Blacc', 2), ('David Porter', 1), ('Tim McGraw', 2), ('Hugh Laurie', 2), ('Chris Rea', 2), ('Everything', 2), ('Roy Clark', 2), ('Holland-Dozier', 0), ('Carrie Lucas', 2), ('Jody Miller', 2), ('Spandau Ballet', 2), ('Norman Connors', 0), ('E-40', 0), ('Don Goodwin', 0), ('Joe Nichols', 2), ('Bobbie Gentry', 3), ('Heaven 17', 2), ('Deep Purple', 2), ('Corinne Bailey Rae', 2), ('Hurricane Smith', 2), ('Ayana', 0), ('Bardeux', 2), ('Lauren Daigle', 2), ('Bill Champlin', 2), ('Ian Lloyd', 2), ('Trade Martin', 0), ('Bo Diddley', 2), ('Mike Post', 0), ('Roger Voudouris', 0), ('Kate Bush', 2), ('The Police', 2), ('Boomkat', 2), ('Rehab', 0), ('Benny Benassi', 0), ('Clarence Ashe', 2), ('Restless Heart', 2), ('James Otto', 2), ('The Plastic Ono Band', 0), ('Titiyo', 2), ('Stealers Wheel', 2), ('Armageddon', 0), ('Jack Jones', 2), ('Merle Haggard', 2), ('Yolanda Adams', 2), ('Rage Against The Machine', 2), ('P.J. Proby', 2), ('Kim Carnes', 2), ('Big Kap', 0), ('Bell Biv DeVoe', 2), ('Madsonik', 0), ('Tex Ritter', 2), ('Missing Persons', 2), ('Cassie', 2), ('The Motors', 2), ('Wiz Khalifa', 3), ('Soho', 2), ('The Meters', 2), ('Peter Allen', 2), ('Karla Bonoff', 2), ('Roy Orbison', 2), ('A Tribe Called Quest', 2), ('Electric Boys', 0), ('Taylor Swift', 3), ('Brownsville Station', 2), ('Naked Eyes', 2), ('Simple Minds', 2), ('Whirlwind', 0), ('Big Pun', 0), ('Estelle', 2), ('Stacy Earl', 2), ('The Packers', 0), ('The Astors', 2), ('Drupi', 0), ('Trini Lopez', 2), ('Sean Garrett', 0), ('Blues Traveler', 2), ('The Rag Dolls', 2), ('Pia Zadora', 0), ('Chubby Checker', 2), ('Eddie Rambeau', 0), ('The Revivalists', 2), ('Black Coffee', 0), ('The Fireballs', 2), ('Mike WiLL Made-It', 0), ('Kenny G', 2), ('The Fabulous Thunderbirds', 2), ('The Yardbirds', 2), ('Joe Cocker', 2), ('Ace Cannon', 2), ('Solange', 0), ('Gene Cotton', 2), ('Space', 2), ('Janis Ian', 0), ('Don Williams', 2), ('The Chartbusters', 2), ('The Poets', 2), ('Riff', 2), ('John Lee Hooker', 0), ('Robin Ward', 2), ('The Secrets', 2), ('High Valley', 2), ('Four Tops', 3), ('HIM', 0), ('Hugo Montenegro', 0), ('Gretchen Wilson', 2), ('Wind', 2), ('Remy Shand', 2), ('Brett Young', 2), ('The Barbarians', 0), ('Los Bravos', 2), ('Steve Wariner', 2), (\"Brasil '66\", 0), ('Anna Nalick', 2), ('Jennifer Love Hewitt', 2), ('Ja Rule', 2), ('Trina', 2), ('Charlie Daniels', 2), ('Afrojack', 0), ('Billy Stewart', 2), ('Jean Knight', 2), ('Sweet Dreams', 2), ('D.J. Rogers', 2), ('Skylar Grey', 0), ('Snail', 2), ('Al Stewart', 2), ('Stevie Wonder', 4), ('Nick Lachey', 2), ('Jeannie Ortega', 0), ('Eddie Fisher', 2), ('The Kinks', 2), ('Craig Campbell', 2), ('Adam Sandler', 2), ('Hinder', 2), ('Hi-Five', 2), ('Rascal Flatts', 2), ('Joey Scarbury', 2), ('T-Pain', 5), ('Rixton', 2), ('Molly Hatchet', 2), ('Dan Fogelberg', 2), ('Everclear', 2), ('Zion', 0), ('Ginuwine', 2), ('Goanna', 0), ('The Isley Brothers', 3), ('Clive Griffin', 0), ('P!nk', 2), ('Bobby Moore', 2), ('Skeeter Davis', 2), ('Billy Dean', 2), ('Limahl', 2), ('MKTO', 2), ('Josh Groban', 2), ('Martin Briley', 0), ('Marty Balin', 2), ('Charlay', 0), ('Russell Dickerson', 2), ('Howard Hewett', 2), ('Kevin Rudolf', 1), ('Bob Seger', 2), ('Mike Douglas', 2), ('Brown Boy', 0), ('Bruce Channel', 2), ('Gillette', 2), ('Jazmine Sullivan', 2), ('Gordon Lightfoot', 2), ('Marcia Griffiths', 2), ('Paul Carrack', 2), ('Calum Scott', 2), ('Shirley Ellis', 2), ('The Wallflowers', 2), ('Freddie Hart', 2), ('Reel Tight', 2), ('Jaron And The Long Road To Love', 2), ('Mona Lisa', 2), ('Burt Reynolds', 2), ('Lady Sovereign', 0), ('Traveling Wilburys', 2), ('George Clinton', 0), ('Jack Ingram', 2), ('Larry Lee', 2), ('Atlantic Starr', 2), ('Glenn Lewis', 2), ('Bronski Beat', 0), ('Edgar Winter', 0), ('Olu Dara', 0), ('Alexis Jordan', 0), ('LaTocha Scott', 1), ('Blind Melon', 2), ('Daryl Hall', 2), ('Odyssey', 2), ('Mad Lion', 2), ('Midnight Oil', 0), ('Morris Albert', 2), ('Winger', 2), ('Vic Damone', 0), ('Johnny Lee', 2), ('112', 2), ('Lindsay Lohan', 0), ('Da Brat', 2), ('Joey Heatherton', 2), ('The Kiki Dee Band', 0), ('The Spokesmen', 0), ('The Babys', 2), ('John Phillips', 2), ('P.M. Dawn', 2), ('Metro Station', 2), ('Flo Rida', 2), ('Vicious', 2), ('Ray Peterson', 0), ('Reina', 2), ('Bandit', 2), ('Lutricia McNeal', 0), ('Pusha T', 2), ('The Platters', 2), ('Susan Boyle', 2), ('September', 0), ('Peppermint Rainbow', 2), ('NEEDTOBREATHE', 0), ('Paul Stanley', 0), ('Red Rider', 2), ('Alicia Keys', 3), ('The Astronauts', 0), ('Patrick Hernandez', 0), ('Joss Stone', 2), ('Bill Wyman', 0), ('Freshlyground', 0), ('King Chip', 0), ('Lil Yachty', 0), ('Rita Ora', 2), ('Juvenile', 2), ('Ken-Y', 0), ('Hi Tek 3', 0), ('Glenn Frey', 2), ('Michael Johnson', 2), ('Tierra', 2), ('Soundgarden', 2), ('Matthew Santos', 0), ('D12', 2), ('The Americans', 0), ('Gary Toms Empire', 2), ('Queen', 2), ('Tone-Loc', 2), ('City High', 2), ('The Barden Bellas', 0), ('Survivor', 2), ('Gene Thomas', 2), ('Alice Merton', 2), ('JT Money', 0), ('Velvet Revolver', 2), ('Carpenters', 2), ('BT', 0), ('Tommy Boyce', 0), ('The Artistics', 2), ('Foxy Brown', 2), ('Another Bad Creation', 2), ('Boy Krazy', 2), ('Killer Mike', 0), ('J. Dash', 0), ('Flash', 2), ('High School Musical Cast', 0), ('Angelica', 2), ('Gene Pitney', 2), ('The Waikikis', 2), ('AlunaGeorge', 0), ('Barbara Mason', 2), ('The Casinos', 2), ('Brotherhood Creed', 2), ('Martin Garrix', 2), ('Xscape', 2), ('John Newman', 2), ('Warren Zevon', 2), (\"'Til Tuesday\", 2), ('The Parliaments', 0), ('Ella Henderson', 2), ('Steve Azar', 0), ('Michael Ray', 0), ('Sonique', 2), ('Kelly Price', 2), ('The Farm', 2), ('Horace Brown', 2), ('Michael Cooper', 2), ('Mindy McCready', 0), ('John Farnham', 0), ('Full Force', 0), ('Raydio', 2), ('Peter Gunz', 0), ('Fanny', 2), ('Len Barry', 2), ('Kesha', 2), ('John Paul Young', 2), ('Danielle Bradbery', 2), ('Baby Ray', 2), ('Cashmere Cat', 0), ('Secondhand Serenade', 2), ('The Flirtations', 2), ('Post Malone', 2), ('Sammy Adams', 0), ('Florence Welch', 0), ('James Bay', 2), ('Daniel Boone', 2), ('Ram Jam', 2), ('The Crystals', 2), ('J. Blackfoot', 2), ('John Schneider', 2), ('Freddy Cannon', 2), ('Keyshia Cole', 3), ('Matisyahu', 2), ('The Smashing Pumpkins', 2), ('Luke Combs', 2), ('The Tams', 2), ('The Ides Of March', 2), ('Odia Coates', 0), ('The Michael Zager Band', 2), ('Katharine McPhee', 2), ('Joni Mitchell', 2), ('Joshua Radin', 0), ('Fun Factory', 2), ('The Human Beinz', 2), ('Walter Murphy', 0), ('Ohio Players', 2), ('Smash Mouth', 2), ('Dreezy', 0), ('Robert Parker', 2), ('NF', 2), ('Ritchie Valens', 0), ('INXS', 2), ('Lawrence Reynolds', 0), ('Andy Pratt', 2), ('Alvin Cash', 0), ('Pajama Party', 0), ('Natalie Imbruglia', 2), ('The Murmaids', 2), ('Pete Townshend', 2), ('Geto Boys', 2), ('Sweetbox', 2), ('Imagine Dragons', 2), ('Ella Mai', 2), ('C.W. McCall', 2), ('Dick Hyman', 0), ('Keith Murray', 2), ('Sofi Tukker', 0), ('The Peels', 2), ('Tycoon', 0), ('P.O.D.', 2), ('Joy Of Cooking', 2), ('The Reddings', 2), ('Danity Kane', 2), ('Lil Rob', 2), ('Ester Dean', 1), ('Henry Lee Summer', 2), ('Joey Bada$$', 0), (\"T'Pau\", 2), ('Badfinger', 0), ('Vixen', 2), ('Bobby Womack', 3), ('Shana', 2), ('Smith', 2), ('Liam Payne', 2), ('Ty Dolla $ign', 0), ('CeCe Peniston', 2), ('Michael Morales', 2), ('Alabama', 2), ('Peter And Gordon', 2), ('The Fifth Estate', 2), ('Doucette', 2), ('Crazy Horse', 0), ('The Raelettes', 2), ('Jesse Winchester', 2), ('Wet Willie', 2), ('The Chiffons', 2), ('Sarah Dash', 2), ('Fire Inc.', 2), ('Paul Humphrey', 0), ('Tony Bennett', 2), ('Ambrosia', 2), ('Donna McDaniel', 2), ('J. Davi$', 0), ('Bastille', 2), ('Morgan Wallen', 0), ('Shabba Ranks', 2), ('Ben E. King', 2), ('Spyder Turner', 2), ('Mac Miller', 2), ('Nick Fradiani', 2), ('Frankie Beverly', 0), ('Malo', 2), ('Rainbow', 2), ('Bobby Vee', 2), ('John Martin', 0), ('Doris Troy', 0), ('Liverpool Five', 2), ('The Blackout Allstars', 0), ('MNEK', 0), ('Joey McIntyre', 2), ('Easy Street', 2), ('David Essex', 2), ('Danny Williams', 0), ('Spacehog', 0), ('AC/DC', 2), ('Tove Lo', 2), ('Diggy', 0), ('Yello', 2), ('Lord Huron', 2), ('Parachute', 2), ('Robin Schulz', 0), (\"N'Dea Davenport\", 1), ('London Symphony Orchestra', 0), ('Dave Matthews Band', 2), ('The Persuaders', 2), ('Cali Swag District', 0), ('The Rip Chords', 2), ('John Kay', 0), ('Edward Maya', 0), ('Pete Rock', 0), ('Christopher Cross', 2), (\"The O'Kaysions\", 2), ('Chris J', 0), ('Sir Mix-A-Lot', 2), ('Benjamin Orr', 0), ('Peter Murphy', 2), ('Roger Hodgson', 2), ('Jimmy Castor', 0), ('Johnny Hates Jazz', 2), ('Roberta Flack', 2), ('Ronnie Dyson', 2), ('Amy Lee', 1), ('The Independents', 2), ('Shawn Mullins', 2), ('Cyndi Thomson', 2), ('OG Maco', 0), ('Murphy Lee', 0), ('El DeBarge', 2), ('Nonchalant', 0), (\"John O'Banion\", 2), ('t.A.T.u.', 2), ('Do Or Die', 0), ('Everlast', 2), ('KISS', 2), ('Peter Cetera', 2), ('David Guetta', 0), ('Gary Glitter', 0), ('Debby Boone', 2), ('Phoebe Snow', 2), (\"Nuttin' Nyce\", 2), ('Naughty By Nature', 2), ('Adam Ant', 2), ('Get Wet', 0), ('Cherrelle', 0), ('Suga Free', 2), ('The Pointer Sisters', 2), ('Faith Hill', 2), (\"Jumpin' Gene Simmons\", 0), ('Amy Grant', 2), ('Poison', 2), ('Talking Heads', 2), ('Ginny Arnell', 2), ('The Replacements', 2), ('Nocera', 2), ('Gary Allan', 2), ('The Merry-Go-Round', 2), ('The Swon Brothers', 2), ('Linear', 2), ('The Verve Pipe', 2), ('Jinny', 0), ('Shot In The Dark', 0), ('Ian Whitcomb', 0), ('K.W.S.', 2), ('Jeffrey Osborne', 3), ('Gwen Stefani', 2), ('Chris Mann', 0), ('MGMT', 4), ('Chet Atkins', 2), ('Digital Underground', 2), ('Bobby Rydell', 2), ('Aaron Neville', 2), ('The Crawlers', 0), ('Book Of Love', 0), ('Crossfade', 2), ('Apocalyptica', 0), ('John Lodge', 0), ('Beth Hart', 0), ('Dave Mason', 2), ('Whistle', 2), ('Nate Dogg', 0), ('Allan Sherman', 2), ('The Williams Brothers', 2), ('Zakk Wylde', 0), ('Korona', 2), ('Robin Thicke', 2), ('The Jarmels', 0), ('Moby', 0), ('The Peppers', 2), ('Trippie Redd', 2), ('Steely Dan', 2), ('Freedy Johnston', 2), ('Turley Richards', 2), ('Sunscreem', 2), ('Boots Randolph', 2), ('Louis Prima', 0), ('The Bells', 2), ('Fine Young Cannibals', 2), ('R.B. Greaves', 0), ('Sacario', 0), ('The Tradewinds', 0), ('Brainstorm', 2), ('Tony Joe White', 2), ('Gravediggaz', 0), ('Franz Ferdinand', 2), ('Mos Def', 0), ('Lea Michele', 2), ('Sunshine Anderson', 2), ('Jesus Jones', 2), ('Joe Walsh', 2), ('Peach Union', 2), ('Cindy Bullens', 2), ('Brenda Lee Eager', 1), ('Theophilus London', 0), ('The Royal Guardsmen', 2), ('L.T.D.', 2), ('Kip Moore', 2), ('Motherlode', 2), ('Before Dark', 2), ('Blue Haze', 0), ('Quavo', 0), ('The 5th Dimension', 2), ('Richard Harris', 2), ('Goodman', 0), ('Tommy Shane Steiner', 2), ('Tammy Wynette', 2), ('Ice Cube', 3), ('Jordan Smith', 0), ('Shawty Lo', 2), ('The Manhattans', 2), ('2 Unlimited', 2), ('Murry Kellum', 2), ('Kiiara', 2), ('Steel Magnolia', 2), ('David Laflamme', 2), ('Drake', 7), ('Robbie Patton', 2), ('Lorne Greene', 2), ('Sybil', 2), ('Peter Skellern', 2), ('Fat Pat', 0), ('Crystal Gayle', 2), ('Billy Butler', 0), ('Marianne Faithfull', 2), ('Drake Bell', 0), ('Ratt', 2), ('Smooth', 2), ('Men At Large', 2), ('Mann', 0), ('XXXTENTACION', 2), ('Reality', 0), ('Eternal', 0), ('Larry Santos', 2), ('Nick Jonas', 2), ('Shawn Phillips', 0), ('K7', 2), ('Neal McCoy', 2), ('Paul Peek', 2), ('Jacob Sartorius', 2), ('Carla Thomas', 2), ('Edens Edge', 0), ('Martha Reeves', 2), ('Eddie Vedder', 0), ('Judas Priest', 0), ('The Five Americans', 2), ('Keane', 2), ('Lisa Stansfield', 2), ('The Formations', 0), ('Maria Vidal', 2), ('Bram Tchaikovsky', 2), ('Marie Osmond', 2), ('Hezekiah Walker', 0), ('Bette Midler', 2), ('Bobby Shmurda', 2), ('Blues Image', 2), ('Mark McGuinn', 2), ('Del Reeves', 0), ('Plies', 2), ('Stryper', 2), ('The Fontane Sisters', 0), ('Huey Lewis', 0), ('Amanda Perez', 2), ('Gidea Park', 0), ('DAY26', 2), ('Anything Box', 2), ('Alessia Cara', 2), ('Climie Fisher', 2), ('David Ruffin', 2), ('Junior', 0), ('The Three Degrees', 2), ('The Chambers Brothers', 2), ('Dan Reed Network', 2), ('2 Pistols', 0), ('Dawn Penn', 2), ('Sheryl Crow', 3), ('The Newcomers', 2), ('The Magnificent Men', 0), ('Nu Shooz', 2), ('Tag Team', 2), ('Dwight Twilley Band', 0), ('The Rings', 2), ('Missy Elliott', 2), ('The Allman Brothers Band', 2), ('Michel Legrand', 0), ('The Pasadenas', 2), ('LOCASH', 2), ('Tela', 0), ('Dr. Dre', 1), ('Loren Allred', 2), ('Nick Lowe', 0), ('Blahzay Blahzay', 2), ('The Wackers', 0), ('Nitty', 0), ('Eddie Rabbitt', 2), ('Eddie Murphy', 2), ('Whodini', 0), ('Michael Parks', 2), ('Camp Lo', 0), ('The Brand New Heavies', 3), ('Michael Penn', 2), ('George Jones', 2), ('Around The Way', 0), ('Glass Tiger', 2), ('Bulldog', 0), ('Chris Montez', 2), ('Dennis Lloyd', 2), ('Reik', 0), ('Mario', 2), ('Slaughterhouse', 0), ('Greg Kihn', 2), ('Black Sabbath', 2), ('John Rich', 2), ('Donna Fargo', 2), ('Deon Jackson', 2), ('Jackie Wilson', 3), ('Eddy Arnold', 2), ('Miguel', 2), ('Stevie B', 2), ('LMFAO', 3), ('Lesley Gore', 2), ('Wale', 0), ('Daddy Dewdrop', 0), ('King Curtis', 2), ('NB Ridaz', 2), ('Yung Wun', 0), ('Jon Bon Jovi', 0), ('Robyn', 2), ('Nu Flavor', 2), ('Nelly', 4), ('Notorious', 0), ('Gorky Park', 2), ('King Harvest', 2), ('Stories', 2), ('Blessid Union Of Souls', 2), ('G-Unit', 0), ('Tina Arena', 2), ('Randy Meisner', 2), ('Vicki Lawrence', 2), ('Luke', 2), ('Glen Campbell', 3), ('Danzig', 2), ('The Motels', 2), ('The Cataracs', 0), ('All Star Tribute', 0), ('Cutting Crew', 2), ('The Sidekicks', 2), ('Jagged Edge', 2), ('Rozalla', 2), ('Southwest F.O.B.', 2), ('Blue', 0), ('Trapt', 2), ('Teddy Geiger', 2), ('Rita Pavone', 2), ('Jude Cole', 2), ('Newcleus', 2), ('Brandon', 2), ('Adrian Belew', 2), ('Bobby Brown', 3), ('Emmylou Harris', 2), ('Dolly Parton', 2), ('Lil Suzy', 2), ('Ripple', 0), ('Los Lobos', 2), ('The Mills Brothers', 0), ('Ted Nugent', 2), ('Mai Tai', 2), ('Dru Hill', 2), ('Ohio Express', 2), ('3T', 2), ('The Seekers', 2), ('DJ Taz', 0), ('Future', 2), ('Toad The Wet Sprocket', 2), ('Henry Gross', 2), ('Hannah Montana', 2), ('Sporty Thievz', 0), ('Sweathog', 2), ('Aaron Lewis', 0), ('Gene Redding', 2), ('The Swinging Blue Jeans', 2), ('Remy Boyz', 0), ('Gwyneth Paltrow', 2), ('Attitudes', 2), ('Prince Royce', 0), ('Bertie Higgins', 2), ('John Fogerty', 2), ('Ivory', 2), ('A$AP Ferg', 2), ('Chris Christian', 2), ('Third World', 2), ('The Ritchie Family', 2), ('Marshall Crenshaw', 2), ('Cock Robin', 2), ('The Nashville Teens', 2), ('The Chemical Brothers', 2), ('Peter Sarstedt', 2), ('Baby Bash', 1), ('Lin-Manuel Miranda', 0), ('System Of A Down', 2), ('Canned Heat', 2), ('Gin Blossoms', 2), ('Rich Gang', 0), ('Lupe Fiasco', 3), ('Dottie West', 2), ('Chesney Hawkes', 0), ('Pat Green', 2), (\"Somethin' For The People\", 2), ('Alexandra Stan', 2), ('Fabolous', 4), ('Morgan Evans', 2), ('Mandy Moore', 2), ('Roxy Music', 2), ('Neil Diamond', 2), ('Grin', 0), ('Uncle Charlie Wilson', 0), ('Robin Zander', 0), ('A$AP Rocky', 2), ('Kane Brown', 2), ('Maren Morris', 2), ('Cooker', 0), ('Kidd Kidd', 0), ('Bill Medley', 2), ('Zedd', 0), ('Percy Sledge', 2), ('Wadsworth Mansion', 2), ('The Greenwood County Singers', 0), ('Atlanta Rhythm Section', 2), ('Natalie Merchant', 2), ('LL Cool J', 3), ('Len', 2), ('Steve Perry', 2), ('The James Boys', 2), ('Three Days Grace', 2), (\"The J.B.'s\", 0), ('New England', 2), ('Eric Clapton', 2), ('Ice-T', 2), ('Touch', 2), ('Mannie Fresh', 0), ('Snow Patrol', 3), ('Junior M.A.F.I.A.', 2), ('Dr. Hook', 2), ('Common', 4), ('Steve Aoki', 0), ('Chuck Berry', 2), ('The Last Goodnight', 2), ('The Church', 0), ('The Ebonys', 2), ('Batdorf', 0), ('Alanis Morissette', 2), ('Nine', 2), ('Freeway', 0), ('Jim Weatherly', 2), ('Diamond Rio', 2), ('Junior Reid', 0), ('Mr. Cheeks', 2), ('Green Jelly', 2), ('Alien Ant Farm', 2), ('Men Without Hats', 2), ('Boo', 0), ('The Poppies', 0), ('Nick Cannon', 0), ('Yvonne', 2), ('Kingdom Come', 2), ('Mary Lambert', 0), ('Tora Tora', 2), ('Bonnie Tyler', 2), ('Bhad Bhabie', 2), ('Millie Small', 2), ('Jocelyn Brown', 2), ('Guy Marks', 2), ('Jess Glynne', 2), ('Starpoint', 2), ('Frederick Knight', 2), ('H-Town', 2), ('Dixie Chicks', 2), ('Demi Lovato', 2), ('Carole King', 2), ('Krayzie Bone', 1), ('The Wilkinsons', 2), ('Paul Mauriat', 0), ('Leonard Cohen', 2), ('Cash Cash', 0), ('Sweeney Todd', 2), ('Jerry Naylor', 0), ('The Blues Project', 2), ('General Larry Platt', 2), ('Five Flights Up', 0), ('The Rebel Pebbles', 2), ('The Temprees', 0), ('Randy Newman', 2), ('G-Wiz', 2), ('The Originals', 2), ('Timex Social Club', 2), ('The Cure', 2), ('Lil Peep', 0), ('Haddaway', 2), ('Streets', 2), ('Johnny Maestro', 0), ('Lake', 2), ('Dove Cameron', 2), ('B.B. King', 2), ('The Adventures', 2), ('Lil Scrappy', 2), ('Amanda Marshall', 2), ('Dorsey Burnette', 2), ('Phil Seymour', 0), ('Isyss', 2), ('Bush', 0), ('L.A. Style', 0), ('Juliet Simms', 0), ('T.S. Monk', 0), ('Pretty Ricky', 2), ('Zach Sobiech', 2), (\"Opetaia Foa'i\", 0), ('I Prevail', 2), ('The Dave Clark Five', 2), ('Sylvester', 2), ('Justin Moore', 2), ('Yella Beezy', 2), ('Kiesza', 2), ('Derek Martin', 2), ('Jonathan King', 2), ('Ashlee Simpson', 2), ('Next', 2), ('Orgy', 2), ('Bucky Covington', 2), ('5000 Volts', 2), ('MC5', 0), ('New Order', 2), ('Lo-Key?', 2), ('Fat Boys', 2), ('99 Percent', 0), ('Sheriff', 2), ('Young Thug', 2), ('The First National Band', 0), ('Wild Orchid', 2), ('The Notorious B.I.G.', 2), ('DJ Company', 2), ('Betty Everett', 3), ('Ephraim Lewis', 0), ('Andrea Martin', 2), (\"Gilbert O'Sullivan\", 2), ('Sheila', 2), ('Mike Jones', 2), ('The Kinleys', 2), ('Jon Bellion', 2), ('The Innocence', 2), ('Mica Paris', 2), ('Who Is Fancy', 2), ('The Grass Roots', 2), ('Maze', 0), ('Rick Springfield', 2), ('Jack Greene', 2), ('The Inmates', 2), ('Kandi Girl', 0), ('Instant Funk', 2), ('Lil Baby', 2), ('Keri Hilson', 4), ('Brandon Casey', 0), ('Playa', 2), ('The Game', 2), ('Jennifer Paige', 2), ('Rich Kidz', 0), ('The Manhattan Transfer', 2), ('The Alchemist', 0), ('Johnny Rivers', 2), ('The Jacksons', 2), ('Karen Young', 2), ('Blac Youngsta', 2), ('Jennifer Lopez', 3), ('Coldplay', 3), ('Charlene', 3), ('Dick Feller', 0), ('Ellie Goulding', 3), ('The Afters', 2), ('Crazy Town', 2), ('Kenny Rogers', 2), ('MFSB', 2), ('Paula DeAnda', 0), ('House Of Pain', 2), ('India.Arie', 2), ('M2M', 2), ('Cilla Black', 2), ('Lisa Loeb', 2), ('Josh Thompson', 2), ('Public Enemy', 2), ('Python Lee Jackson', 0), ('Right Said Fred', 2), ('Juliana Hatfield', 2), ('Redbone', 2), ('ZZ Top', 2), ('Yanou', 0), ('MC Serch', 2), ('Esther Phillips', 2), ('Marvin Sapp', 2), ('Jennifer Holliday', 2), ('John Handy', 2), ('Filter', 2), ('UGK', 0), ('Emitt Rhodes', 2), ('Little Steven', 0), ('Baltimora', 2), ('Mista', 2), ('Henson Cargill', 0), ('Mark Ronson', 0), ('Andrew Gold', 2), ('Andru Donalds', 2), ('Rebecca Lynn Howard', 2), ('The Blackbyrds', 2), ('Miley Cyrus', 2), ('Chris Cagle', 2), ('Trace Adkins', 2), ('Alice Cooper', 2), ('Sammy Kershaw', 0), ('Toronto', 2), ('Bon Jovi', 2), ('Lita Ford', 2), ('Collage', 0), ('Modest Mouse', 2), ('Willie Tee', 2), ('Raheem DeVaughn', 2), ('Enrique Iglesias', 2), ('Joe Fagin', 2), ('Oliver', 2), ('Roman Holliday', 2), ('Elliott Yamin', 2), ('Darden Smith', 2), ('Davina', 2), ('Stone Sour', 2), ('J.J. Barnes', 2), ('Bing Crosby', 0), ('Little Texas', 2), ('Cold Blood', 0), ('Tory Lanez', 2), ('Michelle Visage', 0), (\"Shaquille O'Neal\", 2), ('James Newton Howard', 0), ('For Real', 2), ('The Time', 2), ('XTC', 0), ('Steve Mandell', 0), ('Olly Murs', 0), ('Cal Tjader', 0), ('Rodney', 0), ('The Registers', 0), ('Pseudo Echo', 0), ('Graham Parker', 2), ('The Click', 2), ('Jacquees', 2), ('Midge Ure', 2), ('2Pac', 3), ('Rubicon', 0), ('John Lennon', 2), ('Mo B. Dick', 0), ('Divinyls', 2), ('Roger Miller', 2), ('Boyz II Men', 2), ('Tony Yayo', 0), ('Debbie Harry', 2), ('Monifah', 2), ('Richard And The Young Lions', 0), ('Anne-Marie', 0), (\"Eternity's Children\", 2), ('The Precisions', 0), ('Redhead Kingpin', 0), ('Jon Butcher Axis', 2), ('Chris Hodge', 0), ('Bobby Byrd', 0), ('Los Del Mar', 0), ('Sisqo', 3), ('John Williams', 0), ('Steve Greenberg', 2), ('Darlene Love', 0), ('Little Big Town', 2), ('PARTYNEXTDOOR', 2), ('The Ventures', 2), ('Terry Nelson', 0), ('Wham!', 2), ('Balance', 2), ('Paperboy', 2), ('The Headboys', 0), ('DJ Snake', 0), ('Zac Efron', 0), ('Maurice White', 2), ('John Stewart', 2), ('The Shangri-Las', 2), ('Emily Warren', 0), ('The Simpsons', 0), ('Bay City Rollers', 2), ('will.i.am', 4), ('WC', 0), ('Eric Burdon', 0), ('Joan Osborne', 2), ('QT', 0), ('Arianna', 0), ('Jeff Carson', 2), ('Imajin', 0), ('Ciara', 2), ('Young M.A', 2), ('The Goodmen', 2), ('Andy Taylor', 0), ('3 Doors Down', 2), ('Troy Newman', 2), ('AFI', 2), ('Anna Margaret', 0), ('Las Ketchup', 0), ('Bazzi', 2), ('Michael Nesmith', 0), ('Paul Davis', 2), ('Sonny Knight', 2), ('Buster Poindexter', 0), ('El Chombo', 0), ('Candi Staton', 2), ('GoonRock', 0), ('O.A.R.', 2), ('Anna Kendrick', 0), ('Elvis Costello', 2), ('Inner City', 2), ('Son By Four', 0), ('707', 2), ('Cliff Richard', 2), ('Bad Company', 2), ('Rebekah', 0), ('The Happenings', 2), ('Charlie Foxx', 0), ('B.o.B', 2), ('The Intruders', 2), ('John Parr', 2), ('Pages', 0), ('Bebe Rexha', 2), ('Collective Soul', 2), ('American Flyer', 2), ('RuPaul', 2), ('Mountain', 2), ('The Marvelows', 2), ('Gloria Lynne', 2), ('Three 6 Mafia', 2), ('Lamont Dozier', 2), ('Patti LaBelle', 3), ('Ratatat', 2), ('Garland Jeffreys', 2), ('Avicii', 2), ('The Ivy League', 0), ('Mya', 1), ('Bill Cosby', 0), ('Amazing Rhythm Aces', 2), ('Christopher Wilde', 0), ('Soko', 2), ('James Carr', 2), ('S Club 7', 2), ('Mrs. Miller', 0), ('Kyla', 0), ('Jerrod Niemann', 2), ('Michael Damian', 2), ('The Style Council', 2), ('The San Remo Golden Strings', 2), ('Yankee Grey', 2), ('Grand Puba', 2), ('The Salsoul Orchestra', 2), ('Love Unlimited', 2), ('Richie Havens', 2), ('Souls Of Mischief', 0), ('Dave Edmunds', 2), ('The Reflections', 2), ('Gorillaz', 2), ('Kellie Coffey', 2), ('WALK THE MOON', 2), ('David Lee Roth', 2), ('The Commitments', 2), ('Gina Thompson', 2), ('Johnny Lytle', 2), ('David Foster', 0), ('Rhythm Heritage', 2), ('Joe Jackson', 2), ('Melba Moore', 2), ('Bananarama', 2), ('Tinie Tempah', 0), ('The Assembled Multitude', 2), ('Roachford', 0), ('Timbuk 3', 2), ('MJG', 0), ('Raphael Saadiq', 1), ('V.I.C.', 2), ('Real McCoy', 2), ('Bonnie McKee', 2), ('Them', 2), ('J. Holiday', 2), ('Madcon', 2), ('Victor Lundberg', 0), ('Loleatta Holloway', 2), ('Gonzalez', 2), ('Keith', 2), ('Good Charlotte', 2), ('The Neon Philharmonic', 0), ('Case', 2), ('Mitch Ryder', 2), ('Stars On 45', 0), ('Maluma', 0), ('Frankee', 2), ('Ray Barretto', 0), ('Christina Perri', 2), ('Big Country', 2), ('Lina Santiago', 0), ('Marcy Playground', 2), ('Bruce Hornsby', 2), ('Blaque', 2), ('Mashmakhan', 0), ('Crown Heights Affair', 2), ('Katy Perry', 2), ('Jo Jo Benson', 0), ('Robin Gibb', 2), ('Taco', 0), ('John Gary', 2), ('Sick Puppies', 2), ('James', 2), ('Keala Settle', 0), ('Lily Allen', 2), ('Barbara Greene', 0), ('Laura Nyro', 0), ('The Spellbinders', 2), ('Donny Osmond', 2), ('Nia Peeples', 2), ('Amber', 2), ('John Anderson', 2), ('Coo Coo Cal', 0), ('Jeannie C. Riley', 2), ('Clean Bandit', 0), ('Ryan Leslie', 0), ('Shontelle', 0), ('Freddy Fender', 2), ('Portrait', 2), ('The New Seekers', 2), ('Lauren Wood', 2), ('Tom Tom Club', 2), ('Joan Baez', 2), ('Lindisfarne', 2), ('Gary Criss', 1), ('Travis Wammack', 2), (\"Smart E's\", 0), ('Jill Sobule', 0), ('Green Day', 2), ('Passion', 0), ('Heavy D', 0), ('Angel City', 0), ('Cynthia', 2), ('Lee Greenwood', 2), ('Ronnie Milsap', 2), ('Machine Gun Kelly', 0), ('JAY Z', 0), ('Dino', 2), ('Bobby Pinson', 2), ('Sara Bareilles', 2), ('Otis Leavill', 2), ('Brantley Gilbert', 2), ('Duke Baxter', 2), ('Jackie Moore', 2), ('Mary Jane Girls', 2), ('John Mayer', 2), ('Barrington Levy', 0), (\"Des'ree\", 2), ('Miriam Makeba', 2), ('Adam Levine', 1), (\"Boys Don't Cry\", 0), (\"Terence Trent D'Arby\", 2), ('Pleasure P', 2), ('Vitamin C', 2), ('Scott English', 2), ('Silversun Pickups', 2), ('Kimberly Scott', 2), ('NRBQ', 0), ('Extreme', 2), ('Adam Lambert', 2), ('Lil Wayne', 7), ('Billy Joe Royal', 2), ('The Troggs', 2), ('Margaret Whiting', 0), ('The Duprees', 0), ('MC Lyte', 2), ('Thriving Ivory', 2), ('Tevin Campbell', 2), ('Midnight Star', 2), ('Parliament', 2), ('Gerry Rafferty', 2), ('Trans-X', 2), ('Kreayshawn', 2), ('The Ray Charles Singers', 0), ('Lee Hazlewood', 1), ('Kumbia Kings', 0), ('Old Dominion', 2), ('Mary Chapin Carpenter', 2), ('Chris Isaak', 2), ('Toni Braxton', 2), ('Doris Duke', 0), ('Ideal', 2), ('Frankie Goes To Hollywood', 2), ('Pablo Cruise', 2), ('Hotlegs', 2), ('Chief Keef', 2), ('Perfect Stranger', 2), ('Staind', 2), ('Peggy Scott-Adams', 2), ('Hughes/Thrall', 2), ('The Staple Singers', 2), ('Walter Egan', 2), (\"Colby O'Donis\", 2), ('Buddy Jewell', 2), ('Gotti', 0), ('Harold Faltermeyer', 2), ('Sneaker Pimps', 2), ('Eli Young Band', 2), ('Peter Gabriel', 2), ('The Fuzz', 0), ('George Strait', 2), ('Marshall Hain', 2), ('Living In A Box', 0), ('Ugly God', 2), ('Sherbet', 2), ('Mack Maine', 0), ('The Esquires', 2), ('Icehouse', 2), ('Traffic', 2), ('OMI', 2), ('Five', 0), ('French Montana', 2), ('Gary Wright', 2), ('Yellowcard', 2), ('Hoobastank', 2), ('Freddie Scott', 2), ('Triumph', 2), ('The Goodies', 0), ('The Strangers', 0), ('Mad Cobra', 2), ('Bonnie Pointer', 2), ('Dustin Lynch', 2), ('Matt McAndrew', 2), ('Dana Rollin', 2), ('Universal Robot Band', 0), ('Relient K', 2), ('Spider', 2), ('La Roux', 2), ('Rose Royce', 2), ('Lauv', 2), ('Cutty Ranks', 0), ('The Irish Rovers', 2), ('Sammy Davis Jr.', 0), ('Shooting Star', 2), ('Carl Douglas', 2), ('Koffee Brown', 2), ('Jeanne Pruett', 2), ('Mat Kearney', 2), ('The Ronettes', 2), ('The Vibrations', 2), ('Brandy', 2), ('Elle King', 2), ('Jamiroquai', 2), ('Frankie Ballard', 2), ('Pharrell Williams', 2), ('Burton Cummings', 2), ('Ashley Monroe', 0), ('Frankie J', 3), ('Nena', 2), ('Red Rockers', 2), ('Tesla', 2), ('The Girlfriends', 0), ('Breathless', 2), ('Cypress Hill', 2), ('Scott McKenzie', 0), ('Crazy Elephant', 2), ('The All-American Rejects', 2), ('Mono', 2), ('Alan Walker', 2), ('Lea', 0), ('Nicholas David', 0), ('TRUSTcompany', 2), ('Manfred Mann', 2), ('Mongo Santamaria', 2), ('Christopher Williams', 0), ('Jonn Hart', 0), ('Samantha Mumba', 2), ('Brenda Holloway', 2), ('Def Squad', 0), ('Chris Thompson', 0), ('YG', 0), ('Grace', 0), ('Icona Pop', 0), ('Warrant', 2), ('Scorpions', 2), ('Fatboy Slim', 2), ('Levert', 2), ('Taking Back Sunday', 2), ('Audience', 2), ('Walker Hayes', 0), ('Boz Scaggs', 2), ('Frank Mills', 2), ('Deep Blue Something', 2), ('Carl Thomas', 2), ('Paul Revere', 0), ('Carole Bayer Sager', 2), ('Samantha Fox', 2), ('Avery Storm', 0), ('Pastor Troy', 0), ('The Kane Gang', 0), ('Little Mix', 2), ('Shirley Murdock', 2), ('DLOW', 2), ('The Strangeloves', 2), ('The Greatest Showman Ensemble', 0), ('Deborah Allen', 2), ('Pink Floyd', 2), ('The Serendipity Singers', 2), ('David Ball', 2), ('Latimore', 2), ('Easton Corbin', 2), ('Monie Love', 0), ('Sydney Youngblood', 2), ('William Orbit', 0), ('Metro Boomin', 0), ('Eric Paslay', 2), ('Rayvon', 0), ('Lee Ann Womack', 2), ('Nicky Jam', 2), ('MAX', 0), ('Twinz', 2), ('Brooklyn Bridge', 0), ('Everything But The Girl', 2), ('Clarence Reid', 2), ('Roy Head', 2), ('Lazy Racer', 2), ('The Beach Boys', 2), ('China Anne McClain', 0), ('The 1975', 2), ('Sandee', 2), ('Joe Frank', 0), ('Fotomaker', 2), ('Ian Gomm', 2), ('Figures On A Beach', 2), ('Gary U.S. Bonds', 2), ('Bloodstone', 2), ('Kool Moe Dee', 0), ('Camila Cabello', 0), ('Tori Kelly', 2), ('Camouflage', 2), ('Concrete Blonde', 2), ('Troop', 2), ('Sam Brown', 0), ('Bobby Wood', 0), ('Deniece Williams', 2), ('McGuinness Flint', 0), ('H.E.R.', 2), ('Player', 2), ('Stone Temple Pilots', 2), ('U.N.V.', 2), ('Electronic', 0), ('The Weeknd', 2), ('Chuck Wicks', 2), ('David Houston', 2), ('Groove Theory', 2), ('Owl City', 2), ('The Everly Brothers', 2), ('The Hollies', 2), ('Demis Roussos', 0), ('The Brecker Brothers', 2), ('Reba McEntire', 2), ('Kayak', 0), ('Rough Trade', 2), ('Clint Holmes', 0), ('Mike Pinera', 2), ('The Jazz Crusaders', 2), ('Five Man Electrical Band', 2), ('Vicci Martinez', 0), ('Kenny Loggins', 2), ('Amii Stewart', 2), ('David Hudson', 0), ('Vince Gill', 2), ('Selena Gomez', 2), ('Sylvie Vartan', 1), ('The Weather Girls', 2), ('Choirboys', 0), ('Clay Davidson', 2), ('A+', 0), ('Junction', 0), ('Steve Winwood', 2), ('The Fantastic Four', 2), ('Arcade Fire', 2), ('Yo-Yo', 0), ('Bro Smith', 2), ('T-Wayne', 2), ('Ozuna', 0), ('Iyaz', 2), ('4 Non Blondes', 0), ('The Alan Parsons Project', 2), ('Vengaboys', 2), ('Grayson Hugh', 2), ('Snoop Dogg', 3), ('Hipsway', 2), ('The Dixie Drifter', 2), ('Ralph Tresvant', 2), ('DeJ Loaf', 2), ('Nipsey Hussle', 0), ('Boy George', 0), ('We Five', 2), (\"Guns N' Roses\", 2), ('The Impressions', 2), ('One Direction', 2), ('Joshua Kadison', 2), ('Donald Fagen', 2), ('Jay', 0), ('Anna King', 2), ('Blair', 0), ('Mark Curry', 0), ('Westlife', 0), ('Josie Cotton', 2), ('Dan Hill', 2), ('Truth Hurts', 1), ('Shawn Mendes', 2), ('Evie Sands', 2), ('Mark Wills', 2), ('Enchantment', 2), ('Christina Aguilera', 3), ('Obie Trice', 2), ('Nazz', 0), ('Lobo', 2), ('The Lumineers', 2), ('WizKid', 0), ('Loverboy', 2), ('Manu Dibango', 2), ('Kinsu', 2), ('Echosmith', 2), ('First Choice', 2), ('Los Umbrellos', 2), ('Brick', 2), ('Dorothy Norwood', 0), ('The Pack', 2), ('Linda McCartney', 0), ('Ultravox', 0), ('I-20', 0), ('Joey Powers', 2), ('Neil Sedaka', 2), ('J.J. Fad', 2), ('The Boomtown Rats', 2), ('The Raiders', 0), ('Afrique', 2), ('New Found Glory', 2), ('Mista Grimm', 0), ('Donny Most', 2), ('Tyga', 2), ('David Kersh', 2), ('Helen Reddy', 2), ('Far Corporation', 0), ('Five Special', 2), ('Cole Swindell', 2), ('The Castaways', 2), ('Buckcherry', 2), ('Claudine Longet', 2), ('Dennis Edwards', 0), ('The Cars', 2), ('Marilyn Martin', 2), ('Cochise', 0), ('Clout', 2), ('Larry John McNally', 2), ('Sarah McLachlan', 2), ('Vandenberg', 2), ('Slade', 2), ('Shorty Long', 2), ('Slim Jxmmi', 0), ('Peggy Lee', 2), ('The Monroes', 0), ('The Gants', 2), ('Kirko Bangz', 0), ('Daniel Rodriguez', 2), ('Ty Herndon', 2), ('The Archies', 2), ('Lucas', 0), ('Transvision Vamp', 2), ('Chase Rice', 2), ('M.I.A.', 2), ('Pozo Seco Singers', 2), ('Grey', 0), ('Country Joe McDonald', 2), ('Trick Pony', 2), ('John Kongos', 2), ('Sia', 2), ('Albert King', 2), ('Jimmy Davis', 0), ('Thelma Houston', 2), ('The Smothers Brothers', 0), (\"Kenny O'Dell\", 2), ('Sweet', 2), ('The Real Thing', 2), ('Dee Dee Warwick', 0), ('Ian Thomas', 2), ('Wallace Brothers', 2), ('Robert Plant', 0), ('Chi Coltrane', 0), ('Freak Nasty', 2), ('Jeff Beck', 0), ('Jimmy Buffett', 2), ('Frijid Pink', 2), ('Livingston Taylor', 2), ('Kevin Lyttle', 0), ('Ruffneck', 0), ('Deborah Cox', 2), ('Eddie Hodges', 2), ('The Conscious Daughters', 2), ('Bow Wow Wow', 2), ('Vicki Anderson', 0), ('Vic Dana', 2), ('DJ Drama', 0), ('Vance Joy', 2), ('Cool Breeze', 0), ('Madleen Kane', 2), ('Anita Ward', 2), ('Johnny Williams', 0), ('Vanilla Fudge', 0), ('Sinitta', 2), ('The New Christy Minstrels', 2), ('Clay Aiken', 2), ('The Fray', 2), ('Augustana', 2), ('The Glass Bottle', 1), ('Dwight Twilley', 2), ('Sammy Hagar', 2), ('Joyner Lucas', 0), ('Connie Francis', 2), ('The Rationals', 2), ('The White Stripes', 2), ('Disclosure', 0), ('Dave Hollister', 2), ('David Soul', 2), ('Jake Holmes', 2), ('Eric Hine', 2), ('Susan Raye', 2), ('Jackie DeShannon', 2), ('The Treblemakers', 0), ('Adam Faith', 2), ('Dierks Bentley', 2), ('Boy Meets Girl', 0), ('Jimmy McCracklin', 2), ('Lee Ritenour', 2), ('The Enchanters', 2), ('Lonnie Mack', 2), (\"Quad City DJ's\", 2), ('The Rowans', 0), ('Keith Martin', 2), ('Tasmin Archer', 2), ('Clay Walker', 2), ('Jermaine Stewart', 2), ('The Gregg Allman Band', 2), ('Bobby Helms', 2), ('Kraftwerk', 0), ('Chris Lane', 2), ('The Heights', 0), ('Paul Simon', 2), ('Taylor Hicks', 2), ('Robert Miles', 2), ('Toni Halliday', 1), ('A.L.T. And The Lost Civilization', 2), ('Danger Danger', 2), ('Janey Street', 0), ('Juelz Santana', 0), ('Black Oak Arkansas', 2), ('Shannon', 2), ('Billy Ocean', 2), ('Cracker', 2), ('Jewel', 2), ('The Moments', 2), ('Ben Colder', 0), ('Major Lazer', 0), ('Liquid Smoke', 2), ('Graham Nash', 2), ('Graham Central Station', 2), ('The Rentals', 2), ('Amel Larrieux', 2), ('Alicia Bridges', 2), ('Will Smith', 3), ('Dan Seals', 2), ('Texas', 2), ('DJ Kool', 1), ('Le Click', 0), ('Twisted Sister', 2), ('Lords Of The Underground', 2), ('Count Five', 2), ('William Bell', 2), ('Breathe', 2), ('M', 0), ('Soul Asylum', 2), ('Ramsey Lewis Trio', 2), ('Fortune', 2), ('Kurupt', 0), ('Tay Dizm', 0), ('Peter Nero', 0), ('Ben Rector', 2), ('James Blake', 0), ('Jimmy Ray', 2), ('Zay Hilfigerrr', 0), ('The Murmurs', 2), ('Pat Benatar', 2), ('Evelyn Thomas', 2), ('Bryan Ferry', 2), ('Sara Evans', 2), ('BTS', 2), ('The Jimmy Castor Bunch', 2), ('The Four Aces', 0), ('Keith Washington', 2), ('Change', 0), ('Jerry Jaye', 2), ('Andy Williams', 2), ('Janet Jackson', 2), ('Ariana Grande', 2), ('Dennis Yost', 0), ('Plastic Bertrand', 0), ('Tavares', 2), ('Amanda', 2), ('American Hi-Fi', 2), ('Wild Cherry', 2), ('Toby Love', 0), ('Live', 2), ('The Larks', 2), ('Art Garfunkel', 2), ('Andrea Bocelli', 0), ('Lasgo', 2), ('Clyde McPhatter', 2), ('Willa Ford', 2), ('Justin Bieber', 2), ('Elvis Crespo', 2), ('U2', 2), ('T. Rex', 2), ('Hoku', 2), ('The Monitors', 2), ('The Breeders', 2), ('Bad Wolves', 2), ('Cinderella', 2), ('Billie Jo Spears', 2), ('Bimbo Jet', 2), ('Asia', 2), ('Mic Geronimo', 0), ('Skip', 0), ('Timmy Thomas', 2), ('Bobby Hebb', 2), ('Uptown', 0), ('Joey Kid', 0), ('Joe Hinton', 0), ('The Exciters', 2), ('Alfonzo Hunter', 2), ('Avril Lavigne', 2), ('Ellen Foley', 0), ('Mitch Malloy', 2), ('Guerilla Black', 0), ('Erick Sermon', 2), ('Ed Sheeran', 2), ('Tom T. Hall', 2), ('Daniel Bedingfield', 2), ('Ace', 2), ('The Georgia Satellites', 2), ('Dean Friedman', 2), ('Lana Del Rey', 2), ('Digable Planets', 2), ('Kut Klose', 2), ('Ramones', 2), ('Charli Baltimore', 0), ('Saudi', 0), ('Sammy Johns', 2), ('Johnny Tillotson', 2), ('Silkk The Shocker', 0), ('Kashif', 0), ('Heatwave', 2), ('Culture Beat', 2), ('Twista', 3), ('Chris Crosby', 0), ('The Human League', 2), ('Rare Earth', 2), ('Styles Of Beyond', 0), ('Alabama Shakes', 2), ('Dennis Coffey', 0), ('Pat Travers Band', 2), ('Brooke White', 2), (\"Brooks O'Dell\", 2), ('The Choir', 2), ('Johnny Cash', 2), (\"Liz Damon's Orient Express\", 2), ('The Illusion', 2), ('Soul II Soul', 2), ('Was (Not Was)', 2), ('Idris Muhammad', 0), ('Austin Roberts', 2), ('Fred Schneider', 2), ('Nayer', 0), ('Q', 2), ('The Honeydrippers', 0), ('David Lasley', 2), ('Argent', 2), ('Pitbull', 4), ('Foxes', 0), ('Kim Weston', 2), (\"Jamie O'Neal\", 2), ('Thompson Square', 2), ('Unk', 2), ('Madonna', 2), ('The Novas', 2), ('Scotty McCreery', 2), ('Takeoff', 0), ('Adam Gontier', 0), ('Travis', 0), ('The Fantastics', 0), ('Portugal. The Man', 2), ('Breaking Benjamin', 2), ('The Call', 2), ('The Trammps', 2), ('Jennifer Lawrence', 0), ('The Sandpipers', 2), ('Michael Peterson', 2), ('Elephant Man', 0), ('Boss', 0), ('Craig Wayne Boyd', 0), (\"The O'Jays\", 2), ('Jimmy Page', 0), ('DNCE', 2), ('BlocBoy JB', 0), ('Linkin Park', 2), ('Roxette', 2), ('Dr. Alban', 2), ('Billie Sans', 2), ('The Osmonds', 2), ('Gucci Mane', 2), ('Cardi B', 2), ('Josh Turner', 2), ('Eruption', 0), ('Flobots', 2), ('Belly', 0), ('Karen O', 0), ('21 Savage', 2), ('DJ Luke Nasty', 2), ('Chantay Savage', 2), ('Thompson Twins', 2), ('Lucy Pearl', 2), ('Dragon', 2), ('The Veronicas', 2), ('Ocean', 2), ('Richard Chamberlain', 0), ('Prince', 2), ('Gino Soccio', 2), ('Prince Markie Dee And The Soul Convention', 2), ('CSS', 2), ('Millions Like Us', 0), ('Prince Buster', 2), ('Olivia', 0), ('Ted Taylor', 0), ('Skid Row', 2), ('Leon Haywood', 2), ('PMD', 0), ('Keith Hampshire', 2), ('Carl Wilson', 0), ('Foxx', 0), ('Jimmy Fallon', 0), ('Agatha Lee Monn', 0), ('B Rich', 2), ('Afroman', 2), ('The Holidays', 0), ('Tanya Tucker', 2), ('Lorrie Morgan', 2), ('The Skyliners', 2), ('The Music Machine', 2), ('Richie Sambora', 2), ('Bud Shank', 2), ('Conway Twitty', 2), ('George Harrison', 2), ('Tom Northcott', 2), ('Berlin', 2), ('Shades Of Blue', 2), ('Ready For The World', 2), ('Louis Tomlinson', 0), ('Charli XCX', 2), ('Teena Marie', 2), ('Piero Umiliani', 0), ('Frankie Avalon', 2), ('Sir Douglas Quintet', 2), ('Brian Hyland', 2), ('Steppenwolf', 2), ('Britney Spears', 3), ('Shirley Bassey', 2), ('Nelly Furtado', 2), ('Mac McAnally', 0), ('Tammy Cochran', 2), ('4 The Cause', 0), ('Chris Stapleton', 2), ('Barenaked Ladies', 2), ('The Bermudas', 2), ('Vitamin Z', 2), ('Henry Mancini', 0), ('Minnie Riperton', 2), ('Lou Bega', 2), ('After The Fire', 2), ('Neal Hefti', 2), ('Tyler Collins', 2), ('O.C.', 1), ('Positive K', 2), ('The Blow Monkeys', 2), ('MAGIC!', 2), ('Wayne Wonder', 2), ('Kelsea Ballerini', 2), ('Slash', 0), ('Perfect Gentlemen', 2), ('Rich The Kid', 2), ('Rufus Blaq', 0), ('Freedom Williams', 0), ('Rita Coolidge', 2), ('Nolan Porter', 2), ('The Poppy Family', 0), ('Terri Gibbs', 2), ('Angie Stone', 2), ('Hanson', 2), ('Seduction', 2), ('Frank Zappa', 2), ('Sylvia', 2), ('Casey James', 0), ('Rell', 1), ('The Osmond Brothers', 0), ('504 Boyz', 2), ('Luscious Jackson', 2), ('Maino', 0), ('Funkmaster Flex', 0), ('Kathy Dalton', 0), ('Erasure', 2), ('Lefty Frizzell', 2), ('Thirty Seconds To Mars', 2), ('Tommy Page', 2), ('Cream', 2), ('DNA', 0), ('Rej3ctz', 2), ('Chevelle', 2), ('Tom Johnston', 2), ('Kevin Lamb', 0), ('Starship', 2), ('Jimmy Hughes', 2), ('Peter Frampton', 2), ('Jimmy Eat World', 2), ('Jibbs', 2), ('David Dundas', 2), ('Born Jamericans', 2), ('Ron Browz', 0), ('The New Colony Six', 0), ('The Limeliters', 0), ('Gary Numan', 2), ('Rob Base', 0), ('Rich Boy', 1), ('Sadat X', 0), ('Luther Ingram', 2), ('Falco', 2), ('Savage', 0), ('Emilia', 2), ('Method Man', 3), ('Marlena Shaw', 2), ('Lucy Hale', 0), ('I-15', 0), ('Eve 6', 2), ('Usher', 3), ('Mason Williams', 2), ('Iggy Azalea', 2), ('Korn', 2), ('The Product G&B', 0), ('Brown', 0), ('Asher Roth', 2), ('Allan Clarke', 2), ('Gunna', 0), ('Spin Doctors', 2), ('Carolina Liar', 2), ('The Goodees', 2), ('Superpower', 0), ('Evan And Jaron', 0), ('David Cassidy', 2), ('Tracy Chapman', 2), ('Alan Jackson', 2), ('Kirk Franklin', 2), ('KYLE', 0), ('Janis Joplin', 2), ('Candlebox', 2), ('Wendy Waldman', 2), ('Oleta Adams', 2), ('The Boys', 2), ('Y&T', 2), ('Jon Pardi', 2), ('The Temptations', 2), ('S.O.A.P.', 2), ('The Intrigues', 2), ('Lonestar', 2), ('The Coasters', 0), ('The Lemonheads', 2), ('The Original', 0), ('The Stereos', 0), ('Derek', 2), ('Mickey Lee Lane', 2), ('Granger Smith', 2), ('Passion Pit', 0), ('Bachman-Turner Overdrive', 2), ('Jermaine Jackson', 2), ('Greg Lake', 2), ('Leif Garrett', 2), ('Double', 0), ('Giorgio Moroder', 2), ('Cassadee Pope', 2), ('Gallagher And Lyle', 2), ('Randy Houser', 2), ('Total', 2), ('Narada Michael Walden', 2), (\"Lil' Zane\", 0), ('Edie Brickell', 2), ('Hurricane Chris', 2), ('Eric Turner', 0), ('The Orlons', 2), ('Alan Parsons', 0), ('Brooklyn Bounce', 0), ('Blackfoot', 2), ('The Candymen', 2), ('Toya', 2), ('Adele', 2), ('Masta Ace Incorporated', 2), ('Carol Douglas', 2), ('Biddu Orchestra', 2), ('Jan Hammer', 2), ('Santa Esmeralda', 0), ('Minor Detail', 0), ('Tom Scott', 0), ('Otis Redding', 2), ('Sean Kingston', 2), ('Eugene Wilde', 2), ('Divine', 0), ('No Mercy', 2), ('Tiny Tim', 2), ('Coko', 2), ('DJ Frank E', 0), ('A Thousand Horses', 2), ('Rivers Cuomo', 0), ('Maynard Ferguson', 2), ('The Ikettes', 0), ('Juicy J', 0), ('Vanessa Hudgens', 2), ('The White Buffalo', 0), ('Hoyt Axton', 2), ('Johnny Sea', 0), ('Jimmy \"Bo\" Horne', 2), ('The Red Jumpsuit Apparatus', 2), ('Ten Years After', 2), ('The Dixie Cups', 2), ('Lou Reed', 0), ('Eiffel 65', 0), ('Debbie Taylor', 2), ('Dishwalla', 2), ('Millie Jackson', 2), ('Raspberries', 2), ('Billie Ray Martin', 2), ('Happy Mondays', 2), ('Taylor Dayne', 2), ('REO Speedwagon', 2), ('Freda Payne', 2), ('MC Ren', 0), ('Sparks', 3), ('Selena', 2), ('Frank Ocean', 2), ('Fleetwood Mac', 2), ('Bobby Brackins', 0), ('Thomas Rhett', 2), ('Cross Country', 2), ('The Roots', 2), ('Francesca Battistelli', 2), ('America', 2), ('BJ The Chicago Kid', 0), ('Little Milton', 2), ('Tommy Lee', 0), ('All-4-One', 2), ('Gloria Estefan', 2), ('Fuse ODG', 0), ('Shania Twain', 2), ('Gladys Knight', 0), ('The Young Rascals', 2), ('Danny Hutton', 2), ('Linda Jones', 2), ('Nicolette Larson', 2), ('Rhiannon Giddens', 0), ('The Uniques', 2), ('Big K.R.I.T.', 0), ('Anthony Hamilton', 2), ('Dickie Goodman', 2), ('Das EFX', 2), ('A Taste Of Honey', 2), ('Orchestral Manoeuvres In The Dark', 2), ('Eric Martin', 2), ('Aretha Franklin', 3), ('Chad Kroeger', 0), ('Crazy Frog', 2), ('Mr. Mister', 2), ('Hagood Hardy', 0), ('Gene Chandler', 3), ('Metallica', 2), ('Deodato', 2), ('Melanie', 2), ('The Kingsmen', 2), ('Tommy James', 2), ('ABC', 2), ('Glass Moon', 0), ('Ultra Nate', 2), ('The Brothers Johnson', 2), ('Chanson', 2), ('Champaign', 2), ('10 Years', 2), ('Smif-N-Wessun', 2), ('Smokie', 0), ('Jo Jo Gunne', 2), ('Bunny Sigler', 2), (\"L'Trimm\", 2), ('Canibus', 0), ('Daddy Yankee', 2), ('Logic', 2), ('The Ting Tings', 2), ('The Friends Of Distinction', 2), ('Jerry Reed', 2), ('Kai', 0), ('John Cafferty', 0), ('Nathan Sykes', 0), ('Ann Peebles', 2), ('BlackHawk', 2), ('Lenny Kravitz', 2), ('Jellyfish', 2), ('Walter Wanderley', 0), ('The Smithereens', 2), ('Lou Christie', 2), ('F.R. David', 2), ('Paris Hilton', 2), ('The Satisfactions', 0), ('Beau Coup', 2), ('Swing Out Sister', 2), ('Young Buck', 2), ('The Superbs', 0), ('Too $hort', 2), ('Diana Ross', 3), ('Quarterflash', 2), ('Samantha Barks', 2), ('Newcity Rockers', 0), ('Waka Flocka Flame', 2), ('Howard Tate', 0), ('Billy Edd Wheeler', 2), ('Justin Hayward', 0), ('James Arthur', 2), ('Liquid Gold', 2), ('Frank Stallone', 2), ('Uriah Heep', 2), ('The Van Dykes', 0), ('Face To Face', 0), ('Freddie Mercury', 2), ('Foster The People', 2), ('Biz Markie', 0), ('6LACK', 0), ('G-Eazy', 2), ('Vangelis', 0), ('Cutty', 0), ('Cher', 2), ('Angel', 2), ('Ric Ocasek', 0), ('Vikki Carr', 2), ('Jake Paul', 0), ('Murray Head', 0), ('Chris Young', 2), ('Cappadonna', 0), ('Musiq Soulchild', 2), ('Marc E. Bassy', 0), ('Hot Chelle Rae', 2), ('Patty Smyth', 2), ('Lifehouse', 2), ('Kill The Noise', 0), ('The Gregory Brothers', 0), ('Bounty Killer', 0), ('Oingo Boingo', 2), ('The Tymes', 2), ('Rockpile', 0), ('Paul Kelly', 2), ('The Cranberries', 2), ('Tatyana Ali', 0), ('Reunion', 0), ('Chyna Whyte', 0), ('Starz', 2), ('Phillip Phillips', 2), ('James Blunt', 2), ('Sweet Sensation', 2), ('The Rose Garden', 0), ('Paul Wall', 2), ('Rockwell', 2), ('Maria Mena', 0), ('Fall Out Boy', 2), ('Marques Houston', 2), ('Soul Train Gang', 2), ('The Turtles', 2), ('Doug Stone', 2), ('Katalina', 0), ('Mickey Newbury', 2), ('Ronald Isley', 2), ('Queen Naija', 2), ('The Third Rail', 0), ('Boys Like Girls', 2), ('Skrillex', 0), ('Mo', 0), ('The Miracles', 2), ('Lou Gramm', 2), ('Roger', 0), ('Chocolate Milk', 2), ('The Glitter Band', 2), ('Cold', 2), ('Disciples', 0), ('Britny Fox', 2), ('Candyman', 2), ('Toto', 2), ('The 4 Of Us', 2), ('Jo Dee Messina', 2), ('Baby Talk', 0), ('John Forte', 0), ('Memphis Bleek', 0), ('Little Johnny Taylor', 2), ('Mac Davis', 2), ('Judy Collins', 2), ('Peter Schilling', 0), ('Linda Ronstadt', 2), ('Rob Thomas', 2), ('Reparata', 0), ('The Diplomats', 0), ('Counting Crows', 2), ('Jimmy Holiday', 2), ('Leslie Carter', 0), ('The Lettermen', 2), ('Saving Abel', 2), ('The Knickerbockers', 2), ('Daniel Powter', 2), ('Sage The Gemini', 2), ('Julie Roberts', 2), ('Tujamo', 0), ('Spirit', 2), ('The Marvelettes', 2), ('Kelly Rowland', 2), ('Willie Henderson', 0), ('The Peanut Butter Conspiracy', 0), ('Chely Wright', 2), ('Anna Wise', 0), ('David Naughton', 2), ('Joe Public', 2), ('BLACKPINK', 2), ('SOB X RBE', 2), ('The Parade', 2), ('The Mad Lads', 2), ('A Boogie Wit da Hoodie', 2), ('Gloriana', 2), ('Natasha Bedingfield', 2), ('Lauren Jauregui', 0), ('Marian Hill', 2), ('Swedish House Mafia', 0), ('Cham', 0), ('Darrow Fletcher', 2), ('Paul Anka', 2), ('The Range', 0), ('Mick Jagger', 2), ('England Dan', 1), ('Wax', 0), (\"Bill Black's Combo\", 2), ('Simply Red', 2), ('Roger Daltrey', 2), ('SoMo', 2), ('Brass Construction', 2), ('Cristian Castro', 2), ('Leslie Pearl', 0), ('Framing Hanley', 0), ('Patty Duke', 2), ('Jeannie Seely', 0), ('Classics IV', 2), ('My Darkest Days', 0), ('Hilary Duff', 2), ('Gyptian', 0), ('Bryson Tiller', 2), ('YBN Nahmir', 0), ('JC Chasez', 2), ('Duncan Sheik', 2), ('Sonny James', 2), ('Faron Young', 0), ('Mitchell Tenpenny', 2), ('LeAnn Rimes', 2), ('Hedgehoppers Anonymous', 2), ('Frankie Smith', 2), ('Tenacious D', 0), ('Trey Lorenz', 0), ('Group Home', 2), ('Diddy - Dirty Money', 0), ('The-Dream', 5), ('Robey', 2), ('Meghan Trainor', 2), ('Russ', 2), ('Jamie Walters', 2), ('James Brown', 2), (\"Ginger Baker's Air Force\", 0), ('Chris Lake', 0), ('Kaskade', 0), ('Willie Mitchell', 2), ('The McCoys', 2), ('Urban Dance Squad', 2), ('Syl Johnson', 2), ('Larry Graham', 2), ('Haysi Fantayzee', 2), ('The Sons Of Champlin', 2), ('The Mixtures', 0), ('Eminem', 5), ('Team 10', 0), ('Frida', 2), ('The Tourists', 0), ('TQ', 2), ('Hadouken!', 2), ('Tammi Terrell', 2), ('Anastacia', 0), ('David Crosby', 2), ('Channel Live', 2), ('The Badlees', 2), ('Erykah Badu', 2), ('Lord Tariq', 0), ('Dr. John', 2), ('Julian Lennon', 2), ('Yolanda Be Cool', 0), ('Swizz Beatz', 2), (\"Danny O'Keefe\", 0), ('Donnie Iris', 0), ('Quiet Riot', 2), ('Jessi Colter', 2), ('Ramsey Lewis', 2), ('Rodney Atkins', 2), ('Teddy Pendergrass', 2), ('K5', 2), ('Lindsey Buckingham', 2), ('Rupee', 2), ('Frank Sinatra', 2), ('Splender', 2), ('Jerry Vale', 2), ('M People', 0), ('Jesse Powell', 0), ('Charlie', 2), ('Bowling For Soup', 2), ('Big T', 0), ('The Black Eyed Peas', 2), ('The Killers', 3), ('Arrested Development', 2), ('The Guess Who', 2), ('Wynonna', 2), ('Ca$h Out', 2), ('Mitty Collier', 2), ('Havana Brown', 0), ('Rufus', 0), ('Jermaine Dupri', 1), ('Debelah Morgan', 0), ('Kym Sims', 2), ('John Mellencamp', 2), ('Peter Tosh', 0), ('Immature', 0), ('Harry Chapin', 2), ('Klaatu', 0), ('A Rocket To The Moon', 2), ('Pentatonix', 2), ('Tim Moore', 0), ('Mark Lindsay', 2), ('Charlie Wilson', 2), ('Bilal', 2), ('Air Supply', 2), ('The Belmonts', 0), ('Snow', 2), ('Billy Strange', 2), ('Little Sister', 2), ('Mystikal', 2), ('Seven Mary Three', 2), ('Sawyer Brown', 2), ('Lustra', 2), ('Wes Montgomery', 2), ('Sheppard', 2), ('Chris Bartley', 0), ('Laissez Faire', 2), ('Milli Vanilli', 2), ('Consequence', 0), ('Andre Williams', 2), ('Cheyenne Kimball', 0), ('Harvey Scales', 0), ('Cozy Powell', 0), (\"Destiny's Child\", 2), ('The Electric Indian', 2), ('Jennifer Warnes', 2), (\"Youssou N'Dour\", 0), ('Nappy Roots', 0), ('The Soulful Strings', 2), ('The Shadows Of Knight', 2), ('B Angie B', 2), ('Madeline Bell', 0), ('CL', 2), ('Shai', 2), ('Finger Eleven', 2), ('Sister Janet Mead', 2), ('Robbie Dupree', 2), ('Jerry Lee Lewis', 2), ('Napoleon XIV', 0), ('Hunter Hayes', 2), ('Waylon Jennings', 2), ('R. Dean Taylor', 2), ('Taja Sevelle', 2), ('Sponge', 2), ('Barry White', 2), ('Rodney Crowell', 0), ('Norah Jones', 2), ('RaeLynn', 2), ('Barbara Lynn', 2), ('The Velvelettes', 2), ('Donnie Elbert', 2), ('John Mayer Trio', 0), ('Lil Dicky', 0), ('Ferras', 0), ('Dorothy Moore', 2), ('38 Special', 2), ('2 Of Clubs', 0), ('Dan Peek', 0), ('Darryl Worley', 2), ('Natural Selection', 0), ('Jay Sean', 1), ('MIKA', 2), ('Lil Skies', 2), ('The Flamingos', 0), ('Mike Posner', 2), ('Jack Johnson', 2), ('Matthew Sweet', 0), ('Sammi Smith', 2), ('Al Wilson', 2), ('Deee-Lite', 0), ('Larry Groce', 2), ('The Alarm', 2), ('Ronnie McDowell', 0), ('Joe Simon', 2), ('Fantasia', 2), ('Damian Lemar Hudson', 0), ('Morrissey', 0), ('Talib Kweli', 2), ('Laban', 2), (\"Force M.D.'s\", 2), ('LSG', 2), ('Spose', 2), ('Andrea True Connection', 2), ('Tamia', 2), ('Donna Lynn', 0), ('The Ataris', 0), ('Vika Jigulina', 0), (\"Bad Boy's Da Band\", 2), ('Jimmy McGriff', 2), ('Eddie Levert', 0), ('Coro', 2), ('G.Q.', 0), ('EMF', 2), ('Kardinal Offishall', 2), ('The Offspring', 2), ('Big Maybelle', 2), ('Ashanti', 3), ('Deep Forest', 2), ('Phajja', 2), ('Huey', 2), ('Norman Greenbaum', 2), ('Craig Mack', 2), ('Kandi', 2), ('The Bar-Kays', 2), ('Mark Morrison', 0), ('Suzi Quatro', 2), ('Colbie Caillat', 3), ('K-Ci', 1), ('Jimmy Somerville', 2), ('Mudvayne', 2), ('Kings Of The Sun', 2), ('The Sylvers', 2), ('Stacey Q', 2), ('Ray Charles', 0), ('The Newbeats', 2), ('Pigmeat Markham', 2), ('Jars Of Clay', 2), ('Buddy Miles Express', 0), ('Men At Work', 2), ('Jennifer Hudson', 2), ('Betty Harris', 2), (\"Alexander O'Neal\", 2), ('Patti Austin', 2), ('Nona Hendryx', 2), ('k.d. lang', 2), ('Chilliwack', 2), ('Pure Prairie League', 2), ('Claudia Leitte', 0), ('Jethro Tull', 2), ('Delinquent Habits', 0), ('Beverly Bremers', 2), ('Roger Williams', 2), (\"Stereo MC's\", 2), ('Jim Messina', 0), ('Machine', 0), ('L.V.', 0), ('Ruben Studdard', 2), ('Dickey Lee', 2), ('Charles Fox', 2), ('Lukas Graham', 2), ('Kem', 2), ('KRS-One', 2), ('Petula Clark', 2), ('Josey Scott', 0), ('Tommy McLain', 0), ('Bobbi Martin', 2), ('Evelyn \"Champagne\" King', 2), ('Mitchell Hope', 0), ('Young Dro', 0), ('Johnny Thunder', 2), ('Sum 41', 2), ('Jamie Foxx', 0), ('Roxanne', 2), ('2 In A Room', 0), ('Keith Urban', 2), ('Betty Wright', 2), ('King Crimson', 0), ('Al Jarreau', 2), ('Major Lance', 2), ('Dee Dee Sharp', 2), ('Stevie Nicks', 2), ('Kaoma', 0), ('The Pharcyde', 2), ('Willie Nelson', 2), ('Tony Thompson', 2), ('Christine McVie', 2), ('Wa Wa Nee', 2), ('Meat Loaf', 2), ('Hot Butter', 2), ('Erma Franklin', 0), ('Delbert McClinton', 2), ('Robert Tepper', 2), ('Liz Phair', 2), ('T.G. Sheppard', 2), ('World Party', 0), ('Bloodrock', 2), ('Jefferson', 0), ('Max-A-Million', 2), ('Fuel', 2), ('The Prodigy', 2), ('Scatman John', 0), ('Heltah Skeltah', 0), ('Teicher', 0), ('Dua Lipa', 2), ('Yvette Michele', 3), ('Antoine Dodson', 0), ('Daughtry', 2), ('Darija', 0), ('Dollar', 2), ('Skee-Lo', 0), ('Tank', 2), ('The Iveys', 0), ('Shareefa', 0), ('Paula Cole', 0), ('Kiki Dee', 2), ('Gloria Loring', 0), ('The Nylons', 2), ('Gary Puckett', 0), ('Maxwell', 2), ('Kacey Musgraves', 2), ('Brenda Russell', 2), ('Lil Xan', 2), ('The Northern Pikes', 2), ('Monty', 0), ('Giggs', 0), ('Tony Clarke', 2), ('Shawn Colvin', 2), ('Tommy Roe', 2), ('King Jacob', 0), ('David Sanborn', 2), ('Migos', 2), ('Commodores', 2), ('Noel', 2), ('Yavahn', 0), ('Bryan Adams', 2), ('Natalie Cole', 2), ('Voyage', 2), ('1927', 2), ('2 Chainz', 3), ('Cheat Codes', 0), ('Andy Griggs', 2), ('Neil Young', 2), ('Wild Blue', 2), ('Take That', 0), ('Meek Mill', 2), ('Coolio', 2), ('Bettye Swann', 2), ('George Baker Selection', 2), ('The Rugbys', 2), ('The Firm', 2), ('Tim Curry', 2), ('Baby', 0), ('Carlos Santana', 0), ('Vertical Horizon', 2), ('Ferrante', 0), ('Ed Ames', 2), ('702', 2), ('Rockell', 2), ('Sugababes', 2), ('Dazz Band', 2), ('Herbie Mann', 2), ('Galantis', 2), ('Angela Winbush', 0), ('Wilson Phillips', 2), ('Lena Zavaroni', 2), ('Voice Of The Beehive', 2), ('Mr. Big', 2), ('X-Ecutioners', 0), ('Charlie Rich', 2), ('Ayah Marar', 0), ('Banzaii', 2), ('Barbara Mitchell', 1), ('Tommy Tutone', 2), ('Partners In Kryme', 2), ('Otis Clay', 0), ('The Valentinos', 2), ('Sister Hazel', 2), ('Rebecca Black', 2), ('Jimmy Dean', 0), ('Henry Paul Band', 2), ('Johnny P', 0), ('My Chemical Romance', 2), ('Whitesnake', 2), ('Rudimental', 0), ('Five For Fighting', 2), ('Fergie', 4), ('The Delegates', 0), ('Cascada', 2), ('Belinda Carlisle', 2), ('Trick Daddy', 1), ('Darius Rucker', 2), ('Crystal Bernard', 0), ('J.J. Cale', 2), ('Alice Deejay', 0), ('Pretty Poison', 2), ('Martina McBride', 2), ('Larry Elgart And His Manhattan Swing Orchestra', 2), ('Trixter', 0), ('Gabrielle', 2), ('The Civil Wars', 0), ('Grapefruit', 2), ('Pimp C', 0), ('Double Exposure', 2), ('The McCrarys', 2), (\"D'Angelo\", 4), ('The Beatnuts', 0), ('The Angels', 0), ('The Bravery', 2), ('Rocky Burnette', 0), ('Sheila E.', 2), ('Bobby Powell', 2), ('Ya Kid K', 1), ('Pete Seeger', 2), ('John Sebastian', 2), ('Prelude', 0), ('Stardust', 2), ('Jonathan Edwards', 2), ('Yvonne Elliman', 2), ('Letters To Cleo', 2), ('Barry Gibb', 0), ('Marvin Gaye', 2), ('George Burns', 2), ('Papoose', 0), ('Hayley Williams', 0), ('IMx', 0), ('Kelly Osbourne', 2), ('The Raindrops', 2), ('O.V. Wright', 2), ('The New Birth', 2), ('J-Kwon', 1), ('Great White', 2), ('MC Eiht', 0), ('Toby Beau', 0), ('Steve Martin', 2), ('The Hondells', 2), ('John Waite', 2), ('The Radiants', 2), ('Loudon Wainwright III', 2), ('Ace Hood', 2), ('RZA', 0), ('Jonell', 0), ('Bad Meets Evil', 2), ('P$C', 0), ('The Caravelles', 2), ('Pet Shop Boys', 2), ('Billy Thorpe', 2), ('Daniel Caesar', 0), ('Our Lady Peace', 2), ('Bill Anderson', 2), ('Mistress', 2), ('Jim Stafford', 2), ('Cartouche', 0), ('George Michael', 3), ('Meri Wilson', 2), ('Earl Grant', 2), ('Leah Andreone', 0), ('Sarina Paris', 0), ('Debbie Gibson', 2), ('Duice', 2), ('Rvssian', 0), ('Corey Hart', 2), ('Ludacris', 7), ('George Benson', 2), ('Foghat', 2), ('Flyleaf', 2), ('Shawn Christopher', 0), ('La Bouche', 2), ('Joe Tex', 2), ('The Association', 2), (\"Manfred Mann's Earth Band\", 2), ('Lyn Collins', 2), ('Chris Cornell', 0), ('Kim Wilde', 2), ('Capital Cities', 2), ('Kim Mitchell', 2), ('Martha Wash', 2), ('Inez', 0), ('Sunny Sweeney', 2), ('Chubb Rock', 2), ('B.T. Express', 2), ('C.C.S.', 2), ('Lil Uzi Vert', 2), ('The Ray Conniff Singers', 0), ('Jimi Hendrix', 2), ('Mystic', 0), ('Little Richard', 2), ('Kristin Chenoweth', 0), ('Kane Roberts', 0), ('Grace Jones', 2), ('Greg Bates', 2), ('No Good But So Good', 0), ('50 Cent', 3), ('Robert John', 2), ('Robert Knight', 2), ('Webstar', 0), ('Los Del Rio', 2), ('Vicki Sue Robinson', 2), ('John Eddie', 2), ('Mavis Staples', 2), ('John Rowles', 2), ('Alice Bowie', 0), ('Ronnie Laws', 2), ('Platinum Blonde', 2), ('Kevin Paige', 2), ('Frank Ifield', 2), ('Lyfe Jennings', 0), ('Bea Miller', 2), ('The Johnny Mann Singers', 0), ('Mark Chesnutt', 2), ('Uncle Sam', 0), ('Bill Deal', 0), ('Jason Derulo', 2), ('Sister Sledge', 2), ('Macy Gray', 2), ('Rodway', 2), ('The Viscounts', 2), ('John Belushi', 0), ('Annie Lennox', 3), ('Ian Matthews', 2), ('Jefferson Starship', 2), ('Jessica Andrews', 2), ('Jack Wagner', 2), ('Della Reese', 2), ('Journey', 2), ('Don Johnson', 2), ('Ultimate', 0), (\"Ballin' Jack\", 0), ('Al B. Sure!', 2), ('Leapy Lee', 2), ('Mocha', 0), ('Fiona Apple', 2), ('Ella Fitzgerald', 0), ('Q-Tip', 2), ('Betty Boo', 0), ('Kevon Edmonds', 0), ('Slaughter', 2), ('Kate Voegele', 2), ('Desiigner', 2), ('Idina Menzel', 0), ('Lady Antebellum', 2), ('Wang Chung', 2), ('Chris Norman', 0), ('Maureen Steele', 0), ('Gino Vannelli', 2), (\"Matthews' Southern Comfort\", 2), ('Starland Vocal Band', 2), ('LeToya', 3), ('Evanescence', 2), ('Fern Kinney', 2), ('OK Go', 2), ('Darude', 2), ('Amy Holland', 2), ('Big Time Rush', 2), ('Mobb Deep', 2), ('Susan Jacks', 0), ('Marshmello', 2), ('Julia Michaels', 2), ('Rosanne Cash', 2), ('Big Pokey', 0), ('Soul For Real', 2), ('Dina Carroll', 2), ('Alpha Rev', 2), ('The Robert Cray Band', 2), ('Paul McCartney', 2), ('The Rattles', 2), ('Brian Auger', 0), ('Louise Tucker', 2), ('Melissa Etheridge', 2), ('Pras', 0), ('Jimmie Rodgers', 2), ('The Postal Service', 2), ('Mary J. Blige', 4), ('Denise LaSalle', 2), ('Brian Protheroe', 2), ('Scritti Politti', 2), ('Timbaland', 0), ('Raekwon', 0), ('The Vapors', 2), ('The Emotions', 2), ('The Delfonics', 2), ('Lynyrd Skynyrd', 2), ('Jocelyn Enriquez', 2), ('Aqua', 2), ('Jim Capaldi', 2), ('LFO', 2), ('Los Indios Tabajaras', 0), ('The Chainsmokers', 3), ('Abra Moore', 2), ('The Kings', 0), ('Jessica Simpson', 2), ('Rod Hart', 0), ('Tom Jones', 2), ('The Detergents', 0), ('David Gray', 2), ('Costi', 0), ('Z.Z. Hill', 2), ('Jordan Davis', 2), ('Wonder Girls', 0), ('Animotion', 2), ('Richard Marx', 2), ('Simple Plan', 2), ('Bill Withers', 2), ('Black Rob', 2), ('Tiana', 2), ('Juice Newton', 2), ('Goody Goody', 2), ('Duck Sauce', 2), ('Maxine Brown', 3), ('TLC', 2), ('Daya', 2), ('Charlie Worsham', 2), (\"Alan O'Day\", 2), ('Bernadette Peters', 0), ('Lady Gaga', 2), ('fun.', 2), ('Royal Philharmonic Orchestra', 0), ('Chase Bryant', 0), ('Dobie Gray', 2), ('Jerry Jeff Walker', 2), ('Van Morrison', 2), ('Alana Davis', 2), ('Witchdoctor', 0), ('Crucial Conflict', 2), ('Sam Hunt', 2), ('Elisa Fiorillo', 2), ('John Legend', 2), ('Kenny Chesney', 2), ('Johnny Bristol', 0), ('Skepta', 0), ('Natasja', 0), ('Carolyne Mas', 2), ('Cathy Dennis', 2), ('4.0', 2), ('The Floaters', 2), ('Nick Gilder', 0), ('Felice Taylor', 0), ('Lee DeWyze', 2), ('Bobby \"Blue\" Bland', 2), ('The Dave Brubeck Quartet', 0), ('Kris Kristofferson', 2), ('The Pussycat Dolls', 2), ('Jimmy Witherspoon', 2), ('Polow Da Don', 1), ('Britt Nicole', 2), ('The Bachelors', 2), ('Joe', 2), ('Trisha Yearwood', 2), ('The Monkees', 2), ('Regina Spektor', 2), ('Looking Glass', 2), ('Lee Dorsey', 2), ('The Five Satins', 0), ('Tee Grizzley', 2), ('The Hives', 2), ('Nitty Gritty Dirt Band', 2), ('Joe Jonas', 2), ('Damage', 2), ('Feist', 2), ('Bobby Bare', 2), ('The Beau Brummels', 2), ('Little Jimmy Dickens', 0), ('Shiny Toy Guns', 0), ('The Soul Children', 2), ('Dennis DeYoung', 0), ('Dean Martin', 2), ('Brothers Osborne', 2), ('Trillville', 2), ('Gotye', 2), ('The Calling', 2), ('The Flying Machine', 2), ('Bizarre Inc', 0), ('The Shamen', 2), ('The Critters', 2), ('Mr. President', 2), ('David Jones', 2), ('Fontella Bass', 2), ('Billy Gibbons', 0), ('Clarence Clemons', 0), ('Joel Diamond', 0), ('Autograph', 0), ('Tia', 2), ('Lloyd Price', 0), ('Shanice', 2), ('Niteflyte', 2), ('Crime Mob', 0), ('Crush', 2), ('Kajagoogoo', 2), ('Juanes', 2), ('DRS', 2), ('Jodeci', 2), (\"Romeo's Daughter\", 0), ('Sade', 2), ('Lara Fabian', 2), ('The Dynamics', 0), ('Neon Hitch', 0), ('Grace Potter', 0), ('Madness', 2), ('Brand Nubian', 2), ('Bruno Mars', 2), ('Mel Carter', 2), ('Village People', 2), ('Ricky Nelson', 0), ('Dae Dae', 2), ('Patrick Stump', 0), (\"Edgar Winter's White Trash\", 0), ('The Knack', 2), ('Night', 2), ('Jeffrey Daniels', 0), ('Electric Light Orchestra', 2), ('Flume', 0), ('Don McLean', 2), ('Carlos Vives', 0), ('Christina Milian', 2), ('Fruit De La Passion', 2), ('Chumbawamba', 2), ('Bobby Hart', 0), ('The Olympics', 2), ('King Floyd', 2), ('Montell Jordan', 2), ('Charlie Sexton', 2), ('The Carters', 0), ('Wreckx-N-Effect', 2), ('Anya Marina', 0), ('Sun', 0), ('Republica', 2), ('Gwen Guthrie', 2), ('Shyne', 0), ('Eagle-Eye Cherry', 2), ('The Waitresses', 2), ('Grandmaster Slice', 2), ('Ozzy Osbourne', 2), ('Arthur Prysock', 0), ('Trouble', 0), ('Edwin McCain', 2), ('Gwen McCrae', 2), ('B.W. Stevenson', 2), ('The Sunrays', 2), ('3rd Bass', 2), ('Drama', 2), ('Philly Devotions', 2), ('Vanity Fare', 2), ('Moving Pictures', 0), ('Bella Thorne', 2), ('Morris Day', 2), ('Julie Rogers', 2), ('Isaac Hayes', 3), ('Brett Eldredge', 2), ('Michael Cera', 0), (\"Dr. Buzzard's Original Savannah Band\", 0), ('Ray Price', 2), ('Honeymoon Suite', 2), ('Daisy Dee', 2), ('Love', 2), ('Kamaiyah', 0), ('Stargard', 2), ('Priscilla', 0), ('Jud Strunk', 0), ('Cartel', 2), ('Marc Almond', 2), ('Ingrid Michaelson', 2), ('Michael McDonald', 2), ('Taio Cruz', 2), ('Gravity Kills', 0), ('B.G. The Prince Of Rap', 2), ('Dolla', 0), ('Ronnie Dunn', 2), ('Dayton', 0), ('Jermaine Paul', 0), ('Caesars', 2), ('Yasmin', 0), ('Kali Uchis', 0), ('Ali Thomson', 2), ('The Cult', 2), ('K-Solo', 0), ('Grateful Dead', 2), ('Hayley Kiyoko', 0), ('Focus', 2), ('The 8th Day', 0), ('NAV', 0), ('The Tubes', 2), ('Orchestra', 0), ('Sue Thompson', 2), ('Tim Davis', 2), ('The Cover Girls', 2), ('Walter Jackson', 2), ('Remy Ma', 2), ('Reeve Carney', 0), ('Kansas', 2), ('Valerie Simpson', 2), ('Jimmy Smith', 0), ('The Standells', 2), ('Megadeth', 2), ('William Michael Morgan', 0), ('Michael Bolton', 2), ('Westside Connection', 2), ('Milky Chance', 2), ('Jimmy Wayne', 2), ('A*Teens', 2), ('L.A. Guns', 2), ('The Crusaders', 2), ('Kid Cudi', 6), ('Spys', 2), ('Nazareth', 2), ('McAuley Schenker Group', 2), ('The Pixies Three', 2), ('Gale Garnett', 2), ('Kimbra', 0), ('Vita', 0), ('The Fools', 2), ('Kelly Clarkson', 2), ('Busta Rhymes', 2), ('Phil Collins', 2), ('Al Hirt', 2), ('Cisco Adler', 0), ('Dwele', 2), ('Sara Ramirez', 2), ('When In Rome', 2), ('Ray Kennedy', 0), ('Eazy-E', 2), ('Just Us', 0), ('The Brian Setzer Orchestra', 2), ('Thunderclap Newman', 2), ('Thundercat', 0), ('West Street Mob', 2), ('The Tractors', 2), ('Suzanne Vega', 2), ('Eddie Holland', 2), ('The Drifters', 2), ('Limp Bizkit', 2), ('Playboi Carti', 2), ('Seatrain', 0), ('Lakeside', 2), ('Buffy Sainte-Marie', 2), ('Poco', 2), ('Sailcat', 2), ('Jeremy Jordan', 0), ('alt-J', 2), ('Sandy Nelson', 0), ('Ruby Andrews', 2), ('Desmond Child', 0), ('Jill Scott', 0), ('Bobby Darin', 2), ('Troy Keyes', 2), ('Nyla', 0), ('Aaron Tippin', 2), ('Parker McGee', 0), ('Jerry Butler', 4), (\"Shakin' Stevens\", 0), ('Stone Poneys', 0), ('Brenda K. Starr', 2), ('Bobby Vinton', 2), ('Cobra Starship', 2), ('Ronnie Hawkins', 0), ('Hank Jacobs', 2), ('Todd Rundgren', 2), ('Eagles', 2), ('Ms. Toi', 0), ('The Kendalls', 2), ('Steve Holy', 2), ('Rihanna', 3), ('Nickelback', 2), ('Tyrese', 2), ('Various Artists', 0), ('Olive', 2), ('Barbara Mandrell', 2), ('Syndicate Of Sound', 2), ('Blinky', 1), ('Jeff Lynne', 0), ('MC Nas-D', 0), ('The Plimsouls', 2), ('Europe', 2), ('The Mob', 2), ('Jewel Akens', 2), ('Big Boi', 0), ('Eddie Money', 2), ('Scarface', 2), ('The Yellow Balloon', 2), ('Mantronix', 0), ('Timi Yuro', 2), ('Charm Farm', 2), ('Terry McDermott', 0), ('Yvonne Fair', 2), ('Tommy Cash', 2), ('Chris Andrews', 2), ('Big Mountain', 2), ('Street People', 2), ('Elastica', 0), ('Dirty Vegas', 2), ('The Winstons', 2), ('Zhavia Ward', 0), ('Planet Soul', 2), ('Jim Reeves', 2), ('Sirah', 0), ('Carolyn Dawn Johnson', 2), ('The Outsiders', 2), ('KIDS SEE GHOSTS', 2), ('Savoy Brown', 2), ('Jim Photoglo', 2), ('Stephen Bishop', 2), ('The Toys', 2), ('Jordin Sparks', 2), ('Michelle Branch', 2), ('Saving Jane', 0), ('Don Covay', 2), ('Creed', 2), ('TJR', 0), ('Diesel', 2), ('Musique', 0), ('B.G.', 0), ('Alison Krauss', 0), ('Boston', 2), ('Alannah Myles', 2), ('Bone Thugs-N-Harmony', 2), ('Matt Nathanson', 2), ('Luke Bryan', 2), ('Big Pig', 2), ('Jules Shear', 2), ('Faith Band', 2), ('Armin van Buuren', 0), ('Rick Derringer', 2), ('Burt Bacharach', 0), ('Jidenna', 0), ('Rickie Lee Jones', 2), ('James Gang', 2), ('Arlo Guthrie', 0), ('Christie', 2), ('Kano', 0), ('Pebbles', 2), ('Kate Taylor', 0), ('Clifford Curry', 2), (\"Oaktown's 3.5.7\", 2), ('Hey Violet', 2), ('The Five Stairsteps', 2), ('Crystal Bowersox', 2), ('Dynasty', 0), ('Mario Vazquez', 2), ('Genya Ravan', 0), ('Ali', 0), ('Utah Saints', 2), ('Kris Wu', 2), ('Terri Clark', 2), ('Bobby McFerrin', 0), ('Billy Satellite', 2), ('E.G. Daily', 2), ('Della Humphrey', 0), ('Big Sean', 2), ('The Click Five', 0), ('Axe', 2), ('Harpers Bizarre', 2), ('Yaki-Da', 2), ('Serj Tankian', 2), ('Johnny Nash', 2), ('Shirley Caesar', 2), ('Yandel', 0), ('Earnest Jackson', 0), ('Russ Irwin', 2), ('Mellow Man Ace', 2), ('Willie Hutch', 0), ('Enigma', 2), ('What Is This', 2), ('Long John Baldry', 0), ('The Wreckers', 2), ('Firehouse', 2), ('The Jaggerz', 2), ('Famous Dex', 0), ('Los Lonely Boys', 2), ('Kon Kan', 0), ('Syreeta', 0), ('Black Moon', 2), ('Anne Hathaway', 0), ('Jeezy', 0), ('Foxy', 2), ('Jack White', 1), ('Yung L.A.', 0), ('Michael Holm', 0), ('The Searchers', 2), ('Narvel Felts', 2), ('Marilyn Sellars', 2), ('George Duke', 2), ('Gym Class Heroes', 2), ('Buddy Starcher', 2), ('Santino Fontana', 0), ('The Black Crowes', 2), ('Rock Flowers', 2), ('The Adventures Of Stevie V', 2), ('Gardner Cole', 2), ('Aaron Carter', 2), ('Corona', 2), ('Maxine Nightingale', 2), ('Casey Kelly', 2), ('Gavin DeGraw', 2), ('AWOLNATION', 2), ('Willie Henderson And The Soul Explosions', 0), ('Tracy Lawrence', 2), ('The Presidents Of The United States Of America', 2), ('Blue October', 2), ('Lighter Shade Of Brown', 2), ('Tiffany', 2), ('Gnarls Barkley', 2), ('The Fortunes', 2), ('Faces', 2), ('Londonbeat', 2), (\"Cut 'N' Move\", 0), ('Models', 2), ('The Zombies', 2), ('Pink Lady', 0), ('Ben Folds', 2), ('Athena Cage', 0), ('Engelbert Humperdinck', 2), ('The Band', 2), ('Kellie Pickler', 2), ('Merril Bainbridge', 2), ('Eve', 2), ('Keith Sweat', 2), ('Ms. Jade', 2), (\"Rag'n'Bone Man\", 2), ('Laura Enea', 0), ('69 Boyz', 2), ('Peter Brown', 2), ('Max Werner', 2), ('Barry Manilow', 2), ('American Authors', 2), ('Lou Rawls', 2), ('The Cheetah Girls', 0), ('Patra', 2), ('The Flaming Lips', 2), ('Lloyd', 4), ('Delegation', 2), ('Bobby Shafto', 2), ('Curtis Mayfield', 2), ('Billy Paul', 0), ('Ella Washington', 2), ('95 South', 2), ('Level 42', 2), ('Del Shannon', 2), ('John Ford Coley', 1), ('Heidi Newfield', 2), ('The Baskerville Hounds', 2), ('Sean Paul', 2), ('Robin George', 0), ('The Rock Heroes', 2), ('Diane Renay', 2), ('Buffy', 2), ('Meco', 2), ('Lynn Anderson', 2), ('Hit Masters', 0), ('Olivia Newton-John', 2), ('Big Tigger', 0), ('Miami Sound Machine', 2), ('Nat King Cole', 2), ('Mr. Vegas', 2), ('El Chicano', 2), ('T.O.K.', 2), ('Noah Cyrus', 0), ('Porter Wagoner', 2), ('The Soul Sonic Force', 0), (\"Lil' Troy\", 0), ('Neon Trees', 2), ('Rakim', 1), ('The Flame', 2), ('Reel 2 Real', 0), ('New Boyz', 0), ('Juliet Roberts', 2), ('Danny Holien', 2), ('Yung Joc', 0), ('Silver Convention', 0), ('Enya', 2), ('Steve Lawrence', 0), ('Bun B', 1), ('Little Junior Parker', 0), ('David Seville', 0), ('Wisin', 0), ('Herbie Hancock', 2), (\"Auli'i Cravalho\", 2), ('Saliva', 2), ('Jane Olivor', 2), ('The Cookies', 0), ('Tracy Byrd', 2), ('Cyndi Lauper', 2), ('Ace Frehley', 2), ('Margie Joseph', 2), ('En Vogue', 3), ('Super Cat', 0), ('Cheryl Lynn', 2), ('Gavin Christopher', 2), ('Tessanne Chin', 0), ('Wu-Tang Clan', 2), ('Sheena Easton', 2), ('Nancy Sinatra', 3), ('Chad', 1), ('Phyllis Nelson', 2), ('John Mayall', 2), ('Angie Martinez', 0), ('Syleena Johnson', 1), ('Painter', 2), ('Cyndi Grecco', 0), ('Black Box', 2), ('The Arbors', 2), ('Nico', 0), ('Florence + The Machine', 2), ('Terror Squad', 0), ('Ruby Winters', 2), ('Guy', 2), ('Fefe Dobson', 2), ('Aerosmith', 2), ('Empire Cast', 0), ('Ian Hunter', 2), ('Company B', 2), ('Jay Ferguson', 2), ('Climax Blues Band', 2), ('B2K', 2), ('Tyler Farr', 2), ('Paul Shaffer', 2), ('The Bucketheads', 0), ('Steve Arrington', 0), ('Club Nouveau', 2), ('Glee Cast', 0), ('Leschea', 2), ('Dylan Scott', 2), ('John Travolta', 2), ('Bread', 2), ('Dokken', 2), ('Funky Kings', 2), ('Quincy Jones', 2), ('Shoes', 0), ('Frankie Miller', 0), ('Clint Black', 2), ('Jane Wiedlin', 3), ('Shalamar', 2), (\"Rappin' 4-Tay\", 2), ('Link', 2), ('The Spinners', 2), ('Lisa Fischer', 2), ('PnB Rock', 2), ('Frost', 2), ('Blue Swede', 2), ('The Rude Boys', 0), ('N-Trance', 0), ('David Bowie', 2), ('Blake Shelton', 2), ('Tom Petty', 2), ('The Brothers Four', 0), ('Cam', 2), ('The Outhere Brothers', 2), ('Casey Weston', 0), ('James Taylor', 2), ('Jorja Smith', 0), ('Tarrus Riley', 0), ('The Rembrandts', 2), ('Nina Simone', 2), ('BBMak', 2), ('Weird Al Yankovic', 0), ('OutKast', 2), ('PSY', 0), ('The Silkie', 2), ('Mr. Probz', 2), ('Sam Cooke', 2), ('Gregg Allman', 2), ('Craig David', 2), ('R. Kelly', 3), ('Lee Oskar', 0), ('Jimmy Cliff', 2), ('The Pyramids', 2), ('Mighty Clouds Of Joy', 2), ('The Sweet Inspirations', 2), ('UB40', 2), ('Pia Mia', 0), (\"Lil' Flip\", 1), ('O.T. Genasis', 2), ('Apache', 2), ('The Romeos', 2), ('The Movement', 2), ('Jonas Blue', 0), ('Barry Young', 2), ('Johnny Bond', 0), ('Canaan Smith', 2), ('Aventura', 0), ('Climax', 0), ('Hole', 2), ('MadeinTYO', 2), ('Hi-C', 2), ('The Truth', 2), ('Louis Armstrong', 2), ('Avant', 3), ('Azul Azul', 2), ('The Doobie Brothers', 2), ('Rupert Holmes', 2), ('The Vejtables', 2), ('Godsmack', 2), ('The Baja Marimba Band', 0), ('Kyper', 0), ('John Ryan', 0), ('Nile Rodgers', 0), ('Rahzel', 0), ('Sampha', 0), ('Richie Furay', 2), ('The Nightcrawlers', 2), ('Dilated Peoples', 0), ('Chad Brock', 2), ('Johnnie Taylor', 2), ('Little Caesar', 2), ('Tony Carey', 2), ('Saigon Kick', 0), ('Vanilla Ice', 2), ('Sevyn Streeter', 0), ('Will To Power', 2), ('Michael Murphey', 0), ('Danyel Gerard', 2), ('Led Zeppelin', 0), ('Bonnie Raitt', 2), ('Nirvana', 2), ('Shinedown', 2), ('Lulu', 2), ('Mario Winans', 0), ('Georgio', 0), ('Monica', 2), ('The Buoys', 2), (\"Lil' Mo\", 2), ('The Swans', 0), ('Diana King', 2), ('The Capitols', 2), ('Robbie Williams', 2), ('Trey Songz', 2), ('Blu Cantrell', 0), ('Childish Gambino', 2), ('Intro', 2), ('Will Young', 2), ('Yes', 2), ('Barbara Acklin', 3), ('Smokey Robinson', 3), ('The Clash', 0), ('The Box Tops', 2), ('KONGOS', 0), ('Kehlani', 2), ('Robert Palmer', 2), ('Barbara Fairchild', 2), ('Spooks', 0), ('Chuckii Booker', 2), ('Zendaya', 2), ('The Seeds', 2), ('Nicole', 0), ('Natalie', 2), ('F.L.Y. (Fast Life Yungstaz)', 2), ('Chase', 2), ('Lari White', 0), ('Flex', 0), ('The Chimes', 0), ('The Shirelles', 2), ('Lindsey Pavao', 0), ('Rex Smith', 2), ('The Whatnauts', 0), ('The Romantics', 2), ('Edward Bear', 2), ('Buchanan Brothers', 0), ('The Family', 0), ('Wendy Moten', 2), ('Linda Clifford', 2), ('Phoebe Ryan', 0), ('Barry Ryan', 2), ('The Fleetwoods', 0), ('Fever Tree', 2), ('Mindless Behavior', 0), ('Jeff Foxworthy', 2), ('Little River Band', 2), ('Lil Mama', 2), ('Jabba', 0), ('The Escape Club', 2), ('Shwayze', 0), ('The Rolling Stones', 2), ('The Surfaris', 2), ('Bobby McClure', 2), ('Bryce Vine', 2), ('Frannie Golde', 2), ('The Clique', 2), ('A Few Good Men', 2), ('Tony Terry', 2), ('Genesis', 2), (\"Jane's Addiction\", 2), ('Noel Harrison', 2), ('The First Edition', 2), ('No Doubt', 2), ('Slum Village', 0), ('Skip Marley', 0), ('Tane Cain', 2), ('The Chakachas', 2), ('Jean Beauvoir', 0), ('Maroon 5', 2), ('The Sapphires', 2), ('Driicky Graham', 2), ('Les Crane', 2), ('David Gilmour', 2), ('Lenny Welch', 2), ('Jadakiss', 0), ('John Baldry', 0), ('Cheap Trick', 2), ('Band Aid 30', 0), ('Eddie Kendricks', 2), ('Eddie Floyd', 2), ('Brian McKnight', 2), ('Jimmy Roselli', 0), ('Faith Evans', 4), ('Onyx', 2), ('Eye To Eye', 2), ('Aurra', 2), ('Seether', 3), ('McGuffey Lane', 0), ('The Animals', 2), ('Spiral Starecase', 2), ('Lea Roberts', 2), ('Terror Fabulous', 0), ('Jackie Lee', 2), ('Brad Paisley', 2), ('Zayion McCall', 0), ('The Electric Prunes', 0), (\"People's Choice\", 0), ('The Cowsills', 2), ('Hillsong UNITED', 2), ('Kid Rock', 2), ('Frankie Valli', 2), ('Matthew Wilder', 2), ('Dawn', 0), ('Gallery', 2), ('Clubland', 0), ('Majid Jordan', 0), ('James Phelps', 0), ('Yoko Ono', 0), ('Patrice Rushen', 2), ('David Blue', 2), ('Smokie Norful', 2), ('Lana Cantrell', 2), ('Lawrence Welk', 0), ('Lee Garrett', 2), ('lovelytheband', 0), ('Gang Starr', 2), ('Mary Mary', 2), ('Crabby Appleton', 2), ('High Inergy', 0), ('Adina Howard', 2), ('Cake', 2), ('Johnny Mathis', 3), ('The Supremes', 3), ('All Saints', 2), ('Fort Minor', 0), ('Davy Jones', 2), ('Lost Boyz', 2), ('Maxi Priest', 3), ('Eddie Harris', 2), ('Cage The Elephant', 2), ('YFN Lucci', 0), ('Stampeders', 2), ('Michael Stanley Band', 2), ('Toni Childs', 2), ('Keith Anderson', 2), ('Sublime', 2), ('Billy Currington', 2), ('Zapp', 0), ('Michel Polnareff', 2), ('Amerie', 2), ('Loretta Lynn', 2), ('Bad Boys Blue', 2), ('Wilbert Harrison', 2), ('Rob Jungklas', 2), ('Pat Travers', 0), ('The Korgis', 2), ('Jim Ed Brown', 2), ('Billie Myers', 2), ('Peedi Crakk', 0), (\"Lil' Kim\", 2), ('Michael Franks', 2), ('Starley', 0), ('Rocko', 2), ('Eva Simons', 0), ('Chuck Mangione', 2), ('Eric Church', 2), ('Hollis', 0), ('Kent Jones', 2), ('Aaliyah', 2), ('Cher Lloyd', 2), ('Gary Barlow', 2), ('Squeak E. Clean', 0), ('William DeVaughn', 2), ('Babyface', 2), ('Ray LaMontagne', 0), ('Orpheus', 2), ('Ex-Girlfriend', 2), ('Young Money', 3), ('YoungBoy Never Broke Again', 2), ('Papa Roach', 2), ('Luther Vandross', 3), ('Entouch', 0), ('Big Noise', 2), ('Bee Gees', 2), ('Loose Ends', 2), ('Tha Dogg Pound', 0), ('Queen Pen', 0), ('Rich Homie Quan', 0), ('Burl Ives', 2), ('Boyz N Da Hood', 2), ('Mazzy Star', 2), ('Chris Medina', 2), ('Bloodhound Gang', 2), ('Mungo Jerry', 0), ('Austin Mahone', 2), ('Magazine 60', 0), ('Brooke Hogan', 0), ('Heather Headley', 2), ('D.C. LaRue', 2), ('Night Ranger', 2), ('DJ Felli Fel', 0), (\"Ol' Dirty Bastard\", 2), ('Billy Falcon', 2), ('The Fratellis', 2), ('Eddie Lovette', 2), ('Butch Cassidy', 0), ('Sagittarius', 2), ('Lonnie Gordon', 0), ('The Soup Dragons', 2), ('Seal', 2), ('Buck Owens', 2), ('Lou Donaldson', 2), ('Jeff Bates', 2), ('Macklemore', 0), ('R.E.M.', 2), ('Danny Gokey', 2), ('Faithless', 0), ('Salt-N-Pepa', 3), ('OneRepublic', 2), ('Gloria Gaynor', 2), ('Fat Joe', 2), ('Loreena McKennitt', 2), ('Lee Michaels', 2), ('Brenda Lee', 2), ('Big Mato', 0), ('Kylie Minogue', 2), ('Dionne Warwick', 5), ('Magic Lanterns', 0), ('Trent Tomlinson', 2), ('Baby Washington', 2), ('Five Star', 2), ('The Shindogs', 2), ('Marty Robbins', 2), ('Orianthi', 2), ('Samantha Sang', 2), ('Marc Nelson', 2), ('France Joli', 0), ('Mary Hopkin', 0), ('Wilson Pickett', 2), ('Darren Hayes', 2), ('The Deele', 2), ('Underworld', 2), ('Freddie North', 2), ('Doc Box', 0), ('Dionne Farris', 2), ('Queen Latifah', 2), ('Kool Mo Dee', 0), ('Grouplove', 2), ('deadmau5', 0), ('Lindsey Stirling', 2), ('Fairground Attraction', 2), ('David Gates', 2), ('Paper Lace', 2), ('Richie Rich', 0), ('Terry Black', 2), ('The Outlaws', 2), ('Cory Gunz', 0), ('Dusty Springfield', 2), ('Shirley Brown', 2), ('Aimee Mann', 2), ('Glenn Yarbrough', 2), ('Laura Branigan', 2), ('Hamilton Camp', 0), ('Scandal', 0), ('Leo Sayer', 2), ('Shifty Shellshock', 0), ('Niia', 0), ('Wade Hayes', 2), ('Loon', 0), ('Arthur Alexander', 0), ('The Braxtons', 0), ('Redman', 1), ('The Beatles', 2), ('Donny Hathaway', 2), ('Lalo Schifrin', 0), ('Nancy Martinez', 2), ('Alejandro Sanz', 0), ('Lil Pump', 2), ('Mickey Gilley', 2), ('Information Society', 2), ('Cheryl Ladd', 2), ('Dead Or Alive', 2), ('Niall Horan', 2), ('Tamiko Jones', 0), ('Glenn Medeiros', 3), ('Xenia', 0), ('Tyrone Davis', 2), ('White Plains', 2), ('Heartland', 2), ('Rae Sremmurd', 2), ('Fiona', 0), ('Tony Williams', 0), ('Michael Sembello', 2), ('Kevin McCall', 0), ('Moon Martin', 2), (\"Kid 'N Play\", 0), ('Fats Domino', 2), ('Passenger', 2), ('Sam Dew', 0), ('Reynolds', 0), ('Bad Bunny', 0), ('Grand Funk Railroad', 2), ('Field Mob', 2), ('Young-Holt Unlimited', 2), ('The Cherry People', 2), ('Peter Yarrow', 2), ('The Jelly Beans', 2), ('The Scaffold', 2), ('Duran Duran', 2), ('Parmalee', 2), ('Shaggy', 3), ('Starbuck', 2), ('Chedda Da Connect', 2), ('Holly Knight', 2), ('Shaun Cassidy', 2), ('Supertramp', 2), ('Al DeLory', 2), ('Midland', 2), ('Prism', 2), ('Sagat', 0), ('Ozo', 0), ('Chris Walker', 2), ('Duke Jupiter', 2), ('Laid Back', 2), ('Rusted Root', 0), ('Swirl 360', 2), ('The Easybeats', 2), ('Jade', 2), ('Thomas Dolby', 2), ('Jimmy Durante', 0), ('Spyro Gyra', 2), ('Dan + Shay', 2), ('Glenn Jones', 2), ('Dan Hartman', 2), ('Crawler', 2), ('Sting', 3), ('Richard Burton', 0), ('Musical Youth', 2), ('The Verve', 2), ('J. Cole', 2), ('The Four Preps', 0), ('Go West', 2), ('Leon Russell', 2), ('Indecent Obsession', 0), ('Keith Carradine', 2), ('The Roc Project', 0), ('Darrell Banks', 0), ('Alias', 2), ('Montgomery Gentry', 2), ('Def Leppard', 2), ('Halsey', 2), ('Sarah Connor', 0), ('The White Tie Affair', 2), ('The Jeff Healey Band', 2), ('Head East', 2), ('Steam', 2), ('Sly Stone', 2), ('Beanie Sigel', 0), ('Hot Stylz', 0), ('Lloyd Banks', 3), ('Pharoahe Monch', 2), ('Billy Preston', 2), ('Eamon', 0), ('Silk', 2), ('War', 2), ('T.I.', 2), ('Senator Bobby', 0), ('Meja', 0), ('Stacy Lattisaw', 2), (\"Livin' Joy\", 2), ('Terry Dexter', 0), ('Fifth Harmony', 2), ('Meat Puppets', 2), ('Pilot', 2), ('Romeo Void', 0), ('Stage Dolls', 2), ('Sixpence None The Richer', 2), ('Paramore', 2), ('Mary Wells', 2), ('Angelina', 1), ('DJ Quik', 2), ('Menudo', 2), ('Lionel Richie', 3), ('Lorraine Ellison', 2), ('Pistol Annies', 0), ('The Power Station', 2), ('Katy Tiz', 2), ('Indigo Girls', 2), ('Steve Forbert', 2), ('Crash Test Dummies', 2), ('Johnny Crawford', 2), ('After 7', 2), ('Shy Glizzy', 0), ('Sadiyyah', 1), ('D4L', 2), ('Albert Hammond', 2), ('Dakota Moon', 2), ('David Lee Murphy', 0), ('PIKOTARO', 0), ('The Mindbenders', 2), ('Joe Budden', 2), ('Legacy Of Sound', 0), ('The Righteous Brothers', 2), ('Shelby Flint', 0), ('Toni Basil', 2), ('Gamma', 2), ('Juice WRLD', 2), ('Young Greatness', 2), (\"Philly's Most Wanted\", 0), ('Louise Goffin', 0), ('True Image', 0), ('Kenny Nolan', 2), ('City Boy', 0), ('Marc Cohn', 2), ('The Marshall Tucker Band', 2), ('Rob $tone', 0), ('Gene Loves Jezebel', 2), ('Chris Janson', 0), ('Ashley Tisdale', 2), ('Akon', 7), (\"Meli'sa Morgan\", 2), ('Florida Georgia Line', 2), ('The Silencers', 2), ('Alphaville', 2), ('Travis Porter', 2), ('Gerald Levert', 3), ('Major Harris', 2), ('Moms Mabley', 0), ('Corina', 2), ('Oasis', 2), ('The Woolies', 2), ('Crowded House', 2), ('The Communards', 2), ('Joe \"Bean\" Esposito', 2), ('QB Finest', 0), ('The Elgins', 2), ('Meredith Brooks', 2), ('Qkumba Zoo', 2), ('Meryl Streep', 0), ('Yael Naim', 2), ('Felony', 2), ('Buddy Miles', 2), ('Van Halen', 2), ('Jigsaw', 2), ('Floetry', 2), ('Bow Wow', 2), ('Kid Frost', 2), ('Faith No More', 2), ('Michele Lee', 2), ('Stacie Orrico', 2), ('George McCrae', 2), ('Goose Creek Symphony', 2), ('X Ambassadors', 2), ('Brook Benton', 2), ('Sass Jordan', 2), ('Deana Carter', 2), ('The Gap Band', 2), ('Beats International', 2), ('The Lemon Pipers', 2), ('Bridgit Mendler', 2), ('Charice', 0), ('The Lox', 2), ('Lauren Alaina', 2), ('Stoney', 0), ('David Nail', 2), ('Booboo Stewart', 0), ('Jim Steinman', 0), ('Jimmy Cozier', 0), ('Jesse McCartney', 2), ('Terry Jacks', 0), ('Frank Lucas', 2), ('Normani', 0), ('Nelson', 2), ('Ringo Starr', 2), ('Paul Vance', 0), (\"The La's\", 2), ('Garnet Mimms', 2), ('Orion The Hunter', 2), ('Surface', 2), ('Sasha', 0), ('The Lady Of Rage', 2), ('Khia', 0), ('Dia Frampton', 0), ('Lone Justice', 2), ('LANCO', 2), ('The Drew-Vels', 2), (\"Plain White T's\", 2), ('Bob James', 2), ('Susanna Hoffs', 0), ('Jerry Wallace', 2), ('Blue Mink', 2), ('National Lampoon', 2), ('Insane Clown Posse', 0), ('J.J. Jackson', 2), ('Citizen King', 0), ('Bob Weir', 0), ('Carly Pearce', 2), ('Pearl Jam', 2), ('Blue Magic', 2), ('The Neighbourhood', 2), ('Christina Grimmie', 0), ('Zac Brown Band', 2), ('The Gentrys', 2), ('Incubus', 2), ('Mis-Teeq', 0), ('Billy Gilman', 2), ('Remo', 0), ('Gemini', 1), ('GS Boyz', 2), ('The Other Ones', 2), ('Lit', 2), ('Bruce Cockburn', 2), ('Young Gunz', 1), ('Mike Oldfield', 0), ('Fundisha', 0), ('Beenie Man', 4), ('Kristinia DeBarge', 2), ('Technotronic', 1), ('Jon B.', 0), ('Jimmy Ruffin', 2), ('Feargal Sharkey', 2), ('Holly Brook', 0), ('White Town', 2), ('The Tokens', 2), ('Jackson Browne', 2), ('Cast Of Rent', 0), ('Wall Of Voodoo', 2), ('Mase', 2), ('Hitman Sammy Sam', 2), ('Tony DeFranco', 0), ('Radiohead', 2), ('Bad English', 2), ('Dwayne Johnson', 2), ('Sha Na Na', 2), ('Michael Jackson', 3), ('Yaz', 2), ('Rampage', 0), ('Melissa Lawson', 2), ('DJ Sammy', 0), ('Richard \"Groove\" Holmes', 2), ('Chiddy Bang', 2), ('iLoveMemphis', 0), ('Barbara Lewis', 2), (\"Swingin' Medallions\", 0), ('Terry Ellis', 2), ('Travis Tritt', 2), ('Klymaxx', 2), ('The Moody Blues', 2), ('City Spud', 0), ('Baby Boy Da Prince', 0), ('Murda Beatz', 0), ('Nicki Minaj', 8), ('Bill Doggett', 0), ('The Black Keys', 2), ('Kevin Gates', 2), ('Rotary Connection', 2), (\"Herman's Hermits\", 2), ('Sam Salter', 2), ('The Dream Academy', 2), ('Mercy', 0), ('Tommy Tucker', 2), ('Nyasia', 2), ('Ellen Page', 0), ('Bill Conti', 2), ('Chuck Brown', 0), ('Nicki French', 0), ('The J. Geils Band', 2), ('The Spats', 0), ('Skillet', 0), ('KT Tunstall', 2), ('The Stylistics', 2), ('Jeremih', 2), ('Mandrill', 2), ('Muse', 2), ('Rico Love', 2), ('Mitchel Musso', 2), ('Julianne Hough', 2), ('The Charlie Daniels Band', 2), ('Domino', 2), ('Cal Smith', 2), ('Color Me Badd', 2), ('Curtis Stigers', 2), ('The Records', 2), ('Swae Lee', 0), ('The Vogues', 2), ('7 Aurelius', 0), ('Dave \"Baby\" Cortez', 0), ('King', 0), ('Nicole Scherzinger', 2), ('The Contours', 2), ('Kid Ink', 0), ('Jean Shepard', 2), ('Audioslave', 2), ('Tom Cochrane', 2), ('DMX', 3), ('Goodie Mob', 2), ('Damita Jo', 2), ('Lou Johnson', 0), ('Nik Kershaw', 2), ('Panic! At The Disco', 2), ('Rod Stewart', 2), ('The Pipkins', 2), ('Funkdoobiest', 0), ('Roscoe Dash', 0), ('Al Martino', 2), ('Andy Kim', 2), ('a-ha', 2), ('Tal Bachman', 0), ('The Doors', 2), ('Timothy B. Schmit', 2), ('Paul Williams', 2), ('Modern English', 2), ('Elvin Bishop', 2), ('Donell Jones', 2), ('The Kingbees', 2), ('Steve Alaimo', 2), ('Cymande', 2), ('Faster Pussycat', 0), ('Neneh Cherry', 2), ('Lidell Townsell', 0), ('The Lonely Island', 0), ('St. Lunatics', 2), ('Blondie', 2), ('Claudette Ortiz', 1), ('Les McCann', 0), ('Opus', 2), ('Portishead', 0), ('Tinashe', 0), ('Arrow Benjamin', 0), ('Horst Jankowski', 2), ('Marsha Ambrosius', 2), ('Lee Morgan', 0), ('Marva Whitney', 2), ('Sawyer Fredericks', 0), ('Mint Condition', 2), ('Shawnna', 2), ('Tony Lucca', 0), ('The Ready Set', 2), ('Better Than Ezra', 2), ('Thee Prophets', 2), ('10,000 Maniacs', 2), ('Mariah Carey', 4), ('Jane Morgan', 0), ('Tom Clay', 0), ('Remedy', 2), ('The Marketts', 2), ('Jane Child', 0), (\"Gary's Gang\", 0), ('Brian Wilson', 0), ('Linda Scott', 0), ('Randy Jackson', 0), ('Connie Stevens', 0), ('Chamillionaire', 4), ('Cleopatra', 0), ('Kris Allen', 2), ('Martha Davis', 0), ('Foster Sylvers', 2), ('Sophie B. Hawkins', 2), ('Iconz', 0), ('Max B', 0), ('The Rubinoos', 2), ('Heartsfield', 2), ('April Wine', 2), ('Billy Squier', 2), ('Jenny Burton', 2), ('The Barron Knights', 0), ('Dashboard Confessional', 2), ('Pilar Montenegro', 0), ('The Kingston Trio', 2), ('Eurythmics', 2), ('Lucenzo', 0), ('Johnny Rodriguez', 0), ('Whitney Houston', 2), ('James Last', 2), ('Charlie Dore', 2), ('Michael Henderson', 0), ('Jeremy', 1), ('Tony Sunshine', 1), ('Polly Brown', 2), ('Donna Lewis', 2), ('Cliff Nobles', 0), ('Jason Mraz', 2), ('Az Yet', 0), ('Mac Mall', 0), ('Tina Turner', 2), ('Kimberley Locke', 2), ('Johnta Austin', 1), ('Daft Punk', 2), ('Jimmy Ryser', 2), ('Edwyn Collins', 0), ('Eric Carmen', 2), ('Daryle Singletary', 2), ('Jody Watley', 2), ('Paul Young', 2), ('Brenton Wood', 2), ('James Walsh Gypsy Band', 2), ('Roula', 0), ('Bob Dylan', 2), ('Guy Sebastian', 0), ('Joe Dolce', 2), ('Bill Quateman', 0), ('Brooke Valentine', 0), ('Outasight', 0), ('The Cascades', 2), ('The Cyrkle', 2), ('Bill LaBounty', 2), ('Cassidy', 0), ('Crystal Waters', 2), ('Krokus', 2), ('GoldLink', 0), ('dvsn', 0), ('Norma Tanega', 2), ('Robert Gordon', 2), ('New Radicals', 2), ('JoJo', 0), ('Free', 2), ('Ne-Yo', 3), ('Breathe Carolina', 2), ('The Presidents', 0), ('Wings', 2), ('Tim Hardin', 0), ('Toussaint McCall', 0), ('Lena Horne', 0), ('The Johnny Average Band', 0), ('Doris Day', 0), ('Georgie Fame', 0), ('Disturbed', 2), ('Switchfoot', 2), ('Philip Bailey', 0), ('Backstreet Boys', 2), ('Skyy', 2), ('David Archuleta', 2), ('Irene Cara', 2), ('The Dolphins', 2), ('The Trashmen', 2), ('Wrabel', 0), ('So', 2), ('Descemer Bueno', 0), ('Steel Breeze', 2), ('Ross Lynch', 0), ('Nona Gaye', 2), ('Giggles', 2), ('Holly Johnson', 2), ('Shakira', 2), ('Mike Shorey', 0), ('Damian Dame', 2), ('Lorde', 2), ('Depeche Mode', 2), ('Rossington Collins Band', 2), ('The Band Perry', 2), ('Avenged Sevenfold', 2), ('Miguel Rios', 0), ('Creative Source', 2), ('The Dells', 2), ('Charlie Byrd', 0), ('Living Colour', 2), ('Anita Bryant', 0), ('Cameo', 2), ('Styles P', 1), ('Ray J', 2), (\"K'Jon\", 2), ('Chaka Khan', 2), ('New Edition', 2), ('Ironhorse', 2), ('Bob Lind', 2), ('Yo Gotti', 2), ('Jefferson Airplane', 2), ('GQ', 2), ('Harry Styles', 2), ('Big Tymers', 3), ('Brother Beyond', 0), ('Randy VanWarmer', 2), ('Tracey Dey', 0), ('Crystal Lewis', 0), ('August Alsina', 0), ('The Overlanders', 2), ('David Banner', 2), ('Bravehearts', 0), ('Jana Kramer', 2), ('Don Fardon', 2), ('Chris de Burgh', 2), ('Chico DeBarge', 2), ('Paul Hardcastle', 2), ('Trinidad James', 2), ('Mott The Hoople', 0), ('The Mars Volta', 2), ('Wynter', 0), ('Slim Harpo', 2), ('Ruby And The Romantics', 2), ('Bang', 2), ('Dillon Francis', 0), ('Amy Winehouse', 2), ('Offset', 0), ('Five Finger Death Punch', 0), ('The Ad Libs', 2), ('Donald Byrd', 2), ('Roman GianArthur', 0), ('Leon Redbone', 2), ('Jennifer Rush', 0), ('Steven Tyler', 2), ('Orleans', 2), ('Joe Diffie', 2), ('Mable John', 0), ('RKM', 0), ('Tara Kemp', 2), ('Rise Against', 2), ('Edison Lighthouse', 2), ('Sounds Orchestral', 0), ('Rebbie Jackson', 2), ('Jhene Aiko', 2), ('Bonnie Guitar', 2), ('T.W.D.Y.', 0), ('Javier Colon', 0), ('Small Faces', 2), ('The Jones Girls', 2), ('Josh Gracin', 0), ('Miki Howard', 2), ('Larry Gatlin', 0), ('The Amboy Dukes', 0), ('Buck 22', 0), ('The Rubettes', 2), ('The Gibson Brothers', 2), ('Baauer', 2), ('Patrick Simmons', 2), ('Perry Como', 2), ('Sleepy Brown', 1), ('Daryl Braithwaite', 2), ('Afrika Bambaataa', 0), ('Candice Glover', 2), ('Bros', 2), ('Puddle Of Mudd', 2), ('Joe South', 2), ('Maria Muldaur', 0), ('Mia X', 0), ('Eight Seconds', 2), ('David Pack', 2), ('The KLF', 0), ('The T-Bones', 2), ('Travis Scott', 2), ('Rick Ross', 7), ('Chris Brown', 4), ('Tori Amos', 2), ('Jellybean', 0), (\"Olivia O'Brien\", 0), ('Gregory Abbott', 2), ('Grace Slick', 2), ('Humble Pie', 2), ('Switch', 2), ('Ghostface Killah', 0), ('Bob Welch', 2), ('Benzino', 0), ('Cherish', 2), ('Hoodie Allen', 0), ('Foo Fighters', 2), ('Jason Aldean', 2), ('6ix9ine', 0), ('DJ Suede The Remix God', 0), ('Anita Baker', 2), ('Gorilla Zoe', 2), ('Blake Lewis', 0), ('Sandy Posey', 2), ('SWV', 2), ('The Nite-Liters', 2), ('Rachel Sweet', 2), ('Jimmy Velvet', 2), ('House Of Lords', 0), ('Ivan Neville', 2), ('Dawin', 2), ('Sugar Ray', 2), ('Cameron Boyce', 0), ('Inner Circle', 2), ('Teyana Taylor', 0), (\"The Swingin' Medallions\", 0), ('Sam Harris', 2), ('Benny Mardones', 2), ('Patti Page', 2), ('The Jive Five', 0), ('The DeFranco Family', 0), ('10cc', 2), ('Luis Fonsi', 2), ('Rednex', 2), ('Vanity', 0), ('Rod McKuen', 0), ('Ricky Martin', 2), ('The Lost Trailers', 2), ('Paula Abdul', 2), ('KeKe Wyatt', 1), ('A Great Big World', 1), ('The Village Stompers', 0), ('311', 2), ('The Oak Ridge Boys', 2), ('Tamar Braxton', 0), ('Jeff Lorber', 0), ('Eighth Wonder', 2), ('Keith Barbour', 2), ('The Hollywood Stars', 0), ('Train', 2), ('Kodak Black', 2), ('Utopia', 2), ('Jordan Knight', 2), ('Kelis', 2), ('Irma Thomas', 2), ('Gene McDaniels', 0), ('Witch Queen', 0), ('Alissa Violet', 0), ('Athenaeum', 2), ('Bonham', 0), ('Three Dog Night', 2), ('Chrisette Michele', 4), ('Kurtis Blow', 2), ('Zebra', 0), ('Carrie Underwood', 2), ('3OH!3', 2), ('Pickettywitch', 2), ('Jimmy Barnes', 2), ('Maria Nayler', 0), ('Jerry Garcia', 2), ('Alice In Chains', 2), ('Xzibit', 2), ('V V Brown', 2), ('Wanz', 0), ('N.O.R.E.', 2), ('Joan Armatrading', 2), ('The Strokes', 2), ('Karyn White', 2), ('Capleton', 2), ('T-Connection', 2), ('Nancy Ames', 0), ('Red Sovine', 2), ('Arthur Conley', 2), ('Culture Club', 2), ('Ray Stevens', 2), ('Funkadelic', 2), ('Alison Moyet', 2), ('Captain Hollywood Project', 0), ('Dwight Yoakam', 2), ('David Geddes', 2), ('Nine Days', 2), ('Baha Men', 2), ('Leona Lewis', 2), ('Frank Gallop', 0), ('Mass Production', 2), ('Miranda Lambert', 2), ('Dru Down', 2), ('Giuffria', 2), ('Jimmy Cross', 2), ('Sarah Buxton', 0), ('Vanessa Carlton', 2), ('Donna Allen', 2), ('J Balvin', 2), ('John Taylor', 0), ('Peter Shelley', 2), ('Potliquor', 2), ('Damn Yankees', 2), ('Jason Michael Carroll', 2), ('Rozetta Johnson', 0), ('Mondo Rock', 0), ('Eria Fachin', 2), ('Pleasure', 0), ('First Class', 2), ('Imani Coppola', 0), ('John Denver', 3), ('Becky G', 2), ('Young Rome', 0), ('Landon Pigg', 0), ('Kebo Gotti', 0), ('Strawberry Alarm Clock', 2), ('Tasha Thomas', 2), ('Landon Cube', 0), ('Amanda Brown', 0), ('Peaches', 0), ('Yeah Yeah Yeahs', 2), ('The Corrs', 2), ('Dion', 2), ('Soulja Slim', 0), ('Sally Field', 2), ('Hot Boys', 0), ('Tami Davis', 0), ('Merry Clayton', 2), ('Paul Lekakis', 0), ('Mickey Murray', 2), ('Garland Green', 2), ('The Original Caste', 2), ('Jordan Hill', 0), ('Jackie Ross', 2), ('Artists Stand Up To Cancer', 0), ('Garbage', 2), ('Choppa', 0), ('Eurogliders', 2), ('Alesso', 0), ('Daze', 2), ('Crispian St. Peters', 2), ('Bobby Caldwell', 0), ('Jennifer Hanson', 2), ('Marmalade', 0), ('The Brat Pack', 2), ('Maureen McGovern', 2), ('Duane Eddy', 0), ('The Mad Stuntman', 0), ('Chicago', 2), (\"Michel'le\", 2), ('Danny Wilson', 2), ('Merrilee Rush', 2), ('Caron Wheeler', 0), ('Hugh Masekela', 2), ('Belle Epoque', 2), ('Amil', 0), ('Karmin', 2), ('Corbin Bleu', 0), ('Jet', 2), ('John Michael Montgomery', 2), ('M/A/R/R/S', 0), ('Nas', 4), ('Sammie', 0), ('James Darren', 2), ('Joey Galaxy', 0), ('Maggie Bell', 0), ('Barry Mann', 2), ('Patti Drew', 2), ('Jim Croce', 2), ('Johnny Gill', 2), ('Wyclef Jean', 4), ('Kathy Troccoli', 2), ('Foreigner', 2), ('The Wildweeds', 0), ('White Lion', 2), ('Jermaine \"JD\" Dupri', 0), ('Static Major', 1), ('Justin Timberlake', 2), ('New Kids On The Block', 2), ('Brooklyn Dreams', 2), ('Kristen Bell', 0), ('The Byrds', 2), ('Jay Rock', 0), ('Carl Carlton', 2), ('Troye Sivan', 2), ('Blur', 0), ('Marillion', 2), ('Phoenix', 2), ('Josh Kelley', 2), ('Howie Day', 2), ('ScHoolboy Q', 2), ('Hellogoodbye', 2), ('R. City', 0), ('Tangier', 0), ('Elvis Presley', 2), ('The Forest Rangers', 0), ('Parliament Funkadelic', 0), ('Duffy', 2), ('Pressha', 2), ('Ronnie Dove', 2), ('Quicksilver Messenger Service', 2), ('Eric Heatherly', 2), ('2nd II None', 2), ('Andy Gibb', 2), ('Sea Level', 2), ('Karen Fairchild', 0), ('Lil Jon', 2), ('Hugh Jackman', 0), ('Black Sheep', 2), ('The DEY', 0), ('One Way', 2), ('Leighton Meester', 0), ('Elton John', 2), ('Charley Pride', 2), ('Julio Iglesias', 0), ('Steve Kazee', 0), ('Rejoice!', 2), ('Tracey Ullman', 2), ('Lee Brice', 2), ('Bo Bice', 2), ('Billie Eilish', 0), ('The Outfield', 2), ('South Shore Commission', 2), ('Tha Alkaholiks', 0), ('Luniz', 0), ('The Caboose', 2), ('Anne Murray', 2), ('The Wailers', 2), ('GTR', 2), ('Average White Band', 0), ('The Equals', 0), ('Gesaffelstein', 0), ('Real Life', 2), ('Labrinth', 0), ('Patty Loveless', 2), ('Romeo Santos', 2), ('Jeru The Damaja', 0), ('Jimmy James', 0), ('Rosemary Clooney', 0), ('Chris Willis', 0), ('Modjo', 0), ('Michael W. Smith', 2), ('LaVern Baker', 0), ('Tony Orlando', 0), ('Sophia Grace', 2), ('Sam Smith', 2), ('Verdine White', 0), ('The Whispers', 2), ('Sweet Rush', 1), ('Inez Foxx', 2), ('Terry Stafford', 2), ('Public Announcement', 2), ('Device', 2), ('Nadine Sutherland', 0), ('RBD', 0), ('The Buggles', 2), ('Ylvis', 0), ('Mantovani', 0), ('Bone Crusher', 0), ('Huncho Jack', 0), ('Matt Monro', 2), ('Firefall', 2), ('Third Eye Blind', 2), ('Al Green', 3), ('Wanda Jackson', 0), ('Chuck Jackson', 3), ('Mocedades', 0), ('Basia', 2), ('Ned Miller', 0), ('T-Boz', 0), ('Arctic Monkeys', 2), ('David Cook', 2), ('Blaine Larsen', 2), ('Project Pat', 0), ('Johnny Kemp', 2), ('The Soul Sisters', 2), ('Shyheim', 2), ('Dream', 2), ('Ms. Thing', 1), ('Del Amitri', 2), ('Silver Condor', 2), ('Alex Clare', 2), ('Zara Larsson', 2), ('The Hombres', 2), ('Naughty Boy', 0), ('Chingy', 3), ('Sundance Head', 2), ('The Raconteurs', 2), ('Jake Owen', 2), ('The Love Generation', 2), ('Tweet', 2), ('Bernadette Carroll', 2), ('Wet Wet Wet', 2), ('Stray Cats', 2), ('Fountains Of Wayne', 2), ('James Ingram', 2), ('Madison Avenue', 0), ('Martha Wainwright', 1), ('Birdman', 0), ('Paulina Rubio', 2), ('Fancy', 2), ('Stephen Stills', 2), ('Slick Rick', 2), ('Allure', 0), ('Nigel Olsson', 2), ('Mtume', 2), ('20 Fingers', 0), ('Jonas Brothers', 2), ('B.J. Thomas', 2), ('Thunder', 2), ('Action Bronson', 0), ('Krewella', 2), ('Tommy Shaw', 0), ('Kathy Kirby', 0), ('Nina Sky', 0), ('Young M.C.', 2), (\"Lil' Romeo\", 2), ('Jessie J', 2), ('Squeeze', 2), ('Fox', 2), ('Silvetti', 2), ('Zombie Nation', 2), ('Sarah Vaughan', 2), ('Katie Lopez', 0), ('Dido', 2), ('Ruff Endz', 2), ('Jung Tru', 0), ('The Hullaballoos', 2), ('Khalid', 2), ('LunchMoney Lewis', 2), ('Marc Anthony', 2), ('Fred Hughes', 2), ('Talk Talk', 2), ('The Statler Brothers', 2), ('Marilyn McCoo', 0), ('Webbie', 1), ('Gina G', 2), ('Regina Belle', 2), ('Santana', 2), ('The Metros', 2), ('The Jets', 2), ('Donna Summer', 2), ('The Mojo Men', 2), ('Hot Chocolate', 2), ('Peggy Scott', 0), ('Savage Garden', 2), ('CeCe Winans', 0), ('Big Poppa', 0), ('Madi Davis', 0), ('Eloise Laws', 2), ('Travie McCoy', 0), ('The Honeycombs', 2), ('Uncle Kracker', 2), ('kiLL edward', 0), ('Bon Iver', 0), ('Mr. Short Khop', 1), ('The Tremeloes', 2), ('Kool G Rap', 2), ('Vanessa Williams', 2), ('Al Corley', 2), ('A Flock Of Seagulls', 2), ('The Proclaimers', 2), ('Petey Pablo', 2), ('Billy Joel', 2), ('Clarence Carter', 2), ('Bruce Springsteen', 2), ('The Sunshine Company', 0), ('The Flying Lizards', 0), ('Houston', 0), ('Central Line', 0), ('Lauren Bennett', 0), ('Ryan Cabrera', 2), ('Dire Straits', 2), ('Mynt', 0), ('The Move', 2), ('Rome', 2), ('Pretenders', 2), ('Jonathan Butler', 2), ('TKA', 2), ('Mason Ramsey', 2), ('De La Soul', 0), ('Floyd Cramer', 0), ('Etta James', 2), ('Play-N-Skillz', 0), ('Fastball', 2), ('Tay-K', 2), ('Andy Grammer', 2), ('Brownstone', 2), ('Bruce Willis', 2), ('Tha Eastsidaz', 0), ('The Foundations', 2), ('Don Henley', 2), ('Philly Cream', 2), ('Hannah Jones', 0), ('The Mar-Keys', 0), ('Abaco Dream', 2), ('The Script', 2), ('Billy Lawrence', 2), ('Regina', 2), ('Laura Lee', 2), ('The Springfields', 0), ('Default', 2), ('Herb Alpert', 2), ('J-Shin', 0), ('Saraya', 2), ('Mary Travers', 2), ('NERO', 2), ('Hailee Steinfeld', 2), ('Melanie Martinez', 0), ('Ying Yang Twins', 2), ('The Courtship', 0), ('The Left Banke', 2), ('MercyMe', 2), ('Cissy Houston', 2), ('Fugees', 2), ('Changing Faces', 2), ('Sugarland', 2), ('Rufus Thomas', 2), ('The Fixx', 2), ('Dexys Midnight Runners', 0), (\"Enuff Z'Nuff\", 2), ('Nate Ruess', 2), ('The Blendells', 2), ('Exile', 2), ('MDMA', 0), ('Bobby Bloom', 2), ('Sugar Pie DeSanto', 0), ('Toby Keith', 2), ('Voyce', 2), ('Scar', 0), ('Cerrone', 2), ('The Rivieras', 2), ('AJR', 2), ('The Belle Stars', 0), ('Spice Girls', 2), ('Blue Cheer', 2), ('Kris Kross', 2), ('Soul Survivors', 0), ('Aaron Hall', 2), ('Keak Da Sneak', 0), ('Procol Harum', 2), ('Kendrick Lamar', 2), ('ABBA', 2), ('Julian Cope', 2), ('Silver', 0), ('Hozier', 2), ('Vivian Green', 2), ('Van Zant', 2), (\"The Lovin' Spoonful\", 2), ('Siedah Garrett', 2), ('DragonForce', 2), ('Warren G', 3), ('Creedence Clearwater Revival', 2), ('Ashton Shepherd', 2), ('Randy Travis', 2), ('Craig Morgan', 2), ('The Dramatics', 2), ('Yung Berg', 0), ('Weezer', 2), ('British Lions', 2), ('Belouis Some', 2), ('Peabo Bryson', 2), ('The Wiseguys', 2), ('Billy Swan', 2), ('The Bangles', 2), ('Jon Secada', 2), ('Shop Boyz', 0), ('Freddie Jackson', 2), ('Nektar', 2), ('Johnny Adams', 2), ('Jamey Johnson', 2), ('AZ', 2), ('Carly Rae Jepsen', 2), ('The Knocks', 0), ('Rick Astley', 2), ('Johnny Paycheck', 2), ('Lumidee', 1), ('Bell', 0), ('Saga', 2), ('Melanie Fiona', 2), (\"Da Youngsta's\", 2), ('B*Witched', 2), ('Omarion', 3), ('Don Omar', 2), ('Robbie Nevil', 2), ('Clocks', 0), ('Mercedes', 0), ('Thin Lizzy', 2), ('Co', 0), ('Robin Trower', 2), ('Jaheim', 2), ('Make It Hot', 1), ('Devin Dawson', 0), ('The Spencer Davis Group', 2), ('DJ Miko', 2), ('The System', 2), ('gnash', 0), ('Beck', 2), ('Roger Whittaker', 2), ('Barbra Streisand', 2), ('Calvin Harris', 2), ('Solomon Burke', 2), ('Billy Idol', 2), ('Tower Of Power', 2), ('Ronnie Spector', 0), ('Howard Jones', 2), ('Javier', 2), ('Calloway', 2), ('Charlie Puth', 2), ('Beastie Boys', 2), ('Dem Franchize Boyz', 2), ('Wayne Newton', 2), ('Degrees Of Motion', 0), ('Puff Johnson', 2), ('Lisa Keith', 2), ('The Undisputed Truth', 2), ('The Gestures', 2), ('Slave', 2), ('Carl Anderson', 0), ('Donovan', 2), ('Lisette Melendez', 2), ('Kanye West', 8), ('Jim Jones', 2), ('Cherie', 2), ('Wednesday', 2), ('Collin Raye', 2), ('The Devotions', 2), ('Sly Fox', 2), ('Soft Cell', 2), ('Russ Ballard', 0), ('KBC Band', 2), ('Lila McCann', 2), ('Cupid', 2), ('Bob Geldof', 0), ('Debra Laws', 2), ('Master P', 2), ('The Shins', 2), ('Alpha Team', 0), ('El Coco', 2), ('Brandi Carlile', 0), ('Robert Goulet', 2), ('John Miles', 2), ('Fetty Wap', 2), ('Pied Piper', 0), ('Autry Inman', 0), ('Young Dolph', 0), ('Ann Wilson', 0), ('Emerson Drive', 2), ('Kissing The Pink', 2), ('Gene Simmons', 2), ('Sandie Shaw', 2), ('The Premiers', 0), ('Edwin Starr', 3), ('K. Michelle', 2), ('Jomanda', 2), ('O.C. Smith', 2), ('Sons Of Funk', 0), ('The Harden Trio', 2), ('Tears For Fears', 2), ('The American Breed', 2), ('Melba Montgomery', 2), ('O-Town', 2), ('Count Basie', 1), ('Kygo', 1), (\"Mother's Finest\", 2), ('Grandmaster Flash', 2), ('Carly Simon', 2), ('The Rascals', 2), ('Peter Wolf', 0), ('Kasenetz-Katz Singing Orchestral Circus', 2), ('Soulsister', 0), ('SZA', 2), ('Bubba Sparxxx', 2), ('Alisha', 0), ('Marsha', 0), ('DJ Khaled', 0), ('Martika', 2), ('Ugly Kid Joe', 2), ('Golden Earring', 2), ('Larry Carlton', 2), ('3LW', 2), ('Mack 10', 3), ('Billy Ray Cyrus', 2), ('Rusty Wier', 0), ('Emblem3', 0), ('Teddy Riley', 0), ('All Time Low', 2), ('Blue Mercedes', 2), ('Arcadia', 2), ('Willy William', 0), ('Tracie Spencer', 2), ('Nine Inch Nails', 2), ('Heart', 2), ('The Four Lads', 0), ('Rick James', 2), ('The Bubble Puppy', 0)]\n"
     ]
    }
   ],
   "source": [
    "degree = G.degree()\n",
    "print(\"Degree of nodes:\", degree)\n"
   ]
  },
  {
   "cell_type": "code",
   "execution_count": 111,
   "id": "3108ddef234b0d64",
   "metadata": {
    "collapsed": false,
    "ExecuteTime": {
     "end_time": "2024-02-26T12:28:43.416840700Z",
     "start_time": "2024-02-26T12:28:43.400843200Z"
    }
   },
   "outputs": [
    {
     "name": "stdout",
     "output_type": "stream",
     "text": [
      "Graph density: 0.00029803967780156666\n"
     ]
    }
   ],
   "source": [
    "density = nx.density(G)\n",
    "print(\"Graph density:\", density)\n"
   ]
  },
  {
   "cell_type": "markdown",
   "id": "a465cde15a932a7b",
   "metadata": {
    "collapsed": false
   },
   "source": [
    "## Calculate the Metrics\n"
   ]
  },
  {
   "cell_type": "code",
   "execution_count": 112,
   "id": "f603e13d5c0d8f63",
   "metadata": {
    "collapsed": false,
    "ExecuteTime": {
     "end_time": "2024-02-26T12:28:43.492839600Z",
     "start_time": "2024-02-26T12:28:43.418841300Z"
    }
   },
   "outputs": [
    {
     "data": {
      "text/plain": "\"for node, degree in G.degree():\\n    G.nodes[node]['degree'] = degree\\nfor node, degree in G.degree(weight='weight'):\\n    G.nodes[node]['weighted_degree'] = degree\\n\\n# (2) Distance (closeness and eccentricity)\\ncloseness = nx.closeness_centrality(G)\\nfor node, closeness_val in closeness.items():\\n    G.nodes[node]['closeness'] = closeness_val\\n\\n# Eccentricity is not defined for disconnected graphs, so we need to handle that\\nif nx.is_connected(G):\\n    eccentricity = nx.eccentricity(G)\\n    for node, eccentricity_val in eccentricity.items():\\n        G.nodes[node]['eccentricity'] = eccentricity_val\\n\\n# (3) Similarity (clustering coefficient)\\nclustering = nx.clustering(G)\\nfor node, clustering_val in clustering.items():\\n    G.nodes[node]['clustering'] = clustering_val\\n\\n# (4) Influence (betweenness and eigenvector)\\nbetweenness = nx.betweenness_centrality(G)\\nfor node, betweenness_val in betweenness.items():\\n    G.nodes[node]['betweenness'] = betweenness_val\\n\\neigenvector = nx.eigenvector_centrality(G)\\nfor node, eigenvector_val in eigenvector.items():\\n    G.nodes[node]['eigenvector'] = eigenvector_val\\n\""
     },
     "execution_count": 112,
     "metadata": {},
     "output_type": "execute_result"
    }
   ],
   "source": [
    "# (1) Interaction (degree and weighted degree)\n",
    "\"\"\"for node, degree in G.degree():\n",
    "    G.nodes[node]['degree'] = degree\n",
    "for node, degree in G.degree(weight='weight'):\n",
    "    G.nodes[node]['weighted_degree'] = degree\n",
    "\n",
    "# (2) Distance (closeness and eccentricity)\n",
    "closeness = nx.closeness_centrality(G)\n",
    "for node, closeness_val in closeness.items():\n",
    "    G.nodes[node]['closeness'] = closeness_val\n",
    "\n",
    "# Eccentricity is not defined for disconnected graphs, so we need to handle that\n",
    "if nx.is_connected(G):\n",
    "    eccentricity = nx.eccentricity(G)\n",
    "    for node, eccentricity_val in eccentricity.items():\n",
    "        G.nodes[node]['eccentricity'] = eccentricity_val\n",
    "\n",
    "# (3) Similarity (clustering coefficient)\n",
    "clustering = nx.clustering(G)\n",
    "for node, clustering_val in clustering.items():\n",
    "    G.nodes[node]['clustering'] = clustering_val\n",
    "\n",
    "# (4) Influence (betweenness and eigenvector)\n",
    "betweenness = nx.betweenness_centrality(G)\n",
    "for node, betweenness_val in betweenness.items():\n",
    "    G.nodes[node]['betweenness'] = betweenness_val\n",
    "\n",
    "eigenvector = nx.eigenvector_centrality(G)\n",
    "for node, eigenvector_val in eigenvector.items():\n",
    "    G.nodes[node]['eigenvector'] = eigenvector_val\n",
    "\"\"\""
   ]
  },
  {
   "cell_type": "markdown",
   "id": "b926ea6b5e9131f9",
   "metadata": {
    "collapsed": false
   },
   "source": [
    "## Clustering\n"
   ]
  },
  {
   "cell_type": "markdown",
   "id": "176a79cd3bbda3a4",
   "metadata": {
    "collapsed": false
   },
   "source": [
    "now try clustering based on metrics:"
   ]
  },
  {
   "cell_type": "code",
   "execution_count": 113,
   "id": "1fd08e2703d125ae",
   "metadata": {
    "collapsed": false,
    "ExecuteTime": {
     "end_time": "2024-02-26T12:28:43.506844400Z",
     "start_time": "2024-02-26T12:28:43.431842300Z"
    }
   },
   "outputs": [
    {
     "data": {
      "text/plain": "\"import pandas as pd\\n\\n# Assuming G is your NetworkX graph\\n\\n# Extract nodes and their attributes from the graph\\nnodes_with_attributes = [(node, G.nodes[node]) for node in G.nodes()]\\n\\n# Create a DataFrame from the nodes and their attributes\\ndf_nodes = pd.DataFrame(nodes_with_attributes, columns=['Node', 'Attributes'])\\n\\n# Normalize the 'Attributes' column to expand it into separate columns\\ndf_attributes = pd.json_normalize(df_nodes['Attributes'])\\n\\n# Combine the original 'Node' column with the expanded attributes\\ndf_nodes = pd.concat([df_nodes['Node'], df_attributes], axis=1)\\n\\n# Display the DataFrame\\ndf_nodes\""
     },
     "execution_count": 113,
     "metadata": {},
     "output_type": "execute_result"
    }
   ],
   "source": [
    "\"\"\"import pandas as pd\n",
    "\n",
    "# Assuming G is your NetworkX graph\n",
    "\n",
    "# Extract nodes and their attributes from the graph\n",
    "nodes_with_attributes = [(node, G.nodes[node]) for node in G.nodes()]\n",
    "\n",
    "# Create a DataFrame from the nodes and their attributes\n",
    "df_nodes = pd.DataFrame(nodes_with_attributes, columns=['Node', 'Attributes'])\n",
    "\n",
    "# Normalize the 'Attributes' column to expand it into separate columns\n",
    "df_attributes = pd.json_normalize(df_nodes['Attributes'])\n",
    "\n",
    "# Combine the original 'Node' column with the expanded attributes\n",
    "df_nodes = pd.concat([df_nodes['Node'], df_attributes], axis=1)\n",
    "\n",
    "# Display the DataFrame\n",
    "df_nodes\"\"\"\n"
   ]
  },
  {
   "cell_type": "code",
   "execution_count": 114,
   "outputs": [],
   "source": [
    "#df_attributes"
   ],
   "metadata": {
    "collapsed": false,
    "ExecuteTime": {
     "end_time": "2024-02-26T12:28:43.506844400Z",
     "start_time": "2024-02-26T12:28:43.448841400Z"
    }
   },
   "id": "9875ce348ca8fafd"
  },
  {
   "cell_type": "code",
   "execution_count": 126,
   "outputs": [
    {
     "data": {
      "text/plain": "      degree  weighted_degree  eccentricity  closeness_centrality  \\\n0          2              332             0                   0.0   \n1          2                8             0                   0.0   \n2          2               16             0                   0.0   \n3          2               40             0                   0.0   \n4          0                0             0                   0.0   \n...      ...              ...           ...                   ...   \n4877       2              120             0                   0.0   \n4878       2              796             0                   0.0   \n4879       0                0             0                   0.0   \n4880       2              178             0                   0.0   \n4881       0                0             0                   0.0   \n\n      harmonic_closeness_centrality  betweenness_centrality  modularity_class  \\\n0                               0.0                     0.0                 0   \n1                               0.0                     0.0                 0   \n2                               0.0                     0.0                 0   \n3                               0.0                     0.0                 0   \n4                               0.0                     0.0                 0   \n...                             ...                     ...               ...   \n4877                            0.0                     0.0                 0   \n4878                            0.0                     0.0                 0   \n4879                            0.0                     0.0                 0   \n4880                            0.0                     0.0                 0   \n4881                            0.0                     0.0                 0   \n\n      clustering  eigenvector_centrality  \n0            0.0                     1.0  \n1            0.0                     1.0  \n2            0.0                     1.0  \n3            0.0                     1.0  \n4            0.0                     1.0  \n...          ...                     ...  \n4877         0.0                     1.0  \n4878         0.0                     1.0  \n4879         0.0                     1.0  \n4880         0.0                     1.0  \n4881         0.0                     1.0  \n\n[4882 rows x 9 columns]",
      "text/html": "<div>\n<style scoped>\n    .dataframe tbody tr th:only-of-type {\n        vertical-align: middle;\n    }\n\n    .dataframe tbody tr th {\n        vertical-align: top;\n    }\n\n    .dataframe thead th {\n        text-align: right;\n    }\n</style>\n<table border=\"1\" class=\"dataframe\">\n  <thead>\n    <tr style=\"text-align: right;\">\n      <th></th>\n      <th>degree</th>\n      <th>weighted_degree</th>\n      <th>eccentricity</th>\n      <th>closeness_centrality</th>\n      <th>harmonic_closeness_centrality</th>\n      <th>betweenness_centrality</th>\n      <th>modularity_class</th>\n      <th>clustering</th>\n      <th>eigenvector_centrality</th>\n    </tr>\n  </thead>\n  <tbody>\n    <tr>\n      <th>0</th>\n      <td>2</td>\n      <td>332</td>\n      <td>0</td>\n      <td>0.0</td>\n      <td>0.0</td>\n      <td>0.0</td>\n      <td>0</td>\n      <td>0.0</td>\n      <td>1.0</td>\n    </tr>\n    <tr>\n      <th>1</th>\n      <td>2</td>\n      <td>8</td>\n      <td>0</td>\n      <td>0.0</td>\n      <td>0.0</td>\n      <td>0.0</td>\n      <td>0</td>\n      <td>0.0</td>\n      <td>1.0</td>\n    </tr>\n    <tr>\n      <th>2</th>\n      <td>2</td>\n      <td>16</td>\n      <td>0</td>\n      <td>0.0</td>\n      <td>0.0</td>\n      <td>0.0</td>\n      <td>0</td>\n      <td>0.0</td>\n      <td>1.0</td>\n    </tr>\n    <tr>\n      <th>3</th>\n      <td>2</td>\n      <td>40</td>\n      <td>0</td>\n      <td>0.0</td>\n      <td>0.0</td>\n      <td>0.0</td>\n      <td>0</td>\n      <td>0.0</td>\n      <td>1.0</td>\n    </tr>\n    <tr>\n      <th>4</th>\n      <td>0</td>\n      <td>0</td>\n      <td>0</td>\n      <td>0.0</td>\n      <td>0.0</td>\n      <td>0.0</td>\n      <td>0</td>\n      <td>0.0</td>\n      <td>1.0</td>\n    </tr>\n    <tr>\n      <th>...</th>\n      <td>...</td>\n      <td>...</td>\n      <td>...</td>\n      <td>...</td>\n      <td>...</td>\n      <td>...</td>\n      <td>...</td>\n      <td>...</td>\n      <td>...</td>\n    </tr>\n    <tr>\n      <th>4877</th>\n      <td>2</td>\n      <td>120</td>\n      <td>0</td>\n      <td>0.0</td>\n      <td>0.0</td>\n      <td>0.0</td>\n      <td>0</td>\n      <td>0.0</td>\n      <td>1.0</td>\n    </tr>\n    <tr>\n      <th>4878</th>\n      <td>2</td>\n      <td>796</td>\n      <td>0</td>\n      <td>0.0</td>\n      <td>0.0</td>\n      <td>0.0</td>\n      <td>0</td>\n      <td>0.0</td>\n      <td>1.0</td>\n    </tr>\n    <tr>\n      <th>4879</th>\n      <td>0</td>\n      <td>0</td>\n      <td>0</td>\n      <td>0.0</td>\n      <td>0.0</td>\n      <td>0.0</td>\n      <td>0</td>\n      <td>0.0</td>\n      <td>1.0</td>\n    </tr>\n    <tr>\n      <th>4880</th>\n      <td>2</td>\n      <td>178</td>\n      <td>0</td>\n      <td>0.0</td>\n      <td>0.0</td>\n      <td>0.0</td>\n      <td>0</td>\n      <td>0.0</td>\n      <td>1.0</td>\n    </tr>\n    <tr>\n      <th>4881</th>\n      <td>0</td>\n      <td>0</td>\n      <td>0</td>\n      <td>0.0</td>\n      <td>0.0</td>\n      <td>0.0</td>\n      <td>0</td>\n      <td>0.0</td>\n      <td>1.0</td>\n    </tr>\n  </tbody>\n</table>\n<p>4882 rows × 9 columns</p>\n</div>"
     },
     "execution_count": 126,
     "metadata": {},
     "output_type": "execute_result"
    }
   ],
   "source": [
    "import pandas as pd\n",
    "import community\n",
    "\n",
    "# Get all connected components\n",
    "connected_components = nx.connected_components(G)\n",
    "\n",
    "df = pd.DataFrame()\n",
    "\n",
    "# For each connected component\n",
    "for cc in connected_components:\n",
    "    # Create a subgraph of G consisting only of this component\n",
    "    Gc = G.subgraph(cc).copy()\n",
    "\n",
    "    # Calculate metrics for this component\n",
    "    degree = dict(Gc.degree())\n",
    "    weighted_degree = dict(Gc.degree(weight='weight'))\n",
    "    eccentricity = nx.eccentricity(Gc)\n",
    "    closeness_centrality = nx.closeness_centrality(Gc)\n",
    "    harmonic_closeness_centrality = nx.harmonic_centrality(Gc)\n",
    "    betweenness_centrality = nx.betweenness_centrality(Gc)\n",
    "    partition = community.best_partition(Gc)\n",
    "    modularity_class = dict(partition)\n",
    "    clustering = nx.clustering(Gc)\n",
    "    eigenvector_centrality = nx.eigenvector_centrality(Gc)\n",
    "\n",
    "    # Create a DataFrame for this component\n",
    "    df_component = pd.DataFrame({\n",
    "        'degree': pd.Series(degree),\n",
    "        'weighted_degree': pd.Series(weighted_degree),\n",
    "        'eccentricity': pd.Series(eccentricity),\n",
    "        'closeness_centrality': pd.Series(closeness_centrality),\n",
    "        'harmonic_closeness_centrality': pd.Series(harmonic_closeness_centrality),\n",
    "        'betweenness_centrality': pd.Series(betweenness_centrality),\n",
    "        'modularity_class': pd.Series(modularity_class),\n",
    "        'clustering': pd.Series(clustering),\n",
    "        'eigenvector_centrality': pd.Series(eigenvector_centrality)\n",
    "    })\n",
    "\n",
    "    df = pd.concat([df, df_component], axis=0)\n",
    "\n",
    "    df.reset_index(drop=True, inplace=True)\n",
    "\n",
    "# Save DataFrame to a csv file\n",
    "#df.to_csv('network_metrics.csv', index=True)\n",
    "df"
   ],
   "metadata": {
    "collapsed": false,
    "ExecuteTime": {
     "end_time": "2024-02-26T12:53:34.569228200Z",
     "start_time": "2024-02-26T12:53:22.276952600Z"
    }
   },
   "id": "894580ca406b914"
  },
  {
   "cell_type": "code",
   "execution_count": 127,
   "outputs": [
    {
     "data": {
      "text/plain": "degree                              8.000000\nweighted_degree                  1615.000000\neccentricity                       15.000000\ncloseness_centrality                1.000000\nharmonic_closeness_centrality      16.016667\nbetweenness_centrality              1.000000\nmodularity_class                   12.000000\nclustering                          1.000000\neigenvector_centrality              1.000000\ndtype: float64"
     },
     "execution_count": 127,
     "metadata": {},
     "output_type": "execute_result"
    }
   ],
   "source": [
    "df.max()"
   ],
   "metadata": {
    "collapsed": false,
    "ExecuteTime": {
     "end_time": "2024-02-26T13:02:27.993863300Z",
     "start_time": "2024-02-26T13:02:27.977866Z"
    }
   },
   "id": "fe732d08e6af576"
  },
  {
   "cell_type": "code",
   "execution_count": 130,
   "outputs": [
    {
     "data": {
      "text/plain": "<Figure size 1500x500 with 9 Axes>",
      "image/png": "[encoded data removed]"
     },
     "metadata": {},
     "output_type": "display_data"
    }
   ],
   "source": [
    "# Create subplots\n",
    "fig, axes = plt.subplots(nrows=1, ncols=len(df.columns), figsize=(15, 5))\n",
    "\n",
    "# Plot boxplots for each column\n",
    "for i, column in enumerate(df.columns):\n",
    "    df[column].plot(kind='box', ax=axes[i])\n",
    "    axes[i].set_title(column)\n",
    "\n",
    "plt.tight_layout()\n",
    "plt.show()\n"
   ],
   "metadata": {
    "collapsed": false,
    "ExecuteTime": {
     "end_time": "2024-02-26T13:14:49.790198900Z",
     "start_time": "2024-02-26T13:14:48.532200500Z"
    }
   },
   "id": "97d297fd3ee4d4a4"
  },
  {
   "cell_type": "markdown",
   "source": [
    "take a look at betweenness_centrality"
   ],
   "metadata": {
    "collapsed": false
   },
   "id": "b1161a78de09d257"
  },
  {
   "cell_type": "markdown",
   "id": "28230451d530a6a4",
   "metadata": {
    "collapsed": false
   },
   "source": [
    "normalize:"
   ]
  },
  {
   "cell_type": "code",
   "execution_count": null,
   "id": "cc9dac0f54e92674",
   "metadata": {
    "collapsed": false,
    "ExecuteTime": {
     "start_time": "2024-02-26T12:29:02.967841200Z"
    }
   },
   "outputs": [],
   "source": [
    "from sklearn.preprocessing import MinMaxScaler\n",
    "\n",
    "# Assuming df_nodes is your DataFrame\n",
    "# Select only the columns to be normalized\n",
    "columns_to_normalize = df_nodes.columns[5:]  # Exclude the first and last columns\n",
    "data_to_normalize = df_nodes[columns_to_normalize]\n",
    "\n",
    "# Initialize MinMaxScaler\n",
    "scaler = MinMaxScaler()\n",
    "\n",
    "# Fit and transform the data\n",
    "normalized_data = scaler.fit_transform(data_to_normalize)\n",
    "\n",
    "# Replace the original data with the normalized values\n",
    "df_nodes_norm = df_nodes.copy()\n",
    "df_nodes_norm[columns_to_normalize] = normalized_data\n",
    "\n",
    "# Print the updated DataFrame\n",
    "df_nodes_norm\n"
   ]
  },
  {
   "cell_type": "code",
   "execution_count": null,
   "id": "3d4e01f53b72db10",
   "metadata": {
    "collapsed": false,
    "ExecuteTime": {
     "end_time": "2024-02-26T12:29:02.981842100Z",
     "start_time": "2024-02-26T12:29:02.969842Z"
    }
   },
   "outputs": [],
   "source": [
    "#print max value for each coloumn\n",
    "print(\"max values:\")\n",
    "print(df_nodes.iloc[:,5:].max())\n",
    "print(df_nodes_norm.iloc[:,5:].max())\n",
    "\n",
    "#print min value for each coloumn\n",
    "print()\n",
    "print(\"min values:\")\n",
    "print(df_nodes.iloc[:,5:].min())\n",
    "print(df_nodes_norm.iloc[:,5:].min())"
   ]
  },
  {
   "cell_type": "code",
   "execution_count": null,
   "id": "c8547624cd7e138e",
   "metadata": {
    "collapsed": false,
    "ExecuteTime": {
     "start_time": "2024-02-26T12:29:02.971842400Z"
    }
   },
   "outputs": [],
   "source": [
    "import pandas as pd\n",
    "import networkx as nx\n",
    "import matplotlib.pyplot as plt\n",
    "from sklearn.cluster import KMeans\n",
    "from sklearn.metrics import pairwise_distances\n",
    "import numpy as np\n",
    "\n",
    "# Assuming df is your DataFrame with node attributes and edge attributes added\n",
    "\n",
    "# Convert the DataFrame to a sparse adjacency matrix\n",
    "A_dense = pairwise_distances(df_nodes_norm.iloc[:,5:], metric='euclidean')\n",
    "\n",
    "# Apply Louvain community detection algorithm to detect communities (if needed)\n",
    "# You may need to find an alternative community detection algorithm for DataFrame-based graphs\n",
    "\n",
    "# Calculate the modularity for different values of k\n",
    "k_values = range(1, 11)  # Adjust the range as needed\n",
    "inertias = []\n",
    "\n",
    "amount_k = len(k_values)\n",
    "for k in k_values:\n",
    "    print(f'{k}/{amount_k}')\n",
    "    kmeans = KMeans(n_clusters=k)\n",
    "    kmeans.fit(A_dense)\n",
    "    inertia = kmeans.inertia_\n",
    "    inertias.append(inertia)\n",
    "\n",
    "# Plot the elbow curve\n",
    "plt.plot(k_values, inertias, marker='o')\n",
    "plt.xlabel('Number of clusters (k)')\n",
    "plt.ylabel('Inertia')\n",
    "plt.title('Elbow Method for Optimal Number of Clusters')\n",
    "plt.grid(True)\n",
    "plt.show()\n"
   ]
  },
  {
   "cell_type": "code",
   "execution_count": null,
   "id": "4b13e8bf4d3c834d",
   "metadata": {
    "collapsed": false,
    "ExecuteTime": {
     "start_time": "2024-02-26T12:29:02.972843100Z"
    }
   },
   "outputs": [],
   "source": [
    "import pandas as pd\n",
    "import networkx as nx\n",
    "import matplotlib.pyplot as plt\n",
    "from sklearn.cluster import KMeans\n",
    "from sklearn.metrics import pairwise_distances\n",
    "import numpy as np\n",
    "\n",
    "# Assuming df is your DataFrame with node attributes and edge attributes added\n",
    "\n",
    "# Convert the DataFrame to a sparse adjacency matrix\n",
    "#A_dense = pairwise_distances(df_nodes.drop(columns=['Node']), metric='euclidean')\n",
    "A_dense = df_nodes_norm.iloc[:,5:]\n",
    "\n",
    "# Apply Louvain community detection algorithm to detect communities (if needed)\n",
    "# You may need to find an alternative community detection algorithm for DataFrame-based graphs\n",
    "\n",
    "# Calculate the modularity for different values of k\n",
    "k_values = range(1, 11)  # Adjust the range as needed\n",
    "inertias = []\n",
    "\n",
    "amount_k = len(k_values)\n",
    "for k in k_values:\n",
    "    print(f'{k}/{amount_k}')\n",
    "    kmeans = KMeans(n_clusters=k)\n",
    "    kmeans.fit(A_dense)\n",
    "    inertia = kmeans.inertia_\n",
    "    inertias.append(inertia)\n",
    "\n",
    "# Plot the elbow curve\n",
    "plt.plot(k_values, inertias, marker='o')\n",
    "plt.xlabel('Number of clusters (k)')\n",
    "plt.ylabel('Inertia')\n",
    "plt.title('Elbow Method for Optimal Number of Clusters')\n",
    "plt.grid(True)\n",
    "plt.show()\n"
   ]
  },
  {
   "cell_type": "markdown",
   "id": "b52fe0307aa86161",
   "metadata": {
    "collapsed": false
   },
   "source": [
    "for unnormalized the results were 3"
   ]
  },
  {
   "cell_type": "code",
   "execution_count": null,
   "id": "b71b6c45eb23bcd8",
   "metadata": {
    "collapsed": false,
    "ExecuteTime": {
     "start_time": "2024-02-26T12:29:02.974845Z"
    }
   },
   "outputs": [],
   "source": [
    "from sklearn.cluster import KMeans\n",
    "\n",
    "# Assuming df_nodes is your DataFrame containing node attributes\n",
    "\n",
    "# Extract the features (attributes) from the DataFrame\n",
    "X = df_nodes_norm.iloc[:,5:]\n",
    "\n",
    "# Specify the number of clusters (k)\n",
    "k = 4  # Adjust as needed\n",
    "\n",
    "# Initialize KMeans model\n",
    "kmeans = KMeans(n_clusters=k)\n",
    "\n",
    "# Fit the model to the data\n",
    "kmeans.fit(X)\n",
    "\n",
    "# Get the cluster labels\n",
    "cluster_labels = kmeans.labels_\n",
    "\n",
    "# Add cluster labels as a new column in the DataFrame\n",
    "df_nodes['Cluster'] = cluster_labels\n",
    "df_nodes_norm['Cluster'] = cluster_labels\n",
    "\n",
    "# Display the DataFrame with cluster labels\n",
    "df_nodes\n"
   ]
  },
  {
   "cell_type": "code",
   "execution_count": null,
   "id": "8680c80a77d6177d",
   "metadata": {
    "collapsed": false,
    "ExecuteTime": {
     "start_time": "2024-02-26T12:29:02.976841100Z"
    }
   },
   "outputs": [],
   "source": [
    "# Assuming df_nodes is your DataFrame with cluster labels\n",
    "\n",
    "# Calculate the cardinality of each cluster\n",
    "cluster_cardinality = df_nodes_norm['Cluster'].value_counts()\n",
    "\n",
    "# Display the cardinality of each cluster\n",
    "print(cluster_cardinality)\n"
   ]
  },
  {
   "cell_type": "code",
   "execution_count": null,
   "id": "3749069934c9ce05",
   "metadata": {
    "collapsed": false,
    "ExecuteTime": {
     "start_time": "2024-02-26T12:29:02.978843Z"
    }
   },
   "outputs": [],
   "source": [
    "##Dimensional reduction:\n",
    "\n",
    "import pandas as pd\n",
    "from sklearn.decomposition import PCA\n",
    "\n",
    "# Assuming df is your DataFrame\n",
    "\n",
    "# Omit the first and last columns\n",
    "X = df_nodes_norm.iloc[:,5:-1]\n",
    "\n",
    "# Initialize PCA with 2 components\n",
    "pca = PCA(n_components=2)\n",
    "\n",
    "# Fit and transform the data\n",
    "X_2d = pca.fit_transform(X)\n",
    "\n",
    "# Convert the result to a DataFrame\n",
    "df_2d = pd.DataFrame(X_2d, columns=['Component 1', 'Component 2'])\n",
    "\n",
    "# Display the resulting DataFrame\n",
    "df_2d[\"Node\"] = df_nodes[\"Node\"]\n",
    "df_2d[\"Cluster\"] = df_nodes[\"Cluster\"]\n",
    "df_2d"
   ]
  },
  {
   "cell_type": "code",
   "execution_count": null,
   "id": "4d5972d313887145",
   "metadata": {
    "collapsed": false,
    "ExecuteTime": {
     "start_time": "2024-02-26T12:29:02.980843100Z"
    }
   },
   "outputs": [],
   "source": [
    "import matplotlib.pyplot as plt\n",
    "\n",
    "# Assuming df_nodes is your DataFrame with cluster labels\n",
    "\n",
    "# Plot the clusters in a scatter plot\n",
    "plt.figure(figsize=(8, 6))\n",
    "\n",
    "# Iterate over unique cluster labels\n",
    "for cluster_label in df_2d['Cluster'].unique():\n",
    "    # Filter the DataFrame for nodes in the current cluster\n",
    "    df_cluster = df_2d[df_2d['Cluster'] == cluster_label]\n",
    "    # Plot the nodes in the cluster\n",
    "    plt.scatter(df_cluster[\"Component 1\"], df_cluster[\"Component 2\"], s=1, label=f'Cluster {cluster_label}')\n",
    "\n",
    "# Add labels and title\n",
    "plt.xlabel('Attribute1')\n",
    "plt.ylabel('Attribute2')\n",
    "plt.title('Clusters Visualization')\n",
    "\n",
    "# Add legend\n",
    "plt.legend()\n",
    "\n",
    "# Show plot\n",
    "plt.show()\n"
   ]
  },
  {
   "cell_type": "code",
   "execution_count": null,
   "outputs": [],
   "source": [
    "radar_df = df_nodes_norm.copy()\n",
    "features = radar_df.columns[5:-1]\n",
    "print((features))\n",
    "for feature in features:\n",
    "    radar_df[feature] = (radar_df[feature] >= 0.5).astype(int)\n",
    "    \n",
    "radar_df"
   ],
   "metadata": {
    "collapsed": false,
    "ExecuteTime": {
     "end_time": "2024-02-26T12:29:02.982843600Z",
     "start_time": "2024-02-26T12:29:02.981842100Z"
    }
   },
   "id": "18bedd83a2421160"
  },
  {
   "cell_type": "code",
   "execution_count": null,
   "id": "5beae62c65cd64e3",
   "metadata": {
    "collapsed": false,
    "ExecuteTime": {
     "start_time": "2024-02-26T12:29:02.983843400Z"
    }
   },
   "outputs": [],
   "source": [
    "import numpy as np\n",
    "import matplotlib.pyplot as plt\n",
    "\n",
    "#for radar charts values to 1 if 0.5 or higher, rest to 0?\n",
    "#######Profiles?##########\n",
    "\n",
    "# Define the attributes for the radar chart\n",
    "attributes = radar_df.iloc[:,5:-1].columns.tolist()\n",
    "\n",
    "# Define the theta values (angles) for each attribute\n",
    "theta = np.linspace(0, 2 * np.pi, len(attributes), endpoint=False)\n",
    "\n",
    "# Iterate over each unique cluster label\n",
    "for cluster_label in radar_df['Cluster'].unique():\n",
    "    # Create a figure and add a subplot with polar projection for each cluster\n",
    "    fig, ax = plt.subplots(figsize=(8, 8), subplot_kw=dict(polar=True))\n",
    "\n",
    "    # Filter the DataFrame for the current cluster\n",
    "    cluster_data = radar_df[radar_df['Cluster'] == cluster_label]\n",
    "\n",
    "    # Get attribute values for the current cluster\n",
    "    values = cluster_data.iloc[:,5:-1].mean(axis=0).tolist()\n",
    "\n",
    "    # Repeat the first value to close the plot\n",
    "    #values += values[:1]\n",
    "\n",
    "    # Plot the radar chart\n",
    "    ax.fill(theta, values, color='blue', alpha=0.25)\n",
    "    ax.plot(theta, values, color='blue', linewidth=2)\n",
    "\n",
    "    # Set the labels for each attribute\n",
    "    ax.set_xticks(theta)\n",
    "    ax.set_xticklabels(attributes)\n",
    "\n",
    "    # Set the title for the radar chart\n",
    "    ax.set_title(f'Cluster {cluster_label} Radar Chart')\n",
    "\n",
    "    # Show plot\n",
    "    plt.show()\n"
   ]
  },
  {
   "cell_type": "markdown",
   "id": "69b25725b2ec7116",
   "metadata": {
    "collapsed": false
   },
   "source": []
  },
  {
   "cell_type": "markdown",
   "id": "8d8df6e2c27292c7",
   "metadata": {
    "collapsed": false
   },
   "source": [
    "all makes more sense for not norm? \n",
    "=> take a look at init of graph and change?\n",
    "=> not really successsfull\n"
   ]
  },
  {
   "cell_type": "code",
   "execution_count": null,
   "outputs": [],
   "source": [
    "import seaborn as sns\n",
    "\n",
    "# Compute Spearman's correlation matrix\n",
    "corr_matrix = radar_df.iloc[:,5:].corr(method='spearman')\n",
    "\n",
    "# Plot the correlation matrix as a heatmap\n",
    "plt.figure(figsize=(10, 8))\n",
    "sns.heatmap(corr_matrix, annot=True, cmap='RdBu', fmt=\".2f\", linewidths=0.5)\n",
    "plt.title(\"Spearman's Correlation Matrix\")\n",
    "plt.show()\n"
   ],
   "metadata": {
    "collapsed": false,
    "ExecuteTime": {
     "end_time": "2024-02-26T12:29:03.024840Z",
     "start_time": "2024-02-26T12:29:02.985843400Z"
    }
   },
   "id": "7c63caff0cd0bfd8"
  },
  {
   "cell_type": "markdown",
   "source": [
    "=> pca(5) then clustering?\n",
    "\n",
    "ziemlich unterschiedlich zur vorlage???\n",
    "versuche exakte Nachimplementierung"
   ],
   "metadata": {
    "collapsed": false
   },
   "id": "5bfae0ded6daf58d"
  },
  {
   "cell_type": "code",
   "execution_count": null,
   "outputs": [],
   "source": [
    "# Plot boxplots for followers and popularity per cluster\n",
    "plt.figure(figsize=(10, 5))\n",
    "\n",
    "# Boxplot for followers per cluster\n",
    "plt.subplot(1, 2, 1)\n",
    "sns.boxplot(x='Cluster', y='followers', data=df_nodes_norm)\n",
    "plt.ylim(0, 30000000)\n",
    "plt.title('Followers per Cluster')\n",
    "\n",
    "# Boxplot for popularity per cluster\n",
    "plt.subplot(1, 2, 2)\n",
    "sns.boxplot(x='Cluster', y='popularity', data=df_nodes_norm)\n",
    "plt.title('Popularity per Cluster')\n",
    "\n",
    "plt.tight_layout()\n",
    "plt.show()"
   ],
   "metadata": {
    "collapsed": false,
    "ExecuteTime": {
     "start_time": "2024-02-26T12:29:02.986843600Z"
    }
   },
   "id": "f50f4cbf4e52766c"
  },
  {
   "cell_type": "markdown",
   "source": [
    "Abgrenzung ist nicht ganz so stark, allerdings dennoch substantiell, dies liegt vermutlich daran, dass wir alle genommen haben.\n",
    "\n",
    "evtl Versuch nur als erfolgreich definierte zu nehmen.\n",
    "\n",
    "Abgrenzung ist grundsätzlich nicht so stark für unnormalisiert, näher an Paper"
   ],
   "metadata": {
    "collapsed": false
   },
   "id": "8f1ae88b2acbda42"
  },
  {
   "cell_type": "markdown",
   "source": [
    "## Density based Clustering:"
   ],
   "metadata": {
    "collapsed": false
   },
   "id": "94a0304162ff3c8f"
  },
  {
   "cell_type": "code",
   "execution_count": null,
   "outputs": [],
   "source": [
    "df_nodes_norm"
   ],
   "metadata": {
    "collapsed": false,
    "ExecuteTime": {
     "start_time": "2024-02-26T12:29:02.988841900Z"
    }
   },
   "id": "194940bad1fbe7ad"
  },
  {
   "cell_type": "code",
   "execution_count": null,
   "outputs": [],
   "source": [
    "from sklearn.cluster import DBSCAN\n",
    "\n",
    "# Assuming df_nodes is your DataFrame containing node attributes\n",
    "\n",
    "# Extract the features (attributes) from the DataFrame\n",
    "X = df_nodes_norm.iloc[:, 5:-1]  # Assuming your features start from column index 5\n",
    "\n",
    "# Initialize DBSCAN model\n",
    "dbscan = DBSCAN(eps=0.5, min_samples=5)  # Adjust eps and min_samples as needed\n",
    "\n",
    "# Fit the model to the data\n",
    "dbscan.fit(X)\n",
    "\n",
    "# Get the cluster labels\n",
    "cluster_labels = dbscan.labels_\n",
    "\n",
    "# Add cluster labels as a new column in the DataFrame\n",
    "df_nodes['Cluster'] = cluster_labels\n",
    "df_nodes_norm['Cluster'] = cluster_labels\n",
    "\n",
    "# Display the DataFrame with cluster labels\n",
    "df_nodes\n"
   ],
   "metadata": {
    "collapsed": false,
    "ExecuteTime": {
     "start_time": "2024-02-26T12:29:02.989842100Z"
    }
   },
   "id": "5079457cf9a098d"
  },
  {
   "cell_type": "code",
   "execution_count": null,
   "outputs": [],
   "source": [
    "# Assuming df_nodes is your DataFrame with cluster labels\n",
    "\n",
    "# Calculate the cardinality of each cluster\n",
    "cluster_cardinality = df_nodes_norm['Cluster'].value_counts()\n",
    "\n",
    "# Display the cardinality of each cluster\n",
    "print(cluster_cardinality)\n"
   ],
   "metadata": {
    "collapsed": false,
    "ExecuteTime": {
     "start_time": "2024-02-26T12:29:02.991841400Z"
    }
   },
   "id": "b81750fb78d4991d"
  },
  {
   "cell_type": "code",
   "execution_count": null,
   "outputs": [],
   "source": [
    "##Dimensional reduction:\n",
    "\n",
    "import pandas as pd\n",
    "from sklearn.decomposition import PCA\n",
    "\n",
    "# Assuming df is your DataFrame\n",
    "\n",
    "# Omit the first and last columns\n",
    "X = df_nodes_norm.iloc[:,5:-1]\n",
    "\n",
    "# Initialize PCA with 2 components\n",
    "pca = PCA(n_components=2)\n",
    "\n",
    "# Fit and transform the data\n",
    "X_2d = pca.fit_transform(X)\n",
    "\n",
    "# Convert the result to a DataFrame\n",
    "df_2d = pd.DataFrame(X_2d, columns=['Component 1', 'Component 2'])\n",
    "\n",
    "# Display the resulting DataFrame\n",
    "df_2d[\"Node\"] = df_nodes[\"Node\"]\n",
    "df_2d[\"Cluster\"] = df_nodes[\"Cluster\"]\n",
    "df_2d"
   ],
   "metadata": {
    "collapsed": false,
    "ExecuteTime": {
     "start_time": "2024-02-26T12:29:02.992841800Z"
    }
   },
   "id": "25d06263dd261ec2"
  },
  {
   "cell_type": "code",
   "execution_count": null,
   "outputs": [],
   "source": [
    "import matplotlib.pyplot as plt\n",
    "\n",
    "# Assuming df_nodes is your DataFrame with cluster labels\n",
    "\n",
    "# Plot the clusters in a scatter plot\n",
    "plt.figure(figsize=(16, 12))\n",
    "\n",
    "# Iterate over unique cluster labels\n",
    "for cluster_label in df_2d['Cluster'].unique():\n",
    "    # Filter the DataFrame for nodes in the current cluster\n",
    "    df_cluster = df_2d[df_2d['Cluster'] == cluster_label]\n",
    "    # Plot the nodes in the cluster\n",
    "    plt.scatter(df_cluster[\"Component 1\"], df_cluster[\"Component 2\"], s=1, label=f'Cluster {cluster_label}')\n",
    "\n",
    "# Add labels and title\n",
    "plt.xlabel('Attribute1')\n",
    "plt.ylabel('Attribute2')\n",
    "plt.title('Clusters Visualization')\n",
    "\n",
    "# Add legend\n",
    "plt.legend()\n",
    "\n",
    "# Show plot\n",
    "plt.show()\n"
   ],
   "metadata": {
    "collapsed": false,
    "ExecuteTime": {
     "start_time": "2024-02-26T12:29:02.994840700Z"
    }
   },
   "id": "6163dbe782dbcf91"
  },
  {
   "cell_type": "code",
   "execution_count": null,
   "outputs": [],
   "source": [
    "import numpy as np\n",
    "import matplotlib.pyplot as plt\n",
    "\n",
    "# Define the attributes for the radar chart\n",
    "attributes = df_nodes_norm.iloc[:,5:-1].columns.tolist()\n",
    "\n",
    "# Define the theta values (angles) for each attribute\n",
    "theta = np.linspace(0, 2 * np.pi, len(attributes), endpoint=False)\n",
    "\n",
    "# Iterate over each unique cluster label\n",
    "for cluster_label in df_nodes_norm['Cluster'].unique():\n",
    "    # Create a figure and add a subplot with polar projection for each cluster\n",
    "    fig, ax = plt.subplots(figsize=(8, 8), subplot_kw=dict(polar=True))\n",
    "\n",
    "    # Filter the DataFrame for the current cluster\n",
    "    cluster_data = df_nodes_norm[df_nodes_norm['Cluster'] == cluster_label]\n",
    "\n",
    "    # Get attribute values for the current cluster\n",
    "    values = cluster_data.iloc[:,5:-1].mean(axis=0).tolist()\n",
    "\n",
    "    # Repeat the first value to close the plot\n",
    "    #values += values[:1]\n",
    "\n",
    "    # Plot the radar chart\n",
    "    ax.fill(theta, values, color='blue', alpha=0.25)\n",
    "    ax.plot(theta, values, color='blue', linewidth=2)\n",
    "\n",
    "    # Set the labels for each attribute\n",
    "    ax.set_xticks(theta)\n",
    "    ax.set_xticklabels(attributes)\n",
    "\n",
    "    # Set the title for the radar chart\n",
    "    ax.set_title(f'Cluster {cluster_label} Radar Chart')\n",
    "\n",
    "    # Show plot\n",
    "    plt.show()\n"
   ],
   "metadata": {
    "collapsed": false,
    "ExecuteTime": {
     "start_time": "2024-02-26T12:29:02.995840900Z"
    }
   },
   "id": "c7e7db32caaae391"
  },
  {
   "cell_type": "code",
   "execution_count": null,
   "outputs": [],
   "source": [
    "import seaborn as sns\n",
    "\n",
    "# Compute Spearman's correlation matrix\n",
    "corr_matrix = df_nodes.iloc[:,5:].corr(method='spearman') \n",
    "\n",
    "# Plot the correlation matrix as a heatmap\n",
    "plt.figure(figsize=(10, 8))\n",
    "sns.heatmap(corr_matrix, annot=True, cmap='RdBu', fmt=\".2f\", linewidths=0.5)\n",
    "plt.title(\"Spearman's Correlation Matrix\")\n",
    "plt.show()\n"
   ],
   "metadata": {
    "collapsed": false,
    "ExecuteTime": {
     "start_time": "2024-02-26T12:29:02.996841300Z"
    }
   },
   "id": "8958b583785d8004"
  },
  {
   "cell_type": "code",
   "execution_count": null,
   "outputs": [],
   "source": [
    "# Plot boxplots for followers and popularity per cluster\n",
    "plt.figure(figsize=(10, 5))\n",
    "\n",
    "# Boxplot for followers per cluster\n",
    "plt.subplot(1, 2, 1)\n",
    "sns.boxplot(x='Cluster', y='followers', data=df_nodes_norm)\n",
    "plt.title('Followers per Cluster')\n",
    "\n",
    "# Boxplot for popularity per cluster\n",
    "plt.subplot(1, 2, 2)\n",
    "sns.boxplot(x='Cluster', y='popularity', data=df_nodes_norm)\n",
    "plt.title('Popularity per Cluster')\n",
    "\n",
    "plt.tight_layout()\n",
    "plt.show()"
   ],
   "metadata": {
    "collapsed": false,
    "ExecuteTime": {
     "start_time": "2024-02-26T12:29:02.998840500Z"
    }
   },
   "id": "77d8a417b8c422ed"
  }
 ],
 "metadata": {
  "kernelspec": {
   "display_name": "Python 3",
   "language": "python",
   "name": "python3"
  },
  "language_info": {
   "codemirror_mode": {
    "name": "ipython",
    "version": 2
   },
   "file_extension": ".py",
   "mimetype": "text/x-python",
   "name": "python",
   "nbconvert_exporter": "python",
   "pygments_lexer": "ipython2",
   "version": "2.7.6"
  }
 },
 "nbformat": 4,
 "nbformat_minor": 5
}
